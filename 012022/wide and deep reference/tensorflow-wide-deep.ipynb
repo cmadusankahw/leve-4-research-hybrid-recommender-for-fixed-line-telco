{
 "cells": [
  {
   "cell_type": "code",
   "execution_count": 1,
   "id": "b6a4cdab",
   "metadata": {},
   "outputs": [],
   "source": [
    "import pandas as pd\n",
    "import platform\n",
    "import tensorflow as tf"
   ]
  },
  {
   "cell_type": "code",
   "execution_count": null,
   "id": "9e753268",
   "metadata": {},
   "outputs": [],
   "source": [
    "LABEL_COLUMN = 'label'\n",
    "NUMERIC_COLUMNS = [\n",
    "  'user_age',\n",
    "  'item_age',\n",
    "]\n",
    "CATEGORICAL_COLUMNS = [\n",
    "  'user_id',\n",
    "  'item_id',\n",
    "  'user_topic',\n",
    "  'item_topic',\n",
    "]\n",
    "HASH_BUCKET_SIZES = {\n",
    "  'user_id': 400,\n",
    "  'item_id': 2000,\n",
    "  'user_topic': 10,\n",
    "  'item_topic': 10,\n",
    "}\n",
    "EMBEDDING_DIMENSIONS = {\n",
    "    'user_id': 8,\n",
    "    'item_id': 16,\n",
    "    'user_topic': 3,\n",
    "    'item_topic': 3,\n",
    "}\n",
    " \n",
    "def get_wide_and_deep_columns():\n",
    "    wide_columns, deep_columns = [], []\n",
    "    \n",
    "    # embedding columns\n",
    "    for column_name in CATEGORICAL_COLUMNS:\n",
    "        categorical_column = tf.feature_column.categorical_column_with_identity(\n",
    "                              column_name, num_buckets=HASH_BUCKET_SIZES[column_name])\n",
    "        wrapped_column = tf.feature_column.embedding_column(\n",
    "                              categorical_column,\n",
    "                              dimension=EMBEDDING_DIMENSIONS[column_name],\n",
    "                              combiner='mean')\n",
    "        wide_columns.append(categorical_column)\n",
    "        deep_columns.append(wrapped_column)\n",
    "        \n",
    "    # age columns and cross columns\n",
    "    user_age = tf.feature_column.numeric_column(\"user_age\", shape=(1,), dtype=tf.float32)\n",
    "    item_age = tf.feature_column.numeric_column(\"item_age\", shape=(1,), dtype=tf.float32)       \n",
    "    user_age_buckets = tf.feature_column.bucketized_column(user_age, boundaries=[18, 35])\n",
    "    item_age_buckets = tf.feature_column.bucketized_column(item_age, boundaries=[18, 35])\n",
    "    age_crossed = tf.feature_column.crossed_column([user_age_buckets, item_age_buckets], 9)\n",
    "    wide_columns.extend([user_age_buckets, item_age_buckets, age_crossed])\n",
    "    deep_columns.extend([user_age, item_age])\n",
    "\n",
    "    # topic columns and cross columns\n",
    "    user_topic = tf.feature_column.categorical_column_with_identity(\n",
    "        \"user_topic\", num_buckets=HASH_BUCKET_SIZES[\"user_topic\"])\n",
    "    item_topic = tf.feature_column.categorical_column_with_identity(\n",
    "         \"item_topic\", num_buckets=HASH_BUCKET_SIZES[\"item_topic\"])       \n",
    "    topic_crossed = tf.feature_column.crossed_column([user_topic, item_topic], 30)\n",
    "    wide_columns.append(topic_crossed)\n",
    "    return wide_columns, deep_columns"
   ]
  },
  {
   "cell_type": "code",
   "execution_count": null,
   "id": "7366588b",
   "metadata": {},
   "outputs": [],
   "source": []
  },
  {
   "cell_type": "code",
   "execution_count": null,
   "id": "04a88592",
   "metadata": {},
   "outputs": [],
   "source": [
    "linear_model = LinearModel()\n",
    "dnn_model = keras.Sequential([keras.layers.Dense(units=64),\n",
    "                             keras.layers.Dense(units=1)])\n",
    "combined_model = WideDeepModel(linear_model, dnn_model)\n",
    "combined_model.compile(optimizer=['sgd', 'adam'], 'mse', ['mse'])\n",
    "# define dnn_inputs and linear_inputs as separate numpy arrays or\n",
    "# a single numpy array if dnn_inputs is same as linear_inputs.\n",
    "combined_model.fit([linear_inputs, dnn_inputs], y, epochs)\n",
    "# or define a single `tf.data.Dataset` that contains a single tensor or\n",
    "# separate tensors for dnn_inputs and linear_inputs.\n",
    "dataset = tf.data.Dataset.from_tensors(([linear_inputs, dnn_inputs], y))\n",
    "combined_model.fit(dataset, epochs)"
   ]
  },
  {
   "cell_type": "code",
   "execution_count": null,
   "id": "19580813",
   "metadata": {},
   "outputs": [],
   "source": [
    "linear_model = LinearModel()\n",
    "linear_model.compile('adagrad', 'mse')\n",
    "linear_model.fit(linear_inputs, y, epochs)\n",
    "dnn_model = keras.Sequential([keras.layers.Dense(units=1)])\n",
    "dnn_model.compile('rmsprop', 'mse')\n",
    "dnn_model.fit(dnn_inputs, y, epochs)\n",
    "combined_model = WideDeepModel(linear_model, dnn_model)\n",
    "combined_model.compile(optimizer=['sgd', 'adam'], 'mse', ['mse'])\n",
    "combined_model.fit([linear_inputs, dnn_inputs], y, epochs)"
   ]
  },
  {
   "cell_type": "code",
   "execution_count": null,
   "id": "50699dc6",
   "metadata": {},
   "outputs": [],
   "source": []
  },
  {
   "cell_type": "code",
   "execution_count": null,
   "id": "3204c8b4",
   "metadata": {},
   "outputs": [],
   "source": []
  }
 ],
 "metadata": {
  "kernelspec": {
   "display_name": "Python 3 (ipykernel)",
   "language": "python",
   "name": "python3"
  },
  "language_info": {
   "codemirror_mode": {
    "name": "ipython",
    "version": 3
   },
   "file_extension": ".py",
   "mimetype": "text/x-python",
   "name": "python",
   "nbconvert_exporter": "python",
   "pygments_lexer": "ipython3",
   "version": "3.8.12"
  }
 },
 "nbformat": 4,
 "nbformat_minor": 5
}
