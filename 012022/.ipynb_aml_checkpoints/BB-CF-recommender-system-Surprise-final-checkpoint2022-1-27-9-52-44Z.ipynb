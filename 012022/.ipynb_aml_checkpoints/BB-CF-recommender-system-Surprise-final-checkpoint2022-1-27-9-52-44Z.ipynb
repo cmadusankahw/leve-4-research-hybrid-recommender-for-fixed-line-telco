{
  "cells": [
    {
      "cell_type": "code",
      "source": [
        "# import libraries\n",
        "import numpy as np\n",
        "import pandas as pd\n",
        "import seaborn as sns\n",
        "import matplotlib.pyplot as plt\n",
        "from sklearn.metrics.pairwise import cosine_similarity\n",
        "from surprise import *\n",
        "from surprise import accuracy\n",
        "from surprise.model_selection import GridSearchCV\n",
        "from surprise.model_selection import cross_validate\n",
        "from surprise.model_selection import train_test_split\n",
        "from collections import defaultdict"
      ],
      "outputs": [],
      "execution_count": 28,
      "metadata": {
        "gather": {
          "logged": 1645955263254
        }
      }
    },
    {
      "cell_type": "code",
      "source": [
        "\n",
        "\n",
        "# import dataset\n",
        "data = pd.read_csv(\"data/up-selling/bb/bb_user_ratings.csv\")\n",
        "try:\n",
        "    data.drop([\"Unnamed: 0\"],axis=1,inplace=True)\n",
        "except:\n",
        "    pass\n",
        "data_pca = data[[\"ACCOUNT_NUM.hash\",\"package\",\"pca_ratings\"]].rename(columns={\"pca_ratings\":\"ratings\"})\n",
        "data_pca.dropna(subset=[\"ratings\"],inplace=True)\n",
        "data = data[[\"ACCOUNT_NUM.hash\",\"package\",\"ratings\"]]"
      ],
      "outputs": [],
      "execution_count": 29,
      "metadata": {
        "scrolled": true,
        "gather": {
          "logged": 1645955263387
        }
      }
    },
    {
      "cell_type": "code",
      "source": [
        "data.info()"
      ],
      "outputs": [
        {
          "output_type": "stream",
          "name": "stdout",
          "text": "<class 'pandas.core.frame.DataFrame'>\nRangeIndex: 67030 entries, 0 to 67029\nData columns (total 3 columns):\n #   Column            Non-Null Count  Dtype  \n---  ------            --------------  -----  \n 0   ACCOUNT_NUM.hash  67030 non-null  object \n 1   package           67030 non-null  object \n 2   ratings           67030 non-null  float64\ndtypes: float64(1), object(2)\nmemory usage: 1.5+ MB\n"
        }
      ],
      "execution_count": 30,
      "metadata": {
        "gather": {
          "logged": 1645955263487
        }
      }
    },
    {
      "cell_type": "code",
      "source": [
        "data_pca.info()"
      ],
      "outputs": [
        {
          "output_type": "stream",
          "name": "stdout",
          "text": "<class 'pandas.core.frame.DataFrame'>\nInt64Index: 25724 entries, 0 to 25723\nData columns (total 3 columns):\n #   Column            Non-Null Count  Dtype  \n---  ------            --------------  -----  \n 0   ACCOUNT_NUM.hash  25724 non-null  object \n 1   package           25724 non-null  object \n 2   ratings           25724 non-null  float64\ndtypes: float64(1), object(2)\nmemory usage: 803.9+ KB\n"
        }
      ],
      "execution_count": 31,
      "metadata": {
        "jupyter": {
          "source_hidden": false,
          "outputs_hidden": false
        },
        "nteract": {
          "transient": {
            "deleting": false
          }
        },
        "gather": {
          "logged": 1645955263702
        }
      }
    },
    {
      "cell_type": "markdown",
      "source": [
        "## Interaction Matrix"
      ],
      "metadata": {}
    },
    {
      "cell_type": "code",
      "source": [
        "# create a histogram of all the interactions by all the users present in the dataset\n",
        "def create_interaction_matrix(data):\n",
        "    interactions = data.groupby('ACCOUNT_NUM.hash').count()['package']\n",
        "    plt.hist(interactions,bins=20)\n",
        "    plt.show()\n",
        "\n",
        "    # create the user item matrix using the ratings dataset - Hint: try using pivot function \n",
        "    interactions_metrix = data.pivot_table(index=\"ACCOUNT_NUM.hash\", columns=\"package\", values=\"ratings\",aggfunc=np.sum)\n",
        "    # replace all the missing values with zero\n",
        "    return interactions_metrix.fillna(0)"
      ],
      "outputs": [],
      "execution_count": 32,
      "metadata": {
        "jupyter": {
          "source_hidden": false,
          "outputs_hidden": false
        },
        "nteract": {
          "transient": {
            "deleting": false
          }
        },
        "gather": {
          "logged": 1645955263770
        }
      }
    },
    {
      "cell_type": "code",
      "source": [
        "create_interaction_matrix(data)"
      ],
      "outputs": [
        {
          "output_type": "display_data",
          "data": {
            "text/plain": "<Figure size 432x288 with 1 Axes>",
            "image/png": "[encoded data removed]"
          },
          "metadata": {
            "needs_background": "light"
          }
        },
        {
          "output_type": "execute_result",
          "execution_count": 33,
          "data": {
            "text/plain": "package                           ANY BEAT  ANY BLAZE  ANY FLIX  ANY JOY  \\\nACCOUNT_NUM.hash                                                           \n000eee57a6c7a02c8aca8b410ea2e287       0.0        0.0       0.0    0.000   \n000f325a72b9d24742237070939b57d1       0.0        0.0       0.0    0.000   \n00103d1ae201c2ddb33b965f44f280b1       0.0        0.0       0.0    0.000   \n0011c1b02e2403c74c75ae8b5582e018       0.0        0.0       0.0    1.000   \n0012377a9a647a0119ba84158127ae8f       0.0        0.0       0.0    0.000   \n...                                    ...        ...       ...      ...   \nffe2bae6a0c7c4b20dec84f505cec1b3       0.0        0.0       0.0    0.000   \nffec2210afd448ef3cf76f20d6dc1814       0.0        0.0       0.0    1.125   \nffee4f0542d8f581b56b6b3dc7e2c178       0.0        0.0       0.0    0.000   \nfff45bfbbb99fe43c7ef3f2c0a7bb805       0.0        0.0       0.0    0.000   \nfffaeeddaabbd2868c183d8884b2a98d       0.0        0.0       0.0    0.000   \n\npackage                           ANY SPIKE  ANY STORM  ANY TIDE  \\\nACCOUNT_NUM.hash                                                   \n000eee57a6c7a02c8aca8b410ea2e287        0.0        0.0       0.0   \n000f325a72b9d24742237070939b57d1        0.0        0.0       0.0   \n00103d1ae201c2ddb33b965f44f280b1        0.0        0.0       0.0   \n0011c1b02e2403c74c75ae8b5582e018        0.0        0.0       0.0   \n0012377a9a647a0119ba84158127ae8f        0.0        0.0       0.0   \n...                                     ...        ...       ...   \nffe2bae6a0c7c4b20dec84f505cec1b3        0.0        0.0       0.0   \nffec2210afd448ef3cf76f20d6dc1814        0.0        0.0       0.0   \nffee4f0542d8f581b56b6b3dc7e2c178        0.0        0.0       0.0   \nfff45bfbbb99fe43c7ef3f2c0a7bb805        0.0        0.0       0.0   \nfffaeeddaabbd2868c183d8884b2a98d        0.0        0.0       0.0   \n\npackage                           BROADBAND EXPERIENCE  FTTH_ANY BLAZE  \\\nACCOUNT_NUM.hash                                                         \n000eee57a6c7a02c8aca8b410ea2e287                   0.0             0.0   \n000f325a72b9d24742237070939b57d1                   0.0             0.0   \n00103d1ae201c2ddb33b965f44f280b1                   0.0             0.0   \n0011c1b02e2403c74c75ae8b5582e018                   0.0             0.0   \n0012377a9a647a0119ba84158127ae8f                   0.0             0.0   \n...                                                ...             ...   \nffe2bae6a0c7c4b20dec84f505cec1b3                   0.0             0.0   \nffec2210afd448ef3cf76f20d6dc1814                   0.0             0.0   \nffee4f0542d8f581b56b6b3dc7e2c178                   0.0             0.0   \nfff45bfbbb99fe43c7ef3f2c0a7bb805                   0.0             0.0   \nfffaeeddaabbd2868c183d8884b2a98d                   0.0             0.0   \n\npackage                           FTTH_ANY DELIGHT  ...  WEB CHAMP  \\\nACCOUNT_NUM.hash                                    ...              \n000eee57a6c7a02c8aca8b410ea2e287               0.0  ...        0.0   \n000f325a72b9d24742237070939b57d1               0.0  ...        0.0   \n00103d1ae201c2ddb33b965f44f280b1               0.0  ...        0.0   \n0011c1b02e2403c74c75ae8b5582e018               0.0  ...        0.0   \n0012377a9a647a0119ba84158127ae8f               0.0  ...        0.0   \n...                                            ...  ...        ...   \nffe2bae6a0c7c4b20dec84f505cec1b3               0.0  ...        0.0   \nffec2210afd448ef3cf76f20d6dc1814               0.0  ...        0.0   \nffee4f0542d8f581b56b6b3dc7e2c178               0.0  ...        0.0   \nfff45bfbbb99fe43c7ef3f2c0a7bb805               0.0  ...        0.0   \nfffaeeddaabbd2868c183d8884b2a98d               0.0  ...        0.0   \n\npackage                           WEB FAMILY ACTIVE  WEB FAMILY PLUS  \\\nACCOUNT_NUM.hash                                                       \n000eee57a6c7a02c8aca8b410ea2e287                0.0              0.0   \n000f325a72b9d24742237070939b57d1                0.0              0.0   \n00103d1ae201c2ddb33b965f44f280b1                0.0              0.0   \n0011c1b02e2403c74c75ae8b5582e018                0.0              0.0   \n0012377a9a647a0119ba84158127ae8f                0.0              0.0   \n...                                             ...              ...   \nffe2bae6a0c7c4b20dec84f505cec1b3                0.0              0.0   \nffec2210afd448ef3cf76f20d6dc1814                0.0              0.0   \nffee4f0542d8f581b56b6b3dc7e2c178                0.0              0.0   \nfff45bfbbb99fe43c7ef3f2c0a7bb805                0.0              0.0   \nfffaeeddaabbd2868c183d8884b2a98d                0.0              0.0   \n\npackage                           WEB FAMILY XTRA  WEB LITE  WEB MASTER  \\\nACCOUNT_NUM.hash                                                          \n000eee57a6c7a02c8aca8b410ea2e287              0.0       0.0         0.0   \n000f325a72b9d24742237070939b57d1              0.0       0.0         0.0   \n00103d1ae201c2ddb33b965f44f280b1              0.0       0.0         0.0   \n0011c1b02e2403c74c75ae8b5582e018              0.0       1.0         0.0   \n0012377a9a647a0119ba84158127ae8f              0.0       0.0         0.0   \n...                                           ...       ...         ...   \nffe2bae6a0c7c4b20dec84f505cec1b3              0.0       0.0         0.0   \nffec2210afd448ef3cf76f20d6dc1814              0.0       0.0         0.0   \nffee4f0542d8f581b56b6b3dc7e2c178              0.0       0.0         0.0   \nfff45bfbbb99fe43c7ef3f2c0a7bb805              0.0       0.0         0.0   \nfffaeeddaabbd2868c183d8884b2a98d              0.0       0.0         0.0   \n\npackage                           WEB PAL  WEB PRO  WEB STARTER  XCITE  \nACCOUNT_NUM.hash                                                        \n000eee57a6c7a02c8aca8b410ea2e287      0.0      0.0       1.6875    0.0  \n000f325a72b9d24742237070939b57d1      0.0      0.0       0.9375    0.0  \n00103d1ae201c2ddb33b965f44f280b1      0.0      0.0       0.0000    0.0  \n0011c1b02e2403c74c75ae8b5582e018      0.0      0.0       0.0000    0.0  \n0012377a9a647a0119ba84158127ae8f      0.0      0.0       0.0000    0.0  \n...                                   ...      ...          ...    ...  \nffe2bae6a0c7c4b20dec84f505cec1b3      0.0      0.0       0.0000    0.0  \nffec2210afd448ef3cf76f20d6dc1814      0.0      0.0       0.0000    0.0  \nffee4f0542d8f581b56b6b3dc7e2c178      0.0      0.0       0.0000    0.0  \nfff45bfbbb99fe43c7ef3f2c0a7bb805      0.0      0.0       0.0000    0.0  \nfffaeeddaabbd2868c183d8884b2a98d      0.0      0.0       1.0625    0.0  \n\n[18250 rows x 58 columns]",
            "text/html": "<div>\n<style scoped>\n    .dataframe tbody tr th:only-of-type {\n        vertical-align: middle;\n    }\n\n    .dataframe tbody tr th {\n        vertical-align: top;\n    }\n\n    .dataframe thead th {\n        text-align: right;\n    }\n</style>\n<table border=\"1\" class=\"dataframe\">\n  <thead>\n    <tr style=\"text-align: right;\">\n      <th>package</th>\n      <th>ANY BEAT</th>\n      <th>ANY BLAZE</th>\n      <th>ANY FLIX</th>\n      <th>ANY JOY</th>\n      <th>ANY SPIKE</th>\n      <th>ANY STORM</th>\n      <th>ANY TIDE</th>\n      <th>BROADBAND EXPERIENCE</th>\n      <th>FTTH_ANY BLAZE</th>\n      <th>FTTH_ANY DELIGHT</th>\n      <th>...</th>\n      <th>WEB CHAMP</th>\n      <th>WEB FAMILY ACTIVE</th>\n      <th>WEB FAMILY PLUS</th>\n      <th>WEB FAMILY XTRA</th>\n      <th>WEB LITE</th>\n      <th>WEB MASTER</th>\n      <th>WEB PAL</th>\n      <th>WEB PRO</th>\n      <th>WEB STARTER</th>\n      <th>XCITE</th>\n    </tr>\n    <tr>\n      <th>ACCOUNT_NUM.hash</th>\n      <th></th>\n      <th></th>\n      <th></th>\n      <th></th>\n      <th></th>\n      <th></th>\n      <th></th>\n      <th></th>\n      <th></th>\n      <th></th>\n      <th></th>\n      <th></th>\n      <th></th>\n      <th></th>\n      <th></th>\n      <th></th>\n      <th></th>\n      <th></th>\n      <th></th>\n      <th></th>\n      <th></th>\n    </tr>\n  </thead>\n  <tbody>\n    <tr>\n      <th>000eee57a6c7a02c8aca8b410ea2e287</th>\n      <td>0.0</td>\n      <td>0.0</td>\n      <td>0.0</td>\n      <td>0.000</td>\n      <td>0.0</td>\n      <td>0.0</td>\n      <td>0.0</td>\n      <td>0.0</td>\n      <td>0.0</td>\n      <td>0.0</td>\n      <td>...</td>\n      <td>0.0</td>\n      <td>0.0</td>\n      <td>0.0</td>\n      <td>0.0</td>\n      <td>0.0</td>\n      <td>0.0</td>\n      <td>0.0</td>\n      <td>0.0</td>\n      <td>1.6875</td>\n      <td>0.0</td>\n    </tr>\n    <tr>\n      <th>000f325a72b9d24742237070939b57d1</th>\n      <td>0.0</td>\n      <td>0.0</td>\n      <td>0.0</td>\n      <td>0.000</td>\n      <td>0.0</td>\n      <td>0.0</td>\n      <td>0.0</td>\n      <td>0.0</td>\n      <td>0.0</td>\n      <td>0.0</td>\n      <td>...</td>\n      <td>0.0</td>\n      <td>0.0</td>\n      <td>0.0</td>\n      <td>0.0</td>\n      <td>0.0</td>\n      <td>0.0</td>\n      <td>0.0</td>\n      <td>0.0</td>\n      <td>0.9375</td>\n      <td>0.0</td>\n    </tr>\n    <tr>\n      <th>00103d1ae201c2ddb33b965f44f280b1</th>\n      <td>0.0</td>\n      <td>0.0</td>\n      <td>0.0</td>\n      <td>0.000</td>\n      <td>0.0</td>\n      <td>0.0</td>\n      <td>0.0</td>\n      <td>0.0</td>\n      <td>0.0</td>\n      <td>0.0</td>\n      <td>...</td>\n      <td>0.0</td>\n      <td>0.0</td>\n      <td>0.0</td>\n      <td>0.0</td>\n      <td>0.0</td>\n      <td>0.0</td>\n      <td>0.0</td>\n      <td>0.0</td>\n      <td>0.0000</td>\n      <td>0.0</td>\n    </tr>\n    <tr>\n      <th>0011c1b02e2403c74c75ae8b5582e018</th>\n      <td>0.0</td>\n      <td>0.0</td>\n      <td>0.0</td>\n      <td>1.000</td>\n      <td>0.0</td>\n      <td>0.0</td>\n      <td>0.0</td>\n      <td>0.0</td>\n      <td>0.0</td>\n      <td>0.0</td>\n      <td>...</td>\n      <td>0.0</td>\n      <td>0.0</td>\n      <td>0.0</td>\n      <td>0.0</td>\n      <td>1.0</td>\n      <td>0.0</td>\n      <td>0.0</td>\n      <td>0.0</td>\n      <td>0.0000</td>\n      <td>0.0</td>\n    </tr>\n    <tr>\n      <th>0012377a9a647a0119ba84158127ae8f</th>\n      <td>0.0</td>\n      <td>0.0</td>\n      <td>0.0</td>\n      <td>0.000</td>\n      <td>0.0</td>\n      <td>0.0</td>\n      <td>0.0</td>\n      <td>0.0</td>\n      <td>0.0</td>\n      <td>0.0</td>\n      <td>...</td>\n      <td>0.0</td>\n      <td>0.0</td>\n      <td>0.0</td>\n      <td>0.0</td>\n      <td>0.0</td>\n      <td>0.0</td>\n      <td>0.0</td>\n      <td>0.0</td>\n      <td>0.0000</td>\n      <td>0.0</td>\n    </tr>\n    <tr>\n      <th>...</th>\n      <td>...</td>\n      <td>...</td>\n      <td>...</td>\n      <td>...</td>\n      <td>...</td>\n      <td>...</td>\n      <td>...</td>\n      <td>...</td>\n      <td>...</td>\n      <td>...</td>\n      <td>...</td>\n      <td>...</td>\n      <td>...</td>\n      <td>...</td>\n      <td>...</td>\n      <td>...</td>\n      <td>...</td>\n      <td>...</td>\n      <td>...</td>\n      <td>...</td>\n      <td>...</td>\n    </tr>\n    <tr>\n      <th>ffe2bae6a0c7c4b20dec84f505cec1b3</th>\n      <td>0.0</td>\n      <td>0.0</td>\n      <td>0.0</td>\n      <td>0.000</td>\n      <td>0.0</td>\n      <td>0.0</td>\n      <td>0.0</td>\n      <td>0.0</td>\n      <td>0.0</td>\n      <td>0.0</td>\n      <td>...</td>\n      <td>0.0</td>\n      <td>0.0</td>\n      <td>0.0</td>\n      <td>0.0</td>\n      <td>0.0</td>\n      <td>0.0</td>\n      <td>0.0</td>\n      <td>0.0</td>\n      <td>0.0000</td>\n      <td>0.0</td>\n    </tr>\n    <tr>\n      <th>ffec2210afd448ef3cf76f20d6dc1814</th>\n      <td>0.0</td>\n      <td>0.0</td>\n      <td>0.0</td>\n      <td>1.125</td>\n      <td>0.0</td>\n      <td>0.0</td>\n      <td>0.0</td>\n      <td>0.0</td>\n      <td>0.0</td>\n      <td>0.0</td>\n      <td>...</td>\n      <td>0.0</td>\n      <td>0.0</td>\n      <td>0.0</td>\n      <td>0.0</td>\n      <td>0.0</td>\n      <td>0.0</td>\n      <td>0.0</td>\n      <td>0.0</td>\n      <td>0.0000</td>\n      <td>0.0</td>\n    </tr>\n    <tr>\n      <th>ffee4f0542d8f581b56b6b3dc7e2c178</th>\n      <td>0.0</td>\n      <td>0.0</td>\n      <td>0.0</td>\n      <td>0.000</td>\n      <td>0.0</td>\n      <td>0.0</td>\n      <td>0.0</td>\n      <td>0.0</td>\n      <td>0.0</td>\n      <td>0.0</td>\n      <td>...</td>\n      <td>0.0</td>\n      <td>0.0</td>\n      <td>0.0</td>\n      <td>0.0</td>\n      <td>0.0</td>\n      <td>0.0</td>\n      <td>0.0</td>\n      <td>0.0</td>\n      <td>0.0000</td>\n      <td>0.0</td>\n    </tr>\n    <tr>\n      <th>fff45bfbbb99fe43c7ef3f2c0a7bb805</th>\n      <td>0.0</td>\n      <td>0.0</td>\n      <td>0.0</td>\n      <td>0.000</td>\n      <td>0.0</td>\n      <td>0.0</td>\n      <td>0.0</td>\n      <td>0.0</td>\n      <td>0.0</td>\n      <td>0.0</td>\n      <td>...</td>\n      <td>0.0</td>\n      <td>0.0</td>\n      <td>0.0</td>\n      <td>0.0</td>\n      <td>0.0</td>\n      <td>0.0</td>\n      <td>0.0</td>\n      <td>0.0</td>\n      <td>0.0000</td>\n      <td>0.0</td>\n    </tr>\n    <tr>\n      <th>fffaeeddaabbd2868c183d8884b2a98d</th>\n      <td>0.0</td>\n      <td>0.0</td>\n      <td>0.0</td>\n      <td>0.000</td>\n      <td>0.0</td>\n      <td>0.0</td>\n      <td>0.0</td>\n      <td>0.0</td>\n      <td>0.0</td>\n      <td>0.0</td>\n      <td>...</td>\n      <td>0.0</td>\n      <td>0.0</td>\n      <td>0.0</td>\n      <td>0.0</td>\n      <td>0.0</td>\n      <td>0.0</td>\n      <td>0.0</td>\n      <td>0.0</td>\n      <td>1.0625</td>\n      <td>0.0</td>\n    </tr>\n  </tbody>\n</table>\n<p>18250 rows × 58 columns</p>\n</div>"
          },
          "metadata": {}
        }
      ],
      "execution_count": 33,
      "metadata": {
        "gather": {
          "logged": 1645955264004
        }
      }
    },
    {
      "cell_type": "code",
      "source": [
        "create_interaction_matrix(data_pca)"
      ],
      "outputs": [
        {
          "output_type": "display_data",
          "data": {
            "text/plain": "<Figure size 432x288 with 1 Axes>",
            "image/png": "[encoded data removed]"
          },
          "metadata": {
            "needs_background": "light"
          }
        },
        {
          "output_type": "execute_result",
          "execution_count": 34,
          "data": {
            "text/plain": "package                           ANY BEAT  ANY BLAZE  ANY FLIX   ANY JOY  \\\nACCOUNT_NUM.hash                                                            \n000f325a72b9d24742237070939b57d1       0.0        0.0       0.0  0.000000   \n0013519e648e9718c56e1e6ccfb3b17d       0.0        0.0       0.0  0.000000   \n001461eda095f55eb35ea34116af1598       0.0        0.0       0.0  0.000000   \n0017b4bec0c82391b1f8692cc2ed9777       0.0        0.0       0.0  0.000000   \n0024a31050a006edc3f0466dc5396f16       0.0        0.0       0.0  0.000000   \n...                                    ...        ...       ...       ...   \nffe2bae6a0c7c4b20dec84f505cec1b3       0.0        0.0       0.0  0.000000   \nffec2210afd448ef3cf76f20d6dc1814       0.0        0.0       0.0  2.192533   \nffee4f0542d8f581b56b6b3dc7e2c178       0.0        0.0       0.0  0.000000   \nfff45bfbbb99fe43c7ef3f2c0a7bb805       0.0        0.0       0.0  0.000000   \nfffaeeddaabbd2868c183d8884b2a98d       0.0        0.0       0.0  0.000000   \n\npackage                           ANY SPIKE  ANY STORM  ANY TIDE  \\\nACCOUNT_NUM.hash                                                   \n000f325a72b9d24742237070939b57d1        0.0        0.0       0.0   \n0013519e648e9718c56e1e6ccfb3b17d        0.0        0.0       0.0   \n001461eda095f55eb35ea34116af1598        0.0        0.0       0.0   \n0017b4bec0c82391b1f8692cc2ed9777        0.0        0.0       0.0   \n0024a31050a006edc3f0466dc5396f16        0.0        0.0       0.0   \n...                                     ...        ...       ...   \nffe2bae6a0c7c4b20dec84f505cec1b3        0.0        0.0       0.0   \nffec2210afd448ef3cf76f20d6dc1814        0.0        0.0       0.0   \nffee4f0542d8f581b56b6b3dc7e2c178        0.0        0.0       0.0   \nfff45bfbbb99fe43c7ef3f2c0a7bb805        0.0        0.0       0.0   \nfffaeeddaabbd2868c183d8884b2a98d        0.0        0.0       0.0   \n\npackage                           BROADBAND EXPERIENCE  FTTH_ANY BLAZE  \\\nACCOUNT_NUM.hash                                                         \n000f325a72b9d24742237070939b57d1                   0.0             0.0   \n0013519e648e9718c56e1e6ccfb3b17d                   0.0             0.0   \n001461eda095f55eb35ea34116af1598                   0.0             0.0   \n0017b4bec0c82391b1f8692cc2ed9777                   0.0             0.0   \n0024a31050a006edc3f0466dc5396f16                   0.0             0.0   \n...                                                ...             ...   \nffe2bae6a0c7c4b20dec84f505cec1b3                   0.0             0.0   \nffec2210afd448ef3cf76f20d6dc1814                   0.0             0.0   \nffee4f0542d8f581b56b6b3dc7e2c178                   0.0             0.0   \nfff45bfbbb99fe43c7ef3f2c0a7bb805                   0.0             0.0   \nfffaeeddaabbd2868c183d8884b2a98d                   0.0             0.0   \n\npackage                           FTTH_ANY DELIGHT  ...  VDSL_WEB FAMILY PLUS  \\\nACCOUNT_NUM.hash                                    ...                         \n000f325a72b9d24742237070939b57d1               0.0  ...                   0.0   \n0013519e648e9718c56e1e6ccfb3b17d               0.0  ...                   0.0   \n001461eda095f55eb35ea34116af1598               0.0  ...                   0.0   \n0017b4bec0c82391b1f8692cc2ed9777               0.0  ...                   0.0   \n0024a31050a006edc3f0466dc5396f16               0.0  ...                   0.0   \n...                                            ...  ...                   ...   \nffe2bae6a0c7c4b20dec84f505cec1b3               0.0  ...                   0.0   \nffec2210afd448ef3cf76f20d6dc1814               0.0  ...                   0.0   \nffee4f0542d8f581b56b6b3dc7e2c178               0.0  ...                   0.0   \nfff45bfbbb99fe43c7ef3f2c0a7bb805               0.0  ...                   0.0   \nfffaeeddaabbd2868c183d8884b2a98d               0.0  ...                   0.0   \n\npackage                           WEB BOOSTER  WEB FAMILY ACTIVE  \\\nACCOUNT_NUM.hash                                                   \n000f325a72b9d24742237070939b57d1          0.0                0.0   \n0013519e648e9718c56e1e6ccfb3b17d          0.0                0.0   \n001461eda095f55eb35ea34116af1598          0.0                0.0   \n0017b4bec0c82391b1f8692cc2ed9777          0.0                0.0   \n0024a31050a006edc3f0466dc5396f16          0.0                0.0   \n...                                       ...                ...   \nffe2bae6a0c7c4b20dec84f505cec1b3          0.0                0.0   \nffec2210afd448ef3cf76f20d6dc1814          0.0                0.0   \nffee4f0542d8f581b56b6b3dc7e2c178          0.0                0.0   \nfff45bfbbb99fe43c7ef3f2c0a7bb805          0.0                0.0   \nfffaeeddaabbd2868c183d8884b2a98d          0.0                0.0   \n\npackage                           WEB FAMILY PLUS  WEB FAMILY XTRA  WEB LITE  \\\nACCOUNT_NUM.hash                                                               \n000f325a72b9d24742237070939b57d1              0.0              0.0       0.0   \n0013519e648e9718c56e1e6ccfb3b17d              0.0              0.0       0.0   \n001461eda095f55eb35ea34116af1598              0.0              0.0       0.0   \n0017b4bec0c82391b1f8692cc2ed9777              0.0              0.0       0.0   \n0024a31050a006edc3f0466dc5396f16              0.0              0.0       0.0   \n...                                           ...              ...       ...   \nffe2bae6a0c7c4b20dec84f505cec1b3              0.0              0.0       0.0   \nffec2210afd448ef3cf76f20d6dc1814              0.0              0.0       0.0   \nffee4f0542d8f581b56b6b3dc7e2c178              0.0              0.0       0.0   \nfff45bfbbb99fe43c7ef3f2c0a7bb805              0.0              0.0       0.0   \nfffaeeddaabbd2868c183d8884b2a98d              0.0              0.0       0.0   \n\npackage                            WEB PAL  WEB PRO  WEB STARTER  XCITE  \nACCOUNT_NUM.hash                                                         \n000f325a72b9d24742237070939b57d1  0.000000      0.0     0.832006    0.0  \n0013519e648e9718c56e1e6ccfb3b17d  0.574361      0.0     0.000000    0.0  \n001461eda095f55eb35ea34116af1598  0.000000      0.0     0.000000    0.0  \n0017b4bec0c82391b1f8692cc2ed9777  0.000000      0.0     0.000000    0.0  \n0024a31050a006edc3f0466dc5396f16  0.000000      0.0     0.000000    0.0  \n...                                    ...      ...          ...    ...  \nffe2bae6a0c7c4b20dec84f505cec1b3  0.000000      0.0     0.000000    0.0  \nffec2210afd448ef3cf76f20d6dc1814  0.000000      0.0     0.000000    0.0  \nffee4f0542d8f581b56b6b3dc7e2c178  0.000000      0.0     0.000000    0.0  \nfff45bfbbb99fe43c7ef3f2c0a7bb805  0.000000      0.0     0.000000    0.0  \nfffaeeddaabbd2868c183d8884b2a98d  0.000000      0.0     1.213442    0.0  \n\n[7024 rows x 55 columns]",
            "text/html": "<div>\n<style scoped>\n    .dataframe tbody tr th:only-of-type {\n        vertical-align: middle;\n    }\n\n    .dataframe tbody tr th {\n        vertical-align: top;\n    }\n\n    .dataframe thead th {\n        text-align: right;\n    }\n</style>\n<table border=\"1\" class=\"dataframe\">\n  <thead>\n    <tr style=\"text-align: right;\">\n      <th>package</th>\n      <th>ANY BEAT</th>\n      <th>ANY BLAZE</th>\n      <th>ANY FLIX</th>\n      <th>ANY JOY</th>\n      <th>ANY SPIKE</th>\n      <th>ANY STORM</th>\n      <th>ANY TIDE</th>\n      <th>BROADBAND EXPERIENCE</th>\n      <th>FTTH_ANY BLAZE</th>\n      <th>FTTH_ANY DELIGHT</th>\n      <th>...</th>\n      <th>VDSL_WEB FAMILY PLUS</th>\n      <th>WEB BOOSTER</th>\n      <th>WEB FAMILY ACTIVE</th>\n      <th>WEB FAMILY PLUS</th>\n      <th>WEB FAMILY XTRA</th>\n      <th>WEB LITE</th>\n      <th>WEB PAL</th>\n      <th>WEB PRO</th>\n      <th>WEB STARTER</th>\n      <th>XCITE</th>\n    </tr>\n    <tr>\n      <th>ACCOUNT_NUM.hash</th>\n      <th></th>\n      <th></th>\n      <th></th>\n      <th></th>\n      <th></th>\n      <th></th>\n      <th></th>\n      <th></th>\n      <th></th>\n      <th></th>\n      <th></th>\n      <th></th>\n      <th></th>\n      <th></th>\n      <th></th>\n      <th></th>\n      <th></th>\n      <th></th>\n      <th></th>\n      <th></th>\n      <th></th>\n    </tr>\n  </thead>\n  <tbody>\n    <tr>\n      <th>000f325a72b9d24742237070939b57d1</th>\n      <td>0.0</td>\n      <td>0.0</td>\n      <td>0.0</td>\n      <td>0.000000</td>\n      <td>0.0</td>\n      <td>0.0</td>\n      <td>0.0</td>\n      <td>0.0</td>\n      <td>0.0</td>\n      <td>0.0</td>\n      <td>...</td>\n      <td>0.0</td>\n      <td>0.0</td>\n      <td>0.0</td>\n      <td>0.0</td>\n      <td>0.0</td>\n      <td>0.0</td>\n      <td>0.000000</td>\n      <td>0.0</td>\n      <td>0.832006</td>\n      <td>0.0</td>\n    </tr>\n    <tr>\n      <th>0013519e648e9718c56e1e6ccfb3b17d</th>\n      <td>0.0</td>\n      <td>0.0</td>\n      <td>0.0</td>\n      <td>0.000000</td>\n      <td>0.0</td>\n      <td>0.0</td>\n      <td>0.0</td>\n      <td>0.0</td>\n      <td>0.0</td>\n      <td>0.0</td>\n      <td>...</td>\n      <td>0.0</td>\n      <td>0.0</td>\n      <td>0.0</td>\n      <td>0.0</td>\n      <td>0.0</td>\n      <td>0.0</td>\n      <td>0.574361</td>\n      <td>0.0</td>\n      <td>0.000000</td>\n      <td>0.0</td>\n    </tr>\n    <tr>\n      <th>001461eda095f55eb35ea34116af1598</th>\n      <td>0.0</td>\n      <td>0.0</td>\n      <td>0.0</td>\n      <td>0.000000</td>\n      <td>0.0</td>\n      <td>0.0</td>\n      <td>0.0</td>\n      <td>0.0</td>\n      <td>0.0</td>\n      <td>0.0</td>\n      <td>...</td>\n      <td>0.0</td>\n      <td>0.0</td>\n      <td>0.0</td>\n      <td>0.0</td>\n      <td>0.0</td>\n      <td>0.0</td>\n      <td>0.000000</td>\n      <td>0.0</td>\n      <td>0.000000</td>\n      <td>0.0</td>\n    </tr>\n    <tr>\n      <th>0017b4bec0c82391b1f8692cc2ed9777</th>\n      <td>0.0</td>\n      <td>0.0</td>\n      <td>0.0</td>\n      <td>0.000000</td>\n      <td>0.0</td>\n      <td>0.0</td>\n      <td>0.0</td>\n      <td>0.0</td>\n      <td>0.0</td>\n      <td>0.0</td>\n      <td>...</td>\n      <td>0.0</td>\n      <td>0.0</td>\n      <td>0.0</td>\n      <td>0.0</td>\n      <td>0.0</td>\n      <td>0.0</td>\n      <td>0.000000</td>\n      <td>0.0</td>\n      <td>0.000000</td>\n      <td>0.0</td>\n    </tr>\n    <tr>\n      <th>0024a31050a006edc3f0466dc5396f16</th>\n      <td>0.0</td>\n      <td>0.0</td>\n      <td>0.0</td>\n      <td>0.000000</td>\n      <td>0.0</td>\n      <td>0.0</td>\n      <td>0.0</td>\n      <td>0.0</td>\n      <td>0.0</td>\n      <td>0.0</td>\n      <td>...</td>\n      <td>0.0</td>\n      <td>0.0</td>\n      <td>0.0</td>\n      <td>0.0</td>\n      <td>0.0</td>\n      <td>0.0</td>\n      <td>0.000000</td>\n      <td>0.0</td>\n      <td>0.000000</td>\n      <td>0.0</td>\n    </tr>\n    <tr>\n      <th>...</th>\n      <td>...</td>\n      <td>...</td>\n      <td>...</td>\n      <td>...</td>\n      <td>...</td>\n      <td>...</td>\n      <td>...</td>\n      <td>...</td>\n      <td>...</td>\n      <td>...</td>\n      <td>...</td>\n      <td>...</td>\n      <td>...</td>\n      <td>...</td>\n      <td>...</td>\n      <td>...</td>\n      <td>...</td>\n      <td>...</td>\n      <td>...</td>\n      <td>...</td>\n      <td>...</td>\n    </tr>\n    <tr>\n      <th>ffe2bae6a0c7c4b20dec84f505cec1b3</th>\n      <td>0.0</td>\n      <td>0.0</td>\n      <td>0.0</td>\n      <td>0.000000</td>\n      <td>0.0</td>\n      <td>0.0</td>\n      <td>0.0</td>\n      <td>0.0</td>\n      <td>0.0</td>\n      <td>0.0</td>\n      <td>...</td>\n      <td>0.0</td>\n      <td>0.0</td>\n      <td>0.0</td>\n      <td>0.0</td>\n      <td>0.0</td>\n      <td>0.0</td>\n      <td>0.000000</td>\n      <td>0.0</td>\n      <td>0.000000</td>\n      <td>0.0</td>\n    </tr>\n    <tr>\n      <th>ffec2210afd448ef3cf76f20d6dc1814</th>\n      <td>0.0</td>\n      <td>0.0</td>\n      <td>0.0</td>\n      <td>2.192533</td>\n      <td>0.0</td>\n      <td>0.0</td>\n      <td>0.0</td>\n      <td>0.0</td>\n      <td>0.0</td>\n      <td>0.0</td>\n      <td>...</td>\n      <td>0.0</td>\n      <td>0.0</td>\n      <td>0.0</td>\n      <td>0.0</td>\n      <td>0.0</td>\n      <td>0.0</td>\n      <td>0.000000</td>\n      <td>0.0</td>\n      <td>0.000000</td>\n      <td>0.0</td>\n    </tr>\n    <tr>\n      <th>ffee4f0542d8f581b56b6b3dc7e2c178</th>\n      <td>0.0</td>\n      <td>0.0</td>\n      <td>0.0</td>\n      <td>0.000000</td>\n      <td>0.0</td>\n      <td>0.0</td>\n      <td>0.0</td>\n      <td>0.0</td>\n      <td>0.0</td>\n      <td>0.0</td>\n      <td>...</td>\n      <td>0.0</td>\n      <td>0.0</td>\n      <td>0.0</td>\n      <td>0.0</td>\n      <td>0.0</td>\n      <td>0.0</td>\n      <td>0.000000</td>\n      <td>0.0</td>\n      <td>0.000000</td>\n      <td>0.0</td>\n    </tr>\n    <tr>\n      <th>fff45bfbbb99fe43c7ef3f2c0a7bb805</th>\n      <td>0.0</td>\n      <td>0.0</td>\n      <td>0.0</td>\n      <td>0.000000</td>\n      <td>0.0</td>\n      <td>0.0</td>\n      <td>0.0</td>\n      <td>0.0</td>\n      <td>0.0</td>\n      <td>0.0</td>\n      <td>...</td>\n      <td>0.0</td>\n      <td>0.0</td>\n      <td>0.0</td>\n      <td>0.0</td>\n      <td>0.0</td>\n      <td>0.0</td>\n      <td>0.000000</td>\n      <td>0.0</td>\n      <td>0.000000</td>\n      <td>0.0</td>\n    </tr>\n    <tr>\n      <th>fffaeeddaabbd2868c183d8884b2a98d</th>\n      <td>0.0</td>\n      <td>0.0</td>\n      <td>0.0</td>\n      <td>0.000000</td>\n      <td>0.0</td>\n      <td>0.0</td>\n      <td>0.0</td>\n      <td>0.0</td>\n      <td>0.0</td>\n      <td>0.0</td>\n      <td>...</td>\n      <td>0.0</td>\n      <td>0.0</td>\n      <td>0.0</td>\n      <td>0.0</td>\n      <td>0.0</td>\n      <td>0.0</td>\n      <td>0.000000</td>\n      <td>0.0</td>\n      <td>1.213442</td>\n      <td>0.0</td>\n    </tr>\n  </tbody>\n</table>\n<p>7024 rows × 55 columns</p>\n</div>"
          },
          "metadata": {}
        }
      ],
      "execution_count": 34,
      "metadata": {
        "gather": {
          "logged": 1645955264136
        }
      }
    },
    {
      "cell_type": "markdown",
      "source": [
        "## Function Definition"
      ],
      "metadata": {}
    },
    {
      "cell_type": "code",
      "source": [
        "def train_test_splitter(data):\n",
        "    reader = Reader(rating_scale=(0, 1))\n",
        "    data_model = Dataset.load_from_df(data, reader)\n",
        "    return data_model,train_test_split(data_model, test_size=.20)"
      ],
      "outputs": [],
      "execution_count": 35,
      "metadata": {
        "jupyter": {
          "source_hidden": false,
          "outputs_hidden": false
        },
        "nteract": {
          "transient": {
            "deleting": false
          }
        },
        "gather": {
          "logged": 1645955264205
        }
      }
    },
    {
      "cell_type": "code",
      "source": [
        "def get_Iu(uid):\n",
        "    \"\"\"Return the number of items rated by given user\n",
        "    \n",
        "    Args:\n",
        "        uid: The raw id of the user.\n",
        "    Returns:\n",
        "        The number of items rated by the user.\n",
        "    \"\"\"\n",
        "    \n",
        "    try:\n",
        "        return len(trainset.ur[trainset.to_inner_uid(uid)])\n",
        "    except ValueError:  # user was not part of the trainset\n",
        "        return 0\n",
        "    \n",
        "def get_Ui(iid):\n",
        "    \"\"\"Return the number of users that have rated given item\n",
        "    \n",
        "    Args:\n",
        "        iid: The raw id of the item.\n",
        "    Returns:\n",
        "        The number of users that have rated the item.\n",
        "    \"\"\"\n",
        "    \n",
        "    try:\n",
        "        return len(trainset.ir[trainset.to_inner_iid(iid)])\n",
        "    except ValueError:  # item was not part of the trainset\n",
        "        return 0\n"
      ],
      "outputs": [],
      "execution_count": 36,
      "metadata": {
        "gather": {
          "logged": 1645955264352
        }
      }
    },
    {
      "cell_type": "code",
      "source": [
        "def get_top_n(predictions, n=10):\n",
        "    \n",
        "    # First map the predictions to each user.\n",
        "    top_n = defaultdict(list)\n",
        "    for uid, iid, true_r, est, _ in predictions:\n",
        "        top_n[uid].append((iid, est, true_r))\n",
        "\n",
        "    for uid, user_ratings in top_n.items():\n",
        "        user_ratings.sort(key=lambda x: x[1], reverse=True)\n",
        "        top_n[uid] = user_ratings[:5]\n",
        "        \n",
        "\n",
        "    return top_n"
      ],
      "outputs": [],
      "execution_count": 37,
      "metadata": {
        "gather": {
          "logged": 1645955264645
        }
      }
    },
    {
      "cell_type": "code",
      "source": [
        "# calculate NDCG\n",
        "def ndcg(y_true, y_pred, k=None, powered=False):\n",
        "    def dcg(scores, k=None, powered=False):\n",
        "        if k is None:\n",
        "            k = scores.shape[0]\n",
        "        if not powered:\n",
        "            ret = scores[0]\n",
        "            for i in range(1, k):\n",
        "                ret += scores[i] / np.log2(i + 1)\n",
        "            return ret\n",
        "        else:\n",
        "            ret = 0\n",
        "            for i in range(k):\n",
        "                ret += (2 ** scores[i] - 1) / np.log2(i + 2)\n",
        "            return ret\n",
        "    \n",
        "    ideal_sorted_scores = np.sort(y_true)[::-1]\n",
        "    ideal_dcg_score = dcg(ideal_sorted_scores, k=k, powered=powered)\n",
        "    \n",
        "    pred_sorted_ind = np.argsort(y_pred)[::-1]\n",
        "    pred_sorted_scores = y_true[pred_sorted_ind]\n",
        "    dcg_score = dcg(pred_sorted_scores, k=k, powered=powered)\n",
        "    \n",
        "    return dcg_score / ideal_dcg_score\n",
        "\n",
        "def ndcg1(y_true, y_pred, k=None):\n",
        "    return ndcg(y_true, y_pred, k=k, powered=False)\n",
        "\n",
        "def ndcg2(y_true, y_pred, k=None):\n",
        "    return ndcg(y_true, y_pred, k=k, powered=True)"
      ],
      "outputs": [],
      "execution_count": 38,
      "metadata": {
        "jupyter": {
          "source_hidden": false,
          "outputs_hidden": false
        },
        "nteract": {
          "transient": {
            "deleting": false
          }
        },
        "gather": {
          "logged": 1645955264788
        }
      }
    },
    {
      "cell_type": "code",
      "source": [
        "def top_n_pred(predictions):\n",
        "    top_n = get_top_n(predictions, n=3)\n",
        "    #print(top_n)\n",
        "    users_est = defaultdict(list)\n",
        "    users_true=defaultdict(list)\n",
        "    rec_for_user=defaultdict(list)\n",
        "    for uid, user_ratings in top_n.items():\n",
        "        users_est[uid].append([est for (_, est,_) in user_ratings])\n",
        "        users_true[uid].append([true_r for (_,_,true_r) in user_ratings])\n",
        "        rec_for_user[uid].append([iid for (iid,_,_) in user_ratings])\n",
        "    return top_n, users_est, users_true, rec_for_user"
      ],
      "outputs": [],
      "execution_count": 39,
      "metadata": {
        "jupyter": {
          "source_hidden": false,
          "outputs_hidden": false
        },
        "nteract": {
          "transient": {
            "deleting": false
          }
        },
        "gather": {
          "logged": 1645955265114
        }
      }
    },
    {
      "cell_type": "code",
      "source": [
        "def calc_ndcg(users_true,users_est):\n",
        "    ndcg_list=[]\n",
        "    for uid in top_n:\n",
        "        \n",
        "        for i in users_true[uid]:\n",
        "            y_true=np.asarray(i)#.reshape(-1,1)\n",
        "        for i in users_est[uid]:\n",
        "            y_pred=np.asarray(i)#.reshape(-1,1)\n",
        "        \n",
        "            ndcg_list.append(ndcg1(y_true, y_pred, k=None))\n",
        "\n",
        "    ndcg_list = [i for i in ndcg_list if str(i) != 'nan']\n",
        "    ndgc_rate = np.mean(ndcg_list)\n",
        "    return ndcg_list, ndgc_rate"
      ],
      "outputs": [],
      "execution_count": 40,
      "metadata": {
        "jupyter": {
          "source_hidden": false,
          "outputs_hidden": false
        },
        "nteract": {
          "transient": {
            "deleting": false
          }
        },
        "gather": {
          "logged": 1645955265182
        }
      }
    },
    {
      "cell_type": "markdown",
      "source": [
        "## Colbarative Recommenders with Suprise"
      ],
      "metadata": {
        "nteract": {
          "transient": {
            "deleting": false
          }
        }
      }
    },
    {
      "cell_type": "code",
      "source": [
        "data_model, (trainset, testset) = train_test_splitter(data)\n",
        "data_model_pca, (trainset_pca, testset_pca) = train_test_splitter(data_pca)"
      ],
      "outputs": [],
      "execution_count": 41,
      "metadata": {
        "jupyter": {
          "source_hidden": false,
          "outputs_hidden": false
        },
        "nteract": {
          "transient": {
            "deleting": false
          }
        },
        "gather": {
          "logged": 1645955265418
        }
      }
    },
    {
      "cell_type": "markdown",
      "source": [
        "### SVD recommender"
      ],
      "metadata": {}
    },
    {
      "cell_type": "code",
      "source": [
        "# We'll use the famous SVD algorithm.\n",
        "algo = SVD()\n",
        "\n",
        "# Run 5-fold cross-validation and print results\n",
        "svd_validate = cross_validate(algo, data_model_pca, measures=['RMSE', 'MAE'], cv=5, verbose=True)\n"
      ],
      "outputs": [
        {
          "output_type": "stream",
          "name": "stdout",
          "text": "Evaluating RMSE, MAE of algorithm SVD on 5 split(s).\n\n                  Fold 1  Fold 2  Fold 3  Fold 4  Fold 5  Mean    Std     \nRMSE (testset)    0.2948  0.2928  0.2912  0.2907  0.2902  0.2919  0.0017  \nMAE (testset)     0.2536  0.2503  0.2499  0.2497  0.2485  0.2504  0.0017  \nFit time          1.15    1.16    1.09    1.09    1.12    1.12    0.03    \nTest time         0.03    0.03    0.03    0.03    0.04    0.03    0.00    \n"
        }
      ],
      "execution_count": 42,
      "metadata": {
        "gather": {
          "logged": 1645955271340
        }
      }
    },
    {
      "cell_type": "code",
      "source": [
        "# Train the algorithm on the trainset, and predict ratings for the testset\n",
        "algo.fit(trainset_pca)\n",
        "predictions = algo.test(testset_pca)"
      ],
      "outputs": [],
      "execution_count": 43,
      "metadata": {
        "gather": {
          "logged": 1645955273079
        }
      }
    },
    {
      "cell_type": "code",
      "source": [
        "top_n, users_est, users_true, rec_for_user = top_n_pred(predictions)"
      ],
      "outputs": [],
      "execution_count": 44,
      "metadata": {
        "gather": {
          "logged": 1645955273526
        }
      }
    },
    {
      "cell_type": "code",
      "source": [
        "ndcg_list, ndgc_rate = calc_ndcg(users_true,users_est)\n",
        "print(\"NDCG\", ndgc_rate)"
      ],
      "outputs": [
        {
          "output_type": "stream",
          "name": "stdout",
          "text": "NDCG 0.992471390058543\n"
        },
        {
          "output_type": "stream",
          "name": "stderr",
          "text": "/anaconda/envs/azureml_py36/lib/python3.6/site-packages/ipykernel_launcher.py:24: RuntimeWarning: invalid value encountered in double_scalars\n"
        }
      ],
      "execution_count": 45,
      "metadata": {
        "jupyter": {
          "source_hidden": false,
          "outputs_hidden": false
        },
        "nteract": {
          "transient": {
            "deleting": false
          }
        },
        "gather": {
          "logged": 1645955273670
        }
      }
    },
    {
      "cell_type": "code",
      "source": [
        "# Let's build a pandas dataframe with all the predictions\n",
        "df = pd.DataFrame(predictions, columns=['uid', 'iid', 'rui', 'est', 'details'])    \n",
        "df['Iu'] = df.uid.apply(get_Iu)\n",
        "df['Ui'] = df.iid.apply(get_Ui)\n",
        "df['err'] = abs(df.est - df.rui)"
      ],
      "outputs": [],
      "execution_count": 46,
      "metadata": {
        "gather": {
          "logged": 1645955273801
        }
      }
    },
    {
      "cell_type": "code",
      "source": [
        "# 10 Best predictions\n",
        "best_predictions = df.sort_values(by='err')[:10]\n",
        "best_predictions"
      ],
      "outputs": [
        {
          "output_type": "execute_result",
          "execution_count": 47,
          "data": {
            "text/plain": "                                   uid                   iid       rui  \\\n3685  d512f57ffadb98e3c2388e4948f4360d              ANY BEAT  0.243949   \n3076  42710d79a4ad1d0c7026118b32f83bdc           WEB STARTER  0.416092   \n4550  42710d79a4ad1d0c7026118b32f83bdc           WEB STARTER  0.416092   \n2047  745a15c9026ce1dbcab0e0cfcdd3992f  FTTH_WEB FAMILY PLUS  0.405054   \n747   4ab83508e2420a7637dce3b8e8eead70               WEB PAL  0.401760   \n2997  7e73d23f6e09eb517ba9ef106fbf6847       LTE_WEB STARTER  0.381683   \n963   f97bd943bf8a8542eb7e593ec8163a25              WEB LITE  0.396376   \n1941  7d9877ec0b4c4f82a3465cfc62fc9cef           WEB STARTER  0.379434   \n4570  07efbac16754d0c8f54fc273a96ae050           WEB BOOSTER  0.390375   \n3876  810680fd7613ae53f6c9c5791e74fe01       WEB FAMILY PLUS  0.398991   \n\n           est                    details  Iu    Ui       err  \n3685  0.243797  {'was_impossible': False}  10  1430  0.000152  \n3076  0.415860  {'was_impossible': False}   4  5509  0.000233  \n4550  0.415860  {'was_impossible': False}   4  5509  0.000233  \n2047  0.404348  {'was_impossible': False}   3  5424  0.000706  \n747   0.401029  {'was_impossible': False}   8  4936  0.000731  \n2997  0.380948  {'was_impossible': False}   3  2057  0.000735  \n963   0.395595  {'was_impossible': False}   3  9509  0.000781  \n1941  0.378454  {'was_impossible': False}   4  5509  0.000980  \n4570  0.389349  {'was_impossible': False}   4   113  0.001026  \n3876  0.400026  {'was_impossible': False}   3  6261  0.001034  ",
            "text/html": "<div>\n<style scoped>\n    .dataframe tbody tr th:only-of-type {\n        vertical-align: middle;\n    }\n\n    .dataframe tbody tr th {\n        vertical-align: top;\n    }\n\n    .dataframe thead th {\n        text-align: right;\n    }\n</style>\n<table border=\"1\" class=\"dataframe\">\n  <thead>\n    <tr style=\"text-align: right;\">\n      <th></th>\n      <th>uid</th>\n      <th>iid</th>\n      <th>rui</th>\n      <th>est</th>\n      <th>details</th>\n      <th>Iu</th>\n      <th>Ui</th>\n      <th>err</th>\n    </tr>\n  </thead>\n  <tbody>\n    <tr>\n      <th>3685</th>\n      <td>d512f57ffadb98e3c2388e4948f4360d</td>\n      <td>ANY BEAT</td>\n      <td>0.243949</td>\n      <td>0.243797</td>\n      <td>{'was_impossible': False}</td>\n      <td>10</td>\n      <td>1430</td>\n      <td>0.000152</td>\n    </tr>\n    <tr>\n      <th>3076</th>\n      <td>42710d79a4ad1d0c7026118b32f83bdc</td>\n      <td>WEB STARTER</td>\n      <td>0.416092</td>\n      <td>0.415860</td>\n      <td>{'was_impossible': False}</td>\n      <td>4</td>\n      <td>5509</td>\n      <td>0.000233</td>\n    </tr>\n    <tr>\n      <th>4550</th>\n      <td>42710d79a4ad1d0c7026118b32f83bdc</td>\n      <td>WEB STARTER</td>\n      <td>0.416092</td>\n      <td>0.415860</td>\n      <td>{'was_impossible': False}</td>\n      <td>4</td>\n      <td>5509</td>\n      <td>0.000233</td>\n    </tr>\n    <tr>\n      <th>2047</th>\n      <td>745a15c9026ce1dbcab0e0cfcdd3992f</td>\n      <td>FTTH_WEB FAMILY PLUS</td>\n      <td>0.405054</td>\n      <td>0.404348</td>\n      <td>{'was_impossible': False}</td>\n      <td>3</td>\n      <td>5424</td>\n      <td>0.000706</td>\n    </tr>\n    <tr>\n      <th>747</th>\n      <td>4ab83508e2420a7637dce3b8e8eead70</td>\n      <td>WEB PAL</td>\n      <td>0.401760</td>\n      <td>0.401029</td>\n      <td>{'was_impossible': False}</td>\n      <td>8</td>\n      <td>4936</td>\n      <td>0.000731</td>\n    </tr>\n    <tr>\n      <th>2997</th>\n      <td>7e73d23f6e09eb517ba9ef106fbf6847</td>\n      <td>LTE_WEB STARTER</td>\n      <td>0.381683</td>\n      <td>0.380948</td>\n      <td>{'was_impossible': False}</td>\n      <td>3</td>\n      <td>2057</td>\n      <td>0.000735</td>\n    </tr>\n    <tr>\n      <th>963</th>\n      <td>f97bd943bf8a8542eb7e593ec8163a25</td>\n      <td>WEB LITE</td>\n      <td>0.396376</td>\n      <td>0.395595</td>\n      <td>{'was_impossible': False}</td>\n      <td>3</td>\n      <td>9509</td>\n      <td>0.000781</td>\n    </tr>\n    <tr>\n      <th>1941</th>\n      <td>7d9877ec0b4c4f82a3465cfc62fc9cef</td>\n      <td>WEB STARTER</td>\n      <td>0.379434</td>\n      <td>0.378454</td>\n      <td>{'was_impossible': False}</td>\n      <td>4</td>\n      <td>5509</td>\n      <td>0.000980</td>\n    </tr>\n    <tr>\n      <th>4570</th>\n      <td>07efbac16754d0c8f54fc273a96ae050</td>\n      <td>WEB BOOSTER</td>\n      <td>0.390375</td>\n      <td>0.389349</td>\n      <td>{'was_impossible': False}</td>\n      <td>4</td>\n      <td>113</td>\n      <td>0.001026</td>\n    </tr>\n    <tr>\n      <th>3876</th>\n      <td>810680fd7613ae53f6c9c5791e74fe01</td>\n      <td>WEB FAMILY PLUS</td>\n      <td>0.398991</td>\n      <td>0.400026</td>\n      <td>{'was_impossible': False}</td>\n      <td>3</td>\n      <td>6261</td>\n      <td>0.001034</td>\n    </tr>\n  </tbody>\n</table>\n</div>"
          },
          "metadata": {}
        }
      ],
      "execution_count": 47,
      "metadata": {
        "gather": {
          "logged": 1645955274022
        }
      }
    },
    {
      "cell_type": "code",
      "source": [
        "rmse = accuracy.rmse(predictions)\n",
        "print(\"RMSE -->\",rmse)\n",
        "print(\"Accuracy -->\",1-rmse)"
      ],
      "outputs": [
        {
          "output_type": "stream",
          "name": "stdout",
          "text": "RMSE: 0.2920\nRMSE --> 0.2919713242676592\nAccuracy --> 0.7080286757323409\n"
        }
      ],
      "execution_count": 48,
      "metadata": {
        "gather": {
          "logged": 1645955274201
        }
      }
    },
    {
      "cell_type": "markdown",
      "source": [
        "### SlopeOne recommender"
      ],
      "metadata": {}
    },
    {
      "cell_type": "code",
      "source": [
        "# We'll use the SlopeOne algorithm.\n",
        "algo = SlopeOne()\n",
        "\n",
        "# Run 5-fold cross-validation and print results\n",
        "so_validate =cross_validate(algo, data_model_pca, measures=['RMSE', 'MAE'], cv=5, verbose=True)"
      ],
      "outputs": [
        {
          "output_type": "stream",
          "name": "stdout",
          "text": "Evaluating RMSE, MAE of algorithm SlopeOne on 5 split(s).\n\n                  Fold 1  Fold 2  Fold 3  Fold 4  Fold 5  Mean    Std     \nRMSE (testset)    0.3086  0.3116  0.3135  0.3139  0.3150  0.3125  0.0023  \nMAE (testset)     0.2272  0.2288  0.2309  0.2315  0.2338  0.2305  0.0023  \nFit time          0.07    0.07    0.08    0.07    0.08    0.07    0.00    \nTest time         0.04    0.04    0.04    0.05    0.05    0.04    0.00    \n"
        }
      ],
      "execution_count": 49,
      "metadata": {
        "gather": {
          "logged": 1645955292236
        }
      }
    },
    {
      "cell_type": "code",
      "source": [
        "# Train the algorithm on the trainset, and predict ratings for the testset\n",
        "algo.fit(trainset_pca)\n",
        "predictions = algo.test(testset_pca)"
      ],
      "outputs": [],
      "execution_count": 51,
      "metadata": {
        "gather": {
          "logged": 1645955306106
        }
      }
    },
    {
      "cell_type": "code",
      "source": [
        "top_n, users_est, users_true, rec_for_user = top_n_pred(predictions)"
      ],
      "outputs": [],
      "execution_count": 52,
      "metadata": {
        "jupyter": {
          "source_hidden": false,
          "outputs_hidden": false
        },
        "nteract": {
          "transient": {
            "deleting": false
          }
        },
        "gather": {
          "logged": 1645955332032
        }
      }
    },
    {
      "cell_type": "code",
      "source": [
        "ndcg_list, ndgc_rate = calc_ndcg(users_true,users_est)\n",
        "print(\"NDCG\", ndgc_rate)"
      ],
      "outputs": [
        {
          "output_type": "stream",
          "name": "stdout",
          "text": "NDCG 0.992974934875528\n"
        },
        {
          "output_type": "stream",
          "name": "stderr",
          "text": "/anaconda/envs/azureml_py36/lib/python3.6/site-packages/ipykernel_launcher.py:24: RuntimeWarning: invalid value encountered in double_scalars\n"
        }
      ],
      "execution_count": 53,
      "metadata": {
        "jupyter": {
          "source_hidden": false,
          "outputs_hidden": false
        },
        "nteract": {
          "transient": {
            "deleting": false
          }
        },
        "gather": {
          "logged": 1645955334446
        }
      }
    },
    {
      "cell_type": "code",
      "source": [
        "# Let's build a pandas dataframe with all the predictions\n",
        "df = pd.DataFrame(predictions, columns=['uid', 'iid', 'rui', 'est', 'details'])    \n",
        "df['Iu'] = df.uid.apply(get_Iu)\n",
        "df['Ui'] = df.iid.apply(get_Ui)\n",
        "df['err'] = abs(df.est - df.rui)"
      ],
      "outputs": [],
      "execution_count": 54,
      "metadata": {
        "gather": {
          "logged": 1645955345172
        }
      }
    },
    {
      "cell_type": "code",
      "source": [
        "# 10 Best predictions\n",
        "best_predictions = df.sort_values(by='err')[:10]\n",
        "best_predictions"
      ],
      "outputs": [
        {
          "output_type": "execute_result",
          "execution_count": 55,
          "data": {
            "text/plain": "                                   uid                   iid       rui  \\\n1783  f109cf815160bdb13e6768ad9e48c63c  FTTH_WEB FAMILY PLUS  0.240541   \n4005  238098db4ea2047524541a9f1cec4069  FTTH_WEB FAMILY PLUS  0.000000   \n2548  0b19d5d0da8280f8cf2f3d134be0be69       WEB FAMILY XTRA  0.429973   \n4781  b32581dfc96a4fc4e5c9cb5ee8fe3c8c              WEB LITE  0.240541   \n2536  2100493c265612156cf1105a70a8c063  FTTH_WEB FAMILY PLUS  0.000000   \n865   169b8710cacab37662c3f9fd742be1ef               ANY JOY  0.000000   \n4780  9113fc799bd99da34a37377c099abef9           WEB STARTER  0.404763   \n4779  83342ee42e5ad11d6f2e2af2481dfd3f              WEB LITE  0.770264   \n2534  5b64342cf3ff3eb8e36df3417a1ebaba         FTTH_ANY FLIX  0.000000   \n869   1fe9ea7dd0bd659b8c61a4b450a7c35c       WEB FAMILY XTRA  0.000000   \n\n           est                    details  Iu    Ui  err  \n1783  0.240541  {'was_impossible': False}   1  5424  0.0  \n4005  0.000000  {'was_impossible': False}   2  5424  0.0  \n2548  0.429973  {'was_impossible': False}   2   787  0.0  \n4781  0.240541  {'was_impossible': False}   2  9509  0.0  \n2536  0.000000  {'was_impossible': False}   2  5424  0.0  \n865   0.000000  {'was_impossible': False}   3  2874  0.0  \n4780  0.404763  {'was_impossible': False}   2  5509  0.0  \n4779  0.770264  {'was_impossible': False}   5  9509  0.0  \n2534  0.000000  {'was_impossible': False}   2   371  0.0  \n869   0.000000  {'was_impossible': False}   1   787  0.0  ",
            "text/html": "<div>\n<style scoped>\n    .dataframe tbody tr th:only-of-type {\n        vertical-align: middle;\n    }\n\n    .dataframe tbody tr th {\n        vertical-align: top;\n    }\n\n    .dataframe thead th {\n        text-align: right;\n    }\n</style>\n<table border=\"1\" class=\"dataframe\">\n  <thead>\n    <tr style=\"text-align: right;\">\n      <th></th>\n      <th>uid</th>\n      <th>iid</th>\n      <th>rui</th>\n      <th>est</th>\n      <th>details</th>\n      <th>Iu</th>\n      <th>Ui</th>\n      <th>err</th>\n    </tr>\n  </thead>\n  <tbody>\n    <tr>\n      <th>1783</th>\n      <td>f109cf815160bdb13e6768ad9e48c63c</td>\n      <td>FTTH_WEB FAMILY PLUS</td>\n      <td>0.240541</td>\n      <td>0.240541</td>\n      <td>{'was_impossible': False}</td>\n      <td>1</td>\n      <td>5424</td>\n      <td>0.0</td>\n    </tr>\n    <tr>\n      <th>4005</th>\n      <td>238098db4ea2047524541a9f1cec4069</td>\n      <td>FTTH_WEB FAMILY PLUS</td>\n      <td>0.000000</td>\n      <td>0.000000</td>\n      <td>{'was_impossible': False}</td>\n      <td>2</td>\n      <td>5424</td>\n      <td>0.0</td>\n    </tr>\n    <tr>\n      <th>2548</th>\n      <td>0b19d5d0da8280f8cf2f3d134be0be69</td>\n      <td>WEB FAMILY XTRA</td>\n      <td>0.429973</td>\n      <td>0.429973</td>\n      <td>{'was_impossible': False}</td>\n      <td>2</td>\n      <td>787</td>\n      <td>0.0</td>\n    </tr>\n    <tr>\n      <th>4781</th>\n      <td>b32581dfc96a4fc4e5c9cb5ee8fe3c8c</td>\n      <td>WEB LITE</td>\n      <td>0.240541</td>\n      <td>0.240541</td>\n      <td>{'was_impossible': False}</td>\n      <td>2</td>\n      <td>9509</td>\n      <td>0.0</td>\n    </tr>\n    <tr>\n      <th>2536</th>\n      <td>2100493c265612156cf1105a70a8c063</td>\n      <td>FTTH_WEB FAMILY PLUS</td>\n      <td>0.000000</td>\n      <td>0.000000</td>\n      <td>{'was_impossible': False}</td>\n      <td>2</td>\n      <td>5424</td>\n      <td>0.0</td>\n    </tr>\n    <tr>\n      <th>865</th>\n      <td>169b8710cacab37662c3f9fd742be1ef</td>\n      <td>ANY JOY</td>\n      <td>0.000000</td>\n      <td>0.000000</td>\n      <td>{'was_impossible': False}</td>\n      <td>3</td>\n      <td>2874</td>\n      <td>0.0</td>\n    </tr>\n    <tr>\n      <th>4780</th>\n      <td>9113fc799bd99da34a37377c099abef9</td>\n      <td>WEB STARTER</td>\n      <td>0.404763</td>\n      <td>0.404763</td>\n      <td>{'was_impossible': False}</td>\n      <td>2</td>\n      <td>5509</td>\n      <td>0.0</td>\n    </tr>\n    <tr>\n      <th>4779</th>\n      <td>83342ee42e5ad11d6f2e2af2481dfd3f</td>\n      <td>WEB LITE</td>\n      <td>0.770264</td>\n      <td>0.770264</td>\n      <td>{'was_impossible': False}</td>\n      <td>5</td>\n      <td>9509</td>\n      <td>0.0</td>\n    </tr>\n    <tr>\n      <th>2534</th>\n      <td>5b64342cf3ff3eb8e36df3417a1ebaba</td>\n      <td>FTTH_ANY FLIX</td>\n      <td>0.000000</td>\n      <td>0.000000</td>\n      <td>{'was_impossible': False}</td>\n      <td>2</td>\n      <td>371</td>\n      <td>0.0</td>\n    </tr>\n    <tr>\n      <th>869</th>\n      <td>1fe9ea7dd0bd659b8c61a4b450a7c35c</td>\n      <td>WEB FAMILY XTRA</td>\n      <td>0.000000</td>\n      <td>0.000000</td>\n      <td>{'was_impossible': False}</td>\n      <td>1</td>\n      <td>787</td>\n      <td>0.0</td>\n    </tr>\n  </tbody>\n</table>\n</div>"
          },
          "metadata": {}
        }
      ],
      "execution_count": 55,
      "metadata": {
        "gather": {
          "logged": 1645955347420
        }
      }
    },
    {
      "cell_type": "code",
      "source": [
        "rmse = accuracy.rmse(predictions)\n",
        "print(\"RMSE -->\",rmse)\n",
        "print(\"Accuracy -->\",1-rmse)"
      ],
      "outputs": [
        {
          "output_type": "stream",
          "name": "stdout",
          "text": "RMSE: 0.3137\nRMSE --> 0.31374572769514836\nAccuracy --> 0.6862542723048517\n"
        }
      ],
      "execution_count": 56,
      "metadata": {
        "gather": {
          "logged": 1645955351262
        }
      }
    },
    {
      "cell_type": "markdown",
      "source": [
        "### KNN with Means recommender"
      ],
      "metadata": {}
    },
    {
      "cell_type": "code",
      "source": [
        "# We'll use the SlopeOne algorithm.\n",
        "algo = KNNWithMeans()\n",
        "\n",
        "# Run 5-fold cross-validation and print results\n",
        "knn_validate = cross_validate(algo, data_model_pca, measures=['RMSE', 'MAE'], cv=5, verbose=True)"
      ],
      "outputs": [
        {
          "output_type": "stream",
          "name": "stdout",
          "text": "Computing the msd similarity matrix...\nDone computing similarity matrix.\nComputing the msd similarity matrix...\nDone computing similarity matrix.\nComputing the msd similarity matrix...\nDone computing similarity matrix.\nComputing the msd similarity matrix...\nDone computing similarity matrix.\nComputing the msd similarity matrix...\nDone computing similarity matrix.\nEvaluating RMSE, MAE of algorithm KNNWithMeans on 5 split(s).\n\n                  Fold 1  Fold 2  Fold 3  Fold 4  Fold 5  Mean    Std     \nRMSE (testset)    0.3166  0.3144  0.3167  0.3140  0.3147  0.3153  0.0012  \nMAE (testset)     0.2329  0.2319  0.2350  0.2323  0.2315  0.2327  0.0012  \nFit time          2.26    2.23    2.21    2.08    2.22    2.20    0.06    \nTest time         5.31    5.16    5.04    5.03    4.85    5.08    0.15    \n"
        }
      ],
      "execution_count": 57,
      "metadata": {
        "gather": {
          "logged": 1645955477186
        }
      }
    },
    {
      "cell_type": "code",
      "source": [
        "# Train the algorithm on the trainset, and predict ratings for the testset\n",
        "algo.fit(trainset_pca)\n",
        "predictions = algo.test(testset_pca)"
      ],
      "outputs": [
        {
          "output_type": "stream",
          "name": "stdout",
          "text": "Computing the msd similarity matrix...\nDone computing similarity matrix.\n"
        }
      ],
      "execution_count": 58,
      "metadata": {
        "gather": {
          "logged": 1645955484206
        }
      }
    },
    {
      "cell_type": "code",
      "source": [
        "top_n, users_est, users_true, rec_for_user = top_n_pred(predictions)"
      ],
      "outputs": [],
      "execution_count": 59,
      "metadata": {
        "jupyter": {
          "source_hidden": false,
          "outputs_hidden": false
        },
        "nteract": {
          "transient": {
            "deleting": false
          }
        },
        "gather": {
          "logged": 1645955486514
        }
      }
    },
    {
      "cell_type": "code",
      "source": [
        "ndcg_list, ndgc_rate = calc_ndcg(users_true,users_est)\n",
        "print(\"NDCG\", ndgc_rate)"
      ],
      "outputs": [
        {
          "output_type": "stream",
          "name": "stdout",
          "text": "NDCG 0.9922769171225553\n"
        },
        {
          "output_type": "stream",
          "name": "stderr",
          "text": "/anaconda/envs/azureml_py36/lib/python3.6/site-packages/ipykernel_launcher.py:24: RuntimeWarning: invalid value encountered in double_scalars\n"
        }
      ],
      "execution_count": 60,
      "metadata": {
        "jupyter": {
          "source_hidden": false,
          "outputs_hidden": false
        },
        "nteract": {
          "transient": {
            "deleting": false
          }
        },
        "gather": {
          "logged": 1645955487746
        }
      }
    },
    {
      "cell_type": "code",
      "source": [
        "# Let's build a pandas dataframe with all the predictions\n",
        "df = pd.DataFrame(predictions, columns=['uid', 'iid', 'rui', 'est', 'details'])    \n",
        "df['Iu'] = df.uid.apply(get_Iu)\n",
        "df['Ui'] = df.iid.apply(get_Ui)\n",
        "df['err'] = abs(df.est - df.rui)"
      ],
      "outputs": [],
      "execution_count": 61,
      "metadata": {
        "gather": {
          "logged": 1645955491191
        }
      }
    },
    {
      "cell_type": "code",
      "source": [
        "# 10 Best predictions\n",
        "best_predictions = df.sort_values(by='err')[:10]\n",
        "best_predictions"
      ],
      "outputs": [
        {
          "output_type": "execute_result",
          "execution_count": 62,
          "data": {
            "text/plain": "                                   uid                   iid       rui  \\\n2703  0a376f16c7cc091a1eabe4b4975e6cc2              WEB LITE  0.327213   \n2799  d315cc6a9145e2b4d3e4bb7483753503  FTTH_WEB FAMILY PLUS  0.000000   \n3913  1626c1ecf308119a26f375c2c78cf95f  FTTH_WEB FAMILY PLUS  0.000000   \n3246  de9928fcd6bf78ceb78260f79c114dc3              WEB LITE  0.000000   \n2050  1243736cf10566c1c9bfcd172ba734e9       WEB FAMILY PLUS  0.292349   \n1739  31b65777fbac69bb340a7678bf69c571              WEB LITE  0.000000   \n1738  55e2a2dee3378023c2b15d33b9207d71       WEB FAMILY PLUS  0.240541   \n5044  1df5f17ad1e51051a510314a9bbb55ff       WEB FAMILY PLUS  0.243952   \n1155  692a1d96bd23a4412c9fcef671dc3939               WEB PAL  0.000000   \n2793  1eea486ec2ea7d5d0714a8572feb4f52               WEB PAL  0.000000   \n\n           est                                    details  Iu    Ui  err  \n2703  0.327213  {'actual_k': 40, 'was_impossible': False}   6  9509  0.0  \n2799  0.000000  {'actual_k': 40, 'was_impossible': False}   2  5424  0.0  \n3913  0.000000  {'actual_k': 40, 'was_impossible': False}   2  5424  0.0  \n3246  0.000000  {'actual_k': 40, 'was_impossible': False}   3  9509  0.0  \n2050  0.292349  {'actual_k': 40, 'was_impossible': False}   3  6261  0.0  \n1739  0.000000  {'actual_k': 40, 'was_impossible': False}   2  9509  0.0  \n1738  0.240541  {'actual_k': 40, 'was_impossible': False}   3  6261  0.0  \n5044  0.243952  {'actual_k': 40, 'was_impossible': False}   1  6261  0.0  \n1155  0.000000  {'actual_k': 40, 'was_impossible': False}   2  4936  0.0  \n2793  0.000000  {'actual_k': 40, 'was_impossible': False}   2  4936  0.0  ",
            "text/html": "<div>\n<style scoped>\n    .dataframe tbody tr th:only-of-type {\n        vertical-align: middle;\n    }\n\n    .dataframe tbody tr th {\n        vertical-align: top;\n    }\n\n    .dataframe thead th {\n        text-align: right;\n    }\n</style>\n<table border=\"1\" class=\"dataframe\">\n  <thead>\n    <tr style=\"text-align: right;\">\n      <th></th>\n      <th>uid</th>\n      <th>iid</th>\n      <th>rui</th>\n      <th>est</th>\n      <th>details</th>\n      <th>Iu</th>\n      <th>Ui</th>\n      <th>err</th>\n    </tr>\n  </thead>\n  <tbody>\n    <tr>\n      <th>2703</th>\n      <td>0a376f16c7cc091a1eabe4b4975e6cc2</td>\n      <td>WEB LITE</td>\n      <td>0.327213</td>\n      <td>0.327213</td>\n      <td>{'actual_k': 40, 'was_impossible': False}</td>\n      <td>6</td>\n      <td>9509</td>\n      <td>0.0</td>\n    </tr>\n    <tr>\n      <th>2799</th>\n      <td>d315cc6a9145e2b4d3e4bb7483753503</td>\n      <td>FTTH_WEB FAMILY PLUS</td>\n      <td>0.000000</td>\n      <td>0.000000</td>\n      <td>{'actual_k': 40, 'was_impossible': False}</td>\n      <td>2</td>\n      <td>5424</td>\n      <td>0.0</td>\n    </tr>\n    <tr>\n      <th>3913</th>\n      <td>1626c1ecf308119a26f375c2c78cf95f</td>\n      <td>FTTH_WEB FAMILY PLUS</td>\n      <td>0.000000</td>\n      <td>0.000000</td>\n      <td>{'actual_k': 40, 'was_impossible': False}</td>\n      <td>2</td>\n      <td>5424</td>\n      <td>0.0</td>\n    </tr>\n    <tr>\n      <th>3246</th>\n      <td>de9928fcd6bf78ceb78260f79c114dc3</td>\n      <td>WEB LITE</td>\n      <td>0.000000</td>\n      <td>0.000000</td>\n      <td>{'actual_k': 40, 'was_impossible': False}</td>\n      <td>3</td>\n      <td>9509</td>\n      <td>0.0</td>\n    </tr>\n    <tr>\n      <th>2050</th>\n      <td>1243736cf10566c1c9bfcd172ba734e9</td>\n      <td>WEB FAMILY PLUS</td>\n      <td>0.292349</td>\n      <td>0.292349</td>\n      <td>{'actual_k': 40, 'was_impossible': False}</td>\n      <td>3</td>\n      <td>6261</td>\n      <td>0.0</td>\n    </tr>\n    <tr>\n      <th>1739</th>\n      <td>31b65777fbac69bb340a7678bf69c571</td>\n      <td>WEB LITE</td>\n      <td>0.000000</td>\n      <td>0.000000</td>\n      <td>{'actual_k': 40, 'was_impossible': False}</td>\n      <td>2</td>\n      <td>9509</td>\n      <td>0.0</td>\n    </tr>\n    <tr>\n      <th>1738</th>\n      <td>55e2a2dee3378023c2b15d33b9207d71</td>\n      <td>WEB FAMILY PLUS</td>\n      <td>0.240541</td>\n      <td>0.240541</td>\n      <td>{'actual_k': 40, 'was_impossible': False}</td>\n      <td>3</td>\n      <td>6261</td>\n      <td>0.0</td>\n    </tr>\n    <tr>\n      <th>5044</th>\n      <td>1df5f17ad1e51051a510314a9bbb55ff</td>\n      <td>WEB FAMILY PLUS</td>\n      <td>0.243952</td>\n      <td>0.243952</td>\n      <td>{'actual_k': 40, 'was_impossible': False}</td>\n      <td>1</td>\n      <td>6261</td>\n      <td>0.0</td>\n    </tr>\n    <tr>\n      <th>1155</th>\n      <td>692a1d96bd23a4412c9fcef671dc3939</td>\n      <td>WEB PAL</td>\n      <td>0.000000</td>\n      <td>0.000000</td>\n      <td>{'actual_k': 40, 'was_impossible': False}</td>\n      <td>2</td>\n      <td>4936</td>\n      <td>0.0</td>\n    </tr>\n    <tr>\n      <th>2793</th>\n      <td>1eea486ec2ea7d5d0714a8572feb4f52</td>\n      <td>WEB PAL</td>\n      <td>0.000000</td>\n      <td>0.000000</td>\n      <td>{'actual_k': 40, 'was_impossible': False}</td>\n      <td>2</td>\n      <td>4936</td>\n      <td>0.0</td>\n    </tr>\n  </tbody>\n</table>\n</div>"
          },
          "metadata": {}
        }
      ],
      "execution_count": 62,
      "metadata": {
        "gather": {
          "logged": 1645955493576
        }
      }
    },
    {
      "cell_type": "code",
      "source": [
        "rmse = accuracy.rmse(predictions)\n",
        "print(\"RMSE -->\",rmse)\n",
        "print(\"Accuracy -->\",1-rmse)"
      ],
      "outputs": [
        {
          "output_type": "stream",
          "name": "stdout",
          "text": "RMSE: 0.3164\nRMSE --> 0.31644063224998015\nAccuracy --> 0.6835593677500198\n"
        }
      ],
      "execution_count": 63,
      "metadata": {
        "gather": {
          "logged": 1645955497067
        }
      }
    },
    {
      "cell_type": "markdown",
      "source": [
        "### Benchmark algorithms"
      ],
      "metadata": {}
    },
    {
      "cell_type": "code",
      "source": [
        "benchmark = []\n",
        "# Iterate over all algorithms\n",
        "for algorithm in [SVD(), SlopeOne(), KNNBaseline(), KNNWithMeans(), BaselineOnly(), CoClustering()]:\n",
        "    # Perform cross validation\n",
        "    results = cross_validate(algorithm, data_model_pca, measures=['RMSE'], cv=5, verbose=False)\n",
        "    \n",
        "    # Get results & append algorithm name\n",
        "    tmp = pd.DataFrame.from_dict(results).mean(axis=0)\n",
        "    tmp = tmp.append(pd.Series([str(algorithm).split(' ')[0].split('.')[-1]], index=['Algorithm']))\n",
        "    benchmark.append(tmp)\n",
        "    \n",
        "val_df = pd.DataFrame(benchmark).set_index('Algorithm').sort_values('test_rmse')\n",
        "val_df"
      ],
      "outputs": [
        {
          "output_type": "stream",
          "name": "stdout",
          "text": "Estimating biases using als...\nComputing the msd similarity matrix...\nDone computing similarity matrix.\nEstimating biases using als...\nComputing the msd similarity matrix...\nDone computing similarity matrix.\nEstimating biases using als...\nComputing the msd similarity matrix...\nDone computing similarity matrix.\nEstimating biases using als...\nComputing the msd similarity matrix...\nDone computing similarity matrix.\nEstimating biases using als...\nComputing the msd similarity matrix...\nDone computing similarity matrix.\n"
        }
      ],
      "execution_count": 64,
      "metadata": {}
    },
    {
      "cell_type": "markdown",
      "source": [
        "## CF Recommenders Accuracy Plots"
      ],
      "metadata": {}
    },
    {
      "cell_type": "code",
      "source": [
        "svd_validate[\"test_rmse\"]"
      ],
      "outputs": [],
      "execution_count": null,
      "metadata": {}
    },
    {
      "cell_type": "code",
      "source": [
        "fig,ax = plt.subplots(figsize=(13,8))\n",
        "ax.plot(so_validate[\"test_rmse\"], color='blue')\n",
        "ax.plot(svd_validate[\"test_rmse\"], color='green')\n",
        "ax.plot(knn_validate[\"test_rmse\"], color='orange')\n",
        "ax.plot([0.257,0.254,0.252,0.244,0.241],linewidth=3, color='red')\n",
        "ax.plot(so_validate[\"test_mae\"], linestyle='dashdot', color='blue')\n",
        "ax.plot(svd_validate[\"test_mae\"], linestyle='dashdot', color='green')\n",
        "ax.plot(knn_validate[\"test_mae\"], linestyle='dashdot', color='orange')\n",
        "ax.plot([0.223,0.211,0.207,0.201,0.199],linewidth=4, linestyle='dashdot', color='red')\n",
        "# plt.xticks(np.arange(0, 30, 0.5))\n",
        "plt.title(\"Boradband Packages Recommender\", loc=\"center\")\n",
        "plt.legend([\"RMSE: SlopeOne\",\"RMSE: SVD\",\"RMSE: KNNwithMeans\",\"RMSE: Wide Model\",\n",
        "           \"MAE: SlopeOne\",\"MAE: SVD\",\"MAE: KNNwithMeans\",\"MAE: Wide Model\"])"
      ],
      "outputs": [],
      "execution_count": null,
      "metadata": {}
    },
    {
      "cell_type": "code",
      "source": [
        "fig,ax = plt.subplots(figsize=(13,7))\n",
        "ax.plot(so_validate[\"test_mae\"])\n",
        "ax.plot(svd_validate[\"test_mae\"])\n",
        "ax.plot(knn_validate[\"test_mae\"])\n",
        "ax.plot([0.223,0.211,0.207,0.201,0.199],linewidth=4)\n",
        "# plt.xticks(np.arange(0, 4, 0.2))\n",
        "plt.title(\"Test MAE: Boradband Packages Recommender\", loc=\"center\")\n",
        "plt.legend([\"SlopeOne\",\"SVD\",\"KNNwithMeans\",\"Wide Model\"])"
      ],
      "outputs": [
        {
          "output_type": "execute_result",
          "execution_count": 202,
          "data": {
            "text/plain": "<matplotlib.legend.Legend at 0x2bf19651760>"
          },
          "metadata": {}
        },
        {
          "output_type": "display_data",
          "data": {
            "image/png": "[encoded data removed]",
            "text/plain": "<Figure size 936x504 with 1 Axes>"
          },
          "metadata": {
            "needs_background": "light"
          }
        }
      ],
      "execution_count": 202,
      "metadata": {}
    },
    {
      "cell_type": "code",
      "source": [],
      "outputs": [],
      "execution_count": null,
      "metadata": {}
    }
  ],
  "metadata": {
    "kernelspec": {
      "name": "python3",
      "language": "python",
      "display_name": "Python 3"
    },
    "language_info": {
      "name": "python",
      "version": "3.6.9",
      "mimetype": "text/x-python",
      "codemirror_mode": {
        "name": "ipython",
        "version": 3
      },
      "pygments_lexer": "ipython3",
      "nbconvert_exporter": "python",
      "file_extension": ".py"
    },
    "kernel_info": {
      "name": "python3"
    },
    "nteract": {
      "version": "nteract-front-end@1.0.0"
    },
    "microsoft": {
      "host": {
        "AzureML": {
          "notebookHasBeenCompleted": true
        }
      }
    }
  },
  "nbformat": 4,
  "nbformat_minor": 4
}