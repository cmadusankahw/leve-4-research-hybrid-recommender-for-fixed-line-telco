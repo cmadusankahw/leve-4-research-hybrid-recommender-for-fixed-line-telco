{
  "cells": [
    {
      "cell_type": "code",
      "source": [
        "from __future__ import division\n",
        "import numpy as np\n",
        "import pandas as pd\n",
        "import seaborn as sns\n",
        "import sklearn\n",
        "import matplotlib.pyplot as plt\n",
        "from sklearn.preprocessing import MinMaxScaler\n",
        "from sklearn.decomposition import PCA\n",
        "from ast import literal_eval\n",
        "from surprise import *\n",
        "from surprise import accuracy\n",
        "from surprise.model_selection import GridSearchCV\n",
        "from surprise.model_selection import cross_validate\n",
        "from surprise.model_selection import train_test_split\n",
        "from collections import defaultdict"
      ],
      "outputs": [],
      "execution_count": 82,
      "metadata": {
        "gather": {
          "logged": 1645974675347
        }
      },
      "id": "49f0d72f"
    },
    {
      "cell_type": "code",
      "source": [
        "user_profile = pd.read_csv(\"data/User_Profile_Null_Handled.csv\")"
      ],
      "outputs": [],
      "execution_count": 83,
      "metadata": {
        "gather": {
          "logged": 1645974677308
        }
      },
      "id": "568c9bc0"
    },
    {
      "cell_type": "code",
      "source": [
        "user_profile[\"Sub_Update_Status\"].value_counts()"
      ],
      "outputs": [
        {
          "output_type": "execute_result",
          "execution_count": 84,
          "data": {
            "text/plain": "NO_INFO                30250\nPromotion Upgrade       7369\nPromotion Downgrade     4975\nName: Sub_Update_Status, dtype: int64"
          },
          "metadata": {}
        }
      ],
      "execution_count": 84,
      "metadata": {
        "gather": {
          "logged": 1645974677405
        }
      },
      "id": "e945591d"
    },
    {
      "cell_type": "code",
      "source": [
        "data=user_profile.iloc[:,[1,3,11,14,18,23,25,43,48,53,59,61,34]]\n",
        "#data.rename(columns={\"Sub_Type\":\"label\"},inplace=True)\n",
        "data = pd.get_dummies(data, prefix=['Sub_Update'], columns=['Sub_Update_Status'])\n",
        "# data.drop('Sub_Update_Status', axis=1)\n",
        "\n",
        "# Label encode class\n",
        "# le = LabelEncoder()\n",
        "# data['label'] = le.fit_transform(data.Sub_Type.values)\n",
        "data = data.drop(['Sub_Update_NO_INFO'], axis=1)"
      ],
      "outputs": [],
      "execution_count": 85,
      "metadata": {
        "jupyter": {
          "source_hidden": false,
          "outputs_hidden": false
        },
        "nteract": {
          "transient": {
            "deleting": false
          }
        },
        "gather": {
          "logged": 1645974677522
        }
      },
      "id": "e03ba629-704a-4136-9474-665f2db80461"
    },
    {
      "cell_type": "code",
      "source": [
        "data.fillna(0,inplace=True)\n",
        "data_dim=data.iloc[:,[1,2,3,4,5,6,7,8,9,10,12,13]]"
      ],
      "outputs": [],
      "execution_count": 86,
      "metadata": {
        "gather": {
          "logged": 1645974677674
        }
      },
      "id": "dc54e4f9"
    },
    {
      "cell_type": "markdown",
      "source": [
        "## PCA Based rating calculation"
      ],
      "metadata": {
        "nteract": {
          "transient": {
            "deleting": false
          }
        }
      },
      "id": "dc6428df-deeb-4aaf-95ba-7f1b91531f94"
    },
    {
      "cell_type": "code",
      "source": [
        "pc=PCA(n_components=12) \n",
        "pc.fit(data_dim)"
      ],
      "outputs": [
        {
          "output_type": "execute_result",
          "execution_count": 87,
          "data": {
            "text/plain": "PCA(n_components=12)"
          },
          "metadata": {}
        }
      ],
      "execution_count": 87,
      "metadata": {
        "gather": {
          "logged": 1645974677749
        }
      },
      "id": "833145fd"
    },
    {
      "cell_type": "code",
      "source": [
        "#How mucb variance, captured together\n",
        "pc.explained_variance_ratio_.cumsum()"
      ],
      "outputs": [
        {
          "output_type": "execute_result",
          "execution_count": 88,
          "data": {
            "text/plain": "array([0.31595666, 0.56946394, 0.72630511, 0.86585636, 0.93064071,\n       0.96783583, 0.98094293, 0.98846729, 0.99519398, 0.99953125,\n       0.99995611, 1.        ])"
          },
          "metadata": {}
        }
      ],
      "execution_count": 88,
      "metadata": {
        "gather": {
          "logged": 1645974677853
        }
      },
      "id": "da9a443d"
    },
    {
      "cell_type": "code",
      "source": [
        "### Run PCA on the data and reduce the dimensions in pca_num_components dimensions\n",
        "pca = PCA(n_components=1)\n",
        "pca.fit(data_dim)\n",
        "reduced_data = pca.fit_transform(data_dim)\n",
        "results_df = pd.DataFrame(reduced_data,columns=['ratings'])"
      ],
      "outputs": [],
      "execution_count": 89,
      "metadata": {
        "gather": {
          "logged": 1645974677957
        }
      },
      "id": "ca5efa32"
    },
    {
      "cell_type": "code",
      "source": [
        "# applying min-max-scaler to reduced features\n",
        "scaler = MinMaxScaler()\n",
        "results_df[['ratings']] = scaler.fit_transform(results_df[['ratings']])"
      ],
      "outputs": [],
      "execution_count": 90,
      "metadata": {
        "gather": {
          "logged": 1645974678024
        }
      },
      "id": "0a164a4f"
    },
    {
      "cell_type": "code",
      "source": [
        "data=pd.concat([data,results_df],axis=1)"
      ],
      "outputs": [],
      "execution_count": 91,
      "metadata": {
        "gather": {
          "logged": 1645974678111
        }
      },
      "id": "84ff07af"
    },
    {
      "cell_type": "code",
      "source": [
        "data.rename(columns={\"Sub_Type\":\"package\"}, inplace=True)\n",
        "data = data[[\"ACCOUNT_NUM.hash\",\"package\",\"ratings\"]]\n",
        "data"
      ],
      "outputs": [
        {
          "output_type": "execute_result",
          "execution_count": 92,
          "data": {
            "text/plain": "                       ACCOUNT_NUM.hash         package   ratings\n0      9efd917f18bb5c966953b4227ddbaf43     TRIPLE_PLAY  0.403696\n1      2240d11b0d9ee8f6d9e8972c6190aa42     SINGLE_PLAY  0.251039\n2      cff00495fd556a417e2838e27465d749  DOUBLE_PLAY_BV  0.374582\n3      d00dacd8fc98c1726d6a4e9f28f8e579     TRIPLE_PLAY  0.301764\n4      a3ee54787617510a616dfcb52c28941b     TRIPLE_PLAY  0.384823\n...                                 ...             ...       ...\n42589  7052930957f02ad914dbd24fdcd04fed  DOUBLE_PLAY_BV  0.399498\n42590  c217fb1b44642e79e56af9111e9c00b2     TRIPLE_PLAY  0.879634\n42591  5e94646aa83bb9d7fab98620405517cb  DOUBLE_PLAY_BV  0.247882\n42592  6801a82b67b7fb942242b7aca5ba022c  DOUBLE_PLAY_BV  0.441890\n42593  92da7428aa4a85439d5cb1adc7eb7fba     TRIPLE_PLAY  0.418573\n\n[42594 rows x 3 columns]",
            "text/html": "<div>\n<style scoped>\n    .dataframe tbody tr th:only-of-type {\n        vertical-align: middle;\n    }\n\n    .dataframe tbody tr th {\n        vertical-align: top;\n    }\n\n    .dataframe thead th {\n        text-align: right;\n    }\n</style>\n<table border=\"1\" class=\"dataframe\">\n  <thead>\n    <tr style=\"text-align: right;\">\n      <th></th>\n      <th>ACCOUNT_NUM.hash</th>\n      <th>package</th>\n      <th>ratings</th>\n    </tr>\n  </thead>\n  <tbody>\n    <tr>\n      <th>0</th>\n      <td>9efd917f18bb5c966953b4227ddbaf43</td>\n      <td>TRIPLE_PLAY</td>\n      <td>0.403696</td>\n    </tr>\n    <tr>\n      <th>1</th>\n      <td>2240d11b0d9ee8f6d9e8972c6190aa42</td>\n      <td>SINGLE_PLAY</td>\n      <td>0.251039</td>\n    </tr>\n    <tr>\n      <th>2</th>\n      <td>cff00495fd556a417e2838e27465d749</td>\n      <td>DOUBLE_PLAY_BV</td>\n      <td>0.374582</td>\n    </tr>\n    <tr>\n      <th>3</th>\n      <td>d00dacd8fc98c1726d6a4e9f28f8e579</td>\n      <td>TRIPLE_PLAY</td>\n      <td>0.301764</td>\n    </tr>\n    <tr>\n      <th>4</th>\n      <td>a3ee54787617510a616dfcb52c28941b</td>\n      <td>TRIPLE_PLAY</td>\n      <td>0.384823</td>\n    </tr>\n    <tr>\n      <th>...</th>\n      <td>...</td>\n      <td>...</td>\n      <td>...</td>\n    </tr>\n    <tr>\n      <th>42589</th>\n      <td>7052930957f02ad914dbd24fdcd04fed</td>\n      <td>DOUBLE_PLAY_BV</td>\n      <td>0.399498</td>\n    </tr>\n    <tr>\n      <th>42590</th>\n      <td>c217fb1b44642e79e56af9111e9c00b2</td>\n      <td>TRIPLE_PLAY</td>\n      <td>0.879634</td>\n    </tr>\n    <tr>\n      <th>42591</th>\n      <td>5e94646aa83bb9d7fab98620405517cb</td>\n      <td>DOUBLE_PLAY_BV</td>\n      <td>0.247882</td>\n    </tr>\n    <tr>\n      <th>42592</th>\n      <td>6801a82b67b7fb942242b7aca5ba022c</td>\n      <td>DOUBLE_PLAY_BV</td>\n      <td>0.441890</td>\n    </tr>\n    <tr>\n      <th>42593</th>\n      <td>92da7428aa4a85439d5cb1adc7eb7fba</td>\n      <td>TRIPLE_PLAY</td>\n      <td>0.418573</td>\n    </tr>\n  </tbody>\n</table>\n<p>42594 rows × 3 columns</p>\n</div>"
          },
          "metadata": {}
        }
      ],
      "execution_count": 92,
      "metadata": {
        "gather": {
          "logged": 1645974678228
        }
      },
      "id": "ae0ef591"
    },
    {
      "cell_type": "markdown",
      "source": [
        "## Interaction Matrix"
      ],
      "metadata": {},
      "id": "6ef318c1"
    },
    {
      "cell_type": "code",
      "source": [
        "# create a histogram of all the interactions by all the users present in the dataset\n",
        "def create_interaction_matrix(data):\n",
        "    interactions = data.groupby('ACCOUNT_NUM.hash').count()['package']\n",
        "    plt.hist(interactions,bins=20)\n",
        "    plt.show()\n",
        "\n",
        "    # create the user item matrix using the ratings dataset - Hint: try using pivot function \n",
        "    interactions_metrix = data.pivot_table(index=\"ACCOUNT_NUM.hash\", columns=\"package\", values=\"ratings\",aggfunc=np.sum)\n",
        "    # replace all the missing values with zero\n",
        "    return interactions_metrix.fillna(0)"
      ],
      "outputs": [],
      "execution_count": 93,
      "metadata": {
        "gather": {
          "logged": 1645974678306
        }
      },
      "id": "038dae8f"
    },
    {
      "cell_type": "code",
      "source": [
        "create_interaction_matrix(data)"
      ],
      "outputs": [
        {
          "output_type": "display_data",
          "data": {
            "text/plain": "<Figure size 432x288 with 1 Axes>",
            "image/png": "[encoded data removed]"
          },
          "metadata": {
            "needs_background": "light"
          }
        },
        {
          "output_type": "execute_result",
          "execution_count": 94,
          "data": {
            "text/plain": "package                            4G  DOUBLE_PLAY_BV  DOUBLE_PLAY_PV  \\\nACCOUNT_NUM.hash                                                        \n0003102d10a11c8f2f0f241f00a36b2d  0.0        0.000000        0.000000   \n0003df7598926f578f53ecd9e424f3c9  0.0        0.330602        0.000000   \n00092b1fd47eb05d000a3553ae072056  0.0        0.000000        0.000000   \n00094326efae1d73371d118204e12e46  0.0        0.000000        0.343136   \n000ae59b7eb91e778f22e3f07495f4f9  0.0        0.416101        0.000000   \n...                               ...             ...             ...   \nfff9148b195a844454cf5b07c2fccbcb  0.0        0.000000        0.090593   \nfffaeeddaabbd2868c183d8884b2a98d  0.0        0.000000        0.000000   \nfffd0b8541e9f62496092d2ea8609135  0.0        0.000000        0.000000   \nffff7fc0c266ac5b34f91de1ba4f3039  0.0        0.000000        0.000000   \nffffe6d0d44f76428f676bd36e83df76  0.0        0.000000        0.000000   \n\npackage                           SINGLE_PLAY  TRIPLE_PLAY  \nACCOUNT_NUM.hash                                            \n0003102d10a11c8f2f0f241f00a36b2d     0.000000     0.713319  \n0003df7598926f578f53ecd9e424f3c9     0.000000     0.000000  \n00092b1fd47eb05d000a3553ae072056     0.000000     0.413539  \n00094326efae1d73371d118204e12e46     0.000000     0.000000  \n000ae59b7eb91e778f22e3f07495f4f9     0.000000     0.000000  \n...                                       ...          ...  \nfff9148b195a844454cf5b07c2fccbcb     0.000000     0.000000  \nfffaeeddaabbd2868c183d8884b2a98d     0.000000     0.449490  \nfffd0b8541e9f62496092d2ea8609135     0.000000     0.514746  \nffff7fc0c266ac5b34f91de1ba4f3039     0.000000     0.377707  \nffffe6d0d44f76428f676bd36e83df76     0.243251     0.000000  \n\n[42594 rows x 5 columns]",
            "text/html": "<div>\n<style scoped>\n    .dataframe tbody tr th:only-of-type {\n        vertical-align: middle;\n    }\n\n    .dataframe tbody tr th {\n        vertical-align: top;\n    }\n\n    .dataframe thead th {\n        text-align: right;\n    }\n</style>\n<table border=\"1\" class=\"dataframe\">\n  <thead>\n    <tr style=\"text-align: right;\">\n      <th>package</th>\n      <th>4G</th>\n      <th>DOUBLE_PLAY_BV</th>\n      <th>DOUBLE_PLAY_PV</th>\n      <th>SINGLE_PLAY</th>\n      <th>TRIPLE_PLAY</th>\n    </tr>\n    <tr>\n      <th>ACCOUNT_NUM.hash</th>\n      <th></th>\n      <th></th>\n      <th></th>\n      <th></th>\n      <th></th>\n    </tr>\n  </thead>\n  <tbody>\n    <tr>\n      <th>0003102d10a11c8f2f0f241f00a36b2d</th>\n      <td>0.0</td>\n      <td>0.000000</td>\n      <td>0.000000</td>\n      <td>0.000000</td>\n      <td>0.713319</td>\n    </tr>\n    <tr>\n      <th>0003df7598926f578f53ecd9e424f3c9</th>\n      <td>0.0</td>\n      <td>0.330602</td>\n      <td>0.000000</td>\n      <td>0.000000</td>\n      <td>0.000000</td>\n    </tr>\n    <tr>\n      <th>00092b1fd47eb05d000a3553ae072056</th>\n      <td>0.0</td>\n      <td>0.000000</td>\n      <td>0.000000</td>\n      <td>0.000000</td>\n      <td>0.413539</td>\n    </tr>\n    <tr>\n      <th>00094326efae1d73371d118204e12e46</th>\n      <td>0.0</td>\n      <td>0.000000</td>\n      <td>0.343136</td>\n      <td>0.000000</td>\n      <td>0.000000</td>\n    </tr>\n    <tr>\n      <th>000ae59b7eb91e778f22e3f07495f4f9</th>\n      <td>0.0</td>\n      <td>0.416101</td>\n      <td>0.000000</td>\n      <td>0.000000</td>\n      <td>0.000000</td>\n    </tr>\n    <tr>\n      <th>...</th>\n      <td>...</td>\n      <td>...</td>\n      <td>...</td>\n      <td>...</td>\n      <td>...</td>\n    </tr>\n    <tr>\n      <th>fff9148b195a844454cf5b07c2fccbcb</th>\n      <td>0.0</td>\n      <td>0.000000</td>\n      <td>0.090593</td>\n      <td>0.000000</td>\n      <td>0.000000</td>\n    </tr>\n    <tr>\n      <th>fffaeeddaabbd2868c183d8884b2a98d</th>\n      <td>0.0</td>\n      <td>0.000000</td>\n      <td>0.000000</td>\n      <td>0.000000</td>\n      <td>0.449490</td>\n    </tr>\n    <tr>\n      <th>fffd0b8541e9f62496092d2ea8609135</th>\n      <td>0.0</td>\n      <td>0.000000</td>\n      <td>0.000000</td>\n      <td>0.000000</td>\n      <td>0.514746</td>\n    </tr>\n    <tr>\n      <th>ffff7fc0c266ac5b34f91de1ba4f3039</th>\n      <td>0.0</td>\n      <td>0.000000</td>\n      <td>0.000000</td>\n      <td>0.000000</td>\n      <td>0.377707</td>\n    </tr>\n    <tr>\n      <th>ffffe6d0d44f76428f676bd36e83df76</th>\n      <td>0.0</td>\n      <td>0.000000</td>\n      <td>0.000000</td>\n      <td>0.243251</td>\n      <td>0.000000</td>\n    </tr>\n  </tbody>\n</table>\n<p>42594 rows × 5 columns</p>\n</div>"
          },
          "metadata": {}
        }
      ],
      "execution_count": 94,
      "metadata": {
        "gather": {
          "logged": 1645974678445
        }
      },
      "id": "1b4a8976"
    },
    {
      "cell_type": "code",
      "source": [
        "#X = interactions_metrix.values.T"
      ],
      "outputs": [],
      "execution_count": 95,
      "metadata": {
        "gather": {
          "logged": 1645974678551
        }
      },
      "id": "02e59ddf"
    },
    {
      "cell_type": "markdown",
      "source": [
        "## Function definition"
      ],
      "metadata": {
        "nteract": {
          "transient": {
            "deleting": false
          }
        }
      },
      "id": "3bc85b4d-ef7c-4cdc-bfe0-5851a915b972"
    },
    {
      "cell_type": "code",
      "source": [
        "def train_test_splitter(data):\n",
        "    reader = Reader(rating_scale=(0, 1))\n",
        "    data_model = Dataset.load_from_df(data, reader)\n",
        "    return data_model,train_test_split(data_model, test_size=.20)"
      ],
      "outputs": [],
      "execution_count": 96,
      "metadata": {
        "jupyter": {
          "source_hidden": false,
          "outputs_hidden": false
        },
        "nteract": {
          "transient": {
            "deleting": false
          }
        },
        "gather": {
          "logged": 1645974678647
        }
      },
      "id": "43675b36-7d62-4666-933d-1a2ba990d544"
    },
    {
      "cell_type": "code",
      "source": [
        "def get_Iu(uid):\n",
        "    \"\"\"Return the number of items rated by given user\n",
        "    \n",
        "    Args:\n",
        "        uid: The raw id of the user.\n",
        "    Returns:\n",
        "        The number of items rated by the user.\n",
        "    \"\"\"\n",
        "    \n",
        "    try:\n",
        "        return len(trainset.ur[trainset.to_inner_uid(uid)])\n",
        "    except ValueError:  # user was not part of the trainset\n",
        "        return 0\n",
        "    \n",
        "def get_Ui(iid):\n",
        "    \"\"\"Return the number of users that have rated given item\n",
        "    \n",
        "    Args:\n",
        "        iid: The raw id of the item.\n",
        "    Returns:\n",
        "        The number of users that have rated the item.\n",
        "    \"\"\"\n",
        "    \n",
        "    try:\n",
        "        return len(trainset.ir[trainset.to_inner_iid(iid)])\n",
        "    except ValueError:  # item was not part of the trainset\n",
        "        return 0"
      ],
      "outputs": [],
      "execution_count": 97,
      "metadata": {
        "gather": {
          "logged": 1645974678723
        }
      },
      "id": "f0f45728"
    },
    {
      "cell_type": "code",
      "source": [
        "def get_top_n(predictions, n=10):\n",
        "    \n",
        "    # First map the predictions to each user.\n",
        "    top_n = defaultdict(list)\n",
        "    for uid, iid, true_r, est, _ in predictions:\n",
        "        top_n[uid].append((iid, est, true_r))\n",
        "\n",
        "    for uid, user_ratings in top_n.items():\n",
        "        user_ratings.sort(key=lambda x: x[1], reverse=True)\n",
        "        top_n[uid] = user_ratings[:5]\n",
        "        \n",
        "\n",
        "    return top_n"
      ],
      "outputs": [],
      "execution_count": 98,
      "metadata": {
        "jupyter": {
          "source_hidden": false,
          "outputs_hidden": false
        },
        "nteract": {
          "transient": {
            "deleting": false
          }
        },
        "gather": {
          "logged": 1645974678812
        }
      },
      "id": "1b0a6ab6-536b-4aae-99b2-6a43f80cb8da"
    },
    {
      "cell_type": "code",
      "source": [
        "# calculate NDCG\n",
        "def ndcg(y_true, y_pred, k=None, powered=False):\n",
        "    def dcg(scores, k=None, powered=False):\n",
        "        if k is None:\n",
        "            k = scores.shape[0]\n",
        "        if not powered:\n",
        "            ret = scores[0]\n",
        "            for i in range(1, k):\n",
        "                ret += scores[i] / np.log2(i + 1)\n",
        "            return ret\n",
        "        else:\n",
        "            ret = 0\n",
        "            for i in range(k):\n",
        "                ret += (2 ** scores[i] - 1) / np.log2(i + 2)\n",
        "            return ret\n",
        "    \n",
        "    ideal_sorted_scores = np.sort(y_true)[::-1]\n",
        "    ideal_dcg_score = dcg(ideal_sorted_scores, k=k, powered=powered)\n",
        "    \n",
        "    pred_sorted_ind = np.argsort(y_pred)[::-1]\n",
        "    pred_sorted_scores = y_true[pred_sorted_ind]\n",
        "    dcg_score = dcg(pred_sorted_scores, k=k, powered=powered)\n",
        "    \n",
        "    return dcg_score / ideal_dcg_score\n",
        "\n",
        "def ndcg1(y_true, y_pred, k=None):\n",
        "    return ndcg(y_true, y_pred, k=k, powered=False)\n",
        "\n",
        "def ndcg2(y_true, y_pred, k=None):\n",
        "    return ndcg(y_true, y_pred, k=k, powered=True)"
      ],
      "outputs": [],
      "execution_count": 99,
      "metadata": {
        "jupyter": {
          "source_hidden": false,
          "outputs_hidden": false
        },
        "nteract": {
          "transient": {
            "deleting": false
          }
        },
        "gather": {
          "logged": 1645974678897
        }
      },
      "id": "e4af93f4-c09b-4e96-adf4-83beb557a578"
    },
    {
      "cell_type": "code",
      "source": [
        "def top_n_pred(predictions):\n",
        "    top_n = get_top_n(predictions, n=3)\n",
        "    #print(top_n)\n",
        "    users_est = defaultdict(list)\n",
        "    users_true=defaultdict(list)\n",
        "    rec_for_user=defaultdict(list)\n",
        "    for uid, user_ratings in top_n.items():\n",
        "        users_est[uid].append([est for (_, est,_) in user_ratings])\n",
        "        users_true[uid].append([true_r for (_,_,true_r) in user_ratings])\n",
        "        rec_for_user[uid].append([iid for (iid,_,_) in user_ratings])\n",
        "    return top_n, users_est, users_true, rec_for_user"
      ],
      "outputs": [],
      "execution_count": 100,
      "metadata": {
        "jupyter": {
          "source_hidden": false,
          "outputs_hidden": false
        },
        "nteract": {
          "transient": {
            "deleting": false
          }
        },
        "gather": {
          "logged": 1645974678966
        }
      },
      "id": "9d1f7d37-cbb6-4796-8aa9-4c4b2e36eee1"
    },
    {
      "cell_type": "code",
      "source": [
        "def calc_ndcg(users_true,users_est):\n",
        "    ndcg_list=[]\n",
        "    for uid in top_n:\n",
        "        \n",
        "        for i in users_true[uid]:\n",
        "            y_true=np.asarray(i)#.reshape(-1,1)\n",
        "        for i in users_est[uid]:\n",
        "            y_pred=np.asarray(i)#.reshape(-1,1)\n",
        "        \n",
        "            ndcg_list.append(ndcg1(y_true, y_pred, k=None))\n",
        "\n",
        "    ndcg_list = [i for i in ndcg_list if str(i) != 'nan']\n",
        "    ndgc_rate = np.mean(ndcg_list)\n",
        "    return ndcg_list, ndgc_rate"
      ],
      "outputs": [],
      "execution_count": 101,
      "metadata": {
        "jupyter": {
          "source_hidden": false,
          "outputs_hidden": false
        },
        "nteract": {
          "transient": {
            "deleting": false
          }
        },
        "gather": {
          "logged": 1645974679046
        }
      },
      "id": "7ef29738-ef11-462b-89b2-dabcd72c4845"
    },
    {
      "cell_type": "markdown",
      "source": [
        "## Collobarative Recommenders"
      ],
      "metadata": {
        "nteract": {
          "transient": {
            "deleting": false
          }
        }
      },
      "id": "e610e900-61a6-4c78-a54f-0d27c3a168c1"
    },
    {
      "cell_type": "code",
      "source": [
        "data.info()"
      ],
      "outputs": [
        {
          "output_type": "stream",
          "name": "stdout",
          "text": "<class 'pandas.core.frame.DataFrame'>\nRangeIndex: 42594 entries, 0 to 42593\nData columns (total 3 columns):\n #   Column            Non-Null Count  Dtype  \n---  ------            --------------  -----  \n 0   ACCOUNT_NUM.hash  42594 non-null  object \n 1   package           42594 non-null  object \n 2   ratings           42594 non-null  float64\ndtypes: float64(1), object(2)\nmemory usage: 998.4+ KB\n"
        }
      ],
      "execution_count": 102,
      "metadata": {
        "jupyter": {
          "source_hidden": false,
          "outputs_hidden": false
        },
        "nteract": {
          "transient": {
            "deleting": false
          }
        },
        "gather": {
          "logged": 1645974679107
        }
      },
      "id": "9e793712-6d37-4554-8c38-1b875cbe8579"
    },
    {
      "cell_type": "code",
      "source": [
        "data = data[data[\"ratings\"] > 0]"
      ],
      "outputs": [],
      "execution_count": 103,
      "metadata": {
        "jupyter": {
          "source_hidden": false,
          "outputs_hidden": false
        },
        "nteract": {
          "transient": {
            "deleting": false
          }
        },
        "gather": {
          "logged": 1645974679188
        }
      },
      "id": "16267474-479f-46d9-ab04-95f9315e6962"
    },
    {
      "cell_type": "code",
      "source": [
        "data_model, (trainset, testset) = train_test_splitter(data)"
      ],
      "outputs": [],
      "execution_count": 105,
      "metadata": {
        "jupyter": {
          "source_hidden": false,
          "outputs_hidden": false
        },
        "nteract": {
          "transient": {
            "deleting": false
          }
        },
        "gather": {
          "logged": 1645974695381
        }
      },
      "id": "6674fd94-2f06-4d61-bedd-f294e99db4b7"
    },
    {
      "cell_type": "markdown",
      "source": [
        "## SVD Model"
      ],
      "metadata": {},
      "id": "8160b90c"
    },
    {
      "cell_type": "code",
      "source": [
        "# We'll use the famous SVD algorithm.\n",
        "algo = SVD()\n",
        "\n",
        "# Run 5-fold cross-validation and print results\n",
        "svd_validate = cross_validate(algo, data_model, measures=['RMSE', 'MAE'], cv=5, verbose=True)"
      ],
      "outputs": [
        {
          "output_type": "stream",
          "name": "stdout",
          "text": "Evaluating RMSE, MAE of algorithm SVD on 5 split(s).\n\n                  Fold 1  Fold 2  Fold 3  Fold 4  Fold 5  Mean    Std     \nRMSE (testset)    0.1772  0.1776  0.1778  0.1757  0.1754  0.1767  0.0010  \nMAE (testset)     0.1403  0.1411  0.1413  0.1396  0.1404  0.1405  0.0006  \nFit time          2.04    2.05    1.98    2.03    2.06    2.03    0.03    \nTest time         0.05    0.05    0.05    0.05    0.05    0.05    0.00    \n"
        }
      ],
      "execution_count": 106,
      "metadata": {
        "gather": {
          "logged": 1645974708920
        }
      },
      "id": "3f2a3925"
    },
    {
      "cell_type": "code",
      "source": [
        "# Train the algorithm on the trainset, and predict ratings for the testset\n",
        "algo.fit(trainset)\n",
        "predictions = algo.test(testset)"
      ],
      "outputs": [],
      "execution_count": 107,
      "metadata": {
        "gather": {
          "logged": 1645974711278
        }
      },
      "id": "8faa68d8"
    },
    {
      "cell_type": "code",
      "source": [
        "top_n, users_est, users_true, rec_for_user = top_n_pred(predictions)"
      ],
      "outputs": [],
      "execution_count": 108,
      "metadata": {
        "gather": {
          "logged": 1645974711346
        }
      },
      "id": "23d9ee07"
    },
    {
      "cell_type": "code",
      "source": [
        "ndcg_list, ndgc_rate = calc_ndcg(users_true,users_est)\n",
        "print(\"NDCG\", ndgc_rate)"
      ],
      "outputs": [
        {
          "output_type": "stream",
          "name": "stdout",
          "text": "NDCG 1.0\n"
        }
      ],
      "execution_count": 109,
      "metadata": {
        "jupyter": {
          "source_hidden": false,
          "outputs_hidden": false
        },
        "nteract": {
          "transient": {
            "deleting": false
          }
        },
        "gather": {
          "logged": 1645974711528
        }
      },
      "id": "e890aa82-79dd-4dda-b3e6-3cf6ec24640c"
    },
    {
      "cell_type": "code",
      "source": [
        "# Let's build a pandas dataframe with all the predictions\n",
        "df = pd.DataFrame(predictions, columns=['uid', 'iid', 'rui', 'est', 'details'])    \n",
        "df['Iu'] = df.uid.apply(get_Iu)\n",
        "df['Ui'] = df.iid.apply(get_Ui)\n",
        "df['err'] = abs(df.est - df.rui)"
      ],
      "outputs": [],
      "execution_count": 110,
      "metadata": {
        "gather": {
          "logged": 1645974711661
        }
      },
      "id": "81c2b345"
    },
    {
      "cell_type": "code",
      "source": [
        "# 10 Best predictions\n",
        "best_predictions = df.sort_values(by='err')[:10]\n",
        "best_predictions"
      ],
      "outputs": [
        {
          "output_type": "execute_result",
          "execution_count": 111,
          "data": {
            "text/plain": "                                   uid             iid       rui       est  \\\n2538  50f1aaf9203d4106d6e9663f2f54258a  DOUBLE_PLAY_BV  0.390865  0.390790   \n4405  1f8be202ae50b5d1b39ce719d9a04eb4     TRIPLE_PLAY  0.513389  0.513476   \n7080  c395d3d9a551864d2ecf21950eebcadb  DOUBLE_PLAY_BV  0.390890  0.390790   \n2345  d3b51a6dd82d7a3c6c3a60dd511ce75a     TRIPLE_PLAY  0.513620  0.513476   \n8130  78d55b3934d42f3bce9a4dc41676219b  DOUBLE_PLAY_BV  0.390972  0.390790   \n2368  000f1aa5bd19fc28f99766f1b85a6be3  DOUBLE_PLAY_BV  0.391003  0.390790   \n3944  0a4ed644d21fbaee7aa5ac3ec938c9f6  DOUBLE_PLAY_BV  0.390574  0.390790   \n4610  5475288d99a3866f801db7e6e0773b60  DOUBLE_PLAY_BV  0.390546  0.390790   \n480   8fb36ea3f4604f4e60ea72e3875b9eb5  DOUBLE_PLAY_BV  0.391057  0.390790   \n5577  22b780067608fcd7d6030ad485d7025f     TRIPLE_PLAY  0.513743  0.513476   \n\n                        details  Iu     Ui       err  \n2538  {'was_impossible': False}   0  12600  0.000075  \n4405  {'was_impossible': False}   0  12762  0.000087  \n7080  {'was_impossible': False}   0  12600  0.000100  \n2345  {'was_impossible': False}   0  12762  0.000144  \n8130  {'was_impossible': False}   0  12600  0.000182  \n2368  {'was_impossible': False}   0  12600  0.000213  \n3944  {'was_impossible': False}   0  12600  0.000217  \n4610  {'was_impossible': False}   0  12600  0.000245  \n480   {'was_impossible': False}   0  12600  0.000267  \n5577  {'was_impossible': False}   0  12762  0.000267  ",
            "text/html": "<div>\n<style scoped>\n    .dataframe tbody tr th:only-of-type {\n        vertical-align: middle;\n    }\n\n    .dataframe tbody tr th {\n        vertical-align: top;\n    }\n\n    .dataframe thead th {\n        text-align: right;\n    }\n</style>\n<table border=\"1\" class=\"dataframe\">\n  <thead>\n    <tr style=\"text-align: right;\">\n      <th></th>\n      <th>uid</th>\n      <th>iid</th>\n      <th>rui</th>\n      <th>est</th>\n      <th>details</th>\n      <th>Iu</th>\n      <th>Ui</th>\n      <th>err</th>\n    </tr>\n  </thead>\n  <tbody>\n    <tr>\n      <th>2538</th>\n      <td>50f1aaf9203d4106d6e9663f2f54258a</td>\n      <td>DOUBLE_PLAY_BV</td>\n      <td>0.390865</td>\n      <td>0.390790</td>\n      <td>{'was_impossible': False}</td>\n      <td>0</td>\n      <td>12600</td>\n      <td>0.000075</td>\n    </tr>\n    <tr>\n      <th>4405</th>\n      <td>1f8be202ae50b5d1b39ce719d9a04eb4</td>\n      <td>TRIPLE_PLAY</td>\n      <td>0.513389</td>\n      <td>0.513476</td>\n      <td>{'was_impossible': False}</td>\n      <td>0</td>\n      <td>12762</td>\n      <td>0.000087</td>\n    </tr>\n    <tr>\n      <th>7080</th>\n      <td>c395d3d9a551864d2ecf21950eebcadb</td>\n      <td>DOUBLE_PLAY_BV</td>\n      <td>0.390890</td>\n      <td>0.390790</td>\n      <td>{'was_impossible': False}</td>\n      <td>0</td>\n      <td>12600</td>\n      <td>0.000100</td>\n    </tr>\n    <tr>\n      <th>2345</th>\n      <td>d3b51a6dd82d7a3c6c3a60dd511ce75a</td>\n      <td>TRIPLE_PLAY</td>\n      <td>0.513620</td>\n      <td>0.513476</td>\n      <td>{'was_impossible': False}</td>\n      <td>0</td>\n      <td>12762</td>\n      <td>0.000144</td>\n    </tr>\n    <tr>\n      <th>8130</th>\n      <td>78d55b3934d42f3bce9a4dc41676219b</td>\n      <td>DOUBLE_PLAY_BV</td>\n      <td>0.390972</td>\n      <td>0.390790</td>\n      <td>{'was_impossible': False}</td>\n      <td>0</td>\n      <td>12600</td>\n      <td>0.000182</td>\n    </tr>\n    <tr>\n      <th>2368</th>\n      <td>000f1aa5bd19fc28f99766f1b85a6be3</td>\n      <td>DOUBLE_PLAY_BV</td>\n      <td>0.391003</td>\n      <td>0.390790</td>\n      <td>{'was_impossible': False}</td>\n      <td>0</td>\n      <td>12600</td>\n      <td>0.000213</td>\n    </tr>\n    <tr>\n      <th>3944</th>\n      <td>0a4ed644d21fbaee7aa5ac3ec938c9f6</td>\n      <td>DOUBLE_PLAY_BV</td>\n      <td>0.390574</td>\n      <td>0.390790</td>\n      <td>{'was_impossible': False}</td>\n      <td>0</td>\n      <td>12600</td>\n      <td>0.000217</td>\n    </tr>\n    <tr>\n      <th>4610</th>\n      <td>5475288d99a3866f801db7e6e0773b60</td>\n      <td>DOUBLE_PLAY_BV</td>\n      <td>0.390546</td>\n      <td>0.390790</td>\n      <td>{'was_impossible': False}</td>\n      <td>0</td>\n      <td>12600</td>\n      <td>0.000245</td>\n    </tr>\n    <tr>\n      <th>480</th>\n      <td>8fb36ea3f4604f4e60ea72e3875b9eb5</td>\n      <td>DOUBLE_PLAY_BV</td>\n      <td>0.391057</td>\n      <td>0.390790</td>\n      <td>{'was_impossible': False}</td>\n      <td>0</td>\n      <td>12600</td>\n      <td>0.000267</td>\n    </tr>\n    <tr>\n      <th>5577</th>\n      <td>22b780067608fcd7d6030ad485d7025f</td>\n      <td>TRIPLE_PLAY</td>\n      <td>0.513743</td>\n      <td>0.513476</td>\n      <td>{'was_impossible': False}</td>\n      <td>0</td>\n      <td>12762</td>\n      <td>0.000267</td>\n    </tr>\n  </tbody>\n</table>\n</div>"
          },
          "metadata": {}
        }
      ],
      "execution_count": 111,
      "metadata": {
        "gather": {
          "logged": 1645974711753
        }
      },
      "id": "a1b888b2"
    },
    {
      "cell_type": "code",
      "source": [
        "rmse = accuracy.rmse(predictions)\n",
        "print(\"SVD RMSE -->\",rmse)\n",
        "print(\"SVD Accuracy -->\",1-rmse)"
      ],
      "outputs": [
        {
          "output_type": "stream",
          "name": "stdout",
          "text": "RMSE: 0.1772\nRMSE --> 0.17718465584154022\nAccuracy --> 0.8228153441584598\n"
        }
      ],
      "execution_count": 112,
      "metadata": {
        "gather": {
          "logged": 1645974711875
        }
      },
      "id": "f8cea6af"
    },
    {
      "cell_type": "code",
      "source": [
        "data_triplet = data.merge(df[[\"uid\",\"iid\",\"err\"]], left_on=\"ACCOUNT_NUM.hash\", right_on =\"uid\", how=\"left\")\n",
        "data_triplet.dropna(subset=[\"uid\"],inplace=True)\n",
        "data_triplet.drop(\"uid\", axis=1, inplace = True)\n",
        "data_triplet.rename(columns={\"package\":\"Actual_Subscription\",\"iid\":\"SVD_recommendation\",\"err\":\"SVD_error\"}, inplace = True)"
      ],
      "outputs": [],
      "execution_count": 113,
      "metadata": {
        "gather": {
          "logged": 1645974711984
        }
      },
      "id": "53472e26"
    },
    {
      "cell_type": "markdown",
      "source": [
        "## SlopeOne"
      ],
      "metadata": {},
      "id": "166932b4"
    },
    {
      "cell_type": "code",
      "source": [
        "# We'll use the SlopeOne algorithm.\n",
        "algo = SlopeOne()\n",
        "\n",
        "# Run 5-fold cross-validation and print results\n",
        "so_validate =cross_validate(algo, data_model, measures=['RMSE', 'MAE'], cv=5, verbose=True)"
      ],
      "outputs": [
        {
          "output_type": "stream",
          "name": "stdout",
          "text": "Evaluating RMSE, MAE of algorithm SlopeOne on 5 split(s).\n\n                  Fold 1  Fold 2  Fold 3  Fold 4  Fold 5  Mean    Std     \nRMSE (testset)    0.2051  0.2053  0.2047  0.2023  0.2045  0.2044  0.0011  \nMAE (testset)     0.1607  0.1603  0.1600  0.1578  0.1599  0.1597  0.0010  \nFit time          0.33    0.35    0.34    0.33    0.34    0.34    0.01    \nTest time         0.06    0.06    0.06    0.28    0.06    0.10    0.09    \n"
        }
      ],
      "execution_count": 114,
      "metadata": {
        "gather": {
          "logged": 1645974719910
        }
      },
      "id": "94e9dc7c"
    },
    {
      "cell_type": "code",
      "source": [
        "# Train the algorithm on the trainset, and predict ratings for the testset\n",
        "algo.fit(trainset)\n",
        "predictions = algo.test(testset)"
      ],
      "outputs": [],
      "execution_count": 115,
      "metadata": {
        "gather": {
          "logged": 1645974720307
        }
      },
      "id": "27f42260"
    },
    {
      "cell_type": "code",
      "source": [
        "top_n, users_est, users_true, rec_for_user = top_n_pred(predictions)"
      ],
      "outputs": [],
      "execution_count": 116,
      "metadata": {
        "jupyter": {
          "source_hidden": false,
          "outputs_hidden": false
        },
        "nteract": {
          "transient": {
            "deleting": false
          }
        },
        "gather": {
          "logged": 1645974723489
        }
      },
      "id": "c6650be3-38b0-4691-86b5-2b69cd14b84e"
    },
    {
      "cell_type": "code",
      "source": [
        "ndcg_list, ndgc_rate = calc_ndcg(users_true,users_est)\n",
        "print(\"NDCG\", ndgc_rate)"
      ],
      "outputs": [
        {
          "output_type": "stream",
          "name": "stdout",
          "text": "NDCG 1.0\n"
        }
      ],
      "execution_count": 117,
      "metadata": {
        "jupyter": {
          "source_hidden": false,
          "outputs_hidden": false
        },
        "nteract": {
          "transient": {
            "deleting": false
          }
        },
        "gather": {
          "logged": 1645974725514
        }
      },
      "id": "3cf9a0b2-4ced-4645-a692-5cf236083c84"
    },
    {
      "cell_type": "code",
      "source": [
        "# Let's build a pandas dataframe with all the predictions\n",
        "df = pd.DataFrame(predictions, columns=['uid', 'iid', 'rui', 'est', 'details'])    \n",
        "df['Iu'] = df.uid.apply(get_Iu)\n",
        "df['Ui'] = df.iid.apply(get_Ui)\n",
        "df['err'] = abs(df.est - df.rui)"
      ],
      "outputs": [],
      "execution_count": 118,
      "metadata": {
        "gather": {
          "logged": 1645974727336
        }
      },
      "id": "b06b86d3"
    },
    {
      "cell_type": "code",
      "source": [
        "# 10 Best predictions\n",
        "best_predictions = df.sort_values(by='err')[:10]\n",
        "best_predictions"
      ],
      "outputs": [
        {
          "output_type": "execute_result",
          "execution_count": 119,
          "data": {
            "text/plain": "                                   uid             iid       rui      est  \\\n648   78992e49c15cc5701e92a3768fdbd70b     TRIPLE_PLAY  0.407579  0.40764   \n1298  9caa84cd5c5e530f4d655ee08facb7b2  DOUBLE_PLAY_BV  0.407570  0.40764   \n3740  573eeb92a1dd657d4e8659c1f1222a1a  DOUBLE_PLAY_BV  0.407736  0.40764   \n7159  1fcbbb4a01ed893ff0783dfd8c0f180b     TRIPLE_PLAY  0.407739  0.40764   \n4298  e9c95b5fd9e55a037f7fd7eb627d85a3  DOUBLE_PLAY_BV  0.407752  0.40764   \n1186  3172a69d47bb0057c940b995846f9c9f     TRIPLE_PLAY  0.407772  0.40764   \n2542  4e059b1d0a7e87404a2d44d0df0e76f0     TRIPLE_PLAY  0.407797  0.40764   \n5449  441e119f478200b468fe8234c4809f8d  DOUBLE_PLAY_BV  0.407798  0.40764   \n1279  5d02ecf6c1bbd02382d22928fa0997b7  DOUBLE_PLAY_BV  0.407437  0.40764   \n5520  fabd9dab5c89545f34a3a54977a13f3c  DOUBLE_PLAY_BV  0.407391  0.40764   \n\n                                                details  Iu     Ui       err  \n648   {'was_impossible': True, 'reason': 'User and/o...   0  12762  0.000061  \n1298  {'was_impossible': True, 'reason': 'User and/o...   0  12600  0.000070  \n3740  {'was_impossible': True, 'reason': 'User and/o...   0  12600  0.000096  \n7159  {'was_impossible': True, 'reason': 'User and/o...   0  12762  0.000100  \n4298  {'was_impossible': True, 'reason': 'User and/o...   0  12600  0.000112  \n1186  {'was_impossible': True, 'reason': 'User and/o...   0  12762  0.000132  \n2542  {'was_impossible': True, 'reason': 'User and/o...   0  12762  0.000157  \n5449  {'was_impossible': True, 'reason': 'User and/o...   0  12600  0.000158  \n1279  {'was_impossible': True, 'reason': 'User and/o...   0  12600  0.000202  \n5520  {'was_impossible': True, 'reason': 'User and/o...   0  12600  0.000249  ",
            "text/html": "<div>\n<style scoped>\n    .dataframe tbody tr th:only-of-type {\n        vertical-align: middle;\n    }\n\n    .dataframe tbody tr th {\n        vertical-align: top;\n    }\n\n    .dataframe thead th {\n        text-align: right;\n    }\n</style>\n<table border=\"1\" class=\"dataframe\">\n  <thead>\n    <tr style=\"text-align: right;\">\n      <th></th>\n      <th>uid</th>\n      <th>iid</th>\n      <th>rui</th>\n      <th>est</th>\n      <th>details</th>\n      <th>Iu</th>\n      <th>Ui</th>\n      <th>err</th>\n    </tr>\n  </thead>\n  <tbody>\n    <tr>\n      <th>648</th>\n      <td>78992e49c15cc5701e92a3768fdbd70b</td>\n      <td>TRIPLE_PLAY</td>\n      <td>0.407579</td>\n      <td>0.40764</td>\n      <td>{'was_impossible': True, 'reason': 'User and/o...</td>\n      <td>0</td>\n      <td>12762</td>\n      <td>0.000061</td>\n    </tr>\n    <tr>\n      <th>1298</th>\n      <td>9caa84cd5c5e530f4d655ee08facb7b2</td>\n      <td>DOUBLE_PLAY_BV</td>\n      <td>0.407570</td>\n      <td>0.40764</td>\n      <td>{'was_impossible': True, 'reason': 'User and/o...</td>\n      <td>0</td>\n      <td>12600</td>\n      <td>0.000070</td>\n    </tr>\n    <tr>\n      <th>3740</th>\n      <td>573eeb92a1dd657d4e8659c1f1222a1a</td>\n      <td>DOUBLE_PLAY_BV</td>\n      <td>0.407736</td>\n      <td>0.40764</td>\n      <td>{'was_impossible': True, 'reason': 'User and/o...</td>\n      <td>0</td>\n      <td>12600</td>\n      <td>0.000096</td>\n    </tr>\n    <tr>\n      <th>7159</th>\n      <td>1fcbbb4a01ed893ff0783dfd8c0f180b</td>\n      <td>TRIPLE_PLAY</td>\n      <td>0.407739</td>\n      <td>0.40764</td>\n      <td>{'was_impossible': True, 'reason': 'User and/o...</td>\n      <td>0</td>\n      <td>12762</td>\n      <td>0.000100</td>\n    </tr>\n    <tr>\n      <th>4298</th>\n      <td>e9c95b5fd9e55a037f7fd7eb627d85a3</td>\n      <td>DOUBLE_PLAY_BV</td>\n      <td>0.407752</td>\n      <td>0.40764</td>\n      <td>{'was_impossible': True, 'reason': 'User and/o...</td>\n      <td>0</td>\n      <td>12600</td>\n      <td>0.000112</td>\n    </tr>\n    <tr>\n      <th>1186</th>\n      <td>3172a69d47bb0057c940b995846f9c9f</td>\n      <td>TRIPLE_PLAY</td>\n      <td>0.407772</td>\n      <td>0.40764</td>\n      <td>{'was_impossible': True, 'reason': 'User and/o...</td>\n      <td>0</td>\n      <td>12762</td>\n      <td>0.000132</td>\n    </tr>\n    <tr>\n      <th>2542</th>\n      <td>4e059b1d0a7e87404a2d44d0df0e76f0</td>\n      <td>TRIPLE_PLAY</td>\n      <td>0.407797</td>\n      <td>0.40764</td>\n      <td>{'was_impossible': True, 'reason': 'User and/o...</td>\n      <td>0</td>\n      <td>12762</td>\n      <td>0.000157</td>\n    </tr>\n    <tr>\n      <th>5449</th>\n      <td>441e119f478200b468fe8234c4809f8d</td>\n      <td>DOUBLE_PLAY_BV</td>\n      <td>0.407798</td>\n      <td>0.40764</td>\n      <td>{'was_impossible': True, 'reason': 'User and/o...</td>\n      <td>0</td>\n      <td>12600</td>\n      <td>0.000158</td>\n    </tr>\n    <tr>\n      <th>1279</th>\n      <td>5d02ecf6c1bbd02382d22928fa0997b7</td>\n      <td>DOUBLE_PLAY_BV</td>\n      <td>0.407437</td>\n      <td>0.40764</td>\n      <td>{'was_impossible': True, 'reason': 'User and/o...</td>\n      <td>0</td>\n      <td>12600</td>\n      <td>0.000202</td>\n    </tr>\n    <tr>\n      <th>5520</th>\n      <td>fabd9dab5c89545f34a3a54977a13f3c</td>\n      <td>DOUBLE_PLAY_BV</td>\n      <td>0.407391</td>\n      <td>0.40764</td>\n      <td>{'was_impossible': True, 'reason': 'User and/o...</td>\n      <td>0</td>\n      <td>12600</td>\n      <td>0.000249</td>\n    </tr>\n  </tbody>\n</table>\n</div>"
          },
          "metadata": {}
        }
      ],
      "execution_count": 119,
      "metadata": {
        "gather": {
          "logged": 1645974729401
        }
      },
      "id": "55127359"
    },
    {
      "cell_type": "code",
      "source": [
        "rmse = accuracy.rmse(predictions)\n",
        "print(\"SlopeOne RMSE -->\",rmse)\n",
        "print(\"SlopeOne Accuracy -->\",1-rmse)"
      ],
      "outputs": [
        {
          "output_type": "stream",
          "name": "stdout",
          "text": "RMSE: 0.2052\nRMSE --> 0.20517137961525037\nAccuracy --> 0.7948286203847497\n"
        }
      ],
      "execution_count": 120,
      "metadata": {
        "gather": {
          "logged": 1645974731890
        }
      },
      "id": "9ed6ce12"
    },
    {
      "cell_type": "code",
      "source": [
        "data_triplet = data_triplet.merge(df[[\"uid\",\"iid\",\"err\"]], left_on=\"ACCOUNT_NUM.hash\", right_on =\"uid\", how=\"left\")\n",
        "data_triplet.dropna(subset=[\"uid\"],inplace=True)\n",
        "data_triplet.drop(\"uid\", axis=1, inplace = True)\n",
        "data_triplet.rename(columns={\"iid\":\"SlopeOne_recommendation\",\"err\":\"SlopeOne_error\"}, inplace = True)"
      ],
      "outputs": [],
      "execution_count": 121,
      "metadata": {
        "gather": {
          "logged": 1645974733785
        }
      },
      "id": "a2056605"
    },
    {
      "cell_type": "markdown",
      "source": [
        "## Matrix factorization (NMF)"
      ],
      "metadata": {},
      "id": "47d349c3"
    },
    {
      "cell_type": "code",
      "source": [
        "# We'll use the SlopeOne algorithm.\n",
        "algo = NMF()\n",
        "\n",
        "# Run 5-fold cross-validation and print results\n",
        "nmf_validate =cross_validate(algo, data_model, measures=['RMSE', 'MAE'], cv=5, verbose=True)"
      ],
      "outputs": [
        {
          "output_type": "stream",
          "name": "stdout",
          "text": "Evaluating RMSE, MAE of algorithm NMF on 5 split(s).\n\n                  Fold 1  Fold 2  Fold 3  Fold 4  Fold 5  Mean    Std     \nRMSE (testset)    0.2022  0.2053  0.2043  0.2063  0.2039  0.2044  0.0014  \nMAE (testset)     0.1575  0.1608  0.1594  0.1616  0.1594  0.1597  0.0014  \nFit time          4.43    4.26    4.30    4.15    4.12    4.25    0.11    \nTest time         0.27    0.05    0.05    0.05    0.25    0.13    0.10    \n"
        }
      ],
      "execution_count": 122,
      "metadata": {
        "gather": {
          "logged": 1645974758278
        }
      },
      "id": "6f8b029e"
    },
    {
      "cell_type": "code",
      "source": [
        "# Train the algorithm on the trainset, and predict ratings for the testset\n",
        "algo.fit(trainset)\n",
        "predictions = algo.test(testset)"
      ],
      "outputs": [],
      "execution_count": 123,
      "metadata": {
        "gather": {
          "logged": 1645974767307
        }
      },
      "id": "b4c744b8"
    },
    {
      "cell_type": "code",
      "source": [
        "top_n, users_est, users_true, rec_for_user = top_n_pred(predictions)"
      ],
      "outputs": [],
      "execution_count": 124,
      "metadata": {
        "jupyter": {
          "source_hidden": false,
          "outputs_hidden": false
        },
        "nteract": {
          "transient": {
            "deleting": false
          }
        },
        "gather": {
          "logged": 1645974777386
        }
      },
      "id": "60134af5-e297-4d93-8926-58fb26139e63"
    },
    {
      "cell_type": "code",
      "source": [
        "ndcg_list, ndgc_rate = calc_ndcg(users_true,users_est)\n",
        "print(\"NDCG\", ndgc_rate)"
      ],
      "outputs": [
        {
          "output_type": "stream",
          "name": "stdout",
          "text": "NDCG 1.0\n"
        }
      ],
      "execution_count": 125,
      "metadata": {
        "jupyter": {
          "source_hidden": false,
          "outputs_hidden": false
        },
        "nteract": {
          "transient": {
            "deleting": false
          }
        },
        "gather": {
          "logged": 1645974787957
        }
      },
      "id": "f641609f-cd53-4adf-ae53-b82ca3102a74"
    },
    {
      "cell_type": "code",
      "source": [
        "# Let's build a pandas dataframe with all the predictions\n",
        "df = pd.DataFrame(predictions, columns=['uid', 'iid', 'rui', 'est', 'details'])    \n",
        "df['Iu'] = df.uid.apply(get_Iu)\n",
        "df['Ui'] = df.iid.apply(get_Ui)\n",
        "df['err'] = abs(df.est - df.rui)"
      ],
      "outputs": [],
      "execution_count": 126,
      "metadata": {
        "gather": {
          "logged": 1645974790603
        }
      },
      "id": "8b02ca0e"
    },
    {
      "cell_type": "code",
      "source": [
        "# 10 Best predictions\n",
        "best_predictions = df.sort_values(by='err')[:10]\n",
        "best_predictions"
      ],
      "outputs": [
        {
          "output_type": "execute_result",
          "execution_count": 127,
          "data": {
            "text/plain": "                                   uid             iid       rui      est  \\\n648   78992e49c15cc5701e92a3768fdbd70b     TRIPLE_PLAY  0.407579  0.40764   \n1298  9caa84cd5c5e530f4d655ee08facb7b2  DOUBLE_PLAY_BV  0.407570  0.40764   \n3740  573eeb92a1dd657d4e8659c1f1222a1a  DOUBLE_PLAY_BV  0.407736  0.40764   \n7159  1fcbbb4a01ed893ff0783dfd8c0f180b     TRIPLE_PLAY  0.407739  0.40764   \n4298  e9c95b5fd9e55a037f7fd7eb627d85a3  DOUBLE_PLAY_BV  0.407752  0.40764   \n1186  3172a69d47bb0057c940b995846f9c9f     TRIPLE_PLAY  0.407772  0.40764   \n2542  4e059b1d0a7e87404a2d44d0df0e76f0     TRIPLE_PLAY  0.407797  0.40764   \n5449  441e119f478200b468fe8234c4809f8d  DOUBLE_PLAY_BV  0.407798  0.40764   \n1279  5d02ecf6c1bbd02382d22928fa0997b7  DOUBLE_PLAY_BV  0.407437  0.40764   \n5520  fabd9dab5c89545f34a3a54977a13f3c  DOUBLE_PLAY_BV  0.407391  0.40764   \n\n                                                details  Iu     Ui       err  \n648   {'was_impossible': True, 'reason': 'User and i...   0  12762  0.000061  \n1298  {'was_impossible': True, 'reason': 'User and i...   0  12600  0.000070  \n3740  {'was_impossible': True, 'reason': 'User and i...   0  12600  0.000096  \n7159  {'was_impossible': True, 'reason': 'User and i...   0  12762  0.000100  \n4298  {'was_impossible': True, 'reason': 'User and i...   0  12600  0.000112  \n1186  {'was_impossible': True, 'reason': 'User and i...   0  12762  0.000132  \n2542  {'was_impossible': True, 'reason': 'User and i...   0  12762  0.000157  \n5449  {'was_impossible': True, 'reason': 'User and i...   0  12600  0.000158  \n1279  {'was_impossible': True, 'reason': 'User and i...   0  12600  0.000202  \n5520  {'was_impossible': True, 'reason': 'User and i...   0  12600  0.000249  ",
            "text/html": "<div>\n<style scoped>\n    .dataframe tbody tr th:only-of-type {\n        vertical-align: middle;\n    }\n\n    .dataframe tbody tr th {\n        vertical-align: top;\n    }\n\n    .dataframe thead th {\n        text-align: right;\n    }\n</style>\n<table border=\"1\" class=\"dataframe\">\n  <thead>\n    <tr style=\"text-align: right;\">\n      <th></th>\n      <th>uid</th>\n      <th>iid</th>\n      <th>rui</th>\n      <th>est</th>\n      <th>details</th>\n      <th>Iu</th>\n      <th>Ui</th>\n      <th>err</th>\n    </tr>\n  </thead>\n  <tbody>\n    <tr>\n      <th>648</th>\n      <td>78992e49c15cc5701e92a3768fdbd70b</td>\n      <td>TRIPLE_PLAY</td>\n      <td>0.407579</td>\n      <td>0.40764</td>\n      <td>{'was_impossible': True, 'reason': 'User and i...</td>\n      <td>0</td>\n      <td>12762</td>\n      <td>0.000061</td>\n    </tr>\n    <tr>\n      <th>1298</th>\n      <td>9caa84cd5c5e530f4d655ee08facb7b2</td>\n      <td>DOUBLE_PLAY_BV</td>\n      <td>0.407570</td>\n      <td>0.40764</td>\n      <td>{'was_impossible': True, 'reason': 'User and i...</td>\n      <td>0</td>\n      <td>12600</td>\n      <td>0.000070</td>\n    </tr>\n    <tr>\n      <th>3740</th>\n      <td>573eeb92a1dd657d4e8659c1f1222a1a</td>\n      <td>DOUBLE_PLAY_BV</td>\n      <td>0.407736</td>\n      <td>0.40764</td>\n      <td>{'was_impossible': True, 'reason': 'User and i...</td>\n      <td>0</td>\n      <td>12600</td>\n      <td>0.000096</td>\n    </tr>\n    <tr>\n      <th>7159</th>\n      <td>1fcbbb4a01ed893ff0783dfd8c0f180b</td>\n      <td>TRIPLE_PLAY</td>\n      <td>0.407739</td>\n      <td>0.40764</td>\n      <td>{'was_impossible': True, 'reason': 'User and i...</td>\n      <td>0</td>\n      <td>12762</td>\n      <td>0.000100</td>\n    </tr>\n    <tr>\n      <th>4298</th>\n      <td>e9c95b5fd9e55a037f7fd7eb627d85a3</td>\n      <td>DOUBLE_PLAY_BV</td>\n      <td>0.407752</td>\n      <td>0.40764</td>\n      <td>{'was_impossible': True, 'reason': 'User and i...</td>\n      <td>0</td>\n      <td>12600</td>\n      <td>0.000112</td>\n    </tr>\n    <tr>\n      <th>1186</th>\n      <td>3172a69d47bb0057c940b995846f9c9f</td>\n      <td>TRIPLE_PLAY</td>\n      <td>0.407772</td>\n      <td>0.40764</td>\n      <td>{'was_impossible': True, 'reason': 'User and i...</td>\n      <td>0</td>\n      <td>12762</td>\n      <td>0.000132</td>\n    </tr>\n    <tr>\n      <th>2542</th>\n      <td>4e059b1d0a7e87404a2d44d0df0e76f0</td>\n      <td>TRIPLE_PLAY</td>\n      <td>0.407797</td>\n      <td>0.40764</td>\n      <td>{'was_impossible': True, 'reason': 'User and i...</td>\n      <td>0</td>\n      <td>12762</td>\n      <td>0.000157</td>\n    </tr>\n    <tr>\n      <th>5449</th>\n      <td>441e119f478200b468fe8234c4809f8d</td>\n      <td>DOUBLE_PLAY_BV</td>\n      <td>0.407798</td>\n      <td>0.40764</td>\n      <td>{'was_impossible': True, 'reason': 'User and i...</td>\n      <td>0</td>\n      <td>12600</td>\n      <td>0.000158</td>\n    </tr>\n    <tr>\n      <th>1279</th>\n      <td>5d02ecf6c1bbd02382d22928fa0997b7</td>\n      <td>DOUBLE_PLAY_BV</td>\n      <td>0.407437</td>\n      <td>0.40764</td>\n      <td>{'was_impossible': True, 'reason': 'User and i...</td>\n      <td>0</td>\n      <td>12600</td>\n      <td>0.000202</td>\n    </tr>\n    <tr>\n      <th>5520</th>\n      <td>fabd9dab5c89545f34a3a54977a13f3c</td>\n      <td>DOUBLE_PLAY_BV</td>\n      <td>0.407391</td>\n      <td>0.40764</td>\n      <td>{'was_impossible': True, 'reason': 'User and i...</td>\n      <td>0</td>\n      <td>12600</td>\n      <td>0.000249</td>\n    </tr>\n  </tbody>\n</table>\n</div>"
          },
          "metadata": {}
        }
      ],
      "execution_count": 127,
      "metadata": {
        "gather": {
          "logged": 1645974802386
        }
      },
      "id": "fba75d87"
    },
    {
      "cell_type": "code",
      "source": [
        "rmse = accuracy.rmse(predictions)\n",
        "print(\"MF RMSE -->\",rmse)\n",
        "print(\"MF Accuracy -->\",1-rmse)"
      ],
      "outputs": [
        {
          "output_type": "stream",
          "name": "stdout",
          "text": "RMSE: 0.2052\nRMSE --> 0.20517137961525037\nAccuracy --> 0.7948286203847497\n"
        }
      ],
      "execution_count": 128,
      "metadata": {
        "gather": {
          "logged": 1645974808558
        }
      },
      "id": "cb72f58e"
    },
    {
      "cell_type": "code",
      "source": [
        "data_triplet = data_triplet.merge(df[[\"uid\",\"iid\",\"err\"]], left_on=\"ACCOUNT_NUM.hash\", right_on =\"uid\", how=\"left\")\n",
        "data_triplet.dropna(subset=[\"uid\"],inplace=True)\n",
        "data_triplet.drop(\"uid\", axis=1, inplace = True)\n",
        "data_triplet.rename(columns={\"iid\":\"MF_recommendation\",\"err\":\"MF_error\"}, inplace = True)"
      ],
      "outputs": [],
      "execution_count": 129,
      "metadata": {
        "gather": {
          "logged": 1645974824680
        }
      },
      "id": "66184c59"
    },
    {
      "cell_type": "code",
      "source": [
        "data_triplet"
      ],
      "outputs": [
        {
          "output_type": "execute_result",
          "execution_count": 130,
          "data": {
            "text/plain": "                      ACCOUNT_NUM.hash Actual_Subscription   ratings  \\\n0     d46578e724259a3706db0c910a934581      DOUBLE_PLAY_BV  0.289112   \n1     590a953fdfadb4a4a33e1b57af01e72c         SINGLE_PLAY  0.244405   \n2     cae036d41e5ae321b173e0f851ee247c      DOUBLE_PLAY_BV  0.391783   \n3     8fb3927f2227d75fe57e16a63c14f709      DOUBLE_PLAY_PV  0.377820   \n4     317395da96fc088bceb0d7676615aa59         SINGLE_PLAY  0.244910   \n...                                ...                 ...       ...   \n8514  0f4a6e79ace9c883703948afe4d4a620         SINGLE_PLAY  0.000692   \n8515  0ea6e72e341e1608e5f23d305bc4d9b1      DOUBLE_PLAY_BV  0.365433   \n8516  1bfd09d01f55a955b5453d7aa8292f93      DOUBLE_PLAY_BV  0.249541   \n8517  bf06f38320e11843132d13c87566d5d4         TRIPLE_PLAY  0.396524   \n8518  dfcf9055ea55f669ee6492ec85e60007         TRIPLE_PLAY  0.556589   \n\n     SVD_recommendation  SVD_error SlopeOne_recommendation  SlopeOne_error  \\\n0        DOUBLE_PLAY_BV   0.101678          DOUBLE_PLAY_BV        0.118528   \n1           SINGLE_PLAY   0.020904             SINGLE_PLAY        0.163235   \n2        DOUBLE_PLAY_BV   0.000992          DOUBLE_PLAY_BV        0.015857   \n3        DOUBLE_PLAY_PV   0.001833          DOUBLE_PLAY_PV        0.029820   \n4           SINGLE_PLAY   0.021408             SINGLE_PLAY        0.162730   \n...                 ...        ...                     ...             ...   \n8514        SINGLE_PLAY   0.222809             SINGLE_PLAY        0.406948   \n8515     DOUBLE_PLAY_BV   0.025357          DOUBLE_PLAY_BV        0.042206   \n8516     DOUBLE_PLAY_BV   0.141249          DOUBLE_PLAY_BV        0.158098   \n8517        TRIPLE_PLAY   0.116952             TRIPLE_PLAY        0.011116   \n8518        TRIPLE_PLAY   0.043113             TRIPLE_PLAY        0.148949   \n\n     MF_recommendation  MF_error  \n0       DOUBLE_PLAY_BV  0.118528  \n1          SINGLE_PLAY  0.163235  \n2       DOUBLE_PLAY_BV  0.015857  \n3       DOUBLE_PLAY_PV  0.029820  \n4          SINGLE_PLAY  0.162730  \n...                ...       ...  \n8514       SINGLE_PLAY  0.406948  \n8515    DOUBLE_PLAY_BV  0.042206  \n8516    DOUBLE_PLAY_BV  0.158098  \n8517       TRIPLE_PLAY  0.011116  \n8518       TRIPLE_PLAY  0.148949  \n\n[8519 rows x 9 columns]",
            "text/html": "<div>\n<style scoped>\n    .dataframe tbody tr th:only-of-type {\n        vertical-align: middle;\n    }\n\n    .dataframe tbody tr th {\n        vertical-align: top;\n    }\n\n    .dataframe thead th {\n        text-align: right;\n    }\n</style>\n<table border=\"1\" class=\"dataframe\">\n  <thead>\n    <tr style=\"text-align: right;\">\n      <th></th>\n      <th>ACCOUNT_NUM.hash</th>\n      <th>Actual_Subscription</th>\n      <th>ratings</th>\n      <th>SVD_recommendation</th>\n      <th>SVD_error</th>\n      <th>SlopeOne_recommendation</th>\n      <th>SlopeOne_error</th>\n      <th>MF_recommendation</th>\n      <th>MF_error</th>\n    </tr>\n  </thead>\n  <tbody>\n    <tr>\n      <th>0</th>\n      <td>d46578e724259a3706db0c910a934581</td>\n      <td>DOUBLE_PLAY_BV</td>\n      <td>0.289112</td>\n      <td>DOUBLE_PLAY_BV</td>\n      <td>0.101678</td>\n      <td>DOUBLE_PLAY_BV</td>\n      <td>0.118528</td>\n      <td>DOUBLE_PLAY_BV</td>\n      <td>0.118528</td>\n    </tr>\n    <tr>\n      <th>1</th>\n      <td>590a953fdfadb4a4a33e1b57af01e72c</td>\n      <td>SINGLE_PLAY</td>\n      <td>0.244405</td>\n      <td>SINGLE_PLAY</td>\n      <td>0.020904</td>\n      <td>SINGLE_PLAY</td>\n      <td>0.163235</td>\n      <td>SINGLE_PLAY</td>\n      <td>0.163235</td>\n    </tr>\n    <tr>\n      <th>2</th>\n      <td>cae036d41e5ae321b173e0f851ee247c</td>\n      <td>DOUBLE_PLAY_BV</td>\n      <td>0.391783</td>\n      <td>DOUBLE_PLAY_BV</td>\n      <td>0.000992</td>\n      <td>DOUBLE_PLAY_BV</td>\n      <td>0.015857</td>\n      <td>DOUBLE_PLAY_BV</td>\n      <td>0.015857</td>\n    </tr>\n    <tr>\n      <th>3</th>\n      <td>8fb3927f2227d75fe57e16a63c14f709</td>\n      <td>DOUBLE_PLAY_PV</td>\n      <td>0.377820</td>\n      <td>DOUBLE_PLAY_PV</td>\n      <td>0.001833</td>\n      <td>DOUBLE_PLAY_PV</td>\n      <td>0.029820</td>\n      <td>DOUBLE_PLAY_PV</td>\n      <td>0.029820</td>\n    </tr>\n    <tr>\n      <th>4</th>\n      <td>317395da96fc088bceb0d7676615aa59</td>\n      <td>SINGLE_PLAY</td>\n      <td>0.244910</td>\n      <td>SINGLE_PLAY</td>\n      <td>0.021408</td>\n      <td>SINGLE_PLAY</td>\n      <td>0.162730</td>\n      <td>SINGLE_PLAY</td>\n      <td>0.162730</td>\n    </tr>\n    <tr>\n      <th>...</th>\n      <td>...</td>\n      <td>...</td>\n      <td>...</td>\n      <td>...</td>\n      <td>...</td>\n      <td>...</td>\n      <td>...</td>\n      <td>...</td>\n      <td>...</td>\n    </tr>\n    <tr>\n      <th>8514</th>\n      <td>0f4a6e79ace9c883703948afe4d4a620</td>\n      <td>SINGLE_PLAY</td>\n      <td>0.000692</td>\n      <td>SINGLE_PLAY</td>\n      <td>0.222809</td>\n      <td>SINGLE_PLAY</td>\n      <td>0.406948</td>\n      <td>SINGLE_PLAY</td>\n      <td>0.406948</td>\n    </tr>\n    <tr>\n      <th>8515</th>\n      <td>0ea6e72e341e1608e5f23d305bc4d9b1</td>\n      <td>DOUBLE_PLAY_BV</td>\n      <td>0.365433</td>\n      <td>DOUBLE_PLAY_BV</td>\n      <td>0.025357</td>\n      <td>DOUBLE_PLAY_BV</td>\n      <td>0.042206</td>\n      <td>DOUBLE_PLAY_BV</td>\n      <td>0.042206</td>\n    </tr>\n    <tr>\n      <th>8516</th>\n      <td>1bfd09d01f55a955b5453d7aa8292f93</td>\n      <td>DOUBLE_PLAY_BV</td>\n      <td>0.249541</td>\n      <td>DOUBLE_PLAY_BV</td>\n      <td>0.141249</td>\n      <td>DOUBLE_PLAY_BV</td>\n      <td>0.158098</td>\n      <td>DOUBLE_PLAY_BV</td>\n      <td>0.158098</td>\n    </tr>\n    <tr>\n      <th>8517</th>\n      <td>bf06f38320e11843132d13c87566d5d4</td>\n      <td>TRIPLE_PLAY</td>\n      <td>0.396524</td>\n      <td>TRIPLE_PLAY</td>\n      <td>0.116952</td>\n      <td>TRIPLE_PLAY</td>\n      <td>0.011116</td>\n      <td>TRIPLE_PLAY</td>\n      <td>0.011116</td>\n    </tr>\n    <tr>\n      <th>8518</th>\n      <td>dfcf9055ea55f669ee6492ec85e60007</td>\n      <td>TRIPLE_PLAY</td>\n      <td>0.556589</td>\n      <td>TRIPLE_PLAY</td>\n      <td>0.043113</td>\n      <td>TRIPLE_PLAY</td>\n      <td>0.148949</td>\n      <td>TRIPLE_PLAY</td>\n      <td>0.148949</td>\n    </tr>\n  </tbody>\n</table>\n<p>8519 rows × 9 columns</p>\n</div>"
          },
          "metadata": {}
        }
      ],
      "execution_count": 130,
      "metadata": {
        "gather": {
          "logged": 1645974828847
        }
      },
      "id": "3e18c3f4"
    },
    {
      "cell_type": "markdown",
      "source": [
        "## KNN with Means recommender"
      ],
      "metadata": {
        "nteract": {
          "transient": {
            "deleting": false
          }
        }
      },
      "id": "d5a70223-fb6c-4ef8-811e-7e90bd8a1765"
    },
    {
      "cell_type": "code",
      "source": [
        "# We'll use the SlopeOne algorithm.\n",
        "algo = KNNWithMeans()\n",
        "\n",
        "# Run 5-fold cross-validation and print results\n",
        "knn_validate = cross_validate(algo, data_model, measures=['RMSE', 'MAE'], cv=5, verbose=True)"
      ],
      "outputs": [
        {
          "output_type": "stream",
          "name": "stdout",
          "text": "Computing the msd similarity matrix...\nDone computing similarity matrix.\nComputing the msd similarity matrix...\nDone computing similarity matrix.\nComputing the msd similarity matrix...\nDone computing similarity matrix.\n"
        }
      ],
      "execution_count": 131,
      "metadata": {
        "jupyter": {
          "source_hidden": false,
          "outputs_hidden": false
        },
        "nteract": {
          "transient": {
            "deleting": false
          }
        }
      },
      "id": "9dbf94ae-5914-4f8f-b9d6-6d50a122f754"
    },
    {
      "cell_type": "code",
      "source": [
        "# Train the algorithm on the trainset, and predict ratings for the testset\n",
        "algo.fit(trainset)\n",
        "predictions = algo.test(testset)"
      ],
      "outputs": [],
      "execution_count": null,
      "metadata": {
        "jupyter": {
          "source_hidden": false,
          "outputs_hidden": false
        },
        "nteract": {
          "transient": {
            "deleting": false
          }
        }
      },
      "id": "d7658df4-0d7d-458d-90df-81f3299275f2"
    },
    {
      "cell_type": "code",
      "source": [
        "top_n, users_est, users_true, rec_for_user = top_n_pred(predictions)"
      ],
      "outputs": [],
      "execution_count": null,
      "metadata": {
        "jupyter": {
          "source_hidden": false,
          "outputs_hidden": false
        },
        "nteract": {
          "transient": {
            "deleting": false
          }
        }
      },
      "id": "59e00b96-ffd8-4129-a342-f962d418a6e6"
    },
    {
      "cell_type": "code",
      "source": [
        "ndcg_list, ndgc_rate = calc_ndcg(users_true,users_est)\n",
        "print(\"NDCG\", ndgc_rate)"
      ],
      "outputs": [],
      "execution_count": null,
      "metadata": {
        "jupyter": {
          "source_hidden": false,
          "outputs_hidden": false
        },
        "nteract": {
          "transient": {
            "deleting": false
          }
        }
      },
      "id": "c9555d8f-99a1-489a-8f4d-7e5093245f50"
    },
    {
      "cell_type": "code",
      "source": [
        "# Let's build a pandas dataframe with all the predictions\n",
        "df = pd.DataFrame(predictions, columns=['uid', 'iid', 'rui', 'est', 'details'])    \n",
        "df['Iu'] = df.uid.apply(get_Iu)\n",
        "df['Ui'] = df.iid.apply(get_Ui)\n",
        "df['err'] = abs(df.est - df.rui)"
      ],
      "outputs": [],
      "execution_count": null,
      "metadata": {
        "jupyter": {
          "source_hidden": false,
          "outputs_hidden": false
        },
        "nteract": {
          "transient": {
            "deleting": false
          }
        }
      },
      "id": "b3928192-1813-4bf7-9513-9581ec9cb61e"
    },
    {
      "cell_type": "code",
      "source": [
        "# 10 Best predictions\n",
        "best_predictions = df.sort_values(by='err')[:10]\n",
        "best_predictions"
      ],
      "outputs": [],
      "execution_count": null,
      "metadata": {
        "jupyter": {
          "source_hidden": false,
          "outputs_hidden": false
        },
        "nteract": {
          "transient": {
            "deleting": false
          }
        }
      },
      "id": "764fe3ec-12f3-46f0-a1af-70f77d7b7b14"
    },
    {
      "cell_type": "code",
      "source": [
        "rmse = accuracy.rmse(predictions)\n",
        "print(\"KNN Means RMSE -->\",rmse)\n",
        "print(\"KNN Means Accuracy -->\",1-rmse)"
      ],
      "outputs": [],
      "execution_count": null,
      "metadata": {
        "jupyter": {
          "source_hidden": false,
          "outputs_hidden": false
        },
        "nteract": {
          "transient": {
            "deleting": false
          }
        }
      },
      "id": "67aebc1a-3304-4950-92de-872aed436b9d"
    },
    {
      "cell_type": "markdown",
      "source": [
        "## Factorization Machines"
      ],
      "metadata": {
        "nteract": {
          "transient": {
            "deleting": false
          }
        }
      },
      "id": "09d0d677-7734-4791-8819-71c79a0e847d"
    },
    {
      "cell_type": "code",
      "source": [],
      "outputs": [],
      "execution_count": null,
      "metadata": {
        "jupyter": {
          "source_hidden": false,
          "outputs_hidden": false
        },
        "nteract": {
          "transient": {
            "deleting": false
          }
        }
      },
      "id": "697b653f-830d-42a7-9ad0-fef059e46ccd"
    },
    {
      "cell_type": "code",
      "source": [],
      "outputs": [],
      "execution_count": null,
      "metadata": {
        "jupyter": {
          "source_hidden": false,
          "outputs_hidden": false
        },
        "nteract": {
          "transient": {
            "deleting": false
          }
        }
      },
      "id": "13289f88-9fcf-4a73-b090-2504e865671a"
    },
    {
      "cell_type": "markdown",
      "source": [
        "## Benchmark lgorithms"
      ],
      "metadata": {
        "nteract": {
          "transient": {
            "deleting": false
          }
        }
      },
      "id": "9116acac-caf9-4ab6-8b87-b063d044c9b8"
    },
    {
      "cell_type": "code",
      "source": [
        "benchmark = []\n",
        "# Iterate over all algorithms\n",
        "for algorithm in [SVD(), SlopeOne(), KNNBaseline(), KNNWithMeans(), CoClustering(), NMF()]:\n",
        "    # Perform cross validation\n",
        "    results = cross_validate(algorithm, data_model, measures=['RMSE'], cv=5, verbose=False)\n",
        "    \n",
        "    # Get results & append algorithm name\n",
        "    tmp = pd.DataFrame.from_dict(results).mean(axis=0)\n",
        "    tmp = tmp.append(pd.Series([str(algorithm).split(' ')[0].split('.')[-1]], index=['Algorithm']))\n",
        "    benchmark.append(tmp)\n",
        "    \n",
        "val_df = pd.DataFrame(benchmark).set_index('Algorithm').sort_values('test_rmse')\n",
        "val_df"
      ],
      "outputs": [],
      "execution_count": null,
      "metadata": {
        "jupyter": {
          "source_hidden": false,
          "outputs_hidden": false
        },
        "nteract": {
          "transient": {
            "deleting": false
          }
        }
      },
      "id": "ca4259b5-d1c4-43a4-a210-82780c9a2aa2"
    },
    {
      "cell_type": "code",
      "source": [
        "fig,ax = plt.subplots(figsize=(13,8))\n",
        "ax.plot(so_validate[\"test_rmse\"], color='blue')\n",
        "ax.plot(svd_validate[\"test_rmse\"], color='green')\n",
        "ax.plot(knn_validate[\"test_rmse\"], color='orange')\n",
        "ax.plot(nmf_validate[\"test_rmse\"], color='red')\n",
        "ax.plot(so_validate[\"test_mae\"], linestyle='dashdot', color='blue')\n",
        "ax.plot(svd_validate[\"test_mae\"], linestyle='dashdot', color='green')\n",
        "ax.plot(knn_validate[\"test_mae\"], linestyle='dashdot', color='orange')\n",
        "ax.plot(nmf_validate[\"test_mae\"], linestyle='dashdot', color='red')\n",
        "# plt.xticks(np.arange(0, 30, 0.5))\n",
        "plt.title(\"Boradband Packages Recommender\", loc=\"center\")\n",
        "plt.legend([\"RMSE: SlopeOne\",\"RMSE: SVD\",\"RMSE: KNNwithMeans\",\"RMSE: NMF\",\n",
        "           \"MAE: SlopeOne\",\"MAE: SVD\",\"MAE: KNNwithMeans\",\"MAE: NMF\"])"
      ],
      "outputs": [],
      "execution_count": null,
      "metadata": {
        "jupyter": {
          "source_hidden": false,
          "outputs_hidden": false
        },
        "nteract": {
          "transient": {
            "deleting": false
          }
        }
      },
      "id": "fb45fe9a-e037-44a5-8295-d399ab22ceb7"
    },
    {
      "cell_type": "markdown",
      "source": [
        "## Best Accuracy Model"
      ],
      "metadata": {
        "nteract": {
          "transient": {
            "deleting": false
          }
        }
      },
      "id": "4a03571f-de81-4d41-800a-51e6c3a5609f"
    },
    {
      "cell_type": "code",
      "source": [],
      "outputs": [],
      "execution_count": null,
      "metadata": {
        "jupyter": {
          "source_hidden": false,
          "outputs_hidden": false
        },
        "nteract": {
          "transient": {
            "deleting": false
          }
        }
      },
      "id": "52d8c3bd-240c-4af2-8769-7a6eb917a386"
    },
    {
      "cell_type": "markdown",
      "source": [
        "## Model Stacking approach (Ensambling)"
      ],
      "metadata": {
        "nteract": {
          "transient": {
            "deleting": false
          }
        }
      },
      "id": "d4feec98-1eee-48df-8b59-e44ff29de432"
    },
    {
      "cell_type": "code",
      "source": [],
      "outputs": [],
      "execution_count": null,
      "metadata": {
        "jupyter": {
          "source_hidden": false,
          "outputs_hidden": false
        },
        "nteract": {
          "transient": {
            "deleting": false
          }
        }
      },
      "id": "c4e254ec-a119-4491-be4b-eaf1ed1101c2"
    },
    {
      "cell_type": "markdown",
      "source": [
        "## Busines Rule filtration"
      ],
      "metadata": {
        "nteract": {
          "transient": {
            "deleting": false
          }
        }
      },
      "id": "e25e0794-2713-47a3-981a-4b58e24b5ac0"
    },
    {
      "cell_type": "code",
      "source": [],
      "outputs": [],
      "execution_count": null,
      "metadata": {
        "jupyter": {
          "source_hidden": false,
          "outputs_hidden": false
        },
        "nteract": {
          "transient": {
            "deleting": false
          }
        }
      },
      "id": "cedf06c0-bf6f-4877-83d4-4472fa1704c2"
    },
    {
      "cell_type": "markdown",
      "source": [
        "## Store resutls"
      ],
      "metadata": {
        "nteract": {
          "transient": {
            "deleting": false
          }
        }
      },
      "id": "04f0ca97-afb6-4305-b6be-457e48066683"
    },
    {
      "cell_type": "code",
      "source": [
        "data_triplet.to_csv(\"data/up-selling-scored/CF_scored_and_eval.csv\")"
      ],
      "outputs": [],
      "execution_count": 113,
      "metadata": {},
      "id": "ab3abed0"
    },
    {
      "cell_type": "code",
      "source": [],
      "outputs": [],
      "execution_count": null,
      "metadata": {},
      "id": "5c3c1202"
    }
  ],
  "metadata": {
    "kernelspec": {
      "name": "python3",
      "language": "python",
      "display_name": "Python 3"
    },
    "language_info": {
      "name": "python",
      "version": "3.6.9",
      "mimetype": "text/x-python",
      "codemirror_mode": {
        "name": "ipython",
        "version": 3
      },
      "pygments_lexer": "ipython3",
      "nbconvert_exporter": "python",
      "file_extension": ".py"
    },
    "kernel_info": {
      "name": "python3"
    },
    "nteract": {
      "version": "nteract-front-end@1.0.0"
    },
    "microsoft": {
      "host": {
        "AzureML": {
          "notebookHasBeenCompleted": true
        }
      }
    }
  },
  "nbformat": 4,
  "nbformat_minor": 5
}