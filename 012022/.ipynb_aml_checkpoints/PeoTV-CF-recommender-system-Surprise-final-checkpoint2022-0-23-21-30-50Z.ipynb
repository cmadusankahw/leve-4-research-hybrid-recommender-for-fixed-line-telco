{
  "cells": [
    {
      "cell_type": "code",
      "source": [
        "# import libraries\n",
        "import numpy as np\n",
        "import pandas as pd\n",
        "import seaborn as sns\n",
        "import matplotlib.pyplot as plt\n",
        "from sklearn.metrics.pairwise import cosine_similarity\n",
        "from surprise import *\n",
        "from surprise import accuracy\n",
        "from surprise.model_selection import GridSearchCV\n",
        "from surprise.model_selection import cross_validate\n",
        "from surprise.model_selection import train_test_split\n",
        "from collections import defaultdict"
      ],
      "outputs": [],
      "execution_count": 42,
      "metadata": {
        "gather": {
          "logged": 1642973443882
        }
      }
    },
    {
      "cell_type": "code",
      "source": [
        "# import dataset\n",
        "data = pd.read_csv(\"data/up-selling/peotv/peoTV_user_ratings.csv\")\n",
        "try:\n",
        "    data.drop([\"Unnamed: 0\"],axis=1,inplace=True)\n",
        "except:\n",
        "    pass\n",
        "data_pca = data[[\"ACCOUNT_NUM.hash\",\"package\",\"pca_ratings\"]].rename(columns={\"pca_ratings\":\"ratings\"})\n",
        "data_pca.dropna(subset=[\"ratings\"],inplace=True)\n",
        "data = data[[\"ACCOUNT_NUM.hash\",\"package\",\"ratings\"]]"
      ],
      "outputs": [],
      "execution_count": 43,
      "metadata": {
        "scrolled": true,
        "gather": {
          "logged": 1642972664840
        }
      }
    },
    {
      "cell_type": "code",
      "source": [
        "data.info()"
      ],
      "outputs": [],
      "execution_count": null,
      "metadata": {
        "jupyter": {
          "source_hidden": false,
          "outputs_hidden": false
        },
        "nteract": {
          "transient": {
            "deleting": false
          }
        },
        "gather": {
          "logged": 1642972664927
        }
      }
    },
    {
      "cell_type": "code",
      "source": [
        "data_pca.info()"
      ],
      "outputs": [],
      "execution_count": null,
      "metadata": {
        "jupyter": {
          "source_hidden": false,
          "outputs_hidden": false
        },
        "nteract": {
          "transient": {
            "deleting": false
          }
        },
        "gather": {
          "logged": 1642972665116
        }
      }
    },
    {
      "cell_type": "markdown",
      "source": [
        "## Interaction Matrix"
      ],
      "metadata": {}
    },
    {
      "cell_type": "code",
      "source": [
        "# create a histogram of all the interactions by all the users present in the dataset\n",
        "def create_interaction_matrix(data):\n",
        "    interactions = data.groupby('ACCOUNT_NUM.hash').count()['package']\n",
        "    plt.hist(interactions,bins=20)\n",
        "    plt.show()\n",
        "\n",
        "    # create the user item matrix using the ratings dataset - Hint: try using pivot function \n",
        "    interactions_metrix = data.pivot_table(index=\"ACCOUNT_NUM.hash\", columns=\"package\", values=\"ratings\",aggfunc=np.sum)\n",
        "    # replace all the missing values with zero\n",
        "    return interactions_metrix.fillna(0)"
      ],
      "outputs": [],
      "execution_count": null,
      "metadata": {
        "gather": {
          "logged": 1642972665200
        }
      }
    },
    {
      "cell_type": "code",
      "source": [
        "create_interaction_matrix(data)"
      ],
      "outputs": [],
      "execution_count": null,
      "metadata": {
        "jupyter": {
          "source_hidden": false,
          "outputs_hidden": false
        },
        "nteract": {
          "transient": {
            "deleting": false
          }
        },
        "gather": {
          "logged": 1642972665412
        }
      }
    },
    {
      "cell_type": "code",
      "source": [
        "create_interaction_matrix(data_pca)"
      ],
      "outputs": [],
      "execution_count": null,
      "metadata": {
        "jupyter": {
          "source_hidden": false,
          "outputs_hidden": false
        },
        "nteract": {
          "transient": {
            "deleting": false
          }
        },
        "gather": {
          "logged": 1642972665677
        }
      }
    },
    {
      "cell_type": "markdown",
      "source": [
        "## Function Definition"
      ],
      "metadata": {
        "nteract": {
          "transient": {
            "deleting": false
          }
        }
      }
    },
    {
      "cell_type": "code",
      "source": [
        "def train_test_splitter(data):\n",
        "    reader = Reader(rating_scale=(0, 1))\n",
        "    data_model = Dataset.load_from_df(data, reader)\n",
        "    return data_model,train_test_split(data_model, test_size=.20)"
      ],
      "outputs": [],
      "execution_count": null,
      "metadata": {
        "gather": {
          "logged": 1642972665769
        }
      }
    },
    {
      "cell_type": "code",
      "source": [
        "def get_Iu(uid):\n",
        "    \"\"\"Return the number of items rated by given user\n",
        "    \n",
        "    Args:\n",
        "        uid: The raw id of the user.\n",
        "    Returns:\n",
        "        The number of items rated by the user.\n",
        "    \"\"\"\n",
        "    \n",
        "    try:\n",
        "        return len(trainset.ur[trainset.to_inner_uid(uid)])\n",
        "    except ValueError:  # user was not part of the trainset\n",
        "        return 0\n",
        "    \n",
        "def get_Ui(iid):\n",
        "    \"\"\"Return the number of users that have rated given item\n",
        "    \n",
        "    Args:\n",
        "        iid: The raw id of the item.\n",
        "    Returns:\n",
        "        The number of users that have rated the item.\n",
        "    \"\"\"\n",
        "    \n",
        "    try:\n",
        "        return len(trainset.ir[trainset.to_inner_iid(iid)])\n",
        "    except ValueError:  # item was not part of the trainset\n",
        "        return 0\n"
      ],
      "outputs": [],
      "execution_count": null,
      "metadata": {
        "gather": {
          "logged": 1642972665829
        }
      }
    },
    {
      "cell_type": "code",
      "source": [
        "def get_top_n(predictions, n=10):\n",
        "    \n",
        "    # First map the predictions to each user.\n",
        "    top_n = defaultdict(list)\n",
        "    for uid, iid, true_r, est, _ in predictions:\n",
        "        top_n[uid].append((iid, est, true_r))\n",
        "\n",
        "    for uid, user_ratings in top_n.items():\n",
        "        user_ratings.sort(key=lambda x: x[1], reverse=True)\n",
        "        top_n[uid] = user_ratings[:5]\n",
        "        \n",
        "\n",
        "    return top_n"
      ],
      "outputs": [],
      "execution_count": null,
      "metadata": {
        "gather": {
          "logged": 1642972665917
        }
      }
    },
    {
      "cell_type": "code",
      "source": [
        "# calculate NDCG\n",
        "def ndcg(y_true, y_pred, k=None, powered=False):\n",
        "    def dcg(scores, k=None, powered=False):\n",
        "        if k is None:\n",
        "            k = scores.shape[0]\n",
        "        if not powered:\n",
        "            ret = scores[0]\n",
        "            for i in range(1, k):\n",
        "                ret += scores[i] / np.log2(i + 1)\n",
        "            return ret\n",
        "        else:\n",
        "            ret = 0\n",
        "            for i in range(k):\n",
        "                ret += (2 ** scores[i] - 1) / np.log2(i + 2)\n",
        "            return ret\n",
        "    \n",
        "    ideal_sorted_scores = np.sort(y_true)[::-1]\n",
        "    ideal_dcg_score = dcg(ideal_sorted_scores, k=k, powered=powered)\n",
        "    \n",
        "    pred_sorted_ind = np.argsort(y_pred)[::-1]\n",
        "    pred_sorted_scores = y_true[pred_sorted_ind]\n",
        "    dcg_score = dcg(pred_sorted_scores, k=k, powered=powered)\n",
        "    \n",
        "    return dcg_score / ideal_dcg_score\n",
        "\n",
        "def ndcg1(y_true, y_pred, k=None):\n",
        "    return ndcg(y_true, y_pred, k=k, powered=False)\n",
        "\n",
        "def ndcg2(y_true, y_pred, k=None):\n",
        "    return ndcg(y_true, y_pred, k=k, powered=True)"
      ],
      "outputs": [],
      "execution_count": null,
      "metadata": {
        "gather": {
          "logged": 1642972665979
        }
      }
    },
    {
      "cell_type": "code",
      "source": [
        "def top_n_pred(predictions):\n",
        "    top_n = get_top_n(predictions, n=3)\n",
        "    #print(top_n)\n",
        "    users_est = defaultdict(list)\n",
        "    users_true=defaultdict(list)\n",
        "    rec_for_user=defaultdict(list)\n",
        "    for uid, user_ratings in top_n.items():\n",
        "        users_est[uid].append([est for (_, est,_) in user_ratings])\n",
        "        users_true[uid].append([true_r for (_,_,true_r) in user_ratings])\n",
        "        rec_for_user[uid].append([iid for (iid,_,_) in user_ratings])\n",
        "    return top_n, users_est, users_true, rec_for_user"
      ],
      "outputs": [],
      "execution_count": null,
      "metadata": {
        "jupyter": {
          "source_hidden": false,
          "outputs_hidden": false
        },
        "nteract": {
          "transient": {
            "deleting": false
          }
        },
        "gather": {
          "logged": 1642972666079
        }
      }
    },
    {
      "cell_type": "code",
      "source": [
        "def calc_ndcg(users_true,users_est):\n",
        "    ndcg_list=[]\n",
        "    for uid in top_n:\n",
        "        \n",
        "        for i in users_true[uid]:\n",
        "            y_true=np.asarray(i)#.reshape(-1,1)\n",
        "        for i in users_est[uid]:\n",
        "            y_pred=np.asarray(i)#.reshape(-1,1)\n",
        "        \n",
        "            ndcg_list.append(ndcg1(y_true, y_pred, k=None))\n",
        "\n",
        "    ndcg_list = [i for i in ndcg_list if str(i) != 'nan']\n",
        "    ndgc_rate = np.mean(ndcg_list)\n",
        "    return ndcg_list, ndgc_rate"
      ],
      "outputs": [],
      "execution_count": 13,
      "metadata": {
        "jupyter": {
          "source_hidden": false,
          "outputs_hidden": false
        },
        "nteract": {
          "transient": {
            "deleting": false
          }
        },
        "gather": {
          "logged": 1642972666163
        }
      }
    },
    {
      "cell_type": "markdown",
      "source": [
        "## Collabarative Recomenders with Surprise"
      ],
      "metadata": {}
    },
    {
      "cell_type": "code",
      "source": [
        "data_model, (trainset, testset) = train_test_splitter(data)\n",
        "data_model_pca, (trainset_pca, testset_pca) = train_test_splitter(data_pca)"
      ],
      "outputs": [],
      "execution_count": 14,
      "metadata": {
        "gather": {
          "logged": 1642972666540
        }
      }
    },
    {
      "cell_type": "markdown",
      "source": [
        "### SVD recommender"
      ],
      "metadata": {}
    },
    {
      "cell_type": "code",
      "source": [
        "# We'll use the famous SVD algorithm.\n",
        "algo = SVD()\n",
        "\n",
        "# Run 5-fold cross-validation and print results\n",
        "svd_validate = cross_validate(algo, data_model_pca, measures=['RMSE', 'MAE'], cv=5, verbose=True)"
      ],
      "outputs": [
        {
          "output_type": "stream",
          "name": "stdout",
          "text": "Evaluating RMSE, MAE of algorithm SVD on 5 split(s).\n\n                  Fold 1  Fold 2  Fold 3  Fold 4  Fold 5  Mean    Std     \nRMSE (testset)    0.2706  0.2685  0.2697  0.2703  0.2682  0.2695  0.0010  \nMAE (testset)     0.2217  0.2193  0.2193  0.2194  0.2185  0.2196  0.0011  \nFit time          7.04    6.46    6.56    6.75    6.51    6.66    0.21    \nTest time         0.23    0.39    0.21    0.40    0.21    0.29    0.09    \n"
        }
      ],
      "execution_count": 15,
      "metadata": {
        "gather": {
          "logged": 1642972702836
        }
      }
    },
    {
      "cell_type": "code",
      "source": [
        "# Train the algorithm on the trainset, and predict ratings for the testset\n",
        "algo.fit(trainset_pca)\n",
        "predictions = algo.test(testset_pca)"
      ],
      "outputs": [],
      "execution_count": 16,
      "metadata": {
        "gather": {
          "logged": 1642972709749
        }
      }
    },
    {
      "cell_type": "markdown",
      "source": [
        "Top-N predictions"
      ],
      "metadata": {}
    },
    {
      "cell_type": "code",
      "source": [
        "top_n, users_est, users_true, rec_for_user = top_n_pred(predictions)"
      ],
      "outputs": [],
      "execution_count": 17,
      "metadata": {
        "gather": {
          "logged": 1642972710073
        }
      }
    },
    {
      "cell_type": "markdown",
      "source": [
        "NDCG"
      ],
      "metadata": {}
    },
    {
      "cell_type": "code",
      "source": [
        "ndcg_list, ndgc_rate = calc_ndcg(users_true,users_est)\n",
        "print(\"NDCG\", ndgc_rate)"
      ],
      "outputs": [
        {
          "output_type": "stream",
          "name": "stdout",
          "text": "NDCG 0.9788767575680651\n"
        }
      ],
      "execution_count": 18,
      "metadata": {
        "gather": {
          "logged": 1642972710254
        }
      }
    },
    {
      "cell_type": "code",
      "source": [
        "# dataframe with all the predictions\n",
        "df = pd.DataFrame(predictions, columns=['uid', 'iid', 'rui', 'est', 'details'])    \n",
        "df['Iu'] = df.uid.apply(get_Iu)\n",
        "df['Ui'] = df.iid.apply(get_Ui)\n",
        "df['err'] = abs(df.est - df.rui)"
      ],
      "outputs": [],
      "execution_count": 19,
      "metadata": {
        "gather": {
          "logged": 1642972710401
        }
      }
    },
    {
      "cell_type": "code",
      "source": [
        "# 10 Best predictions\n",
        "best_predictions = df.sort_values(by='err')[:10]\n",
        "best_predictions"
      ],
      "outputs": [
        {
          "output_type": "execute_result",
          "execution_count": 20,
          "data": {
            "text/plain": "                                    uid                     iid       rui  \\\n6387   00df56a4981dab339e1b6fdfa0ab1281            PEO_UNNATHAM  0.448078   \n9506   78278cd62ed300744488ab89bca58287  PEO_ENTERTAINMENT_FTTH  0.448078   \n23564  a41adce43d234428f5add63b35d40d91              PEO_SILVER  0.475674   \n833    a41adce43d234428f5add63b35d40d91              PEO_SILVER  0.475674   \n9972   4426e9b478a0f8b1054478f7b868789a              PEO_SILVER  0.420482   \n600    4e3d37fdbbe6174ef9d9935a06a738fa              PEO_SILVER  0.392886   \n31408  edf3db27098a385aae823c8d630f607e              PEO_SILVER  0.392886   \n24098  c38be2aff5690b20a6aa3fa3144c5de8            PEO_UNNATHAM  0.530866   \n5353   c38be2aff5690b20a6aa3fa3144c5de8            PEO_UNNATHAM  0.530866   \n16510  d6449c1b4908fd8e1d459d716644c106         PEO_SILVER_FTTH  0.365218   \n\n            est                    details  Iu     Ui       err  \n6387   0.448056  {'was_impossible': False}   6   2983  0.000022  \n9506   0.448113  {'was_impossible': False}   8   1073  0.000035  \n23564  0.475713  {'was_impossible': False}   7  82776  0.000039  \n833    0.475713  {'was_impossible': False}   7  82776  0.000039  \n9972   0.420435  {'was_impossible': False}   6  82776  0.000047  \n600    0.392949  {'was_impossible': False}   7  82776  0.000063  \n31408  0.392818  {'was_impossible': False}   8  82776  0.000068  \n24098  0.530793  {'was_impossible': False}   8   2983  0.000074  \n5353   0.530793  {'was_impossible': False}   8   2983  0.000074  \n16510  0.365142  {'was_impossible': False}   3  16940  0.000075  ",
            "text/html": "<div>\n<style scoped>\n    .dataframe tbody tr th:only-of-type {\n        vertical-align: middle;\n    }\n\n    .dataframe tbody tr th {\n        vertical-align: top;\n    }\n\n    .dataframe thead th {\n        text-align: right;\n    }\n</style>\n<table border=\"1\" class=\"dataframe\">\n  <thead>\n    <tr style=\"text-align: right;\">\n      <th></th>\n      <th>uid</th>\n      <th>iid</th>\n      <th>rui</th>\n      <th>est</th>\n      <th>details</th>\n      <th>Iu</th>\n      <th>Ui</th>\n      <th>err</th>\n    </tr>\n  </thead>\n  <tbody>\n    <tr>\n      <th>6387</th>\n      <td>00df56a4981dab339e1b6fdfa0ab1281</td>\n      <td>PEO_UNNATHAM</td>\n      <td>0.448078</td>\n      <td>0.448056</td>\n      <td>{'was_impossible': False}</td>\n      <td>6</td>\n      <td>2983</td>\n      <td>0.000022</td>\n    </tr>\n    <tr>\n      <th>9506</th>\n      <td>78278cd62ed300744488ab89bca58287</td>\n      <td>PEO_ENTERTAINMENT_FTTH</td>\n      <td>0.448078</td>\n      <td>0.448113</td>\n      <td>{'was_impossible': False}</td>\n      <td>8</td>\n      <td>1073</td>\n      <td>0.000035</td>\n    </tr>\n    <tr>\n      <th>23564</th>\n      <td>a41adce43d234428f5add63b35d40d91</td>\n      <td>PEO_SILVER</td>\n      <td>0.475674</td>\n      <td>0.475713</td>\n      <td>{'was_impossible': False}</td>\n      <td>7</td>\n      <td>82776</td>\n      <td>0.000039</td>\n    </tr>\n    <tr>\n      <th>833</th>\n      <td>a41adce43d234428f5add63b35d40d91</td>\n      <td>PEO_SILVER</td>\n      <td>0.475674</td>\n      <td>0.475713</td>\n      <td>{'was_impossible': False}</td>\n      <td>7</td>\n      <td>82776</td>\n      <td>0.000039</td>\n    </tr>\n    <tr>\n      <th>9972</th>\n      <td>4426e9b478a0f8b1054478f7b868789a</td>\n      <td>PEO_SILVER</td>\n      <td>0.420482</td>\n      <td>0.420435</td>\n      <td>{'was_impossible': False}</td>\n      <td>6</td>\n      <td>82776</td>\n      <td>0.000047</td>\n    </tr>\n    <tr>\n      <th>600</th>\n      <td>4e3d37fdbbe6174ef9d9935a06a738fa</td>\n      <td>PEO_SILVER</td>\n      <td>0.392886</td>\n      <td>0.392949</td>\n      <td>{'was_impossible': False}</td>\n      <td>7</td>\n      <td>82776</td>\n      <td>0.000063</td>\n    </tr>\n    <tr>\n      <th>31408</th>\n      <td>edf3db27098a385aae823c8d630f607e</td>\n      <td>PEO_SILVER</td>\n      <td>0.392886</td>\n      <td>0.392818</td>\n      <td>{'was_impossible': False}</td>\n      <td>8</td>\n      <td>82776</td>\n      <td>0.000068</td>\n    </tr>\n    <tr>\n      <th>24098</th>\n      <td>c38be2aff5690b20a6aa3fa3144c5de8</td>\n      <td>PEO_UNNATHAM</td>\n      <td>0.530866</td>\n      <td>0.530793</td>\n      <td>{'was_impossible': False}</td>\n      <td>8</td>\n      <td>2983</td>\n      <td>0.000074</td>\n    </tr>\n    <tr>\n      <th>5353</th>\n      <td>c38be2aff5690b20a6aa3fa3144c5de8</td>\n      <td>PEO_UNNATHAM</td>\n      <td>0.530866</td>\n      <td>0.530793</td>\n      <td>{'was_impossible': False}</td>\n      <td>8</td>\n      <td>2983</td>\n      <td>0.000074</td>\n    </tr>\n    <tr>\n      <th>16510</th>\n      <td>d6449c1b4908fd8e1d459d716644c106</td>\n      <td>PEO_SILVER_FTTH</td>\n      <td>0.365218</td>\n      <td>0.365142</td>\n      <td>{'was_impossible': False}</td>\n      <td>3</td>\n      <td>16940</td>\n      <td>0.000075</td>\n    </tr>\n  </tbody>\n</table>\n</div>"
          },
          "metadata": {}
        }
      ],
      "execution_count": 20,
      "metadata": {
        "gather": {
          "logged": 1642972710572
        }
      }
    },
    {
      "cell_type": "code",
      "source": [
        "rmse = accuracy.rmse(predictions)\n",
        "print(\"RMSE -->\",rmse)\n",
        "print(\"Accuracy -->\",1-rmse)"
      ],
      "outputs": [
        {
          "output_type": "stream",
          "name": "stdout",
          "text": "RMSE: 0.2704\nRMSE --> 0.2704420117948464\nAccuracy --> 0.7295579882051536\n"
        }
      ],
      "execution_count": 21,
      "metadata": {
        "jupyter": {
          "source_hidden": false,
          "outputs_hidden": false
        },
        "nteract": {
          "transient": {
            "deleting": false
          }
        },
        "gather": {
          "logged": 1642972710641
        }
      }
    },
    {
      "cell_type": "markdown",
      "source": [
        "### SlopeOne recommender"
      ],
      "metadata": {}
    },
    {
      "cell_type": "code",
      "source": [
        "# We'll use the SlopeOne algorithm.\n",
        "algo = SlopeOne()\n",
        "\n",
        "# Run 5-fold cross-validation and print results\n",
        "so_validate =cross_validate(algo, data_model_pca, measures=['RMSE', 'MAE'], cv=5, verbose=True)"
      ],
      "outputs": [
        {
          "output_type": "stream",
          "name": "stdout",
          "text": "Evaluating RMSE, MAE of algorithm SlopeOne on 5 split(s).\n\n                  Fold 1  Fold 2  Fold 3  Fold 4  Fold 5  Mean    Std     \nRMSE (testset)    0.2749  0.2747  0.2765  0.2763  0.2751  0.2755  0.0008  \nMAE (testset)     0.2153  0.2157  0.2168  0.2167  0.2158  0.2160  0.0006  \nFit time          0.23    0.26    0.28    0.27    0.27    0.26    0.02    \nTest time         0.38    0.38    0.39    0.58    0.38    0.42    0.08    \n"
        }
      ],
      "execution_count": 22,
      "metadata": {
        "gather": {
          "logged": 1642972715333
        }
      }
    },
    {
      "cell_type": "code",
      "source": [
        "# Train the algorithm on the trainset, and predict ratings for the testset\n",
        "algo.fit(trainset_pca)\n",
        "predictions = algo.test(testset_pca)"
      ],
      "outputs": [],
      "execution_count": 23,
      "metadata": {
        "gather": {
          "logged": 1642972716072
        }
      }
    },
    {
      "cell_type": "markdown",
      "source": [
        "Top N predictions"
      ],
      "metadata": {
        "nteract": {
          "transient": {
            "deleting": false
          }
        }
      }
    },
    {
      "cell_type": "code",
      "source": [
        "top_n, users_est, users_true, rec_for_user = top_n_pred(predictions)"
      ],
      "outputs": [],
      "execution_count": 24,
      "metadata": {
        "jupyter": {
          "source_hidden": false,
          "outputs_hidden": false
        },
        "nteract": {
          "transient": {
            "deleting": false
          }
        },
        "gather": {
          "logged": 1642972716242
        }
      }
    },
    {
      "cell_type": "markdown",
      "source": [
        "NDCG"
      ],
      "metadata": {
        "nteract": {
          "transient": {
            "deleting": false
          }
        }
      }
    },
    {
      "cell_type": "code",
      "source": [
        "ndcg_list, ndgc_rate = calc_ndcg(users_true,users_est)\n",
        "print(\"NDCG\", ndgc_rate)"
      ],
      "outputs": [
        {
          "output_type": "stream",
          "name": "stdout",
          "text": "NDCG 0.9789006224152145\n"
        }
      ],
      "execution_count": 25,
      "metadata": {
        "jupyter": {
          "source_hidden": false,
          "outputs_hidden": false
        },
        "nteract": {
          "transient": {
            "deleting": false
          }
        },
        "gather": {
          "logged": 1642972716578
        }
      }
    },
    {
      "cell_type": "code",
      "source": [
        "# dataframe with all the predictions\n",
        "df = pd.DataFrame(predictions, columns=['uid', 'iid', 'rui', 'est', 'details'])    \n",
        "df['Iu'] = df.uid.apply(get_Iu)\n",
        "df['Ui'] = df.iid.apply(get_Ui)\n",
        "df['err'] = abs(df.est - df.rui)"
      ],
      "outputs": [],
      "execution_count": 26,
      "metadata": {
        "gather": {
          "logged": 1642972716701
        }
      }
    },
    {
      "cell_type": "code",
      "source": [
        "# 10 Best predictions\n",
        "best_predictions = df.sort_values(by='err')[:10]\n",
        "best_predictions"
      ],
      "outputs": [
        {
          "output_type": "execute_result",
          "execution_count": 27,
          "data": {
            "text/plain": "                                    uid           iid       rui       est  \\\n17926  0fb6934dbb31b60c61e5c13f827a495b       PRANAMA  1.000000  1.000000   \n30223  c164df7a5079f4e0186c2f8591cc914a   PEO_UTHAYAM  0.503270  0.503270   \n3339   7ffa7e07ae230f19be9a9086ef604314    PEO_SILVER  0.889471  0.889471   \n16813  450589c449837400fc8ca35a9f7e5a0f  PEO_UNNATHAM  0.944804  0.944804   \n16905  654440f1ce99171aa91c960d4458f8d1    PEO_SILVER  0.172117  0.172117   \n30177  e60a618d0b99e0b3b8fc77bbf9c6c3cb    PEO_SILVER  0.061733  0.061733   \n22888  b701180904910d948e97ec47a0d50553    PEO_SILVER  1.000000  1.000000   \n16928  31db095dc413c41f3ac6f7a9403b6537    PEO_SILVER  1.000000  1.000000   \n227    acfdf14a899a6a642ad6bacb81f8e686    PEO_SILVER  0.172117  0.172117   \n4893   db1c82e1626a0f80f72ad5e3904a13e1    PEO_SILVER  1.000000  1.000000   \n\n                         details  Iu     Ui  err  \n17926  {'was_impossible': False}   9   4064  0.0  \n30223  {'was_impossible': False}   1  17814  0.0  \n3339   {'was_impossible': False}   1  82776  0.0  \n16813  {'was_impossible': False}   2   2983  0.0  \n16905  {'was_impossible': False}   3  82776  0.0  \n30177  {'was_impossible': False}   6  82776  0.0  \n22888  {'was_impossible': False}   7  82776  0.0  \n16928  {'was_impossible': False}   6  82776  0.0  \n227    {'was_impossible': False}   1  82776  0.0  \n4893   {'was_impossible': False}   9  82776  0.0  ",
            "text/html": "<div>\n<style scoped>\n    .dataframe tbody tr th:only-of-type {\n        vertical-align: middle;\n    }\n\n    .dataframe tbody tr th {\n        vertical-align: top;\n    }\n\n    .dataframe thead th {\n        text-align: right;\n    }\n</style>\n<table border=\"1\" class=\"dataframe\">\n  <thead>\n    <tr style=\"text-align: right;\">\n      <th></th>\n      <th>uid</th>\n      <th>iid</th>\n      <th>rui</th>\n      <th>est</th>\n      <th>details</th>\n      <th>Iu</th>\n      <th>Ui</th>\n      <th>err</th>\n    </tr>\n  </thead>\n  <tbody>\n    <tr>\n      <th>17926</th>\n      <td>0fb6934dbb31b60c61e5c13f827a495b</td>\n      <td>PRANAMA</td>\n      <td>1.000000</td>\n      <td>1.000000</td>\n      <td>{'was_impossible': False}</td>\n      <td>9</td>\n      <td>4064</td>\n      <td>0.0</td>\n    </tr>\n    <tr>\n      <th>30223</th>\n      <td>c164df7a5079f4e0186c2f8591cc914a</td>\n      <td>PEO_UTHAYAM</td>\n      <td>0.503270</td>\n      <td>0.503270</td>\n      <td>{'was_impossible': False}</td>\n      <td>1</td>\n      <td>17814</td>\n      <td>0.0</td>\n    </tr>\n    <tr>\n      <th>3339</th>\n      <td>7ffa7e07ae230f19be9a9086ef604314</td>\n      <td>PEO_SILVER</td>\n      <td>0.889471</td>\n      <td>0.889471</td>\n      <td>{'was_impossible': False}</td>\n      <td>1</td>\n      <td>82776</td>\n      <td>0.0</td>\n    </tr>\n    <tr>\n      <th>16813</th>\n      <td>450589c449837400fc8ca35a9f7e5a0f</td>\n      <td>PEO_UNNATHAM</td>\n      <td>0.944804</td>\n      <td>0.944804</td>\n      <td>{'was_impossible': False}</td>\n      <td>2</td>\n      <td>2983</td>\n      <td>0.0</td>\n    </tr>\n    <tr>\n      <th>16905</th>\n      <td>654440f1ce99171aa91c960d4458f8d1</td>\n      <td>PEO_SILVER</td>\n      <td>0.172117</td>\n      <td>0.172117</td>\n      <td>{'was_impossible': False}</td>\n      <td>3</td>\n      <td>82776</td>\n      <td>0.0</td>\n    </tr>\n    <tr>\n      <th>30177</th>\n      <td>e60a618d0b99e0b3b8fc77bbf9c6c3cb</td>\n      <td>PEO_SILVER</td>\n      <td>0.061733</td>\n      <td>0.061733</td>\n      <td>{'was_impossible': False}</td>\n      <td>6</td>\n      <td>82776</td>\n      <td>0.0</td>\n    </tr>\n    <tr>\n      <th>22888</th>\n      <td>b701180904910d948e97ec47a0d50553</td>\n      <td>PEO_SILVER</td>\n      <td>1.000000</td>\n      <td>1.000000</td>\n      <td>{'was_impossible': False}</td>\n      <td>7</td>\n      <td>82776</td>\n      <td>0.0</td>\n    </tr>\n    <tr>\n      <th>16928</th>\n      <td>31db095dc413c41f3ac6f7a9403b6537</td>\n      <td>PEO_SILVER</td>\n      <td>1.000000</td>\n      <td>1.000000</td>\n      <td>{'was_impossible': False}</td>\n      <td>6</td>\n      <td>82776</td>\n      <td>0.0</td>\n    </tr>\n    <tr>\n      <th>227</th>\n      <td>acfdf14a899a6a642ad6bacb81f8e686</td>\n      <td>PEO_SILVER</td>\n      <td>0.172117</td>\n      <td>0.172117</td>\n      <td>{'was_impossible': False}</td>\n      <td>1</td>\n      <td>82776</td>\n      <td>0.0</td>\n    </tr>\n    <tr>\n      <th>4893</th>\n      <td>db1c82e1626a0f80f72ad5e3904a13e1</td>\n      <td>PEO_SILVER</td>\n      <td>1.000000</td>\n      <td>1.000000</td>\n      <td>{'was_impossible': False}</td>\n      <td>9</td>\n      <td>82776</td>\n      <td>0.0</td>\n    </tr>\n  </tbody>\n</table>\n</div>"
          },
          "metadata": {}
        }
      ],
      "execution_count": 27,
      "metadata": {
        "gather": {
          "logged": 1642972716811
        }
      }
    },
    {
      "cell_type": "code",
      "source": [
        "rmse = accuracy.rmse(predictions)\n",
        "print(\"RMSE -->\",rmse)\n",
        "print(\"Accuracy -->\",1-rmse)"
      ],
      "outputs": [
        {
          "output_type": "stream",
          "name": "stdout",
          "text": "RMSE: 0.2762\nRMSE --> 0.2761700756201991\nAccuracy --> 0.723829924379801\n"
        }
      ],
      "execution_count": 28,
      "metadata": {
        "jupyter": {
          "source_hidden": false,
          "outputs_hidden": false
        },
        "nteract": {
          "transient": {
            "deleting": false
          }
        },
        "gather": {
          "logged": 1642972716935
        }
      }
    },
    {
      "cell_type": "markdown",
      "source": [
        "## Baseline Only"
      ],
      "metadata": {
        "nteract": {
          "transient": {
            "deleting": false
          }
        }
      }
    },
    {
      "cell_type": "code",
      "source": [
        "# We'll use the SlopeOne algorithm.\n",
        "algo = BaselineOnly()\n",
        "\n",
        "# Run 5-fold cross-validation and print results\n",
        "bo_validate =cross_validate(algo, data_model_pca, measures=['RMSE', 'MAE'], cv=5, verbose=True)"
      ],
      "outputs": [
        {
          "output_type": "stream",
          "name": "stdout",
          "text": "Estimating biases using als...\nEstimating biases using als...\nEstimating biases using als...\nEstimating biases using als...\nEstimating biases using als...\nEvaluating RMSE, MAE of algorithm BaselineOnly on 5 split(s).\n\n                  Fold 1  Fold 2  Fold 3  Fold 4  Fold 5  Mean    Std     \nRMSE (testset)    0.2726  0.2739  0.2738  0.2719  0.2732  0.2731  0.0007  \nMAE (testset)     0.2249  0.2258  0.2257  0.2235  0.2248  0.2249  0.0008  \nFit time          0.26    0.27    0.30    0.27    0.29    0.28    0.02    \nTest time         0.15    0.16    0.15    0.40    0.15    0.20    0.10    \n"
        }
      ],
      "execution_count": 35,
      "metadata": {
        "jupyter": {
          "source_hidden": false,
          "outputs_hidden": false
        },
        "nteract": {
          "transient": {
            "deleting": false
          }
        },
        "gather": {
          "logged": 1642973145142
        }
      }
    },
    {
      "cell_type": "code",
      "source": [
        "# Train the algorithm on the trainset, and predict ratings for the testset\n",
        "algo.fit(trainset_pca)\n",
        "predictions = algo.test(testset_pca)"
      ],
      "outputs": [
        {
          "output_type": "stream",
          "name": "stdout",
          "text": "Estimating biases using als...\n"
        }
      ],
      "execution_count": 36,
      "metadata": {
        "jupyter": {
          "source_hidden": false,
          "outputs_hidden": false
        },
        "nteract": {
          "transient": {
            "deleting": false
          }
        },
        "gather": {
          "logged": 1642973155501
        }
      }
    },
    {
      "cell_type": "markdown",
      "source": [
        "Top n recommendations"
      ],
      "metadata": {
        "nteract": {
          "transient": {
            "deleting": false
          }
        }
      }
    },
    {
      "cell_type": "code",
      "source": [
        "top_n, users_est, users_true, rec_for_user = top_n_pred(predictions)"
      ],
      "outputs": [],
      "execution_count": 37,
      "metadata": {
        "jupyter": {
          "source_hidden": false,
          "outputs_hidden": false
        },
        "nteract": {
          "transient": {
            "deleting": false
          }
        },
        "gather": {
          "logged": 1642973193714
        }
      }
    },
    {
      "cell_type": "markdown",
      "source": [
        "NDCG"
      ],
      "metadata": {
        "nteract": {
          "transient": {
            "deleting": false
          }
        }
      }
    },
    {
      "cell_type": "code",
      "source": [
        "ndcg_list, ndgc_rate = calc_ndcg(users_true,users_est)\n",
        "print(\"NDCG\", ndgc_rate)"
      ],
      "outputs": [
        {
          "output_type": "stream",
          "name": "stdout",
          "text": "NDCG 0.9789158974061646\n"
        }
      ],
      "execution_count": 38,
      "metadata": {
        "jupyter": {
          "source_hidden": false,
          "outputs_hidden": false
        },
        "nteract": {
          "transient": {
            "deleting": false
          }
        },
        "gather": {
          "logged": 1642973203076
        }
      }
    },
    {
      "cell_type": "code",
      "source": [
        "# dataframe with all the predictions\n",
        "df = pd.DataFrame(predictions, columns=['uid', 'iid', 'rui', 'est', 'details'])    \n",
        "df['Iu'] = df.uid.apply(get_Iu)\n",
        "df['Ui'] = df.iid.apply(get_Ui)\n",
        "df['err'] = abs(df.est - df.rui)"
      ],
      "outputs": [],
      "execution_count": 39,
      "metadata": {
        "jupyter": {
          "source_hidden": false,
          "outputs_hidden": false
        },
        "nteract": {
          "transient": {
            "deleting": false
          }
        },
        "gather": {
          "logged": 1642973215456
        }
      }
    },
    {
      "cell_type": "code",
      "source": [
        "# 10 Best predictions\n",
        "best_predictions = df.sort_values(by='err')[:10]\n",
        "best_predictions"
      ],
      "outputs": [
        {
          "output_type": "execute_result",
          "execution_count": 40,
          "data": {
            "text/plain": "                                    uid                    iid       rui  \\\n24065  3a4d526629bf5487d1596c6c927944e3            PEO_UTHAYAM  0.503270   \n15947  6c032e501b4880eaa8e71b23ef373377             PEO_SILVER  0.392884   \n6963   9ddcb6d04ab42e2a2ce798f780d69af7            PEO_UTHAYAM  0.448077   \n6521   14dfadad5bbbb803a6dc9f784ffe9f8f            PEO_UTHAYAM  0.448078   \n29389  0426a9264ab054a36f67568b4a20db71  PEO_RELIGIOUS_PACKAGE  0.503270   \n11942  317a5fd1ef0687a79a681cecbccedde0             PEO_SILVER  0.503270   \n10976  fa9b83063a2126c33a9e2a2d46688761        PEO_SILVER_PLUS  0.503270   \n28755  767cb6cdadc6ddfe1bed0b035994123c        PEO_SILVER_PLUS  0.420482   \n6034   0b790cb2dc8d06c1e50016b09c82558c      PEO_TITANIUM_FTTH  0.475671   \n21480  38114da7be92eb96b5b0a6fbfa128624  NEW_SLT_STAFF_PACKAGE  0.392886   \n\n            est                    details  Iu     Ui       err  \n24065  0.503286  {'was_impossible': False}   6  17814  0.000016  \n15947  0.392906  {'was_impossible': False}   8  82776  0.000022  \n6963   0.448035  {'was_impossible': False}   8  17814  0.000042  \n6521   0.448016  {'was_impossible': False}   8  17814  0.000062  \n29389  0.503193  {'was_impossible': False}   6    212  0.000077  \n11942  0.503192  {'was_impossible': False}   9  82776  0.000078  \n10976  0.503189  {'was_impossible': False}   6   5458  0.000081  \n28755  0.420384  {'was_impossible': False}   7   5458  0.000097  \n6034   0.475496  {'was_impossible': False}   9   1414  0.000175  \n21480  0.392672  {'was_impossible': False}   5    753  0.000214  ",
            "text/html": "<div>\n<style scoped>\n    .dataframe tbody tr th:only-of-type {\n        vertical-align: middle;\n    }\n\n    .dataframe tbody tr th {\n        vertical-align: top;\n    }\n\n    .dataframe thead th {\n        text-align: right;\n    }\n</style>\n<table border=\"1\" class=\"dataframe\">\n  <thead>\n    <tr style=\"text-align: right;\">\n      <th></th>\n      <th>uid</th>\n      <th>iid</th>\n      <th>rui</th>\n      <th>est</th>\n      <th>details</th>\n      <th>Iu</th>\n      <th>Ui</th>\n      <th>err</th>\n    </tr>\n  </thead>\n  <tbody>\n    <tr>\n      <th>24065</th>\n      <td>3a4d526629bf5487d1596c6c927944e3</td>\n      <td>PEO_UTHAYAM</td>\n      <td>0.503270</td>\n      <td>0.503286</td>\n      <td>{'was_impossible': False}</td>\n      <td>6</td>\n      <td>17814</td>\n      <td>0.000016</td>\n    </tr>\n    <tr>\n      <th>15947</th>\n      <td>6c032e501b4880eaa8e71b23ef373377</td>\n      <td>PEO_SILVER</td>\n      <td>0.392884</td>\n      <td>0.392906</td>\n      <td>{'was_impossible': False}</td>\n      <td>8</td>\n      <td>82776</td>\n      <td>0.000022</td>\n    </tr>\n    <tr>\n      <th>6963</th>\n      <td>9ddcb6d04ab42e2a2ce798f780d69af7</td>\n      <td>PEO_UTHAYAM</td>\n      <td>0.448077</td>\n      <td>0.448035</td>\n      <td>{'was_impossible': False}</td>\n      <td>8</td>\n      <td>17814</td>\n      <td>0.000042</td>\n    </tr>\n    <tr>\n      <th>6521</th>\n      <td>14dfadad5bbbb803a6dc9f784ffe9f8f</td>\n      <td>PEO_UTHAYAM</td>\n      <td>0.448078</td>\n      <td>0.448016</td>\n      <td>{'was_impossible': False}</td>\n      <td>8</td>\n      <td>17814</td>\n      <td>0.000062</td>\n    </tr>\n    <tr>\n      <th>29389</th>\n      <td>0426a9264ab054a36f67568b4a20db71</td>\n      <td>PEO_RELIGIOUS_PACKAGE</td>\n      <td>0.503270</td>\n      <td>0.503193</td>\n      <td>{'was_impossible': False}</td>\n      <td>6</td>\n      <td>212</td>\n      <td>0.000077</td>\n    </tr>\n    <tr>\n      <th>11942</th>\n      <td>317a5fd1ef0687a79a681cecbccedde0</td>\n      <td>PEO_SILVER</td>\n      <td>0.503270</td>\n      <td>0.503192</td>\n      <td>{'was_impossible': False}</td>\n      <td>9</td>\n      <td>82776</td>\n      <td>0.000078</td>\n    </tr>\n    <tr>\n      <th>10976</th>\n      <td>fa9b83063a2126c33a9e2a2d46688761</td>\n      <td>PEO_SILVER_PLUS</td>\n      <td>0.503270</td>\n      <td>0.503189</td>\n      <td>{'was_impossible': False}</td>\n      <td>6</td>\n      <td>5458</td>\n      <td>0.000081</td>\n    </tr>\n    <tr>\n      <th>28755</th>\n      <td>767cb6cdadc6ddfe1bed0b035994123c</td>\n      <td>PEO_SILVER_PLUS</td>\n      <td>0.420482</td>\n      <td>0.420384</td>\n      <td>{'was_impossible': False}</td>\n      <td>7</td>\n      <td>5458</td>\n      <td>0.000097</td>\n    </tr>\n    <tr>\n      <th>6034</th>\n      <td>0b790cb2dc8d06c1e50016b09c82558c</td>\n      <td>PEO_TITANIUM_FTTH</td>\n      <td>0.475671</td>\n      <td>0.475496</td>\n      <td>{'was_impossible': False}</td>\n      <td>9</td>\n      <td>1414</td>\n      <td>0.000175</td>\n    </tr>\n    <tr>\n      <th>21480</th>\n      <td>38114da7be92eb96b5b0a6fbfa128624</td>\n      <td>NEW_SLT_STAFF_PACKAGE</td>\n      <td>0.392886</td>\n      <td>0.392672</td>\n      <td>{'was_impossible': False}</td>\n      <td>5</td>\n      <td>753</td>\n      <td>0.000214</td>\n    </tr>\n  </tbody>\n</table>\n</div>"
          },
          "metadata": {}
        }
      ],
      "execution_count": 40,
      "metadata": {
        "jupyter": {
          "source_hidden": false,
          "outputs_hidden": false
        },
        "nteract": {
          "transient": {
            "deleting": false
          }
        },
        "gather": {
          "logged": 1642973224405
        }
      }
    },
    {
      "cell_type": "code",
      "source": [
        "rmse = accuracy.rmse(predictions)\n",
        "print(\"RMSE -->\",rmse)\n",
        "print(\"Accuracy -->\",1-rmse)"
      ],
      "outputs": [
        {
          "output_type": "stream",
          "name": "stdout",
          "text": "RMSE: 0.2743\nRMSE --> 0.27432531380262376\nAccuracy --> 0.7256746861973762\n"
        }
      ],
      "execution_count": 41,
      "metadata": {
        "jupyter": {
          "source_hidden": false,
          "outputs_hidden": false
        },
        "nteract": {
          "transient": {
            "deleting": false
          }
        },
        "gather": {
          "logged": 1642973241152
        }
      }
    },
    {
      "cell_type": "markdown",
      "source": [
        "### Benchmark algorithms"
      ],
      "metadata": {}
    },
    {
      "cell_type": "code",
      "source": [
        "benchmark = []\n",
        "# Iterate over all algorithms\n",
        "for algorithm in [SVD(), SlopeOne(), BaselineOnly(), CoClustering()]:\n",
        "    # Perform cross validation\n",
        "    results = cross_validate(algorithm, data_model_pca, measures=['RMSE'], cv=5, verbose=False)\n",
        "    \n",
        "    # Get results & append algorithm name\n",
        "    tmp = pd.DataFrame.from_dict(results).mean(axis=0)\n",
        "    tmp = tmp.append(pd.Series([str(algorithm).split(' ')[0].split('.')[-1]], index=['Algorithm']))\n",
        "    benchmark.append(tmp)\n",
        "    \n",
        "val_df = pd.DataFrame(benchmark).set_index('Algorithm').sort_values('test_rmse')\n",
        "val_df"
      ],
      "outputs": [
        {
          "output_type": "stream",
          "name": "stdout",
          "text": "Estimating biases using als...\nEstimating biases using als...\nEstimating biases using als...\nEstimating biases using als...\nEstimating biases using als...\n"
        },
        {
          "output_type": "execute_result",
          "execution_count": 29,
          "data": {
            "text/plain": "              test_rmse  fit_time  test_time\nAlgorithm                                   \nSVD            0.269384  6.449129   0.293777\nBaselineOnly   0.273062  0.236808   0.238699\nSlopeOne       0.275923  0.262995   0.416275\nCoClustering   0.449263  3.505755   0.206416",
            "text/html": "<div>\n<style scoped>\n    .dataframe tbody tr th:only-of-type {\n        vertical-align: middle;\n    }\n\n    .dataframe tbody tr th {\n        vertical-align: top;\n    }\n\n    .dataframe thead th {\n        text-align: right;\n    }\n</style>\n<table border=\"1\" class=\"dataframe\">\n  <thead>\n    <tr style=\"text-align: right;\">\n      <th></th>\n      <th>test_rmse</th>\n      <th>fit_time</th>\n      <th>test_time</th>\n    </tr>\n    <tr>\n      <th>Algorithm</th>\n      <th></th>\n      <th></th>\n      <th></th>\n    </tr>\n  </thead>\n  <tbody>\n    <tr>\n      <th>SVD</th>\n      <td>0.269384</td>\n      <td>6.449129</td>\n      <td>0.293777</td>\n    </tr>\n    <tr>\n      <th>BaselineOnly</th>\n      <td>0.273062</td>\n      <td>0.236808</td>\n      <td>0.238699</td>\n    </tr>\n    <tr>\n      <th>SlopeOne</th>\n      <td>0.275923</td>\n      <td>0.262995</td>\n      <td>0.416275</td>\n    </tr>\n    <tr>\n      <th>CoClustering</th>\n      <td>0.449263</td>\n      <td>3.505755</td>\n      <td>0.206416</td>\n    </tr>\n  </tbody>\n</table>\n</div>"
          },
          "metadata": {}
        }
      ],
      "execution_count": 29,
      "metadata": {
        "gather": {
          "logged": 1642972779792
        }
      }
    },
    {
      "cell_type": "markdown",
      "source": [
        "## CF Recommenders Accuracy Plots"
      ],
      "metadata": {}
    },
    {
      "cell_type": "code",
      "source": [
        "fig,ax = plt.subplots(figsize=(8,6))\n",
        "ax.plot(so_validate[\"test_rmse\"], color='blue')\n",
        "ax.plot(svd_validate[\"test_rmse\"], color='green')\n",
        "ax.plot(bo_validate[\"test_rmse\"], color='orange')\n",
        "ax.plot([0.340,0.340,0.335,0.334,0.311],linewidth=3, color='red')\n",
        "ax.plot(so_validate[\"test_mae\"], linestyle='dashdot', color='blue')\n",
        "ax.plot(svd_validate[\"test_mae\"], linestyle='dashdot', color='green')\n",
        "ax.plot(bo_validate[\"test_mae\"], linestyle='dashdot', color='orange')\n",
        "ax.plot([0.299,0.287,0.284,0.282,0.276],linewidth=4, linestyle='dashdot', color='red')\n",
        "# plt.xticks(np.arange(0, 30, 0.5))\n",
        "plt.title(\"CableTV Packages Recommender\", loc=\"center\")\n",
        "plt.legend([\"RMSE: SlopeOne\",\"RMSE: SVD\",\"RMSE: BaselineOnly\",\"RMSE: Wide Model\",\n",
        "           \"MAE: SlopeOne\",\"MAE: SVD\",\"MAE: BaselineOnly\",\"MAE: Wide Model\"])"
      ],
      "outputs": [
        {
          "output_type": "execute_result",
          "execution_count": 33,
          "data": {
            "text/plain": "<matplotlib.legend.Legend at 0x7f4827847ba8>"
          },
          "metadata": {}
        },
        {
          "output_type": "display_data",
          "data": {
            "text/plain": "<Figure size 576x432 with 1 Axes>",
            "image/png": "[encoded data removed]"
          },
          "metadata": {
            "needs_background": "light"
          }
        }
      ],
      "execution_count": 33,
      "metadata": {
        "gather": {
          "logged": 1642972905984
        }
      }
    },
    {
      "cell_type": "code",
      "source": [
        "fig,ax = plt.subplots(figsize=(13,7))\n",
        "ax.plot(so_validate[\"test_mae\"], linestyle='dashdot', color='blue')\n",
        "ax.plot(svd_validate[\"test_mae\"], linestyle='dashdot', color='green')\n",
        "ax.plot(bo_validate[\"test_mae\"], linestyle='dashdot', color='green')\n",
        "ax.plot([0.299,0.287,0.284,0.282,0.276],linewidth=4, linestyle='dashdot', color='red')\n",
        "# plt.xticks(np.arange(0, 4, 0.2))\n",
        "plt.title(\"Test MAE: CableTV Packages Recommender\", loc=\"center\")\n",
        "plt.legend([\"MAE: SlopeOne\",\"MAE: SVD\",\"MAE: BaselineOnly\",\"MAE: Wide Model\"])"
      ],
      "outputs": [
        {
          "output_type": "execute_result",
          "execution_count": 34,
          "data": {
            "text/plain": "<matplotlib.legend.Legend at 0x7f48270c5400>"
          },
          "metadata": {}
        },
        {
          "output_type": "display_data",
          "data": {
            "text/plain": "<Figure size 936x504 with 1 Axes>",
            "image/png": "[encoded data removed]"
          },
          "metadata": {
            "needs_background": "light"
          }
        }
      ],
      "execution_count": 34,
      "metadata": {
        "gather": {
          "logged": 1642972929973
        }
      }
    },
    {
      "cell_type": "markdown",
      "source": [
        "# Ensamble Recommender Model"
      ],
      "metadata": {
        "nteract": {
          "transient": {
            "deleting": false
          }
        }
      }
    },
    {
      "cell_type": "code",
      "source": [],
      "outputs": [],
      "execution_count": null,
      "metadata": {}
    }
  ],
  "metadata": {
    "kernelspec": {
      "name": "python3",
      "language": "python",
      "display_name": "Python 3"
    },
    "language_info": {
      "name": "python",
      "version": "3.6.9",
      "mimetype": "text/x-python",
      "codemirror_mode": {
        "name": "ipython",
        "version": 3
      },
      "pygments_lexer": "ipython3",
      "nbconvert_exporter": "python",
      "file_extension": ".py"
    },
    "kernel_info": {
      "name": "python3"
    },
    "nteract": {
      "version": "nteract-front-end@1.0.0"
    },
    "microsoft": {
      "host": {
        "AzureML": {
          "notebookHasBeenCompleted": true
        }
      }
    }
  },
  "nbformat": 4,
  "nbformat_minor": 4
}