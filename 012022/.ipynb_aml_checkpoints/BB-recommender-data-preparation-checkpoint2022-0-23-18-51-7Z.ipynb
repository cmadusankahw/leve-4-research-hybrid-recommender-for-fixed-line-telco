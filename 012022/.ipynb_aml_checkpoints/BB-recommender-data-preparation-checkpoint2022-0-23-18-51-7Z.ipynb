{
  "cells": [
    {
      "cell_type": "code",
      "source": [
        "# import libraries\n",
        "import numpy as np\n",
        "import pandas as pd\n",
        "import seaborn as sns\n",
        "import matplotlib.pyplot as plt\n",
        "from sklearn.preprocessing import MinMaxScaler\n",
        "from sklearn.decomposition import PCA"
      ],
      "outputs": [],
      "execution_count": 1,
      "metadata": {
        "gather": {
          "logged": 1642962965667
        }
      }
    },
    {
      "cell_type": "code",
      "source": [
        "user_profile = pd.read_csv(\"data/User_Profile_Null_Handled.csv\")\n",
        "user_packages = pd.read_csv(\"data/BB_Usage_CF.csv\")\n",
        "product_profile = pd.read_csv(\"data/Product_Profile_Finalised_CSV.csv\")\n",
        "account_no_map = pd.read_csv(\"data/account_no_map_all.csv\")\n",
        "user_bb_map = pd.read_csv(\"data/User_BB_Package_Map.csv\")"
      ],
      "outputs": [],
      "execution_count": 5,
      "metadata": {
        "gather": {
          "logged": 1642963136755
        }
      }
    },
    {
      "cell_type": "code",
      "source": [
        "try:\n",
        "    user_profile.drop([\"Unnamed: 0\"],axis=1,inplace=True)\n",
        "    user_packages.drop([\"Unnamed: 0\"],axis=1,inplace=True)\n",
        "    account_no_map.drop([\"Unnamed: 0\"],axis=1,inplace=True)\n",
        "    user_bb_map.drop([\"Unnamed: 0\"],axis=1,inplace=True)\n",
        "    product_profile.drop([\"Unnamed: 0\"],axis=1,inplace=True)\n",
        "except:\n",
        "    pass"
      ],
      "outputs": [],
      "execution_count": 6,
      "metadata": {
        "jupyter": {
          "source_hidden": false,
          "outputs_hidden": false
        },
        "nteract": {
          "transient": {
            "deleting": false
          }
        },
        "gather": {
          "logged": 1642963137315
        }
      }
    },
    {
      "cell_type": "code",
      "source": [
        "user_profile = user_profile[(user_profile[\"BB_Package\"] != \"NO_INFO\")]\n",
        "user_profile.reset_index(drop=True, inplace=True)"
      ],
      "outputs": [],
      "execution_count": null,
      "metadata": {
        "jupyter": {
          "source_hidden": false,
          "outputs_hidden": false
        },
        "nteract": {
          "transient": {
            "deleting": false
          }
        }
      }
    },
    {
      "cell_type": "code",
      "source": [
        "user_bb_map"
      ],
      "outputs": [
        {
          "output_type": "execute_result",
          "execution_count": 8,
          "data": {
            "text/plain": "                       ACCOUNT_NUM.hash            BB_Package\n0      060762f66bad1ea42b90cbd8317a0517  FTTH_WEB FAMILY PLUS\n1      ec436d8c0d0c61d4fd22bc0bee8d457c       LTE_WEB STARTER\n2      4794e9517260d9d48523c36ac515b501              WEB LITE\n3      47bdab547848cf7025f64aefe8001882       WEB FAMILY PLUS\n4      8079eca70de81c34a279fbf226cb85ec       LTE_WEB STARTER\n...                                 ...                   ...\n32940  4d7d8ffc0de8e5db3fa2e0f78c77a543           WEB STARTER\n32941  a3df6cf6840e7cb360d8e835197489ee              WEB LITE\n32942  1688f8d201dec3c99a90271c4603148f               WEB PAL\n32943  1688f8d201dec3c99a90271c4603148f       WEB FAMILY PLUS\n32944  64cf8be78270f903e4fb54dcf4a41d9f              WEB LITE\n\n[32945 rows x 2 columns]",
            "text/html": "<div>\n<style scoped>\n    .dataframe tbody tr th:only-of-type {\n        vertical-align: middle;\n    }\n\n    .dataframe tbody tr th {\n        vertical-align: top;\n    }\n\n    .dataframe thead th {\n        text-align: right;\n    }\n</style>\n<table border=\"1\" class=\"dataframe\">\n  <thead>\n    <tr style=\"text-align: right;\">\n      <th></th>\n      <th>ACCOUNT_NUM.hash</th>\n      <th>BB_Package</th>\n    </tr>\n  </thead>\n  <tbody>\n    <tr>\n      <th>0</th>\n      <td>060762f66bad1ea42b90cbd8317a0517</td>\n      <td>FTTH_WEB FAMILY PLUS</td>\n    </tr>\n    <tr>\n      <th>1</th>\n      <td>ec436d8c0d0c61d4fd22bc0bee8d457c</td>\n      <td>LTE_WEB STARTER</td>\n    </tr>\n    <tr>\n      <th>2</th>\n      <td>4794e9517260d9d48523c36ac515b501</td>\n      <td>WEB LITE</td>\n    </tr>\n    <tr>\n      <th>3</th>\n      <td>47bdab547848cf7025f64aefe8001882</td>\n      <td>WEB FAMILY PLUS</td>\n    </tr>\n    <tr>\n      <th>4</th>\n      <td>8079eca70de81c34a279fbf226cb85ec</td>\n      <td>LTE_WEB STARTER</td>\n    </tr>\n    <tr>\n      <th>...</th>\n      <td>...</td>\n      <td>...</td>\n    </tr>\n    <tr>\n      <th>32940</th>\n      <td>4d7d8ffc0de8e5db3fa2e0f78c77a543</td>\n      <td>WEB STARTER</td>\n    </tr>\n    <tr>\n      <th>32941</th>\n      <td>a3df6cf6840e7cb360d8e835197489ee</td>\n      <td>WEB LITE</td>\n    </tr>\n    <tr>\n      <th>32942</th>\n      <td>1688f8d201dec3c99a90271c4603148f</td>\n      <td>WEB PAL</td>\n    </tr>\n    <tr>\n      <th>32943</th>\n      <td>1688f8d201dec3c99a90271c4603148f</td>\n      <td>WEB FAMILY PLUS</td>\n    </tr>\n    <tr>\n      <th>32944</th>\n      <td>64cf8be78270f903e4fb54dcf4a41d9f</td>\n      <td>WEB LITE</td>\n    </tr>\n  </tbody>\n</table>\n<p>32945 rows × 2 columns</p>\n</div>"
          },
          "metadata": {}
        }
      ],
      "execution_count": 8,
      "metadata": {
        "jupyter": {
          "source_hidden": false,
          "outputs_hidden": false
        },
        "nteract": {
          "transient": {
            "deleting": false
          }
        },
        "gather": {
          "logged": 1642963299768
        }
      }
    },
    {
      "cell_type": "code",
      "source": [
        "rat_df = user_packages.merge(account_no_map, how=\"left\", on=\"event_source.hash\")\n",
        "rat_df = rat_df.merge(user_bb_map, how=\"left\",on=\"ACCOUNT_NUM.hash\") # THIS SHOULD BE BASED ON EVENT SOURCE\n",
        "rat_df.rename(columns={\"BB_Package\":\"package\",\"rating\":\"ratings\"}, inplace=True)\n",
        "rat_df = rat_df.merge(user_profile, how=\"left\", on=\"ACCOUNT_NUM.hash\")\n",
        "rat_df.dropna(subset=[\"ACCOUNT_NUM.hash\",\"package\"], inplace=True)"
      ],
      "outputs": [],
      "execution_count": 9,
      "metadata": {
        "jupyter": {
          "source_hidden": false,
          "outputs_hidden": false
        },
        "nteract": {
          "transient": {
            "deleting": false
          }
        },
        "gather": {
          "logged": 1642963453458
        }
      }
    },
    {
      "cell_type": "code",
      "source": [
        "rat_df.iloc[:,:90].info()"
      ],
      "outputs": [
        {
          "output_type": "stream",
          "name": "stdout",
          "text": "<class 'pandas.core.frame.DataFrame'>\nInt64Index: 214069 entries, 19 to 576666\nData columns (total 90 columns):\n #   Column                                    Non-Null Count   Dtype  \n---  ------                                    --------------   -----  \n 0   event_source.hash                         214069 non-null  object \n 1   year-month                                214069 non-null  int64  \n 2   ratings                                   214069 non-null  float64\n 3   ACCOUNT_NUM.hash                          214069 non-null  object \n 4   CR.hash                                   214069 non-null  object \n 5   package                                   214069 non-null  object \n 6   Voice_INCOMING_Categorical                174093 non-null  object \n 7   Voice_INCOMING_Scaled                     174093 non-null  float64\n 8   Voice_INCOMING_Outlier                    174093 non-null  object \n 9   Location_Identifier                       174093 non-null  object \n 10  Location_Node                             174093 non-null  object \n 11  Package_Type_and_Medium                   174093 non-null  object \n 12  Model                                     174093 non-null  object \n 13  Service_Status                            174093 non-null  object \n 14  Voice_OUTGOING_Categorical                174093 non-null  object \n 15  Voice_OUTGOING_Scaled                     174093 non-null  float64\n 16  Voice_OUTGOING_Outlier                    174093 non-null  object \n 17  IDD_INCOMING_Categorical                  174093 non-null  object \n 18  IDD_INCOMING_Scaled                       174093 non-null  float64\n 19  IDD_INCOMING_Outlier                      174093 non-null  object \n 20  IDD_incoming_country                      174093 non-null  object \n 21  IDD_OUTGOING_Categorical                  174093 non-null  object \n 22  IDD_OUTGOING_Scaled                       174093 non-null  float64\n 23  IDD_OUTGOING_Outlier                      174093 non-null  object \n 24  IDD_outgoing_country                      174093 non-null  object \n 25  Peo_TV_Package                            174093 non-null  object \n 26  PEO_TV_Categorical                        174093 non-null  object \n 27  PEO_TV_Scaled                             174093 non-null  float64\n 28  BB_Categorical                            174093 non-null  object \n 29  BB_Scaled                                 174093 non-null  float64\n 30  BB_Package                                174093 non-null  object \n 31  GENDER                                    174093 non-null  object \n 32  BIRTH_YEAR                                174093 non-null  float64\n 33  AGE                                       174093 non-null  float64\n 34  Voice_Overall_Categorical                 174093 non-null  object \n 35  IDD_Overall_Categorical                   174093 non-null  object \n 36  VOICE_Categorical                         174093 non-null  object \n 37  Subscription                              174093 non-null  object \n 38  Sub_Type                                  174093 non-null  object \n 39  Sub_Usage                                 174093 non-null  object \n 40  Sub_Type_State                            174093 non-null  object \n 41  Megaline_Package                          174093 non-null  object \n 42  Megaline_Month_Subscribed                 174093 non-null  object \n 43  Megaline_Rental                           174093 non-null  float64\n 44  Package_Type                              174093 non-null  object \n 45  Megaline_Medium                           174093 non-null  object \n 46  is_Promotion                              174093 non-null  object \n 47  Megaline_Rental_Scaled                    174093 non-null  float64\n 48  FTTH_Package                              174093 non-null  object \n 49  FTTH_Month_Subscribed                     174093 non-null  object \n 50  FTTH_Rental                               174093 non-null  float64\n 51  FTTH_Medium                               174093 non-null  object \n 52  FTTH_Rental_Scaled                        174093 non-null  float64\n 53  LTE_Package                               174093 non-null  object \n 54  LTE_Month_Subscribed                      174093 non-null  object \n 55  LTE_Rental                                174093 non-null  float64\n 56  LTE_Medium                                174093 non-null  object \n 57  LTE_Rental_Scaled                         174093 non-null  float64\n 58  VAS_Package                               174093 non-null  object \n 59  VAS_Month_Subscribed                      174093 non-null  object \n 60  VAS_Rental                                174093 non-null  float64\n 61  Product_Type                              174093 non-null  object \n 62  VAS_Medium                                174093 non-null  object \n 63  VAS_Rental_Scaled                         174093 non-null  float64\n 64  Sub_Update_Date                           174093 non-null  object \n 65  Sub_Update_Status                         174093 non-null  object \n 66  Sub_Update                                174093 non-null  object \n 67  BB_Extra_GB_Rental                        174093 non-null  float64\n 68  BB_Extra_GB_Amount                        174093 non-null  float64\n 69  BB_Extra_GB_Hour_Subscribed               174093 non-null  object \n 70  BB_Extra_GB_Usage_Times                   174093 non-null  float64\n 71  BB_Extra_GB_Month_vs_Rental               174093 non-null  object \n 72  BB_Extra_GB_Purchased_Scaled              174093 non-null  float64\n 73  BB_Extra_GB_Purchase_Categorical          174093 non-null  object \n 74  BB_Extra_GB_Subscribed_Night              174093 non-null  float64\n 75  BB_Extra_GB_Subscribed_Day                174093 non-null  float64\n 76  BB_Extra_GB_Rental_Scaled                 174093 non-null  float64\n 77  Peo_Extra_Channels_Cumulative_Rental      174093 non-null  float64\n 78  Peo_Extra_Channels_Month_vs_Rental        174093 non-null  object \n 79  Peo_Extra_Channels_Purchased_Scaled       174093 non-null  float64\n 80  Peo_Extra_Channels_Purchased_Categorical  174093 non-null  object \n 81  Bill_Balance_Froward                      174093 non-null  float64\n 82  Bill_Net_Invoice                          174093 non-null  float64\n 83  Bill_Tax_Invoice                          174093 non-null  float64\n 84  Bill_Outstanding_Balance                  174093 non-null  float64\n 85  Bill_Amount_Paid                          174093 non-null  float64\n 86  Bill_Faild_to_Pay                         174093 non-null  float64\n 87  Bill_Adjustment_Paid                      174093 non-null  float64\n 88  Bill_Refunds_Paid                         174093 non-null  float64\n 89  Bill_Payment_Due_Date                     174093 non-null  object \ndtypes: float64(34), int64(1), object(55)\nmemory usage: 148.6+ MB\n"
        }
      ],
      "execution_count": 11,
      "metadata": {
        "jupyter": {
          "source_hidden": false,
          "outputs_hidden": false
        },
        "nteract": {
          "transient": {
            "deleting": false
          }
        },
        "gather": {
          "logged": 1642963512387
        }
      }
    },
    {
      "cell_type": "markdown",
      "source": [
        "### Exporting Package Names"
      ],
      "metadata": {}
    },
    {
      "cell_type": "markdown",
      "source": [
        "PCA Ratings calculation"
      ],
      "metadata": {
        "nteract": {
          "transient": {
            "deleting": false
          }
        }
      }
    },
    {
      "cell_type": "code",
      "source": [
        "data_dim=rat_df.iloc[:,[29,47,52,57,72,76]]\n",
        "data_dim.fillna(0, inplace=True)\n",
        "\n",
        "### Run PCA on the data and reduce the dimensions in pca_num_components dimensions\n",
        "pca = PCA(n_components=1)\n",
        "pca.fit(data_dim)\n",
        "reduced_data = pca.fit_transform(data_dim)\n",
        "results_df = pd.DataFrame(reduced_data,columns=['pca_ratings'])\n",
        "\n",
        "scaler = MinMaxScaler()\n",
        "results_df['pca_ratings'] = scaler.fit_transform(results_df['pca_ratings'].values.reshape(-1,1))"
      ],
      "outputs": [
        {
          "output_type": "stream",
          "name": "stderr",
          "text": "/anaconda/envs/azureml_py36/lib/python3.6/site-packages/pandas/core/frame.py:4327: SettingWithCopyWarning: \nA value is trying to be set on a copy of a slice from a DataFrame\n\nSee the caveats in the documentation: https://pandas.pydata.org/pandas-docs/stable/user_guide/indexing.html#returning-a-view-versus-a-copy\n  downcast=downcast,\n"
        }
      ],
      "execution_count": 12,
      "metadata": {
        "jupyter": {
          "source_hidden": false,
          "outputs_hidden": false
        },
        "nteract": {
          "transient": {
            "deleting": false
          }
        },
        "gather": {
          "logged": 1642963733624
        }
      }
    },
    {
      "cell_type": "code",
      "source": [
        "rating_df=rat_df.iloc[:,[3,5,2]]\n",
        "rating_df=pd.concat([rating_df,results_df],axis=1)\n",
        "rating_df.rename(columns={'usage':'ratings'},inplace=True)\n",
        "rating_df.drop (subset=[\"ACCOUNT_NUM.hash\",\"package\",\"ratings\"], inplace = True)\n",
        "rating_df.drop_duplicates(subset=[\"ACCOUNT_NUM.hash\",\"package\",\"ratings\"], inplace = True)"
      ],
      "outputs": [],
      "execution_count": 13,
      "metadata": {
        "jupyter": {
          "source_hidden": false,
          "outputs_hidden": false
        },
        "nteract": {
          "transient": {
            "deleting": false
          }
        },
        "gather": {
          "logged": 1642963784455
        }
      }
    },
    {
      "cell_type": "code",
      "source": [
        "rating_df.head()"
      ],
      "outputs": [
        {
          "output_type": "execute_result",
          "execution_count": 14,
          "data": {
            "text/plain": "                    ACCOUNT_NUM.hash               package  ratings  \\\n0                                NaN                   NaN      NaN   \n19  4c79064941253fbbcc922e263bb47077  FTTH_WEB FAMILY PLUS   0.7500   \n21  4c79064941253fbbcc922e263bb47077  FTTH_WEB FAMILY PLUS   0.5625   \n38  4c79064941253fbbcc922e263bb47077  FTTH_WEB FAMILY PLUS   1.0000   \n51  9ca8c42ad4b1b525a75834dd40a05c10  FTTH_WEB FAMILY PLUS   0.7500   \n\n    pca_ratings  \n0      0.691645  \n19     0.800616  \n21     0.000000  \n38     0.264705  \n51     0.264705  ",
            "text/html": "<div>\n<style scoped>\n    .dataframe tbody tr th:only-of-type {\n        vertical-align: middle;\n    }\n\n    .dataframe tbody tr th {\n        vertical-align: top;\n    }\n\n    .dataframe thead th {\n        text-align: right;\n    }\n</style>\n<table border=\"1\" class=\"dataframe\">\n  <thead>\n    <tr style=\"text-align: right;\">\n      <th></th>\n      <th>ACCOUNT_NUM.hash</th>\n      <th>package</th>\n      <th>ratings</th>\n      <th>pca_ratings</th>\n    </tr>\n  </thead>\n  <tbody>\n    <tr>\n      <th>0</th>\n      <td>NaN</td>\n      <td>NaN</td>\n      <td>NaN</td>\n      <td>0.691645</td>\n    </tr>\n    <tr>\n      <th>19</th>\n      <td>4c79064941253fbbcc922e263bb47077</td>\n      <td>FTTH_WEB FAMILY PLUS</td>\n      <td>0.7500</td>\n      <td>0.800616</td>\n    </tr>\n    <tr>\n      <th>21</th>\n      <td>4c79064941253fbbcc922e263bb47077</td>\n      <td>FTTH_WEB FAMILY PLUS</td>\n      <td>0.5625</td>\n      <td>0.000000</td>\n    </tr>\n    <tr>\n      <th>38</th>\n      <td>4c79064941253fbbcc922e263bb47077</td>\n      <td>FTTH_WEB FAMILY PLUS</td>\n      <td>1.0000</td>\n      <td>0.264705</td>\n    </tr>\n    <tr>\n      <th>51</th>\n      <td>9ca8c42ad4b1b525a75834dd40a05c10</td>\n      <td>FTTH_WEB FAMILY PLUS</td>\n      <td>0.7500</td>\n      <td>0.264705</td>\n    </tr>\n  </tbody>\n</table>\n</div>"
          },
          "metadata": {}
        }
      ],
      "execution_count": 14,
      "metadata": {
        "gather": {
          "logged": 1642963786724
        }
      }
    },
    {
      "cell_type": "code",
      "source": [
        "# storing rating DF\n",
        "rating_df.to_csv(\"data/azure/BB_user_ratings.csv\")"
      ],
      "outputs": [],
      "execution_count": 16,
      "metadata": {}
    },
    {
      "cell_type": "markdown",
      "source": [
        "## User content"
      ],
      "metadata": {}
    },
    {
      "cell_type": "code",
      "source": [
        "pd.set_option(\"display.max_rows\", None, \"display.max_columns\", None)"
      ],
      "outputs": [],
      "execution_count": 15,
      "metadata": {}
    },
    {
      "cell_type": "code",
      "source": [
        "user_profile = user_profile[(user_profile[\"BB_Package\"] != \"NO_INFO\")]\n",
        "user_profile.reset_index(drop=True, inplace=True)"
      ],
      "outputs": [],
      "execution_count": 16,
      "metadata": {}
    },
    {
      "cell_type": "code",
      "source": [
        "user_profile.drop([\"BB_Categorical\",\"BB_Scaled\",\"BIRTH_YEAR\",\"Megaline_Month_Subscribed\",\"LTE_Month_Subscribed\",\"VAS_Month_Subscribed\"], axis=1, inplace= True)"
      ],
      "outputs": [],
      "execution_count": 17,
      "metadata": {}
    },
    {
      "cell_type": "code",
      "source": [
        "user_profile.shape"
      ],
      "outputs": [
        {
          "output_type": "execute_result",
          "execution_count": 18,
          "data": {
            "text/plain": "(14836, 114)"
          },
          "metadata": {}
        }
      ],
      "execution_count": 18,
      "metadata": {}
    },
    {
      "cell_type": "markdown",
      "source": [
        "## Feature Selection"
      ],
      "metadata": {}
    },
    {
      "cell_type": "code",
      "source": [
        "# data = user_profile.iloc[:,1:]"
      ],
      "outputs": [],
      "execution_count": 19,
      "metadata": {}
    },
    {
      "cell_type": "code",
      "source": [
        "# mp = []\n",
        "\n",
        "# for col in data.dtypes:\n",
        "#     if col == \"float64\":\n",
        "#         mp.append(False)\n",
        "#     else:\n",
        "#         mp.append(True)\n",
        "        \n",
        "# dm = gower.gower_matrix(data, cat_features = mp)"
      ],
      "outputs": [],
      "execution_count": 20,
      "metadata": {}
    },
    {
      "cell_type": "code",
      "source": [
        "# pc=PCA(n_components=len(mp)) \n",
        "# pc.fit(dm)"
      ],
      "outputs": [],
      "execution_count": null,
      "metadata": {}
    },
    {
      "cell_type": "code",
      "source": [
        "#How mucb variance, captured together\n",
        "# cumsum_arr = pc.explained_variance_ratio_.cumsum() "
      ],
      "outputs": [],
      "execution_count": null,
      "metadata": {}
    },
    {
      "cell_type": "code",
      "source": [
        "# pca_df = pd.DataFrame(data.columns.tolist(),columns=[\"Feature\"])\n",
        "# pca_df[\"Importance\"] = cumsum_arr"
      ],
      "outputs": [],
      "execution_count": null,
      "metadata": {}
    },
    {
      "cell_type": "code",
      "source": [
        "# Storing Feature resuced User Profile content\n",
        "user_profile.to_csv(\"data/azure/BB_user_content.csv\")"
      ],
      "outputs": [],
      "execution_count": 21,
      "metadata": {}
    },
    {
      "cell_type": "markdown",
      "source": [
        "## Product (package) content"
      ],
      "metadata": {}
    },
    {
      "cell_type": "code",
      "source": [
        "product_profile = pd.read_csv(\"data/product_catalog/Product_Profile_Finalised_CSV.csv\")"
      ],
      "outputs": [],
      "execution_count": null,
      "metadata": {}
    },
    {
      "cell_type": "code",
      "source": [
        "product_df=product_profile.iloc[:,[0,2,3,4,6,7,8,9,10,11,12,13,15,36,38,39,40,43,44]]"
      ],
      "outputs": [],
      "execution_count": null,
      "metadata": {}
    },
    {
      "cell_type": "code",
      "source": [
        "temp_package_df=rating_df[\"package\"]"
      ],
      "outputs": [],
      "execution_count": 23,
      "metadata": {}
    },
    {
      "cell_type": "code",
      "source": [
        "bb_products_df = product_df.merge(temp_package_df.drop_duplicates(), left_on=['Product_DB_ID'], right_on=['package'] ,\n",
        "                   how='left', indicator=True)"
      ],
      "outputs": [],
      "execution_count": 24,
      "metadata": {}
    },
    {
      "cell_type": "code",
      "source": [
        "bbp_df = bb_products_df[(bb_products_df[\"_merge\"]==\"both\")]"
      ],
      "outputs": [],
      "execution_count": 25,
      "metadata": {}
    },
    {
      "cell_type": "code",
      "source": [
        "bbp_df.drop([\"package\",\"_merge\"],axis=1,inplace=True)\n",
        "bbp_df.rename(columns={'Product_ID':'package'},inplace=True)\n",
        "bbp_df.reset_index(drop=True, inplace=True)"
      ],
      "outputs": [
        {
          "output_type": "stream",
          "name": "stderr",
          "text": "/Users/chiranhewawitharana/mambaforge/envs/mactf/lib/python3.8/site-packages/pandas/core/frame.py:4906: SettingWithCopyWarning: \nA value is trying to be set on a copy of a slice from a DataFrame\n\nSee the caveats in the documentation: https://pandas.pydata.org/pandas-docs/stable/user_guide/indexing.html#returning-a-view-versus-a-copy\n  return super().drop(\n/Users/chiranhewawitharana/mambaforge/envs/mactf/lib/python3.8/site-packages/pandas/core/frame.py:5039: SettingWithCopyWarning: \nA value is trying to be set on a copy of a slice from a DataFrame\n\nSee the caveats in the documentation: https://pandas.pydata.org/pandas-docs/stable/user_guide/indexing.html#returning-a-view-versus-a-copy\n  return super().rename(\n"
        }
      ],
      "execution_count": 26,
      "metadata": {}
    },
    {
      "cell_type": "code",
      "source": [
        "cols =[\"BB_Data_Standard\",\"BB_Data_Free\",\"BB_Data_Anytime\",\"BB_Data_Unlimited\"]"
      ],
      "outputs": [],
      "execution_count": 27,
      "metadata": {}
    },
    {
      "cell_type": "code",
      "source": [
        "bbp_df[cols] = bbp_df[cols].fillna(0)"
      ],
      "outputs": [
        {
          "output_type": "stream",
          "name": "stderr",
          "text": "/Users/chiranhewawitharana/mambaforge/envs/mactf/lib/python3.8/site-packages/pandas/core/frame.py:3641: SettingWithCopyWarning: \nA value is trying to be set on a copy of a slice from a DataFrame.\nTry using .loc[row_indexer,col_indexer] = value instead\n\nSee the caveats in the documentation: https://pandas.pydata.org/pandas-docs/stable/user_guide/indexing.html#returning-a-view-versus-a-copy\n  self[k1] = value[k2]\n"
        }
      ],
      "execution_count": 28,
      "metadata": {}
    },
    {
      "cell_type": "code",
      "source": [
        "scaler = MinMaxScaler()\n",
        "for col in cols:\n",
        "    bbp_df[col] = scaler.fit_transform(bbp_df[col].values.reshape(-1,1))"
      ],
      "outputs": [
        {
          "output_type": "stream",
          "name": "stderr",
          "text": "/var/folders/00/gmvdw06n48lgtsz126ng5y2m0000gn/T/ipykernel_24001/277134799.py:3: SettingWithCopyWarning: \nA value is trying to be set on a copy of a slice from a DataFrame.\nTry using .loc[row_indexer,col_indexer] = value instead\n\nSee the caveats in the documentation: https://pandas.pydata.org/pandas-docs/stable/user_guide/indexing.html#returning-a-view-versus-a-copy\n  bbp_df[col] = scaler.fit_transform(bbp_df[col].values.reshape(-1,1))\n/var/folders/00/gmvdw06n48lgtsz126ng5y2m0000gn/T/ipykernel_24001/277134799.py:3: SettingWithCopyWarning: \nA value is trying to be set on a copy of a slice from a DataFrame.\nTry using .loc[row_indexer,col_indexer] = value instead\n\nSee the caveats in the documentation: https://pandas.pydata.org/pandas-docs/stable/user_guide/indexing.html#returning-a-view-versus-a-copy\n  bbp_df[col] = scaler.fit_transform(bbp_df[col].values.reshape(-1,1))\n/var/folders/00/gmvdw06n48lgtsz126ng5y2m0000gn/T/ipykernel_24001/277134799.py:3: SettingWithCopyWarning: \nA value is trying to be set on a copy of a slice from a DataFrame.\nTry using .loc[row_indexer,col_indexer] = value instead\n\nSee the caveats in the documentation: https://pandas.pydata.org/pandas-docs/stable/user_guide/indexing.html#returning-a-view-versus-a-copy\n  bbp_df[col] = scaler.fit_transform(bbp_df[col].values.reshape(-1,1))\n/var/folders/00/gmvdw06n48lgtsz126ng5y2m0000gn/T/ipykernel_24001/277134799.py:3: SettingWithCopyWarning: \nA value is trying to be set on a copy of a slice from a DataFrame.\nTry using .loc[row_indexer,col_indexer] = value instead\n\nSee the caveats in the documentation: https://pandas.pydata.org/pandas-docs/stable/user_guide/indexing.html#returning-a-view-versus-a-copy\n  bbp_df[col] = scaler.fit_transform(bbp_df[col].values.reshape(-1,1))\n"
        }
      ],
      "execution_count": 29,
      "metadata": {}
    },
    {
      "cell_type": "code",
      "source": [
        "# Droping due to all null\n",
        "bbp_df.dropna(how=\"all\",axis=0,inplace=True)\n",
        "bbp_df.dropna(how=\"all\",axis=1,inplace=True)"
      ],
      "outputs": [
        {
          "output_type": "stream",
          "name": "stderr",
          "text": "/Users/chiranhewawitharana/mambaforge/envs/mactf/lib/python3.8/site-packages/pandas/util/_decorators.py:311: SettingWithCopyWarning: \nA value is trying to be set on a copy of a slice from a DataFrame\n\nSee the caveats in the documentation: https://pandas.pydata.org/pandas-docs/stable/user_guide/indexing.html#returning-a-view-versus-a-copy\n  return func(*args, **kwargs)\n"
        }
      ],
      "execution_count": 30,
      "metadata": {}
    },
    {
      "cell_type": "code",
      "source": [
        "bbp_df.rename(columns={\"Product_DB_ID\":\"package\"},inplace=True)"
      ],
      "outputs": [
        {
          "output_type": "stream",
          "name": "stderr",
          "text": "/Users/chiranhewawitharana/mambaforge/envs/mactf/lib/python3.8/site-packages/pandas/core/frame.py:5039: SettingWithCopyWarning: \nA value is trying to be set on a copy of a slice from a DataFrame\n\nSee the caveats in the documentation: https://pandas.pydata.org/pandas-docs/stable/user_guide/indexing.html#returning-a-view-versus-a-copy\n  return super().rename(\n"
        }
      ],
      "execution_count": 31,
      "metadata": {}
    },
    {
      "cell_type": "code",
      "source": [
        "bbp_df.head()"
      ],
      "outputs": [
        {
          "output_type": "stream",
          "name": "stdout",
          "text": "<class 'pandas.core.frame.DataFrame'>\nInt64Index: 59 entries, 0 to 58\nData columns (total 16 columns):\n #   Column               Non-Null Count  Dtype  \n---  ------               --------------  -----  \n 0   package              59 non-null     object \n 1   Base_Type            59 non-null     object \n 2   Pricing_Type         59 non-null     object \n 3   Package_Type         59 non-null     object \n 4   Title                59 non-null     object \n 5   BB_Data_Standard     59 non-null     float64\n 6   BB_Data_Free         59 non-null     float64\n 7   BB_Data_Anytime      59 non-null     float64\n 8   BB_Data_Unlimited    59 non-null     float64\n 9   BB_Connection_Type   59 non-null     object \n 10  BB_Connection_Speed  59 non-null     object \n 11  Price                59 non-null     object \n 12  Subscription_Type    59 non-null     object \n 13  Recidence_Type       59 non-null     object \n 14  Tax_Status           59 non-null     object \n 15  Conditions           59 non-null     object \ndtypes: float64(4), object(12)\nmemory usage: 7.8+ KB\n"
        }
      ],
      "execution_count": 32,
      "metadata": {}
    },
    {
      "cell_type": "code",
      "source": [
        "bbp_df.to_csv(\"data/azure/BB_package_content.csv\")"
      ],
      "outputs": [],
      "execution_count": 33,
      "metadata": {}
    },
    {
      "cell_type": "code",
      "source": [],
      "outputs": [],
      "execution_count": null,
      "metadata": {}
    }
  ],
  "metadata": {
    "kernelspec": {
      "name": "python3",
      "language": "python",
      "display_name": "Python 3"
    },
    "language_info": {
      "name": "python",
      "version": "3.6.9",
      "mimetype": "text/x-python",
      "codemirror_mode": {
        "name": "ipython",
        "version": 3
      },
      "pygments_lexer": "ipython3",
      "nbconvert_exporter": "python",
      "file_extension": ".py"
    },
    "kernel_info": {
      "name": "python3"
    },
    "nteract": {
      "version": "nteract-front-end@1.0.0"
    }
  },
  "nbformat": 4,
  "nbformat_minor": 4
}