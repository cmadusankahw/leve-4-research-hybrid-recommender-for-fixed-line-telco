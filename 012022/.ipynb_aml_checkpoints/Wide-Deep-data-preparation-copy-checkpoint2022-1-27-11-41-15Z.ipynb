{
  "cells": [
    {
      "cell_type": "code",
      "source": [
        "# import libraries\n",
        "import numpy as np\n",
        "import pandas as pd\n",
        "import seaborn as sns\n",
        "import matplotlib.pyplot as plt\n",
        "from sklearn.preprocessing import MinMaxScaler\n",
        "from sklearn.decomposition import PCA"
      ],
      "outputs": [],
      "execution_count": 1,
      "metadata": {
        "gather": {
          "logged": 1645961647688
        }
      }
    },
    {
      "cell_type": "code",
      "source": [
        "bb_ratings = pd.read_csv(\"data/up-selling/bb/BB_user_ratings.csv\")\n",
        "peo_ratings = pd.read_csv(\"data/up-selling/peotv/peoTV_user_ratings.csv\")"
      ],
      "outputs": [],
      "execution_count": 3,
      "metadata": {
        "gather": {
          "logged": 1645961732487
        }
      }
    },
    {
      "cell_type": "code",
      "source": [
        "try:\n",
        "    bb_ratings.drop([\"Unnamed: 0\"],axis=1,inplace=True)\n",
        "    peo_ratings.drop([\"Unnamed: 0\"],axis=1,inplace=True)\n",
        "except:\n",
        "    pass"
      ],
      "outputs": [],
      "execution_count": 4,
      "metadata": {
        "jupyter": {
          "source_hidden": false,
          "outputs_hidden": false
        },
        "nteract": {
          "transient": {
            "deleting": false
          }
        },
        "gather": {
          "logged": 1645961751388
        }
      }
    },
    {
      "cell_type": "code",
      "source": [
        "bb_ratings = bb_ratings.drop([\"ratings\"], axis = 1)\n",
        "bb_ratings.rename(columns={\"pca_ratings\":\"ratings\"}, inplace=True)\n",
        "bb_ratings.dropna(subset=[\"ratings\"], inplace=True)"
      ],
      "outputs": [],
      "execution_count": 6,
      "metadata": {
        "jupyter": {
          "source_hidden": false,
          "outputs_hidden": false
        },
        "nteract": {
          "transient": {
            "deleting": false
          }
        },
        "gather": {
          "logged": 1645961827330
        }
      }
    },
    {
      "cell_type": "code",
      "source": [
        "bb_ratings.info()"
      ],
      "outputs": [
        {
          "output_type": "stream",
          "name": "stdout",
          "text": "<class 'pandas.core.frame.DataFrame'>\nRangeIndex: 67030 entries, 0 to 67029\nData columns (total 4 columns):\n #   Column            Non-Null Count  Dtype  \n---  ------            --------------  -----  \n 0   ACCOUNT_NUM.hash  67030 non-null  object \n 1   package           67030 non-null  object \n 2   ratings           67030 non-null  float64\n 3   pca_ratings       25724 non-null  float64\ndtypes: float64(2), object(2)\nmemory usage: 2.0+ MB\n"
        }
      ],
      "execution_count": 5,
      "metadata": {
        "jupyter": {
          "source_hidden": false,
          "outputs_hidden": false
        },
        "nteract": {
          "transient": {
            "deleting": false
          }
        },
        "gather": {
          "logged": 1645961776566
        }
      }
    },
    {
      "cell_type": "code",
      "source": [
        "peo_ratings = peo_ratings.drop([\"ratings\"], axis = 1)\n",
        "peo_ratings.rename(columns={\"pca_ratings\":\"ratings\"}, inplace=True)\n",
        "peo_ratings.dropna(subset=[\"ratings\"], inplace=True)"
      ],
      "outputs": [],
      "execution_count": null,
      "metadata": {
        "jupyter": {
          "source_hidden": false,
          "outputs_hidden": false
        },
        "nteract": {
          "transient": {
            "deleting": false
          }
        }
      }
    },
    {
      "cell_type": "code",
      "source": [
        "peo_ratings.info()"
      ],
      "outputs": [],
      "execution_count": null,
      "metadata": {
        "jupyter": {
          "source_hidden": false,
          "outputs_hidden": false
        },
        "nteract": {
          "transient": {
            "deleting": false
          }
        }
      }
    },
    {
      "cell_type": "code",
      "source": [
        "bb_ratings.to_csv(\"data/up-selling/bb/azure/BB_user_ratings.csv\")\n",
        "peo_ratings.to_csv(\"data/up-selling/peotv/azure/peoTV_user_ratings.csv\")"
      ],
      "outputs": [],
      "execution_count": 33,
      "metadata": {}
    },
    {
      "cell_type": "code",
      "source": [],
      "outputs": [],
      "execution_count": null,
      "metadata": {}
    }
  ],
  "metadata": {
    "kernelspec": {
      "name": "python3",
      "language": "python",
      "display_name": "Python 3"
    },
    "language_info": {
      "name": "python",
      "version": "3.6.9",
      "mimetype": "text/x-python",
      "codemirror_mode": {
        "name": "ipython",
        "version": 3
      },
      "pygments_lexer": "ipython3",
      "nbconvert_exporter": "python",
      "file_extension": ".py"
    },
    "kernel_info": {
      "name": "python3"
    },
    "nteract": {
      "version": "nteract-front-end@1.0.0"
    }
  },
  "nbformat": 4,
  "nbformat_minor": 4
}