{
  "cells": [
    {
      "cell_type": "code",
      "source": [
        "from __future__ import division\n",
        "import numpy as np\n",
        "import pandas as pd\n",
        "import seaborn as sns\n",
        "import sklearn\n",
        "import matplotlib.pyplot as plt\n",
        "from sklearn.preprocessing import MinMaxScaler\n",
        "from sklearn.decomposition import PCA\n",
        "from ast import literal_eval\n",
        "from surprise import *\n",
        "from surprise import accuracy\n",
        "from surprise.model_selection import GridSearchCV\n",
        "from surprise.model_selection import cross_validate\n",
        "from surprise.model_selection import train_test_split\n",
        "from collections import defaultdict"
      ],
      "outputs": [],
      "execution_count": 1,
      "metadata": {
        "gather": {
          "logged": 1645976227870
        }
      },
      "id": "49f0d72f"
    },
    {
      "cell_type": "code",
      "source": [
        "user_profile = pd.read_csv(\"data/User_Profile_Null_Handled.csv\")"
      ],
      "outputs": [],
      "execution_count": 2,
      "metadata": {
        "gather": {
          "logged": 1645976230242
        }
      },
      "id": "568c9bc0"
    },
    {
      "cell_type": "code",
      "source": [
        "user_profile[\"Sub_Update_Status\"].value_counts()"
      ],
      "outputs": [
        {
          "output_type": "execute_result",
          "execution_count": 3,
          "data": {
            "text/plain": "NO_INFO                30250\nPromotion Upgrade       7369\nPromotion Downgrade     4975\nName: Sub_Update_Status, dtype: int64"
          },
          "metadata": {}
        }
      ],
      "execution_count": 3,
      "metadata": {
        "gather": {
          "logged": 1645976230424
        }
      },
      "id": "e945591d"
    },
    {
      "cell_type": "code",
      "source": [
        "data=user_profile.iloc[:,[1,3,11,14,18,23,25,43,48,53,59,61,34]]\n",
        "#data.rename(columns={\"Sub_Type\":\"label\"},inplace=True)\n",
        "data = pd.get_dummies(data, prefix=['Sub_Update'], columns=['Sub_Update_Status'])\n",
        "# data.drop('Sub_Update_Status', axis=1)\n",
        "\n",
        "# Label encode class\n",
        "# le = LabelEncoder()\n",
        "# data['label'] = le.fit_transform(data.Sub_Type.values)\n",
        "data = data.drop(['Sub_Update_NO_INFO'], axis=1)"
      ],
      "outputs": [],
      "execution_count": 4,
      "metadata": {
        "jupyter": {
          "source_hidden": false,
          "outputs_hidden": false
        },
        "nteract": {
          "transient": {
            "deleting": false
          }
        },
        "gather": {
          "logged": 1645976230580
        }
      },
      "id": "e03ba629-704a-4136-9474-665f2db80461"
    },
    {
      "cell_type": "code",
      "source": [
        "data.fillna(0,inplace=True)\n",
        "data_dim=data.iloc[:,[1,2,3,4,5,6,7,8,9,10,12,13]]"
      ],
      "outputs": [],
      "execution_count": 5,
      "metadata": {
        "gather": {
          "logged": 1645976230661
        }
      },
      "id": "dc54e4f9"
    },
    {
      "cell_type": "markdown",
      "source": [
        "## PCA Based rating calculation"
      ],
      "metadata": {
        "nteract": {
          "transient": {
            "deleting": false
          }
        }
      },
      "id": "dc6428df-deeb-4aaf-95ba-7f1b91531f94"
    },
    {
      "cell_type": "code",
      "source": [
        "pc=PCA(n_components=12) \n",
        "pc.fit(data_dim)"
      ],
      "outputs": [
        {
          "output_type": "execute_result",
          "execution_count": 6,
          "data": {
            "text/plain": "PCA(n_components=12)"
          },
          "metadata": {}
        }
      ],
      "execution_count": 6,
      "metadata": {
        "gather": {
          "logged": 1645976230793
        }
      },
      "id": "833145fd"
    },
    {
      "cell_type": "code",
      "source": [
        "#How mucb variance, captured together\n",
        "pc.explained_variance_ratio_.cumsum()"
      ],
      "outputs": [
        {
          "output_type": "execute_result",
          "execution_count": 7,
          "data": {
            "text/plain": "array([0.31595666, 0.56946394, 0.72630511, 0.86585636, 0.93064071,\n       0.96783583, 0.98094293, 0.98846729, 0.99519398, 0.99953125,\n       0.99995611, 1.        ])"
          },
          "metadata": {}
        }
      ],
      "execution_count": 7,
      "metadata": {
        "gather": {
          "logged": 1645976230912
        }
      },
      "id": "da9a443d"
    },
    {
      "cell_type": "code",
      "source": [
        "### Run PCA on the data and reduce the dimensions in pca_num_components dimensions\n",
        "pca = PCA(n_components=1)\n",
        "pca.fit(data_dim)\n",
        "reduced_data = pca.fit_transform(data_dim)\n",
        "results_df = pd.DataFrame(reduced_data,columns=['ratings'])"
      ],
      "outputs": [],
      "execution_count": 8,
      "metadata": {
        "gather": {
          "logged": 1645976230993
        }
      },
      "id": "ca5efa32"
    },
    {
      "cell_type": "code",
      "source": [
        "# applying min-max-scaler to reduced features\n",
        "scaler = MinMaxScaler()\n",
        "results_df[['ratings']] = scaler.fit_transform(results_df[['ratings']])"
      ],
      "outputs": [],
      "execution_count": 9,
      "metadata": {
        "gather": {
          "logged": 1645976231109
        }
      },
      "id": "0a164a4f"
    },
    {
      "cell_type": "code",
      "source": [
        "data=pd.concat([data,results_df],axis=1)"
      ],
      "outputs": [],
      "execution_count": 10,
      "metadata": {
        "gather": {
          "logged": 1645976231215
        }
      },
      "id": "84ff07af"
    },
    {
      "cell_type": "code",
      "source": [
        "data.rename(columns={\"Sub_Type\":\"package\"}, inplace=True)\n",
        "data = data[[\"ACCOUNT_NUM.hash\",\"package\",\"ratings\"]]\n",
        "data"
      ],
      "outputs": [
        {
          "output_type": "execute_result",
          "execution_count": 11,
          "data": {
            "text/plain": "                       ACCOUNT_NUM.hash         package   ratings\n0      9efd917f18bb5c966953b4227ddbaf43     TRIPLE_PLAY  0.403696\n1      2240d11b0d9ee8f6d9e8972c6190aa42     SINGLE_PLAY  0.251039\n2      cff00495fd556a417e2838e27465d749  DOUBLE_PLAY_BV  0.374582\n3      d00dacd8fc98c1726d6a4e9f28f8e579     TRIPLE_PLAY  0.301764\n4      a3ee54787617510a616dfcb52c28941b     TRIPLE_PLAY  0.384823\n...                                 ...             ...       ...\n42589  7052930957f02ad914dbd24fdcd04fed  DOUBLE_PLAY_BV  0.399498\n42590  c217fb1b44642e79e56af9111e9c00b2     TRIPLE_PLAY  0.879634\n42591  5e94646aa83bb9d7fab98620405517cb  DOUBLE_PLAY_BV  0.247882\n42592  6801a82b67b7fb942242b7aca5ba022c  DOUBLE_PLAY_BV  0.441890\n42593  92da7428aa4a85439d5cb1adc7eb7fba     TRIPLE_PLAY  0.418573\n\n[42594 rows x 3 columns]",
            "text/html": "<div>\n<style scoped>\n    .dataframe tbody tr th:only-of-type {\n        vertical-align: middle;\n    }\n\n    .dataframe tbody tr th {\n        vertical-align: top;\n    }\n\n    .dataframe thead th {\n        text-align: right;\n    }\n</style>\n<table border=\"1\" class=\"dataframe\">\n  <thead>\n    <tr style=\"text-align: right;\">\n      <th></th>\n      <th>ACCOUNT_NUM.hash</th>\n      <th>package</th>\n      <th>ratings</th>\n    </tr>\n  </thead>\n  <tbody>\n    <tr>\n      <th>0</th>\n      <td>9efd917f18bb5c966953b4227ddbaf43</td>\n      <td>TRIPLE_PLAY</td>\n      <td>0.403696</td>\n    </tr>\n    <tr>\n      <th>1</th>\n      <td>2240d11b0d9ee8f6d9e8972c6190aa42</td>\n      <td>SINGLE_PLAY</td>\n      <td>0.251039</td>\n    </tr>\n    <tr>\n      <th>2</th>\n      <td>cff00495fd556a417e2838e27465d749</td>\n      <td>DOUBLE_PLAY_BV</td>\n      <td>0.374582</td>\n    </tr>\n    <tr>\n      <th>3</th>\n      <td>d00dacd8fc98c1726d6a4e9f28f8e579</td>\n      <td>TRIPLE_PLAY</td>\n      <td>0.301764</td>\n    </tr>\n    <tr>\n      <th>4</th>\n      <td>a3ee54787617510a616dfcb52c28941b</td>\n      <td>TRIPLE_PLAY</td>\n      <td>0.384823</td>\n    </tr>\n    <tr>\n      <th>...</th>\n      <td>...</td>\n      <td>...</td>\n      <td>...</td>\n    </tr>\n    <tr>\n      <th>42589</th>\n      <td>7052930957f02ad914dbd24fdcd04fed</td>\n      <td>DOUBLE_PLAY_BV</td>\n      <td>0.399498</td>\n    </tr>\n    <tr>\n      <th>42590</th>\n      <td>c217fb1b44642e79e56af9111e9c00b2</td>\n      <td>TRIPLE_PLAY</td>\n      <td>0.879634</td>\n    </tr>\n    <tr>\n      <th>42591</th>\n      <td>5e94646aa83bb9d7fab98620405517cb</td>\n      <td>DOUBLE_PLAY_BV</td>\n      <td>0.247882</td>\n    </tr>\n    <tr>\n      <th>42592</th>\n      <td>6801a82b67b7fb942242b7aca5ba022c</td>\n      <td>DOUBLE_PLAY_BV</td>\n      <td>0.441890</td>\n    </tr>\n    <tr>\n      <th>42593</th>\n      <td>92da7428aa4a85439d5cb1adc7eb7fba</td>\n      <td>TRIPLE_PLAY</td>\n      <td>0.418573</td>\n    </tr>\n  </tbody>\n</table>\n<p>42594 rows × 3 columns</p>\n</div>"
          },
          "metadata": {}
        }
      ],
      "execution_count": 11,
      "metadata": {
        "gather": {
          "logged": 1645976231364
        }
      },
      "id": "ae0ef591"
    },
    {
      "cell_type": "markdown",
      "source": [
        "## Interaction Matrix"
      ],
      "metadata": {},
      "id": "6ef318c1"
    },
    {
      "cell_type": "code",
      "source": [
        "# create a histogram of all the interactions by all the users present in the dataset\n",
        "def create_interaction_matrix(data):\n",
        "    interactions = data.groupby('ACCOUNT_NUM.hash').count()['package']\n",
        "    plt.hist(interactions,bins=20)\n",
        "    plt.show()\n",
        "\n",
        "    # create the user item matrix using the ratings dataset - Hint: try using pivot function \n",
        "    interactions_metrix = data.pivot_table(index=\"ACCOUNT_NUM.hash\", columns=\"package\", values=\"ratings\",aggfunc=np.sum)\n",
        "    # replace all the missing values with zero\n",
        "    return interactions_metrix.fillna(0)"
      ],
      "outputs": [],
      "execution_count": 12,
      "metadata": {
        "gather": {
          "logged": 1645976231512
        }
      },
      "id": "038dae8f"
    },
    {
      "cell_type": "code",
      "source": [
        "create_interaction_matrix(data)"
      ],
      "outputs": [
        {
          "output_type": "display_data",
          "data": {
            "text/plain": "<Figure size 432x288 with 1 Axes>",
            "image/png": "[encoded data removed]"
          },
          "metadata": {
            "needs_background": "light"
          }
        },
        {
          "output_type": "execute_result",
          "execution_count": 13,
          "data": {
            "text/plain": "package                            4G  DOUBLE_PLAY_BV  DOUBLE_PLAY_PV  \\\nACCOUNT_NUM.hash                                                        \n0003102d10a11c8f2f0f241f00a36b2d  0.0        0.000000        0.000000   \n0003df7598926f578f53ecd9e424f3c9  0.0        0.330602        0.000000   \n00092b1fd47eb05d000a3553ae072056  0.0        0.000000        0.000000   \n00094326efae1d73371d118204e12e46  0.0        0.000000        0.343136   \n000ae59b7eb91e778f22e3f07495f4f9  0.0        0.416101        0.000000   \n...                               ...             ...             ...   \nfff9148b195a844454cf5b07c2fccbcb  0.0        0.000000        0.090593   \nfffaeeddaabbd2868c183d8884b2a98d  0.0        0.000000        0.000000   \nfffd0b8541e9f62496092d2ea8609135  0.0        0.000000        0.000000   \nffff7fc0c266ac5b34f91de1ba4f3039  0.0        0.000000        0.000000   \nffffe6d0d44f76428f676bd36e83df76  0.0        0.000000        0.000000   \n\npackage                           SINGLE_PLAY  TRIPLE_PLAY  \nACCOUNT_NUM.hash                                            \n0003102d10a11c8f2f0f241f00a36b2d     0.000000     0.713319  \n0003df7598926f578f53ecd9e424f3c9     0.000000     0.000000  \n00092b1fd47eb05d000a3553ae072056     0.000000     0.413539  \n00094326efae1d73371d118204e12e46     0.000000     0.000000  \n000ae59b7eb91e778f22e3f07495f4f9     0.000000     0.000000  \n...                                       ...          ...  \nfff9148b195a844454cf5b07c2fccbcb     0.000000     0.000000  \nfffaeeddaabbd2868c183d8884b2a98d     0.000000     0.449490  \nfffd0b8541e9f62496092d2ea8609135     0.000000     0.514746  \nffff7fc0c266ac5b34f91de1ba4f3039     0.000000     0.377707  \nffffe6d0d44f76428f676bd36e83df76     0.243251     0.000000  \n\n[42594 rows x 5 columns]",
            "text/html": "<div>\n<style scoped>\n    .dataframe tbody tr th:only-of-type {\n        vertical-align: middle;\n    }\n\n    .dataframe tbody tr th {\n        vertical-align: top;\n    }\n\n    .dataframe thead th {\n        text-align: right;\n    }\n</style>\n<table border=\"1\" class=\"dataframe\">\n  <thead>\n    <tr style=\"text-align: right;\">\n      <th>package</th>\n      <th>4G</th>\n      <th>DOUBLE_PLAY_BV</th>\n      <th>DOUBLE_PLAY_PV</th>\n      <th>SINGLE_PLAY</th>\n      <th>TRIPLE_PLAY</th>\n    </tr>\n    <tr>\n      <th>ACCOUNT_NUM.hash</th>\n      <th></th>\n      <th></th>\n      <th></th>\n      <th></th>\n      <th></th>\n    </tr>\n  </thead>\n  <tbody>\n    <tr>\n      <th>0003102d10a11c8f2f0f241f00a36b2d</th>\n      <td>0.0</td>\n      <td>0.000000</td>\n      <td>0.000000</td>\n      <td>0.000000</td>\n      <td>0.713319</td>\n    </tr>\n    <tr>\n      <th>0003df7598926f578f53ecd9e424f3c9</th>\n      <td>0.0</td>\n      <td>0.330602</td>\n      <td>0.000000</td>\n      <td>0.000000</td>\n      <td>0.000000</td>\n    </tr>\n    <tr>\n      <th>00092b1fd47eb05d000a3553ae072056</th>\n      <td>0.0</td>\n      <td>0.000000</td>\n      <td>0.000000</td>\n      <td>0.000000</td>\n      <td>0.413539</td>\n    </tr>\n    <tr>\n      <th>00094326efae1d73371d118204e12e46</th>\n      <td>0.0</td>\n      <td>0.000000</td>\n      <td>0.343136</td>\n      <td>0.000000</td>\n      <td>0.000000</td>\n    </tr>\n    <tr>\n      <th>000ae59b7eb91e778f22e3f07495f4f9</th>\n      <td>0.0</td>\n      <td>0.416101</td>\n      <td>0.000000</td>\n      <td>0.000000</td>\n      <td>0.000000</td>\n    </tr>\n    <tr>\n      <th>...</th>\n      <td>...</td>\n      <td>...</td>\n      <td>...</td>\n      <td>...</td>\n      <td>...</td>\n    </tr>\n    <tr>\n      <th>fff9148b195a844454cf5b07c2fccbcb</th>\n      <td>0.0</td>\n      <td>0.000000</td>\n      <td>0.090593</td>\n      <td>0.000000</td>\n      <td>0.000000</td>\n    </tr>\n    <tr>\n      <th>fffaeeddaabbd2868c183d8884b2a98d</th>\n      <td>0.0</td>\n      <td>0.000000</td>\n      <td>0.000000</td>\n      <td>0.000000</td>\n      <td>0.449490</td>\n    </tr>\n    <tr>\n      <th>fffd0b8541e9f62496092d2ea8609135</th>\n      <td>0.0</td>\n      <td>0.000000</td>\n      <td>0.000000</td>\n      <td>0.000000</td>\n      <td>0.514746</td>\n    </tr>\n    <tr>\n      <th>ffff7fc0c266ac5b34f91de1ba4f3039</th>\n      <td>0.0</td>\n      <td>0.000000</td>\n      <td>0.000000</td>\n      <td>0.000000</td>\n      <td>0.377707</td>\n    </tr>\n    <tr>\n      <th>ffffe6d0d44f76428f676bd36e83df76</th>\n      <td>0.0</td>\n      <td>0.000000</td>\n      <td>0.000000</td>\n      <td>0.243251</td>\n      <td>0.000000</td>\n    </tr>\n  </tbody>\n</table>\n<p>42594 rows × 5 columns</p>\n</div>"
          },
          "metadata": {}
        }
      ],
      "execution_count": 13,
      "metadata": {
        "gather": {
          "logged": 1645976231644
        }
      },
      "id": "1b4a8976"
    },
    {
      "cell_type": "code",
      "source": [
        "#X = interactions_metrix.values.T"
      ],
      "outputs": [],
      "execution_count": 14,
      "metadata": {
        "gather": {
          "logged": 1645976231803
        }
      },
      "id": "02e59ddf"
    },
    {
      "cell_type": "markdown",
      "source": [
        "## Function definition"
      ],
      "metadata": {
        "nteract": {
          "transient": {
            "deleting": false
          }
        }
      },
      "id": "3bc85b4d-ef7c-4cdc-bfe0-5851a915b972"
    },
    {
      "cell_type": "code",
      "source": [
        "def train_test_splitter(data):\n",
        "    reader = Reader(rating_scale=(0, 1))\n",
        "    data_model = Dataset.load_from_df(data, reader)\n",
        "    return data_model,train_test_split(data_model, test_size=.20)"
      ],
      "outputs": [],
      "execution_count": 15,
      "metadata": {
        "jupyter": {
          "source_hidden": false,
          "outputs_hidden": false
        },
        "nteract": {
          "transient": {
            "deleting": false
          }
        },
        "gather": {
          "logged": 1645976231921
        }
      },
      "id": "43675b36-7d62-4666-933d-1a2ba990d544"
    },
    {
      "cell_type": "code",
      "source": [
        "def get_Iu(uid):\n",
        "    \"\"\"Return the number of items rated by given user\n",
        "    \n",
        "    Args:\n",
        "        uid: The raw id of the user.\n",
        "    Returns:\n",
        "        The number of items rated by the user.\n",
        "    \"\"\"\n",
        "    \n",
        "    try:\n",
        "        return len(trainset.ur[trainset.to_inner_uid(uid)])\n",
        "    except ValueError:  # user was not part of the trainset\n",
        "        return 0\n",
        "    \n",
        "def get_Ui(iid):\n",
        "    \"\"\"Return the number of users that have rated given item\n",
        "    \n",
        "    Args:\n",
        "        iid: The raw id of the item.\n",
        "    Returns:\n",
        "        The number of users that have rated the item.\n",
        "    \"\"\"\n",
        "    \n",
        "    try:\n",
        "        return len(trainset.ir[trainset.to_inner_iid(iid)])\n",
        "    except ValueError:  # item was not part of the trainset\n",
        "        return 0"
      ],
      "outputs": [],
      "execution_count": 16,
      "metadata": {
        "gather": {
          "logged": 1645976232110
        }
      },
      "id": "f0f45728"
    },
    {
      "cell_type": "code",
      "source": [
        "def get_top_n(predictions, n=10):\n",
        "    \n",
        "    # First map the predictions to each user.\n",
        "    top_n = defaultdict(list)\n",
        "    for uid, iid, true_r, est, _ in predictions:\n",
        "        top_n[uid].append((iid, est, true_r))\n",
        "\n",
        "    for uid, user_ratings in top_n.items():\n",
        "        user_ratings.sort(key=lambda x: x[1], reverse=True)\n",
        "        top_n[uid] = user_ratings[:5]\n",
        "        \n",
        "\n",
        "    return top_n"
      ],
      "outputs": [],
      "execution_count": 17,
      "metadata": {
        "jupyter": {
          "source_hidden": false,
          "outputs_hidden": false
        },
        "nteract": {
          "transient": {
            "deleting": false
          }
        },
        "gather": {
          "logged": 1645976232237
        }
      },
      "id": "1b0a6ab6-536b-4aae-99b2-6a43f80cb8da"
    },
    {
      "cell_type": "code",
      "source": [
        "# calculate NDCG\n",
        "def ndcg(y_true, y_pred, k=None, powered=False):\n",
        "    def dcg(scores, k=None, powered=False):\n",
        "        if k is None:\n",
        "            k = scores.shape[0]\n",
        "        if not powered:\n",
        "            ret = scores[0]\n",
        "            for i in range(1, k):\n",
        "                ret += scores[i] / np.log2(i + 1)\n",
        "            return ret\n",
        "        else:\n",
        "            ret = 0\n",
        "            for i in range(k):\n",
        "                ret += (2 ** scores[i] - 1) / np.log2(i + 2)\n",
        "            return ret\n",
        "    \n",
        "    ideal_sorted_scores = np.sort(y_true)[::-1]\n",
        "    ideal_dcg_score = dcg(ideal_sorted_scores, k=k, powered=powered)\n",
        "    \n",
        "    pred_sorted_ind = np.argsort(y_pred)[::-1]\n",
        "    pred_sorted_scores = y_true[pred_sorted_ind]\n",
        "    dcg_score = dcg(pred_sorted_scores, k=k, powered=powered)\n",
        "    \n",
        "    return dcg_score / ideal_dcg_score\n",
        "\n",
        "def ndcg1(y_true, y_pred, k=None):\n",
        "    return ndcg(y_true, y_pred, k=k, powered=False)\n",
        "\n",
        "def ndcg2(y_true, y_pred, k=None):\n",
        "    return ndcg(y_true, y_pred, k=k, powered=True)"
      ],
      "outputs": [],
      "execution_count": 18,
      "metadata": {
        "jupyter": {
          "source_hidden": false,
          "outputs_hidden": false
        },
        "nteract": {
          "transient": {
            "deleting": false
          }
        },
        "gather": {
          "logged": 1645976232312
        }
      },
      "id": "e4af93f4-c09b-4e96-adf4-83beb557a578"
    },
    {
      "cell_type": "code",
      "source": [
        "def top_n_pred(predictions):\n",
        "    top_n = get_top_n(predictions, n=3)\n",
        "    #print(top_n)\n",
        "    users_est = defaultdict(list)\n",
        "    users_true=defaultdict(list)\n",
        "    rec_for_user=defaultdict(list)\n",
        "    for uid, user_ratings in top_n.items():\n",
        "        users_est[uid].append([est for (_, est,_) in user_ratings])\n",
        "        users_true[uid].append([true_r for (_,_,true_r) in user_ratings])\n",
        "        rec_for_user[uid].append([iid for (iid,_,_) in user_ratings])\n",
        "    return top_n, users_est, users_true, rec_for_user"
      ],
      "outputs": [],
      "execution_count": 19,
      "metadata": {
        "jupyter": {
          "source_hidden": false,
          "outputs_hidden": false
        },
        "nteract": {
          "transient": {
            "deleting": false
          }
        },
        "gather": {
          "logged": 1645976232415
        }
      },
      "id": "9d1f7d37-cbb6-4796-8aa9-4c4b2e36eee1"
    },
    {
      "cell_type": "code",
      "source": [
        "def calc_ndcg(users_true,users_est):\n",
        "    ndcg_list=[]\n",
        "    for uid in top_n:\n",
        "        \n",
        "        for i in users_true[uid]:\n",
        "            y_true=np.asarray(i)#.reshape(-1,1)\n",
        "        for i in users_est[uid]:\n",
        "            y_pred=np.asarray(i)#.reshape(-1,1)\n",
        "        \n",
        "            ndcg_list.append(ndcg1(y_true, y_pred, k=None))\n",
        "\n",
        "    ndcg_list = [i for i in ndcg_list if str(i) != 'nan']\n",
        "    ndgc_rate = np.mean(ndcg_list)\n",
        "    return ndcg_list, ndgc_rate"
      ],
      "outputs": [],
      "execution_count": 20,
      "metadata": {
        "jupyter": {
          "source_hidden": false,
          "outputs_hidden": false
        },
        "nteract": {
          "transient": {
            "deleting": false
          }
        },
        "gather": {
          "logged": 1645976232518
        }
      },
      "id": "7ef29738-ef11-462b-89b2-dabcd72c4845"
    },
    {
      "cell_type": "markdown",
      "source": [
        "## Collobarative Recommenders"
      ],
      "metadata": {
        "nteract": {
          "transient": {
            "deleting": false
          }
        }
      },
      "id": "e610e900-61a6-4c78-a54f-0d27c3a168c1"
    },
    {
      "cell_type": "code",
      "source": [
        "data.info()"
      ],
      "outputs": [
        {
          "output_type": "stream",
          "name": "stdout",
          "text": "<class 'pandas.core.frame.DataFrame'>\nRangeIndex: 42594 entries, 0 to 42593\nData columns (total 3 columns):\n #   Column            Non-Null Count  Dtype  \n---  ------            --------------  -----  \n 0   ACCOUNT_NUM.hash  42594 non-null  object \n 1   package           42594 non-null  object \n 2   ratings           42594 non-null  float64\ndtypes: float64(1), object(2)\nmemory usage: 998.4+ KB\n"
        }
      ],
      "execution_count": 21,
      "metadata": {
        "jupyter": {
          "source_hidden": false,
          "outputs_hidden": false
        },
        "nteract": {
          "transient": {
            "deleting": false
          }
        },
        "gather": {
          "logged": 1645976232595
        }
      },
      "id": "9e793712-6d37-4554-8c38-1b875cbe8579"
    },
    {
      "cell_type": "code",
      "source": [
        "data = data[data[\"ratings\"] > 0]"
      ],
      "outputs": [],
      "execution_count": 22,
      "metadata": {
        "jupyter": {
          "source_hidden": false,
          "outputs_hidden": false
        },
        "nteract": {
          "transient": {
            "deleting": false
          }
        },
        "gather": {
          "logged": 1645976232691
        }
      },
      "id": "16267474-479f-46d9-ab04-95f9315e6962"
    },
    {
      "cell_type": "code",
      "source": [
        "data_model, (trainset, testset) = train_test_splitter(data)"
      ],
      "outputs": [],
      "execution_count": 23,
      "metadata": {
        "jupyter": {
          "source_hidden": false,
          "outputs_hidden": false
        },
        "nteract": {
          "transient": {
            "deleting": false
          }
        },
        "gather": {
          "logged": 1645976232791
        }
      },
      "id": "6674fd94-2f06-4d61-bedd-f294e99db4b7"
    },
    {
      "cell_type": "markdown",
      "source": [
        "## SVD Model"
      ],
      "metadata": {},
      "id": "8160b90c"
    },
    {
      "cell_type": "code",
      "source": [
        "# We'll use the famous SVD algorithm.\n",
        "algo = SVD()\n",
        "\n",
        "# Run 5-fold cross-validation and print results\n",
        "svd_validate = cross_validate(algo, data_model, measures=['RMSE', 'MAE'], cv=5, verbose=True)"
      ],
      "outputs": [
        {
          "output_type": "stream",
          "name": "stdout",
          "text": "Evaluating RMSE, MAE of algorithm SVD on 5 split(s).\n\n                  Fold 1  Fold 2  Fold 3  Fold 4  Fold 5  Mean    Std     \nRMSE (testset)    0.1767  0.1774  0.1752  0.1782  0.1770  0.1769  0.0010  \nMAE (testset)     0.1426  0.1432  0.1408  0.1434  0.1409  0.1422  0.0011  \nFit time          2.05    2.02    2.12    2.06    2.09    2.07    0.04    \nTest time         0.05    0.05    0.06    0.05    0.06    0.06    0.01    \n"
        }
      ],
      "execution_count": 24,
      "metadata": {
        "gather": {
          "logged": 1645976242580
        }
      },
      "id": "3f2a3925"
    },
    {
      "cell_type": "code",
      "source": [
        "# Train the algorithm on the trainset, and predict ratings for the testset\n",
        "algo.fit(trainset)\n",
        "predictions = algo.test(testset)"
      ],
      "outputs": [],
      "execution_count": 25,
      "metadata": {
        "gather": {
          "logged": 1645976245299
        }
      },
      "id": "8faa68d8"
    },
    {
      "cell_type": "code",
      "source": [
        "top_n, users_est, users_true, rec_for_user = top_n_pred(predictions)"
      ],
      "outputs": [],
      "execution_count": 26,
      "metadata": {
        "gather": {
          "logged": 1645976245474
        }
      },
      "id": "23d9ee07"
    },
    {
      "cell_type": "code",
      "source": [
        "ndcg_list, ndgc_rate = calc_ndcg(users_true,users_est)\n",
        "print(\"NDCG\", ndgc_rate)"
      ],
      "outputs": [
        {
          "output_type": "stream",
          "name": "stdout",
          "text": "NDCG 1.0\n"
        }
      ],
      "execution_count": 27,
      "metadata": {
        "jupyter": {
          "source_hidden": false,
          "outputs_hidden": false
        },
        "nteract": {
          "transient": {
            "deleting": false
          }
        },
        "gather": {
          "logged": 1645976245563
        }
      },
      "id": "e890aa82-79dd-4dda-b3e6-3cf6ec24640c"
    },
    {
      "cell_type": "code",
      "source": [
        "# Let's build a pandas dataframe with all the predictions\n",
        "df = pd.DataFrame(predictions, columns=['uid', 'iid', 'rui', 'est', 'details'])    \n",
        "df['Iu'] = df.uid.apply(get_Iu)\n",
        "df['Ui'] = df.iid.apply(get_Ui)\n",
        "df['err'] = abs(df.est - df.rui)"
      ],
      "outputs": [],
      "execution_count": 28,
      "metadata": {
        "gather": {
          "logged": 1645976245685
        }
      },
      "id": "81c2b345"
    },
    {
      "cell_type": "code",
      "source": [
        "# 10 Best predictions\n",
        "best_predictions = df.sort_values(by='err')[:10]\n",
        "best_predictions"
      ],
      "outputs": [
        {
          "output_type": "execute_result",
          "execution_count": 29,
          "data": {
            "text/plain": "                                   uid             iid       rui       est  \\\n3143  601265c55c79b438299e78d2b249ce47  DOUBLE_PLAY_BV  0.388448  0.388401   \n8394  62480e19f5f67a3c2cd8388d5aedcddd     TRIPLE_PLAY  0.509579  0.509665   \n2919  6c70836c0b7431b52ae00e6526882001  DOUBLE_PLAY_BV  0.388246  0.388401   \n2497  c6d480b517ae3363e821eb3cc3fe4889     TRIPLE_PLAY  0.509492  0.509665   \n5383  ea29d94d1c7b0f4e979781df6c8d2af0     TRIPLE_PLAY  0.509911  0.509665   \n2471  51a7f429aad3da901161557ea4b2869d  DOUBLE_PLAY_BV  0.388704  0.388401   \n1709  7419d5fc1cd2b4c51bc6a05e81cc046d     TRIPLE_PLAY  0.509246  0.509665   \n7542  338d9b653b2a250734dee91fa3d4db01     TRIPLE_PLAY  0.510140  0.509665   \n8420  d6f29fad243bf130d8a9e81fe8fc91ef  DOUBLE_PLAY_BV  0.388892  0.388401   \n5348  ad0892ef6e34bf6c9015becd55e99400     TRIPLE_PLAY  0.509157  0.509665   \n\n                        details  Iu     Ui       err  \n3143  {'was_impossible': False}   0  12579  0.000047  \n8394  {'was_impossible': False}   0  12712  0.000086  \n2919  {'was_impossible': False}   0  12579  0.000154  \n2497  {'was_impossible': False}   0  12712  0.000173  \n5383  {'was_impossible': False}   0  12712  0.000246  \n2471  {'was_impossible': False}   0  12579  0.000304  \n1709  {'was_impossible': False}   0  12712  0.000419  \n7542  {'was_impossible': False}   0  12712  0.000475  \n8420  {'was_impossible': False}   0  12579  0.000491  \n5348  {'was_impossible': False}   0  12712  0.000508  ",
            "text/html": "<div>\n<style scoped>\n    .dataframe tbody tr th:only-of-type {\n        vertical-align: middle;\n    }\n\n    .dataframe tbody tr th {\n        vertical-align: top;\n    }\n\n    .dataframe thead th {\n        text-align: right;\n    }\n</style>\n<table border=\"1\" class=\"dataframe\">\n  <thead>\n    <tr style=\"text-align: right;\">\n      <th></th>\n      <th>uid</th>\n      <th>iid</th>\n      <th>rui</th>\n      <th>est</th>\n      <th>details</th>\n      <th>Iu</th>\n      <th>Ui</th>\n      <th>err</th>\n    </tr>\n  </thead>\n  <tbody>\n    <tr>\n      <th>3143</th>\n      <td>601265c55c79b438299e78d2b249ce47</td>\n      <td>DOUBLE_PLAY_BV</td>\n      <td>0.388448</td>\n      <td>0.388401</td>\n      <td>{'was_impossible': False}</td>\n      <td>0</td>\n      <td>12579</td>\n      <td>0.000047</td>\n    </tr>\n    <tr>\n      <th>8394</th>\n      <td>62480e19f5f67a3c2cd8388d5aedcddd</td>\n      <td>TRIPLE_PLAY</td>\n      <td>0.509579</td>\n      <td>0.509665</td>\n      <td>{'was_impossible': False}</td>\n      <td>0</td>\n      <td>12712</td>\n      <td>0.000086</td>\n    </tr>\n    <tr>\n      <th>2919</th>\n      <td>6c70836c0b7431b52ae00e6526882001</td>\n      <td>DOUBLE_PLAY_BV</td>\n      <td>0.388246</td>\n      <td>0.388401</td>\n      <td>{'was_impossible': False}</td>\n      <td>0</td>\n      <td>12579</td>\n      <td>0.000154</td>\n    </tr>\n    <tr>\n      <th>2497</th>\n      <td>c6d480b517ae3363e821eb3cc3fe4889</td>\n      <td>TRIPLE_PLAY</td>\n      <td>0.509492</td>\n      <td>0.509665</td>\n      <td>{'was_impossible': False}</td>\n      <td>0</td>\n      <td>12712</td>\n      <td>0.000173</td>\n    </tr>\n    <tr>\n      <th>5383</th>\n      <td>ea29d94d1c7b0f4e979781df6c8d2af0</td>\n      <td>TRIPLE_PLAY</td>\n      <td>0.509911</td>\n      <td>0.509665</td>\n      <td>{'was_impossible': False}</td>\n      <td>0</td>\n      <td>12712</td>\n      <td>0.000246</td>\n    </tr>\n    <tr>\n      <th>2471</th>\n      <td>51a7f429aad3da901161557ea4b2869d</td>\n      <td>DOUBLE_PLAY_BV</td>\n      <td>0.388704</td>\n      <td>0.388401</td>\n      <td>{'was_impossible': False}</td>\n      <td>0</td>\n      <td>12579</td>\n      <td>0.000304</td>\n    </tr>\n    <tr>\n      <th>1709</th>\n      <td>7419d5fc1cd2b4c51bc6a05e81cc046d</td>\n      <td>TRIPLE_PLAY</td>\n      <td>0.509246</td>\n      <td>0.509665</td>\n      <td>{'was_impossible': False}</td>\n      <td>0</td>\n      <td>12712</td>\n      <td>0.000419</td>\n    </tr>\n    <tr>\n      <th>7542</th>\n      <td>338d9b653b2a250734dee91fa3d4db01</td>\n      <td>TRIPLE_PLAY</td>\n      <td>0.510140</td>\n      <td>0.509665</td>\n      <td>{'was_impossible': False}</td>\n      <td>0</td>\n      <td>12712</td>\n      <td>0.000475</td>\n    </tr>\n    <tr>\n      <th>8420</th>\n      <td>d6f29fad243bf130d8a9e81fe8fc91ef</td>\n      <td>DOUBLE_PLAY_BV</td>\n      <td>0.388892</td>\n      <td>0.388401</td>\n      <td>{'was_impossible': False}</td>\n      <td>0</td>\n      <td>12579</td>\n      <td>0.000491</td>\n    </tr>\n    <tr>\n      <th>5348</th>\n      <td>ad0892ef6e34bf6c9015becd55e99400</td>\n      <td>TRIPLE_PLAY</td>\n      <td>0.509157</td>\n      <td>0.509665</td>\n      <td>{'was_impossible': False}</td>\n      <td>0</td>\n      <td>12712</td>\n      <td>0.000508</td>\n    </tr>\n  </tbody>\n</table>\n</div>"
          },
          "metadata": {}
        }
      ],
      "execution_count": 29,
      "metadata": {
        "gather": {
          "logged": 1645976245854
        }
      },
      "id": "a1b888b2"
    },
    {
      "cell_type": "code",
      "source": [
        "rmse = accuracy.rmse(predictions)\n",
        "print(\"SVD RMSE -->\",rmse)\n",
        "print(\"SVD Accuracy -->\",1-rmse)"
      ],
      "outputs": [
        {
          "output_type": "stream",
          "name": "stdout",
          "text": "RMSE: 0.1750\nSVD RMSE --> 0.17500231998687893\nSVD Accuracy --> 0.8249976800131211\n"
        }
      ],
      "execution_count": 30,
      "metadata": {
        "gather": {
          "logged": 1645976246005
        }
      },
      "id": "f8cea6af"
    },
    {
      "cell_type": "code",
      "source": [
        "data_triplet = data.merge(df[[\"uid\",\"iid\",\"err\"]], left_on=\"ACCOUNT_NUM.hash\", right_on =\"uid\", how=\"left\")\n",
        "data_triplet.dropna(subset=[\"uid\"],inplace=True)\n",
        "data_triplet.drop(\"uid\", axis=1, inplace = True)\n",
        "data_triplet.rename(columns={\"package\":\"Actual_Subscription\",\"iid\":\"SVD_recommendation\",\"err\":\"SVD_error\"}, inplace = True)"
      ],
      "outputs": [],
      "execution_count": 31,
      "metadata": {
        "gather": {
          "logged": 1645976246107
        }
      },
      "id": "53472e26"
    },
    {
      "cell_type": "markdown",
      "source": [
        "## SlopeOne"
      ],
      "metadata": {},
      "id": "166932b4"
    },
    {
      "cell_type": "code",
      "source": [
        "# We'll use the SlopeOne algorithm.\n",
        "algo = SlopeOne()\n",
        "\n",
        "# Run 5-fold cross-validation and print results\n",
        "so_validate =cross_validate(algo, data_model, measures=['RMSE', 'MAE'], cv=5, verbose=True)"
      ],
      "outputs": [
        {
          "output_type": "stream",
          "name": "stdout",
          "text": "Evaluating RMSE, MAE of algorithm SlopeOne on 5 split(s).\n\n                  Fold 1  Fold 2  Fold 3  Fold 4  Fold 5  Mean    Std     \nRMSE (testset)    0.2033  0.2049  0.2028  0.2067  0.2042  0.2044  0.0014  \nMAE (testset)     0.1587  0.1597  0.1585  0.1621  0.1597  0.1597  0.0013  \nFit time          0.35    0.35    0.35    0.37    0.35    0.36    0.01    \nTest time         0.06    0.06    0.06    0.06    0.21    0.09    0.06    \n"
        }
      ],
      "execution_count": 32,
      "metadata": {
        "gather": {
          "logged": 1645976247930
        }
      },
      "id": "94e9dc7c"
    },
    {
      "cell_type": "code",
      "source": [
        "# Train the algorithm on the trainset, and predict ratings for the testset\n",
        "algo.fit(trainset)\n",
        "predictions = algo.test(testset)"
      ],
      "outputs": [],
      "execution_count": 33,
      "metadata": {
        "gather": {
          "logged": 1645976248343
        }
      },
      "id": "27f42260"
    },
    {
      "cell_type": "code",
      "source": [
        "top_n, users_est, users_true, rec_for_user = top_n_pred(predictions)"
      ],
      "outputs": [],
      "execution_count": 34,
      "metadata": {
        "jupyter": {
          "source_hidden": false,
          "outputs_hidden": false
        },
        "nteract": {
          "transient": {
            "deleting": false
          }
        },
        "gather": {
          "logged": 1645976248451
        }
      },
      "id": "c6650be3-38b0-4691-86b5-2b69cd14b84e"
    },
    {
      "cell_type": "code",
      "source": [
        "ndcg_list, ndgc_rate = calc_ndcg(users_true,users_est)\n",
        "print(\"NDCG\", ndgc_rate)"
      ],
      "outputs": [
        {
          "output_type": "stream",
          "name": "stdout",
          "text": "NDCG 1.0\n"
        }
      ],
      "execution_count": 35,
      "metadata": {
        "jupyter": {
          "source_hidden": false,
          "outputs_hidden": false
        },
        "nteract": {
          "transient": {
            "deleting": false
          }
        },
        "gather": {
          "logged": 1645976248570
        }
      },
      "id": "3cf9a0b2-4ced-4645-a692-5cf236083c84"
    },
    {
      "cell_type": "code",
      "source": [
        "# Let's build a pandas dataframe with all the predictions\n",
        "df = pd.DataFrame(predictions, columns=['uid', 'iid', 'rui', 'est', 'details'])    \n",
        "df['Iu'] = df.uid.apply(get_Iu)\n",
        "df['Ui'] = df.iid.apply(get_Ui)\n",
        "df['err'] = abs(df.est - df.rui)"
      ],
      "outputs": [],
      "execution_count": 36,
      "metadata": {
        "gather": {
          "logged": 1645976248654
        }
      },
      "id": "b06b86d3"
    },
    {
      "cell_type": "code",
      "source": [
        "# 10 Best predictions\n",
        "best_predictions = df.sort_values(by='err')[:10]\n",
        "best_predictions"
      ],
      "outputs": [
        {
          "output_type": "execute_result",
          "execution_count": 37,
          "data": {
            "text/plain": "                                   uid             iid       rui       est  \\\n7852  6ac65473c500a42a6f068769d17aa804  DOUBLE_PLAY_BV  0.406604  0.406596   \n3709  99c1b170cec15c0afcdee44aa69ca8a8  DOUBLE_PLAY_BV  0.406630  0.406596   \n1871  3f2bd421b116c65d95f34e732b92b586     TRIPLE_PLAY  0.406552  0.406596   \n5914  2534d4e58603be025e023e57c02800a9     TRIPLE_PLAY  0.406533  0.406596   \n1130  87941ed016fce194fc1b573fe8b262b6     TRIPLE_PLAY  0.406659  0.406596   \n848   fc47bb275d97168ae9b860a80c94c62b     TRIPLE_PLAY  0.406668  0.406596   \n4394  74ec30eb95aea8718e7b737fb6059315     TRIPLE_PLAY  0.406710  0.406596   \n2197  54037b299efaa1f96fcaecb764b084e3  DOUBLE_PLAY_BV  0.406464  0.406596   \n4418  5a585d43c83a65b0dacc9e895604a50e  DOUBLE_PLAY_BV  0.406755  0.406596   \n8256  b9f76f11c1f3d050e35e64ed367c2c18     TRIPLE_PLAY  0.406789  0.406596   \n\n                                                details  Iu     Ui       err  \n7852  {'was_impossible': True, 'reason': 'User and/o...   0  12579  0.000008  \n3709  {'was_impossible': True, 'reason': 'User and/o...   0  12579  0.000035  \n1871  {'was_impossible': True, 'reason': 'User and/o...   0  12712  0.000044  \n5914  {'was_impossible': True, 'reason': 'User and/o...   0  12712  0.000063  \n1130  {'was_impossible': True, 'reason': 'User and/o...   0  12712  0.000064  \n848   {'was_impossible': True, 'reason': 'User and/o...   0  12712  0.000072  \n4394  {'was_impossible': True, 'reason': 'User and/o...   0  12712  0.000114  \n2197  {'was_impossible': True, 'reason': 'User and/o...   0  12579  0.000132  \n4418  {'was_impossible': True, 'reason': 'User and/o...   0  12579  0.000160  \n8256  {'was_impossible': True, 'reason': 'User and/o...   0  12712  0.000193  ",
            "text/html": "<div>\n<style scoped>\n    .dataframe tbody tr th:only-of-type {\n        vertical-align: middle;\n    }\n\n    .dataframe tbody tr th {\n        vertical-align: top;\n    }\n\n    .dataframe thead th {\n        text-align: right;\n    }\n</style>\n<table border=\"1\" class=\"dataframe\">\n  <thead>\n    <tr style=\"text-align: right;\">\n      <th></th>\n      <th>uid</th>\n      <th>iid</th>\n      <th>rui</th>\n      <th>est</th>\n      <th>details</th>\n      <th>Iu</th>\n      <th>Ui</th>\n      <th>err</th>\n    </tr>\n  </thead>\n  <tbody>\n    <tr>\n      <th>7852</th>\n      <td>6ac65473c500a42a6f068769d17aa804</td>\n      <td>DOUBLE_PLAY_BV</td>\n      <td>0.406604</td>\n      <td>0.406596</td>\n      <td>{'was_impossible': True, 'reason': 'User and/o...</td>\n      <td>0</td>\n      <td>12579</td>\n      <td>0.000008</td>\n    </tr>\n    <tr>\n      <th>3709</th>\n      <td>99c1b170cec15c0afcdee44aa69ca8a8</td>\n      <td>DOUBLE_PLAY_BV</td>\n      <td>0.406630</td>\n      <td>0.406596</td>\n      <td>{'was_impossible': True, 'reason': 'User and/o...</td>\n      <td>0</td>\n      <td>12579</td>\n      <td>0.000035</td>\n    </tr>\n    <tr>\n      <th>1871</th>\n      <td>3f2bd421b116c65d95f34e732b92b586</td>\n      <td>TRIPLE_PLAY</td>\n      <td>0.406552</td>\n      <td>0.406596</td>\n      <td>{'was_impossible': True, 'reason': 'User and/o...</td>\n      <td>0</td>\n      <td>12712</td>\n      <td>0.000044</td>\n    </tr>\n    <tr>\n      <th>5914</th>\n      <td>2534d4e58603be025e023e57c02800a9</td>\n      <td>TRIPLE_PLAY</td>\n      <td>0.406533</td>\n      <td>0.406596</td>\n      <td>{'was_impossible': True, 'reason': 'User and/o...</td>\n      <td>0</td>\n      <td>12712</td>\n      <td>0.000063</td>\n    </tr>\n    <tr>\n      <th>1130</th>\n      <td>87941ed016fce194fc1b573fe8b262b6</td>\n      <td>TRIPLE_PLAY</td>\n      <td>0.406659</td>\n      <td>0.406596</td>\n      <td>{'was_impossible': True, 'reason': 'User and/o...</td>\n      <td>0</td>\n      <td>12712</td>\n      <td>0.000064</td>\n    </tr>\n    <tr>\n      <th>848</th>\n      <td>fc47bb275d97168ae9b860a80c94c62b</td>\n      <td>TRIPLE_PLAY</td>\n      <td>0.406668</td>\n      <td>0.406596</td>\n      <td>{'was_impossible': True, 'reason': 'User and/o...</td>\n      <td>0</td>\n      <td>12712</td>\n      <td>0.000072</td>\n    </tr>\n    <tr>\n      <th>4394</th>\n      <td>74ec30eb95aea8718e7b737fb6059315</td>\n      <td>TRIPLE_PLAY</td>\n      <td>0.406710</td>\n      <td>0.406596</td>\n      <td>{'was_impossible': True, 'reason': 'User and/o...</td>\n      <td>0</td>\n      <td>12712</td>\n      <td>0.000114</td>\n    </tr>\n    <tr>\n      <th>2197</th>\n      <td>54037b299efaa1f96fcaecb764b084e3</td>\n      <td>DOUBLE_PLAY_BV</td>\n      <td>0.406464</td>\n      <td>0.406596</td>\n      <td>{'was_impossible': True, 'reason': 'User and/o...</td>\n      <td>0</td>\n      <td>12579</td>\n      <td>0.000132</td>\n    </tr>\n    <tr>\n      <th>4418</th>\n      <td>5a585d43c83a65b0dacc9e895604a50e</td>\n      <td>DOUBLE_PLAY_BV</td>\n      <td>0.406755</td>\n      <td>0.406596</td>\n      <td>{'was_impossible': True, 'reason': 'User and/o...</td>\n      <td>0</td>\n      <td>12579</td>\n      <td>0.000160</td>\n    </tr>\n    <tr>\n      <th>8256</th>\n      <td>b9f76f11c1f3d050e35e64ed367c2c18</td>\n      <td>TRIPLE_PLAY</td>\n      <td>0.406789</td>\n      <td>0.406596</td>\n      <td>{'was_impossible': True, 'reason': 'User and/o...</td>\n      <td>0</td>\n      <td>12712</td>\n      <td>0.000193</td>\n    </tr>\n  </tbody>\n</table>\n</div>"
          },
          "metadata": {}
        }
      ],
      "execution_count": 37,
      "metadata": {
        "gather": {
          "logged": 1645976248961
        }
      },
      "id": "55127359"
    },
    {
      "cell_type": "code",
      "source": [
        "rmse = accuracy.rmse(predictions)\n",
        "print(\"SlopeOne RMSE -->\",rmse)\n",
        "print(\"SlopeOne Accuracy -->\",1-rmse)"
      ],
      "outputs": [
        {
          "output_type": "stream",
          "name": "stdout",
          "text": "RMSE: 0.2022\nSlopeOne RMSE --> 0.20215716576444992\nSlopeOne Accuracy --> 0.7978428342355501\n"
        }
      ],
      "execution_count": 38,
      "metadata": {
        "gather": {
          "logged": 1645976249220
        }
      },
      "id": "9ed6ce12"
    },
    {
      "cell_type": "code",
      "source": [
        "data_triplet = data_triplet.merge(df[[\"uid\",\"iid\",\"err\"]], left_on=\"ACCOUNT_NUM.hash\", right_on =\"uid\", how=\"left\")\n",
        "data_triplet.dropna(subset=[\"uid\"],inplace=True)\n",
        "data_triplet.drop(\"uid\", axis=1, inplace = True)\n",
        "data_triplet.rename(columns={\"iid\":\"SlopeOne_recommendation\",\"err\":\"SlopeOne_error\"}, inplace = True)"
      ],
      "outputs": [],
      "execution_count": 39,
      "metadata": {
        "gather": {
          "logged": 1645976249313
        }
      },
      "id": "a2056605"
    },
    {
      "cell_type": "markdown",
      "source": [
        "## Matrix factorization (NMF)"
      ],
      "metadata": {},
      "id": "47d349c3"
    },
    {
      "cell_type": "code",
      "source": [
        "# We'll use the SlopeOne algorithm.\n",
        "algo = NMF()\n",
        "\n",
        "# Run 5-fold cross-validation and print results\n",
        "nmf_validate =cross_validate(algo, data_model, measures=['RMSE', 'MAE'], cv=5, verbose=True)"
      ],
      "outputs": [
        {
          "output_type": "stream",
          "name": "stdout",
          "text": "Evaluating RMSE, MAE of algorithm NMF on 5 split(s).\n\n                  Fold 1  Fold 2  Fold 3  Fold 4  Fold 5  Mean    Std     \nRMSE (testset)    0.2047  0.2050  0.2035  0.2047  0.2038  0.2044  0.0006  \nMAE (testset)     0.1600  0.1599  0.1598  0.1601  0.1589  0.1597  0.0004  \nFit time          4.47    4.54    4.62    4.39    4.52    4.51    0.08    \nTest time         0.05    0.05    0.05    0.05    0.06    0.05    0.00    \n"
        }
      ],
      "execution_count": 40,
      "metadata": {
        "gather": {
          "logged": 1645976272253
        }
      },
      "id": "6f8b029e"
    },
    {
      "cell_type": "code",
      "source": [
        "# Train the algorithm on the trainset, and predict ratings for the testset\n",
        "algo.fit(trainset)\n",
        "predictions = algo.test(testset)"
      ],
      "outputs": [],
      "execution_count": 41,
      "metadata": {
        "gather": {
          "logged": 1645976276613
        }
      },
      "id": "b4c744b8"
    },
    {
      "cell_type": "code",
      "source": [
        "top_n, users_est, users_true, rec_for_user = top_n_pred(predictions)"
      ],
      "outputs": [],
      "execution_count": 42,
      "metadata": {
        "jupyter": {
          "source_hidden": false,
          "outputs_hidden": false
        },
        "nteract": {
          "transient": {
            "deleting": false
          }
        },
        "gather": {
          "logged": 1645976277109
        }
      },
      "id": "60134af5-e297-4d93-8926-58fb26139e63"
    },
    {
      "cell_type": "code",
      "source": [
        "ndcg_list, ndgc_rate = calc_ndcg(users_true,users_est)\n",
        "print(\"NDCG\", ndgc_rate)"
      ],
      "outputs": [
        {
          "output_type": "stream",
          "name": "stdout",
          "text": "NDCG 1.0\n"
        }
      ],
      "execution_count": 43,
      "metadata": {
        "jupyter": {
          "source_hidden": false,
          "outputs_hidden": false
        },
        "nteract": {
          "transient": {
            "deleting": false
          }
        },
        "gather": {
          "logged": 1645976277264
        }
      },
      "id": "f641609f-cd53-4adf-ae53-b82ca3102a74"
    },
    {
      "cell_type": "code",
      "source": [
        "# Let's build a pandas dataframe with all the predictions\n",
        "df = pd.DataFrame(predictions, columns=['uid', 'iid', 'rui', 'est', 'details'])    \n",
        "df['Iu'] = df.uid.apply(get_Iu)\n",
        "df['Ui'] = df.iid.apply(get_Ui)\n",
        "df['err'] = abs(df.est - df.rui)"
      ],
      "outputs": [],
      "execution_count": 44,
      "metadata": {
        "gather": {
          "logged": 1645976277412
        }
      },
      "id": "8b02ca0e"
    },
    {
      "cell_type": "code",
      "source": [
        "# 10 Best predictions\n",
        "best_predictions = df.sort_values(by='err')[:10]\n",
        "best_predictions"
      ],
      "outputs": [
        {
          "output_type": "execute_result",
          "execution_count": 45,
          "data": {
            "text/plain": "                                   uid             iid       rui       est  \\\n7852  6ac65473c500a42a6f068769d17aa804  DOUBLE_PLAY_BV  0.406604  0.406596   \n3709  99c1b170cec15c0afcdee44aa69ca8a8  DOUBLE_PLAY_BV  0.406630  0.406596   \n1871  3f2bd421b116c65d95f34e732b92b586     TRIPLE_PLAY  0.406552  0.406596   \n5914  2534d4e58603be025e023e57c02800a9     TRIPLE_PLAY  0.406533  0.406596   \n1130  87941ed016fce194fc1b573fe8b262b6     TRIPLE_PLAY  0.406659  0.406596   \n848   fc47bb275d97168ae9b860a80c94c62b     TRIPLE_PLAY  0.406668  0.406596   \n4394  74ec30eb95aea8718e7b737fb6059315     TRIPLE_PLAY  0.406710  0.406596   \n2197  54037b299efaa1f96fcaecb764b084e3  DOUBLE_PLAY_BV  0.406464  0.406596   \n4418  5a585d43c83a65b0dacc9e895604a50e  DOUBLE_PLAY_BV  0.406755  0.406596   \n8256  b9f76f11c1f3d050e35e64ed367c2c18     TRIPLE_PLAY  0.406789  0.406596   \n\n                                                details  Iu     Ui       err  \n7852  {'was_impossible': True, 'reason': 'User and i...   0  12579  0.000008  \n3709  {'was_impossible': True, 'reason': 'User and i...   0  12579  0.000035  \n1871  {'was_impossible': True, 'reason': 'User and i...   0  12712  0.000044  \n5914  {'was_impossible': True, 'reason': 'User and i...   0  12712  0.000063  \n1130  {'was_impossible': True, 'reason': 'User and i...   0  12712  0.000064  \n848   {'was_impossible': True, 'reason': 'User and i...   0  12712  0.000072  \n4394  {'was_impossible': True, 'reason': 'User and i...   0  12712  0.000114  \n2197  {'was_impossible': True, 'reason': 'User and i...   0  12579  0.000132  \n4418  {'was_impossible': True, 'reason': 'User and i...   0  12579  0.000160  \n8256  {'was_impossible': True, 'reason': 'User and i...   0  12712  0.000193  ",
            "text/html": "<div>\n<style scoped>\n    .dataframe tbody tr th:only-of-type {\n        vertical-align: middle;\n    }\n\n    .dataframe tbody tr th {\n        vertical-align: top;\n    }\n\n    .dataframe thead th {\n        text-align: right;\n    }\n</style>\n<table border=\"1\" class=\"dataframe\">\n  <thead>\n    <tr style=\"text-align: right;\">\n      <th></th>\n      <th>uid</th>\n      <th>iid</th>\n      <th>rui</th>\n      <th>est</th>\n      <th>details</th>\n      <th>Iu</th>\n      <th>Ui</th>\n      <th>err</th>\n    </tr>\n  </thead>\n  <tbody>\n    <tr>\n      <th>7852</th>\n      <td>6ac65473c500a42a6f068769d17aa804</td>\n      <td>DOUBLE_PLAY_BV</td>\n      <td>0.406604</td>\n      <td>0.406596</td>\n      <td>{'was_impossible': True, 'reason': 'User and i...</td>\n      <td>0</td>\n      <td>12579</td>\n      <td>0.000008</td>\n    </tr>\n    <tr>\n      <th>3709</th>\n      <td>99c1b170cec15c0afcdee44aa69ca8a8</td>\n      <td>DOUBLE_PLAY_BV</td>\n      <td>0.406630</td>\n      <td>0.406596</td>\n      <td>{'was_impossible': True, 'reason': 'User and i...</td>\n      <td>0</td>\n      <td>12579</td>\n      <td>0.000035</td>\n    </tr>\n    <tr>\n      <th>1871</th>\n      <td>3f2bd421b116c65d95f34e732b92b586</td>\n      <td>TRIPLE_PLAY</td>\n      <td>0.406552</td>\n      <td>0.406596</td>\n      <td>{'was_impossible': True, 'reason': 'User and i...</td>\n      <td>0</td>\n      <td>12712</td>\n      <td>0.000044</td>\n    </tr>\n    <tr>\n      <th>5914</th>\n      <td>2534d4e58603be025e023e57c02800a9</td>\n      <td>TRIPLE_PLAY</td>\n      <td>0.406533</td>\n      <td>0.406596</td>\n      <td>{'was_impossible': True, 'reason': 'User and i...</td>\n      <td>0</td>\n      <td>12712</td>\n      <td>0.000063</td>\n    </tr>\n    <tr>\n      <th>1130</th>\n      <td>87941ed016fce194fc1b573fe8b262b6</td>\n      <td>TRIPLE_PLAY</td>\n      <td>0.406659</td>\n      <td>0.406596</td>\n      <td>{'was_impossible': True, 'reason': 'User and i...</td>\n      <td>0</td>\n      <td>12712</td>\n      <td>0.000064</td>\n    </tr>\n    <tr>\n      <th>848</th>\n      <td>fc47bb275d97168ae9b860a80c94c62b</td>\n      <td>TRIPLE_PLAY</td>\n      <td>0.406668</td>\n      <td>0.406596</td>\n      <td>{'was_impossible': True, 'reason': 'User and i...</td>\n      <td>0</td>\n      <td>12712</td>\n      <td>0.000072</td>\n    </tr>\n    <tr>\n      <th>4394</th>\n      <td>74ec30eb95aea8718e7b737fb6059315</td>\n      <td>TRIPLE_PLAY</td>\n      <td>0.406710</td>\n      <td>0.406596</td>\n      <td>{'was_impossible': True, 'reason': 'User and i...</td>\n      <td>0</td>\n      <td>12712</td>\n      <td>0.000114</td>\n    </tr>\n    <tr>\n      <th>2197</th>\n      <td>54037b299efaa1f96fcaecb764b084e3</td>\n      <td>DOUBLE_PLAY_BV</td>\n      <td>0.406464</td>\n      <td>0.406596</td>\n      <td>{'was_impossible': True, 'reason': 'User and i...</td>\n      <td>0</td>\n      <td>12579</td>\n      <td>0.000132</td>\n    </tr>\n    <tr>\n      <th>4418</th>\n      <td>5a585d43c83a65b0dacc9e895604a50e</td>\n      <td>DOUBLE_PLAY_BV</td>\n      <td>0.406755</td>\n      <td>0.406596</td>\n      <td>{'was_impossible': True, 'reason': 'User and i...</td>\n      <td>0</td>\n      <td>12579</td>\n      <td>0.000160</td>\n    </tr>\n    <tr>\n      <th>8256</th>\n      <td>b9f76f11c1f3d050e35e64ed367c2c18</td>\n      <td>TRIPLE_PLAY</td>\n      <td>0.406789</td>\n      <td>0.406596</td>\n      <td>{'was_impossible': True, 'reason': 'User and i...</td>\n      <td>0</td>\n      <td>12712</td>\n      <td>0.000193</td>\n    </tr>\n  </tbody>\n</table>\n</div>"
          },
          "metadata": {}
        }
      ],
      "execution_count": 45,
      "metadata": {
        "gather": {
          "logged": 1645976277679
        }
      },
      "id": "fba75d87"
    },
    {
      "cell_type": "code",
      "source": [
        "rmse = accuracy.rmse(predictions)\n",
        "print(\"MF RMSE -->\",rmse)\n",
        "print(\"MF Accuracy -->\",1-rmse)"
      ],
      "outputs": [
        {
          "output_type": "stream",
          "name": "stdout",
          "text": "RMSE: 0.2022\nMF RMSE --> 0.20215716576444992\nMF Accuracy --> 0.7978428342355501\n"
        }
      ],
      "execution_count": 46,
      "metadata": {
        "gather": {
          "logged": 1645976277760
        }
      },
      "id": "cb72f58e"
    },
    {
      "cell_type": "code",
      "source": [
        "data_triplet = data_triplet.merge(df[[\"uid\",\"iid\",\"err\"]], left_on=\"ACCOUNT_NUM.hash\", right_on =\"uid\", how=\"left\")\n",
        "data_triplet.dropna(subset=[\"uid\"],inplace=True)\n",
        "data_triplet.drop(\"uid\", axis=1, inplace = True)\n",
        "data_triplet.rename(columns={\"iid\":\"MF_recommendation\",\"err\":\"MF_error\"}, inplace = True)"
      ],
      "outputs": [],
      "execution_count": 47,
      "metadata": {
        "gather": {
          "logged": 1645976277910
        }
      },
      "id": "66184c59"
    },
    {
      "cell_type": "code",
      "source": [
        "data_triplet"
      ],
      "outputs": [
        {
          "output_type": "execute_result",
          "execution_count": 48,
          "data": {
            "text/plain": "                      ACCOUNT_NUM.hash Actual_Subscription   ratings  \\\n0     abfd56b8f14dfcf01b4163fa1e6bd975      DOUBLE_PLAY_PV  0.076656   \n1     2b0e4cbe7a58cc48263dd42510f15880      DOUBLE_PLAY_PV  0.119744   \n2     85f497dba91c0ea6fdd35e8c588708af      DOUBLE_PLAY_PV  0.326062   \n3     241f06474d8b8022dc3629fe804fbe93         TRIPLE_PLAY  0.199717   \n4     ea3460ef9ff0a231cce3ce2cbe722365      DOUBLE_PLAY_PV  0.391821   \n...                                ...                 ...       ...   \n8514  8d76c0768d79adaa3b4cb9901e5b547b      DOUBLE_PLAY_PV  0.623619   \n8515  8555a6af47fa27f9e42388eea6a48d98      DOUBLE_PLAY_BV  0.704304   \n8516  00478c7a0ea164b3e5bc89d86e5fa5bb      DOUBLE_PLAY_BV  0.354154   \n8517  fefbb242be644eefcc2c5f2053d017f2      DOUBLE_PLAY_PV  0.309808   \n8518  7052930957f02ad914dbd24fdcd04fed      DOUBLE_PLAY_BV  0.399498   \n\n     SVD_recommendation  SVD_error SlopeOne_recommendation  SlopeOne_error  \\\n0        DOUBLE_PLAY_PV   0.302884          DOUBLE_PLAY_PV        0.329940   \n1        DOUBLE_PLAY_PV   0.259795          DOUBLE_PLAY_PV        0.286852   \n2        DOUBLE_PLAY_PV   0.053477          DOUBLE_PLAY_PV        0.080534   \n3           TRIPLE_PLAY   0.309947             TRIPLE_PLAY        0.206878   \n4        DOUBLE_PLAY_PV   0.012281          DOUBLE_PLAY_PV        0.014775   \n...                 ...        ...                     ...             ...   \n8514     DOUBLE_PLAY_PV   0.244080          DOUBLE_PLAY_PV        0.217024   \n8515     DOUBLE_PLAY_BV   0.315904          DOUBLE_PLAY_BV        0.297709   \n8516     DOUBLE_PLAY_BV   0.034247          DOUBLE_PLAY_BV        0.052442   \n8517     DOUBLE_PLAY_PV   0.069731          DOUBLE_PLAY_PV        0.096788   \n8518     DOUBLE_PLAY_BV   0.011097          DOUBLE_PLAY_BV        0.007098   \n\n     MF_recommendation  MF_error  \n0       DOUBLE_PLAY_PV  0.329940  \n1       DOUBLE_PLAY_PV  0.286852  \n2       DOUBLE_PLAY_PV  0.080534  \n3          TRIPLE_PLAY  0.206878  \n4       DOUBLE_PLAY_PV  0.014775  \n...                ...       ...  \n8514    DOUBLE_PLAY_PV  0.217024  \n8515    DOUBLE_PLAY_BV  0.297709  \n8516    DOUBLE_PLAY_BV  0.052442  \n8517    DOUBLE_PLAY_PV  0.096788  \n8518    DOUBLE_PLAY_BV  0.007098  \n\n[8519 rows x 9 columns]",
            "text/html": "<div>\n<style scoped>\n    .dataframe tbody tr th:only-of-type {\n        vertical-align: middle;\n    }\n\n    .dataframe tbody tr th {\n        vertical-align: top;\n    }\n\n    .dataframe thead th {\n        text-align: right;\n    }\n</style>\n<table border=\"1\" class=\"dataframe\">\n  <thead>\n    <tr style=\"text-align: right;\">\n      <th></th>\n      <th>ACCOUNT_NUM.hash</th>\n      <th>Actual_Subscription</th>\n      <th>ratings</th>\n      <th>SVD_recommendation</th>\n      <th>SVD_error</th>\n      <th>SlopeOne_recommendation</th>\n      <th>SlopeOne_error</th>\n      <th>MF_recommendation</th>\n      <th>MF_error</th>\n    </tr>\n  </thead>\n  <tbody>\n    <tr>\n      <th>0</th>\n      <td>abfd56b8f14dfcf01b4163fa1e6bd975</td>\n      <td>DOUBLE_PLAY_PV</td>\n      <td>0.076656</td>\n      <td>DOUBLE_PLAY_PV</td>\n      <td>0.302884</td>\n      <td>DOUBLE_PLAY_PV</td>\n      <td>0.329940</td>\n      <td>DOUBLE_PLAY_PV</td>\n      <td>0.329940</td>\n    </tr>\n    <tr>\n      <th>1</th>\n      <td>2b0e4cbe7a58cc48263dd42510f15880</td>\n      <td>DOUBLE_PLAY_PV</td>\n      <td>0.119744</td>\n      <td>DOUBLE_PLAY_PV</td>\n      <td>0.259795</td>\n      <td>DOUBLE_PLAY_PV</td>\n      <td>0.286852</td>\n      <td>DOUBLE_PLAY_PV</td>\n      <td>0.286852</td>\n    </tr>\n    <tr>\n      <th>2</th>\n      <td>85f497dba91c0ea6fdd35e8c588708af</td>\n      <td>DOUBLE_PLAY_PV</td>\n      <td>0.326062</td>\n      <td>DOUBLE_PLAY_PV</td>\n      <td>0.053477</td>\n      <td>DOUBLE_PLAY_PV</td>\n      <td>0.080534</td>\n      <td>DOUBLE_PLAY_PV</td>\n      <td>0.080534</td>\n    </tr>\n    <tr>\n      <th>3</th>\n      <td>241f06474d8b8022dc3629fe804fbe93</td>\n      <td>TRIPLE_PLAY</td>\n      <td>0.199717</td>\n      <td>TRIPLE_PLAY</td>\n      <td>0.309947</td>\n      <td>TRIPLE_PLAY</td>\n      <td>0.206878</td>\n      <td>TRIPLE_PLAY</td>\n      <td>0.206878</td>\n    </tr>\n    <tr>\n      <th>4</th>\n      <td>ea3460ef9ff0a231cce3ce2cbe722365</td>\n      <td>DOUBLE_PLAY_PV</td>\n      <td>0.391821</td>\n      <td>DOUBLE_PLAY_PV</td>\n      <td>0.012281</td>\n      <td>DOUBLE_PLAY_PV</td>\n      <td>0.014775</td>\n      <td>DOUBLE_PLAY_PV</td>\n      <td>0.014775</td>\n    </tr>\n    <tr>\n      <th>...</th>\n      <td>...</td>\n      <td>...</td>\n      <td>...</td>\n      <td>...</td>\n      <td>...</td>\n      <td>...</td>\n      <td>...</td>\n      <td>...</td>\n      <td>...</td>\n    </tr>\n    <tr>\n      <th>8514</th>\n      <td>8d76c0768d79adaa3b4cb9901e5b547b</td>\n      <td>DOUBLE_PLAY_PV</td>\n      <td>0.623619</td>\n      <td>DOUBLE_PLAY_PV</td>\n      <td>0.244080</td>\n      <td>DOUBLE_PLAY_PV</td>\n      <td>0.217024</td>\n      <td>DOUBLE_PLAY_PV</td>\n      <td>0.217024</td>\n    </tr>\n    <tr>\n      <th>8515</th>\n      <td>8555a6af47fa27f9e42388eea6a48d98</td>\n      <td>DOUBLE_PLAY_BV</td>\n      <td>0.704304</td>\n      <td>DOUBLE_PLAY_BV</td>\n      <td>0.315904</td>\n      <td>DOUBLE_PLAY_BV</td>\n      <td>0.297709</td>\n      <td>DOUBLE_PLAY_BV</td>\n      <td>0.297709</td>\n    </tr>\n    <tr>\n      <th>8516</th>\n      <td>00478c7a0ea164b3e5bc89d86e5fa5bb</td>\n      <td>DOUBLE_PLAY_BV</td>\n      <td>0.354154</td>\n      <td>DOUBLE_PLAY_BV</td>\n      <td>0.034247</td>\n      <td>DOUBLE_PLAY_BV</td>\n      <td>0.052442</td>\n      <td>DOUBLE_PLAY_BV</td>\n      <td>0.052442</td>\n    </tr>\n    <tr>\n      <th>8517</th>\n      <td>fefbb242be644eefcc2c5f2053d017f2</td>\n      <td>DOUBLE_PLAY_PV</td>\n      <td>0.309808</td>\n      <td>DOUBLE_PLAY_PV</td>\n      <td>0.069731</td>\n      <td>DOUBLE_PLAY_PV</td>\n      <td>0.096788</td>\n      <td>DOUBLE_PLAY_PV</td>\n      <td>0.096788</td>\n    </tr>\n    <tr>\n      <th>8518</th>\n      <td>7052930957f02ad914dbd24fdcd04fed</td>\n      <td>DOUBLE_PLAY_BV</td>\n      <td>0.399498</td>\n      <td>DOUBLE_PLAY_BV</td>\n      <td>0.011097</td>\n      <td>DOUBLE_PLAY_BV</td>\n      <td>0.007098</td>\n      <td>DOUBLE_PLAY_BV</td>\n      <td>0.007098</td>\n    </tr>\n  </tbody>\n</table>\n<p>8519 rows × 9 columns</p>\n</div>"
          },
          "metadata": {}
        }
      ],
      "execution_count": 48,
      "metadata": {
        "gather": {
          "logged": 1645976278035
        }
      },
      "id": "3e18c3f4"
    },
    {
      "cell_type": "markdown",
      "source": [
        "## KNN with Means recommender"
      ],
      "metadata": {
        "nteract": {
          "transient": {
            "deleting": false
          }
        }
      },
      "id": "d5a70223-fb6c-4ef8-811e-7e90bd8a1765"
    },
    {
      "cell_type": "code",
      "source": [
        "# We'll use the SlopeOne algorithm.\n",
        "algo = KNNWithMeans()\n",
        "\n",
        "# Run 5-fold cross-validation and print results\n",
        "knn_validate = cross_validate(algo, data_model, measures=['RMSE', 'MAE'], cv=5, verbose=True)"
      ],
      "outputs": [],
      "execution_count": 49,
      "metadata": {
        "jupyter": {
          "source_hidden": false,
          "outputs_hidden": false
        },
        "nteract": {
          "transient": {
            "deleting": false
          }
        },
        "gather": {
          "logged": 1645975513423
        }
      },
      "id": "9dbf94ae-5914-4f8f-b9d6-6d50a122f754"
    },
    {
      "cell_type": "code",
      "source": [
        "# Train the algorithm on the trainset, and predict ratings for the testset\n",
        "algo.fit(trainset)\n",
        "predictions = algo.test(testset)"
      ],
      "outputs": [],
      "execution_count": null,
      "metadata": {
        "jupyter": {
          "source_hidden": false,
          "outputs_hidden": false
        },
        "nteract": {
          "transient": {
            "deleting": false
          }
        },
        "gather": {
          "logged": 1645975589926
        }
      },
      "id": "d7658df4-0d7d-458d-90df-81f3299275f2"
    },
    {
      "cell_type": "code",
      "source": [
        "top_n, users_est, users_true, rec_for_user = top_n_pred(predictions)"
      ],
      "outputs": [],
      "execution_count": null,
      "metadata": {
        "jupyter": {
          "source_hidden": false,
          "outputs_hidden": false
        },
        "nteract": {
          "transient": {
            "deleting": false
          }
        },
        "gather": {
          "logged": 1645975597091
        }
      },
      "id": "59e00b96-ffd8-4129-a342-f962d418a6e6"
    },
    {
      "cell_type": "code",
      "source": [
        "ndcg_list, ndgc_rate = calc_ndcg(users_true,users_est)\n",
        "print(\"NDCG\", ndgc_rate)"
      ],
      "outputs": [],
      "execution_count": null,
      "metadata": {
        "jupyter": {
          "source_hidden": false,
          "outputs_hidden": false
        },
        "nteract": {
          "transient": {
            "deleting": false
          }
        },
        "gather": {
          "logged": 1645975597262
        }
      },
      "id": "c9555d8f-99a1-489a-8f4d-7e5093245f50"
    },
    {
      "cell_type": "code",
      "source": [
        "# Let's build a pandas dataframe with all the predictions\n",
        "df = pd.DataFrame(predictions, columns=['uid', 'iid', 'rui', 'est', 'details'])    \n",
        "df['Iu'] = df.uid.apply(get_Iu)\n",
        "df['Ui'] = df.iid.apply(get_Ui)\n",
        "df['err'] = abs(df.est - df.rui)"
      ],
      "outputs": [],
      "execution_count": null,
      "metadata": {
        "jupyter": {
          "source_hidden": false,
          "outputs_hidden": false
        },
        "nteract": {
          "transient": {
            "deleting": false
          }
        },
        "gather": {
          "logged": 1645975597378
        }
      },
      "id": "b3928192-1813-4bf7-9513-9581ec9cb61e"
    },
    {
      "cell_type": "code",
      "source": [
        "# 10 Best predictions\n",
        "best_predictions = df.sort_values(by='err')[:10]\n",
        "best_predictions"
      ],
      "outputs": [],
      "execution_count": null,
      "metadata": {
        "jupyter": {
          "source_hidden": false,
          "outputs_hidden": false
        },
        "nteract": {
          "transient": {
            "deleting": false
          }
        },
        "gather": {
          "logged": 1645975597557
        }
      },
      "id": "764fe3ec-12f3-46f0-a1af-70f77d7b7b14"
    },
    {
      "cell_type": "code",
      "source": [
        "rmse = accuracy.rmse(predictions)\n",
        "print(\"KNN Means RMSE -->\",rmse)\n",
        "print(\"KNN Means Accuracy -->\",1-rmse)"
      ],
      "outputs": [],
      "execution_count": null,
      "metadata": {
        "jupyter": {
          "source_hidden": false,
          "outputs_hidden": false
        },
        "nteract": {
          "transient": {
            "deleting": false
          }
        },
        "gather": {
          "logged": 1645975597637
        }
      },
      "id": "67aebc1a-3304-4950-92de-872aed436b9d"
    },
    {
      "cell_type": "code",
      "source": [
        "data_triplet = data_triplet.merge(df[[\"uid\",\"iid\",\"err\"]], left_on=\"ACCOUNT_NUM.hash\", right_on =\"uid\", how=\"left\")\n",
        "data_triplet.dropna(subset=[\"uid\"],inplace=True)\n",
        "data_triplet.drop(\"uid\", axis=1, inplace = True)\n",
        "data_triplet.rename(columns={\"iid\":\"KNNMeans_recommendation\",\"err\":\"KNNMeans_error\"}, inplace = True)"
      ],
      "outputs": [],
      "execution_count": null,
      "metadata": {
        "jupyter": {
          "source_hidden": false,
          "outputs_hidden": false
        },
        "nteract": {
          "transient": {
            "deleting": false
          }
        }
      },
      "id": "7cc2652e-bf79-4764-9f40-b8167cb94b73"
    },
    {
      "cell_type": "markdown",
      "source": [
        "## Factorization Machines"
      ],
      "metadata": {
        "nteract": {
          "transient": {
            "deleting": false
          }
        }
      },
      "id": "09d0d677-7734-4791-8819-71c79a0e847d"
    },
    {
      "cell_type": "code",
      "source": [],
      "outputs": [],
      "execution_count": null,
      "metadata": {
        "jupyter": {
          "source_hidden": false,
          "outputs_hidden": false
        },
        "nteract": {
          "transient": {
            "deleting": false
          }
        }
      },
      "id": "697b653f-830d-42a7-9ad0-fef059e46ccd"
    },
    {
      "cell_type": "code",
      "source": [],
      "outputs": [],
      "execution_count": null,
      "metadata": {
        "jupyter": {
          "source_hidden": false,
          "outputs_hidden": false
        },
        "nteract": {
          "transient": {
            "deleting": false
          }
        }
      },
      "id": "13289f88-9fcf-4a73-b090-2504e865671a"
    },
    {
      "cell_type": "markdown",
      "source": [
        "## Benchmark lgorithms"
      ],
      "metadata": {
        "nteract": {
          "transient": {
            "deleting": false
          }
        }
      },
      "id": "9116acac-caf9-4ab6-8b87-b063d044c9b8"
    },
    {
      "cell_type": "code",
      "source": [
        "benchmark = []\n",
        "# Iterate over all algorithms\n",
        "for algorithm in [SVD(), SlopeOne(), NMF()]:\n",
        "    # Perform cross validation\n",
        "    results = cross_validate(algorithm, data_model, measures=['RMSE'], cv=5, verbose=False)\n",
        "    \n",
        "    # Get results & append algorithm name\n",
        "    tmp = pd.DataFrame.from_dict(results).mean(axis=0)\n",
        "    tmp = tmp.append(pd.Series([str(algorithm).split(' ')[0].split('.')[-1]], index=['Algorithm']))\n",
        "    benchmark.append(tmp)\n",
        "    \n",
        "val_df = pd.DataFrame(benchmark).set_index('Algorithm').sort_values('test_rmse')\n",
        "val_df"
      ],
      "outputs": [],
      "execution_count": null,
      "metadata": {
        "jupyter": {
          "source_hidden": false,
          "outputs_hidden": false
        },
        "nteract": {
          "transient": {
            "deleting": false
          }
        }
      },
      "id": "ca4259b5-d1c4-43a4-a210-82780c9a2aa2"
    },
    {
      "cell_type": "code",
      "source": [
        "fig,ax = plt.subplots(figsize=(13,8))\n",
        "ax.plot(so_validate[\"test_rmse\"], color='blue')\n",
        "ax.plot(svd_validate[\"test_rmse\"], color='green')\n",
        "ax.plot(knn_validate[\"test_rmse\"], color='orange')\n",
        "ax.plot(nmf_validate[\"test_rmse\"], color='red')\n",
        "ax.plot(so_validate[\"test_mae\"], linestyle='dashdot', color='blue')\n",
        "ax.plot(svd_validate[\"test_mae\"], linestyle='dashdot', color='green')\n",
        "ax.plot(knn_validate[\"test_mae\"], linestyle='dashdot', color='orange')\n",
        "ax.plot(nmf_validate[\"test_mae\"], linestyle='dashdot', color='red')\n",
        "# plt.xticks(np.arange(0, 30, 0.5))\n",
        "plt.title(\"Boradband Packages Recommender\", loc=\"center\")\n",
        "plt.legend([\"RMSE: SlopeOne\",\"RMSE: SVD\",\"RMSE: KNNwithMeans\",\"RMSE: NMF\",\n",
        "           \"MAE: SlopeOne\",\"MAE: SVD\",\"MAE: KNNwithMeans\",\"MAE: NMF\"])"
      ],
      "outputs": [],
      "execution_count": null,
      "metadata": {
        "jupyter": {
          "source_hidden": false,
          "outputs_hidden": false
        },
        "nteract": {
          "transient": {
            "deleting": false
          }
        }
      },
      "id": "fb45fe9a-e037-44a5-8295-d399ab22ceb7"
    },
    {
      "cell_type": "markdown",
      "source": [
        "## Best Accuracy Model"
      ],
      "metadata": {
        "nteract": {
          "transient": {
            "deleting": false
          }
        }
      },
      "id": "4a03571f-de81-4d41-800a-51e6c3a5609f"
    },
    {
      "cell_type": "code",
      "source": [],
      "outputs": [],
      "execution_count": null,
      "metadata": {
        "jupyter": {
          "source_hidden": false,
          "outputs_hidden": false
        },
        "nteract": {
          "transient": {
            "deleting": false
          }
        }
      },
      "id": "52d8c3bd-240c-4af2-8769-7a6eb917a386"
    },
    {
      "cell_type": "markdown",
      "source": [
        "## Model Stacking approach (Ensambling)"
      ],
      "metadata": {
        "nteract": {
          "transient": {
            "deleting": false
          }
        }
      },
      "id": "d4feec98-1eee-48df-8b59-e44ff29de432"
    },
    {
      "cell_type": "code",
      "source": [],
      "outputs": [],
      "execution_count": null,
      "metadata": {
        "jupyter": {
          "source_hidden": false,
          "outputs_hidden": false
        },
        "nteract": {
          "transient": {
            "deleting": false
          }
        }
      },
      "id": "c4e254ec-a119-4491-be4b-eaf1ed1101c2"
    },
    {
      "cell_type": "markdown",
      "source": [
        "## Busines Rule filtration"
      ],
      "metadata": {
        "nteract": {
          "transient": {
            "deleting": false
          }
        }
      },
      "id": "e25e0794-2713-47a3-981a-4b58e24b5ac0"
    },
    {
      "cell_type": "code",
      "source": [],
      "outputs": [],
      "execution_count": null,
      "metadata": {
        "jupyter": {
          "source_hidden": false,
          "outputs_hidden": false
        },
        "nteract": {
          "transient": {
            "deleting": false
          }
        }
      },
      "id": "cedf06c0-bf6f-4877-83d4-4472fa1704c2"
    },
    {
      "cell_type": "markdown",
      "source": [
        "## Store resutls"
      ],
      "metadata": {
        "nteract": {
          "transient": {
            "deleting": false
          }
        }
      },
      "id": "04f0ca97-afb6-4305-b6be-457e48066683"
    },
    {
      "cell_type": "code",
      "source": [
        "data_triplet.to_csv(\"data/up-selling-scored/CF_scored_and_eval.csv\")"
      ],
      "outputs": [],
      "execution_count": 113,
      "metadata": {},
      "id": "ab3abed0"
    },
    {
      "cell_type": "code",
      "source": [],
      "outputs": [],
      "execution_count": null,
      "metadata": {},
      "id": "5c3c1202"
    }
  ],
  "metadata": {
    "kernelspec": {
      "name": "python3",
      "language": "python",
      "display_name": "Python 3"
    },
    "language_info": {
      "name": "python",
      "version": "3.6.9",
      "mimetype": "text/x-python",
      "codemirror_mode": {
        "name": "ipython",
        "version": 3
      },
      "pygments_lexer": "ipython3",
      "nbconvert_exporter": "python",
      "file_extension": ".py"
    },
    "kernel_info": {
      "name": "python3"
    },
    "nteract": {
      "version": "nteract-front-end@1.0.0"
    },
    "microsoft": {
      "host": {
        "AzureML": {
          "notebookHasBeenCompleted": true
        }
      }
    }
  },
  "nbformat": 4,
  "nbformat_minor": 5
}