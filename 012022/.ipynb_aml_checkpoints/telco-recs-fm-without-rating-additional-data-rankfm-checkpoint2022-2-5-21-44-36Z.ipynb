{
  "cells": [
    {
      "cell_type": "code",
      "source": [
        "import numpy as np\n",
        "import pandas as pd\n",
        "import matplotlib.pyplot as plt\n",
        "import seaborn as sns\n",
        "from rankfm.rankfm import RankFM\n",
        "from sklearn.preprocessing import LabelEncoder, OneHotEncoder\n",
        "from sklearn.model_selection import train_test_split\n",
        "import warnings"
      ],
      "outputs": [],
      "execution_count": 9,
      "metadata": {
        "gather": {
          "logged": 1646516484012
        }
      }
    },
    {
      "cell_type": "code",
      "source": [
        "#Load data\n",
        "path = \"data/up-selling/peotv/\"\n",
        "\n",
        "#Ratings\n",
        "ratings = pd.read_csv(path+'azure/peoTV_user_ratings.csv')\n",
        "\n",
        "try:\n",
        "    ratings.drop([\"Unnamed: 0\",\"ratings\"],axis=1,inplace=True)\n",
        "except:\n",
        "    pass"
      ],
      "outputs": [],
      "execution_count": 10,
      "metadata": {
        "jupyter": {
          "source_hidden": false,
          "outputs_hidden": false
        },
        "nteract": {
          "transient": {
            "deleting": false
          }
        },
        "gather": {
          "logged": 1646516485044
        }
      }
    },
    {
      "cell_type": "code",
      "source": [
        "ITEM_COLUMN = \"itemId\"\n",
        "USER_COULMN = \"userId\"\n",
        "RATING_COLUMN = \"rating\""
      ],
      "outputs": [],
      "execution_count": 11,
      "metadata": {
        "jupyter": {
          "source_hidden": false,
          "outputs_hidden": false
        },
        "nteract": {
          "transient": {
            "deleting": false
          }
        },
        "gather": {
          "logged": 1646516486571
        }
      }
    },
    {
      "cell_type": "code",
      "source": [
        "ratings.columns = [USER_COULMN, ITEM_COLUMN]\n",
        "\n",
        "ratings.sort_values(by=[USER_COULMN],inplace=True,ascending=False)\n",
        "# ratings = ratings.drop_duplicates(keep=\"first\").reset_index().drop(\"index\", axis=1)"
      ],
      "outputs": [],
      "execution_count": 12,
      "metadata": {
        "jupyter": {
          "source_hidden": false,
          "outputs_hidden": false
        },
        "nteract": {
          "transient": {
            "deleting": false
          }
        },
        "gather": {
          "logged": 1646516488068
        }
      }
    },
    {
      "cell_type": "code",
      "source": [
        "for c in ratings.columns:\n",
        "    le = LabelEncoder()\n",
        "    ratings[c] = le.fit_transform(ratings[c])"
      ],
      "outputs": [],
      "execution_count": 13,
      "metadata": {
        "jupyter": {
          "source_hidden": false,
          "outputs_hidden": false
        },
        "nteract": {
          "transient": {
            "deleting": false
          }
        },
        "gather": {
          "logged": 1646516489683
        }
      }
    },
    {
      "cell_type": "code",
      "source": [
        "ratings.shape"
      ],
      "outputs": [
        {
          "output_type": "execute_result",
          "execution_count": 17,
          "data": {
            "text/plain": "(159415, 2)"
          },
          "metadata": {}
        }
      ],
      "execution_count": 17,
      "metadata": {
        "jupyter": {
          "source_hidden": false,
          "outputs_hidden": false
        },
        "nteract": {
          "transient": {
            "deleting": false
          }
        },
        "gather": {
          "logged": 1646516535593
        }
      }
    },
    {
      "cell_type": "code",
      "source": [
        "np.random.seed(100)\n",
        "interactions_train, interactions_valid = np.split(ratings, [int(.7*len(ratings))])"
      ],
      "outputs": [],
      "execution_count": 23,
      "metadata": {
        "jupyter": {
          "source_hidden": false,
          "outputs_hidden": false
        },
        "nteract": {
          "transient": {
            "deleting": false
          }
        },
        "gather": {
          "logged": 1646516626791
        }
      }
    },
    {
      "cell_type": "code",
      "source": [
        "interactions_train.shape"
      ],
      "outputs": [
        {
          "output_type": "execute_result",
          "execution_count": 24,
          "data": {
            "text/plain": "(111590, 2)"
          },
          "metadata": {}
        }
      ],
      "execution_count": 24,
      "metadata": {
        "jupyter": {
          "source_hidden": false,
          "outputs_hidden": false
        },
        "nteract": {
          "transient": {
            "deleting": false
          }
        },
        "gather": {
          "logged": 1646516627752
        }
      }
    },
    {
      "cell_type": "code",
      "source": [
        "interactions_valid.shape"
      ],
      "outputs": [
        {
          "output_type": "execute_result",
          "execution_count": 25,
          "data": {
            "text/plain": "(47825, 2)"
          },
          "metadata": {}
        }
      ],
      "execution_count": 25,
      "metadata": {
        "jupyter": {
          "source_hidden": false,
          "outputs_hidden": false
        },
        "nteract": {
          "transient": {
            "deleting": false
          }
        },
        "gather": {
          "logged": 1646516628968
        }
      }
    },
    {
      "cell_type": "code",
      "source": [
        "model = RankFM(factors=20, loss='warp', max_samples=20, alpha=0.01, sigma=0.1, learning_rate=0.1, learning_schedule='invscaling')\n",
        "model.fit(interactions_train, epochs=20, verbose=True)"
      ],
      "outputs": [
        {
          "output_type": "stream",
          "name": "stdout",
          "text": "\ntraining epoch: 0\nlog likelihood: -41808.5703125\n\ntraining epoch: 1\nlog likelihood: -41890.87109375\n\ntraining epoch: 2\nlog likelihood: -40716.12109375\n\ntraining epoch: 3\nlog likelihood: -39921.44921875\n\ntraining epoch: 4\nlog likelihood: -39265.48046875\n\ntraining epoch: 5\nlog likelihood: -38521.078125\n\ntraining epoch: 6\nlog likelihood: -37690.7109375\n\ntraining epoch: 7\nlog likelihood: -36763.23828125\n\ntraining epoch: 8\nlog likelihood: -36118.96875\n\ntraining epoch: 9\nlog likelihood: -35482.69921875\n\ntraining epoch: 10\nlog likelihood: -34965.44921875\n\ntraining epoch: 11\nlog likelihood: -34382.78125\n\ntraining epoch: 12\nlog likelihood: -33807.19140625\n\ntraining epoch: 13\nlog likelihood: -33149.41015625\n\ntraining epoch: 14\nlog likelihood: -32553.060546875\n\ntraining epoch: 15\nlog likelihood: -32005.150390625\n\ntraining epoch: 16\nlog likelihood: -31491.1796875\n\ntraining epoch: 17\nlog likelihood: -30991.439453125\n\ntraining epoch: 18\nlog likelihood: -30549.9296875\n\ntraining epoch: 19\nlog likelihood: -30078.9296875\n"
        }
      ],
      "execution_count": 26,
      "metadata": {
        "jupyter": {
          "source_hidden": false,
          "outputs_hidden": false
        },
        "nteract": {
          "transient": {
            "deleting": false
          }
        },
        "gather": {
          "logged": 1646516644494
        }
      }
    },
    {
      "cell_type": "code",
      "source": [
        "valid_scores = model.predict(interactions_valid, cold_start='nan')\n",
        "valid_scores"
      ],
      "outputs": [
        {
          "output_type": "execute_result",
          "execution_count": 28,
          "data": {
            "text/plain": "array([ 0.7474053 , -0.64031535,  0.7474053 , ...,         nan,\n               nan,         nan], dtype=float32)"
          },
          "metadata": {}
        }
      ],
      "execution_count": 28,
      "metadata": {
        "jupyter": {
          "source_hidden": false,
          "outputs_hidden": false
        },
        "nteract": {
          "transient": {
            "deleting": false
          }
        },
        "gather": {
          "logged": 1646516657528
        }
      }
    }
  ],
  "metadata": {
    "kernelspec": {
      "name": "python3-azureml",
      "language": "python",
      "display_name": "Python 3.6 - AzureML"
    },
    "language_info": {
      "name": "python",
      "version": "3.6.9",
      "mimetype": "text/x-python",
      "codemirror_mode": {
        "name": "ipython",
        "version": 3
      },
      "pygments_lexer": "ipython3",
      "nbconvert_exporter": "python",
      "file_extension": ".py"
    },
    "kernel_info": {
      "name": "python3-azureml"
    },
    "nteract": {
      "version": "nteract-front-end@1.0.0"
    },
    "microsoft": {
      "host": {
        "AzureML": {
          "notebookHasBeenCompleted": true
        }
      }
    }
  },
  "nbformat": 4,
  "nbformat_minor": 2
}