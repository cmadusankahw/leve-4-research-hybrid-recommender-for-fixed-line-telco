{
  "cells": [
    {
      "cell_type": "code",
      "source": [
        "# import libraries\n",
        "import numpy as np\n",
        "import pandas as pd\n",
        "import seaborn as sns\n",
        "import matplotlib.pyplot as plt\n",
        "from sklearn.preprocessing import MinMaxScaler\n",
        "from sklearn.decomposition import PCA"
      ],
      "outputs": [],
      "execution_count": 1,
      "metadata": {
        "gather": {
          "logged": 1642994645097
        }
      }
    },
    {
      "cell_type": "code",
      "source": [
        "user_profile = pd.read_csv(\"data/User_Profile_Null_Handled.csv\")\n",
        "user_packages = pd.read_csv(\"data/PEO_TV_Usage_CF.csv\")\n",
        "product_profile = pd.read_csv(\"data/Product_Profile_Finalised_CSV.csv\")\n",
        "account_no_map = pd.read_csv(\"data/account_no_map_all.csv\")"
      ],
      "outputs": [],
      "execution_count": 2,
      "metadata": {
        "gather": {
          "logged": 1642994648754
        }
      }
    },
    {
      "cell_type": "code",
      "source": [
        "try:\n",
        "    user_profile.drop([\"Unnamed: 0\"],axis=1,inplace=True)\n",
        "    user_packages.drop([\"Unnamed: 0\"],axis=1,inplace=True)\n",
        "    account_no_map.drop([\"Unnamed: 0\"],axis=1,inplace=True)\n",
        "    product_profile.drop([\"Unnamed: 0\"],axis=1,inplace=True)\n",
        "except:\n",
        "    pass"
      ],
      "outputs": [],
      "execution_count": 3,
      "metadata": {
        "gather": {
          "logged": 1642994648831
        }
      }
    },
    {
      "cell_type": "code",
      "source": [
        "user_profile = user_profile[(user_profile[\"Peo_TV_Package\"] != \"NO_INFO\")]\n",
        "user_profile.reset_index(drop=True, inplace=True)"
      ],
      "outputs": [],
      "execution_count": 4,
      "metadata": {
        "gather": {
          "logged": 1642994648926
        }
      }
    },
    {
      "cell_type": "code",
      "source": [
        "rat_df = user_packages.merge(account_no_map, how=\"left\", on=\"event_source.hash\")\n",
        "rat_df.rename(columns={\"Peo_TV_Package\":\"package\",\"rating\":\"ratings\"}, inplace=True)\n",
        "rat_df = rat_df.merge(user_profile, how=\"left\", on=\"ACCOUNT_NUM.hash\")\n",
        "rat_df.dropna(subset=[\"ACCOUNT_NUM.hash\",\"package\"], inplace=True)"
      ],
      "outputs": [],
      "execution_count": 5,
      "metadata": {
        "jupyter": {
          "source_hidden": false,
          "outputs_hidden": false
        },
        "nteract": {
          "transient": {
            "deleting": false
          }
        },
        "gather": {
          "logged": 1642994656034
        }
      }
    },
    {
      "cell_type": "markdown",
      "source": [
        "## User Profile - Extra Channels Analysis"
      ],
      "metadata": {
        "nteract": {
          "transient": {
            "deleting": false
          }
        }
      }
    },
    {
      "cell_type": "code",
      "source": [
        "peo_channels = pd.read_csv(\"data/peo_tv_additional_channels.csv\")"
      ],
      "outputs": [],
      "execution_count": 6,
      "metadata": {
        "jupyter": {
          "source_hidden": false,
          "outputs_hidden": false
        },
        "nteract": {
          "transient": {
            "deleting": false
          }
        },
        "gather": {
          "logged": 1642994658498
        }
      }
    },
    {
      "cell_type": "code",
      "source": [
        "peo_channels.rename(columns={\"account_num.hash\":\"ACCOUNT_NUM.hash\",\"event_cost\":\"purchase_amount\",\"ym\":\"year-month\"}, inplace=True)\n",
        "\n",
        "\n",
        "# group by event source for recs\n",
        "peo_channels_grouped = peo_channels.groupby(\"event_source.hash\").agg({\"purchase_amount\":\"sum\",\"additional_purchases\":\"list\",\"year-month\":\"list\"})"
      ],
      "outputs": [
        {
          "output_type": "execute_result",
          "execution_count": 7,
          "data": {
            "text/plain": "                  customer_ref.hash                  account_num.hash  \\\n0  30d92f3234502aa29fddeb85451bb11d  7bf40d4fb27b069d9b9d57718c5b78bd   \n1  babd7b82d3def74a3a0022c148c32820  6e37fe98a82c56171b2d1642de3a0b59   \n2  f063445aff8737a6f29a30082e690676  9fcb61d3a0f5492c273fa0f52b487564   \n3  40541b62b987a79c298fc776a3042b59  48f757ddff3d918e55b6eb560ee9d50a   \n4  53e731fc543b60a84a057f8b93d9d691  c442307531804e8d51ba0cd7c8121da8   \n\n                  event_source.hash                product_label.hash  \\\n0  34faa3cf16bc3a3663ce84ed541de394  d605e69c936889547145e3ee8989da81   \n1  9a02350a1f9c6b9d898a60280daea1ae  23ab4c8012bccf75355ada214b8e777e   \n2  1531a418f99a5cdee3ee942d60113021  c5e8ece824b77cfb143d4d24e8d668bd   \n3  3319a6629eb01aca2911ad53630a3485  ccf03947e17bad6bf04db9136f091f46   \n4  7afce64a542cd00ed38e6049f1cba233  c8fb9e9559039eb868ad0a8ed1027426   \n\n            additional_purchases  event_cost      ym  \n0                        SET Max          50  202101  \n1                       Sony Six         125  202001  \n2                          Nflix          50  202010  \n3  Star Plus+Star Bharat Bouquet          99  202002  \n4                    Star Movies          50  202103  ",
            "text/html": "<div>\n<style scoped>\n    .dataframe tbody tr th:only-of-type {\n        vertical-align: middle;\n    }\n\n    .dataframe tbody tr th {\n        vertical-align: top;\n    }\n\n    .dataframe thead th {\n        text-align: right;\n    }\n</style>\n<table border=\"1\" class=\"dataframe\">\n  <thead>\n    <tr style=\"text-align: right;\">\n      <th></th>\n      <th>customer_ref.hash</th>\n      <th>account_num.hash</th>\n      <th>event_source.hash</th>\n      <th>product_label.hash</th>\n      <th>additional_purchases</th>\n      <th>event_cost</th>\n      <th>ym</th>\n    </tr>\n  </thead>\n  <tbody>\n    <tr>\n      <th>0</th>\n      <td>30d92f3234502aa29fddeb85451bb11d</td>\n      <td>7bf40d4fb27b069d9b9d57718c5b78bd</td>\n      <td>34faa3cf16bc3a3663ce84ed541de394</td>\n      <td>d605e69c936889547145e3ee8989da81</td>\n      <td>SET Max</td>\n      <td>50</td>\n      <td>202101</td>\n    </tr>\n    <tr>\n      <th>1</th>\n      <td>babd7b82d3def74a3a0022c148c32820</td>\n      <td>6e37fe98a82c56171b2d1642de3a0b59</td>\n      <td>9a02350a1f9c6b9d898a60280daea1ae</td>\n      <td>23ab4c8012bccf75355ada214b8e777e</td>\n      <td>Sony Six</td>\n      <td>125</td>\n      <td>202001</td>\n    </tr>\n    <tr>\n      <th>2</th>\n      <td>f063445aff8737a6f29a30082e690676</td>\n      <td>9fcb61d3a0f5492c273fa0f52b487564</td>\n      <td>1531a418f99a5cdee3ee942d60113021</td>\n      <td>c5e8ece824b77cfb143d4d24e8d668bd</td>\n      <td>Nflix</td>\n      <td>50</td>\n      <td>202010</td>\n    </tr>\n    <tr>\n      <th>3</th>\n      <td>40541b62b987a79c298fc776a3042b59</td>\n      <td>48f757ddff3d918e55b6eb560ee9d50a</td>\n      <td>3319a6629eb01aca2911ad53630a3485</td>\n      <td>ccf03947e17bad6bf04db9136f091f46</td>\n      <td>Star Plus+Star Bharat Bouquet</td>\n      <td>99</td>\n      <td>202002</td>\n    </tr>\n    <tr>\n      <th>4</th>\n      <td>53e731fc543b60a84a057f8b93d9d691</td>\n      <td>c442307531804e8d51ba0cd7c8121da8</td>\n      <td>7afce64a542cd00ed38e6049f1cba233</td>\n      <td>c8fb9e9559039eb868ad0a8ed1027426</td>\n      <td>Star Movies</td>\n      <td>50</td>\n      <td>202103</td>\n    </tr>\n  </tbody>\n</table>\n</div>"
          },
          "metadata": {}
        }
      ],
      "execution_count": 7,
      "metadata": {
        "jupyter": {
          "source_hidden": false,
          "outputs_hidden": false
        },
        "nteract": {
          "transient": {
            "deleting": false
          }
        },
        "gather": {
          "logged": 1642994660153
        }
      }
    },
    {
      "cell_type": "code",
      "source": [
        "len(peo_channels[\"account_num.hash\"].unique())"
      ],
      "outputs": [
        {
          "output_type": "execute_result",
          "execution_count": 9,
          "data": {
            "text/plain": "15413"
          },
          "metadata": {}
        }
      ],
      "execution_count": 9,
      "metadata": {
        "jupyter": {
          "source_hidden": false,
          "outputs_hidden": false
        },
        "nteract": {
          "transient": {
            "deleting": false
          }
        },
        "gather": {
          "logged": 1642972404661
        }
      }
    },
    {
      "cell_type": "code",
      "source": [],
      "outputs": [],
      "execution_count": null,
      "metadata": {
        "jupyter": {
          "source_hidden": false,
          "outputs_hidden": false
        },
        "nteract": {
          "transient": {
            "deleting": false
          }
        }
      }
    },
    {
      "cell_type": "markdown",
      "source": [
        "## User - package ratings"
      ],
      "metadata": {}
    },
    {
      "cell_type": "markdown",
      "source": [
        "PCA Ratings Calculation"
      ],
      "metadata": {
        "nteract": {
          "transient": {
            "deleting": false
          }
        }
      }
    },
    {
      "cell_type": "code",
      "source": [
        "data_dim=rat_df.iloc[:,[28,77,80]]\n",
        "data_dim.fillna(0, inplace=True)\n",
        "\n",
        "### Run PCA on the data and reduce the dimensions in pca_num_components dimensions\n",
        "pca = PCA(n_components=1)\n",
        "pca.fit(data_dim)\n",
        "reduced_data = pca.fit_transform(data_dim)\n",
        "results_df = pd.DataFrame(reduced_data,columns=['pca_ratings'])\n",
        "\n",
        "scaler = MinMaxScaler()\n",
        "results_df['pca_ratings'] = scaler.fit_transform(results_df['pca_ratings'].values.reshape(-1,1))"
      ],
      "outputs": [
        {
          "output_type": "stream",
          "name": "stderr",
          "text": "/anaconda/envs/azureml_py36/lib/python3.6/site-packages/pandas/core/frame.py:4327: SettingWithCopyWarning: \nA value is trying to be set on a copy of a slice from a DataFrame\n\nSee the caveats in the documentation: https://pandas.pydata.org/pandas-docs/stable/user_guide/indexing.html#returning-a-view-versus-a-copy\n  downcast=downcast,\n"
        }
      ],
      "execution_count": 84,
      "metadata": {
        "jupyter": {
          "source_hidden": false,
          "outputs_hidden": false
        },
        "nteract": {
          "transient": {
            "deleting": false
          }
        },
        "gather": {
          "logged": 1642961183298
        }
      }
    },
    {
      "cell_type": "markdown",
      "source": [
        "Service Usage based Ratings"
      ],
      "metadata": {
        "nteract": {
          "transient": {
            "deleting": false
          }
        }
      }
    },
    {
      "cell_type": "code",
      "source": [
        "rating_df=rat_df.iloc[:,[5,1,2]]\n",
        "rating_df=pd.concat([rating_df,results_df],axis=1)\n",
        "rating_df.rename(columns={'usage':'ratings'},inplace=True)\n",
        "rating_df.dropna(subset=[\"ACCOUNT_NUM.hash\",\"package\",\"ratings\"], inplace = True)\n",
        "rating_df.drop_duplicates(subset=[\"ACCOUNT_NUM.hash\",\"package\",\"ratings\"], inplace = True)"
      ],
      "outputs": [],
      "execution_count": 85,
      "metadata": {
        "gather": {
          "logged": 1642961186269
        }
      }
    },
    {
      "cell_type": "code",
      "source": [
        "rating_df.info()"
      ],
      "outputs": [
        {
          "output_type": "stream",
          "name": "stdout",
          "text": "<class 'pandas.core.frame.DataFrame'>\nInt64Index: 179895 entries, 0 to 208857\nData columns (total 4 columns):\n #   Column            Non-Null Count   Dtype  \n---  ------            --------------   -----  \n 0   ACCOUNT_NUM.hash  179894 non-null  object \n 1   ratings           179894 non-null  float64\n 2   package           179894 non-null  object \n 3   pca_ratings       159415 non-null  float64\ndtypes: float64(2), object(2)\nmemory usage: 6.9+ MB\n"
        }
      ],
      "execution_count": 86,
      "metadata": {
        "gather": {
          "logged": 1642961188549
        }
      }
    },
    {
      "cell_type": "code",
      "source": [
        "rating_df.to_csv(\"data/up-selling/peotv/peoTV_user_ratings.csv\")"
      ],
      "outputs": [],
      "execution_count": 87,
      "metadata": {
        "gather": {
          "logged": 1642961233283
        }
      }
    },
    {
      "cell_type": "markdown",
      "source": [
        "## User content"
      ],
      "metadata": {}
    },
    {
      "cell_type": "code",
      "source": [
        "user_df=user_profile.iloc[:,[0,2,4,6,7,9,10,12,13,15,16,17,19,20,22,28,29,30,32,33,41,44,48,53,57,58,61,69,71,72,74,76,78,80,82,84]]"
      ],
      "outputs": [],
      "execution_count": 40,
      "metadata": {}
    },
    {
      "cell_type": "markdown",
      "source": [
        "### Handeling Null Values"
      ],
      "metadata": {}
    },
    {
      "cell_type": "code",
      "source": [
        "# Only for derived cols\n",
        "# cat_cols = ['Tamil_Customer', 'Having_Insurance', \"Peo_Extra_Channels_Purchased_Categorical\"]\n",
        "cat_cols = user_df.select_dtypes(include='object').columns\n",
        "user_df[cat_cols] = user_df[cat_cols].fillna(\"NO_INFO\")\n",
        "\n",
        "#voice_udf[scaled_cols] = voice_udf[scaled_cols].fillna(0)"
      ],
      "outputs": [],
      "execution_count": 41,
      "metadata": {}
    },
    {
      "cell_type": "code",
      "source": [
        "zero_cols = [\"BB_Scaled\",\"Peo_Extra_Channels_Purchased_Scaled\",\"IDD_INCOMING_Scaled\",\"IDD_OUTGOING_Scaled\"]\n",
        "user_df[zero_cols] = user_df[zero_cols].fillna(0)"
      ],
      "outputs": [],
      "execution_count": 42,
      "metadata": {}
    },
    {
      "cell_type": "code",
      "source": [
        "mean_cols = [\"OFFNET_INCOMING_Scaled\",\"OFFNET_OUTGOING_Scaled\",\"ONNET_INCOMING_Scaled\",\"ONNET_OUTGOING_Scaled\"]\n",
        "for col in mean_cols:\n",
        "    user_df[col] = user_df[col].fillna(user_df[col].mean())"
      ],
      "outputs": [
        {
          "output_type": "stream",
          "name": "stderr",
          "text": "<ipython-input-43-2051c999fa4e>:3: SettingWithCopyWarning: \nA value is trying to be set on a copy of a slice from a DataFrame.\nTry using .loc[row_indexer,col_indexer] = value instead\n\nSee the caveats in the documentation: https://pandas.pydata.org/pandas-docs/stable/user_guide/indexing.html#returning-a-view-versus-a-copy\n  user_df[col] = user_df[col].fillna(user_df[col].mean())\n"
        }
      ],
      "execution_count": 43,
      "metadata": {}
    },
    {
      "cell_type": "code",
      "source": [
        "user_df.info()"
      ],
      "outputs": [
        {
          "output_type": "stream",
          "name": "stdout",
          "text": "<class 'pandas.core.frame.DataFrame'>\nRangeIndex: 1142 entries, 0 to 1141\nData columns (total 36 columns):\n #   Column                               Non-Null Count  Dtype  \n---  ------                               --------------  -----  \n 0   ACCOUNT_NUM.hash                     1142 non-null   object \n 1   OFFNET_INCOMING_Scaled               1142 non-null   float64\n 2   OFFNET_INCOMING_Outlier              1142 non-null   object \n 3   OFFNET_OUTGOING_Scaled               1142 non-null   float64\n 4   OFFNET_OUTGOING_Outlier              1142 non-null   object \n 5   ONNET_INCOMING_Scaled                1142 non-null   float64\n 6   ONNET_INCOMING_Outlier               1142 non-null   object \n 7   ONNET_OUTGOING_Scaled                1142 non-null   float64\n 8   ONNET_OUTGOING_Outlier               1142 non-null   object \n 9   IDD_INCOMING_Scaled                  1142 non-null   float64\n 10  IDD_INCOMING_Outlier                 1142 non-null   object \n 11  IDD_incoming_country                 1142 non-null   object \n 12  IDD_OUTGOING_Scaled                  1142 non-null   float64\n 13  IDD_OUTGOING_Outlier                 1142 non-null   object \n 14  IDD_outgoing_country                 1142 non-null   object \n 15  BB_Scaled                            1142 non-null   float64\n 16  BB_Package                           1142 non-null   object \n 17  TARIFF_NAME                          1142 non-null   object \n 18  Location_Identifier                  1142 non-null   object \n 19  GENDER                               1142 non-null   object \n 20  Sub_Type                             1142 non-null   object \n 21  Megaline_Package                     1142 non-null   object \n 22  Package_Type                         1142 non-null   object \n 23  VAS_Package                          1142 non-null   object \n 24  Product_Type                         1142 non-null   object \n 25  MEDIUM                               1142 non-null   object \n 26  Sub_Update                           1142 non-null   object \n 27  Peo_Extra_Channels_Purchased_Scaled  1142 non-null   float64\n 28  Having_Insurance                     1142 non-null   object \n 29  Having_Senior_Citizen_Scaled         1142 non-null   float64\n 30  Having_Kids_at_Home_Scaled           1142 non-null   float64\n 31  SMEs_Scaled                          1142 non-null   float64\n 32  Having_Teenagers_Students_Scaled     1142 non-null   float64\n 33  Having_Working_Professionals_Scaled  1142 non-null   float64\n 34  Having_Family_Member_Abroad_Scaled   1142 non-null   float64\n 35  Tamil_Customer                       1142 non-null   object \ndtypes: float64(14), object(22)\nmemory usage: 321.3+ KB\n"
        }
      ],
      "execution_count": 44,
      "metadata": {}
    },
    {
      "cell_type": "code",
      "source": [
        "user_df.to_csv(\"data/azure/peoTV_user_content.csv\")"
      ],
      "outputs": [],
      "execution_count": 45,
      "metadata": {}
    },
    {
      "cell_type": "markdown",
      "source": [
        "## Product (package) content"
      ],
      "metadata": {}
    },
    {
      "cell_type": "code",
      "source": [
        "product_df=product_profile.iloc[:,[0,1,2,3,5,6,14,15,23,24,25,26,27,28,29,30,31,32,33,34,35,37,38,39]]\n",
        "product_df.info()"
      ],
      "outputs": [
        {
          "output_type": "stream",
          "name": "stdout",
          "text": "<class 'pandas.core.frame.DataFrame'>\nRangeIndex: 263 entries, 0 to 262\nData columns (total 24 columns):\n #   Column                      Non-Null Count  Dtype  \n---  ------                      --------------  -----  \n 0   Product_ID                  263 non-null    object \n 1   Base_Type                   241 non-null    object \n 2   Pricing_Type                134 non-null    object \n 3   Package_Type                134 non-null    object \n 4   Title                       134 non-null    object \n 5   Description                 47 non-null     object \n 6   Price                       133 non-null    object \n 7   Monthly_Rental              141 non-null    float64\n 8   PEOTV_No_of_Channels        8 non-null      float64\n 9   PEOTV_Foreign_Channels      8 non-null      float64\n 10  PEOTV_Local_Channels        8 non-null      float64\n 11  PEOTV_Movie_Channels        8 non-null      float64\n 12  PEOTV_Kids_Channels         8 non-null      float64\n 13  PEOTV_Religious_Channels    8 non-null      float64\n 14  PEOTV_Tamil_Channels        8 non-null      float64\n 15  PEOTV_Educational_Channels  8 non-null      float64\n 16  PEOTV_Music_Channels        8 non-null      float64\n 17  PEOTV_Sports_Channels       8 non-null      float64\n 18  PEOTV_News_Channels         8 non-null      float64\n 19  PEOTV_HD_Pack               22 non-null     object \n 20  Subscription_Type           151 non-null    object \n 21  Recidence_Type              134 non-null    object \n 22  Tax_Status                  131 non-null    object \n 23  Conditions                  131 non-null    object \ndtypes: float64(12), object(12)\nmemory usage: 49.4+ KB\n"
        }
      ],
      "execution_count": 47,
      "metadata": {}
    },
    {
      "cell_type": "code",
      "source": [
        "temp_package_df=rating_df[\"package\"]"
      ],
      "outputs": [],
      "execution_count": 48,
      "metadata": {}
    },
    {
      "cell_type": "code",
      "source": [
        "peo_tv_products_df = product_df.merge(temp_package_df.drop_duplicates(), left_on=['Product_ID'], right_on=['package'] ,\n",
        "                   how='left', indicator=True)"
      ],
      "outputs": [],
      "execution_count": 49,
      "metadata": {}
    },
    {
      "cell_type": "code",
      "source": [
        "product_df = peo_tv_products_df[(peo_tv_products_df[\"_merge\"]==\"both\")]"
      ],
      "outputs": [],
      "execution_count": 50,
      "metadata": {}
    },
    {
      "cell_type": "code",
      "source": [
        "product_df.drop([\"package\",\"_merge\"],axis=1,inplace=True)\n",
        "product_df.rename(columns={'Product_ID':'package'},inplace=True)\n",
        "product_df.reset_index(drop=True, inplace=True)"
      ],
      "outputs": [
        {
          "output_type": "stream",
          "name": "stderr",
          "text": "C:\\ProgramData\\Anaconda3\\lib\\site-packages\\pandas\\core\\frame.py:4308: SettingWithCopyWarning: \nA value is trying to be set on a copy of a slice from a DataFrame\n\nSee the caveats in the documentation: https://pandas.pydata.org/pandas-docs/stable/user_guide/indexing.html#returning-a-view-versus-a-copy\n  return super().drop(\nC:\\ProgramData\\Anaconda3\\lib\\site-packages\\pandas\\core\\frame.py:4441: SettingWithCopyWarning: \nA value is trying to be set on a copy of a slice from a DataFrame\n\nSee the caveats in the documentation: https://pandas.pydata.org/pandas-docs/stable/user_guide/indexing.html#returning-a-view-versus-a-copy\n  return super().rename(\n"
        }
      ],
      "execution_count": 51,
      "metadata": {}
    },
    {
      "cell_type": "code",
      "source": [
        "product_df.info()"
      ],
      "outputs": [
        {
          "output_type": "stream",
          "name": "stdout",
          "text": "<class 'pandas.core.frame.DataFrame'>\nRangeIndex: 19 entries, 0 to 18\nData columns (total 24 columns):\n #   Column                      Non-Null Count  Dtype  \n---  ------                      --------------  -----  \n 0   package                     19 non-null     object \n 1   Base_Type                   19 non-null     object \n 2   Pricing_Type                19 non-null     object \n 3   Package_Type                19 non-null     object \n 4   Title                       19 non-null     object \n 5   Description                 19 non-null     object \n 6   Price                       19 non-null     object \n 7   Monthly_Rental              8 non-null      float64\n 8   PEOTV_No_of_Channels        8 non-null      float64\n 9   PEOTV_Foreign_Channels      8 non-null      float64\n 10  PEOTV_Local_Channels        8 non-null      float64\n 11  PEOTV_Movie_Channels        8 non-null      float64\n 12  PEOTV_Kids_Channels         8 non-null      float64\n 13  PEOTV_Religious_Channels    8 non-null      float64\n 14  PEOTV_Tamil_Channels        8 non-null      float64\n 15  PEOTV_Educational_Channels  8 non-null      float64\n 16  PEOTV_Music_Channels        8 non-null      float64\n 17  PEOTV_Sports_Channels       8 non-null      float64\n 18  PEOTV_News_Channels         8 non-null      float64\n 19  PEOTV_HD_Pack               19 non-null     object \n 20  Subscription_Type           19 non-null     object \n 21  Recidence_Type              19 non-null     object \n 22  Tax_Status                  19 non-null     object \n 23  Conditions                  19 non-null     object \ndtypes: float64(12), object(12)\nmemory usage: 3.7+ KB\n"
        }
      ],
      "execution_count": 52,
      "metadata": {}
    },
    {
      "cell_type": "code",
      "source": [
        "cols =[\"PEOTV_Foreign_Channels\",\"PEOTV_Local_Channels\",\"PEOTV_Movie_Channels\",\"PEOTV_Kids_Channels\",\"PEOTV_Religious_Channels\",\"PEOTV_Tamil_Channels\",\"PEOTV_Educational_Channels\",\"PEOTV_Music_Channels\",\"PEOTV_Sports_Channels\",\"PEOTV_News_Channels\"]"
      ],
      "outputs": [],
      "execution_count": 53,
      "metadata": {}
    },
    {
      "cell_type": "code",
      "source": [
        "product_df[cols] = product_df[cols].fillna(0)"
      ],
      "outputs": [],
      "execution_count": 54,
      "metadata": {}
    },
    {
      "cell_type": "code",
      "source": [
        "product_df[[\"PEOTV_No_of_Channels\",\"Monthly_Rental\"]] = product_df[[\"PEOTV_No_of_Channels\",\"Monthly_Rental\"]].fillna(0)"
      ],
      "outputs": [],
      "execution_count": 55,
      "metadata": {}
    },
    {
      "cell_type": "code",
      "source": [
        "scaler = MinMaxScaler()\n",
        "for col in cols:\n",
        "    product_df[col] = scaler.fit_transform(product_df[col].values.reshape(-1,1))"
      ],
      "outputs": [
        {
          "output_type": "stream",
          "name": "stderr",
          "text": "<ipython-input-56-d12fe4e48441>:3: SettingWithCopyWarning: \nA value is trying to be set on a copy of a slice from a DataFrame.\nTry using .loc[row_indexer,col_indexer] = value instead\n\nSee the caveats in the documentation: https://pandas.pydata.org/pandas-docs/stable/user_guide/indexing.html#returning-a-view-versus-a-copy\n  product_df[col] = scaler.fit_transform(product_df[col].values.reshape(-1,1))\n<ipython-input-56-d12fe4e48441>:3: SettingWithCopyWarning: \nA value is trying to be set on a copy of a slice from a DataFrame.\nTry using .loc[row_indexer,col_indexer] = value instead\n\nSee the caveats in the documentation: https://pandas.pydata.org/pandas-docs/stable/user_guide/indexing.html#returning-a-view-versus-a-copy\n  product_df[col] = scaler.fit_transform(product_df[col].values.reshape(-1,1))\n<ipython-input-56-d12fe4e48441>:3: SettingWithCopyWarning: \nA value is trying to be set on a copy of a slice from a DataFrame.\nTry using .loc[row_indexer,col_indexer] = value instead\n\nSee the caveats in the documentation: https://pandas.pydata.org/pandas-docs/stable/user_guide/indexing.html#returning-a-view-versus-a-copy\n  product_df[col] = scaler.fit_transform(product_df[col].values.reshape(-1,1))\n<ipython-input-56-d12fe4e48441>:3: SettingWithCopyWarning: \nA value is trying to be set on a copy of a slice from a DataFrame.\nTry using .loc[row_indexer,col_indexer] = value instead\n\nSee the caveats in the documentation: https://pandas.pydata.org/pandas-docs/stable/user_guide/indexing.html#returning-a-view-versus-a-copy\n  product_df[col] = scaler.fit_transform(product_df[col].values.reshape(-1,1))\n<ipython-input-56-d12fe4e48441>:3: SettingWithCopyWarning: \nA value is trying to be set on a copy of a slice from a DataFrame.\nTry using .loc[row_indexer,col_indexer] = value instead\n\nSee the caveats in the documentation: https://pandas.pydata.org/pandas-docs/stable/user_guide/indexing.html#returning-a-view-versus-a-copy\n  product_df[col] = scaler.fit_transform(product_df[col].values.reshape(-1,1))\n<ipython-input-56-d12fe4e48441>:3: SettingWithCopyWarning: \nA value is trying to be set on a copy of a slice from a DataFrame.\nTry using .loc[row_indexer,col_indexer] = value instead\n\nSee the caveats in the documentation: https://pandas.pydata.org/pandas-docs/stable/user_guide/indexing.html#returning-a-view-versus-a-copy\n  product_df[col] = scaler.fit_transform(product_df[col].values.reshape(-1,1))\n<ipython-input-56-d12fe4e48441>:3: SettingWithCopyWarning: \nA value is trying to be set on a copy of a slice from a DataFrame.\nTry using .loc[row_indexer,col_indexer] = value instead\n\nSee the caveats in the documentation: https://pandas.pydata.org/pandas-docs/stable/user_guide/indexing.html#returning-a-view-versus-a-copy\n  product_df[col] = scaler.fit_transform(product_df[col].values.reshape(-1,1))\n<ipython-input-56-d12fe4e48441>:3: SettingWithCopyWarning: \nA value is trying to be set on a copy of a slice from a DataFrame.\nTry using .loc[row_indexer,col_indexer] = value instead\n\nSee the caveats in the documentation: https://pandas.pydata.org/pandas-docs/stable/user_guide/indexing.html#returning-a-view-versus-a-copy\n  product_df[col] = scaler.fit_transform(product_df[col].values.reshape(-1,1))\n<ipython-input-56-d12fe4e48441>:3: SettingWithCopyWarning: \nA value is trying to be set on a copy of a slice from a DataFrame.\nTry using .loc[row_indexer,col_indexer] = value instead\n\nSee the caveats in the documentation: https://pandas.pydata.org/pandas-docs/stable/user_guide/indexing.html#returning-a-view-versus-a-copy\n  product_df[col] = scaler.fit_transform(product_df[col].values.reshape(-1,1))\n<ipython-input-56-d12fe4e48441>:3: SettingWithCopyWarning: \nA value is trying to be set on a copy of a slice from a DataFrame.\nTry using .loc[row_indexer,col_indexer] = value instead\n\nSee the caveats in the documentation: https://pandas.pydata.org/pandas-docs/stable/user_guide/indexing.html#returning-a-view-versus-a-copy\n  product_df[col] = scaler.fit_transform(product_df[col].values.reshape(-1,1))\n"
        }
      ],
      "execution_count": 56,
      "metadata": {}
    },
    {
      "cell_type": "code",
      "source": [
        "product_df.info()"
      ],
      "outputs": [
        {
          "output_type": "stream",
          "name": "stdout",
          "text": "<class 'pandas.core.frame.DataFrame'>\nRangeIndex: 19 entries, 0 to 18\nData columns (total 24 columns):\n #   Column                      Non-Null Count  Dtype  \n---  ------                      --------------  -----  \n 0   package                     19 non-null     object \n 1   Base_Type                   19 non-null     object \n 2   Pricing_Type                19 non-null     object \n 3   Package_Type                19 non-null     object \n 4   Title                       19 non-null     object \n 5   Description                 19 non-null     object \n 6   Price                       19 non-null     object \n 7   Monthly_Rental              19 non-null     float64\n 8   PEOTV_No_of_Channels        19 non-null     float64\n 9   PEOTV_Foreign_Channels      19 non-null     float64\n 10  PEOTV_Local_Channels        19 non-null     float64\n 11  PEOTV_Movie_Channels        19 non-null     float64\n 12  PEOTV_Kids_Channels         19 non-null     float64\n 13  PEOTV_Religious_Channels    19 non-null     float64\n 14  PEOTV_Tamil_Channels        19 non-null     float64\n 15  PEOTV_Educational_Channels  19 non-null     float64\n 16  PEOTV_Music_Channels        19 non-null     float64\n 17  PEOTV_Sports_Channels       19 non-null     float64\n 18  PEOTV_News_Channels         19 non-null     float64\n 19  PEOTV_HD_Pack               19 non-null     object \n 20  Subscription_Type           19 non-null     object \n 21  Recidence_Type              19 non-null     object \n 22  Tax_Status                  19 non-null     object \n 23  Conditions                  19 non-null     object \ndtypes: float64(12), object(12)\nmemory usage: 3.7+ KB\n"
        }
      ],
      "execution_count": 60,
      "metadata": {}
    },
    {
      "cell_type": "code",
      "source": [
        "product_df.to_csv(\"data/azure/peoTV_package_content.csv\")"
      ],
      "outputs": [],
      "execution_count": 58,
      "metadata": {}
    },
    {
      "cell_type": "code",
      "source": [],
      "outputs": [],
      "execution_count": null,
      "metadata": {}
    }
  ],
  "metadata": {
    "kernelspec": {
      "name": "python3",
      "language": "python",
      "display_name": "Python 3"
    },
    "language_info": {
      "name": "python",
      "version": "3.6.9",
      "mimetype": "text/x-python",
      "codemirror_mode": {
        "name": "ipython",
        "version": 3
      },
      "pygments_lexer": "ipython3",
      "nbconvert_exporter": "python",
      "file_extension": ".py"
    },
    "kernel_info": {
      "name": "python3"
    },
    "nteract": {
      "version": "nteract-front-end@1.0.0"
    }
  },
  "nbformat": 4,
  "nbformat_minor": 4
}