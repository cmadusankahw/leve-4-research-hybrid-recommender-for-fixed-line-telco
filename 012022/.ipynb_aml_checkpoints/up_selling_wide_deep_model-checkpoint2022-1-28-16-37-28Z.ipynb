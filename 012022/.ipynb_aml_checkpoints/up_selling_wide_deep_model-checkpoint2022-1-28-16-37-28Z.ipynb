{
  "cells": [
    {
      "cell_type": "code",
      "source": [
        "import pandas as pd\n",
        "import numpy as np\n",
        "import torch\n",
        "\n",
        "from collections import namedtuple\n",
        "from itertools import chain\n",
        "from sklearn.preprocessing import StandardScaler, PolynomialFeatures, LabelEncoder, OneHotEncoder\n",
        "from sklearn.model_selection import train_test_split\n",
        "from sklearn.metrics import mean_absolute_error, mean_squared_error\n",
        "\n",
        "import torch.autograd as autograd\n",
        "import torch.nn as nn\n",
        "import torch.nn.functional as F\n",
        "import torch.optim as optim\n",
        "from torch.autograd import Variable\n",
        "from torch.utils.data import Dataset, DataLoader\n",
        "\n",
        "import seaborn as sns\n",
        "import matplotlib.pyplot as plt\n",
        "%matplotlib inline"
      ],
      "outputs": [],
      "execution_count": 1,
      "metadata": {
        "id": "eRA3EvE7miSw",
        "gather": {
          "logged": 1646065850691
        }
      }
    },
    {
      "cell_type": "code",
      "source": [
        "users = pd.read_csv(\"data/up-selling/peotv/peoTV_user_content.csv\")\n",
        "ratings = pd.read_csv(\"data/up-selling/peotv/azure/peoTV_user_ratings.csv\")\n",
        "packages = pd.read_csv(\"data/up-selling/peotv/peoTV_package_content.csv\")"
      ],
      "outputs": [],
      "execution_count": null,
      "metadata": {
        "id": "5iFR9S3tmiS7",
        "gather": {
          "logged": 1646065880482
        }
      }
    },
    {
      "cell_type": "code",
      "source": [
        "USER_COLUMNS = [ \"ACCOUNT_NUM.hash\", \"Voice_INCOMING_Scaled\", \n",
        "            \"Location_Identifier\", \"Location_Node\",  \"Package_Type_and_Medium\", \"Model\", \"Service_Status\",\n",
        "            \"Voice_OUTGOING_Scaled\", \"IDD_INCOMING_Scaled\", \"IDD_incoming_country\",\n",
        "            \"IDD_OUTGOING_Scaled\", \"IDD_outgoing_country\", \"BB_Scaled\", \"BB_Package\", \"GENDER\", \"AGE\",\n",
        "            \"Subscription\", \"Sub_Type\", \"Sub_Usage\", \"Sub_Type_State\", \"Megaline_Package\", \n",
        "            \"Megaline_Medium\", \"Megaline_Rental_Scaled\", \"FTTH_Package\",\n",
        "            \"FTTH_Month_Subscribed\", \"FTTH_Medium\", \"FTTH_Rental_Scaled\", \"LTE_Package\", \"LTE_Medium\",\"LTE_Rental_Scaled\",\n",
        "            \"VAS_Package\", \"Product_Type\", \"VAS_Medium\", \"VAS_Rental_Scaled\", \"Sub_Update_Status\", \"Sub_Update\",\n",
        "            \"BB_Extra_GB_Amount\", \"BB_Extra_GB_Hour_Subscribed\", \"BB_Extra_GB_Usage_Times\",\n",
        "            \"BB_Extra_GB_Purchased_Scaled\", \"BB_Extra_GB_Subscribed_Night\" ,\"BB_Extra_GB_Subscribed_Day\",\n",
        "            \"BB_Extra_GB_Rental_Scaled\", \"Peo_Extra_Channels_Cumulative_Rental\", \"Peo_Extra_Channels_Purchased_Scaled\",\n",
        "            \"Peo_Extra_Channels_Purchased_Categorical\", \"Bill_Outstanding_Balance\", \"Bill_Billing_Status\",\n",
        "            \"Payment_Status\", \"Package_Formatted\", \"TARIFF_DESC\", \"TARIFF_NAME\", \"Having_Insurance\",\n",
        "            \"Having_Senior_Citizen_Scaled\",\"Having_Kids_at_Home_Scaled\",\"SMEs_Scaled\",\n",
        "            \"Having_Teenagers_Students_Scaled\",\"Having_Working_Professionals_Scaled\",\"Having_Family_Member_Abroad_Scaled\",\n",
        "            \"Tamil_Customer\"]\n",
        "\n",
        "PACKAGE_COLUMNS = [\"package\", 'Title', 'Price', 'Monthly_Rental',\n",
        "            'PEOTV_No_of_Channels', 'PEOTV_Foreign_Channels','PEOTV_Local_Channels', 'PEOTV_Movie_Channels', \n",
        "            'PEOTV_Kids_Channels','PEOTV_Religious_Channels', 'PEOTV_Tamil_Channels','PEOTV_Educational_Channels', \n",
        "            'PEOTV_Music_Channels','PEOTV_Sports_Channels', 'PEOTV_News_Channels', 'PEOTV_HD_Pack']\n",
        "\n",
        "LABEL_COLUMN = \"package\"\n",
        "USER_COULMN = \"user\"\n",
        "RATING_COLUMN = \"ratings\"\n",
        "OUTLIER_COLUMNS = [\"Voice_INCOMING_Outlier\",\"Voice_OUTGOING_Outlier\"]"
      ],
      "outputs": [],
      "execution_count": null,
      "metadata": {
        "id": "G4grH7JA5J2G",
        "gather": {
          "logged": 1646065886522
        }
      }
    },
    {
      "cell_type": "markdown",
      "source": [
        "Functions for Pre Processing"
      ],
      "metadata": {
        "id": "v1vluHgg2SIX"
      }
    },
    {
      "cell_type": "code",
      "source": [
        "# one hot encoder\n",
        "def oneHotEncoder(array_1d):\n",
        "    label = LabelEncoder().fit_transform(array_1d)\n",
        "    label = label.reshape(len(label), 1)\n",
        "    one_hot = OneHotEncoder(sparse=False).fit_transform(label)\n",
        "    return one_hot\n",
        "\n",
        "# min-max scaler\n",
        "def minMaxScale(array_2d):\n",
        "    return MinMaxScaler().fit_transform(array_2d)\n",
        "\n",
        "# Turkey's box-plot method to clip outliers\n",
        "def outliers(s, replace=np.nan):\n",
        "    Q1, Q3 = np.percentile(s, [25 ,75])\n",
        "    IQR = Q3-Q1\n",
        "    return s.where((s > (Q1 - 1.5 * IQR)) & (s < (Q3 + 1.5 * IQR)), replace)\n",
        "\n",
        "# clip outliers\n",
        "def drop_numerical_outliers(df, cols):\n",
        "  df[cols] = df[cols].apply(outliers)\n",
        "  return df\n",
        "\n",
        "# handle pre-defined outliers\n",
        "def handle_outliers(df, cols):\n",
        "  for col in cols:\n",
        "    df = df[(df[col] != \"YES\")]\n",
        "  return df\n",
        "\n",
        "# drop unwanted cols\n",
        "def drop_cols(df, columns):\n",
        "  cols_to_drop = []\n",
        "  for col in columns:\n",
        "    if col not in df.columns:\n",
        "      cols_to_drop.append(col)\n",
        "  return df.drop(cols_to_drop, axis=1)"
      ],
      "outputs": [],
      "execution_count": null,
      "metadata": {
        "id": "tX9WS7wN2Whv",
        "gather": {
          "logged": 1646065889794
        }
      }
    },
    {
      "cell_type": "markdown",
      "source": [
        "## Data Pre processing"
      ],
      "metadata": {
        "id": "0hNJM9tYmiS9"
      }
    },
    {
      "cell_type": "code",
      "source": [
        "try:\n",
        "  users.drop([\"Unnamed: 0\"], axis=1, inplace=True)\n",
        "  ratings.drop([\"Unnamed: 0\"], axis=1, inplace=True)\n",
        "  packages.drop([\"Unnamed: 0\"], axis=1, inplace=True)\n",
        "except:\n",
        "  pass\n",
        "\n",
        "# func to define labels based on most rated items\n",
        "# user_ratings[RANK_COLUMN] = user_ratings.groupby(\"ACCOUNT_NUM.hash\")['ratings'].rank(method='first', ascending=False)\n",
        "\n",
        "# drop unused columns for analysis\n",
        "users.drop(columns=[col for col in users if col not in USER_COLUMNS], inplace=True)\n",
        "packages.drop(columns=[col for col in packages if col not in PACKAGE_COLUMNS], inplace=True)\n",
        "\n",
        "users.rename(columns={\"ACCOUNT_NUM.hash\":USER_COULMN},inplace=True)\n",
        "ratings.rename(columns={\"ACCOUNT_NUM.hash\":USER_COULMN},inplace=True)\n",
        "ratings.sort_values(by=[USER_COULMN,RATING_COLUMN],inplace=True,ascending=False)"
      ],
      "outputs": [],
      "execution_count": null,
      "metadata": {
        "id": "Xr8eJxsL4xN9",
        "gather": {
          "logged": 1646065893604
        }
      }
    },
    {
      "cell_type": "code",
      "source": [
        "#Data quality\n",
        "print('Duplicated rows in ratings file: ' + str(ratings.duplicated().sum()))\n",
        "\n",
        "n_users = ratings[USER_COULMN].unique().shape[0]\n",
        "n_packages = ratings[LABEL_COLUMN].unique().shape[0]\n",
        "\n",
        "print('Number of users: {}'.format(n_users))\n",
        "print('Number of packages: {}'.format(n_packages))\n",
        "print('Sparsity: {:4.3f}%'.format(float(ratings.shape[0]) / float(n_users*n_packages) * 100))"
      ],
      "outputs": [],
      "execution_count": null,
      "metadata": {
        "colab": {
          "base_uri": "https://localhost:8080/"
        },
        "id": "a7LS6VthmiS8",
        "outputId": "97638b40-e4c3-47e3-e2d4-5b2984442b6d",
        "gather": {
          "logged": 1646065896774
        }
      }
    },
    {
      "cell_type": "code",
      "source": [
        "rating_package = pd.merge(ratings,packages,how='left',on=LABEL_COLUMN)"
      ],
      "outputs": [],
      "execution_count": null,
      "metadata": {
        "id": "YnAKI-esmiTB",
        "gather": {
          "logged": 1646065906564
        }
      }
    },
    {
      "cell_type": "code",
      "source": [
        "final_df = pd.merge(rating_package,users,how='left',on=USER_COULMN)"
      ],
      "outputs": [],
      "execution_count": null,
      "metadata": {
        "id": "RwkvlfQ4miTD",
        "gather": {
          "logged": 1646065908898
        }
      }
    },
    {
      "cell_type": "markdown",
      "source": [
        "## Feature Selection"
      ],
      "metadata": {
        "id": "oIBGjirqA3DK"
      }
    },
    {
      "cell_type": "code",
      "source": [
        "le_data = final_df.copy()\n",
        "\n",
        "ALL_COLUMNS = list(le_data.columns)\n",
        "ALL_COLUMNS.remove(LABEL_COLUMN)\n",
        "ALL_COLUMNS.remove(USER_COULMN)\n",
        "CONTINUOUS_COLUMNS = list(le_data._get_numeric_data().columns)\n",
        "CONTINUOUS_COLUMNS.remove(RATING_COLUMN)\n",
        "CATEGORICAL_COLUMNS = list(set(ALL_COLUMNS) - set(CONTINUOUS_COLUMNS))\n",
        "\n",
        "for c in CATEGORICAL_COLUMNS:\n",
        "    le = LabelEncoder()\n",
        "    le_data[c] = le.fit_transform(final_df[c])"
      ],
      "outputs": [],
      "execution_count": null,
      "metadata": {
        "id": "X18c4RuTA87U",
        "gather": {
          "logged": 1646065912456
        }
      }
    },
    {
      "cell_type": "code",
      "source": [
        "cor_df = le_data.drop(columns=[col for col in le_data if col not in ALL_COLUMNS])\n",
        "corr = cor_df.corr()\n",
        "sns.heatmap(corr)"
      ],
      "outputs": [],
      "execution_count": null,
      "metadata": {
        "colab": {
          "base_uri": "https://localhost:8080/",
          "height": 495
        },
        "id": "ici8SwIyA8os",
        "outputId": "47197f2f-365b-4bdd-f578-8aecebcc41ca",
        "gather": {
          "logged": 1646065917130
        }
      }
    },
    {
      "cell_type": "code",
      "source": [
        "# select columns (selected features)\n",
        "cols = np.full((corr.shape[0],), True, dtype=bool)\n",
        "for i in range(corr.shape[0]):\n",
        "    for j in range(i+1, corr.shape[0]):\n",
        "        if corr.iloc[i,j] >= 0.9:\n",
        "            if cols[j]:\n",
        "                cols[j] = False\n",
        "\n",
        "selected_columns = cor_df.columns[cols]\n",
        "print(\"Selected Columns\", selected_columns)\n",
        "print(\"\\nSelected no of columns\", len(selected_columns))\n",
        "\n",
        "# final dataframe to merge model predictions\n",
        "le_data = le_data[[USER_COULMN,LABEL_COLUMN,RATING_COLUMN] + list(selected_columns)]\n",
        "\n",
        "# for column list generation\n",
        "data = final_df[[USER_COULMN,LABEL_COLUMN,RATING_COLUMN] + list(selected_columns)]"
      ],
      "outputs": [],
      "execution_count": null,
      "metadata": {
        "colab": {
          "base_uri": "https://localhost:8080/"
        },
        "id": "GF45IW0tCpoc",
        "outputId": "2718bb70-9bd6-47df-ddc0-19ef3bcc4bad",
        "gather": {
          "logged": 1646065920760
        }
      }
    },
    {
      "cell_type": "code",
      "source": [
        "# resetting parameters for selected features\n",
        "ALL_COLUMNS = list(data.columns)\n",
        "ALL_COLUMNS.remove(LABEL_COLUMN)\n",
        "ALL_COLUMNS.remove(USER_COULMN)\n",
        "CONTINUOUS_COLUMNS = list(data._get_numeric_data().columns)\n",
        "CONTINUOUS_COLUMNS.remove(RATING_COLUMN)\n",
        "CATEGORICAL_COLUMNS = list(set(ALL_COLUMNS) - set(CONTINUOUS_COLUMNS))"
      ],
      "outputs": [],
      "execution_count": null,
      "metadata": {
        "id": "ZQgEzwQOlqT0",
        "gather": {
          "logged": 1646065926495
        }
      }
    },
    {
      "cell_type": "markdown",
      "source": [
        "## Encoding and Data Processing"
      ],
      "metadata": {
        "id": "lMkLfjFICp-q"
      }
    },
    {
      "cell_type": "code",
      "source": [
        "# encoder function\n",
        "def encoder(df, cols=None):\n",
        "    if cols == None:\n",
        "        cols = list(df.select_dtypes(include=['object']).columns)\n",
        "\n",
        "    val_types = dict()\n",
        "    for c in cols:\n",
        "        val_types[c] = df[c].unique()\n",
        "\n",
        "    val_to_idx = dict()\n",
        "    for k, v in val_types.items():\n",
        "        val_to_idx[k] = {o: i for i, o in enumerate(val_types[k])}\n",
        "\n",
        "    for k, v in val_to_idx.items():\n",
        "        df[k] = df[k].apply(lambda x: v[x])\n",
        "\n",
        "    return val_to_idx, df"
      ],
      "outputs": [],
      "execution_count": null,
      "metadata": {
        "id": "BTJY5XbxmiTE",
        "gather": {
          "logged": 1646065929502
        }
      }
    },
    {
      "cell_type": "code",
      "source": [
        "#function to test train splitting of data with embedding\n",
        "def data_processing(df, wide_cols, embeddings_cols, continuous_cols, target,\n",
        "    scale=False, def_dim=8):\n",
        "\n",
        "\n",
        "    if type(embeddings_cols[0]) is tuple:\n",
        "        emb_dim = dict(embeddings_cols)\n",
        "        embeddings_cols = [emb[0] for emb in embeddings_cols]\n",
        "    else:\n",
        "        emb_dim = {e:def_dim for e in embeddings_cols}\n",
        "    deep_cols = embeddings_cols+continuous_cols\n",
        "\n",
        "    # Extract the target and copy the dataframe so we don't mutate it\n",
        "    # internally.\n",
        "    Y = np.array(df[target])\n",
        "    all_columns = list(set(wide_cols + deep_cols ))\n",
        "    df_tmp = df.copy()[all_columns]\n",
        "\n",
        "\n",
        "    # Extract the categorical column names that can be one hot encoded later\n",
        "    categorical_columns = list(df_tmp.select_dtypes(include=['object']).columns)\n",
        "\n",
        "    \n",
        "    encoding_dict,df_tmp = encoder(df_tmp)\n",
        "    encoding_dict = {k:encoding_dict[k] for k in encoding_dict if k in deep_cols}\n",
        "    embeddings_input = []\n",
        "    for k,v in encoding_dict.items():\n",
        "        embeddings_input.append((k, len(v), emb_dim[k]))\n",
        "\n",
        "    df_deep = df_tmp[deep_cols]\n",
        "    deep_column_idx = {k:v for v,k in enumerate(df_deep.columns)}\n",
        "\n",
        "\n",
        "    if scale:\n",
        "        scaler = StandardScaler()\n",
        "        for cc in continuous_cols:\n",
        "            df_deep[cc]  = scaler.fit_transform(df_deep[cc].values.reshape(-1,1))\n",
        "\n",
        "    df_wide = df_tmp[wide_cols]\n",
        "    del(df_tmp)\n",
        "    dummy_cols = [c for c in wide_cols if c in categorical_columns]\n",
        "    df_wide = pd.get_dummies(df_wide, columns=dummy_cols)\n",
        "\n",
        "    X_train_deep, X_test_deep = train_test_split(df_deep.values, test_size=0.3, random_state=1463)\n",
        "    X_train_wide, X_test_wide = train_test_split(df_wide.values, test_size=0.3, random_state=1463)\n",
        "    y_train, y_test = train_test_split(Y, test_size=0.3, random_state=1981)\n",
        "\n",
        "    group_dataset = dict()\n",
        "    train_dataset = namedtuple('train_dataset', 'wide, deep, labels')\n",
        "    test_dataset  = namedtuple('test_dataset' , 'wide, deep, labels')\n",
        "    group_dataset['train_dataset'] = train_dataset(X_train_wide, X_train_deep, y_train)\n",
        "    group_dataset['test_dataset']  = test_dataset(X_test_wide, X_test_deep, y_test)\n",
        "    group_dataset['embeddings_input']  = embeddings_input\n",
        "    group_dataset['deep_column_idx'] = deep_column_idx\n",
        "    group_dataset['encoding_dict'] = encoding_dict\n",
        "\n",
        "    return group_dataset\n"
      ],
      "outputs": [],
      "execution_count": null,
      "metadata": {
        "id": "tUN13LIemiTE",
        "gather": {
          "logged": 1646065933050
        }
      }
    },
    {
      "cell_type": "code",
      "source": [
        "# Define embedding sizes for categorical cols\n",
        "def categorical_embedding(data,cat_cols):\n",
        "  tup_col = []\n",
        "  for col in cat_cols:\n",
        "    ulen = len(data[col].unique())\n",
        "    if ulen > 100:\n",
        "      ulen = 20\n",
        "    elif ulen > 50:\n",
        "      ulen = 10\n",
        "    else:\n",
        "      ulen = 5\n",
        "    tup_col.append((col,ulen))\n",
        "  return tup_col"
      ],
      "outputs": [],
      "execution_count": null,
      "metadata": {
        "id": "ot-6IWCGjClw",
        "gather": {
          "logged": 1646065937795
        }
      }
    },
    {
      "cell_type": "markdown",
      "source": [
        "PyTorch Wide and Deep Model"
      ],
      "metadata": {
        "id": "EmZLExekjPGC"
      }
    },
    {
      "cell_type": "code",
      "source": [
        "#class to load the dataset\n",
        "class DatasetLoader(Dataset):\n",
        "    def __init__(self, data):\n",
        "\n",
        "        self.X_wide = data.wide\n",
        "        self.X_deep = data.deep\n",
        "        self.Y = data.labels\n",
        "\n",
        "    def __getitem__(self, idx):\n",
        "\n",
        "        xw = self.X_wide[idx]\n",
        "        xd = self.X_deep[idx]\n",
        "        y  = self.Y[idx]\n",
        "\n",
        "        return xw, xd, y\n",
        "\n",
        "    def __len__(self):\n",
        "        return len(self.Y)\n"
      ],
      "outputs": [],
      "execution_count": null,
      "metadata": {
        "id": "0vac0moMmiTF",
        "gather": {
          "logged": 1646065944574
        }
      }
    },
    {
      "cell_type": "code",
      "source": [
        "#class defining the wide and deep neural network\n",
        "class WideandDeepNet(nn.Module):\n",
        "\n",
        "    def __init__(self,\n",
        "                 wide_dim,\n",
        "                 embeddings_input,\n",
        "                 continuous_cols,\n",
        "                 deep_column_idx,\n",
        "                 hidden_layers,\n",
        "                 dropout,\n",
        "                 encoding_dict,\n",
        "                 n_class):\n",
        "\n",
        "        super(WideandDeepNet, self).__init__()\n",
        "        self.wide_dim = wide_dim\n",
        "        self.deep_column_idx = deep_column_idx\n",
        "        self.embeddings_input = embeddings_input\n",
        "        self.continuous_cols = continuous_cols\n",
        "        self.hidden_layers = hidden_layers\n",
        "        self.dropout = dropout\n",
        "        self.encoding_dict = encoding_dict\n",
        "        self.n_class = n_class\n",
        "        self.loss_values=[]\n",
        "\n",
        "        # Build the embedding layers to be passed through the deep-side\n",
        "        for col,val,dim in self.embeddings_input:\n",
        "            setattr(self, 'emb_layer_'+col, nn.Embedding(val, dim))\n",
        "\n",
        "        # Build the deep-side hidden layers with dropout if specified\n",
        "        input_emb_dim = np.sum([emb[2] for emb in self.embeddings_input])\n",
        "        self.linear_1 = nn.Linear(input_emb_dim+len(continuous_cols), self.hidden_layers[0])\n",
        "        if self.dropout:\n",
        "            self.linear_1_drop = nn.Dropout(self.dropout[0])\n",
        "        for i,h in enumerate(self.hidden_layers[1:],1):\n",
        "            setattr(self, 'linear_'+str(i+1), nn.Linear( self.hidden_layers[i-1], self.hidden_layers[i] ))\n",
        "            if self.dropout:\n",
        "                setattr(self, 'linear_'+str(i+1)+'_drop', nn.Dropout(self.dropout[i]))\n",
        "\n",
        "        # Connect the wide- and dee-side of the model to the output neuron(s)\n",
        "        self.output = nn.Linear(self.hidden_layers[-1]+self.wide_dim, self.n_class)\n",
        "\n",
        "\n",
        "    def compile(self, optimizer=\"Adam\", learning_rate=0.001, momentum=0.0):        \n",
        "        self.activation, self.criterion = None, F.mse_loss\n",
        "\n",
        "        if optimizer == \"Adam\":\n",
        "            self.optimizer = torch.optim.Adam(self.parameters(), lr=learning_rate)\n",
        "        if optimizer == \"RMSprop\":\n",
        "            self.optimizer = torch.optim.RMSprop(self.parameters(), lr=learning_rate)\n",
        "        if optimizer == \"SGD\":\n",
        "            self.optimizer = torch.optim.SGD(self.parameters(), lr=learning_rate, momentum=momentum)\n",
        "\n",
        "        self.method = 'regression'\n",
        "\n",
        "\n",
        "    def forward(self, X_w, X_d):\n",
        "        # Deep Side\n",
        "        emb = [getattr(self, 'emb_layer_'+col)(X_d[:,self.deep_column_idx[col]].long())\n",
        "               for col,_,_ in self.embeddings_input]\n",
        "        if self.continuous_cols:\n",
        "            cont_idx = [self.deep_column_idx[col] for col in self.continuous_cols]\n",
        "            cont = [X_d[:, cont_idx].float()]\n",
        "            deep_inp = torch.cat(emb+cont, 1)\n",
        "        else:\n",
        "            deep_inp = torch.cat(emb, 1)\n",
        "\n",
        "        x_deep = F.relu(self.linear_1(deep_inp))\n",
        "        if self.dropout:\n",
        "            x_deep = self.linear_1_drop(x_deep)\n",
        "        for i in range(1,len(self.hidden_layers)):\n",
        "            x_deep = F.relu( getattr(self, 'linear_'+str(i+1))(x_deep) )\n",
        "            if self.dropout:\n",
        "                x_deep = getattr(self, 'linear_'+str(i+1)+'_drop')(x_deep)\n",
        "\n",
        "        # Deep + Wide sides\n",
        "        wide_deep_input = torch.cat([x_deep, X_w.float()], 1)\n",
        "\n",
        "        if not self.activation:\n",
        "            out = self.output(wide_deep_input)\n",
        "        else:\n",
        "            out = self.activation(self.output(wide_deep_input))\n",
        "\n",
        "        return out\n",
        "\n",
        "\n",
        "    def fit(self, dataset, n_epochs, batch_size):\n",
        "        widedeep_dataset = DatasetLoader(dataset)\n",
        "        train_loader = torch.utils.data.DataLoader(dataset=widedeep_dataset,\n",
        "                                                   batch_size=batch_size,\n",
        "                                                   shuffle=True)\n",
        "\n",
        "        # set the model in training mode\n",
        "        net = self.train()\n",
        "        for epoch in range(n_epochs):\n",
        "            total=0\n",
        "            correct=0\n",
        "            for i, (X_wide, X_deep, target) in enumerate(train_loader):\n",
        "                X_w = Variable(X_wide)\n",
        "                X_d = Variable(X_deep)\n",
        "                y = (Variable(target).float() if self.method != 'multiclass' else Variable(target))\n",
        "\n",
        "                if use_cuda:\n",
        "                    X_w, X_d, y = X_w.cuda(), X_d.cuda(), y.cuda()\n",
        "\n",
        "                self.optimizer.zero_grad()\n",
        "                y_pred =  net(X_w, X_d)\n",
        "                y_pred = torch.squeeze(y_pred)\n",
        "                loss = self.criterion(y_pred, y)\n",
        "                loss.backward()\n",
        "                self.optimizer.step()\n",
        "\n",
        "                if self.method != \"regression\":\n",
        "                    total+= y.size(0)\n",
        "                    if self.method == 'logistic':\n",
        "                        y_pred_cat = (y_pred > 0.5).squeeze(1).float()\n",
        "                    if self.method == \"multiclass\":\n",
        "                        _, y_pred_cat = torch.max(y_pred, 1)\n",
        "                    correct+= float((y_pred_cat == y).sum().data[0])\n",
        "            self.loss_values.append(loss.item())\n",
        "            print ('Epoch {} of {}, Loss: {}'.format(epoch+1, n_epochs,\n",
        "                    round(loss.item(),3)))\n",
        "\n",
        "\n",
        "    def predict(self, dataset):\n",
        "        X_w = Variable(torch.from_numpy(dataset.wide)).float()\n",
        "        X_d = Variable(torch.from_numpy(dataset.deep))\n",
        "\n",
        "        if use_cuda:\n",
        "            X_w, X_d = X_w.cuda(), X_d.cuda()\n",
        "\n",
        "        # set the model in evaluation mode so dropout is not applied\n",
        "        net = self.eval()\n",
        "        pred = net(X_w,X_d).cpu()\n",
        "        if self.method == \"regression\":\n",
        "            return pred.squeeze(1).data.numpy()\n",
        "        if self.method == \"logistic\":\n",
        "            return (pred > 0.5).squeeze(1).data.numpy()\n",
        "        if self.method == \"multiclass\":\n",
        "            _, pred_cat = torch.max(pred, 1)\n",
        "            return pred_cat.data.numpy()\n",
        "\n",
        "\n",
        "    def get_embeddings(self, col_name):\n",
        "        params = list(self.named_parameters())\n",
        "        emb_layers = [p for p in params if 'emb_layer' in p[0]]\n",
        "        emb_layer  = [layer for layer in emb_layers if col_name in layer[0]][0]\n",
        "        embeddings = emb_layer[1].cpu().data.numpy()\n",
        "        col_label_encoding = self.encoding_dict[col_name]\n",
        "        inv_dict = {v:k for k,v in col_label_encoding.items()}\n",
        "        embeddings_dict = {}\n",
        "        for idx,value in inv_dict.items():\n",
        "            embeddings_dict[value] = embeddings[idx]\n",
        "\n",
        "        return embeddings_dict"
      ],
      "outputs": [],
      "execution_count": null,
      "metadata": {
        "id": "gXJA7DI2miTF",
        "gather": {
          "logged": 1646065947511
        }
      }
    },
    {
      "cell_type": "markdown",
      "source": [
        "## Final dataset preparation for Training"
      ],
      "metadata": {
        "id": "7M9YKgG9jI8N"
      }
    },
    {
      "cell_type": "code",
      "source": [
        "# embeddings_cols = [('genres',20), ('userId',100), ('movieId',100)]\n",
        "# crossed_cols = ()\n",
        "# continuous_cols = ['movie_year','gender','age', 'occupation','genres','userId','movieId']"
      ],
      "outputs": [],
      "execution_count": null,
      "metadata": {
        "id": "swda5nyvq7xG"
      }
    },
    {
      "cell_type": "code",
      "source": [
        "# reducing embedding cols due to memory limitation\n",
        "REDUCED_CATEGORICAL_COLUMNS = ['Tamil_Customer',\n",
        " 'Peo_Extra_Channels_Purchased_Categorical',\n",
        " 'Bill_Billing_Status',\n",
        " 'VAS_Package',\n",
        " 'Location_Identifier',\n",
        " 'Sub_Usage',\n",
        " 'Product_Type',\n",
        " 'IDD_outgoing_country',\n",
        " 'Sub_Type',\n",
        " 'IDD_incoming_country',\n",
        " 'Having_Insurance']\n"
      ],
      "outputs": [],
      "execution_count": null,
      "metadata": {
        "id": "5l7Wv93DtjsF",
        "gather": {
          "logged": 1646065957770
        }
      }
    },
    {
      "cell_type": "code",
      "source": [
        "wide_cols = CONTINUOUS_COLUMNS + [USER_COULMN,LABEL_COLUMN]\n",
        "embeddings_cols = categorical_embedding(data,REDUCED_CATEGORICAL_COLUMNS)\n",
        "continuous_cols = CONTINUOUS_COLUMNS\n",
        "target = RATING_COLUMN"
      ],
      "outputs": [],
      "execution_count": null,
      "metadata": {
        "id": "Rz1GAjavmiTF",
        "gather": {
          "logged": 1646065960880
        }
      }
    },
    {
      "cell_type": "code",
      "source": [
        "#split the data and generate the embeddings\n",
        "data_processed = data_processing(\n",
        "        final_df, wide_cols,\n",
        "        embeddings_cols,\n",
        "        continuous_cols,\n",
        "        target,\n",
        "        scale=True)"
      ],
      "outputs": [],
      "execution_count": null,
      "metadata": {
        "colab": {
          "base_uri": "https://localhost:8080/"
        },
        "id": "U8fUy_jsmiTF",
        "outputId": "590aef7c-a993-4d7b-cd7f-a7573590d761",
        "gather": {
          "logged": 1642939448488
        }
      }
    },
    {
      "cell_type": "markdown",
      "source": [
        "## Model Parameters"
      ],
      "metadata": {
        "id": "rzm20bkjo08r"
      }
    },
    {
      "cell_type": "code",
      "source": [
        "# see if cuda available\n",
        "use_cuda = torch.cuda.is_available()"
      ],
      "outputs": [],
      "execution_count": null,
      "metadata": {
        "id": "AGj4cJlgpJ_p",
        "gather": {
          "logged": 1642939591793
        }
      }
    },
    {
      "cell_type": "code",
      "source": [
        "# Wide and Deep Netowrk Prameters\n",
        "wide_dim = data_processed['train_dataset'].wide.shape[1]\n",
        "n_unique = len(np.unique(data_processed['train_dataset'].labels))\n",
        "n_class = 1\n",
        "\n",
        "deep_column_idx = data_processed['deep_column_idx']\n",
        "embeddings_input= data_processed['embeddings_input']\n",
        "encoding_dict   = data_processed['encoding_dict']\n",
        "hidden_layers = [100,50]\n",
        "dropout = [0.5,0.2]\n"
      ],
      "outputs": [],
      "execution_count": null,
      "metadata": {
        "id": "rq6O25_mmiTG",
        "gather": {
          "logged": 1642939592759
        }
      }
    },
    {
      "cell_type": "markdown",
      "source": [
        "## Build Model"
      ],
      "metadata": {
        "id": "IdIZsyOQpZHE"
      }
    },
    {
      "cell_type": "code",
      "source": [
        "# build model\n",
        "use_cuda = torch.cuda.is_available()\n",
        "\n",
        "model = WideandDeepNet(\n",
        "    wide_dim,\n",
        "    embeddings_input,\n",
        "    continuous_cols,\n",
        "    deep_column_idx,\n",
        "    hidden_layers,\n",
        "    dropout,\n",
        "    encoding_dict,\n",
        "    n_class)\n",
        "model.compile(optimizer='Adam')\n",
        "if use_cuda:\n",
        "    model = model.cuda()"
      ],
      "outputs": [],
      "execution_count": null,
      "metadata": {
        "colab": {
          "base_uri": "https://localhost:8080/",
          "height": 236
        },
        "id": "S5Ch6ChWmiTG",
        "outputId": "9fac3b39-3267-4383-f1e0-a644889eb95a",
        "gather": {
          "logged": 1642939630863
        }
      }
    },
    {
      "cell_type": "markdown",
      "source": [
        "## Train Model"
      ],
      "metadata": {
        "id": "1RfsqOQTpFul"
      }
    },
    {
      "cell_type": "code",
      "source": [
        "#train the model\n",
        "train_dataset = data_processed['train_dataset']\n",
        "model.fit(dataset=train_dataset, n_epochs=5, batch_size=60)"
      ],
      "outputs": [
        {
          "output_type": "stream",
          "name": "stdout",
          "text": "Epoch 1 of 5, Loss: nan\nEpoch 2 of 5, Loss: nan\nEpoch 3 of 5, Loss: nan\nEpoch 4 of 5, Loss: nan\nEpoch 5 of 5, Loss: nan\n"
        }
      ],
      "execution_count": 29,
      "metadata": {
        "id": "SNNV_rkqmiTH",
        "outputId": "c79e2c83-8c6a-4fe6-e7b9-f68b8e85a4bc",
        "gather": {
          "logged": 1642939656290
        }
      }
    },
    {
      "cell_type": "markdown",
      "source": [
        "## Model Prdictions"
      ],
      "metadata": {
        "id": "C5VQPs4dpdZm"
      }
    },
    {
      "cell_type": "code",
      "source": [
        "test_dataset  = data_processed['test_dataset']"
      ],
      "outputs": [],
      "execution_count": 30,
      "metadata": {
        "id": "mP1HGj8FmiTH",
        "gather": {
          "logged": 1642939659928
        }
      }
    },
    {
      "cell_type": "code",
      "source": [
        "y_pred = model.predict(dataset=test_dataset)"
      ],
      "outputs": [],
      "execution_count": 31,
      "metadata": {
        "id": "jYrQomZGmiTH",
        "gather": {
          "logged": 1642939662800
        }
      }
    },
    {
      "cell_type": "code",
      "source": [
        "y = test_dataset.labels"
      ],
      "outputs": [],
      "execution_count": 32,
      "metadata": {
        "id": "RSjcwHXKmiTH",
        "gather": {
          "logged": 1642939665148
        }
      }
    },
    {
      "cell_type": "markdown",
      "source": [
        "## Model Evaluation"
      ],
      "metadata": {
        "id": "mpm99BEDpiMN"
      }
    },
    {
      "cell_type": "code",
      "source": [
        "#get the test MSE\n",
        "mean_squared_error(y_pred,y)"
      ],
      "outputs": [
        {
          "output_type": "error",
          "ename": "ValueError",
          "evalue": "Input contains NaN, infinity or a value too large for dtype('float32').",
          "traceback": [
            "\u001b[0;31m---------------------------------------------------------------------------\u001b[0m",
            "\u001b[0;31mValueError\u001b[0m                                Traceback (most recent call last)",
            "\u001b[0;32m<ipython-input-33-4b763f1fba0c>\u001b[0m in \u001b[0;36m<module>\u001b[0;34m\u001b[0m\n\u001b[1;32m      1\u001b[0m \u001b[0;31m#get the test MSE\u001b[0m\u001b[0;34m\u001b[0m\u001b[0;34m\u001b[0m\u001b[0;34m\u001b[0m\u001b[0m\n\u001b[0;32m----> 2\u001b[0;31m \u001b[0mmean_squared_error\u001b[0m\u001b[0;34m(\u001b[0m\u001b[0my_pred\u001b[0m\u001b[0;34m,\u001b[0m\u001b[0my\u001b[0m\u001b[0;34m)\u001b[0m\u001b[0;34m\u001b[0m\u001b[0;34m\u001b[0m\u001b[0m\n\u001b[0m",
            "\u001b[0;32m/anaconda/envs/azureml_py36/lib/python3.6/site-packages/sklearn/utils/validation.py\u001b[0m in \u001b[0;36minner_f\u001b[0;34m(*args, **kwargs)\u001b[0m\n\u001b[1;32m     61\u001b[0m             \u001b[0mextra_args\u001b[0m \u001b[0;34m=\u001b[0m \u001b[0mlen\u001b[0m\u001b[0;34m(\u001b[0m\u001b[0margs\u001b[0m\u001b[0;34m)\u001b[0m \u001b[0;34m-\u001b[0m \u001b[0mlen\u001b[0m\u001b[0;34m(\u001b[0m\u001b[0mall_args\u001b[0m\u001b[0;34m)\u001b[0m\u001b[0;34m\u001b[0m\u001b[0;34m\u001b[0m\u001b[0m\n\u001b[1;32m     62\u001b[0m             \u001b[0;32mif\u001b[0m \u001b[0mextra_args\u001b[0m \u001b[0;34m<=\u001b[0m \u001b[0;36m0\u001b[0m\u001b[0;34m:\u001b[0m\u001b[0;34m\u001b[0m\u001b[0;34m\u001b[0m\u001b[0m\n\u001b[0;32m---> 63\u001b[0;31m                 \u001b[0;32mreturn\u001b[0m \u001b[0mf\u001b[0m\u001b[0;34m(\u001b[0m\u001b[0;34m*\u001b[0m\u001b[0margs\u001b[0m\u001b[0;34m,\u001b[0m \u001b[0;34m**\u001b[0m\u001b[0mkwargs\u001b[0m\u001b[0;34m)\u001b[0m\u001b[0;34m\u001b[0m\u001b[0;34m\u001b[0m\u001b[0m\n\u001b[0m\u001b[1;32m     64\u001b[0m \u001b[0;34m\u001b[0m\u001b[0m\n\u001b[1;32m     65\u001b[0m             \u001b[0;31m# extra_args > 0\u001b[0m\u001b[0;34m\u001b[0m\u001b[0;34m\u001b[0m\u001b[0;34m\u001b[0m\u001b[0m\n",
            "\u001b[0;32m/anaconda/envs/azureml_py36/lib/python3.6/site-packages/sklearn/metrics/_regression.py\u001b[0m in \u001b[0;36mmean_squared_error\u001b[0;34m(y_true, y_pred, sample_weight, multioutput, squared)\u001b[0m\n\u001b[1;32m    334\u001b[0m     \"\"\"\n\u001b[1;32m    335\u001b[0m     y_type, y_true, y_pred, multioutput = _check_reg_targets(\n\u001b[0;32m--> 336\u001b[0;31m         y_true, y_pred, multioutput)\n\u001b[0m\u001b[1;32m    337\u001b[0m     \u001b[0mcheck_consistent_length\u001b[0m\u001b[0;34m(\u001b[0m\u001b[0my_true\u001b[0m\u001b[0;34m,\u001b[0m \u001b[0my_pred\u001b[0m\u001b[0;34m,\u001b[0m \u001b[0msample_weight\u001b[0m\u001b[0;34m)\u001b[0m\u001b[0;34m\u001b[0m\u001b[0;34m\u001b[0m\u001b[0m\n\u001b[1;32m    338\u001b[0m     output_errors = np.average((y_true - y_pred) ** 2, axis=0,\n",
            "\u001b[0;32m/anaconda/envs/azureml_py36/lib/python3.6/site-packages/sklearn/metrics/_regression.py\u001b[0m in \u001b[0;36m_check_reg_targets\u001b[0;34m(y_true, y_pred, multioutput, dtype)\u001b[0m\n\u001b[1;32m     87\u001b[0m     \"\"\"\n\u001b[1;32m     88\u001b[0m     \u001b[0mcheck_consistent_length\u001b[0m\u001b[0;34m(\u001b[0m\u001b[0my_true\u001b[0m\u001b[0;34m,\u001b[0m \u001b[0my_pred\u001b[0m\u001b[0;34m)\u001b[0m\u001b[0;34m\u001b[0m\u001b[0;34m\u001b[0m\u001b[0m\n\u001b[0;32m---> 89\u001b[0;31m     \u001b[0my_true\u001b[0m \u001b[0;34m=\u001b[0m \u001b[0mcheck_array\u001b[0m\u001b[0;34m(\u001b[0m\u001b[0my_true\u001b[0m\u001b[0;34m,\u001b[0m \u001b[0mensure_2d\u001b[0m\u001b[0;34m=\u001b[0m\u001b[0;32mFalse\u001b[0m\u001b[0;34m,\u001b[0m \u001b[0mdtype\u001b[0m\u001b[0;34m=\u001b[0m\u001b[0mdtype\u001b[0m\u001b[0;34m)\u001b[0m\u001b[0;34m\u001b[0m\u001b[0;34m\u001b[0m\u001b[0m\n\u001b[0m\u001b[1;32m     90\u001b[0m     \u001b[0my_pred\u001b[0m \u001b[0;34m=\u001b[0m \u001b[0mcheck_array\u001b[0m\u001b[0;34m(\u001b[0m\u001b[0my_pred\u001b[0m\u001b[0;34m,\u001b[0m \u001b[0mensure_2d\u001b[0m\u001b[0;34m=\u001b[0m\u001b[0;32mFalse\u001b[0m\u001b[0;34m,\u001b[0m \u001b[0mdtype\u001b[0m\u001b[0;34m=\u001b[0m\u001b[0mdtype\u001b[0m\u001b[0;34m)\u001b[0m\u001b[0;34m\u001b[0m\u001b[0;34m\u001b[0m\u001b[0m\n\u001b[1;32m     91\u001b[0m \u001b[0;34m\u001b[0m\u001b[0m\n",
            "\u001b[0;32m/anaconda/envs/azureml_py36/lib/python3.6/site-packages/sklearn/utils/validation.py\u001b[0m in \u001b[0;36minner_f\u001b[0;34m(*args, **kwargs)\u001b[0m\n\u001b[1;32m     61\u001b[0m             \u001b[0mextra_args\u001b[0m \u001b[0;34m=\u001b[0m \u001b[0mlen\u001b[0m\u001b[0;34m(\u001b[0m\u001b[0margs\u001b[0m\u001b[0;34m)\u001b[0m \u001b[0;34m-\u001b[0m \u001b[0mlen\u001b[0m\u001b[0;34m(\u001b[0m\u001b[0mall_args\u001b[0m\u001b[0;34m)\u001b[0m\u001b[0;34m\u001b[0m\u001b[0;34m\u001b[0m\u001b[0m\n\u001b[1;32m     62\u001b[0m             \u001b[0;32mif\u001b[0m \u001b[0mextra_args\u001b[0m \u001b[0;34m<=\u001b[0m \u001b[0;36m0\u001b[0m\u001b[0;34m:\u001b[0m\u001b[0;34m\u001b[0m\u001b[0;34m\u001b[0m\u001b[0m\n\u001b[0;32m---> 63\u001b[0;31m                 \u001b[0;32mreturn\u001b[0m \u001b[0mf\u001b[0m\u001b[0;34m(\u001b[0m\u001b[0;34m*\u001b[0m\u001b[0margs\u001b[0m\u001b[0;34m,\u001b[0m \u001b[0;34m**\u001b[0m\u001b[0mkwargs\u001b[0m\u001b[0;34m)\u001b[0m\u001b[0;34m\u001b[0m\u001b[0;34m\u001b[0m\u001b[0m\n\u001b[0m\u001b[1;32m     64\u001b[0m \u001b[0;34m\u001b[0m\u001b[0m\n\u001b[1;32m     65\u001b[0m             \u001b[0;31m# extra_args > 0\u001b[0m\u001b[0;34m\u001b[0m\u001b[0;34m\u001b[0m\u001b[0;34m\u001b[0m\u001b[0m\n",
            "\u001b[0;32m/anaconda/envs/azureml_py36/lib/python3.6/site-packages/sklearn/utils/validation.py\u001b[0m in \u001b[0;36mcheck_array\u001b[0;34m(array, accept_sparse, accept_large_sparse, dtype, order, copy, force_all_finite, ensure_2d, allow_nd, ensure_min_samples, ensure_min_features, estimator)\u001b[0m\n\u001b[1;32m    719\u001b[0m         \u001b[0;32mif\u001b[0m \u001b[0mforce_all_finite\u001b[0m\u001b[0;34m:\u001b[0m\u001b[0;34m\u001b[0m\u001b[0;34m\u001b[0m\u001b[0m\n\u001b[1;32m    720\u001b[0m             _assert_all_finite(array,\n\u001b[0;32m--> 721\u001b[0;31m                                allow_nan=force_all_finite == 'allow-nan')\n\u001b[0m\u001b[1;32m    722\u001b[0m \u001b[0;34m\u001b[0m\u001b[0m\n\u001b[1;32m    723\u001b[0m     \u001b[0;32mif\u001b[0m \u001b[0mensure_min_samples\u001b[0m \u001b[0;34m>\u001b[0m \u001b[0;36m0\u001b[0m\u001b[0;34m:\u001b[0m\u001b[0;34m\u001b[0m\u001b[0;34m\u001b[0m\u001b[0m\n",
            "\u001b[0;32m/anaconda/envs/azureml_py36/lib/python3.6/site-packages/sklearn/utils/validation.py\u001b[0m in \u001b[0;36m_assert_all_finite\u001b[0;34m(X, allow_nan, msg_dtype)\u001b[0m\n\u001b[1;32m    104\u001b[0m                     \u001b[0mmsg_err\u001b[0m\u001b[0;34m.\u001b[0m\u001b[0mformat\u001b[0m\u001b[0;34m\u001b[0m\u001b[0;34m\u001b[0m\u001b[0m\n\u001b[1;32m    105\u001b[0m                     (type_err,\n\u001b[0;32m--> 106\u001b[0;31m                      msg_dtype if msg_dtype is not None else X.dtype)\n\u001b[0m\u001b[1;32m    107\u001b[0m             )\n\u001b[1;32m    108\u001b[0m     \u001b[0;31m# for object dtype data, we only check for NaNs (GH-13254)\u001b[0m\u001b[0;34m\u001b[0m\u001b[0;34m\u001b[0m\u001b[0;34m\u001b[0m\u001b[0m\n",
            "\u001b[0;31mValueError\u001b[0m: Input contains NaN, infinity or a value too large for dtype('float32')."
          ]
        }
      ],
      "execution_count": 33,
      "metadata": {
        "id": "JUY_o0rXmiTH",
        "outputId": "8ff3769f-67c7-434f-a8e8-20fa93e9248d"
      }
    },
    {
      "cell_type": "code",
      "source": [
        "#get the test MAE\n",
        "mean_absolute_error(y_pred,y)"
      ],
      "outputs": [
        {
          "output_type": "error",
          "ename": "ValueError",
          "evalue": "Input contains NaN, infinity or a value too large for dtype('float32').",
          "traceback": [
            "\u001b[0;31m---------------------------------------------------------------------------\u001b[0m",
            "\u001b[0;31mValueError\u001b[0m                                Traceback (most recent call last)",
            "\u001b[0;32m<ipython-input-36-a68007b61d21>\u001b[0m in \u001b[0;36m<module>\u001b[0;34m\u001b[0m\n\u001b[1;32m      1\u001b[0m \u001b[0;31m#get the test MAE\u001b[0m\u001b[0;34m\u001b[0m\u001b[0;34m\u001b[0m\u001b[0;34m\u001b[0m\u001b[0m\n\u001b[0;32m----> 2\u001b[0;31m \u001b[0mmean_absolute_error\u001b[0m\u001b[0;34m(\u001b[0m\u001b[0my_pred\u001b[0m\u001b[0;34m,\u001b[0m\u001b[0my\u001b[0m\u001b[0;34m)\u001b[0m\u001b[0;34m\u001b[0m\u001b[0;34m\u001b[0m\u001b[0m\n\u001b[0m",
            "\u001b[0;32m/anaconda/envs/azureml_py36/lib/python3.6/site-packages/sklearn/utils/validation.py\u001b[0m in \u001b[0;36minner_f\u001b[0;34m(*args, **kwargs)\u001b[0m\n\u001b[1;32m     61\u001b[0m             \u001b[0mextra_args\u001b[0m \u001b[0;34m=\u001b[0m \u001b[0mlen\u001b[0m\u001b[0;34m(\u001b[0m\u001b[0margs\u001b[0m\u001b[0;34m)\u001b[0m \u001b[0;34m-\u001b[0m \u001b[0mlen\u001b[0m\u001b[0;34m(\u001b[0m\u001b[0mall_args\u001b[0m\u001b[0;34m)\u001b[0m\u001b[0;34m\u001b[0m\u001b[0;34m\u001b[0m\u001b[0m\n\u001b[1;32m     62\u001b[0m             \u001b[0;32mif\u001b[0m \u001b[0mextra_args\u001b[0m \u001b[0;34m<=\u001b[0m \u001b[0;36m0\u001b[0m\u001b[0;34m:\u001b[0m\u001b[0;34m\u001b[0m\u001b[0;34m\u001b[0m\u001b[0m\n\u001b[0;32m---> 63\u001b[0;31m                 \u001b[0;32mreturn\u001b[0m \u001b[0mf\u001b[0m\u001b[0;34m(\u001b[0m\u001b[0;34m*\u001b[0m\u001b[0margs\u001b[0m\u001b[0;34m,\u001b[0m \u001b[0;34m**\u001b[0m\u001b[0mkwargs\u001b[0m\u001b[0;34m)\u001b[0m\u001b[0;34m\u001b[0m\u001b[0;34m\u001b[0m\u001b[0m\n\u001b[0m\u001b[1;32m     64\u001b[0m \u001b[0;34m\u001b[0m\u001b[0m\n\u001b[1;32m     65\u001b[0m             \u001b[0;31m# extra_args > 0\u001b[0m\u001b[0;34m\u001b[0m\u001b[0;34m\u001b[0m\u001b[0;34m\u001b[0m\u001b[0m\n",
            "\u001b[0;32m/anaconda/envs/azureml_py36/lib/python3.6/site-packages/sklearn/metrics/_regression.py\u001b[0m in \u001b[0;36mmean_absolute_error\u001b[0;34m(y_true, y_pred, sample_weight, multioutput)\u001b[0m\n\u001b[1;32m    181\u001b[0m     \"\"\"\n\u001b[1;32m    182\u001b[0m     y_type, y_true, y_pred, multioutput = _check_reg_targets(\n\u001b[0;32m--> 183\u001b[0;31m         y_true, y_pred, multioutput)\n\u001b[0m\u001b[1;32m    184\u001b[0m     \u001b[0mcheck_consistent_length\u001b[0m\u001b[0;34m(\u001b[0m\u001b[0my_true\u001b[0m\u001b[0;34m,\u001b[0m \u001b[0my_pred\u001b[0m\u001b[0;34m,\u001b[0m \u001b[0msample_weight\u001b[0m\u001b[0;34m)\u001b[0m\u001b[0;34m\u001b[0m\u001b[0;34m\u001b[0m\u001b[0m\n\u001b[1;32m    185\u001b[0m     output_errors = np.average(np.abs(y_pred - y_true),\n",
            "\u001b[0;32m/anaconda/envs/azureml_py36/lib/python3.6/site-packages/sklearn/metrics/_regression.py\u001b[0m in \u001b[0;36m_check_reg_targets\u001b[0;34m(y_true, y_pred, multioutput, dtype)\u001b[0m\n\u001b[1;32m     87\u001b[0m     \"\"\"\n\u001b[1;32m     88\u001b[0m     \u001b[0mcheck_consistent_length\u001b[0m\u001b[0;34m(\u001b[0m\u001b[0my_true\u001b[0m\u001b[0;34m,\u001b[0m \u001b[0my_pred\u001b[0m\u001b[0;34m)\u001b[0m\u001b[0;34m\u001b[0m\u001b[0;34m\u001b[0m\u001b[0m\n\u001b[0;32m---> 89\u001b[0;31m     \u001b[0my_true\u001b[0m \u001b[0;34m=\u001b[0m \u001b[0mcheck_array\u001b[0m\u001b[0;34m(\u001b[0m\u001b[0my_true\u001b[0m\u001b[0;34m,\u001b[0m \u001b[0mensure_2d\u001b[0m\u001b[0;34m=\u001b[0m\u001b[0;32mFalse\u001b[0m\u001b[0;34m,\u001b[0m \u001b[0mdtype\u001b[0m\u001b[0;34m=\u001b[0m\u001b[0mdtype\u001b[0m\u001b[0;34m)\u001b[0m\u001b[0;34m\u001b[0m\u001b[0;34m\u001b[0m\u001b[0m\n\u001b[0m\u001b[1;32m     90\u001b[0m     \u001b[0my_pred\u001b[0m \u001b[0;34m=\u001b[0m \u001b[0mcheck_array\u001b[0m\u001b[0;34m(\u001b[0m\u001b[0my_pred\u001b[0m\u001b[0;34m,\u001b[0m \u001b[0mensure_2d\u001b[0m\u001b[0;34m=\u001b[0m\u001b[0;32mFalse\u001b[0m\u001b[0;34m,\u001b[0m \u001b[0mdtype\u001b[0m\u001b[0;34m=\u001b[0m\u001b[0mdtype\u001b[0m\u001b[0;34m)\u001b[0m\u001b[0;34m\u001b[0m\u001b[0;34m\u001b[0m\u001b[0m\n\u001b[1;32m     91\u001b[0m \u001b[0;34m\u001b[0m\u001b[0m\n",
            "\u001b[0;32m/anaconda/envs/azureml_py36/lib/python3.6/site-packages/sklearn/utils/validation.py\u001b[0m in \u001b[0;36minner_f\u001b[0;34m(*args, **kwargs)\u001b[0m\n\u001b[1;32m     61\u001b[0m             \u001b[0mextra_args\u001b[0m \u001b[0;34m=\u001b[0m \u001b[0mlen\u001b[0m\u001b[0;34m(\u001b[0m\u001b[0margs\u001b[0m\u001b[0;34m)\u001b[0m \u001b[0;34m-\u001b[0m \u001b[0mlen\u001b[0m\u001b[0;34m(\u001b[0m\u001b[0mall_args\u001b[0m\u001b[0;34m)\u001b[0m\u001b[0;34m\u001b[0m\u001b[0;34m\u001b[0m\u001b[0m\n\u001b[1;32m     62\u001b[0m             \u001b[0;32mif\u001b[0m \u001b[0mextra_args\u001b[0m \u001b[0;34m<=\u001b[0m \u001b[0;36m0\u001b[0m\u001b[0;34m:\u001b[0m\u001b[0;34m\u001b[0m\u001b[0;34m\u001b[0m\u001b[0m\n\u001b[0;32m---> 63\u001b[0;31m                 \u001b[0;32mreturn\u001b[0m \u001b[0mf\u001b[0m\u001b[0;34m(\u001b[0m\u001b[0;34m*\u001b[0m\u001b[0margs\u001b[0m\u001b[0;34m,\u001b[0m \u001b[0;34m**\u001b[0m\u001b[0mkwargs\u001b[0m\u001b[0;34m)\u001b[0m\u001b[0;34m\u001b[0m\u001b[0;34m\u001b[0m\u001b[0m\n\u001b[0m\u001b[1;32m     64\u001b[0m \u001b[0;34m\u001b[0m\u001b[0m\n\u001b[1;32m     65\u001b[0m             \u001b[0;31m# extra_args > 0\u001b[0m\u001b[0;34m\u001b[0m\u001b[0;34m\u001b[0m\u001b[0;34m\u001b[0m\u001b[0m\n",
            "\u001b[0;32m/anaconda/envs/azureml_py36/lib/python3.6/site-packages/sklearn/utils/validation.py\u001b[0m in \u001b[0;36mcheck_array\u001b[0;34m(array, accept_sparse, accept_large_sparse, dtype, order, copy, force_all_finite, ensure_2d, allow_nd, ensure_min_samples, ensure_min_features, estimator)\u001b[0m\n\u001b[1;32m    719\u001b[0m         \u001b[0;32mif\u001b[0m \u001b[0mforce_all_finite\u001b[0m\u001b[0;34m:\u001b[0m\u001b[0;34m\u001b[0m\u001b[0;34m\u001b[0m\u001b[0m\n\u001b[1;32m    720\u001b[0m             _assert_all_finite(array,\n\u001b[0;32m--> 721\u001b[0;31m                                allow_nan=force_all_finite == 'allow-nan')\n\u001b[0m\u001b[1;32m    722\u001b[0m \u001b[0;34m\u001b[0m\u001b[0m\n\u001b[1;32m    723\u001b[0m     \u001b[0;32mif\u001b[0m \u001b[0mensure_min_samples\u001b[0m \u001b[0;34m>\u001b[0m \u001b[0;36m0\u001b[0m\u001b[0;34m:\u001b[0m\u001b[0;34m\u001b[0m\u001b[0;34m\u001b[0m\u001b[0m\n",
            "\u001b[0;32m/anaconda/envs/azureml_py36/lib/python3.6/site-packages/sklearn/utils/validation.py\u001b[0m in \u001b[0;36m_assert_all_finite\u001b[0;34m(X, allow_nan, msg_dtype)\u001b[0m\n\u001b[1;32m    104\u001b[0m                     \u001b[0mmsg_err\u001b[0m\u001b[0;34m.\u001b[0m\u001b[0mformat\u001b[0m\u001b[0;34m\u001b[0m\u001b[0;34m\u001b[0m\u001b[0m\n\u001b[1;32m    105\u001b[0m                     (type_err,\n\u001b[0;32m--> 106\u001b[0;31m                      msg_dtype if msg_dtype is not None else X.dtype)\n\u001b[0m\u001b[1;32m    107\u001b[0m             )\n\u001b[1;32m    108\u001b[0m     \u001b[0;31m# for object dtype data, we only check for NaNs (GH-13254)\u001b[0m\u001b[0;34m\u001b[0m\u001b[0;34m\u001b[0m\u001b[0;34m\u001b[0m\u001b[0m\n",
            "\u001b[0;31mValueError\u001b[0m: Input contains NaN, infinity or a value too large for dtype('float32')."
          ]
        }
      ],
      "execution_count": 36,
      "metadata": {
        "id": "uoDoW9xtmiTH",
        "outputId": "3dbc371d-9fb4-43c4-ccdf-5f4d128111c3"
      }
    },
    {
      "cell_type": "code",
      "source": [
        "#plt the train error of model\n",
        "plt.plot(model.loss_values)\n",
        "plt.ylabel('Train Error')\n",
        "plt.xlabel('epoch')\n",
        "plt.title(\"Train error for models initial settings\")\n",
        "plt.show()"
      ],
      "outputs": [
        {
          "output_type": "display_data",
          "data": {
            "text/plain": "<Figure size 432x288 with 1 Axes>",
            "image/png": "[encoded data removed]"
          },
          "metadata": {
            "needs_background": "light"
          }
        }
      ],
      "execution_count": 37,
      "metadata": {
        "id": "QJgz9xvimiTI",
        "outputId": "b2c8a0bb-48ac-4b5c-a734-e7e5ddfee79a",
        "gather": {
          "logged": 1642939733412
        }
      }
    },
    {
      "cell_type": "markdown",
      "source": [
        "## hyperparameter tuning"
      ],
      "metadata": {
        "id": "t2cHcowPmiTI"
      }
    },
    {
      "cell_type": "markdown",
      "source": [
        "### for the gradient descent algorithm"
      ],
      "metadata": {
        "id": "Yd9-mbyLmiTI"
      }
    },
    {
      "cell_type": "code",
      "source": [
        "models = []\n",
        "methods = [\"Adam\",\"RMSprop\"]"
      ],
      "outputs": [],
      "execution_count": 38,
      "metadata": {
        "id": "_VFPGIZZmiTI",
        "gather": {
          "logged": 1642939800887
        }
      }
    },
    {
      "cell_type": "code",
      "source": [
        "for method in methods:\n",
        "    model = WideandDeepNet(\n",
        "        wide_dim,\n",
        "        embeddings_input,\n",
        "        continuous_cols,\n",
        "        deep_column_idx,\n",
        "        hidden_layers,\n",
        "        dropout,\n",
        "        encoding_dict,\n",
        "        n_class)\n",
        "    model.compile(optimizer=method)\n",
        "    if use_cuda:\n",
        "        model = model.cuda()\n",
        "    model.fit(dataset=train_dataset, n_epochs=5, batch_size=60)\n",
        "    models.append(model)"
      ],
      "outputs": [
        {
          "output_type": "stream",
          "name": "stdout",
          "text": "Epoch 1 of 5, Loss: nan\nEpoch 2 of 5, Loss: nan\nEpoch 3 of 5, Loss: nan\nEpoch 4 of 5, Loss: nan\nEpoch 5 of 5, Loss: nan\nEpoch 1 of 5, Loss: nan\nEpoch 2 of 5, Loss: nan\nEpoch 3 of 5, Loss: nan\nEpoch 4 of 5, Loss: nan\nEpoch 5 of 5, Loss: nan\n"
        }
      ],
      "execution_count": 39,
      "metadata": {
        "id": "rpcT8ZrjmiTI",
        "outputId": "979583aa-bf3d-4837-8985-5fd6de6593e7",
        "gather": {
          "logged": 1642939841179
        }
      }
    },
    {
      "cell_type": "code",
      "source": [
        "for model in models:\n",
        "    plt.plot(np.arange(5),model.loss_values)\n",
        "plt.ylabel('Train Error')\n",
        "plt.xlabel('epoch')\n",
        "\n",
        "plt.legend(methods, loc='upper left')\n",
        "plt.title(\"Train error for different GD algorithms\")\n",
        "plt.show()"
      ],
      "outputs": [
        {
          "output_type": "display_data",
          "data": {
            "text/plain": "<Figure size 432x288 with 1 Axes>",
            "image/png": "[encoded data removed]"
          },
          "metadata": {
            "needs_background": "light"
          }
        }
      ],
      "execution_count": 40,
      "metadata": {
        "id": "09u9e--pmiTI",
        "outputId": "3b2d2249-f3ef-4435-822f-6d1e14c93eb6",
        "gather": {
          "logged": 1642939844381
        }
      }
    },
    {
      "cell_type": "code",
      "source": [
        "for model in models:\n",
        "    print(\"for \"+ str(model.optimizer))\n",
        "    y_pred = model.predict(dataset=test_dataset)\n",
        "    y = test_dataset.labels\n",
        "    # print(\"test mean squared error: \"+str(mean_squared_error(y_pred,y)))\n",
        "    # print(\"test mean absolute error: \"+ str(mean_absolute_error(y_pred,y)))"
      ],
      "outputs": [
        {
          "output_type": "stream",
          "name": "stdout",
          "text": "for Adam (\nParameter Group 0\n    amsgrad: False\n    betas: (0.9, 0.999)\n    eps: 1e-08\n    lr: 0.001\n    weight_decay: 0\n)\nfor RMSprop (\nParameter Group 0\n    alpha: 0.99\n    centered: False\n    eps: 1e-08\n    lr: 0.001\n    momentum: 0\n    weight_decay: 0\n)\n"
        }
      ],
      "execution_count": 42,
      "metadata": {
        "id": "I0E2dRlPmiTJ",
        "outputId": "4a60faf3-ee13-44a5-e62f-6f9c629bcabd",
        "gather": {
          "logged": 1642939880863
        }
      }
    },
    {
      "cell_type": "markdown",
      "source": [
        "### optimizing dropout values"
      ],
      "metadata": {
        "id": "kGVkGsm4miTJ"
      }
    },
    {
      "cell_type": "code",
      "source": [
        "droupouts = [0,0.1,0.5]\n",
        "models_dropout=[]"
      ],
      "outputs": [],
      "execution_count": null,
      "metadata": {
        "id": "k3yxikFymiTJ"
      }
    },
    {
      "cell_type": "code",
      "source": [
        "for droupout in droupouts:\n",
        "    dropout = [droupout,droupout]\n",
        "    model = WideandDeepNet(\n",
        "        wide_dim,\n",
        "        embeddings_input,\n",
        "        continuous_cols,\n",
        "        deep_column_idx,\n",
        "        hidden_layers,\n",
        "        dropout,\n",
        "        encoding_dict,\n",
        "        n_class)\n",
        "    model.compile(optimizer=\"Adam\")\n",
        "    if use_cuda:\n",
        "        model = model.cuda()\n",
        "    model.fit(dataset=train_dataset, n_epochs=3, batch_size=60)\n",
        "    models_dropout.append(model)"
      ],
      "outputs": [
        {
          "output_type": "stream",
          "name": "stdout",
          "text": "Epoch 1 of 3, Loss: 0.686\nEpoch 2 of 3, Loss: 3.3\nEpoch 3 of 3, Loss: 1.797\nEpoch 1 of 3, Loss: 2.098\nEpoch 2 of 3, Loss: 0.771\nEpoch 3 of 3, Loss: 4.375\nEpoch 1 of 3, Loss: 1.159\nEpoch 2 of 3, Loss: 0.724\nEpoch 3 of 3, Loss: 1.163\n"
        }
      ],
      "execution_count": null,
      "metadata": {
        "id": "soJu-6nXmiTJ",
        "outputId": "7c81a879-4976-4326-b5d9-ea757dae8bdc"
      }
    },
    {
      "cell_type": "code",
      "source": [
        "for model in models_dropout:\n",
        "    plt.plot(np.arange(3),model.loss_values)\n",
        "plt.ylabel('Train Error')\n",
        "plt.xlabel('epoch')\n",
        "\n",
        "plt.legend(droupouts, loc='upper left')\n",
        "plt.title(\"Train error for different dropouts\")\n",
        "plt.show()"
      ],
      "outputs": [
        {
          "output_type": "display_data",
          "data": {
            "image/png": "[encoded data removed]",
            "text/plain": "<Figure size 432x288 with 1 Axes>"
          },
          "metadata": {}
        }
      ],
      "execution_count": null,
      "metadata": {
        "id": "2_O0ypRemiTJ",
        "outputId": "1e645732-c743-4829-f7f9-bb0019914ce0"
      }
    },
    {
      "cell_type": "code",
      "source": [
        "for model in models_dropout:\n",
        "    print(\"for drououts: \"+ str(model.dropout))\n",
        "    y_pred = model.predict(dataset=test_dataset)\n",
        "    y = test_dataset.labels\n",
        "    print(\"test mean squared error: \"+str(mean_squared_error(y_pred,y)))\n",
        "    print(\"test mean absolute error: \"+ str(mean_absolute_error(y_pred,y)))"
      ],
      "outputs": [
        {
          "output_type": "stream",
          "name": "stdout",
          "text": "for drououts: [0, 0]\ntest mean squared error: 1.327298705029263\ntest mean absolute error: 0.9674445709737696\nfor drououts: [0.1, 0.1]\ntest mean squared error: 1.4589379506428217\ntest mean absolute error: 1.003326960903818\nfor drououts: [0.5, 0.5]\ntest mean squared error: 1.3582297251538353\ntest mean absolute error: 0.9704529255707942\n"
        }
      ],
      "execution_count": null,
      "metadata": {
        "id": "Ou0lsYy7miTJ",
        "outputId": "d36c473d-621c-4c33-dd09-16775a7a1b94"
      }
    },
    {
      "cell_type": "markdown",
      "source": [
        "## Evaluating the model with optimal hyperparameters"
      ],
      "metadata": {
        "id": "fki2tqlHmiTJ"
      }
    },
    {
      "cell_type": "code",
      "source": [
        "dropout = [0.5,0.5]\n",
        "model = WideandDeepNet(\n",
        "    wide_dim,\n",
        "    embeddings_input,\n",
        "    continuous_cols,\n",
        "    deep_column_idx,\n",
        "    hidden_layers,\n",
        "    dropout,\n",
        "    encoding_dict,\n",
        "    n_class)\n",
        "model.compile(optimizer=\"Adam\")\n",
        "if use_cuda:\n",
        "    model = model.cuda()\n",
        "model.fit(dataset=train_dataset, n_epochs=10, batch_size=60)"
      ],
      "outputs": [
        {
          "output_type": "stream",
          "name": "stdout",
          "text": "Epoch 1 of 10, Loss: 2.669\nEpoch 2 of 10, Loss: 0.893\nEpoch 3 of 10, Loss: 2.157\nEpoch 4 of 10, Loss: 1.586\nEpoch 5 of 10, Loss: 1.628\nEpoch 6 of 10, Loss: 1.359\nEpoch 7 of 10, Loss: 0.64\nEpoch 8 of 10, Loss: 2.361\nEpoch 9 of 10, Loss: 1.098\nEpoch 10 of 10, Loss: 2.597\n"
        }
      ],
      "execution_count": null,
      "metadata": {
        "id": "8Wmffy-LmiTK",
        "outputId": "c21dafe6-ce21-4857-87ad-fc4e650615b6"
      }
    },
    {
      "cell_type": "code",
      "source": [
        "plt.plot(np.arange(10),model.loss_values)\n",
        "plt.ylabel('Train Error')\n",
        "plt.xlabel('epoch')\n",
        "\n",
        "plt.title(\"Train error for optimal model\")\n",
        "plt.show()"
      ],
      "outputs": [
        {
          "output_type": "display_data",
          "data": {
            "image/png": "[encoded data removed]",
            "text/plain": "<Figure size 432x288 with 1 Axes>"
          },
          "metadata": {}
        }
      ],
      "execution_count": null,
      "metadata": {
        "id": "b8wQiomMmiTK",
        "outputId": "a7238b91-7375-4542-9a23-478acaf0c856"
      }
    },
    {
      "cell_type": "code",
      "source": [
        "y_pred = model.predict(dataset=test_dataset)\n",
        "y = test_dataset.labels\n",
        "print(\"test mean squared error: \"+str(mean_squared_error(y_pred,y)))\n",
        "print(\"test mean absolute error: \"+ str(mean_absolute_error(y_pred,y)))"
      ],
      "outputs": [
        {
          "output_type": "stream",
          "name": "stdout",
          "text": "test mean squared error: 1.3538917806265323\ntest mean absolute error: 0.9229052796107362\n"
        }
      ],
      "execution_count": null,
      "metadata": {
        "id": "DZyDxlF6miTK",
        "outputId": "22a4b015-204f-4965-d25c-681be92caec0"
      }
    },
    {
      "cell_type": "markdown",
      "source": [
        "### calcualte the time to run the model for different subsets"
      ],
      "metadata": {
        "id": "Ul9o3HX3miTK"
      }
    },
    {
      "cell_type": "code",
      "source": [
        "unique_users = final_df['userId'].unique()\n",
        "user_quantiles = np.arange(0.1,1,0.1)\n",
        "runtimes = []"
      ],
      "outputs": [],
      "execution_count": null,
      "metadata": {
        "id": "7tG_ysT_miTK"
      }
    },
    {
      "cell_type": "code",
      "source": [
        "import time\n",
        "for quantile in user_quantiles:\n",
        "    start_time = time.time()\n",
        "    subset_users = unique_users[:int(len(unique_users)*quantile)]\n",
        "    subset_df = final_df.loc[final_df['userId'].isin(subset_users)]\n",
        "    data_processed = data_processing(\n",
        "        subset_df, wide_cols,\n",
        "        embeddings_cols,\n",
        "        continuous_cols,\n",
        "        target,\n",
        "        scale=True)\n",
        "    model = WideandDeepNet(\n",
        "        wide_dim,\n",
        "        embeddings_input,\n",
        "        continuous_cols,\n",
        "        deep_column_idx,\n",
        "        hidden_layers,\n",
        "        dropout,\n",
        "        encoding_dict,\n",
        "        n_class)\n",
        "    model.compile(optimizer='Adam')\n",
        "    if use_cuda:\n",
        "        model = model.cuda()\n",
        "    train_dataset = data_processed['train_dataset']\n",
        "    model.fit(dataset=train_dataset, n_epochs=1, batch_size=60)\n",
        "    end_time = time.time()\n",
        "    total_time = end_time- start_time\n",
        "    print(\"total time:\" + str(total_time))\n",
        "    runtimes.append(total_time)\n",
        "    "
      ],
      "outputs": [
        {
          "output_type": "stream",
          "name": "stderr",
          "text": "/home/roxor/bin/anaconda3/lib/python3.6/site-packages/sklearn/utils/validation.py:475: DataConversionWarning: Data with input dtype int64 was converted to float64 by StandardScaler.\n  warnings.warn(msg, DataConversionWarning)\n"
        },
        {
          "output_type": "stream",
          "name": "stdout",
          "text": "Epoch 1 of 1, Loss: 0.329\ntotal time:2.0968427658081055\nEpoch 1 of 1, Loss: 0.713\ntotal time:4.748933792114258\nEpoch 1 of 1, Loss: 0.85\ntotal time:6.54540753364563\nEpoch 1 of 1, Loss: 1.187\ntotal time:9.715687036514282\nEpoch 1 of 1, Loss: 1.218\ntotal time:11.353285074234009\nEpoch 1 of 1, Loss: 0.659\ntotal time:13.029703378677368\nEpoch 1 of 1, Loss: 0.407\ntotal time:15.628254652023315\nEpoch 1 of 1, Loss: 1.535\ntotal time:17.98717498779297\nEpoch 1 of 1, Loss: 2.209\ntotal time:20.148995876312256\n"
        }
      ],
      "execution_count": null,
      "metadata": {
        "id": "i2tEjew0miTK",
        "outputId": "1321a62e-3f12-4599-f1f4-2e50a5c23c91"
      }
    },
    {
      "cell_type": "code",
      "source": [
        "plt.plot(user_quantiles,runtimes)\n",
        "plt.ylabel('Runtime')\n",
        "plt.xlabel('quantile size')\n",
        "\n",
        "plt.title(\"Runtime for optimal model for different subset size\")\n",
        "plt.show()"
      ],
      "outputs": [
        {
          "output_type": "display_data",
          "data": {
            "image/png": "[encoded data removed]",
            "text/plain": "<Figure size 432x288 with 1 Axes>"
          },
          "metadata": {}
        }
      ],
      "execution_count": null,
      "metadata": {
        "id": "aNtuAmVYmiTK",
        "outputId": "bc9660f6-9e9c-45ae-bb04-1f1dea40dab2"
      }
    }
  ],
  "metadata": {
    "kernelspec": {
      "name": "python3-azureml",
      "language": "python",
      "display_name": "Python 3.6 - AzureML"
    },
    "language_info": {
      "name": "python",
      "version": "3.6.9",
      "mimetype": "text/x-python",
      "codemirror_mode": {
        "name": "ipython",
        "version": 3
      },
      "pygments_lexer": "ipython3",
      "nbconvert_exporter": "python",
      "file_extension": ".py"
    },
    "colab": {
      "name": "up-selling-wide-deep-model.ipynb",
      "provenance": [],
      "collapsed_sections": [
        "Yd9-mbyLmiTI",
        "kGVkGsm4miTJ",
        "fki2tqlHmiTJ",
        "Ul9o3HX3miTK"
      ]
    },
    "kernel_info": {
      "name": "python3-azureml"
    },
    "nteract": {
      "version": "nteract-front-end@1.0.0"
    },
    "microsoft": {
      "host": {
        "AzureML": {
          "notebookHasBeenCompleted": true
        }
      }
    }
  },
  "nbformat": 4,
  "nbformat_minor": 0
}