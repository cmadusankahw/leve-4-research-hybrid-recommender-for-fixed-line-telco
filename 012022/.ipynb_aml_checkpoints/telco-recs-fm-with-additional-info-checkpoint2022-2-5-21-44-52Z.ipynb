{
  "cells": [
    {
      "cell_type": "markdown",
      "source": [
        "### Load Library"
      ],
      "metadata": {}
    },
    {
      "cell_type": "code",
      "source": [
        "#Load library\n",
        "import numpy as np\n",
        "import pandas as pd\n",
        "import scipy.sparse as sparse\n",
        "import time\n",
        "from math import sqrt\n",
        "import random\n",
        "import matplotlib as matplt\n",
        "import matplotlib.pyplot as plt\n",
        "import seaborn as sns\n",
        "\n",
        "from sklearn.feature_extraction import DictVectorizer\n",
        "from sklearn.model_selection import train_test_split, GridSearchCV\n",
        "from sklearn.preprocessing import OneHotEncoder, LabelBinarizer, normalize, MinMaxScaler, LabelEncoder\n",
        "from fastFM import als\n",
        "from sklearn.metrics import mean_absolute_error, mean_squared_error\n",
        "\n",
        "from surprise import KNNBasic\n",
        "from surprise import Dataset\n",
        "from surprise.model_selection import cross_validate"
      ],
      "outputs": [],
      "execution_count": 1,
      "metadata": {
        "gather": {
          "logged": 1646511900658
        }
      }
    },
    {
      "cell_type": "markdown",
      "source": [
        "### Load Data"
      ],
      "metadata": {}
    },
    {
      "cell_type": "code",
      "source": [
        "#Load data\n",
        "path = \"data/up-selling/peotv/\"\n",
        "\n",
        "#Ratings\n",
        "ratings = pd.read_csv(path+'azure/peoTV_user_ratings.csv')\n",
        "\n",
        "#Packages\n",
        "packages = pd.read_csv(path+'peoTV_package_content.csv')\n",
        "\n",
        "#Users\n",
        "users = pd.read_csv(path+'peoTV_user_content.csv')\n",
        "\n",
        "try:\n",
        "    users.drop([\"Unnamed: 0\"],axis=1,inplace=True)\n",
        "    packages.drop([\"Unnamed: 0\"],axis=1,inplace=True)\n",
        "    ratings.drop([\"Unnamed: 0\"],axis=1,inplace=True)\n",
        "except:\n",
        "    pass\n",
        "\n"
      ],
      "outputs": [],
      "execution_count": 2,
      "metadata": {
        "gather": {
          "logged": 1646511902078
        }
      }
    },
    {
      "cell_type": "markdown",
      "source": [
        "### PARAMETER DEFINTIONS"
      ],
      "metadata": {
        "nteract": {
          "transient": {
            "deleting": false
          }
        }
      }
    },
    {
      "cell_type": "code",
      "source": [
        "USER_COLUMNS = [ \"ACCOUNT_NUM.hash\", \"Voice_INCOMING_Scaled\", \n",
        "            \"Location_Identifier\", \"Location_Node\",  \"Package_Type_and_Medium\", \"Model\", \"Service_Status\",\n",
        "            \"Voice_OUTGOING_Scaled\", \"IDD_INCOMING_Scaled\", \"IDD_incoming_country\",\n",
        "            \"IDD_OUTGOING_Scaled\", \"IDD_outgoing_country\", \"BB_Scaled\", \"BB_Package\", \"GENDER\", \"AGE\",\n",
        "            \"Subscription\", \"Sub_Type\", \"Sub_Usage\", \"Sub_Type_State\", \"Megaline_Package\", \n",
        "            \"Megaline_Medium\", \"Megaline_Rental_Scaled\", \"FTTH_Package\",\n",
        "            \"FTTH_Month_Subscribed\", \"FTTH_Medium\", \"FTTH_Rental_Scaled\", \"LTE_Package\", \"LTE_Medium\",\"LTE_Rental_Scaled\",\n",
        "            \"VAS_Package\", \"Product_Type\", \"VAS_Medium\", \"VAS_Rental_Scaled\", \"Sub_Update_Status\", \"Sub_Update\",\n",
        "            \"BB_Extra_GB_Amount\", \"BB_Extra_GB_Hour_Subscribed\", \"BB_Extra_GB_Usage_Times\",\n",
        "            \"BB_Extra_GB_Purchased_Scaled\", \"BB_Extra_GB_Subscribed_Night\" ,\"BB_Extra_GB_Subscribed_Day\",\n",
        "            \"BB_Extra_GB_Rental_Scaled\", \"Peo_Extra_Channels_Cumulative_Rental\", \"Peo_Extra_Channels_Purchased_Scaled\",\n",
        "            \"Peo_Extra_Channels_Purchased_Categorical\", \"Bill_Outstanding_Balance\", \"Bill_Billing_Status\",\n",
        "            \"Payment_Status\", \"Package_Formatted\", \"TARIFF_DESC\", \"TARIFF_NAME\", \"Having_Insurance\",\n",
        "            \"Having_Senior_Citizen_Scaled\",\"Having_Kids_at_Home_Scaled\",\"SMEs_Scaled\",\n",
        "            \"Having_Teenagers_Students_Scaled\",\"Having_Working_Professionals_Scaled\",\"Having_Family_Member_Abroad_Scaled\",\n",
        "            \"Tamil_Customer\"]\n",
        "\n",
        "PACKAGE_COLUMNS = [\"package\", 'Title', 'Price', 'Monthly_Rental',\n",
        "            'PEOTV_No_of_Channels', 'PEOTV_Foreign_Channels','PEOTV_Local_Channels', 'PEOTV_Movie_Channels', \n",
        "            'PEOTV_Kids_Channels','PEOTV_Religious_Channels', 'PEOTV_Tamil_Channels','PEOTV_Educational_Channels', \n",
        "            'PEOTV_Music_Channels','PEOTV_Sports_Channels', 'PEOTV_News_Channels', 'PEOTV_HD_Pack']\n",
        "\n",
        "ITEM_COLUMN = \"itemId\"\n",
        "USER_COULMN = \"userId\"\n",
        "RATING_COLUMN = \"rating\"\n",
        "OUTLIER_COLUMNS = [\"Voice_INCOMING_Outlier\",\"Voice_OUTGOING_Outlier\"]"
      ],
      "outputs": [],
      "execution_count": 3,
      "metadata": {
        "jupyter": {
          "source_hidden": false,
          "outputs_hidden": false
        },
        "nteract": {
          "transient": {
            "deleting": false
          }
        },
        "gather": {
          "logged": 1646511902141
        }
      }
    },
    {
      "cell_type": "markdown",
      "source": [
        "## Pre Processing"
      ],
      "metadata": {
        "nteract": {
          "transient": {
            "deleting": false
          }
        }
      }
    },
    {
      "cell_type": "code",
      "source": [
        "# one hot encoder\n",
        "def oneHotEncoder(array_1d):\n",
        "    label = LabelEncoder().fit_transform(array_1d)\n",
        "    label = label.reshape(len(label), 1)\n",
        "    one_hot = OneHotEncoder(sparse=False).fit_transform(label)\n",
        "    return one_hot\n",
        "\n",
        "# min-max scaler\n",
        "def minMaxScale(array_2d):\n",
        "    return MinMaxScaler().fit_transform(array_2d)\n",
        "\n",
        "# Turkey's box-plot method to clip outliers\n",
        "def outliers(s, replace=np.nan):\n",
        "    Q1, Q3 = np.percentile(s, [25 ,75])\n",
        "    IQR = Q3-Q1\n",
        "    return s.where((s > (Q1 - 1.5 * IQR)) & (s < (Q3 + 1.5 * IQR)), replace)\n",
        "\n",
        "# clip outliers\n",
        "def drop_numerical_outliers(df, cols):\n",
        "  df[cols] = df[cols].apply(outliers)\n",
        "  return df\n",
        "\n",
        "# handle pre-defined outliers\n",
        "def handle_outliers(df, cols):\n",
        "  for col in cols:\n",
        "    df = df[(df[col] != \"YES\")]\n",
        "  return df\n",
        "\n",
        "# drop unwanted cols\n",
        "def drop_cols(df, columns):\n",
        "  cols_to_drop = []\n",
        "  for col in columns:\n",
        "    if col not in df.columns:\n",
        "      cols_to_drop.append(col)\n",
        "  return df.drop(cols_to_drop, axis=1)\n",
        "\n",
        "\n",
        "def expand_df(df, lst_cols, fill_value=''):\n",
        "    # make sure `lst_cols` is a list\n",
        "    if lst_cols and not isinstance(lst_cols, list):\n",
        "        lst_cols = [lst_cols]\n",
        "    # all columns except `lst_cols`\n",
        "    idx_cols = df.columns.difference(lst_cols)\n",
        "\n",
        "    # calculate lengths of lists\n",
        "    lens = df[lst_cols[0]].str.len()\n",
        "\n",
        "    if (lens > 0).all():\n",
        "        # ALL lists in cells aren't empty\n",
        "        return pd.DataFrame({\n",
        "            col:np.repeat(df[col].values, lens)\n",
        "            for col in idx_cols\n",
        "        }).assign(**{col:np.concatenate(df[col].values) for col in lst_cols}) \\\n",
        "          .loc[:, df.columns]\n",
        "    else:\n",
        "        # at least one list in cells is empty\n",
        "        return pd.DataFrame({\n",
        "            col:np.repeat(df[col].values, lens)\n",
        "            for col in idx_cols\n",
        "        }).assign(**{col:np.concatenate(df[col].values) for col in lst_cols}) \\\n",
        "          .append(df.loc[lens==0, idx_cols]).fillna(fill_value) \\\n",
        "          .loc[:, df.columns]"
      ],
      "outputs": [],
      "execution_count": 4,
      "metadata": {
        "jupyter": {
          "source_hidden": false,
          "outputs_hidden": false
        },
        "nteract": {
          "transient": {
            "deleting": false
          }
        },
        "gather": {
          "logged": 1646511902363
        }
      }
    },
    {
      "cell_type": "code",
      "source": [
        "# drop unused columns for analysis\n",
        "users.drop(columns=[col for col in users if col not in USER_COLUMNS], inplace=True)\n",
        "packages.drop(columns=[col for col in packages if col not in PACKAGE_COLUMNS], inplace=True)\n",
        "\n",
        "ratings.columns = [USER_COULMN, ITEM_COLUMN, RATING_COLUMN]\n",
        "packages.rename(columns = {'package':ITEM_COLUMN}, inplace = True)\n",
        "users.rename(columns = {'ACCOUNT_NUM.hash':USER_COULMN}, inplace = True)\n",
        "\n",
        "ratings.sort_values(by=[USER_COULMN,RATING_COLUMN],inplace=True,ascending=False)\n",
        "ratings = ratings.drop_duplicates(keep=\"first\").reset_index().drop(\"index\", axis=1)"
      ],
      "outputs": [],
      "execution_count": 5,
      "metadata": {
        "jupyter": {
          "source_hidden": false,
          "outputs_hidden": false
        },
        "nteract": {
          "transient": {
            "deleting": false
          }
        },
        "gather": {
          "logged": 1646511902453
        }
      }
    },
    {
      "cell_type": "markdown",
      "source": [
        "### Data Quality"
      ],
      "metadata": {}
    },
    {
      "cell_type": "code",
      "source": [
        "#Data quality\n",
        "print('Duplicated rows in ratings file: ' + str(ratings.duplicated().sum()))\n",
        "\n",
        "n_users = ratings[USER_COULMN].unique().shape[0]\n",
        "n_packages = ratings[ITEM_COLUMN].unique().shape[0]\n",
        "\n",
        "print('Number of users: {}'.format(n_users))\n",
        "print('Number of packages: {}'.format(n_packages))\n",
        "print('Sparsity: {:4.3f}%'.format(float(ratings.shape[0]) / float(n_users*n_packages) * 100))"
      ],
      "outputs": [
        {
          "output_type": "stream",
          "name": "stdout",
          "text": "Duplicated rows in ratings file: 0\nNumber of users: 19019\nNumber of packages: 49\nSparsity: 9.579%\n"
        }
      ],
      "execution_count": 6,
      "metadata": {
        "gather": {
          "logged": 1646511902522
        }
      }
    },
    {
      "cell_type": "code",
      "source": [
        "# packages = expand_df(packages, ['Genres'])\n",
        "# df_dummy = pd.get_dummies(ratings_ffm['Genres'])"
      ],
      "outputs": [],
      "execution_count": 7,
      "metadata": {
        "gather": {
          "logged": 1646511902594
        }
      }
    },
    {
      "cell_type": "code",
      "source": [
        "rating_package = pd.merge(ratings,packages,how='left',on=ITEM_COLUMN)\n",
        "final_df = pd.merge(rating_package,users,how='left',on=USER_COULMN)"
      ],
      "outputs": [],
      "execution_count": 8,
      "metadata": {
        "jupyter": {
          "source_hidden": false,
          "outputs_hidden": false
        },
        "nteract": {
          "transient": {
            "deleting": false
          }
        },
        "gather": {
          "logged": 1646511903073
        }
      }
    },
    {
      "cell_type": "code",
      "source": [
        "scalable_cols = []\n",
        "\n",
        "for col in final_df._get_numeric_data().columns:\n",
        "    if final_df[col].max() > 1.0:\n",
        "        scalable_cols.append(col)\n",
        "\n",
        "# Min Max Scaler for all cols above value 1\n",
        "scaler = MinMaxScaler()\n",
        "\n",
        "final_df[scalable_cols] = scaler.fit_transform(final_df[scalable_cols])\n",
        "\n",
        "final_df.describe()"
      ],
      "outputs": [
        {
          "output_type": "execute_result",
          "execution_count": 9,
          "data": {
            "text/plain": "             rating    Price  Monthly_Rental  PEOTV_No_of_Channels  \\\ncount  89307.000000  88066.0    88066.000000          88066.000000   \nmean       0.424245      0.0        0.310262              0.452640   \nstd        0.283187      0.0        0.238492              0.324084   \nmin        0.000000      0.0        0.000000              0.000000   \n25%        0.199710      0.0        0.000000              0.000000   \n50%        0.392886      0.0        0.428299              0.663866   \n75%        0.613653      0.0        0.428299              0.663866   \nmax        1.000000      0.0        1.000000              1.000000   \n\n       PEOTV_Foreign_Channels  PEOTV_Local_Channels  PEOTV_Movie_Channels  \\\ncount            88066.000000          88066.000000          88066.000000   \nmean                 0.333217              0.654487              0.143893   \nstd                  0.249071              0.469676              0.244273   \nmin                  0.000000              0.000000              0.000000   \n25%                  0.000000              0.000000              0.000000   \n50%                  0.466667              1.000000              0.111111   \n75%                  0.466667              1.000000              0.111111   \nmax                  1.000000              1.000000              1.000000   \n\n       PEOTV_Kids_Channels  PEOTV_Religious_Channels  PEOTV_Tamil_Channels  \\\ncount         88066.000000              88066.000000          88066.000000   \nmean              0.267062                  0.661427              0.145462   \nstd               0.214774                  0.468754              0.160568   \nmin               0.000000                  0.000000              0.000000   \n25%               0.000000                  0.000000              0.000000   \n50%               0.375000                  1.000000              0.181818   \n75%               0.375000                  1.000000              0.181818   \nmax               1.000000                  1.000000              1.000000   \n\n       ...  BB_Extra_GB_Rental_Scaled  Peo_Extra_Channels_Cumulative_Rental  \\\ncount  ...               80931.000000                          80931.000000   \nmean   ...                   0.003822                              0.029823   \nstd    ...                   0.012230                              0.157689   \nmin    ...                   0.000000                              0.000000   \n25%    ...                   0.000000                              0.000000   \n50%    ...                   0.000000                              0.000000   \n75%    ...                   0.002738                              0.000000   \nmax    ...                   0.273188                              1.000000   \n\n       Peo_Extra_Channels_Purchased_Scaled  Bill_Outstanding_Balance  \\\ncount                         80931.000000              80931.000000   \nmean                              0.012855                  0.009815   \nstd                               0.069904                  0.025355   \nmin                               0.000000                  0.000000   \n25%                               0.000000                  0.008900   \n50%                               0.000000                  0.009060   \n75%                               0.000000                  0.009302   \nmax                               0.450000                  1.000000   \n\n       Having_Senior_Citizen_Scaled  Having_Kids_at_Home_Scaled   SMEs_Scaled  \\\ncount                  80931.000000                80931.000000  80931.000000   \nmean                       0.212002                    0.212099      0.283943   \nstd                        0.234759                    0.110486      0.196516   \nmin                        0.000000                    0.000000      0.000000   \n25%                        0.000000                    0.137931      0.200000   \n50%                        0.300000                    0.206897      0.300000   \n75%                        0.300000                    0.310345      0.400000   \nmax                        1.000000                    1.000000      1.000000   \n\n       Having_Teenagers_Students_Scaled  Having_Working_Professionals_Scaled  \\\ncount                      80931.000000                         80931.000000   \nmean                           0.198622                             0.241508   \nstd                            0.147557                             0.164969   \nmin                            0.000000                             0.000000   \n25%                            0.062500                             0.100000   \n50%                            0.187500                             0.200000   \n75%                            0.312500                             0.350000   \nmax                            1.000000                             1.000000   \n\n       Having_Family_Member_Abroad_Scaled  \ncount                        80931.000000  \nmean                             0.055189  \nstd                              0.113940  \nmin                              0.000000  \n25%                              0.000000  \n50%                              0.000000  \n75%                              0.040000  \nmax                              1.000000  \n\n[8 rows x 39 columns]",
            "text/html": "<div>\n<style scoped>\n    .dataframe tbody tr th:only-of-type {\n        vertical-align: middle;\n    }\n\n    .dataframe tbody tr th {\n        vertical-align: top;\n    }\n\n    .dataframe thead th {\n        text-align: right;\n    }\n</style>\n<table border=\"1\" class=\"dataframe\">\n  <thead>\n    <tr style=\"text-align: right;\">\n      <th></th>\n      <th>rating</th>\n      <th>Price</th>\n      <th>Monthly_Rental</th>\n      <th>PEOTV_No_of_Channels</th>\n      <th>PEOTV_Foreign_Channels</th>\n      <th>PEOTV_Local_Channels</th>\n      <th>PEOTV_Movie_Channels</th>\n      <th>PEOTV_Kids_Channels</th>\n      <th>PEOTV_Religious_Channels</th>\n      <th>PEOTV_Tamil_Channels</th>\n      <th>...</th>\n      <th>BB_Extra_GB_Rental_Scaled</th>\n      <th>Peo_Extra_Channels_Cumulative_Rental</th>\n      <th>Peo_Extra_Channels_Purchased_Scaled</th>\n      <th>Bill_Outstanding_Balance</th>\n      <th>Having_Senior_Citizen_Scaled</th>\n      <th>Having_Kids_at_Home_Scaled</th>\n      <th>SMEs_Scaled</th>\n      <th>Having_Teenagers_Students_Scaled</th>\n      <th>Having_Working_Professionals_Scaled</th>\n      <th>Having_Family_Member_Abroad_Scaled</th>\n    </tr>\n  </thead>\n  <tbody>\n    <tr>\n      <th>count</th>\n      <td>89307.000000</td>\n      <td>88066.0</td>\n      <td>88066.000000</td>\n      <td>88066.000000</td>\n      <td>88066.000000</td>\n      <td>88066.000000</td>\n      <td>88066.000000</td>\n      <td>88066.000000</td>\n      <td>88066.000000</td>\n      <td>88066.000000</td>\n      <td>...</td>\n      <td>80931.000000</td>\n      <td>80931.000000</td>\n      <td>80931.000000</td>\n      <td>80931.000000</td>\n      <td>80931.000000</td>\n      <td>80931.000000</td>\n      <td>80931.000000</td>\n      <td>80931.000000</td>\n      <td>80931.000000</td>\n      <td>80931.000000</td>\n    </tr>\n    <tr>\n      <th>mean</th>\n      <td>0.424245</td>\n      <td>0.0</td>\n      <td>0.310262</td>\n      <td>0.452640</td>\n      <td>0.333217</td>\n      <td>0.654487</td>\n      <td>0.143893</td>\n      <td>0.267062</td>\n      <td>0.661427</td>\n      <td>0.145462</td>\n      <td>...</td>\n      <td>0.003822</td>\n      <td>0.029823</td>\n      <td>0.012855</td>\n      <td>0.009815</td>\n      <td>0.212002</td>\n      <td>0.212099</td>\n      <td>0.283943</td>\n      <td>0.198622</td>\n      <td>0.241508</td>\n      <td>0.055189</td>\n    </tr>\n    <tr>\n      <th>std</th>\n      <td>0.283187</td>\n      <td>0.0</td>\n      <td>0.238492</td>\n      <td>0.324084</td>\n      <td>0.249071</td>\n      <td>0.469676</td>\n      <td>0.244273</td>\n      <td>0.214774</td>\n      <td>0.468754</td>\n      <td>0.160568</td>\n      <td>...</td>\n      <td>0.012230</td>\n      <td>0.157689</td>\n      <td>0.069904</td>\n      <td>0.025355</td>\n      <td>0.234759</td>\n      <td>0.110486</td>\n      <td>0.196516</td>\n      <td>0.147557</td>\n      <td>0.164969</td>\n      <td>0.113940</td>\n    </tr>\n    <tr>\n      <th>min</th>\n      <td>0.000000</td>\n      <td>0.0</td>\n      <td>0.000000</td>\n      <td>0.000000</td>\n      <td>0.000000</td>\n      <td>0.000000</td>\n      <td>0.000000</td>\n      <td>0.000000</td>\n      <td>0.000000</td>\n      <td>0.000000</td>\n      <td>...</td>\n      <td>0.000000</td>\n      <td>0.000000</td>\n      <td>0.000000</td>\n      <td>0.000000</td>\n      <td>0.000000</td>\n      <td>0.000000</td>\n      <td>0.000000</td>\n      <td>0.000000</td>\n      <td>0.000000</td>\n      <td>0.000000</td>\n    </tr>\n    <tr>\n      <th>25%</th>\n      <td>0.199710</td>\n      <td>0.0</td>\n      <td>0.000000</td>\n      <td>0.000000</td>\n      <td>0.000000</td>\n      <td>0.000000</td>\n      <td>0.000000</td>\n      <td>0.000000</td>\n      <td>0.000000</td>\n      <td>0.000000</td>\n      <td>...</td>\n      <td>0.000000</td>\n      <td>0.000000</td>\n      <td>0.000000</td>\n      <td>0.008900</td>\n      <td>0.000000</td>\n      <td>0.137931</td>\n      <td>0.200000</td>\n      <td>0.062500</td>\n      <td>0.100000</td>\n      <td>0.000000</td>\n    </tr>\n    <tr>\n      <th>50%</th>\n      <td>0.392886</td>\n      <td>0.0</td>\n      <td>0.428299</td>\n      <td>0.663866</td>\n      <td>0.466667</td>\n      <td>1.000000</td>\n      <td>0.111111</td>\n      <td>0.375000</td>\n      <td>1.000000</td>\n      <td>0.181818</td>\n      <td>...</td>\n      <td>0.000000</td>\n      <td>0.000000</td>\n      <td>0.000000</td>\n      <td>0.009060</td>\n      <td>0.300000</td>\n      <td>0.206897</td>\n      <td>0.300000</td>\n      <td>0.187500</td>\n      <td>0.200000</td>\n      <td>0.000000</td>\n    </tr>\n    <tr>\n      <th>75%</th>\n      <td>0.613653</td>\n      <td>0.0</td>\n      <td>0.428299</td>\n      <td>0.663866</td>\n      <td>0.466667</td>\n      <td>1.000000</td>\n      <td>0.111111</td>\n      <td>0.375000</td>\n      <td>1.000000</td>\n      <td>0.181818</td>\n      <td>...</td>\n      <td>0.002738</td>\n      <td>0.000000</td>\n      <td>0.000000</td>\n      <td>0.009302</td>\n      <td>0.300000</td>\n      <td>0.310345</td>\n      <td>0.400000</td>\n      <td>0.312500</td>\n      <td>0.350000</td>\n      <td>0.040000</td>\n    </tr>\n    <tr>\n      <th>max</th>\n      <td>1.000000</td>\n      <td>0.0</td>\n      <td>1.000000</td>\n      <td>1.000000</td>\n      <td>1.000000</td>\n      <td>1.000000</td>\n      <td>1.000000</td>\n      <td>1.000000</td>\n      <td>1.000000</td>\n      <td>1.000000</td>\n      <td>...</td>\n      <td>0.273188</td>\n      <td>1.000000</td>\n      <td>0.450000</td>\n      <td>1.000000</td>\n      <td>1.000000</td>\n      <td>1.000000</td>\n      <td>1.000000</td>\n      <td>1.000000</td>\n      <td>1.000000</td>\n      <td>1.000000</td>\n    </tr>\n  </tbody>\n</table>\n<p>8 rows × 39 columns</p>\n</div>"
          },
          "metadata": {}
        }
      ],
      "execution_count": 9,
      "metadata": {
        "jupyter": {
          "source_hidden": false,
          "outputs_hidden": false
        },
        "nteract": {
          "transient": {
            "deleting": false
          }
        },
        "gather": {
          "logged": 1646511903542
        }
      }
    },
    {
      "cell_type": "markdown",
      "source": [
        "### Feature Selection "
      ],
      "metadata": {
        "nteract": {
          "transient": {
            "deleting": false
          }
        }
      }
    },
    {
      "cell_type": "code",
      "source": [
        "le_data = final_df.copy()\n",
        "\n",
        "ALL_COLUMNS = list(le_data.columns)\n",
        "ALL_COLUMNS.remove(ITEM_COLUMN)\n",
        "ALL_COLUMNS.remove(USER_COULMN)\n",
        "ALL_COLUMNS.remove(RATING_COLUMN)\n",
        "CONTINUOUS_COLUMNS = list(le_data._get_numeric_data().columns)\n",
        "CONTINUOUS_COLUMNS.remove(RATING_COLUMN)\n",
        "CATEGORICAL_COLUMNS = list(set(ALL_COLUMNS) - set(CONTINUOUS_COLUMNS))\n",
        "\n",
        "for c in CATEGORICAL_COLUMNS:\n",
        "    le = LabelEncoder()\n",
        "    le_data[c] = le.fit_transform(final_df[c])"
      ],
      "outputs": [],
      "execution_count": 10,
      "metadata": {
        "jupyter": {
          "source_hidden": false,
          "outputs_hidden": false
        },
        "nteract": {
          "transient": {
            "deleting": false
          }
        },
        "gather": {
          "logged": 1646511904773
        }
      }
    },
    {
      "cell_type": "code",
      "source": [
        "cor_df = le_data.drop(columns=[col for col in le_data if col not in ALL_COLUMNS])\n",
        "corr = cor_df.corr()\n",
        "sns.heatmap(corr)"
      ],
      "outputs": [
        {
          "output_type": "execute_result",
          "execution_count": 11,
          "data": {
            "text/plain": "<matplotlib.axes._subplots.AxesSubplot at 0x7fe2ac398160>"
          },
          "metadata": {}
        },
        {
          "output_type": "display_data",
          "data": {
            "text/plain": "<Figure size 432x288 with 2 Axes>",
            "image/png": "[encoded data removed]"
          },
          "metadata": {
            "needs_background": "light"
          }
        }
      ],
      "execution_count": 11,
      "metadata": {
        "jupyter": {
          "source_hidden": false,
          "outputs_hidden": false
        },
        "nteract": {
          "transient": {
            "deleting": false
          }
        },
        "gather": {
          "logged": 1646511907550
        }
      }
    },
    {
      "cell_type": "code",
      "source": [
        "# select columns (selected features)\n",
        "cols = np.full((corr.shape[0],), True, dtype=bool)\n",
        "for i in range(corr.shape[0]):\n",
        "    for j in range(i+1, corr.shape[0]):\n",
        "        if corr.iloc[i,j] >= 0.9:\n",
        "            if cols[j]:\n",
        "                cols[j] = False\n",
        "\n",
        "selected_columns = cor_df.columns[cols]\n",
        "print(\"Selected Columns\", selected_columns)\n",
        "print(\"\\nSelected no of columns\", len(selected_columns))\n",
        "\n",
        "# final dataframe to merge model predictions\n",
        "le_data = le_data[[USER_COULMN,ITEM_COLUMN,RATING_COLUMN] + list(selected_columns)]\n",
        "\n",
        "# for column list generation\n",
        "final_df = final_df[[USER_COULMN,ITEM_COLUMN,RATING_COLUMN] + list(selected_columns)]"
      ],
      "outputs": [
        {
          "output_type": "stream",
          "name": "stdout",
          "text": "Selected Columns Index(['Title', 'Price', 'Monthly_Rental', 'PEOTV_Movie_Channels',\n       'PEOTV_Tamil_Channels', 'PEOTV_HD_Pack', 'Voice_INCOMING_Scaled',\n       'Location_Identifier', 'Location_Node', 'Package_Type_and_Medium',\n       'Model', 'Voice_OUTGOING_Scaled', 'IDD_INCOMING_Scaled',\n       'IDD_incoming_country', 'IDD_OUTGOING_Scaled', 'IDD_outgoing_country',\n       'BB_Scaled', 'GENDER', 'AGE', 'Subscription', 'Sub_Type', 'Sub_Usage',\n       'Sub_Type_State', 'Megaline_Package', 'Megaline_Rental_Scaled',\n       'FTTH_Month_Subscribed', 'FTTH_Rental_Scaled', 'LTE_Package',\n       'LTE_Rental_Scaled', 'VAS_Package', 'Product_Type', 'VAS_Rental_Scaled',\n       'Sub_Update', 'BB_Extra_GB_Amount', 'BB_Extra_GB_Hour_Subscribed',\n       'BB_Extra_GB_Usage_Times', 'BB_Extra_GB_Subscribed_Night',\n       'BB_Extra_GB_Subscribed_Day', 'Peo_Extra_Channels_Cumulative_Rental',\n       'Peo_Extra_Channels_Purchased_Categorical', 'Bill_Outstanding_Balance',\n       'Bill_Billing_Status', 'Package_Formatted', 'TARIFF_DESC',\n       'TARIFF_NAME', 'Having_Insurance', 'Having_Senior_Citizen_Scaled',\n       'Having_Kids_at_Home_Scaled', 'SMEs_Scaled',\n       'Having_Teenagers_Students_Scaled',\n       'Having_Working_Professionals_Scaled',\n       'Having_Family_Member_Abroad_Scaled', 'Tamil_Customer'],\n      dtype='object')\n\nSelected no of columns 53\n"
        }
      ],
      "execution_count": 12,
      "metadata": {
        "jupyter": {
          "source_hidden": false,
          "outputs_hidden": false
        },
        "nteract": {
          "transient": {
            "deleting": false
          }
        },
        "gather": {
          "logged": 1646511907702
        }
      }
    },
    {
      "cell_type": "code",
      "source": [
        "df_final = final_df.groupby([USER_COULMN, ITEM_COLUMN, RATING_COLUMN]).sum().reset_index()\n",
        "print(df_final.shape)"
      ],
      "outputs": [
        {
          "output_type": "stream",
          "name": "stdout",
          "text": "(89270, 29)\n"
        }
      ],
      "execution_count": 13,
      "metadata": {
        "gather": {
          "logged": 1646511907785
        }
      }
    },
    {
      "cell_type": "code",
      "source": [
        "# df_final.drop([\"AGE\",\"Megaline_Rental_Scaled\",\"FTTH_Rental_Scaled\",\"LTE_Rental_Scaled\",\"BB_Extra_GB_Subscribed_Night\",\"BB_Extra_GB_Subscribed_Day\",\"Bill_Outstanding_Balance\"],axis=1, inplace = True)"
      ],
      "outputs": [],
      "execution_count": 14,
      "metadata": {
        "jupyter": {
          "source_hidden": false,
          "outputs_hidden": false
        },
        "nteract": {
          "transient": {
            "deleting": false
          }
        },
        "gather": {
          "logged": 1646511907888
        }
      }
    },
    {
      "cell_type": "markdown",
      "source": [
        "### Functions used in training factorization machine"
      ],
      "metadata": {}
    },
    {
      "cell_type": "code",
      "source": [
        "#subset data\n",
        "def subsetdata(data, by, subset_quantile):\n",
        "    filter_standard = data.groupby([by]).size().reset_index(name='counts').counts.quantile(subset_quantile)\n",
        "    subset_data = data.groupby(by).filter(lambda x: len(x) >= filter_standard)\n",
        "    \n",
        "    return filter_standard, subset_data\n",
        "\n",
        "\n",
        "#split train and test data\n",
        "def split_testtrain(ratings, fraction):\n",
        "    #Transform data in matrix format\n",
        "    colnames = ratings.columns.values\n",
        "    new_colnames = []\n",
        "    i = 1\n",
        "    for col in list(colnames):\n",
        "        new_colnames.append(\"{}_{}\".format(str(i),str(col)))\n",
        "\n",
        "    ratings = ratings.rename(index=str, columns=dict(zip(colnames, new_colnames)))\n",
        "    \n",
        "    ratings_df = ratings.to_dict(orient=\"records\")\n",
        "    \n",
        "    dv = DictVectorizer()\n",
        "    ratings_mat = dv.fit_transform(ratings_df).toarray()\n",
        "    \n",
        "    #Split data\n",
        "    x_train, x_test, y_train, y_test = train_test_split(ratings_mat[:,1:], ratings_mat[:,:1], test_size=fraction)\n",
        "    \n",
        "    return x_train, x_test, y_train.T[0], y_test.T[0]\n",
        "\n",
        "\n",
        "#One hot encoding\n",
        "def OneHotEncoding(train,test):\n",
        "    encoder = OneHotEncoder(handle_unknown='ignore').fit(train)\n",
        "    train = encoder.transform(train)\n",
        "    test = encoder.transform(test)\n",
        "    return train, test\n",
        "\n",
        "\n",
        "#Gridsearch for the optimal parameter\n",
        "def param_selection(X, y, n_folds):\n",
        "    start = time.time()\n",
        "    grid_param = {  \n",
        "    'n_iter' : np.arange(0,120,25)[1:],\n",
        "    'rank' :  np.arange(2,12,4),\n",
        "    }\n",
        "    grid_search = GridSearchCV(als.FMRegression(l2_reg_w=0.1,l2_reg_V=0.1), cv=n_folds, param_grid=grid_param, verbose=10)\n",
        "    grid_search.fit(X, y)\n",
        "    grid_search.best_params_\n",
        "    print(time.time()-start)\n",
        "    return grid_search.best_params_\n",
        "\n",
        "\n",
        "def rec_coverage(x_test, y_test, prediction, rec_num):\n",
        "    ratings = pd.DataFrame()\n",
        "    ratings['user'] = x_test[:,0]\n",
        "    ratings['package'] = x_test[:,1]\n",
        "    ratings['rating'] = y_test\n",
        "    \n",
        "    pred = ratings.copy()\n",
        "    pred['rating'] = prediction\n",
        "    \n",
        "    rating_table = pd.pivot_table(ratings, index='user', columns = 'package', values = 'rating')\n",
        "    pred_table = pd.pivot_table(pred, index='user', columns = 'package', values = 'rating')\n",
        "    \n",
        "    rec_movies = []\n",
        "    rec = pred_table - rating_table\n",
        "    for user in rec.index:\n",
        "            rec_item = pred_table.loc[user,:].sort_values(ascending = False).head(rec_num).index.tolist()\n",
        "            rec_movies += rec_item\n",
        "    n_rec = len(set(rec_movies))\n",
        "    n_movies = pred_table.shape[1]\n",
        "    coverage = round(float(n_rec)/n_movies,2)\n",
        "    \n",
        "    return coverage\n",
        "\n",
        "\n",
        "def create_plot(x1, x2, x3, y1, y2, y3, kind):\n",
        "    pal = sns.color_palette(\"Set2\")\n",
        "    \n",
        "    matplt.figure.Figure(figsize=(5000,5000))\n",
        "    plt.plot(x1, y1, c=pal[0], label=\"Filter-User\", linewidth=3)\n",
        "    plt.plot(x2, y2, c=pal[1], label=\"Filter-Package\", linewidth=3)\n",
        "    plt.plot(x3, y3, c=pal[2], label=\"Filter-Both\", linewidth=3)\n",
        "    plt.legend(loc='best', fontsize=12)\n",
        "    plt.xticks(fontsize=12);\n",
        "    plt.yticks(fontsize=12);\n",
        "    plt.xlabel(\"Sampled Data Size\", fontsize=14);\n",
        "    plt.ylabel(kind, fontsize=14);\n",
        "    plt.title(kind, loc='center', fontsize=16);\n",
        "    plt.show()"
      ],
      "outputs": [],
      "execution_count": 15,
      "metadata": {
        "gather": {
          "logged": 1646511907983
        }
      }
    },
    {
      "cell_type": "markdown",
      "source": [
        "### Factorization Machine"
      ],
      "metadata": {}
    },
    {
      "cell_type": "code",
      "source": [
        "def FieldFactorizationMachine(ratings, subset_by, subset_quantile, op_iter, op_rank):\n",
        "    \n",
        "    #Initialize output\n",
        "    final_output = pd.DataFrame()\n",
        "    result_dict = []\n",
        "    n_iteration = 1 \n",
        "    last_RMSE = 100\n",
        "    threshold = 0\n",
        "    \n",
        "    for quantile in subset_quantile:\n",
        "        print(\"---Running iteration \" + str(n_iteration) + \" ---\")\n",
        "        print(\"---Subsetting Original Data---\")\n",
        "        \n",
        "        #subset original data\n",
        "        if subset_by == USER_COULMN:\n",
        "            filter_standard, subset_ratings = subsetdata(ratings, USER_COULMN, quantile)\n",
        "        elif subset_by == ITEM_COLUMN:\n",
        "            filter_standard, subset_ratings = subsetdata(ratings, ITEM_COLUMN, quantile)\n",
        "        else:\n",
        "            f1, subset_u = subsetdata(ratings, USER_COULMN, quantile)\n",
        "            f2, subset_ratings = subsetdata(subset_u, ITEM_COLUMN, quantile)\n",
        "            filter_standard = \"(\"+str(f1)+\",\"+str(f2)+\")\"\n",
        "        \n",
        "        n_users = subset_ratings[USER_COULMN].unique().shape[0]\n",
        "        n_items = subset_ratings[ITEM_COLUMN].unique().shape[0]\n",
        "        n_size = subset_ratings.shape[0]*subset_ratings.shape[1]\n",
        "        \n",
        "        sparsity = round(float(subset_ratings.shape[0]) / float(n_users*n_items),2)\n",
        "        \n",
        "        print(\"---Spliting Test and Train Data---\")\n",
        "        #split test and train data\n",
        "        xtrain, xtest, ytrain, ytest = split_testtrain(subset_ratings, 0.2)\n",
        "\n",
        "        print(\"---Encoding Data---\")\n",
        "        #encode data\n",
        "        xtrain_enc, xtest_enc = OneHotEncoding(xtrain, xtest)\n",
        "        \n",
        "       \n",
        "        start = time.time()\n",
        "        print(\"---Factorization Machine---\")\n",
        "        #Factorization machine\n",
        "        fm = als.FMRegression(n_iter=op_iter, rank=op_rank, l2_reg_w=0.1, l2_reg_V=0.1)\n",
        "        fm.fit(xtrain_enc, ytrain)\n",
        "        predictions = fm.predict(xtest_enc)\n",
        "        spent_time = time.time() - start\n",
        "        #Evaluation metrics\n",
        "        rmse = sqrt(mean_squared_error(ytest,predictions))\n",
        "        mae = mean_absolute_error(ytest,predictions)\n",
        "        coverage = rec_coverage(xtest, ytest, predictions, 10)\n",
        "        \n",
        "        if rmse < last_RMSE:\n",
        "            last_RMSE = rmse\n",
        "            threshold = filter_standard\n",
        "            out = pd.DataFrame()\n",
        "            out['user'] = xtest[:,0]\n",
        "            out['package'] = xtest[:,1]\n",
        "            out['rating'] = ytest\n",
        "            out['prediction'] = predictions\n",
        "            \n",
        "            final_output = out.copy()\n",
        "        \n",
        "        result_dict.append([quantile, filter_standard, n_size, n_users, n_items, sparsity, op_iter, op_rank, spent_time, mae, rmse, coverage])\n",
        "        n_iteration += 1\n",
        "    \n",
        "    results = pd.DataFrame(result_dict)\n",
        "    results.columns = [\"Quantile\", \"Threshold\", \"Size\", \"Num_Users\", \"Num_Packages\", \"Sparsity\", \"OP_Iter\", \"OP_Rank\", \"Running Time\", \"MAE\", \"RMSE\", \"Coverage\"]\n",
        "    \n",
        "    final_output.to_csv(\"FFM_Output_\"+subset_by+\"_\"+str(threshold)+\".csv\", sep=',', encoding='utf-8', index=False)\n",
        "    \n",
        "    return results"
      ],
      "outputs": [],
      "execution_count": 16,
      "metadata": {
        "gather": {
          "logged": 1646511908091
        }
      }
    },
    {
      "cell_type": "code",
      "source": [
        "quantile_list = np.arange(0.1,1,0.1)"
      ],
      "outputs": [],
      "execution_count": 17,
      "metadata": {
        "gather": {
          "logged": 1646511908374
        }
      }
    },
    {
      "cell_type": "markdown",
      "source": [
        "### Subset method 1 - Subset data from less prolific users to prolific users"
      ],
      "metadata": {}
    },
    {
      "cell_type": "code",
      "source": [
        "accuracy_matrix_user = FieldFactorizationMachine(df_final, USER_COULMN, quantile_list, 2, 2)"
      ],
      "outputs": [
        {
          "output_type": "stream",
          "name": "stdout",
          "text": "---Running iteration 1 ---\n---Subsetting Original Data---\n---Spliting Test and Train Data---\n---Encoding Data---\n---Factorization Machine---\n---Running iteration 2 ---\n---Subsetting Original Data---\n---Spliting Test and Train Data---\n---Encoding Data---\n---Factorization Machine---\n---Running iteration 3 ---\n---Subsetting Original Data---\n---Spliting Test and Train Data---\n---Encoding Data---\n---Factorization Machine---\n---Running iteration 4 ---\n---Subsetting Original Data---\n---Spliting Test and Train Data---\n---Encoding Data---\n---Factorization Machine---\n---Running iteration 5 ---\n---Subsetting Original Data---\n---Spliting Test and Train Data---\n---Encoding Data---\n---Factorization Machine---\n---Running iteration 6 ---\n---Subsetting Original Data---\n---Spliting Test and Train Data---\n---Encoding Data---\n---Factorization Machine---\n---Running iteration 7 ---\n---Subsetting Original Data---\n---Spliting Test and Train Data---\n---Encoding Data---\n---Factorization Machine---\n---Running iteration 8 ---\n---Subsetting Original Data---\n---Spliting Test and Train Data---\n---Encoding Data---\n---Factorization Machine---\n---Running iteration 9 ---\n---Subsetting Original Data---\n---Spliting Test and Train Data---\n---Encoding Data---\n---Factorization Machine---\n"
        }
      ],
      "execution_count": 18,
      "metadata": {
        "collapsed": true,
        "gather": {
          "logged": 1646514208581
        }
      }
    },
    {
      "cell_type": "code",
      "source": [
        "accuracy_matrix_user"
      ],
      "outputs": [
        {
          "output_type": "execute_result",
          "execution_count": 19,
          "data": {
            "text/plain": "   Quantile  Threshold     Size  Num_Users  Num_Packages  Sparsity  OP_Iter  \\\n0       0.1        3.0  2513981      17482            48      0.10        2   \n1       0.2        3.0  2513981      17482            48      0.10        2   \n2       0.3        4.0  2297177      14990            46      0.11        2   \n3       0.4        4.0  2297177      14990            46      0.11        2   \n4       0.5        5.0  1777613      10511            45      0.13        2   \n5       0.6        5.0  1777613      10511            45      0.13        2   \n6       0.7        5.0  1777613      10511            45      0.13        2   \n7       0.8        6.0  1080018       5700            44      0.15        2   \n8       0.9        7.0   489114       2304            42      0.17        2   \n\n   OP_Rank  Running Time       MAE      RMSE  Coverage  \n0        2    339.482737  0.288462  0.775839       1.0  \n1        2    326.015999  0.090004  0.191309       1.0  \n2        2    258.224544  0.118167  0.327074       1.0  \n3        2    257.005630  0.202351  0.393165       1.0  \n4        2    139.824927  0.143322  0.244829       1.0  \n5        2    140.119981  0.132444  0.238783       1.0  \n6        2    140.079103  0.182072  0.360749       1.0  \n7        2     45.675382  0.110199  0.187851       1.0  \n8        2      8.516701  0.049827  0.076272       1.0  ",
            "text/html": "<div>\n<style scoped>\n    .dataframe tbody tr th:only-of-type {\n        vertical-align: middle;\n    }\n\n    .dataframe tbody tr th {\n        vertical-align: top;\n    }\n\n    .dataframe thead th {\n        text-align: right;\n    }\n</style>\n<table border=\"1\" class=\"dataframe\">\n  <thead>\n    <tr style=\"text-align: right;\">\n      <th></th>\n      <th>Quantile</th>\n      <th>Threshold</th>\n      <th>Size</th>\n      <th>Num_Users</th>\n      <th>Num_Packages</th>\n      <th>Sparsity</th>\n      <th>OP_Iter</th>\n      <th>OP_Rank</th>\n      <th>Running Time</th>\n      <th>MAE</th>\n      <th>RMSE</th>\n      <th>Coverage</th>\n    </tr>\n  </thead>\n  <tbody>\n    <tr>\n      <th>0</th>\n      <td>0.1</td>\n      <td>3.0</td>\n      <td>2513981</td>\n      <td>17482</td>\n      <td>48</td>\n      <td>0.10</td>\n      <td>2</td>\n      <td>2</td>\n      <td>339.482737</td>\n      <td>0.288462</td>\n      <td>0.775839</td>\n      <td>1.0</td>\n    </tr>\n    <tr>\n      <th>1</th>\n      <td>0.2</td>\n      <td>3.0</td>\n      <td>2513981</td>\n      <td>17482</td>\n      <td>48</td>\n      <td>0.10</td>\n      <td>2</td>\n      <td>2</td>\n      <td>326.015999</td>\n      <td>0.090004</td>\n      <td>0.191309</td>\n      <td>1.0</td>\n    </tr>\n    <tr>\n      <th>2</th>\n      <td>0.3</td>\n      <td>4.0</td>\n      <td>2297177</td>\n      <td>14990</td>\n      <td>46</td>\n      <td>0.11</td>\n      <td>2</td>\n      <td>2</td>\n      <td>258.224544</td>\n      <td>0.118167</td>\n      <td>0.327074</td>\n      <td>1.0</td>\n    </tr>\n    <tr>\n      <th>3</th>\n      <td>0.4</td>\n      <td>4.0</td>\n      <td>2297177</td>\n      <td>14990</td>\n      <td>46</td>\n      <td>0.11</td>\n      <td>2</td>\n      <td>2</td>\n      <td>257.005630</td>\n      <td>0.202351</td>\n      <td>0.393165</td>\n      <td>1.0</td>\n    </tr>\n    <tr>\n      <th>4</th>\n      <td>0.5</td>\n      <td>5.0</td>\n      <td>1777613</td>\n      <td>10511</td>\n      <td>45</td>\n      <td>0.13</td>\n      <td>2</td>\n      <td>2</td>\n      <td>139.824927</td>\n      <td>0.143322</td>\n      <td>0.244829</td>\n      <td>1.0</td>\n    </tr>\n    <tr>\n      <th>5</th>\n      <td>0.6</td>\n      <td>5.0</td>\n      <td>1777613</td>\n      <td>10511</td>\n      <td>45</td>\n      <td>0.13</td>\n      <td>2</td>\n      <td>2</td>\n      <td>140.119981</td>\n      <td>0.132444</td>\n      <td>0.238783</td>\n      <td>1.0</td>\n    </tr>\n    <tr>\n      <th>6</th>\n      <td>0.7</td>\n      <td>5.0</td>\n      <td>1777613</td>\n      <td>10511</td>\n      <td>45</td>\n      <td>0.13</td>\n      <td>2</td>\n      <td>2</td>\n      <td>140.079103</td>\n      <td>0.182072</td>\n      <td>0.360749</td>\n      <td>1.0</td>\n    </tr>\n    <tr>\n      <th>7</th>\n      <td>0.8</td>\n      <td>6.0</td>\n      <td>1080018</td>\n      <td>5700</td>\n      <td>44</td>\n      <td>0.15</td>\n      <td>2</td>\n      <td>2</td>\n      <td>45.675382</td>\n      <td>0.110199</td>\n      <td>0.187851</td>\n      <td>1.0</td>\n    </tr>\n    <tr>\n      <th>8</th>\n      <td>0.9</td>\n      <td>7.0</td>\n      <td>489114</td>\n      <td>2304</td>\n      <td>42</td>\n      <td>0.17</td>\n      <td>2</td>\n      <td>2</td>\n      <td>8.516701</td>\n      <td>0.049827</td>\n      <td>0.076272</td>\n      <td>1.0</td>\n    </tr>\n  </tbody>\n</table>\n</div>"
          },
          "metadata": {}
        }
      ],
      "execution_count": 19,
      "metadata": {
        "gather": {
          "logged": 1646514242136
        }
      }
    },
    {
      "cell_type": "code",
      "source": [
        "#size_norm_u = normalize(accuracy_matrix_user['Size'][:,np.newaxis], axis=0).ravel()\n",
        "size_norm_u = 1-np.array(accuracy_matrix_user['Quantile'])"
      ],
      "outputs": [],
      "execution_count": 20,
      "metadata": {
        "gather": {
          "logged": 1646514272642
        }
      }
    },
    {
      "cell_type": "code",
      "source": [
        "time_u = np.array(accuracy_matrix_user['Running Time'])\n",
        "mae_u = np.array(accuracy_matrix_user['MAE'])\n",
        "rmse_u = np.array(accuracy_matrix_user['RMSE'])\n",
        "coverage_u = np.array(accuracy_matrix_user['Coverage'])"
      ],
      "outputs": [],
      "execution_count": 21,
      "metadata": {
        "gather": {
          "logged": 1646514275821
        }
      }
    },
    {
      "cell_type": "markdown",
      "source": [
        "### Subset method 2 - Subset data from less popular items to popular items"
      ],
      "metadata": {}
    },
    {
      "cell_type": "code",
      "source": [
        "accuracy_matrix_package = FieldFactorizationMachine(ratings, ITEM_COLUMN, quantile_list, 2, 2)"
      ],
      "outputs": [
        {
          "output_type": "stream",
          "name": "stdout",
          "text": "---Running iteration 1 ---\n---Subsetting Original Data---\n---Spliting Test and Train Data---\n---Encoding Data---\n---Factorization Machine---\n---Running iteration 2 ---\n---Subsetting Original Data---\n---Spliting Test and Train Data---\n---Encoding Data---\n---Factorization Machine---\n---Running iteration 3 ---\n---Subsetting Original Data---\n---Spliting Test and Train Data---\n---Encoding Data---\n---Factorization Machine---\n---Running iteration 4 ---\n---Subsetting Original Data---\n---Spliting Test and Train Data---\n---Encoding Data---\n---Factorization Machine---\n---Running iteration 5 ---\n---Subsetting Original Data---\n---Spliting Test and Train Data---\n---Encoding Data---\n---Factorization Machine---\n"
        }
      ],
      "execution_count": 22,
      "metadata": {
        "collapsed": true
      }
    },
    {
      "cell_type": "code",
      "source": [
        "accuracy_matrix_package"
      ],
      "outputs": [],
      "execution_count": null,
      "metadata": {}
    },
    {
      "cell_type": "code",
      "source": [
        "#size_norm_m = normalize(accuracy_matrix_movie['Size'][:,np.newaxis], axis=0).ravel()\n",
        "size_norm_m = 1-np.array(accuracy_matrix_package['Quantile'])"
      ],
      "outputs": [],
      "execution_count": null,
      "metadata": {}
    },
    {
      "cell_type": "code",
      "source": [
        "time_m = np.array(accuracy_matrix_package['Running Time'])\n",
        "mae_m = np.array(accuracy_matrix_package['MAE'])\n",
        "rmse_m = np.array(accuracy_matrix_package['RMSE'])\n",
        "coverage_m = np.array(accuracy_matrix_package['Coverage'])"
      ],
      "outputs": [],
      "execution_count": null,
      "metadata": {}
    },
    {
      "cell_type": "markdown",
      "source": [
        "### Subset method 3 - Subset data in both user and item directions"
      ],
      "metadata": {}
    },
    {
      "cell_type": "code",
      "source": [
        "accuracy_matrix_both = FieldFactorizationMachine(ratings, \"both\", quantile_list, 2, 2)"
      ],
      "outputs": [],
      "execution_count": null,
      "metadata": {
        "collapsed": true
      }
    },
    {
      "cell_type": "code",
      "source": [
        "accuracy_matrix_both"
      ],
      "outputs": [],
      "execution_count": null,
      "metadata": {}
    },
    {
      "cell_type": "code",
      "source": [
        "#size_norm_b = normalize(accuracy_matrix_both['Size'][:,np.newaxis], axis=0).ravel()\n",
        "size_norm_b = 1-np.array(accuracy_matrix_both['Quantile'])"
      ],
      "outputs": [],
      "execution_count": null,
      "metadata": {}
    },
    {
      "cell_type": "code",
      "source": [
        "time_b = np.array(accuracy_matrix_both['Running Time'])\n",
        "mae_b = np.array(accuracy_matrix_both['MAE'])\n",
        "rmse_b = np.array(accuracy_matrix_both['RMSE'])\n",
        "coverage_b = np.array(accuracy_matrix_both['Coverage'])"
      ],
      "outputs": [],
      "execution_count": null,
      "metadata": {}
    },
    {
      "cell_type": "markdown",
      "source": [
        "### Evaluation"
      ],
      "metadata": {}
    },
    {
      "cell_type": "code",
      "source": [
        "create_plot(size_norm_u, size_norm_m, size_norm_b, time_u, time_m, time_b, \"Running Time\")"
      ],
      "outputs": [],
      "execution_count": null,
      "metadata": {}
    },
    {
      "cell_type": "code",
      "source": [
        "create_plot(size_norm_u, size_norm_m, size_norm_b, mae_u, mae_m, mae_b, \"Mean Average Error\")"
      ],
      "outputs": [],
      "execution_count": null,
      "metadata": {}
    },
    {
      "cell_type": "code",
      "source": [
        "create_plot(size_norm_u, size_norm_m, size_norm_b, rmse_u, rmse_m, rmse_b, \"Root Mean Square Error\")"
      ],
      "outputs": [],
      "execution_count": null,
      "metadata": {}
    },
    {
      "cell_type": "code",
      "source": [
        "create_plot(size_norm_u, size_norm_m, size_norm_b, coverage_u, coverage_m, coverage_b, \"Coverage\")"
      ],
      "outputs": [],
      "execution_count": null,
      "metadata": {}
    }
  ],
  "metadata": {
    "kernelspec": {
      "name": "python3-azureml",
      "language": "python",
      "display_name": "Python 3.6 - AzureML"
    },
    "language_info": {
      "name": "python",
      "version": "3.6.9",
      "mimetype": "text/x-python",
      "codemirror_mode": {
        "name": "ipython",
        "version": 3
      },
      "pygments_lexer": "ipython3",
      "nbconvert_exporter": "python",
      "file_extension": ".py"
    },
    "kernel_info": {
      "name": "python3-azureml"
    },
    "nteract": {
      "version": "nteract-front-end@1.0.0"
    }
  },
  "nbformat": 4,
  "nbformat_minor": 2
}