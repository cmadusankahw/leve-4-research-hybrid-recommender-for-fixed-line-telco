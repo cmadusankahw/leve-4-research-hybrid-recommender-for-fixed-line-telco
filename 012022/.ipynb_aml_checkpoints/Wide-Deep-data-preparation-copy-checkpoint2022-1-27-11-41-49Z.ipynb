{
  "cells": [
    {
      "cell_type": "code",
      "source": [
        "# import libraries\n",
        "import numpy as np\n",
        "import pandas as pd\n",
        "import seaborn as sns\n",
        "import matplotlib.pyplot as plt\n",
        "from sklearn.preprocessing import MinMaxScaler\n",
        "from sklearn.decomposition import PCA"
      ],
      "outputs": [],
      "execution_count": 8,
      "metadata": {
        "gather": {
          "logged": 1645962076522
        }
      }
    },
    {
      "cell_type": "code",
      "source": [
        "bb_ratings = pd.read_csv(\"data/up-selling/bb/BB_user_ratings.csv\")\n",
        "peo_ratings = pd.read_csv(\"data/up-selling/peotv/peoTV_user_ratings.csv\")"
      ],
      "outputs": [],
      "execution_count": 9,
      "metadata": {
        "gather": {
          "logged": 1645962078357
        }
      }
    },
    {
      "cell_type": "code",
      "source": [
        "try:\n",
        "    bb_ratings.drop([\"Unnamed: 0\"],axis=1,inplace=True)\n",
        "    peo_ratings.drop([\"Unnamed: 0\"],axis=1,inplace=True)\n",
        "except:\n",
        "    pass"
      ],
      "outputs": [],
      "execution_count": 10,
      "metadata": {
        "jupyter": {
          "source_hidden": false,
          "outputs_hidden": false
        },
        "nteract": {
          "transient": {
            "deleting": false
          }
        },
        "gather": {
          "logged": 1645962086756
        }
      }
    },
    {
      "cell_type": "code",
      "source": [
        "bb_ratings = bb_ratings.drop([\"ratings\"], axis = 1)\n",
        "bb_ratings.rename(columns={\"pca_ratings\":\"ratings\"}, inplace=True)\n",
        "bb_ratings.dropna(subset=[\"ratings\"], inplace=True)"
      ],
      "outputs": [],
      "execution_count": 11,
      "metadata": {
        "jupyter": {
          "source_hidden": false,
          "outputs_hidden": false
        },
        "nteract": {
          "transient": {
            "deleting": false
          }
        },
        "gather": {
          "logged": 1645962089205
        }
      }
    },
    {
      "cell_type": "code",
      "source": [
        "bb_ratings.info()"
      ],
      "outputs": [
        {
          "output_type": "stream",
          "name": "stdout",
          "text": "<class 'pandas.core.frame.DataFrame'>\nInt64Index: 25724 entries, 0 to 25723\nData columns (total 3 columns):\n #   Column            Non-Null Count  Dtype  \n---  ------            --------------  -----  \n 0   ACCOUNT_NUM.hash  25724 non-null  object \n 1   package           25724 non-null  object \n 2   ratings           25724 non-null  float64\ndtypes: float64(1), object(2)\nmemory usage: 803.9+ KB\n"
        }
      ],
      "execution_count": 12,
      "metadata": {
        "jupyter": {
          "source_hidden": false,
          "outputs_hidden": false
        },
        "nteract": {
          "transient": {
            "deleting": false
          }
        },
        "gather": {
          "logged": 1645962090475
        }
      }
    },
    {
      "cell_type": "code",
      "source": [
        "peo_ratings = peo_ratings.drop([\"ratings\"], axis = 1)\n",
        "peo_ratings.rename(columns={\"pca_ratings\":\"ratings\"}, inplace=True)\n",
        "peo_ratings.dropna(subset=[\"ratings\"], inplace=True)"
      ],
      "outputs": [],
      "execution_count": 13,
      "metadata": {
        "jupyter": {
          "source_hidden": false,
          "outputs_hidden": false
        },
        "nteract": {
          "transient": {
            "deleting": false
          }
        },
        "gather": {
          "logged": 1645962093180
        }
      }
    },
    {
      "cell_type": "code",
      "source": [
        "peo_ratings.info()"
      ],
      "outputs": [
        {
          "output_type": "stream",
          "name": "stdout",
          "text": "<class 'pandas.core.frame.DataFrame'>\nInt64Index: 159415 entries, 0 to 159414\nData columns (total 3 columns):\n #   Column            Non-Null Count   Dtype  \n---  ------            --------------   -----  \n 0   ACCOUNT_NUM.hash  159414 non-null  object \n 1   package           159414 non-null  object \n 2   ratings           159415 non-null  float64\ndtypes: float64(1), object(2)\nmemory usage: 4.9+ MB\n"
        }
      ],
      "execution_count": 14,
      "metadata": {
        "jupyter": {
          "source_hidden": false,
          "outputs_hidden": false
        },
        "nteract": {
          "transient": {
            "deleting": false
          }
        },
        "gather": {
          "logged": 1645962094788
        }
      }
    },
    {
      "cell_type": "code",
      "source": [
        "bb_ratings.to_csv(\"data/up-selling/bb/azure/BB_user_ratings.csv\")\n",
        "peo_ratings.to_csv(\"data/up-selling/peotv/azure/peoTV_user_ratings.csv\")"
      ],
      "outputs": [],
      "execution_count": 15,
      "metadata": {
        "gather": {
          "logged": 1645962102357
        }
      }
    }
  ],
  "metadata": {
    "kernelspec": {
      "name": "python3",
      "language": "python",
      "display_name": "Python 3"
    },
    "language_info": {
      "name": "python",
      "version": "3.6.9",
      "mimetype": "text/x-python",
      "codemirror_mode": {
        "name": "ipython",
        "version": 3
      },
      "pygments_lexer": "ipython3",
      "nbconvert_exporter": "python",
      "file_extension": ".py"
    },
    "kernel_info": {
      "name": "python3"
    },
    "nteract": {
      "version": "nteract-front-end@1.0.0"
    }
  },
  "nbformat": 4,
  "nbformat_minor": 4
}