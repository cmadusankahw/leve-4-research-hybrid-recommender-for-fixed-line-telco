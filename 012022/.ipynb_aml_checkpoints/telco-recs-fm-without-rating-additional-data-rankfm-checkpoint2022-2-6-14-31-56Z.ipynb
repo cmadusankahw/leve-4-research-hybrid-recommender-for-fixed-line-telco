{
  "cells": [
    {
      "cell_type": "code",
      "source": [
        "import numpy as np\n",
        "import pandas as pd\n",
        "import matplotlib.pyplot as plt\n",
        "import seaborn as sns\n",
        "from rankfm.rankfm import RankFM\n",
        "from sklearn.preprocessing import LabelEncoder, OneHotEncoder\n",
        "from sklearn.model_selection import train_test_split\n",
        "import streamlit as st\n",
        "from PIL import Image\n",
        "import warnings"
      ],
      "outputs": [],
      "execution_count": 4,
      "metadata": {
        "gather": {
          "logged": 1646577110320
        }
      }
    },
    {
      "cell_type": "markdown",
      "source": [
        "## Streamlit config"
      ],
      "metadata": {
        "nteract": {
          "transient": {
            "deleting": false
          }
        }
      }
    },
    {
      "cell_type": "code",
      "source": [
        "if 'total' not in st.session_state:\n",
        "    st.session_state['total'] = 300"
      ],
      "outputs": [],
      "execution_count": null,
      "metadata": {
        "jupyter": {
          "source_hidden": false,
          "outputs_hidden": false
        },
        "nteract": {
          "transient": {
            "deleting": false
          }
        }
      }
    },
    {
      "cell_type": "code",
      "source": [],
      "outputs": [],
      "execution_count": null,
      "metadata": {
        "jupyter": {
          "source_hidden": false,
          "outputs_hidden": false
        },
        "nteract": {
          "transient": {
            "deleting": false
          }
        }
      }
    },
    {
      "cell_type": "markdown",
      "source": [
        "## Dataset Sourcing"
      ],
      "metadata": {
        "nteract": {
          "transient": {
            "deleting": false
          }
        }
      }
    },
    {
      "cell_type": "code",
      "source": [
        "#Load data\n",
        "path = \"data/up-selling/peotv/\"\n",
        "\n",
        "#Ratings\n",
        "ratings = pd.read_csv(path+'azure/peoTV_user_ratings.csv')\n",
        "\n",
        "try:\n",
        "    ratings.drop([\"Unnamed: 0\",\"ratings\"],axis=1,inplace=True)\n",
        "except:\n",
        "    pass"
      ],
      "outputs": [],
      "execution_count": 94,
      "metadata": {
        "jupyter": {
          "source_hidden": false,
          "outputs_hidden": false
        },
        "nteract": {
          "transient": {
            "deleting": false
          }
        },
        "gather": {
          "logged": 1646522600685
        }
      }
    },
    {
      "cell_type": "code",
      "source": [
        "ITEM_COLUMN = \"itemId\"\n",
        "USER_COULMN = \"userId\"\n",
        "RATING_COLUMN = \"rating\""
      ],
      "outputs": [],
      "execution_count": 95,
      "metadata": {
        "jupyter": {
          "source_hidden": false,
          "outputs_hidden": false
        },
        "nteract": {
          "transient": {
            "deleting": false
          }
        },
        "gather": {
          "logged": 1646522602608
        }
      }
    },
    {
      "cell_type": "code",
      "source": [
        "ratings.columns = [USER_COULMN, ITEM_COLUMN]\n",
        "\n",
        "ratings.sort_values(by=[USER_COULMN],inplace=True,ascending=False)\n",
        "# ratings = ratings.drop_duplicates(keep=\"first\").reset_index().drop(\"index\", axis=1)"
      ],
      "outputs": [],
      "execution_count": 96,
      "metadata": {
        "jupyter": {
          "source_hidden": false,
          "outputs_hidden": false
        },
        "nteract": {
          "transient": {
            "deleting": false
          }
        },
        "gather": {
          "logged": 1646522603155
        }
      }
    },
    {
      "cell_type": "code",
      "source": [
        "le = LabelEncoder()\n",
        "ratings[ITEM_COLUMN+\"_des\"] = ratings[ITEM_COLUMN]\n",
        "ratings[USER_COULMN+\"_des\"] = ratings[USER_COULMN]\n",
        "ratings[USER_COULMN] = le.fit_transform(ratings[USER_COULMN])\n",
        "ratings[ITEM_COLUMN] = le.fit_transform(ratings[ITEM_COLUMN])\n",
        "\n",
        "r_dict = pd.Series(ratings[ITEM_COLUMN+\"_des\"].values,index=ratings[ITEM_COLUMN]).to_dict()\n",
        "u_dict = pd.Series(ratings[USER_COULMN+\"_des\"].values,index=ratings[USER_COULMN]).to_dict()\n",
        "\n",
        "final_r_dict = {}\n",
        "final_u_dict = {}\n",
        "\n",
        "for key,value in r_dict.items():\n",
        "    if value not in final_r_dict.values():\n",
        "        final_r_dict[key] = value\n",
        "\n",
        "for key,value in u_dict.items():\n",
        "    if value not in final_u_dict.values():\n",
        "        final_u_dict[key] = value"
      ],
      "outputs": [],
      "execution_count": 97,
      "metadata": {
        "jupyter": {
          "source_hidden": false,
          "outputs_hidden": false
        },
        "nteract": {
          "transient": {
            "deleting": false
          }
        },
        "gather": {
          "logged": 1646522609971
        }
      }
    },
    {
      "cell_type": "code",
      "source": [
        "np.random.seed(100)\n",
        "interactions_train, interactions_valid = np.split(ratings[[USER_COULMN,ITEM_COLUMN]], [int(.7*len(ratings))])"
      ],
      "outputs": [],
      "execution_count": 98,
      "metadata": {
        "jupyter": {
          "source_hidden": false,
          "outputs_hidden": false
        },
        "nteract": {
          "transient": {
            "deleting": false
          }
        },
        "gather": {
          "logged": 1646522610072
        }
      }
    },
    {
      "cell_type": "code",
      "source": [
        "interactions_train.shape"
      ],
      "outputs": [
        {
          "output_type": "execute_result",
          "execution_count": 99,
          "data": {
            "text/plain": "(111590, 2)"
          },
          "metadata": {}
        }
      ],
      "execution_count": 99,
      "metadata": {
        "jupyter": {
          "source_hidden": false,
          "outputs_hidden": false
        },
        "nteract": {
          "transient": {
            "deleting": false
          }
        },
        "gather": {
          "logged": 1646522610640
        }
      }
    },
    {
      "cell_type": "code",
      "source": [
        "interactions_valid.shape"
      ],
      "outputs": [
        {
          "output_type": "execute_result",
          "execution_count": 100,
          "data": {
            "text/plain": "(47825, 2)"
          },
          "metadata": {}
        }
      ],
      "execution_count": 100,
      "metadata": {
        "jupyter": {
          "source_hidden": false,
          "outputs_hidden": false
        },
        "nteract": {
          "transient": {
            "deleting": false
          }
        },
        "gather": {
          "logged": 1646522611254
        }
      }
    },
    {
      "cell_type": "code",
      "source": [
        "model = RankFM(factors=20, loss='warp', max_samples=20, alpha=0.01, sigma=0.1, learning_rate=0.1, learning_schedule='invscaling')\n",
        "model.fit(interactions_train, epochs=20, verbose=True)"
      ],
      "outputs": [
        {
          "output_type": "stream",
          "name": "stdout",
          "text": "\ntraining epoch: 0\nlog likelihood: -41808.5703125\n\ntraining epoch: 1\nlog likelihood: -41890.87109375\n\ntraining epoch: 2\nlog likelihood: -40716.12109375\n\ntraining epoch: 3\nlog likelihood: -39921.44921875\n\ntraining epoch: 4\nlog likelihood: -39265.48046875\n\ntraining epoch: 5\nlog likelihood: -38521.078125\n\ntraining epoch: 6\nlog likelihood: -37690.7109375\n\ntraining epoch: 7\nlog likelihood: -36763.23828125\n\ntraining epoch: 8\nlog likelihood: -36118.96875\n\ntraining epoch: 9\nlog likelihood: -35482.69921875\n\ntraining epoch: 10\nlog likelihood: -34965.44921875\n\ntraining epoch: 11\nlog likelihood: -34382.78125\n\ntraining epoch: 12\nlog likelihood: -33807.19140625\n\ntraining epoch: 13\nlog likelihood: -33149.41015625\n\ntraining epoch: 14\nlog likelihood: -32553.060546875\n\ntraining epoch: 15\nlog likelihood: -32005.150390625\n\ntraining epoch: 16\nlog likelihood: -31491.1796875\n\ntraining epoch: 17\nlog likelihood: -30991.439453125\n\ntraining epoch: 18\nlog likelihood: -30549.9296875\n\ntraining epoch: 19\nlog likelihood: -30078.9296875\n"
        }
      ],
      "execution_count": 101,
      "metadata": {
        "jupyter": {
          "source_hidden": false,
          "outputs_hidden": false
        },
        "nteract": {
          "transient": {
            "deleting": false
          }
        },
        "gather": {
          "logged": 1646522619694
        }
      }
    },
    {
      "cell_type": "code",
      "source": [
        "valid_scores = model.predict(interactions_valid, cold_start='nan')\n",
        "valid_scores"
      ],
      "outputs": [
        {
          "output_type": "execute_result",
          "execution_count": 102,
          "data": {
            "text/plain": "array([ 0.7474053 , -0.64031535,  0.7474053 , ...,         nan,\n               nan,         nan], dtype=float32)"
          },
          "metadata": {}
        }
      ],
      "execution_count": 102,
      "metadata": {
        "jupyter": {
          "source_hidden": false,
          "outputs_hidden": false
        },
        "nteract": {
          "transient": {
            "deleting": false
          }
        },
        "gather": {
          "logged": 1646522619770
        }
      }
    },
    {
      "cell_type": "code",
      "source": [
        "valid_recs = model.recommend(ratings[USER_COULMN], n_items=10, filter_previous=True, cold_start='drop')"
      ],
      "outputs": [],
      "execution_count": 103,
      "metadata": {
        "jupyter": {
          "source_hidden": false,
          "outputs_hidden": false
        },
        "nteract": {
          "transient": {
            "deleting": false
          }
        },
        "gather": {
          "logged": 1646522629102
        }
      }
    },
    {
      "cell_type": "code",
      "source": [
        "def remap_labels(col):\n",
        "    for k,v in final_r_dict.items():\n",
        "        if int(col) == k:\n",
        "            return v\n",
        "\n",
        "def remap_index(col):\n",
        "    for k,v in final_u_dict.items():\n",
        "        if int(col) == k:\n",
        "            return v"
      ],
      "outputs": [],
      "execution_count": 104,
      "metadata": {
        "jupyter": {
          "source_hidden": false,
          "outputs_hidden": false
        },
        "nteract": {
          "transient": {
            "deleting": false
          }
        },
        "gather": {
          "logged": 1646522629149
        }
      }
    },
    {
      "cell_type": "code",
      "source": [
        "valid_recs.drop_duplicates(inplace=True)\n",
        "for col in list(valid_recs.columns):\n",
        "    valid_recs[col] = valid_recs[col].apply(lambda x: remap_labels(x))\n",
        "valid_recs.index = valid_recs.index.map(remap_index)"
      ],
      "outputs": [],
      "execution_count": 105,
      "metadata": {
        "jupyter": {
          "source_hidden": false,
          "outputs_hidden": false
        },
        "nteract": {
          "transient": {
            "deleting": false
          }
        },
        "gather": {
          "logged": 1646522644871
        }
      }
    },
    {
      "cell_type": "code",
      "source": [
        "valid_recs.head()"
      ],
      "outputs": [
        {
          "output_type": "execute_result",
          "execution_count": 106,
          "data": {
            "text/plain": "                                                0            1  \\\nuserId                                                           \nffff7fc0c266ac5b34f91de1ba4f3039  PEO_SILVER_FTTH  PEO_UTHAYAM   \nfffd0b8541e9f62496092d2ea8609135  PEO_SILVER_FTTH  PEO_UTHAYAM   \nfffaeeddaabbd2868c183d8884b2a98d  PEO_SILVER_FTTH  PEO_UTHAYAM   \nfff9148b195a844454cf5b07c2fccbcb  PEO_SILVER_FTTH  PEO_UTHAYAM   \nfff25ad7f2b1ccf36fa3573e5582f0bf  PEO_SILVER_FTTH  PEO_UTHAYAM   \n\n                                                2                3  \\\nuserId                                                               \nffff7fc0c266ac5b34f91de1ba4f3039          PRANAMA     PEO_UNNATHAM   \nfffd0b8541e9f62496092d2ea8609135          PRANAMA         PEO_GOLD   \nfffaeeddaabbd2868c183d8884b2a98d     PEO_UNNATHAM  PEO_SILVER_PLUS   \nfff9148b195a844454cf5b07c2fccbcb     PEO_UNNATHAM          PRANAMA   \nfff25ad7f2b1ccf36fa3573e5582f0bf  PEO_SILVER_PLUS     PEO_UNNATHAM   \n\n                                                     4  \\\nuserId                                                   \nffff7fc0c266ac5b34f91de1ba4f3039     PEO_TITANIUM_FTTH   \nfffd0b8541e9f62496092d2ea8609135       PEO_SILVER_PLUS   \nfffaeeddaabbd2868c183d8884b2a98d               PRANAMA   \nfff9148b195a844454cf5b07c2fccbcb       PEO_SILVER_PLUS   \nfff25ad7f2b1ccf36fa3573e5582f0bf  PEO_SILVER_PLUS_FTTH   \n\n                                                       5                  6  \\\nuserId                                                                        \nffff7fc0c266ac5b34f91de1ba4f3039    PEO_SILVER_PLUS_FTTH  PEO_UNNATHAM_FTTH   \nfffd0b8541e9f62496092d2ea8609135       PEO_UNNATHAM_FTTH  PEO_ENTERTAINMENT   \nfffaeeddaabbd2868c183d8884b2a98d    PEO_SILVER_PLUS_FTTH  PEO_TITANIUM_FTTH   \nfff9148b195a844454cf5b07c2fccbcb    PEO_SILVER_PLUS_FTTH  PEO_TITANIUM_FTTH   \nfff25ad7f2b1ccf36fa3573e5582f0bf  PEO_ENTERTAINMENT_FTTH            PRANAMA   \n\n                                                       7  \\\nuserId                                                     \nffff7fc0c266ac5b34f91de1ba4f3039         PEO_SILVER_PLUS   \nfffd0b8541e9f62496092d2ea8609135         PEO_FAMILY_FTTH   \nfffaeeddaabbd2868c183d8884b2a98d            PEO_TITANIUM   \nfff9148b195a844454cf5b07c2fccbcb  PEO_ENTERTAINMENT_FTTH   \nfff25ad7f2b1ccf36fa3573e5582f0bf            PEO_TITANIUM   \n\n                                                     8  \\\nuserId                                                   \nffff7fc0c266ac5b34f91de1ba4f3039          PEO_TITANIUM   \nfffd0b8541e9f62496092d2ea8609135  PEO_SILVER_PLUS_FTTH   \nfffaeeddaabbd2868c183d8884b2a98d     PEO_ENTERTAINMENT   \nfff9148b195a844454cf5b07c2fccbcb     PEO_UNNATHAM_FTTH   \nfff25ad7f2b1ccf36fa3573e5582f0bf     PEO_UNNATHAM_FTTH   \n\n                                                           9  \nuserId                                                        \nffff7fc0c266ac5b34f91de1ba4f3039           PEO_ENTERTAINMENT  \nfffd0b8541e9f62496092d2ea8609135  NEW_SLT_STAFF_PACKAGE_FTTH  \nfffaeeddaabbd2868c183d8884b2a98d      PEO_ENTERTAINMENT_FTTH  \nfff9148b195a844454cf5b07c2fccbcb                PEO_TITANIUM  \nfff25ad7f2b1ccf36fa3573e5582f0bf         SLTStaff_PEO_SILVER  ",
            "text/html": "<div>\n<style scoped>\n    .dataframe tbody tr th:only-of-type {\n        vertical-align: middle;\n    }\n\n    .dataframe tbody tr th {\n        vertical-align: top;\n    }\n\n    .dataframe thead th {\n        text-align: right;\n    }\n</style>\n<table border=\"1\" class=\"dataframe\">\n  <thead>\n    <tr style=\"text-align: right;\">\n      <th></th>\n      <th>0</th>\n      <th>1</th>\n      <th>2</th>\n      <th>3</th>\n      <th>4</th>\n      <th>5</th>\n      <th>6</th>\n      <th>7</th>\n      <th>8</th>\n      <th>9</th>\n    </tr>\n    <tr>\n      <th>userId</th>\n      <th></th>\n      <th></th>\n      <th></th>\n      <th></th>\n      <th></th>\n      <th></th>\n      <th></th>\n      <th></th>\n      <th></th>\n      <th></th>\n    </tr>\n  </thead>\n  <tbody>\n    <tr>\n      <th>ffff7fc0c266ac5b34f91de1ba4f3039</th>\n      <td>PEO_SILVER_FTTH</td>\n      <td>PEO_UTHAYAM</td>\n      <td>PRANAMA</td>\n      <td>PEO_UNNATHAM</td>\n      <td>PEO_TITANIUM_FTTH</td>\n      <td>PEO_SILVER_PLUS_FTTH</td>\n      <td>PEO_UNNATHAM_FTTH</td>\n      <td>PEO_SILVER_PLUS</td>\n      <td>PEO_TITANIUM</td>\n      <td>PEO_ENTERTAINMENT</td>\n    </tr>\n    <tr>\n      <th>fffd0b8541e9f62496092d2ea8609135</th>\n      <td>PEO_SILVER_FTTH</td>\n      <td>PEO_UTHAYAM</td>\n      <td>PRANAMA</td>\n      <td>PEO_GOLD</td>\n      <td>PEO_SILVER_PLUS</td>\n      <td>PEO_UNNATHAM_FTTH</td>\n      <td>PEO_ENTERTAINMENT</td>\n      <td>PEO_FAMILY_FTTH</td>\n      <td>PEO_SILVER_PLUS_FTTH</td>\n      <td>NEW_SLT_STAFF_PACKAGE_FTTH</td>\n    </tr>\n    <tr>\n      <th>fffaeeddaabbd2868c183d8884b2a98d</th>\n      <td>PEO_SILVER_FTTH</td>\n      <td>PEO_UTHAYAM</td>\n      <td>PEO_UNNATHAM</td>\n      <td>PEO_SILVER_PLUS</td>\n      <td>PRANAMA</td>\n      <td>PEO_SILVER_PLUS_FTTH</td>\n      <td>PEO_TITANIUM_FTTH</td>\n      <td>PEO_TITANIUM</td>\n      <td>PEO_ENTERTAINMENT</td>\n      <td>PEO_ENTERTAINMENT_FTTH</td>\n    </tr>\n    <tr>\n      <th>fff9148b195a844454cf5b07c2fccbcb</th>\n      <td>PEO_SILVER_FTTH</td>\n      <td>PEO_UTHAYAM</td>\n      <td>PEO_UNNATHAM</td>\n      <td>PRANAMA</td>\n      <td>PEO_SILVER_PLUS</td>\n      <td>PEO_SILVER_PLUS_FTTH</td>\n      <td>PEO_TITANIUM_FTTH</td>\n      <td>PEO_ENTERTAINMENT_FTTH</td>\n      <td>PEO_UNNATHAM_FTTH</td>\n      <td>PEO_TITANIUM</td>\n    </tr>\n    <tr>\n      <th>fff25ad7f2b1ccf36fa3573e5582f0bf</th>\n      <td>PEO_SILVER_FTTH</td>\n      <td>PEO_UTHAYAM</td>\n      <td>PEO_SILVER_PLUS</td>\n      <td>PEO_UNNATHAM</td>\n      <td>PEO_SILVER_PLUS_FTTH</td>\n      <td>PEO_ENTERTAINMENT_FTTH</td>\n      <td>PRANAMA</td>\n      <td>PEO_TITANIUM</td>\n      <td>PEO_UNNATHAM_FTTH</td>\n      <td>SLTStaff_PEO_SILVER</td>\n    </tr>\n  </tbody>\n</table>\n</div>"
          },
          "metadata": {}
        }
      ],
      "execution_count": 106,
      "metadata": {
        "jupyter": {
          "source_hidden": false,
          "outputs_hidden": false
        },
        "nteract": {
          "transient": {
            "deleting": false
          }
        },
        "gather": {
          "logged": 1646522645010
        }
      }
    },
    {
      "cell_type": "code",
      "source": [
        "valid_recs.to_csv(\"data/up-selling/peotv/fm/rank_fm_top_10_recs.csv\")"
      ],
      "outputs": [],
      "execution_count": 107,
      "metadata": {
        "jupyter": {
          "source_hidden": false,
          "outputs_hidden": false
        },
        "nteract": {
          "transient": {
            "deleting": false
          }
        },
        "gather": {
          "logged": 1646522650758
        }
      }
    }
  ],
  "metadata": {
    "kernelspec": {
      "name": "python3-azureml",
      "language": "python",
      "display_name": "Python 3.6 - AzureML"
    },
    "language_info": {
      "name": "python",
      "version": "3.6.9",
      "mimetype": "text/x-python",
      "codemirror_mode": {
        "name": "ipython",
        "version": 3
      },
      "pygments_lexer": "ipython3",
      "nbconvert_exporter": "python",
      "file_extension": ".py"
    },
    "kernel_info": {
      "name": "python3-azureml"
    },
    "nteract": {
      "version": "nteract-front-end@1.0.0"
    },
    "microsoft": {
      "host": {
        "AzureML": {
          "notebookHasBeenCompleted": true
        }
      }
    }
  },
  "nbformat": 4,
  "nbformat_minor": 2
}