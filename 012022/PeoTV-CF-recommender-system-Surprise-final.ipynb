{
  "cells": [
    {
      "cell_type": "code",
      "source": [
        "# import libraries\n",
        "import numpy as np\n",
        "import pandas as pd\n",
        "import seaborn as sns\n",
        "import matplotlib.pyplot as plt\n",
        "from sklearn.metrics.pairwise import cosine_similarity\n",
        "from surprise import *\n",
        "from surprise import accuracy\n",
        "from surprise.model_selection import GridSearchCV\n",
        "from surprise.model_selection import cross_validate\n",
        "from surprise.model_selection import train_test_split\n",
        "from collections import defaultdict"
      ],
      "outputs": [],
      "execution_count": 42,
      "metadata": {
        "gather": {
          "logged": 1642973443882
        }
      }
    },
    {
      "cell_type": "code",
      "source": [
        "# import dataset\n",
        "data = pd.read_csv(\"data/up-selling/peotv/peoTV_user_ratings.csv\")\n",
        "try:\n",
        "    data.drop([\"Unnamed: 0\"],axis=1,inplace=True)\n",
        "except:\n",
        "    pass\n",
        "data_pca = data[[\"ACCOUNT_NUM.hash\",\"package\",\"pca_ratings\"]].rename(columns={\"pca_ratings\":\"ratings\"})\n",
        "data_pca.dropna(subset=[\"ratings\"],inplace=True)\n",
        "data = data[[\"ACCOUNT_NUM.hash\",\"package\",\"ratings\"]]"
      ],
      "outputs": [],
      "execution_count": 43,
      "metadata": {
        "scrolled": true,
        "gather": {
          "logged": 1642973444374
        }
      }
    },
    {
      "cell_type": "code",
      "source": [
        "data.info()"
      ],
      "outputs": [
        {
          "output_type": "stream",
          "name": "stdout",
          "text": "<class 'pandas.core.frame.DataFrame'>\nRangeIndex: 179895 entries, 0 to 179894\nData columns (total 3 columns):\n #   Column            Non-Null Count   Dtype  \n---  ------            --------------   -----  \n 0   ACCOUNT_NUM.hash  179894 non-null  object \n 1   package           179894 non-null  object \n 2   ratings           179894 non-null  float64\ndtypes: float64(1), object(2)\nmemory usage: 4.1+ MB\n"
        }
      ],
      "execution_count": 44,
      "metadata": {
        "jupyter": {
          "source_hidden": false,
          "outputs_hidden": false
        },
        "nteract": {
          "transient": {
            "deleting": false
          }
        },
        "gather": {
          "logged": 1642973444453
        }
      }
    },
    {
      "cell_type": "code",
      "source": [
        "data_pca.info()"
      ],
      "outputs": [
        {
          "output_type": "stream",
          "name": "stdout",
          "text": "<class 'pandas.core.frame.DataFrame'>\nInt64Index: 159415 entries, 0 to 159414\nData columns (total 3 columns):\n #   Column            Non-Null Count   Dtype  \n---  ------            --------------   -----  \n 0   ACCOUNT_NUM.hash  159414 non-null  object \n 1   package           159414 non-null  object \n 2   ratings           159415 non-null  float64\ndtypes: float64(1), object(2)\nmemory usage: 4.9+ MB\n"
        }
      ],
      "execution_count": 45,
      "metadata": {
        "jupyter": {
          "source_hidden": false,
          "outputs_hidden": false
        },
        "nteract": {
          "transient": {
            "deleting": false
          }
        },
        "gather": {
          "logged": 1642973444554
        }
      }
    },
    {
      "cell_type": "markdown",
      "source": [
        "## Interaction Matrix"
      ],
      "metadata": {}
    },
    {
      "cell_type": "code",
      "source": [
        "# create a histogram of all the interactions by all the users present in the dataset\n",
        "def create_interaction_matrix(data):\n",
        "    interactions = data.groupby('ACCOUNT_NUM.hash').count()['package']\n",
        "    plt.hist(interactions,bins=20)\n",
        "    plt.show()\n",
        "\n",
        "    # create the user item matrix using the ratings dataset - Hint: try using pivot function \n",
        "    interactions_metrix = data.pivot_table(index=\"ACCOUNT_NUM.hash\", columns=\"package\", values=\"ratings\",aggfunc=np.sum)\n",
        "    # replace all the missing values with zero\n",
        "    return interactions_metrix.fillna(0)"
      ],
      "outputs": [],
      "execution_count": 46,
      "metadata": {
        "gather": {
          "logged": 1642973444678
        }
      }
    },
    {
      "cell_type": "code",
      "source": [
        "create_interaction_matrix(data)"
      ],
      "outputs": [
        {
          "output_type": "display_data",
          "data": {
            "text/plain": "<Figure size 432x288 with 1 Axes>",
            "image/png": "[encoded data removed]"
          },
          "metadata": {
            "needs_background": "light"
          }
        },
        {
          "output_type": "execute_result",
          "execution_count": 47,
          "data": {
            "text/plain": "package                           BOC  CHEER  DOUBLEPROMO  \\\nACCOUNT_NUM.hash                                            \n0003102d10a11c8f2f0f241f00a36b2d  0.0    0.0          0.0   \n00092b1fd47eb05d000a3553ae072056  0.0    0.0          0.0   \n00094326efae1d73371d118204e12e46  0.0    0.0          0.0   \n000f325a72b9d24742237070939b57d1  0.0    0.0          0.0   \n00108d48e89eb901236da1a14b854e7d  0.0    0.0          0.0   \n...                               ...    ...          ...   \nfff25ad7f2b1ccf36fa3573e5582f0bf  0.0    0.0          0.0   \nfff9148b195a844454cf5b07c2fccbcb  0.0    0.0          0.0   \nfffaeeddaabbd2868c183d8884b2a98d  0.0    0.0          0.0   \nfffd0b8541e9f62496092d2ea8609135  0.0    0.0          0.0   \nffff7fc0c266ac5b34f91de1ba4f3039  0.0    0.0          0.0   \n\npackage                           GMOA_Consultant_AO_MO_Plus  GMOA_MO_Medical  \\\nACCOUNT_NUM.hash                                                                \n0003102d10a11c8f2f0f241f00a36b2d                         0.0              0.0   \n00092b1fd47eb05d000a3553ae072056                         0.0              0.0   \n00094326efae1d73371d118204e12e46                         0.0              0.0   \n000f325a72b9d24742237070939b57d1                         0.0              0.0   \n00108d48e89eb901236da1a14b854e7d                         0.0              0.0   \n...                                                      ...              ...   \nfff25ad7f2b1ccf36fa3573e5582f0bf                         0.0              0.0   \nfff9148b195a844454cf5b07c2fccbcb                         0.0              0.0   \nfffaeeddaabbd2868c183d8884b2a98d                         0.0              0.0   \nfffd0b8541e9f62496092d2ea8609135                         0.0              0.0   \nffff7fc0c266ac5b34f91de1ba4f3039                         0.0              0.0   \n\npackage                           JOY  LEISURE_SPORTS  LIFE_TV  LOTUS  \\\nACCOUNT_NUM.hash                                                        \n0003102d10a11c8f2f0f241f00a36b2d  0.0             0.0      0.0    0.0   \n00092b1fd47eb05d000a3553ae072056  0.0             0.0      0.0    0.0   \n00094326efae1d73371d118204e12e46  0.0             0.0      0.0    0.0   \n000f325a72b9d24742237070939b57d1  0.0             0.0      0.0    0.0   \n00108d48e89eb901236da1a14b854e7d  0.0             0.0      0.0    0.0   \n...                               ...             ...      ...    ...   \nfff25ad7f2b1ccf36fa3573e5582f0bf  0.0             0.0      0.0    0.0   \nfff9148b195a844454cf5b07c2fccbcb  0.0             0.0      0.0    0.0   \nfffaeeddaabbd2868c183d8884b2a98d  0.0             0.0      0.0    0.0   \nfffd0b8541e9f62496092d2ea8609135  0.0             0.0      0.0    0.0   \nffff7fc0c266ac5b34f91de1ba4f3039  0.0             0.0      0.0    0.0   \n\npackage                           LOTUS_FTTH  ...  PEO_VIRUSARA_VARAPPRASADA  \\\nACCOUNT_NUM.hash                              ...                              \n0003102d10a11c8f2f0f241f00a36b2d         0.0  ...                        0.0   \n00092b1fd47eb05d000a3553ae072056         0.0  ...                        0.0   \n00094326efae1d73371d118204e12e46         0.0  ...                        0.0   \n000f325a72b9d24742237070939b57d1         0.0  ...                        0.0   \n00108d48e89eb901236da1a14b854e7d         0.0  ...                        0.0   \n...                                      ...  ...                        ...   \nfff25ad7f2b1ccf36fa3573e5582f0bf         0.0  ...                        0.0   \nfff9148b195a844454cf5b07c2fccbcb         0.0  ...                        0.0   \nfffaeeddaabbd2868c183d8884b2a98d         0.0  ...                        0.0   \nfffd0b8541e9f62496092d2ea8609135         0.0  ...                        0.0   \nffff7fc0c266ac5b34f91de1ba4f3039         0.0  ...                        0.0   \n\npackage                           PRANAMA  PRANAMA_FTTH  SLTStaff_PEO_SILVER  \\\nACCOUNT_NUM.hash                                                               \n0003102d10a11c8f2f0f241f00a36b2d      0.0           0.0                  0.0   \n00092b1fd47eb05d000a3553ae072056      0.0           0.0                  0.0   \n00094326efae1d73371d118204e12e46      0.0           0.0                  0.0   \n000f325a72b9d24742237070939b57d1      0.0           0.0                  0.0   \n00108d48e89eb901236da1a14b854e7d      0.0           0.0                  0.0   \n...                                   ...           ...                  ...   \nfff25ad7f2b1ccf36fa3573e5582f0bf      0.0           0.0                  0.0   \nfff9148b195a844454cf5b07c2fccbcb      0.0           0.0                  0.0   \nfffaeeddaabbd2868c183d8884b2a98d      0.0           0.0                  0.0   \nfffd0b8541e9f62496092d2ea8609135      0.0           0.0                  0.0   \nffff7fc0c266ac5b34f91de1ba4f3039      0.0           0.0                  0.0   \n\npackage                           SLTStaff_PEO_UNNATHAM  \\\nACCOUNT_NUM.hash                                          \n0003102d10a11c8f2f0f241f00a36b2d                    0.0   \n00092b1fd47eb05d000a3553ae072056                    0.0   \n00094326efae1d73371d118204e12e46                    0.0   \n000f325a72b9d24742237070939b57d1                    0.0   \n00108d48e89eb901236da1a14b854e7d                    0.0   \n...                                                 ...   \nfff25ad7f2b1ccf36fa3573e5582f0bf                    0.0   \nfff9148b195a844454cf5b07c2fccbcb                    0.0   \nfffaeeddaabbd2868c183d8884b2a98d                    0.0   \nfffd0b8541e9f62496092d2ea8609135                    0.0   \nffff7fc0c266ac5b34f91de1ba4f3039                    0.0   \n\npackage                           SLT_SHARE_HOLDER_PACKAGE  \\\nACCOUNT_NUM.hash                                             \n0003102d10a11c8f2f0f241f00a36b2d                       0.0   \n00092b1fd47eb05d000a3553ae072056                       0.0   \n00094326efae1d73371d118204e12e46                       0.0   \n000f325a72b9d24742237070939b57d1                       0.0   \n00108d48e89eb901236da1a14b854e7d                       0.0   \n...                                                    ...   \nfff25ad7f2b1ccf36fa3573e5582f0bf                       0.0   \nfff9148b195a844454cf5b07c2fccbcb                       0.0   \nfffaeeddaabbd2868c183d8884b2a98d                       0.0   \nfffd0b8541e9f62496092d2ea8609135                       0.0   \nffff7fc0c266ac5b34f91de1ba4f3039                       0.0   \n\npackage                           SLT_STAFF_PEO_SILVER_FTTH  \\\nACCOUNT_NUM.hash                                              \n0003102d10a11c8f2f0f241f00a36b2d                        0.0   \n00092b1fd47eb05d000a3553ae072056                        0.0   \n00094326efae1d73371d118204e12e46                        0.0   \n000f325a72b9d24742237070939b57d1                        0.0   \n00108d48e89eb901236da1a14b854e7d                        0.0   \n...                                                     ...   \nfff25ad7f2b1ccf36fa3573e5582f0bf                        0.0   \nfff9148b195a844454cf5b07c2fccbcb                        0.0   \nfffaeeddaabbd2868c183d8884b2a98d                        0.0   \nfffd0b8541e9f62496092d2ea8609135                        0.0   \nffff7fc0c266ac5b34f91de1ba4f3039                        0.0   \n\npackage                           SLT_STAFF_PEO_UNNATHAM_FTTH  \\\nACCOUNT_NUM.hash                                                \n0003102d10a11c8f2f0f241f00a36b2d                          0.0   \n00092b1fd47eb05d000a3553ae072056                          0.0   \n00094326efae1d73371d118204e12e46                          0.0   \n000f325a72b9d24742237070939b57d1                          0.0   \n00108d48e89eb901236da1a14b854e7d                          0.0   \n...                                                       ...   \nfff25ad7f2b1ccf36fa3573e5582f0bf                          0.0   \nfff9148b195a844454cf5b07c2fccbcb                          0.0   \nfffaeeddaabbd2868c183d8884b2a98d                          0.0   \nfffd0b8541e9f62496092d2ea8609135                          0.0   \nffff7fc0c266ac5b34f91de1ba4f3039                          0.0   \n\npackage                           SLT_STAFF_TRIPLE_PLAY  SUMATHI_GROUP  \nACCOUNT_NUM.hash                                                        \n0003102d10a11c8f2f0f241f00a36b2d                    0.0            0.0  \n00092b1fd47eb05d000a3553ae072056                    0.0            0.0  \n00094326efae1d73371d118204e12e46                    0.0            0.0  \n000f325a72b9d24742237070939b57d1                    0.0            0.0  \n00108d48e89eb901236da1a14b854e7d                    0.0            0.0  \n...                                                 ...            ...  \nfff25ad7f2b1ccf36fa3573e5582f0bf                    0.0            0.0  \nfff9148b195a844454cf5b07c2fccbcb                    0.0            0.0  \nfffaeeddaabbd2868c183d8884b2a98d                    0.0            0.0  \nfffd0b8541e9f62496092d2ea8609135                    0.0            0.0  \nffff7fc0c266ac5b34f91de1ba4f3039                    0.0            0.0  \n\n[21337 rows x 48 columns]",
            "text/html": "<div>\n<style scoped>\n    .dataframe tbody tr th:only-of-type {\n        vertical-align: middle;\n    }\n\n    .dataframe tbody tr th {\n        vertical-align: top;\n    }\n\n    .dataframe thead th {\n        text-align: right;\n    }\n</style>\n<table border=\"1\" class=\"dataframe\">\n  <thead>\n    <tr style=\"text-align: right;\">\n      <th>package</th>\n      <th>BOC</th>\n      <th>CHEER</th>\n      <th>DOUBLEPROMO</th>\n      <th>GMOA_Consultant_AO_MO_Plus</th>\n      <th>GMOA_MO_Medical</th>\n      <th>JOY</th>\n      <th>LEISURE_SPORTS</th>\n      <th>LIFE_TV</th>\n      <th>LOTUS</th>\n      <th>LOTUS_FTTH</th>\n      <th>...</th>\n      <th>PEO_VIRUSARA_VARAPPRASADA</th>\n      <th>PRANAMA</th>\n      <th>PRANAMA_FTTH</th>\n      <th>SLTStaff_PEO_SILVER</th>\n      <th>SLTStaff_PEO_UNNATHAM</th>\n      <th>SLT_SHARE_HOLDER_PACKAGE</th>\n      <th>SLT_STAFF_PEO_SILVER_FTTH</th>\n      <th>SLT_STAFF_PEO_UNNATHAM_FTTH</th>\n      <th>SLT_STAFF_TRIPLE_PLAY</th>\n      <th>SUMATHI_GROUP</th>\n    </tr>\n    <tr>\n      <th>ACCOUNT_NUM.hash</th>\n      <th></th>\n      <th></th>\n      <th></th>\n      <th></th>\n      <th></th>\n      <th></th>\n      <th></th>\n      <th></th>\n      <th></th>\n      <th></th>\n      <th></th>\n      <th></th>\n      <th></th>\n      <th></th>\n      <th></th>\n      <th></th>\n      <th></th>\n      <th></th>\n      <th></th>\n      <th></th>\n      <th></th>\n    </tr>\n  </thead>\n  <tbody>\n    <tr>\n      <th>0003102d10a11c8f2f0f241f00a36b2d</th>\n      <td>0.0</td>\n      <td>0.0</td>\n      <td>0.0</td>\n      <td>0.0</td>\n      <td>0.0</td>\n      <td>0.0</td>\n      <td>0.0</td>\n      <td>0.0</td>\n      <td>0.0</td>\n      <td>0.0</td>\n      <td>...</td>\n      <td>0.0</td>\n      <td>0.0</td>\n      <td>0.0</td>\n      <td>0.0</td>\n      <td>0.0</td>\n      <td>0.0</td>\n      <td>0.0</td>\n      <td>0.0</td>\n      <td>0.0</td>\n      <td>0.0</td>\n    </tr>\n    <tr>\n      <th>00092b1fd47eb05d000a3553ae072056</th>\n      <td>0.0</td>\n      <td>0.0</td>\n      <td>0.0</td>\n      <td>0.0</td>\n      <td>0.0</td>\n      <td>0.0</td>\n      <td>0.0</td>\n      <td>0.0</td>\n      <td>0.0</td>\n      <td>0.0</td>\n      <td>...</td>\n      <td>0.0</td>\n      <td>0.0</td>\n      <td>0.0</td>\n      <td>0.0</td>\n      <td>0.0</td>\n      <td>0.0</td>\n      <td>0.0</td>\n      <td>0.0</td>\n      <td>0.0</td>\n      <td>0.0</td>\n    </tr>\n    <tr>\n      <th>00094326efae1d73371d118204e12e46</th>\n      <td>0.0</td>\n      <td>0.0</td>\n      <td>0.0</td>\n      <td>0.0</td>\n      <td>0.0</td>\n      <td>0.0</td>\n      <td>0.0</td>\n      <td>0.0</td>\n      <td>0.0</td>\n      <td>0.0</td>\n      <td>...</td>\n      <td>0.0</td>\n      <td>0.0</td>\n      <td>0.0</td>\n      <td>0.0</td>\n      <td>0.0</td>\n      <td>0.0</td>\n      <td>0.0</td>\n      <td>0.0</td>\n      <td>0.0</td>\n      <td>0.0</td>\n    </tr>\n    <tr>\n      <th>000f325a72b9d24742237070939b57d1</th>\n      <td>0.0</td>\n      <td>0.0</td>\n      <td>0.0</td>\n      <td>0.0</td>\n      <td>0.0</td>\n      <td>0.0</td>\n      <td>0.0</td>\n      <td>0.0</td>\n      <td>0.0</td>\n      <td>0.0</td>\n      <td>...</td>\n      <td>0.0</td>\n      <td>0.0</td>\n      <td>0.0</td>\n      <td>0.0</td>\n      <td>0.0</td>\n      <td>0.0</td>\n      <td>0.0</td>\n      <td>0.0</td>\n      <td>0.0</td>\n      <td>0.0</td>\n    </tr>\n    <tr>\n      <th>00108d48e89eb901236da1a14b854e7d</th>\n      <td>0.0</td>\n      <td>0.0</td>\n      <td>0.0</td>\n      <td>0.0</td>\n      <td>0.0</td>\n      <td>0.0</td>\n      <td>0.0</td>\n      <td>0.0</td>\n      <td>0.0</td>\n      <td>0.0</td>\n      <td>...</td>\n      <td>0.0</td>\n      <td>0.0</td>\n      <td>0.0</td>\n      <td>0.0</td>\n      <td>0.0</td>\n      <td>0.0</td>\n      <td>0.0</td>\n      <td>0.0</td>\n      <td>0.0</td>\n      <td>0.0</td>\n    </tr>\n    <tr>\n      <th>...</th>\n      <td>...</td>\n      <td>...</td>\n      <td>...</td>\n      <td>...</td>\n      <td>...</td>\n      <td>...</td>\n      <td>...</td>\n      <td>...</td>\n      <td>...</td>\n      <td>...</td>\n      <td>...</td>\n      <td>...</td>\n      <td>...</td>\n      <td>...</td>\n      <td>...</td>\n      <td>...</td>\n      <td>...</td>\n      <td>...</td>\n      <td>...</td>\n      <td>...</td>\n      <td>...</td>\n    </tr>\n    <tr>\n      <th>fff25ad7f2b1ccf36fa3573e5582f0bf</th>\n      <td>0.0</td>\n      <td>0.0</td>\n      <td>0.0</td>\n      <td>0.0</td>\n      <td>0.0</td>\n      <td>0.0</td>\n      <td>0.0</td>\n      <td>0.0</td>\n      <td>0.0</td>\n      <td>0.0</td>\n      <td>...</td>\n      <td>0.0</td>\n      <td>0.0</td>\n      <td>0.0</td>\n      <td>0.0</td>\n      <td>0.0</td>\n      <td>0.0</td>\n      <td>0.0</td>\n      <td>0.0</td>\n      <td>0.0</td>\n      <td>0.0</td>\n    </tr>\n    <tr>\n      <th>fff9148b195a844454cf5b07c2fccbcb</th>\n      <td>0.0</td>\n      <td>0.0</td>\n      <td>0.0</td>\n      <td>0.0</td>\n      <td>0.0</td>\n      <td>0.0</td>\n      <td>0.0</td>\n      <td>0.0</td>\n      <td>0.0</td>\n      <td>0.0</td>\n      <td>...</td>\n      <td>0.0</td>\n      <td>0.0</td>\n      <td>0.0</td>\n      <td>0.0</td>\n      <td>0.0</td>\n      <td>0.0</td>\n      <td>0.0</td>\n      <td>0.0</td>\n      <td>0.0</td>\n      <td>0.0</td>\n    </tr>\n    <tr>\n      <th>fffaeeddaabbd2868c183d8884b2a98d</th>\n      <td>0.0</td>\n      <td>0.0</td>\n      <td>0.0</td>\n      <td>0.0</td>\n      <td>0.0</td>\n      <td>0.0</td>\n      <td>0.0</td>\n      <td>0.0</td>\n      <td>0.0</td>\n      <td>0.0</td>\n      <td>...</td>\n      <td>0.0</td>\n      <td>0.0</td>\n      <td>0.0</td>\n      <td>0.0</td>\n      <td>0.0</td>\n      <td>0.0</td>\n      <td>0.0</td>\n      <td>0.0</td>\n      <td>0.0</td>\n      <td>0.0</td>\n    </tr>\n    <tr>\n      <th>fffd0b8541e9f62496092d2ea8609135</th>\n      <td>0.0</td>\n      <td>0.0</td>\n      <td>0.0</td>\n      <td>0.0</td>\n      <td>0.0</td>\n      <td>0.0</td>\n      <td>0.0</td>\n      <td>0.0</td>\n      <td>0.0</td>\n      <td>0.0</td>\n      <td>...</td>\n      <td>0.0</td>\n      <td>0.0</td>\n      <td>0.0</td>\n      <td>0.0</td>\n      <td>0.0</td>\n      <td>0.0</td>\n      <td>0.0</td>\n      <td>0.0</td>\n      <td>0.0</td>\n      <td>0.0</td>\n    </tr>\n    <tr>\n      <th>ffff7fc0c266ac5b34f91de1ba4f3039</th>\n      <td>0.0</td>\n      <td>0.0</td>\n      <td>0.0</td>\n      <td>0.0</td>\n      <td>0.0</td>\n      <td>0.0</td>\n      <td>0.0</td>\n      <td>0.0</td>\n      <td>0.0</td>\n      <td>0.0</td>\n      <td>...</td>\n      <td>0.0</td>\n      <td>0.0</td>\n      <td>0.0</td>\n      <td>0.0</td>\n      <td>0.0</td>\n      <td>0.0</td>\n      <td>0.0</td>\n      <td>0.0</td>\n      <td>0.0</td>\n      <td>0.0</td>\n    </tr>\n  </tbody>\n</table>\n<p>21337 rows × 48 columns</p>\n</div>"
          },
          "metadata": {}
        }
      ],
      "execution_count": 47,
      "metadata": {
        "jupyter": {
          "source_hidden": false,
          "outputs_hidden": false
        },
        "nteract": {
          "transient": {
            "deleting": false
          }
        },
        "gather": {
          "logged": 1642973444846
        }
      }
    },
    {
      "cell_type": "code",
      "source": [
        "create_interaction_matrix(data_pca)"
      ],
      "outputs": [
        {
          "output_type": "display_data",
          "data": {
            "text/plain": "<Figure size 432x288 with 1 Axes>",
            "image/png": "[encoded data removed]"
          },
          "metadata": {
            "needs_background": "light"
          }
        },
        {
          "output_type": "execute_result",
          "execution_count": 48,
          "data": {
            "text/plain": "package                           BOC  CHEER  DOUBLEPROMO  \\\nACCOUNT_NUM.hash                                            \n0003102d10a11c8f2f0f241f00a36b2d  0.0    0.0          0.0   \n00092b1fd47eb05d000a3553ae072056  0.0    0.0          0.0   \n00108d48e89eb901236da1a14b854e7d  0.0    0.0          0.0   \n0012bc728800736f56ee2c18d26e15ed  0.0    0.0          0.0   \n0013519e648e9718c56e1e6ccfb3b17d  0.0    0.0          0.0   \n...                               ...    ...          ...   \nfff25ad7f2b1ccf36fa3573e5582f0bf  0.0    0.0          0.0   \nfff9148b195a844454cf5b07c2fccbcb  0.0    0.0          0.0   \nfffaeeddaabbd2868c183d8884b2a98d  0.0    0.0          0.0   \nfffd0b8541e9f62496092d2ea8609135  0.0    0.0          0.0   \nffff7fc0c266ac5b34f91de1ba4f3039  0.0    0.0          0.0   \n\npackage                           GMOA_Consultant_AO_MO_Plus  GMOA_MO_Medical  \\\nACCOUNT_NUM.hash                                                                \n0003102d10a11c8f2f0f241f00a36b2d                         0.0              0.0   \n00092b1fd47eb05d000a3553ae072056                         0.0              0.0   \n00108d48e89eb901236da1a14b854e7d                         0.0              0.0   \n0012bc728800736f56ee2c18d26e15ed                         0.0              0.0   \n0013519e648e9718c56e1e6ccfb3b17d                         0.0              0.0   \n...                                                      ...              ...   \nfff25ad7f2b1ccf36fa3573e5582f0bf                         0.0              0.0   \nfff9148b195a844454cf5b07c2fccbcb                         0.0              0.0   \nfffaeeddaabbd2868c183d8884b2a98d                         0.0              0.0   \nfffd0b8541e9f62496092d2ea8609135                         0.0              0.0   \nffff7fc0c266ac5b34f91de1ba4f3039                         0.0              0.0   \n\npackage                           JOY  LEISURE_SPORTS  LIFE_TV  LOTUS  \\\nACCOUNT_NUM.hash                                                        \n0003102d10a11c8f2f0f241f00a36b2d  0.0             0.0      0.0    0.0   \n00092b1fd47eb05d000a3553ae072056  0.0             0.0      0.0    0.0   \n00108d48e89eb901236da1a14b854e7d  0.0             0.0      0.0    0.0   \n0012bc728800736f56ee2c18d26e15ed  0.0             0.0      0.0    0.0   \n0013519e648e9718c56e1e6ccfb3b17d  0.0             0.0      0.0    0.0   \n...                               ...             ...      ...    ...   \nfff25ad7f2b1ccf36fa3573e5582f0bf  0.0             0.0      0.0    0.0   \nfff9148b195a844454cf5b07c2fccbcb  0.0             0.0      0.0    0.0   \nfffaeeddaabbd2868c183d8884b2a98d  0.0             0.0      0.0    0.0   \nfffd0b8541e9f62496092d2ea8609135  0.0             0.0      0.0    0.0   \nffff7fc0c266ac5b34f91de1ba4f3039  0.0             0.0      0.0    0.0   \n\npackage                           LOTUS_FTTH  ...  PEO_VIRUSARA_VARAPPRASADA  \\\nACCOUNT_NUM.hash                              ...                              \n0003102d10a11c8f2f0f241f00a36b2d         0.0  ...                        0.0   \n00092b1fd47eb05d000a3553ae072056         0.0  ...                        0.0   \n00108d48e89eb901236da1a14b854e7d         0.0  ...                        0.0   \n0012bc728800736f56ee2c18d26e15ed         0.0  ...                        0.0   \n0013519e648e9718c56e1e6ccfb3b17d         0.0  ...                        0.0   \n...                                      ...  ...                        ...   \nfff25ad7f2b1ccf36fa3573e5582f0bf         0.0  ...                        0.0   \nfff9148b195a844454cf5b07c2fccbcb         0.0  ...                        0.0   \nfffaeeddaabbd2868c183d8884b2a98d         0.0  ...                        0.0   \nfffd0b8541e9f62496092d2ea8609135         0.0  ...                        0.0   \nffff7fc0c266ac5b34f91de1ba4f3039         0.0  ...                        0.0   \n\npackage                           PRANAMA  PRANAMA_FTTH  SLTStaff_PEO_SILVER  \\\nACCOUNT_NUM.hash                                                               \n0003102d10a11c8f2f0f241f00a36b2d      0.0           0.0                  0.0   \n00092b1fd47eb05d000a3553ae072056      0.0           0.0                  0.0   \n00108d48e89eb901236da1a14b854e7d      0.0           0.0                  0.0   \n0012bc728800736f56ee2c18d26e15ed      0.0           0.0                  0.0   \n0013519e648e9718c56e1e6ccfb3b17d      0.0           0.0                  0.0   \n...                                   ...           ...                  ...   \nfff25ad7f2b1ccf36fa3573e5582f0bf      0.0           0.0                  0.0   \nfff9148b195a844454cf5b07c2fccbcb      0.0           0.0                  0.0   \nfffaeeddaabbd2868c183d8884b2a98d      0.0           0.0                  0.0   \nfffd0b8541e9f62496092d2ea8609135      0.0           0.0                  0.0   \nffff7fc0c266ac5b34f91de1ba4f3039      0.0           0.0                  0.0   \n\npackage                           SLTStaff_PEO_UNNATHAM  \\\nACCOUNT_NUM.hash                                          \n0003102d10a11c8f2f0f241f00a36b2d                    0.0   \n00092b1fd47eb05d000a3553ae072056                    0.0   \n00108d48e89eb901236da1a14b854e7d                    0.0   \n0012bc728800736f56ee2c18d26e15ed                    0.0   \n0013519e648e9718c56e1e6ccfb3b17d                    0.0   \n...                                                 ...   \nfff25ad7f2b1ccf36fa3573e5582f0bf                    0.0   \nfff9148b195a844454cf5b07c2fccbcb                    0.0   \nfffaeeddaabbd2868c183d8884b2a98d                    0.0   \nfffd0b8541e9f62496092d2ea8609135                    0.0   \nffff7fc0c266ac5b34f91de1ba4f3039                    0.0   \n\npackage                           SLT_SHARE_HOLDER_PACKAGE  \\\nACCOUNT_NUM.hash                                             \n0003102d10a11c8f2f0f241f00a36b2d                       0.0   \n00092b1fd47eb05d000a3553ae072056                       0.0   \n00108d48e89eb901236da1a14b854e7d                       0.0   \n0012bc728800736f56ee2c18d26e15ed                       0.0   \n0013519e648e9718c56e1e6ccfb3b17d                       0.0   \n...                                                    ...   \nfff25ad7f2b1ccf36fa3573e5582f0bf                       0.0   \nfff9148b195a844454cf5b07c2fccbcb                       0.0   \nfffaeeddaabbd2868c183d8884b2a98d                       0.0   \nfffd0b8541e9f62496092d2ea8609135                       0.0   \nffff7fc0c266ac5b34f91de1ba4f3039                       0.0   \n\npackage                           SLT_STAFF_PEO_SILVER_FTTH  \\\nACCOUNT_NUM.hash                                              \n0003102d10a11c8f2f0f241f00a36b2d                        0.0   \n00092b1fd47eb05d000a3553ae072056                        0.0   \n00108d48e89eb901236da1a14b854e7d                        0.0   \n0012bc728800736f56ee2c18d26e15ed                        0.0   \n0013519e648e9718c56e1e6ccfb3b17d                        0.0   \n...                                                     ...   \nfff25ad7f2b1ccf36fa3573e5582f0bf                        0.0   \nfff9148b195a844454cf5b07c2fccbcb                        0.0   \nfffaeeddaabbd2868c183d8884b2a98d                        0.0   \nfffd0b8541e9f62496092d2ea8609135                        0.0   \nffff7fc0c266ac5b34f91de1ba4f3039                        0.0   \n\npackage                           SLT_STAFF_PEO_UNNATHAM_FTTH  \\\nACCOUNT_NUM.hash                                                \n0003102d10a11c8f2f0f241f00a36b2d                          0.0   \n00092b1fd47eb05d000a3553ae072056                          0.0   \n00108d48e89eb901236da1a14b854e7d                          0.0   \n0012bc728800736f56ee2c18d26e15ed                          0.0   \n0013519e648e9718c56e1e6ccfb3b17d                          0.0   \n...                                                       ...   \nfff25ad7f2b1ccf36fa3573e5582f0bf                          0.0   \nfff9148b195a844454cf5b07c2fccbcb                          0.0   \nfffaeeddaabbd2868c183d8884b2a98d                          0.0   \nfffd0b8541e9f62496092d2ea8609135                          0.0   \nffff7fc0c266ac5b34f91de1ba4f3039                          0.0   \n\npackage                           SLT_STAFF_TRIPLE_PLAY  SUMATHI_GROUP  \nACCOUNT_NUM.hash                                                        \n0003102d10a11c8f2f0f241f00a36b2d                    0.0            0.0  \n00092b1fd47eb05d000a3553ae072056                    0.0            0.0  \n00108d48e89eb901236da1a14b854e7d                    0.0            0.0  \n0012bc728800736f56ee2c18d26e15ed                    0.0            0.0  \n0013519e648e9718c56e1e6ccfb3b17d                    0.0            0.0  \n...                                                 ...            ...  \nfff25ad7f2b1ccf36fa3573e5582f0bf                    0.0            0.0  \nfff9148b195a844454cf5b07c2fccbcb                    0.0            0.0  \nfffaeeddaabbd2868c183d8884b2a98d                    0.0            0.0  \nfffd0b8541e9f62496092d2ea8609135                    0.0            0.0  \nffff7fc0c266ac5b34f91de1ba4f3039                    0.0            0.0  \n\n[19018 rows x 48 columns]",
            "text/html": "<div>\n<style scoped>\n    .dataframe tbody tr th:only-of-type {\n        vertical-align: middle;\n    }\n\n    .dataframe tbody tr th {\n        vertical-align: top;\n    }\n\n    .dataframe thead th {\n        text-align: right;\n    }\n</style>\n<table border=\"1\" class=\"dataframe\">\n  <thead>\n    <tr style=\"text-align: right;\">\n      <th>package</th>\n      <th>BOC</th>\n      <th>CHEER</th>\n      <th>DOUBLEPROMO</th>\n      <th>GMOA_Consultant_AO_MO_Plus</th>\n      <th>GMOA_MO_Medical</th>\n      <th>JOY</th>\n      <th>LEISURE_SPORTS</th>\n      <th>LIFE_TV</th>\n      <th>LOTUS</th>\n      <th>LOTUS_FTTH</th>\n      <th>...</th>\n      <th>PEO_VIRUSARA_VARAPPRASADA</th>\n      <th>PRANAMA</th>\n      <th>PRANAMA_FTTH</th>\n      <th>SLTStaff_PEO_SILVER</th>\n      <th>SLTStaff_PEO_UNNATHAM</th>\n      <th>SLT_SHARE_HOLDER_PACKAGE</th>\n      <th>SLT_STAFF_PEO_SILVER_FTTH</th>\n      <th>SLT_STAFF_PEO_UNNATHAM_FTTH</th>\n      <th>SLT_STAFF_TRIPLE_PLAY</th>\n      <th>SUMATHI_GROUP</th>\n    </tr>\n    <tr>\n      <th>ACCOUNT_NUM.hash</th>\n      <th></th>\n      <th></th>\n      <th></th>\n      <th></th>\n      <th></th>\n      <th></th>\n      <th></th>\n      <th></th>\n      <th></th>\n      <th></th>\n      <th></th>\n      <th></th>\n      <th></th>\n      <th></th>\n      <th></th>\n      <th></th>\n      <th></th>\n      <th></th>\n      <th></th>\n      <th></th>\n      <th></th>\n    </tr>\n  </thead>\n  <tbody>\n    <tr>\n      <th>0003102d10a11c8f2f0f241f00a36b2d</th>\n      <td>0.0</td>\n      <td>0.0</td>\n      <td>0.0</td>\n      <td>0.0</td>\n      <td>0.0</td>\n      <td>0.0</td>\n      <td>0.0</td>\n      <td>0.0</td>\n      <td>0.0</td>\n      <td>0.0</td>\n      <td>...</td>\n      <td>0.0</td>\n      <td>0.0</td>\n      <td>0.0</td>\n      <td>0.0</td>\n      <td>0.0</td>\n      <td>0.0</td>\n      <td>0.0</td>\n      <td>0.0</td>\n      <td>0.0</td>\n      <td>0.0</td>\n    </tr>\n    <tr>\n      <th>00092b1fd47eb05d000a3553ae072056</th>\n      <td>0.0</td>\n      <td>0.0</td>\n      <td>0.0</td>\n      <td>0.0</td>\n      <td>0.0</td>\n      <td>0.0</td>\n      <td>0.0</td>\n      <td>0.0</td>\n      <td>0.0</td>\n      <td>0.0</td>\n      <td>...</td>\n      <td>0.0</td>\n      <td>0.0</td>\n      <td>0.0</td>\n      <td>0.0</td>\n      <td>0.0</td>\n      <td>0.0</td>\n      <td>0.0</td>\n      <td>0.0</td>\n      <td>0.0</td>\n      <td>0.0</td>\n    </tr>\n    <tr>\n      <th>00108d48e89eb901236da1a14b854e7d</th>\n      <td>0.0</td>\n      <td>0.0</td>\n      <td>0.0</td>\n      <td>0.0</td>\n      <td>0.0</td>\n      <td>0.0</td>\n      <td>0.0</td>\n      <td>0.0</td>\n      <td>0.0</td>\n      <td>0.0</td>\n      <td>...</td>\n      <td>0.0</td>\n      <td>0.0</td>\n      <td>0.0</td>\n      <td>0.0</td>\n      <td>0.0</td>\n      <td>0.0</td>\n      <td>0.0</td>\n      <td>0.0</td>\n      <td>0.0</td>\n      <td>0.0</td>\n    </tr>\n    <tr>\n      <th>0012bc728800736f56ee2c18d26e15ed</th>\n      <td>0.0</td>\n      <td>0.0</td>\n      <td>0.0</td>\n      <td>0.0</td>\n      <td>0.0</td>\n      <td>0.0</td>\n      <td>0.0</td>\n      <td>0.0</td>\n      <td>0.0</td>\n      <td>0.0</td>\n      <td>...</td>\n      <td>0.0</td>\n      <td>0.0</td>\n      <td>0.0</td>\n      <td>0.0</td>\n      <td>0.0</td>\n      <td>0.0</td>\n      <td>0.0</td>\n      <td>0.0</td>\n      <td>0.0</td>\n      <td>0.0</td>\n    </tr>\n    <tr>\n      <th>0013519e648e9718c56e1e6ccfb3b17d</th>\n      <td>0.0</td>\n      <td>0.0</td>\n      <td>0.0</td>\n      <td>0.0</td>\n      <td>0.0</td>\n      <td>0.0</td>\n      <td>0.0</td>\n      <td>0.0</td>\n      <td>0.0</td>\n      <td>0.0</td>\n      <td>...</td>\n      <td>0.0</td>\n      <td>0.0</td>\n      <td>0.0</td>\n      <td>0.0</td>\n      <td>0.0</td>\n      <td>0.0</td>\n      <td>0.0</td>\n      <td>0.0</td>\n      <td>0.0</td>\n      <td>0.0</td>\n    </tr>\n    <tr>\n      <th>...</th>\n      <td>...</td>\n      <td>...</td>\n      <td>...</td>\n      <td>...</td>\n      <td>...</td>\n      <td>...</td>\n      <td>...</td>\n      <td>...</td>\n      <td>...</td>\n      <td>...</td>\n      <td>...</td>\n      <td>...</td>\n      <td>...</td>\n      <td>...</td>\n      <td>...</td>\n      <td>...</td>\n      <td>...</td>\n      <td>...</td>\n      <td>...</td>\n      <td>...</td>\n      <td>...</td>\n    </tr>\n    <tr>\n      <th>fff25ad7f2b1ccf36fa3573e5582f0bf</th>\n      <td>0.0</td>\n      <td>0.0</td>\n      <td>0.0</td>\n      <td>0.0</td>\n      <td>0.0</td>\n      <td>0.0</td>\n      <td>0.0</td>\n      <td>0.0</td>\n      <td>0.0</td>\n      <td>0.0</td>\n      <td>...</td>\n      <td>0.0</td>\n      <td>0.0</td>\n      <td>0.0</td>\n      <td>0.0</td>\n      <td>0.0</td>\n      <td>0.0</td>\n      <td>0.0</td>\n      <td>0.0</td>\n      <td>0.0</td>\n      <td>0.0</td>\n    </tr>\n    <tr>\n      <th>fff9148b195a844454cf5b07c2fccbcb</th>\n      <td>0.0</td>\n      <td>0.0</td>\n      <td>0.0</td>\n      <td>0.0</td>\n      <td>0.0</td>\n      <td>0.0</td>\n      <td>0.0</td>\n      <td>0.0</td>\n      <td>0.0</td>\n      <td>0.0</td>\n      <td>...</td>\n      <td>0.0</td>\n      <td>0.0</td>\n      <td>0.0</td>\n      <td>0.0</td>\n      <td>0.0</td>\n      <td>0.0</td>\n      <td>0.0</td>\n      <td>0.0</td>\n      <td>0.0</td>\n      <td>0.0</td>\n    </tr>\n    <tr>\n      <th>fffaeeddaabbd2868c183d8884b2a98d</th>\n      <td>0.0</td>\n      <td>0.0</td>\n      <td>0.0</td>\n      <td>0.0</td>\n      <td>0.0</td>\n      <td>0.0</td>\n      <td>0.0</td>\n      <td>0.0</td>\n      <td>0.0</td>\n      <td>0.0</td>\n      <td>...</td>\n      <td>0.0</td>\n      <td>0.0</td>\n      <td>0.0</td>\n      <td>0.0</td>\n      <td>0.0</td>\n      <td>0.0</td>\n      <td>0.0</td>\n      <td>0.0</td>\n      <td>0.0</td>\n      <td>0.0</td>\n    </tr>\n    <tr>\n      <th>fffd0b8541e9f62496092d2ea8609135</th>\n      <td>0.0</td>\n      <td>0.0</td>\n      <td>0.0</td>\n      <td>0.0</td>\n      <td>0.0</td>\n      <td>0.0</td>\n      <td>0.0</td>\n      <td>0.0</td>\n      <td>0.0</td>\n      <td>0.0</td>\n      <td>...</td>\n      <td>0.0</td>\n      <td>0.0</td>\n      <td>0.0</td>\n      <td>0.0</td>\n      <td>0.0</td>\n      <td>0.0</td>\n      <td>0.0</td>\n      <td>0.0</td>\n      <td>0.0</td>\n      <td>0.0</td>\n    </tr>\n    <tr>\n      <th>ffff7fc0c266ac5b34f91de1ba4f3039</th>\n      <td>0.0</td>\n      <td>0.0</td>\n      <td>0.0</td>\n      <td>0.0</td>\n      <td>0.0</td>\n      <td>0.0</td>\n      <td>0.0</td>\n      <td>0.0</td>\n      <td>0.0</td>\n      <td>0.0</td>\n      <td>...</td>\n      <td>0.0</td>\n      <td>0.0</td>\n      <td>0.0</td>\n      <td>0.0</td>\n      <td>0.0</td>\n      <td>0.0</td>\n      <td>0.0</td>\n      <td>0.0</td>\n      <td>0.0</td>\n      <td>0.0</td>\n    </tr>\n  </tbody>\n</table>\n<p>19018 rows × 48 columns</p>\n</div>"
          },
          "metadata": {}
        }
      ],
      "execution_count": 48,
      "metadata": {
        "jupyter": {
          "source_hidden": false,
          "outputs_hidden": false
        },
        "nteract": {
          "transient": {
            "deleting": false
          }
        },
        "gather": {
          "logged": 1642973445207
        }
      }
    },
    {
      "cell_type": "markdown",
      "source": [
        "## Function Definition"
      ],
      "metadata": {
        "nteract": {
          "transient": {
            "deleting": false
          }
        }
      }
    },
    {
      "cell_type": "code",
      "source": [
        "def train_test_splitter(data):\n",
        "    reader = Reader(rating_scale=(0, 1))\n",
        "    data_model = Dataset.load_from_df(data, reader)\n",
        "    return data_model,train_test_split(data_model, test_size=.20)"
      ],
      "outputs": [],
      "execution_count": 49,
      "metadata": {
        "gather": {
          "logged": 1642973445319
        }
      }
    },
    {
      "cell_type": "code",
      "source": [
        "def get_Iu(uid):\n",
        "    \"\"\"Return the number of items rated by given user\n",
        "    \n",
        "    Args:\n",
        "        uid: The raw id of the user.\n",
        "    Returns:\n",
        "        The number of items rated by the user.\n",
        "    \"\"\"\n",
        "    \n",
        "    try:\n",
        "        return len(trainset.ur[trainset.to_inner_uid(uid)])\n",
        "    except ValueError:  # user was not part of the trainset\n",
        "        return 0\n",
        "    \n",
        "def get_Ui(iid):\n",
        "    \"\"\"Return the number of users that have rated given item\n",
        "    \n",
        "    Args:\n",
        "        iid: The raw id of the item.\n",
        "    Returns:\n",
        "        The number of users that have rated the item.\n",
        "    \"\"\"\n",
        "    \n",
        "    try:\n",
        "        return len(trainset.ir[trainset.to_inner_iid(iid)])\n",
        "    except ValueError:  # item was not part of the trainset\n",
        "        return 0\n"
      ],
      "outputs": [],
      "execution_count": 50,
      "metadata": {
        "gather": {
          "logged": 1642973445397
        }
      }
    },
    {
      "cell_type": "code",
      "source": [
        "def get_top_n(predictions, n=10):\n",
        "    \n",
        "    # First map the predictions to each user.\n",
        "    top_n = defaultdict(list)\n",
        "    for uid, iid, true_r, est, _ in predictions:\n",
        "        top_n[uid].append((iid, est, true_r))\n",
        "\n",
        "    for uid, user_ratings in top_n.items():\n",
        "        user_ratings.sort(key=lambda x: x[1], reverse=True)\n",
        "        top_n[uid] = user_ratings[:5]\n",
        "        \n",
        "\n",
        "    return top_n"
      ],
      "outputs": [],
      "execution_count": 51,
      "metadata": {
        "gather": {
          "logged": 1642973445492
        }
      }
    },
    {
      "cell_type": "code",
      "source": [
        "# calculate NDCG\n",
        "def ndcg(y_true, y_pred, k=None, powered=False):\n",
        "    def dcg(scores, k=None, powered=False):\n",
        "        if k is None:\n",
        "            k = scores.shape[0]\n",
        "        if not powered:\n",
        "            ret = scores[0]\n",
        "            for i in range(1, k):\n",
        "                ret += scores[i] / np.log2(i + 1)\n",
        "            return ret\n",
        "        else:\n",
        "            ret = 0\n",
        "            for i in range(k):\n",
        "                ret += (2 ** scores[i] - 1) / np.log2(i + 2)\n",
        "            return ret\n",
        "    \n",
        "    ideal_sorted_scores = np.sort(y_true)[::-1]\n",
        "    ideal_dcg_score = dcg(ideal_sorted_scores, k=k, powered=powered)\n",
        "    \n",
        "    pred_sorted_ind = np.argsort(y_pred)[::-1]\n",
        "    pred_sorted_scores = y_true[pred_sorted_ind]\n",
        "    dcg_score = dcg(pred_sorted_scores, k=k, powered=powered)\n",
        "    \n",
        "    return dcg_score / ideal_dcg_score\n",
        "\n",
        "def ndcg1(y_true, y_pred, k=None):\n",
        "    return ndcg(y_true, y_pred, k=k, powered=False)\n",
        "\n",
        "def ndcg2(y_true, y_pred, k=None):\n",
        "    return ndcg(y_true, y_pred, k=k, powered=True)"
      ],
      "outputs": [],
      "execution_count": 52,
      "metadata": {
        "gather": {
          "logged": 1642973445560
        }
      }
    },
    {
      "cell_type": "code",
      "source": [
        "def top_n_pred(predictions):\n",
        "    top_n = get_top_n(predictions, n=3)\n",
        "    #print(top_n)\n",
        "    users_est = defaultdict(list)\n",
        "    users_true=defaultdict(list)\n",
        "    rec_for_user=defaultdict(list)\n",
        "    for uid, user_ratings in top_n.items():\n",
        "        users_est[uid].append([est for (_, est,_) in user_ratings])\n",
        "        users_true[uid].append([true_r for (_,_,true_r) in user_ratings])\n",
        "        rec_for_user[uid].append([iid for (iid,_,_) in user_ratings])\n",
        "    return top_n, users_est, users_true, rec_for_user"
      ],
      "outputs": [],
      "execution_count": 53,
      "metadata": {
        "jupyter": {
          "source_hidden": false,
          "outputs_hidden": false
        },
        "nteract": {
          "transient": {
            "deleting": false
          }
        },
        "gather": {
          "logged": 1642973445654
        }
      }
    },
    {
      "cell_type": "code",
      "source": [
        "def calc_ndcg(users_true,users_est):\n",
        "    ndcg_list=[]\n",
        "    for uid in top_n:\n",
        "        \n",
        "        for i in users_true[uid]:\n",
        "            y_true=np.asarray(i)#.reshape(-1,1)\n",
        "        for i in users_est[uid]:\n",
        "            y_pred=np.asarray(i)#.reshape(-1,1)\n",
        "        \n",
        "            ndcg_list.append(ndcg1(y_true, y_pred, k=None))\n",
        "\n",
        "    ndcg_list = [i for i in ndcg_list if str(i) != 'nan']\n",
        "    ndgc_rate = np.mean(ndcg_list)\n",
        "    return ndcg_list, ndgc_rate"
      ],
      "outputs": [],
      "execution_count": 54,
      "metadata": {
        "jupyter": {
          "source_hidden": false,
          "outputs_hidden": false
        },
        "nteract": {
          "transient": {
            "deleting": false
          }
        },
        "gather": {
          "logged": 1642973445722
        }
      }
    },
    {
      "cell_type": "markdown",
      "source": [
        "## Collabarative Recomenders with Surprise"
      ],
      "metadata": {}
    },
    {
      "cell_type": "code",
      "source": [
        "data_model, (trainset, testset) = train_test_splitter(data)\n",
        "data_model_pca, (trainset_pca, testset_pca) = train_test_splitter(data_pca)"
      ],
      "outputs": [],
      "execution_count": 55,
      "metadata": {
        "gather": {
          "logged": 1642973445924
        }
      }
    },
    {
      "cell_type": "markdown",
      "source": [
        "### SVD recommender"
      ],
      "metadata": {}
    },
    {
      "cell_type": "code",
      "source": [
        "# We'll use the famous SVD algorithm.\n",
        "algo = SVD()\n",
        "\n",
        "# Run 5-fold cross-validation and print results\n",
        "svd_validate = cross_validate(algo, data_model_pca, measures=['RMSE', 'MAE'], cv=5, verbose=True)"
      ],
      "outputs": [
        {
          "output_type": "stream",
          "name": "stdout",
          "text": "Evaluating RMSE, MAE of algorithm SVD on 5 split(s).\n\n                  Fold 1  Fold 2  Fold 3  Fold 4  Fold 5  Mean    Std     \nRMSE (testset)    0.2700  0.2688  0.2688  0.2677  0.2701  0.2691  0.0009  \nMAE (testset)     0.2208  0.2192  0.2193  0.2183  0.2198  0.2195  0.0008  \nFit time          6.62    6.89    6.66    6.99    6.84    6.80    0.14    \nTest time         0.23    0.22    0.45    0.22    0.23    0.27    0.09    \n"
        }
      ],
      "execution_count": 56,
      "metadata": {
        "gather": {
          "logged": 1642973482876
        }
      }
    },
    {
      "cell_type": "code",
      "source": [
        "# Train the algorithm on the trainset, and predict ratings for the testset\n",
        "algo.fit(trainset_pca)\n",
        "predictions = algo.test(testset_pca)"
      ],
      "outputs": [],
      "execution_count": 57,
      "metadata": {
        "gather": {
          "logged": 1642973489874
        }
      }
    },
    {
      "cell_type": "markdown",
      "source": [
        "Top-N predictions"
      ],
      "metadata": {}
    },
    {
      "cell_type": "code",
      "source": [
        "top_n, users_est, users_true, rec_for_user = top_n_pred(predictions)"
      ],
      "outputs": [],
      "execution_count": 58,
      "metadata": {
        "gather": {
          "logged": 1642973490157
        }
      }
    },
    {
      "cell_type": "markdown",
      "source": [
        "NDCG"
      ],
      "metadata": {}
    },
    {
      "cell_type": "code",
      "source": [
        "ndcg_list, ndgc_rate = calc_ndcg(users_true,users_est)\n",
        "print(\"NDCG\", ndgc_rate)"
      ],
      "outputs": [
        {
          "output_type": "stream",
          "name": "stdout",
          "text": "NDCG 0.9783051299701374\n"
        }
      ],
      "execution_count": 59,
      "metadata": {
        "gather": {
          "logged": 1642973490470
        }
      }
    },
    {
      "cell_type": "code",
      "source": [
        "# dataframe with all the predictions\n",
        "df = pd.DataFrame(predictions, columns=['uid', 'iid', 'rui', 'est', 'details'])    \n",
        "df['Iu'] = df.uid.apply(get_Iu)\n",
        "df['Ui'] = df.iid.apply(get_Ui)\n",
        "df['err'] = abs(df.est - df.rui)"
      ],
      "outputs": [],
      "execution_count": 60,
      "metadata": {
        "gather": {
          "logged": 1642973490619
        }
      }
    },
    {
      "cell_type": "code",
      "source": [
        "# 10 Best predictions\n",
        "best_predictions = df.sort_values(by='err')[:10]\n",
        "best_predictions"
      ],
      "outputs": [
        {
          "output_type": "execute_result",
          "execution_count": 61,
          "data": {
            "text/plain": "                                    uid              iid       rui       est  \\\n1702   fd0340879a34dd91eaee5867ef569598       PEO_SILVER  0.503263  0.503321   \n30675  edd71b8a5e157cb656f56e9e3719f8df     PEO_UNNATHAM  0.448078  0.448139   \n26609  e422518e71a9fa586dd1a451e5a4e904       PEO_SILVER  0.365282  0.365201   \n5876   4f0b488d6030befe658c434046f5260a       PEO_SILVER  0.365288  0.365201   \n26815  67cc44d7ac117e763534aa6943047471  PEO_SILVER_FTTH  0.503270  0.503358   \n6705   05867635d36aee5a7658ffba720bc239     PEO_TITANIUM  0.448078  0.448168   \n7809   57c5c5d080f397ea2d180bbd39d1725b  PEO_SILVER_FTTH  0.475633  0.475528   \n17338  08a55b99da9d680d6c3d421f209d3092     PEO_UNNATHAM  0.448078  0.448190   \n12362  bfd2097c071d77e7ac5ff0a3294bb23a       PEO_SILVER  0.420475  0.420359   \n27162  bfd2097c071d77e7ac5ff0a3294bb23a       PEO_SILVER  0.420475  0.420359   \n\n                         details  Iu     Ui       err  \n1702   {'was_impossible': False}   9  82704  0.000058  \n30675  {'was_impossible': False}   9   3034  0.000061  \n26609  {'was_impossible': False}   7  82704  0.000081  \n5876   {'was_impossible': False}   7  82704  0.000086  \n26815  {'was_impossible': False}   8  16995  0.000088  \n6705   {'was_impossible': False}   9   1041  0.000090  \n7809   {'was_impossible': False}   7  16995  0.000105  \n17338  {'was_impossible': False}   8   3034  0.000112  \n12362  {'was_impossible': False}   8  82704  0.000116  \n27162  {'was_impossible': False}   8  82704  0.000116  ",
            "text/html": "<div>\n<style scoped>\n    .dataframe tbody tr th:only-of-type {\n        vertical-align: middle;\n    }\n\n    .dataframe tbody tr th {\n        vertical-align: top;\n    }\n\n    .dataframe thead th {\n        text-align: right;\n    }\n</style>\n<table border=\"1\" class=\"dataframe\">\n  <thead>\n    <tr style=\"text-align: right;\">\n      <th></th>\n      <th>uid</th>\n      <th>iid</th>\n      <th>rui</th>\n      <th>est</th>\n      <th>details</th>\n      <th>Iu</th>\n      <th>Ui</th>\n      <th>err</th>\n    </tr>\n  </thead>\n  <tbody>\n    <tr>\n      <th>1702</th>\n      <td>fd0340879a34dd91eaee5867ef569598</td>\n      <td>PEO_SILVER</td>\n      <td>0.503263</td>\n      <td>0.503321</td>\n      <td>{'was_impossible': False}</td>\n      <td>9</td>\n      <td>82704</td>\n      <td>0.000058</td>\n    </tr>\n    <tr>\n      <th>30675</th>\n      <td>edd71b8a5e157cb656f56e9e3719f8df</td>\n      <td>PEO_UNNATHAM</td>\n      <td>0.448078</td>\n      <td>0.448139</td>\n      <td>{'was_impossible': False}</td>\n      <td>9</td>\n      <td>3034</td>\n      <td>0.000061</td>\n    </tr>\n    <tr>\n      <th>26609</th>\n      <td>e422518e71a9fa586dd1a451e5a4e904</td>\n      <td>PEO_SILVER</td>\n      <td>0.365282</td>\n      <td>0.365201</td>\n      <td>{'was_impossible': False}</td>\n      <td>7</td>\n      <td>82704</td>\n      <td>0.000081</td>\n    </tr>\n    <tr>\n      <th>5876</th>\n      <td>4f0b488d6030befe658c434046f5260a</td>\n      <td>PEO_SILVER</td>\n      <td>0.365288</td>\n      <td>0.365201</td>\n      <td>{'was_impossible': False}</td>\n      <td>7</td>\n      <td>82704</td>\n      <td>0.000086</td>\n    </tr>\n    <tr>\n      <th>26815</th>\n      <td>67cc44d7ac117e763534aa6943047471</td>\n      <td>PEO_SILVER_FTTH</td>\n      <td>0.503270</td>\n      <td>0.503358</td>\n      <td>{'was_impossible': False}</td>\n      <td>8</td>\n      <td>16995</td>\n      <td>0.000088</td>\n    </tr>\n    <tr>\n      <th>6705</th>\n      <td>05867635d36aee5a7658ffba720bc239</td>\n      <td>PEO_TITANIUM</td>\n      <td>0.448078</td>\n      <td>0.448168</td>\n      <td>{'was_impossible': False}</td>\n      <td>9</td>\n      <td>1041</td>\n      <td>0.000090</td>\n    </tr>\n    <tr>\n      <th>7809</th>\n      <td>57c5c5d080f397ea2d180bbd39d1725b</td>\n      <td>PEO_SILVER_FTTH</td>\n      <td>0.475633</td>\n      <td>0.475528</td>\n      <td>{'was_impossible': False}</td>\n      <td>7</td>\n      <td>16995</td>\n      <td>0.000105</td>\n    </tr>\n    <tr>\n      <th>17338</th>\n      <td>08a55b99da9d680d6c3d421f209d3092</td>\n      <td>PEO_UNNATHAM</td>\n      <td>0.448078</td>\n      <td>0.448190</td>\n      <td>{'was_impossible': False}</td>\n      <td>8</td>\n      <td>3034</td>\n      <td>0.000112</td>\n    </tr>\n    <tr>\n      <th>12362</th>\n      <td>bfd2097c071d77e7ac5ff0a3294bb23a</td>\n      <td>PEO_SILVER</td>\n      <td>0.420475</td>\n      <td>0.420359</td>\n      <td>{'was_impossible': False}</td>\n      <td>8</td>\n      <td>82704</td>\n      <td>0.000116</td>\n    </tr>\n    <tr>\n      <th>27162</th>\n      <td>bfd2097c071d77e7ac5ff0a3294bb23a</td>\n      <td>PEO_SILVER</td>\n      <td>0.420475</td>\n      <td>0.420359</td>\n      <td>{'was_impossible': False}</td>\n      <td>8</td>\n      <td>82704</td>\n      <td>0.000116</td>\n    </tr>\n  </tbody>\n</table>\n</div>"
          },
          "metadata": {}
        }
      ],
      "execution_count": 61,
      "metadata": {
        "gather": {
          "logged": 1642973490800
        }
      }
    },
    {
      "cell_type": "code",
      "source": [
        "rmse = accuracy.rmse(predictions)\n",
        "print(\"RMSE -->\",rmse)\n",
        "print(\"Accuracy -->\",1-rmse)"
      ],
      "outputs": [
        {
          "output_type": "stream",
          "name": "stdout",
          "text": "RMSE: 0.2684\nRMSE --> 0.2684379158098268\nAccuracy --> 0.7315620841901732\n"
        }
      ],
      "execution_count": 62,
      "metadata": {
        "jupyter": {
          "source_hidden": false,
          "outputs_hidden": false
        },
        "nteract": {
          "transient": {
            "deleting": false
          }
        },
        "gather": {
          "logged": 1642973490902
        }
      }
    },
    {
      "cell_type": "markdown",
      "source": [
        "### SlopeOne recommender"
      ],
      "metadata": {}
    },
    {
      "cell_type": "code",
      "source": [
        "# We'll use the SlopeOne algorithm.\n",
        "algo = SlopeOne()\n",
        "\n",
        "# Run 5-fold cross-validation and print results\n",
        "so_validate =cross_validate(algo, data_model_pca, measures=['RMSE', 'MAE'], cv=5, verbose=True)"
      ],
      "outputs": [
        {
          "output_type": "stream",
          "name": "stdout",
          "text": "Evaluating RMSE, MAE of algorithm SlopeOne on 5 split(s).\n\n                  Fold 1  Fold 2  Fold 3  Fold 4  Fold 5  Mean    Std     \nRMSE (testset)    0.2735  0.2774  0.2757  0.2762  0.2743  0.2754  0.0014  \nMAE (testset)     0.2147  0.2174  0.2164  0.2167  0.2152  0.2161  0.0010  \nFit time          0.22    0.26    0.26    0.26    0.27    0.25    0.02    \nTest time         0.36    0.36    0.59    0.36    0.36    0.41    0.09    \n"
        }
      ],
      "execution_count": 63,
      "metadata": {
        "gather": {
          "logged": 1642973495264
        }
      }
    },
    {
      "cell_type": "code",
      "source": [
        "# Train the algorithm on the trainset, and predict ratings for the testset\n",
        "algo.fit(trainset_pca)\n",
        "predictions = algo.test(testset_pca)"
      ],
      "outputs": [],
      "execution_count": 64,
      "metadata": {
        "gather": {
          "logged": 1642973496069
        }
      }
    },
    {
      "cell_type": "markdown",
      "source": [
        "Top N predictions"
      ],
      "metadata": {
        "nteract": {
          "transient": {
            "deleting": false
          }
        }
      }
    },
    {
      "cell_type": "code",
      "source": [
        "top_n, users_est, users_true, rec_for_user = top_n_pred(predictions)"
      ],
      "outputs": [],
      "execution_count": 65,
      "metadata": {
        "jupyter": {
          "source_hidden": false,
          "outputs_hidden": false
        },
        "nteract": {
          "transient": {
            "deleting": false
          }
        },
        "gather": {
          "logged": 1642973496322
        }
      }
    },
    {
      "cell_type": "markdown",
      "source": [
        "NDCG"
      ],
      "metadata": {
        "nteract": {
          "transient": {
            "deleting": false
          }
        }
      }
    },
    {
      "cell_type": "code",
      "source": [
        "ndcg_list, ndgc_rate = calc_ndcg(users_true,users_est)\n",
        "print(\"NDCG\", ndgc_rate)"
      ],
      "outputs": [
        {
          "output_type": "stream",
          "name": "stdout",
          "text": "NDCG 0.9782428381723328\n"
        }
      ],
      "execution_count": 66,
      "metadata": {
        "jupyter": {
          "source_hidden": false,
          "outputs_hidden": false
        },
        "nteract": {
          "transient": {
            "deleting": false
          }
        },
        "gather": {
          "logged": 1642973496556
        }
      }
    },
    {
      "cell_type": "code",
      "source": [
        "# dataframe with all the predictions\n",
        "df = pd.DataFrame(predictions, columns=['uid', 'iid', 'rui', 'est', 'details'])    \n",
        "df['Iu'] = df.uid.apply(get_Iu)\n",
        "df['Ui'] = df.iid.apply(get_Ui)\n",
        "df['err'] = abs(df.est - df.rui)"
      ],
      "outputs": [],
      "execution_count": 67,
      "metadata": {
        "gather": {
          "logged": 1642973496689
        }
      }
    },
    {
      "cell_type": "code",
      "source": [
        "# 10 Best predictions\n",
        "best_predictions = df.sort_values(by='err')[:10]\n",
        "best_predictions"
      ],
      "outputs": [
        {
          "output_type": "execute_result",
          "execution_count": 68,
          "data": {
            "text/plain": "                                    uid          iid       rui       est  \\\n10443  8ca12f83603aba4b643b86aec3980380   PEO_SILVER  0.641251  0.641251   \n21997  1c3d07c6b4a184ebad4abbb8e00a3394  PEO_UTHAYAM  0.254890  0.254890   \n1138   4d7b561e936f914bc1f5879010ec7a53   PEO_SILVER  0.089319  0.089319   \n22000  3073e59b3f16f6aa7380ed35513e2f4f   PEO_SILVER  0.281773  0.281773   \n1957   667a01c3950a35b6dfd42442c25e9027   PEO_SILVER  0.503270  0.503270   \n9725   84e898a0faf1fb8e9e4cef5bc09387a2   PEO_SILVER  0.392878  0.392878   \n2812   bcb38d0465911db6a0acdeadf5a0ecb1   PEO_SILVER  0.530796  0.530796   \n8501   bab8909dce7bf13964bf360c51fc87a8   PEO_SILVER  0.310065  0.310065   \n30314  0586454633d3828f36530d6e8c339e66   PEO_SILVER  0.696437  0.696437   \n3266   31db095dc413c41f3ac6f7a9403b6537   PEO_SILVER  1.000000  1.000000   \n\n                         details  Iu     Ui  err  \n10443  {'was_impossible': False}   2  82704  0.0  \n21997  {'was_impossible': False}   6  17695  0.0  \n1138   {'was_impossible': False}   2  82704  0.0  \n22000  {'was_impossible': False}   4  82704  0.0  \n1957   {'was_impossible': False}   8  82704  0.0  \n9725   {'was_impossible': False}   7  82704  0.0  \n2812   {'was_impossible': False}   2  82704  0.0  \n8501   {'was_impossible': False}   5  82704  0.0  \n30314  {'was_impossible': False}   5  82704  0.0  \n3266   {'was_impossible': False}   7  82704  0.0  ",
            "text/html": "<div>\n<style scoped>\n    .dataframe tbody tr th:only-of-type {\n        vertical-align: middle;\n    }\n\n    .dataframe tbody tr th {\n        vertical-align: top;\n    }\n\n    .dataframe thead th {\n        text-align: right;\n    }\n</style>\n<table border=\"1\" class=\"dataframe\">\n  <thead>\n    <tr style=\"text-align: right;\">\n      <th></th>\n      <th>uid</th>\n      <th>iid</th>\n      <th>rui</th>\n      <th>est</th>\n      <th>details</th>\n      <th>Iu</th>\n      <th>Ui</th>\n      <th>err</th>\n    </tr>\n  </thead>\n  <tbody>\n    <tr>\n      <th>10443</th>\n      <td>8ca12f83603aba4b643b86aec3980380</td>\n      <td>PEO_SILVER</td>\n      <td>0.641251</td>\n      <td>0.641251</td>\n      <td>{'was_impossible': False}</td>\n      <td>2</td>\n      <td>82704</td>\n      <td>0.0</td>\n    </tr>\n    <tr>\n      <th>21997</th>\n      <td>1c3d07c6b4a184ebad4abbb8e00a3394</td>\n      <td>PEO_UTHAYAM</td>\n      <td>0.254890</td>\n      <td>0.254890</td>\n      <td>{'was_impossible': False}</td>\n      <td>6</td>\n      <td>17695</td>\n      <td>0.0</td>\n    </tr>\n    <tr>\n      <th>1138</th>\n      <td>4d7b561e936f914bc1f5879010ec7a53</td>\n      <td>PEO_SILVER</td>\n      <td>0.089319</td>\n      <td>0.089319</td>\n      <td>{'was_impossible': False}</td>\n      <td>2</td>\n      <td>82704</td>\n      <td>0.0</td>\n    </tr>\n    <tr>\n      <th>22000</th>\n      <td>3073e59b3f16f6aa7380ed35513e2f4f</td>\n      <td>PEO_SILVER</td>\n      <td>0.281773</td>\n      <td>0.281773</td>\n      <td>{'was_impossible': False}</td>\n      <td>4</td>\n      <td>82704</td>\n      <td>0.0</td>\n    </tr>\n    <tr>\n      <th>1957</th>\n      <td>667a01c3950a35b6dfd42442c25e9027</td>\n      <td>PEO_SILVER</td>\n      <td>0.503270</td>\n      <td>0.503270</td>\n      <td>{'was_impossible': False}</td>\n      <td>8</td>\n      <td>82704</td>\n      <td>0.0</td>\n    </tr>\n    <tr>\n      <th>9725</th>\n      <td>84e898a0faf1fb8e9e4cef5bc09387a2</td>\n      <td>PEO_SILVER</td>\n      <td>0.392878</td>\n      <td>0.392878</td>\n      <td>{'was_impossible': False}</td>\n      <td>7</td>\n      <td>82704</td>\n      <td>0.0</td>\n    </tr>\n    <tr>\n      <th>2812</th>\n      <td>bcb38d0465911db6a0acdeadf5a0ecb1</td>\n      <td>PEO_SILVER</td>\n      <td>0.530796</td>\n      <td>0.530796</td>\n      <td>{'was_impossible': False}</td>\n      <td>2</td>\n      <td>82704</td>\n      <td>0.0</td>\n    </tr>\n    <tr>\n      <th>8501</th>\n      <td>bab8909dce7bf13964bf360c51fc87a8</td>\n      <td>PEO_SILVER</td>\n      <td>0.310065</td>\n      <td>0.310065</td>\n      <td>{'was_impossible': False}</td>\n      <td>5</td>\n      <td>82704</td>\n      <td>0.0</td>\n    </tr>\n    <tr>\n      <th>30314</th>\n      <td>0586454633d3828f36530d6e8c339e66</td>\n      <td>PEO_SILVER</td>\n      <td>0.696437</td>\n      <td>0.696437</td>\n      <td>{'was_impossible': False}</td>\n      <td>5</td>\n      <td>82704</td>\n      <td>0.0</td>\n    </tr>\n    <tr>\n      <th>3266</th>\n      <td>31db095dc413c41f3ac6f7a9403b6537</td>\n      <td>PEO_SILVER</td>\n      <td>1.000000</td>\n      <td>1.000000</td>\n      <td>{'was_impossible': False}</td>\n      <td>7</td>\n      <td>82704</td>\n      <td>0.0</td>\n    </tr>\n  </tbody>\n</table>\n</div>"
          },
          "metadata": {}
        }
      ],
      "execution_count": 68,
      "metadata": {
        "gather": {
          "logged": 1642973496840
        }
      }
    },
    {
      "cell_type": "code",
      "source": [
        "rmse = accuracy.rmse(predictions)\n",
        "print(\"RMSE -->\",rmse)\n",
        "print(\"Accuracy -->\",1-rmse)"
      ],
      "outputs": [
        {
          "output_type": "stream",
          "name": "stdout",
          "text": "RMSE: 0.2765\nRMSE --> 0.27647591269930744\nAccuracy --> 0.7235240873006925\n"
        }
      ],
      "execution_count": 69,
      "metadata": {
        "jupyter": {
          "source_hidden": false,
          "outputs_hidden": false
        },
        "nteract": {
          "transient": {
            "deleting": false
          }
        },
        "gather": {
          "logged": 1642973496994
        }
      }
    },
    {
      "cell_type": "markdown",
      "source": [
        "## Baseline Only"
      ],
      "metadata": {
        "nteract": {
          "transient": {
            "deleting": false
          }
        }
      }
    },
    {
      "cell_type": "code",
      "source": [
        "# We'll use the SlopeOne algorithm.\n",
        "algo = BaselineOnly()\n",
        "\n",
        "# Run 5-fold cross-validation and print results\n",
        "bo_validate =cross_validate(algo, data_model_pca, measures=['RMSE', 'MAE'], cv=5, verbose=True)"
      ],
      "outputs": [
        {
          "output_type": "stream",
          "name": "stdout",
          "text": "Estimating biases using als...\nEstimating biases using als...\nEstimating biases using als...\nEstimating biases using als...\nEstimating biases using als...\nEvaluating RMSE, MAE of algorithm BaselineOnly on 5 split(s).\n\n                  Fold 1  Fold 2  Fold 3  Fold 4  Fold 5  Mean    Std     \nRMSE (testset)    0.2731  0.2723  0.2736  0.2716  0.2748  0.2731  0.0011  \nMAE (testset)     0.2245  0.2244  0.2255  0.2234  0.2268  0.2249  0.0011  \nFit time          0.23    0.27    0.31    0.26    0.28    0.27    0.03    \nTest time         0.15    0.15    0.15    0.15    0.15    0.15    0.00    \n"
        }
      ],
      "execution_count": 70,
      "metadata": {
        "jupyter": {
          "source_hidden": false,
          "outputs_hidden": false
        },
        "nteract": {
          "transient": {
            "deleting": false
          }
        },
        "gather": {
          "logged": 1642973500347
        }
      }
    },
    {
      "cell_type": "code",
      "source": [
        "# Train the algorithm on the trainset, and predict ratings for the testset\n",
        "algo.fit(trainset_pca)\n",
        "predictions = algo.test(testset_pca)"
      ],
      "outputs": [
        {
          "output_type": "stream",
          "name": "stdout",
          "text": "Estimating biases using als...\n"
        }
      ],
      "execution_count": 71,
      "metadata": {
        "jupyter": {
          "source_hidden": false,
          "outputs_hidden": false
        },
        "nteract": {
          "transient": {
            "deleting": false
          }
        },
        "gather": {
          "logged": 1642973501061
        }
      }
    },
    {
      "cell_type": "markdown",
      "source": [
        "Top n recommendations"
      ],
      "metadata": {
        "nteract": {
          "transient": {
            "deleting": false
          }
        }
      }
    },
    {
      "cell_type": "code",
      "source": [
        "top_n, users_est, users_true, rec_for_user = top_n_pred(predictions)"
      ],
      "outputs": [],
      "execution_count": 72,
      "metadata": {
        "jupyter": {
          "source_hidden": false,
          "outputs_hidden": false
        },
        "nteract": {
          "transient": {
            "deleting": false
          }
        },
        "gather": {
          "logged": 1642973501259
        }
      }
    },
    {
      "cell_type": "markdown",
      "source": [
        "NDCG"
      ],
      "metadata": {
        "nteract": {
          "transient": {
            "deleting": false
          }
        }
      }
    },
    {
      "cell_type": "code",
      "source": [
        "ndcg_list, ndgc_rate = calc_ndcg(users_true,users_est)\n",
        "print(\"NDCG\", ndgc_rate)"
      ],
      "outputs": [
        {
          "output_type": "stream",
          "name": "stdout",
          "text": "NDCG 0.9782079158596628\n"
        }
      ],
      "execution_count": 73,
      "metadata": {
        "jupyter": {
          "source_hidden": false,
          "outputs_hidden": false
        },
        "nteract": {
          "transient": {
            "deleting": false
          }
        },
        "gather": {
          "logged": 1642973501540
        }
      }
    },
    {
      "cell_type": "code",
      "source": [
        "# dataframe with all the predictions\n",
        "df = pd.DataFrame(predictions, columns=['uid', 'iid', 'rui', 'est', 'details'])    \n",
        "df['Iu'] = df.uid.apply(get_Iu)\n",
        "df['Ui'] = df.iid.apply(get_Ui)\n",
        "df['err'] = abs(df.est - df.rui)"
      ],
      "outputs": [],
      "execution_count": 74,
      "metadata": {
        "jupyter": {
          "source_hidden": false,
          "outputs_hidden": false
        },
        "nteract": {
          "transient": {
            "deleting": false
          }
        },
        "gather": {
          "logged": 1642973501675
        }
      }
    },
    {
      "cell_type": "code",
      "source": [
        "# 10 Best predictions\n",
        "best_predictions = df.sort_values(by='err')[:10]\n",
        "best_predictions"
      ],
      "outputs": [
        {
          "output_type": "execute_result",
          "execution_count": 75,
          "data": {
            "text/plain": "                                    uid                        iid       rui  \\\n21341  8490cf9577ca80cb03e41dd15c76c664                 PEO_SILVER  0.448069   \n4437   c65c1000b76a924f317dae1bd3739716                 PEO_SILVER  0.475674   \n31181  4a4ea87093a1b6ce3211a9b5f8722cf9                 PEO_SILVER  0.420482   \n30959  592e5b04dd97608bd0f975692f9ba238                 PEO_SILVER  0.475674   \n27227  b78c50e6c9216675564250b064469786      NEW_SLT_STAFF_PACKAGE  0.448078   \n2144   da8a4318b695f6db6aeb6c02f5dd05be          PEO_TITANIUM_FTTH  0.503270   \n4293   529322eedd7b149b9e4cb0627aadac83  PEO_VIRUSARA_VARAPPRASADA  0.530866   \n25152  8ed91f3fc887385bf078341056ec57a0                 PEO_SILVER  0.448078   \n12375  58cc6c489bca716e1306210359a94ab2          PEO_TITANIUM_FTTH  0.448053   \n8331   65637a5d43dde851b4da75129d598a85                 PEO_SILVER  0.413907   \n\n            est                    details  Iu     Ui       err  \n21341  0.448072  {'was_impossible': False}   9  82704  0.000002  \n4437   0.475669  {'was_impossible': False}   8  82704  0.000005  \n31181  0.420465  {'was_impossible': False}   8  82704  0.000017  \n30959  0.475653  {'was_impossible': False}   7  82704  0.000021  \n27227  0.448116  {'was_impossible': False}   6    758  0.000038  \n2144   0.503210  {'was_impossible': False}   7   1421  0.000061  \n4293   0.530937  {'was_impossible': False}   4    116  0.000071  \n25152  0.447984  {'was_impossible': False}   6  82704  0.000094  \n12375  0.447945  {'was_impossible': False}   6   1421  0.000109  \n8331   0.413796  {'was_impossible': False}   9  82704  0.000111  ",
            "text/html": "<div>\n<style scoped>\n    .dataframe tbody tr th:only-of-type {\n        vertical-align: middle;\n    }\n\n    .dataframe tbody tr th {\n        vertical-align: top;\n    }\n\n    .dataframe thead th {\n        text-align: right;\n    }\n</style>\n<table border=\"1\" class=\"dataframe\">\n  <thead>\n    <tr style=\"text-align: right;\">\n      <th></th>\n      <th>uid</th>\n      <th>iid</th>\n      <th>rui</th>\n      <th>est</th>\n      <th>details</th>\n      <th>Iu</th>\n      <th>Ui</th>\n      <th>err</th>\n    </tr>\n  </thead>\n  <tbody>\n    <tr>\n      <th>21341</th>\n      <td>8490cf9577ca80cb03e41dd15c76c664</td>\n      <td>PEO_SILVER</td>\n      <td>0.448069</td>\n      <td>0.448072</td>\n      <td>{'was_impossible': False}</td>\n      <td>9</td>\n      <td>82704</td>\n      <td>0.000002</td>\n    </tr>\n    <tr>\n      <th>4437</th>\n      <td>c65c1000b76a924f317dae1bd3739716</td>\n      <td>PEO_SILVER</td>\n      <td>0.475674</td>\n      <td>0.475669</td>\n      <td>{'was_impossible': False}</td>\n      <td>8</td>\n      <td>82704</td>\n      <td>0.000005</td>\n    </tr>\n    <tr>\n      <th>31181</th>\n      <td>4a4ea87093a1b6ce3211a9b5f8722cf9</td>\n      <td>PEO_SILVER</td>\n      <td>0.420482</td>\n      <td>0.420465</td>\n      <td>{'was_impossible': False}</td>\n      <td>8</td>\n      <td>82704</td>\n      <td>0.000017</td>\n    </tr>\n    <tr>\n      <th>30959</th>\n      <td>592e5b04dd97608bd0f975692f9ba238</td>\n      <td>PEO_SILVER</td>\n      <td>0.475674</td>\n      <td>0.475653</td>\n      <td>{'was_impossible': False}</td>\n      <td>7</td>\n      <td>82704</td>\n      <td>0.000021</td>\n    </tr>\n    <tr>\n      <th>27227</th>\n      <td>b78c50e6c9216675564250b064469786</td>\n      <td>NEW_SLT_STAFF_PACKAGE</td>\n      <td>0.448078</td>\n      <td>0.448116</td>\n      <td>{'was_impossible': False}</td>\n      <td>6</td>\n      <td>758</td>\n      <td>0.000038</td>\n    </tr>\n    <tr>\n      <th>2144</th>\n      <td>da8a4318b695f6db6aeb6c02f5dd05be</td>\n      <td>PEO_TITANIUM_FTTH</td>\n      <td>0.503270</td>\n      <td>0.503210</td>\n      <td>{'was_impossible': False}</td>\n      <td>7</td>\n      <td>1421</td>\n      <td>0.000061</td>\n    </tr>\n    <tr>\n      <th>4293</th>\n      <td>529322eedd7b149b9e4cb0627aadac83</td>\n      <td>PEO_VIRUSARA_VARAPPRASADA</td>\n      <td>0.530866</td>\n      <td>0.530937</td>\n      <td>{'was_impossible': False}</td>\n      <td>4</td>\n      <td>116</td>\n      <td>0.000071</td>\n    </tr>\n    <tr>\n      <th>25152</th>\n      <td>8ed91f3fc887385bf078341056ec57a0</td>\n      <td>PEO_SILVER</td>\n      <td>0.448078</td>\n      <td>0.447984</td>\n      <td>{'was_impossible': False}</td>\n      <td>6</td>\n      <td>82704</td>\n      <td>0.000094</td>\n    </tr>\n    <tr>\n      <th>12375</th>\n      <td>58cc6c489bca716e1306210359a94ab2</td>\n      <td>PEO_TITANIUM_FTTH</td>\n      <td>0.448053</td>\n      <td>0.447945</td>\n      <td>{'was_impossible': False}</td>\n      <td>6</td>\n      <td>1421</td>\n      <td>0.000109</td>\n    </tr>\n    <tr>\n      <th>8331</th>\n      <td>65637a5d43dde851b4da75129d598a85</td>\n      <td>PEO_SILVER</td>\n      <td>0.413907</td>\n      <td>0.413796</td>\n      <td>{'was_impossible': False}</td>\n      <td>9</td>\n      <td>82704</td>\n      <td>0.000111</td>\n    </tr>\n  </tbody>\n</table>\n</div>"
          },
          "metadata": {}
        }
      ],
      "execution_count": 75,
      "metadata": {
        "jupyter": {
          "source_hidden": false,
          "outputs_hidden": false
        },
        "nteract": {
          "transient": {
            "deleting": false
          }
        },
        "gather": {
          "logged": 1642973501832
        }
      }
    },
    {
      "cell_type": "code",
      "source": [
        "rmse = accuracy.rmse(predictions)\n",
        "print(\"RMSE -->\",rmse)\n",
        "print(\"Accuracy -->\",1-rmse)"
      ],
      "outputs": [
        {
          "output_type": "stream",
          "name": "stdout",
          "text": "RMSE: 0.2723\nRMSE --> 0.2722590170335135\nAccuracy --> 0.7277409829664865\n"
        }
      ],
      "execution_count": 76,
      "metadata": {
        "jupyter": {
          "source_hidden": false,
          "outputs_hidden": false
        },
        "nteract": {
          "transient": {
            "deleting": false
          }
        },
        "gather": {
          "logged": 1642973501978
        }
      }
    },
    {
      "cell_type": "markdown",
      "source": [
        "### Benchmark algorithms"
      ],
      "metadata": {}
    },
    {
      "cell_type": "code",
      "source": [
        "benchmark = []\n",
        "# Iterate over all algorithms\n",
        "for algorithm in [SVD(), SlopeOne(), BaselineOnly(), CoClustering()]:\n",
        "    # Perform cross validation\n",
        "    results = cross_validate(algorithm, data_model_pca, measures=['RMSE'], cv=5, verbose=False)\n",
        "    \n",
        "    # Get results & append algorithm name\n",
        "    tmp = pd.DataFrame.from_dict(results).mean(axis=0)\n",
        "    tmp = tmp.append(pd.Series([str(algorithm).split(' ')[0].split('.')[-1]], index=['Algorithm']))\n",
        "    benchmark.append(tmp)\n",
        "    \n",
        "val_df = pd.DataFrame(benchmark).set_index('Algorithm').sort_values('test_rmse')\n",
        "val_df"
      ],
      "outputs": [
        {
          "output_type": "stream",
          "name": "stdout",
          "text": "Estimating biases using als...\nEstimating biases using als...\nEstimating biases using als...\nEstimating biases using als...\nEstimating biases using als...\n"
        },
        {
          "output_type": "execute_result",
          "execution_count": 77,
          "data": {
            "text/plain": "              test_rmse  fit_time  test_time\nAlgorithm                                   \nSVD            0.269339  6.661865   0.265758\nBaselineOnly   0.273100  0.266553   0.198806\nSlopeOne       0.275446  0.269721   0.432849\nCoClustering   0.447929  3.706522   0.223266",
            "text/html": "<div>\n<style scoped>\n    .dataframe tbody tr th:only-of-type {\n        vertical-align: middle;\n    }\n\n    .dataframe tbody tr th {\n        vertical-align: top;\n    }\n\n    .dataframe thead th {\n        text-align: right;\n    }\n</style>\n<table border=\"1\" class=\"dataframe\">\n  <thead>\n    <tr style=\"text-align: right;\">\n      <th></th>\n      <th>test_rmse</th>\n      <th>fit_time</th>\n      <th>test_time</th>\n    </tr>\n    <tr>\n      <th>Algorithm</th>\n      <th></th>\n      <th></th>\n      <th></th>\n    </tr>\n  </thead>\n  <tbody>\n    <tr>\n      <th>SVD</th>\n      <td>0.269339</td>\n      <td>6.661865</td>\n      <td>0.265758</td>\n    </tr>\n    <tr>\n      <th>BaselineOnly</th>\n      <td>0.273100</td>\n      <td>0.266553</td>\n      <td>0.198806</td>\n    </tr>\n    <tr>\n      <th>SlopeOne</th>\n      <td>0.275446</td>\n      <td>0.269721</td>\n      <td>0.432849</td>\n    </tr>\n    <tr>\n      <th>CoClustering</th>\n      <td>0.447929</td>\n      <td>3.706522</td>\n      <td>0.223266</td>\n    </tr>\n  </tbody>\n</table>\n</div>"
          },
          "metadata": {}
        }
      ],
      "execution_count": 77,
      "metadata": {
        "gather": {
          "logged": 1642973567450
        }
      }
    },
    {
      "cell_type": "markdown",
      "source": [
        "## CF Recommenders Accuracy Plots"
      ],
      "metadata": {}
    },
    {
      "cell_type": "code",
      "source": [
        "fig,ax = plt.subplots(figsize=(8,6))\n",
        "ax.plot(so_validate[\"test_rmse\"], color='blue')\n",
        "ax.plot(svd_validate[\"test_rmse\"], color='green')\n",
        "ax.plot(bo_validate[\"test_rmse\"], color='orange')\n",
        "ax.plot([0.340,0.340,0.335,0.334,0.311],linewidth=3, color='red')\n",
        "ax.plot(so_validate[\"test_mae\"], linestyle='dashdot', color='blue')\n",
        "ax.plot(svd_validate[\"test_mae\"], linestyle='dashdot', color='green')\n",
        "ax.plot(bo_validate[\"test_mae\"], linestyle='dashdot', color='orange')\n",
        "ax.plot([0.299,0.287,0.284,0.282,0.276],linewidth=4, linestyle='dashdot', color='red')\n",
        "# plt.xticks(np.arange(0, 30, 0.5))\n",
        "plt.title(\"CableTV Packages Recommender\", loc=\"center\")\n",
        "plt.legend([\"RMSE: SlopeOne\",\"RMSE: SVD\",\"RMSE: BaselineOnly\",\"RMSE: Wide Model\",\n",
        "           \"MAE: SlopeOne\",\"MAE: SVD\",\"MAE: BaselineOnly\",\"MAE: Wide Model\"])"
      ],
      "outputs": [
        {
          "output_type": "execute_result",
          "execution_count": 78,
          "data": {
            "text/plain": "<matplotlib.legend.Legend at 0x7f48279f2438>"
          },
          "metadata": {}
        },
        {
          "output_type": "display_data",
          "data": {
            "text/plain": "<Figure size 576x432 with 1 Axes>",
            "image/png": "[encoded data removed]"
          },
          "metadata": {
            "needs_background": "light"
          }
        }
      ],
      "execution_count": 78,
      "metadata": {
        "gather": {
          "logged": 1642973567970
        }
      }
    },
    {
      "cell_type": "code",
      "source": [
        "fig,ax = plt.subplots(figsize=(13,7))\n",
        "ax.plot(so_validate[\"test_mae\"], linestyle='dashdot', color='blue')\n",
        "ax.plot(svd_validate[\"test_mae\"], linestyle='dashdot', color='green')\n",
        "ax.plot(bo_validate[\"test_mae\"], linestyle='dashdot', color='green')\n",
        "ax.plot([0.299,0.287,0.284,0.282,0.276],linewidth=4, linestyle='dashdot', color='red')\n",
        "# plt.xticks(np.arange(0, 4, 0.2))\n",
        "plt.title(\"Test MAE: CableTV Packages Recommender\", loc=\"center\")\n",
        "plt.legend([\"MAE: SlopeOne\",\"MAE: SVD\",\"MAE: BaselineOnly\",\"MAE: Wide Model\"])"
      ],
      "outputs": [
        {
          "output_type": "execute_result",
          "execution_count": 79,
          "data": {
            "text/plain": "<matplotlib.legend.Legend at 0x7f4827adadd8>"
          },
          "metadata": {}
        },
        {
          "output_type": "display_data",
          "data": {
            "text/plain": "<Figure size 936x504 with 1 Axes>",
            "image/png": "[encoded data removed]"
          },
          "metadata": {
            "needs_background": "light"
          }
        }
      ],
      "execution_count": 79,
      "metadata": {
        "gather": {
          "logged": 1642973568125
        }
      }
    },
    {
      "cell_type": "markdown",
      "source": [
        "# Ensamble Recommender Model"
      ],
      "metadata": {
        "nteract": {
          "transient": {
            "deleting": false
          }
        }
      }
    },
    {
      "cell_type": "code",
      "source": [],
      "outputs": [],
      "execution_count": null,
      "metadata": {}
    }
  ],
  "metadata": {
    "kernelspec": {
      "name": "python3",
      "language": "python",
      "display_name": "Python 3"
    },
    "language_info": {
      "name": "python",
      "version": "3.6.9",
      "mimetype": "text/x-python",
      "codemirror_mode": {
        "name": "ipython",
        "version": 3
      },
      "pygments_lexer": "ipython3",
      "nbconvert_exporter": "python",
      "file_extension": ".py"
    },
    "kernel_info": {
      "name": "python3"
    },
    "nteract": {
      "version": "nteract-front-end@1.0.0"
    },
    "microsoft": {
      "host": {
        "AzureML": {
          "notebookHasBeenCompleted": true
        }
      }
    }
  },
  "nbformat": 4,
  "nbformat_minor": 4
}