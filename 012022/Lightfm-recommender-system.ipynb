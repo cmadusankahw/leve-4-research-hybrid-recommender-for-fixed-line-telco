{
  "cells": [
    {
      "cell_type": "code",
      "source": [
        "import pandas as pd\n",
        "import os\n",
        "from scipy.sparse import csr_matrix\n",
        "import numpy as np\n",
        "import matplotlib.pyplot as plt\n",
        "from matplotlib.gridspec import GridSpec\n",
        "import seaborn as sns\n",
        "from lightfm.cross_validation import random_train_test_split\n",
        "from lightfm.evaluation import auc_score, precision_at_k, recall_at_k\n",
        "from lightfm import LightFM\n",
        "from skopt import forest_minimize"
      ],
      "outputs": [],
      "execution_count": 1,
      "metadata": {}
    },
    {
      "cell_type": "code",
      "source": [
        "interaction_df = pd.read_csv(\"data/azure/peoTV_user_ratings.csv\")"
      ],
      "outputs": [],
      "execution_count": 2,
      "metadata": {}
    },
    {
      "cell_type": "code",
      "source": [
        "interaction_df.drop(\"Unnamed: 0\",axis=1, inplace=True)"
      ],
      "outputs": [],
      "execution_count": 3,
      "metadata": {}
    },
    {
      "cell_type": "code",
      "source": [
        "interaction_df.info()"
      ],
      "outputs": [
        {
          "output_type": "stream",
          "name": "stdout",
          "text": "<class 'pandas.core.frame.DataFrame'>\nRangeIndex: 1142 entries, 0 to 1141\nData columns (total 3 columns):\n #   Column            Non-Null Count  Dtype  \n---  ------            --------------  -----  \n 0   ACCOUNT_NUM.hash  1142 non-null   object \n 1   package           1142 non-null   object \n 2   ratings           1142 non-null   float64\ndtypes: float64(1), object(2)\nmemory usage: 26.9+ KB\n"
        }
      ],
      "execution_count": 4,
      "metadata": {}
    },
    {
      "cell_type": "markdown",
      "source": [
        "#### Interaction Matrix"
      ],
      "metadata": {}
    },
    {
      "cell_type": "code",
      "source": [
        "interaction_matrix = pd.pivot_table(interaction_df, index='ACCOUNT_NUM.hash', columns='package', values='ratings')\n",
        "\n",
        "# fill missing values with 0\n",
        "interaction_matrix = interaction_matrix.fillna(0)\n"
      ],
      "outputs": [],
      "execution_count": 5,
      "metadata": {}
    },
    {
      "cell_type": "code",
      "source": [
        "interaction_matrix"
      ],
      "outputs": [
        {
          "output_type": "execute_result",
          "execution_count": 6,
          "data": {
            "text/html": "<div>\n<style scoped>\n    .dataframe tbody tr th:only-of-type {\n        vertical-align: middle;\n    }\n\n    .dataframe tbody tr th {\n        vertical-align: top;\n    }\n\n    .dataframe thead th {\n        text-align: right;\n    }\n</style>\n<table border=\"1\" class=\"dataframe\">\n  <thead>\n    <tr style=\"text-align: right;\">\n      <th>package</th>\n      <th>DOUBLEPROMO</th>\n      <th>LOTUS</th>\n      <th>NEW_SLT_STAFF_PACKAGE</th>\n      <th>NEW_YEAR_TREAT</th>\n      <th>PEO_ENTERTAINMENT</th>\n      <th>PEO_FAMILY</th>\n      <th>PEO_GOLD</th>\n      <th>PEO_PLATINUM</th>\n      <th>PEO_RELIGIOUS_PACKAGE</th>\n      <th>PEO_SILVER</th>\n      <th>PEO_SILVER_FTTH</th>\n      <th>PEO_SILVER_PLUS</th>\n      <th>PEO_TITANIUM</th>\n      <th>PEO_UNNATHAM</th>\n      <th>PEO_UTHAYAM</th>\n      <th>PRANAMA</th>\n      <th>SLTStaff_PEO_SILVER</th>\n      <th>SLT_STAFF_PEO_UNNATHAM_FTTH</th>\n      <th>SLT_STAFF_TRIPLE_PLAY</th>\n    </tr>\n    <tr>\n      <th>ACCOUNT_NUM.hash</th>\n      <th></th>\n      <th></th>\n      <th></th>\n      <th></th>\n      <th></th>\n      <th></th>\n      <th></th>\n      <th></th>\n      <th></th>\n      <th></th>\n      <th></th>\n      <th></th>\n      <th></th>\n      <th></th>\n      <th></th>\n      <th></th>\n      <th></th>\n      <th></th>\n      <th></th>\n    </tr>\n  </thead>\n  <tbody>\n    <tr>\n      <th>0009e7e4d940c2a539b89342af07e7f1</th>\n      <td>0.0</td>\n      <td>0.0</td>\n      <td>0.0000</td>\n      <td>0.0</td>\n      <td>0.0</td>\n      <td>0.0</td>\n      <td>0.0</td>\n      <td>0.0</td>\n      <td>0.0</td>\n      <td>0.21875</td>\n      <td>0.0</td>\n      <td>0.00</td>\n      <td>0.0</td>\n      <td>0.0</td>\n      <td>0.00000</td>\n      <td>0.0</td>\n      <td>0.0</td>\n      <td>0.0</td>\n      <td>0.0</td>\n    </tr>\n    <tr>\n      <th>00126426420cdb4b1fe951ce5bb3c05a</th>\n      <td>0.0</td>\n      <td>0.0</td>\n      <td>0.0000</td>\n      <td>0.0</td>\n      <td>0.0</td>\n      <td>0.0</td>\n      <td>0.0</td>\n      <td>0.0</td>\n      <td>0.0</td>\n      <td>0.73750</td>\n      <td>0.0</td>\n      <td>0.00</td>\n      <td>0.0</td>\n      <td>0.0</td>\n      <td>0.00000</td>\n      <td>0.0</td>\n      <td>0.0</td>\n      <td>0.0</td>\n      <td>0.0</td>\n    </tr>\n    <tr>\n      <th>006ff446f4e8c78e943f8ea7ee9f7388</th>\n      <td>0.0</td>\n      <td>0.0</td>\n      <td>0.0000</td>\n      <td>0.0</td>\n      <td>0.0</td>\n      <td>0.0</td>\n      <td>0.0</td>\n      <td>0.0</td>\n      <td>0.0</td>\n      <td>0.71250</td>\n      <td>0.0</td>\n      <td>0.00</td>\n      <td>0.0</td>\n      <td>0.0</td>\n      <td>0.00000</td>\n      <td>0.0</td>\n      <td>0.0</td>\n      <td>0.0</td>\n      <td>0.0</td>\n    </tr>\n    <tr>\n      <th>008bca99f0cccb5d07d4f03744709cf8</th>\n      <td>0.0</td>\n      <td>0.0</td>\n      <td>0.0000</td>\n      <td>0.0</td>\n      <td>0.0</td>\n      <td>0.0</td>\n      <td>0.0</td>\n      <td>0.0</td>\n      <td>0.0</td>\n      <td>0.23125</td>\n      <td>0.0</td>\n      <td>0.00</td>\n      <td>0.0</td>\n      <td>0.0</td>\n      <td>0.00000</td>\n      <td>0.0</td>\n      <td>0.0</td>\n      <td>0.0</td>\n      <td>0.0</td>\n    </tr>\n    <tr>\n      <th>009ef2d25878cecee8d2c8115d26f4ab</th>\n      <td>0.0</td>\n      <td>0.0</td>\n      <td>0.0000</td>\n      <td>0.0</td>\n      <td>0.0</td>\n      <td>0.0</td>\n      <td>0.0</td>\n      <td>0.0</td>\n      <td>0.0</td>\n      <td>0.00000</td>\n      <td>0.0</td>\n      <td>0.00</td>\n      <td>0.0</td>\n      <td>0.0</td>\n      <td>0.89375</td>\n      <td>0.0</td>\n      <td>0.0</td>\n      <td>0.0</td>\n      <td>0.0</td>\n    </tr>\n    <tr>\n      <th>...</th>\n      <td>...</td>\n      <td>...</td>\n      <td>...</td>\n      <td>...</td>\n      <td>...</td>\n      <td>...</td>\n      <td>...</td>\n      <td>...</td>\n      <td>...</td>\n      <td>...</td>\n      <td>...</td>\n      <td>...</td>\n      <td>...</td>\n      <td>...</td>\n      <td>...</td>\n      <td>...</td>\n      <td>...</td>\n      <td>...</td>\n      <td>...</td>\n    </tr>\n    <tr>\n      <th>ff6a9ebde4f19c42c852aa679c877b41</th>\n      <td>0.0</td>\n      <td>0.0</td>\n      <td>0.5625</td>\n      <td>0.0</td>\n      <td>0.0</td>\n      <td>0.0</td>\n      <td>0.0</td>\n      <td>0.0</td>\n      <td>0.0</td>\n      <td>0.00000</td>\n      <td>0.0</td>\n      <td>0.00</td>\n      <td>0.0</td>\n      <td>0.0</td>\n      <td>0.00000</td>\n      <td>0.0</td>\n      <td>0.0</td>\n      <td>0.0</td>\n      <td>0.0</td>\n    </tr>\n    <tr>\n      <th>ff98ca51d1c83549f22f957b7de68815</th>\n      <td>0.0</td>\n      <td>0.0</td>\n      <td>0.0000</td>\n      <td>0.0</td>\n      <td>0.0</td>\n      <td>0.0</td>\n      <td>0.0</td>\n      <td>0.0</td>\n      <td>0.0</td>\n      <td>0.00000</td>\n      <td>0.0</td>\n      <td>0.00</td>\n      <td>0.0</td>\n      <td>0.0</td>\n      <td>0.38750</td>\n      <td>0.0</td>\n      <td>0.0</td>\n      <td>0.0</td>\n      <td>0.0</td>\n    </tr>\n    <tr>\n      <th>ffaa8955dcd8a0af7d148c10fd447fcc</th>\n      <td>0.0</td>\n      <td>0.0</td>\n      <td>0.0000</td>\n      <td>0.0</td>\n      <td>0.0</td>\n      <td>0.0</td>\n      <td>0.0</td>\n      <td>0.0</td>\n      <td>0.0</td>\n      <td>0.00000</td>\n      <td>0.0</td>\n      <td>0.00</td>\n      <td>0.0</td>\n      <td>0.0</td>\n      <td>0.00000</td>\n      <td>0.0</td>\n      <td>0.0</td>\n      <td>0.0</td>\n      <td>0.0</td>\n    </tr>\n    <tr>\n      <th>ffaaa3f5d45ce8c8553efbcfa7e6ce00</th>\n      <td>0.0</td>\n      <td>0.0</td>\n      <td>0.0000</td>\n      <td>0.0</td>\n      <td>0.0</td>\n      <td>0.0</td>\n      <td>0.0</td>\n      <td>0.0</td>\n      <td>0.0</td>\n      <td>0.00000</td>\n      <td>0.0</td>\n      <td>0.95</td>\n      <td>0.0</td>\n      <td>0.0</td>\n      <td>0.00000</td>\n      <td>0.0</td>\n      <td>0.0</td>\n      <td>0.0</td>\n      <td>0.0</td>\n    </tr>\n    <tr>\n      <th>ffd820977e139cbabf31dbeb5dcc1b23</th>\n      <td>0.0</td>\n      <td>0.0</td>\n      <td>0.0000</td>\n      <td>0.0</td>\n      <td>0.0</td>\n      <td>0.0</td>\n      <td>0.0</td>\n      <td>0.0</td>\n      <td>0.0</td>\n      <td>0.00000</td>\n      <td>0.0</td>\n      <td>0.00</td>\n      <td>0.0</td>\n      <td>0.0</td>\n      <td>0.00000</td>\n      <td>0.0</td>\n      <td>0.0</td>\n      <td>0.0</td>\n      <td>0.0</td>\n    </tr>\n  </tbody>\n</table>\n<p>1142 rows × 19 columns</p>\n</div>",
            "text/plain": "package                           DOUBLEPROMO  LOTUS  NEW_SLT_STAFF_PACKAGE  \\\nACCOUNT_NUM.hash                                                              \n0009e7e4d940c2a539b89342af07e7f1          0.0    0.0                 0.0000   \n00126426420cdb4b1fe951ce5bb3c05a          0.0    0.0                 0.0000   \n006ff446f4e8c78e943f8ea7ee9f7388          0.0    0.0                 0.0000   \n008bca99f0cccb5d07d4f03744709cf8          0.0    0.0                 0.0000   \n009ef2d25878cecee8d2c8115d26f4ab          0.0    0.0                 0.0000   \n...                                       ...    ...                    ...   \nff6a9ebde4f19c42c852aa679c877b41          0.0    0.0                 0.5625   \nff98ca51d1c83549f22f957b7de68815          0.0    0.0                 0.0000   \nffaa8955dcd8a0af7d148c10fd447fcc          0.0    0.0                 0.0000   \nffaaa3f5d45ce8c8553efbcfa7e6ce00          0.0    0.0                 0.0000   \nffd820977e139cbabf31dbeb5dcc1b23          0.0    0.0                 0.0000   \n\npackage                           NEW_YEAR_TREAT  PEO_ENTERTAINMENT  \\\nACCOUNT_NUM.hash                                                      \n0009e7e4d940c2a539b89342af07e7f1             0.0                0.0   \n00126426420cdb4b1fe951ce5bb3c05a             0.0                0.0   \n006ff446f4e8c78e943f8ea7ee9f7388             0.0                0.0   \n008bca99f0cccb5d07d4f03744709cf8             0.0                0.0   \n009ef2d25878cecee8d2c8115d26f4ab             0.0                0.0   \n...                                          ...                ...   \nff6a9ebde4f19c42c852aa679c877b41             0.0                0.0   \nff98ca51d1c83549f22f957b7de68815             0.0                0.0   \nffaa8955dcd8a0af7d148c10fd447fcc             0.0                0.0   \nffaaa3f5d45ce8c8553efbcfa7e6ce00             0.0                0.0   \nffd820977e139cbabf31dbeb5dcc1b23             0.0                0.0   \n\npackage                           PEO_FAMILY  PEO_GOLD  PEO_PLATINUM  \\\nACCOUNT_NUM.hash                                                       \n0009e7e4d940c2a539b89342af07e7f1         0.0       0.0           0.0   \n00126426420cdb4b1fe951ce5bb3c05a         0.0       0.0           0.0   \n006ff446f4e8c78e943f8ea7ee9f7388         0.0       0.0           0.0   \n008bca99f0cccb5d07d4f03744709cf8         0.0       0.0           0.0   \n009ef2d25878cecee8d2c8115d26f4ab         0.0       0.0           0.0   \n...                                      ...       ...           ...   \nff6a9ebde4f19c42c852aa679c877b41         0.0       0.0           0.0   \nff98ca51d1c83549f22f957b7de68815         0.0       0.0           0.0   \nffaa8955dcd8a0af7d148c10fd447fcc         0.0       0.0           0.0   \nffaaa3f5d45ce8c8553efbcfa7e6ce00         0.0       0.0           0.0   \nffd820977e139cbabf31dbeb5dcc1b23         0.0       0.0           0.0   \n\npackage                           PEO_RELIGIOUS_PACKAGE  PEO_SILVER  \\\nACCOUNT_NUM.hash                                                      \n0009e7e4d940c2a539b89342af07e7f1                    0.0     0.21875   \n00126426420cdb4b1fe951ce5bb3c05a                    0.0     0.73750   \n006ff446f4e8c78e943f8ea7ee9f7388                    0.0     0.71250   \n008bca99f0cccb5d07d4f03744709cf8                    0.0     0.23125   \n009ef2d25878cecee8d2c8115d26f4ab                    0.0     0.00000   \n...                                                 ...         ...   \nff6a9ebde4f19c42c852aa679c877b41                    0.0     0.00000   \nff98ca51d1c83549f22f957b7de68815                    0.0     0.00000   \nffaa8955dcd8a0af7d148c10fd447fcc                    0.0     0.00000   \nffaaa3f5d45ce8c8553efbcfa7e6ce00                    0.0     0.00000   \nffd820977e139cbabf31dbeb5dcc1b23                    0.0     0.00000   \n\npackage                           PEO_SILVER_FTTH  PEO_SILVER_PLUS  \\\nACCOUNT_NUM.hash                                                     \n0009e7e4d940c2a539b89342af07e7f1              0.0             0.00   \n00126426420cdb4b1fe951ce5bb3c05a              0.0             0.00   \n006ff446f4e8c78e943f8ea7ee9f7388              0.0             0.00   \n008bca99f0cccb5d07d4f03744709cf8              0.0             0.00   \n009ef2d25878cecee8d2c8115d26f4ab              0.0             0.00   \n...                                           ...              ...   \nff6a9ebde4f19c42c852aa679c877b41              0.0             0.00   \nff98ca51d1c83549f22f957b7de68815              0.0             0.00   \nffaa8955dcd8a0af7d148c10fd447fcc              0.0             0.00   \nffaaa3f5d45ce8c8553efbcfa7e6ce00              0.0             0.95   \nffd820977e139cbabf31dbeb5dcc1b23              0.0             0.00   \n\npackage                           PEO_TITANIUM  PEO_UNNATHAM  PEO_UTHAYAM  \\\nACCOUNT_NUM.hash                                                            \n0009e7e4d940c2a539b89342af07e7f1           0.0           0.0      0.00000   \n00126426420cdb4b1fe951ce5bb3c05a           0.0           0.0      0.00000   \n006ff446f4e8c78e943f8ea7ee9f7388           0.0           0.0      0.00000   \n008bca99f0cccb5d07d4f03744709cf8           0.0           0.0      0.00000   \n009ef2d25878cecee8d2c8115d26f4ab           0.0           0.0      0.89375   \n...                                        ...           ...          ...   \nff6a9ebde4f19c42c852aa679c877b41           0.0           0.0      0.00000   \nff98ca51d1c83549f22f957b7de68815           0.0           0.0      0.38750   \nffaa8955dcd8a0af7d148c10fd447fcc           0.0           0.0      0.00000   \nffaaa3f5d45ce8c8553efbcfa7e6ce00           0.0           0.0      0.00000   \nffd820977e139cbabf31dbeb5dcc1b23           0.0           0.0      0.00000   \n\npackage                           PRANAMA  SLTStaff_PEO_SILVER  \\\nACCOUNT_NUM.hash                                                 \n0009e7e4d940c2a539b89342af07e7f1      0.0                  0.0   \n00126426420cdb4b1fe951ce5bb3c05a      0.0                  0.0   \n006ff446f4e8c78e943f8ea7ee9f7388      0.0                  0.0   \n008bca99f0cccb5d07d4f03744709cf8      0.0                  0.0   \n009ef2d25878cecee8d2c8115d26f4ab      0.0                  0.0   \n...                                   ...                  ...   \nff6a9ebde4f19c42c852aa679c877b41      0.0                  0.0   \nff98ca51d1c83549f22f957b7de68815      0.0                  0.0   \nffaa8955dcd8a0af7d148c10fd447fcc      0.0                  0.0   \nffaaa3f5d45ce8c8553efbcfa7e6ce00      0.0                  0.0   \nffd820977e139cbabf31dbeb5dcc1b23      0.0                  0.0   \n\npackage                           SLT_STAFF_PEO_UNNATHAM_FTTH  \\\nACCOUNT_NUM.hash                                                \n0009e7e4d940c2a539b89342af07e7f1                          0.0   \n00126426420cdb4b1fe951ce5bb3c05a                          0.0   \n006ff446f4e8c78e943f8ea7ee9f7388                          0.0   \n008bca99f0cccb5d07d4f03744709cf8                          0.0   \n009ef2d25878cecee8d2c8115d26f4ab                          0.0   \n...                                                       ...   \nff6a9ebde4f19c42c852aa679c877b41                          0.0   \nff98ca51d1c83549f22f957b7de68815                          0.0   \nffaa8955dcd8a0af7d148c10fd447fcc                          0.0   \nffaaa3f5d45ce8c8553efbcfa7e6ce00                          0.0   \nffd820977e139cbabf31dbeb5dcc1b23                          0.0   \n\npackage                           SLT_STAFF_TRIPLE_PLAY  \nACCOUNT_NUM.hash                                         \n0009e7e4d940c2a539b89342af07e7f1                    0.0  \n00126426420cdb4b1fe951ce5bb3c05a                    0.0  \n006ff446f4e8c78e943f8ea7ee9f7388                    0.0  \n008bca99f0cccb5d07d4f03744709cf8                    0.0  \n009ef2d25878cecee8d2c8115d26f4ab                    0.0  \n...                                                 ...  \nff6a9ebde4f19c42c852aa679c877b41                    0.0  \nff98ca51d1c83549f22f957b7de68815                    0.0  \nffaa8955dcd8a0af7d148c10fd447fcc                    0.0  \nffaaa3f5d45ce8c8553efbcfa7e6ce00                    0.0  \nffd820977e139cbabf31dbeb5dcc1b23                    0.0  \n\n[1142 rows x 19 columns]"
          },
          "metadata": {}
        }
      ],
      "execution_count": 6,
      "metadata": {}
    },
    {
      "cell_type": "code",
      "source": [
        "user_id = list(interaction_matrix.index)\n",
        "user_dict = {}\n",
        "counter = 0 \n",
        "for i in user_id:\n",
        "    user_dict[i] = counter\n",
        "    counter += 1"
      ],
      "outputs": [],
      "execution_count": 7,
      "metadata": {}
    },
    {
      "cell_type": "code",
      "source": [
        "len(user_dict)"
      ],
      "outputs": [
        {
          "output_type": "execute_result",
          "execution_count": 8,
          "data": {
            "text/plain": "1142"
          },
          "metadata": {}
        }
      ],
      "execution_count": 8,
      "metadata": {}
    },
    {
      "cell_type": "code",
      "source": [
        "item_id = interaction_df.package.to_list()\n",
        "item_dict = {}\n",
        "counter = 0 \n",
        "for i in item_id:\n",
        "    item_dict[i] = counter\n",
        "    counter += 1"
      ],
      "outputs": [],
      "execution_count": 9,
      "metadata": {}
    },
    {
      "cell_type": "code",
      "source": [
        "item_dict"
      ],
      "outputs": [
        {
          "output_type": "execute_result",
          "execution_count": 10,
          "data": {
            "text/plain": "{'PEO_ENTERTAINMENT': 986,\n 'PEO_SILVER': 1141,\n 'PEO_UTHAYAM': 1114,\n 'PEO_SILVER_PLUS': 1125,\n 'PRANAMA': 1138,\n 'PEO_UNNATHAM': 1088,\n 'PEO_RELIGIOUS_PACKAGE': 1042,\n 'PEO_PLATINUM': 698,\n 'NEW_SLT_STAFF_PACKAGE': 1049,\n 'PEO_TITANIUM': 939,\n 'SLT_STAFF_TRIPLE_PLAY': 226,\n 'NEW_YEAR_TREAT': 1098,\n 'SLTStaff_PEO_SILVER': 775,\n 'PEO_SILVER_FTTH': 774,\n 'PEO_GOLD': 989,\n 'DOUBLEPROMO': 1030,\n 'LOTUS': 906,\n 'SLT_STAFF_PEO_UNNATHAM_FTTH': 729,\n 'PEO_FAMILY': 759}"
          },
          "metadata": {}
        }
      ],
      "execution_count": 10,
      "metadata": {}
    },
    {
      "cell_type": "code",
      "source": [
        "\n",
        "# convert to csr matrix\n",
        "interaction_csr = csr_matrix(interaction_matrix.values)\n",
        "interaction_csr"
      ],
      "outputs": [
        {
          "output_type": "execute_result",
          "execution_count": 13,
          "data": {
            "text/plain": "<1142x19 sparse matrix of type '<class 'numpy.float64'>'\n\twith 948 stored elements in Compressed Sparse Row format>"
          },
          "metadata": {}
        }
      ],
      "execution_count": 13,
      "metadata": {}
    },
    {
      "cell_type": "markdown",
      "source": [
        "### LightFM CF Recommender"
      ],
      "metadata": {}
    },
    {
      "cell_type": "code",
      "source": [
        "model = LightFM(loss='warp',\n",
        "                random_state=2016,\n",
        "                learning_rate=0.90,\n",
        "                no_components=150,\n",
        "                user_alpha=0.000005)"
      ],
      "outputs": [],
      "execution_count": 14,
      "metadata": {}
    },
    {
      "cell_type": "code",
      "source": [
        "model = model.fit(interaction_csr,\n",
        "                  epochs=100,\n",
        "                  num_threads=16, verbose=False)"
      ],
      "outputs": [],
      "execution_count": 15,
      "metadata": {}
    },
    {
      "cell_type": "code",
      "source": [
        "def get_item(mydict,item):\n",
        "    for k, v in mydict.items():\n",
        "        if v == item:\n",
        "            return k"
      ],
      "outputs": [],
      "execution_count": 19,
      "metadata": {}
    },
    {
      "cell_type": "code",
      "source": [
        "def sample_recommendation_user(model, interactions, user_id, user_dict, \n",
        "                               item_dict,threshold = 0,nrec_items = 5, show = True):\n",
        "    \n",
        "    n_users, n_items = interactions.shape\n",
        "    user_x = user_dict[user_id]\n",
        "    scores = pd.Series(model.predict(user_x,np.arange(n_items), item_features=interaction_csr))\n",
        "    scores.index = interactions.columns\n",
        "    scores = list(pd.Series(scores.sort_values(ascending=False).index))\n",
        "    \n",
        "    known_items = list(pd.Series(interactions.loc[user_id,:] \\\n",
        "                                 [interactions.loc[user_id,:] > threshold].index).sort_values(ascending=False))\n",
        "    \n",
        "    scores = [x for x in scores if x not in known_items]\n",
        "    return_score_list = scores[0:nrec_items]\n",
        "    known_items = list(pd.Series(known_items).apply(lambda x: get_item(item_dict, item_dict[x])))\n",
        "    scores = list(pd.Series(return_score_list).apply(lambda x:  get_item(item_dict, item_dict[x])))\n",
        "    if show == True:\n",
        "        print (\"User: \" + str(user_id))\n",
        "        print(\"Known Likes:\")\n",
        "        counter = 1\n",
        "        for i in known_items:\n",
        "            print(str(counter) + '- ' + str(i))\n",
        "            counter+=1\n",
        "\n",
        "        print(\"\\n Recommended Items:\")\n",
        "        counter = 1\n",
        "        for i in scores:\n",
        "            print(str(counter) + '- ' + str(i))\n",
        "            counter+=1"
      ],
      "outputs": [],
      "execution_count": 20,
      "metadata": {}
    },
    {
      "cell_type": "code",
      "source": [
        "sample_recommendation_user(model,interaction_matrix,\"0009e7e4d940c2a539b89342af07e7f1\",user_dict,item_dict)"
      ],
      "outputs": [
        {
          "output_type": "stream",
          "name": "stdout",
          "text": "User: 0009e7e4d940c2a539b89342af07e7f1\nKnown Likes:\n1- PEO_SILVER\n\n Recommended Items:\n1- PEO_GOLD\n2- SLT_STAFF_TRIPLE_PLAY\n3- PEO_UTHAYAM\n4- LOTUS\n5- PEO_ENTERTAINMENT\n"
        }
      ],
      "execution_count": 21,
      "metadata": {}
    },
    {
      "cell_type": "code",
      "source": [],
      "outputs": [],
      "execution_count": null,
      "metadata": {}
    }
  ],
  "metadata": {
    "kernelspec": {
      "name": "python3",
      "language": "python",
      "display_name": "Python 3"
    },
    "language_info": {
      "name": "python",
      "version": "3.6.9",
      "mimetype": "text/x-python",
      "codemirror_mode": {
        "name": "ipython",
        "version": 3
      },
      "pygments_lexer": "ipython3",
      "nbconvert_exporter": "python",
      "file_extension": ".py"
    },
    "kernel_info": {
      "name": "python3"
    },
    "nteract": {
      "version": "nteract-front-end@1.0.0"
    }
  },
  "nbformat": 4,
  "nbformat_minor": 4
}