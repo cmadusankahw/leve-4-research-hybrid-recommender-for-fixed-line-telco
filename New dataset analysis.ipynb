{
 "cells": [
  {
   "cell_type": "code",
   "execution_count": 561,
   "metadata": {},
   "outputs": [],
   "source": [
    "import pandas as pd\n",
    "import numpy as np\n",
    "from matplotlib import pyplot as plt\n",
    "from sklearn.preprocessing import MinMaxScaler\n",
    "import seaborn as sns"
   ]
  },
  {
   "cell_type": "markdown",
   "metadata": {},
   "source": [
    "### Demographics Inofmation"
   ]
  },
  {
   "cell_type": "markdown",
   "metadata": {},
   "source": [
    "## Product Details - Categories, Play types"
   ]
  },
  {
   "cell_type": "code",
   "execution_count": 562,
   "metadata": {},
   "outputs": [],
   "source": [
    "product_cat_df = pd.read_excel(\"data/new/Product_details_from_BSS.xls\")  \n"
   ]
  },
  {
   "cell_type": "code",
   "execution_count": 563,
   "metadata": {},
   "outputs": [
    {
     "name": "stdout",
     "output_type": "stream",
     "text": [
      "<class 'pandas.core.frame.DataFrame'>\n",
      "RangeIndex: 60708 entries, 0 to 60707\n",
      "Data columns (total 17 columns):\n",
      " #   Column              Non-Null Count  Dtype         \n",
      "---  ------              --------------  -----         \n",
      " 0   PRODUCT_LABEL.hash  60708 non-null  object        \n",
      " 1   CUSTOMER_REF.hash   60708 non-null  object        \n",
      " 2   ACCOUNT_NUM.hash    60708 non-null  object        \n",
      " 3   PRODUCT_SEQ         60708 non-null  int64         \n",
      " 4   START_DAT           60707 non-null  datetime64[ns]\n",
      " 5   END_DAT             3292 non-null   datetime64[ns]\n",
      " 6   PRODUCT_ID.hash     60708 non-null  object        \n",
      " 7   PRODUCT_NAME        60707 non-null  object        \n",
      " 8   PRODUCT_STATUS      60707 non-null  object        \n",
      " 9   MEDIUM              60684 non-null  object        \n",
      " 10  CATEGORY            60273 non-null  object        \n",
      " 11  CATEGORY_DETAILS    60273 non-null  object        \n",
      " 12  TARIFF_ID.hash      60708 non-null  object        \n",
      " 13  TARIFF_NAME         60707 non-null  object        \n",
      " 14  TARIFF_DESC         60707 non-null  object        \n",
      " 15  RECURRING_CHARGE    8386 non-null   float64       \n",
      " 16                      60708 non-null  object        \n",
      "dtypes: datetime64[ns](2), float64(1), int64(1), object(13)\n",
      "memory usage: 7.9+ MB\n"
     ]
    }
   ],
   "source": [
    "product_cat_df.info()"
   ]
  },
  {
   "cell_type": "code",
   "execution_count": 564,
   "metadata": {},
   "outputs": [
    {
     "data": {
      "text/plain": [
       "V_SLT Voice Service            18847\n",
       "AB_Copper Access Bearer        17637\n",
       "BB_SLT BroadBand Service        5400\n",
       "BB_Extra GB                     5372\n",
       "BB_PeoTVGO                      4800\n",
       "BB_Personal Storage             4368\n",
       "E_SLT PeoTV Service             2385\n",
       "AB_WireLess Access              1076\n",
       "AB_Fiber Access Bearer           327\n",
       "V-Basic1_TeleLife                 99\n",
       "V-Plus1_TeleLife                  87\n",
       "BB_Detailed Reports               84\n",
       "V_E-channeling Registration       80\n",
       "V_Telehealth                      58\n",
       "V_Sisu Connect                    36\n",
       "V_E-channeling Subscription       30\n",
       "BB_SLT Film Hall Service           9\n",
       "OTT_SLT PeoTV Go                   4\n",
       "V-Plus4_TeleLife                   3\n",
       "V-Basic2_TeleLife                  2\n",
       "BB_ Entertainment Unlimited        2\n",
       "V-Basic4_TeleLife                  1\n",
       "Name: PRODUCT_NAME, dtype: int64"
      ]
     },
     "execution_count": 564,
     "metadata": {},
     "output_type": "execute_result"
    }
   ],
   "source": [
    "product_cat_df[\"PRODUCT_NAME\"].value_counts()"
   ]
  },
  {
   "cell_type": "code",
   "execution_count": 565,
   "metadata": {},
   "outputs": [],
   "source": [
    "products_df = product_cat_df[[\"PRODUCT_ID.hash\",\"PRODUCT_NAME\",\"MEDIUM\",\"CATEGORY\",\"CATEGORY_DETAILS\",\"TARIFF_ID.hash\",\"TARIFF_NAME\",\"TARIFF_DESC\",\"RECURRING_CHARGE\"]]"
   ]
  },
  {
   "cell_type": "code",
   "execution_count": 566,
   "metadata": {},
   "outputs": [
    {
     "name": "stderr",
     "output_type": "stream",
     "text": [
      "<ipython-input-566-73a796203387>:1: SettingWithCopyWarning: \n",
      "A value is trying to be set on a copy of a slice from a DataFrame\n",
      "\n",
      "See the caveats in the documentation: https://pandas.pydata.org/pandas-docs/stable/user_guide/indexing.html#returning-a-view-versus-a-copy\n",
      "  products_df.drop_duplicates([\"PRODUCT_ID.hash\"],inplace=True, keep=\"last\")\n"
     ]
    }
   ],
   "source": [
    "products_df.drop_duplicates([\"PRODUCT_ID.hash\"],inplace=True, keep=\"last\")"
   ]
  },
  {
   "cell_type": "code",
   "execution_count": 567,
   "metadata": {},
   "outputs": [
    {
     "name": "stderr",
     "output_type": "stream",
     "text": [
      "/home/chiran/anaconda3/lib/python3.8/site-packages/pandas/core/frame.py:4296: SettingWithCopyWarning: \n",
      "A value is trying to be set on a copy of a slice from a DataFrame\n",
      "\n",
      "See the caveats in the documentation: https://pandas.pydata.org/pandas-docs/stable/user_guide/indexing.html#returning-a-view-versus-a-copy\n",
      "  return super().rename(\n"
     ]
    }
   ],
   "source": [
    "products_df.rename(columns = {\"RECURRING_CHARGE\":\"Monthly_Rental\"},inplace=True)"
   ]
  },
  {
   "cell_type": "code",
   "execution_count": 568,
   "metadata": {},
   "outputs": [
    {
     "name": "stderr",
     "output_type": "stream",
     "text": [
      "/home/chiran/anaconda3/lib/python3.8/site-packages/pandas/core/frame.py:4163: SettingWithCopyWarning: \n",
      "A value is trying to be set on a copy of a slice from a DataFrame\n",
      "\n",
      "See the caveats in the documentation: https://pandas.pydata.org/pandas-docs/stable/user_guide/indexing.html#returning-a-view-versus-a-copy\n",
      "  return super().drop(\n"
     ]
    }
   ],
   "source": [
    "products_df.reset_index(inplace=True)\n",
    "products_df.drop([\"index\"],axis=1,inplace=True)"
   ]
  },
  {
   "cell_type": "code",
   "execution_count": 569,
   "metadata": {},
   "outputs": [
    {
     "name": "stdout",
     "output_type": "stream",
     "text": [
      "<class 'pandas.core.frame.DataFrame'>\n",
      "RangeIndex: 23 entries, 0 to 22\n",
      "Data columns (total 9 columns):\n",
      " #   Column            Non-Null Count  Dtype  \n",
      "---  ------            --------------  -----  \n",
      " 0   PRODUCT_ID.hash   23 non-null     object \n",
      " 1   PRODUCT_NAME      22 non-null     object \n",
      " 2   MEDIUM            19 non-null     object \n",
      " 3   CATEGORY          17 non-null     object \n",
      " 4   CATEGORY_DETAILS  17 non-null     object \n",
      " 5   TARIFF_ID.hash    23 non-null     object \n",
      " 6   TARIFF_NAME       22 non-null     object \n",
      " 7   TARIFF_DESC       22 non-null     object \n",
      " 8   Monthly_Rental    10 non-null     float64\n",
      "dtypes: float64(1), object(8)\n",
      "memory usage: 1.7+ KB\n"
     ]
    }
   ],
   "source": [
    "products_df.info()"
   ]
  },
  {
   "cell_type": "code",
   "execution_count": 570,
   "metadata": {},
   "outputs": [
    {
     "data": {
      "text/plain": [
       "array([nan, 'V-Plus4_TeleLife', 'V_E-channeling Subscription',\n",
       "       'V-Basic2_TeleLife', 'V-Basic4_TeleLife', 'V-Basic1_TeleLife',\n",
       "       'V_Sisu Connect', 'V_Telehealth', 'V-Plus1_TeleLife',\n",
       "       'V_E-channeling Registration', 'BB_ Entertainment Unlimited',\n",
       "       'OTT_SLT PeoTV Go', 'AB_WireLess Access',\n",
       "       'BB_SLT Film Hall Service', 'BB_Detailed Reports ',\n",
       "       'AB_Fiber Access Bearer', 'BB_PeoTVGO', 'BB_Extra GB',\n",
       "       'BB_SLT BroadBand Service', 'BB_Personal Storage',\n",
       "       'E_SLT PeoTV Service', 'V_SLT Voice Service',\n",
       "       'AB_Copper Access Bearer'], dtype=object)"
      ]
     },
     "execution_count": 570,
     "metadata": {},
     "output_type": "execute_result"
    }
   ],
   "source": [
    "products_df[\"PRODUCT_NAME\"].unique()"
   ]
  },
  {
   "cell_type": "code",
   "execution_count": 571,
   "metadata": {},
   "outputs": [],
   "source": [
    "products_df.to_csv(\"data/product_catalog/Product_info_from_BSS.csv\")"
   ]
  },
  {
   "cell_type": "code",
   "execution_count": null,
   "metadata": {},
   "outputs": [],
   "source": []
  },
  {
   "cell_type": "markdown",
   "metadata": {},
   "source": [
    "## Phone No Account No Customer Reference Map"
   ]
  },
  {
   "cell_type": "code",
   "execution_count": 572,
   "metadata": {},
   "outputs": [
    {
     "name": "stderr",
     "output_type": "stream",
     "text": [
      "<ipython-input-572-cb3c55b3a8c1>:2: SettingWithCopyWarning: \n",
      "A value is trying to be set on a copy of a slice from a DataFrame\n",
      "\n",
      "See the caveats in the documentation: https://pandas.pydata.org/pandas-docs/stable/user_guide/indexing.html#returning-a-view-versus-a-copy\n",
      "  acc_no_map.drop_duplicates([\"PRODUCT_LABEL.hash\"],inplace=True)\n"
     ]
    },
    {
     "data": {
      "text/html": [
       "<div>\n",
       "<style scoped>\n",
       "    .dataframe tbody tr th:only-of-type {\n",
       "        vertical-align: middle;\n",
       "    }\n",
       "\n",
       "    .dataframe tbody tr th {\n",
       "        vertical-align: top;\n",
       "    }\n",
       "\n",
       "    .dataframe thead th {\n",
       "        text-align: right;\n",
       "    }\n",
       "</style>\n",
       "<table border=\"1\" class=\"dataframe\">\n",
       "  <thead>\n",
       "    <tr style=\"text-align: right;\">\n",
       "      <th></th>\n",
       "      <th>event_source.hash</th>\n",
       "      <th>ACCOUNT_NUM.hash</th>\n",
       "      <th>CUSTOMER_REF.hash</th>\n",
       "    </tr>\n",
       "  </thead>\n",
       "  <tbody>\n",
       "    <tr>\n",
       "      <th>0</th>\n",
       "      <td>7b40c1d1c84c9a340004769491af7931</td>\n",
       "      <td>bd0cc5e96b24df6625fc68cbaf71b555</td>\n",
       "      <td>df4bc5da4eaaaab1d937c3fd2a699c3f</td>\n",
       "    </tr>\n",
       "    <tr>\n",
       "      <th>1</th>\n",
       "      <td>15799aa2e9dcf19b945e3dbe3146f7dc</td>\n",
       "      <td>4c7a4769273c7a2eb4860a09f6376a70</td>\n",
       "      <td>b30293458c6565bc283bac15b92aa38d</td>\n",
       "    </tr>\n",
       "    <tr>\n",
       "      <th>2</th>\n",
       "      <td>a74c72a07e26ac631688df66f691255c</td>\n",
       "      <td>4c7a4769273c7a2eb4860a09f6376a70</td>\n",
       "      <td>b30293458c6565bc283bac15b92aa38d</td>\n",
       "    </tr>\n",
       "    <tr>\n",
       "      <th>3</th>\n",
       "      <td>d67702262368f632f7014f1bd12d5444</td>\n",
       "      <td>4c7a4769273c7a2eb4860a09f6376a70</td>\n",
       "      <td>b30293458c6565bc283bac15b92aa38d</td>\n",
       "    </tr>\n",
       "    <tr>\n",
       "      <th>4</th>\n",
       "      <td>53098ea32fbe12338600872be6e06fb0</td>\n",
       "      <td>4c7a4769273c7a2eb4860a09f6376a70</td>\n",
       "      <td>b30293458c6565bc283bac15b92aa38d</td>\n",
       "    </tr>\n",
       "    <tr>\n",
       "      <th>...</th>\n",
       "      <td>...</td>\n",
       "      <td>...</td>\n",
       "      <td>...</td>\n",
       "    </tr>\n",
       "    <tr>\n",
       "      <th>27550</th>\n",
       "      <td>28938db617a935e0f092ae16667c9f37</td>\n",
       "      <td>06623c7ba64331f615ff83c5664b71bb</td>\n",
       "      <td>ac995f79a7164b89de084396352b343b</td>\n",
       "    </tr>\n",
       "    <tr>\n",
       "      <th>27551</th>\n",
       "      <td>d7515b0ed8141e075023da5947b714bf</td>\n",
       "      <td>06623c7ba64331f615ff83c5664b71bb</td>\n",
       "      <td>ac995f79a7164b89de084396352b343b</td>\n",
       "    </tr>\n",
       "    <tr>\n",
       "      <th>27552</th>\n",
       "      <td>919ba5f18ce708afcd4f545150021b0e</td>\n",
       "      <td>bd0cc5e96b24df6625fc68cbaf71b555</td>\n",
       "      <td>df4bc5da4eaaaab1d937c3fd2a699c3f</td>\n",
       "    </tr>\n",
       "    <tr>\n",
       "      <th>27553</th>\n",
       "      <td>7ae240b62cca05b9ab0af678122e7e5c</td>\n",
       "      <td>8d8472d39b270801553f2d5e7c06fe22</td>\n",
       "      <td>f8743da5d0bff84f9440fb44fce1bdc1</td>\n",
       "    </tr>\n",
       "    <tr>\n",
       "      <th>27554</th>\n",
       "      <td>d41d8cd98f00b204e9800998ecf8427e</td>\n",
       "      <td>949e14e85d36002ffb954d42d3366936</td>\n",
       "      <td>51ee71e46ba64034adaf383345028fb8</td>\n",
       "    </tr>\n",
       "  </tbody>\n",
       "</table>\n",
       "<p>27555 rows × 3 columns</p>\n",
       "</div>"
      ],
      "text/plain": [
       "                      event_source.hash                  ACCOUNT_NUM.hash  \\\n",
       "0      7b40c1d1c84c9a340004769491af7931  bd0cc5e96b24df6625fc68cbaf71b555   \n",
       "1      15799aa2e9dcf19b945e3dbe3146f7dc  4c7a4769273c7a2eb4860a09f6376a70   \n",
       "2      a74c72a07e26ac631688df66f691255c  4c7a4769273c7a2eb4860a09f6376a70   \n",
       "3      d67702262368f632f7014f1bd12d5444  4c7a4769273c7a2eb4860a09f6376a70   \n",
       "4      53098ea32fbe12338600872be6e06fb0  4c7a4769273c7a2eb4860a09f6376a70   \n",
       "...                                 ...                               ...   \n",
       "27550  28938db617a935e0f092ae16667c9f37  06623c7ba64331f615ff83c5664b71bb   \n",
       "27551  d7515b0ed8141e075023da5947b714bf  06623c7ba64331f615ff83c5664b71bb   \n",
       "27552  919ba5f18ce708afcd4f545150021b0e  bd0cc5e96b24df6625fc68cbaf71b555   \n",
       "27553  7ae240b62cca05b9ab0af678122e7e5c  8d8472d39b270801553f2d5e7c06fe22   \n",
       "27554  d41d8cd98f00b204e9800998ecf8427e  949e14e85d36002ffb954d42d3366936   \n",
       "\n",
       "                      CUSTOMER_REF.hash  \n",
       "0      df4bc5da4eaaaab1d937c3fd2a699c3f  \n",
       "1      b30293458c6565bc283bac15b92aa38d  \n",
       "2      b30293458c6565bc283bac15b92aa38d  \n",
       "3      b30293458c6565bc283bac15b92aa38d  \n",
       "4      b30293458c6565bc283bac15b92aa38d  \n",
       "...                                 ...  \n",
       "27550  ac995f79a7164b89de084396352b343b  \n",
       "27551  ac995f79a7164b89de084396352b343b  \n",
       "27552  df4bc5da4eaaaab1d937c3fd2a699c3f  \n",
       "27553  f8743da5d0bff84f9440fb44fce1bdc1  \n",
       "27554  51ee71e46ba64034adaf383345028fb8  \n",
       "\n",
       "[27555 rows x 3 columns]"
      ]
     },
     "execution_count": 572,
     "metadata": {},
     "output_type": "execute_result"
    }
   ],
   "source": [
    "acc_no_map = product_cat_df[[\"PRODUCT_LABEL.hash\",\"ACCOUNT_NUM.hash\",\"CUSTOMER_REF.hash\"]]\n",
    "acc_no_map.drop_duplicates([\"PRODUCT_LABEL.hash\"],inplace=True)\n",
    "acc_no_map.rename(columns={'PRODUCT_LABEL.hash':'event_source.hash'}, inplace=True)\n",
    "acc_no_map.reset_index(inplace=True)\n",
    "acc_no_map.drop([\"index\"],axis=1,inplace=True)\n",
    "acc_no_map"
   ]
  },
  {
   "cell_type": "code",
   "execution_count": 573,
   "metadata": {},
   "outputs": [
    {
     "data": {
      "text/plain": [
       "27555"
      ]
     },
     "execution_count": 573,
     "metadata": {},
     "output_type": "execute_result"
    }
   ],
   "source": [
    "len(acc_no_map[\"event_source.hash\"].unique())"
   ]
  },
  {
   "cell_type": "code",
   "execution_count": 574,
   "metadata": {},
   "outputs": [],
   "source": [
    "acc_no_map.to_csv(\"data/user_profile/account_no_map_reduced.csv\")"
   ]
  },
  {
   "cell_type": "code",
   "execution_count": null,
   "metadata": {},
   "outputs": [],
   "source": []
  },
  {
   "cell_type": "markdown",
   "metadata": {},
   "source": [
    "## Adding Phone Number col to Customer Demographics "
   ]
  },
  {
   "cell_type": "code",
   "execution_count": 575,
   "metadata": {},
   "outputs": [],
   "source": [
    "demo_df = pd.read_excel(\"data/new/Demographic_Data.xls\")  "
   ]
  },
  {
   "cell_type": "code",
   "execution_count": 576,
   "metadata": {},
   "outputs": [
    {
     "data": {
      "text/html": [
       "<div>\n",
       "<style scoped>\n",
       "    .dataframe tbody tr th:only-of-type {\n",
       "        vertical-align: middle;\n",
       "    }\n",
       "\n",
       "    .dataframe tbody tr th {\n",
       "        vertical-align: top;\n",
       "    }\n",
       "\n",
       "    .dataframe thead th {\n",
       "        text-align: right;\n",
       "    }\n",
       "</style>\n",
       "<table border=\"1\" class=\"dataframe\">\n",
       "  <thead>\n",
       "    <tr style=\"text-align: right;\">\n",
       "      <th></th>\n",
       "      <th>CUSTOMER_REF.hash</th>\n",
       "      <th>GENDER</th>\n",
       "      <th>BIRTH_YEAR</th>\n",
       "      <th>AGE</th>\n",
       "      <th></th>\n",
       "      <th>event_source.hash</th>\n",
       "      <th>ACCOUNT_NUM.hash</th>\n",
       "    </tr>\n",
       "  </thead>\n",
       "  <tbody>\n",
       "    <tr>\n",
       "      <th>0</th>\n",
       "      <td>a043dbaaa0025b1f8cc08824dc994a0d</td>\n",
       "      <td>M</td>\n",
       "      <td>1967</td>\n",
       "      <td>54</td>\n",
       "      <td></td>\n",
       "      <td>a84f463df0fb45ec8d42ca92ab237156</td>\n",
       "      <td>a9c24ac1c87f8677a4dbe304c88054aa</td>\n",
       "    </tr>\n",
       "    <tr>\n",
       "      <th>1</th>\n",
       "      <td>a043dbaaa0025b1f8cc08824dc994a0d</td>\n",
       "      <td>M</td>\n",
       "      <td>1967</td>\n",
       "      <td>54</td>\n",
       "      <td></td>\n",
       "      <td>174913a52c17beb0dad243cec5940c30</td>\n",
       "      <td>a9c24ac1c87f8677a4dbe304c88054aa</td>\n",
       "    </tr>\n",
       "    <tr>\n",
       "      <th>2</th>\n",
       "      <td>2e5e5c967af4b7b4c0cf0b9185d5ad7e</td>\n",
       "      <td>M</td>\n",
       "      <td>1964</td>\n",
       "      <td>57</td>\n",
       "      <td></td>\n",
       "      <td>0bd313cd37f37a651cc0bda8feadc630</td>\n",
       "      <td>ee3713acf4da68cda726f61d3f1026f7</td>\n",
       "    </tr>\n",
       "    <tr>\n",
       "      <th>3</th>\n",
       "      <td>2e5e5c967af4b7b4c0cf0b9185d5ad7e</td>\n",
       "      <td>M</td>\n",
       "      <td>1964</td>\n",
       "      <td>57</td>\n",
       "      <td></td>\n",
       "      <td>5b6deac8be1e07aabeb41a4158a08e71</td>\n",
       "      <td>ee3713acf4da68cda726f61d3f1026f7</td>\n",
       "    </tr>\n",
       "    <tr>\n",
       "      <th>4</th>\n",
       "      <td>3269bc892961919e511bdbe178fa0ac6</td>\n",
       "      <td>M</td>\n",
       "      <td>1966</td>\n",
       "      <td>55</td>\n",
       "      <td></td>\n",
       "      <td>de4a1fdf1880db54d5176095a99ed2ab</td>\n",
       "      <td>6876df747de66cfb33ecd010dfcd68c7</td>\n",
       "    </tr>\n",
       "    <tr>\n",
       "      <th>...</th>\n",
       "      <td>...</td>\n",
       "      <td>...</td>\n",
       "      <td>...</td>\n",
       "      <td>...</td>\n",
       "      <td>...</td>\n",
       "      <td>...</td>\n",
       "      <td>...</td>\n",
       "    </tr>\n",
       "    <tr>\n",
       "      <th>4114</th>\n",
       "      <td>205b0fead79db9bf08a98002d2727ef5</td>\n",
       "      <td>M</td>\n",
       "      <td>1967</td>\n",
       "      <td>54</td>\n",
       "      <td></td>\n",
       "      <td>8187113efb884778725f953c751ae4f1</td>\n",
       "      <td>87cd775edc9cfc4f401e6ff39f239833</td>\n",
       "    </tr>\n",
       "    <tr>\n",
       "      <th>4115</th>\n",
       "      <td>cd035ec55e44eea43d998addc7bcc434</td>\n",
       "      <td>M</td>\n",
       "      <td>1948</td>\n",
       "      <td>73</td>\n",
       "      <td></td>\n",
       "      <td>90feabe2f2846cbf4eb77db650c48a1b</td>\n",
       "      <td>9c926ad1c6705e1f46462dc5b59d8feb</td>\n",
       "    </tr>\n",
       "    <tr>\n",
       "      <th>4116</th>\n",
       "      <td>f5fbbc6264cd75823c8f8cb0830cba45</td>\n",
       "      <td>F</td>\n",
       "      <td>1949</td>\n",
       "      <td>72</td>\n",
       "      <td></td>\n",
       "      <td>7e2f7cef44ccac863691ec25019df475</td>\n",
       "      <td>ffaaa3f5d45ce8c8553efbcfa7e6ce00</td>\n",
       "    </tr>\n",
       "    <tr>\n",
       "      <th>4117</th>\n",
       "      <td>f5fbbc6264cd75823c8f8cb0830cba45</td>\n",
       "      <td>F</td>\n",
       "      <td>1949</td>\n",
       "      <td>72</td>\n",
       "      <td></td>\n",
       "      <td>2324aebced3f63304a107e6e13c39f78</td>\n",
       "      <td>ffaaa3f5d45ce8c8553efbcfa7e6ce00</td>\n",
       "    </tr>\n",
       "    <tr>\n",
       "      <th>4118</th>\n",
       "      <td>aae7281b2e92e745e717bbc77a176769</td>\n",
       "      <td>M</td>\n",
       "      <td>1953</td>\n",
       "      <td>68</td>\n",
       "      <td></td>\n",
       "      <td>NaN</td>\n",
       "      <td>NaN</td>\n",
       "    </tr>\n",
       "  </tbody>\n",
       "</table>\n",
       "<p>4119 rows × 7 columns</p>\n",
       "</div>"
      ],
      "text/plain": [
       "                     CUSTOMER_REF.hash GENDER  BIRTH_YEAR  AGE     \\\n",
       "0     a043dbaaa0025b1f8cc08824dc994a0d      M        1967   54      \n",
       "1     a043dbaaa0025b1f8cc08824dc994a0d      M        1967   54      \n",
       "2     2e5e5c967af4b7b4c0cf0b9185d5ad7e      M        1964   57      \n",
       "3     2e5e5c967af4b7b4c0cf0b9185d5ad7e      M        1964   57      \n",
       "4     3269bc892961919e511bdbe178fa0ac6      M        1966   55      \n",
       "...                                ...    ...         ...  ... ..   \n",
       "4114  205b0fead79db9bf08a98002d2727ef5      M        1967   54      \n",
       "4115  cd035ec55e44eea43d998addc7bcc434      M        1948   73      \n",
       "4116  f5fbbc6264cd75823c8f8cb0830cba45      F        1949   72      \n",
       "4117  f5fbbc6264cd75823c8f8cb0830cba45      F        1949   72      \n",
       "4118  aae7281b2e92e745e717bbc77a176769      M        1953   68      \n",
       "\n",
       "                     event_source.hash                  ACCOUNT_NUM.hash  \n",
       "0     a84f463df0fb45ec8d42ca92ab237156  a9c24ac1c87f8677a4dbe304c88054aa  \n",
       "1     174913a52c17beb0dad243cec5940c30  a9c24ac1c87f8677a4dbe304c88054aa  \n",
       "2     0bd313cd37f37a651cc0bda8feadc630  ee3713acf4da68cda726f61d3f1026f7  \n",
       "3     5b6deac8be1e07aabeb41a4158a08e71  ee3713acf4da68cda726f61d3f1026f7  \n",
       "4     de4a1fdf1880db54d5176095a99ed2ab  6876df747de66cfb33ecd010dfcd68c7  \n",
       "...                                ...                               ...  \n",
       "4114  8187113efb884778725f953c751ae4f1  87cd775edc9cfc4f401e6ff39f239833  \n",
       "4115  90feabe2f2846cbf4eb77db650c48a1b  9c926ad1c6705e1f46462dc5b59d8feb  \n",
       "4116  7e2f7cef44ccac863691ec25019df475  ffaaa3f5d45ce8c8553efbcfa7e6ce00  \n",
       "4117  2324aebced3f63304a107e6e13c39f78  ffaaa3f5d45ce8c8553efbcfa7e6ce00  \n",
       "4118                               NaN                               NaN  \n",
       "\n",
       "[4119 rows x 7 columns]"
      ]
     },
     "execution_count": 576,
     "metadata": {},
     "output_type": "execute_result"
    }
   ],
   "source": [
    "merged_demo = demo_df.merge(acc_no_map,how='left', on='CUSTOMER_REF.hash')\n",
    "merged_demo.reset_index(inplace=True)\n",
    "merged_demo.drop([\"index\"],axis=1, inplace=True)\n",
    "merged_demo"
   ]
  },
  {
   "cell_type": "code",
   "execution_count": 577,
   "metadata": {},
   "outputs": [],
   "source": [
    "merged_demo = merged_demo[[\"event_source.hash\",\"CUSTOMER_REF.hash\",\"ACCOUNT_NUM.hash\",\"GENDER\",\"BIRTH_YEAR\",\"AGE\"]]"
   ]
  },
  {
   "cell_type": "code",
   "execution_count": 578,
   "metadata": {},
   "outputs": [
    {
     "name": "stdout",
     "output_type": "stream",
     "text": [
      "<class 'pandas.core.frame.DataFrame'>\n",
      "RangeIndex: 4119 entries, 0 to 4118\n",
      "Data columns (total 6 columns):\n",
      " #   Column             Non-Null Count  Dtype \n",
      "---  ------             --------------  ----- \n",
      " 0   event_source.hash  4104 non-null   object\n",
      " 1   CUSTOMER_REF.hash  4119 non-null   object\n",
      " 2   ACCOUNT_NUM.hash   4104 non-null   object\n",
      " 3   GENDER             4119 non-null   object\n",
      " 4   BIRTH_YEAR         4119 non-null   int64 \n",
      " 5   AGE                4119 non-null   int64 \n",
      "dtypes: int64(2), object(4)\n",
      "memory usage: 193.2+ KB\n"
     ]
    }
   ],
   "source": [
    "merged_demo.info()"
   ]
  },
  {
   "cell_type": "code",
   "execution_count": 579,
   "metadata": {},
   "outputs": [],
   "source": [
    "merged_demo.to_csv(\"data/user_profile/user_demographics_final.csv\")"
   ]
  },
  {
   "cell_type": "code",
   "execution_count": null,
   "metadata": {},
   "outputs": [],
   "source": []
  },
  {
   "cell_type": "markdown",
   "metadata": {},
   "source": [
    "## VAS Common Dataset Analysis"
   ]
  },
  {
   "cell_type": "code",
   "execution_count": 580,
   "metadata": {},
   "outputs": [],
   "source": [
    "vas_common_df = pd.read_excel(\"data/new/VAS_Products_Purchased Dates_Rental.xls\")\n",
    "vas_common_df.rename(columns={'PRODUCT_NAME':'VAS','BSS_DSP':'Month_Subscribed','RENTAL':'Rental'}, inplace=True)"
   ]
  },
  {
   "cell_type": "code",
   "execution_count": 581,
   "metadata": {},
   "outputs": [],
   "source": [
    "# Date correction\n",
    "def date_correct_common(date):\n",
    "    date=str(date)\n",
    "    year=date[:4]\n",
    "    month=date[5:7]\n",
    "    return f\"{year}-{month}\""
   ]
  },
  {
   "cell_type": "code",
   "execution_count": 582,
   "metadata": {},
   "outputs": [],
   "source": [
    "vas_common_df[\"Month_Subscribed\"]=vas_common_df[\"Month_Subscribed\"].apply(lambda x: date_correct_common(x))"
   ]
  },
  {
   "cell_type": "code",
   "execution_count": 583,
   "metadata": {},
   "outputs": [],
   "source": [
    "vas_common_df = vas_common_df.merge(acc_no_map,how='left',on=\"ACCOUNT_NUM.hash\")"
   ]
  },
  {
   "cell_type": "code",
   "execution_count": 584,
   "metadata": {},
   "outputs": [],
   "source": [
    "vas_common_df.drop_duplicates([\"event_source.hash\",\"VAS\"], inplace=True,keep=\"last\")\n",
    "vas_common_df.reset_index(inplace=True)\n",
    "vas_common_df.drop([\"index\"],axis=1, inplace=True)"
   ]
  },
  {
   "cell_type": "code",
   "execution_count": 585,
   "metadata": {},
   "outputs": [
    {
     "data": {
      "text/html": [
       "<div>\n",
       "<style scoped>\n",
       "    .dataframe tbody tr th:only-of-type {\n",
       "        vertical-align: middle;\n",
       "    }\n",
       "\n",
       "    .dataframe tbody tr th {\n",
       "        vertical-align: top;\n",
       "    }\n",
       "\n",
       "    .dataframe thead th {\n",
       "        text-align: right;\n",
       "    }\n",
       "</style>\n",
       "<table border=\"1\" class=\"dataframe\">\n",
       "  <thead>\n",
       "    <tr style=\"text-align: right;\">\n",
       "      <th></th>\n",
       "      <th>event_source.hash</th>\n",
       "      <th>ACCOUNT_NUM.hash</th>\n",
       "      <th>CUSTOMER_REF.hash</th>\n",
       "      <th>VAS</th>\n",
       "      <th>Month_Subscribed</th>\n",
       "      <th>Rental</th>\n",
       "    </tr>\n",
       "  </thead>\n",
       "  <tbody>\n",
       "    <tr>\n",
       "      <th>0</th>\n",
       "      <td>e35d20e09689545309f1b77627419f2e</td>\n",
       "      <td>02059e815d999bda708149ae263946d3</td>\n",
       "      <td>45636ddd123db631d63e246c5d004400</td>\n",
       "      <td>BB_YouTube Bundle</td>\n",
       "      <td>2021-02</td>\n",
       "      <td>155</td>\n",
       "    </tr>\n",
       "    <tr>\n",
       "      <th>1</th>\n",
       "      <td>155e3c4f297149ac9ef77f3cfbe5e505</td>\n",
       "      <td>02059e815d999bda708149ae263946d3</td>\n",
       "      <td>45636ddd123db631d63e246c5d004400</td>\n",
       "      <td>BB_YouTube Bundle</td>\n",
       "      <td>2021-02</td>\n",
       "      <td>155</td>\n",
       "    </tr>\n",
       "    <tr>\n",
       "      <th>2</th>\n",
       "      <td>35361428d4c4195cdb0bb3a464354fcb</td>\n",
       "      <td>02059e815d999bda708149ae263946d3</td>\n",
       "      <td>45636ddd123db631d63e246c5d004400</td>\n",
       "      <td>BB_YouTube Bundle</td>\n",
       "      <td>2021-02</td>\n",
       "      <td>155</td>\n",
       "    </tr>\n",
       "    <tr>\n",
       "      <th>3</th>\n",
       "      <td>35b46b71deb4bd0453e898356853fce8</td>\n",
       "      <td>02059e815d999bda708149ae263946d3</td>\n",
       "      <td>45636ddd123db631d63e246c5d004400</td>\n",
       "      <td>BB_YouTube Bundle</td>\n",
       "      <td>2021-02</td>\n",
       "      <td>155</td>\n",
       "    </tr>\n",
       "    <tr>\n",
       "      <th>4</th>\n",
       "      <td>4fd1fbc526c121283d7da3b3f8b6759b</td>\n",
       "      <td>02059e815d999bda708149ae263946d3</td>\n",
       "      <td>45636ddd123db631d63e246c5d004400</td>\n",
       "      <td>BB_YouTube Bundle</td>\n",
       "      <td>2021-02</td>\n",
       "      <td>155</td>\n",
       "    </tr>\n",
       "    <tr>\n",
       "      <th>...</th>\n",
       "      <td>...</td>\n",
       "      <td>...</td>\n",
       "      <td>...</td>\n",
       "      <td>...</td>\n",
       "      <td>...</td>\n",
       "      <td>...</td>\n",
       "    </tr>\n",
       "    <tr>\n",
       "      <th>21762</th>\n",
       "      <td>40d37f19d98b8715bbff5213b5444700</td>\n",
       "      <td>a4025297136f28dce5916f32d1354d24</td>\n",
       "      <td>fcf4c4bf00e620cf688c142565a17b1e</td>\n",
       "      <td>BB_Messenger Bundle</td>\n",
       "      <td>2021-05</td>\n",
       "      <td>45</td>\n",
       "    </tr>\n",
       "    <tr>\n",
       "      <th>21763</th>\n",
       "      <td>374eaee71d041ae082536f875b1f019a</td>\n",
       "      <td>a4025297136f28dce5916f32d1354d24</td>\n",
       "      <td>fcf4c4bf00e620cf688c142565a17b1e</td>\n",
       "      <td>BB_Messenger Bundle</td>\n",
       "      <td>2021-05</td>\n",
       "      <td>45</td>\n",
       "    </tr>\n",
       "    <tr>\n",
       "      <th>21764</th>\n",
       "      <td>NaN</td>\n",
       "      <td>720d67e1d56b076413efbd52553c5388</td>\n",
       "      <td>NaN</td>\n",
       "      <td>V_Telehealth</td>\n",
       "      <td>2020-08</td>\n",
       "      <td>165</td>\n",
       "    </tr>\n",
       "    <tr>\n",
       "      <th>21765</th>\n",
       "      <td>NaN</td>\n",
       "      <td>8e7a582787f663d030bd2dc31e46ee49</td>\n",
       "      <td>NaN</td>\n",
       "      <td>FTTH_Gamer Lite Subscription</td>\n",
       "      <td>2021-04</td>\n",
       "      <td>500</td>\n",
       "    </tr>\n",
       "    <tr>\n",
       "      <th>21766</th>\n",
       "      <td>NaN</td>\n",
       "      <td>627d19cbc4517c839dcdb4bcedf9a42b</td>\n",
       "      <td>NaN</td>\n",
       "      <td>Megaline_Gamer Lite Subscription</td>\n",
       "      <td>2021-05</td>\n",
       "      <td>500</td>\n",
       "    </tr>\n",
       "  </tbody>\n",
       "</table>\n",
       "<p>21767 rows × 6 columns</p>\n",
       "</div>"
      ],
      "text/plain": [
       "                      event_source.hash                  ACCOUNT_NUM.hash  \\\n",
       "0      e35d20e09689545309f1b77627419f2e  02059e815d999bda708149ae263946d3   \n",
       "1      155e3c4f297149ac9ef77f3cfbe5e505  02059e815d999bda708149ae263946d3   \n",
       "2      35361428d4c4195cdb0bb3a464354fcb  02059e815d999bda708149ae263946d3   \n",
       "3      35b46b71deb4bd0453e898356853fce8  02059e815d999bda708149ae263946d3   \n",
       "4      4fd1fbc526c121283d7da3b3f8b6759b  02059e815d999bda708149ae263946d3   \n",
       "...                                 ...                               ...   \n",
       "21762  40d37f19d98b8715bbff5213b5444700  a4025297136f28dce5916f32d1354d24   \n",
       "21763  374eaee71d041ae082536f875b1f019a  a4025297136f28dce5916f32d1354d24   \n",
       "21764                               NaN  720d67e1d56b076413efbd52553c5388   \n",
       "21765                               NaN  8e7a582787f663d030bd2dc31e46ee49   \n",
       "21766                               NaN  627d19cbc4517c839dcdb4bcedf9a42b   \n",
       "\n",
       "                      CUSTOMER_REF.hash                               VAS  \\\n",
       "0      45636ddd123db631d63e246c5d004400                 BB_YouTube Bundle   \n",
       "1      45636ddd123db631d63e246c5d004400                 BB_YouTube Bundle   \n",
       "2      45636ddd123db631d63e246c5d004400                 BB_YouTube Bundle   \n",
       "3      45636ddd123db631d63e246c5d004400                 BB_YouTube Bundle   \n",
       "4      45636ddd123db631d63e246c5d004400                 BB_YouTube Bundle   \n",
       "...                                 ...                               ...   \n",
       "21762  fcf4c4bf00e620cf688c142565a17b1e               BB_Messenger Bundle   \n",
       "21763  fcf4c4bf00e620cf688c142565a17b1e               BB_Messenger Bundle   \n",
       "21764                               NaN                      V_Telehealth   \n",
       "21765                               NaN      FTTH_Gamer Lite Subscription   \n",
       "21766                               NaN  Megaline_Gamer Lite Subscription   \n",
       "\n",
       "      Month_Subscribed Rental  \n",
       "0              2021-02    155  \n",
       "1              2021-02    155  \n",
       "2              2021-02    155  \n",
       "3              2021-02    155  \n",
       "4              2021-02    155  \n",
       "...                ...    ...  \n",
       "21762          2021-05     45  \n",
       "21763          2021-05     45  \n",
       "21764          2020-08    165  \n",
       "21765          2021-04    500  \n",
       "21766          2021-05    500  \n",
       "\n",
       "[21767 rows x 6 columns]"
      ]
     },
     "execution_count": 585,
     "metadata": {},
     "output_type": "execute_result"
    }
   ],
   "source": [
    "vas_common_df = vas_common_df[[\"event_source.hash\",\"ACCOUNT_NUM.hash\",\"CUSTOMER_REF.hash\",\"VAS\",\"Month_Subscribed\",\"Rental\"]]\n",
    "vas_common_df"
   ]
  },
  {
   "cell_type": "code",
   "execution_count": 586,
   "metadata": {},
   "outputs": [
    {
     "data": {
      "text/plain": [
       "BB_YouTube Bundle                   6040\n",
       "P-Basic1_Tele Life                  4380\n",
       "P_Sisu Connect                      3290\n",
       "V_Sisu Connect                      3278\n",
       "C_Sisu Connect                      2817\n",
       "BB_ Entertainment Unlimited          716\n",
       "BB_Messenger Bundle                  439\n",
       "P-Plus1_Tele Life                    245\n",
       "V-Basic1_TeleLife                    218\n",
       "V-Plus1_TeleLife                     193\n",
       "V_Telehealth                         117\n",
       "P-Plus4_Tele Life                      9\n",
       "V-Plus4_TeleLife                       8\n",
       "P-Basic2_Tele Life                     4\n",
       "C-Basic1_Tele Life                     3\n",
       "V-Basic2_TeleLife                      3\n",
       "V-Basic4_TeleLife                      2\n",
       "P-Basic4_Tele Life                     2\n",
       "Megaline_Gamer Lite Subscription       1\n",
       "2462                                   1\n",
       "FTTH_Gamer Lite Subscription           1\n",
       "Name: VAS, dtype: int64"
      ]
     },
     "execution_count": 586,
     "metadata": {},
     "output_type": "execute_result"
    }
   ],
   "source": [
    "vas_common_df[\"VAS\"].value_counts()"
   ]
  },
  {
   "cell_type": "code",
   "execution_count": null,
   "metadata": {},
   "outputs": [],
   "source": []
  },
  {
   "cell_type": "markdown",
   "metadata": {},
   "source": [
    "## VAS Analysis from Product BSS dataset"
   ]
  },
  {
   "cell_type": "code",
   "execution_count": 587,
   "metadata": {},
   "outputs": [
    {
     "data": {
      "text/plain": [
       "array(['AB_Copper Access Bearer', 'V_SLT Voice Service',\n",
       "       'E_SLT PeoTV Service', 'V_E-channeling Registration',\n",
       "       'V_Sisu Connect', 'V-Basic1_TeleLife', 'V_Telehealth',\n",
       "       'V-Plus1_TeleLife', 'V_E-channeling Subscription', nan,\n",
       "       'V-Plus4_TeleLife', 'OTT_SLT PeoTV Go', 'V-Basic2_TeleLife',\n",
       "       'V-Basic4_TeleLife', 'BB_PeoTVGO', 'BB_Personal Storage',\n",
       "       'BB_SLT BroadBand Service', 'BB_Extra GB', 'BB_Detailed Reports ',\n",
       "       'BB_ Entertainment Unlimited', 'BB_SLT Film Hall Service',\n",
       "       'AB_Fiber Access Bearer', 'AB_WireLess Access'], dtype=object)"
      ]
     },
     "execution_count": 587,
     "metadata": {},
     "output_type": "execute_result"
    }
   ],
   "source": [
    "product_cat_df[\"PRODUCT_NAME\"].unique()"
   ]
  },
  {
   "cell_type": "code",
   "execution_count": 588,
   "metadata": {},
   "outputs": [],
   "source": [
    "dss_vas_df =  product_cat_df[[\"PRODUCT_LABEL.hash\",\"CUSTOMER_REF.hash\",\"ACCOUNT_NUM.hash\",\"PRODUCT_NAME\",\"START_DAT\",\"RECURRING_CHARGE\"]]"
   ]
  },
  {
   "cell_type": "code",
   "execution_count": 589,
   "metadata": {},
   "outputs": [
    {
     "name": "stderr",
     "output_type": "stream",
     "text": [
      "<ipython-input-589-251642fb9baf>:1: SettingWithCopyWarning: \n",
      "A value is trying to be set on a copy of a slice from a DataFrame\n",
      "\n",
      "See the caveats in the documentation: https://pandas.pydata.org/pandas-docs/stable/user_guide/indexing.html#returning-a-view-versus-a-copy\n",
      "  dss_vas_df.sort_values(['PRODUCT_LABEL.hash', 'START_DAT'], ascending=[True, True], inplace=True)\n"
     ]
    }
   ],
   "source": [
    "dss_vas_df.sort_values(['PRODUCT_LABEL.hash', 'START_DAT'], ascending=[True, True], inplace=True)"
   ]
  },
  {
   "cell_type": "code",
   "execution_count": 590,
   "metadata": {},
   "outputs": [
    {
     "name": "stderr",
     "output_type": "stream",
     "text": [
      "/home/chiran/anaconda3/lib/python3.8/site-packages/pandas/core/frame.py:4296: SettingWithCopyWarning: \n",
      "A value is trying to be set on a copy of a slice from a DataFrame\n",
      "\n",
      "See the caveats in the documentation: https://pandas.pydata.org/pandas-docs/stable/user_guide/indexing.html#returning-a-view-versus-a-copy\n",
      "  return super().rename(\n"
     ]
    }
   ],
   "source": [
    "dss_vas_df.rename(columns={'PRODUCT_LABEL.hash':'event_source.hash','PRODUCT_NAME':'VAS','START_DAT':'Month_Subscribed',\"RECURRING_CHARGE\":\"Rental\"}, inplace=True)"
   ]
  },
  {
   "cell_type": "markdown",
   "metadata": {},
   "source": [
    "### Exporting Extra GB usage"
   ]
  },
  {
   "cell_type": "code",
   "execution_count": 591,
   "metadata": {},
   "outputs": [],
   "source": [
    "extra_GB_dss_df = dss_vas_df[(dss_vas_df[\"VAS\"]==\"BB_Extra GB\")]"
   ]
  },
  {
   "cell_type": "code",
   "execution_count": 592,
   "metadata": {},
   "outputs": [
    {
     "name": "stdout",
     "output_type": "stream",
     "text": [
      "<class 'pandas.core.frame.DataFrame'>\n",
      "Int64Index: 5372 entries, 50834 to 39372\n",
      "Data columns (total 6 columns):\n",
      " #   Column             Non-Null Count  Dtype         \n",
      "---  ------             --------------  -----         \n",
      " 0   event_source.hash  5372 non-null   object        \n",
      " 1   CUSTOMER_REF.hash  5372 non-null   object        \n",
      " 2   ACCOUNT_NUM.hash   5372 non-null   object        \n",
      " 3   VAS                5372 non-null   object        \n",
      " 4   Month_Subscribed   5372 non-null   datetime64[ns]\n",
      " 5   Rental             0 non-null      float64       \n",
      "dtypes: datetime64[ns](1), float64(1), object(4)\n",
      "memory usage: 293.8+ KB\n"
     ]
    }
   ],
   "source": [
    "extra_GB_dss_df.info()"
   ]
  },
  {
   "cell_type": "code",
   "execution_count": 593,
   "metadata": {},
   "outputs": [
    {
     "data": {
      "text/plain": [
       "BB_Extra GB    5372\n",
       "Name: VAS, dtype: int64"
      ]
     },
     "execution_count": 593,
     "metadata": {},
     "output_type": "execute_result"
    }
   ],
   "source": [
    "extra_GB_dss_df[\"VAS\"].value_counts()"
   ]
  },
  {
   "cell_type": "code",
   "execution_count": 630,
   "metadata": {},
   "outputs": [
    {
     "data": {
      "text/plain": [
       "5372"
      ]
     },
     "execution_count": 630,
     "metadata": {},
     "output_type": "execute_result"
    }
   ],
   "source": [
    "len(extra_GB_dss_df[\"event_source.hash\"].unique())"
   ]
  },
  {
   "cell_type": "code",
   "execution_count": null,
   "metadata": {},
   "outputs": [],
   "source": []
  },
  {
   "cell_type": "code",
   "execution_count": 597,
   "metadata": {},
   "outputs": [],
   "source": [
    "dss_vas_df = dss_vas_df[(dss_vas_df[\"VAS\"]!=\"BB_Extra GB\")]"
   ]
  },
  {
   "cell_type": "code",
   "execution_count": 598,
   "metadata": {},
   "outputs": [],
   "source": [
    "dss_vas_df.drop_duplicates([\"event_source.hash\"],inplace=True,keep=\"last\")"
   ]
  },
  {
   "cell_type": "code",
   "execution_count": 599,
   "metadata": {},
   "outputs": [],
   "source": [
    "# Date correction\n",
    "def date_correct_dss(date):\n",
    "    if len(date)>7:\n",
    "        return date[:7]\n",
    "    else:\n",
    "        return date"
   ]
  },
  {
   "cell_type": "code",
   "execution_count": 600,
   "metadata": {},
   "outputs": [],
   "source": [
    "dss_vas_df[\"Month_Subscribed\"]=dss_vas_df[\"Month_Subscribed\"].apply(lambda x: date_correct_dss(str(x)))"
   ]
  },
  {
   "cell_type": "code",
   "execution_count": 601,
   "metadata": {},
   "outputs": [
    {
     "data": {
      "text/plain": [
       "array(['2018-08', '2020-05', '2018-11', '2019-01', '2018-12', '2019-07',\n",
       "       '2019-10', '2020-03', '2020-01', '2016-10', '2019-04', '2019-02',\n",
       "       '2018-07', '2020-08', '2018-09', '2018-04', '2019-03', '2018-01',\n",
       "       '2019-11', '2017-08', '2019-09', '2019-05', '2018-10', '2020-07',\n",
       "       '2019-08', '2018-02', '2020-06', '2018-03', '2019-12', '2017-04',\n",
       "       '2020-02', '2019-06', '2021-02', '2020-04', '2017-03', '2017-07',\n",
       "       '2017-11', '2014-02', '2018-05', '2020-09', '2017-12', '2016-11',\n",
       "       '2016-09', '2016-05', '2018-06', '2017-01', '2017-06', '2017-02',\n",
       "       '2017-09', '2015-08', '2017-05', '2014-03', '2015-05', '2017-10',\n",
       "       '2016-06', '2016-03', '2015-11', '2021-03', '2016-04', '2015-07',\n",
       "       '2014-01', '2016-08', '2016-01', '2016-07', 'NaT', '2020-10',\n",
       "       '2015-09', '2015-02', '2015-10', '2016-12', '2016-02'],\n",
       "      dtype=object)"
      ]
     },
     "execution_count": 601,
     "metadata": {},
     "output_type": "execute_result"
    }
   ],
   "source": [
    "dss_vas_df[\"Month_Subscribed\"].unique()"
   ]
  },
  {
   "cell_type": "code",
   "execution_count": 602,
   "metadata": {},
   "outputs": [
    {
     "data": {
      "text/html": [
       "<div>\n",
       "<style scoped>\n",
       "    .dataframe tbody tr th:only-of-type {\n",
       "        vertical-align: middle;\n",
       "    }\n",
       "\n",
       "    .dataframe tbody tr th {\n",
       "        vertical-align: top;\n",
       "    }\n",
       "\n",
       "    .dataframe thead th {\n",
       "        text-align: right;\n",
       "    }\n",
       "</style>\n",
       "<table border=\"1\" class=\"dataframe\">\n",
       "  <thead>\n",
       "    <tr style=\"text-align: right;\">\n",
       "      <th></th>\n",
       "      <th>event_source.hash</th>\n",
       "      <th>CUSTOMER_REF.hash</th>\n",
       "      <th>ACCOUNT_NUM.hash</th>\n",
       "      <th>VAS</th>\n",
       "      <th>Month_Subscribed</th>\n",
       "      <th>Rental</th>\n",
       "    </tr>\n",
       "  </thead>\n",
       "  <tbody>\n",
       "    <tr>\n",
       "      <th>10561</th>\n",
       "      <td>00099ff6e175f2b49e7067b20d69e4c3</td>\n",
       "      <td>0552174bba6950523aa45450f6690d02</td>\n",
       "      <td>6b4bfa1e32f513071c6b138a86c3bac9</td>\n",
       "      <td>V_SLT Voice Service</td>\n",
       "      <td>2018-08</td>\n",
       "      <td>NaN</td>\n",
       "    </tr>\n",
       "    <tr>\n",
       "      <th>51545</th>\n",
       "      <td>000f86cd741d4e51303065b5f868e5ab</td>\n",
       "      <td>df4bc5da4eaaaab1d937c3fd2a699c3f</td>\n",
       "      <td>bd0cc5e96b24df6625fc68cbaf71b555</td>\n",
       "      <td>AB_WireLess Access</td>\n",
       "      <td>2020-05</td>\n",
       "      <td>NaN</td>\n",
       "    </tr>\n",
       "    <tr>\n",
       "      <th>11874</th>\n",
       "      <td>00114ae408aa3b489b3f5d9baf7eb7ac</td>\n",
       "      <td>bdfc0b71edc02a021536f91cff85f00a</td>\n",
       "      <td>dd5253ea4772b427cc0e87ff6535b058</td>\n",
       "      <td>AB_Copper Access Bearer</td>\n",
       "      <td>2018-08</td>\n",
       "      <td>NaN</td>\n",
       "    </tr>\n",
       "    <tr>\n",
       "      <th>9346</th>\n",
       "      <td>0014bcaff40182200be0e062cf9051cd</td>\n",
       "      <td>9ef419bc0053418c6d847a3777cc0233</td>\n",
       "      <td>2c98d4759ee2eca3f2d966be8739c1fa</td>\n",
       "      <td>AB_Copper Access Bearer</td>\n",
       "      <td>2018-08</td>\n",
       "      <td>NaN</td>\n",
       "    </tr>\n",
       "    <tr>\n",
       "      <th>2821</th>\n",
       "      <td>00169293c66899b05ad10054c5f9a9c4</td>\n",
       "      <td>d4529a42fb85d23b1589bf04a1b637d6</td>\n",
       "      <td>f22295dcdeb9502825e7d6140bbf8542</td>\n",
       "      <td>AB_Copper Access Bearer</td>\n",
       "      <td>2018-11</td>\n",
       "      <td>NaN</td>\n",
       "    </tr>\n",
       "    <tr>\n",
       "      <th>...</th>\n",
       "      <td>...</td>\n",
       "      <td>...</td>\n",
       "      <td>...</td>\n",
       "      <td>...</td>\n",
       "      <td>...</td>\n",
       "      <td>...</td>\n",
       "    </tr>\n",
       "    <tr>\n",
       "      <th>10666</th>\n",
       "      <td>fffbdf8e718726a5dac393d2014a83cc</td>\n",
       "      <td>51ee71e46ba64034adaf383345028fb8</td>\n",
       "      <td>949e14e85d36002ffb954d42d3366936</td>\n",
       "      <td>V_SLT Voice Service</td>\n",
       "      <td>2018-08</td>\n",
       "      <td>NaN</td>\n",
       "    </tr>\n",
       "    <tr>\n",
       "      <th>19438</th>\n",
       "      <td>fffc787f7b89f0a9401de0dbe3ab2206</td>\n",
       "      <td>df4bc5da4eaaaab1d937c3fd2a699c3f</td>\n",
       "      <td>bd0cc5e96b24df6625fc68cbaf71b555</td>\n",
       "      <td>AB_Copper Access Bearer</td>\n",
       "      <td>2018-09</td>\n",
       "      <td>NaN</td>\n",
       "    </tr>\n",
       "    <tr>\n",
       "      <th>38858</th>\n",
       "      <td>ffff0039c1e0c380c4b890e6997d33c5</td>\n",
       "      <td>cd3b840fb0da1abcc5bfdebaca6cd761</td>\n",
       "      <td>0e1fe0d01f3a2e9619999a1a634ec427</td>\n",
       "      <td>E_SLT PeoTV Service</td>\n",
       "      <td>2020-02</td>\n",
       "      <td>899.0</td>\n",
       "    </tr>\n",
       "    <tr>\n",
       "      <th>33925</th>\n",
       "      <td>ffff41a457d4ad9618d788bdd917e4ce</td>\n",
       "      <td>f5d47ec8993b2e30d200ec5f1c3bae1b</td>\n",
       "      <td>44224bc1e2e7101c90bbad70dbcc5a6c</td>\n",
       "      <td>V_SLT Voice Service</td>\n",
       "      <td>2018-08</td>\n",
       "      <td>NaN</td>\n",
       "    </tr>\n",
       "    <tr>\n",
       "      <th>26738</th>\n",
       "      <td>ffff43d0cc07aff0964f0ae29aa10363</td>\n",
       "      <td>df4bc5da4eaaaab1d937c3fd2a699c3f</td>\n",
       "      <td>bd0cc5e96b24df6625fc68cbaf71b555</td>\n",
       "      <td>V_SLT Voice Service</td>\n",
       "      <td>2018-02</td>\n",
       "      <td>399.0</td>\n",
       "    </tr>\n",
       "  </tbody>\n",
       "</table>\n",
       "<p>27519 rows × 6 columns</p>\n",
       "</div>"
      ],
      "text/plain": [
       "                      event_source.hash                 CUSTOMER_REF.hash  \\\n",
       "10561  00099ff6e175f2b49e7067b20d69e4c3  0552174bba6950523aa45450f6690d02   \n",
       "51545  000f86cd741d4e51303065b5f868e5ab  df4bc5da4eaaaab1d937c3fd2a699c3f   \n",
       "11874  00114ae408aa3b489b3f5d9baf7eb7ac  bdfc0b71edc02a021536f91cff85f00a   \n",
       "9346   0014bcaff40182200be0e062cf9051cd  9ef419bc0053418c6d847a3777cc0233   \n",
       "2821   00169293c66899b05ad10054c5f9a9c4  d4529a42fb85d23b1589bf04a1b637d6   \n",
       "...                                 ...                               ...   \n",
       "10666  fffbdf8e718726a5dac393d2014a83cc  51ee71e46ba64034adaf383345028fb8   \n",
       "19438  fffc787f7b89f0a9401de0dbe3ab2206  df4bc5da4eaaaab1d937c3fd2a699c3f   \n",
       "38858  ffff0039c1e0c380c4b890e6997d33c5  cd3b840fb0da1abcc5bfdebaca6cd761   \n",
       "33925  ffff41a457d4ad9618d788bdd917e4ce  f5d47ec8993b2e30d200ec5f1c3bae1b   \n",
       "26738  ffff43d0cc07aff0964f0ae29aa10363  df4bc5da4eaaaab1d937c3fd2a699c3f   \n",
       "\n",
       "                       ACCOUNT_NUM.hash                      VAS  \\\n",
       "10561  6b4bfa1e32f513071c6b138a86c3bac9      V_SLT Voice Service   \n",
       "51545  bd0cc5e96b24df6625fc68cbaf71b555       AB_WireLess Access   \n",
       "11874  dd5253ea4772b427cc0e87ff6535b058  AB_Copper Access Bearer   \n",
       "9346   2c98d4759ee2eca3f2d966be8739c1fa  AB_Copper Access Bearer   \n",
       "2821   f22295dcdeb9502825e7d6140bbf8542  AB_Copper Access Bearer   \n",
       "...                                 ...                      ...   \n",
       "10666  949e14e85d36002ffb954d42d3366936      V_SLT Voice Service   \n",
       "19438  bd0cc5e96b24df6625fc68cbaf71b555  AB_Copper Access Bearer   \n",
       "38858  0e1fe0d01f3a2e9619999a1a634ec427      E_SLT PeoTV Service   \n",
       "33925  44224bc1e2e7101c90bbad70dbcc5a6c      V_SLT Voice Service   \n",
       "26738  bd0cc5e96b24df6625fc68cbaf71b555      V_SLT Voice Service   \n",
       "\n",
       "      Month_Subscribed  Rental  \n",
       "10561          2018-08     NaN  \n",
       "51545          2020-05     NaN  \n",
       "11874          2018-08     NaN  \n",
       "9346           2018-08     NaN  \n",
       "2821           2018-11     NaN  \n",
       "...                ...     ...  \n",
       "10666          2018-08     NaN  \n",
       "19438          2018-09     NaN  \n",
       "38858          2020-02   899.0  \n",
       "33925          2018-08     NaN  \n",
       "26738          2018-02   399.0  \n",
       "\n",
       "[27519 rows x 6 columns]"
      ]
     },
     "execution_count": 602,
     "metadata": {},
     "output_type": "execute_result"
    }
   ],
   "source": [
    "dss_vas_df"
   ]
  },
  {
   "cell_type": "code",
   "execution_count": 603,
   "metadata": {},
   "outputs": [
    {
     "data": {
      "text/plain": [
       "V_SLT Voice Service            10686\n",
       "AB_Copper Access Bearer         8495\n",
       "BB_SLT BroadBand Service        2221\n",
       "BB_PeoTVGO                      1960\n",
       "BB_Personal Storage             1591\n",
       "AB_WireLess Access              1076\n",
       "E_SLT PeoTV Service             1000\n",
       "AB_Fiber Access Bearer           327\n",
       "V-Basic1_TeleLife                 30\n",
       "V_E-channeling Subscription       30\n",
       "V_E-channeling Registration       27\n",
       "V-Plus1_TeleLife                  23\n",
       "BB_Detailed Reports               20\n",
       "V_Telehealth                      19\n",
       "V_Sisu Connect                     9\n",
       "OTT_SLT PeoTV Go                   2\n",
       "BB_SLT Film Hall Service           2\n",
       "Name: VAS, dtype: int64"
      ]
     },
     "execution_count": 603,
     "metadata": {},
     "output_type": "execute_result"
    }
   ],
   "source": [
    "dss_vas_df[\"VAS\"].value_counts()"
   ]
  },
  {
   "cell_type": "code",
   "execution_count": null,
   "metadata": {},
   "outputs": [],
   "source": []
  },
  {
   "cell_type": "markdown",
   "metadata": {},
   "source": [
    "## VAS OTC Dataset Analysis"
   ]
  },
  {
   "cell_type": "code",
   "execution_count": 604,
   "metadata": {},
   "outputs": [],
   "source": [
    "vas_otc_df = pd.read_excel(\"data/new/VAS_Products_Purchased Dates_OTC.xls\")  \n",
    "vas_otc_df.rename(columns={'CREATED_DTM':'Month_Subscribed','OTC_MNY':'One_Time_Charge','OTC_NAME':'VAS'}, inplace=True)"
   ]
  },
  {
   "cell_type": "code",
   "execution_count": 605,
   "metadata": {},
   "outputs": [],
   "source": [
    "vas_otc_df[\"Month_Subscribed\"]=vas_otc_df[\"Month_Subscribed\"].apply(lambda x: date_correct_common(x))"
   ]
  },
  {
   "cell_type": "code",
   "execution_count": 606,
   "metadata": {},
   "outputs": [],
   "source": [
    "vas_otc_df = vas_otc_df.merge(acc_no_map,how='left',on=\"ACCOUNT_NUM.hash\")"
   ]
  },
  {
   "cell_type": "code",
   "execution_count": 607,
   "metadata": {},
   "outputs": [],
   "source": [
    "vas_otc_df.drop_duplicates([\"ACCOUNT_NUM.hash\",\"VAS\"], inplace=True,keep=\"last\")\n",
    "vas_otc_df.reset_index(inplace=True)\n",
    "vas_otc_df.drop([\"index\"],axis=1, inplace=True)"
   ]
  },
  {
   "cell_type": "code",
   "execution_count": 608,
   "metadata": {},
   "outputs": [
    {
     "data": {
      "text/html": [
       "<div>\n",
       "<style scoped>\n",
       "    .dataframe tbody tr th:only-of-type {\n",
       "        vertical-align: middle;\n",
       "    }\n",
       "\n",
       "    .dataframe tbody tr th {\n",
       "        vertical-align: top;\n",
       "    }\n",
       "\n",
       "    .dataframe thead th {\n",
       "        text-align: right;\n",
       "    }\n",
       "</style>\n",
       "<table border=\"1\" class=\"dataframe\">\n",
       "  <thead>\n",
       "    <tr style=\"text-align: right;\">\n",
       "      <th></th>\n",
       "      <th>event_source.hash</th>\n",
       "      <th>ACCOUNT_NUM.hash</th>\n",
       "      <th>CUSTOMER_REF.hash</th>\n",
       "      <th>VAS</th>\n",
       "      <th>Month_Subscribed</th>\n",
       "      <th>One_Time_Charge</th>\n",
       "    </tr>\n",
       "  </thead>\n",
       "  <tbody>\n",
       "    <tr>\n",
       "      <th>0</th>\n",
       "      <td>b62e16b92a8c0bfda5123caa8541f2c4</td>\n",
       "      <td>7a4e5798abc9c9e314e4c6367da7e558</td>\n",
       "      <td>d872161bae33b29ab110e7b3e27ee71a</td>\n",
       "      <td>Meet Lite</td>\n",
       "      <td>2021-05</td>\n",
       "      <td>195</td>\n",
       "    </tr>\n",
       "    <tr>\n",
       "      <th>1</th>\n",
       "      <td>1301bbe6d521f89a821e6ca74d9aadd3</td>\n",
       "      <td>02059e815d999bda708149ae263946d3</td>\n",
       "      <td>45636ddd123db631d63e246c5d004400</td>\n",
       "      <td>Meet Lite</td>\n",
       "      <td>2021-06</td>\n",
       "      <td>195</td>\n",
       "    </tr>\n",
       "    <tr>\n",
       "      <th>2</th>\n",
       "      <td>fa4b7f2bf5551ec6fcd1a0aa4ca77426</td>\n",
       "      <td>83b2f83faba76ed481f026be3197caaa</td>\n",
       "      <td>b6bac1dbf3576d3030e58dc5cab1dba3</td>\n",
       "      <td>Meet Lite</td>\n",
       "      <td>2021-06</td>\n",
       "      <td>195</td>\n",
       "    </tr>\n",
       "    <tr>\n",
       "      <th>3</th>\n",
       "      <td>c2f6dbe906342b4c683d89b7c2cf5c2d</td>\n",
       "      <td>a3434e3a611ba69b233514072ad2eb79</td>\n",
       "      <td>2c4bbdc33f051df72d0809ba830c40fb</td>\n",
       "      <td>Meet Lite</td>\n",
       "      <td>2021-05</td>\n",
       "      <td>195</td>\n",
       "    </tr>\n",
       "    <tr>\n",
       "      <th>4</th>\n",
       "      <td>6aa589b1cdee431040af0f4f6e56f657</td>\n",
       "      <td>dbbb4011c6cc809850aa01f8ff5fe922</td>\n",
       "      <td>3fd3026756c47f2a4f721ce487d89a3c</td>\n",
       "      <td>Meet Lite</td>\n",
       "      <td>2021-06</td>\n",
       "      <td>195</td>\n",
       "    </tr>\n",
       "    <tr>\n",
       "      <th>...</th>\n",
       "      <td>...</td>\n",
       "      <td>...</td>\n",
       "      <td>...</td>\n",
       "      <td>...</td>\n",
       "      <td>...</td>\n",
       "      <td>...</td>\n",
       "    </tr>\n",
       "    <tr>\n",
       "      <th>425</th>\n",
       "      <td>5ced81bb6210eb65fcb8b17a14e281b8</td>\n",
       "      <td>61112729366efd09e3e609919f2054be</td>\n",
       "      <td>c29c0a17d2afb4d080ab004ed889d1e0</td>\n",
       "      <td>Meet Max</td>\n",
       "      <td>2021-01</td>\n",
       "      <td>490</td>\n",
       "    </tr>\n",
       "    <tr>\n",
       "      <th>426</th>\n",
       "      <td>5ced81bb6210eb65fcb8b17a14e281b8</td>\n",
       "      <td>61112729366efd09e3e609919f2054be</td>\n",
       "      <td>c29c0a17d2afb4d080ab004ed889d1e0</td>\n",
       "      <td>Meet Lite</td>\n",
       "      <td>2021-05</td>\n",
       "      <td>195</td>\n",
       "    </tr>\n",
       "    <tr>\n",
       "      <th>427</th>\n",
       "      <td>93cf0fab32a1e1b38a0a6c6e251e02d7</td>\n",
       "      <td>5ac9d5e02406067f6cc31d5436a5a8fb</td>\n",
       "      <td>75e9de7ac30154bcc87663a420a2f0c6</td>\n",
       "      <td>Meet Lite</td>\n",
       "      <td>2021-04</td>\n",
       "      <td>195</td>\n",
       "    </tr>\n",
       "    <tr>\n",
       "      <th>428</th>\n",
       "      <td>a8a3b2006a2fc841e31ee399389cf10d</td>\n",
       "      <td>4f1ed566c9476815cfe56eab1c22ed05</td>\n",
       "      <td>bd30a3e016ce2e64bb8f50bd70767ad7</td>\n",
       "      <td>Meet Lite</td>\n",
       "      <td>2021-06</td>\n",
       "      <td>195</td>\n",
       "    </tr>\n",
       "    <tr>\n",
       "      <th>429</th>\n",
       "      <td>3c634e8a04a4b19be8cfcdef0e6b2edd</td>\n",
       "      <td>4cf83d8277f8c1cd95199a342092e808</td>\n",
       "      <td>3ec5121585db60541f3a1aabe515a894</td>\n",
       "      <td>Meet Max</td>\n",
       "      <td>2021-02</td>\n",
       "      <td>490</td>\n",
       "    </tr>\n",
       "  </tbody>\n",
       "</table>\n",
       "<p>430 rows × 6 columns</p>\n",
       "</div>"
      ],
      "text/plain": [
       "                    event_source.hash                  ACCOUNT_NUM.hash  \\\n",
       "0    b62e16b92a8c0bfda5123caa8541f2c4  7a4e5798abc9c9e314e4c6367da7e558   \n",
       "1    1301bbe6d521f89a821e6ca74d9aadd3  02059e815d999bda708149ae263946d3   \n",
       "2    fa4b7f2bf5551ec6fcd1a0aa4ca77426  83b2f83faba76ed481f026be3197caaa   \n",
       "3    c2f6dbe906342b4c683d89b7c2cf5c2d  a3434e3a611ba69b233514072ad2eb79   \n",
       "4    6aa589b1cdee431040af0f4f6e56f657  dbbb4011c6cc809850aa01f8ff5fe922   \n",
       "..                                ...                               ...   \n",
       "425  5ced81bb6210eb65fcb8b17a14e281b8  61112729366efd09e3e609919f2054be   \n",
       "426  5ced81bb6210eb65fcb8b17a14e281b8  61112729366efd09e3e609919f2054be   \n",
       "427  93cf0fab32a1e1b38a0a6c6e251e02d7  5ac9d5e02406067f6cc31d5436a5a8fb   \n",
       "428  a8a3b2006a2fc841e31ee399389cf10d  4f1ed566c9476815cfe56eab1c22ed05   \n",
       "429  3c634e8a04a4b19be8cfcdef0e6b2edd  4cf83d8277f8c1cd95199a342092e808   \n",
       "\n",
       "                    CUSTOMER_REF.hash        VAS Month_Subscribed  \\\n",
       "0    d872161bae33b29ab110e7b3e27ee71a  Meet Lite          2021-05   \n",
       "1    45636ddd123db631d63e246c5d004400  Meet Lite          2021-06   \n",
       "2    b6bac1dbf3576d3030e58dc5cab1dba3  Meet Lite          2021-06   \n",
       "3    2c4bbdc33f051df72d0809ba830c40fb  Meet Lite          2021-05   \n",
       "4    3fd3026756c47f2a4f721ce487d89a3c  Meet Lite          2021-06   \n",
       "..                                ...        ...              ...   \n",
       "425  c29c0a17d2afb4d080ab004ed889d1e0   Meet Max          2021-01   \n",
       "426  c29c0a17d2afb4d080ab004ed889d1e0  Meet Lite          2021-05   \n",
       "427  75e9de7ac30154bcc87663a420a2f0c6  Meet Lite          2021-04   \n",
       "428  bd30a3e016ce2e64bb8f50bd70767ad7  Meet Lite          2021-06   \n",
       "429  3ec5121585db60541f3a1aabe515a894   Meet Max          2021-02   \n",
       "\n",
       "     One_Time_Charge  \n",
       "0                195  \n",
       "1                195  \n",
       "2                195  \n",
       "3                195  \n",
       "4                195  \n",
       "..               ...  \n",
       "425              490  \n",
       "426              195  \n",
       "427              195  \n",
       "428              195  \n",
       "429              490  \n",
       "\n",
       "[430 rows x 6 columns]"
      ]
     },
     "execution_count": 608,
     "metadata": {},
     "output_type": "execute_result"
    }
   ],
   "source": [
    "vas_otc_df = vas_otc_df[[\"event_source.hash\",\"ACCOUNT_NUM.hash\",\"CUSTOMER_REF.hash\",\"VAS\",\"Month_Subscribed\",\"One_Time_Charge\"]]\n",
    "vas_otc_df"
   ]
  },
  {
   "cell_type": "code",
   "execution_count": 609,
   "metadata": {},
   "outputs": [
    {
     "data": {
      "text/plain": [
       "Meet Lite    358\n",
       "Meet Max      65\n",
       "Edu Lite       7\n",
       "Name: VAS, dtype: int64"
      ]
     },
     "execution_count": 609,
     "metadata": {},
     "output_type": "execute_result"
    }
   ],
   "source": [
    "vas_otc_df[\"VAS\"].value_counts()"
   ]
  },
  {
   "cell_type": "code",
   "execution_count": null,
   "metadata": {},
   "outputs": [],
   "source": []
  },
  {
   "cell_type": "markdown",
   "metadata": {},
   "source": [
    "## BB VAS Dataset Analysis"
   ]
  },
  {
   "cell_type": "code",
   "execution_count": 610,
   "metadata": {},
   "outputs": [],
   "source": [
    "vas_purchase_df = pd.read_excel(\"data/new/VAS_Products_Purchased Dates_Costed_Events.xls\")  \n",
    "vas_purchase_df.rename(columns={'MM/YYYY':'Month_Subscribed','REV':'Rental','PRODUCT':'VAS'}, inplace=True)"
   ]
  },
  {
   "cell_type": "code",
   "execution_count": 611,
   "metadata": {},
   "outputs": [
    {
     "data": {
      "text/html": [
       "<div>\n",
       "<style scoped>\n",
       "    .dataframe tbody tr th:only-of-type {\n",
       "        vertical-align: middle;\n",
       "    }\n",
       "\n",
       "    .dataframe tbody tr th {\n",
       "        vertical-align: top;\n",
       "    }\n",
       "\n",
       "    .dataframe thead th {\n",
       "        text-align: right;\n",
       "    }\n",
       "</style>\n",
       "<table border=\"1\" class=\"dataframe\">\n",
       "  <thead>\n",
       "    <tr style=\"text-align: right;\">\n",
       "      <th></th>\n",
       "      <th>ACCOUNT_NUM.hash</th>\n",
       "      <th>Month_Subscribed</th>\n",
       "      <th>Rental</th>\n",
       "      <th>VAS</th>\n",
       "      <th></th>\n",
       "    </tr>\n",
       "  </thead>\n",
       "  <tbody>\n",
       "    <tr>\n",
       "      <th>0</th>\n",
       "      <td>949e14e85d36002ffb954d42d3366936</td>\n",
       "      <td>2021-Apr-02 23:56:21</td>\n",
       "      <td>40.0</td>\n",
       "      <td>BB_Report Subscription Charge</td>\n",
       "      <td></td>\n",
       "    </tr>\n",
       "    <tr>\n",
       "      <th>1</th>\n",
       "      <td>949e14e85d36002ffb954d42d3366936</td>\n",
       "      <td>2021-May-03 13:42:03</td>\n",
       "      <td>40.0</td>\n",
       "      <td>BB_Report Subscription Charge</td>\n",
       "      <td></td>\n",
       "    </tr>\n",
       "    <tr>\n",
       "      <th>2</th>\n",
       "      <td>668291ed17c638aaed94f99f7fdf33a5</td>\n",
       "      <td>42017</td>\n",
       "      <td>250.0</td>\n",
       "      <td>BB EXTRA GB</td>\n",
       "      <td></td>\n",
       "    </tr>\n",
       "    <tr>\n",
       "      <th>3</th>\n",
       "      <td>59322724d5029e5667d19ae164cdc16d</td>\n",
       "      <td>12018</td>\n",
       "      <td>750.0</td>\n",
       "      <td>BB EXTRA GB</td>\n",
       "      <td></td>\n",
       "    </tr>\n",
       "    <tr>\n",
       "      <th>4</th>\n",
       "      <td>0e1fe0d01f3a2e9619999a1a634ec427</td>\n",
       "      <td>12018</td>\n",
       "      <td>1500.0</td>\n",
       "      <td>BB EXTRA GB</td>\n",
       "      <td></td>\n",
       "    </tr>\n",
       "    <tr>\n",
       "      <th>...</th>\n",
       "      <td>...</td>\n",
       "      <td>...</td>\n",
       "      <td>...</td>\n",
       "      <td>...</td>\n",
       "      <td>...</td>\n",
       "    </tr>\n",
       "    <tr>\n",
       "      <th>2972</th>\n",
       "      <td>8d8472d39b270801553f2d5e7c06fe22</td>\n",
       "      <td>2021-Mar-03 03:42:49</td>\n",
       "      <td>40.0</td>\n",
       "      <td>BB_Report Subscription Charge</td>\n",
       "      <td></td>\n",
       "    </tr>\n",
       "    <tr>\n",
       "      <th>2973</th>\n",
       "      <td>6f5a50d14f88a8bbed200d30e65ddf20</td>\n",
       "      <td>32020</td>\n",
       "      <td>3400.0</td>\n",
       "      <td>BB EXTRA GB</td>\n",
       "      <td></td>\n",
       "    </tr>\n",
       "    <tr>\n",
       "      <th>2974</th>\n",
       "      <td>8d8472d39b270801553f2d5e7c06fe22</td>\n",
       "      <td>2021-Mar-03 00:28:02</td>\n",
       "      <td>40.0</td>\n",
       "      <td>BB_Report Subscription Charge</td>\n",
       "      <td></td>\n",
       "    </tr>\n",
       "    <tr>\n",
       "      <th>2975</th>\n",
       "      <td>2ea6c5e59c02744c036fe8ff6cccfb7c</td>\n",
       "      <td>52019</td>\n",
       "      <td>1050.0</td>\n",
       "      <td>BB EXTRA GB</td>\n",
       "      <td></td>\n",
       "    </tr>\n",
       "    <tr>\n",
       "      <th>2976</th>\n",
       "      <td>8d8472d39b270801553f2d5e7c06fe22</td>\n",
       "      <td>2021-Mar-01 23:48:04</td>\n",
       "      <td>40.0</td>\n",
       "      <td>BB_Report Subscription Charge</td>\n",
       "      <td></td>\n",
       "    </tr>\n",
       "  </tbody>\n",
       "</table>\n",
       "<p>2977 rows × 5 columns</p>\n",
       "</div>"
      ],
      "text/plain": [
       "                      ACCOUNT_NUM.hash      Month_Subscribed  Rental  \\\n",
       "0     949e14e85d36002ffb954d42d3366936  2021-Apr-02 23:56:21    40.0   \n",
       "1     949e14e85d36002ffb954d42d3366936  2021-May-03 13:42:03    40.0   \n",
       "2     668291ed17c638aaed94f99f7fdf33a5                 42017   250.0   \n",
       "3     59322724d5029e5667d19ae164cdc16d                 12018   750.0   \n",
       "4     0e1fe0d01f3a2e9619999a1a634ec427                 12018  1500.0   \n",
       "...                                ...                   ...     ...   \n",
       "2972  8d8472d39b270801553f2d5e7c06fe22  2021-Mar-03 03:42:49    40.0   \n",
       "2973  6f5a50d14f88a8bbed200d30e65ddf20                 32020  3400.0   \n",
       "2974  8d8472d39b270801553f2d5e7c06fe22  2021-Mar-03 00:28:02    40.0   \n",
       "2975  2ea6c5e59c02744c036fe8ff6cccfb7c                 52019  1050.0   \n",
       "2976  8d8472d39b270801553f2d5e7c06fe22  2021-Mar-01 23:48:04    40.0   \n",
       "\n",
       "                                VAS     \n",
       "0     BB_Report Subscription Charge     \n",
       "1     BB_Report Subscription Charge     \n",
       "2                       BB EXTRA GB     \n",
       "3                       BB EXTRA GB     \n",
       "4                       BB EXTRA GB     \n",
       "...                             ... ..  \n",
       "2972  BB_Report Subscription Charge     \n",
       "2973                    BB EXTRA GB     \n",
       "2974  BB_Report Subscription Charge     \n",
       "2975                    BB EXTRA GB     \n",
       "2976  BB_Report Subscription Charge     \n",
       "\n",
       "[2977 rows x 5 columns]"
      ]
     },
     "execution_count": 611,
     "metadata": {},
     "output_type": "execute_result"
    }
   ],
   "source": [
    "vas_purchase_df"
   ]
  },
  {
   "cell_type": "code",
   "execution_count": 612,
   "metadata": {},
   "outputs": [],
   "source": [
    "# Date correction\n",
    "def date_correct_bb(date):\n",
    "    if len(date)==5:\n",
    "        month = \"0\" + date[0]\n",
    "        year = date[1:]\n",
    "    if len(date)==6:\n",
    "        month=date[:2]\n",
    "        year=date[2:]\n",
    "    if len(date)>6:\n",
    "        year=date[:4]\n",
    "        month=date[9:11]\n",
    "    return f\"{year}-{month}\""
   ]
  },
  {
   "cell_type": "code",
   "execution_count": 613,
   "metadata": {},
   "outputs": [
    {
     "name": "stdout",
     "output_type": "stream",
     "text": [
      "2020-03\n",
      "2017-10\n",
      "2021-02\n"
     ]
    }
   ],
   "source": [
    "# test\n",
    "print(date_correct_bb(\"32020\"))\n",
    "print(date_correct_bb(\"102017\"))\n",
    "print(date_correct_bb(\"2021-May-02 08:02:23\"))"
   ]
  },
  {
   "cell_type": "code",
   "execution_count": 614,
   "metadata": {},
   "outputs": [],
   "source": [
    "vas_purchase_df[\"Month_Subscribed\"]=vas_purchase_df[\"Month_Subscribed\"].apply(lambda x: date_correct_bb(x))"
   ]
  },
  {
   "cell_type": "code",
   "execution_count": 615,
   "metadata": {},
   "outputs": [],
   "source": [
    "vas_purchase_df = vas_purchase_df.merge(acc_no_map,how='left',on=\"ACCOUNT_NUM.hash\")\n",
    "vas_purchase_df.drop_duplicates([\"ACCOUNT_NUM.hash\",\"VAS\",\"Month_Subscribed\"], inplace=True,keep=\"last\")"
   ]
  },
  {
   "cell_type": "code",
   "execution_count": 616,
   "metadata": {},
   "outputs": [],
   "source": [
    "vas_purchase_df = vas_purchase_df[[\"event_source.hash\",\"ACCOUNT_NUM.hash\",\"CUSTOMER_REF.hash\",\"VAS\",\"Month_Subscribed\",\"Rental\"]]"
   ]
  },
  {
   "cell_type": "code",
   "execution_count": 617,
   "metadata": {},
   "outputs": [
    {
     "data": {
      "text/plain": [
       "BB EXTRA GB                      2267\n",
       "BB_Report Subscription Charge     161\n",
       "BB Personal Storage               112\n",
       "Name: VAS, dtype: int64"
      ]
     },
     "execution_count": 617,
     "metadata": {},
     "output_type": "execute_result"
    }
   ],
   "source": [
    "vas_purchase_df[\"VAS\"].value_counts()"
   ]
  },
  {
   "cell_type": "markdown",
   "metadata": {},
   "source": [
    "### Extra GB Usage"
   ]
  },
  {
   "cell_type": "code",
   "execution_count": 648,
   "metadata": {},
   "outputs": [
    {
     "name": "stderr",
     "output_type": "stream",
     "text": [
      "/home/chiran/anaconda3/lib/python3.8/site-packages/pandas/core/frame.py:4163: SettingWithCopyWarning: \n",
      "A value is trying to be set on a copy of a slice from a DataFrame\n",
      "\n",
      "See the caveats in the documentation: https://pandas.pydata.org/pandas-docs/stable/user_guide/indexing.html#returning-a-view-versus-a-copy\n",
      "  return super().drop(\n"
     ]
    },
    {
     "data": {
      "text/html": [
       "<div>\n",
       "<style scoped>\n",
       "    .dataframe tbody tr th:only-of-type {\n",
       "        vertical-align: middle;\n",
       "    }\n",
       "\n",
       "    .dataframe tbody tr th {\n",
       "        vertical-align: top;\n",
       "    }\n",
       "\n",
       "    .dataframe thead th {\n",
       "        text-align: right;\n",
       "    }\n",
       "</style>\n",
       "<table border=\"1\" class=\"dataframe\">\n",
       "  <thead>\n",
       "    <tr style=\"text-align: right;\">\n",
       "      <th></th>\n",
       "      <th>event_source.hash</th>\n",
       "      <th>ACCOUNT_NUM.hash</th>\n",
       "      <th>CUSTOMER_REF.hash</th>\n",
       "      <th>VAS</th>\n",
       "      <th>Month_Subscribed</th>\n",
       "      <th>Rental</th>\n",
       "    </tr>\n",
       "  </thead>\n",
       "  <tbody>\n",
       "    <tr>\n",
       "      <th>0</th>\n",
       "      <td>154adca91f53bf8af4618544147bdab9</td>\n",
       "      <td>668291ed17c638aaed94f99f7fdf33a5</td>\n",
       "      <td>6100520dec9c009ee526b1c518626349</td>\n",
       "      <td>BB EXTRA GB</td>\n",
       "      <td>2017-04</td>\n",
       "      <td>250.0</td>\n",
       "    </tr>\n",
       "    <tr>\n",
       "      <th>1</th>\n",
       "      <td>d285cd403f0bcedf0072777ef9a724d7</td>\n",
       "      <td>59322724d5029e5667d19ae164cdc16d</td>\n",
       "      <td>efeab37d377b0f32b7f70b159f824652</td>\n",
       "      <td>BB EXTRA GB</td>\n",
       "      <td>2018-01</td>\n",
       "      <td>750.0</td>\n",
       "    </tr>\n",
       "    <tr>\n",
       "      <th>2</th>\n",
       "      <td>2e9071894a55e63338baaf062b9f2ae7</td>\n",
       "      <td>0e1fe0d01f3a2e9619999a1a634ec427</td>\n",
       "      <td>cd3b840fb0da1abcc5bfdebaca6cd761</td>\n",
       "      <td>BB EXTRA GB</td>\n",
       "      <td>2018-01</td>\n",
       "      <td>1500.0</td>\n",
       "    </tr>\n",
       "    <tr>\n",
       "      <th>3</th>\n",
       "      <td>5693fe3496dd2588d52cabe07469af1f</td>\n",
       "      <td>0e3e3cabb8b653645ad4268f318a80b8</td>\n",
       "      <td>ea80ab897faee5c372d67f28e5b47c54</td>\n",
       "      <td>BB EXTRA GB</td>\n",
       "      <td>2017-08</td>\n",
       "      <td>750.0</td>\n",
       "    </tr>\n",
       "    <tr>\n",
       "      <th>4</th>\n",
       "      <td>95d08da5227bc513d6c3433a51b68c5c</td>\n",
       "      <td>130a75d8233d72dc5dce070522818bea</td>\n",
       "      <td>dd9255113bd2889330fd040a0b3f2a6c</td>\n",
       "      <td>BB EXTRA GB</td>\n",
       "      <td>2020-06</td>\n",
       "      <td>850.0</td>\n",
       "    </tr>\n",
       "    <tr>\n",
       "      <th>...</th>\n",
       "      <td>...</td>\n",
       "      <td>...</td>\n",
       "      <td>...</td>\n",
       "      <td>...</td>\n",
       "      <td>...</td>\n",
       "      <td>...</td>\n",
       "    </tr>\n",
       "    <tr>\n",
       "      <th>2262</th>\n",
       "      <td>56be2e09143276313dd9b3bc9898f915</td>\n",
       "      <td>9b711e39affb4e5a7a364787253d4c09</td>\n",
       "      <td>624abba7ba601dea285a759b2c284965</td>\n",
       "      <td>BB EXTRA GB</td>\n",
       "      <td>2020-05</td>\n",
       "      <td>3000.0</td>\n",
       "    </tr>\n",
       "    <tr>\n",
       "      <th>2263</th>\n",
       "      <td>fa4b7f2bf5551ec6fcd1a0aa4ca77426</td>\n",
       "      <td>83b2f83faba76ed481f026be3197caaa</td>\n",
       "      <td>b6bac1dbf3576d3030e58dc5cab1dba3</td>\n",
       "      <td>BB EXTRA GB</td>\n",
       "      <td>2020-03</td>\n",
       "      <td>850.0</td>\n",
       "    </tr>\n",
       "    <tr>\n",
       "      <th>2264</th>\n",
       "      <td>b297e76d28de5a7c47e6841bcb1fb371</td>\n",
       "      <td>6c4e0622eabb0cd72da7dee9ac9e1996</td>\n",
       "      <td>3671aef12aa20d351d9e11f01ad0c956</td>\n",
       "      <td>BB EXTRA GB</td>\n",
       "      <td>2020-05</td>\n",
       "      <td>3585.0</td>\n",
       "    </tr>\n",
       "    <tr>\n",
       "      <th>2265</th>\n",
       "      <td>dae260cdb5f4b4ac637c62e7f378bf05</td>\n",
       "      <td>6f5a50d14f88a8bbed200d30e65ddf20</td>\n",
       "      <td>56bcfc6b190063f24de1a57267a8054c</td>\n",
       "      <td>BB EXTRA GB</td>\n",
       "      <td>2020-03</td>\n",
       "      <td>3400.0</td>\n",
       "    </tr>\n",
       "    <tr>\n",
       "      <th>2266</th>\n",
       "      <td>073ccbc9d9cdf62a8cb01301bac5deeb</td>\n",
       "      <td>2ea6c5e59c02744c036fe8ff6cccfb7c</td>\n",
       "      <td>0e6536070be7f081c6c08162792b0161</td>\n",
       "      <td>BB EXTRA GB</td>\n",
       "      <td>2019-05</td>\n",
       "      <td>1050.0</td>\n",
       "    </tr>\n",
       "  </tbody>\n",
       "</table>\n",
       "<p>2267 rows × 6 columns</p>\n",
       "</div>"
      ],
      "text/plain": [
       "                     event_source.hash                  ACCOUNT_NUM.hash  \\\n",
       "0     154adca91f53bf8af4618544147bdab9  668291ed17c638aaed94f99f7fdf33a5   \n",
       "1     d285cd403f0bcedf0072777ef9a724d7  59322724d5029e5667d19ae164cdc16d   \n",
       "2     2e9071894a55e63338baaf062b9f2ae7  0e1fe0d01f3a2e9619999a1a634ec427   \n",
       "3     5693fe3496dd2588d52cabe07469af1f  0e3e3cabb8b653645ad4268f318a80b8   \n",
       "4     95d08da5227bc513d6c3433a51b68c5c  130a75d8233d72dc5dce070522818bea   \n",
       "...                                ...                               ...   \n",
       "2262  56be2e09143276313dd9b3bc9898f915  9b711e39affb4e5a7a364787253d4c09   \n",
       "2263  fa4b7f2bf5551ec6fcd1a0aa4ca77426  83b2f83faba76ed481f026be3197caaa   \n",
       "2264  b297e76d28de5a7c47e6841bcb1fb371  6c4e0622eabb0cd72da7dee9ac9e1996   \n",
       "2265  dae260cdb5f4b4ac637c62e7f378bf05  6f5a50d14f88a8bbed200d30e65ddf20   \n",
       "2266  073ccbc9d9cdf62a8cb01301bac5deeb  2ea6c5e59c02744c036fe8ff6cccfb7c   \n",
       "\n",
       "                     CUSTOMER_REF.hash          VAS Month_Subscribed  Rental  \n",
       "0     6100520dec9c009ee526b1c518626349  BB EXTRA GB          2017-04   250.0  \n",
       "1     efeab37d377b0f32b7f70b159f824652  BB EXTRA GB          2018-01   750.0  \n",
       "2     cd3b840fb0da1abcc5bfdebaca6cd761  BB EXTRA GB          2018-01  1500.0  \n",
       "3     ea80ab897faee5c372d67f28e5b47c54  BB EXTRA GB          2017-08   750.0  \n",
       "4     dd9255113bd2889330fd040a0b3f2a6c  BB EXTRA GB          2020-06   850.0  \n",
       "...                                ...          ...              ...     ...  \n",
       "2262  624abba7ba601dea285a759b2c284965  BB EXTRA GB          2020-05  3000.0  \n",
       "2263  b6bac1dbf3576d3030e58dc5cab1dba3  BB EXTRA GB          2020-03   850.0  \n",
       "2264  3671aef12aa20d351d9e11f01ad0c956  BB EXTRA GB          2020-05  3585.0  \n",
       "2265  56bcfc6b190063f24de1a57267a8054c  BB EXTRA GB          2020-03  3400.0  \n",
       "2266  0e6536070be7f081c6c08162792b0161  BB EXTRA GB          2019-05  1050.0  \n",
       "\n",
       "[2267 rows x 6 columns]"
      ]
     },
     "execution_count": 648,
     "metadata": {},
     "output_type": "execute_result"
    }
   ],
   "source": [
    "extra_GB_df= vas_purchase_df[(vas_purchase_df[\"VAS\"]==\"BB EXTRA GB\")]\n",
    "extra_GB_df.reset_index(inplace=True)\n",
    "extra_GB_df.drop([\"index\"],axis=1,inplace=True)\n",
    "extra_GB_df"
   ]
  },
  {
   "cell_type": "code",
   "execution_count": 637,
   "metadata": {},
   "outputs": [],
   "source": [
    "extra_GB_dss_df= extra_GB_dss_df[[\"event_source.hash\",\"ACCOUNT_NUM.hash\",\"CUSTOMER_REF.hash\",\"VAS\",\"Month_Subscribed\",\"Rental\"]]"
   ]
  },
  {
   "cell_type": "code",
   "execution_count": 645,
   "metadata": {},
   "outputs": [],
   "source": [
    "# Date correction\n",
    "def date_correct_dss(date):\n",
    "    if len(date)>7:\n",
    "        return date[:7]\n",
    "    else:\n",
    "        return date"
   ]
  },
  {
   "cell_type": "code",
   "execution_count": 646,
   "metadata": {},
   "outputs": [],
   "source": [
    "extra_GB_dss_df[\"Month_Subscribed\"]=extra_GB_dss_df[\"Month_Subscribed\"].apply(lambda x: date_correct_dss(str(x)))"
   ]
  },
  {
   "cell_type": "code",
   "execution_count": 647,
   "metadata": {},
   "outputs": [
    {
     "data": {
      "text/html": [
       "<div>\n",
       "<style scoped>\n",
       "    .dataframe tbody tr th:only-of-type {\n",
       "        vertical-align: middle;\n",
       "    }\n",
       "\n",
       "    .dataframe tbody tr th {\n",
       "        vertical-align: top;\n",
       "    }\n",
       "\n",
       "    .dataframe thead th {\n",
       "        text-align: right;\n",
       "    }\n",
       "</style>\n",
       "<table border=\"1\" class=\"dataframe\">\n",
       "  <thead>\n",
       "    <tr style=\"text-align: right;\">\n",
       "      <th></th>\n",
       "      <th>event_source.hash</th>\n",
       "      <th>ACCOUNT_NUM.hash</th>\n",
       "      <th>CUSTOMER_REF.hash</th>\n",
       "      <th>VAS</th>\n",
       "      <th>Month_Subscribed</th>\n",
       "      <th>Rental</th>\n",
       "    </tr>\n",
       "  </thead>\n",
       "  <tbody>\n",
       "    <tr>\n",
       "      <th>50834</th>\n",
       "      <td>00225f30e3f5a4ac69240126f024755f</td>\n",
       "      <td>bd0cc5e96b24df6625fc68cbaf71b555</td>\n",
       "      <td>df4bc5da4eaaaab1d937c3fd2a699c3f</td>\n",
       "      <td>BB_Extra GB</td>\n",
       "      <td>2019-10</td>\n",
       "      <td>NaN</td>\n",
       "    </tr>\n",
       "    <tr>\n",
       "      <th>48573</th>\n",
       "      <td>003796c503ba503e92b152acca7aa9e1</td>\n",
       "      <td>cc88c49f580c13600e99dfd9920d05e9</td>\n",
       "      <td>ac995f79a7164b89de084396352b343b</td>\n",
       "      <td>BB_Extra GB</td>\n",
       "      <td>2018-07</td>\n",
       "      <td>NaN</td>\n",
       "    </tr>\n",
       "    <tr>\n",
       "      <th>56836</th>\n",
       "      <td>004946c192a7aafe74e3ef68dc8b9d15</td>\n",
       "      <td>47cd867e6b0b270d4c6b928319313ccb</td>\n",
       "      <td>7f36cd95f45398e9d1708179771270d6</td>\n",
       "      <td>BB_Extra GB</td>\n",
       "      <td>2019-07</td>\n",
       "      <td>NaN</td>\n",
       "    </tr>\n",
       "    <tr>\n",
       "      <th>41218</th>\n",
       "      <td>0053b5b4e3a748da7aeaa43e127ee40c</td>\n",
       "      <td>9886d2e4e61e33d0a4388667c7bfc68c</td>\n",
       "      <td>25765bc4c44f0184136f85a94d129d56</td>\n",
       "      <td>BB_Extra GB</td>\n",
       "      <td>2017-11</td>\n",
       "      <td>NaN</td>\n",
       "    </tr>\n",
       "    <tr>\n",
       "      <th>47334</th>\n",
       "      <td>007662007b72abdb92b814e307cd6ba2</td>\n",
       "      <td>83041b23b6ad1c70326076d1210fa761</td>\n",
       "      <td>ac995f79a7164b89de084396352b343b</td>\n",
       "      <td>BB_Extra GB</td>\n",
       "      <td>2019-10</td>\n",
       "      <td>NaN</td>\n",
       "    </tr>\n",
       "    <tr>\n",
       "      <th>...</th>\n",
       "      <td>...</td>\n",
       "      <td>...</td>\n",
       "      <td>...</td>\n",
       "      <td>...</td>\n",
       "      <td>...</td>\n",
       "      <td>...</td>\n",
       "    </tr>\n",
       "    <tr>\n",
       "      <th>45060</th>\n",
       "      <td>ff9af3469305b3bbd039b8dcf481a729</td>\n",
       "      <td>5086899186b6fd65e370c42ac49dca61</td>\n",
       "      <td>b57dca23418175ddb886fcc67d4cbf76</td>\n",
       "      <td>BB_Extra GB</td>\n",
       "      <td>2018-08</td>\n",
       "      <td>NaN</td>\n",
       "    </tr>\n",
       "    <tr>\n",
       "      <th>39488</th>\n",
       "      <td>ffa799c5bee3d1560685c808a0de72b9</td>\n",
       "      <td>bb57e0928c585a797e231c828d41fd28</td>\n",
       "      <td>7864a8f51e5136ce029c86d11c644959</td>\n",
       "      <td>BB_Extra GB</td>\n",
       "      <td>2019-06</td>\n",
       "      <td>NaN</td>\n",
       "    </tr>\n",
       "    <tr>\n",
       "      <th>58285</th>\n",
       "      <td>ffd8ecc898573984b2992f7931899d2b</td>\n",
       "      <td>a88cf429a820eb62f5859ad4369dd728</td>\n",
       "      <td>9ff074682225431ff063ec64e53fe6e2</td>\n",
       "      <td>BB_Extra GB</td>\n",
       "      <td>2019-12</td>\n",
       "      <td>NaN</td>\n",
       "    </tr>\n",
       "    <tr>\n",
       "      <th>44302</th>\n",
       "      <td>ffea7843d6d18363551948c6553ca77a</td>\n",
       "      <td>16ba7704ef69803d3d41ebde44ad1c06</td>\n",
       "      <td>f7f58f60160d44ff1205c52c8676999f</td>\n",
       "      <td>BB_Extra GB</td>\n",
       "      <td>2018-08</td>\n",
       "      <td>NaN</td>\n",
       "    </tr>\n",
       "    <tr>\n",
       "      <th>39372</th>\n",
       "      <td>fffb5e3c6693a35fbab056cb7bb374e8</td>\n",
       "      <td>af66a61a98c385584e3fccfd8dcc5412</td>\n",
       "      <td>1eca97f3ce8ee40e866677fdccc1d60e</td>\n",
       "      <td>BB_Extra GB</td>\n",
       "      <td>2019-04</td>\n",
       "      <td>NaN</td>\n",
       "    </tr>\n",
       "  </tbody>\n",
       "</table>\n",
       "<p>5372 rows × 6 columns</p>\n",
       "</div>"
      ],
      "text/plain": [
       "                      event_source.hash                  ACCOUNT_NUM.hash  \\\n",
       "50834  00225f30e3f5a4ac69240126f024755f  bd0cc5e96b24df6625fc68cbaf71b555   \n",
       "48573  003796c503ba503e92b152acca7aa9e1  cc88c49f580c13600e99dfd9920d05e9   \n",
       "56836  004946c192a7aafe74e3ef68dc8b9d15  47cd867e6b0b270d4c6b928319313ccb   \n",
       "41218  0053b5b4e3a748da7aeaa43e127ee40c  9886d2e4e61e33d0a4388667c7bfc68c   \n",
       "47334  007662007b72abdb92b814e307cd6ba2  83041b23b6ad1c70326076d1210fa761   \n",
       "...                                 ...                               ...   \n",
       "45060  ff9af3469305b3bbd039b8dcf481a729  5086899186b6fd65e370c42ac49dca61   \n",
       "39488  ffa799c5bee3d1560685c808a0de72b9  bb57e0928c585a797e231c828d41fd28   \n",
       "58285  ffd8ecc898573984b2992f7931899d2b  a88cf429a820eb62f5859ad4369dd728   \n",
       "44302  ffea7843d6d18363551948c6553ca77a  16ba7704ef69803d3d41ebde44ad1c06   \n",
       "39372  fffb5e3c6693a35fbab056cb7bb374e8  af66a61a98c385584e3fccfd8dcc5412   \n",
       "\n",
       "                      CUSTOMER_REF.hash          VAS Month_Subscribed  Rental  \n",
       "50834  df4bc5da4eaaaab1d937c3fd2a699c3f  BB_Extra GB          2019-10     NaN  \n",
       "48573  ac995f79a7164b89de084396352b343b  BB_Extra GB          2018-07     NaN  \n",
       "56836  7f36cd95f45398e9d1708179771270d6  BB_Extra GB          2019-07     NaN  \n",
       "41218  25765bc4c44f0184136f85a94d129d56  BB_Extra GB          2017-11     NaN  \n",
       "47334  ac995f79a7164b89de084396352b343b  BB_Extra GB          2019-10     NaN  \n",
       "...                                 ...          ...              ...     ...  \n",
       "45060  b57dca23418175ddb886fcc67d4cbf76  BB_Extra GB          2018-08     NaN  \n",
       "39488  7864a8f51e5136ce029c86d11c644959  BB_Extra GB          2019-06     NaN  \n",
       "58285  9ff074682225431ff063ec64e53fe6e2  BB_Extra GB          2019-12     NaN  \n",
       "44302  f7f58f60160d44ff1205c52c8676999f  BB_Extra GB          2018-08     NaN  \n",
       "39372  1eca97f3ce8ee40e866677fdccc1d60e  BB_Extra GB          2019-04     NaN  \n",
       "\n",
       "[5372 rows x 6 columns]"
      ]
     },
     "execution_count": 647,
     "metadata": {},
     "output_type": "execute_result"
    }
   ],
   "source": [
    "extra_GB_dss_df"
   ]
  },
  {
   "cell_type": "code",
   "execution_count": 649,
   "metadata": {},
   "outputs": [],
   "source": [
    "extra_GB_df = pd.concat([extra_GB_dss_df, extra_GB_df], ignore_index=True)"
   ]
  },
  {
   "cell_type": "code",
   "execution_count": 654,
   "metadata": {},
   "outputs": [
    {
     "data": {
      "text/plain": [
       "array(['2019-10', '2018-07', '2019-07', '2017-11', '2019-04', '2018-12',\n",
       "       '2018-09', '2018-08', '2020-01', '2017-01', '2019-05', '2019-11',\n",
       "       '2017-08', '2019-03', '2020-06', '2020-02', '2019-12', '2020-03',\n",
       "       '2017-07', '2018-01', '2017-12', '2020-07', '2019-01', '2019-02',\n",
       "       '2019-06', '2017-06', '2018-04', '2016-10', '2020-08', '2020-04',\n",
       "       '2019-09', '2018-10', '2015-10', '2016-11', '2016-06', '2018-06',\n",
       "       '2019-08', '2016-04', '2018-11', '2020-05', '2020-09', '2018-02',\n",
       "       '2017-02', '2018-05', '2017-04', '2017-03', '2015-09', '2017-10',\n",
       "       '2018-03', '2014-03', '2014-01', '2016-07', '2016-09', '2016-03',\n",
       "       '2016-05', '2014-02', '2016-08', '2017-05', '2015-08', '2015-05',\n",
       "       '2017-09', '2016-01', '2021-03', '2016-12', '2013-05', '2013-06',\n",
       "       '2013-01', '2013-03', '2013-07', '2013-02', '2015-12', '2013-04',\n",
       "       '2016-02', '2015-11'], dtype=object)"
      ]
     },
     "execution_count": 654,
     "metadata": {},
     "output_type": "execute_result"
    }
   ],
   "source": [
    "extra_GB_df[\"Month_Subscribed\"].unique()"
   ]
  },
  {
   "cell_type": "code",
   "execution_count": 650,
   "metadata": {},
   "outputs": [
    {
     "data": {
      "text/plain": [
       "5491"
      ]
     },
     "execution_count": 650,
     "metadata": {},
     "output_type": "execute_result"
    }
   ],
   "source": [
    "len(extra_GB_df[\"event_source.hash\"].unique())"
   ]
  },
  {
   "cell_type": "code",
   "execution_count": 651,
   "metadata": {},
   "outputs": [],
   "source": [
    "extra_GB_df.to_csv(\"data/user_profile/BB_extra_GB_usage.csv\")"
   ]
  },
  {
   "cell_type": "markdown",
   "metadata": {},
   "source": [
    "#### Extra GB Usage pivot matrix"
   ]
  },
  {
   "cell_type": "code",
   "execution_count": 655,
   "metadata": {},
   "outputs": [],
   "source": [
    "extra_GB_pivot_df = pd.pivot_table(extra_GB_df[[\"event_source.hash\",\"Month_Subscribed\",\"Rental\"]],index=['event_source.hash'],columns=['Month_Subscribed'], aggfunc=np.sum, fill_value=0)"
   ]
  },
  {
   "cell_type": "code",
   "execution_count": 656,
   "metadata": {},
   "outputs": [
    {
     "data": {
      "text/html": [
       "<div>\n",
       "<style scoped>\n",
       "    .dataframe tbody tr th:only-of-type {\n",
       "        vertical-align: middle;\n",
       "    }\n",
       "\n",
       "    .dataframe tbody tr th {\n",
       "        vertical-align: top;\n",
       "    }\n",
       "\n",
       "    .dataframe thead tr th {\n",
       "        text-align: left;\n",
       "    }\n",
       "\n",
       "    .dataframe thead tr:last-of-type th {\n",
       "        text-align: right;\n",
       "    }\n",
       "</style>\n",
       "<table border=\"1\" class=\"dataframe\">\n",
       "  <thead>\n",
       "    <tr>\n",
       "      <th></th>\n",
       "      <th colspan=\"21\" halign=\"left\">Rental</th>\n",
       "    </tr>\n",
       "    <tr>\n",
       "      <th>Month_Subscribed</th>\n",
       "      <th>2013-01</th>\n",
       "      <th>2013-02</th>\n",
       "      <th>2013-03</th>\n",
       "      <th>2013-04</th>\n",
       "      <th>2013-05</th>\n",
       "      <th>2013-06</th>\n",
       "      <th>2013-07</th>\n",
       "      <th>2014-01</th>\n",
       "      <th>2014-02</th>\n",
       "      <th>2014-03</th>\n",
       "      <th>...</th>\n",
       "      <th>2020-01</th>\n",
       "      <th>2020-02</th>\n",
       "      <th>2020-03</th>\n",
       "      <th>2020-04</th>\n",
       "      <th>2020-05</th>\n",
       "      <th>2020-06</th>\n",
       "      <th>2020-07</th>\n",
       "      <th>2020-08</th>\n",
       "      <th>2020-09</th>\n",
       "      <th>2021-03</th>\n",
       "    </tr>\n",
       "    <tr>\n",
       "      <th>event_source.hash</th>\n",
       "      <th></th>\n",
       "      <th></th>\n",
       "      <th></th>\n",
       "      <th></th>\n",
       "      <th></th>\n",
       "      <th></th>\n",
       "      <th></th>\n",
       "      <th></th>\n",
       "      <th></th>\n",
       "      <th></th>\n",
       "      <th></th>\n",
       "      <th></th>\n",
       "      <th></th>\n",
       "      <th></th>\n",
       "      <th></th>\n",
       "      <th></th>\n",
       "      <th></th>\n",
       "      <th></th>\n",
       "      <th></th>\n",
       "      <th></th>\n",
       "      <th></th>\n",
       "    </tr>\n",
       "  </thead>\n",
       "  <tbody>\n",
       "    <tr>\n",
       "      <th>00225f30e3f5a4ac69240126f024755f</th>\n",
       "      <td>0</td>\n",
       "      <td>0</td>\n",
       "      <td>0</td>\n",
       "      <td>0</td>\n",
       "      <td>0</td>\n",
       "      <td>0</td>\n",
       "      <td>0</td>\n",
       "      <td>0</td>\n",
       "      <td>0</td>\n",
       "      <td>0</td>\n",
       "      <td>...</td>\n",
       "      <td>0</td>\n",
       "      <td>0</td>\n",
       "      <td>0</td>\n",
       "      <td>0</td>\n",
       "      <td>0</td>\n",
       "      <td>0</td>\n",
       "      <td>0</td>\n",
       "      <td>0</td>\n",
       "      <td>0</td>\n",
       "      <td>0</td>\n",
       "    </tr>\n",
       "    <tr>\n",
       "      <th>003796c503ba503e92b152acca7aa9e1</th>\n",
       "      <td>0</td>\n",
       "      <td>0</td>\n",
       "      <td>0</td>\n",
       "      <td>0</td>\n",
       "      <td>0</td>\n",
       "      <td>0</td>\n",
       "      <td>0</td>\n",
       "      <td>0</td>\n",
       "      <td>0</td>\n",
       "      <td>0</td>\n",
       "      <td>...</td>\n",
       "      <td>0</td>\n",
       "      <td>0</td>\n",
       "      <td>0</td>\n",
       "      <td>0</td>\n",
       "      <td>0</td>\n",
       "      <td>0</td>\n",
       "      <td>0</td>\n",
       "      <td>0</td>\n",
       "      <td>0</td>\n",
       "      <td>0</td>\n",
       "    </tr>\n",
       "    <tr>\n",
       "      <th>004946c192a7aafe74e3ef68dc8b9d15</th>\n",
       "      <td>0</td>\n",
       "      <td>0</td>\n",
       "      <td>0</td>\n",
       "      <td>0</td>\n",
       "      <td>0</td>\n",
       "      <td>0</td>\n",
       "      <td>0</td>\n",
       "      <td>0</td>\n",
       "      <td>0</td>\n",
       "      <td>0</td>\n",
       "      <td>...</td>\n",
       "      <td>0</td>\n",
       "      <td>0</td>\n",
       "      <td>0</td>\n",
       "      <td>0</td>\n",
       "      <td>0</td>\n",
       "      <td>0</td>\n",
       "      <td>0</td>\n",
       "      <td>0</td>\n",
       "      <td>0</td>\n",
       "      <td>0</td>\n",
       "    </tr>\n",
       "    <tr>\n",
       "      <th>0053b5b4e3a748da7aeaa43e127ee40c</th>\n",
       "      <td>0</td>\n",
       "      <td>0</td>\n",
       "      <td>0</td>\n",
       "      <td>0</td>\n",
       "      <td>0</td>\n",
       "      <td>0</td>\n",
       "      <td>0</td>\n",
       "      <td>0</td>\n",
       "      <td>0</td>\n",
       "      <td>0</td>\n",
       "      <td>...</td>\n",
       "      <td>0</td>\n",
       "      <td>0</td>\n",
       "      <td>0</td>\n",
       "      <td>0</td>\n",
       "      <td>0</td>\n",
       "      <td>0</td>\n",
       "      <td>0</td>\n",
       "      <td>0</td>\n",
       "      <td>0</td>\n",
       "      <td>0</td>\n",
       "    </tr>\n",
       "    <tr>\n",
       "      <th>007662007b72abdb92b814e307cd6ba2</th>\n",
       "      <td>0</td>\n",
       "      <td>0</td>\n",
       "      <td>0</td>\n",
       "      <td>0</td>\n",
       "      <td>0</td>\n",
       "      <td>0</td>\n",
       "      <td>0</td>\n",
       "      <td>0</td>\n",
       "      <td>0</td>\n",
       "      <td>0</td>\n",
       "      <td>...</td>\n",
       "      <td>0</td>\n",
       "      <td>0</td>\n",
       "      <td>0</td>\n",
       "      <td>0</td>\n",
       "      <td>0</td>\n",
       "      <td>0</td>\n",
       "      <td>0</td>\n",
       "      <td>0</td>\n",
       "      <td>0</td>\n",
       "      <td>0</td>\n",
       "    </tr>\n",
       "    <tr>\n",
       "      <th>...</th>\n",
       "      <td>...</td>\n",
       "      <td>...</td>\n",
       "      <td>...</td>\n",
       "      <td>...</td>\n",
       "      <td>...</td>\n",
       "      <td>...</td>\n",
       "      <td>...</td>\n",
       "      <td>...</td>\n",
       "      <td>...</td>\n",
       "      <td>...</td>\n",
       "      <td>...</td>\n",
       "      <td>...</td>\n",
       "      <td>...</td>\n",
       "      <td>...</td>\n",
       "      <td>...</td>\n",
       "      <td>...</td>\n",
       "      <td>...</td>\n",
       "      <td>...</td>\n",
       "      <td>...</td>\n",
       "      <td>...</td>\n",
       "      <td>...</td>\n",
       "    </tr>\n",
       "    <tr>\n",
       "      <th>ff9af3469305b3bbd039b8dcf481a729</th>\n",
       "      <td>0</td>\n",
       "      <td>0</td>\n",
       "      <td>0</td>\n",
       "      <td>0</td>\n",
       "      <td>0</td>\n",
       "      <td>0</td>\n",
       "      <td>0</td>\n",
       "      <td>0</td>\n",
       "      <td>0</td>\n",
       "      <td>0</td>\n",
       "      <td>...</td>\n",
       "      <td>0</td>\n",
       "      <td>0</td>\n",
       "      <td>0</td>\n",
       "      <td>0</td>\n",
       "      <td>0</td>\n",
       "      <td>0</td>\n",
       "      <td>0</td>\n",
       "      <td>0</td>\n",
       "      <td>0</td>\n",
       "      <td>0</td>\n",
       "    </tr>\n",
       "    <tr>\n",
       "      <th>ffa799c5bee3d1560685c808a0de72b9</th>\n",
       "      <td>0</td>\n",
       "      <td>0</td>\n",
       "      <td>0</td>\n",
       "      <td>0</td>\n",
       "      <td>0</td>\n",
       "      <td>0</td>\n",
       "      <td>0</td>\n",
       "      <td>0</td>\n",
       "      <td>0</td>\n",
       "      <td>0</td>\n",
       "      <td>...</td>\n",
       "      <td>0</td>\n",
       "      <td>0</td>\n",
       "      <td>0</td>\n",
       "      <td>0</td>\n",
       "      <td>0</td>\n",
       "      <td>0</td>\n",
       "      <td>0</td>\n",
       "      <td>0</td>\n",
       "      <td>0</td>\n",
       "      <td>0</td>\n",
       "    </tr>\n",
       "    <tr>\n",
       "      <th>ffd8ecc898573984b2992f7931899d2b</th>\n",
       "      <td>0</td>\n",
       "      <td>0</td>\n",
       "      <td>0</td>\n",
       "      <td>0</td>\n",
       "      <td>0</td>\n",
       "      <td>0</td>\n",
       "      <td>0</td>\n",
       "      <td>0</td>\n",
       "      <td>0</td>\n",
       "      <td>0</td>\n",
       "      <td>...</td>\n",
       "      <td>0</td>\n",
       "      <td>0</td>\n",
       "      <td>0</td>\n",
       "      <td>0</td>\n",
       "      <td>0</td>\n",
       "      <td>0</td>\n",
       "      <td>0</td>\n",
       "      <td>0</td>\n",
       "      <td>0</td>\n",
       "      <td>0</td>\n",
       "    </tr>\n",
       "    <tr>\n",
       "      <th>ffea7843d6d18363551948c6553ca77a</th>\n",
       "      <td>0</td>\n",
       "      <td>0</td>\n",
       "      <td>0</td>\n",
       "      <td>0</td>\n",
       "      <td>0</td>\n",
       "      <td>0</td>\n",
       "      <td>0</td>\n",
       "      <td>0</td>\n",
       "      <td>0</td>\n",
       "      <td>0</td>\n",
       "      <td>...</td>\n",
       "      <td>0</td>\n",
       "      <td>0</td>\n",
       "      <td>0</td>\n",
       "      <td>0</td>\n",
       "      <td>0</td>\n",
       "      <td>0</td>\n",
       "      <td>0</td>\n",
       "      <td>0</td>\n",
       "      <td>0</td>\n",
       "      <td>0</td>\n",
       "    </tr>\n",
       "    <tr>\n",
       "      <th>fffb5e3c6693a35fbab056cb7bb374e8</th>\n",
       "      <td>0</td>\n",
       "      <td>0</td>\n",
       "      <td>0</td>\n",
       "      <td>0</td>\n",
       "      <td>0</td>\n",
       "      <td>0</td>\n",
       "      <td>0</td>\n",
       "      <td>0</td>\n",
       "      <td>0</td>\n",
       "      <td>0</td>\n",
       "      <td>...</td>\n",
       "      <td>0</td>\n",
       "      <td>0</td>\n",
       "      <td>0</td>\n",
       "      <td>0</td>\n",
       "      <td>0</td>\n",
       "      <td>0</td>\n",
       "      <td>0</td>\n",
       "      <td>0</td>\n",
       "      <td>0</td>\n",
       "      <td>0</td>\n",
       "    </tr>\n",
       "  </tbody>\n",
       "</table>\n",
       "<p>5490 rows × 74 columns</p>\n",
       "</div>"
      ],
      "text/plain": [
       "                                  Rental                                  \\\n",
       "Month_Subscribed                 2013-01 2013-02 2013-03 2013-04 2013-05   \n",
       "event_source.hash                                                          \n",
       "00225f30e3f5a4ac69240126f024755f       0       0       0       0       0   \n",
       "003796c503ba503e92b152acca7aa9e1       0       0       0       0       0   \n",
       "004946c192a7aafe74e3ef68dc8b9d15       0       0       0       0       0   \n",
       "0053b5b4e3a748da7aeaa43e127ee40c       0       0       0       0       0   \n",
       "007662007b72abdb92b814e307cd6ba2       0       0       0       0       0   \n",
       "...                                  ...     ...     ...     ...     ...   \n",
       "ff9af3469305b3bbd039b8dcf481a729       0       0       0       0       0   \n",
       "ffa799c5bee3d1560685c808a0de72b9       0       0       0       0       0   \n",
       "ffd8ecc898573984b2992f7931899d2b       0       0       0       0       0   \n",
       "ffea7843d6d18363551948c6553ca77a       0       0       0       0       0   \n",
       "fffb5e3c6693a35fbab056cb7bb374e8       0       0       0       0       0   \n",
       "\n",
       "                                                                          ...  \\\n",
       "Month_Subscribed                 2013-06 2013-07 2014-01 2014-02 2014-03  ...   \n",
       "event_source.hash                                                         ...   \n",
       "00225f30e3f5a4ac69240126f024755f       0       0       0       0       0  ...   \n",
       "003796c503ba503e92b152acca7aa9e1       0       0       0       0       0  ...   \n",
       "004946c192a7aafe74e3ef68dc8b9d15       0       0       0       0       0  ...   \n",
       "0053b5b4e3a748da7aeaa43e127ee40c       0       0       0       0       0  ...   \n",
       "007662007b72abdb92b814e307cd6ba2       0       0       0       0       0  ...   \n",
       "...                                  ...     ...     ...     ...     ...  ...   \n",
       "ff9af3469305b3bbd039b8dcf481a729       0       0       0       0       0  ...   \n",
       "ffa799c5bee3d1560685c808a0de72b9       0       0       0       0       0  ...   \n",
       "ffd8ecc898573984b2992f7931899d2b       0       0       0       0       0  ...   \n",
       "ffea7843d6d18363551948c6553ca77a       0       0       0       0       0  ...   \n",
       "fffb5e3c6693a35fbab056cb7bb374e8       0       0       0       0       0  ...   \n",
       "\n",
       "                                                                          \\\n",
       "Month_Subscribed                 2020-01 2020-02 2020-03 2020-04 2020-05   \n",
       "event_source.hash                                                          \n",
       "00225f30e3f5a4ac69240126f024755f       0       0       0       0       0   \n",
       "003796c503ba503e92b152acca7aa9e1       0       0       0       0       0   \n",
       "004946c192a7aafe74e3ef68dc8b9d15       0       0       0       0       0   \n",
       "0053b5b4e3a748da7aeaa43e127ee40c       0       0       0       0       0   \n",
       "007662007b72abdb92b814e307cd6ba2       0       0       0       0       0   \n",
       "...                                  ...     ...     ...     ...     ...   \n",
       "ff9af3469305b3bbd039b8dcf481a729       0       0       0       0       0   \n",
       "ffa799c5bee3d1560685c808a0de72b9       0       0       0       0       0   \n",
       "ffd8ecc898573984b2992f7931899d2b       0       0       0       0       0   \n",
       "ffea7843d6d18363551948c6553ca77a       0       0       0       0       0   \n",
       "fffb5e3c6693a35fbab056cb7bb374e8       0       0       0       0       0   \n",
       "\n",
       "                                                                          \n",
       "Month_Subscribed                 2020-06 2020-07 2020-08 2020-09 2021-03  \n",
       "event_source.hash                                                         \n",
       "00225f30e3f5a4ac69240126f024755f       0       0       0       0       0  \n",
       "003796c503ba503e92b152acca7aa9e1       0       0       0       0       0  \n",
       "004946c192a7aafe74e3ef68dc8b9d15       0       0       0       0       0  \n",
       "0053b5b4e3a748da7aeaa43e127ee40c       0       0       0       0       0  \n",
       "007662007b72abdb92b814e307cd6ba2       0       0       0       0       0  \n",
       "...                                  ...     ...     ...     ...     ...  \n",
       "ff9af3469305b3bbd039b8dcf481a729       0       0       0       0       0  \n",
       "ffa799c5bee3d1560685c808a0de72b9       0       0       0       0       0  \n",
       "ffd8ecc898573984b2992f7931899d2b       0       0       0       0       0  \n",
       "ffea7843d6d18363551948c6553ca77a       0       0       0       0       0  \n",
       "fffb5e3c6693a35fbab056cb7bb374e8       0       0       0       0       0  \n",
       "\n",
       "[5490 rows x 74 columns]"
      ]
     },
     "execution_count": 656,
     "metadata": {},
     "output_type": "execute_result"
    }
   ],
   "source": [
    "extra_GB_pivot_df"
   ]
  },
  {
   "cell_type": "code",
   "execution_count": 657,
   "metadata": {},
   "outputs": [],
   "source": [
    "extra_GB_pivot_df.to_csv(\"data/user_profile/BB_extra_GB_usage_pivot_extended.csv\")"
   ]
  },
  {
   "cell_type": "markdown",
   "metadata": {},
   "source": [
    "#### Insights\n",
    "- 5490 Unique customers - extra GB purchases in moths vary from 2013-2021"
   ]
  },
  {
   "cell_type": "code",
   "execution_count": null,
   "metadata": {},
   "outputs": [],
   "source": []
  },
  {
   "cell_type": "markdown",
   "metadata": {},
   "source": [
    "### Other BB VAS"
   ]
  },
  {
   "cell_type": "code",
   "execution_count": 658,
   "metadata": {},
   "outputs": [
    {
     "name": "stderr",
     "output_type": "stream",
     "text": [
      "/home/chiran/anaconda3/lib/python3.8/site-packages/pandas/core/frame.py:4163: SettingWithCopyWarning: \n",
      "A value is trying to be set on a copy of a slice from a DataFrame\n",
      "\n",
      "See the caveats in the documentation: https://pandas.pydata.org/pandas-docs/stable/user_guide/indexing.html#returning-a-view-versus-a-copy\n",
      "  return super().drop(\n"
     ]
    },
    {
     "data": {
      "text/html": [
       "<div>\n",
       "<style scoped>\n",
       "    .dataframe tbody tr th:only-of-type {\n",
       "        vertical-align: middle;\n",
       "    }\n",
       "\n",
       "    .dataframe tbody tr th {\n",
       "        vertical-align: top;\n",
       "    }\n",
       "\n",
       "    .dataframe thead th {\n",
       "        text-align: right;\n",
       "    }\n",
       "</style>\n",
       "<table border=\"1\" class=\"dataframe\">\n",
       "  <thead>\n",
       "    <tr style=\"text-align: right;\">\n",
       "      <th></th>\n",
       "      <th>event_source.hash</th>\n",
       "      <th>ACCOUNT_NUM.hash</th>\n",
       "      <th>CUSTOMER_REF.hash</th>\n",
       "      <th>VAS</th>\n",
       "      <th>Month_Subscribed</th>\n",
       "      <th>Rental</th>\n",
       "    </tr>\n",
       "  </thead>\n",
       "  <tbody>\n",
       "    <tr>\n",
       "      <th>0</th>\n",
       "      <td>4d4543b0adead7d90996b7108ba5b9f5</td>\n",
       "      <td>b027d65390a0c725b9ce41e409f9797e</td>\n",
       "      <td>f915b183884f8197b358c9638584531c</td>\n",
       "      <td>BB_Report Subscription Charge</td>\n",
       "      <td>2021-03</td>\n",
       "      <td>40.0</td>\n",
       "    </tr>\n",
       "    <tr>\n",
       "      <th>1</th>\n",
       "      <td>9b926391a08ef2e505ec4a950e48cb29</td>\n",
       "      <td>954b260034de32a9b8e1a1f164a65e0a</td>\n",
       "      <td>7822366a7fa95fb69d699a511aec9232</td>\n",
       "      <td>BB_Report Subscription Charge</td>\n",
       "      <td>2021-03</td>\n",
       "      <td>40.0</td>\n",
       "    </tr>\n",
       "    <tr>\n",
       "      <th>2</th>\n",
       "      <td>71afaddb9d453efa0b7ef86df18b4588</td>\n",
       "      <td>0fa1d2aeb386d52b8fb4b545f3d28b5d</td>\n",
       "      <td>1e108ee6766364edc543458ce876462f</td>\n",
       "      <td>BB_Report Subscription Charge</td>\n",
       "      <td>2020-02</td>\n",
       "      <td>40.0</td>\n",
       "    </tr>\n",
       "    <tr>\n",
       "      <th>3</th>\n",
       "      <td>71afaddb9d453efa0b7ef86df18b4588</td>\n",
       "      <td>0fa1d2aeb386d52b8fb4b545f3d28b5d</td>\n",
       "      <td>1e108ee6766364edc543458ce876462f</td>\n",
       "      <td>BB_Report Subscription Charge</td>\n",
       "      <td>2021-01</td>\n",
       "      <td>40.0</td>\n",
       "    </tr>\n",
       "    <tr>\n",
       "      <th>4</th>\n",
       "      <td>1e4e319dbece0eb55b3770e302e5d371</td>\n",
       "      <td>d6ac58a33580a04f7c8f98e23c0952a8</td>\n",
       "      <td>ad0bba44c9629a3e5e89a421c4bc5213</td>\n",
       "      <td>BB_Report Subscription Charge</td>\n",
       "      <td>2021-01</td>\n",
       "      <td>40.0</td>\n",
       "    </tr>\n",
       "    <tr>\n",
       "      <th>...</th>\n",
       "      <td>...</td>\n",
       "      <td>...</td>\n",
       "      <td>...</td>\n",
       "      <td>...</td>\n",
       "      <td>...</td>\n",
       "      <td>...</td>\n",
       "    </tr>\n",
       "    <tr>\n",
       "      <th>268</th>\n",
       "      <td>7ae240b62cca05b9ab0af678122e7e5c</td>\n",
       "      <td>8d8472d39b270801553f2d5e7c06fe22</td>\n",
       "      <td>f8743da5d0bff84f9440fb44fce1bdc1</td>\n",
       "      <td>BB_Report Subscription Charge</td>\n",
       "      <td>2020-03</td>\n",
       "      <td>40.0</td>\n",
       "    </tr>\n",
       "    <tr>\n",
       "      <th>269</th>\n",
       "      <td>7ae240b62cca05b9ab0af678122e7e5c</td>\n",
       "      <td>8d8472d39b270801553f2d5e7c06fe22</td>\n",
       "      <td>f8743da5d0bff84f9440fb44fce1bdc1</td>\n",
       "      <td>BB_Report Subscription Charge</td>\n",
       "      <td>2020-02</td>\n",
       "      <td>40.0</td>\n",
       "    </tr>\n",
       "    <tr>\n",
       "      <th>270</th>\n",
       "      <td>7ae240b62cca05b9ab0af678122e7e5c</td>\n",
       "      <td>8d8472d39b270801553f2d5e7c06fe22</td>\n",
       "      <td>f8743da5d0bff84f9440fb44fce1bdc1</td>\n",
       "      <td>BB_Report Subscription Charge</td>\n",
       "      <td>2021-02</td>\n",
       "      <td>40.0</td>\n",
       "    </tr>\n",
       "    <tr>\n",
       "      <th>271</th>\n",
       "      <td>7ae240b62cca05b9ab0af678122e7e5c</td>\n",
       "      <td>8d8472d39b270801553f2d5e7c06fe22</td>\n",
       "      <td>f8743da5d0bff84f9440fb44fce1bdc1</td>\n",
       "      <td>BB_Report Subscription Charge</td>\n",
       "      <td>2021-03</td>\n",
       "      <td>40.0</td>\n",
       "    </tr>\n",
       "    <tr>\n",
       "      <th>272</th>\n",
       "      <td>7ae240b62cca05b9ab0af678122e7e5c</td>\n",
       "      <td>8d8472d39b270801553f2d5e7c06fe22</td>\n",
       "      <td>f8743da5d0bff84f9440fb44fce1bdc1</td>\n",
       "      <td>BB_Report Subscription Charge</td>\n",
       "      <td>2021-01</td>\n",
       "      <td>40.0</td>\n",
       "    </tr>\n",
       "  </tbody>\n",
       "</table>\n",
       "<p>273 rows × 6 columns</p>\n",
       "</div>"
      ],
      "text/plain": [
       "                    event_source.hash                  ACCOUNT_NUM.hash  \\\n",
       "0    4d4543b0adead7d90996b7108ba5b9f5  b027d65390a0c725b9ce41e409f9797e   \n",
       "1    9b926391a08ef2e505ec4a950e48cb29  954b260034de32a9b8e1a1f164a65e0a   \n",
       "2    71afaddb9d453efa0b7ef86df18b4588  0fa1d2aeb386d52b8fb4b545f3d28b5d   \n",
       "3    71afaddb9d453efa0b7ef86df18b4588  0fa1d2aeb386d52b8fb4b545f3d28b5d   \n",
       "4    1e4e319dbece0eb55b3770e302e5d371  d6ac58a33580a04f7c8f98e23c0952a8   \n",
       "..                                ...                               ...   \n",
       "268  7ae240b62cca05b9ab0af678122e7e5c  8d8472d39b270801553f2d5e7c06fe22   \n",
       "269  7ae240b62cca05b9ab0af678122e7e5c  8d8472d39b270801553f2d5e7c06fe22   \n",
       "270  7ae240b62cca05b9ab0af678122e7e5c  8d8472d39b270801553f2d5e7c06fe22   \n",
       "271  7ae240b62cca05b9ab0af678122e7e5c  8d8472d39b270801553f2d5e7c06fe22   \n",
       "272  7ae240b62cca05b9ab0af678122e7e5c  8d8472d39b270801553f2d5e7c06fe22   \n",
       "\n",
       "                    CUSTOMER_REF.hash                            VAS  \\\n",
       "0    f915b183884f8197b358c9638584531c  BB_Report Subscription Charge   \n",
       "1    7822366a7fa95fb69d699a511aec9232  BB_Report Subscription Charge   \n",
       "2    1e108ee6766364edc543458ce876462f  BB_Report Subscription Charge   \n",
       "3    1e108ee6766364edc543458ce876462f  BB_Report Subscription Charge   \n",
       "4    ad0bba44c9629a3e5e89a421c4bc5213  BB_Report Subscription Charge   \n",
       "..                                ...                            ...   \n",
       "268  f8743da5d0bff84f9440fb44fce1bdc1  BB_Report Subscription Charge   \n",
       "269  f8743da5d0bff84f9440fb44fce1bdc1  BB_Report Subscription Charge   \n",
       "270  f8743da5d0bff84f9440fb44fce1bdc1  BB_Report Subscription Charge   \n",
       "271  f8743da5d0bff84f9440fb44fce1bdc1  BB_Report Subscription Charge   \n",
       "272  f8743da5d0bff84f9440fb44fce1bdc1  BB_Report Subscription Charge   \n",
       "\n",
       "    Month_Subscribed  Rental  \n",
       "0            2021-03    40.0  \n",
       "1            2021-03    40.0  \n",
       "2            2020-02    40.0  \n",
       "3            2021-01    40.0  \n",
       "4            2021-01    40.0  \n",
       "..               ...     ...  \n",
       "268          2020-03    40.0  \n",
       "269          2020-02    40.0  \n",
       "270          2021-02    40.0  \n",
       "271          2021-03    40.0  \n",
       "272          2021-01    40.0  \n",
       "\n",
       "[273 rows x 6 columns]"
      ]
     },
     "execution_count": 658,
     "metadata": {},
     "output_type": "execute_result"
    }
   ],
   "source": [
    "bb_vas_df= vas_purchase_df[(vas_purchase_df[\"VAS\"]!=\"BB EXTRA GB\")]\n",
    "bb_vas_df.reset_index(inplace=True)\n",
    "bb_vas_df.drop([\"index\"],axis=1,inplace=True)\n",
    "bb_vas_df"
   ]
  },
  {
   "cell_type": "code",
   "execution_count": null,
   "metadata": {},
   "outputs": [],
   "source": []
  },
  {
   "cell_type": "markdown",
   "metadata": {},
   "source": [
    "## VAS DWH Dataset Analysis"
   ]
  },
  {
   "cell_type": "code",
   "execution_count": 659,
   "metadata": {},
   "outputs": [],
   "source": [
    "vas_DWH_df = pd.read_excel(\"data/new/VAS_Products_Purchased Dates_SLT_DWH.xls\")  \n",
    "vas_DWH_df.rename(columns={'ACCOUNT_NO.hash':'ACCOUNT_NUM.hash','REPORTING_MONTH_CAL_MONTH_CODE':'Month_Subscribed','CODE_DESC':'VAS','REVENUE_AMOUNT':'Rental'}, inplace=True)"
   ]
  },
  {
   "cell_type": "code",
   "execution_count": 660,
   "metadata": {},
   "outputs": [],
   "source": [
    "# Date correction\n",
    "def date_correct_dwh(date):\n",
    "    date=str(date)\n",
    "    year=date[:4]\n",
    "    month=date[4:7]\n",
    "    return f\"{year}-{month}\""
   ]
  },
  {
   "cell_type": "code",
   "execution_count": 661,
   "metadata": {},
   "outputs": [],
   "source": [
    "vas_DWH_df[\"Month_Subscribed\"]=vas_DWH_df[\"Month_Subscribed\"].apply(lambda x: date_correct_dwh(x))"
   ]
  },
  {
   "cell_type": "code",
   "execution_count": 662,
   "metadata": {},
   "outputs": [
    {
     "name": "stdout",
     "output_type": "stream",
     "text": [
      "<class 'pandas.core.frame.DataFrame'>\n",
      "RangeIndex: 578 entries, 0 to 577\n",
      "Data columns (total 5 columns):\n",
      " #   Column            Non-Null Count  Dtype \n",
      "---  ------            --------------  ----- \n",
      " 0   ACCOUNT_NUM.hash  578 non-null    object\n",
      " 1   Month_Subscribed  578 non-null    object\n",
      " 2   VAS               578 non-null    object\n",
      " 3   Rental            578 non-null    int64 \n",
      " 4                     578 non-null    object\n",
      "dtypes: int64(1), object(4)\n",
      "memory usage: 22.7+ KB\n"
     ]
    }
   ],
   "source": [
    "vas_DWH_df.info()"
   ]
  },
  {
   "cell_type": "code",
   "execution_count": 663,
   "metadata": {},
   "outputs": [],
   "source": [
    "vas_DWH_df = vas_DWH_df.merge(acc_no_map,how='left',on=\"ACCOUNT_NUM.hash\")\n",
    "vas_DWH_df.drop_duplicates([\"ACCOUNT_NUM.hash\",\"VAS\"],inplace=True)\n",
    "vas_DWH_df.reset_index(inplace=True)\n",
    "vas_DWH_df.drop([\"index\"],axis=1,inplace=True)"
   ]
  },
  {
   "cell_type": "code",
   "execution_count": 664,
   "metadata": {},
   "outputs": [
    {
     "data": {
      "text/html": [
       "<div>\n",
       "<style scoped>\n",
       "    .dataframe tbody tr th:only-of-type {\n",
       "        vertical-align: middle;\n",
       "    }\n",
       "\n",
       "    .dataframe tbody tr th {\n",
       "        vertical-align: top;\n",
       "    }\n",
       "\n",
       "    .dataframe thead th {\n",
       "        text-align: right;\n",
       "    }\n",
       "</style>\n",
       "<table border=\"1\" class=\"dataframe\">\n",
       "  <thead>\n",
       "    <tr style=\"text-align: right;\">\n",
       "      <th></th>\n",
       "      <th>event_source.hash</th>\n",
       "      <th>ACCOUNT_NUM.hash</th>\n",
       "      <th>CUSTOMER_REF.hash</th>\n",
       "      <th>VAS</th>\n",
       "      <th>Month_Subscribed</th>\n",
       "      <th>Rental</th>\n",
       "    </tr>\n",
       "  </thead>\n",
       "  <tbody>\n",
       "    <tr>\n",
       "      <th>0</th>\n",
       "      <td>17ef97208c9f55550e39b74496f7b381</td>\n",
       "      <td>204773567701102c4acf8fda9eaccfdd</td>\n",
       "      <td>d342cf1db6cf1710dc101922d0387459</td>\n",
       "      <td>PEO TV GO_OTT_A-la carte channels</td>\n",
       "      <td>2020-05</td>\n",
       "      <td>100</td>\n",
       "    </tr>\n",
       "    <tr>\n",
       "      <th>1</th>\n",
       "      <td>e6a1038461059eb02d1c245e643a1ddb</td>\n",
       "      <td>52e7c04d12cb33c77031760584a9586e</td>\n",
       "      <td>cc9cde6ff7e8a085c9bdcd5d870e3624</td>\n",
       "      <td>PEO TV GO_OTT_A-la carte channels</td>\n",
       "      <td>2020-06</td>\n",
       "      <td>100</td>\n",
       "    </tr>\n",
       "    <tr>\n",
       "      <th>2</th>\n",
       "      <td>20a36ea2b36090f4a0cdd2f562bc9ba3</td>\n",
       "      <td>9d2f5d0f09198069413924db9a10d1c3</td>\n",
       "      <td>8c81f7e771386cc28240a6804a3733fb</td>\n",
       "      <td>PEO TV GO_OTT_A-la carte channels</td>\n",
       "      <td>2019-09</td>\n",
       "      <td>100</td>\n",
       "    </tr>\n",
       "    <tr>\n",
       "      <th>3</th>\n",
       "      <td>c5e4c82139eb50e0742223947e880882</td>\n",
       "      <td>52b1c4fc5583a0b8449029dc92eeae45</td>\n",
       "      <td>eae1da6d914fee5809b07a0536bf93ca</td>\n",
       "      <td>PEO TV GO_OTT_A-la carte channels</td>\n",
       "      <td>2020-02</td>\n",
       "      <td>100</td>\n",
       "    </tr>\n",
       "    <tr>\n",
       "      <th>4</th>\n",
       "      <td>5bd67e3d7bb2e515b844efd13b420ca4</td>\n",
       "      <td>2b60f8ffb99f7932ee00cdd291fb1dd5</td>\n",
       "      <td>1e18e8301408434bc3320d0db9f7d17e</td>\n",
       "      <td>PEO TV GO_OTT_A-la carte channels</td>\n",
       "      <td>2020-07</td>\n",
       "      <td>100</td>\n",
       "    </tr>\n",
       "    <tr>\n",
       "      <th>...</th>\n",
       "      <td>...</td>\n",
       "      <td>...</td>\n",
       "      <td>...</td>\n",
       "      <td>...</td>\n",
       "      <td>...</td>\n",
       "      <td>...</td>\n",
       "    </tr>\n",
       "    <tr>\n",
       "      <th>56</th>\n",
       "      <td>16d9c308f2af512eb10bac235f3e1157</td>\n",
       "      <td>4e30072320e0cc5102516ac0f83dac32</td>\n",
       "      <td>a06652541020386adc4ed01e228fcd7b</td>\n",
       "      <td>Package Rental Through ADSL</td>\n",
       "      <td>2020-07</td>\n",
       "      <td>199</td>\n",
       "    </tr>\n",
       "    <tr>\n",
       "      <th>57</th>\n",
       "      <td>fac10d80716bbf349984d6be2edd27f9</td>\n",
       "      <td>3dec6cac91d5d018e8286e9e8311cd97</td>\n",
       "      <td>622054b996812991195d634f013c40fb</td>\n",
       "      <td>Package Rental Through ADSL</td>\n",
       "      <td>2019-05</td>\n",
       "      <td>199</td>\n",
       "    </tr>\n",
       "    <tr>\n",
       "      <th>58</th>\n",
       "      <td>6ae9d45f81204b111268a83e532c066b</td>\n",
       "      <td>9324793d25ea7ec770a033120d4d2254</td>\n",
       "      <td>e7785d8342773d2c3854e1446732cdf6</td>\n",
       "      <td>Package Rental Through ADSL</td>\n",
       "      <td>2018-12</td>\n",
       "      <td>149</td>\n",
       "    </tr>\n",
       "    <tr>\n",
       "      <th>59</th>\n",
       "      <td>552d18e8515f81cf52f85d1cb995de16</td>\n",
       "      <td>50cf8d74511fd6337cbef6cd5f8fb12d</td>\n",
       "      <td>77bdb4ff769d4a633257ab281e440650</td>\n",
       "      <td>Package Rental Through ADSL</td>\n",
       "      <td>2020-01</td>\n",
       "      <td>199</td>\n",
       "    </tr>\n",
       "    <tr>\n",
       "      <th>60</th>\n",
       "      <td>d31232c30aedf4d10a4b446ccf5dca58</td>\n",
       "      <td>319078b919669d59d995c05d621f6404</td>\n",
       "      <td>b6f171ac1918daffb90d8f05db3b0ab8</td>\n",
       "      <td>Package Rental Through ADSL</td>\n",
       "      <td>2020-02</td>\n",
       "      <td>199</td>\n",
       "    </tr>\n",
       "  </tbody>\n",
       "</table>\n",
       "<p>61 rows × 6 columns</p>\n",
       "</div>"
      ],
      "text/plain": [
       "                   event_source.hash                  ACCOUNT_NUM.hash  \\\n",
       "0   17ef97208c9f55550e39b74496f7b381  204773567701102c4acf8fda9eaccfdd   \n",
       "1   e6a1038461059eb02d1c245e643a1ddb  52e7c04d12cb33c77031760584a9586e   \n",
       "2   20a36ea2b36090f4a0cdd2f562bc9ba3  9d2f5d0f09198069413924db9a10d1c3   \n",
       "3   c5e4c82139eb50e0742223947e880882  52b1c4fc5583a0b8449029dc92eeae45   \n",
       "4   5bd67e3d7bb2e515b844efd13b420ca4  2b60f8ffb99f7932ee00cdd291fb1dd5   \n",
       "..                               ...                               ...   \n",
       "56  16d9c308f2af512eb10bac235f3e1157  4e30072320e0cc5102516ac0f83dac32   \n",
       "57  fac10d80716bbf349984d6be2edd27f9  3dec6cac91d5d018e8286e9e8311cd97   \n",
       "58  6ae9d45f81204b111268a83e532c066b  9324793d25ea7ec770a033120d4d2254   \n",
       "59  552d18e8515f81cf52f85d1cb995de16  50cf8d74511fd6337cbef6cd5f8fb12d   \n",
       "60  d31232c30aedf4d10a4b446ccf5dca58  319078b919669d59d995c05d621f6404   \n",
       "\n",
       "                   CUSTOMER_REF.hash                                VAS  \\\n",
       "0   d342cf1db6cf1710dc101922d0387459  PEO TV GO_OTT_A-la carte channels   \n",
       "1   cc9cde6ff7e8a085c9bdcd5d870e3624  PEO TV GO_OTT_A-la carte channels   \n",
       "2   8c81f7e771386cc28240a6804a3733fb  PEO TV GO_OTT_A-la carte channels   \n",
       "3   eae1da6d914fee5809b07a0536bf93ca  PEO TV GO_OTT_A-la carte channels   \n",
       "4   1e18e8301408434bc3320d0db9f7d17e  PEO TV GO_OTT_A-la carte channels   \n",
       "..                               ...                                ...   \n",
       "56  a06652541020386adc4ed01e228fcd7b        Package Rental Through ADSL   \n",
       "57  622054b996812991195d634f013c40fb        Package Rental Through ADSL   \n",
       "58  e7785d8342773d2c3854e1446732cdf6        Package Rental Through ADSL   \n",
       "59  77bdb4ff769d4a633257ab281e440650        Package Rental Through ADSL   \n",
       "60  b6f171ac1918daffb90d8f05db3b0ab8        Package Rental Through ADSL   \n",
       "\n",
       "   Month_Subscribed  Rental  \n",
       "0           2020-05     100  \n",
       "1           2020-06     100  \n",
       "2           2019-09     100  \n",
       "3           2020-02     100  \n",
       "4           2020-07     100  \n",
       "..              ...     ...  \n",
       "56          2020-07     199  \n",
       "57          2019-05     199  \n",
       "58          2018-12     149  \n",
       "59          2020-01     199  \n",
       "60          2020-02     199  \n",
       "\n",
       "[61 rows x 6 columns]"
      ]
     },
     "execution_count": 664,
     "metadata": {},
     "output_type": "execute_result"
    }
   ],
   "source": [
    "vas_DWH_df = vas_DWH_df[[\"event_source.hash\",\"ACCOUNT_NUM.hash\",\"CUSTOMER_REF.hash\",\"VAS\",\"Month_Subscribed\",\"Rental\"]]\n",
    "vas_DWH_df"
   ]
  },
  {
   "cell_type": "code",
   "execution_count": 665,
   "metadata": {},
   "outputs": [
    {
     "data": {
      "text/plain": [
       "PEO TV GO_OTT_A-la carte channels    49\n",
       "Package Rental Through ADSL           6\n",
       "PeoTVGo_Channel Package               4\n",
       "BB_PeoTVGO Revenue code               2\n",
       "Name: VAS, dtype: int64"
      ]
     },
     "execution_count": 665,
     "metadata": {},
     "output_type": "execute_result"
    }
   ],
   "source": [
    "vas_DWH_df[\"VAS\"].value_counts()"
   ]
  },
  {
   "cell_type": "code",
   "execution_count": null,
   "metadata": {},
   "outputs": [],
   "source": []
  },
  {
   "cell_type": "markdown",
   "metadata": {},
   "source": [
    "## Product Sate Changes DF"
   ]
  },
  {
   "cell_type": "code",
   "execution_count": 666,
   "metadata": {},
   "outputs": [],
   "source": [
    "state_changes_df = pd.read_csv(\"data/Product State Changes from BSS.csv\")"
   ]
  },
  {
   "cell_type": "code",
   "execution_count": 667,
   "metadata": {},
   "outputs": [],
   "source": [
    "state_changes_df = state_changes_df.drop(['PRODUCT_LABEL','CUSTOMER_REF','ACCOUNT_NUM' ,'PRODUCT_STATUS','PRODUCT_ID','START_DAT','END_DAT','PRODUCT_SEQ'], axis=1)\n",
    "state_changes_df.rename(columns={'PRODUCT_LABEL.hash': 'event_source.hash','PRODUCT_NAME':'VAS','EFFECTIVE_DTM':'Month_Subscribed'}, inplace=True)"
   ]
  },
  {
   "cell_type": "code",
   "execution_count": 668,
   "metadata": {},
   "outputs": [],
   "source": [
    "month_map = {\"Jan\":\"01\",\"Feb\":\"02\",\"Mar\":\"03\",\"Apr\":\"04\",\"May\":\"05\",\"Jun\":\"06\",\"Jul\":\"07\",\"Aug\":\"08\",\"Sep\":\"09\",\"Oct\":\"10\",\"Nov\":\"11\",\"Dec\":\"12\"}"
   ]
  },
  {
   "cell_type": "code",
   "execution_count": 669,
   "metadata": {},
   "outputs": [],
   "source": [
    "# Date correction\n",
    "def date_correct_psc(date):\n",
    "    date=str(date)\n",
    "    year=date[:4]\n",
    "    mnt_temp= date[5:8]\n",
    "    month=[v for k, v in month_map.items() if mnt_temp in k][0]\n",
    "    return f\"{year}-{month}\""
   ]
  },
  {
   "cell_type": "code",
   "execution_count": 670,
   "metadata": {},
   "outputs": [
    {
     "name": "stdout",
     "output_type": "stream",
     "text": [
      "2019-07\n",
      "2019-05\n"
     ]
    }
   ],
   "source": [
    "# check\n",
    "print(date_correct_psc('2019-Jul-01 00:00:00'))\n",
    "print(date_correct_psc('2019-May-10 11:55:26'))"
   ]
  },
  {
   "cell_type": "code",
   "execution_count": 671,
   "metadata": {},
   "outputs": [],
   "source": [
    "state_changes_df[\"Month_Subscribed\"]=state_changes_df[\"Month_Subscribed\"].apply(lambda x: date_correct_psc(x))"
   ]
  },
  {
   "cell_type": "code",
   "execution_count": 672,
   "metadata": {},
   "outputs": [
    {
     "data": {
      "text/html": [
       "<div>\n",
       "<style scoped>\n",
       "    .dataframe tbody tr th:only-of-type {\n",
       "        vertical-align: middle;\n",
       "    }\n",
       "\n",
       "    .dataframe tbody tr th {\n",
       "        vertical-align: top;\n",
       "    }\n",
       "\n",
       "    .dataframe thead th {\n",
       "        text-align: right;\n",
       "    }\n",
       "</style>\n",
       "<table border=\"1\" class=\"dataframe\">\n",
       "  <thead>\n",
       "    <tr style=\"text-align: right;\">\n",
       "      <th></th>\n",
       "      <th>event_source.hash</th>\n",
       "      <th>ACCOUNT_NUM.hash</th>\n",
       "      <th>CUSTOMER_REF.hash</th>\n",
       "      <th>VAS</th>\n",
       "      <th>Month_Subscribed</th>\n",
       "    </tr>\n",
       "  </thead>\n",
       "  <tbody>\n",
       "    <tr>\n",
       "      <th>0</th>\n",
       "      <td>b635fc31617ffc9c1e6b5015fb32e108</td>\n",
       "      <td>a4e4afaedb57f205bfeff624c39fe49d</td>\n",
       "      <td>3bab8adf192d3b98fc879ad65bf3b1a8</td>\n",
       "      <td>V_Single VAS Bundle</td>\n",
       "      <td>2019-06</td>\n",
       "    </tr>\n",
       "    <tr>\n",
       "      <th>1</th>\n",
       "      <td>ef74b1171331411a4d2e9fada9158215</td>\n",
       "      <td>9c802b6b329dc1e3ba6e6c655a21e65d</td>\n",
       "      <td>395dd9f2747c6fa4336ee794b1cb6d72</td>\n",
       "      <td>E_Referral offer Discount</td>\n",
       "      <td>2020-01</td>\n",
       "    </tr>\n",
       "    <tr>\n",
       "      <th>2</th>\n",
       "      <td>31110bf10f07e3d5e23da9680b1dd287</td>\n",
       "      <td>1cf3f313f1060c69dfe814a0e8124f18</td>\n",
       "      <td>f72dffa8e0e57e2999859d05fb470b8e</td>\n",
       "      <td>V_Absentee service</td>\n",
       "      <td>2019-10</td>\n",
       "    </tr>\n",
       "    <tr>\n",
       "      <th>3</th>\n",
       "      <td>b6404a24d0ae0f5dbb11c78c783bd1fc</td>\n",
       "      <td>ce8d936fed762bfa12912fb18915b802</td>\n",
       "      <td>71a467201a2d56926e6f9e3b162635a5</td>\n",
       "      <td>V_Hotline Service</td>\n",
       "      <td>2019-06</td>\n",
       "    </tr>\n",
       "    <tr>\n",
       "      <th>4</th>\n",
       "      <td>b635fc31617ffc9c1e6b5015fb32e108</td>\n",
       "      <td>a4e4afaedb57f205bfeff624c39fe49d</td>\n",
       "      <td>3bab8adf192d3b98fc879ad65bf3b1a8</td>\n",
       "      <td>V_Caller Line Identification</td>\n",
       "      <td>2019-06</td>\n",
       "    </tr>\n",
       "    <tr>\n",
       "      <th>...</th>\n",
       "      <td>...</td>\n",
       "      <td>...</td>\n",
       "      <td>...</td>\n",
       "      <td>...</td>\n",
       "      <td>...</td>\n",
       "    </tr>\n",
       "    <tr>\n",
       "      <th>3023</th>\n",
       "      <td>155a2049729884b079ccaa8aca315e09</td>\n",
       "      <td>3030f90b7118e741f52dd8421a83145a</td>\n",
       "      <td>197991049d40e712d4471da75fade116</td>\n",
       "      <td>V_DQ Contact Details</td>\n",
       "      <td>2019-04</td>\n",
       "    </tr>\n",
       "    <tr>\n",
       "      <th>3024</th>\n",
       "      <td>155a2049729884b079ccaa8aca315e09</td>\n",
       "      <td>3030f90b7118e741f52dd8421a83145a</td>\n",
       "      <td>197991049d40e712d4471da75fade116</td>\n",
       "      <td>AB_Megaline</td>\n",
       "      <td>2019-04</td>\n",
       "    </tr>\n",
       "    <tr>\n",
       "      <th>3025</th>\n",
       "      <td>155a2049729884b079ccaa8aca315e09</td>\n",
       "      <td>3030f90b7118e741f52dd8421a83145a</td>\n",
       "      <td>197991049d40e712d4471da75fade116</td>\n",
       "      <td>AB_Megaline Startup</td>\n",
       "      <td>2019-04</td>\n",
       "    </tr>\n",
       "    <tr>\n",
       "      <th>3026</th>\n",
       "      <td>155a2049729884b079ccaa8aca315e09</td>\n",
       "      <td>3030f90b7118e741f52dd8421a83145a</td>\n",
       "      <td>197991049d40e712d4471da75fade116</td>\n",
       "      <td>V_IDD</td>\n",
       "      <td>2019-04</td>\n",
       "    </tr>\n",
       "    <tr>\n",
       "      <th>3027</th>\n",
       "      <td>2b03667950c9420f060dbcb614433324</td>\n",
       "      <td>fbfdb60177fd5265eb5f0dc6a5f786a6</td>\n",
       "      <td>7212b82cbd7eb76cd0247e5b54daeabe</td>\n",
       "      <td>V_Call Forwarding</td>\n",
       "      <td>2020-08</td>\n",
       "    </tr>\n",
       "  </tbody>\n",
       "</table>\n",
       "<p>3028 rows × 5 columns</p>\n",
       "</div>"
      ],
      "text/plain": [
       "                     event_source.hash                  ACCOUNT_NUM.hash  \\\n",
       "0     b635fc31617ffc9c1e6b5015fb32e108  a4e4afaedb57f205bfeff624c39fe49d   \n",
       "1     ef74b1171331411a4d2e9fada9158215  9c802b6b329dc1e3ba6e6c655a21e65d   \n",
       "2     31110bf10f07e3d5e23da9680b1dd287  1cf3f313f1060c69dfe814a0e8124f18   \n",
       "3     b6404a24d0ae0f5dbb11c78c783bd1fc  ce8d936fed762bfa12912fb18915b802   \n",
       "4     b635fc31617ffc9c1e6b5015fb32e108  a4e4afaedb57f205bfeff624c39fe49d   \n",
       "...                                ...                               ...   \n",
       "3023  155a2049729884b079ccaa8aca315e09  3030f90b7118e741f52dd8421a83145a   \n",
       "3024  155a2049729884b079ccaa8aca315e09  3030f90b7118e741f52dd8421a83145a   \n",
       "3025  155a2049729884b079ccaa8aca315e09  3030f90b7118e741f52dd8421a83145a   \n",
       "3026  155a2049729884b079ccaa8aca315e09  3030f90b7118e741f52dd8421a83145a   \n",
       "3027  2b03667950c9420f060dbcb614433324  fbfdb60177fd5265eb5f0dc6a5f786a6   \n",
       "\n",
       "                     CUSTOMER_REF.hash                           VAS  \\\n",
       "0     3bab8adf192d3b98fc879ad65bf3b1a8           V_Single VAS Bundle   \n",
       "1     395dd9f2747c6fa4336ee794b1cb6d72     E_Referral offer Discount   \n",
       "2     f72dffa8e0e57e2999859d05fb470b8e            V_Absentee service   \n",
       "3     71a467201a2d56926e6f9e3b162635a5             V_Hotline Service   \n",
       "4     3bab8adf192d3b98fc879ad65bf3b1a8  V_Caller Line Identification   \n",
       "...                                ...                           ...   \n",
       "3023  197991049d40e712d4471da75fade116          V_DQ Contact Details   \n",
       "3024  197991049d40e712d4471da75fade116                   AB_Megaline   \n",
       "3025  197991049d40e712d4471da75fade116           AB_Megaline Startup   \n",
       "3026  197991049d40e712d4471da75fade116                         V_IDD   \n",
       "3027  7212b82cbd7eb76cd0247e5b54daeabe             V_Call Forwarding   \n",
       "\n",
       "     Month_Subscribed  \n",
       "0             2019-06  \n",
       "1             2020-01  \n",
       "2             2019-10  \n",
       "3             2019-06  \n",
       "4             2019-06  \n",
       "...               ...  \n",
       "3023          2019-04  \n",
       "3024          2019-04  \n",
       "3025          2019-04  \n",
       "3026          2019-04  \n",
       "3027          2020-08  \n",
       "\n",
       "[3028 rows x 5 columns]"
      ]
     },
     "execution_count": 672,
     "metadata": {},
     "output_type": "execute_result"
    }
   ],
   "source": [
    "state_changes_df = state_changes_df[[\"event_source.hash\",\"ACCOUNT_NUM.hash\",\"CUSTOMER_REF.hash\",\"VAS\",\"Month_Subscribed\"]]\n",
    "state_changes_df"
   ]
  },
  {
   "cell_type": "code",
   "execution_count": null,
   "metadata": {},
   "outputs": [],
   "source": []
  },
  {
   "cell_type": "markdown",
   "metadata": {},
   "source": [
    "## VAS Dataframes Merging"
   ]
  },
  {
   "cell_type": "code",
   "execution_count": 673,
   "metadata": {},
   "outputs": [],
   "source": [
    "# Concat dataframes and merge by event_source.hash\n",
    "vas_final_df = pd.concat([vas_common_df, vas_otc_df, bb_vas_df, vas_DWH_df,state_changes_df,dss_vas_df], ignore_index=True)"
   ]
  },
  {
   "cell_type": "code",
   "execution_count": 674,
   "metadata": {},
   "outputs": [],
   "source": [
    "vas_final_df.sort_values('Month_Subscribed',inplace=True)"
   ]
  },
  {
   "cell_type": "code",
   "execution_count": 675,
   "metadata": {},
   "outputs": [],
   "source": [
    "vas_final_df.reset_index(inplace=True)\n",
    "vas_final_df.drop([\"index\"],axis=1,inplace=True)"
   ]
  },
  {
   "cell_type": "code",
   "execution_count": 676,
   "metadata": {},
   "outputs": [],
   "source": [
    "vas_final_df.drop_duplicates([\"event_source.hash\",\"VAS\"],inplace=True,keep=\"last\")"
   ]
  },
  {
   "cell_type": "code",
   "execution_count": 677,
   "metadata": {},
   "outputs": [],
   "source": [
    "vas_final_df = vas_final_df[vas_final_df['event_source.hash'].notna()]"
   ]
  },
  {
   "cell_type": "code",
   "execution_count": 678,
   "metadata": {},
   "outputs": [
    {
     "name": "stdout",
     "output_type": "stream",
     "text": [
      "<class 'pandas.core.frame.DataFrame'>\n",
      "Int64Index: 52718 entries, 0 to 53077\n",
      "Data columns (total 7 columns):\n",
      " #   Column             Non-Null Count  Dtype  \n",
      "---  ------             --------------  -----  \n",
      " 0   event_source.hash  52718 non-null  object \n",
      " 1   ACCOUNT_NUM.hash   52718 non-null  object \n",
      " 2   CUSTOMER_REF.hash  52718 non-null  object \n",
      " 3   VAS                52717 non-null  object \n",
      " 4   Month_Subscribed   52718 non-null  object \n",
      " 5   Rental             25803 non-null  object \n",
      " 6   One_Time_Charge    430 non-null    float64\n",
      "dtypes: float64(1), object(6)\n",
      "memory usage: 3.2+ MB\n"
     ]
    }
   ],
   "source": [
    "vas_final_df.info()"
   ]
  },
  {
   "cell_type": "code",
   "execution_count": 679,
   "metadata": {},
   "outputs": [
    {
     "data": {
      "text/plain": [
       "27583"
      ]
     },
     "execution_count": 679,
     "metadata": {},
     "output_type": "execute_result"
    }
   ],
   "source": [
    "len(vas_final_df[\"event_source.hash\"].unique())"
   ]
  },
  {
   "cell_type": "code",
   "execution_count": 680,
   "metadata": {},
   "outputs": [
    {
     "data": {
      "text/plain": [
       "array(['P-Basic1_Tele Life', 'V-Plus4_TeleLife', 'V-Basic1_TeleLife',\n",
       "       'V-Plus1_TeleLife', 'V_Telehealth', 'P-Plus1_Tele Life',\n",
       "       'C-Basic1_Tele Life', 'V_SLT Voice Service', 'AB_WireLess Access',\n",
       "       'V_Sisu Connect', 'P_Sisu Connect', 'P-Basic2_Tele Life',\n",
       "       'P-Plus4_Tele Life', 'V-Basic4_TeleLife', 'C_Sisu Connect',\n",
       "       'V-Basic2_TeleLife', 'E_SLT PeoTV Service',\n",
       "       'AB_Fiber Access Bearer', 'BB_Personal Storage', 'BB_PeoTVGO',\n",
       "       'BB_SLT BroadBand Service', 'AB_Copper Access Bearer',\n",
       "       'V_E-channeling Registration', 'V_E-channeling Subscription',\n",
       "       'BB_Detailed Reports ', 'BB_SLT Film Hall Service',\n",
       "       'P-Basic4_Tele Life', 'Package Rental Through ADSL',\n",
       "       'OTT_SLT PeoTV Go', 'E_PeoTV Initiation', 'V_Outgoing Call Memory',\n",
       "       'V_SLT CLI', 'V_Anonymous call barring',\n",
       "       'V_Incoming Call Transfer', 'V_IDD', 'AB_Megaline',\n",
       "       'V_Call Forwarding Offline', 'AB_Citylink Loyalty Rewards',\n",
       "       'V_DQ Contact Details', 'V_Single VAS Bundle', 'V_Call park',\n",
       "       'AB_Relocation', 'AB_Megaline Startup',\n",
       "       'V_Call Forwarding by time', 'V_Call holding', 'E_Video on Demand',\n",
       "       'V_Incoming Call Memory', 'V_Double VAS Bundle', 'E_TSTV',\n",
       "       'V_Call back on busy', 'V_Call Forwarding-On Busy',\n",
       "       'V_Call Forwarding-Immediate', 'V_Call Waiting',\n",
       "       'V_Call Forwarding', 'V_Call Transfer Three way',\n",
       "       'V_Abbreviated Dialing', 'V_Absentee service',\n",
       "       'V_Call Forwarding - On Busy', 'V_Call Forwarding - No Answer',\n",
       "       'V_CLI presentation in call waiting', 'E_PeoTV_Package Transfer',\n",
       "       'V_Call Forwarding-No Answer', 'AB_Additional Distance',\n",
       "       'M_Activation Charge', 'V_Cordeless Phone - Installment',\n",
       "       'V_Caller Line Identification', 'V_Hotline-Time Delayed',\n",
       "       'V_Hotline Service', 'V_Short Message Service',\n",
       "       'V_Hotline-Immediate', 'V_Detailed Bill', 'V_Railway Registration',\n",
       "       'AB_Service Vacation', 'AB_Rental Free',\n",
       "       'V_Call Forwarding - Immediate', 'P_Call Transfer Three way',\n",
       "       'P_Call holding', 'P_Outgoing Call Memory', 'P_Call back on busy',\n",
       "       'P_Call Forwarding Offline', 'P_Incoming Call Transfer',\n",
       "       'P_Megaline New Connection',\n",
       "       'P_Additional features -Double VAS Bundle', 'P_IDD', 'P_SLT CLI',\n",
       "       'DQ_Contact Details', 'P_Megaline', 'P_Call Forwarding by time',\n",
       "       'P_Incoming Call Memory', 'P_Anonymous call barring',\n",
       "       'P_Call park', 'P_CLI presentation in call waiting',\n",
       "       'PEO TV GO_OTT_A-la carte channels', 'V_One-Time Detailed Bill',\n",
       "       'V_Installment', 'V_Call Barring - Outgoing',\n",
       "       'PeoTVGo_Channel Package', 'V_Basic Phone Installment',\n",
       "       'AB_Referral offer Discount', 'BB_PeoTVGO Revenue code',\n",
       "       'V_Referral offer Discount',\n",
       "       'V_Caller name identificationPresentation',\n",
       "       'V_Selective call acceptance', 'E_Referral offer Discount',\n",
       "       'V_Basic Phone', 'V_Selective call waiting',\n",
       "       'V_Selective call rejection', 'V_Call forwarding selective',\n",
       "       'V_Do not disturb service', 'V_Secretary service',\n",
       "       'V_Caller name sending', 'V_Password call barring (secret code)',\n",
       "       'V_Complete call on no response', 'V_Triple VAS Bundle',\n",
       "       'BB_Report Subscription Charge', 'V_Miscellaneous Service',\n",
       "       'V_Voice Startup Fee', 'BB_ Entertainment Unlimited',\n",
       "       'V_Call Barring', 'P_Removal of Int & Parallel Ext',\n",
       "       'P_One-Time Detailed Bill', 'AB_Parallel line Installation',\n",
       "       'Meet Lite', 'Meet Max', 'Edu Lite', 'BB_Messenger Bundle',\n",
       "       'BB_YouTube Bundle', 'BB Personal Storage', nan], dtype=object)"
      ]
     },
     "execution_count": 680,
     "metadata": {},
     "output_type": "execute_result"
    }
   ],
   "source": [
    "vas_final_df[\"VAS\"].unique()"
   ]
  },
  {
   "cell_type": "code",
   "execution_count": 681,
   "metadata": {},
   "outputs": [],
   "source": [
    "def vas_bucketizer(vas):\n",
    "    if not isinstance(vas, float):\n",
    "        if \"V_\" in vas or \"V-\" in vas:\n",
    "            category=\"Voice\"\n",
    "        elif \"Peo\" in vas or \"PEO\" in vas or \"E_Video on Demand\" in vas:\n",
    "            category=\"PeoTV\"\n",
    "        elif \"BB\" in vas:\n",
    "            category=\"BB\"\n",
    "        else:\n",
    "            category=\"Other\"\n",
    "        return category"
   ]
  },
  {
   "cell_type": "code",
   "execution_count": 682,
   "metadata": {},
   "outputs": [],
   "source": [
    "vas_final_df[\"VAS_Type\"]=vas_final_df[\"VAS\"].apply(lambda x: vas_bucketizer(x))"
   ]
  },
  {
   "cell_type": "code",
   "execution_count": 683,
   "metadata": {},
   "outputs": [],
   "source": [
    "vas_final_df.dropna(subset=['VAS_Type'], inplace=True)"
   ]
  },
  {
   "cell_type": "code",
   "execution_count": 684,
   "metadata": {},
   "outputs": [
    {
     "name": "stdout",
     "output_type": "stream",
     "text": [
      "<class 'pandas.core.frame.DataFrame'>\n",
      "Int64Index: 52717 entries, 0 to 53075\n",
      "Data columns (total 8 columns):\n",
      " #   Column             Non-Null Count  Dtype  \n",
      "---  ------             --------------  -----  \n",
      " 0   event_source.hash  52717 non-null  object \n",
      " 1   ACCOUNT_NUM.hash   52717 non-null  object \n",
      " 2   CUSTOMER_REF.hash  52717 non-null  object \n",
      " 3   VAS                52717 non-null  object \n",
      " 4   Month_Subscribed   52717 non-null  object \n",
      " 5   Rental             25803 non-null  object \n",
      " 6   One_Time_Charge    430 non-null    float64\n",
      " 7   VAS_Type           52717 non-null  object \n",
      "dtypes: float64(1), object(7)\n",
      "memory usage: 3.6+ MB\n"
     ]
    }
   ],
   "source": [
    "vas_final_df.info()"
   ]
  },
  {
   "cell_type": "code",
   "execution_count": 685,
   "metadata": {},
   "outputs": [
    {
     "data": {
      "text/plain": [
       "VAS                                 VAS_Type\n",
       "V_SLT Voice Service                 Voice       10702\n",
       "AB_Copper Access Bearer             Other        8502\n",
       "BB_YouTube Bundle                   BB           6039\n",
       "P-Basic1_Tele Life                  Other        4379\n",
       "P_Sisu Connect                      Other        3289\n",
       "                                                ...  \n",
       "P_Call Forwarding by time           Other           1\n",
       "P_Call Forwarding Offline           Other           1\n",
       "P_CLI presentation in call waiting  Other           1\n",
       "P_Anonymous call barring            Other           1\n",
       "V_Voice Startup Fee                 Voice           1\n",
       "Length: 128, dtype: int64"
      ]
     },
     "execution_count": 685,
     "metadata": {},
     "output_type": "execute_result"
    }
   ],
   "source": [
    "vas_final_df[[\"VAS\",\"VAS_Type\"]].value_counts()"
   ]
  },
  {
   "cell_type": "code",
   "execution_count": 686,
   "metadata": {},
   "outputs": [],
   "source": [
    "vas_final_df.to_csv(\"data/user_profile/VAS_Final_list.csv\")"
   ]
  },
  {
   "cell_type": "code",
   "execution_count": 687,
   "metadata": {},
   "outputs": [
    {
     "data": {
      "text/plain": [
       "<AxesSubplot:>"
      ]
     },
     "execution_count": 687,
     "metadata": {},
     "output_type": "execute_result"
    },
    {
     "data": {
      "image/png": "[encoded data removed]",
      "text/plain": [
       "<Figure size 1440x720 with 1 Axes>"
      ]
     },
     "metadata": {
      "needs_background": "light"
     },
     "output_type": "display_data"
    }
   ],
   "source": [
    "vas_final_df[\"VAS\"].value_counts().plot(kind=\"bar\", figsize=(20,10))"
   ]
  },
  {
   "cell_type": "code",
   "execution_count": null,
   "metadata": {},
   "outputs": [],
   "source": []
  },
  {
   "cell_type": "markdown",
   "metadata": {},
   "source": [
    "## Exporting VAS names list"
   ]
  },
  {
   "cell_type": "code",
   "execution_count": 688,
   "metadata": {},
   "outputs": [
    {
     "data": {
      "text/html": [
       "<div>\n",
       "<style scoped>\n",
       "    .dataframe tbody tr th:only-of-type {\n",
       "        vertical-align: middle;\n",
       "    }\n",
       "\n",
       "    .dataframe tbody tr th {\n",
       "        vertical-align: top;\n",
       "    }\n",
       "\n",
       "    .dataframe thead th {\n",
       "        text-align: right;\n",
       "    }\n",
       "</style>\n",
       "<table border=\"1\" class=\"dataframe\">\n",
       "  <thead>\n",
       "    <tr style=\"text-align: right;\">\n",
       "      <th></th>\n",
       "      <th>VAS</th>\n",
       "    </tr>\n",
       "  </thead>\n",
       "  <tbody>\n",
       "    <tr>\n",
       "      <th>0</th>\n",
       "      <td>P-Basic1_Tele Life</td>\n",
       "    </tr>\n",
       "    <tr>\n",
       "      <th>1</th>\n",
       "      <td>V-Plus4_TeleLife</td>\n",
       "    </tr>\n",
       "    <tr>\n",
       "      <th>2</th>\n",
       "      <td>V-Basic1_TeleLife</td>\n",
       "    </tr>\n",
       "    <tr>\n",
       "      <th>3</th>\n",
       "      <td>V-Plus1_TeleLife</td>\n",
       "    </tr>\n",
       "    <tr>\n",
       "      <th>4</th>\n",
       "      <td>V_Telehealth</td>\n",
       "    </tr>\n",
       "    <tr>\n",
       "      <th>...</th>\n",
       "      <td>...</td>\n",
       "    </tr>\n",
       "    <tr>\n",
       "      <th>123</th>\n",
       "      <td>Meet Max</td>\n",
       "    </tr>\n",
       "    <tr>\n",
       "      <th>124</th>\n",
       "      <td>Edu Lite</td>\n",
       "    </tr>\n",
       "    <tr>\n",
       "      <th>125</th>\n",
       "      <td>BB_Messenger Bundle</td>\n",
       "    </tr>\n",
       "    <tr>\n",
       "      <th>126</th>\n",
       "      <td>BB_YouTube Bundle</td>\n",
       "    </tr>\n",
       "    <tr>\n",
       "      <th>127</th>\n",
       "      <td>BB Personal Storage</td>\n",
       "    </tr>\n",
       "  </tbody>\n",
       "</table>\n",
       "<p>128 rows × 1 columns</p>\n",
       "</div>"
      ],
      "text/plain": [
       "                     VAS\n",
       "0     P-Basic1_Tele Life\n",
       "1       V-Plus4_TeleLife\n",
       "2      V-Basic1_TeleLife\n",
       "3       V-Plus1_TeleLife\n",
       "4           V_Telehealth\n",
       "..                   ...\n",
       "123             Meet Max\n",
       "124             Edu Lite\n",
       "125  BB_Messenger Bundle\n",
       "126    BB_YouTube Bundle\n",
       "127  BB Personal Storage\n",
       "\n",
       "[128 rows x 1 columns]"
      ]
     },
     "execution_count": 688,
     "metadata": {},
     "output_type": "execute_result"
    }
   ],
   "source": [
    "vas_list = vas_final_df['VAS'].unique()\n",
    "vas_list_df = pd.DataFrame({\"VAS\":vas_list })\n",
    "vas_list_df"
   ]
  },
  {
   "cell_type": "code",
   "execution_count": 689,
   "metadata": {},
   "outputs": [],
   "source": [
    "vas_list_df.to_csv(\"data/product_catalog/VAS_Names_Only_List.csv\")"
   ]
  },
  {
   "cell_type": "code",
   "execution_count": null,
   "metadata": {},
   "outputs": [],
   "source": []
  },
  {
   "cell_type": "markdown",
   "metadata": {},
   "source": [
    "## Exporting Vas info Dataset"
   ]
  },
  {
   "cell_type": "code",
   "execution_count": 690,
   "metadata": {},
   "outputs": [],
   "source": [
    "vas_info_df = vas_final_df[[\"VAS\",\"Rental\",\"One_Time_Charge\",\"VAS_Type\"]].drop_duplicates([\"VAS\"],keep=\"last\")"
   ]
  },
  {
   "cell_type": "code",
   "execution_count": 691,
   "metadata": {},
   "outputs": [],
   "source": [
    "vas_info_df.reset_index(inplace=True)"
   ]
  },
  {
   "cell_type": "code",
   "execution_count": 692,
   "metadata": {},
   "outputs": [],
   "source": [
    "vas_info_df.drop([\"index\"],axis=1, inplace=True)"
   ]
  },
  {
   "cell_type": "code",
   "execution_count": 693,
   "metadata": {},
   "outputs": [
    {
     "name": "stdout",
     "output_type": "stream",
     "text": [
      "<class 'pandas.core.frame.DataFrame'>\n",
      "RangeIndex: 128 entries, 0 to 127\n",
      "Data columns (total 4 columns):\n",
      " #   Column           Non-Null Count  Dtype  \n",
      "---  ------           --------------  -----  \n",
      " 0   VAS              128 non-null    object \n",
      " 1   Rental           26 non-null     object \n",
      " 2   One_Time_Charge  3 non-null      float64\n",
      " 3   VAS_Type         128 non-null    object \n",
      "dtypes: float64(1), object(3)\n",
      "memory usage: 4.1+ KB\n"
     ]
    }
   ],
   "source": [
    "vas_info_df.info()"
   ]
  },
  {
   "cell_type": "code",
   "execution_count": 694,
   "metadata": {},
   "outputs": [],
   "source": [
    "vas_info_df.to_csv(\"data/product_catalog/VAS_Products_Info.csv\")"
   ]
  },
  {
   "cell_type": "code",
   "execution_count": null,
   "metadata": {},
   "outputs": [],
   "source": []
  },
  {
   "cell_type": "markdown",
   "metadata": {},
   "source": [
    "## Exporting VAS aggregated DataFrame"
   ]
  },
  {
   "cell_type": "code",
   "execution_count": 695,
   "metadata": {},
   "outputs": [
    {
     "data": {
      "text/plain": [
       "event_source.hash        0\n",
       "ACCOUNT_NUM.hash         0\n",
       "CUSTOMER_REF.hash        0\n",
       "VAS                      0\n",
       "Month_Subscribed         0\n",
       "Rental               26914\n",
       "One_Time_Charge      52287\n",
       "VAS_Type                 0\n",
       "dtype: int64"
      ]
     },
     "execution_count": 695,
     "metadata": {},
     "output_type": "execute_result"
    }
   ],
   "source": [
    "vas_final_df.isnull().sum(axis=0)"
   ]
  },
  {
   "cell_type": "code",
   "execution_count": 696,
   "metadata": {},
   "outputs": [],
   "source": [
    "vas_final_df.fillna(0,inplace=True)"
   ]
  },
  {
   "cell_type": "markdown",
   "metadata": {},
   "source": [
    "### Voice VAS Aggregation"
   ]
  },
  {
   "cell_type": "code",
   "execution_count": 697,
   "metadata": {},
   "outputs": [
    {
     "name": "stderr",
     "output_type": "stream",
     "text": [
      "<ipython-input-697-5bd44c520773>:2: SettingWithCopyWarning: \n",
      "A value is trying to be set on a copy of a slice from a DataFrame.\n",
      "Try using .loc[row_indexer,col_indexer] = value instead\n",
      "\n",
      "See the caveats in the documentation: https://pandas.pydata.org/pandas-docs/stable/user_guide/indexing.html#returning-a-view-versus-a-copy\n",
      "  voice_agg_df[\"VAS_Count\"] = 1\n"
     ]
    }
   ],
   "source": [
    "voice_agg_df = vas_final_df[(vas_final_df[\"VAS_Type\"]==\"Voice\")]\n",
    "voice_agg_df[\"VAS_Count\"] = 1"
   ]
  },
  {
   "cell_type": "code",
   "execution_count": 698,
   "metadata": {},
   "outputs": [],
   "source": [
    "voice_agg_df = voice_agg_df.groupby('event_source.hash', as_index=False).agg(list)"
   ]
  },
  {
   "cell_type": "code",
   "execution_count": 699,
   "metadata": {},
   "outputs": [
    {
     "name": "stdout",
     "output_type": "stream",
     "text": [
      "<class 'pandas.core.frame.DataFrame'>\n",
      "Int64Index: 13178 entries, 0 to 13177\n",
      "Data columns (total 9 columns):\n",
      " #   Column             Non-Null Count  Dtype \n",
      "---  ------             --------------  ----- \n",
      " 0   event_source.hash  13178 non-null  object\n",
      " 1   ACCOUNT_NUM.hash   13178 non-null  object\n",
      " 2   CUSTOMER_REF.hash  13178 non-null  object\n",
      " 3   VAS                13178 non-null  object\n",
      " 4   Month_Subscribed   13178 non-null  object\n",
      " 5   Rental             13178 non-null  object\n",
      " 6   One_Time_Charge    13178 non-null  object\n",
      " 7   VAS_Type           13178 non-null  object\n",
      " 8   VAS_Count          13178 non-null  object\n",
      "dtypes: object(9)\n",
      "memory usage: 1.0+ MB\n"
     ]
    }
   ],
   "source": [
    "voice_agg_df.info()"
   ]
  },
  {
   "cell_type": "code",
   "execution_count": 700,
   "metadata": {},
   "outputs": [
    {
     "data": {
      "text/plain": [
       "13178"
      ]
     },
     "execution_count": 700,
     "metadata": {},
     "output_type": "execute_result"
    }
   ],
   "source": [
    "len(voice_agg_df[\"event_source.hash\"].unique())"
   ]
  },
  {
   "cell_type": "code",
   "execution_count": 701,
   "metadata": {},
   "outputs": [],
   "source": [
    "voice_agg_df[\"ACCOUNT_NUM.hash\"]= voice_agg_df[\"ACCOUNT_NUM.hash\"].apply(lambda x: x[0])\n",
    "voice_agg_df[\"CUSTOMER_REF.hash\"]= voice_agg_df[\"CUSTOMER_REF.hash\"].apply(lambda x: x[0])\n",
    "voice_agg_df.drop([\"VAS_Type\"],axis=1,inplace=True)\n",
    "voice_agg_df.rename(columns={\"VAS\":\"Voice_VAS_Package\",\"Month_Subscribed\":\"Voice_VAS_Month_Subscribed\",\"Rental\":\"Voice_VAS_Rental\",\"One_Time_Charge\":\"Voice_VAS_One_Time_Charge\"},inplace=True)\n",
    "voice_agg_df['VAS_Count'] = voice_agg_df.apply(lambda x: len(x['VAS_Count']), axis=1)"
   ]
  },
  {
   "cell_type": "code",
   "execution_count": 702,
   "metadata": {},
   "outputs": [
    {
     "data": {
      "text/html": [
       "<div>\n",
       "<style scoped>\n",
       "    .dataframe tbody tr th:only-of-type {\n",
       "        vertical-align: middle;\n",
       "    }\n",
       "\n",
       "    .dataframe tbody tr th {\n",
       "        vertical-align: top;\n",
       "    }\n",
       "\n",
       "    .dataframe thead th {\n",
       "        text-align: right;\n",
       "    }\n",
       "</style>\n",
       "<table border=\"1\" class=\"dataframe\">\n",
       "  <thead>\n",
       "    <tr style=\"text-align: right;\">\n",
       "      <th></th>\n",
       "      <th>event_source.hash</th>\n",
       "      <th>ACCOUNT_NUM.hash</th>\n",
       "      <th>CUSTOMER_REF.hash</th>\n",
       "      <th>Voice_VAS_Package</th>\n",
       "      <th>Voice_VAS_Month_Subscribed</th>\n",
       "      <th>Voice_VAS_Rental</th>\n",
       "      <th>Voice_VAS_One_Time_Charge</th>\n",
       "      <th>VAS_Count</th>\n",
       "    </tr>\n",
       "  </thead>\n",
       "  <tbody>\n",
       "    <tr>\n",
       "      <th>0</th>\n",
       "      <td>00099ff6e175f2b49e7067b20d69e4c3</td>\n",
       "      <td>6b4bfa1e32f513071c6b138a86c3bac9</td>\n",
       "      <td>0552174bba6950523aa45450f6690d02</td>\n",
       "      <td>[V_Sisu Connect, V_SLT Voice Service]</td>\n",
       "      <td>[2018-08, 2018-08]</td>\n",
       "      <td>[30, 0]</td>\n",
       "      <td>[0.0, 0.0]</td>\n",
       "      <td>2</td>\n",
       "    </tr>\n",
       "    <tr>\n",
       "      <th>1</th>\n",
       "      <td>00171279c5c3c6731802925d8409245e</td>\n",
       "      <td>76d9ebdabc9289f652367e82f2371dc8</td>\n",
       "      <td>7ea6989a212eb0a84f9d551b98d73dbb</td>\n",
       "      <td>[V-Basic1_TeleLife, V_E-channeling Subscription]</td>\n",
       "      <td>[2018-08, 2019-01]</td>\n",
       "      <td>[60, 0]</td>\n",
       "      <td>[0.0, 0.0]</td>\n",
       "      <td>2</td>\n",
       "    </tr>\n",
       "    <tr>\n",
       "      <th>2</th>\n",
       "      <td>0017f09b5ff65c692de63b95d1edee27</td>\n",
       "      <td>0e1fe0d01f3a2e9619999a1a634ec427</td>\n",
       "      <td>cd3b840fb0da1abcc5bfdebaca6cd761</td>\n",
       "      <td>[V_SLT Voice Service]</td>\n",
       "      <td>[2018-08]</td>\n",
       "      <td>[0]</td>\n",
       "      <td>[0.0]</td>\n",
       "      <td>1</td>\n",
       "    </tr>\n",
       "    <tr>\n",
       "      <th>3</th>\n",
       "      <td>00221451f705ebe26051158bb14f567a</td>\n",
       "      <td>95899aea6cbb6ebd518bfd1379314657</td>\n",
       "      <td>907512d4e4b527b659c64934965ce5e6</td>\n",
       "      <td>[V_SLT Voice Service]</td>\n",
       "      <td>[2018-08]</td>\n",
       "      <td>[0]</td>\n",
       "      <td>[0.0]</td>\n",
       "      <td>1</td>\n",
       "    </tr>\n",
       "    <tr>\n",
       "      <th>4</th>\n",
       "      <td>002263311c9590ff1f95cac37b673672</td>\n",
       "      <td>d5b3f685fee264650b3de22f2bef0023</td>\n",
       "      <td>5dba81403ff06d5af8d260930300462e</td>\n",
       "      <td>[V_SLT Voice Service, V_Sisu Connect]</td>\n",
       "      <td>[2018-08, 2018-08]</td>\n",
       "      <td>[0, 30]</td>\n",
       "      <td>[0.0, 0.0]</td>\n",
       "      <td>2</td>\n",
       "    </tr>\n",
       "    <tr>\n",
       "      <th>...</th>\n",
       "      <td>...</td>\n",
       "      <td>...</td>\n",
       "      <td>...</td>\n",
       "      <td>...</td>\n",
       "      <td>...</td>\n",
       "      <td>...</td>\n",
       "      <td>...</td>\n",
       "      <td>...</td>\n",
       "    </tr>\n",
       "    <tr>\n",
       "      <th>13173</th>\n",
       "      <td>fff8db1c04225d5ce4a152c3fcad97b3</td>\n",
       "      <td>af66a61a98c385584e3fccfd8dcc5412</td>\n",
       "      <td>1eca97f3ce8ee40e866677fdccc1d60e</td>\n",
       "      <td>[V_SLT Voice Service]</td>\n",
       "      <td>[2018-08]</td>\n",
       "      <td>[0]</td>\n",
       "      <td>[0.0]</td>\n",
       "      <td>1</td>\n",
       "    </tr>\n",
       "    <tr>\n",
       "      <th>13174</th>\n",
       "      <td>fffb852a3973fc8e00eb3f3194625d2c</td>\n",
       "      <td>dcab884afd6c1a13df78119714e9b76e</td>\n",
       "      <td>10cbb7cbabcfa7868a816f1f4f0187bb</td>\n",
       "      <td>[V_SLT Voice Service]</td>\n",
       "      <td>[2018-08]</td>\n",
       "      <td>[0]</td>\n",
       "      <td>[0.0]</td>\n",
       "      <td>1</td>\n",
       "    </tr>\n",
       "    <tr>\n",
       "      <th>13175</th>\n",
       "      <td>fffbdf8e718726a5dac393d2014a83cc</td>\n",
       "      <td>949e14e85d36002ffb954d42d3366936</td>\n",
       "      <td>51ee71e46ba64034adaf383345028fb8</td>\n",
       "      <td>[V_Sisu Connect, V_SLT Voice Service]</td>\n",
       "      <td>[2016-10, 2018-08]</td>\n",
       "      <td>[30, 0]</td>\n",
       "      <td>[0.0, 0.0]</td>\n",
       "      <td>2</td>\n",
       "    </tr>\n",
       "    <tr>\n",
       "      <th>13176</th>\n",
       "      <td>ffff41a457d4ad9618d788bdd917e4ce</td>\n",
       "      <td>44224bc1e2e7101c90bbad70dbcc5a6c</td>\n",
       "      <td>f5d47ec8993b2e30d200ec5f1c3bae1b</td>\n",
       "      <td>[V_SLT Voice Service]</td>\n",
       "      <td>[2018-08]</td>\n",
       "      <td>[0]</td>\n",
       "      <td>[0.0]</td>\n",
       "      <td>1</td>\n",
       "    </tr>\n",
       "    <tr>\n",
       "      <th>13177</th>\n",
       "      <td>ffff43d0cc07aff0964f0ae29aa10363</td>\n",
       "      <td>bd0cc5e96b24df6625fc68cbaf71b555</td>\n",
       "      <td>df4bc5da4eaaaab1d937c3fd2a699c3f</td>\n",
       "      <td>[V_SLT Voice Service]</td>\n",
       "      <td>[2018-02]</td>\n",
       "      <td>[399.0]</td>\n",
       "      <td>[0.0]</td>\n",
       "      <td>1</td>\n",
       "    </tr>\n",
       "  </tbody>\n",
       "</table>\n",
       "<p>13178 rows × 8 columns</p>\n",
       "</div>"
      ],
      "text/plain": [
       "                      event_source.hash                  ACCOUNT_NUM.hash  \\\n",
       "0      00099ff6e175f2b49e7067b20d69e4c3  6b4bfa1e32f513071c6b138a86c3bac9   \n",
       "1      00171279c5c3c6731802925d8409245e  76d9ebdabc9289f652367e82f2371dc8   \n",
       "2      0017f09b5ff65c692de63b95d1edee27  0e1fe0d01f3a2e9619999a1a634ec427   \n",
       "3      00221451f705ebe26051158bb14f567a  95899aea6cbb6ebd518bfd1379314657   \n",
       "4      002263311c9590ff1f95cac37b673672  d5b3f685fee264650b3de22f2bef0023   \n",
       "...                                 ...                               ...   \n",
       "13173  fff8db1c04225d5ce4a152c3fcad97b3  af66a61a98c385584e3fccfd8dcc5412   \n",
       "13174  fffb852a3973fc8e00eb3f3194625d2c  dcab884afd6c1a13df78119714e9b76e   \n",
       "13175  fffbdf8e718726a5dac393d2014a83cc  949e14e85d36002ffb954d42d3366936   \n",
       "13176  ffff41a457d4ad9618d788bdd917e4ce  44224bc1e2e7101c90bbad70dbcc5a6c   \n",
       "13177  ffff43d0cc07aff0964f0ae29aa10363  bd0cc5e96b24df6625fc68cbaf71b555   \n",
       "\n",
       "                      CUSTOMER_REF.hash  \\\n",
       "0      0552174bba6950523aa45450f6690d02   \n",
       "1      7ea6989a212eb0a84f9d551b98d73dbb   \n",
       "2      cd3b840fb0da1abcc5bfdebaca6cd761   \n",
       "3      907512d4e4b527b659c64934965ce5e6   \n",
       "4      5dba81403ff06d5af8d260930300462e   \n",
       "...                                 ...   \n",
       "13173  1eca97f3ce8ee40e866677fdccc1d60e   \n",
       "13174  10cbb7cbabcfa7868a816f1f4f0187bb   \n",
       "13175  51ee71e46ba64034adaf383345028fb8   \n",
       "13176  f5d47ec8993b2e30d200ec5f1c3bae1b   \n",
       "13177  df4bc5da4eaaaab1d937c3fd2a699c3f   \n",
       "\n",
       "                                      Voice_VAS_Package  \\\n",
       "0                 [V_Sisu Connect, V_SLT Voice Service]   \n",
       "1      [V-Basic1_TeleLife, V_E-channeling Subscription]   \n",
       "2                                 [V_SLT Voice Service]   \n",
       "3                                 [V_SLT Voice Service]   \n",
       "4                 [V_SLT Voice Service, V_Sisu Connect]   \n",
       "...                                                 ...   \n",
       "13173                             [V_SLT Voice Service]   \n",
       "13174                             [V_SLT Voice Service]   \n",
       "13175             [V_Sisu Connect, V_SLT Voice Service]   \n",
       "13176                             [V_SLT Voice Service]   \n",
       "13177                             [V_SLT Voice Service]   \n",
       "\n",
       "      Voice_VAS_Month_Subscribed Voice_VAS_Rental Voice_VAS_One_Time_Charge  \\\n",
       "0             [2018-08, 2018-08]          [30, 0]                [0.0, 0.0]   \n",
       "1             [2018-08, 2019-01]          [60, 0]                [0.0, 0.0]   \n",
       "2                      [2018-08]              [0]                     [0.0]   \n",
       "3                      [2018-08]              [0]                     [0.0]   \n",
       "4             [2018-08, 2018-08]          [0, 30]                [0.0, 0.0]   \n",
       "...                          ...              ...                       ...   \n",
       "13173                  [2018-08]              [0]                     [0.0]   \n",
       "13174                  [2018-08]              [0]                     [0.0]   \n",
       "13175         [2016-10, 2018-08]          [30, 0]                [0.0, 0.0]   \n",
       "13176                  [2018-08]              [0]                     [0.0]   \n",
       "13177                  [2018-02]          [399.0]                     [0.0]   \n",
       "\n",
       "       VAS_Count  \n",
       "0              2  \n",
       "1              2  \n",
       "2              1  \n",
       "3              1  \n",
       "4              2  \n",
       "...          ...  \n",
       "13173          1  \n",
       "13174          1  \n",
       "13175          2  \n",
       "13176          1  \n",
       "13177          1  \n",
       "\n",
       "[13178 rows x 8 columns]"
      ]
     },
     "execution_count": 702,
     "metadata": {},
     "output_type": "execute_result"
    }
   ],
   "source": [
    "voice_agg_df"
   ]
  },
  {
   "cell_type": "code",
   "execution_count": 703,
   "metadata": {},
   "outputs": [],
   "source": [
    "voice_agg_df.to_csv(\"data/user_profile/VAS_Voice_Aggregated.csv\")"
   ]
  },
  {
   "cell_type": "code",
   "execution_count": null,
   "metadata": {},
   "outputs": [],
   "source": []
  },
  {
   "cell_type": "markdown",
   "metadata": {},
   "source": [
    "### BB VAS Aggregation"
   ]
  },
  {
   "cell_type": "code",
   "execution_count": 704,
   "metadata": {},
   "outputs": [
    {
     "name": "stderr",
     "output_type": "stream",
     "text": [
      "<ipython-input-704-9f0bd0903247>:2: SettingWithCopyWarning: \n",
      "A value is trying to be set on a copy of a slice from a DataFrame.\n",
      "Try using .loc[row_indexer,col_indexer] = value instead\n",
      "\n",
      "See the caveats in the documentation: https://pandas.pydata.org/pandas-docs/stable/user_guide/indexing.html#returning-a-view-versus-a-copy\n",
      "  bb_agg_df[\"VAS_Count\"] = 1\n"
     ]
    }
   ],
   "source": [
    "bb_agg_df = vas_final_df[(vas_final_df[\"VAS_Type\"]==\"BB\")]\n",
    "bb_agg_df[\"VAS_Count\"] = 1"
   ]
  },
  {
   "cell_type": "code",
   "execution_count": 705,
   "metadata": {},
   "outputs": [],
   "source": [
    "bb_agg_df = bb_agg_df.groupby('event_source.hash', as_index=False).agg(list)"
   ]
  },
  {
   "cell_type": "code",
   "execution_count": 706,
   "metadata": {},
   "outputs": [],
   "source": [
    "bb_agg_df[\"ACCOUNT_NUM.hash\"]= bb_agg_df[\"ACCOUNT_NUM.hash\"].apply(lambda x: x[0])\n",
    "bb_agg_df[\"CUSTOMER_REF.hash\"]= bb_agg_df[\"CUSTOMER_REF.hash\"].apply(lambda x: x[0])\n",
    "bb_agg_df.drop([\"VAS_Type\"],axis=1,inplace=True)\n",
    "bb_agg_df.rename(columns={\"VAS\":\"BB_VAS_Package\",\"Month_Subscribed\":\"BB_VAS_Month_Subscribed\",\"Rental\":\"BB_VAS_Rental\",\"One_Time_Charge\":\"BB_VAS_One_Time_Charge\"},inplace=True)\n",
    "bb_agg_df['VAS_Count'] = bb_agg_df.apply(lambda x: len(x['VAS_Count']), axis=1)"
   ]
  },
  {
   "cell_type": "code",
   "execution_count": 707,
   "metadata": {},
   "outputs": [
    {
     "data": {
      "text/html": [
       "<div>\n",
       "<style scoped>\n",
       "    .dataframe tbody tr th:only-of-type {\n",
       "        vertical-align: middle;\n",
       "    }\n",
       "\n",
       "    .dataframe tbody tr th {\n",
       "        vertical-align: top;\n",
       "    }\n",
       "\n",
       "    .dataframe thead th {\n",
       "        text-align: right;\n",
       "    }\n",
       "</style>\n",
       "<table border=\"1\" class=\"dataframe\">\n",
       "  <thead>\n",
       "    <tr style=\"text-align: right;\">\n",
       "      <th></th>\n",
       "      <th>event_source.hash</th>\n",
       "      <th>ACCOUNT_NUM.hash</th>\n",
       "      <th>CUSTOMER_REF.hash</th>\n",
       "      <th>BB_VAS_Package</th>\n",
       "      <th>BB_VAS_Month_Subscribed</th>\n",
       "      <th>BB_VAS_Rental</th>\n",
       "      <th>BB_VAS_One_Time_Charge</th>\n",
       "      <th>VAS_Count</th>\n",
       "    </tr>\n",
       "  </thead>\n",
       "  <tbody>\n",
       "    <tr>\n",
       "      <th>0</th>\n",
       "      <td>000f86cd741d4e51303065b5f868e5ab</td>\n",
       "      <td>bd0cc5e96b24df6625fc68cbaf71b555</td>\n",
       "      <td>df4bc5da4eaaaab1d937c3fd2a699c3f</td>\n",
       "      <td>[BB_YouTube Bundle]</td>\n",
       "      <td>[2021-05]</td>\n",
       "      <td>[155]</td>\n",
       "      <td>[0.0]</td>\n",
       "      <td>1</td>\n",
       "    </tr>\n",
       "    <tr>\n",
       "      <th>1</th>\n",
       "      <td>0017f09b5ff65c692de63b95d1edee27</td>\n",
       "      <td>0e1fe0d01f3a2e9619999a1a634ec427</td>\n",
       "      <td>cd3b840fb0da1abcc5bfdebaca6cd761</td>\n",
       "      <td>[BB_YouTube Bundle]</td>\n",
       "      <td>[2021-04]</td>\n",
       "      <td>[155]</td>\n",
       "      <td>[0.0]</td>\n",
       "      <td>1</td>\n",
       "    </tr>\n",
       "    <tr>\n",
       "      <th>2</th>\n",
       "      <td>00225f30e3f5a4ac69240126f024755f</td>\n",
       "      <td>bd0cc5e96b24df6625fc68cbaf71b555</td>\n",
       "      <td>df4bc5da4eaaaab1d937c3fd2a699c3f</td>\n",
       "      <td>[BB_YouTube Bundle]</td>\n",
       "      <td>[2021-05]</td>\n",
       "      <td>[155]</td>\n",
       "      <td>[0.0]</td>\n",
       "      <td>1</td>\n",
       "    </tr>\n",
       "    <tr>\n",
       "      <th>3</th>\n",
       "      <td>002cca1db37149525524a0a73bb6c3a7</td>\n",
       "      <td>bd0cc5e96b24df6625fc68cbaf71b555</td>\n",
       "      <td>df4bc5da4eaaaab1d937c3fd2a699c3f</td>\n",
       "      <td>[BB_YouTube Bundle]</td>\n",
       "      <td>[2021-05]</td>\n",
       "      <td>[155]</td>\n",
       "      <td>[0.0]</td>\n",
       "      <td>1</td>\n",
       "    </tr>\n",
       "    <tr>\n",
       "      <th>4</th>\n",
       "      <td>003796c503ba503e92b152acca7aa9e1</td>\n",
       "      <td>cc88c49f580c13600e99dfd9920d05e9</td>\n",
       "      <td>ac995f79a7164b89de084396352b343b</td>\n",
       "      <td>[BB_SLT BroadBand Service]</td>\n",
       "      <td>[2019-10]</td>\n",
       "      <td>[450.0]</td>\n",
       "      <td>[0.0]</td>\n",
       "      <td>1</td>\n",
       "    </tr>\n",
       "    <tr>\n",
       "      <th>...</th>\n",
       "      <td>...</td>\n",
       "      <td>...</td>\n",
       "      <td>...</td>\n",
       "      <td>...</td>\n",
       "      <td>...</td>\n",
       "      <td>...</td>\n",
       "      <td>...</td>\n",
       "      <td>...</td>\n",
       "    </tr>\n",
       "    <tr>\n",
       "      <th>9107</th>\n",
       "      <td>fff754c9c5b6d3cebca36838143d529d</td>\n",
       "      <td>bd0cc5e96b24df6625fc68cbaf71b555</td>\n",
       "      <td>df4bc5da4eaaaab1d937c3fd2a699c3f</td>\n",
       "      <td>[BB_YouTube Bundle]</td>\n",
       "      <td>[2021-05]</td>\n",
       "      <td>[155]</td>\n",
       "      <td>[0.0]</td>\n",
       "      <td>1</td>\n",
       "    </tr>\n",
       "    <tr>\n",
       "      <th>9108</th>\n",
       "      <td>fffbdf8e718726a5dac393d2014a83cc</td>\n",
       "      <td>949e14e85d36002ffb954d42d3366936</td>\n",
       "      <td>51ee71e46ba64034adaf383345028fb8</td>\n",
       "      <td>[BB_Messenger Bundle, BB_YouTube Bundle]</td>\n",
       "      <td>[2021-05, 2021-05]</td>\n",
       "      <td>[45, 155]</td>\n",
       "      <td>[0.0, 0.0]</td>\n",
       "      <td>2</td>\n",
       "    </tr>\n",
       "    <tr>\n",
       "      <th>9109</th>\n",
       "      <td>fffc787f7b89f0a9401de0dbe3ab2206</td>\n",
       "      <td>bd0cc5e96b24df6625fc68cbaf71b555</td>\n",
       "      <td>df4bc5da4eaaaab1d937c3fd2a699c3f</td>\n",
       "      <td>[BB_YouTube Bundle]</td>\n",
       "      <td>[2021-05]</td>\n",
       "      <td>[155]</td>\n",
       "      <td>[0.0]</td>\n",
       "      <td>1</td>\n",
       "    </tr>\n",
       "    <tr>\n",
       "      <th>9110</th>\n",
       "      <td>ffff0039c1e0c380c4b890e6997d33c5</td>\n",
       "      <td>0e1fe0d01f3a2e9619999a1a634ec427</td>\n",
       "      <td>cd3b840fb0da1abcc5bfdebaca6cd761</td>\n",
       "      <td>[BB_YouTube Bundle]</td>\n",
       "      <td>[2021-04]</td>\n",
       "      <td>[155]</td>\n",
       "      <td>[0.0]</td>\n",
       "      <td>1</td>\n",
       "    </tr>\n",
       "    <tr>\n",
       "      <th>9111</th>\n",
       "      <td>ffff43d0cc07aff0964f0ae29aa10363</td>\n",
       "      <td>bd0cc5e96b24df6625fc68cbaf71b555</td>\n",
       "      <td>df4bc5da4eaaaab1d937c3fd2a699c3f</td>\n",
       "      <td>[BB_YouTube Bundle]</td>\n",
       "      <td>[2021-05]</td>\n",
       "      <td>[155]</td>\n",
       "      <td>[0.0]</td>\n",
       "      <td>1</td>\n",
       "    </tr>\n",
       "  </tbody>\n",
       "</table>\n",
       "<p>9112 rows × 8 columns</p>\n",
       "</div>"
      ],
      "text/plain": [
       "                     event_source.hash                  ACCOUNT_NUM.hash  \\\n",
       "0     000f86cd741d4e51303065b5f868e5ab  bd0cc5e96b24df6625fc68cbaf71b555   \n",
       "1     0017f09b5ff65c692de63b95d1edee27  0e1fe0d01f3a2e9619999a1a634ec427   \n",
       "2     00225f30e3f5a4ac69240126f024755f  bd0cc5e96b24df6625fc68cbaf71b555   \n",
       "3     002cca1db37149525524a0a73bb6c3a7  bd0cc5e96b24df6625fc68cbaf71b555   \n",
       "4     003796c503ba503e92b152acca7aa9e1  cc88c49f580c13600e99dfd9920d05e9   \n",
       "...                                ...                               ...   \n",
       "9107  fff754c9c5b6d3cebca36838143d529d  bd0cc5e96b24df6625fc68cbaf71b555   \n",
       "9108  fffbdf8e718726a5dac393d2014a83cc  949e14e85d36002ffb954d42d3366936   \n",
       "9109  fffc787f7b89f0a9401de0dbe3ab2206  bd0cc5e96b24df6625fc68cbaf71b555   \n",
       "9110  ffff0039c1e0c380c4b890e6997d33c5  0e1fe0d01f3a2e9619999a1a634ec427   \n",
       "9111  ffff43d0cc07aff0964f0ae29aa10363  bd0cc5e96b24df6625fc68cbaf71b555   \n",
       "\n",
       "                     CUSTOMER_REF.hash  \\\n",
       "0     df4bc5da4eaaaab1d937c3fd2a699c3f   \n",
       "1     cd3b840fb0da1abcc5bfdebaca6cd761   \n",
       "2     df4bc5da4eaaaab1d937c3fd2a699c3f   \n",
       "3     df4bc5da4eaaaab1d937c3fd2a699c3f   \n",
       "4     ac995f79a7164b89de084396352b343b   \n",
       "...                                ...   \n",
       "9107  df4bc5da4eaaaab1d937c3fd2a699c3f   \n",
       "9108  51ee71e46ba64034adaf383345028fb8   \n",
       "9109  df4bc5da4eaaaab1d937c3fd2a699c3f   \n",
       "9110  cd3b840fb0da1abcc5bfdebaca6cd761   \n",
       "9111  df4bc5da4eaaaab1d937c3fd2a699c3f   \n",
       "\n",
       "                                BB_VAS_Package BB_VAS_Month_Subscribed  \\\n",
       "0                          [BB_YouTube Bundle]               [2021-05]   \n",
       "1                          [BB_YouTube Bundle]               [2021-04]   \n",
       "2                          [BB_YouTube Bundle]               [2021-05]   \n",
       "3                          [BB_YouTube Bundle]               [2021-05]   \n",
       "4                   [BB_SLT BroadBand Service]               [2019-10]   \n",
       "...                                        ...                     ...   \n",
       "9107                       [BB_YouTube Bundle]               [2021-05]   \n",
       "9108  [BB_Messenger Bundle, BB_YouTube Bundle]      [2021-05, 2021-05]   \n",
       "9109                       [BB_YouTube Bundle]               [2021-05]   \n",
       "9110                       [BB_YouTube Bundle]               [2021-04]   \n",
       "9111                       [BB_YouTube Bundle]               [2021-05]   \n",
       "\n",
       "     BB_VAS_Rental BB_VAS_One_Time_Charge  VAS_Count  \n",
       "0            [155]                  [0.0]          1  \n",
       "1            [155]                  [0.0]          1  \n",
       "2            [155]                  [0.0]          1  \n",
       "3            [155]                  [0.0]          1  \n",
       "4          [450.0]                  [0.0]          1  \n",
       "...            ...                    ...        ...  \n",
       "9107         [155]                  [0.0]          1  \n",
       "9108     [45, 155]             [0.0, 0.0]          2  \n",
       "9109         [155]                  [0.0]          1  \n",
       "9110         [155]                  [0.0]          1  \n",
       "9111         [155]                  [0.0]          1  \n",
       "\n",
       "[9112 rows x 8 columns]"
      ]
     },
     "execution_count": 707,
     "metadata": {},
     "output_type": "execute_result"
    }
   ],
   "source": [
    "bb_agg_df"
   ]
  },
  {
   "cell_type": "code",
   "execution_count": 708,
   "metadata": {},
   "outputs": [
    {
     "data": {
      "text/plain": [
       "9112"
      ]
     },
     "execution_count": 708,
     "metadata": {},
     "output_type": "execute_result"
    }
   ],
   "source": [
    "len(bb_agg_df[\"event_source.hash\"].unique())"
   ]
  },
  {
   "cell_type": "code",
   "execution_count": 709,
   "metadata": {},
   "outputs": [],
   "source": [
    "bb_agg_df.to_csv(\"data/user_profile/VAS_BB_Aggregated.csv\")"
   ]
  },
  {
   "cell_type": "code",
   "execution_count": null,
   "metadata": {},
   "outputs": [],
   "source": []
  },
  {
   "cell_type": "markdown",
   "metadata": {},
   "source": [
    "### Peo VAS Aggregation"
   ]
  },
  {
   "cell_type": "code",
   "execution_count": 710,
   "metadata": {},
   "outputs": [
    {
     "name": "stderr",
     "output_type": "stream",
     "text": [
      "<ipython-input-710-dded03e3155d>:2: SettingWithCopyWarning: \n",
      "A value is trying to be set on a copy of a slice from a DataFrame.\n",
      "Try using .loc[row_indexer,col_indexer] = value instead\n",
      "\n",
      "See the caveats in the documentation: https://pandas.pydata.org/pandas-docs/stable/user_guide/indexing.html#returning-a-view-versus-a-copy\n",
      "  peo_agg_df[\"VAS_Count\"] = 1\n"
     ]
    }
   ],
   "source": [
    "peo_agg_df = vas_final_df[(vas_final_df[\"VAS_Type\"]==\"PeoTV\")]\n",
    "peo_agg_df[\"VAS_Count\"] = 1"
   ]
  },
  {
   "cell_type": "code",
   "execution_count": 711,
   "metadata": {},
   "outputs": [],
   "source": [
    "peo_agg_df = peo_agg_df.groupby('event_source.hash', as_index=False).agg(list)"
   ]
  },
  {
   "cell_type": "code",
   "execution_count": 712,
   "metadata": {},
   "outputs": [],
   "source": [
    "peo_agg_df[\"ACCOUNT_NUM.hash\"]= peo_agg_df[\"ACCOUNT_NUM.hash\"].apply(lambda x: x[0])\n",
    "peo_agg_df[\"CUSTOMER_REF.hash\"]= peo_agg_df[\"CUSTOMER_REF.hash\"].apply(lambda x: x[0])\n",
    "peo_agg_df.drop([\"VAS_Type\"],axis=1,inplace=True)\n",
    "peo_agg_df.rename(columns={\"VAS\":\"Peo_VAS_Package\",\"Month_Subscribed\":\"Peo_VAS_Month_Subscribed\",\"Rental\":\"Peo_VAS_Rental\",\"One_Time_Charge\":\"Peo_VAS_One_Time_Charge\"},inplace=True)\n",
    "peo_agg_df['VAS_Count'] = peo_agg_df.apply(lambda x: len(x['VAS_Count']), axis=1)"
   ]
  },
  {
   "cell_type": "code",
   "execution_count": 713,
   "metadata": {},
   "outputs": [
    {
     "data": {
      "text/html": [
       "<div>\n",
       "<style scoped>\n",
       "    .dataframe tbody tr th:only-of-type {\n",
       "        vertical-align: middle;\n",
       "    }\n",
       "\n",
       "    .dataframe tbody tr th {\n",
       "        vertical-align: top;\n",
       "    }\n",
       "\n",
       "    .dataframe thead th {\n",
       "        text-align: right;\n",
       "    }\n",
       "</style>\n",
       "<table border=\"1\" class=\"dataframe\">\n",
       "  <thead>\n",
       "    <tr style=\"text-align: right;\">\n",
       "      <th></th>\n",
       "      <th>event_source.hash</th>\n",
       "      <th>ACCOUNT_NUM.hash</th>\n",
       "      <th>CUSTOMER_REF.hash</th>\n",
       "      <th>Peo_VAS_Package</th>\n",
       "      <th>Peo_VAS_Month_Subscribed</th>\n",
       "      <th>Peo_VAS_Rental</th>\n",
       "      <th>Peo_VAS_One_Time_Charge</th>\n",
       "      <th>VAS_Count</th>\n",
       "    </tr>\n",
       "  </thead>\n",
       "  <tbody>\n",
       "    <tr>\n",
       "      <th>0</th>\n",
       "      <td>00225f30e3f5a4ac69240126f024755f</td>\n",
       "      <td>bd0cc5e96b24df6625fc68cbaf71b555</td>\n",
       "      <td>df4bc5da4eaaaab1d937c3fd2a699c3f</td>\n",
       "      <td>[BB_PeoTVGO]</td>\n",
       "      <td>[2018-12]</td>\n",
       "      <td>[0]</td>\n",
       "      <td>[0.0]</td>\n",
       "      <td>1</td>\n",
       "    </tr>\n",
       "    <tr>\n",
       "      <th>1</th>\n",
       "      <td>004946c192a7aafe74e3ef68dc8b9d15</td>\n",
       "      <td>47cd867e6b0b270d4c6b928319313ccb</td>\n",
       "      <td>7f36cd95f45398e9d1708179771270d6</td>\n",
       "      <td>[BB_PeoTVGO]</td>\n",
       "      <td>[2019-10]</td>\n",
       "      <td>[0]</td>\n",
       "      <td>[0.0]</td>\n",
       "      <td>1</td>\n",
       "    </tr>\n",
       "    <tr>\n",
       "      <th>2</th>\n",
       "      <td>006478b07ca47a5c7eff3104972095a4</td>\n",
       "      <td>bd0cc5e96b24df6625fc68cbaf71b555</td>\n",
       "      <td>df4bc5da4eaaaab1d937c3fd2a699c3f</td>\n",
       "      <td>[BB_PeoTVGO]</td>\n",
       "      <td>[2019-10]</td>\n",
       "      <td>[0]</td>\n",
       "      <td>[0.0]</td>\n",
       "      <td>1</td>\n",
       "    </tr>\n",
       "    <tr>\n",
       "      <th>3</th>\n",
       "      <td>0087f5414a487d99162dc21efa391f08</td>\n",
       "      <td>0e1fe0d01f3a2e9619999a1a634ec427</td>\n",
       "      <td>cd3b840fb0da1abcc5bfdebaca6cd761</td>\n",
       "      <td>[BB_PeoTVGO]</td>\n",
       "      <td>[2018-12]</td>\n",
       "      <td>[0]</td>\n",
       "      <td>[0.0]</td>\n",
       "      <td>1</td>\n",
       "    </tr>\n",
       "    <tr>\n",
       "      <th>4</th>\n",
       "      <td>009e0e211ba3eda75c85d22e12b75fb5</td>\n",
       "      <td>06623c7ba64331f615ff83c5664b71bb</td>\n",
       "      <td>ac995f79a7164b89de084396352b343b</td>\n",
       "      <td>[BB_PeoTVGO]</td>\n",
       "      <td>[2019-10]</td>\n",
       "      <td>[0]</td>\n",
       "      <td>[0.0]</td>\n",
       "      <td>1</td>\n",
       "    </tr>\n",
       "    <tr>\n",
       "      <th>...</th>\n",
       "      <td>...</td>\n",
       "      <td>...</td>\n",
       "      <td>...</td>\n",
       "      <td>...</td>\n",
       "      <td>...</td>\n",
       "      <td>...</td>\n",
       "      <td>...</td>\n",
       "      <td>...</td>\n",
       "    </tr>\n",
       "    <tr>\n",
       "      <th>3092</th>\n",
       "      <td>ffa799c5bee3d1560685c808a0de72b9</td>\n",
       "      <td>bb57e0928c585a797e231c828d41fd28</td>\n",
       "      <td>7864a8f51e5136ce029c86d11c644959</td>\n",
       "      <td>[BB_PeoTVGO]</td>\n",
       "      <td>[2019-10]</td>\n",
       "      <td>[0]</td>\n",
       "      <td>[0.0]</td>\n",
       "      <td>1</td>\n",
       "    </tr>\n",
       "    <tr>\n",
       "      <th>3093</th>\n",
       "      <td>ffb2ec238eba276f65157693ed329c7f</td>\n",
       "      <td>f5934060d1b7b0a329df4d29242225b8</td>\n",
       "      <td>37049e4fedd6c790a9cb0d91a20d3782</td>\n",
       "      <td>[E_SLT PeoTV Service]</td>\n",
       "      <td>[2019-12]</td>\n",
       "      <td>[899.0]</td>\n",
       "      <td>[0.0]</td>\n",
       "      <td>1</td>\n",
       "    </tr>\n",
       "    <tr>\n",
       "      <th>3094</th>\n",
       "      <td>ffea7843d6d18363551948c6553ca77a</td>\n",
       "      <td>16ba7704ef69803d3d41ebde44ad1c06</td>\n",
       "      <td>f7f58f60160d44ff1205c52c8676999f</td>\n",
       "      <td>[BB_PeoTVGO]</td>\n",
       "      <td>[2019-10]</td>\n",
       "      <td>[0]</td>\n",
       "      <td>[0.0]</td>\n",
       "      <td>1</td>\n",
       "    </tr>\n",
       "    <tr>\n",
       "      <th>3095</th>\n",
       "      <td>fffb5e3c6693a35fbab056cb7bb374e8</td>\n",
       "      <td>af66a61a98c385584e3fccfd8dcc5412</td>\n",
       "      <td>1eca97f3ce8ee40e866677fdccc1d60e</td>\n",
       "      <td>[BB_PeoTVGO]</td>\n",
       "      <td>[2019-10]</td>\n",
       "      <td>[0]</td>\n",
       "      <td>[0.0]</td>\n",
       "      <td>1</td>\n",
       "    </tr>\n",
       "    <tr>\n",
       "      <th>3096</th>\n",
       "      <td>ffff0039c1e0c380c4b890e6997d33c5</td>\n",
       "      <td>0e1fe0d01f3a2e9619999a1a634ec427</td>\n",
       "      <td>cd3b840fb0da1abcc5bfdebaca6cd761</td>\n",
       "      <td>[E_SLT PeoTV Service]</td>\n",
       "      <td>[2020-02]</td>\n",
       "      <td>[899.0]</td>\n",
       "      <td>[0.0]</td>\n",
       "      <td>1</td>\n",
       "    </tr>\n",
       "  </tbody>\n",
       "</table>\n",
       "<p>3097 rows × 8 columns</p>\n",
       "</div>"
      ],
      "text/plain": [
       "                     event_source.hash                  ACCOUNT_NUM.hash  \\\n",
       "0     00225f30e3f5a4ac69240126f024755f  bd0cc5e96b24df6625fc68cbaf71b555   \n",
       "1     004946c192a7aafe74e3ef68dc8b9d15  47cd867e6b0b270d4c6b928319313ccb   \n",
       "2     006478b07ca47a5c7eff3104972095a4  bd0cc5e96b24df6625fc68cbaf71b555   \n",
       "3     0087f5414a487d99162dc21efa391f08  0e1fe0d01f3a2e9619999a1a634ec427   \n",
       "4     009e0e211ba3eda75c85d22e12b75fb5  06623c7ba64331f615ff83c5664b71bb   \n",
       "...                                ...                               ...   \n",
       "3092  ffa799c5bee3d1560685c808a0de72b9  bb57e0928c585a797e231c828d41fd28   \n",
       "3093  ffb2ec238eba276f65157693ed329c7f  f5934060d1b7b0a329df4d29242225b8   \n",
       "3094  ffea7843d6d18363551948c6553ca77a  16ba7704ef69803d3d41ebde44ad1c06   \n",
       "3095  fffb5e3c6693a35fbab056cb7bb374e8  af66a61a98c385584e3fccfd8dcc5412   \n",
       "3096  ffff0039c1e0c380c4b890e6997d33c5  0e1fe0d01f3a2e9619999a1a634ec427   \n",
       "\n",
       "                     CUSTOMER_REF.hash        Peo_VAS_Package  \\\n",
       "0     df4bc5da4eaaaab1d937c3fd2a699c3f           [BB_PeoTVGO]   \n",
       "1     7f36cd95f45398e9d1708179771270d6           [BB_PeoTVGO]   \n",
       "2     df4bc5da4eaaaab1d937c3fd2a699c3f           [BB_PeoTVGO]   \n",
       "3     cd3b840fb0da1abcc5bfdebaca6cd761           [BB_PeoTVGO]   \n",
       "4     ac995f79a7164b89de084396352b343b           [BB_PeoTVGO]   \n",
       "...                                ...                    ...   \n",
       "3092  7864a8f51e5136ce029c86d11c644959           [BB_PeoTVGO]   \n",
       "3093  37049e4fedd6c790a9cb0d91a20d3782  [E_SLT PeoTV Service]   \n",
       "3094  f7f58f60160d44ff1205c52c8676999f           [BB_PeoTVGO]   \n",
       "3095  1eca97f3ce8ee40e866677fdccc1d60e           [BB_PeoTVGO]   \n",
       "3096  cd3b840fb0da1abcc5bfdebaca6cd761  [E_SLT PeoTV Service]   \n",
       "\n",
       "     Peo_VAS_Month_Subscribed Peo_VAS_Rental Peo_VAS_One_Time_Charge  \\\n",
       "0                   [2018-12]            [0]                   [0.0]   \n",
       "1                   [2019-10]            [0]                   [0.0]   \n",
       "2                   [2019-10]            [0]                   [0.0]   \n",
       "3                   [2018-12]            [0]                   [0.0]   \n",
       "4                   [2019-10]            [0]                   [0.0]   \n",
       "...                       ...            ...                     ...   \n",
       "3092                [2019-10]            [0]                   [0.0]   \n",
       "3093                [2019-12]        [899.0]                   [0.0]   \n",
       "3094                [2019-10]            [0]                   [0.0]   \n",
       "3095                [2019-10]            [0]                   [0.0]   \n",
       "3096                [2020-02]        [899.0]                   [0.0]   \n",
       "\n",
       "      VAS_Count  \n",
       "0             1  \n",
       "1             1  \n",
       "2             1  \n",
       "3             1  \n",
       "4             1  \n",
       "...         ...  \n",
       "3092          1  \n",
       "3093          1  \n",
       "3094          1  \n",
       "3095          1  \n",
       "3096          1  \n",
       "\n",
       "[3097 rows x 8 columns]"
      ]
     },
     "execution_count": 713,
     "metadata": {},
     "output_type": "execute_result"
    }
   ],
   "source": [
    "peo_agg_df"
   ]
  },
  {
   "cell_type": "code",
   "execution_count": 714,
   "metadata": {},
   "outputs": [
    {
     "data": {
      "text/plain": [
       "3097"
      ]
     },
     "execution_count": 714,
     "metadata": {},
     "output_type": "execute_result"
    }
   ],
   "source": [
    "len(peo_agg_df[\"event_source.hash\"].unique())"
   ]
  },
  {
   "cell_type": "code",
   "execution_count": 715,
   "metadata": {},
   "outputs": [],
   "source": [
    "peo_agg_df.to_csv(\"data/user_profile/VAS_Peo_Aggregated.csv\")"
   ]
  },
  {
   "cell_type": "code",
   "execution_count": null,
   "metadata": {},
   "outputs": [],
   "source": []
  },
  {
   "cell_type": "markdown",
   "metadata": {},
   "source": [
    "### Uncategorized VAS Aggregation"
   ]
  },
  {
   "cell_type": "code",
   "execution_count": 716,
   "metadata": {},
   "outputs": [
    {
     "name": "stderr",
     "output_type": "stream",
     "text": [
      "<ipython-input-716-cfa885fd22f7>:2: SettingWithCopyWarning: \n",
      "A value is trying to be set on a copy of a slice from a DataFrame.\n",
      "Try using .loc[row_indexer,col_indexer] = value instead\n",
      "\n",
      "See the caveats in the documentation: https://pandas.pydata.org/pandas-docs/stable/user_guide/indexing.html#returning-a-view-versus-a-copy\n",
      "  other_agg_df[\"VAS_Count\"] = 1\n"
     ]
    }
   ],
   "source": [
    "other_agg_df = vas_final_df[(vas_final_df[\"VAS_Type\"]==\"Other\")]\n",
    "other_agg_df[\"VAS_Count\"] = 1"
   ]
  },
  {
   "cell_type": "code",
   "execution_count": 717,
   "metadata": {},
   "outputs": [],
   "source": [
    "other_agg_df = other_agg_df.groupby('event_source.hash', as_index=False).agg(list)"
   ]
  },
  {
   "cell_type": "code",
   "execution_count": 718,
   "metadata": {},
   "outputs": [],
   "source": [
    "other_agg_df[\"ACCOUNT_NUM.hash\"]= other_agg_df[\"ACCOUNT_NUM.hash\"].apply(lambda x: x[0])\n",
    "other_agg_df[\"CUSTOMER_REF.hash\"]= other_agg_df[\"CUSTOMER_REF.hash\"].apply(lambda x: x[0])\n",
    "other_agg_df.drop([\"VAS_Type\"],axis=1,inplace=True)\n",
    "other_agg_df.rename(columns={\"VAS\":\"Other_VAS_Package\",\"Month_Subscribed\":\"Other_VAS_Month_Subscribed\",\"Rental\":\"Other_VAS_Rental\",\"One_Time_Charge\":\"Other_VAS_One_Time_Charge\"},inplace=True)\n",
    "other_agg_df['VAS_Count'] = other_agg_df.apply(lambda x: len(x['VAS_Count']), axis=1)"
   ]
  },
  {
   "cell_type": "code",
   "execution_count": 719,
   "metadata": {},
   "outputs": [
    {
     "data": {
      "text/html": [
       "<div>\n",
       "<style scoped>\n",
       "    .dataframe tbody tr th:only-of-type {\n",
       "        vertical-align: middle;\n",
       "    }\n",
       "\n",
       "    .dataframe tbody tr th {\n",
       "        vertical-align: top;\n",
       "    }\n",
       "\n",
       "    .dataframe thead th {\n",
       "        text-align: right;\n",
       "    }\n",
       "</style>\n",
       "<table border=\"1\" class=\"dataframe\">\n",
       "  <thead>\n",
       "    <tr style=\"text-align: right;\">\n",
       "      <th></th>\n",
       "      <th>event_source.hash</th>\n",
       "      <th>ACCOUNT_NUM.hash</th>\n",
       "      <th>CUSTOMER_REF.hash</th>\n",
       "      <th>Other_VAS_Package</th>\n",
       "      <th>Other_VAS_Month_Subscribed</th>\n",
       "      <th>Other_VAS_Rental</th>\n",
       "      <th>Other_VAS_One_Time_Charge</th>\n",
       "      <th>VAS_Count</th>\n",
       "    </tr>\n",
       "  </thead>\n",
       "  <tbody>\n",
       "    <tr>\n",
       "      <th>0</th>\n",
       "      <td>00099ff6e175f2b49e7067b20d69e4c3</td>\n",
       "      <td>6b4bfa1e32f513071c6b138a86c3bac9</td>\n",
       "      <td>0552174bba6950523aa45450f6690d02</td>\n",
       "      <td>[P_Sisu Connect]</td>\n",
       "      <td>[2017-02]</td>\n",
       "      <td>[30]</td>\n",
       "      <td>[0.0]</td>\n",
       "      <td>1</td>\n",
       "    </tr>\n",
       "    <tr>\n",
       "      <th>1</th>\n",
       "      <td>000f86cd741d4e51303065b5f868e5ab</td>\n",
       "      <td>bd0cc5e96b24df6625fc68cbaf71b555</td>\n",
       "      <td>df4bc5da4eaaaab1d937c3fd2a699c3f</td>\n",
       "      <td>[P-Basic1_Tele Life, C_Sisu Connect, AB_WireLe...</td>\n",
       "      <td>[2012-06, 2016-11, 2020-05]</td>\n",
       "      <td>[60, 30, 0]</td>\n",
       "      <td>[0.0, 0.0, 0.0]</td>\n",
       "      <td>3</td>\n",
       "    </tr>\n",
       "    <tr>\n",
       "      <th>2</th>\n",
       "      <td>00114ae408aa3b489b3f5d9baf7eb7ac</td>\n",
       "      <td>dd5253ea4772b427cc0e87ff6535b058</td>\n",
       "      <td>bdfc0b71edc02a021536f91cff85f00a</td>\n",
       "      <td>[AB_Copper Access Bearer]</td>\n",
       "      <td>[2018-08]</td>\n",
       "      <td>[0]</td>\n",
       "      <td>[0.0]</td>\n",
       "      <td>1</td>\n",
       "    </tr>\n",
       "    <tr>\n",
       "      <th>3</th>\n",
       "      <td>0014bcaff40182200be0e062cf9051cd</td>\n",
       "      <td>2c98d4759ee2eca3f2d966be8739c1fa</td>\n",
       "      <td>9ef419bc0053418c6d847a3777cc0233</td>\n",
       "      <td>[AB_Copper Access Bearer]</td>\n",
       "      <td>[2018-08]</td>\n",
       "      <td>[0]</td>\n",
       "      <td>[0.0]</td>\n",
       "      <td>1</td>\n",
       "    </tr>\n",
       "    <tr>\n",
       "      <th>4</th>\n",
       "      <td>00169293c66899b05ad10054c5f9a9c4</td>\n",
       "      <td>f22295dcdeb9502825e7d6140bbf8542</td>\n",
       "      <td>d4529a42fb85d23b1589bf04a1b637d6</td>\n",
       "      <td>[AB_Copper Access Bearer]</td>\n",
       "      <td>[2018-11]</td>\n",
       "      <td>[0]</td>\n",
       "      <td>[0.0]</td>\n",
       "      <td>1</td>\n",
       "    </tr>\n",
       "    <tr>\n",
       "      <th>...</th>\n",
       "      <td>...</td>\n",
       "      <td>...</td>\n",
       "      <td>...</td>\n",
       "      <td>...</td>\n",
       "      <td>...</td>\n",
       "      <td>...</td>\n",
       "      <td>...</td>\n",
       "      <td>...</td>\n",
       "    </tr>\n",
       "    <tr>\n",
       "      <th>14764</th>\n",
       "      <td>fff74fb5879fe3e6ba722c06dba6d639</td>\n",
       "      <td>0c554a6d1ddf83e5626f3f4684f1ad81</td>\n",
       "      <td>075b086996c7e48d6fb7af1b488466da</td>\n",
       "      <td>[AB_Copper Access Bearer]</td>\n",
       "      <td>[2018-08]</td>\n",
       "      <td>[0]</td>\n",
       "      <td>[0.0]</td>\n",
       "      <td>1</td>\n",
       "    </tr>\n",
       "    <tr>\n",
       "      <th>14765</th>\n",
       "      <td>fff754c9c5b6d3cebca36838143d529d</td>\n",
       "      <td>bd0cc5e96b24df6625fc68cbaf71b555</td>\n",
       "      <td>df4bc5da4eaaaab1d937c3fd2a699c3f</td>\n",
       "      <td>[P-Basic1_Tele Life, C_Sisu Connect]</td>\n",
       "      <td>[2012-06, 2016-11]</td>\n",
       "      <td>[60, 30]</td>\n",
       "      <td>[0.0, 0.0]</td>\n",
       "      <td>2</td>\n",
       "    </tr>\n",
       "    <tr>\n",
       "      <th>14766</th>\n",
       "      <td>fffbdf8e718726a5dac393d2014a83cc</td>\n",
       "      <td>949e14e85d36002ffb954d42d3366936</td>\n",
       "      <td>51ee71e46ba64034adaf383345028fb8</td>\n",
       "      <td>[P_Sisu Connect]</td>\n",
       "      <td>[2018-08]</td>\n",
       "      <td>[30]</td>\n",
       "      <td>[0.0]</td>\n",
       "      <td>1</td>\n",
       "    </tr>\n",
       "    <tr>\n",
       "      <th>14767</th>\n",
       "      <td>fffc787f7b89f0a9401de0dbe3ab2206</td>\n",
       "      <td>bd0cc5e96b24df6625fc68cbaf71b555</td>\n",
       "      <td>df4bc5da4eaaaab1d937c3fd2a699c3f</td>\n",
       "      <td>[P-Basic1_Tele Life, C_Sisu Connect, AB_Copper...</td>\n",
       "      <td>[2012-06, 2016-11, 2018-09]</td>\n",
       "      <td>[60, 30, 0]</td>\n",
       "      <td>[0.0, 0.0, 0.0]</td>\n",
       "      <td>3</td>\n",
       "    </tr>\n",
       "    <tr>\n",
       "      <th>14768</th>\n",
       "      <td>ffff43d0cc07aff0964f0ae29aa10363</td>\n",
       "      <td>bd0cc5e96b24df6625fc68cbaf71b555</td>\n",
       "      <td>df4bc5da4eaaaab1d937c3fd2a699c3f</td>\n",
       "      <td>[P-Basic1_Tele Life, C_Sisu Connect]</td>\n",
       "      <td>[2012-06, 2016-11]</td>\n",
       "      <td>[60, 30]</td>\n",
       "      <td>[0.0, 0.0]</td>\n",
       "      <td>2</td>\n",
       "    </tr>\n",
       "  </tbody>\n",
       "</table>\n",
       "<p>14769 rows × 8 columns</p>\n",
       "</div>"
      ],
      "text/plain": [
       "                      event_source.hash                  ACCOUNT_NUM.hash  \\\n",
       "0      00099ff6e175f2b49e7067b20d69e4c3  6b4bfa1e32f513071c6b138a86c3bac9   \n",
       "1      000f86cd741d4e51303065b5f868e5ab  bd0cc5e96b24df6625fc68cbaf71b555   \n",
       "2      00114ae408aa3b489b3f5d9baf7eb7ac  dd5253ea4772b427cc0e87ff6535b058   \n",
       "3      0014bcaff40182200be0e062cf9051cd  2c98d4759ee2eca3f2d966be8739c1fa   \n",
       "4      00169293c66899b05ad10054c5f9a9c4  f22295dcdeb9502825e7d6140bbf8542   \n",
       "...                                 ...                               ...   \n",
       "14764  fff74fb5879fe3e6ba722c06dba6d639  0c554a6d1ddf83e5626f3f4684f1ad81   \n",
       "14765  fff754c9c5b6d3cebca36838143d529d  bd0cc5e96b24df6625fc68cbaf71b555   \n",
       "14766  fffbdf8e718726a5dac393d2014a83cc  949e14e85d36002ffb954d42d3366936   \n",
       "14767  fffc787f7b89f0a9401de0dbe3ab2206  bd0cc5e96b24df6625fc68cbaf71b555   \n",
       "14768  ffff43d0cc07aff0964f0ae29aa10363  bd0cc5e96b24df6625fc68cbaf71b555   \n",
       "\n",
       "                      CUSTOMER_REF.hash  \\\n",
       "0      0552174bba6950523aa45450f6690d02   \n",
       "1      df4bc5da4eaaaab1d937c3fd2a699c3f   \n",
       "2      bdfc0b71edc02a021536f91cff85f00a   \n",
       "3      9ef419bc0053418c6d847a3777cc0233   \n",
       "4      d4529a42fb85d23b1589bf04a1b637d6   \n",
       "...                                 ...   \n",
       "14764  075b086996c7e48d6fb7af1b488466da   \n",
       "14765  df4bc5da4eaaaab1d937c3fd2a699c3f   \n",
       "14766  51ee71e46ba64034adaf383345028fb8   \n",
       "14767  df4bc5da4eaaaab1d937c3fd2a699c3f   \n",
       "14768  df4bc5da4eaaaab1d937c3fd2a699c3f   \n",
       "\n",
       "                                       Other_VAS_Package  \\\n",
       "0                                       [P_Sisu Connect]   \n",
       "1      [P-Basic1_Tele Life, C_Sisu Connect, AB_WireLe...   \n",
       "2                              [AB_Copper Access Bearer]   \n",
       "3                              [AB_Copper Access Bearer]   \n",
       "4                              [AB_Copper Access Bearer]   \n",
       "...                                                  ...   \n",
       "14764                          [AB_Copper Access Bearer]   \n",
       "14765               [P-Basic1_Tele Life, C_Sisu Connect]   \n",
       "14766                                   [P_Sisu Connect]   \n",
       "14767  [P-Basic1_Tele Life, C_Sisu Connect, AB_Copper...   \n",
       "14768               [P-Basic1_Tele Life, C_Sisu Connect]   \n",
       "\n",
       "        Other_VAS_Month_Subscribed Other_VAS_Rental Other_VAS_One_Time_Charge  \\\n",
       "0                        [2017-02]             [30]                     [0.0]   \n",
       "1      [2012-06, 2016-11, 2020-05]      [60, 30, 0]           [0.0, 0.0, 0.0]   \n",
       "2                        [2018-08]              [0]                     [0.0]   \n",
       "3                        [2018-08]              [0]                     [0.0]   \n",
       "4                        [2018-11]              [0]                     [0.0]   \n",
       "...                            ...              ...                       ...   \n",
       "14764                    [2018-08]              [0]                     [0.0]   \n",
       "14765           [2012-06, 2016-11]         [60, 30]                [0.0, 0.0]   \n",
       "14766                    [2018-08]             [30]                     [0.0]   \n",
       "14767  [2012-06, 2016-11, 2018-09]      [60, 30, 0]           [0.0, 0.0, 0.0]   \n",
       "14768           [2012-06, 2016-11]         [60, 30]                [0.0, 0.0]   \n",
       "\n",
       "       VAS_Count  \n",
       "0              1  \n",
       "1              3  \n",
       "2              1  \n",
       "3              1  \n",
       "4              1  \n",
       "...          ...  \n",
       "14764          1  \n",
       "14765          2  \n",
       "14766          1  \n",
       "14767          3  \n",
       "14768          2  \n",
       "\n",
       "[14769 rows x 8 columns]"
      ]
     },
     "execution_count": 719,
     "metadata": {},
     "output_type": "execute_result"
    }
   ],
   "source": [
    "other_agg_df"
   ]
  },
  {
   "cell_type": "code",
   "execution_count": 720,
   "metadata": {},
   "outputs": [
    {
     "data": {
      "text/plain": [
       "14769"
      ]
     },
     "execution_count": 720,
     "metadata": {},
     "output_type": "execute_result"
    }
   ],
   "source": [
    "len(other_agg_df[\"event_source.hash\"].unique())"
   ]
  },
  {
   "cell_type": "code",
   "execution_count": 721,
   "metadata": {},
   "outputs": [],
   "source": [
    "other_agg_df.to_csv(\"data/user_profile/VAS_Other_Aggregated.csv\")"
   ]
  },
  {
   "cell_type": "code",
   "execution_count": null,
   "metadata": {},
   "outputs": [],
   "source": []
  },
  {
   "cell_type": "markdown",
   "metadata": {},
   "source": [
    "## Subscription Promotion Upgrade Downgrade orders"
   ]
  },
  {
   "cell_type": "code",
   "execution_count": 722,
   "metadata": {},
   "outputs": [],
   "source": [
    "promotion_df = pd.read_excel(\"data/new/Promotion_Upgrade_Dates.xls\")  "
   ]
  },
  {
   "cell_type": "code",
   "execution_count": 723,
   "metadata": {},
   "outputs": [],
   "source": [
    "promotion_df =promotion_df[[\"CUSTOMER_REF.hash\",\"ACCOUNT_NUM.hash\",\"MAX_DSP\",\"ORDER_CONDITION\",\"ADDING_PROMO\",\"Deleting_PROMO\",\"Updating_PROMO\"]]"
   ]
  },
  {
   "cell_type": "code",
   "execution_count": 724,
   "metadata": {},
   "outputs": [
    {
     "name": "stdout",
     "output_type": "stream",
     "text": [
      "<class 'pandas.core.frame.DataFrame'>\n",
      "RangeIndex: 1496 entries, 0 to 1495\n",
      "Data columns (total 7 columns):\n",
      " #   Column             Non-Null Count  Dtype \n",
      "---  ------             --------------  ----- \n",
      " 0   CUSTOMER_REF.hash  1496 non-null   object\n",
      " 1   ACCOUNT_NUM.hash   1496 non-null   object\n",
      " 2   MAX_DSP            1495 non-null   object\n",
      " 3   ORDER_CONDITION    1496 non-null   object\n",
      " 4   ADDING_PROMO       1467 non-null   object\n",
      " 5   Deleting_PROMO     1467 non-null   object\n",
      " 6   Updating_PROMO     5 non-null      object\n",
      "dtypes: object(7)\n",
      "memory usage: 81.9+ KB\n"
     ]
    }
   ],
   "source": [
    "promotion_df.info()"
   ]
  },
  {
   "cell_type": "markdown",
   "metadata": {},
   "source": [
    "### Exporting customer - subscription dataset"
   ]
  },
  {
   "cell_type": "code",
   "execution_count": 725,
   "metadata": {},
   "outputs": [],
   "source": [
    "sub_df = promotion_df[[\"CUSTOMER_REF.hash\",\"ACCOUNT_NUM.hash\",\"ADDING_PROMO\"]]"
   ]
  },
  {
   "cell_type": "code",
   "execution_count": 726,
   "metadata": {},
   "outputs": [
    {
     "name": "stderr",
     "output_type": "stream",
     "text": [
      "/home/chiran/anaconda3/lib/python3.8/site-packages/pandas/core/frame.py:4296: SettingWithCopyWarning: \n",
      "A value is trying to be set on a copy of a slice from a DataFrame\n",
      "\n",
      "See the caveats in the documentation: https://pandas.pydata.org/pandas-docs/stable/user_guide/indexing.html#returning-a-view-versus-a-copy\n",
      "  return super().rename(\n"
     ]
    }
   ],
   "source": [
    "sub_df.rename(columns={\"ADDING_PROMO\":\"Subscription\"}, inplace=True)"
   ]
  },
  {
   "cell_type": "code",
   "execution_count": 727,
   "metadata": {},
   "outputs": [
    {
     "data": {
      "text/plain": [
       "array(['SLT Megaline Double Play (PV) Package',\n",
       "       'SLT Megaline Triple Play Package',\n",
       "       'SLT Megaline Single Play Package',\n",
       "       'SLT Megaline Double Play (BV) Package', nan,\n",
       "       'SLT Smartline Triple Play', 'SLT LTE Double Play Package',\n",
       "       'SLT LTE 4G Biz Pal Package', 'SLT Smartline Double Play (PV)',\n",
       "       'SLT LTE 4G Net Pal Package', 'SLT LTE 4G Voice Pal Basic Package',\n",
       "       'SLT Smartline Double Play (BV)'], dtype=object)"
      ]
     },
     "execution_count": 727,
     "metadata": {},
     "output_type": "execute_result"
    }
   ],
   "source": [
    "sub_df[\"Subscription\"].unique()"
   ]
  },
  {
   "cell_type": "code",
   "execution_count": 728,
   "metadata": {},
   "outputs": [
    {
     "data": {
      "text/plain": [
       "CUSTOMER_REF.hash     0\n",
       "ACCOUNT_NUM.hash      0\n",
       "Subscription         29\n",
       "dtype: int64"
      ]
     },
     "execution_count": 728,
     "metadata": {},
     "output_type": "execute_result"
    }
   ],
   "source": [
    "sub_df.isnull().sum(axis=0)"
   ]
  },
  {
   "cell_type": "code",
   "execution_count": 729,
   "metadata": {},
   "outputs": [
    {
     "name": "stderr",
     "output_type": "stream",
     "text": [
      "<ipython-input-729-127880e692ed>:1: SettingWithCopyWarning: \n",
      "A value is trying to be set on a copy of a slice from a DataFrame\n",
      "\n",
      "See the caveats in the documentation: https://pandas.pydata.org/pandas-docs/stable/user_guide/indexing.html#returning-a-view-versus-a-copy\n",
      "  sub_df.dropna(inplace=True)\n"
     ]
    }
   ],
   "source": [
    "sub_df.dropna(inplace=True)"
   ]
  },
  {
   "cell_type": "code",
   "execution_count": 730,
   "metadata": {},
   "outputs": [],
   "source": [
    "def sub_type(sub):\n",
    "    if \"Single Play\" in sub:\n",
    "        return \"SINGLE_PLAY\"\n",
    "    if \"Triple Play\" in sub:\n",
    "        return \"TRIPLE_PLAY\"\n",
    "    if \"Double Play (PV)\" in sub:\n",
    "        return \"DOUBLE_PLAY_PV\"\n",
    "    if \"Double Play (BV)\" in sub or \"LTE Double Play\" in sub:\n",
    "        return \"DOUBLE_PLAY_BV\"\n",
    "    if \"LTE 4G\" in sub:\n",
    "        return \"4G\""
   ]
  },
  {
   "cell_type": "code",
   "execution_count": 731,
   "metadata": {},
   "outputs": [
    {
     "name": "stderr",
     "output_type": "stream",
     "text": [
      "<ipython-input-731-96b5985bec8f>:1: SettingWithCopyWarning: \n",
      "A value is trying to be set on a copy of a slice from a DataFrame.\n",
      "Try using .loc[row_indexer,col_indexer] = value instead\n",
      "\n",
      "See the caveats in the documentation: https://pandas.pydata.org/pandas-docs/stable/user_guide/indexing.html#returning-a-view-versus-a-copy\n",
      "  sub_df[\"Sub_Type\"] = sub_df[\"Subscription\"].apply(lambda x: sub_type(x))\n"
     ]
    }
   ],
   "source": [
    "sub_df[\"Sub_Type\"] = sub_df[\"Subscription\"].apply(lambda x: sub_type(x))"
   ]
  },
  {
   "cell_type": "code",
   "execution_count": 732,
   "metadata": {},
   "outputs": [
    {
     "data": {
      "text/plain": [
       "TRIPLE_PLAY       491\n",
       "DOUBLE_PLAY_PV    347\n",
       "SINGLE_PLAY       323\n",
       "DOUBLE_PLAY_BV    303\n",
       "4G                  3\n",
       "Name: Sub_Type, dtype: int64"
      ]
     },
     "execution_count": 732,
     "metadata": {},
     "output_type": "execute_result"
    }
   ],
   "source": [
    "sub_df[\"Sub_Type\"].value_counts()"
   ]
  },
  {
   "cell_type": "code",
   "execution_count": 733,
   "metadata": {},
   "outputs": [],
   "source": [
    "# Mapping phone number\n",
    "sub_df = sub_df.merge(acc_no_map,how='left',on=[\"ACCOUNT_NUM.hash\",\"CUSTOMER_REF.hash\"])"
   ]
  },
  {
   "cell_type": "code",
   "execution_count": 734,
   "metadata": {},
   "outputs": [
    {
     "data": {
      "text/html": [
       "<div>\n",
       "<style scoped>\n",
       "    .dataframe tbody tr th:only-of-type {\n",
       "        vertical-align: middle;\n",
       "    }\n",
       "\n",
       "    .dataframe tbody tr th {\n",
       "        vertical-align: top;\n",
       "    }\n",
       "\n",
       "    .dataframe thead th {\n",
       "        text-align: right;\n",
       "    }\n",
       "</style>\n",
       "<table border=\"1\" class=\"dataframe\">\n",
       "  <thead>\n",
       "    <tr style=\"text-align: right;\">\n",
       "      <th></th>\n",
       "      <th>event_source.hash</th>\n",
       "      <th>ACCOUNT_NUM.hash</th>\n",
       "      <th>CUSTOMER_REF.hash</th>\n",
       "      <th>Subscription</th>\n",
       "      <th>Sub_Type</th>\n",
       "    </tr>\n",
       "  </thead>\n",
       "  <tbody>\n",
       "    <tr>\n",
       "      <th>0</th>\n",
       "      <td>0d3e013c9b350387311e17773bfc6e17</td>\n",
       "      <td>59322724d5029e5667d19ae164cdc16d</td>\n",
       "      <td>efeab37d377b0f32b7f70b159f824652</td>\n",
       "      <td>SLT Megaline Double Play (PV) Package</td>\n",
       "      <td>DOUBLE_PLAY_PV</td>\n",
       "    </tr>\n",
       "    <tr>\n",
       "      <th>1</th>\n",
       "      <td>56ad7e0c53f6cb5a35f056f58317d627</td>\n",
       "      <td>59322724d5029e5667d19ae164cdc16d</td>\n",
       "      <td>efeab37d377b0f32b7f70b159f824652</td>\n",
       "      <td>SLT Megaline Double Play (PV) Package</td>\n",
       "      <td>DOUBLE_PLAY_PV</td>\n",
       "    </tr>\n",
       "    <tr>\n",
       "      <th>2</th>\n",
       "      <td>0d13e2f0bd4ce0b3d28c1cea1319a109</td>\n",
       "      <td>59322724d5029e5667d19ae164cdc16d</td>\n",
       "      <td>efeab37d377b0f32b7f70b159f824652</td>\n",
       "      <td>SLT Megaline Double Play (PV) Package</td>\n",
       "      <td>DOUBLE_PLAY_PV</td>\n",
       "    </tr>\n",
       "    <tr>\n",
       "      <th>3</th>\n",
       "      <td>c04d14b1ae606541c9c6ae0e6b368086</td>\n",
       "      <td>59322724d5029e5667d19ae164cdc16d</td>\n",
       "      <td>efeab37d377b0f32b7f70b159f824652</td>\n",
       "      <td>SLT Megaline Double Play (PV) Package</td>\n",
       "      <td>DOUBLE_PLAY_PV</td>\n",
       "    </tr>\n",
       "    <tr>\n",
       "      <th>4</th>\n",
       "      <td>6290167ca39638c98f743122d90c75bb</td>\n",
       "      <td>59322724d5029e5667d19ae164cdc16d</td>\n",
       "      <td>efeab37d377b0f32b7f70b159f824652</td>\n",
       "      <td>SLT Megaline Double Play (PV) Package</td>\n",
       "      <td>DOUBLE_PLAY_PV</td>\n",
       "    </tr>\n",
       "    <tr>\n",
       "      <th>...</th>\n",
       "      <td>...</td>\n",
       "      <td>...</td>\n",
       "      <td>...</td>\n",
       "      <td>...</td>\n",
       "      <td>...</td>\n",
       "    </tr>\n",
       "    <tr>\n",
       "      <th>20281</th>\n",
       "      <td>7273147fecbe61d8d2a46d4c81ac28a6</td>\n",
       "      <td>7aa8c0a144b14c0d37d9b50e420c4773</td>\n",
       "      <td>ebd74330fc980cc9a5f9b06cd275eaca</td>\n",
       "      <td>SLT Megaline Triple Play Package</td>\n",
       "      <td>TRIPLE_PLAY</td>\n",
       "    </tr>\n",
       "    <tr>\n",
       "      <th>20282</th>\n",
       "      <td>e50847ef96deae5e77baf1c842536376</td>\n",
       "      <td>1b90f00af43142138b9b33bb1cbf00dd</td>\n",
       "      <td>5ef66392d4c836402c076f423060f390</td>\n",
       "      <td>SLT Megaline Single Play Package</td>\n",
       "      <td>SINGLE_PLAY</td>\n",
       "    </tr>\n",
       "    <tr>\n",
       "      <th>20283</th>\n",
       "      <td>4d745e7d1d13f7ae04bdf2fb6a20aecb</td>\n",
       "      <td>1b90f00af43142138b9b33bb1cbf00dd</td>\n",
       "      <td>5ef66392d4c836402c076f423060f390</td>\n",
       "      <td>SLT Megaline Single Play Package</td>\n",
       "      <td>SINGLE_PLAY</td>\n",
       "    </tr>\n",
       "    <tr>\n",
       "      <th>20284</th>\n",
       "      <td>0f26a3a983b6440f508d5561ba8ace95</td>\n",
       "      <td>1b90f00af43142138b9b33bb1cbf00dd</td>\n",
       "      <td>5ef66392d4c836402c076f423060f390</td>\n",
       "      <td>SLT Megaline Single Play Package</td>\n",
       "      <td>SINGLE_PLAY</td>\n",
       "    </tr>\n",
       "    <tr>\n",
       "      <th>20285</th>\n",
       "      <td>43e8ce750aa9bfb5e545408ce862ce6d</td>\n",
       "      <td>3c51761a6fb0afadf335a01400591b19</td>\n",
       "      <td>d30d02cd40b541aca52dff98adc24449</td>\n",
       "      <td>SLT Megaline Double Play (PV) Package</td>\n",
       "      <td>DOUBLE_PLAY_PV</td>\n",
       "    </tr>\n",
       "  </tbody>\n",
       "</table>\n",
       "<p>20286 rows × 5 columns</p>\n",
       "</div>"
      ],
      "text/plain": [
       "                      event_source.hash                  ACCOUNT_NUM.hash  \\\n",
       "0      0d3e013c9b350387311e17773bfc6e17  59322724d5029e5667d19ae164cdc16d   \n",
       "1      56ad7e0c53f6cb5a35f056f58317d627  59322724d5029e5667d19ae164cdc16d   \n",
       "2      0d13e2f0bd4ce0b3d28c1cea1319a109  59322724d5029e5667d19ae164cdc16d   \n",
       "3      c04d14b1ae606541c9c6ae0e6b368086  59322724d5029e5667d19ae164cdc16d   \n",
       "4      6290167ca39638c98f743122d90c75bb  59322724d5029e5667d19ae164cdc16d   \n",
       "...                                 ...                               ...   \n",
       "20281  7273147fecbe61d8d2a46d4c81ac28a6  7aa8c0a144b14c0d37d9b50e420c4773   \n",
       "20282  e50847ef96deae5e77baf1c842536376  1b90f00af43142138b9b33bb1cbf00dd   \n",
       "20283  4d745e7d1d13f7ae04bdf2fb6a20aecb  1b90f00af43142138b9b33bb1cbf00dd   \n",
       "20284  0f26a3a983b6440f508d5561ba8ace95  1b90f00af43142138b9b33bb1cbf00dd   \n",
       "20285  43e8ce750aa9bfb5e545408ce862ce6d  3c51761a6fb0afadf335a01400591b19   \n",
       "\n",
       "                      CUSTOMER_REF.hash  \\\n",
       "0      efeab37d377b0f32b7f70b159f824652   \n",
       "1      efeab37d377b0f32b7f70b159f824652   \n",
       "2      efeab37d377b0f32b7f70b159f824652   \n",
       "3      efeab37d377b0f32b7f70b159f824652   \n",
       "4      efeab37d377b0f32b7f70b159f824652   \n",
       "...                                 ...   \n",
       "20281  ebd74330fc980cc9a5f9b06cd275eaca   \n",
       "20282  5ef66392d4c836402c076f423060f390   \n",
       "20283  5ef66392d4c836402c076f423060f390   \n",
       "20284  5ef66392d4c836402c076f423060f390   \n",
       "20285  d30d02cd40b541aca52dff98adc24449   \n",
       "\n",
       "                                Subscription        Sub_Type  \n",
       "0      SLT Megaline Double Play (PV) Package  DOUBLE_PLAY_PV  \n",
       "1      SLT Megaline Double Play (PV) Package  DOUBLE_PLAY_PV  \n",
       "2      SLT Megaline Double Play (PV) Package  DOUBLE_PLAY_PV  \n",
       "3      SLT Megaline Double Play (PV) Package  DOUBLE_PLAY_PV  \n",
       "4      SLT Megaline Double Play (PV) Package  DOUBLE_PLAY_PV  \n",
       "...                                      ...             ...  \n",
       "20281       SLT Megaline Triple Play Package     TRIPLE_PLAY  \n",
       "20282       SLT Megaline Single Play Package     SINGLE_PLAY  \n",
       "20283       SLT Megaline Single Play Package     SINGLE_PLAY  \n",
       "20284       SLT Megaline Single Play Package     SINGLE_PLAY  \n",
       "20285  SLT Megaline Double Play (PV) Package  DOUBLE_PLAY_PV  \n",
       "\n",
       "[20286 rows x 5 columns]"
      ]
     },
     "execution_count": 734,
     "metadata": {},
     "output_type": "execute_result"
    }
   ],
   "source": [
    "sub_df.drop_duplicates([\"event_source.hash\"],inplace=True)\n",
    "sub_df.reset_index(inplace=True)\n",
    "sub_df.drop([\"index\"],axis=1,inplace=True)\n",
    "sub_df = sub_df[[\"event_source.hash\",\"ACCOUNT_NUM.hash\",\"CUSTOMER_REF.hash\",\"Subscription\",\"Sub_Type\"]]\n",
    "sub_df"
   ]
  },
  {
   "cell_type": "code",
   "execution_count": 735,
   "metadata": {},
   "outputs": [
    {
     "data": {
      "text/plain": [
       "event_source.hash    0\n",
       "ACCOUNT_NUM.hash     0\n",
       "CUSTOMER_REF.hash    0\n",
       "Subscription         0\n",
       "Sub_Type             0\n",
       "dtype: int64"
      ]
     },
     "execution_count": 735,
     "metadata": {},
     "output_type": "execute_result"
    }
   ],
   "source": [
    "sub_df.isnull().sum(axis=0)"
   ]
  },
  {
   "cell_type": "code",
   "execution_count": 736,
   "metadata": {},
   "outputs": [],
   "source": [
    "sub_df.to_csv(\"data/user_profile/User_Subscription_Map.csv\")"
   ]
  },
  {
   "cell_type": "code",
   "execution_count": null,
   "metadata": {},
   "outputs": [],
   "source": []
  },
  {
   "cell_type": "markdown",
   "metadata": {},
   "source": [
    "## Subscription Upgrades and Downgrades"
   ]
  },
  {
   "cell_type": "code",
   "execution_count": 737,
   "metadata": {},
   "outputs": [],
   "source": [
    "promo_change_df = promotion_df[[\"ACCOUNT_NUM.hash\",\"MAX_DSP\",\"ORDER_CONDITION\",\"Deleting_PROMO\",\"ADDING_PROMO\"]].merge(acc_no_map,how='left',on=[\"ACCOUNT_NUM.hash\"])"
   ]
  },
  {
   "cell_type": "code",
   "execution_count": 738,
   "metadata": {},
   "outputs": [],
   "source": [
    "promo_change_df.drop_duplicates([\"event_source.hash\"],inplace=True)\n",
    "promo_change_df.reset_index(inplace=True)\n",
    "promo_change_df.drop([\"index\"],axis=1,inplace=True)\n",
    "promo_change_df.rename(columns={\"MAX_DSP\":\"Sub_Update_Date\",\"ORDER_CONDITION\":\"Sub_Update_Status\",\"Deleting_PROMO\":\"Sub_Removed\",\"ADDING_PROMO\":\"Sub_Added\"},inplace=True)"
   ]
  },
  {
   "cell_type": "code",
   "execution_count": 739,
   "metadata": {},
   "outputs": [
    {
     "data": {
      "text/html": [
       "<div>\n",
       "<style scoped>\n",
       "    .dataframe tbody tr th:only-of-type {\n",
       "        vertical-align: middle;\n",
       "    }\n",
       "\n",
       "    .dataframe tbody tr th {\n",
       "        vertical-align: top;\n",
       "    }\n",
       "\n",
       "    .dataframe thead th {\n",
       "        text-align: right;\n",
       "    }\n",
       "</style>\n",
       "<table border=\"1\" class=\"dataframe\">\n",
       "  <thead>\n",
       "    <tr style=\"text-align: right;\">\n",
       "      <th></th>\n",
       "      <th>event_source.hash</th>\n",
       "      <th>ACCOUNT_NUM.hash</th>\n",
       "      <th>CUSTOMER_REF.hash</th>\n",
       "      <th>Sub_Update_Date</th>\n",
       "      <th>Sub_Update_Status</th>\n",
       "      <th>Sub_Added</th>\n",
       "      <th>Sub_Removed</th>\n",
       "    </tr>\n",
       "  </thead>\n",
       "  <tbody>\n",
       "    <tr>\n",
       "      <th>0</th>\n",
       "      <td>0d3e013c9b350387311e17773bfc6e17</td>\n",
       "      <td>59322724d5029e5667d19ae164cdc16d</td>\n",
       "      <td>efeab37d377b0f32b7f70b159f824652</td>\n",
       "      <td>26/06/2020 15:24:00</td>\n",
       "      <td>Promotion Upgrade</td>\n",
       "      <td>SLT Megaline Double Play (PV) Package</td>\n",
       "      <td>SLT Megaline Single Play Package</td>\n",
       "    </tr>\n",
       "    <tr>\n",
       "      <th>1</th>\n",
       "      <td>56ad7e0c53f6cb5a35f056f58317d627</td>\n",
       "      <td>59322724d5029e5667d19ae164cdc16d</td>\n",
       "      <td>efeab37d377b0f32b7f70b159f824652</td>\n",
       "      <td>26/06/2020 15:24:00</td>\n",
       "      <td>Promotion Upgrade</td>\n",
       "      <td>SLT Megaline Double Play (PV) Package</td>\n",
       "      <td>SLT Megaline Single Play Package</td>\n",
       "    </tr>\n",
       "    <tr>\n",
       "      <th>2</th>\n",
       "      <td>0d13e2f0bd4ce0b3d28c1cea1319a109</td>\n",
       "      <td>59322724d5029e5667d19ae164cdc16d</td>\n",
       "      <td>efeab37d377b0f32b7f70b159f824652</td>\n",
       "      <td>26/06/2020 15:24:00</td>\n",
       "      <td>Promotion Upgrade</td>\n",
       "      <td>SLT Megaline Double Play (PV) Package</td>\n",
       "      <td>SLT Megaline Single Play Package</td>\n",
       "    </tr>\n",
       "    <tr>\n",
       "      <th>3</th>\n",
       "      <td>c04d14b1ae606541c9c6ae0e6b368086</td>\n",
       "      <td>59322724d5029e5667d19ae164cdc16d</td>\n",
       "      <td>efeab37d377b0f32b7f70b159f824652</td>\n",
       "      <td>26/06/2020 15:24:00</td>\n",
       "      <td>Promotion Upgrade</td>\n",
       "      <td>SLT Megaline Double Play (PV) Package</td>\n",
       "      <td>SLT Megaline Single Play Package</td>\n",
       "    </tr>\n",
       "    <tr>\n",
       "      <th>4</th>\n",
       "      <td>6290167ca39638c98f743122d90c75bb</td>\n",
       "      <td>59322724d5029e5667d19ae164cdc16d</td>\n",
       "      <td>efeab37d377b0f32b7f70b159f824652</td>\n",
       "      <td>26/06/2020 15:24:00</td>\n",
       "      <td>Promotion Upgrade</td>\n",
       "      <td>SLT Megaline Double Play (PV) Package</td>\n",
       "      <td>SLT Megaline Single Play Package</td>\n",
       "    </tr>\n",
       "    <tr>\n",
       "      <th>...</th>\n",
       "      <td>...</td>\n",
       "      <td>...</td>\n",
       "      <td>...</td>\n",
       "      <td>...</td>\n",
       "      <td>...</td>\n",
       "      <td>...</td>\n",
       "      <td>...</td>\n",
       "    </tr>\n",
       "    <tr>\n",
       "      <th>20304</th>\n",
       "      <td>7273147fecbe61d8d2a46d4c81ac28a6</td>\n",
       "      <td>7aa8c0a144b14c0d37d9b50e420c4773</td>\n",
       "      <td>ebd74330fc980cc9a5f9b06cd275eaca</td>\n",
       "      <td>05/02/2020 18:21:00</td>\n",
       "      <td>Promotion Upgrade</td>\n",
       "      <td>SLT Megaline Triple Play Package</td>\n",
       "      <td>SLT Megaline Single Play Package</td>\n",
       "    </tr>\n",
       "    <tr>\n",
       "      <th>20305</th>\n",
       "      <td>e50847ef96deae5e77baf1c842536376</td>\n",
       "      <td>1b90f00af43142138b9b33bb1cbf00dd</td>\n",
       "      <td>5ef66392d4c836402c076f423060f390</td>\n",
       "      <td>29/01/2020 12:34:00</td>\n",
       "      <td>Promotion Downgrade</td>\n",
       "      <td>SLT Megaline Single Play Package</td>\n",
       "      <td>SLT Megaline Double Play (BV) Package</td>\n",
       "    </tr>\n",
       "    <tr>\n",
       "      <th>20306</th>\n",
       "      <td>4d745e7d1d13f7ae04bdf2fb6a20aecb</td>\n",
       "      <td>1b90f00af43142138b9b33bb1cbf00dd</td>\n",
       "      <td>5ef66392d4c836402c076f423060f390</td>\n",
       "      <td>29/01/2020 12:34:00</td>\n",
       "      <td>Promotion Downgrade</td>\n",
       "      <td>SLT Megaline Single Play Package</td>\n",
       "      <td>SLT Megaline Double Play (BV) Package</td>\n",
       "    </tr>\n",
       "    <tr>\n",
       "      <th>20307</th>\n",
       "      <td>0f26a3a983b6440f508d5561ba8ace95</td>\n",
       "      <td>1b90f00af43142138b9b33bb1cbf00dd</td>\n",
       "      <td>5ef66392d4c836402c076f423060f390</td>\n",
       "      <td>29/01/2020 12:34:00</td>\n",
       "      <td>Promotion Downgrade</td>\n",
       "      <td>SLT Megaline Single Play Package</td>\n",
       "      <td>SLT Megaline Double Play (BV) Package</td>\n",
       "    </tr>\n",
       "    <tr>\n",
       "      <th>20308</th>\n",
       "      <td>43e8ce750aa9bfb5e545408ce862ce6d</td>\n",
       "      <td>3c51761a6fb0afadf335a01400591b19</td>\n",
       "      <td>d30d02cd40b541aca52dff98adc24449</td>\n",
       "      <td>29/01/2020 12:54:25</td>\n",
       "      <td>Promotion Downgrade</td>\n",
       "      <td>SLT Megaline Double Play (PV) Package</td>\n",
       "      <td>SLT Megaline Triple Play Package</td>\n",
       "    </tr>\n",
       "  </tbody>\n",
       "</table>\n",
       "<p>20309 rows × 7 columns</p>\n",
       "</div>"
      ],
      "text/plain": [
       "                      event_source.hash                  ACCOUNT_NUM.hash  \\\n",
       "0      0d3e013c9b350387311e17773bfc6e17  59322724d5029e5667d19ae164cdc16d   \n",
       "1      56ad7e0c53f6cb5a35f056f58317d627  59322724d5029e5667d19ae164cdc16d   \n",
       "2      0d13e2f0bd4ce0b3d28c1cea1319a109  59322724d5029e5667d19ae164cdc16d   \n",
       "3      c04d14b1ae606541c9c6ae0e6b368086  59322724d5029e5667d19ae164cdc16d   \n",
       "4      6290167ca39638c98f743122d90c75bb  59322724d5029e5667d19ae164cdc16d   \n",
       "...                                 ...                               ...   \n",
       "20304  7273147fecbe61d8d2a46d4c81ac28a6  7aa8c0a144b14c0d37d9b50e420c4773   \n",
       "20305  e50847ef96deae5e77baf1c842536376  1b90f00af43142138b9b33bb1cbf00dd   \n",
       "20306  4d745e7d1d13f7ae04bdf2fb6a20aecb  1b90f00af43142138b9b33bb1cbf00dd   \n",
       "20307  0f26a3a983b6440f508d5561ba8ace95  1b90f00af43142138b9b33bb1cbf00dd   \n",
       "20308  43e8ce750aa9bfb5e545408ce862ce6d  3c51761a6fb0afadf335a01400591b19   \n",
       "\n",
       "                      CUSTOMER_REF.hash      Sub_Update_Date  \\\n",
       "0      efeab37d377b0f32b7f70b159f824652  26/06/2020 15:24:00   \n",
       "1      efeab37d377b0f32b7f70b159f824652  26/06/2020 15:24:00   \n",
       "2      efeab37d377b0f32b7f70b159f824652  26/06/2020 15:24:00   \n",
       "3      efeab37d377b0f32b7f70b159f824652  26/06/2020 15:24:00   \n",
       "4      efeab37d377b0f32b7f70b159f824652  26/06/2020 15:24:00   \n",
       "...                                 ...                  ...   \n",
       "20304  ebd74330fc980cc9a5f9b06cd275eaca  05/02/2020 18:21:00   \n",
       "20305  5ef66392d4c836402c076f423060f390  29/01/2020 12:34:00   \n",
       "20306  5ef66392d4c836402c076f423060f390  29/01/2020 12:34:00   \n",
       "20307  5ef66392d4c836402c076f423060f390  29/01/2020 12:34:00   \n",
       "20308  d30d02cd40b541aca52dff98adc24449  29/01/2020 12:54:25   \n",
       "\n",
       "         Sub_Update_Status                              Sub_Added  \\\n",
       "0        Promotion Upgrade  SLT Megaline Double Play (PV) Package   \n",
       "1        Promotion Upgrade  SLT Megaline Double Play (PV) Package   \n",
       "2        Promotion Upgrade  SLT Megaline Double Play (PV) Package   \n",
       "3        Promotion Upgrade  SLT Megaline Double Play (PV) Package   \n",
       "4        Promotion Upgrade  SLT Megaline Double Play (PV) Package   \n",
       "...                    ...                                    ...   \n",
       "20304    Promotion Upgrade       SLT Megaline Triple Play Package   \n",
       "20305  Promotion Downgrade       SLT Megaline Single Play Package   \n",
       "20306  Promotion Downgrade       SLT Megaline Single Play Package   \n",
       "20307  Promotion Downgrade       SLT Megaline Single Play Package   \n",
       "20308  Promotion Downgrade  SLT Megaline Double Play (PV) Package   \n",
       "\n",
       "                                 Sub_Removed  \n",
       "0           SLT Megaline Single Play Package  \n",
       "1           SLT Megaline Single Play Package  \n",
       "2           SLT Megaline Single Play Package  \n",
       "3           SLT Megaline Single Play Package  \n",
       "4           SLT Megaline Single Play Package  \n",
       "...                                      ...  \n",
       "20304       SLT Megaline Single Play Package  \n",
       "20305  SLT Megaline Double Play (BV) Package  \n",
       "20306  SLT Megaline Double Play (BV) Package  \n",
       "20307  SLT Megaline Double Play (BV) Package  \n",
       "20308       SLT Megaline Triple Play Package  \n",
       "\n",
       "[20309 rows x 7 columns]"
      ]
     },
     "execution_count": 739,
     "metadata": {},
     "output_type": "execute_result"
    }
   ],
   "source": [
    "promo_change_df = promo_change_df[[\"event_source.hash\",\"ACCOUNT_NUM.hash\",\"CUSTOMER_REF.hash\",\"Sub_Update_Date\",\"Sub_Update_Status\",\"Sub_Added\",\"Sub_Removed\"]]\n",
    "promo_change_df"
   ]
  },
  {
   "cell_type": "code",
   "execution_count": 740,
   "metadata": {},
   "outputs": [
    {
     "data": {
      "text/plain": [
       "event_source.hash      0\n",
       "ACCOUNT_NUM.hash       0\n",
       "CUSTOMER_REF.hash      0\n",
       "Sub_Update_Date        0\n",
       "Sub_Update_Status      0\n",
       "Sub_Added            403\n",
       "Sub_Removed          403\n",
       "dtype: int64"
      ]
     },
     "execution_count": 740,
     "metadata": {},
     "output_type": "execute_result"
    }
   ],
   "source": [
    "promo_change_df.isnull().sum(axis=0)"
   ]
  },
  {
   "cell_type": "code",
   "execution_count": 741,
   "metadata": {},
   "outputs": [],
   "source": [
    "promo_change_df.dropna(inplace=True)"
   ]
  },
  {
   "cell_type": "code",
   "execution_count": 742,
   "metadata": {},
   "outputs": [],
   "source": [
    "promo_change_df[\"Sub_Removed\"] = promo_change_df[\"Sub_Removed\"].apply(lambda x: sub_type(x))\n",
    "promo_change_df[\"Sub_Added\"] = promo_change_df[\"Sub_Added\"].apply(lambda x: sub_type(x))"
   ]
  },
  {
   "cell_type": "code",
   "execution_count": 743,
   "metadata": {},
   "outputs": [],
   "source": [
    "def sub_change_state(sub1,sub2):\n",
    "    return f\"{sub1} -> {sub2}\""
   ]
  },
  {
   "cell_type": "code",
   "execution_count": 744,
   "metadata": {},
   "outputs": [],
   "source": [
    "promo_change_df[\"Sub_Update\"] = promo_change_df.apply(lambda x: sub_change_state(x[\"Sub_Removed\"],x[\"Sub_Added\"]),axis=1)"
   ]
  },
  {
   "cell_type": "code",
   "execution_count": 745,
   "metadata": {},
   "outputs": [
    {
     "data": {
      "text/plain": [
       "Sub_Update_Status    Sub_Update                      \n",
       "Promotion Upgrade    SINGLE_PLAY -> DOUBLE_PLAY_BV       8571\n",
       "                     SINGLE_PLAY -> DOUBLE_PLAY_PV       6521\n",
       "Promotion Downgrade  DOUBLE_PLAY_BV -> SINGLE_PLAY       2052\n",
       "Promotion Upgrade    DOUBLE_PLAY_PV -> TRIPLE_PLAY       1541\n",
       "                     DOUBLE_PLAY_BV -> TRIPLE_PLAY        376\n",
       "                     TRIPLE_PLAY -> DOUBLE_PLAY_BV        249\n",
       "Promotion Downgrade  DOUBLE_PLAY_PV -> SINGLE_PLAY        197\n",
       "                     TRIPLE_PLAY -> DOUBLE_PLAY_PV        111\n",
       "Promotion Upgrade    4G -> 4G                             102\n",
       "                     SINGLE_PLAY -> TRIPLE_PLAY            80\n",
       "Promotion Downgrade  TRIPLE_PLAY -> SINGLE_PLAY            66\n",
       "                     TRIPLE_PLAY -> DOUBLE_PLAY_BV         29\n",
       "Promotion Upgrade    TRIPLE_PLAY -> DOUBLE_PLAY_PV          3\n",
       "                     DOUBLE_PLAY_BV -> SINGLE_PLAY          2\n",
       "                     DOUBLE_PLAY_PV -> DOUBLE_PLAY_BV       2\n",
       "Promotion Downgrade  DOUBLE_PLAY_BV -> TRIPLE_PLAY          2\n",
       "                     SINGLE_PLAY -> DOUBLE_PLAY_BV          1\n",
       "                     DOUBLE_PLAY_PV -> TRIPLE_PLAY          1\n",
       "dtype: int64"
      ]
     },
     "execution_count": 745,
     "metadata": {},
     "output_type": "execute_result"
    }
   ],
   "source": [
    "promo_change_df[[\"Sub_Update_Status\",\"Sub_Update\"]].value_counts()"
   ]
  },
  {
   "cell_type": "code",
   "execution_count": 746,
   "metadata": {},
   "outputs": [],
   "source": [
    "promo_change_df.drop(promo_change_df.query(\"Sub_Update_Status == 'Promotion Upgrade' & Sub_Update == 'TRIPLE_PLAY -> DOUBLE_PLAY_BV'\").index, inplace=True)"
   ]
  },
  {
   "cell_type": "code",
   "execution_count": 747,
   "metadata": {},
   "outputs": [],
   "source": [
    "promo_change_df.drop(promo_change_df.query(\"Sub_Update_Status == 'Promotion Upgrade' & Sub_Update == 'TRIPLE_PLAY -> DOUBLE_PLAY_PV'\").index, inplace=True)"
   ]
  },
  {
   "cell_type": "code",
   "execution_count": 748,
   "metadata": {},
   "outputs": [],
   "source": [
    "promo_change_df.drop(promo_change_df.query(\"Sub_Update_Status == 'Promotion Downgrade' & Sub_Update == 'SINGLE_PLAY -> DOUBLE_PLAY_BV'\").index, inplace=True)"
   ]
  },
  {
   "cell_type": "code",
   "execution_count": 749,
   "metadata": {},
   "outputs": [],
   "source": [
    "promo_change_df.drop(promo_change_df.query(\"Sub_Update_Status == 'Promotion Downgrade' & Sub_Update == 'DOUBLE_PLAY_BV -> TRIPLE_PLAY'\").index, inplace=True)"
   ]
  },
  {
   "cell_type": "code",
   "execution_count": 750,
   "metadata": {},
   "outputs": [],
   "source": [
    "promo_change_df.drop(promo_change_df.query(\"Sub_Update_Status == 'Promotion Downgrade' & Sub_Update == 'DOUBLE_PLAY_PV -> TRIPLE_PLAY'\").index, inplace=True)"
   ]
  },
  {
   "cell_type": "code",
   "execution_count": 751,
   "metadata": {},
   "outputs": [],
   "source": [
    "promo_change_df.drop(promo_change_df.query(\"Sub_Update_Status == 'Promotion Upgrade' & Sub_Update == 'DOUBLE_PLAY_BV -> SINGLE_PLAY'\").index, inplace=True)"
   ]
  },
  {
   "cell_type": "code",
   "execution_count": 752,
   "metadata": {},
   "outputs": [
    {
     "data": {
      "text/plain": [
       "Sub_Update_Status    Sub_Update                      \n",
       "Promotion Upgrade    SINGLE_PLAY -> DOUBLE_PLAY_BV       8571\n",
       "                     SINGLE_PLAY -> DOUBLE_PLAY_PV       6521\n",
       "Promotion Downgrade  DOUBLE_PLAY_BV -> SINGLE_PLAY       2052\n",
       "Promotion Upgrade    DOUBLE_PLAY_PV -> TRIPLE_PLAY       1541\n",
       "                     DOUBLE_PLAY_BV -> TRIPLE_PLAY        376\n",
       "Promotion Downgrade  DOUBLE_PLAY_PV -> SINGLE_PLAY        197\n",
       "                     TRIPLE_PLAY -> DOUBLE_PLAY_PV        111\n",
       "Promotion Upgrade    4G -> 4G                             102\n",
       "                     SINGLE_PLAY -> TRIPLE_PLAY            80\n",
       "Promotion Downgrade  TRIPLE_PLAY -> SINGLE_PLAY            66\n",
       "                     TRIPLE_PLAY -> DOUBLE_PLAY_BV         29\n",
       "Promotion Upgrade    DOUBLE_PLAY_PV -> DOUBLE_PLAY_BV       2\n",
       "dtype: int64"
      ]
     },
     "execution_count": 752,
     "metadata": {},
     "output_type": "execute_result"
    }
   ],
   "source": [
    "promo_change_df[[\"Sub_Update_Status\",\"Sub_Update\"]].value_counts()"
   ]
  },
  {
   "cell_type": "code",
   "execution_count": 753,
   "metadata": {},
   "outputs": [],
   "source": [
    "promo_change_df.drop([\"Sub_Added\",\"Sub_Removed\"],axis=1,inplace=True)"
   ]
  },
  {
   "cell_type": "code",
   "execution_count": 754,
   "metadata": {},
   "outputs": [
    {
     "name": "stdout",
     "output_type": "stream",
     "text": [
      "<class 'pandas.core.frame.DataFrame'>\n",
      "Int64Index: 19648 entries, 0 to 20308\n",
      "Data columns (total 6 columns):\n",
      " #   Column             Non-Null Count  Dtype \n",
      "---  ------             --------------  ----- \n",
      " 0   event_source.hash  19648 non-null  object\n",
      " 1   ACCOUNT_NUM.hash   19648 non-null  object\n",
      " 2   CUSTOMER_REF.hash  19648 non-null  object\n",
      " 3   Sub_Update_Date    19648 non-null  object\n",
      " 4   Sub_Update_Status  19648 non-null  object\n",
      " 5   Sub_Update         19648 non-null  object\n",
      "dtypes: object(6)\n",
      "memory usage: 1.0+ MB\n"
     ]
    }
   ],
   "source": [
    "promo_change_df.info()"
   ]
  },
  {
   "cell_type": "code",
   "execution_count": 755,
   "metadata": {},
   "outputs": [],
   "source": [
    "promo_change_df.to_csv(\"data/user_profile/User_Subscription_Changes.csv\")"
   ]
  },
  {
   "cell_type": "code",
   "execution_count": null,
   "metadata": {},
   "outputs": [],
   "source": []
  },
  {
   "cell_type": "code",
   "execution_count": null,
   "metadata": {},
   "outputs": [],
   "source": []
  }
 ],
 "metadata": {
  "kernelspec": {
   "display_name": "Python 3",
   "language": "python",
   "name": "python3"
  },
  "language_info": {
   "codemirror_mode": {
    "name": "ipython",
    "version": 3
   },
   "file_extension": ".py",
   "mimetype": "text/x-python",
   "name": "python",
   "nbconvert_exporter": "python",
   "pygments_lexer": "ipython3",
   "version": "3.8.5"
  }
 },
 "nbformat": 4,
 "nbformat_minor": 4
}
