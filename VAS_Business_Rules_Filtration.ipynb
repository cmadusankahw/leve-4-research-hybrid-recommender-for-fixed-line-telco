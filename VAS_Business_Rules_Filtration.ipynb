{
 "cells": [
  {
   "cell_type": "code",
   "execution_count": 36,
   "metadata": {},
   "outputs": [],
   "source": [
    "import pandas as pd\n",
    "import numpy as np\n",
    "from matplotlib import pyplot as plt\n",
    "from sklearn.preprocessing import MinMaxScaler\n",
    "import seaborn as sns"
   ]
  },
  {
   "cell_type": "code",
   "execution_count": 37,
   "metadata": {},
   "outputs": [],
   "source": [
    "user_content = pd.read_csv(\"data/azure/VAS_user_content.csv\")"
   ]
  },
  {
   "cell_type": "code",
   "execution_count": 38,
   "metadata": {},
   "outputs": [],
   "source": [
    "vas_scored_df = pd.read_csv(\"data/azure/scored/vas_scored.csv\")"
   ]
  },
  {
   "cell_type": "markdown",
   "metadata": {},
   "source": [
    "### Applying Business rules"
   ]
  },
  {
   "cell_type": "code",
   "execution_count": 39,
   "metadata": {},
   "outputs": [],
   "source": [
    "free_packages = [ 'V_Call Forwarding Offline','V_SLT Voice Service',\n",
    "       'V_Anonymous call barring', 'V_Call back on busy',\n",
    "       'V_CLI presentation in call waiting', 'V_Incoming Call Memory',\n",
    "       'V_DQ Contact Details', \n",
    "       'V_Call Forwarding by time', \n",
    "       'V_Outgoing Call Memory', \n",
    "       'V_Incoming Call Transfer', \n",
    "       'V_Call holding', 'E_PeoTV Initiation',\n",
    "       'V_Call Transfer Three way',\n",
    "       'V_Call Forwarding-Immediate', 'V_Call Forwarding-On Busy',\n",
    "       'V_Call Waiting', 'V_Call Forwarding-No Answer',\n",
    "       'V_Call Forwarding', 'V_Absentee service',\n",
    "       'V_Call Forwarding - On Busy', 'V_Call Forwarding - No Answer',\n",
    "       'V_Abbreviated Dialing', 'P_Incoming Call Memory', 'P_Call Forwarding by time',\n",
    "       'P_CLI presentation in call waiting', \n",
    "       'P_Anonymous call barring', 'P_Call back on busy',\n",
    "       'P_Outgoing Call Memory', 'P_Call Forwarding Offline',\n",
    "       'P_Call holding', 'P_Call Transfer Three way',\n",
    "       'P_Incoming Call Transfer', \n",
    "       'DQ_Contact Details', 'P_SLT CLI',\n",
    "       'V_Call Barring - Outgoing']"
   ]
  },
  {
   "cell_type": "code",
   "execution_count": 40,
   "metadata": {},
   "outputs": [],
   "source": [
    "Peo_TV_Packages = ['PEO_SILVER', 'PEO_SILVER_PLUS', 'PEO_RELIGIOUS_PACKAGE',\n",
    "       'NEW_SLT_STAFF_PACKAGE', 'PEO_UTHAYAM', 'PEO_TITANIUM',\n",
    "       'PEO_UNNATHAM', 'PRANAMA', 'LOTUS', 'PEO_ENTERTAINMENT',\n",
    "       'PEO_SILVER_PLUS_FTTH', 'SLTStaff_PEO_SILVER', 'PEO_PLATINUM',\n",
    "       'DOUBLEPROMO', 'NEW_YEAR_TREAT', 'PEO_FAMILY', 'PEO_SILVER_FTTH',\n",
    "       'BOC', 'PEO_GOLD', 'SLT_STAFF_PEO_UNNATHAM_FTTH',\n",
    "       'SLT_STAFF_TRIPLE_PLAY']"
   ]
  },
  {
   "cell_type": "code",
   "execution_count": 41,
   "metadata": {},
   "outputs": [],
   "source": [
    "Voice_VAS_Packages = ['V-Plus4_TeleLife', 'V-Plus1_TeleLife', 'V-Basic1_TeleLife',\n",
    "       'V_Telehealth', 'V_Sisu Connect', 'V-Basic4_TeleLife',\n",
    "       'V-Basic2_TeleLife', 'V_E-channeling Registration',\n",
    "       'V_E-channeling Subscription', 'V_Double VAS Bundle', 'V_SLT CLI',\n",
    "       'V_IDD', 'V_Single VAS Bundle', 'V_Cordeless Phone - Installment',\n",
    "       'V_Hotline Service', 'V_Hotline-Immediate',\n",
    "       'V_Short Message Service', 'V_Caller Line Identification',\n",
    "       'V_Hotline-Time Delayed', 'V_Detailed Bill',\n",
    "       'V_Railway Registration', 'V_Call Forwarding - Immediate',\n",
    "       'V_One-Time Detailed Bill', 'V_Basic Phone Installment',\n",
    "       'V_Installment', 'V_Referral offer Discount',\n",
    "       'V_Call forwarding selective',\n",
    "       'V_Caller name identificationPresentation',\n",
    "       'V_Do not disturb service', 'V_Selective call waiting',\n",
    "       'V_Selective call acceptance', 'V_Secretary service',\n",
    "       'V_Password call barring (secret code)',\n",
    "       'V_Selective call rejection', 'V_Caller name sending',\n",
    "       'V_Complete call on no response', 'V_Triple VAS Bundle',\n",
    "       'V_Basic Phone', 'V_Miscellaneous Service', 'V_Voice Startup Fee']"
   ]
  },
  {
   "cell_type": "code",
   "execution_count": 42,
   "metadata": {},
   "outputs": [],
   "source": [
    "Peo_VAS_Packages = ['BB_PeoTVGO', 'E_SLT PeoTV Service', 'OTT_SLT PeoTV Go',\n",
    "       'E_Video on Demand', 'PEO TV GO_OTT_A-la carte channels',\n",
    "       'BB_PeoTVGO Revenue code', 'PeoTVGo_Channel Package']"
   ]
  },
  {
   "cell_type": "code",
   "execution_count": 43,
   "metadata": {},
   "outputs": [],
   "source": [
    "BB_VAS_Packages = ['BB_SLT BroadBand Service', 'BB_Personal Storage',\n",
    "       'BB_Detailed Reports ', 'BB_ Entertainment Unlimited',\n",
    "       'BB_SLT Film Hall Service', 'BB_Report Subscription Charge',\n",
    "       'BB Personal Storage', 'BB_YouTube Bundle', 'BB_Messenger Bundle']"
   ]
  },
  {
   "cell_type": "code",
   "execution_count": 44,
   "metadata": {},
   "outputs": [],
   "source": [
    "vas_df = pd.merge(user_content[[\"event_source.hash\",\"Sub_Type\"]], vas_scored_df, left_on='event_source.hash', right_on=\"User\", how='left', indicator='Exist')"
   ]
  },
  {
   "cell_type": "code",
   "execution_count": 45,
   "metadata": {},
   "outputs": [],
   "source": [
    "vas_df = vas_df[(vas_df[\"Exist\"]==\"both\")]"
   ]
  },
  {
   "cell_type": "code",
   "execution_count": 46,
   "metadata": {},
   "outputs": [],
   "source": [
    "vas_df.reset_index(inplace=True)"
   ]
  },
  {
   "cell_type": "code",
   "execution_count": 47,
   "metadata": {},
   "outputs": [],
   "source": [
    "vas_df.drop([\"index\",\"Predicted Rating 1\",\"Predicted Rating 2\",\"Predicted Rating 3\",\"Predicted Rating 4\",\"Predicted Rating 5\"],axis=1, inplace=True)"
   ]
  },
  {
   "cell_type": "code",
   "execution_count": 49,
   "metadata": {},
   "outputs": [],
   "source": [
    "# Applying Rules\n",
    "def filter_vas(sub_type,vas):\n",
    "    if not isinstance(sub_type, float):\n",
    "        for fv in free_packages:\n",
    "            if vas in fv:\n",
    "                return\n",
    "        if sub_type == \"TRIPLE_PLAY\":\n",
    "            return vas\n",
    "        for v in Voice_VAS_Packages:\n",
    "            if vas in v:\n",
    "                return vas\n",
    "        if sub_type == \"DOUBLE_PLAY_BV\":\n",
    "            for bv in BB_VAS_Packages:\n",
    "                if vas in bv:\n",
    "                    return vas\n",
    "        if sub_type == \"DOUBLE_PLAY_PV\":\n",
    "            for pv in Peo_VAS_Packages:\n",
    "                if vas in pv:\n",
    "                    return vas"
   ]
  },
  {
   "cell_type": "code",
   "execution_count": 50,
   "metadata": {},
   "outputs": [],
   "source": [
    "recommender_cols = [\"Recommended Item 1\",\"Recommended Item 2\",\"Recommended Item 3\",\"Recommended Item 4\",\"Recommended Item 5\"]"
   ]
  },
  {
   "cell_type": "code",
   "execution_count": 52,
   "metadata": {},
   "outputs": [],
   "source": [
    "for col in recommender_cols:\n",
    "    vas_df[col] = vas_df.apply(lambda x: filter_vas(x[\"Sub_Type\"],x[col]), axis=1)"
   ]
  },
  {
   "cell_type": "code",
   "execution_count": 53,
   "metadata": {},
   "outputs": [
    {
     "name": "stdout",
     "output_type": "stream",
     "text": [
      "<class 'pandas.core.frame.DataFrame'>\n",
      "RangeIndex: 16760 entries, 0 to 16759\n",
      "Data columns (total 9 columns):\n",
      " #   Column              Non-Null Count  Dtype   \n",
      "---  ------              --------------  -----   \n",
      " 0   event_source.hash   16760 non-null  object  \n",
      " 1   Sub_Type            16760 non-null  object  \n",
      " 2   User                16760 non-null  object  \n",
      " 3   Recommended Item 1  11137 non-null  object  \n",
      " 4   Recommended Item 2  9768 non-null   object  \n",
      " 5   Recommended Item 3  5387 non-null   object  \n",
      " 6   Recommended Item 4  4042 non-null   object  \n",
      " 7   Recommended Item 5  3168 non-null   object  \n",
      " 8   Exist               16760 non-null  category\n",
      "dtypes: category(1), object(8)\n",
      "memory usage: 1.0+ MB\n"
     ]
    }
   ],
   "source": [
    "vas_df.info()"
   ]
  },
  {
   "cell_type": "code",
   "execution_count": 54,
   "metadata": {},
   "outputs": [],
   "source": [
    "vas_df.drop([\"Exist\"],axis=1,inplace=True)"
   ]
  },
  {
   "cell_type": "code",
   "execution_count": 55,
   "metadata": {},
   "outputs": [],
   "source": [
    "vas_df.to_csv(\"data/azure/scored/vas_scored_filtered.csv\")"
   ]
  },
  {
   "cell_type": "code",
   "execution_count": null,
   "metadata": {},
   "outputs": [],
   "source": []
  }
 ],
 "metadata": {
  "kernelspec": {
   "display_name": "Python 3",
   "language": "python",
   "name": "python3"
  },
  "language_info": {
   "codemirror_mode": {
    "name": "ipython",
    "version": 3
   },
   "file_extension": ".py",
   "mimetype": "text/x-python",
   "name": "python",
   "nbconvert_exporter": "python",
   "pygments_lexer": "ipython3",
   "version": "3.8.5"
  }
 },
 "nbformat": 4,
 "nbformat_minor": 4
}
