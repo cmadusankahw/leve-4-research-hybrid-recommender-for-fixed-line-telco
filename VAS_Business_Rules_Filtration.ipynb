{
 "cells": [
  {
   "cell_type": "code",
   "execution_count": 1,
   "metadata": {},
   "outputs": [],
   "source": [
    "import pandas as pd\n",
    "import numpy as np\n",
    "from matplotlib import pyplot as plt\n",
    "from sklearn.preprocessing import MinMaxScaler\n",
    "import seaborn as sns"
   ]
  },
  {
   "cell_type": "code",
   "execution_count": 2,
   "metadata": {},
   "outputs": [],
   "source": [
    "user_content = pd.read_csv(\"data/azure/VAS_user_content.csv\")"
   ]
  },
  {
   "cell_type": "code",
   "execution_count": null,
   "metadata": {},
   "outputs": [],
   "source": [
    "vas_scored_df"
   ]
  },
  {
   "cell_type": "markdown",
   "metadata": {},
   "source": [
    "### Applying Business rules"
   ]
  },
  {
   "cell_type": "code",
   "execution_count": 3,
   "metadata": {},
   "outputs": [
    {
     "name": "stdout",
     "output_type": "stream",
     "text": [
      "<class 'pandas.core.frame.DataFrame'>\n",
      "RangeIndex: 27555 entries, 0 to 27554\n",
      "Data columns (total 15 columns):\n",
      " #   Column                               Non-Null Count  Dtype  \n",
      "---  ------                               --------------  -----  \n",
      " 0   event_source.hash                    27555 non-null  object \n",
      " 1   Location_Identifier                  3078 non-null   object \n",
      " 2   Sub_Type                             27555 non-null  object \n",
      " 3   Sub_Usage                            27555 non-null  object \n",
      " 4   GENDER                               4104 non-null   object \n",
      " 5   AGE                                  4104 non-null   float64\n",
      " 6   Sub_Update_Status                    19648 non-null  object \n",
      " 7   Sub_Update                           19648 non-null  object \n",
      " 8   Having_Insurance                     27555 non-null  object \n",
      " 9   Having_Senior_Citizen_Scaled         27555 non-null  float64\n",
      " 10  Having_Kids_at_Home_Scaled           27555 non-null  float64\n",
      " 11  Having_Teenagers_Students_Scaled     27555 non-null  float64\n",
      " 12  Having_Working_Professionals_Scaled  27555 non-null  float64\n",
      " 13  Having_Family_Member_Abroad_Scaled   27555 non-null  float64\n",
      " 14  Tamil_Customer                       27555 non-null  object \n",
      "dtypes: float64(6), object(9)\n",
      "memory usage: 3.2+ MB\n"
     ]
    }
   ],
   "source": [
    "user_content.info()"
   ]
  },
  {
   "cell_type": "code",
   "execution_count": null,
   "metadata": {},
   "outputs": [],
   "source": [
    "vas_df = pd.merge(user_content[[\"event_source.hash\",\"Sub_Type\"]], vas_scored_df, on=['event_source.hash'] how='left', indicator='Exist')"
   ]
  },
  {
   "cell_type": "code",
   "execution_count": null,
   "metadata": {},
   "outputs": [],
   "source": []
  },
  {
   "cell_type": "code",
   "execution_count": null,
   "metadata": {},
   "outputs": [],
   "source": []
  }
 ],
 "metadata": {
  "kernelspec": {
   "display_name": "Python 3",
   "language": "python",
   "name": "python3"
  },
  "language_info": {
   "codemirror_mode": {
    "name": "ipython",
    "version": 3
   },
   "file_extension": ".py",
   "mimetype": "text/x-python",
   "name": "python",
   "nbconvert_exporter": "python",
   "pygments_lexer": "ipython3",
   "version": "3.8.5"
  }
 },
 "nbformat": 4,
 "nbformat_minor": 4
}
