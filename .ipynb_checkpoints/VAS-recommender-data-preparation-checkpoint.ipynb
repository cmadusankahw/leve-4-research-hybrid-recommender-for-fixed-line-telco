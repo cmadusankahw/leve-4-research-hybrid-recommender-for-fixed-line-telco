{
 "cells": [
  {
   "cell_type": "code",
   "execution_count": 78,
   "metadata": {},
   "outputs": [],
   "source": [
    "# import libraries\n",
    "import numpy as np\n",
    "import pandas as pd\n",
    "import seaborn as sns\n",
    "import matplotlib.pyplot as plt\n",
    "from sklearn.preprocessing import MinMaxScaler\n",
    "import ast"
   ]
  },
  {
   "cell_type": "code",
   "execution_count": 79,
   "metadata": {},
   "outputs": [
    {
     "name": "stderr",
     "output_type": "stream",
     "text": [
      "/home/chiran/anaconda3/lib/python3.8/site-packages/IPython/core/interactiveshell.py:3146: DtypeWarning: Columns (4,6,7,9,10,12,13,15,16,18,19,20,22,24,25,26,28,30,34,35,36,37,75,76) have mixed types.Specify dtype option on import or set low_memory=False.\n",
      "  has_raised = await self.run_ast_nodes(code_ast.body, cell_name,\n"
     ]
    }
   ],
   "source": [
    "user_profile = pd.read_csv(\"data/user_profile/prepared/User_Profile.csv\")"
   ]
  },
  {
   "cell_type": "code",
   "execution_count": 80,
   "metadata": {},
   "outputs": [],
   "source": [
    "vas_final_df = pd.read_csv(\"data/user_profile/VAS_Final_list.csv\")"
   ]
  },
  {
   "cell_type": "code",
   "execution_count": 81,
   "metadata": {},
   "outputs": [],
   "source": [
    "vas_final_df.drop([\"Unnamed: 0\",\"ACCOUNT_NUM.hash\",\"CUSTOMER_REF.hash\",\"One_Time_Charge\"],axis=1,inplace=True)"
   ]
  },
  {
   "cell_type": "code",
   "execution_count": 82,
   "metadata": {},
   "outputs": [
    {
     "name": "stdout",
     "output_type": "stream",
     "text": [
      "<class 'pandas.core.frame.DataFrame'>\n",
      "RangeIndex: 569336 entries, 0 to 569335\n",
      "Data columns (total 5 columns):\n",
      " #   Column             Non-Null Count   Dtype  \n",
      "---  ------             --------------   -----  \n",
      " 0   event_source.hash  569336 non-null  object \n",
      " 1   VAS                569336 non-null  object \n",
      " 2   Month_Subscribed   569336 non-null  object \n",
      " 3   Rental             468621 non-null  float64\n",
      " 4   VAS_Type           569336 non-null  object \n",
      "dtypes: float64(1), object(4)\n",
      "memory usage: 21.7+ MB\n"
     ]
    }
   ],
   "source": [
    "vas_final_df.info()"
   ]
  },
  {
   "cell_type": "markdown",
   "metadata": {},
   "source": [
    "## User - package ratings"
   ]
  },
  {
   "cell_type": "code",
   "execution_count": 83,
   "metadata": {},
   "outputs": [],
   "source": [
    "vas_final_df[\"rating\"]=1"
   ]
  },
  {
   "cell_type": "code",
   "execution_count": 107,
   "metadata": {},
   "outputs": [],
   "source": [
    "vas_agg_df = vas_final_df.groupby(['event_source.hash','VAS']).agg(sum)"
   ]
  },
  {
   "cell_type": "code",
   "execution_count": 108,
   "metadata": {},
   "outputs": [],
   "source": [
    "vas_agg_df.reset_index(level=0, inplace=True)\n",
    "vas_agg_df.reset_index(level=0, inplace=True)"
   ]
  },
  {
   "cell_type": "code",
   "execution_count": 110,
   "metadata": {},
   "outputs": [],
   "source": [
    "vas_agg_df=vas_agg_df[[\"event_source.hash\",\"VAS\",\"rating\"]]"
   ]
  },
  {
   "cell_type": "code",
   "execution_count": 114,
   "metadata": {},
   "outputs": [],
   "source": [
    "vas_agg_df.rename(columns={\"VAS\":\"package\"},inplace=True)"
   ]
  },
  {
   "cell_type": "code",
   "execution_count": 115,
   "metadata": {},
   "outputs": [
    {
     "name": "stdout",
     "output_type": "stream",
     "text": [
      "<class 'pandas.core.frame.DataFrame'>\n",
      "RangeIndex: 119046 entries, 0 to 119045\n",
      "Data columns (total 3 columns):\n",
      " #   Column             Non-Null Count   Dtype \n",
      "---  ------             --------------   ----- \n",
      " 0   event_source.hash  119046 non-null  object\n",
      " 1   package            119046 non-null  object\n",
      " 2   rating             119046 non-null  int64 \n",
      "dtypes: int64(1), object(2)\n",
      "memory usage: 2.7+ MB\n"
     ]
    }
   ],
   "source": [
    "vas_agg_df.info()"
   ]
  },
  {
   "cell_type": "code",
   "execution_count": 116,
   "metadata": {},
   "outputs": [
    {
     "data": {
      "text/plain": [
       "1     89091\n",
       "2      6690\n",
       "26     3836\n",
       "7      3531\n",
       "5      2821\n",
       "60     2814\n",
       "24     2251\n",
       "6      1862\n",
       "4       871\n",
       "12      862\n",
       "30      744\n",
       "35      645\n",
       "11      577\n",
       "10      557\n",
       "3       471\n",
       "22      366\n",
       "9       323\n",
       "16      263\n",
       "8       207\n",
       "17      142\n",
       "33       61\n",
       "14       32\n",
       "18       23\n",
       "21        2\n",
       "19        2\n",
       "13        2\n",
       "Name: rating, dtype: int64"
      ]
     },
     "execution_count": 116,
     "metadata": {},
     "output_type": "execute_result"
    }
   ],
   "source": [
    "vas_agg_df[\"rating\"].value_counts()"
   ]
  },
  {
   "cell_type": "code",
   "execution_count": 118,
   "metadata": {},
   "outputs": [
    {
     "data": {
      "text/plain": [
       "array(['AB_Copper Access Bearer', 'E_SLT PeoTV Service', 'P_Sisu Connect',\n",
       "       'V_SLT Voice Service', 'V_Sisu Connect', 'AB_WireLess Access',\n",
       "       'BB Personal Storage', 'BB_Report Subscription Charge',\n",
       "       'BB_YouTube Bundle', 'C_Sisu Connect', 'Edu Lite', 'Meet Lite',\n",
       "       'Meet Max', 'P-Basic1_Tele Life',\n",
       "       'PEO TV GO_OTT_A-la carte channels', 'V-Basic1_TeleLife',\n",
       "       'V_E-channeling Subscription', 'BB_PeoTVGO', 'BB_Personal Storage',\n",
       "       'BB_SLT BroadBand Service', 'V_E-channeling Registration',\n",
       "       'BB_ Entertainment Unlimited', 'BB_PeoTVGO Revenue code',\n",
       "       'V_Abbreviated Dialing', 'V_Absentee service', 'V_Call Forwarding',\n",
       "       'V_Call Forwarding-Immediate', 'V_Call Forwarding-No Answer',\n",
       "       'V_Call Forwarding-On Busy', 'V_Call Transfer Three way',\n",
       "       'V_Call Waiting', 'V_DQ Contact Details', 'V_IDD', 'V_SLT CLI',\n",
       "       'V_Single VAS Bundle', 'PeoTVGo_Channel Package', 'V_Telehealth',\n",
       "       'P-Plus1_Tele Life', 'AB_Fiber Access Bearer',\n",
       "       'BB_Messenger Bundle', 'E_TSTV', 'E_Video on Demand',\n",
       "       'V-Plus1_TeleLife', 'E_PeoTV Initiation', 'AB_Megaline',\n",
       "       'V_Hotline Service', 'V_Call Barring - Outgoing',\n",
       "       'V_Cordeless Phone - Installment', 'BB_Detailed Reports ',\n",
       "       'AB_Referral offer Discount', 'E_Referral offer Discount',\n",
       "       'V_Hotline-Time Delayed', 'V_Installment', 'AB_Megaline Startup',\n",
       "       'V_Call Forwarding Offline', 'V_Call Forwarding by time',\n",
       "       'V_Call holding', 'V_Incoming Call Memory',\n",
       "       'V_Incoming Call Transfer', 'V_Outgoing Call Memory',\n",
       "       'AB_Service Vacation', 'V_Anonymous call barring',\n",
       "       'V_CLI presentation in call waiting', 'V_Call back on busy',\n",
       "       'V_Call park', 'V_Caller Line Identification',\n",
       "       'V_Hotline-Immediate', 'V_Basic Phone Installment',\n",
       "       'AB_Relocation', 'Package Rental Through ADSL',\n",
       "       'BB_SLT Film Hall Service', 'M_Activation Charge',\n",
       "       'AB_Citylink Loyalty Rewards', 'V_Double VAS Bundle',\n",
       "       'V_One-Time Detailed Bill', 'AB_Rental Free',\n",
       "       'V_Voice Startup Fee', 'DQ_Contact Details', 'P_IDD', 'P_Megaline',\n",
       "       'P_SLT CLI', 'P-Plus4_Tele Life', 'V-Plus4_TeleLife',\n",
       "       'V_Short Message Service', 'E_PeoTV_Package Transfer',\n",
       "       'V_Call forwarding selective',\n",
       "       'V_Caller name identificationPresentation',\n",
       "       'V_Caller name sending', 'V_Complete call on no response',\n",
       "       'V_Do not disturb service',\n",
       "       'V_Password call barring (secret code)', 'V_Secretary service',\n",
       "       'V_Selective call acceptance', 'V_Selective call rejection',\n",
       "       'V_Selective call waiting', 'P-Basic2_Tele Life',\n",
       "       'AB_Additional Distance', 'C-Basic1_Tele Life', 'V_Call Barring',\n",
       "       'V_Triple VAS Bundle', 'V_Call Forwarding - Immediate',\n",
       "       'V_Railway Registration', 'V-Basic2_TeleLife', 'OTT_SLT PeoTV Go',\n",
       "       'V_Call Forwarding - No Answer', 'V_Call Forwarding - On Busy',\n",
       "       'P-Basic4_Tele Life', 'V-Basic4_TeleLife',\n",
       "       'P_Additional features -Double VAS Bundle',\n",
       "       'P_Anonymous call barring', 'P_CLI presentation in call waiting',\n",
       "       'P_Call Forwarding Offline', 'P_Call Forwarding by time',\n",
       "       'P_Call Transfer Three way', 'P_Call back on busy',\n",
       "       'P_Call holding', 'P_Call park', 'P_Incoming Call Memory',\n",
       "       'P_Incoming Call Transfer', 'P_Megaline New Connection',\n",
       "       'P_Outgoing Call Memory', 'V_Detailed Bill', 'V_Basic Phone',\n",
       "       'V_Miscellaneous Service', 'AB_Parallel line Installation',\n",
       "       'P_One-Time Detailed Bill', 'P_Removal of Int & Parallel Ext',\n",
       "       'V_Referral offer Discount'], dtype=object)"
      ]
     },
     "execution_count": 118,
     "metadata": {},
     "output_type": "execute_result"
    }
   ],
   "source": [
    "vas_agg_df[\"package\"].unique()"
   ]
  },
  {
   "cell_type": "code",
   "execution_count": 119,
   "metadata": {},
   "outputs": [
    {
     "data": {
      "text/html": [
       "<div>\n",
       "<style scoped>\n",
       "    .dataframe tbody tr th:only-of-type {\n",
       "        vertical-align: middle;\n",
       "    }\n",
       "\n",
       "    .dataframe tbody tr th {\n",
       "        vertical-align: top;\n",
       "    }\n",
       "\n",
       "    .dataframe thead th {\n",
       "        text-align: right;\n",
       "    }\n",
       "</style>\n",
       "<table border=\"1\" class=\"dataframe\">\n",
       "  <thead>\n",
       "    <tr style=\"text-align: right;\">\n",
       "      <th></th>\n",
       "      <th>event_source.hash</th>\n",
       "      <th>package</th>\n",
       "      <th>rating</th>\n",
       "    </tr>\n",
       "  </thead>\n",
       "  <tbody>\n",
       "    <tr>\n",
       "      <th>0</th>\n",
       "      <td>00099ff6e175f2b49e7067b20d69e4c3</td>\n",
       "      <td>AB_Copper Access Bearer</td>\n",
       "      <td>1</td>\n",
       "    </tr>\n",
       "    <tr>\n",
       "      <th>1</th>\n",
       "      <td>00099ff6e175f2b49e7067b20d69e4c3</td>\n",
       "      <td>E_SLT PeoTV Service</td>\n",
       "      <td>1</td>\n",
       "    </tr>\n",
       "    <tr>\n",
       "      <th>2</th>\n",
       "      <td>00099ff6e175f2b49e7067b20d69e4c3</td>\n",
       "      <td>P_Sisu Connect</td>\n",
       "      <td>1</td>\n",
       "    </tr>\n",
       "    <tr>\n",
       "      <th>3</th>\n",
       "      <td>00099ff6e175f2b49e7067b20d69e4c3</td>\n",
       "      <td>V_SLT Voice Service</td>\n",
       "      <td>1</td>\n",
       "    </tr>\n",
       "    <tr>\n",
       "      <th>4</th>\n",
       "      <td>00099ff6e175f2b49e7067b20d69e4c3</td>\n",
       "      <td>V_Sisu Connect</td>\n",
       "      <td>1</td>\n",
       "    </tr>\n",
       "    <tr>\n",
       "      <th>...</th>\n",
       "      <td>...</td>\n",
       "      <td>...</td>\n",
       "      <td>...</td>\n",
       "    </tr>\n",
       "    <tr>\n",
       "      <th>119041</th>\n",
       "      <td>ffff43d0cc07aff0964f0ae29aa10363</td>\n",
       "      <td>Edu Lite</td>\n",
       "      <td>1</td>\n",
       "    </tr>\n",
       "    <tr>\n",
       "      <th>119042</th>\n",
       "      <td>ffff43d0cc07aff0964f0ae29aa10363</td>\n",
       "      <td>Meet Lite</td>\n",
       "      <td>2</td>\n",
       "    </tr>\n",
       "    <tr>\n",
       "      <th>119043</th>\n",
       "      <td>ffff43d0cc07aff0964f0ae29aa10363</td>\n",
       "      <td>Meet Max</td>\n",
       "      <td>1</td>\n",
       "    </tr>\n",
       "    <tr>\n",
       "      <th>119044</th>\n",
       "      <td>ffff43d0cc07aff0964f0ae29aa10363</td>\n",
       "      <td>P-Basic1_Tele Life</td>\n",
       "      <td>1</td>\n",
       "    </tr>\n",
       "    <tr>\n",
       "      <th>119045</th>\n",
       "      <td>ffff43d0cc07aff0964f0ae29aa10363</td>\n",
       "      <td>V_SLT Voice Service</td>\n",
       "      <td>1</td>\n",
       "    </tr>\n",
       "  </tbody>\n",
       "</table>\n",
       "<p>119046 rows × 3 columns</p>\n",
       "</div>"
      ],
      "text/plain": [
       "                       event_source.hash                  package  rating\n",
       "0       00099ff6e175f2b49e7067b20d69e4c3  AB_Copper Access Bearer       1\n",
       "1       00099ff6e175f2b49e7067b20d69e4c3      E_SLT PeoTV Service       1\n",
       "2       00099ff6e175f2b49e7067b20d69e4c3           P_Sisu Connect       1\n",
       "3       00099ff6e175f2b49e7067b20d69e4c3      V_SLT Voice Service       1\n",
       "4       00099ff6e175f2b49e7067b20d69e4c3           V_Sisu Connect       1\n",
       "...                                  ...                      ...     ...\n",
       "119041  ffff43d0cc07aff0964f0ae29aa10363                 Edu Lite       1\n",
       "119042  ffff43d0cc07aff0964f0ae29aa10363                Meet Lite       2\n",
       "119043  ffff43d0cc07aff0964f0ae29aa10363                 Meet Max       1\n",
       "119044  ffff43d0cc07aff0964f0ae29aa10363       P-Basic1_Tele Life       1\n",
       "119045  ffff43d0cc07aff0964f0ae29aa10363      V_SLT Voice Service       1\n",
       "\n",
       "[119046 rows x 3 columns]"
      ]
     },
     "execution_count": 119,
     "metadata": {},
     "output_type": "execute_result"
    }
   ],
   "source": [
    "vas_agg_df"
   ]
  },
  {
   "cell_type": "code",
   "execution_count": 120,
   "metadata": {},
   "outputs": [],
   "source": [
    "vas_agg_df.to_csv(\"data/azure/VAS_user_ratings.csv\")"
   ]
  },
  {
   "cell_type": "markdown",
   "metadata": {},
   "source": [
    "## User content"
   ]
  },
  {
   "cell_type": "code",
   "execution_count": 123,
   "metadata": {},
   "outputs": [],
   "source": [
    "user_profile.drop([\"Unnamed: 0\"],axis=1,inplace=True)"
   ]
  },
  {
   "cell_type": "code",
   "execution_count": 133,
   "metadata": {},
   "outputs": [
    {
     "data": {
      "text/plain": [
       "Promotion Upgrade      17193\n",
       "Promotion Downgrade     2455\n",
       "Name: Sub_Update_Status, dtype: int64"
      ]
     },
     "execution_count": 133,
     "metadata": {},
     "output_type": "execute_result"
    }
   ],
   "source": [
    "user_profile[\"Sub_Update_Status\"].value_counts()"
   ]
  },
  {
   "cell_type": "code",
   "execution_count": 134,
   "metadata": {},
   "outputs": [],
   "source": [
    "user_df=user_profile.iloc[:,[0,29,38,39,30,32,58,59,64,65,67,69,71,73,75]]"
   ]
  },
  {
   "cell_type": "code",
   "execution_count": 135,
   "metadata": {},
   "outputs": [
    {
     "name": "stdout",
     "output_type": "stream",
     "text": [
      "<class 'pandas.core.frame.DataFrame'>\n",
      "RangeIndex: 27555 entries, 0 to 27554\n",
      "Data columns (total 15 columns):\n",
      " #   Column                               Non-Null Count  Dtype  \n",
      "---  ------                               --------------  -----  \n",
      " 0   event_source.hash                    27555 non-null  object \n",
      " 1   Location_Identifier                  3078 non-null   object \n",
      " 2   Sub_Type                             27555 non-null  object \n",
      " 3   Sub_Usage                            27555 non-null  object \n",
      " 4   GENDER                               4104 non-null   object \n",
      " 5   AGE                                  4104 non-null   float64\n",
      " 6   Sub_Update_Status                    19648 non-null  object \n",
      " 7   Sub_Update                           19648 non-null  object \n",
      " 8   Having_Insurance                     2747 non-null   object \n",
      " 9   Having_Senior_Citizen_Scaled         27555 non-null  float64\n",
      " 10  Having_Kids_at_Home_Scaled           27555 non-null  float64\n",
      " 11  Having_Teenagers_Students_Scaled     27555 non-null  float64\n",
      " 12  Having_Working_Professionals_Scaled  27555 non-null  float64\n",
      " 13  Having_Family_Member_Abroad_Scaled   27555 non-null  float64\n",
      " 14  Tamil_Customer                       204 non-null    object \n",
      "dtypes: float64(6), object(9)\n",
      "memory usage: 3.2+ MB\n"
     ]
    }
   ],
   "source": [
    "user_df.info()"
   ]
  },
  {
   "cell_type": "markdown",
   "metadata": {},
   "source": [
    "### Handeling Null Values"
   ]
  },
  {
   "cell_type": "code",
   "execution_count": 136,
   "metadata": {},
   "outputs": [
    {
     "name": "stderr",
     "output_type": "stream",
     "text": [
      "/home/chiran/anaconda3/lib/python3.8/site-packages/pandas/core/frame.py:3065: SettingWithCopyWarning: \n",
      "A value is trying to be set on a copy of a slice from a DataFrame.\n",
      "Try using .loc[row_indexer,col_indexer] = value instead\n",
      "\n",
      "See the caveats in the documentation: https://pandas.pydata.org/pandas-docs/stable/user_guide/indexing.html#returning-a-view-versus-a-copy\n",
      "  self[k1] = value[k2]\n"
     ]
    }
   ],
   "source": [
    "cat_cols = ['Tamil_Customer', 'Having_Insurance']\n",
    "\n",
    "user_df[cat_cols] = user_df[cat_cols].fillna(\"NO\")\n",
    "\n",
    "#voice_udf[scaled_cols] = voice_udf[scaled_cols].fillna(0)"
   ]
  },
  {
   "cell_type": "code",
   "execution_count": 137,
   "metadata": {},
   "outputs": [],
   "source": [
    "user_df.to_csv(\"data/azure/VAS_user_content.csv\")"
   ]
  },
  {
   "cell_type": "markdown",
   "metadata": {},
   "source": [
    "## Product (package) content"
   ]
  },
  {
   "cell_type": "code",
   "execution_count": 138,
   "metadata": {},
   "outputs": [],
   "source": [
    "product_profile = pd.read_csv(\"data/product_catalog/Product_Profile_Finalised_CSV.csv\")"
   ]
  },
  {
   "cell_type": "code",
   "execution_count": 140,
   "metadata": {},
   "outputs": [
    {
     "name": "stdout",
     "output_type": "stream",
     "text": [
      "<class 'pandas.core.frame.DataFrame'>\n",
      "RangeIndex: 263 entries, 0 to 262\n",
      "Data columns (total 15 columns):\n",
      " #   Column             Non-Null Count  Dtype  \n",
      "---  ------             --------------  -----  \n",
      " 0   Product_ID         263 non-null    object \n",
      " 1   Base_Type          241 non-null    object \n",
      " 2   Pricing_Type       134 non-null    object \n",
      " 3   Package_Type       134 non-null    object \n",
      " 4   Title              134 non-null    object \n",
      " 5   Description        47 non-null     object \n",
      " 6   Price              133 non-null    object \n",
      " 7   Monthly_Rental     141 non-null    float64\n",
      " 8   Subscription_Type  151 non-null    object \n",
      " 9   Recidence_Type     134 non-null    object \n",
      " 10  Tax_Status         131 non-null    object \n",
      " 11  Conditions         131 non-null    object \n",
      " 12  Transfer_Medium    19 non-null     object \n",
      " 13  TARIFF_NAME        22 non-null     object \n",
      " 14  TARIFF_DESC        22 non-null     object \n",
      "dtypes: float64(1), object(14)\n",
      "memory usage: 30.9+ KB\n"
     ]
    }
   ],
   "source": [
    "product_df=product_profile.iloc[:,[0,1,2,3,5,6,14,15,35,37,38,39,42,43,44]]\n",
    "product_df.info()"
   ]
  },
  {
   "cell_type": "code",
   "execution_count": 142,
   "metadata": {},
   "outputs": [],
   "source": [
    "temp_package_df=vas_agg_df[\"package\"]"
   ]
  },
  {
   "cell_type": "code",
   "execution_count": 143,
   "metadata": {},
   "outputs": [],
   "source": [
    "vas_products_df = product_df.merge(temp_package_df.drop_duplicates(), left_on=['Product_ID'], right_on=['package'] ,\n",
    "                   how='left', indicator=True)"
   ]
  },
  {
   "cell_type": "code",
   "execution_count": 144,
   "metadata": {},
   "outputs": [],
   "source": [
    "product_df = vas_products_df[(vas_products_df[\"_merge\"]==\"both\")]"
   ]
  },
  {
   "cell_type": "code",
   "execution_count": 145,
   "metadata": {},
   "outputs": [
    {
     "name": "stderr",
     "output_type": "stream",
     "text": [
      "/home/chiran/anaconda3/lib/python3.8/site-packages/pandas/core/frame.py:4163: SettingWithCopyWarning: \n",
      "A value is trying to be set on a copy of a slice from a DataFrame\n",
      "\n",
      "See the caveats in the documentation: https://pandas.pydata.org/pandas-docs/stable/user_guide/indexing.html#returning-a-view-versus-a-copy\n",
      "  return super().drop(\n",
      "/home/chiran/anaconda3/lib/python3.8/site-packages/pandas/core/frame.py:4296: SettingWithCopyWarning: \n",
      "A value is trying to be set on a copy of a slice from a DataFrame\n",
      "\n",
      "See the caveats in the documentation: https://pandas.pydata.org/pandas-docs/stable/user_guide/indexing.html#returning-a-view-versus-a-copy\n",
      "  return super().rename(\n"
     ]
    }
   ],
   "source": [
    "product_df.drop([\"package\",\"_merge\"],axis=1,inplace=True)\n",
    "product_df.rename(columns={'Product_ID':'package'},inplace=True)\n",
    "product_df.reset_index(drop=True, inplace=True)"
   ]
  },
  {
   "cell_type": "code",
   "execution_count": 148,
   "metadata": {},
   "outputs": [
    {
     "name": "stdout",
     "output_type": "stream",
     "text": [
      "<class 'pandas.core.frame.DataFrame'>\n",
      "RangeIndex: 128 entries, 0 to 127\n",
      "Data columns (total 15 columns):\n",
      " #   Column             Non-Null Count  Dtype  \n",
      "---  ------             --------------  -----  \n",
      " 0   package            128 non-null    object \n",
      " 1   Base_Type          107 non-null    object \n",
      " 2   Pricing_Type       0 non-null      object \n",
      " 3   Package_Type       0 non-null      object \n",
      " 4   Title              0 non-null      object \n",
      " 5   Description        0 non-null      object \n",
      " 6   Price              3 non-null      object \n",
      " 7   Monthly_Rental     26 non-null     float64\n",
      " 8   Subscription_Type  16 non-null     object \n",
      " 9   Recidence_Type     0 non-null      object \n",
      " 10  Tax_Status         0 non-null      object \n",
      " 11  Conditions         0 non-null      object \n",
      " 12  Transfer_Medium    18 non-null     object \n",
      " 13  TARIFF_NAME        21 non-null     object \n",
      " 14  TARIFF_DESC        21 non-null     object \n",
      "dtypes: float64(1), object(14)\n",
      "memory usage: 15.1+ KB\n"
     ]
    }
   ],
   "source": [
    "product_df.info()"
   ]
  },
  {
   "cell_type": "code",
   "execution_count": 149,
   "metadata": {},
   "outputs": [
    {
     "name": "stderr",
     "output_type": "stream",
     "text": [
      "/home/chiran/anaconda3/lib/python3.8/site-packages/pandas/core/frame.py:4163: SettingWithCopyWarning: \n",
      "A value is trying to be set on a copy of a slice from a DataFrame\n",
      "\n",
      "See the caveats in the documentation: https://pandas.pydata.org/pandas-docs/stable/user_guide/indexing.html#returning-a-view-versus-a-copy\n",
      "  return super().drop(\n"
     ]
    }
   ],
   "source": [
    "# Many columns have no values. Dropping \n",
    "product_df.drop([\"Pricing_Type\",\"Package_Type\",\"Title\",\"Description\",\"Recidence_Type\",\"Tax_Status\",\"Conditions\"],axis=1,inplace=True)"
   ]
  },
  {
   "cell_type": "code",
   "execution_count": 150,
   "metadata": {},
   "outputs": [
    {
     "name": "stdout",
     "output_type": "stream",
     "text": [
      "<class 'pandas.core.frame.DataFrame'>\n",
      "RangeIndex: 128 entries, 0 to 127\n",
      "Data columns (total 8 columns):\n",
      " #   Column             Non-Null Count  Dtype  \n",
      "---  ------             --------------  -----  \n",
      " 0   package            128 non-null    object \n",
      " 1   Base_Type          107 non-null    object \n",
      " 2   Price              3 non-null      object \n",
      " 3   Monthly_Rental     26 non-null     float64\n",
      " 4   Subscription_Type  16 non-null     object \n",
      " 5   Transfer_Medium    18 non-null     object \n",
      " 6   TARIFF_NAME        21 non-null     object \n",
      " 7   TARIFF_DESC        21 non-null     object \n",
      "dtypes: float64(1), object(7)\n",
      "memory usage: 8.1+ KB\n"
     ]
    }
   ],
   "source": [
    "product_df.info()"
   ]
  },
  {
   "cell_type": "code",
   "execution_count": 151,
   "metadata": {},
   "outputs": [],
   "source": [
    "product_df.to_csv(\"data/azure/VAS_package_content.csv\")"
   ]
  },
  {
   "cell_type": "code",
   "execution_count": null,
   "metadata": {},
   "outputs": [],
   "source": []
  }
 ],
 "metadata": {
  "kernelspec": {
   "display_name": "Python 3",
   "language": "python",
   "name": "python3"
  },
  "language_info": {
   "codemirror_mode": {
    "name": "ipython",
    "version": 3
   },
   "file_extension": ".py",
   "mimetype": "text/x-python",
   "name": "python",
   "nbconvert_exporter": "python",
   "pygments_lexer": "ipython3",
   "version": "3.8.5"
  }
 },
 "nbformat": 4,
 "nbformat_minor": 4
}
