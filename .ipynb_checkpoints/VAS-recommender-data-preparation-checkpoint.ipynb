{
 "cells": [
  {
   "cell_type": "code",
   "execution_count": 179,
   "metadata": {},
   "outputs": [],
   "source": [
    "# import libraries\n",
    "import numpy as np\n",
    "import pandas as pd\n",
    "import seaborn as sns\n",
    "import matplotlib.pyplot as plt\n",
    "from sklearn.preprocessing import MinMaxScaler\n",
    "import ast"
   ]
  },
  {
   "cell_type": "code",
   "execution_count": 180,
   "metadata": {},
   "outputs": [],
   "source": [
    "user_profile = pd.read_csv(\"data/user_profile/prepared/User_Profile.csv\")"
   ]
  },
  {
   "cell_type": "code",
   "execution_count": 181,
   "metadata": {},
   "outputs": [],
   "source": [
    "vas_final_df = pd.read_csv(\"data/user_profile/Package_Final_list.csv\")"
   ]
  },
  {
   "cell_type": "code",
   "execution_count": 182,
   "metadata": {},
   "outputs": [],
   "source": [
    "def megaline_vas(vas):\n",
    "    if 'Megaline' in vas:\n",
    "        return \"YES\""
   ]
  },
  {
   "cell_type": "code",
   "execution_count": 183,
   "metadata": {},
   "outputs": [],
   "source": [
    "def ftth_vas(vas):\n",
    "    if 'FTTH' in vas:\n",
    "        return \"YES\""
   ]
  },
  {
   "cell_type": "code",
   "execution_count": 184,
   "metadata": {},
   "outputs": [],
   "source": [
    "vas_final_df.drop([\"Unnamed: 0\",\"One_Time_Charge\"],axis=1,inplace=True)"
   ]
  },
  {
   "cell_type": "code",
   "execution_count": 185,
   "metadata": {},
   "outputs": [
    {
     "data": {
      "text/plain": [
       "NO     52931\n",
       "YES     9192\n",
       "Name: is_VAS, dtype: int64"
      ]
     },
     "execution_count": 185,
     "metadata": {},
     "output_type": "execute_result"
    }
   ],
   "source": [
    "vas_final_df[\"is_VAS\"].value_counts()"
   ]
  },
  {
   "cell_type": "code",
   "execution_count": 186,
   "metadata": {},
   "outputs": [
    {
     "data": {
      "text/plain": [
       "YES    45925\n",
       "NO     16198\n",
       "Name: is_Subscription, dtype: int64"
      ]
     },
     "execution_count": 186,
     "metadata": {},
     "output_type": "execute_result"
    }
   ],
   "source": [
    "vas_final_df[\"is_Subscription\"].value_counts()"
   ]
  },
  {
   "cell_type": "code",
   "execution_count": 187,
   "metadata": {},
   "outputs": [],
   "source": [
    "vas_final_df = vas_final_df[(vas_final_df[\"FREE_or_PAID\"] != \"FREE\")]"
   ]
  },
  {
   "cell_type": "code",
   "execution_count": 188,
   "metadata": {},
   "outputs": [],
   "source": [
    "vas_final_df = vas_final_df[(vas_final_df[\"is_VAS\"] == \"YES\")]"
   ]
  },
  {
   "cell_type": "code",
   "execution_count": 189,
   "metadata": {},
   "outputs": [],
   "source": [
    "vas_final_df = vas_final_df[[\"ACCOUNT_NUM.hash\",\"Package\",\"Rental\"]]"
   ]
  },
  {
   "cell_type": "code",
   "execution_count": 190,
   "metadata": {},
   "outputs": [
    {
     "data": {
      "text/plain": [
       "ACCOUNT_NUM.hash                  Package                      \n",
       "bd0cc5e96b24df6625fc68cbaf71b555  BB Report Subscription Charge    60\n",
       "4c7a4769273c7a2eb4860a09f6376a70  BB Report Subscription Charge    35\n",
       "729e0a0a75015a8908d0989386f4454e  Meet Max                         33\n",
       "8d8472d39b270801553f2d5e7c06fe22  BB Report Subscription Charge    30\n",
       "cc88c49f580c13600e99dfd9920d05e9  BB Report Subscription Charge    26\n",
       "                                                                   ..\n",
       "713aa417c219621eb60e65c2f05d3d22  AB Service Vacation               1\n",
       "7176a9583c08811399dda24fa5dfc7e7  Basic Phone Installment           1\n",
       "7187391b66100468034c6a404568e258  Basic1 TeleLife                   1\n",
       "71a4336530295c2214c34da55f5ce115  Basic1 TeleLife                   1\n",
       "7b02996f8fd2ce388417eb6ac225235e  AB Service Vacation               1\n",
       "Length: 1634, dtype: int64"
      ]
     },
     "execution_count": 190,
     "metadata": {},
     "output_type": "execute_result"
    }
   ],
   "source": [
    "vas_final_df[['ACCOUNT_NUM.hash','Package']].value_counts()"
   ]
  },
  {
   "cell_type": "markdown",
   "metadata": {},
   "source": [
    "## User - package ratings"
   ]
  },
  {
   "cell_type": "code",
   "execution_count": 191,
   "metadata": {},
   "outputs": [],
   "source": [
    "vas_final_df[\"tempCount\"]=1"
   ]
  },
  {
   "cell_type": "code",
   "execution_count": 192,
   "metadata": {},
   "outputs": [],
   "source": [
    "vas_agg_df = vas_final_df.groupby(['ACCOUNT_NUM.hash','Package']).agg(list)"
   ]
  },
  {
   "cell_type": "code",
   "execution_count": 193,
   "metadata": {},
   "outputs": [],
   "source": [
    "vas_agg_df.reset_index(level=0, inplace=True)\n",
    "vas_agg_df.reset_index(level=0, inplace=True)"
   ]
  },
  {
   "cell_type": "code",
   "execution_count": 194,
   "metadata": {},
   "outputs": [],
   "source": [
    "vas_agg_df[\"tempCount\"] = vas_agg_df[\"tempCount\"].apply(lambda x: sum(x))"
   ]
  },
  {
   "cell_type": "code",
   "execution_count": 195,
   "metadata": {},
   "outputs": [],
   "source": [
    "vas_agg_df[\"Rental\"] = vas_agg_df[\"Rental\"].apply(lambda x: x[0])"
   ]
  },
  {
   "cell_type": "code",
   "execution_count": 196,
   "metadata": {},
   "outputs": [],
   "source": [
    "vas_agg_df[[\"Rental\",\"tempCount\"]] = vas_agg_df[[\"Rental\",\"tempCount\"]].fillna(0)"
   ]
  },
  {
   "cell_type": "code",
   "execution_count": 197,
   "metadata": {},
   "outputs": [],
   "source": [
    "vas_agg_df[\"ratings\"] =  vas_agg_df.apply(lambda x: x[\"Rental\"]*x[\"Rental\"],axis=1)"
   ]
  },
  {
   "cell_type": "code",
   "execution_count": 198,
   "metadata": {},
   "outputs": [],
   "source": [
    "vas_agg_df.drop([\"Rental\",\"tempCount\"],axis=1,inplace=True)"
   ]
  },
  {
   "cell_type": "code",
   "execution_count": 199,
   "metadata": {},
   "outputs": [],
   "source": [
    "vas_agg_df.rename(columns={\"Package\":\"package\"},inplace=True)"
   ]
  },
  {
   "cell_type": "code",
   "execution_count": 200,
   "metadata": {},
   "outputs": [],
   "source": [
    "vas_agg_df= vas_agg_df[[\"ACCOUNT_NUM.hash\",\"package\",\"ratings\"]]"
   ]
  },
  {
   "cell_type": "code",
   "execution_count": 201,
   "metadata": {},
   "outputs": [
    {
     "name": "stdout",
     "output_type": "stream",
     "text": [
      "<class 'pandas.core.frame.DataFrame'>\n",
      "RangeIndex: 1634 entries, 0 to 1633\n",
      "Data columns (total 3 columns):\n",
      " #   Column            Non-Null Count  Dtype  \n",
      "---  ------            --------------  -----  \n",
      " 0   ACCOUNT_NUM.hash  1634 non-null   object \n",
      " 1   package           1634 non-null   object \n",
      " 2   ratings           1634 non-null   float64\n",
      "dtypes: float64(1), object(2)\n",
      "memory usage: 38.4+ KB\n"
     ]
    }
   ],
   "source": [
    "vas_agg_df.info()"
   ]
  },
  {
   "cell_type": "code",
   "execution_count": 202,
   "metadata": {},
   "outputs": [],
   "source": [
    "scaler = MinMaxScaler()\n",
    "vas_agg_df[\"ratings\"] = scaler.fit_transform(vas_agg_df[\"ratings\"].values.reshape(-1,1))"
   ]
  },
  {
   "cell_type": "code",
   "execution_count": 203,
   "metadata": {},
   "outputs": [
    {
     "data": {
      "text/plain": [
       "0.000000    889\n",
       "0.000909    273\n",
       "0.002525    263\n",
       "0.000404     57\n",
       "0.006067     38\n",
       "0.000227     38\n",
       "1.000000     18\n",
       "0.000511     18\n",
       "0.006875     11\n",
       "0.015782      6\n",
       "0.010000      4\n",
       "0.000631      4\n",
       "0.002045      3\n",
       "0.030934      3\n",
       "0.015656      2\n",
       "0.011673      2\n",
       "0.053433      1\n",
       "0.022575      1\n",
       "0.278402      1\n",
       "0.005606      1\n",
       "0.005682      1\n",
       "Name: ratings, dtype: int64"
      ]
     },
     "execution_count": 203,
     "metadata": {},
     "output_type": "execute_result"
    }
   ],
   "source": [
    "vas_agg_df[\"ratings\"].value_counts()"
   ]
  },
  {
   "cell_type": "code",
   "execution_count": 204,
   "metadata": {},
   "outputs": [
    {
     "data": {
      "text/plain": [
       "array(['AB Service Vacation', 'Installment', 'Basic1 TeleLife',\n",
       "       'Basic2 TeleLife', 'Plus1 TeleLife', 'E channeling Registration',\n",
       "       'Edu Lite', 'Meet Lite', 'Sisu Connect',\n",
       "       'E channeling Subscription', 'Video on Demand', 'AB Rental Free',\n",
       "       'BB Detailed Reports ', 'BB Entertainment Unlimited',\n",
       "       'BB Report Subscription Charge', 'BB YouTube Bundle',\n",
       "       'Hotline Immediate', 'Hotline Time Delayed',\n",
       "       'PeoTPackage Transfer', 'Telehealth', 'IDD', 'BB Messenger Bundle',\n",
       "       'AB Referral offer Discount', 'Referral offer Discount',\n",
       "       'Basic Phone Installment', 'AB Additional Distance', 'Meet Max',\n",
       "       'PEO TV GO OTT A la carte channels', 'AB Citylink Loyalty Rewards',\n",
       "       'Railway Registration', 'OTT SLT PeoTV Go',\n",
       "       'PeoTVGo Channel Package', 'Plus4 TeleLife',\n",
       "       'BB SLT Film Hall Service', 'Package Rental Through ADSL',\n",
       "       'Additional features Double VAS Bundle', 'Call park',\n",
       "       'M Activation Charge', 'BB PeoTVGO Revenue code',\n",
       "       'Cordeless Phone  Installment', 'Detailed Bill', 'Basic4 TeleLife',\n",
       "       'One Time Detailed Bill', 'Removal of Int & Parallel Ext',\n",
       "       'Miscellaneous Service'], dtype=object)"
      ]
     },
     "execution_count": 204,
     "metadata": {},
     "output_type": "execute_result"
    }
   ],
   "source": [
    "vas_agg_df[\"package\"].unique()"
   ]
  },
  {
   "cell_type": "code",
   "execution_count": 205,
   "metadata": {},
   "outputs": [
    {
     "data": {
      "text/html": [
       "<div>\n",
       "<style scoped>\n",
       "    .dataframe tbody tr th:only-of-type {\n",
       "        vertical-align: middle;\n",
       "    }\n",
       "\n",
       "    .dataframe tbody tr th {\n",
       "        vertical-align: top;\n",
       "    }\n",
       "\n",
       "    .dataframe thead th {\n",
       "        text-align: right;\n",
       "    }\n",
       "</style>\n",
       "<table border=\"1\" class=\"dataframe\">\n",
       "  <thead>\n",
       "    <tr style=\"text-align: right;\">\n",
       "      <th></th>\n",
       "      <th>ACCOUNT_NUM.hash</th>\n",
       "      <th>package</th>\n",
       "      <th>ratings</th>\n",
       "    </tr>\n",
       "  </thead>\n",
       "  <tbody>\n",
       "    <tr>\n",
       "      <th>0</th>\n",
       "      <td>0009e7e4d940c2a539b89342af07e7f1</td>\n",
       "      <td>AB Service Vacation</td>\n",
       "      <td>0.000000</td>\n",
       "    </tr>\n",
       "    <tr>\n",
       "      <th>1</th>\n",
       "      <td>008bca99f0cccb5d07d4f03744709cf8</td>\n",
       "      <td>Installment</td>\n",
       "      <td>0.000000</td>\n",
       "    </tr>\n",
       "    <tr>\n",
       "      <th>2</th>\n",
       "      <td>009ef2d25878cecee8d2c8115d26f4ab</td>\n",
       "      <td>Basic1 TeleLife</td>\n",
       "      <td>0.000909</td>\n",
       "    </tr>\n",
       "    <tr>\n",
       "      <th>3</th>\n",
       "      <td>009ef2d25878cecee8d2c8115d26f4ab</td>\n",
       "      <td>Basic2 TeleLife</td>\n",
       "      <td>0.002045</td>\n",
       "    </tr>\n",
       "    <tr>\n",
       "      <th>4</th>\n",
       "      <td>009ef2d25878cecee8d2c8115d26f4ab</td>\n",
       "      <td>Plus1 TeleLife</td>\n",
       "      <td>0.002525</td>\n",
       "    </tr>\n",
       "    <tr>\n",
       "      <th>...</th>\n",
       "      <td>...</td>\n",
       "      <td>...</td>\n",
       "      <td>...</td>\n",
       "    </tr>\n",
       "    <tr>\n",
       "      <th>1629</th>\n",
       "      <td>fe3bcb8c980fa7d05c7a7c62574ebe3e</td>\n",
       "      <td>E channeling Registration</td>\n",
       "      <td>0.000000</td>\n",
       "    </tr>\n",
       "    <tr>\n",
       "      <th>1630</th>\n",
       "      <td>fe48f49bbd4bdae38c0e533904700290</td>\n",
       "      <td>Basic1 TeleLife</td>\n",
       "      <td>0.000909</td>\n",
       "    </tr>\n",
       "    <tr>\n",
       "      <th>1631</th>\n",
       "      <td>ff6a9ebde4f19c42c852aa679c877b41</td>\n",
       "      <td>E channeling Registration</td>\n",
       "      <td>0.000000</td>\n",
       "    </tr>\n",
       "    <tr>\n",
       "      <th>1632</th>\n",
       "      <td>ffaa8955dcd8a0af7d148c10fd447fcc</td>\n",
       "      <td>Meet Lite</td>\n",
       "      <td>0.000000</td>\n",
       "    </tr>\n",
       "    <tr>\n",
       "      <th>1633</th>\n",
       "      <td>ffaa8955dcd8a0af7d148c10fd447fcc</td>\n",
       "      <td>Plus1 TeleLife</td>\n",
       "      <td>0.002525</td>\n",
       "    </tr>\n",
       "  </tbody>\n",
       "</table>\n",
       "<p>1634 rows × 3 columns</p>\n",
       "</div>"
      ],
      "text/plain": [
       "                      ACCOUNT_NUM.hash                    package   ratings\n",
       "0     0009e7e4d940c2a539b89342af07e7f1        AB Service Vacation  0.000000\n",
       "1     008bca99f0cccb5d07d4f03744709cf8                Installment  0.000000\n",
       "2     009ef2d25878cecee8d2c8115d26f4ab            Basic1 TeleLife  0.000909\n",
       "3     009ef2d25878cecee8d2c8115d26f4ab            Basic2 TeleLife  0.002045\n",
       "4     009ef2d25878cecee8d2c8115d26f4ab             Plus1 TeleLife  0.002525\n",
       "...                                ...                        ...       ...\n",
       "1629  fe3bcb8c980fa7d05c7a7c62574ebe3e  E channeling Registration  0.000000\n",
       "1630  fe48f49bbd4bdae38c0e533904700290            Basic1 TeleLife  0.000909\n",
       "1631  ff6a9ebde4f19c42c852aa679c877b41  E channeling Registration  0.000000\n",
       "1632  ffaa8955dcd8a0af7d148c10fd447fcc                  Meet Lite  0.000000\n",
       "1633  ffaa8955dcd8a0af7d148c10fd447fcc             Plus1 TeleLife  0.002525\n",
       "\n",
       "[1634 rows x 3 columns]"
      ]
     },
     "execution_count": 205,
     "metadata": {},
     "output_type": "execute_result"
    }
   ],
   "source": [
    "vas_agg_df"
   ]
  },
  {
   "cell_type": "code",
   "execution_count": 206,
   "metadata": {},
   "outputs": [],
   "source": [
    "vas_agg_df.to_csv(\"data/azure/VAS_user_ratings.csv\")"
   ]
  },
  {
   "cell_type": "markdown",
   "metadata": {},
   "source": [
    "## User content"
   ]
  },
  {
   "cell_type": "code",
   "execution_count": 207,
   "metadata": {},
   "outputs": [],
   "source": [
    "user_profile.drop([\"Unnamed: 0\"],axis=1,inplace=True)"
   ]
  },
  {
   "cell_type": "code",
   "execution_count": 208,
   "metadata": {},
   "outputs": [
    {
     "data": {
      "text/plain": [
       "Promotion Upgrade      394\n",
       "Promotion Downgrade    266\n",
       "Name: Sub_Update_Status, dtype: int64"
      ]
     },
     "execution_count": 208,
     "metadata": {},
     "output_type": "execute_result"
    }
   ],
   "source": [
    "user_profile[\"Sub_Update_Status\"].value_counts()"
   ]
  },
  {
   "cell_type": "code",
   "execution_count": 209,
   "metadata": {},
   "outputs": [
    {
     "name": "stdout",
     "output_type": "stream",
     "text": [
      "<class 'pandas.core.frame.DataFrame'>\n",
      "RangeIndex: 2916 entries, 0 to 2915\n",
      "Data columns (total 96 columns):\n",
      " #   Column                                    Non-Null Count  Dtype  \n",
      "---  ------                                    --------------  -----  \n",
      " 0   ACCOUNT_NUM.hash                          2916 non-null   object \n",
      " 1   CUSTOMER_REF.hash                         2916 non-null   object \n",
      " 2   OFFNET_INCOMING_Scaled                    2916 non-null   float64\n",
      " 3   OFFNET_INCOMING_Categorical               2916 non-null   object \n",
      " 4   OFFNET_INCOMING_Outlier                   2916 non-null   object \n",
      " 5   OFFNET_OUTGOING_Categorical               2809 non-null   object \n",
      " 6   OFFNET_OUTGOING_Scaled                    2809 non-null   float64\n",
      " 7   OFFNET_OUTGOING_Outlier                   2809 non-null   object \n",
      " 8   ONNET_INCOMING_Categorical                2833 non-null   object \n",
      " 9   ONNET_INCOMING_Scaled                     2833 non-null   float64\n",
      " 10  ONNET_INCOMING_Outlier                    2833 non-null   object \n",
      " 11  ONNET_OUTGOING_Categorical                2832 non-null   object \n",
      " 12  ONNET_OUTGOING_Scaled                     2832 non-null   float64\n",
      " 13  ONNET_OUTGOING_Outlier                    2832 non-null   object \n",
      " 14  IDD_INCOMING_Categorical                  1445 non-null   object \n",
      " 15  IDD_INCOMING_Scaled                       1445 non-null   float64\n",
      " 16  IDD_INCOMING_Outlier                      1445 non-null   object \n",
      " 17  IDD_incoming_country                      1445 non-null   object \n",
      " 18  IDD_OUTGOING_Categorical                  477 non-null    object \n",
      " 19  IDD_OUTGOING_Scaled                       477 non-null    float64\n",
      " 20  IDD_OUTGOING_Outlier                      477 non-null    object \n",
      " 21  IDD_outgoing_Cumulative_Revenue           477 non-null    float64\n",
      " 22  IDD_outgoing_country                      477 non-null    object \n",
      " 23  Peo_TV_Package                            1142 non-null   object \n",
      " 24  PEO_TV_Categorical                        1142 non-null   object \n",
      " 25  PEO_TV_Scaled                             1142 non-null   float64\n",
      " 26  event_source.hash                         1142 non-null   object \n",
      " 27  BB_Categorical                            1113 non-null   object \n",
      " 28  BB_Scaled                                 1113 non-null   float64\n",
      " 29  BB_Package                                1352 non-null   object \n",
      " 30  TARIFF_NAME                               2916 non-null   object \n",
      " 31  BB_Medium                                 1352 non-null   object \n",
      " 32  Location_Identifier                       2916 non-null   object \n",
      " 33  GENDER                                    2237 non-null   object \n",
      " 34  BIRTH_YEAR                                2237 non-null   float64\n",
      " 35  AGE                                       2237 non-null   float64\n",
      " 36  ONNET_Overall_Categorical                 2890 non-null   object \n",
      " 37  OFFNET_Overall_Categorical                2916 non-null   object \n",
      " 38  IDD_Overall_Categorical                   1499 non-null   object \n",
      " 39  VOICE_Categorical                         2867 non-null   object \n",
      " 40  Subscription                              668 non-null    object \n",
      " 41  Sub_Type                                  2916 non-null   object \n",
      " 42  Sub_Usage                                 2916 non-null   object \n",
      " 43  Sub_Type_State                            2916 non-null   object \n",
      " 44  Megaline_Package                          2916 non-null   object \n",
      " 45  Megaline_Month_Subscribed                 2916 non-null   object \n",
      " 46  Megaline_Rental                           2916 non-null   object \n",
      " 47  Megaline_One_Time_Charge                  2916 non-null   object \n",
      " 48  Package_Type                              2916 non-null   object \n",
      " 49  FTTH_Package                              88 non-null     object \n",
      " 50  FTTH_Month_Subscribed                     88 non-null     object \n",
      " 51  FTTH_Rental                               88 non-null     object \n",
      " 52  FTTH_One_Time_Charge                      88 non-null     object \n",
      " 53  VAS_Package                               962 non-null    object \n",
      " 54  VAS_Month_Subscribed                      962 non-null    object \n",
      " 55  VAS_Rental                                962 non-null    object \n",
      " 56  VAS_One_Time_Charge                       962 non-null    object \n",
      " 57  Product_Type                              962 non-null    object \n",
      " 58  MEDIUM                                    2869 non-null   object \n",
      " 59  Sub_Update_Date                           660 non-null    object \n",
      " 60  Sub_Update_Status                         660 non-null    object \n",
      " 61  Sub_Update                                660 non-null    object \n",
      " 62  BB_Extra_GB_Usage_Times                   1394 non-null   float64\n",
      " 63  BB_Extra_GB_Month_vs_Rental               1394 non-null   object \n",
      " 64  BB_Extra_GB_Purchased_Scaled              1394 non-null   float64\n",
      " 65  BB_Extra_GB_Purchase_Categorical          1394 non-null   object \n",
      " 66  BB_Extra_GB_Amount                        568 non-null    float64\n",
      " 67  Peo_Extra_Channels_Cumulative_Rental      47 non-null     float64\n",
      " 68  Peo_Extra_Channels_Month_vs_Rental        47 non-null     object \n",
      " 69  Peo_Extra_Channels_Purchased_Scaled       47 non-null     float64\n",
      " 70  Peo_Extra_Channels_Purchased_Categorical  47 non-null     object \n",
      " 71  Having_Insurance                          415 non-null    object \n",
      " 72  Having_Senior_Citizen_Scaled              2916 non-null   float64\n",
      " 73  Having_Senior_Citizen                     454 non-null    object \n",
      " 74  Having_Kids_at_Home_Scaled                2916 non-null   float64\n",
      " 75  Having_Kids_at_Home                       243 non-null    object \n",
      " 76  SMEs_Scaled                               2916 non-null   float64\n",
      " 77  SMEs                                      28 non-null     object \n",
      " 78  Having_Teenagers_Students_Scaled          2916 non-null   float64\n",
      " 79  Having_Teenagers_Students                 275 non-null    object \n",
      " 80  Having_Working_Professionals_Scaled       2916 non-null   float64\n",
      " 81  Having_Working_Professionals              395 non-null    object \n",
      " 82  Having_Family_Member_Abroad_Scaled        2916 non-null   float64\n",
      " 83  Having_Family_Member_Abroad               867 non-null    object \n",
      " 84  Tamil_Customer                            190 non-null    object \n",
      " 85  Peo_Packages_if_Senior_Citizen            2916 non-null   float64\n",
      " 86  Peo_Packages_if_Kids                      2916 non-null   float64\n",
      " 87  Peo_Packages_if_Teenager_Students         2916 non-null   float64\n",
      " 88  Peo_Package_if_Working_Professionals      2916 non-null   float64\n",
      " 89  BB_Package_if_Working_Professionals       2916 non-null   float64\n",
      " 90  BB_Packages_if_Teenager_Students          2916 non-null   float64\n",
      " 91  BB_Packages_if_SMEss                      2916 non-null   float64\n",
      " 92  VAS_if_Kids                               2916 non-null   float64\n",
      " 93  VAS_if_Teenager_Students                  2916 non-null   float64\n",
      " 94  VAS_if_Working_Professionals              2916 non-null   float64\n",
      " 95  IDD_if_Family_Member_Abroad               2916 non-null   float64\n",
      "dtypes: float64(33), object(63)\n",
      "memory usage: 2.1+ MB\n"
     ]
    }
   ],
   "source": [
    "user_profile.info()"
   ]
  },
  {
   "cell_type": "code",
   "execution_count": 210,
   "metadata": {},
   "outputs": [],
   "source": [
    "user_df=user_profile.iloc[:,[0,17,22,23,25,28,29,30,32,33,35,38,39,41,44,48,49,53,57,58,61,64,69,71,84,78,80,76,74,72,82]]"
   ]
  },
  {
   "cell_type": "markdown",
   "metadata": {},
   "source": [
    "### Handeling Null Values"
   ]
  },
  {
   "cell_type": "code",
   "execution_count": 212,
   "metadata": {},
   "outputs": [
    {
     "name": "stderr",
     "output_type": "stream",
     "text": [
      "C:\\ProgramData\\Anaconda3\\lib\\site-packages\\pandas\\core\\frame.py:3191: SettingWithCopyWarning: \n",
      "A value is trying to be set on a copy of a slice from a DataFrame.\n",
      "Try using .loc[row_indexer,col_indexer] = value instead\n",
      "\n",
      "See the caveats in the documentation: https://pandas.pydata.org/pandas-docs/stable/user_guide/indexing.html#returning-a-view-versus-a-copy\n",
      "  self[k1] = value[k2]\n"
     ]
    }
   ],
   "source": [
    "cat_cols = ['Tamil_Customer', 'Having_Insurance']\n",
    "\n",
    "user_df[cat_cols] = user_df[cat_cols].fillna(\"NO\")\n",
    "\n",
    "#voice_udf[scaled_cols] = voice_udf[scaled_cols].fillna(0)"
   ]
  },
  {
   "cell_type": "code",
   "execution_count": 213,
   "metadata": {},
   "outputs": [],
   "source": [
    "num_cols=[\"BB_Extra_GB_Purchased_Scaled\",\"Peo_Extra_Channels_Purchased_Scaled\"]\n",
    "user_df[num_cols] = user_df[num_cols].fillna(0)"
   ]
  },
  {
   "cell_type": "code",
   "execution_count": 214,
   "metadata": {},
   "outputs": [
    {
     "name": "stdout",
     "output_type": "stream",
     "text": [
      "<class 'pandas.core.frame.DataFrame'>\n",
      "RangeIndex: 2916 entries, 0 to 2915\n",
      "Data columns (total 31 columns):\n",
      " #   Column                               Non-Null Count  Dtype  \n",
      "---  ------                               --------------  -----  \n",
      " 0   ACCOUNT_NUM.hash                     2916 non-null   object \n",
      " 1   IDD_incoming_country                 1445 non-null   object \n",
      " 2   IDD_outgoing_country                 477 non-null    object \n",
      " 3   Peo_TV_Package                       1142 non-null   object \n",
      " 4   PEO_TV_Scaled                        1142 non-null   float64\n",
      " 5   BB_Scaled                            1113 non-null   float64\n",
      " 6   BB_Package                           1352 non-null   object \n",
      " 7   TARIFF_NAME                          2916 non-null   object \n",
      " 8   Location_Identifier                  2916 non-null   object \n",
      " 9   GENDER                               2237 non-null   object \n",
      " 10  AGE                                  2237 non-null   float64\n",
      " 11  IDD_Overall_Categorical              1499 non-null   object \n",
      " 12  VOICE_Categorical                    2867 non-null   object \n",
      " 13  Sub_Type                             2916 non-null   object \n",
      " 14  Megaline_Package                     2916 non-null   object \n",
      " 15  Package_Type                         2916 non-null   object \n",
      " 16  FTTH_Package                         88 non-null     object \n",
      " 17  VAS_Package                          962 non-null    object \n",
      " 18  Product_Type                         962 non-null    object \n",
      " 19  MEDIUM                               2869 non-null   object \n",
      " 20  Sub_Update                           660 non-null    object \n",
      " 21  BB_Extra_GB_Purchased_Scaled         2916 non-null   float64\n",
      " 22  Peo_Extra_Channels_Purchased_Scaled  2916 non-null   float64\n",
      " 23  Having_Insurance                     2916 non-null   object \n",
      " 24  Tamil_Customer                       2916 non-null   object \n",
      " 25  Having_Teenagers_Students_Scaled     2916 non-null   float64\n",
      " 26  Having_Working_Professionals_Scaled  2916 non-null   float64\n",
      " 27  SMEs_Scaled                          2916 non-null   float64\n",
      " 28  Having_Kids_at_Home_Scaled           2916 non-null   float64\n",
      " 29  Having_Senior_Citizen_Scaled         2916 non-null   float64\n",
      " 30  Having_Family_Member_Abroad_Scaled   2916 non-null   float64\n",
      "dtypes: float64(11), object(20)\n",
      "memory usage: 706.3+ KB\n"
     ]
    }
   ],
   "source": [
    "user_df.info()"
   ]
  },
  {
   "cell_type": "code",
   "execution_count": 215,
   "metadata": {},
   "outputs": [],
   "source": [
    "user_df.to_csv(\"data/azure/VAS_user_content.csv\")"
   ]
  },
  {
   "cell_type": "markdown",
   "metadata": {},
   "source": [
    "## Product (package) content"
   ]
  },
  {
   "cell_type": "code",
   "execution_count": 245,
   "metadata": {},
   "outputs": [],
   "source": [
    "product_profile = pd.read_csv(\"data/product_catalog/Product_Profile_Finalised_CSV.csv\")"
   ]
  },
  {
   "cell_type": "code",
   "execution_count": 246,
   "metadata": {},
   "outputs": [
    {
     "name": "stdout",
     "output_type": "stream",
     "text": [
      "<class 'pandas.core.frame.DataFrame'>\n",
      "RangeIndex: 263 entries, 0 to 262\n",
      "Data columns (total 15 columns):\n",
      " #   Column             Non-Null Count  Dtype  \n",
      "---  ------             --------------  -----  \n",
      " 0   Product_ID         263 non-null    object \n",
      " 1   Base_Type          241 non-null    object \n",
      " 2   Pricing_Type       134 non-null    object \n",
      " 3   Package_Type       134 non-null    object \n",
      " 4   Title              134 non-null    object \n",
      " 5   Description        47 non-null     object \n",
      " 6   Price              133 non-null    object \n",
      " 7   Monthly_Rental     141 non-null    float64\n",
      " 8   Subscription_Type  151 non-null    object \n",
      " 9   Recidence_Type     134 non-null    object \n",
      " 10  Tax_Status         131 non-null    object \n",
      " 11  Conditions         131 non-null    object \n",
      " 12  Transfer_Medium    19 non-null     object \n",
      " 13  TARIFF_NAME        22 non-null     object \n",
      " 14  TARIFF_DESC        22 non-null     object \n",
      "dtypes: float64(1), object(14)\n",
      "memory usage: 30.9+ KB\n"
     ]
    }
   ],
   "source": [
    "product_df=product_profile.iloc[:,[0,1,2,3,5,6,14,15,35,37,38,39,42,43,44]]\n",
    "product_df.info()"
   ]
  },
  {
   "cell_type": "code",
   "execution_count": 247,
   "metadata": {},
   "outputs": [],
   "source": [
    "temp_package_df=vas_agg_df[\"package\"]"
   ]
  },
  {
   "cell_type": "code",
   "execution_count": 248,
   "metadata": {},
   "outputs": [],
   "source": [
    "def drop_bb(col):\n",
    "    if not isinstance(col,float):\n",
    "        return col.replace(\"_\",\"\").replace(\"Fibre\",\"\").replace(\"4G\",\"\").replace(\"ADSL\",\"\").replace(\"1Gps\",\"\").replace(\"V-\",\"\").replace(\" \",\"\")"
   ]
  },
  {
   "cell_type": "code",
   "execution_count": 249,
   "metadata": {},
   "outputs": [],
   "source": [
    "def drop_aa(col):\n",
    "    if not isinstance(col,float):\n",
    "        return col.replace(\"_\",\"\").replace(\"V-\",\"\").replace(\" \",\"\")"
   ]
  },
  {
   "cell_type": "code",
   "execution_count": 250,
   "metadata": {},
   "outputs": [
    {
     "name": "stderr",
     "output_type": "stream",
     "text": [
      "<ipython-input-250-d0ad7d355983>:1: SettingWithCopyWarning: \n",
      "A value is trying to be set on a copy of a slice from a DataFrame.\n",
      "Try using .loc[row_indexer,col_indexer] = value instead\n",
      "\n",
      "See the caveats in the documentation: https://pandas.pydata.org/pandas-docs/stable/user_guide/indexing.html#returning-a-view-versus-a-copy\n",
      "  product_df[\"Product_ID\"] = product_df[\"Product_ID\"].apply(lambda x: drop_bb(x))\n"
     ]
    }
   ],
   "source": [
    "product_df[\"Product_ID\"] = product_df[\"Product_ID\"].apply(lambda x: drop_bb(x))"
   ]
  },
  {
   "cell_type": "code",
   "execution_count": 251,
   "metadata": {},
   "outputs": [],
   "source": [
    "temp_package_df = temp_package_df.apply(lambda x: drop_aa(x))"
   ]
  },
  {
   "cell_type": "code",
   "execution_count": 252,
   "metadata": {},
   "outputs": [],
   "source": [
    "vas_products_df = product_df.merge(temp_package_df.drop_duplicates(), left_on=['Product_ID'], right_on=['package'] ,\n",
    "                   how='left', indicator=True)"
   ]
  },
  {
   "cell_type": "code",
   "execution_count": 253,
   "metadata": {},
   "outputs": [],
   "source": [
    "product_df = vas_products_df[(vas_products_df[\"_merge\"]==\"both\")]"
   ]
  },
  {
   "cell_type": "code",
   "execution_count": 254,
   "metadata": {},
   "outputs": [],
   "source": [
    "product_df.drop([\"package\",\"_merge\"],axis=1,inplace=True)\n",
    "product_df.rename(columns={'Product_ID':'package'},inplace=True)\n",
    "product_df.reset_index(drop=True, inplace=True)"
   ]
  },
  {
   "cell_type": "code",
   "execution_count": 256,
   "metadata": {},
   "outputs": [
    {
     "name": "stderr",
     "output_type": "stream",
     "text": [
      "<ipython-input-256-4095608be396>:2: SettingWithCopyWarning: \n",
      "A value is trying to be set on a copy of a slice from a DataFrame\n",
      "\n",
      "See the caveats in the documentation: https://pandas.pydata.org/pandas-docs/stable/user_guide/indexing.html#returning-a-view-versus-a-copy\n",
      "  product_df.dropna(how=\"all\",axis=0,inplace=True)\n",
      "<ipython-input-256-4095608be396>:3: SettingWithCopyWarning: \n",
      "A value is trying to be set on a copy of a slice from a DataFrame\n",
      "\n",
      "See the caveats in the documentation: https://pandas.pydata.org/pandas-docs/stable/user_guide/indexing.html#returning-a-view-versus-a-copy\n",
      "  product_df.dropna(how=\"all\",axis=1,inplace=True)\n"
     ]
    }
   ],
   "source": [
    "# Many columns have no values. Dropping \n",
    "product_df.dropna(how=\"all\",axis=0,inplace=True)\n",
    "product_df.dropna(how=\"all\",axis=1,inplace=True)"
   ]
  },
  {
   "cell_type": "code",
   "execution_count": 257,
   "metadata": {},
   "outputs": [
    {
     "name": "stdout",
     "output_type": "stream",
     "text": [
      "<class 'pandas.core.frame.DataFrame'>\n",
      "Int64Index: 23 entries, 0 to 22\n",
      "Data columns (total 8 columns):\n",
      " #   Column             Non-Null Count  Dtype  \n",
      "---  ------             --------------  -----  \n",
      " 0   package            23 non-null     object \n",
      " 1   Base_Type          14 non-null     object \n",
      " 2   Price              3 non-null      object \n",
      " 3   Monthly_Rental     11 non-null     float64\n",
      " 4   Subscription_Type  9 non-null      object \n",
      " 5   Transfer_Medium    9 non-null      object \n",
      " 6   TARIFF_NAME        9 non-null      object \n",
      " 7   TARIFF_DESC        9 non-null      object \n",
      "dtypes: float64(1), object(7)\n",
      "memory usage: 1.6+ KB\n"
     ]
    }
   ],
   "source": [
    "product_df.info()"
   ]
  },
  {
   "cell_type": "code",
   "execution_count": 258,
   "metadata": {},
   "outputs": [],
   "source": [
    "product_df.to_csv(\"data/azure/VAS_package_content.csv\")"
   ]
  },
  {
   "cell_type": "code",
   "execution_count": null,
   "metadata": {},
   "outputs": [],
   "source": []
  }
 ],
 "metadata": {
  "kernelspec": {
   "display_name": "Python 3",
   "language": "python",
   "name": "python3"
  },
  "language_info": {
   "codemirror_mode": {
    "name": "ipython",
    "version": 3
   },
   "file_extension": ".py",
   "mimetype": "text/x-python",
   "name": "python",
   "nbconvert_exporter": "python",
   "pygments_lexer": "ipython3",
   "version": "3.8.8"
  }
 },
 "nbformat": 4,
 "nbformat_minor": 4
}
