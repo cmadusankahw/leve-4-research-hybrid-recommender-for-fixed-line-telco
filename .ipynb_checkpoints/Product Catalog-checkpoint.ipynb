{
 "cells": [
  {
   "cell_type": "code",
   "execution_count": 125,
   "metadata": {},
   "outputs": [],
   "source": [
    "import pandas as pd\n",
    "import numpy as np\n",
    "from matplotlib import pyplot as plt\n",
    "from sklearn.preprocessing import MinMaxScaler\n",
    "import seaborn as sns"
   ]
  },
  {
   "cell_type": "code",
   "execution_count": 126,
   "metadata": {},
   "outputs": [
    {
     "data": {
      "text/html": [
       "<div>\n",
       "<style scoped>\n",
       "    .dataframe tbody tr th:only-of-type {\n",
       "        vertical-align: middle;\n",
       "    }\n",
       "\n",
       "    .dataframe tbody tr th {\n",
       "        vertical-align: top;\n",
       "    }\n",
       "\n",
       "    .dataframe thead th {\n",
       "        text-align: right;\n",
       "    }\n",
       "</style>\n",
       "<table border=\"1\" class=\"dataframe\">\n",
       "  <thead>\n",
       "    <tr style=\"text-align: right;\">\n",
       "      <th></th>\n",
       "      <th>Unnamed: 0</th>\n",
       "      <th>Products</th>\n",
       "    </tr>\n",
       "  </thead>\n",
       "  <tbody>\n",
       "    <tr>\n",
       "      <th>0</th>\n",
       "      <td>0</td>\n",
       "      <td>V_Single VAS Bundle</td>\n",
       "    </tr>\n",
       "    <tr>\n",
       "      <th>1</th>\n",
       "      <td>1</td>\n",
       "      <td>E_Referral offer Discount</td>\n",
       "    </tr>\n",
       "    <tr>\n",
       "      <th>2</th>\n",
       "      <td>2</td>\n",
       "      <td>V_Absentee service</td>\n",
       "    </tr>\n",
       "    <tr>\n",
       "      <th>3</th>\n",
       "      <td>3</td>\n",
       "      <td>V_Hotline Service</td>\n",
       "    </tr>\n",
       "    <tr>\n",
       "      <th>4</th>\n",
       "      <td>4</td>\n",
       "      <td>V_Caller Line Identification</td>\n",
       "    </tr>\n",
       "    <tr>\n",
       "      <th>...</th>\n",
       "      <td>...</td>\n",
       "      <td>...</td>\n",
       "    </tr>\n",
       "    <tr>\n",
       "      <th>91</th>\n",
       "      <td>91</td>\n",
       "      <td>P_Call Forwarding by time</td>\n",
       "    </tr>\n",
       "    <tr>\n",
       "      <th>92</th>\n",
       "      <td>92</td>\n",
       "      <td>V_Basic Phone</td>\n",
       "    </tr>\n",
       "    <tr>\n",
       "      <th>93</th>\n",
       "      <td>93</td>\n",
       "      <td>P_Incoming Call Memory</td>\n",
       "    </tr>\n",
       "    <tr>\n",
       "      <th>94</th>\n",
       "      <td>94</td>\n",
       "      <td>P_Anonymous call barring</td>\n",
       "    </tr>\n",
       "    <tr>\n",
       "      <th>95</th>\n",
       "      <td>95</td>\n",
       "      <td>P_Call park</td>\n",
       "    </tr>\n",
       "  </tbody>\n",
       "</table>\n",
       "<p>96 rows × 2 columns</p>\n",
       "</div>"
      ],
      "text/plain": [
       "    Unnamed: 0                      Products\n",
       "0            0           V_Single VAS Bundle\n",
       "1            1     E_Referral offer Discount\n",
       "2            2            V_Absentee service\n",
       "3            3             V_Hotline Service\n",
       "4            4  V_Caller Line Identification\n",
       "..         ...                           ...\n",
       "91          91     P_Call Forwarding by time\n",
       "92          92                 V_Basic Phone\n",
       "93          93        P_Incoming Call Memory\n",
       "94          94      P_Anonymous call barring\n",
       "95          95                   P_Call park\n",
       "\n",
       "[96 rows x 2 columns]"
      ]
     },
     "execution_count": 126,
     "metadata": {},
     "output_type": "execute_result"
    }
   ],
   "source": [
    "# other products list\n",
    "products = pd.read_csv(\"data/user_profile/Other_Products_List.csv\")\n",
    "products"
   ]
  },
  {
   "cell_type": "markdown",
   "metadata": {},
   "source": [
    "# Categorize available Products"
   ]
  },
  {
   "cell_type": "code",
   "execution_count": 127,
   "metadata": {},
   "outputs": [],
   "source": [
    "# peo TV packages\n",
    "peo_tv_products =  pd.read_csv(\"data/user_profile/PEO_TV_Usage_Categorical.csv\")[\"Peo_TV_Package\"].unique()"
   ]
  },
  {
   "cell_type": "code",
   "execution_count": 128,
   "metadata": {},
   "outputs": [
    {
     "data": {
      "text/plain": [
       "array(['V_Single VAS Bundle', 'E_Referral offer Discount',\n",
       "       'V_Absentee service', 'V_Hotline Service',\n",
       "       'V_Caller Line Identification', 'V_Call Forwarding Offline',\n",
       "       'V_Abbreviated Dialing', 'V_Call Transfer Three way',\n",
       "       'V_Call Forwarding', 'V_Call Waiting',\n",
       "       'V_Call Forwarding-Immediate', 'V_Outgoing Call Memory',\n",
       "       'V_Call Forwarding-On Busy', 'V_Call Forwarding-No Answer',\n",
       "       'V_Cordeless Phone - Installment', 'E_PeoTV Initiation',\n",
       "       'V_Selective call acceptance', 'V_Hotline-Immediate',\n",
       "       'V_Call holding', 'V_Hotline-Time Delayed',\n",
       "       'V_Call Forwarding by time', 'V_Incoming Call Memory',\n",
       "       'V_Short Message Service', 'M_Activation Charge',\n",
       "       'E_Video on Demand', 'AB_Megaline', 'E_TSTV',\n",
       "       'V_Secretary service', 'V_Call park', 'V_Selective call rejection',\n",
       "       'V_Call back on busy', 'V_Call Forwarding - Immediate',\n",
       "       'V_Anonymous call barring', 'V_Call Forwarding - On Busy',\n",
       "       'V_Incoming Call Transfer', 'V_CLI presentation in call waiting',\n",
       "       'V_SLT CLI', 'V_Sisu Connect', 'AB_Service Vacation',\n",
       "       'V_DQ Contact Details', 'V_IDD', 'AB_Rental Free',\n",
       "       'V_SLT Voice Service', 'V_Selective call waiting',\n",
       "       'V-Plus1_TeleLife', 'E_SLT PeoTV Service',\n",
       "       'V_Do not disturb service', 'V_Complete call on no response',\n",
       "       'V_Call forwarding selective', 'AB_Megaline Startup',\n",
       "       'V_Password call barring (secret code)', 'AB_Relocation',\n",
       "       'V_Detailed Bill', 'V_Triple VAS Bundle',\n",
       "       'V_Caller name identificationPresentation',\n",
       "       'V_Caller name sending', 'V_Installment',\n",
       "       'V_Call Barring - Outgoing', 'V_Call Barring', 'P_IDD',\n",
       "       'P_Additional features -Double VAS Bundle', 'P_SLT CLI',\n",
       "       'P_Megaline', 'DQ_Contact Details', 'P_Megaline New Connection',\n",
       "       'V_Call Forwarding - No Answer', 'V_Basic Phone Installment',\n",
       "       'P_Incoming Call Transfer', 'P_Call Transfer Three way',\n",
       "       'P_Call holding', 'P_Call Forwarding Offline',\n",
       "       'P_Outgoing Call Memory', 'P_Call back on busy',\n",
       "       'V_Double VAS Bundle', 'AB_Citylink Loyalty Rewards',\n",
       "       'V_E-channeling Registration', 'AB_Copper Access Bearer',\n",
       "       'P_One-Time Detailed Bill', 'AB_Referral offer Discount',\n",
       "       'V_Voice Startup Fee', 'V_Referral offer Discount',\n",
       "       'V_Miscellaneous Service', 'E_PeoTV_Package Transfer',\n",
       "       'P_Removal of Int & Parallel Ext', 'AB_Parallel line Installation',\n",
       "       'OTT_SLT PeoTV Go', 'V_Telehealth', 'V_One-Time Detailed Bill',\n",
       "       'AB_Additional Distance', 'V_Railway Registration',\n",
       "       'P_CLI presentation in call waiting', 'P_Call Forwarding by time',\n",
       "       'V_Basic Phone', 'P_Incoming Call Memory',\n",
       "       'P_Anonymous call barring', 'P_Call park', 'PEO_UTHAYAM',\n",
       "       'PEO_SILVER', 'PRANAMA', 'DOUBLEPROMO', 'PEO_ENTERTAINMENT',\n",
       "       'PEO_SILVER_PLUS', 'PEO_UNNATHAM', 'PEO_SILVER_FTTH',\n",
       "       'NEW_SLT_STAFF_PACKAGE', 'BOC', 'PEO_TITANIUM', 'PEO_GOLD',\n",
       "       'SLT_STAFF_TRIPLE_PLAY', 'NEW_YEAR_TREAT',\n",
       "       'SLT_STAFF_PEO_UNNATHAM_FTTH', 'SLTStaff_PEO_SILVER',\n",
       "       'PEO_RELIGIOUS_PACKAGE', 'PEO_PLATINUM', 'LOTUS', 'LEISURE_SPORTS',\n",
       "       'PEO_FAMILY', 'PEO_SILVER_PLUS_FTTH'], dtype=object)"
      ]
     },
     "execution_count": 128,
     "metadata": {},
     "output_type": "execute_result"
    }
   ],
   "source": [
    "# products['Base_Product'] = 1\n",
    "products_arr = products['Products'].values\n",
    "all_products_list = np.append(products_arr, peo_tv_products)\n",
    "all_products_list"
   ]
  },
  {
   "cell_type": "code",
   "execution_count": 129,
   "metadata": {},
   "outputs": [],
   "source": [
    "peo_tv_prod_indicator = len(all_products_list) - len(peo_tv_products) + 1\n",
    "all_products = pd.DataFrame(all_products_list, columns=[\"Products\"])"
   ]
  },
  {
   "cell_type": "code",
   "execution_count": 130,
   "metadata": {},
   "outputs": [],
   "source": [
    "all_products[\"Base_Product\"] = \"NO\"\n",
    "all_products.iloc[peo_tv_prod_indicator:,1] = \"PEO TV\""
   ]
  },
  {
   "cell_type": "code",
   "execution_count": 131,
   "metadata": {},
   "outputs": [],
   "source": [
    "# voice products\n",
    "all_products[\"Base_Product\"] = all_products.apply(lambda x: \"VOICE\" if \"V_\" in x[\"Products\"] else x[\"Base_Product\"], axis=1)"
   ]
  },
  {
   "cell_type": "code",
   "execution_count": 137,
   "metadata": {},
   "outputs": [],
   "source": [
    "all_products[\"Base_Product\"] = all_products.apply(lambda x: \"PEO TV\" if \"PEO_UTHAYAM\" in x[\"Products\"] else x[\"Base_Product\"], axis=1)"
   ]
  },
  {
   "cell_type": "code",
   "execution_count": 144,
   "metadata": {},
   "outputs": [
    {
     "data": {
      "text/plain": [
       "array(['PEO_UTHAYAM', 'PEO_SILVER', 'PRANAMA', 'DOUBLEPROMO',\n",
       "       'PEO_ENTERTAINMENT', 'PEO_SILVER_PLUS', 'PEO_UNNATHAM',\n",
       "       'PEO_SILVER_FTTH', 'NEW_SLT_STAFF_PACKAGE', 'BOC', 'PEO_TITANIUM',\n",
       "       'PEO_GOLD', 'SLT_STAFF_TRIPLE_PLAY', 'NEW_YEAR_TREAT',\n",
       "       'SLT_STAFF_PEO_UNNATHAM_FTTH', 'SLTStaff_PEO_SILVER',\n",
       "       'PEO_RELIGIOUS_PACKAGE', 'PEO_PLATINUM', 'LOTUS', 'LEISURE_SPORTS',\n",
       "       'PEO_FAMILY', 'PEO_SILVER_PLUS_FTTH'], dtype=object)"
      ]
     },
     "execution_count": 144,
     "metadata": {},
     "output_type": "execute_result"
    }
   ],
   "source": [
    "# PEO TV\n",
    "all_products[all_products[\"Base_Product\"] == \"PEO TV\"][\"Products\"].values"
   ]
  },
  {
   "cell_type": "code",
   "execution_count": 142,
   "metadata": {},
   "outputs": [
    {
     "data": {
      "text/plain": [
       "array(['V_Single VAS Bundle', 'V_Absentee service', 'V_Hotline Service',\n",
       "       'V_Caller Line Identification', 'V_Call Forwarding Offline',\n",
       "       'V_Abbreviated Dialing', 'V_Call Transfer Three way',\n",
       "       'V_Call Forwarding', 'V_Call Waiting',\n",
       "       'V_Call Forwarding-Immediate', 'V_Outgoing Call Memory',\n",
       "       'V_Call Forwarding-On Busy', 'V_Call Forwarding-No Answer',\n",
       "       'V_Cordeless Phone - Installment', 'V_Selective call acceptance',\n",
       "       'V_Hotline-Immediate', 'V_Call holding', 'V_Hotline-Time Delayed',\n",
       "       'V_Call Forwarding by time', 'V_Incoming Call Memory',\n",
       "       'V_Short Message Service', 'V_Secretary service', 'V_Call park',\n",
       "       'V_Selective call rejection', 'V_Call back on busy',\n",
       "       'V_Call Forwarding - Immediate', 'V_Anonymous call barring',\n",
       "       'V_Call Forwarding - On Busy', 'V_Incoming Call Transfer',\n",
       "       'V_CLI presentation in call waiting', 'V_SLT CLI',\n",
       "       'V_Sisu Connect', 'V_DQ Contact Details', 'V_IDD',\n",
       "       'V_SLT Voice Service', 'V_Selective call waiting',\n",
       "       'V_Do not disturb service', 'V_Complete call on no response',\n",
       "       'V_Call forwarding selective',\n",
       "       'V_Password call barring (secret code)', 'V_Detailed Bill',\n",
       "       'V_Triple VAS Bundle', 'V_Caller name identificationPresentation',\n",
       "       'V_Caller name sending', 'V_Installment',\n",
       "       'V_Call Barring - Outgoing', 'V_Call Barring',\n",
       "       'V_Call Forwarding - No Answer', 'V_Basic Phone Installment',\n",
       "       'V_Double VAS Bundle', 'V_E-channeling Registration',\n",
       "       'V_Voice Startup Fee', 'V_Referral offer Discount',\n",
       "       'V_Miscellaneous Service', 'E_PeoTV_Package Transfer',\n",
       "       'V_Telehealth', 'V_One-Time Detailed Bill',\n",
       "       'V_Railway Registration', 'V_Basic Phone'], dtype=object)"
      ]
     },
     "execution_count": 142,
     "metadata": {},
     "output_type": "execute_result"
    }
   ],
   "source": [
    "# PEO TV\n",
    "all_products[all_products[\"Base_Product\"] == \"VOICE\"][\"Products\"].values"
   ]
  },
  {
   "cell_type": "code",
   "execution_count": 143,
   "metadata": {},
   "outputs": [
    {
     "data": {
      "text/plain": [
       "array(['E_Referral offer Discount', 'E_PeoTV Initiation',\n",
       "       'M_Activation Charge', 'E_Video on Demand', 'AB_Megaline',\n",
       "       'E_TSTV', 'AB_Service Vacation', 'AB_Rental Free',\n",
       "       'V-Plus1_TeleLife', 'E_SLT PeoTV Service', 'AB_Megaline Startup',\n",
       "       'AB_Relocation', 'P_IDD',\n",
       "       'P_Additional features -Double VAS Bundle', 'P_SLT CLI',\n",
       "       'P_Megaline', 'DQ_Contact Details', 'P_Megaline New Connection',\n",
       "       'P_Incoming Call Transfer', 'P_Call Transfer Three way',\n",
       "       'P_Call holding', 'P_Call Forwarding Offline',\n",
       "       'P_Outgoing Call Memory', 'P_Call back on busy',\n",
       "       'AB_Citylink Loyalty Rewards', 'AB_Copper Access Bearer',\n",
       "       'P_One-Time Detailed Bill', 'AB_Referral offer Discount',\n",
       "       'P_Removal of Int & Parallel Ext', 'AB_Parallel line Installation',\n",
       "       'OTT_SLT PeoTV Go', 'AB_Additional Distance',\n",
       "       'P_CLI presentation in call waiting', 'P_Call Forwarding by time',\n",
       "       'P_Incoming Call Memory', 'P_Anonymous call barring',\n",
       "       'P_Call park'], dtype=object)"
      ]
     },
     "execution_count": 143,
     "metadata": {},
     "output_type": "execute_result"
    }
   ],
   "source": [
    "# products which are not PEO TV or VOICE\n",
    "all_products[all_products[\"Base_Product\"] == \"NO\"][\"Products\"].values"
   ]
  },
  {
   "cell_type": "markdown",
   "metadata": {},
   "source": [
    "# ToDO\n",
    "- categorize other products into VOICE (ONNET, OFFNET, IDD), BB"
   ]
  },
  {
   "cell_type": "markdown",
   "metadata": {},
   "source": [
    "## columns\n",
    "- product_id\n",
    "- product title\n",
    "- base_level\n",
    "- other levels (level 1,2,3 etc..)\n",
    "- description\n",
    "- price (totl cost, downpayment, installment etc..)\n",
    "- monthly cost/ subscription plans\n",
    "- service specific other factors\n",
    "- available/ unavailable regions (MSAN or related level)\n",
    "- date/month or year introduced\n",
    "- status (available/ on hold/ terminated)\n",
    "- **dependencies** (other products it depends on)"
   ]
  },
  {
   "cell_type": "code",
   "execution_count": null,
   "metadata": {},
   "outputs": [],
   "source": []
  }
 ],
 "metadata": {
  "kernelspec": {
   "display_name": "Python 3",
   "language": "python",
   "name": "python3"
  },
  "language_info": {
   "codemirror_mode": {
    "name": "ipython",
    "version": 3
   },
   "file_extension": ".py",
   "mimetype": "text/x-python",
   "name": "python",
   "nbconvert_exporter": "python",
   "pygments_lexer": "ipython3",
   "version": "3.8.5"
  }
 },
 "nbformat": 4,
 "nbformat_minor": 4
}
