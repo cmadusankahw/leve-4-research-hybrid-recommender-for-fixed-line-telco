{
 "cells": [
  {
   "cell_type": "code",
   "execution_count": 6,
   "metadata": {},
   "outputs": [],
   "source": [
    "import pandas as pd\n",
    "import numpy as np\n",
    "from matplotlib import pyplot as plt\n",
    "from sklearn.preprocessing import MinMaxScaler\n",
    "import seaborn as sns"
   ]
  },
  {
   "cell_type": "code",
   "execution_count": 7,
   "metadata": {},
   "outputs": [],
   "source": [
    "plt.style.use('ggplot')\n",
    "plt.style.use('seaborn-bright')"
   ]
  },
  {
   "cell_type": "markdown",
   "metadata": {},
   "source": [
    "### Demographics Inofmation"
   ]
  },
  {
   "cell_type": "markdown",
   "metadata": {},
   "source": [
    "## Product Details - Categories, Play types"
   ]
  },
  {
   "cell_type": "code",
   "execution_count": 8,
   "metadata": {},
   "outputs": [],
   "source": [
    "product_cat_df = pd.read_excel(\"data/new/Product_details_from_BSS.xls\")  "
   ]
  },
  {
   "cell_type": "code",
   "execution_count": 9,
   "metadata": {},
   "outputs": [
    {
     "name": "stdout",
     "output_type": "stream",
     "text": [
      "<class 'pandas.core.frame.DataFrame'>\n",
      "RangeIndex: 60708 entries, 0 to 60707\n",
      "Data columns (total 17 columns):\n",
      " #   Column              Non-Null Count  Dtype         \n",
      "---  ------              --------------  -----         \n",
      " 0   PRODUCT_LABEL.hash  60708 non-null  object        \n",
      " 1   CUSTOMER_REF.hash   60708 non-null  object        \n",
      " 2   ACCOUNT_NUM.hash    60708 non-null  object        \n",
      " 3   PRODUCT_SEQ         60708 non-null  int64         \n",
      " 4   START_DAT           60707 non-null  datetime64[ns]\n",
      " 5   END_DAT             3292 non-null   datetime64[ns]\n",
      " 6   PRODUCT_ID.hash     60708 non-null  object        \n",
      " 7   PRODUCT_NAME        60707 non-null  object        \n",
      " 8   PRODUCT_STATUS      60707 non-null  object        \n",
      " 9   MEDIUM              60684 non-null  object        \n",
      " 10  CATEGORY            60273 non-null  object        \n",
      " 11  CATEGORY_DETAILS    60273 non-null  object        \n",
      " 12  TARIFF_ID.hash      60708 non-null  object        \n",
      " 13  TARIFF_NAME         60707 non-null  object        \n",
      " 14  TARIFF_DESC         60707 non-null  object        \n",
      " 15  RECURRING_CHARGE    8386 non-null   float64       \n",
      " 16                      60708 non-null  object        \n",
      "dtypes: datetime64[ns](2), float64(1), int64(1), object(13)\n",
      "memory usage: 7.9+ MB\n"
     ]
    }
   ],
   "source": [
    "product_cat_df.info()"
   ]
  },
  {
   "cell_type": "code",
   "execution_count": 10,
   "metadata": {},
   "outputs": [
    {
     "data": {
      "text/plain": [
       "V_SLT Voice Service            18847\n",
       "AB_Copper Access Bearer        17637\n",
       "BB_SLT BroadBand Service        5400\n",
       "BB_Extra GB                     5372\n",
       "BB_PeoTVGO                      4800\n",
       "BB_Personal Storage             4368\n",
       "E_SLT PeoTV Service             2385\n",
       "AB_WireLess Access              1076\n",
       "AB_Fiber Access Bearer           327\n",
       "V-Basic1_TeleLife                 99\n",
       "V-Plus1_TeleLife                  87\n",
       "BB_Detailed Reports               84\n",
       "V_E-channeling Registration       80\n",
       "V_Telehealth                      58\n",
       "V_Sisu Connect                    36\n",
       "V_E-channeling Subscription       30\n",
       "BB_SLT Film Hall Service           9\n",
       "OTT_SLT PeoTV Go                   4\n",
       "V-Plus4_TeleLife                   3\n",
       "V-Basic2_TeleLife                  2\n",
       "BB_ Entertainment Unlimited        2\n",
       "V-Basic4_TeleLife                  1\n",
       "Name: PRODUCT_NAME, dtype: int64"
      ]
     },
     "execution_count": 10,
     "metadata": {},
     "output_type": "execute_result"
    }
   ],
   "source": [
    "product_cat_df[\"PRODUCT_NAME\"].value_counts()"
   ]
  },
  {
   "cell_type": "code",
   "execution_count": 11,
   "metadata": {},
   "outputs": [],
   "source": [
    "products_df = product_cat_df[[\"PRODUCT_ID.hash\",\"PRODUCT_NAME\",\"MEDIUM\",\"CATEGORY\",\"CATEGORY_DETAILS\",\"TARIFF_ID.hash\",\"TARIFF_NAME\",\"TARIFF_DESC\",\"RECURRING_CHARGE\"]]"
   ]
  },
  {
   "cell_type": "code",
   "execution_count": 12,
   "metadata": {},
   "outputs": [
    {
     "name": "stderr",
     "output_type": "stream",
     "text": [
      "<ipython-input-12-73a796203387>:1: SettingWithCopyWarning: \n",
      "A value is trying to be set on a copy of a slice from a DataFrame\n",
      "\n",
      "See the caveats in the documentation: https://pandas.pydata.org/pandas-docs/stable/user_guide/indexing.html#returning-a-view-versus-a-copy\n",
      "  products_df.drop_duplicates([\"PRODUCT_ID.hash\"],inplace=True, keep=\"last\")\n"
     ]
    }
   ],
   "source": [
    "products_df.drop_duplicates([\"PRODUCT_ID.hash\"],inplace=True, keep=\"last\")"
   ]
  },
  {
   "cell_type": "code",
   "execution_count": 13,
   "metadata": {},
   "outputs": [
    {
     "name": "stderr",
     "output_type": "stream",
     "text": [
      "/home/chiran/anaconda3/lib/python3.8/site-packages/pandas/core/frame.py:4296: SettingWithCopyWarning: \n",
      "A value is trying to be set on a copy of a slice from a DataFrame\n",
      "\n",
      "See the caveats in the documentation: https://pandas.pydata.org/pandas-docs/stable/user_guide/indexing.html#returning-a-view-versus-a-copy\n",
      "  return super().rename(\n"
     ]
    }
   ],
   "source": [
    "products_df.rename(columns = {\"RECURRING_CHARGE\":\"Monthly_Rental\"},inplace=True)"
   ]
  },
  {
   "cell_type": "code",
   "execution_count": 14,
   "metadata": {},
   "outputs": [
    {
     "name": "stderr",
     "output_type": "stream",
     "text": [
      "/home/chiran/anaconda3/lib/python3.8/site-packages/pandas/core/frame.py:4163: SettingWithCopyWarning: \n",
      "A value is trying to be set on a copy of a slice from a DataFrame\n",
      "\n",
      "See the caveats in the documentation: https://pandas.pydata.org/pandas-docs/stable/user_guide/indexing.html#returning-a-view-versus-a-copy\n",
      "  return super().drop(\n"
     ]
    }
   ],
   "source": [
    "products_df.reset_index(inplace=True)\n",
    "products_df.drop([\"index\"],axis=1,inplace=True)"
   ]
  },
  {
   "cell_type": "code",
   "execution_count": 15,
   "metadata": {},
   "outputs": [
    {
     "name": "stdout",
     "output_type": "stream",
     "text": [
      "<class 'pandas.core.frame.DataFrame'>\n",
      "RangeIndex: 23 entries, 0 to 22\n",
      "Data columns (total 9 columns):\n",
      " #   Column            Non-Null Count  Dtype  \n",
      "---  ------            --------------  -----  \n",
      " 0   PRODUCT_ID.hash   23 non-null     object \n",
      " 1   PRODUCT_NAME      22 non-null     object \n",
      " 2   MEDIUM            19 non-null     object \n",
      " 3   CATEGORY          17 non-null     object \n",
      " 4   CATEGORY_DETAILS  17 non-null     object \n",
      " 5   TARIFF_ID.hash    23 non-null     object \n",
      " 6   TARIFF_NAME       22 non-null     object \n",
      " 7   TARIFF_DESC       22 non-null     object \n",
      " 8   Monthly_Rental    10 non-null     float64\n",
      "dtypes: float64(1), object(8)\n",
      "memory usage: 1.7+ KB\n"
     ]
    }
   ],
   "source": [
    "products_df.info()"
   ]
  },
  {
   "cell_type": "code",
   "execution_count": 16,
   "metadata": {},
   "outputs": [
    {
     "data": {
      "text/plain": [
       "array([nan, 'V-Plus4_TeleLife', 'V_E-channeling Subscription',\n",
       "       'V-Basic2_TeleLife', 'V-Basic4_TeleLife', 'V-Basic1_TeleLife',\n",
       "       'V_Sisu Connect', 'V_Telehealth', 'V-Plus1_TeleLife',\n",
       "       'V_E-channeling Registration', 'BB_ Entertainment Unlimited',\n",
       "       'OTT_SLT PeoTV Go', 'AB_WireLess Access',\n",
       "       'BB_SLT Film Hall Service', 'BB_Detailed Reports ',\n",
       "       'AB_Fiber Access Bearer', 'BB_PeoTVGO', 'BB_Extra GB',\n",
       "       'BB_SLT BroadBand Service', 'BB_Personal Storage',\n",
       "       'E_SLT PeoTV Service', 'V_SLT Voice Service',\n",
       "       'AB_Copper Access Bearer'], dtype=object)"
      ]
     },
     "execution_count": 16,
     "metadata": {},
     "output_type": "execute_result"
    }
   ],
   "source": [
    "products_df[\"PRODUCT_NAME\"].unique()"
   ]
  },
  {
   "cell_type": "code",
   "execution_count": 17,
   "metadata": {},
   "outputs": [],
   "source": [
    "products_df.to_csv(\"data/product_catalog/Product_info_from_BSS.csv\")"
   ]
  },
  {
   "cell_type": "code",
   "execution_count": null,
   "metadata": {},
   "outputs": [],
   "source": []
  },
  {
   "cell_type": "markdown",
   "metadata": {},
   "source": [
    "## Phone No Account No Customer Reference Map"
   ]
  },
  {
   "cell_type": "code",
   "execution_count": 18,
   "metadata": {},
   "outputs": [
    {
     "name": "stderr",
     "output_type": "stream",
     "text": [
      "<ipython-input-18-cb3c55b3a8c1>:2: SettingWithCopyWarning: \n",
      "A value is trying to be set on a copy of a slice from a DataFrame\n",
      "\n",
      "See the caveats in the documentation: https://pandas.pydata.org/pandas-docs/stable/user_guide/indexing.html#returning-a-view-versus-a-copy\n",
      "  acc_no_map.drop_duplicates([\"PRODUCT_LABEL.hash\"],inplace=True)\n"
     ]
    },
    {
     "data": {
      "text/html": [
       "<div>\n",
       "<style scoped>\n",
       "    .dataframe tbody tr th:only-of-type {\n",
       "        vertical-align: middle;\n",
       "    }\n",
       "\n",
       "    .dataframe tbody tr th {\n",
       "        vertical-align: top;\n",
       "    }\n",
       "\n",
       "    .dataframe thead th {\n",
       "        text-align: right;\n",
       "    }\n",
       "</style>\n",
       "<table border=\"1\" class=\"dataframe\">\n",
       "  <thead>\n",
       "    <tr style=\"text-align: right;\">\n",
       "      <th></th>\n",
       "      <th>event_source.hash</th>\n",
       "      <th>ACCOUNT_NUM.hash</th>\n",
       "      <th>CUSTOMER_REF.hash</th>\n",
       "    </tr>\n",
       "  </thead>\n",
       "  <tbody>\n",
       "    <tr>\n",
       "      <th>0</th>\n",
       "      <td>7b40c1d1c84c9a340004769491af7931</td>\n",
       "      <td>bd0cc5e96b24df6625fc68cbaf71b555</td>\n",
       "      <td>df4bc5da4eaaaab1d937c3fd2a699c3f</td>\n",
       "    </tr>\n",
       "    <tr>\n",
       "      <th>1</th>\n",
       "      <td>15799aa2e9dcf19b945e3dbe3146f7dc</td>\n",
       "      <td>4c7a4769273c7a2eb4860a09f6376a70</td>\n",
       "      <td>b30293458c6565bc283bac15b92aa38d</td>\n",
       "    </tr>\n",
       "    <tr>\n",
       "      <th>2</th>\n",
       "      <td>a74c72a07e26ac631688df66f691255c</td>\n",
       "      <td>4c7a4769273c7a2eb4860a09f6376a70</td>\n",
       "      <td>b30293458c6565bc283bac15b92aa38d</td>\n",
       "    </tr>\n",
       "    <tr>\n",
       "      <th>3</th>\n",
       "      <td>d67702262368f632f7014f1bd12d5444</td>\n",
       "      <td>4c7a4769273c7a2eb4860a09f6376a70</td>\n",
       "      <td>b30293458c6565bc283bac15b92aa38d</td>\n",
       "    </tr>\n",
       "    <tr>\n",
       "      <th>4</th>\n",
       "      <td>53098ea32fbe12338600872be6e06fb0</td>\n",
       "      <td>4c7a4769273c7a2eb4860a09f6376a70</td>\n",
       "      <td>b30293458c6565bc283bac15b92aa38d</td>\n",
       "    </tr>\n",
       "    <tr>\n",
       "      <th>...</th>\n",
       "      <td>...</td>\n",
       "      <td>...</td>\n",
       "      <td>...</td>\n",
       "    </tr>\n",
       "    <tr>\n",
       "      <th>27550</th>\n",
       "      <td>28938db617a935e0f092ae16667c9f37</td>\n",
       "      <td>06623c7ba64331f615ff83c5664b71bb</td>\n",
       "      <td>ac995f79a7164b89de084396352b343b</td>\n",
       "    </tr>\n",
       "    <tr>\n",
       "      <th>27551</th>\n",
       "      <td>d7515b0ed8141e075023da5947b714bf</td>\n",
       "      <td>06623c7ba64331f615ff83c5664b71bb</td>\n",
       "      <td>ac995f79a7164b89de084396352b343b</td>\n",
       "    </tr>\n",
       "    <tr>\n",
       "      <th>27552</th>\n",
       "      <td>919ba5f18ce708afcd4f545150021b0e</td>\n",
       "      <td>bd0cc5e96b24df6625fc68cbaf71b555</td>\n",
       "      <td>df4bc5da4eaaaab1d937c3fd2a699c3f</td>\n",
       "    </tr>\n",
       "    <tr>\n",
       "      <th>27553</th>\n",
       "      <td>7ae240b62cca05b9ab0af678122e7e5c</td>\n",
       "      <td>8d8472d39b270801553f2d5e7c06fe22</td>\n",
       "      <td>f8743da5d0bff84f9440fb44fce1bdc1</td>\n",
       "    </tr>\n",
       "    <tr>\n",
       "      <th>27554</th>\n",
       "      <td>d41d8cd98f00b204e9800998ecf8427e</td>\n",
       "      <td>949e14e85d36002ffb954d42d3366936</td>\n",
       "      <td>51ee71e46ba64034adaf383345028fb8</td>\n",
       "    </tr>\n",
       "  </tbody>\n",
       "</table>\n",
       "<p>27555 rows × 3 columns</p>\n",
       "</div>"
      ],
      "text/plain": [
       "                      event_source.hash                  ACCOUNT_NUM.hash  \\\n",
       "0      7b40c1d1c84c9a340004769491af7931  bd0cc5e96b24df6625fc68cbaf71b555   \n",
       "1      15799aa2e9dcf19b945e3dbe3146f7dc  4c7a4769273c7a2eb4860a09f6376a70   \n",
       "2      a74c72a07e26ac631688df66f691255c  4c7a4769273c7a2eb4860a09f6376a70   \n",
       "3      d67702262368f632f7014f1bd12d5444  4c7a4769273c7a2eb4860a09f6376a70   \n",
       "4      53098ea32fbe12338600872be6e06fb0  4c7a4769273c7a2eb4860a09f6376a70   \n",
       "...                                 ...                               ...   \n",
       "27550  28938db617a935e0f092ae16667c9f37  06623c7ba64331f615ff83c5664b71bb   \n",
       "27551  d7515b0ed8141e075023da5947b714bf  06623c7ba64331f615ff83c5664b71bb   \n",
       "27552  919ba5f18ce708afcd4f545150021b0e  bd0cc5e96b24df6625fc68cbaf71b555   \n",
       "27553  7ae240b62cca05b9ab0af678122e7e5c  8d8472d39b270801553f2d5e7c06fe22   \n",
       "27554  d41d8cd98f00b204e9800998ecf8427e  949e14e85d36002ffb954d42d3366936   \n",
       "\n",
       "                      CUSTOMER_REF.hash  \n",
       "0      df4bc5da4eaaaab1d937c3fd2a699c3f  \n",
       "1      b30293458c6565bc283bac15b92aa38d  \n",
       "2      b30293458c6565bc283bac15b92aa38d  \n",
       "3      b30293458c6565bc283bac15b92aa38d  \n",
       "4      b30293458c6565bc283bac15b92aa38d  \n",
       "...                                 ...  \n",
       "27550  ac995f79a7164b89de084396352b343b  \n",
       "27551  ac995f79a7164b89de084396352b343b  \n",
       "27552  df4bc5da4eaaaab1d937c3fd2a699c3f  \n",
       "27553  f8743da5d0bff84f9440fb44fce1bdc1  \n",
       "27554  51ee71e46ba64034adaf383345028fb8  \n",
       "\n",
       "[27555 rows x 3 columns]"
      ]
     },
     "execution_count": 18,
     "metadata": {},
     "output_type": "execute_result"
    }
   ],
   "source": [
    "acc_no_map = product_cat_df[[\"PRODUCT_LABEL.hash\",\"ACCOUNT_NUM.hash\",\"CUSTOMER_REF.hash\"]]\n",
    "acc_no_map.drop_duplicates([\"PRODUCT_LABEL.hash\"],inplace=True)\n",
    "acc_no_map.rename(columns={'PRODUCT_LABEL.hash':'event_source.hash'}, inplace=True)\n",
    "acc_no_map.reset_index(inplace=True)\n",
    "acc_no_map.drop([\"index\"],axis=1,inplace=True)\n",
    "acc_no_map"
   ]
  },
  {
   "cell_type": "code",
   "execution_count": 19,
   "metadata": {},
   "outputs": [
    {
     "data": {
      "text/plain": [
       "27555"
      ]
     },
     "execution_count": 19,
     "metadata": {},
     "output_type": "execute_result"
    }
   ],
   "source": [
    "len(acc_no_map[\"event_source.hash\"].unique())"
   ]
  },
  {
   "cell_type": "code",
   "execution_count": 20,
   "metadata": {},
   "outputs": [],
   "source": [
    "acc_no_map.to_csv(\"data/user_profile/account_no_map_reduced.csv\")"
   ]
  },
  {
   "cell_type": "code",
   "execution_count": null,
   "metadata": {},
   "outputs": [],
   "source": []
  },
  {
   "cell_type": "markdown",
   "metadata": {},
   "source": [
    "## Adding Phone Number col to Customer Demographics "
   ]
  },
  {
   "cell_type": "code",
   "execution_count": 21,
   "metadata": {},
   "outputs": [],
   "source": [
    "demo_df = pd.read_excel(\"data/new/Demographic_Data.xls\")  "
   ]
  },
  {
   "cell_type": "code",
   "execution_count": 22,
   "metadata": {},
   "outputs": [
    {
     "data": {
      "text/html": [
       "<div>\n",
       "<style scoped>\n",
       "    .dataframe tbody tr th:only-of-type {\n",
       "        vertical-align: middle;\n",
       "    }\n",
       "\n",
       "    .dataframe tbody tr th {\n",
       "        vertical-align: top;\n",
       "    }\n",
       "\n",
       "    .dataframe thead th {\n",
       "        text-align: right;\n",
       "    }\n",
       "</style>\n",
       "<table border=\"1\" class=\"dataframe\">\n",
       "  <thead>\n",
       "    <tr style=\"text-align: right;\">\n",
       "      <th></th>\n",
       "      <th>CUSTOMER_REF.hash</th>\n",
       "      <th>GENDER</th>\n",
       "      <th>BIRTH_YEAR</th>\n",
       "      <th>AGE</th>\n",
       "      <th></th>\n",
       "      <th>event_source.hash</th>\n",
       "      <th>ACCOUNT_NUM.hash</th>\n",
       "    </tr>\n",
       "  </thead>\n",
       "  <tbody>\n",
       "    <tr>\n",
       "      <th>0</th>\n",
       "      <td>a043dbaaa0025b1f8cc08824dc994a0d</td>\n",
       "      <td>M</td>\n",
       "      <td>1967</td>\n",
       "      <td>54</td>\n",
       "      <td></td>\n",
       "      <td>a84f463df0fb45ec8d42ca92ab237156</td>\n",
       "      <td>a9c24ac1c87f8677a4dbe304c88054aa</td>\n",
       "    </tr>\n",
       "    <tr>\n",
       "      <th>1</th>\n",
       "      <td>a043dbaaa0025b1f8cc08824dc994a0d</td>\n",
       "      <td>M</td>\n",
       "      <td>1967</td>\n",
       "      <td>54</td>\n",
       "      <td></td>\n",
       "      <td>174913a52c17beb0dad243cec5940c30</td>\n",
       "      <td>a9c24ac1c87f8677a4dbe304c88054aa</td>\n",
       "    </tr>\n",
       "    <tr>\n",
       "      <th>2</th>\n",
       "      <td>2e5e5c967af4b7b4c0cf0b9185d5ad7e</td>\n",
       "      <td>M</td>\n",
       "      <td>1964</td>\n",
       "      <td>57</td>\n",
       "      <td></td>\n",
       "      <td>0bd313cd37f37a651cc0bda8feadc630</td>\n",
       "      <td>ee3713acf4da68cda726f61d3f1026f7</td>\n",
       "    </tr>\n",
       "    <tr>\n",
       "      <th>3</th>\n",
       "      <td>2e5e5c967af4b7b4c0cf0b9185d5ad7e</td>\n",
       "      <td>M</td>\n",
       "      <td>1964</td>\n",
       "      <td>57</td>\n",
       "      <td></td>\n",
       "      <td>5b6deac8be1e07aabeb41a4158a08e71</td>\n",
       "      <td>ee3713acf4da68cda726f61d3f1026f7</td>\n",
       "    </tr>\n",
       "    <tr>\n",
       "      <th>4</th>\n",
       "      <td>3269bc892961919e511bdbe178fa0ac6</td>\n",
       "      <td>M</td>\n",
       "      <td>1966</td>\n",
       "      <td>55</td>\n",
       "      <td></td>\n",
       "      <td>de4a1fdf1880db54d5176095a99ed2ab</td>\n",
       "      <td>6876df747de66cfb33ecd010dfcd68c7</td>\n",
       "    </tr>\n",
       "    <tr>\n",
       "      <th>...</th>\n",
       "      <td>...</td>\n",
       "      <td>...</td>\n",
       "      <td>...</td>\n",
       "      <td>...</td>\n",
       "      <td>...</td>\n",
       "      <td>...</td>\n",
       "      <td>...</td>\n",
       "    </tr>\n",
       "    <tr>\n",
       "      <th>4114</th>\n",
       "      <td>205b0fead79db9bf08a98002d2727ef5</td>\n",
       "      <td>M</td>\n",
       "      <td>1967</td>\n",
       "      <td>54</td>\n",
       "      <td></td>\n",
       "      <td>8187113efb884778725f953c751ae4f1</td>\n",
       "      <td>87cd775edc9cfc4f401e6ff39f239833</td>\n",
       "    </tr>\n",
       "    <tr>\n",
       "      <th>4115</th>\n",
       "      <td>cd035ec55e44eea43d998addc7bcc434</td>\n",
       "      <td>M</td>\n",
       "      <td>1948</td>\n",
       "      <td>73</td>\n",
       "      <td></td>\n",
       "      <td>90feabe2f2846cbf4eb77db650c48a1b</td>\n",
       "      <td>9c926ad1c6705e1f46462dc5b59d8feb</td>\n",
       "    </tr>\n",
       "    <tr>\n",
       "      <th>4116</th>\n",
       "      <td>f5fbbc6264cd75823c8f8cb0830cba45</td>\n",
       "      <td>F</td>\n",
       "      <td>1949</td>\n",
       "      <td>72</td>\n",
       "      <td></td>\n",
       "      <td>7e2f7cef44ccac863691ec25019df475</td>\n",
       "      <td>ffaaa3f5d45ce8c8553efbcfa7e6ce00</td>\n",
       "    </tr>\n",
       "    <tr>\n",
       "      <th>4117</th>\n",
       "      <td>f5fbbc6264cd75823c8f8cb0830cba45</td>\n",
       "      <td>F</td>\n",
       "      <td>1949</td>\n",
       "      <td>72</td>\n",
       "      <td></td>\n",
       "      <td>2324aebced3f63304a107e6e13c39f78</td>\n",
       "      <td>ffaaa3f5d45ce8c8553efbcfa7e6ce00</td>\n",
       "    </tr>\n",
       "    <tr>\n",
       "      <th>4118</th>\n",
       "      <td>aae7281b2e92e745e717bbc77a176769</td>\n",
       "      <td>M</td>\n",
       "      <td>1953</td>\n",
       "      <td>68</td>\n",
       "      <td></td>\n",
       "      <td>NaN</td>\n",
       "      <td>NaN</td>\n",
       "    </tr>\n",
       "  </tbody>\n",
       "</table>\n",
       "<p>4119 rows × 7 columns</p>\n",
       "</div>"
      ],
      "text/plain": [
       "                     CUSTOMER_REF.hash GENDER  BIRTH_YEAR  AGE     \\\n",
       "0     a043dbaaa0025b1f8cc08824dc994a0d      M        1967   54      \n",
       "1     a043dbaaa0025b1f8cc08824dc994a0d      M        1967   54      \n",
       "2     2e5e5c967af4b7b4c0cf0b9185d5ad7e      M        1964   57      \n",
       "3     2e5e5c967af4b7b4c0cf0b9185d5ad7e      M        1964   57      \n",
       "4     3269bc892961919e511bdbe178fa0ac6      M        1966   55      \n",
       "...                                ...    ...         ...  ... ..   \n",
       "4114  205b0fead79db9bf08a98002d2727ef5      M        1967   54      \n",
       "4115  cd035ec55e44eea43d998addc7bcc434      M        1948   73      \n",
       "4116  f5fbbc6264cd75823c8f8cb0830cba45      F        1949   72      \n",
       "4117  f5fbbc6264cd75823c8f8cb0830cba45      F        1949   72      \n",
       "4118  aae7281b2e92e745e717bbc77a176769      M        1953   68      \n",
       "\n",
       "                     event_source.hash                  ACCOUNT_NUM.hash  \n",
       "0     a84f463df0fb45ec8d42ca92ab237156  a9c24ac1c87f8677a4dbe304c88054aa  \n",
       "1     174913a52c17beb0dad243cec5940c30  a9c24ac1c87f8677a4dbe304c88054aa  \n",
       "2     0bd313cd37f37a651cc0bda8feadc630  ee3713acf4da68cda726f61d3f1026f7  \n",
       "3     5b6deac8be1e07aabeb41a4158a08e71  ee3713acf4da68cda726f61d3f1026f7  \n",
       "4     de4a1fdf1880db54d5176095a99ed2ab  6876df747de66cfb33ecd010dfcd68c7  \n",
       "...                                ...                               ...  \n",
       "4114  8187113efb884778725f953c751ae4f1  87cd775edc9cfc4f401e6ff39f239833  \n",
       "4115  90feabe2f2846cbf4eb77db650c48a1b  9c926ad1c6705e1f46462dc5b59d8feb  \n",
       "4116  7e2f7cef44ccac863691ec25019df475  ffaaa3f5d45ce8c8553efbcfa7e6ce00  \n",
       "4117  2324aebced3f63304a107e6e13c39f78  ffaaa3f5d45ce8c8553efbcfa7e6ce00  \n",
       "4118                               NaN                               NaN  \n",
       "\n",
       "[4119 rows x 7 columns]"
      ]
     },
     "execution_count": 22,
     "metadata": {},
     "output_type": "execute_result"
    }
   ],
   "source": [
    "merged_demo = demo_df.merge(acc_no_map,how='left', on='CUSTOMER_REF.hash')\n",
    "merged_demo.reset_index(inplace=True)\n",
    "merged_demo.drop([\"index\"],axis=1, inplace=True)\n",
    "merged_demo"
   ]
  },
  {
   "cell_type": "code",
   "execution_count": 23,
   "metadata": {},
   "outputs": [],
   "source": [
    "merged_demo = merged_demo[[\"event_source.hash\",\"CUSTOMER_REF.hash\",\"ACCOUNT_NUM.hash\",\"GENDER\",\"BIRTH_YEAR\",\"AGE\"]]"
   ]
  },
  {
   "cell_type": "code",
   "execution_count": 24,
   "metadata": {},
   "outputs": [
    {
     "name": "stdout",
     "output_type": "stream",
     "text": [
      "<class 'pandas.core.frame.DataFrame'>\n",
      "RangeIndex: 4119 entries, 0 to 4118\n",
      "Data columns (total 6 columns):\n",
      " #   Column             Non-Null Count  Dtype \n",
      "---  ------             --------------  ----- \n",
      " 0   event_source.hash  4104 non-null   object\n",
      " 1   CUSTOMER_REF.hash  4119 non-null   object\n",
      " 2   ACCOUNT_NUM.hash   4104 non-null   object\n",
      " 3   GENDER             4119 non-null   object\n",
      " 4   BIRTH_YEAR         4119 non-null   int64 \n",
      " 5   AGE                4119 non-null   int64 \n",
      "dtypes: int64(2), object(4)\n",
      "memory usage: 193.2+ KB\n"
     ]
    }
   ],
   "source": [
    "merged_demo.info()"
   ]
  },
  {
   "cell_type": "code",
   "execution_count": 25,
   "metadata": {},
   "outputs": [],
   "source": [
    "merged_demo.to_csv(\"data/user_profile/user_demographics_final.csv\")"
   ]
  },
  {
   "cell_type": "code",
   "execution_count": null,
   "metadata": {},
   "outputs": [],
   "source": []
  },
  {
   "cell_type": "markdown",
   "metadata": {},
   "source": [
    "## VAS Common Dataset Analysis"
   ]
  },
  {
   "cell_type": "code",
   "execution_count": 26,
   "metadata": {},
   "outputs": [],
   "source": [
    "vas_common_df = pd.read_excel(\"data/new/VAS_Products_Purchased Dates_Rental.xls\")\n",
    "vas_common_df.rename(columns={'PRODUCT_NAME':'VAS','BSS_DSP':'Month_Subscribed','RENTAL':'Rental'}, inplace=True)"
   ]
  },
  {
   "cell_type": "code",
   "execution_count": 27,
   "metadata": {},
   "outputs": [],
   "source": [
    "# Date correction\n",
    "def date_correct_common(date):\n",
    "    date=str(date)\n",
    "    year=date[:4]\n",
    "    month=date[5:7]\n",
    "    return f\"{year}-{month}\""
   ]
  },
  {
   "cell_type": "code",
   "execution_count": 28,
   "metadata": {},
   "outputs": [],
   "source": [
    "vas_common_df[\"Month_Subscribed\"]=vas_common_df[\"Month_Subscribed\"].apply(lambda x: date_correct_common(x))"
   ]
  },
  {
   "cell_type": "code",
   "execution_count": 29,
   "metadata": {},
   "outputs": [],
   "source": [
    "vas_common_df = vas_common_df.merge(acc_no_map,how='left',on=\"ACCOUNT_NUM.hash\")"
   ]
  },
  {
   "cell_type": "code",
   "execution_count": 30,
   "metadata": {},
   "outputs": [],
   "source": [
    "#vas_common_df.drop_duplicates([\"event_source.hash\",\"VAS\"], inplace=True,keep=\"last\")\n",
    "vas_common_df.reset_index(inplace=True)\n",
    "vas_common_df.drop([\"index\"],axis=1, inplace=True)"
   ]
  },
  {
   "cell_type": "code",
   "execution_count": 31,
   "metadata": {},
   "outputs": [
    {
     "data": {
      "text/html": [
       "<div>\n",
       "<style scoped>\n",
       "    .dataframe tbody tr th:only-of-type {\n",
       "        vertical-align: middle;\n",
       "    }\n",
       "\n",
       "    .dataframe tbody tr th {\n",
       "        vertical-align: top;\n",
       "    }\n",
       "\n",
       "    .dataframe thead th {\n",
       "        text-align: right;\n",
       "    }\n",
       "</style>\n",
       "<table border=\"1\" class=\"dataframe\">\n",
       "  <thead>\n",
       "    <tr style=\"text-align: right;\">\n",
       "      <th></th>\n",
       "      <th>event_source.hash</th>\n",
       "      <th>ACCOUNT_NUM.hash</th>\n",
       "      <th>CUSTOMER_REF.hash</th>\n",
       "      <th>VAS</th>\n",
       "      <th>Month_Subscribed</th>\n",
       "      <th>Rental</th>\n",
       "    </tr>\n",
       "  </thead>\n",
       "  <tbody>\n",
       "    <tr>\n",
       "      <th>0</th>\n",
       "      <td>NaN</td>\n",
       "      <td>e112d7496d586689517a4e45b5f2fedf</td>\n",
       "      <td>NaN</td>\n",
       "      <td>V_Telehealth</td>\n",
       "      <td>2019-10</td>\n",
       "      <td>100</td>\n",
       "    </tr>\n",
       "    <tr>\n",
       "      <th>1</th>\n",
       "      <td>NaN</td>\n",
       "      <td>8211688ed551c3ae41cd251ec79a7590</td>\n",
       "      <td>NaN</td>\n",
       "      <td>V_Telehealth</td>\n",
       "      <td>2019-10</td>\n",
       "      <td>100</td>\n",
       "    </tr>\n",
       "    <tr>\n",
       "      <th>2</th>\n",
       "      <td>NaN</td>\n",
       "      <td>0febcc112d2da8fb15ae29af3e6b07e8</td>\n",
       "      <td>NaN</td>\n",
       "      <td>V_Telehealth</td>\n",
       "      <td>2020-02</td>\n",
       "      <td>100</td>\n",
       "    </tr>\n",
       "    <tr>\n",
       "      <th>3</th>\n",
       "      <td>NaN</td>\n",
       "      <td>646a136484b965c0b4a1b18dfbb2c663</td>\n",
       "      <td>NaN</td>\n",
       "      <td>V_Telehealth</td>\n",
       "      <td>2020-02</td>\n",
       "      <td>100</td>\n",
       "    </tr>\n",
       "    <tr>\n",
       "      <th>4</th>\n",
       "      <td>NaN</td>\n",
       "      <td>49e3fe21450d5993d23121d53942ab3b</td>\n",
       "      <td>NaN</td>\n",
       "      <td>V_Telehealth</td>\n",
       "      <td>2020-02</td>\n",
       "      <td>100</td>\n",
       "    </tr>\n",
       "    <tr>\n",
       "      <th>...</th>\n",
       "      <td>...</td>\n",
       "      <td>...</td>\n",
       "      <td>...</td>\n",
       "      <td>...</td>\n",
       "      <td>...</td>\n",
       "      <td>...</td>\n",
       "    </tr>\n",
       "    <tr>\n",
       "      <th>57330</th>\n",
       "      <td>NaN</td>\n",
       "      <td>cf8dc52e654c98c2461291893eb27c06</td>\n",
       "      <td>NaN</td>\n",
       "      <td>V_Telehealth</td>\n",
       "      <td>2020-08</td>\n",
       "      <td>100</td>\n",
       "    </tr>\n",
       "    <tr>\n",
       "      <th>57331</th>\n",
       "      <td>NaN</td>\n",
       "      <td>720d67e1d56b076413efbd52553c5388</td>\n",
       "      <td>NaN</td>\n",
       "      <td>V_Telehealth</td>\n",
       "      <td>2020-08</td>\n",
       "      <td>165</td>\n",
       "    </tr>\n",
       "    <tr>\n",
       "      <th>57332</th>\n",
       "      <td>NaN</td>\n",
       "      <td>8e7a582787f663d030bd2dc31e46ee49</td>\n",
       "      <td>NaN</td>\n",
       "      <td>FTTH_Gamer Lite Subscription</td>\n",
       "      <td>2021-04</td>\n",
       "      <td>500</td>\n",
       "    </tr>\n",
       "    <tr>\n",
       "      <th>57333</th>\n",
       "      <td>NaN</td>\n",
       "      <td>8e7a582787f663d030bd2dc31e46ee49</td>\n",
       "      <td>NaN</td>\n",
       "      <td>FTTH_Gamer Lite Subscription</td>\n",
       "      <td>2021-04</td>\n",
       "      <td>500</td>\n",
       "    </tr>\n",
       "    <tr>\n",
       "      <th>57334</th>\n",
       "      <td>NaN</td>\n",
       "      <td>627d19cbc4517c839dcdb4bcedf9a42b</td>\n",
       "      <td>NaN</td>\n",
       "      <td>Megaline_Gamer Lite Subscription</td>\n",
       "      <td>2021-05</td>\n",
       "      <td>500</td>\n",
       "    </tr>\n",
       "  </tbody>\n",
       "</table>\n",
       "<p>57335 rows × 6 columns</p>\n",
       "</div>"
      ],
      "text/plain": [
       "      event_source.hash                  ACCOUNT_NUM.hash CUSTOMER_REF.hash  \\\n",
       "0                   NaN  e112d7496d586689517a4e45b5f2fedf               NaN   \n",
       "1                   NaN  8211688ed551c3ae41cd251ec79a7590               NaN   \n",
       "2                   NaN  0febcc112d2da8fb15ae29af3e6b07e8               NaN   \n",
       "3                   NaN  646a136484b965c0b4a1b18dfbb2c663               NaN   \n",
       "4                   NaN  49e3fe21450d5993d23121d53942ab3b               NaN   \n",
       "...                 ...                               ...               ...   \n",
       "57330               NaN  cf8dc52e654c98c2461291893eb27c06               NaN   \n",
       "57331               NaN  720d67e1d56b076413efbd52553c5388               NaN   \n",
       "57332               NaN  8e7a582787f663d030bd2dc31e46ee49               NaN   \n",
       "57333               NaN  8e7a582787f663d030bd2dc31e46ee49               NaN   \n",
       "57334               NaN  627d19cbc4517c839dcdb4bcedf9a42b               NaN   \n",
       "\n",
       "                                    VAS Month_Subscribed Rental  \n",
       "0                          V_Telehealth          2019-10    100  \n",
       "1                          V_Telehealth          2019-10    100  \n",
       "2                          V_Telehealth          2020-02    100  \n",
       "3                          V_Telehealth          2020-02    100  \n",
       "4                          V_Telehealth          2020-02    100  \n",
       "...                                 ...              ...    ...  \n",
       "57330                      V_Telehealth          2020-08    100  \n",
       "57331                      V_Telehealth          2020-08    165  \n",
       "57332      FTTH_Gamer Lite Subscription          2021-04    500  \n",
       "57333      FTTH_Gamer Lite Subscription          2021-04    500  \n",
       "57334  Megaline_Gamer Lite Subscription          2021-05    500  \n",
       "\n",
       "[57335 rows x 6 columns]"
      ]
     },
     "execution_count": 31,
     "metadata": {},
     "output_type": "execute_result"
    }
   ],
   "source": [
    "vas_common_df = vas_common_df[[\"event_source.hash\",\"ACCOUNT_NUM.hash\",\"CUSTOMER_REF.hash\",\"VAS\",\"Month_Subscribed\",\"Rental\"]]\n",
    "vas_common_df"
   ]
  },
  {
   "cell_type": "code",
   "execution_count": 32,
   "metadata": {},
   "outputs": [
    {
     "data": {
      "text/plain": [
       "V_Telehealth                        30615\n",
       "P_Sisu Connect                       6354\n",
       "BB_YouTube Bundle                    6072\n",
       "P-Basic1_Tele Life                   5565\n",
       "V_Sisu Connect                       4039\n",
       "C_Sisu Connect                       2817\n",
       "BB_ Entertainment Unlimited           725\n",
       "BB_Messenger Bundle                   455\n",
       "P-Plus1_Tele Life                     246\n",
       "V-Basic1_TeleLife                     218\n",
       "V-Plus1_TeleLife                      194\n",
       "P-Plus4_Tele Life                       9\n",
       "V-Plus4_TeleLife                        8\n",
       "P-Basic2_Tele Life                      4\n",
       "C-Basic1_Tele Life                      3\n",
       "V-Basic2_TeleLife                       3\n",
       "P-Basic4_Tele Life                      2\n",
       "FTTH_Gamer Lite Subscription            2\n",
       "V-Basic4_TeleLife                       2\n",
       "2462                                    1\n",
       "Megaline_Gamer Lite Subscription        1\n",
       "Name: VAS, dtype: int64"
      ]
     },
     "execution_count": 32,
     "metadata": {},
     "output_type": "execute_result"
    }
   ],
   "source": [
    "vas_common_df[\"VAS\"].value_counts()"
   ]
  },
  {
   "cell_type": "code",
   "execution_count": null,
   "metadata": {},
   "outputs": [],
   "source": []
  },
  {
   "cell_type": "markdown",
   "metadata": {},
   "source": [
    "## VAS Analysis from Product BSS dataset"
   ]
  },
  {
   "cell_type": "code",
   "execution_count": 33,
   "metadata": {},
   "outputs": [
    {
     "data": {
      "text/plain": [
       "array(['AB_Copper Access Bearer', 'V_SLT Voice Service',\n",
       "       'E_SLT PeoTV Service', 'V_E-channeling Registration',\n",
       "       'V_Sisu Connect', 'V-Basic1_TeleLife', 'V_Telehealth',\n",
       "       'V-Plus1_TeleLife', 'V_E-channeling Subscription', nan,\n",
       "       'V-Plus4_TeleLife', 'OTT_SLT PeoTV Go', 'V-Basic2_TeleLife',\n",
       "       'V-Basic4_TeleLife', 'BB_PeoTVGO', 'BB_Personal Storage',\n",
       "       'BB_SLT BroadBand Service', 'BB_Extra GB', 'BB_Detailed Reports ',\n",
       "       'BB_ Entertainment Unlimited', 'BB_SLT Film Hall Service',\n",
       "       'AB_Fiber Access Bearer', 'AB_WireLess Access'], dtype=object)"
      ]
     },
     "execution_count": 33,
     "metadata": {},
     "output_type": "execute_result"
    }
   ],
   "source": [
    "product_cat_df[\"PRODUCT_NAME\"].unique()"
   ]
  },
  {
   "cell_type": "code",
   "execution_count": 34,
   "metadata": {},
   "outputs": [],
   "source": [
    "dss_vas_df =  product_cat_df[[\"PRODUCT_LABEL.hash\",\"CUSTOMER_REF.hash\",\"ACCOUNT_NUM.hash\",\"PRODUCT_NAME\",\"START_DAT\",\"RECURRING_CHARGE\"]]"
   ]
  },
  {
   "cell_type": "code",
   "execution_count": 35,
   "metadata": {},
   "outputs": [
    {
     "name": "stderr",
     "output_type": "stream",
     "text": [
      "<ipython-input-35-251642fb9baf>:1: SettingWithCopyWarning: \n",
      "A value is trying to be set on a copy of a slice from a DataFrame\n",
      "\n",
      "See the caveats in the documentation: https://pandas.pydata.org/pandas-docs/stable/user_guide/indexing.html#returning-a-view-versus-a-copy\n",
      "  dss_vas_df.sort_values(['PRODUCT_LABEL.hash', 'START_DAT'], ascending=[True, True], inplace=True)\n"
     ]
    }
   ],
   "source": [
    "dss_vas_df.sort_values(['PRODUCT_LABEL.hash', 'START_DAT'], ascending=[True, True], inplace=True)"
   ]
  },
  {
   "cell_type": "code",
   "execution_count": 36,
   "metadata": {},
   "outputs": [
    {
     "name": "stderr",
     "output_type": "stream",
     "text": [
      "/home/chiran/anaconda3/lib/python3.8/site-packages/pandas/core/frame.py:4296: SettingWithCopyWarning: \n",
      "A value is trying to be set on a copy of a slice from a DataFrame\n",
      "\n",
      "See the caveats in the documentation: https://pandas.pydata.org/pandas-docs/stable/user_guide/indexing.html#returning-a-view-versus-a-copy\n",
      "  return super().rename(\n"
     ]
    }
   ],
   "source": [
    "dss_vas_df.rename(columns={'PRODUCT_LABEL.hash':'event_source.hash','PRODUCT_NAME':'VAS','START_DAT':'Month_Subscribed',\"RECURRING_CHARGE\":\"Rental\"}, inplace=True)"
   ]
  },
  {
   "cell_type": "markdown",
   "metadata": {},
   "source": [
    "### Exporting Extra GB usage"
   ]
  },
  {
   "cell_type": "code",
   "execution_count": 37,
   "metadata": {},
   "outputs": [],
   "source": [
    "extra_GB_dss_df = dss_vas_df[(dss_vas_df[\"VAS\"]==\"BB_Extra GB\")]"
   ]
  },
  {
   "cell_type": "code",
   "execution_count": 38,
   "metadata": {},
   "outputs": [
    {
     "name": "stdout",
     "output_type": "stream",
     "text": [
      "<class 'pandas.core.frame.DataFrame'>\n",
      "Int64Index: 5372 entries, 50834 to 39372\n",
      "Data columns (total 6 columns):\n",
      " #   Column             Non-Null Count  Dtype         \n",
      "---  ------             --------------  -----         \n",
      " 0   event_source.hash  5372 non-null   object        \n",
      " 1   CUSTOMER_REF.hash  5372 non-null   object        \n",
      " 2   ACCOUNT_NUM.hash   5372 non-null   object        \n",
      " 3   VAS                5372 non-null   object        \n",
      " 4   Month_Subscribed   5372 non-null   datetime64[ns]\n",
      " 5   Rental             0 non-null      float64       \n",
      "dtypes: datetime64[ns](1), float64(1), object(4)\n",
      "memory usage: 293.8+ KB\n"
     ]
    }
   ],
   "source": [
    "extra_GB_dss_df.info()"
   ]
  },
  {
   "cell_type": "code",
   "execution_count": 39,
   "metadata": {},
   "outputs": [
    {
     "data": {
      "text/plain": [
       "BB_Extra GB    5372\n",
       "Name: VAS, dtype: int64"
      ]
     },
     "execution_count": 39,
     "metadata": {},
     "output_type": "execute_result"
    }
   ],
   "source": [
    "extra_GB_dss_df[\"VAS\"].value_counts()"
   ]
  },
  {
   "cell_type": "code",
   "execution_count": 40,
   "metadata": {},
   "outputs": [
    {
     "data": {
      "text/plain": [
       "5372"
      ]
     },
     "execution_count": 40,
     "metadata": {},
     "output_type": "execute_result"
    }
   ],
   "source": [
    "len(extra_GB_dss_df[\"event_source.hash\"].unique())"
   ]
  },
  {
   "cell_type": "code",
   "execution_count": null,
   "metadata": {},
   "outputs": [],
   "source": []
  },
  {
   "cell_type": "code",
   "execution_count": 41,
   "metadata": {},
   "outputs": [],
   "source": [
    "dss_vas_df = dss_vas_df[(dss_vas_df[\"VAS\"]!=\"BB_Extra GB\")]"
   ]
  },
  {
   "cell_type": "code",
   "execution_count": 42,
   "metadata": {},
   "outputs": [],
   "source": [
    "#dss_vas_df.drop_duplicates([\"event_source.hash\"],inplace=True,keep=\"last\")"
   ]
  },
  {
   "cell_type": "code",
   "execution_count": 43,
   "metadata": {},
   "outputs": [],
   "source": [
    "# Date correction\n",
    "def date_correct_dss(date):\n",
    "    if len(date)>7:\n",
    "        return date[:7]\n",
    "    else:\n",
    "        return date"
   ]
  },
  {
   "cell_type": "code",
   "execution_count": 44,
   "metadata": {},
   "outputs": [],
   "source": [
    "dss_vas_df[\"Month_Subscribed\"]=dss_vas_df[\"Month_Subscribed\"].apply(lambda x: date_correct_dss(str(x)))"
   ]
  },
  {
   "cell_type": "code",
   "execution_count": 45,
   "metadata": {},
   "outputs": [
    {
     "data": {
      "text/plain": [
       "array(['2018-08', '2020-05', '2018-11', '2019-01', '2018-09', '2018-12',\n",
       "       '2019-07', '2018-07', '2019-10', '2020-03', '2020-01', '2016-10',\n",
       "       '2019-04', '2017-11', '2019-02', '2020-08', '2018-04', '2019-03',\n",
       "       '2018-01', '2019-11', '2017-08', '2019-09', '2019-05', '2018-10',\n",
       "       '2020-07', '2019-08', '2018-02', '2020-06', '2018-03', '2017-01',\n",
       "       '2019-12', '2017-04', '2020-02', '2019-06', '2021-02', '2020-04',\n",
       "       '2017-03', '2017-07', '2014-02', '2018-05', '2017-12', '2020-09',\n",
       "       '2016-11', '2016-09', '2017-06', '2016-05', '2018-06', '2017-02',\n",
       "       '2015-10', '2017-05', '2017-09', '2016-06', '2016-04', '2015-08',\n",
       "       '2014-03', '2015-05', '2017-10', '2016-03', '2015-11', '2021-03',\n",
       "       '2015-09', '2016-07', '2015-07', '2014-01', '2016-08', '2016-01',\n",
       "       'NaT', '2015-02', '2020-10', '2016-12', '2016-02'], dtype=object)"
      ]
     },
     "execution_count": 45,
     "metadata": {},
     "output_type": "execute_result"
    }
   ],
   "source": [
    "dss_vas_df[\"Month_Subscribed\"].unique()"
   ]
  },
  {
   "cell_type": "code",
   "execution_count": 46,
   "metadata": {},
   "outputs": [
    {
     "data": {
      "text/html": [
       "<div>\n",
       "<style scoped>\n",
       "    .dataframe tbody tr th:only-of-type {\n",
       "        vertical-align: middle;\n",
       "    }\n",
       "\n",
       "    .dataframe tbody tr th {\n",
       "        vertical-align: top;\n",
       "    }\n",
       "\n",
       "    .dataframe thead th {\n",
       "        text-align: right;\n",
       "    }\n",
       "</style>\n",
       "<table border=\"1\" class=\"dataframe\">\n",
       "  <thead>\n",
       "    <tr style=\"text-align: right;\">\n",
       "      <th></th>\n",
       "      <th>event_source.hash</th>\n",
       "      <th>CUSTOMER_REF.hash</th>\n",
       "      <th>ACCOUNT_NUM.hash</th>\n",
       "      <th>VAS</th>\n",
       "      <th>Month_Subscribed</th>\n",
       "      <th>Rental</th>\n",
       "    </tr>\n",
       "  </thead>\n",
       "  <tbody>\n",
       "    <tr>\n",
       "      <th>10559</th>\n",
       "      <td>00099ff6e175f2b49e7067b20d69e4c3</td>\n",
       "      <td>0552174bba6950523aa45450f6690d02</td>\n",
       "      <td>6b4bfa1e32f513071c6b138a86c3bac9</td>\n",
       "      <td>AB_Copper Access Bearer</td>\n",
       "      <td>2018-08</td>\n",
       "      <td>NaN</td>\n",
       "    </tr>\n",
       "    <tr>\n",
       "      <th>10560</th>\n",
       "      <td>00099ff6e175f2b49e7067b20d69e4c3</td>\n",
       "      <td>0552174bba6950523aa45450f6690d02</td>\n",
       "      <td>6b4bfa1e32f513071c6b138a86c3bac9</td>\n",
       "      <td>E_SLT PeoTV Service</td>\n",
       "      <td>2018-08</td>\n",
       "      <td>899.0</td>\n",
       "    </tr>\n",
       "    <tr>\n",
       "      <th>10561</th>\n",
       "      <td>00099ff6e175f2b49e7067b20d69e4c3</td>\n",
       "      <td>0552174bba6950523aa45450f6690d02</td>\n",
       "      <td>6b4bfa1e32f513071c6b138a86c3bac9</td>\n",
       "      <td>V_SLT Voice Service</td>\n",
       "      <td>2018-08</td>\n",
       "      <td>NaN</td>\n",
       "    </tr>\n",
       "    <tr>\n",
       "      <th>51545</th>\n",
       "      <td>000f86cd741d4e51303065b5f868e5ab</td>\n",
       "      <td>df4bc5da4eaaaab1d937c3fd2a699c3f</td>\n",
       "      <td>bd0cc5e96b24df6625fc68cbaf71b555</td>\n",
       "      <td>AB_WireLess Access</td>\n",
       "      <td>2020-05</td>\n",
       "      <td>NaN</td>\n",
       "    </tr>\n",
       "    <tr>\n",
       "      <th>11873</th>\n",
       "      <td>00114ae408aa3b489b3f5d9baf7eb7ac</td>\n",
       "      <td>bdfc0b71edc02a021536f91cff85f00a</td>\n",
       "      <td>dd5253ea4772b427cc0e87ff6535b058</td>\n",
       "      <td>V_SLT Voice Service</td>\n",
       "      <td>2018-08</td>\n",
       "      <td>NaN</td>\n",
       "    </tr>\n",
       "    <tr>\n",
       "      <th>...</th>\n",
       "      <td>...</td>\n",
       "      <td>...</td>\n",
       "      <td>...</td>\n",
       "      <td>...</td>\n",
       "      <td>...</td>\n",
       "      <td>...</td>\n",
       "    </tr>\n",
       "    <tr>\n",
       "      <th>38860</th>\n",
       "      <td>ffff0039c1e0c380c4b890e6997d33c5</td>\n",
       "      <td>cd3b840fb0da1abcc5bfdebaca6cd761</td>\n",
       "      <td>0e1fe0d01f3a2e9619999a1a634ec427</td>\n",
       "      <td>V_SLT Voice Service</td>\n",
       "      <td>2019-11</td>\n",
       "      <td>NaN</td>\n",
       "    </tr>\n",
       "    <tr>\n",
       "      <th>38858</th>\n",
       "      <td>ffff0039c1e0c380c4b890e6997d33c5</td>\n",
       "      <td>cd3b840fb0da1abcc5bfdebaca6cd761</td>\n",
       "      <td>0e1fe0d01f3a2e9619999a1a634ec427</td>\n",
       "      <td>E_SLT PeoTV Service</td>\n",
       "      <td>2020-02</td>\n",
       "      <td>899.0</td>\n",
       "    </tr>\n",
       "    <tr>\n",
       "      <th>33924</th>\n",
       "      <td>ffff41a457d4ad9618d788bdd917e4ce</td>\n",
       "      <td>f5d47ec8993b2e30d200ec5f1c3bae1b</td>\n",
       "      <td>44224bc1e2e7101c90bbad70dbcc5a6c</td>\n",
       "      <td>AB_Copper Access Bearer</td>\n",
       "      <td>2018-08</td>\n",
       "      <td>NaN</td>\n",
       "    </tr>\n",
       "    <tr>\n",
       "      <th>33925</th>\n",
       "      <td>ffff41a457d4ad9618d788bdd917e4ce</td>\n",
       "      <td>f5d47ec8993b2e30d200ec5f1c3bae1b</td>\n",
       "      <td>44224bc1e2e7101c90bbad70dbcc5a6c</td>\n",
       "      <td>V_SLT Voice Service</td>\n",
       "      <td>2018-08</td>\n",
       "      <td>NaN</td>\n",
       "    </tr>\n",
       "    <tr>\n",
       "      <th>26738</th>\n",
       "      <td>ffff43d0cc07aff0964f0ae29aa10363</td>\n",
       "      <td>df4bc5da4eaaaab1d937c3fd2a699c3f</td>\n",
       "      <td>bd0cc5e96b24df6625fc68cbaf71b555</td>\n",
       "      <td>V_SLT Voice Service</td>\n",
       "      <td>2018-02</td>\n",
       "      <td>399.0</td>\n",
       "    </tr>\n",
       "  </tbody>\n",
       "</table>\n",
       "<p>55336 rows × 6 columns</p>\n",
       "</div>"
      ],
      "text/plain": [
       "                      event_source.hash                 CUSTOMER_REF.hash  \\\n",
       "10559  00099ff6e175f2b49e7067b20d69e4c3  0552174bba6950523aa45450f6690d02   \n",
       "10560  00099ff6e175f2b49e7067b20d69e4c3  0552174bba6950523aa45450f6690d02   \n",
       "10561  00099ff6e175f2b49e7067b20d69e4c3  0552174bba6950523aa45450f6690d02   \n",
       "51545  000f86cd741d4e51303065b5f868e5ab  df4bc5da4eaaaab1d937c3fd2a699c3f   \n",
       "11873  00114ae408aa3b489b3f5d9baf7eb7ac  bdfc0b71edc02a021536f91cff85f00a   \n",
       "...                                 ...                               ...   \n",
       "38860  ffff0039c1e0c380c4b890e6997d33c5  cd3b840fb0da1abcc5bfdebaca6cd761   \n",
       "38858  ffff0039c1e0c380c4b890e6997d33c5  cd3b840fb0da1abcc5bfdebaca6cd761   \n",
       "33924  ffff41a457d4ad9618d788bdd917e4ce  f5d47ec8993b2e30d200ec5f1c3bae1b   \n",
       "33925  ffff41a457d4ad9618d788bdd917e4ce  f5d47ec8993b2e30d200ec5f1c3bae1b   \n",
       "26738  ffff43d0cc07aff0964f0ae29aa10363  df4bc5da4eaaaab1d937c3fd2a699c3f   \n",
       "\n",
       "                       ACCOUNT_NUM.hash                      VAS  \\\n",
       "10559  6b4bfa1e32f513071c6b138a86c3bac9  AB_Copper Access Bearer   \n",
       "10560  6b4bfa1e32f513071c6b138a86c3bac9      E_SLT PeoTV Service   \n",
       "10561  6b4bfa1e32f513071c6b138a86c3bac9      V_SLT Voice Service   \n",
       "51545  bd0cc5e96b24df6625fc68cbaf71b555       AB_WireLess Access   \n",
       "11873  dd5253ea4772b427cc0e87ff6535b058      V_SLT Voice Service   \n",
       "...                                 ...                      ...   \n",
       "38860  0e1fe0d01f3a2e9619999a1a634ec427      V_SLT Voice Service   \n",
       "38858  0e1fe0d01f3a2e9619999a1a634ec427      E_SLT PeoTV Service   \n",
       "33924  44224bc1e2e7101c90bbad70dbcc5a6c  AB_Copper Access Bearer   \n",
       "33925  44224bc1e2e7101c90bbad70dbcc5a6c      V_SLT Voice Service   \n",
       "26738  bd0cc5e96b24df6625fc68cbaf71b555      V_SLT Voice Service   \n",
       "\n",
       "      Month_Subscribed  Rental  \n",
       "10559          2018-08     NaN  \n",
       "10560          2018-08   899.0  \n",
       "10561          2018-08     NaN  \n",
       "51545          2020-05     NaN  \n",
       "11873          2018-08     NaN  \n",
       "...                ...     ...  \n",
       "38860          2019-11     NaN  \n",
       "38858          2020-02   899.0  \n",
       "33924          2018-08     NaN  \n",
       "33925          2018-08     NaN  \n",
       "26738          2018-02   399.0  \n",
       "\n",
       "[55336 rows x 6 columns]"
      ]
     },
     "execution_count": 46,
     "metadata": {},
     "output_type": "execute_result"
    }
   ],
   "source": [
    "dss_vas_df"
   ]
  },
  {
   "cell_type": "code",
   "execution_count": 47,
   "metadata": {},
   "outputs": [
    {
     "data": {
      "text/plain": [
       "V_SLT Voice Service            18847\n",
       "AB_Copper Access Bearer        17637\n",
       "BB_SLT BroadBand Service        5400\n",
       "BB_PeoTVGO                      4800\n",
       "BB_Personal Storage             4368\n",
       "E_SLT PeoTV Service             2385\n",
       "AB_WireLess Access              1076\n",
       "AB_Fiber Access Bearer           327\n",
       "V-Basic1_TeleLife                 99\n",
       "V-Plus1_TeleLife                  87\n",
       "BB_Detailed Reports               84\n",
       "V_E-channeling Registration       80\n",
       "V_Telehealth                      58\n",
       "V_Sisu Connect                    36\n",
       "V_E-channeling Subscription       30\n",
       "BB_SLT Film Hall Service           9\n",
       "OTT_SLT PeoTV Go                   4\n",
       "V-Plus4_TeleLife                   3\n",
       "V-Basic2_TeleLife                  2\n",
       "BB_ Entertainment Unlimited        2\n",
       "V-Basic4_TeleLife                  1\n",
       "Name: VAS, dtype: int64"
      ]
     },
     "execution_count": 47,
     "metadata": {},
     "output_type": "execute_result"
    }
   ],
   "source": [
    "dss_vas_df[\"VAS\"].value_counts()"
   ]
  },
  {
   "cell_type": "code",
   "execution_count": null,
   "metadata": {},
   "outputs": [],
   "source": []
  },
  {
   "cell_type": "markdown",
   "metadata": {},
   "source": [
    "## VAS OTC Dataset Analysis"
   ]
  },
  {
   "cell_type": "code",
   "execution_count": 48,
   "metadata": {},
   "outputs": [],
   "source": [
    "vas_otc_df = pd.read_excel(\"data/new/VAS_Products_Purchased Dates_OTC.xls\")  \n",
    "vas_otc_df.rename(columns={'CREATED_DTM':'Month_Subscribed','OTC_MNY':'One_Time_Charge','OTC_NAME':'VAS'}, inplace=True)"
   ]
  },
  {
   "cell_type": "code",
   "execution_count": 49,
   "metadata": {},
   "outputs": [],
   "source": [
    "vas_otc_df[\"Month_Subscribed\"]=vas_otc_df[\"Month_Subscribed\"].apply(lambda x: date_correct_common(x))"
   ]
  },
  {
   "cell_type": "code",
   "execution_count": 50,
   "metadata": {},
   "outputs": [],
   "source": [
    "vas_otc_df = vas_otc_df.merge(acc_no_map,how='left',on=\"ACCOUNT_NUM.hash\")"
   ]
  },
  {
   "cell_type": "code",
   "execution_count": 51,
   "metadata": {},
   "outputs": [],
   "source": [
    "#vas_otc_df.drop_duplicates([\"ACCOUNT_NUM.hash\",\"VAS\"], inplace=True,keep=\"last\")\n",
    "vas_otc_df.reset_index(inplace=True)\n",
    "vas_otc_df.drop([\"index\"],axis=1, inplace=True)"
   ]
  },
  {
   "cell_type": "code",
   "execution_count": 52,
   "metadata": {},
   "outputs": [
    {
     "data": {
      "text/html": [
       "<div>\n",
       "<style scoped>\n",
       "    .dataframe tbody tr th:only-of-type {\n",
       "        vertical-align: middle;\n",
       "    }\n",
       "\n",
       "    .dataframe tbody tr th {\n",
       "        vertical-align: top;\n",
       "    }\n",
       "\n",
       "    .dataframe thead th {\n",
       "        text-align: right;\n",
       "    }\n",
       "</style>\n",
       "<table border=\"1\" class=\"dataframe\">\n",
       "  <thead>\n",
       "    <tr style=\"text-align: right;\">\n",
       "      <th></th>\n",
       "      <th>event_source.hash</th>\n",
       "      <th>ACCOUNT_NUM.hash</th>\n",
       "      <th>CUSTOMER_REF.hash</th>\n",
       "      <th>VAS</th>\n",
       "      <th>Month_Subscribed</th>\n",
       "      <th>One_Time_Charge</th>\n",
       "    </tr>\n",
       "  </thead>\n",
       "  <tbody>\n",
       "    <tr>\n",
       "      <th>0</th>\n",
       "      <td>013f8bd4e3dd622193a04d5768100065</td>\n",
       "      <td>7a4e5798abc9c9e314e4c6367da7e558</td>\n",
       "      <td>d872161bae33b29ab110e7b3e27ee71a</td>\n",
       "      <td>Meet Lite</td>\n",
       "      <td>2021-05</td>\n",
       "      <td>195</td>\n",
       "    </tr>\n",
       "    <tr>\n",
       "      <th>1</th>\n",
       "      <td>5ff33c5a98dc3f9f1a8066b3d6956e0e</td>\n",
       "      <td>7a4e5798abc9c9e314e4c6367da7e558</td>\n",
       "      <td>d872161bae33b29ab110e7b3e27ee71a</td>\n",
       "      <td>Meet Lite</td>\n",
       "      <td>2021-05</td>\n",
       "      <td>195</td>\n",
       "    </tr>\n",
       "    <tr>\n",
       "      <th>2</th>\n",
       "      <td>b62e16b92a8c0bfda5123caa8541f2c4</td>\n",
       "      <td>7a4e5798abc9c9e314e4c6367da7e558</td>\n",
       "      <td>d872161bae33b29ab110e7b3e27ee71a</td>\n",
       "      <td>Meet Lite</td>\n",
       "      <td>2021-05</td>\n",
       "      <td>195</td>\n",
       "    </tr>\n",
       "    <tr>\n",
       "      <th>3</th>\n",
       "      <td>e35d20e09689545309f1b77627419f2e</td>\n",
       "      <td>02059e815d999bda708149ae263946d3</td>\n",
       "      <td>45636ddd123db631d63e246c5d004400</td>\n",
       "      <td>Meet Lite</td>\n",
       "      <td>2021-06</td>\n",
       "      <td>195</td>\n",
       "    </tr>\n",
       "    <tr>\n",
       "      <th>4</th>\n",
       "      <td>155e3c4f297149ac9ef77f3cfbe5e505</td>\n",
       "      <td>02059e815d999bda708149ae263946d3</td>\n",
       "      <td>45636ddd123db631d63e246c5d004400</td>\n",
       "      <td>Meet Lite</td>\n",
       "      <td>2021-06</td>\n",
       "      <td>195</td>\n",
       "    </tr>\n",
       "    <tr>\n",
       "      <th>...</th>\n",
       "      <td>...</td>\n",
       "      <td>...</td>\n",
       "      <td>...</td>\n",
       "      <td>...</td>\n",
       "      <td>...</td>\n",
       "      <td>...</td>\n",
       "    </tr>\n",
       "    <tr>\n",
       "      <th>50733</th>\n",
       "      <td>3c634e8a04a4b19be8cfcdef0e6b2edd</td>\n",
       "      <td>4cf83d8277f8c1cd95199a342092e808</td>\n",
       "      <td>3ec5121585db60541f3a1aabe515a894</td>\n",
       "      <td>Meet Max</td>\n",
       "      <td>2020-10</td>\n",
       "      <td>490</td>\n",
       "    </tr>\n",
       "    <tr>\n",
       "      <th>50734</th>\n",
       "      <td>00724ae2470df1ed0fe919800d02517d</td>\n",
       "      <td>4cf83d8277f8c1cd95199a342092e808</td>\n",
       "      <td>3ec5121585db60541f3a1aabe515a894</td>\n",
       "      <td>Meet Max</td>\n",
       "      <td>2020-12</td>\n",
       "      <td>490</td>\n",
       "    </tr>\n",
       "    <tr>\n",
       "      <th>50735</th>\n",
       "      <td>3c634e8a04a4b19be8cfcdef0e6b2edd</td>\n",
       "      <td>4cf83d8277f8c1cd95199a342092e808</td>\n",
       "      <td>3ec5121585db60541f3a1aabe515a894</td>\n",
       "      <td>Meet Max</td>\n",
       "      <td>2020-12</td>\n",
       "      <td>490</td>\n",
       "    </tr>\n",
       "    <tr>\n",
       "      <th>50736</th>\n",
       "      <td>00724ae2470df1ed0fe919800d02517d</td>\n",
       "      <td>4cf83d8277f8c1cd95199a342092e808</td>\n",
       "      <td>3ec5121585db60541f3a1aabe515a894</td>\n",
       "      <td>Meet Max</td>\n",
       "      <td>2021-02</td>\n",
       "      <td>490</td>\n",
       "    </tr>\n",
       "    <tr>\n",
       "      <th>50737</th>\n",
       "      <td>3c634e8a04a4b19be8cfcdef0e6b2edd</td>\n",
       "      <td>4cf83d8277f8c1cd95199a342092e808</td>\n",
       "      <td>3ec5121585db60541f3a1aabe515a894</td>\n",
       "      <td>Meet Max</td>\n",
       "      <td>2021-02</td>\n",
       "      <td>490</td>\n",
       "    </tr>\n",
       "  </tbody>\n",
       "</table>\n",
       "<p>50738 rows × 6 columns</p>\n",
       "</div>"
      ],
      "text/plain": [
       "                      event_source.hash                  ACCOUNT_NUM.hash  \\\n",
       "0      013f8bd4e3dd622193a04d5768100065  7a4e5798abc9c9e314e4c6367da7e558   \n",
       "1      5ff33c5a98dc3f9f1a8066b3d6956e0e  7a4e5798abc9c9e314e4c6367da7e558   \n",
       "2      b62e16b92a8c0bfda5123caa8541f2c4  7a4e5798abc9c9e314e4c6367da7e558   \n",
       "3      e35d20e09689545309f1b77627419f2e  02059e815d999bda708149ae263946d3   \n",
       "4      155e3c4f297149ac9ef77f3cfbe5e505  02059e815d999bda708149ae263946d3   \n",
       "...                                 ...                               ...   \n",
       "50733  3c634e8a04a4b19be8cfcdef0e6b2edd  4cf83d8277f8c1cd95199a342092e808   \n",
       "50734  00724ae2470df1ed0fe919800d02517d  4cf83d8277f8c1cd95199a342092e808   \n",
       "50735  3c634e8a04a4b19be8cfcdef0e6b2edd  4cf83d8277f8c1cd95199a342092e808   \n",
       "50736  00724ae2470df1ed0fe919800d02517d  4cf83d8277f8c1cd95199a342092e808   \n",
       "50737  3c634e8a04a4b19be8cfcdef0e6b2edd  4cf83d8277f8c1cd95199a342092e808   \n",
       "\n",
       "                      CUSTOMER_REF.hash        VAS Month_Subscribed  \\\n",
       "0      d872161bae33b29ab110e7b3e27ee71a  Meet Lite          2021-05   \n",
       "1      d872161bae33b29ab110e7b3e27ee71a  Meet Lite          2021-05   \n",
       "2      d872161bae33b29ab110e7b3e27ee71a  Meet Lite          2021-05   \n",
       "3      45636ddd123db631d63e246c5d004400  Meet Lite          2021-06   \n",
       "4      45636ddd123db631d63e246c5d004400  Meet Lite          2021-06   \n",
       "...                                 ...        ...              ...   \n",
       "50733  3ec5121585db60541f3a1aabe515a894   Meet Max          2020-10   \n",
       "50734  3ec5121585db60541f3a1aabe515a894   Meet Max          2020-12   \n",
       "50735  3ec5121585db60541f3a1aabe515a894   Meet Max          2020-12   \n",
       "50736  3ec5121585db60541f3a1aabe515a894   Meet Max          2021-02   \n",
       "50737  3ec5121585db60541f3a1aabe515a894   Meet Max          2021-02   \n",
       "\n",
       "       One_Time_Charge  \n",
       "0                  195  \n",
       "1                  195  \n",
       "2                  195  \n",
       "3                  195  \n",
       "4                  195  \n",
       "...                ...  \n",
       "50733              490  \n",
       "50734              490  \n",
       "50735              490  \n",
       "50736              490  \n",
       "50737              490  \n",
       "\n",
       "[50738 rows x 6 columns]"
      ]
     },
     "execution_count": 52,
     "metadata": {},
     "output_type": "execute_result"
    }
   ],
   "source": [
    "vas_otc_df = vas_otc_df[[\"event_source.hash\",\"ACCOUNT_NUM.hash\",\"CUSTOMER_REF.hash\",\"VAS\",\"Month_Subscribed\",\"One_Time_Charge\"]]\n",
    "vas_otc_df"
   ]
  },
  {
   "cell_type": "code",
   "execution_count": 53,
   "metadata": {},
   "outputs": [
    {
     "data": {
      "text/plain": [
       "Meet Lite    35417\n",
       "Meet Max     12127\n",
       "Edu Lite      3194\n",
       "Name: VAS, dtype: int64"
      ]
     },
     "execution_count": 53,
     "metadata": {},
     "output_type": "execute_result"
    }
   ],
   "source": [
    "vas_otc_df[\"VAS\"].value_counts()"
   ]
  },
  {
   "cell_type": "code",
   "execution_count": null,
   "metadata": {},
   "outputs": [],
   "source": []
  },
  {
   "cell_type": "markdown",
   "metadata": {},
   "source": [
    "## BB VAS Dataset Analysis"
   ]
  },
  {
   "cell_type": "code",
   "execution_count": 54,
   "metadata": {},
   "outputs": [],
   "source": [
    "vas_purchase_df = pd.read_excel(\"data/new/VAS_Products_Purchased Dates_Costed_Events.xls\")  \n",
    "vas_purchase_df.rename(columns={'MM/YYYY':'Month_Subscribed','REV':'Rental','PRODUCT':'VAS'}, inplace=True)"
   ]
  },
  {
   "cell_type": "code",
   "execution_count": 55,
   "metadata": {},
   "outputs": [
    {
     "data": {
      "text/html": [
       "<div>\n",
       "<style scoped>\n",
       "    .dataframe tbody tr th:only-of-type {\n",
       "        vertical-align: middle;\n",
       "    }\n",
       "\n",
       "    .dataframe tbody tr th {\n",
       "        vertical-align: top;\n",
       "    }\n",
       "\n",
       "    .dataframe thead th {\n",
       "        text-align: right;\n",
       "    }\n",
       "</style>\n",
       "<table border=\"1\" class=\"dataframe\">\n",
       "  <thead>\n",
       "    <tr style=\"text-align: right;\">\n",
       "      <th></th>\n",
       "      <th>ACCOUNT_NUM.hash</th>\n",
       "      <th>Month_Subscribed</th>\n",
       "      <th>Rental</th>\n",
       "      <th>VAS</th>\n",
       "      <th></th>\n",
       "    </tr>\n",
       "  </thead>\n",
       "  <tbody>\n",
       "    <tr>\n",
       "      <th>0</th>\n",
       "      <td>949e14e85d36002ffb954d42d3366936</td>\n",
       "      <td>2021-Apr-02 23:56:21</td>\n",
       "      <td>40.0</td>\n",
       "      <td>BB_Report Subscription Charge</td>\n",
       "      <td></td>\n",
       "    </tr>\n",
       "    <tr>\n",
       "      <th>1</th>\n",
       "      <td>949e14e85d36002ffb954d42d3366936</td>\n",
       "      <td>2021-May-03 13:42:03</td>\n",
       "      <td>40.0</td>\n",
       "      <td>BB_Report Subscription Charge</td>\n",
       "      <td></td>\n",
       "    </tr>\n",
       "    <tr>\n",
       "      <th>2</th>\n",
       "      <td>668291ed17c638aaed94f99f7fdf33a5</td>\n",
       "      <td>42017</td>\n",
       "      <td>250.0</td>\n",
       "      <td>BB EXTRA GB</td>\n",
       "      <td></td>\n",
       "    </tr>\n",
       "    <tr>\n",
       "      <th>3</th>\n",
       "      <td>59322724d5029e5667d19ae164cdc16d</td>\n",
       "      <td>12018</td>\n",
       "      <td>750.0</td>\n",
       "      <td>BB EXTRA GB</td>\n",
       "      <td></td>\n",
       "    </tr>\n",
       "    <tr>\n",
       "      <th>4</th>\n",
       "      <td>0e1fe0d01f3a2e9619999a1a634ec427</td>\n",
       "      <td>12018</td>\n",
       "      <td>1500.0</td>\n",
       "      <td>BB EXTRA GB</td>\n",
       "      <td></td>\n",
       "    </tr>\n",
       "    <tr>\n",
       "      <th>...</th>\n",
       "      <td>...</td>\n",
       "      <td>...</td>\n",
       "      <td>...</td>\n",
       "      <td>...</td>\n",
       "      <td>...</td>\n",
       "    </tr>\n",
       "    <tr>\n",
       "      <th>2972</th>\n",
       "      <td>8d8472d39b270801553f2d5e7c06fe22</td>\n",
       "      <td>2021-Mar-03 03:42:49</td>\n",
       "      <td>40.0</td>\n",
       "      <td>BB_Report Subscription Charge</td>\n",
       "      <td></td>\n",
       "    </tr>\n",
       "    <tr>\n",
       "      <th>2973</th>\n",
       "      <td>6f5a50d14f88a8bbed200d30e65ddf20</td>\n",
       "      <td>32020</td>\n",
       "      <td>3400.0</td>\n",
       "      <td>BB EXTRA GB</td>\n",
       "      <td></td>\n",
       "    </tr>\n",
       "    <tr>\n",
       "      <th>2974</th>\n",
       "      <td>8d8472d39b270801553f2d5e7c06fe22</td>\n",
       "      <td>2021-Mar-03 00:28:02</td>\n",
       "      <td>40.0</td>\n",
       "      <td>BB_Report Subscription Charge</td>\n",
       "      <td></td>\n",
       "    </tr>\n",
       "    <tr>\n",
       "      <th>2975</th>\n",
       "      <td>2ea6c5e59c02744c036fe8ff6cccfb7c</td>\n",
       "      <td>52019</td>\n",
       "      <td>1050.0</td>\n",
       "      <td>BB EXTRA GB</td>\n",
       "      <td></td>\n",
       "    </tr>\n",
       "    <tr>\n",
       "      <th>2976</th>\n",
       "      <td>8d8472d39b270801553f2d5e7c06fe22</td>\n",
       "      <td>2021-Mar-01 23:48:04</td>\n",
       "      <td>40.0</td>\n",
       "      <td>BB_Report Subscription Charge</td>\n",
       "      <td></td>\n",
       "    </tr>\n",
       "  </tbody>\n",
       "</table>\n",
       "<p>2977 rows × 5 columns</p>\n",
       "</div>"
      ],
      "text/plain": [
       "                      ACCOUNT_NUM.hash      Month_Subscribed  Rental  \\\n",
       "0     949e14e85d36002ffb954d42d3366936  2021-Apr-02 23:56:21    40.0   \n",
       "1     949e14e85d36002ffb954d42d3366936  2021-May-03 13:42:03    40.0   \n",
       "2     668291ed17c638aaed94f99f7fdf33a5                 42017   250.0   \n",
       "3     59322724d5029e5667d19ae164cdc16d                 12018   750.0   \n",
       "4     0e1fe0d01f3a2e9619999a1a634ec427                 12018  1500.0   \n",
       "...                                ...                   ...     ...   \n",
       "2972  8d8472d39b270801553f2d5e7c06fe22  2021-Mar-03 03:42:49    40.0   \n",
       "2973  6f5a50d14f88a8bbed200d30e65ddf20                 32020  3400.0   \n",
       "2974  8d8472d39b270801553f2d5e7c06fe22  2021-Mar-03 00:28:02    40.0   \n",
       "2975  2ea6c5e59c02744c036fe8ff6cccfb7c                 52019  1050.0   \n",
       "2976  8d8472d39b270801553f2d5e7c06fe22  2021-Mar-01 23:48:04    40.0   \n",
       "\n",
       "                                VAS     \n",
       "0     BB_Report Subscription Charge     \n",
       "1     BB_Report Subscription Charge     \n",
       "2                       BB EXTRA GB     \n",
       "3                       BB EXTRA GB     \n",
       "4                       BB EXTRA GB     \n",
       "...                             ... ..  \n",
       "2972  BB_Report Subscription Charge     \n",
       "2973                    BB EXTRA GB     \n",
       "2974  BB_Report Subscription Charge     \n",
       "2975                    BB EXTRA GB     \n",
       "2976  BB_Report Subscription Charge     \n",
       "\n",
       "[2977 rows x 5 columns]"
      ]
     },
     "execution_count": 55,
     "metadata": {},
     "output_type": "execute_result"
    }
   ],
   "source": [
    "vas_purchase_df"
   ]
  },
  {
   "cell_type": "code",
   "execution_count": 56,
   "metadata": {},
   "outputs": [],
   "source": [
    "# Date correction\n",
    "def date_correct_bb(date):\n",
    "    if len(date)==5:\n",
    "        month = \"0\" + date[0]\n",
    "        year = date[1:]\n",
    "    if len(date)==6:\n",
    "        month=date[:2]\n",
    "        year=date[2:]\n",
    "    if len(date)>6:\n",
    "        year=date[:4]\n",
    "        month=date[9:11]\n",
    "    return f\"{year}-{month}\""
   ]
  },
  {
   "cell_type": "code",
   "execution_count": 57,
   "metadata": {},
   "outputs": [
    {
     "name": "stdout",
     "output_type": "stream",
     "text": [
      "2020-03\n",
      "2017-10\n",
      "2021-02\n"
     ]
    }
   ],
   "source": [
    "# test\n",
    "print(date_correct_bb(\"32020\"))\n",
    "print(date_correct_bb(\"102017\"))\n",
    "print(date_correct_bb(\"2021-May-02 08:02:23\"))"
   ]
  },
  {
   "cell_type": "code",
   "execution_count": 58,
   "metadata": {},
   "outputs": [],
   "source": [
    "vas_purchase_df[\"Month_Subscribed\"]=vas_purchase_df[\"Month_Subscribed\"].apply(lambda x: date_correct_bb(x))"
   ]
  },
  {
   "cell_type": "code",
   "execution_count": 59,
   "metadata": {},
   "outputs": [],
   "source": [
    "vas_purchase_df = vas_purchase_df.merge(acc_no_map,how='left',on=\"ACCOUNT_NUM.hash\")\n",
    "#vas_purchase_df.drop_duplicates([\"ACCOUNT_NUM.hash\",\"VAS\",\"Month_Subscribed\"], inplace=True,keep=\"last\")"
   ]
  },
  {
   "cell_type": "code",
   "execution_count": 60,
   "metadata": {},
   "outputs": [],
   "source": [
    "vas_purchase_df = vas_purchase_df[[\"event_source.hash\",\"ACCOUNT_NUM.hash\",\"CUSTOMER_REF.hash\",\"VAS\",\"Month_Subscribed\",\"Rental\"]]"
   ]
  },
  {
   "cell_type": "code",
   "execution_count": 61,
   "metadata": {},
   "outputs": [
    {
     "data": {
      "text/plain": [
       "BB EXTRA GB                      494576\n",
       "BB_Report Subscription Charge    324542\n",
       "BB Personal Storage              101622\n",
       "Name: VAS, dtype: int64"
      ]
     },
     "execution_count": 61,
     "metadata": {},
     "output_type": "execute_result"
    }
   ],
   "source": [
    "vas_purchase_df[\"VAS\"].value_counts()"
   ]
  },
  {
   "cell_type": "markdown",
   "metadata": {},
   "source": [
    "### Extra GB Usage"
   ]
  },
  {
   "cell_type": "code",
   "execution_count": 62,
   "metadata": {},
   "outputs": [
    {
     "name": "stderr",
     "output_type": "stream",
     "text": [
      "/home/chiran/anaconda3/lib/python3.8/site-packages/pandas/core/frame.py:4163: SettingWithCopyWarning: \n",
      "A value is trying to be set on a copy of a slice from a DataFrame\n",
      "\n",
      "See the caveats in the documentation: https://pandas.pydata.org/pandas-docs/stable/user_guide/indexing.html#returning-a-view-versus-a-copy\n",
      "  return super().drop(\n"
     ]
    },
    {
     "data": {
      "text/html": [
       "<div>\n",
       "<style scoped>\n",
       "    .dataframe tbody tr th:only-of-type {\n",
       "        vertical-align: middle;\n",
       "    }\n",
       "\n",
       "    .dataframe tbody tr th {\n",
       "        vertical-align: top;\n",
       "    }\n",
       "\n",
       "    .dataframe thead th {\n",
       "        text-align: right;\n",
       "    }\n",
       "</style>\n",
       "<table border=\"1\" class=\"dataframe\">\n",
       "  <thead>\n",
       "    <tr style=\"text-align: right;\">\n",
       "      <th></th>\n",
       "      <th>event_source.hash</th>\n",
       "      <th>ACCOUNT_NUM.hash</th>\n",
       "      <th>CUSTOMER_REF.hash</th>\n",
       "      <th>VAS</th>\n",
       "      <th>Month_Subscribed</th>\n",
       "      <th>Rental</th>\n",
       "    </tr>\n",
       "  </thead>\n",
       "  <tbody>\n",
       "    <tr>\n",
       "      <th>0</th>\n",
       "      <td>154adca91f53bf8af4618544147bdab9</td>\n",
       "      <td>668291ed17c638aaed94f99f7fdf33a5</td>\n",
       "      <td>6100520dec9c009ee526b1c518626349</td>\n",
       "      <td>BB EXTRA GB</td>\n",
       "      <td>2017-04</td>\n",
       "      <td>250.0</td>\n",
       "    </tr>\n",
       "    <tr>\n",
       "      <th>1</th>\n",
       "      <td>0d3e013c9b350387311e17773bfc6e17</td>\n",
       "      <td>59322724d5029e5667d19ae164cdc16d</td>\n",
       "      <td>efeab37d377b0f32b7f70b159f824652</td>\n",
       "      <td>BB EXTRA GB</td>\n",
       "      <td>2018-01</td>\n",
       "      <td>750.0</td>\n",
       "    </tr>\n",
       "    <tr>\n",
       "      <th>2</th>\n",
       "      <td>56ad7e0c53f6cb5a35f056f58317d627</td>\n",
       "      <td>59322724d5029e5667d19ae164cdc16d</td>\n",
       "      <td>efeab37d377b0f32b7f70b159f824652</td>\n",
       "      <td>BB EXTRA GB</td>\n",
       "      <td>2018-01</td>\n",
       "      <td>750.0</td>\n",
       "    </tr>\n",
       "    <tr>\n",
       "      <th>3</th>\n",
       "      <td>0d13e2f0bd4ce0b3d28c1cea1319a109</td>\n",
       "      <td>59322724d5029e5667d19ae164cdc16d</td>\n",
       "      <td>efeab37d377b0f32b7f70b159f824652</td>\n",
       "      <td>BB EXTRA GB</td>\n",
       "      <td>2018-01</td>\n",
       "      <td>750.0</td>\n",
       "    </tr>\n",
       "    <tr>\n",
       "      <th>4</th>\n",
       "      <td>c04d14b1ae606541c9c6ae0e6b368086</td>\n",
       "      <td>59322724d5029e5667d19ae164cdc16d</td>\n",
       "      <td>efeab37d377b0f32b7f70b159f824652</td>\n",
       "      <td>BB EXTRA GB</td>\n",
       "      <td>2018-01</td>\n",
       "      <td>750.0</td>\n",
       "    </tr>\n",
       "    <tr>\n",
       "      <th>...</th>\n",
       "      <td>...</td>\n",
       "      <td>...</td>\n",
       "      <td>...</td>\n",
       "      <td>...</td>\n",
       "      <td>...</td>\n",
       "      <td>...</td>\n",
       "    </tr>\n",
       "    <tr>\n",
       "      <th>494571</th>\n",
       "      <td>01ebb1052241c487d78da36378f86c09</td>\n",
       "      <td>6f5a50d14f88a8bbed200d30e65ddf20</td>\n",
       "      <td>56bcfc6b190063f24de1a57267a8054c</td>\n",
       "      <td>BB EXTRA GB</td>\n",
       "      <td>2020-03</td>\n",
       "      <td>3400.0</td>\n",
       "    </tr>\n",
       "    <tr>\n",
       "      <th>494572</th>\n",
       "      <td>3479ef31df57e82009f674048056168f</td>\n",
       "      <td>6f5a50d14f88a8bbed200d30e65ddf20</td>\n",
       "      <td>56bcfc6b190063f24de1a57267a8054c</td>\n",
       "      <td>BB EXTRA GB</td>\n",
       "      <td>2020-03</td>\n",
       "      <td>3400.0</td>\n",
       "    </tr>\n",
       "    <tr>\n",
       "      <th>494573</th>\n",
       "      <td>dae260cdb5f4b4ac637c62e7f378bf05</td>\n",
       "      <td>6f5a50d14f88a8bbed200d30e65ddf20</td>\n",
       "      <td>56bcfc6b190063f24de1a57267a8054c</td>\n",
       "      <td>BB EXTRA GB</td>\n",
       "      <td>2020-03</td>\n",
       "      <td>3400.0</td>\n",
       "    </tr>\n",
       "    <tr>\n",
       "      <th>494574</th>\n",
       "      <td>02ab436dc7b5a63579a44641db682ab1</td>\n",
       "      <td>2ea6c5e59c02744c036fe8ff6cccfb7c</td>\n",
       "      <td>0e6536070be7f081c6c08162792b0161</td>\n",
       "      <td>BB EXTRA GB</td>\n",
       "      <td>2019-05</td>\n",
       "      <td>1050.0</td>\n",
       "    </tr>\n",
       "    <tr>\n",
       "      <th>494575</th>\n",
       "      <td>073ccbc9d9cdf62a8cb01301bac5deeb</td>\n",
       "      <td>2ea6c5e59c02744c036fe8ff6cccfb7c</td>\n",
       "      <td>0e6536070be7f081c6c08162792b0161</td>\n",
       "      <td>BB EXTRA GB</td>\n",
       "      <td>2019-05</td>\n",
       "      <td>1050.0</td>\n",
       "    </tr>\n",
       "  </tbody>\n",
       "</table>\n",
       "<p>494576 rows × 6 columns</p>\n",
       "</div>"
      ],
      "text/plain": [
       "                       event_source.hash                  ACCOUNT_NUM.hash  \\\n",
       "0       154adca91f53bf8af4618544147bdab9  668291ed17c638aaed94f99f7fdf33a5   \n",
       "1       0d3e013c9b350387311e17773bfc6e17  59322724d5029e5667d19ae164cdc16d   \n",
       "2       56ad7e0c53f6cb5a35f056f58317d627  59322724d5029e5667d19ae164cdc16d   \n",
       "3       0d13e2f0bd4ce0b3d28c1cea1319a109  59322724d5029e5667d19ae164cdc16d   \n",
       "4       c04d14b1ae606541c9c6ae0e6b368086  59322724d5029e5667d19ae164cdc16d   \n",
       "...                                  ...                               ...   \n",
       "494571  01ebb1052241c487d78da36378f86c09  6f5a50d14f88a8bbed200d30e65ddf20   \n",
       "494572  3479ef31df57e82009f674048056168f  6f5a50d14f88a8bbed200d30e65ddf20   \n",
       "494573  dae260cdb5f4b4ac637c62e7f378bf05  6f5a50d14f88a8bbed200d30e65ddf20   \n",
       "494574  02ab436dc7b5a63579a44641db682ab1  2ea6c5e59c02744c036fe8ff6cccfb7c   \n",
       "494575  073ccbc9d9cdf62a8cb01301bac5deeb  2ea6c5e59c02744c036fe8ff6cccfb7c   \n",
       "\n",
       "                       CUSTOMER_REF.hash          VAS Month_Subscribed  Rental  \n",
       "0       6100520dec9c009ee526b1c518626349  BB EXTRA GB          2017-04   250.0  \n",
       "1       efeab37d377b0f32b7f70b159f824652  BB EXTRA GB          2018-01   750.0  \n",
       "2       efeab37d377b0f32b7f70b159f824652  BB EXTRA GB          2018-01   750.0  \n",
       "3       efeab37d377b0f32b7f70b159f824652  BB EXTRA GB          2018-01   750.0  \n",
       "4       efeab37d377b0f32b7f70b159f824652  BB EXTRA GB          2018-01   750.0  \n",
       "...                                  ...          ...              ...     ...  \n",
       "494571  56bcfc6b190063f24de1a57267a8054c  BB EXTRA GB          2020-03  3400.0  \n",
       "494572  56bcfc6b190063f24de1a57267a8054c  BB EXTRA GB          2020-03  3400.0  \n",
       "494573  56bcfc6b190063f24de1a57267a8054c  BB EXTRA GB          2020-03  3400.0  \n",
       "494574  0e6536070be7f081c6c08162792b0161  BB EXTRA GB          2019-05  1050.0  \n",
       "494575  0e6536070be7f081c6c08162792b0161  BB EXTRA GB          2019-05  1050.0  \n",
       "\n",
       "[494576 rows x 6 columns]"
      ]
     },
     "execution_count": 62,
     "metadata": {},
     "output_type": "execute_result"
    }
   ],
   "source": [
    "extra_GB_df= vas_purchase_df[(vas_purchase_df[\"VAS\"]==\"BB EXTRA GB\")]\n",
    "extra_GB_df.reset_index(inplace=True)\n",
    "extra_GB_df.drop([\"index\"],axis=1,inplace=True)\n",
    "extra_GB_df"
   ]
  },
  {
   "cell_type": "code",
   "execution_count": 63,
   "metadata": {},
   "outputs": [],
   "source": [
    "extra_GB_dss_df= extra_GB_dss_df[[\"event_source.hash\",\"ACCOUNT_NUM.hash\",\"CUSTOMER_REF.hash\",\"VAS\",\"Month_Subscribed\",\"Rental\"]]"
   ]
  },
  {
   "cell_type": "code",
   "execution_count": 64,
   "metadata": {},
   "outputs": [],
   "source": [
    "# Date correction\n",
    "def date_correct_dss(date):\n",
    "    if len(date)>7:\n",
    "        return date[:7]\n",
    "    else:\n",
    "        return date"
   ]
  },
  {
   "cell_type": "code",
   "execution_count": 65,
   "metadata": {},
   "outputs": [],
   "source": [
    "extra_GB_dss_df[\"Month_Subscribed\"]=extra_GB_dss_df[\"Month_Subscribed\"].apply(lambda x: date_correct_dss(str(x)))"
   ]
  },
  {
   "cell_type": "code",
   "execution_count": 66,
   "metadata": {},
   "outputs": [
    {
     "data": {
      "text/html": [
       "<div>\n",
       "<style scoped>\n",
       "    .dataframe tbody tr th:only-of-type {\n",
       "        vertical-align: middle;\n",
       "    }\n",
       "\n",
       "    .dataframe tbody tr th {\n",
       "        vertical-align: top;\n",
       "    }\n",
       "\n",
       "    .dataframe thead th {\n",
       "        text-align: right;\n",
       "    }\n",
       "</style>\n",
       "<table border=\"1\" class=\"dataframe\">\n",
       "  <thead>\n",
       "    <tr style=\"text-align: right;\">\n",
       "      <th></th>\n",
       "      <th>event_source.hash</th>\n",
       "      <th>ACCOUNT_NUM.hash</th>\n",
       "      <th>CUSTOMER_REF.hash</th>\n",
       "      <th>VAS</th>\n",
       "      <th>Month_Subscribed</th>\n",
       "      <th>Rental</th>\n",
       "    </tr>\n",
       "  </thead>\n",
       "  <tbody>\n",
       "    <tr>\n",
       "      <th>50834</th>\n",
       "      <td>00225f30e3f5a4ac69240126f024755f</td>\n",
       "      <td>bd0cc5e96b24df6625fc68cbaf71b555</td>\n",
       "      <td>df4bc5da4eaaaab1d937c3fd2a699c3f</td>\n",
       "      <td>BB_Extra GB</td>\n",
       "      <td>2019-10</td>\n",
       "      <td>NaN</td>\n",
       "    </tr>\n",
       "    <tr>\n",
       "      <th>48573</th>\n",
       "      <td>003796c503ba503e92b152acca7aa9e1</td>\n",
       "      <td>cc88c49f580c13600e99dfd9920d05e9</td>\n",
       "      <td>ac995f79a7164b89de084396352b343b</td>\n",
       "      <td>BB_Extra GB</td>\n",
       "      <td>2018-07</td>\n",
       "      <td>NaN</td>\n",
       "    </tr>\n",
       "    <tr>\n",
       "      <th>56836</th>\n",
       "      <td>004946c192a7aafe74e3ef68dc8b9d15</td>\n",
       "      <td>47cd867e6b0b270d4c6b928319313ccb</td>\n",
       "      <td>7f36cd95f45398e9d1708179771270d6</td>\n",
       "      <td>BB_Extra GB</td>\n",
       "      <td>2019-07</td>\n",
       "      <td>NaN</td>\n",
       "    </tr>\n",
       "    <tr>\n",
       "      <th>41218</th>\n",
       "      <td>0053b5b4e3a748da7aeaa43e127ee40c</td>\n",
       "      <td>9886d2e4e61e33d0a4388667c7bfc68c</td>\n",
       "      <td>25765bc4c44f0184136f85a94d129d56</td>\n",
       "      <td>BB_Extra GB</td>\n",
       "      <td>2017-11</td>\n",
       "      <td>NaN</td>\n",
       "    </tr>\n",
       "    <tr>\n",
       "      <th>47334</th>\n",
       "      <td>007662007b72abdb92b814e307cd6ba2</td>\n",
       "      <td>83041b23b6ad1c70326076d1210fa761</td>\n",
       "      <td>ac995f79a7164b89de084396352b343b</td>\n",
       "      <td>BB_Extra GB</td>\n",
       "      <td>2019-10</td>\n",
       "      <td>NaN</td>\n",
       "    </tr>\n",
       "    <tr>\n",
       "      <th>...</th>\n",
       "      <td>...</td>\n",
       "      <td>...</td>\n",
       "      <td>...</td>\n",
       "      <td>...</td>\n",
       "      <td>...</td>\n",
       "      <td>...</td>\n",
       "    </tr>\n",
       "    <tr>\n",
       "      <th>45060</th>\n",
       "      <td>ff9af3469305b3bbd039b8dcf481a729</td>\n",
       "      <td>5086899186b6fd65e370c42ac49dca61</td>\n",
       "      <td>b57dca23418175ddb886fcc67d4cbf76</td>\n",
       "      <td>BB_Extra GB</td>\n",
       "      <td>2018-08</td>\n",
       "      <td>NaN</td>\n",
       "    </tr>\n",
       "    <tr>\n",
       "      <th>39488</th>\n",
       "      <td>ffa799c5bee3d1560685c808a0de72b9</td>\n",
       "      <td>bb57e0928c585a797e231c828d41fd28</td>\n",
       "      <td>7864a8f51e5136ce029c86d11c644959</td>\n",
       "      <td>BB_Extra GB</td>\n",
       "      <td>2019-06</td>\n",
       "      <td>NaN</td>\n",
       "    </tr>\n",
       "    <tr>\n",
       "      <th>58285</th>\n",
       "      <td>ffd8ecc898573984b2992f7931899d2b</td>\n",
       "      <td>a88cf429a820eb62f5859ad4369dd728</td>\n",
       "      <td>9ff074682225431ff063ec64e53fe6e2</td>\n",
       "      <td>BB_Extra GB</td>\n",
       "      <td>2019-12</td>\n",
       "      <td>NaN</td>\n",
       "    </tr>\n",
       "    <tr>\n",
       "      <th>44302</th>\n",
       "      <td>ffea7843d6d18363551948c6553ca77a</td>\n",
       "      <td>16ba7704ef69803d3d41ebde44ad1c06</td>\n",
       "      <td>f7f58f60160d44ff1205c52c8676999f</td>\n",
       "      <td>BB_Extra GB</td>\n",
       "      <td>2018-08</td>\n",
       "      <td>NaN</td>\n",
       "    </tr>\n",
       "    <tr>\n",
       "      <th>39372</th>\n",
       "      <td>fffb5e3c6693a35fbab056cb7bb374e8</td>\n",
       "      <td>af66a61a98c385584e3fccfd8dcc5412</td>\n",
       "      <td>1eca97f3ce8ee40e866677fdccc1d60e</td>\n",
       "      <td>BB_Extra GB</td>\n",
       "      <td>2019-04</td>\n",
       "      <td>NaN</td>\n",
       "    </tr>\n",
       "  </tbody>\n",
       "</table>\n",
       "<p>5372 rows × 6 columns</p>\n",
       "</div>"
      ],
      "text/plain": [
       "                      event_source.hash                  ACCOUNT_NUM.hash  \\\n",
       "50834  00225f30e3f5a4ac69240126f024755f  bd0cc5e96b24df6625fc68cbaf71b555   \n",
       "48573  003796c503ba503e92b152acca7aa9e1  cc88c49f580c13600e99dfd9920d05e9   \n",
       "56836  004946c192a7aafe74e3ef68dc8b9d15  47cd867e6b0b270d4c6b928319313ccb   \n",
       "41218  0053b5b4e3a748da7aeaa43e127ee40c  9886d2e4e61e33d0a4388667c7bfc68c   \n",
       "47334  007662007b72abdb92b814e307cd6ba2  83041b23b6ad1c70326076d1210fa761   \n",
       "...                                 ...                               ...   \n",
       "45060  ff9af3469305b3bbd039b8dcf481a729  5086899186b6fd65e370c42ac49dca61   \n",
       "39488  ffa799c5bee3d1560685c808a0de72b9  bb57e0928c585a797e231c828d41fd28   \n",
       "58285  ffd8ecc898573984b2992f7931899d2b  a88cf429a820eb62f5859ad4369dd728   \n",
       "44302  ffea7843d6d18363551948c6553ca77a  16ba7704ef69803d3d41ebde44ad1c06   \n",
       "39372  fffb5e3c6693a35fbab056cb7bb374e8  af66a61a98c385584e3fccfd8dcc5412   \n",
       "\n",
       "                      CUSTOMER_REF.hash          VAS Month_Subscribed  Rental  \n",
       "50834  df4bc5da4eaaaab1d937c3fd2a699c3f  BB_Extra GB          2019-10     NaN  \n",
       "48573  ac995f79a7164b89de084396352b343b  BB_Extra GB          2018-07     NaN  \n",
       "56836  7f36cd95f45398e9d1708179771270d6  BB_Extra GB          2019-07     NaN  \n",
       "41218  25765bc4c44f0184136f85a94d129d56  BB_Extra GB          2017-11     NaN  \n",
       "47334  ac995f79a7164b89de084396352b343b  BB_Extra GB          2019-10     NaN  \n",
       "...                                 ...          ...              ...     ...  \n",
       "45060  b57dca23418175ddb886fcc67d4cbf76  BB_Extra GB          2018-08     NaN  \n",
       "39488  7864a8f51e5136ce029c86d11c644959  BB_Extra GB          2019-06     NaN  \n",
       "58285  9ff074682225431ff063ec64e53fe6e2  BB_Extra GB          2019-12     NaN  \n",
       "44302  f7f58f60160d44ff1205c52c8676999f  BB_Extra GB          2018-08     NaN  \n",
       "39372  1eca97f3ce8ee40e866677fdccc1d60e  BB_Extra GB          2019-04     NaN  \n",
       "\n",
       "[5372 rows x 6 columns]"
      ]
     },
     "execution_count": 66,
     "metadata": {},
     "output_type": "execute_result"
    }
   ],
   "source": [
    "extra_GB_dss_df"
   ]
  },
  {
   "cell_type": "code",
   "execution_count": 67,
   "metadata": {},
   "outputs": [],
   "source": [
    "extra_GB_df = pd.concat([extra_GB_dss_df, extra_GB_df], ignore_index=True)"
   ]
  },
  {
   "cell_type": "code",
   "execution_count": 68,
   "metadata": {},
   "outputs": [
    {
     "data": {
      "text/plain": [
       "array(['2019-10', '2018-07', '2019-07', '2017-11', '2019-04', '2018-12',\n",
       "       '2018-09', '2018-08', '2020-01', '2017-01', '2019-05', '2019-11',\n",
       "       '2017-08', '2019-03', '2020-06', '2020-02', '2019-12', '2020-03',\n",
       "       '2017-07', '2018-01', '2017-12', '2020-07', '2019-01', '2019-02',\n",
       "       '2019-06', '2017-06', '2018-04', '2016-10', '2020-08', '2020-04',\n",
       "       '2019-09', '2018-10', '2015-10', '2016-11', '2016-06', '2018-06',\n",
       "       '2019-08', '2016-04', '2018-11', '2020-05', '2020-09', '2018-02',\n",
       "       '2017-02', '2018-05', '2017-04', '2017-03', '2015-09', '2017-10',\n",
       "       '2018-03', '2014-03', '2014-01', '2016-07', '2016-09', '2016-03',\n",
       "       '2016-05', '2014-02', '2016-08', '2017-05', '2015-08', '2015-05',\n",
       "       '2017-09', '2016-01', '2021-03', '2016-12', '2013-05', '2013-06',\n",
       "       '2013-01', '2013-03', '2013-07', '2013-02', '2015-12', '2013-04',\n",
       "       '2016-02', '2015-11'], dtype=object)"
      ]
     },
     "execution_count": 68,
     "metadata": {},
     "output_type": "execute_result"
    }
   ],
   "source": [
    "extra_GB_df[\"Month_Subscribed\"].unique()"
   ]
  },
  {
   "cell_type": "code",
   "execution_count": 69,
   "metadata": {},
   "outputs": [
    {
     "data": {
      "text/plain": [
       "21635"
      ]
     },
     "execution_count": 69,
     "metadata": {},
     "output_type": "execute_result"
    }
   ],
   "source": [
    "len(extra_GB_df[\"event_source.hash\"].unique())"
   ]
  },
  {
   "cell_type": "markdown",
   "metadata": {},
   "source": [
    "### Extra GB Usage Trend Analysis"
   ]
  },
  {
   "cell_type": "code",
   "execution_count": 70,
   "metadata": {},
   "outputs": [
    {
     "name": "stderr",
     "output_type": "stream",
     "text": [
      "<ipython-input-70-9b046a3e49d8>:2: SettingWithCopyWarning: \n",
      "A value is trying to be set on a copy of a slice from a DataFrame.\n",
      "Try using .loc[row_indexer,col_indexer] = value instead\n",
      "\n",
      "See the caveats in the documentation: https://pandas.pydata.org/pandas-docs/stable/user_guide/indexing.html#returning-a-view-versus-a-copy\n",
      "  bb_usage_for_plot[\"Month_Subscribed\"] = bb_usage_for_plot[\"Month_Subscribed\"].astype(\"category\")\n"
     ]
    }
   ],
   "source": [
    "bb_usage_for_plot = extra_GB_df[[\"event_source.hash\",\"Month_Subscribed\",\"Rental\"]]\n",
    "bb_usage_for_plot[\"Month_Subscribed\"] = bb_usage_for_plot[\"Month_Subscribed\"].astype(\"category\")"
   ]
  },
  {
   "cell_type": "code",
   "execution_count": 71,
   "metadata": {},
   "outputs": [],
   "source": [
    "bb_summed_df = bb_usage_for_plot.groupby(\"Month_Subscribed\").sum()"
   ]
  },
  {
   "cell_type": "code",
   "execution_count": 72,
   "metadata": {},
   "outputs": [],
   "source": [
    "df_2016 = bb_summed_df.iloc[16:28,:]"
   ]
  },
  {
   "cell_type": "code",
   "execution_count": 73,
   "metadata": {},
   "outputs": [],
   "source": [
    "df_2017 = bb_summed_df.iloc[28:40,:]"
   ]
  },
  {
   "cell_type": "code",
   "execution_count": 74,
   "metadata": {},
   "outputs": [],
   "source": [
    "df_2018 = bb_summed_df.iloc[40:52,:]"
   ]
  },
  {
   "cell_type": "code",
   "execution_count": 75,
   "metadata": {},
   "outputs": [],
   "source": [
    "df_2019 = bb_summed_df.iloc[52:64,:]"
   ]
  },
  {
   "cell_type": "code",
   "execution_count": 76,
   "metadata": {},
   "outputs": [],
   "source": [
    "df_2020 = bb_summed_df.iloc[64:73,:]"
   ]
  },
  {
   "cell_type": "code",
   "execution_count": 77,
   "metadata": {},
   "outputs": [
    {
     "data": {
      "text/plain": [
       "Text(0.5, 0.98, 'Extra Gb Usage(Rs.) with Time')"
      ]
     },
     "execution_count": 77,
     "metadata": {},
     "output_type": "execute_result"
    },
    {
     "data": {
      "image/png": "[encoded data removed]",
      "text/plain": [
       "<Figure size 2160x576 with 1 Axes>"
      ]
     },
     "metadata": {},
     "output_type": "display_data"
    }
   ],
   "source": [
    "plt.figure(figsize=(30,8))\n",
    "bb_summed_df[\"Rental\"].plot()\n",
    "plt.suptitle(\"Extra Gb Usage(Rs.) with Time\")"
   ]
  },
  {
   "cell_type": "code",
   "execution_count": 78,
   "metadata": {},
   "outputs": [
    {
     "data": {
      "text/plain": [
       "Text(0.5, 1.0, 'Extra Gb Usage(Rs.) with Time')"
      ]
     },
     "execution_count": 78,
     "metadata": {},
     "output_type": "execute_result"
    },
    {
     "data": {
      "image/png": "[encoded data removed]",
      "text/plain": [
       "<Figure size 1440x576 with 1 Axes>"
      ]
     },
     "metadata": {},
     "output_type": "display_data"
    },
    {
     "data": {
      "text/plain": [
       "<Figure size 432x288 with 0 Axes>"
      ]
     },
     "metadata": {},
     "output_type": "display_data"
    }
   ],
   "source": [
    "fig, ax = plt.subplots()\n",
    "plt.figure()\n",
    "df_2016[\"Rental\"].plot(ax=ax,figsize=(20,8))\n",
    "df_2017[\"Rental\"].plot(ax=ax,figsize=(20,8))\n",
    "df_2018[\"Rental\"].plot(ax=ax,figsize=(20,8))\n",
    "df_2019[\"Rental\"].plot(ax=ax,figsize=(20,8))\n",
    "df_2020[\"Rental\"].plot(ax=ax,figsize=(20,8))\n",
    "ax.legend([\"2016\",\"2017\",\"2018\",\"2019\",\"2020\"], loc='upper center')\n",
    "month_ticks=[\"Jan\",\"Feb\",\"Mar\",\"Apr\",\"May\",\"Jun\",\"Jul\",\"Aug\",\"Sep\",\"Oct\",\"Nov\",\"Dec\"]\n",
    "ax.set_xticks(np.arange(len(month_ticks)))\n",
    "ax.set_xticklabels(month_ticks)\n",
    "ax.set_title(\"Extra Gb Usage(Rs.) with Time\")"
   ]
  },
  {
   "cell_type": "code",
   "execution_count": null,
   "metadata": {},
   "outputs": [],
   "source": []
  },
  {
   "cell_type": "code",
   "execution_count": 79,
   "metadata": {},
   "outputs": [],
   "source": [
    "extra_GB_df.to_csv(\"data/user_profile/BB_extra_GB_usage.csv\")"
   ]
  },
  {
   "cell_type": "markdown",
   "metadata": {},
   "source": [
    "#### Extra GB Usage pivot matrix"
   ]
  },
  {
   "cell_type": "code",
   "execution_count": 80,
   "metadata": {},
   "outputs": [],
   "source": [
    "extra_GB_pivot_df = pd.pivot_table(extra_GB_df[[\"event_source.hash\",\"Month_Subscribed\",\"Rental\"]],index=['event_source.hash'],columns=['Month_Subscribed'], aggfunc=np.sum, fill_value=0)"
   ]
  },
  {
   "cell_type": "code",
   "execution_count": 81,
   "metadata": {},
   "outputs": [
    {
     "data": {
      "text/html": [
       "<div>\n",
       "<style scoped>\n",
       "    .dataframe tbody tr th:only-of-type {\n",
       "        vertical-align: middle;\n",
       "    }\n",
       "\n",
       "    .dataframe tbody tr th {\n",
       "        vertical-align: top;\n",
       "    }\n",
       "\n",
       "    .dataframe thead tr th {\n",
       "        text-align: left;\n",
       "    }\n",
       "\n",
       "    .dataframe thead tr:last-of-type th {\n",
       "        text-align: right;\n",
       "    }\n",
       "</style>\n",
       "<table border=\"1\" class=\"dataframe\">\n",
       "  <thead>\n",
       "    <tr>\n",
       "      <th></th>\n",
       "      <th colspan=\"21\" halign=\"left\">Rental</th>\n",
       "    </tr>\n",
       "    <tr>\n",
       "      <th>Month_Subscribed</th>\n",
       "      <th>2013-01</th>\n",
       "      <th>2013-02</th>\n",
       "      <th>2013-03</th>\n",
       "      <th>2013-04</th>\n",
       "      <th>2013-05</th>\n",
       "      <th>2013-06</th>\n",
       "      <th>2013-07</th>\n",
       "      <th>2014-01</th>\n",
       "      <th>2014-02</th>\n",
       "      <th>2014-03</th>\n",
       "      <th>...</th>\n",
       "      <th>2020-01</th>\n",
       "      <th>2020-02</th>\n",
       "      <th>2020-03</th>\n",
       "      <th>2020-04</th>\n",
       "      <th>2020-05</th>\n",
       "      <th>2020-06</th>\n",
       "      <th>2020-07</th>\n",
       "      <th>2020-08</th>\n",
       "      <th>2020-09</th>\n",
       "      <th>2021-03</th>\n",
       "    </tr>\n",
       "    <tr>\n",
       "      <th>event_source.hash</th>\n",
       "      <th></th>\n",
       "      <th></th>\n",
       "      <th></th>\n",
       "      <th></th>\n",
       "      <th></th>\n",
       "      <th></th>\n",
       "      <th></th>\n",
       "      <th></th>\n",
       "      <th></th>\n",
       "      <th></th>\n",
       "      <th></th>\n",
       "      <th></th>\n",
       "      <th></th>\n",
       "      <th></th>\n",
       "      <th></th>\n",
       "      <th></th>\n",
       "      <th></th>\n",
       "      <th></th>\n",
       "      <th></th>\n",
       "      <th></th>\n",
       "      <th></th>\n",
       "    </tr>\n",
       "  </thead>\n",
       "  <tbody>\n",
       "    <tr>\n",
       "      <th>000f86cd741d4e51303065b5f868e5ab</th>\n",
       "      <td>6250</td>\n",
       "      <td>0</td>\n",
       "      <td>0</td>\n",
       "      <td>0</td>\n",
       "      <td>500</td>\n",
       "      <td>0</td>\n",
       "      <td>250</td>\n",
       "      <td>0</td>\n",
       "      <td>0</td>\n",
       "      <td>0</td>\n",
       "      <td>...</td>\n",
       "      <td>0</td>\n",
       "      <td>0</td>\n",
       "      <td>9350</td>\n",
       "      <td>11635</td>\n",
       "      <td>9725</td>\n",
       "      <td>23025</td>\n",
       "      <td>15020</td>\n",
       "      <td>0</td>\n",
       "      <td>0</td>\n",
       "      <td>0</td>\n",
       "    </tr>\n",
       "    <tr>\n",
       "      <th>00114ae408aa3b489b3f5d9baf7eb7ac</th>\n",
       "      <td>0</td>\n",
       "      <td>0</td>\n",
       "      <td>0</td>\n",
       "      <td>0</td>\n",
       "      <td>0</td>\n",
       "      <td>0</td>\n",
       "      <td>0</td>\n",
       "      <td>0</td>\n",
       "      <td>0</td>\n",
       "      <td>0</td>\n",
       "      <td>...</td>\n",
       "      <td>0</td>\n",
       "      <td>0</td>\n",
       "      <td>0</td>\n",
       "      <td>0</td>\n",
       "      <td>0</td>\n",
       "      <td>425</td>\n",
       "      <td>850</td>\n",
       "      <td>0</td>\n",
       "      <td>0</td>\n",
       "      <td>0</td>\n",
       "    </tr>\n",
       "    <tr>\n",
       "      <th>00169293c66899b05ad10054c5f9a9c4</th>\n",
       "      <td>0</td>\n",
       "      <td>2500</td>\n",
       "      <td>0</td>\n",
       "      <td>0</td>\n",
       "      <td>0</td>\n",
       "      <td>0</td>\n",
       "      <td>0</td>\n",
       "      <td>0</td>\n",
       "      <td>0</td>\n",
       "      <td>0</td>\n",
       "      <td>...</td>\n",
       "      <td>0</td>\n",
       "      <td>0</td>\n",
       "      <td>0</td>\n",
       "      <td>0</td>\n",
       "      <td>0</td>\n",
       "      <td>0</td>\n",
       "      <td>0</td>\n",
       "      <td>0</td>\n",
       "      <td>0</td>\n",
       "      <td>0</td>\n",
       "    </tr>\n",
       "    <tr>\n",
       "      <th>0017f09b5ff65c692de63b95d1edee27</th>\n",
       "      <td>0</td>\n",
       "      <td>0</td>\n",
       "      <td>0</td>\n",
       "      <td>0</td>\n",
       "      <td>0</td>\n",
       "      <td>0</td>\n",
       "      <td>0</td>\n",
       "      <td>0</td>\n",
       "      <td>0</td>\n",
       "      <td>0</td>\n",
       "      <td>...</td>\n",
       "      <td>300</td>\n",
       "      <td>0</td>\n",
       "      <td>2125</td>\n",
       "      <td>5400</td>\n",
       "      <td>1925</td>\n",
       "      <td>200</td>\n",
       "      <td>2275</td>\n",
       "      <td>0</td>\n",
       "      <td>0</td>\n",
       "      <td>0</td>\n",
       "    </tr>\n",
       "    <tr>\n",
       "      <th>001921d304962982656b69ee2e5532ea</th>\n",
       "      <td>0</td>\n",
       "      <td>0</td>\n",
       "      <td>0</td>\n",
       "      <td>0</td>\n",
       "      <td>0</td>\n",
       "      <td>0</td>\n",
       "      <td>0</td>\n",
       "      <td>0</td>\n",
       "      <td>0</td>\n",
       "      <td>0</td>\n",
       "      <td>...</td>\n",
       "      <td>0</td>\n",
       "      <td>18000</td>\n",
       "      <td>0</td>\n",
       "      <td>0</td>\n",
       "      <td>18000</td>\n",
       "      <td>45000</td>\n",
       "      <td>0</td>\n",
       "      <td>0</td>\n",
       "      <td>0</td>\n",
       "      <td>0</td>\n",
       "    </tr>\n",
       "    <tr>\n",
       "      <th>...</th>\n",
       "      <td>...</td>\n",
       "      <td>...</td>\n",
       "      <td>...</td>\n",
       "      <td>...</td>\n",
       "      <td>...</td>\n",
       "      <td>...</td>\n",
       "      <td>...</td>\n",
       "      <td>...</td>\n",
       "      <td>...</td>\n",
       "      <td>...</td>\n",
       "      <td>...</td>\n",
       "      <td>...</td>\n",
       "      <td>...</td>\n",
       "      <td>...</td>\n",
       "      <td>...</td>\n",
       "      <td>...</td>\n",
       "      <td>...</td>\n",
       "      <td>...</td>\n",
       "      <td>...</td>\n",
       "      <td>...</td>\n",
       "      <td>...</td>\n",
       "    </tr>\n",
       "    <tr>\n",
       "      <th>fffbdf8e718726a5dac393d2014a83cc</th>\n",
       "      <td>0</td>\n",
       "      <td>0</td>\n",
       "      <td>0</td>\n",
       "      <td>0</td>\n",
       "      <td>3750</td>\n",
       "      <td>0</td>\n",
       "      <td>0</td>\n",
       "      <td>0</td>\n",
       "      <td>0</td>\n",
       "      <td>0</td>\n",
       "      <td>...</td>\n",
       "      <td>1900</td>\n",
       "      <td>825</td>\n",
       "      <td>23100</td>\n",
       "      <td>22400</td>\n",
       "      <td>12525</td>\n",
       "      <td>14450</td>\n",
       "      <td>17100</td>\n",
       "      <td>0</td>\n",
       "      <td>0</td>\n",
       "      <td>0</td>\n",
       "    </tr>\n",
       "    <tr>\n",
       "      <th>fffc787f7b89f0a9401de0dbe3ab2206</th>\n",
       "      <td>6250</td>\n",
       "      <td>0</td>\n",
       "      <td>0</td>\n",
       "      <td>0</td>\n",
       "      <td>500</td>\n",
       "      <td>0</td>\n",
       "      <td>250</td>\n",
       "      <td>0</td>\n",
       "      <td>0</td>\n",
       "      <td>0</td>\n",
       "      <td>...</td>\n",
       "      <td>0</td>\n",
       "      <td>0</td>\n",
       "      <td>9350</td>\n",
       "      <td>11635</td>\n",
       "      <td>9725</td>\n",
       "      <td>23025</td>\n",
       "      <td>15020</td>\n",
       "      <td>0</td>\n",
       "      <td>0</td>\n",
       "      <td>0</td>\n",
       "    </tr>\n",
       "    <tr>\n",
       "      <th>ffff0039c1e0c380c4b890e6997d33c5</th>\n",
       "      <td>0</td>\n",
       "      <td>0</td>\n",
       "      <td>0</td>\n",
       "      <td>0</td>\n",
       "      <td>0</td>\n",
       "      <td>0</td>\n",
       "      <td>0</td>\n",
       "      <td>0</td>\n",
       "      <td>0</td>\n",
       "      <td>0</td>\n",
       "      <td>...</td>\n",
       "      <td>300</td>\n",
       "      <td>0</td>\n",
       "      <td>2125</td>\n",
       "      <td>5400</td>\n",
       "      <td>1925</td>\n",
       "      <td>200</td>\n",
       "      <td>2275</td>\n",
       "      <td>0</td>\n",
       "      <td>0</td>\n",
       "      <td>0</td>\n",
       "    </tr>\n",
       "    <tr>\n",
       "      <th>ffff41a457d4ad9618d788bdd917e4ce</th>\n",
       "      <td>0</td>\n",
       "      <td>0</td>\n",
       "      <td>0</td>\n",
       "      <td>0</td>\n",
       "      <td>0</td>\n",
       "      <td>0</td>\n",
       "      <td>0</td>\n",
       "      <td>0</td>\n",
       "      <td>0</td>\n",
       "      <td>0</td>\n",
       "      <td>...</td>\n",
       "      <td>0</td>\n",
       "      <td>0</td>\n",
       "      <td>0</td>\n",
       "      <td>200</td>\n",
       "      <td>425</td>\n",
       "      <td>425</td>\n",
       "      <td>200</td>\n",
       "      <td>0</td>\n",
       "      <td>0</td>\n",
       "      <td>0</td>\n",
       "    </tr>\n",
       "    <tr>\n",
       "      <th>ffff43d0cc07aff0964f0ae29aa10363</th>\n",
       "      <td>6250</td>\n",
       "      <td>0</td>\n",
       "      <td>0</td>\n",
       "      <td>0</td>\n",
       "      <td>500</td>\n",
       "      <td>0</td>\n",
       "      <td>250</td>\n",
       "      <td>0</td>\n",
       "      <td>0</td>\n",
       "      <td>0</td>\n",
       "      <td>...</td>\n",
       "      <td>0</td>\n",
       "      <td>0</td>\n",
       "      <td>9350</td>\n",
       "      <td>11635</td>\n",
       "      <td>9725</td>\n",
       "      <td>23025</td>\n",
       "      <td>15020</td>\n",
       "      <td>0</td>\n",
       "      <td>0</td>\n",
       "      <td>0</td>\n",
       "    </tr>\n",
       "  </tbody>\n",
       "</table>\n",
       "<p>21634 rows × 74 columns</p>\n",
       "</div>"
      ],
      "text/plain": [
       "                                  Rental                                  \\\n",
       "Month_Subscribed                 2013-01 2013-02 2013-03 2013-04 2013-05   \n",
       "event_source.hash                                                          \n",
       "000f86cd741d4e51303065b5f868e5ab    6250       0       0       0     500   \n",
       "00114ae408aa3b489b3f5d9baf7eb7ac       0       0       0       0       0   \n",
       "00169293c66899b05ad10054c5f9a9c4       0    2500       0       0       0   \n",
       "0017f09b5ff65c692de63b95d1edee27       0       0       0       0       0   \n",
       "001921d304962982656b69ee2e5532ea       0       0       0       0       0   \n",
       "...                                  ...     ...     ...     ...     ...   \n",
       "fffbdf8e718726a5dac393d2014a83cc       0       0       0       0    3750   \n",
       "fffc787f7b89f0a9401de0dbe3ab2206    6250       0       0       0     500   \n",
       "ffff0039c1e0c380c4b890e6997d33c5       0       0       0       0       0   \n",
       "ffff41a457d4ad9618d788bdd917e4ce       0       0       0       0       0   \n",
       "ffff43d0cc07aff0964f0ae29aa10363    6250       0       0       0     500   \n",
       "\n",
       "                                                                          ...  \\\n",
       "Month_Subscribed                 2013-06 2013-07 2014-01 2014-02 2014-03  ...   \n",
       "event_source.hash                                                         ...   \n",
       "000f86cd741d4e51303065b5f868e5ab       0     250       0       0       0  ...   \n",
       "00114ae408aa3b489b3f5d9baf7eb7ac       0       0       0       0       0  ...   \n",
       "00169293c66899b05ad10054c5f9a9c4       0       0       0       0       0  ...   \n",
       "0017f09b5ff65c692de63b95d1edee27       0       0       0       0       0  ...   \n",
       "001921d304962982656b69ee2e5532ea       0       0       0       0       0  ...   \n",
       "...                                  ...     ...     ...     ...     ...  ...   \n",
       "fffbdf8e718726a5dac393d2014a83cc       0       0       0       0       0  ...   \n",
       "fffc787f7b89f0a9401de0dbe3ab2206       0     250       0       0       0  ...   \n",
       "ffff0039c1e0c380c4b890e6997d33c5       0       0       0       0       0  ...   \n",
       "ffff41a457d4ad9618d788bdd917e4ce       0       0       0       0       0  ...   \n",
       "ffff43d0cc07aff0964f0ae29aa10363       0     250       0       0       0  ...   \n",
       "\n",
       "                                                                          \\\n",
       "Month_Subscribed                 2020-01 2020-02 2020-03 2020-04 2020-05   \n",
       "event_source.hash                                                          \n",
       "000f86cd741d4e51303065b5f868e5ab       0       0    9350   11635    9725   \n",
       "00114ae408aa3b489b3f5d9baf7eb7ac       0       0       0       0       0   \n",
       "00169293c66899b05ad10054c5f9a9c4       0       0       0       0       0   \n",
       "0017f09b5ff65c692de63b95d1edee27     300       0    2125    5400    1925   \n",
       "001921d304962982656b69ee2e5532ea       0   18000       0       0   18000   \n",
       "...                                  ...     ...     ...     ...     ...   \n",
       "fffbdf8e718726a5dac393d2014a83cc    1900     825   23100   22400   12525   \n",
       "fffc787f7b89f0a9401de0dbe3ab2206       0       0    9350   11635    9725   \n",
       "ffff0039c1e0c380c4b890e6997d33c5     300       0    2125    5400    1925   \n",
       "ffff41a457d4ad9618d788bdd917e4ce       0       0       0     200     425   \n",
       "ffff43d0cc07aff0964f0ae29aa10363       0       0    9350   11635    9725   \n",
       "\n",
       "                                                                          \n",
       "Month_Subscribed                 2020-06 2020-07 2020-08 2020-09 2021-03  \n",
       "event_source.hash                                                         \n",
       "000f86cd741d4e51303065b5f868e5ab   23025   15020       0       0       0  \n",
       "00114ae408aa3b489b3f5d9baf7eb7ac     425     850       0       0       0  \n",
       "00169293c66899b05ad10054c5f9a9c4       0       0       0       0       0  \n",
       "0017f09b5ff65c692de63b95d1edee27     200    2275       0       0       0  \n",
       "001921d304962982656b69ee2e5532ea   45000       0       0       0       0  \n",
       "...                                  ...     ...     ...     ...     ...  \n",
       "fffbdf8e718726a5dac393d2014a83cc   14450   17100       0       0       0  \n",
       "fffc787f7b89f0a9401de0dbe3ab2206   23025   15020       0       0       0  \n",
       "ffff0039c1e0c380c4b890e6997d33c5     200    2275       0       0       0  \n",
       "ffff41a457d4ad9618d788bdd917e4ce     425     200       0       0       0  \n",
       "ffff43d0cc07aff0964f0ae29aa10363   23025   15020       0       0       0  \n",
       "\n",
       "[21634 rows x 74 columns]"
      ]
     },
     "execution_count": 81,
     "metadata": {},
     "output_type": "execute_result"
    }
   ],
   "source": [
    "extra_GB_pivot_df"
   ]
  },
  {
   "cell_type": "code",
   "execution_count": 82,
   "metadata": {},
   "outputs": [],
   "source": [
    "extra_GB_pivot_df.to_csv(\"data/user_profile/BB_extra_GB_usage_pivot_extended.csv\")"
   ]
  },
  {
   "cell_type": "markdown",
   "metadata": {},
   "source": [
    "#### Insights\n",
    "- 21634Unique customers - extra GB purchases in moths vary from 2013-2021"
   ]
  },
  {
   "cell_type": "code",
   "execution_count": null,
   "metadata": {},
   "outputs": [],
   "source": []
  },
  {
   "cell_type": "markdown",
   "metadata": {},
   "source": [
    "### Other BB VAS"
   ]
  },
  {
   "cell_type": "code",
   "execution_count": 83,
   "metadata": {},
   "outputs": [
    {
     "name": "stderr",
     "output_type": "stream",
     "text": [
      "/home/chiran/anaconda3/lib/python3.8/site-packages/pandas/core/frame.py:4163: SettingWithCopyWarning: \n",
      "A value is trying to be set on a copy of a slice from a DataFrame\n",
      "\n",
      "See the caveats in the documentation: https://pandas.pydata.org/pandas-docs/stable/user_guide/indexing.html#returning-a-view-versus-a-copy\n",
      "  return super().drop(\n"
     ]
    },
    {
     "data": {
      "text/html": [
       "<div>\n",
       "<style scoped>\n",
       "    .dataframe tbody tr th:only-of-type {\n",
       "        vertical-align: middle;\n",
       "    }\n",
       "\n",
       "    .dataframe tbody tr th {\n",
       "        vertical-align: top;\n",
       "    }\n",
       "\n",
       "    .dataframe thead th {\n",
       "        text-align: right;\n",
       "    }\n",
       "</style>\n",
       "<table border=\"1\" class=\"dataframe\">\n",
       "  <thead>\n",
       "    <tr style=\"text-align: right;\">\n",
       "      <th></th>\n",
       "      <th>event_source.hash</th>\n",
       "      <th>ACCOUNT_NUM.hash</th>\n",
       "      <th>CUSTOMER_REF.hash</th>\n",
       "      <th>VAS</th>\n",
       "      <th>Month_Subscribed</th>\n",
       "      <th>Rental</th>\n",
       "    </tr>\n",
       "  </thead>\n",
       "  <tbody>\n",
       "    <tr>\n",
       "      <th>0</th>\n",
       "      <td>2b9f5f5791b697e157f281bcf274fdec</td>\n",
       "      <td>949e14e85d36002ffb954d42d3366936</td>\n",
       "      <td>51ee71e46ba64034adaf383345028fb8</td>\n",
       "      <td>BB_Report Subscription Charge</td>\n",
       "      <td>2021-02</td>\n",
       "      <td>40.0</td>\n",
       "    </tr>\n",
       "    <tr>\n",
       "      <th>1</th>\n",
       "      <td>fc55fa1e2e4085d49d436e3ceae2ce09</td>\n",
       "      <td>949e14e85d36002ffb954d42d3366936</td>\n",
       "      <td>51ee71e46ba64034adaf383345028fb8</td>\n",
       "      <td>BB_Report Subscription Charge</td>\n",
       "      <td>2021-02</td>\n",
       "      <td>40.0</td>\n",
       "    </tr>\n",
       "    <tr>\n",
       "      <th>2</th>\n",
       "      <td>6a90e0be938cc3901fef85d89623cb40</td>\n",
       "      <td>949e14e85d36002ffb954d42d3366936</td>\n",
       "      <td>51ee71e46ba64034adaf383345028fb8</td>\n",
       "      <td>BB_Report Subscription Charge</td>\n",
       "      <td>2021-02</td>\n",
       "      <td>40.0</td>\n",
       "    </tr>\n",
       "    <tr>\n",
       "      <th>3</th>\n",
       "      <td>320e13a5db8414580e0840a78eee13cd</td>\n",
       "      <td>949e14e85d36002ffb954d42d3366936</td>\n",
       "      <td>51ee71e46ba64034adaf383345028fb8</td>\n",
       "      <td>BB_Report Subscription Charge</td>\n",
       "      <td>2021-02</td>\n",
       "      <td>40.0</td>\n",
       "    </tr>\n",
       "    <tr>\n",
       "      <th>4</th>\n",
       "      <td>d8454f2328a6a12a98f7f09a1bb825c4</td>\n",
       "      <td>949e14e85d36002ffb954d42d3366936</td>\n",
       "      <td>51ee71e46ba64034adaf383345028fb8</td>\n",
       "      <td>BB_Report Subscription Charge</td>\n",
       "      <td>2021-02</td>\n",
       "      <td>40.0</td>\n",
       "    </tr>\n",
       "    <tr>\n",
       "      <th>...</th>\n",
       "      <td>...</td>\n",
       "      <td>...</td>\n",
       "      <td>...</td>\n",
       "      <td>...</td>\n",
       "      <td>...</td>\n",
       "      <td>...</td>\n",
       "    </tr>\n",
       "    <tr>\n",
       "      <th>426159</th>\n",
       "      <td>120c4cdf912d29dc57fb73a7cc4bbcc5</td>\n",
       "      <td>8d8472d39b270801553f2d5e7c06fe22</td>\n",
       "      <td>f8743da5d0bff84f9440fb44fce1bdc1</td>\n",
       "      <td>BB_Report Subscription Charge</td>\n",
       "      <td>2021-01</td>\n",
       "      <td>40.0</td>\n",
       "    </tr>\n",
       "    <tr>\n",
       "      <th>426160</th>\n",
       "      <td>add3d887d62e9ade022145346fa0ccee</td>\n",
       "      <td>8d8472d39b270801553f2d5e7c06fe22</td>\n",
       "      <td>f8743da5d0bff84f9440fb44fce1bdc1</td>\n",
       "      <td>BB_Report Subscription Charge</td>\n",
       "      <td>2021-01</td>\n",
       "      <td>40.0</td>\n",
       "    </tr>\n",
       "    <tr>\n",
       "      <th>426161</th>\n",
       "      <td>6a3c94f071e9811d6855ed87a18c4199</td>\n",
       "      <td>8d8472d39b270801553f2d5e7c06fe22</td>\n",
       "      <td>f8743da5d0bff84f9440fb44fce1bdc1</td>\n",
       "      <td>BB_Report Subscription Charge</td>\n",
       "      <td>2021-01</td>\n",
       "      <td>40.0</td>\n",
       "    </tr>\n",
       "    <tr>\n",
       "      <th>426162</th>\n",
       "      <td>af39b969ec1e50d6589c24d9154e24f0</td>\n",
       "      <td>8d8472d39b270801553f2d5e7c06fe22</td>\n",
       "      <td>f8743da5d0bff84f9440fb44fce1bdc1</td>\n",
       "      <td>BB_Report Subscription Charge</td>\n",
       "      <td>2021-01</td>\n",
       "      <td>40.0</td>\n",
       "    </tr>\n",
       "    <tr>\n",
       "      <th>426163</th>\n",
       "      <td>7ae240b62cca05b9ab0af678122e7e5c</td>\n",
       "      <td>8d8472d39b270801553f2d5e7c06fe22</td>\n",
       "      <td>f8743da5d0bff84f9440fb44fce1bdc1</td>\n",
       "      <td>BB_Report Subscription Charge</td>\n",
       "      <td>2021-01</td>\n",
       "      <td>40.0</td>\n",
       "    </tr>\n",
       "  </tbody>\n",
       "</table>\n",
       "<p>426164 rows × 6 columns</p>\n",
       "</div>"
      ],
      "text/plain": [
       "                       event_source.hash                  ACCOUNT_NUM.hash  \\\n",
       "0       2b9f5f5791b697e157f281bcf274fdec  949e14e85d36002ffb954d42d3366936   \n",
       "1       fc55fa1e2e4085d49d436e3ceae2ce09  949e14e85d36002ffb954d42d3366936   \n",
       "2       6a90e0be938cc3901fef85d89623cb40  949e14e85d36002ffb954d42d3366936   \n",
       "3       320e13a5db8414580e0840a78eee13cd  949e14e85d36002ffb954d42d3366936   \n",
       "4       d8454f2328a6a12a98f7f09a1bb825c4  949e14e85d36002ffb954d42d3366936   \n",
       "...                                  ...                               ...   \n",
       "426159  120c4cdf912d29dc57fb73a7cc4bbcc5  8d8472d39b270801553f2d5e7c06fe22   \n",
       "426160  add3d887d62e9ade022145346fa0ccee  8d8472d39b270801553f2d5e7c06fe22   \n",
       "426161  6a3c94f071e9811d6855ed87a18c4199  8d8472d39b270801553f2d5e7c06fe22   \n",
       "426162  af39b969ec1e50d6589c24d9154e24f0  8d8472d39b270801553f2d5e7c06fe22   \n",
       "426163  7ae240b62cca05b9ab0af678122e7e5c  8d8472d39b270801553f2d5e7c06fe22   \n",
       "\n",
       "                       CUSTOMER_REF.hash                            VAS  \\\n",
       "0       51ee71e46ba64034adaf383345028fb8  BB_Report Subscription Charge   \n",
       "1       51ee71e46ba64034adaf383345028fb8  BB_Report Subscription Charge   \n",
       "2       51ee71e46ba64034adaf383345028fb8  BB_Report Subscription Charge   \n",
       "3       51ee71e46ba64034adaf383345028fb8  BB_Report Subscription Charge   \n",
       "4       51ee71e46ba64034adaf383345028fb8  BB_Report Subscription Charge   \n",
       "...                                  ...                            ...   \n",
       "426159  f8743da5d0bff84f9440fb44fce1bdc1  BB_Report Subscription Charge   \n",
       "426160  f8743da5d0bff84f9440fb44fce1bdc1  BB_Report Subscription Charge   \n",
       "426161  f8743da5d0bff84f9440fb44fce1bdc1  BB_Report Subscription Charge   \n",
       "426162  f8743da5d0bff84f9440fb44fce1bdc1  BB_Report Subscription Charge   \n",
       "426163  f8743da5d0bff84f9440fb44fce1bdc1  BB_Report Subscription Charge   \n",
       "\n",
       "       Month_Subscribed  Rental  \n",
       "0               2021-02    40.0  \n",
       "1               2021-02    40.0  \n",
       "2               2021-02    40.0  \n",
       "3               2021-02    40.0  \n",
       "4               2021-02    40.0  \n",
       "...                 ...     ...  \n",
       "426159          2021-01    40.0  \n",
       "426160          2021-01    40.0  \n",
       "426161          2021-01    40.0  \n",
       "426162          2021-01    40.0  \n",
       "426163          2021-01    40.0  \n",
       "\n",
       "[426164 rows x 6 columns]"
      ]
     },
     "execution_count": 83,
     "metadata": {},
     "output_type": "execute_result"
    }
   ],
   "source": [
    "bb_vas_df= vas_purchase_df[(vas_purchase_df[\"VAS\"]!=\"BB EXTRA GB\")]\n",
    "bb_vas_df.reset_index(inplace=True)\n",
    "bb_vas_df.drop([\"index\"],axis=1,inplace=True)\n",
    "bb_vas_df"
   ]
  },
  {
   "cell_type": "code",
   "execution_count": null,
   "metadata": {},
   "outputs": [],
   "source": []
  },
  {
   "cell_type": "markdown",
   "metadata": {},
   "source": [
    "## VAS DWH Dataset Analysis"
   ]
  },
  {
   "cell_type": "code",
   "execution_count": 84,
   "metadata": {},
   "outputs": [],
   "source": [
    "vas_DWH_df = pd.read_excel(\"data/new/VAS_Products_Purchased Dates_SLT_DWH.xls\")  \n",
    "vas_DWH_df.rename(columns={'ACCOUNT_NO.hash':'ACCOUNT_NUM.hash','REPORTING_MONTH_CAL_MONTH_CODE':'Month_Subscribed','CODE_DESC':'VAS','REVENUE_AMOUNT':'Rental'}, inplace=True)"
   ]
  },
  {
   "cell_type": "code",
   "execution_count": 85,
   "metadata": {},
   "outputs": [],
   "source": [
    "# Date correction\n",
    "def date_correct_dwh(date):\n",
    "    date=str(date)\n",
    "    year=date[:4]\n",
    "    month=date[4:7]\n",
    "    return f\"{year}-{month}\""
   ]
  },
  {
   "cell_type": "code",
   "execution_count": 86,
   "metadata": {},
   "outputs": [],
   "source": [
    "vas_DWH_df[\"Month_Subscribed\"]=vas_DWH_df[\"Month_Subscribed\"].apply(lambda x: date_correct_dwh(x))"
   ]
  },
  {
   "cell_type": "code",
   "execution_count": 87,
   "metadata": {},
   "outputs": [
    {
     "name": "stdout",
     "output_type": "stream",
     "text": [
      "<class 'pandas.core.frame.DataFrame'>\n",
      "RangeIndex: 578 entries, 0 to 577\n",
      "Data columns (total 5 columns):\n",
      " #   Column            Non-Null Count  Dtype \n",
      "---  ------            --------------  ----- \n",
      " 0   ACCOUNT_NUM.hash  578 non-null    object\n",
      " 1   Month_Subscribed  578 non-null    object\n",
      " 2   VAS               578 non-null    object\n",
      " 3   Rental            578 non-null    int64 \n",
      " 4                     578 non-null    object\n",
      "dtypes: int64(1), object(4)\n",
      "memory usage: 22.7+ KB\n"
     ]
    }
   ],
   "source": [
    "vas_DWH_df.info()"
   ]
  },
  {
   "cell_type": "code",
   "execution_count": 88,
   "metadata": {},
   "outputs": [],
   "source": [
    "vas_DWH_df = vas_DWH_df.merge(acc_no_map,how='left',on=\"ACCOUNT_NUM.hash\")\n",
    "#vas_DWH_df.drop_duplicates([\"ACCOUNT_NUM.hash\",\"VAS\"],inplace=True)\n",
    "vas_DWH_df.reset_index(inplace=True)\n",
    "vas_DWH_df.drop([\"index\"],axis=1,inplace=True)"
   ]
  },
  {
   "cell_type": "code",
   "execution_count": 89,
   "metadata": {},
   "outputs": [
    {
     "data": {
      "text/html": [
       "<div>\n",
       "<style scoped>\n",
       "    .dataframe tbody tr th:only-of-type {\n",
       "        vertical-align: middle;\n",
       "    }\n",
       "\n",
       "    .dataframe tbody tr th {\n",
       "        vertical-align: top;\n",
       "    }\n",
       "\n",
       "    .dataframe thead th {\n",
       "        text-align: right;\n",
       "    }\n",
       "</style>\n",
       "<table border=\"1\" class=\"dataframe\">\n",
       "  <thead>\n",
       "    <tr style=\"text-align: right;\">\n",
       "      <th></th>\n",
       "      <th>event_source.hash</th>\n",
       "      <th>ACCOUNT_NUM.hash</th>\n",
       "      <th>CUSTOMER_REF.hash</th>\n",
       "      <th>VAS</th>\n",
       "      <th>Month_Subscribed</th>\n",
       "      <th>Rental</th>\n",
       "    </tr>\n",
       "  </thead>\n",
       "  <tbody>\n",
       "    <tr>\n",
       "      <th>0</th>\n",
       "      <td>17ef97208c9f55550e39b74496f7b381</td>\n",
       "      <td>204773567701102c4acf8fda9eaccfdd</td>\n",
       "      <td>d342cf1db6cf1710dc101922d0387459</td>\n",
       "      <td>PEO TV GO_OTT_A-la carte channels</td>\n",
       "      <td>2020-05</td>\n",
       "      <td>100</td>\n",
       "    </tr>\n",
       "    <tr>\n",
       "      <th>1</th>\n",
       "      <td>e6a1038461059eb02d1c245e643a1ddb</td>\n",
       "      <td>52e7c04d12cb33c77031760584a9586e</td>\n",
       "      <td>cc9cde6ff7e8a085c9bdcd5d870e3624</td>\n",
       "      <td>PEO TV GO_OTT_A-la carte channels</td>\n",
       "      <td>2020-06</td>\n",
       "      <td>100</td>\n",
       "    </tr>\n",
       "    <tr>\n",
       "      <th>2</th>\n",
       "      <td>23a39137697edbb30a094dd99a22a88f</td>\n",
       "      <td>52e7c04d12cb33c77031760584a9586e</td>\n",
       "      <td>cc9cde6ff7e8a085c9bdcd5d870e3624</td>\n",
       "      <td>PEO TV GO_OTT_A-la carte channels</td>\n",
       "      <td>2020-06</td>\n",
       "      <td>100</td>\n",
       "    </tr>\n",
       "    <tr>\n",
       "      <th>3</th>\n",
       "      <td>76543c2b3ca5288e93b6ebabe2fa7425</td>\n",
       "      <td>52e7c04d12cb33c77031760584a9586e</td>\n",
       "      <td>cc9cde6ff7e8a085c9bdcd5d870e3624</td>\n",
       "      <td>PEO TV GO_OTT_A-la carte channels</td>\n",
       "      <td>2020-06</td>\n",
       "      <td>100</td>\n",
       "    </tr>\n",
       "    <tr>\n",
       "      <th>4</th>\n",
       "      <td>5b4ec5c8d48dae327d2430c335d8c20f</td>\n",
       "      <td>52e7c04d12cb33c77031760584a9586e</td>\n",
       "      <td>cc9cde6ff7e8a085c9bdcd5d870e3624</td>\n",
       "      <td>PEO TV GO_OTT_A-la carte channels</td>\n",
       "      <td>2020-06</td>\n",
       "      <td>100</td>\n",
       "    </tr>\n",
       "    <tr>\n",
       "      <th>...</th>\n",
       "      <td>...</td>\n",
       "      <td>...</td>\n",
       "      <td>...</td>\n",
       "      <td>...</td>\n",
       "      <td>...</td>\n",
       "      <td>...</td>\n",
       "    </tr>\n",
       "    <tr>\n",
       "      <th>7314</th>\n",
       "      <td>f8644d2dac3dea7bea58cddac86e5624</td>\n",
       "      <td>9324793d25ea7ec770a033120d4d2254</td>\n",
       "      <td>e7785d8342773d2c3854e1446732cdf6</td>\n",
       "      <td>Package Rental Through ADSL</td>\n",
       "      <td>2019-01</td>\n",
       "      <td>149</td>\n",
       "    </tr>\n",
       "    <tr>\n",
       "      <th>7315</th>\n",
       "      <td>6ae9d45f81204b111268a83e532c066b</td>\n",
       "      <td>9324793d25ea7ec770a033120d4d2254</td>\n",
       "      <td>e7785d8342773d2c3854e1446732cdf6</td>\n",
       "      <td>Package Rental Through ADSL</td>\n",
       "      <td>2019-10</td>\n",
       "      <td>149</td>\n",
       "    </tr>\n",
       "    <tr>\n",
       "      <th>7316</th>\n",
       "      <td>f8644d2dac3dea7bea58cddac86e5624</td>\n",
       "      <td>9324793d25ea7ec770a033120d4d2254</td>\n",
       "      <td>e7785d8342773d2c3854e1446732cdf6</td>\n",
       "      <td>Package Rental Through ADSL</td>\n",
       "      <td>2019-10</td>\n",
       "      <td>149</td>\n",
       "    </tr>\n",
       "    <tr>\n",
       "      <th>7317</th>\n",
       "      <td>ec28d8b431cfe234cdf7d6b9e571c4c8</td>\n",
       "      <td>96d972b2edfb5cf8c733f0fe2fa775a8</td>\n",
       "      <td>d225ce5dcdbb4e885431ff1bb1da38ee</td>\n",
       "      <td>Package Rental Through ADSL</td>\n",
       "      <td>2019-10</td>\n",
       "      <td>299</td>\n",
       "    </tr>\n",
       "    <tr>\n",
       "      <th>7318</th>\n",
       "      <td>43064744b93f6c17f63919b4077e8387</td>\n",
       "      <td>96d972b2edfb5cf8c733f0fe2fa775a8</td>\n",
       "      <td>d225ce5dcdbb4e885431ff1bb1da38ee</td>\n",
       "      <td>Package Rental Through ADSL</td>\n",
       "      <td>2019-10</td>\n",
       "      <td>299</td>\n",
       "    </tr>\n",
       "  </tbody>\n",
       "</table>\n",
       "<p>7319 rows × 6 columns</p>\n",
       "</div>"
      ],
      "text/plain": [
       "                     event_source.hash                  ACCOUNT_NUM.hash  \\\n",
       "0     17ef97208c9f55550e39b74496f7b381  204773567701102c4acf8fda9eaccfdd   \n",
       "1     e6a1038461059eb02d1c245e643a1ddb  52e7c04d12cb33c77031760584a9586e   \n",
       "2     23a39137697edbb30a094dd99a22a88f  52e7c04d12cb33c77031760584a9586e   \n",
       "3     76543c2b3ca5288e93b6ebabe2fa7425  52e7c04d12cb33c77031760584a9586e   \n",
       "4     5b4ec5c8d48dae327d2430c335d8c20f  52e7c04d12cb33c77031760584a9586e   \n",
       "...                                ...                               ...   \n",
       "7314  f8644d2dac3dea7bea58cddac86e5624  9324793d25ea7ec770a033120d4d2254   \n",
       "7315  6ae9d45f81204b111268a83e532c066b  9324793d25ea7ec770a033120d4d2254   \n",
       "7316  f8644d2dac3dea7bea58cddac86e5624  9324793d25ea7ec770a033120d4d2254   \n",
       "7317  ec28d8b431cfe234cdf7d6b9e571c4c8  96d972b2edfb5cf8c733f0fe2fa775a8   \n",
       "7318  43064744b93f6c17f63919b4077e8387  96d972b2edfb5cf8c733f0fe2fa775a8   \n",
       "\n",
       "                     CUSTOMER_REF.hash                                VAS  \\\n",
       "0     d342cf1db6cf1710dc101922d0387459  PEO TV GO_OTT_A-la carte channels   \n",
       "1     cc9cde6ff7e8a085c9bdcd5d870e3624  PEO TV GO_OTT_A-la carte channels   \n",
       "2     cc9cde6ff7e8a085c9bdcd5d870e3624  PEO TV GO_OTT_A-la carte channels   \n",
       "3     cc9cde6ff7e8a085c9bdcd5d870e3624  PEO TV GO_OTT_A-la carte channels   \n",
       "4     cc9cde6ff7e8a085c9bdcd5d870e3624  PEO TV GO_OTT_A-la carte channels   \n",
       "...                                ...                                ...   \n",
       "7314  e7785d8342773d2c3854e1446732cdf6        Package Rental Through ADSL   \n",
       "7315  e7785d8342773d2c3854e1446732cdf6        Package Rental Through ADSL   \n",
       "7316  e7785d8342773d2c3854e1446732cdf6        Package Rental Through ADSL   \n",
       "7317  d225ce5dcdbb4e885431ff1bb1da38ee        Package Rental Through ADSL   \n",
       "7318  d225ce5dcdbb4e885431ff1bb1da38ee        Package Rental Through ADSL   \n",
       "\n",
       "     Month_Subscribed  Rental  \n",
       "0             2020-05     100  \n",
       "1             2020-06     100  \n",
       "2             2020-06     100  \n",
       "3             2020-06     100  \n",
       "4             2020-06     100  \n",
       "...               ...     ...  \n",
       "7314          2019-01     149  \n",
       "7315          2019-10     149  \n",
       "7316          2019-10     149  \n",
       "7317          2019-10     299  \n",
       "7318          2019-10     299  \n",
       "\n",
       "[7319 rows x 6 columns]"
      ]
     },
     "execution_count": 89,
     "metadata": {},
     "output_type": "execute_result"
    }
   ],
   "source": [
    "vas_DWH_df = vas_DWH_df[[\"event_source.hash\",\"ACCOUNT_NUM.hash\",\"CUSTOMER_REF.hash\",\"VAS\",\"Month_Subscribed\",\"Rental\"]]\n",
    "vas_DWH_df"
   ]
  },
  {
   "cell_type": "code",
   "execution_count": 90,
   "metadata": {},
   "outputs": [
    {
     "data": {
      "text/plain": [
       "PEO TV GO_OTT_A-la carte channels    6434\n",
       "BB_PeoTVGO Revenue code               676\n",
       "Package Rental Through ADSL           155\n",
       "PeoTVGo_Channel Package                54\n",
       "Name: VAS, dtype: int64"
      ]
     },
     "execution_count": 90,
     "metadata": {},
     "output_type": "execute_result"
    }
   ],
   "source": [
    "vas_DWH_df[\"VAS\"].value_counts()"
   ]
  },
  {
   "cell_type": "code",
   "execution_count": null,
   "metadata": {},
   "outputs": [],
   "source": []
  },
  {
   "cell_type": "markdown",
   "metadata": {},
   "source": [
    "## Product Sate Changes DF"
   ]
  },
  {
   "cell_type": "code",
   "execution_count": 91,
   "metadata": {},
   "outputs": [],
   "source": [
    "state_changes_df = pd.read_csv(\"data/Product State Changes from BSS.csv\")"
   ]
  },
  {
   "cell_type": "code",
   "execution_count": 92,
   "metadata": {},
   "outputs": [],
   "source": [
    "state_changes_df = state_changes_df.drop(['PRODUCT_LABEL','CUSTOMER_REF','ACCOUNT_NUM' ,'PRODUCT_STATUS','PRODUCT_ID','START_DAT','END_DAT','PRODUCT_SEQ'], axis=1)\n",
    "state_changes_df.rename(columns={'PRODUCT_LABEL.hash': 'event_source.hash','PRODUCT_NAME':'VAS','EFFECTIVE_DTM':'Month_Subscribed'}, inplace=True)"
   ]
  },
  {
   "cell_type": "code",
   "execution_count": 93,
   "metadata": {},
   "outputs": [],
   "source": [
    "month_map = {\"Jan\":\"01\",\"Feb\":\"02\",\"Mar\":\"03\",\"Apr\":\"04\",\"May\":\"05\",\"Jun\":\"06\",\"Jul\":\"07\",\"Aug\":\"08\",\"Sep\":\"09\",\"Oct\":\"10\",\"Nov\":\"11\",\"Dec\":\"12\"}"
   ]
  },
  {
   "cell_type": "code",
   "execution_count": 94,
   "metadata": {},
   "outputs": [],
   "source": [
    "# Date correction\n",
    "def date_correct_psc(date):\n",
    "    date=str(date)\n",
    "    year=date[:4]\n",
    "    mnt_temp= date[5:8]\n",
    "    month=[v for k, v in month_map.items() if mnt_temp in k][0]\n",
    "    return f\"{year}-{month}\""
   ]
  },
  {
   "cell_type": "code",
   "execution_count": 95,
   "metadata": {},
   "outputs": [
    {
     "name": "stdout",
     "output_type": "stream",
     "text": [
      "2019-07\n",
      "2019-05\n"
     ]
    }
   ],
   "source": [
    "# check\n",
    "print(date_correct_psc('2019-Jul-01 00:00:00'))\n",
    "print(date_correct_psc('2019-May-10 11:55:26'))"
   ]
  },
  {
   "cell_type": "code",
   "execution_count": 96,
   "metadata": {},
   "outputs": [],
   "source": [
    "state_changes_df[\"Month_Subscribed\"]=state_changes_df[\"Month_Subscribed\"].apply(lambda x: date_correct_psc(x))"
   ]
  },
  {
   "cell_type": "code",
   "execution_count": 97,
   "metadata": {},
   "outputs": [
    {
     "data": {
      "text/html": [
       "<div>\n",
       "<style scoped>\n",
       "    .dataframe tbody tr th:only-of-type {\n",
       "        vertical-align: middle;\n",
       "    }\n",
       "\n",
       "    .dataframe tbody tr th {\n",
       "        vertical-align: top;\n",
       "    }\n",
       "\n",
       "    .dataframe thead th {\n",
       "        text-align: right;\n",
       "    }\n",
       "</style>\n",
       "<table border=\"1\" class=\"dataframe\">\n",
       "  <thead>\n",
       "    <tr style=\"text-align: right;\">\n",
       "      <th></th>\n",
       "      <th>event_source.hash</th>\n",
       "      <th>ACCOUNT_NUM.hash</th>\n",
       "      <th>CUSTOMER_REF.hash</th>\n",
       "      <th>VAS</th>\n",
       "      <th>Month_Subscribed</th>\n",
       "    </tr>\n",
       "  </thead>\n",
       "  <tbody>\n",
       "    <tr>\n",
       "      <th>0</th>\n",
       "      <td>b635fc31617ffc9c1e6b5015fb32e108</td>\n",
       "      <td>a4e4afaedb57f205bfeff624c39fe49d</td>\n",
       "      <td>3bab8adf192d3b98fc879ad65bf3b1a8</td>\n",
       "      <td>V_Single VAS Bundle</td>\n",
       "      <td>2019-06</td>\n",
       "    </tr>\n",
       "    <tr>\n",
       "      <th>1</th>\n",
       "      <td>ef74b1171331411a4d2e9fada9158215</td>\n",
       "      <td>9c802b6b329dc1e3ba6e6c655a21e65d</td>\n",
       "      <td>395dd9f2747c6fa4336ee794b1cb6d72</td>\n",
       "      <td>E_Referral offer Discount</td>\n",
       "      <td>2020-01</td>\n",
       "    </tr>\n",
       "    <tr>\n",
       "      <th>2</th>\n",
       "      <td>31110bf10f07e3d5e23da9680b1dd287</td>\n",
       "      <td>1cf3f313f1060c69dfe814a0e8124f18</td>\n",
       "      <td>f72dffa8e0e57e2999859d05fb470b8e</td>\n",
       "      <td>V_Absentee service</td>\n",
       "      <td>2019-10</td>\n",
       "    </tr>\n",
       "    <tr>\n",
       "      <th>3</th>\n",
       "      <td>b6404a24d0ae0f5dbb11c78c783bd1fc</td>\n",
       "      <td>ce8d936fed762bfa12912fb18915b802</td>\n",
       "      <td>71a467201a2d56926e6f9e3b162635a5</td>\n",
       "      <td>V_Hotline Service</td>\n",
       "      <td>2019-06</td>\n",
       "    </tr>\n",
       "    <tr>\n",
       "      <th>4</th>\n",
       "      <td>b635fc31617ffc9c1e6b5015fb32e108</td>\n",
       "      <td>a4e4afaedb57f205bfeff624c39fe49d</td>\n",
       "      <td>3bab8adf192d3b98fc879ad65bf3b1a8</td>\n",
       "      <td>V_Caller Line Identification</td>\n",
       "      <td>2019-06</td>\n",
       "    </tr>\n",
       "    <tr>\n",
       "      <th>...</th>\n",
       "      <td>...</td>\n",
       "      <td>...</td>\n",
       "      <td>...</td>\n",
       "      <td>...</td>\n",
       "      <td>...</td>\n",
       "    </tr>\n",
       "    <tr>\n",
       "      <th>3023</th>\n",
       "      <td>155a2049729884b079ccaa8aca315e09</td>\n",
       "      <td>3030f90b7118e741f52dd8421a83145a</td>\n",
       "      <td>197991049d40e712d4471da75fade116</td>\n",
       "      <td>V_DQ Contact Details</td>\n",
       "      <td>2019-04</td>\n",
       "    </tr>\n",
       "    <tr>\n",
       "      <th>3024</th>\n",
       "      <td>155a2049729884b079ccaa8aca315e09</td>\n",
       "      <td>3030f90b7118e741f52dd8421a83145a</td>\n",
       "      <td>197991049d40e712d4471da75fade116</td>\n",
       "      <td>AB_Megaline</td>\n",
       "      <td>2019-04</td>\n",
       "    </tr>\n",
       "    <tr>\n",
       "      <th>3025</th>\n",
       "      <td>155a2049729884b079ccaa8aca315e09</td>\n",
       "      <td>3030f90b7118e741f52dd8421a83145a</td>\n",
       "      <td>197991049d40e712d4471da75fade116</td>\n",
       "      <td>AB_Megaline Startup</td>\n",
       "      <td>2019-04</td>\n",
       "    </tr>\n",
       "    <tr>\n",
       "      <th>3026</th>\n",
       "      <td>155a2049729884b079ccaa8aca315e09</td>\n",
       "      <td>3030f90b7118e741f52dd8421a83145a</td>\n",
       "      <td>197991049d40e712d4471da75fade116</td>\n",
       "      <td>V_IDD</td>\n",
       "      <td>2019-04</td>\n",
       "    </tr>\n",
       "    <tr>\n",
       "      <th>3027</th>\n",
       "      <td>2b03667950c9420f060dbcb614433324</td>\n",
       "      <td>fbfdb60177fd5265eb5f0dc6a5f786a6</td>\n",
       "      <td>7212b82cbd7eb76cd0247e5b54daeabe</td>\n",
       "      <td>V_Call Forwarding</td>\n",
       "      <td>2020-08</td>\n",
       "    </tr>\n",
       "  </tbody>\n",
       "</table>\n",
       "<p>3028 rows × 5 columns</p>\n",
       "</div>"
      ],
      "text/plain": [
       "                     event_source.hash                  ACCOUNT_NUM.hash  \\\n",
       "0     b635fc31617ffc9c1e6b5015fb32e108  a4e4afaedb57f205bfeff624c39fe49d   \n",
       "1     ef74b1171331411a4d2e9fada9158215  9c802b6b329dc1e3ba6e6c655a21e65d   \n",
       "2     31110bf10f07e3d5e23da9680b1dd287  1cf3f313f1060c69dfe814a0e8124f18   \n",
       "3     b6404a24d0ae0f5dbb11c78c783bd1fc  ce8d936fed762bfa12912fb18915b802   \n",
       "4     b635fc31617ffc9c1e6b5015fb32e108  a4e4afaedb57f205bfeff624c39fe49d   \n",
       "...                                ...                               ...   \n",
       "3023  155a2049729884b079ccaa8aca315e09  3030f90b7118e741f52dd8421a83145a   \n",
       "3024  155a2049729884b079ccaa8aca315e09  3030f90b7118e741f52dd8421a83145a   \n",
       "3025  155a2049729884b079ccaa8aca315e09  3030f90b7118e741f52dd8421a83145a   \n",
       "3026  155a2049729884b079ccaa8aca315e09  3030f90b7118e741f52dd8421a83145a   \n",
       "3027  2b03667950c9420f060dbcb614433324  fbfdb60177fd5265eb5f0dc6a5f786a6   \n",
       "\n",
       "                     CUSTOMER_REF.hash                           VAS  \\\n",
       "0     3bab8adf192d3b98fc879ad65bf3b1a8           V_Single VAS Bundle   \n",
       "1     395dd9f2747c6fa4336ee794b1cb6d72     E_Referral offer Discount   \n",
       "2     f72dffa8e0e57e2999859d05fb470b8e            V_Absentee service   \n",
       "3     71a467201a2d56926e6f9e3b162635a5             V_Hotline Service   \n",
       "4     3bab8adf192d3b98fc879ad65bf3b1a8  V_Caller Line Identification   \n",
       "...                                ...                           ...   \n",
       "3023  197991049d40e712d4471da75fade116          V_DQ Contact Details   \n",
       "3024  197991049d40e712d4471da75fade116                   AB_Megaline   \n",
       "3025  197991049d40e712d4471da75fade116           AB_Megaline Startup   \n",
       "3026  197991049d40e712d4471da75fade116                         V_IDD   \n",
       "3027  7212b82cbd7eb76cd0247e5b54daeabe             V_Call Forwarding   \n",
       "\n",
       "     Month_Subscribed  \n",
       "0             2019-06  \n",
       "1             2020-01  \n",
       "2             2019-10  \n",
       "3             2019-06  \n",
       "4             2019-06  \n",
       "...               ...  \n",
       "3023          2019-04  \n",
       "3024          2019-04  \n",
       "3025          2019-04  \n",
       "3026          2019-04  \n",
       "3027          2020-08  \n",
       "\n",
       "[3028 rows x 5 columns]"
      ]
     },
     "execution_count": 97,
     "metadata": {},
     "output_type": "execute_result"
    }
   ],
   "source": [
    "state_changes_df = state_changes_df[[\"event_source.hash\",\"ACCOUNT_NUM.hash\",\"CUSTOMER_REF.hash\",\"VAS\",\"Month_Subscribed\"]]\n",
    "state_changes_df"
   ]
  },
  {
   "cell_type": "code",
   "execution_count": null,
   "metadata": {},
   "outputs": [],
   "source": []
  },
  {
   "cell_type": "markdown",
   "metadata": {},
   "source": [
    "## VAS Dataframes Merging"
   ]
  },
  {
   "cell_type": "code",
   "execution_count": 98,
   "metadata": {},
   "outputs": [],
   "source": [
    "# Concat dataframes and merge by event_source.hash\n",
    "vas_final_df = pd.concat([vas_common_df, vas_otc_df, bb_vas_df, vas_DWH_df,state_changes_df,dss_vas_df], ignore_index=True)"
   ]
  },
  {
   "cell_type": "code",
   "execution_count": 99,
   "metadata": {},
   "outputs": [],
   "source": [
    "vas_final_df.sort_values('Month_Subscribed',inplace=True)"
   ]
  },
  {
   "cell_type": "code",
   "execution_count": 100,
   "metadata": {},
   "outputs": [],
   "source": [
    "vas_final_df.reset_index(inplace=True)\n",
    "vas_final_df.drop([\"index\"],axis=1,inplace=True)"
   ]
  },
  {
   "cell_type": "code",
   "execution_count": 101,
   "metadata": {},
   "outputs": [],
   "source": [
    "vas_final_df = vas_final_df[vas_final_df['event_source.hash'].notna()]"
   ]
  },
  {
   "cell_type": "code",
   "execution_count": 102,
   "metadata": {},
   "outputs": [
    {
     "name": "stdout",
     "output_type": "stream",
     "text": [
      "<class 'pandas.core.frame.DataFrame'>\n",
      "Int64Index: 569337 entries, 0 to 599919\n",
      "Data columns (total 7 columns):\n",
      " #   Column             Non-Null Count   Dtype  \n",
      "---  ------             --------------   -----  \n",
      " 0   event_source.hash  569337 non-null  object \n",
      " 1   ACCOUNT_NUM.hash   569337 non-null  object \n",
      " 2   CUSTOMER_REF.hash  569337 non-null  object \n",
      " 3   VAS                569336 non-null  object \n",
      " 4   Month_Subscribed   569337 non-null  object \n",
      " 5   Rental             468621 non-null  object \n",
      " 6   One_Time_Charge    50738 non-null   float64\n",
      "dtypes: float64(1), object(6)\n",
      "memory usage: 34.7+ MB\n"
     ]
    }
   ],
   "source": [
    "vas_final_df.info()"
   ]
  },
  {
   "cell_type": "code",
   "execution_count": 103,
   "metadata": {},
   "outputs": [
    {
     "data": {
      "text/plain": [
       "27593"
      ]
     },
     "execution_count": 103,
     "metadata": {},
     "output_type": "execute_result"
    }
   ],
   "source": [
    "len(vas_final_df[\"event_source.hash\"].unique())"
   ]
  },
  {
   "cell_type": "code",
   "execution_count": 104,
   "metadata": {},
   "outputs": [
    {
     "data": {
      "text/plain": [
       "array(['P-Basic1_Tele Life', 'V-Plus4_TeleLife', 'V-Plus1_TeleLife',\n",
       "       'V-Basic1_TeleLife', 'V_Telehealth', 'P-Plus1_Tele Life',\n",
       "       'C-Basic1_Tele Life', 'V_SLT Voice Service', 'BB_PeoTVGO',\n",
       "       'AB_WireLess Access', 'V_Sisu Connect', 'BB_SLT BroadBand Service',\n",
       "       'BB_Personal Storage', 'P_Sisu Connect', 'P-Plus4_Tele Life',\n",
       "       'P-Basic2_Tele Life', 'C_Sisu Connect', 'V-Basic4_TeleLife',\n",
       "       'V-Basic2_TeleLife', 'BB_Detailed Reports ',\n",
       "       'AB_Fiber Access Bearer', 'E_SLT PeoTV Service',\n",
       "       'BB_ Entertainment Unlimited', 'BB_SLT Film Hall Service',\n",
       "       'AB_Copper Access Bearer', 'V_E-channeling Registration',\n",
       "       'OTT_SLT PeoTV Go', 'V_E-channeling Subscription',\n",
       "       'P-Basic4_Tele Life', 'Package Rental Through ADSL', 'AB_Megaline',\n",
       "       'AB_Citylink Loyalty Rewards', 'V_Double VAS Bundle', 'V_SLT CLI',\n",
       "       'AB_Relocation', 'V_Call Forwarding Offline',\n",
       "       'V_Anonymous call barring', 'V_Call back on busy',\n",
       "       'V_CLI presentation in call waiting', 'V_Incoming Call Memory',\n",
       "       'V_DQ Contact Details', 'V_IDD', 'E_Video on Demand', 'E_TSTV',\n",
       "       'V_Call Forwarding by time', 'V_Call park',\n",
       "       'V_Outgoing Call Memory', 'AB_Megaline Startup',\n",
       "       'V_Incoming Call Transfer', 'E_PeoTV_Package Transfer',\n",
       "       'V_Call holding', 'E_PeoTV Initiation',\n",
       "       'V_Call Transfer Three way', 'V_Single VAS Bundle',\n",
       "       'V_Call Forwarding-Immediate', 'V_Call Forwarding-On Busy',\n",
       "       'V_Call Waiting', 'V_Call Forwarding-No Answer',\n",
       "       'V_Call Forwarding', 'V_Absentee service',\n",
       "       'V_Call Forwarding - On Busy', 'V_Call Forwarding - No Answer',\n",
       "       'V_Abbreviated Dialing', 'V_Cordeless Phone - Installment',\n",
       "       'AB_Additional Distance', 'M_Activation Charge',\n",
       "       'V_Hotline Service', 'V_Hotline-Immediate',\n",
       "       'V_Short Message Service', 'V_Caller Line Identification',\n",
       "       'V_Hotline-Time Delayed', 'AB_Service Vacation', 'V_Detailed Bill',\n",
       "       'V_Railway Registration', 'V_Call Forwarding - Immediate',\n",
       "       'AB_Rental Free', 'PEO TV GO_OTT_A-la carte channels',\n",
       "       'P_Incoming Call Memory', 'P_Call Forwarding by time',\n",
       "       'P_CLI presentation in call waiting', 'P_Call park',\n",
       "       'P_Anonymous call barring', 'P_Call back on busy',\n",
       "       'P_Outgoing Call Memory', 'P_Call Forwarding Offline',\n",
       "       'P_Call holding', 'P_Call Transfer Three way',\n",
       "       'P_Incoming Call Transfer', 'P_Megaline New Connection',\n",
       "       'DQ_Contact Details', 'P_Megaline', 'P_SLT CLI', 'P_IDD',\n",
       "       'P_Additional features -Double VAS Bundle',\n",
       "       'V_One-Time Detailed Bill', 'V_Basic Phone Installment',\n",
       "       'V_Installment', 'AB_Referral offer Discount',\n",
       "       'V_Call Barring - Outgoing', 'BB_PeoTVGO Revenue code',\n",
       "       'PeoTVGo_Channel Package', 'BB_Report Subscription Charge',\n",
       "       'V_Referral offer Discount', 'E_Referral offer Discount',\n",
       "       'V_Call forwarding selective',\n",
       "       'V_Caller name identificationPresentation',\n",
       "       'V_Do not disturb service', 'V_Selective call waiting',\n",
       "       'V_Selective call acceptance', 'V_Secretary service',\n",
       "       'V_Password call barring (secret code)',\n",
       "       'V_Selective call rejection', 'V_Caller name sending',\n",
       "       'V_Complete call on no response', 'V_Triple VAS Bundle',\n",
       "       'V_Basic Phone', 'V_Miscellaneous Service', 'V_Voice Startup Fee',\n",
       "       'BB Personal Storage', 'V_Call Barring',\n",
       "       'P_One-Time Detailed Bill', 'P_Removal of Int & Parallel Ext',\n",
       "       'BB_YouTube Bundle', 'AB_Parallel line Installation', 'Meet Lite',\n",
       "       'Meet Max', 'Edu Lite', 'BB_Messenger Bundle', nan], dtype=object)"
      ]
     },
     "execution_count": 104,
     "metadata": {},
     "output_type": "execute_result"
    }
   ],
   "source": [
    "vas_final_df[\"VAS\"].unique()"
   ]
  },
  {
   "cell_type": "code",
   "execution_count": 105,
   "metadata": {},
   "outputs": [],
   "source": [
    "free_packages = [ 'V_Call Forwarding Offline','V_SLT Voice Service',\n",
    "       'V_Anonymous call barring', 'V_Call back on busy',\n",
    "       'V_CLI presentation in call waiting', 'V_Incoming Call Memory',\n",
    "       'V_DQ Contact Details', \n",
    "       'V_Call Forwarding by time', \n",
    "       'V_Outgoing Call Memory', \n",
    "       'V_Incoming Call Transfer', \n",
    "       'V_Call holding', 'E_PeoTV Initiation',\n",
    "       'V_Call Transfer Three way',\n",
    "       'V_Call Forwarding-Immediate', 'V_Call Forwarding-On Busy',\n",
    "       'V_Call Waiting', 'V_Call Forwarding-No Answer',\n",
    "       'V_Call Forwarding', 'V_Absentee service',\n",
    "       'V_Call Forwarding - On Busy', 'V_Call Forwarding - No Answer',\n",
    "       'V_Abbreviated Dialing', 'P_Incoming Call Memory', 'P_Call Forwarding by time',\n",
    "       'P_CLI presentation in call waiting', \n",
    "       'P_Anonymous call barring', 'P_Call back on busy',\n",
    "       'P_Outgoing Call Memory', 'P_Call Forwarding Offline',\n",
    "       'P_Call holding', 'P_Call Transfer Three way',\n",
    "       'P_Incoming Call Transfer', \n",
    "       'DQ_Contact Details', 'P_SLT CLI',\n",
    "       'V_Call Barring - Outgoing']"
   ]
  },
  {
   "cell_type": "code",
   "execution_count": 106,
   "metadata": {},
   "outputs": [],
   "source": [
    "def megaline_vas(vas):\n",
    "    if 'Megaline' in vas:\n",
    "        return \"YES\""
   ]
  },
  {
   "cell_type": "code",
   "execution_count": 107,
   "metadata": {},
   "outputs": [],
   "source": [
    "def ftth_vas(vas):\n",
    "    if 'FTTH' in vas:\n",
    "        return \"YES\""
   ]
  },
  {
   "cell_type": "code",
   "execution_count": 108,
   "metadata": {},
   "outputs": [],
   "source": [
    "def vas_bucketizer(vas):\n",
    "    if not isinstance(vas, float):\n",
    "        for pack in free_packages:\n",
    "            if vas in pack:\n",
    "                return \"FREE\"\n",
    "        if \"V_\" in vas or \"V-\" in vas:\n",
    "            category=\"Voice\"\n",
    "        elif \"Peo\" in vas or \"PEO\" in vas or \"E_Video on Demand\" in vas:\n",
    "            category=\"PeoTV\"\n",
    "        elif \"BB\" in vas:\n",
    "            category=\"BB\"\n",
    "        else:\n",
    "            category=\"Other\"\n",
    "        return category"
   ]
  },
  {
   "cell_type": "code",
   "execution_count": 109,
   "metadata": {},
   "outputs": [],
   "source": [
    "vas_final_df[\"VAS_Type\"]=vas_final_df[\"VAS\"].apply(lambda x: vas_bucketizer(x))"
   ]
  },
  {
   "cell_type": "code",
   "execution_count": 110,
   "metadata": {},
   "outputs": [],
   "source": [
    "vas_final_df.dropna(subset=['VAS_Type'], inplace=True)"
   ]
  },
  {
   "cell_type": "code",
   "execution_count": 111,
   "metadata": {},
   "outputs": [
    {
     "name": "stdout",
     "output_type": "stream",
     "text": [
      "<class 'pandas.core.frame.DataFrame'>\n",
      "Int64Index: 569336 entries, 0 to 599917\n",
      "Data columns (total 8 columns):\n",
      " #   Column             Non-Null Count   Dtype  \n",
      "---  ------             --------------   -----  \n",
      " 0   event_source.hash  569336 non-null  object \n",
      " 1   ACCOUNT_NUM.hash   569336 non-null  object \n",
      " 2   CUSTOMER_REF.hash  569336 non-null  object \n",
      " 3   VAS                569336 non-null  object \n",
      " 4   Month_Subscribed   569336 non-null  object \n",
      " 5   Rental             468621 non-null  object \n",
      " 6   One_Time_Charge    50738 non-null   float64\n",
      " 7   VAS_Type           569336 non-null  object \n",
      "dtypes: float64(1), object(7)\n",
      "memory usage: 39.1+ MB\n"
     ]
    }
   ],
   "source": [
    "vas_final_df.info()"
   ]
  },
  {
   "cell_type": "code",
   "execution_count": 112,
   "metadata": {},
   "outputs": [
    {
     "data": {
      "text/plain": [
       "BB       443277\n",
       "Other     85199\n",
       "FREE      20963\n",
       "PeoTV     14478\n",
       "Voice      5419\n",
       "Name: VAS_Type, dtype: int64"
      ]
     },
     "execution_count": 112,
     "metadata": {},
     "output_type": "execute_result"
    }
   ],
   "source": [
    "vas_final_df[\"VAS_Type\"].value_counts()"
   ]
  },
  {
   "cell_type": "code",
   "execution_count": 113,
   "metadata": {
    "scrolled": true
   },
   "outputs": [],
   "source": [
    "new_df = vas_final_df[[\"VAS\",\"VAS_Type\"]].value_counts()"
   ]
  },
  {
   "cell_type": "code",
   "execution_count": 114,
   "metadata": {},
   "outputs": [],
   "source": [
    "new_df.to_csv(\"data/product_catalog/user_counts_on_VAS.csv\")"
   ]
  },
  {
   "cell_type": "code",
   "execution_count": 115,
   "metadata": {},
   "outputs": [],
   "source": [
    "vas_final_df.to_csv(\"data/user_profile/VAS_Final_list.csv\")"
   ]
  },
  {
   "cell_type": "code",
   "execution_count": 116,
   "metadata": {},
   "outputs": [
    {
     "data": {
      "text/plain": [
       "<AxesSubplot:>"
      ]
     },
     "execution_count": 116,
     "metadata": {},
     "output_type": "execute_result"
    },
    {
     "data": {
      "image/png": "[encoded data removed]",
      "text/plain": [
       "<Figure size 1440x1080 with 1 Axes>"
      ]
     },
     "metadata": {},
     "output_type": "display_data"
    }
   ],
   "source": [
    "vas_final_df[(vas_final_df[\"VAS_Type\"]==\"Voice\")][\"VAS\"].value_counts()[1:].plot(kind=\"bar\", figsize=(20,15))"
   ]
  },
  {
   "cell_type": "code",
   "execution_count": 117,
   "metadata": {},
   "outputs": [
    {
     "data": {
      "text/plain": [
       "<AxesSubplot:>"
      ]
     },
     "execution_count": 117,
     "metadata": {},
     "output_type": "execute_result"
    },
    {
     "data": {
      "image/png": "[encoded data removed]",
      "text/plain": [
       "<Figure size 1080x576 with 1 Axes>"
      ]
     },
     "metadata": {},
     "output_type": "display_data"
    }
   ],
   "source": [
    "vas_final_df[(vas_final_df[\"VAS_Type\"]==\"PeoTV\")][\"VAS\"].value_counts()[1:].plot(kind=\"bar\", figsize=(15,8))"
   ]
  },
  {
   "cell_type": "code",
   "execution_count": 118,
   "metadata": {},
   "outputs": [
    {
     "data": {
      "text/plain": [
       "<AxesSubplot:>"
      ]
     },
     "execution_count": 118,
     "metadata": {},
     "output_type": "execute_result"
    },
    {
     "data": {
      "image/png": "[encoded data removed]",
      "text/plain": [
       "<Figure size 1080x576 with 1 Axes>"
      ]
     },
     "metadata": {},
     "output_type": "display_data"
    }
   ],
   "source": [
    "vas_final_df[(vas_final_df[\"VAS_Type\"]==\"BB\")][\"VAS\"].value_counts()[1:].plot(kind=\"bar\", figsize=(15,8))"
   ]
  },
  {
   "cell_type": "code",
   "execution_count": 119,
   "metadata": {},
   "outputs": [
    {
     "data": {
      "text/plain": [
       "<AxesSubplot:>"
      ]
     },
     "execution_count": 119,
     "metadata": {},
     "output_type": "execute_result"
    },
    {
     "data": {
      "image/png": "[encoded data removed]",
      "text/plain": [
       "<Figure size 1080x576 with 1 Axes>"
      ]
     },
     "metadata": {},
     "output_type": "display_data"
    }
   ],
   "source": [
    "vas_final_df[(vas_final_df[\"VAS_Type\"]==\"Other\")][\"VAS\"].value_counts()[1:].plot(kind=\"bar\", figsize=(15,8))"
   ]
  },
  {
   "cell_type": "code",
   "execution_count": null,
   "metadata": {},
   "outputs": [],
   "source": []
  },
  {
   "cell_type": "markdown",
   "metadata": {},
   "source": [
    "## PeoTV Extra Channel Purchase Analysis"
   ]
  },
  {
   "cell_type": "code",
   "execution_count": 172,
   "metadata": {},
   "outputs": [
    {
     "name": "stdout",
     "output_type": "stream",
     "text": [
      "<class 'pandas.core.frame.DataFrame'>\n",
      "Int64Index: 119046 entries, 4 to 599917\n",
      "Data columns (total 8 columns):\n",
      " #   Column             Non-Null Count   Dtype  \n",
      "---  ------             --------------   -----  \n",
      " 0   event_source.hash  119046 non-null  object \n",
      " 1   ACCOUNT_NUM.hash   119046 non-null  object \n",
      " 2   CUSTOMER_REF.hash  119046 non-null  object \n",
      " 3   VAS                119046 non-null  object \n",
      " 4   Month_Subscribed   119046 non-null  object \n",
      " 5   Rental             119046 non-null  object \n",
      " 6   One_Time_Charge    119046 non-null  float64\n",
      " 7   VAS_Type           119046 non-null  object \n",
      "dtypes: float64(1), object(7)\n",
      "memory usage: 8.2+ MB\n"
     ]
    }
   ],
   "source": [
    "vas_final_df.info()"
   ]
  },
  {
   "cell_type": "code",
   "execution_count": 171,
   "metadata": {},
   "outputs": [
    {
     "data": {
      "text/plain": [
       "array(['BB_PeoTVGO', 'E_SLT PeoTV Service', 'OTT_SLT PeoTV Go',\n",
       "       'E_Video on Demand', 'PEO TV GO_OTT_A-la carte channels',\n",
       "       'BB_PeoTVGO Revenue code', 'PeoTVGo_Channel Package'], dtype=object)"
      ]
     },
     "execution_count": 171,
     "metadata": {},
     "output_type": "execute_result"
    }
   ],
   "source": [
    "vas_final_df[(vas_final_df[\"VAS_Type\"] == \"PeoTV\")][\"VAS\"].unique()"
   ]
  },
  {
   "cell_type": "code",
   "execution_count": 179,
   "metadata": {},
   "outputs": [
    {
     "name": "stderr",
     "output_type": "stream",
     "text": [
      "/home/chiran/anaconda3/lib/python3.8/site-packages/pandas/core/frame.py:4163: SettingWithCopyWarning: \n",
      "A value is trying to be set on a copy of a slice from a DataFrame\n",
      "\n",
      "See the caveats in the documentation: https://pandas.pydata.org/pandas-docs/stable/user_guide/indexing.html#returning-a-view-versus-a-copy\n",
      "  return super().drop(\n"
     ]
    }
   ],
   "source": [
    "extra_Peo_df= vas_final_df[(vas_final_df[\"VAS\"]==\"PEO TV GO_OTT_A-la carte channels\")]\n",
    "extra_Peo_df.reset_index(inplace=True)\n",
    "extra_Peo_df.drop([\"index\"],axis=1,inplace=True)"
   ]
  },
  {
   "cell_type": "code",
   "execution_count": 180,
   "metadata": {},
   "outputs": [],
   "source": [
    "extra_Peo_df= extra_Peo_df[[\"event_source.hash\",\"ACCOUNT_NUM.hash\",\"CUSTOMER_REF.hash\",\"VAS\",\"Month_Subscribed\",\"Rental\"]]"
   ]
  },
  {
   "cell_type": "code",
   "execution_count": 181,
   "metadata": {},
   "outputs": [
    {
     "data": {
      "text/html": [
       "<div>\n",
       "<style scoped>\n",
       "    .dataframe tbody tr th:only-of-type {\n",
       "        vertical-align: middle;\n",
       "    }\n",
       "\n",
       "    .dataframe tbody tr th {\n",
       "        vertical-align: top;\n",
       "    }\n",
       "\n",
       "    .dataframe thead th {\n",
       "        text-align: right;\n",
       "    }\n",
       "</style>\n",
       "<table border=\"1\" class=\"dataframe\">\n",
       "  <thead>\n",
       "    <tr style=\"text-align: right;\">\n",
       "      <th></th>\n",
       "      <th>event_source.hash</th>\n",
       "      <th>ACCOUNT_NUM.hash</th>\n",
       "      <th>CUSTOMER_REF.hash</th>\n",
       "      <th>VAS</th>\n",
       "      <th>Month_Subscribed</th>\n",
       "      <th>Rental</th>\n",
       "    </tr>\n",
       "  </thead>\n",
       "  <tbody>\n",
       "    <tr>\n",
       "      <th>0</th>\n",
       "      <td>4a475b16493e3774d09eaf35ff514b97</td>\n",
       "      <td>90a7ca76033cf7fc3c3cb906f45c401c</td>\n",
       "      <td>df87723b07904aa3d7d31f5db24a4ec5</td>\n",
       "      <td>PEO TV GO_OTT_A-la carte channels</td>\n",
       "      <td>2019-07</td>\n",
       "      <td>100</td>\n",
       "    </tr>\n",
       "    <tr>\n",
       "      <th>1</th>\n",
       "      <td>6855c205e233785169e583bb50f9df0d</td>\n",
       "      <td>d0bd2c4614c24ce48b7fc09ff42eb002</td>\n",
       "      <td>b860f131ec0487bb52762524e4e8d38f</td>\n",
       "      <td>PEO TV GO_OTT_A-la carte channels</td>\n",
       "      <td>2019-08</td>\n",
       "      <td>100</td>\n",
       "    </tr>\n",
       "    <tr>\n",
       "      <th>2</th>\n",
       "      <td>9ade52133c7343e3f9a366c4c3e22bd8</td>\n",
       "      <td>6184e258fc549e12c235a2bc10ae297e</td>\n",
       "      <td>e87131d1793ae521c155b1a8ef40772d</td>\n",
       "      <td>PEO TV GO_OTT_A-la carte channels</td>\n",
       "      <td>2019-09</td>\n",
       "      <td>100</td>\n",
       "    </tr>\n",
       "    <tr>\n",
       "      <th>3</th>\n",
       "      <td>104dced91aa603c85945df73e2178d36</td>\n",
       "      <td>6184e258fc549e12c235a2bc10ae297e</td>\n",
       "      <td>e87131d1793ae521c155b1a8ef40772d</td>\n",
       "      <td>PEO TV GO_OTT_A-la carte channels</td>\n",
       "      <td>2019-09</td>\n",
       "      <td>100</td>\n",
       "    </tr>\n",
       "    <tr>\n",
       "      <th>4</th>\n",
       "      <td>ae3f41b44a487097f2ca7e711897e866</td>\n",
       "      <td>2e0841c32915addc312ba3b08314593e</td>\n",
       "      <td>7feaa76fc16a36615f6c731844564230</td>\n",
       "      <td>PEO TV GO_OTT_A-la carte channels</td>\n",
       "      <td>2019-10</td>\n",
       "      <td>100</td>\n",
       "    </tr>\n",
       "    <tr>\n",
       "      <th>...</th>\n",
       "      <td>...</td>\n",
       "      <td>...</td>\n",
       "      <td>...</td>\n",
       "      <td>...</td>\n",
       "      <td>...</td>\n",
       "      <td>...</td>\n",
       "    </tr>\n",
       "    <tr>\n",
       "      <th>1939</th>\n",
       "      <td>a046e63c7b39272c6d7af975a1e6772d</td>\n",
       "      <td>daa74e4f9afbb374acc64969fe778808</td>\n",
       "      <td>dffc1c556d835833616d2e57b50ed4b2</td>\n",
       "      <td>PEO TV GO_OTT_A-la carte channels</td>\n",
       "      <td>2020-08</td>\n",
       "      <td>100</td>\n",
       "    </tr>\n",
       "    <tr>\n",
       "      <th>1940</th>\n",
       "      <td>a2d5562b3cf68b7b58c4e41f76d8c913</td>\n",
       "      <td>daa74e4f9afbb374acc64969fe778808</td>\n",
       "      <td>dffc1c556d835833616d2e57b50ed4b2</td>\n",
       "      <td>PEO TV GO_OTT_A-la carte channels</td>\n",
       "      <td>2020-08</td>\n",
       "      <td>100</td>\n",
       "    </tr>\n",
       "    <tr>\n",
       "      <th>1941</th>\n",
       "      <td>140ba2d97ebac8759b150e6c8b6b1ea1</td>\n",
       "      <td>daa74e4f9afbb374acc64969fe778808</td>\n",
       "      <td>dffc1c556d835833616d2e57b50ed4b2</td>\n",
       "      <td>PEO TV GO_OTT_A-la carte channels</td>\n",
       "      <td>2020-08</td>\n",
       "      <td>100</td>\n",
       "    </tr>\n",
       "    <tr>\n",
       "      <th>1942</th>\n",
       "      <td>6feddfddbf00d72a5d55d64c668fedc1</td>\n",
       "      <td>daa74e4f9afbb374acc64969fe778808</td>\n",
       "      <td>dffc1c556d835833616d2e57b50ed4b2</td>\n",
       "      <td>PEO TV GO_OTT_A-la carte channels</td>\n",
       "      <td>2020-08</td>\n",
       "      <td>100</td>\n",
       "    </tr>\n",
       "    <tr>\n",
       "      <th>1943</th>\n",
       "      <td>461c0ad3fc56e42578d27ad89bfba5c5</td>\n",
       "      <td>daa74e4f9afbb374acc64969fe778808</td>\n",
       "      <td>dffc1c556d835833616d2e57b50ed4b2</td>\n",
       "      <td>PEO TV GO_OTT_A-la carte channels</td>\n",
       "      <td>2020-08</td>\n",
       "      <td>100</td>\n",
       "    </tr>\n",
       "  </tbody>\n",
       "</table>\n",
       "<p>1944 rows × 6 columns</p>\n",
       "</div>"
      ],
      "text/plain": [
       "                     event_source.hash                  ACCOUNT_NUM.hash  \\\n",
       "0     4a475b16493e3774d09eaf35ff514b97  90a7ca76033cf7fc3c3cb906f45c401c   \n",
       "1     6855c205e233785169e583bb50f9df0d  d0bd2c4614c24ce48b7fc09ff42eb002   \n",
       "2     9ade52133c7343e3f9a366c4c3e22bd8  6184e258fc549e12c235a2bc10ae297e   \n",
       "3     104dced91aa603c85945df73e2178d36  6184e258fc549e12c235a2bc10ae297e   \n",
       "4     ae3f41b44a487097f2ca7e711897e866  2e0841c32915addc312ba3b08314593e   \n",
       "...                                ...                               ...   \n",
       "1939  a046e63c7b39272c6d7af975a1e6772d  daa74e4f9afbb374acc64969fe778808   \n",
       "1940  a2d5562b3cf68b7b58c4e41f76d8c913  daa74e4f9afbb374acc64969fe778808   \n",
       "1941  140ba2d97ebac8759b150e6c8b6b1ea1  daa74e4f9afbb374acc64969fe778808   \n",
       "1942  6feddfddbf00d72a5d55d64c668fedc1  daa74e4f9afbb374acc64969fe778808   \n",
       "1943  461c0ad3fc56e42578d27ad89bfba5c5  daa74e4f9afbb374acc64969fe778808   \n",
       "\n",
       "                     CUSTOMER_REF.hash                                VAS  \\\n",
       "0     df87723b07904aa3d7d31f5db24a4ec5  PEO TV GO_OTT_A-la carte channels   \n",
       "1     b860f131ec0487bb52762524e4e8d38f  PEO TV GO_OTT_A-la carte channels   \n",
       "2     e87131d1793ae521c155b1a8ef40772d  PEO TV GO_OTT_A-la carte channels   \n",
       "3     e87131d1793ae521c155b1a8ef40772d  PEO TV GO_OTT_A-la carte channels   \n",
       "4     7feaa76fc16a36615f6c731844564230  PEO TV GO_OTT_A-la carte channels   \n",
       "...                                ...                                ...   \n",
       "1939  dffc1c556d835833616d2e57b50ed4b2  PEO TV GO_OTT_A-la carte channels   \n",
       "1940  dffc1c556d835833616d2e57b50ed4b2  PEO TV GO_OTT_A-la carte channels   \n",
       "1941  dffc1c556d835833616d2e57b50ed4b2  PEO TV GO_OTT_A-la carte channels   \n",
       "1942  dffc1c556d835833616d2e57b50ed4b2  PEO TV GO_OTT_A-la carte channels   \n",
       "1943  dffc1c556d835833616d2e57b50ed4b2  PEO TV GO_OTT_A-la carte channels   \n",
       "\n",
       "     Month_Subscribed Rental  \n",
       "0             2019-07    100  \n",
       "1             2019-08    100  \n",
       "2             2019-09    100  \n",
       "3             2019-09    100  \n",
       "4             2019-10    100  \n",
       "...               ...    ...  \n",
       "1939          2020-08    100  \n",
       "1940          2020-08    100  \n",
       "1941          2020-08    100  \n",
       "1942          2020-08    100  \n",
       "1943          2020-08    100  \n",
       "\n",
       "[1944 rows x 6 columns]"
      ]
     },
     "execution_count": 181,
     "metadata": {},
     "output_type": "execute_result"
    }
   ],
   "source": [
    "extra_Peo_df"
   ]
  },
  {
   "cell_type": "code",
   "execution_count": 182,
   "metadata": {},
   "outputs": [
    {
     "data": {
      "text/plain": [
       "array(['2019-07', '2019-08', '2019-09', '2019-10', '2019-11', '2019-12',\n",
       "       '2020-06', '2020-08'], dtype=object)"
      ]
     },
     "execution_count": 182,
     "metadata": {},
     "output_type": "execute_result"
    }
   ],
   "source": [
    "extra_Peo_df[\"Month_Subscribed\"].unique()"
   ]
  },
  {
   "cell_type": "code",
   "execution_count": 183,
   "metadata": {},
   "outputs": [
    {
     "data": {
      "text/plain": [
       "1944"
      ]
     },
     "execution_count": 183,
     "metadata": {},
     "output_type": "execute_result"
    }
   ],
   "source": [
    "len(extra_Peo_df[\"event_source.hash\"].unique())"
   ]
  },
  {
   "cell_type": "markdown",
   "metadata": {},
   "source": [
    "#### Extra GB Usage pivot matrix"
   ]
  },
  {
   "cell_type": "code",
   "execution_count": 184,
   "metadata": {},
   "outputs": [],
   "source": [
    "extra_Peo_pivot_df = pd.pivot_table(extra_Peo_df[[\"event_source.hash\",\"Month_Subscribed\",\"Rental\"]],index=['event_source.hash'],columns=['Month_Subscribed'], aggfunc=np.sum, fill_value=0)"
   ]
  },
  {
   "cell_type": "code",
   "execution_count": 185,
   "metadata": {},
   "outputs": [
    {
     "data": {
      "text/html": [
       "<div>\n",
       "<style scoped>\n",
       "    .dataframe tbody tr th:only-of-type {\n",
       "        vertical-align: middle;\n",
       "    }\n",
       "\n",
       "    .dataframe tbody tr th {\n",
       "        vertical-align: top;\n",
       "    }\n",
       "\n",
       "    .dataframe thead tr th {\n",
       "        text-align: left;\n",
       "    }\n",
       "\n",
       "    .dataframe thead tr:last-of-type th {\n",
       "        text-align: right;\n",
       "    }\n",
       "</style>\n",
       "<table border=\"1\" class=\"dataframe\">\n",
       "  <thead>\n",
       "    <tr>\n",
       "      <th></th>\n",
       "      <th colspan=\"8\" halign=\"left\">Rental</th>\n",
       "    </tr>\n",
       "    <tr>\n",
       "      <th>Month_Subscribed</th>\n",
       "      <th>2019-07</th>\n",
       "      <th>2019-08</th>\n",
       "      <th>2019-09</th>\n",
       "      <th>2019-10</th>\n",
       "      <th>2019-11</th>\n",
       "      <th>2019-12</th>\n",
       "      <th>2020-06</th>\n",
       "      <th>2020-08</th>\n",
       "    </tr>\n",
       "    <tr>\n",
       "      <th>event_source.hash</th>\n",
       "      <th></th>\n",
       "      <th></th>\n",
       "      <th></th>\n",
       "      <th></th>\n",
       "      <th></th>\n",
       "      <th></th>\n",
       "      <th></th>\n",
       "      <th></th>\n",
       "    </tr>\n",
       "  </thead>\n",
       "  <tbody>\n",
       "    <tr>\n",
       "      <th>0014bcaff40182200be0e062cf9051cd</th>\n",
       "      <td>0</td>\n",
       "      <td>0</td>\n",
       "      <td>0</td>\n",
       "      <td>0</td>\n",
       "      <td>0</td>\n",
       "      <td>0</td>\n",
       "      <td>0</td>\n",
       "      <td>100</td>\n",
       "    </tr>\n",
       "    <tr>\n",
       "      <th>0020f63be24f2eae231f5530ef3cf0d2</th>\n",
       "      <td>0</td>\n",
       "      <td>0</td>\n",
       "      <td>0</td>\n",
       "      <td>0</td>\n",
       "      <td>0</td>\n",
       "      <td>0</td>\n",
       "      <td>0</td>\n",
       "      <td>100</td>\n",
       "    </tr>\n",
       "    <tr>\n",
       "      <th>003de40503f12be04b110634ef7cdb61</th>\n",
       "      <td>0</td>\n",
       "      <td>0</td>\n",
       "      <td>0</td>\n",
       "      <td>0</td>\n",
       "      <td>0</td>\n",
       "      <td>0</td>\n",
       "      <td>0</td>\n",
       "      <td>100</td>\n",
       "    </tr>\n",
       "    <tr>\n",
       "      <th>005de991f47be96f65b894564c00ed14</th>\n",
       "      <td>0</td>\n",
       "      <td>0</td>\n",
       "      <td>0</td>\n",
       "      <td>0</td>\n",
       "      <td>0</td>\n",
       "      <td>0</td>\n",
       "      <td>0</td>\n",
       "      <td>100</td>\n",
       "    </tr>\n",
       "    <tr>\n",
       "      <th>00802d4fd104229876956f33cc994aa4</th>\n",
       "      <td>0</td>\n",
       "      <td>0</td>\n",
       "      <td>0</td>\n",
       "      <td>0</td>\n",
       "      <td>0</td>\n",
       "      <td>0</td>\n",
       "      <td>0</td>\n",
       "      <td>100</td>\n",
       "    </tr>\n",
       "    <tr>\n",
       "      <th>...</th>\n",
       "      <td>...</td>\n",
       "      <td>...</td>\n",
       "      <td>...</td>\n",
       "      <td>...</td>\n",
       "      <td>...</td>\n",
       "      <td>...</td>\n",
       "      <td>...</td>\n",
       "      <td>...</td>\n",
       "    </tr>\n",
       "    <tr>\n",
       "      <th>ff8a4db1e6b4e55b5248badbcd71a772</th>\n",
       "      <td>0</td>\n",
       "      <td>0</td>\n",
       "      <td>0</td>\n",
       "      <td>0</td>\n",
       "      <td>0</td>\n",
       "      <td>0</td>\n",
       "      <td>0</td>\n",
       "      <td>100</td>\n",
       "    </tr>\n",
       "    <tr>\n",
       "      <th>ff8f6ab5f339819b046514630a89b4d9</th>\n",
       "      <td>0</td>\n",
       "      <td>0</td>\n",
       "      <td>0</td>\n",
       "      <td>0</td>\n",
       "      <td>0</td>\n",
       "      <td>0</td>\n",
       "      <td>0</td>\n",
       "      <td>100</td>\n",
       "    </tr>\n",
       "    <tr>\n",
       "      <th>ff96fe17e185cd4c05bec76f14fa8672</th>\n",
       "      <td>0</td>\n",
       "      <td>0</td>\n",
       "      <td>0</td>\n",
       "      <td>0</td>\n",
       "      <td>0</td>\n",
       "      <td>0</td>\n",
       "      <td>0</td>\n",
       "      <td>100</td>\n",
       "    </tr>\n",
       "    <tr>\n",
       "      <th>ffc01f977549ca288434079c9ca424ad</th>\n",
       "      <td>0</td>\n",
       "      <td>0</td>\n",
       "      <td>0</td>\n",
       "      <td>0</td>\n",
       "      <td>0</td>\n",
       "      <td>0</td>\n",
       "      <td>0</td>\n",
       "      <td>100</td>\n",
       "    </tr>\n",
       "    <tr>\n",
       "      <th>ffff41a457d4ad9618d788bdd917e4ce</th>\n",
       "      <td>0</td>\n",
       "      <td>0</td>\n",
       "      <td>0</td>\n",
       "      <td>0</td>\n",
       "      <td>0</td>\n",
       "      <td>0</td>\n",
       "      <td>0</td>\n",
       "      <td>100</td>\n",
       "    </tr>\n",
       "  </tbody>\n",
       "</table>\n",
       "<p>1944 rows × 8 columns</p>\n",
       "</div>"
      ],
      "text/plain": [
       "                                  Rental                                  \\\n",
       "Month_Subscribed                 2019-07 2019-08 2019-09 2019-10 2019-11   \n",
       "event_source.hash                                                          \n",
       "0014bcaff40182200be0e062cf9051cd       0       0       0       0       0   \n",
       "0020f63be24f2eae231f5530ef3cf0d2       0       0       0       0       0   \n",
       "003de40503f12be04b110634ef7cdb61       0       0       0       0       0   \n",
       "005de991f47be96f65b894564c00ed14       0       0       0       0       0   \n",
       "00802d4fd104229876956f33cc994aa4       0       0       0       0       0   \n",
       "...                                  ...     ...     ...     ...     ...   \n",
       "ff8a4db1e6b4e55b5248badbcd71a772       0       0       0       0       0   \n",
       "ff8f6ab5f339819b046514630a89b4d9       0       0       0       0       0   \n",
       "ff96fe17e185cd4c05bec76f14fa8672       0       0       0       0       0   \n",
       "ffc01f977549ca288434079c9ca424ad       0       0       0       0       0   \n",
       "ffff41a457d4ad9618d788bdd917e4ce       0       0       0       0       0   \n",
       "\n",
       "                                                          \n",
       "Month_Subscribed                 2019-12 2020-06 2020-08  \n",
       "event_source.hash                                         \n",
       "0014bcaff40182200be0e062cf9051cd       0       0     100  \n",
       "0020f63be24f2eae231f5530ef3cf0d2       0       0     100  \n",
       "003de40503f12be04b110634ef7cdb61       0       0     100  \n",
       "005de991f47be96f65b894564c00ed14       0       0     100  \n",
       "00802d4fd104229876956f33cc994aa4       0       0     100  \n",
       "...                                  ...     ...     ...  \n",
       "ff8a4db1e6b4e55b5248badbcd71a772       0       0     100  \n",
       "ff8f6ab5f339819b046514630a89b4d9       0       0     100  \n",
       "ff96fe17e185cd4c05bec76f14fa8672       0       0     100  \n",
       "ffc01f977549ca288434079c9ca424ad       0       0     100  \n",
       "ffff41a457d4ad9618d788bdd917e4ce       0       0     100  \n",
       "\n",
       "[1944 rows x 8 columns]"
      ]
     },
     "execution_count": 185,
     "metadata": {},
     "output_type": "execute_result"
    }
   ],
   "source": [
    "extra_Peo_pivot_df"
   ]
  },
  {
   "cell_type": "code",
   "execution_count": 186,
   "metadata": {},
   "outputs": [],
   "source": [
    "extra_Peo_pivot_df.to_csv(\"data/user_profile/BB_extra_Peo_usage_pivot_extended.csv\")"
   ]
  },
  {
   "cell_type": "markdown",
   "metadata": {},
   "source": [
    "#### Insights\n",
    "- 1955 Unique customers - extra Channel purchases in moths vary from 2019-07 to 2020-08\n",
    "- No all monthly purchase information\n",
    "- Users have interacted only once. Therfore not possible to extract a rating"
   ]
  },
  {
   "cell_type": "code",
   "execution_count": null,
   "metadata": {},
   "outputs": [],
   "source": []
  },
  {
   "cell_type": "markdown",
   "metadata": {},
   "source": [
    "## Exporting VAS names list"
   ]
  },
  {
   "cell_type": "code",
   "execution_count": 120,
   "metadata": {},
   "outputs": [
    {
     "data": {
      "text/html": [
       "<div>\n",
       "<style scoped>\n",
       "    .dataframe tbody tr th:only-of-type {\n",
       "        vertical-align: middle;\n",
       "    }\n",
       "\n",
       "    .dataframe tbody tr th {\n",
       "        vertical-align: top;\n",
       "    }\n",
       "\n",
       "    .dataframe thead th {\n",
       "        text-align: right;\n",
       "    }\n",
       "</style>\n",
       "<table border=\"1\" class=\"dataframe\">\n",
       "  <thead>\n",
       "    <tr style=\"text-align: right;\">\n",
       "      <th></th>\n",
       "      <th>VAS</th>\n",
       "    </tr>\n",
       "  </thead>\n",
       "  <tbody>\n",
       "    <tr>\n",
       "      <th>0</th>\n",
       "      <td>P-Basic1_Tele Life</td>\n",
       "    </tr>\n",
       "    <tr>\n",
       "      <th>1</th>\n",
       "      <td>V-Plus4_TeleLife</td>\n",
       "    </tr>\n",
       "    <tr>\n",
       "      <th>2</th>\n",
       "      <td>V-Plus1_TeleLife</td>\n",
       "    </tr>\n",
       "    <tr>\n",
       "      <th>3</th>\n",
       "      <td>V-Basic1_TeleLife</td>\n",
       "    </tr>\n",
       "    <tr>\n",
       "      <th>4</th>\n",
       "      <td>V_Telehealth</td>\n",
       "    </tr>\n",
       "    <tr>\n",
       "      <th>...</th>\n",
       "      <td>...</td>\n",
       "    </tr>\n",
       "    <tr>\n",
       "      <th>123</th>\n",
       "      <td>AB_Parallel line Installation</td>\n",
       "    </tr>\n",
       "    <tr>\n",
       "      <th>124</th>\n",
       "      <td>Meet Lite</td>\n",
       "    </tr>\n",
       "    <tr>\n",
       "      <th>125</th>\n",
       "      <td>Meet Max</td>\n",
       "    </tr>\n",
       "    <tr>\n",
       "      <th>126</th>\n",
       "      <td>Edu Lite</td>\n",
       "    </tr>\n",
       "    <tr>\n",
       "      <th>127</th>\n",
       "      <td>BB_Messenger Bundle</td>\n",
       "    </tr>\n",
       "  </tbody>\n",
       "</table>\n",
       "<p>128 rows × 1 columns</p>\n",
       "</div>"
      ],
      "text/plain": [
       "                               VAS\n",
       "0               P-Basic1_Tele Life\n",
       "1                 V-Plus4_TeleLife\n",
       "2                 V-Plus1_TeleLife\n",
       "3                V-Basic1_TeleLife\n",
       "4                     V_Telehealth\n",
       "..                             ...\n",
       "123  AB_Parallel line Installation\n",
       "124                      Meet Lite\n",
       "125                       Meet Max\n",
       "126                       Edu Lite\n",
       "127            BB_Messenger Bundle\n",
       "\n",
       "[128 rows x 1 columns]"
      ]
     },
     "execution_count": 120,
     "metadata": {},
     "output_type": "execute_result"
    }
   ],
   "source": [
    "vas_list = vas_final_df['VAS'].unique()\n",
    "vas_list_df = pd.DataFrame({\"VAS\":vas_list })\n",
    "vas_list_df"
   ]
  },
  {
   "cell_type": "code",
   "execution_count": 121,
   "metadata": {},
   "outputs": [],
   "source": [
    "vas_list_df.to_csv(\"data/product_catalog/VAS_Names_Only_List.csv\")"
   ]
  },
  {
   "cell_type": "code",
   "execution_count": null,
   "metadata": {},
   "outputs": [],
   "source": []
  },
  {
   "cell_type": "markdown",
   "metadata": {},
   "source": [
    "## Exporting Vas info Dataset"
   ]
  },
  {
   "cell_type": "code",
   "execution_count": 122,
   "metadata": {},
   "outputs": [],
   "source": [
    "vas_info_df = vas_final_df[[\"VAS\",\"Rental\",\"One_Time_Charge\",\"VAS_Type\"]].drop_duplicates([\"VAS\"],keep=\"last\")"
   ]
  },
  {
   "cell_type": "code",
   "execution_count": 123,
   "metadata": {},
   "outputs": [],
   "source": [
    "vas_info_df.reset_index(inplace=True)"
   ]
  },
  {
   "cell_type": "code",
   "execution_count": 124,
   "metadata": {},
   "outputs": [],
   "source": [
    "vas_info_df.drop([\"index\"],axis=1, inplace=True)"
   ]
  },
  {
   "cell_type": "code",
   "execution_count": 125,
   "metadata": {},
   "outputs": [
    {
     "name": "stdout",
     "output_type": "stream",
     "text": [
      "<class 'pandas.core.frame.DataFrame'>\n",
      "RangeIndex: 128 entries, 0 to 127\n",
      "Data columns (total 4 columns):\n",
      " #   Column           Non-Null Count  Dtype  \n",
      "---  ------           --------------  -----  \n",
      " 0   VAS              128 non-null    object \n",
      " 1   Rental           25 non-null     object \n",
      " 2   One_Time_Charge  3 non-null      float64\n",
      " 3   VAS_Type         128 non-null    object \n",
      "dtypes: float64(1), object(3)\n",
      "memory usage: 4.1+ KB\n"
     ]
    }
   ],
   "source": [
    "vas_info_df.info()"
   ]
  },
  {
   "cell_type": "code",
   "execution_count": 126,
   "metadata": {},
   "outputs": [],
   "source": [
    "vas_info_df.to_csv(\"data/product_catalog/VAS_Products_Info.csv\")"
   ]
  },
  {
   "cell_type": "code",
   "execution_count": null,
   "metadata": {},
   "outputs": [],
   "source": []
  },
  {
   "cell_type": "markdown",
   "metadata": {},
   "source": [
    "## Exporting VAS aggregated DataFrame"
   ]
  },
  {
   "cell_type": "code",
   "execution_count": 127,
   "metadata": {},
   "outputs": [],
   "source": [
    "vas_final_df.drop_duplicates([\"event_source.hash\",\"VAS\"],inplace=True,keep=\"last\")"
   ]
  },
  {
   "cell_type": "code",
   "execution_count": 128,
   "metadata": {},
   "outputs": [
    {
     "data": {
      "text/plain": [
       "event_source.hash         0\n",
       "ACCOUNT_NUM.hash          0\n",
       "CUSTOMER_REF.hash         0\n",
       "VAS                       0\n",
       "Month_Subscribed          0\n",
       "Rental                68250\n",
       "One_Time_Charge      100675\n",
       "VAS_Type                  0\n",
       "dtype: int64"
      ]
     },
     "execution_count": 128,
     "metadata": {},
     "output_type": "execute_result"
    }
   ],
   "source": [
    "vas_final_df.isnull().sum(axis=0)"
   ]
  },
  {
   "cell_type": "code",
   "execution_count": 129,
   "metadata": {},
   "outputs": [],
   "source": [
    "vas_final_df.fillna(0,inplace=True)"
   ]
  },
  {
   "cell_type": "markdown",
   "metadata": {},
   "source": [
    "### Voice VAS Aggregation"
   ]
  },
  {
   "cell_type": "code",
   "execution_count": 130,
   "metadata": {},
   "outputs": [
    {
     "name": "stderr",
     "output_type": "stream",
     "text": [
      "<ipython-input-130-5bd44c520773>:2: SettingWithCopyWarning: \n",
      "A value is trying to be set on a copy of a slice from a DataFrame.\n",
      "Try using .loc[row_indexer,col_indexer] = value instead\n",
      "\n",
      "See the caveats in the documentation: https://pandas.pydata.org/pandas-docs/stable/user_guide/indexing.html#returning-a-view-versus-a-copy\n",
      "  voice_agg_df[\"VAS_Count\"] = 1\n"
     ]
    }
   ],
   "source": [
    "voice_agg_df = vas_final_df[(vas_final_df[\"VAS_Type\"]==\"Voice\")]\n",
    "voice_agg_df[\"VAS_Count\"] = 1"
   ]
  },
  {
   "cell_type": "code",
   "execution_count": 131,
   "metadata": {},
   "outputs": [],
   "source": [
    "voice_agg_df = voice_agg_df.groupby('event_source.hash', as_index=False).agg(list)"
   ]
  },
  {
   "cell_type": "code",
   "execution_count": 133,
   "metadata": {},
   "outputs": [
    {
     "data": {
      "text/plain": [
       "4020"
      ]
     },
     "execution_count": 133,
     "metadata": {},
     "output_type": "execute_result"
    }
   ],
   "source": [
    "len(voice_agg_df[\"event_source.hash\"].unique())"
   ]
  },
  {
   "cell_type": "code",
   "execution_count": 134,
   "metadata": {},
   "outputs": [],
   "source": [
    "voice_agg_df[\"ACCOUNT_NUM.hash\"]= voice_agg_df[\"ACCOUNT_NUM.hash\"].apply(lambda x: x[0])\n",
    "voice_agg_df[\"CUSTOMER_REF.hash\"]= voice_agg_df[\"CUSTOMER_REF.hash\"].apply(lambda x: x[0])\n",
    "voice_agg_df.drop([\"VAS_Type\"],axis=1,inplace=True)\n",
    "voice_agg_df.rename(columns={\"VAS\":\"Voice_VAS_Package\",\"Month_Subscribed\":\"Voice_VAS_Month_Subscribed\",\"Rental\":\"Voice_VAS_Rental\",\"One_Time_Charge\":\"Voice_VAS_One_Time_Charge\"},inplace=True)\n",
    "voice_agg_df['VAS_Count'] = voice_agg_df.apply(lambda x: len(x['VAS_Count']), axis=1)"
   ]
  },
  {
   "cell_type": "code",
   "execution_count": 135,
   "metadata": {},
   "outputs": [
    {
     "data": {
      "text/html": [
       "<div>\n",
       "<style scoped>\n",
       "    .dataframe tbody tr th:only-of-type {\n",
       "        vertical-align: middle;\n",
       "    }\n",
       "\n",
       "    .dataframe tbody tr th {\n",
       "        vertical-align: top;\n",
       "    }\n",
       "\n",
       "    .dataframe thead th {\n",
       "        text-align: right;\n",
       "    }\n",
       "</style>\n",
       "<table border=\"1\" class=\"dataframe\">\n",
       "  <thead>\n",
       "    <tr style=\"text-align: right;\">\n",
       "      <th></th>\n",
       "      <th>event_source.hash</th>\n",
       "      <th>ACCOUNT_NUM.hash</th>\n",
       "      <th>CUSTOMER_REF.hash</th>\n",
       "      <th>Voice_VAS_Package</th>\n",
       "      <th>Voice_VAS_Month_Subscribed</th>\n",
       "      <th>Voice_VAS_Rental</th>\n",
       "      <th>Voice_VAS_One_Time_Charge</th>\n",
       "      <th>VAS_Count</th>\n",
       "    </tr>\n",
       "  </thead>\n",
       "  <tbody>\n",
       "    <tr>\n",
       "      <th>0</th>\n",
       "      <td>00099ff6e175f2b49e7067b20d69e4c3</td>\n",
       "      <td>6b4bfa1e32f513071c6b138a86c3bac9</td>\n",
       "      <td>0552174bba6950523aa45450f6690d02</td>\n",
       "      <td>[V_Sisu Connect]</td>\n",
       "      <td>[2018-08]</td>\n",
       "      <td>[30]</td>\n",
       "      <td>[0.0]</td>\n",
       "      <td>1</td>\n",
       "    </tr>\n",
       "    <tr>\n",
       "      <th>1</th>\n",
       "      <td>00171279c5c3c6731802925d8409245e</td>\n",
       "      <td>76d9ebdabc9289f652367e82f2371dc8</td>\n",
       "      <td>7ea6989a212eb0a84f9d551b98d73dbb</td>\n",
       "      <td>[V-Basic1_TeleLife, V_E-channeling Subscription]</td>\n",
       "      <td>[2018-08, 2019-01]</td>\n",
       "      <td>[60, 0]</td>\n",
       "      <td>[0.0, 0.0]</td>\n",
       "      <td>2</td>\n",
       "    </tr>\n",
       "    <tr>\n",
       "      <th>2</th>\n",
       "      <td>002263311c9590ff1f95cac37b673672</td>\n",
       "      <td>d5b3f685fee264650b3de22f2bef0023</td>\n",
       "      <td>5dba81403ff06d5af8d260930300462e</td>\n",
       "      <td>[V_Sisu Connect]</td>\n",
       "      <td>[2018-08]</td>\n",
       "      <td>[30]</td>\n",
       "      <td>[0.0]</td>\n",
       "      <td>1</td>\n",
       "    </tr>\n",
       "    <tr>\n",
       "      <th>3</th>\n",
       "      <td>00233a32d63e50b6925ef83a9c8aa390</td>\n",
       "      <td>01f29baefa8fabbd7351cc8260f56323</td>\n",
       "      <td>bb9f9455c1930ff40863113204a38010</td>\n",
       "      <td>[V_Sisu Connect]</td>\n",
       "      <td>[2018-08]</td>\n",
       "      <td>[30]</td>\n",
       "      <td>[0.0]</td>\n",
       "      <td>1</td>\n",
       "    </tr>\n",
       "    <tr>\n",
       "      <th>4</th>\n",
       "      <td>002fb47f60400713c854b0f69ff78c0a</td>\n",
       "      <td>86562710d6118c9ff1c0426d6d6d4fe4</td>\n",
       "      <td>afbd804ec207ff59a84a59c03152550b</td>\n",
       "      <td>[V_E-channeling Registration]</td>\n",
       "      <td>[2018-08]</td>\n",
       "      <td>[0]</td>\n",
       "      <td>[0.0]</td>\n",
       "      <td>1</td>\n",
       "    </tr>\n",
       "    <tr>\n",
       "      <th>...</th>\n",
       "      <td>...</td>\n",
       "      <td>...</td>\n",
       "      <td>...</td>\n",
       "      <td>...</td>\n",
       "      <td>...</td>\n",
       "      <td>...</td>\n",
       "      <td>...</td>\n",
       "      <td>...</td>\n",
       "    </tr>\n",
       "    <tr>\n",
       "      <th>4015</th>\n",
       "      <td>ffb9cb2e838925de5a75764fd59c6ea1</td>\n",
       "      <td>141bb772e7009065289946c12f7f3e3a</td>\n",
       "      <td>820e5edf9a704ae11fb65e019c89c0ef</td>\n",
       "      <td>[V_IDD, V_SLT CLI]</td>\n",
       "      <td>[2020-01, 2020-01]</td>\n",
       "      <td>[0, 0]</td>\n",
       "      <td>[0.0, 0.0]</td>\n",
       "      <td>2</td>\n",
       "    </tr>\n",
       "    <tr>\n",
       "      <th>4016</th>\n",
       "      <td>ffc22c155acb20eb0d920e418c0bf3ac</td>\n",
       "      <td>cc88c49f580c13600e99dfd9920d05e9</td>\n",
       "      <td>ac995f79a7164b89de084396352b343b</td>\n",
       "      <td>[V_Sisu Connect]</td>\n",
       "      <td>[2014-06]</td>\n",
       "      <td>[30]</td>\n",
       "      <td>[0.0]</td>\n",
       "      <td>1</td>\n",
       "    </tr>\n",
       "    <tr>\n",
       "      <th>4017</th>\n",
       "      <td>ffdc02dcce33f1448252d36624036703</td>\n",
       "      <td>01f29baefa8fabbd7351cc8260f56323</td>\n",
       "      <td>bb9f9455c1930ff40863113204a38010</td>\n",
       "      <td>[V_Sisu Connect]</td>\n",
       "      <td>[2018-08]</td>\n",
       "      <td>[30]</td>\n",
       "      <td>[0.0]</td>\n",
       "      <td>1</td>\n",
       "    </tr>\n",
       "    <tr>\n",
       "      <th>4018</th>\n",
       "      <td>ffea7843d6d18363551948c6553ca77a</td>\n",
       "      <td>16ba7704ef69803d3d41ebde44ad1c06</td>\n",
       "      <td>f7f58f60160d44ff1205c52c8676999f</td>\n",
       "      <td>[V_Sisu Connect]</td>\n",
       "      <td>[2018-08]</td>\n",
       "      <td>[30]</td>\n",
       "      <td>[0.0]</td>\n",
       "      <td>1</td>\n",
       "    </tr>\n",
       "    <tr>\n",
       "      <th>4019</th>\n",
       "      <td>fffbdf8e718726a5dac393d2014a83cc</td>\n",
       "      <td>949e14e85d36002ffb954d42d3366936</td>\n",
       "      <td>51ee71e46ba64034adaf383345028fb8</td>\n",
       "      <td>[V_Sisu Connect]</td>\n",
       "      <td>[2016-10]</td>\n",
       "      <td>[30]</td>\n",
       "      <td>[0.0]</td>\n",
       "      <td>1</td>\n",
       "    </tr>\n",
       "  </tbody>\n",
       "</table>\n",
       "<p>4020 rows × 8 columns</p>\n",
       "</div>"
      ],
      "text/plain": [
       "                     event_source.hash                  ACCOUNT_NUM.hash  \\\n",
       "0     00099ff6e175f2b49e7067b20d69e4c3  6b4bfa1e32f513071c6b138a86c3bac9   \n",
       "1     00171279c5c3c6731802925d8409245e  76d9ebdabc9289f652367e82f2371dc8   \n",
       "2     002263311c9590ff1f95cac37b673672  d5b3f685fee264650b3de22f2bef0023   \n",
       "3     00233a32d63e50b6925ef83a9c8aa390  01f29baefa8fabbd7351cc8260f56323   \n",
       "4     002fb47f60400713c854b0f69ff78c0a  86562710d6118c9ff1c0426d6d6d4fe4   \n",
       "...                                ...                               ...   \n",
       "4015  ffb9cb2e838925de5a75764fd59c6ea1  141bb772e7009065289946c12f7f3e3a   \n",
       "4016  ffc22c155acb20eb0d920e418c0bf3ac  cc88c49f580c13600e99dfd9920d05e9   \n",
       "4017  ffdc02dcce33f1448252d36624036703  01f29baefa8fabbd7351cc8260f56323   \n",
       "4018  ffea7843d6d18363551948c6553ca77a  16ba7704ef69803d3d41ebde44ad1c06   \n",
       "4019  fffbdf8e718726a5dac393d2014a83cc  949e14e85d36002ffb954d42d3366936   \n",
       "\n",
       "                     CUSTOMER_REF.hash  \\\n",
       "0     0552174bba6950523aa45450f6690d02   \n",
       "1     7ea6989a212eb0a84f9d551b98d73dbb   \n",
       "2     5dba81403ff06d5af8d260930300462e   \n",
       "3     bb9f9455c1930ff40863113204a38010   \n",
       "4     afbd804ec207ff59a84a59c03152550b   \n",
       "...                                ...   \n",
       "4015  820e5edf9a704ae11fb65e019c89c0ef   \n",
       "4016  ac995f79a7164b89de084396352b343b   \n",
       "4017  bb9f9455c1930ff40863113204a38010   \n",
       "4018  f7f58f60160d44ff1205c52c8676999f   \n",
       "4019  51ee71e46ba64034adaf383345028fb8   \n",
       "\n",
       "                                     Voice_VAS_Package  \\\n",
       "0                                     [V_Sisu Connect]   \n",
       "1     [V-Basic1_TeleLife, V_E-channeling Subscription]   \n",
       "2                                     [V_Sisu Connect]   \n",
       "3                                     [V_Sisu Connect]   \n",
       "4                        [V_E-channeling Registration]   \n",
       "...                                                ...   \n",
       "4015                                [V_IDD, V_SLT CLI]   \n",
       "4016                                  [V_Sisu Connect]   \n",
       "4017                                  [V_Sisu Connect]   \n",
       "4018                                  [V_Sisu Connect]   \n",
       "4019                                  [V_Sisu Connect]   \n",
       "\n",
       "     Voice_VAS_Month_Subscribed Voice_VAS_Rental Voice_VAS_One_Time_Charge  \\\n",
       "0                     [2018-08]             [30]                     [0.0]   \n",
       "1            [2018-08, 2019-01]          [60, 0]                [0.0, 0.0]   \n",
       "2                     [2018-08]             [30]                     [0.0]   \n",
       "3                     [2018-08]             [30]                     [0.0]   \n",
       "4                     [2018-08]              [0]                     [0.0]   \n",
       "...                         ...              ...                       ...   \n",
       "4015         [2020-01, 2020-01]           [0, 0]                [0.0, 0.0]   \n",
       "4016                  [2014-06]             [30]                     [0.0]   \n",
       "4017                  [2018-08]             [30]                     [0.0]   \n",
       "4018                  [2018-08]             [30]                     [0.0]   \n",
       "4019                  [2016-10]             [30]                     [0.0]   \n",
       "\n",
       "      VAS_Count  \n",
       "0             1  \n",
       "1             2  \n",
       "2             1  \n",
       "3             1  \n",
       "4             1  \n",
       "...         ...  \n",
       "4015          2  \n",
       "4016          1  \n",
       "4017          1  \n",
       "4018          1  \n",
       "4019          1  \n",
       "\n",
       "[4020 rows x 8 columns]"
      ]
     },
     "execution_count": 135,
     "metadata": {},
     "output_type": "execute_result"
    }
   ],
   "source": [
    "voice_agg_df"
   ]
  },
  {
   "cell_type": "code",
   "execution_count": 136,
   "metadata": {},
   "outputs": [],
   "source": [
    "voice_agg_df.to_csv(\"data/user_profile/VAS_Voice_Aggregated.csv\")"
   ]
  },
  {
   "cell_type": "code",
   "execution_count": null,
   "metadata": {},
   "outputs": [],
   "source": []
  },
  {
   "cell_type": "markdown",
   "metadata": {},
   "source": [
    "### BB VAS Aggregation"
   ]
  },
  {
   "cell_type": "code",
   "execution_count": 137,
   "metadata": {},
   "outputs": [
    {
     "name": "stderr",
     "output_type": "stream",
     "text": [
      "<ipython-input-137-9f0bd0903247>:2: SettingWithCopyWarning: \n",
      "A value is trying to be set on a copy of a slice from a DataFrame.\n",
      "Try using .loc[row_indexer,col_indexer] = value instead\n",
      "\n",
      "See the caveats in the documentation: https://pandas.pydata.org/pandas-docs/stable/user_guide/indexing.html#returning-a-view-versus-a-copy\n",
      "  bb_agg_df[\"VAS_Count\"] = 1\n"
     ]
    }
   ],
   "source": [
    "bb_agg_df = vas_final_df[(vas_final_df[\"VAS_Type\"]==\"BB\")]\n",
    "bb_agg_df[\"VAS_Count\"] = 1"
   ]
  },
  {
   "cell_type": "code",
   "execution_count": 138,
   "metadata": {},
   "outputs": [],
   "source": [
    "bb_agg_df = bb_agg_df.groupby('event_source.hash', as_index=False).agg(list)"
   ]
  },
  {
   "cell_type": "code",
   "execution_count": 139,
   "metadata": {},
   "outputs": [],
   "source": [
    "bb_agg_df[\"ACCOUNT_NUM.hash\"]= bb_agg_df[\"ACCOUNT_NUM.hash\"].apply(lambda x: x[0])\n",
    "bb_agg_df[\"CUSTOMER_REF.hash\"]= bb_agg_df[\"CUSTOMER_REF.hash\"].apply(lambda x: x[0])\n",
    "bb_agg_df.drop([\"VAS_Type\"],axis=1,inplace=True)\n",
    "bb_agg_df.rename(columns={\"VAS\":\"BB_VAS_Package\",\"Month_Subscribed\":\"BB_VAS_Month_Subscribed\",\"Rental\":\"BB_VAS_Rental\",\"One_Time_Charge\":\"BB_VAS_One_Time_Charge\"},inplace=True)\n",
    "bb_agg_df['VAS_Count'] = bb_agg_df.apply(lambda x: len(x['VAS_Count']), axis=1)"
   ]
  },
  {
   "cell_type": "code",
   "execution_count": 140,
   "metadata": {},
   "outputs": [
    {
     "data": {
      "text/html": [
       "<div>\n",
       "<style scoped>\n",
       "    .dataframe tbody tr th:only-of-type {\n",
       "        vertical-align: middle;\n",
       "    }\n",
       "\n",
       "    .dataframe tbody tr th {\n",
       "        vertical-align: top;\n",
       "    }\n",
       "\n",
       "    .dataframe thead th {\n",
       "        text-align: right;\n",
       "    }\n",
       "</style>\n",
       "<table border=\"1\" class=\"dataframe\">\n",
       "  <thead>\n",
       "    <tr style=\"text-align: right;\">\n",
       "      <th></th>\n",
       "      <th>event_source.hash</th>\n",
       "      <th>ACCOUNT_NUM.hash</th>\n",
       "      <th>CUSTOMER_REF.hash</th>\n",
       "      <th>BB_VAS_Package</th>\n",
       "      <th>BB_VAS_Month_Subscribed</th>\n",
       "      <th>BB_VAS_Rental</th>\n",
       "      <th>BB_VAS_One_Time_Charge</th>\n",
       "      <th>VAS_Count</th>\n",
       "    </tr>\n",
       "  </thead>\n",
       "  <tbody>\n",
       "    <tr>\n",
       "      <th>0</th>\n",
       "      <td>000f86cd741d4e51303065b5f868e5ab</td>\n",
       "      <td>bd0cc5e96b24df6625fc68cbaf71b555</td>\n",
       "      <td>df4bc5da4eaaaab1d937c3fd2a699c3f</td>\n",
       "      <td>[BB_Report Subscription Charge, BB_YouTube Bun...</td>\n",
       "      <td>[2021-03, 2021-05, 2021-21]</td>\n",
       "      <td>[40.0, 155, 16.07]</td>\n",
       "      <td>[0.0, 0.0, 0.0]</td>\n",
       "      <td>3</td>\n",
       "    </tr>\n",
       "    <tr>\n",
       "      <th>1</th>\n",
       "      <td>00114ae408aa3b489b3f5d9baf7eb7ac</td>\n",
       "      <td>dd5253ea4772b427cc0e87ff6535b058</td>\n",
       "      <td>bdfc0b71edc02a021536f91cff85f00a</td>\n",
       "      <td>[BB_Report Subscription Charge, BB Personal St...</td>\n",
       "      <td>[2021-03, 2021-06]</td>\n",
       "      <td>[40.0, 50.0]</td>\n",
       "      <td>[0.0, 0.0]</td>\n",
       "      <td>2</td>\n",
       "    </tr>\n",
       "    <tr>\n",
       "      <th>2</th>\n",
       "      <td>0017f09b5ff65c692de63b95d1edee27</td>\n",
       "      <td>0e1fe0d01f3a2e9619999a1a634ec427</td>\n",
       "      <td>cd3b840fb0da1abcc5bfdebaca6cd761</td>\n",
       "      <td>[BB_Report Subscription Charge, BB_YouTube Bun...</td>\n",
       "      <td>[2021-03, 2021-04, 2021-21]</td>\n",
       "      <td>[40.0, 155, 14.29]</td>\n",
       "      <td>[0.0, 0.0, 0.0]</td>\n",
       "      <td>3</td>\n",
       "    </tr>\n",
       "    <tr>\n",
       "      <th>3</th>\n",
       "      <td>00225f30e3f5a4ac69240126f024755f</td>\n",
       "      <td>bd0cc5e96b24df6625fc68cbaf71b555</td>\n",
       "      <td>df4bc5da4eaaaab1d937c3fd2a699c3f</td>\n",
       "      <td>[BB_Personal Storage, BB_SLT BroadBand Service...</td>\n",
       "      <td>[2018-09, 2018-09, 2021-03, 2021-05, 2021-21]</td>\n",
       "      <td>[0, 8890.0, 40.0, 155, 16.07]</td>\n",
       "      <td>[0.0, 0.0, 0.0, 0.0, 0.0]</td>\n",
       "      <td>5</td>\n",
       "    </tr>\n",
       "    <tr>\n",
       "      <th>4</th>\n",
       "      <td>00233a32d63e50b6925ef83a9c8aa390</td>\n",
       "      <td>01f29baefa8fabbd7351cc8260f56323</td>\n",
       "      <td>bb9f9455c1930ff40863113204a38010</td>\n",
       "      <td>[BB Personal Storage]</td>\n",
       "      <td>[2021-21]</td>\n",
       "      <td>[14.29]</td>\n",
       "      <td>[0.0]</td>\n",
       "      <td>1</td>\n",
       "    </tr>\n",
       "    <tr>\n",
       "      <th>...</th>\n",
       "      <td>...</td>\n",
       "      <td>...</td>\n",
       "      <td>...</td>\n",
       "      <td>...</td>\n",
       "      <td>...</td>\n",
       "      <td>...</td>\n",
       "      <td>...</td>\n",
       "      <td>...</td>\n",
       "    </tr>\n",
       "    <tr>\n",
       "      <th>15455</th>\n",
       "      <td>fffb5e3c6693a35fbab056cb7bb374e8</td>\n",
       "      <td>af66a61a98c385584e3fccfd8dcc5412</td>\n",
       "      <td>1eca97f3ce8ee40e866677fdccc1d60e</td>\n",
       "      <td>[BB_SLT BroadBand Service, BB_Report Subscript...</td>\n",
       "      <td>[2019-04, 2021-03, 2021-06]</td>\n",
       "      <td>[1490.0, 40.0, 50.0]</td>\n",
       "      <td>[0.0, 0.0, 0.0]</td>\n",
       "      <td>3</td>\n",
       "    </tr>\n",
       "    <tr>\n",
       "      <th>15456</th>\n",
       "      <td>fffbdf8e718726a5dac393d2014a83cc</td>\n",
       "      <td>949e14e85d36002ffb954d42d3366936</td>\n",
       "      <td>51ee71e46ba64034adaf383345028fb8</td>\n",
       "      <td>[BB_Report Subscription Charge, BB_Messenger B...</td>\n",
       "      <td>[2021-03, 2021-05, 2021-05]</td>\n",
       "      <td>[40.0, 45, 155]</td>\n",
       "      <td>[0.0, 0.0, 0.0]</td>\n",
       "      <td>3</td>\n",
       "    </tr>\n",
       "    <tr>\n",
       "      <th>15457</th>\n",
       "      <td>fffc787f7b89f0a9401de0dbe3ab2206</td>\n",
       "      <td>bd0cc5e96b24df6625fc68cbaf71b555</td>\n",
       "      <td>df4bc5da4eaaaab1d937c3fd2a699c3f</td>\n",
       "      <td>[BB_Report Subscription Charge, BB_YouTube Bun...</td>\n",
       "      <td>[2021-03, 2021-05, 2021-21]</td>\n",
       "      <td>[40.0, 155, 14.29]</td>\n",
       "      <td>[0.0, 0.0, 0.0]</td>\n",
       "      <td>3</td>\n",
       "    </tr>\n",
       "    <tr>\n",
       "      <th>15458</th>\n",
       "      <td>ffff0039c1e0c380c4b890e6997d33c5</td>\n",
       "      <td>0e1fe0d01f3a2e9619999a1a634ec427</td>\n",
       "      <td>cd3b840fb0da1abcc5bfdebaca6cd761</td>\n",
       "      <td>[BB_Report Subscription Charge, BB_YouTube Bun...</td>\n",
       "      <td>[2021-03, 2021-04, 2021-21]</td>\n",
       "      <td>[40.0, 155, 14.29]</td>\n",
       "      <td>[0.0, 0.0, 0.0]</td>\n",
       "      <td>3</td>\n",
       "    </tr>\n",
       "    <tr>\n",
       "      <th>15459</th>\n",
       "      <td>ffff43d0cc07aff0964f0ae29aa10363</td>\n",
       "      <td>bd0cc5e96b24df6625fc68cbaf71b555</td>\n",
       "      <td>df4bc5da4eaaaab1d937c3fd2a699c3f</td>\n",
       "      <td>[BB_Report Subscription Charge, BB_YouTube Bun...</td>\n",
       "      <td>[2021-03, 2021-05, 2021-21]</td>\n",
       "      <td>[40.0, 155, 14.29]</td>\n",
       "      <td>[0.0, 0.0, 0.0]</td>\n",
       "      <td>3</td>\n",
       "    </tr>\n",
       "  </tbody>\n",
       "</table>\n",
       "<p>15460 rows × 8 columns</p>\n",
       "</div>"
      ],
      "text/plain": [
       "                      event_source.hash                  ACCOUNT_NUM.hash  \\\n",
       "0      000f86cd741d4e51303065b5f868e5ab  bd0cc5e96b24df6625fc68cbaf71b555   \n",
       "1      00114ae408aa3b489b3f5d9baf7eb7ac  dd5253ea4772b427cc0e87ff6535b058   \n",
       "2      0017f09b5ff65c692de63b95d1edee27  0e1fe0d01f3a2e9619999a1a634ec427   \n",
       "3      00225f30e3f5a4ac69240126f024755f  bd0cc5e96b24df6625fc68cbaf71b555   \n",
       "4      00233a32d63e50b6925ef83a9c8aa390  01f29baefa8fabbd7351cc8260f56323   \n",
       "...                                 ...                               ...   \n",
       "15455  fffb5e3c6693a35fbab056cb7bb374e8  af66a61a98c385584e3fccfd8dcc5412   \n",
       "15456  fffbdf8e718726a5dac393d2014a83cc  949e14e85d36002ffb954d42d3366936   \n",
       "15457  fffc787f7b89f0a9401de0dbe3ab2206  bd0cc5e96b24df6625fc68cbaf71b555   \n",
       "15458  ffff0039c1e0c380c4b890e6997d33c5  0e1fe0d01f3a2e9619999a1a634ec427   \n",
       "15459  ffff43d0cc07aff0964f0ae29aa10363  bd0cc5e96b24df6625fc68cbaf71b555   \n",
       "\n",
       "                      CUSTOMER_REF.hash  \\\n",
       "0      df4bc5da4eaaaab1d937c3fd2a699c3f   \n",
       "1      bdfc0b71edc02a021536f91cff85f00a   \n",
       "2      cd3b840fb0da1abcc5bfdebaca6cd761   \n",
       "3      df4bc5da4eaaaab1d937c3fd2a699c3f   \n",
       "4      bb9f9455c1930ff40863113204a38010   \n",
       "...                                 ...   \n",
       "15455  1eca97f3ce8ee40e866677fdccc1d60e   \n",
       "15456  51ee71e46ba64034adaf383345028fb8   \n",
       "15457  df4bc5da4eaaaab1d937c3fd2a699c3f   \n",
       "15458  cd3b840fb0da1abcc5bfdebaca6cd761   \n",
       "15459  df4bc5da4eaaaab1d937c3fd2a699c3f   \n",
       "\n",
       "                                          BB_VAS_Package  \\\n",
       "0      [BB_Report Subscription Charge, BB_YouTube Bun...   \n",
       "1      [BB_Report Subscription Charge, BB Personal St...   \n",
       "2      [BB_Report Subscription Charge, BB_YouTube Bun...   \n",
       "3      [BB_Personal Storage, BB_SLT BroadBand Service...   \n",
       "4                                  [BB Personal Storage]   \n",
       "...                                                  ...   \n",
       "15455  [BB_SLT BroadBand Service, BB_Report Subscript...   \n",
       "15456  [BB_Report Subscription Charge, BB_Messenger B...   \n",
       "15457  [BB_Report Subscription Charge, BB_YouTube Bun...   \n",
       "15458  [BB_Report Subscription Charge, BB_YouTube Bun...   \n",
       "15459  [BB_Report Subscription Charge, BB_YouTube Bun...   \n",
       "\n",
       "                             BB_VAS_Month_Subscribed  \\\n",
       "0                        [2021-03, 2021-05, 2021-21]   \n",
       "1                                 [2021-03, 2021-06]   \n",
       "2                        [2021-03, 2021-04, 2021-21]   \n",
       "3      [2018-09, 2018-09, 2021-03, 2021-05, 2021-21]   \n",
       "4                                          [2021-21]   \n",
       "...                                              ...   \n",
       "15455                    [2019-04, 2021-03, 2021-06]   \n",
       "15456                    [2021-03, 2021-05, 2021-05]   \n",
       "15457                    [2021-03, 2021-05, 2021-21]   \n",
       "15458                    [2021-03, 2021-04, 2021-21]   \n",
       "15459                    [2021-03, 2021-05, 2021-21]   \n",
       "\n",
       "                       BB_VAS_Rental     BB_VAS_One_Time_Charge  VAS_Count  \n",
       "0                 [40.0, 155, 16.07]            [0.0, 0.0, 0.0]          3  \n",
       "1                       [40.0, 50.0]                 [0.0, 0.0]          2  \n",
       "2                 [40.0, 155, 14.29]            [0.0, 0.0, 0.0]          3  \n",
       "3      [0, 8890.0, 40.0, 155, 16.07]  [0.0, 0.0, 0.0, 0.0, 0.0]          5  \n",
       "4                            [14.29]                      [0.0]          1  \n",
       "...                              ...                        ...        ...  \n",
       "15455           [1490.0, 40.0, 50.0]            [0.0, 0.0, 0.0]          3  \n",
       "15456                [40.0, 45, 155]            [0.0, 0.0, 0.0]          3  \n",
       "15457             [40.0, 155, 14.29]            [0.0, 0.0, 0.0]          3  \n",
       "15458             [40.0, 155, 14.29]            [0.0, 0.0, 0.0]          3  \n",
       "15459             [40.0, 155, 14.29]            [0.0, 0.0, 0.0]          3  \n",
       "\n",
       "[15460 rows x 8 columns]"
      ]
     },
     "execution_count": 140,
     "metadata": {},
     "output_type": "execute_result"
    }
   ],
   "source": [
    "bb_agg_df"
   ]
  },
  {
   "cell_type": "code",
   "execution_count": 141,
   "metadata": {},
   "outputs": [
    {
     "data": {
      "text/plain": [
       "15460"
      ]
     },
     "execution_count": 141,
     "metadata": {},
     "output_type": "execute_result"
    }
   ],
   "source": [
    "len(bb_agg_df[\"event_source.hash\"].unique())"
   ]
  },
  {
   "cell_type": "code",
   "execution_count": 142,
   "metadata": {},
   "outputs": [],
   "source": [
    "bb_agg_df.to_csv(\"data/user_profile/VAS_BB_Aggregated.csv\")"
   ]
  },
  {
   "cell_type": "code",
   "execution_count": null,
   "metadata": {},
   "outputs": [],
   "source": []
  },
  {
   "cell_type": "markdown",
   "metadata": {},
   "source": [
    "### Peo VAS Aggregation"
   ]
  },
  {
   "cell_type": "code",
   "execution_count": 143,
   "metadata": {},
   "outputs": [
    {
     "name": "stderr",
     "output_type": "stream",
     "text": [
      "<ipython-input-143-dded03e3155d>:2: SettingWithCopyWarning: \n",
      "A value is trying to be set on a copy of a slice from a DataFrame.\n",
      "Try using .loc[row_indexer,col_indexer] = value instead\n",
      "\n",
      "See the caveats in the documentation: https://pandas.pydata.org/pandas-docs/stable/user_guide/indexing.html#returning-a-view-versus-a-copy\n",
      "  peo_agg_df[\"VAS_Count\"] = 1\n"
     ]
    }
   ],
   "source": [
    "peo_agg_df = vas_final_df[(vas_final_df[\"VAS_Type\"]==\"PeoTV\")]\n",
    "peo_agg_df[\"VAS_Count\"] = 1"
   ]
  },
  {
   "cell_type": "code",
   "execution_count": 144,
   "metadata": {},
   "outputs": [],
   "source": [
    "peo_agg_df = peo_agg_df.groupby('event_source.hash', as_index=False).agg(list)"
   ]
  },
  {
   "cell_type": "code",
   "execution_count": 145,
   "metadata": {},
   "outputs": [],
   "source": [
    "peo_agg_df[\"ACCOUNT_NUM.hash\"]= peo_agg_df[\"ACCOUNT_NUM.hash\"].apply(lambda x: x[0])\n",
    "peo_agg_df[\"CUSTOMER_REF.hash\"]= peo_agg_df[\"CUSTOMER_REF.hash\"].apply(lambda x: x[0])\n",
    "peo_agg_df.drop([\"VAS_Type\"],axis=1,inplace=True)\n",
    "peo_agg_df.rename(columns={\"VAS\":\"Peo_VAS_Package\",\"Month_Subscribed\":\"Peo_VAS_Month_Subscribed\",\"Rental\":\"Peo_VAS_Rental\",\"One_Time_Charge\":\"Peo_VAS_One_Time_Charge\"},inplace=True)\n",
    "peo_agg_df['VAS_Count'] = peo_agg_df.apply(lambda x: len(x['VAS_Count']), axis=1)"
   ]
  },
  {
   "cell_type": "code",
   "execution_count": 146,
   "metadata": {},
   "outputs": [
    {
     "data": {
      "text/html": [
       "<div>\n",
       "<style scoped>\n",
       "    .dataframe tbody tr th:only-of-type {\n",
       "        vertical-align: middle;\n",
       "    }\n",
       "\n",
       "    .dataframe tbody tr th {\n",
       "        vertical-align: top;\n",
       "    }\n",
       "\n",
       "    .dataframe thead th {\n",
       "        text-align: right;\n",
       "    }\n",
       "</style>\n",
       "<table border=\"1\" class=\"dataframe\">\n",
       "  <thead>\n",
       "    <tr style=\"text-align: right;\">\n",
       "      <th></th>\n",
       "      <th>event_source.hash</th>\n",
       "      <th>ACCOUNT_NUM.hash</th>\n",
       "      <th>CUSTOMER_REF.hash</th>\n",
       "      <th>Peo_VAS_Package</th>\n",
       "      <th>Peo_VAS_Month_Subscribed</th>\n",
       "      <th>Peo_VAS_Rental</th>\n",
       "      <th>Peo_VAS_One_Time_Charge</th>\n",
       "      <th>VAS_Count</th>\n",
       "    </tr>\n",
       "  </thead>\n",
       "  <tbody>\n",
       "    <tr>\n",
       "      <th>0</th>\n",
       "      <td>00099ff6e175f2b49e7067b20d69e4c3</td>\n",
       "      <td>6b4bfa1e32f513071c6b138a86c3bac9</td>\n",
       "      <td>0552174bba6950523aa45450f6690d02</td>\n",
       "      <td>[E_SLT PeoTV Service]</td>\n",
       "      <td>[2018-08]</td>\n",
       "      <td>[899.0]</td>\n",
       "      <td>[0.0]</td>\n",
       "      <td>1</td>\n",
       "    </tr>\n",
       "    <tr>\n",
       "      <th>1</th>\n",
       "      <td>0014bcaff40182200be0e062cf9051cd</td>\n",
       "      <td>2c98d4759ee2eca3f2d966be8739c1fa</td>\n",
       "      <td>9ef419bc0053418c6d847a3777cc0233</td>\n",
       "      <td>[PEO TV GO_OTT_A-la carte channels]</td>\n",
       "      <td>[2020-08]</td>\n",
       "      <td>[100]</td>\n",
       "      <td>[0.0]</td>\n",
       "      <td>1</td>\n",
       "    </tr>\n",
       "    <tr>\n",
       "      <th>2</th>\n",
       "      <td>0020f63be24f2eae231f5530ef3cf0d2</td>\n",
       "      <td>2c98d4759ee2eca3f2d966be8739c1fa</td>\n",
       "      <td>9ef419bc0053418c6d847a3777cc0233</td>\n",
       "      <td>[E_SLT PeoTV Service, PEO TV GO_OTT_A-la carte...</td>\n",
       "      <td>[2018-08, 2020-08]</td>\n",
       "      <td>[1499.0, 100]</td>\n",
       "      <td>[0.0, 0.0]</td>\n",
       "      <td>2</td>\n",
       "    </tr>\n",
       "    <tr>\n",
       "      <th>3</th>\n",
       "      <td>00225f30e3f5a4ac69240126f024755f</td>\n",
       "      <td>bd0cc5e96b24df6625fc68cbaf71b555</td>\n",
       "      <td>df4bc5da4eaaaab1d937c3fd2a699c3f</td>\n",
       "      <td>[BB_PeoTVGO]</td>\n",
       "      <td>[2018-12]</td>\n",
       "      <td>[0]</td>\n",
       "      <td>[0.0]</td>\n",
       "      <td>1</td>\n",
       "    </tr>\n",
       "    <tr>\n",
       "      <th>4</th>\n",
       "      <td>003796c503ba503e92b152acca7aa9e1</td>\n",
       "      <td>cc88c49f580c13600e99dfd9920d05e9</td>\n",
       "      <td>ac995f79a7164b89de084396352b343b</td>\n",
       "      <td>[BB_PeoTVGO]</td>\n",
       "      <td>[2018-07]</td>\n",
       "      <td>[0]</td>\n",
       "      <td>[0.0]</td>\n",
       "      <td>1</td>\n",
       "    </tr>\n",
       "    <tr>\n",
       "      <th>...</th>\n",
       "      <td>...</td>\n",
       "      <td>...</td>\n",
       "      <td>...</td>\n",
       "      <td>...</td>\n",
       "      <td>...</td>\n",
       "      <td>...</td>\n",
       "      <td>...</td>\n",
       "      <td>...</td>\n",
       "    </tr>\n",
       "    <tr>\n",
       "      <th>9426</th>\n",
       "      <td>ffce529136ebc87bd205993d2509c0ce</td>\n",
       "      <td>a1e2b9c2faf456eece4bb507dd044fcd</td>\n",
       "      <td>ae041952f243955016cb60d82413a8bf</td>\n",
       "      <td>[BB_PeoTVGO Revenue code]</td>\n",
       "      <td>[2020-04]</td>\n",
       "      <td>[249]</td>\n",
       "      <td>[0.0]</td>\n",
       "      <td>1</td>\n",
       "    </tr>\n",
       "    <tr>\n",
       "      <th>9427</th>\n",
       "      <td>ffea7843d6d18363551948c6553ca77a</td>\n",
       "      <td>16ba7704ef69803d3d41ebde44ad1c06</td>\n",
       "      <td>f7f58f60160d44ff1205c52c8676999f</td>\n",
       "      <td>[BB_PeoTVGO]</td>\n",
       "      <td>[2019-10]</td>\n",
       "      <td>[0]</td>\n",
       "      <td>[0.0]</td>\n",
       "      <td>1</td>\n",
       "    </tr>\n",
       "    <tr>\n",
       "      <th>9428</th>\n",
       "      <td>fffb5e3c6693a35fbab056cb7bb374e8</td>\n",
       "      <td>af66a61a98c385584e3fccfd8dcc5412</td>\n",
       "      <td>1eca97f3ce8ee40e866677fdccc1d60e</td>\n",
       "      <td>[BB_PeoTVGO]</td>\n",
       "      <td>[2019-10]</td>\n",
       "      <td>[0]</td>\n",
       "      <td>[0.0]</td>\n",
       "      <td>1</td>\n",
       "    </tr>\n",
       "    <tr>\n",
       "      <th>9429</th>\n",
       "      <td>ffff0039c1e0c380c4b890e6997d33c5</td>\n",
       "      <td>0e1fe0d01f3a2e9619999a1a634ec427</td>\n",
       "      <td>cd3b840fb0da1abcc5bfdebaca6cd761</td>\n",
       "      <td>[E_SLT PeoTV Service]</td>\n",
       "      <td>[2020-02]</td>\n",
       "      <td>[899.0]</td>\n",
       "      <td>[0.0]</td>\n",
       "      <td>1</td>\n",
       "    </tr>\n",
       "    <tr>\n",
       "      <th>9430</th>\n",
       "      <td>ffff41a457d4ad9618d788bdd917e4ce</td>\n",
       "      <td>44224bc1e2e7101c90bbad70dbcc5a6c</td>\n",
       "      <td>f5d47ec8993b2e30d200ec5f1c3bae1b</td>\n",
       "      <td>[PEO TV GO_OTT_A-la carte channels]</td>\n",
       "      <td>[2020-08]</td>\n",
       "      <td>[100]</td>\n",
       "      <td>[0.0]</td>\n",
       "      <td>1</td>\n",
       "    </tr>\n",
       "  </tbody>\n",
       "</table>\n",
       "<p>9431 rows × 8 columns</p>\n",
       "</div>"
      ],
      "text/plain": [
       "                     event_source.hash                  ACCOUNT_NUM.hash  \\\n",
       "0     00099ff6e175f2b49e7067b20d69e4c3  6b4bfa1e32f513071c6b138a86c3bac9   \n",
       "1     0014bcaff40182200be0e062cf9051cd  2c98d4759ee2eca3f2d966be8739c1fa   \n",
       "2     0020f63be24f2eae231f5530ef3cf0d2  2c98d4759ee2eca3f2d966be8739c1fa   \n",
       "3     00225f30e3f5a4ac69240126f024755f  bd0cc5e96b24df6625fc68cbaf71b555   \n",
       "4     003796c503ba503e92b152acca7aa9e1  cc88c49f580c13600e99dfd9920d05e9   \n",
       "...                                ...                               ...   \n",
       "9426  ffce529136ebc87bd205993d2509c0ce  a1e2b9c2faf456eece4bb507dd044fcd   \n",
       "9427  ffea7843d6d18363551948c6553ca77a  16ba7704ef69803d3d41ebde44ad1c06   \n",
       "9428  fffb5e3c6693a35fbab056cb7bb374e8  af66a61a98c385584e3fccfd8dcc5412   \n",
       "9429  ffff0039c1e0c380c4b890e6997d33c5  0e1fe0d01f3a2e9619999a1a634ec427   \n",
       "9430  ffff41a457d4ad9618d788bdd917e4ce  44224bc1e2e7101c90bbad70dbcc5a6c   \n",
       "\n",
       "                     CUSTOMER_REF.hash  \\\n",
       "0     0552174bba6950523aa45450f6690d02   \n",
       "1     9ef419bc0053418c6d847a3777cc0233   \n",
       "2     9ef419bc0053418c6d847a3777cc0233   \n",
       "3     df4bc5da4eaaaab1d937c3fd2a699c3f   \n",
       "4     ac995f79a7164b89de084396352b343b   \n",
       "...                                ...   \n",
       "9426  ae041952f243955016cb60d82413a8bf   \n",
       "9427  f7f58f60160d44ff1205c52c8676999f   \n",
       "9428  1eca97f3ce8ee40e866677fdccc1d60e   \n",
       "9429  cd3b840fb0da1abcc5bfdebaca6cd761   \n",
       "9430  f5d47ec8993b2e30d200ec5f1c3bae1b   \n",
       "\n",
       "                                        Peo_VAS_Package  \\\n",
       "0                                 [E_SLT PeoTV Service]   \n",
       "1                   [PEO TV GO_OTT_A-la carte channels]   \n",
       "2     [E_SLT PeoTV Service, PEO TV GO_OTT_A-la carte...   \n",
       "3                                          [BB_PeoTVGO]   \n",
       "4                                          [BB_PeoTVGO]   \n",
       "...                                                 ...   \n",
       "9426                          [BB_PeoTVGO Revenue code]   \n",
       "9427                                       [BB_PeoTVGO]   \n",
       "9428                                       [BB_PeoTVGO]   \n",
       "9429                              [E_SLT PeoTV Service]   \n",
       "9430                [PEO TV GO_OTT_A-la carte channels]   \n",
       "\n",
       "     Peo_VAS_Month_Subscribed Peo_VAS_Rental Peo_VAS_One_Time_Charge  \\\n",
       "0                   [2018-08]        [899.0]                   [0.0]   \n",
       "1                   [2020-08]          [100]                   [0.0]   \n",
       "2          [2018-08, 2020-08]  [1499.0, 100]              [0.0, 0.0]   \n",
       "3                   [2018-12]            [0]                   [0.0]   \n",
       "4                   [2018-07]            [0]                   [0.0]   \n",
       "...                       ...            ...                     ...   \n",
       "9426                [2020-04]          [249]                   [0.0]   \n",
       "9427                [2019-10]            [0]                   [0.0]   \n",
       "9428                [2019-10]            [0]                   [0.0]   \n",
       "9429                [2020-02]        [899.0]                   [0.0]   \n",
       "9430                [2020-08]          [100]                   [0.0]   \n",
       "\n",
       "      VAS_Count  \n",
       "0             1  \n",
       "1             1  \n",
       "2             2  \n",
       "3             1  \n",
       "4             1  \n",
       "...         ...  \n",
       "9426          1  \n",
       "9427          1  \n",
       "9428          1  \n",
       "9429          1  \n",
       "9430          1  \n",
       "\n",
       "[9431 rows x 8 columns]"
      ]
     },
     "execution_count": 146,
     "metadata": {},
     "output_type": "execute_result"
    }
   ],
   "source": [
    "peo_agg_df"
   ]
  },
  {
   "cell_type": "code",
   "execution_count": 147,
   "metadata": {},
   "outputs": [
    {
     "data": {
      "text/plain": [
       "9431"
      ]
     },
     "execution_count": 147,
     "metadata": {},
     "output_type": "execute_result"
    }
   ],
   "source": [
    "len(peo_agg_df[\"event_source.hash\"].unique())"
   ]
  },
  {
   "cell_type": "code",
   "execution_count": 148,
   "metadata": {},
   "outputs": [],
   "source": [
    "peo_agg_df.to_csv(\"data/user_profile/VAS_Peo_Aggregated.csv\")"
   ]
  },
  {
   "cell_type": "code",
   "execution_count": null,
   "metadata": {},
   "outputs": [],
   "source": []
  },
  {
   "cell_type": "markdown",
   "metadata": {},
   "source": [
    "### Uncategorized VAS Aggregation"
   ]
  },
  {
   "cell_type": "code",
   "execution_count": 149,
   "metadata": {},
   "outputs": [
    {
     "name": "stderr",
     "output_type": "stream",
     "text": [
      "<ipython-input-149-cfa885fd22f7>:2: SettingWithCopyWarning: \n",
      "A value is trying to be set on a copy of a slice from a DataFrame.\n",
      "Try using .loc[row_indexer,col_indexer] = value instead\n",
      "\n",
      "See the caveats in the documentation: https://pandas.pydata.org/pandas-docs/stable/user_guide/indexing.html#returning-a-view-versus-a-copy\n",
      "  other_agg_df[\"VAS_Count\"] = 1\n"
     ]
    }
   ],
   "source": [
    "other_agg_df = vas_final_df[(vas_final_df[\"VAS_Type\"]==\"Other\")]\n",
    "other_agg_df[\"VAS_Count\"] = 1"
   ]
  },
  {
   "cell_type": "code",
   "execution_count": 150,
   "metadata": {},
   "outputs": [],
   "source": [
    "other_agg_df = other_agg_df.groupby('event_source.hash', as_index=False).agg(list)"
   ]
  },
  {
   "cell_type": "code",
   "execution_count": 151,
   "metadata": {},
   "outputs": [],
   "source": [
    "other_agg_df[\"ACCOUNT_NUM.hash\"]= other_agg_df[\"ACCOUNT_NUM.hash\"].apply(lambda x: x[0])\n",
    "other_agg_df[\"CUSTOMER_REF.hash\"]= other_agg_df[\"CUSTOMER_REF.hash\"].apply(lambda x: x[0])\n",
    "other_agg_df.drop([\"VAS_Type\"],axis=1,inplace=True)\n",
    "other_agg_df.rename(columns={\"VAS\":\"Other_VAS_Package\",\"Month_Subscribed\":\"Other_VAS_Month_Subscribed\",\"Rental\":\"Other_VAS_Rental\",\"One_Time_Charge\":\"Other_VAS_One_Time_Charge\"},inplace=True)\n",
    "other_agg_df['VAS_Count'] = other_agg_df.apply(lambda x: len(x['VAS_Count']), axis=1)"
   ]
  },
  {
   "cell_type": "code",
   "execution_count": 152,
   "metadata": {},
   "outputs": [
    {
     "data": {
      "text/html": [
       "<div>\n",
       "<style scoped>\n",
       "    .dataframe tbody tr th:only-of-type {\n",
       "        vertical-align: middle;\n",
       "    }\n",
       "\n",
       "    .dataframe tbody tr th {\n",
       "        vertical-align: top;\n",
       "    }\n",
       "\n",
       "    .dataframe thead th {\n",
       "        text-align: right;\n",
       "    }\n",
       "</style>\n",
       "<table border=\"1\" class=\"dataframe\">\n",
       "  <thead>\n",
       "    <tr style=\"text-align: right;\">\n",
       "      <th></th>\n",
       "      <th>event_source.hash</th>\n",
       "      <th>ACCOUNT_NUM.hash</th>\n",
       "      <th>CUSTOMER_REF.hash</th>\n",
       "      <th>Other_VAS_Package</th>\n",
       "      <th>Other_VAS_Month_Subscribed</th>\n",
       "      <th>Other_VAS_Rental</th>\n",
       "      <th>Other_VAS_One_Time_Charge</th>\n",
       "      <th>VAS_Count</th>\n",
       "    </tr>\n",
       "  </thead>\n",
       "  <tbody>\n",
       "    <tr>\n",
       "      <th>0</th>\n",
       "      <td>00099ff6e175f2b49e7067b20d69e4c3</td>\n",
       "      <td>6b4bfa1e32f513071c6b138a86c3bac9</td>\n",
       "      <td>0552174bba6950523aa45450f6690d02</td>\n",
       "      <td>[P_Sisu Connect, AB_Copper Access Bearer]</td>\n",
       "      <td>[2017-02, 2018-08]</td>\n",
       "      <td>[30, 0]</td>\n",
       "      <td>[0.0, 0.0]</td>\n",
       "      <td>2</td>\n",
       "    </tr>\n",
       "    <tr>\n",
       "      <th>1</th>\n",
       "      <td>000f86cd741d4e51303065b5f868e5ab</td>\n",
       "      <td>bd0cc5e96b24df6625fc68cbaf71b555</td>\n",
       "      <td>df4bc5da4eaaaab1d937c3fd2a699c3f</td>\n",
       "      <td>[P-Basic1_Tele Life, C_Sisu Connect, AB_WireLe...</td>\n",
       "      <td>[2012-06, 2016-11, 2020-05, 2021-02, 2021-03, ...</td>\n",
       "      <td>[60, 30, 0, 0, 0, 0]</td>\n",
       "      <td>[0.0, 0.0, 0.0, 195.0, 195.0, 490.0]</td>\n",
       "      <td>6</td>\n",
       "    </tr>\n",
       "    <tr>\n",
       "      <th>2</th>\n",
       "      <td>00114ae408aa3b489b3f5d9baf7eb7ac</td>\n",
       "      <td>dd5253ea4772b427cc0e87ff6535b058</td>\n",
       "      <td>bdfc0b71edc02a021536f91cff85f00a</td>\n",
       "      <td>[AB_Copper Access Bearer]</td>\n",
       "      <td>[2018-08]</td>\n",
       "      <td>[0]</td>\n",
       "      <td>[0.0]</td>\n",
       "      <td>1</td>\n",
       "    </tr>\n",
       "    <tr>\n",
       "      <th>3</th>\n",
       "      <td>0014bcaff40182200be0e062cf9051cd</td>\n",
       "      <td>2c98d4759ee2eca3f2d966be8739c1fa</td>\n",
       "      <td>9ef419bc0053418c6d847a3777cc0233</td>\n",
       "      <td>[AB_Copper Access Bearer]</td>\n",
       "      <td>[2018-08]</td>\n",
       "      <td>[0]</td>\n",
       "      <td>[0.0]</td>\n",
       "      <td>1</td>\n",
       "    </tr>\n",
       "    <tr>\n",
       "      <th>4</th>\n",
       "      <td>00169293c66899b05ad10054c5f9a9c4</td>\n",
       "      <td>f22295dcdeb9502825e7d6140bbf8542</td>\n",
       "      <td>d4529a42fb85d23b1589bf04a1b637d6</td>\n",
       "      <td>[AB_Copper Access Bearer]</td>\n",
       "      <td>[2018-11]</td>\n",
       "      <td>[0]</td>\n",
       "      <td>[0.0]</td>\n",
       "      <td>1</td>\n",
       "    </tr>\n",
       "    <tr>\n",
       "      <th>...</th>\n",
       "      <td>...</td>\n",
       "      <td>...</td>\n",
       "      <td>...</td>\n",
       "      <td>...</td>\n",
       "      <td>...</td>\n",
       "      <td>...</td>\n",
       "      <td>...</td>\n",
       "      <td>...</td>\n",
       "    </tr>\n",
       "    <tr>\n",
       "      <th>23464</th>\n",
       "      <td>fffbdf8e718726a5dac393d2014a83cc</td>\n",
       "      <td>949e14e85d36002ffb954d42d3366936</td>\n",
       "      <td>51ee71e46ba64034adaf383345028fb8</td>\n",
       "      <td>[AB_Copper Access Bearer, P_Sisu Connect, Edu ...</td>\n",
       "      <td>[2018-08, 2018-08, 2021-05, 2021-06]</td>\n",
       "      <td>[0, 30, 0, 0]</td>\n",
       "      <td>[0.0, 0.0, 195.0, 195.0]</td>\n",
       "      <td>4</td>\n",
       "    </tr>\n",
       "    <tr>\n",
       "      <th>23465</th>\n",
       "      <td>fffc787f7b89f0a9401de0dbe3ab2206</td>\n",
       "      <td>bd0cc5e96b24df6625fc68cbaf71b555</td>\n",
       "      <td>df4bc5da4eaaaab1d937c3fd2a699c3f</td>\n",
       "      <td>[P-Basic1_Tele Life, C_Sisu Connect, AB_Copper...</td>\n",
       "      <td>[2012-06, 2016-11, 2018-09, 2021-02, 2021-03, ...</td>\n",
       "      <td>[60, 30, 0, 0, 0, 0]</td>\n",
       "      <td>[0.0, 0.0, 0.0, 195.0, 195.0, 490.0]</td>\n",
       "      <td>6</td>\n",
       "    </tr>\n",
       "    <tr>\n",
       "      <th>23466</th>\n",
       "      <td>ffff0039c1e0c380c4b890e6997d33c5</td>\n",
       "      <td>0e1fe0d01f3a2e9619999a1a634ec427</td>\n",
       "      <td>cd3b840fb0da1abcc5bfdebaca6cd761</td>\n",
       "      <td>[AB_Copper Access Bearer, Meet Lite]</td>\n",
       "      <td>[2019-11, 2021-06]</td>\n",
       "      <td>[0, 0]</td>\n",
       "      <td>[0.0, 195.0]</td>\n",
       "      <td>2</td>\n",
       "    </tr>\n",
       "    <tr>\n",
       "      <th>23467</th>\n",
       "      <td>ffff41a457d4ad9618d788bdd917e4ce</td>\n",
       "      <td>44224bc1e2e7101c90bbad70dbcc5a6c</td>\n",
       "      <td>f5d47ec8993b2e30d200ec5f1c3bae1b</td>\n",
       "      <td>[AB_Copper Access Bearer, Meet Lite]</td>\n",
       "      <td>[2018-08, 2021-04]</td>\n",
       "      <td>[0, 0]</td>\n",
       "      <td>[0.0, 195.0]</td>\n",
       "      <td>2</td>\n",
       "    </tr>\n",
       "    <tr>\n",
       "      <th>23468</th>\n",
       "      <td>ffff43d0cc07aff0964f0ae29aa10363</td>\n",
       "      <td>bd0cc5e96b24df6625fc68cbaf71b555</td>\n",
       "      <td>df4bc5da4eaaaab1d937c3fd2a699c3f</td>\n",
       "      <td>[P-Basic1_Tele Life, C_Sisu Connect, Edu Lite,...</td>\n",
       "      <td>[2012-06, 2016-11, 2021-02, 2021-03, 2021-06]</td>\n",
       "      <td>[60, 30, 0, 0, 0]</td>\n",
       "      <td>[0.0, 0.0, 195.0, 195.0, 490.0]</td>\n",
       "      <td>5</td>\n",
       "    </tr>\n",
       "  </tbody>\n",
       "</table>\n",
       "<p>23469 rows × 8 columns</p>\n",
       "</div>"
      ],
      "text/plain": [
       "                      event_source.hash                  ACCOUNT_NUM.hash  \\\n",
       "0      00099ff6e175f2b49e7067b20d69e4c3  6b4bfa1e32f513071c6b138a86c3bac9   \n",
       "1      000f86cd741d4e51303065b5f868e5ab  bd0cc5e96b24df6625fc68cbaf71b555   \n",
       "2      00114ae408aa3b489b3f5d9baf7eb7ac  dd5253ea4772b427cc0e87ff6535b058   \n",
       "3      0014bcaff40182200be0e062cf9051cd  2c98d4759ee2eca3f2d966be8739c1fa   \n",
       "4      00169293c66899b05ad10054c5f9a9c4  f22295dcdeb9502825e7d6140bbf8542   \n",
       "...                                 ...                               ...   \n",
       "23464  fffbdf8e718726a5dac393d2014a83cc  949e14e85d36002ffb954d42d3366936   \n",
       "23465  fffc787f7b89f0a9401de0dbe3ab2206  bd0cc5e96b24df6625fc68cbaf71b555   \n",
       "23466  ffff0039c1e0c380c4b890e6997d33c5  0e1fe0d01f3a2e9619999a1a634ec427   \n",
       "23467  ffff41a457d4ad9618d788bdd917e4ce  44224bc1e2e7101c90bbad70dbcc5a6c   \n",
       "23468  ffff43d0cc07aff0964f0ae29aa10363  bd0cc5e96b24df6625fc68cbaf71b555   \n",
       "\n",
       "                      CUSTOMER_REF.hash  \\\n",
       "0      0552174bba6950523aa45450f6690d02   \n",
       "1      df4bc5da4eaaaab1d937c3fd2a699c3f   \n",
       "2      bdfc0b71edc02a021536f91cff85f00a   \n",
       "3      9ef419bc0053418c6d847a3777cc0233   \n",
       "4      d4529a42fb85d23b1589bf04a1b637d6   \n",
       "...                                 ...   \n",
       "23464  51ee71e46ba64034adaf383345028fb8   \n",
       "23465  df4bc5da4eaaaab1d937c3fd2a699c3f   \n",
       "23466  cd3b840fb0da1abcc5bfdebaca6cd761   \n",
       "23467  f5d47ec8993b2e30d200ec5f1c3bae1b   \n",
       "23468  df4bc5da4eaaaab1d937c3fd2a699c3f   \n",
       "\n",
       "                                       Other_VAS_Package  \\\n",
       "0              [P_Sisu Connect, AB_Copper Access Bearer]   \n",
       "1      [P-Basic1_Tele Life, C_Sisu Connect, AB_WireLe...   \n",
       "2                              [AB_Copper Access Bearer]   \n",
       "3                              [AB_Copper Access Bearer]   \n",
       "4                              [AB_Copper Access Bearer]   \n",
       "...                                                  ...   \n",
       "23464  [AB_Copper Access Bearer, P_Sisu Connect, Edu ...   \n",
       "23465  [P-Basic1_Tele Life, C_Sisu Connect, AB_Copper...   \n",
       "23466               [AB_Copper Access Bearer, Meet Lite]   \n",
       "23467               [AB_Copper Access Bearer, Meet Lite]   \n",
       "23468  [P-Basic1_Tele Life, C_Sisu Connect, Edu Lite,...   \n",
       "\n",
       "                              Other_VAS_Month_Subscribed  \\\n",
       "0                                     [2017-02, 2018-08]   \n",
       "1      [2012-06, 2016-11, 2020-05, 2021-02, 2021-03, ...   \n",
       "2                                              [2018-08]   \n",
       "3                                              [2018-08]   \n",
       "4                                              [2018-11]   \n",
       "...                                                  ...   \n",
       "23464               [2018-08, 2018-08, 2021-05, 2021-06]   \n",
       "23465  [2012-06, 2016-11, 2018-09, 2021-02, 2021-03, ...   \n",
       "23466                                 [2019-11, 2021-06]   \n",
       "23467                                 [2018-08, 2021-04]   \n",
       "23468      [2012-06, 2016-11, 2021-02, 2021-03, 2021-06]   \n",
       "\n",
       "           Other_VAS_Rental             Other_VAS_One_Time_Charge  VAS_Count  \n",
       "0                   [30, 0]                            [0.0, 0.0]          2  \n",
       "1      [60, 30, 0, 0, 0, 0]  [0.0, 0.0, 0.0, 195.0, 195.0, 490.0]          6  \n",
       "2                       [0]                                 [0.0]          1  \n",
       "3                       [0]                                 [0.0]          1  \n",
       "4                       [0]                                 [0.0]          1  \n",
       "...                     ...                                   ...        ...  \n",
       "23464         [0, 30, 0, 0]              [0.0, 0.0, 195.0, 195.0]          4  \n",
       "23465  [60, 30, 0, 0, 0, 0]  [0.0, 0.0, 0.0, 195.0, 195.0, 490.0]          6  \n",
       "23466                [0, 0]                          [0.0, 195.0]          2  \n",
       "23467                [0, 0]                          [0.0, 195.0]          2  \n",
       "23468     [60, 30, 0, 0, 0]       [0.0, 0.0, 195.0, 195.0, 490.0]          5  \n",
       "\n",
       "[23469 rows x 8 columns]"
      ]
     },
     "execution_count": 152,
     "metadata": {},
     "output_type": "execute_result"
    }
   ],
   "source": [
    "other_agg_df"
   ]
  },
  {
   "cell_type": "code",
   "execution_count": 153,
   "metadata": {},
   "outputs": [
    {
     "data": {
      "text/plain": [
       "23469"
      ]
     },
     "execution_count": 153,
     "metadata": {},
     "output_type": "execute_result"
    }
   ],
   "source": [
    "len(other_agg_df[\"event_source.hash\"].unique())"
   ]
  },
  {
   "cell_type": "code",
   "execution_count": 154,
   "metadata": {},
   "outputs": [],
   "source": [
    "other_agg_df.to_csv(\"data/user_profile/VAS_Other_Aggregated.csv\")"
   ]
  },
  {
   "cell_type": "code",
   "execution_count": null,
   "metadata": {},
   "outputs": [],
   "source": []
  },
  {
   "cell_type": "markdown",
   "metadata": {},
   "source": [
    "### FREE VAS Aggregation"
   ]
  },
  {
   "cell_type": "code",
   "execution_count": 161,
   "metadata": {},
   "outputs": [
    {
     "name": "stderr",
     "output_type": "stream",
     "text": [
      "<ipython-input-161-ea7246292e47>:2: SettingWithCopyWarning: \n",
      "A value is trying to be set on a copy of a slice from a DataFrame.\n",
      "Try using .loc[row_indexer,col_indexer] = value instead\n",
      "\n",
      "See the caveats in the documentation: https://pandas.pydata.org/pandas-docs/stable/user_guide/indexing.html#returning-a-view-versus-a-copy\n",
      "  free_agg_df[\"VAS_Count\"] = 1\n"
     ]
    }
   ],
   "source": [
    "free_agg_df = vas_final_df[(vas_final_df[\"VAS_Type\"]==\"FREE\")]\n",
    "free_agg_df[\"VAS_Count\"] = 1"
   ]
  },
  {
   "cell_type": "code",
   "execution_count": 162,
   "metadata": {},
   "outputs": [],
   "source": [
    "free_agg_df = free_agg_df.groupby('event_source.hash', as_index=False).agg(list)"
   ]
  },
  {
   "cell_type": "code",
   "execution_count": 163,
   "metadata": {},
   "outputs": [],
   "source": [
    "free_agg_df[\"ACCOUNT_NUM.hash\"]= free_agg_df[\"ACCOUNT_NUM.hash\"].apply(lambda x: x[0])\n",
    "free_agg_df[\"CUSTOMER_REF.hash\"]= free_agg_df[\"CUSTOMER_REF.hash\"].apply(lambda x: x[0])\n",
    "free_agg_df.drop([\"VAS_Type\"],axis=1,inplace=True)\n",
    "free_agg_df.rename(columns={\"VAS\":\"FREE_VAS_Package\",\"Month_Subscribed\":\"FREE_VAS_Month_Subscribed\",\"Rental\":\"FREE_VAS_Rental\",\"One_Time_Charge\":\"FREE_VAS_One_Time_Charge\"},inplace=True)\n",
    "free_agg_df['VAS_Count'] = free_agg_df.apply(lambda x: len(x['VAS_Count']), axis=1)"
   ]
  },
  {
   "cell_type": "code",
   "execution_count": 164,
   "metadata": {},
   "outputs": [
    {
     "data": {
      "text/html": [
       "<div>\n",
       "<style scoped>\n",
       "    .dataframe tbody tr th:only-of-type {\n",
       "        vertical-align: middle;\n",
       "    }\n",
       "\n",
       "    .dataframe tbody tr th {\n",
       "        vertical-align: top;\n",
       "    }\n",
       "\n",
       "    .dataframe thead th {\n",
       "        text-align: right;\n",
       "    }\n",
       "</style>\n",
       "<table border=\"1\" class=\"dataframe\">\n",
       "  <thead>\n",
       "    <tr style=\"text-align: right;\">\n",
       "      <th></th>\n",
       "      <th>event_source.hash</th>\n",
       "      <th>ACCOUNT_NUM.hash</th>\n",
       "      <th>CUSTOMER_REF.hash</th>\n",
       "      <th>FREE_VAS_Package</th>\n",
       "      <th>FREE_VAS_Month_Subscribed</th>\n",
       "      <th>FREE_VAS_Rental</th>\n",
       "      <th>FREE_VAS_One_Time_Charge</th>\n",
       "      <th>VAS_Count</th>\n",
       "    </tr>\n",
       "  </thead>\n",
       "  <tbody>\n",
       "    <tr>\n",
       "      <th>0</th>\n",
       "      <td>00099ff6e175f2b49e7067b20d69e4c3</td>\n",
       "      <td>6b4bfa1e32f513071c6b138a86c3bac9</td>\n",
       "      <td>0552174bba6950523aa45450f6690d02</td>\n",
       "      <td>[V_SLT Voice Service]</td>\n",
       "      <td>[2018-08]</td>\n",
       "      <td>[0]</td>\n",
       "      <td>[0.0]</td>\n",
       "      <td>1</td>\n",
       "    </tr>\n",
       "    <tr>\n",
       "      <th>1</th>\n",
       "      <td>00114ae408aa3b489b3f5d9baf7eb7ac</td>\n",
       "      <td>dd5253ea4772b427cc0e87ff6535b058</td>\n",
       "      <td>bdfc0b71edc02a021536f91cff85f00a</td>\n",
       "      <td>[V_SLT Voice Service]</td>\n",
       "      <td>[2018-08]</td>\n",
       "      <td>[0]</td>\n",
       "      <td>[0.0]</td>\n",
       "      <td>1</td>\n",
       "    </tr>\n",
       "    <tr>\n",
       "      <th>2</th>\n",
       "      <td>0014bcaff40182200be0e062cf9051cd</td>\n",
       "      <td>2c98d4759ee2eca3f2d966be8739c1fa</td>\n",
       "      <td>9ef419bc0053418c6d847a3777cc0233</td>\n",
       "      <td>[V_SLT Voice Service]</td>\n",
       "      <td>[2018-08]</td>\n",
       "      <td>[0]</td>\n",
       "      <td>[0.0]</td>\n",
       "      <td>1</td>\n",
       "    </tr>\n",
       "    <tr>\n",
       "      <th>3</th>\n",
       "      <td>00169293c66899b05ad10054c5f9a9c4</td>\n",
       "      <td>f22295dcdeb9502825e7d6140bbf8542</td>\n",
       "      <td>d4529a42fb85d23b1589bf04a1b637d6</td>\n",
       "      <td>[V_SLT Voice Service]</td>\n",
       "      <td>[2018-11]</td>\n",
       "      <td>[0]</td>\n",
       "      <td>[0.0]</td>\n",
       "      <td>1</td>\n",
       "    </tr>\n",
       "    <tr>\n",
       "      <th>4</th>\n",
       "      <td>0017f09b5ff65c692de63b95d1edee27</td>\n",
       "      <td>0e1fe0d01f3a2e9619999a1a634ec427</td>\n",
       "      <td>cd3b840fb0da1abcc5bfdebaca6cd761</td>\n",
       "      <td>[V_SLT Voice Service]</td>\n",
       "      <td>[2018-08]</td>\n",
       "      <td>[0]</td>\n",
       "      <td>[0.0]</td>\n",
       "      <td>1</td>\n",
       "    </tr>\n",
       "    <tr>\n",
       "      <th>...</th>\n",
       "      <td>...</td>\n",
       "      <td>...</td>\n",
       "      <td>...</td>\n",
       "      <td>...</td>\n",
       "      <td>...</td>\n",
       "      <td>...</td>\n",
       "      <td>...</td>\n",
       "      <td>...</td>\n",
       "    </tr>\n",
       "    <tr>\n",
       "      <th>18909</th>\n",
       "      <td>fffbdf8e718726a5dac393d2014a83cc</td>\n",
       "      <td>949e14e85d36002ffb954d42d3366936</td>\n",
       "      <td>51ee71e46ba64034adaf383345028fb8</td>\n",
       "      <td>[V_SLT Voice Service]</td>\n",
       "      <td>[2018-08]</td>\n",
       "      <td>[0]</td>\n",
       "      <td>[0.0]</td>\n",
       "      <td>1</td>\n",
       "    </tr>\n",
       "    <tr>\n",
       "      <th>18910</th>\n",
       "      <td>fffc787f7b89f0a9401de0dbe3ab2206</td>\n",
       "      <td>bd0cc5e96b24df6625fc68cbaf71b555</td>\n",
       "      <td>df4bc5da4eaaaab1d937c3fd2a699c3f</td>\n",
       "      <td>[V_SLT Voice Service]</td>\n",
       "      <td>[2018-09]</td>\n",
       "      <td>[0]</td>\n",
       "      <td>[0.0]</td>\n",
       "      <td>1</td>\n",
       "    </tr>\n",
       "    <tr>\n",
       "      <th>18911</th>\n",
       "      <td>ffff0039c1e0c380c4b890e6997d33c5</td>\n",
       "      <td>0e1fe0d01f3a2e9619999a1a634ec427</td>\n",
       "      <td>cd3b840fb0da1abcc5bfdebaca6cd761</td>\n",
       "      <td>[V_SLT Voice Service]</td>\n",
       "      <td>[2019-11]</td>\n",
       "      <td>[0]</td>\n",
       "      <td>[0.0]</td>\n",
       "      <td>1</td>\n",
       "    </tr>\n",
       "    <tr>\n",
       "      <th>18912</th>\n",
       "      <td>ffff41a457d4ad9618d788bdd917e4ce</td>\n",
       "      <td>44224bc1e2e7101c90bbad70dbcc5a6c</td>\n",
       "      <td>f5d47ec8993b2e30d200ec5f1c3bae1b</td>\n",
       "      <td>[V_SLT Voice Service]</td>\n",
       "      <td>[2018-08]</td>\n",
       "      <td>[0]</td>\n",
       "      <td>[0.0]</td>\n",
       "      <td>1</td>\n",
       "    </tr>\n",
       "    <tr>\n",
       "      <th>18913</th>\n",
       "      <td>ffff43d0cc07aff0964f0ae29aa10363</td>\n",
       "      <td>bd0cc5e96b24df6625fc68cbaf71b555</td>\n",
       "      <td>df4bc5da4eaaaab1d937c3fd2a699c3f</td>\n",
       "      <td>[V_SLT Voice Service]</td>\n",
       "      <td>[2018-02]</td>\n",
       "      <td>[399.0]</td>\n",
       "      <td>[0.0]</td>\n",
       "      <td>1</td>\n",
       "    </tr>\n",
       "  </tbody>\n",
       "</table>\n",
       "<p>18914 rows × 8 columns</p>\n",
       "</div>"
      ],
      "text/plain": [
       "                      event_source.hash                  ACCOUNT_NUM.hash  \\\n",
       "0      00099ff6e175f2b49e7067b20d69e4c3  6b4bfa1e32f513071c6b138a86c3bac9   \n",
       "1      00114ae408aa3b489b3f5d9baf7eb7ac  dd5253ea4772b427cc0e87ff6535b058   \n",
       "2      0014bcaff40182200be0e062cf9051cd  2c98d4759ee2eca3f2d966be8739c1fa   \n",
       "3      00169293c66899b05ad10054c5f9a9c4  f22295dcdeb9502825e7d6140bbf8542   \n",
       "4      0017f09b5ff65c692de63b95d1edee27  0e1fe0d01f3a2e9619999a1a634ec427   \n",
       "...                                 ...                               ...   \n",
       "18909  fffbdf8e718726a5dac393d2014a83cc  949e14e85d36002ffb954d42d3366936   \n",
       "18910  fffc787f7b89f0a9401de0dbe3ab2206  bd0cc5e96b24df6625fc68cbaf71b555   \n",
       "18911  ffff0039c1e0c380c4b890e6997d33c5  0e1fe0d01f3a2e9619999a1a634ec427   \n",
       "18912  ffff41a457d4ad9618d788bdd917e4ce  44224bc1e2e7101c90bbad70dbcc5a6c   \n",
       "18913  ffff43d0cc07aff0964f0ae29aa10363  bd0cc5e96b24df6625fc68cbaf71b555   \n",
       "\n",
       "                      CUSTOMER_REF.hash       FREE_VAS_Package  \\\n",
       "0      0552174bba6950523aa45450f6690d02  [V_SLT Voice Service]   \n",
       "1      bdfc0b71edc02a021536f91cff85f00a  [V_SLT Voice Service]   \n",
       "2      9ef419bc0053418c6d847a3777cc0233  [V_SLT Voice Service]   \n",
       "3      d4529a42fb85d23b1589bf04a1b637d6  [V_SLT Voice Service]   \n",
       "4      cd3b840fb0da1abcc5bfdebaca6cd761  [V_SLT Voice Service]   \n",
       "...                                 ...                    ...   \n",
       "18909  51ee71e46ba64034adaf383345028fb8  [V_SLT Voice Service]   \n",
       "18910  df4bc5da4eaaaab1d937c3fd2a699c3f  [V_SLT Voice Service]   \n",
       "18911  cd3b840fb0da1abcc5bfdebaca6cd761  [V_SLT Voice Service]   \n",
       "18912  f5d47ec8993b2e30d200ec5f1c3bae1b  [V_SLT Voice Service]   \n",
       "18913  df4bc5da4eaaaab1d937c3fd2a699c3f  [V_SLT Voice Service]   \n",
       "\n",
       "      FREE_VAS_Month_Subscribed FREE_VAS_Rental FREE_VAS_One_Time_Charge  \\\n",
       "0                     [2018-08]             [0]                    [0.0]   \n",
       "1                     [2018-08]             [0]                    [0.0]   \n",
       "2                     [2018-08]             [0]                    [0.0]   \n",
       "3                     [2018-11]             [0]                    [0.0]   \n",
       "4                     [2018-08]             [0]                    [0.0]   \n",
       "...                         ...             ...                      ...   \n",
       "18909                 [2018-08]             [0]                    [0.0]   \n",
       "18910                 [2018-09]             [0]                    [0.0]   \n",
       "18911                 [2019-11]             [0]                    [0.0]   \n",
       "18912                 [2018-08]             [0]                    [0.0]   \n",
       "18913                 [2018-02]         [399.0]                    [0.0]   \n",
       "\n",
       "       VAS_Count  \n",
       "0              1  \n",
       "1              1  \n",
       "2              1  \n",
       "3              1  \n",
       "4              1  \n",
       "...          ...  \n",
       "18909          1  \n",
       "18910          1  \n",
       "18911          1  \n",
       "18912          1  \n",
       "18913          1  \n",
       "\n",
       "[18914 rows x 8 columns]"
      ]
     },
     "execution_count": 164,
     "metadata": {},
     "output_type": "execute_result"
    }
   ],
   "source": [
    "free_agg_df"
   ]
  },
  {
   "cell_type": "code",
   "execution_count": 165,
   "metadata": {},
   "outputs": [
    {
     "data": {
      "text/plain": [
       "18914"
      ]
     },
     "execution_count": 165,
     "metadata": {},
     "output_type": "execute_result"
    }
   ],
   "source": [
    "len(free_agg_df[\"event_source.hash\"].unique())"
   ]
  },
  {
   "cell_type": "code",
   "execution_count": 166,
   "metadata": {},
   "outputs": [],
   "source": [
    "free_agg_df.to_csv(\"data/user_profile/VAS_FREE_Aggregated.csv\")"
   ]
  },
  {
   "cell_type": "code",
   "execution_count": null,
   "metadata": {},
   "outputs": [],
   "source": []
  },
  {
   "cell_type": "markdown",
   "metadata": {},
   "source": [
    "## Subscription Promotion Upgrade Downgrade orders"
   ]
  },
  {
   "cell_type": "code",
   "execution_count": 722,
   "metadata": {},
   "outputs": [],
   "source": [
    "promotion_df = pd.read_excel(\"data/new/Promotion_Upgrade_Dates.xls\")  "
   ]
  },
  {
   "cell_type": "code",
   "execution_count": 723,
   "metadata": {},
   "outputs": [],
   "source": [
    "promotion_df =promotion_df[[\"CUSTOMER_REF.hash\",\"ACCOUNT_NUM.hash\",\"MAX_DSP\",\"ORDER_CONDITION\",\"ADDING_PROMO\",\"Deleting_PROMO\",\"Updating_PROMO\"]]"
   ]
  },
  {
   "cell_type": "code",
   "execution_count": 724,
   "metadata": {},
   "outputs": [
    {
     "name": "stdout",
     "output_type": "stream",
     "text": [
      "<class 'pandas.core.frame.DataFrame'>\n",
      "RangeIndex: 1496 entries, 0 to 1495\n",
      "Data columns (total 7 columns):\n",
      " #   Column             Non-Null Count  Dtype \n",
      "---  ------             --------------  ----- \n",
      " 0   CUSTOMER_REF.hash  1496 non-null   object\n",
      " 1   ACCOUNT_NUM.hash   1496 non-null   object\n",
      " 2   MAX_DSP            1495 non-null   object\n",
      " 3   ORDER_CONDITION    1496 non-null   object\n",
      " 4   ADDING_PROMO       1467 non-null   object\n",
      " 5   Deleting_PROMO     1467 non-null   object\n",
      " 6   Updating_PROMO     5 non-null      object\n",
      "dtypes: object(7)\n",
      "memory usage: 81.9+ KB\n"
     ]
    }
   ],
   "source": [
    "promotion_df.info()"
   ]
  },
  {
   "cell_type": "markdown",
   "metadata": {},
   "source": [
    "### Exporting customer - subscription dataset"
   ]
  },
  {
   "cell_type": "code",
   "execution_count": 725,
   "metadata": {},
   "outputs": [],
   "source": [
    "sub_df = promotion_df[[\"CUSTOMER_REF.hash\",\"ACCOUNT_NUM.hash\",\"ADDING_PROMO\"]]"
   ]
  },
  {
   "cell_type": "code",
   "execution_count": 726,
   "metadata": {},
   "outputs": [
    {
     "name": "stderr",
     "output_type": "stream",
     "text": [
      "/home/chiran/anaconda3/lib/python3.8/site-packages/pandas/core/frame.py:4296: SettingWithCopyWarning: \n",
      "A value is trying to be set on a copy of a slice from a DataFrame\n",
      "\n",
      "See the caveats in the documentation: https://pandas.pydata.org/pandas-docs/stable/user_guide/indexing.html#returning-a-view-versus-a-copy\n",
      "  return super().rename(\n"
     ]
    }
   ],
   "source": [
    "sub_df.rename(columns={\"ADDING_PROMO\":\"Subscription\"}, inplace=True)"
   ]
  },
  {
   "cell_type": "code",
   "execution_count": 727,
   "metadata": {},
   "outputs": [
    {
     "data": {
      "text/plain": [
       "array(['SLT Megaline Double Play (PV) Package',\n",
       "       'SLT Megaline Triple Play Package',\n",
       "       'SLT Megaline Single Play Package',\n",
       "       'SLT Megaline Double Play (BV) Package', nan,\n",
       "       'SLT Smartline Triple Play', 'SLT LTE Double Play Package',\n",
       "       'SLT LTE 4G Biz Pal Package', 'SLT Smartline Double Play (PV)',\n",
       "       'SLT LTE 4G Net Pal Package', 'SLT LTE 4G Voice Pal Basic Package',\n",
       "       'SLT Smartline Double Play (BV)'], dtype=object)"
      ]
     },
     "execution_count": 727,
     "metadata": {},
     "output_type": "execute_result"
    }
   ],
   "source": [
    "sub_df[\"Subscription\"].unique()"
   ]
  },
  {
   "cell_type": "code",
   "execution_count": 728,
   "metadata": {},
   "outputs": [
    {
     "data": {
      "text/plain": [
       "CUSTOMER_REF.hash     0\n",
       "ACCOUNT_NUM.hash      0\n",
       "Subscription         29\n",
       "dtype: int64"
      ]
     },
     "execution_count": 728,
     "metadata": {},
     "output_type": "execute_result"
    }
   ],
   "source": [
    "sub_df.isnull().sum(axis=0)"
   ]
  },
  {
   "cell_type": "code",
   "execution_count": 729,
   "metadata": {},
   "outputs": [
    {
     "name": "stderr",
     "output_type": "stream",
     "text": [
      "<ipython-input-729-127880e692ed>:1: SettingWithCopyWarning: \n",
      "A value is trying to be set on a copy of a slice from a DataFrame\n",
      "\n",
      "See the caveats in the documentation: https://pandas.pydata.org/pandas-docs/stable/user_guide/indexing.html#returning-a-view-versus-a-copy\n",
      "  sub_df.dropna(inplace=True)\n"
     ]
    }
   ],
   "source": [
    "sub_df.dropna(inplace=True)"
   ]
  },
  {
   "cell_type": "code",
   "execution_count": 730,
   "metadata": {},
   "outputs": [],
   "source": [
    "def sub_type(sub):\n",
    "    if \"Single Play\" in sub:\n",
    "        return \"SINGLE_PLAY\"\n",
    "    if \"Triple Play\" in sub:\n",
    "        return \"TRIPLE_PLAY\"\n",
    "    if \"Double Play (PV)\" in sub:\n",
    "        return \"DOUBLE_PLAY_PV\"\n",
    "    if \"Double Play (BV)\" in sub or \"LTE Double Play\" in sub:\n",
    "        return \"DOUBLE_PLAY_BV\"\n",
    "    if \"LTE 4G\" in sub:\n",
    "        return \"4G\""
   ]
  },
  {
   "cell_type": "code",
   "execution_count": 731,
   "metadata": {},
   "outputs": [
    {
     "name": "stderr",
     "output_type": "stream",
     "text": [
      "<ipython-input-731-96b5985bec8f>:1: SettingWithCopyWarning: \n",
      "A value is trying to be set on a copy of a slice from a DataFrame.\n",
      "Try using .loc[row_indexer,col_indexer] = value instead\n",
      "\n",
      "See the caveats in the documentation: https://pandas.pydata.org/pandas-docs/stable/user_guide/indexing.html#returning-a-view-versus-a-copy\n",
      "  sub_df[\"Sub_Type\"] = sub_df[\"Subscription\"].apply(lambda x: sub_type(x))\n"
     ]
    }
   ],
   "source": [
    "sub_df[\"Sub_Type\"] = sub_df[\"Subscription\"].apply(lambda x: sub_type(x))"
   ]
  },
  {
   "cell_type": "code",
   "execution_count": 732,
   "metadata": {},
   "outputs": [
    {
     "data": {
      "text/plain": [
       "TRIPLE_PLAY       491\n",
       "DOUBLE_PLAY_PV    347\n",
       "SINGLE_PLAY       323\n",
       "DOUBLE_PLAY_BV    303\n",
       "4G                  3\n",
       "Name: Sub_Type, dtype: int64"
      ]
     },
     "execution_count": 732,
     "metadata": {},
     "output_type": "execute_result"
    }
   ],
   "source": [
    "sub_df[\"Sub_Type\"].value_counts()"
   ]
  },
  {
   "cell_type": "code",
   "execution_count": 733,
   "metadata": {},
   "outputs": [],
   "source": [
    "# Mapping phone number\n",
    "sub_df = sub_df.merge(acc_no_map,how='left',on=[\"ACCOUNT_NUM.hash\",\"CUSTOMER_REF.hash\"])"
   ]
  },
  {
   "cell_type": "code",
   "execution_count": 734,
   "metadata": {},
   "outputs": [
    {
     "data": {
      "text/html": [
       "<div>\n",
       "<style scoped>\n",
       "    .dataframe tbody tr th:only-of-type {\n",
       "        vertical-align: middle;\n",
       "    }\n",
       "\n",
       "    .dataframe tbody tr th {\n",
       "        vertical-align: top;\n",
       "    }\n",
       "\n",
       "    .dataframe thead th {\n",
       "        text-align: right;\n",
       "    }\n",
       "</style>\n",
       "<table border=\"1\" class=\"dataframe\">\n",
       "  <thead>\n",
       "    <tr style=\"text-align: right;\">\n",
       "      <th></th>\n",
       "      <th>event_source.hash</th>\n",
       "      <th>ACCOUNT_NUM.hash</th>\n",
       "      <th>CUSTOMER_REF.hash</th>\n",
       "      <th>Subscription</th>\n",
       "      <th>Sub_Type</th>\n",
       "    </tr>\n",
       "  </thead>\n",
       "  <tbody>\n",
       "    <tr>\n",
       "      <th>0</th>\n",
       "      <td>0d3e013c9b350387311e17773bfc6e17</td>\n",
       "      <td>59322724d5029e5667d19ae164cdc16d</td>\n",
       "      <td>efeab37d377b0f32b7f70b159f824652</td>\n",
       "      <td>SLT Megaline Double Play (PV) Package</td>\n",
       "      <td>DOUBLE_PLAY_PV</td>\n",
       "    </tr>\n",
       "    <tr>\n",
       "      <th>1</th>\n",
       "      <td>56ad7e0c53f6cb5a35f056f58317d627</td>\n",
       "      <td>59322724d5029e5667d19ae164cdc16d</td>\n",
       "      <td>efeab37d377b0f32b7f70b159f824652</td>\n",
       "      <td>SLT Megaline Double Play (PV) Package</td>\n",
       "      <td>DOUBLE_PLAY_PV</td>\n",
       "    </tr>\n",
       "    <tr>\n",
       "      <th>2</th>\n",
       "      <td>0d13e2f0bd4ce0b3d28c1cea1319a109</td>\n",
       "      <td>59322724d5029e5667d19ae164cdc16d</td>\n",
       "      <td>efeab37d377b0f32b7f70b159f824652</td>\n",
       "      <td>SLT Megaline Double Play (PV) Package</td>\n",
       "      <td>DOUBLE_PLAY_PV</td>\n",
       "    </tr>\n",
       "    <tr>\n",
       "      <th>3</th>\n",
       "      <td>c04d14b1ae606541c9c6ae0e6b368086</td>\n",
       "      <td>59322724d5029e5667d19ae164cdc16d</td>\n",
       "      <td>efeab37d377b0f32b7f70b159f824652</td>\n",
       "      <td>SLT Megaline Double Play (PV) Package</td>\n",
       "      <td>DOUBLE_PLAY_PV</td>\n",
       "    </tr>\n",
       "    <tr>\n",
       "      <th>4</th>\n",
       "      <td>6290167ca39638c98f743122d90c75bb</td>\n",
       "      <td>59322724d5029e5667d19ae164cdc16d</td>\n",
       "      <td>efeab37d377b0f32b7f70b159f824652</td>\n",
       "      <td>SLT Megaline Double Play (PV) Package</td>\n",
       "      <td>DOUBLE_PLAY_PV</td>\n",
       "    </tr>\n",
       "    <tr>\n",
       "      <th>...</th>\n",
       "      <td>...</td>\n",
       "      <td>...</td>\n",
       "      <td>...</td>\n",
       "      <td>...</td>\n",
       "      <td>...</td>\n",
       "    </tr>\n",
       "    <tr>\n",
       "      <th>20281</th>\n",
       "      <td>7273147fecbe61d8d2a46d4c81ac28a6</td>\n",
       "      <td>7aa8c0a144b14c0d37d9b50e420c4773</td>\n",
       "      <td>ebd74330fc980cc9a5f9b06cd275eaca</td>\n",
       "      <td>SLT Megaline Triple Play Package</td>\n",
       "      <td>TRIPLE_PLAY</td>\n",
       "    </tr>\n",
       "    <tr>\n",
       "      <th>20282</th>\n",
       "      <td>e50847ef96deae5e77baf1c842536376</td>\n",
       "      <td>1b90f00af43142138b9b33bb1cbf00dd</td>\n",
       "      <td>5ef66392d4c836402c076f423060f390</td>\n",
       "      <td>SLT Megaline Single Play Package</td>\n",
       "      <td>SINGLE_PLAY</td>\n",
       "    </tr>\n",
       "    <tr>\n",
       "      <th>20283</th>\n",
       "      <td>4d745e7d1d13f7ae04bdf2fb6a20aecb</td>\n",
       "      <td>1b90f00af43142138b9b33bb1cbf00dd</td>\n",
       "      <td>5ef66392d4c836402c076f423060f390</td>\n",
       "      <td>SLT Megaline Single Play Package</td>\n",
       "      <td>SINGLE_PLAY</td>\n",
       "    </tr>\n",
       "    <tr>\n",
       "      <th>20284</th>\n",
       "      <td>0f26a3a983b6440f508d5561ba8ace95</td>\n",
       "      <td>1b90f00af43142138b9b33bb1cbf00dd</td>\n",
       "      <td>5ef66392d4c836402c076f423060f390</td>\n",
       "      <td>SLT Megaline Single Play Package</td>\n",
       "      <td>SINGLE_PLAY</td>\n",
       "    </tr>\n",
       "    <tr>\n",
       "      <th>20285</th>\n",
       "      <td>43e8ce750aa9bfb5e545408ce862ce6d</td>\n",
       "      <td>3c51761a6fb0afadf335a01400591b19</td>\n",
       "      <td>d30d02cd40b541aca52dff98adc24449</td>\n",
       "      <td>SLT Megaline Double Play (PV) Package</td>\n",
       "      <td>DOUBLE_PLAY_PV</td>\n",
       "    </tr>\n",
       "  </tbody>\n",
       "</table>\n",
       "<p>20286 rows × 5 columns</p>\n",
       "</div>"
      ],
      "text/plain": [
       "                      event_source.hash                  ACCOUNT_NUM.hash  \\\n",
       "0      0d3e013c9b350387311e17773bfc6e17  59322724d5029e5667d19ae164cdc16d   \n",
       "1      56ad7e0c53f6cb5a35f056f58317d627  59322724d5029e5667d19ae164cdc16d   \n",
       "2      0d13e2f0bd4ce0b3d28c1cea1319a109  59322724d5029e5667d19ae164cdc16d   \n",
       "3      c04d14b1ae606541c9c6ae0e6b368086  59322724d5029e5667d19ae164cdc16d   \n",
       "4      6290167ca39638c98f743122d90c75bb  59322724d5029e5667d19ae164cdc16d   \n",
       "...                                 ...                               ...   \n",
       "20281  7273147fecbe61d8d2a46d4c81ac28a6  7aa8c0a144b14c0d37d9b50e420c4773   \n",
       "20282  e50847ef96deae5e77baf1c842536376  1b90f00af43142138b9b33bb1cbf00dd   \n",
       "20283  4d745e7d1d13f7ae04bdf2fb6a20aecb  1b90f00af43142138b9b33bb1cbf00dd   \n",
       "20284  0f26a3a983b6440f508d5561ba8ace95  1b90f00af43142138b9b33bb1cbf00dd   \n",
       "20285  43e8ce750aa9bfb5e545408ce862ce6d  3c51761a6fb0afadf335a01400591b19   \n",
       "\n",
       "                      CUSTOMER_REF.hash  \\\n",
       "0      efeab37d377b0f32b7f70b159f824652   \n",
       "1      efeab37d377b0f32b7f70b159f824652   \n",
       "2      efeab37d377b0f32b7f70b159f824652   \n",
       "3      efeab37d377b0f32b7f70b159f824652   \n",
       "4      efeab37d377b0f32b7f70b159f824652   \n",
       "...                                 ...   \n",
       "20281  ebd74330fc980cc9a5f9b06cd275eaca   \n",
       "20282  5ef66392d4c836402c076f423060f390   \n",
       "20283  5ef66392d4c836402c076f423060f390   \n",
       "20284  5ef66392d4c836402c076f423060f390   \n",
       "20285  d30d02cd40b541aca52dff98adc24449   \n",
       "\n",
       "                                Subscription        Sub_Type  \n",
       "0      SLT Megaline Double Play (PV) Package  DOUBLE_PLAY_PV  \n",
       "1      SLT Megaline Double Play (PV) Package  DOUBLE_PLAY_PV  \n",
       "2      SLT Megaline Double Play (PV) Package  DOUBLE_PLAY_PV  \n",
       "3      SLT Megaline Double Play (PV) Package  DOUBLE_PLAY_PV  \n",
       "4      SLT Megaline Double Play (PV) Package  DOUBLE_PLAY_PV  \n",
       "...                                      ...             ...  \n",
       "20281       SLT Megaline Triple Play Package     TRIPLE_PLAY  \n",
       "20282       SLT Megaline Single Play Package     SINGLE_PLAY  \n",
       "20283       SLT Megaline Single Play Package     SINGLE_PLAY  \n",
       "20284       SLT Megaline Single Play Package     SINGLE_PLAY  \n",
       "20285  SLT Megaline Double Play (PV) Package  DOUBLE_PLAY_PV  \n",
       "\n",
       "[20286 rows x 5 columns]"
      ]
     },
     "execution_count": 734,
     "metadata": {},
     "output_type": "execute_result"
    }
   ],
   "source": [
    "sub_df.drop_duplicates([\"event_source.hash\"],inplace=True)\n",
    "sub_df.reset_index(inplace=True)\n",
    "sub_df.drop([\"index\"],axis=1,inplace=True)\n",
    "sub_df = sub_df[[\"event_source.hash\",\"ACCOUNT_NUM.hash\",\"CUSTOMER_REF.hash\",\"Subscription\",\"Sub_Type\"]]\n",
    "sub_df"
   ]
  },
  {
   "cell_type": "code",
   "execution_count": 735,
   "metadata": {},
   "outputs": [
    {
     "data": {
      "text/plain": [
       "event_source.hash    0\n",
       "ACCOUNT_NUM.hash     0\n",
       "CUSTOMER_REF.hash    0\n",
       "Subscription         0\n",
       "Sub_Type             0\n",
       "dtype: int64"
      ]
     },
     "execution_count": 735,
     "metadata": {},
     "output_type": "execute_result"
    }
   ],
   "source": [
    "sub_df.isnull().sum(axis=0)"
   ]
  },
  {
   "cell_type": "code",
   "execution_count": 736,
   "metadata": {},
   "outputs": [],
   "source": [
    "sub_df.to_csv(\"data/user_profile/User_Subscription_Map.csv\")"
   ]
  },
  {
   "cell_type": "code",
   "execution_count": null,
   "metadata": {},
   "outputs": [],
   "source": []
  },
  {
   "cell_type": "markdown",
   "metadata": {},
   "source": [
    "## Subscription Upgrades and Downgrades"
   ]
  },
  {
   "cell_type": "code",
   "execution_count": 737,
   "metadata": {},
   "outputs": [],
   "source": [
    "promo_change_df = promotion_df[[\"ACCOUNT_NUM.hash\",\"MAX_DSP\",\"ORDER_CONDITION\",\"Deleting_PROMO\",\"ADDING_PROMO\"]].merge(acc_no_map,how='left',on=[\"ACCOUNT_NUM.hash\"])"
   ]
  },
  {
   "cell_type": "code",
   "execution_count": 738,
   "metadata": {},
   "outputs": [],
   "source": [
    "promo_change_df.drop_duplicates([\"event_source.hash\"],inplace=True)\n",
    "promo_change_df.reset_index(inplace=True)\n",
    "promo_change_df.drop([\"index\"],axis=1,inplace=True)\n",
    "promo_change_df.rename(columns={\"MAX_DSP\":\"Sub_Update_Date\",\"ORDER_CONDITION\":\"Sub_Update_Status\",\"Deleting_PROMO\":\"Sub_Removed\",\"ADDING_PROMO\":\"Sub_Added\"},inplace=True)"
   ]
  },
  {
   "cell_type": "code",
   "execution_count": 739,
   "metadata": {},
   "outputs": [
    {
     "data": {
      "text/html": [
       "<div>\n",
       "<style scoped>\n",
       "    .dataframe tbody tr th:only-of-type {\n",
       "        vertical-align: middle;\n",
       "    }\n",
       "\n",
       "    .dataframe tbody tr th {\n",
       "        vertical-align: top;\n",
       "    }\n",
       "\n",
       "    .dataframe thead th {\n",
       "        text-align: right;\n",
       "    }\n",
       "</style>\n",
       "<table border=\"1\" class=\"dataframe\">\n",
       "  <thead>\n",
       "    <tr style=\"text-align: right;\">\n",
       "      <th></th>\n",
       "      <th>event_source.hash</th>\n",
       "      <th>ACCOUNT_NUM.hash</th>\n",
       "      <th>CUSTOMER_REF.hash</th>\n",
       "      <th>Sub_Update_Date</th>\n",
       "      <th>Sub_Update_Status</th>\n",
       "      <th>Sub_Added</th>\n",
       "      <th>Sub_Removed</th>\n",
       "    </tr>\n",
       "  </thead>\n",
       "  <tbody>\n",
       "    <tr>\n",
       "      <th>0</th>\n",
       "      <td>0d3e013c9b350387311e17773bfc6e17</td>\n",
       "      <td>59322724d5029e5667d19ae164cdc16d</td>\n",
       "      <td>efeab37d377b0f32b7f70b159f824652</td>\n",
       "      <td>26/06/2020 15:24:00</td>\n",
       "      <td>Promotion Upgrade</td>\n",
       "      <td>SLT Megaline Double Play (PV) Package</td>\n",
       "      <td>SLT Megaline Single Play Package</td>\n",
       "    </tr>\n",
       "    <tr>\n",
       "      <th>1</th>\n",
       "      <td>56ad7e0c53f6cb5a35f056f58317d627</td>\n",
       "      <td>59322724d5029e5667d19ae164cdc16d</td>\n",
       "      <td>efeab37d377b0f32b7f70b159f824652</td>\n",
       "      <td>26/06/2020 15:24:00</td>\n",
       "      <td>Promotion Upgrade</td>\n",
       "      <td>SLT Megaline Double Play (PV) Package</td>\n",
       "      <td>SLT Megaline Single Play Package</td>\n",
       "    </tr>\n",
       "    <tr>\n",
       "      <th>2</th>\n",
       "      <td>0d13e2f0bd4ce0b3d28c1cea1319a109</td>\n",
       "      <td>59322724d5029e5667d19ae164cdc16d</td>\n",
       "      <td>efeab37d377b0f32b7f70b159f824652</td>\n",
       "      <td>26/06/2020 15:24:00</td>\n",
       "      <td>Promotion Upgrade</td>\n",
       "      <td>SLT Megaline Double Play (PV) Package</td>\n",
       "      <td>SLT Megaline Single Play Package</td>\n",
       "    </tr>\n",
       "    <tr>\n",
       "      <th>3</th>\n",
       "      <td>c04d14b1ae606541c9c6ae0e6b368086</td>\n",
       "      <td>59322724d5029e5667d19ae164cdc16d</td>\n",
       "      <td>efeab37d377b0f32b7f70b159f824652</td>\n",
       "      <td>26/06/2020 15:24:00</td>\n",
       "      <td>Promotion Upgrade</td>\n",
       "      <td>SLT Megaline Double Play (PV) Package</td>\n",
       "      <td>SLT Megaline Single Play Package</td>\n",
       "    </tr>\n",
       "    <tr>\n",
       "      <th>4</th>\n",
       "      <td>6290167ca39638c98f743122d90c75bb</td>\n",
       "      <td>59322724d5029e5667d19ae164cdc16d</td>\n",
       "      <td>efeab37d377b0f32b7f70b159f824652</td>\n",
       "      <td>26/06/2020 15:24:00</td>\n",
       "      <td>Promotion Upgrade</td>\n",
       "      <td>SLT Megaline Double Play (PV) Package</td>\n",
       "      <td>SLT Megaline Single Play Package</td>\n",
       "    </tr>\n",
       "    <tr>\n",
       "      <th>...</th>\n",
       "      <td>...</td>\n",
       "      <td>...</td>\n",
       "      <td>...</td>\n",
       "      <td>...</td>\n",
       "      <td>...</td>\n",
       "      <td>...</td>\n",
       "      <td>...</td>\n",
       "    </tr>\n",
       "    <tr>\n",
       "      <th>20304</th>\n",
       "      <td>7273147fecbe61d8d2a46d4c81ac28a6</td>\n",
       "      <td>7aa8c0a144b14c0d37d9b50e420c4773</td>\n",
       "      <td>ebd74330fc980cc9a5f9b06cd275eaca</td>\n",
       "      <td>05/02/2020 18:21:00</td>\n",
       "      <td>Promotion Upgrade</td>\n",
       "      <td>SLT Megaline Triple Play Package</td>\n",
       "      <td>SLT Megaline Single Play Package</td>\n",
       "    </tr>\n",
       "    <tr>\n",
       "      <th>20305</th>\n",
       "      <td>e50847ef96deae5e77baf1c842536376</td>\n",
       "      <td>1b90f00af43142138b9b33bb1cbf00dd</td>\n",
       "      <td>5ef66392d4c836402c076f423060f390</td>\n",
       "      <td>29/01/2020 12:34:00</td>\n",
       "      <td>Promotion Downgrade</td>\n",
       "      <td>SLT Megaline Single Play Package</td>\n",
       "      <td>SLT Megaline Double Play (BV) Package</td>\n",
       "    </tr>\n",
       "    <tr>\n",
       "      <th>20306</th>\n",
       "      <td>4d745e7d1d13f7ae04bdf2fb6a20aecb</td>\n",
       "      <td>1b90f00af43142138b9b33bb1cbf00dd</td>\n",
       "      <td>5ef66392d4c836402c076f423060f390</td>\n",
       "      <td>29/01/2020 12:34:00</td>\n",
       "      <td>Promotion Downgrade</td>\n",
       "      <td>SLT Megaline Single Play Package</td>\n",
       "      <td>SLT Megaline Double Play (BV) Package</td>\n",
       "    </tr>\n",
       "    <tr>\n",
       "      <th>20307</th>\n",
       "      <td>0f26a3a983b6440f508d5561ba8ace95</td>\n",
       "      <td>1b90f00af43142138b9b33bb1cbf00dd</td>\n",
       "      <td>5ef66392d4c836402c076f423060f390</td>\n",
       "      <td>29/01/2020 12:34:00</td>\n",
       "      <td>Promotion Downgrade</td>\n",
       "      <td>SLT Megaline Single Play Package</td>\n",
       "      <td>SLT Megaline Double Play (BV) Package</td>\n",
       "    </tr>\n",
       "    <tr>\n",
       "      <th>20308</th>\n",
       "      <td>43e8ce750aa9bfb5e545408ce862ce6d</td>\n",
       "      <td>3c51761a6fb0afadf335a01400591b19</td>\n",
       "      <td>d30d02cd40b541aca52dff98adc24449</td>\n",
       "      <td>29/01/2020 12:54:25</td>\n",
       "      <td>Promotion Downgrade</td>\n",
       "      <td>SLT Megaline Double Play (PV) Package</td>\n",
       "      <td>SLT Megaline Triple Play Package</td>\n",
       "    </tr>\n",
       "  </tbody>\n",
       "</table>\n",
       "<p>20309 rows × 7 columns</p>\n",
       "</div>"
      ],
      "text/plain": [
       "                      event_source.hash                  ACCOUNT_NUM.hash  \\\n",
       "0      0d3e013c9b350387311e17773bfc6e17  59322724d5029e5667d19ae164cdc16d   \n",
       "1      56ad7e0c53f6cb5a35f056f58317d627  59322724d5029e5667d19ae164cdc16d   \n",
       "2      0d13e2f0bd4ce0b3d28c1cea1319a109  59322724d5029e5667d19ae164cdc16d   \n",
       "3      c04d14b1ae606541c9c6ae0e6b368086  59322724d5029e5667d19ae164cdc16d   \n",
       "4      6290167ca39638c98f743122d90c75bb  59322724d5029e5667d19ae164cdc16d   \n",
       "...                                 ...                               ...   \n",
       "20304  7273147fecbe61d8d2a46d4c81ac28a6  7aa8c0a144b14c0d37d9b50e420c4773   \n",
       "20305  e50847ef96deae5e77baf1c842536376  1b90f00af43142138b9b33bb1cbf00dd   \n",
       "20306  4d745e7d1d13f7ae04bdf2fb6a20aecb  1b90f00af43142138b9b33bb1cbf00dd   \n",
       "20307  0f26a3a983b6440f508d5561ba8ace95  1b90f00af43142138b9b33bb1cbf00dd   \n",
       "20308  43e8ce750aa9bfb5e545408ce862ce6d  3c51761a6fb0afadf335a01400591b19   \n",
       "\n",
       "                      CUSTOMER_REF.hash      Sub_Update_Date  \\\n",
       "0      efeab37d377b0f32b7f70b159f824652  26/06/2020 15:24:00   \n",
       "1      efeab37d377b0f32b7f70b159f824652  26/06/2020 15:24:00   \n",
       "2      efeab37d377b0f32b7f70b159f824652  26/06/2020 15:24:00   \n",
       "3      efeab37d377b0f32b7f70b159f824652  26/06/2020 15:24:00   \n",
       "4      efeab37d377b0f32b7f70b159f824652  26/06/2020 15:24:00   \n",
       "...                                 ...                  ...   \n",
       "20304  ebd74330fc980cc9a5f9b06cd275eaca  05/02/2020 18:21:00   \n",
       "20305  5ef66392d4c836402c076f423060f390  29/01/2020 12:34:00   \n",
       "20306  5ef66392d4c836402c076f423060f390  29/01/2020 12:34:00   \n",
       "20307  5ef66392d4c836402c076f423060f390  29/01/2020 12:34:00   \n",
       "20308  d30d02cd40b541aca52dff98adc24449  29/01/2020 12:54:25   \n",
       "\n",
       "         Sub_Update_Status                              Sub_Added  \\\n",
       "0        Promotion Upgrade  SLT Megaline Double Play (PV) Package   \n",
       "1        Promotion Upgrade  SLT Megaline Double Play (PV) Package   \n",
       "2        Promotion Upgrade  SLT Megaline Double Play (PV) Package   \n",
       "3        Promotion Upgrade  SLT Megaline Double Play (PV) Package   \n",
       "4        Promotion Upgrade  SLT Megaline Double Play (PV) Package   \n",
       "...                    ...                                    ...   \n",
       "20304    Promotion Upgrade       SLT Megaline Triple Play Package   \n",
       "20305  Promotion Downgrade       SLT Megaline Single Play Package   \n",
       "20306  Promotion Downgrade       SLT Megaline Single Play Package   \n",
       "20307  Promotion Downgrade       SLT Megaline Single Play Package   \n",
       "20308  Promotion Downgrade  SLT Megaline Double Play (PV) Package   \n",
       "\n",
       "                                 Sub_Removed  \n",
       "0           SLT Megaline Single Play Package  \n",
       "1           SLT Megaline Single Play Package  \n",
       "2           SLT Megaline Single Play Package  \n",
       "3           SLT Megaline Single Play Package  \n",
       "4           SLT Megaline Single Play Package  \n",
       "...                                      ...  \n",
       "20304       SLT Megaline Single Play Package  \n",
       "20305  SLT Megaline Double Play (BV) Package  \n",
       "20306  SLT Megaline Double Play (BV) Package  \n",
       "20307  SLT Megaline Double Play (BV) Package  \n",
       "20308       SLT Megaline Triple Play Package  \n",
       "\n",
       "[20309 rows x 7 columns]"
      ]
     },
     "execution_count": 739,
     "metadata": {},
     "output_type": "execute_result"
    }
   ],
   "source": [
    "promo_change_df = promo_change_df[[\"event_source.hash\",\"ACCOUNT_NUM.hash\",\"CUSTOMER_REF.hash\",\"Sub_Update_Date\",\"Sub_Update_Status\",\"Sub_Added\",\"Sub_Removed\"]]\n",
    "promo_change_df"
   ]
  },
  {
   "cell_type": "code",
   "execution_count": 740,
   "metadata": {},
   "outputs": [
    {
     "data": {
      "text/plain": [
       "event_source.hash      0\n",
       "ACCOUNT_NUM.hash       0\n",
       "CUSTOMER_REF.hash      0\n",
       "Sub_Update_Date        0\n",
       "Sub_Update_Status      0\n",
       "Sub_Added            403\n",
       "Sub_Removed          403\n",
       "dtype: int64"
      ]
     },
     "execution_count": 740,
     "metadata": {},
     "output_type": "execute_result"
    }
   ],
   "source": [
    "promo_change_df.isnull().sum(axis=0)"
   ]
  },
  {
   "cell_type": "code",
   "execution_count": 741,
   "metadata": {},
   "outputs": [],
   "source": [
    "promo_change_df.dropna(inplace=True)"
   ]
  },
  {
   "cell_type": "code",
   "execution_count": 742,
   "metadata": {},
   "outputs": [],
   "source": [
    "promo_change_df[\"Sub_Removed\"] = promo_change_df[\"Sub_Removed\"].apply(lambda x: sub_type(x))\n",
    "promo_change_df[\"Sub_Added\"] = promo_change_df[\"Sub_Added\"].apply(lambda x: sub_type(x))"
   ]
  },
  {
   "cell_type": "code",
   "execution_count": 743,
   "metadata": {},
   "outputs": [],
   "source": [
    "def sub_change_state(sub1,sub2):\n",
    "    return f\"{sub1} -> {sub2}\""
   ]
  },
  {
   "cell_type": "code",
   "execution_count": 744,
   "metadata": {},
   "outputs": [],
   "source": [
    "promo_change_df[\"Sub_Update\"] = promo_change_df.apply(lambda x: sub_change_state(x[\"Sub_Removed\"],x[\"Sub_Added\"]),axis=1)"
   ]
  },
  {
   "cell_type": "code",
   "execution_count": 745,
   "metadata": {},
   "outputs": [
    {
     "data": {
      "text/plain": [
       "Sub_Update_Status    Sub_Update                      \n",
       "Promotion Upgrade    SINGLE_PLAY -> DOUBLE_PLAY_BV       8571\n",
       "                     SINGLE_PLAY -> DOUBLE_PLAY_PV       6521\n",
       "Promotion Downgrade  DOUBLE_PLAY_BV -> SINGLE_PLAY       2052\n",
       "Promotion Upgrade    DOUBLE_PLAY_PV -> TRIPLE_PLAY       1541\n",
       "                     DOUBLE_PLAY_BV -> TRIPLE_PLAY        376\n",
       "                     TRIPLE_PLAY -> DOUBLE_PLAY_BV        249\n",
       "Promotion Downgrade  DOUBLE_PLAY_PV -> SINGLE_PLAY        197\n",
       "                     TRIPLE_PLAY -> DOUBLE_PLAY_PV        111\n",
       "Promotion Upgrade    4G -> 4G                             102\n",
       "                     SINGLE_PLAY -> TRIPLE_PLAY            80\n",
       "Promotion Downgrade  TRIPLE_PLAY -> SINGLE_PLAY            66\n",
       "                     TRIPLE_PLAY -> DOUBLE_PLAY_BV         29\n",
       "Promotion Upgrade    TRIPLE_PLAY -> DOUBLE_PLAY_PV          3\n",
       "                     DOUBLE_PLAY_BV -> SINGLE_PLAY          2\n",
       "                     DOUBLE_PLAY_PV -> DOUBLE_PLAY_BV       2\n",
       "Promotion Downgrade  DOUBLE_PLAY_BV -> TRIPLE_PLAY          2\n",
       "                     SINGLE_PLAY -> DOUBLE_PLAY_BV          1\n",
       "                     DOUBLE_PLAY_PV -> TRIPLE_PLAY          1\n",
       "dtype: int64"
      ]
     },
     "execution_count": 745,
     "metadata": {},
     "output_type": "execute_result"
    }
   ],
   "source": [
    "promo_change_df[[\"Sub_Update_Status\",\"Sub_Update\"]].value_counts()"
   ]
  },
  {
   "cell_type": "code",
   "execution_count": 746,
   "metadata": {},
   "outputs": [],
   "source": [
    "promo_change_df.drop(promo_change_df.query(\"Sub_Update_Status == 'Promotion Upgrade' & Sub_Update == 'TRIPLE_PLAY -> DOUBLE_PLAY_BV'\").index, inplace=True)"
   ]
  },
  {
   "cell_type": "code",
   "execution_count": 747,
   "metadata": {},
   "outputs": [],
   "source": [
    "promo_change_df.drop(promo_change_df.query(\"Sub_Update_Status == 'Promotion Upgrade' & Sub_Update == 'TRIPLE_PLAY -> DOUBLE_PLAY_PV'\").index, inplace=True)"
   ]
  },
  {
   "cell_type": "code",
   "execution_count": 748,
   "metadata": {},
   "outputs": [],
   "source": [
    "promo_change_df.drop(promo_change_df.query(\"Sub_Update_Status == 'Promotion Downgrade' & Sub_Update == 'SINGLE_PLAY -> DOUBLE_PLAY_BV'\").index, inplace=True)"
   ]
  },
  {
   "cell_type": "code",
   "execution_count": 749,
   "metadata": {},
   "outputs": [],
   "source": [
    "promo_change_df.drop(promo_change_df.query(\"Sub_Update_Status == 'Promotion Downgrade' & Sub_Update == 'DOUBLE_PLAY_BV -> TRIPLE_PLAY'\").index, inplace=True)"
   ]
  },
  {
   "cell_type": "code",
   "execution_count": 750,
   "metadata": {},
   "outputs": [],
   "source": [
    "promo_change_df.drop(promo_change_df.query(\"Sub_Update_Status == 'Promotion Downgrade' & Sub_Update == 'DOUBLE_PLAY_PV -> TRIPLE_PLAY'\").index, inplace=True)"
   ]
  },
  {
   "cell_type": "code",
   "execution_count": 751,
   "metadata": {},
   "outputs": [],
   "source": [
    "promo_change_df.drop(promo_change_df.query(\"Sub_Update_Status == 'Promotion Upgrade' & Sub_Update == 'DOUBLE_PLAY_BV -> SINGLE_PLAY'\").index, inplace=True)"
   ]
  },
  {
   "cell_type": "code",
   "execution_count": 752,
   "metadata": {},
   "outputs": [
    {
     "data": {
      "text/plain": [
       "Sub_Update_Status    Sub_Update                      \n",
       "Promotion Upgrade    SINGLE_PLAY -> DOUBLE_PLAY_BV       8571\n",
       "                     SINGLE_PLAY -> DOUBLE_PLAY_PV       6521\n",
       "Promotion Downgrade  DOUBLE_PLAY_BV -> SINGLE_PLAY       2052\n",
       "Promotion Upgrade    DOUBLE_PLAY_PV -> TRIPLE_PLAY       1541\n",
       "                     DOUBLE_PLAY_BV -> TRIPLE_PLAY        376\n",
       "Promotion Downgrade  DOUBLE_PLAY_PV -> SINGLE_PLAY        197\n",
       "                     TRIPLE_PLAY -> DOUBLE_PLAY_PV        111\n",
       "Promotion Upgrade    4G -> 4G                             102\n",
       "                     SINGLE_PLAY -> TRIPLE_PLAY            80\n",
       "Promotion Downgrade  TRIPLE_PLAY -> SINGLE_PLAY            66\n",
       "                     TRIPLE_PLAY -> DOUBLE_PLAY_BV         29\n",
       "Promotion Upgrade    DOUBLE_PLAY_PV -> DOUBLE_PLAY_BV       2\n",
       "dtype: int64"
      ]
     },
     "execution_count": 752,
     "metadata": {},
     "output_type": "execute_result"
    }
   ],
   "source": [
    "promo_change_df[[\"Sub_Update_Status\",\"Sub_Update\"]].value_counts()"
   ]
  },
  {
   "cell_type": "code",
   "execution_count": 753,
   "metadata": {},
   "outputs": [],
   "source": [
    "promo_change_df.drop([\"Sub_Added\",\"Sub_Removed\"],axis=1,inplace=True)"
   ]
  },
  {
   "cell_type": "code",
   "execution_count": 754,
   "metadata": {},
   "outputs": [
    {
     "name": "stdout",
     "output_type": "stream",
     "text": [
      "<class 'pandas.core.frame.DataFrame'>\n",
      "Int64Index: 19648 entries, 0 to 20308\n",
      "Data columns (total 6 columns):\n",
      " #   Column             Non-Null Count  Dtype \n",
      "---  ------             --------------  ----- \n",
      " 0   event_source.hash  19648 non-null  object\n",
      " 1   ACCOUNT_NUM.hash   19648 non-null  object\n",
      " 2   CUSTOMER_REF.hash  19648 non-null  object\n",
      " 3   Sub_Update_Date    19648 non-null  object\n",
      " 4   Sub_Update_Status  19648 non-null  object\n",
      " 5   Sub_Update         19648 non-null  object\n",
      "dtypes: object(6)\n",
      "memory usage: 1.0+ MB\n"
     ]
    }
   ],
   "source": [
    "promo_change_df.info()"
   ]
  },
  {
   "cell_type": "code",
   "execution_count": 755,
   "metadata": {},
   "outputs": [],
   "source": [
    "promo_change_df.to_csv(\"data/user_profile/User_Subscription_Changes.csv\")"
   ]
  },
  {
   "cell_type": "code",
   "execution_count": null,
   "metadata": {},
   "outputs": [],
   "source": []
  },
  {
   "cell_type": "code",
   "execution_count": null,
   "metadata": {},
   "outputs": [],
   "source": []
  }
 ],
 "metadata": {
  "kernelspec": {
   "display_name": "Python 3",
   "language": "python",
   "name": "python3"
  },
  "language_info": {
   "codemirror_mode": {
    "name": "ipython",
    "version": 3
   },
   "file_extension": ".py",
   "mimetype": "text/x-python",
   "name": "python",
   "nbconvert_exporter": "python",
   "pygments_lexer": "ipython3",
   "version": "3.8.5"
  }
 },
 "nbformat": 4,
 "nbformat_minor": 4
}
