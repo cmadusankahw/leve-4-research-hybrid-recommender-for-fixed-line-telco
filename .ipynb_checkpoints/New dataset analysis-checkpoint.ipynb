{
 "cells": [
  {
   "cell_type": "code",
   "execution_count": 1,
   "metadata": {
    "gather": {
     "logged": 1628307546272
    }
   },
   "outputs": [],
   "source": [
    "import pandas as pd\n",
    "import numpy as np\n",
    "from matplotlib import pyplot as plt\n",
    "from sklearn.preprocessing import MinMaxScaler\n",
    "import seaborn as sns"
   ]
  },
  {
   "cell_type": "code",
   "execution_count": 2,
   "metadata": {
    "gather": {
     "logged": 1628307549088
    }
   },
   "outputs": [],
   "source": [
    "plt.style.use('ggplot')\n",
    "plt.style.use('seaborn-bright')"
   ]
  },
  {
   "cell_type": "markdown",
   "metadata": {},
   "source": [
    "### New Datasets (August 2021)"
   ]
  },
  {
   "cell_type": "markdown",
   "metadata": {},
   "source": [
    "#### PEo TV Channels Mapped with Packages"
   ]
  },
  {
   "cell_type": "code",
   "execution_count": 3,
   "metadata": {},
   "outputs": [],
   "source": [
    "peo_channel_map_df = pd.read_excel(\"data/aug/PeoTV_Channels_Mapped_to_Packages.xlsx\") "
   ]
  },
  {
   "cell_type": "code",
   "execution_count": 4,
   "metadata": {},
   "outputs": [],
   "source": [
    "peo_channel_map_df = peo_channel_map_df.iloc[3:,2:]"
   ]
  },
  {
   "cell_type": "code",
   "execution_count": 5,
   "metadata": {},
   "outputs": [],
   "source": [
    "peo_channel_map_df.columns = peo_channel_map_df.iloc[0,:]"
   ]
  },
  {
   "cell_type": "code",
   "execution_count": 6,
   "metadata": {},
   "outputs": [],
   "source": [
    "peo_channel_map_df.dropna(axis=0, how=\"all\",inplace=True)"
   ]
  },
  {
   "cell_type": "code",
   "execution_count": 7,
   "metadata": {},
   "outputs": [],
   "source": [
    "peo_channel_map_df = peo_channel_map_df.iloc[1:,:]"
   ]
  },
  {
   "cell_type": "code",
   "execution_count": 8,
   "metadata": {},
   "outputs": [],
   "source": [
    "arr = peo_channel_map_df.columns.to_list()\n",
    "arr[0] = \"Channel\"\n",
    "arr[1] = \"Language\"\n",
    "peo_channel_map_df.columns = arr"
   ]
  },
  {
   "cell_type": "code",
   "execution_count": 9,
   "metadata": {},
   "outputs": [],
   "source": [
    "peo_channel_map_df = peo_channel_map_df.T"
   ]
  },
  {
   "cell_type": "code",
   "execution_count": 10,
   "metadata": {},
   "outputs": [],
   "source": [
    "peo_channel_map_df.columns = peo_channel_map_df.iloc[0,:]"
   ]
  },
  {
   "cell_type": "code",
   "execution_count": 11,
   "metadata": {},
   "outputs": [],
   "source": [
    "peo_channel_map_df = peo_channel_map_df.iloc[1:,:]"
   ]
  },
  {
   "cell_type": "code",
   "execution_count": 12,
   "metadata": {},
   "outputs": [
    {
     "data": {
      "text/html": [
       "<div>\n",
       "<style scoped>\n",
       "    .dataframe tbody tr th:only-of-type {\n",
       "        vertical-align: middle;\n",
       "    }\n",
       "\n",
       "    .dataframe tbody tr th {\n",
       "        vertical-align: top;\n",
       "    }\n",
       "\n",
       "    .dataframe thead th {\n",
       "        text-align: right;\n",
       "    }\n",
       "</style>\n",
       "<table border=\"1\" class=\"dataframe\">\n",
       "  <thead>\n",
       "    <tr style=\"text-align: right;\">\n",
       "      <th>Channel</th>\n",
       "      <th>Event TV</th>\n",
       "      <th>Colombo Television</th>\n",
       "      <th>Life TV</th>\n",
       "      <th>UTV</th>\n",
       "      <th>ACE TV</th>\n",
       "      <th>Supreme TV</th>\n",
       "      <th>Jayamaga TV</th>\n",
       "      <th>Relax TV</th>\n",
       "      <th>Channel Eye</th>\n",
       "      <th>ETV</th>\n",
       "      <th>...</th>\n",
       "      <th>Damsathara</th>\n",
       "      <th>Da Vinci</th>\n",
       "      <th>English Club TV</th>\n",
       "      <th>Videsa 5</th>\n",
       "      <th>Videsa 6</th>\n",
       "      <th>Videsa 7</th>\n",
       "      <th>Videsa 8</th>\n",
       "      <th>Videsa 9</th>\n",
       "      <th>Videsa 10</th>\n",
       "      <th>Videsa 11</th>\n",
       "    </tr>\n",
       "  </thead>\n",
       "  <tbody>\n",
       "    <tr>\n",
       "      <th>Language</th>\n",
       "      <td>-</td>\n",
       "      <td>-</td>\n",
       "      <td>-</td>\n",
       "      <td>-</td>\n",
       "      <td>-</td>\n",
       "      <td>-</td>\n",
       "      <td>-</td>\n",
       "      <td>-</td>\n",
       "      <td>English</td>\n",
       "      <td>English</td>\n",
       "      <td>...</td>\n",
       "      <td>Sinhala</td>\n",
       "      <td>English</td>\n",
       "      <td>English</td>\n",
       "      <td>Sinhala</td>\n",
       "      <td>Sinhala</td>\n",
       "      <td>Sinhala</td>\n",
       "      <td>Sinhala</td>\n",
       "      <td>Sinhala</td>\n",
       "      <td>Sinhala</td>\n",
       "      <td>Sinhala</td>\n",
       "    </tr>\n",
       "    <tr>\n",
       "      <th>PEO TV Unnatham</th>\n",
       "      <td>√</td>\n",
       "      <td>√</td>\n",
       "      <td>√</td>\n",
       "      <td>√</td>\n",
       "      <td>NaN</td>\n",
       "      <td>NaN</td>\n",
       "      <td>NaN</td>\n",
       "      <td>NaN</td>\n",
       "      <td>√</td>\n",
       "      <td>NaN</td>\n",
       "      <td>...</td>\n",
       "      <td>NaN</td>\n",
       "      <td>NaN</td>\n",
       "      <td>NaN</td>\n",
       "      <td>NaN</td>\n",
       "      <td>NaN</td>\n",
       "      <td>NaN</td>\n",
       "      <td>NaN</td>\n",
       "      <td>NaN</td>\n",
       "      <td>NaN</td>\n",
       "      <td>NaN</td>\n",
       "    </tr>\n",
       "    <tr>\n",
       "      <th>PEO Silver</th>\n",
       "      <td>√</td>\n",
       "      <td>√</td>\n",
       "      <td>√</td>\n",
       "      <td>√</td>\n",
       "      <td>√</td>\n",
       "      <td>√</td>\n",
       "      <td>√</td>\n",
       "      <td>√</td>\n",
       "      <td>√</td>\n",
       "      <td>√</td>\n",
       "      <td>...</td>\n",
       "      <td>√</td>\n",
       "      <td>NaN</td>\n",
       "      <td>NaN</td>\n",
       "      <td>NaN</td>\n",
       "      <td>√</td>\n",
       "      <td>√</td>\n",
       "      <td>√</td>\n",
       "      <td>√</td>\n",
       "      <td>√</td>\n",
       "      <td>√</td>\n",
       "    </tr>\n",
       "    <tr>\n",
       "      <th>PEO Silver Plus</th>\n",
       "      <td>√</td>\n",
       "      <td>√</td>\n",
       "      <td>√</td>\n",
       "      <td>√</td>\n",
       "      <td>√</td>\n",
       "      <td>√</td>\n",
       "      <td>√</td>\n",
       "      <td>√</td>\n",
       "      <td>√</td>\n",
       "      <td>√</td>\n",
       "      <td>...</td>\n",
       "      <td>√</td>\n",
       "      <td>NaN</td>\n",
       "      <td>NaN</td>\n",
       "      <td>NaN</td>\n",
       "      <td>√</td>\n",
       "      <td>√</td>\n",
       "      <td>√</td>\n",
       "      <td>√</td>\n",
       "      <td>√</td>\n",
       "      <td>√</td>\n",
       "    </tr>\n",
       "    <tr>\n",
       "      <th>PEO Family</th>\n",
       "      <td>√</td>\n",
       "      <td>√</td>\n",
       "      <td>√</td>\n",
       "      <td>√</td>\n",
       "      <td>√</td>\n",
       "      <td>√</td>\n",
       "      <td>√</td>\n",
       "      <td>√</td>\n",
       "      <td>√</td>\n",
       "      <td>√</td>\n",
       "      <td>...</td>\n",
       "      <td>√</td>\n",
       "      <td>√</td>\n",
       "      <td>√</td>\n",
       "      <td>NaN</td>\n",
       "      <td>√</td>\n",
       "      <td>√</td>\n",
       "      <td>√</td>\n",
       "      <td>√</td>\n",
       "      <td>√</td>\n",
       "      <td>√</td>\n",
       "    </tr>\n",
       "    <tr>\n",
       "      <th>PEO Entertainment</th>\n",
       "      <td>√</td>\n",
       "      <td>√</td>\n",
       "      <td>√</td>\n",
       "      <td>√</td>\n",
       "      <td>√</td>\n",
       "      <td>√</td>\n",
       "      <td>√</td>\n",
       "      <td>√</td>\n",
       "      <td>√</td>\n",
       "      <td>√</td>\n",
       "      <td>...</td>\n",
       "      <td>√</td>\n",
       "      <td>NaN</td>\n",
       "      <td>NaN</td>\n",
       "      <td>NaN</td>\n",
       "      <td>√</td>\n",
       "      <td>√</td>\n",
       "      <td>√</td>\n",
       "      <td>√</td>\n",
       "      <td>√</td>\n",
       "      <td>√</td>\n",
       "    </tr>\n",
       "    <tr>\n",
       "      <th>PEO Gold</th>\n",
       "      <td>√</td>\n",
       "      <td>√</td>\n",
       "      <td>√</td>\n",
       "      <td>√</td>\n",
       "      <td>√</td>\n",
       "      <td>√</td>\n",
       "      <td>√</td>\n",
       "      <td>√</td>\n",
       "      <td>√</td>\n",
       "      <td>√</td>\n",
       "      <td>...</td>\n",
       "      <td>√</td>\n",
       "      <td>NaN</td>\n",
       "      <td>√</td>\n",
       "      <td>NaN</td>\n",
       "      <td>√</td>\n",
       "      <td>√</td>\n",
       "      <td>√</td>\n",
       "      <td>√</td>\n",
       "      <td>√</td>\n",
       "      <td>√</td>\n",
       "    </tr>\n",
       "    <tr>\n",
       "      <th>PEO Platinum</th>\n",
       "      <td>√</td>\n",
       "      <td>√</td>\n",
       "      <td>√</td>\n",
       "      <td>√</td>\n",
       "      <td>√</td>\n",
       "      <td>√</td>\n",
       "      <td>√</td>\n",
       "      <td>√</td>\n",
       "      <td>√</td>\n",
       "      <td>√</td>\n",
       "      <td>...</td>\n",
       "      <td>√</td>\n",
       "      <td>NaN</td>\n",
       "      <td>√</td>\n",
       "      <td>NaN</td>\n",
       "      <td>√</td>\n",
       "      <td>√</td>\n",
       "      <td>√</td>\n",
       "      <td>√</td>\n",
       "      <td>√</td>\n",
       "      <td>√</td>\n",
       "    </tr>\n",
       "    <tr>\n",
       "      <th>PEO Titanium</th>\n",
       "      <td>√</td>\n",
       "      <td>√</td>\n",
       "      <td>√</td>\n",
       "      <td>√</td>\n",
       "      <td>√</td>\n",
       "      <td>√</td>\n",
       "      <td>√</td>\n",
       "      <td>√</td>\n",
       "      <td>√</td>\n",
       "      <td>√</td>\n",
       "      <td>...</td>\n",
       "      <td>√</td>\n",
       "      <td>√</td>\n",
       "      <td>√</td>\n",
       "      <td>NaN</td>\n",
       "      <td>√</td>\n",
       "      <td>√</td>\n",
       "      <td>√</td>\n",
       "      <td>√</td>\n",
       "      <td>√</td>\n",
       "      <td>√</td>\n",
       "    </tr>\n",
       "  </tbody>\n",
       "</table>\n",
       "<p>9 rows × 135 columns</p>\n",
       "</div>"
      ],
      "text/plain": [
       "Channel           Event TV Colombo Television Life TV UTV ACE TV Supreme TV  \\\n",
       "Language                 -                  -       -   -      -          -   \n",
       "PEO TV Unnatham          √                  √       √   √    NaN        NaN   \n",
       "PEO Silver               √                  √       √   √      √          √   \n",
       "PEO Silver Plus          √                  √       √   √      √          √   \n",
       "PEO Family               √                  √       √   √      √          √   \n",
       "PEO Entertainment        √                  √       √   √      √          √   \n",
       "PEO Gold                 √                  √       √   √      √          √   \n",
       "PEO Platinum             √                  √       √   √      √          √   \n",
       "PEO Titanium             √                  √       √   √      √          √   \n",
       "\n",
       "Channel           Jayamaga TV Relax TV Channel Eye      ETV  ... Damsathara  \\\n",
       "Language                    -        -     English  English  ...    Sinhala   \n",
       "PEO TV Unnatham           NaN      NaN           √      NaN  ...        NaN   \n",
       "PEO Silver                  √        √           √        √  ...          √   \n",
       "PEO Silver Plus             √        √           √        √  ...          √   \n",
       "PEO Family                  √        √           √        √  ...          √   \n",
       "PEO Entertainment           √        √           √        √  ...          √   \n",
       "PEO Gold                    √        √           √        √  ...          √   \n",
       "PEO Platinum                √        √           √        √  ...          √   \n",
       "PEO Titanium                √        √           √        √  ...          √   \n",
       "\n",
       "Channel           Da Vinci English Club TV Videsa 5 Videsa 6 Videsa 7  \\\n",
       "Language           English         English  Sinhala  Sinhala  Sinhala   \n",
       "PEO TV Unnatham        NaN             NaN      NaN      NaN      NaN   \n",
       "PEO Silver             NaN             NaN      NaN        √        √   \n",
       "PEO Silver Plus        NaN             NaN      NaN        √        √   \n",
       "PEO Family               √               √      NaN        √        √   \n",
       "PEO Entertainment      NaN             NaN      NaN        √        √   \n",
       "PEO Gold               NaN               √      NaN        √        √   \n",
       "PEO Platinum           NaN               √      NaN        √        √   \n",
       "PEO Titanium             √               √      NaN        √        √   \n",
       "\n",
       "Channel           Videsa 8 Videsa 9 Videsa 10 Videsa 11  \n",
       "Language           Sinhala  Sinhala   Sinhala   Sinhala  \n",
       "PEO TV Unnatham        NaN      NaN       NaN       NaN  \n",
       "PEO Silver               √        √         √         √  \n",
       "PEO Silver Plus          √        √         √         √  \n",
       "PEO Family               √        √         √         √  \n",
       "PEO Entertainment        √        √         √         √  \n",
       "PEO Gold                 √        √         √         √  \n",
       "PEO Platinum             √        √         √         √  \n",
       "PEO Titanium             √        √         √         √  \n",
       "\n",
       "[9 rows x 135 columns]"
      ]
     },
     "execution_count": 12,
     "metadata": {},
     "output_type": "execute_result"
    }
   ],
   "source": [
    "peo_channel_map_df"
   ]
  },
  {
   "cell_type": "code",
   "execution_count": 13,
   "metadata": {},
   "outputs": [],
   "source": [
    "def str_map(col):\n",
    "    if isinstance(col, float):\n",
    "        return 0\n",
    "    elif  \"√\" in col:\n",
    "        return 1\n",
    "    else:\n",
    "        return col"
   ]
  },
  {
   "cell_type": "code",
   "execution_count": 14,
   "metadata": {},
   "outputs": [],
   "source": [
    "for col in peo_channel_map_df.columns.to_list():\n",
    "    peo_channel_map_df[col] = peo_channel_map_df[col].apply(lambda x: str_map(x))"
   ]
  },
  {
   "cell_type": "code",
   "execution_count": 15,
   "metadata": {},
   "outputs": [
    {
     "data": {
      "text/html": [
       "<div>\n",
       "<style scoped>\n",
       "    .dataframe tbody tr th:only-of-type {\n",
       "        vertical-align: middle;\n",
       "    }\n",
       "\n",
       "    .dataframe tbody tr th {\n",
       "        vertical-align: top;\n",
       "    }\n",
       "\n",
       "    .dataframe thead th {\n",
       "        text-align: right;\n",
       "    }\n",
       "</style>\n",
       "<table border=\"1\" class=\"dataframe\">\n",
       "  <thead>\n",
       "    <tr style=\"text-align: right;\">\n",
       "      <th>Channel</th>\n",
       "      <th>Event TV</th>\n",
       "      <th>Colombo Television</th>\n",
       "      <th>Life TV</th>\n",
       "      <th>UTV</th>\n",
       "      <th>ACE TV</th>\n",
       "      <th>Supreme TV</th>\n",
       "      <th>Jayamaga TV</th>\n",
       "      <th>Relax TV</th>\n",
       "      <th>Channel Eye</th>\n",
       "      <th>ETV</th>\n",
       "      <th>...</th>\n",
       "      <th>Damsathara</th>\n",
       "      <th>Da Vinci</th>\n",
       "      <th>English Club TV</th>\n",
       "      <th>Videsa 5</th>\n",
       "      <th>Videsa 6</th>\n",
       "      <th>Videsa 7</th>\n",
       "      <th>Videsa 8</th>\n",
       "      <th>Videsa 9</th>\n",
       "      <th>Videsa 10</th>\n",
       "      <th>Videsa 11</th>\n",
       "    </tr>\n",
       "  </thead>\n",
       "  <tbody>\n",
       "    <tr>\n",
       "      <th>Language</th>\n",
       "      <td>-</td>\n",
       "      <td>-</td>\n",
       "      <td>-</td>\n",
       "      <td>-</td>\n",
       "      <td>-</td>\n",
       "      <td>-</td>\n",
       "      <td>-</td>\n",
       "      <td>-</td>\n",
       "      <td>English</td>\n",
       "      <td>English</td>\n",
       "      <td>...</td>\n",
       "      <td>Sinhala</td>\n",
       "      <td>English</td>\n",
       "      <td>English</td>\n",
       "      <td>Sinhala</td>\n",
       "      <td>Sinhala</td>\n",
       "      <td>Sinhala</td>\n",
       "      <td>Sinhala</td>\n",
       "      <td>Sinhala</td>\n",
       "      <td>Sinhala</td>\n",
       "      <td>Sinhala</td>\n",
       "    </tr>\n",
       "    <tr>\n",
       "      <th>PEO TV Unnatham</th>\n",
       "      <td>1</td>\n",
       "      <td>1</td>\n",
       "      <td>1</td>\n",
       "      <td>1</td>\n",
       "      <td>0</td>\n",
       "      <td>0</td>\n",
       "      <td>0</td>\n",
       "      <td>0</td>\n",
       "      <td>1</td>\n",
       "      <td>0</td>\n",
       "      <td>...</td>\n",
       "      <td>0</td>\n",
       "      <td>0</td>\n",
       "      <td>0</td>\n",
       "      <td>0</td>\n",
       "      <td>0</td>\n",
       "      <td>0</td>\n",
       "      <td>0</td>\n",
       "      <td>0</td>\n",
       "      <td>0</td>\n",
       "      <td>0</td>\n",
       "    </tr>\n",
       "    <tr>\n",
       "      <th>PEO Silver</th>\n",
       "      <td>1</td>\n",
       "      <td>1</td>\n",
       "      <td>1</td>\n",
       "      <td>1</td>\n",
       "      <td>1</td>\n",
       "      <td>1</td>\n",
       "      <td>1</td>\n",
       "      <td>1</td>\n",
       "      <td>1</td>\n",
       "      <td>1</td>\n",
       "      <td>...</td>\n",
       "      <td>1</td>\n",
       "      <td>0</td>\n",
       "      <td>0</td>\n",
       "      <td>0</td>\n",
       "      <td>1</td>\n",
       "      <td>1</td>\n",
       "      <td>1</td>\n",
       "      <td>1</td>\n",
       "      <td>1</td>\n",
       "      <td>1</td>\n",
       "    </tr>\n",
       "    <tr>\n",
       "      <th>PEO Silver Plus</th>\n",
       "      <td>1</td>\n",
       "      <td>1</td>\n",
       "      <td>1</td>\n",
       "      <td>1</td>\n",
       "      <td>1</td>\n",
       "      <td>1</td>\n",
       "      <td>1</td>\n",
       "      <td>1</td>\n",
       "      <td>1</td>\n",
       "      <td>1</td>\n",
       "      <td>...</td>\n",
       "      <td>1</td>\n",
       "      <td>0</td>\n",
       "      <td>0</td>\n",
       "      <td>0</td>\n",
       "      <td>1</td>\n",
       "      <td>1</td>\n",
       "      <td>1</td>\n",
       "      <td>1</td>\n",
       "      <td>1</td>\n",
       "      <td>1</td>\n",
       "    </tr>\n",
       "    <tr>\n",
       "      <th>PEO Family</th>\n",
       "      <td>1</td>\n",
       "      <td>1</td>\n",
       "      <td>1</td>\n",
       "      <td>1</td>\n",
       "      <td>1</td>\n",
       "      <td>1</td>\n",
       "      <td>1</td>\n",
       "      <td>1</td>\n",
       "      <td>1</td>\n",
       "      <td>1</td>\n",
       "      <td>...</td>\n",
       "      <td>1</td>\n",
       "      <td>1</td>\n",
       "      <td>1</td>\n",
       "      <td>0</td>\n",
       "      <td>1</td>\n",
       "      <td>1</td>\n",
       "      <td>1</td>\n",
       "      <td>1</td>\n",
       "      <td>1</td>\n",
       "      <td>1</td>\n",
       "    </tr>\n",
       "    <tr>\n",
       "      <th>PEO Entertainment</th>\n",
       "      <td>1</td>\n",
       "      <td>1</td>\n",
       "      <td>1</td>\n",
       "      <td>1</td>\n",
       "      <td>1</td>\n",
       "      <td>1</td>\n",
       "      <td>1</td>\n",
       "      <td>1</td>\n",
       "      <td>1</td>\n",
       "      <td>1</td>\n",
       "      <td>...</td>\n",
       "      <td>1</td>\n",
       "      <td>0</td>\n",
       "      <td>0</td>\n",
       "      <td>0</td>\n",
       "      <td>1</td>\n",
       "      <td>1</td>\n",
       "      <td>1</td>\n",
       "      <td>1</td>\n",
       "      <td>1</td>\n",
       "      <td>1</td>\n",
       "    </tr>\n",
       "    <tr>\n",
       "      <th>PEO Gold</th>\n",
       "      <td>1</td>\n",
       "      <td>1</td>\n",
       "      <td>1</td>\n",
       "      <td>1</td>\n",
       "      <td>1</td>\n",
       "      <td>1</td>\n",
       "      <td>1</td>\n",
       "      <td>1</td>\n",
       "      <td>1</td>\n",
       "      <td>1</td>\n",
       "      <td>...</td>\n",
       "      <td>1</td>\n",
       "      <td>0</td>\n",
       "      <td>1</td>\n",
       "      <td>0</td>\n",
       "      <td>1</td>\n",
       "      <td>1</td>\n",
       "      <td>1</td>\n",
       "      <td>1</td>\n",
       "      <td>1</td>\n",
       "      <td>1</td>\n",
       "    </tr>\n",
       "    <tr>\n",
       "      <th>PEO Platinum</th>\n",
       "      <td>1</td>\n",
       "      <td>1</td>\n",
       "      <td>1</td>\n",
       "      <td>1</td>\n",
       "      <td>1</td>\n",
       "      <td>1</td>\n",
       "      <td>1</td>\n",
       "      <td>1</td>\n",
       "      <td>1</td>\n",
       "      <td>1</td>\n",
       "      <td>...</td>\n",
       "      <td>1</td>\n",
       "      <td>0</td>\n",
       "      <td>1</td>\n",
       "      <td>0</td>\n",
       "      <td>1</td>\n",
       "      <td>1</td>\n",
       "      <td>1</td>\n",
       "      <td>1</td>\n",
       "      <td>1</td>\n",
       "      <td>1</td>\n",
       "    </tr>\n",
       "    <tr>\n",
       "      <th>PEO Titanium</th>\n",
       "      <td>1</td>\n",
       "      <td>1</td>\n",
       "      <td>1</td>\n",
       "      <td>1</td>\n",
       "      <td>1</td>\n",
       "      <td>1</td>\n",
       "      <td>1</td>\n",
       "      <td>1</td>\n",
       "      <td>1</td>\n",
       "      <td>1</td>\n",
       "      <td>...</td>\n",
       "      <td>1</td>\n",
       "      <td>1</td>\n",
       "      <td>1</td>\n",
       "      <td>0</td>\n",
       "      <td>1</td>\n",
       "      <td>1</td>\n",
       "      <td>1</td>\n",
       "      <td>1</td>\n",
       "      <td>1</td>\n",
       "      <td>1</td>\n",
       "    </tr>\n",
       "  </tbody>\n",
       "</table>\n",
       "<p>9 rows × 135 columns</p>\n",
       "</div>"
      ],
      "text/plain": [
       "Channel           Event TV Colombo Television Life TV UTV ACE TV Supreme TV  \\\n",
       "Language                 -                  -       -   -      -          -   \n",
       "PEO TV Unnatham          1                  1       1   1      0          0   \n",
       "PEO Silver               1                  1       1   1      1          1   \n",
       "PEO Silver Plus          1                  1       1   1      1          1   \n",
       "PEO Family               1                  1       1   1      1          1   \n",
       "PEO Entertainment        1                  1       1   1      1          1   \n",
       "PEO Gold                 1                  1       1   1      1          1   \n",
       "PEO Platinum             1                  1       1   1      1          1   \n",
       "PEO Titanium             1                  1       1   1      1          1   \n",
       "\n",
       "Channel           Jayamaga TV Relax TV Channel Eye      ETV  ... Damsathara  \\\n",
       "Language                    -        -     English  English  ...    Sinhala   \n",
       "PEO TV Unnatham             0        0           1        0  ...          0   \n",
       "PEO Silver                  1        1           1        1  ...          1   \n",
       "PEO Silver Plus             1        1           1        1  ...          1   \n",
       "PEO Family                  1        1           1        1  ...          1   \n",
       "PEO Entertainment           1        1           1        1  ...          1   \n",
       "PEO Gold                    1        1           1        1  ...          1   \n",
       "PEO Platinum                1        1           1        1  ...          1   \n",
       "PEO Titanium                1        1           1        1  ...          1   \n",
       "\n",
       "Channel           Da Vinci English Club TV Videsa 5 Videsa 6 Videsa 7  \\\n",
       "Language           English         English  Sinhala  Sinhala  Sinhala   \n",
       "PEO TV Unnatham          0               0        0        0        0   \n",
       "PEO Silver               0               0        0        1        1   \n",
       "PEO Silver Plus          0               0        0        1        1   \n",
       "PEO Family               1               1        0        1        1   \n",
       "PEO Entertainment        0               0        0        1        1   \n",
       "PEO Gold                 0               1        0        1        1   \n",
       "PEO Platinum             0               1        0        1        1   \n",
       "PEO Titanium             1               1        0        1        1   \n",
       "\n",
       "Channel           Videsa 8 Videsa 9 Videsa 10 Videsa 11  \n",
       "Language           Sinhala  Sinhala   Sinhala   Sinhala  \n",
       "PEO TV Unnatham          0        0         0         0  \n",
       "PEO Silver               1        1         1         1  \n",
       "PEO Silver Plus          1        1         1         1  \n",
       "PEO Family               1        1         1         1  \n",
       "PEO Entertainment        1        1         1         1  \n",
       "PEO Gold                 1        1         1         1  \n",
       "PEO Platinum             1        1         1         1  \n",
       "PEO Titanium             1        1         1         1  \n",
       "\n",
       "[9 rows x 135 columns]"
      ]
     },
     "execution_count": 15,
     "metadata": {},
     "output_type": "execute_result"
    }
   ],
   "source": [
    "peo_channel_map_df"
   ]
  },
  {
   "cell_type": "code",
   "execution_count": 16,
   "metadata": {},
   "outputs": [],
   "source": [
    "peo_channel_map_df.to_csv(\"data/product_catalog/PeoTV_Package_Channel_Map_Transposed.csv\")"
   ]
  },
  {
   "cell_type": "code",
   "execution_count": null,
   "metadata": {},
   "outputs": [],
   "source": []
  },
  {
   "cell_type": "markdown",
   "metadata": {},
   "source": [
    "## Product Details - Categories, Play types"
   ]
  },
  {
   "cell_type": "code",
   "execution_count": 227,
   "metadata": {
    "gather": {
     "logged": 1628307552342
    }
   },
   "outputs": [],
   "source": [
    "product_cat_df = pd.read_excel(\"data/new/Product_details_from_BSS.xls\")  "
   ]
  },
  {
   "cell_type": "code",
   "execution_count": 228,
   "metadata": {
    "gather": {
     "logged": 1628307555018
    }
   },
   "outputs": [
    {
     "name": "stdout",
     "output_type": "stream",
     "text": [
      "<class 'pandas.core.frame.DataFrame'>\n",
      "RangeIndex: 60708 entries, 0 to 60707\n",
      "Data columns (total 17 columns):\n",
      " #   Column              Non-Null Count  Dtype         \n",
      "---  ------              --------------  -----         \n",
      " 0   PRODUCT_LABEL.hash  60708 non-null  object        \n",
      " 1   CUSTOMER_REF.hash   60708 non-null  object        \n",
      " 2   ACCOUNT_NUM.hash    60708 non-null  object        \n",
      " 3   PRODUCT_SEQ         60708 non-null  int64         \n",
      " 4   START_DAT           60707 non-null  datetime64[ns]\n",
      " 5   END_DAT             3292 non-null   datetime64[ns]\n",
      " 6   PRODUCT_ID.hash     60708 non-null  object        \n",
      " 7   PRODUCT_NAME        60707 non-null  object        \n",
      " 8   PRODUCT_STATUS      60707 non-null  object        \n",
      " 9   MEDIUM              60684 non-null  object        \n",
      " 10  CATEGORY            60273 non-null  object        \n",
      " 11  CATEGORY_DETAILS    60273 non-null  object        \n",
      " 12  TARIFF_ID.hash      60708 non-null  object        \n",
      " 13  TARIFF_NAME         60707 non-null  object        \n",
      " 14  TARIFF_DESC         60707 non-null  object        \n",
      " 15  RECURRING_CHARGE    8386 non-null   float64       \n",
      " 16                      60708 non-null  object        \n",
      "dtypes: datetime64[ns](2), float64(1), int64(1), object(13)\n",
      "memory usage: 7.9+ MB\n"
     ]
    }
   ],
   "source": [
    "product_cat_df.info()"
   ]
  },
  {
   "cell_type": "markdown",
   "metadata": {},
   "source": [
    "### Exporting Product Category Type"
   ]
  },
  {
   "cell_type": "code",
   "execution_count": 19,
   "metadata": {},
   "outputs": [],
   "source": [
    "pcat_df = product_cat_df[[\"PRODUCT_NAME\",\"MEDIUM\",\"CATEGORY\",\"CATEGORY_DETAILS\",\"TARIFF_ID.hash\",\"TARIFF_NAME\",\"TARIFF_DESC\"]]"
   ]
  },
  {
   "cell_type": "code",
   "execution_count": 20,
   "metadata": {},
   "outputs": [
    {
     "name": "stderr",
     "output_type": "stream",
     "text": [
      "<ipython-input-20-9a5e87b2c85c>:1: SettingWithCopyWarning: \n",
      "A value is trying to be set on a copy of a slice from a DataFrame\n",
      "\n",
      "See the caveats in the documentation: https://pandas.pydata.org/pandas-docs/stable/user_guide/indexing.html#returning-a-view-versus-a-copy\n",
      "  pcat_df.drop_duplicates(\"PRODUCT_NAME\", inplace=True)\n"
     ]
    }
   ],
   "source": [
    "pcat_df.drop_duplicates(\"PRODUCT_NAME\", inplace=True)"
   ]
  },
  {
   "cell_type": "code",
   "execution_count": 21,
   "metadata": {},
   "outputs": [],
   "source": [
    "pcat_df.reset_index(inplace=True)"
   ]
  },
  {
   "cell_type": "code",
   "execution_count": 22,
   "metadata": {},
   "outputs": [
    {
     "name": "stderr",
     "output_type": "stream",
     "text": [
      "C:\\ProgramData\\Anaconda3\\lib\\site-packages\\pandas\\core\\frame.py:4308: SettingWithCopyWarning: \n",
      "A value is trying to be set on a copy of a slice from a DataFrame\n",
      "\n",
      "See the caveats in the documentation: https://pandas.pydata.org/pandas-docs/stable/user_guide/indexing.html#returning-a-view-versus-a-copy\n",
      "  return super().drop(\n"
     ]
    }
   ],
   "source": [
    "pcat_df.drop([\"index\"],axis=1,inplace=True)"
   ]
  },
  {
   "cell_type": "code",
   "execution_count": 23,
   "metadata": {},
   "outputs": [],
   "source": [
    "pcat_df.to_csv(\"data/product_catalog/Product_Info_With_Category.csv\")"
   ]
  },
  {
   "cell_type": "code",
   "execution_count": null,
   "metadata": {},
   "outputs": [],
   "source": []
  },
  {
   "cell_type": "code",
   "execution_count": 24,
   "metadata": {
    "gather": {
     "logged": 1628307562372
    }
   },
   "outputs": [],
   "source": [
    "products_df = product_cat_df[[\"PRODUCT_ID.hash\",\"PRODUCT_NAME\",\"MEDIUM\",\"CATEGORY\",\"CATEGORY_DETAILS\",\"TARIFF_ID.hash\",\"TARIFF_NAME\",\"TARIFF_DESC\",\"RECURRING_CHARGE\"]]"
   ]
  },
  {
   "cell_type": "code",
   "execution_count": 25,
   "metadata": {
    "gather": {
     "logged": 1628307564735
    }
   },
   "outputs": [
    {
     "name": "stderr",
     "output_type": "stream",
     "text": [
      "<ipython-input-25-73a796203387>:1: SettingWithCopyWarning: \n",
      "A value is trying to be set on a copy of a slice from a DataFrame\n",
      "\n",
      "See the caveats in the documentation: https://pandas.pydata.org/pandas-docs/stable/user_guide/indexing.html#returning-a-view-versus-a-copy\n",
      "  products_df.drop_duplicates([\"PRODUCT_ID.hash\"],inplace=True, keep=\"last\")\n"
     ]
    }
   ],
   "source": [
    "products_df.drop_duplicates([\"PRODUCT_ID.hash\"],inplace=True, keep=\"last\")"
   ]
  },
  {
   "cell_type": "code",
   "execution_count": 26,
   "metadata": {
    "gather": {
     "logged": 1628307571531
    }
   },
   "outputs": [
    {
     "name": "stderr",
     "output_type": "stream",
     "text": [
      "C:\\ProgramData\\Anaconda3\\lib\\site-packages\\pandas\\core\\frame.py:4441: SettingWithCopyWarning: \n",
      "A value is trying to be set on a copy of a slice from a DataFrame\n",
      "\n",
      "See the caveats in the documentation: https://pandas.pydata.org/pandas-docs/stable/user_guide/indexing.html#returning-a-view-versus-a-copy\n",
      "  return super().rename(\n"
     ]
    }
   ],
   "source": [
    "products_df.rename(columns = {\"RECURRING_CHARGE\":\"Monthly_Rental\"},inplace=True)"
   ]
  },
  {
   "cell_type": "code",
   "execution_count": 27,
   "metadata": {
    "gather": {
     "logged": 1628307573670
    }
   },
   "outputs": [],
   "source": [
    "products_df.reset_index(inplace=True)\n",
    "products_df.drop([\"index\"],axis=1,inplace=True)"
   ]
  },
  {
   "cell_type": "code",
   "execution_count": 28,
   "metadata": {
    "gather": {
     "logged": 1628307582516
    }
   },
   "outputs": [
    {
     "name": "stdout",
     "output_type": "stream",
     "text": [
      "<class 'pandas.core.frame.DataFrame'>\n",
      "RangeIndex: 23 entries, 0 to 22\n",
      "Data columns (total 9 columns):\n",
      " #   Column            Non-Null Count  Dtype  \n",
      "---  ------            --------------  -----  \n",
      " 0   PRODUCT_ID.hash   23 non-null     object \n",
      " 1   PRODUCT_NAME      22 non-null     object \n",
      " 2   MEDIUM            19 non-null     object \n",
      " 3   CATEGORY          17 non-null     object \n",
      " 4   CATEGORY_DETAILS  17 non-null     object \n",
      " 5   TARIFF_ID.hash    23 non-null     object \n",
      " 6   TARIFF_NAME       22 non-null     object \n",
      " 7   TARIFF_DESC       22 non-null     object \n",
      " 8   Monthly_Rental    10 non-null     float64\n",
      "dtypes: float64(1), object(8)\n",
      "memory usage: 1.7+ KB\n"
     ]
    }
   ],
   "source": [
    "products_df.info()"
   ]
  },
  {
   "cell_type": "code",
   "execution_count": 29,
   "metadata": {
    "gather": {
     "logged": 1628307590660
    }
   },
   "outputs": [
    {
     "data": {
      "text/plain": [
       "array([nan, 'V-Plus4_TeleLife', 'V_E-channeling Subscription',\n",
       "       'V-Basic2_TeleLife', 'V-Basic4_TeleLife', 'V-Basic1_TeleLife',\n",
       "       'V_Sisu Connect', 'V_Telehealth', 'V-Plus1_TeleLife',\n",
       "       'V_E-channeling Registration', 'BB_ Entertainment Unlimited',\n",
       "       'OTT_SLT PeoTV Go', 'AB_WireLess Access',\n",
       "       'BB_SLT Film Hall Service', 'BB_Detailed Reports ',\n",
       "       'AB_Fiber Access Bearer', 'BB_PeoTVGO', 'BB_Extra GB',\n",
       "       'BB_SLT BroadBand Service', 'BB_Personal Storage',\n",
       "       'E_SLT PeoTV Service', 'V_SLT Voice Service',\n",
       "       'AB_Copper Access Bearer'], dtype=object)"
      ]
     },
     "execution_count": 29,
     "metadata": {},
     "output_type": "execute_result"
    }
   ],
   "source": [
    "products_df[\"PRODUCT_NAME\"].unique()"
   ]
  },
  {
   "cell_type": "code",
   "execution_count": 30,
   "metadata": {
    "gather": {
     "logged": 1628307598254
    }
   },
   "outputs": [],
   "source": [
    "products_df.to_csv(\"data/product_catalog/Product_info_from_BSS.csv\")"
   ]
  },
  {
   "cell_type": "code",
   "execution_count": null,
   "metadata": {},
   "outputs": [],
   "source": []
  },
  {
   "cell_type": "markdown",
   "metadata": {},
   "source": [
    "## Phone No Account No Customer Reference Map"
   ]
  },
  {
   "cell_type": "code",
   "execution_count": 31,
   "metadata": {
    "gather": {
     "logged": 1628307608437
    }
   },
   "outputs": [
    {
     "name": "stderr",
     "output_type": "stream",
     "text": [
      "<ipython-input-31-cb3c55b3a8c1>:2: SettingWithCopyWarning: \n",
      "A value is trying to be set on a copy of a slice from a DataFrame\n",
      "\n",
      "See the caveats in the documentation: https://pandas.pydata.org/pandas-docs/stable/user_guide/indexing.html#returning-a-view-versus-a-copy\n",
      "  acc_no_map.drop_duplicates([\"PRODUCT_LABEL.hash\"],inplace=True)\n"
     ]
    },
    {
     "data": {
      "text/html": [
       "<div>\n",
       "<style scoped>\n",
       "    .dataframe tbody tr th:only-of-type {\n",
       "        vertical-align: middle;\n",
       "    }\n",
       "\n",
       "    .dataframe tbody tr th {\n",
       "        vertical-align: top;\n",
       "    }\n",
       "\n",
       "    .dataframe thead th {\n",
       "        text-align: right;\n",
       "    }\n",
       "</style>\n",
       "<table border=\"1\" class=\"dataframe\">\n",
       "  <thead>\n",
       "    <tr style=\"text-align: right;\">\n",
       "      <th></th>\n",
       "      <th>event_source.hash</th>\n",
       "      <th>ACCOUNT_NUM.hash</th>\n",
       "      <th>CUSTOMER_REF.hash</th>\n",
       "    </tr>\n",
       "  </thead>\n",
       "  <tbody>\n",
       "    <tr>\n",
       "      <th>0</th>\n",
       "      <td>7b40c1d1c84c9a340004769491af7931</td>\n",
       "      <td>bd0cc5e96b24df6625fc68cbaf71b555</td>\n",
       "      <td>df4bc5da4eaaaab1d937c3fd2a699c3f</td>\n",
       "    </tr>\n",
       "    <tr>\n",
       "      <th>1</th>\n",
       "      <td>15799aa2e9dcf19b945e3dbe3146f7dc</td>\n",
       "      <td>4c7a4769273c7a2eb4860a09f6376a70</td>\n",
       "      <td>b30293458c6565bc283bac15b92aa38d</td>\n",
       "    </tr>\n",
       "    <tr>\n",
       "      <th>2</th>\n",
       "      <td>a74c72a07e26ac631688df66f691255c</td>\n",
       "      <td>4c7a4769273c7a2eb4860a09f6376a70</td>\n",
       "      <td>b30293458c6565bc283bac15b92aa38d</td>\n",
       "    </tr>\n",
       "    <tr>\n",
       "      <th>3</th>\n",
       "      <td>d67702262368f632f7014f1bd12d5444</td>\n",
       "      <td>4c7a4769273c7a2eb4860a09f6376a70</td>\n",
       "      <td>b30293458c6565bc283bac15b92aa38d</td>\n",
       "    </tr>\n",
       "    <tr>\n",
       "      <th>4</th>\n",
       "      <td>53098ea32fbe12338600872be6e06fb0</td>\n",
       "      <td>4c7a4769273c7a2eb4860a09f6376a70</td>\n",
       "      <td>b30293458c6565bc283bac15b92aa38d</td>\n",
       "    </tr>\n",
       "    <tr>\n",
       "      <th>...</th>\n",
       "      <td>...</td>\n",
       "      <td>...</td>\n",
       "      <td>...</td>\n",
       "    </tr>\n",
       "    <tr>\n",
       "      <th>27550</th>\n",
       "      <td>28938db617a935e0f092ae16667c9f37</td>\n",
       "      <td>06623c7ba64331f615ff83c5664b71bb</td>\n",
       "      <td>ac995f79a7164b89de084396352b343b</td>\n",
       "    </tr>\n",
       "    <tr>\n",
       "      <th>27551</th>\n",
       "      <td>d7515b0ed8141e075023da5947b714bf</td>\n",
       "      <td>06623c7ba64331f615ff83c5664b71bb</td>\n",
       "      <td>ac995f79a7164b89de084396352b343b</td>\n",
       "    </tr>\n",
       "    <tr>\n",
       "      <th>27552</th>\n",
       "      <td>919ba5f18ce708afcd4f545150021b0e</td>\n",
       "      <td>bd0cc5e96b24df6625fc68cbaf71b555</td>\n",
       "      <td>df4bc5da4eaaaab1d937c3fd2a699c3f</td>\n",
       "    </tr>\n",
       "    <tr>\n",
       "      <th>27553</th>\n",
       "      <td>7ae240b62cca05b9ab0af678122e7e5c</td>\n",
       "      <td>8d8472d39b270801553f2d5e7c06fe22</td>\n",
       "      <td>f8743da5d0bff84f9440fb44fce1bdc1</td>\n",
       "    </tr>\n",
       "    <tr>\n",
       "      <th>27554</th>\n",
       "      <td>d41d8cd98f00b204e9800998ecf8427e</td>\n",
       "      <td>949e14e85d36002ffb954d42d3366936</td>\n",
       "      <td>51ee71e46ba64034adaf383345028fb8</td>\n",
       "    </tr>\n",
       "  </tbody>\n",
       "</table>\n",
       "<p>27555 rows × 3 columns</p>\n",
       "</div>"
      ],
      "text/plain": [
       "                      event_source.hash                  ACCOUNT_NUM.hash  \\\n",
       "0      7b40c1d1c84c9a340004769491af7931  bd0cc5e96b24df6625fc68cbaf71b555   \n",
       "1      15799aa2e9dcf19b945e3dbe3146f7dc  4c7a4769273c7a2eb4860a09f6376a70   \n",
       "2      a74c72a07e26ac631688df66f691255c  4c7a4769273c7a2eb4860a09f6376a70   \n",
       "3      d67702262368f632f7014f1bd12d5444  4c7a4769273c7a2eb4860a09f6376a70   \n",
       "4      53098ea32fbe12338600872be6e06fb0  4c7a4769273c7a2eb4860a09f6376a70   \n",
       "...                                 ...                               ...   \n",
       "27550  28938db617a935e0f092ae16667c9f37  06623c7ba64331f615ff83c5664b71bb   \n",
       "27551  d7515b0ed8141e075023da5947b714bf  06623c7ba64331f615ff83c5664b71bb   \n",
       "27552  919ba5f18ce708afcd4f545150021b0e  bd0cc5e96b24df6625fc68cbaf71b555   \n",
       "27553  7ae240b62cca05b9ab0af678122e7e5c  8d8472d39b270801553f2d5e7c06fe22   \n",
       "27554  d41d8cd98f00b204e9800998ecf8427e  949e14e85d36002ffb954d42d3366936   \n",
       "\n",
       "                      CUSTOMER_REF.hash  \n",
       "0      df4bc5da4eaaaab1d937c3fd2a699c3f  \n",
       "1      b30293458c6565bc283bac15b92aa38d  \n",
       "2      b30293458c6565bc283bac15b92aa38d  \n",
       "3      b30293458c6565bc283bac15b92aa38d  \n",
       "4      b30293458c6565bc283bac15b92aa38d  \n",
       "...                                 ...  \n",
       "27550  ac995f79a7164b89de084396352b343b  \n",
       "27551  ac995f79a7164b89de084396352b343b  \n",
       "27552  df4bc5da4eaaaab1d937c3fd2a699c3f  \n",
       "27553  f8743da5d0bff84f9440fb44fce1bdc1  \n",
       "27554  51ee71e46ba64034adaf383345028fb8  \n",
       "\n",
       "[27555 rows x 3 columns]"
      ]
     },
     "execution_count": 31,
     "metadata": {},
     "output_type": "execute_result"
    }
   ],
   "source": [
    "acc_no_map = product_cat_df[[\"PRODUCT_LABEL.hash\",\"ACCOUNT_NUM.hash\",\"CUSTOMER_REF.hash\"]]\n",
    "acc_no_map.drop_duplicates([\"PRODUCT_LABEL.hash\"],inplace=True)\n",
    "acc_no_map.rename(columns={'PRODUCT_LABEL.hash':'event_source.hash'}, inplace=True)\n",
    "acc_no_map.reset_index(inplace=True)\n",
    "acc_no_map.drop([\"index\"],axis=1,inplace=True)\n",
    "acc_no_map"
   ]
  },
  {
   "cell_type": "code",
   "execution_count": 32,
   "metadata": {
    "gather": {
     "logged": 1628307822826
    },
    "jupyter": {
     "outputs_hidden": false,
     "source_hidden": false
    },
    "nteract": {
     "transient": {
      "deleting": false
     }
    }
   },
   "outputs": [],
   "source": [
    "acc_no_map_agg = acc_no_map.groupby(\"ACCOUNT_NUM.hash\").agg(list)"
   ]
  },
  {
   "cell_type": "code",
   "execution_count": 33,
   "metadata": {
    "gather": {
     "logged": 1628307794855
    },
    "jupyter": {
     "outputs_hidden": false,
     "source_hidden": false
    },
    "nteract": {
     "transient": {
      "deleting": false
     }
    }
   },
   "outputs": [
    {
     "name": "stdout",
     "output_type": "stream",
     "text": [
      "<class 'pandas.core.frame.DataFrame'>\n",
      "RangeIndex: 27555 entries, 0 to 27554\n",
      "Data columns (total 3 columns):\n",
      " #   Column             Non-Null Count  Dtype \n",
      "---  ------             --------------  ----- \n",
      " 0   event_source.hash  27555 non-null  object\n",
      " 1   ACCOUNT_NUM.hash   27555 non-null  object\n",
      " 2   CUSTOMER_REF.hash  27555 non-null  object\n",
      "dtypes: object(3)\n",
      "memory usage: 645.9+ KB\n"
     ]
    }
   ],
   "source": [
    "acc_no_map.info()"
   ]
  },
  {
   "cell_type": "code",
   "execution_count": 34,
   "metadata": {
    "gather": {
     "logged": 1628307920725
    },
    "jupyter": {
     "outputs_hidden": false,
     "source_hidden": false
    },
    "nteract": {
     "transient": {
      "deleting": false
     }
    }
   },
   "outputs": [],
   "source": [
    "acc_no_map_agg.reset_index(inplace=True)"
   ]
  },
  {
   "cell_type": "code",
   "execution_count": 35,
   "metadata": {},
   "outputs": [
    {
     "data": {
      "text/html": [
       "<div>\n",
       "<style scoped>\n",
       "    .dataframe tbody tr th:only-of-type {\n",
       "        vertical-align: middle;\n",
       "    }\n",
       "\n",
       "    .dataframe tbody tr th {\n",
       "        vertical-align: top;\n",
       "    }\n",
       "\n",
       "    .dataframe thead th {\n",
       "        text-align: right;\n",
       "    }\n",
       "</style>\n",
       "<table border=\"1\" class=\"dataframe\">\n",
       "  <thead>\n",
       "    <tr style=\"text-align: right;\">\n",
       "      <th></th>\n",
       "      <th>ACCOUNT_NUM.hash</th>\n",
       "      <th>event_source.hash</th>\n",
       "      <th>CUSTOMER_REF.hash</th>\n",
       "    </tr>\n",
       "  </thead>\n",
       "  <tbody>\n",
       "    <tr>\n",
       "      <th>0</th>\n",
       "      <td>00092e2fa75ca865f5ffd62247031136</td>\n",
       "      <td>[14ed29d656a0fe7ded266f219919e8ed]</td>\n",
       "      <td>[c72603b21fd298f6ccaf959e638e39aa]</td>\n",
       "    </tr>\n",
       "    <tr>\n",
       "      <th>1</th>\n",
       "      <td>0009e7e4d940c2a539b89342af07e7f1</td>\n",
       "      <td>[5e411c13c17e851e8cdf6fbdcc10537a]</td>\n",
       "      <td>[56c79821ed59179836dd2a5d75a6fec6]</td>\n",
       "    </tr>\n",
       "    <tr>\n",
       "      <th>2</th>\n",
       "      <td>00126426420cdb4b1fe951ce5bb3c05a</td>\n",
       "      <td>[b35be8dc64bf972ce4b96292f16577b5, 05f14ffb738...</td>\n",
       "      <td>[a4481ed55c6f0a00c26bdafc171a34ea, a4481ed55c6...</td>\n",
       "    </tr>\n",
       "    <tr>\n",
       "      <th>3</th>\n",
       "      <td>006ff446f4e8c78e943f8ea7ee9f7388</td>\n",
       "      <td>[07eb568fb2c5969b4628bbbe85d2ab0a]</td>\n",
       "      <td>[65e56807580afcb5b825397daedd69df]</td>\n",
       "    </tr>\n",
       "    <tr>\n",
       "      <th>4</th>\n",
       "      <td>007229a6cde9f7dd9ca6ba53a03ac64e</td>\n",
       "      <td>[ac6a525918428b9d65e9a187c0ec557c]</td>\n",
       "      <td>[e5b229226940485ee99e0d7ae012812a]</td>\n",
       "    </tr>\n",
       "    <tr>\n",
       "      <th>...</th>\n",
       "      <td>...</td>\n",
       "      <td>...</td>\n",
       "      <td>...</td>\n",
       "    </tr>\n",
       "    <tr>\n",
       "      <th>3213</th>\n",
       "      <td>ffc751bb5812fb7f262917605876f78a</td>\n",
       "      <td>[c1f73b57eca12e75a982320192405a08, 50ce164efcc...</td>\n",
       "      <td>[8f0263d42ae58bbe7525ed851a0e7443, 8f0263d42ae...</td>\n",
       "    </tr>\n",
       "    <tr>\n",
       "      <th>3214</th>\n",
       "      <td>ffd0d9095e89de491cc167154e1d1721</td>\n",
       "      <td>[d3439750c4842a755ebfddc64a0b42ae]</td>\n",
       "      <td>[833a2caa62246ce70dd242087c5216d1]</td>\n",
       "    </tr>\n",
       "    <tr>\n",
       "      <th>3215</th>\n",
       "      <td>ffd820977e139cbabf31dbeb5dcc1b23</td>\n",
       "      <td>[2cb28e3a72195bfb59107c47957f06c1, 58ce830566e...</td>\n",
       "      <td>[42ee983c47d9a0b5da431b2c0aefb1de, 42ee983c47d...</td>\n",
       "    </tr>\n",
       "    <tr>\n",
       "      <th>3216</th>\n",
       "      <td>ffdc36d4cc1fdd9f9d3da1e7bc4cd49e</td>\n",
       "      <td>[9742f25ccaffa48fd8cc9f4b9521c86f]</td>\n",
       "      <td>[cee064743f2f68f2207fa470c6b5ba82]</td>\n",
       "    </tr>\n",
       "    <tr>\n",
       "      <th>3217</th>\n",
       "      <td>ffe23c9ca4f023e7db09e002c8cf24d4</td>\n",
       "      <td>[ddd49f9920c632510fd25de99876dabd]</td>\n",
       "      <td>[2f434e3cfcf1f4dae98583c79db7031d]</td>\n",
       "    </tr>\n",
       "  </tbody>\n",
       "</table>\n",
       "<p>3218 rows × 3 columns</p>\n",
       "</div>"
      ],
      "text/plain": [
       "                      ACCOUNT_NUM.hash  \\\n",
       "0     00092e2fa75ca865f5ffd62247031136   \n",
       "1     0009e7e4d940c2a539b89342af07e7f1   \n",
       "2     00126426420cdb4b1fe951ce5bb3c05a   \n",
       "3     006ff446f4e8c78e943f8ea7ee9f7388   \n",
       "4     007229a6cde9f7dd9ca6ba53a03ac64e   \n",
       "...                                ...   \n",
       "3213  ffc751bb5812fb7f262917605876f78a   \n",
       "3214  ffd0d9095e89de491cc167154e1d1721   \n",
       "3215  ffd820977e139cbabf31dbeb5dcc1b23   \n",
       "3216  ffdc36d4cc1fdd9f9d3da1e7bc4cd49e   \n",
       "3217  ffe23c9ca4f023e7db09e002c8cf24d4   \n",
       "\n",
       "                                      event_source.hash  \\\n",
       "0                    [14ed29d656a0fe7ded266f219919e8ed]   \n",
       "1                    [5e411c13c17e851e8cdf6fbdcc10537a]   \n",
       "2     [b35be8dc64bf972ce4b96292f16577b5, 05f14ffb738...   \n",
       "3                    [07eb568fb2c5969b4628bbbe85d2ab0a]   \n",
       "4                    [ac6a525918428b9d65e9a187c0ec557c]   \n",
       "...                                                 ...   \n",
       "3213  [c1f73b57eca12e75a982320192405a08, 50ce164efcc...   \n",
       "3214                 [d3439750c4842a755ebfddc64a0b42ae]   \n",
       "3215  [2cb28e3a72195bfb59107c47957f06c1, 58ce830566e...   \n",
       "3216                 [9742f25ccaffa48fd8cc9f4b9521c86f]   \n",
       "3217                 [ddd49f9920c632510fd25de99876dabd]   \n",
       "\n",
       "                                      CUSTOMER_REF.hash  \n",
       "0                    [c72603b21fd298f6ccaf959e638e39aa]  \n",
       "1                    [56c79821ed59179836dd2a5d75a6fec6]  \n",
       "2     [a4481ed55c6f0a00c26bdafc171a34ea, a4481ed55c6...  \n",
       "3                    [65e56807580afcb5b825397daedd69df]  \n",
       "4                    [e5b229226940485ee99e0d7ae012812a]  \n",
       "...                                                 ...  \n",
       "3213  [8f0263d42ae58bbe7525ed851a0e7443, 8f0263d42ae...  \n",
       "3214                 [833a2caa62246ce70dd242087c5216d1]  \n",
       "3215  [42ee983c47d9a0b5da431b2c0aefb1de, 42ee983c47d...  \n",
       "3216                 [cee064743f2f68f2207fa470c6b5ba82]  \n",
       "3217                 [2f434e3cfcf1f4dae98583c79db7031d]  \n",
       "\n",
       "[3218 rows x 3 columns]"
      ]
     },
     "execution_count": 35,
     "metadata": {},
     "output_type": "execute_result"
    }
   ],
   "source": [
    "acc_no_map_agg"
   ]
  },
  {
   "cell_type": "code",
   "execution_count": 36,
   "metadata": {
    "gather": {
     "logged": 1628307657859
    }
   },
   "outputs": [
    {
     "data": {
      "text/plain": [
       "3218"
      ]
     },
     "execution_count": 36,
     "metadata": {},
     "output_type": "execute_result"
    }
   ],
   "source": [
    "len(acc_no_map[\"ACCOUNT_NUM.hash\"].unique())"
   ]
  },
  {
   "cell_type": "code",
   "execution_count": 37,
   "metadata": {
    "gather": {
     "logged": 1628307981097
    },
    "jupyter": {
     "outputs_hidden": false,
     "source_hidden": false
    },
    "nteract": {
     "transient": {
      "deleting": false
     }
    }
   },
   "outputs": [],
   "source": [
    "acc_no_map.to_csv(\"data/user_profile/account_no_map_all.csv\")"
   ]
  },
  {
   "cell_type": "code",
   "execution_count": 38,
   "metadata": {
    "gather": {
     "logged": 1628307944338
    }
   },
   "outputs": [],
   "source": [
    "acc_no_map_agg.to_csv(\"data/user_profile/account_no_map_agg.csv\")"
   ]
  },
  {
   "cell_type": "code",
   "execution_count": null,
   "metadata": {},
   "outputs": [],
   "source": []
  },
  {
   "cell_type": "markdown",
   "metadata": {},
   "source": [
    "## Adding Phone Number col to Customer Demographics "
   ]
  },
  {
   "cell_type": "markdown",
   "metadata": {},
   "source": [
    "### Demographics Inofmation"
   ]
  },
  {
   "cell_type": "code",
   "execution_count": 40,
   "metadata": {
    "gather": {
     "logged": 1628307999115
    }
   },
   "outputs": [],
   "source": [
    "demo_df = pd.read_excel(\"data/new/Demographic_Data.xls\")  "
   ]
  },
  {
   "cell_type": "code",
   "execution_count": 41,
   "metadata": {
    "gather": {
     "logged": 1628308002861
    },
    "jupyter": {
     "outputs_hidden": false,
     "source_hidden": false
    },
    "nteract": {
     "transient": {
      "deleting": false
     }
    }
   },
   "outputs": [
    {
     "name": "stdout",
     "output_type": "stream",
     "text": [
      "<class 'pandas.core.frame.DataFrame'>\n",
      "RangeIndex: 2400 entries, 0 to 2399\n",
      "Data columns (total 5 columns):\n",
      " #   Column             Non-Null Count  Dtype \n",
      "---  ------             --------------  ----- \n",
      " 0   CUSTOMER_REF.hash  2400 non-null   object\n",
      " 1   GENDER             2400 non-null   object\n",
      " 2   BIRTH_YEAR         2400 non-null   int64 \n",
      " 3   AGE                2400 non-null   int64 \n",
      " 4                      2400 non-null   object\n",
      "dtypes: int64(2), object(3)\n",
      "memory usage: 93.9+ KB\n"
     ]
    }
   ],
   "source": [
    "demo_df.info()"
   ]
  },
  {
   "cell_type": "code",
   "execution_count": 42,
   "metadata": {
    "gather": {
     "logged": 1628309161437
    }
   },
   "outputs": [
    {
     "data": {
      "text/html": [
       "<div>\n",
       "<style scoped>\n",
       "    .dataframe tbody tr th:only-of-type {\n",
       "        vertical-align: middle;\n",
       "    }\n",
       "\n",
       "    .dataframe tbody tr th {\n",
       "        vertical-align: top;\n",
       "    }\n",
       "\n",
       "    .dataframe thead th {\n",
       "        text-align: right;\n",
       "    }\n",
       "</style>\n",
       "<table border=\"1\" class=\"dataframe\">\n",
       "  <thead>\n",
       "    <tr style=\"text-align: right;\">\n",
       "      <th></th>\n",
       "      <th>CUSTOMER_REF.hash</th>\n",
       "      <th>GENDER</th>\n",
       "      <th>BIRTH_YEAR</th>\n",
       "      <th>AGE</th>\n",
       "      <th></th>\n",
       "      <th>event_source.hash</th>\n",
       "      <th>ACCOUNT_NUM.hash</th>\n",
       "    </tr>\n",
       "  </thead>\n",
       "  <tbody>\n",
       "    <tr>\n",
       "      <th>0</th>\n",
       "      <td>a043dbaaa0025b1f8cc08824dc994a0d</td>\n",
       "      <td>M</td>\n",
       "      <td>1967</td>\n",
       "      <td>54</td>\n",
       "      <td></td>\n",
       "      <td>a84f463df0fb45ec8d42ca92ab237156</td>\n",
       "      <td>a9c24ac1c87f8677a4dbe304c88054aa</td>\n",
       "    </tr>\n",
       "    <tr>\n",
       "      <th>1</th>\n",
       "      <td>a043dbaaa0025b1f8cc08824dc994a0d</td>\n",
       "      <td>M</td>\n",
       "      <td>1967</td>\n",
       "      <td>54</td>\n",
       "      <td></td>\n",
       "      <td>174913a52c17beb0dad243cec5940c30</td>\n",
       "      <td>a9c24ac1c87f8677a4dbe304c88054aa</td>\n",
       "    </tr>\n",
       "    <tr>\n",
       "      <th>2</th>\n",
       "      <td>2e5e5c967af4b7b4c0cf0b9185d5ad7e</td>\n",
       "      <td>M</td>\n",
       "      <td>1964</td>\n",
       "      <td>57</td>\n",
       "      <td></td>\n",
       "      <td>0bd313cd37f37a651cc0bda8feadc630</td>\n",
       "      <td>ee3713acf4da68cda726f61d3f1026f7</td>\n",
       "    </tr>\n",
       "    <tr>\n",
       "      <th>3</th>\n",
       "      <td>2e5e5c967af4b7b4c0cf0b9185d5ad7e</td>\n",
       "      <td>M</td>\n",
       "      <td>1964</td>\n",
       "      <td>57</td>\n",
       "      <td></td>\n",
       "      <td>5b6deac8be1e07aabeb41a4158a08e71</td>\n",
       "      <td>ee3713acf4da68cda726f61d3f1026f7</td>\n",
       "    </tr>\n",
       "    <tr>\n",
       "      <th>4</th>\n",
       "      <td>3269bc892961919e511bdbe178fa0ac6</td>\n",
       "      <td>M</td>\n",
       "      <td>1966</td>\n",
       "      <td>55</td>\n",
       "      <td></td>\n",
       "      <td>de4a1fdf1880db54d5176095a99ed2ab</td>\n",
       "      <td>6876df747de66cfb33ecd010dfcd68c7</td>\n",
       "    </tr>\n",
       "    <tr>\n",
       "      <th>...</th>\n",
       "      <td>...</td>\n",
       "      <td>...</td>\n",
       "      <td>...</td>\n",
       "      <td>...</td>\n",
       "      <td>...</td>\n",
       "      <td>...</td>\n",
       "      <td>...</td>\n",
       "    </tr>\n",
       "    <tr>\n",
       "      <th>4114</th>\n",
       "      <td>205b0fead79db9bf08a98002d2727ef5</td>\n",
       "      <td>M</td>\n",
       "      <td>1967</td>\n",
       "      <td>54</td>\n",
       "      <td></td>\n",
       "      <td>8187113efb884778725f953c751ae4f1</td>\n",
       "      <td>87cd775edc9cfc4f401e6ff39f239833</td>\n",
       "    </tr>\n",
       "    <tr>\n",
       "      <th>4115</th>\n",
       "      <td>cd035ec55e44eea43d998addc7bcc434</td>\n",
       "      <td>M</td>\n",
       "      <td>1948</td>\n",
       "      <td>73</td>\n",
       "      <td></td>\n",
       "      <td>90feabe2f2846cbf4eb77db650c48a1b</td>\n",
       "      <td>9c926ad1c6705e1f46462dc5b59d8feb</td>\n",
       "    </tr>\n",
       "    <tr>\n",
       "      <th>4116</th>\n",
       "      <td>f5fbbc6264cd75823c8f8cb0830cba45</td>\n",
       "      <td>F</td>\n",
       "      <td>1949</td>\n",
       "      <td>72</td>\n",
       "      <td></td>\n",
       "      <td>7e2f7cef44ccac863691ec25019df475</td>\n",
       "      <td>ffaaa3f5d45ce8c8553efbcfa7e6ce00</td>\n",
       "    </tr>\n",
       "    <tr>\n",
       "      <th>4117</th>\n",
       "      <td>f5fbbc6264cd75823c8f8cb0830cba45</td>\n",
       "      <td>F</td>\n",
       "      <td>1949</td>\n",
       "      <td>72</td>\n",
       "      <td></td>\n",
       "      <td>2324aebced3f63304a107e6e13c39f78</td>\n",
       "      <td>ffaaa3f5d45ce8c8553efbcfa7e6ce00</td>\n",
       "    </tr>\n",
       "    <tr>\n",
       "      <th>4118</th>\n",
       "      <td>aae7281b2e92e745e717bbc77a176769</td>\n",
       "      <td>M</td>\n",
       "      <td>1953</td>\n",
       "      <td>68</td>\n",
       "      <td></td>\n",
       "      <td>NaN</td>\n",
       "      <td>NaN</td>\n",
       "    </tr>\n",
       "  </tbody>\n",
       "</table>\n",
       "<p>4119 rows × 7 columns</p>\n",
       "</div>"
      ],
      "text/plain": [
       "                     CUSTOMER_REF.hash GENDER  BIRTH_YEAR  AGE     \\\n",
       "0     a043dbaaa0025b1f8cc08824dc994a0d      M        1967   54      \n",
       "1     a043dbaaa0025b1f8cc08824dc994a0d      M        1967   54      \n",
       "2     2e5e5c967af4b7b4c0cf0b9185d5ad7e      M        1964   57      \n",
       "3     2e5e5c967af4b7b4c0cf0b9185d5ad7e      M        1964   57      \n",
       "4     3269bc892961919e511bdbe178fa0ac6      M        1966   55      \n",
       "...                                ...    ...         ...  ... ..   \n",
       "4114  205b0fead79db9bf08a98002d2727ef5      M        1967   54      \n",
       "4115  cd035ec55e44eea43d998addc7bcc434      M        1948   73      \n",
       "4116  f5fbbc6264cd75823c8f8cb0830cba45      F        1949   72      \n",
       "4117  f5fbbc6264cd75823c8f8cb0830cba45      F        1949   72      \n",
       "4118  aae7281b2e92e745e717bbc77a176769      M        1953   68      \n",
       "\n",
       "                     event_source.hash                  ACCOUNT_NUM.hash  \n",
       "0     a84f463df0fb45ec8d42ca92ab237156  a9c24ac1c87f8677a4dbe304c88054aa  \n",
       "1     174913a52c17beb0dad243cec5940c30  a9c24ac1c87f8677a4dbe304c88054aa  \n",
       "2     0bd313cd37f37a651cc0bda8feadc630  ee3713acf4da68cda726f61d3f1026f7  \n",
       "3     5b6deac8be1e07aabeb41a4158a08e71  ee3713acf4da68cda726f61d3f1026f7  \n",
       "4     de4a1fdf1880db54d5176095a99ed2ab  6876df747de66cfb33ecd010dfcd68c7  \n",
       "...                                ...                               ...  \n",
       "4114  8187113efb884778725f953c751ae4f1  87cd775edc9cfc4f401e6ff39f239833  \n",
       "4115  90feabe2f2846cbf4eb77db650c48a1b  9c926ad1c6705e1f46462dc5b59d8feb  \n",
       "4116  7e2f7cef44ccac863691ec25019df475  ffaaa3f5d45ce8c8553efbcfa7e6ce00  \n",
       "4117  2324aebced3f63304a107e6e13c39f78  ffaaa3f5d45ce8c8553efbcfa7e6ce00  \n",
       "4118                               NaN                               NaN  \n",
       "\n",
       "[4119 rows x 7 columns]"
      ]
     },
     "execution_count": 42,
     "metadata": {},
     "output_type": "execute_result"
    }
   ],
   "source": [
    "merged_demo = demo_df.merge(acc_no_map,how='left', on='CUSTOMER_REF.hash')\n",
    "merged_demo.reset_index(inplace=True)\n",
    "merged_demo.drop([\"index\"],axis=1, inplace=True)\n",
    "merged_demo"
   ]
  },
  {
   "cell_type": "code",
   "execution_count": 43,
   "metadata": {
    "gather": {
     "logged": 1628309172044
    }
   },
   "outputs": [],
   "source": [
    "merged_demo = merged_demo[[\"event_source.hash\",\"CUSTOMER_REF.hash\",\"ACCOUNT_NUM.hash\",\"GENDER\",\"BIRTH_YEAR\",\"AGE\"]]"
   ]
  },
  {
   "cell_type": "code",
   "execution_count": 44,
   "metadata": {
    "gather": {
     "logged": 1628309176879
    },
    "jupyter": {
     "outputs_hidden": false,
     "source_hidden": false
    },
    "nteract": {
     "transient": {
      "deleting": false
     }
    }
   },
   "outputs": [
    {
     "name": "stderr",
     "output_type": "stream",
     "text": [
      "<ipython-input-44-fd320b583848>:1: SettingWithCopyWarning: \n",
      "A value is trying to be set on a copy of a slice from a DataFrame\n",
      "\n",
      "See the caveats in the documentation: https://pandas.pydata.org/pandas-docs/stable/user_guide/indexing.html#returning-a-view-versus-a-copy\n",
      "  merged_demo.drop_duplicates(\"ACCOUNT_NUM.hash\",  inplace=True, keep=\"last\")\n"
     ]
    }
   ],
   "source": [
    "merged_demo.drop_duplicates(\"ACCOUNT_NUM.hash\",  inplace=True, keep=\"last\")"
   ]
  },
  {
   "cell_type": "code",
   "execution_count": 45,
   "metadata": {
    "gather": {
     "logged": 1628309184280
    }
   },
   "outputs": [
    {
     "name": "stdout",
     "output_type": "stream",
     "text": [
      "<class 'pandas.core.frame.DataFrame'>\n",
      "Int64Index: 2439 entries, 1 to 4118\n",
      "Data columns (total 6 columns):\n",
      " #   Column             Non-Null Count  Dtype \n",
      "---  ------             --------------  ----- \n",
      " 0   event_source.hash  2438 non-null   object\n",
      " 1   CUSTOMER_REF.hash  2439 non-null   object\n",
      " 2   ACCOUNT_NUM.hash   2438 non-null   object\n",
      " 3   GENDER             2439 non-null   object\n",
      " 4   BIRTH_YEAR         2439 non-null   int64 \n",
      " 5   AGE                2439 non-null   int64 \n",
      "dtypes: int64(2), object(4)\n",
      "memory usage: 133.4+ KB\n"
     ]
    }
   ],
   "source": [
    "merged_demo.info()"
   ]
  },
  {
   "cell_type": "code",
   "execution_count": 46,
   "metadata": {
    "gather": {
     "logged": 1628309212131
    }
   },
   "outputs": [],
   "source": [
    "merged_demo.to_csv(\"data/user_profile/user_demographics_final.csv\")"
   ]
  },
  {
   "cell_type": "code",
   "execution_count": null,
   "metadata": {},
   "outputs": [],
   "source": []
  },
  {
   "cell_type": "markdown",
   "metadata": {},
   "source": [
    "## VAS Common Dataset Analysis"
   ]
  },
  {
   "cell_type": "code",
   "execution_count": 47,
   "metadata": {
    "gather": {
     "logged": 1628309653337
    }
   },
   "outputs": [],
   "source": [
    "vas_common_df = pd.read_excel(\"data/new/VAS_Products_Purchased Dates_Rental.xls\")\n",
    "vas_common_df.rename(columns={'PRODUCT_NAME':'VAS','BSS_DSP':'Month_Subscribed','RENTAL':'Rental'}, inplace=True)"
   ]
  },
  {
   "cell_type": "code",
   "execution_count": 48,
   "metadata": {},
   "outputs": [
    {
     "data": {
      "text/html": [
       "<div>\n",
       "<style scoped>\n",
       "    .dataframe tbody tr th:only-of-type {\n",
       "        vertical-align: middle;\n",
       "    }\n",
       "\n",
       "    .dataframe tbody tr th {\n",
       "        vertical-align: top;\n",
       "    }\n",
       "\n",
       "    .dataframe thead th {\n",
       "        text-align: right;\n",
       "    }\n",
       "</style>\n",
       "<table border=\"1\" class=\"dataframe\">\n",
       "  <thead>\n",
       "    <tr style=\"text-align: right;\">\n",
       "      <th></th>\n",
       "      <th>ACCOUNT_NUM.hash</th>\n",
       "      <th>VAS</th>\n",
       "      <th>Rental</th>\n",
       "      <th>Month_Subscribed</th>\n",
       "      <th></th>\n",
       "    </tr>\n",
       "  </thead>\n",
       "  <tbody>\n",
       "    <tr>\n",
       "      <th>0</th>\n",
       "      <td>e112d7496d586689517a4e45b5f2fedf</td>\n",
       "      <td>V_Telehealth</td>\n",
       "      <td>100</td>\n",
       "      <td>2019-10-02 00:00:00</td>\n",
       "      <td></td>\n",
       "    </tr>\n",
       "    <tr>\n",
       "      <th>1</th>\n",
       "      <td>8211688ed551c3ae41cd251ec79a7590</td>\n",
       "      <td>V_Telehealth</td>\n",
       "      <td>100</td>\n",
       "      <td>2019-10-02 00:00:00</td>\n",
       "      <td></td>\n",
       "    </tr>\n",
       "    <tr>\n",
       "      <th>2</th>\n",
       "      <td>0febcc112d2da8fb15ae29af3e6b07e8</td>\n",
       "      <td>V_Telehealth</td>\n",
       "      <td>100</td>\n",
       "      <td>2020-02-11 00:00:00</td>\n",
       "      <td></td>\n",
       "    </tr>\n",
       "    <tr>\n",
       "      <th>3</th>\n",
       "      <td>646a136484b965c0b4a1b18dfbb2c663</td>\n",
       "      <td>V_Telehealth</td>\n",
       "      <td>100</td>\n",
       "      <td>2020-02-10 00:00:00</td>\n",
       "      <td></td>\n",
       "    </tr>\n",
       "    <tr>\n",
       "      <th>4</th>\n",
       "      <td>49e3fe21450d5993d23121d53942ab3b</td>\n",
       "      <td>V_Telehealth</td>\n",
       "      <td>100</td>\n",
       "      <td>2020-02-11 00:00:00</td>\n",
       "      <td></td>\n",
       "    </tr>\n",
       "    <tr>\n",
       "      <th>...</th>\n",
       "      <td>...</td>\n",
       "      <td>...</td>\n",
       "      <td>...</td>\n",
       "      <td>...</td>\n",
       "      <td>...</td>\n",
       "    </tr>\n",
       "    <tr>\n",
       "      <th>31543</th>\n",
       "      <td>cf8dc52e654c98c2461291893eb27c06</td>\n",
       "      <td>V_Telehealth</td>\n",
       "      <td>100</td>\n",
       "      <td>2020-08-31 00:00:00</td>\n",
       "      <td></td>\n",
       "    </tr>\n",
       "    <tr>\n",
       "      <th>31544</th>\n",
       "      <td>720d67e1d56b076413efbd52553c5388</td>\n",
       "      <td>V_Telehealth</td>\n",
       "      <td>165</td>\n",
       "      <td>2020-08-31 00:00:00</td>\n",
       "      <td></td>\n",
       "    </tr>\n",
       "    <tr>\n",
       "      <th>31545</th>\n",
       "      <td>8e7a582787f663d030bd2dc31e46ee49</td>\n",
       "      <td>FTTH_Gamer Lite Subscription</td>\n",
       "      <td>500</td>\n",
       "      <td>2021-04-25 11:52:36</td>\n",
       "      <td></td>\n",
       "    </tr>\n",
       "    <tr>\n",
       "      <th>31546</th>\n",
       "      <td>8e7a582787f663d030bd2dc31e46ee49</td>\n",
       "      <td>FTTH_Gamer Lite Subscription</td>\n",
       "      <td>500</td>\n",
       "      <td>2021-04-25 11:51:08</td>\n",
       "      <td></td>\n",
       "    </tr>\n",
       "    <tr>\n",
       "      <th>31547</th>\n",
       "      <td>627d19cbc4517c839dcdb4bcedf9a42b</td>\n",
       "      <td>Megaline_Gamer Lite Subscription</td>\n",
       "      <td>500</td>\n",
       "      <td>2021-05-13 09:36:59</td>\n",
       "      <td></td>\n",
       "    </tr>\n",
       "  </tbody>\n",
       "</table>\n",
       "<p>31548 rows × 5 columns</p>\n",
       "</div>"
      ],
      "text/plain": [
       "                       ACCOUNT_NUM.hash                               VAS  \\\n",
       "0      e112d7496d586689517a4e45b5f2fedf                      V_Telehealth   \n",
       "1      8211688ed551c3ae41cd251ec79a7590                      V_Telehealth   \n",
       "2      0febcc112d2da8fb15ae29af3e6b07e8                      V_Telehealth   \n",
       "3      646a136484b965c0b4a1b18dfbb2c663                      V_Telehealth   \n",
       "4      49e3fe21450d5993d23121d53942ab3b                      V_Telehealth   \n",
       "...                                 ...                               ...   \n",
       "31543  cf8dc52e654c98c2461291893eb27c06                      V_Telehealth   \n",
       "31544  720d67e1d56b076413efbd52553c5388                      V_Telehealth   \n",
       "31545  8e7a582787f663d030bd2dc31e46ee49      FTTH_Gamer Lite Subscription   \n",
       "31546  8e7a582787f663d030bd2dc31e46ee49      FTTH_Gamer Lite Subscription   \n",
       "31547  627d19cbc4517c839dcdb4bcedf9a42b  Megaline_Gamer Lite Subscription   \n",
       "\n",
       "      Rental     Month_Subscribed     \n",
       "0        100  2019-10-02 00:00:00     \n",
       "1        100  2019-10-02 00:00:00     \n",
       "2        100  2020-02-11 00:00:00     \n",
       "3        100  2020-02-10 00:00:00     \n",
       "4        100  2020-02-11 00:00:00     \n",
       "...      ...                  ... ..  \n",
       "31543    100  2020-08-31 00:00:00     \n",
       "31544    165  2020-08-31 00:00:00     \n",
       "31545    500  2021-04-25 11:52:36     \n",
       "31546    500  2021-04-25 11:51:08     \n",
       "31547    500  2021-05-13 09:36:59     \n",
       "\n",
       "[31548 rows x 5 columns]"
      ]
     },
     "execution_count": 48,
     "metadata": {},
     "output_type": "execute_result"
    }
   ],
   "source": [
    "vas_common_df"
   ]
  },
  {
   "cell_type": "code",
   "execution_count": 49,
   "metadata": {
    "gather": {
     "logged": 1628309658331
    }
   },
   "outputs": [],
   "source": [
    "# Date correction\n",
    "def date_correct_common(date):\n",
    "    date=str(date)\n",
    "    year=date[:4]\n",
    "    month=date[5:7]\n",
    "    return f\"{year}-{month}\""
   ]
  },
  {
   "cell_type": "code",
   "execution_count": 50,
   "metadata": {
    "gather": {
     "logged": 1628309665744
    }
   },
   "outputs": [],
   "source": [
    "vas_common_df[\"Month_Subscribed\"]=vas_common_df[\"Month_Subscribed\"].apply(lambda x: date_correct_common(x))"
   ]
  },
  {
   "cell_type": "code",
   "execution_count": 51,
   "metadata": {
    "gather": {
     "logged": 1628309720641
    },
    "jupyter": {
     "outputs_hidden": false,
     "source_hidden": false
    },
    "nteract": {
     "transient": {
      "deleting": false
     }
    }
   },
   "outputs": [
    {
     "name": "stdout",
     "output_type": "stream",
     "text": [
      "<class 'pandas.core.frame.DataFrame'>\n",
      "RangeIndex: 31548 entries, 0 to 31547\n",
      "Data columns (total 5 columns):\n",
      " #   Column            Non-Null Count  Dtype \n",
      "---  ------            --------------  ----- \n",
      " 0   ACCOUNT_NUM.hash  31548 non-null  object\n",
      " 1   VAS               31548 non-null  object\n",
      " 2   Rental            31548 non-null  object\n",
      " 3   Month_Subscribed  31548 non-null  object\n",
      " 4                     31548 non-null  object\n",
      "dtypes: object(5)\n",
      "memory usage: 1.2+ MB\n"
     ]
    }
   ],
   "source": [
    "vas_common_df.info()"
   ]
  },
  {
   "cell_type": "code",
   "execution_count": 52,
   "metadata": {},
   "outputs": [
    {
     "data": {
      "text/html": [
       "<div>\n",
       "<style scoped>\n",
       "    .dataframe tbody tr th:only-of-type {\n",
       "        vertical-align: middle;\n",
       "    }\n",
       "\n",
       "    .dataframe tbody tr th {\n",
       "        vertical-align: top;\n",
       "    }\n",
       "\n",
       "    .dataframe thead th {\n",
       "        text-align: right;\n",
       "    }\n",
       "</style>\n",
       "<table border=\"1\" class=\"dataframe\">\n",
       "  <thead>\n",
       "    <tr style=\"text-align: right;\">\n",
       "      <th></th>\n",
       "      <th>ACCOUNT_NUM.hash</th>\n",
       "      <th>VAS</th>\n",
       "      <th>Rental</th>\n",
       "      <th>Month_Subscribed</th>\n",
       "      <th></th>\n",
       "    </tr>\n",
       "  </thead>\n",
       "  <tbody>\n",
       "    <tr>\n",
       "      <th>0</th>\n",
       "      <td>e112d7496d586689517a4e45b5f2fedf</td>\n",
       "      <td>V_Telehealth</td>\n",
       "      <td>100</td>\n",
       "      <td>2019-10</td>\n",
       "      <td></td>\n",
       "    </tr>\n",
       "    <tr>\n",
       "      <th>1</th>\n",
       "      <td>8211688ed551c3ae41cd251ec79a7590</td>\n",
       "      <td>V_Telehealth</td>\n",
       "      <td>100</td>\n",
       "      <td>2019-10</td>\n",
       "      <td></td>\n",
       "    </tr>\n",
       "    <tr>\n",
       "      <th>2</th>\n",
       "      <td>0febcc112d2da8fb15ae29af3e6b07e8</td>\n",
       "      <td>V_Telehealth</td>\n",
       "      <td>100</td>\n",
       "      <td>2020-02</td>\n",
       "      <td></td>\n",
       "    </tr>\n",
       "    <tr>\n",
       "      <th>3</th>\n",
       "      <td>646a136484b965c0b4a1b18dfbb2c663</td>\n",
       "      <td>V_Telehealth</td>\n",
       "      <td>100</td>\n",
       "      <td>2020-02</td>\n",
       "      <td></td>\n",
       "    </tr>\n",
       "    <tr>\n",
       "      <th>4</th>\n",
       "      <td>49e3fe21450d5993d23121d53942ab3b</td>\n",
       "      <td>V_Telehealth</td>\n",
       "      <td>100</td>\n",
       "      <td>2020-02</td>\n",
       "      <td></td>\n",
       "    </tr>\n",
       "    <tr>\n",
       "      <th>...</th>\n",
       "      <td>...</td>\n",
       "      <td>...</td>\n",
       "      <td>...</td>\n",
       "      <td>...</td>\n",
       "      <td>...</td>\n",
       "    </tr>\n",
       "    <tr>\n",
       "      <th>31543</th>\n",
       "      <td>cf8dc52e654c98c2461291893eb27c06</td>\n",
       "      <td>V_Telehealth</td>\n",
       "      <td>100</td>\n",
       "      <td>2020-08</td>\n",
       "      <td></td>\n",
       "    </tr>\n",
       "    <tr>\n",
       "      <th>31544</th>\n",
       "      <td>720d67e1d56b076413efbd52553c5388</td>\n",
       "      <td>V_Telehealth</td>\n",
       "      <td>165</td>\n",
       "      <td>2020-08</td>\n",
       "      <td></td>\n",
       "    </tr>\n",
       "    <tr>\n",
       "      <th>31545</th>\n",
       "      <td>8e7a582787f663d030bd2dc31e46ee49</td>\n",
       "      <td>FTTH_Gamer Lite Subscription</td>\n",
       "      <td>500</td>\n",
       "      <td>2021-04</td>\n",
       "      <td></td>\n",
       "    </tr>\n",
       "    <tr>\n",
       "      <th>31546</th>\n",
       "      <td>8e7a582787f663d030bd2dc31e46ee49</td>\n",
       "      <td>FTTH_Gamer Lite Subscription</td>\n",
       "      <td>500</td>\n",
       "      <td>2021-04</td>\n",
       "      <td></td>\n",
       "    </tr>\n",
       "    <tr>\n",
       "      <th>31547</th>\n",
       "      <td>627d19cbc4517c839dcdb4bcedf9a42b</td>\n",
       "      <td>Megaline_Gamer Lite Subscription</td>\n",
       "      <td>500</td>\n",
       "      <td>2021-05</td>\n",
       "      <td></td>\n",
       "    </tr>\n",
       "  </tbody>\n",
       "</table>\n",
       "<p>31548 rows × 5 columns</p>\n",
       "</div>"
      ],
      "text/plain": [
       "                       ACCOUNT_NUM.hash                               VAS  \\\n",
       "0      e112d7496d586689517a4e45b5f2fedf                      V_Telehealth   \n",
       "1      8211688ed551c3ae41cd251ec79a7590                      V_Telehealth   \n",
       "2      0febcc112d2da8fb15ae29af3e6b07e8                      V_Telehealth   \n",
       "3      646a136484b965c0b4a1b18dfbb2c663                      V_Telehealth   \n",
       "4      49e3fe21450d5993d23121d53942ab3b                      V_Telehealth   \n",
       "...                                 ...                               ...   \n",
       "31543  cf8dc52e654c98c2461291893eb27c06                      V_Telehealth   \n",
       "31544  720d67e1d56b076413efbd52553c5388                      V_Telehealth   \n",
       "31545  8e7a582787f663d030bd2dc31e46ee49      FTTH_Gamer Lite Subscription   \n",
       "31546  8e7a582787f663d030bd2dc31e46ee49      FTTH_Gamer Lite Subscription   \n",
       "31547  627d19cbc4517c839dcdb4bcedf9a42b  Megaline_Gamer Lite Subscription   \n",
       "\n",
       "      Rental Month_Subscribed     \n",
       "0        100          2019-10     \n",
       "1        100          2019-10     \n",
       "2        100          2020-02     \n",
       "3        100          2020-02     \n",
       "4        100          2020-02     \n",
       "...      ...              ... ..  \n",
       "31543    100          2020-08     \n",
       "31544    165          2020-08     \n",
       "31545    500          2021-04     \n",
       "31546    500          2021-04     \n",
       "31547    500          2021-05     \n",
       "\n",
       "[31548 rows x 5 columns]"
      ]
     },
     "execution_count": 52,
     "metadata": {},
     "output_type": "execute_result"
    }
   ],
   "source": [
    "vas_common_df"
   ]
  },
  {
   "cell_type": "code",
   "execution_count": 53,
   "metadata": {
    "gather": {
     "logged": 1628309340719
    }
   },
   "outputs": [],
   "source": [
    "#vas_common_df = vas_common_df.merge(acc_no_map_agg,how='left',on=\"ACCOUNT_NUM.hash\")"
   ]
  },
  {
   "cell_type": "code",
   "execution_count": 54,
   "metadata": {
    "gather": {
     "logged": 1628309741268
    }
   },
   "outputs": [
    {
     "data": {
      "text/html": [
       "<div>\n",
       "<style scoped>\n",
       "    .dataframe tbody tr th:only-of-type {\n",
       "        vertical-align: middle;\n",
       "    }\n",
       "\n",
       "    .dataframe tbody tr th {\n",
       "        vertical-align: top;\n",
       "    }\n",
       "\n",
       "    .dataframe thead th {\n",
       "        text-align: right;\n",
       "    }\n",
       "</style>\n",
       "<table border=\"1\" class=\"dataframe\">\n",
       "  <thead>\n",
       "    <tr style=\"text-align: right;\">\n",
       "      <th></th>\n",
       "      <th>ACCOUNT_NUM.hash</th>\n",
       "      <th>VAS</th>\n",
       "      <th>Month_Subscribed</th>\n",
       "      <th>Rental</th>\n",
       "    </tr>\n",
       "  </thead>\n",
       "  <tbody>\n",
       "    <tr>\n",
       "      <th>0</th>\n",
       "      <td>e112d7496d586689517a4e45b5f2fedf</td>\n",
       "      <td>V_Telehealth</td>\n",
       "      <td>2019-10</td>\n",
       "      <td>100</td>\n",
       "    </tr>\n",
       "    <tr>\n",
       "      <th>1</th>\n",
       "      <td>8211688ed551c3ae41cd251ec79a7590</td>\n",
       "      <td>V_Telehealth</td>\n",
       "      <td>2019-10</td>\n",
       "      <td>100</td>\n",
       "    </tr>\n",
       "    <tr>\n",
       "      <th>2</th>\n",
       "      <td>0febcc112d2da8fb15ae29af3e6b07e8</td>\n",
       "      <td>V_Telehealth</td>\n",
       "      <td>2020-02</td>\n",
       "      <td>100</td>\n",
       "    </tr>\n",
       "    <tr>\n",
       "      <th>3</th>\n",
       "      <td>646a136484b965c0b4a1b18dfbb2c663</td>\n",
       "      <td>V_Telehealth</td>\n",
       "      <td>2020-02</td>\n",
       "      <td>100</td>\n",
       "    </tr>\n",
       "    <tr>\n",
       "      <th>4</th>\n",
       "      <td>49e3fe21450d5993d23121d53942ab3b</td>\n",
       "      <td>V_Telehealth</td>\n",
       "      <td>2020-02</td>\n",
       "      <td>100</td>\n",
       "    </tr>\n",
       "    <tr>\n",
       "      <th>...</th>\n",
       "      <td>...</td>\n",
       "      <td>...</td>\n",
       "      <td>...</td>\n",
       "      <td>...</td>\n",
       "    </tr>\n",
       "    <tr>\n",
       "      <th>31543</th>\n",
       "      <td>cf8dc52e654c98c2461291893eb27c06</td>\n",
       "      <td>V_Telehealth</td>\n",
       "      <td>2020-08</td>\n",
       "      <td>100</td>\n",
       "    </tr>\n",
       "    <tr>\n",
       "      <th>31544</th>\n",
       "      <td>720d67e1d56b076413efbd52553c5388</td>\n",
       "      <td>V_Telehealth</td>\n",
       "      <td>2020-08</td>\n",
       "      <td>165</td>\n",
       "    </tr>\n",
       "    <tr>\n",
       "      <th>31545</th>\n",
       "      <td>8e7a582787f663d030bd2dc31e46ee49</td>\n",
       "      <td>FTTH_Gamer Lite Subscription</td>\n",
       "      <td>2021-04</td>\n",
       "      <td>500</td>\n",
       "    </tr>\n",
       "    <tr>\n",
       "      <th>31546</th>\n",
       "      <td>8e7a582787f663d030bd2dc31e46ee49</td>\n",
       "      <td>FTTH_Gamer Lite Subscription</td>\n",
       "      <td>2021-04</td>\n",
       "      <td>500</td>\n",
       "    </tr>\n",
       "    <tr>\n",
       "      <th>31547</th>\n",
       "      <td>627d19cbc4517c839dcdb4bcedf9a42b</td>\n",
       "      <td>Megaline_Gamer Lite Subscription</td>\n",
       "      <td>2021-05</td>\n",
       "      <td>500</td>\n",
       "    </tr>\n",
       "  </tbody>\n",
       "</table>\n",
       "<p>31548 rows × 4 columns</p>\n",
       "</div>"
      ],
      "text/plain": [
       "                       ACCOUNT_NUM.hash                               VAS  \\\n",
       "0      e112d7496d586689517a4e45b5f2fedf                      V_Telehealth   \n",
       "1      8211688ed551c3ae41cd251ec79a7590                      V_Telehealth   \n",
       "2      0febcc112d2da8fb15ae29af3e6b07e8                      V_Telehealth   \n",
       "3      646a136484b965c0b4a1b18dfbb2c663                      V_Telehealth   \n",
       "4      49e3fe21450d5993d23121d53942ab3b                      V_Telehealth   \n",
       "...                                 ...                               ...   \n",
       "31543  cf8dc52e654c98c2461291893eb27c06                      V_Telehealth   \n",
       "31544  720d67e1d56b076413efbd52553c5388                      V_Telehealth   \n",
       "31545  8e7a582787f663d030bd2dc31e46ee49      FTTH_Gamer Lite Subscription   \n",
       "31546  8e7a582787f663d030bd2dc31e46ee49      FTTH_Gamer Lite Subscription   \n",
       "31547  627d19cbc4517c839dcdb4bcedf9a42b  Megaline_Gamer Lite Subscription   \n",
       "\n",
       "      Month_Subscribed Rental  \n",
       "0              2019-10    100  \n",
       "1              2019-10    100  \n",
       "2              2020-02    100  \n",
       "3              2020-02    100  \n",
       "4              2020-02    100  \n",
       "...                ...    ...  \n",
       "31543          2020-08    100  \n",
       "31544          2020-08    165  \n",
       "31545          2021-04    500  \n",
       "31546          2021-04    500  \n",
       "31547          2021-05    500  \n",
       "\n",
       "[31548 rows x 4 columns]"
      ]
     },
     "execution_count": 54,
     "metadata": {},
     "output_type": "execute_result"
    }
   ],
   "source": [
    "vas_common_df = vas_common_df[[\"ACCOUNT_NUM.hash\",\"VAS\",\"Month_Subscribed\",\"Rental\"]]\n",
    "vas_common_df"
   ]
  },
  {
   "cell_type": "code",
   "execution_count": 55,
   "metadata": {},
   "outputs": [
    {
     "data": {
      "text/plain": [
       "30016"
      ]
     },
     "execution_count": 55,
     "metadata": {},
     "output_type": "execute_result"
    }
   ],
   "source": [
    "len(vas_common_df[\"ACCOUNT_NUM.hash\"].unique())"
   ]
  },
  {
   "cell_type": "code",
   "execution_count": 56,
   "metadata": {
    "gather": {
     "logged": 1628309770692
    }
   },
   "outputs": [
    {
     "data": {
      "text/plain": [
       "V_Telehealth                        30569\n",
       "P-Basic1_Tele Life                    266\n",
       "P-Plus1_Tele Life                     149\n",
       "V-Basic1_TeleLife                     135\n",
       "V-Plus1_TeleLife                      113\n",
       "P_Sisu Connect                        107\n",
       "V_Sisu Connect                         74\n",
       "BB_YouTube Bundle                      59\n",
       "BB_Messenger Bundle                    28\n",
       "BB_ Entertainment Unlimited            22\n",
       "P-Plus4_Tele Life                       5\n",
       "V-Plus4_TeleLife                        4\n",
       "C_Sisu Connect                          4\n",
       "P-Basic2_Tele Life                      3\n",
       "FTTH_Gamer Lite Subscription            2\n",
       "C-Basic1_Tele Life                      2\n",
       "V-Basic2_TeleLife                       2\n",
       "V-Basic4_TeleLife                       1\n",
       "Megaline_Gamer Lite Subscription        1\n",
       "2462                                    1\n",
       "P-Basic4_Tele Life                      1\n",
       "Name: VAS, dtype: int64"
      ]
     },
     "execution_count": 56,
     "metadata": {},
     "output_type": "execute_result"
    }
   ],
   "source": [
    "vas_common_df[\"VAS\"].value_counts()"
   ]
  },
  {
   "cell_type": "markdown",
   "metadata": {},
   "source": [
    "## VAS Analysis from Product BSS dataset"
   ]
  },
  {
   "cell_type": "code",
   "execution_count": 57,
   "metadata": {
    "gather": {
     "logged": 1628309780423
    }
   },
   "outputs": [
    {
     "data": {
      "text/plain": [
       "array(['AB_Copper Access Bearer', 'V_SLT Voice Service',\n",
       "       'E_SLT PeoTV Service', 'V_E-channeling Registration',\n",
       "       'V_Sisu Connect', 'V-Basic1_TeleLife', 'V_Telehealth',\n",
       "       'V-Plus1_TeleLife', 'V_E-channeling Subscription', nan,\n",
       "       'V-Plus4_TeleLife', 'OTT_SLT PeoTV Go', 'V-Basic2_TeleLife',\n",
       "       'V-Basic4_TeleLife', 'BB_PeoTVGO', 'BB_Personal Storage',\n",
       "       'BB_SLT BroadBand Service', 'BB_Extra GB', 'BB_Detailed Reports ',\n",
       "       'BB_ Entertainment Unlimited', 'BB_SLT Film Hall Service',\n",
       "       'AB_Fiber Access Bearer', 'AB_WireLess Access'], dtype=object)"
      ]
     },
     "execution_count": 57,
     "metadata": {},
     "output_type": "execute_result"
    }
   ],
   "source": [
    "product_cat_df[\"PRODUCT_NAME\"].unique()"
   ]
  },
  {
   "cell_type": "code",
   "execution_count": 58,
   "metadata": {
    "gather": {
     "logged": 1628313953298
    }
   },
   "outputs": [],
   "source": [
    "dss_vas_df =  product_cat_df[[\"ACCOUNT_NUM.hash\",\"PRODUCT_NAME\",\"START_DAT\",\"RECURRING_CHARGE\"]]"
   ]
  },
  {
   "cell_type": "code",
   "execution_count": 59,
   "metadata": {
    "gather": {
     "logged": 1628313960265
    },
    "jupyter": {
     "outputs_hidden": false,
     "source_hidden": false
    },
    "nteract": {
     "transient": {
      "deleting": false
     }
    }
   },
   "outputs": [
    {
     "name": "stdout",
     "output_type": "stream",
     "text": [
      "<class 'pandas.core.frame.DataFrame'>\n",
      "RangeIndex: 60708 entries, 0 to 60707\n",
      "Data columns (total 4 columns):\n",
      " #   Column            Non-Null Count  Dtype         \n",
      "---  ------            --------------  -----         \n",
      " 0   ACCOUNT_NUM.hash  60708 non-null  object        \n",
      " 1   PRODUCT_NAME      60707 non-null  object        \n",
      " 2   START_DAT         60707 non-null  datetime64[ns]\n",
      " 3   RECURRING_CHARGE  8386 non-null   float64       \n",
      "dtypes: datetime64[ns](1), float64(1), object(2)\n",
      "memory usage: 1.9+ MB\n"
     ]
    }
   ],
   "source": [
    "dss_vas_df.info()"
   ]
  },
  {
   "cell_type": "code",
   "execution_count": 60,
   "metadata": {
    "gather": {
     "logged": 1628313976098
    }
   },
   "outputs": [
    {
     "name": "stderr",
     "output_type": "stream",
     "text": [
      "<ipython-input-60-814cd12b6528>:1: SettingWithCopyWarning: \n",
      "A value is trying to be set on a copy of a slice from a DataFrame\n",
      "\n",
      "See the caveats in the documentation: https://pandas.pydata.org/pandas-docs/stable/user_guide/indexing.html#returning-a-view-versus-a-copy\n",
      "  dss_vas_df.sort_values(['ACCOUNT_NUM.hash', 'START_DAT'], ascending=[True, True], inplace=True)\n"
     ]
    }
   ],
   "source": [
    "dss_vas_df.sort_values(['ACCOUNT_NUM.hash', 'START_DAT'], ascending=[True, True], inplace=True)"
   ]
  },
  {
   "cell_type": "code",
   "execution_count": 61,
   "metadata": {
    "gather": {
     "logged": 1628313988616
    }
   },
   "outputs": [
    {
     "name": "stderr",
     "output_type": "stream",
     "text": [
      "C:\\ProgramData\\Anaconda3\\lib\\site-packages\\pandas\\core\\frame.py:4441: SettingWithCopyWarning: \n",
      "A value is trying to be set on a copy of a slice from a DataFrame\n",
      "\n",
      "See the caveats in the documentation: https://pandas.pydata.org/pandas-docs/stable/user_guide/indexing.html#returning-a-view-versus-a-copy\n",
      "  return super().rename(\n"
     ]
    }
   ],
   "source": [
    "dss_vas_df.rename(columns={'PRODUCT_NAME':'VAS','START_DAT':'Month_Subscribed',\"RECURRING_CHARGE\":\"Rental\"}, inplace=True)"
   ]
  },
  {
   "cell_type": "markdown",
   "metadata": {},
   "source": [
    "### Exporting Extra GB usage"
   ]
  },
  {
   "cell_type": "code",
   "execution_count": 62,
   "metadata": {
    "gather": {
     "logged": 1628313997109
    }
   },
   "outputs": [],
   "source": [
    "extra_GB_dss_df = dss_vas_df[(dss_vas_df[\"VAS\"]==\"BB_Extra GB\")]"
   ]
  },
  {
   "cell_type": "code",
   "execution_count": 63,
   "metadata": {
    "gather": {
     "logged": 1628314001395
    }
   },
   "outputs": [
    {
     "name": "stdout",
     "output_type": "stream",
     "text": [
      "<class 'pandas.core.frame.DataFrame'>\n",
      "Int64Index: 5372 entries, 57403 to 49321\n",
      "Data columns (total 4 columns):\n",
      " #   Column            Non-Null Count  Dtype         \n",
      "---  ------            --------------  -----         \n",
      " 0   ACCOUNT_NUM.hash  5372 non-null   object        \n",
      " 1   VAS               5372 non-null   object        \n",
      " 2   Month_Subscribed  5372 non-null   datetime64[ns]\n",
      " 3   Rental            0 non-null      float64       \n",
      "dtypes: datetime64[ns](1), float64(1), object(2)\n",
      "memory usage: 209.8+ KB\n"
     ]
    }
   ],
   "source": [
    "extra_GB_dss_df.info()"
   ]
  },
  {
   "cell_type": "code",
   "execution_count": 64,
   "metadata": {
    "gather": {
     "logged": 1628314012553
    }
   },
   "outputs": [
    {
     "data": {
      "text/plain": [
       "BB_Extra GB    5372\n",
       "Name: VAS, dtype: int64"
      ]
     },
     "execution_count": 64,
     "metadata": {},
     "output_type": "execute_result"
    }
   ],
   "source": [
    "extra_GB_dss_df[\"VAS\"].value_counts()"
   ]
  },
  {
   "cell_type": "code",
   "execution_count": 65,
   "metadata": {
    "gather": {
     "logged": 1628314017394
    },
    "jupyter": {
     "outputs_hidden": false,
     "source_hidden": false
    },
    "nteract": {
     "transient": {
      "deleting": false
     }
    }
   },
   "outputs": [
    {
     "name": "stdout",
     "output_type": "stream",
     "text": [
      "<class 'pandas.core.frame.DataFrame'>\n",
      "Int64Index: 5372 entries, 57403 to 49321\n",
      "Data columns (total 4 columns):\n",
      " #   Column            Non-Null Count  Dtype         \n",
      "---  ------            --------------  -----         \n",
      " 0   ACCOUNT_NUM.hash  5372 non-null   object        \n",
      " 1   VAS               5372 non-null   object        \n",
      " 2   Month_Subscribed  5372 non-null   datetime64[ns]\n",
      " 3   Rental            0 non-null      float64       \n",
      "dtypes: datetime64[ns](1), float64(1), object(2)\n",
      "memory usage: 209.8+ KB\n"
     ]
    }
   ],
   "source": [
    "extra_GB_dss_df.info()"
   ]
  },
  {
   "cell_type": "code",
   "execution_count": 66,
   "metadata": {
    "gather": {
     "logged": 1628314028517
    }
   },
   "outputs": [
    {
     "data": {
      "text/plain": [
       "1469"
      ]
     },
     "execution_count": 66,
     "metadata": {},
     "output_type": "execute_result"
    }
   ],
   "source": [
    "len(extra_GB_dss_df[\"ACCOUNT_NUM.hash\"].unique())"
   ]
  },
  {
   "cell_type": "code",
   "execution_count": 67,
   "metadata": {
    "gather": {
     "logged": 1628314035014
    }
   },
   "outputs": [],
   "source": [
    "dss_vas_df = dss_vas_df[(dss_vas_df[\"VAS\"]!=\"BB_Extra GB\")]"
   ]
  },
  {
   "cell_type": "code",
   "execution_count": 68,
   "metadata": {},
   "outputs": [],
   "source": [
    "#dss_vas_df.drop_duplicates([\"event_source.hash\"],inplace=True,keep=\"last\")"
   ]
  },
  {
   "cell_type": "code",
   "execution_count": 69,
   "metadata": {
    "gather": {
     "logged": 1628314045748
    }
   },
   "outputs": [],
   "source": [
    "# Date correction\n",
    "def date_correct_dss(date):\n",
    "    if len(date)>7:\n",
    "        return date[:7]\n",
    "    else:\n",
    "        return date"
   ]
  },
  {
   "cell_type": "code",
   "execution_count": 70,
   "metadata": {
    "gather": {
     "logged": 1628314053426
    }
   },
   "outputs": [],
   "source": [
    "dss_vas_df[\"Month_Subscribed\"]=dss_vas_df[\"Month_Subscribed\"].apply(lambda x: date_correct_dss(str(x)))"
   ]
  },
  {
   "cell_type": "code",
   "execution_count": 71,
   "metadata": {
    "gather": {
     "logged": 1628314060427
    }
   },
   "outputs": [
    {
     "data": {
      "text/plain": [
       "array(['2020-07', '2018-08', '2018-12', '2020-03', '2019-10', '2018-11',\n",
       "       '2018-10', '2017-01', '2019-04', '2018-09', '2019-01', '2019-02',\n",
       "       '2019-03', '2019-05', '2019-06', '2019-11', '2019-12', '2020-01',\n",
       "       '2020-02', '2020-04', '2020-06', '2020-08', '2014-01', '2014-03',\n",
       "       '2015-02', '2015-07', '2015-11', '2016-02', '2016-08', '2016-10',\n",
       "       '2017-02', '2017-03', '2017-11', '2018-01', '2018-02', '2018-04',\n",
       "       '2019-07', '2019-08', '2019-09', '2020-05', '2021-03', '2018-05',\n",
       "       '2018-07', '2015-09', '2016-11', '2017-06', '2018-03', '2016-05',\n",
       "       '2016-09', '2017-04', '2017-09', '2017-12', '2018-06', '2020-09',\n",
       "       '2016-06', '2015-08', '2016-04', '2017-07', '2017-08', '2017-10',\n",
       "       '2021-02', '2014-02', '2015-10', '2016-12', '2016-01', '2017-05',\n",
       "       '2020-10', 'NaT', '2015-05', '2016-07', '2016-03'], dtype=object)"
      ]
     },
     "execution_count": 71,
     "metadata": {},
     "output_type": "execute_result"
    }
   ],
   "source": [
    "dss_vas_df[\"Month_Subscribed\"].unique()"
   ]
  },
  {
   "cell_type": "code",
   "execution_count": 72,
   "metadata": {
    "gather": {
     "logged": 1628314065110
    }
   },
   "outputs": [
    {
     "name": "stdout",
     "output_type": "stream",
     "text": [
      "<class 'pandas.core.frame.DataFrame'>\n",
      "Int64Index: 55336 entries, 26825 to 33575\n",
      "Data columns (total 4 columns):\n",
      " #   Column            Non-Null Count  Dtype  \n",
      "---  ------            --------------  -----  \n",
      " 0   ACCOUNT_NUM.hash  55336 non-null  object \n",
      " 1   VAS               55335 non-null  object \n",
      " 2   Month_Subscribed  55336 non-null  object \n",
      " 3   Rental            8386 non-null   float64\n",
      "dtypes: float64(1), object(3)\n",
      "memory usage: 2.1+ MB\n"
     ]
    }
   ],
   "source": [
    "dss_vas_df.info()"
   ]
  },
  {
   "cell_type": "code",
   "execution_count": 73,
   "metadata": {
    "gather": {
     "logged": 1628314070703
    }
   },
   "outputs": [
    {
     "data": {
      "text/plain": [
       "V_SLT Voice Service            18847\n",
       "AB_Copper Access Bearer        17637\n",
       "BB_SLT BroadBand Service        5400\n",
       "BB_PeoTVGO                      4800\n",
       "BB_Personal Storage             4368\n",
       "E_SLT PeoTV Service             2385\n",
       "AB_WireLess Access              1076\n",
       "AB_Fiber Access Bearer           327\n",
       "V-Basic1_TeleLife                 99\n",
       "V-Plus1_TeleLife                  87\n",
       "BB_Detailed Reports               84\n",
       "V_E-channeling Registration       80\n",
       "V_Telehealth                      58\n",
       "V_Sisu Connect                    36\n",
       "V_E-channeling Subscription       30\n",
       "BB_SLT Film Hall Service           9\n",
       "OTT_SLT PeoTV Go                   4\n",
       "V-Plus4_TeleLife                   3\n",
       "V-Basic2_TeleLife                  2\n",
       "BB_ Entertainment Unlimited        2\n",
       "V-Basic4_TeleLife                  1\n",
       "Name: VAS, dtype: int64"
      ]
     },
     "execution_count": 73,
     "metadata": {},
     "output_type": "execute_result"
    }
   ],
   "source": [
    "dss_vas_df[\"VAS\"].value_counts()"
   ]
  },
  {
   "cell_type": "markdown",
   "metadata": {},
   "source": [
    "## VAS OTC Dataset Analysis"
   ]
  },
  {
   "cell_type": "code",
   "execution_count": 74,
   "metadata": {
    "gather": {
     "logged": 1628309983701
    }
   },
   "outputs": [],
   "source": [
    "vas_otc_df = pd.read_excel(\"data/new/VAS_Products_Purchased Dates_OTC.xls\")  \n",
    "vas_otc_df.rename(columns={'CREATED_DTM':'Month_Subscribed','OTC_MNY':'One_Time_Charge','OTC_NAME':'VAS'}, inplace=True)"
   ]
  },
  {
   "cell_type": "code",
   "execution_count": 75,
   "metadata": {
    "gather": {
     "logged": 1628309989599
    }
   },
   "outputs": [],
   "source": [
    "vas_otc_df[\"Month_Subscribed\"]=vas_otc_df[\"Month_Subscribed\"].apply(lambda x: date_correct_common(x))"
   ]
  },
  {
   "cell_type": "code",
   "execution_count": 76,
   "metadata": {
    "gather": {
     "logged": 1628309997602
    },
    "jupyter": {
     "outputs_hidden": false,
     "source_hidden": false
    },
    "nteract": {
     "transient": {
      "deleting": false
     }
    }
   },
   "outputs": [
    {
     "name": "stdout",
     "output_type": "stream",
     "text": [
      "<class 'pandas.core.frame.DataFrame'>\n",
      "RangeIndex: 1547 entries, 0 to 1546\n",
      "Data columns (total 5 columns):\n",
      " #   Column            Non-Null Count  Dtype \n",
      "---  ------            --------------  ----- \n",
      " 0   ACCOUNT_NUM.hash  1547 non-null   object\n",
      " 1   Month_Subscribed  1547 non-null   object\n",
      " 2   One_Time_Charge   1547 non-null   int64 \n",
      " 3   VAS               1547 non-null   object\n",
      " 4                     1547 non-null   object\n",
      "dtypes: int64(1), object(4)\n",
      "memory usage: 60.6+ KB\n"
     ]
    }
   ],
   "source": [
    "vas_otc_df.info()"
   ]
  },
  {
   "cell_type": "code",
   "execution_count": 77,
   "metadata": {
    "gather": {
     "logged": 1628276029168
    }
   },
   "outputs": [],
   "source": [
    "#vas_otc_df = vas_otc_df.merge(acc_no_map,how='left',on=\"ACCOUNT_NUM.hash\")"
   ]
  },
  {
   "cell_type": "code",
   "execution_count": 78,
   "metadata": {
    "gather": {
     "logged": 1628310047364
    }
   },
   "outputs": [
    {
     "data": {
      "text/html": [
       "<div>\n",
       "<style scoped>\n",
       "    .dataframe tbody tr th:only-of-type {\n",
       "        vertical-align: middle;\n",
       "    }\n",
       "\n",
       "    .dataframe tbody tr th {\n",
       "        vertical-align: top;\n",
       "    }\n",
       "\n",
       "    .dataframe thead th {\n",
       "        text-align: right;\n",
       "    }\n",
       "</style>\n",
       "<table border=\"1\" class=\"dataframe\">\n",
       "  <thead>\n",
       "    <tr style=\"text-align: right;\">\n",
       "      <th></th>\n",
       "      <th>ACCOUNT_NUM.hash</th>\n",
       "      <th>VAS</th>\n",
       "      <th>Month_Subscribed</th>\n",
       "      <th>One_Time_Charge</th>\n",
       "    </tr>\n",
       "  </thead>\n",
       "  <tbody>\n",
       "    <tr>\n",
       "      <th>0</th>\n",
       "      <td>7a4e5798abc9c9e314e4c6367da7e558</td>\n",
       "      <td>Meet Lite</td>\n",
       "      <td>2021-05</td>\n",
       "      <td>195</td>\n",
       "    </tr>\n",
       "    <tr>\n",
       "      <th>1</th>\n",
       "      <td>02059e815d999bda708149ae263946d3</td>\n",
       "      <td>Meet Lite</td>\n",
       "      <td>2021-06</td>\n",
       "      <td>195</td>\n",
       "    </tr>\n",
       "    <tr>\n",
       "      <th>2</th>\n",
       "      <td>83b2f83faba76ed481f026be3197caaa</td>\n",
       "      <td>Meet Lite</td>\n",
       "      <td>2021-06</td>\n",
       "      <td>195</td>\n",
       "    </tr>\n",
       "    <tr>\n",
       "      <th>3</th>\n",
       "      <td>a3434e3a611ba69b233514072ad2eb79</td>\n",
       "      <td>Meet Lite</td>\n",
       "      <td>2021-04</td>\n",
       "      <td>195</td>\n",
       "    </tr>\n",
       "    <tr>\n",
       "      <th>4</th>\n",
       "      <td>a3434e3a611ba69b233514072ad2eb79</td>\n",
       "      <td>Meet Lite</td>\n",
       "      <td>2021-05</td>\n",
       "      <td>195</td>\n",
       "    </tr>\n",
       "    <tr>\n",
       "      <th>...</th>\n",
       "      <td>...</td>\n",
       "      <td>...</td>\n",
       "      <td>...</td>\n",
       "      <td>...</td>\n",
       "    </tr>\n",
       "    <tr>\n",
       "      <th>1542</th>\n",
       "      <td>5ac9d5e02406067f6cc31d5436a5a8fb</td>\n",
       "      <td>Meet Lite</td>\n",
       "      <td>2021-04</td>\n",
       "      <td>195</td>\n",
       "    </tr>\n",
       "    <tr>\n",
       "      <th>1543</th>\n",
       "      <td>4f1ed566c9476815cfe56eab1c22ed05</td>\n",
       "      <td>Meet Lite</td>\n",
       "      <td>2021-06</td>\n",
       "      <td>195</td>\n",
       "    </tr>\n",
       "    <tr>\n",
       "      <th>1544</th>\n",
       "      <td>4cf83d8277f8c1cd95199a342092e808</td>\n",
       "      <td>Meet Max</td>\n",
       "      <td>2020-10</td>\n",
       "      <td>490</td>\n",
       "    </tr>\n",
       "    <tr>\n",
       "      <th>1545</th>\n",
       "      <td>4cf83d8277f8c1cd95199a342092e808</td>\n",
       "      <td>Meet Max</td>\n",
       "      <td>2020-12</td>\n",
       "      <td>490</td>\n",
       "    </tr>\n",
       "    <tr>\n",
       "      <th>1546</th>\n",
       "      <td>4cf83d8277f8c1cd95199a342092e808</td>\n",
       "      <td>Meet Max</td>\n",
       "      <td>2021-02</td>\n",
       "      <td>490</td>\n",
       "    </tr>\n",
       "  </tbody>\n",
       "</table>\n",
       "<p>1547 rows × 4 columns</p>\n",
       "</div>"
      ],
      "text/plain": [
       "                      ACCOUNT_NUM.hash        VAS Month_Subscribed  \\\n",
       "0     7a4e5798abc9c9e314e4c6367da7e558  Meet Lite          2021-05   \n",
       "1     02059e815d999bda708149ae263946d3  Meet Lite          2021-06   \n",
       "2     83b2f83faba76ed481f026be3197caaa  Meet Lite          2021-06   \n",
       "3     a3434e3a611ba69b233514072ad2eb79  Meet Lite          2021-04   \n",
       "4     a3434e3a611ba69b233514072ad2eb79  Meet Lite          2021-05   \n",
       "...                                ...        ...              ...   \n",
       "1542  5ac9d5e02406067f6cc31d5436a5a8fb  Meet Lite          2021-04   \n",
       "1543  4f1ed566c9476815cfe56eab1c22ed05  Meet Lite          2021-06   \n",
       "1544  4cf83d8277f8c1cd95199a342092e808   Meet Max          2020-10   \n",
       "1545  4cf83d8277f8c1cd95199a342092e808   Meet Max          2020-12   \n",
       "1546  4cf83d8277f8c1cd95199a342092e808   Meet Max          2021-02   \n",
       "\n",
       "      One_Time_Charge  \n",
       "0                 195  \n",
       "1                 195  \n",
       "2                 195  \n",
       "3                 195  \n",
       "4                 195  \n",
       "...               ...  \n",
       "1542              195  \n",
       "1543              195  \n",
       "1544              490  \n",
       "1545              490  \n",
       "1546              490  \n",
       "\n",
       "[1547 rows x 4 columns]"
      ]
     },
     "execution_count": 78,
     "metadata": {},
     "output_type": "execute_result"
    }
   ],
   "source": [
    "vas_otc_df = vas_otc_df[[\"ACCOUNT_NUM.hash\",\"VAS\",\"Month_Subscribed\",\"One_Time_Charge\"]]\n",
    "vas_otc_df"
   ]
  },
  {
   "cell_type": "code",
   "execution_count": 79,
   "metadata": {
    "gather": {
     "logged": 1628310070440
    }
   },
   "outputs": [
    {
     "data": {
      "text/plain": [
       "Meet Lite    1374\n",
       "Meet Max      164\n",
       "Edu Lite        9\n",
       "Name: VAS, dtype: int64"
      ]
     },
     "execution_count": 79,
     "metadata": {},
     "output_type": "execute_result"
    }
   ],
   "source": [
    "vas_otc_df[\"VAS\"].value_counts()"
   ]
  },
  {
   "cell_type": "markdown",
   "metadata": {},
   "source": [
    "## BB VAS Dataset Analysis"
   ]
  },
  {
   "cell_type": "code",
   "execution_count": 80,
   "metadata": {
    "gather": {
     "logged": 1628310087166
    }
   },
   "outputs": [],
   "source": [
    "vas_purchase_df = pd.read_excel(\"data/new/VAS_Products_Purchased Dates_Costed_Events.xls\")  \n",
    "vas_purchase_df.rename(columns={'MM/YYYY':'Month_Subscribed','REV':'Rental','PRODUCT':'VAS'}, inplace=True)"
   ]
  },
  {
   "cell_type": "code",
   "execution_count": 81,
   "metadata": {
    "gather": {
     "logged": 1628310098341
    }
   },
   "outputs": [
    {
     "name": "stdout",
     "output_type": "stream",
     "text": [
      "<class 'pandas.core.frame.DataFrame'>\n",
      "RangeIndex: 2977 entries, 0 to 2976\n",
      "Data columns (total 5 columns):\n",
      " #   Column            Non-Null Count  Dtype  \n",
      "---  ------            --------------  -----  \n",
      " 0   ACCOUNT_NUM.hash  2977 non-null   object \n",
      " 1   Month_Subscribed  2977 non-null   object \n",
      " 2   Rental            2977 non-null   float64\n",
      " 3   VAS               2977 non-null   object \n",
      " 4                     2977 non-null   object \n",
      "dtypes: float64(1), object(4)\n",
      "memory usage: 116.4+ KB\n"
     ]
    }
   ],
   "source": [
    "vas_purchase_df.info()"
   ]
  },
  {
   "cell_type": "code",
   "execution_count": 82,
   "metadata": {
    "gather": {
     "logged": 1628310109536
    }
   },
   "outputs": [],
   "source": [
    "# Date correction\n",
    "def date_correct_bb(date):\n",
    "    if len(date)==5:\n",
    "        month = \"0\" + date[0]\n",
    "        year = date[1:]\n",
    "    if len(date)==6:\n",
    "        month=date[:2]\n",
    "        year=date[2:]\n",
    "    if len(date)>6:\n",
    "        year=date[:4]\n",
    "        month=date[9:11]\n",
    "    return f\"{year}-{month}\""
   ]
  },
  {
   "cell_type": "code",
   "execution_count": 83,
   "metadata": {
    "gather": {
     "logged": 1628310114418
    }
   },
   "outputs": [
    {
     "name": "stdout",
     "output_type": "stream",
     "text": [
      "2020-03\n",
      "2017-10\n",
      "2021-02\n"
     ]
    }
   ],
   "source": [
    "# test\n",
    "print(date_correct_bb(\"32020\"))\n",
    "print(date_correct_bb(\"102017\"))\n",
    "print(date_correct_bb(\"2021-May-02 08:02:23\"))"
   ]
  },
  {
   "cell_type": "code",
   "execution_count": 84,
   "metadata": {
    "gather": {
     "logged": 1628310123965
    }
   },
   "outputs": [],
   "source": [
    "vas_purchase_df[\"Month_Subscribed\"]=vas_purchase_df[\"Month_Subscribed\"].apply(lambda x: date_correct_bb(x))"
   ]
  },
  {
   "cell_type": "code",
   "execution_count": 85,
   "metadata": {},
   "outputs": [],
   "source": [
    "#vas_purchase_df = vas_purchase_df.merge(acc_no_map,how='left',on=\"ACCOUNT_NUM.hash\")\n",
    "#vas_purchase_df.drop_duplicates([\"ACCOUNT_NUM.hash\",\"VAS\",\"Month_Subscribed\"], inplace=True,keep=\"last\")"
   ]
  },
  {
   "cell_type": "code",
   "execution_count": 86,
   "metadata": {
    "gather": {
     "logged": 1628310158580
    }
   },
   "outputs": [],
   "source": [
    "vas_purchase_df = vas_purchase_df[[\"ACCOUNT_NUM.hash\",\"VAS\",\"Month_Subscribed\",\"Rental\"]]"
   ]
  },
  {
   "cell_type": "code",
   "execution_count": 87,
   "metadata": {
    "gather": {
     "logged": 1628310168088
    }
   },
   "outputs": [
    {
     "data": {
      "text/plain": [
       "BB EXTRA GB                      2307\n",
       "BB_Report Subscription Charge     494\n",
       "BB Personal Storage               176\n",
       "Name: VAS, dtype: int64"
      ]
     },
     "execution_count": 87,
     "metadata": {},
     "output_type": "execute_result"
    }
   ],
   "source": [
    "vas_purchase_df[\"VAS\"].value_counts()"
   ]
  },
  {
   "cell_type": "markdown",
   "metadata": {},
   "source": [
    "### Extra GB Usage"
   ]
  },
  {
   "cell_type": "code",
   "execution_count": 88,
   "metadata": {
    "gather": {
     "logged": 1628310199959
    }
   },
   "outputs": [
    {
     "name": "stderr",
     "output_type": "stream",
     "text": [
      "C:\\ProgramData\\Anaconda3\\lib\\site-packages\\pandas\\core\\frame.py:4308: SettingWithCopyWarning: \n",
      "A value is trying to be set on a copy of a slice from a DataFrame\n",
      "\n",
      "See the caveats in the documentation: https://pandas.pydata.org/pandas-docs/stable/user_guide/indexing.html#returning-a-view-versus-a-copy\n",
      "  return super().drop(\n"
     ]
    },
    {
     "data": {
      "text/html": [
       "<div>\n",
       "<style scoped>\n",
       "    .dataframe tbody tr th:only-of-type {\n",
       "        vertical-align: middle;\n",
       "    }\n",
       "\n",
       "    .dataframe tbody tr th {\n",
       "        vertical-align: top;\n",
       "    }\n",
       "\n",
       "    .dataframe thead th {\n",
       "        text-align: right;\n",
       "    }\n",
       "</style>\n",
       "<table border=\"1\" class=\"dataframe\">\n",
       "  <thead>\n",
       "    <tr style=\"text-align: right;\">\n",
       "      <th></th>\n",
       "      <th>ACCOUNT_NUM.hash</th>\n",
       "      <th>VAS</th>\n",
       "      <th>Month_Subscribed</th>\n",
       "      <th>Rental</th>\n",
       "    </tr>\n",
       "  </thead>\n",
       "  <tbody>\n",
       "    <tr>\n",
       "      <th>0</th>\n",
       "      <td>668291ed17c638aaed94f99f7fdf33a5</td>\n",
       "      <td>BB EXTRA GB</td>\n",
       "      <td>2017-04</td>\n",
       "      <td>250.0</td>\n",
       "    </tr>\n",
       "    <tr>\n",
       "      <th>1</th>\n",
       "      <td>59322724d5029e5667d19ae164cdc16d</td>\n",
       "      <td>BB EXTRA GB</td>\n",
       "      <td>2018-01</td>\n",
       "      <td>750.0</td>\n",
       "    </tr>\n",
       "    <tr>\n",
       "      <th>2</th>\n",
       "      <td>0e1fe0d01f3a2e9619999a1a634ec427</td>\n",
       "      <td>BB EXTRA GB</td>\n",
       "      <td>2018-01</td>\n",
       "      <td>1500.0</td>\n",
       "    </tr>\n",
       "    <tr>\n",
       "      <th>3</th>\n",
       "      <td>0e3e3cabb8b653645ad4268f318a80b8</td>\n",
       "      <td>BB EXTRA GB</td>\n",
       "      <td>2017-08</td>\n",
       "      <td>750.0</td>\n",
       "    </tr>\n",
       "    <tr>\n",
       "      <th>4</th>\n",
       "      <td>130a75d8233d72dc5dce070522818bea</td>\n",
       "      <td>BB EXTRA GB</td>\n",
       "      <td>2020-06</td>\n",
       "      <td>850.0</td>\n",
       "    </tr>\n",
       "    <tr>\n",
       "      <th>...</th>\n",
       "      <td>...</td>\n",
       "      <td>...</td>\n",
       "      <td>...</td>\n",
       "      <td>...</td>\n",
       "    </tr>\n",
       "    <tr>\n",
       "      <th>2302</th>\n",
       "      <td>9b711e39affb4e5a7a364787253d4c09</td>\n",
       "      <td>BB EXTRA GB</td>\n",
       "      <td>2020-05</td>\n",
       "      <td>3000.0</td>\n",
       "    </tr>\n",
       "    <tr>\n",
       "      <th>2303</th>\n",
       "      <td>83b2f83faba76ed481f026be3197caaa</td>\n",
       "      <td>BB EXTRA GB</td>\n",
       "      <td>2020-03</td>\n",
       "      <td>850.0</td>\n",
       "    </tr>\n",
       "    <tr>\n",
       "      <th>2304</th>\n",
       "      <td>6c4e0622eabb0cd72da7dee9ac9e1996</td>\n",
       "      <td>BB EXTRA GB</td>\n",
       "      <td>2020-05</td>\n",
       "      <td>3585.0</td>\n",
       "    </tr>\n",
       "    <tr>\n",
       "      <th>2305</th>\n",
       "      <td>6f5a50d14f88a8bbed200d30e65ddf20</td>\n",
       "      <td>BB EXTRA GB</td>\n",
       "      <td>2020-03</td>\n",
       "      <td>3400.0</td>\n",
       "    </tr>\n",
       "    <tr>\n",
       "      <th>2306</th>\n",
       "      <td>2ea6c5e59c02744c036fe8ff6cccfb7c</td>\n",
       "      <td>BB EXTRA GB</td>\n",
       "      <td>2019-05</td>\n",
       "      <td>1050.0</td>\n",
       "    </tr>\n",
       "  </tbody>\n",
       "</table>\n",
       "<p>2307 rows × 4 columns</p>\n",
       "</div>"
      ],
      "text/plain": [
       "                      ACCOUNT_NUM.hash          VAS Month_Subscribed  Rental\n",
       "0     668291ed17c638aaed94f99f7fdf33a5  BB EXTRA GB          2017-04   250.0\n",
       "1     59322724d5029e5667d19ae164cdc16d  BB EXTRA GB          2018-01   750.0\n",
       "2     0e1fe0d01f3a2e9619999a1a634ec427  BB EXTRA GB          2018-01  1500.0\n",
       "3     0e3e3cabb8b653645ad4268f318a80b8  BB EXTRA GB          2017-08   750.0\n",
       "4     130a75d8233d72dc5dce070522818bea  BB EXTRA GB          2020-06   850.0\n",
       "...                                ...          ...              ...     ...\n",
       "2302  9b711e39affb4e5a7a364787253d4c09  BB EXTRA GB          2020-05  3000.0\n",
       "2303  83b2f83faba76ed481f026be3197caaa  BB EXTRA GB          2020-03   850.0\n",
       "2304  6c4e0622eabb0cd72da7dee9ac9e1996  BB EXTRA GB          2020-05  3585.0\n",
       "2305  6f5a50d14f88a8bbed200d30e65ddf20  BB EXTRA GB          2020-03  3400.0\n",
       "2306  2ea6c5e59c02744c036fe8ff6cccfb7c  BB EXTRA GB          2019-05  1050.0\n",
       "\n",
       "[2307 rows x 4 columns]"
      ]
     },
     "execution_count": 88,
     "metadata": {},
     "output_type": "execute_result"
    }
   ],
   "source": [
    "extra_GB_df= vas_purchase_df[(vas_purchase_df[\"VAS\"]==\"BB EXTRA GB\")]\n",
    "extra_GB_df.reset_index(inplace=True)\n",
    "extra_GB_df.drop([\"index\"],axis=1,inplace=True)\n",
    "extra_GB_df"
   ]
  },
  {
   "cell_type": "code",
   "execution_count": 89,
   "metadata": {
    "gather": {
     "logged": 1628314114207
    }
   },
   "outputs": [],
   "source": [
    "extra_GB_dss_df= extra_GB_dss_df[[\"ACCOUNT_NUM.hash\",\"VAS\",\"Month_Subscribed\",\"Rental\"]]"
   ]
  },
  {
   "cell_type": "code",
   "execution_count": 90,
   "metadata": {
    "gather": {
     "logged": 1628314119980
    }
   },
   "outputs": [],
   "source": [
    "# Date correction\n",
    "def date_correct_dss(date):\n",
    "    if len(date)>7:\n",
    "        return date[:7]\n",
    "    else:\n",
    "        return date"
   ]
  },
  {
   "cell_type": "code",
   "execution_count": 91,
   "metadata": {
    "gather": {
     "logged": 1628314125859
    }
   },
   "outputs": [],
   "source": [
    "extra_GB_dss_df[\"Month_Subscribed\"]=extra_GB_dss_df[\"Month_Subscribed\"].apply(lambda x: date_correct_dss(str(x)))"
   ]
  },
  {
   "cell_type": "code",
   "execution_count": 92,
   "metadata": {
    "gather": {
     "logged": 1628314132824
    }
   },
   "outputs": [
    {
     "name": "stdout",
     "output_type": "stream",
     "text": [
      "<class 'pandas.core.frame.DataFrame'>\n",
      "Int64Index: 5372 entries, 57403 to 49321\n",
      "Data columns (total 4 columns):\n",
      " #   Column            Non-Null Count  Dtype  \n",
      "---  ------            --------------  -----  \n",
      " 0   ACCOUNT_NUM.hash  5372 non-null   object \n",
      " 1   VAS               5372 non-null   object \n",
      " 2   Month_Subscribed  5372 non-null   object \n",
      " 3   Rental            0 non-null      float64\n",
      "dtypes: float64(1), object(3)\n",
      "memory usage: 209.8+ KB\n"
     ]
    }
   ],
   "source": [
    "extra_GB_dss_df.info()"
   ]
  },
  {
   "cell_type": "code",
   "execution_count": 93,
   "metadata": {
    "gather": {
     "logged": 1628314141717
    },
    "jupyter": {
     "outputs_hidden": false,
     "source_hidden": false
    },
    "nteract": {
     "transient": {
      "deleting": false
     }
    }
   },
   "outputs": [
    {
     "name": "stdout",
     "output_type": "stream",
     "text": [
      "<class 'pandas.core.frame.DataFrame'>\n",
      "RangeIndex: 2307 entries, 0 to 2306\n",
      "Data columns (total 4 columns):\n",
      " #   Column            Non-Null Count  Dtype  \n",
      "---  ------            --------------  -----  \n",
      " 0   ACCOUNT_NUM.hash  2307 non-null   object \n",
      " 1   VAS               2307 non-null   object \n",
      " 2   Month_Subscribed  2307 non-null   object \n",
      " 3   Rental            2307 non-null   float64\n",
      "dtypes: float64(1), object(3)\n",
      "memory usage: 72.2+ KB\n"
     ]
    }
   ],
   "source": [
    "extra_GB_df.info()"
   ]
  },
  {
   "cell_type": "code",
   "execution_count": 94,
   "metadata": {
    "gather": {
     "logged": 1628314152344
    }
   },
   "outputs": [],
   "source": [
    "extra_GB_df = pd.concat([extra_GB_dss_df, extra_GB_df], ignore_index=True)"
   ]
  },
  {
   "cell_type": "code",
   "execution_count": 95,
   "metadata": {
    "gather": {
     "logged": 1628314158342
    }
   },
   "outputs": [
    {
     "data": {
      "text/plain": [
       "array(['2019-10', '2020-03', '2018-08', '2017-01', '2018-12', '2019-04',\n",
       "       '2018-09', '2018-10', '2019-05', '2019-06', '2019-12', '2020-02',\n",
       "       '2014-01', '2014-03', '2016-08', '2017-03', '2018-01', '2019-03',\n",
       "       '2019-08', '2019-09', '2019-11', '2020-04', '2020-05', '2020-07',\n",
       "       '2020-08', '2021-03', '2019-01', '2020-06', '2018-05', '2018-07',\n",
       "       '2019-07', '2020-01', '2015-09', '2017-06', '2016-09', '2017-12',\n",
       "       '2018-04', '2018-06', '2018-11', '2019-02', '2020-09', '2018-03',\n",
       "       '2017-11', '2015-08', '2017-02', '2016-04', '2016-06', '2017-07',\n",
       "       '2017-08', '2014-02', '2016-11', '2017-04', '2018-02', '2015-10',\n",
       "       '2016-10', '2017-09', '2017-10', '2017-05', '2015-05', '2016-01',\n",
       "       '2016-05', '2016-07', '2016-03', '2016-12', '2013-05', '2013-06',\n",
       "       '2013-01', '2013-03', '2013-07', '2013-02', '2015-12', '2013-04',\n",
       "       '2016-02', '2015-11'], dtype=object)"
      ]
     },
     "execution_count": 95,
     "metadata": {},
     "output_type": "execute_result"
    }
   ],
   "source": [
    "extra_GB_df[\"Month_Subscribed\"].unique()"
   ]
  },
  {
   "cell_type": "code",
   "execution_count": 96,
   "metadata": {
    "gather": {
     "logged": 1628314169384
    },
    "jupyter": {
     "outputs_hidden": false,
     "source_hidden": false
    },
    "nteract": {
     "transient": {
      "deleting": false
     }
    }
   },
   "outputs": [
    {
     "name": "stdout",
     "output_type": "stream",
     "text": [
      "<class 'pandas.core.frame.DataFrame'>\n",
      "RangeIndex: 7679 entries, 0 to 7678\n",
      "Data columns (total 4 columns):\n",
      " #   Column            Non-Null Count  Dtype  \n",
      "---  ------            --------------  -----  \n",
      " 0   ACCOUNT_NUM.hash  7679 non-null   object \n",
      " 1   VAS               7679 non-null   object \n",
      " 2   Month_Subscribed  7679 non-null   object \n",
      " 3   Rental            2307 non-null   float64\n",
      "dtypes: float64(1), object(3)\n",
      "memory usage: 240.1+ KB\n"
     ]
    }
   ],
   "source": [
    "extra_GB_df.info()"
   ]
  },
  {
   "cell_type": "code",
   "execution_count": 97,
   "metadata": {
    "gather": {
     "logged": 1628314175471
    }
   },
   "outputs": [
    {
     "data": {
      "text/plain": [
       "1527"
      ]
     },
     "execution_count": 97,
     "metadata": {},
     "output_type": "execute_result"
    }
   ],
   "source": [
    "len(extra_GB_df[\"ACCOUNT_NUM.hash\"].unique())"
   ]
  },
  {
   "cell_type": "markdown",
   "metadata": {},
   "source": [
    "### Extra GB Usage Trend Analysis"
   ]
  },
  {
   "cell_type": "code",
   "execution_count": 98,
   "metadata": {
    "gather": {
     "logged": 1628314186094
    }
   },
   "outputs": [
    {
     "name": "stderr",
     "output_type": "stream",
     "text": [
      "<ipython-input-98-129021b27b33>:2: SettingWithCopyWarning: \n",
      "A value is trying to be set on a copy of a slice from a DataFrame.\n",
      "Try using .loc[row_indexer,col_indexer] = value instead\n",
      "\n",
      "See the caveats in the documentation: https://pandas.pydata.org/pandas-docs/stable/user_guide/indexing.html#returning-a-view-versus-a-copy\n",
      "  bb_usage_for_plot[\"Month_Subscribed\"] = bb_usage_for_plot[\"Month_Subscribed\"].astype(\"category\")\n"
     ]
    }
   ],
   "source": [
    "bb_usage_for_plot = extra_GB_df[[\"ACCOUNT_NUM.hash\",\"Month_Subscribed\",\"Rental\"]]\n",
    "bb_usage_for_plot[\"Month_Subscribed\"] = bb_usage_for_plot[\"Month_Subscribed\"].astype(\"category\")"
   ]
  },
  {
   "cell_type": "code",
   "execution_count": 99,
   "metadata": {
    "gather": {
     "logged": 1628314193405
    }
   },
   "outputs": [],
   "source": [
    "bb_summed_df = bb_usage_for_plot.groupby(\"Month_Subscribed\").sum()"
   ]
  },
  {
   "cell_type": "code",
   "execution_count": 100,
   "metadata": {
    "gather": {
     "logged": 1628314212913
    }
   },
   "outputs": [],
   "source": [
    "df_2016 = bb_summed_df.iloc[16:28,:]"
   ]
  },
  {
   "cell_type": "code",
   "execution_count": 101,
   "metadata": {
    "gather": {
     "logged": 1628314220051
    }
   },
   "outputs": [],
   "source": [
    "df_2017 = bb_summed_df.iloc[28:40,:]"
   ]
  },
  {
   "cell_type": "code",
   "execution_count": 102,
   "metadata": {
    "gather": {
     "logged": 1628314226520
    }
   },
   "outputs": [],
   "source": [
    "df_2018 = bb_summed_df.iloc[40:52,:]"
   ]
  },
  {
   "cell_type": "code",
   "execution_count": 103,
   "metadata": {
    "gather": {
     "logged": 1628314232340
    }
   },
   "outputs": [],
   "source": [
    "df_2019 = bb_summed_df.iloc[52:64,:]"
   ]
  },
  {
   "cell_type": "code",
   "execution_count": 104,
   "metadata": {
    "gather": {
     "logged": 1628314238371
    }
   },
   "outputs": [],
   "source": [
    "df_2020 = bb_summed_df.iloc[64:73,:]"
   ]
  },
  {
   "cell_type": "code",
   "execution_count": 105,
   "metadata": {
    "gather": {
     "logged": 1628314248548
    }
   },
   "outputs": [
    {
     "data": {
      "text/plain": [
       "Text(0.5, 0.98, 'Extra Gb Usage(Rs.) with Time')"
      ]
     },
     "execution_count": 105,
     "metadata": {},
     "output_type": "execute_result"
    },
    {
     "data": {
      "image/png": "[encoded data removed]",
      "text/plain": [
       "<Figure size 2160x576 with 1 Axes>"
      ]
     },
     "metadata": {},
     "output_type": "display_data"
    }
   ],
   "source": [
    "plt.figure(figsize=(30,8))\n",
    "bb_summed_df[\"Rental\"].plot()\n",
    "plt.suptitle(\"Extra Gb Usage(Rs.) with Time\")"
   ]
  },
  {
   "cell_type": "code",
   "execution_count": 106,
   "metadata": {
    "gather": {
     "logged": 1628314266518
    }
   },
   "outputs": [
    {
     "data": {
      "text/plain": [
       "Text(0.5, 1.0, 'Extra Gb Usage(Rs.) with Time')"
      ]
     },
     "execution_count": 106,
     "metadata": {},
     "output_type": "execute_result"
    },
    {
     "data": {
      "image/png": "[encoded data removed]",
      "text/plain": [
       "<Figure size 1440x576 with 1 Axes>"
      ]
     },
     "metadata": {},
     "output_type": "display_data"
    },
    {
     "data": {
      "text/plain": [
       "<Figure size 432x288 with 0 Axes>"
      ]
     },
     "metadata": {},
     "output_type": "display_data"
    }
   ],
   "source": [
    "fig, ax = plt.subplots()\n",
    "plt.figure()\n",
    "df_2016[\"Rental\"].plot(ax=ax,figsize=(20,8))\n",
    "df_2017[\"Rental\"].plot(ax=ax,figsize=(20,8))\n",
    "df_2018[\"Rental\"].plot(ax=ax,figsize=(20,8))\n",
    "df_2019[\"Rental\"].plot(ax=ax,figsize=(20,8))\n",
    "df_2020[\"Rental\"].plot(ax=ax,figsize=(20,8))\n",
    "ax.legend([\"2016\",\"2017\",\"2018\",\"2019\",\"2020\"], loc='upper center')\n",
    "month_ticks=[\"Jan\",\"Feb\",\"Mar\",\"Apr\",\"May\",\"Jun\",\"Jul\",\"Aug\",\"Sep\",\"Oct\",\"Nov\",\"Dec\"]\n",
    "ax.set_xticks(np.arange(len(month_ticks)))\n",
    "ax.set_xticklabels(month_ticks)\n",
    "ax.set_title(\"Extra Gb Usage(Rs.) with Time\")"
   ]
  },
  {
   "cell_type": "code",
   "execution_count": 107,
   "metadata": {
    "gather": {
     "logged": 1628314274472
    }
   },
   "outputs": [],
   "source": [
    "extra_GB_df.to_csv(\"data/user_profile/BB_extra_GB_usage.csv\")"
   ]
  },
  {
   "cell_type": "markdown",
   "metadata": {},
   "source": [
    "#### Extra GB Usage pivot matrix"
   ]
  },
  {
   "cell_type": "code",
   "execution_count": 108,
   "metadata": {
    "gather": {
     "logged": 1628314281935
    }
   },
   "outputs": [],
   "source": [
    "extra_GB_pivot_df = pd.pivot_table(extra_GB_df[[\"ACCOUNT_NUM.hash\",\"Month_Subscribed\",\"Rental\"]],index=['ACCOUNT_NUM.hash'],columns=['Month_Subscribed'], aggfunc=np.sum, fill_value=0)"
   ]
  },
  {
   "cell_type": "code",
   "execution_count": 109,
   "metadata": {
    "gather": {
     "logged": 1628314289602
    }
   },
   "outputs": [
    {
     "data": {
      "text/html": [
       "<div>\n",
       "<style scoped>\n",
       "    .dataframe tbody tr th:only-of-type {\n",
       "        vertical-align: middle;\n",
       "    }\n",
       "\n",
       "    .dataframe tbody tr th {\n",
       "        vertical-align: top;\n",
       "    }\n",
       "\n",
       "    .dataframe thead tr th {\n",
       "        text-align: left;\n",
       "    }\n",
       "\n",
       "    .dataframe thead tr:last-of-type th {\n",
       "        text-align: right;\n",
       "    }\n",
       "</style>\n",
       "<table border=\"1\" class=\"dataframe\">\n",
       "  <thead>\n",
       "    <tr>\n",
       "      <th></th>\n",
       "      <th colspan=\"21\" halign=\"left\">Rental</th>\n",
       "    </tr>\n",
       "    <tr>\n",
       "      <th>Month_Subscribed</th>\n",
       "      <th>2013-01</th>\n",
       "      <th>2013-02</th>\n",
       "      <th>2013-03</th>\n",
       "      <th>2013-04</th>\n",
       "      <th>2013-05</th>\n",
       "      <th>2013-06</th>\n",
       "      <th>2013-07</th>\n",
       "      <th>2014-01</th>\n",
       "      <th>2014-02</th>\n",
       "      <th>2014-03</th>\n",
       "      <th>...</th>\n",
       "      <th>2020-01</th>\n",
       "      <th>2020-02</th>\n",
       "      <th>2020-03</th>\n",
       "      <th>2020-04</th>\n",
       "      <th>2020-05</th>\n",
       "      <th>2020-06</th>\n",
       "      <th>2020-07</th>\n",
       "      <th>2020-08</th>\n",
       "      <th>2020-09</th>\n",
       "      <th>2021-03</th>\n",
       "    </tr>\n",
       "    <tr>\n",
       "      <th>ACCOUNT_NUM.hash</th>\n",
       "      <th></th>\n",
       "      <th></th>\n",
       "      <th></th>\n",
       "      <th></th>\n",
       "      <th></th>\n",
       "      <th></th>\n",
       "      <th></th>\n",
       "      <th></th>\n",
       "      <th></th>\n",
       "      <th></th>\n",
       "      <th></th>\n",
       "      <th></th>\n",
       "      <th></th>\n",
       "      <th></th>\n",
       "      <th></th>\n",
       "      <th></th>\n",
       "      <th></th>\n",
       "      <th></th>\n",
       "      <th></th>\n",
       "      <th></th>\n",
       "      <th></th>\n",
       "    </tr>\n",
       "  </thead>\n",
       "  <tbody>\n",
       "    <tr>\n",
       "      <th>0009e7e4d940c2a539b89342af07e7f1</th>\n",
       "      <td>0</td>\n",
       "      <td>0</td>\n",
       "      <td>0</td>\n",
       "      <td>0</td>\n",
       "      <td>0</td>\n",
       "      <td>0</td>\n",
       "      <td>0</td>\n",
       "      <td>0</td>\n",
       "      <td>0</td>\n",
       "      <td>0</td>\n",
       "      <td>...</td>\n",
       "      <td>0</td>\n",
       "      <td>0</td>\n",
       "      <td>1200</td>\n",
       "      <td>0</td>\n",
       "      <td>0</td>\n",
       "      <td>0</td>\n",
       "      <td>0</td>\n",
       "      <td>0</td>\n",
       "      <td>0</td>\n",
       "      <td>0</td>\n",
       "    </tr>\n",
       "    <tr>\n",
       "      <th>00126426420cdb4b1fe951ce5bb3c05a</th>\n",
       "      <td>500</td>\n",
       "      <td>0</td>\n",
       "      <td>250</td>\n",
       "      <td>0</td>\n",
       "      <td>0</td>\n",
       "      <td>0</td>\n",
       "      <td>0</td>\n",
       "      <td>0</td>\n",
       "      <td>0</td>\n",
       "      <td>0</td>\n",
       "      <td>...</td>\n",
       "      <td>0</td>\n",
       "      <td>0</td>\n",
       "      <td>0</td>\n",
       "      <td>0</td>\n",
       "      <td>0</td>\n",
       "      <td>0</td>\n",
       "      <td>0</td>\n",
       "      <td>0</td>\n",
       "      <td>0</td>\n",
       "      <td>0</td>\n",
       "    </tr>\n",
       "    <tr>\n",
       "      <th>008bca99f0cccb5d07d4f03744709cf8</th>\n",
       "      <td>0</td>\n",
       "      <td>0</td>\n",
       "      <td>0</td>\n",
       "      <td>0</td>\n",
       "      <td>0</td>\n",
       "      <td>0</td>\n",
       "      <td>0</td>\n",
       "      <td>0</td>\n",
       "      <td>0</td>\n",
       "      <td>0</td>\n",
       "      <td>...</td>\n",
       "      <td>0</td>\n",
       "      <td>0</td>\n",
       "      <td>0</td>\n",
       "      <td>0</td>\n",
       "      <td>0</td>\n",
       "      <td>0</td>\n",
       "      <td>0</td>\n",
       "      <td>0</td>\n",
       "      <td>0</td>\n",
       "      <td>0</td>\n",
       "    </tr>\n",
       "    <tr>\n",
       "      <th>009ef2d25878cecee8d2c8115d26f4ab</th>\n",
       "      <td>0</td>\n",
       "      <td>0</td>\n",
       "      <td>0</td>\n",
       "      <td>0</td>\n",
       "      <td>0</td>\n",
       "      <td>0</td>\n",
       "      <td>0</td>\n",
       "      <td>0</td>\n",
       "      <td>0</td>\n",
       "      <td>0</td>\n",
       "      <td>...</td>\n",
       "      <td>0</td>\n",
       "      <td>0</td>\n",
       "      <td>0</td>\n",
       "      <td>0</td>\n",
       "      <td>0</td>\n",
       "      <td>0</td>\n",
       "      <td>0</td>\n",
       "      <td>0</td>\n",
       "      <td>0</td>\n",
       "      <td>0</td>\n",
       "    </tr>\n",
       "    <tr>\n",
       "      <th>0105eba65de307bc8ca366dac37aff7b</th>\n",
       "      <td>0</td>\n",
       "      <td>0</td>\n",
       "      <td>0</td>\n",
       "      <td>0</td>\n",
       "      <td>0</td>\n",
       "      <td>0</td>\n",
       "      <td>0</td>\n",
       "      <td>0</td>\n",
       "      <td>0</td>\n",
       "      <td>0</td>\n",
       "      <td>...</td>\n",
       "      <td>0</td>\n",
       "      <td>0</td>\n",
       "      <td>0</td>\n",
       "      <td>0</td>\n",
       "      <td>0</td>\n",
       "      <td>0</td>\n",
       "      <td>0</td>\n",
       "      <td>0</td>\n",
       "      <td>0</td>\n",
       "      <td>0</td>\n",
       "    </tr>\n",
       "    <tr>\n",
       "      <th>...</th>\n",
       "      <td>...</td>\n",
       "      <td>...</td>\n",
       "      <td>...</td>\n",
       "      <td>...</td>\n",
       "      <td>...</td>\n",
       "      <td>...</td>\n",
       "      <td>...</td>\n",
       "      <td>...</td>\n",
       "      <td>...</td>\n",
       "      <td>...</td>\n",
       "      <td>...</td>\n",
       "      <td>...</td>\n",
       "      <td>...</td>\n",
       "      <td>...</td>\n",
       "      <td>...</td>\n",
       "      <td>...</td>\n",
       "      <td>...</td>\n",
       "      <td>...</td>\n",
       "      <td>...</td>\n",
       "      <td>...</td>\n",
       "      <td>...</td>\n",
       "    </tr>\n",
       "    <tr>\n",
       "      <th>ff419294738cd6d4259861c10653cf17</th>\n",
       "      <td>0</td>\n",
       "      <td>0</td>\n",
       "      <td>0</td>\n",
       "      <td>0</td>\n",
       "      <td>0</td>\n",
       "      <td>0</td>\n",
       "      <td>0</td>\n",
       "      <td>0</td>\n",
       "      <td>0</td>\n",
       "      <td>0</td>\n",
       "      <td>...</td>\n",
       "      <td>0</td>\n",
       "      <td>0</td>\n",
       "      <td>0</td>\n",
       "      <td>0</td>\n",
       "      <td>0</td>\n",
       "      <td>0</td>\n",
       "      <td>0</td>\n",
       "      <td>0</td>\n",
       "      <td>0</td>\n",
       "      <td>0</td>\n",
       "    </tr>\n",
       "    <tr>\n",
       "      <th>ff464b58ad70d2a6064acb0c2c727337</th>\n",
       "      <td>0</td>\n",
       "      <td>0</td>\n",
       "      <td>0</td>\n",
       "      <td>0</td>\n",
       "      <td>0</td>\n",
       "      <td>0</td>\n",
       "      <td>0</td>\n",
       "      <td>0</td>\n",
       "      <td>0</td>\n",
       "      <td>0</td>\n",
       "      <td>...</td>\n",
       "      <td>0</td>\n",
       "      <td>0</td>\n",
       "      <td>0</td>\n",
       "      <td>0</td>\n",
       "      <td>0</td>\n",
       "      <td>0</td>\n",
       "      <td>0</td>\n",
       "      <td>0</td>\n",
       "      <td>0</td>\n",
       "      <td>0</td>\n",
       "    </tr>\n",
       "    <tr>\n",
       "      <th>ff6a9ebde4f19c42c852aa679c877b41</th>\n",
       "      <td>0</td>\n",
       "      <td>0</td>\n",
       "      <td>0</td>\n",
       "      <td>0</td>\n",
       "      <td>0</td>\n",
       "      <td>0</td>\n",
       "      <td>0</td>\n",
       "      <td>0</td>\n",
       "      <td>0</td>\n",
       "      <td>0</td>\n",
       "      <td>...</td>\n",
       "      <td>0</td>\n",
       "      <td>0</td>\n",
       "      <td>0</td>\n",
       "      <td>1050</td>\n",
       "      <td>1050</td>\n",
       "      <td>425</td>\n",
       "      <td>0</td>\n",
       "      <td>0</td>\n",
       "      <td>0</td>\n",
       "      <td>0</td>\n",
       "    </tr>\n",
       "    <tr>\n",
       "      <th>ffaa8955dcd8a0af7d148c10fd447fcc</th>\n",
       "      <td>0</td>\n",
       "      <td>0</td>\n",
       "      <td>0</td>\n",
       "      <td>0</td>\n",
       "      <td>0</td>\n",
       "      <td>0</td>\n",
       "      <td>0</td>\n",
       "      <td>0</td>\n",
       "      <td>0</td>\n",
       "      <td>0</td>\n",
       "      <td>...</td>\n",
       "      <td>0</td>\n",
       "      <td>0</td>\n",
       "      <td>0</td>\n",
       "      <td>0</td>\n",
       "      <td>0</td>\n",
       "      <td>0</td>\n",
       "      <td>0</td>\n",
       "      <td>0</td>\n",
       "      <td>0</td>\n",
       "      <td>0</td>\n",
       "    </tr>\n",
       "    <tr>\n",
       "      <th>ffc751bb5812fb7f262917605876f78a</th>\n",
       "      <td>0</td>\n",
       "      <td>0</td>\n",
       "      <td>0</td>\n",
       "      <td>0</td>\n",
       "      <td>0</td>\n",
       "      <td>0</td>\n",
       "      <td>0</td>\n",
       "      <td>0</td>\n",
       "      <td>0</td>\n",
       "      <td>0</td>\n",
       "      <td>...</td>\n",
       "      <td>0</td>\n",
       "      <td>0</td>\n",
       "      <td>0</td>\n",
       "      <td>0</td>\n",
       "      <td>0</td>\n",
       "      <td>0</td>\n",
       "      <td>0</td>\n",
       "      <td>0</td>\n",
       "      <td>0</td>\n",
       "      <td>0</td>\n",
       "    </tr>\n",
       "  </tbody>\n",
       "</table>\n",
       "<p>1527 rows × 74 columns</p>\n",
       "</div>"
      ],
      "text/plain": [
       "                                  Rental                                  \\\n",
       "Month_Subscribed                 2013-01 2013-02 2013-03 2013-04 2013-05   \n",
       "ACCOUNT_NUM.hash                                                           \n",
       "0009e7e4d940c2a539b89342af07e7f1       0       0       0       0       0   \n",
       "00126426420cdb4b1fe951ce5bb3c05a     500       0     250       0       0   \n",
       "008bca99f0cccb5d07d4f03744709cf8       0       0       0       0       0   \n",
       "009ef2d25878cecee8d2c8115d26f4ab       0       0       0       0       0   \n",
       "0105eba65de307bc8ca366dac37aff7b       0       0       0       0       0   \n",
       "...                                  ...     ...     ...     ...     ...   \n",
       "ff419294738cd6d4259861c10653cf17       0       0       0       0       0   \n",
       "ff464b58ad70d2a6064acb0c2c727337       0       0       0       0       0   \n",
       "ff6a9ebde4f19c42c852aa679c877b41       0       0       0       0       0   \n",
       "ffaa8955dcd8a0af7d148c10fd447fcc       0       0       0       0       0   \n",
       "ffc751bb5812fb7f262917605876f78a       0       0       0       0       0   \n",
       "\n",
       "                                                                          ...  \\\n",
       "Month_Subscribed                 2013-06 2013-07 2014-01 2014-02 2014-03  ...   \n",
       "ACCOUNT_NUM.hash                                                          ...   \n",
       "0009e7e4d940c2a539b89342af07e7f1       0       0       0       0       0  ...   \n",
       "00126426420cdb4b1fe951ce5bb3c05a       0       0       0       0       0  ...   \n",
       "008bca99f0cccb5d07d4f03744709cf8       0       0       0       0       0  ...   \n",
       "009ef2d25878cecee8d2c8115d26f4ab       0       0       0       0       0  ...   \n",
       "0105eba65de307bc8ca366dac37aff7b       0       0       0       0       0  ...   \n",
       "...                                  ...     ...     ...     ...     ...  ...   \n",
       "ff419294738cd6d4259861c10653cf17       0       0       0       0       0  ...   \n",
       "ff464b58ad70d2a6064acb0c2c727337       0       0       0       0       0  ...   \n",
       "ff6a9ebde4f19c42c852aa679c877b41       0       0       0       0       0  ...   \n",
       "ffaa8955dcd8a0af7d148c10fd447fcc       0       0       0       0       0  ...   \n",
       "ffc751bb5812fb7f262917605876f78a       0       0       0       0       0  ...   \n",
       "\n",
       "                                                                          \\\n",
       "Month_Subscribed                 2020-01 2020-02 2020-03 2020-04 2020-05   \n",
       "ACCOUNT_NUM.hash                                                           \n",
       "0009e7e4d940c2a539b89342af07e7f1       0       0    1200       0       0   \n",
       "00126426420cdb4b1fe951ce5bb3c05a       0       0       0       0       0   \n",
       "008bca99f0cccb5d07d4f03744709cf8       0       0       0       0       0   \n",
       "009ef2d25878cecee8d2c8115d26f4ab       0       0       0       0       0   \n",
       "0105eba65de307bc8ca366dac37aff7b       0       0       0       0       0   \n",
       "...                                  ...     ...     ...     ...     ...   \n",
       "ff419294738cd6d4259861c10653cf17       0       0       0       0       0   \n",
       "ff464b58ad70d2a6064acb0c2c727337       0       0       0       0       0   \n",
       "ff6a9ebde4f19c42c852aa679c877b41       0       0       0    1050    1050   \n",
       "ffaa8955dcd8a0af7d148c10fd447fcc       0       0       0       0       0   \n",
       "ffc751bb5812fb7f262917605876f78a       0       0       0       0       0   \n",
       "\n",
       "                                                                          \n",
       "Month_Subscribed                 2020-06 2020-07 2020-08 2020-09 2021-03  \n",
       "ACCOUNT_NUM.hash                                                          \n",
       "0009e7e4d940c2a539b89342af07e7f1       0       0       0       0       0  \n",
       "00126426420cdb4b1fe951ce5bb3c05a       0       0       0       0       0  \n",
       "008bca99f0cccb5d07d4f03744709cf8       0       0       0       0       0  \n",
       "009ef2d25878cecee8d2c8115d26f4ab       0       0       0       0       0  \n",
       "0105eba65de307bc8ca366dac37aff7b       0       0       0       0       0  \n",
       "...                                  ...     ...     ...     ...     ...  \n",
       "ff419294738cd6d4259861c10653cf17       0       0       0       0       0  \n",
       "ff464b58ad70d2a6064acb0c2c727337       0       0       0       0       0  \n",
       "ff6a9ebde4f19c42c852aa679c877b41     425       0       0       0       0  \n",
       "ffaa8955dcd8a0af7d148c10fd447fcc       0       0       0       0       0  \n",
       "ffc751bb5812fb7f262917605876f78a       0       0       0       0       0  \n",
       "\n",
       "[1527 rows x 74 columns]"
      ]
     },
     "execution_count": 109,
     "metadata": {},
     "output_type": "execute_result"
    }
   ],
   "source": [
    "extra_GB_pivot_df"
   ]
  },
  {
   "cell_type": "code",
   "execution_count": 219,
   "metadata": {
    "gather": {
     "logged": 1628314371375
    }
   },
   "outputs": [],
   "source": [
    "extra_GB_pivot_df.to_csv(\"data/user_profile/extra_usage/BB_extra_GB_usage_pivot_extended.csv\")"
   ]
  },
  {
   "cell_type": "markdown",
   "metadata": {},
   "source": [
    "#### Insights\n",
    "- 1527 unique customers - extra GB purchases in moths vary from 2013-2021"
   ]
  },
  {
   "cell_type": "markdown",
   "metadata": {},
   "source": [
    "## Extra GB Usage with Details"
   ]
  },
  {
   "cell_type": "code",
   "execution_count": 404,
   "metadata": {},
   "outputs": [],
   "source": [
    "# Note: Data From Past 6 months only\n",
    "extra_GB_detailed_df = pd.read_excel(\"data/aug/Extra_GB_Detailed Report.xls\")"
   ]
  },
  {
   "cell_type": "code",
   "execution_count": 405,
   "metadata": {},
   "outputs": [
    {
     "data": {
      "text/plain": [
       "array(['2021-Jun-19 01:48:05', '2021-Jun-19 19:07:15',\n",
       "       '2021-Jun-20 19:35:28', ..., '2021-Feb-18 04:12:00',\n",
       "       '2021-Mar-05 13:21:01', '2021-Mar-05 17:26:28'], dtype=object)"
      ]
     },
     "execution_count": 405,
     "metadata": {},
     "output_type": "execute_result"
    }
   ],
   "source": [
    "extra_GB_detailed_df[\"CREATED_DTM\"].unique()"
   ]
  },
  {
   "cell_type": "code",
   "execution_count": 406,
   "metadata": {},
   "outputs": [],
   "source": [
    "def remove_gb(col):\n",
    "    if not isinstance(col, float):\n",
    "        if \"GB\" in col:\n",
    "            return col.replace(\"GB\",\"\").replace(\" \",\"\")\n",
    "        else:\n",
    "            return col\n",
    "    else:\n",
    "        return col"
   ]
  },
  {
   "cell_type": "code",
   "execution_count": 407,
   "metadata": {},
   "outputs": [],
   "source": [
    "# Date correction\n",
    "def hour_correct_ex_gb(hr):\n",
    "    if not isinstance(hr, float):\n",
    "        return hr[12:14]"
   ]
  },
  {
   "cell_type": "code",
   "execution_count": 408,
   "metadata": {},
   "outputs": [],
   "source": [
    "# Date correction\n",
    "month_map = {\"Jan\":\"01\", \"Feb\":\"02\", \"Mar\":\"03\", \"Apr\":\"04\", \"May\":\"05\", \"Jun\":\"06\",\"Jul\":\"07\",\"Aug\":\"08\",\"Sept\":\"09\",\"Oct\":\"10\",\"Nov\":\"11\",\"Dec\":\"12\"}\n",
    "def month_correct_ex_gb(date):\n",
    "    if not isinstance(date, float):\n",
    "        for month, num in month_map.items():\n",
    "            if month in date:\n",
    "                return f\"{date[0:4]}-{num}\""
   ]
  },
  {
   "cell_type": "code",
   "execution_count": 409,
   "metadata": {},
   "outputs": [
    {
     "data": {
      "text/plain": [
       "'13'"
      ]
     },
     "execution_count": 409,
     "metadata": {},
     "output_type": "execute_result"
    }
   ],
   "source": [
    "# test\n",
    "hour_correct_ex_gb(\"2021-Feb-19 13:47:56\")"
   ]
  },
  {
   "cell_type": "code",
   "execution_count": 410,
   "metadata": {},
   "outputs": [
    {
     "data": {
      "text/plain": [
       "'2021-02'"
      ]
     },
     "execution_count": 410,
     "metadata": {},
     "output_type": "execute_result"
    }
   ],
   "source": [
    "#test\n",
    "month_correct_ex_gb(\"2021-Feb-19 13:47:56\")"
   ]
  },
  {
   "cell_type": "code",
   "execution_count": 411,
   "metadata": {},
   "outputs": [],
   "source": [
    "extra_GB_detailed_df = extra_GB_detailed_df.iloc[:,:5]"
   ]
  },
  {
   "cell_type": "code",
   "execution_count": 412,
   "metadata": {},
   "outputs": [],
   "source": [
    "extra_GB_detailed_df[\"Month_Subscribed\"] = extra_GB_detailed_df[\"CREATED_DTM\"].apply(lambda x: month_correct_ex_gb(x))\n",
    "extra_GB_detailed_df[\"Hour_Subscribed\"] = extra_GB_detailed_df[\"CREATED_DTM\"].apply(lambda x: hour_correct_ex_gb(x))"
   ]
  },
  {
   "cell_type": "code",
   "execution_count": 413,
   "metadata": {},
   "outputs": [],
   "source": [
    "extra_GB_detailed_df.drop([\"CREATED_DTM\"],axis=1,inplace=True)"
   ]
  },
  {
   "cell_type": "code",
   "execution_count": 414,
   "metadata": {},
   "outputs": [],
   "source": [
    "extra_GB_detailed_df.rename(columns={\"EVENT_COST_MNY/1000\":\"Rental\",\"REVENUE\":\"BB_Package\"},inplace=True)"
   ]
  },
  {
   "cell_type": "code",
   "execution_count": 415,
   "metadata": {},
   "outputs": [],
   "source": [
    "extra_GB_detailed_df[\"GB_AMOUNT\"] = extra_GB_detailed_df[\"GB_AMOUNT\"].apply(lambda x: remove_gb(x))"
   ]
  },
  {
   "cell_type": "code",
   "execution_count": 416,
   "metadata": {},
   "outputs": [
    {
     "name": "stdout",
     "output_type": "stream",
     "text": [
      "<class 'pandas.core.frame.DataFrame'>\n",
      "RangeIndex: 6211 entries, 0 to 6210\n",
      "Data columns (total 6 columns):\n",
      " #   Column            Non-Null Count  Dtype \n",
      "---  ------            --------------  ----- \n",
      " 0   ACCOUNT_NUM.hash  6211 non-null   object\n",
      " 1   Rental            6211 non-null   int64 \n",
      " 2   BB_Package        6211 non-null   object\n",
      " 3   GB_AMOUNT         6211 non-null   object\n",
      " 4   Month_Subscribed  6211 non-null   object\n",
      " 5   Hour_Subscribed   6211 non-null   object\n",
      "dtypes: int64(1), object(5)\n",
      "memory usage: 291.3+ KB\n"
     ]
    }
   ],
   "source": [
    "extra_GB_detailed_df.info()"
   ]
  },
  {
   "cell_type": "code",
   "execution_count": 418,
   "metadata": {},
   "outputs": [],
   "source": [
    "extra_GB_detailed_df.to_csv(\"data/user_profile/BB_Extra_GB_Usage_Detailed.csv\")"
   ]
  },
  {
   "cell_type": "markdown",
   "metadata": {},
   "source": [
    "#### Extra GB Detailed Pivot tables"
   ]
  },
  {
   "cell_type": "code",
   "execution_count": 155,
   "metadata": {},
   "outputs": [],
   "source": [
    "extra_GB_rental_Pivot = pd.pivot_table(extra_GB_detailed_df[[\"ACCOUNT_NUM.hash\",\"Month_Subscribed\",\"Rental\"]],index=['ACCOUNT_NUM.hash'],columns=['Month_Subscribed'], aggfunc=np.sum, fill_value=0)"
   ]
  },
  {
   "cell_type": "code",
   "execution_count": 157,
   "metadata": {},
   "outputs": [
    {
     "data": {
      "text/html": [
       "<div>\n",
       "<style scoped>\n",
       "    .dataframe tbody tr th:only-of-type {\n",
       "        vertical-align: middle;\n",
       "    }\n",
       "\n",
       "    .dataframe tbody tr th {\n",
       "        vertical-align: top;\n",
       "    }\n",
       "\n",
       "    .dataframe thead tr th {\n",
       "        text-align: left;\n",
       "    }\n",
       "\n",
       "    .dataframe thead tr:last-of-type th {\n",
       "        text-align: right;\n",
       "    }\n",
       "</style>\n",
       "<table border=\"1\" class=\"dataframe\">\n",
       "  <thead>\n",
       "    <tr>\n",
       "      <th></th>\n",
       "      <th colspan=\"10\" halign=\"left\">Rental</th>\n",
       "    </tr>\n",
       "    <tr>\n",
       "      <th>Month_Subscribed</th>\n",
       "      <th>2019-01</th>\n",
       "      <th>2019-02</th>\n",
       "      <th>2020-11</th>\n",
       "      <th>2021-02</th>\n",
       "      <th>2021-03</th>\n",
       "      <th>2021-04</th>\n",
       "      <th>2021-05</th>\n",
       "      <th>2021-06</th>\n",
       "      <th>2021-07</th>\n",
       "      <th>2021-08</th>\n",
       "    </tr>\n",
       "    <tr>\n",
       "      <th>ACCOUNT_NUM.hash</th>\n",
       "      <th></th>\n",
       "      <th></th>\n",
       "      <th></th>\n",
       "      <th></th>\n",
       "      <th></th>\n",
       "      <th></th>\n",
       "      <th></th>\n",
       "      <th></th>\n",
       "      <th></th>\n",
       "      <th></th>\n",
       "    </tr>\n",
       "  </thead>\n",
       "  <tbody>\n",
       "    <tr>\n",
       "      <th>0009e7e4d940c2a539b89342af07e7f1</th>\n",
       "      <td>0</td>\n",
       "      <td>0</td>\n",
       "      <td>0</td>\n",
       "      <td>0</td>\n",
       "      <td>0</td>\n",
       "      <td>0</td>\n",
       "      <td>300</td>\n",
       "      <td>0</td>\n",
       "      <td>0</td>\n",
       "      <td>0</td>\n",
       "    </tr>\n",
       "    <tr>\n",
       "      <th>008bca99f0cccb5d07d4f03744709cf8</th>\n",
       "      <td>0</td>\n",
       "      <td>0</td>\n",
       "      <td>0</td>\n",
       "      <td>0</td>\n",
       "      <td>0</td>\n",
       "      <td>0</td>\n",
       "      <td>0</td>\n",
       "      <td>0</td>\n",
       "      <td>0</td>\n",
       "      <td>0</td>\n",
       "    </tr>\n",
       "    <tr>\n",
       "      <th>009f8579b6fcaf11bac2304a1e53fee8</th>\n",
       "      <td>0</td>\n",
       "      <td>0</td>\n",
       "      <td>0</td>\n",
       "      <td>0</td>\n",
       "      <td>0</td>\n",
       "      <td>0</td>\n",
       "      <td>0</td>\n",
       "      <td>0</td>\n",
       "      <td>300</td>\n",
       "      <td>0</td>\n",
       "    </tr>\n",
       "    <tr>\n",
       "      <th>01d4aea4b4e156705a9ff94e699e5aa3</th>\n",
       "      <td>0</td>\n",
       "      <td>0</td>\n",
       "      <td>0</td>\n",
       "      <td>0</td>\n",
       "      <td>0</td>\n",
       "      <td>0</td>\n",
       "      <td>0</td>\n",
       "      <td>0</td>\n",
       "      <td>850</td>\n",
       "      <td>0</td>\n",
       "    </tr>\n",
       "    <tr>\n",
       "      <th>01f29baefa8fabbd7351cc8260f56323</th>\n",
       "      <td>0</td>\n",
       "      <td>0</td>\n",
       "      <td>0</td>\n",
       "      <td>1700</td>\n",
       "      <td>0</td>\n",
       "      <td>0</td>\n",
       "      <td>0</td>\n",
       "      <td>2550</td>\n",
       "      <td>0</td>\n",
       "      <td>0</td>\n",
       "    </tr>\n",
       "    <tr>\n",
       "      <th>...</th>\n",
       "      <td>...</td>\n",
       "      <td>...</td>\n",
       "      <td>...</td>\n",
       "      <td>...</td>\n",
       "      <td>...</td>\n",
       "      <td>...</td>\n",
       "      <td>...</td>\n",
       "      <td>...</td>\n",
       "      <td>...</td>\n",
       "      <td>...</td>\n",
       "    </tr>\n",
       "    <tr>\n",
       "      <th>fc03b76767d7b230a4b5f69846dd1305</th>\n",
       "      <td>0</td>\n",
       "      <td>0</td>\n",
       "      <td>0</td>\n",
       "      <td>0</td>\n",
       "      <td>0</td>\n",
       "      <td>100</td>\n",
       "      <td>0</td>\n",
       "      <td>0</td>\n",
       "      <td>100</td>\n",
       "      <td>0</td>\n",
       "    </tr>\n",
       "    <tr>\n",
       "      <th>fc1a1fe57837b41d1d9ad2eac3f55cf9</th>\n",
       "      <td>0</td>\n",
       "      <td>0</td>\n",
       "      <td>0</td>\n",
       "      <td>100</td>\n",
       "      <td>0</td>\n",
       "      <td>0</td>\n",
       "      <td>0</td>\n",
       "      <td>0</td>\n",
       "      <td>425</td>\n",
       "      <td>0</td>\n",
       "    </tr>\n",
       "    <tr>\n",
       "      <th>fccd08025608a774a70885c965aa0c10</th>\n",
       "      <td>0</td>\n",
       "      <td>0</td>\n",
       "      <td>0</td>\n",
       "      <td>0</td>\n",
       "      <td>100</td>\n",
       "      <td>100</td>\n",
       "      <td>0</td>\n",
       "      <td>0</td>\n",
       "      <td>0</td>\n",
       "      <td>0</td>\n",
       "    </tr>\n",
       "    <tr>\n",
       "      <th>ffaa8955dcd8a0af7d148c10fd447fcc</th>\n",
       "      <td>0</td>\n",
       "      <td>0</td>\n",
       "      <td>0</td>\n",
       "      <td>0</td>\n",
       "      <td>0</td>\n",
       "      <td>0</td>\n",
       "      <td>400</td>\n",
       "      <td>0</td>\n",
       "      <td>0</td>\n",
       "      <td>0</td>\n",
       "    </tr>\n",
       "    <tr>\n",
       "      <th>ffc751bb5812fb7f262917605876f78a</th>\n",
       "      <td>0</td>\n",
       "      <td>0</td>\n",
       "      <td>0</td>\n",
       "      <td>0</td>\n",
       "      <td>0</td>\n",
       "      <td>0</td>\n",
       "      <td>300</td>\n",
       "      <td>0</td>\n",
       "      <td>0</td>\n",
       "      <td>0</td>\n",
       "    </tr>\n",
       "  </tbody>\n",
       "</table>\n",
       "<p>613 rows × 10 columns</p>\n",
       "</div>"
      ],
      "text/plain": [
       "                                  Rental                                  \\\n",
       "Month_Subscribed                 2019-01 2019-02 2020-11 2021-02 2021-03   \n",
       "ACCOUNT_NUM.hash                                                           \n",
       "0009e7e4d940c2a539b89342af07e7f1       0       0       0       0       0   \n",
       "008bca99f0cccb5d07d4f03744709cf8       0       0       0       0       0   \n",
       "009f8579b6fcaf11bac2304a1e53fee8       0       0       0       0       0   \n",
       "01d4aea4b4e156705a9ff94e699e5aa3       0       0       0       0       0   \n",
       "01f29baefa8fabbd7351cc8260f56323       0       0       0    1700       0   \n",
       "...                                  ...     ...     ...     ...     ...   \n",
       "fc03b76767d7b230a4b5f69846dd1305       0       0       0       0       0   \n",
       "fc1a1fe57837b41d1d9ad2eac3f55cf9       0       0       0     100       0   \n",
       "fccd08025608a774a70885c965aa0c10       0       0       0       0     100   \n",
       "ffaa8955dcd8a0af7d148c10fd447fcc       0       0       0       0       0   \n",
       "ffc751bb5812fb7f262917605876f78a       0       0       0       0       0   \n",
       "\n",
       "                                                                          \n",
       "Month_Subscribed                 2021-04 2021-05 2021-06 2021-07 2021-08  \n",
       "ACCOUNT_NUM.hash                                                          \n",
       "0009e7e4d940c2a539b89342af07e7f1       0     300       0       0       0  \n",
       "008bca99f0cccb5d07d4f03744709cf8       0       0       0       0       0  \n",
       "009f8579b6fcaf11bac2304a1e53fee8       0       0       0     300       0  \n",
       "01d4aea4b4e156705a9ff94e699e5aa3       0       0       0     850       0  \n",
       "01f29baefa8fabbd7351cc8260f56323       0       0    2550       0       0  \n",
       "...                                  ...     ...     ...     ...     ...  \n",
       "fc03b76767d7b230a4b5f69846dd1305     100       0       0     100       0  \n",
       "fc1a1fe57837b41d1d9ad2eac3f55cf9       0       0       0     425       0  \n",
       "fccd08025608a774a70885c965aa0c10     100       0       0       0       0  \n",
       "ffaa8955dcd8a0af7d148c10fd447fcc       0     400       0       0       0  \n",
       "ffc751bb5812fb7f262917605876f78a       0     300       0       0       0  \n",
       "\n",
       "[613 rows x 10 columns]"
      ]
     },
     "execution_count": 157,
     "metadata": {},
     "output_type": "execute_result"
    }
   ],
   "source": [
    "extra_GB_rental_Pivot"
   ]
  },
  {
   "cell_type": "code",
   "execution_count": 158,
   "metadata": {},
   "outputs": [],
   "source": [
    "extra_GB_size_Pivot = pd.pivot_table(extra_GB_detailed_df[[\"ACCOUNT_NUM.hash\",\"Month_Subscribed\",\"GB_AMOUNT\"]],index=['ACCOUNT_NUM.hash'],columns=['Month_Subscribed'], aggfunc=np.sum, fill_value=0)"
   ]
  },
  {
   "cell_type": "code",
   "execution_count": 159,
   "metadata": {},
   "outputs": [
    {
     "data": {
      "text/html": [
       "<div>\n",
       "<style scoped>\n",
       "    .dataframe tbody tr th:only-of-type {\n",
       "        vertical-align: middle;\n",
       "    }\n",
       "\n",
       "    .dataframe tbody tr th {\n",
       "        vertical-align: top;\n",
       "    }\n",
       "\n",
       "    .dataframe thead tr th {\n",
       "        text-align: left;\n",
       "    }\n",
       "\n",
       "    .dataframe thead tr:last-of-type th {\n",
       "        text-align: right;\n",
       "    }\n",
       "</style>\n",
       "<table border=\"1\" class=\"dataframe\">\n",
       "  <thead>\n",
       "    <tr>\n",
       "      <th></th>\n",
       "      <th colspan=\"10\" halign=\"left\">GB_AMOUNT</th>\n",
       "    </tr>\n",
       "    <tr>\n",
       "      <th>Month_Subscribed</th>\n",
       "      <th>2019-01</th>\n",
       "      <th>2019-02</th>\n",
       "      <th>2020-11</th>\n",
       "      <th>2021-02</th>\n",
       "      <th>2021-03</th>\n",
       "      <th>2021-04</th>\n",
       "      <th>2021-05</th>\n",
       "      <th>2021-06</th>\n",
       "      <th>2021-07</th>\n",
       "      <th>2021-08</th>\n",
       "    </tr>\n",
       "    <tr>\n",
       "      <th>ACCOUNT_NUM.hash</th>\n",
       "      <th></th>\n",
       "      <th></th>\n",
       "      <th></th>\n",
       "      <th></th>\n",
       "      <th></th>\n",
       "      <th></th>\n",
       "      <th></th>\n",
       "      <th></th>\n",
       "      <th></th>\n",
       "      <th></th>\n",
       "    </tr>\n",
       "  </thead>\n",
       "  <tbody>\n",
       "    <tr>\n",
       "      <th>0009e7e4d940c2a539b89342af07e7f1</th>\n",
       "      <td>0</td>\n",
       "      <td>0</td>\n",
       "      <td>0</td>\n",
       "      <td>0</td>\n",
       "      <td>0</td>\n",
       "      <td>0</td>\n",
       "      <td>3</td>\n",
       "      <td>0</td>\n",
       "      <td>0</td>\n",
       "      <td>0</td>\n",
       "    </tr>\n",
       "    <tr>\n",
       "      <th>008bca99f0cccb5d07d4f03744709cf8</th>\n",
       "      <td>0</td>\n",
       "      <td>0</td>\n",
       "      <td>0</td>\n",
       "      <td>0</td>\n",
       "      <td>0</td>\n",
       "      <td>5</td>\n",
       "      <td>0</td>\n",
       "      <td>0</td>\n",
       "      <td>0</td>\n",
       "      <td>0</td>\n",
       "    </tr>\n",
       "    <tr>\n",
       "      <th>009f8579b6fcaf11bac2304a1e53fee8</th>\n",
       "      <td>0</td>\n",
       "      <td>0</td>\n",
       "      <td>0</td>\n",
       "      <td>0</td>\n",
       "      <td>0</td>\n",
       "      <td>0</td>\n",
       "      <td>0</td>\n",
       "      <td>0</td>\n",
       "      <td>111</td>\n",
       "      <td>0</td>\n",
       "    </tr>\n",
       "    <tr>\n",
       "      <th>01d4aea4b4e156705a9ff94e699e5aa3</th>\n",
       "      <td>0</td>\n",
       "      <td>0</td>\n",
       "      <td>0</td>\n",
       "      <td>0</td>\n",
       "      <td>0</td>\n",
       "      <td>0</td>\n",
       "      <td>0</td>\n",
       "      <td>0</td>\n",
       "      <td>55</td>\n",
       "      <td>0</td>\n",
       "    </tr>\n",
       "    <tr>\n",
       "      <th>01f29baefa8fabbd7351cc8260f56323</th>\n",
       "      <td>0</td>\n",
       "      <td>0</td>\n",
       "      <td>0</td>\n",
       "      <td>1010</td>\n",
       "      <td>0</td>\n",
       "      <td>0</td>\n",
       "      <td>0</td>\n",
       "      <td>510555</td>\n",
       "      <td>0</td>\n",
       "      <td>0</td>\n",
       "    </tr>\n",
       "    <tr>\n",
       "      <th>...</th>\n",
       "      <td>...</td>\n",
       "      <td>...</td>\n",
       "      <td>...</td>\n",
       "      <td>...</td>\n",
       "      <td>...</td>\n",
       "      <td>...</td>\n",
       "      <td>...</td>\n",
       "      <td>...</td>\n",
       "      <td>...</td>\n",
       "      <td>...</td>\n",
       "    </tr>\n",
       "    <tr>\n",
       "      <th>fc03b76767d7b230a4b5f69846dd1305</th>\n",
       "      <td>0</td>\n",
       "      <td>0</td>\n",
       "      <td>0</td>\n",
       "      <td>0</td>\n",
       "      <td>0</td>\n",
       "      <td>1</td>\n",
       "      <td>0</td>\n",
       "      <td>0</td>\n",
       "      <td>1</td>\n",
       "      <td>0</td>\n",
       "    </tr>\n",
       "    <tr>\n",
       "      <th>fc1a1fe57837b41d1d9ad2eac3f55cf9</th>\n",
       "      <td>0</td>\n",
       "      <td>0</td>\n",
       "      <td>0</td>\n",
       "      <td>1</td>\n",
       "      <td>0</td>\n",
       "      <td>0</td>\n",
       "      <td>0</td>\n",
       "      <td>0</td>\n",
       "      <td>5</td>\n",
       "      <td>0</td>\n",
       "    </tr>\n",
       "    <tr>\n",
       "      <th>fccd08025608a774a70885c965aa0c10</th>\n",
       "      <td>0</td>\n",
       "      <td>0</td>\n",
       "      <td>0</td>\n",
       "      <td>0</td>\n",
       "      <td>1</td>\n",
       "      <td>1</td>\n",
       "      <td>0</td>\n",
       "      <td>0</td>\n",
       "      <td>0</td>\n",
       "      <td>0</td>\n",
       "    </tr>\n",
       "    <tr>\n",
       "      <th>ffaa8955dcd8a0af7d148c10fd447fcc</th>\n",
       "      <td>0</td>\n",
       "      <td>0</td>\n",
       "      <td>0</td>\n",
       "      <td>0</td>\n",
       "      <td>0</td>\n",
       "      <td>0</td>\n",
       "      <td>22</td>\n",
       "      <td>0</td>\n",
       "      <td>0</td>\n",
       "      <td>0</td>\n",
       "    </tr>\n",
       "    <tr>\n",
       "      <th>ffc751bb5812fb7f262917605876f78a</th>\n",
       "      <td>0</td>\n",
       "      <td>0</td>\n",
       "      <td>0</td>\n",
       "      <td>0</td>\n",
       "      <td>0</td>\n",
       "      <td>0</td>\n",
       "      <td>111</td>\n",
       "      <td>0</td>\n",
       "      <td>0</td>\n",
       "      <td>0</td>\n",
       "    </tr>\n",
       "  </tbody>\n",
       "</table>\n",
       "<p>613 rows × 10 columns</p>\n",
       "</div>"
      ],
      "text/plain": [
       "                                 GB_AMOUNT                                  \\\n",
       "Month_Subscribed                   2019-01 2019-02 2020-11 2021-02 2021-03   \n",
       "ACCOUNT_NUM.hash                                                             \n",
       "0009e7e4d940c2a539b89342af07e7f1         0       0       0       0       0   \n",
       "008bca99f0cccb5d07d4f03744709cf8         0       0       0       0       0   \n",
       "009f8579b6fcaf11bac2304a1e53fee8         0       0       0       0       0   \n",
       "01d4aea4b4e156705a9ff94e699e5aa3         0       0       0       0       0   \n",
       "01f29baefa8fabbd7351cc8260f56323         0       0       0    1010       0   \n",
       "...                                    ...     ...     ...     ...     ...   \n",
       "fc03b76767d7b230a4b5f69846dd1305         0       0       0       0       0   \n",
       "fc1a1fe57837b41d1d9ad2eac3f55cf9         0       0       0       1       0   \n",
       "fccd08025608a774a70885c965aa0c10         0       0       0       0       1   \n",
       "ffaa8955dcd8a0af7d148c10fd447fcc         0       0       0       0       0   \n",
       "ffc751bb5812fb7f262917605876f78a         0       0       0       0       0   \n",
       "\n",
       "                                                                          \n",
       "Month_Subscribed                 2021-04 2021-05 2021-06 2021-07 2021-08  \n",
       "ACCOUNT_NUM.hash                                                          \n",
       "0009e7e4d940c2a539b89342af07e7f1       0       3       0       0       0  \n",
       "008bca99f0cccb5d07d4f03744709cf8       5       0       0       0       0  \n",
       "009f8579b6fcaf11bac2304a1e53fee8       0       0       0     111       0  \n",
       "01d4aea4b4e156705a9ff94e699e5aa3       0       0       0      55       0  \n",
       "01f29baefa8fabbd7351cc8260f56323       0       0  510555       0       0  \n",
       "...                                  ...     ...     ...     ...     ...  \n",
       "fc03b76767d7b230a4b5f69846dd1305       1       0       0       1       0  \n",
       "fc1a1fe57837b41d1d9ad2eac3f55cf9       0       0       0       5       0  \n",
       "fccd08025608a774a70885c965aa0c10       1       0       0       0       0  \n",
       "ffaa8955dcd8a0af7d148c10fd447fcc       0      22       0       0       0  \n",
       "ffc751bb5812fb7f262917605876f78a       0     111       0       0       0  \n",
       "\n",
       "[613 rows x 10 columns]"
      ]
     },
     "execution_count": 159,
     "metadata": {},
     "output_type": "execute_result"
    }
   ],
   "source": [
    "extra_GB_size_Pivot"
   ]
  },
  {
   "cell_type": "code",
   "execution_count": 209,
   "metadata": {},
   "outputs": [],
   "source": [
    "extra_GB_hour_Pivot = pd.pivot_table(extra_GB_detailed_df[[\"ACCOUNT_NUM.hash\",\"Hour_Subscribed\",\"GB_AMOUNT\"]],index=['ACCOUNT_NUM.hash'],columns=['Hour_Subscribed'], aggfunc=np.sum, fill_value=0)"
   ]
  },
  {
   "cell_type": "code",
   "execution_count": 214,
   "metadata": {},
   "outputs": [
    {
     "data": {
      "text/html": [
       "<div>\n",
       "<style scoped>\n",
       "    .dataframe tbody tr th:only-of-type {\n",
       "        vertical-align: middle;\n",
       "    }\n",
       "\n",
       "    .dataframe tbody tr th {\n",
       "        vertical-align: top;\n",
       "    }\n",
       "\n",
       "    .dataframe thead tr th {\n",
       "        text-align: left;\n",
       "    }\n",
       "\n",
       "    .dataframe thead tr:last-of-type th {\n",
       "        text-align: right;\n",
       "    }\n",
       "</style>\n",
       "<table border=\"1\" class=\"dataframe\">\n",
       "  <thead>\n",
       "    <tr>\n",
       "      <th></th>\n",
       "      <th colspan=\"21\" halign=\"left\">GB_AMOUNT</th>\n",
       "    </tr>\n",
       "    <tr>\n",
       "      <th>Hour_Subscribed</th>\n",
       "      <th>00</th>\n",
       "      <th>01</th>\n",
       "      <th>02</th>\n",
       "      <th>03</th>\n",
       "      <th>04</th>\n",
       "      <th>05</th>\n",
       "      <th>07</th>\n",
       "      <th>08</th>\n",
       "      <th>10</th>\n",
       "      <th>11</th>\n",
       "      <th>...</th>\n",
       "      <th>14</th>\n",
       "      <th>15</th>\n",
       "      <th>16</th>\n",
       "      <th>17</th>\n",
       "      <th>18</th>\n",
       "      <th>19</th>\n",
       "      <th>20</th>\n",
       "      <th>21</th>\n",
       "      <th>22</th>\n",
       "      <th>23</th>\n",
       "    </tr>\n",
       "    <tr>\n",
       "      <th>ACCOUNT_NUM.hash</th>\n",
       "      <th></th>\n",
       "      <th></th>\n",
       "      <th></th>\n",
       "      <th></th>\n",
       "      <th></th>\n",
       "      <th></th>\n",
       "      <th></th>\n",
       "      <th></th>\n",
       "      <th></th>\n",
       "      <th></th>\n",
       "      <th></th>\n",
       "      <th></th>\n",
       "      <th></th>\n",
       "      <th></th>\n",
       "      <th></th>\n",
       "      <th></th>\n",
       "      <th></th>\n",
       "      <th></th>\n",
       "      <th></th>\n",
       "      <th></th>\n",
       "      <th></th>\n",
       "    </tr>\n",
       "  </thead>\n",
       "  <tbody>\n",
       "    <tr>\n",
       "      <th>4a53c2f008c7fcb139a7f3b90e2b0f85</th>\n",
       "      <td>0</td>\n",
       "      <td>0</td>\n",
       "      <td>0</td>\n",
       "      <td>0</td>\n",
       "      <td>0</td>\n",
       "      <td>0</td>\n",
       "      <td>0</td>\n",
       "      <td>0</td>\n",
       "      <td>0</td>\n",
       "      <td>0</td>\n",
       "      <td>...</td>\n",
       "      <td>0</td>\n",
       "      <td>0</td>\n",
       "      <td>0</td>\n",
       "      <td>0</td>\n",
       "      <td>0</td>\n",
       "      <td>5</td>\n",
       "      <td>0</td>\n",
       "      <td>0</td>\n",
       "      <td>0</td>\n",
       "      <td>0</td>\n",
       "    </tr>\n",
       "    <tr>\n",
       "      <th>7e4d347e37c283a2e7efac30dd69e66d</th>\n",
       "      <td>0</td>\n",
       "      <td>0</td>\n",
       "      <td>0</td>\n",
       "      <td>0</td>\n",
       "      <td>0</td>\n",
       "      <td>0</td>\n",
       "      <td>0</td>\n",
       "      <td>0</td>\n",
       "      <td>0</td>\n",
       "      <td>0</td>\n",
       "      <td>...</td>\n",
       "      <td>0</td>\n",
       "      <td>2</td>\n",
       "      <td>32</td>\n",
       "      <td>0</td>\n",
       "      <td>0</td>\n",
       "      <td>0</td>\n",
       "      <td>0</td>\n",
       "      <td>0</td>\n",
       "      <td>0</td>\n",
       "      <td>0</td>\n",
       "    </tr>\n",
       "    <tr>\n",
       "      <th>67a2a166edc24b4f6777db254dd50503</th>\n",
       "      <td>0</td>\n",
       "      <td>5</td>\n",
       "      <td>0</td>\n",
       "      <td>0</td>\n",
       "      <td>1</td>\n",
       "      <td>1</td>\n",
       "      <td>0</td>\n",
       "      <td>0</td>\n",
       "      <td>511</td>\n",
       "      <td>0</td>\n",
       "      <td>...</td>\n",
       "      <td>0</td>\n",
       "      <td>0</td>\n",
       "      <td>0</td>\n",
       "      <td>1</td>\n",
       "      <td>0</td>\n",
       "      <td>0</td>\n",
       "      <td>0</td>\n",
       "      <td>0</td>\n",
       "      <td>11</td>\n",
       "      <td>0</td>\n",
       "    </tr>\n",
       "    <tr>\n",
       "      <th>9e60ea2c8103a42e6c65e2cc13482589</th>\n",
       "      <td>0</td>\n",
       "      <td>0</td>\n",
       "      <td>0</td>\n",
       "      <td>0</td>\n",
       "      <td>0</td>\n",
       "      <td>0</td>\n",
       "      <td>0</td>\n",
       "      <td>0</td>\n",
       "      <td>0</td>\n",
       "      <td>0</td>\n",
       "      <td>...</td>\n",
       "      <td>1</td>\n",
       "      <td>0</td>\n",
       "      <td>0</td>\n",
       "      <td>0</td>\n",
       "      <td>0</td>\n",
       "      <td>0</td>\n",
       "      <td>0</td>\n",
       "      <td>0</td>\n",
       "      <td>0</td>\n",
       "      <td>0</td>\n",
       "    </tr>\n",
       "    <tr>\n",
       "      <th>51656811642244c0088c3a48c415acb4</th>\n",
       "      <td>0</td>\n",
       "      <td>1</td>\n",
       "      <td>0</td>\n",
       "      <td>0</td>\n",
       "      <td>0</td>\n",
       "      <td>0</td>\n",
       "      <td>0</td>\n",
       "      <td>0</td>\n",
       "      <td>0</td>\n",
       "      <td>0</td>\n",
       "      <td>...</td>\n",
       "      <td>1</td>\n",
       "      <td>0</td>\n",
       "      <td>0</td>\n",
       "      <td>0</td>\n",
       "      <td>0</td>\n",
       "      <td>5</td>\n",
       "      <td>0</td>\n",
       "      <td>0</td>\n",
       "      <td>0</td>\n",
       "      <td>0</td>\n",
       "    </tr>\n",
       "    <tr>\n",
       "      <th>edacd917b738bacb8144233c880968c1</th>\n",
       "      <td>0</td>\n",
       "      <td>5</td>\n",
       "      <td>0</td>\n",
       "      <td>0</td>\n",
       "      <td>0</td>\n",
       "      <td>0</td>\n",
       "      <td>0</td>\n",
       "      <td>0</td>\n",
       "      <td>0</td>\n",
       "      <td>0</td>\n",
       "      <td>...</td>\n",
       "      <td>0</td>\n",
       "      <td>0</td>\n",
       "      <td>55</td>\n",
       "      <td>0</td>\n",
       "      <td>0</td>\n",
       "      <td>0</td>\n",
       "      <td>0</td>\n",
       "      <td>0</td>\n",
       "      <td>0</td>\n",
       "      <td>0</td>\n",
       "    </tr>\n",
       "    <tr>\n",
       "      <th>759deb22d66cc71e3bf61207dcd43193</th>\n",
       "      <td>0</td>\n",
       "      <td>111</td>\n",
       "      <td>0</td>\n",
       "      <td>0</td>\n",
       "      <td>0</td>\n",
       "      <td>0</td>\n",
       "      <td>0</td>\n",
       "      <td>0</td>\n",
       "      <td>0</td>\n",
       "      <td>0</td>\n",
       "      <td>...</td>\n",
       "      <td>111</td>\n",
       "      <td>0</td>\n",
       "      <td>1</td>\n",
       "      <td>1</td>\n",
       "      <td>0</td>\n",
       "      <td>11</td>\n",
       "      <td>0</td>\n",
       "      <td>0</td>\n",
       "      <td>0</td>\n",
       "      <td>0</td>\n",
       "    </tr>\n",
       "    <tr>\n",
       "      <th>c60b265895c30bb00c5884af76107a1c</th>\n",
       "      <td>0</td>\n",
       "      <td>0</td>\n",
       "      <td>0</td>\n",
       "      <td>0</td>\n",
       "      <td>0</td>\n",
       "      <td>5</td>\n",
       "      <td>0</td>\n",
       "      <td>0</td>\n",
       "      <td>5515</td>\n",
       "      <td>0</td>\n",
       "      <td>...</td>\n",
       "      <td>1510</td>\n",
       "      <td>0</td>\n",
       "      <td>57</td>\n",
       "      <td>10</td>\n",
       "      <td>0</td>\n",
       "      <td>5220</td>\n",
       "      <td>0</td>\n",
       "      <td>0</td>\n",
       "      <td>15555</td>\n",
       "      <td>20</td>\n",
       "    </tr>\n",
       "    <tr>\n",
       "      <th>cac94bcebbe65e3a7d6bebdd6d9527e3</th>\n",
       "      <td>0</td>\n",
       "      <td>0</td>\n",
       "      <td>0</td>\n",
       "      <td>0</td>\n",
       "      <td>0</td>\n",
       "      <td>0</td>\n",
       "      <td>0</td>\n",
       "      <td>0</td>\n",
       "      <td>0</td>\n",
       "      <td>5</td>\n",
       "      <td>...</td>\n",
       "      <td>0</td>\n",
       "      <td>0</td>\n",
       "      <td>0</td>\n",
       "      <td>0</td>\n",
       "      <td>0</td>\n",
       "      <td>0</td>\n",
       "      <td>0</td>\n",
       "      <td>0</td>\n",
       "      <td>0</td>\n",
       "      <td>0</td>\n",
       "    </tr>\n",
       "    <tr>\n",
       "      <th>79e8b73d71bf5f250c4bada72e0adee0</th>\n",
       "      <td>0</td>\n",
       "      <td>0</td>\n",
       "      <td>0</td>\n",
       "      <td>0</td>\n",
       "      <td>0</td>\n",
       "      <td>0</td>\n",
       "      <td>0</td>\n",
       "      <td>0</td>\n",
       "      <td>0</td>\n",
       "      <td>0</td>\n",
       "      <td>...</td>\n",
       "      <td>0</td>\n",
       "      <td>0</td>\n",
       "      <td>0</td>\n",
       "      <td>0</td>\n",
       "      <td>0</td>\n",
       "      <td>0</td>\n",
       "      <td>0</td>\n",
       "      <td>0</td>\n",
       "      <td>1</td>\n",
       "      <td>0</td>\n",
       "    </tr>\n",
       "  </tbody>\n",
       "</table>\n",
       "<p>10 rows × 22 columns</p>\n",
       "</div>"
      ],
      "text/plain": [
       "                                 GB_AMOUNT                                  \\\n",
       "Hour_Subscribed                         00   01 02 03 04 05 07 08    10 11   \n",
       "ACCOUNT_NUM.hash                                                             \n",
       "4a53c2f008c7fcb139a7f3b90e2b0f85         0    0  0  0  0  0  0  0     0  0   \n",
       "7e4d347e37c283a2e7efac30dd69e66d         0    0  0  0  0  0  0  0     0  0   \n",
       "67a2a166edc24b4f6777db254dd50503         0    5  0  0  1  1  0  0   511  0   \n",
       "9e60ea2c8103a42e6c65e2cc13482589         0    0  0  0  0  0  0  0     0  0   \n",
       "51656811642244c0088c3a48c415acb4         0    1  0  0  0  0  0  0     0  0   \n",
       "edacd917b738bacb8144233c880968c1         0    5  0  0  0  0  0  0     0  0   \n",
       "759deb22d66cc71e3bf61207dcd43193         0  111  0  0  0  0  0  0     0  0   \n",
       "c60b265895c30bb00c5884af76107a1c         0    0  0  0  0  5  0  0  5515  0   \n",
       "cac94bcebbe65e3a7d6bebdd6d9527e3         0    0  0  0  0  0  0  0     0  5   \n",
       "79e8b73d71bf5f250c4bada72e0adee0         0    0  0  0  0  0  0  0     0  0   \n",
       "\n",
       "                                  ...                                         \\\n",
       "Hour_Subscribed                   ...    14 15  16  17 18    19 20 21     22   \n",
       "ACCOUNT_NUM.hash                  ...                                          \n",
       "4a53c2f008c7fcb139a7f3b90e2b0f85  ...     0  0   0   0  0     5  0  0      0   \n",
       "7e4d347e37c283a2e7efac30dd69e66d  ...     0  2  32   0  0     0  0  0      0   \n",
       "67a2a166edc24b4f6777db254dd50503  ...     0  0   0   1  0     0  0  0     11   \n",
       "9e60ea2c8103a42e6c65e2cc13482589  ...     1  0   0   0  0     0  0  0      0   \n",
       "51656811642244c0088c3a48c415acb4  ...     1  0   0   0  0     5  0  0      0   \n",
       "edacd917b738bacb8144233c880968c1  ...     0  0  55   0  0     0  0  0      0   \n",
       "759deb22d66cc71e3bf61207dcd43193  ...   111  0   1   1  0    11  0  0      0   \n",
       "c60b265895c30bb00c5884af76107a1c  ...  1510  0  57  10  0  5220  0  0  15555   \n",
       "cac94bcebbe65e3a7d6bebdd6d9527e3  ...     0  0   0   0  0     0  0  0      0   \n",
       "79e8b73d71bf5f250c4bada72e0adee0  ...     0  0   0   0  0     0  0  0      1   \n",
       "\n",
       "                                      \n",
       "Hour_Subscribed                   23  \n",
       "ACCOUNT_NUM.hash                      \n",
       "4a53c2f008c7fcb139a7f3b90e2b0f85   0  \n",
       "7e4d347e37c283a2e7efac30dd69e66d   0  \n",
       "67a2a166edc24b4f6777db254dd50503   0  \n",
       "9e60ea2c8103a42e6c65e2cc13482589   0  \n",
       "51656811642244c0088c3a48c415acb4   0  \n",
       "edacd917b738bacb8144233c880968c1   0  \n",
       "759deb22d66cc71e3bf61207dcd43193   0  \n",
       "c60b265895c30bb00c5884af76107a1c  20  \n",
       "cac94bcebbe65e3a7d6bebdd6d9527e3   0  \n",
       "79e8b73d71bf5f250c4bada72e0adee0   0  \n",
       "\n",
       "[10 rows x 22 columns]"
      ]
     },
     "execution_count": 214,
     "metadata": {},
     "output_type": "execute_result"
    }
   ],
   "source": [
    "extra_GB_hour_Pivot.sample(n=10)"
   ]
  },
  {
   "cell_type": "code",
   "execution_count": 216,
   "metadata": {},
   "outputs": [],
   "source": [
    "extra_GB_hour_Pivot.to_csv(\"data/user_profile/extra_usage/BB_extra_GB_usage_pivot_GB_hour.csv\")"
   ]
  },
  {
   "cell_type": "code",
   "execution_count": 217,
   "metadata": {},
   "outputs": [],
   "source": [
    "extra_GB_size_Pivot.to_csv(\"data/user_profile/extra_usage/BB_extra_GB_usage_pivot_GB_month.csv\")"
   ]
  },
  {
   "cell_type": "code",
   "execution_count": 218,
   "metadata": {},
   "outputs": [],
   "source": [
    "extra_GB_rental_Pivot.to_csv(\"data/user_profile/extra_usage/BB_extra_GB_usage_pivot_Rental_month.csv\")"
   ]
  },
  {
   "cell_type": "code",
   "execution_count": null,
   "metadata": {},
   "outputs": [],
   "source": []
  },
  {
   "cell_type": "markdown",
   "metadata": {},
   "source": [
    "### Extracting USER_BB Package Map"
   ]
  },
  {
   "cell_type": "code",
   "execution_count": 229,
   "metadata": {},
   "outputs": [],
   "source": [
    "user_bb_package = extra_GB_detailed_df[[\"ACCOUNT_NUM.hash\",\"BB_Package\"]]"
   ]
  },
  {
   "cell_type": "code",
   "execution_count": 230,
   "metadata": {},
   "outputs": [
    {
     "name": "stderr",
     "output_type": "stream",
     "text": [
      "<ipython-input-230-acdd4159985c>:1: SettingWithCopyWarning: \n",
      "A value is trying to be set on a copy of a slice from a DataFrame\n",
      "\n",
      "See the caveats in the documentation: https://pandas.pydata.org/pandas-docs/stable/user_guide/indexing.html#returning-a-view-versus-a-copy\n",
      "  user_bb_package.drop_duplicates([\"ACCOUNT_NUM.hash\",\"BB_Package\"], inplace=True)\n"
     ]
    }
   ],
   "source": [
    "user_bb_package.drop_duplicates([\"ACCOUNT_NUM.hash\",\"BB_Package\"], inplace=True)"
   ]
  },
  {
   "cell_type": "code",
   "execution_count": 231,
   "metadata": {},
   "outputs": [
    {
     "name": "stdout",
     "output_type": "stream",
     "text": [
      "<class 'pandas.core.frame.DataFrame'>\n",
      "Int64Index: 803 entries, 0 to 6200\n",
      "Data columns (total 2 columns):\n",
      " #   Column            Non-Null Count  Dtype \n",
      "---  ------            --------------  ----- \n",
      " 0   ACCOUNT_NUM.hash  803 non-null    object\n",
      " 1   BB_Package        803 non-null    object\n",
      "dtypes: object(2)\n",
      "memory usage: 18.8+ KB\n"
     ]
    }
   ],
   "source": [
    "user_bb_package.info()"
   ]
  },
  {
   "cell_type": "code",
   "execution_count": 232,
   "metadata": {},
   "outputs": [],
   "source": [
    "pmap_bss_df = pd.read_excel(\"data/aug/Products mapped to BS Tariff.xlsx\")"
   ]
  },
  {
   "cell_type": "code",
   "execution_count": 233,
   "metadata": {},
   "outputs": [],
   "source": [
    "pmap_bss_df = product_cat_df[[\"ACCOUNT_NUM.hash\",\"TARIFF_NAME\"]].merge(pmap_bss_df, how=\"left\",on=\"TARIFF_NAME\")"
   ]
  },
  {
   "cell_type": "code",
   "execution_count": 235,
   "metadata": {},
   "outputs": [],
   "source": [
    "pmap_bss_df.drop_duplicates([\"ACCOUNT_NUM.hash\",\"CRM Name\"],inplace=True)"
   ]
  },
  {
   "cell_type": "code",
   "execution_count": 236,
   "metadata": {},
   "outputs": [],
   "source": [
    "pmap_bss_df.rename(columns={\"CRM Name\":\"BB_Package\",\"Value\":\"MEDIUM_INFO\"},inplace=True)"
   ]
  },
  {
   "cell_type": "code",
   "execution_count": 237,
   "metadata": {},
   "outputs": [
    {
     "name": "stdout",
     "output_type": "stream",
     "text": [
      "<class 'pandas.core.frame.DataFrame'>\n",
      "Int64Index: 5102 entries, 0 to 60669\n",
      "Data columns (total 7 columns):\n",
      " #   Column            Non-Null Count  Dtype  \n",
      "---  ------            --------------  -----  \n",
      " 0   ACCOUNT_NUM.hash  5102 non-null   object \n",
      " 1   TARIFF_NAME       5102 non-null   object \n",
      " 2   BB_Package        1884 non-null   object \n",
      " 3   TARIFF_ID         1896 non-null   float64\n",
      " 4   BSS Name          1896 non-null   object \n",
      " 5   Attribute         1890 non-null   object \n",
      " 6   MEDIUM_INFO       1890 non-null   object \n",
      "dtypes: float64(1), object(6)\n",
      "memory usage: 318.9+ KB\n"
     ]
    }
   ],
   "source": [
    "pmap_bss_df.info()"
   ]
  },
  {
   "cell_type": "code",
   "execution_count": 238,
   "metadata": {},
   "outputs": [],
   "source": [
    "final_user_bb_package = pmap_bss_df.merge(user_bb_package, how=\"left\",on=[\"ACCOUNT_NUM.hash\",\"BB_Package\"])"
   ]
  },
  {
   "cell_type": "code",
   "execution_count": 239,
   "metadata": {},
   "outputs": [],
   "source": [
    "final_user_bb_package.drop_duplicates([\"ACCOUNT_NUM.hash\",\"BB_Package\"],inplace=True)"
   ]
  },
  {
   "cell_type": "code",
   "execution_count": 240,
   "metadata": {},
   "outputs": [
    {
     "name": "stdout",
     "output_type": "stream",
     "text": [
      "<class 'pandas.core.frame.DataFrame'>\n",
      "Int64Index: 5102 entries, 0 to 5101\n",
      "Data columns (total 7 columns):\n",
      " #   Column            Non-Null Count  Dtype  \n",
      "---  ------            --------------  -----  \n",
      " 0   ACCOUNT_NUM.hash  5102 non-null   object \n",
      " 1   TARIFF_NAME       5102 non-null   object \n",
      " 2   BB_Package        1884 non-null   object \n",
      " 3   TARIFF_ID         1896 non-null   float64\n",
      " 4   BSS Name          1896 non-null   object \n",
      " 5   Attribute         1890 non-null   object \n",
      " 6   MEDIUM_INFO       1890 non-null   object \n",
      "dtypes: float64(1), object(6)\n",
      "memory usage: 318.9+ KB\n"
     ]
    }
   ],
   "source": [
    "final_user_bb_package.info()"
   ]
  },
  {
   "cell_type": "code",
   "execution_count": 241,
   "metadata": {},
   "outputs": [],
   "source": [
    "final_user_bb_package.to_csv(\"data/user_profile/User_BB_Package_Map.csv\")"
   ]
  },
  {
   "cell_type": "code",
   "execution_count": null,
   "metadata": {},
   "outputs": [],
   "source": []
  },
  {
   "cell_type": "markdown",
   "metadata": {},
   "source": [
    "### Other BB VAS"
   ]
  },
  {
   "cell_type": "code",
   "execution_count": 242,
   "metadata": {
    "gather": {
     "logged": 1628314380873
    }
   },
   "outputs": [
    {
     "name": "stderr",
     "output_type": "stream",
     "text": [
      "C:\\ProgramData\\Anaconda3\\lib\\site-packages\\pandas\\core\\frame.py:4308: SettingWithCopyWarning: \n",
      "A value is trying to be set on a copy of a slice from a DataFrame\n",
      "\n",
      "See the caveats in the documentation: https://pandas.pydata.org/pandas-docs/stable/user_guide/indexing.html#returning-a-view-versus-a-copy\n",
      "  return super().drop(\n"
     ]
    },
    {
     "data": {
      "text/html": [
       "<div>\n",
       "<style scoped>\n",
       "    .dataframe tbody tr th:only-of-type {\n",
       "        vertical-align: middle;\n",
       "    }\n",
       "\n",
       "    .dataframe tbody tr th {\n",
       "        vertical-align: top;\n",
       "    }\n",
       "\n",
       "    .dataframe thead th {\n",
       "        text-align: right;\n",
       "    }\n",
       "</style>\n",
       "<table border=\"1\" class=\"dataframe\">\n",
       "  <thead>\n",
       "    <tr style=\"text-align: right;\">\n",
       "      <th></th>\n",
       "      <th>ACCOUNT_NUM.hash</th>\n",
       "      <th>VAS</th>\n",
       "      <th>Month_Subscribed</th>\n",
       "      <th>Rental</th>\n",
       "    </tr>\n",
       "  </thead>\n",
       "  <tbody>\n",
       "    <tr>\n",
       "      <th>0</th>\n",
       "      <td>949e14e85d36002ffb954d42d3366936</td>\n",
       "      <td>BB_Report Subscription Charge</td>\n",
       "      <td>2021-02</td>\n",
       "      <td>40.0</td>\n",
       "    </tr>\n",
       "    <tr>\n",
       "      <th>1</th>\n",
       "      <td>949e14e85d36002ffb954d42d3366936</td>\n",
       "      <td>BB_Report Subscription Charge</td>\n",
       "      <td>2021-03</td>\n",
       "      <td>40.0</td>\n",
       "    </tr>\n",
       "    <tr>\n",
       "      <th>2</th>\n",
       "      <td>b027d65390a0c725b9ce41e409f9797e</td>\n",
       "      <td>BB_Report Subscription Charge</td>\n",
       "      <td>2021-03</td>\n",
       "      <td>40.0</td>\n",
       "    </tr>\n",
       "    <tr>\n",
       "      <th>3</th>\n",
       "      <td>b027d65390a0c725b9ce41e409f9797e</td>\n",
       "      <td>BB_Report Subscription Charge</td>\n",
       "      <td>2021-02</td>\n",
       "      <td>40.0</td>\n",
       "    </tr>\n",
       "    <tr>\n",
       "      <th>4</th>\n",
       "      <td>b027d65390a0c725b9ce41e409f9797e</td>\n",
       "      <td>BB_Report Subscription Charge</td>\n",
       "      <td>2021-03</td>\n",
       "      <td>40.0</td>\n",
       "    </tr>\n",
       "    <tr>\n",
       "      <th>...</th>\n",
       "      <td>...</td>\n",
       "      <td>...</td>\n",
       "      <td>...</td>\n",
       "      <td>...</td>\n",
       "    </tr>\n",
       "    <tr>\n",
       "      <th>665</th>\n",
       "      <td>8d8472d39b270801553f2d5e7c06fe22</td>\n",
       "      <td>BB_Report Subscription Charge</td>\n",
       "      <td>2021-02</td>\n",
       "      <td>40.0</td>\n",
       "    </tr>\n",
       "    <tr>\n",
       "      <th>666</th>\n",
       "      <td>8d8472d39b270801553f2d5e7c06fe22</td>\n",
       "      <td>BB_Report Subscription Charge</td>\n",
       "      <td>2021-02</td>\n",
       "      <td>40.0</td>\n",
       "    </tr>\n",
       "    <tr>\n",
       "      <th>667</th>\n",
       "      <td>8d8472d39b270801553f2d5e7c06fe22</td>\n",
       "      <td>BB_Report Subscription Charge</td>\n",
       "      <td>2021-03</td>\n",
       "      <td>40.0</td>\n",
       "    </tr>\n",
       "    <tr>\n",
       "      <th>668</th>\n",
       "      <td>8d8472d39b270801553f2d5e7c06fe22</td>\n",
       "      <td>BB_Report Subscription Charge</td>\n",
       "      <td>2021-03</td>\n",
       "      <td>40.0</td>\n",
       "    </tr>\n",
       "    <tr>\n",
       "      <th>669</th>\n",
       "      <td>8d8472d39b270801553f2d5e7c06fe22</td>\n",
       "      <td>BB_Report Subscription Charge</td>\n",
       "      <td>2021-01</td>\n",
       "      <td>40.0</td>\n",
       "    </tr>\n",
       "  </tbody>\n",
       "</table>\n",
       "<p>670 rows × 4 columns</p>\n",
       "</div>"
      ],
      "text/plain": [
       "                     ACCOUNT_NUM.hash                            VAS  \\\n",
       "0    949e14e85d36002ffb954d42d3366936  BB_Report Subscription Charge   \n",
       "1    949e14e85d36002ffb954d42d3366936  BB_Report Subscription Charge   \n",
       "2    b027d65390a0c725b9ce41e409f9797e  BB_Report Subscription Charge   \n",
       "3    b027d65390a0c725b9ce41e409f9797e  BB_Report Subscription Charge   \n",
       "4    b027d65390a0c725b9ce41e409f9797e  BB_Report Subscription Charge   \n",
       "..                                ...                            ...   \n",
       "665  8d8472d39b270801553f2d5e7c06fe22  BB_Report Subscription Charge   \n",
       "666  8d8472d39b270801553f2d5e7c06fe22  BB_Report Subscription Charge   \n",
       "667  8d8472d39b270801553f2d5e7c06fe22  BB_Report Subscription Charge   \n",
       "668  8d8472d39b270801553f2d5e7c06fe22  BB_Report Subscription Charge   \n",
       "669  8d8472d39b270801553f2d5e7c06fe22  BB_Report Subscription Charge   \n",
       "\n",
       "    Month_Subscribed  Rental  \n",
       "0            2021-02    40.0  \n",
       "1            2021-03    40.0  \n",
       "2            2021-03    40.0  \n",
       "3            2021-02    40.0  \n",
       "4            2021-03    40.0  \n",
       "..               ...     ...  \n",
       "665          2021-02    40.0  \n",
       "666          2021-02    40.0  \n",
       "667          2021-03    40.0  \n",
       "668          2021-03    40.0  \n",
       "669          2021-01    40.0  \n",
       "\n",
       "[670 rows x 4 columns]"
      ]
     },
     "execution_count": 242,
     "metadata": {},
     "output_type": "execute_result"
    }
   ],
   "source": [
    "bb_vas_df= vas_purchase_df[(vas_purchase_df[\"VAS\"]!=\"BB EXTRA GB\")]\n",
    "bb_vas_df.reset_index(inplace=True)\n",
    "bb_vas_df.drop([\"index\"],axis=1,inplace=True)\n",
    "bb_vas_df"
   ]
  },
  {
   "cell_type": "markdown",
   "metadata": {},
   "source": [
    "## VAS DWH Dataset Analysis"
   ]
  },
  {
   "cell_type": "code",
   "execution_count": 243,
   "metadata": {
    "gather": {
     "logged": 1628312507335
    }
   },
   "outputs": [],
   "source": [
    "vas_DWH_df = pd.read_excel(\"data/new/VAS_Products_Purchased Dates_SLT_DWH.xls\")  \n",
    "vas_DWH_df.rename(columns={'ACCOUNT_NO.hash':'ACCOUNT_NUM.hash','REPORTING_MONTH_CAL_MONTH_CODE':'Month_Subscribed','CODE_DESC':'VAS','REVENUE_AMOUNT':'Rental'}, inplace=True)"
   ]
  },
  {
   "cell_type": "code",
   "execution_count": 244,
   "metadata": {
    "gather": {
     "logged": 1628312514846
    }
   },
   "outputs": [],
   "source": [
    "# Date correction\n",
    "def date_correct_dwh(date):\n",
    "    date=str(date)\n",
    "    year=date[:4]\n",
    "    month=date[4:7]\n",
    "    return f\"{year}-{month}\""
   ]
  },
  {
   "cell_type": "code",
   "execution_count": 245,
   "metadata": {
    "gather": {
     "logged": 1628312520244
    }
   },
   "outputs": [],
   "source": [
    "vas_DWH_df[\"Month_Subscribed\"]=vas_DWH_df[\"Month_Subscribed\"].apply(lambda x: date_correct_dwh(x))"
   ]
  },
  {
   "cell_type": "code",
   "execution_count": 246,
   "metadata": {
    "gather": {
     "logged": 1628312529227
    }
   },
   "outputs": [
    {
     "name": "stdout",
     "output_type": "stream",
     "text": [
      "<class 'pandas.core.frame.DataFrame'>\n",
      "RangeIndex: 578 entries, 0 to 577\n",
      "Data columns (total 5 columns):\n",
      " #   Column            Non-Null Count  Dtype \n",
      "---  ------            --------------  ----- \n",
      " 0   ACCOUNT_NUM.hash  578 non-null    object\n",
      " 1   Month_Subscribed  578 non-null    object\n",
      " 2   VAS               578 non-null    object\n",
      " 3   Rental            578 non-null    int64 \n",
      " 4                     578 non-null    object\n",
      "dtypes: int64(1), object(4)\n",
      "memory usage: 22.7+ KB\n"
     ]
    }
   ],
   "source": [
    "vas_DWH_df.info()"
   ]
  },
  {
   "cell_type": "code",
   "execution_count": 247,
   "metadata": {},
   "outputs": [],
   "source": [
    "#vas_DWH_df = vas_DWH_df.merge(acc_no_map,how='left',on=\"ACCOUNT_NUM.hash\")\n",
    "#vas_DWH_df.drop_duplicates([\"ACCOUNT_NUM.hash\",\"VAS\"],inplace=True)\n",
    "#vas_DWH_df.reset_index(inplace=True)\n",
    "#vas_DWH_df.drop([\"index\"],axis=1,inplace=True)"
   ]
  },
  {
   "cell_type": "code",
   "execution_count": 248,
   "metadata": {
    "gather": {
     "logged": 1628312582341
    }
   },
   "outputs": [
    {
     "data": {
      "text/html": [
       "<div>\n",
       "<style scoped>\n",
       "    .dataframe tbody tr th:only-of-type {\n",
       "        vertical-align: middle;\n",
       "    }\n",
       "\n",
       "    .dataframe tbody tr th {\n",
       "        vertical-align: top;\n",
       "    }\n",
       "\n",
       "    .dataframe thead th {\n",
       "        text-align: right;\n",
       "    }\n",
       "</style>\n",
       "<table border=\"1\" class=\"dataframe\">\n",
       "  <thead>\n",
       "    <tr style=\"text-align: right;\">\n",
       "      <th></th>\n",
       "      <th>ACCOUNT_NUM.hash</th>\n",
       "      <th>VAS</th>\n",
       "      <th>Month_Subscribed</th>\n",
       "      <th>Rental</th>\n",
       "    </tr>\n",
       "  </thead>\n",
       "  <tbody>\n",
       "    <tr>\n",
       "      <th>0</th>\n",
       "      <td>204773567701102c4acf8fda9eaccfdd</td>\n",
       "      <td>PEO TV GO_OTT_A-la carte channels</td>\n",
       "      <td>2020-05</td>\n",
       "      <td>100</td>\n",
       "    </tr>\n",
       "    <tr>\n",
       "      <th>1</th>\n",
       "      <td>52e7c04d12cb33c77031760584a9586e</td>\n",
       "      <td>PEO TV GO_OTT_A-la carte channels</td>\n",
       "      <td>2020-06</td>\n",
       "      <td>100</td>\n",
       "    </tr>\n",
       "    <tr>\n",
       "      <th>2</th>\n",
       "      <td>9d2f5d0f09198069413924db9a10d1c3</td>\n",
       "      <td>PEO TV GO_OTT_A-la carte channels</td>\n",
       "      <td>2019-09</td>\n",
       "      <td>100</td>\n",
       "    </tr>\n",
       "    <tr>\n",
       "      <th>3</th>\n",
       "      <td>52b1c4fc5583a0b8449029dc92eeae45</td>\n",
       "      <td>PEO TV GO_OTT_A-la carte channels</td>\n",
       "      <td>2020-02</td>\n",
       "      <td>100</td>\n",
       "    </tr>\n",
       "    <tr>\n",
       "      <th>4</th>\n",
       "      <td>2b60f8ffb99f7932ee00cdd291fb1dd5</td>\n",
       "      <td>PEO TV GO_OTT_A-la carte channels</td>\n",
       "      <td>2020-07</td>\n",
       "      <td>100</td>\n",
       "    </tr>\n",
       "    <tr>\n",
       "      <th>...</th>\n",
       "      <td>...</td>\n",
       "      <td>...</td>\n",
       "      <td>...</td>\n",
       "      <td>...</td>\n",
       "    </tr>\n",
       "    <tr>\n",
       "      <th>573</th>\n",
       "      <td>9324793d25ea7ec770a033120d4d2254</td>\n",
       "      <td>Package Rental Through ADSL</td>\n",
       "      <td>2019-11</td>\n",
       "      <td>149</td>\n",
       "    </tr>\n",
       "    <tr>\n",
       "      <th>574</th>\n",
       "      <td>9324793d25ea7ec770a033120d4d2254</td>\n",
       "      <td>Package Rental Through ADSL</td>\n",
       "      <td>2020-08</td>\n",
       "      <td>149</td>\n",
       "    </tr>\n",
       "    <tr>\n",
       "      <th>575</th>\n",
       "      <td>9324793d25ea7ec770a033120d4d2254</td>\n",
       "      <td>Package Rental Through ADSL</td>\n",
       "      <td>2019-01</td>\n",
       "      <td>149</td>\n",
       "    </tr>\n",
       "    <tr>\n",
       "      <th>576</th>\n",
       "      <td>9324793d25ea7ec770a033120d4d2254</td>\n",
       "      <td>Package Rental Through ADSL</td>\n",
       "      <td>2019-10</td>\n",
       "      <td>149</td>\n",
       "    </tr>\n",
       "    <tr>\n",
       "      <th>577</th>\n",
       "      <td>96d972b2edfb5cf8c733f0fe2fa775a8</td>\n",
       "      <td>Package Rental Through ADSL</td>\n",
       "      <td>2019-10</td>\n",
       "      <td>299</td>\n",
       "    </tr>\n",
       "  </tbody>\n",
       "</table>\n",
       "<p>578 rows × 4 columns</p>\n",
       "</div>"
      ],
      "text/plain": [
       "                     ACCOUNT_NUM.hash                                VAS  \\\n",
       "0    204773567701102c4acf8fda9eaccfdd  PEO TV GO_OTT_A-la carte channels   \n",
       "1    52e7c04d12cb33c77031760584a9586e  PEO TV GO_OTT_A-la carte channels   \n",
       "2    9d2f5d0f09198069413924db9a10d1c3  PEO TV GO_OTT_A-la carte channels   \n",
       "3    52b1c4fc5583a0b8449029dc92eeae45  PEO TV GO_OTT_A-la carte channels   \n",
       "4    2b60f8ffb99f7932ee00cdd291fb1dd5  PEO TV GO_OTT_A-la carte channels   \n",
       "..                                ...                                ...   \n",
       "573  9324793d25ea7ec770a033120d4d2254        Package Rental Through ADSL   \n",
       "574  9324793d25ea7ec770a033120d4d2254        Package Rental Through ADSL   \n",
       "575  9324793d25ea7ec770a033120d4d2254        Package Rental Through ADSL   \n",
       "576  9324793d25ea7ec770a033120d4d2254        Package Rental Through ADSL   \n",
       "577  96d972b2edfb5cf8c733f0fe2fa775a8        Package Rental Through ADSL   \n",
       "\n",
       "    Month_Subscribed  Rental  \n",
       "0            2020-05     100  \n",
       "1            2020-06     100  \n",
       "2            2019-09     100  \n",
       "3            2020-02     100  \n",
       "4            2020-07     100  \n",
       "..               ...     ...  \n",
       "573          2019-11     149  \n",
       "574          2020-08     149  \n",
       "575          2019-01     149  \n",
       "576          2019-10     149  \n",
       "577          2019-10     299  \n",
       "\n",
       "[578 rows x 4 columns]"
      ]
     },
     "execution_count": 248,
     "metadata": {},
     "output_type": "execute_result"
    }
   ],
   "source": [
    "vas_DWH_df = vas_DWH_df[[\"ACCOUNT_NUM.hash\",\"VAS\",\"Month_Subscribed\",\"Rental\"]]\n",
    "vas_DWH_df"
   ]
  },
  {
   "cell_type": "code",
   "execution_count": 249,
   "metadata": {
    "gather": {
     "logged": 1628312627095
    }
   },
   "outputs": [
    {
     "data": {
      "text/plain": [
       "PEO TV GO_OTT_A-la carte channels    475\n",
       "Package Rental Through ADSL           73\n",
       "PeoTVGo_Channel Package               23\n",
       "BB_PeoTVGO Revenue code                7\n",
       "Name: VAS, dtype: int64"
      ]
     },
     "execution_count": 249,
     "metadata": {},
     "output_type": "execute_result"
    }
   ],
   "source": [
    "vas_DWH_df[\"VAS\"].value_counts()"
   ]
  },
  {
   "cell_type": "markdown",
   "metadata": {},
   "source": [
    "## Product Sate Changes DF"
   ]
  },
  {
   "cell_type": "code",
   "execution_count": 250,
   "metadata": {
    "gather": {
     "logged": 1628313683597
    }
   },
   "outputs": [],
   "source": [
    "state_changes_df = pd.read_csv(\"data/Product State Changes from BSS.csv\")"
   ]
  },
  {
   "cell_type": "code",
   "execution_count": 251,
   "metadata": {
    "gather": {
     "logged": 1628313689023
    },
    "jupyter": {
     "outputs_hidden": false,
     "source_hidden": false
    },
    "nteract": {
     "transient": {
      "deleting": false
     }
    }
   },
   "outputs": [
    {
     "name": "stdout",
     "output_type": "stream",
     "text": [
      "<class 'pandas.core.frame.DataFrame'>\n",
      "RangeIndex: 3028 entries, 0 to 3027\n",
      "Data columns (total 13 columns):\n",
      " #   Column              Non-Null Count  Dtype \n",
      "---  ------              --------------  ----- \n",
      " 0   PRODUCT_LABEL       3028 non-null   int64 \n",
      " 1   PRODUCT_LABEL.hash  3028 non-null   object\n",
      " 2   CUSTOMER_REF        3028 non-null   object\n",
      " 3   CUSTOMER_REF.hash   3028 non-null   object\n",
      " 4   ACCOUNT_NUM         3028 non-null   object\n",
      " 5   ACCOUNT_NUM.hash    3028 non-null   object\n",
      " 6   PRODUCT_SEQ         3028 non-null   int64 \n",
      " 7   START_DAT           3028 non-null   object\n",
      " 8   END_DAT             2653 non-null   object\n",
      " 9   PRODUCT_ID          3028 non-null   int64 \n",
      " 10  PRODUCT_NAME        3028 non-null   object\n",
      " 11  EFFECTIVE_DTM       3028 non-null   object\n",
      " 12  PRODUCT_STATUS      3028 non-null   object\n",
      "dtypes: int64(3), object(10)\n",
      "memory usage: 307.7+ KB\n"
     ]
    }
   ],
   "source": [
    "state_changes_df.info()"
   ]
  },
  {
   "cell_type": "code",
   "execution_count": 252,
   "metadata": {
    "gather": {
     "logged": 1628313697134
    },
    "jupyter": {
     "outputs_hidden": false,
     "source_hidden": false
    },
    "nteract": {
     "transient": {
      "deleting": false
     }
    }
   },
   "outputs": [
    {
     "name": "stdout",
     "output_type": "stream",
     "text": [
      "<class 'pandas.core.frame.DataFrame'>\n",
      "RangeIndex: 3028 entries, 0 to 3027\n",
      "Data columns (total 3 columns):\n",
      " #   Column        Non-Null Count  Dtype \n",
      "---  ------        --------------  ----- \n",
      " 0   event_source  3028 non-null   int64 \n",
      " 1   CUSTOMER_REF  3028 non-null   object\n",
      " 2   ACCOUNT_NUM   3028 non-null   object\n",
      "dtypes: int64(1), object(2)\n",
      "memory usage: 71.1+ KB\n"
     ]
    },
    {
     "name": "stderr",
     "output_type": "stream",
     "text": [
      "C:\\ProgramData\\Anaconda3\\lib\\site-packages\\pandas\\core\\frame.py:4441: SettingWithCopyWarning: \n",
      "A value is trying to be set on a copy of a slice from a DataFrame\n",
      "\n",
      "See the caveats in the documentation: https://pandas.pydata.org/pandas-docs/stable/user_guide/indexing.html#returning-a-view-versus-a-copy\n",
      "  return super().rename(\n"
     ]
    }
   ],
   "source": [
    "# Actual information for verification\n",
    "actual_info_df = state_changes_df[['PRODUCT_LABEL','CUSTOMER_REF','ACCOUNT_NUM']]\n",
    "actual_info_df.rename(columns={\"PRODUCT_LABEL\":\"event_source\"},inplace=True)\n",
    "actual_info_df.info()"
   ]
  },
  {
   "cell_type": "code",
   "execution_count": 253,
   "metadata": {
    "gather": {
     "logged": 1628313023935
    },
    "jupyter": {
     "outputs_hidden": false,
     "source_hidden": false
    },
    "nteract": {
     "transient": {
      "deleting": false
     }
    }
   },
   "outputs": [],
   "source": [
    "actual_info_df.to_csv(\"data/user_profile/Actual_Customer_Info.csv\")"
   ]
  },
  {
   "cell_type": "code",
   "execution_count": 254,
   "metadata": {
    "gather": {
     "logged": 1628313708816
    }
   },
   "outputs": [],
   "source": [
    "state_changes_df = state_changes_df.drop(['PRODUCT_LABEL','CUSTOMER_REF','ACCOUNT_NUM' ,'PRODUCT_STATUS','PRODUCT_ID','START_DAT','END_DAT','PRODUCT_SEQ'], axis=1)\n",
    "state_changes_df.rename(columns={'PRODUCT_LABEL.hash': 'event_source.hash','PRODUCT_NAME':'VAS','EFFECTIVE_DTM':'Month_Subscribed'}, inplace=True)"
   ]
  },
  {
   "cell_type": "code",
   "execution_count": 255,
   "metadata": {
    "gather": {
     "logged": 1628313716664
    }
   },
   "outputs": [],
   "source": [
    "month_map = {\"Jan\":\"01\",\"Feb\":\"02\",\"Mar\":\"03\",\"Apr\":\"04\",\"May\":\"05\",\"Jun\":\"06\",\"Jul\":\"07\",\"Aug\":\"08\",\"Sep\":\"09\",\"Oct\":\"10\",\"Nov\":\"11\",\"Dec\":\"12\"}"
   ]
  },
  {
   "cell_type": "code",
   "execution_count": 256,
   "metadata": {
    "gather": {
     "logged": 1628313724000
    }
   },
   "outputs": [],
   "source": [
    "# Date correction\n",
    "def date_correct_psc(date):\n",
    "    date=str(date)\n",
    "    year=date[:4]\n",
    "    mnt_temp= date[5:8]\n",
    "    month=[v for k, v in month_map.items() if mnt_temp in k][0]\n",
    "    return f\"{year}-{month}\""
   ]
  },
  {
   "cell_type": "code",
   "execution_count": 257,
   "metadata": {
    "gather": {
     "logged": 1628313732064
    }
   },
   "outputs": [
    {
     "name": "stdout",
     "output_type": "stream",
     "text": [
      "2019-07\n",
      "2019-05\n"
     ]
    }
   ],
   "source": [
    "# check\n",
    "print(date_correct_psc('2019-Jul-01 00:00:00'))\n",
    "print(date_correct_psc('2019-May-10 11:55:26'))"
   ]
  },
  {
   "cell_type": "code",
   "execution_count": 258,
   "metadata": {
    "gather": {
     "logged": 1628313739500
    }
   },
   "outputs": [],
   "source": [
    "state_changes_df[\"Month_Subscribed\"]=state_changes_df[\"Month_Subscribed\"].apply(lambda x: date_correct_psc(x))"
   ]
  },
  {
   "cell_type": "code",
   "execution_count": 259,
   "metadata": {
    "gather": {
     "logged": 1628313757232
    }
   },
   "outputs": [
    {
     "data": {
      "text/html": [
       "<div>\n",
       "<style scoped>\n",
       "    .dataframe tbody tr th:only-of-type {\n",
       "        vertical-align: middle;\n",
       "    }\n",
       "\n",
       "    .dataframe tbody tr th {\n",
       "        vertical-align: top;\n",
       "    }\n",
       "\n",
       "    .dataframe thead th {\n",
       "        text-align: right;\n",
       "    }\n",
       "</style>\n",
       "<table border=\"1\" class=\"dataframe\">\n",
       "  <thead>\n",
       "    <tr style=\"text-align: right;\">\n",
       "      <th></th>\n",
       "      <th>ACCOUNT_NUM.hash</th>\n",
       "      <th>VAS</th>\n",
       "      <th>Month_Subscribed</th>\n",
       "    </tr>\n",
       "  </thead>\n",
       "  <tbody>\n",
       "    <tr>\n",
       "      <th>0</th>\n",
       "      <td>a4e4afaedb57f205bfeff624c39fe49d</td>\n",
       "      <td>V_Single VAS Bundle</td>\n",
       "      <td>2019-06</td>\n",
       "    </tr>\n",
       "    <tr>\n",
       "      <th>1</th>\n",
       "      <td>9c802b6b329dc1e3ba6e6c655a21e65d</td>\n",
       "      <td>E_Referral offer Discount</td>\n",
       "      <td>2020-01</td>\n",
       "    </tr>\n",
       "    <tr>\n",
       "      <th>2</th>\n",
       "      <td>1cf3f313f1060c69dfe814a0e8124f18</td>\n",
       "      <td>V_Absentee service</td>\n",
       "      <td>2019-10</td>\n",
       "    </tr>\n",
       "    <tr>\n",
       "      <th>3</th>\n",
       "      <td>ce8d936fed762bfa12912fb18915b802</td>\n",
       "      <td>V_Hotline Service</td>\n",
       "      <td>2019-06</td>\n",
       "    </tr>\n",
       "    <tr>\n",
       "      <th>4</th>\n",
       "      <td>a4e4afaedb57f205bfeff624c39fe49d</td>\n",
       "      <td>V_Caller Line Identification</td>\n",
       "      <td>2019-06</td>\n",
       "    </tr>\n",
       "    <tr>\n",
       "      <th>...</th>\n",
       "      <td>...</td>\n",
       "      <td>...</td>\n",
       "      <td>...</td>\n",
       "    </tr>\n",
       "    <tr>\n",
       "      <th>3023</th>\n",
       "      <td>3030f90b7118e741f52dd8421a83145a</td>\n",
       "      <td>V_DQ Contact Details</td>\n",
       "      <td>2019-04</td>\n",
       "    </tr>\n",
       "    <tr>\n",
       "      <th>3024</th>\n",
       "      <td>3030f90b7118e741f52dd8421a83145a</td>\n",
       "      <td>AB_Megaline</td>\n",
       "      <td>2019-04</td>\n",
       "    </tr>\n",
       "    <tr>\n",
       "      <th>3025</th>\n",
       "      <td>3030f90b7118e741f52dd8421a83145a</td>\n",
       "      <td>AB_Megaline Startup</td>\n",
       "      <td>2019-04</td>\n",
       "    </tr>\n",
       "    <tr>\n",
       "      <th>3026</th>\n",
       "      <td>3030f90b7118e741f52dd8421a83145a</td>\n",
       "      <td>V_IDD</td>\n",
       "      <td>2019-04</td>\n",
       "    </tr>\n",
       "    <tr>\n",
       "      <th>3027</th>\n",
       "      <td>fbfdb60177fd5265eb5f0dc6a5f786a6</td>\n",
       "      <td>V_Call Forwarding</td>\n",
       "      <td>2020-08</td>\n",
       "    </tr>\n",
       "  </tbody>\n",
       "</table>\n",
       "<p>3028 rows × 3 columns</p>\n",
       "</div>"
      ],
      "text/plain": [
       "                      ACCOUNT_NUM.hash                           VAS  \\\n",
       "0     a4e4afaedb57f205bfeff624c39fe49d           V_Single VAS Bundle   \n",
       "1     9c802b6b329dc1e3ba6e6c655a21e65d     E_Referral offer Discount   \n",
       "2     1cf3f313f1060c69dfe814a0e8124f18            V_Absentee service   \n",
       "3     ce8d936fed762bfa12912fb18915b802             V_Hotline Service   \n",
       "4     a4e4afaedb57f205bfeff624c39fe49d  V_Caller Line Identification   \n",
       "...                                ...                           ...   \n",
       "3023  3030f90b7118e741f52dd8421a83145a          V_DQ Contact Details   \n",
       "3024  3030f90b7118e741f52dd8421a83145a                   AB_Megaline   \n",
       "3025  3030f90b7118e741f52dd8421a83145a           AB_Megaline Startup   \n",
       "3026  3030f90b7118e741f52dd8421a83145a                         V_IDD   \n",
       "3027  fbfdb60177fd5265eb5f0dc6a5f786a6             V_Call Forwarding   \n",
       "\n",
       "     Month_Subscribed  \n",
       "0             2019-06  \n",
       "1             2020-01  \n",
       "2             2019-10  \n",
       "3             2019-06  \n",
       "4             2019-06  \n",
       "...               ...  \n",
       "3023          2019-04  \n",
       "3024          2019-04  \n",
       "3025          2019-04  \n",
       "3026          2019-04  \n",
       "3027          2020-08  \n",
       "\n",
       "[3028 rows x 3 columns]"
      ]
     },
     "execution_count": 259,
     "metadata": {},
     "output_type": "execute_result"
    }
   ],
   "source": [
    "state_changes_df = state_changes_df[[\"ACCOUNT_NUM.hash\",\"VAS\",\"Month_Subscribed\"]]\n",
    "state_changes_df"
   ]
  },
  {
   "cell_type": "code",
   "execution_count": 260,
   "metadata": {
    "gather": {
     "logged": 1628313767236
    }
   },
   "outputs": [
    {
     "data": {
      "text/plain": [
       "414"
      ]
     },
     "execution_count": 260,
     "metadata": {},
     "output_type": "execute_result"
    }
   ],
   "source": [
    "len(state_changes_df[\"ACCOUNT_NUM.hash\"].unique())"
   ]
  },
  {
   "cell_type": "markdown",
   "metadata": {},
   "source": [
    "## VAS Dataframes Merging"
   ]
  },
  {
   "cell_type": "code",
   "execution_count": 261,
   "metadata": {
    "gather": {
     "logged": 1628314804198
    },
    "jupyter": {
     "outputs_hidden": false,
     "source_hidden": false
    },
    "nteract": {
     "transient": {
      "deleting": false
     }
    }
   },
   "outputs": [
    {
     "name": "stdout",
     "output_type": "stream",
     "text": [
      "<class 'pandas.core.frame.DataFrame'>\n",
      "RangeIndex: 31548 entries, 0 to 31547\n",
      "Data columns (total 4 columns):\n",
      " #   Column            Non-Null Count  Dtype \n",
      "---  ------            --------------  ----- \n",
      " 0   ACCOUNT_NUM.hash  31548 non-null  object\n",
      " 1   VAS               31548 non-null  object\n",
      " 2   Month_Subscribed  31548 non-null  object\n",
      " 3   Rental            31548 non-null  object\n",
      "dtypes: object(4)\n",
      "memory usage: 986.0+ KB\n"
     ]
    }
   ],
   "source": [
    "vas_common_df.info()"
   ]
  },
  {
   "cell_type": "code",
   "execution_count": 262,
   "metadata": {
    "gather": {
     "logged": 1628314871024
    },
    "jupyter": {
     "outputs_hidden": false,
     "source_hidden": false
    },
    "nteract": {
     "transient": {
      "deleting": false
     }
    }
   },
   "outputs": [
    {
     "data": {
      "text/plain": [
       "30016"
      ]
     },
     "execution_count": 262,
     "metadata": {},
     "output_type": "execute_result"
    }
   ],
   "source": [
    "len(vas_common_df[\"ACCOUNT_NUM.hash\"].unique())"
   ]
  },
  {
   "cell_type": "markdown",
   "metadata": {},
   "source": [
    "#### Filter only 3000 Users from VAS Common DF"
   ]
  },
  {
   "cell_type": "code",
   "execution_count": 263,
   "metadata": {},
   "outputs": [],
   "source": [
    "uniq_cust = acc_no_map[\"ACCOUNT_NUM.hash\"].unique()"
   ]
  },
  {
   "cell_type": "code",
   "execution_count": 264,
   "metadata": {},
   "outputs": [
    {
     "data": {
      "text/plain": [
       "3218"
      ]
     },
     "execution_count": 264,
     "metadata": {},
     "output_type": "execute_result"
    }
   ],
   "source": [
    "len(uniq_cust)"
   ]
  },
  {
   "cell_type": "code",
   "execution_count": 265,
   "metadata": {},
   "outputs": [],
   "source": [
    "new_v_common_df = vas_common_df[vas_common_df['ACCOUNT_NUM.hash'].isin(uniq_cust)]"
   ]
  },
  {
   "cell_type": "code",
   "execution_count": 266,
   "metadata": {},
   "outputs": [
    {
     "data": {
      "text/plain": [
       "965"
      ]
     },
     "execution_count": 266,
     "metadata": {},
     "output_type": "execute_result"
    }
   ],
   "source": [
    "len(new_v_common_df[\"ACCOUNT_NUM.hash\"])"
   ]
  },
  {
   "cell_type": "code",
   "execution_count": 267,
   "metadata": {},
   "outputs": [
    {
     "data": {
      "text/plain": [
       "526"
      ]
     },
     "execution_count": 267,
     "metadata": {},
     "output_type": "execute_result"
    }
   ],
   "source": [
    "len(new_v_common_df[\"ACCOUNT_NUM.hash\"].unique())"
   ]
  },
  {
   "cell_type": "code",
   "execution_count": 268,
   "metadata": {},
   "outputs": [
    {
     "name": "stdout",
     "output_type": "stream",
     "text": [
      "<class 'pandas.core.frame.DataFrame'>\n",
      "Int64Index: 965 entries, 138 to 31487\n",
      "Data columns (total 4 columns):\n",
      " #   Column            Non-Null Count  Dtype \n",
      "---  ------            --------------  ----- \n",
      " 0   ACCOUNT_NUM.hash  965 non-null    object\n",
      " 1   VAS               965 non-null    object\n",
      " 2   Month_Subscribed  965 non-null    object\n",
      " 3   Rental            965 non-null    object\n",
      "dtypes: object(4)\n",
      "memory usage: 37.7+ KB\n"
     ]
    }
   ],
   "source": [
    "new_v_common_df.info()"
   ]
  },
  {
   "cell_type": "code",
   "execution_count": 269,
   "metadata": {
    "gather": {
     "logged": 1628314759712
    },
    "jupyter": {
     "outputs_hidden": false,
     "source_hidden": false
    },
    "nteract": {
     "transient": {
      "deleting": false
     }
    }
   },
   "outputs": [
    {
     "name": "stdout",
     "output_type": "stream",
     "text": [
      "<class 'pandas.core.frame.DataFrame'>\n",
      "RangeIndex: 1547 entries, 0 to 1546\n",
      "Data columns (total 4 columns):\n",
      " #   Column            Non-Null Count  Dtype \n",
      "---  ------            --------------  ----- \n",
      " 0   ACCOUNT_NUM.hash  1547 non-null   object\n",
      " 1   VAS               1547 non-null   object\n",
      " 2   Month_Subscribed  1547 non-null   object\n",
      " 3   One_Time_Charge   1547 non-null   int64 \n",
      "dtypes: int64(1), object(3)\n",
      "memory usage: 48.5+ KB\n"
     ]
    }
   ],
   "source": [
    "vas_otc_df.info()"
   ]
  },
  {
   "cell_type": "code",
   "execution_count": 270,
   "metadata": {
    "gather": {
     "logged": 1628314638865
    },
    "jupyter": {
     "outputs_hidden": false,
     "source_hidden": false
    },
    "nteract": {
     "transient": {
      "deleting": false
     }
    }
   },
   "outputs": [
    {
     "name": "stdout",
     "output_type": "stream",
     "text": [
      "<class 'pandas.core.frame.DataFrame'>\n",
      "RangeIndex: 670 entries, 0 to 669\n",
      "Data columns (total 4 columns):\n",
      " #   Column            Non-Null Count  Dtype  \n",
      "---  ------            --------------  -----  \n",
      " 0   ACCOUNT_NUM.hash  670 non-null    object \n",
      " 1   VAS               670 non-null    object \n",
      " 2   Month_Subscribed  670 non-null    object \n",
      " 3   Rental            670 non-null    float64\n",
      "dtypes: float64(1), object(3)\n",
      "memory usage: 21.1+ KB\n"
     ]
    }
   ],
   "source": [
    "bb_vas_df.info()"
   ]
  },
  {
   "cell_type": "code",
   "execution_count": 271,
   "metadata": {
    "gather": {
     "logged": 1628314957223
    },
    "jupyter": {
     "outputs_hidden": false,
     "source_hidden": false
    },
    "nteract": {
     "transient": {
      "deleting": false
     }
    }
   },
   "outputs": [
    {
     "name": "stdout",
     "output_type": "stream",
     "text": [
      "<class 'pandas.core.frame.DataFrame'>\n",
      "RangeIndex: 578 entries, 0 to 577\n",
      "Data columns (total 4 columns):\n",
      " #   Column            Non-Null Count  Dtype \n",
      "---  ------            --------------  ----- \n",
      " 0   ACCOUNT_NUM.hash  578 non-null    object\n",
      " 1   VAS               578 non-null    object\n",
      " 2   Month_Subscribed  578 non-null    object\n",
      " 3   Rental            578 non-null    int64 \n",
      "dtypes: int64(1), object(3)\n",
      "memory usage: 18.2+ KB\n"
     ]
    }
   ],
   "source": [
    "vas_DWH_df.info()"
   ]
  },
  {
   "cell_type": "code",
   "execution_count": 272,
   "metadata": {
    "gather": {
     "logged": 1628315407619
    },
    "jupyter": {
     "outputs_hidden": false,
     "source_hidden": false
    },
    "nteract": {
     "transient": {
      "deleting": false
     }
    }
   },
   "outputs": [
    {
     "name": "stdout",
     "output_type": "stream",
     "text": [
      "<class 'pandas.core.frame.DataFrame'>\n",
      "RangeIndex: 3028 entries, 0 to 3027\n",
      "Data columns (total 3 columns):\n",
      " #   Column            Non-Null Count  Dtype \n",
      "---  ------            --------------  ----- \n",
      " 0   ACCOUNT_NUM.hash  3028 non-null   object\n",
      " 1   VAS               3028 non-null   object\n",
      " 2   Month_Subscribed  3028 non-null   object\n",
      "dtypes: object(3)\n",
      "memory usage: 71.1+ KB\n"
     ]
    }
   ],
   "source": [
    "state_changes_df.info()"
   ]
  },
  {
   "cell_type": "code",
   "execution_count": 273,
   "metadata": {
    "gather": {
     "logged": 1628315055769
    },
    "jupyter": {
     "outputs_hidden": false,
     "source_hidden": false
    },
    "nteract": {
     "transient": {
      "deleting": false
     }
    }
   },
   "outputs": [
    {
     "name": "stdout",
     "output_type": "stream",
     "text": [
      "<class 'pandas.core.frame.DataFrame'>\n",
      "Int64Index: 55336 entries, 26825 to 33575\n",
      "Data columns (total 4 columns):\n",
      " #   Column            Non-Null Count  Dtype  \n",
      "---  ------            --------------  -----  \n",
      " 0   ACCOUNT_NUM.hash  55336 non-null  object \n",
      " 1   VAS               55335 non-null  object \n",
      " 2   Month_Subscribed  55336 non-null  object \n",
      " 3   Rental            8386 non-null   float64\n",
      "dtypes: float64(1), object(3)\n",
      "memory usage: 2.1+ MB\n"
     ]
    }
   ],
   "source": [
    "dss_vas_df.info()"
   ]
  },
  {
   "cell_type": "code",
   "execution_count": 274,
   "metadata": {},
   "outputs": [
    {
     "data": {
      "text/plain": [
       "3218"
      ]
     },
     "execution_count": 274,
     "metadata": {},
     "output_type": "execute_result"
    }
   ],
   "source": [
    "len(dss_vas_df[\"ACCOUNT_NUM.hash\"].unique())"
   ]
  },
  {
   "cell_type": "code",
   "execution_count": 275,
   "metadata": {},
   "outputs": [],
   "source": [
    "pcat_df = pcat_df[[\"PRODUCT_NAME\",\"MEDIUM\",\"TARIFF_NAME\",\"TARIFF_DESC\"]].rename(columns={\"PRODUCT_NAME\":\"VAS\"})"
   ]
  },
  {
   "cell_type": "code",
   "execution_count": 276,
   "metadata": {},
   "outputs": [
    {
     "name": "stdout",
     "output_type": "stream",
     "text": [
      "<class 'pandas.core.frame.DataFrame'>\n",
      "RangeIndex: 23 entries, 0 to 22\n",
      "Data columns (total 4 columns):\n",
      " #   Column       Non-Null Count  Dtype \n",
      "---  ------       --------------  ----- \n",
      " 0   VAS          22 non-null     object\n",
      " 1   MEDIUM       22 non-null     object\n",
      " 2   TARIFF_NAME  22 non-null     object\n",
      " 3   TARIFF_DESC  22 non-null     object\n",
      "dtypes: object(4)\n",
      "memory usage: 864.0+ bytes\n"
     ]
    }
   ],
   "source": [
    "pcat_df.info()"
   ]
  },
  {
   "cell_type": "code",
   "execution_count": 277,
   "metadata": {
    "gather": {
     "logged": 1628315420593
    }
   },
   "outputs": [],
   "source": [
    "# Concat dataframes and merge by event_source.hash\n",
    "vas_final_df = pd.concat([new_v_common_df, vas_otc_df, bb_vas_df, vas_DWH_df,state_changes_df,dss_vas_df], ignore_index=True)"
   ]
  },
  {
   "cell_type": "code",
   "execution_count": 278,
   "metadata": {
    "gather": {
     "logged": 1628315516484
    },
    "jupyter": {
     "outputs_hidden": false,
     "source_hidden": false
    },
    "nteract": {
     "transient": {
      "deleting": false
     }
    }
   },
   "outputs": [],
   "source": [
    "#vas_final_df.drop_duplicates([\"ACCOUNT_NUM.hash\",\"VAS\",\"Month_Subscribed\"],inplace=True)"
   ]
  },
  {
   "cell_type": "code",
   "execution_count": 279,
   "metadata": {
    "gather": {
     "logged": 1628315225672
    }
   },
   "outputs": [],
   "source": [
    "vas_final_df.sort_values('Month_Subscribed',inplace=True)"
   ]
  },
  {
   "cell_type": "code",
   "execution_count": 280,
   "metadata": {
    "gather": {
     "logged": 1628315232167
    }
   },
   "outputs": [],
   "source": [
    "vas_final_df.reset_index(inplace=True)\n",
    "vas_final_df.drop([\"index\"],axis=1,inplace=True)"
   ]
  },
  {
   "cell_type": "code",
   "execution_count": 281,
   "metadata": {
    "gather": {
     "logged": 1628315256606
    }
   },
   "outputs": [],
   "source": [
    "vas_final_df = vas_final_df[vas_final_df['ACCOUNT_NUM.hash'].notna()]"
   ]
  },
  {
   "cell_type": "code",
   "execution_count": 282,
   "metadata": {},
   "outputs": [],
   "source": [
    "vas_final_df = vas_final_df.merge(pcat_df, how=\"left\",on=\"VAS\")"
   ]
  },
  {
   "cell_type": "code",
   "execution_count": 283,
   "metadata": {
    "gather": {
     "logged": 1628315434618
    }
   },
   "outputs": [
    {
     "name": "stdout",
     "output_type": "stream",
     "text": [
      "<class 'pandas.core.frame.DataFrame'>\n",
      "Int64Index: 62124 entries, 0 to 62123\n",
      "Data columns (total 8 columns):\n",
      " #   Column            Non-Null Count  Dtype  \n",
      "---  ------            --------------  -----  \n",
      " 0   ACCOUNT_NUM.hash  62124 non-null  object \n",
      " 1   VAS               62123 non-null  object \n",
      " 2   Month_Subscribed  62124 non-null  object \n",
      " 3   Rental            10599 non-null  object \n",
      " 4   One_Time_Charge   1547 non-null   float64\n",
      " 5   MEDIUM            55794 non-null  object \n",
      " 6   TARIFF_NAME       55794 non-null  object \n",
      " 7   TARIFF_DESC       55794 non-null  object \n",
      "dtypes: float64(1), object(7)\n",
      "memory usage: 4.3+ MB\n"
     ]
    }
   ],
   "source": [
    "vas_final_df.info()"
   ]
  },
  {
   "cell_type": "code",
   "execution_count": 284,
   "metadata": {
    "gather": {
     "logged": 1628315274570
    }
   },
   "outputs": [
    {
     "data": {
      "text/plain": [
       "3304"
      ]
     },
     "execution_count": 284,
     "metadata": {},
     "output_type": "execute_result"
    }
   ],
   "source": [
    "len(vas_final_df[\"ACCOUNT_NUM.hash\"].unique())"
   ]
  },
  {
   "cell_type": "code",
   "execution_count": 285,
   "metadata": {},
   "outputs": [
    {
     "data": {
      "text/plain": [
       "129"
      ]
     },
     "execution_count": 285,
     "metadata": {},
     "output_type": "execute_result"
    }
   ],
   "source": [
    "len(vas_final_df[\"VAS\"].unique())"
   ]
  },
  {
   "cell_type": "markdown",
   "metadata": {},
   "source": [
    "## Notes\n",
    "- Plus1, Basic1, Plus4 etc. are different packages of TeleLife\n",
    "- V - Voice, P/E - Peo TV, B - BroadBand (Category based on Users Subscription)"
   ]
  },
  {
   "cell_type": "code",
   "execution_count": null,
   "metadata": {},
   "outputs": [],
   "source": []
  },
  {
   "cell_type": "markdown",
   "metadata": {
    "nteract": {
     "transient": {
      "deleting": false
     }
    }
   },
   "source": [
    "### Free Packages"
   ]
  },
  {
   "cell_type": "code",
   "execution_count": 286,
   "metadata": {},
   "outputs": [],
   "source": [
    "free_packages = [ 'V_Call Forwarding Offline',\n",
    "       'V_Anonymous call barring', 'V_Call back on busy',\n",
    "       'V_CLI presentation in call waiting', 'V_Incoming Call Memory',\n",
    "       'V_Call park', 'BB_Personal Storage',\n",
    "       'V_Call Forwarding by time', \n",
    "       'V_Outgoing Call Memory', \n",
    "       'V_Incoming Call Transfer', \n",
    "       'V_Call holding', 'E_PeoTV Initiation',\n",
    "       'V_Call Transfer Three way','V_Selective call acceptance', 'V_Selective call rejection',\n",
    "       'V_Call Forwarding-Immediate', 'V_Call Forwarding-On Busy',\n",
    "       'V_Call Waiting', 'V_Call Forwarding-No Answer', 'V_Secretary service', \n",
    "       'V_Call Forwarding', 'V_Absentee service','E_TSTV',\n",
    "       'V_Call Forwarding - On Busy', 'V_Call Forwarding - No Answer',\n",
    "       'V_Abbreviated Dialing', 'P_Incoming Call Memory', 'P_Call Forwarding by time',\n",
    "       'P_CLI presentation in call waiting', 'V_Password call barring (secret code)',\n",
    "       'P_Anonymous call barring', 'P_Call back on busy',\n",
    "       'P_Outgoing Call Memory', 'P_Call Forwarding Offline',\"AB_Initiation Charge - 4G Biz Pal\",\n",
    "       'P_Call holding', 'P_Call Transfer Three way','V_Short Message Service',\n",
    "       'P_Incoming Call Transfer',  'V_Call Forwarding - Immediate','BB Personal Storage',\n",
    "       'DQ_Contact Details', 'P_SLT CLI', 'V_Do not disturb service','V_Hotline Service', \n",
    "       'V_Basic Phone', 'V_Call forwarding selective',\"V_Hotline Immediate\",'V_Selective call waiting',  'V_IDD',\n",
    "       'V_Caller name identificationPresentation', 'V_Caller name sending', 'V_Triple VAS Bundle','V_DQ Contact Details',\n",
    "       'V_Call Forwarding Offline','V_Complete call on no response','V_Double VAS Bundle','V_Single VAS Bundle','BB_PeoTVGO',\n",
    "       'V_Call Barring - Outgoing']"
   ]
  },
  {
   "cell_type": "code",
   "execution_count": 288,
   "metadata": {},
   "outputs": [],
   "source": [
    "VAS_List = ['P-Basic1_Tele Life', 'V-Plus4_TeleLife', 'P-Plus1_Tele Life',\n",
    "       'V_Telehealth', 'V-Plus1_TeleLife', 'V-Basic1_TeleLife',\n",
    "       'C-Basic1_Tele Life',  \n",
    "       'V_Sisu Connect', \n",
    "       'P_Sisu Connect', 'P-Plus4_Tele Life',\n",
    "       'P-Basic2_Tele Life', 'V-Basic4_TeleLife', 'C_Sisu Connect',\n",
    "       'V-Basic2_TeleLife', 'BB_Detailed Reports ', \n",
    "       'BB_ Entertainment Unlimited','BB_SLT Film Hall Service', \n",
    "       'V_E-channeling Registration', 'P-Basic4_Tele Life',\n",
    "       'V_E-channeling Subscription', 'OTT_SLT PeoTV Go',\n",
    "       'Package Rental Through ADSL', \n",
    "        'E_Video on Demand',\n",
    "       'E_PeoTV_Package Transfer', \n",
    "       'AB_Citylink Loyalty Rewards', 'V_Cordeless Phone - Installment',\n",
    "       'M_Activation Charge', 'AB_Additional Distance',\n",
    "       'V_Hotline-Immediate', \n",
    "       'V_Hotline-Time Delayed', 'AB_Service Vacation',\n",
    "       'V_Railway Registration', 'V_Detailed Bill',\n",
    "        'AB_Rental Free',\n",
    "       'PEO TV GO_OTT_A-la carte channels', \n",
    "       'P_Call park', 'P_IDD',\n",
    "       'P_Additional features -Double VAS Bundle',\n",
    "       'V_One-Time Detailed Bill', 'BB_PeoTVGO Revenue code',\n",
    "       'PeoTVGo_Channel Package',\n",
    "       'V_Installment', 'V_Basic Phone Installment',\n",
    "       'AB_Referral offer Discount', 'V_Referral offer Discount',\n",
    "       'E_Referral offer Discount', 'BB_Report Subscription Charge',\n",
    "       'V_Miscellaneous Service',\n",
    "       'P_One-Time Detailed Bill', 'P_Removal of Int & Parallel Ext',\n",
    "       'BB_YouTube Bundle', 'Meet Lite',\n",
    "       'Meet Max', 'Edu Lite', 'BB_Messenger Bundle',\n",
    "        \"E_SLTemail\", \"Domain Name Registration Bundle\",\n",
    "        \"I_Domain Name Registration\",\"IDC- Biz Virtual Mail Server Bundle\",\n",
    "        \"I_DNS Hosting\", \"IDC- Biz Virtual Mail Server\",\n",
    "        \"IDC_Shared Hosting Service Bundle\", \"IDC_Shared Hosting Service\",\n",
    "        \"I_DNS Hosting Promotion\", \"I_DNS Hosting\", \"M_Revenue Commitment Package Bundle\",\n",
    "        \"M_Revenue Commitment Package\", \"V_Revenue Commitment Package\",\n",
    "        \"I_myBILL Service Bundle\", \"I_myBILL Service\",\n",
    "        \"C_Smart Dial Commitment Bundle\", \"C_Smart Dial Commitment\",\n",
    "        \"C_Smart Dial Group Bundle\",\"C_Smart Dial Group\",\n",
    "        \"D_Peo TV Equipment Replacement/ Recovery\",\n",
    "        \"M Fibre Access Bearer Condominium\", \"DIG_SLT CCTV\", \"BB_Enterprise Bulk GB\"]"
   ]
  },
  {
   "cell_type": "code",
   "execution_count": 289,
   "metadata": {},
   "outputs": [],
   "source": [
    "non_VAS = ['AB_WireLess Access','FTTH_Gamer Lite Subscription', 'Megaline_Gamer Lite Subscription',\n",
    "           'AB_Parallel line Installation','AB_Copper Access Bearer',\n",
    "           'V_Voice Startup Fee','AB_Fiber Access Bearer','E_SLT PeoTV Service'\n",
    "           'E_PeoTV Initiation', 'AB_Megaline','AB_Megaline Startup','P_Megaline New Connection', 'P_Megaline',\n",
    "           'BB_SLT BroadBand Service','AB_Relocation' , 'V_SLT Voice Service']"
   ]
  },
  {
   "cell_type": "code",
   "execution_count": 291,
   "metadata": {},
   "outputs": [],
   "source": [
    "promotions = [\"SLT LTE 4G Biz Pal Package\",\"SLT LTE 4G Net Pal Package\",\"SLT LTE 4G Voice Pal Basic Package\",\n",
    "             \"SLT LTE Double Play Package\",\"SLT Megaline Double Play (BV) Package\",\n",
    "             \"SLT Megaline Double Play (PV) Package\",\"SLT Megaline Triple Play Package\",\n",
    "             \"SLT Megaline Single Play -SisuConnect School Phone\",\"SLT Smartline Double Play (BV)\",\n",
    "              \"SLT Smartline Triple Play\",\"SLTemail Promotion\",\"Domain Name Registration Bundle\",\n",
    "              \"IDC- Biz Virtual Mail Server Bundle\",\"IDC_Shared Hosting Service Bundle\",\n",
    "              \"I_DNS Hosting Promotion\",\"M_Revenue Commitment Package Bundle\",\"I_myBILL Service Bundle\",\n",
    "              \"C_Smart Dial Commitment Bundle\",\"C_Smart Dial Group Bundle\"\n",
    "             ]"
   ]
  },
  {
   "cell_type": "code",
   "execution_count": 292,
   "metadata": {},
   "outputs": [],
   "source": [
    "def prod_type(vas,med):\n",
    "    if not isinstance(vas, float):\n",
    "        if \"FTTH\" in vas or \"Fiber\" in vas:\n",
    "            return \"FTTH\"\n",
    "        if \"Megaline\" in vas:\n",
    "            return \"Megaline\"\n",
    "        if \"LTE\" in vas:\n",
    "            return \"LTE\"\n",
    "    if not isinstance(med, float):\n",
    "        if \"C\" in med or \"MC\" in med:\n",
    "            return \"Megaline\"\n",
    "        if \"F\" in med:\n",
    "            return \"FTTH\"\n",
    "        if \"L\" in med:\n",
    "            return \"LTE\""
   ]
  },
  {
   "cell_type": "code",
   "execution_count": 293,
   "metadata": {},
   "outputs": [],
   "source": [
    "def vas_bucketizer(vas):\n",
    "    if not isinstance(vas, float):\n",
    "        if \"V_\" in vas or \"V-\" in vas:\n",
    "            category=\"Voice\"\n",
    "        elif \"Peo\" in vas or \"PEO\" in vas or \"E_\" in vas:\n",
    "            category=\"PeoTV\"\n",
    "        elif \"BB\" in vas:\n",
    "            category=\"BB\"\n",
    "        else:\n",
    "            category=\"Other\"\n",
    "        return category"
   ]
  },
  {
   "cell_type": "code",
   "execution_count": 294,
   "metadata": {},
   "outputs": [],
   "source": [
    "def is_vas(vas):\n",
    "    if not isinstance(vas, float):\n",
    "        for pack in VAS_List:\n",
    "            if vas in pack:\n",
    "                return \"YES\"\n",
    "        return \"NO\""
   ]
  },
  {
   "cell_type": "code",
   "execution_count": 295,
   "metadata": {},
   "outputs": [],
   "source": [
    "def paid_free(vas):\n",
    "    if not isinstance(vas, float):\n",
    "        for pack in free_packages:\n",
    "            if vas in pack:\n",
    "                return \"FREE\"\n",
    "        return \"PAID\""
   ]
  },
  {
   "cell_type": "code",
   "execution_count": 296,
   "metadata": {},
   "outputs": [],
   "source": [
    "def is_sub(vas):\n",
    "    if not isinstance(vas, float):\n",
    "        for pack in non_VAS:\n",
    "            if vas in pack:\n",
    "                return \"YES\"\n",
    "        return \"NO\""
   ]
  },
  {
   "cell_type": "code",
   "execution_count": 297,
   "metadata": {},
   "outputs": [],
   "source": [
    "def remove_prefix(vas):\n",
    "    if not isinstance(vas, float):\n",
    "        return vas.replace(\"V_\",\"\").replace(\"V-\",\"\").replace(\"P_\",\"\").replace(\"E_\",\"\").replace(\"E-\",\"\")\\\n",
    "        .replace(\"P-\",\"\").replace(\"C_\",\"\").replace(\"C-\",\"\").replace(\"_\",\" \").replace(\"-\",\" \").replace(\"  \",\" \")\\\n",
    "        .replace(\"   \",\" \").replace(\"Tele Life\",\"TeleLife\").replace(\"channeling\",\"E channeling\")\n",
    "        "
   ]
  },
  {
   "cell_type": "code",
   "execution_count": 298,
   "metadata": {},
   "outputs": [],
   "source": [
    "vas_final_df[\"Package_Type\"]=vas_final_df[\"VAS\"].apply(lambda x: vas_bucketizer(x))"
   ]
  },
  {
   "cell_type": "code",
   "execution_count": 299,
   "metadata": {
    "jupyter": {
     "outputs_hidden": false,
     "source_hidden": false
    },
    "nteract": {
     "transient": {
      "deleting": false
     }
    }
   },
   "outputs": [],
   "source": [
    "vas_final_df[\"Product_Type\"] = vas_final_df.apply(lambda x: prod_type(x[\"VAS\"],x[\"MEDIUM\"]),axis=1)"
   ]
  },
  {
   "cell_type": "code",
   "execution_count": 300,
   "metadata": {
    "jupyter": {
     "outputs_hidden": false,
     "source_hidden": false
    },
    "nteract": {
     "transient": {
      "deleting": false
     }
    }
   },
   "outputs": [],
   "source": [
    "vas_final_df[\"is_VAS\"] = vas_final_df[\"VAS\"].apply(lambda x: is_vas(x))"
   ]
  },
  {
   "cell_type": "code",
   "execution_count": 301,
   "metadata": {
    "jupyter": {
     "outputs_hidden": false,
     "source_hidden": false
    },
    "nteract": {
     "transient": {
      "deleting": false
     }
    }
   },
   "outputs": [],
   "source": [
    "vas_final_df[\"is_Subscription\"] = vas_final_df[\"VAS\"].apply(lambda x: is_sub(x))"
   ]
  },
  {
   "cell_type": "code",
   "execution_count": 302,
   "metadata": {},
   "outputs": [],
   "source": [
    "vas_final_df[\"FREE_or_PAID\"] = vas_final_df[\"VAS\"].apply(lambda x: paid_free(x))"
   ]
  },
  {
   "cell_type": "code",
   "execution_count": 303,
   "metadata": {},
   "outputs": [],
   "source": [
    "vas_final_df[\"VAS\"] = vas_final_df[\"VAS\"].apply(lambda x: remove_prefix(x))"
   ]
  },
  {
   "cell_type": "code",
   "execution_count": 304,
   "metadata": {
    "jupyter": {
     "outputs_hidden": false,
     "source_hidden": false
    },
    "nteract": {
     "transient": {
      "deleting": false
     }
    }
   },
   "outputs": [],
   "source": [
    "vas_final_df.rename(columns={\"VAS\":\"Package\"},inplace=True)"
   ]
  },
  {
   "cell_type": "code",
   "execution_count": 305,
   "metadata": {},
   "outputs": [
    {
     "name": "stdout",
     "output_type": "stream",
     "text": [
      "<class 'pandas.core.frame.DataFrame'>\n",
      "Int64Index: 62124 entries, 0 to 62123\n",
      "Data columns (total 13 columns):\n",
      " #   Column            Non-Null Count  Dtype  \n",
      "---  ------            --------------  -----  \n",
      " 0   ACCOUNT_NUM.hash  62124 non-null  object \n",
      " 1   Package           62123 non-null  object \n",
      " 2   Month_Subscribed  62124 non-null  object \n",
      " 3   Rental            10599 non-null  object \n",
      " 4   One_Time_Charge   1547 non-null   float64\n",
      " 5   MEDIUM            55794 non-null  object \n",
      " 6   TARIFF_NAME       55794 non-null  object \n",
      " 7   TARIFF_DESC       55794 non-null  object \n",
      " 8   Package_Type      62123 non-null  object \n",
      " 9   Product_Type      55908 non-null  object \n",
      " 10  is_VAS            62123 non-null  object \n",
      " 11  is_Subscription   62123 non-null  object \n",
      " 12  FREE_or_PAID      62123 non-null  object \n",
      "dtypes: float64(1), object(12)\n",
      "memory usage: 6.6+ MB\n"
     ]
    }
   ],
   "source": [
    "vas_final_df.info()"
   ]
  },
  {
   "cell_type": "code",
   "execution_count": 306,
   "metadata": {},
   "outputs": [
    {
     "data": {
      "text/plain": [
       "Voice    22120\n",
       "Other    21369\n",
       "BB       10640\n",
       "PeoTV     7994\n",
       "Name: Package_Type, dtype: int64"
      ]
     },
     "execution_count": 306,
     "metadata": {},
     "output_type": "execute_result"
    }
   ],
   "source": [
    "vas_final_df[\"Package_Type\"].value_counts()"
   ]
  },
  {
   "cell_type": "code",
   "execution_count": 307,
   "metadata": {},
   "outputs": [
    {
     "data": {
      "text/plain": [
       "Megaline    55581\n",
       "FTTH          327\n",
       "Name: Product_Type, dtype: int64"
      ]
     },
     "execution_count": 307,
     "metadata": {},
     "output_type": "execute_result"
    }
   ],
   "source": [
    "vas_final_df[\"Product_Type\"].value_counts()"
   ]
  },
  {
   "cell_type": "code",
   "execution_count": 308,
   "metadata": {},
   "outputs": [
    {
     "data": {
      "text/plain": [
       "MC    55104\n",
       "C       690\n",
       "Name: MEDIUM, dtype: int64"
      ]
     },
     "execution_count": 308,
     "metadata": {},
     "output_type": "execute_result"
    }
   ],
   "source": [
    "vas_final_df[\"MEDIUM\"].value_counts()"
   ]
  },
  {
   "cell_type": "code",
   "execution_count": 309,
   "metadata": {
    "scrolled": true
   },
   "outputs": [],
   "source": [
    "new_df = vas_final_df[[\"Package\",\"Package_Type\"]].value_counts()"
   ]
  },
  {
   "cell_type": "code",
   "execution_count": 310,
   "metadata": {},
   "outputs": [],
   "source": [
    "new_df.to_csv(\"data/product_catalog/user_counts_on_Package.csv\")"
   ]
  },
  {
   "cell_type": "code",
   "execution_count": 311,
   "metadata": {},
   "outputs": [],
   "source": [
    "vas_final_df.to_csv(\"data/user_profile/Package_Final_list.csv\")"
   ]
  },
  {
   "cell_type": "markdown",
   "metadata": {},
   "source": [
    "## PeoTV Extra Channel Purchase Analysis"
   ]
  },
  {
   "cell_type": "code",
   "execution_count": 312,
   "metadata": {},
   "outputs": [
    {
     "name": "stdout",
     "output_type": "stream",
     "text": [
      "<class 'pandas.core.frame.DataFrame'>\n",
      "Int64Index: 62124 entries, 0 to 62123\n",
      "Data columns (total 13 columns):\n",
      " #   Column            Non-Null Count  Dtype  \n",
      "---  ------            --------------  -----  \n",
      " 0   ACCOUNT_NUM.hash  62124 non-null  object \n",
      " 1   Package           62123 non-null  object \n",
      " 2   Month_Subscribed  62124 non-null  object \n",
      " 3   Rental            10599 non-null  object \n",
      " 4   One_Time_Charge   1547 non-null   float64\n",
      " 5   MEDIUM            55794 non-null  object \n",
      " 6   TARIFF_NAME       55794 non-null  object \n",
      " 7   TARIFF_DESC       55794 non-null  object \n",
      " 8   Package_Type      62123 non-null  object \n",
      " 9   Product_Type      55908 non-null  object \n",
      " 10  is_VAS            62123 non-null  object \n",
      " 11  is_Subscription   62123 non-null  object \n",
      " 12  FREE_or_PAID      62123 non-null  object \n",
      "dtypes: float64(1), object(12)\n",
      "memory usage: 6.6+ MB\n"
     ]
    }
   ],
   "source": [
    "vas_final_df.info()"
   ]
  },
  {
   "cell_type": "code",
   "execution_count": 313,
   "metadata": {},
   "outputs": [
    {
     "data": {
      "text/plain": [
       "array(['BB PeoTVGO', 'SLT PeoTV Service', 'OTT SLT PeoTV Go', 'TSTV',\n",
       "       'PeoTV Initiation', 'Video on Demand',\n",
       "       'PEO TV GO OTT A la carte channels', 'PeoTVGo Channel Package',\n",
       "       'BB PeoTVGO Revenue code', 'Referral offer Discount'], dtype=object)"
      ]
     },
     "execution_count": 313,
     "metadata": {},
     "output_type": "execute_result"
    }
   ],
   "source": [
    "vas_final_df[(vas_final_df[\"Package_Type\"] == \"PeoTV\")][\"Package\"].unique()"
   ]
  },
  {
   "cell_type": "code",
   "execution_count": 314,
   "metadata": {},
   "outputs": [
    {
     "name": "stderr",
     "output_type": "stream",
     "text": [
      "C:\\ProgramData\\Anaconda3\\lib\\site-packages\\pandas\\core\\frame.py:4308: SettingWithCopyWarning: \n",
      "A value is trying to be set on a copy of a slice from a DataFrame\n",
      "\n",
      "See the caveats in the documentation: https://pandas.pydata.org/pandas-docs/stable/user_guide/indexing.html#returning-a-view-versus-a-copy\n",
      "  return super().drop(\n"
     ]
    }
   ],
   "source": [
    "extra_Peo_df= vas_final_df[(vas_final_df[\"Package\"]==\"PEO TV GO OTT A la carte channels\") | (vas_final_df[\"Package\"]==\"PeoTVGo Channel Package\")]\n",
    "extra_Peo_df.reset_index(inplace=True)\n",
    "extra_Peo_df.drop([\"index\"],axis=1,inplace=True)"
   ]
  },
  {
   "cell_type": "code",
   "execution_count": 315,
   "metadata": {},
   "outputs": [],
   "source": [
    "extra_Peo_df= extra_Peo_df[[\"ACCOUNT_NUM.hash\",\"Package\",\"Month_Subscribed\",\"Rental\"]]"
   ]
  },
  {
   "cell_type": "code",
   "execution_count": 316,
   "metadata": {},
   "outputs": [
    {
     "data": {
      "text/html": [
       "<div>\n",
       "<style scoped>\n",
       "    .dataframe tbody tr th:only-of-type {\n",
       "        vertical-align: middle;\n",
       "    }\n",
       "\n",
       "    .dataframe tbody tr th {\n",
       "        vertical-align: top;\n",
       "    }\n",
       "\n",
       "    .dataframe thead th {\n",
       "        text-align: right;\n",
       "    }\n",
       "</style>\n",
       "<table border=\"1\" class=\"dataframe\">\n",
       "  <thead>\n",
       "    <tr style=\"text-align: right;\">\n",
       "      <th></th>\n",
       "      <th>ACCOUNT_NUM.hash</th>\n",
       "      <th>Package</th>\n",
       "      <th>Month_Subscribed</th>\n",
       "      <th>Rental</th>\n",
       "    </tr>\n",
       "  </thead>\n",
       "  <tbody>\n",
       "    <tr>\n",
       "      <th>0</th>\n",
       "      <td>808b95c7008ba4241493ae938e63012e</td>\n",
       "      <td>PEO TV GO OTT A la carte channels</td>\n",
       "      <td>2019-07</td>\n",
       "      <td>100</td>\n",
       "    </tr>\n",
       "    <tr>\n",
       "      <th>1</th>\n",
       "      <td>d54af3961d00eb3e721ce7cc7574e4b4</td>\n",
       "      <td>PEO TV GO OTT A la carte channels</td>\n",
       "      <td>2019-07</td>\n",
       "      <td>100</td>\n",
       "    </tr>\n",
       "    <tr>\n",
       "      <th>2</th>\n",
       "      <td>494de320778db98d7fa1751e8d60064c</td>\n",
       "      <td>PEO TV GO OTT A la carte channels</td>\n",
       "      <td>2019-07</td>\n",
       "      <td>50</td>\n",
       "    </tr>\n",
       "    <tr>\n",
       "      <th>3</th>\n",
       "      <td>494de320778db98d7fa1751e8d60064c</td>\n",
       "      <td>PEO TV GO OTT A la carte channels</td>\n",
       "      <td>2019-07</td>\n",
       "      <td>100</td>\n",
       "    </tr>\n",
       "    <tr>\n",
       "      <th>4</th>\n",
       "      <td>446b44a4a65b65b4cf09e783683b4df2</td>\n",
       "      <td>PEO TV GO OTT A la carte channels</td>\n",
       "      <td>2019-07</td>\n",
       "      <td>100</td>\n",
       "    </tr>\n",
       "    <tr>\n",
       "      <th>...</th>\n",
       "      <td>...</td>\n",
       "      <td>...</td>\n",
       "      <td>...</td>\n",
       "      <td>...</td>\n",
       "    </tr>\n",
       "    <tr>\n",
       "      <th>493</th>\n",
       "      <td>41d2c3d7ffdefd4cdfb8227b52bdc37f</td>\n",
       "      <td>PeoTVGo Channel Package</td>\n",
       "      <td>2020-08</td>\n",
       "      <td>350</td>\n",
       "    </tr>\n",
       "    <tr>\n",
       "      <th>494</th>\n",
       "      <td>e7bfef3276f6c0027bb79e98ae7fcdce</td>\n",
       "      <td>PEO TV GO OTT A la carte channels</td>\n",
       "      <td>2020-08</td>\n",
       "      <td>100</td>\n",
       "    </tr>\n",
       "    <tr>\n",
       "      <th>495</th>\n",
       "      <td>639eee857314ce7dd39ca7a84eb56529</td>\n",
       "      <td>PEO TV GO OTT A la carte channels</td>\n",
       "      <td>2020-08</td>\n",
       "      <td>100</td>\n",
       "    </tr>\n",
       "    <tr>\n",
       "      <th>496</th>\n",
       "      <td>2259de9b81a352a02bcddf28bdedde6f</td>\n",
       "      <td>PEO TV GO OTT A la carte channels</td>\n",
       "      <td>2020-08</td>\n",
       "      <td>100</td>\n",
       "    </tr>\n",
       "    <tr>\n",
       "      <th>497</th>\n",
       "      <td>2b1f1161870583f0b5280e0c5d629c78</td>\n",
       "      <td>PEO TV GO OTT A la carte channels</td>\n",
       "      <td>2020-08</td>\n",
       "      <td>100</td>\n",
       "    </tr>\n",
       "  </tbody>\n",
       "</table>\n",
       "<p>498 rows × 4 columns</p>\n",
       "</div>"
      ],
      "text/plain": [
       "                     ACCOUNT_NUM.hash                            Package  \\\n",
       "0    808b95c7008ba4241493ae938e63012e  PEO TV GO OTT A la carte channels   \n",
       "1    d54af3961d00eb3e721ce7cc7574e4b4  PEO TV GO OTT A la carte channels   \n",
       "2    494de320778db98d7fa1751e8d60064c  PEO TV GO OTT A la carte channels   \n",
       "3    494de320778db98d7fa1751e8d60064c  PEO TV GO OTT A la carte channels   \n",
       "4    446b44a4a65b65b4cf09e783683b4df2  PEO TV GO OTT A la carte channels   \n",
       "..                                ...                                ...   \n",
       "493  41d2c3d7ffdefd4cdfb8227b52bdc37f            PeoTVGo Channel Package   \n",
       "494  e7bfef3276f6c0027bb79e98ae7fcdce  PEO TV GO OTT A la carte channels   \n",
       "495  639eee857314ce7dd39ca7a84eb56529  PEO TV GO OTT A la carte channels   \n",
       "496  2259de9b81a352a02bcddf28bdedde6f  PEO TV GO OTT A la carte channels   \n",
       "497  2b1f1161870583f0b5280e0c5d629c78  PEO TV GO OTT A la carte channels   \n",
       "\n",
       "    Month_Subscribed Rental  \n",
       "0            2019-07    100  \n",
       "1            2019-07    100  \n",
       "2            2019-07     50  \n",
       "3            2019-07    100  \n",
       "4            2019-07    100  \n",
       "..               ...    ...  \n",
       "493          2020-08    350  \n",
       "494          2020-08    100  \n",
       "495          2020-08    100  \n",
       "496          2020-08    100  \n",
       "497          2020-08    100  \n",
       "\n",
       "[498 rows x 4 columns]"
      ]
     },
     "execution_count": 316,
     "metadata": {},
     "output_type": "execute_result"
    }
   ],
   "source": [
    "extra_Peo_df"
   ]
  },
  {
   "cell_type": "code",
   "execution_count": 317,
   "metadata": {},
   "outputs": [],
   "source": [
    "extra_Peo_df.to_csv(\"data/user_profile/Peo_Extra_Peo_Usage.csv\")"
   ]
  },
  {
   "cell_type": "code",
   "execution_count": 318,
   "metadata": {},
   "outputs": [
    {
     "data": {
      "text/plain": [
       "array(['2019-07', '2019-08', '2019-09', '2019-10', '2019-11', '2019-12',\n",
       "       '2020-01', '2020-02', '2020-03', '2020-04', '2020-05', '2020-06',\n",
       "       '2020-07', '2020-08'], dtype=object)"
      ]
     },
     "execution_count": 318,
     "metadata": {},
     "output_type": "execute_result"
    }
   ],
   "source": [
    "extra_Peo_df[\"Month_Subscribed\"].unique()"
   ]
  },
  {
   "cell_type": "code",
   "execution_count": 319,
   "metadata": {},
   "outputs": [
    {
     "data": {
      "text/plain": [
       "51"
      ]
     },
     "execution_count": 319,
     "metadata": {},
     "output_type": "execute_result"
    }
   ],
   "source": [
    "len(extra_Peo_df[\"ACCOUNT_NUM.hash\"].unique())"
   ]
  },
  {
   "cell_type": "markdown",
   "metadata": {},
   "source": [
    "#### Extra PeoTV Channels Usage pivot matrix"
   ]
  },
  {
   "cell_type": "code",
   "execution_count": 320,
   "metadata": {},
   "outputs": [],
   "source": [
    "extra_Peo_pivot_df = pd.pivot_table(extra_Peo_df[[\"ACCOUNT_NUM.hash\",\"Month_Subscribed\",\"Rental\"]],index=['ACCOUNT_NUM.hash'],columns=['Month_Subscribed'], aggfunc=np.sum, fill_value=0)"
   ]
  },
  {
   "cell_type": "code",
   "execution_count": 321,
   "metadata": {},
   "outputs": [
    {
     "data": {
      "text/html": [
       "<div>\n",
       "<style scoped>\n",
       "    .dataframe tbody tr th:only-of-type {\n",
       "        vertical-align: middle;\n",
       "    }\n",
       "\n",
       "    .dataframe tbody tr th {\n",
       "        vertical-align: top;\n",
       "    }\n",
       "\n",
       "    .dataframe thead tr th {\n",
       "        text-align: left;\n",
       "    }\n",
       "\n",
       "    .dataframe thead tr:last-of-type th {\n",
       "        text-align: right;\n",
       "    }\n",
       "</style>\n",
       "<table border=\"1\" class=\"dataframe\">\n",
       "  <thead>\n",
       "    <tr>\n",
       "      <th></th>\n",
       "      <th colspan=\"14\" halign=\"left\">Rental</th>\n",
       "    </tr>\n",
       "    <tr>\n",
       "      <th>Month_Subscribed</th>\n",
       "      <th>2019-07</th>\n",
       "      <th>2019-08</th>\n",
       "      <th>2019-09</th>\n",
       "      <th>2019-10</th>\n",
       "      <th>2019-11</th>\n",
       "      <th>2019-12</th>\n",
       "      <th>2020-01</th>\n",
       "      <th>2020-02</th>\n",
       "      <th>2020-03</th>\n",
       "      <th>2020-04</th>\n",
       "      <th>2020-05</th>\n",
       "      <th>2020-06</th>\n",
       "      <th>2020-07</th>\n",
       "      <th>2020-08</th>\n",
       "    </tr>\n",
       "    <tr>\n",
       "      <th>ACCOUNT_NUM.hash</th>\n",
       "      <th></th>\n",
       "      <th></th>\n",
       "      <th></th>\n",
       "      <th></th>\n",
       "      <th></th>\n",
       "      <th></th>\n",
       "      <th></th>\n",
       "      <th></th>\n",
       "      <th></th>\n",
       "      <th></th>\n",
       "      <th></th>\n",
       "      <th></th>\n",
       "      <th></th>\n",
       "      <th></th>\n",
       "    </tr>\n",
       "  </thead>\n",
       "  <tbody>\n",
       "    <tr>\n",
       "      <th>0f46a3bf356fee36239f081e103da76b</th>\n",
       "      <td>100</td>\n",
       "      <td>100</td>\n",
       "      <td>100</td>\n",
       "      <td>100</td>\n",
       "      <td>100</td>\n",
       "      <td>100</td>\n",
       "      <td>100</td>\n",
       "      <td>100</td>\n",
       "      <td>100</td>\n",
       "      <td>100</td>\n",
       "      <td>100</td>\n",
       "      <td>100</td>\n",
       "      <td>100</td>\n",
       "      <td>100</td>\n",
       "    </tr>\n",
       "    <tr>\n",
       "      <th>1c4c0f12a0352e8aaf58602ecf64e877</th>\n",
       "      <td>100</td>\n",
       "      <td>100</td>\n",
       "      <td>100</td>\n",
       "      <td>100</td>\n",
       "      <td>100</td>\n",
       "      <td>100</td>\n",
       "      <td>100</td>\n",
       "      <td>100</td>\n",
       "      <td>100</td>\n",
       "      <td>450</td>\n",
       "      <td>450</td>\n",
       "      <td>450</td>\n",
       "      <td>450</td>\n",
       "      <td>450</td>\n",
       "    </tr>\n",
       "    <tr>\n",
       "      <th>204773567701102c4acf8fda9eaccfdd</th>\n",
       "      <td>100</td>\n",
       "      <td>100</td>\n",
       "      <td>100</td>\n",
       "      <td>100</td>\n",
       "      <td>100</td>\n",
       "      <td>100</td>\n",
       "      <td>100</td>\n",
       "      <td>100</td>\n",
       "      <td>100</td>\n",
       "      <td>100</td>\n",
       "      <td>100</td>\n",
       "      <td>100</td>\n",
       "      <td>100</td>\n",
       "      <td>100</td>\n",
       "    </tr>\n",
       "    <tr>\n",
       "      <th>21e2a94960106171ac59b4a319087d42</th>\n",
       "      <td>100</td>\n",
       "      <td>100</td>\n",
       "      <td>100</td>\n",
       "      <td>100</td>\n",
       "      <td>100</td>\n",
       "      <td>100</td>\n",
       "      <td>100</td>\n",
       "      <td>100</td>\n",
       "      <td>100</td>\n",
       "      <td>100</td>\n",
       "      <td>100</td>\n",
       "      <td>100</td>\n",
       "      <td>100</td>\n",
       "      <td>100</td>\n",
       "    </tr>\n",
       "    <tr>\n",
       "      <th>2259de9b81a352a02bcddf28bdedde6f</th>\n",
       "      <td>100</td>\n",
       "      <td>100</td>\n",
       "      <td>100</td>\n",
       "      <td>100</td>\n",
       "      <td>100</td>\n",
       "      <td>100</td>\n",
       "      <td>100</td>\n",
       "      <td>100</td>\n",
       "      <td>100</td>\n",
       "      <td>100</td>\n",
       "      <td>100</td>\n",
       "      <td>100</td>\n",
       "      <td>100</td>\n",
       "      <td>100</td>\n",
       "    </tr>\n",
       "    <tr>\n",
       "      <th>25b2c30f24bbd86d7cca43e006f521fa</th>\n",
       "      <td>100</td>\n",
       "      <td>100</td>\n",
       "      <td>100</td>\n",
       "      <td>100</td>\n",
       "      <td>100</td>\n",
       "      <td>100</td>\n",
       "      <td>100</td>\n",
       "      <td>100</td>\n",
       "      <td>100</td>\n",
       "      <td>100</td>\n",
       "      <td>100</td>\n",
       "      <td>100</td>\n",
       "      <td>100</td>\n",
       "      <td>100</td>\n",
       "    </tr>\n",
       "    <tr>\n",
       "      <th>2b1f1161870583f0b5280e0c5d629c78</th>\n",
       "      <td>150</td>\n",
       "      <td>150</td>\n",
       "      <td>150</td>\n",
       "      <td>100</td>\n",
       "      <td>150</td>\n",
       "      <td>100</td>\n",
       "      <td>100</td>\n",
       "      <td>100</td>\n",
       "      <td>100</td>\n",
       "      <td>100</td>\n",
       "      <td>100</td>\n",
       "      <td>100</td>\n",
       "      <td>100</td>\n",
       "      <td>100</td>\n",
       "    </tr>\n",
       "    <tr>\n",
       "      <th>2b60f8ffb99f7932ee00cdd291fb1dd5</th>\n",
       "      <td>150</td>\n",
       "      <td>150</td>\n",
       "      <td>150</td>\n",
       "      <td>100</td>\n",
       "      <td>150</td>\n",
       "      <td>100</td>\n",
       "      <td>100</td>\n",
       "      <td>100</td>\n",
       "      <td>100</td>\n",
       "      <td>100</td>\n",
       "      <td>100</td>\n",
       "      <td>100</td>\n",
       "      <td>100</td>\n",
       "      <td>100</td>\n",
       "    </tr>\n",
       "    <tr>\n",
       "      <th>2c98d4759ee2eca3f2d966be8739c1fa</th>\n",
       "      <td>0</td>\n",
       "      <td>0</td>\n",
       "      <td>0</td>\n",
       "      <td>0</td>\n",
       "      <td>0</td>\n",
       "      <td>0</td>\n",
       "      <td>0</td>\n",
       "      <td>0</td>\n",
       "      <td>0</td>\n",
       "      <td>0</td>\n",
       "      <td>0</td>\n",
       "      <td>0</td>\n",
       "      <td>0</td>\n",
       "      <td>100</td>\n",
       "    </tr>\n",
       "    <tr>\n",
       "      <th>2e0841c32915addc312ba3b08314593e</th>\n",
       "      <td>100</td>\n",
       "      <td>100</td>\n",
       "      <td>100</td>\n",
       "      <td>100</td>\n",
       "      <td>0</td>\n",
       "      <td>0</td>\n",
       "      <td>0</td>\n",
       "      <td>0</td>\n",
       "      <td>0</td>\n",
       "      <td>0</td>\n",
       "      <td>0</td>\n",
       "      <td>0</td>\n",
       "      <td>0</td>\n",
       "      <td>0</td>\n",
       "    </tr>\n",
       "    <tr>\n",
       "      <th>34cbda4698077235df4c2a08ee6f15ee</th>\n",
       "      <td>0</td>\n",
       "      <td>0</td>\n",
       "      <td>0</td>\n",
       "      <td>0</td>\n",
       "      <td>0</td>\n",
       "      <td>0</td>\n",
       "      <td>0</td>\n",
       "      <td>0</td>\n",
       "      <td>0</td>\n",
       "      <td>0</td>\n",
       "      <td>100</td>\n",
       "      <td>100</td>\n",
       "      <td>100</td>\n",
       "      <td>100</td>\n",
       "    </tr>\n",
       "    <tr>\n",
       "      <th>35653265b9dc1fc3aedba120476ef86d</th>\n",
       "      <td>0</td>\n",
       "      <td>0</td>\n",
       "      <td>0</td>\n",
       "      <td>0</td>\n",
       "      <td>0</td>\n",
       "      <td>0</td>\n",
       "      <td>0</td>\n",
       "      <td>0</td>\n",
       "      <td>100</td>\n",
       "      <td>100</td>\n",
       "      <td>100</td>\n",
       "      <td>100</td>\n",
       "      <td>100</td>\n",
       "      <td>100</td>\n",
       "    </tr>\n",
       "    <tr>\n",
       "      <th>41d2c3d7ffdefd4cdfb8227b52bdc37f</th>\n",
       "      <td>0</td>\n",
       "      <td>0</td>\n",
       "      <td>0</td>\n",
       "      <td>0</td>\n",
       "      <td>0</td>\n",
       "      <td>1050</td>\n",
       "      <td>450</td>\n",
       "      <td>450</td>\n",
       "      <td>450</td>\n",
       "      <td>450</td>\n",
       "      <td>450</td>\n",
       "      <td>450</td>\n",
       "      <td>450</td>\n",
       "      <td>450</td>\n",
       "    </tr>\n",
       "    <tr>\n",
       "      <th>44224bc1e2e7101c90bbad70dbcc5a6c</th>\n",
       "      <td>0</td>\n",
       "      <td>0</td>\n",
       "      <td>0</td>\n",
       "      <td>0</td>\n",
       "      <td>0</td>\n",
       "      <td>0</td>\n",
       "      <td>0</td>\n",
       "      <td>0</td>\n",
       "      <td>0</td>\n",
       "      <td>100</td>\n",
       "      <td>100</td>\n",
       "      <td>100</td>\n",
       "      <td>100</td>\n",
       "      <td>100</td>\n",
       "    </tr>\n",
       "    <tr>\n",
       "      <th>446b44a4a65b65b4cf09e783683b4df2</th>\n",
       "      <td>100</td>\n",
       "      <td>100</td>\n",
       "      <td>100</td>\n",
       "      <td>100</td>\n",
       "      <td>100</td>\n",
       "      <td>100</td>\n",
       "      <td>100</td>\n",
       "      <td>100</td>\n",
       "      <td>100</td>\n",
       "      <td>100</td>\n",
       "      <td>100</td>\n",
       "      <td>100</td>\n",
       "      <td>0</td>\n",
       "      <td>0</td>\n",
       "    </tr>\n",
       "    <tr>\n",
       "      <th>494de320778db98d7fa1751e8d60064c</th>\n",
       "      <td>150</td>\n",
       "      <td>150</td>\n",
       "      <td>150</td>\n",
       "      <td>100</td>\n",
       "      <td>150</td>\n",
       "      <td>100</td>\n",
       "      <td>100</td>\n",
       "      <td>100</td>\n",
       "      <td>100</td>\n",
       "      <td>100</td>\n",
       "      <td>100</td>\n",
       "      <td>100</td>\n",
       "      <td>100</td>\n",
       "      <td>100</td>\n",
       "    </tr>\n",
       "    <tr>\n",
       "      <th>4ddd3dc2b7a3fe4907f9806fc67ab627</th>\n",
       "      <td>150</td>\n",
       "      <td>150</td>\n",
       "      <td>150</td>\n",
       "      <td>100</td>\n",
       "      <td>150</td>\n",
       "      <td>100</td>\n",
       "      <td>0</td>\n",
       "      <td>0</td>\n",
       "      <td>0</td>\n",
       "      <td>0</td>\n",
       "      <td>0</td>\n",
       "      <td>0</td>\n",
       "      <td>0</td>\n",
       "      <td>0</td>\n",
       "    </tr>\n",
       "    <tr>\n",
       "      <th>52b1c4fc5583a0b8449029dc92eeae45</th>\n",
       "      <td>100</td>\n",
       "      <td>100</td>\n",
       "      <td>100</td>\n",
       "      <td>100</td>\n",
       "      <td>100</td>\n",
       "      <td>100</td>\n",
       "      <td>100</td>\n",
       "      <td>100</td>\n",
       "      <td>100</td>\n",
       "      <td>100</td>\n",
       "      <td>100</td>\n",
       "      <td>100</td>\n",
       "      <td>100</td>\n",
       "      <td>100</td>\n",
       "    </tr>\n",
       "    <tr>\n",
       "      <th>52e7c04d12cb33c77031760584a9586e</th>\n",
       "      <td>150</td>\n",
       "      <td>150</td>\n",
       "      <td>150</td>\n",
       "      <td>100</td>\n",
       "      <td>150</td>\n",
       "      <td>100</td>\n",
       "      <td>100</td>\n",
       "      <td>100</td>\n",
       "      <td>100</td>\n",
       "      <td>100</td>\n",
       "      <td>100</td>\n",
       "      <td>100</td>\n",
       "      <td>100</td>\n",
       "      <td>100</td>\n",
       "    </tr>\n",
       "    <tr>\n",
       "      <th>6184e258fc549e12c235a2bc10ae297e</th>\n",
       "      <td>150</td>\n",
       "      <td>150</td>\n",
       "      <td>150</td>\n",
       "      <td>0</td>\n",
       "      <td>0</td>\n",
       "      <td>0</td>\n",
       "      <td>0</td>\n",
       "      <td>0</td>\n",
       "      <td>0</td>\n",
       "      <td>0</td>\n",
       "      <td>0</td>\n",
       "      <td>0</td>\n",
       "      <td>0</td>\n",
       "      <td>0</td>\n",
       "    </tr>\n",
       "    <tr>\n",
       "      <th>62fb58e7bc8acec8cd1553a9aae5e8b0</th>\n",
       "      <td>0</td>\n",
       "      <td>0</td>\n",
       "      <td>0</td>\n",
       "      <td>0</td>\n",
       "      <td>0</td>\n",
       "      <td>0</td>\n",
       "      <td>0</td>\n",
       "      <td>0</td>\n",
       "      <td>0</td>\n",
       "      <td>0</td>\n",
       "      <td>0</td>\n",
       "      <td>100</td>\n",
       "      <td>100</td>\n",
       "      <td>100</td>\n",
       "    </tr>\n",
       "    <tr>\n",
       "      <th>639eee857314ce7dd39ca7a84eb56529</th>\n",
       "      <td>100</td>\n",
       "      <td>100</td>\n",
       "      <td>100</td>\n",
       "      <td>100</td>\n",
       "      <td>100</td>\n",
       "      <td>100</td>\n",
       "      <td>100</td>\n",
       "      <td>100</td>\n",
       "      <td>100</td>\n",
       "      <td>100</td>\n",
       "      <td>100</td>\n",
       "      <td>100</td>\n",
       "      <td>100</td>\n",
       "      <td>100</td>\n",
       "    </tr>\n",
       "    <tr>\n",
       "      <th>69325672947dfadf5b4eda47157da277</th>\n",
       "      <td>0</td>\n",
       "      <td>0</td>\n",
       "      <td>0</td>\n",
       "      <td>0</td>\n",
       "      <td>0</td>\n",
       "      <td>100</td>\n",
       "      <td>100</td>\n",
       "      <td>100</td>\n",
       "      <td>100</td>\n",
       "      <td>100</td>\n",
       "      <td>100</td>\n",
       "      <td>100</td>\n",
       "      <td>100</td>\n",
       "      <td>100</td>\n",
       "    </tr>\n",
       "    <tr>\n",
       "      <th>69d89537ea9b733dd8295f0a9fed52a4</th>\n",
       "      <td>0</td>\n",
       "      <td>0</td>\n",
       "      <td>0</td>\n",
       "      <td>0</td>\n",
       "      <td>0</td>\n",
       "      <td>0</td>\n",
       "      <td>0</td>\n",
       "      <td>0</td>\n",
       "      <td>0</td>\n",
       "      <td>0</td>\n",
       "      <td>0</td>\n",
       "      <td>1400</td>\n",
       "      <td>350</td>\n",
       "      <td>0</td>\n",
       "    </tr>\n",
       "    <tr>\n",
       "      <th>74e177b0c64177f4c813bd351337b796</th>\n",
       "      <td>0</td>\n",
       "      <td>0</td>\n",
       "      <td>0</td>\n",
       "      <td>0</td>\n",
       "      <td>0</td>\n",
       "      <td>0</td>\n",
       "      <td>0</td>\n",
       "      <td>0</td>\n",
       "      <td>0</td>\n",
       "      <td>0</td>\n",
       "      <td>0</td>\n",
       "      <td>0</td>\n",
       "      <td>0</td>\n",
       "      <td>100</td>\n",
       "    </tr>\n",
       "    <tr>\n",
       "      <th>808b95c7008ba4241493ae938e63012e</th>\n",
       "      <td>100</td>\n",
       "      <td>100</td>\n",
       "      <td>100</td>\n",
       "      <td>100</td>\n",
       "      <td>100</td>\n",
       "      <td>100</td>\n",
       "      <td>100</td>\n",
       "      <td>100</td>\n",
       "      <td>100</td>\n",
       "      <td>100</td>\n",
       "      <td>100</td>\n",
       "      <td>100</td>\n",
       "      <td>100</td>\n",
       "      <td>100</td>\n",
       "    </tr>\n",
       "    <tr>\n",
       "      <th>819cb6072b7f743d7a35d187956afab4</th>\n",
       "      <td>0</td>\n",
       "      <td>0</td>\n",
       "      <td>0</td>\n",
       "      <td>0</td>\n",
       "      <td>100</td>\n",
       "      <td>100</td>\n",
       "      <td>100</td>\n",
       "      <td>100</td>\n",
       "      <td>100</td>\n",
       "      <td>100</td>\n",
       "      <td>100</td>\n",
       "      <td>100</td>\n",
       "      <td>100</td>\n",
       "      <td>100</td>\n",
       "    </tr>\n",
       "    <tr>\n",
       "      <th>90a7ca76033cf7fc3c3cb906f45c401c</th>\n",
       "      <td>100</td>\n",
       "      <td>0</td>\n",
       "      <td>0</td>\n",
       "      <td>0</td>\n",
       "      <td>0</td>\n",
       "      <td>0</td>\n",
       "      <td>0</td>\n",
       "      <td>0</td>\n",
       "      <td>0</td>\n",
       "      <td>0</td>\n",
       "      <td>0</td>\n",
       "      <td>0</td>\n",
       "      <td>0</td>\n",
       "      <td>0</td>\n",
       "    </tr>\n",
       "    <tr>\n",
       "      <th>933cd3394373b1d2929edcaa1974f7a1</th>\n",
       "      <td>100</td>\n",
       "      <td>100</td>\n",
       "      <td>100</td>\n",
       "      <td>100</td>\n",
       "      <td>100</td>\n",
       "      <td>100</td>\n",
       "      <td>100</td>\n",
       "      <td>100</td>\n",
       "      <td>100</td>\n",
       "      <td>100</td>\n",
       "      <td>100</td>\n",
       "      <td>100</td>\n",
       "      <td>100</td>\n",
       "      <td>100</td>\n",
       "    </tr>\n",
       "    <tr>\n",
       "      <th>9d2f5d0f09198069413924db9a10d1c3</th>\n",
       "      <td>100</td>\n",
       "      <td>100</td>\n",
       "      <td>100</td>\n",
       "      <td>100</td>\n",
       "      <td>100</td>\n",
       "      <td>100</td>\n",
       "      <td>100</td>\n",
       "      <td>100</td>\n",
       "      <td>100</td>\n",
       "      <td>100</td>\n",
       "      <td>100</td>\n",
       "      <td>100</td>\n",
       "      <td>100</td>\n",
       "      <td>100</td>\n",
       "    </tr>\n",
       "    <tr>\n",
       "      <th>9fb15a37e248fce31c7d0ed98aaaaaf1</th>\n",
       "      <td>0</td>\n",
       "      <td>0</td>\n",
       "      <td>0</td>\n",
       "      <td>0</td>\n",
       "      <td>0</td>\n",
       "      <td>0</td>\n",
       "      <td>100</td>\n",
       "      <td>100</td>\n",
       "      <td>100</td>\n",
       "      <td>100</td>\n",
       "      <td>100</td>\n",
       "      <td>100</td>\n",
       "      <td>100</td>\n",
       "      <td>100</td>\n",
       "    </tr>\n",
       "    <tr>\n",
       "      <th>a0edde715d1903bd4c50ffad184ee2a4</th>\n",
       "      <td>0</td>\n",
       "      <td>0</td>\n",
       "      <td>0</td>\n",
       "      <td>100</td>\n",
       "      <td>100</td>\n",
       "      <td>100</td>\n",
       "      <td>100</td>\n",
       "      <td>100</td>\n",
       "      <td>100</td>\n",
       "      <td>100</td>\n",
       "      <td>100</td>\n",
       "      <td>100</td>\n",
       "      <td>100</td>\n",
       "      <td>100</td>\n",
       "    </tr>\n",
       "    <tr>\n",
       "      <th>a1a17097950da3f5a53f41a4089a143c</th>\n",
       "      <td>100</td>\n",
       "      <td>100</td>\n",
       "      <td>100</td>\n",
       "      <td>100</td>\n",
       "      <td>100</td>\n",
       "      <td>100</td>\n",
       "      <td>0</td>\n",
       "      <td>0</td>\n",
       "      <td>0</td>\n",
       "      <td>0</td>\n",
       "      <td>0</td>\n",
       "      <td>0</td>\n",
       "      <td>0</td>\n",
       "      <td>0</td>\n",
       "    </tr>\n",
       "    <tr>\n",
       "      <th>a4eebc122a8f3dc2b2cd9bf6420cf008</th>\n",
       "      <td>100</td>\n",
       "      <td>100</td>\n",
       "      <td>100</td>\n",
       "      <td>100</td>\n",
       "      <td>100</td>\n",
       "      <td>100</td>\n",
       "      <td>100</td>\n",
       "      <td>100</td>\n",
       "      <td>100</td>\n",
       "      <td>100</td>\n",
       "      <td>100</td>\n",
       "      <td>0</td>\n",
       "      <td>200</td>\n",
       "      <td>100</td>\n",
       "    </tr>\n",
       "    <tr>\n",
       "      <th>a51b26429dc990ff24dedbcd9316026e</th>\n",
       "      <td>0</td>\n",
       "      <td>0</td>\n",
       "      <td>0</td>\n",
       "      <td>0</td>\n",
       "      <td>0</td>\n",
       "      <td>0</td>\n",
       "      <td>0</td>\n",
       "      <td>0</td>\n",
       "      <td>0</td>\n",
       "      <td>100</td>\n",
       "      <td>100</td>\n",
       "      <td>100</td>\n",
       "      <td>100</td>\n",
       "      <td>100</td>\n",
       "    </tr>\n",
       "    <tr>\n",
       "      <th>bd537f0b4dbc25dea026f9705c43ba03</th>\n",
       "      <td>100</td>\n",
       "      <td>100</td>\n",
       "      <td>100</td>\n",
       "      <td>100</td>\n",
       "      <td>100</td>\n",
       "      <td>100</td>\n",
       "      <td>100</td>\n",
       "      <td>100</td>\n",
       "      <td>100</td>\n",
       "      <td>100</td>\n",
       "      <td>100</td>\n",
       "      <td>100</td>\n",
       "      <td>100</td>\n",
       "      <td>100</td>\n",
       "    </tr>\n",
       "    <tr>\n",
       "      <th>bda07bd430770d8b4936c144e1523473</th>\n",
       "      <td>0</td>\n",
       "      <td>0</td>\n",
       "      <td>0</td>\n",
       "      <td>0</td>\n",
       "      <td>100</td>\n",
       "      <td>0</td>\n",
       "      <td>0</td>\n",
       "      <td>0</td>\n",
       "      <td>0</td>\n",
       "      <td>0</td>\n",
       "      <td>0</td>\n",
       "      <td>0</td>\n",
       "      <td>0</td>\n",
       "      <td>0</td>\n",
       "    </tr>\n",
       "    <tr>\n",
       "      <th>be57dd52a72846ff4d4a505373698f0b</th>\n",
       "      <td>0</td>\n",
       "      <td>0</td>\n",
       "      <td>0</td>\n",
       "      <td>0</td>\n",
       "      <td>100</td>\n",
       "      <td>100</td>\n",
       "      <td>100</td>\n",
       "      <td>100</td>\n",
       "      <td>100</td>\n",
       "      <td>100</td>\n",
       "      <td>100</td>\n",
       "      <td>100</td>\n",
       "      <td>100</td>\n",
       "      <td>100</td>\n",
       "    </tr>\n",
       "    <tr>\n",
       "      <th>c11a5aa14d094a93729db54e84d621ed</th>\n",
       "      <td>0</td>\n",
       "      <td>0</td>\n",
       "      <td>0</td>\n",
       "      <td>0</td>\n",
       "      <td>0</td>\n",
       "      <td>0</td>\n",
       "      <td>0</td>\n",
       "      <td>0</td>\n",
       "      <td>0</td>\n",
       "      <td>100</td>\n",
       "      <td>100</td>\n",
       "      <td>100</td>\n",
       "      <td>100</td>\n",
       "      <td>100</td>\n",
       "    </tr>\n",
       "    <tr>\n",
       "      <th>d0bd2c4614c24ce48b7fc09ff42eb002</th>\n",
       "      <td>0</td>\n",
       "      <td>100</td>\n",
       "      <td>0</td>\n",
       "      <td>0</td>\n",
       "      <td>0</td>\n",
       "      <td>0</td>\n",
       "      <td>0</td>\n",
       "      <td>0</td>\n",
       "      <td>0</td>\n",
       "      <td>0</td>\n",
       "      <td>0</td>\n",
       "      <td>0</td>\n",
       "      <td>0</td>\n",
       "      <td>0</td>\n",
       "    </tr>\n",
       "    <tr>\n",
       "      <th>d54af3961d00eb3e721ce7cc7574e4b4</th>\n",
       "      <td>150</td>\n",
       "      <td>150</td>\n",
       "      <td>150</td>\n",
       "      <td>100</td>\n",
       "      <td>150</td>\n",
       "      <td>100</td>\n",
       "      <td>100</td>\n",
       "      <td>100</td>\n",
       "      <td>100</td>\n",
       "      <td>100</td>\n",
       "      <td>100</td>\n",
       "      <td>100</td>\n",
       "      <td>100</td>\n",
       "      <td>100</td>\n",
       "    </tr>\n",
       "    <tr>\n",
       "      <th>d97bf82713a4a491e6600a4a2368d4fe</th>\n",
       "      <td>0</td>\n",
       "      <td>0</td>\n",
       "      <td>0</td>\n",
       "      <td>0</td>\n",
       "      <td>0</td>\n",
       "      <td>100</td>\n",
       "      <td>100</td>\n",
       "      <td>100</td>\n",
       "      <td>100</td>\n",
       "      <td>100</td>\n",
       "      <td>100</td>\n",
       "      <td>100</td>\n",
       "      <td>100</td>\n",
       "      <td>100</td>\n",
       "    </tr>\n",
       "    <tr>\n",
       "      <th>daa74e4f9afbb374acc64969fe778808</th>\n",
       "      <td>0</td>\n",
       "      <td>0</td>\n",
       "      <td>0</td>\n",
       "      <td>0</td>\n",
       "      <td>0</td>\n",
       "      <td>100</td>\n",
       "      <td>100</td>\n",
       "      <td>100</td>\n",
       "      <td>100</td>\n",
       "      <td>100</td>\n",
       "      <td>100</td>\n",
       "      <td>100</td>\n",
       "      <td>100</td>\n",
       "      <td>100</td>\n",
       "    </tr>\n",
       "    <tr>\n",
       "      <th>dae4c762e2af5a6b09ae61dd64e8a597</th>\n",
       "      <td>100</td>\n",
       "      <td>100</td>\n",
       "      <td>100</td>\n",
       "      <td>100</td>\n",
       "      <td>100</td>\n",
       "      <td>100</td>\n",
       "      <td>100</td>\n",
       "      <td>100</td>\n",
       "      <td>100</td>\n",
       "      <td>100</td>\n",
       "      <td>100</td>\n",
       "      <td>100</td>\n",
       "      <td>100</td>\n",
       "      <td>100</td>\n",
       "    </tr>\n",
       "    <tr>\n",
       "      <th>dda37eaaec4b2895d9681f934ef36e20</th>\n",
       "      <td>0</td>\n",
       "      <td>0</td>\n",
       "      <td>0</td>\n",
       "      <td>0</td>\n",
       "      <td>0</td>\n",
       "      <td>0</td>\n",
       "      <td>0</td>\n",
       "      <td>0</td>\n",
       "      <td>100</td>\n",
       "      <td>100</td>\n",
       "      <td>100</td>\n",
       "      <td>100</td>\n",
       "      <td>100</td>\n",
       "      <td>100</td>\n",
       "    </tr>\n",
       "    <tr>\n",
       "      <th>e7bfef3276f6c0027bb79e98ae7fcdce</th>\n",
       "      <td>100</td>\n",
       "      <td>100</td>\n",
       "      <td>100</td>\n",
       "      <td>100</td>\n",
       "      <td>100</td>\n",
       "      <td>100</td>\n",
       "      <td>100</td>\n",
       "      <td>100</td>\n",
       "      <td>100</td>\n",
       "      <td>100</td>\n",
       "      <td>100</td>\n",
       "      <td>100</td>\n",
       "      <td>100</td>\n",
       "      <td>100</td>\n",
       "    </tr>\n",
       "    <tr>\n",
       "      <th>e98442fafe89489ced0b54cd7e28e3c1</th>\n",
       "      <td>0</td>\n",
       "      <td>0</td>\n",
       "      <td>0</td>\n",
       "      <td>0</td>\n",
       "      <td>0</td>\n",
       "      <td>0</td>\n",
       "      <td>100</td>\n",
       "      <td>100</td>\n",
       "      <td>100</td>\n",
       "      <td>100</td>\n",
       "      <td>100</td>\n",
       "      <td>100</td>\n",
       "      <td>100</td>\n",
       "      <td>100</td>\n",
       "    </tr>\n",
       "    <tr>\n",
       "      <th>e9c6e3f904c96634fd6d65955ad51c0a</th>\n",
       "      <td>0</td>\n",
       "      <td>0</td>\n",
       "      <td>0</td>\n",
       "      <td>0</td>\n",
       "      <td>0</td>\n",
       "      <td>0</td>\n",
       "      <td>0</td>\n",
       "      <td>0</td>\n",
       "      <td>0</td>\n",
       "      <td>100</td>\n",
       "      <td>100</td>\n",
       "      <td>100</td>\n",
       "      <td>100</td>\n",
       "      <td>100</td>\n",
       "    </tr>\n",
       "    <tr>\n",
       "      <th>e9da17d80fe1938c7dee8c900352d1e5</th>\n",
       "      <td>0</td>\n",
       "      <td>0</td>\n",
       "      <td>0</td>\n",
       "      <td>0</td>\n",
       "      <td>0</td>\n",
       "      <td>0</td>\n",
       "      <td>0</td>\n",
       "      <td>0</td>\n",
       "      <td>100</td>\n",
       "      <td>100</td>\n",
       "      <td>100</td>\n",
       "      <td>100</td>\n",
       "      <td>100</td>\n",
       "      <td>100</td>\n",
       "    </tr>\n",
       "    <tr>\n",
       "      <th>f530fa175c025159cdd33507a7f3d426</th>\n",
       "      <td>0</td>\n",
       "      <td>0</td>\n",
       "      <td>0</td>\n",
       "      <td>0</td>\n",
       "      <td>0</td>\n",
       "      <td>0</td>\n",
       "      <td>0</td>\n",
       "      <td>0</td>\n",
       "      <td>0</td>\n",
       "      <td>0</td>\n",
       "      <td>0</td>\n",
       "      <td>1050</td>\n",
       "      <td>350</td>\n",
       "      <td>350</td>\n",
       "    </tr>\n",
       "    <tr>\n",
       "      <th>fd54b3aa9768db49cee68803cb7a238c</th>\n",
       "      <td>100</td>\n",
       "      <td>100</td>\n",
       "      <td>100</td>\n",
       "      <td>100</td>\n",
       "      <td>100</td>\n",
       "      <td>0</td>\n",
       "      <td>0</td>\n",
       "      <td>0</td>\n",
       "      <td>0</td>\n",
       "      <td>0</td>\n",
       "      <td>0</td>\n",
       "      <td>0</td>\n",
       "      <td>0</td>\n",
       "      <td>0</td>\n",
       "    </tr>\n",
       "  </tbody>\n",
       "</table>\n",
       "</div>"
      ],
      "text/plain": [
       "                                  Rental                                  \\\n",
       "Month_Subscribed                 2019-07 2019-08 2019-09 2019-10 2019-11   \n",
       "ACCOUNT_NUM.hash                                                           \n",
       "0f46a3bf356fee36239f081e103da76b     100     100     100     100     100   \n",
       "1c4c0f12a0352e8aaf58602ecf64e877     100     100     100     100     100   \n",
       "204773567701102c4acf8fda9eaccfdd     100     100     100     100     100   \n",
       "21e2a94960106171ac59b4a319087d42     100     100     100     100     100   \n",
       "2259de9b81a352a02bcddf28bdedde6f     100     100     100     100     100   \n",
       "25b2c30f24bbd86d7cca43e006f521fa     100     100     100     100     100   \n",
       "2b1f1161870583f0b5280e0c5d629c78     150     150     150     100     150   \n",
       "2b60f8ffb99f7932ee00cdd291fb1dd5     150     150     150     100     150   \n",
       "2c98d4759ee2eca3f2d966be8739c1fa       0       0       0       0       0   \n",
       "2e0841c32915addc312ba3b08314593e     100     100     100     100       0   \n",
       "34cbda4698077235df4c2a08ee6f15ee       0       0       0       0       0   \n",
       "35653265b9dc1fc3aedba120476ef86d       0       0       0       0       0   \n",
       "41d2c3d7ffdefd4cdfb8227b52bdc37f       0       0       0       0       0   \n",
       "44224bc1e2e7101c90bbad70dbcc5a6c       0       0       0       0       0   \n",
       "446b44a4a65b65b4cf09e783683b4df2     100     100     100     100     100   \n",
       "494de320778db98d7fa1751e8d60064c     150     150     150     100     150   \n",
       "4ddd3dc2b7a3fe4907f9806fc67ab627     150     150     150     100     150   \n",
       "52b1c4fc5583a0b8449029dc92eeae45     100     100     100     100     100   \n",
       "52e7c04d12cb33c77031760584a9586e     150     150     150     100     150   \n",
       "6184e258fc549e12c235a2bc10ae297e     150     150     150       0       0   \n",
       "62fb58e7bc8acec8cd1553a9aae5e8b0       0       0       0       0       0   \n",
       "639eee857314ce7dd39ca7a84eb56529     100     100     100     100     100   \n",
       "69325672947dfadf5b4eda47157da277       0       0       0       0       0   \n",
       "69d89537ea9b733dd8295f0a9fed52a4       0       0       0       0       0   \n",
       "74e177b0c64177f4c813bd351337b796       0       0       0       0       0   \n",
       "808b95c7008ba4241493ae938e63012e     100     100     100     100     100   \n",
       "819cb6072b7f743d7a35d187956afab4       0       0       0       0     100   \n",
       "90a7ca76033cf7fc3c3cb906f45c401c     100       0       0       0       0   \n",
       "933cd3394373b1d2929edcaa1974f7a1     100     100     100     100     100   \n",
       "9d2f5d0f09198069413924db9a10d1c3     100     100     100     100     100   \n",
       "9fb15a37e248fce31c7d0ed98aaaaaf1       0       0       0       0       0   \n",
       "a0edde715d1903bd4c50ffad184ee2a4       0       0       0     100     100   \n",
       "a1a17097950da3f5a53f41a4089a143c     100     100     100     100     100   \n",
       "a4eebc122a8f3dc2b2cd9bf6420cf008     100     100     100     100     100   \n",
       "a51b26429dc990ff24dedbcd9316026e       0       0       0       0       0   \n",
       "bd537f0b4dbc25dea026f9705c43ba03     100     100     100     100     100   \n",
       "bda07bd430770d8b4936c144e1523473       0       0       0       0     100   \n",
       "be57dd52a72846ff4d4a505373698f0b       0       0       0       0     100   \n",
       "c11a5aa14d094a93729db54e84d621ed       0       0       0       0       0   \n",
       "d0bd2c4614c24ce48b7fc09ff42eb002       0     100       0       0       0   \n",
       "d54af3961d00eb3e721ce7cc7574e4b4     150     150     150     100     150   \n",
       "d97bf82713a4a491e6600a4a2368d4fe       0       0       0       0       0   \n",
       "daa74e4f9afbb374acc64969fe778808       0       0       0       0       0   \n",
       "dae4c762e2af5a6b09ae61dd64e8a597     100     100     100     100     100   \n",
       "dda37eaaec4b2895d9681f934ef36e20       0       0       0       0       0   \n",
       "e7bfef3276f6c0027bb79e98ae7fcdce     100     100     100     100     100   \n",
       "e98442fafe89489ced0b54cd7e28e3c1       0       0       0       0       0   \n",
       "e9c6e3f904c96634fd6d65955ad51c0a       0       0       0       0       0   \n",
       "e9da17d80fe1938c7dee8c900352d1e5       0       0       0       0       0   \n",
       "f530fa175c025159cdd33507a7f3d426       0       0       0       0       0   \n",
       "fd54b3aa9768db49cee68803cb7a238c     100     100     100     100     100   \n",
       "\n",
       "                                                                          \\\n",
       "Month_Subscribed                 2019-12 2020-01 2020-02 2020-03 2020-04   \n",
       "ACCOUNT_NUM.hash                                                           \n",
       "0f46a3bf356fee36239f081e103da76b     100     100     100     100     100   \n",
       "1c4c0f12a0352e8aaf58602ecf64e877     100     100     100     100     450   \n",
       "204773567701102c4acf8fda9eaccfdd     100     100     100     100     100   \n",
       "21e2a94960106171ac59b4a319087d42     100     100     100     100     100   \n",
       "2259de9b81a352a02bcddf28bdedde6f     100     100     100     100     100   \n",
       "25b2c30f24bbd86d7cca43e006f521fa     100     100     100     100     100   \n",
       "2b1f1161870583f0b5280e0c5d629c78     100     100     100     100     100   \n",
       "2b60f8ffb99f7932ee00cdd291fb1dd5     100     100     100     100     100   \n",
       "2c98d4759ee2eca3f2d966be8739c1fa       0       0       0       0       0   \n",
       "2e0841c32915addc312ba3b08314593e       0       0       0       0       0   \n",
       "34cbda4698077235df4c2a08ee6f15ee       0       0       0       0       0   \n",
       "35653265b9dc1fc3aedba120476ef86d       0       0       0     100     100   \n",
       "41d2c3d7ffdefd4cdfb8227b52bdc37f    1050     450     450     450     450   \n",
       "44224bc1e2e7101c90bbad70dbcc5a6c       0       0       0       0     100   \n",
       "446b44a4a65b65b4cf09e783683b4df2     100     100     100     100     100   \n",
       "494de320778db98d7fa1751e8d60064c     100     100     100     100     100   \n",
       "4ddd3dc2b7a3fe4907f9806fc67ab627     100       0       0       0       0   \n",
       "52b1c4fc5583a0b8449029dc92eeae45     100     100     100     100     100   \n",
       "52e7c04d12cb33c77031760584a9586e     100     100     100     100     100   \n",
       "6184e258fc549e12c235a2bc10ae297e       0       0       0       0       0   \n",
       "62fb58e7bc8acec8cd1553a9aae5e8b0       0       0       0       0       0   \n",
       "639eee857314ce7dd39ca7a84eb56529     100     100     100     100     100   \n",
       "69325672947dfadf5b4eda47157da277     100     100     100     100     100   \n",
       "69d89537ea9b733dd8295f0a9fed52a4       0       0       0       0       0   \n",
       "74e177b0c64177f4c813bd351337b796       0       0       0       0       0   \n",
       "808b95c7008ba4241493ae938e63012e     100     100     100     100     100   \n",
       "819cb6072b7f743d7a35d187956afab4     100     100     100     100     100   \n",
       "90a7ca76033cf7fc3c3cb906f45c401c       0       0       0       0       0   \n",
       "933cd3394373b1d2929edcaa1974f7a1     100     100     100     100     100   \n",
       "9d2f5d0f09198069413924db9a10d1c3     100     100     100     100     100   \n",
       "9fb15a37e248fce31c7d0ed98aaaaaf1       0     100     100     100     100   \n",
       "a0edde715d1903bd4c50ffad184ee2a4     100     100     100     100     100   \n",
       "a1a17097950da3f5a53f41a4089a143c     100       0       0       0       0   \n",
       "a4eebc122a8f3dc2b2cd9bf6420cf008     100     100     100     100     100   \n",
       "a51b26429dc990ff24dedbcd9316026e       0       0       0       0     100   \n",
       "bd537f0b4dbc25dea026f9705c43ba03     100     100     100     100     100   \n",
       "bda07bd430770d8b4936c144e1523473       0       0       0       0       0   \n",
       "be57dd52a72846ff4d4a505373698f0b     100     100     100     100     100   \n",
       "c11a5aa14d094a93729db54e84d621ed       0       0       0       0     100   \n",
       "d0bd2c4614c24ce48b7fc09ff42eb002       0       0       0       0       0   \n",
       "d54af3961d00eb3e721ce7cc7574e4b4     100     100     100     100     100   \n",
       "d97bf82713a4a491e6600a4a2368d4fe     100     100     100     100     100   \n",
       "daa74e4f9afbb374acc64969fe778808     100     100     100     100     100   \n",
       "dae4c762e2af5a6b09ae61dd64e8a597     100     100     100     100     100   \n",
       "dda37eaaec4b2895d9681f934ef36e20       0       0       0     100     100   \n",
       "e7bfef3276f6c0027bb79e98ae7fcdce     100     100     100     100     100   \n",
       "e98442fafe89489ced0b54cd7e28e3c1       0     100     100     100     100   \n",
       "e9c6e3f904c96634fd6d65955ad51c0a       0       0       0       0     100   \n",
       "e9da17d80fe1938c7dee8c900352d1e5       0       0       0     100     100   \n",
       "f530fa175c025159cdd33507a7f3d426       0       0       0       0       0   \n",
       "fd54b3aa9768db49cee68803cb7a238c       0       0       0       0       0   \n",
       "\n",
       "                                                                  \n",
       "Month_Subscribed                 2020-05 2020-06 2020-07 2020-08  \n",
       "ACCOUNT_NUM.hash                                                  \n",
       "0f46a3bf356fee36239f081e103da76b     100     100     100     100  \n",
       "1c4c0f12a0352e8aaf58602ecf64e877     450     450     450     450  \n",
       "204773567701102c4acf8fda9eaccfdd     100     100     100     100  \n",
       "21e2a94960106171ac59b4a319087d42     100     100     100     100  \n",
       "2259de9b81a352a02bcddf28bdedde6f     100     100     100     100  \n",
       "25b2c30f24bbd86d7cca43e006f521fa     100     100     100     100  \n",
       "2b1f1161870583f0b5280e0c5d629c78     100     100     100     100  \n",
       "2b60f8ffb99f7932ee00cdd291fb1dd5     100     100     100     100  \n",
       "2c98d4759ee2eca3f2d966be8739c1fa       0       0       0     100  \n",
       "2e0841c32915addc312ba3b08314593e       0       0       0       0  \n",
       "34cbda4698077235df4c2a08ee6f15ee     100     100     100     100  \n",
       "35653265b9dc1fc3aedba120476ef86d     100     100     100     100  \n",
       "41d2c3d7ffdefd4cdfb8227b52bdc37f     450     450     450     450  \n",
       "44224bc1e2e7101c90bbad70dbcc5a6c     100     100     100     100  \n",
       "446b44a4a65b65b4cf09e783683b4df2     100     100       0       0  \n",
       "494de320778db98d7fa1751e8d60064c     100     100     100     100  \n",
       "4ddd3dc2b7a3fe4907f9806fc67ab627       0       0       0       0  \n",
       "52b1c4fc5583a0b8449029dc92eeae45     100     100     100     100  \n",
       "52e7c04d12cb33c77031760584a9586e     100     100     100     100  \n",
       "6184e258fc549e12c235a2bc10ae297e       0       0       0       0  \n",
       "62fb58e7bc8acec8cd1553a9aae5e8b0       0     100     100     100  \n",
       "639eee857314ce7dd39ca7a84eb56529     100     100     100     100  \n",
       "69325672947dfadf5b4eda47157da277     100     100     100     100  \n",
       "69d89537ea9b733dd8295f0a9fed52a4       0    1400     350       0  \n",
       "74e177b0c64177f4c813bd351337b796       0       0       0     100  \n",
       "808b95c7008ba4241493ae938e63012e     100     100     100     100  \n",
       "819cb6072b7f743d7a35d187956afab4     100     100     100     100  \n",
       "90a7ca76033cf7fc3c3cb906f45c401c       0       0       0       0  \n",
       "933cd3394373b1d2929edcaa1974f7a1     100     100     100     100  \n",
       "9d2f5d0f09198069413924db9a10d1c3     100     100     100     100  \n",
       "9fb15a37e248fce31c7d0ed98aaaaaf1     100     100     100     100  \n",
       "a0edde715d1903bd4c50ffad184ee2a4     100     100     100     100  \n",
       "a1a17097950da3f5a53f41a4089a143c       0       0       0       0  \n",
       "a4eebc122a8f3dc2b2cd9bf6420cf008     100       0     200     100  \n",
       "a51b26429dc990ff24dedbcd9316026e     100     100     100     100  \n",
       "bd537f0b4dbc25dea026f9705c43ba03     100     100     100     100  \n",
       "bda07bd430770d8b4936c144e1523473       0       0       0       0  \n",
       "be57dd52a72846ff4d4a505373698f0b     100     100     100     100  \n",
       "c11a5aa14d094a93729db54e84d621ed     100     100     100     100  \n",
       "d0bd2c4614c24ce48b7fc09ff42eb002       0       0       0       0  \n",
       "d54af3961d00eb3e721ce7cc7574e4b4     100     100     100     100  \n",
       "d97bf82713a4a491e6600a4a2368d4fe     100     100     100     100  \n",
       "daa74e4f9afbb374acc64969fe778808     100     100     100     100  \n",
       "dae4c762e2af5a6b09ae61dd64e8a597     100     100     100     100  \n",
       "dda37eaaec4b2895d9681f934ef36e20     100     100     100     100  \n",
       "e7bfef3276f6c0027bb79e98ae7fcdce     100     100     100     100  \n",
       "e98442fafe89489ced0b54cd7e28e3c1     100     100     100     100  \n",
       "e9c6e3f904c96634fd6d65955ad51c0a     100     100     100     100  \n",
       "e9da17d80fe1938c7dee8c900352d1e5     100     100     100     100  \n",
       "f530fa175c025159cdd33507a7f3d426       0    1050     350     350  \n",
       "fd54b3aa9768db49cee68803cb7a238c       0       0       0       0  "
      ]
     },
     "execution_count": 321,
     "metadata": {},
     "output_type": "execute_result"
    }
   ],
   "source": [
    "extra_Peo_pivot_df"
   ]
  },
  {
   "cell_type": "code",
   "execution_count": 322,
   "metadata": {},
   "outputs": [],
   "source": [
    "extra_Peo_pivot_df.to_csv(\"data/user_profile/extra_usage/Peo_extra_Peo_usage_pivot_extended.csv\")"
   ]
  },
  {
   "cell_type": "markdown",
   "metadata": {},
   "source": [
    "#### Insights\n",
    "- 51 Unique customers - extra Channel purchases in moths vary from 2019-07 to 2020-08\n",
    "- No all monthly purchase information"
   ]
  },
  {
   "cell_type": "code",
   "execution_count": null,
   "metadata": {},
   "outputs": [],
   "source": []
  },
  {
   "cell_type": "markdown",
   "metadata": {},
   "source": [
    "## Exporting Package names list"
   ]
  },
  {
   "cell_type": "code",
   "execution_count": 323,
   "metadata": {},
   "outputs": [
    {
     "data": {
      "text/html": [
       "<div>\n",
       "<style scoped>\n",
       "    .dataframe tbody tr th:only-of-type {\n",
       "        vertical-align: middle;\n",
       "    }\n",
       "\n",
       "    .dataframe tbody tr th {\n",
       "        vertical-align: top;\n",
       "    }\n",
       "\n",
       "    .dataframe thead th {\n",
       "        text-align: right;\n",
       "    }\n",
       "</style>\n",
       "<table border=\"1\" class=\"dataframe\">\n",
       "  <thead>\n",
       "    <tr style=\"text-align: right;\">\n",
       "      <th></th>\n",
       "      <th>Package</th>\n",
       "    </tr>\n",
       "  </thead>\n",
       "  <tbody>\n",
       "    <tr>\n",
       "      <th>0</th>\n",
       "      <td>Basic1 TeleLife</td>\n",
       "    </tr>\n",
       "    <tr>\n",
       "      <th>1</th>\n",
       "      <td>Plus4 TeleLife</td>\n",
       "    </tr>\n",
       "    <tr>\n",
       "      <th>2</th>\n",
       "      <td>Plus1 TeleLife</td>\n",
       "    </tr>\n",
       "    <tr>\n",
       "      <th>3</th>\n",
       "      <td>Telehealth</td>\n",
       "    </tr>\n",
       "    <tr>\n",
       "      <th>4</th>\n",
       "      <td>SLT Voice Service</td>\n",
       "    </tr>\n",
       "    <tr>\n",
       "      <th>...</th>\n",
       "      <td>...</td>\n",
       "    </tr>\n",
       "    <tr>\n",
       "      <th>99</th>\n",
       "      <td>Meet Lite</td>\n",
       "    </tr>\n",
       "    <tr>\n",
       "      <th>100</th>\n",
       "      <td>Meet Max</td>\n",
       "    </tr>\n",
       "    <tr>\n",
       "      <th>101</th>\n",
       "      <td>Edu Lite</td>\n",
       "    </tr>\n",
       "    <tr>\n",
       "      <th>102</th>\n",
       "      <td>BB Messenger Bundle</td>\n",
       "    </tr>\n",
       "    <tr>\n",
       "      <th>103</th>\n",
       "      <td>None</td>\n",
       "    </tr>\n",
       "  </tbody>\n",
       "</table>\n",
       "<p>104 rows × 1 columns</p>\n",
       "</div>"
      ],
      "text/plain": [
       "                 Package\n",
       "0        Basic1 TeleLife\n",
       "1         Plus4 TeleLife\n",
       "2         Plus1 TeleLife\n",
       "3             Telehealth\n",
       "4      SLT Voice Service\n",
       "..                   ...\n",
       "99             Meet Lite\n",
       "100             Meet Max\n",
       "101             Edu Lite\n",
       "102  BB Messenger Bundle\n",
       "103                 None\n",
       "\n",
       "[104 rows x 1 columns]"
      ]
     },
     "execution_count": 323,
     "metadata": {},
     "output_type": "execute_result"
    }
   ],
   "source": [
    "vas_list = vas_final_df['Package'].unique()\n",
    "vas_list_df = pd.DataFrame({\"Package\":vas_list })\n",
    "vas_list_df"
   ]
  },
  {
   "cell_type": "code",
   "execution_count": 324,
   "metadata": {},
   "outputs": [],
   "source": [
    "vas_list_df.to_csv(\"data/product_catalog/Package_Names_Only_List.csv\")"
   ]
  },
  {
   "cell_type": "code",
   "execution_count": null,
   "metadata": {},
   "outputs": [],
   "source": []
  },
  {
   "cell_type": "markdown",
   "metadata": {},
   "source": [
    "## Exporting Package info Dataset"
   ]
  },
  {
   "cell_type": "code",
   "execution_count": 325,
   "metadata": {},
   "outputs": [
    {
     "name": "stdout",
     "output_type": "stream",
     "text": [
      "<class 'pandas.core.frame.DataFrame'>\n",
      "Int64Index: 62124 entries, 0 to 62123\n",
      "Data columns (total 13 columns):\n",
      " #   Column            Non-Null Count  Dtype  \n",
      "---  ------            --------------  -----  \n",
      " 0   ACCOUNT_NUM.hash  62124 non-null  object \n",
      " 1   Package           62123 non-null  object \n",
      " 2   Month_Subscribed  62124 non-null  object \n",
      " 3   Rental            10599 non-null  object \n",
      " 4   One_Time_Charge   1547 non-null   float64\n",
      " 5   MEDIUM            55794 non-null  object \n",
      " 6   TARIFF_NAME       55794 non-null  object \n",
      " 7   TARIFF_DESC       55794 non-null  object \n",
      " 8   Package_Type      62123 non-null  object \n",
      " 9   Product_Type      55908 non-null  object \n",
      " 10  is_VAS            62123 non-null  object \n",
      " 11  is_Subscription   62123 non-null  object \n",
      " 12  FREE_or_PAID      62123 non-null  object \n",
      "dtypes: float64(1), object(12)\n",
      "memory usage: 6.6+ MB\n"
     ]
    }
   ],
   "source": [
    "vas_final_df.info()"
   ]
  },
  {
   "cell_type": "code",
   "execution_count": 326,
   "metadata": {},
   "outputs": [],
   "source": [
    "vas_info_df = vas_final_df[[\"Package\",\"Rental\",\"One_Time_Charge\",\"Package_Type\",\"Product_Type\",\"MEDIUM\",\"TARIFF_NAME\",\"TARIFF_DESC\",\"is_VAS\",\"FREE_or_PAID\"]].drop_duplicates([\"Package\"],keep=\"last\")"
   ]
  },
  {
   "cell_type": "code",
   "execution_count": 327,
   "metadata": {},
   "outputs": [],
   "source": [
    "vas_info_df.reset_index(inplace=True)"
   ]
  },
  {
   "cell_type": "code",
   "execution_count": 328,
   "metadata": {},
   "outputs": [],
   "source": [
    "vas_info_df.drop([\"index\"],axis=1, inplace=True)"
   ]
  },
  {
   "cell_type": "code",
   "execution_count": 329,
   "metadata": {},
   "outputs": [
    {
     "name": "stdout",
     "output_type": "stream",
     "text": [
      "<class 'pandas.core.frame.DataFrame'>\n",
      "RangeIndex: 104 entries, 0 to 103\n",
      "Data columns (total 10 columns):\n",
      " #   Column           Non-Null Count  Dtype  \n",
      "---  ------           --------------  -----  \n",
      " 0   Package          103 non-null    object \n",
      " 1   Rental           17 non-null     object \n",
      " 2   One_Time_Charge  3 non-null      float64\n",
      " 3   Package_Type     103 non-null    object \n",
      " 4   Product_Type     22 non-null     object \n",
      " 5   MEDIUM           18 non-null     object \n",
      " 6   TARIFF_NAME      18 non-null     object \n",
      " 7   TARIFF_DESC      18 non-null     object \n",
      " 8   is_VAS           103 non-null    object \n",
      " 9   FREE_or_PAID     103 non-null    object \n",
      "dtypes: float64(1), object(9)\n",
      "memory usage: 8.2+ KB\n"
     ]
    }
   ],
   "source": [
    "vas_info_df.info()"
   ]
  },
  {
   "cell_type": "code",
   "execution_count": 330,
   "metadata": {},
   "outputs": [],
   "source": [
    "vas_info_df.to_csv(\"data/product_catalog/Packages_Info.csv\")"
   ]
  },
  {
   "cell_type": "code",
   "execution_count": null,
   "metadata": {},
   "outputs": [],
   "source": []
  },
  {
   "cell_type": "markdown",
   "metadata": {},
   "source": [
    "## Exporting VAS aggregated DataFrame"
   ]
  },
  {
   "cell_type": "code",
   "execution_count": 331,
   "metadata": {},
   "outputs": [],
   "source": [
    "vas_final_df.drop_duplicates([\"ACCOUNT_NUM.hash\",\"Package\"],inplace=True,keep=\"last\")"
   ]
  },
  {
   "cell_type": "code",
   "execution_count": 332,
   "metadata": {},
   "outputs": [
    {
     "data": {
      "text/plain": [
       "ACCOUNT_NUM.hash        0\n",
       "Package                 1\n",
       "Month_Subscribed        0\n",
       "Rental              11867\n",
       "One_Time_Charge     14707\n",
       "MEDIUM               3603\n",
       "TARIFF_NAME          3603\n",
       "TARIFF_DESC          3603\n",
       "Package_Type            1\n",
       "Product_Type         3497\n",
       "is_VAS                  1\n",
       "is_Subscription         1\n",
       "FREE_or_PAID            1\n",
       "dtype: int64"
      ]
     },
     "execution_count": 332,
     "metadata": {},
     "output_type": "execute_result"
    }
   ],
   "source": [
    "vas_final_df.isnull().sum(axis=0)"
   ]
  },
  {
   "cell_type": "markdown",
   "metadata": {},
   "source": [
    "#### PAID All Packages"
   ]
  },
  {
   "cell_type": "code",
   "execution_count": 333,
   "metadata": {},
   "outputs": [],
   "source": [
    "paid_pack_df = vas_final_df[(vas_final_df[\"FREE_or_PAID\"]==\"PAID\")].groupby('ACCOUNT_NUM.hash') \\\n",
    "            .agg({'Package': lambda x: list(x[x.notna()]),\n",
    "                  'Month_Subscribed': lambda x: list(x[x.notna()]),\n",
    "                  'Rental': lambda x: list(x[x.notna()]),\n",
    "                  'One_Time_Charge': lambda x: list(x[x.notna()]),\n",
    "                  'Package_Type': lambda x: list(x[x.notna()]),\n",
    "                  'Product_Type': lambda x: list(x[x.notna()]),\n",
    "                  'MEDIUM': lambda x: list(x[x.notna()]),\n",
    "                  'is_VAS': lambda x: list(x[x.notna()]),\n",
    "                  'is_Subscription': lambda x: list(x[x.notna()])\n",
    "                 }).reset_index()"
   ]
  },
  {
   "cell_type": "code",
   "execution_count": 334,
   "metadata": {},
   "outputs": [
    {
     "name": "stdout",
     "output_type": "stream",
     "text": [
      "<class 'pandas.core.frame.DataFrame'>\n",
      "RangeIndex: 3292 entries, 0 to 3291\n",
      "Data columns (total 10 columns):\n",
      " #   Column            Non-Null Count  Dtype \n",
      "---  ------            --------------  ----- \n",
      " 0   ACCOUNT_NUM.hash  3292 non-null   object\n",
      " 1   Package           3292 non-null   object\n",
      " 2   Month_Subscribed  3292 non-null   object\n",
      " 3   Rental            3292 non-null   object\n",
      " 4   One_Time_Charge   3292 non-null   object\n",
      " 5   Package_Type      3292 non-null   object\n",
      " 6   Product_Type      3292 non-null   object\n",
      " 7   MEDIUM            3292 non-null   object\n",
      " 8   is_VAS            3292 non-null   object\n",
      " 9   is_Subscription   3292 non-null   object\n",
      "dtypes: object(10)\n",
      "memory usage: 257.3+ KB\n"
     ]
    }
   ],
   "source": [
    "paid_pack_df.info()"
   ]
  },
  {
   "cell_type": "code",
   "execution_count": null,
   "metadata": {},
   "outputs": [],
   "source": []
  },
  {
   "cell_type": "markdown",
   "metadata": {},
   "source": [
    "### PAID VAS"
   ]
  },
  {
   "cell_type": "code",
   "execution_count": 335,
   "metadata": {},
   "outputs": [],
   "source": [
    "paid_vas_df = vas_final_df[((vas_final_df[\"FREE_or_PAID\"]==\"PAID\") & (vas_final_df[\"is_VAS\"]==\"YES\"))].groupby('ACCOUNT_NUM.hash') \\\n",
    "            .agg({'Package': lambda x: list(x[x.notna()]),\n",
    "                  'Month_Subscribed': lambda x: list(x[x.notna()]),\n",
    "                  'Rental': lambda x: list(x[x.notna()]),\n",
    "                  'One_Time_Charge': lambda x: list(x[x.notna()]),\n",
    "                  'Package_Type': lambda x: list(x[x.notna()]),\n",
    "                  'Product_Type': lambda x: list(x[x.notna()]),\n",
    "                  'MEDIUM': lambda x: list(x[x.notna()]),\n",
    "                 }).reset_index()"
   ]
  },
  {
   "cell_type": "code",
   "execution_count": 336,
   "metadata": {},
   "outputs": [
    {
     "name": "stdout",
     "output_type": "stream",
     "text": [
      "<class 'pandas.core.frame.DataFrame'>\n",
      "RangeIndex: 1079 entries, 0 to 1078\n",
      "Data columns (total 8 columns):\n",
      " #   Column            Non-Null Count  Dtype \n",
      "---  ------            --------------  ----- \n",
      " 0   ACCOUNT_NUM.hash  1079 non-null   object\n",
      " 1   Package           1079 non-null   object\n",
      " 2   Month_Subscribed  1079 non-null   object\n",
      " 3   Rental            1079 non-null   object\n",
      " 4   One_Time_Charge   1079 non-null   object\n",
      " 5   Package_Type      1079 non-null   object\n",
      " 6   Product_Type      1079 non-null   object\n",
      " 7   MEDIUM            1079 non-null   object\n",
      "dtypes: object(8)\n",
      "memory usage: 67.6+ KB\n"
     ]
    }
   ],
   "source": [
    "paid_vas_df.info()"
   ]
  },
  {
   "cell_type": "code",
   "execution_count": 337,
   "metadata": {},
   "outputs": [],
   "source": [
    "paid_vas_df.to_csv(\"data/user_profile/Paid_Vas_Packages.csv\")"
   ]
  },
  {
   "cell_type": "code",
   "execution_count": null,
   "metadata": {},
   "outputs": [],
   "source": []
  },
  {
   "cell_type": "markdown",
   "metadata": {},
   "source": [
    "### Categorized Package Dataset"
   ]
  },
  {
   "cell_type": "code",
   "execution_count": 338,
   "metadata": {},
   "outputs": [],
   "source": [
    "megaline_package_df = vas_final_df[((vas_final_df[\"is_Subscription\"]==\"YES\") &  (vas_final_df[\"Product_Type\"]==\"Megaline\"))].groupby('ACCOUNT_NUM.hash') \\\n",
    "            .agg({'Package': lambda x: list(x[x.notna()]),\n",
    "                  'Month_Subscribed': lambda x: list(x[x.notna()]),\n",
    "                  'Rental': lambda x: list(x[x.notna()]),\n",
    "                  'One_Time_Charge': lambda x: list(x[x.notna()]),\n",
    "                  'Package_Type': lambda x: list(x[x.notna()]),\n",
    "                  'MEDIUM': lambda x: list(x[x.notna()]),\n",
    "                 }).reset_index()"
   ]
  },
  {
   "cell_type": "code",
   "execution_count": 339,
   "metadata": {},
   "outputs": [],
   "source": [
    "megaline_package_df.rename(columns={\"Package\":\"Megaline_Package\",\"Month_Subscribed\":\"Megaline_Month_Subscribed\",\\\n",
    "                               \"Rental\":\"Megaline_Rental\",\"One_Time_Charge\":\"Megaline_One_Time_Charge\"},inplace=True)"
   ]
  },
  {
   "cell_type": "code",
   "execution_count": 340,
   "metadata": {},
   "outputs": [
    {
     "name": "stdout",
     "output_type": "stream",
     "text": [
      "<class 'pandas.core.frame.DataFrame'>\n",
      "RangeIndex: 3269 entries, 0 to 3268\n",
      "Data columns (total 7 columns):\n",
      " #   Column                     Non-Null Count  Dtype \n",
      "---  ------                     --------------  ----- \n",
      " 0   ACCOUNT_NUM.hash           3269 non-null   object\n",
      " 1   Megaline_Package           3269 non-null   object\n",
      " 2   Megaline_Month_Subscribed  3269 non-null   object\n",
      " 3   Megaline_Rental            3269 non-null   object\n",
      " 4   Megaline_One_Time_Charge   3269 non-null   object\n",
      " 5   Package_Type               3269 non-null   object\n",
      " 6   MEDIUM                     3269 non-null   object\n",
      "dtypes: object(7)\n",
      "memory usage: 178.9+ KB\n"
     ]
    }
   ],
   "source": [
    "megaline_package_df.info()"
   ]
  },
  {
   "cell_type": "code",
   "execution_count": 341,
   "metadata": {},
   "outputs": [],
   "source": [
    "megaline_package_df.to_csv(\"data/user_profile/Megaline_Packages.csv\")"
   ]
  },
  {
   "cell_type": "code",
   "execution_count": 342,
   "metadata": {},
   "outputs": [],
   "source": [
    "ftth_package_df = vas_final_df[((vas_final_df[\"is_Subscription\"]==\"YES\") &  (vas_final_df[\"Product_Type\"]==\"FTTH\"))].groupby('ACCOUNT_NUM.hash') \\\n",
    "            .agg({'Package': lambda x: list(x[x.notna()]),\n",
    "                  'Month_Subscribed': lambda x: list(x[x.notna()]),\n",
    "                  'Rental': lambda x: list(x[x.notna()]),\n",
    "                  'One_Time_Charge': lambda x: list(x[x.notna()]),\n",
    "                  'Package_Type': lambda x: list(x[x.notna()]),\n",
    "                  'MEDIUM': lambda x: list(x[x.notna()]),\n",
    "                 }).reset_index()"
   ]
  },
  {
   "cell_type": "code",
   "execution_count": 343,
   "metadata": {},
   "outputs": [],
   "source": [
    "ftth_package_df.rename(columns={\"Package\":\"FTTH_Package\",\"Month_Subscribed\":\"FTTH_Month_Subscribed\",\\\n",
    "                               \"Rental\":\"FTTH_Rental\",\"One_Time_Charge\":\"FTTH_One_Time_Charge\"},inplace=True)"
   ]
  },
  {
   "cell_type": "code",
   "execution_count": 344,
   "metadata": {},
   "outputs": [
    {
     "name": "stdout",
     "output_type": "stream",
     "text": [
      "<class 'pandas.core.frame.DataFrame'>\n",
      "RangeIndex: 109 entries, 0 to 108\n",
      "Data columns (total 7 columns):\n",
      " #   Column                 Non-Null Count  Dtype \n",
      "---  ------                 --------------  ----- \n",
      " 0   ACCOUNT_NUM.hash       109 non-null    object\n",
      " 1   FTTH_Package           109 non-null    object\n",
      " 2   FTTH_Month_Subscribed  109 non-null    object\n",
      " 3   FTTH_Rental            109 non-null    object\n",
      " 4   FTTH_One_Time_Charge   109 non-null    object\n",
      " 5   Package_Type           109 non-null    object\n",
      " 6   MEDIUM                 109 non-null    object\n",
      "dtypes: object(7)\n",
      "memory usage: 6.1+ KB\n"
     ]
    }
   ],
   "source": [
    "ftth_package_df.info()"
   ]
  },
  {
   "cell_type": "code",
   "execution_count": 345,
   "metadata": {},
   "outputs": [],
   "source": [
    "ftth_package_df.to_csv(\"data/user_profile/FTTH_Packages.csv\")"
   ]
  },
  {
   "cell_type": "code",
   "execution_count": null,
   "metadata": {},
   "outputs": [],
   "source": []
  },
  {
   "cell_type": "markdown",
   "metadata": {},
   "source": [
    "## Subscription Promotion Upgrade Downgrade orders"
   ]
  },
  {
   "cell_type": "code",
   "execution_count": 346,
   "metadata": {},
   "outputs": [],
   "source": [
    "promotion_df = pd.read_excel(\"data/new/Promotion_Upgrade_Dates.xls\")  "
   ]
  },
  {
   "cell_type": "code",
   "execution_count": 347,
   "metadata": {},
   "outputs": [],
   "source": [
    "promotion_df =promotion_df[[\"ACCOUNT_NUM.hash\",\"MAX_DSP\",\"ORDER_CONDITION\",\"ADDING_PROMO\",\"Deleting_PROMO\",\"Updating_PROMO\"]]"
   ]
  },
  {
   "cell_type": "code",
   "execution_count": 348,
   "metadata": {},
   "outputs": [
    {
     "name": "stdout",
     "output_type": "stream",
     "text": [
      "<class 'pandas.core.frame.DataFrame'>\n",
      "RangeIndex: 1496 entries, 0 to 1495\n",
      "Data columns (total 6 columns):\n",
      " #   Column            Non-Null Count  Dtype \n",
      "---  ------            --------------  ----- \n",
      " 0   ACCOUNT_NUM.hash  1496 non-null   object\n",
      " 1   MAX_DSP           1495 non-null   object\n",
      " 2   ORDER_CONDITION   1496 non-null   object\n",
      " 3   ADDING_PROMO      1467 non-null   object\n",
      " 4   Deleting_PROMO    1467 non-null   object\n",
      " 5   Updating_PROMO    5 non-null      object\n",
      "dtypes: object(6)\n",
      "memory usage: 70.2+ KB\n"
     ]
    }
   ],
   "source": [
    "promotion_df.info()"
   ]
  },
  {
   "cell_type": "markdown",
   "metadata": {},
   "source": [
    "### Exporting customer - subscription dataset"
   ]
  },
  {
   "cell_type": "code",
   "execution_count": 349,
   "metadata": {},
   "outputs": [],
   "source": [
    "sub_df = promotion_df[[\"ACCOUNT_NUM.hash\",\"ADDING_PROMO\"]]"
   ]
  },
  {
   "cell_type": "code",
   "execution_count": 350,
   "metadata": {},
   "outputs": [
    {
     "name": "stderr",
     "output_type": "stream",
     "text": [
      "C:\\ProgramData\\Anaconda3\\lib\\site-packages\\pandas\\core\\frame.py:4441: SettingWithCopyWarning: \n",
      "A value is trying to be set on a copy of a slice from a DataFrame\n",
      "\n",
      "See the caveats in the documentation: https://pandas.pydata.org/pandas-docs/stable/user_guide/indexing.html#returning-a-view-versus-a-copy\n",
      "  return super().rename(\n"
     ]
    }
   ],
   "source": [
    "sub_df.rename(columns={\"ADDING_PROMO\":\"Subscription\"}, inplace=True)"
   ]
  },
  {
   "cell_type": "code",
   "execution_count": 351,
   "metadata": {},
   "outputs": [
    {
     "data": {
      "text/plain": [
       "array(['SLT Megaline Double Play (PV) Package',\n",
       "       'SLT Megaline Triple Play Package',\n",
       "       'SLT Megaline Single Play Package',\n",
       "       'SLT Megaline Double Play (BV) Package', nan,\n",
       "       'SLT Smartline Triple Play', 'SLT LTE Double Play Package',\n",
       "       'SLT LTE 4G Biz Pal Package', 'SLT Smartline Double Play (PV)',\n",
       "       'SLT LTE 4G Net Pal Package', 'SLT LTE 4G Voice Pal Basic Package',\n",
       "       'SLT Smartline Double Play (BV)'], dtype=object)"
      ]
     },
     "execution_count": 351,
     "metadata": {},
     "output_type": "execute_result"
    }
   ],
   "source": [
    "sub_df[\"Subscription\"].unique()"
   ]
  },
  {
   "cell_type": "code",
   "execution_count": 352,
   "metadata": {},
   "outputs": [
    {
     "data": {
      "text/plain": [
       "ACCOUNT_NUM.hash     0\n",
       "Subscription        29\n",
       "dtype: int64"
      ]
     },
     "execution_count": 352,
     "metadata": {},
     "output_type": "execute_result"
    }
   ],
   "source": [
    "sub_df.isnull().sum(axis=0)"
   ]
  },
  {
   "cell_type": "code",
   "execution_count": 353,
   "metadata": {},
   "outputs": [
    {
     "name": "stderr",
     "output_type": "stream",
     "text": [
      "<ipython-input-353-127880e692ed>:1: SettingWithCopyWarning: \n",
      "A value is trying to be set on a copy of a slice from a DataFrame\n",
      "\n",
      "See the caveats in the documentation: https://pandas.pydata.org/pandas-docs/stable/user_guide/indexing.html#returning-a-view-versus-a-copy\n",
      "  sub_df.dropna(inplace=True)\n"
     ]
    }
   ],
   "source": [
    "sub_df.dropna(inplace=True)"
   ]
  },
  {
   "cell_type": "code",
   "execution_count": 354,
   "metadata": {},
   "outputs": [],
   "source": [
    "def sub_type(sub):\n",
    "    if \"Single Play\" in sub:\n",
    "        return \"SINGLE_PLAY\"\n",
    "    if \"Triple Play\" in sub:\n",
    "        return \"TRIPLE_PLAY\"\n",
    "    if \"Double Play (PV)\" in sub:\n",
    "        return \"DOUBLE_PLAY_PV\"\n",
    "    if \"Double Play (BV)\" in sub or \"LTE Double Play\" in sub:\n",
    "        return \"DOUBLE_PLAY_BV\"\n",
    "    if \"LTE 4G\" in sub:\n",
    "        return \"4G\""
   ]
  },
  {
   "cell_type": "code",
   "execution_count": 355,
   "metadata": {},
   "outputs": [
    {
     "name": "stderr",
     "output_type": "stream",
     "text": [
      "<ipython-input-355-96b5985bec8f>:1: SettingWithCopyWarning: \n",
      "A value is trying to be set on a copy of a slice from a DataFrame.\n",
      "Try using .loc[row_indexer,col_indexer] = value instead\n",
      "\n",
      "See the caveats in the documentation: https://pandas.pydata.org/pandas-docs/stable/user_guide/indexing.html#returning-a-view-versus-a-copy\n",
      "  sub_df[\"Sub_Type\"] = sub_df[\"Subscription\"].apply(lambda x: sub_type(x))\n"
     ]
    }
   ],
   "source": [
    "sub_df[\"Sub_Type\"] = sub_df[\"Subscription\"].apply(lambda x: sub_type(x))"
   ]
  },
  {
   "cell_type": "code",
   "execution_count": 356,
   "metadata": {},
   "outputs": [
    {
     "data": {
      "text/plain": [
       "TRIPLE_PLAY       491\n",
       "DOUBLE_PLAY_PV    347\n",
       "SINGLE_PLAY       323\n",
       "DOUBLE_PLAY_BV    303\n",
       "4G                  3\n",
       "Name: Sub_Type, dtype: int64"
      ]
     },
     "execution_count": 356,
     "metadata": {},
     "output_type": "execute_result"
    }
   ],
   "source": [
    "sub_df[\"Sub_Type\"].value_counts()"
   ]
  },
  {
   "cell_type": "code",
   "execution_count": 357,
   "metadata": {},
   "outputs": [],
   "source": [
    "# Mapping phone number\n",
    "#sub_df = sub_df.merge(acc_no_map,how='left',on=[\"ACCOUNT_NUM.hash\",\"CUSTOMER_REF.hash\"])"
   ]
  },
  {
   "cell_type": "code",
   "execution_count": 358,
   "metadata": {},
   "outputs": [
    {
     "name": "stderr",
     "output_type": "stream",
     "text": [
      "<ipython-input-358-d04fce7a5ea2>:1: SettingWithCopyWarning: \n",
      "A value is trying to be set on a copy of a slice from a DataFrame\n",
      "\n",
      "See the caveats in the documentation: https://pandas.pydata.org/pandas-docs/stable/user_guide/indexing.html#returning-a-view-versus-a-copy\n",
      "  sub_df.drop_duplicates([\"ACCOUNT_NUM.hash\"],inplace=True,keep=\"last\")\n",
      "C:\\ProgramData\\Anaconda3\\lib\\site-packages\\pandas\\core\\frame.py:4308: SettingWithCopyWarning: \n",
      "A value is trying to be set on a copy of a slice from a DataFrame\n",
      "\n",
      "See the caveats in the documentation: https://pandas.pydata.org/pandas-docs/stable/user_guide/indexing.html#returning-a-view-versus-a-copy\n",
      "  return super().drop(\n"
     ]
    },
    {
     "data": {
      "text/html": [
       "<div>\n",
       "<style scoped>\n",
       "    .dataframe tbody tr th:only-of-type {\n",
       "        vertical-align: middle;\n",
       "    }\n",
       "\n",
       "    .dataframe tbody tr th {\n",
       "        vertical-align: top;\n",
       "    }\n",
       "\n",
       "    .dataframe thead th {\n",
       "        text-align: right;\n",
       "    }\n",
       "</style>\n",
       "<table border=\"1\" class=\"dataframe\">\n",
       "  <thead>\n",
       "    <tr style=\"text-align: right;\">\n",
       "      <th></th>\n",
       "      <th>ACCOUNT_NUM.hash</th>\n",
       "      <th>Subscription</th>\n",
       "      <th>Sub_Type</th>\n",
       "    </tr>\n",
       "  </thead>\n",
       "  <tbody>\n",
       "    <tr>\n",
       "      <th>0</th>\n",
       "      <td>719f2691cdcfa7bf910e12d8ed681430</td>\n",
       "      <td>SLT Megaline Triple Play Package</td>\n",
       "      <td>TRIPLE_PLAY</td>\n",
       "    </tr>\n",
       "    <tr>\n",
       "      <th>1</th>\n",
       "      <td>3c1fb4f1735abdecb81d29a5e14bad63</td>\n",
       "      <td>SLT Megaline Single Play Package</td>\n",
       "      <td>SINGLE_PLAY</td>\n",
       "    </tr>\n",
       "    <tr>\n",
       "      <th>2</th>\n",
       "      <td>9f95d9c107a917925ad9cee2d99725ac</td>\n",
       "      <td>SLT Megaline Triple Play Package</td>\n",
       "      <td>TRIPLE_PLAY</td>\n",
       "    </tr>\n",
       "    <tr>\n",
       "      <th>3</th>\n",
       "      <td>f64edbf9398b281de0b4a75c6022e724</td>\n",
       "      <td>SLT Megaline Single Play Package</td>\n",
       "      <td>SINGLE_PLAY</td>\n",
       "    </tr>\n",
       "    <tr>\n",
       "      <th>4</th>\n",
       "      <td>c4cdbf78ef3d51bc7877a0ad444bd245</td>\n",
       "      <td>SLT Megaline Triple Play Package</td>\n",
       "      <td>TRIPLE_PLAY</td>\n",
       "    </tr>\n",
       "    <tr>\n",
       "      <th>...</th>\n",
       "      <td>...</td>\n",
       "      <td>...</td>\n",
       "      <td>...</td>\n",
       "    </tr>\n",
       "    <tr>\n",
       "      <th>763</th>\n",
       "      <td>2c98d4759ee2eca3f2d966be8739c1fa</td>\n",
       "      <td>SLT Megaline Triple Play Package</td>\n",
       "      <td>TRIPLE_PLAY</td>\n",
       "    </tr>\n",
       "    <tr>\n",
       "      <th>764</th>\n",
       "      <td>1b90f00af43142138b9b33bb1cbf00dd</td>\n",
       "      <td>SLT Megaline Single Play Package</td>\n",
       "      <td>SINGLE_PLAY</td>\n",
       "    </tr>\n",
       "    <tr>\n",
       "      <th>765</th>\n",
       "      <td>5dca0a71aafae66d0aa373f80d97edeb</td>\n",
       "      <td>SLT Megaline Triple Play Package</td>\n",
       "      <td>TRIPLE_PLAY</td>\n",
       "    </tr>\n",
       "    <tr>\n",
       "      <th>766</th>\n",
       "      <td>3c51761a6fb0afadf335a01400591b19</td>\n",
       "      <td>SLT Megaline Double Play (PV) Package</td>\n",
       "      <td>DOUBLE_PLAY_PV</td>\n",
       "    </tr>\n",
       "    <tr>\n",
       "      <th>767</th>\n",
       "      <td>0e1fe0d01f3a2e9619999a1a634ec427</td>\n",
       "      <td>SLT Megaline Double Play (PV) Package</td>\n",
       "      <td>DOUBLE_PLAY_PV</td>\n",
       "    </tr>\n",
       "  </tbody>\n",
       "</table>\n",
       "<p>768 rows × 3 columns</p>\n",
       "</div>"
      ],
      "text/plain": [
       "                     ACCOUNT_NUM.hash                           Subscription  \\\n",
       "0    719f2691cdcfa7bf910e12d8ed681430       SLT Megaline Triple Play Package   \n",
       "1    3c1fb4f1735abdecb81d29a5e14bad63       SLT Megaline Single Play Package   \n",
       "2    9f95d9c107a917925ad9cee2d99725ac       SLT Megaline Triple Play Package   \n",
       "3    f64edbf9398b281de0b4a75c6022e724       SLT Megaline Single Play Package   \n",
       "4    c4cdbf78ef3d51bc7877a0ad444bd245       SLT Megaline Triple Play Package   \n",
       "..                                ...                                    ...   \n",
       "763  2c98d4759ee2eca3f2d966be8739c1fa       SLT Megaline Triple Play Package   \n",
       "764  1b90f00af43142138b9b33bb1cbf00dd       SLT Megaline Single Play Package   \n",
       "765  5dca0a71aafae66d0aa373f80d97edeb       SLT Megaline Triple Play Package   \n",
       "766  3c51761a6fb0afadf335a01400591b19  SLT Megaline Double Play (PV) Package   \n",
       "767  0e1fe0d01f3a2e9619999a1a634ec427  SLT Megaline Double Play (PV) Package   \n",
       "\n",
       "           Sub_Type  \n",
       "0       TRIPLE_PLAY  \n",
       "1       SINGLE_PLAY  \n",
       "2       TRIPLE_PLAY  \n",
       "3       SINGLE_PLAY  \n",
       "4       TRIPLE_PLAY  \n",
       "..              ...  \n",
       "763     TRIPLE_PLAY  \n",
       "764     SINGLE_PLAY  \n",
       "765     TRIPLE_PLAY  \n",
       "766  DOUBLE_PLAY_PV  \n",
       "767  DOUBLE_PLAY_PV  \n",
       "\n",
       "[768 rows x 3 columns]"
      ]
     },
     "execution_count": 358,
     "metadata": {},
     "output_type": "execute_result"
    }
   ],
   "source": [
    "sub_df.drop_duplicates([\"ACCOUNT_NUM.hash\"],inplace=True,keep=\"last\")\n",
    "sub_df.reset_index(inplace=True)\n",
    "sub_df.drop([\"index\"],axis=1,inplace=True)\n",
    "sub_df = sub_df[[\"ACCOUNT_NUM.hash\",\"Subscription\",\"Sub_Type\"]]\n",
    "sub_df"
   ]
  },
  {
   "cell_type": "code",
   "execution_count": 359,
   "metadata": {},
   "outputs": [
    {
     "data": {
      "text/plain": [
       "ACCOUNT_NUM.hash    0\n",
       "Subscription        0\n",
       "Sub_Type            0\n",
       "dtype: int64"
      ]
     },
     "execution_count": 359,
     "metadata": {},
     "output_type": "execute_result"
    }
   ],
   "source": [
    "sub_df.isnull().sum(axis=0)"
   ]
  },
  {
   "cell_type": "code",
   "execution_count": 360,
   "metadata": {},
   "outputs": [],
   "source": [
    "sub_df.to_csv(\"data/user_profile/User_Subscription_Map.csv\")"
   ]
  },
  {
   "cell_type": "markdown",
   "metadata": {},
   "source": [
    "### Note:\n",
    "- Only actual information present for **768** users"
   ]
  },
  {
   "cell_type": "code",
   "execution_count": null,
   "metadata": {},
   "outputs": [],
   "source": []
  },
  {
   "cell_type": "markdown",
   "metadata": {},
   "source": [
    "## Subscription Upgrades and Downgrades"
   ]
  },
  {
   "cell_type": "code",
   "execution_count": 361,
   "metadata": {},
   "outputs": [],
   "source": [
    "promo_change_df = promotion_df[[\"ACCOUNT_NUM.hash\",\"MAX_DSP\",\"ORDER_CONDITION\",\"Deleting_PROMO\",\"ADDING_PROMO\"]].merge(acc_no_map,how='left',on=[\"ACCOUNT_NUM.hash\"])"
   ]
  },
  {
   "cell_type": "code",
   "execution_count": 362,
   "metadata": {},
   "outputs": [],
   "source": [
    "promo_change_df.drop_duplicates([\"ACCOUNT_NUM.hash\"],inplace=True)\n",
    "promo_change_df.reset_index(inplace=True)\n",
    "promo_change_df.drop([\"index\"],axis=1,inplace=True)\n",
    "promo_change_df.rename(columns={\"MAX_DSP\":\"Sub_Update_Date\",\"ORDER_CONDITION\":\"Sub_Update_Status\",\"Deleting_PROMO\":\"Sub_Removed\",\"ADDING_PROMO\":\"Sub_Added\"},inplace=True)"
   ]
  },
  {
   "cell_type": "code",
   "execution_count": 363,
   "metadata": {},
   "outputs": [
    {
     "data": {
      "text/html": [
       "<div>\n",
       "<style scoped>\n",
       "    .dataframe tbody tr th:only-of-type {\n",
       "        vertical-align: middle;\n",
       "    }\n",
       "\n",
       "    .dataframe tbody tr th {\n",
       "        vertical-align: top;\n",
       "    }\n",
       "\n",
       "    .dataframe thead th {\n",
       "        text-align: right;\n",
       "    }\n",
       "</style>\n",
       "<table border=\"1\" class=\"dataframe\">\n",
       "  <thead>\n",
       "    <tr style=\"text-align: right;\">\n",
       "      <th></th>\n",
       "      <th>ACCOUNT_NUM.hash</th>\n",
       "      <th>Sub_Update_Date</th>\n",
       "      <th>Sub_Update_Status</th>\n",
       "      <th>Sub_Added</th>\n",
       "      <th>Sub_Removed</th>\n",
       "    </tr>\n",
       "  </thead>\n",
       "  <tbody>\n",
       "    <tr>\n",
       "      <th>0</th>\n",
       "      <td>59322724d5029e5667d19ae164cdc16d</td>\n",
       "      <td>26/06/2020 15:24:00</td>\n",
       "      <td>Promotion Upgrade</td>\n",
       "      <td>SLT Megaline Double Play (PV) Package</td>\n",
       "      <td>SLT Megaline Single Play Package</td>\n",
       "    </tr>\n",
       "    <tr>\n",
       "      <th>1</th>\n",
       "      <td>719f2691cdcfa7bf910e12d8ed681430</td>\n",
       "      <td>22/06/2020 10:59:00</td>\n",
       "      <td>Promotion Upgrade</td>\n",
       "      <td>SLT Megaline Triple Play Package</td>\n",
       "      <td>SLT Megaline Double Play (PV) Package</td>\n",
       "    </tr>\n",
       "    <tr>\n",
       "      <th>2</th>\n",
       "      <td>0e1fe0d01f3a2e9619999a1a634ec427</td>\n",
       "      <td>29/07/2020 20:03:17</td>\n",
       "      <td>Promotion Upgrade</td>\n",
       "      <td>SLT Megaline Double Play (PV) Package</td>\n",
       "      <td>SLT Megaline Single Play Package</td>\n",
       "    </tr>\n",
       "    <tr>\n",
       "      <th>3</th>\n",
       "      <td>3c1fb4f1735abdecb81d29a5e14bad63</td>\n",
       "      <td>22/06/2020 13:20:00</td>\n",
       "      <td>Promotion Downgrade</td>\n",
       "      <td>SLT Megaline Single Play Package</td>\n",
       "      <td>SLT Megaline Double Play (BV) Package</td>\n",
       "    </tr>\n",
       "    <tr>\n",
       "      <th>4</th>\n",
       "      <td>06623c7ba64331f615ff83c5664b71bb</td>\n",
       "      <td>24/06/2020 08:27:00</td>\n",
       "      <td>Promotion Upgrade</td>\n",
       "      <td>SLT Megaline Double Play (BV) Package</td>\n",
       "      <td>SLT Megaline Single Play Package</td>\n",
       "    </tr>\n",
       "    <tr>\n",
       "      <th>...</th>\n",
       "      <td>...</td>\n",
       "      <td>...</td>\n",
       "      <td>...</td>\n",
       "      <td>...</td>\n",
       "      <td>...</td>\n",
       "    </tr>\n",
       "    <tr>\n",
       "      <th>770</th>\n",
       "      <td>9f66b173f3d7d7b34f6f0d3de6d02a2e</td>\n",
       "      <td>08/09/2020 13:56:00</td>\n",
       "      <td>Promotion Upgrade</td>\n",
       "      <td>SLT Megaline Triple Play Package</td>\n",
       "      <td>SLT Megaline Double Play (PV) Package</td>\n",
       "    </tr>\n",
       "    <tr>\n",
       "      <th>771</th>\n",
       "      <td>5cedf96edfc7db66c38050881ba3edf0</td>\n",
       "      <td>28/01/2020 15:52:59</td>\n",
       "      <td>Promotion Upgrade</td>\n",
       "      <td>SLT Megaline Triple Play Package</td>\n",
       "      <td>SLT Megaline Double Play (PV) Package</td>\n",
       "    </tr>\n",
       "    <tr>\n",
       "      <th>772</th>\n",
       "      <td>7aa8c0a144b14c0d37d9b50e420c4773</td>\n",
       "      <td>05/02/2020 18:21:00</td>\n",
       "      <td>Promotion Upgrade</td>\n",
       "      <td>SLT Megaline Triple Play Package</td>\n",
       "      <td>SLT Megaline Single Play Package</td>\n",
       "    </tr>\n",
       "    <tr>\n",
       "      <th>773</th>\n",
       "      <td>1b90f00af43142138b9b33bb1cbf00dd</td>\n",
       "      <td>29/01/2020 12:34:00</td>\n",
       "      <td>Promotion Downgrade</td>\n",
       "      <td>SLT Megaline Single Play Package</td>\n",
       "      <td>SLT Megaline Double Play (BV) Package</td>\n",
       "    </tr>\n",
       "    <tr>\n",
       "      <th>774</th>\n",
       "      <td>3c51761a6fb0afadf335a01400591b19</td>\n",
       "      <td>29/01/2020 12:54:25</td>\n",
       "      <td>Promotion Downgrade</td>\n",
       "      <td>SLT Megaline Double Play (PV) Package</td>\n",
       "      <td>SLT Megaline Triple Play Package</td>\n",
       "    </tr>\n",
       "  </tbody>\n",
       "</table>\n",
       "<p>775 rows × 5 columns</p>\n",
       "</div>"
      ],
      "text/plain": [
       "                     ACCOUNT_NUM.hash      Sub_Update_Date  \\\n",
       "0    59322724d5029e5667d19ae164cdc16d  26/06/2020 15:24:00   \n",
       "1    719f2691cdcfa7bf910e12d8ed681430  22/06/2020 10:59:00   \n",
       "2    0e1fe0d01f3a2e9619999a1a634ec427  29/07/2020 20:03:17   \n",
       "3    3c1fb4f1735abdecb81d29a5e14bad63  22/06/2020 13:20:00   \n",
       "4    06623c7ba64331f615ff83c5664b71bb  24/06/2020 08:27:00   \n",
       "..                                ...                  ...   \n",
       "770  9f66b173f3d7d7b34f6f0d3de6d02a2e  08/09/2020 13:56:00   \n",
       "771  5cedf96edfc7db66c38050881ba3edf0  28/01/2020 15:52:59   \n",
       "772  7aa8c0a144b14c0d37d9b50e420c4773  05/02/2020 18:21:00   \n",
       "773  1b90f00af43142138b9b33bb1cbf00dd  29/01/2020 12:34:00   \n",
       "774  3c51761a6fb0afadf335a01400591b19  29/01/2020 12:54:25   \n",
       "\n",
       "       Sub_Update_Status                              Sub_Added  \\\n",
       "0      Promotion Upgrade  SLT Megaline Double Play (PV) Package   \n",
       "1      Promotion Upgrade       SLT Megaline Triple Play Package   \n",
       "2      Promotion Upgrade  SLT Megaline Double Play (PV) Package   \n",
       "3    Promotion Downgrade       SLT Megaline Single Play Package   \n",
       "4      Promotion Upgrade  SLT Megaline Double Play (BV) Package   \n",
       "..                   ...                                    ...   \n",
       "770    Promotion Upgrade       SLT Megaline Triple Play Package   \n",
       "771    Promotion Upgrade       SLT Megaline Triple Play Package   \n",
       "772    Promotion Upgrade       SLT Megaline Triple Play Package   \n",
       "773  Promotion Downgrade       SLT Megaline Single Play Package   \n",
       "774  Promotion Downgrade  SLT Megaline Double Play (PV) Package   \n",
       "\n",
       "                               Sub_Removed  \n",
       "0         SLT Megaline Single Play Package  \n",
       "1    SLT Megaline Double Play (PV) Package  \n",
       "2         SLT Megaline Single Play Package  \n",
       "3    SLT Megaline Double Play (BV) Package  \n",
       "4         SLT Megaline Single Play Package  \n",
       "..                                     ...  \n",
       "770  SLT Megaline Double Play (PV) Package  \n",
       "771  SLT Megaline Double Play (PV) Package  \n",
       "772       SLT Megaline Single Play Package  \n",
       "773  SLT Megaline Double Play (BV) Package  \n",
       "774       SLT Megaline Triple Play Package  \n",
       "\n",
       "[775 rows x 5 columns]"
      ]
     },
     "execution_count": 363,
     "metadata": {},
     "output_type": "execute_result"
    }
   ],
   "source": [
    "promo_change_df = promo_change_df[[\"ACCOUNT_NUM.hash\",\"Sub_Update_Date\",\"Sub_Update_Status\",\"Sub_Added\",\"Sub_Removed\"]]\n",
    "promo_change_df"
   ]
  },
  {
   "cell_type": "code",
   "execution_count": 364,
   "metadata": {},
   "outputs": [
    {
     "data": {
      "text/plain": [
       "ACCOUNT_NUM.hash      0\n",
       "Sub_Update_Date       0\n",
       "Sub_Update_Status     0\n",
       "Sub_Added            10\n",
       "Sub_Removed          10\n",
       "dtype: int64"
      ]
     },
     "execution_count": 364,
     "metadata": {},
     "output_type": "execute_result"
    }
   ],
   "source": [
    "promo_change_df.isnull().sum(axis=0)"
   ]
  },
  {
   "cell_type": "code",
   "execution_count": 365,
   "metadata": {},
   "outputs": [],
   "source": [
    "promo_change_df.dropna(inplace=True)"
   ]
  },
  {
   "cell_type": "code",
   "execution_count": 366,
   "metadata": {},
   "outputs": [],
   "source": [
    "promo_change_df[\"Sub_Removed\"] = promo_change_df[\"Sub_Removed\"].apply(lambda x: sub_type(x))\n",
    "promo_change_df[\"Sub_Added\"] = promo_change_df[\"Sub_Added\"].apply(lambda x: sub_type(x))"
   ]
  },
  {
   "cell_type": "code",
   "execution_count": 367,
   "metadata": {},
   "outputs": [],
   "source": [
    "def sub_change_state(sub1,sub2):\n",
    "    return f\"{sub1} -> {sub2}\""
   ]
  },
  {
   "cell_type": "code",
   "execution_count": 368,
   "metadata": {},
   "outputs": [],
   "source": [
    "promo_change_df[\"Sub_Update\"] = promo_change_df.apply(lambda x: sub_change_state(x[\"Sub_Removed\"],x[\"Sub_Added\"]),axis=1)"
   ]
  },
  {
   "cell_type": "code",
   "execution_count": 369,
   "metadata": {},
   "outputs": [
    {
     "data": {
      "text/plain": [
       "Sub_Update_Status    Sub_Update                      \n",
       "Promotion Downgrade  DOUBLE_PLAY_BV -> SINGLE_PLAY       153\n",
       "Promotion Upgrade    DOUBLE_PLAY_PV -> TRIPLE_PLAY       147\n",
       "                     SINGLE_PLAY -> DOUBLE_PLAY_BV       122\n",
       "Promotion Downgrade  TRIPLE_PLAY -> DOUBLE_PLAY_PV        80\n",
       "Promotion Upgrade    DOUBLE_PLAY_BV -> TRIPLE_PLAY        75\n",
       "                     SINGLE_PLAY -> DOUBLE_PLAY_PV        69\n",
       "Promotion Downgrade  TRIPLE_PLAY -> SINGLE_PLAY           43\n",
       "Promotion Upgrade    SINGLE_PLAY -> TRIPLE_PLAY           28\n",
       "Promotion Downgrade  DOUBLE_PLAY_PV -> SINGLE_PLAY        23\n",
       "                     TRIPLE_PLAY -> DOUBLE_PLAY_BV        16\n",
       "Promotion Upgrade    TRIPLE_PLAY -> DOUBLE_PLAY_PV         2\n",
       "                     DOUBLE_PLAY_PV -> DOUBLE_PLAY_BV      1\n",
       "Promotion Downgrade  DOUBLE_PLAY_BV -> TRIPLE_PLAY         1\n",
       "Promotion Upgrade    4G -> 4G                              1\n",
       "Promotion Downgrade  SINGLE_PLAY -> DOUBLE_PLAY_BV         1\n",
       "                     DOUBLE_PLAY_PV -> TRIPLE_PLAY         1\n",
       "Promotion Upgrade    TRIPLE_PLAY -> DOUBLE_PLAY_BV         1\n",
       "                     DOUBLE_PLAY_BV -> SINGLE_PLAY         1\n",
       "dtype: int64"
      ]
     },
     "execution_count": 369,
     "metadata": {},
     "output_type": "execute_result"
    }
   ],
   "source": [
    "promo_change_df[[\"Sub_Update_Status\",\"Sub_Update\"]].value_counts()"
   ]
  },
  {
   "cell_type": "code",
   "execution_count": 370,
   "metadata": {},
   "outputs": [],
   "source": [
    "promo_change_df.drop(promo_change_df.query(\"Sub_Update_Status == 'Promotion Upgrade' & Sub_Update == 'TRIPLE_PLAY -> DOUBLE_PLAY_BV'\").index, inplace=True)"
   ]
  },
  {
   "cell_type": "code",
   "execution_count": 371,
   "metadata": {},
   "outputs": [],
   "source": [
    "promo_change_df.drop(promo_change_df.query(\"Sub_Update_Status == 'Promotion Upgrade' & Sub_Update == 'TRIPLE_PLAY -> DOUBLE_PLAY_PV'\").index, inplace=True)"
   ]
  },
  {
   "cell_type": "code",
   "execution_count": 372,
   "metadata": {},
   "outputs": [],
   "source": [
    "promo_change_df.drop(promo_change_df.query(\"Sub_Update_Status == 'Promotion Downgrade' & Sub_Update == 'SINGLE_PLAY -> DOUBLE_PLAY_BV'\").index, inplace=True)"
   ]
  },
  {
   "cell_type": "code",
   "execution_count": 373,
   "metadata": {},
   "outputs": [],
   "source": [
    "promo_change_df.drop(promo_change_df.query(\"Sub_Update_Status == 'Promotion Downgrade' & Sub_Update == 'DOUBLE_PLAY_BV -> TRIPLE_PLAY'\").index, inplace=True)"
   ]
  },
  {
   "cell_type": "code",
   "execution_count": 374,
   "metadata": {},
   "outputs": [],
   "source": [
    "promo_change_df.drop(promo_change_df.query(\"Sub_Update_Status == 'Promotion Downgrade' & Sub_Update == 'DOUBLE_PLAY_PV -> TRIPLE_PLAY'\").index, inplace=True)"
   ]
  },
  {
   "cell_type": "code",
   "execution_count": 375,
   "metadata": {},
   "outputs": [
    {
     "data": {
      "text/plain": [
       "Sub_Update_Status    Sub_Update                      \n",
       "Promotion Downgrade  DOUBLE_PLAY_BV -> SINGLE_PLAY       153\n",
       "Promotion Upgrade    DOUBLE_PLAY_PV -> TRIPLE_PLAY       147\n",
       "                     SINGLE_PLAY -> DOUBLE_PLAY_BV       122\n",
       "Promotion Downgrade  TRIPLE_PLAY -> DOUBLE_PLAY_PV        80\n",
       "Promotion Upgrade    DOUBLE_PLAY_BV -> TRIPLE_PLAY        75\n",
       "                     SINGLE_PLAY -> DOUBLE_PLAY_PV        69\n",
       "Promotion Downgrade  TRIPLE_PLAY -> SINGLE_PLAY           43\n",
       "Promotion Upgrade    SINGLE_PLAY -> TRIPLE_PLAY           28\n",
       "Promotion Downgrade  DOUBLE_PLAY_PV -> SINGLE_PLAY        23\n",
       "                     TRIPLE_PLAY -> DOUBLE_PLAY_BV        16\n",
       "Promotion Upgrade    4G -> 4G                              1\n",
       "                     DOUBLE_PLAY_BV -> SINGLE_PLAY         1\n",
       "                     DOUBLE_PLAY_PV -> DOUBLE_PLAY_BV      1\n",
       "dtype: int64"
      ]
     },
     "execution_count": 375,
     "metadata": {},
     "output_type": "execute_result"
    }
   ],
   "source": [
    "promo_change_df[[\"Sub_Update_Status\",\"Sub_Update\"]].value_counts()"
   ]
  },
  {
   "cell_type": "code",
   "execution_count": 376,
   "metadata": {},
   "outputs": [],
   "source": [
    "promo_change_df.drop(promo_change_df.query(\"Sub_Update_Status == 'Promotion Upgrade' & Sub_Update == 'DOUBLE_PLAY_BV -> SINGLE_PLAY'\").index, inplace=True)"
   ]
  },
  {
   "cell_type": "code",
   "execution_count": 377,
   "metadata": {},
   "outputs": [],
   "source": [
    "promo_change_df.drop([\"Sub_Added\",\"Sub_Removed\"],axis=1,inplace=True)"
   ]
  },
  {
   "cell_type": "code",
   "execution_count": 378,
   "metadata": {},
   "outputs": [
    {
     "name": "stdout",
     "output_type": "stream",
     "text": [
      "<class 'pandas.core.frame.DataFrame'>\n",
      "Int64Index: 758 entries, 0 to 774\n",
      "Data columns (total 4 columns):\n",
      " #   Column             Non-Null Count  Dtype \n",
      "---  ------             --------------  ----- \n",
      " 0   ACCOUNT_NUM.hash   758 non-null    object\n",
      " 1   Sub_Update_Date    758 non-null    object\n",
      " 2   Sub_Update_Status  758 non-null    object\n",
      " 3   Sub_Update         758 non-null    object\n",
      "dtypes: object(4)\n",
      "memory usage: 29.6+ KB\n"
     ]
    }
   ],
   "source": [
    "promo_change_df.info()"
   ]
  },
  {
   "cell_type": "code",
   "execution_count": 379,
   "metadata": {},
   "outputs": [],
   "source": [
    "promo_change_df.to_csv(\"data/user_profile/User_Subscription_Changes.csv\")"
   ]
  },
  {
   "cell_type": "code",
   "execution_count": null,
   "metadata": {},
   "outputs": [],
   "source": []
  },
  {
   "cell_type": "markdown",
   "metadata": {},
   "source": [
    "### Voice VAS Aggregation"
   ]
  },
  {
   "cell_type": "code",
   "execution_count": 380,
   "metadata": {},
   "outputs": [],
   "source": [
    "# voice_agg_df = vas_final_df[(vas_final_df[\"Package_Type\"]==\"Voice\")]\n",
    "# voice_agg_df[\"Package_Count\"] = 1"
   ]
  },
  {
   "cell_type": "code",
   "execution_count": 381,
   "metadata": {},
   "outputs": [],
   "source": [
    "#voice_agg_df = voice_agg_df.groupby('ACCOUNT_NUM.hash', as_index=False).agg(list)"
   ]
  },
  {
   "cell_type": "code",
   "execution_count": 382,
   "metadata": {},
   "outputs": [],
   "source": [
    "#len(voice_agg_df[\"ACCOUNT_NUM.hash\"].unique())"
   ]
  },
  {
   "cell_type": "code",
   "execution_count": 383,
   "metadata": {},
   "outputs": [],
   "source": [
    "# def check_none(a):\n",
    "#     if a == \"[nan]\" or a ==\"[None]\":\n",
    "#         return None"
   ]
  },
  {
   "cell_type": "code",
   "execution_count": 384,
   "metadata": {},
   "outputs": [],
   "source": [
    "# voice_agg_df.drop([\"Package_Type\"],axis=1,inplace=True)\n",
    "# voice_agg_df.rename(columns={\"Package\":\"Voice_Package\",\"Month_Subscribed\":\"Voice_Month_Subscribed\",\"Rental\":\"Voice_Rental\",\"One_Time_Charge\":\"Voice_One_Time_Charge\"},inplace=True)\n",
    "# voice_agg_df['Package_Count'] = voice_agg_df.apply(lambda x: len(x['Package_Count']), axis=1)"
   ]
  },
  {
   "cell_type": "code",
   "execution_count": 385,
   "metadata": {},
   "outputs": [],
   "source": [
    "# non_cols = [\"Voice_Month_Subscribed\",'Voice_Package','Voice_Rental',\"Voice_One_Time_Charge\",\"is_Megaline_Package\",\"is_Subscription\",\"is_FTTH_Package\"]\n",
    "\n",
    "# for col in non_cols:\n",
    "#     voice_agg_df[col] = voice_agg_df[col].apply(lambda x: check_none(x))"
   ]
  },
  {
   "cell_type": "code",
   "execution_count": 386,
   "metadata": {},
   "outputs": [],
   "source": [
    "#voice_agg_df['FREE_or_PAID'] = voice_agg_df[\"FREE_or_PAID\"].apply(lambda x: x[0])"
   ]
  },
  {
   "cell_type": "code",
   "execution_count": 387,
   "metadata": {},
   "outputs": [],
   "source": [
    "#voice_agg_df['is_VAS'] = voice_agg_df[\"is_VAS\"].apply(lambda x: x[0])"
   ]
  },
  {
   "cell_type": "code",
   "execution_count": 388,
   "metadata": {},
   "outputs": [],
   "source": [
    "#voice_agg_df.to_csv(\"data/user_profile/Voice_Packages_Aggregated.csv\")"
   ]
  },
  {
   "cell_type": "code",
   "execution_count": null,
   "metadata": {},
   "outputs": [],
   "source": []
  },
  {
   "cell_type": "markdown",
   "metadata": {},
   "source": [
    "### BB VAS Aggregation"
   ]
  },
  {
   "cell_type": "code",
   "execution_count": 389,
   "metadata": {},
   "outputs": [],
   "source": [
    "# bb_agg_df = vas_final_df[(vas_final_df[\"Package_Type\"]==\"BB\")]\n",
    "# bb_agg_df[\"VAS_Count\"] = 1"
   ]
  },
  {
   "cell_type": "code",
   "execution_count": 390,
   "metadata": {},
   "outputs": [],
   "source": [
    "# bb_agg_df = bb_agg_df.groupby('ACCOUNT_NUM.hash', as_index=False).agg(list)"
   ]
  },
  {
   "cell_type": "code",
   "execution_count": 391,
   "metadata": {},
   "outputs": [],
   "source": [
    "# bb_agg_df.drop([\"Package_Type\"],axis=1,inplace=True)\n",
    "# bb_agg_df.rename(columns={\"VAS\":\"BB_VAS_Package\",\"Month_Subscribed\":\"BB_VAS_Month_Subscribed\",\"Rental\":\"BB_VAS_Rental\",\"One_Time_Charge\":\"BB_VAS_One_Time_Charge\"},inplace=True)\n",
    "# bb_agg_df['VAS_Count'] = bb_agg_df.apply(lambda x: len(x['VAS_Count']), axis=1)"
   ]
  },
  {
   "cell_type": "code",
   "execution_count": 392,
   "metadata": {},
   "outputs": [],
   "source": [
    "# len(bb_agg_df[\"event_source.hash\"].unique())"
   ]
  },
  {
   "cell_type": "code",
   "execution_count": 393,
   "metadata": {},
   "outputs": [],
   "source": [
    "# bb_agg_df.to_csv(\"data/user_profile/VAS_BB_Aggregated.csv\")"
   ]
  },
  {
   "cell_type": "code",
   "execution_count": null,
   "metadata": {},
   "outputs": [],
   "source": []
  },
  {
   "cell_type": "markdown",
   "metadata": {},
   "source": [
    "### Peo VAS Aggregation"
   ]
  },
  {
   "cell_type": "code",
   "execution_count": 394,
   "metadata": {},
   "outputs": [],
   "source": [
    "# peo_agg_df = vas_final_df[(vas_final_df[\"VAS_Type\"]==\"PeoTV\")]\n",
    "# peo_agg_df[\"VAS_Count\"] = 1"
   ]
  },
  {
   "cell_type": "code",
   "execution_count": 395,
   "metadata": {},
   "outputs": [],
   "source": [
    "# peo_agg_df = peo_agg_df.groupby('event_source.hash', as_index=False).agg(list)"
   ]
  },
  {
   "cell_type": "code",
   "execution_count": 396,
   "metadata": {},
   "outputs": [],
   "source": [
    "# peo_agg_df[\"ACCOUNT_NUM.hash\"]= peo_agg_df[\"ACCOUNT_NUM.hash\"].apply(lambda x: x[0])\n",
    "# peo_agg_df[\"CUSTOMER_REF.hash\"]= peo_agg_df[\"CUSTOMER_REF.hash\"].apply(lambda x: x[0])\n",
    "# peo_agg_df.drop([\"VAS_Type\"],axis=1,inplace=True)\n",
    "# peo_agg_df.rename(columns={\"VAS\":\"Peo_VAS_Package\",\"Month_Subscribed\":\"Peo_VAS_Month_Subscribed\",\"Rental\":\"Peo_VAS_Rental\",\"One_Time_Charge\":\"Peo_VAS_One_Time_Charge\"},inplace=True)\n",
    "# peo_agg_df['VAS_Count'] = peo_agg_df.apply(lambda x: len(x['VAS_Count']), axis=1)"
   ]
  },
  {
   "cell_type": "code",
   "execution_count": 397,
   "metadata": {},
   "outputs": [],
   "source": [
    "# len(peo_agg_df[\"event_source.hash\"].unique())"
   ]
  },
  {
   "cell_type": "code",
   "execution_count": 398,
   "metadata": {},
   "outputs": [],
   "source": [
    "# peo_agg_df.to_csv(\"data/user_profile/VAS_Peo_Aggregated.csv\")"
   ]
  },
  {
   "cell_type": "code",
   "execution_count": null,
   "metadata": {},
   "outputs": [],
   "source": []
  },
  {
   "cell_type": "markdown",
   "metadata": {},
   "source": [
    "### Uncategorized VAS Aggregation"
   ]
  },
  {
   "cell_type": "code",
   "execution_count": 399,
   "metadata": {},
   "outputs": [],
   "source": [
    "# other_agg_df = vas_final_df[(vas_final_df[\"VAS_Type\"]==\"Other\")]\n",
    "# other_agg_df[\"VAS_Count\"] = 1"
   ]
  },
  {
   "cell_type": "code",
   "execution_count": 400,
   "metadata": {},
   "outputs": [],
   "source": [
    "# other_agg_df = other_agg_df.groupby('event_source.hash', as_index=False).agg(list)"
   ]
  },
  {
   "cell_type": "code",
   "execution_count": 401,
   "metadata": {},
   "outputs": [],
   "source": [
    "# other_agg_df[\"ACCOUNT_NUM.hash\"]= other_agg_df[\"ACCOUNT_NUM.hash\"].apply(lambda x: x[0])\n",
    "# other_agg_df[\"CUSTOMER_REF.hash\"]= other_agg_df[\"CUSTOMER_REF.hash\"].apply(lambda x: x[0])\n",
    "# other_agg_df.drop([\"VAS_Type\"],axis=1,inplace=True)\n",
    "# other_agg_df.rename(columns={\"VAS\":\"Other_VAS_Package\",\"Month_Subscribed\":\"Other_VAS_Month_Subscribed\",\"Rental\":\"Other_VAS_Rental\",\"One_Time_Charge\":\"Other_VAS_One_Time_Charge\"},inplace=True)\n",
    "# other_agg_df['VAS_Count'] = other_agg_df.apply(lambda x: len(x['VAS_Count']), axis=1)"
   ]
  },
  {
   "cell_type": "code",
   "execution_count": 402,
   "metadata": {},
   "outputs": [],
   "source": [
    "# len(other_agg_df[\"event_source.hash\"].unique())"
   ]
  },
  {
   "cell_type": "code",
   "execution_count": 403,
   "metadata": {},
   "outputs": [],
   "source": [
    "# other_agg_df.to_csv(\"data/user_profile/VAS_Other_Aggregated.csv\")"
   ]
  },
  {
   "cell_type": "code",
   "execution_count": null,
   "metadata": {},
   "outputs": [],
   "source": []
  },
  {
   "cell_type": "code",
   "execution_count": null,
   "metadata": {},
   "outputs": [],
   "source": []
  }
 ],
 "metadata": {
  "kernel_info": {
   "name": "python3"
  },
  "kernelspec": {
   "display_name": "Python 3",
   "language": "python",
   "name": "python3"
  },
  "language_info": {
   "codemirror_mode": {
    "name": "ipython",
    "version": 3
   },
   "file_extension": ".py",
   "mimetype": "text/x-python",
   "name": "python",
   "nbconvert_exporter": "python",
   "pygments_lexer": "ipython3",
   "version": "3.8.8"
  },
  "nteract": {
   "version": "nteract-front-end@1.0.0"
  }
 },
 "nbformat": 4,
 "nbformat_minor": 4
}
