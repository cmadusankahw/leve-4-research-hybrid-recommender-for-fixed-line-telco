{
 "cells": [
  {
   "cell_type": "code",
   "execution_count": 1,
   "metadata": {},
   "outputs": [],
   "source": [
    "# import libraries\n",
    "import numpy as np\n",
    "import pandas as pd\n",
    "import seaborn as sns\n",
    "import matplotlib.pyplot as plt\n",
    "from sklearn.preprocessing import MinMaxScaler"
   ]
  },
  {
   "cell_type": "code",
   "execution_count": 2,
   "metadata": {},
   "outputs": [],
   "source": [
    "user_profile = pd.read_csv(\"data/user_profile/prepared/User_Profile.csv\")"
   ]
  },
  {
   "cell_type": "code",
   "execution_count": 3,
   "metadata": {},
   "outputs": [],
   "source": [
    "user_profile.drop([\"Unnamed: 0\"],axis=1,inplace=True)"
   ]
  },
  {
   "cell_type": "code",
   "execution_count": 4,
   "metadata": {},
   "outputs": [],
   "source": [
    "user_profile = user_profile[(user_profile[\"Peo_TV_Package\"].notna())]\n",
    "user_profile.reset_index(drop=True, inplace=True)"
   ]
  },
  {
   "cell_type": "markdown",
   "metadata": {},
   "source": [
    "## User - package ratings"
   ]
  },
  {
   "cell_type": "code",
   "execution_count": 5,
   "metadata": {},
   "outputs": [
    {
     "name": "stderr",
     "output_type": "stream",
     "text": [
      "C:\\ProgramData\\Anaconda3\\lib\\site-packages\\pandas\\core\\frame.py:4441: SettingWithCopyWarning: \n",
      "A value is trying to be set on a copy of a slice from a DataFrame\n",
      "\n",
      "See the caveats in the documentation: https://pandas.pydata.org/pandas-docs/stable/user_guide/indexing.html#returning-a-view-versus-a-copy\n",
      "  return super().rename(\n"
     ]
    }
   ],
   "source": [
    "rating_df=user_profile.iloc[:,[0,23,25]]\n",
    "rating_df.rename(columns={'PEO_TV_Scaled':'ratings','Peo_TV_Package':'package'},inplace=True)"
   ]
  },
  {
   "cell_type": "code",
   "execution_count": 6,
   "metadata": {},
   "outputs": [
    {
     "data": {
      "text/html": [
       "<div>\n",
       "<style scoped>\n",
       "    .dataframe tbody tr th:only-of-type {\n",
       "        vertical-align: middle;\n",
       "    }\n",
       "\n",
       "    .dataframe tbody tr th {\n",
       "        vertical-align: top;\n",
       "    }\n",
       "\n",
       "    .dataframe thead th {\n",
       "        text-align: right;\n",
       "    }\n",
       "</style>\n",
       "<table border=\"1\" class=\"dataframe\">\n",
       "  <thead>\n",
       "    <tr style=\"text-align: right;\">\n",
       "      <th></th>\n",
       "      <th>ACCOUNT_NUM.hash</th>\n",
       "      <th>package</th>\n",
       "      <th>ratings</th>\n",
       "    </tr>\n",
       "  </thead>\n",
       "  <tbody>\n",
       "    <tr>\n",
       "      <th>0</th>\n",
       "      <td>a6f795fa3e3bf7daec81bd44a9d1b59f</td>\n",
       "      <td>PEO_ENTERTAINMENT</td>\n",
       "      <td>0.65000</td>\n",
       "    </tr>\n",
       "    <tr>\n",
       "      <th>1</th>\n",
       "      <td>729e0a0a75015a8908d0989386f4454e</td>\n",
       "      <td>PEO_SILVER</td>\n",
       "      <td>0.00000</td>\n",
       "    </tr>\n",
       "    <tr>\n",
       "      <th>2</th>\n",
       "      <td>9fb15a37e248fce31c7d0ed98aaaaaf1</td>\n",
       "      <td>PEO_SILVER</td>\n",
       "      <td>0.71250</td>\n",
       "    </tr>\n",
       "    <tr>\n",
       "      <th>3</th>\n",
       "      <td>0d4098a262a8bed6ac4253f42dfc5769</td>\n",
       "      <td>PEO_SILVER</td>\n",
       "      <td>0.49375</td>\n",
       "    </tr>\n",
       "    <tr>\n",
       "      <th>4</th>\n",
       "      <td>fac45c3800fe3b9a28cc124f692a9f4a</td>\n",
       "      <td>PEO_SILVER</td>\n",
       "      <td>0.86875</td>\n",
       "    </tr>\n",
       "    <tr>\n",
       "      <th>...</th>\n",
       "      <td>...</td>\n",
       "      <td>...</td>\n",
       "      <td>...</td>\n",
       "    </tr>\n",
       "    <tr>\n",
       "      <th>1137</th>\n",
       "      <td>dbbb4011c6cc809850aa01f8ff5fe922</td>\n",
       "      <td>PEO_SILVER</td>\n",
       "      <td>0.76875</td>\n",
       "    </tr>\n",
       "    <tr>\n",
       "      <th>1138</th>\n",
       "      <td>7db2aa38214037279601a314071d1972</td>\n",
       "      <td>PRANAMA</td>\n",
       "      <td>0.77500</td>\n",
       "    </tr>\n",
       "    <tr>\n",
       "      <th>1139</th>\n",
       "      <td>f5934060d1b7b0a329df4d29242225b8</td>\n",
       "      <td>PEO_SILVER</td>\n",
       "      <td>0.95000</td>\n",
       "    </tr>\n",
       "    <tr>\n",
       "      <th>1140</th>\n",
       "      <td>89fc7c615b7a6c4baefb1cb9b4555d7b</td>\n",
       "      <td>PEO_SILVER</td>\n",
       "      <td>0.00000</td>\n",
       "    </tr>\n",
       "    <tr>\n",
       "      <th>1141</th>\n",
       "      <td>42ed358740d41f10352fd59f4a76e5ca</td>\n",
       "      <td>PEO_SILVER</td>\n",
       "      <td>0.71250</td>\n",
       "    </tr>\n",
       "  </tbody>\n",
       "</table>\n",
       "<p>1142 rows × 3 columns</p>\n",
       "</div>"
      ],
      "text/plain": [
       "                      ACCOUNT_NUM.hash            package  ratings\n",
       "0     a6f795fa3e3bf7daec81bd44a9d1b59f  PEO_ENTERTAINMENT  0.65000\n",
       "1     729e0a0a75015a8908d0989386f4454e         PEO_SILVER  0.00000\n",
       "2     9fb15a37e248fce31c7d0ed98aaaaaf1         PEO_SILVER  0.71250\n",
       "3     0d4098a262a8bed6ac4253f42dfc5769         PEO_SILVER  0.49375\n",
       "4     fac45c3800fe3b9a28cc124f692a9f4a         PEO_SILVER  0.86875\n",
       "...                                ...                ...      ...\n",
       "1137  dbbb4011c6cc809850aa01f8ff5fe922         PEO_SILVER  0.76875\n",
       "1138  7db2aa38214037279601a314071d1972            PRANAMA  0.77500\n",
       "1139  f5934060d1b7b0a329df4d29242225b8         PEO_SILVER  0.95000\n",
       "1140  89fc7c615b7a6c4baefb1cb9b4555d7b         PEO_SILVER  0.00000\n",
       "1141  42ed358740d41f10352fd59f4a76e5ca         PEO_SILVER  0.71250\n",
       "\n",
       "[1142 rows x 3 columns]"
      ]
     },
     "execution_count": 6,
     "metadata": {},
     "output_type": "execute_result"
    }
   ],
   "source": [
    "rating_df"
   ]
  },
  {
   "cell_type": "code",
   "execution_count": 7,
   "metadata": {},
   "outputs": [
    {
     "name": "stdout",
     "output_type": "stream",
     "text": [
      "<class 'pandas.core.frame.DataFrame'>\n",
      "RangeIndex: 1142 entries, 0 to 1141\n",
      "Data columns (total 3 columns):\n",
      " #   Column            Non-Null Count  Dtype  \n",
      "---  ------            --------------  -----  \n",
      " 0   ACCOUNT_NUM.hash  1142 non-null   object \n",
      " 1   package           1142 non-null   object \n",
      " 2   ratings           1142 non-null   float64\n",
      "dtypes: float64(1), object(2)\n",
      "memory usage: 26.9+ KB\n"
     ]
    }
   ],
   "source": [
    "rating_df.info()"
   ]
  },
  {
   "cell_type": "code",
   "execution_count": 8,
   "metadata": {},
   "outputs": [],
   "source": [
    "rating_df.to_csv(\"data/azure/peoTV_user_ratings.csv\")"
   ]
  },
  {
   "cell_type": "markdown",
   "metadata": {},
   "source": [
    "## User content"
   ]
  },
  {
   "cell_type": "code",
   "execution_count": 10,
   "metadata": {},
   "outputs": [],
   "source": [
    "user_df=user_profile.iloc[:,[0,30,32,33,35,38,39,41,44,48,53,57,58,61,69,70,71,72,74,76,78,80,82,84]]"
   ]
  },
  {
   "cell_type": "code",
   "execution_count": 11,
   "metadata": {},
   "outputs": [
    {
     "name": "stdout",
     "output_type": "stream",
     "text": [
      "<class 'pandas.core.frame.DataFrame'>\n",
      "RangeIndex: 1142 entries, 0 to 1141\n",
      "Data columns (total 24 columns):\n",
      " #   Column                                    Non-Null Count  Dtype  \n",
      "---  ------                                    --------------  -----  \n",
      " 0   ACCOUNT_NUM.hash                          1142 non-null   object \n",
      " 1   TARIFF_NAME                               1142 non-null   object \n",
      " 2   Location_Identifier                       1142 non-null   object \n",
      " 3   GENDER                                    971 non-null    object \n",
      " 4   AGE                                       971 non-null    float64\n",
      " 5   IDD_Overall_Categorical                   565 non-null    object \n",
      " 6   VOICE_Categorical                         1118 non-null   object \n",
      " 7   Sub_Type                                  1142 non-null   object \n",
      " 8   Megaline_Package                          1142 non-null   object \n",
      " 9   Package_Type                              1142 non-null   object \n",
      " 10  VAS_Package                               515 non-null    object \n",
      " 11  Product_Type                              515 non-null    object \n",
      " 12  MEDIUM                                    1137 non-null   object \n",
      " 13  Sub_Update                                368 non-null    object \n",
      " 14  Peo_Extra_Channels_Purchased_Scaled       32 non-null     float64\n",
      " 15  Peo_Extra_Channels_Purchased_Categorical  32 non-null     object \n",
      " 16  Having_Insurance                          222 non-null    object \n",
      " 17  Having_Senior_Citizen_Scaled              1142 non-null   float64\n",
      " 18  Having_Kids_at_Home_Scaled                1142 non-null   float64\n",
      " 19  SMEs_Scaled                               1142 non-null   float64\n",
      " 20  Having_Teenagers_Students_Scaled          1142 non-null   float64\n",
      " 21  Having_Working_Professionals_Scaled       1142 non-null   float64\n",
      " 22  Having_Family_Member_Abroad_Scaled        1142 non-null   float64\n",
      " 23  Tamil_Customer                            190 non-null    object \n",
      "dtypes: float64(8), object(16)\n",
      "memory usage: 214.2+ KB\n"
     ]
    }
   ],
   "source": [
    "user_df.info()"
   ]
  },
  {
   "cell_type": "markdown",
   "metadata": {},
   "source": [
    "### Handeling Null Values"
   ]
  },
  {
   "cell_type": "code",
   "execution_count": 12,
   "metadata": {},
   "outputs": [
    {
     "name": "stderr",
     "output_type": "stream",
     "text": [
      "C:\\ProgramData\\Anaconda3\\lib\\site-packages\\pandas\\core\\frame.py:3191: SettingWithCopyWarning: \n",
      "A value is trying to be set on a copy of a slice from a DataFrame.\n",
      "Try using .loc[row_indexer,col_indexer] = value instead\n",
      "\n",
      "See the caveats in the documentation: https://pandas.pydata.org/pandas-docs/stable/user_guide/indexing.html#returning-a-view-versus-a-copy\n",
      "  self[k1] = value[k2]\n"
     ]
    }
   ],
   "source": [
    "# Only for derived cols\n",
    "cat_cols = ['Tamil_Customer', 'Having_Insurance', \"Peo_Extra_Channels_Purchased_Categorical\"]\n",
    "\n",
    "user_df[cat_cols] = user_df[cat_cols].fillna(\"NO\")\n",
    "\n",
    "#voice_udf[scaled_cols] = voice_udf[scaled_cols].fillna(0)"
   ]
  },
  {
   "cell_type": "code",
   "execution_count": 13,
   "metadata": {},
   "outputs": [
    {
     "name": "stderr",
     "output_type": "stream",
     "text": [
      "<ipython-input-13-be93db632d3e>:1: SettingWithCopyWarning: \n",
      "A value is trying to be set on a copy of a slice from a DataFrame.\n",
      "Try using .loc[row_indexer,col_indexer] = value instead\n",
      "\n",
      "See the caveats in the documentation: https://pandas.pydata.org/pandas-docs/stable/user_guide/indexing.html#returning-a-view-versus-a-copy\n",
      "  user_df[\"Peo_Extra_Channels_Purchased_Scaled\"] = user_df[\"Peo_Extra_Channels_Purchased_Scaled\"].fillna(0)\n"
     ]
    }
   ],
   "source": [
    "user_df[\"Peo_Extra_Channels_Purchased_Scaled\"] = user_df[\"Peo_Extra_Channels_Purchased_Scaled\"].fillna(0)"
   ]
  },
  {
   "cell_type": "code",
   "execution_count": 14,
   "metadata": {},
   "outputs": [],
   "source": [
    "user_df.to_csv(\"data/azure/peoTV_user_content.csv\")"
   ]
  },
  {
   "cell_type": "markdown",
   "metadata": {},
   "source": [
    "## Product (package) content"
   ]
  },
  {
   "cell_type": "code",
   "execution_count": 16,
   "metadata": {},
   "outputs": [],
   "source": [
    "product_profile = pd.read_csv(\"data/product_catalog/Product_Profile_Finalised_CSV.csv\")"
   ]
  },
  {
   "cell_type": "code",
   "execution_count": 17,
   "metadata": {},
   "outputs": [
    {
     "name": "stdout",
     "output_type": "stream",
     "text": [
      "<class 'pandas.core.frame.DataFrame'>\n",
      "RangeIndex: 263 entries, 0 to 262\n",
      "Data columns (total 24 columns):\n",
      " #   Column                      Non-Null Count  Dtype  \n",
      "---  ------                      --------------  -----  \n",
      " 0   Product_ID                  263 non-null    object \n",
      " 1   Base_Type                   241 non-null    object \n",
      " 2   Pricing_Type                134 non-null    object \n",
      " 3   Package_Type                134 non-null    object \n",
      " 4   Title                       134 non-null    object \n",
      " 5   Description                 47 non-null     object \n",
      " 6   Price                       133 non-null    object \n",
      " 7   Monthly_Rental              141 non-null    float64\n",
      " 8   PEOTV_No_of_Channels        8 non-null      float64\n",
      " 9   PEOTV_Foreign_Channels      8 non-null      float64\n",
      " 10  PEOTV_Local_Channels        8 non-null      float64\n",
      " 11  PEOTV_Movie_Channels        8 non-null      float64\n",
      " 12  PEOTV_Kids_Channels         8 non-null      float64\n",
      " 13  PEOTV_Religious_Channels    8 non-null      float64\n",
      " 14  PEOTV_Tamil_Channels        8 non-null      float64\n",
      " 15  PEOTV_Educational_Channels  8 non-null      float64\n",
      " 16  PEOTV_Music_Channels        8 non-null      float64\n",
      " 17  PEOTV_Sports_Channels       8 non-null      float64\n",
      " 18  PEOTV_News_Channels         8 non-null      float64\n",
      " 19  PEOTV_HD_Pack               22 non-null     object \n",
      " 20  Subscription_Type           151 non-null    object \n",
      " 21  Recidence_Type              134 non-null    object \n",
      " 22  Tax_Status                  131 non-null    object \n",
      " 23  Conditions                  131 non-null    object \n",
      "dtypes: float64(12), object(12)\n",
      "memory usage: 49.4+ KB\n"
     ]
    }
   ],
   "source": [
    "product_df=product_profile.iloc[:,[0,1,2,3,5,6,14,15,23,24,25,26,27,28,29,30,31,32,33,34,35,37,38,39]]\n",
    "product_df.info()"
   ]
  },
  {
   "cell_type": "code",
   "execution_count": 18,
   "metadata": {},
   "outputs": [],
   "source": [
    "temp_package_df=rating_df[\"package\"]"
   ]
  },
  {
   "cell_type": "code",
   "execution_count": 19,
   "metadata": {},
   "outputs": [],
   "source": [
    "peo_tv_products_df = product_df.merge(temp_package_df.drop_duplicates(), left_on=['Product_ID'], right_on=['package'] ,\n",
    "                   how='left', indicator=True)"
   ]
  },
  {
   "cell_type": "code",
   "execution_count": 20,
   "metadata": {},
   "outputs": [],
   "source": [
    "product_df = peo_tv_products_df[(peo_tv_products_df[\"_merge\"]==\"both\")]"
   ]
  },
  {
   "cell_type": "code",
   "execution_count": 21,
   "metadata": {},
   "outputs": [
    {
     "name": "stderr",
     "output_type": "stream",
     "text": [
      "C:\\ProgramData\\Anaconda3\\lib\\site-packages\\pandas\\core\\frame.py:4308: SettingWithCopyWarning: \n",
      "A value is trying to be set on a copy of a slice from a DataFrame\n",
      "\n",
      "See the caveats in the documentation: https://pandas.pydata.org/pandas-docs/stable/user_guide/indexing.html#returning-a-view-versus-a-copy\n",
      "  return super().drop(\n",
      "C:\\ProgramData\\Anaconda3\\lib\\site-packages\\pandas\\core\\frame.py:4441: SettingWithCopyWarning: \n",
      "A value is trying to be set on a copy of a slice from a DataFrame\n",
      "\n",
      "See the caveats in the documentation: https://pandas.pydata.org/pandas-docs/stable/user_guide/indexing.html#returning-a-view-versus-a-copy\n",
      "  return super().rename(\n"
     ]
    }
   ],
   "source": [
    "product_df.drop([\"package\",\"_merge\"],axis=1,inplace=True)\n",
    "product_df.rename(columns={'Product_ID':'package'},inplace=True)\n",
    "product_df.reset_index(drop=True, inplace=True)"
   ]
  },
  {
   "cell_type": "code",
   "execution_count": 22,
   "metadata": {},
   "outputs": [
    {
     "name": "stdout",
     "output_type": "stream",
     "text": [
      "<class 'pandas.core.frame.DataFrame'>\n",
      "RangeIndex: 19 entries, 0 to 18\n",
      "Data columns (total 24 columns):\n",
      " #   Column                      Non-Null Count  Dtype  \n",
      "---  ------                      --------------  -----  \n",
      " 0   package                     19 non-null     object \n",
      " 1   Base_Type                   19 non-null     object \n",
      " 2   Pricing_Type                19 non-null     object \n",
      " 3   Package_Type                19 non-null     object \n",
      " 4   Title                       19 non-null     object \n",
      " 5   Description                 19 non-null     object \n",
      " 6   Price                       19 non-null     object \n",
      " 7   Monthly_Rental              8 non-null      float64\n",
      " 8   PEOTV_No_of_Channels        8 non-null      float64\n",
      " 9   PEOTV_Foreign_Channels      8 non-null      float64\n",
      " 10  PEOTV_Local_Channels        8 non-null      float64\n",
      " 11  PEOTV_Movie_Channels        8 non-null      float64\n",
      " 12  PEOTV_Kids_Channels         8 non-null      float64\n",
      " 13  PEOTV_Religious_Channels    8 non-null      float64\n",
      " 14  PEOTV_Tamil_Channels        8 non-null      float64\n",
      " 15  PEOTV_Educational_Channels  8 non-null      float64\n",
      " 16  PEOTV_Music_Channels        8 non-null      float64\n",
      " 17  PEOTV_Sports_Channels       8 non-null      float64\n",
      " 18  PEOTV_News_Channels         8 non-null      float64\n",
      " 19  PEOTV_HD_Pack               19 non-null     object \n",
      " 20  Subscription_Type           19 non-null     object \n",
      " 21  Recidence_Type              19 non-null     object \n",
      " 22  Tax_Status                  19 non-null     object \n",
      " 23  Conditions                  19 non-null     object \n",
      "dtypes: float64(12), object(12)\n",
      "memory usage: 3.7+ KB\n"
     ]
    }
   ],
   "source": [
    "product_df.info()"
   ]
  },
  {
   "cell_type": "code",
   "execution_count": 23,
   "metadata": {},
   "outputs": [],
   "source": [
    "cols =[\"PEOTV_Foreign_Channels\",\"PEOTV_Local_Channels\",\"PEOTV_Movie_Channels\",\"PEOTV_Kids_Channels\",\"PEOTV_Religious_Channels\",\"PEOTV_Tamil_Channels\",\"PEOTV_Educational_Channels\",\"PEOTV_Music_Channels\",\"PEOTV_Sports_Channels\",\"PEOTV_News_Channels\"]"
   ]
  },
  {
   "cell_type": "code",
   "execution_count": 24,
   "metadata": {},
   "outputs": [],
   "source": [
    "product_df[cols] = product_df[cols].fillna(0)"
   ]
  },
  {
   "cell_type": "code",
   "execution_count": 27,
   "metadata": {},
   "outputs": [
    {
     "name": "stderr",
     "output_type": "stream",
     "text": [
      "C:\\ProgramData\\Anaconda3\\lib\\site-packages\\pandas\\core\\frame.py:3191: SettingWithCopyWarning: \n",
      "A value is trying to be set on a copy of a slice from a DataFrame.\n",
      "Try using .loc[row_indexer,col_indexer] = value instead\n",
      "\n",
      "See the caveats in the documentation: https://pandas.pydata.org/pandas-docs/stable/user_guide/indexing.html#returning-a-view-versus-a-copy\n",
      "  self[k1] = value[k2]\n"
     ]
    }
   ],
   "source": [
    "product_df[[\"PEOTV_No_of_Channels\",\"Monthly_Rental\"]] = product_df[[\"PEOTV_No_of_Channels\",\"Monthly_Rental\"]].fillna(0)"
   ]
  },
  {
   "cell_type": "code",
   "execution_count": 25,
   "metadata": {},
   "outputs": [
    {
     "name": "stderr",
     "output_type": "stream",
     "text": [
      "<ipython-input-25-d12fe4e48441>:3: SettingWithCopyWarning: \n",
      "A value is trying to be set on a copy of a slice from a DataFrame.\n",
      "Try using .loc[row_indexer,col_indexer] = value instead\n",
      "\n",
      "See the caveats in the documentation: https://pandas.pydata.org/pandas-docs/stable/user_guide/indexing.html#returning-a-view-versus-a-copy\n",
      "  product_df[col] = scaler.fit_transform(product_df[col].values.reshape(-1,1))\n",
      "<ipython-input-25-d12fe4e48441>:3: SettingWithCopyWarning: \n",
      "A value is trying to be set on a copy of a slice from a DataFrame.\n",
      "Try using .loc[row_indexer,col_indexer] = value instead\n",
      "\n",
      "See the caveats in the documentation: https://pandas.pydata.org/pandas-docs/stable/user_guide/indexing.html#returning-a-view-versus-a-copy\n",
      "  product_df[col] = scaler.fit_transform(product_df[col].values.reshape(-1,1))\n",
      "<ipython-input-25-d12fe4e48441>:3: SettingWithCopyWarning: \n",
      "A value is trying to be set on a copy of a slice from a DataFrame.\n",
      "Try using .loc[row_indexer,col_indexer] = value instead\n",
      "\n",
      "See the caveats in the documentation: https://pandas.pydata.org/pandas-docs/stable/user_guide/indexing.html#returning-a-view-versus-a-copy\n",
      "  product_df[col] = scaler.fit_transform(product_df[col].values.reshape(-1,1))\n",
      "<ipython-input-25-d12fe4e48441>:3: SettingWithCopyWarning: \n",
      "A value is trying to be set on a copy of a slice from a DataFrame.\n",
      "Try using .loc[row_indexer,col_indexer] = value instead\n",
      "\n",
      "See the caveats in the documentation: https://pandas.pydata.org/pandas-docs/stable/user_guide/indexing.html#returning-a-view-versus-a-copy\n",
      "  product_df[col] = scaler.fit_transform(product_df[col].values.reshape(-1,1))\n",
      "<ipython-input-25-d12fe4e48441>:3: SettingWithCopyWarning: \n",
      "A value is trying to be set on a copy of a slice from a DataFrame.\n",
      "Try using .loc[row_indexer,col_indexer] = value instead\n",
      "\n",
      "See the caveats in the documentation: https://pandas.pydata.org/pandas-docs/stable/user_guide/indexing.html#returning-a-view-versus-a-copy\n",
      "  product_df[col] = scaler.fit_transform(product_df[col].values.reshape(-1,1))\n",
      "<ipython-input-25-d12fe4e48441>:3: SettingWithCopyWarning: \n",
      "A value is trying to be set on a copy of a slice from a DataFrame.\n",
      "Try using .loc[row_indexer,col_indexer] = value instead\n",
      "\n",
      "See the caveats in the documentation: https://pandas.pydata.org/pandas-docs/stable/user_guide/indexing.html#returning-a-view-versus-a-copy\n",
      "  product_df[col] = scaler.fit_transform(product_df[col].values.reshape(-1,1))\n",
      "<ipython-input-25-d12fe4e48441>:3: SettingWithCopyWarning: \n",
      "A value is trying to be set on a copy of a slice from a DataFrame.\n",
      "Try using .loc[row_indexer,col_indexer] = value instead\n",
      "\n",
      "See the caveats in the documentation: https://pandas.pydata.org/pandas-docs/stable/user_guide/indexing.html#returning-a-view-versus-a-copy\n",
      "  product_df[col] = scaler.fit_transform(product_df[col].values.reshape(-1,1))\n",
      "<ipython-input-25-d12fe4e48441>:3: SettingWithCopyWarning: \n",
      "A value is trying to be set on a copy of a slice from a DataFrame.\n",
      "Try using .loc[row_indexer,col_indexer] = value instead\n",
      "\n",
      "See the caveats in the documentation: https://pandas.pydata.org/pandas-docs/stable/user_guide/indexing.html#returning-a-view-versus-a-copy\n",
      "  product_df[col] = scaler.fit_transform(product_df[col].values.reshape(-1,1))\n",
      "<ipython-input-25-d12fe4e48441>:3: SettingWithCopyWarning: \n",
      "A value is trying to be set on a copy of a slice from a DataFrame.\n",
      "Try using .loc[row_indexer,col_indexer] = value instead\n",
      "\n",
      "See the caveats in the documentation: https://pandas.pydata.org/pandas-docs/stable/user_guide/indexing.html#returning-a-view-versus-a-copy\n",
      "  product_df[col] = scaler.fit_transform(product_df[col].values.reshape(-1,1))\n",
      "<ipython-input-25-d12fe4e48441>:3: SettingWithCopyWarning: \n",
      "A value is trying to be set on a copy of a slice from a DataFrame.\n",
      "Try using .loc[row_indexer,col_indexer] = value instead\n",
      "\n",
      "See the caveats in the documentation: https://pandas.pydata.org/pandas-docs/stable/user_guide/indexing.html#returning-a-view-versus-a-copy\n",
      "  product_df[col] = scaler.fit_transform(product_df[col].values.reshape(-1,1))\n"
     ]
    }
   ],
   "source": [
    "scaler = MinMaxScaler()\n",
    "for col in cols:\n",
    "    product_df[col] = scaler.fit_transform(product_df[col].values.reshape(-1,1))"
   ]
  },
  {
   "cell_type": "code",
   "execution_count": 28,
   "metadata": {},
   "outputs": [
    {
     "name": "stdout",
     "output_type": "stream",
     "text": [
      "<class 'pandas.core.frame.DataFrame'>\n",
      "RangeIndex: 19 entries, 0 to 18\n",
      "Data columns (total 24 columns):\n",
      " #   Column                      Non-Null Count  Dtype  \n",
      "---  ------                      --------------  -----  \n",
      " 0   package                     19 non-null     object \n",
      " 1   Base_Type                   19 non-null     object \n",
      " 2   Pricing_Type                19 non-null     object \n",
      " 3   Package_Type                19 non-null     object \n",
      " 4   Title                       19 non-null     object \n",
      " 5   Description                 19 non-null     object \n",
      " 6   Price                       19 non-null     object \n",
      " 7   Monthly_Rental              19 non-null     float64\n",
      " 8   PEOTV_No_of_Channels        19 non-null     float64\n",
      " 9   PEOTV_Foreign_Channels      19 non-null     float64\n",
      " 10  PEOTV_Local_Channels        19 non-null     float64\n",
      " 11  PEOTV_Movie_Channels        19 non-null     float64\n",
      " 12  PEOTV_Kids_Channels         19 non-null     float64\n",
      " 13  PEOTV_Religious_Channels    19 non-null     float64\n",
      " 14  PEOTV_Tamil_Channels        19 non-null     float64\n",
      " 15  PEOTV_Educational_Channels  19 non-null     float64\n",
      " 16  PEOTV_Music_Channels        19 non-null     float64\n",
      " 17  PEOTV_Sports_Channels       19 non-null     float64\n",
      " 18  PEOTV_News_Channels         19 non-null     float64\n",
      " 19  PEOTV_HD_Pack               19 non-null     object \n",
      " 20  Subscription_Type           19 non-null     object \n",
      " 21  Recidence_Type              19 non-null     object \n",
      " 22  Tax_Status                  19 non-null     object \n",
      " 23  Conditions                  19 non-null     object \n",
      "dtypes: float64(12), object(12)\n",
      "memory usage: 3.7+ KB\n"
     ]
    }
   ],
   "source": [
    "product_df.info()"
   ]
  },
  {
   "cell_type": "code",
   "execution_count": 29,
   "metadata": {},
   "outputs": [],
   "source": [
    "product_df.to_csv(\"data/azure/peoTV_package_content.csv\")"
   ]
  },
  {
   "cell_type": "code",
   "execution_count": null,
   "metadata": {},
   "outputs": [],
   "source": []
  }
 ],
 "metadata": {
  "kernelspec": {
   "display_name": "Python 3",
   "language": "python",
   "name": "python3"
  },
  "language_info": {
   "codemirror_mode": {
    "name": "ipython",
    "version": 3
   },
   "file_extension": ".py",
   "mimetype": "text/x-python",
   "name": "python",
   "nbconvert_exporter": "python",
   "pygments_lexer": "ipython3",
   "version": "3.8.8"
  }
 },
 "nbformat": 4,
 "nbformat_minor": 4
}
