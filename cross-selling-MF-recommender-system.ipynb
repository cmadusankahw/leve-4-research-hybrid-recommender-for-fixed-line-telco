{
  "cells": [
    {
      "cell_type": "code",
      "execution_count": 1,
      "id": "49f0d72f",
      "metadata": {
        "gather": {
          "logged": 1646538295907
        }
      },
      "outputs": [],
      "source": [
        "from __future__ import division\n",
        "import numpy as np\n",
        "import pandas as pd\n",
        "import seaborn as sns\n",
        "import sklearn\n",
        "import matplotlib.pyplot as plt\n",
        "from sklearn.preprocessing import MinMaxScaler\n",
        "from sklearn.decomposition import PCA\n",
        "from ast import literal_eval\n",
        "from surprise import *\n",
        "from surprise import accuracy\n",
        "from surprise.model_selection import GridSearchCV\n",
        "from surprise.model_selection import cross_validate\n",
        "from surprise.model_selection import train_test_split\n",
        "import streamlit as st\n",
        "from PIL import Image\n",
        "from collections import defaultdict"
      ]
    },
    {
      "cell_type": "code",
      "execution_count": null,
      "id": "323386df",
      "metadata": {},
      "outputs": [],
      "source": [
        "\n",
        "if 'total' not in st.session_state:\n",
        "    st.session_state['total'] = 300\n",
        "\n",
        "\n",
        "st.header(\"Telco Recs - Cross Selling Packages recommender\")\n",
        "st.write(\"Recommendations predicteed using collabarative Filtering approaches\")\n",
        "\n",
        "\n",
        "img=Image.open(\"data/fm_data/main.png\")\n",
        "\n",
        "st.image(img,width=800)\n"
      ]
    },
    {
      "cell_type": "code",
      "execution_count": 114,
      "id": "568c9bc0",
      "metadata": {
        "gather": {
          "logged": 1645981122484
        }
      },
      "outputs": [],
      "source": [
        "user_profile = pd.read_csv(\"data/User_Profile_Null_Handled.csv\")"
      ]
    },
    {
      "cell_type": "code",
      "execution_count": 115,
      "id": "e945591d",
      "metadata": {
        "gather": {
          "logged": 1645981122580
        }
      },
      "outputs": [
        {
          "data": {
            "text/plain": [
              "NO_INFO                30250\n",
              "Promotion Upgrade       7369\n",
              "Promotion Downgrade     4975\n",
              "Name: Sub_Update_Status, dtype: int64"
            ]
          },
          "execution_count": 115,
          "metadata": {},
          "output_type": "execute_result"
        }
      ],
      "source": [
        "user_profile[\"Sub_Update_Status\"].value_counts()"
      ]
    },
    {
      "cell_type": "code",
      "execution_count": 116,
      "id": "e03ba629-704a-4136-9474-665f2db80461",
      "metadata": {
        "gather": {
          "logged": 1645981122817
        },
        "jupyter": {
          "outputs_hidden": false,
          "source_hidden": false
        },
        "nteract": {
          "transient": {
            "deleting": false
          }
        }
      },
      "outputs": [],
      "source": [
        "data=user_profile.iloc[:,[1,3,11,14,18,23,25,43,48,53,59,61,34]]\n",
        "#data.rename(columns={\"Sub_Type\":\"label\"},inplace=True)\n",
        "data = pd.get_dummies(data, prefix=['Sub_Update'], columns=['Sub_Update_Status'])\n",
        "# data.drop('Sub_Update_Status', axis=1)\n",
        "\n",
        "# Label encode class\n",
        "# le = LabelEncoder()\n",
        "# data['label'] = le.fit_transform(data.Sub_Type.values)\n",
        "data = data.drop(['Sub_Update_NO_INFO'], axis=1)"
      ]
    },
    {
      "cell_type": "code",
      "execution_count": 117,
      "id": "dc54e4f9",
      "metadata": {
        "gather": {
          "logged": 1645981122932
        }
      },
      "outputs": [],
      "source": [
        "data.fillna(0,inplace=True)\n",
        "data_dim=data.iloc[:,[1,2,3,4,5,6,7,8,9,10,12,13]]"
      ]
    },
    {
      "cell_type": "markdown",
      "id": "dc6428df-deeb-4aaf-95ba-7f1b91531f94",
      "metadata": {
        "nteract": {
          "transient": {
            "deleting": false
          }
        }
      },
      "source": [
        "## PCA Based rating calculation"
      ]
    },
    {
      "cell_type": "code",
      "execution_count": 118,
      "id": "833145fd",
      "metadata": {
        "gather": {
          "logged": 1645981123056
        }
      },
      "outputs": [
        {
          "data": {
            "text/plain": [
              "PCA(n_components=12)"
            ]
          },
          "execution_count": 118,
          "metadata": {},
          "output_type": "execute_result"
        }
      ],
      "source": [
        "pc=PCA(n_components=12) \n",
        "pc.fit(data_dim)"
      ]
    },
    {
      "cell_type": "code",
      "execution_count": 119,
      "id": "da9a443d",
      "metadata": {
        "gather": {
          "logged": 1645981123180
        }
      },
      "outputs": [
        {
          "data": {
            "text/plain": [
              "array([0.31595666, 0.56946394, 0.72630511, 0.86585636, 0.93064071,\n",
              "       0.96783583, 0.98094293, 0.98846729, 0.99519398, 0.99953125,\n",
              "       0.99995611, 1.        ])"
            ]
          },
          "execution_count": 119,
          "metadata": {},
          "output_type": "execute_result"
        }
      ],
      "source": [
        "#How mucb variance, captured together\n",
        "pc.explained_variance_ratio_.cumsum()"
      ]
    },
    {
      "cell_type": "code",
      "execution_count": 120,
      "id": "ca5efa32",
      "metadata": {
        "gather": {
          "logged": 1645981123261
        }
      },
      "outputs": [],
      "source": [
        "### Run PCA on the data and reduce the dimensions in pca_num_components dimensions\n",
        "pca = PCA(n_components=1)\n",
        "pca.fit(data_dim)\n",
        "reduced_data = pca.fit_transform(data_dim)\n",
        "results_df = pd.DataFrame(reduced_data,columns=['ratings'])"
      ]
    },
    {
      "cell_type": "code",
      "execution_count": 121,
      "id": "0a164a4f",
      "metadata": {
        "gather": {
          "logged": 1645981123371
        }
      },
      "outputs": [],
      "source": [
        "# applying min-max-scaler to reduced features\n",
        "scaler = MinMaxScaler()\n",
        "results_df[['ratings']] = scaler.fit_transform(results_df[['ratings']])"
      ]
    },
    {
      "cell_type": "code",
      "execution_count": 122,
      "id": "84ff07af",
      "metadata": {
        "gather": {
          "logged": 1645981123478
        }
      },
      "outputs": [],
      "source": [
        "data=pd.concat([data,results_df],axis=1)"
      ]
    },
    {
      "cell_type": "code",
      "execution_count": 123,
      "id": "ae0ef591",
      "metadata": {
        "gather": {
          "logged": 1645981123619
        }
      },
      "outputs": [
        {
          "data": {
            "text/html": [
              "<div>\n",
              "<style scoped>\n",
              "    .dataframe tbody tr th:only-of-type {\n",
              "        vertical-align: middle;\n",
              "    }\n",
              "\n",
              "    .dataframe tbody tr th {\n",
              "        vertical-align: top;\n",
              "    }\n",
              "\n",
              "    .dataframe thead th {\n",
              "        text-align: right;\n",
              "    }\n",
              "</style>\n",
              "<table border=\"1\" class=\"dataframe\">\n",
              "  <thead>\n",
              "    <tr style=\"text-align: right;\">\n",
              "      <th></th>\n",
              "      <th>ACCOUNT_NUM.hash</th>\n",
              "      <th>package</th>\n",
              "      <th>ratings</th>\n",
              "    </tr>\n",
              "  </thead>\n",
              "  <tbody>\n",
              "    <tr>\n",
              "      <th>0</th>\n",
              "      <td>9efd917f18bb5c966953b4227ddbaf43</td>\n",
              "      <td>TRIPLE_PLAY</td>\n",
              "      <td>0.403696</td>\n",
              "    </tr>\n",
              "    <tr>\n",
              "      <th>1</th>\n",
              "      <td>2240d11b0d9ee8f6d9e8972c6190aa42</td>\n",
              "      <td>SINGLE_PLAY</td>\n",
              "      <td>0.251039</td>\n",
              "    </tr>\n",
              "    <tr>\n",
              "      <th>2</th>\n",
              "      <td>cff00495fd556a417e2838e27465d749</td>\n",
              "      <td>DOUBLE_PLAY_BV</td>\n",
              "      <td>0.374582</td>\n",
              "    </tr>\n",
              "    <tr>\n",
              "      <th>3</th>\n",
              "      <td>d00dacd8fc98c1726d6a4e9f28f8e579</td>\n",
              "      <td>TRIPLE_PLAY</td>\n",
              "      <td>0.301764</td>\n",
              "    </tr>\n",
              "    <tr>\n",
              "      <th>4</th>\n",
              "      <td>a3ee54787617510a616dfcb52c28941b</td>\n",
              "      <td>TRIPLE_PLAY</td>\n",
              "      <td>0.384823</td>\n",
              "    </tr>\n",
              "    <tr>\n",
              "      <th>...</th>\n",
              "      <td>...</td>\n",
              "      <td>...</td>\n",
              "      <td>...</td>\n",
              "    </tr>\n",
              "    <tr>\n",
              "      <th>42589</th>\n",
              "      <td>7052930957f02ad914dbd24fdcd04fed</td>\n",
              "      <td>DOUBLE_PLAY_BV</td>\n",
              "      <td>0.399498</td>\n",
              "    </tr>\n",
              "    <tr>\n",
              "      <th>42590</th>\n",
              "      <td>c217fb1b44642e79e56af9111e9c00b2</td>\n",
              "      <td>TRIPLE_PLAY</td>\n",
              "      <td>0.879634</td>\n",
              "    </tr>\n",
              "    <tr>\n",
              "      <th>42591</th>\n",
              "      <td>5e94646aa83bb9d7fab98620405517cb</td>\n",
              "      <td>DOUBLE_PLAY_BV</td>\n",
              "      <td>0.247882</td>\n",
              "    </tr>\n",
              "    <tr>\n",
              "      <th>42592</th>\n",
              "      <td>6801a82b67b7fb942242b7aca5ba022c</td>\n",
              "      <td>DOUBLE_PLAY_BV</td>\n",
              "      <td>0.441890</td>\n",
              "    </tr>\n",
              "    <tr>\n",
              "      <th>42593</th>\n",
              "      <td>92da7428aa4a85439d5cb1adc7eb7fba</td>\n",
              "      <td>TRIPLE_PLAY</td>\n",
              "      <td>0.418573</td>\n",
              "    </tr>\n",
              "  </tbody>\n",
              "</table>\n",
              "<p>42594 rows × 3 columns</p>\n",
              "</div>"
            ],
            "text/plain": [
              "                       ACCOUNT_NUM.hash         package   ratings\n",
              "0      9efd917f18bb5c966953b4227ddbaf43     TRIPLE_PLAY  0.403696\n",
              "1      2240d11b0d9ee8f6d9e8972c6190aa42     SINGLE_PLAY  0.251039\n",
              "2      cff00495fd556a417e2838e27465d749  DOUBLE_PLAY_BV  0.374582\n",
              "3      d00dacd8fc98c1726d6a4e9f28f8e579     TRIPLE_PLAY  0.301764\n",
              "4      a3ee54787617510a616dfcb52c28941b     TRIPLE_PLAY  0.384823\n",
              "...                                 ...             ...       ...\n",
              "42589  7052930957f02ad914dbd24fdcd04fed  DOUBLE_PLAY_BV  0.399498\n",
              "42590  c217fb1b44642e79e56af9111e9c00b2     TRIPLE_PLAY  0.879634\n",
              "42591  5e94646aa83bb9d7fab98620405517cb  DOUBLE_PLAY_BV  0.247882\n",
              "42592  6801a82b67b7fb942242b7aca5ba022c  DOUBLE_PLAY_BV  0.441890\n",
              "42593  92da7428aa4a85439d5cb1adc7eb7fba     TRIPLE_PLAY  0.418573\n",
              "\n",
              "[42594 rows x 3 columns]"
            ]
          },
          "execution_count": 123,
          "metadata": {},
          "output_type": "execute_result"
        }
      ],
      "source": [
        "data.rename(columns={\"Sub_Type\":\"package\"}, inplace=True)\n",
        "data = data[[\"ACCOUNT_NUM.hash\",\"package\",\"ratings\"]]\n",
        "data"
      ]
    },
    {
      "cell_type": "markdown",
      "id": "6ef318c1",
      "metadata": {},
      "source": [
        "## Interaction Matrix"
      ]
    },
    {
      "cell_type": "code",
      "execution_count": 124,
      "id": "038dae8f",
      "metadata": {
        "gather": {
          "logged": 1645981123788
        }
      },
      "outputs": [],
      "source": [
        "# create a histogram of all the interactions by all the users present in the dataset\n",
        "def create_interaction_matrix(data):\n",
        "    interactions = data.groupby('ACCOUNT_NUM.hash').count()['package']\n",
        "    plt.hist(interactions,bins=20)\n",
        "    plt.show()\n",
        "\n",
        "    # create the user item matrix using the ratings dataset - Hint: try using pivot function \n",
        "    interactions_metrix = data.pivot_table(index=\"ACCOUNT_NUM.hash\", columns=\"package\", values=\"ratings\",aggfunc=np.sum)\n",
        "    # replace all the missing values with zero\n",
        "    return interactions_metrix.fillna(0)"
      ]
    },
    {
      "cell_type": "code",
      "execution_count": 125,
      "id": "1b4a8976",
      "metadata": {
        "gather": {
          "logged": 1645981123931
        }
      },
      "outputs": [
        {
          "data": {
            "image/png": "[encoded data removed]",
            "text/plain": [
              "<Figure size 432x288 with 1 Axes>"
            ]
          },
          "metadata": {
            "needs_background": "light"
          },
          "output_type": "display_data"
        },
        {
          "data": {
            "text/html": [
              "<div>\n",
              "<style scoped>\n",
              "    .dataframe tbody tr th:only-of-type {\n",
              "        vertical-align: middle;\n",
              "    }\n",
              "\n",
              "    .dataframe tbody tr th {\n",
              "        vertical-align: top;\n",
              "    }\n",
              "\n",
              "    .dataframe thead th {\n",
              "        text-align: right;\n",
              "    }\n",
              "</style>\n",
              "<table border=\"1\" class=\"dataframe\">\n",
              "  <thead>\n",
              "    <tr style=\"text-align: right;\">\n",
              "      <th>package</th>\n",
              "      <th>4G</th>\n",
              "      <th>DOUBLE_PLAY_BV</th>\n",
              "      <th>DOUBLE_PLAY_PV</th>\n",
              "      <th>SINGLE_PLAY</th>\n",
              "      <th>TRIPLE_PLAY</th>\n",
              "    </tr>\n",
              "    <tr>\n",
              "      <th>ACCOUNT_NUM.hash</th>\n",
              "      <th></th>\n",
              "      <th></th>\n",
              "      <th></th>\n",
              "      <th></th>\n",
              "      <th></th>\n",
              "    </tr>\n",
              "  </thead>\n",
              "  <tbody>\n",
              "    <tr>\n",
              "      <th>0003102d10a11c8f2f0f241f00a36b2d</th>\n",
              "      <td>0.0</td>\n",
              "      <td>0.000000</td>\n",
              "      <td>0.000000</td>\n",
              "      <td>0.000000</td>\n",
              "      <td>0.713319</td>\n",
              "    </tr>\n",
              "    <tr>\n",
              "      <th>0003df7598926f578f53ecd9e424f3c9</th>\n",
              "      <td>0.0</td>\n",
              "      <td>0.330602</td>\n",
              "      <td>0.000000</td>\n",
              "      <td>0.000000</td>\n",
              "      <td>0.000000</td>\n",
              "    </tr>\n",
              "    <tr>\n",
              "      <th>00092b1fd47eb05d000a3553ae072056</th>\n",
              "      <td>0.0</td>\n",
              "      <td>0.000000</td>\n",
              "      <td>0.000000</td>\n",
              "      <td>0.000000</td>\n",
              "      <td>0.413539</td>\n",
              "    </tr>\n",
              "    <tr>\n",
              "      <th>00094326efae1d73371d118204e12e46</th>\n",
              "      <td>0.0</td>\n",
              "      <td>0.000000</td>\n",
              "      <td>0.343136</td>\n",
              "      <td>0.000000</td>\n",
              "      <td>0.000000</td>\n",
              "    </tr>\n",
              "    <tr>\n",
              "      <th>000ae59b7eb91e778f22e3f07495f4f9</th>\n",
              "      <td>0.0</td>\n",
              "      <td>0.416101</td>\n",
              "      <td>0.000000</td>\n",
              "      <td>0.000000</td>\n",
              "      <td>0.000000</td>\n",
              "    </tr>\n",
              "    <tr>\n",
              "      <th>...</th>\n",
              "      <td>...</td>\n",
              "      <td>...</td>\n",
              "      <td>...</td>\n",
              "      <td>...</td>\n",
              "      <td>...</td>\n",
              "    </tr>\n",
              "    <tr>\n",
              "      <th>fff9148b195a844454cf5b07c2fccbcb</th>\n",
              "      <td>0.0</td>\n",
              "      <td>0.000000</td>\n",
              "      <td>0.090593</td>\n",
              "      <td>0.000000</td>\n",
              "      <td>0.000000</td>\n",
              "    </tr>\n",
              "    <tr>\n",
              "      <th>fffaeeddaabbd2868c183d8884b2a98d</th>\n",
              "      <td>0.0</td>\n",
              "      <td>0.000000</td>\n",
              "      <td>0.000000</td>\n",
              "      <td>0.000000</td>\n",
              "      <td>0.449490</td>\n",
              "    </tr>\n",
              "    <tr>\n",
              "      <th>fffd0b8541e9f62496092d2ea8609135</th>\n",
              "      <td>0.0</td>\n",
              "      <td>0.000000</td>\n",
              "      <td>0.000000</td>\n",
              "      <td>0.000000</td>\n",
              "      <td>0.514746</td>\n",
              "    </tr>\n",
              "    <tr>\n",
              "      <th>ffff7fc0c266ac5b34f91de1ba4f3039</th>\n",
              "      <td>0.0</td>\n",
              "      <td>0.000000</td>\n",
              "      <td>0.000000</td>\n",
              "      <td>0.000000</td>\n",
              "      <td>0.377707</td>\n",
              "    </tr>\n",
              "    <tr>\n",
              "      <th>ffffe6d0d44f76428f676bd36e83df76</th>\n",
              "      <td>0.0</td>\n",
              "      <td>0.000000</td>\n",
              "      <td>0.000000</td>\n",
              "      <td>0.243251</td>\n",
              "      <td>0.000000</td>\n",
              "    </tr>\n",
              "  </tbody>\n",
              "</table>\n",
              "<p>42594 rows × 5 columns</p>\n",
              "</div>"
            ],
            "text/plain": [
              "package                            4G  DOUBLE_PLAY_BV  DOUBLE_PLAY_PV  \\\n",
              "ACCOUNT_NUM.hash                                                        \n",
              "0003102d10a11c8f2f0f241f00a36b2d  0.0        0.000000        0.000000   \n",
              "0003df7598926f578f53ecd9e424f3c9  0.0        0.330602        0.000000   \n",
              "00092b1fd47eb05d000a3553ae072056  0.0        0.000000        0.000000   \n",
              "00094326efae1d73371d118204e12e46  0.0        0.000000        0.343136   \n",
              "000ae59b7eb91e778f22e3f07495f4f9  0.0        0.416101        0.000000   \n",
              "...                               ...             ...             ...   \n",
              "fff9148b195a844454cf5b07c2fccbcb  0.0        0.000000        0.090593   \n",
              "fffaeeddaabbd2868c183d8884b2a98d  0.0        0.000000        0.000000   \n",
              "fffd0b8541e9f62496092d2ea8609135  0.0        0.000000        0.000000   \n",
              "ffff7fc0c266ac5b34f91de1ba4f3039  0.0        0.000000        0.000000   \n",
              "ffffe6d0d44f76428f676bd36e83df76  0.0        0.000000        0.000000   \n",
              "\n",
              "package                           SINGLE_PLAY  TRIPLE_PLAY  \n",
              "ACCOUNT_NUM.hash                                            \n",
              "0003102d10a11c8f2f0f241f00a36b2d     0.000000     0.713319  \n",
              "0003df7598926f578f53ecd9e424f3c9     0.000000     0.000000  \n",
              "00092b1fd47eb05d000a3553ae072056     0.000000     0.413539  \n",
              "00094326efae1d73371d118204e12e46     0.000000     0.000000  \n",
              "000ae59b7eb91e778f22e3f07495f4f9     0.000000     0.000000  \n",
              "...                                       ...          ...  \n",
              "fff9148b195a844454cf5b07c2fccbcb     0.000000     0.000000  \n",
              "fffaeeddaabbd2868c183d8884b2a98d     0.000000     0.449490  \n",
              "fffd0b8541e9f62496092d2ea8609135     0.000000     0.514746  \n",
              "ffff7fc0c266ac5b34f91de1ba4f3039     0.000000     0.377707  \n",
              "ffffe6d0d44f76428f676bd36e83df76     0.243251     0.000000  \n",
              "\n",
              "[42594 rows x 5 columns]"
            ]
          },
          "execution_count": 125,
          "metadata": {},
          "output_type": "execute_result"
        }
      ],
      "source": [
        "create_interaction_matrix(data)"
      ]
    },
    {
      "cell_type": "code",
      "execution_count": 126,
      "id": "02e59ddf",
      "metadata": {
        "gather": {
          "logged": 1645981124071
        }
      },
      "outputs": [],
      "source": [
        "#X = interactions_metrix.values.T"
      ]
    },
    {
      "cell_type": "markdown",
      "id": "3bc85b4d-ef7c-4cdc-bfe0-5851a915b972",
      "metadata": {
        "nteract": {
          "transient": {
            "deleting": false
          }
        }
      },
      "source": [
        "## Function definition"
      ]
    },
    {
      "cell_type": "code",
      "execution_count": 127,
      "id": "43675b36-7d62-4666-933d-1a2ba990d544",
      "metadata": {
        "gather": {
          "logged": 1645981124145
        },
        "jupyter": {
          "outputs_hidden": false,
          "source_hidden": false
        },
        "nteract": {
          "transient": {
            "deleting": false
          }
        }
      },
      "outputs": [],
      "source": [
        "def train_test_splitter(data):\n",
        "    reader = Reader(rating_scale=(0, 1))\n",
        "    data_model = Dataset.load_from_df(data, reader)\n",
        "    return data_model,train_test_split(data_model, test_size=.20)"
      ]
    },
    {
      "cell_type": "code",
      "execution_count": 128,
      "id": "f0f45728",
      "metadata": {
        "gather": {
          "logged": 1645981124249
        }
      },
      "outputs": [],
      "source": [
        "def get_Iu(uid):\n",
        "    \"\"\"Return the number of items rated by given user\n",
        "    \n",
        "    Args:\n",
        "        uid: The raw id of the user.\n",
        "    Returns:\n",
        "        The number of items rated by the user.\n",
        "    \"\"\"\n",
        "    \n",
        "    try:\n",
        "        return len(trainset.ur[trainset.to_inner_uid(uid)])\n",
        "    except ValueError:  # user was not part of the trainset\n",
        "        return 0\n",
        "    \n",
        "def get_Ui(iid):\n",
        "    \"\"\"Return the number of users that have rated given item\n",
        "    \n",
        "    Args:\n",
        "        iid: The raw id of the item.\n",
        "    Returns:\n",
        "        The number of users that have rated the item.\n",
        "    \"\"\"\n",
        "    \n",
        "    try:\n",
        "        return len(trainset.ir[trainset.to_inner_iid(iid)])\n",
        "    except ValueError:  # item was not part of the trainset\n",
        "        return 0"
      ]
    },
    {
      "cell_type": "code",
      "execution_count": 129,
      "id": "1b0a6ab6-536b-4aae-99b2-6a43f80cb8da",
      "metadata": {
        "gather": {
          "logged": 1645981124350
        },
        "jupyter": {
          "outputs_hidden": false,
          "source_hidden": false
        },
        "nteract": {
          "transient": {
            "deleting": false
          }
        }
      },
      "outputs": [],
      "source": [
        "def get_top_n(predictions, n=10):\n",
        "    \n",
        "    # First map the predictions to each user.\n",
        "    top_n = defaultdict(list)\n",
        "    for uid, iid, true_r, est, _ in predictions:\n",
        "        top_n[uid].append((iid, est, true_r))\n",
        "\n",
        "    for uid, user_ratings in top_n.items():\n",
        "        user_ratings.sort(key=lambda x: x[1], reverse=True)\n",
        "        top_n[uid] = user_ratings[:5]\n",
        "        \n",
        "\n",
        "    return top_n"
      ]
    },
    {
      "cell_type": "code",
      "execution_count": 130,
      "id": "e4af93f4-c09b-4e96-adf4-83beb557a578",
      "metadata": {
        "gather": {
          "logged": 1645981124431
        },
        "jupyter": {
          "outputs_hidden": false,
          "source_hidden": false
        },
        "nteract": {
          "transient": {
            "deleting": false
          }
        }
      },
      "outputs": [],
      "source": [
        "# calculate NDCG\n",
        "def ndcg(y_true, y_pred, k=None, powered=False):\n",
        "    def dcg(scores, k=None, powered=False):\n",
        "        if k is None:\n",
        "            k = scores.shape[0]\n",
        "        if not powered:\n",
        "            ret = scores[0]\n",
        "            for i in range(1, k):\n",
        "                ret += scores[i] / np.log2(i + 1)\n",
        "            return ret\n",
        "        else:\n",
        "            ret = 0\n",
        "            for i in range(k):\n",
        "                ret += (2 ** scores[i] - 1) / np.log2(i + 2)\n",
        "            return ret\n",
        "    \n",
        "    ideal_sorted_scores = np.sort(y_true)[::-1]\n",
        "    ideal_dcg_score = dcg(ideal_sorted_scores, k=k, powered=powered)\n",
        "    \n",
        "    pred_sorted_ind = np.argsort(y_pred)[::-1]\n",
        "    pred_sorted_scores = y_true[pred_sorted_ind]\n",
        "    dcg_score = dcg(pred_sorted_scores, k=k, powered=powered)\n",
        "    \n",
        "    return dcg_score / ideal_dcg_score\n",
        "\n",
        "def ndcg1(y_true, y_pred, k=None):\n",
        "    return ndcg(y_true, y_pred, k=k, powered=False)\n",
        "\n",
        "def ndcg2(y_true, y_pred, k=None):\n",
        "    return ndcg(y_true, y_pred, k=k, powered=True)"
      ]
    },
    {
      "cell_type": "code",
      "execution_count": 131,
      "id": "9d1f7d37-cbb6-4796-8aa9-4c4b2e36eee1",
      "metadata": {
        "gather": {
          "logged": 1645981124534
        },
        "jupyter": {
          "outputs_hidden": false,
          "source_hidden": false
        },
        "nteract": {
          "transient": {
            "deleting": false
          }
        }
      },
      "outputs": [],
      "source": [
        "def top_n_pred(predictions):\n",
        "    top_n = get_top_n(predictions, n=3)\n",
        "    #print(top_n)\n",
        "    users_est = defaultdict(list)\n",
        "    users_true=defaultdict(list)\n",
        "    rec_for_user=defaultdict(list)\n",
        "    for uid, user_ratings in top_n.items():\n",
        "        users_est[uid].append([est for (_, est,_) in user_ratings])\n",
        "        users_true[uid].append([true_r for (_,_,true_r) in user_ratings])\n",
        "        rec_for_user[uid].append([iid for (iid,_,_) in user_ratings])\n",
        "    return top_n, users_est, users_true, rec_for_user"
      ]
    },
    {
      "cell_type": "code",
      "execution_count": 132,
      "id": "7ef29738-ef11-462b-89b2-dabcd72c4845",
      "metadata": {
        "gather": {
          "logged": 1645981124635
        },
        "jupyter": {
          "outputs_hidden": false,
          "source_hidden": false
        },
        "nteract": {
          "transient": {
            "deleting": false
          }
        }
      },
      "outputs": [],
      "source": [
        "def calc_ndcg(users_true,users_est):\n",
        "    ndcg_list=[]\n",
        "    for uid in top_n:\n",
        "        \n",
        "        for i in users_true[uid]:\n",
        "            y_true=np.asarray(i)#.reshape(-1,1)\n",
        "        for i in users_est[uid]:\n",
        "            y_pred=np.asarray(i)#.reshape(-1,1)\n",
        "        \n",
        "            ndcg_list.append(ndcg1(y_true, y_pred, k=None))\n",
        "\n",
        "    ndcg_list = [i for i in ndcg_list if str(i) != 'nan']\n",
        "    ndgc_rate = np.mean(ndcg_list)\n",
        "    return ndcg_list, ndgc_rate"
      ]
    },
    {
      "cell_type": "markdown",
      "id": "e610e900-61a6-4c78-a54f-0d27c3a168c1",
      "metadata": {
        "nteract": {
          "transient": {
            "deleting": false
          }
        }
      },
      "source": [
        "## Collobarative Recommenders"
      ]
    },
    {
      "cell_type": "code",
      "execution_count": 133,
      "id": "9e793712-6d37-4554-8c38-1b875cbe8579",
      "metadata": {
        "gather": {
          "logged": 1645981124720
        },
        "jupyter": {
          "outputs_hidden": false,
          "source_hidden": false
        },
        "nteract": {
          "transient": {
            "deleting": false
          }
        }
      },
      "outputs": [
        {
          "name": "stdout",
          "output_type": "stream",
          "text": [
            "<class 'pandas.core.frame.DataFrame'>\n",
            "RangeIndex: 42594 entries, 0 to 42593\n",
            "Data columns (total 3 columns):\n",
            " #   Column            Non-Null Count  Dtype  \n",
            "---  ------            --------------  -----  \n",
            " 0   ACCOUNT_NUM.hash  42594 non-null  object \n",
            " 1   package           42594 non-null  object \n",
            " 2   ratings           42594 non-null  float64\n",
            "dtypes: float64(1), object(2)\n",
            "memory usage: 998.4+ KB\n"
          ]
        }
      ],
      "source": [
        "data.info()"
      ]
    },
    {
      "cell_type": "code",
      "execution_count": 134,
      "id": "16267474-479f-46d9-ab04-95f9315e6962",
      "metadata": {
        "gather": {
          "logged": 1645981124833
        },
        "jupyter": {
          "outputs_hidden": false,
          "source_hidden": false
        },
        "nteract": {
          "transient": {
            "deleting": false
          }
        }
      },
      "outputs": [],
      "source": [
        "data = data[data[\"ratings\"] > 0]"
      ]
    },
    {
      "cell_type": "code",
      "execution_count": 135,
      "id": "6674fd94-2f06-4d61-bedd-f294e99db4b7",
      "metadata": {
        "gather": {
          "logged": 1645981124954
        },
        "jupyter": {
          "outputs_hidden": false,
          "source_hidden": false
        },
        "nteract": {
          "transient": {
            "deleting": false
          }
        }
      },
      "outputs": [],
      "source": [
        "data_model, (trainset, testset) = train_test_splitter(data)"
      ]
    },
    {
      "cell_type": "markdown",
      "id": "8160b90c",
      "metadata": {},
      "source": [
        "## SVD Model"
      ]
    },
    {
      "cell_type": "code",
      "execution_count": 136,
      "id": "3f2a3925",
      "metadata": {
        "gather": {
          "logged": 1645981134524
        }
      },
      "outputs": [
        {
          "name": "stdout",
          "output_type": "stream",
          "text": [
            "Evaluating RMSE, MAE of algorithm SVD on 5 split(s).\n",
            "\n",
            "                  Fold 1  Fold 2  Fold 3  Fold 4  Fold 5  Mean    Std     \n",
            "RMSE (testset)    0.1761  0.1772  0.1770  0.1759  0.1770  0.1766  0.0005  \n",
            "MAE (testset)     0.1392  0.1406  0.1402  0.1397  0.1413  0.1402  0.0007  \n",
            "Fit time          1.96    2.02    2.06    1.98    2.02    2.01    0.04    \n",
            "Test time         0.05    0.05    0.05    0.05    0.05    0.05    0.00    \n"
          ]
        }
      ],
      "source": [
        "# We'll use the famous SVD algorithm.\n",
        "algo = SVD()\n",
        "\n",
        "# Run 5-fold cross-validation and print results\n",
        "svd_validate = cross_validate(algo, data_model, measures=['RMSE', 'MAE'], cv=5, verbose=True)"
      ]
    },
    {
      "cell_type": "code",
      "execution_count": 137,
      "id": "8faa68d8",
      "metadata": {
        "gather": {
          "logged": 1645981136576
        }
      },
      "outputs": [],
      "source": [
        "# Train the algorithm on the trainset, and predict ratings for the testset\n",
        "algo.fit(trainset)\n",
        "predictions = algo.test(testset)"
      ]
    },
    {
      "cell_type": "code",
      "execution_count": 138,
      "id": "23d9ee07",
      "metadata": {
        "gather": {
          "logged": 1645981136692
        }
      },
      "outputs": [],
      "source": [
        "top_n, users_est, users_true, rec_for_user = top_n_pred(predictions)"
      ]
    },
    {
      "cell_type": "code",
      "execution_count": 139,
      "id": "e890aa82-79dd-4dda-b3e6-3cf6ec24640c",
      "metadata": {
        "gather": {
          "logged": 1645981136774
        },
        "jupyter": {
          "outputs_hidden": false,
          "source_hidden": false
        },
        "nteract": {
          "transient": {
            "deleting": false
          }
        }
      },
      "outputs": [
        {
          "name": "stdout",
          "output_type": "stream",
          "text": [
            "NDCG 1.0\n"
          ]
        }
      ],
      "source": [
        "ndcg_list, ndgc_rate = calc_ndcg(users_true,users_est)\n",
        "print(\"NDCG\", ndgc_rate)"
      ]
    },
    {
      "cell_type": "code",
      "execution_count": 140,
      "id": "81c2b345",
      "metadata": {
        "gather": {
          "logged": 1645981136888
        }
      },
      "outputs": [],
      "source": [
        "# Let's build a pandas dataframe with all the predictions\n",
        "df = pd.DataFrame(predictions, columns=['uid', 'iid', 'rui', 'est', 'details'])    \n",
        "df['Iu'] = df.uid.apply(get_Iu)\n",
        "df['Ui'] = df.iid.apply(get_Ui)\n",
        "df['err'] = abs(df.est - df.rui)"
      ]
    },
    {
      "cell_type": "code",
      "execution_count": 141,
      "id": "a1b888b2",
      "metadata": {
        "gather": {
          "logged": 1645981137023
        }
      },
      "outputs": [
        {
          "data": {
            "text/html": [
              "<div>\n",
              "<style scoped>\n",
              "    .dataframe tbody tr th:only-of-type {\n",
              "        vertical-align: middle;\n",
              "    }\n",
              "\n",
              "    .dataframe tbody tr th {\n",
              "        vertical-align: top;\n",
              "    }\n",
              "\n",
              "    .dataframe thead th {\n",
              "        text-align: right;\n",
              "    }\n",
              "</style>\n",
              "<table border=\"1\" class=\"dataframe\">\n",
              "  <thead>\n",
              "    <tr style=\"text-align: right;\">\n",
              "      <th></th>\n",
              "      <th>uid</th>\n",
              "      <th>iid</th>\n",
              "      <th>rui</th>\n",
              "      <th>est</th>\n",
              "      <th>details</th>\n",
              "      <th>Iu</th>\n",
              "      <th>Ui</th>\n",
              "      <th>err</th>\n",
              "    </tr>\n",
              "  </thead>\n",
              "  <tbody>\n",
              "    <tr>\n",
              "      <th>583</th>\n",
              "      <td>d225220a97308dd2b52055ddfd6138f7</td>\n",
              "      <td>TRIPLE_PLAY</td>\n",
              "      <td>0.510184</td>\n",
              "      <td>0.510200</td>\n",
              "      <td>{'was_impossible': False}</td>\n",
              "      <td>0</td>\n",
              "      <td>12724</td>\n",
              "      <td>0.000016</td>\n",
              "    </tr>\n",
              "    <tr>\n",
              "      <th>4659</th>\n",
              "      <td>fc7d8f1a4b36fbc58c8a57dc04a1d0bb</td>\n",
              "      <td>DOUBLE_PLAY_PV</td>\n",
              "      <td>0.368969</td>\n",
              "      <td>0.368928</td>\n",
              "      <td>{'was_impossible': False}</td>\n",
              "      <td>0</td>\n",
              "      <td>3064</td>\n",
              "      <td>0.000041</td>\n",
              "    </tr>\n",
              "    <tr>\n",
              "      <th>3581</th>\n",
              "      <td>3ff7b2898cc7fbac7101b0aee1e10bfc</td>\n",
              "      <td>DOUBLE_PLAY_BV</td>\n",
              "      <td>0.381766</td>\n",
              "      <td>0.381819</td>\n",
              "      <td>{'was_impossible': False}</td>\n",
              "      <td>0</td>\n",
              "      <td>12679</td>\n",
              "      <td>0.000053</td>\n",
              "    </tr>\n",
              "    <tr>\n",
              "      <th>230</th>\n",
              "      <td>666dff633dbcc11f1bc254043a016138</td>\n",
              "      <td>TRIPLE_PLAY</td>\n",
              "      <td>0.510310</td>\n",
              "      <td>0.510200</td>\n",
              "      <td>{'was_impossible': False}</td>\n",
              "      <td>0</td>\n",
              "      <td>12724</td>\n",
              "      <td>0.000110</td>\n",
              "    </tr>\n",
              "    <tr>\n",
              "      <th>7618</th>\n",
              "      <td>acda781c4a8aae80e21291112b3f2603</td>\n",
              "      <td>DOUBLE_PLAY_BV</td>\n",
              "      <td>0.381939</td>\n",
              "      <td>0.381819</td>\n",
              "      <td>{'was_impossible': False}</td>\n",
              "      <td>0</td>\n",
              "      <td>12679</td>\n",
              "      <td>0.000121</td>\n",
              "    </tr>\n",
              "    <tr>\n",
              "      <th>4887</th>\n",
              "      <td>f2d8e3cf830fa47e3e2cae2b3ca2f0d8</td>\n",
              "      <td>TRIPLE_PLAY</td>\n",
              "      <td>0.510078</td>\n",
              "      <td>0.510200</td>\n",
              "      <td>{'was_impossible': False}</td>\n",
              "      <td>0</td>\n",
              "      <td>12724</td>\n",
              "      <td>0.000122</td>\n",
              "    </tr>\n",
              "    <tr>\n",
              "      <th>2650</th>\n",
              "      <td>eff9bc2ce5226945cc72ccf67414889e</td>\n",
              "      <td>TRIPLE_PLAY</td>\n",
              "      <td>0.510348</td>\n",
              "      <td>0.510200</td>\n",
              "      <td>{'was_impossible': False}</td>\n",
              "      <td>0</td>\n",
              "      <td>12724</td>\n",
              "      <td>0.000148</td>\n",
              "    </tr>\n",
              "    <tr>\n",
              "      <th>4336</th>\n",
              "      <td>c189bae2245c7dfda4ca90f3a6d43056</td>\n",
              "      <td>TRIPLE_PLAY</td>\n",
              "      <td>0.510376</td>\n",
              "      <td>0.510200</td>\n",
              "      <td>{'was_impossible': False}</td>\n",
              "      <td>0</td>\n",
              "      <td>12724</td>\n",
              "      <td>0.000175</td>\n",
              "    </tr>\n",
              "    <tr>\n",
              "      <th>3410</th>\n",
              "      <td>33394a2b6d112bd15af487281b4aab2a</td>\n",
              "      <td>DOUBLE_PLAY_BV</td>\n",
              "      <td>0.381641</td>\n",
              "      <td>0.381819</td>\n",
              "      <td>{'was_impossible': False}</td>\n",
              "      <td>0</td>\n",
              "      <td>12679</td>\n",
              "      <td>0.000178</td>\n",
              "    </tr>\n",
              "    <tr>\n",
              "      <th>8200</th>\n",
              "      <td>ad5810fea6c4ab228ba60a92ac500988</td>\n",
              "      <td>DOUBLE_PLAY_BV</td>\n",
              "      <td>0.381999</td>\n",
              "      <td>0.381819</td>\n",
              "      <td>{'was_impossible': False}</td>\n",
              "      <td>0</td>\n",
              "      <td>12679</td>\n",
              "      <td>0.000180</td>\n",
              "    </tr>\n",
              "  </tbody>\n",
              "</table>\n",
              "</div>"
            ],
            "text/plain": [
              "                                   uid             iid       rui       est  \\\n",
              "583   d225220a97308dd2b52055ddfd6138f7     TRIPLE_PLAY  0.510184  0.510200   \n",
              "4659  fc7d8f1a4b36fbc58c8a57dc04a1d0bb  DOUBLE_PLAY_PV  0.368969  0.368928   \n",
              "3581  3ff7b2898cc7fbac7101b0aee1e10bfc  DOUBLE_PLAY_BV  0.381766  0.381819   \n",
              "230   666dff633dbcc11f1bc254043a016138     TRIPLE_PLAY  0.510310  0.510200   \n",
              "7618  acda781c4a8aae80e21291112b3f2603  DOUBLE_PLAY_BV  0.381939  0.381819   \n",
              "4887  f2d8e3cf830fa47e3e2cae2b3ca2f0d8     TRIPLE_PLAY  0.510078  0.510200   \n",
              "2650  eff9bc2ce5226945cc72ccf67414889e     TRIPLE_PLAY  0.510348  0.510200   \n",
              "4336  c189bae2245c7dfda4ca90f3a6d43056     TRIPLE_PLAY  0.510376  0.510200   \n",
              "3410  33394a2b6d112bd15af487281b4aab2a  DOUBLE_PLAY_BV  0.381641  0.381819   \n",
              "8200  ad5810fea6c4ab228ba60a92ac500988  DOUBLE_PLAY_BV  0.381999  0.381819   \n",
              "\n",
              "                        details  Iu     Ui       err  \n",
              "583   {'was_impossible': False}   0  12724  0.000016  \n",
              "4659  {'was_impossible': False}   0   3064  0.000041  \n",
              "3581  {'was_impossible': False}   0  12679  0.000053  \n",
              "230   {'was_impossible': False}   0  12724  0.000110  \n",
              "7618  {'was_impossible': False}   0  12679  0.000121  \n",
              "4887  {'was_impossible': False}   0  12724  0.000122  \n",
              "2650  {'was_impossible': False}   0  12724  0.000148  \n",
              "4336  {'was_impossible': False}   0  12724  0.000175  \n",
              "3410  {'was_impossible': False}   0  12679  0.000178  \n",
              "8200  {'was_impossible': False}   0  12679  0.000180  "
            ]
          },
          "execution_count": 141,
          "metadata": {},
          "output_type": "execute_result"
        }
      ],
      "source": [
        "# 10 Best predictions\n",
        "best_predictions = df.sort_values(by='err')[:10]\n",
        "best_predictions"
      ]
    },
    {
      "cell_type": "code",
      "execution_count": 142,
      "id": "e989e96c-ea2b-49d2-b1fb-9581d3ed8c87",
      "metadata": {
        "gather": {
          "logged": 1645981137197
        },
        "jupyter": {
          "outputs_hidden": false,
          "source_hidden": false
        },
        "nteract": {
          "transient": {
            "deleting": false
          }
        }
      },
      "outputs": [],
      "source": [
        "df.sort_values(by='err').to_csv(\"data/cross-selling/scored/SVD_Scored.csv\")"
      ]
    },
    {
      "cell_type": "code",
      "execution_count": 143,
      "id": "f8cea6af",
      "metadata": {
        "gather": {
          "logged": 1645981137324
        }
      },
      "outputs": [
        {
          "name": "stdout",
          "output_type": "stream",
          "text": [
            "RMSE: 0.1754\n",
            "SVD RMSE --> 0.17536393565496067\n",
            "SVD Accuracy --> 0.8246360643450393\n"
          ]
        }
      ],
      "source": [
        "rmse = accuracy.rmse(predictions)\n",
        "print(\"SVD RMSE -->\",rmse)\n",
        "print(\"SVD Accuracy -->\",1-rmse)"
      ]
    },
    {
      "cell_type": "code",
      "execution_count": 144,
      "id": "53472e26",
      "metadata": {
        "gather": {
          "logged": 1645981137407
        }
      },
      "outputs": [],
      "source": [
        "data_triplet = data.merge(df[[\"uid\",\"iid\",\"err\"]], left_on=\"ACCOUNT_NUM.hash\", right_on =\"uid\", how=\"left\")\n",
        "data_triplet.dropna(subset=[\"uid\"],inplace=True)\n",
        "data_triplet.drop(\"uid\", axis=1, inplace = True)\n",
        "data_triplet.rename(columns={\"package\":\"Actual_Subscription\",\"iid\":\"SVD_recommendation\",\"err\":\"SVD_error\"}, inplace = True)"
      ]
    },
    {
      "cell_type": "markdown",
      "id": "166932b4",
      "metadata": {},
      "source": [
        "## SlopeOne"
      ]
    },
    {
      "cell_type": "code",
      "execution_count": 145,
      "id": "94e9dc7c",
      "metadata": {
        "gather": {
          "logged": 1645981140153
        }
      },
      "outputs": [
        {
          "name": "stdout",
          "output_type": "stream",
          "text": [
            "Evaluating RMSE, MAE of algorithm SlopeOne on 5 split(s).\n",
            "\n",
            "                  Fold 1  Fold 2  Fold 3  Fold 4  Fold 5  Mean    Std     \n",
            "RMSE (testset)    0.2025  0.2044  0.2067  0.2038  0.2045  0.2044  0.0014  \n",
            "MAE (testset)     0.1576  0.1601  0.1621  0.1592  0.1597  0.1597  0.0014  \n",
            "Fit time          0.33    0.35    0.36    0.34    0.34    0.35    0.01    \n",
            "Test time         0.06    0.06    0.07    0.06    0.06    0.06    0.00    \n"
          ]
        }
      ],
      "source": [
        "# We'll use the SlopeOne algorithm.\n",
        "algo = SlopeOne()\n",
        "\n",
        "# Run 5-fold cross-validation and print results\n",
        "so_validate =cross_validate(algo, data_model, measures=['RMSE', 'MAE'], cv=5, verbose=True)"
      ]
    },
    {
      "cell_type": "code",
      "execution_count": 146,
      "id": "27f42260",
      "metadata": {
        "gather": {
          "logged": 1645981140463
        }
      },
      "outputs": [],
      "source": [
        "# Train the algorithm on the trainset, and predict ratings for the testset\n",
        "algo.fit(trainset)\n",
        "predictions = algo.test(testset)"
      ]
    },
    {
      "cell_type": "code",
      "execution_count": 147,
      "id": "c6650be3-38b0-4691-86b5-2b69cd14b84e",
      "metadata": {
        "gather": {
          "logged": 1645981140572
        },
        "jupyter": {
          "outputs_hidden": false,
          "source_hidden": false
        },
        "nteract": {
          "transient": {
            "deleting": false
          }
        }
      },
      "outputs": [],
      "source": [
        "top_n, users_est, users_true, rec_for_user = top_n_pred(predictions)"
      ]
    },
    {
      "cell_type": "code",
      "execution_count": 148,
      "id": "3cf9a0b2-4ced-4645-a692-5cf236083c84",
      "metadata": {
        "gather": {
          "logged": 1645981140702
        },
        "jupyter": {
          "outputs_hidden": false,
          "source_hidden": false
        },
        "nteract": {
          "transient": {
            "deleting": false
          }
        }
      },
      "outputs": [
        {
          "name": "stdout",
          "output_type": "stream",
          "text": [
            "NDCG 1.0\n"
          ]
        }
      ],
      "source": [
        "ndcg_list, ndgc_rate = calc_ndcg(users_true,users_est)\n",
        "print(\"NDCG\", ndgc_rate)"
      ]
    },
    {
      "cell_type": "code",
      "execution_count": 149,
      "id": "b06b86d3",
      "metadata": {
        "gather": {
          "logged": 1645981140812
        }
      },
      "outputs": [],
      "source": [
        "# Let's build a pandas dataframe with all the predictions\n",
        "df = pd.DataFrame(predictions, columns=['uid', 'iid', 'rui', 'est', 'details'])    \n",
        "df['Iu'] = df.uid.apply(get_Iu)\n",
        "df['Ui'] = df.iid.apply(get_Ui)\n",
        "df['err'] = abs(df.est - df.rui)"
      ]
    },
    {
      "cell_type": "code",
      "execution_count": 150,
      "id": "55127359",
      "metadata": {
        "gather": {
          "logged": 1645981140945
        }
      },
      "outputs": [
        {
          "data": {
            "text/html": [
              "<div>\n",
              "<style scoped>\n",
              "    .dataframe tbody tr th:only-of-type {\n",
              "        vertical-align: middle;\n",
              "    }\n",
              "\n",
              "    .dataframe tbody tr th {\n",
              "        vertical-align: top;\n",
              "    }\n",
              "\n",
              "    .dataframe thead th {\n",
              "        text-align: right;\n",
              "    }\n",
              "</style>\n",
              "<table border=\"1\" class=\"dataframe\">\n",
              "  <thead>\n",
              "    <tr style=\"text-align: right;\">\n",
              "      <th></th>\n",
              "      <th>uid</th>\n",
              "      <th>iid</th>\n",
              "      <th>rui</th>\n",
              "      <th>est</th>\n",
              "      <th>details</th>\n",
              "      <th>Iu</th>\n",
              "      <th>Ui</th>\n",
              "      <th>err</th>\n",
              "    </tr>\n",
              "  </thead>\n",
              "  <tbody>\n",
              "    <tr>\n",
              "      <th>4092</th>\n",
              "      <td>4613ca7184c740bda13ad868792e6961</td>\n",
              "      <td>TRIPLE_PLAY</td>\n",
              "      <td>0.406970</td>\n",
              "      <td>0.406974</td>\n",
              "      <td>{'was_impossible': True, 'reason': 'User and/o...</td>\n",
              "      <td>0</td>\n",
              "      <td>12724</td>\n",
              "      <td>0.000004</td>\n",
              "    </tr>\n",
              "    <tr>\n",
              "      <th>2415</th>\n",
              "      <td>5993a34742ee50dad92ba27918d202aa</td>\n",
              "      <td>DOUBLE_PLAY_BV</td>\n",
              "      <td>0.406983</td>\n",
              "      <td>0.406974</td>\n",
              "      <td>{'was_impossible': True, 'reason': 'User and/o...</td>\n",
              "      <td>0</td>\n",
              "      <td>12679</td>\n",
              "      <td>0.000009</td>\n",
              "    </tr>\n",
              "    <tr>\n",
              "      <th>1093</th>\n",
              "      <td>a69f76b793a0f81f6bf03334891a7639</td>\n",
              "      <td>TRIPLE_PLAY</td>\n",
              "      <td>0.406952</td>\n",
              "      <td>0.406974</td>\n",
              "      <td>{'was_impossible': True, 'reason': 'User and/o...</td>\n",
              "      <td>0</td>\n",
              "      <td>12724</td>\n",
              "      <td>0.000022</td>\n",
              "    </tr>\n",
              "    <tr>\n",
              "      <th>7</th>\n",
              "      <td>38c9fc6c82f448802bdf87c0f06687bb</td>\n",
              "      <td>DOUBLE_PLAY_BV</td>\n",
              "      <td>0.406949</td>\n",
              "      <td>0.406974</td>\n",
              "      <td>{'was_impossible': True, 'reason': 'User and/o...</td>\n",
              "      <td>0</td>\n",
              "      <td>12679</td>\n",
              "      <td>0.000025</td>\n",
              "    </tr>\n",
              "    <tr>\n",
              "      <th>8215</th>\n",
              "      <td>452333afef985e3a381f324cf5f9c03a</td>\n",
              "      <td>DOUBLE_PLAY_BV</td>\n",
              "      <td>0.407041</td>\n",
              "      <td>0.406974</td>\n",
              "      <td>{'was_impossible': True, 'reason': 'User and/o...</td>\n",
              "      <td>0</td>\n",
              "      <td>12679</td>\n",
              "      <td>0.000067</td>\n",
              "    </tr>\n",
              "    <tr>\n",
              "      <th>5250</th>\n",
              "      <td>9c1b97133c63d72f524e5eccf725eb5f</td>\n",
              "      <td>DOUBLE_PLAY_BV</td>\n",
              "      <td>0.407075</td>\n",
              "      <td>0.406974</td>\n",
              "      <td>{'was_impossible': True, 'reason': 'User and/o...</td>\n",
              "      <td>0</td>\n",
              "      <td>12679</td>\n",
              "      <td>0.000101</td>\n",
              "    </tr>\n",
              "    <tr>\n",
              "      <th>5359</th>\n",
              "      <td>7911d0c2cdc4b981abb7bbc86d6c042b</td>\n",
              "      <td>TRIPLE_PLAY</td>\n",
              "      <td>0.406826</td>\n",
              "      <td>0.406974</td>\n",
              "      <td>{'was_impossible': True, 'reason': 'User and/o...</td>\n",
              "      <td>0</td>\n",
              "      <td>12724</td>\n",
              "      <td>0.000148</td>\n",
              "    </tr>\n",
              "    <tr>\n",
              "      <th>3098</th>\n",
              "      <td>45e3e7602b24b61f107bdaed331259a2</td>\n",
              "      <td>DOUBLE_PLAY_BV</td>\n",
              "      <td>0.406821</td>\n",
              "      <td>0.406974</td>\n",
              "      <td>{'was_impossible': True, 'reason': 'User and/o...</td>\n",
              "      <td>0</td>\n",
              "      <td>12679</td>\n",
              "      <td>0.000153</td>\n",
              "    </tr>\n",
              "    <tr>\n",
              "      <th>1901</th>\n",
              "      <td>d1805fca4fcface24d5e9deabd072da4</td>\n",
              "      <td>DOUBLE_PLAY_BV</td>\n",
              "      <td>0.407165</td>\n",
              "      <td>0.406974</td>\n",
              "      <td>{'was_impossible': True, 'reason': 'User and/o...</td>\n",
              "      <td>0</td>\n",
              "      <td>12679</td>\n",
              "      <td>0.000191</td>\n",
              "    </tr>\n",
              "    <tr>\n",
              "      <th>2695</th>\n",
              "      <td>5a585d43c83a65b0dacc9e895604a50e</td>\n",
              "      <td>DOUBLE_PLAY_BV</td>\n",
              "      <td>0.406755</td>\n",
              "      <td>0.406974</td>\n",
              "      <td>{'was_impossible': True, 'reason': 'User and/o...</td>\n",
              "      <td>0</td>\n",
              "      <td>12679</td>\n",
              "      <td>0.000219</td>\n",
              "    </tr>\n",
              "  </tbody>\n",
              "</table>\n",
              "</div>"
            ],
            "text/plain": [
              "                                   uid             iid       rui       est  \\\n",
              "4092  4613ca7184c740bda13ad868792e6961     TRIPLE_PLAY  0.406970  0.406974   \n",
              "2415  5993a34742ee50dad92ba27918d202aa  DOUBLE_PLAY_BV  0.406983  0.406974   \n",
              "1093  a69f76b793a0f81f6bf03334891a7639     TRIPLE_PLAY  0.406952  0.406974   \n",
              "7     38c9fc6c82f448802bdf87c0f06687bb  DOUBLE_PLAY_BV  0.406949  0.406974   \n",
              "8215  452333afef985e3a381f324cf5f9c03a  DOUBLE_PLAY_BV  0.407041  0.406974   \n",
              "5250  9c1b97133c63d72f524e5eccf725eb5f  DOUBLE_PLAY_BV  0.407075  0.406974   \n",
              "5359  7911d0c2cdc4b981abb7bbc86d6c042b     TRIPLE_PLAY  0.406826  0.406974   \n",
              "3098  45e3e7602b24b61f107bdaed331259a2  DOUBLE_PLAY_BV  0.406821  0.406974   \n",
              "1901  d1805fca4fcface24d5e9deabd072da4  DOUBLE_PLAY_BV  0.407165  0.406974   \n",
              "2695  5a585d43c83a65b0dacc9e895604a50e  DOUBLE_PLAY_BV  0.406755  0.406974   \n",
              "\n",
              "                                                details  Iu     Ui       err  \n",
              "4092  {'was_impossible': True, 'reason': 'User and/o...   0  12724  0.000004  \n",
              "2415  {'was_impossible': True, 'reason': 'User and/o...   0  12679  0.000009  \n",
              "1093  {'was_impossible': True, 'reason': 'User and/o...   0  12724  0.000022  \n",
              "7     {'was_impossible': True, 'reason': 'User and/o...   0  12679  0.000025  \n",
              "8215  {'was_impossible': True, 'reason': 'User and/o...   0  12679  0.000067  \n",
              "5250  {'was_impossible': True, 'reason': 'User and/o...   0  12679  0.000101  \n",
              "5359  {'was_impossible': True, 'reason': 'User and/o...   0  12724  0.000148  \n",
              "3098  {'was_impossible': True, 'reason': 'User and/o...   0  12679  0.000153  \n",
              "1901  {'was_impossible': True, 'reason': 'User and/o...   0  12679  0.000191  \n",
              "2695  {'was_impossible': True, 'reason': 'User and/o...   0  12679  0.000219  "
            ]
          },
          "execution_count": 150,
          "metadata": {},
          "output_type": "execute_result"
        }
      ],
      "source": [
        "# 10 Best predictions\n",
        "best_predictions = df.sort_values(by='err')[:10]\n",
        "best_predictions"
      ]
    },
    {
      "cell_type": "code",
      "execution_count": 151,
      "id": "1e39ff9b-3565-425d-a4cd-134dc33402a6",
      "metadata": {
        "gather": {
          "logged": 1645981141121
        },
        "jupyter": {
          "outputs_hidden": false,
          "source_hidden": false
        },
        "nteract": {
          "transient": {
            "deleting": false
          }
        }
      },
      "outputs": [],
      "source": [
        "df.sort_values(by='err').to_csv(\"data/cross-selling/scored/SlopeOne_Scored.csv\")"
      ]
    },
    {
      "cell_type": "code",
      "execution_count": 152,
      "id": "9ed6ce12",
      "metadata": {
        "gather": {
          "logged": 1645981141229
        }
      },
      "outputs": [
        {
          "name": "stdout",
          "output_type": "stream",
          "text": [
            "RMSE: 0.2035\n",
            "SlopeOne RMSE --> 0.20354401298921038\n",
            "SlopeOne Accuracy --> 0.7964559870107897\n"
          ]
        }
      ],
      "source": [
        "rmse = accuracy.rmse(predictions)\n",
        "print(\"SlopeOne RMSE -->\",rmse)\n",
        "print(\"SlopeOne Accuracy -->\",1-rmse)"
      ]
    },
    {
      "cell_type": "code",
      "execution_count": 153,
      "id": "a2056605",
      "metadata": {
        "gather": {
          "logged": 1645981141338
        }
      },
      "outputs": [],
      "source": [
        "data_triplet = data_triplet.merge(df[[\"uid\",\"iid\",\"err\"]], left_on=\"ACCOUNT_NUM.hash\", right_on =\"uid\", how=\"left\")\n",
        "data_triplet.dropna(subset=[\"uid\"],inplace=True)\n",
        "data_triplet.drop(\"uid\", axis=1, inplace = True)\n",
        "data_triplet.rename(columns={\"iid\":\"SlopeOne_recommendation\",\"err\":\"SlopeOne_error\"}, inplace = True)"
      ]
    },
    {
      "cell_type": "markdown",
      "id": "47d349c3",
      "metadata": {},
      "source": [
        "## Matrix factorization (NMF)"
      ]
    },
    {
      "cell_type": "code",
      "execution_count": 154,
      "id": "6f8b029e",
      "metadata": {
        "gather": {
          "logged": 1645981164523
        }
      },
      "outputs": [
        {
          "name": "stdout",
          "output_type": "stream",
          "text": [
            "Evaluating RMSE, MAE of algorithm NMF on 5 split(s).\n",
            "\n",
            "                  Fold 1  Fold 2  Fold 3  Fold 4  Fold 5  Mean    Std     \n",
            "RMSE (testset)    0.2070  0.2033  0.2063  0.2010  0.2043  0.2044  0.0022  \n",
            "MAE (testset)     0.1623  0.1583  0.1613  0.1573  0.1596  0.1597  0.0018  \n",
            "Fit time          4.42    4.21    4.64    4.51    4.68    4.49    0.17    \n",
            "Test time         0.05    0.05    0.05    0.06    0.06    0.05    0.00    \n"
          ]
        }
      ],
      "source": [
        "# We'll use the SlopeOne algorithm.\n",
        "algo = NMF()\n",
        "\n",
        "# Run 5-fold cross-validation and print results\n",
        "nmf_validate =cross_validate(algo, data_model, measures=['RMSE', 'MAE'], cv=5, verbose=True)"
      ]
    },
    {
      "cell_type": "code",
      "execution_count": 155,
      "id": "b4c744b8",
      "metadata": {
        "gather": {
          "logged": 1645981169137
        }
      },
      "outputs": [],
      "source": [
        "# Train the algorithm on the trainset, and predict ratings for the testset\n",
        "algo.fit(trainset)\n",
        "predictions = algo.test(testset)"
      ]
    },
    {
      "cell_type": "code",
      "execution_count": 156,
      "id": "60134af5-e297-4d93-8926-58fb26139e63",
      "metadata": {
        "gather": {
          "logged": 1645981169286
        },
        "jupyter": {
          "outputs_hidden": false,
          "source_hidden": false
        },
        "nteract": {
          "transient": {
            "deleting": false
          }
        }
      },
      "outputs": [],
      "source": [
        "top_n, users_est, users_true, rec_for_user = top_n_pred(predictions)"
      ]
    },
    {
      "cell_type": "code",
      "execution_count": 157,
      "id": "f641609f-cd53-4adf-ae53-b82ca3102a74",
      "metadata": {
        "gather": {
          "logged": 1645981169447
        },
        "jupyter": {
          "outputs_hidden": false,
          "source_hidden": false
        },
        "nteract": {
          "transient": {
            "deleting": false
          }
        }
      },
      "outputs": [
        {
          "name": "stdout",
          "output_type": "stream",
          "text": [
            "NDCG 1.0\n"
          ]
        }
      ],
      "source": [
        "ndcg_list, ndgc_rate = calc_ndcg(users_true,users_est)\n",
        "print(\"NDCG\", ndgc_rate)"
      ]
    },
    {
      "cell_type": "code",
      "execution_count": 158,
      "id": "8b02ca0e",
      "metadata": {
        "gather": {
          "logged": 1645981169582
        }
      },
      "outputs": [],
      "source": [
        "# Let's build a pandas dataframe with all the predictions\n",
        "df = pd.DataFrame(predictions, columns=['uid', 'iid', 'rui', 'est', 'details'])    \n",
        "df['Iu'] = df.uid.apply(get_Iu)\n",
        "df['Ui'] = df.iid.apply(get_Ui)\n",
        "df['err'] = abs(df.est - df.rui)"
      ]
    },
    {
      "cell_type": "code",
      "execution_count": 159,
      "id": "fba75d87",
      "metadata": {
        "gather": {
          "logged": 1645981169749
        }
      },
      "outputs": [
        {
          "data": {
            "text/html": [
              "<div>\n",
              "<style scoped>\n",
              "    .dataframe tbody tr th:only-of-type {\n",
              "        vertical-align: middle;\n",
              "    }\n",
              "\n",
              "    .dataframe tbody tr th {\n",
              "        vertical-align: top;\n",
              "    }\n",
              "\n",
              "    .dataframe thead th {\n",
              "        text-align: right;\n",
              "    }\n",
              "</style>\n",
              "<table border=\"1\" class=\"dataframe\">\n",
              "  <thead>\n",
              "    <tr style=\"text-align: right;\">\n",
              "      <th></th>\n",
              "      <th>uid</th>\n",
              "      <th>iid</th>\n",
              "      <th>rui</th>\n",
              "      <th>est</th>\n",
              "      <th>details</th>\n",
              "      <th>Iu</th>\n",
              "      <th>Ui</th>\n",
              "      <th>err</th>\n",
              "    </tr>\n",
              "  </thead>\n",
              "  <tbody>\n",
              "    <tr>\n",
              "      <th>4092</th>\n",
              "      <td>4613ca7184c740bda13ad868792e6961</td>\n",
              "      <td>TRIPLE_PLAY</td>\n",
              "      <td>0.406970</td>\n",
              "      <td>0.406974</td>\n",
              "      <td>{'was_impossible': True, 'reason': 'User and i...</td>\n",
              "      <td>0</td>\n",
              "      <td>12724</td>\n",
              "      <td>0.000004</td>\n",
              "    </tr>\n",
              "    <tr>\n",
              "      <th>2415</th>\n",
              "      <td>5993a34742ee50dad92ba27918d202aa</td>\n",
              "      <td>DOUBLE_PLAY_BV</td>\n",
              "      <td>0.406983</td>\n",
              "      <td>0.406974</td>\n",
              "      <td>{'was_impossible': True, 'reason': 'User and i...</td>\n",
              "      <td>0</td>\n",
              "      <td>12679</td>\n",
              "      <td>0.000009</td>\n",
              "    </tr>\n",
              "    <tr>\n",
              "      <th>1093</th>\n",
              "      <td>a69f76b793a0f81f6bf03334891a7639</td>\n",
              "      <td>TRIPLE_PLAY</td>\n",
              "      <td>0.406952</td>\n",
              "      <td>0.406974</td>\n",
              "      <td>{'was_impossible': True, 'reason': 'User and i...</td>\n",
              "      <td>0</td>\n",
              "      <td>12724</td>\n",
              "      <td>0.000022</td>\n",
              "    </tr>\n",
              "    <tr>\n",
              "      <th>7</th>\n",
              "      <td>38c9fc6c82f448802bdf87c0f06687bb</td>\n",
              "      <td>DOUBLE_PLAY_BV</td>\n",
              "      <td>0.406949</td>\n",
              "      <td>0.406974</td>\n",
              "      <td>{'was_impossible': True, 'reason': 'User and i...</td>\n",
              "      <td>0</td>\n",
              "      <td>12679</td>\n",
              "      <td>0.000025</td>\n",
              "    </tr>\n",
              "    <tr>\n",
              "      <th>8215</th>\n",
              "      <td>452333afef985e3a381f324cf5f9c03a</td>\n",
              "      <td>DOUBLE_PLAY_BV</td>\n",
              "      <td>0.407041</td>\n",
              "      <td>0.406974</td>\n",
              "      <td>{'was_impossible': True, 'reason': 'User and i...</td>\n",
              "      <td>0</td>\n",
              "      <td>12679</td>\n",
              "      <td>0.000067</td>\n",
              "    </tr>\n",
              "    <tr>\n",
              "      <th>5250</th>\n",
              "      <td>9c1b97133c63d72f524e5eccf725eb5f</td>\n",
              "      <td>DOUBLE_PLAY_BV</td>\n",
              "      <td>0.407075</td>\n",
              "      <td>0.406974</td>\n",
              "      <td>{'was_impossible': True, 'reason': 'User and i...</td>\n",
              "      <td>0</td>\n",
              "      <td>12679</td>\n",
              "      <td>0.000101</td>\n",
              "    </tr>\n",
              "    <tr>\n",
              "      <th>5359</th>\n",
              "      <td>7911d0c2cdc4b981abb7bbc86d6c042b</td>\n",
              "      <td>TRIPLE_PLAY</td>\n",
              "      <td>0.406826</td>\n",
              "      <td>0.406974</td>\n",
              "      <td>{'was_impossible': True, 'reason': 'User and i...</td>\n",
              "      <td>0</td>\n",
              "      <td>12724</td>\n",
              "      <td>0.000148</td>\n",
              "    </tr>\n",
              "    <tr>\n",
              "      <th>3098</th>\n",
              "      <td>45e3e7602b24b61f107bdaed331259a2</td>\n",
              "      <td>DOUBLE_PLAY_BV</td>\n",
              "      <td>0.406821</td>\n",
              "      <td>0.406974</td>\n",
              "      <td>{'was_impossible': True, 'reason': 'User and i...</td>\n",
              "      <td>0</td>\n",
              "      <td>12679</td>\n",
              "      <td>0.000153</td>\n",
              "    </tr>\n",
              "    <tr>\n",
              "      <th>1901</th>\n",
              "      <td>d1805fca4fcface24d5e9deabd072da4</td>\n",
              "      <td>DOUBLE_PLAY_BV</td>\n",
              "      <td>0.407165</td>\n",
              "      <td>0.406974</td>\n",
              "      <td>{'was_impossible': True, 'reason': 'User and i...</td>\n",
              "      <td>0</td>\n",
              "      <td>12679</td>\n",
              "      <td>0.000191</td>\n",
              "    </tr>\n",
              "    <tr>\n",
              "      <th>2695</th>\n",
              "      <td>5a585d43c83a65b0dacc9e895604a50e</td>\n",
              "      <td>DOUBLE_PLAY_BV</td>\n",
              "      <td>0.406755</td>\n",
              "      <td>0.406974</td>\n",
              "      <td>{'was_impossible': True, 'reason': 'User and i...</td>\n",
              "      <td>0</td>\n",
              "      <td>12679</td>\n",
              "      <td>0.000219</td>\n",
              "    </tr>\n",
              "  </tbody>\n",
              "</table>\n",
              "</div>"
            ],
            "text/plain": [
              "                                   uid             iid       rui       est  \\\n",
              "4092  4613ca7184c740bda13ad868792e6961     TRIPLE_PLAY  0.406970  0.406974   \n",
              "2415  5993a34742ee50dad92ba27918d202aa  DOUBLE_PLAY_BV  0.406983  0.406974   \n",
              "1093  a69f76b793a0f81f6bf03334891a7639     TRIPLE_PLAY  0.406952  0.406974   \n",
              "7     38c9fc6c82f448802bdf87c0f06687bb  DOUBLE_PLAY_BV  0.406949  0.406974   \n",
              "8215  452333afef985e3a381f324cf5f9c03a  DOUBLE_PLAY_BV  0.407041  0.406974   \n",
              "5250  9c1b97133c63d72f524e5eccf725eb5f  DOUBLE_PLAY_BV  0.407075  0.406974   \n",
              "5359  7911d0c2cdc4b981abb7bbc86d6c042b     TRIPLE_PLAY  0.406826  0.406974   \n",
              "3098  45e3e7602b24b61f107bdaed331259a2  DOUBLE_PLAY_BV  0.406821  0.406974   \n",
              "1901  d1805fca4fcface24d5e9deabd072da4  DOUBLE_PLAY_BV  0.407165  0.406974   \n",
              "2695  5a585d43c83a65b0dacc9e895604a50e  DOUBLE_PLAY_BV  0.406755  0.406974   \n",
              "\n",
              "                                                details  Iu     Ui       err  \n",
              "4092  {'was_impossible': True, 'reason': 'User and i...   0  12724  0.000004  \n",
              "2415  {'was_impossible': True, 'reason': 'User and i...   0  12679  0.000009  \n",
              "1093  {'was_impossible': True, 'reason': 'User and i...   0  12724  0.000022  \n",
              "7     {'was_impossible': True, 'reason': 'User and i...   0  12679  0.000025  \n",
              "8215  {'was_impossible': True, 'reason': 'User and i...   0  12679  0.000067  \n",
              "5250  {'was_impossible': True, 'reason': 'User and i...   0  12679  0.000101  \n",
              "5359  {'was_impossible': True, 'reason': 'User and i...   0  12724  0.000148  \n",
              "3098  {'was_impossible': True, 'reason': 'User and i...   0  12679  0.000153  \n",
              "1901  {'was_impossible': True, 'reason': 'User and i...   0  12679  0.000191  \n",
              "2695  {'was_impossible': True, 'reason': 'User and i...   0  12679  0.000219  "
            ]
          },
          "execution_count": 159,
          "metadata": {},
          "output_type": "execute_result"
        }
      ],
      "source": [
        "# 10 Best predictions\n",
        "best_predictions = df.sort_values(by='err')[:10]\n",
        "best_predictions"
      ]
    },
    {
      "cell_type": "code",
      "execution_count": 160,
      "id": "07bfb7ef-882e-43f6-9caf-4f9f274c796a",
      "metadata": {
        "gather": {
          "logged": 1645981170277
        },
        "jupyter": {
          "outputs_hidden": false,
          "source_hidden": false
        },
        "nteract": {
          "transient": {
            "deleting": false
          }
        }
      },
      "outputs": [],
      "source": [
        "df.sort_values(by='err').to_csv(\"data/cross-selling/scored/MF_Scored.csv\")"
      ]
    },
    {
      "cell_type": "code",
      "execution_count": 161,
      "id": "cb72f58e",
      "metadata": {
        "gather": {
          "logged": 1645981170409
        }
      },
      "outputs": [
        {
          "name": "stdout",
          "output_type": "stream",
          "text": [
            "RMSE: 0.2035\n",
            "MF RMSE --> 0.20354401298921038\n",
            "MF Accuracy --> 0.7964559870107897\n"
          ]
        }
      ],
      "source": [
        "rmse = accuracy.rmse(predictions)\n",
        "print(\"MF RMSE -->\",rmse)\n",
        "print(\"MF Accuracy -->\",1-rmse)"
      ]
    },
    {
      "cell_type": "code",
      "execution_count": 162,
      "id": "66184c59",
      "metadata": {
        "gather": {
          "logged": 1645981170594
        }
      },
      "outputs": [],
      "source": [
        "data_triplet = data_triplet.merge(df[[\"uid\",\"iid\",\"err\"]], left_on=\"ACCOUNT_NUM.hash\", right_on =\"uid\", how=\"left\")\n",
        "data_triplet.dropna(subset=[\"uid\"],inplace=True)\n",
        "data_triplet.drop(\"uid\", axis=1, inplace = True)\n",
        "data_triplet.rename(columns={\"iid\":\"MF_recommendation\",\"err\":\"MF_error\"}, inplace = True)"
      ]
    },
    {
      "cell_type": "markdown",
      "id": "d5a70223-fb6c-4ef8-811e-7e90bd8a1765",
      "metadata": {
        "nteract": {
          "transient": {
            "deleting": false
          }
        }
      },
      "source": [
        "## KNN with Means recommender"
      ]
    },
    {
      "cell_type": "code",
      "execution_count": 163,
      "id": "9dbf94ae-5914-4f8f-b9d6-6d50a122f754",
      "metadata": {
        "gather": {
          "logged": 1645981560126
        },
        "jupyter": {
          "outputs_hidden": false,
          "source_hidden": false
        },
        "nteract": {
          "transient": {
            "deleting": false
          }
        }
      },
      "outputs": [
        {
          "name": "stdout",
          "output_type": "stream",
          "text": [
            "Computing the msd similarity matrix...\n",
            "Done computing similarity matrix.\n",
            "Computing the msd similarity matrix...\n",
            "Done computing similarity matrix.\n",
            "Computing the msd similarity matrix...\n",
            "Done computing similarity matrix.\n",
            "Computing the msd similarity matrix...\n",
            "Done computing similarity matrix.\n",
            "Computing the msd similarity matrix...\n",
            "Done computing similarity matrix.\n",
            "Evaluating RMSE, MAE of algorithm KNNWithMeans on 5 split(s).\n",
            "\n",
            "                  Fold 1  Fold 2  Fold 3  Fold 4  Fold 5  Mean    Std     \n",
            "RMSE (testset)    0.2039  0.2028  0.2039  0.2040  0.2072  0.2044  0.0015  \n",
            "MAE (testset)     0.1592  0.1579  0.1601  0.1587  0.1628  0.1597  0.0017  \n",
            "Fit time          71.75   78.39   76.75   75.31   77.84   76.01   2.38    \n",
            "Test time         0.33    0.09    0.07    0.43    0.08    0.20    0.15    \n"
          ]
        }
      ],
      "source": [
        "# We'll use the SlopeOne algorithm.\n",
        "algo = KNNWithMeans()\n",
        "\n",
        "# Run 5-fold cross-validation and print results\n",
        "knn_validate = cross_validate(algo, data_model, measures=['RMSE', 'MAE'], cv=5, verbose=True)"
      ]
    },
    {
      "cell_type": "code",
      "execution_count": 164,
      "id": "d7658df4-0d7d-458d-90df-81f3299275f2",
      "metadata": {
        "gather": {
          "logged": 1645981638232
        },
        "jupyter": {
          "outputs_hidden": false,
          "source_hidden": false
        },
        "nteract": {
          "transient": {
            "deleting": false
          }
        }
      },
      "outputs": [
        {
          "name": "stdout",
          "output_type": "stream",
          "text": [
            "Computing the msd similarity matrix...\n",
            "Done computing similarity matrix.\n"
          ]
        }
      ],
      "source": [
        "# Train the algorithm on the trainset, and predict ratings for the testset\n",
        "algo.fit(trainset)\n",
        "predictions = algo.test(testset)"
      ]
    },
    {
      "cell_type": "code",
      "execution_count": 165,
      "id": "59e00b96-ffd8-4129-a342-f962d418a6e6",
      "metadata": {
        "gather": {
          "logged": 1645981638488
        },
        "jupyter": {
          "outputs_hidden": false,
          "source_hidden": false
        },
        "nteract": {
          "transient": {
            "deleting": false
          }
        }
      },
      "outputs": [],
      "source": [
        "top_n, users_est, users_true, rec_for_user = top_n_pred(predictions)"
      ]
    },
    {
      "cell_type": "code",
      "execution_count": 166,
      "id": "c9555d8f-99a1-489a-8f4d-7e5093245f50",
      "metadata": {
        "gather": {
          "logged": 1645981638639
        },
        "jupyter": {
          "outputs_hidden": false,
          "source_hidden": false
        },
        "nteract": {
          "transient": {
            "deleting": false
          }
        }
      },
      "outputs": [
        {
          "name": "stdout",
          "output_type": "stream",
          "text": [
            "NDCG 1.0\n"
          ]
        }
      ],
      "source": [
        "ndcg_list, ndgc_rate = calc_ndcg(users_true,users_est)\n",
        "print(\"NDCG\", ndgc_rate)"
      ]
    },
    {
      "cell_type": "code",
      "execution_count": 167,
      "id": "b3928192-1813-4bf7-9513-9581ec9cb61e",
      "metadata": {
        "gather": {
          "logged": 1645981639135
        },
        "jupyter": {
          "outputs_hidden": false,
          "source_hidden": false
        },
        "nteract": {
          "transient": {
            "deleting": false
          }
        }
      },
      "outputs": [],
      "source": [
        "# Let's build a pandas dataframe with all the predictions\n",
        "df = pd.DataFrame(predictions, columns=['uid', 'iid', 'rui', 'est', 'details'])    \n",
        "df['Iu'] = df.uid.apply(get_Iu)\n",
        "df['Ui'] = df.iid.apply(get_Ui)\n",
        "df['err'] = abs(df.est - df.rui)"
      ]
    },
    {
      "cell_type": "code",
      "execution_count": 168,
      "id": "764fe3ec-12f3-46f0-a1af-70f77d7b7b14",
      "metadata": {
        "gather": {
          "logged": 1645981639298
        },
        "jupyter": {
          "outputs_hidden": false,
          "source_hidden": false
        },
        "nteract": {
          "transient": {
            "deleting": false
          }
        }
      },
      "outputs": [
        {
          "data": {
            "text/html": [
              "<div>\n",
              "<style scoped>\n",
              "    .dataframe tbody tr th:only-of-type {\n",
              "        vertical-align: middle;\n",
              "    }\n",
              "\n",
              "    .dataframe tbody tr th {\n",
              "        vertical-align: top;\n",
              "    }\n",
              "\n",
              "    .dataframe thead th {\n",
              "        text-align: right;\n",
              "    }\n",
              "</style>\n",
              "<table border=\"1\" class=\"dataframe\">\n",
              "  <thead>\n",
              "    <tr style=\"text-align: right;\">\n",
              "      <th></th>\n",
              "      <th>uid</th>\n",
              "      <th>iid</th>\n",
              "      <th>rui</th>\n",
              "      <th>est</th>\n",
              "      <th>details</th>\n",
              "      <th>Iu</th>\n",
              "      <th>Ui</th>\n",
              "      <th>err</th>\n",
              "    </tr>\n",
              "  </thead>\n",
              "  <tbody>\n",
              "    <tr>\n",
              "      <th>4092</th>\n",
              "      <td>4613ca7184c740bda13ad868792e6961</td>\n",
              "      <td>TRIPLE_PLAY</td>\n",
              "      <td>0.406970</td>\n",
              "      <td>0.406974</td>\n",
              "      <td>{'was_impossible': True, 'reason': 'User and/o...</td>\n",
              "      <td>0</td>\n",
              "      <td>12724</td>\n",
              "      <td>0.000004</td>\n",
              "    </tr>\n",
              "    <tr>\n",
              "      <th>2415</th>\n",
              "      <td>5993a34742ee50dad92ba27918d202aa</td>\n",
              "      <td>DOUBLE_PLAY_BV</td>\n",
              "      <td>0.406983</td>\n",
              "      <td>0.406974</td>\n",
              "      <td>{'was_impossible': True, 'reason': 'User and/o...</td>\n",
              "      <td>0</td>\n",
              "      <td>12679</td>\n",
              "      <td>0.000009</td>\n",
              "    </tr>\n",
              "    <tr>\n",
              "      <th>1093</th>\n",
              "      <td>a69f76b793a0f81f6bf03334891a7639</td>\n",
              "      <td>TRIPLE_PLAY</td>\n",
              "      <td>0.406952</td>\n",
              "      <td>0.406974</td>\n",
              "      <td>{'was_impossible': True, 'reason': 'User and/o...</td>\n",
              "      <td>0</td>\n",
              "      <td>12724</td>\n",
              "      <td>0.000022</td>\n",
              "    </tr>\n",
              "    <tr>\n",
              "      <th>7</th>\n",
              "      <td>38c9fc6c82f448802bdf87c0f06687bb</td>\n",
              "      <td>DOUBLE_PLAY_BV</td>\n",
              "      <td>0.406949</td>\n",
              "      <td>0.406974</td>\n",
              "      <td>{'was_impossible': True, 'reason': 'User and/o...</td>\n",
              "      <td>0</td>\n",
              "      <td>12679</td>\n",
              "      <td>0.000025</td>\n",
              "    </tr>\n",
              "    <tr>\n",
              "      <th>8215</th>\n",
              "      <td>452333afef985e3a381f324cf5f9c03a</td>\n",
              "      <td>DOUBLE_PLAY_BV</td>\n",
              "      <td>0.407041</td>\n",
              "      <td>0.406974</td>\n",
              "      <td>{'was_impossible': True, 'reason': 'User and/o...</td>\n",
              "      <td>0</td>\n",
              "      <td>12679</td>\n",
              "      <td>0.000067</td>\n",
              "    </tr>\n",
              "    <tr>\n",
              "      <th>5250</th>\n",
              "      <td>9c1b97133c63d72f524e5eccf725eb5f</td>\n",
              "      <td>DOUBLE_PLAY_BV</td>\n",
              "      <td>0.407075</td>\n",
              "      <td>0.406974</td>\n",
              "      <td>{'was_impossible': True, 'reason': 'User and/o...</td>\n",
              "      <td>0</td>\n",
              "      <td>12679</td>\n",
              "      <td>0.000101</td>\n",
              "    </tr>\n",
              "    <tr>\n",
              "      <th>5359</th>\n",
              "      <td>7911d0c2cdc4b981abb7bbc86d6c042b</td>\n",
              "      <td>TRIPLE_PLAY</td>\n",
              "      <td>0.406826</td>\n",
              "      <td>0.406974</td>\n",
              "      <td>{'was_impossible': True, 'reason': 'User and/o...</td>\n",
              "      <td>0</td>\n",
              "      <td>12724</td>\n",
              "      <td>0.000148</td>\n",
              "    </tr>\n",
              "    <tr>\n",
              "      <th>3098</th>\n",
              "      <td>45e3e7602b24b61f107bdaed331259a2</td>\n",
              "      <td>DOUBLE_PLAY_BV</td>\n",
              "      <td>0.406821</td>\n",
              "      <td>0.406974</td>\n",
              "      <td>{'was_impossible': True, 'reason': 'User and/o...</td>\n",
              "      <td>0</td>\n",
              "      <td>12679</td>\n",
              "      <td>0.000153</td>\n",
              "    </tr>\n",
              "    <tr>\n",
              "      <th>1901</th>\n",
              "      <td>d1805fca4fcface24d5e9deabd072da4</td>\n",
              "      <td>DOUBLE_PLAY_BV</td>\n",
              "      <td>0.407165</td>\n",
              "      <td>0.406974</td>\n",
              "      <td>{'was_impossible': True, 'reason': 'User and/o...</td>\n",
              "      <td>0</td>\n",
              "      <td>12679</td>\n",
              "      <td>0.000191</td>\n",
              "    </tr>\n",
              "    <tr>\n",
              "      <th>2695</th>\n",
              "      <td>5a585d43c83a65b0dacc9e895604a50e</td>\n",
              "      <td>DOUBLE_PLAY_BV</td>\n",
              "      <td>0.406755</td>\n",
              "      <td>0.406974</td>\n",
              "      <td>{'was_impossible': True, 'reason': 'User and/o...</td>\n",
              "      <td>0</td>\n",
              "      <td>12679</td>\n",
              "      <td>0.000219</td>\n",
              "    </tr>\n",
              "  </tbody>\n",
              "</table>\n",
              "</div>"
            ],
            "text/plain": [
              "                                   uid             iid       rui       est  \\\n",
              "4092  4613ca7184c740bda13ad868792e6961     TRIPLE_PLAY  0.406970  0.406974   \n",
              "2415  5993a34742ee50dad92ba27918d202aa  DOUBLE_PLAY_BV  0.406983  0.406974   \n",
              "1093  a69f76b793a0f81f6bf03334891a7639     TRIPLE_PLAY  0.406952  0.406974   \n",
              "7     38c9fc6c82f448802bdf87c0f06687bb  DOUBLE_PLAY_BV  0.406949  0.406974   \n",
              "8215  452333afef985e3a381f324cf5f9c03a  DOUBLE_PLAY_BV  0.407041  0.406974   \n",
              "5250  9c1b97133c63d72f524e5eccf725eb5f  DOUBLE_PLAY_BV  0.407075  0.406974   \n",
              "5359  7911d0c2cdc4b981abb7bbc86d6c042b     TRIPLE_PLAY  0.406826  0.406974   \n",
              "3098  45e3e7602b24b61f107bdaed331259a2  DOUBLE_PLAY_BV  0.406821  0.406974   \n",
              "1901  d1805fca4fcface24d5e9deabd072da4  DOUBLE_PLAY_BV  0.407165  0.406974   \n",
              "2695  5a585d43c83a65b0dacc9e895604a50e  DOUBLE_PLAY_BV  0.406755  0.406974   \n",
              "\n",
              "                                                details  Iu     Ui       err  \n",
              "4092  {'was_impossible': True, 'reason': 'User and/o...   0  12724  0.000004  \n",
              "2415  {'was_impossible': True, 'reason': 'User and/o...   0  12679  0.000009  \n",
              "1093  {'was_impossible': True, 'reason': 'User and/o...   0  12724  0.000022  \n",
              "7     {'was_impossible': True, 'reason': 'User and/o...   0  12679  0.000025  \n",
              "8215  {'was_impossible': True, 'reason': 'User and/o...   0  12679  0.000067  \n",
              "5250  {'was_impossible': True, 'reason': 'User and/o...   0  12679  0.000101  \n",
              "5359  {'was_impossible': True, 'reason': 'User and/o...   0  12724  0.000148  \n",
              "3098  {'was_impossible': True, 'reason': 'User and/o...   0  12679  0.000153  \n",
              "1901  {'was_impossible': True, 'reason': 'User and/o...   0  12679  0.000191  \n",
              "2695  {'was_impossible': True, 'reason': 'User and/o...   0  12679  0.000219  "
            ]
          },
          "execution_count": 168,
          "metadata": {},
          "output_type": "execute_result"
        }
      ],
      "source": [
        "# 10 Best predictions\n",
        "best_predictions = df.sort_values(by='err')[:10]\n",
        "best_predictions"
      ]
    },
    {
      "cell_type": "code",
      "execution_count": 169,
      "id": "52cba0e2-0887-43d4-b2cc-b9c616a7c6cb",
      "metadata": {
        "gather": {
          "logged": 1645981640172
        },
        "jupyter": {
          "outputs_hidden": false,
          "source_hidden": false
        },
        "nteract": {
          "transient": {
            "deleting": false
          }
        }
      },
      "outputs": [],
      "source": [
        "df.sort_values(by='err').to_csv(\"data/cross-selling/scored/KNNMeans_Scored.csv\")"
      ]
    },
    {
      "cell_type": "code",
      "execution_count": 170,
      "id": "67aebc1a-3304-4950-92de-872aed436b9d",
      "metadata": {
        "gather": {
          "logged": 1645981640261
        },
        "jupyter": {
          "outputs_hidden": false,
          "source_hidden": false
        },
        "nteract": {
          "transient": {
            "deleting": false
          }
        }
      },
      "outputs": [
        {
          "name": "stdout",
          "output_type": "stream",
          "text": [
            "RMSE: 0.2035\n",
            "KNN Means RMSE --> 0.20354401298921038\n",
            "KNN Means Accuracy --> 0.7964559870107897\n"
          ]
        }
      ],
      "source": [
        "rmse = accuracy.rmse(predictions)\n",
        "print(\"KNN Means RMSE -->\",rmse)\n",
        "print(\"KNN Means Accuracy -->\",1-rmse)"
      ]
    },
    {
      "cell_type": "code",
      "execution_count": 171,
      "id": "7cc2652e-bf79-4764-9f40-b8167cb94b73",
      "metadata": {
        "gather": {
          "logged": 1645981640357
        },
        "jupyter": {
          "outputs_hidden": false,
          "source_hidden": false
        },
        "nteract": {
          "transient": {
            "deleting": false
          }
        }
      },
      "outputs": [],
      "source": [
        "data_triplet = data_triplet.merge(df[[\"uid\",\"iid\",\"err\"]], left_on=\"ACCOUNT_NUM.hash\", right_on =\"uid\", how=\"left\")\n",
        "data_triplet.dropna(subset=[\"uid\"],inplace=True)\n",
        "data_triplet.drop(\"uid\", axis=1, inplace = True)\n",
        "data_triplet.rename(columns={\"iid\":\"KNNMeans_recommendation\",\"err\":\"KNNMeans_error\"}, inplace = True)"
      ]
    },
    {
      "cell_type": "markdown",
      "id": "09d0d677-7734-4791-8819-71c79a0e847d",
      "metadata": {
        "nteract": {
          "transient": {
            "deleting": false
          }
        }
      },
      "source": [
        "## Factorization Machines"
      ]
    },
    {
      "cell_type": "code",
      "execution_count": null,
      "id": "697b653f-830d-42a7-9ad0-fef059e46ccd",
      "metadata": {
        "jupyter": {
          "outputs_hidden": false,
          "source_hidden": false
        },
        "nteract": {
          "transient": {
            "deleting": false
          }
        }
      },
      "outputs": [],
      "source": []
    },
    {
      "cell_type": "code",
      "execution_count": null,
      "id": "13289f88-9fcf-4a73-b090-2504e865671a",
      "metadata": {
        "jupyter": {
          "outputs_hidden": false,
          "source_hidden": false
        },
        "nteract": {
          "transient": {
            "deleting": false
          }
        }
      },
      "outputs": [],
      "source": []
    },
    {
      "cell_type": "markdown",
      "id": "9116acac-caf9-4ab6-8b87-b063d044c9b8",
      "metadata": {
        "nteract": {
          "transient": {
            "deleting": false
          }
        }
      },
      "source": [
        "## Benchmark lgorithms"
      ]
    },
    {
      "cell_type": "code",
      "execution_count": 56,
      "id": "ca4259b5-d1c4-43a4-a210-82780c9a2aa2",
      "metadata": {
        "gather": {
          "logged": 1645976750339
        },
        "jupyter": {
          "outputs_hidden": false,
          "source_hidden": false
        },
        "nteract": {
          "transient": {
            "deleting": false
          }
        }
      },
      "outputs": [
        {
          "data": {
            "text/html": [
              "<div>\n",
              "<style scoped>\n",
              "    .dataframe tbody tr th:only-of-type {\n",
              "        vertical-align: middle;\n",
              "    }\n",
              "\n",
              "    .dataframe tbody tr th {\n",
              "        vertical-align: top;\n",
              "    }\n",
              "\n",
              "    .dataframe thead th {\n",
              "        text-align: right;\n",
              "    }\n",
              "</style>\n",
              "<table border=\"1\" class=\"dataframe\">\n",
              "  <thead>\n",
              "    <tr style=\"text-align: right;\">\n",
              "      <th></th>\n",
              "      <th>test_rmse</th>\n",
              "      <th>fit_time</th>\n",
              "      <th>test_time</th>\n",
              "    </tr>\n",
              "    <tr>\n",
              "      <th>Algorithm</th>\n",
              "      <th></th>\n",
              "      <th></th>\n",
              "      <th></th>\n",
              "    </tr>\n",
              "  </thead>\n",
              "  <tbody>\n",
              "    <tr>\n",
              "      <th>SVD</th>\n",
              "      <td>0.176533</td>\n",
              "      <td>2.036166</td>\n",
              "      <td>0.073313</td>\n",
              "    </tr>\n",
              "    <tr>\n",
              "      <th>SlopeOne</th>\n",
              "      <td>0.204370</td>\n",
              "      <td>0.330352</td>\n",
              "      <td>0.062902</td>\n",
              "    </tr>\n",
              "    <tr>\n",
              "      <th>NMF</th>\n",
              "      <td>0.204374</td>\n",
              "      <td>4.452406</td>\n",
              "      <td>0.052764</td>\n",
              "    </tr>\n",
              "  </tbody>\n",
              "</table>\n",
              "</div>"
            ],
            "text/plain": [
              "           test_rmse  fit_time  test_time\n",
              "Algorithm                                \n",
              "SVD         0.176533  2.036166   0.073313\n",
              "SlopeOne    0.204370  0.330352   0.062902\n",
              "NMF         0.204374  4.452406   0.052764"
            ]
          },
          "execution_count": 56,
          "metadata": {},
          "output_type": "execute_result"
        }
      ],
      "source": [
        "benchmark = []\n",
        "# Iterate over all algorithms\n",
        "for algorithm in [SVD(), SlopeOne(), NMF()]:\n",
        "    # Perform cross validation\n",
        "    results = cross_validate(algorithm, data_model, measures=['RMSE'], cv=5, verbose=False)\n",
        "    \n",
        "    # Get results & append algorithm name\n",
        "    tmp = pd.DataFrame.from_dict(results).mean(axis=0)\n",
        "    tmp = tmp.append(pd.Series([str(algorithm).split(' ')[0].split('.')[-1]], index=['Algorithm']))\n",
        "    benchmark.append(tmp)\n",
        "    \n",
        "val_df = pd.DataFrame(benchmark).set_index('Algorithm').sort_values('test_rmse')\n",
        "val_df"
      ]
    },
    {
      "cell_type": "code",
      "execution_count": 57,
      "id": "fb45fe9a-e037-44a5-8295-d399ab22ceb7",
      "metadata": {
        "gather": {
          "logged": 1645976750891
        },
        "jupyter": {
          "outputs_hidden": false,
          "source_hidden": false
        },
        "nteract": {
          "transient": {
            "deleting": false
          }
        }
      },
      "outputs": [
        {
          "data": {
            "text/plain": [
              "<matplotlib.legend.Legend at 0x7f5e9a63ee10>"
            ]
          },
          "execution_count": 57,
          "metadata": {},
          "output_type": "execute_result"
        },
        {
          "data": {
            "image/png": "[encoded data removed]",
            "text/plain": [
              "<Figure size 936x576 with 1 Axes>"
            ]
          },
          "metadata": {
            "needs_background": "light"
          },
          "output_type": "display_data"
        }
      ],
      "source": [
        "fig,ax = plt.subplots(figsize=(13,8))\n",
        "ax.plot(so_validate[\"test_rmse\"], color='blue')\n",
        "ax.plot(svd_validate[\"test_rmse\"], color='green')\n",
        "ax.plot(knn_validate[\"test_rmse\"], color='orange')\n",
        "ax.plot(nmf_validate[\"test_rmse\"], color='red')\n",
        "ax.plot(so_validate[\"test_mae\"], linestyle='dashdot', color='blue')\n",
        "ax.plot(svd_validate[\"test_mae\"], linestyle='dashdot', color='green')\n",
        "ax.plot(knn_validate[\"test_mae\"], linestyle='dashdot', color='orange')\n",
        "ax.plot(nmf_validate[\"test_mae\"], linestyle='dashdot', color='red')\n",
        "# plt.xticks(np.arange(0, 30, 0.5))\n",
        "plt.title(\"Boradband Packages Recommender\", loc=\"center\")\n",
        "plt.legend([\"RMSE: SlopeOne\",\"RMSE: SVD\",\"RMSE: KNNwithMeans\",\"RMSE: NMF\",\n",
        "           \"MAE: SlopeOne\",\"MAE: SVD\",\"MAE: KNNwithMeans\",\"MAE: NMF\"])"
      ]
    },
    {
      "cell_type": "markdown",
      "id": "4a03571f-de81-4d41-800a-51e6c3a5609f",
      "metadata": {
        "nteract": {
          "transient": {
            "deleting": false
          }
        }
      },
      "source": [
        "## Best Accuracy Model"
      ]
    },
    {
      "cell_type": "code",
      "execution_count": 61,
      "id": "52d8c3bd-240c-4af2-8769-7a6eb917a386",
      "metadata": {
        "gather": {
          "logged": 1645978119436
        },
        "jupyter": {
          "outputs_hidden": false,
          "source_hidden": false
        },
        "nteract": {
          "transient": {
            "deleting": false
          }
        }
      },
      "outputs": [
        {
          "data": {
            "text/plain": [
              "ratings           0.407501\n",
              "SVD_error         0.139953\n",
              "SlopeOne_error    0.157890\n",
              "MF_error          0.157890\n",
              "KNNMeans_error    0.157890\n",
              "dtype: float64"
            ]
          },
          "execution_count": 61,
          "metadata": {},
          "output_type": "execute_result"
        }
      ],
      "source": [
        "data_triplet.mean()"
      ]
    },
    {
      "cell_type": "code",
      "execution_count": null,
      "id": "855bccf6-cd38-4152-b6c0-7b2fffc210f2",
      "metadata": {
        "jupyter": {
          "outputs_hidden": false,
          "source_hidden": false
        },
        "nteract": {
          "transient": {
            "deleting": false
          }
        }
      },
      "outputs": [],
      "source": [
        "# Best Accuracy model - SlopeOne"
      ]
    },
    {
      "cell_type": "markdown",
      "id": "d4feec98-1eee-48df-8b59-e44ff29de432",
      "metadata": {
        "nteract": {
          "transient": {
            "deleting": false
          }
        }
      },
      "source": [
        "## Model Stacking approach (Ensambling)"
      ]
    },
    {
      "cell_type": "markdown",
      "id": "e25e0794-2713-47a3-981a-4b58e24b5ac0",
      "metadata": {
        "nteract": {
          "transient": {
            "deleting": false
          }
        }
      },
      "source": [
        "## Busines Rule filtration"
      ]
    },
    {
      "cell_type": "code",
      "execution_count": 75,
      "id": "c613d81b-fefe-4f2f-af50-fc37fc81e671",
      "metadata": {
        "gather": {
          "logged": 1645980644725
        },
        "jupyter": {
          "outputs_hidden": false,
          "source_hidden": false
        },
        "nteract": {
          "transient": {
            "deleting": false
          }
        }
      },
      "outputs": [],
      "source": [
        "data_triplet = data_triplet.merge(user_profile[[\"ACCOUNT_NUM.hash\",\"Sub_Update_Date\",\"Sub_Update_Status\",\"Sub_Update\"]], on =\"ACCOUNT_NUM.hash\", how =\"left\")"
      ]
    },
    {
      "cell_type": "code",
      "execution_count": 78,
      "id": "cedf06c0-bf6f-4877-83d4-4472fa1704c2",
      "metadata": {
        "gather": {
          "logged": 1645980722040
        },
        "jupyter": {
          "outputs_hidden": false,
          "source_hidden": false
        },
        "nteract": {
          "transient": {
            "deleting": false
          }
        }
      },
      "outputs": [],
      "source": [
        "# Filter results based on Package owngrades\n",
        "def play_rule(rec_packages, sub_state,sub_update):\n",
        "    if (not sub_update == \"NO_INFO\") or (not sub_update == \"NO INFO\"):\n",
        "        prev_package = sub_update.split(\"->\")[0].replace(\" \",\"\")\n",
        "        for pack in rec_packages:\n",
        "            if sub_state == \"Promotion Downgrade\" and pack == prev_package:\n",
        "                return \"ERR\"\n",
        "\n",
        "data_triplet[\"Err_Rec\"] = data_triplet.apply(lambda x: play_rule([x[\"SVD_recommendation\"],x[\"SlopeOne_recommendation\"],x[\"MF_recommendation\"],x[\"KNNMeans_recommendation\"]],x[\"Sub_Update_Status\"],x[\"Sub_Update\"]), axis =1 )"
      ]
    },
    {
      "cell_type": "code",
      "execution_count": 81,
      "id": "6e5b2f0b-36c9-4d07-944f-b21a47a51f00",
      "metadata": {
        "gather": {
          "logged": 1645980798192
        },
        "jupyter": {
          "outputs_hidden": false,
          "source_hidden": false
        },
        "nteract": {
          "transient": {
            "deleting": false
          }
        }
      },
      "outputs": [
        {
          "data": {
            "text/html": [
              "<div>\n",
              "<style scoped>\n",
              "    .dataframe tbody tr th:only-of-type {\n",
              "        vertical-align: middle;\n",
              "    }\n",
              "\n",
              "    .dataframe tbody tr th {\n",
              "        vertical-align: top;\n",
              "    }\n",
              "\n",
              "    .dataframe thead th {\n",
              "        text-align: right;\n",
              "    }\n",
              "</style>\n",
              "<table border=\"1\" class=\"dataframe\">\n",
              "  <thead>\n",
              "    <tr style=\"text-align: right;\">\n",
              "      <th></th>\n",
              "      <th>ACCOUNT_NUM.hash</th>\n",
              "      <th>Actual_Subscription</th>\n",
              "      <th>ratings</th>\n",
              "      <th>SVD_recommendation</th>\n",
              "      <th>SVD_error</th>\n",
              "      <th>SlopeOne_recommendation</th>\n",
              "      <th>SlopeOne_error</th>\n",
              "      <th>MF_recommendation</th>\n",
              "      <th>MF_error</th>\n",
              "      <th>KNNMeans_recommendation</th>\n",
              "      <th>KNNMeans_error</th>\n",
              "      <th>Err_Rec</th>\n",
              "    </tr>\n",
              "  </thead>\n",
              "  <tbody>\n",
              "    <tr>\n",
              "      <th>0</th>\n",
              "      <td>abfd56b8f14dfcf01b4163fa1e6bd975</td>\n",
              "      <td>DOUBLE_PLAY_PV</td>\n",
              "      <td>0.076656</td>\n",
              "      <td>DOUBLE_PLAY_PV</td>\n",
              "      <td>0.302884</td>\n",
              "      <td>DOUBLE_PLAY_PV</td>\n",
              "      <td>0.329940</td>\n",
              "      <td>DOUBLE_PLAY_PV</td>\n",
              "      <td>0.329940</td>\n",
              "      <td>DOUBLE_PLAY_PV</td>\n",
              "      <td>0.329940</td>\n",
              "      <td>None</td>\n",
              "    </tr>\n",
              "    <tr>\n",
              "      <th>1</th>\n",
              "      <td>2b0e4cbe7a58cc48263dd42510f15880</td>\n",
              "      <td>DOUBLE_PLAY_PV</td>\n",
              "      <td>0.119744</td>\n",
              "      <td>DOUBLE_PLAY_PV</td>\n",
              "      <td>0.259795</td>\n",
              "      <td>DOUBLE_PLAY_PV</td>\n",
              "      <td>0.286852</td>\n",
              "      <td>DOUBLE_PLAY_PV</td>\n",
              "      <td>0.286852</td>\n",
              "      <td>DOUBLE_PLAY_PV</td>\n",
              "      <td>0.286852</td>\n",
              "      <td>None</td>\n",
              "    </tr>\n",
              "    <tr>\n",
              "      <th>2</th>\n",
              "      <td>85f497dba91c0ea6fdd35e8c588708af</td>\n",
              "      <td>DOUBLE_PLAY_PV</td>\n",
              "      <td>0.326062</td>\n",
              "      <td>DOUBLE_PLAY_PV</td>\n",
              "      <td>0.053477</td>\n",
              "      <td>DOUBLE_PLAY_PV</td>\n",
              "      <td>0.080534</td>\n",
              "      <td>DOUBLE_PLAY_PV</td>\n",
              "      <td>0.080534</td>\n",
              "      <td>DOUBLE_PLAY_PV</td>\n",
              "      <td>0.080534</td>\n",
              "      <td>None</td>\n",
              "    </tr>\n",
              "    <tr>\n",
              "      <th>3</th>\n",
              "      <td>241f06474d8b8022dc3629fe804fbe93</td>\n",
              "      <td>TRIPLE_PLAY</td>\n",
              "      <td>0.199717</td>\n",
              "      <td>TRIPLE_PLAY</td>\n",
              "      <td>0.309947</td>\n",
              "      <td>TRIPLE_PLAY</td>\n",
              "      <td>0.206878</td>\n",
              "      <td>TRIPLE_PLAY</td>\n",
              "      <td>0.206878</td>\n",
              "      <td>TRIPLE_PLAY</td>\n",
              "      <td>0.206878</td>\n",
              "      <td>ERR</td>\n",
              "    </tr>\n",
              "    <tr>\n",
              "      <th>4</th>\n",
              "      <td>ea3460ef9ff0a231cce3ce2cbe722365</td>\n",
              "      <td>DOUBLE_PLAY_PV</td>\n",
              "      <td>0.391821</td>\n",
              "      <td>DOUBLE_PLAY_PV</td>\n",
              "      <td>0.012281</td>\n",
              "      <td>DOUBLE_PLAY_PV</td>\n",
              "      <td>0.014775</td>\n",
              "      <td>DOUBLE_PLAY_PV</td>\n",
              "      <td>0.014775</td>\n",
              "      <td>DOUBLE_PLAY_PV</td>\n",
              "      <td>0.014775</td>\n",
              "      <td>None</td>\n",
              "    </tr>\n",
              "  </tbody>\n",
              "</table>\n",
              "</div>"
            ],
            "text/plain": [
              "                   ACCOUNT_NUM.hash Actual_Subscription   ratings  \\\n",
              "0  abfd56b8f14dfcf01b4163fa1e6bd975      DOUBLE_PLAY_PV  0.076656   \n",
              "1  2b0e4cbe7a58cc48263dd42510f15880      DOUBLE_PLAY_PV  0.119744   \n",
              "2  85f497dba91c0ea6fdd35e8c588708af      DOUBLE_PLAY_PV  0.326062   \n",
              "3  241f06474d8b8022dc3629fe804fbe93         TRIPLE_PLAY  0.199717   \n",
              "4  ea3460ef9ff0a231cce3ce2cbe722365      DOUBLE_PLAY_PV  0.391821   \n",
              "\n",
              "  SVD_recommendation  SVD_error SlopeOne_recommendation  SlopeOne_error  \\\n",
              "0     DOUBLE_PLAY_PV   0.302884          DOUBLE_PLAY_PV        0.329940   \n",
              "1     DOUBLE_PLAY_PV   0.259795          DOUBLE_PLAY_PV        0.286852   \n",
              "2     DOUBLE_PLAY_PV   0.053477          DOUBLE_PLAY_PV        0.080534   \n",
              "3        TRIPLE_PLAY   0.309947             TRIPLE_PLAY        0.206878   \n",
              "4     DOUBLE_PLAY_PV   0.012281          DOUBLE_PLAY_PV        0.014775   \n",
              "\n",
              "  MF_recommendation  MF_error KNNMeans_recommendation  KNNMeans_error Err_Rec  \n",
              "0    DOUBLE_PLAY_PV  0.329940          DOUBLE_PLAY_PV        0.329940    None  \n",
              "1    DOUBLE_PLAY_PV  0.286852          DOUBLE_PLAY_PV        0.286852    None  \n",
              "2    DOUBLE_PLAY_PV  0.080534          DOUBLE_PLAY_PV        0.080534    None  \n",
              "3       TRIPLE_PLAY  0.206878             TRIPLE_PLAY        0.206878     ERR  \n",
              "4    DOUBLE_PLAY_PV  0.014775          DOUBLE_PLAY_PV        0.014775    None  "
            ]
          },
          "execution_count": 81,
          "metadata": {},
          "output_type": "execute_result"
        }
      ],
      "source": [
        "data_triplet = data_triplet.drop([\"Sub_Update_Date\",\"Sub_Update_Status\",\"Sub_Update\"],axis=1)\n",
        "data_triplet.head()"
      ]
    },
    {
      "cell_type": "markdown",
      "id": "04f0ca97-afb6-4305-b6be-457e48066683",
      "metadata": {
        "nteract": {
          "transient": {
            "deleting": false
          }
        }
      },
      "source": [
        "## Store resutls"
      ]
    },
    {
      "cell_type": "code",
      "execution_count": 82,
      "id": "ab3abed0",
      "metadata": {
        "gather": {
          "logged": 1645980864375
        }
      },
      "outputs": [],
      "source": [
        "data_triplet.to_csv(\"data/cross-selling/scored/CF_scored_and_eval.csv\")"
      ]
    },
    {
      "cell_type": "code",
      "execution_count": null,
      "id": "5c3c1202",
      "metadata": {},
      "outputs": [],
      "source": []
    }
  ],
  "metadata": {
    "kernel_info": {
      "name": "python3"
    },
    "kernelspec": {
      "display_name": "Python 3",
      "language": "python",
      "name": "python3"
    },
    "language_info": {
      "codemirror_mode": {
        "name": "ipython",
        "version": 3
      },
      "file_extension": ".py",
      "mimetype": "text/x-python",
      "name": "python",
      "nbconvert_exporter": "python",
      "pygments_lexer": "ipython3",
      "version": "3.6.9"
    },
    "microsoft": {
      "host": {
        "AzureML": {
          "notebookHasBeenCompleted": true
        }
      }
    },
    "nteract": {
      "version": "nteract-front-end@1.0.0"
    }
  },
  "nbformat": 4,
  "nbformat_minor": 5
}
