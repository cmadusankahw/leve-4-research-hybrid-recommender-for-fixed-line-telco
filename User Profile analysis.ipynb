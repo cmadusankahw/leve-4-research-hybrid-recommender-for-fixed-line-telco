{
 "cells": [
  {
   "cell_type": "code",
   "execution_count": 993,
   "metadata": {},
   "outputs": [],
   "source": [
    "import pandas as pd\n",
    "import numpy as np\n",
    "from matplotlib import pyplot as plt\n",
    "from sklearn.preprocessing import MinMaxScaler\n",
    "import seaborn as sns\n",
    "from collections import Counter\n",
    "from ast import literal_eval\n",
    "import itertools"
   ]
  },
  {
   "cell_type": "code",
   "execution_count": 994,
   "metadata": {},
   "outputs": [],
   "source": [
    "# reading datasets\n",
    "bb_usage = pd.read_csv(\"data/user_profile/BB_Usage_Categorical.csv\")\n",
    "voice_onnet_incoming_usage = pd.read_csv(\"data/user_profile/VOICE_ONNET_INCOMING_Usage_Categorical.csv\")\n",
    "voice_onnet_outgoing_usage = pd.read_csv(\"data/user_profile/VOICE_ONNET_OUTGOING_Usage_Categorical.csv\")\n",
    "voice_offnet_incoming_usage = pd.read_csv(\"data/user_profile/VOICE_OFFNET_INCOMING_Usage_Categorical.csv\")\n",
    "voice_offnet_outgoing_usage = pd.read_csv(\"data/user_profile/VOICE_OFFNET_OUTGOING_Usage_Categorical.csv\")\n",
    "voice_IDD_incoming_usage = pd.read_csv(\"data/user_profile/VOICE_IDD_Incoming_Usage_Categorical.csv\")\n",
    "voice_IDD_outgoing_usage = pd.read_csv(\"data/user_profile/VOICE_IDD_Outgoing_Usage_Categorical.csv\")\n",
    "peo_tv_usage = pd.read_csv(\"data/user_profile/PEO_TV_Usage_Categorical.csv\")"
   ]
  },
  {
   "cell_type": "code",
   "execution_count": 995,
   "metadata": {},
   "outputs": [],
   "source": [
    "# locations\n",
    "bb_location = pd.read_csv(\"data/user_profile/BB_USAGE_Locations_of_Users.csv\")\n",
    "voice_onnet_incoming_location = pd.read_csv(\"data/user_profile/VOICE_ONNET_INCOMING_Locations_of_Users.csv\")\n",
    "voice_onnet_outgoing_location = pd.read_csv(\"data/user_profile/VOICE_ONNET_OUTGOING_Locations_of_Users.csv\")\n",
    "voice_offnet_incoming_location = pd.read_csv(\"data/user_profile/VOICE_OFFNET_INCOMING_Locations_of_Users.csv\")\n",
    "voice_offnet_outgoing_location = pd.read_csv(\"data/user_profile/VOICE_OFFNET_OUTGOING_Locations_of_Users.csv\")\n",
    "voice_IDD_incoming_location = pd.read_csv(\"data/user_profile/VOICE_IDD_INCOMING_Locations_of_Users.csv\")\n",
    "peo_tv_location = pd.read_csv(\"data/user_profile/PEO_TV_Locations_of_Users.csv\")"
   ]
  },
  {
   "cell_type": "code",
   "execution_count": 996,
   "metadata": {},
   "outputs": [],
   "source": [
    "# user demographics\n",
    "demo_df = pd.read_csv(\"data/user_profile/user_demographics_final.csv\")"
   ]
  },
  {
   "cell_type": "code",
   "execution_count": 997,
   "metadata": {},
   "outputs": [],
   "source": [
    "# VAS\n",
    "megaline_agg_df = pd.read_csv(\"data/user_profile/Megaline_Packages.csv\")\n",
    "ftth_agg_df = pd.read_csv(\"data/user_profile/FTTH_Packages.csv\")\n",
    "## LTE Packages\n",
    "## BB Packages\n",
    "vas_agg_df = pd.read_csv(\"data/user_profile/Paid_Vas_Packages.csv\")\n",
    "package_df = pd.read_csv(\"data/user_profile/Package_Final_list.csv\")"
   ]
  },
  {
   "cell_type": "code",
   "execution_count": 998,
   "metadata": {},
   "outputs": [],
   "source": [
    "# Subscription Types\n",
    "sub_df = pd.read_csv(\"data/user_profile/User_Subscription_Map.csv\")\n",
    "promo_change_df = pd.read_csv(\"data/user_profile/User_Subscription_Changes.csv\")"
   ]
  },
  {
   "cell_type": "code",
   "execution_count": 999,
   "metadata": {},
   "outputs": [],
   "source": [
    "#Extra GB Usage BB\n",
    "extra_GB_df = pd.read_csv(\"data/user_profile/BB_extra_GB_usage.csv\")"
   ]
  },
  {
   "cell_type": "code",
   "execution_count": 1000,
   "metadata": {},
   "outputs": [],
   "source": [
    "# Peo TV Extra Channel Usage\n",
    "extra_Peo_df = pd.read_csv(\"data/user_profile/Peo_Extra_Peo_Usage.csv\")"
   ]
  },
  {
   "cell_type": "code",
   "execution_count": 1001,
   "metadata": {},
   "outputs": [],
   "source": [
    "# All customers reference\n",
    "all_users_df = pd.read_csv(\"data/user_profile/account_no_map_all.csv\")\n",
    "agg_users_df = pd.read_csv(\"data/user_profile/account_no_map_agg.csv\")"
   ]
  },
  {
   "cell_type": "code",
   "execution_count": null,
   "metadata": {},
   "outputs": [],
   "source": [
    "# User BB Package Map\n",
    "user_bb_package_df = pd.read_csv(\"data/user_profile/User_BB_Package_Map.csv\")"
   ]
  },
  {
   "cell_type": "code",
   "execution_count": null,
   "metadata": {},
   "outputs": [],
   "source": [
    "# Extra GB Usage Detailed DF\n",
    "extra_GB_detailed_df = pd.read_csv(\"data/user_profile/BB_Extra_GB_Usage_Detailed.csv\")"
   ]
  },
  {
   "cell_type": "markdown",
   "metadata": {},
   "source": [
    "# Data perapration"
   ]
  },
  {
   "cell_type": "code",
   "execution_count": 1002,
   "metadata": {},
   "outputs": [
    {
     "name": "stdout",
     "output_type": "stream",
     "text": [
      "<class 'pandas.core.frame.DataFrame'>\n",
      "RangeIndex: 27555 entries, 0 to 27554\n",
      "Data columns (total 3 columns):\n",
      " #   Column             Non-Null Count  Dtype \n",
      "---  ------             --------------  ----- \n",
      " 0   event_source.hash  27555 non-null  object\n",
      " 1   ACCOUNT_NUM.hash   27555 non-null  object\n",
      " 2   CUSTOMER_REF.hash  27555 non-null  object\n",
      "dtypes: object(3)\n",
      "memory usage: 645.9+ KB\n"
     ]
    }
   ],
   "source": [
    "all_users_df.drop([\"Unnamed: 0\"],axis=1,inplace=True)\n",
    "all_users_df.info()"
   ]
  },
  {
   "cell_type": "code",
   "execution_count": 1003,
   "metadata": {
    "scrolled": true
   },
   "outputs": [],
   "source": [
    "bb_usage.rename(columns={'Unnamed: 0':'event_source.hash'}, inplace=\"True\")\n",
    "bb_usage = bb_usage[['event_source.hash','Usage_Rating_Categorical','Usage_Rating_Scaled']]\n",
    "#bb_usage.drop_duplicates(\"event_source.hash\", inplace=True)\n",
    "bb_usage.drop([0,1], axis=0, inplace=True)\n",
    "# bb_usage"
   ]
  },
  {
   "cell_type": "code",
   "execution_count": 1004,
   "metadata": {},
   "outputs": [],
   "source": [
    "voice_onnet_incoming_usage = voice_onnet_incoming_usage[['event_source.hash','Usage_Rating_Categorical','Usage_Rating_Scaled','Outlier']]\n",
    "#voice_onnet_incoming_usage.drop_duplicates(\"event_source.hash\", inplace=True)\n",
    "# voice_onnet_incoming_usage"
   ]
  },
  {
   "cell_type": "code",
   "execution_count": 1005,
   "metadata": {},
   "outputs": [],
   "source": [
    "voice_onnet_outgoing_usage = voice_onnet_outgoing_usage[['event_source.hash','Usage_Rating_Categorical','Usage_Rating_Scaled','Outlier']]\n",
    "#voice_onnet_outgoing_usage.drop_duplicates(\"event_source.hash\", inplace=True)\n",
    "# voice_onnet_outgoing_usage"
   ]
  },
  {
   "cell_type": "code",
   "execution_count": 1006,
   "metadata": {},
   "outputs": [],
   "source": [
    "voice_offnet_incoming_usage = voice_offnet_incoming_usage[['event_source.hash','Usage_Rating_Categorical','Usage_Rating_Scaled','Outlier']]\n",
    "#voice_offnet_incoming_usage.drop_duplicates(\"event_source.hash\", inplace=True)\n",
    "# voice_offnet_incoming_usage"
   ]
  },
  {
   "cell_type": "code",
   "execution_count": 1007,
   "metadata": {},
   "outputs": [],
   "source": [
    "voice_offnet_outgoing_usage = voice_offnet_outgoing_usage[['event_source.hash','Usage_Rating_Categorical','Usage_Rating_Scaled','Outlier']]\n",
    "#voice_offnet_outgoing_usage.drop_duplicates(\"event_source.hash\", inplace=True)\n",
    "#voice_offnet_outgoing_usage"
   ]
  },
  {
   "cell_type": "code",
   "execution_count": 1008,
   "metadata": {},
   "outputs": [],
   "source": [
    "voice_IDD_incoming_usage = voice_IDD_incoming_usage[['event_source.hash','Usage_Rating_Categorical','Usage_Rating_Scaled','Outlier','incoming_country']]\n",
    "voice_IDD_incoming_usage.rename(columns={\"incoming_country\":\"IDD_incoming_country\"}, inplace=True)\n",
    "#voice_IDD_incoming_usage.drop_duplicates(\"event_source.hash\", inplace=True)\n",
    "#voice_IDD_incoming_usage"
   ]
  },
  {
   "cell_type": "code",
   "execution_count": 1009,
   "metadata": {},
   "outputs": [],
   "source": [
    "voice_IDD_outgoing_usage = voice_IDD_outgoing_usage[['event_source.hash','Usage_Rating_Categorical','Usage_Rating_Scaled','Outlier',\"Revenue_on_Usage_Cumulative\",\"outgoing_country\"]]\n",
    "voice_IDD_outgoing_usage.rename(columns={\"outgoing_country\":\"IDD_outgoing_country\",\"Revenue_on_Usage_Cumulative\":\"IDD_outgoing_Cumulative_Revenue\"}, inplace=True)\n",
    "#voice_IDD_outgoing_usage.drop_duplicates(\"event_source.hash\", inplace=True)\n",
    "#voice_IDD_outgoing_usage"
   ]
  },
  {
   "cell_type": "code",
   "execution_count": 1010,
   "metadata": {},
   "outputs": [],
   "source": [
    "peo_tv_usage = peo_tv_usage[['Phone_Number.hash','Peo_TV_Package','Usage_Rating_Categorical','Usage_Rating_Scaled']]\n",
    "#peo_tv_usage.drop_duplicates(\"Phone_Number.hash\", inplace=True)\n",
    "#peo_tv_usage"
   ]
  },
  {
   "cell_type": "code",
   "execution_count": 1011,
   "metadata": {},
   "outputs": [],
   "source": [
    "# location from voice onnet outgoing\n",
    "# justification: this has the max no of subscribers\n",
    "voice_offnet_incoming_location = voice_offnet_incoming_location[['event_source.hash','Location_Identifier']]\n",
    "voice_offnet_incoming_location.drop_duplicates(\"event_source.hash\", inplace=True)\n",
    "#voice_onnet_outgoing_location"
   ]
  },
  {
   "cell_type": "code",
   "execution_count": 1012,
   "metadata": {},
   "outputs": [],
   "source": [
    "demo_df.drop([\"Unnamed: 0\"], axis=1,inplace=True)"
   ]
  },
  {
   "cell_type": "code",
   "execution_count": 1013,
   "metadata": {},
   "outputs": [],
   "source": [
    "megaline_agg_df.drop([\"Unnamed: 0\"], axis=1,inplace=True)\n",
    "ftth_agg_df.drop([\"Unnamed: 0\"], axis=1,inplace=True)\n",
    "vas_agg_df.drop([\"Unnamed: 0\"], axis=1,inplace=True)\n",
    "package_df.drop([\"Unnamed: 0\"], axis=1,inplace=True)"
   ]
  },
  {
   "cell_type": "code",
   "execution_count": 1014,
   "metadata": {},
   "outputs": [],
   "source": [
    "agg_users_df.drop([\"Unnamed: 0\"], axis=1,inplace=True)\n",
    "sub_df.drop([\"Unnamed: 0\"], axis=1,inplace=True)\n",
    "promo_change_df.drop([\"Unnamed: 0\"], axis=1,inplace=True)"
   ]
  },
  {
   "cell_type": "markdown",
   "metadata": {},
   "source": [
    "## Mapping Acc No to Usage DFs"
   ]
  },
  {
   "cell_type": "code",
   "execution_count": 1015,
   "metadata": {},
   "outputs": [],
   "source": [
    "peo_tv_usage = peo_tv_usage.merge(all_users_df, how=\"left\",left_on=\"Phone_Number.hash\", right_on=\"event_source.hash\")\n",
    "peo_tv_usage = peo_tv_usage[peo_tv_usage['ACCOUNT_NUM.hash'].notna()]\n",
    "peo_tv_usage.drop(\"Phone_Number.hash\",axis=1,inplace=True)"
   ]
  },
  {
   "cell_type": "code",
   "execution_count": 1016,
   "metadata": {},
   "outputs": [],
   "source": [
    "voice_IDD_outgoing_usage = voice_IDD_outgoing_usage.merge(all_users_df, how=\"left\",on=\"event_source.hash\")\n",
    "voice_IDD_outgoing_usage = voice_IDD_outgoing_usage[voice_IDD_outgoing_usage['ACCOUNT_NUM.hash'].notna()]\n",
    "voice_IDD_outgoing_usage.drop(\"event_source.hash\",axis=1,inplace=True)"
   ]
  },
  {
   "cell_type": "code",
   "execution_count": 1017,
   "metadata": {},
   "outputs": [],
   "source": [
    "voice_IDD_incoming_usage = voice_IDD_incoming_usage.merge(all_users_df, how=\"left\",on=\"event_source.hash\")\n",
    "voice_IDD_incoming_usage = voice_IDD_incoming_usage[voice_IDD_incoming_usage['ACCOUNT_NUM.hash'].notna()]\n",
    "voice_IDD_incoming_usage.drop(\"event_source.hash\",axis=1,inplace=True)"
   ]
  },
  {
   "cell_type": "code",
   "execution_count": 1018,
   "metadata": {},
   "outputs": [],
   "source": [
    "voice_onnet_outgoing_location = voice_onnet_outgoing_location.merge(all_users_df, how=\"left\",on=\"event_source.hash\")\n",
    "voice_onnet_outgoing_location = voice_onnet_outgoing_location[voice_onnet_outgoing_location['ACCOUNT_NUM.hash'].notna()]\n",
    "voice_onnet_outgoing_location.drop(\"event_source.hash\",axis=1,inplace=True)"
   ]
  },
  {
   "cell_type": "code",
   "execution_count": 1019,
   "metadata": {},
   "outputs": [],
   "source": [
    "voice_offnet_outgoing_usage = voice_offnet_outgoing_usage.merge(all_users_df, how=\"left\",on=\"event_source.hash\")\n",
    "voice_offnet_outgoing_usage = voice_offnet_outgoing_usage[voice_offnet_outgoing_usage['ACCOUNT_NUM.hash'].notna()]\n",
    "voice_offnet_outgoing_usage.drop(\"event_source.hash\",axis=1,inplace=True)"
   ]
  },
  {
   "cell_type": "code",
   "execution_count": 1020,
   "metadata": {},
   "outputs": [],
   "source": [
    "voice_offnet_incoming_usage = voice_offnet_incoming_usage.merge(all_users_df, how=\"left\",on=\"event_source.hash\")\n",
    "voice_offnet_incoming_usage = voice_offnet_incoming_usage[voice_offnet_incoming_usage['ACCOUNT_NUM.hash'].notna()]\n",
    "voice_offnet_incoming_usage.drop(\"event_source.hash\",axis=1,inplace=True)"
   ]
  },
  {
   "cell_type": "code",
   "execution_count": 1021,
   "metadata": {},
   "outputs": [],
   "source": [
    "voice_onnet_outgoing_usage = voice_onnet_outgoing_usage.merge(all_users_df, how=\"left\",on=\"event_source.hash\")\n",
    "voice_onnet_outgoing_usage = voice_onnet_outgoing_usage[voice_onnet_outgoing_usage['ACCOUNT_NUM.hash'].notna()]\n",
    "voice_onnet_outgoing_usage.drop(\"event_source.hash\",axis=1,inplace=True)"
   ]
  },
  {
   "cell_type": "code",
   "execution_count": 1022,
   "metadata": {},
   "outputs": [],
   "source": [
    "voice_onnet_incoming_usage = voice_onnet_incoming_usage.merge(all_users_df, how=\"left\",on=\"event_source.hash\")\n",
    "voice_onnet_incoming_usage = voice_onnet_incoming_usage[voice_onnet_incoming_usage['ACCOUNT_NUM.hash'].notna()]\n",
    "voice_onnet_incoming_usage.drop(\"event_source.hash\",axis=1,inplace=True)"
   ]
  },
  {
   "cell_type": "code",
   "execution_count": 1023,
   "metadata": {},
   "outputs": [],
   "source": [
    "voice_onnet_incoming_location = voice_onnet_incoming_location.merge(all_users_df, how=\"left\",on=\"event_source.hash\")\n",
    "voice_onnet_incoming_location = voice_onnet_incoming_location[voice_onnet_incoming_location['ACCOUNT_NUM.hash'].notna()]\n",
    "voice_onnet_incoming_location.drop(\"event_source.hash\",axis=1,inplace=True)"
   ]
  },
  {
   "cell_type": "code",
   "execution_count": 1024,
   "metadata": {},
   "outputs": [],
   "source": [
    "voice_offnet_incoming_location = voice_offnet_incoming_location.merge(all_users_df, how=\"left\",on=\"event_source.hash\")\n",
    "voice_offnet_incoming_location = voice_offnet_incoming_location[voice_offnet_incoming_location['ACCOUNT_NUM.hash'].notna()]\n",
    "voice_offnet_incoming_location.drop(\"event_source.hash\",axis=1,inplace=True)"
   ]
  },
  {
   "cell_type": "code",
   "execution_count": 1025,
   "metadata": {},
   "outputs": [],
   "source": [
    "voice_offnet_outgoing_location = voice_offnet_outgoing_location.merge(all_users_df, how=\"left\",on=\"event_source.hash\")\n",
    "voice_offnet_outgoing_location = voice_offnet_outgoing_location[voice_offnet_outgoing_location['ACCOUNT_NUM.hash'].notna()]\n",
    "voice_offnet_outgoing_location.drop(\"event_source.hash\",axis=1,inplace=True)"
   ]
  },
  {
   "cell_type": "code",
   "execution_count": 1026,
   "metadata": {},
   "outputs": [],
   "source": [
    "bb_usage = bb_usage.merge(all_users_df, how=\"left\",on=\"event_source.hash\")\n",
    "bb_usage = bb_usage[bb_usage['ACCOUNT_NUM.hash'].notna()]\n",
    "bb_usage.drop(\"event_source.hash\",axis=1,inplace=True)"
   ]
  },
  {
   "cell_type": "code",
   "execution_count": 1027,
   "metadata": {},
   "outputs": [
    {
     "name": "stdout",
     "output_type": "stream",
     "text": [
      "(1221, 4)\n",
      "(3042, 5)\n",
      "(3078, 5)\n",
      "(3114, 5)\n",
      "(3015, 5)\n",
      "(1558, 6)\n",
      "(1249, 6)\n"
     ]
    }
   ],
   "source": [
    "# user location \n",
    "print(bb_usage.shape)\n",
    "print(voice_onnet_incoming_usage.shape)\n",
    "print(voice_onnet_outgoing_usage.shape)\n",
    "print(voice_offnet_incoming_usage.shape) # selected for loc merge\n",
    "print(voice_offnet_outgoing_usage.shape)\n",
    "print(voice_IDD_incoming_usage.shape)\n",
    "print(peo_tv_usage.shape)"
   ]
  },
  {
   "cell_type": "code",
   "execution_count": 1028,
   "metadata": {},
   "outputs": [
    {
     "name": "stdout",
     "output_type": "stream",
     "text": [
      "(1306, 3)\n",
      "(3042, 4)\n",
      "(3078, 4)\n",
      "(3114, 3)\n",
      "(3015, 4)\n",
      "(1632, 3)\n",
      "(1428, 4)\n"
     ]
    }
   ],
   "source": [
    "print(bb_location.shape)\n",
    "print(voice_onnet_incoming_location.shape)\n",
    "print(voice_onnet_outgoing_location.shape)\n",
    "print(voice_offnet_incoming_location.shape) # selected for loc merge\n",
    "print(voice_offnet_outgoing_location.shape)\n",
    "print(voice_IDD_incoming_location.shape)\n",
    "print(peo_tv_location.shape)"
   ]
  },
  {
   "cell_type": "code",
   "execution_count": 1029,
   "metadata": {},
   "outputs": [],
   "source": [
    "voice_offnet_incoming_usage = voice_offnet_incoming_usage[[\"ACCOUNT_NUM.hash\",\"CUSTOMER_REF.hash\",\"Usage_Rating_Scaled\",\"Usage_Rating_Categorical\",\"Outlier\"]]"
   ]
  },
  {
   "cell_type": "markdown",
   "metadata": {},
   "source": [
    "# User Profile : Usage"
   ]
  },
  {
   "cell_type": "code",
   "execution_count": 1030,
   "metadata": {},
   "outputs": [],
   "source": [
    "usage_df = voice_offnet_incoming_usage.merge(voice_offnet_outgoing_usage,how='left', on=['ACCOUNT_NUM.hash','CUSTOMER_REF.hash'])\n",
    "usage_df.rename(columns={'Usage_Rating_Categorical_x':'OFFNET_INCOMING_Categorical', 'Usage_Rating_Categorical_y':'OFFNET_OUTGOING_Categorical',\n",
    "                         'Usage_Rating_Scaled_x':'OFFNET_INCOMING_Scaled','Usage_Rating_Scaled_y':'OFFNET_OUTGOING_Scaled',\n",
    "                         'Outlier_x':'OFFNET_INCOMING_Outlier','Outlier_y':'OFFNET_OUTGOING_Outlier'}, inplace=\"True\")\n",
    "usage_df.drop_duplicates(\"ACCOUNT_NUM.hash\",inplace=True)"
   ]
  },
  {
   "cell_type": "code",
   "execution_count": 1031,
   "metadata": {},
   "outputs": [],
   "source": [
    "usage_df = usage_df.merge(voice_onnet_incoming_usage,how='left', on=['ACCOUNT_NUM.hash','CUSTOMER_REF.hash'])\n",
    "usage_df.rename(columns={'Usage_Rating_Categorical':'ONNET_INCOMING_Categorical','Usage_Rating_Scaled':'ONNET_INCOMING_Scaled', 'Outlier':'ONNET_INCOMING_Outlier'}, inplace=\"True\")\n",
    "usage_df.drop_duplicates(\"ACCOUNT_NUM.hash\",inplace=True)"
   ]
  },
  {
   "cell_type": "code",
   "execution_count": 1032,
   "metadata": {},
   "outputs": [],
   "source": [
    "usage_df = usage_df.merge(voice_onnet_outgoing_usage,how='left', on=['ACCOUNT_NUM.hash','CUSTOMER_REF.hash'])\n",
    "usage_df.rename(columns={'Usage_Rating_Categorical':'ONNET_OUTGOING_Categorical','Usage_Rating_Scaled':'ONNET_OUTGOING_Scaled','Outlier':'ONNET_OUTGOING_Outlier'}, inplace=\"True\")\n",
    "usage_df.drop_duplicates(\"ACCOUNT_NUM.hash\",inplace=True)"
   ]
  },
  {
   "cell_type": "code",
   "execution_count": 1033,
   "metadata": {},
   "outputs": [],
   "source": [
    "usage_df = usage_df.merge(voice_IDD_incoming_usage,how='left', on=['ACCOUNT_NUM.hash','CUSTOMER_REF.hash'])\n",
    "usage_df.rename(columns={'Usage_Rating_Categorical':'IDD_INCOMING_Categorical','Usage_Rating_Scaled':'IDD_INCOMING_Scaled','Outlier':'IDD_INCOMING_Outlier'}, inplace=\"True\")\n",
    "usage_df.drop_duplicates(\"ACCOUNT_NUM.hash\",inplace=True)"
   ]
  },
  {
   "cell_type": "code",
   "execution_count": 1034,
   "metadata": {},
   "outputs": [],
   "source": [
    "usage_df = usage_df.merge(voice_IDD_outgoing_usage,how='left', on=['ACCOUNT_NUM.hash','CUSTOMER_REF.hash'])\n",
    "usage_df.rename(columns={'Usage_Rating_Categorical':'IDD_OUTGOING_Categorical','Usage_Rating_Scaled':'IDD_OUTGOING_Scaled','Outlier':'IDD_OUTGOING_Outlier'}, inplace=\"True\")\n",
    "usage_df.drop_duplicates(\"ACCOUNT_NUM.hash\",inplace=True)"
   ]
  },
  {
   "cell_type": "code",
   "execution_count": 1035,
   "metadata": {},
   "outputs": [],
   "source": [
    "usage_df = usage_df.merge(peo_tv_usage,how='left', on=['ACCOUNT_NUM.hash','CUSTOMER_REF.hash'])\n",
    "usage_df.rename(columns={'Usage_Rating_Categorical':'PEO_TV_Categorical','Usage_Rating_Scaled':'PEO_TV_Scaled'}, inplace=\"True\")\n",
    "usage_df.drop_duplicates(\"ACCOUNT_NUM.hash\",inplace=True)"
   ]
  },
  {
   "cell_type": "code",
   "execution_count": 1036,
   "metadata": {},
   "outputs": [],
   "source": [
    "# merege BB usage\n",
    "usage_df = usage_df.merge(bb_usage,how='left', on=['ACCOUNT_NUM.hash','CUSTOMER_REF.hash'])\n",
    "usage_df.rename(columns={'Usage_Rating_Categorical':'BB_Categorical','Usage_Rating_Scaled':'BB_Scaled'}, inplace=\"True\")\n",
    "usage_df.drop_duplicates(\"ACCOUNT_NUM.hash\",inplace=True)"
   ]
  },
  {
   "cell_type": "code",
   "execution_count": 1037,
   "metadata": {},
   "outputs": [],
   "source": [
    "# merge user location identifier\n",
    "usage_df = usage_df.merge(voice_offnet_incoming_location,how='left', on=['ACCOUNT_NUM.hash','CUSTOMER_REF.hash'])"
   ]
  },
  {
   "cell_type": "code",
   "execution_count": 1038,
   "metadata": {},
   "outputs": [],
   "source": [
    "usage_df.drop_duplicates(\"ACCOUNT_NUM.hash\",inplace=True)"
   ]
  },
  {
   "cell_type": "markdown",
   "metadata": {},
   "source": [
    "# Adding New Data"
   ]
  },
  {
   "cell_type": "markdown",
   "metadata": {},
   "source": [
    "### Adding demographics"
   ]
  },
  {
   "cell_type": "code",
   "execution_count": 1039,
   "metadata": {},
   "outputs": [],
   "source": [
    "demo_df.drop([\"event_source.hash\"],axis=1, inplace=True)"
   ]
  },
  {
   "cell_type": "code",
   "execution_count": 1040,
   "metadata": {},
   "outputs": [],
   "source": [
    "usage_df = usage_df.merge(demo_df,how='left', on=['ACCOUNT_NUM.hash','CUSTOMER_REF.hash'])"
   ]
  },
  {
   "cell_type": "code",
   "execution_count": 1041,
   "metadata": {},
   "outputs": [
    {
     "data": {
      "text/html": [
       "<div>\n",
       "<style scoped>\n",
       "    .dataframe tbody tr th:only-of-type {\n",
       "        vertical-align: middle;\n",
       "    }\n",
       "\n",
       "    .dataframe tbody tr th {\n",
       "        vertical-align: top;\n",
       "    }\n",
       "\n",
       "    .dataframe thead th {\n",
       "        text-align: right;\n",
       "    }\n",
       "</style>\n",
       "<table border=\"1\" class=\"dataframe\">\n",
       "  <thead>\n",
       "    <tr style=\"text-align: right;\">\n",
       "      <th></th>\n",
       "      <th>BIRTH_YEAR</th>\n",
       "      <th>AGE</th>\n",
       "    </tr>\n",
       "  </thead>\n",
       "  <tbody>\n",
       "    <tr>\n",
       "      <th>count</th>\n",
       "      <td>2287.000000</td>\n",
       "      <td>2287.000000</td>\n",
       "    </tr>\n",
       "    <tr>\n",
       "      <th>mean</th>\n",
       "      <td>1964.070835</td>\n",
       "      <td>56.929165</td>\n",
       "    </tr>\n",
       "    <tr>\n",
       "      <th>std</th>\n",
       "      <td>14.777062</td>\n",
       "      <td>14.777062</td>\n",
       "    </tr>\n",
       "    <tr>\n",
       "      <th>min</th>\n",
       "      <td>1900.000000</td>\n",
       "      <td>21.000000</td>\n",
       "    </tr>\n",
       "    <tr>\n",
       "      <th>25%</th>\n",
       "      <td>1954.000000</td>\n",
       "      <td>46.000000</td>\n",
       "    </tr>\n",
       "    <tr>\n",
       "      <th>50%</th>\n",
       "      <td>1965.000000</td>\n",
       "      <td>56.000000</td>\n",
       "    </tr>\n",
       "    <tr>\n",
       "      <th>75%</th>\n",
       "      <td>1975.000000</td>\n",
       "      <td>67.000000</td>\n",
       "    </tr>\n",
       "    <tr>\n",
       "      <th>max</th>\n",
       "      <td>2000.000000</td>\n",
       "      <td>121.000000</td>\n",
       "    </tr>\n",
       "  </tbody>\n",
       "</table>\n",
       "</div>"
      ],
      "text/plain": [
       "        BIRTH_YEAR          AGE\n",
       "count  2287.000000  2287.000000\n",
       "mean   1964.070835    56.929165\n",
       "std      14.777062    14.777062\n",
       "min    1900.000000    21.000000\n",
       "25%    1954.000000    46.000000\n",
       "50%    1965.000000    56.000000\n",
       "75%    1975.000000    67.000000\n",
       "max    2000.000000   121.000000"
      ]
     },
     "execution_count": 1041,
     "metadata": {},
     "output_type": "execute_result"
    }
   ],
   "source": [
    "usage_df[[\"BIRTH_YEAR\",\"AGE\"]].describe()"
   ]
  },
  {
   "cell_type": "code",
   "execution_count": 1042,
   "metadata": {},
   "outputs": [
    {
     "data": {
      "text/plain": [
       "<AxesSubplot:ylabel='Density'>"
      ]
     },
     "execution_count": 1042,
     "metadata": {},
     "output_type": "execute_result"
    },
    {
     "data": {
      "image/png": "[encoded data removed]",
      "text/plain": [
       "<Figure size 432x288 with 1 Axes>"
      ]
     },
     "metadata": {
      "needs_background": "light"
     },
     "output_type": "display_data"
    }
   ],
   "source": [
    "usage_df[\"AGE\"].plot(kind = 'density')"
   ]
  },
  {
   "cell_type": "code",
   "execution_count": 1043,
   "metadata": {},
   "outputs": [
    {
     "data": {
      "text/plain": [
       "<AxesSubplot:ylabel='Density'>"
      ]
     },
     "execution_count": 1043,
     "metadata": {},
     "output_type": "execute_result"
    },
    {
     "data": {
      "image/png": "[encoded data removed]",
      "text/plain": [
       "<Figure size 432x288 with 1 Axes>"
      ]
     },
     "metadata": {
      "needs_background": "light"
     },
     "output_type": "display_data"
    }
   ],
   "source": [
    "usage_df[\"BIRTH_YEAR\"].plot(kind = 'density')"
   ]
  },
  {
   "cell_type": "markdown",
   "metadata": {},
   "source": [
    "### Demographic Information"
   ]
  },
  {
   "cell_type": "markdown",
   "metadata": {},
   "source": [
    "- 2287 users have demographic info (age, Birth Year, Gender)\n",
    "- Users born from **1900**-2001 \n",
    "- Age vary from 21 y.o. to **121 y.o**\n",
    "- Mean Age - 56 y.o\n",
    "- 75% of users are less than 68 y.o.\n",
    "- Mostly middle aged, and aged customers"
   ]
  },
  {
   "cell_type": "code",
   "execution_count": null,
   "metadata": {},
   "outputs": [],
   "source": []
  },
  {
   "cell_type": "markdown",
   "metadata": {},
   "source": [
    "## Voice Usage Bins"
   ]
  },
  {
   "cell_type": "code",
   "execution_count": 1044,
   "metadata": {},
   "outputs": [
    {
     "data": {
      "text/plain": [
       "LOW       1593\n",
       "MEDIUM    1193\n",
       "HIGH       110\n",
       "Name: ONNET_INCOMING_Categorical, dtype: int64"
      ]
     },
     "execution_count": 1044,
     "metadata": {},
     "output_type": "execute_result"
    }
   ],
   "source": [
    "usage_df[\"ONNET_INCOMING_Categorical\"].value_counts()"
   ]
  },
  {
   "cell_type": "code",
   "execution_count": 1045,
   "metadata": {},
   "outputs": [],
   "source": [
    "def voice_bin(incoming,outgoing):\n",
    "    if incoming==\"LOW\" and outgoing==\"LOW\":\n",
    "        return \"LOW\"\n",
    "    if incoming==\"HIGH\" and outgoing==\"HIGH\":\n",
    "        return \"HIGH\"\n",
    "    if (incoming==\"HIGH\" and outgoing==\"MEDIUM\") or (incoming==\"MEDIUM\" and outgoing==\"HIGH\"):\n",
    "        return \"HIGH\"\n",
    "    if incoming==\"MEDIUM\" and outgoing==\"MEDIUM\":\n",
    "        return \"MEDIUM\"\n",
    "    if (incoming==\"MEDIUM\" and outgoing==\"LOW\") or (incoming==\"LOW\" and outgoing==\"MEDIUM\"):\n",
    "        return \"LOW\"\n",
    "    if (incoming==\"LOW\" and outgoing==\"HIGH\") or (incoming==\"HIGH\" and outgoing==\"LOW\"):\n",
    "        return \"MEDIUM\"\n",
    "    if (isinstance(incoming,float) and not isinstance(outgoing,float)) or (not isinstance(incoming,float) and isinstance(outgoing,float)):\n",
    "        return \"LOW\"\n",
    "#     if (isinstance(incoming,float) and isinstance(outgoing,float)):\n",
    "#         return \"NO\""
   ]
  },
  {
   "cell_type": "code",
   "execution_count": 1046,
   "metadata": {},
   "outputs": [
    {
     "data": {
      "text/plain": [
       "'MEDIUM'"
      ]
     },
     "execution_count": 1046,
     "metadata": {},
     "output_type": "execute_result"
    }
   ],
   "source": [
    "# test\n",
    "voice_bin(\"LOW\",\"HIGH\")"
   ]
  },
  {
   "cell_type": "code",
   "execution_count": 1047,
   "metadata": {},
   "outputs": [],
   "source": [
    "usage_df[\"ONNET_Overall_Categorical\"] = usage_df.apply(lambda x: voice_bin(x[\"ONNET_INCOMING_Categorical\"], x[\"ONNET_OUTGOING_Categorical\"]), axis=1)"
   ]
  },
  {
   "cell_type": "code",
   "execution_count": 1048,
   "metadata": {},
   "outputs": [],
   "source": [
    "usage_df[\"OFFNET_Overall_Categorical\"] = usage_df.apply(lambda x: voice_bin(x[\"OFFNET_INCOMING_Categorical\"], x[\"OFFNET_OUTGOING_Categorical\"]), axis=1)"
   ]
  },
  {
   "cell_type": "code",
   "execution_count": 1049,
   "metadata": {},
   "outputs": [],
   "source": [
    "usage_df[\"IDD_Overall_Categorical\"] = usage_df.apply(lambda x: voice_bin(x[\"IDD_INCOMING_Categorical\"], x[\"IDD_OUTGOING_Categorical\"]), axis=1)"
   ]
  },
  {
   "cell_type": "code",
   "execution_count": 1050,
   "metadata": {},
   "outputs": [],
   "source": [
    "def voice_overall_bin(call_usage):\n",
    "    counts = Counter(call_usage)\n",
    "    if counts[\"LOW\"] > 1:\n",
    "        return \"LOW\"\n",
    "    elif counts[\"HIGH\"] > 1:\n",
    "        return \"HIGH\"\n",
    "    elif counts[\"MEDIUM\"] > 1:\n",
    "        return \"MEDIUM\"\n",
    "    elif counts[\"LOW\"] == 1 and counts[\"MEDIUM\"] == 1 and counts[\"HIGH\"] == 1:\n",
    "        return \"MEDIUM\"\n",
    "    elif counts[\"LOW\"] == 1 and counts[\"MEDIUM\"] == 1:\n",
    "        return \"LOW\"\n",
    "    elif counts[\"MEDIUM\"] == 1 and counts[\"HIGH\"] == 1:\n",
    "        return \"MEDIUM\""
   ]
  },
  {
   "cell_type": "code",
   "execution_count": 1051,
   "metadata": {},
   "outputs": [
    {
     "data": {
      "text/plain": [
       "'HIGH'"
      ]
     },
     "execution_count": 1051,
     "metadata": {},
     "output_type": "execute_result"
    }
   ],
   "source": [
    "# test\n",
    "voice_overall_bin([\"HIGH\",\"HIGH\",\"NO\"])"
   ]
  },
  {
   "cell_type": "code",
   "execution_count": 1052,
   "metadata": {},
   "outputs": [],
   "source": [
    "usage_df[\"VOICE_Categorical\"] = usage_df.apply(lambda x: voice_overall_bin([x[\"ONNET_Overall_Categorical\"], x[\"OFFNET_Overall_Categorical\"], x[\"IDD_Overall_Categorical\"]]), axis=1)"
   ]
  },
  {
   "cell_type": "code",
   "execution_count": 1053,
   "metadata": {},
   "outputs": [
    {
     "data": {
      "text/html": [
       "<div>\n",
       "<style scoped>\n",
       "    .dataframe tbody tr th:only-of-type {\n",
       "        vertical-align: middle;\n",
       "    }\n",
       "\n",
       "    .dataframe tbody tr th {\n",
       "        vertical-align: top;\n",
       "    }\n",
       "\n",
       "    .dataframe thead th {\n",
       "        text-align: right;\n",
       "    }\n",
       "</style>\n",
       "<table border=\"1\" class=\"dataframe\">\n",
       "  <thead>\n",
       "    <tr style=\"text-align: right;\">\n",
       "      <th></th>\n",
       "      <th>ACCOUNT_NUM.hash</th>\n",
       "      <th>CUSTOMER_REF.hash</th>\n",
       "      <th>OFFNET_INCOMING_Scaled</th>\n",
       "      <th>OFFNET_INCOMING_Categorical</th>\n",
       "      <th>OFFNET_INCOMING_Outlier</th>\n",
       "      <th>OFFNET_OUTGOING_Categorical</th>\n",
       "      <th>OFFNET_OUTGOING_Scaled</th>\n",
       "      <th>OFFNET_OUTGOING_Outlier</th>\n",
       "      <th>ONNET_INCOMING_Categorical</th>\n",
       "      <th>ONNET_INCOMING_Scaled</th>\n",
       "      <th>...</th>\n",
       "      <th>BB_Categorical</th>\n",
       "      <th>BB_Scaled</th>\n",
       "      <th>Location_Identifier</th>\n",
       "      <th>GENDER</th>\n",
       "      <th>BIRTH_YEAR</th>\n",
       "      <th>AGE</th>\n",
       "      <th>ONNET_Overall_Categorical</th>\n",
       "      <th>OFFNET_Overall_Categorical</th>\n",
       "      <th>IDD_Overall_Categorical</th>\n",
       "      <th>VOICE_Categorical</th>\n",
       "    </tr>\n",
       "  </thead>\n",
       "  <tbody>\n",
       "  </tbody>\n",
       "</table>\n",
       "<p>0 rows × 37 columns</p>\n",
       "</div>"
      ],
      "text/plain": [
       "Empty DataFrame\n",
       "Columns: [ACCOUNT_NUM.hash, CUSTOMER_REF.hash, OFFNET_INCOMING_Scaled, OFFNET_INCOMING_Categorical, OFFNET_INCOMING_Outlier, OFFNET_OUTGOING_Categorical, OFFNET_OUTGOING_Scaled, OFFNET_OUTGOING_Outlier, ONNET_INCOMING_Categorical, ONNET_INCOMING_Scaled, ONNET_INCOMING_Outlier, ONNET_OUTGOING_Categorical, ONNET_OUTGOING_Scaled, ONNET_OUTGOING_Outlier, IDD_INCOMING_Categorical, IDD_INCOMING_Scaled, IDD_INCOMING_Outlier, IDD_incoming_country, IDD_OUTGOING_Categorical, IDD_OUTGOING_Scaled, IDD_OUTGOING_Outlier, IDD_outgoing_Cumulative_Revenue, IDD_outgoing_country, Peo_TV_Package, PEO_TV_Categorical, PEO_TV_Scaled, event_source.hash, BB_Categorical, BB_Scaled, Location_Identifier, GENDER, BIRTH_YEAR, AGE, ONNET_Overall_Categorical, OFFNET_Overall_Categorical, IDD_Overall_Categorical, VOICE_Categorical]\n",
       "Index: []\n",
       "\n",
       "[0 rows x 37 columns]"
      ]
     },
     "execution_count": 1053,
     "metadata": {},
     "output_type": "execute_result"
    }
   ],
   "source": [
    "usage_df[(usage_df[\"VOICE_Categorical\"] == \"NO\")]"
   ]
  },
  {
   "cell_type": "markdown",
   "metadata": {},
   "source": [
    "## Subscrition Types"
   ]
  },
  {
   "cell_type": "code",
   "execution_count": 1054,
   "metadata": {},
   "outputs": [],
   "source": [
    "usage_df = usage_df.merge(sub_df,how='left',on=[\"ACCOUNT_NUM.hash\"])"
   ]
  },
  {
   "cell_type": "code",
   "execution_count": 1055,
   "metadata": {},
   "outputs": [],
   "source": [
    "def check_product_level(voice,bb,tv):\n",
    "    if not isinstance(voice,float): \n",
    "        if bb==\"NO\" and tv==\"NO\":\n",
    "            return \"SINGLE_PLAY\"\n",
    "        if bb != \"NO\" and tv == \"NO\":\n",
    "            return \"DOUBLE_PLAY_BV\"\n",
    "        if bb == \"NO\" and tv != \"NO\":\n",
    "            return \"DOUBLE_PLAY_PV\"\n",
    "        if bb != \"NO\" and tv != \"NO\":\n",
    "            return \"TRIPLE_PLAY\""
   ]
  },
  {
   "cell_type": "code",
   "execution_count": 1056,
   "metadata": {},
   "outputs": [
    {
     "data": {
      "text/plain": [
       "'DOUBLE_PLAY_BV'"
      ]
     },
     "execution_count": 1056,
     "metadata": {},
     "output_type": "execute_result"
    }
   ],
   "source": [
    "# test\n",
    "check_product_level(\"LOW\",\"HIGH\",\"NO\")"
   ]
  },
  {
   "cell_type": "code",
   "execution_count": 1057,
   "metadata": {},
   "outputs": [],
   "source": [
    "usage_df[\"Play_Type\"] = usage_df.apply(lambda x: check_product_level(x[\"VOICE_Categorical\"], x[\"BB_Categorical\"], x[\"PEO_TV_Categorical\"]), axis=1)"
   ]
  },
  {
   "cell_type": "code",
   "execution_count": 1058,
   "metadata": {},
   "outputs": [],
   "source": [
    "# play usage\n",
    "def play_usage(usage):\n",
    "    if len(usage)>2:\n",
    "        new_usage=[]\n",
    "        for el in usage:\n",
    "            if isinstance(el,float) or el==\"nan\" or el==None:\n",
    "                new_usage.append(\"NO_INFO\")\n",
    "            else:\n",
    "                new_usage.append(el)\n",
    "        return [f\"VOICE_{new_usage[0]}\", f\"BB_{new_usage[1]}\", f\"TV_{new_usage[2]}\"]\n",
    "    else:\n",
    "        return \"ERR\""
   ]
  },
  {
   "cell_type": "code",
   "execution_count": 1059,
   "metadata": {},
   "outputs": [
    {
     "data": {
      "text/plain": [
       "['VOICE_LOW', 'BB_HIGH', 'TV_LOW']"
      ]
     },
     "execution_count": 1059,
     "metadata": {},
     "output_type": "execute_result"
    }
   ],
   "source": [
    "# test\n",
    "play_usage([\"LOW\",\"HIGH\",\"LOW\"])"
   ]
  },
  {
   "cell_type": "code",
   "execution_count": 1060,
   "metadata": {},
   "outputs": [],
   "source": [
    "usage_df[\"Sub_Usage\"] = usage_df.apply(lambda x: play_usage([x[\"VOICE_Categorical\"], x[\"BB_Categorical\"], x[\"PEO_TV_Categorical\"]]), axis=1)"
   ]
  },
  {
   "cell_type": "code",
   "execution_count": 1061,
   "metadata": {},
   "outputs": [
    {
     "data": {
      "text/plain": [
       "Sub_Type        Play_Type     \n",
       "TRIPLE_PLAY     TRIPLE_PLAY       229\n",
       "SINGLE_PLAY     TRIPLE_PLAY       164\n",
       "DOUBLE_PLAY_PV  TRIPLE_PLAY       140\n",
       "DOUBLE_PLAY_BV  TRIPLE_PLAY       113\n",
       "                DOUBLE_PLAY_BV     27\n",
       "SINGLE_PLAY     DOUBLE_PLAY_BV     25\n",
       "DOUBLE_PLAY_PV  DOUBLE_PLAY_BV     18\n",
       "TRIPLE_PLAY     DOUBLE_PLAY_BV     15\n",
       "4G              TRIPLE_PLAY         1\n",
       "dtype: int64"
      ]
     },
     "execution_count": 1061,
     "metadata": {},
     "output_type": "execute_result"
    }
   ],
   "source": [
    "usage_df[[\"Sub_Type\",\"Play_Type\"]].value_counts()"
   ]
  },
  {
   "cell_type": "code",
   "execution_count": 1062,
   "metadata": {},
   "outputs": [],
   "source": [
    "def check_sub_type(sub):\n",
    "    if isinstance(sub, float):\n",
    "        return \"Assumed\"\n",
    "    else:\n",
    "        return \"Actual\""
   ]
  },
  {
   "cell_type": "code",
   "execution_count": 1063,
   "metadata": {},
   "outputs": [],
   "source": [
    "usage_df[\"Sub_Type_State\"]=usage_df[\"Sub_Type\"].apply(lambda x: check_sub_type(x))"
   ]
  },
  {
   "cell_type": "code",
   "execution_count": 1064,
   "metadata": {},
   "outputs": [],
   "source": [
    "def merge_sub_types(sub1,sub2):\n",
    "    if isinstance(sub1, float):\n",
    "        return sub2\n",
    "    else:\n",
    "        return sub1"
   ]
  },
  {
   "cell_type": "code",
   "execution_count": 1065,
   "metadata": {},
   "outputs": [],
   "source": [
    "usage_df[\"Sub_Type\"] = usage_df.apply(lambda x: merge_sub_types(x[\"Sub_Type\"], x[\"Play_Type\"]), axis=1)"
   ]
  },
  {
   "cell_type": "code",
   "execution_count": 1066,
   "metadata": {},
   "outputs": [],
   "source": [
    "usage_df.drop([\"Play_Type\"],axis=1,inplace=True)"
   ]
  },
  {
   "cell_type": "code",
   "execution_count": 1067,
   "metadata": {},
   "outputs": [
    {
     "data": {
      "text/plain": [
       "Assumed    2248\n",
       "Actual      732\n",
       "Name: Sub_Type_State, dtype: int64"
      ]
     },
     "execution_count": 1067,
     "metadata": {},
     "output_type": "execute_result"
    }
   ],
   "source": [
    "usage_df[\"Sub_Type_State\"].value_counts()"
   ]
  },
  {
   "cell_type": "code",
   "execution_count": 1068,
   "metadata": {},
   "outputs": [
    {
     "data": {
      "text/plain": [
       "TRIPLE_PLAY       2379\n",
       "DOUBLE_PLAY_BV     253\n",
       "SINGLE_PLAY        189\n",
       "DOUBLE_PLAY_PV     158\n",
       "4G                   1\n",
       "Name: Sub_Type, dtype: int64"
      ]
     },
     "execution_count": 1068,
     "metadata": {},
     "output_type": "execute_result"
    }
   ],
   "source": [
    "usage_df[\"Sub_Type\"].value_counts()"
   ]
  },
  {
   "cell_type": "code",
   "execution_count": 1069,
   "metadata": {},
   "outputs": [
    {
     "data": {
      "text/plain": [
       "<AxesSubplot:ylabel='Sub_Type'>"
      ]
     },
     "execution_count": 1069,
     "metadata": {},
     "output_type": "execute_result"
    },
    {
     "data": {
      "image/png": "[encoded data removed]",
      "text/plain": [
       "<Figure size 648x648 with 1 Axes>"
      ]
     },
     "metadata": {},
     "output_type": "display_data"
    }
   ],
   "source": [
    "usage_df[\"Sub_Type\"].value_counts().plot(kind='pie', figsize=(9,9), autopct='%1.1f%%', colors=['pink','yellow','orange','green','blue'])"
   ]
  },
  {
   "cell_type": "markdown",
   "metadata": {},
   "source": [
    "### Note\n",
    "\n",
    "- Actual Subscription information - for **732** Subscribers\n",
    "- Assumed on usage - **2248**"
   ]
  },
  {
   "cell_type": "markdown",
   "metadata": {},
   "source": [
    "### Wait! Contradiction??"
   ]
  },
  {
   "cell_type": "code",
   "execution_count": 1070,
   "metadata": {},
   "outputs": [
    {
     "data": {
      "text/plain": [
       "LOW       21\n",
       "HIGH       2\n",
       "MEDIUM     1\n",
       "Name: BB_Categorical, dtype: int64"
      ]
     },
     "execution_count": 1070,
     "metadata": {},
     "output_type": "execute_result"
    }
   ],
   "source": [
    "usage_df[(usage_df[\"Sub_Type\"] == \"DOUBLE_PLAY_PV\")][\"BB_Categorical\"].value_counts()"
   ]
  },
  {
   "cell_type": "code",
   "execution_count": 1071,
   "metadata": {},
   "outputs": [
    {
     "data": {
      "text/plain": [
       "LOW       12\n",
       "HIGH       5\n",
       "MEDIUM     5\n",
       "Name: BB_Categorical, dtype: int64"
      ]
     },
     "execution_count": 1071,
     "metadata": {},
     "output_type": "execute_result"
    }
   ],
   "source": [
    "usage_df[(usage_df[\"Sub_Type\"] == \"SINGLE_PLAY\")][\"BB_Categorical\"].value_counts()"
   ]
  },
  {
   "cell_type": "code",
   "execution_count": 1072,
   "metadata": {},
   "outputs": [
    {
     "data": {
      "text/plain": [
       "NO        25\n",
       "LOW        8\n",
       "MEDIUM     6\n",
       "HIGH       3\n",
       "Name: PEO_TV_Categorical, dtype: int64"
      ]
     },
     "execution_count": 1072,
     "metadata": {},
     "output_type": "execute_result"
    }
   ],
   "source": [
    "usage_df[(usage_df[\"Sub_Type\"] == \"SINGLE_PLAY\")][\"PEO_TV_Categorical\"].value_counts()"
   ]
  },
  {
   "cell_type": "code",
   "execution_count": 1073,
   "metadata": {},
   "outputs": [
    {
     "data": {
      "text/plain": [
       "NO        140\n",
       "MEDIUM      3\n",
       "LOW         3\n",
       "HIGH        1\n",
       "Name: PEO_TV_Categorical, dtype: int64"
      ]
     },
     "execution_count": 1073,
     "metadata": {},
     "output_type": "execute_result"
    }
   ],
   "source": [
    "usage_df[(usage_df[\"Sub_Type\"] == \"DOUBLE_PLAY_BV\")][\"PEO_TV_Categorical\"].value_counts()"
   ]
  },
  {
   "cell_type": "markdown",
   "metadata": {},
   "source": [
    "### Why??\n",
    "- These subscribers may have used the services within 2019-01 to 2021-01 and however downgraded thier services by the time of BSS dataset has generated"
   ]
  },
  {
   "cell_type": "markdown",
   "metadata": {},
   "source": [
    "### Dropping contradictory subscribers"
   ]
  },
  {
   "cell_type": "code",
   "execution_count": 1074,
   "metadata": {},
   "outputs": [],
   "source": [
    "usage_df = usage_df.drop(usage_df[(usage_df[\"Sub_Type\"] == \"DOUBLE_PLAY_PV\") & (usage_df[\"BB_Categorical\"].notna())].index)"
   ]
  },
  {
   "cell_type": "code",
   "execution_count": 1075,
   "metadata": {},
   "outputs": [
    {
     "data": {
      "text/plain": [
       "Series([], Name: BB_Categorical, dtype: int64)"
      ]
     },
     "execution_count": 1075,
     "metadata": {},
     "output_type": "execute_result"
    }
   ],
   "source": [
    "usage_df[(usage_df[\"Sub_Type\"] == \"DOUBLE_PLAY_PV\")][\"BB_Categorical\"].value_counts()"
   ]
  },
  {
   "cell_type": "code",
   "execution_count": 1076,
   "metadata": {},
   "outputs": [],
   "source": [
    "usage_df = usage_df.drop(usage_df[(usage_df[\"Sub_Type\"] == \"SINGLE_PLAY\") & (usage_df[\"BB_Categorical\"].notna())].index)"
   ]
  },
  {
   "cell_type": "code",
   "execution_count": 1077,
   "metadata": {},
   "outputs": [
    {
     "data": {
      "text/plain": [
       "Series([], Name: BB_Categorical, dtype: int64)"
      ]
     },
     "execution_count": 1077,
     "metadata": {},
     "output_type": "execute_result"
    }
   ],
   "source": [
    "usage_df[(usage_df[\"Sub_Type\"] == \"SINGLE_PLAY\")][\"BB_Categorical\"].value_counts()"
   ]
  },
  {
   "cell_type": "code",
   "execution_count": 1078,
   "metadata": {},
   "outputs": [],
   "source": [
    "usage_df = usage_df.drop(usage_df[(usage_df[\"Sub_Type\"] == \"SINGLE_PLAY\") & (usage_df[\"PEO_TV_Categorical\"] != \"NO\") & (usage_df[\"PEO_TV_Categorical\"].notna())].index)"
   ]
  },
  {
   "cell_type": "code",
   "execution_count": 1079,
   "metadata": {},
   "outputs": [
    {
     "data": {
      "text/plain": [
       "NO    21\n",
       "Name: PEO_TV_Categorical, dtype: int64"
      ]
     },
     "execution_count": 1079,
     "metadata": {},
     "output_type": "execute_result"
    }
   ],
   "source": [
    "usage_df[(usage_df[\"Sub_Type\"] == \"SINGLE_PLAY\")][\"PEO_TV_Categorical\"].value_counts()"
   ]
  },
  {
   "cell_type": "code",
   "execution_count": 1080,
   "metadata": {},
   "outputs": [],
   "source": [
    "usage_df = usage_df.drop(usage_df[(usage_df[\"Sub_Type\"] == \"DOUBLE_PLAY_BV\") & (usage_df[\"PEO_TV_Categorical\"] != \"NO\") & (usage_df[\"PEO_TV_Categorical\"].notna())].index)"
   ]
  },
  {
   "cell_type": "code",
   "execution_count": 1081,
   "metadata": {},
   "outputs": [
    {
     "data": {
      "text/plain": [
       "NO    140\n",
       "Name: PEO_TV_Categorical, dtype: int64"
      ]
     },
     "execution_count": 1081,
     "metadata": {},
     "output_type": "execute_result"
    }
   ],
   "source": [
    "usage_df[(usage_df[\"Sub_Type\"] == \"DOUBLE_PLAY_BV\")][\"PEO_TV_Categorical\"].value_counts()"
   ]
  },
  {
   "cell_type": "code",
   "execution_count": 1082,
   "metadata": {},
   "outputs": [
    {
     "data": {
      "text/plain": [
       "TRIPLE_PLAY       2379\n",
       "DOUBLE_PLAY_BV     246\n",
       "SINGLE_PLAY        156\n",
       "DOUBLE_PLAY_PV     134\n",
       "4G                   1\n",
       "Name: Sub_Type, dtype: int64"
      ]
     },
     "execution_count": 1082,
     "metadata": {},
     "output_type": "execute_result"
    }
   ],
   "source": [
    "usage_df[\"Sub_Type\"].value_counts()"
   ]
  },
  {
   "cell_type": "markdown",
   "metadata": {},
   "source": [
    "## Service Packages and VAS\n",
    "- categories derived from \"Product State Changes\" and \"VAS\" datasets"
   ]
  },
  {
   "cell_type": "code",
   "execution_count": 1083,
   "metadata": {},
   "outputs": [],
   "source": [
    "usage_df = usage_df.merge(megaline_agg_df,how='left', on='ACCOUNT_NUM.hash')"
   ]
  },
  {
   "cell_type": "code",
   "execution_count": 1084,
   "metadata": {},
   "outputs": [],
   "source": [
    "usage_df = usage_df.merge(ftth_agg_df,how='left', on='ACCOUNT_NUM.hash')"
   ]
  },
  {
   "cell_type": "code",
   "execution_count": 1085,
   "metadata": {},
   "outputs": [],
   "source": [
    "usage_df.Package_Type_x.fillna(usage_df.Package_Type_y,inplace=True)\n",
    "usage_df.MEDIUM_x.fillna(usage_df.MEDIUM_y,inplace=True)"
   ]
  },
  {
   "cell_type": "code",
   "execution_count": 1086,
   "metadata": {},
   "outputs": [],
   "source": [
    "usage_df.drop([\"Package_Type_y\",\"MEDIUM_y\"],axis=1, inplace=True)\n",
    "usage_df.rename(columns={\"Package_Type_x\":\"Package_Type\",\"MEDIUM_x\":\"MEDIUM\"},inplace=True)"
   ]
  },
  {
   "cell_type": "code",
   "execution_count": 1087,
   "metadata": {},
   "outputs": [],
   "source": [
    "vas_agg_df.rename(columns={\"Package\":\"VAS_Package\",\"Month_Subscribed\":\"VAS_Month_Subscribed\",\"Rental\":\"VAS_Rental\",\\\n",
    "                          \"One_Time_Charge\":\"VAS_One_Time_Charge\"},inplace=True)"
   ]
  },
  {
   "cell_type": "code",
   "execution_count": 1088,
   "metadata": {},
   "outputs": [],
   "source": [
    "usage_df = usage_df.merge(vas_agg_df,how='left', on='ACCOUNT_NUM.hash')"
   ]
  },
  {
   "cell_type": "code",
   "execution_count": 1089,
   "metadata": {},
   "outputs": [],
   "source": [
    "usage_df.Package_Type_x.fillna(usage_df.Package_Type_y,inplace=True)"
   ]
  },
  {
   "cell_type": "code",
   "execution_count": 1090,
   "metadata": {},
   "outputs": [],
   "source": [
    "usage_df.drop([\"Package_Type_y\"],axis=1, inplace=True)\n",
    "usage_df.rename(columns={\"Package_Type_x\":\"Package_Type\"},inplace=True)"
   ]
  },
  {
   "cell_type": "markdown",
   "metadata": {},
   "source": [
    "## Subscription upgrades and Downgrades"
   ]
  },
  {
   "cell_type": "code",
   "execution_count": 1091,
   "metadata": {},
   "outputs": [
    {
     "name": "stdout",
     "output_type": "stream",
     "text": [
      "<class 'pandas.core.frame.DataFrame'>\n",
      "RangeIndex: 758 entries, 0 to 757\n",
      "Data columns (total 4 columns):\n",
      " #   Column             Non-Null Count  Dtype \n",
      "---  ------             --------------  ----- \n",
      " 0   ACCOUNT_NUM.hash   758 non-null    object\n",
      " 1   Sub_Update_Date    758 non-null    object\n",
      " 2   Sub_Update_Status  758 non-null    object\n",
      " 3   Sub_Update         758 non-null    object\n",
      "dtypes: object(4)\n",
      "memory usage: 23.8+ KB\n"
     ]
    }
   ],
   "source": [
    "promo_change_df.info()"
   ]
  },
  {
   "cell_type": "code",
   "execution_count": 1092,
   "metadata": {},
   "outputs": [],
   "source": [
    "usage_df = usage_df.merge(promo_change_df,how='left', on='ACCOUNT_NUM.hash')"
   ]
  },
  {
   "cell_type": "code",
   "execution_count": 1093,
   "metadata": {},
   "outputs": [
    {
     "data": {
      "text/plain": [
       "Sub_Update_Status    Sub_Update                      \n",
       "Promotion Downgrade  DOUBLE_PLAY_BV -> SINGLE_PLAY       129\n",
       "Promotion Upgrade    DOUBLE_PLAY_PV -> TRIPLE_PLAY       127\n",
       "                     SINGLE_PLAY -> DOUBLE_PLAY_BV       109\n",
       "Promotion Downgrade  TRIPLE_PLAY -> DOUBLE_PLAY_PV        72\n",
       "Promotion Upgrade    DOUBLE_PLAY_BV -> TRIPLE_PLAY        69\n",
       "                     SINGLE_PLAY -> DOUBLE_PLAY_PV        62\n",
       "Promotion Downgrade  TRIPLE_PLAY -> SINGLE_PLAY           32\n",
       "Promotion Upgrade    SINGLE_PLAY -> TRIPLE_PLAY           25\n",
       "Promotion Downgrade  DOUBLE_PLAY_PV -> SINGLE_PLAY        21\n",
       "                     TRIPLE_PLAY -> DOUBLE_PLAY_BV        12\n",
       "Promotion Upgrade    DOUBLE_PLAY_PV -> DOUBLE_PLAY_BV      1\n",
       "                     4G -> 4G                              1\n",
       "dtype: int64"
      ]
     },
     "execution_count": 1093,
     "metadata": {},
     "output_type": "execute_result"
    }
   ],
   "source": [
    "usage_df[[\"Sub_Update_Status\",\"Sub_Update\"]].value_counts()"
   ]
  },
  {
   "cell_type": "code",
   "execution_count": 1094,
   "metadata": {},
   "outputs": [
    {
     "data": {
      "text/plain": [
       "<AxesSubplot:ylabel='None'>"
      ]
     },
     "execution_count": 1094,
     "metadata": {},
     "output_type": "execute_result"
    },
    {
     "data": {
      "image/png": "[encoded data removed]",
      "text/plain": [
       "<Figure size 720x720 with 1 Axes>"
      ]
     },
     "metadata": {},
     "output_type": "display_data"
    }
   ],
   "source": [
    "fig = plt.figure(figsize=(10,10))\n",
    "ax = plt.subplot(111)\n",
    "usage_df[[\"Sub_Update_Status\"]].value_counts().plot(kind='pie', ax=ax, autopct='%1.1f%%', startangle=270, fontsize=12)"
   ]
  },
  {
   "cell_type": "code",
   "execution_count": null,
   "metadata": {},
   "outputs": [],
   "source": []
  },
  {
   "cell_type": "markdown",
   "metadata": {},
   "source": [
    "## BB Extra GB Purchased"
   ]
  },
  {
   "cell_type": "code",
   "execution_count": 1095,
   "metadata": {},
   "outputs": [],
   "source": [
    "extra_GB_df.drop([\"Unnamed: 0\"],axis=1, inplace=True)\n",
    "extra_GB_df.rename(columns={\"Month_Subscribed\":\"BB_Extra_GB_Purchased_Month\",\"Rental\":\"BB_Extra_GB_Rental\"}, inplace=True)"
   ]
  },
  {
   "cell_type": "code",
   "execution_count": 1096,
   "metadata": {},
   "outputs": [
    {
     "name": "stdout",
     "output_type": "stream",
     "text": [
      "<class 'pandas.core.frame.DataFrame'>\n",
      "RangeIndex: 7679 entries, 0 to 7678\n",
      "Data columns (total 4 columns):\n",
      " #   Column                       Non-Null Count  Dtype  \n",
      "---  ------                       --------------  -----  \n",
      " 0   ACCOUNT_NUM.hash             7679 non-null   object \n",
      " 1   VAS                          7679 non-null   object \n",
      " 2   BB_Extra_GB_Purchased_Month  7679 non-null   object \n",
      " 3   BB_Extra_GB_Rental           2307 non-null   float64\n",
      "dtypes: float64(1), object(3)\n",
      "memory usage: 240.1+ KB\n"
     ]
    }
   ],
   "source": [
    "extra_GB_df.info()"
   ]
  },
  {
   "cell_type": "code",
   "execution_count": 1097,
   "metadata": {},
   "outputs": [],
   "source": [
    "extra_GB_df[\"BB_Extra_GB_Usage_Times\"] = 1"
   ]
  },
  {
   "cell_type": "code",
   "execution_count": 1098,
   "metadata": {},
   "outputs": [],
   "source": [
    "extra_GB_agg_df = extra_GB_df.groupby('ACCOUNT_NUM.hash', as_index=False).agg(list)"
   ]
  },
  {
   "cell_type": "code",
   "execution_count": 1099,
   "metadata": {},
   "outputs": [],
   "source": [
    "extra_GB_agg_df['BB_Extra_GB_Usage_Times'] = extra_GB_agg_df.apply(lambda x: len(x['BB_Extra_GB_Usage_Times']), axis=1)"
   ]
  },
  {
   "cell_type": "code",
   "execution_count": 1100,
   "metadata": {},
   "outputs": [],
   "source": [
    "def list_zipper(list1,list2):\n",
    "    return dict(zip(list1,list2))"
   ]
  },
  {
   "cell_type": "code",
   "execution_count": 1101,
   "metadata": {},
   "outputs": [],
   "source": [
    "extra_GB_agg_df['BB_Extra_GB_Month_vs_Rental'] = extra_GB_agg_df.apply(lambda x: list_zipper(x['BB_Extra_GB_Purchased_Month'],x['BB_Extra_GB_Rental']), axis=1)"
   ]
  },
  {
   "cell_type": "code",
   "execution_count": 1102,
   "metadata": {},
   "outputs": [],
   "source": [
    "extra_GB_agg_df.drop([\"BB_Extra_GB_Purchased_Month\",\"BB_Extra_GB_Rental\",\"VAS\"],axis=1, inplace=True)"
   ]
  },
  {
   "cell_type": "code",
   "execution_count": 1103,
   "metadata": {},
   "outputs": [],
   "source": [
    "scaler = MinMaxScaler()\n",
    "extra_GB_agg_df[\"BB_Extra_GB_Purchased_Scaled\"] = scaler.fit_transform(extra_GB_agg_df[\"BB_Extra_GB_Usage_Times\"].values.reshape(-1,1))"
   ]
  },
  {
   "cell_type": "code",
   "execution_count": 1104,
   "metadata": {},
   "outputs": [],
   "source": [
    "extra_GB_agg_df[\"BB_Extra_GB_Purchased_Scaled\"] = extra_GB_agg_df[\"BB_Extra_GB_Purchased_Scaled\"].apply(lambda x: 0.01 if x==0.0 else x)"
   ]
  },
  {
   "cell_type": "code",
   "execution_count": 1105,
   "metadata": {},
   "outputs": [
    {
     "data": {
      "text/plain": [
       "count    1527.000000\n",
       "mean        0.013688\n",
       "std         0.038370\n",
       "min         0.001431\n",
       "25%         0.010000\n",
       "50%         0.010000\n",
       "75%         0.010000\n",
       "max         1.000000\n",
       "Name: BB_Extra_GB_Purchased_Scaled, dtype: float64"
      ]
     },
     "execution_count": 1105,
     "metadata": {},
     "output_type": "execute_result"
    }
   ],
   "source": [
    "extra_GB_agg_df[\"BB_Extra_GB_Purchased_Scaled\"].describe()"
   ]
  },
  {
   "cell_type": "code",
   "execution_count": 1106,
   "metadata": {},
   "outputs": [],
   "source": [
    "# binning\n",
    "bins = [0, 0.33, 0.66,1]\n",
    "labels = ['LOW','MEDIUM','HIGH']\n",
    "extra_GB_agg_df['BB_Extra_GB_Purchase_Categorical'] = pd.cut(extra_GB_agg_df['BB_Extra_GB_Purchased_Scaled'], bins=bins, labels=labels)"
   ]
  },
  {
   "cell_type": "code",
   "execution_count": 1107,
   "metadata": {},
   "outputs": [
    {
     "name": "stdout",
     "output_type": "stream",
     "text": [
      "<class 'pandas.core.frame.DataFrame'>\n",
      "Int64Index: 1527 entries, 0 to 1526\n",
      "Data columns (total 5 columns):\n",
      " #   Column                            Non-Null Count  Dtype   \n",
      "---  ------                            --------------  -----   \n",
      " 0   ACCOUNT_NUM.hash                  1527 non-null   object  \n",
      " 1   BB_Extra_GB_Usage_Times           1527 non-null   int64   \n",
      " 2   BB_Extra_GB_Month_vs_Rental       1527 non-null   object  \n",
      " 3   BB_Extra_GB_Purchased_Scaled      1527 non-null   float64 \n",
      " 4   BB_Extra_GB_Purchase_Categorical  1527 non-null   category\n",
      "dtypes: category(1), float64(1), int64(1), object(2)\n",
      "memory usage: 61.2+ KB\n"
     ]
    }
   ],
   "source": [
    "extra_GB_agg_df.info()"
   ]
  },
  {
   "cell_type": "code",
   "execution_count": 1108,
   "metadata": {},
   "outputs": [],
   "source": [
    "usage_df = usage_df.merge(extra_GB_agg_df,how='left', on='ACCOUNT_NUM.hash')"
   ]
  },
  {
   "cell_type": "markdown",
   "metadata": {},
   "source": [
    "### Note\n",
    "- Considered Extra GB Purchased time to build rating as there are no enough datsa about rentals"
   ]
  },
  {
   "cell_type": "markdown",
   "metadata": {},
   "source": [
    "## PeoTV Extra Channels Purchased"
   ]
  },
  {
   "cell_type": "code",
   "execution_count": 1109,
   "metadata": {},
   "outputs": [],
   "source": [
    "extra_Peo_df.drop([\"Unnamed: 0\"],axis=1, inplace=True)\n",
    "extra_Peo_df.rename(columns={\"Month_Subscribed\":\"Peo_Extra_Channels_Purchased_Month\",\"Rental\":\"Peo_Extra_Channels_Rental\"}, inplace=True)"
   ]
  },
  {
   "cell_type": "code",
   "execution_count": 1110,
   "metadata": {},
   "outputs": [
    {
     "name": "stdout",
     "output_type": "stream",
     "text": [
      "<class 'pandas.core.frame.DataFrame'>\n",
      "RangeIndex: 498 entries, 0 to 497\n",
      "Data columns (total 4 columns):\n",
      " #   Column                              Non-Null Count  Dtype \n",
      "---  ------                              --------------  ----- \n",
      " 0   ACCOUNT_NUM.hash                    498 non-null    object\n",
      " 1   Package                             498 non-null    object\n",
      " 2   Peo_Extra_Channels_Purchased_Month  498 non-null    object\n",
      " 3   Peo_Extra_Channels_Rental           498 non-null    int64 \n",
      "dtypes: int64(1), object(3)\n",
      "memory usage: 15.7+ KB\n"
     ]
    }
   ],
   "source": [
    "extra_Peo_df.info()"
   ]
  },
  {
   "cell_type": "code",
   "execution_count": 1111,
   "metadata": {},
   "outputs": [
    {
     "data": {
      "text/plain": [
       "51"
      ]
     },
     "execution_count": 1111,
     "metadata": {},
     "output_type": "execute_result"
    }
   ],
   "source": [
    "len(extra_Peo_df[\"ACCOUNT_NUM.hash\"].unique())"
   ]
  },
  {
   "cell_type": "code",
   "execution_count": 1112,
   "metadata": {},
   "outputs": [],
   "source": [
    "extra_Peo_agg_df = extra_Peo_df.groupby('ACCOUNT_NUM.hash', as_index=False).agg(list)"
   ]
  },
  {
   "cell_type": "code",
   "execution_count": 1113,
   "metadata": {},
   "outputs": [],
   "source": [
    "extra_Peo_agg_df['Peo_Extra_Channels_Cumulative_Rental'] = extra_Peo_agg_df.apply(lambda x: sum(x['Peo_Extra_Channels_Rental']), axis=1)"
   ]
  },
  {
   "cell_type": "code",
   "execution_count": 1114,
   "metadata": {},
   "outputs": [],
   "source": [
    "extra_Peo_agg_df['Peo_Extra_Channels_Month_vs_Rental'] = extra_Peo_agg_df.apply(lambda x: list_zipper(x['Peo_Extra_Channels_Purchased_Month'],x['Peo_Extra_Channels_Rental']), axis=1)"
   ]
  },
  {
   "cell_type": "code",
   "execution_count": 1115,
   "metadata": {},
   "outputs": [],
   "source": [
    "extra_Peo_agg_df.drop([\"Peo_Extra_Channels_Purchased_Month\",\"Peo_Extra_Channels_Rental\",\"Package\"],axis=1, inplace=True)"
   ]
  },
  {
   "cell_type": "code",
   "execution_count": 1116,
   "metadata": {},
   "outputs": [],
   "source": [
    "scaler = MinMaxScaler()\n",
    "extra_Peo_agg_df[\"Peo_Extra_Channels_Purchased_Scaled\"] = scaler.fit_transform(extra_Peo_agg_df[\"Peo_Extra_Channels_Cumulative_Rental\"].values.reshape(-1,1))"
   ]
  },
  {
   "cell_type": "code",
   "execution_count": 1117,
   "metadata": {},
   "outputs": [],
   "source": [
    "extra_Peo_agg_df[\"Peo_Extra_Channels_Purchased_Scaled\"] = extra_Peo_agg_df[\"Peo_Extra_Channels_Purchased_Scaled\"].apply(lambda x: 0.01 if x==0.0 else x)"
   ]
  },
  {
   "cell_type": "code",
   "execution_count": 1118,
   "metadata": {},
   "outputs": [
    {
     "data": {
      "text/plain": [
       "count    51.000000\n",
       "mean      0.217098\n",
       "std       0.170157\n",
       "min       0.010000\n",
       "25%       0.087912\n",
       "50%       0.197802\n",
       "75%       0.285714\n",
       "max       1.000000\n",
       "Name: Peo_Extra_Channels_Purchased_Scaled, dtype: float64"
      ]
     },
     "execution_count": 1118,
     "metadata": {},
     "output_type": "execute_result"
    }
   ],
   "source": [
    "extra_Peo_agg_df[\"Peo_Extra_Channels_Purchased_Scaled\"].describe()"
   ]
  },
  {
   "cell_type": "code",
   "execution_count": 1119,
   "metadata": {},
   "outputs": [],
   "source": [
    "# binning\n",
    "bins = [0, 0.33, 0.66,1]\n",
    "labels = ['LOW','MEDIUM','HIGH']\n",
    "extra_Peo_agg_df['Peo_Extra_Channels_Purchased_Categorical'] = pd.cut(extra_Peo_agg_df['Peo_Extra_Channels_Purchased_Scaled'], bins=bins, labels=labels)"
   ]
  },
  {
   "cell_type": "code",
   "execution_count": 1120,
   "metadata": {},
   "outputs": [
    {
     "name": "stdout",
     "output_type": "stream",
     "text": [
      "<class 'pandas.core.frame.DataFrame'>\n",
      "Int64Index: 51 entries, 0 to 50\n",
      "Data columns (total 5 columns):\n",
      " #   Column                                    Non-Null Count  Dtype   \n",
      "---  ------                                    --------------  -----   \n",
      " 0   ACCOUNT_NUM.hash                          51 non-null     object  \n",
      " 1   Peo_Extra_Channels_Cumulative_Rental      51 non-null     int64   \n",
      " 2   Peo_Extra_Channels_Month_vs_Rental        51 non-null     object  \n",
      " 3   Peo_Extra_Channels_Purchased_Scaled       51 non-null     float64 \n",
      " 4   Peo_Extra_Channels_Purchased_Categorical  51 non-null     category\n",
      "dtypes: category(1), float64(1), int64(1), object(2)\n",
      "memory usage: 2.1+ KB\n"
     ]
    }
   ],
   "source": [
    "extra_Peo_agg_df.info()"
   ]
  },
  {
   "cell_type": "code",
   "execution_count": 1121,
   "metadata": {},
   "outputs": [],
   "source": [
    "usage_df = usage_df.merge(extra_Peo_agg_df,how='left', on='ACCOUNT_NUM.hash')"
   ]
  },
  {
   "cell_type": "code",
   "execution_count": 1122,
   "metadata": {},
   "outputs": [
    {
     "name": "stdout",
     "output_type": "stream",
     "text": [
      "<class 'pandas.core.frame.DataFrame'>\n",
      "Int64Index: 2916 entries, 0 to 2915\n",
      "Data columns (total 66 columns):\n",
      " #   Column                                    Non-Null Count  Dtype   \n",
      "---  ------                                    --------------  -----   \n",
      " 0   ACCOUNT_NUM.hash                          2916 non-null   object  \n",
      " 1   CUSTOMER_REF.hash                         2916 non-null   object  \n",
      " 2   OFFNET_INCOMING_Scaled                    2916 non-null   float64 \n",
      " 3   OFFNET_INCOMING_Categorical               2916 non-null   object  \n",
      " 4   OFFNET_INCOMING_Outlier                   2916 non-null   object  \n",
      " 5   OFFNET_OUTGOING_Categorical               2809 non-null   object  \n",
      " 6   OFFNET_OUTGOING_Scaled                    2809 non-null   float64 \n",
      " 7   OFFNET_OUTGOING_Outlier                   2809 non-null   object  \n",
      " 8   ONNET_INCOMING_Categorical                2833 non-null   object  \n",
      " 9   ONNET_INCOMING_Scaled                     2833 non-null   float64 \n",
      " 10  ONNET_INCOMING_Outlier                    2833 non-null   object  \n",
      " 11  ONNET_OUTGOING_Categorical                2832 non-null   object  \n",
      " 12  ONNET_OUTGOING_Scaled                     2832 non-null   float64 \n",
      " 13  ONNET_OUTGOING_Outlier                    2832 non-null   object  \n",
      " 14  IDD_INCOMING_Categorical                  1445 non-null   object  \n",
      " 15  IDD_INCOMING_Scaled                       1445 non-null   float64 \n",
      " 16  IDD_INCOMING_Outlier                      1445 non-null   object  \n",
      " 17  IDD_incoming_country                      1445 non-null   object  \n",
      " 18  IDD_OUTGOING_Categorical                  477 non-null    object  \n",
      " 19  IDD_OUTGOING_Scaled                       477 non-null    float64 \n",
      " 20  IDD_OUTGOING_Outlier                      477 non-null    object  \n",
      " 21  IDD_outgoing_Cumulative_Revenue           477 non-null    float64 \n",
      " 22  IDD_outgoing_country                      477 non-null    object  \n",
      " 23  Peo_TV_Package                            1142 non-null   object  \n",
      " 24  PEO_TV_Categorical                        1142 non-null   object  \n",
      " 25  PEO_TV_Scaled                             1142 non-null   float64 \n",
      " 26  event_source.hash                         1142 non-null   object  \n",
      " 27  BB_Categorical                            1113 non-null   object  \n",
      " 28  BB_Scaled                                 1113 non-null   float64 \n",
      " 29  Location_Identifier                       2916 non-null   object  \n",
      " 30  GENDER                                    2237 non-null   object  \n",
      " 31  BIRTH_YEAR                                2237 non-null   float64 \n",
      " 32  AGE                                       2237 non-null   float64 \n",
      " 33  ONNET_Overall_Categorical                 2890 non-null   object  \n",
      " 34  OFFNET_Overall_Categorical                2916 non-null   object  \n",
      " 35  IDD_Overall_Categorical                   1499 non-null   object  \n",
      " 36  VOICE_Categorical                         2867 non-null   object  \n",
      " 37  Subscription                              668 non-null    object  \n",
      " 38  Sub_Type                                  2916 non-null   object  \n",
      " 39  Sub_Usage                                 2916 non-null   object  \n",
      " 40  Sub_Type_State                            2916 non-null   object  \n",
      " 41  Megaline_Package                          2836 non-null   object  \n",
      " 42  Megaline_Month_Subscribed                 2836 non-null   object  \n",
      " 43  Megaline_Rental                           2836 non-null   object  \n",
      " 44  Megaline_One_Time_Charge                  2836 non-null   object  \n",
      " 45  Package_Type                              2858 non-null   object  \n",
      " 46  MEDIUM                                    2836 non-null   object  \n",
      " 47  FTTH_Package                              88 non-null     object  \n",
      " 48  FTTH_Month_Subscribed                     88 non-null     object  \n",
      " 49  FTTH_Rental                               88 non-null     object  \n",
      " 50  FTTH_One_Time_Charge                      88 non-null     object  \n",
      " 51  VAS_Package                               1773 non-null   object  \n",
      " 52  VAS_Month_Subscribed                      1773 non-null   object  \n",
      " 53  VAS_Rental                                1773 non-null   object  \n",
      " 54  VAS_One_Time_Charge                       1773 non-null   object  \n",
      " 55  Sub_Update_Date                           660 non-null    object  \n",
      " 56  Sub_Update_Status                         660 non-null    object  \n",
      " 57  Sub_Update                                660 non-null    object  \n",
      " 58  BB_Extra_GB_Usage_Times                   1394 non-null   float64 \n",
      " 59  BB_Extra_GB_Month_vs_Rental               1394 non-null   object  \n",
      " 60  BB_Extra_GB_Purchased_Scaled              1394 non-null   float64 \n",
      " 61  BB_Extra_GB_Purchase_Categorical          1394 non-null   category\n",
      " 62  Peo_Extra_Channels_Cumulative_Rental      47 non-null     float64 \n",
      " 63  Peo_Extra_Channels_Month_vs_Rental        47 non-null     object  \n",
      " 64  Peo_Extra_Channels_Purchased_Scaled       47 non-null     float64 \n",
      " 65  Peo_Extra_Channels_Purchased_Categorical  47 non-null     category\n",
      "dtypes: category(2), float64(15), object(49)\n",
      "memory usage: 1.5+ MB\n"
     ]
    }
   ],
   "source": [
    "usage_df.info()"
   ]
  },
  {
   "cell_type": "markdown",
   "metadata": {},
   "source": [
    "# Deriving Contextual Features"
   ]
  },
  {
   "cell_type": "markdown",
   "metadata": {},
   "source": [
    "## Socio-Economic features"
   ]
  },
  {
   "cell_type": "code",
   "execution_count": 1123,
   "metadata": {},
   "outputs": [
    {
     "data": {
      "text/plain": [
       "array([nan, \"['E channeling Registration']\",\n",
       "       \"['BB PeoTVGO', 'BB Personal Storage', 'Meet Max']\",\n",
       "       \"['BB Detailed Reports ', 'Hotline Service', 'Hotline Time Delayed', 'TSTV', 'Video on Demand', 'IDD', 'Single VAS Bundle', 'BB PeoTVGO', 'BB Personal Storage', 'BB Report Subscription Charge', 'Meet Max']\",\n",
       "       \"['BB PeoTVGO']\",\n",
       "       \"['Basic1 TeleLife', 'PEO TV GO OTT A la carte channels']\",\n",
       "       \"['BB Personal Storage']\", \"['BB Personal Storage', 'BB PeoTVGO']\",\n",
       "       \"['BB PeoTVGO', 'BB Personal Storage']\",\n",
       "       \"['BB Personal Storage', 'BB PeoTVGO', 'PEO TV GO OTT A la carte channels']\",\n",
       "       \"['Sisu Connect', 'BB PeoTVGO', 'Basic1 TeleLife', 'BB Personal Storage', 'Meet Lite']\",\n",
       "       \"['BB SLT Film Hall Service', 'BB PeoTVGO', 'BB Personal Storage']\",\n",
       "       \"['Plus1 TeleLife', 'Basic1 TeleLife', 'BB PeoTVGO', 'BB Personal Storage', 'Meet Lite']\",\n",
       "       \"['E channeling Registration', 'BB Personal Storage', 'BB PeoTVGO']\",\n",
       "       \"['BB PeoTVGO', 'Meet Lite']\", \"['Basic1 TeleLife']\",\n",
       "       \"['BB PeoTVGO', 'BB Personal Storage', 'Meet Lite']\",\n",
       "       \"['Basic1 TeleLife', 'Plus1 TeleLife', 'BB PeoTVGO', 'BB Personal Storage']\",\n",
       "       \"['BB Personal Storage', 'Basic1 TeleLife', 'BB PeoTVGO', 'Meet Max']\",\n",
       "       \"['Plus1 TeleLife']\",\n",
       "       \"['BB Personal Storage', 'BB PeoTVGO', 'Meet Lite']\",\n",
       "       \"['BB Personal Storage', 'Basic1 TeleLife', 'BB PeoTVGO']\",\n",
       "       \"['Basic1 TeleLife', 'BB PeoTVGO']\",\n",
       "       \"['BB PeoTVGO', 'E channeling Registration', 'BB Personal Storage']\",\n",
       "       \"['Plus1 TeleLife', 'BB Personal Storage', 'BB PeoTVGO', 'Meet Lite']\",\n",
       "       \"['Basic1 TeleLife', 'BB Personal Storage', 'BB PeoTVGO']\",\n",
       "       \"['BB Personal Storage', 'Meet Lite', 'BB Messenger Bundle', 'Meet Max']\",\n",
       "       \"['TSTV', 'Video on Demand']\",\n",
       "       \"['Basic1 TeleLife', 'Sisu Connect', 'BB PeoTVGO', 'Meet Lite', 'BB Personal Storage']\",\n",
       "       \"['IDD', 'Meet Lite']\",\n",
       "       \"['BB PeoTVGO', 'Plus1 TeleLife', 'Telehealth', 'Meet Lite', 'BB Personal Storage']\",\n",
       "       \"['BB Personal Storage', 'BB PeoTVGO', 'E channeling Registration', 'Meet Max']\",\n",
       "       \"['BB Personal Storage', 'Plus1 TeleLife', 'BB PeoTVGO']\",\n",
       "       \"['Plus1 TeleLife', 'Meet Lite']\",\n",
       "       \"['BB PeoTVGO', 'BB Personal Storage', 'Basic1 TeleLife']\",\n",
       "       \"['Video on Demand', 'TSTV', 'Hotline Service']\",\n",
       "       \"['Cordeless Phone  Installment', 'Meet Lite']\",\n",
       "       \"['AB Referral offer Discount', 'Referral offer Discount', 'BB Personal Storage']\",\n",
       "       \"['E channeling Registration', 'E channeling Subscription', 'BB Personal Storage', 'BB PeoTVGO', 'Meet Lite', 'Meet Max']\",\n",
       "       \"['IDD', 'BB Detailed Reports ', 'BB PeoTVGO', 'BB Report Subscription Charge']\",\n",
       "       \"['Plus1 TeleLife', 'BB PeoTVGO', 'BB Personal Storage', 'BB Report Subscription Charge', 'Meet Lite']\",\n",
       "       \"['Meet Lite']\",\n",
       "       \"['BB Personal Storage', 'BB PeoTVGO', 'Edu Lite', 'Meet Lite']\",\n",
       "       \"['BB PeoTVGO', 'BB Personal Storage', 'BB Detailed Reports ', 'BB Report Subscription Charge']\",\n",
       "       \"['Hotline Time Delayed', 'Hotline Service']\",\n",
       "       \"['Plus1 TeleLife', 'Telehealth']\",\n",
       "       \"['BB PeoTVGO', 'Telehealth', 'BB Personal Storage']\",\n",
       "       \"['Basic1 TeleLife', 'BB Personal Storage', 'BB PeoTVGO', 'Meet Lite']\",\n",
       "       \"['BB PeoTVGO', 'BB Personal Storage', 'BB Report Subscription Charge']\",\n",
       "       \"['Installment']\",\n",
       "       \"['BB Personal Storage', 'TSTV', 'Video on Demand']\",\n",
       "       \"['E channeling Registration', 'E channeling Subscription', 'BB PeoTVGO']\",\n",
       "       \"['BB Personal Storage', 'E channeling Registration', 'E channeling Subscription', 'BB PeoTVGO']\",\n",
       "       \"['IDD', 'Single VAS Bundle']\",\n",
       "       \"['BB PeoTVGO', 'BB Personal Storage', 'PEO TV GO OTT A la carte channels', 'Meet Max', 'BB YouTube Bundle', 'Meet Lite']\",\n",
       "       \"['Plus1 TeleLife', 'Call park']\",\n",
       "       \"['PEO TV GO OTT A la carte channels', 'BB Detailed Reports ', 'BB Personal Storage', 'BB Report Subscription Charge']\",\n",
       "       \"['E channeling Registration', 'E channeling Subscription']\",\n",
       "       \"['BB Personal Storage', 'Meet Lite']\",\n",
       "       \"['BB Personal Storage', 'BB PeoTVGO', 'Referral offer Discount', 'AB Referral offer Discount']\",\n",
       "       \"['BB Personal Storage', 'BB PeoTVGO', 'Basic1 TeleLife', 'Meet Max']\",\n",
       "       \"['BB PeoTVGO', 'BB Personal Storage', 'BB Messenger Bundle']\",\n",
       "       \"['Basic1 TeleLife', 'BB PeoTVGO', 'BB Personal Storage']\",\n",
       "       \"['BB PeoTVGO', 'BB Personal Storage', 'BB YouTube Bundle']\",\n",
       "       \"['Call park', 'BB Personal Storage']\",\n",
       "       \"['BB Personal Storage', 'BB PeoTVGO', 'Hotline Service']\",\n",
       "       \"['Telehealth']\",\n",
       "       \"['BB PeoTVGO', 'BB Personal Storage', 'PEO TV GO OTT A la carte channels']\",\n",
       "       \"['BB Personal Storage', 'Meet Max']\",\n",
       "       \"['BB PeoTVGO', 'Plus1 TeleLife', 'BB Personal Storage', 'Meet Lite']\",\n",
       "       \"['BB PeoTVGO', 'Basic1 TeleLife', 'Meet Lite']\",\n",
       "       \"['Sisu Connect', 'BB Personal Storage', 'BB PeoTVGO', 'BB Report Subscription Charge']\",\n",
       "       \"['Basic1 TeleLife', 'Plus1 TeleLife', 'BB PeoTVGO', 'BB Personal Storage', 'Meet Lite']\",\n",
       "       \"['BB PeoTVGO', 'Basic Phone Installment']\",\n",
       "       \"['BB Personal Storage', 'BB PeoTVGO', 'BB Entertainment Unlimited']\",\n",
       "       \"['BB PeoTVGO', 'Sisu Connect', 'BB Personal Storage', 'Meet Lite']\",\n",
       "       \"['E channeling Registration', 'Plus1 TeleLife', 'E channeling Subscription', 'BB Personal Storage']\",\n",
       "       \"['BB Personal Storage', 'E channeling Registration', 'BB PeoTVGO']\",\n",
       "       \"['BB SLT Film Hall Service', 'BB Personal Storage', 'BB PeoTVGO', 'Package Rental Through ADSL']\",\n",
       "       \"['E channeling Registration', 'BB Personal Storage', 'Basic1 TeleLife', 'E channeling Subscription', 'BB PeoTVGO', 'Meet Lite']\",\n",
       "       \"['BB Personal Storage', 'BB PeoTVGO', 'AB Service Vacation', 'Meet Lite']\",\n",
       "       \"['Basic Phone Installment']\",\n",
       "       \"['Plus1 TeleLife', 'BB PeoTVGO', 'BB Personal Storage', 'Video on Demand', 'TSTV']\",\n",
       "       \"['BB PeoTVGO', 'BB Personal Storage', 'PEO TV GO OTT A la carte channels', 'BB Messenger Bundle', 'Meet Lite']\",\n",
       "       \"['PEO TV GO OTT A la carte channels']\",\n",
       "       \"['Sisu Connect', 'BB Detailed Reports ', 'BB PeoTVGO', 'BB Personal Storage', 'BB Report Subscription Charge', 'BB Messenger Bundle', 'BB YouTube Bundle', 'Edu Lite', 'Meet Lite']\",\n",
       "       \"['BB PeoTVGO', 'E channeling Registration']\",\n",
       "       \"['BB Personal Storage', 'BB PeoTVGO', 'Sisu Connect', 'Meet Lite']\",\n",
       "       \"['BB PeoTVGO', 'Basic Phone Installment', 'Meet Lite']\",\n",
       "       \"['Meet Lite', 'BB YouTube Bundle']\", \"['Call park']\",\n",
       "       \"['Plus1 TeleLife', 'BB PeoTVGO']\",\n",
       "       \"['BB PeoTVGO', 'BB Personal Storage', 'BB Detailed Reports ', 'BB Report Subscription Charge', 'Meet Max', 'Meet Lite']\",\n",
       "       \"['BB Personal Storage', 'Sisu Connect', 'BB PeoTVGO', 'BB YouTube Bundle', 'Meet Lite']\",\n",
       "       \"['Telehealth', 'E channeling Registration', 'Plus1 TeleLife']\",\n",
       "       \"['Video on Demand', 'TSTV']\",\n",
       "       \"['Basic1 TeleLife', 'BB PeoTVGO', 'PEO TV GO OTT A la carte channels', 'Meet Lite']\",\n",
       "       \"['BB Personal Storage', 'BB PeoTVGO', 'BB YouTube Bundle', 'Meet Lite']\",\n",
       "       \"['Telehealth', 'Basic1 TeleLife']\",\n",
       "       \"['Hotline Time Delayed', 'Hotline Immediate', 'Hotline Service']\",\n",
       "       \"['Meet Lite', 'Meet Max', 'BB Report Subscription Charge']\",\n",
       "       \"['Basic1 TeleLife', 'BB Personal Storage', 'Meet Lite']\",\n",
       "       \"['Plus1 TeleLife', 'BB PeoTVGO', 'BB Personal Storage', 'BB YouTube Bundle']\",\n",
       "       \"['Basic1 TeleLife', 'Plus1 TeleLife']\",\n",
       "       \"['Plus1 TeleLife', 'Basic1 TeleLife']\",\n",
       "       \"['Sisu Connect', 'BB PeoTVGO', 'BB Personal Storage']\",\n",
       "       \"['BB Personal Storage', 'BB YouTube Bundle', 'Meet Lite']\",\n",
       "       \"['BB PeoTVGO', 'BB Personal Storage', 'Call park', 'Plus1 TeleLife', 'Meet Lite']\",\n",
       "       \"['Basic1 TeleLife', 'BB Personal Storage', 'Plus1 TeleLife']\",\n",
       "       \"['AB Referral offer Discount', 'Referral offer Discount']\",\n",
       "       \"['BB Personal Storage', 'IDD', 'Single VAS Bundle', 'BB PeoTVGO', 'PEO TV GO OTT A la carte channels', 'BB Entertainment Unlimited']\",\n",
       "       \"['BB Detailed Reports ', 'BB Personal Storage', 'BB PeoTVGO']\",\n",
       "       \"['BB PeoTVGO', 'Plus1 TeleLife', 'BB Personal Storage']\",\n",
       "       \"['Hotline Time Delayed', 'Call park', 'Hotline Service', 'Hotline Immediate']\",\n",
       "       \"['BB Personal Storage', 'BB PeoTVGO', 'BB Messenger Bundle', 'BB YouTube Bundle', 'Meet Lite']\",\n",
       "       \"['Meet Max']\", \"['E channeling Registration', 'Telehealth']\",\n",
       "       \"['BB Report Subscription Charge']\",\n",
       "       \"['Plus1 TeleLife', 'BB PeoTVGO', 'BB Personal Storage']\",\n",
       "       \"['BB PeoTVGO', 'Basic1 TeleLife', 'BB Personal Storage']\",\n",
       "       \"['Plus1 TeleLife', 'BB Personal Storage', 'BB PeoTVGO']\",\n",
       "       \"['Telehealth', 'BB PeoTVGO']\",\n",
       "       \"['Basic1 TeleLife', 'BB Personal Storage']\",\n",
       "       \"['BB Personal Storage', 'BB PeoTVGO', 'BB Messenger Bundle', 'Meet Lite', 'Edu Lite']\",\n",
       "       \"['PeoTVGo Channel Package']\", \"['IDD']\",\n",
       "       \"['BB PeoTVGO', 'Telehealth']\",\n",
       "       \"['E channeling Registration', 'BB Personal Storage', 'BB PeoTVGO', 'PEO TV GO OTT A la carte channels', 'Meet Lite']\",\n",
       "       \"['Basic1 TeleLife', 'Meet Lite']\",\n",
       "       \"['BB PeoTVGO', 'BB Entertainment Unlimited', 'BB Personal Storage']\",\n",
       "       \"['Telehealth', 'Hotline Service', 'Hotline Time Delayed', 'BB PeoTVGO']\",\n",
       "       \"['Plus1 TeleLife', 'BB PeoTVGO', 'BB Personal Storage', 'Meet Lite']\",\n",
       "       \"['BB Personal Storage', 'BB PeoTVGO', 'Meet Lite', 'Meet Max']\",\n",
       "       \"['Hotline Immediate', 'Hotline Time Delayed', 'Hotline Service', 'BB PeoTVGO', 'BB Entertainment Unlimited', 'BB Personal Storage', 'Meet Lite']\",\n",
       "       \"['BB Personal Storage', 'BB PeoTVGO', 'Call park', 'Telehealth']\",\n",
       "       \"['BB Personal Storage', 'Call park', 'Basic1 TeleLife', 'Telehealth', 'BB PeoTVGO']\",\n",
       "       \"['IDD', 'BB PeoTVGO', 'BB Personal Storage']\",\n",
       "       \"['BB Personal Storage', 'BB PeoTVGO', 'BB Report Subscription Charge', 'Meet Lite', 'BB YouTube Bundle']\",\n",
       "       \"['Hotline Time Delayed', 'Hotline Immediate', 'Hotline Service', 'Video on Demand', 'TSTV']\",\n",
       "       \"['BB Personal Storage', 'BB PeoTVGO', 'BB Report Subscription Charge']\",\n",
       "       \"['Basic1 TeleLife', 'Meet Lite', 'Meet Max']\",\n",
       "       \"['BB Personal Storage', 'Sisu Connect', 'BB PeoTVGO', 'Telehealth']\",\n",
       "       \"['Sisu Connect']\",\n",
       "       \"['BB Personal Storage', 'Meet Max', 'Meet Lite']\",\n",
       "       \"['Telehealth', 'BB PeoTVGO', 'Plus1 TeleLife', 'BB Personal Storage']\",\n",
       "       \"['BB Personal Storage', 'Meet Lite', 'Meet Max']\",\n",
       "       \"['AB Service Vacation']\",\n",
       "       \"['BB Personal Storage', 'Hotline Service', 'Hotline Time Delayed']\",\n",
       "       \"['Basic1 TeleLife', 'BB PeoTVGO', 'BB Personal Storage', 'Meet Lite']\",\n",
       "       \"['Sisu Connect', 'BB Personal Storage', 'Meet Lite']\",\n",
       "       \"['Basic1 TeleLife', 'BB Personal Storage', 'Plus1 TeleLife', 'BB PeoTVGO']\",\n",
       "       \"['BB Personal Storage', 'BB PeoTVGO', 'Meet Max', 'Meet Lite']\",\n",
       "       \"['Plus1 TeleLife', 'BB Personal Storage']\",\n",
       "       \"['Basic1 TeleLife', 'Plus1 TeleLife', 'BB Personal Storage', 'BB PeoTVGO', 'Meet Lite']\",\n",
       "       \"['BB Personal Storage', 'Basic1 TeleLife', 'Telehealth']\",\n",
       "       \"['Basic1 TeleLife', 'E channeling Registration']\",\n",
       "       \"['Meet Max', 'Meet Lite']\",\n",
       "       \"['TSTV', 'Video on Demand', 'BB Personal Storage']\",\n",
       "       \"['BB Personal Storage', 'E channeling Registration', 'E channeling Subscription']\",\n",
       "       \"['BB PeoTVGO', 'BB Detailed Reports ', 'PEO TV GO OTT A la carte channels', 'BB Personal Storage', 'BB Entertainment Unlimited', 'BB YouTube Bundle', 'Meet Max', 'BB Report Subscription Charge']\",\n",
       "       \"['BB Personal Storage', 'BB PeoTVGO', 'BB YouTube Bundle', 'BB Messenger Bundle']\",\n",
       "       \"['Meet Lite', 'Meet Max']\",\n",
       "       \"['PeoTPackage Transfer', 'TSTV', 'Video on Demand']\",\n",
       "       \"['BB PeoTVGO', 'BB Personal Storage', 'Hotline Service', 'Meet Lite', 'Meet Max']\",\n",
       "       \"['E channeling Registration', 'Plus1 TeleLife', 'Basic1 TeleLife', 'BB Personal Storage', 'BB PeoTVGO']\",\n",
       "       \"['BB PeoTVGO', 'Single VAS Bundle', 'IDD', 'BB Personal Storage']\",\n",
       "       \"['BB Personal Storage', 'Sisu Connect', 'BB PeoTVGO', 'Meet Max']\",\n",
       "       \"['BB Personal Storage', 'Plus1 TeleLife', 'Telehealth', 'BB PeoTVGO']\",\n",
       "       \"['BB PeoTVGO', 'IDD']\", \"['BB PeoTVGO', 'Meet Max']\",\n",
       "       \"['BB PeoTVGO', 'BB Personal Storage', 'AB Service Vacation']\",\n",
       "       \"['BB PeoTVGO', 'PEO TV GO OTT A la carte channels']\",\n",
       "       \"['BB PeoTVGO', 'BB Personal Storage', 'PEO TV GO OTT A la carte channels', 'Meet Lite']\",\n",
       "       \"['BB Detailed Reports ', 'BB PeoTVGO', 'BB Personal Storage', 'BB Entertainment Unlimited', 'BB Report Subscription Charge']\",\n",
       "       \"['BB YouTube Bundle', 'Meet Lite']\",\n",
       "       \"['E channeling Subscription', 'E channeling Registration']\",\n",
       "       \"['BB Messenger Bundle']\",\n",
       "       \"['BB PeoTVGO', 'Hotline Time Delayed', 'Hotline Service', 'Meet Lite']\",\n",
       "       \"['TSTV', 'Video on Demand', 'Call park']\",\n",
       "       \"['BB PeoTVGO', 'Meet Lite', 'BB Personal Storage']\",\n",
       "       \"['BB Detailed Reports ', 'AB Rental Free', 'Hotline Immediate', 'Hotline Time Delayed', 'Hotline Service', 'BB PeoTVGO', 'BB Entertainment Unlimited', 'BB YouTube Bundle', 'BB Personal Storage', 'BB Report Subscription Charge', 'Meet Lite']\",\n",
       "       \"['BB PeoTVGO', 'Telehealth', 'Plus1 TeleLife']\",\n",
       "       \"['BB YouTube Bundle']\",\n",
       "       \"['Plus1 TeleLife', 'Basic1 TeleLife', 'BB Personal Storage', 'BB PeoTVGO']\",\n",
       "       \"['Sisu Connect', 'BB Detailed Reports ', 'BB PeoTVGO', 'BB Personal Storage', 'BB Report Subscription Charge']\",\n",
       "       \"['BB PeoTVGO', 'BB Detailed Reports ', 'BB Report Subscription Charge', 'BB Personal Storage']\",\n",
       "       \"['BB Personal Storage', 'BB PeoTVGO', 'BB Messenger Bundle', 'BB YouTube Bundle', 'BB Report Subscription Charge']\",\n",
       "       \"['BB PeoTVGO', 'Hotline Service', 'Hotline Time Delayed']\",\n",
       "       \"['BB PeoTVGO', 'BB Detailed Reports ', 'BB Personal Storage', 'BB Report Subscription Charge']\",\n",
       "       \"['BB SLT Film Hall Service', 'BB PeoTVGO', 'Plus1 TeleLife', 'BB Personal Storage', 'Package Rental Through ADSL', 'Meet Lite']\",\n",
       "       \"['BB Detailed Reports ', 'BB Personal Storage']\",\n",
       "       \"['BB PeoTVGO', 'Hotline Service', 'Hotline Time Delayed', 'Telehealth']\",\n",
       "       \"['Hotline Service', 'Hotline Time Delayed', 'Hotline Immediate']\",\n",
       "       \"['BB Personal Storage', 'BB Detailed Reports ', 'PEO TV GO OTT A la carte channels', 'BB PeoTVGO', 'Meet Lite', 'BB Report Subscription Charge']\",\n",
       "       \"['E channeling Registration', 'Plus1 TeleLife']\",\n",
       "       \"['Basic1 TeleLife', 'BB Personal Storage', 'BB PeoTVGO', 'PEO TV GO OTT A la carte channels']\",\n",
       "       \"['BB Personal Storage', 'BB PeoTVGO', 'PEO TV GO OTT A la carte channels', 'Meet Lite', 'Meet Max']\",\n",
       "       \"['Edu Lite', 'Meet Lite']\",\n",
       "       \"['E channeling Registration', 'E channeling Subscription', 'BB PeoTVGO', 'BB Personal Storage', 'Meet Lite']\",\n",
       "       \"['Telehealth', 'BB Personal Storage', 'Hotline Service']\",\n",
       "       \"['BB PeoTVGO', 'Short Message Service', 'Hotline Immediate', 'Hotline Service', 'Hotline Time Delayed', 'Telehealth']\",\n",
       "       \"['Basic1 TeleLife', 'IDD', 'BB Personal Storage', 'Meet Lite']\",\n",
       "       \"['TSTV', 'IDD', 'Video on Demand', 'Hotline Service', 'Short Message Service', 'Hotline Time Delayed', 'Hotline Immediate', 'Call park']\",\n",
       "       \"['Selective call rejection', 'Call park', 'Selective call waiting', 'Password call barring (secret code)', 'Selective call acceptance', 'Secretary service', 'Meet Lite']\",\n",
       "       \"['BB PeoTVGO', 'Sisu Connect', 'Video on Demand', 'TSTV', 'BB Personal Storage', 'Meet Lite']\",\n",
       "       \"['BB Personal Storage', 'Sisu Connect', 'BB PeoTVGO']\",\n",
       "       \"['BB PeoTVGO', 'BB Personal Storage', 'E channeling Registration']\",\n",
       "       \"['Sisu Connect', 'BB Personal Storage']\",\n",
       "       \"['IDD', 'Hotline Service']\",\n",
       "       \"['BB PeoTVGO', 'BB Detailed Reports ', 'Meet Lite']\",\n",
       "       \"['BB Personal Storage', 'BB PeoTVGO', 'TSTV', 'Video on Demand']\",\n",
       "       \"['Basic2 TeleLife']\",\n",
       "       \"['BB Personal Storage', 'BB PeoTVGO', 'Video on Demand', 'TSTV', 'Meet Lite']\",\n",
       "       \"['Plus1 TeleLife', 'BB Personal Storage', 'BB SLT Film Hall Service', 'Basic1 TeleLife', 'BB PeoTVGO', 'Package Rental Through ADSL', 'Meet Lite']\",\n",
       "       \"['Basic1 TeleLife', 'Video on Demand', 'TSTV']\",\n",
       "       \"['E channeling Registration', 'BB PeoTVGO']\",\n",
       "       \"['BB Personal Storage', 'Basic1 TeleLife']\",\n",
       "       \"['Selective call waiting', 'Selective call acceptance', 'Password call barring (secret code)', 'Secretary service', 'Call park', 'Selective call rejection', 'BB Personal Storage']\",\n",
       "       \"['BB PeoTVGO', 'BB Personal Storage', 'BB Messenger Bundle', 'BB YouTube Bundle']\",\n",
       "       \"['Plus1 TeleLife', 'BB Personal Storage', 'Basic1 TeleLife', 'BB PeoTVGO', 'Meet Lite']\",\n",
       "       \"['BB Personal Storage', 'Hotline Service']\",\n",
       "       \"['AB Additional Distance', 'BB Detailed Reports ', 'BB Personal Storage', 'BB PeoTVGO', 'BB Report Subscription Charge']\",\n",
       "       \"['BB Personal Storage', 'Plus1 TeleLife', 'Basic1 TeleLife', 'BB PeoTVGO']\",\n",
       "       \"['Basic1 TeleLife', 'BB Personal Storage', 'Hotline Service', 'Hotline Time Delayed']\",\n",
       "       \"['BB PeoTVGO', 'BB Personal Storage', 'TSTV', 'Video on Demand']\",\n",
       "       \"['BB Detailed Reports ', 'BB PeoTVGO', 'BB Personal Storage', 'BB Report Subscription Charge']\",\n",
       "       \"['BB PeoTVGO', 'BB Detailed Reports ', 'BB Personal Storage', 'BB Report Subscription Charge', 'Meet Max', 'Meet Lite']\",\n",
       "       \"['IDD', 'Single VAS Bundle', 'BB Personal Storage', 'BB PeoTVGO']\",\n",
       "       \"['BB PeoTVGO', 'IDD', 'Double VAS Bundle', 'Call park']\",\n",
       "       \"['BB PeoTVGO', 'BB Personal Storage', 'Meet Max', 'Meet Lite']\",\n",
       "       \"['BB PeoTVGO', 'Video on Demand', 'TSTV']\",\n",
       "       \"['BB PeoTVGO', 'BB Personal Storage', 'Call park', 'PEO TV GO OTT A la carte channels']\",\n",
       "       \"['BB Personal Storage', 'BB PeoTVGO', 'Telehealth', 'Hotline Immediate', 'Hotline Time Delayed', 'Hotline Service', 'Basic1 TeleLife']\",\n",
       "       \"['BB Personal Storage', 'Call park']\",\n",
       "       \"['Telehealth', 'E channeling Registration', 'Basic1 TeleLife', 'Cordeless Phone  Installment', 'BB Personal Storage']\",\n",
       "       \"['BB Personal Storage', 'BB PeoTVGO', 'Call park']\",\n",
       "       \"['Telehealth', 'BB Personal Storage', 'BB PeoTVGO', 'Plus1 TeleLife']\",\n",
       "       \"['Call park', 'BB PeoTVGO']\",\n",
       "       \"['BB PeoTVGO', 'IDD', 'BB Personal Storage', 'Hotline Service', 'BB YouTube Bundle', 'Meet Lite']\",\n",
       "       \"['BB Personal Storage', 'BB PeoTVGO', 'AB Service Vacation']\",\n",
       "       \"['BB PeoTVGO', 'Basic1 TeleLife', 'BB Personal Storage', 'Meet Lite']\",\n",
       "       \"['BB PeoTVGO', 'Meet Max', 'Meet Lite', 'BB Personal Storage']\",\n",
       "       \"['Plus1 TeleLife', 'Basic1 TeleLife', 'E channeling Registration']\",\n",
       "       \"['Sisu Connect', 'BB Personal Storage', 'BB PeoTVGO', 'Meet Max']\",\n",
       "       \"['Sisu Connect', 'Basic1 TeleLife']\",\n",
       "       \"['BB Personal Storage', 'AB Service Vacation']\",\n",
       "       \"['Basic1 TeleLife', 'Sisu Connect']\",\n",
       "       \"['Sisu Connect', 'BB Personal Storage', 'BB PeoTVGO', 'Meet Lite']\",\n",
       "       \"['BB PeoTVGO', 'BB Report Subscription Charge']\",\n",
       "       \"['Plus1 TeleLife', 'TSTV', 'Video on Demand', 'Meet Lite', 'BB Personal Storage']\",\n",
       "       \"['BB Detailed Reports ', 'BB Report Subscription Charge', 'Meet Lite']\",\n",
       "       \"['BB Personal Storage', 'Plus1 TeleLife', 'Telehealth', 'BB PeoTVGO', 'Meet Lite']\",\n",
       "       \"['BB Personal Storage', 'Cordeless Phone  Installment', 'Hotline Service', 'Hotline Immediate', 'Hotline Time Delayed', 'Telehealth']\",\n",
       "       \"['Video on Demand', 'Call park']\",\n",
       "       \"['BB Personal Storage', 'BB PeoTVGO', 'Telehealth']\",\n",
       "       \"['BB Personal Storage', 'BB PeoTVGO', 'Call park', 'Meet Lite']\",\n",
       "       \"['Basic1 TeleLife', 'BB Personal Storage', 'BB PeoTVGO', 'BB YouTube Bundle']\",\n",
       "       \"['Plus1 TeleLife', 'BB PeoTVGO', 'Basic1 TeleLife', 'Cordeless Phone  Installment', 'BB Personal Storage', 'Meet Lite']\",\n",
       "       \"['BB PeoTVGO', 'TSTV', 'Video on Demand', 'BB Personal Storage', 'Meet Lite']\",\n",
       "       \"['Plus4 TeleLife', 'Basic1 TeleLife']\",\n",
       "       \"['BB PeoTVGO', 'TSTV', 'Video on Demand', 'BB Personal Storage']\",\n",
       "       \"['BB Personal Storage', 'Basic1 TeleLife', 'BB PeoTVGO', 'Hotline Service', 'Hotline Immediate', 'Hotline Time Delayed', 'Meet Lite']\",\n",
       "       \"['BB PeoTVGO', 'Installment']\",\n",
       "       \"['Basic1 TeleLife', 'Plus1 TeleLife', 'Sisu Connect']\",\n",
       "       \"['BB PeoTVGO', 'BB Personal Storage', 'Railway Registration', 'IDD']\",\n",
       "       \"['Single VAS Bundle', 'IDD', 'BB Personal Storage']\",\n",
       "       \"['BB PeoTVGO', 'BB Personal Storage', 'BB YouTube Bundle', 'Meet Lite']\",\n",
       "       \"['Plus1 TeleLife', 'BB Personal Storage', 'BB PeoTVGO', 'Hotline Time Delayed', 'Hotline Service']\",\n",
       "       \"['IDD', 'Plus1 TeleLife', 'Video on Demand', 'TSTV']\",\n",
       "       \"['BB PeoTVGO', 'BB Personal Storage', 'Meet Lite', 'Meet Max']\",\n",
       "       \"['Basic1 TeleLife', 'Telehealth', 'Plus1 TeleLife']\",\n",
       "       \"['Basic1 TeleLife', 'AB Service Vacation']\",\n",
       "       \"['BB PeoTVGO', 'BB Personal Storage', 'Installment']\",\n",
       "       \"['BB PeoTVGO', 'OTT SLT PeoTV Go', 'PEO TV GO OTT A la carte channels', 'BB PeoTVGO Revenue code', 'PeoTVGo Channel Package']\",\n",
       "       \"['Video on Demand', 'TSTV', 'BB PeoTVGO']\",\n",
       "       \"['BB PeoTVGO', 'BB Personal Storage', 'Video on Demand', 'TSTV', 'Meet Lite']\",\n",
       "       \"['PEO TV GO OTT A la carte channels', 'TSTV', 'Video on Demand']\",\n",
       "       \"['Basic1 TeleLife', 'BB Personal Storage', 'Hotline Time Delayed', 'Hotline Service']\",\n",
       "       \"['BB Personal Storage', 'BB PeoTVGO', 'Meet Max']\",\n",
       "       \"['BB Personal Storage', 'BB PeoTVGO', 'Plus1 TeleLife']\",\n",
       "       \"['Basic1 TeleLife', 'BB PeoTVGO', 'Plus1 TeleLife', 'BB Personal Storage']\",\n",
       "       \"['Basic1 TeleLife', 'Hotline Service']\",\n",
       "       \"['Telehealth', 'Plus1 TeleLife']\",\n",
       "       \"['Basic1 TeleLife', 'BB Personal Storage', 'BB PeoTVGO', 'Meet Max']\",\n",
       "       \"['BB PeoTVGO', 'Sisu Connect']\",\n",
       "       \"['BB PeoTVGO', 'Plus1 TeleLife', 'Basic1 TeleLife', 'BB Personal Storage']\",\n",
       "       \"['BB Personal Storage', 'BB PeoTVGO', 'Installment']\",\n",
       "       \"['Selective call waiting', 'Selective call rejection', 'Call park', 'Password call barring (secret code)', 'Secretary service', 'Selective call acceptance']\",\n",
       "       \"['Basic1 TeleLife', 'Hotline Service', 'AB Service Vacation', 'Hotline Immediate', 'Hotline Time Delayed', 'Call park']\",\n",
       "       \"['BB PeoTVGO', 'BB Personal Storage', 'Hotline Service', 'Hotline Time Delayed', 'BB YouTube Bundle', 'Meet Lite']\",\n",
       "       \"['E channeling Registration', 'BB Personal Storage']\",\n",
       "       \"['Sisu Connect', 'Meet Lite']\",\n",
       "       \"['Basic4 TeleLife', 'BB PeoTVGO']\",\n",
       "       \"['BB YouTube Bundle', 'BB Messenger Bundle']\",\n",
       "       \"['BB PeoTVGO', 'Telehealth', 'Basic1 TeleLife']\",\n",
       "       \"['BB Personal Storage', 'Telehealth', 'BB PeoTVGO', 'BB YouTube Bundle', 'Basic1 TeleLife']\",\n",
       "       \"['E channeling Registration', 'E channeling Subscription', 'Edu Lite', 'Meet Lite']\",\n",
       "       \"['Basic1 TeleLife', 'BB PeoTVGO', 'Telehealth', 'BB Personal Storage']\",\n",
       "       \"['BB Personal Storage', 'BB Entertainment Unlimited', 'Meet Lite']\",\n",
       "       \"['BB Personal Storage', 'BB PeoTVGO', 'BB Detailed Reports ']\",\n",
       "       \"['BB Personal Storage', 'Telehealth', 'Plus1 TeleLife', 'BB PeoTVGO', 'Basic1 TeleLife', 'Hotline Immediate', 'Hotline Time Delayed', 'Hotline Service']\",\n",
       "       \"['BB PeoTVGO', 'IDD', 'Meet Lite']\", \"['Plus4 TeleLife']\",\n",
       "       \"['Basic1 TeleLife', 'Hotline Immediate', 'Hotline Service', 'Short Message Service', 'Hotline Time Delayed']\",\n",
       "       \"['Sisu Connect', 'BB PeoTVGO', 'BB Personal Storage', 'Edu Lite', 'Meet Lite']\",\n",
       "       \"['BB Personal Storage', 'BB PeoTVGO', 'Meet Lite', 'BB Entertainment Unlimited']\",\n",
       "       \"['Call park', 'TSTV', 'Video on Demand']\",\n",
       "       \"['AB Referral offer Discount', 'AB Service Vacation']\",\n",
       "       \"['BB PeoTVGO', 'BB Personal Storage', 'OTT SLT PeoTV Go', 'PeoTVGo Channel Package']\",\n",
       "       \"['Basic1 TeleLife', 'Telehealth', 'BB Personal Storage', 'BB PeoTVGO', 'Plus1 TeleLife', 'PEO TV GO OTT A la carte channels']\",\n",
       "       \"['BB Personal Storage', 'BB PeoTVGO', 'Cordeless Phone  Installment', 'Basic1 TeleLife', 'Hotline Service', 'Telehealth']\",\n",
       "       \"['Basic1 TeleLife', 'Sisu Connect', 'BB Personal Storage']\",\n",
       "       \"['AB Citylink Loyalty Rewards', 'Single VAS Bundle']\",\n",
       "       \"['BB Personal Storage', 'BB PeoTVGO', 'TSTV', 'Video on Demand', 'Hotline Service', 'Hotline Time Delayed', 'Hotline Immediate']\",\n",
       "       \"['Plus1 TeleLife', 'PeoTPackage Transfer', 'Video on Demand', 'TSTV']\",\n",
       "       \"['Plus1 TeleLife', 'E channeling Registration']\",\n",
       "       \"['Sisu Connect', 'Telehealth', 'Plus1 TeleLife', 'Meet Lite']\",\n",
       "       \"['BB PeoTVGO', 'Basic Phone Installment', 'BB Personal Storage', 'Meet Lite']\",\n",
       "       \"['BB Personal Storage', 'Installment']\",\n",
       "       \"['BB Personal Storage', 'Hotline Immediate', 'Hotline Service', 'Hotline Time Delayed']\",\n",
       "       \"['Additional features Double VAS Bundle', 'Double VAS Bundle', 'IDD', 'Call park', 'BB PeoTVGO']\",\n",
       "       \"['Cordeless Phone  Installment']\",\n",
       "       \"['Basic1 TeleLife', 'Plus1 TeleLife', 'BB Personal Storage', 'BB PeoTVGO']\",\n",
       "       \"['BB PeoTVGO', 'BB Personal Storage', 'Referral offer Discount', 'AB Referral offer Discount', 'Meet Lite', 'Meet Max']\",\n",
       "       \"['BB Personal Storage', 'BB PeoTVGO', 'Cordeless Phone  Installment']\",\n",
       "       \"['BB Personal Storage', 'PEO TV GO OTT A la carte channels']\",\n",
       "       \"['BB PeoTVGO', 'BB Personal Storage', 'Telehealth']\",\n",
       "       \"['Plus1 TeleLife', 'BB Personal Storage', 'TSTV', 'Video on Demand', 'BB PeoTVGO']\",\n",
       "       \"['BB YouTube Bundle', 'BB Messenger Bundle', 'Meet Lite']\",\n",
       "       \"['BB Personal Storage', 'BB PeoTVGO', 'Plus1 TeleLife', 'BB YouTube Bundle', 'BB Entertainment Unlimited']\",\n",
       "       \"['Plus1 TeleLife', 'BB PeoTVGO', 'Meet Lite']\",\n",
       "       \"['Telehealth', 'BB YouTube Bundle', 'Meet Lite']\",\n",
       "       \"['BB Personal Storage', 'IDD', 'BB PeoTVGO']\",\n",
       "       \"['BB PeoTVGO', 'PEO TV GO OTT A la carte channels', 'Meet Lite']\",\n",
       "       \"['Basic1 TeleLife', 'Call park']\", \"['Hotline Service']\",\n",
       "       \"['Telehealth', 'Sisu Connect']\",\n",
       "       \"['E channeling Registration', 'E channeling Subscription', 'Telehealth']\",\n",
       "       \"['Referral offer Discount', 'AB Referral offer Discount']\",\n",
       "       \"['Sisu Connect', 'BB PeoTVGO']\",\n",
       "       \"['BB PeoTVGO', 'E channeling Registration', 'E channeling Subscription', 'BB Personal Storage']\",\n",
       "       \"['Basic1 TeleLife', 'E channeling Subscription', 'E channeling Registration']\",\n",
       "       \"['BB Personal Storage', 'BB PeoTVGO', 'Basic1 TeleLife', 'Meet Lite', 'Meet Max']\",\n",
       "       \"['BB Detailed Reports ', 'BB Personal Storage', 'BB PeoTVGO', 'BB Report Subscription Charge']\",\n",
       "       \"['BB Personal Storage', 'Sisu Connect', 'Plus4 TeleLife', 'BB PeoTVGO', 'BB Report Subscription Charge']\",\n",
       "       \"['Basic1 TeleLife', 'E channeling Registration', 'BB Personal Storage', 'BB SLT Film Hall Service', 'Call park', 'BB Detailed Reports ', 'BB PeoTVGO', 'Meet Lite']\",\n",
       "       \"['BB Personal Storage', 'BB SLT Film Hall Service', 'BB PeoTVGO', 'Package Rental Through ADSL']\",\n",
       "       \"['Cordeless Phone  Installment', 'BB Personal Storage']\",\n",
       "       \"['BB PeoTVGO', 'IDD', 'BB Personal Storage']\",\n",
       "       \"['Telehealth', 'Hotline Service']\",\n",
       "       \"['BB PeoTVGO', 'BB Personal Storage', 'PEO TV GO OTT A la carte channels', 'BB Report Subscription Charge']\",\n",
       "       \"['E channeling Registration', 'BB PeoTVGO', 'BB Personal Storage']\",\n",
       "       \"['BB Personal Storage', 'BB PeoTVGO', 'Hotline Time Delayed', 'Hotline Service', 'Meet Lite']\",\n",
       "       \"['BB Personal Storage', 'BB PeoTVGO', 'BB Entertainment Unlimited', 'Meet Lite']\",\n",
       "       \"['Basic1 TeleLife', 'Hotline Time Delayed', 'Hotline Service', 'Hotline Immediate', 'BB PeoTVGO', 'Meet Lite']\",\n",
       "       \"['BB Personal Storage', 'BB PeoTVGO', 'Basic Phone Installment']\",\n",
       "       \"['Miscellaneous Service', 'IDD', 'Single VAS Bundle']\",\n",
       "       \"['BB Personal Storage', 'E channeling Registration', 'Sisu Connect', 'BB PeoTVGO']\",\n",
       "       \"['BB Personal Storage', 'BB PeoTVGO', 'Basic1 TeleLife', 'Call park', 'Meet Lite']\",\n",
       "       \"['Double VAS Bundle', 'AB Citylink Loyalty Rewards', 'IDD', 'Call park', 'BB PeoTVGO', 'BB Personal Storage']\",\n",
       "       \"['BB Personal Storage', 'Single VAS Bundle', 'IDD']\",\n",
       "       \"['One Time Detailed Bill', 'Removal of Int & Parallel Ext', 'IDD']\",\n",
       "       \"['BB PeoTVGO', 'BB Personal Storage', 'E channeling Registration', 'Hotline Time Delayed', 'Hotline Service', 'Hotline Immediate']\",\n",
       "       \"['BB PeoTVGO', 'BB Personal Storage', 'E channeling Registration', 'Meet Lite']\",\n",
       "       \"['Video on Demand', 'TSTV', 'PeoTPackage Transfer']\",\n",
       "       \"['Basic1 TeleLife', 'BB PeoTVGO', 'Meet Lite']\",\n",
       "       \"['E channeling Subscription', 'E channeling Registration', 'Call park']\",\n",
       "       \"['Video on Demand', 'TSTV', 'Meet Lite']\",\n",
       "       \"['BB PeoTVGO', 'BB Messenger Bundle', 'BB YouTube Bundle', 'Meet Lite']\",\n",
       "       \"['BB Personal Storage', 'Cordeless Phone  Installment']\",\n",
       "       \"['BB Detailed Reports ', 'BB PeoTVGO', 'BB PeoTVGO Revenue code', 'BB Personal Storage', 'BB Report Subscription Charge']\",\n",
       "       \"['Basic1 TeleLife', 'BB PeoTVGO', 'Plus1 TeleLife', 'BB Personal Storage', 'Meet Lite']\",\n",
       "       \"['Basic1 TeleLife', 'BB Personal Storage', 'Sisu Connect', 'BB PeoTVGO', 'Meet Lite']\",\n",
       "       \"['Sisu Connect', 'Basic Phone Installment']\",\n",
       "       \"['Single VAS Bundle', 'IDD']\",\n",
       "       \"['Basic1 TeleLife', 'Plus1 TeleLife', 'BB PeoTVGO', 'Basic2 TeleLife', 'BB Personal Storage']\",\n",
       "       \"['BB PeoTVGO', 'BB SLT Film Hall Service', 'Package Rental Through ADSL', 'Meet Lite']\",\n",
       "       \"['Plus1 TeleLife', 'BB Personal Storage', 'Video on Demand', 'TSTV']\",\n",
       "       \"['Sisu Connect', 'Plus1 TeleLife']\",\n",
       "       \"['BB Personal Storage', 'Plus1 TeleLife', 'BB Detailed Reports ', 'BB PeoTVGO', 'PEO TV GO OTT A la carte channels', 'BB Report Subscription Charge']\",\n",
       "       \"['BB PeoTVGO', 'BB Personal Storage', 'AB Referral offer Discount', 'Referral offer Discount', 'Meet Lite']\",\n",
       "       \"['Hotline Service', 'Hotline Time Delayed']\",\n",
       "       \"['BB Personal Storage', 'BB PeoTVGO', 'Installment', 'Meet Max', 'Meet Lite']\",\n",
       "       \"['Plus1 TeleLife', 'BB Messenger Bundle', 'Meet Lite']\",\n",
       "       \"['Basic1 TeleLife', 'Plus1 TeleLife', 'BB Personal Storage']\",\n",
       "       \"['E channeling Registration', 'BB Personal Storage', 'BB PeoTVGO', 'Meet Lite']\",\n",
       "       \"['BB Personal Storage', 'BB PeoTVGO', 'BB Messenger Bundle', 'Meet Lite']\",\n",
       "       \"['BB PeoTVGO', 'Meet Lite', 'Meet Max']\",\n",
       "       \"['Plus1 TeleLife', 'Meet Max']\", \"['Single VAS Bundle']\",\n",
       "       \"['BB PeoTVGO', 'BB Personal Storage', 'PEO TV GO OTT A la carte channels', 'BB YouTube Bundle', 'Meet Lite']\",\n",
       "       \"['AB Additional Distance', 'Meet Lite']\",\n",
       "       \"['BB Personal Storage', 'Meet Lite', 'BB PeoTVGO']\",\n",
       "       \"['BB Personal Storage', 'BB PeoTVGO', 'Video on Demand', 'TSTV', 'BB Entertainment Unlimited', 'BB Report Subscription Charge']\",\n",
       "       \"['Plus1 TeleLife', 'Sisu Connect']\",\n",
       "       \"['Basic1 TeleLife', 'BB Personal Storage', 'BB PeoTVGO', 'OTT SLT PeoTV Go', 'PeoTVGo Channel Package', 'PEO TV GO OTT A la carte channels', 'Meet Lite']\",\n",
       "       \"['Plus1 TeleLife', 'Basic1 TeleLife', 'Telehealth']\",\n",
       "       \"['BB Personal Storage', 'BB PeoTVGO', 'Plus1 TeleLife', 'Telehealth']\",\n",
       "       \"['BB Personal Storage', 'BB PeoTVGO', 'IDD', 'Single VAS Bundle']\",\n",
       "       \"['BB Personal Storage', 'Hotline Immediate', 'Hotline Service', 'Hotline Time Delayed', 'Meet Max']\",\n",
       "       \"['BB PeoTVGO', 'BB SLT Film Hall Service', 'Package Rental Through ADSL']\",\n",
       "       \"['BB Personal Storage', 'BB PeoTVGO', 'Referral offer Discount', 'AB Referral offer Discount', 'Meet Lite']\",\n",
       "       \"['BB Personal Storage', 'BB PeoTVGO', 'BB Detailed Reports ', 'BB Entertainment Unlimited', 'BB YouTube Bundle', 'Meet Lite', 'Meet Max']\",\n",
       "       \"['BB Personal Storage', 'BB PeoTVGO', 'BB Detailed Reports ', 'Video on Demand', 'TSTV', 'BB Report Subscription Charge']\",\n",
       "       \"['Plus1 TeleLife', 'BB PeoTVGO', 'BB Personal Storage', 'Basic1 TeleLife', 'Telehealth']\",\n",
       "       \"['BB Detailed Reports ', 'BB PeoTVGO', 'BB Report Subscription Charge', 'BB Personal Storage']\"],\n",
       "      dtype=object)"
      ]
     },
     "execution_count": 1123,
     "metadata": {},
     "output_type": "execute_result"
    }
   ],
   "source": [
    "usage_df[\"VAS_Package\"].unique()"
   ]
  },
  {
   "cell_type": "code",
   "execution_count": 1124,
   "metadata": {},
   "outputs": [
    {
     "data": {
      "text/plain": [
       "array([\"['AB Copper Access Bearer']\",\n",
       "       \"['SLT PeoTV Service', 'AB Megaline', 'AB Copper Access Bearer', 'BB SLT BroadBand Service', 'AB WireLess Access']\",\n",
       "       \"['BB SLT BroadBand Service', 'AB Copper Access Bearer']\",\n",
       "       \"['AB Copper Access Bearer', 'SLT PeoTV Service']\",\n",
       "       \"['SLT PeoTV Service', 'AB Copper Access Bearer', 'BB SLT BroadBand Service']\",\n",
       "       \"['BB SLT BroadBand Service', 'AB Copper Access Bearer', 'SLT PeoTV Service']\",\n",
       "       \"['AB Copper Access Bearer', 'SLT PeoTV Service', 'BB SLT BroadBand Service']\",\n",
       "       \"['SLT PeoTV Service', 'AB Copper Access Bearer']\",\n",
       "       \"['AB Copper Access Bearer', 'BB SLT BroadBand Service']\",\n",
       "       \"['BB SLT BroadBand Service']\",\n",
       "       \"['SLT PeoTV Service', 'BB SLT BroadBand Service', 'AB Copper Access Bearer']\",\n",
       "       nan, \"['SLT PeoTV Service', 'BB SLT BroadBand Service']\",\n",
       "       \"['SLT PeoTV Service']\",\n",
       "       \"['BB SLT BroadBand Service', 'SLT PeoTV Service']\",\n",
       "       \"['AB WireLess Access', 'BB SLT BroadBand Service', 'SLT PeoTV Service', 'AB Copper Access Bearer']\",\n",
       "       \"['AB Megaline', 'AB Copper Access Bearer']\",\n",
       "       \"['AB Megaline', 'AB Megaline Startup', 'AB Copper Access Bearer', 'BB SLT BroadBand Service']\",\n",
       "       \"['BB SLT BroadBand Service', 'SLT PeoTV Service', 'AB Copper Access Bearer']\",\n",
       "       \"['AB Copper Access Bearer', 'AB WireLess Access', 'BB SLT BroadBand Service']\",\n",
       "       \"['AB Megaline Startup', 'AB Megaline', 'AB Copper Access Bearer']\",\n",
       "       \"['AB Copper Access Bearer', 'BB SLT BroadBand Service', 'SLT PeoTV Service']\",\n",
       "       \"['AB WireLess Access', 'SLT PeoTV Service', 'AB Copper Access Bearer', 'BB SLT BroadBand Service']\",\n",
       "       \"['AB WireLess Access', 'AB Copper Access Bearer']\",\n",
       "       \"['SLT PeoTV Service', 'AB Megaline Startup', 'BB SLT BroadBand Service']\",\n",
       "       \"['AB Copper Access Bearer', 'BB SLT BroadBand Service', 'AB WireLess Access']\",\n",
       "       \"['Megaline', 'AB Megaline', 'AB Copper Access Bearer', 'BB SLT BroadBand Service']\",\n",
       "       \"['SLT PeoTV Service', 'AB WireLess Access', 'BB SLT BroadBand Service', 'AB Copper Access Bearer']\",\n",
       "       \"['AB Megaline', 'AB Megaline Startup', 'AB Copper Access Bearer']\",\n",
       "       \"['AB WireLess Access', 'SLT PeoTV Service', 'BB SLT BroadBand Service', 'AB Copper Access Bearer']\",\n",
       "       \"['SLT PeoTV Service', 'AB Copper Access Bearer', 'BB SLT BroadBand Service', 'AB WireLess Access']\",\n",
       "       \"['AB WireLess Access', 'AB Copper Access Bearer', 'SLT PeoTV Service', 'BB SLT BroadBand Service']\",\n",
       "       \"['AB Megaline', 'SLT PeoTV Service', 'AB Copper Access Bearer', 'BB SLT BroadBand Service', 'AB WireLess Access']\",\n",
       "       \"['SLT PeoTV Service', 'AB WireLess Access', 'AB Copper Access Bearer', 'BB SLT BroadBand Service']\",\n",
       "       \"['AB Copper Access Bearer', 'SLT PeoTV Service', 'AB WireLess Access', 'BB SLT BroadBand Service']\",\n",
       "       \"['AB Copper Access Bearer', 'AB WireLess Access', 'SLT PeoTV Service', 'BB SLT BroadBand Service']\",\n",
       "       \"['AB WireLess Access', 'BB SLT BroadBand Service', 'AB Copper Access Bearer']\",\n",
       "       \"['AB WireLess Access', 'AB Copper Access Bearer', 'BB SLT BroadBand Service']\",\n",
       "       \"['AB Megaline', 'BB SLT BroadBand Service', 'SLT PeoTV Service', 'AB Copper Access Bearer']\",\n",
       "       \"['BB SLT BroadBand Service', 'AB Megaline Startup', 'AB Copper Access Bearer', 'AB Megaline']\",\n",
       "       \"['SLT PeoTV Service', 'AB Copper Access Bearer', 'AB WireLess Access', 'BB SLT BroadBand Service']\",\n",
       "       \"['BB SLT BroadBand Service', 'AB Copper Access Bearer', 'AB Megaline']\",\n",
       "       \"['AB Megaline Startup', 'BB SLT BroadBand Service', 'SLT PeoTV Service', 'AB Copper Access Bearer']\",\n",
       "       \"['Megaline New Connection', 'Megaline', 'AB Megaline Startup', 'AB Megaline', 'AB Copper Access Bearer', 'BB SLT BroadBand Service']\",\n",
       "       \"['AB Copper Access Bearer', 'AB Megaline']\",\n",
       "       \"['AB Megaline', 'AB Copper Access Bearer', 'BB SLT BroadBand Service']\",\n",
       "       \"['BB SLT BroadBand Service', 'SLT PeoTV Service', 'AB Copper Access Bearer', 'AB Megaline', 'AB Megaline Startup']\"],\n",
       "      dtype=object)"
      ]
     },
     "execution_count": 1124,
     "metadata": {},
     "output_type": "execute_result"
    }
   ],
   "source": [
    "usage_df[\"Megaline_Package\"].unique()"
   ]
  },
  {
   "cell_type": "code",
   "execution_count": 1125,
   "metadata": {},
   "outputs": [
    {
     "data": {
      "text/plain": [
       "array([nan, \"['AB Fiber Access Bearer']\"], dtype=object)"
      ]
     },
     "execution_count": 1125,
     "metadata": {},
     "output_type": "execute_result"
    }
   ],
   "source": [
    "usage_df[\"FTTH_Package\"].unique()"
   ]
  },
  {
   "cell_type": "code",
   "execution_count": 1126,
   "metadata": {},
   "outputs": [
    {
     "data": {
      "text/plain": [
       "array([nan, 'PEO_ENTERTAINMENT', 'PEO_SILVER', 'PEO_UTHAYAM',\n",
       "       'PEO_SILVER_PLUS', 'PRANAMA', 'PEO_UNNATHAM',\n",
       "       'PEO_RELIGIOUS_PACKAGE', 'PEO_PLATINUM', 'NEW_SLT_STAFF_PACKAGE',\n",
       "       'PEO_TITANIUM', 'SLT_STAFF_TRIPLE_PLAY', 'NEW_YEAR_TREAT',\n",
       "       'SLTStaff_PEO_SILVER', 'PEO_SILVER_FTTH', 'PEO_GOLD',\n",
       "       'DOUBLEPROMO', 'LOTUS', 'SLT_STAFF_PEO_UNNATHAM_FTTH',\n",
       "       'PEO_FAMILY'], dtype=object)"
      ]
     },
     "execution_count": 1126,
     "metadata": {},
     "output_type": "execute_result"
    }
   ],
   "source": [
    "usage_df[\"Peo_TV_Package\"].unique()"
   ]
  },
  {
   "cell_type": "markdown",
   "metadata": {},
   "source": [
    "### Having an Insurance?"
   ]
  },
  {
   "cell_type": "code",
   "execution_count": 1130,
   "metadata": {},
   "outputs": [],
   "source": [
    "def having_insurance(vas):\n",
    "    insurrence_VAS = [\"Telehealth\",\"Basic4 TeleLife\",\"Plus4 TeleLife\",\"Plus1 TeleLife\",\"Basic1 TeleLife\",\"Basic2 TeleLife\"]\n",
    "    if not isinstance(vas,float):\n",
    "        for s in insurrence_VAS:\n",
    "            if s in vas:\n",
    "                return \"YES\""
   ]
  },
  {
   "cell_type": "code",
   "execution_count": 1131,
   "metadata": {},
   "outputs": [],
   "source": [
    "usage_df[\"Having_Insurance\"] = usage_df.apply(lambda x: having_insurance(x[\"VAS_Package\"]), axis=1)"
   ]
  },
  {
   "cell_type": "markdown",
   "metadata": {},
   "source": [
    "### Household types\n",
    "- Senior Citizen\n",
    "  - Age > 55 years (demographics)\n",
    "  - Peo_TV_Usage - High, Packages: PEO_RELIGIOUS_PACKAGE, PRANAMA\n",
    "  - Voice call usage - high (in country, europian country, australia,US, canada)\n",
    "  - Having Insurance: YES\n",
    "- Kids at Home\n",
    "  - Age > 30 years (assuming parents)\n",
    "  - Peo TV Usage - High, packages: PEO_FAMILY, DOUBLEPROMO, PEO_TITANIUM, PEO_GOLD\n",
    "  - Peo TV VAS: PeoTVGo_Channel Package (Extra Channels purchase)\n",
    "  - BB Usage: Medium/ High\n",
    "  - VAS - Sisu_Connect, Edu Lite\n",
    "- Student (High school/University), Teenagers\n",
    "  - Age < 27 (demographics)\n",
    "  - Peo TV Usage - Medium/High packages: PEO_SILVER_PLUS, PEO_SILVER_PLUS_FTTH, PEO_ENTERTAINMENT, PEO_TITANIUM, DOUBLEPROMO, LEISURE_SPORTS\n",
    "  - BB Usage - High **\n",
    "  - Extra GB Purchase (High)\n",
    "  - VAS - Meet Lite, Meet Max \n",
    "  - Peo TV VAS: E_Video_on_Demand\n",
    "  - BB_VAS:  BB_YouTube Bundle, BB_ Entertainment Unlimited,  BB_Messenger Bundle\n",
    "- Working Professional\n",
    "  - Age > 22, < 55 (demographics)\n",
    "  - Peo TV Usage - Medium/High packages: PEO_SILVER_PLUS, PEO_SILVER_PLUS_FTTH, PEO_FAMILY, SLT_STAFF_PEO_UNNATHAM_FTTH, SLT_STAFF_TRIPLE_PLAY, NEW_SLT_STAFF_PACKAGE, BOC\n",
    "  - BB Usage - High **\n",
    "  - Extra GB Purchase (all)\n",
    "  - VAS - Meet Lite, Meet Max, AB_Service Vacation, AB_Referral offer Discount, AB_Citylink Loyalty Rewards\n",
    "- Family Member Abroad\n",
    "  - IDD Usage : High\n",
    "  - IDD Calling Country : Europe/ UAE/ Australia/ Canada/ South and east Asia **\n",
    "- Race: Tamil\n",
    "   - Peo TV Usage - PEO_UNNATHAM, PEO_UTHAYAM, SLT_STAFF_PEO_UNNATHAM_FTTH\n",
    "- Abroad person: country/ countries"
   ]
  },
  {
   "cell_type": "code",
   "execution_count": null,
   "metadata": {},
   "outputs": [],
   "source": []
  },
  {
   "cell_type": "markdown",
   "metadata": {},
   "source": [
    "## Adding Socio Feature Cols"
   ]
  },
  {
   "cell_type": "code",
   "execution_count": 1134,
   "metadata": {},
   "outputs": [],
   "source": [
    "def make_categorical(val):\n",
    "    if val>=0.5:\n",
    "        return \"YES\""
   ]
  },
  {
   "cell_type": "markdown",
   "metadata": {},
   "source": [
    "#### Having a Senior Citizen"
   ]
  },
  {
   "cell_type": "code",
   "execution_count": 1135,
   "metadata": {},
   "outputs": [],
   "source": [
    "def senior_citizen(age, peo_tv_cat, peo_tv_package, voice_call_cat, having_insurrance):\n",
    "    prob = 0.0\n",
    "    peo_packages = [ \"PEO_RELIGIOUS_PACKAGE\", \"PRANAMA\"]\n",
    "    if age>= 55:\n",
    "        prob += 0.3\n",
    "    if peo_tv_cat == \"HIGH\":\n",
    "        if not isinstance(peo_tv_package, float):\n",
    "            for vas in peo_packages:\n",
    "                if vas in peo_tv_package:\n",
    "                    prob += 0.2\n",
    "    if voice_call_cat == \"MEDIUM\":\n",
    "        prob += 0.1\n",
    "    if voice_call_cat == \"HIGH\":\n",
    "        prob += 0.2\n",
    "    if having_insurrance == \"YES\":\n",
    "        prob += 0.5\n",
    "    return prob"
   ]
  },
  {
   "cell_type": "code",
   "execution_count": 1136,
   "metadata": {},
   "outputs": [
    {
     "data": {
      "text/plain": [
       "0.6"
      ]
     },
     "execution_count": 1136,
     "metadata": {},
     "output_type": "execute_result"
    }
   ],
   "source": [
    "# test\n",
    "senior_citizen(56,\"HIGH\",[\"PEO_RELIGIOUS_PACKAGE\"],\"MEDIUM\",None)"
   ]
  },
  {
   "cell_type": "code",
   "execution_count": 1137,
   "metadata": {},
   "outputs": [],
   "source": [
    "usage_df[\"Having_Senior_Citizen_Scaled\"] = usage_df.apply(lambda x: senior_citizen(x[\"AGE\"],x[\"PEO_TV_Categorical\"],x[\"Peo_TV_Package\"],x[\"VOICE_Categorical\"],x[\"Having_Insurance\"]), axis=1)"
   ]
  },
  {
   "cell_type": "code",
   "execution_count": 1138,
   "metadata": {},
   "outputs": [],
   "source": [
    "usage_df[\"Having_Senior_Citizen\"] = usage_df.apply(lambda x: make_categorical(x[\"Having_Senior_Citizen_Scaled\"]), axis=1)"
   ]
  },
  {
   "cell_type": "code",
   "execution_count": null,
   "metadata": {},
   "outputs": [],
   "source": []
  },
  {
   "cell_type": "markdown",
   "metadata": {},
   "source": [
    "#### Having Kids at Home"
   ]
  },
  {
   "cell_type": "code",
   "execution_count": 1141,
   "metadata": {},
   "outputs": [],
   "source": [
    "def kids_at_home(age, peo_tv_cat, peo_tv_package,bb_usage,vas):\n",
    "    prob = 0.0\n",
    "    peo_packages = [\"PEO_FAMILY\", \"DOUBLEPROMO\", \"PEO_TITANIUM\", \"PEO_GOLD\",\"PEO_FAMILY\"]\n",
    "    peo_vas = [\"PeoTVGo Channel Package\"]\n",
    "    all_vas = [\"Sisu Connect\", \"Edu Lite\"]\n",
    "    if age>= 30:\n",
    "        prob += 0.2\n",
    "    if peo_tv_cat == \"HIGH\":\n",
    "        prob += 0.25\n",
    "        if not isinstance(peo_tv_package, float):\n",
    "            for pack in peo_packages:\n",
    "                if pack in peo_tv_package:\n",
    "                    prob += 0.2\n",
    "        if not isinstance(vas, float):\n",
    "            for pack in peo_vas:\n",
    "                if pack in vas:\n",
    "                    prob += 0.2\n",
    "    if not isinstance(vas, float):\n",
    "        for pack in all_vas:\n",
    "            if pack in vas:\n",
    "                prob += 0.5\n",
    "    if bb_usage == \"MEDIUM\" or bb_usage == \"HIGH\":\n",
    "        prob += 0.1\n",
    "    return prob"
   ]
  },
  {
   "cell_type": "code",
   "execution_count": 1142,
   "metadata": {},
   "outputs": [],
   "source": [
    "usage_df[\"Having_Kids_at_Home_Scaled\"] = usage_df.apply(lambda x: kids_at_home(x[\"AGE\"],x[\"PEO_TV_Categorical\"],x[\"Peo_TV_Package\"],x[\"BB_Categorical\"],x[\"VAS_Package\"]), axis=1)"
   ]
  },
  {
   "cell_type": "code",
   "execution_count": 1143,
   "metadata": {},
   "outputs": [],
   "source": [
    "usage_df[\"Having_Kids_at_Home\"] = usage_df.apply(lambda x: make_categorical(x[\"Having_Kids_at_Home_Scaled\"]), axis=1)"
   ]
  },
  {
   "cell_type": "code",
   "execution_count": null,
   "metadata": {},
   "outputs": [],
   "source": []
  },
  {
   "cell_type": "markdown",
   "metadata": {},
   "source": [
    "#### Teenagers and Students (age 16-26)"
   ]
  },
  {
   "cell_type": "code",
   "execution_count": 1144,
   "metadata": {},
   "outputs": [],
   "source": [
    "def teenage_students(age, peo_tv_cat, peo_tv_package,bb_cat, extra_gb_cat, vas):\n",
    "    prob = 0.0\n",
    "    peo_packages = [ \"PEO_TITANIUM\", \"LEISURE_SPORTS\",\"PEO_ENTERTAINMENT\"]\n",
    "    peo_vas = [\"Video on Demand\"]\n",
    "    bb_vas = [\"BB YouTube Bundle\", \"BB Entertainment Unlimited\", \"BB Messenger Bundle\"]\n",
    "    all_vas = ['Meet Lite', 'Meet Max']\n",
    "    if age<= 26:\n",
    "        prob += 0.3\n",
    "    if peo_tv_cat == \"MEDIUM\":\n",
    "        prob += 0.1\n",
    "    if peo_tv_cat == \"HIGH\":\n",
    "        prob += 0.2\n",
    "    if peo_tv_cat == \"MEDIUM\" or peo_tv_cat == \"HIGH\":\n",
    "        if not isinstance(peo_tv_package, float):\n",
    "            for pack in peo_packages:\n",
    "                if pack in peo_tv_package:\n",
    "                    prob += 0.2\n",
    "        if not isinstance(vas, float):\n",
    "            for pack in peo_vas:\n",
    "                if pack in vas:\n",
    "                    prob += 0.2\n",
    "    if bb_cat == \"MEDIUM\":\n",
    "        prob += 0.1\n",
    "    if bb_cat == \"HIGH\":\n",
    "        prob += 0.3\n",
    "    if bb_cat == \"HIGH\" or bb_cat == \"MEDIUM\":\n",
    "        if not isinstance(vas, float):\n",
    "            for pack in bb_vas:\n",
    "                if pack in vas:\n",
    "                    prob += 0.2\n",
    "    if not isinstance(vas, float):\n",
    "        for pack in all_vas:\n",
    "            if pack in vas:\n",
    "                prob += 0.2\n",
    "    if extra_gb_cat == \"LOW\":\n",
    "        prob +=0.1\n",
    "    if extra_gb_cat == \"MEDIUM\" or extra_gb_cat == \"HIGH\":\n",
    "        prob += 0.3\n",
    "    return prob"
   ]
  },
  {
   "cell_type": "code",
   "execution_count": 1145,
   "metadata": {},
   "outputs": [],
   "source": [
    "usage_df[\"Having_Teenagers_Students_Scaled\"] = usage_df.apply(lambda x: teenage_students(x[\"AGE\"],x[\"PEO_TV_Categorical\"],x[\"Peo_TV_Package\"],x[\"BB_Categorical\"],x[\"BB_Extra_GB_Purchase_Categorical\"],x[\"VAS_Package\"]), axis=1)"
   ]
  },
  {
   "cell_type": "code",
   "execution_count": 1146,
   "metadata": {},
   "outputs": [],
   "source": [
    "usage_df[\"Having_Teenagers_Students\"] = usage_df.apply(lambda x: make_categorical(x[\"Having_Teenagers_Students_Scaled\"]), axis=1)"
   ]
  },
  {
   "cell_type": "code",
   "execution_count": null,
   "metadata": {},
   "outputs": [],
   "source": []
  },
  {
   "cell_type": "markdown",
   "metadata": {},
   "source": [
    "### Working Professionals"
   ]
  },
  {
   "cell_type": "code",
   "execution_count": 1147,
   "metadata": {},
   "outputs": [],
   "source": [
    "def working_professionals(age, peo_tv_cat, peo_tv_package, bb_cat, extra_gb_cat, vas):\n",
    "    prob = 0.0\n",
    "    peo_packages = [\"PEO_SILVER_PLUS\", \"PEO_FAMILY\",\"PEO_SILVER_PLUS_FTTH\", \"SLT_STAFF_PEO_UNNATHAM_FTTH\", \"SLT_STAFF_TRIPLE_PLAY\",\"NEW_SLT_STAFF_PACKAGE\",\"BOC\"]\n",
    "    bb_vas = [\"BB Personal Storage\"]\n",
    "    all_vas = ['Meet Lite', 'Meet Max','AB Referral offer Discount', 'AB Service Vacation','AB Citylink Loyalty Rewards']\n",
    "    if age> 21 and age<56:\n",
    "        prob += 0.2\n",
    "    if peo_tv_cat == \"MEDIUM\":\n",
    "        prob += 0.1\n",
    "    if peo_tv_cat == \"HIGH\":\n",
    "        prob += 0.1\n",
    "    if peo_tv_cat == \"MEDIUM\" or peo_tv_cat == \"HIGH\":\n",
    "        if not isinstance(peo_tv_package, float):\n",
    "            for pack in peo_packages:\n",
    "                if pack in peo_tv_package:\n",
    "                    prob += 0.2\n",
    "    if bb_cat == \"MEDIUM\":\n",
    "        prob += 0.1\n",
    "    if bb_cat == \"HIGH\":\n",
    "        prob += 0.3\n",
    "    if bb_cat == \"HIGH\" or bb_cat == \"MEDIUM\":\n",
    "        if not isinstance(vas, float):\n",
    "            for pack in bb_vas:\n",
    "                if pack in vas:\n",
    "                    prob += 0.2\n",
    "    if not isinstance(vas, float):\n",
    "        for pack in all_vas:\n",
    "            if pack in vas:\n",
    "                prob += 0.25\n",
    "    if extra_gb_cat == \"LOW\":\n",
    "        prob +=0.1\n",
    "    if extra_gb_cat == \"MEDIUM\" or extra_gb_cat == \"HIGH\":\n",
    "        prob += 0.3\n",
    "    return prob"
   ]
  },
  {
   "cell_type": "code",
   "execution_count": 1148,
   "metadata": {},
   "outputs": [],
   "source": [
    "usage_df[\"Having_Working_Professionals_Scaled\"] = usage_df.apply(lambda x: working_professionals(x[\"AGE\"],x[\"PEO_TV_Categorical\"],x[\"Peo_TV_Package\"],x[\"BB_Categorical\"],x[\"BB_Extra_GB_Purchase_Categorical\"],x[\"VAS_Package\"]), axis=1)"
   ]
  },
  {
   "cell_type": "code",
   "execution_count": 1149,
   "metadata": {},
   "outputs": [],
   "source": [
    "usage_df[\"Having_Working_Professionals\"] = usage_df.apply(lambda x: make_categorical(x[\"Having_Working_Professionals_Scaled\"]), axis=1)"
   ]
  },
  {
   "cell_type": "code",
   "execution_count": null,
   "metadata": {},
   "outputs": [],
   "source": []
  },
  {
   "cell_type": "markdown",
   "metadata": {},
   "source": [
    "### Family Member Abroad"
   ]
  },
  {
   "cell_type": "code",
   "execution_count": 1150,
   "metadata": {},
   "outputs": [],
   "source": [
    "def family_member_abroad(idd_cat, incoming_country, outgoing_country):\n",
    "    prob = 0.0\n",
    "    countries = [\"United Arab Emirates\", \"Australia - Mobile\",\"UK - Mobile\", \"New Zealand\", \"Hong Kong\",\"Maldive Islands\",\"Singapore\",\n",
    "                 \"India\",\"Saudi Arabia - Mobile\",\"Australia\",\"China - Mobile\",\"Maldive Islands\",\n",
    "                 \"Israel - Mobile\",\"Jordan - Mobile\",\"U.K.\",\"U.S.A\",\"France\",\"Italy - Mobile\",\"Malaysia - Mobile\",\"Bangladesh - Mobile\"\n",
    "                ,\"Germany\",\"Philippines - Mobile\",\"Italy\",\"Israel\",\"Saudi Arabia\",\"Pakistan - Mobile\",\"Pakistan\",\"Japan\",\"Kuwait -Mobile\"\n",
    "                ,\"Oman-Mobile \",\"France - Mobile\",\"Canada\",\"Japan - Mobile\",\"United Arab Emirates  - Mobile\",\"Bahrain - Mobile\",\"Bahrain\"\n",
    "                ,\"Cyprus - Mobile\",\"Cyprus\",\"Barbados\",\"Korea Republic Of\",\"Switzerland - Mobile\",\"Indonesia - Mobile\",\"Qatar - Mobile\"\n",
    "                ,\"Qatar\",\"Romania\",\"Germany - Mobile\",\"Belgium\",\"Netherlands\"]\n",
    "    if idd_cat == \"LOW\":\n",
    "        prob += 0.1\n",
    "    if idd_cat == \"MEDIUM\":\n",
    "        prob += 0.3\n",
    "    if idd_cat == \"HIGH\":\n",
    "        prob += 0.5\n",
    "    if not isinstance(idd_cat, float):\n",
    "        for country in countries:\n",
    "            if not isinstance(incoming_country, float) and country in incoming_country:\n",
    "                prob += 0.25\n",
    "            elif not isinstance(outgoing_country, float) and country in outgoing_country:\n",
    "                prob += 0.25\n",
    "    return prob"
   ]
  },
  {
   "cell_type": "code",
   "execution_count": 1151,
   "metadata": {},
   "outputs": [],
   "source": [
    "usage_df[\"Having_Family_Member_Abroad_Scaled\"] = usage_df.apply(lambda x: family_member_abroad(x[\"IDD_Overall_Categorical\"],x[\"IDD_incoming_country\"],x[\"IDD_outgoing_country\"]), axis=1)"
   ]
  },
  {
   "cell_type": "code",
   "execution_count": 1152,
   "metadata": {},
   "outputs": [],
   "source": [
    "usage_df[\"Having_Family_Member_Abroad\"] = usage_df.apply(lambda x: make_categorical(x[\"Having_Family_Member_Abroad_Scaled\"]), axis=1)"
   ]
  },
  {
   "cell_type": "markdown",
   "metadata": {},
   "source": [
    "### Race: Tamil"
   ]
  },
  {
   "cell_type": "code",
   "execution_count": 1153,
   "metadata": {},
   "outputs": [],
   "source": [
    "def tamil_check(peo_cat, peo_package):\n",
    "    packages = [\"PEO_UNNATHAM\", \"PEO_UTHAYAM\", \"SLT_STAFF_PEO_UNNATHAM_FTTH\"]\n",
    "    if not isinstance(peo_cat, float):\n",
    "        for pack in packages:\n",
    "            if not isinstance(peo_package, float) and pack in peo_package:\n",
    "                return \"YES\""
   ]
  },
  {
   "cell_type": "code",
   "execution_count": 1154,
   "metadata": {},
   "outputs": [],
   "source": [
    "usage_df[\"Tamil_Customer\"] = usage_df.apply(lambda x: tamil_check(x[\"PEO_TV_Categorical\"],x[\"Peo_TV_Package\"]), axis=1)"
   ]
  },
  {
   "cell_type": "code",
   "execution_count": null,
   "metadata": {},
   "outputs": [],
   "source": []
  },
  {
   "cell_type": "markdown",
   "metadata": {},
   "source": [
    "## Adding Social feature derivable assumption cols"
   ]
  },
  {
   "cell_type": "code",
   "execution_count": 1155,
   "metadata": {},
   "outputs": [],
   "source": [
    "def senior_citizen_peo_packages(peo_tv_cat,peo_tv_package):\n",
    "    prob = 0.0\n",
    "    peo_packages = [\"PEO_RELIGIOUS_PACKAGE\", \"PRANAMA\"]\n",
    "    if peo_tv_cat == \"HIGH\":\n",
    "        if not isinstance(peo_tv_package, float):\n",
    "            for vas in peo_packages:\n",
    "                if vas in peo_tv_package:\n",
    "                    prob += 0.2\n",
    "    return prob"
   ]
  },
  {
   "cell_type": "code",
   "execution_count": 1156,
   "metadata": {},
   "outputs": [],
   "source": [
    "usage_df[\"Peo_Packages_if_Senior_Citizen\"] = usage_df.apply(lambda x: senior_citizen_peo_packages(x[\"PEO_TV_Categorical\"],x[\"Peo_TV_Package\"]), axis=1)"
   ]
  },
  {
   "cell_type": "code",
   "execution_count": 1157,
   "metadata": {},
   "outputs": [],
   "source": [
    "def kids_peo_packages(peo_tv_cat,peo_tv_package):\n",
    "    prob = 0.0\n",
    "    peo_packages =  [\"PEO_FAMILY\", \"DOUBLEPROMO\", \"PEO_TITANIUM\", \"PEO_GOLD\",\"PEO_FAMILY\"]\n",
    "    if peo_tv_cat == \"HIGH\":\n",
    "        if not isinstance(peo_tv_package, float):\n",
    "            for vas in peo_packages:\n",
    "                if vas in peo_tv_package:\n",
    "                    prob += 0.2\n",
    "    return prob"
   ]
  },
  {
   "cell_type": "code",
   "execution_count": 1158,
   "metadata": {},
   "outputs": [],
   "source": [
    "usage_df[\"Peo_Packages_if_Kids\"] = usage_df.apply(lambda x: kids_peo_packages(x[\"PEO_TV_Categorical\"],x[\"Peo_TV_Package\"]), axis=1)"
   ]
  },
  {
   "cell_type": "code",
   "execution_count": 1159,
   "metadata": {},
   "outputs": [],
   "source": [
    "def teenager_student_peo_packages(peo_tv_cat,peo_tv_package):\n",
    "    prob = 0.0\n",
    "    peo_packages = [\"DOUBLEPROMO\", \"PEO_TITANIUM\", \"LEISURE_SPORTS\",\"PEO_ENTERTAINMENT\"]\n",
    "    if peo_tv_cat == \"MEDIUM\" or peo_tv_cat == \"HIGH\":\n",
    "        if not isinstance(peo_tv_package, float):\n",
    "            for vas in peo_packages:\n",
    "                if vas in peo_tv_package:\n",
    "                    prob += 0.2\n",
    "    return prob"
   ]
  },
  {
   "cell_type": "code",
   "execution_count": 1160,
   "metadata": {},
   "outputs": [],
   "source": [
    "usage_df[\"Peo_Packages_if_Teenager_Students\"] = usage_df.apply(lambda x: teenager_student_peo_packages(x[\"PEO_TV_Categorical\"],x[\"Peo_TV_Package\"]), axis=1)"
   ]
  },
  {
   "cell_type": "code",
   "execution_count": 1161,
   "metadata": {},
   "outputs": [],
   "source": [
    "def working_professional_peo_packages(peo_tv_cat,peo_tv_package):\n",
    "    prob = 0.0\n",
    "    peo_packages = [\"PEO_SILVER_PLUS\", \"PEO_FAMILY\",\"PEO_SILVER_PLUS_FTTH\", \"SLT_STAFF_PEO_UNNATHAM_FTTH\", \"SLT_STAFF_TRIPLE_PLAY\",\"NEW_SLT_STAFF_PACKAGE\",\"BOC\"]\n",
    "    if peo_tv_cat == \"MEDIUM\" or peo_tv_cat == \"HIGH\":\n",
    "        if not isinstance(peo_tv_package, float):\n",
    "            for vas in peo_packages:\n",
    "                if vas in peo_tv_package:\n",
    "                    prob += 0.2\n",
    "    return prob"
   ]
  },
  {
   "cell_type": "code",
   "execution_count": 1162,
   "metadata": {},
   "outputs": [],
   "source": [
    "usage_df[\"Peo_Package_if_Working_Professionals\"] = usage_df.apply(lambda x: working_professional_peo_packages(x[\"PEO_TV_Categorical\"],x[\"Peo_TV_Package\"]), axis=1)"
   ]
  },
  {
   "cell_type": "code",
   "execution_count": 1163,
   "metadata": {},
   "outputs": [],
   "source": [
    "def kids_vas_packages(peo_cat,vas):\n",
    "    prob = 0.0\n",
    "    peo_vas = [\"PeoTVGo Channel Package\"]\n",
    "    vas_packages = [\"Sisu Connect\", \"Edu Lite\"]\n",
    "    if peo_cat == \"HIGH\":\n",
    "        if not isinstance(vas, float):\n",
    "            for s in peo_vas:\n",
    "                if s in vas:\n",
    "                    prob += 0.2\n",
    "    if not isinstance(vas, float):\n",
    "        for s in vas_packages:\n",
    "            if s in vas:\n",
    "                prob += 0.5\n",
    "    return prob"
   ]
  },
  {
   "cell_type": "code",
   "execution_count": 1164,
   "metadata": {},
   "outputs": [],
   "source": [
    "usage_df[\"VAS_if_Kids\"] = usage_df.apply(lambda x: kids_vas_packages(x[\"PEO_TV_Categorical\"],x[\"VAS_Package\"]), axis=1)"
   ]
  },
  {
   "cell_type": "code",
   "execution_count": 1165,
   "metadata": {},
   "outputs": [],
   "source": [
    "def teenager_student_vas_packages(peo_cat,bb_cat,vas):\n",
    "    prob = 0.0\n",
    "    peo_vas = [\"Video on Demand\"]\n",
    "    bb_vas = [\"BB YouTube Bundle\", \"BB Entertainment Unlimited\", \"BB Messenger Bundle\"]\n",
    "    vas_packages = ['Meet Lite', 'Meet Max']\n",
    "    if peo_cat == \"MEDIUM\" or peo_cat == \"HIGH\":\n",
    "        if not isinstance(vas, float):\n",
    "            for v in peo_vas:\n",
    "                if v in vas:\n",
    "                    prob += 0.2\n",
    "    if bb_cat == \"MEDIUM\" or bb_cat == \"HIGH\":\n",
    "        if not isinstance(vas, float):\n",
    "            for v in bb_vas:\n",
    "                if v in vas:\n",
    "                    prob += 0.2\n",
    "    if not isinstance(vas, float):\n",
    "        for v in vas_packages:\n",
    "            if v in vas:\n",
    "                prob += 0.3\n",
    "    return prob"
   ]
  },
  {
   "cell_type": "code",
   "execution_count": 1169,
   "metadata": {},
   "outputs": [],
   "source": [
    "usage_df[\"VAS_if_Teenager_Students\"] = usage_df.apply(lambda x: teenager_student_vas_packages(x[\"PEO_TV_Categorical\"],x[\"BB_Categorical\"],x[\"VAS_Package\"]), axis=1)"
   ]
  },
  {
   "cell_type": "code",
   "execution_count": 1170,
   "metadata": {},
   "outputs": [],
   "source": [
    "def working_professional_vas_packages(bb_cat,vas):\n",
    "    prob = 0.0\n",
    "    bb_vas = [\"BB Personal Storage\"]\n",
    "    vas_packages = ['AB Referral offer Discount', 'AB Service Vacation',\n",
    "                    'AB Citylink Loyalty Rewards','Meet Lite', 'Meet Max']\n",
    "    if bb_cat == \"MEDIUM\" or bb_cat == \"HIGH\":\n",
    "        if not isinstance(vas, float):\n",
    "            for v in bb_vas:\n",
    "                if v in vas:\n",
    "                    prob += 0.2\n",
    "    if not isinstance(vas, float):\n",
    "        for v in vas_packages:\n",
    "            if v in vas:\n",
    "                prob += 0.25\n",
    "    return prob"
   ]
  },
  {
   "cell_type": "code",
   "execution_count": 1171,
   "metadata": {},
   "outputs": [],
   "source": [
    "usage_df[\"VAS_if_Working_Professionals\"] = usage_df.apply(lambda x: working_professional_vas_packages(x[\"BB_Categorical\"],x[\"VAS_Package\"]), axis=1)"
   ]
  },
  {
   "cell_type": "code",
   "execution_count": 1172,
   "metadata": {},
   "outputs": [],
   "source": [
    "def family_member_abroad_idd_countries(idd_cat,incoming_country,outgoing_country):\n",
    "    prob = 0.0\n",
    "    countries = [\"United Arab Emirates\", \"Australia - Mobile\",\"UK - Mobile\", \"New Zealand\", \"Hong Kong\",\"Maldive Islands\",\"Singapore\",\n",
    "                 \"India\",\"Saudi Arabia - Mobile\",\"Australia\",\"China - Mobile\",\"Maldive Islands\",\n",
    "                 \"Israel - Mobile\",\"Jordan - Mobile\",\"U.K.\",\"U.S.A\",\"France\",\"Italy - Mobile\",\"Malaysia - Mobile\",\"Bangladesh - Mobile\"\n",
    "                ,\"Germany\",\"Philippines - Mobile\",\"Italy\",\"Israel\",\"Saudi Arabia\",\"Pakistan - Mobile\",\"Pakistan\",\"Japan\",\"Kuwait -Mobile\"\n",
    "                ,\"Oman-Mobile \",\"France - Mobile\",\"Canada\",\"Japan - Mobile\",\"United Arab Emirates  - Mobile\",\"Bahrain - Mobile\",\"Bahrain\"\n",
    "                ,\"Cyprus - Mobile\",\"Cyprus\",\"Barbados\",\"Korea Republic Of\",\"Switzerland - Mobile\",\"Indonesia - Mobile\",\"Qatar - Mobile\"\n",
    "                ,\"Qatar\",\"Romania\",\"Germany - Mobile\",\"Belgium\",\"Netherlands\"]\n",
    "    if not isinstance(idd_cat, float):\n",
    "        if idd_cat == \"MEDIUM\" or idd_cat == \"HIGH\":\n",
    "            for country in countries:\n",
    "                if not isinstance(incoming_country, float) and country in incoming_country:\n",
    "                    prob += 0.25\n",
    "                elif not isinstance(outgoing_country, float) and country in outgoing_country:\n",
    "                    prob += 0.25\n",
    "    return prob"
   ]
  },
  {
   "cell_type": "code",
   "execution_count": 1173,
   "metadata": {},
   "outputs": [],
   "source": [
    "usage_df[\"IDD_if_Family_Member_Abroad\"] = usage_df.apply(lambda x: family_member_abroad_idd_countries(x[\"IDD_Overall_Categorical\"],x[\"IDD_incoming_country\"],x[\"IDD_outgoing_country\"]), axis=1)"
   ]
  },
  {
   "cell_type": "code",
   "execution_count": 1174,
   "metadata": {},
   "outputs": [
    {
     "name": "stdout",
     "output_type": "stream",
     "text": [
      "<class 'pandas.core.frame.DataFrame'>\n",
      "Int64Index: 2916 entries, 0 to 2915\n",
      "Data columns (total 86 columns):\n",
      " #   Column                                    Non-Null Count  Dtype   \n",
      "---  ------                                    --------------  -----   \n",
      " 0   ACCOUNT_NUM.hash                          2916 non-null   object  \n",
      " 1   CUSTOMER_REF.hash                         2916 non-null   object  \n",
      " 2   OFFNET_INCOMING_Scaled                    2916 non-null   float64 \n",
      " 3   OFFNET_INCOMING_Categorical               2916 non-null   object  \n",
      " 4   OFFNET_INCOMING_Outlier                   2916 non-null   object  \n",
      " 5   OFFNET_OUTGOING_Categorical               2809 non-null   object  \n",
      " 6   OFFNET_OUTGOING_Scaled                    2809 non-null   float64 \n",
      " 7   OFFNET_OUTGOING_Outlier                   2809 non-null   object  \n",
      " 8   ONNET_INCOMING_Categorical                2833 non-null   object  \n",
      " 9   ONNET_INCOMING_Scaled                     2833 non-null   float64 \n",
      " 10  ONNET_INCOMING_Outlier                    2833 non-null   object  \n",
      " 11  ONNET_OUTGOING_Categorical                2832 non-null   object  \n",
      " 12  ONNET_OUTGOING_Scaled                     2832 non-null   float64 \n",
      " 13  ONNET_OUTGOING_Outlier                    2832 non-null   object  \n",
      " 14  IDD_INCOMING_Categorical                  1445 non-null   object  \n",
      " 15  IDD_INCOMING_Scaled                       1445 non-null   float64 \n",
      " 16  IDD_INCOMING_Outlier                      1445 non-null   object  \n",
      " 17  IDD_incoming_country                      1445 non-null   object  \n",
      " 18  IDD_OUTGOING_Categorical                  477 non-null    object  \n",
      " 19  IDD_OUTGOING_Scaled                       477 non-null    float64 \n",
      " 20  IDD_OUTGOING_Outlier                      477 non-null    object  \n",
      " 21  IDD_outgoing_Cumulative_Revenue           477 non-null    float64 \n",
      " 22  IDD_outgoing_country                      477 non-null    object  \n",
      " 23  Peo_TV_Package                            1142 non-null   object  \n",
      " 24  PEO_TV_Categorical                        1142 non-null   object  \n",
      " 25  PEO_TV_Scaled                             1142 non-null   float64 \n",
      " 26  event_source.hash                         1142 non-null   object  \n",
      " 27  BB_Categorical                            1113 non-null   object  \n",
      " 28  BB_Scaled                                 1113 non-null   float64 \n",
      " 29  Location_Identifier                       2916 non-null   object  \n",
      " 30  GENDER                                    2237 non-null   object  \n",
      " 31  BIRTH_YEAR                                2237 non-null   float64 \n",
      " 32  AGE                                       2237 non-null   float64 \n",
      " 33  ONNET_Overall_Categorical                 2890 non-null   object  \n",
      " 34  OFFNET_Overall_Categorical                2916 non-null   object  \n",
      " 35  IDD_Overall_Categorical                   1499 non-null   object  \n",
      " 36  VOICE_Categorical                         2867 non-null   object  \n",
      " 37  Subscription                              668 non-null    object  \n",
      " 38  Sub_Type                                  2916 non-null   object  \n",
      " 39  Sub_Usage                                 2916 non-null   object  \n",
      " 40  Sub_Type_State                            2916 non-null   object  \n",
      " 41  Megaline_Package                          2836 non-null   object  \n",
      " 42  Megaline_Month_Subscribed                 2836 non-null   object  \n",
      " 43  Megaline_Rental                           2836 non-null   object  \n",
      " 44  Megaline_One_Time_Charge                  2836 non-null   object  \n",
      " 45  Package_Type                              2858 non-null   object  \n",
      " 46  MEDIUM                                    2836 non-null   object  \n",
      " 47  FTTH_Package                              88 non-null     object  \n",
      " 48  FTTH_Month_Subscribed                     88 non-null     object  \n",
      " 49  FTTH_Rental                               88 non-null     object  \n",
      " 50  FTTH_One_Time_Charge                      88 non-null     object  \n",
      " 51  VAS_Package                               1773 non-null   object  \n",
      " 52  VAS_Month_Subscribed                      1773 non-null   object  \n",
      " 53  VAS_Rental                                1773 non-null   object  \n",
      " 54  VAS_One_Time_Charge                       1773 non-null   object  \n",
      " 55  Sub_Update_Date                           660 non-null    object  \n",
      " 56  Sub_Update_Status                         660 non-null    object  \n",
      " 57  Sub_Update                                660 non-null    object  \n",
      " 58  BB_Extra_GB_Usage_Times                   1394 non-null   float64 \n",
      " 59  BB_Extra_GB_Month_vs_Rental               1394 non-null   object  \n",
      " 60  BB_Extra_GB_Purchased_Scaled              1394 non-null   float64 \n",
      " 61  BB_Extra_GB_Purchase_Categorical          1394 non-null   category\n",
      " 62  Peo_Extra_Channels_Cumulative_Rental      47 non-null     float64 \n",
      " 63  Peo_Extra_Channels_Month_vs_Rental        47 non-null     object  \n",
      " 64  Peo_Extra_Channels_Purchased_Scaled       47 non-null     float64 \n",
      " 65  Peo_Extra_Channels_Purchased_Categorical  47 non-null     category\n",
      " 66  Having_Insurance                          415 non-null    object  \n",
      " 67  Having_Senior_Citizen_Scaled              2916 non-null   float64 \n",
      " 68  Having_Senior_Citizen                     454 non-null    object  \n",
      " 69  Having_Kids_at_Home_Scaled                2916 non-null   float64 \n",
      " 70  Having_Kids_at_Home                       243 non-null    object  \n",
      " 71  Having_Teenagers_Students_Scaled          2916 non-null   float64 \n",
      " 72  Having_Teenagers_Students                 261 non-null    object  \n",
      " 73  Having_Working_Professionals_Scaled       2916 non-null   float64 \n",
      " 74  Having_Working_Professionals              533 non-null    object  \n",
      " 75  Having_Family_Member_Abroad_Scaled        2916 non-null   float64 \n",
      " 76  Having_Family_Member_Abroad               867 non-null    object  \n",
      " 77  Tamil_Customer                            190 non-null    object  \n",
      " 78  Peo_Packages_if_Senior_Citizen            2916 non-null   float64 \n",
      " 79  Peo_Packages_if_Kids                      2916 non-null   float64 \n",
      " 80  Peo_Packages_if_Teenager_Students         2916 non-null   float64 \n",
      " 81  Peo_Package_if_Working_Professionals      2916 non-null   float64 \n",
      " 82  VAS_if_Kids                               2916 non-null   float64 \n",
      " 83  VAS_if_Teenager_Students                  2916 non-null   float64 \n",
      " 84  VAS_if_Working_Professionals              2916 non-null   float64 \n",
      " 85  IDD_if_Family_Member_Abroad               2916 non-null   float64 \n",
      "dtypes: category(2), float64(28), object(56)\n",
      "memory usage: 1.9+ MB\n"
     ]
    }
   ],
   "source": [
    "usage_df.info()"
   ]
  },
  {
   "cell_type": "code",
   "execution_count": null,
   "metadata": {},
   "outputs": [],
   "source": []
  },
  {
   "cell_type": "markdown",
   "metadata": {},
   "source": [
    "## ToDo - Deriving context\n",
    "- Payment Patterns & information : Economical state/ payment type preferred/ payment state (good/bad/avarage)\n",
    "- Time context - BB Usage Time/ PeoTV Watch Time/ Call Time/ IDD Call Time analysis\n",
    "- Upgrade/ Downgrade purpose assumption"
   ]
  },
  {
   "cell_type": "code",
   "execution_count": null,
   "metadata": {},
   "outputs": [],
   "source": []
  },
  {
   "cell_type": "code",
   "execution_count": 1175,
   "metadata": {},
   "outputs": [],
   "source": [
    "usage_df.to_csv(\"data/user_profile/prepared/User_Profile.csv\")"
   ]
  },
  {
   "cell_type": "code",
   "execution_count": null,
   "metadata": {},
   "outputs": [],
   "source": []
  },
  {
   "cell_type": "markdown",
   "metadata": {},
   "source": [
    "# User Profile -Analysis"
   ]
  },
  {
   "cell_type": "markdown",
   "metadata": {},
   "source": [
    "### Subscription Changes"
   ]
  },
  {
   "cell_type": "code",
   "execution_count": 1176,
   "metadata": {},
   "outputs": [
    {
     "data": {
      "text/plain": [
       "<AxesSubplot:ylabel='None'>"
      ]
     },
     "execution_count": 1176,
     "metadata": {},
     "output_type": "execute_result"
    },
    {
     "data": {
      "image/png": "[encoded data removed]",
      "text/plain": [
       "<Figure size 4000x4000 with 1 Axes>"
      ]
     },
     "metadata": {},
     "output_type": "display_data"
    }
   ],
   "source": [
    "fig = plt.figure(figsize=(20,20), dpi=200)\n",
    "ax = plt.subplot(111)\n",
    "\n",
    "usage_df[[\"Sub_Update\"]].value_counts().plot(kind='pie', ax=ax, autopct='%1.1f%%', startangle=270, fontsize=20)"
   ]
  },
  {
   "cell_type": "markdown",
   "metadata": {},
   "source": [
    "### Customers with VAS"
   ]
  },
  {
   "cell_type": "code",
   "execution_count": 1177,
   "metadata": {},
   "outputs": [
    {
     "data": {
      "text/plain": [
       "YES    1773\n",
       "NO     1143\n",
       "dtype: int64"
      ]
     },
     "execution_count": 1177,
     "metadata": {},
     "output_type": "execute_result"
    }
   ],
   "source": [
    "usage_df.apply(lambda x: \"YES\" if  type(x[\"VAS_Package\"]) == str else \"NO\", axis=1).value_counts()"
   ]
  },
  {
   "cell_type": "markdown",
   "metadata": {},
   "source": [
    "## Customers with Megaline Packages"
   ]
  },
  {
   "cell_type": "code",
   "execution_count": 1178,
   "metadata": {},
   "outputs": [
    {
     "data": {
      "text/plain": [
       "YES    2836\n",
       "NO       80\n",
       "dtype: int64"
      ]
     },
     "execution_count": 1178,
     "metadata": {},
     "output_type": "execute_result"
    }
   ],
   "source": [
    "usage_df.apply(lambda x: \"YES\" if  type(x[\"Megaline_Package\"]) == str else \"NO\", axis=1).value_counts()"
   ]
  },
  {
   "cell_type": "markdown",
   "metadata": {},
   "source": [
    "## Customers with FTTH Package"
   ]
  },
  {
   "cell_type": "code",
   "execution_count": 1179,
   "metadata": {},
   "outputs": [
    {
     "data": {
      "text/plain": [
       "NO     2828\n",
       "YES      88\n",
       "dtype: int64"
      ]
     },
     "execution_count": 1179,
     "metadata": {},
     "output_type": "execute_result"
    }
   ],
   "source": [
    "usage_df.apply(lambda x: \"YES\" if  type(x[\"FTTH_Package\"]) == str else \"NO\", axis=1).value_counts()"
   ]
  },
  {
   "cell_type": "markdown",
   "metadata": {},
   "source": [
    "## Customers with PeoTV Packages"
   ]
  },
  {
   "cell_type": "code",
   "execution_count": 1180,
   "metadata": {},
   "outputs": [
    {
     "data": {
      "text/plain": [
       "NO     1774\n",
       "YES    1142\n",
       "dtype: int64"
      ]
     },
     "execution_count": 1180,
     "metadata": {},
     "output_type": "execute_result"
    }
   ],
   "source": [
    "peo_tv_users = usage_df.apply(lambda x: \"YES\" if  type(x[\"Peo_TV_Package\"]) == str else \"NO\", axis=1)\n",
    "peo_tv_users.value_counts()"
   ]
  },
  {
   "cell_type": "code",
   "execution_count": null,
   "metadata": {},
   "outputs": [],
   "source": []
  }
 ],
 "metadata": {
  "kernel_info": {
   "name": "python3"
  },
  "kernelspec": {
   "display_name": "Python 3",
   "language": "python",
   "name": "python3"
  },
  "language_info": {
   "codemirror_mode": {
    "name": "ipython",
    "version": 3
   },
   "file_extension": ".py",
   "mimetype": "text/x-python",
   "name": "python",
   "nbconvert_exporter": "python",
   "pygments_lexer": "ipython3",
   "version": "3.8.8"
  },
  "nteract": {
   "version": "nteract-front-end@1.0.0"
  }
 },
 "nbformat": 4,
 "nbformat_minor": 4
}
