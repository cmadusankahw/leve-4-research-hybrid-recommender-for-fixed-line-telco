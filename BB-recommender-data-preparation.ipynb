{
 "cells": [
  {
   "cell_type": "code",
   "execution_count": 8,
   "metadata": {},
   "outputs": [],
   "source": [
    "# import libraries\n",
    "import numpy as np\n",
    "import pandas as pd\n",
    "import seaborn as sns\n",
    "import matplotlib.pyplot as plt\n",
    "from sklearn.preprocessing import MinMaxScaler"
   ]
  },
  {
   "cell_type": "code",
   "execution_count": 9,
   "metadata": {},
   "outputs": [],
   "source": [
    "user_profile = pd.read_csv(\"data/user_profile/prepared/User_Profile.csv\")"
   ]
  },
  {
   "cell_type": "code",
   "execution_count": 10,
   "metadata": {},
   "outputs": [],
   "source": [
    "user_profile.drop([\"Unnamed: 0\"],axis=1,inplace=True)"
   ]
  },
  {
   "cell_type": "code",
   "execution_count": 11,
   "metadata": {},
   "outputs": [],
   "source": [
    "user_profile = user_profile[(user_profile[\"BB_Package\"].notna())]\n",
    "user_profile.reset_index(drop=True, inplace=True)"
   ]
  },
  {
   "cell_type": "markdown",
   "metadata": {},
   "source": [
    "## User - package ratings"
   ]
  },
  {
   "cell_type": "code",
   "execution_count": 12,
   "metadata": {},
   "outputs": [
    {
     "name": "stderr",
     "output_type": "stream",
     "text": [
      "C:\\ProgramData\\Anaconda3\\lib\\site-packages\\pandas\\core\\frame.py:4441: SettingWithCopyWarning: \n",
      "A value is trying to be set on a copy of a slice from a DataFrame\n",
      "\n",
      "See the caveats in the documentation: https://pandas.pydata.org/pandas-docs/stable/user_guide/indexing.html#returning-a-view-versus-a-copy\n",
      "  return super().rename(\n"
     ]
    }
   ],
   "source": [
    "rating_df=user_profile.iloc[:,[0,29,28]]\n",
    "rating_df.rename(columns={'BB_Scaled':'ratings','BB_Package':'package'},inplace=True)"
   ]
  },
  {
   "cell_type": "code",
   "execution_count": 13,
   "metadata": {},
   "outputs": [
    {
     "name": "stderr",
     "output_type": "stream",
     "text": [
      "C:\\ProgramData\\Anaconda3\\lib\\site-packages\\pandas\\core\\frame.py:4462: SettingWithCopyWarning: \n",
      "A value is trying to be set on a copy of a slice from a DataFrame\n",
      "\n",
      "See the caveats in the documentation: https://pandas.pydata.org/pandas-docs/stable/user_guide/indexing.html#returning-a-view-versus-a-copy\n",
      "  return super().fillna(\n"
     ]
    }
   ],
   "source": [
    "rating_df.fillna(0,inplace=True)"
   ]
  },
  {
   "cell_type": "code",
   "execution_count": 14,
   "metadata": {},
   "outputs": [
    {
     "data": {
      "text/html": [
       "<div>\n",
       "<style scoped>\n",
       "    .dataframe tbody tr th:only-of-type {\n",
       "        vertical-align: middle;\n",
       "    }\n",
       "\n",
       "    .dataframe tbody tr th {\n",
       "        vertical-align: top;\n",
       "    }\n",
       "\n",
       "    .dataframe thead th {\n",
       "        text-align: right;\n",
       "    }\n",
       "</style>\n",
       "<table border=\"1\" class=\"dataframe\">\n",
       "  <thead>\n",
       "    <tr style=\"text-align: right;\">\n",
       "      <th></th>\n",
       "      <th>ACCOUNT_NUM.hash</th>\n",
       "      <th>package</th>\n",
       "      <th>ratings</th>\n",
       "    </tr>\n",
       "  </thead>\n",
       "  <tbody>\n",
       "    <tr>\n",
       "      <th>0</th>\n",
       "      <td>729e0a0a75015a8908d0989386f4454e</td>\n",
       "      <td>Web Family Xtra</td>\n",
       "      <td>0.000000</td>\n",
       "    </tr>\n",
       "    <tr>\n",
       "      <th>1</th>\n",
       "      <td>2f1d8e2ad12e57fce4419845e23ddcbd</td>\n",
       "      <td>Web Starter</td>\n",
       "      <td>0.175347</td>\n",
       "    </tr>\n",
       "    <tr>\n",
       "      <th>2</th>\n",
       "      <td>0d4098a262a8bed6ac4253f42dfc5769</td>\n",
       "      <td>Web LITE</td>\n",
       "      <td>0.072917</td>\n",
       "    </tr>\n",
       "    <tr>\n",
       "      <th>3</th>\n",
       "      <td>fac45c3800fe3b9a28cc124f692a9f4a</td>\n",
       "      <td>Student Package 1</td>\n",
       "      <td>0.000000</td>\n",
       "    </tr>\n",
       "    <tr>\n",
       "      <th>4</th>\n",
       "      <td>f53c729fa6b9ce93c6b4bb190efe41b3</td>\n",
       "      <td>Student Package 2</td>\n",
       "      <td>0.000000</td>\n",
       "    </tr>\n",
       "    <tr>\n",
       "      <th>...</th>\n",
       "      <td>...</td>\n",
       "      <td>...</td>\n",
       "      <td>...</td>\n",
       "    </tr>\n",
       "    <tr>\n",
       "      <th>1347</th>\n",
       "      <td>0fa1d2aeb386d52b8fb4b545f3d28b5d</td>\n",
       "      <td>Web Family Active</td>\n",
       "      <td>0.000000</td>\n",
       "    </tr>\n",
       "    <tr>\n",
       "      <th>1348</th>\n",
       "      <td>7db2aa38214037279601a314071d1972</td>\n",
       "      <td>Web LITE</td>\n",
       "      <td>0.326389</td>\n",
       "    </tr>\n",
       "    <tr>\n",
       "      <th>1349</th>\n",
       "      <td>019217a7950072f267ab6dcb0d790969</td>\n",
       "      <td>Broadband Experience Package</td>\n",
       "      <td>0.000000</td>\n",
       "    </tr>\n",
       "    <tr>\n",
       "      <th>1350</th>\n",
       "      <td>f5934060d1b7b0a329df4d29242225b8</td>\n",
       "      <td>Web PAL</td>\n",
       "      <td>0.567708</td>\n",
       "    </tr>\n",
       "    <tr>\n",
       "      <th>1351</th>\n",
       "      <td>af66a61a98c385584e3fccfd8dcc5412</td>\n",
       "      <td>z Sales End_Xcite</td>\n",
       "      <td>0.000000</td>\n",
       "    </tr>\n",
       "  </tbody>\n",
       "</table>\n",
       "<p>1352 rows × 3 columns</p>\n",
       "</div>"
      ],
      "text/plain": [
       "                      ACCOUNT_NUM.hash                       package   ratings\n",
       "0     729e0a0a75015a8908d0989386f4454e               Web Family Xtra  0.000000\n",
       "1     2f1d8e2ad12e57fce4419845e23ddcbd                   Web Starter  0.175347\n",
       "2     0d4098a262a8bed6ac4253f42dfc5769                      Web LITE  0.072917\n",
       "3     fac45c3800fe3b9a28cc124f692a9f4a             Student Package 1  0.000000\n",
       "4     f53c729fa6b9ce93c6b4bb190efe41b3             Student Package 2  0.000000\n",
       "...                                ...                           ...       ...\n",
       "1347  0fa1d2aeb386d52b8fb4b545f3d28b5d             Web Family Active  0.000000\n",
       "1348  7db2aa38214037279601a314071d1972                      Web LITE  0.326389\n",
       "1349  019217a7950072f267ab6dcb0d790969  Broadband Experience Package  0.000000\n",
       "1350  f5934060d1b7b0a329df4d29242225b8                       Web PAL  0.567708\n",
       "1351  af66a61a98c385584e3fccfd8dcc5412             z Sales End_Xcite  0.000000\n",
       "\n",
       "[1352 rows x 3 columns]"
      ]
     },
     "execution_count": 14,
     "metadata": {},
     "output_type": "execute_result"
    }
   ],
   "source": [
    "rating_df"
   ]
  },
  {
   "cell_type": "code",
   "execution_count": 15,
   "metadata": {},
   "outputs": [
    {
     "name": "stdout",
     "output_type": "stream",
     "text": [
      "<class 'pandas.core.frame.DataFrame'>\n",
      "RangeIndex: 1352 entries, 0 to 1351\n",
      "Data columns (total 3 columns):\n",
      " #   Column            Non-Null Count  Dtype  \n",
      "---  ------            --------------  -----  \n",
      " 0   ACCOUNT_NUM.hash  1352 non-null   object \n",
      " 1   package           1352 non-null   object \n",
      " 2   ratings           1352 non-null   float64\n",
      "dtypes: float64(1), object(2)\n",
      "memory usage: 31.8+ KB\n"
     ]
    }
   ],
   "source": [
    "rating_df.info()"
   ]
  },
  {
   "cell_type": "code",
   "execution_count": 16,
   "metadata": {},
   "outputs": [],
   "source": [
    "rating_df.to_csv(\"data/azure/BB_user_ratings.csv\")"
   ]
  },
  {
   "cell_type": "markdown",
   "metadata": {},
   "source": [
    "## User content"
   ]
  },
  {
   "cell_type": "code",
   "execution_count": 18,
   "metadata": {},
   "outputs": [],
   "source": [
    "user_df=user_profile.iloc[:,[0,30,31,32,33,35,38,39,41,44,48,49,53,57,61,64,65,66,71,72,74,76,78,80,82,84]]"
   ]
  },
  {
   "cell_type": "markdown",
   "metadata": {},
   "source": [
    "### Handeling Null Values"
   ]
  },
  {
   "cell_type": "code",
   "execution_count": 19,
   "metadata": {},
   "outputs": [
    {
     "name": "stderr",
     "output_type": "stream",
     "text": [
      "C:\\ProgramData\\Anaconda3\\lib\\site-packages\\pandas\\core\\frame.py:3191: SettingWithCopyWarning: \n",
      "A value is trying to be set on a copy of a slice from a DataFrame.\n",
      "Try using .loc[row_indexer,col_indexer] = value instead\n",
      "\n",
      "See the caveats in the documentation: https://pandas.pydata.org/pandas-docs/stable/user_guide/indexing.html#returning-a-view-versus-a-copy\n",
      "  self[k1] = value[k2]\n"
     ]
    }
   ],
   "source": [
    "# Only for derived cols\n",
    "cat_cols = ['Tamil_Customer', 'Having_Insurance', \"BB_Extra_GB_Purchase_Categorical\"]\n",
    "\n",
    "user_df[cat_cols] = user_df[cat_cols].fillna(\"NO\")\n",
    "\n",
    "#voice_udf[scaled_cols] = voice_udf[scaled_cols].fillna(0)"
   ]
  },
  {
   "cell_type": "code",
   "execution_count": 20,
   "metadata": {},
   "outputs": [],
   "source": [
    "num_cols = [\"BB_Extra_GB_Amount\",\"BB_Extra_GB_Purchased_Scaled\"]\n",
    "user_df[num_cols] = user_df[num_cols].fillna(0)"
   ]
  },
  {
   "cell_type": "code",
   "execution_count": 27,
   "metadata": {},
   "outputs": [
    {
     "name": "stdout",
     "output_type": "stream",
     "text": [
      "<class 'pandas.core.frame.DataFrame'>\n",
      "RangeIndex: 1352 entries, 0 to 1351\n",
      "Data columns (total 26 columns):\n",
      " #   Column                               Non-Null Count  Dtype  \n",
      "---  ------                               --------------  -----  \n",
      " 0   ACCOUNT_NUM.hash                     1352 non-null   object \n",
      " 1   TARIFF_NAME                          1352 non-null   object \n",
      " 2   BB_Medium                            1352 non-null   object \n",
      " 3   Location_Identifier                  1352 non-null   object \n",
      " 4   GENDER                               1060 non-null   object \n",
      " 5   AGE                                  1060 non-null   float64\n",
      " 6   IDD_Overall_Categorical              710 non-null    object \n",
      " 7   VOICE_Categorical                    1322 non-null   object \n",
      " 8   Sub_Type                             1352 non-null   object \n",
      " 9   Megaline_Package                     1352 non-null   object \n",
      " 10  Package_Type                         1352 non-null   object \n",
      " 11  FTTH_Package                         81 non-null     object \n",
      " 12  VAS_Package                          585 non-null    object \n",
      " 13  Product_Type                         585 non-null    object \n",
      " 14  Sub_Update                           300 non-null    object \n",
      " 15  BB_Extra_GB_Purchased_Scaled         1352 non-null   float64\n",
      " 16  BB_Extra_GB_Purchase_Categorical     1352 non-null   object \n",
      " 17  BB_Extra_GB_Amount                   1352 non-null   float64\n",
      " 18  Having_Insurance                     1352 non-null   object \n",
      " 19  Having_Senior_Citizen_Scaled         1352 non-null   float64\n",
      " 20  Having_Kids_at_Home_Scaled           1352 non-null   float64\n",
      " 21  SMEs_Scaled                          1352 non-null   float64\n",
      " 22  Having_Teenagers_Students_Scaled     1352 non-null   float64\n",
      " 23  Having_Working_Professionals_Scaled  1352 non-null   float64\n",
      " 24  Having_Family_Member_Abroad_Scaled   1352 non-null   float64\n",
      " 25  Tamil_Customer                       1352 non-null   object \n",
      "dtypes: float64(9), object(17)\n",
      "memory usage: 274.8+ KB\n"
     ]
    }
   ],
   "source": [
    "user_df.info()"
   ]
  },
  {
   "cell_type": "code",
   "execution_count": 28,
   "metadata": {},
   "outputs": [],
   "source": [
    "user_df.to_csv(\"data/azure/BB_user_content.csv\")"
   ]
  },
  {
   "cell_type": "markdown",
   "metadata": {},
   "source": [
    "## Product (package) content"
   ]
  },
  {
   "cell_type": "code",
   "execution_count": 29,
   "metadata": {},
   "outputs": [],
   "source": [
    "product_profile = pd.read_csv(\"data/product_catalog/Product_Profile_Finalised_CSV.csv\")"
   ]
  },
  {
   "cell_type": "code",
   "execution_count": 30,
   "metadata": {},
   "outputs": [
    {
     "name": "stdout",
     "output_type": "stream",
     "text": [
      "<class 'pandas.core.frame.DataFrame'>\n",
      "RangeIndex: 263 entries, 0 to 262\n",
      "Data columns (total 20 columns):\n",
      " #   Column               Non-Null Count  Dtype  \n",
      "---  ------               --------------  -----  \n",
      " 0   Product_ID           263 non-null    object \n",
      " 1   Base_Type            241 non-null    object \n",
      " 2   Pricing_Type         134 non-null    object \n",
      " 3   Package_Type         134 non-null    object \n",
      " 4   Title                134 non-null    object \n",
      " 5   Description          47 non-null     object \n",
      " 6   BB_Data_Standard     43 non-null     float64\n",
      " 7   BB_Data_Free         43 non-null     float64\n",
      " 8   BB_Data_Anytime      32 non-null     float64\n",
      " 9   BB_Data_Unlimited    11 non-null     object \n",
      " 10  BB_Connection_Type   86 non-null     object \n",
      " 11  BB_Connection_Speed  89 non-null     object \n",
      " 12  Price                133 non-null    object \n",
      " 13  Monthly_Rental       141 non-null    float64\n",
      " 14  Subscription_Type    151 non-null    object \n",
      " 15  Recidence_Type       134 non-null    object \n",
      " 16  Tax_Status           131 non-null    object \n",
      " 17  Conditions           131 non-null    object \n",
      " 18  Transfer_Medium      19 non-null     object \n",
      " 19  TARIFF_NAME          22 non-null     object \n",
      "dtypes: float64(4), object(16)\n",
      "memory usage: 41.2+ KB\n"
     ]
    }
   ],
   "source": [
    "product_df=product_profile.iloc[:,[0,1,2,3,5,6,7,8,9,10,11,12,14,15,35,37,38,39,42,43]]\n",
    "product_df.info()"
   ]
  },
  {
   "cell_type": "code",
   "execution_count": 31,
   "metadata": {},
   "outputs": [],
   "source": [
    "temp_package_df=rating_df[\"package\"]"
   ]
  },
  {
   "cell_type": "code",
   "execution_count": 32,
   "metadata": {},
   "outputs": [],
   "source": [
    "def drop_col(col):\n",
    "    if not isinstance(col,float):\n",
    "        return col.replace(\" \",\"\").replace(\"StudentPackage\",\"HigherEducation\").replace(\"1\",\"\").replace(\"2\",\"\")"
   ]
  },
  {
   "cell_type": "code",
   "execution_count": 33,
   "metadata": {},
   "outputs": [],
   "source": [
    "temp_package_df = temp_package_df.apply(lambda x: drop_col(x))"
   ]
  },
  {
   "cell_type": "code",
   "execution_count": 34,
   "metadata": {},
   "outputs": [],
   "source": [
    "def drop_bb(col):\n",
    "    if not isinstance(col,float):\n",
    "        return col.replace(\"BB\",\"\").replace(\"_\",\"\").replace(\"Fibre\",\"\").replace(\"4G\",\"\").replace(\"ADSL\",\"\").replace(\"1Gps\",\"\").replace(\"2\",\"\").replace(\"5\",\"\")"
   ]
  },
  {
   "cell_type": "code",
   "execution_count": 35,
   "metadata": {},
   "outputs": [
    {
     "name": "stderr",
     "output_type": "stream",
     "text": [
      "<ipython-input-35-d0ad7d355983>:1: SettingWithCopyWarning: \n",
      "A value is trying to be set on a copy of a slice from a DataFrame.\n",
      "Try using .loc[row_indexer,col_indexer] = value instead\n",
      "\n",
      "See the caveats in the documentation: https://pandas.pydata.org/pandas-docs/stable/user_guide/indexing.html#returning-a-view-versus-a-copy\n",
      "  product_df[\"Product_ID\"] = product_df[\"Product_ID\"].apply(lambda x: drop_bb(x))\n"
     ]
    }
   ],
   "source": [
    "product_df[\"Product_ID\"] = product_df[\"Product_ID\"].apply(lambda x: drop_bb(x))"
   ]
  },
  {
   "cell_type": "code",
   "execution_count": 36,
   "metadata": {},
   "outputs": [],
   "source": [
    "bb_products_df = product_df.merge(temp_package_df.drop_duplicates(), left_on=['Product_ID'], right_on=['package'] ,\n",
    "                   how='left', indicator=True)"
   ]
  },
  {
   "cell_type": "code",
   "execution_count": 37,
   "metadata": {},
   "outputs": [],
   "source": [
    "bbp_df = bb_products_df[(bb_products_df[\"_merge\"]==\"both\")]"
   ]
  },
  {
   "cell_type": "code",
   "execution_count": 38,
   "metadata": {},
   "outputs": [
    {
     "name": "stderr",
     "output_type": "stream",
     "text": [
      "C:\\ProgramData\\Anaconda3\\lib\\site-packages\\pandas\\core\\frame.py:4308: SettingWithCopyWarning: \n",
      "A value is trying to be set on a copy of a slice from a DataFrame\n",
      "\n",
      "See the caveats in the documentation: https://pandas.pydata.org/pandas-docs/stable/user_guide/indexing.html#returning-a-view-versus-a-copy\n",
      "  return super().drop(\n",
      "C:\\ProgramData\\Anaconda3\\lib\\site-packages\\pandas\\core\\frame.py:4441: SettingWithCopyWarning: \n",
      "A value is trying to be set on a copy of a slice from a DataFrame\n",
      "\n",
      "See the caveats in the documentation: https://pandas.pydata.org/pandas-docs/stable/user_guide/indexing.html#returning-a-view-versus-a-copy\n",
      "  return super().rename(\n"
     ]
    }
   ],
   "source": [
    "bbp_df.drop([\"package\",\"_merge\"],axis=1,inplace=True)\n",
    "bbp_df.rename(columns={'Product_ID':'package'},inplace=True)\n",
    "bbp_df.reset_index(drop=True, inplace=True)"
   ]
  },
  {
   "cell_type": "code",
   "execution_count": 39,
   "metadata": {},
   "outputs": [],
   "source": [
    "cols =[\"BB_Data_Standard\",\"BB_Data_Free\",\"BB_Data_Anytime\",\"BB_Data_Unlimited\"]"
   ]
  },
  {
   "cell_type": "code",
   "execution_count": 40,
   "metadata": {},
   "outputs": [],
   "source": [
    "bbp_df[cols] = bbp_df[cols].fillna(0)"
   ]
  },
  {
   "cell_type": "code",
   "execution_count": 41,
   "metadata": {},
   "outputs": [
    {
     "name": "stderr",
     "output_type": "stream",
     "text": [
      "<ipython-input-41-9cecf65fd4bb>:3: SettingWithCopyWarning: \n",
      "A value is trying to be set on a copy of a slice from a DataFrame.\n",
      "Try using .loc[row_indexer,col_indexer] = value instead\n",
      "\n",
      "See the caveats in the documentation: https://pandas.pydata.org/pandas-docs/stable/user_guide/indexing.html#returning-a-view-versus-a-copy\n",
      "  bbp_df[col] = scaler.fit_transform(bbp_df[col].values.reshape(-1,1))\n",
      "<ipython-input-41-9cecf65fd4bb>:3: SettingWithCopyWarning: \n",
      "A value is trying to be set on a copy of a slice from a DataFrame.\n",
      "Try using .loc[row_indexer,col_indexer] = value instead\n",
      "\n",
      "See the caveats in the documentation: https://pandas.pydata.org/pandas-docs/stable/user_guide/indexing.html#returning-a-view-versus-a-copy\n",
      "  bbp_df[col] = scaler.fit_transform(bbp_df[col].values.reshape(-1,1))\n",
      "<ipython-input-41-9cecf65fd4bb>:3: SettingWithCopyWarning: \n",
      "A value is trying to be set on a copy of a slice from a DataFrame.\n",
      "Try using .loc[row_indexer,col_indexer] = value instead\n",
      "\n",
      "See the caveats in the documentation: https://pandas.pydata.org/pandas-docs/stable/user_guide/indexing.html#returning-a-view-versus-a-copy\n",
      "  bbp_df[col] = scaler.fit_transform(bbp_df[col].values.reshape(-1,1))\n",
      "<ipython-input-41-9cecf65fd4bb>:3: SettingWithCopyWarning: \n",
      "A value is trying to be set on a copy of a slice from a DataFrame.\n",
      "Try using .loc[row_indexer,col_indexer] = value instead\n",
      "\n",
      "See the caveats in the documentation: https://pandas.pydata.org/pandas-docs/stable/user_guide/indexing.html#returning-a-view-versus-a-copy\n",
      "  bbp_df[col] = scaler.fit_transform(bbp_df[col].values.reshape(-1,1))\n"
     ]
    }
   ],
   "source": [
    "scaler = MinMaxScaler()\n",
    "for col in cols:\n",
    "    bbp_df[col] = scaler.fit_transform(bbp_df[col].values.reshape(-1,1))"
   ]
  },
  {
   "cell_type": "code",
   "execution_count": 42,
   "metadata": {},
   "outputs": [
    {
     "name": "stderr",
     "output_type": "stream",
     "text": [
      "<ipython-input-42-38941e6fe141>:2: SettingWithCopyWarning: \n",
      "A value is trying to be set on a copy of a slice from a DataFrame\n",
      "\n",
      "See the caveats in the documentation: https://pandas.pydata.org/pandas-docs/stable/user_guide/indexing.html#returning-a-view-versus-a-copy\n",
      "  bbp_df.dropna(how=\"all\",axis=0,inplace=True)\n",
      "<ipython-input-42-38941e6fe141>:3: SettingWithCopyWarning: \n",
      "A value is trying to be set on a copy of a slice from a DataFrame\n",
      "\n",
      "See the caveats in the documentation: https://pandas.pydata.org/pandas-docs/stable/user_guide/indexing.html#returning-a-view-versus-a-copy\n",
      "  bbp_df.dropna(how=\"all\",axis=1,inplace=True)\n"
     ]
    }
   ],
   "source": [
    "# Droping due to all null\n",
    "bbp_df.dropna(how=\"all\",axis=0,inplace=True)\n",
    "bbp_df.dropna(how=\"all\",axis=1,inplace=True)"
   ]
  },
  {
   "cell_type": "code",
   "execution_count": 43,
   "metadata": {},
   "outputs": [
    {
     "name": "stdout",
     "output_type": "stream",
     "text": [
      "<class 'pandas.core.frame.DataFrame'>\n",
      "Int64Index: 38 entries, 0 to 37\n",
      "Data columns (total 17 columns):\n",
      " #   Column               Non-Null Count  Dtype  \n",
      "---  ------               --------------  -----  \n",
      " 0   package              38 non-null     object \n",
      " 1   Base_Type            38 non-null     object \n",
      " 2   Pricing_Type         38 non-null     object \n",
      " 3   Package_Type         38 non-null     object \n",
      " 4   Title                38 non-null     object \n",
      " 5   BB_Data_Standard     38 non-null     float64\n",
      " 6   BB_Data_Free         38 non-null     float64\n",
      " 7   BB_Data_Anytime      38 non-null     float64\n",
      " 8   BB_Data_Unlimited    38 non-null     float64\n",
      " 9   BB_Connection_Type   38 non-null     object \n",
      " 10  BB_Connection_Speed  38 non-null     object \n",
      " 11  Price                38 non-null     object \n",
      " 12  Monthly_Rental       38 non-null     float64\n",
      " 13  Subscription_Type    38 non-null     object \n",
      " 14  Recidence_Type       38 non-null     object \n",
      " 15  Tax_Status           38 non-null     object \n",
      " 16  Conditions           38 non-null     object \n",
      "dtypes: float64(5), object(12)\n",
      "memory usage: 5.3+ KB\n"
     ]
    }
   ],
   "source": [
    "bbp_df.info()"
   ]
  },
  {
   "cell_type": "code",
   "execution_count": 44,
   "metadata": {},
   "outputs": [],
   "source": [
    "product_df.to_csv(\"data/azure/BB_package_content.csv\")"
   ]
  },
  {
   "cell_type": "code",
   "execution_count": null,
   "metadata": {},
   "outputs": [],
   "source": []
  }
 ],
 "metadata": {
  "kernelspec": {
   "display_name": "Python 3",
   "language": "python",
   "name": "python3"
  },
  "language_info": {
   "codemirror_mode": {
    "name": "ipython",
    "version": 3
   },
   "file_extension": ".py",
   "mimetype": "text/x-python",
   "name": "python",
   "nbconvert_exporter": "python",
   "pygments_lexer": "ipython3",
   "version": "3.8.8"
  }
 },
 "nbformat": 4,
 "nbformat_minor": 4
}
