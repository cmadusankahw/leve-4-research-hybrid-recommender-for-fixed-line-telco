{
 "cells": [
  {
   "cell_type": "code",
   "execution_count": 35,
   "metadata": {},
   "outputs": [],
   "source": [
    "# import libraries\n",
    "import numpy as np\n",
    "import pandas as pd\n",
    "import seaborn as sns\n",
    "import matplotlib.pyplot as plt\n",
    "from sklearn.preprocessing import MinMaxScaler"
   ]
  },
  {
   "cell_type": "code",
   "execution_count": 36,
   "metadata": {},
   "outputs": [],
   "source": [
    "user_profile = pd.read_csv(\"data/user_profile/prepared/User_Profile.csv\")"
   ]
  },
  {
   "cell_type": "code",
   "execution_count": 37,
   "metadata": {},
   "outputs": [],
   "source": [
    "user_profile.drop([\"Unnamed: 0\"],axis=1,inplace=True)"
   ]
  },
  {
   "cell_type": "code",
   "execution_count": 38,
   "metadata": {},
   "outputs": [],
   "source": [
    "user_profile = user_profile[(user_profile[\"BB_Package\"].notna())]\n",
    "user_profile.reset_index(drop=True, inplace=True)"
   ]
  },
  {
   "cell_type": "markdown",
   "metadata": {},
   "source": [
    "## User - package ratings"
   ]
  },
  {
   "cell_type": "code",
   "execution_count": 5,
   "metadata": {},
   "outputs": [
    {
     "name": "stderr",
     "output_type": "stream",
     "text": [
      "C:\\ProgramData\\Anaconda3\\lib\\site-packages\\pandas\\core\\frame.py:4441: SettingWithCopyWarning: \n",
      "A value is trying to be set on a copy of a slice from a DataFrame\n",
      "\n",
      "See the caveats in the documentation: https://pandas.pydata.org/pandas-docs/stable/user_guide/indexing.html#returning-a-view-versus-a-copy\n",
      "  return super().rename(\n"
     ]
    }
   ],
   "source": [
    "rating_df=user_profile.iloc[:,[0,29,28]]\n",
    "rating_df.rename(columns={'BB_Scaled':'ratings','BB_Package':'package'},inplace=True)"
   ]
  },
  {
   "cell_type": "code",
   "execution_count": 6,
   "metadata": {},
   "outputs": [
    {
     "name": "stderr",
     "output_type": "stream",
     "text": [
      "C:\\ProgramData\\Anaconda3\\lib\\site-packages\\pandas\\core\\frame.py:4462: SettingWithCopyWarning: \n",
      "A value is trying to be set on a copy of a slice from a DataFrame\n",
      "\n",
      "See the caveats in the documentation: https://pandas.pydata.org/pandas-docs/stable/user_guide/indexing.html#returning-a-view-versus-a-copy\n",
      "  return super().fillna(\n"
     ]
    }
   ],
   "source": [
    "rating_df.fillna(0,inplace=True)"
   ]
  },
  {
   "cell_type": "code",
   "execution_count": 7,
   "metadata": {},
   "outputs": [
    {
     "data": {
      "text/html": [
       "<div>\n",
       "<style scoped>\n",
       "    .dataframe tbody tr th:only-of-type {\n",
       "        vertical-align: middle;\n",
       "    }\n",
       "\n",
       "    .dataframe tbody tr th {\n",
       "        vertical-align: top;\n",
       "    }\n",
       "\n",
       "    .dataframe thead th {\n",
       "        text-align: right;\n",
       "    }\n",
       "</style>\n",
       "<table border=\"1\" class=\"dataframe\">\n",
       "  <thead>\n",
       "    <tr style=\"text-align: right;\">\n",
       "      <th></th>\n",
       "      <th>ACCOUNT_NUM.hash</th>\n",
       "      <th>package</th>\n",
       "      <th>ratings</th>\n",
       "    </tr>\n",
       "  </thead>\n",
       "  <tbody>\n",
       "    <tr>\n",
       "      <th>0</th>\n",
       "      <td>729e0a0a75015a8908d0989386f4454e</td>\n",
       "      <td>Web Family Xtra</td>\n",
       "      <td>0.000000</td>\n",
       "    </tr>\n",
       "    <tr>\n",
       "      <th>1</th>\n",
       "      <td>2f1d8e2ad12e57fce4419845e23ddcbd</td>\n",
       "      <td>Web Starter</td>\n",
       "      <td>0.175347</td>\n",
       "    </tr>\n",
       "    <tr>\n",
       "      <th>2</th>\n",
       "      <td>0d4098a262a8bed6ac4253f42dfc5769</td>\n",
       "      <td>Web LITE</td>\n",
       "      <td>0.072917</td>\n",
       "    </tr>\n",
       "    <tr>\n",
       "      <th>3</th>\n",
       "      <td>fac45c3800fe3b9a28cc124f692a9f4a</td>\n",
       "      <td>Student Package 1</td>\n",
       "      <td>0.000000</td>\n",
       "    </tr>\n",
       "    <tr>\n",
       "      <th>4</th>\n",
       "      <td>f53c729fa6b9ce93c6b4bb190efe41b3</td>\n",
       "      <td>Student Package 2</td>\n",
       "      <td>0.000000</td>\n",
       "    </tr>\n",
       "    <tr>\n",
       "      <th>...</th>\n",
       "      <td>...</td>\n",
       "      <td>...</td>\n",
       "      <td>...</td>\n",
       "    </tr>\n",
       "    <tr>\n",
       "      <th>1347</th>\n",
       "      <td>0fa1d2aeb386d52b8fb4b545f3d28b5d</td>\n",
       "      <td>Web Family Active</td>\n",
       "      <td>0.000000</td>\n",
       "    </tr>\n",
       "    <tr>\n",
       "      <th>1348</th>\n",
       "      <td>7db2aa38214037279601a314071d1972</td>\n",
       "      <td>Web LITE</td>\n",
       "      <td>0.326389</td>\n",
       "    </tr>\n",
       "    <tr>\n",
       "      <th>1349</th>\n",
       "      <td>019217a7950072f267ab6dcb0d790969</td>\n",
       "      <td>Broadband Experience Package</td>\n",
       "      <td>0.000000</td>\n",
       "    </tr>\n",
       "    <tr>\n",
       "      <th>1350</th>\n",
       "      <td>f5934060d1b7b0a329df4d29242225b8</td>\n",
       "      <td>Web PAL</td>\n",
       "      <td>0.567708</td>\n",
       "    </tr>\n",
       "    <tr>\n",
       "      <th>1351</th>\n",
       "      <td>af66a61a98c385584e3fccfd8dcc5412</td>\n",
       "      <td>z Sales End_Xcite</td>\n",
       "      <td>0.000000</td>\n",
       "    </tr>\n",
       "  </tbody>\n",
       "</table>\n",
       "<p>1352 rows × 3 columns</p>\n",
       "</div>"
      ],
      "text/plain": [
       "                      ACCOUNT_NUM.hash                       package   ratings\n",
       "0     729e0a0a75015a8908d0989386f4454e               Web Family Xtra  0.000000\n",
       "1     2f1d8e2ad12e57fce4419845e23ddcbd                   Web Starter  0.175347\n",
       "2     0d4098a262a8bed6ac4253f42dfc5769                      Web LITE  0.072917\n",
       "3     fac45c3800fe3b9a28cc124f692a9f4a             Student Package 1  0.000000\n",
       "4     f53c729fa6b9ce93c6b4bb190efe41b3             Student Package 2  0.000000\n",
       "...                                ...                           ...       ...\n",
       "1347  0fa1d2aeb386d52b8fb4b545f3d28b5d             Web Family Active  0.000000\n",
       "1348  7db2aa38214037279601a314071d1972                      Web LITE  0.326389\n",
       "1349  019217a7950072f267ab6dcb0d790969  Broadband Experience Package  0.000000\n",
       "1350  f5934060d1b7b0a329df4d29242225b8                       Web PAL  0.567708\n",
       "1351  af66a61a98c385584e3fccfd8dcc5412             z Sales End_Xcite  0.000000\n",
       "\n",
       "[1352 rows x 3 columns]"
      ]
     },
     "execution_count": 7,
     "metadata": {},
     "output_type": "execute_result"
    }
   ],
   "source": [
    "rating_df"
   ]
  },
  {
   "cell_type": "code",
   "execution_count": 163,
   "metadata": {},
   "outputs": [
    {
     "name": "stdout",
     "output_type": "stream",
     "text": [
      "<class 'pandas.core.frame.DataFrame'>\n",
      "RangeIndex: 1352 entries, 0 to 1351\n",
      "Data columns (total 3 columns):\n",
      " #   Column            Non-Null Count  Dtype  \n",
      "---  ------            --------------  -----  \n",
      " 0   ACCOUNT_NUM.hash  1352 non-null   object \n",
      " 1   package           1352 non-null   object \n",
      " 2   ratings           1352 non-null   float64\n",
      "dtypes: float64(1), object(2)\n",
      "memory usage: 31.8+ KB\n"
     ]
    }
   ],
   "source": [
    "rating_df.info()"
   ]
  },
  {
   "cell_type": "code",
   "execution_count": 164,
   "metadata": {},
   "outputs": [],
   "source": [
    "rating_df.to_csv(\"data/azure/BB_user_ratings.csv\")"
   ]
  },
  {
   "cell_type": "markdown",
   "metadata": {},
   "source": [
    "## User content"
   ]
  },
  {
   "cell_type": "code",
   "execution_count": 17,
   "metadata": {},
   "outputs": [
    {
     "name": "stdout",
     "output_type": "stream",
     "text": [
      "<class 'pandas.core.frame.DataFrame'>\n",
      "RangeIndex: 1352 entries, 0 to 1351\n",
      "Data columns (total 96 columns):\n",
      " #   Column                                    Non-Null Count  Dtype  \n",
      "---  ------                                    --------------  -----  \n",
      " 0   ACCOUNT_NUM.hash                          1352 non-null   object \n",
      " 1   CUSTOMER_REF.hash                         1352 non-null   object \n",
      " 2   OFFNET_INCOMING_Scaled                    1352 non-null   float64\n",
      " 3   OFFNET_INCOMING_Categorical               1352 non-null   object \n",
      " 4   OFFNET_INCOMING_Outlier                   1352 non-null   object \n",
      " 5   OFFNET_OUTGOING_Categorical               1306 non-null   object \n",
      " 6   OFFNET_OUTGOING_Scaled                    1306 non-null   float64\n",
      " 7   OFFNET_OUTGOING_Outlier                   1306 non-null   object \n",
      " 8   ONNET_INCOMING_Categorical                1304 non-null   object \n",
      " 9   ONNET_INCOMING_Scaled                     1304 non-null   float64\n",
      " 10  ONNET_INCOMING_Outlier                    1304 non-null   object \n",
      " 11  ONNET_OUTGOING_Categorical                1323 non-null   object \n",
      " 12  ONNET_OUTGOING_Scaled                     1323 non-null   float64\n",
      " 13  ONNET_OUTGOING_Outlier                    1323 non-null   object \n",
      " 14  IDD_INCOMING_Categorical                  688 non-null    object \n",
      " 15  IDD_INCOMING_Scaled                       688 non-null    float64\n",
      " 16  IDD_INCOMING_Outlier                      688 non-null    object \n",
      " 17  IDD_incoming_country                      688 non-null    object \n",
      " 18  IDD_OUTGOING_Categorical                  235 non-null    object \n",
      " 19  IDD_OUTGOING_Scaled                       235 non-null    float64\n",
      " 20  IDD_OUTGOING_Outlier                      235 non-null    object \n",
      " 21  IDD_outgoing_Cumulative_Revenue           235 non-null    float64\n",
      " 22  IDD_outgoing_country                      235 non-null    object \n",
      " 23  Peo_TV_Package                            725 non-null    object \n",
      " 24  PEO_TV_Categorical                        725 non-null    object \n",
      " 25  PEO_TV_Scaled                             725 non-null    float64\n",
      " 26  event_source.hash                         725 non-null    object \n",
      " 27  BB_Categorical                            989 non-null    object \n",
      " 28  BB_Scaled                                 989 non-null    float64\n",
      " 29  BB_Package                                1352 non-null   object \n",
      " 30  TARIFF_NAME                               1352 non-null   object \n",
      " 31  BB_Medium                                 1352 non-null   object \n",
      " 32  Location_Identifier                       1352 non-null   object \n",
      " 33  GENDER                                    1060 non-null   object \n",
      " 34  BIRTH_YEAR                                1060 non-null   float64\n",
      " 35  AGE                                       1060 non-null   float64\n",
      " 36  ONNET_Overall_Categorical                 1337 non-null   object \n",
      " 37  OFFNET_Overall_Categorical                1352 non-null   object \n",
      " 38  IDD_Overall_Categorical                   710 non-null    object \n",
      " 39  VOICE_Categorical                         1322 non-null   object \n",
      " 40  Subscription                              303 non-null    object \n",
      " 41  Sub_Type                                  1352 non-null   object \n",
      " 42  Sub_Usage                                 1352 non-null   object \n",
      " 43  Sub_Type_State                            1352 non-null   object \n",
      " 44  Megaline_Package                          1352 non-null   object \n",
      " 45  Megaline_Month_Subscribed                 1352 non-null   object \n",
      " 46  Megaline_Rental                           1352 non-null   object \n",
      " 47  Megaline_One_Time_Charge                  1352 non-null   object \n",
      " 48  Package_Type                              1352 non-null   object \n",
      " 49  FTTH_Package                              81 non-null     object \n",
      " 50  FTTH_Month_Subscribed                     81 non-null     object \n",
      " 51  FTTH_Rental                               81 non-null     object \n",
      " 52  FTTH_One_Time_Charge                      81 non-null     object \n",
      " 53  VAS_Package                               585 non-null    object \n",
      " 54  VAS_Month_Subscribed                      585 non-null    object \n",
      " 55  VAS_Rental                                585 non-null    object \n",
      " 56  VAS_One_Time_Charge                       585 non-null    object \n",
      " 57  Product_Type                              585 non-null    object \n",
      " 58  MEDIUM                                    1308 non-null   object \n",
      " 59  Sub_Update_Date                           300 non-null    object \n",
      " 60  Sub_Update_Status                         300 non-null    object \n",
      " 61  Sub_Update                                300 non-null    object \n",
      " 62  BB_Extra_GB_Usage_Times                   1270 non-null   float64\n",
      " 63  BB_Extra_GB_Month_vs_Rental               1270 non-null   object \n",
      " 64  BB_Extra_GB_Purchased_Scaled              1270 non-null   float64\n",
      " 65  BB_Extra_GB_Purchase_Categorical          1270 non-null   object \n",
      " 66  BB_Extra_GB_Amount                        461 non-null    float64\n",
      " 67  Peo_Extra_Channels_Cumulative_Rental      35 non-null     float64\n",
      " 68  Peo_Extra_Channels_Month_vs_Rental        35 non-null     object \n",
      " 69  Peo_Extra_Channels_Purchased_Scaled       35 non-null     float64\n",
      " 70  Peo_Extra_Channels_Purchased_Categorical  35 non-null     object \n",
      " 71  Having_Insurance                          212 non-null    object \n",
      " 72  Having_Senior_Citizen_Scaled              1352 non-null   float64\n",
      " 73  Having_Senior_Citizen                     232 non-null    object \n",
      " 74  Having_Kids_at_Home_Scaled                1352 non-null   float64\n",
      " 75  Having_Kids_at_Home                       204 non-null    object \n",
      " 76  SMEs_Scaled                               1352 non-null   float64\n",
      " 77  SMEs                                      26 non-null     object \n",
      " 78  Having_Teenagers_Students_Scaled          1352 non-null   float64\n",
      " 79  Having_Teenagers_Students                 254 non-null    object \n",
      " 80  Having_Working_Professionals_Scaled       1352 non-null   float64\n",
      " 81  Having_Working_Professionals              350 non-null    object \n",
      " 82  Having_Family_Member_Abroad_Scaled        1352 non-null   float64\n",
      " 83  Having_Family_Member_Abroad               424 non-null    object \n",
      " 84  Tamil_Customer                            104 non-null    object \n",
      " 85  Peo_Packages_if_Senior_Citizen            1352 non-null   float64\n",
      " 86  Peo_Packages_if_Kids                      1352 non-null   float64\n",
      " 87  Peo_Packages_if_Teenager_Students         1352 non-null   float64\n",
      " 88  Peo_Package_if_Working_Professionals      1352 non-null   float64\n",
      " 89  BB_Package_if_Working_Professionals       1352 non-null   float64\n",
      " 90  BB_Packages_if_Teenager_Students          1352 non-null   float64\n",
      " 91  BB_Packages_if_SMEss                      1352 non-null   float64\n",
      " 92  VAS_if_Kids                               1352 non-null   float64\n",
      " 93  VAS_if_Teenager_Students                  1352 non-null   float64\n",
      " 94  VAS_if_Working_Professionals              1352 non-null   float64\n",
      " 95  IDD_if_Family_Member_Abroad               1352 non-null   float64\n",
      "dtypes: float64(33), object(63)\n",
      "memory usage: 1014.1+ KB\n"
     ]
    }
   ],
   "source": [
    "user_profile.info()"
   ]
  },
  {
   "cell_type": "code",
   "execution_count": 22,
   "metadata": {},
   "outputs": [],
   "source": [
    "user_df=user_profile.iloc[:,[0,2,4,6,7,9,10,12,13,15,16,17,19,20,22,28,29,30,31,32,33,41,44,48,49,53,57,61,62,64,66,71,72,74,76,78,80,82,84]]\n",
    "\n",
    "# user_df=user_profile.iloc[:,[0,,30,32,33,41,44,48,53,57,58,61,69,71,72,74,76,78,80,82,84]]"
   ]
  },
  {
   "cell_type": "code",
   "execution_count": 28,
   "metadata": {},
   "outputs": [
    {
     "name": "stdout",
     "output_type": "stream",
     "text": [
      "<class 'pandas.core.frame.DataFrame'>\n",
      "RangeIndex: 1352 entries, 0 to 1351\n",
      "Data columns (total 39 columns):\n",
      " #   Column                               Non-Null Count  Dtype  \n",
      "---  ------                               --------------  -----  \n",
      " 0   ACCOUNT_NUM.hash                     1352 non-null   object \n",
      " 1   OFFNET_INCOMING_Scaled               1352 non-null   float64\n",
      " 2   OFFNET_INCOMING_Outlier              1352 non-null   object \n",
      " 3   OFFNET_OUTGOING_Scaled               1352 non-null   float64\n",
      " 4   OFFNET_OUTGOING_Outlier              1352 non-null   object \n",
      " 5   ONNET_INCOMING_Scaled                1352 non-null   float64\n",
      " 6   ONNET_INCOMING_Outlier               1352 non-null   object \n",
      " 7   ONNET_OUTGOING_Scaled                1352 non-null   float64\n",
      " 8   ONNET_OUTGOING_Outlier               1352 non-null   object \n",
      " 9   IDD_INCOMING_Scaled                  1352 non-null   float64\n",
      " 10  IDD_INCOMING_Outlier                 1352 non-null   object \n",
      " 11  IDD_incoming_country                 1352 non-null   object \n",
      " 12  IDD_OUTGOING_Scaled                  1352 non-null   float64\n",
      " 13  IDD_OUTGOING_Outlier                 1352 non-null   object \n",
      " 14  IDD_outgoing_country                 1352 non-null   object \n",
      " 15  BB_Scaled                            1352 non-null   float64\n",
      " 16  BB_Package                           1352 non-null   object \n",
      " 17  TARIFF_NAME                          1352 non-null   object \n",
      " 18  BB_Medium                            1352 non-null   object \n",
      " 19  Location_Identifier                  1352 non-null   object \n",
      " 20  GENDER                               1352 non-null   object \n",
      " 21  Sub_Type                             1352 non-null   object \n",
      " 22  Megaline_Package                     1352 non-null   object \n",
      " 23  Package_Type                         1352 non-null   object \n",
      " 24  FTTH_Package                         1352 non-null   object \n",
      " 25  VAS_Package                          1352 non-null   object \n",
      " 26  Product_Type                         1352 non-null   object \n",
      " 27  Sub_Update                           1352 non-null   object \n",
      " 28  BB_Extra_GB_Usage_Times              1352 non-null   float64\n",
      " 29  BB_Extra_GB_Purchased_Scaled         1352 non-null   float64\n",
      " 30  BB_Extra_GB_Amount                   1352 non-null   float64\n",
      " 31  Having_Insurance                     1352 non-null   object \n",
      " 32  Having_Senior_Citizen_Scaled         1352 non-null   float64\n",
      " 33  Having_Kids_at_Home_Scaled           1352 non-null   float64\n",
      " 34  SMEs_Scaled                          1352 non-null   float64\n",
      " 35  Having_Teenagers_Students_Scaled     1352 non-null   float64\n",
      " 36  Having_Working_Professionals_Scaled  1352 non-null   float64\n",
      " 37  Having_Family_Member_Abroad_Scaled   1352 non-null   float64\n",
      " 38  Tamil_Customer                       1352 non-null   object \n",
      "dtypes: float64(16), object(23)\n",
      "memory usage: 412.1+ KB\n"
     ]
    }
   ],
   "source": [
    "user_df.info()"
   ]
  },
  {
   "cell_type": "markdown",
   "metadata": {},
   "source": [
    "### Handeling Null Values"
   ]
  },
  {
   "cell_type": "code",
   "execution_count": 24,
   "metadata": {},
   "outputs": [],
   "source": [
    "# Only for derived cols\n",
    "cat_cols = user_df.select_dtypes(include='object').columns\n",
    "user_df[cat_cols] = user_df[cat_cols].fillna(\"\")\n",
    "\n",
    "#voice_udf[scaled_cols] = voice_udf[scaled_cols].fillna(0)"
   ]
  },
  {
   "cell_type": "code",
   "execution_count": 26,
   "metadata": {},
   "outputs": [],
   "source": [
    "num_cols = [\"BB_Extra_GB_Amount\",\"BB_Extra_GB_Purchased_Scaled\",\"BB_Extra_GB_Usage_Times\",\"IDD_INCOMING_Scaled\",\"IDD_OUTGOING_Scaled\"]\n",
    "user_df[num_cols] = user_df[num_cols].fillna(0)"
   ]
  },
  {
   "cell_type": "code",
   "execution_count": 27,
   "metadata": {},
   "outputs": [
    {
     "name": "stderr",
     "output_type": "stream",
     "text": [
      "<ipython-input-27-227b85a655be>:4: SettingWithCopyWarning: \n",
      "A value is trying to be set on a copy of a slice from a DataFrame.\n",
      "Try using .loc[row_indexer,col_indexer] = value instead\n",
      "\n",
      "See the caveats in the documentation: https://pandas.pydata.org/pandas-docs/stable/user_guide/indexing.html#returning-a-view-versus-a-copy\n",
      "  user_df[col] = user_df[col].fillna(user_df[col].mean())\n"
     ]
    }
   ],
   "source": [
    "mean_cols =[\"BB_Scaled\",\"OFFNET_INCOMING_Scaled\",\"OFFNET_OUTGOING_Scaled\",\"ONNET_INCOMING_Scaled\",\"ONNET_OUTGOING_Scaled\"]\n",
    "\n",
    "for col in mean_cols:\n",
    "    user_df[col] = user_df[col].fillna(user_df[col].mean())"
   ]
  },
  {
   "cell_type": "code",
   "execution_count": 29,
   "metadata": {},
   "outputs": [],
   "source": [
    "user_df.to_csv(\"data/azure/BB_user_content.csv\")"
   ]
  },
  {
   "cell_type": "markdown",
   "metadata": {},
   "source": [
    "## Product (package) content"
   ]
  },
  {
   "cell_type": "code",
   "execution_count": 39,
   "metadata": {},
   "outputs": [],
   "source": [
    "product_profile = pd.read_csv(\"data/product_catalog/Product_Profile_Finalised_CSV.csv\")"
   ]
  },
  {
   "cell_type": "code",
   "execution_count": 40,
   "metadata": {},
   "outputs": [
    {
     "name": "stdout",
     "output_type": "stream",
     "text": [
      "<class 'pandas.core.frame.DataFrame'>\n",
      "RangeIndex: 263 entries, 0 to 262\n",
      "Data columns (total 20 columns):\n",
      " #   Column               Non-Null Count  Dtype  \n",
      "---  ------               --------------  -----  \n",
      " 0   Product_ID           263 non-null    object \n",
      " 1   Base_Type            241 non-null    object \n",
      " 2   Pricing_Type         134 non-null    object \n",
      " 3   Package_Type         134 non-null    object \n",
      " 4   Title                134 non-null    object \n",
      " 5   Description          47 non-null     object \n",
      " 6   BB_Data_Standard     43 non-null     float64\n",
      " 7   BB_Data_Free         43 non-null     float64\n",
      " 8   BB_Data_Anytime      32 non-null     float64\n",
      " 9   BB_Data_Unlimited    11 non-null     object \n",
      " 10  BB_Connection_Type   86 non-null     object \n",
      " 11  BB_Connection_Speed  89 non-null     object \n",
      " 12  Price                133 non-null    object \n",
      " 13  Monthly_Rental       141 non-null    float64\n",
      " 14  Subscription_Type    151 non-null    object \n",
      " 15  Recidence_Type       134 non-null    object \n",
      " 16  Tax_Status           131 non-null    object \n",
      " 17  Conditions           131 non-null    object \n",
      " 18  Transfer_Medium      19 non-null     object \n",
      " 19  TARIFF_NAME          22 non-null     object \n",
      "dtypes: float64(4), object(16)\n",
      "memory usage: 41.2+ KB\n"
     ]
    }
   ],
   "source": [
    "product_df=product_profile.iloc[:,[0,1,2,3,5,6,7,8,9,10,11,12,14,15,35,37,38,39,42,43]]\n",
    "product_df.info()"
   ]
  },
  {
   "cell_type": "code",
   "execution_count": 41,
   "metadata": {},
   "outputs": [],
   "source": [
    "temp_package_df=rating_df[\"package\"]"
   ]
  },
  {
   "cell_type": "code",
   "execution_count": 42,
   "metadata": {},
   "outputs": [],
   "source": [
    "def drop_bb(col):\n",
    "    if not isinstance(col,float):\n",
    "        return  col.replace(\"BB\",\"\").replace(\"_\",\" \").replace(\"Fibre\",\"\").replace(\"Higher Education\",\"Student Package\").replace(\"4G\",\"\").replace(\"ADSL\",\"\").replace(\"1Gbps\",\"\").replace(\"25\",\"\").replace(\"5\",\"\").replace(f\" {col[1]}\",f\"{col[1]}\").replace(f\"{col[-2]} \",f\"{col[-2]}\")"
   ]
  },
  {
   "cell_type": "code",
   "execution_count": 43,
   "metadata": {},
   "outputs": [
    {
     "name": "stderr",
     "output_type": "stream",
     "text": [
      "<ipython-input-43-66eea549b775>:2: SettingWithCopyWarning: \n",
      "A value is trying to be set on a copy of a slice from a DataFrame.\n",
      "Try using .loc[row_indexer,col_indexer] = value instead\n",
      "\n",
      "See the caveats in the documentation: https://pandas.pydata.org/pandas-docs/stable/user_guide/indexing.html#returning-a-view-versus-a-copy\n",
      "  product_df[\"Product_ID\"] = product_df[\"Product_ID\"].apply(lambda x: drop_bb(x))\n"
     ]
    }
   ],
   "source": [
    "for i in range(0,10):\n",
    "    product_df[\"Product_ID\"] = product_df[\"Product_ID\"].apply(lambda x: drop_bb(x))"
   ]
  },
  {
   "cell_type": "code",
   "execution_count": 44,
   "metadata": {},
   "outputs": [],
   "source": [
    "bb_products_df = product_df.merge(temp_package_df.drop_duplicates(), left_on=['Product_ID'], right_on=['package'] ,\n",
    "                   how='left', indicator=True)"
   ]
  },
  {
   "cell_type": "code",
   "execution_count": 45,
   "metadata": {},
   "outputs": [],
   "source": [
    "bbp_df = bb_products_df[(bb_products_df[\"_merge\"]==\"both\")]"
   ]
  },
  {
   "cell_type": "code",
   "execution_count": 46,
   "metadata": {},
   "outputs": [
    {
     "name": "stderr",
     "output_type": "stream",
     "text": [
      "C:\\ProgramData\\Anaconda3\\lib\\site-packages\\pandas\\core\\frame.py:4308: SettingWithCopyWarning: \n",
      "A value is trying to be set on a copy of a slice from a DataFrame\n",
      "\n",
      "See the caveats in the documentation: https://pandas.pydata.org/pandas-docs/stable/user_guide/indexing.html#returning-a-view-versus-a-copy\n",
      "  return super().drop(\n",
      "C:\\ProgramData\\Anaconda3\\lib\\site-packages\\pandas\\core\\frame.py:4441: SettingWithCopyWarning: \n",
      "A value is trying to be set on a copy of a slice from a DataFrame\n",
      "\n",
      "See the caveats in the documentation: https://pandas.pydata.org/pandas-docs/stable/user_guide/indexing.html#returning-a-view-versus-a-copy\n",
      "  return super().rename(\n"
     ]
    }
   ],
   "source": [
    "bbp_df.drop([\"package\",\"_merge\"],axis=1,inplace=True)\n",
    "bbp_df.rename(columns={'Product_ID':'package'},inplace=True)\n",
    "bbp_df.reset_index(drop=True, inplace=True)"
   ]
  },
  {
   "cell_type": "code",
   "execution_count": 47,
   "metadata": {},
   "outputs": [],
   "source": [
    "cols =[\"BB_Data_Standard\",\"BB_Data_Free\",\"BB_Data_Anytime\",\"BB_Data_Unlimited\"]"
   ]
  },
  {
   "cell_type": "code",
   "execution_count": 48,
   "metadata": {},
   "outputs": [],
   "source": [
    "bbp_df[cols] = bbp_df[cols].fillna(0)"
   ]
  },
  {
   "cell_type": "code",
   "execution_count": 49,
   "metadata": {},
   "outputs": [
    {
     "name": "stderr",
     "output_type": "stream",
     "text": [
      "<ipython-input-49-9cecf65fd4bb>:3: SettingWithCopyWarning: \n",
      "A value is trying to be set on a copy of a slice from a DataFrame.\n",
      "Try using .loc[row_indexer,col_indexer] = value instead\n",
      "\n",
      "See the caveats in the documentation: https://pandas.pydata.org/pandas-docs/stable/user_guide/indexing.html#returning-a-view-versus-a-copy\n",
      "  bbp_df[col] = scaler.fit_transform(bbp_df[col].values.reshape(-1,1))\n",
      "<ipython-input-49-9cecf65fd4bb>:3: SettingWithCopyWarning: \n",
      "A value is trying to be set on a copy of a slice from a DataFrame.\n",
      "Try using .loc[row_indexer,col_indexer] = value instead\n",
      "\n",
      "See the caveats in the documentation: https://pandas.pydata.org/pandas-docs/stable/user_guide/indexing.html#returning-a-view-versus-a-copy\n",
      "  bbp_df[col] = scaler.fit_transform(bbp_df[col].values.reshape(-1,1))\n",
      "<ipython-input-49-9cecf65fd4bb>:3: SettingWithCopyWarning: \n",
      "A value is trying to be set on a copy of a slice from a DataFrame.\n",
      "Try using .loc[row_indexer,col_indexer] = value instead\n",
      "\n",
      "See the caveats in the documentation: https://pandas.pydata.org/pandas-docs/stable/user_guide/indexing.html#returning-a-view-versus-a-copy\n",
      "  bbp_df[col] = scaler.fit_transform(bbp_df[col].values.reshape(-1,1))\n",
      "<ipython-input-49-9cecf65fd4bb>:3: SettingWithCopyWarning: \n",
      "A value is trying to be set on a copy of a slice from a DataFrame.\n",
      "Try using .loc[row_indexer,col_indexer] = value instead\n",
      "\n",
      "See the caveats in the documentation: https://pandas.pydata.org/pandas-docs/stable/user_guide/indexing.html#returning-a-view-versus-a-copy\n",
      "  bbp_df[col] = scaler.fit_transform(bbp_df[col].values.reshape(-1,1))\n"
     ]
    }
   ],
   "source": [
    "scaler = MinMaxScaler()\n",
    "for col in cols:\n",
    "    bbp_df[col] = scaler.fit_transform(bbp_df[col].values.reshape(-1,1))"
   ]
  },
  {
   "cell_type": "code",
   "execution_count": 50,
   "metadata": {},
   "outputs": [
    {
     "name": "stderr",
     "output_type": "stream",
     "text": [
      "<ipython-input-50-38941e6fe141>:2: SettingWithCopyWarning: \n",
      "A value is trying to be set on a copy of a slice from a DataFrame\n",
      "\n",
      "See the caveats in the documentation: https://pandas.pydata.org/pandas-docs/stable/user_guide/indexing.html#returning-a-view-versus-a-copy\n",
      "  bbp_df.dropna(how=\"all\",axis=0,inplace=True)\n",
      "<ipython-input-50-38941e6fe141>:3: SettingWithCopyWarning: \n",
      "A value is trying to be set on a copy of a slice from a DataFrame\n",
      "\n",
      "See the caveats in the documentation: https://pandas.pydata.org/pandas-docs/stable/user_guide/indexing.html#returning-a-view-versus-a-copy\n",
      "  bbp_df.dropna(how=\"all\",axis=1,inplace=True)\n"
     ]
    }
   ],
   "source": [
    "# Droping due to all null\n",
    "bbp_df.dropna(how=\"all\",axis=0,inplace=True)\n",
    "bbp_df.dropna(how=\"all\",axis=1,inplace=True)"
   ]
  },
  {
   "cell_type": "code",
   "execution_count": 55,
   "metadata": {},
   "outputs": [
    {
     "name": "stdout",
     "output_type": "stream",
     "text": [
      "<class 'pandas.core.frame.DataFrame'>\n",
      "Int64Index: 31 entries, 0 to 30\n",
      "Data columns (total 17 columns):\n",
      " #   Column               Non-Null Count  Dtype  \n",
      "---  ------               --------------  -----  \n",
      " 0   package              31 non-null     object \n",
      " 1   Base_Type            31 non-null     object \n",
      " 2   Pricing_Type         31 non-null     object \n",
      " 3   Package_Type         31 non-null     object \n",
      " 4   Title                31 non-null     object \n",
      " 5   BB_Data_Standard     31 non-null     float64\n",
      " 6   BB_Data_Free         31 non-null     float64\n",
      " 7   BB_Data_Anytime      31 non-null     float64\n",
      " 8   BB_Data_Unlimited    31 non-null     float64\n",
      " 9   BB_Connection_Type   31 non-null     object \n",
      " 10  BB_Connection_Speed  31 non-null     object \n",
      " 11  Price                31 non-null     object \n",
      " 12  Monthly_Rental       31 non-null     float64\n",
      " 13  Subscription_Type    31 non-null     object \n",
      " 14  Recidence_Type       31 non-null     object \n",
      " 15  Tax_Status           31 non-null     object \n",
      " 16  Conditions           31 non-null     object \n",
      "dtypes: float64(5), object(12)\n",
      "memory usage: 4.4+ KB\n"
     ]
    }
   ],
   "source": [
    "bbp_df.info()"
   ]
  },
  {
   "cell_type": "code",
   "execution_count": 56,
   "metadata": {},
   "outputs": [],
   "source": [
    "bbp_df.to_csv(\"data/azure/BB_package_content.csv\")"
   ]
  },
  {
   "cell_type": "code",
   "execution_count": null,
   "metadata": {},
   "outputs": [],
   "source": []
  }
 ],
 "metadata": {
  "kernelspec": {
   "display_name": "Python 3",
   "language": "python",
   "name": "python3"
  },
  "language_info": {
   "codemirror_mode": {
    "name": "ipython",
    "version": 3
   },
   "file_extension": ".py",
   "mimetype": "text/x-python",
   "name": "python",
   "nbconvert_exporter": "python",
   "pygments_lexer": "ipython3",
   "version": "3.8.8"
  }
 },
 "nbformat": 4,
 "nbformat_minor": 4
}
