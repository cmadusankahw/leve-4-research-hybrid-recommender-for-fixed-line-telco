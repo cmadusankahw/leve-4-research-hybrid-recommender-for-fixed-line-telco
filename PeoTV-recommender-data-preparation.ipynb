{
 "cells": [
  {
   "cell_type": "code",
   "execution_count": 1,
   "metadata": {},
   "outputs": [],
   "source": [
    "# import libraries\n",
    "import numpy as np\n",
    "import pandas as pd\n",
    "import seaborn as sns\n",
    "import matplotlib.pyplot as plt\n",
    "from sklearn.preprocessing import MinMaxScaler"
   ]
  },
  {
   "cell_type": "code",
   "execution_count": 2,
   "metadata": {},
   "outputs": [],
   "source": [
    "user_profile = pd.read_csv(\"data/user_profile/prepared/User_Profile.csv\")"
   ]
  },
  {
   "cell_type": "code",
   "execution_count": 3,
   "metadata": {},
   "outputs": [],
   "source": [
    "user_profile.drop([\"Unnamed: 0\"],axis=1,inplace=True)"
   ]
  },
  {
   "cell_type": "code",
   "execution_count": 4,
   "metadata": {},
   "outputs": [],
   "source": [
    "user_profile = user_profile[(user_profile[\"Peo_TV_Package\"].notna())]\n",
    "user_profile.reset_index(drop=True, inplace=True)"
   ]
  },
  {
   "cell_type": "code",
   "execution_count": 5,
   "metadata": {},
   "outputs": [
    {
     "name": "stdout",
     "output_type": "stream",
     "text": [
      "<class 'pandas.core.frame.DataFrame'>\n",
      "RangeIndex: 1142 entries, 0 to 1141\n",
      "Data columns (total 86 columns):\n",
      " #   Column                                    Non-Null Count  Dtype  \n",
      "---  ------                                    --------------  -----  \n",
      " 0   ACCOUNT_NUM.hash                          1142 non-null   object \n",
      " 1   CUSTOMER_REF.hash                         1142 non-null   object \n",
      " 2   OFFNET_INCOMING_Scaled                    1142 non-null   float64\n",
      " 3   OFFNET_INCOMING_Categorical               1142 non-null   object \n",
      " 4   OFFNET_INCOMING_Outlier                   1142 non-null   object \n",
      " 5   OFFNET_OUTGOING_Categorical               1114 non-null   object \n",
      " 6   OFFNET_OUTGOING_Scaled                    1114 non-null   float64\n",
      " 7   OFFNET_OUTGOING_Outlier                   1114 non-null   object \n",
      " 8   ONNET_INCOMING_Categorical                1107 non-null   object \n",
      " 9   ONNET_INCOMING_Scaled                     1107 non-null   float64\n",
      " 10  ONNET_INCOMING_Outlier                    1107 non-null   object \n",
      " 11  ONNET_OUTGOING_Categorical                1118 non-null   object \n",
      " 12  ONNET_OUTGOING_Scaled                     1118 non-null   float64\n",
      " 13  ONNET_OUTGOING_Outlier                    1118 non-null   object \n",
      " 14  IDD_INCOMING_Categorical                  548 non-null    object \n",
      " 15  IDD_INCOMING_Scaled                       548 non-null    float64\n",
      " 16  IDD_INCOMING_Outlier                      548 non-null    object \n",
      " 17  IDD_incoming_country                      548 non-null    object \n",
      " 18  IDD_OUTGOING_Categorical                  164 non-null    object \n",
      " 19  IDD_OUTGOING_Scaled                       164 non-null    float64\n",
      " 20  IDD_OUTGOING_Outlier                      164 non-null    object \n",
      " 21  IDD_outgoing_Cumulative_Revenue           164 non-null    float64\n",
      " 22  IDD_outgoing_country                      164 non-null    object \n",
      " 23  Peo_TV_Package                            1142 non-null   object \n",
      " 24  PEO_TV_Categorical                        1142 non-null   object \n",
      " 25  PEO_TV_Scaled                             1142 non-null   float64\n",
      " 26  event_source.hash                         1142 non-null   object \n",
      " 27  BB_Categorical                            657 non-null    object \n",
      " 28  BB_Scaled                                 657 non-null    float64\n",
      " 29  Location_Identifier                       1142 non-null   object \n",
      " 30  GENDER                                    971 non-null    object \n",
      " 31  BIRTH_YEAR                                971 non-null    float64\n",
      " 32  AGE                                       971 non-null    float64\n",
      " 33  ONNET_Overall_Categorical                 1128 non-null   object \n",
      " 34  OFFNET_Overall_Categorical                1142 non-null   object \n",
      " 35  IDD_Overall_Categorical                   565 non-null    object \n",
      " 36  VOICE_Categorical                         1118 non-null   object \n",
      " 37  Subscription                              372 non-null    object \n",
      " 38  Sub_Type                                  1142 non-null   object \n",
      " 39  Sub_Usage                                 1142 non-null   object \n",
      " 40  Sub_Type_State                            1142 non-null   object \n",
      " 41  Megaline_Package                          1130 non-null   object \n",
      " 42  Megaline_Month_Subscribed                 1130 non-null   object \n",
      " 43  Megaline_Rental                           1130 non-null   object \n",
      " 44  Megaline_One_Time_Charge                  1130 non-null   object \n",
      " 45  Package_Type                              1136 non-null   object \n",
      " 46  MEDIUM                                    1130 non-null   object \n",
      " 47  FTTH_Package                              7 non-null      object \n",
      " 48  FTTH_Month_Subscribed                     7 non-null      object \n",
      " 49  FTTH_Rental                               7 non-null      object \n",
      " 50  FTTH_One_Time_Charge                      7 non-null      object \n",
      " 51  VAS_Package                               896 non-null    object \n",
      " 52  VAS_Month_Subscribed                      896 non-null    object \n",
      " 53  VAS_Rental                                896 non-null    object \n",
      " 54  VAS_One_Time_Charge                       896 non-null    object \n",
      " 55  Sub_Update_Date                           368 non-null    object \n",
      " 56  Sub_Update_Status                         368 non-null    object \n",
      " 57  Sub_Update                                368 non-null    object \n",
      " 58  BB_Extra_GB_Usage_Times                   740 non-null    float64\n",
      " 59  BB_Extra_GB_Month_vs_Rental               740 non-null    object \n",
      " 60  BB_Extra_GB_Purchased_Scaled              740 non-null    float64\n",
      " 61  BB_Extra_GB_Purchase_Categorical          740 non-null    object \n",
      " 62  Peo_Extra_Channels_Cumulative_Rental      32 non-null     float64\n",
      " 63  Peo_Extra_Channels_Month_vs_Rental        32 non-null     object \n",
      " 64  Peo_Extra_Channels_Purchased_Scaled       32 non-null     float64\n",
      " 65  Peo_Extra_Channels_Purchased_Categorical  32 non-null     object \n",
      " 66  Having_Insurance                          222 non-null    object \n",
      " 67  Having_Senior_Citizen_Scaled              1142 non-null   float64\n",
      " 68  Having_Senior_Citizen                     247 non-null    object \n",
      " 69  Having_Kids_at_Home_Scaled                1142 non-null   float64\n",
      " 70  Having_Kids_at_Home                       215 non-null    object \n",
      " 71  Having_Teenagers_Students_Scaled          1142 non-null   float64\n",
      " 72  Having_Teenagers_Students                 226 non-null    object \n",
      " 73  Having_Working_Professionals_Scaled       1142 non-null   float64\n",
      " 74  Having_Working_Professionals              374 non-null    object \n",
      " 75  Having_Family_Member_Abroad_Scaled        1142 non-null   float64\n",
      " 76  Having_Family_Member_Abroad               310 non-null    object \n",
      " 77  Tamil_Customer                            190 non-null    object \n",
      " 78  Peo_Packages_if_Senior_Citizen            1142 non-null   float64\n",
      " 79  Peo_Packages_if_Kids                      1142 non-null   float64\n",
      " 80  Peo_Packages_if_Teenager_Students         1142 non-null   float64\n",
      " 81  Peo_Package_if_Working_Professionals      1142 non-null   float64\n",
      " 82  VAS_if_Kids                               1142 non-null   float64\n",
      " 83  VAS_if_Teenager_Students                  1142 non-null   float64\n",
      " 84  VAS_if_Working_Professionals              1142 non-null   float64\n",
      " 85  IDD_if_Family_Member_Abroad               1142 non-null   float64\n",
      "dtypes: float64(28), object(58)\n",
      "memory usage: 767.4+ KB\n"
     ]
    }
   ],
   "source": [
    "user_profile.info()"
   ]
  },
  {
   "cell_type": "markdown",
   "metadata": {},
   "source": [
    "## User - package ratings"
   ]
  },
  {
   "cell_type": "code",
   "execution_count": 10,
   "metadata": {},
   "outputs": [
    {
     "name": "stderr",
     "output_type": "stream",
     "text": [
      "/home/chiran/anaconda3/lib/python3.8/site-packages/pandas/core/frame.py:4296: SettingWithCopyWarning: \n",
      "A value is trying to be set on a copy of a slice from a DataFrame\n",
      "\n",
      "See the caveats in the documentation: https://pandas.pydata.org/pandas-docs/stable/user_guide/indexing.html#returning-a-view-versus-a-copy\n",
      "  return super().rename(\n"
     ]
    }
   ],
   "source": [
    "rating_df=user_profile.iloc[:,[0,23,25]]\n",
    "rating_df.rename(columns={'PEO_TV_Scaled':'ratings','Peo_TV_Package':'package'},inplace=True)"
   ]
  },
  {
   "cell_type": "code",
   "execution_count": 11,
   "metadata": {},
   "outputs": [
    {
     "data": {
      "text/html": [
       "<div>\n",
       "<style scoped>\n",
       "    .dataframe tbody tr th:only-of-type {\n",
       "        vertical-align: middle;\n",
       "    }\n",
       "\n",
       "    .dataframe tbody tr th {\n",
       "        vertical-align: top;\n",
       "    }\n",
       "\n",
       "    .dataframe thead th {\n",
       "        text-align: right;\n",
       "    }\n",
       "</style>\n",
       "<table border=\"1\" class=\"dataframe\">\n",
       "  <thead>\n",
       "    <tr style=\"text-align: right;\">\n",
       "      <th></th>\n",
       "      <th>ACCOUNT_NUM.hash</th>\n",
       "      <th>package</th>\n",
       "      <th>ratings</th>\n",
       "    </tr>\n",
       "  </thead>\n",
       "  <tbody>\n",
       "    <tr>\n",
       "      <th>0</th>\n",
       "      <td>a6f795fa3e3bf7daec81bd44a9d1b59f</td>\n",
       "      <td>PEO_ENTERTAINMENT</td>\n",
       "      <td>0.65000</td>\n",
       "    </tr>\n",
       "    <tr>\n",
       "      <th>1</th>\n",
       "      <td>729e0a0a75015a8908d0989386f4454e</td>\n",
       "      <td>PEO_SILVER</td>\n",
       "      <td>0.00000</td>\n",
       "    </tr>\n",
       "    <tr>\n",
       "      <th>2</th>\n",
       "      <td>9fb15a37e248fce31c7d0ed98aaaaaf1</td>\n",
       "      <td>PEO_SILVER</td>\n",
       "      <td>0.71250</td>\n",
       "    </tr>\n",
       "    <tr>\n",
       "      <th>3</th>\n",
       "      <td>0d4098a262a8bed6ac4253f42dfc5769</td>\n",
       "      <td>PEO_SILVER</td>\n",
       "      <td>0.49375</td>\n",
       "    </tr>\n",
       "    <tr>\n",
       "      <th>4</th>\n",
       "      <td>fac45c3800fe3b9a28cc124f692a9f4a</td>\n",
       "      <td>PEO_SILVER</td>\n",
       "      <td>0.86875</td>\n",
       "    </tr>\n",
       "    <tr>\n",
       "      <th>...</th>\n",
       "      <td>...</td>\n",
       "      <td>...</td>\n",
       "      <td>...</td>\n",
       "    </tr>\n",
       "    <tr>\n",
       "      <th>1137</th>\n",
       "      <td>dbbb4011c6cc809850aa01f8ff5fe922</td>\n",
       "      <td>PEO_SILVER</td>\n",
       "      <td>0.76875</td>\n",
       "    </tr>\n",
       "    <tr>\n",
       "      <th>1138</th>\n",
       "      <td>7db2aa38214037279601a314071d1972</td>\n",
       "      <td>PRANAMA</td>\n",
       "      <td>0.77500</td>\n",
       "    </tr>\n",
       "    <tr>\n",
       "      <th>1139</th>\n",
       "      <td>f5934060d1b7b0a329df4d29242225b8</td>\n",
       "      <td>PEO_SILVER</td>\n",
       "      <td>0.95000</td>\n",
       "    </tr>\n",
       "    <tr>\n",
       "      <th>1140</th>\n",
       "      <td>89fc7c615b7a6c4baefb1cb9b4555d7b</td>\n",
       "      <td>PEO_SILVER</td>\n",
       "      <td>0.00000</td>\n",
       "    </tr>\n",
       "    <tr>\n",
       "      <th>1141</th>\n",
       "      <td>42ed358740d41f10352fd59f4a76e5ca</td>\n",
       "      <td>PEO_SILVER</td>\n",
       "      <td>0.71250</td>\n",
       "    </tr>\n",
       "  </tbody>\n",
       "</table>\n",
       "<p>1142 rows × 3 columns</p>\n",
       "</div>"
      ],
      "text/plain": [
       "                      ACCOUNT_NUM.hash            package  ratings\n",
       "0     a6f795fa3e3bf7daec81bd44a9d1b59f  PEO_ENTERTAINMENT  0.65000\n",
       "1     729e0a0a75015a8908d0989386f4454e         PEO_SILVER  0.00000\n",
       "2     9fb15a37e248fce31c7d0ed98aaaaaf1         PEO_SILVER  0.71250\n",
       "3     0d4098a262a8bed6ac4253f42dfc5769         PEO_SILVER  0.49375\n",
       "4     fac45c3800fe3b9a28cc124f692a9f4a         PEO_SILVER  0.86875\n",
       "...                                ...                ...      ...\n",
       "1137  dbbb4011c6cc809850aa01f8ff5fe922         PEO_SILVER  0.76875\n",
       "1138  7db2aa38214037279601a314071d1972            PRANAMA  0.77500\n",
       "1139  f5934060d1b7b0a329df4d29242225b8         PEO_SILVER  0.95000\n",
       "1140  89fc7c615b7a6c4baefb1cb9b4555d7b         PEO_SILVER  0.00000\n",
       "1141  42ed358740d41f10352fd59f4a76e5ca         PEO_SILVER  0.71250\n",
       "\n",
       "[1142 rows x 3 columns]"
      ]
     },
     "execution_count": 11,
     "metadata": {},
     "output_type": "execute_result"
    }
   ],
   "source": [
    "rating_df"
   ]
  },
  {
   "cell_type": "code",
   "execution_count": 12,
   "metadata": {},
   "outputs": [
    {
     "name": "stdout",
     "output_type": "stream",
     "text": [
      "<class 'pandas.core.frame.DataFrame'>\n",
      "RangeIndex: 1142 entries, 0 to 1141\n",
      "Data columns (total 3 columns):\n",
      " #   Column            Non-Null Count  Dtype  \n",
      "---  ------            --------------  -----  \n",
      " 0   ACCOUNT_NUM.hash  1142 non-null   object \n",
      " 1   package           1142 non-null   object \n",
      " 2   ratings           1142 non-null   float64\n",
      "dtypes: float64(1), object(2)\n",
      "memory usage: 26.9+ KB\n"
     ]
    }
   ],
   "source": [
    "rating_df.info()"
   ]
  },
  {
   "cell_type": "code",
   "execution_count": 13,
   "metadata": {},
   "outputs": [],
   "source": [
    "rating_df.to_csv(\"data/azure/peoTV_user_ratings.csv\")"
   ]
  },
  {
   "cell_type": "markdown",
   "metadata": {},
   "source": [
    "## User content"
   ]
  },
  {
   "cell_type": "code",
   "execution_count": 15,
   "metadata": {},
   "outputs": [
    {
     "name": "stdout",
     "output_type": "stream",
     "text": [
      "<class 'pandas.core.frame.DataFrame'>\n",
      "RangeIndex: 1249 entries, 0 to 1248\n",
      "Data columns (total 76 columns):\n",
      " #   Column                               Non-Null Count  Dtype  \n",
      "---  ------                               --------------  -----  \n",
      " 0   event_source.hash                    1249 non-null   object \n",
      " 1   ACCOUNT_NUM.hash                     1249 non-null   object \n",
      " 2   CUSTOMER_REF.hash                    1249 non-null   object \n",
      " 3   ONNET_OUTGOING_Categorical           1190 non-null   object \n",
      " 4   ONNET_OUTGOING_Scaled                1190 non-null   float64\n",
      " 5   ONNET_OUTGOING_Outlier               1190 non-null   object \n",
      " 6   ONNET_INCOMING_Categorical           1164 non-null   object \n",
      " 7   ONNET_INCOMING_Scaled                1164 non-null   float64\n",
      " 8   ONNET_INCOMING_Outlier               1164 non-null   object \n",
      " 9   OFFNET_OUTGOING_Categorical          1173 non-null   object \n",
      " 10  OFFNET_OUTGOING_Scaled               1173 non-null   float64\n",
      " 11  OFFNET_OUTGOING_Outlier              1173 non-null   object \n",
      " 12  OFFNET_INCOMING_Categorical          1197 non-null   object \n",
      " 13  OFFNET_INCOMING_Scaled               1197 non-null   float64\n",
      " 14  OFFNET_INCOMING_Outlier              1197 non-null   object \n",
      " 15  IDD_INCOMING_Categorical             578 non-null    object \n",
      " 16  IDD_INCOMING_Scaled                  578 non-null    float64\n",
      " 17  IDD_INCOMING_Outlier                 578 non-null    object \n",
      " 18  IDD_incoming_country                 578 non-null    object \n",
      " 19  IDD_OUTGOING_Categorical             168 non-null    object \n",
      " 20  IDD_OUTGOING_Scaled                  168 non-null    float64\n",
      " 21  IDD_OUTGOING_Outlier                 168 non-null    object \n",
      " 22  IDD_outgoing_Cumulative_Revenue      168 non-null    float64\n",
      " 23  IDD_outgoing_country                 168 non-null    object \n",
      " 24  Peo_TV_Package                       1249 non-null   object \n",
      " 25  PEO_TV_Categorical                   1249 non-null   object \n",
      " 26  PEO_TV_Scaled                        1249 non-null   float64\n",
      " 27  BB_Categorical                       709 non-null    object \n",
      " 28  BB_Scaled                            709 non-null    float64\n",
      " 29  Location_Identifier                  1190 non-null   object \n",
      " 30  GENDER                               1056 non-null   object \n",
      " 31  BIRTH_YEAR                           1056 non-null   float64\n",
      " 32  AGE                                  1056 non-null   float64\n",
      " 33  ONNET_Overall_Categorical            1201 non-null   object \n",
      " 34  OFFNET_Overall_Categorical           1202 non-null   object \n",
      " 35  IDD_Overall_Categorical              595 non-null    object \n",
      " 36  VOICE_Categorical                    1176 non-null   object \n",
      " 37  Subscription                         437 non-null    object \n",
      " 38  Sub_Type                             1249 non-null   object \n",
      " 39  Sub_Usage                            1249 non-null   object \n",
      " 40  Sub_Type_State                       1249 non-null   object \n",
      " 41  Voice_VAS_Package                    629 non-null    object \n",
      " 42  Voice_VAS_Month_Subscribed           629 non-null    object \n",
      " 43  Voice_VAS_Rental                     629 non-null    object \n",
      " 44  Voice_VAS_One_Time_Charge            629 non-null    object \n",
      " 45  BB_VAS_Package                       36 non-null     object \n",
      " 46  BB_VAS_Month_Subscribed              36 non-null     object \n",
      " 47  BB_VAS_Rental                        36 non-null     object \n",
      " 48  BB_VAS_One_Time_Charge               36 non-null     object \n",
      " 49  Peo_VAS_Package                      437 non-null    object \n",
      " 50  Peo_VAS_Month_Subscribed             437 non-null    object \n",
      " 51  Peo_VAS_Rental                       437 non-null    object \n",
      " 52  Peo_VAS_One_Time_Charge              437 non-null    object \n",
      " 53  Other_VAS_Package                    644 non-null    object \n",
      " 54  Other_VAS_Month_Subscribed           644 non-null    object \n",
      " 55  Other_VAS_Rental                     644 non-null    object \n",
      " 56  Other_VAS_One_Time_Charge            644 non-null    object \n",
      " 57  Sub_Update_Date                      431 non-null    object \n",
      " 58  Sub_Update_Status                    431 non-null    object \n",
      " 59  Sub_Update                           431 non-null    object \n",
      " 60  BB_Extra_GB_Purchased_Times          14 non-null     float64\n",
      " 61  BB_Extra_GB_Month_vs_Rental          14 non-null     object \n",
      " 62  BB_Extra_GB_Purchased_Scaled         14 non-null     float64\n",
      " 63  BB_Extra_GB_Purchase_Categorical     14 non-null     object \n",
      " 64  Having_Insurance                     168 non-null    object \n",
      " 65  Having_Senior_Citizen_Scaled         1249 non-null   float64\n",
      " 66  Having_Senior_Citizen                195 non-null    object \n",
      " 67  Having_Kids_at_Home_Scaled           1249 non-null   float64\n",
      " 68  Having_Kids_at_Home                  218 non-null    object \n",
      " 69  Having_Teenagers_Students_Scaled     1249 non-null   float64\n",
      " 70  Having_Teenagers_Students            142 non-null    object \n",
      " 71  Having_Working_Professionals_Scaled  1249 non-null   float64\n",
      " 72  Having_Working_Professionals         86 non-null     object \n",
      " 73  Having_Family_Member_Abroad_Scaled   1249 non-null   float64\n",
      " 74  Having_Family_Member_Abroad          324 non-null    object \n",
      " 75  Tamil_Customer                       204 non-null    object \n",
      "dtypes: float64(18), object(58)\n",
      "memory usage: 741.7+ KB\n"
     ]
    }
   ],
   "source": [
    "user_profile.info()"
   ]
  },
  {
   "cell_type": "code",
   "execution_count": 16,
   "metadata": {},
   "outputs": [],
   "source": [
    "user_df=user_profile.iloc[:,[0,29,38,39,30,32,41,49,53,58,59,64,65,67,69,71,73,75]]"
   ]
  },
  {
   "cell_type": "code",
   "execution_count": 17,
   "metadata": {},
   "outputs": [
    {
     "name": "stdout",
     "output_type": "stream",
     "text": [
      "<class 'pandas.core.frame.DataFrame'>\n",
      "RangeIndex: 1249 entries, 0 to 1248\n",
      "Data columns (total 18 columns):\n",
      " #   Column                               Non-Null Count  Dtype  \n",
      "---  ------                               --------------  -----  \n",
      " 0   event_source.hash                    1249 non-null   object \n",
      " 1   Location_Identifier                  1190 non-null   object \n",
      " 2   Sub_Type                             1249 non-null   object \n",
      " 3   Sub_Usage                            1249 non-null   object \n",
      " 4   GENDER                               1056 non-null   object \n",
      " 5   AGE                                  1056 non-null   float64\n",
      " 6   Voice_VAS_Package                    629 non-null    object \n",
      " 7   Peo_VAS_Package                      437 non-null    object \n",
      " 8   Other_VAS_Package                    644 non-null    object \n",
      " 9   Sub_Update_Status                    431 non-null    object \n",
      " 10  Sub_Update                           431 non-null    object \n",
      " 11  Having_Insurance                     168 non-null    object \n",
      " 12  Having_Senior_Citizen_Scaled         1249 non-null   float64\n",
      " 13  Having_Kids_at_Home_Scaled           1249 non-null   float64\n",
      " 14  Having_Teenagers_Students_Scaled     1249 non-null   float64\n",
      " 15  Having_Working_Professionals_Scaled  1249 non-null   float64\n",
      " 16  Having_Family_Member_Abroad_Scaled   1249 non-null   float64\n",
      " 17  Tamil_Customer                       204 non-null    object \n",
      "dtypes: float64(6), object(12)\n",
      "memory usage: 175.8+ KB\n"
     ]
    }
   ],
   "source": [
    "user_df.info()"
   ]
  },
  {
   "cell_type": "markdown",
   "metadata": {},
   "source": [
    "### Handeling Null Values"
   ]
  },
  {
   "cell_type": "code",
   "execution_count": 18,
   "metadata": {},
   "outputs": [
    {
     "name": "stderr",
     "output_type": "stream",
     "text": [
      "/home/chiran/anaconda3/lib/python3.8/site-packages/pandas/core/frame.py:3065: SettingWithCopyWarning: \n",
      "A value is trying to be set on a copy of a slice from a DataFrame.\n",
      "Try using .loc[row_indexer,col_indexer] = value instead\n",
      "\n",
      "See the caveats in the documentation: https://pandas.pydata.org/pandas-docs/stable/user_guide/indexing.html#returning-a-view-versus-a-copy\n",
      "  self[k1] = value[k2]\n"
     ]
    }
   ],
   "source": [
    "cat_cols = ['Tamil_Customer', 'Having_Insurance']\n",
    "\n",
    "user_df[cat_cols] = user_df[cat_cols].fillna(\"NO\")\n",
    "\n",
    "#voice_udf[scaled_cols] = voice_udf[scaled_cols].fillna(0)"
   ]
  },
  {
   "cell_type": "code",
   "execution_count": 19,
   "metadata": {},
   "outputs": [],
   "source": [
    "user_df.to_csv(\"data/azure/peoTV_user_content.csv\")"
   ]
  },
  {
   "cell_type": "markdown",
   "metadata": {},
   "source": [
    "## Product (package) content"
   ]
  },
  {
   "cell_type": "code",
   "execution_count": 20,
   "metadata": {},
   "outputs": [],
   "source": [
    "product_profile = pd.read_csv(\"data/product_catalog/Product_Profile_Finalised_CSV.csv\")"
   ]
  },
  {
   "cell_type": "code",
   "execution_count": 21,
   "metadata": {},
   "outputs": [
    {
     "name": "stdout",
     "output_type": "stream",
     "text": [
      "<class 'pandas.core.frame.DataFrame'>\n",
      "RangeIndex: 263 entries, 0 to 262\n",
      "Data columns (total 24 columns):\n",
      " #   Column                      Non-Null Count  Dtype  \n",
      "---  ------                      --------------  -----  \n",
      " 0   Product_ID                  263 non-null    object \n",
      " 1   Base_Type                   241 non-null    object \n",
      " 2   Pricing_Type                134 non-null    object \n",
      " 3   Package_Type                134 non-null    object \n",
      " 4   Title                       134 non-null    object \n",
      " 5   Description                 47 non-null     object \n",
      " 6   Price                       133 non-null    object \n",
      " 7   Monthly_Rental              141 non-null    float64\n",
      " 8   PEOTV_No_of_Channels        8 non-null      float64\n",
      " 9   PEOTV_Foreign_Channels      8 non-null      float64\n",
      " 10  PEOTV_Local_Channels        8 non-null      float64\n",
      " 11  PEOTV_Movie_Channels        8 non-null      float64\n",
      " 12  PEOTV_Kids_Channels         8 non-null      float64\n",
      " 13  PEOTV_Religious_Channels    8 non-null      float64\n",
      " 14  PEOTV_Tamil_Channels        8 non-null      float64\n",
      " 15  PEOTV_Educational_Channels  8 non-null      float64\n",
      " 16  PEOTV_Music_Channels        8 non-null      float64\n",
      " 17  PEOTV_Sports_Channels       8 non-null      float64\n",
      " 18  PEOTV_News_Channels         8 non-null      float64\n",
      " 19  PEOTV_HD_Pack               22 non-null     object \n",
      " 20  Subscription_Type           151 non-null    object \n",
      " 21  Recidence_Type              134 non-null    object \n",
      " 22  Tax_Status                  131 non-null    object \n",
      " 23  Conditions                  131 non-null    object \n",
      "dtypes: float64(12), object(12)\n",
      "memory usage: 49.4+ KB\n"
     ]
    }
   ],
   "source": [
    "product_df=product_profile.iloc[:,[0,1,2,3,5,6,14,15,23,24,25,26,27,28,29,30,31,32,33,34,35,37,38,39]]\n",
    "product_df.info()"
   ]
  },
  {
   "cell_type": "code",
   "execution_count": 22,
   "metadata": {},
   "outputs": [],
   "source": [
    "temp_package_df=rating_df[\"package\"]"
   ]
  },
  {
   "cell_type": "code",
   "execution_count": 23,
   "metadata": {},
   "outputs": [],
   "source": [
    "peo_tv_products_df = product_df.merge(temp_package_df.drop_duplicates(), left_on=['Product_ID'], right_on=['package'] ,\n",
    "                   how='left', indicator=True)"
   ]
  },
  {
   "cell_type": "code",
   "execution_count": 24,
   "metadata": {},
   "outputs": [],
   "source": [
    "product_df = peo_tv_products_df[(peo_tv_products_df[\"_merge\"]==\"both\")]"
   ]
  },
  {
   "cell_type": "code",
   "execution_count": 25,
   "metadata": {},
   "outputs": [
    {
     "name": "stderr",
     "output_type": "stream",
     "text": [
      "/home/chiran/anaconda3/lib/python3.8/site-packages/pandas/core/frame.py:4163: SettingWithCopyWarning: \n",
      "A value is trying to be set on a copy of a slice from a DataFrame\n",
      "\n",
      "See the caveats in the documentation: https://pandas.pydata.org/pandas-docs/stable/user_guide/indexing.html#returning-a-view-versus-a-copy\n",
      "  return super().drop(\n",
      "/home/chiran/anaconda3/lib/python3.8/site-packages/pandas/core/frame.py:4296: SettingWithCopyWarning: \n",
      "A value is trying to be set on a copy of a slice from a DataFrame\n",
      "\n",
      "See the caveats in the documentation: https://pandas.pydata.org/pandas-docs/stable/user_guide/indexing.html#returning-a-view-versus-a-copy\n",
      "  return super().rename(\n"
     ]
    }
   ],
   "source": [
    "product_df.drop([\"package\",\"_merge\"],axis=1,inplace=True)\n",
    "product_df.rename(columns={'Product_ID':'package'},inplace=True)\n",
    "product_df.reset_index(drop=True, inplace=True)"
   ]
  },
  {
   "cell_type": "code",
   "execution_count": 26,
   "metadata": {},
   "outputs": [
    {
     "name": "stdout",
     "output_type": "stream",
     "text": [
      "<class 'pandas.core.frame.DataFrame'>\n",
      "RangeIndex: 22 entries, 0 to 21\n",
      "Data columns (total 24 columns):\n",
      " #   Column                      Non-Null Count  Dtype  \n",
      "---  ------                      --------------  -----  \n",
      " 0   package                     22 non-null     object \n",
      " 1   Base_Type                   22 non-null     object \n",
      " 2   Pricing_Type                22 non-null     object \n",
      " 3   Package_Type                22 non-null     object \n",
      " 4   Title                       22 non-null     object \n",
      " 5   Description                 22 non-null     object \n",
      " 6   Price                       22 non-null     object \n",
      " 7   Monthly_Rental              8 non-null      float64\n",
      " 8   PEOTV_No_of_Channels        8 non-null      float64\n",
      " 9   PEOTV_Foreign_Channels      8 non-null      float64\n",
      " 10  PEOTV_Local_Channels        8 non-null      float64\n",
      " 11  PEOTV_Movie_Channels        8 non-null      float64\n",
      " 12  PEOTV_Kids_Channels         8 non-null      float64\n",
      " 13  PEOTV_Religious_Channels    8 non-null      float64\n",
      " 14  PEOTV_Tamil_Channels        8 non-null      float64\n",
      " 15  PEOTV_Educational_Channels  8 non-null      float64\n",
      " 16  PEOTV_Music_Channels        8 non-null      float64\n",
      " 17  PEOTV_Sports_Channels       8 non-null      float64\n",
      " 18  PEOTV_News_Channels         8 non-null      float64\n",
      " 19  PEOTV_HD_Pack               22 non-null     object \n",
      " 20  Subscription_Type           22 non-null     object \n",
      " 21  Recidence_Type              22 non-null     object \n",
      " 22  Tax_Status                  22 non-null     object \n",
      " 23  Conditions                  22 non-null     object \n",
      "dtypes: float64(12), object(12)\n",
      "memory usage: 4.2+ KB\n"
     ]
    }
   ],
   "source": [
    "product_df.info()"
   ]
  },
  {
   "cell_type": "code",
   "execution_count": 27,
   "metadata": {},
   "outputs": [],
   "source": [
    "cols =[\"PEOTV_Foreign_Channels\",\"PEOTV_Local_Channels\",\"PEOTV_Movie_Channels\",\"PEOTV_Kids_Channels\",\"PEOTV_Religious_Channels\",\"PEOTV_Tamil_Channels\",\"PEOTV_Educational_Channels\",\"PEOTV_Music_Channels\",\"PEOTV_Sports_Channels\",\"PEOTV_News_Channels\"]"
   ]
  },
  {
   "cell_type": "code",
   "execution_count": 28,
   "metadata": {},
   "outputs": [],
   "source": [
    "product_df[cols] = product_df[cols].fillna(0)"
   ]
  },
  {
   "cell_type": "code",
   "execution_count": 29,
   "metadata": {},
   "outputs": [
    {
     "name": "stderr",
     "output_type": "stream",
     "text": [
      "<ipython-input-29-d12fe4e48441>:3: SettingWithCopyWarning: \n",
      "A value is trying to be set on a copy of a slice from a DataFrame.\n",
      "Try using .loc[row_indexer,col_indexer] = value instead\n",
      "\n",
      "See the caveats in the documentation: https://pandas.pydata.org/pandas-docs/stable/user_guide/indexing.html#returning-a-view-versus-a-copy\n",
      "  product_df[col] = scaler.fit_transform(product_df[col].values.reshape(-1,1))\n",
      "<ipython-input-29-d12fe4e48441>:3: SettingWithCopyWarning: \n",
      "A value is trying to be set on a copy of a slice from a DataFrame.\n",
      "Try using .loc[row_indexer,col_indexer] = value instead\n",
      "\n",
      "See the caveats in the documentation: https://pandas.pydata.org/pandas-docs/stable/user_guide/indexing.html#returning-a-view-versus-a-copy\n",
      "  product_df[col] = scaler.fit_transform(product_df[col].values.reshape(-1,1))\n",
      "<ipython-input-29-d12fe4e48441>:3: SettingWithCopyWarning: \n",
      "A value is trying to be set on a copy of a slice from a DataFrame.\n",
      "Try using .loc[row_indexer,col_indexer] = value instead\n",
      "\n",
      "See the caveats in the documentation: https://pandas.pydata.org/pandas-docs/stable/user_guide/indexing.html#returning-a-view-versus-a-copy\n",
      "  product_df[col] = scaler.fit_transform(product_df[col].values.reshape(-1,1))\n",
      "<ipython-input-29-d12fe4e48441>:3: SettingWithCopyWarning: \n",
      "A value is trying to be set on a copy of a slice from a DataFrame.\n",
      "Try using .loc[row_indexer,col_indexer] = value instead\n",
      "\n",
      "See the caveats in the documentation: https://pandas.pydata.org/pandas-docs/stable/user_guide/indexing.html#returning-a-view-versus-a-copy\n",
      "  product_df[col] = scaler.fit_transform(product_df[col].values.reshape(-1,1))\n",
      "<ipython-input-29-d12fe4e48441>:3: SettingWithCopyWarning: \n",
      "A value is trying to be set on a copy of a slice from a DataFrame.\n",
      "Try using .loc[row_indexer,col_indexer] = value instead\n",
      "\n",
      "See the caveats in the documentation: https://pandas.pydata.org/pandas-docs/stable/user_guide/indexing.html#returning-a-view-versus-a-copy\n",
      "  product_df[col] = scaler.fit_transform(product_df[col].values.reshape(-1,1))\n",
      "<ipython-input-29-d12fe4e48441>:3: SettingWithCopyWarning: \n",
      "A value is trying to be set on a copy of a slice from a DataFrame.\n",
      "Try using .loc[row_indexer,col_indexer] = value instead\n",
      "\n",
      "See the caveats in the documentation: https://pandas.pydata.org/pandas-docs/stable/user_guide/indexing.html#returning-a-view-versus-a-copy\n",
      "  product_df[col] = scaler.fit_transform(product_df[col].values.reshape(-1,1))\n",
      "<ipython-input-29-d12fe4e48441>:3: SettingWithCopyWarning: \n",
      "A value is trying to be set on a copy of a slice from a DataFrame.\n",
      "Try using .loc[row_indexer,col_indexer] = value instead\n",
      "\n",
      "See the caveats in the documentation: https://pandas.pydata.org/pandas-docs/stable/user_guide/indexing.html#returning-a-view-versus-a-copy\n",
      "  product_df[col] = scaler.fit_transform(product_df[col].values.reshape(-1,1))\n",
      "<ipython-input-29-d12fe4e48441>:3: SettingWithCopyWarning: \n",
      "A value is trying to be set on a copy of a slice from a DataFrame.\n",
      "Try using .loc[row_indexer,col_indexer] = value instead\n",
      "\n",
      "See the caveats in the documentation: https://pandas.pydata.org/pandas-docs/stable/user_guide/indexing.html#returning-a-view-versus-a-copy\n",
      "  product_df[col] = scaler.fit_transform(product_df[col].values.reshape(-1,1))\n",
      "<ipython-input-29-d12fe4e48441>:3: SettingWithCopyWarning: \n",
      "A value is trying to be set on a copy of a slice from a DataFrame.\n",
      "Try using .loc[row_indexer,col_indexer] = value instead\n",
      "\n",
      "See the caveats in the documentation: https://pandas.pydata.org/pandas-docs/stable/user_guide/indexing.html#returning-a-view-versus-a-copy\n",
      "  product_df[col] = scaler.fit_transform(product_df[col].values.reshape(-1,1))\n",
      "<ipython-input-29-d12fe4e48441>:3: SettingWithCopyWarning: \n",
      "A value is trying to be set on a copy of a slice from a DataFrame.\n",
      "Try using .loc[row_indexer,col_indexer] = value instead\n",
      "\n",
      "See the caveats in the documentation: https://pandas.pydata.org/pandas-docs/stable/user_guide/indexing.html#returning-a-view-versus-a-copy\n",
      "  product_df[col] = scaler.fit_transform(product_df[col].values.reshape(-1,1))\n"
     ]
    }
   ],
   "source": [
    "scaler = MinMaxScaler()\n",
    "for col in cols:\n",
    "    product_df[col] = scaler.fit_transform(product_df[col].values.reshape(-1,1))"
   ]
  },
  {
   "cell_type": "code",
   "execution_count": 30,
   "metadata": {},
   "outputs": [
    {
     "name": "stdout",
     "output_type": "stream",
     "text": [
      "<class 'pandas.core.frame.DataFrame'>\n",
      "RangeIndex: 22 entries, 0 to 21\n",
      "Data columns (total 24 columns):\n",
      " #   Column                      Non-Null Count  Dtype  \n",
      "---  ------                      --------------  -----  \n",
      " 0   package                     22 non-null     object \n",
      " 1   Base_Type                   22 non-null     object \n",
      " 2   Pricing_Type                22 non-null     object \n",
      " 3   Package_Type                22 non-null     object \n",
      " 4   Title                       22 non-null     object \n",
      " 5   Description                 22 non-null     object \n",
      " 6   Price                       22 non-null     object \n",
      " 7   Monthly_Rental              8 non-null      float64\n",
      " 8   PEOTV_No_of_Channels        8 non-null      float64\n",
      " 9   PEOTV_Foreign_Channels      22 non-null     float64\n",
      " 10  PEOTV_Local_Channels        22 non-null     float64\n",
      " 11  PEOTV_Movie_Channels        22 non-null     float64\n",
      " 12  PEOTV_Kids_Channels         22 non-null     float64\n",
      " 13  PEOTV_Religious_Channels    22 non-null     float64\n",
      " 14  PEOTV_Tamil_Channels        22 non-null     float64\n",
      " 15  PEOTV_Educational_Channels  22 non-null     float64\n",
      " 16  PEOTV_Music_Channels        22 non-null     float64\n",
      " 17  PEOTV_Sports_Channels       22 non-null     float64\n",
      " 18  PEOTV_News_Channels         22 non-null     float64\n",
      " 19  PEOTV_HD_Pack               22 non-null     object \n",
      " 20  Subscription_Type           22 non-null     object \n",
      " 21  Recidence_Type              22 non-null     object \n",
      " 22  Tax_Status                  22 non-null     object \n",
      " 23  Conditions                  22 non-null     object \n",
      "dtypes: float64(12), object(12)\n",
      "memory usage: 4.2+ KB\n"
     ]
    }
   ],
   "source": [
    "product_df.info()"
   ]
  },
  {
   "cell_type": "code",
   "execution_count": 31,
   "metadata": {},
   "outputs": [],
   "source": [
    "product_df.to_csv(\"data/azure/peoTV_package_content.csv\")"
   ]
  },
  {
   "cell_type": "code",
   "execution_count": null,
   "metadata": {},
   "outputs": [],
   "source": []
  }
 ],
 "metadata": {
  "kernelspec": {
   "display_name": "Python 3",
   "language": "python",
   "name": "python3"
  },
  "language_info": {
   "codemirror_mode": {
    "name": "ipython",
    "version": 3
   },
   "file_extension": ".py",
   "mimetype": "text/x-python",
   "name": "python",
   "nbconvert_exporter": "python",
   "pygments_lexer": "ipython3",
   "version": "3.8.5"
  }
 },
 "nbformat": 4,
 "nbformat_minor": 4
}
