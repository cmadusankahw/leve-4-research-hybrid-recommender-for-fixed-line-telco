{
 "cells": [
  {
   "cell_type": "code",
   "execution_count": 6,
   "metadata": {},
   "outputs": [],
   "source": [
    "# import libraries\n",
    "import numpy as np\n",
    "import pandas as pd\n",
    "import seaborn as sns\n",
    "import matplotlib.pyplot as plt\n",
    "from sklearn.preprocessing import MinMaxScaler"
   ]
  },
  {
   "cell_type": "code",
   "execution_count": 7,
   "metadata": {},
   "outputs": [],
   "source": [
    "user_profile = pd.read_csv(\"data/user_profile/prepared/User_Profile.csv\")"
   ]
  },
  {
   "cell_type": "code",
   "execution_count": 8,
   "metadata": {},
   "outputs": [],
   "source": [
    "user_profile.drop([\"Unnamed: 0\"],axis=1,inplace=True)"
   ]
  },
  {
   "cell_type": "code",
   "execution_count": 9,
   "metadata": {},
   "outputs": [],
   "source": [
    "user_profile = user_profile[(user_profile[\"Peo_TV_Package\"].notna())]\n",
    "user_profile.reset_index(drop=True, inplace=True)"
   ]
  },
  {
   "cell_type": "code",
   "execution_count": 10,
   "metadata": {},
   "outputs": [
    {
     "name": "stdout",
     "output_type": "stream",
     "text": [
      "<class 'pandas.core.frame.DataFrame'>\n",
      "RangeIndex: 1249 entries, 0 to 1248\n",
      "Data columns (total 76 columns):\n",
      " #   Column                               Non-Null Count  Dtype  \n",
      "---  ------                               --------------  -----  \n",
      " 0   event_source.hash                    1249 non-null   object \n",
      " 1   ACCOUNT_NUM.hash                     1249 non-null   object \n",
      " 2   CUSTOMER_REF.hash                    1249 non-null   object \n",
      " 3   ONNET_OUTGOING_Categorical           1190 non-null   object \n",
      " 4   ONNET_OUTGOING_Scaled                1190 non-null   float64\n",
      " 5   ONNET_OUTGOING_Outlier               1190 non-null   object \n",
      " 6   ONNET_INCOMING_Categorical           1164 non-null   object \n",
      " 7   ONNET_INCOMING_Scaled                1164 non-null   float64\n",
      " 8   ONNET_INCOMING_Outlier               1164 non-null   object \n",
      " 9   OFFNET_OUTGOING_Categorical          1173 non-null   object \n",
      " 10  OFFNET_OUTGOING_Scaled               1173 non-null   float64\n",
      " 11  OFFNET_OUTGOING_Outlier              1173 non-null   object \n",
      " 12  OFFNET_INCOMING_Categorical          1197 non-null   object \n",
      " 13  OFFNET_INCOMING_Scaled               1197 non-null   float64\n",
      " 14  OFFNET_INCOMING_Outlier              1197 non-null   object \n",
      " 15  IDD_INCOMING_Categorical             578 non-null    object \n",
      " 16  IDD_INCOMING_Scaled                  578 non-null    float64\n",
      " 17  IDD_INCOMING_Outlier                 578 non-null    object \n",
      " 18  IDD_incoming_country                 578 non-null    object \n",
      " 19  IDD_OUTGOING_Categorical             168 non-null    object \n",
      " 20  IDD_OUTGOING_Scaled                  168 non-null    float64\n",
      " 21  IDD_OUTGOING_Outlier                 168 non-null    object \n",
      " 22  IDD_outgoing_Cumulative_Revenue      168 non-null    float64\n",
      " 23  IDD_outgoing_country                 168 non-null    object \n",
      " 24  Peo_TV_Package                       1249 non-null   object \n",
      " 25  PEO_TV_Categorical                   1249 non-null   object \n",
      " 26  PEO_TV_Scaled                        1249 non-null   float64\n",
      " 27  BB_Categorical                       709 non-null    object \n",
      " 28  BB_Scaled                            709 non-null    float64\n",
      " 29  Location_Identifier                  1190 non-null   object \n",
      " 30  GENDER                               1056 non-null   object \n",
      " 31  BIRTH_YEAR                           1056 non-null   float64\n",
      " 32  AGE                                  1056 non-null   float64\n",
      " 33  ONNET_Overall_Categorical            1201 non-null   object \n",
      " 34  OFFNET_Overall_Categorical           1202 non-null   object \n",
      " 35  IDD_Overall_Categorical              595 non-null    object \n",
      " 36  VOICE_Categorical                    1176 non-null   object \n",
      " 37  Subscription                         437 non-null    object \n",
      " 38  Sub_Type                             1249 non-null   object \n",
      " 39  Sub_Usage                            1249 non-null   object \n",
      " 40  Sub_Type_State                       1249 non-null   object \n",
      " 41  Voice_VAS_Package                    629 non-null    object \n",
      " 42  Voice_VAS_Month_Subscribed           629 non-null    object \n",
      " 43  Voice_VAS_Rental                     629 non-null    object \n",
      " 44  Voice_VAS_One_Time_Charge            629 non-null    object \n",
      " 45  BB_VAS_Package                       36 non-null     object \n",
      " 46  BB_VAS_Month_Subscribed              36 non-null     object \n",
      " 47  BB_VAS_Rental                        36 non-null     object \n",
      " 48  BB_VAS_One_Time_Charge               36 non-null     object \n",
      " 49  Peo_VAS_Package                      437 non-null    object \n",
      " 50  Peo_VAS_Month_Subscribed             437 non-null    object \n",
      " 51  Peo_VAS_Rental                       437 non-null    object \n",
      " 52  Peo_VAS_One_Time_Charge              437 non-null    object \n",
      " 53  Other_VAS_Package                    644 non-null    object \n",
      " 54  Other_VAS_Month_Subscribed           644 non-null    object \n",
      " 55  Other_VAS_Rental                     644 non-null    object \n",
      " 56  Other_VAS_One_Time_Charge            644 non-null    object \n",
      " 57  Sub_Update_Date                      431 non-null    object \n",
      " 58  Sub_Update_Status                    431 non-null    object \n",
      " 59  Sub_Update                           431 non-null    object \n",
      " 60  BB_Extra_GB_Purchased_Times          14 non-null     float64\n",
      " 61  BB_Extra_GB_Month_vs_Rental          14 non-null     object \n",
      " 62  BB_Extra_GB_Purchased_Scaled         14 non-null     float64\n",
      " 63  BB_Extra_GB_Purchase_Categorical     14 non-null     object \n",
      " 64  Having_Insurance                     168 non-null    object \n",
      " 65  Having_Senior_Citizen_Scaled         1249 non-null   float64\n",
      " 66  Having_Senior_Citizen                195 non-null    object \n",
      " 67  Having_Kids_at_Home_Scaled           1249 non-null   float64\n",
      " 68  Having_Kids_at_Home                  218 non-null    object \n",
      " 69  Having_Teenagers_Students_Scaled     1249 non-null   float64\n",
      " 70  Having_Teenagers_Students            142 non-null    object \n",
      " 71  Having_Working_Professionals_Scaled  1249 non-null   float64\n",
      " 72  Having_Working_Professionals         86 non-null     object \n",
      " 73  Having_Family_Member_Abroad_Scaled   1249 non-null   float64\n",
      " 74  Having_Family_Member_Abroad          324 non-null    object \n",
      " 75  Tamil_Customer                       204 non-null    object \n",
      "dtypes: float64(18), object(58)\n",
      "memory usage: 741.7+ KB\n"
     ]
    }
   ],
   "source": [
    "user_profile.info()"
   ]
  },
  {
   "cell_type": "markdown",
   "metadata": {},
   "source": [
    "## User - package ratings"
   ]
  },
  {
   "cell_type": "code",
   "execution_count": 11,
   "metadata": {},
   "outputs": [
    {
     "name": "stderr",
     "output_type": "stream",
     "text": [
      "/home/chiran/anaconda3/lib/python3.8/site-packages/pandas/core/frame.py:4296: SettingWithCopyWarning: \n",
      "A value is trying to be set on a copy of a slice from a DataFrame\n",
      "\n",
      "See the caveats in the documentation: https://pandas.pydata.org/pandas-docs/stable/user_guide/indexing.html#returning-a-view-versus-a-copy\n",
      "  return super().rename(\n"
     ]
    }
   ],
   "source": [
    "rating_df=user_profile.iloc[:,[0,26,24]]\n",
    "rating_df.rename(columns={'PEO_TV_Scaled':'ratings','Peo_TV_Package':'package'},inplace=True)"
   ]
  },
  {
   "cell_type": "code",
   "execution_count": 12,
   "metadata": {},
   "outputs": [
    {
     "data": {
      "text/html": [
       "<div>\n",
       "<style scoped>\n",
       "    .dataframe tbody tr th:only-of-type {\n",
       "        vertical-align: middle;\n",
       "    }\n",
       "\n",
       "    .dataframe tbody tr th {\n",
       "        vertical-align: top;\n",
       "    }\n",
       "\n",
       "    .dataframe thead th {\n",
       "        text-align: right;\n",
       "    }\n",
       "</style>\n",
       "<table border=\"1\" class=\"dataframe\">\n",
       "  <thead>\n",
       "    <tr style=\"text-align: right;\">\n",
       "      <th></th>\n",
       "      <th>event_source.hash</th>\n",
       "      <th>ratings</th>\n",
       "      <th>package</th>\n",
       "    </tr>\n",
       "  </thead>\n",
       "  <tbody>\n",
       "    <tr>\n",
       "      <th>0</th>\n",
       "      <td>2ab8436cc34b4f16de3c452300f975c3</td>\n",
       "      <td>0.15625</td>\n",
       "      <td>PEO_SILVER</td>\n",
       "    </tr>\n",
       "    <tr>\n",
       "      <th>1</th>\n",
       "      <td>e034fe9b7cb567273a07edbad9946fde</td>\n",
       "      <td>0.74375</td>\n",
       "      <td>PEO_SILVER_PLUS</td>\n",
       "    </tr>\n",
       "    <tr>\n",
       "      <th>2</th>\n",
       "      <td>5fc30724801d125e0048b486655723f6</td>\n",
       "      <td>0.53125</td>\n",
       "      <td>PEO_SILVER</td>\n",
       "    </tr>\n",
       "    <tr>\n",
       "      <th>3</th>\n",
       "      <td>013736757d2ddad83cdfaa418921605c</td>\n",
       "      <td>0.00000</td>\n",
       "      <td>PEO_SILVER</td>\n",
       "    </tr>\n",
       "    <tr>\n",
       "      <th>4</th>\n",
       "      <td>3ec6441eb5df6ef9ba2bdd63f919ce8b</td>\n",
       "      <td>0.95000</td>\n",
       "      <td>PEO_SILVER</td>\n",
       "    </tr>\n",
       "    <tr>\n",
       "      <th>...</th>\n",
       "      <td>...</td>\n",
       "      <td>...</td>\n",
       "      <td>...</td>\n",
       "    </tr>\n",
       "    <tr>\n",
       "      <th>1244</th>\n",
       "      <td>3d16766153a7f1a91cc44a5489265d1f</td>\n",
       "      <td>0.60000</td>\n",
       "      <td>PEO_SILVER</td>\n",
       "    </tr>\n",
       "    <tr>\n",
       "      <th>1245</th>\n",
       "      <td>09e7342066a13ca589d4a58ea0c685ae</td>\n",
       "      <td>0.91875</td>\n",
       "      <td>PEO_SILVER</td>\n",
       "    </tr>\n",
       "    <tr>\n",
       "      <th>1246</th>\n",
       "      <td>f98bd7d6c96317fc2656bc43441df8bb</td>\n",
       "      <td>0.71250</td>\n",
       "      <td>PEO_SILVER</td>\n",
       "    </tr>\n",
       "    <tr>\n",
       "      <th>1247</th>\n",
       "      <td>71d08664b609dcaddf02d6ffc2532aa7</td>\n",
       "      <td>0.51250</td>\n",
       "      <td>PEO_SILVER</td>\n",
       "    </tr>\n",
       "    <tr>\n",
       "      <th>1248</th>\n",
       "      <td>46960b77dad950ddae76dd53bd7848cd</td>\n",
       "      <td>0.95000</td>\n",
       "      <td>PEO_UTHAYAM</td>\n",
       "    </tr>\n",
       "  </tbody>\n",
       "</table>\n",
       "<p>1249 rows × 3 columns</p>\n",
       "</div>"
      ],
      "text/plain": [
       "                     event_source.hash  ratings          package\n",
       "0     2ab8436cc34b4f16de3c452300f975c3  0.15625       PEO_SILVER\n",
       "1     e034fe9b7cb567273a07edbad9946fde  0.74375  PEO_SILVER_PLUS\n",
       "2     5fc30724801d125e0048b486655723f6  0.53125       PEO_SILVER\n",
       "3     013736757d2ddad83cdfaa418921605c  0.00000       PEO_SILVER\n",
       "4     3ec6441eb5df6ef9ba2bdd63f919ce8b  0.95000       PEO_SILVER\n",
       "...                                ...      ...              ...\n",
       "1244  3d16766153a7f1a91cc44a5489265d1f  0.60000       PEO_SILVER\n",
       "1245  09e7342066a13ca589d4a58ea0c685ae  0.91875       PEO_SILVER\n",
       "1246  f98bd7d6c96317fc2656bc43441df8bb  0.71250       PEO_SILVER\n",
       "1247  71d08664b609dcaddf02d6ffc2532aa7  0.51250       PEO_SILVER\n",
       "1248  46960b77dad950ddae76dd53bd7848cd  0.95000      PEO_UTHAYAM\n",
       "\n",
       "[1249 rows x 3 columns]"
      ]
     },
     "execution_count": 12,
     "metadata": {},
     "output_type": "execute_result"
    }
   ],
   "source": [
    "rating_df"
   ]
  },
  {
   "cell_type": "code",
   "execution_count": 13,
   "metadata": {},
   "outputs": [
    {
     "name": "stdout",
     "output_type": "stream",
     "text": [
      "<class 'pandas.core.frame.DataFrame'>\n",
      "RangeIndex: 1249 entries, 0 to 1248\n",
      "Data columns (total 3 columns):\n",
      " #   Column             Non-Null Count  Dtype  \n",
      "---  ------             --------------  -----  \n",
      " 0   event_source.hash  1249 non-null   object \n",
      " 1   ratings            1249 non-null   float64\n",
      " 2   package            1249 non-null   object \n",
      "dtypes: float64(1), object(2)\n",
      "memory usage: 29.4+ KB\n"
     ]
    }
   ],
   "source": [
    "rating_df.info()"
   ]
  },
  {
   "cell_type": "code",
   "execution_count": 14,
   "metadata": {},
   "outputs": [],
   "source": [
    "rating_df.to_csv(\"data/azure/peoTV_user_ratings.csv\")"
   ]
  },
  {
   "cell_type": "markdown",
   "metadata": {},
   "source": [
    "## User content"
   ]
  },
  {
   "cell_type": "code",
   "execution_count": 15,
   "metadata": {},
   "outputs": [
    {
     "name": "stdout",
     "output_type": "stream",
     "text": [
      "<class 'pandas.core.frame.DataFrame'>\n",
      "RangeIndex: 1249 entries, 0 to 1248\n",
      "Data columns (total 76 columns):\n",
      " #   Column                               Non-Null Count  Dtype  \n",
      "---  ------                               --------------  -----  \n",
      " 0   event_source.hash                    1249 non-null   object \n",
      " 1   ACCOUNT_NUM.hash                     1249 non-null   object \n",
      " 2   CUSTOMER_REF.hash                    1249 non-null   object \n",
      " 3   ONNET_OUTGOING_Categorical           1190 non-null   object \n",
      " 4   ONNET_OUTGOING_Scaled                1190 non-null   float64\n",
      " 5   ONNET_OUTGOING_Outlier               1190 non-null   object \n",
      " 6   ONNET_INCOMING_Categorical           1164 non-null   object \n",
      " 7   ONNET_INCOMING_Scaled                1164 non-null   float64\n",
      " 8   ONNET_INCOMING_Outlier               1164 non-null   object \n",
      " 9   OFFNET_OUTGOING_Categorical          1173 non-null   object \n",
      " 10  OFFNET_OUTGOING_Scaled               1173 non-null   float64\n",
      " 11  OFFNET_OUTGOING_Outlier              1173 non-null   object \n",
      " 12  OFFNET_INCOMING_Categorical          1197 non-null   object \n",
      " 13  OFFNET_INCOMING_Scaled               1197 non-null   float64\n",
      " 14  OFFNET_INCOMING_Outlier              1197 non-null   object \n",
      " 15  IDD_INCOMING_Categorical             578 non-null    object \n",
      " 16  IDD_INCOMING_Scaled                  578 non-null    float64\n",
      " 17  IDD_INCOMING_Outlier                 578 non-null    object \n",
      " 18  IDD_incoming_country                 578 non-null    object \n",
      " 19  IDD_OUTGOING_Categorical             168 non-null    object \n",
      " 20  IDD_OUTGOING_Scaled                  168 non-null    float64\n",
      " 21  IDD_OUTGOING_Outlier                 168 non-null    object \n",
      " 22  IDD_outgoing_Cumulative_Revenue      168 non-null    float64\n",
      " 23  IDD_outgoing_country                 168 non-null    object \n",
      " 24  Peo_TV_Package                       1249 non-null   object \n",
      " 25  PEO_TV_Categorical                   1249 non-null   object \n",
      " 26  PEO_TV_Scaled                        1249 non-null   float64\n",
      " 27  BB_Categorical                       709 non-null    object \n",
      " 28  BB_Scaled                            709 non-null    float64\n",
      " 29  Location_Identifier                  1190 non-null   object \n",
      " 30  GENDER                               1056 non-null   object \n",
      " 31  BIRTH_YEAR                           1056 non-null   float64\n",
      " 32  AGE                                  1056 non-null   float64\n",
      " 33  ONNET_Overall_Categorical            1201 non-null   object \n",
      " 34  OFFNET_Overall_Categorical           1202 non-null   object \n",
      " 35  IDD_Overall_Categorical              595 non-null    object \n",
      " 36  VOICE_Categorical                    1176 non-null   object \n",
      " 37  Subscription                         437 non-null    object \n",
      " 38  Sub_Type                             1249 non-null   object \n",
      " 39  Sub_Usage                            1249 non-null   object \n",
      " 40  Sub_Type_State                       1249 non-null   object \n",
      " 41  Voice_VAS_Package                    629 non-null    object \n",
      " 42  Voice_VAS_Month_Subscribed           629 non-null    object \n",
      " 43  Voice_VAS_Rental                     629 non-null    object \n",
      " 44  Voice_VAS_One_Time_Charge            629 non-null    object \n",
      " 45  BB_VAS_Package                       36 non-null     object \n",
      " 46  BB_VAS_Month_Subscribed              36 non-null     object \n",
      " 47  BB_VAS_Rental                        36 non-null     object \n",
      " 48  BB_VAS_One_Time_Charge               36 non-null     object \n",
      " 49  Peo_VAS_Package                      437 non-null    object \n",
      " 50  Peo_VAS_Month_Subscribed             437 non-null    object \n",
      " 51  Peo_VAS_Rental                       437 non-null    object \n",
      " 52  Peo_VAS_One_Time_Charge              437 non-null    object \n",
      " 53  Other_VAS_Package                    644 non-null    object \n",
      " 54  Other_VAS_Month_Subscribed           644 non-null    object \n",
      " 55  Other_VAS_Rental                     644 non-null    object \n",
      " 56  Other_VAS_One_Time_Charge            644 non-null    object \n",
      " 57  Sub_Update_Date                      431 non-null    object \n",
      " 58  Sub_Update_Status                    431 non-null    object \n",
      " 59  Sub_Update                           431 non-null    object \n",
      " 60  BB_Extra_GB_Purchased_Times          14 non-null     float64\n",
      " 61  BB_Extra_GB_Month_vs_Rental          14 non-null     object \n",
      " 62  BB_Extra_GB_Purchased_Scaled         14 non-null     float64\n",
      " 63  BB_Extra_GB_Purchase_Categorical     14 non-null     object \n",
      " 64  Having_Insurance                     168 non-null    object \n",
      " 65  Having_Senior_Citizen_Scaled         1249 non-null   float64\n",
      " 66  Having_Senior_Citizen                195 non-null    object \n",
      " 67  Having_Kids_at_Home_Scaled           1249 non-null   float64\n",
      " 68  Having_Kids_at_Home                  218 non-null    object \n",
      " 69  Having_Teenagers_Students_Scaled     1249 non-null   float64\n",
      " 70  Having_Teenagers_Students            142 non-null    object \n",
      " 71  Having_Working_Professionals_Scaled  1249 non-null   float64\n",
      " 72  Having_Working_Professionals         86 non-null     object \n",
      " 73  Having_Family_Member_Abroad_Scaled   1249 non-null   float64\n",
      " 74  Having_Family_Member_Abroad          324 non-null    object \n",
      " 75  Tamil_Customer                       204 non-null    object \n",
      "dtypes: float64(18), object(58)\n",
      "memory usage: 741.7+ KB\n"
     ]
    }
   ],
   "source": [
    "user_profile.info()"
   ]
  },
  {
   "cell_type": "code",
   "execution_count": 16,
   "metadata": {},
   "outputs": [],
   "source": [
    "user_df=user_profile.iloc[:,[0,29,38,39,30,32,41,49,53,58,59,64,65,67,69,71,73,75]]"
   ]
  },
  {
   "cell_type": "code",
   "execution_count": 17,
   "metadata": {},
   "outputs": [
    {
     "name": "stdout",
     "output_type": "stream",
     "text": [
      "<class 'pandas.core.frame.DataFrame'>\n",
      "RangeIndex: 1249 entries, 0 to 1248\n",
      "Data columns (total 18 columns):\n",
      " #   Column                               Non-Null Count  Dtype  \n",
      "---  ------                               --------------  -----  \n",
      " 0   event_source.hash                    1249 non-null   object \n",
      " 1   Location_Identifier                  1190 non-null   object \n",
      " 2   Sub_Type                             1249 non-null   object \n",
      " 3   Sub_Usage                            1249 non-null   object \n",
      " 4   GENDER                               1056 non-null   object \n",
      " 5   AGE                                  1056 non-null   float64\n",
      " 6   Voice_VAS_Package                    629 non-null    object \n",
      " 7   Peo_VAS_Package                      437 non-null    object \n",
      " 8   Other_VAS_Package                    644 non-null    object \n",
      " 9   Sub_Update_Status                    431 non-null    object \n",
      " 10  Sub_Update                           431 non-null    object \n",
      " 11  Having_Insurance                     168 non-null    object \n",
      " 12  Having_Senior_Citizen_Scaled         1249 non-null   float64\n",
      " 13  Having_Kids_at_Home_Scaled           1249 non-null   float64\n",
      " 14  Having_Teenagers_Students_Scaled     1249 non-null   float64\n",
      " 15  Having_Working_Professionals_Scaled  1249 non-null   float64\n",
      " 16  Having_Family_Member_Abroad_Scaled   1249 non-null   float64\n",
      " 17  Tamil_Customer                       204 non-null    object \n",
      "dtypes: float64(6), object(12)\n",
      "memory usage: 175.8+ KB\n"
     ]
    }
   ],
   "source": [
    "user_df.info()"
   ]
  },
  {
   "cell_type": "markdown",
   "metadata": {},
   "source": [
    "### Handeling Null Values"
   ]
  },
  {
   "cell_type": "code",
   "execution_count": 18,
   "metadata": {},
   "outputs": [
    {
     "name": "stderr",
     "output_type": "stream",
     "text": [
      "/home/chiran/anaconda3/lib/python3.8/site-packages/pandas/core/frame.py:3065: SettingWithCopyWarning: \n",
      "A value is trying to be set on a copy of a slice from a DataFrame.\n",
      "Try using .loc[row_indexer,col_indexer] = value instead\n",
      "\n",
      "See the caveats in the documentation: https://pandas.pydata.org/pandas-docs/stable/user_guide/indexing.html#returning-a-view-versus-a-copy\n",
      "  self[k1] = value[k2]\n"
     ]
    }
   ],
   "source": [
    "cat_cols = ['Tamil_Customer', 'Having_Insurance']\n",
    "\n",
    "user_df[cat_cols] = user_df[cat_cols].fillna(\"NO\")\n",
    "\n",
    "#voice_udf[scaled_cols] = voice_udf[scaled_cols].fillna(0)"
   ]
  },
  {
   "cell_type": "code",
   "execution_count": 19,
   "metadata": {},
   "outputs": [],
   "source": [
    "user_df.to_csv(\"data/azure/peoTV_user_content.csv\")"
   ]
  },
  {
   "cell_type": "markdown",
   "metadata": {},
   "source": [
    "## Product (package) content"
   ]
  },
  {
   "cell_type": "code",
   "execution_count": 20,
   "metadata": {},
   "outputs": [],
   "source": [
    "product_profile = pd.read_csv(\"data/product_catalog/Product_Profile_Finalised_CSV.csv\")"
   ]
  },
  {
   "cell_type": "code",
   "execution_count": 21,
   "metadata": {},
   "outputs": [
    {
     "name": "stdout",
     "output_type": "stream",
     "text": [
      "<class 'pandas.core.frame.DataFrame'>\n",
      "RangeIndex: 263 entries, 0 to 262\n",
      "Data columns (total 24 columns):\n",
      " #   Column                      Non-Null Count  Dtype  \n",
      "---  ------                      --------------  -----  \n",
      " 0   Product_ID                  263 non-null    object \n",
      " 1   Base_Type                   241 non-null    object \n",
      " 2   Pricing_Type                134 non-null    object \n",
      " 3   Package_Type                134 non-null    object \n",
      " 4   Title                       134 non-null    object \n",
      " 5   Description                 47 non-null     object \n",
      " 6   Price                       133 non-null    object \n",
      " 7   Monthly_Rental              141 non-null    float64\n",
      " 8   PEOTV_No_of_Channels        8 non-null      float64\n",
      " 9   PEOTV_Foreign_Channels      8 non-null      float64\n",
      " 10  PEOTV_Local_Channels        8 non-null      float64\n",
      " 11  PEOTV_Movie_Channels        8 non-null      float64\n",
      " 12  PEOTV_Kids_Channels         8 non-null      float64\n",
      " 13  PEOTV_Religious_Channels    8 non-null      float64\n",
      " 14  PEOTV_Tamil_Channels        8 non-null      float64\n",
      " 15  PEOTV_Educational_Channels  8 non-null      float64\n",
      " 16  PEOTV_Music_Channels        8 non-null      float64\n",
      " 17  PEOTV_Sports_Channels       8 non-null      float64\n",
      " 18  PEOTV_News_Channels         8 non-null      float64\n",
      " 19  PEOTV_HD_Pack               22 non-null     object \n",
      " 20  Subscription_Type           151 non-null    object \n",
      " 21  Recidence_Type              134 non-null    object \n",
      " 22  Tax_Status                  131 non-null    object \n",
      " 23  Conditions                  131 non-null    object \n",
      "dtypes: float64(12), object(12)\n",
      "memory usage: 49.4+ KB\n"
     ]
    }
   ],
   "source": [
    "product_df=product_profile.iloc[:,[0,1,2,3,5,6,14,15,23,24,25,26,27,28,29,30,31,32,33,34,35,37,38,39]]\n",
    "product_df.info()"
   ]
  },
  {
   "cell_type": "code",
   "execution_count": 22,
   "metadata": {},
   "outputs": [],
   "source": [
    "temp_package_df=rating_df[\"package\"]"
   ]
  },
  {
   "cell_type": "code",
   "execution_count": 23,
   "metadata": {},
   "outputs": [],
   "source": [
    "peo_tv_products_df = product_df.merge(temp_package_df.drop_duplicates(), left_on=['Product_ID'], right_on=['package'] ,\n",
    "                   how='left', indicator=True)"
   ]
  },
  {
   "cell_type": "code",
   "execution_count": 24,
   "metadata": {},
   "outputs": [],
   "source": [
    "product_df = peo_tv_products_df[(peo_tv_products_df[\"_merge\"]==\"both\")]"
   ]
  },
  {
   "cell_type": "code",
   "execution_count": 25,
   "metadata": {},
   "outputs": [
    {
     "name": "stderr",
     "output_type": "stream",
     "text": [
      "/home/chiran/anaconda3/lib/python3.8/site-packages/pandas/core/frame.py:4163: SettingWithCopyWarning: \n",
      "A value is trying to be set on a copy of a slice from a DataFrame\n",
      "\n",
      "See the caveats in the documentation: https://pandas.pydata.org/pandas-docs/stable/user_guide/indexing.html#returning-a-view-versus-a-copy\n",
      "  return super().drop(\n",
      "/home/chiran/anaconda3/lib/python3.8/site-packages/pandas/core/frame.py:4296: SettingWithCopyWarning: \n",
      "A value is trying to be set on a copy of a slice from a DataFrame\n",
      "\n",
      "See the caveats in the documentation: https://pandas.pydata.org/pandas-docs/stable/user_guide/indexing.html#returning-a-view-versus-a-copy\n",
      "  return super().rename(\n"
     ]
    }
   ],
   "source": [
    "product_df.drop([\"package\",\"_merge\"],axis=1,inplace=True)\n",
    "product_df.rename(columns={'Product_ID':'package'},inplace=True)\n",
    "product_df.reset_index(drop=True, inplace=True)"
   ]
  },
  {
   "cell_type": "code",
   "execution_count": 26,
   "metadata": {},
   "outputs": [
    {
     "name": "stdout",
     "output_type": "stream",
     "text": [
      "<class 'pandas.core.frame.DataFrame'>\n",
      "RangeIndex: 22 entries, 0 to 21\n",
      "Data columns (total 24 columns):\n",
      " #   Column                      Non-Null Count  Dtype  \n",
      "---  ------                      --------------  -----  \n",
      " 0   package                     22 non-null     object \n",
      " 1   Base_Type                   22 non-null     object \n",
      " 2   Pricing_Type                22 non-null     object \n",
      " 3   Package_Type                22 non-null     object \n",
      " 4   Title                       22 non-null     object \n",
      " 5   Description                 22 non-null     object \n",
      " 6   Price                       22 non-null     object \n",
      " 7   Monthly_Rental              8 non-null      float64\n",
      " 8   PEOTV_No_of_Channels        8 non-null      float64\n",
      " 9   PEOTV_Foreign_Channels      8 non-null      float64\n",
      " 10  PEOTV_Local_Channels        8 non-null      float64\n",
      " 11  PEOTV_Movie_Channels        8 non-null      float64\n",
      " 12  PEOTV_Kids_Channels         8 non-null      float64\n",
      " 13  PEOTV_Religious_Channels    8 non-null      float64\n",
      " 14  PEOTV_Tamil_Channels        8 non-null      float64\n",
      " 15  PEOTV_Educational_Channels  8 non-null      float64\n",
      " 16  PEOTV_Music_Channels        8 non-null      float64\n",
      " 17  PEOTV_Sports_Channels       8 non-null      float64\n",
      " 18  PEOTV_News_Channels         8 non-null      float64\n",
      " 19  PEOTV_HD_Pack               22 non-null     object \n",
      " 20  Subscription_Type           22 non-null     object \n",
      " 21  Recidence_Type              22 non-null     object \n",
      " 22  Tax_Status                  22 non-null     object \n",
      " 23  Conditions                  22 non-null     object \n",
      "dtypes: float64(12), object(12)\n",
      "memory usage: 4.2+ KB\n"
     ]
    }
   ],
   "source": [
    "product_df.info()"
   ]
  },
  {
   "cell_type": "code",
   "execution_count": 27,
   "metadata": {},
   "outputs": [],
   "source": [
    "cols =[\"PEOTV_Foreign_Channels\",\"PEOTV_Local_Channels\",\"PEOTV_Movie_Channels\",\"PEOTV_Kids_Channels\",\"PEOTV_Religious_Channels\",\"PEOTV_Tamil_Channels\",\"PEOTV_Educational_Channels\",\"PEOTV_Music_Channels\",\"PEOTV_Sports_Channels\",\"PEOTV_News_Channels\"]"
   ]
  },
  {
   "cell_type": "code",
   "execution_count": 28,
   "metadata": {},
   "outputs": [],
   "source": [
    "product_df[cols] = product_df[cols].fillna(0)"
   ]
  },
  {
   "cell_type": "code",
   "execution_count": 29,
   "metadata": {},
   "outputs": [
    {
     "name": "stderr",
     "output_type": "stream",
     "text": [
      "<ipython-input-29-d12fe4e48441>:3: SettingWithCopyWarning: \n",
      "A value is trying to be set on a copy of a slice from a DataFrame.\n",
      "Try using .loc[row_indexer,col_indexer] = value instead\n",
      "\n",
      "See the caveats in the documentation: https://pandas.pydata.org/pandas-docs/stable/user_guide/indexing.html#returning-a-view-versus-a-copy\n",
      "  product_df[col] = scaler.fit_transform(product_df[col].values.reshape(-1,1))\n",
      "<ipython-input-29-d12fe4e48441>:3: SettingWithCopyWarning: \n",
      "A value is trying to be set on a copy of a slice from a DataFrame.\n",
      "Try using .loc[row_indexer,col_indexer] = value instead\n",
      "\n",
      "See the caveats in the documentation: https://pandas.pydata.org/pandas-docs/stable/user_guide/indexing.html#returning-a-view-versus-a-copy\n",
      "  product_df[col] = scaler.fit_transform(product_df[col].values.reshape(-1,1))\n",
      "<ipython-input-29-d12fe4e48441>:3: SettingWithCopyWarning: \n",
      "A value is trying to be set on a copy of a slice from a DataFrame.\n",
      "Try using .loc[row_indexer,col_indexer] = value instead\n",
      "\n",
      "See the caveats in the documentation: https://pandas.pydata.org/pandas-docs/stable/user_guide/indexing.html#returning-a-view-versus-a-copy\n",
      "  product_df[col] = scaler.fit_transform(product_df[col].values.reshape(-1,1))\n",
      "<ipython-input-29-d12fe4e48441>:3: SettingWithCopyWarning: \n",
      "A value is trying to be set on a copy of a slice from a DataFrame.\n",
      "Try using .loc[row_indexer,col_indexer] = value instead\n",
      "\n",
      "See the caveats in the documentation: https://pandas.pydata.org/pandas-docs/stable/user_guide/indexing.html#returning-a-view-versus-a-copy\n",
      "  product_df[col] = scaler.fit_transform(product_df[col].values.reshape(-1,1))\n",
      "<ipython-input-29-d12fe4e48441>:3: SettingWithCopyWarning: \n",
      "A value is trying to be set on a copy of a slice from a DataFrame.\n",
      "Try using .loc[row_indexer,col_indexer] = value instead\n",
      "\n",
      "See the caveats in the documentation: https://pandas.pydata.org/pandas-docs/stable/user_guide/indexing.html#returning-a-view-versus-a-copy\n",
      "  product_df[col] = scaler.fit_transform(product_df[col].values.reshape(-1,1))\n",
      "<ipython-input-29-d12fe4e48441>:3: SettingWithCopyWarning: \n",
      "A value is trying to be set on a copy of a slice from a DataFrame.\n",
      "Try using .loc[row_indexer,col_indexer] = value instead\n",
      "\n",
      "See the caveats in the documentation: https://pandas.pydata.org/pandas-docs/stable/user_guide/indexing.html#returning-a-view-versus-a-copy\n",
      "  product_df[col] = scaler.fit_transform(product_df[col].values.reshape(-1,1))\n",
      "<ipython-input-29-d12fe4e48441>:3: SettingWithCopyWarning: \n",
      "A value is trying to be set on a copy of a slice from a DataFrame.\n",
      "Try using .loc[row_indexer,col_indexer] = value instead\n",
      "\n",
      "See the caveats in the documentation: https://pandas.pydata.org/pandas-docs/stable/user_guide/indexing.html#returning-a-view-versus-a-copy\n",
      "  product_df[col] = scaler.fit_transform(product_df[col].values.reshape(-1,1))\n",
      "<ipython-input-29-d12fe4e48441>:3: SettingWithCopyWarning: \n",
      "A value is trying to be set on a copy of a slice from a DataFrame.\n",
      "Try using .loc[row_indexer,col_indexer] = value instead\n",
      "\n",
      "See the caveats in the documentation: https://pandas.pydata.org/pandas-docs/stable/user_guide/indexing.html#returning-a-view-versus-a-copy\n",
      "  product_df[col] = scaler.fit_transform(product_df[col].values.reshape(-1,1))\n",
      "<ipython-input-29-d12fe4e48441>:3: SettingWithCopyWarning: \n",
      "A value is trying to be set on a copy of a slice from a DataFrame.\n",
      "Try using .loc[row_indexer,col_indexer] = value instead\n",
      "\n",
      "See the caveats in the documentation: https://pandas.pydata.org/pandas-docs/stable/user_guide/indexing.html#returning-a-view-versus-a-copy\n",
      "  product_df[col] = scaler.fit_transform(product_df[col].values.reshape(-1,1))\n",
      "<ipython-input-29-d12fe4e48441>:3: SettingWithCopyWarning: \n",
      "A value is trying to be set on a copy of a slice from a DataFrame.\n",
      "Try using .loc[row_indexer,col_indexer] = value instead\n",
      "\n",
      "See the caveats in the documentation: https://pandas.pydata.org/pandas-docs/stable/user_guide/indexing.html#returning-a-view-versus-a-copy\n",
      "  product_df[col] = scaler.fit_transform(product_df[col].values.reshape(-1,1))\n"
     ]
    }
   ],
   "source": [
    "scaler = MinMaxScaler()\n",
    "for col in cols:\n",
    "    product_df[col] = scaler.fit_transform(product_df[col].values.reshape(-1,1))"
   ]
  },
  {
   "cell_type": "code",
   "execution_count": 30,
   "metadata": {},
   "outputs": [
    {
     "name": "stdout",
     "output_type": "stream",
     "text": [
      "<class 'pandas.core.frame.DataFrame'>\n",
      "RangeIndex: 22 entries, 0 to 21\n",
      "Data columns (total 24 columns):\n",
      " #   Column                      Non-Null Count  Dtype  \n",
      "---  ------                      --------------  -----  \n",
      " 0   package                     22 non-null     object \n",
      " 1   Base_Type                   22 non-null     object \n",
      " 2   Pricing_Type                22 non-null     object \n",
      " 3   Package_Type                22 non-null     object \n",
      " 4   Title                       22 non-null     object \n",
      " 5   Description                 22 non-null     object \n",
      " 6   Price                       22 non-null     object \n",
      " 7   Monthly_Rental              8 non-null      float64\n",
      " 8   PEOTV_No_of_Channels        8 non-null      float64\n",
      " 9   PEOTV_Foreign_Channels      22 non-null     float64\n",
      " 10  PEOTV_Local_Channels        22 non-null     float64\n",
      " 11  PEOTV_Movie_Channels        22 non-null     float64\n",
      " 12  PEOTV_Kids_Channels         22 non-null     float64\n",
      " 13  PEOTV_Religious_Channels    22 non-null     float64\n",
      " 14  PEOTV_Tamil_Channels        22 non-null     float64\n",
      " 15  PEOTV_Educational_Channels  22 non-null     float64\n",
      " 16  PEOTV_Music_Channels        22 non-null     float64\n",
      " 17  PEOTV_Sports_Channels       22 non-null     float64\n",
      " 18  PEOTV_News_Channels         22 non-null     float64\n",
      " 19  PEOTV_HD_Pack               22 non-null     object \n",
      " 20  Subscription_Type           22 non-null     object \n",
      " 21  Recidence_Type              22 non-null     object \n",
      " 22  Tax_Status                  22 non-null     object \n",
      " 23  Conditions                  22 non-null     object \n",
      "dtypes: float64(12), object(12)\n",
      "memory usage: 4.2+ KB\n"
     ]
    }
   ],
   "source": [
    "product_df.info()"
   ]
  },
  {
   "cell_type": "code",
   "execution_count": 31,
   "metadata": {},
   "outputs": [],
   "source": [
    "product_df.to_csv(\"data/azure/peoTV_package_content.csv\")"
   ]
  },
  {
   "cell_type": "code",
   "execution_count": null,
   "metadata": {},
   "outputs": [],
   "source": []
  }
 ],
 "metadata": {
  "kernelspec": {
   "display_name": "Python 3",
   "language": "python",
   "name": "python3"
  },
  "language_info": {
   "codemirror_mode": {
    "name": "ipython",
    "version": 3
   },
   "file_extension": ".py",
   "mimetype": "text/x-python",
   "name": "python",
   "nbconvert_exporter": "python",
   "pygments_lexer": "ipython3",
   "version": "3.8.5"
  }
 },
 "nbformat": 4,
 "nbformat_minor": 4
}
