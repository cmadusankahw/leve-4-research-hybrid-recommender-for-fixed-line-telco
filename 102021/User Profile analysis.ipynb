{
 "cells": [
  {
   "cell_type": "code",
   "execution_count": 240,
   "metadata": {},
   "outputs": [],
   "source": [
    "import pandas as pd\n",
    "import numpy as np\n",
    "from matplotlib import pyplot as plt\n",
    "from sklearn.preprocessing import MinMaxScaler\n",
    "import seaborn as sns\n",
    "from collections import Counter\n",
    "from ast import literal_eval\n",
    "import itertools"
   ]
  },
  {
   "cell_type": "code",
   "execution_count": 241,
   "metadata": {},
   "outputs": [],
   "source": [
    "# reading datasets\n",
    "bb_usage = pd.read_csv(\"data/user_profile/BB_Usage_Categorical.csv\")\n",
    "voice_incoming_usage = pd.read_csv(\"data/user_profile/VOICE_INCOMING_Usage_Categorical.csv\")\n",
    "voice_outgoing_usage = pd.read_csv(\"data/user_profile/VOICE_OUTGOING_Usage_Categorical.csv\")\n",
    "voice_IDD_incoming_usage = pd.read_csv(\"data/user_profile/VOICE_IDD_Incoming_Usage_Categorical.csv\")\n",
    "voice_IDD_outgoing_usage = pd.read_csv(\"data/user_profile/VOICE_IDD_Outgoing_Usage_Categorical.csv\")\n",
    "peo_tv_usage = pd.read_csv(\"data/user_profile/PEO_TV_Usage_Categorical.csv\")"
   ]
  },
  {
   "cell_type": "code",
   "execution_count": 242,
   "metadata": {},
   "outputs": [],
   "source": [
    "# locations\n",
    "user_location = pd.read_csv(\"data/user_profile/User_Locations.csv\")\n",
    "lte_location = pd.read_csv(\"data/user_profile/User_LTE_Locations.csv\")"
   ]
  },
  {
   "cell_type": "code",
   "execution_count": 314,
   "metadata": {},
   "outputs": [],
   "source": [
    "# user demographics\n",
    "demo_df = pd.read_csv(\"data/user_profile/user_demographics.csv\")"
   ]
  },
  {
   "cell_type": "code",
   "execution_count": 441,
   "metadata": {},
   "outputs": [
    {
     "name": "stderr",
     "output_type": "stream",
     "text": [
      "/Users/chiranhewawitharana/mambaforge/envs/mactf/lib/python3.8/site-packages/IPython/core/interactiveshell.py:3441: DtypeWarning: Columns (3) have mixed types.Specify dtype option on import or set low_memory=False.\n",
      "  exec(code_obj, self.user_global_ns, self.user_ns)\n"
     ]
    }
   ],
   "source": [
    "# VAS\n",
    "megaline_agg_df = pd.read_csv(\"data/user_profile/Megaline_Packages.csv\")\n",
    "ftth_agg_df = pd.read_csv(\"data/user_profile/FTTH_Packages.csv\")\n",
    "lte_agg_df = pd.read_csv(\"data/user_profile/LTE_Packages.csv\")\n",
    "vas_agg_df = pd.read_csv(\"data/user_profile/Paid_Vas_Packages.csv\")\n",
    "package_df = pd.read_csv(\"data/user_profile/Package_Final_list.csv\")"
   ]
  },
  {
   "cell_type": "code",
   "execution_count": 245,
   "metadata": {},
   "outputs": [],
   "source": [
    "# Subscription Types\n",
    "sub_df = pd.read_csv(\"data/user_profile/User_Subscription_Map.csv\")\n",
    "promo_change_df = pd.read_csv(\"data/user_profile/User_Subscription_Changes.csv\")"
   ]
  },
  {
   "cell_type": "code",
   "execution_count": 246,
   "metadata": {},
   "outputs": [],
   "source": [
    "#Extra GB Usage BB\n",
    "extra_GB_df = pd.read_csv(\"data/user_profile/BB_extra_GB_usage.csv\")"
   ]
  },
  {
   "cell_type": "code",
   "execution_count": 247,
   "metadata": {},
   "outputs": [],
   "source": [
    "# Peo TV Extra Channel Usage\n",
    "extra_Peo_df = pd.read_csv(\"data/user_profile/Peo_Extra_Peo_Usage.csv\")"
   ]
  },
  {
   "cell_type": "code",
   "execution_count": 248,
   "metadata": {},
   "outputs": [],
   "source": [
    "# All customers reference\n",
    "all_users_df = pd.read_csv(\"data/user_profile/account_no_map_all.csv\")\n",
    "agg_users_df = pd.read_csv(\"data/user_profile/account_no_map_agg.csv\")"
   ]
  },
  {
   "cell_type": "code",
   "execution_count": 249,
   "metadata": {},
   "outputs": [],
   "source": [
    "# User BB Package Map\n",
    "user_bb_package_df = pd.read_csv(\"data/user_profile/User_BB_Package_Map.csv\")\n",
    "user_peo_packages_df = pd.read_csv(\"data/user_profile/Peo_TV_Users_Packages.csv\")"
   ]
  },
  {
   "cell_type": "code",
   "execution_count": 250,
   "metadata": {},
   "outputs": [],
   "source": [
    "# Payment and billing details\n",
    "payments_df = pd.read_csv(\"data/user_profile/account_no_map_agg.csv\")\n",
    "billing_df = pd.read_csv(\"data/user_profile/User_Billing_Details.csv\")"
   ]
  },
  {
   "cell_type": "markdown",
   "metadata": {},
   "source": [
    "# Data perapration"
   ]
  },
  {
   "cell_type": "code",
   "execution_count": 251,
   "metadata": {},
   "outputs": [
    {
     "name": "stdout",
     "output_type": "stream",
     "text": [
      "<class 'pandas.core.frame.DataFrame'>\n",
      "RangeIndex: 32945 entries, 0 to 32944\n",
      "Data columns (total 2 columns):\n",
      " #   Column            Non-Null Count  Dtype \n",
      "---  ------            --------------  ----- \n",
      " 0   ACCOUNT_NUM.hash  32945 non-null  object\n",
      " 1   BB_Package        32945 non-null  object\n",
      "dtypes: object(2)\n",
      "memory usage: 514.9+ KB\n"
     ]
    }
   ],
   "source": [
    "user_bb_package_df.drop([\"Unnamed: 0\"],axis=1,inplace=True)\n",
    "user_bb_package_df.info()"
   ]
  },
  {
   "cell_type": "code",
   "execution_count": 252,
   "metadata": {},
   "outputs": [
    {
     "name": "stdout",
     "output_type": "stream",
     "text": [
      "<class 'pandas.core.frame.DataFrame'>\n",
      "RangeIndex: 24262 entries, 0 to 24261\n",
      "Data columns (total 2 columns):\n",
      " #   Column             Non-Null Count  Dtype \n",
      "---  ------             --------------  ----- \n",
      " 0   event_source.hash  24262 non-null  object\n",
      " 1   Peo_TV_Package     24262 non-null  object\n",
      "dtypes: object(2)\n",
      "memory usage: 379.2+ KB\n"
     ]
    }
   ],
   "source": [
    "user_peo_packages_df.drop([\"Unnamed: 0\"],axis=1,inplace=True)\n",
    "user_peo_packages_df.info()"
   ]
  },
  {
   "cell_type": "code",
   "execution_count": 253,
   "metadata": {},
   "outputs": [],
   "source": [
    "extra_GB_df.drop([\"Unnamed: 0\"],axis=1,inplace=True)\n",
    "extra_Peo_df.drop([\"Unnamed: 0\"],axis=1,inplace=True)"
   ]
  },
  {
   "cell_type": "code",
   "execution_count": 254,
   "metadata": {},
   "outputs": [
    {
     "name": "stdout",
     "output_type": "stream",
     "text": [
      "<class 'pandas.core.frame.DataFrame'>\n",
      "RangeIndex: 196207 entries, 0 to 196206\n",
      "Data columns (total 6 columns):\n",
      " #   Column            Non-Null Count   Dtype \n",
      "---  ------            --------------   ----- \n",
      " 0   ACCOUNT_NUM.hash  196207 non-null  object\n",
      " 1   Month_Subscribed  196207 non-null  object\n",
      " 2   Rental            196207 non-null  int64 \n",
      " 3   BB_Package        196207 non-null  object\n",
      " 4   GB_AMOUNT         196207 non-null  int64 \n",
      " 5   Hour_Subscribed   196207 non-null  int64 \n",
      "dtypes: int64(3), object(3)\n",
      "memory usage: 9.0+ MB\n"
     ]
    }
   ],
   "source": [
    "extra_GB_df.info()"
   ]
  },
  {
   "cell_type": "code",
   "execution_count": 255,
   "metadata": {},
   "outputs": [
    {
     "name": "stdout",
     "output_type": "stream",
     "text": [
      "<class 'pandas.core.frame.DataFrame'>\n",
      "RangeIndex: 151902 entries, 0 to 151901\n",
      "Data columns (total 3 columns):\n",
      " #   Column            Non-Null Count   Dtype \n",
      "---  ------            --------------   ----- \n",
      " 0   ACCOUNT_NUM.hash  151902 non-null  object\n",
      " 1   Month_Subscribed  151902 non-null  object\n",
      " 2   Rental            151902 non-null  int64 \n",
      "dtypes: int64(1), object(2)\n",
      "memory usage: 3.5+ MB\n"
     ]
    }
   ],
   "source": [
    "extra_Peo_df.info()"
   ]
  },
  {
   "cell_type": "code",
   "execution_count": 256,
   "metadata": {},
   "outputs": [
    {
     "name": "stdout",
     "output_type": "stream",
     "text": [
      "<class 'pandas.core.frame.DataFrame'>\n",
      "RangeIndex: 161886 entries, 0 to 161885\n",
      "Data columns (total 3 columns):\n",
      " #   Column             Non-Null Count   Dtype \n",
      "---  ------             --------------   ----- \n",
      " 0   event_source.hash  161886 non-null  object\n",
      " 1   ACCOUNT_NUM.hash   161886 non-null  object\n",
      " 2   CR.hash            161886 non-null  object\n",
      "dtypes: object(3)\n",
      "memory usage: 3.7+ MB\n"
     ]
    }
   ],
   "source": [
    "all_users_df.drop([\"Unnamed: 0\"],axis=1,inplace=True)\n",
    "all_users_df.info()"
   ]
  },
  {
   "cell_type": "code",
   "execution_count": 257,
   "metadata": {
    "scrolled": true
   },
   "outputs": [],
   "source": [
    "bb_usage.rename(columns={'Unnamed: 0':'event_source.hash'}, inplace=\"True\")\n",
    "bb_usage = bb_usage[['event_source.hash','Usage_Rating_Categorical','Usage_Rating_Scaled']]\n",
    "#bb_usage.drop_duplicates(\"event_source.hash\", inplace=True)\n",
    "bb_usage.drop([0,1], axis=0, inplace=True)\n",
    "# bb_usage"
   ]
  },
  {
   "cell_type": "code",
   "execution_count": 258,
   "metadata": {},
   "outputs": [],
   "source": [
    "voice_incoming_usage = voice_incoming_usage[['event_source.hash','Usage_Rating_Categorical','Usage_Rating_Scaled','Outlier']]\n",
    "#voice_onnet_incoming_usage.drop_duplicates(\"event_source.hash\", inplace=True)\n",
    "# voice_onnet_incoming_usage"
   ]
  },
  {
   "cell_type": "code",
   "execution_count": 259,
   "metadata": {},
   "outputs": [],
   "source": [
    "voice_outgoing_usage = voice_outgoing_usage[['event_source.hash','Usage_Rating_Categorical','Usage_Rating_Scaled','Outlier']]\n",
    "#voice_onnet_outgoing_usage.drop_duplicates(\"event_source.hash\", inplace=True)\n",
    "# voice_onnet_outgoing_usage"
   ]
  },
  {
   "cell_type": "code",
   "execution_count": 260,
   "metadata": {},
   "outputs": [],
   "source": [
    "voice_IDD_incoming_usage = voice_IDD_incoming_usage[['event_source.hash','Usage_Rating_Categorical','Usage_Rating_Scaled','Outlier','incoming_country']]\n",
    "voice_IDD_incoming_usage.rename(columns={\"incoming_country\":\"IDD_incoming_country\"}, inplace=True)\n",
    "#voice_IDD_incoming_usage.drop_duplicates(\"event_source.hash\", inplace=True)\n",
    "#voice_IDD_incoming_usage"
   ]
  },
  {
   "cell_type": "code",
   "execution_count": 261,
   "metadata": {},
   "outputs": [],
   "source": [
    "voice_IDD_outgoing_usage = voice_IDD_outgoing_usage[['event_source.hash','Usage_Rating_Categorical','Usage_Rating_Scaled','Outlier',\"outgoing_country\"]]\n",
    "voice_IDD_outgoing_usage.rename(columns={\"outgoing_country\":\"IDD_outgoing_country\"}, inplace=True)\n",
    "#voice_IDD_outgoing_usage.drop_duplicates(\"event_source.hash\", inplace=True)\n",
    "#voice_IDD_outgoing_usage"
   ]
  },
  {
   "cell_type": "code",
   "execution_count": 262,
   "metadata": {},
   "outputs": [],
   "source": [
    "peo_tv_usage = peo_tv_usage[['event_source.hash','Peo_TV_Package','Usage_Rating_Categorical','Usage_Rating_Scaled']]\n",
    "#peo_tv_usage.drop_duplicates(\"Phone_Number.hash\", inplace=True)\n",
    "#peo_tv_usage"
   ]
  },
  {
   "cell_type": "code",
   "execution_count": 431,
   "metadata": {},
   "outputs": [],
   "source": [
    "def clean_lists(col):\n",
    "    col = list(set(literal_eval(col)))\n",
    "    new_col = []\n",
    "    for i in col:\n",
    "        if not isinstance(i, float):\n",
    "            new_col.append(i)\n",
    "    if len(new_col) == 0:\n",
    "        return \"NO INFO\"\n",
    "    if len(new_col) == 1:\n",
    "        return new_col[0]\n",
    "    else:\n",
    "        return new_col"
   ]
  },
  {
   "cell_type": "code",
   "execution_count": 264,
   "metadata": {},
   "outputs": [],
   "source": [
    "user_location.drop([\"DISPLAYNAME.hash\",\"Unnamed: 0\"],axis=1,inplace=True)\n",
    "all_users_locations_df = user_location.merge(all_users_df,how=\"left\",on=\"CR.hash\")\n",
    "all_users_locations_df.drop([\"CR.hash\"],axis=1,inplace=True)\n",
    "all_users_locations_df = all_users_locations_df.merge(lte_location[[\"event_source.hash\",\"Location_Node\"]],how=\"left\",on=\"event_source.hash\")\n",
    "all_users_locations_df.rename(columns={\"SERVICE_TYPE\":\"Package_Type_and_Medium\",\"MODEL\":\"Model\",\"CIRCUIT_STATUS\":\"Service_Status\"},inplace=True)\n",
    "all_users_locations_df.drop_duplicates(\"event_source.hash\", inplace=True)\n",
    "all_users_locations_df  = all_users_locations_df[[\"ACCOUNT_NUM.hash\",\"Location_Identifier\",\"Location_Node\",\"Package_Type_and_Medium\",\"Model\",\"Service_Status\"]]\n",
    "all_users_locations_df = all_users_locations_df.groupby(\"ACCOUNT_NUM.hash\").agg(list)"
   ]
  },
  {
   "cell_type": "code",
   "execution_count": 265,
   "metadata": {},
   "outputs": [],
   "source": [
    "for col in all_users_locations_df.columns:\n",
    "    all_users_locations_df[col] = all_users_locations_df[col].apply(lambda x: clean_lists(x))"
   ]
  },
  {
   "cell_type": "code",
   "execution_count": 315,
   "metadata": {},
   "outputs": [],
   "source": [
    "demo_df.drop([\"Unnamed: 0\"], axis=1,inplace=True)"
   ]
  },
  {
   "cell_type": "code",
   "execution_count": 442,
   "metadata": {},
   "outputs": [],
   "source": [
    "megaline_agg_df.drop([\"Unnamed: 0\"], axis=1,inplace=True)\n",
    "ftth_agg_df.drop([\"Unnamed: 0\"], axis=1,inplace=True)\n",
    "lte_agg_df.drop([\"Unnamed: 0\"], axis=1,inplace=True)\n",
    "vas_agg_df.drop([\"Unnamed: 0\"], axis=1,inplace=True)\n",
    "package_df.drop([\"Unnamed: 0\"], axis=1,inplace=True)"
   ]
  },
  {
   "cell_type": "code",
   "execution_count": 576,
   "metadata": {},
   "outputs": [],
   "source": [
    "megaline_agg_df.rename(columns={\"MEDIUM\":\"Megaline_Medium\"},inplace=True)\n",
    "ftth_agg_df.rename(columns={\"MEDIUM\":\"FTTH_Medium\"},inplace=True)\n",
    "lte_agg_df.rename(columns={\"MEDIUM\":\"LTE_Medium\"},inplace=True)\n",
    "vas_agg_df.rename(columns={\"MEDIUM\":\"VAS_Medium\"},inplace=True)"
   ]
  },
  {
   "cell_type": "code",
   "execution_count": 444,
   "metadata": {},
   "outputs": [],
   "source": [
    "for col in megaline_agg_df.columns[1:]:\n",
    "    megaline_agg_df[col] = megaline_agg_df[col].apply(lambda x: clean_lists(x))"
   ]
  },
  {
   "cell_type": "code",
   "execution_count": 445,
   "metadata": {},
   "outputs": [],
   "source": [
    "for col in ftth_agg_df.columns[1:]:\n",
    "    ftth_agg_df[col] = ftth_agg_df[col].apply(lambda x: clean_lists(x))"
   ]
  },
  {
   "cell_type": "code",
   "execution_count": 448,
   "metadata": {},
   "outputs": [],
   "source": [
    "for col in lte_agg_df.columns[1:]:\n",
    "    lte_agg_df[col] = lte_agg_df[col].apply(lambda x: clean_lists(x))"
   ]
  },
  {
   "cell_type": "code",
   "execution_count": 450,
   "metadata": {},
   "outputs": [],
   "source": [
    "for col in vas_agg_df.columns[1:]:\n",
    "    vas_agg_df[col] = vas_agg_df[col].apply(lambda x: clean_lists(x))"
   ]
  },
  {
   "cell_type": "code",
   "execution_count": 268,
   "metadata": {},
   "outputs": [],
   "source": [
    "agg_users_df.drop([\"Unnamed: 0\"], axis=1,inplace=True)\n",
    "sub_df.drop([\"Unnamed: 0\"], axis=1,inplace=True)\n",
    "promo_change_df.drop([\"Unnamed: 0\"], axis=1,inplace=True)"
   ]
  },
  {
   "cell_type": "code",
   "execution_count": 269,
   "metadata": {},
   "outputs": [],
   "source": [
    "payments_df.drop([\"Unnamed: 0\"], axis=1,inplace=True)\n",
    "billing_df.drop([\"Unnamed: 0\"], axis=1,inplace=True)"
   ]
  },
  {
   "cell_type": "markdown",
   "metadata": {},
   "source": [
    "#### Merging BB Packages"
   ]
  },
  {
   "cell_type": "code",
   "execution_count": 270,
   "metadata": {},
   "outputs": [],
   "source": [
    "user_bb_package_df = user_bb_package_df.groupby(\"ACCOUNT_NUM.hash\").agg(list)\n",
    "for col in user_bb_package_df.columns:\n",
    "    user_bb_package_df[col] = user_bb_package_df[col].apply(lambda x: clean_lists(x))"
   ]
  },
  {
   "cell_type": "markdown",
   "metadata": {},
   "source": [
    "## Mapping Acc No to Usage DFs"
   ]
  },
  {
   "cell_type": "code",
   "execution_count": 271,
   "metadata": {},
   "outputs": [],
   "source": [
    "peo_tv_usage = peo_tv_usage.merge(all_users_df, how=\"left\",on=\"event_source.hash\")\n",
    "peo_tv_usage = peo_tv_usage[peo_tv_usage['ACCOUNT_NUM.hash'].notna()]\n",
    "peo_tv_usage.drop([\"event_source.hash\",\"CR.hash\"],axis=1,inplace=True)"
   ]
  },
  {
   "cell_type": "code",
   "execution_count": 272,
   "metadata": {},
   "outputs": [],
   "source": [
    "voice_IDD_outgoing_usage = voice_IDD_outgoing_usage.merge(all_users_df, how=\"left\",on=\"event_source.hash\")\n",
    "voice_IDD_outgoing_usage = voice_IDD_outgoing_usage[voice_IDD_outgoing_usage['ACCOUNT_NUM.hash'].notna()]\n",
    "voice_IDD_outgoing_usage.drop([\"event_source.hash\",\"CR.hash\"],axis=1,inplace=True)"
   ]
  },
  {
   "cell_type": "code",
   "execution_count": 273,
   "metadata": {},
   "outputs": [],
   "source": [
    "voice_IDD_incoming_usage = voice_IDD_incoming_usage.merge(all_users_df, how=\"left\",on=\"event_source.hash\")\n",
    "voice_IDD_incoming_usage = voice_IDD_incoming_usage[voice_IDD_incoming_usage['ACCOUNT_NUM.hash'].notna()]\n",
    "voice_IDD_incoming_usage.drop([\"event_source.hash\",\"CR.hash\"],axis=1,inplace=True)"
   ]
  },
  {
   "cell_type": "code",
   "execution_count": 274,
   "metadata": {},
   "outputs": [],
   "source": [
    "voice_outgoing_usage = voice_outgoing_usage.merge(all_users_df, how=\"left\",on=\"event_source.hash\")\n",
    "voice_outgoing_usage = voice_outgoing_usage[voice_outgoing_usage['ACCOUNT_NUM.hash'].notna()]\n",
    "voice_outgoing_usage.drop([\"event_source.hash\",\"CR.hash\"],axis=1,inplace=True)"
   ]
  },
  {
   "cell_type": "code",
   "execution_count": 275,
   "metadata": {},
   "outputs": [],
   "source": [
    "voice_incoming_usage = voice_incoming_usage.merge(all_users_df, how=\"left\",on=\"event_source.hash\")\n",
    "voice_incoming_usage = voice_incoming_usage[voice_incoming_usage['ACCOUNT_NUM.hash'].notna()]\n",
    "voice_incoming_usage.drop([\"event_source.hash\",\"CR.hash\"],axis=1,inplace=True)\n",
    "voice_incoming_usage = voice_incoming_usage[[\"ACCOUNT_NUM.hash\",\"Usage_Rating_Categorical\",\"Usage_Rating_Scaled\",\"Outlier\"]]"
   ]
  },
  {
   "cell_type": "code",
   "execution_count": 276,
   "metadata": {},
   "outputs": [],
   "source": [
    "bb_usage = bb_usage.merge(all_users_df, how=\"left\",on=\"event_source.hash\")\n",
    "bb_usage = bb_usage[bb_usage['ACCOUNT_NUM.hash'].notna()]\n",
    "bb_usage.drop([\"event_source.hash\",\"CR.hash\"],axis=1,inplace=True)\n",
    "bb_usage = bb_usage.merge(user_bb_package_df, how = \"left\", on=\"ACCOUNT_NUM.hash\")\n",
    "bb_usage.drop_duplicates(\"ACCOUNT_NUM.hash\", keep=\"last\", inplace=True)"
   ]
  },
  {
   "cell_type": "code",
   "execution_count": 277,
   "metadata": {},
   "outputs": [
    {
     "name": "stdout",
     "output_type": "stream",
     "text": [
      "(41731, 4)\n",
      "(44745, 4)\n",
      "(43878, 4)\n",
      "(44441, 5)\n",
      "(5330, 5)\n",
      "(11255, 5)\n",
      "(21102, 4)\n"
     ]
    }
   ],
   "source": [
    "# user location \n",
    "print(bb_usage.shape)\n",
    "print(voice_incoming_usage.shape)\n",
    "print(voice_outgoing_usage.shape)\n",
    "print(all_users_locations_df.shape) # merging begins with this\n",
    "print(voice_IDD_outgoing_usage.shape)\n",
    "print(voice_IDD_incoming_usage.shape)\n",
    "print(peo_tv_usage.shape)"
   ]
  },
  {
   "cell_type": "code",
   "execution_count": 316,
   "metadata": {},
   "outputs": [],
   "source": [
    "demo_df.drop([\"event_source.hash\",\"CR.hash\"],axis=1, inplace=True)"
   ]
  },
  {
   "cell_type": "code",
   "execution_count": null,
   "metadata": {},
   "outputs": [],
   "source": []
  },
  {
   "cell_type": "markdown",
   "metadata": {},
   "source": [
    "# User Profile : Usage"
   ]
  },
  {
   "cell_type": "code",
   "execution_count": 577,
   "metadata": {},
   "outputs": [],
   "source": [
    "usage_df = voice_incoming_usage.merge(all_users_locations_df,how='left', on='ACCOUNT_NUM.hash')\n",
    "usage_df.rename(columns={'Usage_Rating_Categorical':'Voice_INCOMING_Categorical',\n",
    "                         'Usage_Rating_Scaled':'Voice_INCOMING_Scaled','Outlier':'Voice_INCOMING_Outlier'}, inplace=\"True\")\n",
    "usage_df.drop_duplicates(\"ACCOUNT_NUM.hash\",inplace=True)"
   ]
  },
  {
   "cell_type": "code",
   "execution_count": 578,
   "metadata": {},
   "outputs": [],
   "source": [
    "usage_df = usage_df.merge(voice_outgoing_usage,how='left', on='ACCOUNT_NUM.hash')\n",
    "usage_df.rename(columns={'Usage_Rating_Categorical':'Voice_OUTGOING_Categorical','Usage_Rating_Scaled':'Voice_OUTGOING_Scaled','Outlier':'Voice_OUTGOING_Outlier'}, inplace=\"True\")\n",
    "usage_df.drop_duplicates(\"ACCOUNT_NUM.hash\",inplace=True)"
   ]
  },
  {
   "cell_type": "code",
   "execution_count": 579,
   "metadata": {},
   "outputs": [],
   "source": [
    "usage_df = usage_df.merge(voice_IDD_incoming_usage,how='left', on='ACCOUNT_NUM.hash')\n",
    "usage_df.rename(columns={'Usage_Rating_Categorical':'IDD_INCOMING_Categorical','Usage_Rating_Scaled':'IDD_INCOMING_Scaled','Outlier':'IDD_INCOMING_Outlier'}, inplace=\"True\")\n",
    "usage_df.drop_duplicates(\"ACCOUNT_NUM.hash\",inplace=True)"
   ]
  },
  {
   "cell_type": "code",
   "execution_count": 580,
   "metadata": {},
   "outputs": [],
   "source": [
    "usage_df = usage_df.merge(voice_IDD_outgoing_usage,how='left', on='ACCOUNT_NUM.hash')\n",
    "usage_df.rename(columns={'Usage_Rating_Categorical':'IDD_OUTGOING_Categorical','Usage_Rating_Scaled':'IDD_OUTGOING_Scaled','Outlier':'IDD_OUTGOING_Outlier'}, inplace=\"True\")\n",
    "usage_df.drop_duplicates(\"ACCOUNT_NUM.hash\",inplace=True)"
   ]
  },
  {
   "cell_type": "code",
   "execution_count": 581,
   "metadata": {},
   "outputs": [],
   "source": [
    "usage_df = usage_df.merge(peo_tv_usage,how='left', on='ACCOUNT_NUM.hash')\n",
    "usage_df.rename(columns={'Usage_Rating_Categorical':'PEO_TV_Categorical','Usage_Rating_Scaled':'PEO_TV_Scaled'}, inplace=\"True\")\n",
    "usage_df.drop_duplicates(\"ACCOUNT_NUM.hash\",inplace=True)"
   ]
  },
  {
   "cell_type": "code",
   "execution_count": 582,
   "metadata": {},
   "outputs": [],
   "source": [
    "# merege BB usage\n",
    "usage_df = usage_df.merge(bb_usage,how='left', on='ACCOUNT_NUM.hash')\n",
    "usage_df.rename(columns={'Usage_Rating_Categorical':'BB_Categorical','Usage_Rating_Scaled':'BB_Scaled'}, inplace=\"True\")\n",
    "usage_df.drop_duplicates(\"ACCOUNT_NUM.hash\",inplace=True)"
   ]
  },
  {
   "cell_type": "markdown",
   "metadata": {},
   "source": [
    "# Adding New Data"
   ]
  },
  {
   "cell_type": "markdown",
   "metadata": {},
   "source": [
    "### Adding demographics"
   ]
  },
  {
   "cell_type": "code",
   "execution_count": 583,
   "metadata": {},
   "outputs": [],
   "source": [
    "usage_df = usage_df.merge(demo_df,how='left', on='ACCOUNT_NUM.hash')"
   ]
  },
  {
   "cell_type": "code",
   "execution_count": 584,
   "metadata": {},
   "outputs": [
    {
     "data": {
      "text/html": [
       "<div>\n",
       "<style scoped>\n",
       "    .dataframe tbody tr th:only-of-type {\n",
       "        vertical-align: middle;\n",
       "    }\n",
       "\n",
       "    .dataframe tbody tr th {\n",
       "        vertical-align: top;\n",
       "    }\n",
       "\n",
       "    .dataframe thead th {\n",
       "        text-align: right;\n",
       "    }\n",
       "</style>\n",
       "<table border=\"1\" class=\"dataframe\">\n",
       "  <thead>\n",
       "    <tr style=\"text-align: right;\">\n",
       "      <th></th>\n",
       "      <th>BIRTH_YEAR</th>\n",
       "      <th>AGE</th>\n",
       "    </tr>\n",
       "  </thead>\n",
       "  <tbody>\n",
       "    <tr>\n",
       "      <th>count</th>\n",
       "      <td>41769.000000</td>\n",
       "      <td>41769.000000</td>\n",
       "    </tr>\n",
       "    <tr>\n",
       "      <th>mean</th>\n",
       "      <td>1966.691685</td>\n",
       "      <td>54.308315</td>\n",
       "    </tr>\n",
       "    <tr>\n",
       "      <th>std</th>\n",
       "      <td>14.003570</td>\n",
       "      <td>14.003570</td>\n",
       "    </tr>\n",
       "    <tr>\n",
       "      <th>min</th>\n",
       "      <td>1922.000000</td>\n",
       "      <td>17.000000</td>\n",
       "    </tr>\n",
       "    <tr>\n",
       "      <th>25%</th>\n",
       "      <td>1957.000000</td>\n",
       "      <td>44.000000</td>\n",
       "    </tr>\n",
       "    <tr>\n",
       "      <th>50%</th>\n",
       "      <td>1967.000000</td>\n",
       "      <td>54.000000</td>\n",
       "    </tr>\n",
       "    <tr>\n",
       "      <th>75%</th>\n",
       "      <td>1977.000000</td>\n",
       "      <td>64.000000</td>\n",
       "    </tr>\n",
       "    <tr>\n",
       "      <th>max</th>\n",
       "      <td>2004.000000</td>\n",
       "      <td>99.000000</td>\n",
       "    </tr>\n",
       "  </tbody>\n",
       "</table>\n",
       "</div>"
      ],
      "text/plain": [
       "         BIRTH_YEAR           AGE\n",
       "count  41769.000000  41769.000000\n",
       "mean    1966.691685     54.308315\n",
       "std       14.003570     14.003570\n",
       "min     1922.000000     17.000000\n",
       "25%     1957.000000     44.000000\n",
       "50%     1967.000000     54.000000\n",
       "75%     1977.000000     64.000000\n",
       "max     2004.000000     99.000000"
      ]
     },
     "execution_count": 584,
     "metadata": {},
     "output_type": "execute_result"
    }
   ],
   "source": [
    "usage_df[[\"BIRTH_YEAR\",\"AGE\"]].describe()"
   ]
  },
  {
   "cell_type": "code",
   "execution_count": 585,
   "metadata": {},
   "outputs": [
    {
     "data": {
      "text/plain": [
       "<AxesSubplot:ylabel='Density'>"
      ]
     },
     "execution_count": 585,
     "metadata": {},
     "output_type": "execute_result"
    },
    {
     "data": {
      "image/png": "[encoded data removed]",
      "text/plain": [
       "<Figure size 432x288 with 1 Axes>"
      ]
     },
     "metadata": {
      "needs_background": "light"
     },
     "output_type": "display_data"
    }
   ],
   "source": [
    "usage_df[\"AGE\"].plot(kind = 'density')"
   ]
  },
  {
   "cell_type": "code",
   "execution_count": 586,
   "metadata": {},
   "outputs": [
    {
     "data": {
      "text/plain": [
       "<AxesSubplot:ylabel='Density'>"
      ]
     },
     "execution_count": 586,
     "metadata": {},
     "output_type": "execute_result"
    },
    {
     "data": {
      "image/png": "[encoded data removed]",
      "text/plain": [
       "<Figure size 432x288 with 1 Axes>"
      ]
     },
     "metadata": {
      "needs_background": "light"
     },
     "output_type": "display_data"
    }
   ],
   "source": [
    "usage_df[\"BIRTH_YEAR\"].plot(kind = 'density')"
   ]
  },
  {
   "cell_type": "markdown",
   "metadata": {},
   "source": [
    "### Demographic Information"
   ]
  },
  {
   "cell_type": "markdown",
   "metadata": {},
   "source": [
    "- 41769 users have demographic info (age, Birth Year, Gender)\n",
    "- Users born from **1922**-2004 \n",
    "- Age vary from 17 y.o. to **99 y.o**\n",
    "- Mean Age - 54 y.o\n",
    "- 75% of users are less than 65 y.o.\n",
    "- Mostly middle aged, and aged customers"
   ]
  },
  {
   "cell_type": "code",
   "execution_count": null,
   "metadata": {},
   "outputs": [],
   "source": []
  },
  {
   "cell_type": "markdown",
   "metadata": {},
   "source": [
    "## Voice Usage Bins"
   ]
  },
  {
   "cell_type": "code",
   "execution_count": 587,
   "metadata": {},
   "outputs": [
    {
     "data": {
      "text/plain": [
       "LOW       35636\n",
       "MEDIUM     8667\n",
       "HIGH        296\n",
       "Name: Voice_INCOMING_Categorical, dtype: int64"
      ]
     },
     "execution_count": 587,
     "metadata": {},
     "output_type": "execute_result"
    }
   ],
   "source": [
    "usage_df[\"Voice_INCOMING_Categorical\"].value_counts()"
   ]
  },
  {
   "cell_type": "code",
   "execution_count": 588,
   "metadata": {},
   "outputs": [],
   "source": [
    "def voice_bin(incoming,outgoing):\n",
    "    if incoming==\"LOW\" and outgoing==\"LOW\":\n",
    "        return \"LOW\"\n",
    "    if incoming==\"HIGH\" and outgoing==\"HIGH\":\n",
    "        return \"HIGH\"\n",
    "    if (incoming==\"HIGH\" and outgoing==\"MEDIUM\") or (incoming==\"MEDIUM\" and outgoing==\"HIGH\"):\n",
    "        return \"HIGH\"\n",
    "    if incoming==\"MEDIUM\" and outgoing==\"MEDIUM\":\n",
    "        return \"MEDIUM\"\n",
    "    if (incoming==\"MEDIUM\" and outgoing==\"LOW\") or (incoming==\"LOW\" and outgoing==\"MEDIUM\"):\n",
    "        return \"LOW\"\n",
    "    if (incoming==\"LOW\" and outgoing==\"HIGH\") or (incoming==\"HIGH\" and outgoing==\"LOW\"):\n",
    "        return \"MEDIUM\"\n",
    "    if (isinstance(incoming,float) and not isinstance(outgoing,float)) or (not isinstance(incoming,float) and isinstance(outgoing,float)):\n",
    "        return \"LOW\"\n",
    "#     if (isinstance(incoming,float) and isinstance(outgoing,float)):\n",
    "#         return \"NO\""
   ]
  },
  {
   "cell_type": "code",
   "execution_count": 589,
   "metadata": {},
   "outputs": [
    {
     "data": {
      "text/plain": [
       "'MEDIUM'"
      ]
     },
     "execution_count": 589,
     "metadata": {},
     "output_type": "execute_result"
    }
   ],
   "source": [
    "# test\n",
    "voice_bin(\"LOW\",\"HIGH\")"
   ]
  },
  {
   "cell_type": "code",
   "execution_count": 590,
   "metadata": {},
   "outputs": [],
   "source": [
    "usage_df[\"Voice_Overall_Categorical\"] = usage_df.apply(lambda x: voice_bin(x[\"Voice_INCOMING_Categorical\"], x[\"Voice_OUTGOING_Categorical\"]), axis=1)"
   ]
  },
  {
   "cell_type": "code",
   "execution_count": 591,
   "metadata": {},
   "outputs": [],
   "source": [
    "usage_df[\"IDD_Overall_Categorical\"] = usage_df.apply(lambda x: voice_bin(x[\"IDD_INCOMING_Categorical\"], x[\"IDD_OUTGOING_Categorical\"]), axis=1)"
   ]
  },
  {
   "cell_type": "code",
   "execution_count": 592,
   "metadata": {},
   "outputs": [],
   "source": [
    "def voice_overall_bin(call_usage):\n",
    "    counts = Counter(call_usage)\n",
    "    if counts[\"LOW\"] > 1:\n",
    "        return \"LOW\"\n",
    "    elif counts[\"HIGH\"] > 1:\n",
    "        return \"HIGH\"\n",
    "    elif counts[\"MEDIUM\"] > 1:\n",
    "        return \"MEDIUM\"\n",
    "    elif counts[\"LOW\"] == 1 and counts[\"MEDIUM\"] == 1 and counts[\"HIGH\"] == 1:\n",
    "        return \"MEDIUM\"\n",
    "    elif counts[\"LOW\"] == 1 and counts[\"MEDIUM\"] == 1:\n",
    "        return \"LOW\"\n",
    "    elif counts[\"MEDIUM\"] == 1 and counts[\"HIGH\"] == 1:\n",
    "        return \"MEDIUM\""
   ]
  },
  {
   "cell_type": "code",
   "execution_count": 593,
   "metadata": {},
   "outputs": [
    {
     "data": {
      "text/plain": [
       "'HIGH'"
      ]
     },
     "execution_count": 593,
     "metadata": {},
     "output_type": "execute_result"
    }
   ],
   "source": [
    "# test\n",
    "voice_overall_bin([\"HIGH\",\"HIGH\",\"NO\"])"
   ]
  },
  {
   "cell_type": "code",
   "execution_count": 594,
   "metadata": {},
   "outputs": [],
   "source": [
    "usage_df[\"VOICE_Categorical\"] = usage_df.apply(lambda x: voice_overall_bin([ x[\"Voice_Overall_Categorical\"], x[\"IDD_Overall_Categorical\"]]), axis=1)"
   ]
  },
  {
   "cell_type": "code",
   "execution_count": 595,
   "metadata": {},
   "outputs": [
    {
     "data": {
      "text/html": [
       "<div>\n",
       "<style scoped>\n",
       "    .dataframe tbody tr th:only-of-type {\n",
       "        vertical-align: middle;\n",
       "    }\n",
       "\n",
       "    .dataframe tbody tr th {\n",
       "        vertical-align: top;\n",
       "    }\n",
       "\n",
       "    .dataframe thead th {\n",
       "        text-align: right;\n",
       "    }\n",
       "</style>\n",
       "<table border=\"1\" class=\"dataframe\">\n",
       "  <thead>\n",
       "    <tr style=\"text-align: right;\">\n",
       "      <th></th>\n",
       "      <th>ACCOUNT_NUM.hash</th>\n",
       "      <th>Voice_INCOMING_Categorical</th>\n",
       "      <th>Voice_INCOMING_Scaled</th>\n",
       "      <th>Voice_INCOMING_Outlier</th>\n",
       "      <th>Location_Identifier</th>\n",
       "      <th>Location_Node</th>\n",
       "      <th>Package_Type_and_Medium</th>\n",
       "      <th>Model</th>\n",
       "      <th>Service_Status</th>\n",
       "      <th>Voice_OUTGOING_Categorical</th>\n",
       "      <th>...</th>\n",
       "      <th>PEO_TV_Scaled</th>\n",
       "      <th>BB_Categorical</th>\n",
       "      <th>BB_Scaled</th>\n",
       "      <th>BB_Package</th>\n",
       "      <th>GENDER</th>\n",
       "      <th>BIRTH_YEAR</th>\n",
       "      <th>AGE</th>\n",
       "      <th>Voice_Overall_Categorical</th>\n",
       "      <th>IDD_Overall_Categorical</th>\n",
       "      <th>VOICE_Categorical</th>\n",
       "    </tr>\n",
       "  </thead>\n",
       "  <tbody>\n",
       "  </tbody>\n",
       "</table>\n",
       "<p>0 rows × 32 columns</p>\n",
       "</div>"
      ],
      "text/plain": [
       "Empty DataFrame\n",
       "Columns: [ACCOUNT_NUM.hash, Voice_INCOMING_Categorical, Voice_INCOMING_Scaled, Voice_INCOMING_Outlier, Location_Identifier, Location_Node, Package_Type_and_Medium, Model, Service_Status, Voice_OUTGOING_Categorical, Voice_OUTGOING_Scaled, Voice_OUTGOING_Outlier, IDD_INCOMING_Categorical, IDD_INCOMING_Scaled, IDD_INCOMING_Outlier, IDD_incoming_country, IDD_OUTGOING_Categorical, IDD_OUTGOING_Scaled, IDD_OUTGOING_Outlier, IDD_outgoing_country, Peo_TV_Package, PEO_TV_Categorical, PEO_TV_Scaled, BB_Categorical, BB_Scaled, BB_Package, GENDER, BIRTH_YEAR, AGE, Voice_Overall_Categorical, IDD_Overall_Categorical, VOICE_Categorical]\n",
       "Index: []\n",
       "\n",
       "[0 rows x 32 columns]"
      ]
     },
     "execution_count": 595,
     "metadata": {},
     "output_type": "execute_result"
    }
   ],
   "source": [
    "usage_df[(usage_df[\"VOICE_Categorical\"] == \"NO\")]"
   ]
  },
  {
   "cell_type": "markdown",
   "metadata": {},
   "source": [
    "## Subscrition Types"
   ]
  },
  {
   "cell_type": "code",
   "execution_count": 596,
   "metadata": {},
   "outputs": [],
   "source": [
    "usage_df = usage_df.merge(sub_df,how='left',on=[\"ACCOUNT_NUM.hash\"])"
   ]
  },
  {
   "cell_type": "code",
   "execution_count": 597,
   "metadata": {},
   "outputs": [],
   "source": [
    "def check_product_level(voice,bb,tv):\n",
    "    if not isinstance(voice,float): \n",
    "        if isinstance(bb,float) and isinstance(tv,float):\n",
    "            return \"SINGLE_PLAY\"\n",
    "        if not isinstance(bb,float) and isinstance(tv,float):\n",
    "            return \"DOUBLE_PLAY_BV\"\n",
    "        if isinstance(bb,float) and not isinstance(tv,float):\n",
    "            return \"DOUBLE_PLAY_PV\"\n",
    "        if not isinstance(bb,float) and not isinstance(tv,float):\n",
    "            return \"TRIPLE_PLAY\""
   ]
  },
  {
   "cell_type": "code",
   "execution_count": 598,
   "metadata": {},
   "outputs": [],
   "source": [
    "usage_df[\"Play_Type\"] = usage_df.apply(lambda x: check_product_level(x[\"VOICE_Categorical\"], x[\"BB_Categorical\"], x[\"PEO_TV_Categorical\"]), axis=1)"
   ]
  },
  {
   "cell_type": "code",
   "execution_count": 599,
   "metadata": {},
   "outputs": [
    {
     "data": {
      "text/plain": [
       "DOUBLE_PLAY_BV    16575\n",
       "TRIPLE_PLAY       15626\n",
       "SINGLE_PLAY        7749\n",
       "DOUBLE_PLAY_PV     4649\n",
       "Name: Play_Type, dtype: int64"
      ]
     },
     "execution_count": 599,
     "metadata": {},
     "output_type": "execute_result"
    }
   ],
   "source": [
    "usage_df[\"Play_Type\"].value_counts()"
   ]
  },
  {
   "cell_type": "code",
   "execution_count": 600,
   "metadata": {},
   "outputs": [],
   "source": [
    "# play usage\n",
    "def play_usage(usage):\n",
    "    if len(usage)>2:\n",
    "        new_usage=[]\n",
    "        for el in usage:\n",
    "            if isinstance(el,float) or el==\"nan\" or el==None:\n",
    "                new_usage.append(\"NO_INFO\")\n",
    "            else:\n",
    "                new_usage.append(el)\n",
    "        return [f\"VOICE_{new_usage[0]}\", f\"BB_{new_usage[1]}\", f\"TV_{new_usage[2]}\"]\n",
    "    else:\n",
    "        return \"ERR\""
   ]
  },
  {
   "cell_type": "code",
   "execution_count": 601,
   "metadata": {},
   "outputs": [
    {
     "data": {
      "text/plain": [
       "['VOICE_LOW', 'BB_HIGH', 'TV_LOW']"
      ]
     },
     "execution_count": 601,
     "metadata": {},
     "output_type": "execute_result"
    }
   ],
   "source": [
    "# test\n",
    "play_usage([\"LOW\",\"HIGH\",\"LOW\"])"
   ]
  },
  {
   "cell_type": "code",
   "execution_count": 602,
   "metadata": {},
   "outputs": [],
   "source": [
    "usage_df[\"Sub_Usage\"] = usage_df.apply(lambda x: play_usage([x[\"VOICE_Categorical\"], x[\"BB_Categorical\"], x[\"PEO_TV_Categorical\"]]), axis=1)"
   ]
  },
  {
   "cell_type": "code",
   "execution_count": 603,
   "metadata": {},
   "outputs": [
    {
     "data": {
      "text/plain": [
       "Sub_Type        Play_Type     \n",
       "TRIPLE_PLAY     TRIPLE_PLAY       3829\n",
       "DOUBLE_PLAY_BV  DOUBLE_PLAY_BV    2802\n",
       "SINGLE_PLAY     SINGLE_PLAY       2691\n",
       "DOUBLE_PLAY_PV  DOUBLE_PLAY_PV    1038\n",
       "                TRIPLE_PLAY        927\n",
       "TRIPLE_PLAY     DOUBLE_PLAY_PV     851\n",
       "SINGLE_PLAY     DOUBLE_PLAY_BV     764\n",
       "DOUBLE_PLAY_BV  SINGLE_PLAY        507\n",
       "TRIPLE_PLAY     DOUBLE_PLAY_BV     348\n",
       "                SINGLE_PLAY        165\n",
       "DOUBLE_PLAY_BV  TRIPLE_PLAY        124\n",
       "DOUBLE_PLAY_PV  SINGLE_PLAY        104\n",
       "SINGLE_PLAY     TRIPLE_PLAY         74\n",
       "4G              DOUBLE_PLAY_BV      68\n",
       "DOUBLE_PLAY_PV  DOUBLE_PLAY_BV      61\n",
       "SINGLE_PLAY     DOUBLE_PLAY_PV      32\n",
       "DOUBLE_PLAY_BV  DOUBLE_PLAY_PV      23\n",
       "4G              SINGLE_PLAY          4\n",
       "dtype: int64"
      ]
     },
     "execution_count": 603,
     "metadata": {},
     "output_type": "execute_result"
    }
   ],
   "source": [
    "usage_df[[\"Sub_Type\",\"Play_Type\"]].value_counts()"
   ]
  },
  {
   "cell_type": "code",
   "execution_count": 604,
   "metadata": {},
   "outputs": [],
   "source": [
    "def check_sub_type(sub):\n",
    "    if isinstance(sub, float):\n",
    "        return \"Assumed\"\n",
    "    else:\n",
    "        return \"Actual\""
   ]
  },
  {
   "cell_type": "code",
   "execution_count": 605,
   "metadata": {},
   "outputs": [],
   "source": [
    "usage_df[\"Sub_Type_State\"]=usage_df[\"Sub_Type\"].apply(lambda x: check_sub_type(x))"
   ]
  },
  {
   "cell_type": "code",
   "execution_count": 606,
   "metadata": {},
   "outputs": [],
   "source": [
    "def merge_sub_types(sub1,sub2):\n",
    "    if isinstance(sub1, float):\n",
    "        return sub2\n",
    "    else:\n",
    "        return sub1"
   ]
  },
  {
   "cell_type": "code",
   "execution_count": 607,
   "metadata": {},
   "outputs": [],
   "source": [
    "usage_df[\"Sub_Type\"] = usage_df.apply(lambda x: merge_sub_types(x[\"Sub_Type\"], x[\"Play_Type\"]), axis=1)"
   ]
  },
  {
   "cell_type": "code",
   "execution_count": 608,
   "metadata": {},
   "outputs": [],
   "source": [
    "usage_df.drop([\"Play_Type\"],axis=1,inplace=True)"
   ]
  },
  {
   "cell_type": "code",
   "execution_count": 609,
   "metadata": {},
   "outputs": [
    {
     "data": {
      "text/plain": [
       "Assumed    30187\n",
       "Actual     14412\n",
       "Name: Sub_Type_State, dtype: int64"
      ]
     },
     "execution_count": 609,
     "metadata": {},
     "output_type": "execute_result"
    }
   ],
   "source": [
    "usage_df[\"Sub_Type_State\"].value_counts()"
   ]
  },
  {
   "cell_type": "code",
   "execution_count": 610,
   "metadata": {},
   "outputs": [
    {
     "data": {
      "text/plain": [
       "DOUBLE_PLAY_BV    15988\n",
       "TRIPLE_PLAY       15865\n",
       "SINGLE_PLAY        7839\n",
       "DOUBLE_PLAY_PV     4835\n",
       "4G                   72\n",
       "Name: Sub_Type, dtype: int64"
      ]
     },
     "execution_count": 610,
     "metadata": {},
     "output_type": "execute_result"
    }
   ],
   "source": [
    "usage_df[\"Sub_Type\"].value_counts()"
   ]
  },
  {
   "cell_type": "markdown",
   "metadata": {},
   "source": [
    "### Note\n",
    "\n",
    "- Actual Subscription information - for **14412** Subscribers\n",
    "- Assumed on usage - **30187**"
   ]
  },
  {
   "cell_type": "markdown",
   "metadata": {},
   "source": [
    "### Wait! Contradiction??"
   ]
  },
  {
   "cell_type": "code",
   "execution_count": 611,
   "metadata": {},
   "outputs": [
    {
     "data": {
      "text/plain": [
       "LOW       687\n",
       "MEDIUM    239\n",
       "HIGH       62\n",
       "Name: BB_Categorical, dtype: int64"
      ]
     },
     "execution_count": 611,
     "metadata": {},
     "output_type": "execute_result"
    }
   ],
   "source": [
    "usage_df[(usage_df[\"Sub_Type\"] == \"DOUBLE_PLAY_PV\")][\"BB_Categorical\"].value_counts()"
   ]
  },
  {
   "cell_type": "code",
   "execution_count": 612,
   "metadata": {},
   "outputs": [
    {
     "data": {
      "text/plain": [
       "LOW       637\n",
       "MEDIUM    136\n",
       "HIGH       65\n",
       "Name: BB_Categorical, dtype: int64"
      ]
     },
     "execution_count": 612,
     "metadata": {},
     "output_type": "execute_result"
    }
   ],
   "source": [
    "usage_df[(usage_df[\"Sub_Type\"] == \"SINGLE_PLAY\")][\"BB_Categorical\"].value_counts()"
   ]
  },
  {
   "cell_type": "code",
   "execution_count": 613,
   "metadata": {},
   "outputs": [
    {
     "data": {
      "text/plain": [
       "LOW       51\n",
       "MEDIUM    39\n",
       "HIGH      16\n",
       "Name: PEO_TV_Categorical, dtype: int64"
      ]
     },
     "execution_count": 613,
     "metadata": {},
     "output_type": "execute_result"
    }
   ],
   "source": [
    "usage_df[(usage_df[\"Sub_Type\"] == \"SINGLE_PLAY\")][\"PEO_TV_Categorical\"].value_counts()"
   ]
  },
  {
   "cell_type": "code",
   "execution_count": 614,
   "metadata": {},
   "outputs": [
    {
     "data": {
      "text/plain": [
       "MEDIUM    61\n",
       "LOW       58\n",
       "HIGH      28\n",
       "Name: PEO_TV_Categorical, dtype: int64"
      ]
     },
     "execution_count": 614,
     "metadata": {},
     "output_type": "execute_result"
    }
   ],
   "source": [
    "usage_df[(usage_df[\"Sub_Type\"] == \"DOUBLE_PLAY_BV\")][\"PEO_TV_Categorical\"].value_counts()"
   ]
  },
  {
   "cell_type": "markdown",
   "metadata": {},
   "source": [
    "### Why??\n",
    "- These subscribers may have used the services within 2019-01 to 2021-01 and however downgraded thier services by the time of BSS dataset has generated"
   ]
  },
  {
   "cell_type": "markdown",
   "metadata": {},
   "source": [
    "### Dropping contradictory subscribers"
   ]
  },
  {
   "cell_type": "code",
   "execution_count": 615,
   "metadata": {},
   "outputs": [],
   "source": [
    "usage_df = usage_df.drop(usage_df[(usage_df[\"Sub_Type\"] == \"DOUBLE_PLAY_PV\") & (usage_df[\"BB_Categorical\"].notna())].index)"
   ]
  },
  {
   "cell_type": "code",
   "execution_count": 616,
   "metadata": {},
   "outputs": [
    {
     "data": {
      "text/plain": [
       "Series([], Name: BB_Categorical, dtype: int64)"
      ]
     },
     "execution_count": 616,
     "metadata": {},
     "output_type": "execute_result"
    }
   ],
   "source": [
    "usage_df[(usage_df[\"Sub_Type\"] == \"DOUBLE_PLAY_PV\")][\"BB_Categorical\"].value_counts()"
   ]
  },
  {
   "cell_type": "code",
   "execution_count": 617,
   "metadata": {},
   "outputs": [],
   "source": [
    "usage_df = usage_df.drop(usage_df[(usage_df[\"Sub_Type\"] == \"SINGLE_PLAY\") & (usage_df[\"BB_Categorical\"].notna())].index)"
   ]
  },
  {
   "cell_type": "code",
   "execution_count": 618,
   "metadata": {},
   "outputs": [
    {
     "data": {
      "text/plain": [
       "Series([], Name: BB_Categorical, dtype: int64)"
      ]
     },
     "execution_count": 618,
     "metadata": {},
     "output_type": "execute_result"
    }
   ],
   "source": [
    "usage_df[(usage_df[\"Sub_Type\"] == \"SINGLE_PLAY\")][\"BB_Categorical\"].value_counts()"
   ]
  },
  {
   "cell_type": "code",
   "execution_count": 619,
   "metadata": {},
   "outputs": [],
   "source": [
    "usage_df = usage_df.drop(usage_df[(usage_df[\"Sub_Type\"] == \"SINGLE_PLAY\") & (usage_df[\"PEO_TV_Categorical\"] != \"NO\") & (usage_df[\"PEO_TV_Categorical\"].notna())].index)"
   ]
  },
  {
   "cell_type": "code",
   "execution_count": 620,
   "metadata": {},
   "outputs": [
    {
     "data": {
      "text/plain": [
       "Series([], Name: PEO_TV_Categorical, dtype: int64)"
      ]
     },
     "execution_count": 620,
     "metadata": {},
     "output_type": "execute_result"
    }
   ],
   "source": [
    "usage_df[(usage_df[\"Sub_Type\"] == \"SINGLE_PLAY\")][\"PEO_TV_Categorical\"].value_counts()"
   ]
  },
  {
   "cell_type": "code",
   "execution_count": 621,
   "metadata": {},
   "outputs": [],
   "source": [
    "usage_df = usage_df.drop(usage_df[(usage_df[\"Sub_Type\"] == \"DOUBLE_PLAY_BV\") & (usage_df[\"PEO_TV_Categorical\"] != \"NO\") & (usage_df[\"PEO_TV_Categorical\"].notna())].index)"
   ]
  },
  {
   "cell_type": "code",
   "execution_count": 622,
   "metadata": {},
   "outputs": [
    {
     "data": {
      "text/plain": [
       "Series([], Name: PEO_TV_Categorical, dtype: int64)"
      ]
     },
     "execution_count": 622,
     "metadata": {},
     "output_type": "execute_result"
    }
   ],
   "source": [
    "usage_df[(usage_df[\"Sub_Type\"] == \"DOUBLE_PLAY_BV\")][\"PEO_TV_Categorical\"].value_counts()"
   ]
  },
  {
   "cell_type": "code",
   "execution_count": 623,
   "metadata": {},
   "outputs": [
    {
     "data": {
      "text/plain": [
       "TRIPLE_PLAY       15865\n",
       "DOUBLE_PLAY_BV    15841\n",
       "SINGLE_PLAY        6969\n",
       "DOUBLE_PLAY_PV     3847\n",
       "4G                   72\n",
       "Name: Sub_Type, dtype: int64"
      ]
     },
     "execution_count": 623,
     "metadata": {},
     "output_type": "execute_result"
    }
   ],
   "source": [
    "usage_df[\"Sub_Type\"].value_counts()"
   ]
  },
  {
   "cell_type": "code",
   "execution_count": 624,
   "metadata": {},
   "outputs": [
    {
     "data": {
      "text/plain": [
       "<AxesSubplot:ylabel='Sub_Type'>"
      ]
     },
     "execution_count": 624,
     "metadata": {},
     "output_type": "execute_result"
    },
    {
     "data": {
      "image/png": "[encoded data removed]",
      "text/plain": [
       "<Figure size 648x648 with 1 Axes>"
      ]
     },
     "metadata": {},
     "output_type": "display_data"
    }
   ],
   "source": [
    "usage_df[\"Sub_Type\"].value_counts().plot(kind='pie', figsize=(9,9), autopct='%1.1f%%', colors=['pink','yellow','orange','green','blue'])"
   ]
  },
  {
   "cell_type": "code",
   "execution_count": null,
   "metadata": {},
   "outputs": [],
   "source": []
  },
  {
   "cell_type": "markdown",
   "metadata": {},
   "source": [
    "## Service Packages and VAS\n",
    "- categories derived from \"Product State Changes\" and \"VAS\" datasets"
   ]
  },
  {
   "cell_type": "code",
   "execution_count": 625,
   "metadata": {},
   "outputs": [],
   "source": [
    "usage_df = usage_df.merge(megaline_agg_df,how='left', on='ACCOUNT_NUM.hash')"
   ]
  },
  {
   "cell_type": "code",
   "execution_count": 626,
   "metadata": {},
   "outputs": [],
   "source": [
    "usage_df = usage_df.merge(ftth_agg_df,how='left', on='ACCOUNT_NUM.hash')"
   ]
  },
  {
   "cell_type": "code",
   "execution_count": 627,
   "metadata": {},
   "outputs": [],
   "source": [
    "usage_df.Package_Type_x.fillna(usage_df.Package_Type_y,inplace=True)\n",
    "usage_df.is_Promotion_x.fillna(usage_df.is_Promotion_y,inplace=True)\n",
    "usage_df.drop([\"Package_Type_y\",\"is_Promotion_y\"],axis=1, inplace=True)\n",
    "usage_df.rename(columns={\"Package_Type_x\":\"Package_Type\",\"is_Promotion_x\":\"is_Promotion\"},inplace=True)"
   ]
  },
  {
   "cell_type": "code",
   "execution_count": 628,
   "metadata": {},
   "outputs": [],
   "source": [
    "usage_df = usage_df.merge(lte_agg_df,how='left', on='ACCOUNT_NUM.hash')"
   ]
  },
  {
   "cell_type": "code",
   "execution_count": 629,
   "metadata": {},
   "outputs": [],
   "source": [
    "usage_df.Package_Type_x.fillna(usage_df.Package_Type_y,inplace=True)\n",
    "usage_df.is_Promotion_x.fillna(usage_df.is_Promotion_y,inplace=True)\n",
    "usage_df.drop([\"Package_Type_y\",\"is_Promotion_y\"],axis=1, inplace=True)\n",
    "usage_df.rename(columns={\"Package_Type_x\":\"Package_Type\",\"is_Promotion_x\":\"is_Promotion\"},inplace=True)"
   ]
  },
  {
   "cell_type": "code",
   "execution_count": 630,
   "metadata": {},
   "outputs": [
    {
     "name": "stdout",
     "output_type": "stream",
     "text": [
      "<class 'pandas.core.frame.DataFrame'>\n",
      "Int64Index: 42594 entries, 0 to 42593\n",
      "Data columns (total 50 columns):\n",
      " #   Column                      Non-Null Count  Dtype  \n",
      "---  ------                      --------------  -----  \n",
      " 0   ACCOUNT_NUM.hash            42594 non-null  object \n",
      " 1   Voice_INCOMING_Categorical  42594 non-null  object \n",
      " 2   Voice_INCOMING_Scaled       42594 non-null  float64\n",
      " 3   Voice_INCOMING_Outlier      42594 non-null  object \n",
      " 4   Location_Identifier         39282 non-null  object \n",
      " 5   Location_Node               39282 non-null  object \n",
      " 6   Package_Type_and_Medium     39282 non-null  object \n",
      " 7   Model                       39282 non-null  object \n",
      " 8   Service_Status              39282 non-null  object \n",
      " 9   Voice_OUTGOING_Categorical  41333 non-null  object \n",
      " 10  Voice_OUTGOING_Scaled       41333 non-null  float64\n",
      " 11  Voice_OUTGOING_Outlier      41333 non-null  object \n",
      " 12  IDD_INCOMING_Categorical    10723 non-null  object \n",
      " 13  IDD_INCOMING_Scaled         10723 non-null  float64\n",
      " 14  IDD_INCOMING_Outlier        10723 non-null  object \n",
      " 15  IDD_incoming_country        10723 non-null  object \n",
      " 16  IDD_OUTGOING_Categorical    5078 non-null   object \n",
      " 17  IDD_OUTGOING_Scaled         5078 non-null   float64\n",
      " 18  IDD_OUTGOING_Outlier        5078 non-null   object \n",
      " 19  IDD_outgoing_country        5078 non-null   object \n",
      " 20  Peo_TV_Package              19095 non-null  object \n",
      " 21  PEO_TV_Categorical          19095 non-null  object \n",
      " 22  PEO_TV_Scaled               19095 non-null  float64\n",
      " 23  BB_Categorical              30251 non-null  object \n",
      " 24  BB_Scaled                   33465 non-null  float64\n",
      " 25  BB_Package                  14790 non-null  object \n",
      " 26  GENDER                      39884 non-null  object \n",
      " 27  BIRTH_YEAR                  39884 non-null  float64\n",
      " 28  AGE                         39884 non-null  float64\n",
      " 29  Voice_Overall_Categorical   42594 non-null  object \n",
      " 30  IDD_Overall_Categorical     12507 non-null  object \n",
      " 31  VOICE_Categorical           11782 non-null  object \n",
      " 32  Subscription                12407 non-null  object \n",
      " 33  Sub_Type                    42594 non-null  object \n",
      " 34  Sub_Usage                   42594 non-null  object \n",
      " 35  Sub_Type_State              42594 non-null  object \n",
      " 36  Megaline_Package            42588 non-null  object \n",
      " 37  Megaline_Month_Subscribed   42588 non-null  object \n",
      " 38  Megaline_Rental             42588 non-null  object \n",
      " 39  Package_Type                42590 non-null  object \n",
      " 40  Megaline_Medium             42588 non-null  object \n",
      " 41  is_Promotion                42590 non-null  object \n",
      " 42  FTTH_Package                6438 non-null   object \n",
      " 43  FTTH_Month_Subscribed       6438 non-null   object \n",
      " 44  FTTH_Rental                 6438 non-null   object \n",
      " 45  FTTH_Medium                 6438 non-null   object \n",
      " 46  LTE_Package                 33047 non-null  object \n",
      " 47  LTE_Month_Subscribed        33047 non-null  object \n",
      " 48  LTE_Rental                  33047 non-null  object \n",
      " 49  LTE_Medium                  33047 non-null  object \n",
      "dtypes: float64(8), object(42)\n",
      "memory usage: 16.6+ MB\n"
     ]
    }
   ],
   "source": [
    "usage_df.info()"
   ]
  },
  {
   "cell_type": "code",
   "execution_count": null,
   "metadata": {},
   "outputs": [],
   "source": []
  },
  {
   "cell_type": "code",
   "execution_count": 104,
   "metadata": {},
   "outputs": [],
   "source": [
    "vas_agg_df.rename(columns={\"Package\":\"VAS_Package\",\"Month_Subscribed\":\"VAS_Month_Subscribed\",\"Rental\":\"VAS_Rental\",\\\n",
    "                          \"One_Time_Charge\":\"VAS_One_Time_Charge\"},inplace=True)"
   ]
  },
  {
   "cell_type": "code",
   "execution_count": 105,
   "metadata": {},
   "outputs": [],
   "source": [
    "usage_df = usage_df.merge(vas_agg_df,how='left', on='ACCOUNT_NUM.hash')"
   ]
  },
  {
   "cell_type": "code",
   "execution_count": 106,
   "metadata": {},
   "outputs": [],
   "source": [
    "usage_df.Package_Type_x.fillna(usage_df.Package_Type_y,inplace=True)"
   ]
  },
  {
   "cell_type": "code",
   "execution_count": 107,
   "metadata": {},
   "outputs": [],
   "source": [
    "usage_df[\"MEDIUM\"] = usage_df.apply(lambda x:connect_medium(x[\"MEDIUM_x\"],x[\"MEDIUM_y\"]),axis=1)"
   ]
  },
  {
   "cell_type": "code",
   "execution_count": 108,
   "metadata": {},
   "outputs": [],
   "source": [
    "usage_df.drop([\"Package_Type_y\",\"MEDIUM_y\",\"MEDIUM_x\"],axis=1, inplace=True)\n",
    "usage_df.rename(columns={\"Package_Type_x\":\"Package_Type\"},inplace=True)"
   ]
  },
  {
   "cell_type": "code",
   "execution_count": 109,
   "metadata": {},
   "outputs": [],
   "source": [
    "usage_df[\"MEDIUM\"] = usage_df[\"MEDIUM\"].apply(lambda x: str(x).replace(\"[\",\"\").replace(\"]\",\"\").replace(\"[]\",\"\").replace(\"'\",\"\").replace('\"',''))"
   ]
  },
  {
   "cell_type": "markdown",
   "metadata": {},
   "source": [
    "## Subscription upgrades and Downgrades"
   ]
  },
  {
   "cell_type": "code",
   "execution_count": 110,
   "metadata": {},
   "outputs": [
    {
     "name": "stdout",
     "output_type": "stream",
     "text": [
      "<class 'pandas.core.frame.DataFrame'>\n",
      "RangeIndex: 758 entries, 0 to 757\n",
      "Data columns (total 4 columns):\n",
      " #   Column             Non-Null Count  Dtype \n",
      "---  ------             --------------  ----- \n",
      " 0   ACCOUNT_NUM.hash   758 non-null    object\n",
      " 1   Sub_Update_Date    758 non-null    object\n",
      " 2   Sub_Update_Status  758 non-null    object\n",
      " 3   Sub_Update         758 non-null    object\n",
      "dtypes: object(4)\n",
      "memory usage: 23.8+ KB\n"
     ]
    }
   ],
   "source": [
    "promo_change_df.info()"
   ]
  },
  {
   "cell_type": "code",
   "execution_count": 111,
   "metadata": {},
   "outputs": [],
   "source": [
    "usage_df = usage_df.merge(promo_change_df,how='left', on='ACCOUNT_NUM.hash')"
   ]
  },
  {
   "cell_type": "code",
   "execution_count": 112,
   "metadata": {},
   "outputs": [
    {
     "data": {
      "text/plain": [
       "Sub_Update_Status    Sub_Update                      \n",
       "Promotion Downgrade  DOUBLE_PLAY_BV -> SINGLE_PLAY       129\n",
       "Promotion Upgrade    DOUBLE_PLAY_PV -> TRIPLE_PLAY       127\n",
       "                     SINGLE_PLAY -> DOUBLE_PLAY_BV       109\n",
       "Promotion Downgrade  TRIPLE_PLAY -> DOUBLE_PLAY_PV        72\n",
       "Promotion Upgrade    DOUBLE_PLAY_BV -> TRIPLE_PLAY        69\n",
       "                     SINGLE_PLAY -> DOUBLE_PLAY_PV        62\n",
       "Promotion Downgrade  TRIPLE_PLAY -> SINGLE_PLAY           32\n",
       "Promotion Upgrade    SINGLE_PLAY -> TRIPLE_PLAY           25\n",
       "Promotion Downgrade  DOUBLE_PLAY_PV -> SINGLE_PLAY        21\n",
       "                     TRIPLE_PLAY -> DOUBLE_PLAY_BV        12\n",
       "Promotion Upgrade    4G -> 4G                              1\n",
       "                     DOUBLE_PLAY_PV -> DOUBLE_PLAY_BV      1\n",
       "dtype: int64"
      ]
     },
     "execution_count": 112,
     "metadata": {},
     "output_type": "execute_result"
    }
   ],
   "source": [
    "usage_df[[\"Sub_Update_Status\",\"Sub_Update\"]].value_counts()"
   ]
  },
  {
   "cell_type": "code",
   "execution_count": 113,
   "metadata": {},
   "outputs": [
    {
     "data": {
      "text/plain": [
       "<AxesSubplot:ylabel='None'>"
      ]
     },
     "execution_count": 113,
     "metadata": {},
     "output_type": "execute_result"
    },
    {
     "data": {
      "image/png": "[encoded data removed]",
      "text/plain": [
       "<Figure size 720x720 with 1 Axes>"
      ]
     },
     "metadata": {},
     "output_type": "display_data"
    }
   ],
   "source": [
    "fig = plt.figure(figsize=(10,10))\n",
    "ax = plt.subplot(111)\n",
    "usage_df[[\"Sub_Update_Status\"]].value_counts().plot(kind='pie', ax=ax, autopct='%1.1f%%', startangle=270, fontsize=12)"
   ]
  },
  {
   "cell_type": "code",
   "execution_count": null,
   "metadata": {},
   "outputs": [],
   "source": []
  },
  {
   "cell_type": "markdown",
   "metadata": {},
   "source": [
    "## BB Extra GB Purchased"
   ]
  },
  {
   "cell_type": "code",
   "execution_count": 114,
   "metadata": {},
   "outputs": [],
   "source": [
    "extra_GB_df.drop([\"Unnamed: 0\"],axis=1, inplace=True)\n",
    "extra_GB_df.rename(columns={\"Month_Subscribed\":\"BB_Extra_GB_Purchased_Month\",\"Rental\":\"BB_Extra_GB_Rental\"}, inplace=True)"
   ]
  },
  {
   "cell_type": "code",
   "execution_count": 115,
   "metadata": {},
   "outputs": [
    {
     "name": "stdout",
     "output_type": "stream",
     "text": [
      "<class 'pandas.core.frame.DataFrame'>\n",
      "RangeIndex: 7679 entries, 0 to 7678\n",
      "Data columns (total 4 columns):\n",
      " #   Column                       Non-Null Count  Dtype  \n",
      "---  ------                       --------------  -----  \n",
      " 0   ACCOUNT_NUM.hash             7679 non-null   object \n",
      " 1   VAS                          7679 non-null   object \n",
      " 2   BB_Extra_GB_Purchased_Month  7679 non-null   object \n",
      " 3   BB_Extra_GB_Rental           2307 non-null   float64\n",
      "dtypes: float64(1), object(3)\n",
      "memory usage: 240.1+ KB\n"
     ]
    }
   ],
   "source": [
    "extra_GB_df.info()"
   ]
  },
  {
   "cell_type": "code",
   "execution_count": 116,
   "metadata": {},
   "outputs": [],
   "source": [
    "extra_GB_df[\"BB_Extra_GB_Usage_Times\"] = 1"
   ]
  },
  {
   "cell_type": "code",
   "execution_count": 117,
   "metadata": {},
   "outputs": [],
   "source": [
    "extra_GB_agg_df = extra_GB_df.groupby('ACCOUNT_NUM.hash', as_index=False).agg(list)"
   ]
  },
  {
   "cell_type": "code",
   "execution_count": 118,
   "metadata": {},
   "outputs": [],
   "source": [
    "extra_GB_agg_df['BB_Extra_GB_Usage_Times'] = extra_GB_agg_df.apply(lambda x: len(x['BB_Extra_GB_Usage_Times']), axis=1)"
   ]
  },
  {
   "cell_type": "code",
   "execution_count": 119,
   "metadata": {},
   "outputs": [],
   "source": [
    "def list_zipper(list1,list2):\n",
    "    return dict(zip(list1,list2))"
   ]
  },
  {
   "cell_type": "code",
   "execution_count": 120,
   "metadata": {},
   "outputs": [],
   "source": [
    "extra_GB_agg_df['BB_Extra_GB_Month_vs_Rental'] = extra_GB_agg_df.apply(lambda x: list_zipper(x['BB_Extra_GB_Purchased_Month'],x['BB_Extra_GB_Rental']), axis=1)"
   ]
  },
  {
   "cell_type": "code",
   "execution_count": 121,
   "metadata": {},
   "outputs": [],
   "source": [
    "extra_GB_agg_df.drop([\"BB_Extra_GB_Purchased_Month\",\"BB_Extra_GB_Rental\",\"VAS\"],axis=1, inplace=True)"
   ]
  },
  {
   "cell_type": "code",
   "execution_count": 122,
   "metadata": {},
   "outputs": [],
   "source": [
    "scaler = MinMaxScaler()\n",
    "extra_GB_agg_df[\"BB_Extra_GB_Purchased_Scaled\"] = scaler.fit_transform(extra_GB_agg_df[\"BB_Extra_GB_Usage_Times\"].values.reshape(-1,1))"
   ]
  },
  {
   "cell_type": "code",
   "execution_count": 123,
   "metadata": {},
   "outputs": [],
   "source": [
    "extra_GB_agg_df[\"BB_Extra_GB_Purchased_Scaled\"] = extra_GB_agg_df[\"BB_Extra_GB_Purchased_Scaled\"].apply(lambda x: 0.01 if x==0.0 else x)"
   ]
  },
  {
   "cell_type": "code",
   "execution_count": 124,
   "metadata": {},
   "outputs": [
    {
     "data": {
      "text/plain": [
       "count    1527.000000\n",
       "mean        0.013688\n",
       "std         0.038370\n",
       "min         0.001431\n",
       "25%         0.010000\n",
       "50%         0.010000\n",
       "75%         0.010000\n",
       "max         1.000000\n",
       "Name: BB_Extra_GB_Purchased_Scaled, dtype: float64"
      ]
     },
     "execution_count": 124,
     "metadata": {},
     "output_type": "execute_result"
    }
   ],
   "source": [
    "extra_GB_agg_df[\"BB_Extra_GB_Purchased_Scaled\"].describe()"
   ]
  },
  {
   "cell_type": "code",
   "execution_count": 125,
   "metadata": {},
   "outputs": [],
   "source": [
    "# binning\n",
    "bins = [0, 0.33, 0.66,1]\n",
    "labels = ['LOW','MEDIUM','HIGH']\n",
    "extra_GB_agg_df['BB_Extra_GB_Purchase_Categorical'] = pd.cut(extra_GB_agg_df['BB_Extra_GB_Purchased_Scaled'], bins=bins, labels=labels)"
   ]
  },
  {
   "cell_type": "code",
   "execution_count": 126,
   "metadata": {
    "scrolled": true
   },
   "outputs": [
    {
     "name": "stdout",
     "output_type": "stream",
     "text": [
      "<class 'pandas.core.frame.DataFrame'>\n",
      "Int64Index: 1527 entries, 0 to 1526\n",
      "Data columns (total 5 columns):\n",
      " #   Column                            Non-Null Count  Dtype   \n",
      "---  ------                            --------------  -----   \n",
      " 0   ACCOUNT_NUM.hash                  1527 non-null   object  \n",
      " 1   BB_Extra_GB_Usage_Times           1527 non-null   int64   \n",
      " 2   BB_Extra_GB_Month_vs_Rental       1527 non-null   object  \n",
      " 3   BB_Extra_GB_Purchased_Scaled      1527 non-null   float64 \n",
      " 4   BB_Extra_GB_Purchase_Categorical  1527 non-null   category\n",
      "dtypes: category(1), float64(1), int64(1), object(2)\n",
      "memory usage: 61.3+ KB\n"
     ]
    }
   ],
   "source": [
    "extra_GB_agg_df.info()"
   ]
  },
  {
   "cell_type": "code",
   "execution_count": 127,
   "metadata": {},
   "outputs": [],
   "source": [
    "usage_df = usage_df.merge(extra_GB_agg_df,how='left', on='ACCOUNT_NUM.hash')"
   ]
  },
  {
   "cell_type": "markdown",
   "metadata": {},
   "source": [
    "#### Adding Extra GB Detailed DF"
   ]
  },
  {
   "cell_type": "code",
   "execution_count": 128,
   "metadata": {},
   "outputs": [],
   "source": [
    "extra_GB_detailed_agg_df = extra_GB_detailed_df[[\"ACCOUNT_NUM.hash\",\"GB_AMOUNT\"]].groupby('ACCOUNT_NUM.hash', as_index=False).agg(sum)"
   ]
  },
  {
   "cell_type": "code",
   "execution_count": 129,
   "metadata": {},
   "outputs": [],
   "source": [
    "extra_GB_detailed_agg_df.rename(columns={\"GB_AMOUNT\":\"BB_Extra_GB_Amount\"},inplace=True)"
   ]
  },
  {
   "cell_type": "code",
   "execution_count": 130,
   "metadata": {},
   "outputs": [
    {
     "name": "stdout",
     "output_type": "stream",
     "text": [
      "<class 'pandas.core.frame.DataFrame'>\n",
      "Int64Index: 613 entries, 0 to 612\n",
      "Data columns (total 2 columns):\n",
      " #   Column              Non-Null Count  Dtype \n",
      "---  ------              --------------  ----- \n",
      " 0   ACCOUNT_NUM.hash    613 non-null    object\n",
      " 1   BB_Extra_GB_Amount  613 non-null    int64 \n",
      "dtypes: int64(1), object(1)\n",
      "memory usage: 14.4+ KB\n"
     ]
    }
   ],
   "source": [
    "extra_GB_detailed_agg_df.info()"
   ]
  },
  {
   "cell_type": "code",
   "execution_count": 131,
   "metadata": {},
   "outputs": [],
   "source": [
    "usage_df = usage_df.merge(extra_GB_detailed_agg_df,how='left', on='ACCOUNT_NUM.hash')"
   ]
  },
  {
   "cell_type": "code",
   "execution_count": null,
   "metadata": {},
   "outputs": [],
   "source": []
  },
  {
   "cell_type": "markdown",
   "metadata": {},
   "source": [
    "### Note\n",
    "- Considered Extra GB Purchased time to build rating as there are no enough datsa about rentals"
   ]
  },
  {
   "cell_type": "markdown",
   "metadata": {},
   "source": [
    "## PeoTV Extra Channels Purchased"
   ]
  },
  {
   "cell_type": "code",
   "execution_count": 132,
   "metadata": {},
   "outputs": [],
   "source": [
    "extra_Peo_df.drop([\"Unnamed: 0\"],axis=1, inplace=True)\n",
    "extra_Peo_df.rename(columns={\"Month_Subscribed\":\"Peo_Extra_Channels_Purchased_Month\",\"Rental\":\"Peo_Extra_Channels_Rental\"}, inplace=True)"
   ]
  },
  {
   "cell_type": "code",
   "execution_count": 133,
   "metadata": {},
   "outputs": [
    {
     "name": "stdout",
     "output_type": "stream",
     "text": [
      "<class 'pandas.core.frame.DataFrame'>\n",
      "RangeIndex: 498 entries, 0 to 497\n",
      "Data columns (total 4 columns):\n",
      " #   Column                              Non-Null Count  Dtype \n",
      "---  ------                              --------------  ----- \n",
      " 0   ACCOUNT_NUM.hash                    498 non-null    object\n",
      " 1   Package                             498 non-null    object\n",
      " 2   Peo_Extra_Channels_Purchased_Month  498 non-null    object\n",
      " 3   Peo_Extra_Channels_Rental           498 non-null    int64 \n",
      "dtypes: int64(1), object(3)\n",
      "memory usage: 15.7+ KB\n"
     ]
    }
   ],
   "source": [
    "extra_Peo_df.info()"
   ]
  },
  {
   "cell_type": "code",
   "execution_count": 134,
   "metadata": {},
   "outputs": [
    {
     "data": {
      "text/plain": [
       "51"
      ]
     },
     "execution_count": 134,
     "metadata": {},
     "output_type": "execute_result"
    }
   ],
   "source": [
    "len(extra_Peo_df[\"ACCOUNT_NUM.hash\"].unique())"
   ]
  },
  {
   "cell_type": "code",
   "execution_count": 135,
   "metadata": {},
   "outputs": [],
   "source": [
    "extra_Peo_agg_df = extra_Peo_df.groupby('ACCOUNT_NUM.hash', as_index=False).agg(list)"
   ]
  },
  {
   "cell_type": "code",
   "execution_count": 136,
   "metadata": {},
   "outputs": [],
   "source": [
    "extra_Peo_agg_df['Peo_Extra_Channels_Cumulative_Rental'] = extra_Peo_agg_df.apply(lambda x: sum(x['Peo_Extra_Channels_Rental']), axis=1)"
   ]
  },
  {
   "cell_type": "code",
   "execution_count": 137,
   "metadata": {},
   "outputs": [],
   "source": [
    "extra_Peo_agg_df['Peo_Extra_Channels_Month_vs_Rental'] = extra_Peo_agg_df.apply(lambda x: list_zipper(x['Peo_Extra_Channels_Purchased_Month'],x['Peo_Extra_Channels_Rental']), axis=1)"
   ]
  },
  {
   "cell_type": "code",
   "execution_count": 138,
   "metadata": {},
   "outputs": [],
   "source": [
    "extra_Peo_agg_df.drop([\"Peo_Extra_Channels_Purchased_Month\",\"Peo_Extra_Channels_Rental\",\"Package\"],axis=1, inplace=True)"
   ]
  },
  {
   "cell_type": "code",
   "execution_count": 139,
   "metadata": {},
   "outputs": [],
   "source": [
    "scaler = MinMaxScaler()\n",
    "extra_Peo_agg_df[\"Peo_Extra_Channels_Purchased_Scaled\"] = scaler.fit_transform(extra_Peo_agg_df[\"Peo_Extra_Channels_Cumulative_Rental\"].values.reshape(-1,1))"
   ]
  },
  {
   "cell_type": "code",
   "execution_count": 140,
   "metadata": {},
   "outputs": [],
   "source": [
    "extra_Peo_agg_df[\"Peo_Extra_Channels_Purchased_Scaled\"] = extra_Peo_agg_df[\"Peo_Extra_Channels_Purchased_Scaled\"].apply(lambda x: 0.01 if x==0.0 else x)"
   ]
  },
  {
   "cell_type": "code",
   "execution_count": 141,
   "metadata": {},
   "outputs": [
    {
     "data": {
      "text/plain": [
       "count    51.000000\n",
       "mean      0.217098\n",
       "std       0.170157\n",
       "min       0.010000\n",
       "25%       0.087912\n",
       "50%       0.197802\n",
       "75%       0.285714\n",
       "max       1.000000\n",
       "Name: Peo_Extra_Channels_Purchased_Scaled, dtype: float64"
      ]
     },
     "execution_count": 141,
     "metadata": {},
     "output_type": "execute_result"
    }
   ],
   "source": [
    "extra_Peo_agg_df[\"Peo_Extra_Channels_Purchased_Scaled\"].describe()"
   ]
  },
  {
   "cell_type": "code",
   "execution_count": 142,
   "metadata": {},
   "outputs": [],
   "source": [
    "# binning\n",
    "bins = [0, 0.33, 0.66,1]\n",
    "labels = ['LOW','MEDIUM','HIGH']\n",
    "extra_Peo_agg_df['Peo_Extra_Channels_Purchased_Categorical'] = pd.cut(extra_Peo_agg_df['Peo_Extra_Channels_Purchased_Scaled'], bins=bins, labels=labels)"
   ]
  },
  {
   "cell_type": "code",
   "execution_count": null,
   "metadata": {},
   "outputs": [],
   "source": [
    "extra_Peo_agg_df.info()"
   ]
  },
  {
   "cell_type": "code",
   "execution_count": null,
   "metadata": {},
   "outputs": [],
   "source": [
    "usage_df = usage_df.merge(extra_Peo_agg_df,how='left', on='ACCOUNT_NUM.hash')"
   ]
  },
  {
   "cell_type": "markdown",
   "metadata": {},
   "source": [
    "## Payment and Billing Info"
   ]
  },
  {
   "cell_type": "code",
   "execution_count": null,
   "metadata": {},
   "outputs": [],
   "source": []
  },
  {
   "cell_type": "code",
   "execution_count": null,
   "metadata": {},
   "outputs": [],
   "source": []
  },
  {
   "cell_type": "markdown",
   "metadata": {},
   "source": [
    "# Deriving Contextual Features"
   ]
  },
  {
   "cell_type": "markdown",
   "metadata": {},
   "source": [
    "## Socio-Economic features"
   ]
  },
  {
   "cell_type": "markdown",
   "metadata": {},
   "source": [
    "### Having an Insurance?"
   ]
  },
  {
   "cell_type": "code",
   "execution_count": 702,
   "metadata": {},
   "outputs": [],
   "source": [
    "def having_insurance(vas):\n",
    "    insurrence_VAS = [\"Telehealth\",\"Basic4 TeleLife\",\"Plus4 TeleLife\",\"Plus1 TeleLife\",\"Basic1 TeleLife\",\"Basic2 TeleLife\"]\n",
    "    if not isinstance(vas,float):\n",
    "        for s in insurrence_VAS:\n",
    "            if s in vas:\n",
    "                return \"YES\""
   ]
  },
  {
   "cell_type": "code",
   "execution_count": 703,
   "metadata": {},
   "outputs": [],
   "source": [
    "usage_df[\"Having_Insurance\"] = usage_df.apply(lambda x: having_insurance(x[\"VAS_Package\"]), axis=1)"
   ]
  },
  {
   "cell_type": "markdown",
   "metadata": {},
   "source": [
    "### Household types\n",
    "- Senior Citizen\n",
    "  - Age > 55 years (demographics)\n",
    "  - Peo_TV_Usage - High, Packages: PEO_RELIGIOUS_PACKAGE, PRANAMA\n",
    "  - Voice call usage - high (in country, europian country, australia,US, canada)\n",
    "  - Having Insurance: YES\n",
    "- Kids at Home\n",
    "  - Age > 30 years (assuming parents)\n",
    "  - Peo TV Usage - High, packages: PEO_FAMILY, DOUBLEPROMO, PEO_TITANIUM, PEO_GOLD\n",
    "  - Peo TV VAS: PeoTVGo_Channel Package (Extra Channels purchase)\n",
    "  - BB Usage: Medium/ High\n",
    "  - VAS - Sisu_Connect, Edu Lite\n",
    "- Student (High school/University), Teenagers\n",
    "  - Age < 27 (demographics)\n",
    "  - Peo TV Usage - Medium/High packages: PEO_SILVER_PLUS, PEO_SILVER_PLUS_FTTH, PEO_ENTERTAINMENT, PEO_TITANIUM, DOUBLEPROMO, LEISURE_SPORTS\n",
    "  - BB Usage - High **\n",
    "  - Extra GB Purchase (High)\n",
    "  - VAS - Meet Lite, Meet Max \n",
    "  - Peo TV VAS: E_Video_on_Demand\n",
    "  - BB_VAS:  BB_YouTube Bundle, BB_ Entertainment Unlimited,  BB_Messenger Bundle\n",
    "- Working Professional\n",
    "  - Age > 22, < 55 (demographics)\n",
    "  - Peo TV Usage - Medium/High packages: PEO_SILVER_PLUS, PEO_SILVER_PLUS_FTTH, PEO_FAMILY, SLT_STAFF_PEO_UNNATHAM_FTTH, SLT_STAFF_TRIPLE_PLAY, NEW_SLT_STAFF_PACKAGE, BOC\n",
    "  - BB Usage - High **\n",
    "  - Extra GB Purchase (all)\n",
    "  - VAS - Meet Lite, Meet Max, AB_Service Vacation, AB_Referral offer Discount, AB_Citylink Loyalty Rewards\n",
    "- Family Member Abroad\n",
    "  - IDD Usage : High\n",
    "  - IDD Calling Country : Europe/ UAE/ Australia/ Canada/ South and east Asia **\n",
    "- Race: Tamil\n",
    "   - Peo TV Usage - PEO_UNNATHAM, PEO_UTHAYAM, SLT_STAFF_PEO_UNNATHAM_FTTH\n",
    "- Abroad person: country/ countries"
   ]
  },
  {
   "cell_type": "markdown",
   "metadata": {},
   "source": [
    "## Adding Socio Feature Cols"
   ]
  },
  {
   "cell_type": "code",
   "execution_count": 704,
   "metadata": {},
   "outputs": [],
   "source": [
    "def make_categorical(val):\n",
    "    if val>=0.5:\n",
    "        return \"YES\""
   ]
  },
  {
   "cell_type": "markdown",
   "metadata": {},
   "source": [
    "#### Having a Senior Citizen"
   ]
  },
  {
   "cell_type": "code",
   "execution_count": 705,
   "metadata": {},
   "outputs": [],
   "source": [
    "def senior_citizen(age, peo_tv_cat, peo_tv_package, voice_call_cat, having_insurrance):\n",
    "    prob = 0.0\n",
    "    peo_packages = [ \"PEO_RELIGIOUS_PACKAGE\", \"PRANAMA\"]\n",
    "    if age>= 55:\n",
    "        prob += 0.3\n",
    "    if peo_tv_cat == \"HIGH\":\n",
    "        if not isinstance(peo_tv_package, float):\n",
    "            for vas in peo_packages:\n",
    "                if vas in peo_tv_package:\n",
    "                    prob += 0.2\n",
    "    if voice_call_cat == \"MEDIUM\":\n",
    "        prob += 0.1\n",
    "    if voice_call_cat == \"HIGH\":\n",
    "        prob += 0.2\n",
    "    if having_insurrance == \"YES\":\n",
    "        prob += 0.5\n",
    "    return prob"
   ]
  },
  {
   "cell_type": "code",
   "execution_count": 706,
   "metadata": {},
   "outputs": [
    {
     "data": {
      "text/plain": [
       "0.6"
      ]
     },
     "execution_count": 706,
     "metadata": {},
     "output_type": "execute_result"
    }
   ],
   "source": [
    "# test\n",
    "senior_citizen(56,\"HIGH\",[\"PEO_RELIGIOUS_PACKAGE\"],\"MEDIUM\",None)"
   ]
  },
  {
   "cell_type": "code",
   "execution_count": 707,
   "metadata": {},
   "outputs": [],
   "source": [
    "usage_df[\"Having_Senior_Citizen_Scaled\"] = usage_df.apply(lambda x: senior_citizen(x[\"AGE\"],x[\"PEO_TV_Categorical\"],x[\"Peo_TV_Package\"],x[\"VOICE_Categorical\"],x[\"Having_Insurance\"]), axis=1)"
   ]
  },
  {
   "cell_type": "code",
   "execution_count": 708,
   "metadata": {},
   "outputs": [],
   "source": [
    "usage_df[\"Having_Senior_Citizen\"] = usage_df.apply(lambda x: make_categorical(x[\"Having_Senior_Citizen_Scaled\"]), axis=1)"
   ]
  },
  {
   "cell_type": "code",
   "execution_count": null,
   "metadata": {},
   "outputs": [],
   "source": []
  },
  {
   "cell_type": "markdown",
   "metadata": {},
   "source": [
    "#### Having Kids at Home"
   ]
  },
  {
   "cell_type": "code",
   "execution_count": 709,
   "metadata": {},
   "outputs": [],
   "source": [
    "def kids_at_home(age, peo_tv_cat, peo_tv_package,bb_usage,vas):\n",
    "    prob = 0.0\n",
    "    peo_packages = [\"PEO_FAMILY\", \"DOUBLEPROMO\", \"PEO_TITANIUM\", \"PEO_GOLD\",\"PEO_FAMILY\"]\n",
    "    peo_vas = [\"PeoTVGo Channel Package\"]\n",
    "    all_vas = [\"Sisu Connect\", \"Edu Lite\"]\n",
    "    if age>= 30:\n",
    "        prob += 0.2\n",
    "    if peo_tv_cat == \"HIGH\":\n",
    "        prob += 0.25\n",
    "        if not isinstance(peo_tv_package, float):\n",
    "            for pack in peo_packages:\n",
    "                if pack in peo_tv_package:\n",
    "                    prob += 0.2\n",
    "        if not isinstance(vas, float):\n",
    "            for pack in peo_vas:\n",
    "                if pack in vas:\n",
    "                    prob += 0.2\n",
    "    if not isinstance(vas, float):\n",
    "        for pack in all_vas:\n",
    "            if pack in vas:\n",
    "                prob += 0.5\n",
    "    if bb_usage == \"MEDIUM\" or bb_usage == \"HIGH\":\n",
    "        prob += 0.1\n",
    "    return prob"
   ]
  },
  {
   "cell_type": "code",
   "execution_count": 710,
   "metadata": {},
   "outputs": [],
   "source": [
    "usage_df[\"Having_Kids_at_Home_Scaled\"] = usage_df.apply(lambda x: kids_at_home(x[\"AGE\"],x[\"PEO_TV_Categorical\"],x[\"Peo_TV_Package\"],x[\"BB_Categorical\"],x[\"VAS_Package\"]), axis=1)"
   ]
  },
  {
   "cell_type": "code",
   "execution_count": 711,
   "metadata": {},
   "outputs": [],
   "source": [
    "usage_df[\"Having_Kids_at_Home\"] = usage_df.apply(lambda x: make_categorical(x[\"Having_Kids_at_Home_Scaled\"]), axis=1)"
   ]
  },
  {
   "cell_type": "code",
   "execution_count": null,
   "metadata": {},
   "outputs": [],
   "source": []
  },
  {
   "cell_type": "markdown",
   "metadata": {},
   "source": [
    "#### Home Business/ SMEs"
   ]
  },
  {
   "cell_type": "code",
   "execution_count": 714,
   "metadata": {},
   "outputs": [],
   "source": [
    "def smes(bb_cat,bb_package, extra_gb_cat, vas):\n",
    "    prob = 0.0\n",
    "    bb_packages=[\"4G Biz Pal\",\"Any Glam\",\"Any Storm\",\"Any Spike\",\"z Sales End_Office\",\"Web Life\",\n",
    "                 \"Web Inspire\",\"Any Xtreme\",\"Web Pro\",\"Web Champ\",\"Web Master\"]\n",
    "    all_vas = [\"BB YouTube Bundle\",'Meet Max',\"BB Personal Storage\"]\n",
    "    if bb_cat == \"MEDIUM\":\n",
    "        prob += 0.1\n",
    "    if bb_cat == \"HIGH\":\n",
    "        prob += 0.3\n",
    "    if bb_cat == \"HIGH\":\n",
    "        if not isinstance(bb_package, float):\n",
    "            for pack in bb_packages:\n",
    "                if pack in bb_package:\n",
    "                    prob += 0.2\n",
    "    if not isinstance(vas, float):\n",
    "        for pack in all_vas:\n",
    "            if pack in vas:\n",
    "                prob += 0.2\n",
    "    if extra_gb_cat == \"LOW\":\n",
    "        prob +=0.1\n",
    "    if extra_gb_cat == \"MEDIUM\" or extra_gb_cat == \"HIGH\":\n",
    "        prob += 0.3\n",
    "    return prob"
   ]
  },
  {
   "cell_type": "code",
   "execution_count": 715,
   "metadata": {},
   "outputs": [],
   "source": [
    "usage_df[\"SMEs_Scaled\"] = usage_df.apply(lambda x: smes(x[\"BB_Categorical\"],x[\"BB_Package\"],x[\"BB_Extra_GB_Purchase_Categorical\"],x[\"VAS_Package\"]), axis=1)"
   ]
  },
  {
   "cell_type": "code",
   "execution_count": 716,
   "metadata": {},
   "outputs": [],
   "source": [
    "usage_df[\"SMEs\"] = usage_df.apply(lambda x: make_categorical(x[\"SMEs_Scaled\"]), axis=1)"
   ]
  },
  {
   "cell_type": "code",
   "execution_count": null,
   "metadata": {},
   "outputs": [],
   "source": []
  },
  {
   "cell_type": "markdown",
   "metadata": {},
   "source": [
    "#### Teenagers and Students (age 16-26)"
   ]
  },
  {
   "cell_type": "code",
   "execution_count": 717,
   "metadata": {},
   "outputs": [],
   "source": [
    "def teenage_students(age, peo_tv_cat, peo_tv_package,bb_cat, bb_package, extra_gb_cat, vas):\n",
    "    prob = 0.0\n",
    "    peo_packages = [ \"PEO_TITANIUM\", \"LEISURE_SPORTS\",\"PEO_ENTERTAINMENT\"]\n",
    "    bb_packages=[\"Student Package 1\",\"Student Package 2\",\"Any Flix\",\"BB_Netflix Unlimited\",\"Web Booster\",\"Any Tide\"]\n",
    "    peo_vas = [\"Video on Demand\"]\n",
    "    bb_vas = [\"BB YouTube Bundle\", \"BB Entertainment Unlimited\", \"BB Messenger Bundle\"]\n",
    "    all_vas = ['Meet Lite', 'Meet Max']\n",
    "    if age<= 26:\n",
    "        prob += 0.3\n",
    "    if peo_tv_cat == \"MEDIUM\":\n",
    "        prob += 0.1\n",
    "    if peo_tv_cat == \"HIGH\":\n",
    "        prob += 0.2\n",
    "    if peo_tv_cat == \"MEDIUM\" or peo_tv_cat == \"HIGH\":\n",
    "        if not isinstance(peo_tv_package, float):\n",
    "            for pack in peo_packages:\n",
    "                if pack in peo_tv_package:\n",
    "                    prob += 0.2\n",
    "        if not isinstance(vas, float):\n",
    "            for pack in peo_vas:\n",
    "                if pack in vas:\n",
    "                    prob += 0.2\n",
    "    if bb_cat == \"MEDIUM\":\n",
    "        prob += 0.1\n",
    "    if bb_cat == \"HIGH\":\n",
    "        prob += 0.3\n",
    "    if bb_cat == \"HIGH\" or bb_cat == \"MEDIUM\":\n",
    "        if not isinstance(vas, float):\n",
    "            for pack in bb_vas:\n",
    "                if pack in vas:\n",
    "                    prob += 0.2\n",
    "        if not isinstance(bb_package, float):\n",
    "            for pack in bb_packages:\n",
    "                if pack in bb_package:\n",
    "                    prob += 0.2\n",
    "    if not isinstance(vas, float):\n",
    "        for pack in all_vas:\n",
    "            if pack in vas:\n",
    "                prob += 0.2\n",
    "    if extra_gb_cat == \"LOW\":\n",
    "        prob +=0.1\n",
    "    if extra_gb_cat == \"MEDIUM\" or extra_gb_cat == \"HIGH\":\n",
    "        prob += 0.3\n",
    "    return prob"
   ]
  },
  {
   "cell_type": "code",
   "execution_count": 718,
   "metadata": {},
   "outputs": [],
   "source": [
    "usage_df[\"Having_Teenagers_Students_Scaled\"] = usage_df.apply(lambda x: teenage_students(x[\"AGE\"],x[\"PEO_TV_Categorical\"],x[\"Peo_TV_Package\"],x[\"BB_Categorical\"],x[\"BB_Package\"],x[\"BB_Extra_GB_Purchase_Categorical\"],x[\"VAS_Package\"]), axis=1)"
   ]
  },
  {
   "cell_type": "code",
   "execution_count": 719,
   "metadata": {},
   "outputs": [],
   "source": [
    "usage_df[\"Having_Teenagers_Students\"] = usage_df.apply(lambda x: make_categorical(x[\"Having_Teenagers_Students_Scaled\"]), axis=1)"
   ]
  },
  {
   "cell_type": "code",
   "execution_count": null,
   "metadata": {},
   "outputs": [],
   "source": []
  },
  {
   "cell_type": "markdown",
   "metadata": {},
   "source": [
    "### Working Professionals"
   ]
  },
  {
   "cell_type": "code",
   "execution_count": 720,
   "metadata": {},
   "outputs": [],
   "source": [
    "def working_professionals(age, peo_tv_cat, peo_tv_package, bb_cat, bb_package, extra_gb_cat, vas):\n",
    "    prob = 0.0\n",
    "    peo_packages = [\"PEO_SILVER_PLUS\", \"PEO_FAMILY\",\"PEO_SILVER_PLUS_FTTH\", \"SLT_STAFF_PEO_UNNATHAM_FTTH\", \"SLT_STAFF_TRIPLE_PLAY\",\"NEW_SLT_STAFF_PACKAGE\",\"BOC\"]\n",
    "    bb_packages= [\"z Sales End_SLT Staff Home\",\"Abhimaana\",\"SLT Staff Web Family Plus\",\"z Sales End_SLT Staff Home\", 'Web Family Xtra']\n",
    "    bb_vas = [\"BB Personal Storage\"]\n",
    "    all_vas = ['Meet Lite', 'Meet Max','AB Referral offer Discount', 'AB Service Vacation','AB Citylink Loyalty Rewards']\n",
    "    if age> 21 and age<56:\n",
    "        prob += 0.2\n",
    "    if peo_tv_cat == \"MEDIUM\":\n",
    "        prob += 0.1\n",
    "    if peo_tv_cat == \"HIGH\":\n",
    "        prob += 0.1\n",
    "    if peo_tv_cat == \"MEDIUM\" or peo_tv_cat == \"HIGH\":\n",
    "        if not isinstance(peo_tv_package, float):\n",
    "            for pack in peo_packages:\n",
    "                if pack in peo_tv_package:\n",
    "                    prob += 0.2\n",
    "    if bb_cat == \"MEDIUM\":\n",
    "        prob += 0.1\n",
    "    if bb_cat == \"HIGH\":\n",
    "        prob += 0.3\n",
    "    if bb_cat == \"HIGH\" or bb_cat == \"MEDIUM\":\n",
    "        if not isinstance(vas, float):\n",
    "            for pack in bb_vas:\n",
    "                if pack in vas:\n",
    "                    prob += 0.2\n",
    "        if not isinstance(bb_package, float):\n",
    "            for pack in bb_packages:\n",
    "                if pack in bb_package:\n",
    "                    prob += 0.2\n",
    "    if not isinstance(vas, float):\n",
    "        for pack in all_vas:\n",
    "            if pack in vas:\n",
    "                prob += 0.25\n",
    "    if extra_gb_cat == \"LOW\":\n",
    "        prob +=0.1\n",
    "    if extra_gb_cat == \"MEDIUM\" or extra_gb_cat == \"HIGH\":\n",
    "        prob += 0.3\n",
    "    return prob"
   ]
  },
  {
   "cell_type": "code",
   "execution_count": 721,
   "metadata": {},
   "outputs": [],
   "source": [
    "usage_df[\"Having_Working_Professionals_Scaled\"] = usage_df.apply(lambda x: working_professionals(x[\"AGE\"],x[\"PEO_TV_Categorical\"],x[\"Peo_TV_Package\"],x[\"BB_Categorical\"],x[\"BB_Package\"],x[\"BB_Extra_GB_Purchase_Categorical\"],x[\"VAS_Package\"]), axis=1)"
   ]
  },
  {
   "cell_type": "code",
   "execution_count": 722,
   "metadata": {},
   "outputs": [],
   "source": [
    "usage_df[\"Having_Working_Professionals\"] = usage_df.apply(lambda x: make_categorical(x[\"Having_Working_Professionals_Scaled\"]), axis=1)"
   ]
  },
  {
   "cell_type": "code",
   "execution_count": null,
   "metadata": {},
   "outputs": [],
   "source": []
  },
  {
   "cell_type": "markdown",
   "metadata": {},
   "source": [
    "### Family Member Abroad"
   ]
  },
  {
   "cell_type": "code",
   "execution_count": 723,
   "metadata": {},
   "outputs": [],
   "source": [
    "def family_member_abroad(idd_cat, incoming_country, outgoing_country):\n",
    "    prob = 0.0\n",
    "    countries = [\"United Arab Emirates\", \"Australia - Mobile\",\"UK - Mobile\", \"New Zealand\", \"Hong Kong\",\"Maldive Islands\",\"Singapore\",\n",
    "                 \"India\",\"Saudi Arabia - Mobile\",\"Australia\",\"China - Mobile\",\"Maldive Islands\",\n",
    "                 \"Israel - Mobile\",\"Jordan - Mobile\",\"U.K.\",\"U.S.A\",\"France\",\"Italy - Mobile\",\"Malaysia - Mobile\",\"Bangladesh - Mobile\"\n",
    "                ,\"Germany\",\"Philippines - Mobile\",\"Italy\",\"Israel\",\"Saudi Arabia\",\"Pakistan - Mobile\",\"Pakistan\",\"Japan\",\"Kuwait -Mobile\"\n",
    "                ,\"Oman-Mobile \",\"France - Mobile\",\"Canada\",\"Japan - Mobile\",\"United Arab Emirates  - Mobile\",\"Bahrain - Mobile\",\"Bahrain\"\n",
    "                ,\"Cyprus - Mobile\",\"Cyprus\",\"Barbados\",\"Korea Republic Of\",\"Switzerland - Mobile\",\"Indonesia - Mobile\",\"Qatar - Mobile\"\n",
    "                ,\"Qatar\",\"Romania\",\"Germany - Mobile\",\"Belgium\",\"Netherlands\"]\n",
    "    if idd_cat == \"LOW\":\n",
    "        prob += 0.1\n",
    "    if idd_cat == \"MEDIUM\":\n",
    "        prob += 0.3\n",
    "    if idd_cat == \"HIGH\":\n",
    "        prob += 0.5\n",
    "    if not isinstance(idd_cat, float):\n",
    "        for country in countries:\n",
    "            if not isinstance(incoming_country, float) and country in incoming_country:\n",
    "                prob += 0.25\n",
    "            elif not isinstance(outgoing_country, float) and country in outgoing_country:\n",
    "                prob += 0.25\n",
    "    return prob"
   ]
  },
  {
   "cell_type": "code",
   "execution_count": 724,
   "metadata": {},
   "outputs": [],
   "source": [
    "usage_df[\"Having_Family_Member_Abroad_Scaled\"] = usage_df.apply(lambda x: family_member_abroad(x[\"IDD_Overall_Categorical\"],x[\"IDD_incoming_country\"],x[\"IDD_outgoing_country\"]), axis=1)"
   ]
  },
  {
   "cell_type": "code",
   "execution_count": 725,
   "metadata": {},
   "outputs": [],
   "source": [
    "usage_df[\"Having_Family_Member_Abroad\"] = usage_df.apply(lambda x: make_categorical(x[\"Having_Family_Member_Abroad_Scaled\"]), axis=1)"
   ]
  },
  {
   "cell_type": "markdown",
   "metadata": {},
   "source": [
    "### Race: Tamil"
   ]
  },
  {
   "cell_type": "code",
   "execution_count": 726,
   "metadata": {},
   "outputs": [],
   "source": [
    "def tamil_check(peo_cat, peo_package):\n",
    "    packages = [\"PEO_UNNATHAM\", \"PEO_UTHAYAM\", \"SLT_STAFF_PEO_UNNATHAM_FTTH\"]\n",
    "    if not isinstance(peo_cat, float):\n",
    "        for pack in packages:\n",
    "            if not isinstance(peo_package, float) and pack in peo_package:\n",
    "                return \"YES\""
   ]
  },
  {
   "cell_type": "code",
   "execution_count": 727,
   "metadata": {},
   "outputs": [],
   "source": [
    "usage_df[\"Tamil_Customer\"] = usage_df.apply(lambda x: tamil_check(x[\"PEO_TV_Categorical\"],x[\"Peo_TV_Package\"]), axis=1)"
   ]
  },
  {
   "cell_type": "code",
   "execution_count": null,
   "metadata": {},
   "outputs": [],
   "source": []
  },
  {
   "cell_type": "markdown",
   "metadata": {},
   "source": [
    "## Adding Social feature derivable assumption cols"
   ]
  },
  {
   "cell_type": "code",
   "execution_count": 728,
   "metadata": {},
   "outputs": [],
   "source": [
    "def senior_citizen_peo_packages(peo_tv_cat,peo_tv_package):\n",
    "    prob = 0.0\n",
    "    peo_packages = [\"PEO_RELIGIOUS_PACKAGE\", \"PRANAMA\"]\n",
    "    if peo_tv_cat == \"HIGH\":\n",
    "        if not isinstance(peo_tv_package, float):\n",
    "            for vas in peo_packages:\n",
    "                if vas in peo_tv_package:\n",
    "                    prob += 0.2\n",
    "    return prob"
   ]
  },
  {
   "cell_type": "code",
   "execution_count": 729,
   "metadata": {},
   "outputs": [],
   "source": [
    "usage_df[\"Peo_Packages_if_Senior_Citizen\"] = usage_df.apply(lambda x: senior_citizen_peo_packages(x[\"PEO_TV_Categorical\"],x[\"Peo_TV_Package\"]), axis=1)"
   ]
  },
  {
   "cell_type": "code",
   "execution_count": 730,
   "metadata": {},
   "outputs": [],
   "source": [
    "def kids_peo_packages(peo_tv_cat,peo_tv_package):\n",
    "    prob = 0.0\n",
    "    peo_packages =  [\"PEO_FAMILY\", \"DOUBLEPROMO\", \"PEO_TITANIUM\", \"PEO_GOLD\",\"PEO_FAMILY\"]\n",
    "    if peo_tv_cat == \"HIGH\":\n",
    "        if not isinstance(peo_tv_package, float):\n",
    "            for vas in peo_packages:\n",
    "                if vas in peo_tv_package:\n",
    "                    prob += 0.2\n",
    "    return prob"
   ]
  },
  {
   "cell_type": "code",
   "execution_count": 731,
   "metadata": {},
   "outputs": [],
   "source": [
    "usage_df[\"Peo_Packages_if_Kids\"] = usage_df.apply(lambda x: kids_peo_packages(x[\"PEO_TV_Categorical\"],x[\"Peo_TV_Package\"]), axis=1)"
   ]
  },
  {
   "cell_type": "code",
   "execution_count": 732,
   "metadata": {},
   "outputs": [],
   "source": [
    "def teenager_student_peo_packages(peo_tv_cat,peo_tv_package):\n",
    "    prob = 0.0\n",
    "    peo_packages = [\"DOUBLEPROMO\", \"PEO_TITANIUM\", \"LEISURE_SPORTS\",\"PEO_ENTERTAINMENT\"]\n",
    "    if peo_tv_cat == \"MEDIUM\" or peo_tv_cat == \"HIGH\":\n",
    "        if not isinstance(peo_tv_package, float):\n",
    "            for vas in peo_packages:\n",
    "                if vas in peo_tv_package:\n",
    "                    prob += 0.2\n",
    "    return prob"
   ]
  },
  {
   "cell_type": "code",
   "execution_count": 733,
   "metadata": {},
   "outputs": [],
   "source": [
    "usage_df[\"Peo_Packages_if_Teenager_Students\"] = usage_df.apply(lambda x: teenager_student_peo_packages(x[\"PEO_TV_Categorical\"],x[\"Peo_TV_Package\"]), axis=1)"
   ]
  },
  {
   "cell_type": "code",
   "execution_count": 734,
   "metadata": {},
   "outputs": [],
   "source": [
    "def working_professional_peo_packages(peo_tv_cat,peo_tv_package):\n",
    "    prob = 0.0\n",
    "    peo_packages = [\"PEO_SILVER_PLUS\", \"PEO_FAMILY\",\"PEO_SILVER_PLUS_FTTH\", \"SLT_STAFF_PEO_UNNATHAM_FTTH\", \"SLT_STAFF_TRIPLE_PLAY\",\"NEW_SLT_STAFF_PACKAGE\",\"BOC\"]\n",
    "    if peo_tv_cat == \"MEDIUM\" or peo_tv_cat == \"HIGH\":\n",
    "        if not isinstance(peo_tv_package, float):\n",
    "            for vas in peo_packages:\n",
    "                if vas in peo_tv_package:\n",
    "                    prob += 0.2\n",
    "    return prob"
   ]
  },
  {
   "cell_type": "code",
   "execution_count": 735,
   "metadata": {},
   "outputs": [],
   "source": [
    "usage_df[\"Peo_Package_if_Working_Professionals\"] = usage_df.apply(lambda x: working_professional_peo_packages(x[\"PEO_TV_Categorical\"],x[\"Peo_TV_Package\"]), axis=1)"
   ]
  },
  {
   "cell_type": "code",
   "execution_count": null,
   "metadata": {},
   "outputs": [],
   "source": []
  },
  {
   "cell_type": "code",
   "execution_count": 736,
   "metadata": {},
   "outputs": [],
   "source": [
    "def working_professional_bb_packages(bb_cat,bb_package):\n",
    "    prob = 0.0\n",
    "    bb_packages= [\"z Sales End_SLT Staff Home\",\"Abhimaana\",\"SLT Staff Web Family Plus\",\"z Sales End_SLT Staff Home\", 'Web Family Xtra']\n",
    "    if bb_cat == \"MEDIUM\" or bb_cat == \"HIGH\":\n",
    "        if not isinstance(bb_package, float):\n",
    "            for vas in bb_packages:\n",
    "                if vas in bb_package:\n",
    "                    prob += 0.2\n",
    "    return prob"
   ]
  },
  {
   "cell_type": "code",
   "execution_count": 737,
   "metadata": {},
   "outputs": [],
   "source": [
    "usage_df[\"BB_Package_if_Working_Professionals\"] = usage_df.apply(lambda x: working_professional_bb_packages(x[\"BB_Categorical\"],x[\"BB_Package\"]), axis=1)"
   ]
  },
  {
   "cell_type": "code",
   "execution_count": 738,
   "metadata": {},
   "outputs": [],
   "source": [
    "def teenager_student_bb_packages(bb_cat,bb_package):\n",
    "    prob = 0.0\n",
    "    bb_packages=[\"Student Package 1\",\"Student Package 2\",\"Any Flix\",\"BB_Netflix Unlimited\",\"Web Booster\",\"Any Tide\"]\n",
    "    if bb_cat == \"MEDIUM\" or bb_cat == \"HIGH\":\n",
    "        if not isinstance(bb_package, float):\n",
    "            for vas in bb_packages:\n",
    "                if vas in bb_package:\n",
    "                    prob += 0.2\n",
    "    return prob"
   ]
  },
  {
   "cell_type": "code",
   "execution_count": 739,
   "metadata": {},
   "outputs": [],
   "source": [
    "usage_df[\"BB_Packages_if_Teenager_Students\"] = usage_df.apply(lambda x: teenager_student_bb_packages(x[\"BB_Categorical\"],x[\"BB_Package\"]), axis=1)"
   ]
  },
  {
   "cell_type": "code",
   "execution_count": 740,
   "metadata": {},
   "outputs": [],
   "source": [
    "def sme_bb_packages(bb_cat,bb_package):\n",
    "    prob = 0.0\n",
    "    bb_packages=[\"4G Biz Pal\",\"Any Glam\",\"Any Storm\",\"Any Spike\",\"z Sales End_Office\",\"Web Life\",\n",
    "                 \"Web Inspire\",\"Any Xtreme\",\"Web Pro\",\"Web Champ\",\"Web Master\"]\n",
    "    if bb_cat == \"HIGH\":\n",
    "        if not isinstance(bb_package, float):\n",
    "            for vas in bb_packages:\n",
    "                if vas in bb_package:\n",
    "                    prob += 0.2\n",
    "    return prob"
   ]
  },
  {
   "cell_type": "code",
   "execution_count": 741,
   "metadata": {},
   "outputs": [],
   "source": [
    "usage_df[\"BB_Packages_if_SMEss\"] = usage_df.apply(lambda x: sme_bb_packages(x[\"BB_Categorical\"],x[\"BB_Package\"]), axis=1)"
   ]
  },
  {
   "cell_type": "code",
   "execution_count": null,
   "metadata": {},
   "outputs": [],
   "source": []
  },
  {
   "cell_type": "code",
   "execution_count": 742,
   "metadata": {},
   "outputs": [],
   "source": [
    "def kids_vas_packages(peo_cat,vas):\n",
    "    prob = 0.0\n",
    "    peo_vas = [\"PeoTVGo Channel Package\"]\n",
    "    vas_packages = [\"Sisu Connect\", \"Edu Lite\"]\n",
    "    if peo_cat == \"HIGH\":\n",
    "        if not isinstance(vas, float):\n",
    "            for s in peo_vas:\n",
    "                if s in vas:\n",
    "                    prob += 0.2\n",
    "    if not isinstance(vas, float):\n",
    "        for s in vas_packages:\n",
    "            if s in vas:\n",
    "                prob += 0.5\n",
    "    return prob"
   ]
  },
  {
   "cell_type": "code",
   "execution_count": 743,
   "metadata": {},
   "outputs": [],
   "source": [
    "usage_df[\"VAS_if_Kids\"] = usage_df.apply(lambda x: kids_vas_packages(x[\"PEO_TV_Categorical\"],x[\"VAS_Package\"]), axis=1)"
   ]
  },
  {
   "cell_type": "code",
   "execution_count": 744,
   "metadata": {},
   "outputs": [],
   "source": [
    "def teenager_student_vas_packages(peo_cat,bb_cat,vas):\n",
    "    prob = 0.0\n",
    "    peo_vas = [\"Video on Demand\"]\n",
    "    bb_vas = [\"BB YouTube Bundle\", \"BB Entertainment Unlimited\", \"BB Messenger Bundle\"]\n",
    "    vas_packages = ['Meet Lite', 'Meet Max']\n",
    "    if peo_cat == \"MEDIUM\" or peo_cat == \"HIGH\":\n",
    "        if not isinstance(vas, float):\n",
    "            for v in peo_vas:\n",
    "                if v in vas:\n",
    "                    prob += 0.2\n",
    "    if bb_cat == \"MEDIUM\" or bb_cat == \"HIGH\":\n",
    "        if not isinstance(vas, float):\n",
    "            for v in bb_vas:\n",
    "                if v in vas:\n",
    "                    prob += 0.2\n",
    "    if not isinstance(vas, float):\n",
    "        for v in vas_packages:\n",
    "            if v in vas:\n",
    "                prob += 0.3\n",
    "    return prob"
   ]
  },
  {
   "cell_type": "code",
   "execution_count": 745,
   "metadata": {},
   "outputs": [],
   "source": [
    "usage_df[\"VAS_if_Teenager_Students\"] = usage_df.apply(lambda x: teenager_student_vas_packages(x[\"PEO_TV_Categorical\"],x[\"BB_Categorical\"],x[\"VAS_Package\"]), axis=1)"
   ]
  },
  {
   "cell_type": "code",
   "execution_count": 746,
   "metadata": {},
   "outputs": [],
   "source": [
    "def working_professional_vas_packages(bb_cat,vas):\n",
    "    prob = 0.0\n",
    "    bb_vas = [\"BB Personal Storage\"]\n",
    "    vas_packages = ['AB Referral offer Discount', 'AB Service Vacation',\n",
    "                    'AB Citylink Loyalty Rewards','Meet Lite', 'Meet Max']\n",
    "    if bb_cat == \"MEDIUM\" or bb_cat == \"HIGH\":\n",
    "        if not isinstance(vas, float):\n",
    "            for v in bb_vas:\n",
    "                if v in vas:\n",
    "                    prob += 0.2\n",
    "    if not isinstance(vas, float):\n",
    "        for v in vas_packages:\n",
    "            if v in vas:\n",
    "                prob += 0.25\n",
    "    return prob"
   ]
  },
  {
   "cell_type": "code",
   "execution_count": 747,
   "metadata": {},
   "outputs": [],
   "source": [
    "usage_df[\"VAS_if_Working_Professionals\"] = usage_df.apply(lambda x: working_professional_vas_packages(x[\"BB_Categorical\"],x[\"VAS_Package\"]), axis=1)"
   ]
  },
  {
   "cell_type": "code",
   "execution_count": 748,
   "metadata": {},
   "outputs": [],
   "source": [
    "def family_member_abroad_idd_countries(idd_cat,incoming_country,outgoing_country):\n",
    "    prob = 0.0\n",
    "    countries = [\"United Arab Emirates\", \"Australia - Mobile\",\"UK - Mobile\", \"New Zealand\", \"Hong Kong\",\"Maldive Islands\",\"Singapore\",\n",
    "                 \"India\",\"Saudi Arabia - Mobile\",\"Australia\",\"China - Mobile\",\"Maldive Islands\",\n",
    "                 \"Israel - Mobile\",\"Jordan - Mobile\",\"U.K.\",\"U.S.A\",\"France\",\"Italy - Mobile\",\"Malaysia - Mobile\",\"Bangladesh - Mobile\"\n",
    "                ,\"Germany\",\"Philippines - Mobile\",\"Italy\",\"Israel\",\"Saudi Arabia\",\"Pakistan - Mobile\",\"Pakistan\",\"Japan\",\"Kuwait -Mobile\"\n",
    "                ,\"Oman-Mobile \",\"France - Mobile\",\"Canada\",\"Japan - Mobile\",\"United Arab Emirates  - Mobile\",\"Bahrain - Mobile\",\"Bahrain\"\n",
    "                ,\"Cyprus - Mobile\",\"Cyprus\",\"Barbados\",\"Korea Republic Of\",\"Switzerland - Mobile\",\"Indonesia - Mobile\",\"Qatar - Mobile\"\n",
    "                ,\"Qatar\",\"Romania\",\"Germany - Mobile\",\"Belgium\",\"Netherlands\"]\n",
    "    if not isinstance(idd_cat, float):\n",
    "        if idd_cat == \"MEDIUM\" or idd_cat == \"HIGH\":\n",
    "            for country in countries:\n",
    "                if not isinstance(incoming_country, float) and country in incoming_country:\n",
    "                    prob += 0.25\n",
    "                elif not isinstance(outgoing_country, float) and country in outgoing_country:\n",
    "                    prob += 0.25\n",
    "    return prob"
   ]
  },
  {
   "cell_type": "code",
   "execution_count": 749,
   "metadata": {},
   "outputs": [],
   "source": [
    "usage_df[\"IDD_if_Family_Member_Abroad\"] = usage_df.apply(lambda x: family_member_abroad_idd_countries(x[\"IDD_Overall_Categorical\"],x[\"IDD_incoming_country\"],x[\"IDD_outgoing_country\"]), axis=1)"
   ]
  },
  {
   "cell_type": "code",
   "execution_count": 750,
   "metadata": {},
   "outputs": [
    {
     "name": "stdout",
     "output_type": "stream",
     "text": [
      "<class 'pandas.core.frame.DataFrame'>\n",
      "Int64Index: 2916 entries, 0 to 2915\n",
      "Data columns (total 96 columns):\n",
      " #   Column                                    Non-Null Count  Dtype   \n",
      "---  ------                                    --------------  -----   \n",
      " 0   ACCOUNT_NUM.hash                          2916 non-null   object  \n",
      " 1   CUSTOMER_REF.hash                         2916 non-null   object  \n",
      " 2   OFFNET_INCOMING_Scaled                    2916 non-null   float64 \n",
      " 3   OFFNET_INCOMING_Categorical               2916 non-null   object  \n",
      " 4   OFFNET_INCOMING_Outlier                   2916 non-null   object  \n",
      " 5   OFFNET_OUTGOING_Categorical               2809 non-null   object  \n",
      " 6   OFFNET_OUTGOING_Scaled                    2809 non-null   float64 \n",
      " 7   OFFNET_OUTGOING_Outlier                   2809 non-null   object  \n",
      " 8   ONNET_INCOMING_Categorical                2833 non-null   object  \n",
      " 9   ONNET_INCOMING_Scaled                     2833 non-null   float64 \n",
      " 10  ONNET_INCOMING_Outlier                    2833 non-null   object  \n",
      " 11  ONNET_OUTGOING_Categorical                2832 non-null   object  \n",
      " 12  ONNET_OUTGOING_Scaled                     2832 non-null   float64 \n",
      " 13  ONNET_OUTGOING_Outlier                    2832 non-null   object  \n",
      " 14  IDD_INCOMING_Categorical                  1445 non-null   object  \n",
      " 15  IDD_INCOMING_Scaled                       1445 non-null   float64 \n",
      " 16  IDD_INCOMING_Outlier                      1445 non-null   object  \n",
      " 17  IDD_incoming_country                      1445 non-null   object  \n",
      " 18  IDD_OUTGOING_Categorical                  477 non-null    object  \n",
      " 19  IDD_OUTGOING_Scaled                       477 non-null    float64 \n",
      " 20  IDD_OUTGOING_Outlier                      477 non-null    object  \n",
      " 21  IDD_outgoing_Cumulative_Revenue           477 non-null    float64 \n",
      " 22  IDD_outgoing_country                      477 non-null    object  \n",
      " 23  Peo_TV_Package                            1142 non-null   object  \n",
      " 24  PEO_TV_Categorical                        1142 non-null   object  \n",
      " 25  PEO_TV_Scaled                             1142 non-null   float64 \n",
      " 26  event_source.hash                         1142 non-null   object  \n",
      " 27  BB_Categorical                            1113 non-null   object  \n",
      " 28  BB_Scaled                                 1113 non-null   float64 \n",
      " 29  BB_Package                                1352 non-null   object  \n",
      " 30  TARIFF_NAME                               2916 non-null   object  \n",
      " 31  BB_Medium                                 1352 non-null   object  \n",
      " 32  Location_Identifier                       2916 non-null   object  \n",
      " 33  GENDER                                    2237 non-null   object  \n",
      " 34  BIRTH_YEAR                                2237 non-null   float64 \n",
      " 35  AGE                                       2237 non-null   float64 \n",
      " 36  ONNET_Overall_Categorical                 2890 non-null   object  \n",
      " 37  OFFNET_Overall_Categorical                2916 non-null   object  \n",
      " 38  IDD_Overall_Categorical                   1499 non-null   object  \n",
      " 39  VOICE_Categorical                         2867 non-null   object  \n",
      " 40  Subscription                              668 non-null    object  \n",
      " 41  Sub_Type                                  2916 non-null   object  \n",
      " 42  Sub_Usage                                 2916 non-null   object  \n",
      " 43  Sub_Type_State                            2916 non-null   object  \n",
      " 44  Megaline_Package                          2916 non-null   object  \n",
      " 45  Megaline_Month_Subscribed                 2916 non-null   object  \n",
      " 46  Megaline_Rental                           2916 non-null   object  \n",
      " 47  Megaline_One_Time_Charge                  2916 non-null   object  \n",
      " 48  Package_Type                              2916 non-null   object  \n",
      " 49  FTTH_Package                              88 non-null     object  \n",
      " 50  FTTH_Month_Subscribed                     88 non-null     object  \n",
      " 51  FTTH_Rental                               88 non-null     object  \n",
      " 52  FTTH_One_Time_Charge                      88 non-null     object  \n",
      " 53  VAS_Package                               962 non-null    object  \n",
      " 54  VAS_Month_Subscribed                      962 non-null    object  \n",
      " 55  VAS_Rental                                962 non-null    object  \n",
      " 56  VAS_One_Time_Charge                       962 non-null    object  \n",
      " 57  Product_Type                              962 non-null    object  \n",
      " 58  MEDIUM                                    2916 non-null   object  \n",
      " 59  Sub_Update_Date                           660 non-null    object  \n",
      " 60  Sub_Update_Status                         660 non-null    object  \n",
      " 61  Sub_Update                                660 non-null    object  \n",
      " 62  BB_Extra_GB_Usage_Times                   1394 non-null   float64 \n",
      " 63  BB_Extra_GB_Month_vs_Rental               1394 non-null   object  \n",
      " 64  BB_Extra_GB_Purchased_Scaled              1394 non-null   float64 \n",
      " 65  BB_Extra_GB_Purchase_Categorical          1394 non-null   category\n",
      " 66  BB_Extra_GB_Amount                        568 non-null    float64 \n",
      " 67  Peo_Extra_Channels_Cumulative_Rental      47 non-null     float64 \n",
      " 68  Peo_Extra_Channels_Month_vs_Rental        47 non-null     object  \n",
      " 69  Peo_Extra_Channels_Purchased_Scaled       47 non-null     float64 \n",
      " 70  Peo_Extra_Channels_Purchased_Categorical  47 non-null     category\n",
      " 71  Having_Insurance                          415 non-null    object  \n",
      " 72  Having_Senior_Citizen_Scaled              2916 non-null   float64 \n",
      " 73  Having_Senior_Citizen                     454 non-null    object  \n",
      " 74  Having_Kids_at_Home_Scaled                2916 non-null   float64 \n",
      " 75  Having_Kids_at_Home                       243 non-null    object  \n",
      " 76  SMEs_Scaled                               2916 non-null   float64 \n",
      " 77  SMEs                                      28 non-null     object  \n",
      " 78  Having_Teenagers_Students_Scaled          2916 non-null   float64 \n",
      " 79  Having_Teenagers_Students                 275 non-null    object  \n",
      " 80  Having_Working_Professionals_Scaled       2916 non-null   float64 \n",
      " 81  Having_Working_Professionals              395 non-null    object  \n",
      " 82  Having_Family_Member_Abroad_Scaled        2916 non-null   float64 \n",
      " 83  Having_Family_Member_Abroad               867 non-null    object  \n",
      " 84  Tamil_Customer                            190 non-null    object  \n",
      " 85  Peo_Packages_if_Senior_Citizen            2916 non-null   float64 \n",
      " 86  Peo_Packages_if_Kids                      2916 non-null   float64 \n",
      " 87  Peo_Packages_if_Teenager_Students         2916 non-null   float64 \n",
      " 88  Peo_Package_if_Working_Professionals      2916 non-null   float64 \n",
      " 89  BB_Package_if_Working_Professionals       2916 non-null   float64 \n",
      " 90  BB_Packages_if_Teenager_Students          2916 non-null   float64 \n",
      " 91  BB_Packages_if_SMEss                      2916 non-null   float64 \n",
      " 92  VAS_if_Kids                               2916 non-null   float64 \n",
      " 93  VAS_if_Teenager_Students                  2916 non-null   float64 \n",
      " 94  VAS_if_Working_Professionals              2916 non-null   float64 \n",
      " 95  IDD_if_Family_Member_Abroad               2916 non-null   float64 \n",
      "dtypes: category(2), float64(33), object(61)\n",
      "memory usage: 2.1+ MB\n"
     ]
    }
   ],
   "source": [
    "usage_df.info()"
   ]
  },
  {
   "cell_type": "code",
   "execution_count": null,
   "metadata": {},
   "outputs": [],
   "source": []
  },
  {
   "cell_type": "markdown",
   "metadata": {},
   "source": [
    "## ToDo - Deriving context\n",
    "- Payment Patterns & information : Economical state/ payment type preferred/ payment state (good/bad/avarage)\n",
    "- Time context - BB Usage Time/ PeoTV Watch Time/ Call Time/ IDD Call Time analysis\n",
    "- Upgrade/ Downgrade purpose assumption"
   ]
  },
  {
   "cell_type": "code",
   "execution_count": null,
   "metadata": {},
   "outputs": [],
   "source": []
  },
  {
   "cell_type": "code",
   "execution_count": 751,
   "metadata": {},
   "outputs": [],
   "source": [
    "usage_df.to_csv(\"data/user_profile/prepared/User_Profile.csv\")"
   ]
  },
  {
   "cell_type": "code",
   "execution_count": null,
   "metadata": {},
   "outputs": [],
   "source": []
  },
  {
   "cell_type": "markdown",
   "metadata": {},
   "source": [
    "# User Profile -Analysis"
   ]
  },
  {
   "cell_type": "markdown",
   "metadata": {},
   "source": [
    "### Subscription Changes"
   ]
  },
  {
   "cell_type": "code",
   "execution_count": 752,
   "metadata": {},
   "outputs": [
    {
     "data": {
      "text/plain": [
       "<AxesSubplot:ylabel='None'>"
      ]
     },
     "execution_count": 752,
     "metadata": {},
     "output_type": "execute_result"
    },
    {
     "data": {
      "image/png": "[encoded data removed]",
      "text/plain": [
       "<Figure size 4000x4000 with 1 Axes>"
      ]
     },
     "metadata": {},
     "output_type": "display_data"
    }
   ],
   "source": [
    "fig = plt.figure(figsize=(20,20), dpi=200)\n",
    "ax = plt.subplot(111)\n",
    "\n",
    "usage_df[[\"Sub_Update\"]].value_counts().plot(kind='pie', ax=ax, autopct='%1.1f%%', startangle=270, fontsize=20)"
   ]
  },
  {
   "cell_type": "markdown",
   "metadata": {},
   "source": [
    "### Customers with VAS"
   ]
  },
  {
   "cell_type": "code",
   "execution_count": 753,
   "metadata": {},
   "outputs": [
    {
     "data": {
      "text/plain": [
       "NO     1954\n",
       "YES     962\n",
       "dtype: int64"
      ]
     },
     "execution_count": 753,
     "metadata": {},
     "output_type": "execute_result"
    }
   ],
   "source": [
    "usage_df.apply(lambda x: \"YES\" if  type(x[\"VAS_Package\"]) == str else \"NO\", axis=1).value_counts()"
   ]
  },
  {
   "cell_type": "markdown",
   "metadata": {},
   "source": [
    "## Customers with Megaline Packages"
   ]
  },
  {
   "cell_type": "code",
   "execution_count": 754,
   "metadata": {},
   "outputs": [
    {
     "data": {
      "text/plain": [
       "YES    2916\n",
       "dtype: int64"
      ]
     },
     "execution_count": 754,
     "metadata": {},
     "output_type": "execute_result"
    }
   ],
   "source": [
    "usage_df.apply(lambda x: \"YES\" if  type(x[\"Megaline_Package\"]) == str else \"NO\", axis=1).value_counts()"
   ]
  },
  {
   "cell_type": "markdown",
   "metadata": {},
   "source": [
    "## Customers with FTTH Package"
   ]
  },
  {
   "cell_type": "code",
   "execution_count": 755,
   "metadata": {},
   "outputs": [
    {
     "data": {
      "text/plain": [
       "NO     2828\n",
       "YES      88\n",
       "dtype: int64"
      ]
     },
     "execution_count": 755,
     "metadata": {},
     "output_type": "execute_result"
    }
   ],
   "source": [
    "usage_df.apply(lambda x: \"YES\" if  type(x[\"FTTH_Package\"]) == str else \"NO\", axis=1).value_counts()"
   ]
  },
  {
   "cell_type": "markdown",
   "metadata": {},
   "source": [
    "## Customers with PeoTV Packages"
   ]
  },
  {
   "cell_type": "code",
   "execution_count": 756,
   "metadata": {},
   "outputs": [
    {
     "data": {
      "text/plain": [
       "NO     1774\n",
       "YES    1142\n",
       "dtype: int64"
      ]
     },
     "execution_count": 756,
     "metadata": {},
     "output_type": "execute_result"
    }
   ],
   "source": [
    "peo_tv_users = usage_df.apply(lambda x: \"YES\" if  type(x[\"Peo_TV_Package\"]) == str else \"NO\", axis=1)\n",
    "peo_tv_users.value_counts()"
   ]
  },
  {
   "cell_type": "code",
   "execution_count": null,
   "metadata": {},
   "outputs": [],
   "source": []
  }
 ],
 "metadata": {
  "kernel_info": {
   "name": "python3"
  },
  "kernelspec": {
   "display_name": "Python 3 (ipykernel)",
   "language": "python",
   "name": "python3"
  },
  "language_info": {
   "codemirror_mode": {
    "name": "ipython",
    "version": 3
   },
   "file_extension": ".py",
   "mimetype": "text/x-python",
   "name": "python",
   "nbconvert_exporter": "python",
   "pygments_lexer": "ipython3",
   "version": "3.8.12"
  },
  "nteract": {
   "version": "nteract-front-end@1.0.0"
  }
 },
 "nbformat": 4,
 "nbformat_minor": 4
}
