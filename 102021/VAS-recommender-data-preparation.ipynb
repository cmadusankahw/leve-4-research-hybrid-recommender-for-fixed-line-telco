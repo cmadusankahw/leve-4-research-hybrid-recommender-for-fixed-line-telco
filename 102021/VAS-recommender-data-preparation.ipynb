{
 "cells": [
  {
   "cell_type": "code",
   "execution_count": 156,
   "metadata": {},
   "outputs": [],
   "source": [
    "# import libraries\n",
    "import numpy as np\n",
    "import pandas as pd\n",
    "import seaborn as sns\n",
    "import matplotlib.pyplot as plt\n",
    "from sklearn.preprocessing import MinMaxScaler\n",
    "import ast"
   ]
  },
  {
   "cell_type": "code",
   "execution_count": 157,
   "metadata": {},
   "outputs": [],
   "source": [
    "user_profile = pd.read_csv(\"data/user_profile/prepared/User_Profile_Null_Handled.csv\")"
   ]
  },
  {
   "cell_type": "code",
   "execution_count": 158,
   "metadata": {},
   "outputs": [],
   "source": [
    "user_all_df = pd.read_csv(\"data/user_profile/account_no_map_all.csv\")"
   ]
  },
  {
   "cell_type": "code",
   "execution_count": 159,
   "metadata": {},
   "outputs": [
    {
     "name": "stderr",
     "output_type": "stream",
     "text": [
      "/Users/chiranhewawitharana/mambaforge/envs/mactf/lib/python3.8/site-packages/IPython/core/interactiveshell.py:3441: DtypeWarning: Columns (3) have mixed types.Specify dtype option on import or set low_memory=False.\n",
      "  exec(code_obj, self.user_global_ns, self.user_ns)\n"
     ]
    }
   ],
   "source": [
    "vas_final_df = pd.read_csv(\"data/user_profile/Package_Final_list.csv\")"
   ]
  },
  {
   "cell_type": "code",
   "execution_count": 160,
   "metadata": {},
   "outputs": [],
   "source": [
    "user_all_df.drop([\"Unnamed: 0\"],axis=1,inplace=True)\n",
    "user_profile.drop([\"Unnamed: 0\"],axis=1,inplace=True)\n",
    "vas_final_df.drop([\"Unnamed: 0\"],axis=1,inplace=True)"
   ]
  },
  {
   "cell_type": "code",
   "execution_count": 161,
   "metadata": {},
   "outputs": [],
   "source": [
    "def megaline_vas(vas):\n",
    "    if 'Megaline' in vas:\n",
    "        return \"YES\""
   ]
  },
  {
   "cell_type": "code",
   "execution_count": 162,
   "metadata": {},
   "outputs": [],
   "source": [
    "def ftth_vas(vas):\n",
    "    if 'FTTH' in vas:\n",
    "        return \"YES\""
   ]
  },
  {
   "cell_type": "code",
   "execution_count": 163,
   "metadata": {},
   "outputs": [],
   "source": [
    "def lte_vas(vas):\n",
    "    if 'LTE' in vas:\n",
    "        return \"YES\""
   ]
  },
  {
   "cell_type": "code",
   "execution_count": 164,
   "metadata": {},
   "outputs": [
    {
     "data": {
      "text/plain": [
       "Megaline    221031\n",
       "LTE          80788\n",
       "FTTH         11079\n",
       "Name: Product_Type, dtype: int64"
      ]
     },
     "execution_count": 164,
     "metadata": {},
     "output_type": "execute_result"
    }
   ],
   "source": [
    "vas_final_df[\"Product_Type\"].value_counts()"
   ]
  },
  {
   "cell_type": "code",
   "execution_count": 165,
   "metadata": {},
   "outputs": [
    {
     "data": {
      "text/plain": [
       "NO     279804\n",
       "YES    157276\n",
       "Name: is_VAS, dtype: int64"
      ]
     },
     "execution_count": 165,
     "metadata": {},
     "output_type": "execute_result"
    }
   ],
   "source": [
    "vas_final_df[\"is_VAS\"].value_counts()"
   ]
  },
  {
   "cell_type": "code",
   "execution_count": 166,
   "metadata": {},
   "outputs": [
    {
     "data": {
      "text/plain": [
       "YES    237206\n",
       "NO     199874\n",
       "Name: is_Subscription, dtype: int64"
      ]
     },
     "execution_count": 166,
     "metadata": {},
     "output_type": "execute_result"
    }
   ],
   "source": [
    "vas_final_df[\"is_Subscription\"].value_counts()"
   ]
  },
  {
   "cell_type": "code",
   "execution_count": 167,
   "metadata": {},
   "outputs": [
    {
     "data": {
      "text/plain": [
       "PAID    358831\n",
       "FREE     78249\n",
       "Name: FREE_or_PAID, dtype: int64"
      ]
     },
     "execution_count": 167,
     "metadata": {},
     "output_type": "execute_result"
    }
   ],
   "source": [
    "vas_final_df[\"FREE_or_PAID\"].value_counts()"
   ]
  },
  {
   "cell_type": "code",
   "execution_count": 168,
   "metadata": {},
   "outputs": [],
   "source": [
    "vas_final_df = vas_final_df[(vas_final_df[\"FREE_or_PAID\"] == \"PAID\")]"
   ]
  },
  {
   "cell_type": "code",
   "execution_count": 169,
   "metadata": {},
   "outputs": [],
   "source": [
    "vas_final_df = vas_final_df[(vas_final_df[\"is_VAS\"] == \"YES\")]"
   ]
  },
  {
   "cell_type": "code",
   "execution_count": 170,
   "metadata": {},
   "outputs": [],
   "source": [
    "vas_final_df[\"Rental\"] = vas_final_df[\"Rental\"].astype(\"float64\")"
   ]
  },
  {
   "cell_type": "code",
   "execution_count": 171,
   "metadata": {},
   "outputs": [],
   "source": [
    "vas_final_df = vas_final_df[(vas_final_df[\"Rental\"]>=0)]"
   ]
  },
  {
   "cell_type": "code",
   "execution_count": 172,
   "metadata": {},
   "outputs": [],
   "source": [
    "vas_final_df = vas_final_df[[\"ACCOUNT_NUM.hash\",\"Package\",\"Rental\"]]"
   ]
  },
  {
   "cell_type": "code",
   "execution_count": 173,
   "metadata": {},
   "outputs": [
    {
     "data": {
      "text/plain": [
       "ACCOUNT_NUM.hash                  Package                    \n",
       "535d47ecb2a3b62ca643ae2ee53a03f8  Package Rental Through ADSL    10\n",
       "b4e7b24adb8d28f888ddb8bd0b0eada3  Package Rental Through ADSL    10\n",
       "d576655d87b99457aec96f0a9b5bc3c0  Package Rental Through ADSL    10\n",
       "30a0698fe06d8876ab84770961a64841  Package Rental Through ADSL    10\n",
       "a10f06b23d5182337cf47a14d188abee  Package Rental Through ADSL    10\n",
       "                                                                 ..\n",
       "6ee77b132985fc197384ab0846b47b05  V-Basic1_TeleLife               1\n",
       "6ede3df0645b4e0a1a638b0802b42f83  Meet Max                        1\n",
       "6edb363a5d4d81dc4d058e3014322011  Meet Max                        1\n",
       "6ed6a8c4e226b4fb81b3c84f14f50761  V_Telehealth                    1\n",
       "fffc0d3d866e438753451c3d428ab441  Meet Lite                       1\n",
       "Length: 46253, dtype: int64"
      ]
     },
     "execution_count": 173,
     "metadata": {},
     "output_type": "execute_result"
    }
   ],
   "source": [
    "vas_final_df[['ACCOUNT_NUM.hash','Package']].value_counts()"
   ]
  },
  {
   "cell_type": "markdown",
   "metadata": {},
   "source": [
    "### VAS Package Names List"
   ]
  },
  {
   "cell_type": "code",
   "execution_count": 193,
   "metadata": {},
   "outputs": [],
   "source": [
    "vas_final_df[[\"tempCount\",\"Package\"]].drop_duplicates([\"Package\"]).to_csv(\"data/product_catalog/VAS_Names.csv\")"
   ]
  },
  {
   "cell_type": "markdown",
   "metadata": {},
   "source": [
    "## User - package ratings"
   ]
  },
  {
   "cell_type": "code",
   "execution_count": 174,
   "metadata": {},
   "outputs": [],
   "source": [
    "vas_final_df[\"tempCount\"]=1"
   ]
  },
  {
   "cell_type": "code",
   "execution_count": 175,
   "metadata": {},
   "outputs": [],
   "source": [
    "vas_agg_df = vas_final_df.groupby(['ACCOUNT_NUM.hash','Package']).agg(list)"
   ]
  },
  {
   "cell_type": "code",
   "execution_count": 176,
   "metadata": {},
   "outputs": [],
   "source": [
    "vas_agg_df.reset_index(level=0, inplace=True)\n",
    "vas_agg_df.reset_index(level=0, inplace=True)"
   ]
  },
  {
   "cell_type": "code",
   "execution_count": 177,
   "metadata": {},
   "outputs": [],
   "source": [
    "vas_agg_df[\"tempCount\"] = vas_agg_df[\"tempCount\"].apply(lambda x: sum(x))"
   ]
  },
  {
   "cell_type": "code",
   "execution_count": 178,
   "metadata": {},
   "outputs": [],
   "source": [
    "vas_agg_df[\"Rental\"] = vas_agg_df[\"Rental\"].apply(lambda x: x[0])"
   ]
  },
  {
   "cell_type": "code",
   "execution_count": 179,
   "metadata": {},
   "outputs": [],
   "source": [
    "vas_agg_df[[\"Rental\",\"tempCount\"]] = vas_agg_df[[\"Rental\",\"tempCount\"]].fillna(0)"
   ]
  },
  {
   "cell_type": "code",
   "execution_count": 180,
   "metadata": {},
   "outputs": [],
   "source": [
    "vas_agg_df[\"ratings\"] =  vas_agg_df.apply(lambda x: x[\"Rental\"]*x[\"tempCount\"],axis=1)"
   ]
  },
  {
   "cell_type": "code",
   "execution_count": 181,
   "metadata": {},
   "outputs": [],
   "source": [
    "vas_agg_df.drop([\"Rental\",\"tempCount\"],axis=1,inplace=True)"
   ]
  },
  {
   "cell_type": "code",
   "execution_count": 182,
   "metadata": {},
   "outputs": [],
   "source": [
    "vas_agg_df.rename(columns={\"Package\":\"package\"},inplace=True)"
   ]
  },
  {
   "cell_type": "code",
   "execution_count": 183,
   "metadata": {},
   "outputs": [],
   "source": [
    "vas_agg_df= vas_agg_df[[\"ACCOUNT_NUM.hash\",\"package\",\"ratings\"]]"
   ]
  },
  {
   "cell_type": "code",
   "execution_count": 184,
   "metadata": {},
   "outputs": [],
   "source": [
    "scaler = MinMaxScaler()\n",
    "vas_agg_df[\"ratings\"] = scaler.fit_transform(vas_agg_df[\"ratings\"].values.reshape(-1,1))"
   ]
  },
  {
   "cell_type": "code",
   "execution_count": 185,
   "metadata": {},
   "outputs": [
    {
     "data": {
      "text/plain": [
       "count    46253.000000\n",
       "mean         0.030412\n",
       "std          0.038517\n",
       "min          0.000000\n",
       "25%          0.005900\n",
       "50%          0.011504\n",
       "75%          0.035221\n",
       "max          1.000000\n",
       "Name: ratings, dtype: float64"
      ]
     },
     "execution_count": 185,
     "metadata": {},
     "output_type": "execute_result"
    }
   ],
   "source": [
    "vas_agg_df[\"ratings\"].describe()"
   ]
  },
  {
   "cell_type": "code",
   "execution_count": 186,
   "metadata": {},
   "outputs": [
    {
     "data": {
      "text/html": [
       "<div>\n",
       "<style scoped>\n",
       "    .dataframe tbody tr th:only-of-type {\n",
       "        vertical-align: middle;\n",
       "    }\n",
       "\n",
       "    .dataframe tbody tr th {\n",
       "        vertical-align: top;\n",
       "    }\n",
       "\n",
       "    .dataframe thead th {\n",
       "        text-align: right;\n",
       "    }\n",
       "</style>\n",
       "<table border=\"1\" class=\"dataframe\">\n",
       "  <thead>\n",
       "    <tr style=\"text-align: right;\">\n",
       "      <th></th>\n",
       "      <th>ACCOUNT_NUM.hash</th>\n",
       "      <th>package</th>\n",
       "      <th>ratings</th>\n",
       "    </tr>\n",
       "  </thead>\n",
       "  <tbody>\n",
       "    <tr>\n",
       "      <th>0</th>\n",
       "      <td>0002c902cb09337514ca785ea1d3cded</td>\n",
       "      <td>Package Rental Through ADSL</td>\n",
       "      <td>0.023481</td>\n",
       "    </tr>\n",
       "    <tr>\n",
       "      <th>1</th>\n",
       "      <td>0003c76b4c2c7db8e62faa5f53081178</td>\n",
       "      <td>Meet Lite</td>\n",
       "      <td>0.023009</td>\n",
       "    </tr>\n",
       "    <tr>\n",
       "      <th>2</th>\n",
       "      <td>0008dcbce843a8d3937815df0a951264</td>\n",
       "      <td>Meet Lite</td>\n",
       "      <td>0.011504</td>\n",
       "    </tr>\n",
       "    <tr>\n",
       "      <th>3</th>\n",
       "      <td>00094326efae1d73371d118204e12e46</td>\n",
       "      <td>V-Basic1_TeleLife</td>\n",
       "      <td>0.003540</td>\n",
       "    </tr>\n",
       "    <tr>\n",
       "      <th>4</th>\n",
       "      <td>0009e7e4d940c2a539b89342af07e7f1</td>\n",
       "      <td>AB_Service Vacation</td>\n",
       "      <td>0.000000</td>\n",
       "    </tr>\n",
       "  </tbody>\n",
       "</table>\n",
       "</div>"
      ],
      "text/plain": [
       "                   ACCOUNT_NUM.hash                      package   ratings\n",
       "0  0002c902cb09337514ca785ea1d3cded  Package Rental Through ADSL  0.023481\n",
       "1  0003c76b4c2c7db8e62faa5f53081178                    Meet Lite  0.023009\n",
       "2  0008dcbce843a8d3937815df0a951264                    Meet Lite  0.011504\n",
       "3  00094326efae1d73371d118204e12e46            V-Basic1_TeleLife  0.003540\n",
       "4  0009e7e4d940c2a539b89342af07e7f1          AB_Service Vacation  0.000000"
      ]
     },
     "execution_count": 186,
     "metadata": {},
     "output_type": "execute_result"
    }
   ],
   "source": [
    "vas_agg_df.head()"
   ]
  },
  {
   "cell_type": "code",
   "execution_count": 187,
   "metadata": {},
   "outputs": [
    {
     "name": "stdout",
     "output_type": "stream",
     "text": [
      "<class 'pandas.core.frame.DataFrame'>\n",
      "RangeIndex: 46253 entries, 0 to 46252\n",
      "Data columns (total 3 columns):\n",
      " #   Column            Non-Null Count  Dtype  \n",
      "---  ------            --------------  -----  \n",
      " 0   ACCOUNT_NUM.hash  46253 non-null  object \n",
      " 1   package           46253 non-null  object \n",
      " 2   ratings           46253 non-null  float64\n",
      "dtypes: float64(1), object(2)\n",
      "memory usage: 1.1+ MB\n"
     ]
    }
   ],
   "source": [
    "vas_agg_df.info()"
   ]
  },
  {
   "cell_type": "code",
   "execution_count": 188,
   "metadata": {},
   "outputs": [],
   "source": [
    "vas_agg_df.to_csv(\"data/azure/VAS_user_ratings.csv\")"
   ]
  },
  {
   "cell_type": "markdown",
   "metadata": {},
   "source": [
    "## User content"
   ]
  },
  {
   "cell_type": "code",
   "execution_count": 189,
   "metadata": {},
   "outputs": [],
   "source": [
    "user_profile = user_profile[(user_profile[\"VAS_Package\"] != \"NO_INFO\")]\n",
    "user_profile.reset_index(drop=True, inplace=True)"
   ]
  },
  {
   "cell_type": "code",
   "execution_count": 190,
   "metadata": {},
   "outputs": [
    {
     "data": {
      "text/plain": [
       "(16011, 113)"
      ]
     },
     "execution_count": 190,
     "metadata": {},
     "output_type": "execute_result"
    }
   ],
   "source": [
    "user_profile.shape"
   ]
  },
  {
   "cell_type": "markdown",
   "metadata": {},
   "source": [
    "## TODO : Feature Selection"
   ]
  },
  {
   "cell_type": "code",
   "execution_count": null,
   "metadata": {},
   "outputs": [],
   "source": []
  },
  {
   "cell_type": "code",
   "execution_count": null,
   "metadata": {},
   "outputs": [],
   "source": []
  },
  {
   "cell_type": "code",
   "execution_count": 191,
   "metadata": {},
   "outputs": [],
   "source": [
    "user_profile.to_csv(\"data/azure/VAS_user_content.csv\")"
   ]
  },
  {
   "cell_type": "markdown",
   "metadata": {},
   "source": [
    "## Product (package) content"
   ]
  },
  {
   "cell_type": "code",
   "execution_count": 143,
   "metadata": {},
   "outputs": [],
   "source": [
    "product_profile = pd.read_csv(\"data/product_catalog/Packages_Info.csv\")"
   ]
  },
  {
   "cell_type": "code",
   "execution_count": 145,
   "metadata": {},
   "outputs": [],
   "source": [
    "product_profile.drop([\"Unnamed: 0\"],axis=1,inplace=True)"
   ]
  },
  {
   "cell_type": "code",
   "execution_count": 146,
   "metadata": {},
   "outputs": [
    {
     "name": "stdout",
     "output_type": "stream",
     "text": [
      "<class 'pandas.core.frame.DataFrame'>\n",
      "RangeIndex: 141 entries, 0 to 140\n",
      "Data columns (total 11 columns):\n",
      " #   Column           Non-Null Count  Dtype  \n",
      "---  ------           --------------  -----  \n",
      " 0   Package          141 non-null    object \n",
      " 1   Rental           126 non-null    float64\n",
      " 2   Package_Type     141 non-null    object \n",
      " 3   Product_Type     35 non-null     object \n",
      " 4   MEDIUM           22 non-null     object \n",
      " 5   TARIFF_NAME      28 non-null     object \n",
      " 6   TARIFF_DESC      28 non-null     object \n",
      " 7   is_VAS           141 non-null    object \n",
      " 8   is_Promotion     141 non-null    object \n",
      " 9   is_Subscription  141 non-null    object \n",
      " 10  FREE_or_PAID     141 non-null    object \n",
      "dtypes: float64(1), object(10)\n",
      "memory usage: 12.2+ KB\n"
     ]
    }
   ],
   "source": [
    "product_profile.info()"
   ]
  },
  {
   "cell_type": "code",
   "execution_count": 147,
   "metadata": {},
   "outputs": [],
   "source": [
    "temp_package_df=vas_agg_df[\"package\"]"
   ]
  },
  {
   "cell_type": "code",
   "execution_count": 148,
   "metadata": {},
   "outputs": [],
   "source": [
    "vas_products_df = product_profile.merge(temp_package_df.drop_duplicates(), left_on=['Package'] , right_on=[\"package\"],\n",
    "                   how='left', indicator=True)"
   ]
  },
  {
   "cell_type": "code",
   "execution_count": 149,
   "metadata": {},
   "outputs": [],
   "source": [
    "vas_products_df = vas_products_df[(vas_products_df[\"_merge\"]==\"both\")]\n",
    "vas_products_df.drop([\"_merge\"],axis=1,inplace=True)\n",
    "vas_products_df.reset_index(drop=True, inplace=True)"
   ]
  },
  {
   "cell_type": "code",
   "execution_count": 150,
   "metadata": {},
   "outputs": [],
   "source": [
    "# Many columns have no values. Dropping \n",
    "vas_products_df.dropna(how=\"all\",axis=0,inplace=True)\n",
    "vas_products_df.dropna(how=\"all\",axis=1,inplace=True)"
   ]
  },
  {
   "cell_type": "code",
   "execution_count": 151,
   "metadata": {},
   "outputs": [],
   "source": [
    "vas_products_df.drop([\"is_VAS\",\"is_Subscription\"],axis=1, inplace=True)"
   ]
  },
  {
   "cell_type": "code",
   "execution_count": 152,
   "metadata": {},
   "outputs": [],
   "source": [
    "cat_cols = vas_products_df.select_dtypes(include='object').columns\n",
    "vas_products_df[cat_cols] = vas_products_df[cat_cols].fillna(\"NO_INFO\")"
   ]
  },
  {
   "cell_type": "code",
   "execution_count": 153,
   "metadata": {},
   "outputs": [],
   "source": [
    "cat_cols = vas_products_df.select_dtypes(include='float64').columns\n",
    "vas_products_df[cat_cols] = vas_products_df[cat_cols].fillna(0)"
   ]
  },
  {
   "cell_type": "code",
   "execution_count": 154,
   "metadata": {},
   "outputs": [
    {
     "name": "stdout",
     "output_type": "stream",
     "text": [
      "<class 'pandas.core.frame.DataFrame'>\n",
      "Int64Index: 42 entries, 0 to 41\n",
      "Data columns (total 10 columns):\n",
      " #   Column        Non-Null Count  Dtype  \n",
      "---  ------        --------------  -----  \n",
      " 0   Package       42 non-null     object \n",
      " 1   Rental        42 non-null     float64\n",
      " 2   Package_Type  42 non-null     object \n",
      " 3   Product_Type  42 non-null     object \n",
      " 4   MEDIUM        42 non-null     object \n",
      " 5   TARIFF_NAME   42 non-null     object \n",
      " 6   TARIFF_DESC   42 non-null     object \n",
      " 7   is_Promotion  42 non-null     object \n",
      " 8   FREE_or_PAID  42 non-null     object \n",
      " 9   package       42 non-null     object \n",
      "dtypes: float64(1), object(9)\n",
      "memory usage: 3.6+ KB\n"
     ]
    }
   ],
   "source": [
    "vas_products_df.info()"
   ]
  },
  {
   "cell_type": "code",
   "execution_count": 155,
   "metadata": {},
   "outputs": [],
   "source": [
    "vas_products_df.to_csv(\"data/azure/VAS_package_content.csv\")"
   ]
  },
  {
   "cell_type": "code",
   "execution_count": null,
   "metadata": {},
   "outputs": [],
   "source": []
  },
  {
   "cell_type": "code",
   "execution_count": null,
   "metadata": {},
   "outputs": [],
   "source": []
  }
 ],
 "metadata": {
  "kernelspec": {
   "display_name": "Python 3 (ipykernel)",
   "language": "python",
   "name": "python3"
  },
  "language_info": {
   "codemirror_mode": {
    "name": "ipython",
    "version": 3
   },
   "file_extension": ".py",
   "mimetype": "text/x-python",
   "name": "python",
   "nbconvert_exporter": "python",
   "pygments_lexer": "ipython3",
   "version": "3.8.12"
  }
 },
 "nbformat": 4,
 "nbformat_minor": 4
}
