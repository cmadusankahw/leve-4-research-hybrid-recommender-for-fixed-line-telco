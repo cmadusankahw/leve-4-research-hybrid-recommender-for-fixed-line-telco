{
 "cells": [
  {
   "cell_type": "code",
   "execution_count": 277,
   "metadata": {},
   "outputs": [],
   "source": [
    "import pandas as pd\n",
    "import numpy as np\n",
    "from matplotlib import pyplot as plt\n",
    "from sklearn.preprocessing import MinMaxScaler\n",
    "import seaborn as sns\n",
    "from collections import Counter\n",
    "from ast import literal_eval\n",
    "import itertools"
   ]
  },
  {
   "cell_type": "code",
   "execution_count": 278,
   "metadata": {},
   "outputs": [],
   "source": [
    "# reading datasets\n",
    "bb_usage = pd.read_csv(\"data/user_profile/BB_Usage_Categorical.csv\")\n",
    "voice_incoming_usage = pd.read_csv(\"data/user_profile/VOICE_INCOMING_Usage_Categorical.csv\")\n",
    "voice_outgoing_usage = pd.read_csv(\"data/user_profile/VOICE_OUTGOING_Usage_Categorical.csv\")\n",
    "voice_IDD_incoming_usage = pd.read_csv(\"data/user_profile/VOICE_IDD_Incoming_Usage_Categorical.csv\")\n",
    "voice_IDD_outgoing_usage = pd.read_csv(\"data/user_profile/VOICE_IDD_Outgoing_Usage_Categorical.csv\")\n",
    "peo_tv_usage = pd.read_csv(\"data/user_profile/PEO_TV_Usage_Categorical.csv\")"
   ]
  },
  {
   "cell_type": "code",
   "execution_count": 279,
   "metadata": {},
   "outputs": [],
   "source": [
    "# locations\n",
    "user_location = pd.read_csv(\"data/user_profile/User_Locations.csv\")\n",
    "lte_location = pd.read_csv(\"data/user_profile/User_LTE_Locations.csv\")"
   ]
  },
  {
   "cell_type": "code",
   "execution_count": 280,
   "metadata": {},
   "outputs": [],
   "source": [
    "# user demographics\n",
    "demo_df = pd.read_csv(\"data/user_profile/user_demographics.csv\")"
   ]
  },
  {
   "cell_type": "code",
   "execution_count": 281,
   "metadata": {},
   "outputs": [],
   "source": [
    "# VAS\n",
    "megaline_agg_df = pd.read_csv(\"data/user_profile/Megaline_Packages.csv\")\n",
    "ftth_agg_df = pd.read_csv(\"data/user_profile/FTTH_Packages.csv\")\n",
    "lte_agg_df = pd.read_csv(\"data/user_profile/LTE_Packages.csv\")\n",
    "vas_agg_df = pd.read_csv(\"data/user_profile/Paid_Vas_Packages.csv\")\n",
    "package_df = pd.read_csv(\"data/user_profile/Package_Final_list.csv\")"
   ]
  },
  {
   "cell_type": "code",
   "execution_count": 282,
   "metadata": {},
   "outputs": [],
   "source": [
    "# Subscription Types\n",
    "sub_df = pd.read_csv(\"data/user_profile/User_Subscription_Map.csv\")\n",
    "promo_change_df = pd.read_csv(\"data/user_profile/User_Subscription_Changes.csv\")"
   ]
  },
  {
   "cell_type": "code",
   "execution_count": 283,
   "metadata": {},
   "outputs": [],
   "source": [
    "#Extra GB Usage BB\n",
    "extra_GB_df = pd.read_csv(\"data/user_profile/BB_extra_GB_usage.csv\")"
   ]
  },
  {
   "cell_type": "code",
   "execution_count": 284,
   "metadata": {},
   "outputs": [],
   "source": [
    "# Peo TV Extra Channel Usage\n",
    "extra_Peo_df = pd.read_csv(\"data/user_profile/Peo_Extra_Peo_Usage.csv\")"
   ]
  },
  {
   "cell_type": "code",
   "execution_count": 285,
   "metadata": {},
   "outputs": [],
   "source": [
    "# All customers reference\n",
    "all_users_df = pd.read_csv(\"data/user_profile/account_no_map_all.csv\")\n",
    "agg_users_df = pd.read_csv(\"data/user_profile/account_no_map_agg.csv\")"
   ]
  },
  {
   "cell_type": "code",
   "execution_count": 286,
   "metadata": {},
   "outputs": [],
   "source": [
    "# User BB Package Map\n",
    "user_bb_package_df = pd.read_csv(\"data/user_profile/User_BB_Package_Map.csv\")\n",
    "user_peo_packages_df = pd.read_csv(\"data/user_profile/Peo_TV_Users_Packages.csv\")"
   ]
  },
  {
   "cell_type": "code",
   "execution_count": 287,
   "metadata": {},
   "outputs": [],
   "source": [
    "# Payment and billing details\n",
    "payments_df = pd.read_csv(\"data/user_profile/User_Payment_Details.csv\")\n",
    "billing_df = pd.read_csv(\"data/user_profile/User_Billing_Details.csv\")"
   ]
  },
  {
   "cell_type": "markdown",
   "metadata": {},
   "source": [
    "# Data perapration"
   ]
  },
  {
   "cell_type": "code",
   "execution_count": 288,
   "metadata": {},
   "outputs": [
    {
     "name": "stdout",
     "output_type": "stream",
     "text": [
      "<class 'pandas.core.frame.DataFrame'>\n",
      "RangeIndex: 32945 entries, 0 to 32944\n",
      "Data columns (total 2 columns):\n",
      " #   Column            Non-Null Count  Dtype \n",
      "---  ------            --------------  ----- \n",
      " 0   ACCOUNT_NUM.hash  32945 non-null  object\n",
      " 1   BB_Package        32945 non-null  object\n",
      "dtypes: object(2)\n",
      "memory usage: 514.9+ KB\n"
     ]
    }
   ],
   "source": [
    "user_bb_package_df.drop([\"Unnamed: 0\"],axis=1,inplace=True)\n",
    "user_bb_package_df.info()"
   ]
  },
  {
   "cell_type": "code",
   "execution_count": 289,
   "metadata": {},
   "outputs": [
    {
     "name": "stdout",
     "output_type": "stream",
     "text": [
      "<class 'pandas.core.frame.DataFrame'>\n",
      "RangeIndex: 24262 entries, 0 to 24261\n",
      "Data columns (total 2 columns):\n",
      " #   Column             Non-Null Count  Dtype \n",
      "---  ------             --------------  ----- \n",
      " 0   event_source.hash  24262 non-null  object\n",
      " 1   Peo_TV_Package     24262 non-null  object\n",
      "dtypes: object(2)\n",
      "memory usage: 379.2+ KB\n"
     ]
    }
   ],
   "source": [
    "user_peo_packages_df.drop([\"Unnamed: 0\"],axis=1,inplace=True)\n",
    "user_peo_packages_df.info()"
   ]
  },
  {
   "cell_type": "code",
   "execution_count": 290,
   "metadata": {},
   "outputs": [],
   "source": [
    "extra_GB_df.drop([\"Unnamed: 0\"],axis=1,inplace=True)\n",
    "extra_Peo_df.drop([\"Unnamed: 0\"],axis=1,inplace=True)"
   ]
  },
  {
   "cell_type": "code",
   "execution_count": 291,
   "metadata": {},
   "outputs": [
    {
     "name": "stdout",
     "output_type": "stream",
     "text": [
      "<class 'pandas.core.frame.DataFrame'>\n",
      "RangeIndex: 196207 entries, 0 to 196206\n",
      "Data columns (total 6 columns):\n",
      " #   Column            Non-Null Count   Dtype \n",
      "---  ------            --------------   ----- \n",
      " 0   ACCOUNT_NUM.hash  196207 non-null  object\n",
      " 1   Month_Subscribed  196207 non-null  object\n",
      " 2   Rental            196207 non-null  int64 \n",
      " 3   BB_Package        196207 non-null  object\n",
      " 4   GB_AMOUNT         196207 non-null  int64 \n",
      " 5   Hour_Subscribed   196207 non-null  int64 \n",
      "dtypes: int64(3), object(3)\n",
      "memory usage: 9.0+ MB\n"
     ]
    }
   ],
   "source": [
    "extra_GB_df.info()"
   ]
  },
  {
   "cell_type": "code",
   "execution_count": 292,
   "metadata": {},
   "outputs": [
    {
     "name": "stdout",
     "output_type": "stream",
     "text": [
      "<class 'pandas.core.frame.DataFrame'>\n",
      "RangeIndex: 151902 entries, 0 to 151901\n",
      "Data columns (total 3 columns):\n",
      " #   Column            Non-Null Count   Dtype \n",
      "---  ------            --------------   ----- \n",
      " 0   ACCOUNT_NUM.hash  151902 non-null  object\n",
      " 1   Month_Subscribed  151902 non-null  object\n",
      " 2   Rental            151902 non-null  int64 \n",
      "dtypes: int64(1), object(2)\n",
      "memory usage: 3.5+ MB\n"
     ]
    }
   ],
   "source": [
    "extra_Peo_df.info()"
   ]
  },
  {
   "cell_type": "code",
   "execution_count": 293,
   "metadata": {},
   "outputs": [
    {
     "name": "stdout",
     "output_type": "stream",
     "text": [
      "<class 'pandas.core.frame.DataFrame'>\n",
      "RangeIndex: 161886 entries, 0 to 161885\n",
      "Data columns (total 3 columns):\n",
      " #   Column             Non-Null Count   Dtype \n",
      "---  ------             --------------   ----- \n",
      " 0   event_source.hash  161886 non-null  object\n",
      " 1   ACCOUNT_NUM.hash   161886 non-null  object\n",
      " 2   CR.hash            161886 non-null  object\n",
      "dtypes: object(3)\n",
      "memory usage: 3.7+ MB\n"
     ]
    }
   ],
   "source": [
    "all_users_df.drop([\"Unnamed: 0\"],axis=1,inplace=True)\n",
    "all_users_df.info()"
   ]
  },
  {
   "cell_type": "code",
   "execution_count": 294,
   "metadata": {
    "scrolled": true
   },
   "outputs": [],
   "source": [
    "bb_usage.rename(columns={'Unnamed: 0':'event_source.hash'}, inplace=\"True\")\n",
    "bb_usage = bb_usage[['event_source.hash','Usage_Rating_Categorical','Usage_Rating_Scaled']]\n",
    "#bb_usage.drop_duplicates(\"event_source.hash\", inplace=True)\n",
    "bb_usage.drop([0,1], axis=0, inplace=True)"
   ]
  },
  {
   "cell_type": "code",
   "execution_count": 295,
   "metadata": {},
   "outputs": [],
   "source": [
    "voice_incoming_usage = voice_incoming_usage[['event_source.hash','Usage_Rating_Categorical','Usage_Rating_Scaled','Outlier']]"
   ]
  },
  {
   "cell_type": "code",
   "execution_count": 296,
   "metadata": {},
   "outputs": [],
   "source": [
    "voice_outgoing_usage = voice_outgoing_usage[['event_source.hash','Usage_Rating_Categorical','Usage_Rating_Scaled','Outlier']]"
   ]
  },
  {
   "cell_type": "code",
   "execution_count": 297,
   "metadata": {},
   "outputs": [],
   "source": [
    "voice_IDD_incoming_usage = voice_IDD_incoming_usage[['event_source.hash','Usage_Rating_Categorical','Usage_Rating_Scaled','Outlier','incoming_country']]\n",
    "voice_IDD_incoming_usage.rename(columns={\"incoming_country\":\"IDD_incoming_country\"}, inplace=True)"
   ]
  },
  {
   "cell_type": "code",
   "execution_count": 298,
   "metadata": {},
   "outputs": [],
   "source": [
    "voice_IDD_outgoing_usage = voice_IDD_outgoing_usage[['event_source.hash','Usage_Rating_Categorical','Usage_Rating_Scaled','Outlier',\"outgoing_country\"]]\n",
    "voice_IDD_outgoing_usage.rename(columns={\"outgoing_country\":\"IDD_outgoing_country\"}, inplace=True)"
   ]
  },
  {
   "cell_type": "code",
   "execution_count": 299,
   "metadata": {},
   "outputs": [],
   "source": [
    "peo_tv_usage = peo_tv_usage[['event_source.hash','Peo_TV_Package','Usage_Rating_Categorical','Usage_Rating_Scaled']]"
   ]
  },
  {
   "cell_type": "code",
   "execution_count": 300,
   "metadata": {},
   "outputs": [],
   "source": [
    "def clean_lists(col):\n",
    "    col = list(set(col))\n",
    "    new_col = []\n",
    "    for i in col:\n",
    "        if not isinstance(i, float):\n",
    "            new_col.append(i)\n",
    "    if len(new_col) == 0:\n",
    "        return \"NO INFO\"\n",
    "    if len(new_col) == 1:\n",
    "        return new_col[0]\n",
    "    else:\n",
    "        return new_col"
   ]
  },
  {
   "cell_type": "code",
   "execution_count": 301,
   "metadata": {},
   "outputs": [],
   "source": [
    "user_location.drop([\"DISPLAYNAME.hash\",\"Unnamed: 0\"],axis=1,inplace=True)\n",
    "all_users_locations_df = user_location.merge(all_users_df,how=\"left\",on=\"CR.hash\")\n",
    "all_users_locations_df.drop([\"CR.hash\"],axis=1,inplace=True)\n",
    "all_users_locations_df = all_users_locations_df.merge(lte_location[[\"event_source.hash\",\"Location_Node\"]],how=\"left\",on=\"event_source.hash\")\n",
    "all_users_locations_df.rename(columns={\"SERVICE_TYPE\":\"Package_Type_and_Medium\",\"MODEL\":\"Model\",\"CIRCUIT_STATUS\":\"Service_Status\"},inplace=True)\n",
    "all_users_locations_df.drop_duplicates(\"event_source.hash\", inplace=True)\n",
    "all_users_locations_df  = all_users_locations_df[[\"ACCOUNT_NUM.hash\",\"Location_Identifier\",\"Location_Node\",\"Package_Type_and_Medium\",\"Model\",\"Service_Status\"]]\n",
    "all_users_locations_df = all_users_locations_df.groupby(\"ACCOUNT_NUM.hash\").agg(list)"
   ]
  },
  {
   "cell_type": "code",
   "execution_count": 302,
   "metadata": {},
   "outputs": [],
   "source": [
    "for col in all_users_locations_df.columns:\n",
    "    all_users_locations_df[col] = all_users_locations_df[col].apply(lambda x: clean_lists(x))"
   ]
  },
  {
   "cell_type": "code",
   "execution_count": 303,
   "metadata": {},
   "outputs": [],
   "source": [
    "demo_df.drop([\"Unnamed: 0\"], axis=1,inplace=True)"
   ]
  },
  {
   "cell_type": "code",
   "execution_count": 304,
   "metadata": {},
   "outputs": [],
   "source": [
    "megaline_agg_df.drop([\"Unnamed: 0\"], axis=1,inplace=True)\n",
    "ftth_agg_df.drop([\"Unnamed: 0\"], axis=1,inplace=True)\n",
    "lte_agg_df.drop([\"Unnamed: 0\"], axis=1,inplace=True)\n",
    "vas_agg_df.drop([\"Unnamed: 0\"], axis=1,inplace=True)\n",
    "package_df.drop([\"Unnamed: 0\"], axis=1,inplace=True)"
   ]
  },
  {
   "cell_type": "code",
   "execution_count": 305,
   "metadata": {},
   "outputs": [],
   "source": [
    "megaline_agg_df.rename(columns={\"MEDIUM\":\"Megaline_Medium\"},inplace=True)\n",
    "ftth_agg_df.rename(columns={\"MEDIUM\":\"FTTH_Medium\"},inplace=True)\n",
    "lte_agg_df.rename(columns={\"MEDIUM\":\"LTE_Medium\"},inplace=True)\n",
    "vas_agg_df.rename(columns={\"MEDIUM\":\"VAS_Medium\"},inplace=True)"
   ]
  },
  {
   "cell_type": "code",
   "execution_count": 306,
   "metadata": {},
   "outputs": [],
   "source": [
    "for col in megaline_agg_df.columns[[1,2,4,5,6]]:\n",
    "    megaline_agg_df[col] = megaline_agg_df[col].apply(lambda x: clean_lists(literal_eval(x)))"
   ]
  },
  {
   "cell_type": "code",
   "execution_count": 307,
   "metadata": {},
   "outputs": [],
   "source": [
    "for col in ftth_agg_df.columns[[1,2,4,5,6]]:\n",
    "    ftth_agg_df[col] = ftth_agg_df[col].apply(lambda x: clean_lists(literal_eval(x)))"
   ]
  },
  {
   "cell_type": "code",
   "execution_count": 308,
   "metadata": {},
   "outputs": [],
   "source": [
    "for col in lte_agg_df.columns[[1,2,4,5,6]]:\n",
    "    lte_agg_df[col] = lte_agg_df[col].apply(lambda x: clean_lists(literal_eval(x)))"
   ]
  },
  {
   "cell_type": "code",
   "execution_count": 309,
   "metadata": {},
   "outputs": [],
   "source": [
    "for col in vas_agg_df.columns[[1,2,4,5,6]]:\n",
    "    vas_agg_df[col] = vas_agg_df[col].apply(lambda x: clean_lists(literal_eval(x)))"
   ]
  },
  {
   "cell_type": "code",
   "execution_count": 310,
   "metadata": {},
   "outputs": [],
   "source": [
    "def resshape_scales(col):\n",
    "    tot = 0\n",
    "    if not isinstance(col,float):\n",
    "        for i in literal_eval(col):\n",
    "            try:\n",
    "                tot = tot+int(i)\n",
    "            except:\n",
    "                pass\n",
    "    return tot"
   ]
  },
  {
   "cell_type": "code",
   "execution_count": 311,
   "metadata": {},
   "outputs": [],
   "source": [
    "megaline_agg_df[\"Megaline_Rental\"] = megaline_agg_df[\"Megaline_Rental\"].apply(lambda x: resshape_scales(x))\n",
    "ftth_agg_df[\"FTTH_Rental\"] = ftth_agg_df[\"FTTH_Rental\"].apply(lambda x: resshape_scales(x))\n",
    "lte_agg_df[\"LTE_Rental\"] = lte_agg_df[\"LTE_Rental\"].apply(lambda x: resshape_scales(x))\n",
    "vas_agg_df[\"Rental\"] = vas_agg_df[\"Rental\"].apply(lambda x: resshape_scales(x))"
   ]
  },
  {
   "cell_type": "code",
   "execution_count": 312,
   "metadata": {},
   "outputs": [],
   "source": [
    "scaler = MinMaxScaler()\n",
    "megaline_agg_df['Megaline_Rental_Scaled'] = scaler.fit_transform(megaline_agg_df['Megaline_Rental'].values.reshape(-1,1))\n",
    "ftth_agg_df['FTTH_Rental_Scaled'] = scaler.fit_transform(ftth_agg_df['FTTH_Rental'].values.reshape(-1,1))\n",
    "lte_agg_df['LTE_Rental_Scaled'] = scaler.fit_transform(lte_agg_df['LTE_Rental'].values.reshape(-1,1))"
   ]
  },
  {
   "cell_type": "code",
   "execution_count": 313,
   "metadata": {},
   "outputs": [],
   "source": [
    "agg_users_df.drop([\"Unnamed: 0\"], axis=1,inplace=True)\n",
    "sub_df.drop([\"Unnamed: 0\"], axis=1,inplace=True)\n",
    "promo_change_df.drop([\"Unnamed: 0\"], axis=1,inplace=True)"
   ]
  },
  {
   "cell_type": "code",
   "execution_count": 314,
   "metadata": {},
   "outputs": [],
   "source": [
    "payments_df.drop([\"Unnamed: 0\"], axis=1,inplace=True)\n",
    "billing_df.drop([\"Unnamed: 0\"], axis=1,inplace=True)"
   ]
  },
  {
   "cell_type": "markdown",
   "metadata": {},
   "source": [
    "#### Merging BB Packages"
   ]
  },
  {
   "cell_type": "code",
   "execution_count": 315,
   "metadata": {},
   "outputs": [],
   "source": [
    "user_bb_package_df = user_bb_package_df.groupby(\"ACCOUNT_NUM.hash\").agg(list)\n",
    "for col in user_bb_package_df.columns:\n",
    "    user_bb_package_df[col] = user_bb_package_df[col].apply(lambda x: clean_lists(x))"
   ]
  },
  {
   "cell_type": "markdown",
   "metadata": {},
   "source": [
    "## Mapping Acc No to Usage DFs"
   ]
  },
  {
   "cell_type": "code",
   "execution_count": 316,
   "metadata": {},
   "outputs": [],
   "source": [
    "peo_tv_usage = peo_tv_usage.merge(all_users_df, how=\"left\",on=\"event_source.hash\")\n",
    "peo_tv_usage = peo_tv_usage[peo_tv_usage['ACCOUNT_NUM.hash'].notna()]\n",
    "peo_tv_usage.drop([\"event_source.hash\",\"CR.hash\"],axis=1,inplace=True)"
   ]
  },
  {
   "cell_type": "code",
   "execution_count": 317,
   "metadata": {},
   "outputs": [],
   "source": [
    "voice_IDD_outgoing_usage = voice_IDD_outgoing_usage.merge(all_users_df, how=\"left\",on=\"event_source.hash\")\n",
    "voice_IDD_outgoing_usage = voice_IDD_outgoing_usage[voice_IDD_outgoing_usage['ACCOUNT_NUM.hash'].notna()]\n",
    "voice_IDD_outgoing_usage.drop([\"event_source.hash\",\"CR.hash\"],axis=1,inplace=True)"
   ]
  },
  {
   "cell_type": "code",
   "execution_count": 318,
   "metadata": {},
   "outputs": [],
   "source": [
    "voice_IDD_incoming_usage = voice_IDD_incoming_usage.merge(all_users_df, how=\"left\",on=\"event_source.hash\")\n",
    "voice_IDD_incoming_usage = voice_IDD_incoming_usage[voice_IDD_incoming_usage['ACCOUNT_NUM.hash'].notna()]\n",
    "voice_IDD_incoming_usage.drop([\"event_source.hash\",\"CR.hash\"],axis=1,inplace=True)"
   ]
  },
  {
   "cell_type": "code",
   "execution_count": 319,
   "metadata": {},
   "outputs": [],
   "source": [
    "voice_outgoing_usage = voice_outgoing_usage.merge(all_users_df, how=\"left\",on=\"event_source.hash\")\n",
    "voice_outgoing_usage = voice_outgoing_usage[voice_outgoing_usage['ACCOUNT_NUM.hash'].notna()]\n",
    "voice_outgoing_usage.drop([\"event_source.hash\",\"CR.hash\"],axis=1,inplace=True)"
   ]
  },
  {
   "cell_type": "code",
   "execution_count": 320,
   "metadata": {},
   "outputs": [],
   "source": [
    "voice_incoming_usage = voice_incoming_usage.merge(all_users_df, how=\"left\",on=\"event_source.hash\")\n",
    "voice_incoming_usage = voice_incoming_usage[voice_incoming_usage['ACCOUNT_NUM.hash'].notna()]\n",
    "voice_incoming_usage.drop([\"event_source.hash\",\"CR.hash\"],axis=1,inplace=True)\n",
    "voice_incoming_usage = voice_incoming_usage[[\"ACCOUNT_NUM.hash\",\"Usage_Rating_Categorical\",\"Usage_Rating_Scaled\",\"Outlier\"]]"
   ]
  },
  {
   "cell_type": "code",
   "execution_count": 321,
   "metadata": {},
   "outputs": [],
   "source": [
    "bb_usage = bb_usage.merge(all_users_df, how=\"left\",on=\"event_source.hash\")\n",
    "bb_usage = bb_usage[bb_usage['ACCOUNT_NUM.hash'].notna()]\n",
    "bb_usage.drop([\"event_source.hash\",\"CR.hash\"],axis=1,inplace=True)\n",
    "bb_usage = bb_usage.merge(user_bb_package_df, how = \"left\", on=\"ACCOUNT_NUM.hash\")\n",
    "bb_usage.drop_duplicates(\"ACCOUNT_NUM.hash\", keep=\"last\", inplace=True)"
   ]
  },
  {
   "cell_type": "code",
   "execution_count": 322,
   "metadata": {},
   "outputs": [
    {
     "name": "stdout",
     "output_type": "stream",
     "text": [
      "(41731, 4)\n",
      "(44745, 4)\n",
      "(43878, 4)\n",
      "(44441, 5)\n",
      "(5330, 5)\n",
      "(11255, 5)\n",
      "(21102, 4)\n"
     ]
    }
   ],
   "source": [
    "# user location \n",
    "print(bb_usage.shape)\n",
    "print(voice_incoming_usage.shape)\n",
    "print(voice_outgoing_usage.shape)\n",
    "print(all_users_locations_df.shape) # merging begins with this\n",
    "print(voice_IDD_outgoing_usage.shape)\n",
    "print(voice_IDD_incoming_usage.shape)\n",
    "print(peo_tv_usage.shape)"
   ]
  },
  {
   "cell_type": "code",
   "execution_count": 323,
   "metadata": {},
   "outputs": [],
   "source": [
    "demo_df.drop([\"event_source.hash\",\"CR.hash\"],axis=1, inplace=True)"
   ]
  },
  {
   "cell_type": "code",
   "execution_count": null,
   "metadata": {},
   "outputs": [],
   "source": []
  },
  {
   "cell_type": "markdown",
   "metadata": {},
   "source": [
    "# User Profile : Usage"
   ]
  },
  {
   "cell_type": "code",
   "execution_count": 324,
   "metadata": {},
   "outputs": [],
   "source": [
    "usage_df = voice_incoming_usage.merge(all_users_locations_df,how='left', on='ACCOUNT_NUM.hash')\n",
    "usage_df.rename(columns={'Usage_Rating_Categorical':'Voice_INCOMING_Categorical',\n",
    "                         'Usage_Rating_Scaled':'Voice_INCOMING_Scaled','Outlier':'Voice_INCOMING_Outlier'}, inplace=\"True\")\n",
    "usage_df.drop_duplicates(\"ACCOUNT_NUM.hash\",inplace=True)"
   ]
  },
  {
   "cell_type": "code",
   "execution_count": 325,
   "metadata": {},
   "outputs": [],
   "source": [
    "usage_df = usage_df.merge(voice_outgoing_usage,how='left', on='ACCOUNT_NUM.hash')\n",
    "usage_df.rename(columns={'Usage_Rating_Categorical':'Voice_OUTGOING_Categorical','Usage_Rating_Scaled':'Voice_OUTGOING_Scaled','Outlier':'Voice_OUTGOING_Outlier'}, inplace=\"True\")\n",
    "usage_df.drop_duplicates(\"ACCOUNT_NUM.hash\",inplace=True)"
   ]
  },
  {
   "cell_type": "code",
   "execution_count": 326,
   "metadata": {},
   "outputs": [],
   "source": [
    "usage_df = usage_df.merge(voice_IDD_incoming_usage,how='left', on='ACCOUNT_NUM.hash')\n",
    "usage_df.rename(columns={'Usage_Rating_Categorical':'IDD_INCOMING_Categorical','Usage_Rating_Scaled':'IDD_INCOMING_Scaled','Outlier':'IDD_INCOMING_Outlier'}, inplace=\"True\")\n",
    "usage_df.drop_duplicates(\"ACCOUNT_NUM.hash\",inplace=True)"
   ]
  },
  {
   "cell_type": "code",
   "execution_count": 327,
   "metadata": {},
   "outputs": [],
   "source": [
    "usage_df = usage_df.merge(voice_IDD_outgoing_usage,how='left', on='ACCOUNT_NUM.hash')\n",
    "usage_df.rename(columns={'Usage_Rating_Categorical':'IDD_OUTGOING_Categorical','Usage_Rating_Scaled':'IDD_OUTGOING_Scaled','Outlier':'IDD_OUTGOING_Outlier'}, inplace=\"True\")\n",
    "usage_df.drop_duplicates(\"ACCOUNT_NUM.hash\",inplace=True)"
   ]
  },
  {
   "cell_type": "code",
   "execution_count": 328,
   "metadata": {},
   "outputs": [],
   "source": [
    "usage_df = usage_df.merge(peo_tv_usage,how='left', on='ACCOUNT_NUM.hash')\n",
    "usage_df.rename(columns={'Usage_Rating_Categorical':'PEO_TV_Categorical','Usage_Rating_Scaled':'PEO_TV_Scaled'}, inplace=\"True\")\n",
    "usage_df.drop_duplicates(\"ACCOUNT_NUM.hash\",inplace=True)"
   ]
  },
  {
   "cell_type": "code",
   "execution_count": 329,
   "metadata": {},
   "outputs": [],
   "source": [
    "# merege BB usage\n",
    "usage_df = usage_df.merge(bb_usage,how='left', on='ACCOUNT_NUM.hash')\n",
    "usage_df.rename(columns={'Usage_Rating_Categorical':'BB_Categorical','Usage_Rating_Scaled':'BB_Scaled'}, inplace=\"True\")\n",
    "usage_df.drop_duplicates(\"ACCOUNT_NUM.hash\",inplace=True)"
   ]
  },
  {
   "cell_type": "markdown",
   "metadata": {},
   "source": [
    "# Adding New Data"
   ]
  },
  {
   "cell_type": "markdown",
   "metadata": {},
   "source": [
    "### Adding demographics"
   ]
  },
  {
   "cell_type": "code",
   "execution_count": 330,
   "metadata": {},
   "outputs": [],
   "source": [
    "usage_df = usage_df.merge(demo_df,how='left', on='ACCOUNT_NUM.hash')"
   ]
  },
  {
   "cell_type": "code",
   "execution_count": 331,
   "metadata": {},
   "outputs": [
    {
     "data": {
      "text/html": [
       "<div>\n",
       "<style scoped>\n",
       "    .dataframe tbody tr th:only-of-type {\n",
       "        vertical-align: middle;\n",
       "    }\n",
       "\n",
       "    .dataframe tbody tr th {\n",
       "        vertical-align: top;\n",
       "    }\n",
       "\n",
       "    .dataframe thead th {\n",
       "        text-align: right;\n",
       "    }\n",
       "</style>\n",
       "<table border=\"1\" class=\"dataframe\">\n",
       "  <thead>\n",
       "    <tr style=\"text-align: right;\">\n",
       "      <th></th>\n",
       "      <th>BIRTH_YEAR</th>\n",
       "      <th>AGE</th>\n",
       "    </tr>\n",
       "  </thead>\n",
       "  <tbody>\n",
       "    <tr>\n",
       "      <th>count</th>\n",
       "      <td>41769.000000</td>\n",
       "      <td>41769.000000</td>\n",
       "    </tr>\n",
       "    <tr>\n",
       "      <th>mean</th>\n",
       "      <td>1966.691685</td>\n",
       "      <td>54.308315</td>\n",
       "    </tr>\n",
       "    <tr>\n",
       "      <th>std</th>\n",
       "      <td>14.003570</td>\n",
       "      <td>14.003570</td>\n",
       "    </tr>\n",
       "    <tr>\n",
       "      <th>min</th>\n",
       "      <td>1922.000000</td>\n",
       "      <td>17.000000</td>\n",
       "    </tr>\n",
       "    <tr>\n",
       "      <th>25%</th>\n",
       "      <td>1957.000000</td>\n",
       "      <td>44.000000</td>\n",
       "    </tr>\n",
       "    <tr>\n",
       "      <th>50%</th>\n",
       "      <td>1967.000000</td>\n",
       "      <td>54.000000</td>\n",
       "    </tr>\n",
       "    <tr>\n",
       "      <th>75%</th>\n",
       "      <td>1977.000000</td>\n",
       "      <td>64.000000</td>\n",
       "    </tr>\n",
       "    <tr>\n",
       "      <th>max</th>\n",
       "      <td>2004.000000</td>\n",
       "      <td>99.000000</td>\n",
       "    </tr>\n",
       "  </tbody>\n",
       "</table>\n",
       "</div>"
      ],
      "text/plain": [
       "         BIRTH_YEAR           AGE\n",
       "count  41769.000000  41769.000000\n",
       "mean    1966.691685     54.308315\n",
       "std       14.003570     14.003570\n",
       "min     1922.000000     17.000000\n",
       "25%     1957.000000     44.000000\n",
       "50%     1967.000000     54.000000\n",
       "75%     1977.000000     64.000000\n",
       "max     2004.000000     99.000000"
      ]
     },
     "execution_count": 331,
     "metadata": {},
     "output_type": "execute_result"
    }
   ],
   "source": [
    "usage_df[[\"BIRTH_YEAR\",\"AGE\"]].describe()"
   ]
  },
  {
   "cell_type": "code",
   "execution_count": 332,
   "metadata": {},
   "outputs": [
    {
     "data": {
      "text/plain": [
       "<AxesSubplot:ylabel='Density'>"
      ]
     },
     "execution_count": 332,
     "metadata": {},
     "output_type": "execute_result"
    },
    {
     "data": {
      "image/png": "[encoded data removed]",
      "text/plain": [
       "<Figure size 432x288 with 1 Axes>"
      ]
     },
     "metadata": {
      "needs_background": "light"
     },
     "output_type": "display_data"
    }
   ],
   "source": [
    "usage_df[\"AGE\"].plot(kind = 'density')"
   ]
  },
  {
   "cell_type": "code",
   "execution_count": 333,
   "metadata": {},
   "outputs": [
    {
     "data": {
      "text/plain": [
       "<AxesSubplot:ylabel='Density'>"
      ]
     },
     "execution_count": 333,
     "metadata": {},
     "output_type": "execute_result"
    },
    {
     "data": {
      "image/png": "[encoded data removed]",
      "text/plain": [
       "<Figure size 432x288 with 1 Axes>"
      ]
     },
     "metadata": {
      "needs_background": "light"
     },
     "output_type": "display_data"
    }
   ],
   "source": [
    "usage_df[\"BIRTH_YEAR\"].plot(kind = 'density')"
   ]
  },
  {
   "cell_type": "markdown",
   "metadata": {},
   "source": [
    "### Demographic Information"
   ]
  },
  {
   "cell_type": "markdown",
   "metadata": {},
   "source": [
    "- 41769 users have demographic info (age, Birth Year, Gender)\n",
    "- Users born from **1922**-2004 \n",
    "- Age vary from 17 y.o. to **99 y.o**\n",
    "- Mean Age - 54 y.o\n",
    "- 75% of users are less than 65 y.o.\n",
    "- Mostly middle aged, and aged customers"
   ]
  },
  {
   "cell_type": "code",
   "execution_count": null,
   "metadata": {},
   "outputs": [],
   "source": []
  },
  {
   "cell_type": "markdown",
   "metadata": {},
   "source": [
    "## Voice Usage Bins"
   ]
  },
  {
   "cell_type": "code",
   "execution_count": 334,
   "metadata": {},
   "outputs": [
    {
     "data": {
      "text/plain": [
       "LOW       35636\n",
       "MEDIUM     8667\n",
       "HIGH        296\n",
       "Name: Voice_INCOMING_Categorical, dtype: int64"
      ]
     },
     "execution_count": 334,
     "metadata": {},
     "output_type": "execute_result"
    }
   ],
   "source": [
    "usage_df[\"Voice_INCOMING_Categorical\"].value_counts()"
   ]
  },
  {
   "cell_type": "code",
   "execution_count": 335,
   "metadata": {},
   "outputs": [],
   "source": [
    "def voice_bin(incoming,outgoing):\n",
    "    if incoming==\"LOW\" and outgoing==\"LOW\":\n",
    "        return \"LOW\"\n",
    "    if incoming==\"HIGH\" and outgoing==\"HIGH\":\n",
    "        return \"HIGH\"\n",
    "    if (incoming==\"HIGH\" and outgoing==\"MEDIUM\") or (incoming==\"MEDIUM\" and outgoing==\"HIGH\"):\n",
    "        return \"HIGH\"\n",
    "    if incoming==\"MEDIUM\" and outgoing==\"MEDIUM\":\n",
    "        return \"MEDIUM\"\n",
    "    if (incoming==\"MEDIUM\" and outgoing==\"LOW\") or (incoming==\"LOW\" and outgoing==\"MEDIUM\"):\n",
    "        return \"LOW\"\n",
    "    if (incoming==\"LOW\" and outgoing==\"HIGH\") or (incoming==\"HIGH\" and outgoing==\"LOW\"):\n",
    "        return \"MEDIUM\"\n",
    "    if (isinstance(incoming,float) and not isinstance(outgoing,float)) or (not isinstance(incoming,float) and isinstance(outgoing,float)):\n",
    "        return \"LOW\"\n",
    "#     if (isinstance(incoming,float) and isinstance(outgoing,float)):\n",
    "#         return \"NO\""
   ]
  },
  {
   "cell_type": "code",
   "execution_count": 336,
   "metadata": {},
   "outputs": [
    {
     "data": {
      "text/plain": [
       "'MEDIUM'"
      ]
     },
     "execution_count": 336,
     "metadata": {},
     "output_type": "execute_result"
    }
   ],
   "source": [
    "# test\n",
    "voice_bin(\"LOW\",\"HIGH\")"
   ]
  },
  {
   "cell_type": "code",
   "execution_count": 337,
   "metadata": {},
   "outputs": [],
   "source": [
    "usage_df[\"Voice_Overall_Categorical\"] = usage_df.apply(lambda x: voice_bin(x[\"Voice_INCOMING_Categorical\"], x[\"Voice_OUTGOING_Categorical\"]), axis=1)"
   ]
  },
  {
   "cell_type": "code",
   "execution_count": 338,
   "metadata": {},
   "outputs": [],
   "source": [
    "usage_df[\"IDD_Overall_Categorical\"] = usage_df.apply(lambda x: voice_bin(x[\"IDD_INCOMING_Categorical\"], x[\"IDD_OUTGOING_Categorical\"]), axis=1)"
   ]
  },
  {
   "cell_type": "code",
   "execution_count": 339,
   "metadata": {},
   "outputs": [],
   "source": [
    "def voice_overall_bin(call_usage):\n",
    "    counts = Counter(call_usage)\n",
    "    if counts[\"LOW\"] > 1:\n",
    "        return \"LOW\"\n",
    "    elif counts[\"HIGH\"] > 1:\n",
    "        return \"HIGH\"\n",
    "    elif counts[\"MEDIUM\"] > 1:\n",
    "        return \"MEDIUM\"\n",
    "    elif counts[\"LOW\"] == 1 and counts[\"MEDIUM\"] == 1 and counts[\"HIGH\"] == 1:\n",
    "        return \"MEDIUM\"\n",
    "    elif counts[\"LOW\"] == 1 and counts[\"MEDIUM\"] == 1:\n",
    "        return \"LOW\"\n",
    "    elif counts[\"MEDIUM\"] == 1 and counts[\"HIGH\"] == 1:\n",
    "        return \"MEDIUM\""
   ]
  },
  {
   "cell_type": "code",
   "execution_count": 340,
   "metadata": {},
   "outputs": [
    {
     "data": {
      "text/plain": [
       "'HIGH'"
      ]
     },
     "execution_count": 340,
     "metadata": {},
     "output_type": "execute_result"
    }
   ],
   "source": [
    "# test\n",
    "voice_overall_bin([\"HIGH\",\"HIGH\",\"NO\"])"
   ]
  },
  {
   "cell_type": "code",
   "execution_count": 341,
   "metadata": {},
   "outputs": [],
   "source": [
    "usage_df[\"VOICE_Categorical\"] = usage_df.apply(lambda x: voice_overall_bin([ x[\"Voice_Overall_Categorical\"], x[\"IDD_Overall_Categorical\"]]), axis=1)"
   ]
  },
  {
   "cell_type": "code",
   "execution_count": 342,
   "metadata": {},
   "outputs": [
    {
     "data": {
      "text/html": [
       "<div>\n",
       "<style scoped>\n",
       "    .dataframe tbody tr th:only-of-type {\n",
       "        vertical-align: middle;\n",
       "    }\n",
       "\n",
       "    .dataframe tbody tr th {\n",
       "        vertical-align: top;\n",
       "    }\n",
       "\n",
       "    .dataframe thead th {\n",
       "        text-align: right;\n",
       "    }\n",
       "</style>\n",
       "<table border=\"1\" class=\"dataframe\">\n",
       "  <thead>\n",
       "    <tr style=\"text-align: right;\">\n",
       "      <th></th>\n",
       "      <th>ACCOUNT_NUM.hash</th>\n",
       "      <th>Voice_INCOMING_Categorical</th>\n",
       "      <th>Voice_INCOMING_Scaled</th>\n",
       "      <th>Voice_INCOMING_Outlier</th>\n",
       "      <th>Location_Identifier</th>\n",
       "      <th>Location_Node</th>\n",
       "      <th>Package_Type_and_Medium</th>\n",
       "      <th>Model</th>\n",
       "      <th>Service_Status</th>\n",
       "      <th>Voice_OUTGOING_Categorical</th>\n",
       "      <th>...</th>\n",
       "      <th>PEO_TV_Scaled</th>\n",
       "      <th>BB_Categorical</th>\n",
       "      <th>BB_Scaled</th>\n",
       "      <th>BB_Package</th>\n",
       "      <th>GENDER</th>\n",
       "      <th>BIRTH_YEAR</th>\n",
       "      <th>AGE</th>\n",
       "      <th>Voice_Overall_Categorical</th>\n",
       "      <th>IDD_Overall_Categorical</th>\n",
       "      <th>VOICE_Categorical</th>\n",
       "    </tr>\n",
       "  </thead>\n",
       "  <tbody>\n",
       "  </tbody>\n",
       "</table>\n",
       "<p>0 rows × 32 columns</p>\n",
       "</div>"
      ],
      "text/plain": [
       "Empty DataFrame\n",
       "Columns: [ACCOUNT_NUM.hash, Voice_INCOMING_Categorical, Voice_INCOMING_Scaled, Voice_INCOMING_Outlier, Location_Identifier, Location_Node, Package_Type_and_Medium, Model, Service_Status, Voice_OUTGOING_Categorical, Voice_OUTGOING_Scaled, Voice_OUTGOING_Outlier, IDD_INCOMING_Categorical, IDD_INCOMING_Scaled, IDD_INCOMING_Outlier, IDD_incoming_country, IDD_OUTGOING_Categorical, IDD_OUTGOING_Scaled, IDD_OUTGOING_Outlier, IDD_outgoing_country, Peo_TV_Package, PEO_TV_Categorical, PEO_TV_Scaled, BB_Categorical, BB_Scaled, BB_Package, GENDER, BIRTH_YEAR, AGE, Voice_Overall_Categorical, IDD_Overall_Categorical, VOICE_Categorical]\n",
       "Index: []\n",
       "\n",
       "[0 rows x 32 columns]"
      ]
     },
     "execution_count": 342,
     "metadata": {},
     "output_type": "execute_result"
    }
   ],
   "source": [
    "usage_df[(usage_df[\"VOICE_Categorical\"] == \"NO\")]"
   ]
  },
  {
   "cell_type": "markdown",
   "metadata": {},
   "source": [
    "## Subscrition Types"
   ]
  },
  {
   "cell_type": "code",
   "execution_count": 343,
   "metadata": {},
   "outputs": [],
   "source": [
    "usage_df = usage_df.merge(sub_df,how='left',on=[\"ACCOUNT_NUM.hash\"])"
   ]
  },
  {
   "cell_type": "code",
   "execution_count": 344,
   "metadata": {},
   "outputs": [],
   "source": [
    "def check_product_level(voice,bb,tv):\n",
    "    if not isinstance(voice,float): \n",
    "        if isinstance(bb,float) and isinstance(tv,float):\n",
    "            return \"SINGLE_PLAY\"\n",
    "        if not isinstance(bb,float) and isinstance(tv,float):\n",
    "            return \"DOUBLE_PLAY_BV\"\n",
    "        if isinstance(bb,float) and not isinstance(tv,float):\n",
    "            return \"DOUBLE_PLAY_PV\"\n",
    "        if not isinstance(bb,float) and not isinstance(tv,float):\n",
    "            return \"TRIPLE_PLAY\""
   ]
  },
  {
   "cell_type": "code",
   "execution_count": 345,
   "metadata": {},
   "outputs": [],
   "source": [
    "usage_df[\"Play_Type\"] = usage_df.apply(lambda x: check_product_level(x[\"VOICE_Categorical\"], x[\"BB_Categorical\"], x[\"PEO_TV_Categorical\"]), axis=1)"
   ]
  },
  {
   "cell_type": "code",
   "execution_count": 346,
   "metadata": {},
   "outputs": [
    {
     "data": {
      "text/plain": [
       "DOUBLE_PLAY_BV    16575\n",
       "TRIPLE_PLAY       15626\n",
       "SINGLE_PLAY        7749\n",
       "DOUBLE_PLAY_PV     4649\n",
       "Name: Play_Type, dtype: int64"
      ]
     },
     "execution_count": 346,
     "metadata": {},
     "output_type": "execute_result"
    }
   ],
   "source": [
    "usage_df[\"Play_Type\"].value_counts()"
   ]
  },
  {
   "cell_type": "code",
   "execution_count": 347,
   "metadata": {},
   "outputs": [],
   "source": [
    "# play usage\n",
    "def play_usage(usage):\n",
    "    if len(usage)>2:\n",
    "        new_usage=[]\n",
    "        for el in usage:\n",
    "            if isinstance(el,float) or el==\"nan\" or el==None:\n",
    "                new_usage.append(\"NO_INFO\")\n",
    "            else:\n",
    "                new_usage.append(el)\n",
    "        return [f\"VOICE_{new_usage[0]}\", f\"BB_{new_usage[1]}\", f\"TV_{new_usage[2]}\"]\n",
    "    else:\n",
    "        return \"ERR\""
   ]
  },
  {
   "cell_type": "code",
   "execution_count": 348,
   "metadata": {},
   "outputs": [
    {
     "data": {
      "text/plain": [
       "['VOICE_LOW', 'BB_HIGH', 'TV_LOW']"
      ]
     },
     "execution_count": 348,
     "metadata": {},
     "output_type": "execute_result"
    }
   ],
   "source": [
    "# test\n",
    "play_usage([\"LOW\",\"HIGH\",\"LOW\"])"
   ]
  },
  {
   "cell_type": "code",
   "execution_count": 349,
   "metadata": {},
   "outputs": [],
   "source": [
    "usage_df[\"Sub_Usage\"] = usage_df.apply(lambda x: play_usage([x[\"VOICE_Categorical\"], x[\"BB_Categorical\"], x[\"PEO_TV_Categorical\"]]), axis=1)"
   ]
  },
  {
   "cell_type": "code",
   "execution_count": 350,
   "metadata": {},
   "outputs": [
    {
     "data": {
      "text/plain": [
       "Sub_Type        Play_Type     \n",
       "TRIPLE_PLAY     TRIPLE_PLAY       3829\n",
       "DOUBLE_PLAY_BV  DOUBLE_PLAY_BV    2802\n",
       "SINGLE_PLAY     SINGLE_PLAY       2691\n",
       "DOUBLE_PLAY_PV  DOUBLE_PLAY_PV    1038\n",
       "                TRIPLE_PLAY        927\n",
       "TRIPLE_PLAY     DOUBLE_PLAY_PV     851\n",
       "SINGLE_PLAY     DOUBLE_PLAY_BV     764\n",
       "DOUBLE_PLAY_BV  SINGLE_PLAY        507\n",
       "TRIPLE_PLAY     DOUBLE_PLAY_BV     348\n",
       "                SINGLE_PLAY        165\n",
       "DOUBLE_PLAY_BV  TRIPLE_PLAY        124\n",
       "DOUBLE_PLAY_PV  SINGLE_PLAY        104\n",
       "SINGLE_PLAY     TRIPLE_PLAY         74\n",
       "4G              DOUBLE_PLAY_BV      68\n",
       "DOUBLE_PLAY_PV  DOUBLE_PLAY_BV      61\n",
       "SINGLE_PLAY     DOUBLE_PLAY_PV      32\n",
       "DOUBLE_PLAY_BV  DOUBLE_PLAY_PV      23\n",
       "4G              SINGLE_PLAY          4\n",
       "dtype: int64"
      ]
     },
     "execution_count": 350,
     "metadata": {},
     "output_type": "execute_result"
    }
   ],
   "source": [
    "usage_df[[\"Sub_Type\",\"Play_Type\"]].value_counts()"
   ]
  },
  {
   "cell_type": "code",
   "execution_count": 351,
   "metadata": {},
   "outputs": [],
   "source": [
    "def check_sub_type(sub):\n",
    "    if isinstance(sub, float):\n",
    "        return \"Assumed\"\n",
    "    else:\n",
    "        return \"Actual\""
   ]
  },
  {
   "cell_type": "code",
   "execution_count": 352,
   "metadata": {},
   "outputs": [],
   "source": [
    "usage_df[\"Sub_Type_State\"]=usage_df[\"Sub_Type\"].apply(lambda x: check_sub_type(x))"
   ]
  },
  {
   "cell_type": "code",
   "execution_count": 353,
   "metadata": {},
   "outputs": [],
   "source": [
    "def merge_sub_types(sub1,sub2):\n",
    "    if isinstance(sub1, float):\n",
    "        return sub2\n",
    "    else:\n",
    "        return sub1"
   ]
  },
  {
   "cell_type": "code",
   "execution_count": 354,
   "metadata": {},
   "outputs": [],
   "source": [
    "usage_df[\"Sub_Type\"] = usage_df.apply(lambda x: merge_sub_types(x[\"Sub_Type\"], x[\"Play_Type\"]), axis=1)"
   ]
  },
  {
   "cell_type": "code",
   "execution_count": 355,
   "metadata": {},
   "outputs": [],
   "source": [
    "usage_df.drop([\"Play_Type\"],axis=1,inplace=True)"
   ]
  },
  {
   "cell_type": "code",
   "execution_count": 356,
   "metadata": {},
   "outputs": [
    {
     "data": {
      "text/plain": [
       "Assumed    30187\n",
       "Actual     14412\n",
       "Name: Sub_Type_State, dtype: int64"
      ]
     },
     "execution_count": 356,
     "metadata": {},
     "output_type": "execute_result"
    }
   ],
   "source": [
    "usage_df[\"Sub_Type_State\"].value_counts()"
   ]
  },
  {
   "cell_type": "code",
   "execution_count": 357,
   "metadata": {},
   "outputs": [
    {
     "data": {
      "text/plain": [
       "DOUBLE_PLAY_BV    15988\n",
       "TRIPLE_PLAY       15865\n",
       "SINGLE_PLAY        7839\n",
       "DOUBLE_PLAY_PV     4835\n",
       "4G                   72\n",
       "Name: Sub_Type, dtype: int64"
      ]
     },
     "execution_count": 357,
     "metadata": {},
     "output_type": "execute_result"
    }
   ],
   "source": [
    "usage_df[\"Sub_Type\"].value_counts()"
   ]
  },
  {
   "cell_type": "markdown",
   "metadata": {},
   "source": [
    "### Note\n",
    "\n",
    "- Actual Subscription information - for **14412** Subscribers\n",
    "- Assumed on usage - **30187**"
   ]
  },
  {
   "cell_type": "markdown",
   "metadata": {},
   "source": [
    "### Wait! Contradiction??"
   ]
  },
  {
   "cell_type": "code",
   "execution_count": 358,
   "metadata": {},
   "outputs": [
    {
     "data": {
      "text/plain": [
       "LOW       687\n",
       "MEDIUM    239\n",
       "HIGH       62\n",
       "Name: BB_Categorical, dtype: int64"
      ]
     },
     "execution_count": 358,
     "metadata": {},
     "output_type": "execute_result"
    }
   ],
   "source": [
    "usage_df[(usage_df[\"Sub_Type\"] == \"DOUBLE_PLAY_PV\")][\"BB_Categorical\"].value_counts()"
   ]
  },
  {
   "cell_type": "code",
   "execution_count": 359,
   "metadata": {},
   "outputs": [
    {
     "data": {
      "text/plain": [
       "LOW       637\n",
       "MEDIUM    136\n",
       "HIGH       65\n",
       "Name: BB_Categorical, dtype: int64"
      ]
     },
     "execution_count": 359,
     "metadata": {},
     "output_type": "execute_result"
    }
   ],
   "source": [
    "usage_df[(usage_df[\"Sub_Type\"] == \"SINGLE_PLAY\")][\"BB_Categorical\"].value_counts()"
   ]
  },
  {
   "cell_type": "code",
   "execution_count": 360,
   "metadata": {},
   "outputs": [
    {
     "data": {
      "text/plain": [
       "LOW       51\n",
       "MEDIUM    39\n",
       "HIGH      16\n",
       "Name: PEO_TV_Categorical, dtype: int64"
      ]
     },
     "execution_count": 360,
     "metadata": {},
     "output_type": "execute_result"
    }
   ],
   "source": [
    "usage_df[(usage_df[\"Sub_Type\"] == \"SINGLE_PLAY\")][\"PEO_TV_Categorical\"].value_counts()"
   ]
  },
  {
   "cell_type": "code",
   "execution_count": 361,
   "metadata": {},
   "outputs": [
    {
     "data": {
      "text/plain": [
       "MEDIUM    61\n",
       "LOW       58\n",
       "HIGH      28\n",
       "Name: PEO_TV_Categorical, dtype: int64"
      ]
     },
     "execution_count": 361,
     "metadata": {},
     "output_type": "execute_result"
    }
   ],
   "source": [
    "usage_df[(usage_df[\"Sub_Type\"] == \"DOUBLE_PLAY_BV\")][\"PEO_TV_Categorical\"].value_counts()"
   ]
  },
  {
   "cell_type": "markdown",
   "metadata": {},
   "source": [
    "### Why??\n",
    "- These subscribers may have used the services within 2019-01 to 2021-01 and however downgraded thier services by the time of BSS dataset has generated"
   ]
  },
  {
   "cell_type": "markdown",
   "metadata": {},
   "source": [
    "### Dropping contradictory subscribers"
   ]
  },
  {
   "cell_type": "code",
   "execution_count": 362,
   "metadata": {},
   "outputs": [],
   "source": [
    "usage_df = usage_df.drop(usage_df[(usage_df[\"Sub_Type\"] == \"DOUBLE_PLAY_PV\") & (usage_df[\"BB_Categorical\"].notna())].index)"
   ]
  },
  {
   "cell_type": "code",
   "execution_count": 363,
   "metadata": {},
   "outputs": [
    {
     "data": {
      "text/plain": [
       "Series([], Name: BB_Categorical, dtype: int64)"
      ]
     },
     "execution_count": 363,
     "metadata": {},
     "output_type": "execute_result"
    }
   ],
   "source": [
    "usage_df[(usage_df[\"Sub_Type\"] == \"DOUBLE_PLAY_PV\")][\"BB_Categorical\"].value_counts()"
   ]
  },
  {
   "cell_type": "code",
   "execution_count": 364,
   "metadata": {},
   "outputs": [],
   "source": [
    "usage_df = usage_df.drop(usage_df[(usage_df[\"Sub_Type\"] == \"SINGLE_PLAY\") & (usage_df[\"BB_Categorical\"].notna())].index)"
   ]
  },
  {
   "cell_type": "code",
   "execution_count": 365,
   "metadata": {},
   "outputs": [
    {
     "data": {
      "text/plain": [
       "Series([], Name: BB_Categorical, dtype: int64)"
      ]
     },
     "execution_count": 365,
     "metadata": {},
     "output_type": "execute_result"
    }
   ],
   "source": [
    "usage_df[(usage_df[\"Sub_Type\"] == \"SINGLE_PLAY\")][\"BB_Categorical\"].value_counts()"
   ]
  },
  {
   "cell_type": "code",
   "execution_count": 366,
   "metadata": {},
   "outputs": [],
   "source": [
    "usage_df = usage_df.drop(usage_df[(usage_df[\"Sub_Type\"] == \"SINGLE_PLAY\") & (usage_df[\"PEO_TV_Categorical\"] != \"NO\") & (usage_df[\"PEO_TV_Categorical\"].notna())].index)"
   ]
  },
  {
   "cell_type": "code",
   "execution_count": 367,
   "metadata": {},
   "outputs": [
    {
     "data": {
      "text/plain": [
       "Series([], Name: PEO_TV_Categorical, dtype: int64)"
      ]
     },
     "execution_count": 367,
     "metadata": {},
     "output_type": "execute_result"
    }
   ],
   "source": [
    "usage_df[(usage_df[\"Sub_Type\"] == \"SINGLE_PLAY\")][\"PEO_TV_Categorical\"].value_counts()"
   ]
  },
  {
   "cell_type": "code",
   "execution_count": 368,
   "metadata": {},
   "outputs": [],
   "source": [
    "usage_df = usage_df.drop(usage_df[(usage_df[\"Sub_Type\"] == \"DOUBLE_PLAY_BV\") & (usage_df[\"PEO_TV_Categorical\"] != \"NO\") & (usage_df[\"PEO_TV_Categorical\"].notna())].index)"
   ]
  },
  {
   "cell_type": "code",
   "execution_count": 369,
   "metadata": {},
   "outputs": [
    {
     "data": {
      "text/plain": [
       "Series([], Name: PEO_TV_Categorical, dtype: int64)"
      ]
     },
     "execution_count": 369,
     "metadata": {},
     "output_type": "execute_result"
    }
   ],
   "source": [
    "usage_df[(usage_df[\"Sub_Type\"] == \"DOUBLE_PLAY_BV\")][\"PEO_TV_Categorical\"].value_counts()"
   ]
  },
  {
   "cell_type": "code",
   "execution_count": 370,
   "metadata": {},
   "outputs": [
    {
     "data": {
      "text/plain": [
       "TRIPLE_PLAY       15865\n",
       "DOUBLE_PLAY_BV    15841\n",
       "SINGLE_PLAY        6969\n",
       "DOUBLE_PLAY_PV     3847\n",
       "4G                   72\n",
       "Name: Sub_Type, dtype: int64"
      ]
     },
     "execution_count": 370,
     "metadata": {},
     "output_type": "execute_result"
    }
   ],
   "source": [
    "usage_df[\"Sub_Type\"].value_counts()"
   ]
  },
  {
   "cell_type": "code",
   "execution_count": 371,
   "metadata": {},
   "outputs": [
    {
     "data": {
      "text/plain": [
       "<AxesSubplot:ylabel='Sub_Type'>"
      ]
     },
     "execution_count": 371,
     "metadata": {},
     "output_type": "execute_result"
    },
    {
     "data": {
      "image/png": "[encoded data removed]",
      "text/plain": [
       "<Figure size 648x648 with 1 Axes>"
      ]
     },
     "metadata": {},
     "output_type": "display_data"
    }
   ],
   "source": [
    "usage_df[\"Sub_Type\"].value_counts().plot(kind='pie', figsize=(9,9), autopct='%1.1f%%', colors=['pink','yellow','orange','green','blue'])"
   ]
  },
  {
   "cell_type": "code",
   "execution_count": null,
   "metadata": {},
   "outputs": [],
   "source": []
  },
  {
   "cell_type": "markdown",
   "metadata": {},
   "source": [
    "## Service Packages and VAS\n",
    "- categories derived from \"Product State Changes\" and \"VAS\" datasets"
   ]
  },
  {
   "cell_type": "code",
   "execution_count": 372,
   "metadata": {},
   "outputs": [],
   "source": [
    "usage_df = usage_df.merge(megaline_agg_df,how='left', on='ACCOUNT_NUM.hash')"
   ]
  },
  {
   "cell_type": "code",
   "execution_count": 373,
   "metadata": {},
   "outputs": [],
   "source": [
    "usage_df = usage_df.merge(ftth_agg_df,how='left', on='ACCOUNT_NUM.hash')"
   ]
  },
  {
   "cell_type": "code",
   "execution_count": 374,
   "metadata": {},
   "outputs": [],
   "source": [
    "usage_df.Package_Type_x.fillna(usage_df.Package_Type_y,inplace=True)\n",
    "usage_df.is_Promotion_x.fillna(usage_df.is_Promotion_y,inplace=True)\n",
    "usage_df.drop([\"Package_Type_y\",\"is_Promotion_y\"],axis=1, inplace=True)\n",
    "usage_df.rename(columns={\"Package_Type_x\":\"Package_Type\",\"is_Promotion_x\":\"is_Promotion\"},inplace=True)"
   ]
  },
  {
   "cell_type": "code",
   "execution_count": 375,
   "metadata": {},
   "outputs": [],
   "source": [
    "usage_df = usage_df.merge(lte_agg_df,how='left', on='ACCOUNT_NUM.hash')"
   ]
  },
  {
   "cell_type": "code",
   "execution_count": 376,
   "metadata": {},
   "outputs": [],
   "source": [
    "usage_df.Package_Type_x.fillna(usage_df.Package_Type_y,inplace=True)\n",
    "usage_df.is_Promotion_x.fillna(usage_df.is_Promotion_y,inplace=True)\n",
    "usage_df.drop([\"Package_Type_y\",\"is_Promotion_y\"],axis=1, inplace=True)\n",
    "usage_df.rename(columns={\"Package_Type_x\":\"Package_Type\",\"is_Promotion_x\":\"is_Promotion\"},inplace=True)"
   ]
  },
  {
   "cell_type": "code",
   "execution_count": 377,
   "metadata": {},
   "outputs": [],
   "source": [
    "vas_agg_df.rename(columns={\"Package\":\"VAS_Package\",\"Month_Subscribed\":\"VAS_Month_Subscribed\",\"Rental\":\"VAS_Rental\"},inplace=True)"
   ]
  },
  {
   "cell_type": "code",
   "execution_count": 378,
   "metadata": {},
   "outputs": [],
   "source": [
    "# scaling usage rating\n",
    "scaler = MinMaxScaler()\n",
    "vas_agg_df['VAS_Rental_Scaled'] = scaler.fit_transform(vas_agg_df['VAS_Rental'].values.reshape(-1,1))"
   ]
  },
  {
   "cell_type": "code",
   "execution_count": 379,
   "metadata": {},
   "outputs": [],
   "source": [
    "usage_df = usage_df.merge(vas_agg_df,how='left', on='ACCOUNT_NUM.hash')"
   ]
  },
  {
   "cell_type": "code",
   "execution_count": 380,
   "metadata": {},
   "outputs": [],
   "source": [
    "usage_df.Package_Type_x.fillna(usage_df.Package_Type_y,inplace=True)"
   ]
  },
  {
   "cell_type": "code",
   "execution_count": 381,
   "metadata": {},
   "outputs": [],
   "source": [
    "usage_df.drop([\"Package_Type_y\"],axis=1, inplace=True)\n",
    "usage_df.rename(columns={\"Package_Type_x\":\"Package_Type\"},inplace=True)"
   ]
  },
  {
   "cell_type": "markdown",
   "metadata": {},
   "source": [
    "## Subscription upgrades and Downgrades"
   ]
  },
  {
   "cell_type": "code",
   "execution_count": 382,
   "metadata": {},
   "outputs": [
    {
     "name": "stdout",
     "output_type": "stream",
     "text": [
      "<class 'pandas.core.frame.DataFrame'>\n",
      "RangeIndex: 20804 entries, 0 to 20803\n",
      "Data columns (total 4 columns):\n",
      " #   Column             Non-Null Count  Dtype \n",
      "---  ------             --------------  ----- \n",
      " 0   ACCOUNT_NUM.hash   20804 non-null  object\n",
      " 1   Sub_Update_Date    20799 non-null  object\n",
      " 2   Sub_Update_Status  20804 non-null  object\n",
      " 3   Sub_Update         20804 non-null  object\n",
      "dtypes: object(4)\n",
      "memory usage: 650.2+ KB\n"
     ]
    }
   ],
   "source": [
    "promo_change_df.info()"
   ]
  },
  {
   "cell_type": "code",
   "execution_count": 383,
   "metadata": {},
   "outputs": [],
   "source": [
    "usage_df = usage_df.merge(promo_change_df,how='left', on='ACCOUNT_NUM.hash')"
   ]
  },
  {
   "cell_type": "code",
   "execution_count": 384,
   "metadata": {},
   "outputs": [
    {
     "data": {
      "text/plain": [
       "Sub_Update_Status    Sub_Update                      \n",
       "Promotion Upgrade    SINGLE_PLAY -> DOUBLE_PLAY_BV       2555\n",
       "Promotion Downgrade  DOUBLE_PLAY_BV -> SINGLE_PLAY       2510\n",
       "Promotion Upgrade    DOUBLE_PLAY_PV -> TRIPLE_PLAY       2292\n",
       "                     DOUBLE_PLAY_BV -> TRIPLE_PLAY       1611\n",
       "Promotion Downgrade  TRIPLE_PLAY -> DOUBLE_PLAY_PV       1396\n",
       "Promotion Upgrade    SINGLE_PLAY -> TRIPLE_PLAY           510\n",
       "Promotion Downgrade  TRIPLE_PLAY -> SINGLE_PLAY           471\n",
       "                     TRIPLE_PLAY -> DOUBLE_PLAY_BV        419\n",
       "Promotion Upgrade    SINGLE_PLAY -> DOUBLE_PLAY_PV        307\n",
       "Promotion Downgrade  DOUBLE_PLAY_PV -> SINGLE_PLAY        110\n",
       "Promotion Upgrade    4G -> DOUBLE_PLAY_BV                  69\n",
       "Promotion Downgrade  DOUBLE_PLAY_BV -> 4G                  58\n",
       "Promotion Upgrade    4G -> 4G                              10\n",
       "Promotion Downgrade  4G -> 4G                               8\n",
       "Promotion Upgrade    DOUBLE_PLAY_BV -> DOUBLE_PLAY_PV       8\n",
       "                     DOUBLE_PLAY_PV -> DOUBLE_PLAY_BV       5\n",
       "Promotion Downgrade  DOUBLE_PLAY_BV -> DOUBLE_PLAY_PV       2\n",
       "Promotion Upgrade    SINGLE_PLAY -> 4G                      1\n",
       "Promotion Downgrade  SINGLE_PLAY -> TRIPLE_PLAY             1\n",
       "Promotion Upgrade    TRIPLE_PLAY -> SINGLE_PLAY             1\n",
       "dtype: int64"
      ]
     },
     "execution_count": 384,
     "metadata": {},
     "output_type": "execute_result"
    }
   ],
   "source": [
    "usage_df[[\"Sub_Update_Status\",\"Sub_Update\"]].value_counts()"
   ]
  },
  {
   "cell_type": "code",
   "execution_count": 385,
   "metadata": {},
   "outputs": [
    {
     "data": {
      "text/plain": [
       "<AxesSubplot:ylabel='None'>"
      ]
     },
     "execution_count": 385,
     "metadata": {},
     "output_type": "execute_result"
    },
    {
     "data": {
      "image/png": "[encoded data removed]",
      "text/plain": [
       "<Figure size 720x720 with 1 Axes>"
      ]
     },
     "metadata": {},
     "output_type": "display_data"
    }
   ],
   "source": [
    "fig = plt.figure(figsize=(10,10))\n",
    "ax = plt.subplot(111)\n",
    "usage_df[[\"Sub_Update_Status\"]].value_counts().plot(kind='pie', ax=ax, autopct='%1.1f%%', startangle=270, fontsize=12)"
   ]
  },
  {
   "cell_type": "code",
   "execution_count": null,
   "metadata": {},
   "outputs": [],
   "source": []
  },
  {
   "cell_type": "markdown",
   "metadata": {},
   "source": [
    "## BB Extra GB Purchased"
   ]
  },
  {
   "cell_type": "code",
   "execution_count": 386,
   "metadata": {},
   "outputs": [],
   "source": [
    "extra_GB_df.rename(columns={\"Month_Subscribed\":\"BB_Extra_GB_Purchased_Month\",\"Rental\":\"BB_Extra_GB_Rental\",\"BB_Package\":\"EGB_BB_Package\",\"GB_AMOUNT\":\"GB_Amount\"}, inplace=True)"
   ]
  },
  {
   "cell_type": "code",
   "execution_count": 387,
   "metadata": {},
   "outputs": [],
   "source": [
    "extra_GB_df[\"BB_Extra_GB_Usage_Times\"] = 1"
   ]
  },
  {
   "cell_type": "code",
   "execution_count": 388,
   "metadata": {},
   "outputs": [],
   "source": [
    "extra_GB_agg_df = extra_GB_df.groupby('ACCOUNT_NUM.hash', as_index=False).agg(list)"
   ]
  },
  {
   "cell_type": "code",
   "execution_count": 389,
   "metadata": {},
   "outputs": [],
   "source": [
    "extra_GB_agg_df['BB_Extra_GB_Usage_Times'] = extra_GB_agg_df.apply(lambda x: len(x['BB_Extra_GB_Usage_Times']), axis=1)"
   ]
  },
  {
   "cell_type": "code",
   "execution_count": 390,
   "metadata": {},
   "outputs": [],
   "source": [
    "def list_zipper(list1,list2):\n",
    "    return dict(zip(list1,list2))\n",
    "\n",
    "def total_rental(col):\n",
    "    #col = literal_eval(col)\n",
    "    new_val = 0\n",
    "    try:\n",
    "        for i in col:\n",
    "            new_val = new_val + int(i)\n",
    "    except:\n",
    "        pass\n",
    "    return new_val"
   ]
  },
  {
   "cell_type": "code",
   "execution_count": 391,
   "metadata": {},
   "outputs": [],
   "source": [
    "extra_GB_agg_df['BB_Extra_GB_Month_vs_Rental'] = extra_GB_agg_df.apply(lambda x: list_zipper(x['BB_Extra_GB_Purchased_Month'],x['BB_Extra_GB_Rental']), axis=1)"
   ]
  },
  {
   "cell_type": "code",
   "execution_count": 392,
   "metadata": {},
   "outputs": [],
   "source": [
    "extra_GB_agg_df.drop([\"BB_Extra_GB_Purchased_Month\"],axis=1, inplace=True)"
   ]
  },
  {
   "cell_type": "code",
   "execution_count": 393,
   "metadata": {},
   "outputs": [],
   "source": [
    "extra_GB_agg_df[\"BB_Extra_GB_Rental\"] = extra_GB_agg_df[\"BB_Extra_GB_Rental\"].apply(lambda x: total_rental(x))\n",
    "extra_GB_agg_df[\"GB_Amount\"] = extra_GB_agg_df[\"GB_Amount\"].apply(lambda x: total_rental(x))"
   ]
  },
  {
   "cell_type": "code",
   "execution_count": 394,
   "metadata": {},
   "outputs": [],
   "source": [
    "extra_GB_agg_df[\"Hour_Subscribed\"] = extra_GB_agg_df[\"Hour_Subscribed\"].apply(lambda x: clean_lists(x))\n",
    "extra_GB_agg_df[\"EGB_BB_Package\"] = extra_GB_agg_df[\"EGB_BB_Package\"].apply(lambda x: clean_lists(x))"
   ]
  },
  {
   "cell_type": "code",
   "execution_count": 395,
   "metadata": {},
   "outputs": [
    {
     "data": {
      "text/plain": [
       "FTTH_WEB FAMILY PLUS                                                      3978\n",
       "WEB LITE                                                                  3858\n",
       "WEB FAMILY PLUS                                                           2337\n",
       "LTE_WEB STARTER                                                           2215\n",
       "WEB STARTER                                                               1904\n",
       "                                                                          ... \n",
       "['WEB FAMILY ACTIVE', 'WEB PAL', 'WEB FAMILY XTRA', 'WEB FAMILY PLUS']       1\n",
       "['WEB PAL', 'WEB FAMILY PLUS', 'FTTH_WEB FAMILY PLUS']                       1\n",
       "['FTTH_ANY SPIKE', 'FTTH_ANY TIDE', 'FTTH_WEB FAMILY PLUS']                  1\n",
       "['WEB FAMILY XTRA', 'WEB FAMILY ACTIVE', 'ANY FLIX']                         1\n",
       "['FTTH_ANY FLIX', 'FTTH_ANY STORM']                                          1\n",
       "Name: EGB_BB_Package, Length: 505, dtype: int64"
      ]
     },
     "execution_count": 395,
     "metadata": {},
     "output_type": "execute_result"
    }
   ],
   "source": [
    "extra_GB_agg_df[\"EGB_BB_Package\"].astype(\"str\").value_counts()"
   ]
  },
  {
   "cell_type": "code",
   "execution_count": 396,
   "metadata": {},
   "outputs": [],
   "source": [
    "scaler = MinMaxScaler()\n",
    "extra_GB_agg_df[\"BB_Extra_GB_Purchased_Scaled\"] = scaler.fit_transform(extra_GB_agg_df[\"BB_Extra_GB_Rental\"].values.reshape(-1,1))"
   ]
  },
  {
   "cell_type": "code",
   "execution_count": 397,
   "metadata": {},
   "outputs": [],
   "source": [
    "extra_GB_agg_df[\"BB_Extra_GB_Purchased_Scaled\"] = extra_GB_agg_df[\"BB_Extra_GB_Purchased_Scaled\"].apply(lambda x: 0.01 if x==0.0 else x)"
   ]
  },
  {
   "cell_type": "code",
   "execution_count": 398,
   "metadata": {},
   "outputs": [
    {
     "data": {
      "text/plain": [
       "count    29374.000000\n",
       "mean         0.007785\n",
       "std          0.015151\n",
       "min          0.000322\n",
       "25%          0.001369\n",
       "50%          0.003221\n",
       "75%          0.008293\n",
       "max          1.000000\n",
       "Name: BB_Extra_GB_Purchased_Scaled, dtype: float64"
      ]
     },
     "execution_count": 398,
     "metadata": {},
     "output_type": "execute_result"
    }
   ],
   "source": [
    "extra_GB_agg_df[\"BB_Extra_GB_Purchased_Scaled\"].describe()"
   ]
  },
  {
   "cell_type": "code",
   "execution_count": 399,
   "metadata": {},
   "outputs": [],
   "source": [
    "# binning\n",
    "bins = [0, 0.33, 0.66,1]\n",
    "labels = ['LOW','MEDIUM','HIGH']\n",
    "extra_GB_agg_df['BB_Extra_GB_Purchase_Categorical'] = pd.cut(extra_GB_agg_df['BB_Extra_GB_Purchased_Scaled'], bins=bins, labels=labels)"
   ]
  },
  {
   "cell_type": "code",
   "execution_count": 400,
   "metadata": {},
   "outputs": [],
   "source": [
    "def get_night_hour(col):\n",
    "    if not isinstance(col,float):\n",
    "        if not isinstance(col, list):\n",
    "            col = [col]\n",
    "        night_time = 0\n",
    "        for i in col:\n",
    "            if i in range(0,8) or i >= 22:\n",
    "                night_time += 0.2\n",
    "        return night_time\n",
    "    else:\n",
    "        return 0\n",
    "    \n",
    "    \n",
    "def get_day_hour(col):\n",
    "    if not isinstance(col,float):\n",
    "        if not isinstance(col, list):\n",
    "            col = [col]\n",
    "        day_time = 0\n",
    "        for i in col:\n",
    "            if i in range(9,22):\n",
    "                day_time += 0.5\n",
    "        return day_time\n",
    "    else:\n",
    "        return 0"
   ]
  },
  {
   "cell_type": "code",
   "execution_count": 401,
   "metadata": {},
   "outputs": [],
   "source": [
    "extra_GB_agg_df[\"BB_Extra_GB_Subscribed_Night\"] = extra_GB_agg_df[\"Hour_Subscribed\"].apply(lambda x: get_night_hour(x))"
   ]
  },
  {
   "cell_type": "code",
   "execution_count": 402,
   "metadata": {},
   "outputs": [],
   "source": [
    "extra_GB_agg_df[\"BB_Extra_GB_Subscribed_Day\"] = extra_GB_agg_df[\"Hour_Subscribed\"].apply(lambda x: get_day_hour(x))"
   ]
  },
  {
   "cell_type": "code",
   "execution_count": 403,
   "metadata": {},
   "outputs": [],
   "source": [
    "# scaling usage rating\n",
    "scaler = MinMaxScaler()\n",
    "extra_GB_agg_df['BB_Extra_GB_Rental_Scaled'] = scaler.fit_transform(extra_GB_agg_df['BB_Extra_GB_Rental'].values.reshape(-1,1))"
   ]
  },
  {
   "cell_type": "code",
   "execution_count": 404,
   "metadata": {},
   "outputs": [],
   "source": [
    "extra_GB_agg_df.rename(columns={\"GB_Amount\":\"BB_Extra_GB_Amount\",\"Hour_Subscribed\": \"BB_Extra_GB_Hour_Subscribed\"}, inplace=True)"
   ]
  },
  {
   "cell_type": "code",
   "execution_count": 405,
   "metadata": {},
   "outputs": [
    {
     "name": "stdout",
     "output_type": "stream",
     "text": [
      "<class 'pandas.core.frame.DataFrame'>\n",
      "RangeIndex: 29374 entries, 0 to 29373\n",
      "Data columns (total 12 columns):\n",
      " #   Column                            Non-Null Count  Dtype   \n",
      "---  ------                            --------------  -----   \n",
      " 0   ACCOUNT_NUM.hash                  29374 non-null  object  \n",
      " 1   BB_Extra_GB_Rental                29374 non-null  int64   \n",
      " 2   EGB_BB_Package                    29374 non-null  object  \n",
      " 3   BB_Extra_GB_Amount                29374 non-null  int64   \n",
      " 4   BB_Extra_GB_Hour_Subscribed       29374 non-null  object  \n",
      " 5   BB_Extra_GB_Usage_Times           29374 non-null  int64   \n",
      " 6   BB_Extra_GB_Month_vs_Rental       29374 non-null  object  \n",
      " 7   BB_Extra_GB_Purchased_Scaled      29374 non-null  float64 \n",
      " 8   BB_Extra_GB_Purchase_Categorical  29374 non-null  category\n",
      " 9   BB_Extra_GB_Subscribed_Night      29374 non-null  float64 \n",
      " 10  BB_Extra_GB_Subscribed_Day        29374 non-null  float64 \n",
      " 11  BB_Extra_GB_Rental_Scaled         29374 non-null  float64 \n",
      "dtypes: category(1), float64(4), int64(3), object(4)\n",
      "memory usage: 2.5+ MB\n"
     ]
    }
   ],
   "source": [
    "extra_GB_agg_df.info()"
   ]
  },
  {
   "cell_type": "code",
   "execution_count": 406,
   "metadata": {},
   "outputs": [],
   "source": [
    "usage_df = usage_df.merge(extra_GB_agg_df,how='left', on='ACCOUNT_NUM.hash')"
   ]
  },
  {
   "cell_type": "code",
   "execution_count": 407,
   "metadata": {},
   "outputs": [],
   "source": [
    "usage_df.BB_Package.fillna(usage_df.EGB_BB_Package,inplace=True)\n",
    "usage_df.drop([\"EGB_BB_Package\"], axis=1, inplace=True)"
   ]
  },
  {
   "cell_type": "markdown",
   "metadata": {},
   "source": [
    "## PeoTV Extra Channels Purchased"
   ]
  },
  {
   "cell_type": "code",
   "execution_count": 408,
   "metadata": {},
   "outputs": [],
   "source": [
    "extra_Peo_df.rename(columns={\"Month_Subscribed\":\"Peo_Extra_Channels_Purchased_Month\",\"Rental\":\"Peo_Extra_Channels_Rental\"}, inplace=True)"
   ]
  },
  {
   "cell_type": "code",
   "execution_count": 409,
   "metadata": {},
   "outputs": [
    {
     "name": "stdout",
     "output_type": "stream",
     "text": [
      "<class 'pandas.core.frame.DataFrame'>\n",
      "RangeIndex: 151902 entries, 0 to 151901\n",
      "Data columns (total 3 columns):\n",
      " #   Column                              Non-Null Count   Dtype \n",
      "---  ------                              --------------   ----- \n",
      " 0   ACCOUNT_NUM.hash                    151902 non-null  object\n",
      " 1   Peo_Extra_Channels_Purchased_Month  151902 non-null  object\n",
      " 2   Peo_Extra_Channels_Rental           151902 non-null  int64 \n",
      "dtypes: int64(1), object(2)\n",
      "memory usage: 3.5+ MB\n"
     ]
    }
   ],
   "source": [
    "extra_Peo_df.info()"
   ]
  },
  {
   "cell_type": "code",
   "execution_count": 410,
   "metadata": {},
   "outputs": [
    {
     "data": {
      "text/plain": [
       "21847"
      ]
     },
     "execution_count": 410,
     "metadata": {},
     "output_type": "execute_result"
    }
   ],
   "source": [
    "len(extra_Peo_df[\"ACCOUNT_NUM.hash\"].unique())"
   ]
  },
  {
   "cell_type": "code",
   "execution_count": 411,
   "metadata": {},
   "outputs": [],
   "source": [
    "extra_Peo_agg_df = extra_Peo_df.groupby('ACCOUNT_NUM.hash', as_index=False).agg(list)"
   ]
  },
  {
   "cell_type": "code",
   "execution_count": 412,
   "metadata": {},
   "outputs": [],
   "source": [
    "extra_Peo_agg_df['Peo_Extra_Channels_Cumulative_Rental'] = extra_Peo_agg_df.apply(lambda x: sum(x['Peo_Extra_Channels_Rental']), axis=1)"
   ]
  },
  {
   "cell_type": "code",
   "execution_count": 413,
   "metadata": {},
   "outputs": [],
   "source": [
    "extra_Peo_agg_df['Peo_Extra_Channels_Month_vs_Rental'] = extra_Peo_agg_df.apply(lambda x: list_zipper(x['Peo_Extra_Channels_Purchased_Month'],x['Peo_Extra_Channels_Rental']), axis=1)"
   ]
  },
  {
   "cell_type": "code",
   "execution_count": 414,
   "metadata": {},
   "outputs": [],
   "source": [
    "extra_Peo_agg_df.drop([\"Peo_Extra_Channels_Purchased_Month\",\"Peo_Extra_Channels_Rental\"],axis=1, inplace=True)"
   ]
  },
  {
   "cell_type": "code",
   "execution_count": 415,
   "metadata": {},
   "outputs": [],
   "source": [
    "scaler = MinMaxScaler()\n",
    "extra_Peo_agg_df[\"Peo_Extra_Channels_Purchased_Scaled\"] = scaler.fit_transform(extra_Peo_agg_df[\"Peo_Extra_Channels_Cumulative_Rental\"].values.reshape(-1,1))"
   ]
  },
  {
   "cell_type": "code",
   "execution_count": 416,
   "metadata": {},
   "outputs": [],
   "source": [
    "extra_Peo_agg_df[\"Peo_Extra_Channels_Purchased_Scaled\"] = extra_Peo_agg_df[\"Peo_Extra_Channels_Purchased_Scaled\"].apply(lambda x: 0.01 if x==0.0 else x)"
   ]
  },
  {
   "cell_type": "code",
   "execution_count": 417,
   "metadata": {},
   "outputs": [
    {
     "data": {
      "text/plain": [
       "count    21847.000000\n",
       "mean         0.299167\n",
       "std          0.163587\n",
       "min          0.010000\n",
       "25%          0.150000\n",
       "50%          0.350000\n",
       "75%          0.450000\n",
       "max          1.000000\n",
       "Name: Peo_Extra_Channels_Purchased_Scaled, dtype: float64"
      ]
     },
     "execution_count": 417,
     "metadata": {},
     "output_type": "execute_result"
    }
   ],
   "source": [
    "extra_Peo_agg_df[\"Peo_Extra_Channels_Purchased_Scaled\"].describe()"
   ]
  },
  {
   "cell_type": "code",
   "execution_count": 418,
   "metadata": {},
   "outputs": [],
   "source": [
    "# binning\n",
    "bins = [0, 0.33, 0.66,1]\n",
    "labels = ['LOW','MEDIUM','HIGH']\n",
    "extra_Peo_agg_df['Peo_Extra_Channels_Purchased_Categorical'] = pd.cut(extra_Peo_agg_df['Peo_Extra_Channels_Purchased_Scaled'], bins=bins, labels=labels)"
   ]
  },
  {
   "cell_type": "code",
   "execution_count": 419,
   "metadata": {},
   "outputs": [
    {
     "name": "stdout",
     "output_type": "stream",
     "text": [
      "<class 'pandas.core.frame.DataFrame'>\n",
      "RangeIndex: 21847 entries, 0 to 21846\n",
      "Data columns (total 5 columns):\n",
      " #   Column                                    Non-Null Count  Dtype   \n",
      "---  ------                                    --------------  -----   \n",
      " 0   ACCOUNT_NUM.hash                          21847 non-null  object  \n",
      " 1   Peo_Extra_Channels_Cumulative_Rental      21847 non-null  int64   \n",
      " 2   Peo_Extra_Channels_Month_vs_Rental        21847 non-null  object  \n",
      " 3   Peo_Extra_Channels_Purchased_Scaled       21847 non-null  float64 \n",
      " 4   Peo_Extra_Channels_Purchased_Categorical  21847 non-null  category\n",
      "dtypes: category(1), float64(1), int64(1), object(2)\n",
      "memory usage: 704.3+ KB\n"
     ]
    }
   ],
   "source": [
    "extra_Peo_agg_df.info()"
   ]
  },
  {
   "cell_type": "code",
   "execution_count": 420,
   "metadata": {},
   "outputs": [],
   "source": [
    "usage_df = usage_df.merge(extra_Peo_agg_df,how='left', on='ACCOUNT_NUM.hash')"
   ]
  },
  {
   "cell_type": "markdown",
   "metadata": {},
   "source": [
    "## Payment and Billing Info"
   ]
  },
  {
   "cell_type": "code",
   "execution_count": 421,
   "metadata": {},
   "outputs": [],
   "source": [
    "for col in billing_df.columns[1:]:\n",
    "    billing_df.rename(columns={col:\"Bill_{}\".format(col)},inplace=True)"
   ]
  },
  {
   "cell_type": "code",
   "execution_count": 422,
   "metadata": {},
   "outputs": [
    {
     "data": {
      "text/plain": [
       "110888"
      ]
     },
     "execution_count": 422,
     "metadata": {},
     "output_type": "execute_result"
    }
   ],
   "source": [
    "len(billing_df[\"ACCOUNT_NUM.hash\"].unique())"
   ]
  },
  {
   "cell_type": "code",
   "execution_count": 423,
   "metadata": {},
   "outputs": [
    {
     "name": "stderr",
     "output_type": "stream",
     "text": [
      "/var/folders/00/gmvdw06n48lgtsz126ng5y2m0000gn/T/ipykernel_58522/1610280062.py:2: SettingWithCopyWarning: \n",
      "A value is trying to be set on a copy of a slice from a DataFrame.\n",
      "Try using .loc[row_indexer,col_indexer] = value instead\n",
      "\n",
      "See the caveats in the documentation: https://pandas.pydata.org/pandas-docs/stable/user_guide/indexing.html#returning-a-view-versus-a-copy\n",
      "  only_accs_df[\"acc_num_new\"] = only_accs_df[\"ACCOUNT_NUM.hash\"]\n",
      "/Users/chiranhewawitharana/mambaforge/envs/mactf/lib/python3.8/site-packages/pandas/core/frame.py:4906: SettingWithCopyWarning: \n",
      "A value is trying to be set on a copy of a slice from a DataFrame\n",
      "\n",
      "See the caveats in the documentation: https://pandas.pydata.org/pandas-docs/stable/user_guide/indexing.html#returning-a-view-versus-a-copy\n",
      "  return super().drop(\n"
     ]
    }
   ],
   "source": [
    "only_accs_df = usage_df[[\"ACCOUNT_NUM.hash\",\"Model\"]]\n",
    "only_accs_df[\"acc_num_new\"] = only_accs_df[\"ACCOUNT_NUM.hash\"]\n",
    "only_accs_df.drop(\"Model\",axis=1, inplace=True)"
   ]
  },
  {
   "cell_type": "code",
   "execution_count": 424,
   "metadata": {},
   "outputs": [],
   "source": [
    "billing_reduced_df = billing_df.merge(only_accs_df,how='left', on='ACCOUNT_NUM.hash')\n",
    "billing_reduced_df.drop_duplicates([\"acc_num_new\"],inplace=True)\n",
    "billing_reduced_df.drop([\"ACCOUNT_NUM.hash\"],axis=1,inplace=True)\n",
    "billing_reduced_df.rename(columns={\"acc_num_new\":\"ACCOUNT_NUM.hash\"},inplace=True)"
   ]
  },
  {
   "cell_type": "code",
   "execution_count": 425,
   "metadata": {},
   "outputs": [],
   "source": [
    "billing_reduced_df.reset_index(inplace=True)\n",
    "billing_reduced_df.drop(\"index\", axis=1, inplace= True)"
   ]
  },
  {
   "cell_type": "code",
   "execution_count": 426,
   "metadata": {},
   "outputs": [
    {
     "name": "stdout",
     "output_type": "stream",
     "text": [
      "<class 'pandas.core.frame.DataFrame'>\n",
      "RangeIndex: 42591 entries, 0 to 42590\n",
      "Data columns (total 13 columns):\n",
      " #   Column                    Non-Null Count  Dtype \n",
      "---  ------                    --------------  ----- \n",
      " 0   Bill_Balance_Froward      42591 non-null  int64 \n",
      " 1   Bill_Net_Invoice          42591 non-null  int64 \n",
      " 2   Bill_Tax_Invoice          42591 non-null  int64 \n",
      " 3   Bill_Outstanding_Balance  42591 non-null  int64 \n",
      " 4   Bill_Amount_Paid          42591 non-null  int64 \n",
      " 5   Bill_Faild_to_Pay         42591 non-null  int64 \n",
      " 6   Bill_Adjustment_Paid      42591 non-null  int64 \n",
      " 7   Bill_Refunds_Paid         42591 non-null  int64 \n",
      " 8   Bill_Payment_Due_Date     42591 non-null  object\n",
      " 9   Bill_Bill_Settled_Date    37506 non-null  object\n",
      " 10  Bill_Actual_Bill_Date     42591 non-null  object\n",
      " 11  Bill_Billing_Status       42591 non-null  object\n",
      " 12  ACCOUNT_NUM.hash          42590 non-null  object\n",
      "dtypes: int64(8), object(5)\n",
      "memory usage: 4.2+ MB\n"
     ]
    }
   ],
   "source": [
    "billing_reduced_df.info()"
   ]
  },
  {
   "cell_type": "code",
   "execution_count": 427,
   "metadata": {},
   "outputs": [],
   "source": [
    "usage_df = usage_df.merge(billing_reduced_df,how='left', on='ACCOUNT_NUM.hash')"
   ]
  },
  {
   "cell_type": "code",
   "execution_count": 428,
   "metadata": {},
   "outputs": [],
   "source": [
    "payments_df = payments_df.groupby('ACCOUNT_NUM.hash', as_index=False).agg(list)"
   ]
  },
  {
   "cell_type": "code",
   "execution_count": 429,
   "metadata": {},
   "outputs": [],
   "source": [
    "payments_df['Payments_Month_vs_Amount_Paid'] = payments_df.apply(lambda x: list_zipper(x['Payment_Month'],x['Amount_Paid']), axis=1)\n",
    "payments_df[\"Payment_Status\"] = payments_df[\"Payment_Status\"].apply(lambda x: clean_lists(x))\n",
    "payments_df.drop([\"Payment_Month\",\"Amount_Paid\"],axis=1, inplace=True)"
   ]
  },
  {
   "cell_type": "code",
   "execution_count": 430,
   "metadata": {},
   "outputs": [],
   "source": [
    "payment_reduced_df = payments_df.merge(only_accs_df,how='left', on='ACCOUNT_NUM.hash')\n",
    "payment_reduced_df.drop_duplicates([\"acc_num_new\"],inplace=True)\n",
    "payment_reduced_df.drop([\"ACCOUNT_NUM.hash\"],axis=1,inplace=True)\n",
    "payment_reduced_df.rename(columns={\"acc_num_new\":\"ACCOUNT_NUM.hash\"},inplace=True)"
   ]
  },
  {
   "cell_type": "code",
   "execution_count": 431,
   "metadata": {},
   "outputs": [],
   "source": [
    "payment_reduced_df.reset_index(inplace=True)\n",
    "payment_reduced_df.drop(\"index\", axis=1, inplace= True)"
   ]
  },
  {
   "cell_type": "code",
   "execution_count": 432,
   "metadata": {},
   "outputs": [
    {
     "name": "stdout",
     "output_type": "stream",
     "text": [
      "<class 'pandas.core.frame.DataFrame'>\n",
      "RangeIndex: 42264 entries, 0 to 42263\n",
      "Data columns (total 3 columns):\n",
      " #   Column                         Non-Null Count  Dtype \n",
      "---  ------                         --------------  ----- \n",
      " 0   Payment_Status                 42264 non-null  object\n",
      " 1   Payments_Month_vs_Amount_Paid  42264 non-null  object\n",
      " 2   ACCOUNT_NUM.hash               42263 non-null  object\n",
      "dtypes: object(3)\n",
      "memory usage: 990.7+ KB\n"
     ]
    }
   ],
   "source": [
    "payment_reduced_df.info()"
   ]
  },
  {
   "cell_type": "code",
   "execution_count": 433,
   "metadata": {},
   "outputs": [],
   "source": [
    "usage_df = usage_df.merge(payment_reduced_df,how='left', on='ACCOUNT_NUM.hash')"
   ]
  },
  {
   "cell_type": "markdown",
   "metadata": {},
   "source": [
    "### All Packages"
   ]
  },
  {
   "cell_type": "code",
   "execution_count": 434,
   "metadata": {},
   "outputs": [],
   "source": [
    "package_df = package_df[[\"ACCOUNT_NUM.hash\",\"Package_Formatted\",\"FREE_or_PAID\",\"is_Subscription\",\"TARIFF_DESC\",\"TARIFF_NAME\"]]"
   ]
  },
  {
   "cell_type": "code",
   "execution_count": 435,
   "metadata": {},
   "outputs": [],
   "source": [
    "package_df = package_df.groupby('ACCOUNT_NUM.hash', as_index=False).agg(list)"
   ]
  },
  {
   "cell_type": "code",
   "execution_count": 436,
   "metadata": {},
   "outputs": [],
   "source": [
    "for col in package_df.columns[1:]:\n",
    "    package_df[col] = package_df[col].apply(lambda x: clean_lists(x))"
   ]
  },
  {
   "cell_type": "code",
   "execution_count": 437,
   "metadata": {},
   "outputs": [],
   "source": [
    "def package_set(col):\n",
    "    for i in col:\n",
    "        if i == \"PAID\" or i== \"YES\":\n",
    "            return i\n",
    "    return col"
   ]
  },
  {
   "cell_type": "code",
   "execution_count": 438,
   "metadata": {},
   "outputs": [],
   "source": [
    "package_df[\"FREE_or_PAID\"] = package_df[\"FREE_or_PAID\"].apply(lambda x: package_set(x))\n",
    "package_df[\"is_Subscription\"] = package_df[\"is_Subscription\"].apply(lambda x: package_set(x))"
   ]
  },
  {
   "cell_type": "code",
   "execution_count": 439,
   "metadata": {},
   "outputs": [
    {
     "data": {
      "text/plain": [
       "94764"
      ]
     },
     "execution_count": 439,
     "metadata": {},
     "output_type": "execute_result"
    }
   ],
   "source": [
    "len(package_df[\"ACCOUNT_NUM.hash\"].unique())"
   ]
  },
  {
   "cell_type": "code",
   "execution_count": 440,
   "metadata": {},
   "outputs": [],
   "source": [
    "packages_reduced_df = package_df.merge(only_accs_df,how='left', on='ACCOUNT_NUM.hash')\n",
    "packages_reduced_df.drop_duplicates([\"acc_num_new\"],inplace=True)\n",
    "packages_reduced_df.drop([\"ACCOUNT_NUM.hash\"],axis=1,inplace=True)\n",
    "packages_reduced_df.rename(columns={\"acc_num_new\":\"ACCOUNT_NUM.hash\"},inplace=True)"
   ]
  },
  {
   "cell_type": "code",
   "execution_count": 441,
   "metadata": {},
   "outputs": [],
   "source": [
    "packages_reduced_df.reset_index(inplace=True)\n",
    "packages_reduced_df.drop(\"index\", axis=1, inplace= True)"
   ]
  },
  {
   "cell_type": "code",
   "execution_count": 442,
   "metadata": {},
   "outputs": [
    {
     "name": "stdout",
     "output_type": "stream",
     "text": [
      "<class 'pandas.core.frame.DataFrame'>\n",
      "RangeIndex: 42595 entries, 0 to 42594\n",
      "Data columns (total 6 columns):\n",
      " #   Column             Non-Null Count  Dtype \n",
      "---  ------             --------------  ----- \n",
      " 0   Package_Formatted  42595 non-null  object\n",
      " 1   FREE_or_PAID       42595 non-null  object\n",
      " 2   is_Subscription    42595 non-null  object\n",
      " 3   TARIFF_DESC        42595 non-null  object\n",
      " 4   TARIFF_NAME        42595 non-null  object\n",
      " 5   ACCOUNT_NUM.hash   42594 non-null  object\n",
      "dtypes: object(6)\n",
      "memory usage: 1.9+ MB\n"
     ]
    }
   ],
   "source": [
    "packages_reduced_df.info()"
   ]
  },
  {
   "cell_type": "code",
   "execution_count": 443,
   "metadata": {},
   "outputs": [],
   "source": [
    "usage_df = usage_df.merge(packages_reduced_df,how='left', on='ACCOUNT_NUM.hash')"
   ]
  },
  {
   "cell_type": "code",
   "execution_count": 444,
   "metadata": {},
   "outputs": [
    {
     "name": "stdout",
     "output_type": "stream",
     "text": [
      "<class 'pandas.core.frame.DataFrame'>\n",
      "Int64Index: 42594 entries, 0 to 42593\n",
      "Data columns (total 95 columns):\n",
      " #   Column                                    Non-Null Count  Dtype   \n",
      "---  ------                                    --------------  -----   \n",
      " 0   ACCOUNT_NUM.hash                          42594 non-null  object  \n",
      " 1   Voice_INCOMING_Categorical                42594 non-null  object  \n",
      " 2   Voice_INCOMING_Scaled                     42594 non-null  float64 \n",
      " 3   Voice_INCOMING_Outlier                    42594 non-null  object  \n",
      " 4   Location_Identifier                       39282 non-null  object  \n",
      " 5   Location_Node                             39282 non-null  object  \n",
      " 6   Package_Type_and_Medium                   39282 non-null  object  \n",
      " 7   Model                                     39282 non-null  object  \n",
      " 8   Service_Status                            39282 non-null  object  \n",
      " 9   Voice_OUTGOING_Categorical                41333 non-null  object  \n",
      " 10  Voice_OUTGOING_Scaled                     41333 non-null  float64 \n",
      " 11  Voice_OUTGOING_Outlier                    41333 non-null  object  \n",
      " 12  IDD_INCOMING_Categorical                  10723 non-null  object  \n",
      " 13  IDD_INCOMING_Scaled                       10723 non-null  float64 \n",
      " 14  IDD_INCOMING_Outlier                      10723 non-null  object  \n",
      " 15  IDD_incoming_country                      10723 non-null  object  \n",
      " 16  IDD_OUTGOING_Categorical                  5078 non-null   object  \n",
      " 17  IDD_OUTGOING_Scaled                       5078 non-null   float64 \n",
      " 18  IDD_OUTGOING_Outlier                      5078 non-null   object  \n",
      " 19  IDD_outgoing_country                      5078 non-null   object  \n",
      " 20  Peo_TV_Package                            19095 non-null  object  \n",
      " 21  PEO_TV_Categorical                        19095 non-null  object  \n",
      " 22  PEO_TV_Scaled                             19095 non-null  float64 \n",
      " 23  BB_Categorical                            30251 non-null  object  \n",
      " 24  BB_Scaled                                 33465 non-null  float64 \n",
      " 25  BB_Package                                14836 non-null  object  \n",
      " 26  GENDER                                    39884 non-null  object  \n",
      " 27  BIRTH_YEAR                                39884 non-null  float64 \n",
      " 28  AGE                                       39884 non-null  float64 \n",
      " 29  Voice_Overall_Categorical                 42594 non-null  object  \n",
      " 30  IDD_Overall_Categorical                   12507 non-null  object  \n",
      " 31  VOICE_Categorical                         11782 non-null  object  \n",
      " 32  Subscription                              12407 non-null  object  \n",
      " 33  Sub_Type                                  42594 non-null  object  \n",
      " 34  Sub_Usage                                 42594 non-null  object  \n",
      " 35  Sub_Type_State                            42594 non-null  object  \n",
      " 36  Megaline_Package                          42588 non-null  object  \n",
      " 37  Megaline_Month_Subscribed                 42588 non-null  object  \n",
      " 38  Megaline_Rental                           42588 non-null  float64 \n",
      " 39  Package_Type                              42594 non-null  object  \n",
      " 40  Megaline_Medium                           42588 non-null  object  \n",
      " 41  is_Promotion                              42590 non-null  object  \n",
      " 42  Megaline_Rental_Scaled                    42588 non-null  float64 \n",
      " 43  FTTH_Package                              6438 non-null   object  \n",
      " 44  FTTH_Month_Subscribed                     6438 non-null   object  \n",
      " 45  FTTH_Rental                               6438 non-null   float64 \n",
      " 46  FTTH_Medium                               6438 non-null   object  \n",
      " 47  FTTH_Rental_Scaled                        6438 non-null   float64 \n",
      " 48  LTE_Package                               33047 non-null  object  \n",
      " 49  LTE_Month_Subscribed                      33047 non-null  object  \n",
      " 50  LTE_Rental                                33047 non-null  float64 \n",
      " 51  LTE_Medium                                33047 non-null  object  \n",
      " 52  LTE_Rental_Scaled                         33047 non-null  float64 \n",
      " 53  VAS_Package                               16011 non-null  object  \n",
      " 54  VAS_Month_Subscribed                      16011 non-null  object  \n",
      " 55  VAS_Rental                                16011 non-null  float64 \n",
      " 56  Product_Type                              16011 non-null  object  \n",
      " 57  VAS_Medium                                16011 non-null  object  \n",
      " 58  VAS_Rental_Scaled                         16011 non-null  float64 \n",
      " 59  Sub_Update_Date                           12342 non-null  object  \n",
      " 60  Sub_Update_Status                         12344 non-null  object  \n",
      " 61  Sub_Update                                12344 non-null  object  \n",
      " 62  BB_Extra_GB_Rental                        14836 non-null  float64 \n",
      " 63  BB_Extra_GB_Amount                        14836 non-null  float64 \n",
      " 64  BB_Extra_GB_Hour_Subscribed               14836 non-null  object  \n",
      " 65  BB_Extra_GB_Usage_Times                   14836 non-null  float64 \n",
      " 66  BB_Extra_GB_Month_vs_Rental               14836 non-null  object  \n",
      " 67  BB_Extra_GB_Purchased_Scaled              14836 non-null  float64 \n",
      " 68  BB_Extra_GB_Purchase_Categorical          14836 non-null  category\n",
      " 69  BB_Extra_GB_Subscribed_Night              14836 non-null  float64 \n",
      " 70  BB_Extra_GB_Subscribed_Day                14836 non-null  float64 \n",
      " 71  BB_Extra_GB_Rental_Scaled                 14836 non-null  float64 \n",
      " 72  Peo_Extra_Channels_Cumulative_Rental      822 non-null    float64 \n",
      " 73  Peo_Extra_Channels_Month_vs_Rental        822 non-null    object  \n",
      " 74  Peo_Extra_Channels_Purchased_Scaled       822 non-null    float64 \n",
      " 75  Peo_Extra_Channels_Purchased_Categorical  822 non-null    category\n",
      " 76  Bill_Balance_Froward                      42590 non-null  float64 \n",
      " 77  Bill_Net_Invoice                          42590 non-null  float64 \n",
      " 78  Bill_Tax_Invoice                          42590 non-null  float64 \n",
      " 79  Bill_Outstanding_Balance                  42590 non-null  float64 \n",
      " 80  Bill_Amount_Paid                          42590 non-null  float64 \n",
      " 81  Bill_Faild_to_Pay                         42590 non-null  float64 \n",
      " 82  Bill_Adjustment_Paid                      42590 non-null  float64 \n",
      " 83  Bill_Refunds_Paid                         42590 non-null  float64 \n",
      " 84  Bill_Payment_Due_Date                     42590 non-null  object  \n",
      " 85  Bill_Bill_Settled_Date                    37505 non-null  object  \n",
      " 86  Bill_Actual_Bill_Date                     42590 non-null  object  \n",
      " 87  Bill_Billing_Status                       42590 non-null  object  \n",
      " 88  Payment_Status                            42263 non-null  object  \n",
      " 89  Payments_Month_vs_Amount_Paid             42263 non-null  object  \n",
      " 90  Package_Formatted                         42594 non-null  object  \n",
      " 91  FREE_or_PAID                              42594 non-null  object  \n",
      " 92  is_Subscription                           42594 non-null  object  \n",
      " 93  TARIFF_DESC                               42594 non-null  object  \n",
      " 94  TARIFF_NAME                               42594 non-null  object  \n",
      "dtypes: category(2), float64(33), object(60)\n",
      "memory usage: 30.6+ MB\n"
     ]
    }
   ],
   "source": [
    "usage_df.info()"
   ]
  },
  {
   "cell_type": "markdown",
   "metadata": {},
   "source": [
    "# Deriving Contextual Features"
   ]
  },
  {
   "cell_type": "markdown",
   "metadata": {},
   "source": [
    "## Socio-Economic features"
   ]
  },
  {
   "cell_type": "markdown",
   "metadata": {},
   "source": [
    "### Having an Insurance?"
   ]
  },
  {
   "cell_type": "code",
   "execution_count": 445,
   "metadata": {},
   "outputs": [],
   "source": [
    "def having_insurance(vas):\n",
    "    insurrence_VAS = [\"Telehealth\",\"Basic4 TeleLife\",\"Plus4 TeleLife\",\"Plus1 TeleLife\",\"Basic1 TeleLife\",\"Basic2 TeleLife\"]\n",
    "    if not isinstance(vas,float):\n",
    "        for s in insurrence_VAS:\n",
    "            if s in vas:\n",
    "                return \"YES\""
   ]
  },
  {
   "cell_type": "code",
   "execution_count": 446,
   "metadata": {},
   "outputs": [],
   "source": [
    "usage_df[\"Having_Insurance\"] = usage_df.apply(lambda x: having_insurance(x[\"Package_Formatted\"]), axis=1)"
   ]
  },
  {
   "cell_type": "markdown",
   "metadata": {},
   "source": [
    "### Household types\n",
    "- Senior Citizen\n",
    "  - Age > 55 years (demographics)\n",
    "  - Peo_TV_Usage - High, Packages: PEO_RELIGIOUS_PACKAGE, PRANAMA\n",
    "  - Voice call usage - high (in country, europian country, australia,US, canada)\n",
    "  - Having Insurance: YES\n",
    "- Kids at Home\n",
    "  - Age > 30 years (assuming parents)\n",
    "  - Peo TV Usage - High, packages: PEO_FAMILY, DOUBLEPROMO, PEO_TITANIUM, PEO_GOLD\n",
    "  - Peo TV VAS: PeoTVGo_Channel Package (Extra Channels purchase)\n",
    "  - BB Usage: Medium/ High\n",
    "  - VAS - Sisu_Connect, Edu Lite\n",
    "- Student (High school/University), Teenagers\n",
    "  - Age < 27 (demographics)\n",
    "  - Peo TV Usage - Medium/High packages: PEO_SILVER_PLUS, PEO_SILVER_PLUS_FTTH, PEO_ENTERTAINMENT, PEO_TITANIUM, DOUBLEPROMO, LEISURE_SPORTS\n",
    "  - BB Usage - High **\n",
    "  - Extra GB Purchase (High)\n",
    "  - VAS - Meet Lite, Meet Max \n",
    "  - Peo TV VAS: E_Video_on_Demand\n",
    "  - BB_VAS:  BB_YouTube Bundle, BB_ Entertainment Unlimited,  BB_Messenger Bundle\n",
    "- Working Professional\n",
    "  - Age > 22, < 55 (demographics)\n",
    "  - Peo TV Usage - Medium/High packages: PEO_SILVER_PLUS, PEO_SILVER_PLUS_FTTH, PEO_FAMILY, SLT_STAFF_PEO_UNNATHAM_FTTH, SLT_STAFF_TRIPLE_PLAY, NEW_SLT_STAFF_PACKAGE, BOC\n",
    "  - BB Usage - High **\n",
    "  - Extra GB Purchase (all)\n",
    "  - VAS - Meet Lite, Meet Max, AB_Service Vacation, AB_Referral offer Discount, AB_Citylink Loyalty Rewards\n",
    "- Family Member Abroad\n",
    "  - IDD Usage : High\n",
    "  - IDD Calling Country : Europe/ UAE/ Australia/ Canada/ South and east Asia **\n",
    "- Race: Tamil\n",
    "   - Peo TV Usage - PEO_UNNATHAM, PEO_UTHAYAM, SLT_STAFF_PEO_UNNATHAM_FTTH\n",
    "- Abroad person: country/ countries"
   ]
  },
  {
   "cell_type": "markdown",
   "metadata": {},
   "source": [
    "## Adding Socio Feature Cols"
   ]
  },
  {
   "cell_type": "code",
   "execution_count": 447,
   "metadata": {},
   "outputs": [],
   "source": [
    "def make_categorical(val):\n",
    "    if val>=0.5:\n",
    "        return \"YES\""
   ]
  },
  {
   "cell_type": "markdown",
   "metadata": {},
   "source": [
    "#### Having a Senior Citizen"
   ]
  },
  {
   "cell_type": "code",
   "execution_count": 448,
   "metadata": {},
   "outputs": [],
   "source": [
    "def senior_citizen(age, peo_tv_cat, peo_tv_package, voice_call_cat, having_insurrance):\n",
    "    prob = 0.0\n",
    "    peo_packages = [ \"PEO_RELIGIOUS_PACKAGE\", \"PRANAMA\"]\n",
    "    if age>= 55:\n",
    "        prob += 0.3\n",
    "    if peo_tv_cat == \"HIGH\":\n",
    "        if not isinstance(peo_tv_package, float):\n",
    "            for vas in peo_packages:\n",
    "                if vas in peo_tv_package:\n",
    "                    prob += 0.2\n",
    "    if voice_call_cat == \"MEDIUM\":\n",
    "        prob += 0.1\n",
    "    if voice_call_cat == \"HIGH\":\n",
    "        prob += 0.2\n",
    "    if having_insurrance == \"YES\":\n",
    "        prob += 0.5\n",
    "    return prob"
   ]
  },
  {
   "cell_type": "code",
   "execution_count": 449,
   "metadata": {},
   "outputs": [
    {
     "data": {
      "text/plain": [
       "0.6"
      ]
     },
     "execution_count": 449,
     "metadata": {},
     "output_type": "execute_result"
    }
   ],
   "source": [
    "# test\n",
    "senior_citizen(56,\"HIGH\",[\"PEO_RELIGIOUS_PACKAGE\"],\"MEDIUM\",None)"
   ]
  },
  {
   "cell_type": "code",
   "execution_count": 450,
   "metadata": {},
   "outputs": [],
   "source": [
    "usage_df[\"Having_Senior_Citizen_Scaled\"] = usage_df.apply(lambda x: senior_citizen(x[\"AGE\"],x[\"PEO_TV_Categorical\"],x[\"Peo_TV_Package\"],x[\"VOICE_Categorical\"],x[\"Having_Insurance\"]), axis=1)"
   ]
  },
  {
   "cell_type": "code",
   "execution_count": 451,
   "metadata": {},
   "outputs": [],
   "source": [
    "usage_df[\"Having_Senior_Citizen\"] = usage_df.apply(lambda x: make_categorical(x[\"Having_Senior_Citizen_Scaled\"]), axis=1)"
   ]
  },
  {
   "cell_type": "code",
   "execution_count": null,
   "metadata": {},
   "outputs": [],
   "source": []
  },
  {
   "cell_type": "markdown",
   "metadata": {},
   "source": [
    "#### Having Kids at Home"
   ]
  },
  {
   "cell_type": "code",
   "execution_count": 452,
   "metadata": {},
   "outputs": [],
   "source": [
    "def kids_at_home(age, peo_tv_cat, peo_tv_package,bb_usage,vas):\n",
    "    prob = 0.0\n",
    "    peo_packages = [\"PEO_FAMILY\", \"DOUBLEPROMO\", \"PEO_TITANIUM\", \"PEO_GOLD\",\"PEO_FAMILY\"]\n",
    "    peo_vas = [\"PeoTVGo Channel Package\"]\n",
    "    all_vas = [\"Sisu Connect\", \"Edu Lite\"]\n",
    "    if age>= 30:\n",
    "        prob += 0.2\n",
    "    if peo_tv_cat == \"HIGH\":\n",
    "        prob += 0.25\n",
    "        if not isinstance(peo_tv_package, float):\n",
    "            for pack in peo_packages:\n",
    "                if pack in peo_tv_package:\n",
    "                    prob += 0.2\n",
    "        if not isinstance(vas, float):\n",
    "            for pack in peo_vas:\n",
    "                if pack in vas:\n",
    "                    prob += 0.2\n",
    "    if not isinstance(vas, float):\n",
    "        for pack in all_vas:\n",
    "            if pack in vas:\n",
    "                prob += 0.5\n",
    "    if bb_usage == \"MEDIUM\" or bb_usage == \"HIGH\":\n",
    "        prob += 0.1\n",
    "    return prob"
   ]
  },
  {
   "cell_type": "code",
   "execution_count": 453,
   "metadata": {},
   "outputs": [],
   "source": [
    "usage_df[\"Having_Kids_at_Home_Scaled\"] = usage_df.apply(lambda x: kids_at_home(x[\"AGE\"],x[\"PEO_TV_Categorical\"],x[\"Peo_TV_Package\"],x[\"BB_Categorical\"],x[\"Package_Formatted\"]), axis=1)"
   ]
  },
  {
   "cell_type": "code",
   "execution_count": 454,
   "metadata": {},
   "outputs": [],
   "source": [
    "usage_df[\"Having_Kids_at_Home\"] = usage_df.apply(lambda x: make_categorical(x[\"Having_Kids_at_Home_Scaled\"]), axis=1)"
   ]
  },
  {
   "cell_type": "code",
   "execution_count": null,
   "metadata": {},
   "outputs": [],
   "source": []
  },
  {
   "cell_type": "markdown",
   "metadata": {},
   "source": [
    "#### Home Business/ SMEs"
   ]
  },
  {
   "cell_type": "code",
   "execution_count": 455,
   "metadata": {},
   "outputs": [],
   "source": [
    "def smes(bb_cat,bb_package, extra_gb_cat, vas):\n",
    "    prob = 0.0\n",
    "    bb_packages=[\"4G Biz Pal\",\"Any Glam\",\"Any Storm\",\"Any Spike\",\"z Sales End_Office\",\"Web Life\",\n",
    "                 \"Web Inspire\",\"Any Xtreme\",\"Web Pro\",\"Web Champ\",\"Web Master\"]\n",
    "    all_vas = [\"BB YouTube Bundle\",'Meet Max',\"BB Personal Storage\"]\n",
    "    if bb_cat == \"MEDIUM\":\n",
    "        prob += 0.1\n",
    "    if bb_cat == \"HIGH\":\n",
    "        prob += 0.3\n",
    "    if bb_cat == \"HIGH\":\n",
    "        if not isinstance(bb_package, float):\n",
    "            for pack in bb_packages:\n",
    "                if pack in bb_package:\n",
    "                    prob += 0.2\n",
    "    if not isinstance(vas, float):\n",
    "        for pack in all_vas:\n",
    "            if pack in vas:\n",
    "                prob += 0.2\n",
    "    if extra_gb_cat == \"LOW\":\n",
    "        prob +=0.1\n",
    "    if extra_gb_cat == \"MEDIUM\" or extra_gb_cat == \"HIGH\":\n",
    "        prob += 0.3\n",
    "    return prob"
   ]
  },
  {
   "cell_type": "code",
   "execution_count": 456,
   "metadata": {},
   "outputs": [],
   "source": [
    "usage_df[\"SMEs_Scaled\"] = usage_df.apply(lambda x: smes(x[\"BB_Categorical\"],x[\"BB_Package\"],x[\"BB_Extra_GB_Purchase_Categorical\"],x[\"Package_Formatted\"]), axis=1)"
   ]
  },
  {
   "cell_type": "code",
   "execution_count": 457,
   "metadata": {},
   "outputs": [],
   "source": [
    "usage_df[\"SMEs\"] = usage_df.apply(lambda x: make_categorical(x[\"SMEs_Scaled\"]), axis=1)"
   ]
  },
  {
   "cell_type": "code",
   "execution_count": null,
   "metadata": {},
   "outputs": [],
   "source": []
  },
  {
   "cell_type": "markdown",
   "metadata": {},
   "source": [
    "#### Teenagers and Students (age 16-26)"
   ]
  },
  {
   "cell_type": "code",
   "execution_count": 458,
   "metadata": {},
   "outputs": [],
   "source": [
    "def teenage_students(age, peo_tv_cat, peo_tv_package,bb_cat, bb_package, extra_gb_cat, vas):\n",
    "    prob = 0.0\n",
    "    peo_packages = [ \"PEO_TITANIUM\", \"LEISURE_SPORTS\",\"PEO_ENTERTAINMENT\"]\n",
    "    bb_packages=[\"Student Package 1\",\"Student Package 2\",\"Any Flix\",\"BB_Netflix Unlimited\",\"Web Booster\",\"Any Tide\"]\n",
    "    peo_vas = [\"Video on Demand\"]\n",
    "    bb_vas = [\"BB YouTube Bundle\", \"BB Entertainment Unlimited\", \"BB Messenger Bundle\"]\n",
    "    all_vas = ['Meet Lite', 'Meet Max']\n",
    "    if age<= 26:\n",
    "        prob += 0.3\n",
    "    if peo_tv_cat == \"MEDIUM\":\n",
    "        prob += 0.1\n",
    "    if peo_tv_cat == \"HIGH\":\n",
    "        prob += 0.2\n",
    "    if peo_tv_cat == \"MEDIUM\" or peo_tv_cat == \"HIGH\":\n",
    "        if not isinstance(peo_tv_package, float):\n",
    "            for pack in peo_packages:\n",
    "                if pack in peo_tv_package:\n",
    "                    prob += 0.2\n",
    "        if not isinstance(vas, float):\n",
    "            for pack in peo_vas:\n",
    "                if pack in vas:\n",
    "                    prob += 0.2\n",
    "    if bb_cat == \"MEDIUM\":\n",
    "        prob += 0.1\n",
    "    if bb_cat == \"HIGH\":\n",
    "        prob += 0.3\n",
    "    if bb_cat == \"HIGH\" or bb_cat == \"MEDIUM\":\n",
    "        if not isinstance(vas, float):\n",
    "            for pack in bb_vas:\n",
    "                if pack in vas:\n",
    "                    prob += 0.2\n",
    "        if not isinstance(bb_package, float):\n",
    "            for pack in bb_packages:\n",
    "                if pack in bb_package:\n",
    "                    prob += 0.2\n",
    "    if not isinstance(vas, float):\n",
    "        for pack in all_vas:\n",
    "            if pack in vas:\n",
    "                prob += 0.2\n",
    "    if extra_gb_cat == \"LOW\":\n",
    "        prob +=0.1\n",
    "    if extra_gb_cat == \"MEDIUM\" or extra_gb_cat == \"HIGH\":\n",
    "        prob += 0.3\n",
    "    return prob"
   ]
  },
  {
   "cell_type": "code",
   "execution_count": 459,
   "metadata": {},
   "outputs": [],
   "source": [
    "usage_df[\"Having_Teenagers_Students_Scaled\"] = usage_df.apply(lambda x: teenage_students(x[\"AGE\"],x[\"PEO_TV_Categorical\"],x[\"Peo_TV_Package\"],x[\"BB_Categorical\"],x[\"BB_Package\"],x[\"BB_Extra_GB_Purchase_Categorical\"],x[\"Package_Formatted\"]), axis=1)"
   ]
  },
  {
   "cell_type": "code",
   "execution_count": 460,
   "metadata": {},
   "outputs": [],
   "source": [
    "usage_df[\"Having_Teenagers_Students\"] = usage_df.apply(lambda x: make_categorical(x[\"Having_Teenagers_Students_Scaled\"]), axis=1)"
   ]
  },
  {
   "cell_type": "code",
   "execution_count": null,
   "metadata": {},
   "outputs": [],
   "source": []
  },
  {
   "cell_type": "markdown",
   "metadata": {},
   "source": [
    "### Working Professionals"
   ]
  },
  {
   "cell_type": "code",
   "execution_count": 461,
   "metadata": {},
   "outputs": [],
   "source": [
    "def working_professionals(age, peo_tv_cat, peo_tv_package, bb_cat, bb_package, extra_gb_cat, vas):\n",
    "    prob = 0.0\n",
    "    peo_packages = [\"PEO_SILVER_PLUS\", \"PEO_FAMILY\",\"PEO_SILVER_PLUS_FTTH\", \"SLT_STAFF_PEO_UNNATHAM_FTTH\", \"SLT_STAFF_TRIPLE_PLAY\",\"NEW_SLT_STAFF_PACKAGE\",\"BOC\"]\n",
    "    bb_packages= [\"z Sales End_SLT Staff Home\",\"Abhimaana\",\"SLT Staff Web Family Plus\",\"z Sales End_SLT Staff Home\", 'Web Family Xtra']\n",
    "    bb_vas = [\"BB Personal Storage\"]\n",
    "    all_vas = ['Meet Lite', 'Meet Max','AB Referral offer Discount', 'AB Service Vacation','AB Citylink Loyalty Rewards']\n",
    "    if age> 21 and age<56:\n",
    "        prob += 0.2\n",
    "    if peo_tv_cat == \"MEDIUM\":\n",
    "        prob += 0.1\n",
    "    if peo_tv_cat == \"HIGH\":\n",
    "        prob += 0.1\n",
    "    if peo_tv_cat == \"MEDIUM\" or peo_tv_cat == \"HIGH\":\n",
    "        if not isinstance(peo_tv_package, float):\n",
    "            for pack in peo_packages:\n",
    "                if pack in peo_tv_package:\n",
    "                    prob += 0.2\n",
    "    if bb_cat == \"MEDIUM\":\n",
    "        prob += 0.1\n",
    "    if bb_cat == \"HIGH\":\n",
    "        prob += 0.3\n",
    "    if bb_cat == \"HIGH\" or bb_cat == \"MEDIUM\":\n",
    "        if not isinstance(vas, float):\n",
    "            for pack in bb_vas:\n",
    "                if pack in vas:\n",
    "                    prob += 0.2\n",
    "        if not isinstance(bb_package, float):\n",
    "            for pack in bb_packages:\n",
    "                if pack in bb_package:\n",
    "                    prob += 0.2\n",
    "    if not isinstance(vas, float):\n",
    "        for pack in all_vas:\n",
    "            if pack in vas:\n",
    "                prob += 0.25\n",
    "    if extra_gb_cat == \"LOW\":\n",
    "        prob +=0.1\n",
    "    if extra_gb_cat == \"MEDIUM\" or extra_gb_cat == \"HIGH\":\n",
    "        prob += 0.3\n",
    "    return prob"
   ]
  },
  {
   "cell_type": "code",
   "execution_count": 462,
   "metadata": {},
   "outputs": [],
   "source": [
    "usage_df[\"Having_Working_Professionals_Scaled\"] = usage_df.apply(lambda x: working_professionals(x[\"AGE\"],x[\"PEO_TV_Categorical\"],x[\"Peo_TV_Package\"],x[\"BB_Categorical\"],x[\"BB_Package\"],x[\"BB_Extra_GB_Purchase_Categorical\"],x[\"Package_Formatted\"]), axis=1)"
   ]
  },
  {
   "cell_type": "code",
   "execution_count": 463,
   "metadata": {},
   "outputs": [],
   "source": [
    "usage_df[\"Having_Working_Professionals\"] = usage_df.apply(lambda x: make_categorical(x[\"Having_Working_Professionals_Scaled\"]), axis=1)"
   ]
  },
  {
   "cell_type": "code",
   "execution_count": null,
   "metadata": {},
   "outputs": [],
   "source": []
  },
  {
   "cell_type": "markdown",
   "metadata": {},
   "source": [
    "### Family Member Abroad"
   ]
  },
  {
   "cell_type": "code",
   "execution_count": 464,
   "metadata": {},
   "outputs": [],
   "source": [
    "def family_member_abroad(idd_cat, incoming_country, outgoing_country):\n",
    "    prob = 0.0\n",
    "    countries = [\"United Arab Emirates\", \"Australia - Mobile\",\"UK - Mobile\", \"New Zealand\", \"Hong Kong\",\"Maldive Islands\",\"Singapore\",\n",
    "                 \"India\",\"Saudi Arabia - Mobile\",\"Australia\",\"China - Mobile\",\"Maldive Islands\",\n",
    "                 \"Israel - Mobile\",\"Jordan - Mobile\",\"U.K.\",\"U.S.A\",\"France\",\"Italy - Mobile\",\"Malaysia - Mobile\",\"Bangladesh - Mobile\"\n",
    "                ,\"Germany\",\"Philippines - Mobile\",\"Italy\",\"Israel\",\"Saudi Arabia\",\"Pakistan - Mobile\",\"Pakistan\",\"Japan\",\"Kuwait -Mobile\"\n",
    "                ,\"Oman-Mobile \",\"France - Mobile\",\"Canada\",\"Japan - Mobile\",\"United Arab Emirates  - Mobile\",\"Bahrain - Mobile\",\"Bahrain\"\n",
    "                ,\"Cyprus - Mobile\",\"Cyprus\",\"Barbados\",\"Korea Republic Of\",\"Switzerland - Mobile\",\"Indonesia - Mobile\",\"Qatar - Mobile\"\n",
    "                ,\"Qatar\",\"Romania\",\"Germany - Mobile\",\"Belgium\",\"Netherlands\"]\n",
    "    if idd_cat == \"LOW\":\n",
    "        prob += 0.1\n",
    "    if idd_cat == \"MEDIUM\":\n",
    "        prob += 0.3\n",
    "    if idd_cat == \"HIGH\":\n",
    "        prob += 0.5\n",
    "    if not isinstance(idd_cat, float):\n",
    "        for country in countries:\n",
    "            if not isinstance(incoming_country, float) and country in incoming_country:\n",
    "                prob += 0.25\n",
    "            elif not isinstance(outgoing_country, float) and country in outgoing_country:\n",
    "                prob += 0.25\n",
    "    return prob"
   ]
  },
  {
   "cell_type": "code",
   "execution_count": 465,
   "metadata": {},
   "outputs": [],
   "source": [
    "usage_df[\"Having_Family_Member_Abroad_Scaled\"] = usage_df.apply(lambda x: family_member_abroad(x[\"IDD_Overall_Categorical\"],x[\"IDD_incoming_country\"],x[\"IDD_outgoing_country\"]), axis=1)"
   ]
  },
  {
   "cell_type": "code",
   "execution_count": 466,
   "metadata": {},
   "outputs": [],
   "source": [
    "usage_df[\"Having_Family_Member_Abroad\"] = usage_df.apply(lambda x: make_categorical(x[\"Having_Family_Member_Abroad_Scaled\"]), axis=1)"
   ]
  },
  {
   "cell_type": "markdown",
   "metadata": {},
   "source": [
    "### Race: Tamil"
   ]
  },
  {
   "cell_type": "code",
   "execution_count": 467,
   "metadata": {},
   "outputs": [],
   "source": [
    "def tamil_check(peo_cat, peo_package):\n",
    "    packages = [\"PEO_UNNATHAM\", \"PEO_UTHAYAM\", \"SLT_STAFF_PEO_UNNATHAM_FTTH\"]\n",
    "    if not isinstance(peo_cat, float):\n",
    "        for pack in packages:\n",
    "            if not isinstance(peo_package, float) and pack in peo_package:\n",
    "                return \"YES\""
   ]
  },
  {
   "cell_type": "code",
   "execution_count": 468,
   "metadata": {},
   "outputs": [],
   "source": [
    "usage_df[\"Tamil_Customer\"] = usage_df.apply(lambda x: tamil_check(x[\"PEO_TV_Categorical\"],x[\"Peo_TV_Package\"]), axis=1)"
   ]
  },
  {
   "cell_type": "code",
   "execution_count": null,
   "metadata": {},
   "outputs": [],
   "source": []
  },
  {
   "cell_type": "markdown",
   "metadata": {},
   "source": [
    "## Adding Social feature derivable assumption cols"
   ]
  },
  {
   "cell_type": "code",
   "execution_count": 469,
   "metadata": {},
   "outputs": [],
   "source": [
    "def senior_citizen_peo_packages(peo_tv_cat,peo_tv_package):\n",
    "    prob = 0.0\n",
    "    peo_packages = [\"PEO_RELIGIOUS_PACKAGE\", \"PRANAMA\"]\n",
    "    if peo_tv_cat == \"HIGH\":\n",
    "        if not isinstance(peo_tv_package, float):\n",
    "            for vas in peo_packages:\n",
    "                if vas in peo_tv_package:\n",
    "                    prob += 0.2\n",
    "    return prob"
   ]
  },
  {
   "cell_type": "code",
   "execution_count": 470,
   "metadata": {},
   "outputs": [],
   "source": [
    "usage_df[\"Peo_Packages_if_Senior_Citizen\"] = usage_df.apply(lambda x: senior_citizen_peo_packages(x[\"PEO_TV_Categorical\"],x[\"Peo_TV_Package\"]), axis=1)"
   ]
  },
  {
   "cell_type": "code",
   "execution_count": 471,
   "metadata": {},
   "outputs": [],
   "source": [
    "def kids_peo_packages(peo_tv_cat,peo_tv_package):\n",
    "    prob = 0.0\n",
    "    peo_packages =  [\"PEO_FAMILY\", \"DOUBLEPROMO\", \"PEO_TITANIUM\", \"PEO_GOLD\",\"PEO_FAMILY\"]\n",
    "    if peo_tv_cat == \"HIGH\":\n",
    "        if not isinstance(peo_tv_package, float):\n",
    "            for vas in peo_packages:\n",
    "                if vas in peo_tv_package:\n",
    "                    prob += 0.2\n",
    "    return prob"
   ]
  },
  {
   "cell_type": "code",
   "execution_count": 472,
   "metadata": {},
   "outputs": [],
   "source": [
    "usage_df[\"Peo_Packages_if_Kids\"] = usage_df.apply(lambda x: kids_peo_packages(x[\"PEO_TV_Categorical\"],x[\"Peo_TV_Package\"]), axis=1)"
   ]
  },
  {
   "cell_type": "code",
   "execution_count": 473,
   "metadata": {},
   "outputs": [],
   "source": [
    "def teenager_student_peo_packages(peo_tv_cat,peo_tv_package):\n",
    "    prob = 0.0\n",
    "    peo_packages = [\"DOUBLEPROMO\", \"PEO_TITANIUM\", \"LEISURE_SPORTS\",\"PEO_ENTERTAINMENT\"]\n",
    "    if peo_tv_cat == \"MEDIUM\" or peo_tv_cat == \"HIGH\":\n",
    "        if not isinstance(peo_tv_package, float):\n",
    "            for vas in peo_packages:\n",
    "                if vas in peo_tv_package:\n",
    "                    prob += 0.2\n",
    "    return prob"
   ]
  },
  {
   "cell_type": "code",
   "execution_count": 474,
   "metadata": {},
   "outputs": [],
   "source": [
    "usage_df[\"Peo_Packages_if_Teenager_Students\"] = usage_df.apply(lambda x: teenager_student_peo_packages(x[\"PEO_TV_Categorical\"],x[\"Peo_TV_Package\"]), axis=1)"
   ]
  },
  {
   "cell_type": "code",
   "execution_count": 475,
   "metadata": {},
   "outputs": [],
   "source": [
    "def working_professional_peo_packages(peo_tv_cat,peo_tv_package):\n",
    "    prob = 0.0\n",
    "    peo_packages = [\"PEO_SILVER_PLUS\", \"PEO_FAMILY\",\"PEO_SILVER_PLUS_FTTH\", \"SLT_STAFF_PEO_UNNATHAM_FTTH\", \"SLT_STAFF_TRIPLE_PLAY\",\"NEW_SLT_STAFF_PACKAGE\",\"BOC\"]\n",
    "    if peo_tv_cat == \"MEDIUM\" or peo_tv_cat == \"HIGH\":\n",
    "        if not isinstance(peo_tv_package, float):\n",
    "            for vas in peo_packages:\n",
    "                if vas in peo_tv_package:\n",
    "                    prob += 0.2\n",
    "    return prob"
   ]
  },
  {
   "cell_type": "code",
   "execution_count": 476,
   "metadata": {},
   "outputs": [],
   "source": [
    "usage_df[\"Peo_Package_if_Working_Professionals\"] = usage_df.apply(lambda x: working_professional_peo_packages(x[\"PEO_TV_Categorical\"],x[\"Peo_TV_Package\"]), axis=1)"
   ]
  },
  {
   "cell_type": "code",
   "execution_count": null,
   "metadata": {},
   "outputs": [],
   "source": []
  },
  {
   "cell_type": "code",
   "execution_count": 477,
   "metadata": {},
   "outputs": [],
   "source": [
    "def working_professional_bb_packages(bb_cat,bb_package):\n",
    "    prob = 0.0\n",
    "    bb_packages= [\"z Sales End_SLT Staff Home\",\"Abhimaana\",\"SLT Staff Web Family Plus\",\"z Sales End_SLT Staff Home\", 'Web Family Xtra']\n",
    "    if bb_cat == \"MEDIUM\" or bb_cat == \"HIGH\":\n",
    "        if not isinstance(bb_package, float):\n",
    "            for vas in bb_packages:\n",
    "                if vas in bb_package:\n",
    "                    prob += 0.2\n",
    "    return prob"
   ]
  },
  {
   "cell_type": "code",
   "execution_count": 478,
   "metadata": {},
   "outputs": [],
   "source": [
    "usage_df[\"BB_Package_if_Working_Professionals\"] = usage_df.apply(lambda x: working_professional_bb_packages(x[\"BB_Categorical\"],x[\"BB_Package\"]), axis=1)"
   ]
  },
  {
   "cell_type": "code",
   "execution_count": 479,
   "metadata": {},
   "outputs": [],
   "source": [
    "def teenager_student_bb_packages(bb_cat,bb_package):\n",
    "    prob = 0.0\n",
    "    bb_packages=[\"Student Package 1\",\"Student Package 2\",\"Any Flix\",\"BB_Netflix Unlimited\",\"Web Booster\",\"Any Tide\"]\n",
    "    if bb_cat == \"MEDIUM\" or bb_cat == \"HIGH\":\n",
    "        if not isinstance(bb_package, float):\n",
    "            for vas in bb_packages:\n",
    "                if vas in bb_package:\n",
    "                    prob += 0.2\n",
    "    return prob"
   ]
  },
  {
   "cell_type": "code",
   "execution_count": 480,
   "metadata": {},
   "outputs": [],
   "source": [
    "usage_df[\"BB_Packages_if_Teenager_Students\"] = usage_df.apply(lambda x: teenager_student_bb_packages(x[\"BB_Categorical\"],x[\"BB_Package\"]), axis=1)"
   ]
  },
  {
   "cell_type": "code",
   "execution_count": 481,
   "metadata": {},
   "outputs": [],
   "source": [
    "def sme_bb_packages(bb_cat,bb_package):\n",
    "    prob = 0.0\n",
    "    bb_packages=[\"4G Biz Pal\",\"Any Glam\",\"Any Storm\",\"Any Spike\",\"z Sales End_Office\",\"Web Life\",\n",
    "                 \"Web Inspire\",\"Any Xtreme\",\"Web Pro\",\"Web Champ\",\"Web Master\"]\n",
    "    if bb_cat == \"HIGH\":\n",
    "        if not isinstance(bb_package, float):\n",
    "            for vas in bb_packages:\n",
    "                if vas in bb_package:\n",
    "                    prob += 0.2\n",
    "    return prob"
   ]
  },
  {
   "cell_type": "code",
   "execution_count": 482,
   "metadata": {},
   "outputs": [],
   "source": [
    "usage_df[\"BB_Packages_if_SMEss\"] = usage_df.apply(lambda x: sme_bb_packages(x[\"BB_Categorical\"],x[\"BB_Package\"]), axis=1)"
   ]
  },
  {
   "cell_type": "code",
   "execution_count": null,
   "metadata": {},
   "outputs": [],
   "source": []
  },
  {
   "cell_type": "code",
   "execution_count": 483,
   "metadata": {},
   "outputs": [],
   "source": [
    "def kids_vas_packages(peo_cat,vas):\n",
    "    prob = 0.0\n",
    "    peo_vas = [\"PeoTVGo Channel Package\"]\n",
    "    vas_packages = [\"Sisu Connect\", \"Edu Lite\"]\n",
    "    if peo_cat == \"HIGH\":\n",
    "        if not isinstance(vas, float):\n",
    "            for s in peo_vas:\n",
    "                if s in vas:\n",
    "                    prob += 0.2\n",
    "    if not isinstance(vas, float):\n",
    "        for s in vas_packages:\n",
    "            if s in vas:\n",
    "                prob += 0.5\n",
    "    return prob"
   ]
  },
  {
   "cell_type": "code",
   "execution_count": 484,
   "metadata": {},
   "outputs": [],
   "source": [
    "usage_df[\"VAS_if_Kids\"] = usage_df.apply(lambda x: kids_vas_packages(x[\"PEO_TV_Categorical\"],x[\"VAS_Package\"]), axis=1)"
   ]
  },
  {
   "cell_type": "code",
   "execution_count": 485,
   "metadata": {},
   "outputs": [],
   "source": [
    "def teenager_student_vas_packages(peo_cat,bb_cat,vas):\n",
    "    prob = 0.0\n",
    "    peo_vas = [\"Video on Demand\"]\n",
    "    bb_vas = [\"BB YouTube Bundle\", \"BB Entertainment Unlimited\", \"BB Messenger Bundle\"]\n",
    "    vas_packages = ['Meet Lite', 'Meet Max']\n",
    "    if peo_cat == \"MEDIUM\" or peo_cat == \"HIGH\":\n",
    "        if not isinstance(vas, float):\n",
    "            for v in peo_vas:\n",
    "                if v in vas:\n",
    "                    prob += 0.2\n",
    "    if bb_cat == \"MEDIUM\" or bb_cat == \"HIGH\":\n",
    "        if not isinstance(vas, float):\n",
    "            for v in bb_vas:\n",
    "                if v in vas:\n",
    "                    prob += 0.2\n",
    "    if not isinstance(vas, float):\n",
    "        for v in vas_packages:\n",
    "            if v in vas:\n",
    "                prob += 0.3\n",
    "    return prob"
   ]
  },
  {
   "cell_type": "code",
   "execution_count": 486,
   "metadata": {},
   "outputs": [],
   "source": [
    "usage_df[\"VAS_if_Teenager_Students\"] = usage_df.apply(lambda x: teenager_student_vas_packages(x[\"PEO_TV_Categorical\"],x[\"BB_Categorical\"],x[\"Package_Formatted\"]), axis=1)"
   ]
  },
  {
   "cell_type": "code",
   "execution_count": 487,
   "metadata": {},
   "outputs": [],
   "source": [
    "def working_professional_vas_packages(bb_cat,vas):\n",
    "    prob = 0.0\n",
    "    bb_vas = [\"BB Personal Storage\"]\n",
    "    vas_packages = ['AB Referral offer Discount', 'AB Service Vacation',\n",
    "                    'AB Citylink Loyalty Rewards','Meet Lite', 'Meet Max']\n",
    "    if bb_cat == \"MEDIUM\" or bb_cat == \"HIGH\":\n",
    "        if not isinstance(vas, float):\n",
    "            for v in bb_vas:\n",
    "                if v in vas:\n",
    "                    prob += 0.2\n",
    "    if not isinstance(vas, float):\n",
    "        for v in vas_packages:\n",
    "            if v in vas:\n",
    "                prob += 0.25\n",
    "    return prob"
   ]
  },
  {
   "cell_type": "code",
   "execution_count": 488,
   "metadata": {},
   "outputs": [],
   "source": [
    "usage_df[\"VAS_if_Working_Professionals\"] = usage_df.apply(lambda x: working_professional_vas_packages(x[\"BB_Categorical\"],x[\"Package_Formatted\"]), axis=1)"
   ]
  },
  {
   "cell_type": "code",
   "execution_count": 489,
   "metadata": {},
   "outputs": [],
   "source": [
    "def family_member_abroad_idd_countries(idd_cat,incoming_country,outgoing_country):\n",
    "    prob = 0.0\n",
    "    countries = [\"United Arab Emirates\", \"Australia - Mobile\",\"UK - Mobile\", \"New Zealand\", \"Hong Kong\",\"Maldive Islands\",\"Singapore\",\n",
    "                 \"India\",\"Saudi Arabia - Mobile\",\"Australia\",\"China - Mobile\",\"Maldive Islands\",\n",
    "                 \"Israel - Mobile\",\"Jordan - Mobile\",\"U.K.\",\"U.S.A\",\"France\",\"Italy - Mobile\",\"Malaysia - Mobile\",\"Bangladesh - Mobile\"\n",
    "                ,\"Germany\",\"Philippines - Mobile\",\"Italy\",\"Israel\",\"Saudi Arabia\",\"Pakistan - Mobile\",\"Pakistan\",\"Japan\",\"Kuwait -Mobile\"\n",
    "                ,\"Oman-Mobile \",\"France - Mobile\",\"Canada\",\"Japan - Mobile\",\"United Arab Emirates  - Mobile\",\"Bahrain - Mobile\",\"Bahrain\"\n",
    "                ,\"Cyprus - Mobile\",\"Cyprus\",\"Barbados\",\"Korea Republic Of\",\"Switzerland - Mobile\",\"Indonesia - Mobile\",\"Qatar - Mobile\"\n",
    "                ,\"Qatar\",\"Romania\",\"Germany - Mobile\",\"Belgium\",\"Netherlands\"]\n",
    "    if not isinstance(idd_cat, float):\n",
    "        if idd_cat == \"MEDIUM\" or idd_cat == \"HIGH\":\n",
    "            for country in countries:\n",
    "                if not isinstance(incoming_country, float) and country in incoming_country:\n",
    "                    prob += 0.25\n",
    "                elif not isinstance(outgoing_country, float) and country in outgoing_country:\n",
    "                    prob += 0.25\n",
    "    return prob"
   ]
  },
  {
   "cell_type": "code",
   "execution_count": 490,
   "metadata": {},
   "outputs": [],
   "source": [
    "usage_df[\"IDD_if_Family_Member_Abroad\"] = usage_df.apply(lambda x: family_member_abroad_idd_countries(x[\"IDD_Overall_Categorical\"],x[\"IDD_incoming_country\"],x[\"IDD_outgoing_country\"]), axis=1)"
   ]
  },
  {
   "cell_type": "code",
   "execution_count": 491,
   "metadata": {},
   "outputs": [
    {
     "name": "stdout",
     "output_type": "stream",
     "text": [
      "<class 'pandas.core.frame.DataFrame'>\n",
      "Int64Index: 42594 entries, 0 to 42593\n",
      "Columns: 120 entries, ACCOUNT_NUM.hash to IDD_if_Family_Member_Abroad\n",
      "dtypes: category(2), float64(50), object(68)\n",
      "memory usage: 38.8+ MB\n"
     ]
    }
   ],
   "source": [
    "usage_df.info()"
   ]
  },
  {
   "cell_type": "code",
   "execution_count": 492,
   "metadata": {},
   "outputs": [],
   "source": [
    "usage_df.to_csv(\"data/user_profile/prepared/User_Profile.csv\")"
   ]
  },
  {
   "cell_type": "markdown",
   "metadata": {},
   "source": [
    "## Nul Handled User Profile"
   ]
  },
  {
   "cell_type": "code",
   "execution_count": 495,
   "metadata": {},
   "outputs": [],
   "source": [
    "nh_usage_df = usage_df"
   ]
  },
  {
   "cell_type": "code",
   "execution_count": 496,
   "metadata": {},
   "outputs": [],
   "source": [
    "usage_cols = [\"Voice_OUTGOING_Scaled\",\"Voice_INCOMING_Scaled\"]"
   ]
  },
  {
   "cell_type": "code",
   "execution_count": 497,
   "metadata": {},
   "outputs": [],
   "source": [
    "for col in usage_cols:\n",
    "    nh_usage_df[col] = np.where(nh_usage_df[\"Sub_Type\"].isnull() == False & nh_usage_df[col].isnull(), nh_usage_df[col].fillna(nh_usage_df[col].mean()), nh_usage_df[col])"
   ]
  },
  {
   "cell_type": "code",
   "execution_count": 498,
   "metadata": {},
   "outputs": [],
   "source": [
    "nh_usage_df[\"PEO_TV_Scaled\"] = np.where(nh_usage_df[\"PEO_TV_Scaled\"].isnull() & ((nh_usage_df[\"Sub_Type\"]==\"DOUBLE_PLAY_PV\") | (nh_usage_df[\"Sub_Type\"]==\"TRIPLE_PLAY\")), nh_usage_df[\"PEO_TV_Scaled\"].fillna(nh_usage_df[\"PEO_TV_Scaled\"].mean()), nh_usage_df[\"PEO_TV_Scaled\"])"
   ]
  },
  {
   "cell_type": "code",
   "execution_count": 499,
   "metadata": {},
   "outputs": [],
   "source": [
    "nh_usage_df[\"BB_Scaled\"] = np.where(nh_usage_df[\"BB_Scaled\"].isnull() & ((nh_usage_df[\"Sub_Type\"]==\"DOUBLE_PLAY_BV\") | (nh_usage_df[\"Sub_Type\"]==\"TRIPLE_PLAY\")), nh_usage_df[\"BB_Scaled\"].fillna(nh_usage_df[\"BB_Scaled\"].mean()), nh_usage_df[\"BB_Scaled\"])"
   ]
  },
  {
   "cell_type": "markdown",
   "metadata": {},
   "source": [
    "### Handeling Object col null values"
   ]
  },
  {
   "cell_type": "code",
   "execution_count": 500,
   "metadata": {},
   "outputs": [],
   "source": [
    "cat_cols = nh_usage_df.select_dtypes(include='object').columns\n",
    "nh_usage_df[cat_cols] = nh_usage_df[cat_cols].fillna(\"NO_INFO\")"
   ]
  },
  {
   "cell_type": "markdown",
   "metadata": {},
   "source": [
    "### Filling Usage values with mean"
   ]
  },
  {
   "cell_type": "code",
   "execution_count": 501,
   "metadata": {},
   "outputs": [],
   "source": [
    "mean_cols = ['BIRTH_YEAR','AGE']\n",
    "for col in mean_cols:\n",
    "    nh_usage_df[col] = nh_usage_df[col].fillna(nh_usage_df[col].mean())"
   ]
  },
  {
   "cell_type": "markdown",
   "metadata": {},
   "source": [
    "### Filling Numerical cols with Zero"
   ]
  },
  {
   "cell_type": "code",
   "execution_count": 502,
   "metadata": {},
   "outputs": [],
   "source": [
    "zero_cols = nh_usage_df.select_dtypes(include='float64').columns\n",
    "nh_usage_df[zero_cols] = nh_usage_df[zero_cols].fillna(0)"
   ]
  },
  {
   "cell_type": "markdown",
   "metadata": {},
   "source": [
    "### Fillling Cat Columns"
   ]
  },
  {
   "cell_type": "code",
   "execution_count": 503,
   "metadata": {},
   "outputs": [],
   "source": [
    "nh_usage_df[\"BB_Extra_GB_Purchase_Categorical\"] = nh_usage_df[\"BB_Extra_GB_Purchase_Categorical\"].cat.add_categories(\"NO_INFO\").fillna(\"NO_INFO\")\n",
    "nh_usage_df[\"Peo_Extra_Channels_Purchased_Categorical\"] = nh_usage_df[\"Peo_Extra_Channels_Purchased_Categorical\"].cat.add_categories(\"NO_INFO\").fillna(\"NO_INFO\")"
   ]
  },
  {
   "cell_type": "code",
   "execution_count": 504,
   "metadata": {},
   "outputs": [],
   "source": [
    "pd.set_option(\"display.max_rows\", None, \"display.max_columns\", None)"
   ]
  },
  {
   "cell_type": "code",
   "execution_count": 505,
   "metadata": {},
   "outputs": [
    {
     "data": {
      "text/plain": [
       "ACCOUNT_NUM.hash                            0\n",
       "Voice_INCOMING_Categorical                  0\n",
       "Voice_INCOMING_Scaled                       0\n",
       "Voice_INCOMING_Outlier                      0\n",
       "Location_Identifier                         0\n",
       "Location_Node                               0\n",
       "Package_Type_and_Medium                     0\n",
       "Model                                       0\n",
       "Service_Status                              0\n",
       "Voice_OUTGOING_Categorical                  0\n",
       "Voice_OUTGOING_Scaled                       0\n",
       "Voice_OUTGOING_Outlier                      0\n",
       "IDD_INCOMING_Categorical                    0\n",
       "IDD_INCOMING_Scaled                         0\n",
       "IDD_INCOMING_Outlier                        0\n",
       "IDD_incoming_country                        0\n",
       "IDD_OUTGOING_Categorical                    0\n",
       "IDD_OUTGOING_Scaled                         0\n",
       "IDD_OUTGOING_Outlier                        0\n",
       "IDD_outgoing_country                        0\n",
       "Peo_TV_Package                              0\n",
       "PEO_TV_Categorical                          0\n",
       "PEO_TV_Scaled                               0\n",
       "BB_Categorical                              0\n",
       "BB_Scaled                                   0\n",
       "BB_Package                                  0\n",
       "GENDER                                      0\n",
       "BIRTH_YEAR                                  0\n",
       "AGE                                         0\n",
       "Voice_Overall_Categorical                   0\n",
       "IDD_Overall_Categorical                     0\n",
       "VOICE_Categorical                           0\n",
       "Subscription                                0\n",
       "Sub_Type                                    0\n",
       "Sub_Usage                                   0\n",
       "Sub_Type_State                              0\n",
       "Megaline_Package                            0\n",
       "Megaline_Month_Subscribed                   0\n",
       "Megaline_Rental                             0\n",
       "Package_Type                                0\n",
       "Megaline_Medium                             0\n",
       "is_Promotion                                0\n",
       "Megaline_Rental_Scaled                      0\n",
       "FTTH_Package                                0\n",
       "FTTH_Month_Subscribed                       0\n",
       "FTTH_Rental                                 0\n",
       "FTTH_Medium                                 0\n",
       "FTTH_Rental_Scaled                          0\n",
       "LTE_Package                                 0\n",
       "LTE_Month_Subscribed                        0\n",
       "LTE_Rental                                  0\n",
       "LTE_Medium                                  0\n",
       "LTE_Rental_Scaled                           0\n",
       "VAS_Package                                 0\n",
       "VAS_Month_Subscribed                        0\n",
       "VAS_Rental                                  0\n",
       "Product_Type                                0\n",
       "VAS_Medium                                  0\n",
       "VAS_Rental_Scaled                           0\n",
       "Sub_Update_Date                             0\n",
       "Sub_Update_Status                           0\n",
       "Sub_Update                                  0\n",
       "BB_Extra_GB_Rental                          0\n",
       "BB_Extra_GB_Amount                          0\n",
       "BB_Extra_GB_Hour_Subscribed                 0\n",
       "BB_Extra_GB_Usage_Times                     0\n",
       "BB_Extra_GB_Month_vs_Rental                 0\n",
       "BB_Extra_GB_Purchased_Scaled                0\n",
       "BB_Extra_GB_Purchase_Categorical            0\n",
       "BB_Extra_GB_Subscribed_Night                0\n",
       "BB_Extra_GB_Subscribed_Day                  0\n",
       "BB_Extra_GB_Rental_Scaled                   0\n",
       "Peo_Extra_Channels_Cumulative_Rental        0\n",
       "Peo_Extra_Channels_Month_vs_Rental          0\n",
       "Peo_Extra_Channels_Purchased_Scaled         0\n",
       "Peo_Extra_Channels_Purchased_Categorical    0\n",
       "Bill_Balance_Froward                        0\n",
       "Bill_Net_Invoice                            0\n",
       "Bill_Tax_Invoice                            0\n",
       "Bill_Outstanding_Balance                    0\n",
       "Bill_Amount_Paid                            0\n",
       "Bill_Faild_to_Pay                           0\n",
       "Bill_Adjustment_Paid                        0\n",
       "Bill_Refunds_Paid                           0\n",
       "Bill_Payment_Due_Date                       0\n",
       "Bill_Bill_Settled_Date                      0\n",
       "Bill_Actual_Bill_Date                       0\n",
       "Bill_Billing_Status                         0\n",
       "Payment_Status                              0\n",
       "Payments_Month_vs_Amount_Paid               0\n",
       "Package_Formatted                           0\n",
       "FREE_or_PAID                                0\n",
       "is_Subscription                             0\n",
       "TARIFF_DESC                                 0\n",
       "TARIFF_NAME                                 0\n",
       "Having_Insurance                            0\n",
       "Having_Senior_Citizen_Scaled                0\n",
       "Having_Senior_Citizen                       0\n",
       "Having_Kids_at_Home_Scaled                  0\n",
       "Having_Kids_at_Home                         0\n",
       "SMEs_Scaled                                 0\n",
       "SMEs                                        0\n",
       "Having_Teenagers_Students_Scaled            0\n",
       "Having_Teenagers_Students                   0\n",
       "Having_Working_Professionals_Scaled         0\n",
       "Having_Working_Professionals                0\n",
       "Having_Family_Member_Abroad_Scaled          0\n",
       "Having_Family_Member_Abroad                 0\n",
       "Tamil_Customer                              0\n",
       "Peo_Packages_if_Senior_Citizen              0\n",
       "Peo_Packages_if_Kids                        0\n",
       "Peo_Packages_if_Teenager_Students           0\n",
       "Peo_Package_if_Working_Professionals        0\n",
       "BB_Package_if_Working_Professionals         0\n",
       "BB_Packages_if_Teenager_Students            0\n",
       "BB_Packages_if_SMEss                        0\n",
       "VAS_if_Kids                                 0\n",
       "VAS_if_Teenager_Students                    0\n",
       "VAS_if_Working_Professionals                0\n",
       "IDD_if_Family_Member_Abroad                 0\n",
       "dtype: int64"
      ]
     },
     "execution_count": 505,
     "metadata": {},
     "output_type": "execute_result"
    }
   ],
   "source": [
    "nh_usage_df.isna().sum()"
   ]
  },
  {
   "cell_type": "code",
   "execution_count": 506,
   "metadata": {},
   "outputs": [
    {
     "name": "stdout",
     "output_type": "stream",
     "text": [
      "<class 'pandas.core.frame.DataFrame'>\n",
      "Int64Index: 42594 entries, 0 to 42593\n",
      "Columns: 120 entries, ACCOUNT_NUM.hash to IDD_if_Family_Member_Abroad\n",
      "dtypes: category(2), float64(50), object(68)\n",
      "memory usage: 38.8+ MB\n"
     ]
    }
   ],
   "source": [
    "nh_usage_df.info()"
   ]
  },
  {
   "cell_type": "code",
   "execution_count": 507,
   "metadata": {},
   "outputs": [],
   "source": [
    "nh_usage_df.to_csv(\"data/user_profile/prepared/User_Profile_Null_Handled.csv\")"
   ]
  },
  {
   "cell_type": "code",
   "execution_count": null,
   "metadata": {},
   "outputs": [],
   "source": []
  },
  {
   "cell_type": "markdown",
   "metadata": {},
   "source": [
    "## ToDo - Deriving context\n",
    "- Payment Patterns & information : Economical state/ payment type preferred/ payment state (good/bad/avarage)\n",
    "- Time context - BB Usage Time/ PeoTV Watch Time/ Call Time/ IDD Call Time analysis\n",
    "- Upgrade/ Downgrade purpose assumption"
   ]
  },
  {
   "cell_type": "code",
   "execution_count": null,
   "metadata": {},
   "outputs": [],
   "source": []
  },
  {
   "cell_type": "markdown",
   "metadata": {},
   "source": [
    "# User Profile -Analysis"
   ]
  },
  {
   "cell_type": "markdown",
   "metadata": {},
   "source": [
    "### Subscription Changes"
   ]
  },
  {
   "cell_type": "code",
   "execution_count": 508,
   "metadata": {},
   "outputs": [
    {
     "data": {
      "text/plain": [
       "<AxesSubplot:ylabel='None'>"
      ]
     },
     "execution_count": 508,
     "metadata": {},
     "output_type": "execute_result"
    },
    {
     "data": {
      "image/png": "[encoded data removed]",
      "text/plain": [
       "<Figure size 4000x4000 with 1 Axes>"
      ]
     },
     "metadata": {},
     "output_type": "display_data"
    }
   ],
   "source": [
    "fig = plt.figure(figsize=(20,20), dpi=200)\n",
    "ax = plt.subplot(111)\n",
    "\n",
    "usage_df[[\"Sub_Update\"]].value_counts().plot(kind='pie', ax=ax, autopct='%1.1f%%', startangle=270, fontsize=20)"
   ]
  },
  {
   "cell_type": "markdown",
   "metadata": {},
   "source": [
    "### Customers with VAS"
   ]
  },
  {
   "cell_type": "code",
   "execution_count": 509,
   "metadata": {},
   "outputs": [
    {
     "data": {
      "text/plain": [
       "YES    42594\n",
       "dtype: int64"
      ]
     },
     "execution_count": 509,
     "metadata": {},
     "output_type": "execute_result"
    }
   ],
   "source": [
    "usage_df.apply(lambda x: \"YES\" if  type(x[\"Package_Formatted\"]) != float else \"NO\", axis=1).value_counts()"
   ]
  },
  {
   "cell_type": "markdown",
   "metadata": {},
   "source": [
    "## Customers with Megaline Packages"
   ]
  },
  {
   "cell_type": "code",
   "execution_count": 510,
   "metadata": {},
   "outputs": [
    {
     "data": {
      "text/plain": [
       "YES    42594\n",
       "dtype: int64"
      ]
     },
     "execution_count": 510,
     "metadata": {},
     "output_type": "execute_result"
    }
   ],
   "source": [
    "usage_df.apply(lambda x: \"YES\" if  type(x[\"Megaline_Package\"]) != float else \"NO\", axis=1).value_counts()"
   ]
  },
  {
   "cell_type": "markdown",
   "metadata": {},
   "source": [
    "## Customers with FTTH Package"
   ]
  },
  {
   "cell_type": "code",
   "execution_count": 511,
   "metadata": {},
   "outputs": [
    {
     "data": {
      "text/plain": [
       "YES    42594\n",
       "dtype: int64"
      ]
     },
     "execution_count": 511,
     "metadata": {},
     "output_type": "execute_result"
    }
   ],
   "source": [
    "usage_df.apply(lambda x: \"YES\" if  type(x[\"FTTH_Package\"]) != float else \"NO\", axis=1).value_counts()"
   ]
  },
  {
   "cell_type": "markdown",
   "metadata": {},
   "source": [
    "### Customers with LTE packages"
   ]
  },
  {
   "cell_type": "code",
   "execution_count": 512,
   "metadata": {},
   "outputs": [
    {
     "data": {
      "text/plain": [
       "YES    42594\n",
       "dtype: int64"
      ]
     },
     "execution_count": 512,
     "metadata": {},
     "output_type": "execute_result"
    }
   ],
   "source": [
    "usage_df.apply(lambda x: \"YES\" if  type(x[\"LTE_Package\"]) != float else \"NO\", axis=1).value_counts()"
   ]
  },
  {
   "cell_type": "markdown",
   "metadata": {},
   "source": [
    "## Customers with PeoTV Packages"
   ]
  },
  {
   "cell_type": "code",
   "execution_count": 513,
   "metadata": {},
   "outputs": [
    {
     "data": {
      "text/plain": [
       "YES    42594\n",
       "dtype: int64"
      ]
     },
     "execution_count": 513,
     "metadata": {},
     "output_type": "execute_result"
    }
   ],
   "source": [
    "peo_tv_users = usage_df.apply(lambda x: \"YES\" if  type(x[\"Peo_TV_Package\"]) != float else \"NO\", axis=1)\n",
    "peo_tv_users.value_counts()"
   ]
  },
  {
   "cell_type": "code",
   "execution_count": null,
   "metadata": {},
   "outputs": [],
   "source": []
  }
 ],
 "metadata": {
  "kernel_info": {
   "name": "python3"
  },
  "kernelspec": {
   "display_name": "Python 3 (ipykernel)",
   "language": "python",
   "name": "python3"
  },
  "language_info": {
   "codemirror_mode": {
    "name": "ipython",
    "version": 3
   },
   "file_extension": ".py",
   "mimetype": "text/x-python",
   "name": "python",
   "nbconvert_exporter": "python",
   "pygments_lexer": "ipython3",
   "version": "3.8.12"
  },
  "nteract": {
   "version": "nteract-front-end@1.0.0"
  }
 },
 "nbformat": 4,
 "nbformat_minor": 4
}
