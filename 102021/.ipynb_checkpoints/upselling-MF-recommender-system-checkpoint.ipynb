{
 "cells": [
  {
   "cell_type": "code",
   "execution_count": 111,
   "id": "49f0d72f",
   "metadata": {},
   "outputs": [],
   "source": [
    "import pandas as pd\n",
    "import numpy as np\n",
    "import seaborn as sns\n",
    "import sklearn\n",
    "import matplotlib.pyplot as plt\n",
    "from sklearn.preprocessing import MinMaxScaler\n",
    "from sklearn.decomposition import PCA\n",
    "from ast import literal_eval\n",
    "from surprise import *\n",
    "from surprise import accuracy\n",
    "from surprise.model_selection import GridSearchCV\n",
    "from surprise.model_selection import cross_validate\n",
    "from surprise.model_selection import train_test_split\n",
    "from collections import defaultdict\n",
    "from __future__ import division"
   ]
  },
  {
   "cell_type": "code",
   "execution_count": 78,
   "id": "568c9bc0",
   "metadata": {},
   "outputs": [],
   "source": [
    "user_profile = pd.read_csv(\"data/user_profile/prepared/User_Profile_Null_Handled.csv\")"
   ]
  },
  {
   "cell_type": "code",
   "execution_count": 79,
   "id": "e945591d",
   "metadata": {},
   "outputs": [
    {
     "data": {
      "text/plain": [
       "NO_INFO                30250\n",
       "Promotion Upgrade       7369\n",
       "Promotion Downgrade     4975\n",
       "Name: Sub_Update_Status, dtype: int64"
      ]
     },
     "execution_count": 79,
     "metadata": {},
     "output_type": "execute_result"
    }
   ],
   "source": [
    "user_profile[\"Sub_Update_Status\"].value_counts()"
   ]
  },
  {
   "cell_type": "code",
   "execution_count": 80,
   "id": "88d3dcf5",
   "metadata": {},
   "outputs": [],
   "source": [
    "data=user_profile.iloc[:,[1,3,11,14,18,23,25,34,57,61,62]]"
   ]
  },
  {
   "cell_type": "code",
   "execution_count": 81,
   "id": "7b821115",
   "metadata": {},
   "outputs": [
    {
     "name": "stdout",
     "output_type": "stream",
     "text": [
      "<class 'pandas.core.frame.DataFrame'>\n",
      "RangeIndex: 42594 entries, 0 to 42593\n",
      "Data columns (total 11 columns):\n",
      " #   Column                 Non-Null Count  Dtype  \n",
      "---  ------                 --------------  -----  \n",
      " 0   ACCOUNT_NUM.hash       42594 non-null  object \n",
      " 1   Voice_INCOMING_Scaled  42594 non-null  float64\n",
      " 2   Voice_OUTGOING_Scaled  42594 non-null  float64\n",
      " 3   IDD_INCOMING_Scaled    42594 non-null  float64\n",
      " 4   IDD_OUTGOING_Scaled    42594 non-null  float64\n",
      " 5   PEO_TV_Scaled          42594 non-null  float64\n",
      " 6   BB_Scaled              42594 non-null  float64\n",
      " 7   Sub_Type               42594 non-null  object \n",
      " 8   Product_Type           42594 non-null  object \n",
      " 9   Sub_Update_Status      42594 non-null  object \n",
      " 10  Sub_Update             42594 non-null  object \n",
      "dtypes: float64(6), object(5)\n",
      "memory usage: 3.6+ MB\n"
     ]
    }
   ],
   "source": [
    "data.info()"
   ]
  },
  {
   "cell_type": "code",
   "execution_count": 82,
   "id": "dc54e4f9",
   "metadata": {},
   "outputs": [],
   "source": [
    "data_dim=data.iloc[:,1:7]"
   ]
  },
  {
   "cell_type": "code",
   "execution_count": 83,
   "id": "833145fd",
   "metadata": {},
   "outputs": [
    {
     "data": {
      "text/plain": [
       "PCA(n_components=6)"
      ]
     },
     "execution_count": 83,
     "metadata": {},
     "output_type": "execute_result"
    }
   ],
   "source": [
    "pc=PCA(n_components=6) \n",
    "pc.fit(data_dim)"
   ]
  },
  {
   "cell_type": "code",
   "execution_count": 84,
   "id": "da9a443d",
   "metadata": {},
   "outputs": [
    {
     "data": {
      "text/plain": [
       "array([0.53436097, 0.85728507, 0.94419659, 0.97438368, 0.99002141,\n",
       "       1.        ])"
      ]
     },
     "execution_count": 84,
     "metadata": {},
     "output_type": "execute_result"
    }
   ],
   "source": [
    "#How mucb variance, captured together\n",
    "pc.explained_variance_ratio_.cumsum()"
   ]
  },
  {
   "cell_type": "code",
   "execution_count": 85,
   "id": "ca5efa32",
   "metadata": {},
   "outputs": [],
   "source": [
    "### Run PCA on the data and reduce the dimensions in pca_num_components dimensions\n",
    "pca = PCA(n_components=1)\n",
    "pca.fit(data_dim)\n",
    "reduced_data = pca.fit_transform(data_dim)\n",
    "results_df = pd.DataFrame(reduced_data,columns=['usage'])"
   ]
  },
  {
   "cell_type": "code",
   "execution_count": 86,
   "id": "0a164a4f",
   "metadata": {},
   "outputs": [],
   "source": [
    "# applying min-max-scaler to reduced features\n",
    "scaler = MinMaxScaler()\n",
    "results_df[['usage']] = scaler.fit_transform(results_df[['usage']])"
   ]
  },
  {
   "cell_type": "code",
   "execution_count": 87,
   "id": "84ff07af",
   "metadata": {},
   "outputs": [],
   "source": [
    "data=pd.concat([data,results_df],axis=1)"
   ]
  },
  {
   "cell_type": "code",
   "execution_count": 88,
   "id": "ae0ef591",
   "metadata": {},
   "outputs": [
    {
     "data": {
      "text/html": [
       "<div>\n",
       "<style scoped>\n",
       "    .dataframe tbody tr th:only-of-type {\n",
       "        vertical-align: middle;\n",
       "    }\n",
       "\n",
       "    .dataframe tbody tr th {\n",
       "        vertical-align: top;\n",
       "    }\n",
       "\n",
       "    .dataframe thead th {\n",
       "        text-align: right;\n",
       "    }\n",
       "</style>\n",
       "<table border=\"1\" class=\"dataframe\">\n",
       "  <thead>\n",
       "    <tr style=\"text-align: right;\">\n",
       "      <th></th>\n",
       "      <th>ACCOUNT_NUM.hash</th>\n",
       "      <th>Sub_Type</th>\n",
       "      <th>usage</th>\n",
       "    </tr>\n",
       "  </thead>\n",
       "  <tbody>\n",
       "    <tr>\n",
       "      <th>0</th>\n",
       "      <td>9efd917f18bb5c966953b4227ddbaf43</td>\n",
       "      <td>TRIPLE_PLAY</td>\n",
       "      <td>0.304039</td>\n",
       "    </tr>\n",
       "    <tr>\n",
       "      <th>1</th>\n",
       "      <td>2240d11b0d9ee8f6d9e8972c6190aa42</td>\n",
       "      <td>SINGLE_PLAY</td>\n",
       "      <td>0.006179</td>\n",
       "    </tr>\n",
       "    <tr>\n",
       "      <th>2</th>\n",
       "      <td>cff00495fd556a417e2838e27465d749</td>\n",
       "      <td>DOUBLE_PLAY_BV</td>\n",
       "      <td>0.309183</td>\n",
       "    </tr>\n",
       "    <tr>\n",
       "      <th>3</th>\n",
       "      <td>d00dacd8fc98c1726d6a4e9f28f8e579</td>\n",
       "      <td>TRIPLE_PLAY</td>\n",
       "      <td>0.154406</td>\n",
       "    </tr>\n",
       "    <tr>\n",
       "      <th>4</th>\n",
       "      <td>a3ee54787617510a616dfcb52c28941b</td>\n",
       "      <td>TRIPLE_PLAY</td>\n",
       "      <td>0.158567</td>\n",
       "    </tr>\n",
       "    <tr>\n",
       "      <th>...</th>\n",
       "      <td>...</td>\n",
       "      <td>...</td>\n",
       "      <td>...</td>\n",
       "    </tr>\n",
       "    <tr>\n",
       "      <th>42589</th>\n",
       "      <td>7052930957f02ad914dbd24fdcd04fed</td>\n",
       "      <td>DOUBLE_PLAY_BV</td>\n",
       "      <td>0.398034</td>\n",
       "    </tr>\n",
       "    <tr>\n",
       "      <th>42590</th>\n",
       "      <td>c217fb1b44642e79e56af9111e9c00b2</td>\n",
       "      <td>TRIPLE_PLAY</td>\n",
       "      <td>0.799978</td>\n",
       "    </tr>\n",
       "    <tr>\n",
       "      <th>42591</th>\n",
       "      <td>5e94646aa83bb9d7fab98620405517cb</td>\n",
       "      <td>DOUBLE_PLAY_BV</td>\n",
       "      <td>0.011400</td>\n",
       "    </tr>\n",
       "    <tr>\n",
       "      <th>42592</th>\n",
       "      <td>6801a82b67b7fb942242b7aca5ba022c</td>\n",
       "      <td>DOUBLE_PLAY_BV</td>\n",
       "      <td>0.525596</td>\n",
       "    </tr>\n",
       "    <tr>\n",
       "      <th>42593</th>\n",
       "      <td>92da7428aa4a85439d5cb1adc7eb7fba</td>\n",
       "      <td>TRIPLE_PLAY</td>\n",
       "      <td>0.423210</td>\n",
       "    </tr>\n",
       "  </tbody>\n",
       "</table>\n",
       "<p>42594 rows × 3 columns</p>\n",
       "</div>"
      ],
      "text/plain": [
       "                       ACCOUNT_NUM.hash        Sub_Type     usage\n",
       "0      9efd917f18bb5c966953b4227ddbaf43     TRIPLE_PLAY  0.304039\n",
       "1      2240d11b0d9ee8f6d9e8972c6190aa42     SINGLE_PLAY  0.006179\n",
       "2      cff00495fd556a417e2838e27465d749  DOUBLE_PLAY_BV  0.309183\n",
       "3      d00dacd8fc98c1726d6a4e9f28f8e579     TRIPLE_PLAY  0.154406\n",
       "4      a3ee54787617510a616dfcb52c28941b     TRIPLE_PLAY  0.158567\n",
       "...                                 ...             ...       ...\n",
       "42589  7052930957f02ad914dbd24fdcd04fed  DOUBLE_PLAY_BV  0.398034\n",
       "42590  c217fb1b44642e79e56af9111e9c00b2     TRIPLE_PLAY  0.799978\n",
       "42591  5e94646aa83bb9d7fab98620405517cb  DOUBLE_PLAY_BV  0.011400\n",
       "42592  6801a82b67b7fb942242b7aca5ba022c  DOUBLE_PLAY_BV  0.525596\n",
       "42593  92da7428aa4a85439d5cb1adc7eb7fba     TRIPLE_PLAY  0.423210\n",
       "\n",
       "[42594 rows x 3 columns]"
      ]
     },
     "execution_count": 88,
     "metadata": {},
     "output_type": "execute_result"
    }
   ],
   "source": [
    "data_triplet = data[[\"ACCOUNT_NUM.hash\",\"Sub_Type\",\"usage\"]]\n",
    "data_triplet"
   ]
  },
  {
   "cell_type": "markdown",
   "id": "6ef318c1",
   "metadata": {},
   "source": [
    "## Interaction Matrix"
   ]
  },
  {
   "cell_type": "code",
   "execution_count": 89,
   "id": "038dae8f",
   "metadata": {},
   "outputs": [
    {
     "data": {
      "text/html": [
       "<div>\n",
       "<style scoped>\n",
       "    .dataframe tbody tr th:only-of-type {\n",
       "        vertical-align: middle;\n",
       "    }\n",
       "\n",
       "    .dataframe tbody tr th {\n",
       "        vertical-align: top;\n",
       "    }\n",
       "\n",
       "    .dataframe thead th {\n",
       "        text-align: right;\n",
       "    }\n",
       "</style>\n",
       "<table border=\"1\" class=\"dataframe\">\n",
       "  <thead>\n",
       "    <tr style=\"text-align: right;\">\n",
       "      <th>Sub_Type</th>\n",
       "      <th>4G</th>\n",
       "      <th>DOUBLE_PLAY_BV</th>\n",
       "      <th>DOUBLE_PLAY_PV</th>\n",
       "      <th>SINGLE_PLAY</th>\n",
       "      <th>TRIPLE_PLAY</th>\n",
       "    </tr>\n",
       "    <tr>\n",
       "      <th>ACCOUNT_NUM.hash</th>\n",
       "      <th></th>\n",
       "      <th></th>\n",
       "      <th></th>\n",
       "      <th></th>\n",
       "      <th></th>\n",
       "    </tr>\n",
       "  </thead>\n",
       "  <tbody>\n",
       "    <tr>\n",
       "      <th>0003102d10a11c8f2f0f241f00a36b2d</th>\n",
       "      <td>NaN</td>\n",
       "      <td>NaN</td>\n",
       "      <td>NaN</td>\n",
       "      <td>NaN</td>\n",
       "      <td>0.377181</td>\n",
       "    </tr>\n",
       "    <tr>\n",
       "      <th>0003df7598926f578f53ecd9e424f3c9</th>\n",
       "      <td>NaN</td>\n",
       "      <td>0.274631</td>\n",
       "      <td>NaN</td>\n",
       "      <td>NaN</td>\n",
       "      <td>NaN</td>\n",
       "    </tr>\n",
       "    <tr>\n",
       "      <th>00092b1fd47eb05d000a3553ae072056</th>\n",
       "      <td>NaN</td>\n",
       "      <td>NaN</td>\n",
       "      <td>NaN</td>\n",
       "      <td>NaN</td>\n",
       "      <td>0.364527</td>\n",
       "    </tr>\n",
       "    <tr>\n",
       "      <th>00094326efae1d73371d118204e12e46</th>\n",
       "      <td>NaN</td>\n",
       "      <td>NaN</td>\n",
       "      <td>0.110893</td>\n",
       "      <td>NaN</td>\n",
       "      <td>NaN</td>\n",
       "    </tr>\n",
       "    <tr>\n",
       "      <th>000ae59b7eb91e778f22e3f07495f4f9</th>\n",
       "      <td>NaN</td>\n",
       "      <td>0.538300</td>\n",
       "      <td>NaN</td>\n",
       "      <td>NaN</td>\n",
       "      <td>NaN</td>\n",
       "    </tr>\n",
       "    <tr>\n",
       "      <th>...</th>\n",
       "      <td>...</td>\n",
       "      <td>...</td>\n",
       "      <td>...</td>\n",
       "      <td>...</td>\n",
       "      <td>...</td>\n",
       "    </tr>\n",
       "    <tr>\n",
       "      <th>fff9148b195a844454cf5b07c2fccbcb</th>\n",
       "      <td>NaN</td>\n",
       "      <td>NaN</td>\n",
       "      <td>0.140922</td>\n",
       "      <td>NaN</td>\n",
       "      <td>NaN</td>\n",
       "    </tr>\n",
       "    <tr>\n",
       "      <th>fffaeeddaabbd2868c183d8884b2a98d</th>\n",
       "      <td>NaN</td>\n",
       "      <td>NaN</td>\n",
       "      <td>NaN</td>\n",
       "      <td>NaN</td>\n",
       "      <td>0.432613</td>\n",
       "    </tr>\n",
       "    <tr>\n",
       "      <th>fffd0b8541e9f62496092d2ea8609135</th>\n",
       "      <td>NaN</td>\n",
       "      <td>NaN</td>\n",
       "      <td>NaN</td>\n",
       "      <td>NaN</td>\n",
       "      <td>0.675962</td>\n",
       "    </tr>\n",
       "    <tr>\n",
       "      <th>ffff7fc0c266ac5b34f91de1ba4f3039</th>\n",
       "      <td>NaN</td>\n",
       "      <td>NaN</td>\n",
       "      <td>NaN</td>\n",
       "      <td>NaN</td>\n",
       "      <td>0.299851</td>\n",
       "    </tr>\n",
       "    <tr>\n",
       "      <th>ffffe6d0d44f76428f676bd36e83df76</th>\n",
       "      <td>NaN</td>\n",
       "      <td>NaN</td>\n",
       "      <td>NaN</td>\n",
       "      <td>0.006392</td>\n",
       "      <td>NaN</td>\n",
       "    </tr>\n",
       "  </tbody>\n",
       "</table>\n",
       "<p>42594 rows × 5 columns</p>\n",
       "</div>"
      ],
      "text/plain": [
       "Sub_Type                          4G  DOUBLE_PLAY_BV  DOUBLE_PLAY_PV  \\\n",
       "ACCOUNT_NUM.hash                                                       \n",
       "0003102d10a11c8f2f0f241f00a36b2d NaN             NaN             NaN   \n",
       "0003df7598926f578f53ecd9e424f3c9 NaN        0.274631             NaN   \n",
       "00092b1fd47eb05d000a3553ae072056 NaN             NaN             NaN   \n",
       "00094326efae1d73371d118204e12e46 NaN             NaN        0.110893   \n",
       "000ae59b7eb91e778f22e3f07495f4f9 NaN        0.538300             NaN   \n",
       "...                               ..             ...             ...   \n",
       "fff9148b195a844454cf5b07c2fccbcb NaN             NaN        0.140922   \n",
       "fffaeeddaabbd2868c183d8884b2a98d NaN             NaN             NaN   \n",
       "fffd0b8541e9f62496092d2ea8609135 NaN             NaN             NaN   \n",
       "ffff7fc0c266ac5b34f91de1ba4f3039 NaN             NaN             NaN   \n",
       "ffffe6d0d44f76428f676bd36e83df76 NaN             NaN             NaN   \n",
       "\n",
       "Sub_Type                          SINGLE_PLAY  TRIPLE_PLAY  \n",
       "ACCOUNT_NUM.hash                                            \n",
       "0003102d10a11c8f2f0f241f00a36b2d          NaN     0.377181  \n",
       "0003df7598926f578f53ecd9e424f3c9          NaN          NaN  \n",
       "00092b1fd47eb05d000a3553ae072056          NaN     0.364527  \n",
       "00094326efae1d73371d118204e12e46          NaN          NaN  \n",
       "000ae59b7eb91e778f22e3f07495f4f9          NaN          NaN  \n",
       "...                                       ...          ...  \n",
       "fff9148b195a844454cf5b07c2fccbcb          NaN          NaN  \n",
       "fffaeeddaabbd2868c183d8884b2a98d          NaN     0.432613  \n",
       "fffd0b8541e9f62496092d2ea8609135          NaN     0.675962  \n",
       "ffff7fc0c266ac5b34f91de1ba4f3039          NaN     0.299851  \n",
       "ffffe6d0d44f76428f676bd36e83df76     0.006392          NaN  \n",
       "\n",
       "[42594 rows x 5 columns]"
      ]
     },
     "execution_count": 89,
     "metadata": {},
     "output_type": "execute_result"
    }
   ],
   "source": [
    "# create the user item matrix using the ratings dataset - Hint: try using pivot function \n",
    "interactions_metrix = data_triplet.pivot_table(index=\"ACCOUNT_NUM.hash\", columns=\"Sub_Type\", values=\"usage\")\n",
    "interactions_metrix"
   ]
  },
  {
   "cell_type": "code",
   "execution_count": 90,
   "id": "1b4a8976",
   "metadata": {},
   "outputs": [],
   "source": [
    "#interactions_metrix.reset_index(inplace=True)\n",
    "interactions_metrix = interactions_metrix.fillna(0)"
   ]
  },
  {
   "cell_type": "code",
   "execution_count": 91,
   "id": "02e59ddf",
   "metadata": {},
   "outputs": [],
   "source": [
    "X = interactions_metrix.values.T"
   ]
  },
  {
   "cell_type": "code",
   "execution_count": 92,
   "id": "54517b41",
   "metadata": {},
   "outputs": [
    {
     "data": {
      "text/plain": [
       "(5, 42594)"
      ]
     },
     "execution_count": 92,
     "metadata": {},
     "output_type": "execute_result"
    }
   ],
   "source": [
    "X.shape"
   ]
  },
  {
   "cell_type": "code",
   "execution_count": 93,
   "id": "60c63a53",
   "metadata": {},
   "outputs": [],
   "source": [
    "reader = Reader(rating_scale=(0, 1))\n",
    "data_model = Dataset.load_from_df(data_triplet, reader)"
   ]
  },
  {
   "cell_type": "code",
   "execution_count": 94,
   "id": "8fa77f0b",
   "metadata": {},
   "outputs": [],
   "source": [
    "trainset, testset = train_test_split(data_model, test_size=.20)"
   ]
  },
  {
   "cell_type": "code",
   "execution_count": 95,
   "id": "f0f45728",
   "metadata": {},
   "outputs": [],
   "source": [
    "def get_Iu(uid):\n",
    "    \"\"\"Return the number of items rated by given user\n",
    "    \n",
    "    Args:\n",
    "        uid: The raw id of the user.\n",
    "    Returns:\n",
    "        The number of items rated by the user.\n",
    "    \"\"\"\n",
    "    \n",
    "    try:\n",
    "        return len(trainset.ur[trainset.to_inner_uid(uid)])\n",
    "    except ValueError:  # user was not part of the trainset\n",
    "        return 0\n",
    "    \n",
    "def get_Ui(iid):\n",
    "    \"\"\"Return the number of users that have rated given item\n",
    "    \n",
    "    Args:\n",
    "        iid: The raw id of the item.\n",
    "    Returns:\n",
    "        The number of users that have rated the item.\n",
    "    \"\"\"\n",
    "    \n",
    "    try:\n",
    "        return len(trainset.ir[trainset.to_inner_iid(iid)])\n",
    "    except ValueError:  # item was not part of the trainset\n",
    "        return 0\n",
    "\n",
    "def get_top_n(predictions, n=10):\n",
    "    # First map the predictions to each user.\n",
    "    top_n = defaultdict(list)\n",
    "    for uid, iid, true_r, est, _ in predictions:\n",
    "        top_n[uid].append((iid, est, true_r))\n",
    "    for uid, user_ratings in top_n.items():\n",
    "        user_ratings.sort(key=lambda x: x[1], reverse=True)\n",
    "        top_n[uid] = user_ratings[:5]\n",
    "    return top_n"
   ]
  },
  {
   "cell_type": "markdown",
   "id": "8160b90c",
   "metadata": {},
   "source": [
    "## SVD Model"
   ]
  },
  {
   "cell_type": "code",
   "execution_count": 96,
   "id": "3f2a3925",
   "metadata": {},
   "outputs": [
    {
     "name": "stdout",
     "output_type": "stream",
     "text": [
      "Evaluating RMSE, MAE of algorithm SVD on 5 split(s).\n",
      "\n",
      "                  Fold 1  Fold 2  Fold 3  Fold 4  Fold 5  Mean    Std     \n",
      "RMSE (testset)    0.2406  0.2390  0.2405  0.2393  0.2391  0.2397  0.0007  \n",
      "MAE (testset)     0.1996  0.1978  0.2002  0.1988  0.1968  0.1986  0.0012  \n",
      "Fit time          0.98    1.00    1.00    0.99    0.99    0.99    0.01    \n",
      "Test time         0.02    0.02    0.02    0.02    0.02    0.02    0.00    \n"
     ]
    }
   ],
   "source": [
    "# We'll use the famous SVD algorithm.\n",
    "algo = SVD()\n",
    "\n",
    "# Run 5-fold cross-validation and print results\n",
    "svd_validate = cross_validate(algo, data_model, measures=['RMSE', 'MAE'], cv=5, verbose=True)"
   ]
  },
  {
   "cell_type": "code",
   "execution_count": 97,
   "id": "8faa68d8",
   "metadata": {},
   "outputs": [],
   "source": [
    "# Train the algorithm on the trainset, and predict ratings for the testset\n",
    "algo.fit(trainset)\n",
    "predictions = algo.test(testset)"
   ]
  },
  {
   "cell_type": "code",
   "execution_count": 98,
   "id": "23d9ee07",
   "metadata": {},
   "outputs": [],
   "source": [
    "top_n = get_top_n(predictions, n=10)\n",
    "#print(top_n)\n",
    "users_est = defaultdict(list)\n",
    "users_true=defaultdict(list)\n",
    "rec_for_user=defaultdict(list)\n",
    "for uid, user_ratings in top_n.items():\n",
    "    users_est[uid].append([est for (_, est,_) in user_ratings])\n",
    "    users_true[uid].append([true_r for (_,_,true_r) in user_ratings])\n",
    "    rec_for_user[uid].append([iid for (iid,_,_) in user_ratings])"
   ]
  },
  {
   "cell_type": "code",
   "execution_count": 99,
   "id": "81c2b345",
   "metadata": {},
   "outputs": [],
   "source": [
    "# Let's build a pandas dataframe with all the predictions\n",
    "df = pd.DataFrame(predictions, columns=['uid', 'iid', 'rui', 'est', 'details'])    \n",
    "df['Iu'] = df.uid.apply(get_Iu)\n",
    "df['Ui'] = df.iid.apply(get_Ui)\n",
    "df['err'] = abs(df.est - df.rui)"
   ]
  },
  {
   "cell_type": "code",
   "execution_count": 100,
   "id": "a1b888b2",
   "metadata": {},
   "outputs": [
    {
     "data": {
      "text/html": [
       "<div>\n",
       "<style scoped>\n",
       "    .dataframe tbody tr th:only-of-type {\n",
       "        vertical-align: middle;\n",
       "    }\n",
       "\n",
       "    .dataframe tbody tr th {\n",
       "        vertical-align: top;\n",
       "    }\n",
       "\n",
       "    .dataframe thead th {\n",
       "        text-align: right;\n",
       "    }\n",
       "</style>\n",
       "<table border=\"1\" class=\"dataframe\">\n",
       "  <thead>\n",
       "    <tr style=\"text-align: right;\">\n",
       "      <th></th>\n",
       "      <th>uid</th>\n",
       "      <th>iid</th>\n",
       "      <th>rui</th>\n",
       "      <th>est</th>\n",
       "      <th>details</th>\n",
       "      <th>Iu</th>\n",
       "      <th>Ui</th>\n",
       "      <th>err</th>\n",
       "    </tr>\n",
       "  </thead>\n",
       "  <tbody>\n",
       "    <tr>\n",
       "      <th>4945</th>\n",
       "      <td>605cdee6e5ede97c93b137929f844ea8</td>\n",
       "      <td>TRIPLE_PLAY</td>\n",
       "      <td>0.436963</td>\n",
       "      <td>0.436889</td>\n",
       "      <td>{'was_impossible': False}</td>\n",
       "      <td>0</td>\n",
       "      <td>12703</td>\n",
       "      <td>0.000074</td>\n",
       "    </tr>\n",
       "    <tr>\n",
       "      <th>1028</th>\n",
       "      <td>7544f2de49b1aeb814a06797d36182e4</td>\n",
       "      <td>TRIPLE_PLAY</td>\n",
       "      <td>0.437042</td>\n",
       "      <td>0.436889</td>\n",
       "      <td>{'was_impossible': False}</td>\n",
       "      <td>0</td>\n",
       "      <td>12703</td>\n",
       "      <td>0.000153</td>\n",
       "    </tr>\n",
       "    <tr>\n",
       "      <th>3049</th>\n",
       "      <td>7bea3d218fa20dd0d14f15c2fe086124</td>\n",
       "      <td>TRIPLE_PLAY</td>\n",
       "      <td>0.437093</td>\n",
       "      <td>0.436889</td>\n",
       "      <td>{'was_impossible': False}</td>\n",
       "      <td>0</td>\n",
       "      <td>12703</td>\n",
       "      <td>0.000204</td>\n",
       "    </tr>\n",
       "    <tr>\n",
       "      <th>598</th>\n",
       "      <td>6c579a7a733181f5c8a6db5e74e3c56f</td>\n",
       "      <td>TRIPLE_PLAY</td>\n",
       "      <td>0.436669</td>\n",
       "      <td>0.436889</td>\n",
       "      <td>{'was_impossible': False}</td>\n",
       "      <td>0</td>\n",
       "      <td>12703</td>\n",
       "      <td>0.000220</td>\n",
       "    </tr>\n",
       "    <tr>\n",
       "      <th>2820</th>\n",
       "      <td>9d965b0f559940a90517767ed18f6815</td>\n",
       "      <td>TRIPLE_PLAY</td>\n",
       "      <td>0.436535</td>\n",
       "      <td>0.436889</td>\n",
       "      <td>{'was_impossible': False}</td>\n",
       "      <td>0</td>\n",
       "      <td>12703</td>\n",
       "      <td>0.000354</td>\n",
       "    </tr>\n",
       "    <tr>\n",
       "      <th>82</th>\n",
       "      <td>cd4b6e67f393498c64247c63e006fa20</td>\n",
       "      <td>TRIPLE_PLAY</td>\n",
       "      <td>0.437245</td>\n",
       "      <td>0.436889</td>\n",
       "      <td>{'was_impossible': False}</td>\n",
       "      <td>0</td>\n",
       "      <td>12703</td>\n",
       "      <td>0.000356</td>\n",
       "    </tr>\n",
       "    <tr>\n",
       "      <th>4839</th>\n",
       "      <td>907e7819d60d3b17dfa631ca73a1d223</td>\n",
       "      <td>DOUBLE_PLAY_BV</td>\n",
       "      <td>0.258890</td>\n",
       "      <td>0.258345</td>\n",
       "      <td>{'was_impossible': False}</td>\n",
       "      <td>0</td>\n",
       "      <td>12637</td>\n",
       "      <td>0.000544</td>\n",
       "    </tr>\n",
       "    <tr>\n",
       "      <th>5587</th>\n",
       "      <td>a7d127d959994ae0871903d4c615d5e0</td>\n",
       "      <td>TRIPLE_PLAY</td>\n",
       "      <td>0.437441</td>\n",
       "      <td>0.436889</td>\n",
       "      <td>{'was_impossible': False}</td>\n",
       "      <td>0</td>\n",
       "      <td>12703</td>\n",
       "      <td>0.000551</td>\n",
       "    </tr>\n",
       "    <tr>\n",
       "      <th>4825</th>\n",
       "      <td>c8f73fd6999092981cb37e1e39e9ef2e</td>\n",
       "      <td>TRIPLE_PLAY</td>\n",
       "      <td>0.436267</td>\n",
       "      <td>0.436889</td>\n",
       "      <td>{'was_impossible': False}</td>\n",
       "      <td>0</td>\n",
       "      <td>12703</td>\n",
       "      <td>0.000623</td>\n",
       "    </tr>\n",
       "    <tr>\n",
       "      <th>5516</th>\n",
       "      <td>be40a6f53c6bc7f4740ee332b254eb8c</td>\n",
       "      <td>TRIPLE_PLAY</td>\n",
       "      <td>0.437574</td>\n",
       "      <td>0.436889</td>\n",
       "      <td>{'was_impossible': False}</td>\n",
       "      <td>0</td>\n",
       "      <td>12703</td>\n",
       "      <td>0.000685</td>\n",
       "    </tr>\n",
       "  </tbody>\n",
       "</table>\n",
       "</div>"
      ],
      "text/plain": [
       "                                   uid             iid       rui       est  \\\n",
       "4945  605cdee6e5ede97c93b137929f844ea8     TRIPLE_PLAY  0.436963  0.436889   \n",
       "1028  7544f2de49b1aeb814a06797d36182e4     TRIPLE_PLAY  0.437042  0.436889   \n",
       "3049  7bea3d218fa20dd0d14f15c2fe086124     TRIPLE_PLAY  0.437093  0.436889   \n",
       "598   6c579a7a733181f5c8a6db5e74e3c56f     TRIPLE_PLAY  0.436669  0.436889   \n",
       "2820  9d965b0f559940a90517767ed18f6815     TRIPLE_PLAY  0.436535  0.436889   \n",
       "82    cd4b6e67f393498c64247c63e006fa20     TRIPLE_PLAY  0.437245  0.436889   \n",
       "4839  907e7819d60d3b17dfa631ca73a1d223  DOUBLE_PLAY_BV  0.258890  0.258345   \n",
       "5587  a7d127d959994ae0871903d4c615d5e0     TRIPLE_PLAY  0.437441  0.436889   \n",
       "4825  c8f73fd6999092981cb37e1e39e9ef2e     TRIPLE_PLAY  0.436267  0.436889   \n",
       "5516  be40a6f53c6bc7f4740ee332b254eb8c     TRIPLE_PLAY  0.437574  0.436889   \n",
       "\n",
       "                        details  Iu     Ui       err  \n",
       "4945  {'was_impossible': False}   0  12703  0.000074  \n",
       "1028  {'was_impossible': False}   0  12703  0.000153  \n",
       "3049  {'was_impossible': False}   0  12703  0.000204  \n",
       "598   {'was_impossible': False}   0  12703  0.000220  \n",
       "2820  {'was_impossible': False}   0  12703  0.000354  \n",
       "82    {'was_impossible': False}   0  12703  0.000356  \n",
       "4839  {'was_impossible': False}   0  12637  0.000544  \n",
       "5587  {'was_impossible': False}   0  12703  0.000551  \n",
       "4825  {'was_impossible': False}   0  12703  0.000623  \n",
       "5516  {'was_impossible': False}   0  12703  0.000685  "
      ]
     },
     "execution_count": 100,
     "metadata": {},
     "output_type": "execute_result"
    }
   ],
   "source": [
    "# 10 Best predictions\n",
    "df.sort_values(by='err')[:10]"
   ]
  },
  {
   "cell_type": "code",
   "execution_count": 101,
   "id": "f8cea6af",
   "metadata": {},
   "outputs": [
    {
     "name": "stdout",
     "output_type": "stream",
     "text": [
      "RMSE: 0.2400\n",
      "RMSE --> 0.23999348266701814\n",
      "Accuracy --> 0.7600065173329819\n"
     ]
    }
   ],
   "source": [
    "rmse = accuracy.rmse(predictions)\n",
    "print(\"RMSE -->\",rmse)\n",
    "print(\"Accuracy -->\",1-rmse)"
   ]
  },
  {
   "cell_type": "code",
   "execution_count": 102,
   "id": "53472e26",
   "metadata": {},
   "outputs": [],
   "source": [
    "data_triplet = data_triplet.merge(df[[\"uid\",\"iid\",\"err\"]], left_on=\"ACCOUNT_NUM.hash\", right_on =\"uid\", how=\"left\")\n",
    "data_triplet.dropna(subset=[\"uid\"],inplace=True)\n",
    "data_triplet.drop(\"uid\", axis=1, inplace = True)\n",
    "data_triplet.rename(columns={\"iid\":\"SVD_recommendation\",\"Sub_Type\":\"Actual_Subscription\",\"err\":\"SVD_error\"}, inplace = True)"
   ]
  },
  {
   "cell_type": "markdown",
   "id": "166932b4",
   "metadata": {},
   "source": [
    "## SlopeOne"
   ]
  },
  {
   "cell_type": "code",
   "execution_count": 104,
   "id": "94e9dc7c",
   "metadata": {},
   "outputs": [
    {
     "name": "stdout",
     "output_type": "stream",
     "text": [
      "Evaluating RMSE, MAE of algorithm SlopeOne on 5 split(s).\n",
      "\n",
      "                  Fold 1  Fold 2  Fold 3  Fold 4  Fold 5  Mean    Std     \n",
      "RMSE (testset)    0.2598  0.2579  0.2606  0.2615  0.2584  0.2597  0.0013  \n",
      "MAE (testset)     0.2199  0.2192  0.2211  0.2221  0.2194  0.2203  0.0011  \n",
      "Fit time          0.12    0.11    0.12    0.11    0.11    0.12    0.00    \n",
      "Test time         0.02    0.02    0.02    0.02    0.02    0.02    0.00    \n"
     ]
    }
   ],
   "source": [
    "# We'll use the SlopeOne algorithm.\n",
    "algo = SlopeOne()\n",
    "\n",
    "# Run 5-fold cross-validation and print results\n",
    "so_validate =cross_validate(algo, data_model, measures=['RMSE', 'MAE'], cv=5, verbose=True)"
   ]
  },
  {
   "cell_type": "code",
   "execution_count": 105,
   "id": "27f42260",
   "metadata": {},
   "outputs": [
    {
     "name": "stderr",
     "output_type": "stream",
     "text": [
      "/var/folders/00/gmvdw06n48lgtsz126ng5y2m0000gn/T/ipykernel_48487/2034006903.py:2: DeprecationWarning: `np.int` is a deprecated alias for the builtin `int`. To silence this warning, use `int` by itself. Doing this will not modify any behavior and is safe. When replacing `np.int`, you may wish to use e.g. `np.int64` or `np.int32` to specify the precision. If you wish to review your current use, check the release note link for additional information.\n",
      "Deprecated in NumPy 1.20; for more details and guidance: https://numpy.org/devdocs/release/1.20.0-notes.html#deprecations\n",
      "  algo.fit(trainset)\n"
     ]
    }
   ],
   "source": [
    "# Train the algorithm on the trainset, and predict ratings for the testset\n",
    "algo.fit(trainset)\n",
    "predictions = algo.test(testset)"
   ]
  },
  {
   "cell_type": "code",
   "execution_count": 106,
   "id": "b06b86d3",
   "metadata": {},
   "outputs": [],
   "source": [
    "# Let's build a pandas dataframe with all the predictions\n",
    "df = pd.DataFrame(predictions, columns=['uid', 'iid', 'rui', 'est', 'details'])    \n",
    "df['Iu'] = df.uid.apply(get_Iu)\n",
    "df['Ui'] = df.iid.apply(get_Ui)\n",
    "df['err'] = abs(df.est - df.rui)"
   ]
  },
  {
   "cell_type": "code",
   "execution_count": 107,
   "id": "55127359",
   "metadata": {},
   "outputs": [
    {
     "data": {
      "text/html": [
       "<div>\n",
       "<style scoped>\n",
       "    .dataframe tbody tr th:only-of-type {\n",
       "        vertical-align: middle;\n",
       "    }\n",
       "\n",
       "    .dataframe tbody tr th {\n",
       "        vertical-align: top;\n",
       "    }\n",
       "\n",
       "    .dataframe thead th {\n",
       "        text-align: right;\n",
       "    }\n",
       "</style>\n",
       "<table border=\"1\" class=\"dataframe\">\n",
       "  <thead>\n",
       "    <tr style=\"text-align: right;\">\n",
       "      <th></th>\n",
       "      <th>uid</th>\n",
       "      <th>iid</th>\n",
       "      <th>rui</th>\n",
       "      <th>est</th>\n",
       "      <th>details</th>\n",
       "      <th>Iu</th>\n",
       "      <th>Ui</th>\n",
       "      <th>err</th>\n",
       "    </tr>\n",
       "  </thead>\n",
       "  <tbody>\n",
       "    <tr>\n",
       "      <th>7313</th>\n",
       "      <td>baaf959f699bd905ed50c42e1da11092</td>\n",
       "      <td>DOUBLE_PLAY_BV</td>\n",
       "      <td>0.322392</td>\n",
       "      <td>0.322401</td>\n",
       "      <td>{'was_impossible': True, 'reason': 'User and/o...</td>\n",
       "      <td>0</td>\n",
       "      <td>12637</td>\n",
       "      <td>0.000009</td>\n",
       "    </tr>\n",
       "    <tr>\n",
       "      <th>7678</th>\n",
       "      <td>15fb49a322620763d54f2cf938385b66</td>\n",
       "      <td>TRIPLE_PLAY</td>\n",
       "      <td>0.322300</td>\n",
       "      <td>0.322401</td>\n",
       "      <td>{'was_impossible': True, 'reason': 'User and/o...</td>\n",
       "      <td>0</td>\n",
       "      <td>12703</td>\n",
       "      <td>0.000101</td>\n",
       "    </tr>\n",
       "    <tr>\n",
       "      <th>4373</th>\n",
       "      <td>5895122c6c5eb9808fdc8644fd623af5</td>\n",
       "      <td>TRIPLE_PLAY</td>\n",
       "      <td>0.322577</td>\n",
       "      <td>0.322401</td>\n",
       "      <td>{'was_impossible': True, 'reason': 'User and/o...</td>\n",
       "      <td>0</td>\n",
       "      <td>12703</td>\n",
       "      <td>0.000176</td>\n",
       "    </tr>\n",
       "    <tr>\n",
       "      <th>836</th>\n",
       "      <td>45c5d101b6d907ae7d0ea1550e88a898</td>\n",
       "      <td>TRIPLE_PLAY</td>\n",
       "      <td>0.322183</td>\n",
       "      <td>0.322401</td>\n",
       "      <td>{'was_impossible': True, 'reason': 'User and/o...</td>\n",
       "      <td>0</td>\n",
       "      <td>12703</td>\n",
       "      <td>0.000218</td>\n",
       "    </tr>\n",
       "    <tr>\n",
       "      <th>6082</th>\n",
       "      <td>c098ffe802e109446d25f806d6789f25</td>\n",
       "      <td>TRIPLE_PLAY</td>\n",
       "      <td>0.322643</td>\n",
       "      <td>0.322401</td>\n",
       "      <td>{'was_impossible': True, 'reason': 'User and/o...</td>\n",
       "      <td>0</td>\n",
       "      <td>12703</td>\n",
       "      <td>0.000242</td>\n",
       "    </tr>\n",
       "    <tr>\n",
       "      <th>7827</th>\n",
       "      <td>71c5df8e36e6ca5e5b3a93ee3d1ccd0b</td>\n",
       "      <td>DOUBLE_PLAY_BV</td>\n",
       "      <td>0.322069</td>\n",
       "      <td>0.322401</td>\n",
       "      <td>{'was_impossible': True, 'reason': 'User and/o...</td>\n",
       "      <td>0</td>\n",
       "      <td>12637</td>\n",
       "      <td>0.000332</td>\n",
       "    </tr>\n",
       "    <tr>\n",
       "      <th>8045</th>\n",
       "      <td>0332a28bd2556940b57581ef19d906bb</td>\n",
       "      <td>TRIPLE_PLAY</td>\n",
       "      <td>0.322758</td>\n",
       "      <td>0.322401</td>\n",
       "      <td>{'was_impossible': True, 'reason': 'User and/o...</td>\n",
       "      <td>0</td>\n",
       "      <td>12703</td>\n",
       "      <td>0.000357</td>\n",
       "    </tr>\n",
       "    <tr>\n",
       "      <th>3482</th>\n",
       "      <td>dd67f6c2ee0d3e9b7b5dfe6d972ae95f</td>\n",
       "      <td>TRIPLE_PLAY</td>\n",
       "      <td>0.321935</td>\n",
       "      <td>0.322401</td>\n",
       "      <td>{'was_impossible': True, 'reason': 'User and/o...</td>\n",
       "      <td>0</td>\n",
       "      <td>12703</td>\n",
       "      <td>0.000466</td>\n",
       "    </tr>\n",
       "    <tr>\n",
       "      <th>3151</th>\n",
       "      <td>a9d38ab56e34f14708ab8f470b0ca31f</td>\n",
       "      <td>TRIPLE_PLAY</td>\n",
       "      <td>0.322870</td>\n",
       "      <td>0.322401</td>\n",
       "      <td>{'was_impossible': True, 'reason': 'User and/o...</td>\n",
       "      <td>0</td>\n",
       "      <td>12703</td>\n",
       "      <td>0.000469</td>\n",
       "    </tr>\n",
       "    <tr>\n",
       "      <th>4300</th>\n",
       "      <td>3057ae1f71c5c9399dcc9d63af734490</td>\n",
       "      <td>TRIPLE_PLAY</td>\n",
       "      <td>0.321901</td>\n",
       "      <td>0.322401</td>\n",
       "      <td>{'was_impossible': True, 'reason': 'User and/o...</td>\n",
       "      <td>0</td>\n",
       "      <td>12703</td>\n",
       "      <td>0.000500</td>\n",
       "    </tr>\n",
       "  </tbody>\n",
       "</table>\n",
       "</div>"
      ],
      "text/plain": [
       "                                   uid             iid       rui       est  \\\n",
       "7313  baaf959f699bd905ed50c42e1da11092  DOUBLE_PLAY_BV  0.322392  0.322401   \n",
       "7678  15fb49a322620763d54f2cf938385b66     TRIPLE_PLAY  0.322300  0.322401   \n",
       "4373  5895122c6c5eb9808fdc8644fd623af5     TRIPLE_PLAY  0.322577  0.322401   \n",
       "836   45c5d101b6d907ae7d0ea1550e88a898     TRIPLE_PLAY  0.322183  0.322401   \n",
       "6082  c098ffe802e109446d25f806d6789f25     TRIPLE_PLAY  0.322643  0.322401   \n",
       "7827  71c5df8e36e6ca5e5b3a93ee3d1ccd0b  DOUBLE_PLAY_BV  0.322069  0.322401   \n",
       "8045  0332a28bd2556940b57581ef19d906bb     TRIPLE_PLAY  0.322758  0.322401   \n",
       "3482  dd67f6c2ee0d3e9b7b5dfe6d972ae95f     TRIPLE_PLAY  0.321935  0.322401   \n",
       "3151  a9d38ab56e34f14708ab8f470b0ca31f     TRIPLE_PLAY  0.322870  0.322401   \n",
       "4300  3057ae1f71c5c9399dcc9d63af734490     TRIPLE_PLAY  0.321901  0.322401   \n",
       "\n",
       "                                                details  Iu     Ui       err  \n",
       "7313  {'was_impossible': True, 'reason': 'User and/o...   0  12637  0.000009  \n",
       "7678  {'was_impossible': True, 'reason': 'User and/o...   0  12703  0.000101  \n",
       "4373  {'was_impossible': True, 'reason': 'User and/o...   0  12703  0.000176  \n",
       "836   {'was_impossible': True, 'reason': 'User and/o...   0  12703  0.000218  \n",
       "6082  {'was_impossible': True, 'reason': 'User and/o...   0  12703  0.000242  \n",
       "7827  {'was_impossible': True, 'reason': 'User and/o...   0  12637  0.000332  \n",
       "8045  {'was_impossible': True, 'reason': 'User and/o...   0  12703  0.000357  \n",
       "3482  {'was_impossible': True, 'reason': 'User and/o...   0  12703  0.000466  \n",
       "3151  {'was_impossible': True, 'reason': 'User and/o...   0  12703  0.000469  \n",
       "4300  {'was_impossible': True, 'reason': 'User and/o...   0  12703  0.000500  "
      ]
     },
     "execution_count": 107,
     "metadata": {},
     "output_type": "execute_result"
    }
   ],
   "source": [
    "df.sort_values(by='err')[:10]"
   ]
  },
  {
   "cell_type": "code",
   "execution_count": 108,
   "id": "9ed6ce12",
   "metadata": {},
   "outputs": [
    {
     "name": "stdout",
     "output_type": "stream",
     "text": [
      "RMSE: 0.2600\n",
      "RMSE --> 0.2600306200842499\n",
      "Accuracy --> 0.7399693799157501\n"
     ]
    }
   ],
   "source": [
    "rmse = accuracy.rmse(predictions)\n",
    "print(\"RMSE -->\",rmse)\n",
    "print(\"Accuracy -->\",1-rmse)"
   ]
  },
  {
   "cell_type": "code",
   "execution_count": 109,
   "id": "a2056605",
   "metadata": {},
   "outputs": [],
   "source": [
    "data_triplet = data_triplet.merge(df[[\"uid\",\"iid\",\"err\"]], left_on=\"ACCOUNT_NUM.hash\", right_on =\"uid\", how=\"left\")\n",
    "data_triplet.dropna(subset=[\"uid\"],inplace=True)\n",
    "data_triplet.drop(\"uid\", axis=1, inplace = True)\n",
    "data_triplet.rename(columns={\"iid\":\"SlopeOne_recommendation\",\"err\":\"SlopeOne_error\"}, inplace = True)"
   ]
  },
  {
   "cell_type": "markdown",
   "id": "47d349c3",
   "metadata": {},
   "source": [
    "## Matrix factorization (NMF)"
   ]
  },
  {
   "cell_type": "code",
   "execution_count": 112,
   "id": "6f8b029e",
   "metadata": {},
   "outputs": [
    {
     "ename": "ZeroDivisionError",
     "evalue": "float division",
     "output_type": "error",
     "traceback": [
      "\u001b[0;31m---------------------------------------------------------------------------\u001b[0m",
      "\u001b[0;31mZeroDivisionError\u001b[0m                         Traceback (most recent call last)",
      "\u001b[0;32m/var/folders/00/gmvdw06n48lgtsz126ng5y2m0000gn/T/ipykernel_48487/1471551018.py\u001b[0m in \u001b[0;36m<module>\u001b[0;34m\u001b[0m\n\u001b[1;32m      3\u001b[0m \u001b[0;34m\u001b[0m\u001b[0m\n\u001b[1;32m      4\u001b[0m \u001b[0;31m# Run 5-fold cross-validation and print results\u001b[0m\u001b[0;34m\u001b[0m\u001b[0;34m\u001b[0m\u001b[0;34m\u001b[0m\u001b[0m\n\u001b[0;32m----> 5\u001b[0;31m \u001b[0mnmf_validate\u001b[0m \u001b[0;34m=\u001b[0m\u001b[0mcross_validate\u001b[0m\u001b[0;34m(\u001b[0m\u001b[0malgo\u001b[0m\u001b[0;34m,\u001b[0m \u001b[0mdata_model\u001b[0m\u001b[0;34m,\u001b[0m \u001b[0mmeasures\u001b[0m\u001b[0;34m=\u001b[0m\u001b[0;34m[\u001b[0m\u001b[0;34m'RMSE'\u001b[0m\u001b[0;34m,\u001b[0m \u001b[0;34m'MAE'\u001b[0m\u001b[0;34m]\u001b[0m\u001b[0;34m,\u001b[0m \u001b[0mcv\u001b[0m\u001b[0;34m=\u001b[0m\u001b[0;36m5\u001b[0m\u001b[0;34m,\u001b[0m \u001b[0mverbose\u001b[0m\u001b[0;34m=\u001b[0m\u001b[0;32mTrue\u001b[0m\u001b[0;34m)\u001b[0m\u001b[0;34m\u001b[0m\u001b[0;34m\u001b[0m\u001b[0m\n\u001b[0m",
      "\u001b[0;32m~/mambaforge/envs/mactf/lib/python3.8/site-packages/surprise/model_selection/validation.py\u001b[0m in \u001b[0;36mcross_validate\u001b[0;34m(algo, data, measures, cv, return_train_measures, n_jobs, pre_dispatch, verbose)\u001b[0m\n\u001b[1;32m    101\u001b[0m                                            return_train_measures)\n\u001b[1;32m    102\u001b[0m                     for (trainset, testset) in cv.split(data))\n\u001b[0;32m--> 103\u001b[0;31m     \u001b[0mout\u001b[0m \u001b[0;34m=\u001b[0m \u001b[0mParallel\u001b[0m\u001b[0;34m(\u001b[0m\u001b[0mn_jobs\u001b[0m\u001b[0;34m=\u001b[0m\u001b[0mn_jobs\u001b[0m\u001b[0;34m,\u001b[0m \u001b[0mpre_dispatch\u001b[0m\u001b[0;34m=\u001b[0m\u001b[0mpre_dispatch\u001b[0m\u001b[0;34m)\u001b[0m\u001b[0;34m(\u001b[0m\u001b[0mdelayed_list\u001b[0m\u001b[0;34m)\u001b[0m\u001b[0;34m\u001b[0m\u001b[0;34m\u001b[0m\u001b[0m\n\u001b[0m\u001b[1;32m    104\u001b[0m \u001b[0;34m\u001b[0m\u001b[0m\n\u001b[1;32m    105\u001b[0m     (test_measures_dicts,\n",
      "\u001b[0;32m~/mambaforge/envs/mactf/lib/python3.8/site-packages/joblib/parallel.py\u001b[0m in \u001b[0;36m__call__\u001b[0;34m(self, iterable)\u001b[0m\n\u001b[1;32m   1039\u001b[0m             \u001b[0;31m# remaining jobs.\u001b[0m\u001b[0;34m\u001b[0m\u001b[0;34m\u001b[0m\u001b[0;34m\u001b[0m\u001b[0m\n\u001b[1;32m   1040\u001b[0m             \u001b[0mself\u001b[0m\u001b[0;34m.\u001b[0m\u001b[0m_iterating\u001b[0m \u001b[0;34m=\u001b[0m \u001b[0;32mFalse\u001b[0m\u001b[0;34m\u001b[0m\u001b[0;34m\u001b[0m\u001b[0m\n\u001b[0;32m-> 1041\u001b[0;31m             \u001b[0;32mif\u001b[0m \u001b[0mself\u001b[0m\u001b[0;34m.\u001b[0m\u001b[0mdispatch_one_batch\u001b[0m\u001b[0;34m(\u001b[0m\u001b[0miterator\u001b[0m\u001b[0;34m)\u001b[0m\u001b[0;34m:\u001b[0m\u001b[0;34m\u001b[0m\u001b[0;34m\u001b[0m\u001b[0m\n\u001b[0m\u001b[1;32m   1042\u001b[0m                 \u001b[0mself\u001b[0m\u001b[0;34m.\u001b[0m\u001b[0m_iterating\u001b[0m \u001b[0;34m=\u001b[0m \u001b[0mself\u001b[0m\u001b[0;34m.\u001b[0m\u001b[0m_original_iterator\u001b[0m \u001b[0;32mis\u001b[0m \u001b[0;32mnot\u001b[0m \u001b[0;32mNone\u001b[0m\u001b[0;34m\u001b[0m\u001b[0;34m\u001b[0m\u001b[0m\n\u001b[1;32m   1043\u001b[0m \u001b[0;34m\u001b[0m\u001b[0m\n",
      "\u001b[0;32m~/mambaforge/envs/mactf/lib/python3.8/site-packages/joblib/parallel.py\u001b[0m in \u001b[0;36mdispatch_one_batch\u001b[0;34m(self, iterator)\u001b[0m\n\u001b[1;32m    857\u001b[0m                 \u001b[0;32mreturn\u001b[0m \u001b[0;32mFalse\u001b[0m\u001b[0;34m\u001b[0m\u001b[0;34m\u001b[0m\u001b[0m\n\u001b[1;32m    858\u001b[0m             \u001b[0;32melse\u001b[0m\u001b[0;34m:\u001b[0m\u001b[0;34m\u001b[0m\u001b[0;34m\u001b[0m\u001b[0m\n\u001b[0;32m--> 859\u001b[0;31m                 \u001b[0mself\u001b[0m\u001b[0;34m.\u001b[0m\u001b[0m_dispatch\u001b[0m\u001b[0;34m(\u001b[0m\u001b[0mtasks\u001b[0m\u001b[0;34m)\u001b[0m\u001b[0;34m\u001b[0m\u001b[0;34m\u001b[0m\u001b[0m\n\u001b[0m\u001b[1;32m    860\u001b[0m                 \u001b[0;32mreturn\u001b[0m \u001b[0;32mTrue\u001b[0m\u001b[0;34m\u001b[0m\u001b[0;34m\u001b[0m\u001b[0m\n\u001b[1;32m    861\u001b[0m \u001b[0;34m\u001b[0m\u001b[0m\n",
      "\u001b[0;32m~/mambaforge/envs/mactf/lib/python3.8/site-packages/joblib/parallel.py\u001b[0m in \u001b[0;36m_dispatch\u001b[0;34m(self, batch)\u001b[0m\n\u001b[1;32m    775\u001b[0m         \u001b[0;32mwith\u001b[0m \u001b[0mself\u001b[0m\u001b[0;34m.\u001b[0m\u001b[0m_lock\u001b[0m\u001b[0;34m:\u001b[0m\u001b[0;34m\u001b[0m\u001b[0;34m\u001b[0m\u001b[0m\n\u001b[1;32m    776\u001b[0m             \u001b[0mjob_idx\u001b[0m \u001b[0;34m=\u001b[0m \u001b[0mlen\u001b[0m\u001b[0;34m(\u001b[0m\u001b[0mself\u001b[0m\u001b[0;34m.\u001b[0m\u001b[0m_jobs\u001b[0m\u001b[0;34m)\u001b[0m\u001b[0;34m\u001b[0m\u001b[0;34m\u001b[0m\u001b[0m\n\u001b[0;32m--> 777\u001b[0;31m             \u001b[0mjob\u001b[0m \u001b[0;34m=\u001b[0m \u001b[0mself\u001b[0m\u001b[0;34m.\u001b[0m\u001b[0m_backend\u001b[0m\u001b[0;34m.\u001b[0m\u001b[0mapply_async\u001b[0m\u001b[0;34m(\u001b[0m\u001b[0mbatch\u001b[0m\u001b[0;34m,\u001b[0m \u001b[0mcallback\u001b[0m\u001b[0;34m=\u001b[0m\u001b[0mcb\u001b[0m\u001b[0;34m)\u001b[0m\u001b[0;34m\u001b[0m\u001b[0;34m\u001b[0m\u001b[0m\n\u001b[0m\u001b[1;32m    778\u001b[0m             \u001b[0;31m# A job can complete so quickly than its callback is\u001b[0m\u001b[0;34m\u001b[0m\u001b[0;34m\u001b[0m\u001b[0;34m\u001b[0m\u001b[0m\n\u001b[1;32m    779\u001b[0m             \u001b[0;31m# called before we get here, causing self._jobs to\u001b[0m\u001b[0;34m\u001b[0m\u001b[0;34m\u001b[0m\u001b[0;34m\u001b[0m\u001b[0m\n",
      "\u001b[0;32m~/mambaforge/envs/mactf/lib/python3.8/site-packages/joblib/_parallel_backends.py\u001b[0m in \u001b[0;36mapply_async\u001b[0;34m(self, func, callback)\u001b[0m\n\u001b[1;32m    206\u001b[0m     \u001b[0;32mdef\u001b[0m \u001b[0mapply_async\u001b[0m\u001b[0;34m(\u001b[0m\u001b[0mself\u001b[0m\u001b[0;34m,\u001b[0m \u001b[0mfunc\u001b[0m\u001b[0;34m,\u001b[0m \u001b[0mcallback\u001b[0m\u001b[0;34m=\u001b[0m\u001b[0;32mNone\u001b[0m\u001b[0;34m)\u001b[0m\u001b[0;34m:\u001b[0m\u001b[0;34m\u001b[0m\u001b[0;34m\u001b[0m\u001b[0m\n\u001b[1;32m    207\u001b[0m         \u001b[0;34m\"\"\"Schedule a func to be run\"\"\"\u001b[0m\u001b[0;34m\u001b[0m\u001b[0;34m\u001b[0m\u001b[0m\n\u001b[0;32m--> 208\u001b[0;31m         \u001b[0mresult\u001b[0m \u001b[0;34m=\u001b[0m \u001b[0mImmediateResult\u001b[0m\u001b[0;34m(\u001b[0m\u001b[0mfunc\u001b[0m\u001b[0;34m)\u001b[0m\u001b[0;34m\u001b[0m\u001b[0;34m\u001b[0m\u001b[0m\n\u001b[0m\u001b[1;32m    209\u001b[0m         \u001b[0;32mif\u001b[0m \u001b[0mcallback\u001b[0m\u001b[0;34m:\u001b[0m\u001b[0;34m\u001b[0m\u001b[0;34m\u001b[0m\u001b[0m\n\u001b[1;32m    210\u001b[0m             \u001b[0mcallback\u001b[0m\u001b[0;34m(\u001b[0m\u001b[0mresult\u001b[0m\u001b[0;34m)\u001b[0m\u001b[0;34m\u001b[0m\u001b[0;34m\u001b[0m\u001b[0m\n",
      "\u001b[0;32m~/mambaforge/envs/mactf/lib/python3.8/site-packages/joblib/_parallel_backends.py\u001b[0m in \u001b[0;36m__init__\u001b[0;34m(self, batch)\u001b[0m\n\u001b[1;32m    570\u001b[0m         \u001b[0;31m# Don't delay the application, to avoid keeping the input\u001b[0m\u001b[0;34m\u001b[0m\u001b[0;34m\u001b[0m\u001b[0;34m\u001b[0m\u001b[0m\n\u001b[1;32m    571\u001b[0m         \u001b[0;31m# arguments in memory\u001b[0m\u001b[0;34m\u001b[0m\u001b[0;34m\u001b[0m\u001b[0;34m\u001b[0m\u001b[0m\n\u001b[0;32m--> 572\u001b[0;31m         \u001b[0mself\u001b[0m\u001b[0;34m.\u001b[0m\u001b[0mresults\u001b[0m \u001b[0;34m=\u001b[0m \u001b[0mbatch\u001b[0m\u001b[0;34m(\u001b[0m\u001b[0;34m)\u001b[0m\u001b[0;34m\u001b[0m\u001b[0;34m\u001b[0m\u001b[0m\n\u001b[0m\u001b[1;32m    573\u001b[0m \u001b[0;34m\u001b[0m\u001b[0m\n\u001b[1;32m    574\u001b[0m     \u001b[0;32mdef\u001b[0m \u001b[0mget\u001b[0m\u001b[0;34m(\u001b[0m\u001b[0mself\u001b[0m\u001b[0;34m)\u001b[0m\u001b[0;34m:\u001b[0m\u001b[0;34m\u001b[0m\u001b[0;34m\u001b[0m\u001b[0m\n",
      "\u001b[0;32m~/mambaforge/envs/mactf/lib/python3.8/site-packages/joblib/parallel.py\u001b[0m in \u001b[0;36m__call__\u001b[0;34m(self)\u001b[0m\n\u001b[1;32m    260\u001b[0m         \u001b[0;31m# change the default number of processes to -1\u001b[0m\u001b[0;34m\u001b[0m\u001b[0;34m\u001b[0m\u001b[0;34m\u001b[0m\u001b[0m\n\u001b[1;32m    261\u001b[0m         \u001b[0;32mwith\u001b[0m \u001b[0mparallel_backend\u001b[0m\u001b[0;34m(\u001b[0m\u001b[0mself\u001b[0m\u001b[0;34m.\u001b[0m\u001b[0m_backend\u001b[0m\u001b[0;34m,\u001b[0m \u001b[0mn_jobs\u001b[0m\u001b[0;34m=\u001b[0m\u001b[0mself\u001b[0m\u001b[0;34m.\u001b[0m\u001b[0m_n_jobs\u001b[0m\u001b[0;34m)\u001b[0m\u001b[0;34m:\u001b[0m\u001b[0;34m\u001b[0m\u001b[0;34m\u001b[0m\u001b[0m\n\u001b[0;32m--> 262\u001b[0;31m             return [func(*args, **kwargs)\n\u001b[0m\u001b[1;32m    263\u001b[0m                     for func, args, kwargs in self.items]\n\u001b[1;32m    264\u001b[0m \u001b[0;34m\u001b[0m\u001b[0m\n",
      "\u001b[0;32m~/mambaforge/envs/mactf/lib/python3.8/site-packages/joblib/parallel.py\u001b[0m in \u001b[0;36m<listcomp>\u001b[0;34m(.0)\u001b[0m\n\u001b[1;32m    260\u001b[0m         \u001b[0;31m# change the default number of processes to -1\u001b[0m\u001b[0;34m\u001b[0m\u001b[0;34m\u001b[0m\u001b[0;34m\u001b[0m\u001b[0m\n\u001b[1;32m    261\u001b[0m         \u001b[0;32mwith\u001b[0m \u001b[0mparallel_backend\u001b[0m\u001b[0;34m(\u001b[0m\u001b[0mself\u001b[0m\u001b[0;34m.\u001b[0m\u001b[0m_backend\u001b[0m\u001b[0;34m,\u001b[0m \u001b[0mn_jobs\u001b[0m\u001b[0;34m=\u001b[0m\u001b[0mself\u001b[0m\u001b[0;34m.\u001b[0m\u001b[0m_n_jobs\u001b[0m\u001b[0;34m)\u001b[0m\u001b[0;34m:\u001b[0m\u001b[0;34m\u001b[0m\u001b[0;34m\u001b[0m\u001b[0m\n\u001b[0;32m--> 262\u001b[0;31m             return [func(*args, **kwargs)\n\u001b[0m\u001b[1;32m    263\u001b[0m                     for func, args, kwargs in self.items]\n\u001b[1;32m    264\u001b[0m \u001b[0;34m\u001b[0m\u001b[0m\n",
      "\u001b[0;32m~/mambaforge/envs/mactf/lib/python3.8/site-packages/surprise/model_selection/validation.py\u001b[0m in \u001b[0;36mfit_and_score\u001b[0;34m(algo, trainset, testset, measures, return_train_measures)\u001b[0m\n\u001b[1;32m    164\u001b[0m \u001b[0;34m\u001b[0m\u001b[0m\n\u001b[1;32m    165\u001b[0m     \u001b[0mstart_fit\u001b[0m \u001b[0;34m=\u001b[0m \u001b[0mtime\u001b[0m\u001b[0;34m.\u001b[0m\u001b[0mtime\u001b[0m\u001b[0;34m(\u001b[0m\u001b[0;34m)\u001b[0m\u001b[0;34m\u001b[0m\u001b[0;34m\u001b[0m\u001b[0m\n\u001b[0;32m--> 166\u001b[0;31m     \u001b[0malgo\u001b[0m\u001b[0;34m.\u001b[0m\u001b[0mfit\u001b[0m\u001b[0;34m(\u001b[0m\u001b[0mtrainset\u001b[0m\u001b[0;34m)\u001b[0m\u001b[0;34m\u001b[0m\u001b[0;34m\u001b[0m\u001b[0m\n\u001b[0m\u001b[1;32m    167\u001b[0m     \u001b[0mfit_time\u001b[0m \u001b[0;34m=\u001b[0m \u001b[0mtime\u001b[0m\u001b[0;34m.\u001b[0m\u001b[0mtime\u001b[0m\u001b[0;34m(\u001b[0m\u001b[0;34m)\u001b[0m \u001b[0;34m-\u001b[0m \u001b[0mstart_fit\u001b[0m\u001b[0;34m\u001b[0m\u001b[0;34m\u001b[0m\u001b[0m\n\u001b[1;32m    168\u001b[0m     \u001b[0mstart_test\u001b[0m \u001b[0;34m=\u001b[0m \u001b[0mtime\u001b[0m\u001b[0;34m.\u001b[0m\u001b[0mtime\u001b[0m\u001b[0;34m(\u001b[0m\u001b[0;34m)\u001b[0m\u001b[0;34m\u001b[0m\u001b[0;34m\u001b[0m\u001b[0m\n",
      "\u001b[0;32m~/mambaforge/envs/mactf/lib/python3.8/site-packages/surprise/prediction_algorithms/matrix_factorization.pyx\u001b[0m in \u001b[0;36msurprise.prediction_algorithms.matrix_factorization.NMF.fit\u001b[0;34m()\u001b[0m\n",
      "\u001b[0;32m~/mambaforge/envs/mactf/lib/python3.8/site-packages/surprise/prediction_algorithms/matrix_factorization.pyx\u001b[0m in \u001b[0;36msurprise.prediction_algorithms.matrix_factorization.NMF.sgd\u001b[0;34m()\u001b[0m\n",
      "\u001b[0;31mZeroDivisionError\u001b[0m: float division"
     ]
    }
   ],
   "source": [
    "# We'll use the SlopeOne algorithm.\n",
    "algo = NMF()\n",
    "\n",
    "# Run 5-fold cross-validation and print results\n",
    "nmf_validate =cross_validate(algo, data_model, measures=['RMSE', 'MAE'], cv=5, verbose=True)"
   ]
  },
  {
   "cell_type": "code",
   "execution_count": null,
   "id": "b4c744b8",
   "metadata": {},
   "outputs": [],
   "source": [
    "# Train the algorithm on the trainset, and predict ratings for the testset\n",
    "algo.fit(trainset)\n",
    "predictions = algo.test(testset)"
   ]
  },
  {
   "cell_type": "code",
   "execution_count": null,
   "id": "8b02ca0e",
   "metadata": {},
   "outputs": [],
   "source": [
    "# Let's build a pandas dataframe with all the predictions\n",
    "df = pd.DataFrame(predictions, columns=['uid', 'iid', 'rui', 'est', 'details'])    \n",
    "df['Iu'] = df.uid.apply(get_Iu)\n",
    "df['Ui'] = df.iid.apply(get_Ui)\n",
    "df['err'] = abs(df.est - df.rui)"
   ]
  },
  {
   "cell_type": "code",
   "execution_count": null,
   "id": "fba75d87",
   "metadata": {},
   "outputs": [],
   "source": [
    "df.sort_values(by='err')[:10]"
   ]
  },
  {
   "cell_type": "code",
   "execution_count": null,
   "id": "cb72f58e",
   "metadata": {},
   "outputs": [],
   "source": [
    "rmse = accuracy.rmse(predictions)\n",
    "print(\"RMSE -->\",rmse)\n",
    "print(\"Accuracy -->\",1-rmse)"
   ]
  },
  {
   "cell_type": "code",
   "execution_count": null,
   "id": "66184c59",
   "metadata": {},
   "outputs": [],
   "source": [
    "data_triplet = data_triplet.merge(df[[\"uid\",\"iid\",\"err\"]], left_on=\"ACCOUNT_NUM.hash\", right_on =\"uid\", how=\"left\")\n",
    "data_triplet.dropna(subset=[\"uid\"],inplace=True)\n",
    "data_triplet.drop(\"uid\", axis=1, inplace = True)\n",
    "data_triplet.rename(columns={\"iid\":\"NMF_recommendation\",\"err\":\"NMF_error\"}, inplace = True)"
   ]
  },
  {
   "cell_type": "code",
   "execution_count": 114,
   "id": "3e18c3f4",
   "metadata": {},
   "outputs": [
    {
     "data": {
      "text/html": [
       "<div>\n",
       "<style scoped>\n",
       "    .dataframe tbody tr th:only-of-type {\n",
       "        vertical-align: middle;\n",
       "    }\n",
       "\n",
       "    .dataframe tbody tr th {\n",
       "        vertical-align: top;\n",
       "    }\n",
       "\n",
       "    .dataframe thead th {\n",
       "        text-align: right;\n",
       "    }\n",
       "</style>\n",
       "<table border=\"1\" class=\"dataframe\">\n",
       "  <thead>\n",
       "    <tr style=\"text-align: right;\">\n",
       "      <th></th>\n",
       "      <th>ACCOUNT_NUM.hash</th>\n",
       "      <th>Actual_Subscription</th>\n",
       "      <th>usage</th>\n",
       "      <th>SVD_recommendation</th>\n",
       "      <th>SVD_error</th>\n",
       "      <th>SlopeOne_recommendation</th>\n",
       "      <th>SlopeOne_error</th>\n",
       "    </tr>\n",
       "  </thead>\n",
       "  <tbody>\n",
       "    <tr>\n",
       "      <th>0</th>\n",
       "      <td>9efd917f18bb5c966953b4227ddbaf43</td>\n",
       "      <td>TRIPLE_PLAY</td>\n",
       "      <td>0.304039</td>\n",
       "      <td>TRIPLE_PLAY</td>\n",
       "      <td>0.132850</td>\n",
       "      <td>TRIPLE_PLAY</td>\n",
       "      <td>0.018362</td>\n",
       "    </tr>\n",
       "    <tr>\n",
       "      <th>1</th>\n",
       "      <td>2240d11b0d9ee8f6d9e8972c6190aa42</td>\n",
       "      <td>SINGLE_PLAY</td>\n",
       "      <td>0.006179</td>\n",
       "      <td>SINGLE_PLAY</td>\n",
       "      <td>0.157817</td>\n",
       "      <td>SINGLE_PLAY</td>\n",
       "      <td>0.316222</td>\n",
       "    </tr>\n",
       "    <tr>\n",
       "      <th>2</th>\n",
       "      <td>4ec311c23978ae3c219aeaff96c5c4ff</td>\n",
       "      <td>DOUBLE_PLAY_PV</td>\n",
       "      <td>0.124137</td>\n",
       "      <td>DOUBLE_PLAY_PV</td>\n",
       "      <td>0.245129</td>\n",
       "      <td>DOUBLE_PLAY_PV</td>\n",
       "      <td>0.198264</td>\n",
       "    </tr>\n",
       "    <tr>\n",
       "      <th>3</th>\n",
       "      <td>be817326aeeab3a40aae1e5d04ef7b9c</td>\n",
       "      <td>DOUBLE_PLAY_BV</td>\n",
       "      <td>0.346747</td>\n",
       "      <td>DOUBLE_PLAY_BV</td>\n",
       "      <td>0.088402</td>\n",
       "      <td>DOUBLE_PLAY_BV</td>\n",
       "      <td>0.024346</td>\n",
       "    </tr>\n",
       "    <tr>\n",
       "      <th>4</th>\n",
       "      <td>d46578e724259a3706db0c910a934581</td>\n",
       "      <td>DOUBLE_PLAY_BV</td>\n",
       "      <td>0.148047</td>\n",
       "      <td>DOUBLE_PLAY_BV</td>\n",
       "      <td>0.110299</td>\n",
       "      <td>DOUBLE_PLAY_BV</td>\n",
       "      <td>0.174354</td>\n",
       "    </tr>\n",
       "    <tr>\n",
       "      <th>...</th>\n",
       "      <td>...</td>\n",
       "      <td>...</td>\n",
       "      <td>...</td>\n",
       "      <td>...</td>\n",
       "      <td>...</td>\n",
       "      <td>...</td>\n",
       "      <td>...</td>\n",
       "    </tr>\n",
       "    <tr>\n",
       "      <th>8514</th>\n",
       "      <td>00478c7a0ea164b3e5bc89d86e5fa5bb</td>\n",
       "      <td>DOUBLE_PLAY_BV</td>\n",
       "      <td>0.250729</td>\n",
       "      <td>DOUBLE_PLAY_BV</td>\n",
       "      <td>0.007617</td>\n",
       "      <td>DOUBLE_PLAY_BV</td>\n",
       "      <td>0.071672</td>\n",
       "    </tr>\n",
       "    <tr>\n",
       "      <th>8515</th>\n",
       "      <td>9a040b37d7c557e0f4f7fea33382af0b</td>\n",
       "      <td>DOUBLE_PLAY_BV</td>\n",
       "      <td>0.336425</td>\n",
       "      <td>DOUBLE_PLAY_BV</td>\n",
       "      <td>0.078079</td>\n",
       "      <td>DOUBLE_PLAY_BV</td>\n",
       "      <td>0.014024</td>\n",
       "    </tr>\n",
       "    <tr>\n",
       "      <th>8516</th>\n",
       "      <td>bf06f38320e11843132d13c87566d5d4</td>\n",
       "      <td>TRIPLE_PLAY</td>\n",
       "      <td>0.267606</td>\n",
       "      <td>TRIPLE_PLAY</td>\n",
       "      <td>0.169283</td>\n",
       "      <td>TRIPLE_PLAY</td>\n",
       "      <td>0.054795</td>\n",
       "    </tr>\n",
       "    <tr>\n",
       "      <th>8517</th>\n",
       "      <td>fefbb242be644eefcc2c5f2053d017f2</td>\n",
       "      <td>DOUBLE_PLAY_PV</td>\n",
       "      <td>0.111174</td>\n",
       "      <td>DOUBLE_PLAY_PV</td>\n",
       "      <td>0.258092</td>\n",
       "      <td>DOUBLE_PLAY_PV</td>\n",
       "      <td>0.211227</td>\n",
       "    </tr>\n",
       "    <tr>\n",
       "      <th>8518</th>\n",
       "      <td>c217fb1b44642e79e56af9111e9c00b2</td>\n",
       "      <td>TRIPLE_PLAY</td>\n",
       "      <td>0.799978</td>\n",
       "      <td>TRIPLE_PLAY</td>\n",
       "      <td>0.363089</td>\n",
       "      <td>TRIPLE_PLAY</td>\n",
       "      <td>0.477577</td>\n",
       "    </tr>\n",
       "  </tbody>\n",
       "</table>\n",
       "<p>8519 rows × 7 columns</p>\n",
       "</div>"
      ],
      "text/plain": [
       "                      ACCOUNT_NUM.hash Actual_Subscription     usage  \\\n",
       "0     9efd917f18bb5c966953b4227ddbaf43         TRIPLE_PLAY  0.304039   \n",
       "1     2240d11b0d9ee8f6d9e8972c6190aa42         SINGLE_PLAY  0.006179   \n",
       "2     4ec311c23978ae3c219aeaff96c5c4ff      DOUBLE_PLAY_PV  0.124137   \n",
       "3     be817326aeeab3a40aae1e5d04ef7b9c      DOUBLE_PLAY_BV  0.346747   \n",
       "4     d46578e724259a3706db0c910a934581      DOUBLE_PLAY_BV  0.148047   \n",
       "...                                ...                 ...       ...   \n",
       "8514  00478c7a0ea164b3e5bc89d86e5fa5bb      DOUBLE_PLAY_BV  0.250729   \n",
       "8515  9a040b37d7c557e0f4f7fea33382af0b      DOUBLE_PLAY_BV  0.336425   \n",
       "8516  bf06f38320e11843132d13c87566d5d4         TRIPLE_PLAY  0.267606   \n",
       "8517  fefbb242be644eefcc2c5f2053d017f2      DOUBLE_PLAY_PV  0.111174   \n",
       "8518  c217fb1b44642e79e56af9111e9c00b2         TRIPLE_PLAY  0.799978   \n",
       "\n",
       "     SVD_recommendation  SVD_error SlopeOne_recommendation  SlopeOne_error  \n",
       "0           TRIPLE_PLAY   0.132850             TRIPLE_PLAY        0.018362  \n",
       "1           SINGLE_PLAY   0.157817             SINGLE_PLAY        0.316222  \n",
       "2        DOUBLE_PLAY_PV   0.245129          DOUBLE_PLAY_PV        0.198264  \n",
       "3        DOUBLE_PLAY_BV   0.088402          DOUBLE_PLAY_BV        0.024346  \n",
       "4        DOUBLE_PLAY_BV   0.110299          DOUBLE_PLAY_BV        0.174354  \n",
       "...                 ...        ...                     ...             ...  \n",
       "8514     DOUBLE_PLAY_BV   0.007617          DOUBLE_PLAY_BV        0.071672  \n",
       "8515     DOUBLE_PLAY_BV   0.078079          DOUBLE_PLAY_BV        0.014024  \n",
       "8516        TRIPLE_PLAY   0.169283             TRIPLE_PLAY        0.054795  \n",
       "8517     DOUBLE_PLAY_PV   0.258092          DOUBLE_PLAY_PV        0.211227  \n",
       "8518        TRIPLE_PLAY   0.363089             TRIPLE_PLAY        0.477577  \n",
       "\n",
       "[8519 rows x 7 columns]"
      ]
     },
     "execution_count": 114,
     "metadata": {},
     "output_type": "execute_result"
    }
   ],
   "source": [
    "data_triplet"
   ]
  },
  {
   "cell_type": "code",
   "execution_count": 113,
   "id": "ab3abed0",
   "metadata": {},
   "outputs": [],
   "source": [
    "data_triplet.to_csv(\"data/up-selling-scored/CF_scored_and_eval.csv\")"
   ]
  },
  {
   "cell_type": "code",
   "execution_count": null,
   "id": "5c3c1202",
   "metadata": {},
   "outputs": [],
   "source": []
  }
 ],
 "metadata": {
  "kernelspec": {
   "display_name": "Python 3 (ipykernel)",
   "language": "python",
   "name": "python3"
  },
  "language_info": {
   "codemirror_mode": {
    "name": "ipython",
    "version": 3
   },
   "file_extension": ".py",
   "mimetype": "text/x-python",
   "name": "python",
   "nbconvert_exporter": "python",
   "pygments_lexer": "ipython3",
   "version": "3.8.12"
  }
 },
 "nbformat": 4,
 "nbformat_minor": 5
}
