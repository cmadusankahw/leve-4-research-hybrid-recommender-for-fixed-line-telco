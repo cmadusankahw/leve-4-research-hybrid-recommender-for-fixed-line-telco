{
 "cells": [
  {
   "cell_type": "code",
   "execution_count": 1,
   "metadata": {},
   "outputs": [],
   "source": [
    "import pandas as pd\n",
    "from math import nan"
   ]
  },
  {
   "cell_type": "code",
   "execution_count": 2,
   "metadata": {},
   "outputs": [],
   "source": [
    "user_content = pd.read_csv(\"data/azure/BB_user_content.csv\")"
   ]
  },
  {
   "cell_type": "code",
   "execution_count": 3,
   "metadata": {},
   "outputs": [],
   "source": [
    "scored_df = pd.read_parquet(\"data/azure/scored/bb_scored.parquet\")"
   ]
  },
  {
   "cell_type": "markdown",
   "metadata": {},
   "source": [
    "### reules Definition"
   ]
  },
  {
   "cell_type": "code",
   "execution_count": 4,
   "metadata": {},
   "outputs": [],
   "source": [
    "package_name = \"BB_Package\"\n",
    "bb_order = [\"STUDENT PACKAGE 1\", \"LITE\", \"ENTREE\", \"STARTER\", \"STUDENT PACKAGE 2\", \"JOY\", \"PAL\", \"BEAT\", \"FAMILY PLUS\", \"FLIX\", \"FAMILY ACTIVE\", \"BLAZE\", \"FAMILY XTRA\", \"TIDE\", \"BOOSTER\", \"SPIKE\", \"PRO\",\"STROM\", \"MASTER\", \"GLAM\", \"CHAMP\", \"DELIGHT\", \"LIFE\", \"XTREME\", \"INSPIRE\", \"PREMIER\"]"
   ]
  },
  {
   "cell_type": "code",
   "execution_count": 7,
   "metadata": {},
   "outputs": [],
   "source": [
    "\"\"\"\n",
    "    Package Filtration by type\n",
    "\"\"\"\n",
    "def filter_packages_by_name(pack_name,col):\n",
    "    if not isinstance(col, float) and not isinstance (pack_name, float):\n",
    "        if \"LTE\" in pack_name:\n",
    "            if \"LTE\" in col or \"FTTH\" not in col:\n",
    "                return col\n",
    "        if \"Megaline\" in pack_name:\n",
    "            if \"LTE\" not in col:\n",
    "                return col\n",
    "        if \"FTTH\" in pack_name:\n",
    "            if \"LTE\" not in col and \"FTTH\" in col:\n",
    "                return col\n",
    "        if \"NO_INFO\" in pack_name or \"NO INFO\" in pack_name:\n",
    "            return col\n",
    "\n",
    "\"\"\"\n",
    "    Check subscription \n",
    "\"\"\"\n",
    "def filter_packages_by_subscription(is_sub,col):\n",
    "    if not isinstance(is_sub, float):\n",
    "        if \"YES\" in is_sub:\n",
    "            return col\n",
    "        if \"NO_INFO\" in is_sub or \"NO INFO\" in is_sub:\n",
    "            return col\n",
    "\n",
    "\"\"\"\n",
    "    Check if suspended\n",
    "\"\"\"\n",
    "def filter_packages_if_suspended(is_suspended,col):\n",
    "    if not isinstance(is_suspended, float):\n",
    "        if \"INSERVICE\" in is_suspended:\n",
    "            return col\n",
    "        if \"NO_INFO\" in is_suspended or \"NO INFO\" in is_suspended:\n",
    "            return col\n",
    "\n",
    "\n",
    "\"\"\"\n",
    "    Order by most prefrable package\n",
    "\"\"\"\n",
    "def order_packages_common(col_arr):\n",
    "    if not isinstance(col_arr, float) and len(col_arr)>0:\n",
    "        new_arr = []\n",
    "        for col in col_arr:\n",
    "            if col is not None:\n",
    "                if \"FTTH\" in col:\n",
    "                    new_arr.append(col)\n",
    "                    col_arr.remove(col)\n",
    "        for col in col_arr:\n",
    "            if col is not None:\n",
    "                if \"LTE\" not in col:\n",
    "                    new_arr.append(col)\n",
    "                    col_arr.remove(col)\n",
    "        new_arr = new_arr + col_arr \n",
    "        return new_arr\n",
    "\n",
    "\n",
    "\"\"\"\n",
    "    Filter by most prefrable BB package\n",
    "\"\"\"\n",
    "def filter_packages_by_list(ori_pack, col, ord_list):\n",
    "    if not isinstance(col, float) and not isinstance(ori_pack, float):\n",
    "        pack_pos = 0\n",
    "        for item in ord_list:\n",
    "            if item in ori_pack:\n",
    "                pack_pos = ord_list.index(item)\n",
    "        comp_list = ord_list[:pack_pos]\n",
    "        for item in comp_list:\n",
    "            if item in col:\n",
    "                return nan\n",
    "        return col "
   ]
  },
  {
   "cell_type": "code",
   "execution_count": 8,
   "metadata": {},
   "outputs": [],
   "source": [
    "scored_df = scored_df.merge(user_content[[\"ACCOUNT_NUM.hash\",package_name,\"is_Subscription\",\"Product_Type\"]].drop_duplicates([\"ACCOUNT_NUM.hash\",package_name]),left_on=\"User\", right_on=\"ACCOUNT_NUM.hash\", how=\"left\").drop(\"ACCOUNT_NUM.hash\",axis=1)"
   ]
  },
  {
   "cell_type": "code",
   "execution_count": 9,
   "metadata": {},
   "outputs": [],
   "source": [
    "recommender_cols = [\"Recommended Item 1\",\"Recommended Item 2\",\"Recommended Item 3\",\"Recommended Item 4\",\"Recommended Item 5\"]"
   ]
  },
  {
   "cell_type": "markdown",
   "metadata": {},
   "source": [
    "### Applying Rules"
   ]
  },
  {
   "cell_type": "code",
   "execution_count": 10,
   "metadata": {},
   "outputs": [],
   "source": [
    "for col in recommender_cols:\n",
    "    scored_df[col] = scored_df.apply(lambda x: filter_packages_by_list(x[package_name],x[col],bb_order), axis=1)"
   ]
  },
  {
   "cell_type": "code",
   "execution_count": 11,
   "metadata": {},
   "outputs": [],
   "source": [
    "# for col in recommender_cols:\n",
    "#     scored_df[col] = scored_df.apply(lambda x: filter_packages_by_subscription(x[\"is_Subscription\"],x[col]), axis=1)"
   ]
  },
  {
   "cell_type": "code",
   "execution_count": 12,
   "metadata": {},
   "outputs": [],
   "source": [
    "# for col in recommender_cols:\n",
    "#     scored_df[col] = scored_df.apply(lambda x: filter_packages_if_suspended(x[\"Service_Status\"],x[col]), axis=1)"
   ]
  },
  {
   "cell_type": "code",
   "execution_count": 13,
   "metadata": {},
   "outputs": [],
   "source": [
    "for col in recommender_cols:\n",
    "    scored_df[col] = scored_df.apply(lambda x: filter_packages_by_name(x[\"Product_Type\"],x[col]), axis=1)"
   ]
  },
  {
   "cell_type": "code",
   "execution_count": 14,
   "metadata": {},
   "outputs": [],
   "source": [
    "### Order packages\n",
    "scored_df[\"Recommendations_Ordered\"] = scored_df.apply(lambda x: order_packages_common([x[recommender_cols[1]], x[recommender_cols[2]], x[recommender_cols[3]], x[recommender_cols[4]]]), axis=1)"
   ]
  },
  {
   "cell_type": "code",
   "execution_count": 15,
   "metadata": {},
   "outputs": [],
   "source": [
    "scored_df.dropna(subset=recommender_cols,inplace=True)"
   ]
  },
  {
   "cell_type": "code",
   "execution_count": 16,
   "metadata": {},
   "outputs": [],
   "source": [
    "scored_df.drop([package_name,\"is_Subscription\",\"Product_Type\"],axis=1, inplace=True)"
   ]
  },
  {
   "cell_type": "code",
   "execution_count": 17,
   "metadata": {},
   "outputs": [
    {
     "data": {
      "text/plain": [
       "(4248, 12)"
      ]
     },
     "execution_count": 17,
     "metadata": {},
     "output_type": "execute_result"
    }
   ],
   "source": [
    "# test\n",
    "scored_df.shape"
   ]
  },
  {
   "cell_type": "markdown",
   "metadata": {},
   "source": [
    "## Filter by Confidence of Recommendations"
   ]
  },
  {
   "cell_type": "code",
   "execution_count": 18,
   "metadata": {},
   "outputs": [],
   "source": [
    "rated_df = scored_df.describe()"
   ]
  },
  {
   "cell_type": "code",
   "execution_count": 19,
   "metadata": {},
   "outputs": [],
   "source": [
    "def filter_by_confidence(data_df, col_list):\n",
    "    i = 0\n",
    "    for col in col_list:\n",
    "        if col > data_df.iloc[1,i]:\n",
    "            return \"YES\"\n",
    "        i = i +1\n",
    "    return \"NO\""
   ]
  },
  {
   "cell_type": "code",
   "execution_count": 20,
   "metadata": {},
   "outputs": [],
   "source": [
    "scored_df[\"Best_Recommendations\"] = scored_df.apply(lambda x: filter_by_confidence(rated_df,[x[\"Predicted Rating 1\"],x[\"Predicted Rating 2\"],x[\"Predicted Rating 3\"],x[\"Predicted Rating 4\"],x[\"Predicted Rating 5\"]]), axis=1)"
   ]
  },
  {
   "cell_type": "code",
   "execution_count": 21,
   "metadata": {},
   "outputs": [
    {
     "data": {
      "text/plain": [
       "NO     2603\n",
       "YES    1645\n",
       "Name: Best_Recommendations, dtype: int64"
      ]
     },
     "execution_count": 21,
     "metadata": {},
     "output_type": "execute_result"
    }
   ],
   "source": [
    "scored_df[\"Best_Recommendations\"].value_counts()"
   ]
  },
  {
   "cell_type": "code",
   "execution_count": 22,
   "metadata": {},
   "outputs": [],
   "source": [
    "scored_df.drop([\"Predicted Rating 1\",\"Predicted Rating 2\",\"Predicted Rating 3\",\"Predicted Rating 4\",\"Predicted Rating 5\"],axis=1, inplace=True)"
   ]
  },
  {
   "cell_type": "code",
   "execution_count": 23,
   "metadata": {},
   "outputs": [
    {
     "data": {
      "text/html": [
       "<div>\n",
       "<style scoped>\n",
       "    .dataframe tbody tr th:only-of-type {\n",
       "        vertical-align: middle;\n",
       "    }\n",
       "\n",
       "    .dataframe tbody tr th {\n",
       "        vertical-align: top;\n",
       "    }\n",
       "\n",
       "    .dataframe thead th {\n",
       "        text-align: right;\n",
       "    }\n",
       "</style>\n",
       "<table border=\"1\" class=\"dataframe\">\n",
       "  <thead>\n",
       "    <tr style=\"text-align: right;\">\n",
       "      <th></th>\n",
       "      <th>User</th>\n",
       "      <th>Recommended Item 1</th>\n",
       "      <th>Recommended Item 2</th>\n",
       "      <th>Recommended Item 3</th>\n",
       "      <th>Recommended Item 4</th>\n",
       "      <th>Recommended Item 5</th>\n",
       "      <th>Recommendations_Ordered</th>\n",
       "      <th>Best_Recommendations</th>\n",
       "    </tr>\n",
       "  </thead>\n",
       "  <tbody>\n",
       "    <tr>\n",
       "      <th>0</th>\n",
       "      <td>000f325a72b9d24742237070939b57d1</td>\n",
       "      <td>WEB PRO</td>\n",
       "      <td>FTTH_WEB CHAMP</td>\n",
       "      <td>FTTH_WEB INSPIRE</td>\n",
       "      <td>FTTH_WEB MASTER</td>\n",
       "      <td>FTTH_WEB LIFE</td>\n",
       "      <td>[FTTH_WEB CHAMP, FTTH_WEB MASTER, FTTH_WEB INS...</td>\n",
       "      <td>NO</td>\n",
       "    </tr>\n",
       "    <tr>\n",
       "      <th>1</th>\n",
       "      <td>0011c1b02e2403c74c75ae8b5582e018</td>\n",
       "      <td>WEB PRO</td>\n",
       "      <td>FTTH_WEB INSPIRE</td>\n",
       "      <td>LTE_ANY TIDE</td>\n",
       "      <td>FTTH_WEB CHAMP</td>\n",
       "      <td>FTTH_WEB LIFE</td>\n",
       "      <td>[FTTH_WEB INSPIRE, FTTH_WEB CHAMP, FTTH_WEB LI...</td>\n",
       "      <td>NO</td>\n",
       "    </tr>\n",
       "    <tr>\n",
       "      <th>3</th>\n",
       "      <td>001e2b18f91f221782a539608896254d</td>\n",
       "      <td>FTTH_WEB INSPIRE</td>\n",
       "      <td>WEB PRO</td>\n",
       "      <td>FTTH_WEB LIFE</td>\n",
       "      <td>FTTH_WEB CHAMP</td>\n",
       "      <td>FTTH_WEB MASTER</td>\n",
       "      <td>[FTTH_WEB LIFE, FTTH_WEB MASTER, WEB PRO, FTTH...</td>\n",
       "      <td>YES</td>\n",
       "    </tr>\n",
       "    <tr>\n",
       "      <th>4</th>\n",
       "      <td>00368aec50ec17b5b9f20309145c56e7</td>\n",
       "      <td>FTTH_WEB INSPIRE</td>\n",
       "      <td>FTTH_WEB CHAMP</td>\n",
       "      <td>WEB PRO</td>\n",
       "      <td>FTTH_WEB LIFE</td>\n",
       "      <td>FTTH_WEB MASTER</td>\n",
       "      <td>[FTTH_WEB CHAMP, FTTH_WEB LIFE, WEB PRO, FTTH_...</td>\n",
       "      <td>NO</td>\n",
       "    </tr>\n",
       "    <tr>\n",
       "      <th>5</th>\n",
       "      <td>0041ac2bc47fc302ae3bc9c8c5db5618</td>\n",
       "      <td>FTTH_WEB INSPIRE</td>\n",
       "      <td>FTTH_WEB CHAMP</td>\n",
       "      <td>WEB PRO</td>\n",
       "      <td>FTTH_WEB LIFE</td>\n",
       "      <td>LTE_ANY TIDE</td>\n",
       "      <td>[FTTH_WEB CHAMP, FTTH_WEB LIFE, WEB PRO, LTE_A...</td>\n",
       "      <td>YES</td>\n",
       "    </tr>\n",
       "  </tbody>\n",
       "</table>\n",
       "</div>"
      ],
      "text/plain": [
       "                               User Recommended Item 1 Recommended Item 2  \\\n",
       "0  000f325a72b9d24742237070939b57d1            WEB PRO     FTTH_WEB CHAMP   \n",
       "1  0011c1b02e2403c74c75ae8b5582e018            WEB PRO   FTTH_WEB INSPIRE   \n",
       "3  001e2b18f91f221782a539608896254d   FTTH_WEB INSPIRE            WEB PRO   \n",
       "4  00368aec50ec17b5b9f20309145c56e7   FTTH_WEB INSPIRE     FTTH_WEB CHAMP   \n",
       "5  0041ac2bc47fc302ae3bc9c8c5db5618   FTTH_WEB INSPIRE     FTTH_WEB CHAMP   \n",
       "\n",
       "  Recommended Item 3 Recommended Item 4 Recommended Item 5  \\\n",
       "0   FTTH_WEB INSPIRE    FTTH_WEB MASTER      FTTH_WEB LIFE   \n",
       "1       LTE_ANY TIDE     FTTH_WEB CHAMP      FTTH_WEB LIFE   \n",
       "3      FTTH_WEB LIFE     FTTH_WEB CHAMP    FTTH_WEB MASTER   \n",
       "4            WEB PRO      FTTH_WEB LIFE    FTTH_WEB MASTER   \n",
       "5            WEB PRO      FTTH_WEB LIFE       LTE_ANY TIDE   \n",
       "\n",
       "                             Recommendations_Ordered Best_Recommendations  \n",
       "0  [FTTH_WEB CHAMP, FTTH_WEB MASTER, FTTH_WEB INS...                   NO  \n",
       "1  [FTTH_WEB INSPIRE, FTTH_WEB CHAMP, FTTH_WEB LI...                   NO  \n",
       "3  [FTTH_WEB LIFE, FTTH_WEB MASTER, WEB PRO, FTTH...                  YES  \n",
       "4  [FTTH_WEB CHAMP, FTTH_WEB LIFE, WEB PRO, FTTH_...                   NO  \n",
       "5  [FTTH_WEB CHAMP, FTTH_WEB LIFE, WEB PRO, LTE_A...                  YES  "
      ]
     },
     "execution_count": 23,
     "metadata": {},
     "output_type": "execute_result"
    }
   ],
   "source": [
    "scored_df.head()"
   ]
  },
  {
   "cell_type": "code",
   "execution_count": 24,
   "metadata": {},
   "outputs": [],
   "source": [
    "scored_df.to_csv(\"data/azure/scored/bb_scored_filterd.csv\")"
   ]
  },
  {
   "cell_type": "code",
   "execution_count": null,
   "metadata": {},
   "outputs": [],
   "source": []
  }
 ],
 "metadata": {
  "kernelspec": {
   "display_name": "Python 3 (ipykernel)",
   "language": "python",
   "name": "python3"
  },
  "language_info": {
   "codemirror_mode": {
    "name": "ipython",
    "version": 3
   },
   "file_extension": ".py",
   "mimetype": "text/x-python",
   "name": "python",
   "nbconvert_exporter": "python",
   "pygments_lexer": "ipython3",
   "version": "3.8.12"
  }
 },
 "nbformat": 4,
 "nbformat_minor": 4
}
