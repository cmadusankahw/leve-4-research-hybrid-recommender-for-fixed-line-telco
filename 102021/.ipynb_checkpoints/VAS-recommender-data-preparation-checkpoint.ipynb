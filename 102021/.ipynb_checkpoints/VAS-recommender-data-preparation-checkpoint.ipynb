{
 "cells": [
  {
   "cell_type": "code",
   "execution_count": 135,
   "metadata": {},
   "outputs": [],
   "source": [
    "# import libraries\n",
    "import numpy as np\n",
    "import pandas as pd\n",
    "import seaborn as sns\n",
    "import matplotlib.pyplot as plt\n",
    "from sklearn.preprocessing import MinMaxScaler\n",
    "import ast"
   ]
  },
  {
   "cell_type": "code",
   "execution_count": 136,
   "metadata": {},
   "outputs": [],
   "source": [
    "user_profile = pd.read_csv(\"data/user_profile/prepared/User_Profile.csv\")"
   ]
  },
  {
   "cell_type": "code",
   "execution_count": 137,
   "metadata": {},
   "outputs": [],
   "source": [
    "vas_final_df = pd.read_csv(\"data/user_profile/Package_Final_list.csv\")"
   ]
  },
  {
   "cell_type": "code",
   "execution_count": 138,
   "metadata": {},
   "outputs": [],
   "source": [
    "def megaline_vas(vas):\n",
    "    if 'Megaline' in vas:\n",
    "        return \"YES\""
   ]
  },
  {
   "cell_type": "code",
   "execution_count": 139,
   "metadata": {},
   "outputs": [],
   "source": [
    "def ftth_vas(vas):\n",
    "    if 'FTTH' in vas:\n",
    "        return \"YES\""
   ]
  },
  {
   "cell_type": "code",
   "execution_count": 140,
   "metadata": {},
   "outputs": [],
   "source": [
    "vas_final_df.drop([\"Unnamed: 0\",\"One_Time_Charge\"],axis=1,inplace=True)"
   ]
  },
  {
   "cell_type": "code",
   "execution_count": 141,
   "metadata": {},
   "outputs": [
    {
     "data": {
      "text/plain": [
       "NO     52931\n",
       "YES     9192\n",
       "Name: is_VAS, dtype: int64"
      ]
     },
     "execution_count": 141,
     "metadata": {},
     "output_type": "execute_result"
    }
   ],
   "source": [
    "vas_final_df[\"is_VAS\"].value_counts()"
   ]
  },
  {
   "cell_type": "code",
   "execution_count": 142,
   "metadata": {},
   "outputs": [
    {
     "data": {
      "text/plain": [
       "YES    45925\n",
       "NO     16198\n",
       "Name: is_Subscription, dtype: int64"
      ]
     },
     "execution_count": 142,
     "metadata": {},
     "output_type": "execute_result"
    }
   ],
   "source": [
    "vas_final_df[\"is_Subscription\"].value_counts()"
   ]
  },
  {
   "cell_type": "code",
   "execution_count": 143,
   "metadata": {},
   "outputs": [],
   "source": [
    "vas_final_df = vas_final_df[(vas_final_df[\"FREE_or_PAID\"] != \"FREE\")]"
   ]
  },
  {
   "cell_type": "code",
   "execution_count": 144,
   "metadata": {},
   "outputs": [],
   "source": [
    "vas_final_df = vas_final_df[(vas_final_df[\"is_VAS\"] == \"YES\")]"
   ]
  },
  {
   "cell_type": "code",
   "execution_count": 145,
   "metadata": {},
   "outputs": [],
   "source": [
    "vas_final_df = vas_final_df[[\"ACCOUNT_NUM.hash\",\"Package\",\"Rental\"]]"
   ]
  },
  {
   "cell_type": "code",
   "execution_count": 146,
   "metadata": {},
   "outputs": [
    {
     "data": {
      "text/plain": [
       "ACCOUNT_NUM.hash                  Package                      \n",
       "bd0cc5e96b24df6625fc68cbaf71b555  BB Report Subscription Charge    60\n",
       "4c7a4769273c7a2eb4860a09f6376a70  BB Report Subscription Charge    35\n",
       "729e0a0a75015a8908d0989386f4454e  Meet Max                         33\n",
       "8d8472d39b270801553f2d5e7c06fe22  BB Report Subscription Charge    30\n",
       "cc88c49f580c13600e99dfd9920d05e9  BB Report Subscription Charge    26\n",
       "                                                                   ..\n",
       "713aa417c219621eb60e65c2f05d3d22  AB Service Vacation               1\n",
       "7176a9583c08811399dda24fa5dfc7e7  Basic Phone Installment           1\n",
       "7187391b66100468034c6a404568e258  Basic1 TeleLife                   1\n",
       "71a4336530295c2214c34da55f5ce115  Basic1 TeleLife                   1\n",
       "7b02996f8fd2ce388417eb6ac225235e  AB Service Vacation               1\n",
       "Length: 1634, dtype: int64"
      ]
     },
     "execution_count": 146,
     "metadata": {},
     "output_type": "execute_result"
    }
   ],
   "source": [
    "vas_final_df[['ACCOUNT_NUM.hash','Package']].value_counts()"
   ]
  },
  {
   "cell_type": "markdown",
   "metadata": {},
   "source": [
    "## User - package ratings"
   ]
  },
  {
   "cell_type": "code",
   "execution_count": 147,
   "metadata": {},
   "outputs": [],
   "source": [
    "vas_final_df[\"tempCount\"]=1"
   ]
  },
  {
   "cell_type": "code",
   "execution_count": 148,
   "metadata": {},
   "outputs": [],
   "source": [
    "vas_agg_df = vas_final_df.groupby(['ACCOUNT_NUM.hash','Package']).agg(list)"
   ]
  },
  {
   "cell_type": "code",
   "execution_count": 149,
   "metadata": {},
   "outputs": [],
   "source": [
    "vas_agg_df.reset_index(level=0, inplace=True)\n",
    "vas_agg_df.reset_index(level=0, inplace=True)"
   ]
  },
  {
   "cell_type": "code",
   "execution_count": 150,
   "metadata": {},
   "outputs": [],
   "source": [
    "vas_agg_df[\"tempCount\"] = vas_agg_df[\"tempCount\"].apply(lambda x: sum(x))"
   ]
  },
  {
   "cell_type": "code",
   "execution_count": 151,
   "metadata": {},
   "outputs": [],
   "source": [
    "vas_agg_df[\"Rental\"] = vas_agg_df[\"Rental\"].apply(lambda x: x[0])"
   ]
  },
  {
   "cell_type": "code",
   "execution_count": 152,
   "metadata": {},
   "outputs": [],
   "source": [
    "vas_agg_df[[\"Rental\",\"tempCount\"]] = vas_agg_df[[\"Rental\",\"tempCount\"]].fillna(0)"
   ]
  },
  {
   "cell_type": "code",
   "execution_count": 153,
   "metadata": {},
   "outputs": [],
   "source": [
    "vas_agg_df[\"ratings\"] =  vas_agg_df.apply(lambda x: x[\"Rental\"]*x[\"Rental\"],axis=1)"
   ]
  },
  {
   "cell_type": "code",
   "execution_count": 154,
   "metadata": {},
   "outputs": [],
   "source": [
    "vas_agg_df.drop([\"Rental\",\"tempCount\"],axis=1,inplace=True)"
   ]
  },
  {
   "cell_type": "code",
   "execution_count": 155,
   "metadata": {},
   "outputs": [],
   "source": [
    "vas_agg_df.rename(columns={\"Package\":\"package\"},inplace=True)"
   ]
  },
  {
   "cell_type": "code",
   "execution_count": 156,
   "metadata": {},
   "outputs": [],
   "source": [
    "vas_agg_df= vas_agg_df[[\"ACCOUNT_NUM.hash\",\"package\",\"ratings\"]]"
   ]
  },
  {
   "cell_type": "code",
   "execution_count": 157,
   "metadata": {},
   "outputs": [
    {
     "name": "stdout",
     "output_type": "stream",
     "text": [
      "<class 'pandas.core.frame.DataFrame'>\n",
      "RangeIndex: 1634 entries, 0 to 1633\n",
      "Data columns (total 3 columns):\n",
      " #   Column            Non-Null Count  Dtype  \n",
      "---  ------            --------------  -----  \n",
      " 0   ACCOUNT_NUM.hash  1634 non-null   object \n",
      " 1   package           1634 non-null   object \n",
      " 2   ratings           1634 non-null   float64\n",
      "dtypes: float64(1), object(2)\n",
      "memory usage: 38.4+ KB\n"
     ]
    }
   ],
   "source": [
    "vas_agg_df.info()"
   ]
  },
  {
   "cell_type": "code",
   "execution_count": 109,
   "metadata": {},
   "outputs": [],
   "source": [
    "scaler = MinMaxScaler()\n",
    "vas_agg_df[\"ratings\"] = scaler.fit_transform(vas_agg_df[\"ratings\"].values.reshape(-1,1))"
   ]
  },
  {
   "cell_type": "code",
   "execution_count": 110,
   "metadata": {},
   "outputs": [
    {
     "data": {
      "text/plain": [
       "0.000000    889\n",
       "0.000909    273\n",
       "0.002525    263\n",
       "0.000404     57\n",
       "0.006067     38\n",
       "0.000227     38\n",
       "1.000000     18\n",
       "0.000511     18\n",
       "0.006875     11\n",
       "0.015782      6\n",
       "0.010000      4\n",
       "0.000631      4\n",
       "0.002045      3\n",
       "0.030934      3\n",
       "0.015656      2\n",
       "0.011673      2\n",
       "0.053433      1\n",
       "0.022575      1\n",
       "0.278402      1\n",
       "0.005606      1\n",
       "0.005682      1\n",
       "Name: ratings, dtype: int64"
      ]
     },
     "execution_count": 110,
     "metadata": {},
     "output_type": "execute_result"
    }
   ],
   "source": [
    "vas_agg_df[\"ratings\"].value_counts()"
   ]
  },
  {
   "cell_type": "code",
   "execution_count": 111,
   "metadata": {},
   "outputs": [
    {
     "data": {
      "text/html": [
       "<div>\n",
       "<style scoped>\n",
       "    .dataframe tbody tr th:only-of-type {\n",
       "        vertical-align: middle;\n",
       "    }\n",
       "\n",
       "    .dataframe tbody tr th {\n",
       "        vertical-align: top;\n",
       "    }\n",
       "\n",
       "    .dataframe thead th {\n",
       "        text-align: right;\n",
       "    }\n",
       "</style>\n",
       "<table border=\"1\" class=\"dataframe\">\n",
       "  <thead>\n",
       "    <tr style=\"text-align: right;\">\n",
       "      <th></th>\n",
       "      <th>ACCOUNT_NUM.hash</th>\n",
       "      <th>package</th>\n",
       "      <th>ratings</th>\n",
       "    </tr>\n",
       "  </thead>\n",
       "  <tbody>\n",
       "    <tr>\n",
       "      <th>0</th>\n",
       "      <td>0009e7e4d940c2a539b89342af07e7f1</td>\n",
       "      <td>AB Service Vacation</td>\n",
       "      <td>0.000000</td>\n",
       "    </tr>\n",
       "    <tr>\n",
       "      <th>1</th>\n",
       "      <td>008bca99f0cccb5d07d4f03744709cf8</td>\n",
       "      <td>Installment</td>\n",
       "      <td>0.000000</td>\n",
       "    </tr>\n",
       "    <tr>\n",
       "      <th>2</th>\n",
       "      <td>009ef2d25878cecee8d2c8115d26f4ab</td>\n",
       "      <td>Basic1 TeleLife</td>\n",
       "      <td>0.000909</td>\n",
       "    </tr>\n",
       "    <tr>\n",
       "      <th>3</th>\n",
       "      <td>009ef2d25878cecee8d2c8115d26f4ab</td>\n",
       "      <td>Basic2 TeleLife</td>\n",
       "      <td>0.002045</td>\n",
       "    </tr>\n",
       "    <tr>\n",
       "      <th>4</th>\n",
       "      <td>009ef2d25878cecee8d2c8115d26f4ab</td>\n",
       "      <td>Plus1 TeleLife</td>\n",
       "      <td>0.002525</td>\n",
       "    </tr>\n",
       "    <tr>\n",
       "      <th>...</th>\n",
       "      <td>...</td>\n",
       "      <td>...</td>\n",
       "      <td>...</td>\n",
       "    </tr>\n",
       "    <tr>\n",
       "      <th>1629</th>\n",
       "      <td>fe3bcb8c980fa7d05c7a7c62574ebe3e</td>\n",
       "      <td>E channeling Registration</td>\n",
       "      <td>0.000000</td>\n",
       "    </tr>\n",
       "    <tr>\n",
       "      <th>1630</th>\n",
       "      <td>fe48f49bbd4bdae38c0e533904700290</td>\n",
       "      <td>Basic1 TeleLife</td>\n",
       "      <td>0.000909</td>\n",
       "    </tr>\n",
       "    <tr>\n",
       "      <th>1631</th>\n",
       "      <td>ff6a9ebde4f19c42c852aa679c877b41</td>\n",
       "      <td>E channeling Registration</td>\n",
       "      <td>0.000000</td>\n",
       "    </tr>\n",
       "    <tr>\n",
       "      <th>1632</th>\n",
       "      <td>ffaa8955dcd8a0af7d148c10fd447fcc</td>\n",
       "      <td>Meet Lite</td>\n",
       "      <td>0.000000</td>\n",
       "    </tr>\n",
       "    <tr>\n",
       "      <th>1633</th>\n",
       "      <td>ffaa8955dcd8a0af7d148c10fd447fcc</td>\n",
       "      <td>Plus1 TeleLife</td>\n",
       "      <td>0.002525</td>\n",
       "    </tr>\n",
       "  </tbody>\n",
       "</table>\n",
       "<p>1634 rows × 3 columns</p>\n",
       "</div>"
      ],
      "text/plain": [
       "                      ACCOUNT_NUM.hash                    package   ratings\n",
       "0     0009e7e4d940c2a539b89342af07e7f1        AB Service Vacation  0.000000\n",
       "1     008bca99f0cccb5d07d4f03744709cf8                Installment  0.000000\n",
       "2     009ef2d25878cecee8d2c8115d26f4ab            Basic1 TeleLife  0.000909\n",
       "3     009ef2d25878cecee8d2c8115d26f4ab            Basic2 TeleLife  0.002045\n",
       "4     009ef2d25878cecee8d2c8115d26f4ab             Plus1 TeleLife  0.002525\n",
       "...                                ...                        ...       ...\n",
       "1629  fe3bcb8c980fa7d05c7a7c62574ebe3e  E channeling Registration  0.000000\n",
       "1630  fe48f49bbd4bdae38c0e533904700290            Basic1 TeleLife  0.000909\n",
       "1631  ff6a9ebde4f19c42c852aa679c877b41  E channeling Registration  0.000000\n",
       "1632  ffaa8955dcd8a0af7d148c10fd447fcc                  Meet Lite  0.000000\n",
       "1633  ffaa8955dcd8a0af7d148c10fd447fcc             Plus1 TeleLife  0.002525\n",
       "\n",
       "[1634 rows x 3 columns]"
      ]
     },
     "execution_count": 111,
     "metadata": {},
     "output_type": "execute_result"
    }
   ],
   "source": [
    "vas_agg_df"
   ]
  },
  {
   "cell_type": "code",
   "execution_count": 78,
   "metadata": {},
   "outputs": [],
   "source": [
    "vas_agg_df.to_csv(\"data/azure/VAS_user_ratings.csv\")"
   ]
  },
  {
   "cell_type": "markdown",
   "metadata": {},
   "source": [
    "## User content"
   ]
  },
  {
   "cell_type": "code",
   "execution_count": 9,
   "metadata": {},
   "outputs": [],
   "source": [
    "user_profile.drop([\"Unnamed: 0\"],axis=1,inplace=True)"
   ]
  },
  {
   "cell_type": "code",
   "execution_count": 10,
   "metadata": {},
   "outputs": [
    {
     "data": {
      "text/plain": [
       "Promotion Upgrade      394\n",
       "Promotion Downgrade    266\n",
       "Name: Sub_Update_Status, dtype: int64"
      ]
     },
     "execution_count": 10,
     "metadata": {},
     "output_type": "execute_result"
    }
   ],
   "source": [
    "user_profile[\"Sub_Update_Status\"].value_counts()"
   ]
  },
  {
   "cell_type": "code",
   "execution_count": 12,
   "metadata": {},
   "outputs": [],
   "source": [
    "user_profile = user_profile[(user_profile[\"VAS_Package\"].notna())]\n",
    "user_profile.reset_index(drop=True, inplace=True)"
   ]
  },
  {
   "cell_type": "code",
   "execution_count": 13,
   "metadata": {},
   "outputs": [
    {
     "name": "stdout",
     "output_type": "stream",
     "text": [
      "<class 'pandas.core.frame.DataFrame'>\n",
      "RangeIndex: 962 entries, 0 to 961\n",
      "Data columns (total 96 columns):\n",
      " #   Column                                    Non-Null Count  Dtype  \n",
      "---  ------                                    --------------  -----  \n",
      " 0   ACCOUNT_NUM.hash                          962 non-null    object \n",
      " 1   CUSTOMER_REF.hash                         962 non-null    object \n",
      " 2   OFFNET_INCOMING_Scaled                    962 non-null    float64\n",
      " 3   OFFNET_INCOMING_Categorical               962 non-null    object \n",
      " 4   OFFNET_INCOMING_Outlier                   962 non-null    object \n",
      " 5   OFFNET_OUTGOING_Categorical               943 non-null    object \n",
      " 6   OFFNET_OUTGOING_Scaled                    943 non-null    float64\n",
      " 7   OFFNET_OUTGOING_Outlier                   943 non-null    object \n",
      " 8   ONNET_INCOMING_Categorical                948 non-null    object \n",
      " 9   ONNET_INCOMING_Scaled                     948 non-null    float64\n",
      " 10  ONNET_INCOMING_Outlier                    948 non-null    object \n",
      " 11  ONNET_OUTGOING_Categorical                951 non-null    object \n",
      " 12  ONNET_OUTGOING_Scaled                     951 non-null    float64\n",
      " 13  ONNET_OUTGOING_Outlier                    951 non-null    object \n",
      " 14  IDD_INCOMING_Categorical                  473 non-null    object \n",
      " 15  IDD_INCOMING_Scaled                       473 non-null    float64\n",
      " 16  IDD_INCOMING_Outlier                      473 non-null    object \n",
      " 17  IDD_incoming_country                      473 non-null    object \n",
      " 18  IDD_OUTGOING_Categorical                  152 non-null    object \n",
      " 19  IDD_OUTGOING_Scaled                       152 non-null    float64\n",
      " 20  IDD_OUTGOING_Outlier                      152 non-null    object \n",
      " 21  IDD_outgoing_Cumulative_Revenue           152 non-null    float64\n",
      " 22  IDD_outgoing_country                      152 non-null    object \n",
      " 23  Peo_TV_Package                            515 non-null    object \n",
      " 24  PEO_TV_Categorical                        515 non-null    object \n",
      " 25  PEO_TV_Scaled                             515 non-null    float64\n",
      " 26  event_source.hash                         515 non-null    object \n",
      " 27  BB_Categorical                            510 non-null    object \n",
      " 28  BB_Scaled                                 510 non-null    float64\n",
      " 29  BB_Package                                585 non-null    object \n",
      " 30  TARIFF_NAME                               962 non-null    object \n",
      " 31  BB_Medium                                 585 non-null    object \n",
      " 32  Location_Identifier                       962 non-null    object \n",
      " 33  GENDER                                    835 non-null    object \n",
      " 34  BIRTH_YEAR                                835 non-null    float64\n",
      " 35  AGE                                       835 non-null    float64\n",
      " 36  ONNET_Overall_Categorical                 959 non-null    object \n",
      " 37  OFFNET_Overall_Categorical                962 non-null    object \n",
      " 38  IDD_Overall_Categorical                   491 non-null    object \n",
      " 39  VOICE_Categorical                         954 non-null    object \n",
      " 40  Subscription                              286 non-null    object \n",
      " 41  Sub_Type                                  962 non-null    object \n",
      " 42  Sub_Usage                                 962 non-null    object \n",
      " 43  Sub_Type_State                            962 non-null    object \n",
      " 44  Megaline_Package                          962 non-null    object \n",
      " 45  Megaline_Month_Subscribed                 962 non-null    object \n",
      " 46  Megaline_Rental                           962 non-null    object \n",
      " 47  Megaline_One_Time_Charge                  962 non-null    object \n",
      " 48  Package_Type                              962 non-null    object \n",
      " 49  FTTH_Package                              47 non-null     object \n",
      " 50  FTTH_Month_Subscribed                     47 non-null     object \n",
      " 51  FTTH_Rental                               47 non-null     object \n",
      " 52  FTTH_One_Time_Charge                      47 non-null     object \n",
      " 53  VAS_Package                               962 non-null    object \n",
      " 54  VAS_Month_Subscribed                      962 non-null    object \n",
      " 55  VAS_Rental                                962 non-null    object \n",
      " 56  VAS_One_Time_Charge                       962 non-null    object \n",
      " 57  Product_Type                              962 non-null    object \n",
      " 58  MEDIUM                                    915 non-null    object \n",
      " 59  Sub_Update_Date                           284 non-null    object \n",
      " 60  Sub_Update_Status                         284 non-null    object \n",
      " 61  Sub_Update                                284 non-null    object \n",
      " 62  BB_Extra_GB_Usage_Times                   592 non-null    float64\n",
      " 63  BB_Extra_GB_Month_vs_Rental               592 non-null    object \n",
      " 64  BB_Extra_GB_Purchased_Scaled              592 non-null    float64\n",
      " 65  BB_Extra_GB_Purchase_Categorical          592 non-null    object \n",
      " 66  BB_Extra_GB_Amount                        387 non-null    float64\n",
      " 67  Peo_Extra_Channels_Cumulative_Rental      47 non-null     float64\n",
      " 68  Peo_Extra_Channels_Month_vs_Rental        47 non-null     object \n",
      " 69  Peo_Extra_Channels_Purchased_Scaled       47 non-null     float64\n",
      " 70  Peo_Extra_Channels_Purchased_Categorical  47 non-null     object \n",
      " 71  Having_Insurance                          415 non-null    object \n",
      " 72  Having_Senior_Citizen_Scaled              962 non-null    float64\n",
      " 73  Having_Senior_Citizen                     426 non-null    object \n",
      " 74  Having_Kids_at_Home_Scaled                962 non-null    float64\n",
      " 75  Having_Kids_at_Home                       157 non-null    object \n",
      " 76  SMEs_Scaled                               962 non-null    float64\n",
      " 77  SMEs                                      23 non-null     object \n",
      " 78  Having_Teenagers_Students_Scaled          962 non-null    float64\n",
      " 79  Having_Teenagers_Students                 209 non-null    object \n",
      " 80  Having_Working_Professionals_Scaled       962 non-null    float64\n",
      " 81  Having_Working_Professionals              296 non-null    object \n",
      " 82  Having_Family_Member_Abroad_Scaled        962 non-null    float64\n",
      " 83  Having_Family_Member_Abroad               286 non-null    object \n",
      " 84  Tamil_Customer                            96 non-null     object \n",
      " 85  Peo_Packages_if_Senior_Citizen            962 non-null    float64\n",
      " 86  Peo_Packages_if_Kids                      962 non-null    float64\n",
      " 87  Peo_Packages_if_Teenager_Students         962 non-null    float64\n",
      " 88  Peo_Package_if_Working_Professionals      962 non-null    float64\n",
      " 89  BB_Package_if_Working_Professionals       962 non-null    float64\n",
      " 90  BB_Packages_if_Teenager_Students          962 non-null    float64\n",
      " 91  BB_Packages_if_SMEss                      962 non-null    float64\n",
      " 92  VAS_if_Kids                               962 non-null    float64\n",
      " 93  VAS_if_Teenager_Students                  962 non-null    float64\n",
      " 94  VAS_if_Working_Professionals              962 non-null    float64\n",
      " 95  IDD_if_Family_Member_Abroad               962 non-null    float64\n",
      "dtypes: float64(33), object(63)\n",
      "memory usage: 721.6+ KB\n"
     ]
    }
   ],
   "source": [
    "user_profile.info()"
   ]
  },
  {
   "cell_type": "code",
   "execution_count": 14,
   "metadata": {},
   "outputs": [],
   "source": [
    "user_df=user_profile.iloc[:,[0,2,4,6,7,9,10,12,13,15,16,17,19,20,22,23,25,29,28,30,32,33,41,44,48,53,55,56,57,58,61,64,66,69,71,72,76,78,80,82,84]]"
   ]
  },
  {
   "cell_type": "markdown",
   "metadata": {},
   "source": [
    "### Handeling Null Values"
   ]
  },
  {
   "cell_type": "code",
   "execution_count": 16,
   "metadata": {},
   "outputs": [
    {
     "name": "stderr",
     "output_type": "stream",
     "text": [
      "C:\\ProgramData\\Anaconda3\\lib\\site-packages\\pandas\\core\\frame.py:3191: SettingWithCopyWarning: \n",
      "A value is trying to be set on a copy of a slice from a DataFrame.\n",
      "Try using .loc[row_indexer,col_indexer] = value instead\n",
      "\n",
      "See the caveats in the documentation: https://pandas.pydata.org/pandas-docs/stable/user_guide/indexing.html#returning-a-view-versus-a-copy\n",
      "  self[k1] = value[k2]\n"
     ]
    }
   ],
   "source": [
    "cat_cols = user_df.select_dtypes(include='object').columns\n",
    "user_df[cat_cols] = user_df[cat_cols].fillna(\"\")\n",
    "\n",
    "#voice_udf[scaled_cols] = voice_udf[scaled_cols].fillna(0)"
   ]
  },
  {
   "cell_type": "code",
   "execution_count": 17,
   "metadata": {},
   "outputs": [],
   "source": [
    "zero_cols = [\"PEO_TV_Scaled\",\"BB_Scaled\",\"Peo_Extra_Channels_Purchased_Scaled\",\"IDD_INCOMING_Scaled\",\"IDD_OUTGOING_Scaled\",\"BB_Extra_GB_Purchased_Scaled\",\"BB_Extra_GB_Amount\"]\n",
    "user_df[zero_cols] = user_df[zero_cols].fillna(0)"
   ]
  },
  {
   "cell_type": "code",
   "execution_count": 19,
   "metadata": {},
   "outputs": [
    {
     "name": "stderr",
     "output_type": "stream",
     "text": [
      "<ipython-input-19-2051c999fa4e>:3: SettingWithCopyWarning: \n",
      "A value is trying to be set on a copy of a slice from a DataFrame.\n",
      "Try using .loc[row_indexer,col_indexer] = value instead\n",
      "\n",
      "See the caveats in the documentation: https://pandas.pydata.org/pandas-docs/stable/user_guide/indexing.html#returning-a-view-versus-a-copy\n",
      "  user_df[col] = user_df[col].fillna(user_df[col].mean())\n"
     ]
    }
   ],
   "source": [
    "mean_cols = [\"OFFNET_INCOMING_Scaled\",\"OFFNET_OUTGOING_Scaled\",\"ONNET_INCOMING_Scaled\",\"ONNET_OUTGOING_Scaled\"]\n",
    "for col in mean_cols:\n",
    "    user_df[col] = user_df[col].fillna(user_df[col].mean())"
   ]
  },
  {
   "cell_type": "code",
   "execution_count": 20,
   "metadata": {},
   "outputs": [
    {
     "name": "stdout",
     "output_type": "stream",
     "text": [
      "<class 'pandas.core.frame.DataFrame'>\n",
      "RangeIndex: 962 entries, 0 to 961\n",
      "Data columns (total 41 columns):\n",
      " #   Column                               Non-Null Count  Dtype  \n",
      "---  ------                               --------------  -----  \n",
      " 0   ACCOUNT_NUM.hash                     962 non-null    object \n",
      " 1   OFFNET_INCOMING_Scaled               962 non-null    float64\n",
      " 2   OFFNET_INCOMING_Outlier              962 non-null    object \n",
      " 3   OFFNET_OUTGOING_Scaled               962 non-null    float64\n",
      " 4   OFFNET_OUTGOING_Outlier              962 non-null    object \n",
      " 5   ONNET_INCOMING_Scaled                962 non-null    float64\n",
      " 6   ONNET_INCOMING_Outlier               962 non-null    object \n",
      " 7   ONNET_OUTGOING_Scaled                962 non-null    float64\n",
      " 8   ONNET_OUTGOING_Outlier               962 non-null    object \n",
      " 9   IDD_INCOMING_Scaled                  962 non-null    float64\n",
      " 10  IDD_INCOMING_Outlier                 962 non-null    object \n",
      " 11  IDD_incoming_country                 962 non-null    object \n",
      " 12  IDD_OUTGOING_Scaled                  962 non-null    float64\n",
      " 13  IDD_OUTGOING_Outlier                 962 non-null    object \n",
      " 14  IDD_outgoing_country                 962 non-null    object \n",
      " 15  Peo_TV_Package                       962 non-null    object \n",
      " 16  PEO_TV_Scaled                        962 non-null    float64\n",
      " 17  BB_Package                           962 non-null    object \n",
      " 18  BB_Scaled                            962 non-null    float64\n",
      " 19  TARIFF_NAME                          962 non-null    object \n",
      " 20  Location_Identifier                  962 non-null    object \n",
      " 21  GENDER                               962 non-null    object \n",
      " 22  Sub_Type                             962 non-null    object \n",
      " 23  Megaline_Package                     962 non-null    object \n",
      " 24  Package_Type                         962 non-null    object \n",
      " 25  VAS_Package                          962 non-null    object \n",
      " 26  VAS_Rental                           962 non-null    object \n",
      " 27  VAS_One_Time_Charge                  962 non-null    object \n",
      " 28  Product_Type                         962 non-null    object \n",
      " 29  MEDIUM                               962 non-null    object \n",
      " 30  Sub_Update                           962 non-null    object \n",
      " 31  BB_Extra_GB_Purchased_Scaled         962 non-null    float64\n",
      " 32  BB_Extra_GB_Amount                   962 non-null    float64\n",
      " 33  Peo_Extra_Channels_Purchased_Scaled  962 non-null    float64\n",
      " 34  Having_Insurance                     962 non-null    object \n",
      " 35  Having_Senior_Citizen_Scaled         962 non-null    float64\n",
      " 36  SMEs_Scaled                          962 non-null    float64\n",
      " 37  Having_Teenagers_Students_Scaled     962 non-null    float64\n",
      " 38  Having_Working_Professionals_Scaled  962 non-null    float64\n",
      " 39  Having_Family_Member_Abroad_Scaled   962 non-null    float64\n",
      " 40  Tamil_Customer                       962 non-null    object \n",
      "dtypes: float64(16), object(25)\n",
      "memory usage: 308.3+ KB\n"
     ]
    }
   ],
   "source": [
    "user_df.info()"
   ]
  },
  {
   "cell_type": "code",
   "execution_count": 21,
   "metadata": {},
   "outputs": [],
   "source": [
    "user_df.to_csv(\"data/azure/VAS_user_content.csv\")"
   ]
  },
  {
   "cell_type": "markdown",
   "metadata": {},
   "source": [
    "## Product (package) content"
   ]
  },
  {
   "cell_type": "code",
   "execution_count": 158,
   "metadata": {},
   "outputs": [],
   "source": [
    "product_profile = pd.read_csv(\"data/product_catalog/Packages_Info.csv\")"
   ]
  },
  {
   "cell_type": "code",
   "execution_count": 159,
   "metadata": {},
   "outputs": [
    {
     "name": "stdout",
     "output_type": "stream",
     "text": [
      "<class 'pandas.core.frame.DataFrame'>\n",
      "RangeIndex: 103 entries, 0 to 102\n",
      "Data columns (total 10 columns):\n",
      " #   Column           Non-Null Count  Dtype  \n",
      "---  ------           --------------  -----  \n",
      " 0   Package          103 non-null    object \n",
      " 1   Rental           17 non-null     float64\n",
      " 2   One_Time_Charge  3 non-null      float64\n",
      " 3   Package_Type     103 non-null    object \n",
      " 4   Product_Type     22 non-null     object \n",
      " 5   MEDIUM           18 non-null     object \n",
      " 6   TARIFF_NAME      18 non-null     object \n",
      " 7   TARIFF_DESC      18 non-null     object \n",
      " 8   is_VAS           103 non-null    object \n",
      " 9   FREE_or_PAID     103 non-null    object \n",
      "dtypes: float64(2), object(8)\n",
      "memory usage: 8.2+ KB\n"
     ]
    }
   ],
   "source": [
    "product_profile.info()"
   ]
  },
  {
   "cell_type": "code",
   "execution_count": 160,
   "metadata": {},
   "outputs": [],
   "source": [
    "temp_package_df=vas_agg_df[\"package\"]"
   ]
  },
  {
   "cell_type": "code",
   "execution_count": 161,
   "metadata": {},
   "outputs": [],
   "source": [
    "vas_products_df = product_profile.merge(temp_package_df.drop_duplicates(), left_on=['Package'] , right_on=[\"package\"],\n",
    "                   how='left', indicator=True)"
   ]
  },
  {
   "cell_type": "code",
   "execution_count": 162,
   "metadata": {},
   "outputs": [],
   "source": [
    "vas_products_df = vas_products_df[(vas_products_df[\"_merge\"]==\"both\")]\n",
    "vas_products_df.drop([\"_merge\"],axis=1,inplace=True)\n",
    "vas_products_df.reset_index(drop=True, inplace=True)"
   ]
  },
  {
   "cell_type": "code",
   "execution_count": 163,
   "metadata": {},
   "outputs": [],
   "source": [
    "# Many columns have no values. Dropping \n",
    "vas_products_df.dropna(how=\"all\",axis=0,inplace=True)\n",
    "vas_products_df.dropna(how=\"all\",axis=1,inplace=True)"
   ]
  },
  {
   "cell_type": "code",
   "execution_count": 164,
   "metadata": {},
   "outputs": [],
   "source": [
    "vas_products_df.drop([\"One_Time_Charge\"],axis=1, inplace=True)"
   ]
  },
  {
   "cell_type": "code",
   "execution_count": 165,
   "metadata": {},
   "outputs": [],
   "source": [
    "cat_cols = vas_products_df.select_dtypes(include='object').columns\n",
    "vas_products_df[cat_cols] = vas_products_df[cat_cols].fillna(\"NO_INFO\")"
   ]
  },
  {
   "cell_type": "code",
   "execution_count": 166,
   "metadata": {},
   "outputs": [],
   "source": [
    "cat_cols = vas_products_df.select_dtypes(include='float64').columns\n",
    "vas_products_df[cat_cols] = vas_products_df[cat_cols].fillna(0)"
   ]
  },
  {
   "cell_type": "code",
   "execution_count": 167,
   "metadata": {},
   "outputs": [
    {
     "name": "stdout",
     "output_type": "stream",
     "text": [
      "<class 'pandas.core.frame.DataFrame'>\n",
      "Int64Index: 45 entries, 0 to 44\n",
      "Data columns (total 10 columns):\n",
      " #   Column        Non-Null Count  Dtype  \n",
      "---  ------        --------------  -----  \n",
      " 0   Package       45 non-null     object \n",
      " 1   Rental        45 non-null     float64\n",
      " 2   Package_Type  45 non-null     object \n",
      " 3   Product_Type  45 non-null     object \n",
      " 4   MEDIUM        45 non-null     object \n",
      " 5   TARIFF_NAME   45 non-null     object \n",
      " 6   TARIFF_DESC   45 non-null     object \n",
      " 7   is_VAS        45 non-null     object \n",
      " 8   FREE_or_PAID  45 non-null     object \n",
      " 9   package       45 non-null     object \n",
      "dtypes: float64(1), object(9)\n",
      "memory usage: 3.9+ KB\n"
     ]
    }
   ],
   "source": [
    "vas_products_df.info()"
   ]
  },
  {
   "cell_type": "code",
   "execution_count": 170,
   "metadata": {},
   "outputs": [],
   "source": [
    "vas_products_df.to_csv(\"data/azure/VAS_package_content.csv\")"
   ]
  },
  {
   "cell_type": "code",
   "execution_count": null,
   "metadata": {},
   "outputs": [],
   "source": []
  },
  {
   "cell_type": "code",
   "execution_count": null,
   "metadata": {},
   "outputs": [],
   "source": []
  }
 ],
 "metadata": {
  "kernelspec": {
   "display_name": "Python 3 (ipykernel)",
   "language": "python",
   "name": "python3"
  },
  "language_info": {
   "codemirror_mode": {
    "name": "ipython",
    "version": 3
   },
   "file_extension": ".py",
   "mimetype": "text/x-python",
   "name": "python",
   "nbconvert_exporter": "python",
   "pygments_lexer": "ipython3",
   "version": "3.8.12"
  }
 },
 "nbformat": 4,
 "nbformat_minor": 4
}
