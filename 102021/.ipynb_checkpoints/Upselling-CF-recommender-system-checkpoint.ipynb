{
 "cells": [
  {
   "cell_type": "code",
   "execution_count": 185,
   "metadata": {},
   "outputs": [],
   "source": [
    "# import libraries\n",
    "import numpy as np\n",
    "import pandas as pd\n",
    "import seaborn as sns\n",
    "import matplotlib.pyplot as plt\n",
    "from sklearn.metrics.pairwise import cosine_similarity\n",
    "from sklearn.preprocessing import MinMaxScaler\n",
    "from sklearn.decomposition import PCA\n",
    "from ast import literal_eval"
   ]
  },
  {
   "cell_type": "code",
   "execution_count": 186,
   "metadata": {
    "scrolled": true
   },
   "outputs": [],
   "source": [
    "# import dataset\n",
    "user_profile = pd.read_csv(\"data/user_profile/prepared/User_Profile_Null_Handled.csv\")"
   ]
  },
  {
   "cell_type": "code",
   "execution_count": 187,
   "metadata": {},
   "outputs": [
    {
     "data": {
      "text/plain": [
       "NO_INFO                30250\n",
       "Promotion Upgrade       7369\n",
       "Promotion Downgrade     4975\n",
       "Name: Sub_Update_Status, dtype: int64"
      ]
     },
     "execution_count": 187,
     "metadata": {},
     "output_type": "execute_result"
    }
   ],
   "source": [
    "user_profile[\"Sub_Update_Status\"].value_counts()"
   ]
  },
  {
   "cell_type": "code",
   "execution_count": 188,
   "metadata": {},
   "outputs": [],
   "source": [
    "data=user_profile.iloc[:,[1,3,11,14,18,23,25,34,57,61,62]]"
   ]
  },
  {
   "cell_type": "code",
   "execution_count": 189,
   "metadata": {},
   "outputs": [
    {
     "name": "stdout",
     "output_type": "stream",
     "text": [
      "<class 'pandas.core.frame.DataFrame'>\n",
      "RangeIndex: 42594 entries, 0 to 42593\n",
      "Data columns (total 11 columns):\n",
      " #   Column                 Non-Null Count  Dtype  \n",
      "---  ------                 --------------  -----  \n",
      " 0   ACCOUNT_NUM.hash       42594 non-null  object \n",
      " 1   Voice_INCOMING_Scaled  42594 non-null  float64\n",
      " 2   Voice_OUTGOING_Scaled  42594 non-null  float64\n",
      " 3   IDD_INCOMING_Scaled    42594 non-null  float64\n",
      " 4   IDD_OUTGOING_Scaled    42594 non-null  float64\n",
      " 5   PEO_TV_Scaled          42594 non-null  float64\n",
      " 6   BB_Scaled              42594 non-null  float64\n",
      " 7   Sub_Type               42594 non-null  object \n",
      " 8   Product_Type           42594 non-null  object \n",
      " 9   Sub_Update_Status      42594 non-null  object \n",
      " 10  Sub_Update             42594 non-null  object \n",
      "dtypes: float64(6), object(5)\n",
      "memory usage: 3.6+ MB\n"
     ]
    }
   ],
   "source": [
    "data.info()"
   ]
  },
  {
   "cell_type": "code",
   "execution_count": 190,
   "metadata": {},
   "outputs": [
    {
     "data": {
      "text/plain": [
       "42594"
      ]
     },
     "execution_count": 190,
     "metadata": {},
     "output_type": "execute_result"
    }
   ],
   "source": [
    "# total number of unique users\n",
    "data['ACCOUNT_NUM.hash'].nunique()"
   ]
  },
  {
   "cell_type": "code",
   "execution_count": 191,
   "metadata": {},
   "outputs": [
    {
     "data": {
      "text/plain": [
       "5"
      ]
     },
     "execution_count": 191,
     "metadata": {},
     "output_type": "execute_result"
    }
   ],
   "source": [
    "# total number of unique peo tv package\n",
    "data['Sub_Type'].nunique()"
   ]
  },
  {
   "cell_type": "markdown",
   "metadata": {},
   "source": [
    "## Dimension reduction for usage columns - Applying PCA"
   ]
  },
  {
   "cell_type": "markdown",
   "metadata": {},
   "source": [
    "### Find most approporiate no of components"
   ]
  },
  {
   "cell_type": "code",
   "execution_count": 192,
   "metadata": {},
   "outputs": [],
   "source": [
    "data_dim=data.iloc[:,1:7]"
   ]
  },
  {
   "cell_type": "code",
   "execution_count": 193,
   "metadata": {},
   "outputs": [
    {
     "data": {
      "text/plain": [
       "PCA(n_components=6)"
      ]
     },
     "execution_count": 193,
     "metadata": {},
     "output_type": "execute_result"
    }
   ],
   "source": [
    "pc=PCA(n_components=6) \n",
    "pc.fit(data_dim)"
   ]
  },
  {
   "cell_type": "code",
   "execution_count": 194,
   "metadata": {},
   "outputs": [
    {
     "data": {
      "text/plain": [
       "array([0.12227568, 0.07389343, 0.01988762, 0.00690759, 0.00357832,\n",
       "       0.00228336])"
      ]
     },
     "execution_count": 194,
     "metadata": {},
     "output_type": "execute_result"
    }
   ],
   "source": [
    "#How much variance,caputured individually\n",
    "pc.explained_variance_"
   ]
  },
  {
   "cell_type": "code",
   "execution_count": 195,
   "metadata": {},
   "outputs": [
    {
     "data": {
      "text/plain": [
       "array([0.53436097, 0.85728507, 0.94419659, 0.97438368, 0.99002141,\n",
       "       1.        ])"
      ]
     },
     "execution_count": 195,
     "metadata": {},
     "output_type": "execute_result"
    }
   ],
   "source": [
    "#How mucb variance, captured together\n",
    "pc.explained_variance_ratio_.cumsum()"
   ]
  },
  {
   "cell_type": "code",
   "execution_count": 196,
   "metadata": {},
   "outputs": [
    {
     "name": "stderr",
     "output_type": "stream",
     "text": [
      "/Users/chiranhewawitharana/mambaforge/envs/mactf/lib/python3.8/site-packages/seaborn/_decorators.py:36: FutureWarning: Pass the following variables as keyword args: x, y. From version 0.12, the only valid positional argument will be `data`, and passing other arguments without an explicit keyword will result in an error or misinterpretation.\n",
      "  warnings.warn(\n"
     ]
    },
    {
     "data": {
      "image/png": "[encoded data removed]",
      "text/plain": [
       "<Figure size 432x288 with 1 Axes>"
      ]
     },
     "metadata": {
      "needs_background": "light"
     },
     "output_type": "display_data"
    }
   ],
   "source": [
    "sns.lineplot(range(1,1+pc.explained_variance_.shape[0]),pc.explained_variance_)\n",
    "plt.show()"
   ]
  },
  {
   "cell_type": "markdown",
   "metadata": {},
   "source": [
    "### reducing to most appropriate component"
   ]
  },
  {
   "cell_type": "code",
   "execution_count": 197,
   "metadata": {},
   "outputs": [],
   "source": [
    "### Run PCA on the data and reduce the dimensions in pca_num_components dimensions\n",
    "pca = PCA(n_components=1)\n",
    "pca.fit(data_dim)\n",
    "reduced_data = pca.fit_transform(data_dim)\n",
    "results_df = pd.DataFrame(reduced_data,columns=['usage'])"
   ]
  },
  {
   "cell_type": "code",
   "execution_count": 198,
   "metadata": {},
   "outputs": [],
   "source": [
    "# applying min-max-scaler to reduced features\n",
    "scaler = MinMaxScaler()\n",
    "results_df[['usage']] = scaler.fit_transform(results_df[['usage']])"
   ]
  },
  {
   "cell_type": "code",
   "execution_count": 199,
   "metadata": {},
   "outputs": [],
   "source": [
    "data=pd.concat([data,results_df],axis=1)"
   ]
  },
  {
   "cell_type": "markdown",
   "metadata": {},
   "source": [
    "### User-Item Rating Triplet"
   ]
  },
  {
   "cell_type": "code",
   "execution_count": 200,
   "metadata": {},
   "outputs": [
    {
     "data": {
      "text/html": [
       "<div>\n",
       "<style scoped>\n",
       "    .dataframe tbody tr th:only-of-type {\n",
       "        vertical-align: middle;\n",
       "    }\n",
       "\n",
       "    .dataframe tbody tr th {\n",
       "        vertical-align: top;\n",
       "    }\n",
       "\n",
       "    .dataframe thead th {\n",
       "        text-align: right;\n",
       "    }\n",
       "</style>\n",
       "<table border=\"1\" class=\"dataframe\">\n",
       "  <thead>\n",
       "    <tr style=\"text-align: right;\">\n",
       "      <th></th>\n",
       "      <th>ACCOUNT_NUM.hash</th>\n",
       "      <th>Sub_Type</th>\n",
       "      <th>usage</th>\n",
       "    </tr>\n",
       "  </thead>\n",
       "  <tbody>\n",
       "    <tr>\n",
       "      <th>0</th>\n",
       "      <td>9efd917f18bb5c966953b4227ddbaf43</td>\n",
       "      <td>TRIPLE_PLAY</td>\n",
       "      <td>0.304039</td>\n",
       "    </tr>\n",
       "    <tr>\n",
       "      <th>1</th>\n",
       "      <td>2240d11b0d9ee8f6d9e8972c6190aa42</td>\n",
       "      <td>SINGLE_PLAY</td>\n",
       "      <td>0.006179</td>\n",
       "    </tr>\n",
       "    <tr>\n",
       "      <th>2</th>\n",
       "      <td>cff00495fd556a417e2838e27465d749</td>\n",
       "      <td>DOUBLE_PLAY_BV</td>\n",
       "      <td>0.309183</td>\n",
       "    </tr>\n",
       "    <tr>\n",
       "      <th>3</th>\n",
       "      <td>d00dacd8fc98c1726d6a4e9f28f8e579</td>\n",
       "      <td>TRIPLE_PLAY</td>\n",
       "      <td>0.154406</td>\n",
       "    </tr>\n",
       "    <tr>\n",
       "      <th>4</th>\n",
       "      <td>a3ee54787617510a616dfcb52c28941b</td>\n",
       "      <td>TRIPLE_PLAY</td>\n",
       "      <td>0.158567</td>\n",
       "    </tr>\n",
       "    <tr>\n",
       "      <th>...</th>\n",
       "      <td>...</td>\n",
       "      <td>...</td>\n",
       "      <td>...</td>\n",
       "    </tr>\n",
       "    <tr>\n",
       "      <th>42589</th>\n",
       "      <td>7052930957f02ad914dbd24fdcd04fed</td>\n",
       "      <td>DOUBLE_PLAY_BV</td>\n",
       "      <td>0.398034</td>\n",
       "    </tr>\n",
       "    <tr>\n",
       "      <th>42590</th>\n",
       "      <td>c217fb1b44642e79e56af9111e9c00b2</td>\n",
       "      <td>TRIPLE_PLAY</td>\n",
       "      <td>0.799978</td>\n",
       "    </tr>\n",
       "    <tr>\n",
       "      <th>42591</th>\n",
       "      <td>5e94646aa83bb9d7fab98620405517cb</td>\n",
       "      <td>DOUBLE_PLAY_BV</td>\n",
       "      <td>0.011400</td>\n",
       "    </tr>\n",
       "    <tr>\n",
       "      <th>42592</th>\n",
       "      <td>6801a82b67b7fb942242b7aca5ba022c</td>\n",
       "      <td>DOUBLE_PLAY_BV</td>\n",
       "      <td>0.525596</td>\n",
       "    </tr>\n",
       "    <tr>\n",
       "      <th>42593</th>\n",
       "      <td>92da7428aa4a85439d5cb1adc7eb7fba</td>\n",
       "      <td>TRIPLE_PLAY</td>\n",
       "      <td>0.423210</td>\n",
       "    </tr>\n",
       "  </tbody>\n",
       "</table>\n",
       "<p>42594 rows × 3 columns</p>\n",
       "</div>"
      ],
      "text/plain": [
       "                       ACCOUNT_NUM.hash        Sub_Type     usage\n",
       "0      9efd917f18bb5c966953b4227ddbaf43     TRIPLE_PLAY  0.304039\n",
       "1      2240d11b0d9ee8f6d9e8972c6190aa42     SINGLE_PLAY  0.006179\n",
       "2      cff00495fd556a417e2838e27465d749  DOUBLE_PLAY_BV  0.309183\n",
       "3      d00dacd8fc98c1726d6a4e9f28f8e579     TRIPLE_PLAY  0.154406\n",
       "4      a3ee54787617510a616dfcb52c28941b     TRIPLE_PLAY  0.158567\n",
       "...                                 ...             ...       ...\n",
       "42589  7052930957f02ad914dbd24fdcd04fed  DOUBLE_PLAY_BV  0.398034\n",
       "42590  c217fb1b44642e79e56af9111e9c00b2     TRIPLE_PLAY  0.799978\n",
       "42591  5e94646aa83bb9d7fab98620405517cb  DOUBLE_PLAY_BV  0.011400\n",
       "42592  6801a82b67b7fb942242b7aca5ba022c  DOUBLE_PLAY_BV  0.525596\n",
       "42593  92da7428aa4a85439d5cb1adc7eb7fba     TRIPLE_PLAY  0.423210\n",
       "\n",
       "[42594 rows x 3 columns]"
      ]
     },
     "execution_count": 200,
     "metadata": {},
     "output_type": "execute_result"
    }
   ],
   "source": [
    "data_triplet = data[[\"ACCOUNT_NUM.hash\",\"Sub_Type\",\"usage\"]]\n",
    "data_triplet"
   ]
  },
  {
   "cell_type": "markdown",
   "metadata": {},
   "source": [
    "## Interaction Matrix"
   ]
  },
  {
   "cell_type": "code",
   "execution_count": 201,
   "metadata": {},
   "outputs": [
    {
     "data": {
      "text/html": [
       "<div>\n",
       "<style scoped>\n",
       "    .dataframe tbody tr th:only-of-type {\n",
       "        vertical-align: middle;\n",
       "    }\n",
       "\n",
       "    .dataframe tbody tr th {\n",
       "        vertical-align: top;\n",
       "    }\n",
       "\n",
       "    .dataframe thead th {\n",
       "        text-align: right;\n",
       "    }\n",
       "</style>\n",
       "<table border=\"1\" class=\"dataframe\">\n",
       "  <thead>\n",
       "    <tr style=\"text-align: right;\">\n",
       "      <th>Sub_Type</th>\n",
       "      <th>4G</th>\n",
       "      <th>DOUBLE_PLAY_BV</th>\n",
       "      <th>DOUBLE_PLAY_PV</th>\n",
       "      <th>SINGLE_PLAY</th>\n",
       "      <th>TRIPLE_PLAY</th>\n",
       "    </tr>\n",
       "    <tr>\n",
       "      <th>ACCOUNT_NUM.hash</th>\n",
       "      <th></th>\n",
       "      <th></th>\n",
       "      <th></th>\n",
       "      <th></th>\n",
       "      <th></th>\n",
       "    </tr>\n",
       "  </thead>\n",
       "  <tbody>\n",
       "    <tr>\n",
       "      <th>0003102d10a11c8f2f0f241f00a36b2d</th>\n",
       "      <td>NaN</td>\n",
       "      <td>NaN</td>\n",
       "      <td>NaN</td>\n",
       "      <td>NaN</td>\n",
       "      <td>0.377181</td>\n",
       "    </tr>\n",
       "    <tr>\n",
       "      <th>0003df7598926f578f53ecd9e424f3c9</th>\n",
       "      <td>NaN</td>\n",
       "      <td>0.274631</td>\n",
       "      <td>NaN</td>\n",
       "      <td>NaN</td>\n",
       "      <td>NaN</td>\n",
       "    </tr>\n",
       "    <tr>\n",
       "      <th>00092b1fd47eb05d000a3553ae072056</th>\n",
       "      <td>NaN</td>\n",
       "      <td>NaN</td>\n",
       "      <td>NaN</td>\n",
       "      <td>NaN</td>\n",
       "      <td>0.364527</td>\n",
       "    </tr>\n",
       "    <tr>\n",
       "      <th>00094326efae1d73371d118204e12e46</th>\n",
       "      <td>NaN</td>\n",
       "      <td>NaN</td>\n",
       "      <td>0.110893</td>\n",
       "      <td>NaN</td>\n",
       "      <td>NaN</td>\n",
       "    </tr>\n",
       "    <tr>\n",
       "      <th>000ae59b7eb91e778f22e3f07495f4f9</th>\n",
       "      <td>NaN</td>\n",
       "      <td>0.538300</td>\n",
       "      <td>NaN</td>\n",
       "      <td>NaN</td>\n",
       "      <td>NaN</td>\n",
       "    </tr>\n",
       "    <tr>\n",
       "      <th>...</th>\n",
       "      <td>...</td>\n",
       "      <td>...</td>\n",
       "      <td>...</td>\n",
       "      <td>...</td>\n",
       "      <td>...</td>\n",
       "    </tr>\n",
       "    <tr>\n",
       "      <th>fff9148b195a844454cf5b07c2fccbcb</th>\n",
       "      <td>NaN</td>\n",
       "      <td>NaN</td>\n",
       "      <td>0.140922</td>\n",
       "      <td>NaN</td>\n",
       "      <td>NaN</td>\n",
       "    </tr>\n",
       "    <tr>\n",
       "      <th>fffaeeddaabbd2868c183d8884b2a98d</th>\n",
       "      <td>NaN</td>\n",
       "      <td>NaN</td>\n",
       "      <td>NaN</td>\n",
       "      <td>NaN</td>\n",
       "      <td>0.432613</td>\n",
       "    </tr>\n",
       "    <tr>\n",
       "      <th>fffd0b8541e9f62496092d2ea8609135</th>\n",
       "      <td>NaN</td>\n",
       "      <td>NaN</td>\n",
       "      <td>NaN</td>\n",
       "      <td>NaN</td>\n",
       "      <td>0.675962</td>\n",
       "    </tr>\n",
       "    <tr>\n",
       "      <th>ffff7fc0c266ac5b34f91de1ba4f3039</th>\n",
       "      <td>NaN</td>\n",
       "      <td>NaN</td>\n",
       "      <td>NaN</td>\n",
       "      <td>NaN</td>\n",
       "      <td>0.299851</td>\n",
       "    </tr>\n",
       "    <tr>\n",
       "      <th>ffffe6d0d44f76428f676bd36e83df76</th>\n",
       "      <td>NaN</td>\n",
       "      <td>NaN</td>\n",
       "      <td>NaN</td>\n",
       "      <td>0.006392</td>\n",
       "      <td>NaN</td>\n",
       "    </tr>\n",
       "  </tbody>\n",
       "</table>\n",
       "<p>42594 rows × 5 columns</p>\n",
       "</div>"
      ],
      "text/plain": [
       "Sub_Type                          4G  DOUBLE_PLAY_BV  DOUBLE_PLAY_PV  \\\n",
       "ACCOUNT_NUM.hash                                                       \n",
       "0003102d10a11c8f2f0f241f00a36b2d NaN             NaN             NaN   \n",
       "0003df7598926f578f53ecd9e424f3c9 NaN        0.274631             NaN   \n",
       "00092b1fd47eb05d000a3553ae072056 NaN             NaN             NaN   \n",
       "00094326efae1d73371d118204e12e46 NaN             NaN        0.110893   \n",
       "000ae59b7eb91e778f22e3f07495f4f9 NaN        0.538300             NaN   \n",
       "...                               ..             ...             ...   \n",
       "fff9148b195a844454cf5b07c2fccbcb NaN             NaN        0.140922   \n",
       "fffaeeddaabbd2868c183d8884b2a98d NaN             NaN             NaN   \n",
       "fffd0b8541e9f62496092d2ea8609135 NaN             NaN             NaN   \n",
       "ffff7fc0c266ac5b34f91de1ba4f3039 NaN             NaN             NaN   \n",
       "ffffe6d0d44f76428f676bd36e83df76 NaN             NaN             NaN   \n",
       "\n",
       "Sub_Type                          SINGLE_PLAY  TRIPLE_PLAY  \n",
       "ACCOUNT_NUM.hash                                            \n",
       "0003102d10a11c8f2f0f241f00a36b2d          NaN     0.377181  \n",
       "0003df7598926f578f53ecd9e424f3c9          NaN          NaN  \n",
       "00092b1fd47eb05d000a3553ae072056          NaN     0.364527  \n",
       "00094326efae1d73371d118204e12e46          NaN          NaN  \n",
       "000ae59b7eb91e778f22e3f07495f4f9          NaN          NaN  \n",
       "...                                       ...          ...  \n",
       "fff9148b195a844454cf5b07c2fccbcb          NaN          NaN  \n",
       "fffaeeddaabbd2868c183d8884b2a98d          NaN     0.432613  \n",
       "fffd0b8541e9f62496092d2ea8609135          NaN     0.675962  \n",
       "ffff7fc0c266ac5b34f91de1ba4f3039          NaN     0.299851  \n",
       "ffffe6d0d44f76428f676bd36e83df76     0.006392          NaN  \n",
       "\n",
       "[42594 rows x 5 columns]"
      ]
     },
     "execution_count": 201,
     "metadata": {},
     "output_type": "execute_result"
    }
   ],
   "source": [
    "# create the user item matrix using the ratings dataset - Hint: try using pivot function \n",
    "interactions_metrix = data_triplet.pivot_table(index=\"ACCOUNT_NUM.hash\", columns=\"Sub_Type\", values=\"usage\")\n",
    "interactions_metrix"
   ]
  },
  {
   "cell_type": "code",
   "execution_count": 202,
   "metadata": {},
   "outputs": [],
   "source": [
    "#interactions_metrix.drop([\"4G\"],axis=1, inplace=True)"
   ]
  },
  {
   "cell_type": "code",
   "execution_count": 203,
   "metadata": {},
   "outputs": [],
   "source": [
    "#interactions_metrix.reset_index(inplace=True)\n",
    "interactions_metrix = interactions_metrix.fillna(0)"
   ]
  },
  {
   "cell_type": "markdown",
   "metadata": {},
   "source": [
    "## Finding similar users"
   ]
  },
  {
   "cell_type": "code",
   "execution_count": 204,
   "metadata": {},
   "outputs": [],
   "source": [
    "users = data_triplet[\"ACCOUNT_NUM.hash\"].unique()\n",
    "active_user = \"9efd917f18bb5c966953b4227ddbaf43\""
   ]
  },
  {
   "cell_type": "code",
   "execution_count": 205,
   "metadata": {},
   "outputs": [],
   "source": [
    "# using cosine_similarity from sklearn\n",
    "def get_similar_users(user_id, interactions_matrix):\n",
    "    # compute similarity of each user to the provided user\n",
    "    similarity = []\n",
    "    for user in users:\n",
    "        sim = cosine_similarity([interactions_metrix.loc[user_id]], [interactions_metrix.loc[user]])\n",
    "        similarity.append((user, sim))\n",
    "    # sort by similarity\n",
    "    similarity.sort(key=lambda x: x[1], reverse=True)\n",
    "    # create list of just the user ids\n",
    "    most_similar_users = [tup[0] for tup in similarity]\n",
    "    # create list of similarity score\n",
    "    similarity_score = [tup[1] for tup in similarity]\n",
    "    # remove the user's own id\n",
    "    most_similar_users.remove(user_id)\n",
    "    # remove the user's own similarity score\n",
    "    similarity_score.remove(similarity_score[0])  \n",
    "    return most_similar_users, similarity_score\n",
    "\n",
    "\n",
    "# Business Rule -> Single  Play canot be recommended to a Double Play / Triple Play user\n",
    "def play_rule(already_interacted):\n",
    "    for s in already_interacted.copy():\n",
    "        if \"DOUBLE_PLAY\" in s or \"TRIPLE_PLAY\" in s:\n",
    "            already_interacted.add(\"SINGLE_PLAY\")\n",
    "        if \"TRIPLE_PLAY\" in s:\n",
    "            already_interacted.add(\"DOUBLE_PLAY_BV\")\n",
    "            already_interacted.add(\"DOUBLE_PLAY_PV\")\n",
    "        # ADD Upgrade/ Downgrade Rule\n",
    "    return already_interacted\n",
    "\n",
    "\n",
    "def recommendations(user_id, num_of_packages, user_item_interactions):\n",
    "    # find the most similar users to the user_id for which we want to recommend packages\n",
    "    most_similar_users = get_similar_users(user_id, user_item_interactions)[0]\n",
    "    # find out those packages which this user has already interacted with\n",
    "    packages = set(list(interactions_metrix.columns[np.where(interactions_metrix.loc[user_id]>0)]))\n",
    "    # create an empty list to store the recommended packages\n",
    "    recommendations = []\n",
    "    # copy those packages which are already interacted by user_id\n",
    "    already_interacted = packages.copy()\n",
    "    # loop through each similar user from the list of most_similar_users\n",
    "    for similar_user in most_similar_users:\n",
    "        # implement the below code till the length of recommended packages does not become equal to num_of_packages\n",
    "        if len(recommendations) < num_of_packages:\n",
    "            # store all the packages interacted by each similar user to user_id\n",
    "            similar_user_packages = set(list(interactions_metrix.columns[np.where(interactions_metrix.loc[similar_user]>0)]))\n",
    "            # applying business rule\n",
    "            already_interacted= play_rule(already_interacted)\n",
    "            # add those packages in the recommended list which are present in similar_user_packages but not present in already_interacted\n",
    "            recommendations.extend(list(similar_user_packages.difference(already_interacted)))\n",
    "            # now add all those packages into already_interacted which we already added in recommendations\n",
    "            already_interacted = already_interacted.union(similar_user_packages)\n",
    "        else:\n",
    "            break\n",
    "    return recommendations[:num_of_packages]"
   ]
  },
  {
   "cell_type": "markdown",
   "metadata": {},
   "source": [
    "### Predictions"
   ]
  },
  {
   "cell_type": "code",
   "execution_count": 206,
   "metadata": {},
   "outputs": [],
   "source": [
    "# check the implemented function above \n",
    "#[0] is here to get first returned element of the function (most_similar_users)\n",
    "#[:10] is to get the first 10 (the 10 most) similar users\n",
    "similar_users = get_similar_users(active_user, interactions_metrix)[:10]"
   ]
  },
  {
   "cell_type": "code",
   "execution_count": 207,
   "metadata": {},
   "outputs": [
    {
     "data": {
      "text/plain": [
       "['d00dacd8fc98c1726d6a4e9f28f8e579',\n",
       " 'a3ee54787617510a616dfcb52c28941b',\n",
       " '51d860a420b6476d97dcb466b39d62af',\n",
       " 'af1d20e1bcab23e4ef4710348db32ef8',\n",
       " '6219f2157b2b0f181fa591558f9fdf9f',\n",
       " '6fee43e5639eda2360eeae4511097b6f',\n",
       " '7ce73ef66034e2f726d719a389c4e9a3',\n",
       " '241f06474d8b8022dc3629fe804fbe93',\n",
       " '69e7340be701c8425cd8b16934a01bb6',\n",
       " '61079c87957f5ca500670a9585aa4101']"
      ]
     },
     "execution_count": 207,
     "metadata": {},
     "output_type": "execute_result"
    }
   ],
   "source": [
    "similar_users[0][:10]"
   ]
  },
  {
   "cell_type": "code",
   "execution_count": 208,
   "metadata": {},
   "outputs": [
    {
     "data": {
      "text/plain": [
       "[array([[1.]]),\n",
       " array([[1.]]),\n",
       " array([[1.]]),\n",
       " array([[1.]]),\n",
       " array([[1.]]),\n",
       " array([[1.]]),\n",
       " array([[1.]]),\n",
       " array([[1.]]),\n",
       " array([[1.]]),\n",
       " array([[1.]])]"
      ]
     },
     "execution_count": 208,
     "metadata": {},
     "output_type": "execute_result"
    }
   ],
   "source": [
    "# this gives similarity scores (how similar a user to a given user)\n",
    "similar_users[1][:10]"
   ]
  },
  {
   "cell_type": "code",
   "execution_count": 209,
   "metadata": {},
   "outputs": [
    {
     "data": {
      "text/html": [
       "<div>\n",
       "<style scoped>\n",
       "    .dataframe tbody tr th:only-of-type {\n",
       "        vertical-align: middle;\n",
       "    }\n",
       "\n",
       "    .dataframe tbody tr th {\n",
       "        vertical-align: top;\n",
       "    }\n",
       "\n",
       "    .dataframe thead th {\n",
       "        text-align: right;\n",
       "    }\n",
       "</style>\n",
       "<table border=\"1\" class=\"dataframe\">\n",
       "  <thead>\n",
       "    <tr style=\"text-align: right;\">\n",
       "      <th></th>\n",
       "      <th>ACCOUNT_NUM.hash</th>\n",
       "      <th>Sub_Type</th>\n",
       "      <th>usage</th>\n",
       "    </tr>\n",
       "  </thead>\n",
       "  <tbody>\n",
       "    <tr>\n",
       "      <th>0</th>\n",
       "      <td>9efd917f18bb5c966953b4227ddbaf43</td>\n",
       "      <td>TRIPLE_PLAY</td>\n",
       "      <td>0.304039</td>\n",
       "    </tr>\n",
       "  </tbody>\n",
       "</table>\n",
       "</div>"
      ],
      "text/plain": [
       "                   ACCOUNT_NUM.hash     Sub_Type     usage\n",
       "0  9efd917f18bb5c966953b4227ddbaf43  TRIPLE_PLAY  0.304039"
      ]
     },
     "execution_count": 209,
     "metadata": {},
     "output_type": "execute_result"
    }
   ],
   "source": [
    "data_triplet[(data_triplet['ACCOUNT_NUM.hash'] == active_user)]"
   ]
  },
  {
   "cell_type": "code",
   "execution_count": 210,
   "metadata": {},
   "outputs": [
    {
     "data": {
      "text/plain": [
       "['4G']"
      ]
     },
     "execution_count": 210,
     "metadata": {},
     "output_type": "execute_result"
    }
   ],
   "source": [
    "# check recommendations\n",
    "recommendations(active_user,1, interactions_metrix)"
   ]
  },
  {
   "cell_type": "code",
   "execution_count": 274,
   "metadata": {},
   "outputs": [],
   "source": [
    "# Apply for all users in DF\n",
    "final_df = data_triplet.groupby(\"ACCOUNT_NUM.hash\").agg({\"Sub_Type\":list})\n",
    "final_df.reset_index(inplace=True)\n",
    "\n",
    "# only getting results for first 30, due to performance issues. Need to run for whole dataset on cloud\n",
    "final_df = final_df.iloc[:30]"
   ]
  },
  {
   "cell_type": "code",
   "execution_count": 276,
   "metadata": {},
   "outputs": [],
   "source": [
    "final_df[\"recommendation\"] = final_df[\"ACCOUNT_NUM.hash\"].apply(lambda x:recommendations(x,1,interactions_metrix))"
   ]
  },
  {
   "cell_type": "code",
   "execution_count": 278,
   "metadata": {},
   "outputs": [],
   "source": [
    "# save scored dataset\n",
    "final_df.to_csv(\"data/up-selling-scored/scored.csv\")"
   ]
  },
  {
   "cell_type": "markdown",
   "metadata": {},
   "source": [
    "### Find Feasible Locations to Recommend Peo TV"
   ]
  },
  {
   "cell_type": "code",
   "execution_count": 241,
   "metadata": {},
   "outputs": [],
   "source": [
    "count_to_plt = 30\n",
    "confident_threshold = 60"
   ]
  },
  {
   "cell_type": "code",
   "execution_count": 242,
   "metadata": {},
   "outputs": [],
   "source": [
    "user_profile_loc = user_profile.groupby('Location_Identifier').count()[\"ACCOUNT_NUM.hash\"]\n",
    "max_to_plot_up = user_profile_loc.iloc[:count_to_plt]"
   ]
  },
  {
   "cell_type": "code",
   "execution_count": 243,
   "metadata": {},
   "outputs": [],
   "source": [
    "user_profile_peo_loc = user_profile[(user_profile[\"Sub_Type\"] == \"TRIPLE_PLAY\") | (user_profile[\"Sub_Type\"] == \"DOUBLE_PLAY_PV\")].groupby('Location_Identifier').count()[\"ACCOUNT_NUM.hash\"]"
   ]
  },
  {
   "cell_type": "code",
   "execution_count": 244,
   "metadata": {},
   "outputs": [
    {
     "data": {
      "text/plain": [
       "<matplotlib.legend.Legend at 0x169142460>"
      ]
     },
     "execution_count": 244,
     "metadata": {},
     "output_type": "execute_result"
    },
    {
     "data": {
      "image/png": "[encoded data removed]",
      "text/plain": [
       "<Figure size 1296x720 with 1 Axes>"
      ]
     },
     "metadata": {
      "needs_background": "light"
     },
     "output_type": "display_data"
    }
   ],
   "source": [
    "max_to_plot_pt = user_profile_peo_loc.iloc[:count_to_plt] \n",
    "\n",
    "ax = max_to_plot_up.plot(stacked=True, kind=\"bar\", figsize=(18,10), color=\"green\")\n",
    "max_to_plot_pt.plot(stacked=True, kind=\"bar\",ax=ax, figsize=(18,10), color=\"blue\")\n",
    "plt.legend([\"All\",\"PeoTV\"])"
   ]
  },
  {
   "cell_type": "code",
   "execution_count": 245,
   "metadata": {},
   "outputs": [],
   "source": [
    "loc_precentage=(user_profile_peo_loc/user_profile_loc)*100"
   ]
  },
  {
   "cell_type": "code",
   "execution_count": 246,
   "metadata": {},
   "outputs": [
    {
     "data": {
      "text/plain": [
       "Location_Identifier\n",
       "DSLAM-ZTE_BS-NODE_40622_1      100.000000\n",
       "DSLAM-ZTE_KY-NODE_41122_1      100.000000\n",
       "DSLAM-ZTE_MUR-NODE_41071_1     100.000000\n",
       "DSLAM-ZTE_VG-NODE_41271_1      100.000000\n",
       "MSAN-IG_AD-NODE_1197146_4       66.666667\n",
       "                                  ...    \n",
       "NGN-MSAN_UDT-NODE_1560655_1    100.000000\n",
       "NGN-MSAN_UDT-NODE_38740_2       75.000000\n",
       "NGN-MSAN_UM-NODE_39281_1       100.000000\n",
       "NGN-MSAN_UNW-NODE_39621_1       72.222222\n",
       "NGN-MSAN_YA-NODE_38697_1        72.727273\n",
       "Name: ACCOUNT_NUM.hash, Length: 1804, dtype: float64"
      ]
     },
     "execution_count": 246,
     "metadata": {},
     "output_type": "execute_result"
    }
   ],
   "source": [
    "loc_precentage[(loc_precentage > confident_threshold)]"
   ]
  },
  {
   "cell_type": "markdown",
   "metadata": {},
   "source": [
    "## Feasible locations to offer Broadband"
   ]
  },
  {
   "cell_type": "code",
   "execution_count": 247,
   "metadata": {},
   "outputs": [],
   "source": [
    "user_profile_bb_loc = user_profile[(user_profile[\"Sub_Type\"] == \"TRIPLE_PLAY\") | (user_profile[\"Sub_Type\"] == \"DOUBLE_PLAY_BV\")].groupby('Location_Identifier').count()[\"ACCOUNT_NUM.hash\"]"
   ]
  },
  {
   "cell_type": "code",
   "execution_count": 248,
   "metadata": {},
   "outputs": [
    {
     "data": {
      "text/plain": [
       "<matplotlib.legend.Legend at 0x169290d30>"
      ]
     },
     "execution_count": 248,
     "metadata": {},
     "output_type": "execute_result"
    },
    {
     "data": {
      "image/png": "[encoded data removed]",
      "text/plain": [
       "<Figure size 1296x720 with 1 Axes>"
      ]
     },
     "metadata": {
      "needs_background": "light"
     },
     "output_type": "display_data"
    }
   ],
   "source": [
    "max_to_plot_bb = user_profile_bb_loc.iloc[:count_to_plt] \n",
    "\n",
    "ax = max_to_plot_up.plot(stacked=True, kind=\"bar\", figsize=(18,10), color=\"pink\")\n",
    "max_to_plot_bb.plot(stacked=True, kind=\"bar\",ax=ax, figsize=(18,10), color=\"red\")\n",
    "plt.legend([\"All\",\"BroadBand\"])"
   ]
  },
  {
   "cell_type": "code",
   "execution_count": 92,
   "metadata": {},
   "outputs": [],
   "source": [
    "loc_precentage=(user_profile_bb_loc/user_profile_loc)*100"
   ]
  },
  {
   "cell_type": "code",
   "execution_count": 249,
   "metadata": {},
   "outputs": [
    {
     "data": {
      "text/plain": [
       "Location_Identifier\n",
       "DSLAM-ZTE_BS-NODE_40622_1      100.000000\n",
       "DSLAM-ZTE_KY-NODE_41122_1      100.000000\n",
       "DSLAM-ZTE_MUR-NODE_41071_1     100.000000\n",
       "DSLAM-ZTE_VG-NODE_41271_1      100.000000\n",
       "MSAN-IG_AD-NODE_1197146_4       66.666667\n",
       "                                  ...    \n",
       "NGN-MSAN_UDT-NODE_1560655_1    100.000000\n",
       "NGN-MSAN_UDT-NODE_38740_2       75.000000\n",
       "NGN-MSAN_UM-NODE_39281_1       100.000000\n",
       "NGN-MSAN_UNW-NODE_39621_1       72.222222\n",
       "NGN-MSAN_YA-NODE_38697_1        72.727273\n",
       "Name: ACCOUNT_NUM.hash, Length: 1804, dtype: float64"
      ]
     },
     "execution_count": 249,
     "metadata": {},
     "output_type": "execute_result"
    }
   ],
   "source": [
    "loc_precentage[(loc_precentage > confident_threshold)]"
   ]
  },
  {
   "cell_type": "code",
   "execution_count": null,
   "metadata": {},
   "outputs": [],
   "source": []
  },
  {
   "cell_type": "markdown",
   "metadata": {},
   "source": [
    "## Feasible users to offer Broadband based on Extra Usage"
   ]
  },
  {
   "cell_type": "code",
   "execution_count": 256,
   "metadata": {},
   "outputs": [],
   "source": [
    "extra_gb_freq_users = user_profile[(user_profile[\"BB_Extra_GB_Purchased_Scaled\"]>0.1)]"
   ]
  },
  {
   "cell_type": "code",
   "execution_count": 257,
   "metadata": {},
   "outputs": [],
   "source": [
    "extra_gb_mostly_used_users = extra_gb_freq_users[\"ACCOUNT_NUM.hash\"]"
   ]
  },
  {
   "cell_type": "code",
   "execution_count": 258,
   "metadata": {},
   "outputs": [
    {
     "data": {
      "text/plain": [
       "55"
      ]
     },
     "execution_count": 258,
     "metadata": {},
     "output_type": "execute_result"
    }
   ],
   "source": [
    "len(extra_gb_mostly_used_users)"
   ]
  },
  {
   "cell_type": "code",
   "execution_count": 259,
   "metadata": {},
   "outputs": [
    {
     "data": {
      "text/plain": [
       "[Text(0, 0, 'ae1a4ead248bfb7d1a488bfc635666cc'),\n",
       " Text(1, 0, 'd6b760a42f8f3926a63962eb76b9e86e'),\n",
       " Text(2, 0, 'df65befbb410c495c93a6a13d49fc4e5'),\n",
       " Text(3, 0, '61aa5e68b8ccfccc48431624935a8c07'),\n",
       " Text(4, 0, '26ad90cda5853a269cf3ece6e5ac2e78'),\n",
       " Text(5, 0, 'a04df42d11b962cc471d38f4417179ee'),\n",
       " Text(6, 0, 'b1c1bdb2ebe2447050a24abe59f362b5'),\n",
       " Text(7, 0, '5883ec5bf05c4f826c94d1417cbebbf8'),\n",
       " Text(8, 0, '2067312b0d3c8b725ef695cafdefba9e'),\n",
       " Text(9, 0, 'a46c8ccb0df1f81619c88567aebb4ac5'),\n",
       " Text(10, 0, '926b1317aeb68574618f5dba8b8aede2'),\n",
       " Text(11, 0, '509a96cde1a9340257b635860d06444f'),\n",
       " Text(12, 0, 'ab2cdc277ae38a54b4939b163678f9ee'),\n",
       " Text(13, 0, '6a662a7f4788ee04cbe39736e965ad81'),\n",
       " Text(14, 0, '02371f280569846562c1e8d90ff2e0a5'),\n",
       " Text(15, 0, '459b596a01c06ff833794d6f29f9906e'),\n",
       " Text(16, 0, '01b5ac7db32dcddb2004f49e4e1b1cb4'),\n",
       " Text(17, 0, '77c34fec4f4ac16f7b1351c9ded3a6ea'),\n",
       " Text(18, 0, '4661c5be2118a3cf3bae06d2b1a2ee57'),\n",
       " Text(19, 0, '3db1215234ca452adb5989d8403d3b47')]"
      ]
     },
     "execution_count": 259,
     "metadata": {},
     "output_type": "execute_result"
    },
    {
     "data": {
      "image/png": "[encoded data removed]",
      "text/plain": [
       "<Figure size 720x432 with 1 Axes>"
      ]
     },
     "metadata": {
      "needs_background": "light"
     },
     "output_type": "display_data"
    }
   ],
   "source": [
    "plt.figure(figsize=(10,6))\n",
    "extra_gb_bar_plot = sns.barplot(data=extra_gb_freq_users.sample(n=20),x='ACCOUNT_NUM.hash', y='BB_Extra_GB_Purchased_Scaled')\n",
    "\n",
    "extra_gb_bar_plot.set_xticklabels(extra_gb_bar_plot.get_xticklabels(), \n",
    "                          rotation=90, \n",
    "                          horizontalalignment='right')"
   ]
  },
  {
   "cell_type": "markdown",
   "metadata": {},
   "source": [
    "## Evaluation"
   ]
  },
  {
   "cell_type": "code",
   "execution_count": null,
   "metadata": {},
   "outputs": [],
   "source": []
  }
 ],
 "metadata": {
  "kernelspec": {
   "display_name": "Python 3 (ipykernel)",
   "language": "python",
   "name": "python3"
  },
  "language_info": {
   "codemirror_mode": {
    "name": "ipython",
    "version": 3
   },
   "file_extension": ".py",
   "mimetype": "text/x-python",
   "name": "python",
   "nbconvert_exporter": "python",
   "pygments_lexer": "ipython3",
   "version": "3.8.12"
  }
 },
 "nbformat": 4,
 "nbformat_minor": 4
}
