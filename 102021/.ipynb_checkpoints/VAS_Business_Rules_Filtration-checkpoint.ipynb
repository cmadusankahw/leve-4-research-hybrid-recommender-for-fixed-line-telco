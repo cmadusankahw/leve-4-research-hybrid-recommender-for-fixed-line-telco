{
 "cells": [
  {
   "cell_type": "code",
   "execution_count": 70,
   "metadata": {},
   "outputs": [],
   "source": [
    "import pandas as pd\n",
    "from math import nan"
   ]
  },
  {
   "cell_type": "code",
   "execution_count": 71,
   "metadata": {},
   "outputs": [],
   "source": [
    "user_content = pd.read_csv(\"data/azure/VAS_user_content.csv\")"
   ]
  },
  {
   "cell_type": "code",
   "execution_count": 72,
   "metadata": {},
   "outputs": [],
   "source": [
    "scored_df = pd.read_parquet(\"data/azure/scored/vas_scored.parquet\")"
   ]
  },
  {
   "cell_type": "markdown",
   "metadata": {},
   "source": [
    "### reules Definition"
   ]
  },
  {
   "cell_type": "code",
   "execution_count": 73,
   "metadata": {},
   "outputs": [],
   "source": [
    "package_name = \"VAS_Package\""
   ]
  },
  {
   "cell_type": "code",
   "execution_count": 74,
   "metadata": {},
   "outputs": [],
   "source": [
    "\"\"\"\n",
    "    Package Filtration by type\n",
    "\"\"\"\n",
    "def filter_packages_by_name(pack_name,col):\n",
    "    if not isinstance(col, float) and col is not None and not isinstance (pack_name, float) and pack_name is not None:\n",
    "        if \"LTE\" in pack_name:\n",
    "            if \"LTE\" in col or \"FTTH\" not in col:\n",
    "                return col\n",
    "        if \"Megaline\" in pack_name:\n",
    "            if \"LTE\" not in col:\n",
    "                return col\n",
    "        if \"FTTH\" in pack_name:\n",
    "            if \"LTE\" not in col and \"FTTH\" in col:\n",
    "                return col\n",
    "        if \"NO_INFO\" in pack_name or \"NO INFO\" in pack_name:\n",
    "            return col\n",
    "\n",
    "\"\"\"\n",
    "    Check subscription \n",
    "\"\"\"\n",
    "def filter_packages_by_subscription(is_sub,col):\n",
    "    if not isinstance(is_sub, float):\n",
    "        if \"YES\" not in is_sub:\n",
    "            return col\n",
    "        if \"NO_INFO\" in is_sub or \"NO INFO\" in is_sub:\n",
    "            return col\n",
    "\n",
    "    \n",
    "\"\"\"\n",
    "    Filter by most subscription type\n",
    "\"\"\"\n",
    "def filter_packages_by_sub_type(ori_pack, col, sub_type):\n",
    "    if not isinstance(col, float) and not isinstance(ori_pack, float):\n",
    "        fin = nan\n",
    "        if \"SINGLE_PLAY\" in sub_type:\n",
    "            if \"BB\" not in col and (\"Peo\" not in col and \"PEO\" not in col and \"peo\" not in col):\n",
    "                fin = col\n",
    "        if \"DOUBLE_PLAY_PV\" in sub_type:\n",
    "            if \"BB\" not in col:\n",
    "                fin = col\n",
    "        if \"DOUBLE_PLAY_BV\" in sub_type:\n",
    "            if \"Peo\" not in col and \"PEO\" not in col and \"peo\" not in col:\n",
    "                fin = col\n",
    "        return fin "
   ]
  },
  {
   "cell_type": "code",
   "execution_count": 75,
   "metadata": {},
   "outputs": [],
   "source": [
    "scored_df.drop([\"Predicted Rating 1\",\"Predicted Rating 2\",\"Predicted Rating 3\",\"Predicted Rating 4\",\"Predicted Rating 5\"],axis=1, inplace=True)"
   ]
  },
  {
   "cell_type": "code",
   "execution_count": 76,
   "metadata": {},
   "outputs": [],
   "source": [
    "scored_df = scored_df.merge(user_content[[\"ACCOUNT_NUM.hash\",package_name,\"is_Subscription\",\"Product_Type\",\"Sub_Type\"]].drop_duplicates([\"ACCOUNT_NUM.hash\",package_name]),left_on=\"User\", right_on=\"ACCOUNT_NUM.hash\", how=\"left\").drop(\"ACCOUNT_NUM.hash\",axis=1)"
   ]
  },
  {
   "cell_type": "code",
   "execution_count": 77,
   "metadata": {},
   "outputs": [],
   "source": [
    "recommender_cols = [\"Recommended Item 1\",\"Recommended Item 2\",\"Recommended Item 3\",\"Recommended Item 4\",\"Recommended Item 5\"]"
   ]
  },
  {
   "cell_type": "markdown",
   "metadata": {},
   "source": [
    "### Applying Rules"
   ]
  },
  {
   "cell_type": "code",
   "execution_count": 78,
   "metadata": {},
   "outputs": [],
   "source": [
    "for col in recommender_cols:\n",
    "    scored_df[col] = scored_df.apply(lambda x: filter_packages_by_sub_type(x[package_name],x[col],x[\"Sub_Type\"]), axis=1)"
   ]
  },
  {
   "cell_type": "code",
   "execution_count": 79,
   "metadata": {},
   "outputs": [],
   "source": [
    "for col in recommender_cols:\n",
    "    scored_df[col] = scored_df.apply(lambda x: filter_packages_by_name(x[\"Product_Type\"],x[col]), axis=1)"
   ]
  },
  {
   "cell_type": "code",
   "execution_count": 80,
   "metadata": {},
   "outputs": [],
   "source": [
    "scored_df.dropna(subset=recommender_cols,inplace=True)"
   ]
  },
  {
   "cell_type": "code",
   "execution_count": 81,
   "metadata": {},
   "outputs": [],
   "source": [
    "scored_df.drop([package_name,\"is_Subscription\",\"Product_Type\",\"Sub_Type\"],axis=1, inplace=True)"
   ]
  },
  {
   "cell_type": "code",
   "execution_count": 82,
   "metadata": {},
   "outputs": [
    {
     "data": {
      "text/plain": [
       "(1480, 6)"
      ]
     },
     "execution_count": 82,
     "metadata": {},
     "output_type": "execute_result"
    }
   ],
   "source": [
    "# test\n",
    "scored_df.shape"
   ]
  },
  {
   "cell_type": "code",
   "execution_count": 83,
   "metadata": {},
   "outputs": [
    {
     "data": {
      "text/plain": [
       "Recommended Item 1       Recommended Item 2           Recommended Item 3           Recommended Item 4                        Recommended Item 5                      \n",
       "eChanneling Subcription  BB_ Entertainment Unlimited  Package Rental Through ADSL  Meet Max                                  AB_Additional Distance                      474\n",
       "                                                                                                                             V_Detailed Bill                             461\n",
       "                                                                                                                             Meet Lite                                   261\n",
       "                                                                                   V_Detailed Bill                           Meet Max                                     54\n",
       "                                                                                   AB_Additional Distance                    Meet Max                                     41\n",
       "                                                                                   Meet Lite                                 Meet Max                                     28\n",
       "                                                                                   Meet Max                                  P_Call park                                  25\n",
       "                                                                                                                             V_Referral offer Discount                    22\n",
       "                                                                                                                             V_Miscellaneous Service                      19\n",
       "                                                                                                                             P_Additional features -Double VAS Bundle     19\n",
       "                                                      Meet Max                     Package Rental Through ADSL               V_Detailed Bill                              15\n",
       "                                                      Package Rental Through ADSL  Meet Max                                  V_E-channeling Registration                   7\n",
       "                                                      Meet Max                     Package Rental Through ADSL               AB_Additional Distance                        6\n",
       "                                                                                                                             Meet Lite                                     6\n",
       "                                                      Package Rental Through ADSL  Meet Max                                  V_One-Time Detailed Bill                      6\n",
       "                                                                                   AB_Additional Distance                    V_Detailed Bill                               6\n",
       "                                                                                   V_Detailed Bill                           AB_Additional Distance                        4\n",
       "                                                                                   AB_Additional Distance                    Meet Lite                                     4\n",
       "                                                                                   P_Call park                               Meet Max                                      3\n",
       "                                                      Meet Lite                    Package Rental Through ADSL               Meet Max                                      3\n",
       "                                                      Package Rental Through ADSL  P_Additional features -Double VAS Bundle  Meet Max                                      2\n",
       "                                                                                   V_Detailed Bill                           Meet Lite                                     2\n",
       "                                                                                   Meet Max                                  V-Basic4_TeleLife                             2\n",
       "                                                                                   V_Referral offer Discount                 Meet Max                                      2\n",
       "                                                                                   P_Additional features -Double VAS Bundle  AB_Additional Distance                        1\n",
       "                                                      Meet Max                     AB_Additional Distance                    Package Rental Through ADSL                   1\n",
       "                                                      Package Rental Through ADSL  Meet Lite                                 V_Detailed Bill                               1\n",
       "                                                                                                                             AB_Additional Distance                        1\n",
       "                                                                                   AB_Additional Distance                    V_Miscellaneous Service                       1\n",
       "                                                                                   V_Miscellaneous Service                   Meet Lite                                     1\n",
       "                                                                                                                             Meet Max                                      1\n",
       "                                                                                   V_One-Time Detailed Bill                  Meet Max                                      1\n",
       "dtype: int64"
      ]
     },
     "execution_count": 83,
     "metadata": {},
     "output_type": "execute_result"
    }
   ],
   "source": [
    "# test\n",
    "scored_df[recommender_cols].value_counts() "
   ]
  },
  {
   "cell_type": "code",
   "execution_count": 84,
   "metadata": {},
   "outputs": [],
   "source": [
    "scored_df.to_csv(\"data/azure/scored/vas_scored_filterd.csv\")"
   ]
  }
 ],
 "metadata": {
  "kernelspec": {
   "display_name": "Python 3 (ipykernel)",
   "language": "python",
   "name": "python3"
  },
  "language_info": {
   "codemirror_mode": {
    "name": "ipython",
    "version": 3
   },
   "file_extension": ".py",
   "mimetype": "text/x-python",
   "name": "python",
   "nbconvert_exporter": "python",
   "pygments_lexer": "ipython3",
   "version": "3.8.12"
  }
 },
 "nbformat": 4,
 "nbformat_minor": 4
}
