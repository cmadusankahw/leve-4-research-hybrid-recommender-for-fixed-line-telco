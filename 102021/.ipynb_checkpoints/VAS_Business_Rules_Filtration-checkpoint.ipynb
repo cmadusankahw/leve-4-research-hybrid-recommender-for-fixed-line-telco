{
 "cells": [
  {
   "cell_type": "code",
   "execution_count": 7,
   "metadata": {},
   "outputs": [],
   "source": [
    "import pandas as pd\n",
    "from math import nan"
   ]
  },
  {
   "cell_type": "code",
   "execution_count": 8,
   "metadata": {},
   "outputs": [],
   "source": [
    "user_content = pd.read_csv(\"data/azure/VAS_user_content.csv\")"
   ]
  },
  {
   "cell_type": "code",
   "execution_count": 9,
   "metadata": {},
   "outputs": [],
   "source": [
    "scored_df = pd.read_parquet(\"data/azure/scored/vas_scored.parquet\")"
   ]
  },
  {
   "cell_type": "markdown",
   "metadata": {},
   "source": [
    "### reules Definition"
   ]
  },
  {
   "cell_type": "code",
   "execution_count": 10,
   "metadata": {},
   "outputs": [],
   "source": [
    "package_name = \"VAS_Package\""
   ]
  },
  {
   "cell_type": "code",
   "execution_count": 11,
   "metadata": {},
   "outputs": [],
   "source": [
    "\"\"\"\n",
    "    Package Filtration by type\n",
    "\"\"\"\n",
    "def filter_packages_by_name(pack_name,col):\n",
    "    if not isinstance(col, float) and col is not None and not isinstance (pack_name, float) and pack_name is not None:\n",
    "        if \"LTE\" in pack_name:\n",
    "            if \"LTE\" in col or \"FTTH\" not in col:\n",
    "                return col\n",
    "        if \"Megaline\" in pack_name:\n",
    "            if \"LTE\" not in col:\n",
    "                return col\n",
    "        if \"FTTH\" in pack_name:\n",
    "            if \"LTE\" not in col and \"FTTH\" in col:\n",
    "                return col\n",
    "        if \"NO_INFO\" in pack_name or \"NO INFO\" in pack_name:\n",
    "            return col\n",
    "\n",
    "\"\"\"\n",
    "    Check subscription \n",
    "\"\"\"\n",
    "def filter_packages_by_subscription(is_sub,col):\n",
    "    if not isinstance(is_sub, float):\n",
    "        if \"YES\" not in is_sub:\n",
    "            return col\n",
    "        if \"NO_INFO\" in is_sub or \"NO INFO\" in is_sub:\n",
    "            return col\n",
    "\n",
    "    \n",
    "\"\"\"\n",
    "    Filter by most subscription type\n",
    "\"\"\"\n",
    "def filter_packages_by_sub_type(ori_pack, col, sub_type):\n",
    "    if not isinstance(col, float) and not isinstance(ori_pack, float):\n",
    "        fin = nan\n",
    "        if \"SINGLE_PLAY\" in sub_type:\n",
    "            if \"BB\" not in col and (\"Peo\" not in col and \"PEO\" not in col and \"peo\" not in col):\n",
    "                fin = col\n",
    "        if \"DOUBLE_PLAY_PV\" in sub_type:\n",
    "            if \"BB\" not in col:\n",
    "                fin = col\n",
    "        if \"DOUBLE_PLAY_BV\" in sub_type:\n",
    "            if \"Peo\" not in col and \"PEO\" not in col and \"peo\" not in col:\n",
    "                fin = col\n",
    "        return fin "
   ]
  },
  {
   "cell_type": "code",
   "execution_count": 12,
   "metadata": {},
   "outputs": [],
   "source": [
    "scored_df = scored_df.merge(user_content[[\"ACCOUNT_NUM.hash\",package_name,\"is_Subscription\",\"Product_Type\",\"Sub_Type\"]].drop_duplicates([\"ACCOUNT_NUM.hash\",package_name]),left_on=\"User\", right_on=\"ACCOUNT_NUM.hash\", how=\"left\").drop(\"ACCOUNT_NUM.hash\",axis=1)"
   ]
  },
  {
   "cell_type": "code",
   "execution_count": 13,
   "metadata": {},
   "outputs": [],
   "source": [
    "recommender_cols = [\"Recommended Item 1\",\"Recommended Item 2\",\"Recommended Item 3\",\"Recommended Item 4\",\"Recommended Item 5\"]"
   ]
  },
  {
   "cell_type": "markdown",
   "metadata": {},
   "source": [
    "### Applying Rules"
   ]
  },
  {
   "cell_type": "code",
   "execution_count": 14,
   "metadata": {},
   "outputs": [],
   "source": [
    "for col in recommender_cols:\n",
    "    scored_df[col] = scored_df.apply(lambda x: filter_packages_by_sub_type(x[package_name],x[col],x[\"Sub_Type\"]), axis=1)"
   ]
  },
  {
   "cell_type": "code",
   "execution_count": 15,
   "metadata": {},
   "outputs": [],
   "source": [
    "for col in recommender_cols:\n",
    "    scored_df[col] = scored_df.apply(lambda x: filter_packages_by_name(x[\"Product_Type\"],x[col]), axis=1)"
   ]
  },
  {
   "cell_type": "code",
   "execution_count": 16,
   "metadata": {},
   "outputs": [],
   "source": [
    "scored_df.dropna(subset=recommender_cols,inplace=True)"
   ]
  },
  {
   "cell_type": "code",
   "execution_count": 17,
   "metadata": {},
   "outputs": [],
   "source": [
    "scored_df.drop([package_name,\"is_Subscription\",\"Product_Type\",\"Sub_Type\"],axis=1, inplace=True)"
   ]
  },
  {
   "cell_type": "code",
   "execution_count": 18,
   "metadata": {},
   "outputs": [
    {
     "data": {
      "text/plain": [
       "(2045, 11)"
      ]
     },
     "execution_count": 18,
     "metadata": {},
     "output_type": "execute_result"
    }
   ],
   "source": [
    "# test\n",
    "scored_df.shape"
   ]
  },
  {
   "cell_type": "markdown",
   "metadata": {},
   "source": [
    "## Filter by Confidence of Recommendations"
   ]
  },
  {
   "cell_type": "code",
   "execution_count": 19,
   "metadata": {},
   "outputs": [],
   "source": [
    "rated_df = scored_df.describe()"
   ]
  },
  {
   "cell_type": "code",
   "execution_count": 20,
   "metadata": {},
   "outputs": [],
   "source": [
    "def filter_by_confidence(data_df, col_list):\n",
    "    i = 0\n",
    "    for col in col_list:\n",
    "        if col > data_df.iloc[1,i]:\n",
    "            return \"YES\"\n",
    "        i = i +1\n",
    "    return \"NO\""
   ]
  },
  {
   "cell_type": "code",
   "execution_count": 21,
   "metadata": {},
   "outputs": [],
   "source": [
    "scored_df[\"Best_Recommendations\"] = scored_df.apply(lambda x: filter_by_confidence(rated_df,[x[\"Predicted Rating 1\"],x[\"Predicted Rating 2\"],x[\"Predicted Rating 3\"],x[\"Predicted Rating 4\"],x[\"Predicted Rating 5\"]]), axis=1)"
   ]
  },
  {
   "cell_type": "code",
   "execution_count": 22,
   "metadata": {},
   "outputs": [
    {
     "data": {
      "text/plain": [
       "YES    1685\n",
       "NO      360\n",
       "Name: Best_Recommendations, dtype: int64"
      ]
     },
     "execution_count": 22,
     "metadata": {},
     "output_type": "execute_result"
    }
   ],
   "source": [
    "scored_df[\"Best_Recommendations\"].value_counts()"
   ]
  },
  {
   "cell_type": "code",
   "execution_count": 23,
   "metadata": {},
   "outputs": [],
   "source": [
    "scored_df.drop([\"Predicted Rating 1\",\"Predicted Rating 2\",\"Predicted Rating 3\",\"Predicted Rating 4\",\"Predicted Rating 5\"],axis=1, inplace=True)"
   ]
  },
  {
   "cell_type": "code",
   "execution_count": 24,
   "metadata": {},
   "outputs": [
    {
     "data": {
      "text/html": [
       "<div>\n",
       "<style scoped>\n",
       "    .dataframe tbody tr th:only-of-type {\n",
       "        vertical-align: middle;\n",
       "    }\n",
       "\n",
       "    .dataframe tbody tr th {\n",
       "        vertical-align: top;\n",
       "    }\n",
       "\n",
       "    .dataframe thead th {\n",
       "        text-align: right;\n",
       "    }\n",
       "</style>\n",
       "<table border=\"1\" class=\"dataframe\">\n",
       "  <thead>\n",
       "    <tr style=\"text-align: right;\">\n",
       "      <th></th>\n",
       "      <th>User</th>\n",
       "      <th>Recommended Item 1</th>\n",
       "      <th>Recommended Item 2</th>\n",
       "      <th>Recommended Item 3</th>\n",
       "      <th>Recommended Item 4</th>\n",
       "      <th>Recommended Item 5</th>\n",
       "      <th>Best_Recommendations</th>\n",
       "    </tr>\n",
       "  </thead>\n",
       "  <tbody>\n",
       "    <tr>\n",
       "      <th>0</th>\n",
       "      <td>000eee57a6c7a02c8aca8b410ea2e287</td>\n",
       "      <td>eChanneling Subcription</td>\n",
       "      <td>BB_ Entertainment Unlimited</td>\n",
       "      <td>Package Rental Through ADSL</td>\n",
       "      <td>Meet Max</td>\n",
       "      <td>Meet Lite</td>\n",
       "      <td>YES</td>\n",
       "    </tr>\n",
       "    <tr>\n",
       "      <th>3</th>\n",
       "      <td>00151cfd733cd1a97ae7fa72dc49907a</td>\n",
       "      <td>eChanneling Subcription</td>\n",
       "      <td>BB_ Entertainment Unlimited</td>\n",
       "      <td>Package Rental Through ADSL</td>\n",
       "      <td>Meet Max</td>\n",
       "      <td>Meet Lite</td>\n",
       "      <td>YES</td>\n",
       "    </tr>\n",
       "    <tr>\n",
       "      <th>9</th>\n",
       "      <td>004084d588fbe768fe77660e2cad665d</td>\n",
       "      <td>eChanneling Subcription</td>\n",
       "      <td>BB_ Entertainment Unlimited</td>\n",
       "      <td>Package Rental Through ADSL</td>\n",
       "      <td>Meet Max</td>\n",
       "      <td>Meet Lite</td>\n",
       "      <td>YES</td>\n",
       "    </tr>\n",
       "    <tr>\n",
       "      <th>27</th>\n",
       "      <td>00a76224057f47154cf94a2119c7464a</td>\n",
       "      <td>eChanneling Subcription</td>\n",
       "      <td>BB_ Entertainment Unlimited</td>\n",
       "      <td>Package Rental Through ADSL</td>\n",
       "      <td>Meet Max</td>\n",
       "      <td>Meet Lite</td>\n",
       "      <td>YES</td>\n",
       "    </tr>\n",
       "    <tr>\n",
       "      <th>30</th>\n",
       "      <td>00b28798952fc029099208632c4b2afe</td>\n",
       "      <td>eChanneling Subcription</td>\n",
       "      <td>BB_ Entertainment Unlimited</td>\n",
       "      <td>Package Rental Through ADSL</td>\n",
       "      <td>Meet Max</td>\n",
       "      <td>Meet Lite</td>\n",
       "      <td>YES</td>\n",
       "    </tr>\n",
       "  </tbody>\n",
       "</table>\n",
       "</div>"
      ],
      "text/plain": [
       "                                User       Recommended Item 1  \\\n",
       "0   000eee57a6c7a02c8aca8b410ea2e287  eChanneling Subcription   \n",
       "3   00151cfd733cd1a97ae7fa72dc49907a  eChanneling Subcription   \n",
       "9   004084d588fbe768fe77660e2cad665d  eChanneling Subcription   \n",
       "27  00a76224057f47154cf94a2119c7464a  eChanneling Subcription   \n",
       "30  00b28798952fc029099208632c4b2afe  eChanneling Subcription   \n",
       "\n",
       "             Recommended Item 2           Recommended Item 3  \\\n",
       "0   BB_ Entertainment Unlimited  Package Rental Through ADSL   \n",
       "3   BB_ Entertainment Unlimited  Package Rental Through ADSL   \n",
       "9   BB_ Entertainment Unlimited  Package Rental Through ADSL   \n",
       "27  BB_ Entertainment Unlimited  Package Rental Through ADSL   \n",
       "30  BB_ Entertainment Unlimited  Package Rental Through ADSL   \n",
       "\n",
       "   Recommended Item 4 Recommended Item 5 Best_Recommendations  \n",
       "0            Meet Max          Meet Lite                  YES  \n",
       "3            Meet Max          Meet Lite                  YES  \n",
       "9            Meet Max          Meet Lite                  YES  \n",
       "27           Meet Max          Meet Lite                  YES  \n",
       "30           Meet Max          Meet Lite                  YES  "
      ]
     },
     "execution_count": 24,
     "metadata": {},
     "output_type": "execute_result"
    }
   ],
   "source": [
    "scored_df.head()"
   ]
  },
  {
   "cell_type": "code",
   "execution_count": 25,
   "metadata": {},
   "outputs": [],
   "source": [
    "scored_df.to_csv(\"data/azure/scored/vas_scored_filterd.csv\")"
   ]
  },
  {
   "cell_type": "code",
   "execution_count": null,
   "metadata": {},
   "outputs": [],
   "source": []
  }
 ],
 "metadata": {
  "kernelspec": {
   "display_name": "Python 3 (ipykernel)",
   "language": "python",
   "name": "python3"
  },
  "language_info": {
   "codemirror_mode": {
    "name": "ipython",
    "version": 3
   },
   "file_extension": ".py",
   "mimetype": "text/x-python",
   "name": "python",
   "nbconvert_exporter": "python",
   "pygments_lexer": "ipython3",
   "version": "3.8.12"
  }
 },
 "nbformat": 4,
 "nbformat_minor": 4
}
