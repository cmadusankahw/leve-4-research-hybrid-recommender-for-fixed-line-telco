{
 "cells": [
  {
   "cell_type": "code",
   "execution_count": 39,
   "metadata": {},
   "outputs": [],
   "source": [
    "# import libraries\n",
    "import numpy as np\n",
    "import pandas as pd\n",
    "import seaborn as sns\n",
    "import matplotlib.pyplot as plt\n",
    "from sklearn.preprocessing import MinMaxScaler"
   ]
  },
  {
   "cell_type": "code",
   "execution_count": 40,
   "metadata": {},
   "outputs": [],
   "source": [
    "peo_usage = pd.read_csv(\"data/user_profile/PEO_TV_Usage_CF.csv\")"
   ]
  },
  {
   "cell_type": "code",
   "execution_count": 41,
   "metadata": {},
   "outputs": [],
   "source": [
    "user_all_df = pd.read_csv(\"data/user_profile/account_no_map_all.csv\")"
   ]
  },
  {
   "cell_type": "code",
   "execution_count": 42,
   "metadata": {},
   "outputs": [],
   "source": [
    "user_profile = pd.read_csv(\"data/user_profile/prepared/User_Profile_Null_Handled.csv\")"
   ]
  },
  {
   "cell_type": "code",
   "execution_count": 43,
   "metadata": {},
   "outputs": [],
   "source": [
    "peo_usage.drop([\"Unnamed: 0\"],axis=1,inplace=True)\n",
    "user_all_df.drop([\"Unnamed: 0\"],axis=1,inplace=True)\n",
    "user_profile.drop([\"Unnamed: 0\"],axis=1,inplace=True)"
   ]
  },
  {
   "cell_type": "code",
   "execution_count": 44,
   "metadata": {},
   "outputs": [],
   "source": [
    "peo_usage = peo_usage.merge(user_all_df[[\"event_source.hash\",\"ACCOUNT_NUM.hash\"]], on=\"event_source.hash\", how=\"left\")\n",
    "peo_usage.drop([\"event_source.hash\"],axis=1, inplace=True)\n",
    "peo_usage.drop_duplicates([\"ACCOUNT_NUM.hash\",\"usage\",\"rating\",\"year-month\"],inplace=True)\n",
    "peo_usage.dropna(subset=[\"ACCOUNT_NUM.hash\"], inplace=True)"
   ]
  },
  {
   "cell_type": "markdown",
   "metadata": {},
   "source": [
    "### Exporting Package Names"
   ]
  },
  {
   "cell_type": "code",
   "execution_count": 45,
   "metadata": {},
   "outputs": [],
   "source": [
    "peo_usage[[\"rating\",\"Peo_TV_Package\"]].drop_duplicates([\"Peo_TV_Package\"]).to_csv(\"data/product_catalog/Peo_Names.csv\")"
   ]
  },
  {
   "cell_type": "code",
   "execution_count": 46,
   "metadata": {},
   "outputs": [
    {
     "name": "stderr",
     "output_type": "stream",
     "text": [
      "/Users/chiranhewawitharana/mambaforge/envs/mactf/lib/python3.8/site-packages/pandas/core/frame.py:5039: SettingWithCopyWarning: \n",
      "A value is trying to be set on a copy of a slice from a DataFrame\n",
      "\n",
      "See the caveats in the documentation: https://pandas.pydata.org/pandas-docs/stable/user_guide/indexing.html#returning-a-view-versus-a-copy\n",
      "  return super().rename(\n"
     ]
    }
   ],
   "source": [
    "rating_df=peo_usage[[\"ACCOUNT_NUM.hash\",\"Peo_TV_Package\",\"rating\"]]\n",
    "rating_df.rename(columns={'rating':'ratings','Peo_TV_Package':'package'},inplace=True)"
   ]
  },
  {
   "cell_type": "code",
   "execution_count": 48,
   "metadata": {},
   "outputs": [
    {
     "name": "stderr",
     "output_type": "stream",
     "text": [
      "/Users/chiranhewawitharana/mambaforge/envs/mactf/lib/python3.8/site-packages/pandas/core/frame.py:4906: SettingWithCopyWarning: \n",
      "A value is trying to be set on a copy of a slice from a DataFrame\n",
      "\n",
      "See the caveats in the documentation: https://pandas.pydata.org/pandas-docs/stable/user_guide/indexing.html#returning-a-view-versus-a-copy\n",
      "  return super().drop(\n"
     ]
    }
   ],
   "source": [
    "rating_df.reset_index(inplace=True)\n",
    "rating_df.drop(\"index\", axis=1, inplace=True)"
   ]
  },
  {
   "cell_type": "code",
   "execution_count": 49,
   "metadata": {},
   "outputs": [
    {
     "data": {
      "text/html": [
       "<div>\n",
       "<style scoped>\n",
       "    .dataframe tbody tr th:only-of-type {\n",
       "        vertical-align: middle;\n",
       "    }\n",
       "\n",
       "    .dataframe tbody tr th {\n",
       "        vertical-align: top;\n",
       "    }\n",
       "\n",
       "    .dataframe thead th {\n",
       "        text-align: right;\n",
       "    }\n",
       "</style>\n",
       "<table border=\"1\" class=\"dataframe\">\n",
       "  <thead>\n",
       "    <tr style=\"text-align: right;\">\n",
       "      <th></th>\n",
       "      <th>ACCOUNT_NUM.hash</th>\n",
       "      <th>package</th>\n",
       "      <th>ratings</th>\n",
       "    </tr>\n",
       "  </thead>\n",
       "  <tbody>\n",
       "    <tr>\n",
       "      <th>0</th>\n",
       "      <td>26263ad78ddf7b871fff63dede10bea4</td>\n",
       "      <td>PEO_GOLD</td>\n",
       "      <td>0.2</td>\n",
       "    </tr>\n",
       "    <tr>\n",
       "      <th>1</th>\n",
       "      <td>26263ad78ddf7b871fff63dede10bea4</td>\n",
       "      <td>PEO_GOLD</td>\n",
       "      <td>0.2</td>\n",
       "    </tr>\n",
       "    <tr>\n",
       "      <th>2</th>\n",
       "      <td>26263ad78ddf7b871fff63dede10bea4</td>\n",
       "      <td>PEO_GOLD</td>\n",
       "      <td>0.4</td>\n",
       "    </tr>\n",
       "    <tr>\n",
       "      <th>3</th>\n",
       "      <td>26263ad78ddf7b871fff63dede10bea4</td>\n",
       "      <td>PRANAMA</td>\n",
       "      <td>0.4</td>\n",
       "    </tr>\n",
       "    <tr>\n",
       "      <th>4</th>\n",
       "      <td>26263ad78ddf7b871fff63dede10bea4</td>\n",
       "      <td>PEO_GOLD</td>\n",
       "      <td>0.4</td>\n",
       "    </tr>\n",
       "    <tr>\n",
       "      <th>...</th>\n",
       "      <td>...</td>\n",
       "      <td>...</td>\n",
       "      <td>...</td>\n",
       "    </tr>\n",
       "    <tr>\n",
       "      <th>185206</th>\n",
       "      <td>71797efd56c198810b99e62669e548ce</td>\n",
       "      <td>PEO_SILVER</td>\n",
       "      <td>0.8</td>\n",
       "    </tr>\n",
       "    <tr>\n",
       "      <th>185207</th>\n",
       "      <td>d1c8f776dced311614217c0d330342d9</td>\n",
       "      <td>PEO_SILVER</td>\n",
       "      <td>0.8</td>\n",
       "    </tr>\n",
       "    <tr>\n",
       "      <th>185208</th>\n",
       "      <td>71797efd56c198810b99e62669e548ce</td>\n",
       "      <td>PEO_SILVER</td>\n",
       "      <td>0.8</td>\n",
       "    </tr>\n",
       "    <tr>\n",
       "      <th>185209</th>\n",
       "      <td>d1c8f776dced311614217c0d330342d9</td>\n",
       "      <td>PEO_SILVER</td>\n",
       "      <td>0.8</td>\n",
       "    </tr>\n",
       "    <tr>\n",
       "      <th>185210</th>\n",
       "      <td>d1c8f776dced311614217c0d330342d9</td>\n",
       "      <td>PEO_SILVER</td>\n",
       "      <td>0.8</td>\n",
       "    </tr>\n",
       "  </tbody>\n",
       "</table>\n",
       "<p>185211 rows × 3 columns</p>\n",
       "</div>"
      ],
      "text/plain": [
       "                        ACCOUNT_NUM.hash     package  ratings\n",
       "0       26263ad78ddf7b871fff63dede10bea4    PEO_GOLD      0.2\n",
       "1       26263ad78ddf7b871fff63dede10bea4    PEO_GOLD      0.2\n",
       "2       26263ad78ddf7b871fff63dede10bea4    PEO_GOLD      0.4\n",
       "3       26263ad78ddf7b871fff63dede10bea4     PRANAMA      0.4\n",
       "4       26263ad78ddf7b871fff63dede10bea4    PEO_GOLD      0.4\n",
       "...                                  ...         ...      ...\n",
       "185206  71797efd56c198810b99e62669e548ce  PEO_SILVER      0.8\n",
       "185207  d1c8f776dced311614217c0d330342d9  PEO_SILVER      0.8\n",
       "185208  71797efd56c198810b99e62669e548ce  PEO_SILVER      0.8\n",
       "185209  d1c8f776dced311614217c0d330342d9  PEO_SILVER      0.8\n",
       "185210  d1c8f776dced311614217c0d330342d9  PEO_SILVER      0.8\n",
       "\n",
       "[185211 rows x 3 columns]"
      ]
     },
     "execution_count": 49,
     "metadata": {},
     "output_type": "execute_result"
    }
   ],
   "source": [
    "rating_df"
   ]
  },
  {
   "cell_type": "code",
   "execution_count": 50,
   "metadata": {},
   "outputs": [
    {
     "name": "stdout",
     "output_type": "stream",
     "text": [
      "<class 'pandas.core.frame.DataFrame'>\n",
      "RangeIndex: 185211 entries, 0 to 185210\n",
      "Data columns (total 3 columns):\n",
      " #   Column            Non-Null Count   Dtype  \n",
      "---  ------            --------------   -----  \n",
      " 0   ACCOUNT_NUM.hash  185211 non-null  object \n",
      " 1   package           185211 non-null  object \n",
      " 2   ratings           185211 non-null  float64\n",
      "dtypes: float64(1), object(2)\n",
      "memory usage: 4.2+ MB\n"
     ]
    }
   ],
   "source": [
    "rating_df.info()"
   ]
  },
  {
   "cell_type": "code",
   "execution_count": 51,
   "metadata": {},
   "outputs": [],
   "source": [
    "rating_df.to_csv(\"data/azure/peoTV_user_ratings.csv\")"
   ]
  },
  {
   "cell_type": "markdown",
   "metadata": {},
   "source": [
    "## User content"
   ]
  },
  {
   "cell_type": "code",
   "execution_count": 54,
   "metadata": {},
   "outputs": [],
   "source": [
    "pd.set_option(\"display.max_rows\", None, \"display.max_columns\", None)"
   ]
  },
  {
   "cell_type": "code",
   "execution_count": 58,
   "metadata": {},
   "outputs": [
    {
     "data": {
      "text/plain": [
       "ACCOUNT_NUM.hash                            0\n",
       "Voice_INCOMING_Categorical                  0\n",
       "Voice_INCOMING_Scaled                       0\n",
       "Voice_INCOMING_Outlier                      0\n",
       "Location_Identifier                         0\n",
       "Location_Node                               0\n",
       "Package_Type_and_Medium                     0\n",
       "Model                                       0\n",
       "Service_Status                              0\n",
       "Voice_OUTGOING_Categorical                  0\n",
       "Voice_OUTGOING_Scaled                       0\n",
       "Voice_OUTGOING_Outlier                      0\n",
       "IDD_INCOMING_Categorical                    0\n",
       "IDD_INCOMING_Scaled                         0\n",
       "IDD_INCOMING_Outlier                        0\n",
       "IDD_incoming_country                        0\n",
       "IDD_OUTGOING_Categorical                    0\n",
       "IDD_OUTGOING_Scaled                         0\n",
       "IDD_OUTGOING_Outlier                        0\n",
       "IDD_outgoing_country                        0\n",
       "Peo_TV_Package                              0\n",
       "PEO_TV_Categorical                          0\n",
       "PEO_TV_Scaled                               0\n",
       "BB_Categorical                              0\n",
       "BB_Scaled                                   0\n",
       "BB_Package                                  0\n",
       "GENDER                                      0\n",
       "BIRTH_YEAR                                  0\n",
       "AGE                                         0\n",
       "Voice_Overall_Categorical                   0\n",
       "IDD_Overall_Categorical                     0\n",
       "VOICE_Categorical                           0\n",
       "Subscription                                0\n",
       "Sub_Type                                    0\n",
       "Sub_Usage                                   0\n",
       "Sub_Type_State                              0\n",
       "Megaline_Package                            0\n",
       "Megaline_Month_Subscribed                   0\n",
       "Megaline_Rental                             0\n",
       "Package_Type                                0\n",
       "Megaline_Medium                             0\n",
       "is_Promotion                                0\n",
       "FTTH_Package                                0\n",
       "FTTH_Month_Subscribed                       0\n",
       "FTTH_Rental                                 0\n",
       "FTTH_Medium                                 0\n",
       "LTE_Package                                 0\n",
       "LTE_Month_Subscribed                        0\n",
       "LTE_Rental                                  0\n",
       "LTE_Medium                                  0\n",
       "VAS_Package                                 0\n",
       "VAS_Month_Subscribed                        0\n",
       "VAS_Rental                                  0\n",
       "Product_Type                                0\n",
       "VAS_Medium                                  0\n",
       "Sub_Update_Date                             0\n",
       "Sub_Update_Status                           0\n",
       "Sub_Update                                  0\n",
       "BB_Extra_GB_Rental                          0\n",
       "GB_Amount                                   0\n",
       "Hour_Subscribed                             0\n",
       "BB_Extra_GB_Usage_Times                     0\n",
       "BB_Extra_GB_Month_vs_Rental                 0\n",
       "BB_Extra_GB_Purchased_Scaled                0\n",
       "BB_Extra_GB_Purchase_Categorical            0\n",
       "Peo_Extra_Channels_Cumulative_Rental        0\n",
       "Peo_Extra_Channels_Month_vs_Rental          0\n",
       "Peo_Extra_Channels_Purchased_Scaled         0\n",
       "Peo_Extra_Channels_Purchased_Categorical    0\n",
       "Bill_Balance_Froward                        0\n",
       "Bill_Net_Invoice                            0\n",
       "Bill_Tax_Invoice                            0\n",
       "Bill_Outstanding_Balance                    0\n",
       "Bill_Amount_Paid                            0\n",
       "Bill_Faild_to_Pay                           0\n",
       "Bill_Adjustment_Paid                        0\n",
       "Bill_Refunds_Paid                           0\n",
       "Bill_Payment_Due_Date                       0\n",
       "Bill_Bill_Settled_Date                      0\n",
       "Bill_Actual_Bill_Date                       0\n",
       "Bill_Billing_Status                         0\n",
       "Payment_Status                              0\n",
       "Payments_Month_vs_Amount_Paid               0\n",
       "Package_Formatted                           0\n",
       "FREE_or_PAID                                0\n",
       "is_Subscription                             0\n",
       "TARIFF_DESC                                 0\n",
       "TARIFF_NAME                                 0\n",
       "Having_Insurance                            0\n",
       "Having_Senior_Citizen_Scaled                0\n",
       "Having_Senior_Citizen                       0\n",
       "Having_Kids_at_Home_Scaled                  0\n",
       "Having_Kids_at_Home                         0\n",
       "SMEs_Scaled                                 0\n",
       "SMEs                                        0\n",
       "Having_Teenagers_Students_Scaled            0\n",
       "Having_Teenagers_Students                   0\n",
       "Having_Working_Professionals_Scaled         0\n",
       "Having_Working_Professionals                0\n",
       "Having_Family_Member_Abroad_Scaled          0\n",
       "Having_Family_Member_Abroad                 0\n",
       "Tamil_Customer                              0\n",
       "Peo_Packages_if_Senior_Citizen              0\n",
       "Peo_Packages_if_Kids                        0\n",
       "Peo_Packages_if_Teenager_Students           0\n",
       "Peo_Package_if_Working_Professionals        0\n",
       "BB_Package_if_Working_Professionals         0\n",
       "BB_Packages_if_Teenager_Students            0\n",
       "BB_Packages_if_SMEss                        0\n",
       "VAS_if_Kids                                 0\n",
       "VAS_if_Teenager_Students                    0\n",
       "VAS_if_Working_Professionals                0\n",
       "IDD_if_Family_Member_Abroad                 0\n",
       "dtype: int64"
      ]
     },
     "execution_count": 58,
     "metadata": {},
     "output_type": "execute_result"
    }
   ],
   "source": [
    "user_profile.isna().sum()"
   ]
  },
  {
   "cell_type": "markdown",
   "metadata": {},
   "source": [
    "## TODO : Feature selection #####"
   ]
  },
  {
   "cell_type": "code",
   "execution_count": null,
   "metadata": {},
   "outputs": [],
   "source": []
  },
  {
   "cell_type": "code",
   "execution_count": 59,
   "metadata": {},
   "outputs": [],
   "source": [
    "user_profile.drop([\"Peo_TV_Package\",\"PEO_TV_Categorical\",\"PEO_TV_Scaled\",\"BIRTH_YEAR\",\"Megaline_Month_Subscribed\",\"LTE_Month_Subscribed\",\"VAS_Month_Subscribed\"], axis=1, inplace= True)"
   ]
  },
  {
   "cell_type": "code",
   "execution_count": 60,
   "metadata": {},
   "outputs": [],
   "source": [
    "user_profile.to_csv(\"data/azure/peoTV_user_content.csv\")"
   ]
  },
  {
   "cell_type": "markdown",
   "metadata": {},
   "source": [
    "## Product (package) content"
   ]
  },
  {
   "cell_type": "code",
   "execution_count": 61,
   "metadata": {},
   "outputs": [],
   "source": [
    "product_profile = pd.read_csv(\"data/product_catalog/Product_Profile_Finalised_CSV.csv\")"
   ]
  },
  {
   "cell_type": "code",
   "execution_count": 62,
   "metadata": {},
   "outputs": [
    {
     "name": "stdout",
     "output_type": "stream",
     "text": [
      "<class 'pandas.core.frame.DataFrame'>\n",
      "RangeIndex: 263 entries, 0 to 262\n",
      "Data columns (total 24 columns):\n",
      " #   Column                      Non-Null Count  Dtype  \n",
      "---  ------                      --------------  -----  \n",
      " 0   Product_ID                  263 non-null    object \n",
      " 1   Base_Type                   241 non-null    object \n",
      " 2   Pricing_Type                134 non-null    object \n",
      " 3   Package_Type                134 non-null    object \n",
      " 4   Title                       134 non-null    object \n",
      " 5   Description                 47 non-null     object \n",
      " 6   Price                       133 non-null    object \n",
      " 7   Monthly_Rental              141 non-null    float64\n",
      " 8   PEOTV_No_of_Channels        8 non-null      float64\n",
      " 9   PEOTV_Foreign_Channels      8 non-null      float64\n",
      " 10  PEOTV_Local_Channels        8 non-null      float64\n",
      " 11  PEOTV_Movie_Channels        8 non-null      float64\n",
      " 12  PEOTV_Kids_Channels         8 non-null      float64\n",
      " 13  PEOTV_Religious_Channels    8 non-null      float64\n",
      " 14  PEOTV_Tamil_Channels        8 non-null      float64\n",
      " 15  PEOTV_Educational_Channels  8 non-null      float64\n",
      " 16  PEOTV_Music_Channels        8 non-null      float64\n",
      " 17  PEOTV_Sports_Channels       8 non-null      float64\n",
      " 18  PEOTV_News_Channels         8 non-null      float64\n",
      " 19  PEOTV_HD_Pack               22 non-null     object \n",
      " 20  Subscription_Type           151 non-null    object \n",
      " 21  Recidence_Type              134 non-null    object \n",
      " 22  Tax_Status                  131 non-null    object \n",
      " 23  Conditions                  131 non-null    object \n",
      "dtypes: float64(12), object(12)\n",
      "memory usage: 49.4+ KB\n"
     ]
    }
   ],
   "source": [
    "product_df=product_profile.iloc[:,[0,1,2,3,5,6,14,15,23,24,25,26,27,28,29,30,31,32,33,34,35,37,38,39]]\n",
    "product_df.info()"
   ]
  },
  {
   "cell_type": "code",
   "execution_count": 63,
   "metadata": {},
   "outputs": [],
   "source": [
    "temp_package_df=rating_df[\"package\"]"
   ]
  },
  {
   "cell_type": "code",
   "execution_count": 64,
   "metadata": {},
   "outputs": [],
   "source": [
    "peo_tv_products_df = product_df.merge(temp_package_df.drop_duplicates(), left_on=['Product_ID'], right_on=['package'] ,\n",
    "                   how='left', indicator=True)"
   ]
  },
  {
   "cell_type": "code",
   "execution_count": 65,
   "metadata": {},
   "outputs": [],
   "source": [
    "product_df = peo_tv_products_df[(peo_tv_products_df[\"_merge\"]==\"both\")]"
   ]
  },
  {
   "cell_type": "code",
   "execution_count": 66,
   "metadata": {},
   "outputs": [
    {
     "name": "stderr",
     "output_type": "stream",
     "text": [
      "/Users/chiranhewawitharana/mambaforge/envs/mactf/lib/python3.8/site-packages/pandas/core/frame.py:4906: SettingWithCopyWarning: \n",
      "A value is trying to be set on a copy of a slice from a DataFrame\n",
      "\n",
      "See the caveats in the documentation: https://pandas.pydata.org/pandas-docs/stable/user_guide/indexing.html#returning-a-view-versus-a-copy\n",
      "  return super().drop(\n",
      "/Users/chiranhewawitharana/mambaforge/envs/mactf/lib/python3.8/site-packages/pandas/core/frame.py:5039: SettingWithCopyWarning: \n",
      "A value is trying to be set on a copy of a slice from a DataFrame\n",
      "\n",
      "See the caveats in the documentation: https://pandas.pydata.org/pandas-docs/stable/user_guide/indexing.html#returning-a-view-versus-a-copy\n",
      "  return super().rename(\n"
     ]
    }
   ],
   "source": [
    "product_df.drop([\"package\",\"_merge\"],axis=1,inplace=True)\n",
    "product_df.rename(columns={'Product_ID':'package'},inplace=True)\n",
    "product_df.reset_index(drop=True, inplace=True)"
   ]
  },
  {
   "cell_type": "code",
   "execution_count": 67,
   "metadata": {},
   "outputs": [
    {
     "name": "stdout",
     "output_type": "stream",
     "text": [
      "<class 'pandas.core.frame.DataFrame'>\n",
      "RangeIndex: 22 entries, 0 to 21\n",
      "Data columns (total 24 columns):\n",
      " #   Column                      Non-Null Count  Dtype  \n",
      "---  ------                      --------------  -----  \n",
      " 0   package                     22 non-null     object \n",
      " 1   Base_Type                   22 non-null     object \n",
      " 2   Pricing_Type                22 non-null     object \n",
      " 3   Package_Type                22 non-null     object \n",
      " 4   Title                       22 non-null     object \n",
      " 5   Description                 22 non-null     object \n",
      " 6   Price                       22 non-null     object \n",
      " 7   Monthly_Rental              8 non-null      float64\n",
      " 8   PEOTV_No_of_Channels        8 non-null      float64\n",
      " 9   PEOTV_Foreign_Channels      8 non-null      float64\n",
      " 10  PEOTV_Local_Channels        8 non-null      float64\n",
      " 11  PEOTV_Movie_Channels        8 non-null      float64\n",
      " 12  PEOTV_Kids_Channels         8 non-null      float64\n",
      " 13  PEOTV_Religious_Channels    8 non-null      float64\n",
      " 14  PEOTV_Tamil_Channels        8 non-null      float64\n",
      " 15  PEOTV_Educational_Channels  8 non-null      float64\n",
      " 16  PEOTV_Music_Channels        8 non-null      float64\n",
      " 17  PEOTV_Sports_Channels       8 non-null      float64\n",
      " 18  PEOTV_News_Channels         8 non-null      float64\n",
      " 19  PEOTV_HD_Pack               22 non-null     object \n",
      " 20  Subscription_Type           22 non-null     object \n",
      " 21  Recidence_Type              22 non-null     object \n",
      " 22  Tax_Status                  22 non-null     object \n",
      " 23  Conditions                  22 non-null     object \n",
      "dtypes: float64(12), object(12)\n",
      "memory usage: 4.2+ KB\n"
     ]
    }
   ],
   "source": [
    "product_df.info()"
   ]
  },
  {
   "cell_type": "code",
   "execution_count": 68,
   "metadata": {},
   "outputs": [],
   "source": [
    "cols =[\"PEOTV_Foreign_Channels\",\"PEOTV_Local_Channels\",\"PEOTV_Movie_Channels\",\"PEOTV_Kids_Channels\",\"PEOTV_Religious_Channels\",\"PEOTV_Tamil_Channels\",\"PEOTV_Educational_Channels\",\"PEOTV_Music_Channels\",\"PEOTV_Sports_Channels\",\"PEOTV_News_Channels\"]"
   ]
  },
  {
   "cell_type": "code",
   "execution_count": 69,
   "metadata": {},
   "outputs": [
    {
     "name": "stderr",
     "output_type": "stream",
     "text": [
      "/Users/chiranhewawitharana/mambaforge/envs/mactf/lib/python3.8/site-packages/pandas/core/frame.py:3641: SettingWithCopyWarning: \n",
      "A value is trying to be set on a copy of a slice from a DataFrame.\n",
      "Try using .loc[row_indexer,col_indexer] = value instead\n",
      "\n",
      "See the caveats in the documentation: https://pandas.pydata.org/pandas-docs/stable/user_guide/indexing.html#returning-a-view-versus-a-copy\n",
      "  self[k1] = value[k2]\n"
     ]
    }
   ],
   "source": [
    "product_df[cols] = product_df[cols].fillna(0)"
   ]
  },
  {
   "cell_type": "code",
   "execution_count": 70,
   "metadata": {},
   "outputs": [],
   "source": [
    "product_df[[\"PEOTV_No_of_Channels\",\"Monthly_Rental\"]] = product_df[[\"PEOTV_No_of_Channels\",\"Monthly_Rental\"]].fillna(0)"
   ]
  },
  {
   "cell_type": "code",
   "execution_count": 71,
   "metadata": {},
   "outputs": [
    {
     "name": "stderr",
     "output_type": "stream",
     "text": [
      "/var/folders/00/gmvdw06n48lgtsz126ng5y2m0000gn/T/ipykernel_19101/2295505821.py:3: SettingWithCopyWarning: \n",
      "A value is trying to be set on a copy of a slice from a DataFrame.\n",
      "Try using .loc[row_indexer,col_indexer] = value instead\n",
      "\n",
      "See the caveats in the documentation: https://pandas.pydata.org/pandas-docs/stable/user_guide/indexing.html#returning-a-view-versus-a-copy\n",
      "  product_df[col] = scaler.fit_transform(product_df[col].values.reshape(-1,1))\n",
      "/var/folders/00/gmvdw06n48lgtsz126ng5y2m0000gn/T/ipykernel_19101/2295505821.py:3: SettingWithCopyWarning: \n",
      "A value is trying to be set on a copy of a slice from a DataFrame.\n",
      "Try using .loc[row_indexer,col_indexer] = value instead\n",
      "\n",
      "See the caveats in the documentation: https://pandas.pydata.org/pandas-docs/stable/user_guide/indexing.html#returning-a-view-versus-a-copy\n",
      "  product_df[col] = scaler.fit_transform(product_df[col].values.reshape(-1,1))\n",
      "/var/folders/00/gmvdw06n48lgtsz126ng5y2m0000gn/T/ipykernel_19101/2295505821.py:3: SettingWithCopyWarning: \n",
      "A value is trying to be set on a copy of a slice from a DataFrame.\n",
      "Try using .loc[row_indexer,col_indexer] = value instead\n",
      "\n",
      "See the caveats in the documentation: https://pandas.pydata.org/pandas-docs/stable/user_guide/indexing.html#returning-a-view-versus-a-copy\n",
      "  product_df[col] = scaler.fit_transform(product_df[col].values.reshape(-1,1))\n",
      "/var/folders/00/gmvdw06n48lgtsz126ng5y2m0000gn/T/ipykernel_19101/2295505821.py:3: SettingWithCopyWarning: \n",
      "A value is trying to be set on a copy of a slice from a DataFrame.\n",
      "Try using .loc[row_indexer,col_indexer] = value instead\n",
      "\n",
      "See the caveats in the documentation: https://pandas.pydata.org/pandas-docs/stable/user_guide/indexing.html#returning-a-view-versus-a-copy\n",
      "  product_df[col] = scaler.fit_transform(product_df[col].values.reshape(-1,1))\n",
      "/var/folders/00/gmvdw06n48lgtsz126ng5y2m0000gn/T/ipykernel_19101/2295505821.py:3: SettingWithCopyWarning: \n",
      "A value is trying to be set on a copy of a slice from a DataFrame.\n",
      "Try using .loc[row_indexer,col_indexer] = value instead\n",
      "\n",
      "See the caveats in the documentation: https://pandas.pydata.org/pandas-docs/stable/user_guide/indexing.html#returning-a-view-versus-a-copy\n",
      "  product_df[col] = scaler.fit_transform(product_df[col].values.reshape(-1,1))\n",
      "/var/folders/00/gmvdw06n48lgtsz126ng5y2m0000gn/T/ipykernel_19101/2295505821.py:3: SettingWithCopyWarning: \n",
      "A value is trying to be set on a copy of a slice from a DataFrame.\n",
      "Try using .loc[row_indexer,col_indexer] = value instead\n",
      "\n",
      "See the caveats in the documentation: https://pandas.pydata.org/pandas-docs/stable/user_guide/indexing.html#returning-a-view-versus-a-copy\n",
      "  product_df[col] = scaler.fit_transform(product_df[col].values.reshape(-1,1))\n",
      "/var/folders/00/gmvdw06n48lgtsz126ng5y2m0000gn/T/ipykernel_19101/2295505821.py:3: SettingWithCopyWarning: \n",
      "A value is trying to be set on a copy of a slice from a DataFrame.\n",
      "Try using .loc[row_indexer,col_indexer] = value instead\n",
      "\n",
      "See the caveats in the documentation: https://pandas.pydata.org/pandas-docs/stable/user_guide/indexing.html#returning-a-view-versus-a-copy\n",
      "  product_df[col] = scaler.fit_transform(product_df[col].values.reshape(-1,1))\n",
      "/var/folders/00/gmvdw06n48lgtsz126ng5y2m0000gn/T/ipykernel_19101/2295505821.py:3: SettingWithCopyWarning: \n",
      "A value is trying to be set on a copy of a slice from a DataFrame.\n",
      "Try using .loc[row_indexer,col_indexer] = value instead\n",
      "\n",
      "See the caveats in the documentation: https://pandas.pydata.org/pandas-docs/stable/user_guide/indexing.html#returning-a-view-versus-a-copy\n",
      "  product_df[col] = scaler.fit_transform(product_df[col].values.reshape(-1,1))\n",
      "/var/folders/00/gmvdw06n48lgtsz126ng5y2m0000gn/T/ipykernel_19101/2295505821.py:3: SettingWithCopyWarning: \n",
      "A value is trying to be set on a copy of a slice from a DataFrame.\n",
      "Try using .loc[row_indexer,col_indexer] = value instead\n",
      "\n",
      "See the caveats in the documentation: https://pandas.pydata.org/pandas-docs/stable/user_guide/indexing.html#returning-a-view-versus-a-copy\n",
      "  product_df[col] = scaler.fit_transform(product_df[col].values.reshape(-1,1))\n",
      "/var/folders/00/gmvdw06n48lgtsz126ng5y2m0000gn/T/ipykernel_19101/2295505821.py:3: SettingWithCopyWarning: \n",
      "A value is trying to be set on a copy of a slice from a DataFrame.\n",
      "Try using .loc[row_indexer,col_indexer] = value instead\n",
      "\n",
      "See the caveats in the documentation: https://pandas.pydata.org/pandas-docs/stable/user_guide/indexing.html#returning-a-view-versus-a-copy\n",
      "  product_df[col] = scaler.fit_transform(product_df[col].values.reshape(-1,1))\n"
     ]
    }
   ],
   "source": [
    "scaler = MinMaxScaler()\n",
    "for col in cols:\n",
    "    product_df[col] = scaler.fit_transform(product_df[col].values.reshape(-1,1))"
   ]
  },
  {
   "cell_type": "code",
   "execution_count": 72,
   "metadata": {},
   "outputs": [
    {
     "name": "stdout",
     "output_type": "stream",
     "text": [
      "<class 'pandas.core.frame.DataFrame'>\n",
      "RangeIndex: 22 entries, 0 to 21\n",
      "Data columns (total 24 columns):\n",
      " #   Column                      Non-Null Count  Dtype  \n",
      "---  ------                      --------------  -----  \n",
      " 0   package                     22 non-null     object \n",
      " 1   Base_Type                   22 non-null     object \n",
      " 2   Pricing_Type                22 non-null     object \n",
      " 3   Package_Type                22 non-null     object \n",
      " 4   Title                       22 non-null     object \n",
      " 5   Description                 22 non-null     object \n",
      " 6   Price                       22 non-null     object \n",
      " 7   Monthly_Rental              22 non-null     float64\n",
      " 8   PEOTV_No_of_Channels        22 non-null     float64\n",
      " 9   PEOTV_Foreign_Channels      22 non-null     float64\n",
      " 10  PEOTV_Local_Channels        22 non-null     float64\n",
      " 11  PEOTV_Movie_Channels        22 non-null     float64\n",
      " 12  PEOTV_Kids_Channels         22 non-null     float64\n",
      " 13  PEOTV_Religious_Channels    22 non-null     float64\n",
      " 14  PEOTV_Tamil_Channels        22 non-null     float64\n",
      " 15  PEOTV_Educational_Channels  22 non-null     float64\n",
      " 16  PEOTV_Music_Channels        22 non-null     float64\n",
      " 17  PEOTV_Sports_Channels       22 non-null     float64\n",
      " 18  PEOTV_News_Channels         22 non-null     float64\n",
      " 19  PEOTV_HD_Pack               22 non-null     object \n",
      " 20  Subscription_Type           22 non-null     object \n",
      " 21  Recidence_Type              22 non-null     object \n",
      " 22  Tax_Status                  22 non-null     object \n",
      " 23  Conditions                  22 non-null     object \n",
      "dtypes: float64(12), object(12)\n",
      "memory usage: 4.2+ KB\n"
     ]
    }
   ],
   "source": [
    "product_df.info()"
   ]
  },
  {
   "cell_type": "code",
   "execution_count": 73,
   "metadata": {},
   "outputs": [],
   "source": [
    "product_df.to_csv(\"data/azure/peoTV_package_content.csv\")"
   ]
  },
  {
   "cell_type": "code",
   "execution_count": null,
   "metadata": {},
   "outputs": [],
   "source": []
  }
 ],
 "metadata": {
  "kernelspec": {
   "display_name": "Python 3 (ipykernel)",
   "language": "python",
   "name": "python3"
  },
  "language_info": {
   "codemirror_mode": {
    "name": "ipython",
    "version": 3
   },
   "file_extension": ".py",
   "mimetype": "text/x-python",
   "name": "python",
   "nbconvert_exporter": "python",
   "pygments_lexer": "ipython3",
   "version": "3.8.12"
  }
 },
 "nbformat": 4,
 "nbformat_minor": 4
}
