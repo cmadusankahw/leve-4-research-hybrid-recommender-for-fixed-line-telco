{
 "cells": [
  {
   "cell_type": "code",
   "execution_count": 181,
   "metadata": {},
   "outputs": [],
   "source": [
    "import pandas as pd\n",
    "from math import nan"
   ]
  },
  {
   "cell_type": "code",
   "execution_count": 182,
   "metadata": {},
   "outputs": [],
   "source": [
    "user_content = pd.read_csv(\"data/azure/peoTV_user_content.csv\")"
   ]
  },
  {
   "cell_type": "code",
   "execution_count": 183,
   "metadata": {},
   "outputs": [],
   "source": [
    "scored_df = pd.read_parquet(\"data/azure/scored/peotv_scored.parquet\")"
   ]
  },
  {
   "cell_type": "markdown",
   "metadata": {},
   "source": [
    "### reules Definition"
   ]
  },
  {
   "cell_type": "code",
   "execution_count": 184,
   "metadata": {},
   "outputs": [],
   "source": [
    "package_name = \"Peo_TV_Package\"\n",
    "peo_order = [\"GOLD\", \"PLATINUM\", \"SILVER\", \"UNNATHAM\", \"FAMILY\", \"SILVER PLUS\", \"TITANIUM\", \"ENTERTAINMENT\"]"
   ]
  },
  {
   "cell_type": "code",
   "execution_count": 185,
   "metadata": {},
   "outputs": [],
   "source": [
    "\"\"\"\n",
    "    Package Filtration by type\n",
    "\"\"\"\n",
    "def filter_packages_by_name(pack_name,col):\n",
    "    if not isinstance(col, float) and not isinstance (pack_name, float):\n",
    "        if \"LTE\" in pack_name:\n",
    "            if \"LTE\" in col or \"FTTH\" not in col:\n",
    "                return col\n",
    "        if \"Megaline\" in pack_name:\n",
    "            if \"LTE\" not in col:\n",
    "                return col\n",
    "        if \"FTTH\" in pack_name:\n",
    "            if \"LTE\" not in col and \"FTTH\" in col:\n",
    "                return col\n",
    "        if \"NO_INFO\" in pack_name or \"NO INFO\" in pack_name:\n",
    "            return col\n",
    "\n",
    "\"\"\"\n",
    "    Check subscription \n",
    "\"\"\"\n",
    "def filter_packages_by_subscription(is_sub,col):\n",
    "    if not isinstance(is_sub, float):\n",
    "        if \"YES\" in is_sub:\n",
    "            return col\n",
    "        if \"NO_INFO\" in is_sub or \"NO INFO\" in is_sub:\n",
    "            return col\n",
    "\n",
    "\n",
    "\"\"\"\n",
    "    Filter SLT STAFF packages\n",
    "    PeoTV\n",
    "\"\"\"\n",
    "def filter_slt_staff_packages(ori_pack,col):\n",
    "    if not isinstance(ori_pack, float) and not isinstance (col, float):\n",
    "        if \"STAFF\" not in ori_pack or \"Staff\" not in ori_pack or \"staff\" not in ori_pack:\n",
    "            if \"STAFF\" not in col or \"Staff\" not in col or \"staff\" not in col:\n",
    "                return col\n",
    "        else:\n",
    "            return col\n",
    "\n",
    "\n",
    "\"\"\"\n",
    "    Filter by most prefrable PeoTV package\n",
    "\"\"\"\n",
    "def filter_packages_by_list(ori_pack, col, ord_list):\n",
    "    if not isinstance(col, float) and not isinstance(ori_pack, float):\n",
    "        pack_pos = 0\n",
    "        for item in ord_list:\n",
    "            if item in ori_pack:\n",
    "                pack_pos = ord_list.index(item)\n",
    "        comp_list = ord_list[:pack_pos]\n",
    "        for item in comp_list:\n",
    "            if item in col:\n",
    "                return nan\n",
    "        return col "
   ]
  },
  {
   "cell_type": "code",
   "execution_count": 186,
   "metadata": {},
   "outputs": [],
   "source": [
    "scored_df.drop([\"Predicted Rating 1\",\"Predicted Rating 2\",\"Predicted Rating 3\",\"Predicted Rating 4\",\"Predicted Rating 5\"],axis=1, inplace=True)"
   ]
  },
  {
   "cell_type": "code",
   "execution_count": 187,
   "metadata": {},
   "outputs": [],
   "source": [
    "scored_df = scored_df.merge(user_content[[\"ACCOUNT_NUM.hash\",package_name,\"is_Subscription\",\"Product_Type\"]].drop_duplicates([\"ACCOUNT_NUM.hash\",package_name]),left_on=\"User\", right_on=\"ACCOUNT_NUM.hash\", how=\"left\").drop(\"ACCOUNT_NUM.hash\",axis=1)"
   ]
  },
  {
   "cell_type": "code",
   "execution_count": 188,
   "metadata": {},
   "outputs": [],
   "source": [
    "recommender_cols = [\"Recommended Item 1\",\"Recommended Item 2\",\"Recommended Item 3\",\"Recommended Item 4\",\"Recommended Item 5\"]"
   ]
  },
  {
   "cell_type": "markdown",
   "metadata": {},
   "source": [
    "### Applying Rules"
   ]
  },
  {
   "cell_type": "code",
   "execution_count": 189,
   "metadata": {},
   "outputs": [],
   "source": [
    "for col in recommender_cols:\n",
    "    scored_df[col] = scored_df.apply(lambda x: filter_slt_staff_packages(x[package_name],x[col]), axis=1)"
   ]
  },
  {
   "cell_type": "code",
   "execution_count": 190,
   "metadata": {},
   "outputs": [],
   "source": [
    "for col in recommender_cols:\n",
    "    scored_df[col] = scored_df.apply(lambda x: filter_packages_by_list(x[package_name],x[col],peo_order), axis=1)"
   ]
  },
  {
   "cell_type": "code",
   "execution_count": 191,
   "metadata": {},
   "outputs": [],
   "source": [
    "for col in recommender_cols:\n",
    "    scored_df[col] = scored_df.apply(lambda x: filter_packages_by_subscription(x[\"is_Subscription\"],x[col]), axis=1)"
   ]
  },
  {
   "cell_type": "code",
   "execution_count": 192,
   "metadata": {},
   "outputs": [],
   "source": [
    "for col in recommender_cols:\n",
    "    scored_df[col] = scored_df.apply(lambda x: filter_packages_by_name(x[\"Product_Type\"],x[col]), axis=1)"
   ]
  },
  {
   "cell_type": "code",
   "execution_count": 193,
   "metadata": {},
   "outputs": [],
   "source": [
    "scored_df.dropna(subset=recommender_cols,inplace=True)"
   ]
  },
  {
   "cell_type": "code",
   "execution_count": 194,
   "metadata": {},
   "outputs": [],
   "source": [
    "scored_df.drop([package_name,\"is_Subscription\",\"Product_Type\"],axis=1, inplace=True)"
   ]
  },
  {
   "cell_type": "code",
   "execution_count": 195,
   "metadata": {},
   "outputs": [
    {
     "data": {
      "text/plain": [
       "(4438, 6)"
      ]
     },
     "execution_count": 195,
     "metadata": {},
     "output_type": "execute_result"
    }
   ],
   "source": [
    "# test\n",
    "scored_df.shape"
   ]
  },
  {
   "cell_type": "code",
   "execution_count": 196,
   "metadata": {},
   "outputs": [
    {
     "data": {
      "text/html": [
       "<div>\n",
       "<style scoped>\n",
       "    .dataframe tbody tr th:only-of-type {\n",
       "        vertical-align: middle;\n",
       "    }\n",
       "\n",
       "    .dataframe tbody tr th {\n",
       "        vertical-align: top;\n",
       "    }\n",
       "\n",
       "    .dataframe thead th {\n",
       "        text-align: right;\n",
       "    }\n",
       "</style>\n",
       "<table border=\"1\" class=\"dataframe\">\n",
       "  <thead>\n",
       "    <tr style=\"text-align: right;\">\n",
       "      <th></th>\n",
       "      <th>User</th>\n",
       "      <th>Recommended Item 1</th>\n",
       "      <th>Recommended Item 2</th>\n",
       "      <th>Recommended Item 3</th>\n",
       "      <th>Recommended Item 4</th>\n",
       "      <th>Recommended Item 5</th>\n",
       "    </tr>\n",
       "  </thead>\n",
       "  <tbody>\n",
       "    <tr>\n",
       "      <th>0</th>\n",
       "      <td>0013519e648e9718c56e1e6ccfb3b17d</td>\n",
       "      <td>PEO_SILVER</td>\n",
       "      <td>PEO_VIRUSARA_VARAPPRASADA</td>\n",
       "      <td>GMOA_Consultant_AO_MO_Plus</td>\n",
       "      <td>SLTStaff_PEO_SILVER</td>\n",
       "      <td>SLT_STAFF_PEO_UNNATHAM_FTTH</td>\n",
       "    </tr>\n",
       "    <tr>\n",
       "      <th>3</th>\n",
       "      <td>002b0ab25152c9566b7441848f117593</td>\n",
       "      <td>PEO_SILVER</td>\n",
       "      <td>NEW_SLT_STAFF_PACKAGE</td>\n",
       "      <td>SLT_STAFF_TRIPLE_PLAY</td>\n",
       "      <td>PRANAMA</td>\n",
       "      <td>PEO_VIRUSARA_VARAPPRASADA</td>\n",
       "    </tr>\n",
       "    <tr>\n",
       "      <th>4</th>\n",
       "      <td>003b9fb01f296b23d6727c322011db66</td>\n",
       "      <td>PEO_SILVER</td>\n",
       "      <td>PEO_SILVER_PLUS</td>\n",
       "      <td>PEO_UTHAYAM</td>\n",
       "      <td>SLT_STAFF_TRIPLE_PLAY</td>\n",
       "      <td>NEW_SLT_STAFF_PACKAGE_FTTH</td>\n",
       "    </tr>\n",
       "    <tr>\n",
       "      <th>5</th>\n",
       "      <td>003ffd7c83136dcd2ffe06d88170defe</td>\n",
       "      <td>PEO_SILVER_PLUS</td>\n",
       "      <td>PEO_UNNATHAM</td>\n",
       "      <td>SLT_SHARE_HOLDER_PACKAGE</td>\n",
       "      <td>PRANAMA</td>\n",
       "      <td>PEO_UTHAYAM</td>\n",
       "    </tr>\n",
       "    <tr>\n",
       "      <th>7</th>\n",
       "      <td>004c94de02a14064088638b77c84a739</td>\n",
       "      <td>PEO_SILVER</td>\n",
       "      <td>PEO_UTHAYAM</td>\n",
       "      <td>PRANAMA</td>\n",
       "      <td>PEO_VIRUSARA_VARAPPRASADA</td>\n",
       "      <td>GMOA_Consultant_AO_MO_Plus</td>\n",
       "    </tr>\n",
       "  </tbody>\n",
       "</table>\n",
       "</div>"
      ],
      "text/plain": [
       "                               User Recommended Item 1  \\\n",
       "0  0013519e648e9718c56e1e6ccfb3b17d         PEO_SILVER   \n",
       "3  002b0ab25152c9566b7441848f117593         PEO_SILVER   \n",
       "4  003b9fb01f296b23d6727c322011db66         PEO_SILVER   \n",
       "5  003ffd7c83136dcd2ffe06d88170defe    PEO_SILVER_PLUS   \n",
       "7  004c94de02a14064088638b77c84a739         PEO_SILVER   \n",
       "\n",
       "          Recommended Item 2          Recommended Item 3  \\\n",
       "0  PEO_VIRUSARA_VARAPPRASADA  GMOA_Consultant_AO_MO_Plus   \n",
       "3      NEW_SLT_STAFF_PACKAGE       SLT_STAFF_TRIPLE_PLAY   \n",
       "4            PEO_SILVER_PLUS                 PEO_UTHAYAM   \n",
       "5               PEO_UNNATHAM    SLT_SHARE_HOLDER_PACKAGE   \n",
       "7                PEO_UTHAYAM                     PRANAMA   \n",
       "\n",
       "          Recommended Item 4           Recommended Item 5  \n",
       "0        SLTStaff_PEO_SILVER  SLT_STAFF_PEO_UNNATHAM_FTTH  \n",
       "3                    PRANAMA    PEO_VIRUSARA_VARAPPRASADA  \n",
       "4      SLT_STAFF_TRIPLE_PLAY   NEW_SLT_STAFF_PACKAGE_FTTH  \n",
       "5                    PRANAMA                  PEO_UTHAYAM  \n",
       "7  PEO_VIRUSARA_VARAPPRASADA   GMOA_Consultant_AO_MO_Plus  "
      ]
     },
     "execution_count": 196,
     "metadata": {},
     "output_type": "execute_result"
    }
   ],
   "source": [
    "# test\n",
    "scored_df.head()"
   ]
  },
  {
   "cell_type": "code",
   "execution_count": 197,
   "metadata": {},
   "outputs": [],
   "source": [
    "scored_df.to_csv(\"data/azure/scored/peotv_scored_filterd.csv\")"
   ]
  }
 ],
 "metadata": {
  "kernelspec": {
   "display_name": "Python 3 (ipykernel)",
   "language": "python",
   "name": "python3"
  },
  "language_info": {
   "codemirror_mode": {
    "name": "ipython",
    "version": 3
   },
   "file_extension": ".py",
   "mimetype": "text/x-python",
   "name": "python",
   "nbconvert_exporter": "python",
   "pygments_lexer": "ipython3",
   "version": "3.8.12"
  }
 },
 "nbformat": 4,
 "nbformat_minor": 4
}
