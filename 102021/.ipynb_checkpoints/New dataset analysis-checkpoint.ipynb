{
 "cells": [
  {
   "cell_type": "code",
   "execution_count": 1,
   "metadata": {
    "gather": {
     "logged": 1628307546272
    }
   },
   "outputs": [],
   "source": [
    "import pandas as pd\n",
    "import numpy as np\n",
    "from matplotlib import pyplot as plt\n",
    "from sklearn.preprocessing import MinMaxScaler\n",
    "import seaborn as sns\n",
    "import datetime"
   ]
  },
  {
   "cell_type": "code",
   "execution_count": 2,
   "metadata": {
    "gather": {
     "logged": 1628307549088
    }
   },
   "outputs": [],
   "source": [
    "plt.style.use('ggplot')\n",
    "plt.style.use('seaborn-bright')"
   ]
  },
  {
   "cell_type": "markdown",
   "metadata": {},
   "source": [
    "### New Datasets (Oct 2021)"
   ]
  },
  {
   "cell_type": "markdown",
   "metadata": {},
   "source": [
    "#### PEo TV Channels Mapped with Packages"
   ]
  },
  {
   "cell_type": "code",
   "execution_count": 3,
   "metadata": {},
   "outputs": [],
   "source": [
    "peo_channel_map_df = pd.read_excel(\"data/5.4 Peo TV Channels mapped to packages.xlsx\") "
   ]
  },
  {
   "cell_type": "code",
   "execution_count": 4,
   "metadata": {},
   "outputs": [],
   "source": [
    "peo_channel_map_df = peo_channel_map_df.iloc[3:,2:]"
   ]
  },
  {
   "cell_type": "code",
   "execution_count": 5,
   "metadata": {},
   "outputs": [],
   "source": [
    "peo_channel_map_df.columns = peo_channel_map_df.iloc[0,:]"
   ]
  },
  {
   "cell_type": "code",
   "execution_count": 6,
   "metadata": {},
   "outputs": [],
   "source": [
    "peo_channel_map_df.dropna(axis=0, how=\"all\",inplace=True)"
   ]
  },
  {
   "cell_type": "code",
   "execution_count": 7,
   "metadata": {},
   "outputs": [],
   "source": [
    "peo_channel_map_df = peo_channel_map_df.iloc[1:,:]"
   ]
  },
  {
   "cell_type": "code",
   "execution_count": 8,
   "metadata": {},
   "outputs": [],
   "source": [
    "arr = peo_channel_map_df.columns.to_list()\n",
    "arr[0] = \"Channel\"\n",
    "arr[1] = \"Language\"\n",
    "peo_channel_map_df.columns = arr"
   ]
  },
  {
   "cell_type": "code",
   "execution_count": 9,
   "metadata": {},
   "outputs": [],
   "source": [
    "peo_channel_map_df = peo_channel_map_df.T"
   ]
  },
  {
   "cell_type": "code",
   "execution_count": 10,
   "metadata": {},
   "outputs": [],
   "source": [
    "peo_channel_map_df.columns = peo_channel_map_df.iloc[0,:]"
   ]
  },
  {
   "cell_type": "code",
   "execution_count": 11,
   "metadata": {},
   "outputs": [],
   "source": [
    "peo_channel_map_df = peo_channel_map_df.iloc[1:,:]"
   ]
  },
  {
   "cell_type": "code",
   "execution_count": 12,
   "metadata": {},
   "outputs": [
    {
     "data": {
      "text/html": [
       "<div>\n",
       "<style scoped>\n",
       "    .dataframe tbody tr th:only-of-type {\n",
       "        vertical-align: middle;\n",
       "    }\n",
       "\n",
       "    .dataframe tbody tr th {\n",
       "        vertical-align: top;\n",
       "    }\n",
       "\n",
       "    .dataframe thead th {\n",
       "        text-align: right;\n",
       "    }\n",
       "</style>\n",
       "<table border=\"1\" class=\"dataframe\">\n",
       "  <thead>\n",
       "    <tr style=\"text-align: right;\">\n",
       "      <th>Channel</th>\n",
       "      <th>Event TV</th>\n",
       "      <th>Colombo Television</th>\n",
       "      <th>Life TV</th>\n",
       "      <th>UTV</th>\n",
       "      <th>ACE TV</th>\n",
       "      <th>Supreme TV</th>\n",
       "      <th>Jayamaga TV</th>\n",
       "      <th>Relax TV</th>\n",
       "      <th>Channel Eye</th>\n",
       "      <th>ETV</th>\n",
       "      <th>...</th>\n",
       "      <th>Damsathara</th>\n",
       "      <th>Da Vinci</th>\n",
       "      <th>English Club TV</th>\n",
       "      <th>Videsa 5</th>\n",
       "      <th>Videsa 6</th>\n",
       "      <th>Videsa 7</th>\n",
       "      <th>Videsa 8</th>\n",
       "      <th>Videsa 9</th>\n",
       "      <th>Videsa 10</th>\n",
       "      <th>Videsa 11</th>\n",
       "    </tr>\n",
       "  </thead>\n",
       "  <tbody>\n",
       "    <tr>\n",
       "      <th>Language</th>\n",
       "      <td>-</td>\n",
       "      <td>-</td>\n",
       "      <td>-</td>\n",
       "      <td>-</td>\n",
       "      <td>-</td>\n",
       "      <td>-</td>\n",
       "      <td>-</td>\n",
       "      <td>-</td>\n",
       "      <td>English</td>\n",
       "      <td>English</td>\n",
       "      <td>...</td>\n",
       "      <td>Sinhala</td>\n",
       "      <td>English</td>\n",
       "      <td>English</td>\n",
       "      <td>Sinhala</td>\n",
       "      <td>Sinhala</td>\n",
       "      <td>Sinhala</td>\n",
       "      <td>Sinhala</td>\n",
       "      <td>Sinhala</td>\n",
       "      <td>Sinhala</td>\n",
       "      <td>Sinhala</td>\n",
       "    </tr>\n",
       "    <tr>\n",
       "      <th>PEO TV Unnatham</th>\n",
       "      <td>√</td>\n",
       "      <td>√</td>\n",
       "      <td>√</td>\n",
       "      <td>√</td>\n",
       "      <td>NaN</td>\n",
       "      <td>NaN</td>\n",
       "      <td>NaN</td>\n",
       "      <td>NaN</td>\n",
       "      <td>√</td>\n",
       "      <td>NaN</td>\n",
       "      <td>...</td>\n",
       "      <td>NaN</td>\n",
       "      <td>NaN</td>\n",
       "      <td>NaN</td>\n",
       "      <td>NaN</td>\n",
       "      <td>NaN</td>\n",
       "      <td>NaN</td>\n",
       "      <td>NaN</td>\n",
       "      <td>NaN</td>\n",
       "      <td>NaN</td>\n",
       "      <td>NaN</td>\n",
       "    </tr>\n",
       "    <tr>\n",
       "      <th>PEO Silver</th>\n",
       "      <td>√</td>\n",
       "      <td>√</td>\n",
       "      <td>√</td>\n",
       "      <td>√</td>\n",
       "      <td>√</td>\n",
       "      <td>√</td>\n",
       "      <td>√</td>\n",
       "      <td>√</td>\n",
       "      <td>√</td>\n",
       "      <td>√</td>\n",
       "      <td>...</td>\n",
       "      <td>√</td>\n",
       "      <td>NaN</td>\n",
       "      <td>NaN</td>\n",
       "      <td>NaN</td>\n",
       "      <td>√</td>\n",
       "      <td>√</td>\n",
       "      <td>√</td>\n",
       "      <td>√</td>\n",
       "      <td>√</td>\n",
       "      <td>√</td>\n",
       "    </tr>\n",
       "    <tr>\n",
       "      <th>PEO Silver Plus</th>\n",
       "      <td>√</td>\n",
       "      <td>√</td>\n",
       "      <td>√</td>\n",
       "      <td>√</td>\n",
       "      <td>√</td>\n",
       "      <td>√</td>\n",
       "      <td>√</td>\n",
       "      <td>√</td>\n",
       "      <td>√</td>\n",
       "      <td>√</td>\n",
       "      <td>...</td>\n",
       "      <td>√</td>\n",
       "      <td>NaN</td>\n",
       "      <td>NaN</td>\n",
       "      <td>NaN</td>\n",
       "      <td>√</td>\n",
       "      <td>√</td>\n",
       "      <td>√</td>\n",
       "      <td>√</td>\n",
       "      <td>√</td>\n",
       "      <td>√</td>\n",
       "    </tr>\n",
       "    <tr>\n",
       "      <th>PEO Family</th>\n",
       "      <td>√</td>\n",
       "      <td>√</td>\n",
       "      <td>√</td>\n",
       "      <td>√</td>\n",
       "      <td>√</td>\n",
       "      <td>√</td>\n",
       "      <td>√</td>\n",
       "      <td>√</td>\n",
       "      <td>√</td>\n",
       "      <td>√</td>\n",
       "      <td>...</td>\n",
       "      <td>√</td>\n",
       "      <td>√</td>\n",
       "      <td>√</td>\n",
       "      <td>NaN</td>\n",
       "      <td>√</td>\n",
       "      <td>√</td>\n",
       "      <td>√</td>\n",
       "      <td>√</td>\n",
       "      <td>√</td>\n",
       "      <td>√</td>\n",
       "    </tr>\n",
       "    <tr>\n",
       "      <th>PEO Entertainment</th>\n",
       "      <td>√</td>\n",
       "      <td>√</td>\n",
       "      <td>√</td>\n",
       "      <td>√</td>\n",
       "      <td>√</td>\n",
       "      <td>√</td>\n",
       "      <td>√</td>\n",
       "      <td>√</td>\n",
       "      <td>√</td>\n",
       "      <td>√</td>\n",
       "      <td>...</td>\n",
       "      <td>√</td>\n",
       "      <td>NaN</td>\n",
       "      <td>NaN</td>\n",
       "      <td>NaN</td>\n",
       "      <td>√</td>\n",
       "      <td>√</td>\n",
       "      <td>√</td>\n",
       "      <td>√</td>\n",
       "      <td>√</td>\n",
       "      <td>√</td>\n",
       "    </tr>\n",
       "    <tr>\n",
       "      <th>PEO Gold</th>\n",
       "      <td>√</td>\n",
       "      <td>√</td>\n",
       "      <td>√</td>\n",
       "      <td>√</td>\n",
       "      <td>√</td>\n",
       "      <td>√</td>\n",
       "      <td>√</td>\n",
       "      <td>√</td>\n",
       "      <td>√</td>\n",
       "      <td>√</td>\n",
       "      <td>...</td>\n",
       "      <td>√</td>\n",
       "      <td>NaN</td>\n",
       "      <td>√</td>\n",
       "      <td>NaN</td>\n",
       "      <td>√</td>\n",
       "      <td>√</td>\n",
       "      <td>√</td>\n",
       "      <td>√</td>\n",
       "      <td>√</td>\n",
       "      <td>√</td>\n",
       "    </tr>\n",
       "    <tr>\n",
       "      <th>PEO Platinum</th>\n",
       "      <td>√</td>\n",
       "      <td>√</td>\n",
       "      <td>√</td>\n",
       "      <td>√</td>\n",
       "      <td>√</td>\n",
       "      <td>√</td>\n",
       "      <td>√</td>\n",
       "      <td>√</td>\n",
       "      <td>√</td>\n",
       "      <td>√</td>\n",
       "      <td>...</td>\n",
       "      <td>√</td>\n",
       "      <td>NaN</td>\n",
       "      <td>√</td>\n",
       "      <td>NaN</td>\n",
       "      <td>√</td>\n",
       "      <td>√</td>\n",
       "      <td>√</td>\n",
       "      <td>√</td>\n",
       "      <td>√</td>\n",
       "      <td>√</td>\n",
       "    </tr>\n",
       "    <tr>\n",
       "      <th>PEO Titanium</th>\n",
       "      <td>√</td>\n",
       "      <td>√</td>\n",
       "      <td>√</td>\n",
       "      <td>√</td>\n",
       "      <td>√</td>\n",
       "      <td>√</td>\n",
       "      <td>√</td>\n",
       "      <td>√</td>\n",
       "      <td>√</td>\n",
       "      <td>√</td>\n",
       "      <td>...</td>\n",
       "      <td>√</td>\n",
       "      <td>√</td>\n",
       "      <td>√</td>\n",
       "      <td>NaN</td>\n",
       "      <td>√</td>\n",
       "      <td>√</td>\n",
       "      <td>√</td>\n",
       "      <td>√</td>\n",
       "      <td>√</td>\n",
       "      <td>√</td>\n",
       "    </tr>\n",
       "  </tbody>\n",
       "</table>\n",
       "<p>9 rows × 135 columns</p>\n",
       "</div>"
      ],
      "text/plain": [
       "Channel           Event TV Colombo Television Life TV UTV ACE TV Supreme TV  \\\n",
       "Language                 -                  -       -   -      -          -   \n",
       "PEO TV Unnatham          √                  √       √   √    NaN        NaN   \n",
       "PEO Silver               √                  √       √   √      √          √   \n",
       "PEO Silver Plus          √                  √       √   √      √          √   \n",
       "PEO Family               √                  √       √   √      √          √   \n",
       "PEO Entertainment        √                  √       √   √      √          √   \n",
       "PEO Gold                 √                  √       √   √      √          √   \n",
       "PEO Platinum             √                  √       √   √      √          √   \n",
       "PEO Titanium             √                  √       √   √      √          √   \n",
       "\n",
       "Channel           Jayamaga TV Relax TV Channel Eye      ETV  ... Damsathara  \\\n",
       "Language                    -        -     English  English  ...    Sinhala   \n",
       "PEO TV Unnatham           NaN      NaN           √      NaN  ...        NaN   \n",
       "PEO Silver                  √        √           √        √  ...          √   \n",
       "PEO Silver Plus             √        √           √        √  ...          √   \n",
       "PEO Family                  √        √           √        √  ...          √   \n",
       "PEO Entertainment           √        √           √        √  ...          √   \n",
       "PEO Gold                    √        √           √        √  ...          √   \n",
       "PEO Platinum                √        √           √        √  ...          √   \n",
       "PEO Titanium                √        √           √        √  ...          √   \n",
       "\n",
       "Channel           Da Vinci English Club TV Videsa 5 Videsa 6 Videsa 7  \\\n",
       "Language           English         English  Sinhala  Sinhala  Sinhala   \n",
       "PEO TV Unnatham        NaN             NaN      NaN      NaN      NaN   \n",
       "PEO Silver             NaN             NaN      NaN        √        √   \n",
       "PEO Silver Plus        NaN             NaN      NaN        √        √   \n",
       "PEO Family               √               √      NaN        √        √   \n",
       "PEO Entertainment      NaN             NaN      NaN        √        √   \n",
       "PEO Gold               NaN               √      NaN        √        √   \n",
       "PEO Platinum           NaN               √      NaN        √        √   \n",
       "PEO Titanium             √               √      NaN        √        √   \n",
       "\n",
       "Channel           Videsa 8 Videsa 9 Videsa 10 Videsa 11  \n",
       "Language           Sinhala  Sinhala   Sinhala   Sinhala  \n",
       "PEO TV Unnatham        NaN      NaN       NaN       NaN  \n",
       "PEO Silver               √        √         √         √  \n",
       "PEO Silver Plus          √        √         √         √  \n",
       "PEO Family               √        √         √         √  \n",
       "PEO Entertainment        √        √         √         √  \n",
       "PEO Gold                 √        √         √         √  \n",
       "PEO Platinum             √        √         √         √  \n",
       "PEO Titanium             √        √         √         √  \n",
       "\n",
       "[9 rows x 135 columns]"
      ]
     },
     "execution_count": 12,
     "metadata": {},
     "output_type": "execute_result"
    }
   ],
   "source": [
    "peo_channel_map_df"
   ]
  },
  {
   "cell_type": "code",
   "execution_count": 13,
   "metadata": {},
   "outputs": [],
   "source": [
    "def str_map(col):\n",
    "    if isinstance(col, float):\n",
    "        return 0\n",
    "    elif  \"√\" in col:\n",
    "        return 1\n",
    "    else:\n",
    "        return col"
   ]
  },
  {
   "cell_type": "code",
   "execution_count": 14,
   "metadata": {},
   "outputs": [],
   "source": [
    "for col in peo_channel_map_df.columns.to_list():\n",
    "    peo_channel_map_df[col] = peo_channel_map_df[col].apply(lambda x: str_map(x))"
   ]
  },
  {
   "cell_type": "code",
   "execution_count": 15,
   "metadata": {},
   "outputs": [
    {
     "data": {
      "text/html": [
       "<div>\n",
       "<style scoped>\n",
       "    .dataframe tbody tr th:only-of-type {\n",
       "        vertical-align: middle;\n",
       "    }\n",
       "\n",
       "    .dataframe tbody tr th {\n",
       "        vertical-align: top;\n",
       "    }\n",
       "\n",
       "    .dataframe thead th {\n",
       "        text-align: right;\n",
       "    }\n",
       "</style>\n",
       "<table border=\"1\" class=\"dataframe\">\n",
       "  <thead>\n",
       "    <tr style=\"text-align: right;\">\n",
       "      <th>Channel</th>\n",
       "      <th>Event TV</th>\n",
       "      <th>Colombo Television</th>\n",
       "      <th>Life TV</th>\n",
       "      <th>UTV</th>\n",
       "      <th>ACE TV</th>\n",
       "      <th>Supreme TV</th>\n",
       "      <th>Jayamaga TV</th>\n",
       "      <th>Relax TV</th>\n",
       "      <th>Channel Eye</th>\n",
       "      <th>ETV</th>\n",
       "      <th>...</th>\n",
       "      <th>Damsathara</th>\n",
       "      <th>Da Vinci</th>\n",
       "      <th>English Club TV</th>\n",
       "      <th>Videsa 5</th>\n",
       "      <th>Videsa 6</th>\n",
       "      <th>Videsa 7</th>\n",
       "      <th>Videsa 8</th>\n",
       "      <th>Videsa 9</th>\n",
       "      <th>Videsa 10</th>\n",
       "      <th>Videsa 11</th>\n",
       "    </tr>\n",
       "  </thead>\n",
       "  <tbody>\n",
       "    <tr>\n",
       "      <th>Language</th>\n",
       "      <td>-</td>\n",
       "      <td>-</td>\n",
       "      <td>-</td>\n",
       "      <td>-</td>\n",
       "      <td>-</td>\n",
       "      <td>-</td>\n",
       "      <td>-</td>\n",
       "      <td>-</td>\n",
       "      <td>English</td>\n",
       "      <td>English</td>\n",
       "      <td>...</td>\n",
       "      <td>Sinhala</td>\n",
       "      <td>English</td>\n",
       "      <td>English</td>\n",
       "      <td>Sinhala</td>\n",
       "      <td>Sinhala</td>\n",
       "      <td>Sinhala</td>\n",
       "      <td>Sinhala</td>\n",
       "      <td>Sinhala</td>\n",
       "      <td>Sinhala</td>\n",
       "      <td>Sinhala</td>\n",
       "    </tr>\n",
       "    <tr>\n",
       "      <th>PEO TV Unnatham</th>\n",
       "      <td>1</td>\n",
       "      <td>1</td>\n",
       "      <td>1</td>\n",
       "      <td>1</td>\n",
       "      <td>0</td>\n",
       "      <td>0</td>\n",
       "      <td>0</td>\n",
       "      <td>0</td>\n",
       "      <td>1</td>\n",
       "      <td>0</td>\n",
       "      <td>...</td>\n",
       "      <td>0</td>\n",
       "      <td>0</td>\n",
       "      <td>0</td>\n",
       "      <td>0</td>\n",
       "      <td>0</td>\n",
       "      <td>0</td>\n",
       "      <td>0</td>\n",
       "      <td>0</td>\n",
       "      <td>0</td>\n",
       "      <td>0</td>\n",
       "    </tr>\n",
       "    <tr>\n",
       "      <th>PEO Silver</th>\n",
       "      <td>1</td>\n",
       "      <td>1</td>\n",
       "      <td>1</td>\n",
       "      <td>1</td>\n",
       "      <td>1</td>\n",
       "      <td>1</td>\n",
       "      <td>1</td>\n",
       "      <td>1</td>\n",
       "      <td>1</td>\n",
       "      <td>1</td>\n",
       "      <td>...</td>\n",
       "      <td>1</td>\n",
       "      <td>0</td>\n",
       "      <td>0</td>\n",
       "      <td>0</td>\n",
       "      <td>1</td>\n",
       "      <td>1</td>\n",
       "      <td>1</td>\n",
       "      <td>1</td>\n",
       "      <td>1</td>\n",
       "      <td>1</td>\n",
       "    </tr>\n",
       "    <tr>\n",
       "      <th>PEO Silver Plus</th>\n",
       "      <td>1</td>\n",
       "      <td>1</td>\n",
       "      <td>1</td>\n",
       "      <td>1</td>\n",
       "      <td>1</td>\n",
       "      <td>1</td>\n",
       "      <td>1</td>\n",
       "      <td>1</td>\n",
       "      <td>1</td>\n",
       "      <td>1</td>\n",
       "      <td>...</td>\n",
       "      <td>1</td>\n",
       "      <td>0</td>\n",
       "      <td>0</td>\n",
       "      <td>0</td>\n",
       "      <td>1</td>\n",
       "      <td>1</td>\n",
       "      <td>1</td>\n",
       "      <td>1</td>\n",
       "      <td>1</td>\n",
       "      <td>1</td>\n",
       "    </tr>\n",
       "    <tr>\n",
       "      <th>PEO Family</th>\n",
       "      <td>1</td>\n",
       "      <td>1</td>\n",
       "      <td>1</td>\n",
       "      <td>1</td>\n",
       "      <td>1</td>\n",
       "      <td>1</td>\n",
       "      <td>1</td>\n",
       "      <td>1</td>\n",
       "      <td>1</td>\n",
       "      <td>1</td>\n",
       "      <td>...</td>\n",
       "      <td>1</td>\n",
       "      <td>1</td>\n",
       "      <td>1</td>\n",
       "      <td>0</td>\n",
       "      <td>1</td>\n",
       "      <td>1</td>\n",
       "      <td>1</td>\n",
       "      <td>1</td>\n",
       "      <td>1</td>\n",
       "      <td>1</td>\n",
       "    </tr>\n",
       "    <tr>\n",
       "      <th>PEO Entertainment</th>\n",
       "      <td>1</td>\n",
       "      <td>1</td>\n",
       "      <td>1</td>\n",
       "      <td>1</td>\n",
       "      <td>1</td>\n",
       "      <td>1</td>\n",
       "      <td>1</td>\n",
       "      <td>1</td>\n",
       "      <td>1</td>\n",
       "      <td>1</td>\n",
       "      <td>...</td>\n",
       "      <td>1</td>\n",
       "      <td>0</td>\n",
       "      <td>0</td>\n",
       "      <td>0</td>\n",
       "      <td>1</td>\n",
       "      <td>1</td>\n",
       "      <td>1</td>\n",
       "      <td>1</td>\n",
       "      <td>1</td>\n",
       "      <td>1</td>\n",
       "    </tr>\n",
       "    <tr>\n",
       "      <th>PEO Gold</th>\n",
       "      <td>1</td>\n",
       "      <td>1</td>\n",
       "      <td>1</td>\n",
       "      <td>1</td>\n",
       "      <td>1</td>\n",
       "      <td>1</td>\n",
       "      <td>1</td>\n",
       "      <td>1</td>\n",
       "      <td>1</td>\n",
       "      <td>1</td>\n",
       "      <td>...</td>\n",
       "      <td>1</td>\n",
       "      <td>0</td>\n",
       "      <td>1</td>\n",
       "      <td>0</td>\n",
       "      <td>1</td>\n",
       "      <td>1</td>\n",
       "      <td>1</td>\n",
       "      <td>1</td>\n",
       "      <td>1</td>\n",
       "      <td>1</td>\n",
       "    </tr>\n",
       "    <tr>\n",
       "      <th>PEO Platinum</th>\n",
       "      <td>1</td>\n",
       "      <td>1</td>\n",
       "      <td>1</td>\n",
       "      <td>1</td>\n",
       "      <td>1</td>\n",
       "      <td>1</td>\n",
       "      <td>1</td>\n",
       "      <td>1</td>\n",
       "      <td>1</td>\n",
       "      <td>1</td>\n",
       "      <td>...</td>\n",
       "      <td>1</td>\n",
       "      <td>0</td>\n",
       "      <td>1</td>\n",
       "      <td>0</td>\n",
       "      <td>1</td>\n",
       "      <td>1</td>\n",
       "      <td>1</td>\n",
       "      <td>1</td>\n",
       "      <td>1</td>\n",
       "      <td>1</td>\n",
       "    </tr>\n",
       "    <tr>\n",
       "      <th>PEO Titanium</th>\n",
       "      <td>1</td>\n",
       "      <td>1</td>\n",
       "      <td>1</td>\n",
       "      <td>1</td>\n",
       "      <td>1</td>\n",
       "      <td>1</td>\n",
       "      <td>1</td>\n",
       "      <td>1</td>\n",
       "      <td>1</td>\n",
       "      <td>1</td>\n",
       "      <td>...</td>\n",
       "      <td>1</td>\n",
       "      <td>1</td>\n",
       "      <td>1</td>\n",
       "      <td>0</td>\n",
       "      <td>1</td>\n",
       "      <td>1</td>\n",
       "      <td>1</td>\n",
       "      <td>1</td>\n",
       "      <td>1</td>\n",
       "      <td>1</td>\n",
       "    </tr>\n",
       "  </tbody>\n",
       "</table>\n",
       "<p>9 rows × 135 columns</p>\n",
       "</div>"
      ],
      "text/plain": [
       "Channel           Event TV Colombo Television Life TV UTV ACE TV Supreme TV  \\\n",
       "Language                 -                  -       -   -      -          -   \n",
       "PEO TV Unnatham          1                  1       1   1      0          0   \n",
       "PEO Silver               1                  1       1   1      1          1   \n",
       "PEO Silver Plus          1                  1       1   1      1          1   \n",
       "PEO Family               1                  1       1   1      1          1   \n",
       "PEO Entertainment        1                  1       1   1      1          1   \n",
       "PEO Gold                 1                  1       1   1      1          1   \n",
       "PEO Platinum             1                  1       1   1      1          1   \n",
       "PEO Titanium             1                  1       1   1      1          1   \n",
       "\n",
       "Channel           Jayamaga TV Relax TV Channel Eye      ETV  ... Damsathara  \\\n",
       "Language                    -        -     English  English  ...    Sinhala   \n",
       "PEO TV Unnatham             0        0           1        0  ...          0   \n",
       "PEO Silver                  1        1           1        1  ...          1   \n",
       "PEO Silver Plus             1        1           1        1  ...          1   \n",
       "PEO Family                  1        1           1        1  ...          1   \n",
       "PEO Entertainment           1        1           1        1  ...          1   \n",
       "PEO Gold                    1        1           1        1  ...          1   \n",
       "PEO Platinum                1        1           1        1  ...          1   \n",
       "PEO Titanium                1        1           1        1  ...          1   \n",
       "\n",
       "Channel           Da Vinci English Club TV Videsa 5 Videsa 6 Videsa 7  \\\n",
       "Language           English         English  Sinhala  Sinhala  Sinhala   \n",
       "PEO TV Unnatham          0               0        0        0        0   \n",
       "PEO Silver               0               0        0        1        1   \n",
       "PEO Silver Plus          0               0        0        1        1   \n",
       "PEO Family               1               1        0        1        1   \n",
       "PEO Entertainment        0               0        0        1        1   \n",
       "PEO Gold                 0               1        0        1        1   \n",
       "PEO Platinum             0               1        0        1        1   \n",
       "PEO Titanium             1               1        0        1        1   \n",
       "\n",
       "Channel           Videsa 8 Videsa 9 Videsa 10 Videsa 11  \n",
       "Language           Sinhala  Sinhala   Sinhala   Sinhala  \n",
       "PEO TV Unnatham          0        0         0         0  \n",
       "PEO Silver               1        1         1         1  \n",
       "PEO Silver Plus          1        1         1         1  \n",
       "PEO Family               1        1         1         1  \n",
       "PEO Entertainment        1        1         1         1  \n",
       "PEO Gold                 1        1         1         1  \n",
       "PEO Platinum             1        1         1         1  \n",
       "PEO Titanium             1        1         1         1  \n",
       "\n",
       "[9 rows x 135 columns]"
      ]
     },
     "execution_count": 15,
     "metadata": {},
     "output_type": "execute_result"
    }
   ],
   "source": [
    "peo_channel_map_df"
   ]
  },
  {
   "cell_type": "code",
   "execution_count": 16,
   "metadata": {},
   "outputs": [],
   "source": [
    "peo_channel_map_df.to_csv(\"data/product_catalog/PeoTV_Package_Channel_Map_Transposed.csv\")"
   ]
  },
  {
   "cell_type": "code",
   "execution_count": null,
   "metadata": {},
   "outputs": [],
   "source": []
  },
  {
   "cell_type": "markdown",
   "metadata": {},
   "source": [
    "## Product Details - Categories, Play types"
   ]
  },
  {
   "cell_type": "code",
   "execution_count": 17,
   "metadata": {
    "gather": {
     "logged": 1628307552342
    }
   },
   "outputs": [],
   "source": [
    "product_cat_df = pd.read_excel(\"data/7.2 Customer product details from BSS.xlsx\") "
   ]
  },
  {
   "cell_type": "code",
   "execution_count": 18,
   "metadata": {},
   "outputs": [],
   "source": [
    "product_cat_df.drop([\"Unnamed: 21\",\"Unnamed: 22\",\"Unnamed: 23\",\"Unnamed: 24\",\"Unnamed: 25\",\"Unnamed: 26\",\"END_DAT\"],axis=1,inplace=True)"
   ]
  },
  {
   "cell_type": "code",
   "execution_count": 19,
   "metadata": {
    "gather": {
     "logged": 1628307555018
    }
   },
   "outputs": [
    {
     "name": "stdout",
     "output_type": "stream",
     "text": [
      "<class 'pandas.core.frame.DataFrame'>\n",
      "RangeIndex: 470545 entries, 0 to 470544\n",
      "Data columns (total 20 columns):\n",
      " #   Column                 Non-Null Count   Dtype         \n",
      "---  ------                 --------------   -----         \n",
      " 0   ACCESS_BEARER_ID.hash  470545 non-null  object        \n",
      " 1   PRODUCT_LABEL.hash     470545 non-null  object        \n",
      " 2   CUSTOMER_REF.hash      470545 non-null  object        \n",
      " 3   ACCOUNT_NUM.hash       470545 non-null  object        \n",
      " 4   PRODUCT_SEQ            470545 non-null  int64         \n",
      " 5   START_DAT              470545 non-null  datetime64[ns]\n",
      " 6   PRODUCT_ID             470545 non-null  int64         \n",
      " 7   PRODUCT_NAME           470545 non-null  object        \n",
      " 8   PRODUCT_STATUS         470545 non-null  object        \n",
      " 9   TARIFF_ID              470545 non-null  int64         \n",
      " 10  TARIFF_NAME            470545 non-null  object        \n",
      " 11  TARIFF_DESC            470545 non-null  object        \n",
      " 12  RECURRING_CHARGE       114957 non-null  object        \n",
      " 13  ACCOUNT_MANAGER        466164 non-null  object        \n",
      " 14  BILLING_CENTRE         470545 non-null  object        \n",
      " 15  MEDIUM                 447753 non-null  object        \n",
      " 16  CATOGORY               447745 non-null  object        \n",
      " 17  OUTSTANDING_AMOUNT1    447753 non-null  object        \n",
      " 18  CUSTOMER_TYPE          447750 non-null  object        \n",
      " 19  X_ACCOUNT_SUB_TYPE     447753 non-null  object        \n",
      "dtypes: datetime64[ns](1), int64(3), object(16)\n",
      "memory usage: 71.8+ MB\n"
     ]
    }
   ],
   "source": [
    "product_cat_df.info()"
   ]
  },
  {
   "cell_type": "code",
   "execution_count": 20,
   "metadata": {},
   "outputs": [],
   "source": [
    "pcat_df = product_cat_df[[\"PRODUCT_ID\",\"PRODUCT_NAME\",\"MEDIUM\",\"CATOGORY\",\"RECURRING_CHARGE\",\"BILLING_CENTRE\",\"ACCOUNT_MANAGER\",\"TARIFF_ID\",\"TARIFF_NAME\",\"TARIFF_DESC\"]]"
   ]
  },
  {
   "cell_type": "code",
   "execution_count": 21,
   "metadata": {},
   "outputs": [
    {
     "name": "stderr",
     "output_type": "stream",
     "text": [
      "/Users/chiranhewawitharana/mambaforge/envs/mactf/lib/python3.8/site-packages/pandas/core/frame.py:5039: SettingWithCopyWarning: \n",
      "A value is trying to be set on a copy of a slice from a DataFrame\n",
      "\n",
      "See the caveats in the documentation: https://pandas.pydata.org/pandas-docs/stable/user_guide/indexing.html#returning-a-view-versus-a-copy\n",
      "  return super().rename(\n",
      "/Users/chiranhewawitharana/mambaforge/envs/mactf/lib/python3.8/site-packages/pandas/util/_decorators.py:311: SettingWithCopyWarning: \n",
      "A value is trying to be set on a copy of a slice from a DataFrame\n",
      "\n",
      "See the caveats in the documentation: https://pandas.pydata.org/pandas-docs/stable/user_guide/indexing.html#returning-a-view-versus-a-copy\n",
      "  return func(*args, **kwargs)\n",
      "/Users/chiranhewawitharana/mambaforge/envs/mactf/lib/python3.8/site-packages/pandas/core/frame.py:4906: SettingWithCopyWarning: \n",
      "A value is trying to be set on a copy of a slice from a DataFrame\n",
      "\n",
      "See the caveats in the documentation: https://pandas.pydata.org/pandas-docs/stable/user_guide/indexing.html#returning-a-view-versus-a-copy\n",
      "  return super().drop(\n"
     ]
    }
   ],
   "source": [
    "pcat_df.rename(columns = {\"RECURRING_CHARGE\":\"Monthly_Rental\",\"CATOGORY\":\"CATEGORY\"},inplace=True)\n",
    "pcat_df.drop_duplicates(\"PRODUCT_NAME\", inplace=True)\n",
    "pcat_df.reset_index(inplace=True)\n",
    "pcat_df.drop([\"index\"],axis=1,inplace=True)"
   ]
  },
  {
   "cell_type": "code",
   "execution_count": 22,
   "metadata": {},
   "outputs": [
    {
     "name": "stdout",
     "output_type": "stream",
     "text": [
      "<class 'pandas.core.frame.DataFrame'>\n",
      "RangeIndex: 29 entries, 0 to 28\n",
      "Data columns (total 10 columns):\n",
      " #   Column           Non-Null Count  Dtype \n",
      "---  ------           --------------  ----- \n",
      " 0   PRODUCT_ID       29 non-null     int64 \n",
      " 1   PRODUCT_NAME     29 non-null     object\n",
      " 2   MEDIUM           23 non-null     object\n",
      " 3   CATEGORY         23 non-null     object\n",
      " 4   Monthly_Rental   13 non-null     object\n",
      " 5   BILLING_CENTRE   29 non-null     object\n",
      " 6   ACCOUNT_MANAGER  28 non-null     object\n",
      " 7   TARIFF_ID        29 non-null     int64 \n",
      " 8   TARIFF_NAME      29 non-null     object\n",
      " 9   TARIFF_DESC      29 non-null     object\n",
      "dtypes: int64(2), object(8)\n",
      "memory usage: 2.4+ KB\n"
     ]
    }
   ],
   "source": [
    "pcat_df.info()"
   ]
  },
  {
   "cell_type": "code",
   "execution_count": 23,
   "metadata": {},
   "outputs": [],
   "source": [
    "pcat_df.to_csv(\"data/product_catalog/Product_Info_BSS_All.csv\")"
   ]
  },
  {
   "cell_type": "code",
   "execution_count": null,
   "metadata": {},
   "outputs": [],
   "source": []
  },
  {
   "cell_type": "markdown",
   "metadata": {},
   "source": [
    "### Details for User Profile from BSS"
   ]
  },
  {
   "cell_type": "code",
   "execution_count": 24,
   "metadata": {},
   "outputs": [],
   "source": [
    "product_usage_df = product_cat_df[[\"PRODUCT_LABEL.hash\",\"ACCOUNT_NUM.hash\",\"PRODUCT_NAME\",\"START_DAT\",\"OUTSTANDING_AMOUNT1\",\"CUSTOMER_TYPE\",\"X_ACCOUNT_SUB_TYPE\"]]"
   ]
  },
  {
   "cell_type": "code",
   "execution_count": 25,
   "metadata": {},
   "outputs": [],
   "source": [
    "product_usage_df.rename(columns={\"PRODUCT_LABEL.hash\":\"event_source.hash\",\"START_DAT\":\"Date_Purchased\",\"OUTSTANDING_AMOUNT1\":\"Outstanding_Amount\",\"CUSTOMER_TYPE\":\"Subscriber_Type\",\"X_ACCOUNT_SUB_TYPE\":\"Subscriber_Living_Status\"},inplace=True)"
   ]
  },
  {
   "cell_type": "code",
   "execution_count": 217,
   "metadata": {},
   "outputs": [
    {
     "name": "stdout",
     "output_type": "stream",
     "text": [
      "<class 'pandas.core.frame.DataFrame'>\n",
      "Int64Index: 470545 entries, 0 to 470544\n",
      "Data columns (total 7 columns):\n",
      " #   Column                    Non-Null Count   Dtype         \n",
      "---  ------                    --------------   -----         \n",
      " 0   event_source.hash         470545 non-null  object        \n",
      " 1   ACCOUNT_NUM.hash          470545 non-null  object        \n",
      " 2   PRODUCT_NAME              470545 non-null  object        \n",
      " 3   Date_Purchased            470545 non-null  datetime64[ns]\n",
      " 4   Outstanding_Amount        447753 non-null  object        \n",
      " 5   Subscriber_Type           447750 non-null  object        \n",
      " 6   Subscriber_Living_Status  447753 non-null  object        \n",
      "dtypes: datetime64[ns](1), object(6)\n",
      "memory usage: 28.7+ MB\n"
     ]
    }
   ],
   "source": [
    "product_usage_df.info()"
   ]
  },
  {
   "cell_type": "code",
   "execution_count": 170,
   "metadata": {},
   "outputs": [
    {
     "data": {
      "text/plain": [
       "array(['AB_Copper Access Bearer', 'BB_SLT BroadBand Service',\n",
       "       'E_SLT PeoTV Service', 'BB_Personal Storage', 'V_Telehealth',\n",
       "       'V_SLT Voice Service', 'BB_Extra GB', 'BB_PeoTVGO',\n",
       "       'V_E-channeling Registration', 'BB_Detailed Reports ',\n",
       "       'V-Basic1_TeleLife', 'V-Plus1_TeleLife', 'V_Sisu Connect',\n",
       "       'BB_SLT Film Hall Service', 'BB_ Entertainment Unlimited',\n",
       "       'OTT_SLT PeoTV Go', 'AB_Fiber Access Bearer', 'AB_WireLess Access',\n",
       "       'V_E-channeling Subscription', 'DIG_ Kaspersky Internet Security',\n",
       "       'V-Plus2_TeleLife', 'V-Plus3_TeleLife', 'V-Plus4_TeleLife',\n",
       "       'V-Basic4_TeleLife', 'V-Basic2_TeleLife', 'BB_Guru.lk Service',\n",
       "       'BB_SLT Film Hall Portal VOD', 'V-Basic3_TeleLife',\n",
       "       'AB_Peo TV Go OTT Box'], dtype=object)"
      ]
     },
     "execution_count": 170,
     "metadata": {},
     "output_type": "execute_result"
    }
   ],
   "source": [
    "product_usage_df[\"PRODUCT_NAME\"].unique()"
   ]
  },
  {
   "cell_type": "code",
   "execution_count": 171,
   "metadata": {},
   "outputs": [],
   "source": [
    "product_usage_df = product_usage_df[(product_usage_df[\"PRODUCT_NAME\"] != \"BB_Extra_GB\")]"
   ]
  },
  {
   "cell_type": "code",
   "execution_count": 172,
   "metadata": {},
   "outputs": [],
   "source": [
    "product_usage_df.to_csv(\"data/user_profile/Products_Usage_All_Users.csv\")"
   ]
  },
  {
   "cell_type": "code",
   "execution_count": null,
   "metadata": {},
   "outputs": [],
   "source": []
  },
  {
   "cell_type": "markdown",
   "metadata": {},
   "source": [
    "## Phone No Account No Customer Reference Map"
   ]
  },
  {
   "cell_type": "code",
   "execution_count": 28,
   "metadata": {
    "gather": {
     "logged": 1628307608437
    }
   },
   "outputs": [
    {
     "name": "stderr",
     "output_type": "stream",
     "text": [
      "/Users/chiranhewawitharana/mambaforge/envs/mactf/lib/python3.8/site-packages/pandas/util/_decorators.py:311: SettingWithCopyWarning: \n",
      "A value is trying to be set on a copy of a slice from a DataFrame\n",
      "\n",
      "See the caveats in the documentation: https://pandas.pydata.org/pandas-docs/stable/user_guide/indexing.html#returning-a-view-versus-a-copy\n",
      "  return func(*args, **kwargs)\n",
      "/Users/chiranhewawitharana/mambaforge/envs/mactf/lib/python3.8/site-packages/pandas/core/frame.py:5039: SettingWithCopyWarning: \n",
      "A value is trying to be set on a copy of a slice from a DataFrame\n",
      "\n",
      "See the caveats in the documentation: https://pandas.pydata.org/pandas-docs/stable/user_guide/indexing.html#returning-a-view-versus-a-copy\n",
      "  return super().rename(\n",
      "/Users/chiranhewawitharana/mambaforge/envs/mactf/lib/python3.8/site-packages/pandas/core/frame.py:4906: SettingWithCopyWarning: \n",
      "A value is trying to be set on a copy of a slice from a DataFrame\n",
      "\n",
      "See the caveats in the documentation: https://pandas.pydata.org/pandas-docs/stable/user_guide/indexing.html#returning-a-view-versus-a-copy\n",
      "  return super().drop(\n"
     ]
    },
    {
     "data": {
      "text/html": [
       "<div>\n",
       "<style scoped>\n",
       "    .dataframe tbody tr th:only-of-type {\n",
       "        vertical-align: middle;\n",
       "    }\n",
       "\n",
       "    .dataframe tbody tr th {\n",
       "        vertical-align: top;\n",
       "    }\n",
       "\n",
       "    .dataframe thead th {\n",
       "        text-align: right;\n",
       "    }\n",
       "</style>\n",
       "<table border=\"1\" class=\"dataframe\">\n",
       "  <thead>\n",
       "    <tr style=\"text-align: right;\">\n",
       "      <th></th>\n",
       "      <th>event_source.hash</th>\n",
       "      <th>ACCOUNT_NUM.hash</th>\n",
       "      <th>CR.hash</th>\n",
       "    </tr>\n",
       "  </thead>\n",
       "  <tbody>\n",
       "    <tr>\n",
       "      <th>0</th>\n",
       "      <td>3c4db459202b18150fb2c63b0c5882a4</td>\n",
       "      <td>a947be4265f264f997522babf2695cb2</td>\n",
       "      <td>f52870ad3e31ae5d4501e8b777c9ce78</td>\n",
       "    </tr>\n",
       "    <tr>\n",
       "      <th>1</th>\n",
       "      <td>fd9a67d62cc93b4e7a152183ad693bb1</td>\n",
       "      <td>009b1dbbc92caa23adb0543072cf6055</td>\n",
       "      <td>20a2f39c08bb33fb67bda7afa8f3609d</td>\n",
       "    </tr>\n",
       "    <tr>\n",
       "      <th>2</th>\n",
       "      <td>c5df7fe1febafd3fdbe4e7e20e58340e</td>\n",
       "      <td>f9c0de7a5d673a0e92915e132602d438</td>\n",
       "      <td>c2dbda4dc5786a1aab2d6a0e46fc5873</td>\n",
       "    </tr>\n",
       "    <tr>\n",
       "      <th>3</th>\n",
       "      <td>47e91e40f209dd1cc54f2dc593f8b43f</td>\n",
       "      <td>ada8fc822ca8b9158785bda963816164</td>\n",
       "      <td>331ac921c84fcd8aa2f4c34c2c77c9f0</td>\n",
       "    </tr>\n",
       "    <tr>\n",
       "      <th>4</th>\n",
       "      <td>2f92703984d6ce41538fd2bbbc271d0d</td>\n",
       "      <td>c6418f69d0fc4007ea6e04c537c42c36</td>\n",
       "      <td>91bc24253b16d0969b59a904d1b9c2cb</td>\n",
       "    </tr>\n",
       "    <tr>\n",
       "      <th>...</th>\n",
       "      <td>...</td>\n",
       "      <td>...</td>\n",
       "      <td>...</td>\n",
       "    </tr>\n",
       "    <tr>\n",
       "      <th>161881</th>\n",
       "      <td>daa8cd194d31f3b487539eaf7a8aafff</td>\n",
       "      <td>0fc451f259348adeb06e83b5d47f4f37</td>\n",
       "      <td>f743374f4b5295b9998b7d3e52d11043</td>\n",
       "    </tr>\n",
       "    <tr>\n",
       "      <th>161882</th>\n",
       "      <td>32a9c13eb276a36ec82acdd5d2353cdd</td>\n",
       "      <td>fd29d9ad3d94d8e374bf295d11ae6bf0</td>\n",
       "      <td>63f7a5f01a9fce23d9cec92ed5f0311e</td>\n",
       "    </tr>\n",
       "    <tr>\n",
       "      <th>161883</th>\n",
       "      <td>dcbb81dccaa15744dbae39a125de3894</td>\n",
       "      <td>6039fb805660c8e91c3bd683c2ab037c</td>\n",
       "      <td>e4b1de0537b0acd52f554790677fed48</td>\n",
       "    </tr>\n",
       "    <tr>\n",
       "      <th>161884</th>\n",
       "      <td>b6c0bcd9576edf849c37c8ddb474d694</td>\n",
       "      <td>d060d769a7dd0344fd818c8b4b3cd94a</td>\n",
       "      <td>2c8d60dbeb0a0eb048bf32da3e333cd4</td>\n",
       "    </tr>\n",
       "    <tr>\n",
       "      <th>161885</th>\n",
       "      <td>fe5bb55c29b26f80c81312db81df072d</td>\n",
       "      <td>2c024a6dac1349eff65ac63fe69af287</td>\n",
       "      <td>d7ed7c7ae5f0655467342d1caf9477cf</td>\n",
       "    </tr>\n",
       "  </tbody>\n",
       "</table>\n",
       "<p>161886 rows × 3 columns</p>\n",
       "</div>"
      ],
      "text/plain": [
       "                       event_source.hash                  ACCOUNT_NUM.hash  \\\n",
       "0       3c4db459202b18150fb2c63b0c5882a4  a947be4265f264f997522babf2695cb2   \n",
       "1       fd9a67d62cc93b4e7a152183ad693bb1  009b1dbbc92caa23adb0543072cf6055   \n",
       "2       c5df7fe1febafd3fdbe4e7e20e58340e  f9c0de7a5d673a0e92915e132602d438   \n",
       "3       47e91e40f209dd1cc54f2dc593f8b43f  ada8fc822ca8b9158785bda963816164   \n",
       "4       2f92703984d6ce41538fd2bbbc271d0d  c6418f69d0fc4007ea6e04c537c42c36   \n",
       "...                                  ...                               ...   \n",
       "161881  daa8cd194d31f3b487539eaf7a8aafff  0fc451f259348adeb06e83b5d47f4f37   \n",
       "161882  32a9c13eb276a36ec82acdd5d2353cdd  fd29d9ad3d94d8e374bf295d11ae6bf0   \n",
       "161883  dcbb81dccaa15744dbae39a125de3894  6039fb805660c8e91c3bd683c2ab037c   \n",
       "161884  b6c0bcd9576edf849c37c8ddb474d694  d060d769a7dd0344fd818c8b4b3cd94a   \n",
       "161885  fe5bb55c29b26f80c81312db81df072d  2c024a6dac1349eff65ac63fe69af287   \n",
       "\n",
       "                                 CR.hash  \n",
       "0       f52870ad3e31ae5d4501e8b777c9ce78  \n",
       "1       20a2f39c08bb33fb67bda7afa8f3609d  \n",
       "2       c2dbda4dc5786a1aab2d6a0e46fc5873  \n",
       "3       331ac921c84fcd8aa2f4c34c2c77c9f0  \n",
       "4       91bc24253b16d0969b59a904d1b9c2cb  \n",
       "...                                  ...  \n",
       "161881  f743374f4b5295b9998b7d3e52d11043  \n",
       "161882  63f7a5f01a9fce23d9cec92ed5f0311e  \n",
       "161883  e4b1de0537b0acd52f554790677fed48  \n",
       "161884  2c8d60dbeb0a0eb048bf32da3e333cd4  \n",
       "161885  d7ed7c7ae5f0655467342d1caf9477cf  \n",
       "\n",
       "[161886 rows x 3 columns]"
      ]
     },
     "execution_count": 28,
     "metadata": {},
     "output_type": "execute_result"
    }
   ],
   "source": [
    "acc_no_map = product_cat_df[[\"PRODUCT_LABEL.hash\",\"ACCOUNT_NUM.hash\",\"CUSTOMER_REF.hash\"]]\n",
    "acc_no_map.drop_duplicates([\"PRODUCT_LABEL.hash\"],inplace=True)\n",
    "acc_no_map.rename(columns={'PRODUCT_LABEL.hash':'event_source.hash',\"CUSTOMER_REF.hash\":\"CR.hash\" }, inplace=True)\n",
    "acc_no_map.reset_index(inplace=True)\n",
    "acc_no_map.drop([\"index\"],axis=1,inplace=True)\n",
    "acc_no_map"
   ]
  },
  {
   "cell_type": "code",
   "execution_count": 29,
   "metadata": {},
   "outputs": [
    {
     "data": {
      "text/plain": [
       "161886"
      ]
     },
     "execution_count": 29,
     "metadata": {},
     "output_type": "execute_result"
    }
   ],
   "source": [
    "len(acc_no_map[\"event_source.hash\"].unique())"
   ]
  },
  {
   "cell_type": "code",
   "execution_count": 30,
   "metadata": {
    "gather": {
     "logged": 1628307794855
    },
    "jupyter": {
     "outputs_hidden": false,
     "source_hidden": false
    },
    "nteract": {
     "transient": {
      "deleting": false
     }
    }
   },
   "outputs": [
    {
     "name": "stdout",
     "output_type": "stream",
     "text": [
      "<class 'pandas.core.frame.DataFrame'>\n",
      "RangeIndex: 161886 entries, 0 to 161885\n",
      "Data columns (total 3 columns):\n",
      " #   Column             Non-Null Count   Dtype \n",
      "---  ------             --------------   ----- \n",
      " 0   event_source.hash  161886 non-null  object\n",
      " 1   ACCOUNT_NUM.hash   161886 non-null  object\n",
      " 2   CR.hash            161886 non-null  object\n",
      "dtypes: object(3)\n",
      "memory usage: 3.7+ MB\n"
     ]
    }
   ],
   "source": [
    "acc_no_map.info()"
   ]
  },
  {
   "cell_type": "code",
   "execution_count": 31,
   "metadata": {
    "gather": {
     "logged": 1628307822826
    },
    "jupyter": {
     "outputs_hidden": false,
     "source_hidden": false
    },
    "nteract": {
     "transient": {
      "deleting": false
     }
    }
   },
   "outputs": [
    {
     "data": {
      "text/html": [
       "<div>\n",
       "<style scoped>\n",
       "    .dataframe tbody tr th:only-of-type {\n",
       "        vertical-align: middle;\n",
       "    }\n",
       "\n",
       "    .dataframe tbody tr th {\n",
       "        vertical-align: top;\n",
       "    }\n",
       "\n",
       "    .dataframe thead th {\n",
       "        text-align: right;\n",
       "    }\n",
       "</style>\n",
       "<table border=\"1\" class=\"dataframe\">\n",
       "  <thead>\n",
       "    <tr style=\"text-align: right;\">\n",
       "      <th></th>\n",
       "      <th>ACCOUNT_NUM.hash</th>\n",
       "      <th>event_source.hash</th>\n",
       "      <th>CR.hash</th>\n",
       "    </tr>\n",
       "  </thead>\n",
       "  <tbody>\n",
       "    <tr>\n",
       "      <th>0</th>\n",
       "      <td>0002b6822fbf6c4ea60b145bf0ed2cc3</td>\n",
       "      <td>[4d27bd991a4633b20ac7e77b5864bb51]</td>\n",
       "      <td>[2f02000d2627c4de55c4f989564f14f8]</td>\n",
       "    </tr>\n",
       "    <tr>\n",
       "      <th>1</th>\n",
       "      <td>0003102d10a11c8f2f0f241f00a36b2d</td>\n",
       "      <td>[6ffcd36b1719deebc161fa24905e4d64, 0eab8e25fa3...</td>\n",
       "      <td>[b3961713ba060658085e35b52a38db2f, b3961713ba0...</td>\n",
       "    </tr>\n",
       "    <tr>\n",
       "      <th>2</th>\n",
       "      <td>0003df7598926f578f53ecd9e424f3c9</td>\n",
       "      <td>[8762eb0aac72287c1bf34210c924d8f5, 0e825d9d646...</td>\n",
       "      <td>[34d3f16e6567fbe816fdd103df0a0792, 34d3f16e656...</td>\n",
       "    </tr>\n",
       "    <tr>\n",
       "      <th>3</th>\n",
       "      <td>000417b4ce7957159bae4d3485bff47e</td>\n",
       "      <td>[23aa696b9c0c71fef54b3ec8e275291a, 17c49152888...</td>\n",
       "      <td>[920b4ae9fef3b8e97cd77ff330889ea5, 920b4ae9fef...</td>\n",
       "    </tr>\n",
       "    <tr>\n",
       "      <th>4</th>\n",
       "      <td>00067185c36c0a8ce58487a5be60dd97</td>\n",
       "      <td>[cd4e8bf55a15fb45541c37cac377a825]</td>\n",
       "      <td>[bdce52a4f80ddd1e46d61211d3de51d3]</td>\n",
       "    </tr>\n",
       "    <tr>\n",
       "      <th>...</th>\n",
       "      <td>...</td>\n",
       "      <td>...</td>\n",
       "      <td>...</td>\n",
       "    </tr>\n",
       "    <tr>\n",
       "      <th>82995</th>\n",
       "      <td>fffd0b8541e9f62496092d2ea8609135</td>\n",
       "      <td>[9db544dc8c533344cb261818f360338a, 389aed0dee3...</td>\n",
       "      <td>[3cc45ae7d5a36e90a8a9e0c35f48d79c, 3cc45ae7d5a...</td>\n",
       "    </tr>\n",
       "    <tr>\n",
       "      <th>82996</th>\n",
       "      <td>fffd3dc8b510af9a13d16ca30002b88e</td>\n",
       "      <td>[eeb2e56d2e4de90c5572510e9a02060a]</td>\n",
       "      <td>[abd4be4a0ceaf4d60e9be1ff535ffee0]</td>\n",
       "    </tr>\n",
       "    <tr>\n",
       "      <th>82997</th>\n",
       "      <td>ffff229b6656157ab0f7ad53709b8879</td>\n",
       "      <td>[d13b54f8ae960aadf3d596dc939e91fb]</td>\n",
       "      <td>[14928af630683e5142c0a38f62b5a794]</td>\n",
       "    </tr>\n",
       "    <tr>\n",
       "      <th>82998</th>\n",
       "      <td>ffff7fc0c266ac5b34f91de1ba4f3039</td>\n",
       "      <td>[dc5889fe8aefdd9027c8c8d173465926, cff7370ca0a...</td>\n",
       "      <td>[68681db9fda35272bc945ee5446eb1f0, 68681db9fda...</td>\n",
       "    </tr>\n",
       "    <tr>\n",
       "      <th>82999</th>\n",
       "      <td>ffffe6d0d44f76428f676bd36e83df76</td>\n",
       "      <td>[04c5ef9b6d44d3273a20ccb9b745ebdf, 02686bc6664...</td>\n",
       "      <td>[df4bc5da4eaaaab1d937c3fd2a699c3f, df4bc5da4ea...</td>\n",
       "    </tr>\n",
       "  </tbody>\n",
       "</table>\n",
       "<p>83000 rows × 3 columns</p>\n",
       "</div>"
      ],
      "text/plain": [
       "                       ACCOUNT_NUM.hash  \\\n",
       "0      0002b6822fbf6c4ea60b145bf0ed2cc3   \n",
       "1      0003102d10a11c8f2f0f241f00a36b2d   \n",
       "2      0003df7598926f578f53ecd9e424f3c9   \n",
       "3      000417b4ce7957159bae4d3485bff47e   \n",
       "4      00067185c36c0a8ce58487a5be60dd97   \n",
       "...                                 ...   \n",
       "82995  fffd0b8541e9f62496092d2ea8609135   \n",
       "82996  fffd3dc8b510af9a13d16ca30002b88e   \n",
       "82997  ffff229b6656157ab0f7ad53709b8879   \n",
       "82998  ffff7fc0c266ac5b34f91de1ba4f3039   \n",
       "82999  ffffe6d0d44f76428f676bd36e83df76   \n",
       "\n",
       "                                       event_source.hash  \\\n",
       "0                     [4d27bd991a4633b20ac7e77b5864bb51]   \n",
       "1      [6ffcd36b1719deebc161fa24905e4d64, 0eab8e25fa3...   \n",
       "2      [8762eb0aac72287c1bf34210c924d8f5, 0e825d9d646...   \n",
       "3      [23aa696b9c0c71fef54b3ec8e275291a, 17c49152888...   \n",
       "4                     [cd4e8bf55a15fb45541c37cac377a825]   \n",
       "...                                                  ...   \n",
       "82995  [9db544dc8c533344cb261818f360338a, 389aed0dee3...   \n",
       "82996                 [eeb2e56d2e4de90c5572510e9a02060a]   \n",
       "82997                 [d13b54f8ae960aadf3d596dc939e91fb]   \n",
       "82998  [dc5889fe8aefdd9027c8c8d173465926, cff7370ca0a...   \n",
       "82999  [04c5ef9b6d44d3273a20ccb9b745ebdf, 02686bc6664...   \n",
       "\n",
       "                                                 CR.hash  \n",
       "0                     [2f02000d2627c4de55c4f989564f14f8]  \n",
       "1      [b3961713ba060658085e35b52a38db2f, b3961713ba0...  \n",
       "2      [34d3f16e6567fbe816fdd103df0a0792, 34d3f16e656...  \n",
       "3      [920b4ae9fef3b8e97cd77ff330889ea5, 920b4ae9fef...  \n",
       "4                     [bdce52a4f80ddd1e46d61211d3de51d3]  \n",
       "...                                                  ...  \n",
       "82995  [3cc45ae7d5a36e90a8a9e0c35f48d79c, 3cc45ae7d5a...  \n",
       "82996                 [abd4be4a0ceaf4d60e9be1ff535ffee0]  \n",
       "82997                 [14928af630683e5142c0a38f62b5a794]  \n",
       "82998  [68681db9fda35272bc945ee5446eb1f0, 68681db9fda...  \n",
       "82999  [df4bc5da4eaaaab1d937c3fd2a699c3f, df4bc5da4ea...  \n",
       "\n",
       "[83000 rows x 3 columns]"
      ]
     },
     "execution_count": 31,
     "metadata": {},
     "output_type": "execute_result"
    }
   ],
   "source": [
    "acc_no_map_agg = acc_no_map.groupby(\"ACCOUNT_NUM.hash\").agg(list)\n",
    "acc_no_map_agg.reset_index(inplace=True)\n",
    "acc_no_map_agg"
   ]
  },
  {
   "cell_type": "code",
   "execution_count": 32,
   "metadata": {
    "gather": {
     "logged": 1628307657859
    }
   },
   "outputs": [
    {
     "data": {
      "text/plain": [
       "83000"
      ]
     },
     "execution_count": 32,
     "metadata": {},
     "output_type": "execute_result"
    }
   ],
   "source": [
    "len(acc_no_map[\"ACCOUNT_NUM.hash\"].unique())"
   ]
  },
  {
   "cell_type": "code",
   "execution_count": 33,
   "metadata": {
    "gather": {
     "logged": 1628307981097
    },
    "jupyter": {
     "outputs_hidden": false,
     "source_hidden": false
    },
    "nteract": {
     "transient": {
      "deleting": false
     }
    }
   },
   "outputs": [],
   "source": [
    "acc_no_map.to_csv(\"data/user_profile/account_no_map_all.csv\")"
   ]
  },
  {
   "cell_type": "code",
   "execution_count": 34,
   "metadata": {
    "gather": {
     "logged": 1628307944338
    }
   },
   "outputs": [],
   "source": [
    "acc_no_map_agg.to_csv(\"data/user_profile/account_no_map_agg.csv\")"
   ]
  },
  {
   "cell_type": "code",
   "execution_count": null,
   "metadata": {},
   "outputs": [],
   "source": []
  },
  {
   "cell_type": "markdown",
   "metadata": {},
   "source": [
    "## Customer Demographics "
   ]
  },
  {
   "cell_type": "markdown",
   "metadata": {},
   "source": [
    "### Demographics Inofmation"
   ]
  },
  {
   "cell_type": "code",
   "execution_count": 35,
   "metadata": {
    "gather": {
     "logged": 1628307999115
    }
   },
   "outputs": [],
   "source": [
    "demo_df = pd.read_csv(\"data/7.1 Demographic Data.csv\")"
   ]
  },
  {
   "cell_type": "code",
   "execution_count": 36,
   "metadata": {},
   "outputs": [],
   "source": [
    "demo_df.drop_duplicates(\"CUSTOMER_REF.hash\", inplace=True)\n",
    "demo_df.rename(columns={\"CUSTOMER_REF.hash\":\"CR.hash\"}, inplace=True)"
   ]
  },
  {
   "cell_type": "code",
   "execution_count": 37,
   "metadata": {
    "gather": {
     "logged": 1628308002861
    },
    "jupyter": {
     "outputs_hidden": false,
     "source_hidden": false
    },
    "nteract": {
     "transient": {
      "deleting": false
     }
    }
   },
   "outputs": [
    {
     "name": "stdout",
     "output_type": "stream",
     "text": [
      "<class 'pandas.core.frame.DataFrame'>\n",
      "Int64Index: 102890 entries, 0 to 102889\n",
      "Data columns (total 4 columns):\n",
      " #   Column      Non-Null Count   Dtype \n",
      "---  ------      --------------   ----- \n",
      " 0   CR.hash     102890 non-null  object\n",
      " 1   GENDER      102890 non-null  object\n",
      " 2   BIRTH_YEAR  102890 non-null  int64 \n",
      " 3   AGE         102890 non-null  int64 \n",
      "dtypes: int64(2), object(2)\n",
      "memory usage: 3.9+ MB\n"
     ]
    }
   ],
   "source": [
    "demo_df.info()"
   ]
  },
  {
   "cell_type": "code",
   "execution_count": 471,
   "metadata": {
    "gather": {
     "logged": 1628309161437
    }
   },
   "outputs": [
    {
     "data": {
      "text/html": [
       "<div>\n",
       "<style scoped>\n",
       "    .dataframe tbody tr th:only-of-type {\n",
       "        vertical-align: middle;\n",
       "    }\n",
       "\n",
       "    .dataframe tbody tr th {\n",
       "        vertical-align: top;\n",
       "    }\n",
       "\n",
       "    .dataframe thead th {\n",
       "        text-align: right;\n",
       "    }\n",
       "</style>\n",
       "<table border=\"1\" class=\"dataframe\">\n",
       "  <thead>\n",
       "    <tr style=\"text-align: right;\">\n",
       "      <th></th>\n",
       "      <th>CR.hash</th>\n",
       "      <th>GENDER</th>\n",
       "      <th>BIRTH_YEAR</th>\n",
       "      <th>AGE</th>\n",
       "      <th>event_source.hash</th>\n",
       "      <th>ACCOUNT_NUM.hash</th>\n",
       "    </tr>\n",
       "  </thead>\n",
       "  <tbody>\n",
       "    <tr>\n",
       "      <th>0</th>\n",
       "      <td>6adf4cdb5632fd7cd4c63c28f03deeb8</td>\n",
       "      <td>M</td>\n",
       "      <td>1975</td>\n",
       "      <td>46</td>\n",
       "      <td>e257326c82c2cd92238d8a3df7866d30</td>\n",
       "      <td>b94acb02778070c52f0058ad1dad5049</td>\n",
       "    </tr>\n",
       "    <tr>\n",
       "      <th>1</th>\n",
       "      <td>6adf4cdb5632fd7cd4c63c28f03deeb8</td>\n",
       "      <td>M</td>\n",
       "      <td>1975</td>\n",
       "      <td>46</td>\n",
       "      <td>793b33b518a1154214bae5e6d1a056c9</td>\n",
       "      <td>b94acb02778070c52f0058ad1dad5049</td>\n",
       "    </tr>\n",
       "    <tr>\n",
       "      <th>2</th>\n",
       "      <td>6adf4cdb5632fd7cd4c63c28f03deeb8</td>\n",
       "      <td>M</td>\n",
       "      <td>1975</td>\n",
       "      <td>46</td>\n",
       "      <td>8c32122fc95ac8e13f509c2ebb4ee377</td>\n",
       "      <td>b94acb02778070c52f0058ad1dad5049</td>\n",
       "    </tr>\n",
       "    <tr>\n",
       "      <th>3</th>\n",
       "      <td>c3d2b2f7dbef031193aeedb0d72b4fb9</td>\n",
       "      <td>M</td>\n",
       "      <td>1962</td>\n",
       "      <td>59</td>\n",
       "      <td>a1ea0ded27cf9820d1c3154b4ff1324a</td>\n",
       "      <td>9962761586f65dcd1157598e8086ac81</td>\n",
       "    </tr>\n",
       "    <tr>\n",
       "      <th>4</th>\n",
       "      <td>c3d2b2f7dbef031193aeedb0d72b4fb9</td>\n",
       "      <td>M</td>\n",
       "      <td>1962</td>\n",
       "      <td>59</td>\n",
       "      <td>7d942580c8cc18e844d3922e94767962</td>\n",
       "      <td>9962761586f65dcd1157598e8086ac81</td>\n",
       "    </tr>\n",
       "    <tr>\n",
       "      <th>...</th>\n",
       "      <td>...</td>\n",
       "      <td>...</td>\n",
       "      <td>...</td>\n",
       "      <td>...</td>\n",
       "      <td>...</td>\n",
       "      <td>...</td>\n",
       "    </tr>\n",
       "    <tr>\n",
       "      <th>170634</th>\n",
       "      <td>e36813ffd7cec3a27e1e40df637377ca</td>\n",
       "      <td>M</td>\n",
       "      <td>1977</td>\n",
       "      <td>44</td>\n",
       "      <td>3556be60799ef55916934066add4675e</td>\n",
       "      <td>d3a0b12ae63edf0c7aab1764382f020b</td>\n",
       "    </tr>\n",
       "    <tr>\n",
       "      <th>170635</th>\n",
       "      <td>c8b9620eaf713be46c623f5ebd0d6c54</td>\n",
       "      <td>F</td>\n",
       "      <td>1958</td>\n",
       "      <td>63</td>\n",
       "      <td>835c0eac8c28185e77a00ece9481e181</td>\n",
       "      <td>f7236d09578f306eb7e5a698b8630dde</td>\n",
       "    </tr>\n",
       "    <tr>\n",
       "      <th>170636</th>\n",
       "      <td>c8b9620eaf713be46c623f5ebd0d6c54</td>\n",
       "      <td>F</td>\n",
       "      <td>1958</td>\n",
       "      <td>63</td>\n",
       "      <td>05a7806569423b780554bb325b49aeca</td>\n",
       "      <td>f7236d09578f306eb7e5a698b8630dde</td>\n",
       "    </tr>\n",
       "    <tr>\n",
       "      <th>170637</th>\n",
       "      <td>314fc73edce93abadabaf916f4f62381</td>\n",
       "      <td>M</td>\n",
       "      <td>1971</td>\n",
       "      <td>50</td>\n",
       "      <td>f54dc2113407466294e281af2d77ab93</td>\n",
       "      <td>f91c5ec8e3ffefa823d28495f45634b9</td>\n",
       "    </tr>\n",
       "    <tr>\n",
       "      <th>170638</th>\n",
       "      <td>314fc73edce93abadabaf916f4f62381</td>\n",
       "      <td>M</td>\n",
       "      <td>1971</td>\n",
       "      <td>50</td>\n",
       "      <td>1eb12e72b7b739b5b2f0d6638294b05f</td>\n",
       "      <td>f91c5ec8e3ffefa823d28495f45634b9</td>\n",
       "    </tr>\n",
       "  </tbody>\n",
       "</table>\n",
       "<p>170639 rows × 6 columns</p>\n",
       "</div>"
      ],
      "text/plain": [
       "                                 CR.hash GENDER  BIRTH_YEAR  AGE  \\\n",
       "0       6adf4cdb5632fd7cd4c63c28f03deeb8      M        1975   46   \n",
       "1       6adf4cdb5632fd7cd4c63c28f03deeb8      M        1975   46   \n",
       "2       6adf4cdb5632fd7cd4c63c28f03deeb8      M        1975   46   \n",
       "3       c3d2b2f7dbef031193aeedb0d72b4fb9      M        1962   59   \n",
       "4       c3d2b2f7dbef031193aeedb0d72b4fb9      M        1962   59   \n",
       "...                                  ...    ...         ...  ...   \n",
       "170634  e36813ffd7cec3a27e1e40df637377ca      M        1977   44   \n",
       "170635  c8b9620eaf713be46c623f5ebd0d6c54      F        1958   63   \n",
       "170636  c8b9620eaf713be46c623f5ebd0d6c54      F        1958   63   \n",
       "170637  314fc73edce93abadabaf916f4f62381      M        1971   50   \n",
       "170638  314fc73edce93abadabaf916f4f62381      M        1971   50   \n",
       "\n",
       "                       event_source.hash                  ACCOUNT_NUM.hash  \n",
       "0       e257326c82c2cd92238d8a3df7866d30  b94acb02778070c52f0058ad1dad5049  \n",
       "1       793b33b518a1154214bae5e6d1a056c9  b94acb02778070c52f0058ad1dad5049  \n",
       "2       8c32122fc95ac8e13f509c2ebb4ee377  b94acb02778070c52f0058ad1dad5049  \n",
       "3       a1ea0ded27cf9820d1c3154b4ff1324a  9962761586f65dcd1157598e8086ac81  \n",
       "4       7d942580c8cc18e844d3922e94767962  9962761586f65dcd1157598e8086ac81  \n",
       "...                                  ...                               ...  \n",
       "170634  3556be60799ef55916934066add4675e  d3a0b12ae63edf0c7aab1764382f020b  \n",
       "170635  835c0eac8c28185e77a00ece9481e181  f7236d09578f306eb7e5a698b8630dde  \n",
       "170636  05a7806569423b780554bb325b49aeca  f7236d09578f306eb7e5a698b8630dde  \n",
       "170637  f54dc2113407466294e281af2d77ab93  f91c5ec8e3ffefa823d28495f45634b9  \n",
       "170638  1eb12e72b7b739b5b2f0d6638294b05f  f91c5ec8e3ffefa823d28495f45634b9  \n",
       "\n",
       "[170639 rows x 6 columns]"
      ]
     },
     "execution_count": 471,
     "metadata": {},
     "output_type": "execute_result"
    }
   ],
   "source": [
    "merged_demo = demo_df.merge(acc_no_map,how='left', on='CR.hash')\n",
    "merged_demo.reset_index(inplace=True)\n",
    "merged_demo.drop([\"index\"],axis=1, inplace=True)\n",
    "merged_demo"
   ]
  },
  {
   "cell_type": "code",
   "execution_count": 472,
   "metadata": {
    "gather": {
     "logged": 1628309172044
    }
   },
   "outputs": [
    {
     "name": "stderr",
     "output_type": "stream",
     "text": [
      "/Users/chiranhewawitharana/mambaforge/envs/mactf/lib/python3.8/site-packages/pandas/util/_decorators.py:311: SettingWithCopyWarning: \n",
      "A value is trying to be set on a copy of a slice from a DataFrame\n",
      "\n",
      "See the caveats in the documentation: https://pandas.pydata.org/pandas-docs/stable/user_guide/indexing.html#returning-a-view-versus-a-copy\n",
      "  return func(*args, **kwargs)\n"
     ]
    }
   ],
   "source": [
    "merged_demo = merged_demo[[\"ACCOUNT_NUM.hash\",\"event_source.hash\",\"CR.hash\",\"GENDER\",\"BIRTH_YEAR\",\"AGE\"]]\n",
    "merged_demo.drop_duplicates(\"ACCOUNT_NUM.hash\",inplace=True)"
   ]
  },
  {
   "cell_type": "code",
   "execution_count": 473,
   "metadata": {
    "gather": {
     "logged": 1628309184280
    }
   },
   "outputs": [],
   "source": [
    "merged_demo.sort_values(by=\"BIRTH_YEAR\",inplace=True)"
   ]
  },
  {
   "cell_type": "code",
   "execution_count": 474,
   "metadata": {},
   "outputs": [],
   "source": [
    "merged_demo = merged_demo.iloc[:-7,:]\n",
    "merged_demo.reset_index(inplace=True)\n",
    "merged_demo.drop(\"index\",axis=1, inplace=True)"
   ]
  },
  {
   "cell_type": "code",
   "execution_count": 476,
   "metadata": {
    "gather": {
     "logged": 1628309212131
    }
   },
   "outputs": [],
   "source": [
    "merged_demo.to_csv(\"data/user_profile/user_demographics.csv\")"
   ]
  },
  {
   "cell_type": "markdown",
   "metadata": {},
   "source": [
    "## Imports"
   ]
  },
  {
   "cell_type": "code",
   "execution_count": 42,
   "metadata": {},
   "outputs": [],
   "source": [
    "costed_events_df = pd.read_excel(\"data/4.3 VAS Product Data From Costed Events Table.xls\")"
   ]
  },
  {
   "cell_type": "code",
   "execution_count": 43,
   "metadata": {},
   "outputs": [],
   "source": [
    "sltdwh_df = pd.read_excel(\"data/4.4 VAS product Data From SLTDWH.xls\")"
   ]
  },
  {
   "cell_type": "code",
   "execution_count": 44,
   "metadata": {},
   "outputs": [],
   "source": [
    "renatal_vas_df = pd.read_excel(\"data/4.1 Rental VAS Products Data.xls\")"
   ]
  },
  {
   "cell_type": "code",
   "execution_count": 45,
   "metadata": {},
   "outputs": [],
   "source": [
    "otc_vas_df = pd.read_excel(\"data/4.2 OTC VAS Product Data.xlsx\")"
   ]
  },
  {
   "cell_type": "code",
   "execution_count": 46,
   "metadata": {},
   "outputs": [],
   "source": [
    "acc_vas_df = pd.read_excel(\"data/4.5 VAS product Data From Account Details Table.xls\")"
   ]
  },
  {
   "cell_type": "code",
   "execution_count": 47,
   "metadata": {},
   "outputs": [],
   "source": [
    "product_mapping_to_bs_df = pd.read_excel(\"data/5.3 Products mapping to BS tariff.xlsx\")"
   ]
  },
  {
   "cell_type": "code",
   "execution_count": 182,
   "metadata": {},
   "outputs": [],
   "source": [
    "state_changes_df = pd.read_csv(\"data/Product State Changes from BSS.csv\")"
   ]
  },
  {
   "cell_type": "code",
   "execution_count": 48,
   "metadata": {},
   "outputs": [],
   "source": [
    "promotion_upgrade_df = pd.read_excel(\"data/6.1 Promotion Upgrade Data.xlsx\")"
   ]
  },
  {
   "cell_type": "code",
   "execution_count": 50,
   "metadata": {},
   "outputs": [],
   "source": []
  },
  {
   "cell_type": "markdown",
   "metadata": {},
   "source": [
    "# Data anlysis"
   ]
  },
  {
   "cell_type": "markdown",
   "metadata": {},
   "source": [
    "### Product Names and TRIFF"
   ]
  },
  {
   "cell_type": "code",
   "execution_count": 52,
   "metadata": {},
   "outputs": [],
   "source": [
    "product_and_triff = renatal_vas_df[[\"PRODUCT_NAME\",\"TARIFF_NAME\"]].drop_duplicates(\"PRODUCT_NAME\")\n",
    "product_and_triff.reset_index(inplace=True)\n",
    "product_and_triff.drop(\"index\",axis=1, inplace = True)"
   ]
  },
  {
   "cell_type": "code",
   "execution_count": 53,
   "metadata": {},
   "outputs": [],
   "source": [
    "product_and_triff.to_csv(\"data/product_catalog/VAS_product_triff.csv\")"
   ]
  },
  {
   "cell_type": "code",
   "execution_count": 54,
   "metadata": {},
   "outputs": [],
   "source": [
    "product_mapping_to_bs_df.drop(\"BSS Name\", axis=1, inplace=True)\n",
    "product_mapping_to_bs_df.rename(columns={\"CRM Name\":\"PRODUCT_NAME\",\"Value\":\"Product_Type\"},inplace=True)"
   ]
  },
  {
   "cell_type": "code",
   "execution_count": 55,
   "metadata": {},
   "outputs": [],
   "source": [
    "product_and_triff.to_csv(\"data/product_catalog/VAS_product_all.csv\")"
   ]
  },
  {
   "cell_type": "markdown",
   "metadata": {},
   "source": [
    "### VAS Datasets preparation"
   ]
  },
  {
   "cell_type": "code",
   "execution_count": 411,
   "metadata": {},
   "outputs": [],
   "source": [
    "# Date correction\n",
    "month_map = {\"Jan\":\"01\", \"Feb\":\"02\", \"Mar\":\"03\", \"Apr\":\"04\", \"May\":\"05\", \"Jun\":\"06\",\"Jul\":\"07\",\"Aug\":\"08\",\"Sept\":\"09\",\"Oct\":\"10\",\"Nov\":\"11\",\"Dec\":\"12\"}\n",
    "\n",
    "promotions = [\"SLT LTE 4G Biz Pal Package\",\"SLT LTE 4G Net Pal Package\",\"SLT LTE 4G Voice Pal Basic Package\",\n",
    "             \"SLT LTE Double Play Package\",\"SLT Megaline Double Play (BV) Package\",\n",
    "             \"SLT Megaline Double Play (PV) Package\",\"SLT Megaline Triple Play Package\",\n",
    "             \"SLT Megaline Single Play -SisuConnect School Phone\",\"SLT Smartline Double Play (BV)\",\n",
    "              \"SLT Smartline Triple Play\",\"SLTemail Promotion\",\"Domain Name Registration Bundle\",\n",
    "              \"IDC- Biz Virtual Mail Server Bundle\",\"IDC_Shared Hosting Service Bundle\",\n",
    "              \"I_DNS Hosting Promotion\",\"M_Revenue Commitment Package Bundle\",\"I_myBILL Service Bundle\",\n",
    "              \"C_Smart Dial Commitment Bundle\",\"C_Smart Dial Group Bundle\"\n",
    "             ]\n",
    "\n",
    "free_packages = [ 'V_Call Forwarding Offline',\n",
    "       'V_Anonymous call barring', 'V_Call back on busy',\n",
    "       'V_CLI presentation in call waiting', 'V_Incoming Call Memory',\n",
    "       'V_Call park', 'BB_Personal Storage',\n",
    "       'V_Call Forwarding by time', \n",
    "       'V_Outgoing Call Memory', \n",
    "       'V_Incoming Call Transfer', \n",
    "       'V_Call holding', 'E_PeoTV Initiation',\n",
    "       'V_Call Transfer Three way','V_Selective call acceptance', 'V_Selective call rejection',\n",
    "       'V_Call Forwarding-Immediate', 'V_Call Forwarding-On Busy',\n",
    "       'V_Call Waiting', 'V_Call Forwarding-No Answer', 'V_Secretary service', \n",
    "       'V_Call Forwarding', 'V_Absentee service','E_TSTV',\n",
    "       'V_Call Forwarding - On Busy', 'V_Call Forwarding - No Answer',\n",
    "       'V_Abbreviated Dialing', 'P_Incoming Call Memory', 'P_Call Forwarding by time',\n",
    "       'P_CLI presentation in call waiting', 'V_Password call barring (secret code)',\n",
    "       'P_Anonymous call barring', 'P_Call back on busy', 'P_Removal of Int & Parallel Ext', 'P_One-Time Detailed Bill',\n",
    "       'P_Outgoing Call Memory', 'P_Call Forwarding Offline',\"AB_Initiation Charge - 4G Biz Pal\",\n",
    "       'P_Call holding', 'P_Call Transfer Three way','V_Short Message Service',\n",
    "       'P_Incoming Call Transfer',  'V_Call Forwarding - Immediate','BB Personal Storage',\n",
    "       'DQ_Contact Details', 'P_SLT CLI', 'V_Do not disturb service','V_Hotline Service', \n",
    "       'V_Basic Phone', 'V_Call forwarding selective',\"V_Hotline Immediate\",'V_Selective call waiting',  'V_IDD',\n",
    "       'V_Caller name identificationPresentation', 'V_Caller name sending', 'V_Triple VAS Bundle','V_DQ Contact Details',\n",
    "       'V_Call Forwarding Offline','V_Complete call on no response','V_Double VAS Bundle','V_Single VAS Bundle','BB_PeoTVGO',\n",
    "       'V_Call Barring - Outgoing','V_Double VAS Bundle', 'V_Single VAS Bundle',\n",
    "       'V_Triple VAS Bundle', 'V_Voice VAS Bundle']\n",
    "\n",
    "VAS_List = ['P-Basic1_Tele Life', 'V-Plus4_TeleLife', 'P-Plus1_Tele Life',\n",
    "       'V_Telehealth', 'V-Plus1_TeleLife', 'V-Basic1_TeleLife',\n",
    "       'C-Basic1_Tele Life','DIG_ Kaspersky Internet Security',\n",
    "       'V_Sisu Connect', 'eChanneling Subcription','eChanneling No show Refund',\n",
    "       'P_Sisu Connect', 'P-Plus4_Tele Life','eChanneling No show Refund',\n",
    "       'P-Basic2_Tele Life', 'V-Basic4_TeleLife', 'C_Sisu Connect',\n",
    "       'V-Basic2_TeleLife', 'BB_Detailed Reports ', \n",
    "       'BB_ Entertainment Unlimited','BB_SLT Film Hall Service', \n",
    "       'V_E-channeling Registration', 'P-Basic4_Tele Life',\n",
    "       'V_E-channeling Subscription', 'OTT_SLT PeoTV Go',\n",
    "       'Package Rental Through ADSL', \n",
    "        'E_Video on Demand','KASP',\n",
    "       'E_PeoTV_Package Transfer', \n",
    "       'AB_Citylink Loyalty Rewards', 'V_Cordeless Phone - Installment',\n",
    "       'M_Activation Charge', 'AB_Additional Distance',\n",
    "       'V_Hotline-Immediate', \n",
    "       'V_Hotline-Time Delayed', 'AB_Service Vacation',\n",
    "       'V_Railway Registration', 'V_Detailed Bill',\n",
    "        'AB_Rental Free','SLT FILM HALL ',\n",
    "       'PEO TV GO_OTT_A-la carte channels', \n",
    "       'P_Call park', 'P_IDD',\n",
    "       'P_Additional features -Double VAS Bundle',\n",
    "       'V_One-Time Detailed Bill', 'BB_PeoTVGO Revenue code',\n",
    "       'PeoTVGo_Channel Package',\n",
    "       'V_Installment', 'V_Basic Phone Installment',\n",
    "       'AB_Referral offer Discount', 'V_Referral offer Discount',\n",
    "       'E_Referral offer Discount', 'BB_Report Subscription Charge',\n",
    "       'V_Miscellaneous Service',\n",
    "       'P_One-Time Detailed Bill', 'P_Removal of Int & Parallel Ext',\n",
    "       'BB_YouTube Bundle', 'Meet Lite',\n",
    "       'Meet Max', 'Edu Lite', 'BB_Messenger Bundle',\n",
    "        \"E_SLTemail\", \"Domain Name Registration Bundle\",\n",
    "        \"I_Domain Name Registration\",\"IDC- Biz Virtual Mail Server Bundle\",\n",
    "        \"I_DNS Hosting\", \"IDC- Biz Virtual Mail Server\",\n",
    "        \"IDC_Shared Hosting Service Bundle\", \"IDC_Shared Hosting Service\",\n",
    "        \"I_DNS Hosting Promotion\", \"I_DNS Hosting\", \"M_Revenue Commitment Package Bundle\",\n",
    "        \"M_Revenue Commitment Package\", \"V_Revenue Commitment Package\",\n",
    "        \"I_myBILL Service Bundle\", \"I_myBILL Service\",\n",
    "        \"C_Smart Dial Commitment Bundle\", \"C_Smart Dial Commitment\",\n",
    "        \"C_Smart Dial Group Bundle\",\"C_Smart Dial Group\",\n",
    "        \"D_Peo TV Equipment Replacement/ Recovery\",\n",
    "        \"M Fibre Access Bearer Condominium\", \"DIG_SLT CCTV\", \"BB_Enterprise Bulk GB\"]\n",
    "\n",
    "non_VAS = ['AB_WireLess Access','FTTH_Gamer Lite Subscription', 'Megaline_Gamer Lite Subscription',\n",
    "           'AB_Parallel line Installation','AB_Copper Access Bearer','FTTH_Gamer Lite Subscription',\n",
    "           'FTTH_Gamer Premium Subscription','Megaline_Streamer Premium Subscription','FTTH_Streamer Premium Subscription',\n",
    "           'V_Voice Startup Fee','AB_Fiber Access Bearer','E_SLT PeoTV Service', 'P_Megaline',\n",
    "           'E_PeoTV Initiation', 'AB_Megaline','AB_Megaline Startup','P_Megaline New Connection', 'P_Megaline',\n",
    "           'BB_SLT BroadBand Service','AB_Relocation' , 'V_SLT Voice Service']\n",
    "\n",
    "# Date correction\n",
    "def date_correct_common(date):\n",
    "    if not isinstance(date, float):\n",
    "        for month, num in month_map.items():\n",
    "            if month in date:\n",
    "                return f\"{date[0:4]}-{num}\"\n",
    "    \n",
    "# Date correction\n",
    "def date_correct_dss(date):\n",
    "    if not isinstance(date, float):\n",
    "        if len(date)>7:\n",
    "            return date[:7]\n",
    "        else:\n",
    "            return date\n",
    "        \n",
    "# Date correction\n",
    "def mdate_correct_dss(date):\n",
    "    if not isinstance(date, float):\n",
    "        if len(date)>9:\n",
    "            return date[:10]\n",
    "        else:\n",
    "            return date\n",
    "\n",
    "# Date correction\n",
    "def date_correct_dwh(date):\n",
    "    if not isinstance(date, float):\n",
    "        return f\"{date[:4]}-{date[4:]}\"\n",
    "\n",
    "# Time correction\n",
    "def explode_unix_time(date):\n",
    "    if not isinstance(date, float):\n",
    "        return datetime.datetime.fromtimestamp(int(date)).strftime('%Y-%m')\n",
    "\n",
    "# Data Correction : GBs\n",
    "def remove_gb(col):\n",
    "    if not isinstance(col, float):\n",
    "        if \"GB\" in col:\n",
    "            return col.replace(\"GB\",\"\").replace(\" \",\"\")\n",
    "        else:\n",
    "            return col\n",
    "    else:\n",
    "        return col\n",
    "    \n",
    "    \n",
    "    # Date correction\n",
    "def hour_correct_ex_gb(hr):\n",
    "    if not isinstance(hr, float):\n",
    "        return hr[12:14]\n",
    "    \n",
    "    \n",
    "def prod_type(vas,med):\n",
    "    if not isinstance(vas, float):\n",
    "        if \"FTTH\" in vas or \"Fiber\" in vas:\n",
    "            return \"FTTH\"\n",
    "        if \"Megaline\" in vas:\n",
    "            return \"Megaline\"\n",
    "        if \"LTE\" in vas:\n",
    "            return \"LTE\"\n",
    "    if not isinstance(med, float):\n",
    "        if \"C\" in med or \"MC\" in med:\n",
    "            return \"Megaline\"\n",
    "        if \"F\" in med:\n",
    "            return \"FTTH\"\n",
    "        if \"L\" in med:\n",
    "            return \"LTE\"\n",
    "        \n",
    "def vas_bucketizer(vas):\n",
    "    if not isinstance(vas, float):\n",
    "        if \"V_\" in vas or \"V-\" in vas:\n",
    "            category=\"Voice\"\n",
    "        elif \"Peo\" in vas or \"PEO\" in vas or \"E_\" in vas:\n",
    "            category=\"PeoTV\"\n",
    "        elif \"BB\" in vas:\n",
    "            category=\"BB\"\n",
    "        else:\n",
    "            category=\"Other\"\n",
    "        return category\n",
    "    \n",
    "    \n",
    "def is_vas(vas):\n",
    "    if not isinstance(vas, float):\n",
    "        for pack in VAS_List:\n",
    "            if vas in pack:\n",
    "                return \"YES\"\n",
    "        return \"NO\"\n",
    "    \n",
    "def paid_free(vas):\n",
    "    if not isinstance(vas, float):\n",
    "        for pack in free_packages:\n",
    "            if vas in pack:\n",
    "                return \"FREE\"\n",
    "        return \"PAID\"\n",
    "    \n",
    "\n",
    "def is_sub(vas):\n",
    "    if not isinstance(vas, float):\n",
    "        for pack in non_VAS:\n",
    "            if vas in pack:\n",
    "                return \"YES\"\n",
    "        return \"NO\"\n",
    "\n",
    "def is_promotion(vas):\n",
    "    if not isinstance(vas, float):\n",
    "        for pack in promotions:\n",
    "            if vas in pack:\n",
    "                return \"YES\"\n",
    "        return \"NO\"\n",
    "    \n",
    "def remove_prefix(vas):\n",
    "    if not isinstance(vas, float):\n",
    "        return vas.replace(\"V_\",\"\").replace(\"V-\",\"\").replace(\"P_\",\"\").replace(\"E_\",\"\").replace(\"E-\",\"\")\\\n",
    "        .replace(\"P-\",\"\").replace(\"C_\",\"\").replace(\"C-\",\"\").replace(\"_\",\" \").replace(\"-\",\" \").replace(\"  \",\" \")\\\n",
    "        .replace(\"   \",\" \").replace(\"Tele Life\",\"TeleLife\").replace(\"channeling\",\"E channeling\")\n",
    "        \n",
    "def sub_type(sub):\n",
    "    if \"Single Play\" in sub:\n",
    "        return \"SINGLE_PLAY\"\n",
    "    if \"Triple Play\" in sub:\n",
    "        return \"TRIPLE_PLAY\"\n",
    "    if \"Double Play (PV)\" in sub:\n",
    "        return \"DOUBLE_PLAY_PV\"\n",
    "    if \"Double Play (BV)\" in sub or \"LTE Double Play\" in sub:\n",
    "        return \"DOUBLE_PLAY_BV\"\n",
    "    if \"LTE 4G\" in sub:\n",
    "        return \"4G\"\n",
    "    \n",
    "def get_month_date_diff(dm1,dm2):\n",
    "    if not isinstance(dm1, float) and not isinstance(dm2, float):\n",
    "        month1,date1,month2,date2 = int(dm1[5:7]),int(dm1[8:10]),int(dm2[5:7]),int(dm2[8:10])\n",
    "        return (month2-month1)*30 + (date2-date1)\n",
    "\n",
    "def debter_status(fail_pay,pay_due,bill_settled):\n",
    "    try:\n",
    "        due_period = get_month_date_diff(pay_due,bill_settled)\n",
    "        if due_period>7 or fail_pay > 0:\n",
    "            return \"BAD\"\n",
    "        else:\n",
    "            return \"GOOD\"\n",
    "    except:\n",
    "        pass\n",
    "    return \"NO VALID INFO\""
   ]
  },
  {
   "cell_type": "code",
   "execution_count": 57,
   "metadata": {
    "gather": {
     "logged": 1628309653337
    }
   },
   "outputs": [],
   "source": [
    "renatal_vas_df.drop(\"TARIFF_NAME\",axis=1, inplace=True)\n",
    "renatal_vas_df.rename(columns={'PRODUCT_NAME':'VAS','DSP':'Month_Subscribed','RENTAL':'Rental'}, inplace=True)\n",
    "renatal_vas_df[\"Month_Subscribed\"] = renatal_vas_df[\"Month_Subscribed\"].apply(lambda x: date_correct_common(x))"
   ]
  },
  {
   "cell_type": "code",
   "execution_count": 58,
   "metadata": {},
   "outputs": [],
   "source": [
    "costed_events_df.rename(columns={'PRODUCT':'VAS','EVENT_DTM':'Month_Subscribed','REVENUE':'Rental'}, inplace=True)\n",
    "costed_events_df[\"Month_Subscribed\"] = costed_events_df[\"Month_Subscribed\"].apply(lambda x: date_correct_common(x))"
   ]
  },
  {
   "cell_type": "code",
   "execution_count": 59,
   "metadata": {},
   "outputs": [],
   "source": [
    "sltdwh_df.rename(columns={\"ACCOUNT_NO.hash\":\"ACCOUNT_NUM.hash\",'CODE_DESC':'VAS','REPORTING_MONTH_CAL_MONTH_CODE':'Month_Subscribed','REVENUE_AMOUNT':'Rental'}, inplace=True)\n",
    "sltdwh_df[\"Month_Subscribed\"] = sltdwh_df[\"Month_Subscribed\"].apply(lambda x: date_correct_dwh(str(x)))"
   ]
  },
  {
   "cell_type": "code",
   "execution_count": 60,
   "metadata": {},
   "outputs": [],
   "source": [
    "otc_vas_df.rename(columns={'OTC_NAME':'VAS','CREATED_DTM':'Month_Subscribed','OTC_MNY':'Rental'}, inplace=True)\n",
    "otc_vas_df[\"Month_Subscribed\"] = otc_vas_df[\"Month_Subscribed\"].apply(lambda x: date_correct_common(x))"
   ]
  },
  {
   "cell_type": "code",
   "execution_count": 61,
   "metadata": {},
   "outputs": [],
   "source": [
    "acc_vas_df[\"VAS\"] = \"KASP\"\n",
    "acc_vas_df.rename(columns={'MONTH':'Month_Subscribed','KASP_REV':'Rental'}, inplace=True)\n",
    "\n",
    "## TODO : Correct Time Mapping\n",
    "acc_vas_df[\"Month_Subscribed\"] = acc_vas_df[\"Month_Subscribed\"].apply(lambda x: explode_unix_time(x))"
   ]
  },
  {
   "cell_type": "code",
   "execution_count": 62,
   "metadata": {},
   "outputs": [
    {
     "name": "stderr",
     "output_type": "stream",
     "text": [
      "/Users/chiranhewawitharana/mambaforge/envs/mactf/lib/python3.8/site-packages/pandas/core/frame.py:5039: SettingWithCopyWarning: \n",
      "A value is trying to be set on a copy of a slice from a DataFrame\n",
      "\n",
      "See the caveats in the documentation: https://pandas.pydata.org/pandas-docs/stable/user_guide/indexing.html#returning-a-view-versus-a-copy\n",
      "  return super().rename(\n",
      "/Users/chiranhewawitharana/mambaforge/envs/mactf/lib/python3.8/site-packages/pandas/core/frame.py:4906: SettingWithCopyWarning: \n",
      "A value is trying to be set on a copy of a slice from a DataFrame\n",
      "\n",
      "See the caveats in the documentation: https://pandas.pydata.org/pandas-docs/stable/user_guide/indexing.html#returning-a-view-versus-a-copy\n",
      "  return super().drop(\n",
      "/var/folders/00/gmvdw06n48lgtsz126ng5y2m0000gn/T/ipykernel_729/3938978583.py:6: SettingWithCopyWarning: \n",
      "A value is trying to be set on a copy of a slice from a DataFrame.\n",
      "Try using .loc[row_indexer,col_indexer] = value instead\n",
      "\n",
      "See the caveats in the documentation: https://pandas.pydata.org/pandas-docs/stable/user_guide/indexing.html#returning-a-view-versus-a-copy\n",
      "  dss_vas_df[\"Month_Subscribed\"] = dss_vas_df[\"Month_Subscribed\"] .apply(lambda x: date_correct_dss(str(x)))\n"
     ]
    }
   ],
   "source": [
    "dss_vas_df =  product_cat_df[[\"ACCOUNT_NUM.hash\",\"PRODUCT_NAME\",\"START_DAT\",\"RECURRING_CHARGE\"]]\n",
    "dss_vas_df.sort_values(['ACCOUNT_NUM.hash', 'START_DAT'], ascending=[True, True], inplace=True)\n",
    "dss_vas_df.rename(columns={'PRODUCT_NAME':'VAS','START_DAT':'Month_Subscribed',\"RECURRING_CHARGE\":\"Rental\"}, inplace=True)\n",
    "dss_vas_df.reset_index(inplace=True)\n",
    "dss_vas_df.drop(\"index\",axis=1,inplace=True)\n",
    "dss_vas_df[\"Month_Subscribed\"] = dss_vas_df[\"Month_Subscribed\"] .apply(lambda x: date_correct_dss(str(x)))"
   ]
  },
  {
   "cell_type": "code",
   "execution_count": 63,
   "metadata": {},
   "outputs": [],
   "source": [
    "extra_GB_dss_df = dss_vas_df[(dss_vas_df[\"VAS\"]==\"BB_Extra GB\")]\n",
    "dss_vas_df = dss_vas_df[(dss_vas_df[\"VAS\"]!=\"BB_Extra GB\")]"
   ]
  },
  {
   "cell_type": "code",
   "execution_count": 64,
   "metadata": {},
   "outputs": [],
   "source": [
    "renatal_vas_df = renatal_vas_df[[\"ACCOUNT_NUM.hash\",\"VAS\",\"Rental\",\"Month_Subscribed\"]]\n",
    "costed_events_df = costed_events_df[[\"ACCOUNT_NUM.hash\",\"VAS\",\"Rental\",\"Month_Subscribed\"]]\n",
    "sltdwh_df = sltdwh_df[[\"ACCOUNT_NUM.hash\",\"VAS\",\"Rental\",\"Month_Subscribed\"]]\n",
    "dss_vas_df = dss_vas_df[[\"ACCOUNT_NUM.hash\",\"VAS\",\"Rental\",\"Month_Subscribed\"]]\n",
    "otc_vas_df = otc_vas_df[[\"ACCOUNT_NUM.hash\",\"VAS\",\"Rental\",\"Month_Subscribed\"]]\n",
    "acc_vas_df = acc_vas_df[[\"ACCOUNT_NUM.hash\",\"VAS\",\"Rental\",\"Month_Subscribed\"]]"
   ]
  },
  {
   "cell_type": "code",
   "execution_count": 71,
   "metadata": {},
   "outputs": [
    {
     "data": {
      "text/plain": [
       "4022"
      ]
     },
     "execution_count": 71,
     "metadata": {},
     "output_type": "execute_result"
    }
   ],
   "source": [
    "len(costed_events_df[\"ACCOUNT_NUM.hash\"].unique())"
   ]
  },
  {
   "cell_type": "code",
   "execution_count": 72,
   "metadata": {
    "gather": {
     "logged": 1628309770692
    }
   },
   "outputs": [
    {
     "data": {
      "text/plain": [
       "BB_Report Subscription Charge    10206\n",
       "BB Personal Storage               3020\n",
       "eChanneling No show Refund         695\n",
       "eChanneling Subcription            695\n",
       "eChanneling Service Charge         695\n",
       "PEO TV Go Basic Package            413\n",
       "PEO TV Go VAS                       46\n",
       "PEO TV Go SVOD                       3\n",
       "Name: VAS, dtype: int64"
      ]
     },
     "execution_count": 72,
     "metadata": {},
     "output_type": "execute_result"
    }
   ],
   "source": [
    "costed_events_df[\"VAS\"].value_counts()"
   ]
  },
  {
   "cell_type": "code",
   "execution_count": 73,
   "metadata": {},
   "outputs": [
    {
     "data": {
      "text/plain": [
       "6347"
      ]
     },
     "execution_count": 73,
     "metadata": {},
     "output_type": "execute_result"
    }
   ],
   "source": [
    "len(renatal_vas_df[\"ACCOUNT_NUM.hash\"].unique())"
   ]
  },
  {
   "cell_type": "code",
   "execution_count": 74,
   "metadata": {},
   "outputs": [
    {
     "data": {
      "text/plain": [
       "BB_YouTube Bundle                         6550\n",
       "BB_Messenger Bundle                       2496\n",
       "V_Telehealth                              1173\n",
       "BB_ Entertainment Unlimited                592\n",
       "FTTH_Gamer Lite Subscription               405\n",
       "V-Basic1_TeleLife                          328\n",
       "V-Plus1_TeleLife                           180\n",
       "LTE_Gamer Lite Subscription                158\n",
       "Megaline_Gamer Lite Subscription           123\n",
       "V_Sisu Connect                               9\n",
       "FTTH_Streamer Premium Subscription           4\n",
       "LTE_Gamer Premium Subscription               4\n",
       "FTTH_Gamer Premium Subscription              4\n",
       "V-Plus2_TeleLife                             3\n",
       "LTE_Streamer Premium Subscription            2\n",
       "V-Plus3_TeleLife                             2\n",
       "Megaline_Streamer Premium Subscription       1\n",
       "V-Basic4_TeleLife                            1\n",
       "V-Plus4_TeleLife                             1\n",
       "V-Basic2_TeleLife                            1\n",
       "V-Basic3_TeleLife                            1\n",
       "Name: VAS, dtype: int64"
      ]
     },
     "execution_count": 74,
     "metadata": {},
     "output_type": "execute_result"
    }
   ],
   "source": [
    "renatal_vas_df[\"VAS\"].value_counts()"
   ]
  },
  {
   "cell_type": "code",
   "execution_count": 75,
   "metadata": {},
   "outputs": [
    {
     "data": {
      "text/plain": [
       "1853"
      ]
     },
     "execution_count": 75,
     "metadata": {},
     "output_type": "execute_result"
    }
   ],
   "source": [
    "len(sltdwh_df[\"ACCOUNT_NUM.hash\"].unique())"
   ]
  },
  {
   "cell_type": "code",
   "execution_count": 76,
   "metadata": {},
   "outputs": [
    {
     "data": {
      "text/plain": [
       "Package Rental Through ADSL    11204\n",
       "SLT FILM HALL                     10\n",
       "Name: VAS, dtype: int64"
      ]
     },
     "execution_count": 76,
     "metadata": {},
     "output_type": "execute_result"
    }
   ],
   "source": [
    "sltdwh_df[\"VAS\"].value_counts()"
   ]
  },
  {
   "cell_type": "code",
   "execution_count": 77,
   "metadata": {},
   "outputs": [
    {
     "data": {
      "text/plain": [
       "83000"
      ]
     },
     "execution_count": 77,
     "metadata": {},
     "output_type": "execute_result"
    }
   ],
   "source": [
    "len(dss_vas_df[\"ACCOUNT_NUM.hash\"].unique())"
   ]
  },
  {
   "cell_type": "code",
   "execution_count": 78,
   "metadata": {},
   "outputs": [
    {
     "data": {
      "text/plain": [
       "V_SLT Voice Service                 115493\n",
       "AB_Copper Access Bearer              97573\n",
       "E_SLT PeoTV Service                  48579\n",
       "BB_SLT BroadBand Service             46689\n",
       "BB_PeoTVGO                           39902\n",
       "BB_Personal Storage                  38178\n",
       "AB_WireLess Access                   11837\n",
       "AB_Fiber Access Bearer                8762\n",
       "V-Basic1_TeleLife                     4239\n",
       "V-Plus1_TeleLife                      3296\n",
       "V_E-channeling Registration           2934\n",
       "V_Telehealth                          2557\n",
       "BB_Detailed Reports                   1414\n",
       "V_E-channeling Subscription            911\n",
       "V_Sisu Connect                         883\n",
       "BB_SLT Film Hall Service               191\n",
       "OTT_SLT PeoTV Go                       155\n",
       "BB_ Entertainment Unlimited             64\n",
       "V-Plus4_TeleLife                        47\n",
       "DIG_ Kaspersky Internet Security        36\n",
       "V-Basic2_TeleLife                       34\n",
       "V-Plus2_TeleLife                        33\n",
       "V-Basic4_TeleLife                       21\n",
       "V-Plus3_TeleLife                        18\n",
       "BB_Guru.lk Service                       9\n",
       "AB_Peo TV Go OTT Box                     5\n",
       "V-Basic3_TeleLife                        3\n",
       "BB_SLT Film Hall Portal VOD              1\n",
       "Name: VAS, dtype: int64"
      ]
     },
     "execution_count": 78,
     "metadata": {},
     "output_type": "execute_result"
    }
   ],
   "source": [
    "dss_vas_df[\"VAS\"].value_counts()"
   ]
  },
  {
   "cell_type": "code",
   "execution_count": 79,
   "metadata": {},
   "outputs": [
    {
     "data": {
      "text/plain": [
       "22328"
      ]
     },
     "execution_count": 79,
     "metadata": {},
     "output_type": "execute_result"
    }
   ],
   "source": [
    "len(otc_vas_df[\"ACCOUNT_NUM.hash\"].unique())"
   ]
  },
  {
   "cell_type": "code",
   "execution_count": 80,
   "metadata": {},
   "outputs": [
    {
     "data": {
      "text/plain": [
       "Meet Lite    75634\n",
       "Meet Max      6856\n",
       "Edu Lite       686\n",
       "Edu Max        118\n",
       "Name: VAS, dtype: int64"
      ]
     },
     "execution_count": 80,
     "metadata": {},
     "output_type": "execute_result"
    }
   ],
   "source": [
    "otc_vas_df[\"VAS\"].value_counts()"
   ]
  },
  {
   "cell_type": "code",
   "execution_count": 81,
   "metadata": {},
   "outputs": [
    {
     "data": {
      "text/plain": [
       "100"
      ]
     },
     "execution_count": 81,
     "metadata": {},
     "output_type": "execute_result"
    }
   ],
   "source": [
    "len(acc_vas_df[\"ACCOUNT_NUM.hash\"].unique())"
   ]
  },
  {
   "cell_type": "code",
   "execution_count": 185,
   "metadata": {
    "gather": {
     "logged": 1628313697134
    },
    "jupyter": {
     "outputs_hidden": false,
     "source_hidden": false
    },
    "nteract": {
     "transient": {
      "deleting": false
     }
    }
   },
   "outputs": [
    {
     "name": "stdout",
     "output_type": "stream",
     "text": [
      "<class 'pandas.core.frame.DataFrame'>\n",
      "RangeIndex: 3028 entries, 0 to 3027\n",
      "Data columns (total 3 columns):\n",
      " #   Column        Non-Null Count  Dtype \n",
      "---  ------        --------------  ----- \n",
      " 0   event_source  3028 non-null   int64 \n",
      " 1   CUSTOMER_REF  3028 non-null   object\n",
      " 2   ACCOUNT_NUM   3028 non-null   object\n",
      "dtypes: int64(1), object(2)\n",
      "memory usage: 71.1+ KB\n"
     ]
    },
    {
     "name": "stderr",
     "output_type": "stream",
     "text": [
      "/Users/chiranhewawitharana/mambaforge/envs/mactf/lib/python3.8/site-packages/pandas/core/frame.py:5039: SettingWithCopyWarning: \n",
      "A value is trying to be set on a copy of a slice from a DataFrame\n",
      "\n",
      "See the caveats in the documentation: https://pandas.pydata.org/pandas-docs/stable/user_guide/indexing.html#returning-a-view-versus-a-copy\n",
      "  return super().rename(\n"
     ]
    }
   ],
   "source": [
    "# Actual information for verification\n",
    "actual_info_df = state_changes_df[['PRODUCT_LABEL','CUSTOMER_REF','ACCOUNT_NUM']]\n",
    "actual_info_df.rename(columns={\"PRODUCT_LABEL\":\"event_source\"},inplace=True)\n",
    "actual_info_df.info()"
   ]
  },
  {
   "cell_type": "code",
   "execution_count": 186,
   "metadata": {
    "gather": {
     "logged": 1628313023935
    },
    "jupyter": {
     "outputs_hidden": false,
     "source_hidden": false
    },
    "nteract": {
     "transient": {
      "deleting": false
     }
    }
   },
   "outputs": [],
   "source": [
    "actual_info_df.to_csv(\"data/user_profile/Actual_Customer_Info.csv\")"
   ]
  },
  {
   "cell_type": "code",
   "execution_count": 187,
   "metadata": {
    "gather": {
     "logged": 1628313708816
    }
   },
   "outputs": [],
   "source": [
    "state_changes_df = state_changes_df.drop(['PRODUCT_LABEL','CUSTOMER_REF','ACCOUNT_NUM' ,'PRODUCT_STATUS','PRODUCT_ID','START_DAT','END_DAT','PRODUCT_SEQ'], axis=1)\n",
    "state_changes_df.rename(columns={'PRODUCT_LABEL.hash': 'event_source.hash','PRODUCT_NAME':'VAS','EFFECTIVE_DTM':'Month_Subscribed'}, inplace=True)"
   ]
  },
  {
   "cell_type": "code",
   "execution_count": 188,
   "metadata": {
    "gather": {
     "logged": 1628313739500
    }
   },
   "outputs": [],
   "source": [
    "state_changes_df[\"Month_Subscribed\"]=state_changes_df[\"Month_Subscribed\"].apply(lambda x: date_correct_common(x))"
   ]
  },
  {
   "cell_type": "code",
   "execution_count": 194,
   "metadata": {
    "gather": {
     "logged": 1628313757232
    }
   },
   "outputs": [
    {
     "data": {
      "text/html": [
       "<div>\n",
       "<style scoped>\n",
       "    .dataframe tbody tr th:only-of-type {\n",
       "        vertical-align: middle;\n",
       "    }\n",
       "\n",
       "    .dataframe tbody tr th {\n",
       "        vertical-align: top;\n",
       "    }\n",
       "\n",
       "    .dataframe thead th {\n",
       "        text-align: right;\n",
       "    }\n",
       "</style>\n",
       "<table border=\"1\" class=\"dataframe\">\n",
       "  <thead>\n",
       "    <tr style=\"text-align: right;\">\n",
       "      <th></th>\n",
       "      <th>ACCOUNT_NUM.hash</th>\n",
       "      <th>VAS</th>\n",
       "      <th>Rental</th>\n",
       "      <th>Month_Subscribed</th>\n",
       "    </tr>\n",
       "  </thead>\n",
       "  <tbody>\n",
       "    <tr>\n",
       "      <th>0</th>\n",
       "      <td>a4e4afaedb57f205bfeff624c39fe49d</td>\n",
       "      <td>V_Single VAS Bundle</td>\n",
       "      <td>0</td>\n",
       "      <td>2019-06</td>\n",
       "    </tr>\n",
       "    <tr>\n",
       "      <th>1</th>\n",
       "      <td>9c802b6b329dc1e3ba6e6c655a21e65d</td>\n",
       "      <td>E_Referral offer Discount</td>\n",
       "      <td>0</td>\n",
       "      <td>2020-01</td>\n",
       "    </tr>\n",
       "    <tr>\n",
       "      <th>2</th>\n",
       "      <td>1cf3f313f1060c69dfe814a0e8124f18</td>\n",
       "      <td>V_Absentee service</td>\n",
       "      <td>0</td>\n",
       "      <td>2019-10</td>\n",
       "    </tr>\n",
       "    <tr>\n",
       "      <th>3</th>\n",
       "      <td>ce8d936fed762bfa12912fb18915b802</td>\n",
       "      <td>V_Hotline Service</td>\n",
       "      <td>0</td>\n",
       "      <td>2019-06</td>\n",
       "    </tr>\n",
       "    <tr>\n",
       "      <th>4</th>\n",
       "      <td>a4e4afaedb57f205bfeff624c39fe49d</td>\n",
       "      <td>V_Caller Line Identification</td>\n",
       "      <td>0</td>\n",
       "      <td>2019-06</td>\n",
       "    </tr>\n",
       "    <tr>\n",
       "      <th>...</th>\n",
       "      <td>...</td>\n",
       "      <td>...</td>\n",
       "      <td>...</td>\n",
       "      <td>...</td>\n",
       "    </tr>\n",
       "    <tr>\n",
       "      <th>3023</th>\n",
       "      <td>3030f90b7118e741f52dd8421a83145a</td>\n",
       "      <td>V_DQ Contact Details</td>\n",
       "      <td>0</td>\n",
       "      <td>2019-04</td>\n",
       "    </tr>\n",
       "    <tr>\n",
       "      <th>3024</th>\n",
       "      <td>3030f90b7118e741f52dd8421a83145a</td>\n",
       "      <td>AB_Megaline</td>\n",
       "      <td>0</td>\n",
       "      <td>2019-04</td>\n",
       "    </tr>\n",
       "    <tr>\n",
       "      <th>3025</th>\n",
       "      <td>3030f90b7118e741f52dd8421a83145a</td>\n",
       "      <td>AB_Megaline Startup</td>\n",
       "      <td>0</td>\n",
       "      <td>2019-04</td>\n",
       "    </tr>\n",
       "    <tr>\n",
       "      <th>3026</th>\n",
       "      <td>3030f90b7118e741f52dd8421a83145a</td>\n",
       "      <td>V_IDD</td>\n",
       "      <td>0</td>\n",
       "      <td>2019-04</td>\n",
       "    </tr>\n",
       "    <tr>\n",
       "      <th>3027</th>\n",
       "      <td>fbfdb60177fd5265eb5f0dc6a5f786a6</td>\n",
       "      <td>V_Call Forwarding</td>\n",
       "      <td>0</td>\n",
       "      <td>2020-08</td>\n",
       "    </tr>\n",
       "  </tbody>\n",
       "</table>\n",
       "<p>3028 rows × 4 columns</p>\n",
       "</div>"
      ],
      "text/plain": [
       "                      ACCOUNT_NUM.hash                           VAS  Rental  \\\n",
       "0     a4e4afaedb57f205bfeff624c39fe49d           V_Single VAS Bundle       0   \n",
       "1     9c802b6b329dc1e3ba6e6c655a21e65d     E_Referral offer Discount       0   \n",
       "2     1cf3f313f1060c69dfe814a0e8124f18            V_Absentee service       0   \n",
       "3     ce8d936fed762bfa12912fb18915b802             V_Hotline Service       0   \n",
       "4     a4e4afaedb57f205bfeff624c39fe49d  V_Caller Line Identification       0   \n",
       "...                                ...                           ...     ...   \n",
       "3023  3030f90b7118e741f52dd8421a83145a          V_DQ Contact Details       0   \n",
       "3024  3030f90b7118e741f52dd8421a83145a                   AB_Megaline       0   \n",
       "3025  3030f90b7118e741f52dd8421a83145a           AB_Megaline Startup       0   \n",
       "3026  3030f90b7118e741f52dd8421a83145a                         V_IDD       0   \n",
       "3027  fbfdb60177fd5265eb5f0dc6a5f786a6             V_Call Forwarding       0   \n",
       "\n",
       "     Month_Subscribed  \n",
       "0             2019-06  \n",
       "1             2020-01  \n",
       "2             2019-10  \n",
       "3             2019-06  \n",
       "4             2019-06  \n",
       "...               ...  \n",
       "3023          2019-04  \n",
       "3024          2019-04  \n",
       "3025          2019-04  \n",
       "3026          2019-04  \n",
       "3027          2020-08  \n",
       "\n",
       "[3028 rows x 4 columns]"
      ]
     },
     "execution_count": 194,
     "metadata": {},
     "output_type": "execute_result"
    }
   ],
   "source": [
    "state_changes_df[\"Rental\"] = 0\n",
    "state_changes_df = state_changes_df[[\"ACCOUNT_NUM.hash\",\"VAS\",\"Rental\",\"Month_Subscribed\"]]"
   ]
  },
  {
   "cell_type": "code",
   "execution_count": 195,
   "metadata": {
    "scrolled": true
   },
   "outputs": [
    {
     "name": "stdout",
     "output_type": "stream",
     "text": [
      "<class 'pandas.core.frame.DataFrame'>\n",
      "RangeIndex: 3028 entries, 0 to 3027\n",
      "Data columns (total 4 columns):\n",
      " #   Column            Non-Null Count  Dtype \n",
      "---  ------            --------------  ----- \n",
      " 0   ACCOUNT_NUM.hash  3028 non-null   object\n",
      " 1   VAS               3028 non-null   object\n",
      " 2   Rental            3028 non-null   int64 \n",
      " 3   Month_Subscribed  2841 non-null   object\n",
      "dtypes: int64(1), object(3)\n",
      "memory usage: 94.8+ KB\n"
     ]
    }
   ],
   "source": [
    "state_changes_df.info()"
   ]
  },
  {
   "cell_type": "code",
   "execution_count": 192,
   "metadata": {},
   "outputs": [],
   "source": [
    "uniq_cust = acc_no_map[\"ACCOUNT_NUM.hash\"].unique()"
   ]
  },
  {
   "cell_type": "code",
   "execution_count": 193,
   "metadata": {},
   "outputs": [
    {
     "data": {
      "text/plain": [
       "83000"
      ]
     },
     "execution_count": 193,
     "metadata": {},
     "output_type": "execute_result"
    }
   ],
   "source": [
    "len(uniq_cust)"
   ]
  },
  {
   "cell_type": "markdown",
   "metadata": {},
   "source": []
  },
  {
   "cell_type": "markdown",
   "metadata": {},
   "source": [
    "## VAS Dataframes Merging"
   ]
  },
  {
   "cell_type": "code",
   "execution_count": 259,
   "metadata": {
    "gather": {
     "logged": 1628315420593
    }
   },
   "outputs": [],
   "source": [
    "# Concat dataframes and merge by event_source.hash\n",
    "vas_final_df = pd.concat([renatal_vas_df, costed_events_df, sltdwh_df, dss_vas_df,otc_vas_df,acc_vas_df,state_changes_df], ignore_index=True)"
   ]
  },
  {
   "cell_type": "code",
   "execution_count": 260,
   "metadata": {
    "gather": {
     "logged": 1628315516484
    },
    "jupyter": {
     "outputs_hidden": false,
     "source_hidden": false
    },
    "nteract": {
     "transient": {
      "deleting": false
     }
    }
   },
   "outputs": [],
   "source": [
    "vas_final_df.drop_duplicates([\"ACCOUNT_NUM.hash\",\"VAS\",\"Rental\",\"Month_Subscribed\"],inplace=True)"
   ]
  },
  {
   "cell_type": "code",
   "execution_count": 261,
   "metadata": {
    "gather": {
     "logged": 1628315225672
    }
   },
   "outputs": [],
   "source": [
    "vas_final_df.sort_values('Month_Subscribed',inplace=True)"
   ]
  },
  {
   "cell_type": "code",
   "execution_count": 262,
   "metadata": {
    "gather": {
     "logged": 1628315232167
    }
   },
   "outputs": [],
   "source": [
    "vas_final_df.reset_index(inplace=True)\n",
    "vas_final_df.drop([\"index\"],axis=1,inplace=True)"
   ]
  },
  {
   "cell_type": "code",
   "execution_count": 263,
   "metadata": {
    "gather": {
     "logged": 1628315256606
    }
   },
   "outputs": [],
   "source": [
    "vas_final_df = vas_final_df[vas_final_df['ACCOUNT_NUM.hash'].notna()]"
   ]
  },
  {
   "cell_type": "code",
   "execution_count": 268,
   "metadata": {},
   "outputs": [],
   "source": [
    "vas_final_df = vas_final_df.merge(pcat_df[[\"PRODUCT_NAME\",\"MEDIUM\",'TARIFF_NAME','TARIFF_DESC']], how=\"left\", left_on=\"VAS\",right_on=\"PRODUCT_NAME\")"
   ]
  },
  {
   "cell_type": "code",
   "execution_count": 269,
   "metadata": {
    "gather": {
     "logged": 1628315434618
    }
   },
   "outputs": [
    {
     "name": "stdout",
     "output_type": "stream",
     "text": [
      "<class 'pandas.core.frame.DataFrame'>\n",
      "Int64Index: 437080 entries, 0 to 437079\n",
      "Data columns (total 8 columns):\n",
      " #   Column            Non-Null Count   Dtype \n",
      "---  ------            --------------   ----- \n",
      " 0   ACCOUNT_NUM.hash  437080 non-null  object\n",
      " 1   VAS               437080 non-null  object\n",
      " 2   Rental            200829 non-null  object\n",
      " 3   Month_Subscribed  436897 non-null  object\n",
      " 4   PRODUCT_NAME      324059 non-null  object\n",
      " 5   MEDIUM            303727 non-null  object\n",
      " 6   TARIFF_NAME       324059 non-null  object\n",
      " 7   TARIFF_DESC       324059 non-null  object\n",
      "dtypes: object(8)\n",
      "memory usage: 30.0+ MB\n"
     ]
    }
   ],
   "source": [
    "vas_final_df.info()"
   ]
  },
  {
   "cell_type": "code",
   "execution_count": 270,
   "metadata": {
    "gather": {
     "logged": 1628315274570
    }
   },
   "outputs": [
    {
     "data": {
      "text/plain": [
       "94764"
      ]
     },
     "execution_count": 270,
     "metadata": {},
     "output_type": "execute_result"
    }
   ],
   "source": [
    "len(vas_final_df[\"ACCOUNT_NUM.hash\"].unique())"
   ]
  },
  {
   "cell_type": "code",
   "execution_count": 271,
   "metadata": {},
   "outputs": [
    {
     "data": {
      "text/plain": [
       "141"
      ]
     },
     "execution_count": 271,
     "metadata": {},
     "output_type": "execute_result"
    }
   ],
   "source": [
    "len(vas_final_df[\"VAS\"].unique())"
   ]
  },
  {
   "cell_type": "markdown",
   "metadata": {},
   "source": [
    "## Notes\n",
    "- Plus1, Basic1, Plus4 etc. are different packages of TeleLife\n",
    "- V - Voice, P/E - Peo TV, B - BroadBand (Category based on Users Subscription)"
   ]
  },
  {
   "cell_type": "code",
   "execution_count": null,
   "metadata": {},
   "outputs": [],
   "source": []
  },
  {
   "cell_type": "code",
   "execution_count": 272,
   "metadata": {},
   "outputs": [],
   "source": [
    "vas_final_df[\"Package_Type\"]=vas_final_df[\"VAS\"].apply(lambda x: vas_bucketizer(x))"
   ]
  },
  {
   "cell_type": "code",
   "execution_count": 273,
   "metadata": {
    "jupyter": {
     "outputs_hidden": false,
     "source_hidden": false
    },
    "nteract": {
     "transient": {
      "deleting": false
     }
    }
   },
   "outputs": [],
   "source": [
    "vas_final_df[\"Product_Type\"] = vas_final_df.apply(lambda x: prod_type(x[\"VAS\"],x[\"MEDIUM\"]),axis=1)"
   ]
  },
  {
   "cell_type": "code",
   "execution_count": 274,
   "metadata": {
    "jupyter": {
     "outputs_hidden": false,
     "source_hidden": false
    },
    "nteract": {
     "transient": {
      "deleting": false
     }
    }
   },
   "outputs": [],
   "source": [
    "vas_final_df[\"is_VAS\"] = vas_final_df[\"VAS\"].apply(lambda x: is_vas(x))"
   ]
  },
  {
   "cell_type": "code",
   "execution_count": 275,
   "metadata": {
    "jupyter": {
     "outputs_hidden": false,
     "source_hidden": false
    },
    "nteract": {
     "transient": {
      "deleting": false
     }
    }
   },
   "outputs": [],
   "source": [
    "vas_final_df[\"is_Subscription\"] = vas_final_df[\"VAS\"].apply(lambda x: is_sub(x))"
   ]
  },
  {
   "cell_type": "code",
   "execution_count": 278,
   "metadata": {},
   "outputs": [],
   "source": [
    "vas_final_df[\"is_Promotion\"] = vas_final_df[\"VAS\"].apply(lambda x: is_promotion(x))"
   ]
  },
  {
   "cell_type": "code",
   "execution_count": 279,
   "metadata": {},
   "outputs": [],
   "source": [
    "vas_final_df[\"FREE_or_PAID\"] = vas_final_df[\"VAS\"].apply(lambda x: paid_free(x))"
   ]
  },
  {
   "cell_type": "code",
   "execution_count": 280,
   "metadata": {},
   "outputs": [],
   "source": [
    "vas_final_df[\"Package_Formatted\"] = vas_final_df[\"VAS\"].apply(lambda x: remove_prefix(x))"
   ]
  },
  {
   "cell_type": "code",
   "execution_count": 281,
   "metadata": {
    "jupyter": {
     "outputs_hidden": false,
     "source_hidden": false
    },
    "nteract": {
     "transient": {
      "deleting": false
     }
    }
   },
   "outputs": [],
   "source": [
    "vas_final_df.rename(columns={\"VAS\":\"Package\"},inplace=True)"
   ]
  },
  {
   "cell_type": "code",
   "execution_count": 282,
   "metadata": {},
   "outputs": [
    {
     "name": "stdout",
     "output_type": "stream",
     "text": [
      "<class 'pandas.core.frame.DataFrame'>\n",
      "Int64Index: 437080 entries, 0 to 437079\n",
      "Data columns (total 15 columns):\n",
      " #   Column             Non-Null Count   Dtype \n",
      "---  ------             --------------   ----- \n",
      " 0   ACCOUNT_NUM.hash   437080 non-null  object\n",
      " 1   Package            437080 non-null  object\n",
      " 2   Rental             200829 non-null  object\n",
      " 3   Month_Subscribed   436897 non-null  object\n",
      " 4   PRODUCT_NAME       324059 non-null  object\n",
      " 5   MEDIUM             303727 non-null  object\n",
      " 6   TARIFF_NAME        324059 non-null  object\n",
      " 7   TARIFF_DESC        324059 non-null  object\n",
      " 8   Package_Type       437080 non-null  object\n",
      " 9   Product_Type       312898 non-null  object\n",
      " 10  is_VAS             437080 non-null  object\n",
      " 11  is_Subscription    437080 non-null  object\n",
      " 12  is_Promotion       437080 non-null  object\n",
      " 13  FREE_or_PAID       437080 non-null  object\n",
      " 14  Package_Formatted  437080 non-null  object\n",
      "dtypes: object(15)\n",
      "memory usage: 53.4+ MB\n"
     ]
    }
   ],
   "source": [
    "vas_final_df.info()"
   ]
  },
  {
   "cell_type": "code",
   "execution_count": 283,
   "metadata": {},
   "outputs": [
    {
     "data": {
      "text/plain": [
       "Other    174319\n",
       "BB       102993\n",
       "Voice     96267\n",
       "PeoTV     63501\n",
       "Name: Package_Type, dtype: int64"
      ]
     },
     "execution_count": 283,
     "metadata": {},
     "output_type": "execute_result"
    }
   ],
   "source": [
    "vas_final_df[\"Package_Type\"].value_counts()"
   ]
  },
  {
   "cell_type": "code",
   "execution_count": 284,
   "metadata": {},
   "outputs": [
    {
     "data": {
      "text/plain": [
       "Megaline    221031\n",
       "LTE          80788\n",
       "FTTH         11079\n",
       "Name: Product_Type, dtype: int64"
      ]
     },
     "execution_count": 284,
     "metadata": {},
     "output_type": "execute_result"
    }
   ],
   "source": [
    "vas_final_df[\"Product_Type\"].value_counts()"
   ]
  },
  {
   "cell_type": "code",
   "execution_count": 285,
   "metadata": {},
   "outputs": [
    {
     "data": {
      "text/plain": [
       "COPPER    220815\n",
       "LTE        80657\n",
       "FTTH        2255\n",
       "Name: MEDIUM, dtype: int64"
      ]
     },
     "execution_count": 285,
     "metadata": {},
     "output_type": "execute_result"
    }
   ],
   "source": [
    "vas_final_df[\"MEDIUM\"].value_counts()"
   ]
  },
  {
   "cell_type": "code",
   "execution_count": 286,
   "metadata": {
    "scrolled": true
   },
   "outputs": [],
   "source": [
    "user_count_df = vas_final_df[[\"Package\",\"Package_Type\"]].value_counts()"
   ]
  },
  {
   "cell_type": "code",
   "execution_count": 287,
   "metadata": {},
   "outputs": [],
   "source": [
    "user_count_df.to_csv(\"data/product_catalog/user_counts_on_Package.csv\")"
   ]
  },
  {
   "cell_type": "code",
   "execution_count": 288,
   "metadata": {},
   "outputs": [],
   "source": [
    "vas_final_df.to_csv(\"data/user_profile/Package_Final_list.csv\")"
   ]
  },
  {
   "cell_type": "code",
   "execution_count": null,
   "metadata": {},
   "outputs": [],
   "source": []
  },
  {
   "cell_type": "markdown",
   "metadata": {},
   "source": [
    "### Exporting Extra GB usage"
   ]
  },
  {
   "cell_type": "code",
   "execution_count": 289,
   "metadata": {},
   "outputs": [],
   "source": [
    "extra_GB_details_df = pd.read_excel(\"data/2.2 Extra GB detailed Data.xlsx\")"
   ]
  },
  {
   "cell_type": "code",
   "execution_count": 290,
   "metadata": {},
   "outputs": [],
   "source": [
    "extra_GB_details_df.rename(columns={\"EVENT_DTM\":\"Month_Subscribed\",\"TARIFF_NAME\":\"BB_Package\",\"REVENUE\":\"Rental\"},inplace=True)"
   ]
  },
  {
   "cell_type": "code",
   "execution_count": 291,
   "metadata": {},
   "outputs": [],
   "source": [
    "extra_GB_details_df[\"Hour_Subscribed\"] = extra_GB_details_df[\"Month_Subscribed\"].apply(lambda x: hour_correct_ex_gb(x))"
   ]
  },
  {
   "cell_type": "code",
   "execution_count": 292,
   "metadata": {},
   "outputs": [],
   "source": [
    "extra_GB_details_df[\"Month_Subscribed\"] = extra_GB_details_df[\"Month_Subscribed\"] .apply(lambda x: date_correct_common(str(x)))"
   ]
  },
  {
   "cell_type": "code",
   "execution_count": 293,
   "metadata": {},
   "outputs": [],
   "source": [
    "extra_GB_details_df[\"GB_AMOUNT\"] = extra_GB_details_df[\"GB_AMOUNT\"] .apply(lambda x: remove_gb(str(x)))"
   ]
  },
  {
   "cell_type": "code",
   "execution_count": 294,
   "metadata": {},
   "outputs": [
    {
     "data": {
      "text/html": [
       "<div>\n",
       "<style scoped>\n",
       "    .dataframe tbody tr th:only-of-type {\n",
       "        vertical-align: middle;\n",
       "    }\n",
       "\n",
       "    .dataframe tbody tr th {\n",
       "        vertical-align: top;\n",
       "    }\n",
       "\n",
       "    .dataframe thead th {\n",
       "        text-align: right;\n",
       "    }\n",
       "</style>\n",
       "<table border=\"1\" class=\"dataframe\">\n",
       "  <thead>\n",
       "    <tr style=\"text-align: right;\">\n",
       "      <th></th>\n",
       "      <th>ACCOUNT_NUM.hash</th>\n",
       "      <th>Month_Subscribed</th>\n",
       "      <th>Rental</th>\n",
       "      <th>BB_Package</th>\n",
       "      <th>GB_AMOUNT</th>\n",
       "      <th>Hour_Subscribed</th>\n",
       "    </tr>\n",
       "  </thead>\n",
       "  <tbody>\n",
       "    <tr>\n",
       "      <th>0</th>\n",
       "      <td>060762f66bad1ea42b90cbd8317a0517</td>\n",
       "      <td>2021-05</td>\n",
       "      <td>100</td>\n",
       "      <td>FTTH_WEB FAMILY PLUS</td>\n",
       "      <td>1</td>\n",
       "      <td>11</td>\n",
       "    </tr>\n",
       "    <tr>\n",
       "      <th>1</th>\n",
       "      <td>ec436d8c0d0c61d4fd22bc0bee8d457c</td>\n",
       "      <td>2021-07</td>\n",
       "      <td>100</td>\n",
       "      <td>LTE_WEB STARTER</td>\n",
       "      <td>1</td>\n",
       "      <td>07</td>\n",
       "    </tr>\n",
       "    <tr>\n",
       "      <th>2</th>\n",
       "      <td>060762f66bad1ea42b90cbd8317a0517</td>\n",
       "      <td>2021-05</td>\n",
       "      <td>425</td>\n",
       "      <td>FTTH_WEB FAMILY PLUS</td>\n",
       "      <td>5</td>\n",
       "      <td>14</td>\n",
       "    </tr>\n",
       "    <tr>\n",
       "      <th>3</th>\n",
       "      <td>4794e9517260d9d48523c36ac515b501</td>\n",
       "      <td>2021-05</td>\n",
       "      <td>100</td>\n",
       "      <td>WEB LITE</td>\n",
       "      <td>1</td>\n",
       "      <td>10</td>\n",
       "    </tr>\n",
       "    <tr>\n",
       "      <th>4</th>\n",
       "      <td>ec436d8c0d0c61d4fd22bc0bee8d457c</td>\n",
       "      <td>2021-06</td>\n",
       "      <td>425</td>\n",
       "      <td>LTE_WEB STARTER</td>\n",
       "      <td>5</td>\n",
       "      <td>16</td>\n",
       "    </tr>\n",
       "    <tr>\n",
       "      <th>...</th>\n",
       "      <td>...</td>\n",
       "      <td>...</td>\n",
       "      <td>...</td>\n",
       "      <td>...</td>\n",
       "      <td>...</td>\n",
       "      <td>...</td>\n",
       "    </tr>\n",
       "    <tr>\n",
       "      <th>196202</th>\n",
       "      <td>64cf8be78270f903e4fb54dcf4a41d9f</td>\n",
       "      <td>2021-06</td>\n",
       "      <td>300</td>\n",
       "      <td>WEB LITE</td>\n",
       "      <td>3</td>\n",
       "      <td>07</td>\n",
       "    </tr>\n",
       "    <tr>\n",
       "      <th>196203</th>\n",
       "      <td>64cf8be78270f903e4fb54dcf4a41d9f</td>\n",
       "      <td>2021-06</td>\n",
       "      <td>425</td>\n",
       "      <td>WEB LITE</td>\n",
       "      <td>5</td>\n",
       "      <td>08</td>\n",
       "    </tr>\n",
       "    <tr>\n",
       "      <th>196204</th>\n",
       "      <td>64cf8be78270f903e4fb54dcf4a41d9f</td>\n",
       "      <td>2021-06</td>\n",
       "      <td>100</td>\n",
       "      <td>WEB LITE</td>\n",
       "      <td>1</td>\n",
       "      <td>14</td>\n",
       "    </tr>\n",
       "    <tr>\n",
       "      <th>196205</th>\n",
       "      <td>64cf8be78270f903e4fb54dcf4a41d9f</td>\n",
       "      <td>2021-06</td>\n",
       "      <td>100</td>\n",
       "      <td>WEB LITE</td>\n",
       "      <td>1</td>\n",
       "      <td>15</td>\n",
       "    </tr>\n",
       "    <tr>\n",
       "      <th>196206</th>\n",
       "      <td>81fc90adf55002e6e002cbbeb4ef55a0</td>\n",
       "      <td>2021-03</td>\n",
       "      <td>425</td>\n",
       "      <td>FTTH_WEB FAMILY PLUS</td>\n",
       "      <td>5</td>\n",
       "      <td>17</td>\n",
       "    </tr>\n",
       "  </tbody>\n",
       "</table>\n",
       "<p>196207 rows × 6 columns</p>\n",
       "</div>"
      ],
      "text/plain": [
       "                        ACCOUNT_NUM.hash Month_Subscribed  Rental  \\\n",
       "0       060762f66bad1ea42b90cbd8317a0517          2021-05     100   \n",
       "1       ec436d8c0d0c61d4fd22bc0bee8d457c          2021-07     100   \n",
       "2       060762f66bad1ea42b90cbd8317a0517          2021-05     425   \n",
       "3       4794e9517260d9d48523c36ac515b501          2021-05     100   \n",
       "4       ec436d8c0d0c61d4fd22bc0bee8d457c          2021-06     425   \n",
       "...                                  ...              ...     ...   \n",
       "196202  64cf8be78270f903e4fb54dcf4a41d9f          2021-06     300   \n",
       "196203  64cf8be78270f903e4fb54dcf4a41d9f          2021-06     425   \n",
       "196204  64cf8be78270f903e4fb54dcf4a41d9f          2021-06     100   \n",
       "196205  64cf8be78270f903e4fb54dcf4a41d9f          2021-06     100   \n",
       "196206  81fc90adf55002e6e002cbbeb4ef55a0          2021-03     425   \n",
       "\n",
       "                  BB_Package GB_AMOUNT Hour_Subscribed  \n",
       "0       FTTH_WEB FAMILY PLUS         1              11  \n",
       "1            LTE_WEB STARTER         1              07  \n",
       "2       FTTH_WEB FAMILY PLUS         5              14  \n",
       "3                   WEB LITE         1              10  \n",
       "4            LTE_WEB STARTER         5              16  \n",
       "...                      ...       ...             ...  \n",
       "196202              WEB LITE         3              07  \n",
       "196203              WEB LITE         5              08  \n",
       "196204              WEB LITE         1              14  \n",
       "196205              WEB LITE         1              15  \n",
       "196206  FTTH_WEB FAMILY PLUS         5              17  \n",
       "\n",
       "[196207 rows x 6 columns]"
      ]
     },
     "execution_count": 294,
     "metadata": {},
     "output_type": "execute_result"
    }
   ],
   "source": [
    "extra_GB_details_df"
   ]
  },
  {
   "cell_type": "code",
   "execution_count": 295,
   "metadata": {
    "gather": {
     "logged": 1628314175471
    }
   },
   "outputs": [
    {
     "data": {
      "text/plain": [
       "29374"
      ]
     },
     "execution_count": 295,
     "metadata": {},
     "output_type": "execute_result"
    }
   ],
   "source": [
    "len(extra_GB_details_df[\"ACCOUNT_NUM.hash\"].unique())"
   ]
  },
  {
   "cell_type": "code",
   "execution_count": 296,
   "metadata": {},
   "outputs": [],
   "source": [
    "extra_GB_details_df.to_csv(\"data/user_profile/BB_extra_GB_usage.csv\")"
   ]
  },
  {
   "cell_type": "markdown",
   "metadata": {},
   "source": [
    "### Extra GB Usage Trend Analysis"
   ]
  },
  {
   "cell_type": "code",
   "execution_count": 138,
   "metadata": {
    "gather": {
     "logged": 1628314186094
    }
   },
   "outputs": [
    {
     "name": "stderr",
     "output_type": "stream",
     "text": [
      "/var/folders/00/gmvdw06n48lgtsz126ng5y2m0000gn/T/ipykernel_729/4086962236.py:2: SettingWithCopyWarning: \n",
      "A value is trying to be set on a copy of a slice from a DataFrame.\n",
      "Try using .loc[row_indexer,col_indexer] = value instead\n",
      "\n",
      "See the caveats in the documentation: https://pandas.pydata.org/pandas-docs/stable/user_guide/indexing.html#returning-a-view-versus-a-copy\n",
      "  bb_usage_for_plot[\"Month_Subscribed\"] = bb_usage_for_plot[\"Month_Subscribed\"].astype(\"category\")\n"
     ]
    }
   ],
   "source": [
    "bb_usage_for_plot = extra_GB_details_df[[\"ACCOUNT_NUM.hash\",\"Month_Subscribed\",\"Rental\"]]\n",
    "bb_usage_for_plot[\"Month_Subscribed\"] = bb_usage_for_plot[\"Month_Subscribed\"].astype(\"category\")"
   ]
  },
  {
   "cell_type": "code",
   "execution_count": 139,
   "metadata": {
    "gather": {
     "logged": 1628314193405
    }
   },
   "outputs": [],
   "source": [
    "bb_summed_df = bb_usage_for_plot.groupby(\"Month_Subscribed\").sum()"
   ]
  },
  {
   "cell_type": "code",
   "execution_count": 140,
   "metadata": {},
   "outputs": [
    {
     "data": {
      "text/html": [
       "<div>\n",
       "<style scoped>\n",
       "    .dataframe tbody tr th:only-of-type {\n",
       "        vertical-align: middle;\n",
       "    }\n",
       "\n",
       "    .dataframe tbody tr th {\n",
       "        vertical-align: top;\n",
       "    }\n",
       "\n",
       "    .dataframe thead th {\n",
       "        text-align: right;\n",
       "    }\n",
       "</style>\n",
       "<table border=\"1\" class=\"dataframe\">\n",
       "  <thead>\n",
       "    <tr style=\"text-align: right;\">\n",
       "      <th></th>\n",
       "      <th>Rental</th>\n",
       "    </tr>\n",
       "    <tr>\n",
       "      <th>Month_Subscribed</th>\n",
       "      <th></th>\n",
       "    </tr>\n",
       "  </thead>\n",
       "  <tbody>\n",
       "    <tr>\n",
       "      <th>2020-11</th>\n",
       "      <td>10930</td>\n",
       "    </tr>\n",
       "    <tr>\n",
       "      <th>2020-12</th>\n",
       "      <td>10600</td>\n",
       "    </tr>\n",
       "    <tr>\n",
       "      <th>2021-01</th>\n",
       "      <td>10810</td>\n",
       "    </tr>\n",
       "    <tr>\n",
       "      <th>2021-02</th>\n",
       "      <td>26395</td>\n",
       "    </tr>\n",
       "    <tr>\n",
       "      <th>2021-03</th>\n",
       "      <td>9229135</td>\n",
       "    </tr>\n",
       "    <tr>\n",
       "      <th>2021-04</th>\n",
       "      <td>9492640</td>\n",
       "    </tr>\n",
       "    <tr>\n",
       "      <th>2021-05</th>\n",
       "      <td>19464485</td>\n",
       "    </tr>\n",
       "    <tr>\n",
       "      <th>2021-06</th>\n",
       "      <td>18299160</td>\n",
       "    </tr>\n",
       "    <tr>\n",
       "      <th>2021-07</th>\n",
       "      <td>14208195</td>\n",
       "    </tr>\n",
       "  </tbody>\n",
       "</table>\n",
       "</div>"
      ],
      "text/plain": [
       "                    Rental\n",
       "Month_Subscribed          \n",
       "2020-11              10930\n",
       "2020-12              10600\n",
       "2021-01              10810\n",
       "2021-02              26395\n",
       "2021-03            9229135\n",
       "2021-04            9492640\n",
       "2021-05           19464485\n",
       "2021-06           18299160\n",
       "2021-07           14208195"
      ]
     },
     "execution_count": 140,
     "metadata": {},
     "output_type": "execute_result"
    }
   ],
   "source": [
    "bb_summed_df"
   ]
  },
  {
   "cell_type": "code",
   "execution_count": 141,
   "metadata": {
    "gather": {
     "logged": 1628314232340
    }
   },
   "outputs": [],
   "source": [
    "df_2020 = bb_summed_df.iloc[:2,:]"
   ]
  },
  {
   "cell_type": "code",
   "execution_count": 142,
   "metadata": {
    "gather": {
     "logged": 1628314238371
    }
   },
   "outputs": [],
   "source": [
    "df_2021 = bb_summed_df.iloc[2:,:]"
   ]
  },
  {
   "cell_type": "code",
   "execution_count": 143,
   "metadata": {
    "gather": {
     "logged": 1628314248548
    }
   },
   "outputs": [
    {
     "data": {
      "text/plain": [
       "Text(0.5, 0.98, 'Extra Gb Usage(Rs.) with Time')"
      ]
     },
     "execution_count": 143,
     "metadata": {},
     "output_type": "execute_result"
    },
    {
     "data": {
      "image/png": "[encoded data removed]",
      "text/plain": [
       "<Figure size 2160x576 with 1 Axes>"
      ]
     },
     "metadata": {},
     "output_type": "display_data"
    }
   ],
   "source": [
    "plt.figure(figsize=(30,8))\n",
    "bb_summed_df[\"Rental\"].plot()\n",
    "plt.suptitle(\"Extra Gb Usage(Rs.) with Time\")"
   ]
  },
  {
   "cell_type": "code",
   "execution_count": 144,
   "metadata": {
    "gather": {
     "logged": 1628314266518
    }
   },
   "outputs": [
    {
     "data": {
      "text/plain": [
       "Text(0.5, 1.0, 'Extra Gb Usage(Rs.) with Time')"
      ]
     },
     "execution_count": 144,
     "metadata": {},
     "output_type": "execute_result"
    },
    {
     "data": {
      "image/png": "[encoded data removed]",
      "text/plain": [
       "<Figure size 1440x576 with 1 Axes>"
      ]
     },
     "metadata": {},
     "output_type": "display_data"
    },
    {
     "data": {
      "text/plain": [
       "<Figure size 432x288 with 0 Axes>"
      ]
     },
     "metadata": {},
     "output_type": "display_data"
    }
   ],
   "source": [
    "fig, ax = plt.subplots()\n",
    "plt.figure()\n",
    "df_2020[\"Rental\"].plot(ax=ax,figsize=(20,8))\n",
    "df_2021[\"Rental\"].plot(ax=ax,figsize=(20,8))\n",
    "ax.legend([\"2020\",\"2021\"], loc='upper center')\n",
    "month_ticks=[\"Jan\",\"Feb\",\"Mar\",\"Apr\",\"May\",\"Jun\",\"Jul\",\"Aug\",\"Sep\",\"Oct\",\"Nov\",\"Dec\"]\n",
    "ax.set_xticks(np.arange(len(month_ticks)))\n",
    "ax.set_xticklabels(month_ticks)\n",
    "ax.set_title(\"Extra Gb Usage(Rs.) with Time\")"
   ]
  },
  {
   "cell_type": "code",
   "execution_count": null,
   "metadata": {},
   "outputs": [],
   "source": []
  },
  {
   "cell_type": "markdown",
   "metadata": {},
   "source": [
    "#### Extra GB Usage pivot matrix"
   ]
  },
  {
   "cell_type": "code",
   "execution_count": 145,
   "metadata": {
    "gather": {
     "logged": 1628314281935
    }
   },
   "outputs": [],
   "source": [
    "extra_GB_pivot_df = pd.pivot_table(extra_GB_details_df[[\"ACCOUNT_NUM.hash\",\"Month_Subscribed\",\"Rental\"]],index=['ACCOUNT_NUM.hash'],columns=['Month_Subscribed'], aggfunc=np.sum, fill_value=0)"
   ]
  },
  {
   "cell_type": "code",
   "execution_count": 146,
   "metadata": {
    "gather": {
     "logged": 1628314289602
    }
   },
   "outputs": [
    {
     "data": {
      "text/html": [
       "<div>\n",
       "<style scoped>\n",
       "    .dataframe tbody tr th:only-of-type {\n",
       "        vertical-align: middle;\n",
       "    }\n",
       "\n",
       "    .dataframe tbody tr th {\n",
       "        vertical-align: top;\n",
       "    }\n",
       "\n",
       "    .dataframe thead tr th {\n",
       "        text-align: left;\n",
       "    }\n",
       "\n",
       "    .dataframe thead tr:last-of-type th {\n",
       "        text-align: right;\n",
       "    }\n",
       "</style>\n",
       "<table border=\"1\" class=\"dataframe\">\n",
       "  <thead>\n",
       "    <tr>\n",
       "      <th></th>\n",
       "      <th colspan=\"9\" halign=\"left\">Rental</th>\n",
       "    </tr>\n",
       "    <tr>\n",
       "      <th>Month_Subscribed</th>\n",
       "      <th>2020-11</th>\n",
       "      <th>2020-12</th>\n",
       "      <th>2021-01</th>\n",
       "      <th>2021-02</th>\n",
       "      <th>2021-03</th>\n",
       "      <th>2021-04</th>\n",
       "      <th>2021-05</th>\n",
       "      <th>2021-06</th>\n",
       "      <th>2021-07</th>\n",
       "    </tr>\n",
       "    <tr>\n",
       "      <th>ACCOUNT_NUM.hash</th>\n",
       "      <th></th>\n",
       "      <th></th>\n",
       "      <th></th>\n",
       "      <th></th>\n",
       "      <th></th>\n",
       "      <th></th>\n",
       "      <th></th>\n",
       "      <th></th>\n",
       "      <th></th>\n",
       "    </tr>\n",
       "  </thead>\n",
       "  <tbody>\n",
       "    <tr>\n",
       "      <th>0003c76b4c2c7db8e62faa5f53081178</th>\n",
       "      <td>0</td>\n",
       "      <td>0</td>\n",
       "      <td>0</td>\n",
       "      <td>0</td>\n",
       "      <td>0</td>\n",
       "      <td>0</td>\n",
       "      <td>200</td>\n",
       "      <td>100</td>\n",
       "      <td>0</td>\n",
       "    </tr>\n",
       "    <tr>\n",
       "      <th>000726eec7faa37f12be33be6507c4e5</th>\n",
       "      <td>0</td>\n",
       "      <td>0</td>\n",
       "      <td>0</td>\n",
       "      <td>0</td>\n",
       "      <td>850</td>\n",
       "      <td>0</td>\n",
       "      <td>0</td>\n",
       "      <td>850</td>\n",
       "      <td>0</td>\n",
       "    </tr>\n",
       "    <tr>\n",
       "      <th>0008dcbce843a8d3937815df0a951264</th>\n",
       "      <td>0</td>\n",
       "      <td>0</td>\n",
       "      <td>0</td>\n",
       "      <td>0</td>\n",
       "      <td>0</td>\n",
       "      <td>0</td>\n",
       "      <td>100</td>\n",
       "      <td>100</td>\n",
       "      <td>0</td>\n",
       "    </tr>\n",
       "    <tr>\n",
       "      <th>000eee57a6c7a02c8aca8b410ea2e287</th>\n",
       "      <td>0</td>\n",
       "      <td>0</td>\n",
       "      <td>0</td>\n",
       "      <td>0</td>\n",
       "      <td>0</td>\n",
       "      <td>0</td>\n",
       "      <td>200</td>\n",
       "      <td>100</td>\n",
       "      <td>100</td>\n",
       "    </tr>\n",
       "    <tr>\n",
       "      <th>000f325a72b9d24742237070939b57d1</th>\n",
       "      <td>0</td>\n",
       "      <td>0</td>\n",
       "      <td>0</td>\n",
       "      <td>0</td>\n",
       "      <td>800</td>\n",
       "      <td>0</td>\n",
       "      <td>0</td>\n",
       "      <td>0</td>\n",
       "      <td>300</td>\n",
       "    </tr>\n",
       "    <tr>\n",
       "      <th>...</th>\n",
       "      <td>...</td>\n",
       "      <td>...</td>\n",
       "      <td>...</td>\n",
       "      <td>...</td>\n",
       "      <td>...</td>\n",
       "      <td>...</td>\n",
       "      <td>...</td>\n",
       "      <td>...</td>\n",
       "      <td>...</td>\n",
       "    </tr>\n",
       "    <tr>\n",
       "      <th>fff45bfbbb99fe43c7ef3f2c0a7bb805</th>\n",
       "      <td>0</td>\n",
       "      <td>0</td>\n",
       "      <td>0</td>\n",
       "      <td>0</td>\n",
       "      <td>0</td>\n",
       "      <td>0</td>\n",
       "      <td>850</td>\n",
       "      <td>0</td>\n",
       "      <td>0</td>\n",
       "    </tr>\n",
       "    <tr>\n",
       "      <th>fff5e5fb07c5f809d1ffe87ca7f13980</th>\n",
       "      <td>0</td>\n",
       "      <td>0</td>\n",
       "      <td>0</td>\n",
       "      <td>0</td>\n",
       "      <td>0</td>\n",
       "      <td>0</td>\n",
       "      <td>425</td>\n",
       "      <td>425</td>\n",
       "      <td>0</td>\n",
       "    </tr>\n",
       "    <tr>\n",
       "      <th>fff99dd8ecb7a699a1591e1545a49eb7</th>\n",
       "      <td>0</td>\n",
       "      <td>0</td>\n",
       "      <td>0</td>\n",
       "      <td>0</td>\n",
       "      <td>0</td>\n",
       "      <td>0</td>\n",
       "      <td>300</td>\n",
       "      <td>200</td>\n",
       "      <td>0</td>\n",
       "    </tr>\n",
       "    <tr>\n",
       "      <th>fffaeeddaabbd2868c183d8884b2a98d</th>\n",
       "      <td>0</td>\n",
       "      <td>0</td>\n",
       "      <td>0</td>\n",
       "      <td>0</td>\n",
       "      <td>0</td>\n",
       "      <td>0</td>\n",
       "      <td>100</td>\n",
       "      <td>0</td>\n",
       "      <td>200</td>\n",
       "    </tr>\n",
       "    <tr>\n",
       "      <th>fffc0d3d866e438753451c3d428ab441</th>\n",
       "      <td>0</td>\n",
       "      <td>0</td>\n",
       "      <td>0</td>\n",
       "      <td>0</td>\n",
       "      <td>0</td>\n",
       "      <td>0</td>\n",
       "      <td>525</td>\n",
       "      <td>0</td>\n",
       "      <td>0</td>\n",
       "    </tr>\n",
       "  </tbody>\n",
       "</table>\n",
       "<p>29374 rows × 9 columns</p>\n",
       "</div>"
      ],
      "text/plain": [
       "                                  Rental                                  \\\n",
       "Month_Subscribed                 2020-11 2020-12 2021-01 2021-02 2021-03   \n",
       "ACCOUNT_NUM.hash                                                           \n",
       "0003c76b4c2c7db8e62faa5f53081178       0       0       0       0       0   \n",
       "000726eec7faa37f12be33be6507c4e5       0       0       0       0     850   \n",
       "0008dcbce843a8d3937815df0a951264       0       0       0       0       0   \n",
       "000eee57a6c7a02c8aca8b410ea2e287       0       0       0       0       0   \n",
       "000f325a72b9d24742237070939b57d1       0       0       0       0     800   \n",
       "...                                  ...     ...     ...     ...     ...   \n",
       "fff45bfbbb99fe43c7ef3f2c0a7bb805       0       0       0       0       0   \n",
       "fff5e5fb07c5f809d1ffe87ca7f13980       0       0       0       0       0   \n",
       "fff99dd8ecb7a699a1591e1545a49eb7       0       0       0       0       0   \n",
       "fffaeeddaabbd2868c183d8884b2a98d       0       0       0       0       0   \n",
       "fffc0d3d866e438753451c3d428ab441       0       0       0       0       0   \n",
       "\n",
       "                                                                  \n",
       "Month_Subscribed                 2021-04 2021-05 2021-06 2021-07  \n",
       "ACCOUNT_NUM.hash                                                  \n",
       "0003c76b4c2c7db8e62faa5f53081178       0     200     100       0  \n",
       "000726eec7faa37f12be33be6507c4e5       0       0     850       0  \n",
       "0008dcbce843a8d3937815df0a951264       0     100     100       0  \n",
       "000eee57a6c7a02c8aca8b410ea2e287       0     200     100     100  \n",
       "000f325a72b9d24742237070939b57d1       0       0       0     300  \n",
       "...                                  ...     ...     ...     ...  \n",
       "fff45bfbbb99fe43c7ef3f2c0a7bb805       0     850       0       0  \n",
       "fff5e5fb07c5f809d1ffe87ca7f13980       0     425     425       0  \n",
       "fff99dd8ecb7a699a1591e1545a49eb7       0     300     200       0  \n",
       "fffaeeddaabbd2868c183d8884b2a98d       0     100       0     200  \n",
       "fffc0d3d866e438753451c3d428ab441       0     525       0       0  \n",
       "\n",
       "[29374 rows x 9 columns]"
      ]
     },
     "execution_count": 146,
     "metadata": {},
     "output_type": "execute_result"
    }
   ],
   "source": [
    "extra_GB_pivot_df"
   ]
  },
  {
   "cell_type": "markdown",
   "metadata": {},
   "source": [
    "#### Insights\n",
    "- 29374 unique customers - extra GB purchases in moths vary from 2013-2021"
   ]
  },
  {
   "cell_type": "code",
   "execution_count": 152,
   "metadata": {},
   "outputs": [],
   "source": [
    "extra_GB_size_Pivot = pd.pivot_table(extra_GB_details_df[[\"ACCOUNT_NUM.hash\",\"Month_Subscribed\",\"GB_AMOUNT\"]],index=['ACCOUNT_NUM.hash'],columns=['Month_Subscribed'], aggfunc=np.sum, fill_value=0)"
   ]
  },
  {
   "cell_type": "code",
   "execution_count": 153,
   "metadata": {},
   "outputs": [
    {
     "data": {
      "text/html": [
       "<div>\n",
       "<style scoped>\n",
       "    .dataframe tbody tr th:only-of-type {\n",
       "        vertical-align: middle;\n",
       "    }\n",
       "\n",
       "    .dataframe tbody tr th {\n",
       "        vertical-align: top;\n",
       "    }\n",
       "\n",
       "    .dataframe thead tr th {\n",
       "        text-align: left;\n",
       "    }\n",
       "\n",
       "    .dataframe thead tr:last-of-type th {\n",
       "        text-align: right;\n",
       "    }\n",
       "</style>\n",
       "<table border=\"1\" class=\"dataframe\">\n",
       "  <thead>\n",
       "    <tr>\n",
       "      <th></th>\n",
       "      <th colspan=\"9\" halign=\"left\">GB_AMOUNT</th>\n",
       "    </tr>\n",
       "    <tr>\n",
       "      <th>Month_Subscribed</th>\n",
       "      <th>2020-11</th>\n",
       "      <th>2020-12</th>\n",
       "      <th>2021-01</th>\n",
       "      <th>2021-02</th>\n",
       "      <th>2021-03</th>\n",
       "      <th>2021-04</th>\n",
       "      <th>2021-05</th>\n",
       "      <th>2021-06</th>\n",
       "      <th>2021-07</th>\n",
       "    </tr>\n",
       "    <tr>\n",
       "      <th>ACCOUNT_NUM.hash</th>\n",
       "      <th></th>\n",
       "      <th></th>\n",
       "      <th></th>\n",
       "      <th></th>\n",
       "      <th></th>\n",
       "      <th></th>\n",
       "      <th></th>\n",
       "      <th></th>\n",
       "      <th></th>\n",
       "    </tr>\n",
       "  </thead>\n",
       "  <tbody>\n",
       "    <tr>\n",
       "      <th>0003c76b4c2c7db8e62faa5f53081178</th>\n",
       "      <td>0</td>\n",
       "      <td>0</td>\n",
       "      <td>0</td>\n",
       "      <td>0</td>\n",
       "      <td>0</td>\n",
       "      <td>0</td>\n",
       "      <td>2</td>\n",
       "      <td>1</td>\n",
       "      <td>0</td>\n",
       "    </tr>\n",
       "    <tr>\n",
       "      <th>000726eec7faa37f12be33be6507c4e5</th>\n",
       "      <td>0</td>\n",
       "      <td>0</td>\n",
       "      <td>0</td>\n",
       "      <td>0</td>\n",
       "      <td>10</td>\n",
       "      <td>0</td>\n",
       "      <td>0</td>\n",
       "      <td>10</td>\n",
       "      <td>0</td>\n",
       "    </tr>\n",
       "    <tr>\n",
       "      <th>0008dcbce843a8d3937815df0a951264</th>\n",
       "      <td>0</td>\n",
       "      <td>0</td>\n",
       "      <td>0</td>\n",
       "      <td>0</td>\n",
       "      <td>0</td>\n",
       "      <td>0</td>\n",
       "      <td>1</td>\n",
       "      <td>1</td>\n",
       "      <td>0</td>\n",
       "    </tr>\n",
       "    <tr>\n",
       "      <th>000eee57a6c7a02c8aca8b410ea2e287</th>\n",
       "      <td>0</td>\n",
       "      <td>0</td>\n",
       "      <td>0</td>\n",
       "      <td>0</td>\n",
       "      <td>0</td>\n",
       "      <td>0</td>\n",
       "      <td>11</td>\n",
       "      <td>1</td>\n",
       "      <td>1</td>\n",
       "    </tr>\n",
       "    <tr>\n",
       "      <th>000f325a72b9d24742237070939b57d1</th>\n",
       "      <td>0</td>\n",
       "      <td>0</td>\n",
       "      <td>0</td>\n",
       "      <td>0</td>\n",
       "      <td>2222</td>\n",
       "      <td>0</td>\n",
       "      <td>0</td>\n",
       "      <td>0</td>\n",
       "      <td>12</td>\n",
       "    </tr>\n",
       "    <tr>\n",
       "      <th>...</th>\n",
       "      <td>...</td>\n",
       "      <td>...</td>\n",
       "      <td>...</td>\n",
       "      <td>...</td>\n",
       "      <td>...</td>\n",
       "      <td>...</td>\n",
       "      <td>...</td>\n",
       "      <td>...</td>\n",
       "      <td>...</td>\n",
       "    </tr>\n",
       "    <tr>\n",
       "      <th>fff45bfbbb99fe43c7ef3f2c0a7bb805</th>\n",
       "      <td>0</td>\n",
       "      <td>0</td>\n",
       "      <td>0</td>\n",
       "      <td>0</td>\n",
       "      <td>0</td>\n",
       "      <td>0</td>\n",
       "      <td>10</td>\n",
       "      <td>0</td>\n",
       "      <td>0</td>\n",
       "    </tr>\n",
       "    <tr>\n",
       "      <th>fff5e5fb07c5f809d1ffe87ca7f13980</th>\n",
       "      <td>0</td>\n",
       "      <td>0</td>\n",
       "      <td>0</td>\n",
       "      <td>0</td>\n",
       "      <td>0</td>\n",
       "      <td>0</td>\n",
       "      <td>5</td>\n",
       "      <td>5</td>\n",
       "      <td>0</td>\n",
       "    </tr>\n",
       "    <tr>\n",
       "      <th>fff99dd8ecb7a699a1591e1545a49eb7</th>\n",
       "      <td>0</td>\n",
       "      <td>0</td>\n",
       "      <td>0</td>\n",
       "      <td>0</td>\n",
       "      <td>0</td>\n",
       "      <td>0</td>\n",
       "      <td>3</td>\n",
       "      <td>2</td>\n",
       "      <td>0</td>\n",
       "    </tr>\n",
       "    <tr>\n",
       "      <th>fffaeeddaabbd2868c183d8884b2a98d</th>\n",
       "      <td>0</td>\n",
       "      <td>0</td>\n",
       "      <td>0</td>\n",
       "      <td>0</td>\n",
       "      <td>0</td>\n",
       "      <td>0</td>\n",
       "      <td>1</td>\n",
       "      <td>0</td>\n",
       "      <td>2</td>\n",
       "    </tr>\n",
       "    <tr>\n",
       "      <th>fffc0d3d866e438753451c3d428ab441</th>\n",
       "      <td>0</td>\n",
       "      <td>0</td>\n",
       "      <td>0</td>\n",
       "      <td>0</td>\n",
       "      <td>0</td>\n",
       "      <td>0</td>\n",
       "      <td>51</td>\n",
       "      <td>0</td>\n",
       "      <td>0</td>\n",
       "    </tr>\n",
       "  </tbody>\n",
       "</table>\n",
       "<p>29374 rows × 9 columns</p>\n",
       "</div>"
      ],
      "text/plain": [
       "                                 GB_AMOUNT                                  \\\n",
       "Month_Subscribed                   2020-11 2020-12 2021-01 2021-02 2021-03   \n",
       "ACCOUNT_NUM.hash                                                             \n",
       "0003c76b4c2c7db8e62faa5f53081178         0       0       0       0       0   \n",
       "000726eec7faa37f12be33be6507c4e5         0       0       0       0      10   \n",
       "0008dcbce843a8d3937815df0a951264         0       0       0       0       0   \n",
       "000eee57a6c7a02c8aca8b410ea2e287         0       0       0       0       0   \n",
       "000f325a72b9d24742237070939b57d1         0       0       0       0    2222   \n",
       "...                                    ...     ...     ...     ...     ...   \n",
       "fff45bfbbb99fe43c7ef3f2c0a7bb805         0       0       0       0       0   \n",
       "fff5e5fb07c5f809d1ffe87ca7f13980         0       0       0       0       0   \n",
       "fff99dd8ecb7a699a1591e1545a49eb7         0       0       0       0       0   \n",
       "fffaeeddaabbd2868c183d8884b2a98d         0       0       0       0       0   \n",
       "fffc0d3d866e438753451c3d428ab441         0       0       0       0       0   \n",
       "\n",
       "                                                                  \n",
       "Month_Subscribed                 2021-04 2021-05 2021-06 2021-07  \n",
       "ACCOUNT_NUM.hash                                                  \n",
       "0003c76b4c2c7db8e62faa5f53081178       0       2       1       0  \n",
       "000726eec7faa37f12be33be6507c4e5       0       0      10       0  \n",
       "0008dcbce843a8d3937815df0a951264       0       1       1       0  \n",
       "000eee57a6c7a02c8aca8b410ea2e287       0      11       1       1  \n",
       "000f325a72b9d24742237070939b57d1       0       0       0      12  \n",
       "...                                  ...     ...     ...     ...  \n",
       "fff45bfbbb99fe43c7ef3f2c0a7bb805       0      10       0       0  \n",
       "fff5e5fb07c5f809d1ffe87ca7f13980       0       5       5       0  \n",
       "fff99dd8ecb7a699a1591e1545a49eb7       0       3       2       0  \n",
       "fffaeeddaabbd2868c183d8884b2a98d       0       1       0       2  \n",
       "fffc0d3d866e438753451c3d428ab441       0      51       0       0  \n",
       "\n",
       "[29374 rows x 9 columns]"
      ]
     },
     "execution_count": 153,
     "metadata": {},
     "output_type": "execute_result"
    }
   ],
   "source": [
    "extra_GB_size_Pivot"
   ]
  },
  {
   "cell_type": "code",
   "execution_count": 155,
   "metadata": {},
   "outputs": [],
   "source": [
    "extra_GB_hour_Pivot = pd.pivot_table(extra_GB_details_df[[\"ACCOUNT_NUM.hash\",\"Hour_Subscribed\",\"GB_AMOUNT\"]],index=['ACCOUNT_NUM.hash'],columns=['Hour_Subscribed'], aggfunc=np.sum, fill_value=0)"
   ]
  },
  {
   "cell_type": "code",
   "execution_count": 156,
   "metadata": {},
   "outputs": [
    {
     "data": {
      "text/html": [
       "<div>\n",
       "<style scoped>\n",
       "    .dataframe tbody tr th:only-of-type {\n",
       "        vertical-align: middle;\n",
       "    }\n",
       "\n",
       "    .dataframe tbody tr th {\n",
       "        vertical-align: top;\n",
       "    }\n",
       "\n",
       "    .dataframe thead tr th {\n",
       "        text-align: left;\n",
       "    }\n",
       "\n",
       "    .dataframe thead tr:last-of-type th {\n",
       "        text-align: right;\n",
       "    }\n",
       "</style>\n",
       "<table border=\"1\" class=\"dataframe\">\n",
       "  <thead>\n",
       "    <tr>\n",
       "      <th></th>\n",
       "      <th colspan=\"21\" halign=\"left\">GB_AMOUNT</th>\n",
       "    </tr>\n",
       "    <tr>\n",
       "      <th>Hour_Subscribed</th>\n",
       "      <th>00</th>\n",
       "      <th>01</th>\n",
       "      <th>02</th>\n",
       "      <th>03</th>\n",
       "      <th>04</th>\n",
       "      <th>05</th>\n",
       "      <th>06</th>\n",
       "      <th>07</th>\n",
       "      <th>08</th>\n",
       "      <th>09</th>\n",
       "      <th>...</th>\n",
       "      <th>14</th>\n",
       "      <th>15</th>\n",
       "      <th>16</th>\n",
       "      <th>17</th>\n",
       "      <th>18</th>\n",
       "      <th>19</th>\n",
       "      <th>20</th>\n",
       "      <th>21</th>\n",
       "      <th>22</th>\n",
       "      <th>23</th>\n",
       "    </tr>\n",
       "    <tr>\n",
       "      <th>ACCOUNT_NUM.hash</th>\n",
       "      <th></th>\n",
       "      <th></th>\n",
       "      <th></th>\n",
       "      <th></th>\n",
       "      <th></th>\n",
       "      <th></th>\n",
       "      <th></th>\n",
       "      <th></th>\n",
       "      <th></th>\n",
       "      <th></th>\n",
       "      <th></th>\n",
       "      <th></th>\n",
       "      <th></th>\n",
       "      <th></th>\n",
       "      <th></th>\n",
       "      <th></th>\n",
       "      <th></th>\n",
       "      <th></th>\n",
       "      <th></th>\n",
       "      <th></th>\n",
       "      <th></th>\n",
       "    </tr>\n",
       "  </thead>\n",
       "  <tbody>\n",
       "    <tr>\n",
       "      <th>9d997a2fbd9b396610ee54377b2f1d1a</th>\n",
       "      <td>0</td>\n",
       "      <td>0</td>\n",
       "      <td>0</td>\n",
       "      <td>0</td>\n",
       "      <td>0</td>\n",
       "      <td>0</td>\n",
       "      <td>0</td>\n",
       "      <td>0</td>\n",
       "      <td>0</td>\n",
       "      <td>0</td>\n",
       "      <td>...</td>\n",
       "      <td>0</td>\n",
       "      <td>2</td>\n",
       "      <td>0</td>\n",
       "      <td>0</td>\n",
       "      <td>0</td>\n",
       "      <td>0</td>\n",
       "      <td>0</td>\n",
       "      <td>0</td>\n",
       "      <td>0</td>\n",
       "      <td>0</td>\n",
       "    </tr>\n",
       "    <tr>\n",
       "      <th>3a103b0689db49e51ae7681a95f130de</th>\n",
       "      <td>0</td>\n",
       "      <td>0</td>\n",
       "      <td>0</td>\n",
       "      <td>0</td>\n",
       "      <td>0</td>\n",
       "      <td>1</td>\n",
       "      <td>0</td>\n",
       "      <td>0</td>\n",
       "      <td>0</td>\n",
       "      <td>0</td>\n",
       "      <td>...</td>\n",
       "      <td>0</td>\n",
       "      <td>0</td>\n",
       "      <td>2</td>\n",
       "      <td>0</td>\n",
       "      <td>1</td>\n",
       "      <td>0</td>\n",
       "      <td>0</td>\n",
       "      <td>0</td>\n",
       "      <td>0</td>\n",
       "      <td>0</td>\n",
       "    </tr>\n",
       "    <tr>\n",
       "      <th>3addedf014a4963fbed29b08315c66e2</th>\n",
       "      <td>0</td>\n",
       "      <td>0</td>\n",
       "      <td>0</td>\n",
       "      <td>0</td>\n",
       "      <td>0</td>\n",
       "      <td>0</td>\n",
       "      <td>0</td>\n",
       "      <td>0</td>\n",
       "      <td>0</td>\n",
       "      <td>0</td>\n",
       "      <td>...</td>\n",
       "      <td>5</td>\n",
       "      <td>0</td>\n",
       "      <td>0</td>\n",
       "      <td>0</td>\n",
       "      <td>0</td>\n",
       "      <td>0</td>\n",
       "      <td>0</td>\n",
       "      <td>0</td>\n",
       "      <td>0</td>\n",
       "      <td>5</td>\n",
       "    </tr>\n",
       "    <tr>\n",
       "      <th>a370d68d61cfe3429122703a0515c582</th>\n",
       "      <td>0</td>\n",
       "      <td>0</td>\n",
       "      <td>0</td>\n",
       "      <td>0</td>\n",
       "      <td>0</td>\n",
       "      <td>0</td>\n",
       "      <td>0</td>\n",
       "      <td>0</td>\n",
       "      <td>0</td>\n",
       "      <td>0</td>\n",
       "      <td>...</td>\n",
       "      <td>0</td>\n",
       "      <td>0</td>\n",
       "      <td>0</td>\n",
       "      <td>0</td>\n",
       "      <td>0</td>\n",
       "      <td>0</td>\n",
       "      <td>0</td>\n",
       "      <td>0</td>\n",
       "      <td>0</td>\n",
       "      <td>0</td>\n",
       "    </tr>\n",
       "    <tr>\n",
       "      <th>8d30bca54606f4e1aeba22659e3f71f1</th>\n",
       "      <td>0</td>\n",
       "      <td>0</td>\n",
       "      <td>0</td>\n",
       "      <td>0</td>\n",
       "      <td>0</td>\n",
       "      <td>0</td>\n",
       "      <td>0</td>\n",
       "      <td>0</td>\n",
       "      <td>0</td>\n",
       "      <td>1</td>\n",
       "      <td>...</td>\n",
       "      <td>0</td>\n",
       "      <td>0</td>\n",
       "      <td>0</td>\n",
       "      <td>0</td>\n",
       "      <td>0</td>\n",
       "      <td>0</td>\n",
       "      <td>0</td>\n",
       "      <td>0</td>\n",
       "      <td>0</td>\n",
       "      <td>0</td>\n",
       "    </tr>\n",
       "    <tr>\n",
       "      <th>7fb5e93095692a1e97ba3ce10711d9ff</th>\n",
       "      <td>0</td>\n",
       "      <td>0</td>\n",
       "      <td>0</td>\n",
       "      <td>0</td>\n",
       "      <td>0</td>\n",
       "      <td>0</td>\n",
       "      <td>0</td>\n",
       "      <td>0</td>\n",
       "      <td>1</td>\n",
       "      <td>2</td>\n",
       "      <td>...</td>\n",
       "      <td>0</td>\n",
       "      <td>1</td>\n",
       "      <td>0</td>\n",
       "      <td>0</td>\n",
       "      <td>0</td>\n",
       "      <td>0</td>\n",
       "      <td>0</td>\n",
       "      <td>0</td>\n",
       "      <td>0</td>\n",
       "      <td>0</td>\n",
       "    </tr>\n",
       "    <tr>\n",
       "      <th>2448330040822b198d53cb88caf46d6f</th>\n",
       "      <td>0</td>\n",
       "      <td>0</td>\n",
       "      <td>0</td>\n",
       "      <td>0</td>\n",
       "      <td>0</td>\n",
       "      <td>0</td>\n",
       "      <td>0</td>\n",
       "      <td>0</td>\n",
       "      <td>2</td>\n",
       "      <td>0</td>\n",
       "      <td>...</td>\n",
       "      <td>0</td>\n",
       "      <td>25</td>\n",
       "      <td>0</td>\n",
       "      <td>2</td>\n",
       "      <td>0</td>\n",
       "      <td>0</td>\n",
       "      <td>0</td>\n",
       "      <td>0</td>\n",
       "      <td>0</td>\n",
       "      <td>0</td>\n",
       "    </tr>\n",
       "    <tr>\n",
       "      <th>dcc75f252dc23a1908434092b8d18056</th>\n",
       "      <td>0</td>\n",
       "      <td>0</td>\n",
       "      <td>0</td>\n",
       "      <td>0</td>\n",
       "      <td>0</td>\n",
       "      <td>0</td>\n",
       "      <td>0</td>\n",
       "      <td>0</td>\n",
       "      <td>0</td>\n",
       "      <td>15</td>\n",
       "      <td>...</td>\n",
       "      <td>0</td>\n",
       "      <td>0</td>\n",
       "      <td>0</td>\n",
       "      <td>0</td>\n",
       "      <td>0</td>\n",
       "      <td>0</td>\n",
       "      <td>0</td>\n",
       "      <td>0</td>\n",
       "      <td>0</td>\n",
       "      <td>0</td>\n",
       "    </tr>\n",
       "    <tr>\n",
       "      <th>87503c7fb3a4cbe8077037f69fd061de</th>\n",
       "      <td>0</td>\n",
       "      <td>0</td>\n",
       "      <td>0</td>\n",
       "      <td>0</td>\n",
       "      <td>0</td>\n",
       "      <td>0</td>\n",
       "      <td>0</td>\n",
       "      <td>0</td>\n",
       "      <td>0</td>\n",
       "      <td>0</td>\n",
       "      <td>...</td>\n",
       "      <td>0</td>\n",
       "      <td>0</td>\n",
       "      <td>0</td>\n",
       "      <td>0</td>\n",
       "      <td>0</td>\n",
       "      <td>0</td>\n",
       "      <td>0</td>\n",
       "      <td>0</td>\n",
       "      <td>0</td>\n",
       "      <td>0</td>\n",
       "    </tr>\n",
       "    <tr>\n",
       "      <th>8b84f60782db3e4ac96f1f448b76e3bb</th>\n",
       "      <td>0</td>\n",
       "      <td>0</td>\n",
       "      <td>0</td>\n",
       "      <td>0</td>\n",
       "      <td>0</td>\n",
       "      <td>0</td>\n",
       "      <td>0</td>\n",
       "      <td>0</td>\n",
       "      <td>0</td>\n",
       "      <td>0</td>\n",
       "      <td>...</td>\n",
       "      <td>0</td>\n",
       "      <td>0</td>\n",
       "      <td>0</td>\n",
       "      <td>0</td>\n",
       "      <td>0</td>\n",
       "      <td>15</td>\n",
       "      <td>10</td>\n",
       "      <td>0</td>\n",
       "      <td>0</td>\n",
       "      <td>0</td>\n",
       "    </tr>\n",
       "  </tbody>\n",
       "</table>\n",
       "<p>10 rows × 24 columns</p>\n",
       "</div>"
      ],
      "text/plain": [
       "                                 GB_AMOUNT                              ...  \\\n",
       "Hour_Subscribed                         00 01 02 03 04 05 06 07 08  09  ...   \n",
       "ACCOUNT_NUM.hash                                                        ...   \n",
       "9d997a2fbd9b396610ee54377b2f1d1a         0  0  0  0  0  0  0  0  0   0  ...   \n",
       "3a103b0689db49e51ae7681a95f130de         0  0  0  0  0  1  0  0  0   0  ...   \n",
       "3addedf014a4963fbed29b08315c66e2         0  0  0  0  0  0  0  0  0   0  ...   \n",
       "a370d68d61cfe3429122703a0515c582         0  0  0  0  0  0  0  0  0   0  ...   \n",
       "8d30bca54606f4e1aeba22659e3f71f1         0  0  0  0  0  0  0  0  0   1  ...   \n",
       "7fb5e93095692a1e97ba3ce10711d9ff         0  0  0  0  0  0  0  0  1   2  ...   \n",
       "2448330040822b198d53cb88caf46d6f         0  0  0  0  0  0  0  0  2   0  ...   \n",
       "dcc75f252dc23a1908434092b8d18056         0  0  0  0  0  0  0  0  0  15  ...   \n",
       "87503c7fb3a4cbe8077037f69fd061de         0  0  0  0  0  0  0  0  0   0  ...   \n",
       "8b84f60782db3e4ac96f1f448b76e3bb         0  0  0  0  0  0  0  0  0   0  ...   \n",
       "\n",
       "                                                                   \n",
       "Hour_Subscribed                  14  15 16 17 18  19  20 21 22 23  \n",
       "ACCOUNT_NUM.hash                                                   \n",
       "9d997a2fbd9b396610ee54377b2f1d1a  0   2  0  0  0   0   0  0  0  0  \n",
       "3a103b0689db49e51ae7681a95f130de  0   0  2  0  1   0   0  0  0  0  \n",
       "3addedf014a4963fbed29b08315c66e2  5   0  0  0  0   0   0  0  0  5  \n",
       "a370d68d61cfe3429122703a0515c582  0   0  0  0  0   0   0  0  0  0  \n",
       "8d30bca54606f4e1aeba22659e3f71f1  0   0  0  0  0   0   0  0  0  0  \n",
       "7fb5e93095692a1e97ba3ce10711d9ff  0   1  0  0  0   0   0  0  0  0  \n",
       "2448330040822b198d53cb88caf46d6f  0  25  0  2  0   0   0  0  0  0  \n",
       "dcc75f252dc23a1908434092b8d18056  0   0  0  0  0   0   0  0  0  0  \n",
       "87503c7fb3a4cbe8077037f69fd061de  0   0  0  0  0   0   0  0  0  0  \n",
       "8b84f60782db3e4ac96f1f448b76e3bb  0   0  0  0  0  15  10  0  0  0  \n",
       "\n",
       "[10 rows x 24 columns]"
      ]
     },
     "execution_count": 156,
     "metadata": {},
     "output_type": "execute_result"
    }
   ],
   "source": [
    "extra_GB_hour_Pivot.sample(n=10)"
   ]
  },
  {
   "cell_type": "code",
   "execution_count": 157,
   "metadata": {},
   "outputs": [],
   "source": [
    "extra_GB_hour_Pivot.to_csv(\"data/user_profile/extra_usage/BB_extra_GB_usage_pivot_GB_hour.csv\")"
   ]
  },
  {
   "cell_type": "code",
   "execution_count": 158,
   "metadata": {},
   "outputs": [],
   "source": [
    "extra_GB_size_Pivot.to_csv(\"data/user_profile/extra_usage/BB_extra_GB_usage_pivot_GB_month.csv\")"
   ]
  },
  {
   "cell_type": "code",
   "execution_count": 159,
   "metadata": {},
   "outputs": [],
   "source": [
    "extra_GB_pivot_df.to_csv(\"data/user_profile/extra_usage/BB_extra_GB_usage_pivot_GBz_rental.csv\")"
   ]
  },
  {
   "cell_type": "code",
   "execution_count": null,
   "metadata": {},
   "outputs": [],
   "source": []
  },
  {
   "cell_type": "markdown",
   "metadata": {},
   "source": [
    "### Extracting USER_BB Package Map"
   ]
  },
  {
   "cell_type": "code",
   "execution_count": 166,
   "metadata": {},
   "outputs": [],
   "source": [
    "user_bb_package = extra_GB_details_df[[\"ACCOUNT_NUM.hash\",\"BB_Package\"]]"
   ]
  },
  {
   "cell_type": "code",
   "execution_count": 167,
   "metadata": {},
   "outputs": [
    {
     "name": "stderr",
     "output_type": "stream",
     "text": [
      "/Users/chiranhewawitharana/mambaforge/envs/mactf/lib/python3.8/site-packages/pandas/util/_decorators.py:311: SettingWithCopyWarning: \n",
      "A value is trying to be set on a copy of a slice from a DataFrame\n",
      "\n",
      "See the caveats in the documentation: https://pandas.pydata.org/pandas-docs/stable/user_guide/indexing.html#returning-a-view-versus-a-copy\n",
      "  return func(*args, **kwargs)\n"
     ]
    }
   ],
   "source": [
    "user_bb_package.drop_duplicates([\"ACCOUNT_NUM.hash\",\"BB_Package\"], inplace=True)"
   ]
  },
  {
   "cell_type": "code",
   "execution_count": 168,
   "metadata": {},
   "outputs": [
    {
     "name": "stdout",
     "output_type": "stream",
     "text": [
      "<class 'pandas.core.frame.DataFrame'>\n",
      "Int64Index: 32945 entries, 0 to 196188\n",
      "Data columns (total 2 columns):\n",
      " #   Column            Non-Null Count  Dtype \n",
      "---  ------            --------------  ----- \n",
      " 0   ACCOUNT_NUM.hash  32945 non-null  object\n",
      " 1   BB_Package        32945 non-null  object\n",
      "dtypes: object(2)\n",
      "memory usage: 772.1+ KB\n"
     ]
    }
   ],
   "source": [
    "user_bb_package.info()"
   ]
  },
  {
   "cell_type": "code",
   "execution_count": 169,
   "metadata": {},
   "outputs": [],
   "source": [
    "user_bb_package.to_csv(\"data/user_profile/User_BB_Package_Map.csv\")"
   ]
  },
  {
   "cell_type": "code",
   "execution_count": null,
   "metadata": {},
   "outputs": [],
   "source": []
  },
  {
   "cell_type": "markdown",
   "metadata": {},
   "source": [
    "## PeoTV Extra Channel Purchase Analysis"
   ]
  },
  {
   "cell_type": "code",
   "execution_count": 452,
   "metadata": {},
   "outputs": [],
   "source": [
    "extr_peo_df = pd.read_excel(\"data/4.6 PeoTVGO_alacarte.xlsx\")"
   ]
  },
  {
   "cell_type": "code",
   "execution_count": 453,
   "metadata": {},
   "outputs": [],
   "source": [
    "extr_peo_df.rename(columns={\"ACCOUNT_NO.hash\":\"ACCOUNT_NUM.hash\",\"REPORTING_MONTH_CAL_MONTH_CODE\":\"Month_Subscribed\",\"REVENUE_AMOUNT\":\"Rental\"}, inplace=True)\n",
    "extr_peo_df.drop(\"CODE_DESC\",axis=1,inplace=True)"
   ]
  },
  {
   "cell_type": "code",
   "execution_count": 454,
   "metadata": {},
   "outputs": [],
   "source": [
    "extr_peo_df[\"Month_Subscribed\"] = extr_peo_df[\"Month_Subscribed\"].apply(lambda x: date_correct_dwh(str(x)))"
   ]
  },
  {
   "cell_type": "code",
   "execution_count": 455,
   "metadata": {},
   "outputs": [
    {
     "data": {
      "text/html": [
       "<div>\n",
       "<style scoped>\n",
       "    .dataframe tbody tr th:only-of-type {\n",
       "        vertical-align: middle;\n",
       "    }\n",
       "\n",
       "    .dataframe tbody tr th {\n",
       "        vertical-align: top;\n",
       "    }\n",
       "\n",
       "    .dataframe thead th {\n",
       "        text-align: right;\n",
       "    }\n",
       "</style>\n",
       "<table border=\"1\" class=\"dataframe\">\n",
       "  <thead>\n",
       "    <tr style=\"text-align: right;\">\n",
       "      <th></th>\n",
       "      <th>ACCOUNT_NUM.hash</th>\n",
       "      <th>Month_Subscribed</th>\n",
       "      <th>Rental</th>\n",
       "    </tr>\n",
       "  </thead>\n",
       "  <tbody>\n",
       "    <tr>\n",
       "      <th>0</th>\n",
       "      <td>3387f94b7908e46e8044b4610f235956</td>\n",
       "      <td>2021-06</td>\n",
       "      <td>100</td>\n",
       "    </tr>\n",
       "    <tr>\n",
       "      <th>1</th>\n",
       "      <td>3550c79654ed413d0de3236b86c998f3</td>\n",
       "      <td>2021-01</td>\n",
       "      <td>100</td>\n",
       "    </tr>\n",
       "    <tr>\n",
       "      <th>2</th>\n",
       "      <td>1dbd5c11eec3d5728626fc02c58e7b35</td>\n",
       "      <td>2020-11</td>\n",
       "      <td>100</td>\n",
       "    </tr>\n",
       "    <tr>\n",
       "      <th>3</th>\n",
       "      <td>f6cdfda3e0ddeea693943d140103cf11</td>\n",
       "      <td>2021-06</td>\n",
       "      <td>100</td>\n",
       "    </tr>\n",
       "    <tr>\n",
       "      <th>4</th>\n",
       "      <td>0445b9c115455e7f28423addfbf02a7b</td>\n",
       "      <td>2021-06</td>\n",
       "      <td>100</td>\n",
       "    </tr>\n",
       "    <tr>\n",
       "      <th>...</th>\n",
       "      <td>...</td>\n",
       "      <td>...</td>\n",
       "      <td>...</td>\n",
       "    </tr>\n",
       "    <tr>\n",
       "      <th>151897</th>\n",
       "      <td>52dd12328a07f2239c5bb570027fb746</td>\n",
       "      <td>2021-04</td>\n",
       "      <td>100</td>\n",
       "    </tr>\n",
       "    <tr>\n",
       "      <th>151898</th>\n",
       "      <td>39cfdcf7aac416ad87f9ef77f62ab820</td>\n",
       "      <td>2021-05</td>\n",
       "      <td>100</td>\n",
       "    </tr>\n",
       "    <tr>\n",
       "      <th>151899</th>\n",
       "      <td>853b7824019d151ee948bf7d793290e9</td>\n",
       "      <td>2021-03</td>\n",
       "      <td>100</td>\n",
       "    </tr>\n",
       "    <tr>\n",
       "      <th>151900</th>\n",
       "      <td>5f81d8a701770ee401fce21af54e6601</td>\n",
       "      <td>2021-04</td>\n",
       "      <td>100</td>\n",
       "    </tr>\n",
       "    <tr>\n",
       "      <th>151901</th>\n",
       "      <td>2adba239729ea152fce543329585427c</td>\n",
       "      <td>2021-05</td>\n",
       "      <td>100</td>\n",
       "    </tr>\n",
       "  </tbody>\n",
       "</table>\n",
       "<p>151902 rows × 3 columns</p>\n",
       "</div>"
      ],
      "text/plain": [
       "                        ACCOUNT_NUM.hash Month_Subscribed  Rental\n",
       "0       3387f94b7908e46e8044b4610f235956          2021-06     100\n",
       "1       3550c79654ed413d0de3236b86c998f3          2021-01     100\n",
       "2       1dbd5c11eec3d5728626fc02c58e7b35          2020-11     100\n",
       "3       f6cdfda3e0ddeea693943d140103cf11          2021-06     100\n",
       "4       0445b9c115455e7f28423addfbf02a7b          2021-06     100\n",
       "...                                  ...              ...     ...\n",
       "151897  52dd12328a07f2239c5bb570027fb746          2021-04     100\n",
       "151898  39cfdcf7aac416ad87f9ef77f62ab820          2021-05     100\n",
       "151899  853b7824019d151ee948bf7d793290e9          2021-03     100\n",
       "151900  5f81d8a701770ee401fce21af54e6601          2021-04     100\n",
       "151901  2adba239729ea152fce543329585427c          2021-05     100\n",
       "\n",
       "[151902 rows x 3 columns]"
      ]
     },
     "execution_count": 455,
     "metadata": {},
     "output_type": "execute_result"
    }
   ],
   "source": [
    "extr_peo_df"
   ]
  },
  {
   "cell_type": "code",
   "execution_count": 456,
   "metadata": {},
   "outputs": [],
   "source": [
    "extr_peo_df.to_csv(\"data/user_profile/Peo_Extra_Peo_Usage.csv\")"
   ]
  },
  {
   "cell_type": "code",
   "execution_count": 457,
   "metadata": {},
   "outputs": [
    {
     "data": {
      "text/plain": [
       "array(['2021-06', '2021-01', '2020-11', '2020-12', '2021-04', '2021-08',\n",
       "       '2021-03', '2021-05', '2021-02', '2021-07'], dtype=object)"
      ]
     },
     "execution_count": 457,
     "metadata": {},
     "output_type": "execute_result"
    }
   ],
   "source": [
    "extr_peo_df[\"Month_Subscribed\"].unique()"
   ]
  },
  {
   "cell_type": "code",
   "execution_count": 458,
   "metadata": {},
   "outputs": [
    {
     "data": {
      "text/plain": [
       "21847"
      ]
     },
     "execution_count": 458,
     "metadata": {},
     "output_type": "execute_result"
    }
   ],
   "source": [
    "len(extr_peo_df[\"ACCOUNT_NUM.hash\"].unique())"
   ]
  },
  {
   "cell_type": "markdown",
   "metadata": {},
   "source": [
    "#### Extra PeoTV Channels Usage pivot matrix"
   ]
  },
  {
   "cell_type": "code",
   "execution_count": 459,
   "metadata": {},
   "outputs": [],
   "source": [
    "extra_Peo_pivot_df = pd.pivot_table(extr_peo_df[[\"ACCOUNT_NUM.hash\",\"Month_Subscribed\",\"Rental\"]],index=['ACCOUNT_NUM.hash'],columns=['Month_Subscribed'], aggfunc=np.sum, fill_value=0)"
   ]
  },
  {
   "cell_type": "code",
   "execution_count": 460,
   "metadata": {},
   "outputs": [
    {
     "data": {
      "text/html": [
       "<div>\n",
       "<style scoped>\n",
       "    .dataframe tbody tr th:only-of-type {\n",
       "        vertical-align: middle;\n",
       "    }\n",
       "\n",
       "    .dataframe tbody tr th {\n",
       "        vertical-align: top;\n",
       "    }\n",
       "\n",
       "    .dataframe thead tr th {\n",
       "        text-align: left;\n",
       "    }\n",
       "\n",
       "    .dataframe thead tr:last-of-type th {\n",
       "        text-align: right;\n",
       "    }\n",
       "</style>\n",
       "<table border=\"1\" class=\"dataframe\">\n",
       "  <thead>\n",
       "    <tr>\n",
       "      <th></th>\n",
       "      <th colspan=\"10\" halign=\"left\">Rental</th>\n",
       "    </tr>\n",
       "    <tr>\n",
       "      <th>Month_Subscribed</th>\n",
       "      <th>2020-11</th>\n",
       "      <th>2020-12</th>\n",
       "      <th>2021-01</th>\n",
       "      <th>2021-02</th>\n",
       "      <th>2021-03</th>\n",
       "      <th>2021-04</th>\n",
       "      <th>2021-05</th>\n",
       "      <th>2021-06</th>\n",
       "      <th>2021-07</th>\n",
       "      <th>2021-08</th>\n",
       "    </tr>\n",
       "    <tr>\n",
       "      <th>ACCOUNT_NUM.hash</th>\n",
       "      <th></th>\n",
       "      <th></th>\n",
       "      <th></th>\n",
       "      <th></th>\n",
       "      <th></th>\n",
       "      <th></th>\n",
       "      <th></th>\n",
       "      <th></th>\n",
       "      <th></th>\n",
       "      <th></th>\n",
       "    </tr>\n",
       "  </thead>\n",
       "  <tbody>\n",
       "    <tr>\n",
       "      <th>0004a755b44db1f8ba51083ec9f9943a</th>\n",
       "      <td>100</td>\n",
       "      <td>100</td>\n",
       "      <td>100</td>\n",
       "      <td>100</td>\n",
       "      <td>100</td>\n",
       "      <td>100</td>\n",
       "      <td>100</td>\n",
       "      <td>100</td>\n",
       "      <td>0</td>\n",
       "      <td>0</td>\n",
       "    </tr>\n",
       "    <tr>\n",
       "      <th>000586a5322b397309a2e5193401a16b</th>\n",
       "      <td>0</td>\n",
       "      <td>200</td>\n",
       "      <td>100</td>\n",
       "      <td>100</td>\n",
       "      <td>100</td>\n",
       "      <td>100</td>\n",
       "      <td>100</td>\n",
       "      <td>100</td>\n",
       "      <td>100</td>\n",
       "      <td>100</td>\n",
       "    </tr>\n",
       "    <tr>\n",
       "      <th>0006227a432e9f6cfaa7be6690b0cd88</th>\n",
       "      <td>0</td>\n",
       "      <td>0</td>\n",
       "      <td>0</td>\n",
       "      <td>0</td>\n",
       "      <td>0</td>\n",
       "      <td>0</td>\n",
       "      <td>100</td>\n",
       "      <td>100</td>\n",
       "      <td>0</td>\n",
       "      <td>0</td>\n",
       "    </tr>\n",
       "    <tr>\n",
       "      <th>000684b6cde6830fda873a1d40a49f68</th>\n",
       "      <td>0</td>\n",
       "      <td>0</td>\n",
       "      <td>0</td>\n",
       "      <td>0</td>\n",
       "      <td>0</td>\n",
       "      <td>0</td>\n",
       "      <td>100</td>\n",
       "      <td>100</td>\n",
       "      <td>100</td>\n",
       "      <td>100</td>\n",
       "    </tr>\n",
       "    <tr>\n",
       "      <th>000a0f8d9089b5a816f2079199ec5bf2</th>\n",
       "      <td>100</td>\n",
       "      <td>100</td>\n",
       "      <td>100</td>\n",
       "      <td>100</td>\n",
       "      <td>100</td>\n",
       "      <td>100</td>\n",
       "      <td>100</td>\n",
       "      <td>100</td>\n",
       "      <td>100</td>\n",
       "      <td>100</td>\n",
       "    </tr>\n",
       "    <tr>\n",
       "      <th>...</th>\n",
       "      <td>...</td>\n",
       "      <td>...</td>\n",
       "      <td>...</td>\n",
       "      <td>...</td>\n",
       "      <td>...</td>\n",
       "      <td>...</td>\n",
       "      <td>...</td>\n",
       "      <td>...</td>\n",
       "      <td>...</td>\n",
       "      <td>...</td>\n",
       "    </tr>\n",
       "    <tr>\n",
       "      <th>fff8eadc55c68db13084d6c2a0bdaf04</th>\n",
       "      <td>100</td>\n",
       "      <td>100</td>\n",
       "      <td>100</td>\n",
       "      <td>100</td>\n",
       "      <td>100</td>\n",
       "      <td>100</td>\n",
       "      <td>100</td>\n",
       "      <td>100</td>\n",
       "      <td>100</td>\n",
       "      <td>100</td>\n",
       "    </tr>\n",
       "    <tr>\n",
       "      <th>fff92bc23d485b7090268e681865909d</th>\n",
       "      <td>100</td>\n",
       "      <td>100</td>\n",
       "      <td>100</td>\n",
       "      <td>100</td>\n",
       "      <td>100</td>\n",
       "      <td>100</td>\n",
       "      <td>100</td>\n",
       "      <td>100</td>\n",
       "      <td>100</td>\n",
       "      <td>100</td>\n",
       "    </tr>\n",
       "    <tr>\n",
       "      <th>fff9b9f1dec9600b395764c60bf0c613</th>\n",
       "      <td>100</td>\n",
       "      <td>100</td>\n",
       "      <td>100</td>\n",
       "      <td>100</td>\n",
       "      <td>100</td>\n",
       "      <td>100</td>\n",
       "      <td>100</td>\n",
       "      <td>100</td>\n",
       "      <td>100</td>\n",
       "      <td>100</td>\n",
       "    </tr>\n",
       "    <tr>\n",
       "      <th>fff9eb21ed5749ce2e9fef58dd9b2921</th>\n",
       "      <td>100</td>\n",
       "      <td>100</td>\n",
       "      <td>100</td>\n",
       "      <td>100</td>\n",
       "      <td>100</td>\n",
       "      <td>100</td>\n",
       "      <td>100</td>\n",
       "      <td>100</td>\n",
       "      <td>100</td>\n",
       "      <td>100</td>\n",
       "    </tr>\n",
       "    <tr>\n",
       "      <th>ffffc5e8b422416f0bc4e272d6a3eb6d</th>\n",
       "      <td>0</td>\n",
       "      <td>0</td>\n",
       "      <td>0</td>\n",
       "      <td>0</td>\n",
       "      <td>0</td>\n",
       "      <td>100</td>\n",
       "      <td>100</td>\n",
       "      <td>100</td>\n",
       "      <td>100</td>\n",
       "      <td>100</td>\n",
       "    </tr>\n",
       "  </tbody>\n",
       "</table>\n",
       "<p>21847 rows × 10 columns</p>\n",
       "</div>"
      ],
      "text/plain": [
       "                                  Rental                                  \\\n",
       "Month_Subscribed                 2020-11 2020-12 2021-01 2021-02 2021-03   \n",
       "ACCOUNT_NUM.hash                                                           \n",
       "0004a755b44db1f8ba51083ec9f9943a     100     100     100     100     100   \n",
       "000586a5322b397309a2e5193401a16b       0     200     100     100     100   \n",
       "0006227a432e9f6cfaa7be6690b0cd88       0       0       0       0       0   \n",
       "000684b6cde6830fda873a1d40a49f68       0       0       0       0       0   \n",
       "000a0f8d9089b5a816f2079199ec5bf2     100     100     100     100     100   \n",
       "...                                  ...     ...     ...     ...     ...   \n",
       "fff8eadc55c68db13084d6c2a0bdaf04     100     100     100     100     100   \n",
       "fff92bc23d485b7090268e681865909d     100     100     100     100     100   \n",
       "fff9b9f1dec9600b395764c60bf0c613     100     100     100     100     100   \n",
       "fff9eb21ed5749ce2e9fef58dd9b2921     100     100     100     100     100   \n",
       "ffffc5e8b422416f0bc4e272d6a3eb6d       0       0       0       0       0   \n",
       "\n",
       "                                                                          \n",
       "Month_Subscribed                 2021-04 2021-05 2021-06 2021-07 2021-08  \n",
       "ACCOUNT_NUM.hash                                                          \n",
       "0004a755b44db1f8ba51083ec9f9943a     100     100     100       0       0  \n",
       "000586a5322b397309a2e5193401a16b     100     100     100     100     100  \n",
       "0006227a432e9f6cfaa7be6690b0cd88       0     100     100       0       0  \n",
       "000684b6cde6830fda873a1d40a49f68       0     100     100     100     100  \n",
       "000a0f8d9089b5a816f2079199ec5bf2     100     100     100     100     100  \n",
       "...                                  ...     ...     ...     ...     ...  \n",
       "fff8eadc55c68db13084d6c2a0bdaf04     100     100     100     100     100  \n",
       "fff92bc23d485b7090268e681865909d     100     100     100     100     100  \n",
       "fff9b9f1dec9600b395764c60bf0c613     100     100     100     100     100  \n",
       "fff9eb21ed5749ce2e9fef58dd9b2921     100     100     100     100     100  \n",
       "ffffc5e8b422416f0bc4e272d6a3eb6d     100     100     100     100     100  \n",
       "\n",
       "[21847 rows x 10 columns]"
      ]
     },
     "execution_count": 460,
     "metadata": {},
     "output_type": "execute_result"
    }
   ],
   "source": [
    "extra_Peo_pivot_df"
   ]
  },
  {
   "cell_type": "code",
   "execution_count": 461,
   "metadata": {},
   "outputs": [],
   "source": [
    "extra_Peo_pivot_df.to_csv(\"data/user_profile/extra_usage/Peo_extra_Peo_usage_pivot_extended.csv\")"
   ]
  },
  {
   "cell_type": "markdown",
   "metadata": {},
   "source": [
    "#### Insights\n",
    "- 21847 Unique customers - extra Channel purchases in moths vary from 2020-11 to 2021-08"
   ]
  },
  {
   "cell_type": "code",
   "execution_count": null,
   "metadata": {},
   "outputs": [],
   "source": []
  },
  {
   "cell_type": "markdown",
   "metadata": {},
   "source": [
    "## Exporting Package names list"
   ]
  },
  {
   "cell_type": "code",
   "execution_count": 298,
   "metadata": {},
   "outputs": [
    {
     "data": {
      "text/html": [
       "<div>\n",
       "<style scoped>\n",
       "    .dataframe tbody tr th:only-of-type {\n",
       "        vertical-align: middle;\n",
       "    }\n",
       "\n",
       "    .dataframe tbody tr th {\n",
       "        vertical-align: top;\n",
       "    }\n",
       "\n",
       "    .dataframe thead th {\n",
       "        text-align: right;\n",
       "    }\n",
       "</style>\n",
       "<table border=\"1\" class=\"dataframe\">\n",
       "  <thead>\n",
       "    <tr style=\"text-align: right;\">\n",
       "      <th></th>\n",
       "      <th>Package</th>\n",
       "    </tr>\n",
       "  </thead>\n",
       "  <tbody>\n",
       "    <tr>\n",
       "      <th>0</th>\n",
       "      <td>KASP</td>\n",
       "    </tr>\n",
       "    <tr>\n",
       "      <th>1</th>\n",
       "      <td>BB_SLT BroadBand Service</td>\n",
       "    </tr>\n",
       "    <tr>\n",
       "      <th>2</th>\n",
       "      <td>V_SLT Voice Service</td>\n",
       "    </tr>\n",
       "    <tr>\n",
       "      <th>3</th>\n",
       "      <td>AB_WireLess Access</td>\n",
       "    </tr>\n",
       "    <tr>\n",
       "      <th>4</th>\n",
       "      <td>E_SLT PeoTV Service</td>\n",
       "    </tr>\n",
       "    <tr>\n",
       "      <th>...</th>\n",
       "      <td>...</td>\n",
       "    </tr>\n",
       "    <tr>\n",
       "      <th>136</th>\n",
       "      <td>BB Personal Storage</td>\n",
       "    </tr>\n",
       "    <tr>\n",
       "      <th>137</th>\n",
       "      <td>PEO TV Go Basic Package</td>\n",
       "    </tr>\n",
       "    <tr>\n",
       "      <th>138</th>\n",
       "      <td>PEO TV Go VAS</td>\n",
       "    </tr>\n",
       "    <tr>\n",
       "      <th>139</th>\n",
       "      <td>PEO TV Go SVOD</td>\n",
       "    </tr>\n",
       "    <tr>\n",
       "      <th>140</th>\n",
       "      <td>FTTH_Streamer Premium Subscription</td>\n",
       "    </tr>\n",
       "  </tbody>\n",
       "</table>\n",
       "<p>141 rows × 1 columns</p>\n",
       "</div>"
      ],
      "text/plain": [
       "                                Package\n",
       "0                                  KASP\n",
       "1              BB_SLT BroadBand Service\n",
       "2                   V_SLT Voice Service\n",
       "3                    AB_WireLess Access\n",
       "4                   E_SLT PeoTV Service\n",
       "..                                  ...\n",
       "136                 BB Personal Storage\n",
       "137             PEO TV Go Basic Package\n",
       "138                       PEO TV Go VAS\n",
       "139                      PEO TV Go SVOD\n",
       "140  FTTH_Streamer Premium Subscription\n",
       "\n",
       "[141 rows x 1 columns]"
      ]
     },
     "execution_count": 298,
     "metadata": {},
     "output_type": "execute_result"
    }
   ],
   "source": [
    "vas_list = vas_final_df['Package'].unique()\n",
    "vas_list_df = pd.DataFrame({\"Package\":vas_list })\n",
    "vas_list_df"
   ]
  },
  {
   "cell_type": "code",
   "execution_count": 299,
   "metadata": {},
   "outputs": [],
   "source": [
    "vas_list_df.to_csv(\"data/product_catalog/Package_Names_Only_List.csv\")"
   ]
  },
  {
   "cell_type": "code",
   "execution_count": null,
   "metadata": {},
   "outputs": [],
   "source": []
  },
  {
   "cell_type": "markdown",
   "metadata": {},
   "source": [
    "## Exporting Package info Dataset"
   ]
  },
  {
   "cell_type": "code",
   "execution_count": 300,
   "metadata": {},
   "outputs": [
    {
     "name": "stdout",
     "output_type": "stream",
     "text": [
      "<class 'pandas.core.frame.DataFrame'>\n",
      "Int64Index: 437080 entries, 0 to 437079\n",
      "Data columns (total 15 columns):\n",
      " #   Column             Non-Null Count   Dtype \n",
      "---  ------             --------------   ----- \n",
      " 0   ACCOUNT_NUM.hash   437080 non-null  object\n",
      " 1   Package            437080 non-null  object\n",
      " 2   Rental             200829 non-null  object\n",
      " 3   Month_Subscribed   436897 non-null  object\n",
      " 4   PRODUCT_NAME       324059 non-null  object\n",
      " 5   MEDIUM             303727 non-null  object\n",
      " 6   TARIFF_NAME        324059 non-null  object\n",
      " 7   TARIFF_DESC        324059 non-null  object\n",
      " 8   Package_Type       437080 non-null  object\n",
      " 9   Product_Type       312898 non-null  object\n",
      " 10  is_VAS             437080 non-null  object\n",
      " 11  is_Subscription    437080 non-null  object\n",
      " 12  is_Promotion       437080 non-null  object\n",
      " 13  FREE_or_PAID       437080 non-null  object\n",
      " 14  Package_Formatted  437080 non-null  object\n",
      "dtypes: object(15)\n",
      "memory usage: 53.4+ MB\n"
     ]
    }
   ],
   "source": [
    "vas_final_df.info()"
   ]
  },
  {
   "cell_type": "code",
   "execution_count": 302,
   "metadata": {},
   "outputs": [],
   "source": [
    "packages_info_df = vas_final_df[[\"Package\",\"Rental\",\"Package_Type\",\"Product_Type\",\"MEDIUM\",\"TARIFF_NAME\",\"TARIFF_DESC\",\"is_VAS\",\"is_Promotion\",\"is_Subscription\",\"FREE_or_PAID\"]].drop_duplicates([\"Package\"],keep=\"last\")"
   ]
  },
  {
   "cell_type": "code",
   "execution_count": 303,
   "metadata": {},
   "outputs": [],
   "source": [
    "packages_info_df.reset_index(inplace=True)\n",
    "packages_info_df.drop([\"index\"],axis=1, inplace=True)"
   ]
  },
  {
   "cell_type": "code",
   "execution_count": 304,
   "metadata": {},
   "outputs": [
    {
     "name": "stdout",
     "output_type": "stream",
     "text": [
      "<class 'pandas.core.frame.DataFrame'>\n",
      "RangeIndex: 141 entries, 0 to 140\n",
      "Data columns (total 11 columns):\n",
      " #   Column           Non-Null Count  Dtype \n",
      "---  ------           --------------  ----- \n",
      " 0   Package          141 non-null    object\n",
      " 1   Rental           126 non-null    object\n",
      " 2   Package_Type     141 non-null    object\n",
      " 3   Product_Type     35 non-null     object\n",
      " 4   MEDIUM           22 non-null     object\n",
      " 5   TARIFF_NAME      28 non-null     object\n",
      " 6   TARIFF_DESC      28 non-null     object\n",
      " 7   is_VAS           141 non-null    object\n",
      " 8   is_Promotion     141 non-null    object\n",
      " 9   is_Subscription  141 non-null    object\n",
      " 10  FREE_or_PAID     141 non-null    object\n",
      "dtypes: object(11)\n",
      "memory usage: 12.2+ KB\n"
     ]
    }
   ],
   "source": [
    "packages_info_df.info()"
   ]
  },
  {
   "cell_type": "code",
   "execution_count": 305,
   "metadata": {},
   "outputs": [],
   "source": [
    "packages_info_df.to_csv(\"data/product_catalog/Packages_Info.csv\")"
   ]
  },
  {
   "cell_type": "code",
   "execution_count": null,
   "metadata": {},
   "outputs": [],
   "source": []
  },
  {
   "cell_type": "markdown",
   "metadata": {},
   "source": [
    "## Exporting VAS aggregated DataFrame"
   ]
  },
  {
   "cell_type": "code",
   "execution_count": 331,
   "metadata": {},
   "outputs": [],
   "source": [
    "vas_final_df.drop_duplicates([\"ACCOUNT_NUM.hash\",\"Package\"],inplace=True,keep=\"last\")"
   ]
  },
  {
   "cell_type": "code",
   "execution_count": 332,
   "metadata": {},
   "outputs": [
    {
     "data": {
      "text/plain": [
       "ACCOUNT_NUM.hash        0\n",
       "Package                 1\n",
       "Month_Subscribed        0\n",
       "Rental              11867\n",
       "One_Time_Charge     14707\n",
       "MEDIUM               3603\n",
       "TARIFF_NAME          3603\n",
       "TARIFF_DESC          3603\n",
       "Package_Type            1\n",
       "Product_Type         3497\n",
       "is_VAS                  1\n",
       "is_Subscription         1\n",
       "FREE_or_PAID            1\n",
       "dtype: int64"
      ]
     },
     "execution_count": 332,
     "metadata": {},
     "output_type": "execute_result"
    }
   ],
   "source": [
    "vas_final_df.isnull().sum(axis=0)"
   ]
  },
  {
   "cell_type": "markdown",
   "metadata": {},
   "source": [
    "#### PAID All Packages"
   ]
  },
  {
   "cell_type": "code",
   "execution_count": 306,
   "metadata": {},
   "outputs": [],
   "source": [
    "# paid_pack_df = vas_final_df[(vas_final_df[\"FREE_or_PAID\"]==\"PAID\")].groupby('ACCOUNT_NUM.hash') \\\n",
    "#             .agg({'Package': lambda x: list(x[x.notna()]),\n",
    "#                   'Month_Subscribed': lambda x: list(x[x.notna()]),\n",
    "#                   'Rental': lambda x: list(x[x.notna()]),\n",
    "#                   'One_Time_Charge': lambda x: list(x[x.notna()]),\n",
    "#                   'Package_Type': lambda x: list(x[x.notna()]),\n",
    "#                   'Product_Type': lambda x: list(x[x.notna()]),\n",
    "#                   'MEDIUM': lambda x: list(x[x.notna()]),\n",
    "#                   'is_VAS': lambda x: list(x[x.notna()]),\n",
    "#                   'is_Subscription': lambda x: list(x[x.notna()]),\n",
    "#                   'is_Promotion': lambda x: list(x[x.notna()])\n",
    "#                  }).reset_index()"
   ]
  },
  {
   "cell_type": "code",
   "execution_count": 307,
   "metadata": {},
   "outputs": [],
   "source": [
    "# paid_pack_df.info()"
   ]
  },
  {
   "cell_type": "markdown",
   "metadata": {},
   "source": [
    "### PAID VAS"
   ]
  },
  {
   "cell_type": "code",
   "execution_count": 309,
   "metadata": {},
   "outputs": [],
   "source": [
    "paid_vas_df = vas_final_df[((vas_final_df[\"FREE_or_PAID\"]==\"PAID\") & (vas_final_df[\"is_VAS\"]==\"YES\"))].groupby('ACCOUNT_NUM.hash') \\\n",
    "            .agg({'Package': lambda x: list(x[x.notna()]),\n",
    "                  'Month_Subscribed': lambda x: list(x[x.notna()]),\n",
    "                  'Rental': lambda x: list(x[x.notna()]),\n",
    "                  'Package_Type': lambda x: list(x[x.notna()]),\n",
    "                  'Product_Type': lambda x: list(x[x.notna()]),\n",
    "                  'MEDIUM': lambda x: list(x[x.notna()]),\n",
    "                 }).reset_index()"
   ]
  },
  {
   "cell_type": "code",
   "execution_count": 310,
   "metadata": {},
   "outputs": [
    {
     "name": "stdout",
     "output_type": "stream",
     "text": [
      "<class 'pandas.core.frame.DataFrame'>\n",
      "RangeIndex: 34667 entries, 0 to 34666\n",
      "Data columns (total 7 columns):\n",
      " #   Column            Non-Null Count  Dtype \n",
      "---  ------            --------------  ----- \n",
      " 0   ACCOUNT_NUM.hash  34667 non-null  object\n",
      " 1   Package           34667 non-null  object\n",
      " 2   Month_Subscribed  34667 non-null  object\n",
      " 3   Rental            34667 non-null  object\n",
      " 4   Package_Type      34667 non-null  object\n",
      " 5   Product_Type      34667 non-null  object\n",
      " 6   MEDIUM            34667 non-null  object\n",
      "dtypes: object(7)\n",
      "memory usage: 1.9+ MB\n"
     ]
    }
   ],
   "source": [
    "paid_vas_df.info()"
   ]
  },
  {
   "cell_type": "code",
   "execution_count": 311,
   "metadata": {},
   "outputs": [],
   "source": [
    "paid_vas_df.to_csv(\"data/user_profile/Paid_Vas_Packages.csv\")"
   ]
  },
  {
   "cell_type": "code",
   "execution_count": null,
   "metadata": {},
   "outputs": [],
   "source": []
  },
  {
   "cell_type": "markdown",
   "metadata": {},
   "source": [
    "### Categorized Package Dataset"
   ]
  },
  {
   "cell_type": "code",
   "execution_count": 428,
   "metadata": {},
   "outputs": [],
   "source": [
    "megaline_package_df = vas_final_df[((vas_final_df[\"is_Subscription\"]==\"YES\") &  (vas_final_df[\"Product_Type\"]==\"Megaline\"))].groupby('ACCOUNT_NUM.hash') \\\n",
    "            .agg({'Package': lambda x: list(set(list(x[x.notna()]))),\n",
    "                  'Month_Subscribed': lambda x: list(set(list(x[x.notna()]))),\n",
    "                  'Rental': lambda x: list(set(list(x[x.notna()]))),\n",
    "                  'Package_Type': lambda x: list(set(list(x[x.notna()]))),\n",
    "                  'MEDIUM': lambda x: list(set(list(x[x.notna()]))),\n",
    "                  'is_Promotion': lambda x: list(set(list(x[x.notna()]))),\n",
    "                 }).reset_index()"
   ]
  },
  {
   "cell_type": "code",
   "execution_count": 429,
   "metadata": {},
   "outputs": [],
   "source": [
    "megaline_package_df.rename(columns={\"Package\":\"Megaline_Package\",\"Month_Subscribed\":\"Megaline_Month_Subscribed\",\\\n",
    "                               \"Rental\":\"Megaline_Rental\"},inplace=True)"
   ]
  },
  {
   "cell_type": "code",
   "execution_count": 430,
   "metadata": {},
   "outputs": [
    {
     "data": {
      "text/html": [
       "<div>\n",
       "<style scoped>\n",
       "    .dataframe tbody tr th:only-of-type {\n",
       "        vertical-align: middle;\n",
       "    }\n",
       "\n",
       "    .dataframe tbody tr th {\n",
       "        vertical-align: top;\n",
       "    }\n",
       "\n",
       "    .dataframe thead th {\n",
       "        text-align: right;\n",
       "    }\n",
       "</style>\n",
       "<table border=\"1\" class=\"dataframe\">\n",
       "  <thead>\n",
       "    <tr style=\"text-align: right;\">\n",
       "      <th></th>\n",
       "      <th>ACCOUNT_NUM.hash</th>\n",
       "      <th>Megaline_Package</th>\n",
       "      <th>Megaline_Month_Subscribed</th>\n",
       "      <th>Megaline_Rental</th>\n",
       "      <th>Package_Type</th>\n",
       "      <th>MEDIUM</th>\n",
       "      <th>is_Promotion</th>\n",
       "    </tr>\n",
       "  </thead>\n",
       "  <tbody>\n",
       "    <tr>\n",
       "      <th>0</th>\n",
       "      <td>0002b6822fbf6c4ea60b145bf0ed2cc3</td>\n",
       "      <td>[V_SLT Voice Service, AB_Copper Access Bearer]</td>\n",
       "      <td>[2018-08]</td>\n",
       "      <td>[]</td>\n",
       "      <td>[Voice, Other]</td>\n",
       "      <td>[COPPER]</td>\n",
       "      <td>[NO]</td>\n",
       "    </tr>\n",
       "    <tr>\n",
       "      <th>1</th>\n",
       "      <td>0003102d10a11c8f2f0f241f00a36b2d</td>\n",
       "      <td>[V_SLT Voice Service, AB_Copper Access Bearer]</td>\n",
       "      <td>[2019-11]</td>\n",
       "      <td>[]</td>\n",
       "      <td>[Voice, Other]</td>\n",
       "      <td>[COPPER]</td>\n",
       "      <td>[NO]</td>\n",
       "    </tr>\n",
       "    <tr>\n",
       "      <th>2</th>\n",
       "      <td>0003df7598926f578f53ecd9e424f3c9</td>\n",
       "      <td>[V_SLT Voice Service]</td>\n",
       "      <td>[2019-05]</td>\n",
       "      <td>[]</td>\n",
       "      <td>[Voice]</td>\n",
       "      <td>[COPPER]</td>\n",
       "      <td>[NO]</td>\n",
       "    </tr>\n",
       "    <tr>\n",
       "      <th>3</th>\n",
       "      <td>000417b4ce7957159bae4d3485bff47e</td>\n",
       "      <td>[V_SLT Voice Service]</td>\n",
       "      <td>[2019-06]</td>\n",
       "      <td>[0]</td>\n",
       "      <td>[Voice]</td>\n",
       "      <td>[COPPER]</td>\n",
       "      <td>[NO]</td>\n",
       "    </tr>\n",
       "    <tr>\n",
       "      <th>4</th>\n",
       "      <td>00067185c36c0a8ce58487a5be60dd97</td>\n",
       "      <td>[V_SLT Voice Service, AB_Copper Access Bearer]</td>\n",
       "      <td>[2018-08]</td>\n",
       "      <td>[]</td>\n",
       "      <td>[Voice, Other]</td>\n",
       "      <td>[COPPER]</td>\n",
       "      <td>[NO]</td>\n",
       "    </tr>\n",
       "    <tr>\n",
       "      <th>...</th>\n",
       "      <td>...</td>\n",
       "      <td>...</td>\n",
       "      <td>...</td>\n",
       "      <td>...</td>\n",
       "      <td>...</td>\n",
       "      <td>...</td>\n",
       "      <td>...</td>\n",
       "    </tr>\n",
       "    <tr>\n",
       "      <th>80755</th>\n",
       "      <td>fffd0b8541e9f62496092d2ea8609135</td>\n",
       "      <td>[E_SLT PeoTV Service, V_SLT Voice Service]</td>\n",
       "      <td>[2018-05]</td>\n",
       "      <td>[2099]</td>\n",
       "      <td>[PeoTV, Voice]</td>\n",
       "      <td>[COPPER]</td>\n",
       "      <td>[NO]</td>\n",
       "    </tr>\n",
       "    <tr>\n",
       "      <th>80756</th>\n",
       "      <td>fffd3dc8b510af9a13d16ca30002b88e</td>\n",
       "      <td>[V_SLT Voice Service, AB_Copper Access Bearer]</td>\n",
       "      <td>[2018-08]</td>\n",
       "      <td>[]</td>\n",
       "      <td>[Voice, Other]</td>\n",
       "      <td>[COPPER]</td>\n",
       "      <td>[NO]</td>\n",
       "    </tr>\n",
       "    <tr>\n",
       "      <th>80757</th>\n",
       "      <td>ffff229b6656157ab0f7ad53709b8879</td>\n",
       "      <td>[V_SLT Voice Service, AB_Copper Access Bearer]</td>\n",
       "      <td>[2018-08]</td>\n",
       "      <td>[]</td>\n",
       "      <td>[Voice, Other]</td>\n",
       "      <td>[COPPER]</td>\n",
       "      <td>[NO]</td>\n",
       "    </tr>\n",
       "    <tr>\n",
       "      <th>80758</th>\n",
       "      <td>ffff7fc0c266ac5b34f91de1ba4f3039</td>\n",
       "      <td>[E_SLT PeoTV Service, V_SLT Voice Service, AB_...</td>\n",
       "      <td>[2018-08]</td>\n",
       "      <td>[899]</td>\n",
       "      <td>[PeoTV, Voice, Other]</td>\n",
       "      <td>[COPPER]</td>\n",
       "      <td>[NO]</td>\n",
       "    </tr>\n",
       "    <tr>\n",
       "      <th>80759</th>\n",
       "      <td>ffffe6d0d44f76428f676bd36e83df76</td>\n",
       "      <td>[V_SLT Voice Service, AB_Copper Access Bearer]</td>\n",
       "      <td>[2018-08]</td>\n",
       "      <td>[]</td>\n",
       "      <td>[Voice, Other]</td>\n",
       "      <td>[COPPER]</td>\n",
       "      <td>[NO]</td>\n",
       "    </tr>\n",
       "  </tbody>\n",
       "</table>\n",
       "<p>80760 rows × 7 columns</p>\n",
       "</div>"
      ],
      "text/plain": [
       "                       ACCOUNT_NUM.hash  \\\n",
       "0      0002b6822fbf6c4ea60b145bf0ed2cc3   \n",
       "1      0003102d10a11c8f2f0f241f00a36b2d   \n",
       "2      0003df7598926f578f53ecd9e424f3c9   \n",
       "3      000417b4ce7957159bae4d3485bff47e   \n",
       "4      00067185c36c0a8ce58487a5be60dd97   \n",
       "...                                 ...   \n",
       "80755  fffd0b8541e9f62496092d2ea8609135   \n",
       "80756  fffd3dc8b510af9a13d16ca30002b88e   \n",
       "80757  ffff229b6656157ab0f7ad53709b8879   \n",
       "80758  ffff7fc0c266ac5b34f91de1ba4f3039   \n",
       "80759  ffffe6d0d44f76428f676bd36e83df76   \n",
       "\n",
       "                                        Megaline_Package  \\\n",
       "0         [V_SLT Voice Service, AB_Copper Access Bearer]   \n",
       "1         [V_SLT Voice Service, AB_Copper Access Bearer]   \n",
       "2                                  [V_SLT Voice Service]   \n",
       "3                                  [V_SLT Voice Service]   \n",
       "4         [V_SLT Voice Service, AB_Copper Access Bearer]   \n",
       "...                                                  ...   \n",
       "80755         [E_SLT PeoTV Service, V_SLT Voice Service]   \n",
       "80756     [V_SLT Voice Service, AB_Copper Access Bearer]   \n",
       "80757     [V_SLT Voice Service, AB_Copper Access Bearer]   \n",
       "80758  [E_SLT PeoTV Service, V_SLT Voice Service, AB_...   \n",
       "80759     [V_SLT Voice Service, AB_Copper Access Bearer]   \n",
       "\n",
       "      Megaline_Month_Subscribed Megaline_Rental           Package_Type  \\\n",
       "0                     [2018-08]              []         [Voice, Other]   \n",
       "1                     [2019-11]              []         [Voice, Other]   \n",
       "2                     [2019-05]              []                [Voice]   \n",
       "3                     [2019-06]             [0]                [Voice]   \n",
       "4                     [2018-08]              []         [Voice, Other]   \n",
       "...                         ...             ...                    ...   \n",
       "80755                 [2018-05]          [2099]         [PeoTV, Voice]   \n",
       "80756                 [2018-08]              []         [Voice, Other]   \n",
       "80757                 [2018-08]              []         [Voice, Other]   \n",
       "80758                 [2018-08]           [899]  [PeoTV, Voice, Other]   \n",
       "80759                 [2018-08]              []         [Voice, Other]   \n",
       "\n",
       "         MEDIUM is_Promotion  \n",
       "0      [COPPER]         [NO]  \n",
       "1      [COPPER]         [NO]  \n",
       "2      [COPPER]         [NO]  \n",
       "3      [COPPER]         [NO]  \n",
       "4      [COPPER]         [NO]  \n",
       "...         ...          ...  \n",
       "80755  [COPPER]         [NO]  \n",
       "80756  [COPPER]         [NO]  \n",
       "80757  [COPPER]         [NO]  \n",
       "80758  [COPPER]         [NO]  \n",
       "80759  [COPPER]         [NO]  \n",
       "\n",
       "[80760 rows x 7 columns]"
      ]
     },
     "execution_count": 430,
     "metadata": {},
     "output_type": "execute_result"
    }
   ],
   "source": [
    "megaline_package_df"
   ]
  },
  {
   "cell_type": "code",
   "execution_count": 434,
   "metadata": {},
   "outputs": [],
   "source": [
    "megaline_package_df.to_csv(\"data/user_profile/Megaline_Packages.csv\")"
   ]
  },
  {
   "cell_type": "code",
   "execution_count": 431,
   "metadata": {},
   "outputs": [],
   "source": [
    "ftth_package_df = vas_final_df[((vas_final_df[\"is_Subscription\"]==\"YES\") &  (vas_final_df[\"Product_Type\"]==\"FTTH\"))].groupby('ACCOUNT_NUM.hash') \\\n",
    "            .agg({'Package': lambda x: list(set(list(x[x.notna()]))),\n",
    "                  'Month_Subscribed': lambda x: list(set(list(x[x.notna()]))),\n",
    "                  'Rental': lambda x: list(set(list(x[x.notna()]))),\n",
    "                  'Package_Type': lambda x: list(set(list(x[x.notna()]))),\n",
    "                  'MEDIUM': lambda x: list(set(list(x[x.notna()]))),\n",
    "                  'is_Promotion': lambda x: list(set(list(x[x.notna()]))),\n",
    "                 }).reset_index()"
   ]
  },
  {
   "cell_type": "code",
   "execution_count": 432,
   "metadata": {},
   "outputs": [],
   "source": [
    "ftth_package_df.rename(columns={\"Package\":\"FTTH_Package\",\"Month_Subscribed\":\"FTTH_Month_Subscribed\",\\\n",
    "                               \"Rental\":\"FTTH_Rental\"},inplace=True)"
   ]
  },
  {
   "cell_type": "code",
   "execution_count": 433,
   "metadata": {},
   "outputs": [
    {
     "data": {
      "text/html": [
       "<div>\n",
       "<style scoped>\n",
       "    .dataframe tbody tr th:only-of-type {\n",
       "        vertical-align: middle;\n",
       "    }\n",
       "\n",
       "    .dataframe tbody tr th {\n",
       "        vertical-align: top;\n",
       "    }\n",
       "\n",
       "    .dataframe thead th {\n",
       "        text-align: right;\n",
       "    }\n",
       "</style>\n",
       "<table border=\"1\" class=\"dataframe\">\n",
       "  <thead>\n",
       "    <tr style=\"text-align: right;\">\n",
       "      <th></th>\n",
       "      <th>ACCOUNT_NUM.hash</th>\n",
       "      <th>FTTH_Package</th>\n",
       "      <th>FTTH_Month_Subscribed</th>\n",
       "      <th>FTTH_Rental</th>\n",
       "      <th>Package_Type</th>\n",
       "      <th>MEDIUM</th>\n",
       "      <th>is_Promotion</th>\n",
       "    </tr>\n",
       "  </thead>\n",
       "  <tbody>\n",
       "    <tr>\n",
       "      <th>0</th>\n",
       "      <td>0003df7598926f578f53ecd9e424f3c9</td>\n",
       "      <td>[AB_Fiber Access Bearer]</td>\n",
       "      <td>[2019-05]</td>\n",
       "      <td>[]</td>\n",
       "      <td>[Other]</td>\n",
       "      <td>[]</td>\n",
       "      <td>[NO]</td>\n",
       "    </tr>\n",
       "    <tr>\n",
       "      <th>1</th>\n",
       "      <td>000f1aa5bd19fc28f99766f1b85a6be3</td>\n",
       "      <td>[AB_Fiber Access Bearer]</td>\n",
       "      <td>[2017-12]</td>\n",
       "      <td>[]</td>\n",
       "      <td>[Other]</td>\n",
       "      <td>[]</td>\n",
       "      <td>[NO]</td>\n",
       "    </tr>\n",
       "    <tr>\n",
       "      <th>2</th>\n",
       "      <td>00103d1ae201c2ddb33b965f44f280b1</td>\n",
       "      <td>[AB_Fiber Access Bearer]</td>\n",
       "      <td>[2015-09]</td>\n",
       "      <td>[]</td>\n",
       "      <td>[Other]</td>\n",
       "      <td>[]</td>\n",
       "      <td>[NO]</td>\n",
       "    </tr>\n",
       "    <tr>\n",
       "      <th>3</th>\n",
       "      <td>001461eda095f55eb35ea34116af1598</td>\n",
       "      <td>[AB_Fiber Access Bearer]</td>\n",
       "      <td>[2017-11]</td>\n",
       "      <td>[]</td>\n",
       "      <td>[Other]</td>\n",
       "      <td>[]</td>\n",
       "      <td>[NO]</td>\n",
       "    </tr>\n",
       "    <tr>\n",
       "      <th>4</th>\n",
       "      <td>001e2b18f91f221782a539608896254d</td>\n",
       "      <td>[AB_Fiber Access Bearer]</td>\n",
       "      <td>[2017-12]</td>\n",
       "      <td>[]</td>\n",
       "      <td>[Other]</td>\n",
       "      <td>[]</td>\n",
       "      <td>[NO]</td>\n",
       "    </tr>\n",
       "    <tr>\n",
       "      <th>...</th>\n",
       "      <td>...</td>\n",
       "      <td>...</td>\n",
       "      <td>...</td>\n",
       "      <td>...</td>\n",
       "      <td>...</td>\n",
       "      <td>...</td>\n",
       "      <td>...</td>\n",
       "    </tr>\n",
       "    <tr>\n",
       "      <th>8416</th>\n",
       "      <td>ffdfae2004f9844428523794a8216efb</td>\n",
       "      <td>[AB_Fiber Access Bearer]</td>\n",
       "      <td>[2018-02]</td>\n",
       "      <td>[]</td>\n",
       "      <td>[Other]</td>\n",
       "      <td>[]</td>\n",
       "      <td>[NO]</td>\n",
       "    </tr>\n",
       "    <tr>\n",
       "      <th>8417</th>\n",
       "      <td>ffe19c1179cee75244691595562c24e7</td>\n",
       "      <td>[AB_Fiber Access Bearer]</td>\n",
       "      <td>[2017-08]</td>\n",
       "      <td>[]</td>\n",
       "      <td>[Other]</td>\n",
       "      <td>[]</td>\n",
       "      <td>[NO]</td>\n",
       "    </tr>\n",
       "    <tr>\n",
       "      <th>8418</th>\n",
       "      <td>ffe8b4f994971a1fde152a9b00e2d047</td>\n",
       "      <td>[AB_Fiber Access Bearer]</td>\n",
       "      <td>[2020-07]</td>\n",
       "      <td>[]</td>\n",
       "      <td>[Other]</td>\n",
       "      <td>[]</td>\n",
       "      <td>[NO]</td>\n",
       "    </tr>\n",
       "    <tr>\n",
       "      <th>8419</th>\n",
       "      <td>fff45bfbbb99fe43c7ef3f2c0a7bb805</td>\n",
       "      <td>[AB_Fiber Access Bearer]</td>\n",
       "      <td>[2018-05]</td>\n",
       "      <td>[]</td>\n",
       "      <td>[Other]</td>\n",
       "      <td>[]</td>\n",
       "      <td>[NO]</td>\n",
       "    </tr>\n",
       "    <tr>\n",
       "      <th>8420</th>\n",
       "      <td>fffd0b8541e9f62496092d2ea8609135</td>\n",
       "      <td>[AB_Fiber Access Bearer]</td>\n",
       "      <td>[2018-05]</td>\n",
       "      <td>[]</td>\n",
       "      <td>[Other]</td>\n",
       "      <td>[]</td>\n",
       "      <td>[NO]</td>\n",
       "    </tr>\n",
       "  </tbody>\n",
       "</table>\n",
       "<p>8421 rows × 7 columns</p>\n",
       "</div>"
      ],
      "text/plain": [
       "                      ACCOUNT_NUM.hash              FTTH_Package  \\\n",
       "0     0003df7598926f578f53ecd9e424f3c9  [AB_Fiber Access Bearer]   \n",
       "1     000f1aa5bd19fc28f99766f1b85a6be3  [AB_Fiber Access Bearer]   \n",
       "2     00103d1ae201c2ddb33b965f44f280b1  [AB_Fiber Access Bearer]   \n",
       "3     001461eda095f55eb35ea34116af1598  [AB_Fiber Access Bearer]   \n",
       "4     001e2b18f91f221782a539608896254d  [AB_Fiber Access Bearer]   \n",
       "...                                ...                       ...   \n",
       "8416  ffdfae2004f9844428523794a8216efb  [AB_Fiber Access Bearer]   \n",
       "8417  ffe19c1179cee75244691595562c24e7  [AB_Fiber Access Bearer]   \n",
       "8418  ffe8b4f994971a1fde152a9b00e2d047  [AB_Fiber Access Bearer]   \n",
       "8419  fff45bfbbb99fe43c7ef3f2c0a7bb805  [AB_Fiber Access Bearer]   \n",
       "8420  fffd0b8541e9f62496092d2ea8609135  [AB_Fiber Access Bearer]   \n",
       "\n",
       "     FTTH_Month_Subscribed FTTH_Rental Package_Type MEDIUM is_Promotion  \n",
       "0                [2019-05]          []      [Other]     []         [NO]  \n",
       "1                [2017-12]          []      [Other]     []         [NO]  \n",
       "2                [2015-09]          []      [Other]     []         [NO]  \n",
       "3                [2017-11]          []      [Other]     []         [NO]  \n",
       "4                [2017-12]          []      [Other]     []         [NO]  \n",
       "...                    ...         ...          ...    ...          ...  \n",
       "8416             [2018-02]          []      [Other]     []         [NO]  \n",
       "8417             [2017-08]          []      [Other]     []         [NO]  \n",
       "8418             [2020-07]          []      [Other]     []         [NO]  \n",
       "8419             [2018-05]          []      [Other]     []         [NO]  \n",
       "8420             [2018-05]          []      [Other]     []         [NO]  \n",
       "\n",
       "[8421 rows x 7 columns]"
      ]
     },
     "execution_count": 433,
     "metadata": {},
     "output_type": "execute_result"
    }
   ],
   "source": [
    "ftth_package_df"
   ]
  },
  {
   "cell_type": "code",
   "execution_count": 435,
   "metadata": {},
   "outputs": [],
   "source": [
    "ftth_package_df.to_csv(\"data/user_profile/FTTH_Packages.csv\")"
   ]
  },
  {
   "cell_type": "code",
   "execution_count": 436,
   "metadata": {},
   "outputs": [],
   "source": [
    "lte_package_df = vas_final_df[((vas_final_df[\"is_Subscription\"]==\"YES\") &  (vas_final_df[\"Product_Type\"]==\"LTE\"))].groupby('ACCOUNT_NUM.hash') \\\n",
    "            .agg({'Package': lambda x: list(set(list(x[x.notna()]))),\n",
    "                  'Month_Subscribed': lambda x: list(set(list(x[x.notna()]))),\n",
    "                  'Rental': lambda x: list(set(list(x[x.notna()]))),\n",
    "                  'Package_Type': lambda x: list(set(list(x[x.notna()]))),\n",
    "                  'MEDIUM': lambda x: list(set(list(x[x.notna()]))),\n",
    "                  'is_Promotion': lambda x: list(set(list(x[x.notna()]))),\n",
    "                 }).reset_index()"
   ]
  },
  {
   "cell_type": "code",
   "execution_count": 437,
   "metadata": {},
   "outputs": [],
   "source": [
    "lte_package_df.rename(columns={\"Package\":\"LTE_Package\",\"Month_Subscribed\":\"LTE_Month_Subscribed\",\\\n",
    "                               \"Rental\":\"LTE_Rental\"},inplace=True)"
   ]
  },
  {
   "cell_type": "code",
   "execution_count": 438,
   "metadata": {},
   "outputs": [
    {
     "data": {
      "text/html": [
       "<div>\n",
       "<style scoped>\n",
       "    .dataframe tbody tr th:only-of-type {\n",
       "        vertical-align: middle;\n",
       "    }\n",
       "\n",
       "    .dataframe tbody tr th {\n",
       "        vertical-align: top;\n",
       "    }\n",
       "\n",
       "    .dataframe thead th {\n",
       "        text-align: right;\n",
       "    }\n",
       "</style>\n",
       "<table border=\"1\" class=\"dataframe\">\n",
       "  <thead>\n",
       "    <tr style=\"text-align: right;\">\n",
       "      <th></th>\n",
       "      <th>ACCOUNT_NUM.hash</th>\n",
       "      <th>LTE_Package</th>\n",
       "      <th>LTE_Month_Subscribed</th>\n",
       "      <th>LTE_Rental</th>\n",
       "      <th>Package_Type</th>\n",
       "      <th>MEDIUM</th>\n",
       "      <th>is_Promotion</th>\n",
       "    </tr>\n",
       "  </thead>\n",
       "  <tbody>\n",
       "    <tr>\n",
       "      <th>0</th>\n",
       "      <td>0003102d10a11c8f2f0f241f00a36b2d</td>\n",
       "      <td>[BB_SLT BroadBand Service]</td>\n",
       "      <td>[2020-01]</td>\n",
       "      <td>[450]</td>\n",
       "      <td>[BB]</td>\n",
       "      <td>[LTE]</td>\n",
       "      <td>[NO]</td>\n",
       "    </tr>\n",
       "    <tr>\n",
       "      <th>1</th>\n",
       "      <td>0003df7598926f578f53ecd9e424f3c9</td>\n",
       "      <td>[BB_SLT BroadBand Service]</td>\n",
       "      <td>[2019-05]</td>\n",
       "      <td>[1490]</td>\n",
       "      <td>[BB]</td>\n",
       "      <td>[LTE]</td>\n",
       "      <td>[NO]</td>\n",
       "    </tr>\n",
       "    <tr>\n",
       "      <th>2</th>\n",
       "      <td>000417b4ce7957159bae4d3485bff47e</td>\n",
       "      <td>[BB_SLT BroadBand Service]</td>\n",
       "      <td>[2019-06]</td>\n",
       "      <td>[740]</td>\n",
       "      <td>[BB]</td>\n",
       "      <td>[LTE]</td>\n",
       "      <td>[NO]</td>\n",
       "    </tr>\n",
       "    <tr>\n",
       "      <th>3</th>\n",
       "      <td>00092b1fd47eb05d000a3553ae072056</td>\n",
       "      <td>[BB_SLT BroadBand Service]</td>\n",
       "      <td>[2019-12]</td>\n",
       "      <td>[450]</td>\n",
       "      <td>[BB]</td>\n",
       "      <td>[LTE]</td>\n",
       "      <td>[NO]</td>\n",
       "    </tr>\n",
       "    <tr>\n",
       "      <th>4</th>\n",
       "      <td>00094326efae1d73371d118204e12e46</td>\n",
       "      <td>[BB_SLT BroadBand Service]</td>\n",
       "      <td>[2018-08]</td>\n",
       "      <td>[]</td>\n",
       "      <td>[BB]</td>\n",
       "      <td>[LTE]</td>\n",
       "      <td>[NO]</td>\n",
       "    </tr>\n",
       "    <tr>\n",
       "      <th>...</th>\n",
       "      <td>...</td>\n",
       "      <td>...</td>\n",
       "      <td>...</td>\n",
       "      <td>...</td>\n",
       "      <td>...</td>\n",
       "      <td>...</td>\n",
       "      <td>...</td>\n",
       "    </tr>\n",
       "    <tr>\n",
       "      <th>43398</th>\n",
       "      <td>fff819b816fe76ee023e3739d59282cd</td>\n",
       "      <td>[BB_SLT BroadBand Service]</td>\n",
       "      <td>[2018-09]</td>\n",
       "      <td>[0]</td>\n",
       "      <td>[BB]</td>\n",
       "      <td>[LTE]</td>\n",
       "      <td>[NO]</td>\n",
       "    </tr>\n",
       "    <tr>\n",
       "      <th>43399</th>\n",
       "      <td>fffaeeddaabbd2868c183d8884b2a98d</td>\n",
       "      <td>[BB_SLT BroadBand Service]</td>\n",
       "      <td>[2018-08]</td>\n",
       "      <td>[740]</td>\n",
       "      <td>[BB]</td>\n",
       "      <td>[LTE]</td>\n",
       "      <td>[NO]</td>\n",
       "    </tr>\n",
       "    <tr>\n",
       "      <th>43400</th>\n",
       "      <td>fffd0b8541e9f62496092d2ea8609135</td>\n",
       "      <td>[BB_SLT BroadBand Service]</td>\n",
       "      <td>[2018-05]</td>\n",
       "      <td>[1490]</td>\n",
       "      <td>[BB]</td>\n",
       "      <td>[LTE]</td>\n",
       "      <td>[NO]</td>\n",
       "    </tr>\n",
       "    <tr>\n",
       "      <th>43401</th>\n",
       "      <td>ffff7fc0c266ac5b34f91de1ba4f3039</td>\n",
       "      <td>[BB_SLT BroadBand Service]</td>\n",
       "      <td>[2018-08]</td>\n",
       "      <td>[450]</td>\n",
       "      <td>[BB]</td>\n",
       "      <td>[LTE]</td>\n",
       "      <td>[NO]</td>\n",
       "    </tr>\n",
       "    <tr>\n",
       "      <th>43402</th>\n",
       "      <td>ffffe6d0d44f76428f676bd36e83df76</td>\n",
       "      <td>[BB_SLT BroadBand Service]</td>\n",
       "      <td>[2018-08]</td>\n",
       "      <td>[1490]</td>\n",
       "      <td>[BB]</td>\n",
       "      <td>[LTE]</td>\n",
       "      <td>[NO]</td>\n",
       "    </tr>\n",
       "  </tbody>\n",
       "</table>\n",
       "<p>43403 rows × 7 columns</p>\n",
       "</div>"
      ],
      "text/plain": [
       "                       ACCOUNT_NUM.hash                 LTE_Package  \\\n",
       "0      0003102d10a11c8f2f0f241f00a36b2d  [BB_SLT BroadBand Service]   \n",
       "1      0003df7598926f578f53ecd9e424f3c9  [BB_SLT BroadBand Service]   \n",
       "2      000417b4ce7957159bae4d3485bff47e  [BB_SLT BroadBand Service]   \n",
       "3      00092b1fd47eb05d000a3553ae072056  [BB_SLT BroadBand Service]   \n",
       "4      00094326efae1d73371d118204e12e46  [BB_SLT BroadBand Service]   \n",
       "...                                 ...                         ...   \n",
       "43398  fff819b816fe76ee023e3739d59282cd  [BB_SLT BroadBand Service]   \n",
       "43399  fffaeeddaabbd2868c183d8884b2a98d  [BB_SLT BroadBand Service]   \n",
       "43400  fffd0b8541e9f62496092d2ea8609135  [BB_SLT BroadBand Service]   \n",
       "43401  ffff7fc0c266ac5b34f91de1ba4f3039  [BB_SLT BroadBand Service]   \n",
       "43402  ffffe6d0d44f76428f676bd36e83df76  [BB_SLT BroadBand Service]   \n",
       "\n",
       "      LTE_Month_Subscribed LTE_Rental Package_Type MEDIUM is_Promotion  \n",
       "0                [2020-01]      [450]         [BB]  [LTE]         [NO]  \n",
       "1                [2019-05]     [1490]         [BB]  [LTE]         [NO]  \n",
       "2                [2019-06]      [740]         [BB]  [LTE]         [NO]  \n",
       "3                [2019-12]      [450]         [BB]  [LTE]         [NO]  \n",
       "4                [2018-08]         []         [BB]  [LTE]         [NO]  \n",
       "...                    ...        ...          ...    ...          ...  \n",
       "43398            [2018-09]        [0]         [BB]  [LTE]         [NO]  \n",
       "43399            [2018-08]      [740]         [BB]  [LTE]         [NO]  \n",
       "43400            [2018-05]     [1490]         [BB]  [LTE]         [NO]  \n",
       "43401            [2018-08]      [450]         [BB]  [LTE]         [NO]  \n",
       "43402            [2018-08]     [1490]         [BB]  [LTE]         [NO]  \n",
       "\n",
       "[43403 rows x 7 columns]"
      ]
     },
     "execution_count": 438,
     "metadata": {},
     "output_type": "execute_result"
    }
   ],
   "source": [
    "lte_package_df"
   ]
  },
  {
   "cell_type": "code",
   "execution_count": 439,
   "metadata": {},
   "outputs": [],
   "source": [
    "lte_package_df.to_csv(\"data/user_profile/LTE_Packages.csv\")"
   ]
  },
  {
   "cell_type": "code",
   "execution_count": null,
   "metadata": {},
   "outputs": [],
   "source": []
  },
  {
   "cell_type": "markdown",
   "metadata": {},
   "source": [
    "## Subscription Promotion Upgrade Downgrade orders"
   ]
  },
  {
   "cell_type": "code",
   "execution_count": 320,
   "metadata": {},
   "outputs": [],
   "source": [
    "promotion_df = pd.read_excel(\"data/6.1 Promotion Upgrade Data.xlsx\")"
   ]
  },
  {
   "cell_type": "code",
   "execution_count": 323,
   "metadata": {},
   "outputs": [],
   "source": [
    "promotion_df =promotion_df[[\"ACCOUNT_NUM.hash\",\"MAX_DSP\",\"ORDER_CONDITION\",\"ADDING_PROMO\",\"DELETING_PROMO\"]]"
   ]
  },
  {
   "cell_type": "code",
   "execution_count": 324,
   "metadata": {},
   "outputs": [
    {
     "name": "stdout",
     "output_type": "stream",
     "text": [
      "<class 'pandas.core.frame.DataFrame'>\n",
      "RangeIndex: 29067 entries, 0 to 29066\n",
      "Data columns (total 5 columns):\n",
      " #   Column            Non-Null Count  Dtype \n",
      "---  ------            --------------  ----- \n",
      " 0   ACCOUNT_NUM.hash  29067 non-null  object\n",
      " 1   MAX_DSP           29058 non-null  object\n",
      " 2   ORDER_CONDITION   29067 non-null  object\n",
      " 3   ADDING_PROMO      29067 non-null  object\n",
      " 4   DELETING_PROMO    29067 non-null  object\n",
      "dtypes: object(5)\n",
      "memory usage: 1.1+ MB\n"
     ]
    }
   ],
   "source": [
    "promotion_df.info()"
   ]
  },
  {
   "cell_type": "markdown",
   "metadata": {},
   "source": [
    "### Exporting customer - subscription dataset"
   ]
  },
  {
   "cell_type": "code",
   "execution_count": 328,
   "metadata": {},
   "outputs": [],
   "source": [
    "sub_df = promotion_df[[\"ACCOUNT_NUM.hash\",\"ADDING_PROMO\"]]"
   ]
  },
  {
   "cell_type": "code",
   "execution_count": 329,
   "metadata": {},
   "outputs": [],
   "source": [
    "sub_df.rename(columns={\"ADDING_PROMO\":\"Subscription\"}, inplace=True)"
   ]
  },
  {
   "cell_type": "code",
   "execution_count": 330,
   "metadata": {},
   "outputs": [
    {
     "data": {
      "text/plain": [
       "array(['SLT Megaline Single Play Package', 'SLT LTE Double Play Package',\n",
       "       'SLT Megaline Triple Play Package',\n",
       "       'SLT Megaline Double Play (BV) Package',\n",
       "       'SLT Megaline Double Play (PV) Package',\n",
       "       'SLT Smartline Triple Play', 'SLT Smartline Double Play (BV)',\n",
       "       'SLT Smartline Double Play (PV)',\n",
       "       'SLT LTE 4G Voice Pal Basic Package',\n",
       "       'SLT LTE Single Play Package', 'SLT LTE 4G Net Pal Package',\n",
       "       'SLT LTE 4G Biz Pal Package'], dtype=object)"
      ]
     },
     "execution_count": 330,
     "metadata": {},
     "output_type": "execute_result"
    }
   ],
   "source": [
    "sub_df[\"Subscription\"].unique()"
   ]
  },
  {
   "cell_type": "code",
   "execution_count": 331,
   "metadata": {},
   "outputs": [
    {
     "data": {
      "text/plain": [
       "ACCOUNT_NUM.hash    0\n",
       "Subscription        0\n",
       "dtype: int64"
      ]
     },
     "execution_count": 331,
     "metadata": {},
     "output_type": "execute_result"
    }
   ],
   "source": [
    "sub_df.isnull().sum(axis=0)"
   ]
  },
  {
   "cell_type": "code",
   "execution_count": 332,
   "metadata": {},
   "outputs": [
    {
     "name": "stderr",
     "output_type": "stream",
     "text": [
      "/Users/chiranhewawitharana/mambaforge/envs/mactf/lib/python3.8/site-packages/pandas/util/_decorators.py:311: SettingWithCopyWarning: \n",
      "A value is trying to be set on a copy of a slice from a DataFrame\n",
      "\n",
      "See the caveats in the documentation: https://pandas.pydata.org/pandas-docs/stable/user_guide/indexing.html#returning-a-view-versus-a-copy\n",
      "  return func(*args, **kwargs)\n"
     ]
    }
   ],
   "source": [
    "sub_df.dropna(inplace=True)"
   ]
  },
  {
   "cell_type": "code",
   "execution_count": 334,
   "metadata": {},
   "outputs": [
    {
     "name": "stderr",
     "output_type": "stream",
     "text": [
      "/var/folders/00/gmvdw06n48lgtsz126ng5y2m0000gn/T/ipykernel_729/1380033971.py:1: SettingWithCopyWarning: \n",
      "A value is trying to be set on a copy of a slice from a DataFrame.\n",
      "Try using .loc[row_indexer,col_indexer] = value instead\n",
      "\n",
      "See the caveats in the documentation: https://pandas.pydata.org/pandas-docs/stable/user_guide/indexing.html#returning-a-view-versus-a-copy\n",
      "  sub_df[\"Sub_Type\"] = sub_df[\"Subscription\"].apply(lambda x: sub_type(x))\n"
     ]
    }
   ],
   "source": [
    "sub_df[\"Sub_Type\"] = sub_df[\"Subscription\"].apply(lambda x: sub_type(x))"
   ]
  },
  {
   "cell_type": "code",
   "execution_count": 335,
   "metadata": {},
   "outputs": [
    {
     "data": {
      "text/plain": [
       "TRIPLE_PLAY       9193\n",
       "SINGLE_PLAY       7107\n",
       "DOUBLE_PLAY_PV    6324\n",
       "DOUBLE_PLAY_BV    6167\n",
       "4G                 276\n",
       "Name: Sub_Type, dtype: int64"
      ]
     },
     "execution_count": 335,
     "metadata": {},
     "output_type": "execute_result"
    }
   ],
   "source": [
    "sub_df[\"Sub_Type\"].value_counts()"
   ]
  },
  {
   "cell_type": "code",
   "execution_count": 337,
   "metadata": {},
   "outputs": [
    {
     "data": {
      "text/plain": [
       "<AxesSubplot:ylabel='Sub_Type'>"
      ]
     },
     "execution_count": 337,
     "metadata": {},
     "output_type": "execute_result"
    },
    {
     "data": {
      "image/png": "[encoded data removed]",
      "text/plain": [
       "<Figure size 648x648 with 1 Axes>"
      ]
     },
     "metadata": {},
     "output_type": "display_data"
    }
   ],
   "source": [
    "sub_df[\"Sub_Type\"].value_counts().plot(kind='pie', figsize=(9,9), autopct='%1.1f%%', colors=['pink','yellow','orange','green','red'])"
   ]
  },
  {
   "cell_type": "code",
   "execution_count": 338,
   "metadata": {},
   "outputs": [
    {
     "name": "stderr",
     "output_type": "stream",
     "text": [
      "/Users/chiranhewawitharana/mambaforge/envs/mactf/lib/python3.8/site-packages/pandas/core/frame.py:4906: SettingWithCopyWarning: \n",
      "A value is trying to be set on a copy of a slice from a DataFrame\n",
      "\n",
      "See the caveats in the documentation: https://pandas.pydata.org/pandas-docs/stable/user_guide/indexing.html#returning-a-view-versus-a-copy\n",
      "  return super().drop(\n"
     ]
    },
    {
     "data": {
      "text/html": [
       "<div>\n",
       "<style scoped>\n",
       "    .dataframe tbody tr th:only-of-type {\n",
       "        vertical-align: middle;\n",
       "    }\n",
       "\n",
       "    .dataframe tbody tr th {\n",
       "        vertical-align: top;\n",
       "    }\n",
       "\n",
       "    .dataframe thead th {\n",
       "        text-align: right;\n",
       "    }\n",
       "</style>\n",
       "<table border=\"1\" class=\"dataframe\">\n",
       "  <thead>\n",
       "    <tr style=\"text-align: right;\">\n",
       "      <th></th>\n",
       "      <th>ACCOUNT_NUM.hash</th>\n",
       "      <th>Subscription</th>\n",
       "      <th>Sub_Type</th>\n",
       "    </tr>\n",
       "  </thead>\n",
       "  <tbody>\n",
       "    <tr>\n",
       "      <th>0</th>\n",
       "      <td>1aba2c4f27f13630bb51378fb50687c9</td>\n",
       "      <td>SLT Megaline Single Play Package</td>\n",
       "      <td>SINGLE_PLAY</td>\n",
       "    </tr>\n",
       "    <tr>\n",
       "      <th>1</th>\n",
       "      <td>198e48a9e8f0a7dbc16aacc989d145a0</td>\n",
       "      <td>SLT LTE Double Play Package</td>\n",
       "      <td>DOUBLE_PLAY_BV</td>\n",
       "    </tr>\n",
       "    <tr>\n",
       "      <th>2</th>\n",
       "      <td>147ddec023293c65d336b7992756f23b</td>\n",
       "      <td>SLT Megaline Triple Play Package</td>\n",
       "      <td>TRIPLE_PLAY</td>\n",
       "    </tr>\n",
       "    <tr>\n",
       "      <th>3</th>\n",
       "      <td>952ecedf7545591d480515c0f4bf066e</td>\n",
       "      <td>SLT Megaline Double Play (BV) Package</td>\n",
       "      <td>DOUBLE_PLAY_BV</td>\n",
       "    </tr>\n",
       "    <tr>\n",
       "      <th>4</th>\n",
       "      <td>5b6118dbe5c8a1f9c5bcc138c5dc3acb</td>\n",
       "      <td>SLT Megaline Triple Play Package</td>\n",
       "      <td>TRIPLE_PLAY</td>\n",
       "    </tr>\n",
       "    <tr>\n",
       "      <th>...</th>\n",
       "      <td>...</td>\n",
       "      <td>...</td>\n",
       "      <td>...</td>\n",
       "    </tr>\n",
       "    <tr>\n",
       "      <th>20909</th>\n",
       "      <td>c55275f25034ae3ddb63dcddcb775236</td>\n",
       "      <td>SLT Megaline Double Play (PV) Package</td>\n",
       "      <td>DOUBLE_PLAY_PV</td>\n",
       "    </tr>\n",
       "    <tr>\n",
       "      <th>20910</th>\n",
       "      <td>3d4fa7053ea04eaa5462b2847cc6ea30</td>\n",
       "      <td>SLT Megaline Double Play (PV) Package</td>\n",
       "      <td>DOUBLE_PLAY_PV</td>\n",
       "    </tr>\n",
       "    <tr>\n",
       "      <th>20911</th>\n",
       "      <td>1a8bd1108b090aab8a5ccd1a947e44eb</td>\n",
       "      <td>SLT Megaline Triple Play Package</td>\n",
       "      <td>TRIPLE_PLAY</td>\n",
       "    </tr>\n",
       "    <tr>\n",
       "      <th>20912</th>\n",
       "      <td>5bbcb6deefaa4524542500a43aa00f24</td>\n",
       "      <td>SLT Megaline Triple Play Package</td>\n",
       "      <td>TRIPLE_PLAY</td>\n",
       "    </tr>\n",
       "    <tr>\n",
       "      <th>20913</th>\n",
       "      <td>2f5635a5c3106a5949195bb550dc0944</td>\n",
       "      <td>SLT Megaline Single Play Package</td>\n",
       "      <td>SINGLE_PLAY</td>\n",
       "    </tr>\n",
       "  </tbody>\n",
       "</table>\n",
       "<p>20914 rows × 3 columns</p>\n",
       "</div>"
      ],
      "text/plain": [
       "                       ACCOUNT_NUM.hash  \\\n",
       "0      1aba2c4f27f13630bb51378fb50687c9   \n",
       "1      198e48a9e8f0a7dbc16aacc989d145a0   \n",
       "2      147ddec023293c65d336b7992756f23b   \n",
       "3      952ecedf7545591d480515c0f4bf066e   \n",
       "4      5b6118dbe5c8a1f9c5bcc138c5dc3acb   \n",
       "...                                 ...   \n",
       "20909  c55275f25034ae3ddb63dcddcb775236   \n",
       "20910  3d4fa7053ea04eaa5462b2847cc6ea30   \n",
       "20911  1a8bd1108b090aab8a5ccd1a947e44eb   \n",
       "20912  5bbcb6deefaa4524542500a43aa00f24   \n",
       "20913  2f5635a5c3106a5949195bb550dc0944   \n",
       "\n",
       "                                Subscription        Sub_Type  \n",
       "0           SLT Megaline Single Play Package     SINGLE_PLAY  \n",
       "1                SLT LTE Double Play Package  DOUBLE_PLAY_BV  \n",
       "2           SLT Megaline Triple Play Package     TRIPLE_PLAY  \n",
       "3      SLT Megaline Double Play (BV) Package  DOUBLE_PLAY_BV  \n",
       "4           SLT Megaline Triple Play Package     TRIPLE_PLAY  \n",
       "...                                      ...             ...  \n",
       "20909  SLT Megaline Double Play (PV) Package  DOUBLE_PLAY_PV  \n",
       "20910  SLT Megaline Double Play (PV) Package  DOUBLE_PLAY_PV  \n",
       "20911       SLT Megaline Triple Play Package     TRIPLE_PLAY  \n",
       "20912       SLT Megaline Triple Play Package     TRIPLE_PLAY  \n",
       "20913       SLT Megaline Single Play Package     SINGLE_PLAY  \n",
       "\n",
       "[20914 rows x 3 columns]"
      ]
     },
     "execution_count": 338,
     "metadata": {},
     "output_type": "execute_result"
    }
   ],
   "source": [
    "sub_df.drop_duplicates([\"ACCOUNT_NUM.hash\"],inplace=True,keep=\"last\")\n",
    "sub_df.reset_index(inplace=True)\n",
    "sub_df.drop([\"index\"],axis=1,inplace=True)\n",
    "sub_df = sub_df[[\"ACCOUNT_NUM.hash\",\"Subscription\",\"Sub_Type\"]]\n",
    "sub_df"
   ]
  },
  {
   "cell_type": "code",
   "execution_count": 339,
   "metadata": {},
   "outputs": [
    {
     "data": {
      "text/plain": [
       "ACCOUNT_NUM.hash    0\n",
       "Subscription        0\n",
       "Sub_Type            0\n",
       "dtype: int64"
      ]
     },
     "execution_count": 339,
     "metadata": {},
     "output_type": "execute_result"
    }
   ],
   "source": [
    "sub_df.isnull().sum(axis=0)"
   ]
  },
  {
   "cell_type": "code",
   "execution_count": 340,
   "metadata": {},
   "outputs": [],
   "source": [
    "sub_df.to_csv(\"data/user_profile/User_Subscription_Map.csv\")"
   ]
  },
  {
   "cell_type": "markdown",
   "metadata": {},
   "source": [
    "### Note:\n",
    "- Only actual information present for **768** users"
   ]
  },
  {
   "cell_type": "code",
   "execution_count": null,
   "metadata": {},
   "outputs": [],
   "source": []
  },
  {
   "cell_type": "markdown",
   "metadata": {},
   "source": [
    "## Subscription Upgrades and Downgrades"
   ]
  },
  {
   "cell_type": "code",
   "execution_count": 344,
   "metadata": {},
   "outputs": [],
   "source": [
    "promo_change_df = promotion_df[[\"ACCOUNT_NUM.hash\",\"MAX_DSP\",\"ORDER_CONDITION\",\"DELETING_PROMO\",\"ADDING_PROMO\"]].merge(acc_no_map,how='left',on=[\"ACCOUNT_NUM.hash\"])"
   ]
  },
  {
   "cell_type": "code",
   "execution_count": 345,
   "metadata": {},
   "outputs": [],
   "source": [
    "promo_change_df.drop_duplicates([\"ACCOUNT_NUM.hash\"],inplace=True)\n",
    "promo_change_df.reset_index(inplace=True)\n",
    "promo_change_df.drop([\"index\"],axis=1,inplace=True)\n",
    "promo_change_df.rename(columns={\"MAX_DSP\":\"Sub_Update_Date\",\"ORDER_CONDITION\":\"Sub_Update_Status\",\"DELETING_PROMO\":\"Sub_Removed\",\"ADDING_PROMO\":\"Sub_Added\"},inplace=True)"
   ]
  },
  {
   "cell_type": "code",
   "execution_count": 346,
   "metadata": {},
   "outputs": [
    {
     "data": {
      "text/html": [
       "<div>\n",
       "<style scoped>\n",
       "    .dataframe tbody tr th:only-of-type {\n",
       "        vertical-align: middle;\n",
       "    }\n",
       "\n",
       "    .dataframe tbody tr th {\n",
       "        vertical-align: top;\n",
       "    }\n",
       "\n",
       "    .dataframe thead th {\n",
       "        text-align: right;\n",
       "    }\n",
       "</style>\n",
       "<table border=\"1\" class=\"dataframe\">\n",
       "  <thead>\n",
       "    <tr style=\"text-align: right;\">\n",
       "      <th></th>\n",
       "      <th>ACCOUNT_NUM.hash</th>\n",
       "      <th>Sub_Update_Date</th>\n",
       "      <th>Sub_Update_Status</th>\n",
       "      <th>Sub_Added</th>\n",
       "      <th>Sub_Removed</th>\n",
       "    </tr>\n",
       "  </thead>\n",
       "  <tbody>\n",
       "    <tr>\n",
       "      <th>0</th>\n",
       "      <td>1aba2c4f27f13630bb51378fb50687c9</td>\n",
       "      <td>11/08/2021 12:53:00</td>\n",
       "      <td>Promotion Downgrade</td>\n",
       "      <td>SLT Megaline Single Play Package</td>\n",
       "      <td>SLT Megaline Double Play (BV) Package</td>\n",
       "    </tr>\n",
       "    <tr>\n",
       "      <th>1</th>\n",
       "      <td>198e48a9e8f0a7dbc16aacc989d145a0</td>\n",
       "      <td>25/11/2019 14:53:00</td>\n",
       "      <td>Promotion Upgrade</td>\n",
       "      <td>SLT LTE Double Play Package</td>\n",
       "      <td>SLT LTE 4G Voice Pal Basic Package</td>\n",
       "    </tr>\n",
       "    <tr>\n",
       "      <th>2</th>\n",
       "      <td>147ddec023293c65d336b7992756f23b</td>\n",
       "      <td>30/05/2019 15:20:36</td>\n",
       "      <td>Promotion Upgrade</td>\n",
       "      <td>SLT Megaline Triple Play Package</td>\n",
       "      <td>SLT Megaline Double Play (BV) Package</td>\n",
       "    </tr>\n",
       "    <tr>\n",
       "      <th>3</th>\n",
       "      <td>952ecedf7545591d480515c0f4bf066e</td>\n",
       "      <td>06/07/2019 19:58:27</td>\n",
       "      <td>Promotion Downgrade</td>\n",
       "      <td>SLT Megaline Double Play (BV) Package</td>\n",
       "      <td>SLT Megaline Triple Play Package</td>\n",
       "    </tr>\n",
       "    <tr>\n",
       "      <th>4</th>\n",
       "      <td>5b6118dbe5c8a1f9c5bcc138c5dc3acb</td>\n",
       "      <td>09/06/2020 16:00:00</td>\n",
       "      <td>Promotion Upgrade</td>\n",
       "      <td>SLT Megaline Triple Play Package</td>\n",
       "      <td>SLT Megaline Double Play (PV) Package</td>\n",
       "    </tr>\n",
       "    <tr>\n",
       "      <th>...</th>\n",
       "      <td>...</td>\n",
       "      <td>...</td>\n",
       "      <td>...</td>\n",
       "      <td>...</td>\n",
       "      <td>...</td>\n",
       "    </tr>\n",
       "    <tr>\n",
       "      <th>20909</th>\n",
       "      <td>c55275f25034ae3ddb63dcddcb775236</td>\n",
       "      <td>02/11/2020 19:39:00</td>\n",
       "      <td>Promotion Upgrade</td>\n",
       "      <td>SLT Megaline Double Play (BV) Package</td>\n",
       "      <td>SLT Megaline Double Play (PV) Package</td>\n",
       "    </tr>\n",
       "    <tr>\n",
       "      <th>20910</th>\n",
       "      <td>3d4fa7053ea04eaa5462b2847cc6ea30</td>\n",
       "      <td>27/11/2019 12:39:00</td>\n",
       "      <td>Promotion Downgrade</td>\n",
       "      <td>SLT Megaline Double Play (PV) Package</td>\n",
       "      <td>SLT Megaline Triple Play Package</td>\n",
       "    </tr>\n",
       "    <tr>\n",
       "      <th>20911</th>\n",
       "      <td>1a8bd1108b090aab8a5ccd1a947e44eb</td>\n",
       "      <td>12/06/2019 12:33:00</td>\n",
       "      <td>Promotion Upgrade</td>\n",
       "      <td>SLT Megaline Triple Play Package</td>\n",
       "      <td>SLT Megaline Double Play (BV) Package</td>\n",
       "    </tr>\n",
       "    <tr>\n",
       "      <th>20912</th>\n",
       "      <td>5bbcb6deefaa4524542500a43aa00f24</td>\n",
       "      <td>22/06/2020 18:26:00</td>\n",
       "      <td>Promotion Upgrade</td>\n",
       "      <td>SLT Megaline Triple Play Package</td>\n",
       "      <td>SLT Megaline Double Play (PV) Package</td>\n",
       "    </tr>\n",
       "    <tr>\n",
       "      <th>20913</th>\n",
       "      <td>2f5635a5c3106a5949195bb550dc0944</td>\n",
       "      <td>14/07/2021 09:56:00</td>\n",
       "      <td>Promotion Downgrade</td>\n",
       "      <td>SLT Megaline Single Play Package</td>\n",
       "      <td>SLT Megaline Double Play (BV) Package</td>\n",
       "    </tr>\n",
       "  </tbody>\n",
       "</table>\n",
       "<p>20914 rows × 5 columns</p>\n",
       "</div>"
      ],
      "text/plain": [
       "                       ACCOUNT_NUM.hash      Sub_Update_Date  \\\n",
       "0      1aba2c4f27f13630bb51378fb50687c9  11/08/2021 12:53:00   \n",
       "1      198e48a9e8f0a7dbc16aacc989d145a0  25/11/2019 14:53:00   \n",
       "2      147ddec023293c65d336b7992756f23b  30/05/2019 15:20:36   \n",
       "3      952ecedf7545591d480515c0f4bf066e  06/07/2019 19:58:27   \n",
       "4      5b6118dbe5c8a1f9c5bcc138c5dc3acb  09/06/2020 16:00:00   \n",
       "...                                 ...                  ...   \n",
       "20909  c55275f25034ae3ddb63dcddcb775236  02/11/2020 19:39:00   \n",
       "20910  3d4fa7053ea04eaa5462b2847cc6ea30  27/11/2019 12:39:00   \n",
       "20911  1a8bd1108b090aab8a5ccd1a947e44eb  12/06/2019 12:33:00   \n",
       "20912  5bbcb6deefaa4524542500a43aa00f24  22/06/2020 18:26:00   \n",
       "20913  2f5635a5c3106a5949195bb550dc0944  14/07/2021 09:56:00   \n",
       "\n",
       "         Sub_Update_Status                              Sub_Added  \\\n",
       "0      Promotion Downgrade       SLT Megaline Single Play Package   \n",
       "1        Promotion Upgrade            SLT LTE Double Play Package   \n",
       "2        Promotion Upgrade       SLT Megaline Triple Play Package   \n",
       "3      Promotion Downgrade  SLT Megaline Double Play (BV) Package   \n",
       "4        Promotion Upgrade       SLT Megaline Triple Play Package   \n",
       "...                    ...                                    ...   \n",
       "20909    Promotion Upgrade  SLT Megaline Double Play (BV) Package   \n",
       "20910  Promotion Downgrade  SLT Megaline Double Play (PV) Package   \n",
       "20911    Promotion Upgrade       SLT Megaline Triple Play Package   \n",
       "20912    Promotion Upgrade       SLT Megaline Triple Play Package   \n",
       "20913  Promotion Downgrade       SLT Megaline Single Play Package   \n",
       "\n",
       "                                 Sub_Removed  \n",
       "0      SLT Megaline Double Play (BV) Package  \n",
       "1         SLT LTE 4G Voice Pal Basic Package  \n",
       "2      SLT Megaline Double Play (BV) Package  \n",
       "3           SLT Megaline Triple Play Package  \n",
       "4      SLT Megaline Double Play (PV) Package  \n",
       "...                                      ...  \n",
       "20909  SLT Megaline Double Play (PV) Package  \n",
       "20910       SLT Megaline Triple Play Package  \n",
       "20911  SLT Megaline Double Play (BV) Package  \n",
       "20912  SLT Megaline Double Play (PV) Package  \n",
       "20913  SLT Megaline Double Play (BV) Package  \n",
       "\n",
       "[20914 rows x 5 columns]"
      ]
     },
     "execution_count": 346,
     "metadata": {},
     "output_type": "execute_result"
    }
   ],
   "source": [
    "promo_change_df = promo_change_df[[\"ACCOUNT_NUM.hash\",\"Sub_Update_Date\",\"Sub_Update_Status\",\"Sub_Added\",\"Sub_Removed\"]]\n",
    "promo_change_df"
   ]
  },
  {
   "cell_type": "code",
   "execution_count": 347,
   "metadata": {},
   "outputs": [
    {
     "data": {
      "text/plain": [
       "ACCOUNT_NUM.hash     0\n",
       "Sub_Update_Date      5\n",
       "Sub_Update_Status    0\n",
       "Sub_Added            0\n",
       "Sub_Removed          0\n",
       "dtype: int64"
      ]
     },
     "execution_count": 347,
     "metadata": {},
     "output_type": "execute_result"
    }
   ],
   "source": [
    "promo_change_df.isnull().sum(axis=0)"
   ]
  },
  {
   "cell_type": "code",
   "execution_count": 348,
   "metadata": {},
   "outputs": [],
   "source": [
    "promo_change_df[\"Sub_Removed\"] = promo_change_df[\"Sub_Removed\"].apply(lambda x: sub_type(x))\n",
    "promo_change_df[\"Sub_Added\"] = promo_change_df[\"Sub_Added\"].apply(lambda x: sub_type(x))"
   ]
  },
  {
   "cell_type": "code",
   "execution_count": 349,
   "metadata": {},
   "outputs": [],
   "source": [
    "def sub_change_state(sub1,sub2):\n",
    "    return f\"{sub1} -> {sub2}\""
   ]
  },
  {
   "cell_type": "code",
   "execution_count": 350,
   "metadata": {},
   "outputs": [],
   "source": [
    "promo_change_df[\"Sub_Update\"] = promo_change_df.apply(lambda x: sub_change_state(x[\"Sub_Removed\"],x[\"Sub_Added\"]),axis=1)"
   ]
  },
  {
   "cell_type": "code",
   "execution_count": 351,
   "metadata": {},
   "outputs": [
    {
     "data": {
      "text/plain": [
       "Sub_Update_Status    Sub_Update                      \n",
       "Promotion Downgrade  DOUBLE_PLAY_BV -> SINGLE_PLAY       3893\n",
       "Promotion Upgrade    SINGLE_PLAY -> DOUBLE_PLAY_BV       3893\n",
       "                     DOUBLE_PLAY_PV -> TRIPLE_PLAY       3756\n",
       "Promotion Downgrade  TRIPLE_PLAY -> DOUBLE_PLAY_PV       2400\n",
       "Promotion Upgrade    DOUBLE_PLAY_BV -> TRIPLE_PLAY       2196\n",
       "                     SINGLE_PLAY -> DOUBLE_PLAY_PV       1561\n",
       "Promotion Downgrade  TRIPLE_PLAY -> SINGLE_PLAY           808\n",
       "Promotion Upgrade    SINGLE_PLAY -> TRIPLE_PLAY           689\n",
       "Promotion Downgrade  DOUBLE_PLAY_PV -> SINGLE_PLAY        630\n",
       "                     TRIPLE_PLAY -> DOUBLE_PLAY_BV        608\n",
       "                     DOUBLE_PLAY_BV -> 4G                 154\n",
       "Promotion Upgrade    4G -> DOUBLE_PLAY_BV                 108\n",
       "                     TRIPLE_PLAY -> DOUBLE_PLAY_PV         37\n",
       "Promotion Downgrade  4G -> 4G                              30\n",
       "Promotion Upgrade    DOUBLE_PLAY_BV -> SINGLE_PLAY         27\n",
       "                     4G -> 4G                              26\n",
       "                     DOUBLE_PLAY_BV -> DOUBLE_PLAY_PV      15\n",
       "                     DOUBLE_PLAY_PV -> DOUBLE_PLAY_BV      14\n",
       "                     TRIPLE_PLAY -> DOUBLE_PLAY_BV         13\n",
       "Promotion Downgrade  SINGLE_PLAY -> DOUBLE_PLAY_BV         13\n",
       "                     DOUBLE_PLAY_PV -> TRIPLE_PLAY         11\n",
       "                     DOUBLE_PLAY_BV -> TRIPLE_PLAY          9\n",
       "Promotion Upgrade    SINGLE_PLAY -> 4G                      4\n",
       "Promotion Downgrade  4G -> SINGLE_PLAY                      3\n",
       "                     DOUBLE_PLAY_BV -> DOUBLE_PLAY_PV       3\n",
       "                     SINGLE_PLAY -> DOUBLE_PLAY_PV          3\n",
       "                     SINGLE_PLAY -> TRIPLE_PLAY             2\n",
       "Promotion Upgrade    DOUBLE_PLAY_PV -> SINGLE_PLAY          2\n",
       "                     DOUBLE_PLAY_BV -> 4G                   2\n",
       "                     TRIPLE_PLAY -> SINGLE_PLAY             2\n",
       "Promotion Downgrade  SINGLE_PLAY -> 4G                      1\n",
       "Promotion Upgrade    4G -> SINGLE_PLAY                      1\n",
       "dtype: int64"
      ]
     },
     "execution_count": 351,
     "metadata": {},
     "output_type": "execute_result"
    }
   ],
   "source": [
    "promo_change_df[[\"Sub_Update_Status\",\"Sub_Update\"]].value_counts()"
   ]
  },
  {
   "cell_type": "code",
   "execution_count": 352,
   "metadata": {},
   "outputs": [],
   "source": [
    "promo_change_df.drop(promo_change_df.query(\"Sub_Update_Status == 'Promotion Upgrade' & Sub_Update == 'TRIPLE_PLAY -> DOUBLE_PLAY_BV'\").index, inplace=True)"
   ]
  },
  {
   "cell_type": "code",
   "execution_count": 353,
   "metadata": {},
   "outputs": [],
   "source": [
    "promo_change_df.drop(promo_change_df.query(\"Sub_Update_Status == 'Promotion Upgrade' & Sub_Update == 'TRIPLE_PLAY -> DOUBLE_PLAY_PV'\").index, inplace=True)"
   ]
  },
  {
   "cell_type": "code",
   "execution_count": 354,
   "metadata": {},
   "outputs": [],
   "source": [
    "promo_change_df.drop(promo_change_df.query(\"Sub_Update_Status == 'Promotion Downgrade' & Sub_Update == 'SINGLE_PLAY -> DOUBLE_PLAY_BV'\").index, inplace=True)"
   ]
  },
  {
   "cell_type": "code",
   "execution_count": 355,
   "metadata": {},
   "outputs": [],
   "source": [
    "promo_change_df.drop(promo_change_df.query(\"Sub_Update_Status == 'Promotion Downgrade' & Sub_Update == 'DOUBLE_PLAY_BV -> TRIPLE_PLAY'\").index, inplace=True)"
   ]
  },
  {
   "cell_type": "code",
   "execution_count": 356,
   "metadata": {},
   "outputs": [],
   "source": [
    "promo_change_df.drop(promo_change_df.query(\"Sub_Update_Status == 'Promotion Downgrade' & Sub_Update == 'DOUBLE_PLAY_PV -> TRIPLE_PLAY'\").index, inplace=True)"
   ]
  },
  {
   "cell_type": "code",
   "execution_count": 358,
   "metadata": {},
   "outputs": [],
   "source": [
    "promo_change_df.drop(promo_change_df.query(\"Sub_Update_Status == 'Promotion Upgrade' & Sub_Update == 'DOUBLE_PLAY_BV -> SINGLE_PLAY'\").index, inplace=True)"
   ]
  },
  {
   "cell_type": "code",
   "execution_count": 359,
   "metadata": {},
   "outputs": [
    {
     "data": {
      "text/plain": [
       "Sub_Update_Status    Sub_Update                      \n",
       "Promotion Downgrade  DOUBLE_PLAY_BV -> SINGLE_PLAY       3893\n",
       "Promotion Upgrade    SINGLE_PLAY -> DOUBLE_PLAY_BV       3893\n",
       "                     DOUBLE_PLAY_PV -> TRIPLE_PLAY       3756\n",
       "Promotion Downgrade  TRIPLE_PLAY -> DOUBLE_PLAY_PV       2400\n",
       "Promotion Upgrade    DOUBLE_PLAY_BV -> TRIPLE_PLAY       2196\n",
       "                     SINGLE_PLAY -> DOUBLE_PLAY_PV       1561\n",
       "Promotion Downgrade  TRIPLE_PLAY -> SINGLE_PLAY           808\n",
       "Promotion Upgrade    SINGLE_PLAY -> TRIPLE_PLAY           689\n",
       "Promotion Downgrade  DOUBLE_PLAY_PV -> SINGLE_PLAY        630\n",
       "                     TRIPLE_PLAY -> DOUBLE_PLAY_BV        608\n",
       "                     DOUBLE_PLAY_BV -> 4G                 154\n",
       "Promotion Upgrade    4G -> DOUBLE_PLAY_BV                 108\n",
       "Promotion Downgrade  4G -> 4G                              30\n",
       "Promotion Upgrade    4G -> 4G                              26\n",
       "                     DOUBLE_PLAY_BV -> DOUBLE_PLAY_PV      15\n",
       "                     DOUBLE_PLAY_PV -> DOUBLE_PLAY_BV      14\n",
       "                     SINGLE_PLAY -> 4G                      4\n",
       "Promotion Downgrade  4G -> SINGLE_PLAY                      3\n",
       "                     SINGLE_PLAY -> DOUBLE_PLAY_PV          3\n",
       "                     DOUBLE_PLAY_BV -> DOUBLE_PLAY_PV       3\n",
       "Promotion Upgrade    DOUBLE_PLAY_BV -> 4G                   2\n",
       "                     DOUBLE_PLAY_PV -> SINGLE_PLAY          2\n",
       "Promotion Downgrade  SINGLE_PLAY -> TRIPLE_PLAY             2\n",
       "Promotion Upgrade    TRIPLE_PLAY -> SINGLE_PLAY             2\n",
       "                     4G -> SINGLE_PLAY                      1\n",
       "Promotion Downgrade  SINGLE_PLAY -> 4G                      1\n",
       "dtype: int64"
      ]
     },
     "execution_count": 359,
     "metadata": {},
     "output_type": "execute_result"
    }
   ],
   "source": [
    "promo_change_df[[\"Sub_Update_Status\",\"Sub_Update\"]].value_counts()"
   ]
  },
  {
   "cell_type": "code",
   "execution_count": 360,
   "metadata": {},
   "outputs": [
    {
     "data": {
      "text/plain": [
       "<AxesSubplot:ylabel='None'>"
      ]
     },
     "execution_count": 360,
     "metadata": {},
     "output_type": "execute_result"
    },
    {
     "data": {
      "image/png": "[encoded data removed]",
      "text/plain": [
       "<Figure size 720x720 with 1 Axes>"
      ]
     },
     "metadata": {},
     "output_type": "display_data"
    }
   ],
   "source": [
    "fig = plt.figure(figsize=(10,10))\n",
    "ax = plt.subplot(111)\n",
    "promo_change_df[[\"Sub_Update_Status\"]].value_counts().plot(kind='pie', ax=ax, autopct='%1.1f%%', startangle=270, fontsize=12)"
   ]
  },
  {
   "cell_type": "code",
   "execution_count": 361,
   "metadata": {},
   "outputs": [],
   "source": [
    "promo_change_df.drop([\"Sub_Added\",\"Sub_Removed\"],axis=1,inplace=True)"
   ]
  },
  {
   "cell_type": "code",
   "execution_count": 362,
   "metadata": {},
   "outputs": [
    {
     "name": "stdout",
     "output_type": "stream",
     "text": [
      "<class 'pandas.core.frame.DataFrame'>\n",
      "Int64Index: 20804 entries, 0 to 20913\n",
      "Data columns (total 4 columns):\n",
      " #   Column             Non-Null Count  Dtype \n",
      "---  ------             --------------  ----- \n",
      " 0   ACCOUNT_NUM.hash   20804 non-null  object\n",
      " 1   Sub_Update_Date    20799 non-null  object\n",
      " 2   Sub_Update_Status  20804 non-null  object\n",
      " 3   Sub_Update         20804 non-null  object\n",
      "dtypes: object(4)\n",
      "memory usage: 812.7+ KB\n"
     ]
    }
   ],
   "source": [
    "promo_change_df.info()"
   ]
  },
  {
   "cell_type": "code",
   "execution_count": 363,
   "metadata": {},
   "outputs": [],
   "source": [
    "promo_change_df.to_csv(\"data/user_profile/User_Subscription_Changes.csv\")"
   ]
  },
  {
   "cell_type": "code",
   "execution_count": null,
   "metadata": {},
   "outputs": [],
   "source": []
  },
  {
   "cell_type": "markdown",
   "metadata": {},
   "source": [
    "# Payment and Billing Details"
   ]
  },
  {
   "cell_type": "code",
   "execution_count": 416,
   "metadata": {},
   "outputs": [],
   "source": [
    "payments_df = pd.read_excel(\"data/6.2 Payment Details.xlsx\")\n",
    "billing_df = pd.read_csv(\"data/6.3 Billing Details.csv\")"
   ]
  },
  {
   "cell_type": "markdown",
   "metadata": {},
   "source": [
    "## Billing Details"
   ]
  },
  {
   "cell_type": "code",
   "execution_count": 417,
   "metadata": {},
   "outputs": [],
   "source": [
    "billing_df.rename(columns={\"ACTUAL_BILL_DTM\":\"Actual_Bill_Date\",\"BILL_SETTLED_DTM\":\"Bill_Settled_Date\",\"PAYMENT_DUE_DAT\":\"Payment_Due_Date\",\"BALANCE_OUT_MNY\":\"Outstanding_Balance\",\"PAYMENTS_MNY\":\"Amount_Paid\",\"BALANCE_FWD_MNY\":\"Balance_Froward\",\"INVOICE_NET_MNY\":\"Net_Invoice\",\"INVOICE_TAX_MNY\":\"Tax_Invoice\",\"FAILED_PAYMENTS_MNY\":\"Faild_to_Pay\",\"ADJUSTMENTS_MNY\":\"Adjustment_Paid\",\"REFUNDS_MNY\":\"Refunds_Paid\"},inplace=True)\n",
    "billing_df.drop([\"BILL_DTM\",\"BILL_HANDLING_CODE\"],axis=1,inplace=True)\n",
    "billing_df[\"Actual_Bill_Date\"] = billing_df[\"Actual_Bill_Date\"] .apply(lambda x: mdate_correct_dss(str(x)))\n",
    "billing_df[\"Bill_Settled_Date\"] = billing_df[\"Bill_Settled_Date\"] .apply(lambda x: mdate_correct_dss(str(x)))\n",
    "billing_df[\"Payment_Due_Date\"] = billing_df[\"Payment_Due_Date\"] .apply(lambda x: mdate_correct_dss(str(x)))"
   ]
  },
  {
   "cell_type": "code",
   "execution_count": 418,
   "metadata": {},
   "outputs": [],
   "source": [
    "billing_df[\"Billing_Status\"] = billing_df.apply(lambda x: debter_status(x[\"Faild_to_Pay\"],x[\"Payment_Due_Date\"],x[\"Bill_Settled_Date\"]), axis=1)"
   ]
  },
  {
   "cell_type": "code",
   "execution_count": 419,
   "metadata": {},
   "outputs": [
    {
     "name": "stdout",
     "output_type": "stream",
     "text": [
      "<class 'pandas.core.frame.DataFrame'>\n",
      "RangeIndex: 1097066 entries, 0 to 1097065\n",
      "Data columns (total 13 columns):\n",
      " #   Column               Non-Null Count    Dtype \n",
      "---  ------               --------------    ----- \n",
      " 0   ACCOUNT_NUM.hash     1097066 non-null  object\n",
      " 1   Balance_Froward      1097066 non-null  int64 \n",
      " 2   Net_Invoice          1097066 non-null  int64 \n",
      " 3   Tax_Invoice          1097066 non-null  int64 \n",
      " 4   Outstanding_Balance  1097066 non-null  int64 \n",
      " 5   Amount_Paid          1097066 non-null  int64 \n",
      " 6   Faild_to_Pay         1097066 non-null  int64 \n",
      " 7   Adjustment_Paid      1097066 non-null  int64 \n",
      " 8   Refunds_Paid         1097066 non-null  int64 \n",
      " 9   Payment_Due_Date     1097066 non-null  object\n",
      " 10  Bill_Settled_Date    1097066 non-null  object\n",
      " 11  Actual_Bill_Date     1097066 non-null  object\n",
      " 12  Billing_Status       1097066 non-null  object\n",
      "dtypes: int64(8), object(5)\n",
      "memory usage: 108.8+ MB\n"
     ]
    }
   ],
   "source": [
    "billing_df.info()"
   ]
  },
  {
   "cell_type": "code",
   "execution_count": 422,
   "metadata": {},
   "outputs": [],
   "source": [
    "billing_df.to_csv(\"data/user_profile/User_Billing_Details.csv\")"
   ]
  },
  {
   "cell_type": "code",
   "execution_count": null,
   "metadata": {},
   "outputs": [],
   "source": []
  },
  {
   "cell_type": "markdown",
   "metadata": {},
   "source": [
    "## Payment Details"
   ]
  },
  {
   "cell_type": "code",
   "execution_count": 420,
   "metadata": {},
   "outputs": [],
   "source": [
    "payments_df.rename(columns={\"CREATED_DTM\":\"Payment_Month\",\"ACCOUNT_PAYMENT_STATUS\":\"Payment_Status\",\"ACCOUNT_PAYMENT_MNY\":\"Amount_Paid\"},inplace=True)\n",
    "payments_df.drop(\"ACCOUNT_PAYMENT_DAT\",axis=1,inplace=True)\n",
    "payments_df[\"Payment_Month\"] = payments_df[\"Payment_Month\"] .apply(lambda x: date_correct_dss(str(x)))"
   ]
  },
  {
   "cell_type": "code",
   "execution_count": 421,
   "metadata": {},
   "outputs": [
    {
     "name": "stdout",
     "output_type": "stream",
     "text": [
      "<class 'pandas.core.frame.DataFrame'>\n",
      "RangeIndex: 614688 entries, 0 to 614687\n",
      "Data columns (total 4 columns):\n",
      " #   Column            Non-Null Count   Dtype  \n",
      "---  ------            --------------   -----  \n",
      " 0   ACCOUNT_NUM.hash  614688 non-null  object \n",
      " 1   Amount_Paid       614688 non-null  float64\n",
      " 2   Payment_Month     614688 non-null  object \n",
      " 3   Payment_Status    614688 non-null  int64  \n",
      "dtypes: float64(1), int64(1), object(2)\n",
      "memory usage: 18.8+ MB\n"
     ]
    }
   ],
   "source": [
    "payments_df.info()"
   ]
  },
  {
   "cell_type": "code",
   "execution_count": 423,
   "metadata": {},
   "outputs": [],
   "source": [
    "payments_df.to_csv(\"data/user_profile/User_Payment_Details.csv\")"
   ]
  },
  {
   "cell_type": "code",
   "execution_count": null,
   "metadata": {},
   "outputs": [],
   "source": []
  }
 ],
 "metadata": {
  "kernel_info": {
   "name": "python3"
  },
  "kernelspec": {
   "display_name": "Python 3 (ipykernel)",
   "language": "python",
   "name": "python3"
  },
  "language_info": {
   "codemirror_mode": {
    "name": "ipython",
    "version": 3
   },
   "file_extension": ".py",
   "mimetype": "text/x-python",
   "name": "python",
   "nbconvert_exporter": "python",
   "pygments_lexer": "ipython3",
   "version": "3.8.12"
  },
  "nteract": {
   "version": "nteract-front-end@1.0.0"
  }
 },
 "nbformat": 4,
 "nbformat_minor": 4
}
