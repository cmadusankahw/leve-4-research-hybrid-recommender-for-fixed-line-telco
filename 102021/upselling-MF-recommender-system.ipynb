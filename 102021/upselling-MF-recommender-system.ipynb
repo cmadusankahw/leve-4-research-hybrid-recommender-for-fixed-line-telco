{
 "cells": [
  {
   "cell_type": "code",
   "execution_count": 21,
   "id": "a5bfe32b",
   "metadata": {},
   "outputs": [],
   "source": [
    "import pandas as pd\n",
    "import numpy as np\n",
    "import seaborn as sns\n",
    "import sklearn\n",
    "import matplotlib.pyplot as plt\n",
    "from sklearn.preprocessing import MinMaxScaler\n",
    "from sklearn.decomposition import PCA\n",
    "from ast import literal_eval\n",
    "from sklearn.decomposition import TruncatedSVD"
   ]
  },
  {
   "cell_type": "code",
   "execution_count": 4,
   "id": "a13f2ad0",
   "metadata": {},
   "outputs": [],
   "source": [
    "user_profile = pd.read_csv(\"data/user_profile/prepared/User_Profile_Null_Handled.csv\")"
   ]
  },
  {
   "cell_type": "code",
   "execution_count": 5,
   "id": "f05ef7c1",
   "metadata": {},
   "outputs": [
    {
     "data": {
      "text/plain": [
       "NO_INFO                30250\n",
       "Promotion Upgrade       7369\n",
       "Promotion Downgrade     4975\n",
       "Name: Sub_Update_Status, dtype: int64"
      ]
     },
     "execution_count": 5,
     "metadata": {},
     "output_type": "execute_result"
    }
   ],
   "source": [
    "user_profile[\"Sub_Update_Status\"].value_counts()"
   ]
  },
  {
   "cell_type": "code",
   "execution_count": 6,
   "id": "afbfe797",
   "metadata": {},
   "outputs": [],
   "source": [
    "data=user_profile.iloc[:,[1,3,11,14,18,23,25,34,57,61,62]]"
   ]
  },
  {
   "cell_type": "code",
   "execution_count": 7,
   "id": "b94e38b8",
   "metadata": {},
   "outputs": [
    {
     "name": "stdout",
     "output_type": "stream",
     "text": [
      "<class 'pandas.core.frame.DataFrame'>\n",
      "RangeIndex: 42594 entries, 0 to 42593\n",
      "Data columns (total 11 columns):\n",
      " #   Column                 Non-Null Count  Dtype  \n",
      "---  ------                 --------------  -----  \n",
      " 0   ACCOUNT_NUM.hash       42594 non-null  object \n",
      " 1   Voice_INCOMING_Scaled  42594 non-null  float64\n",
      " 2   Voice_OUTGOING_Scaled  42594 non-null  float64\n",
      " 3   IDD_INCOMING_Scaled    42594 non-null  float64\n",
      " 4   IDD_OUTGOING_Scaled    42594 non-null  float64\n",
      " 5   PEO_TV_Scaled          42594 non-null  float64\n",
      " 6   BB_Scaled              42594 non-null  float64\n",
      " 7   Sub_Type               42594 non-null  object \n",
      " 8   Product_Type           42594 non-null  object \n",
      " 9   Sub_Update_Status      42594 non-null  object \n",
      " 10  Sub_Update             42594 non-null  object \n",
      "dtypes: float64(6), object(5)\n",
      "memory usage: 3.6+ MB\n"
     ]
    }
   ],
   "source": [
    "data.info()"
   ]
  },
  {
   "cell_type": "code",
   "execution_count": 9,
   "id": "7496fbdc",
   "metadata": {},
   "outputs": [],
   "source": [
    "data_dim=data.iloc[:,1:7]"
   ]
  },
  {
   "cell_type": "code",
   "execution_count": 12,
   "id": "535fc34e",
   "metadata": {},
   "outputs": [
    {
     "data": {
      "text/plain": [
       "PCA(n_components=6)"
      ]
     },
     "execution_count": 12,
     "metadata": {},
     "output_type": "execute_result"
    }
   ],
   "source": [
    "pc=PCA(n_components=6) \n",
    "pc.fit(data_dim)"
   ]
  },
  {
   "cell_type": "code",
   "execution_count": 13,
   "id": "2b474f85",
   "metadata": {},
   "outputs": [
    {
     "data": {
      "text/plain": [
       "array([0.53436097, 0.85728507, 0.94419659, 0.97438368, 0.99002141,\n",
       "       1.        ])"
      ]
     },
     "execution_count": 13,
     "metadata": {},
     "output_type": "execute_result"
    }
   ],
   "source": [
    "#How mucb variance, captured together\n",
    "pc.explained_variance_ratio_.cumsum()"
   ]
  },
  {
   "cell_type": "code",
   "execution_count": 14,
   "id": "a302ff8b",
   "metadata": {},
   "outputs": [],
   "source": [
    "### Run PCA on the data and reduce the dimensions in pca_num_components dimensions\n",
    "pca = PCA(n_components=1)\n",
    "pca.fit(data_dim)\n",
    "reduced_data = pca.fit_transform(data_dim)\n",
    "results_df = pd.DataFrame(reduced_data,columns=['usage'])"
   ]
  },
  {
   "cell_type": "code",
   "execution_count": 15,
   "id": "f047a984",
   "metadata": {},
   "outputs": [],
   "source": [
    "# applying min-max-scaler to reduced features\n",
    "scaler = MinMaxScaler()\n",
    "results_df[['usage']] = scaler.fit_transform(results_df[['usage']])"
   ]
  },
  {
   "cell_type": "code",
   "execution_count": 16,
   "id": "14658b5a",
   "metadata": {},
   "outputs": [],
   "source": [
    "data=pd.concat([data,results_df],axis=1)"
   ]
  },
  {
   "cell_type": "code",
   "execution_count": 17,
   "id": "de6b087b",
   "metadata": {},
   "outputs": [
    {
     "data": {
      "text/html": [
       "<div>\n",
       "<style scoped>\n",
       "    .dataframe tbody tr th:only-of-type {\n",
       "        vertical-align: middle;\n",
       "    }\n",
       "\n",
       "    .dataframe tbody tr th {\n",
       "        vertical-align: top;\n",
       "    }\n",
       "\n",
       "    .dataframe thead th {\n",
       "        text-align: right;\n",
       "    }\n",
       "</style>\n",
       "<table border=\"1\" class=\"dataframe\">\n",
       "  <thead>\n",
       "    <tr style=\"text-align: right;\">\n",
       "      <th></th>\n",
       "      <th>ACCOUNT_NUM.hash</th>\n",
       "      <th>Sub_Type</th>\n",
       "      <th>usage</th>\n",
       "    </tr>\n",
       "  </thead>\n",
       "  <tbody>\n",
       "    <tr>\n",
       "      <th>0</th>\n",
       "      <td>9efd917f18bb5c966953b4227ddbaf43</td>\n",
       "      <td>TRIPLE_PLAY</td>\n",
       "      <td>0.304039</td>\n",
       "    </tr>\n",
       "    <tr>\n",
       "      <th>1</th>\n",
       "      <td>2240d11b0d9ee8f6d9e8972c6190aa42</td>\n",
       "      <td>SINGLE_PLAY</td>\n",
       "      <td>0.006179</td>\n",
       "    </tr>\n",
       "    <tr>\n",
       "      <th>2</th>\n",
       "      <td>cff00495fd556a417e2838e27465d749</td>\n",
       "      <td>DOUBLE_PLAY_BV</td>\n",
       "      <td>0.309183</td>\n",
       "    </tr>\n",
       "    <tr>\n",
       "      <th>3</th>\n",
       "      <td>d00dacd8fc98c1726d6a4e9f28f8e579</td>\n",
       "      <td>TRIPLE_PLAY</td>\n",
       "      <td>0.154406</td>\n",
       "    </tr>\n",
       "    <tr>\n",
       "      <th>4</th>\n",
       "      <td>a3ee54787617510a616dfcb52c28941b</td>\n",
       "      <td>TRIPLE_PLAY</td>\n",
       "      <td>0.158567</td>\n",
       "    </tr>\n",
       "    <tr>\n",
       "      <th>...</th>\n",
       "      <td>...</td>\n",
       "      <td>...</td>\n",
       "      <td>...</td>\n",
       "    </tr>\n",
       "    <tr>\n",
       "      <th>42589</th>\n",
       "      <td>7052930957f02ad914dbd24fdcd04fed</td>\n",
       "      <td>DOUBLE_PLAY_BV</td>\n",
       "      <td>0.398034</td>\n",
       "    </tr>\n",
       "    <tr>\n",
       "      <th>42590</th>\n",
       "      <td>c217fb1b44642e79e56af9111e9c00b2</td>\n",
       "      <td>TRIPLE_PLAY</td>\n",
       "      <td>0.799978</td>\n",
       "    </tr>\n",
       "    <tr>\n",
       "      <th>42591</th>\n",
       "      <td>5e94646aa83bb9d7fab98620405517cb</td>\n",
       "      <td>DOUBLE_PLAY_BV</td>\n",
       "      <td>0.011400</td>\n",
       "    </tr>\n",
       "    <tr>\n",
       "      <th>42592</th>\n",
       "      <td>6801a82b67b7fb942242b7aca5ba022c</td>\n",
       "      <td>DOUBLE_PLAY_BV</td>\n",
       "      <td>0.525596</td>\n",
       "    </tr>\n",
       "    <tr>\n",
       "      <th>42593</th>\n",
       "      <td>92da7428aa4a85439d5cb1adc7eb7fba</td>\n",
       "      <td>TRIPLE_PLAY</td>\n",
       "      <td>0.423210</td>\n",
       "    </tr>\n",
       "  </tbody>\n",
       "</table>\n",
       "<p>42594 rows × 3 columns</p>\n",
       "</div>"
      ],
      "text/plain": [
       "                       ACCOUNT_NUM.hash        Sub_Type     usage\n",
       "0      9efd917f18bb5c966953b4227ddbaf43     TRIPLE_PLAY  0.304039\n",
       "1      2240d11b0d9ee8f6d9e8972c6190aa42     SINGLE_PLAY  0.006179\n",
       "2      cff00495fd556a417e2838e27465d749  DOUBLE_PLAY_BV  0.309183\n",
       "3      d00dacd8fc98c1726d6a4e9f28f8e579     TRIPLE_PLAY  0.154406\n",
       "4      a3ee54787617510a616dfcb52c28941b     TRIPLE_PLAY  0.158567\n",
       "...                                 ...             ...       ...\n",
       "42589  7052930957f02ad914dbd24fdcd04fed  DOUBLE_PLAY_BV  0.398034\n",
       "42590  c217fb1b44642e79e56af9111e9c00b2     TRIPLE_PLAY  0.799978\n",
       "42591  5e94646aa83bb9d7fab98620405517cb  DOUBLE_PLAY_BV  0.011400\n",
       "42592  6801a82b67b7fb942242b7aca5ba022c  DOUBLE_PLAY_BV  0.525596\n",
       "42593  92da7428aa4a85439d5cb1adc7eb7fba     TRIPLE_PLAY  0.423210\n",
       "\n",
       "[42594 rows x 3 columns]"
      ]
     },
     "execution_count": 17,
     "metadata": {},
     "output_type": "execute_result"
    }
   ],
   "source": [
    "data_triplet = data[[\"ACCOUNT_NUM.hash\",\"Sub_Type\",\"usage\"]]\n",
    "data_triplet"
   ]
  },
  {
   "cell_type": "markdown",
   "id": "4c37d9d6",
   "metadata": {},
   "source": [
    "## Interaction Matrix"
   ]
  },
  {
   "cell_type": "code",
   "execution_count": 18,
   "id": "da0d7d2d",
   "metadata": {},
   "outputs": [
    {
     "data": {
      "text/html": [
       "<div>\n",
       "<style scoped>\n",
       "    .dataframe tbody tr th:only-of-type {\n",
       "        vertical-align: middle;\n",
       "    }\n",
       "\n",
       "    .dataframe tbody tr th {\n",
       "        vertical-align: top;\n",
       "    }\n",
       "\n",
       "    .dataframe thead th {\n",
       "        text-align: right;\n",
       "    }\n",
       "</style>\n",
       "<table border=\"1\" class=\"dataframe\">\n",
       "  <thead>\n",
       "    <tr style=\"text-align: right;\">\n",
       "      <th>Sub_Type</th>\n",
       "      <th>4G</th>\n",
       "      <th>DOUBLE_PLAY_BV</th>\n",
       "      <th>DOUBLE_PLAY_PV</th>\n",
       "      <th>SINGLE_PLAY</th>\n",
       "      <th>TRIPLE_PLAY</th>\n",
       "    </tr>\n",
       "    <tr>\n",
       "      <th>ACCOUNT_NUM.hash</th>\n",
       "      <th></th>\n",
       "      <th></th>\n",
       "      <th></th>\n",
       "      <th></th>\n",
       "      <th></th>\n",
       "    </tr>\n",
       "  </thead>\n",
       "  <tbody>\n",
       "    <tr>\n",
       "      <th>0003102d10a11c8f2f0f241f00a36b2d</th>\n",
       "      <td>NaN</td>\n",
       "      <td>NaN</td>\n",
       "      <td>NaN</td>\n",
       "      <td>NaN</td>\n",
       "      <td>0.377181</td>\n",
       "    </tr>\n",
       "    <tr>\n",
       "      <th>0003df7598926f578f53ecd9e424f3c9</th>\n",
       "      <td>NaN</td>\n",
       "      <td>0.274631</td>\n",
       "      <td>NaN</td>\n",
       "      <td>NaN</td>\n",
       "      <td>NaN</td>\n",
       "    </tr>\n",
       "    <tr>\n",
       "      <th>00092b1fd47eb05d000a3553ae072056</th>\n",
       "      <td>NaN</td>\n",
       "      <td>NaN</td>\n",
       "      <td>NaN</td>\n",
       "      <td>NaN</td>\n",
       "      <td>0.364527</td>\n",
       "    </tr>\n",
       "    <tr>\n",
       "      <th>00094326efae1d73371d118204e12e46</th>\n",
       "      <td>NaN</td>\n",
       "      <td>NaN</td>\n",
       "      <td>0.110893</td>\n",
       "      <td>NaN</td>\n",
       "      <td>NaN</td>\n",
       "    </tr>\n",
       "    <tr>\n",
       "      <th>000ae59b7eb91e778f22e3f07495f4f9</th>\n",
       "      <td>NaN</td>\n",
       "      <td>0.538300</td>\n",
       "      <td>NaN</td>\n",
       "      <td>NaN</td>\n",
       "      <td>NaN</td>\n",
       "    </tr>\n",
       "    <tr>\n",
       "      <th>...</th>\n",
       "      <td>...</td>\n",
       "      <td>...</td>\n",
       "      <td>...</td>\n",
       "      <td>...</td>\n",
       "      <td>...</td>\n",
       "    </tr>\n",
       "    <tr>\n",
       "      <th>fff9148b195a844454cf5b07c2fccbcb</th>\n",
       "      <td>NaN</td>\n",
       "      <td>NaN</td>\n",
       "      <td>0.140922</td>\n",
       "      <td>NaN</td>\n",
       "      <td>NaN</td>\n",
       "    </tr>\n",
       "    <tr>\n",
       "      <th>fffaeeddaabbd2868c183d8884b2a98d</th>\n",
       "      <td>NaN</td>\n",
       "      <td>NaN</td>\n",
       "      <td>NaN</td>\n",
       "      <td>NaN</td>\n",
       "      <td>0.432613</td>\n",
       "    </tr>\n",
       "    <tr>\n",
       "      <th>fffd0b8541e9f62496092d2ea8609135</th>\n",
       "      <td>NaN</td>\n",
       "      <td>NaN</td>\n",
       "      <td>NaN</td>\n",
       "      <td>NaN</td>\n",
       "      <td>0.675962</td>\n",
       "    </tr>\n",
       "    <tr>\n",
       "      <th>ffff7fc0c266ac5b34f91de1ba4f3039</th>\n",
       "      <td>NaN</td>\n",
       "      <td>NaN</td>\n",
       "      <td>NaN</td>\n",
       "      <td>NaN</td>\n",
       "      <td>0.299851</td>\n",
       "    </tr>\n",
       "    <tr>\n",
       "      <th>ffffe6d0d44f76428f676bd36e83df76</th>\n",
       "      <td>NaN</td>\n",
       "      <td>NaN</td>\n",
       "      <td>NaN</td>\n",
       "      <td>0.006392</td>\n",
       "      <td>NaN</td>\n",
       "    </tr>\n",
       "  </tbody>\n",
       "</table>\n",
       "<p>42594 rows × 5 columns</p>\n",
       "</div>"
      ],
      "text/plain": [
       "Sub_Type                          4G  DOUBLE_PLAY_BV  DOUBLE_PLAY_PV  \\\n",
       "ACCOUNT_NUM.hash                                                       \n",
       "0003102d10a11c8f2f0f241f00a36b2d NaN             NaN             NaN   \n",
       "0003df7598926f578f53ecd9e424f3c9 NaN        0.274631             NaN   \n",
       "00092b1fd47eb05d000a3553ae072056 NaN             NaN             NaN   \n",
       "00094326efae1d73371d118204e12e46 NaN             NaN        0.110893   \n",
       "000ae59b7eb91e778f22e3f07495f4f9 NaN        0.538300             NaN   \n",
       "...                               ..             ...             ...   \n",
       "fff9148b195a844454cf5b07c2fccbcb NaN             NaN        0.140922   \n",
       "fffaeeddaabbd2868c183d8884b2a98d NaN             NaN             NaN   \n",
       "fffd0b8541e9f62496092d2ea8609135 NaN             NaN             NaN   \n",
       "ffff7fc0c266ac5b34f91de1ba4f3039 NaN             NaN             NaN   \n",
       "ffffe6d0d44f76428f676bd36e83df76 NaN             NaN             NaN   \n",
       "\n",
       "Sub_Type                          SINGLE_PLAY  TRIPLE_PLAY  \n",
       "ACCOUNT_NUM.hash                                            \n",
       "0003102d10a11c8f2f0f241f00a36b2d          NaN     0.377181  \n",
       "0003df7598926f578f53ecd9e424f3c9          NaN          NaN  \n",
       "00092b1fd47eb05d000a3553ae072056          NaN     0.364527  \n",
       "00094326efae1d73371d118204e12e46          NaN          NaN  \n",
       "000ae59b7eb91e778f22e3f07495f4f9          NaN          NaN  \n",
       "...                                       ...          ...  \n",
       "fff9148b195a844454cf5b07c2fccbcb          NaN          NaN  \n",
       "fffaeeddaabbd2868c183d8884b2a98d          NaN     0.432613  \n",
       "fffd0b8541e9f62496092d2ea8609135          NaN     0.675962  \n",
       "ffff7fc0c266ac5b34f91de1ba4f3039          NaN     0.299851  \n",
       "ffffe6d0d44f76428f676bd36e83df76     0.006392          NaN  \n",
       "\n",
       "[42594 rows x 5 columns]"
      ]
     },
     "execution_count": 18,
     "metadata": {},
     "output_type": "execute_result"
    }
   ],
   "source": [
    "# create the user item matrix using the ratings dataset - Hint: try using pivot function \n",
    "interactions_metrix = data_triplet.pivot_table(index=\"ACCOUNT_NUM.hash\", columns=\"Sub_Type\", values=\"usage\")\n",
    "interactions_metrix"
   ]
  },
  {
   "cell_type": "code",
   "execution_count": 19,
   "id": "aaaecebd",
   "metadata": {},
   "outputs": [],
   "source": [
    "#interactions_metrix.reset_index(inplace=True)\n",
    "interactions_metrix = interactions_metrix.fillna(0)"
   ]
  },
  {
   "cell_type": "code",
   "execution_count": 22,
   "id": "8d4c495a",
   "metadata": {},
   "outputs": [],
   "source": [
    "X = interactions_metrix.values.T"
   ]
  },
  {
   "cell_type": "code",
   "execution_count": 25,
   "id": "03f4b0d0",
   "metadata": {},
   "outputs": [
    {
     "data": {
      "text/plain": [
       "(5, 42594)"
      ]
     },
     "execution_count": 25,
     "metadata": {},
     "output_type": "execute_result"
    }
   ],
   "source": [
    "X.shape"
   ]
  },
  {
   "cell_type": "markdown",
   "id": "eb1e44c1",
   "metadata": {},
   "source": [
    "## SVD Model"
   ]
  },
  {
   "cell_type": "code",
   "execution_count": 28,
   "id": "796d9c1e",
   "metadata": {},
   "outputs": [
    {
     "data": {
      "text/plain": [
       "(5, 5)"
      ]
     },
     "execution_count": 28,
     "metadata": {},
     "output_type": "execute_result"
    }
   ],
   "source": [
    "SVD = TruncatedSVD(n_components=200, random_state=0)\n",
    "matrix = SVD.fit_transform(X)\n",
    "matrix.shape"
   ]
  },
  {
   "cell_type": "code",
   "execution_count": null,
   "id": "c3219e17",
   "metadata": {},
   "outputs": [],
   "source": []
  },
  {
   "cell_type": "code",
   "execution_count": null,
   "id": "57de42f5",
   "metadata": {},
   "outputs": [],
   "source": []
  },
  {
   "cell_type": "code",
   "execution_count": null,
   "id": "59e4558e",
   "metadata": {},
   "outputs": [],
   "source": []
  }
 ],
 "metadata": {
  "kernelspec": {
   "display_name": "Python 3 (ipykernel)",
   "language": "python",
   "name": "python3"
  },
  "language_info": {
   "codemirror_mode": {
    "name": "ipython",
    "version": 3
   },
   "file_extension": ".py",
   "mimetype": "text/x-python",
   "name": "python",
   "nbconvert_exporter": "python",
   "pygments_lexer": "ipython3",
   "version": "3.8.12"
  }
 },
 "nbformat": 4,
 "nbformat_minor": 5
}
