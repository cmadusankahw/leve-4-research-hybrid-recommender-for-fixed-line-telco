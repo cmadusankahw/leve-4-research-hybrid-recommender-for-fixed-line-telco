{
 "cells": [
  {
   "cell_type": "code",
   "execution_count": 1,
   "metadata": {},
   "outputs": [],
   "source": [
    "import pandas as pd\n",
    "from math import nan"
   ]
  },
  {
   "cell_type": "code",
   "execution_count": 2,
   "metadata": {},
   "outputs": [],
   "source": [
    "user_content = pd.read_csv(\"data/azure/peoTV_user_content.csv\")"
   ]
  },
  {
   "cell_type": "code",
   "execution_count": 3,
   "metadata": {},
   "outputs": [],
   "source": [
    "scored_df = pd.read_parquet(\"data/azure/scored/peotv_scored.parquet\")"
   ]
  },
  {
   "cell_type": "markdown",
   "metadata": {},
   "source": [
    "### reules Definition"
   ]
  },
  {
   "cell_type": "code",
   "execution_count": 4,
   "metadata": {},
   "outputs": [],
   "source": [
    "package_name = \"Peo_TV_Package\"\n",
    "peo_order = [\"GOLD\", \"PLATINUM\", \"SILVER\", \"UNNATHAM\", \"FAMILY\", \"SILVER PLUS\", \"TITANIUM\", \"ENTERTAINMENT\"]"
   ]
  },
  {
   "cell_type": "code",
   "execution_count": 7,
   "metadata": {},
   "outputs": [],
   "source": [
    "\"\"\"\n",
    "    Package Filtration by type\n",
    "\"\"\"\n",
    "def filter_packages_by_name(pack_name,col):\n",
    "    if not isinstance(col, float) and not isinstance (pack_name, float):\n",
    "        if \"LTE\" in pack_name:\n",
    "            if \"LTE\" in col or \"FTTH\" not in col:\n",
    "                return col\n",
    "        if \"Megaline\" in pack_name:\n",
    "            if \"LTE\" not in col:\n",
    "                return col\n",
    "        if \"FTTH\" in pack_name:\n",
    "            if \"LTE\" not in col and \"FTTH\" in col:\n",
    "                return col\n",
    "        if \"NO_INFO\" in pack_name or \"NO INFO\" in pack_name:\n",
    "            return col\n",
    "\n",
    "\"\"\"\n",
    "    Check subscription \n",
    "\"\"\"\n",
    "def filter_packages_by_subscription(is_sub,col):\n",
    "    if not isinstance(is_sub, float):\n",
    "        if \"YES\" in is_sub:\n",
    "            return col\n",
    "        if \"NO_INFO\" in is_sub or \"NO INFO\" in is_sub:\n",
    "            return col\n",
    "\n",
    "\"\"\"\n",
    "    Check if suspended\n",
    "\"\"\"\n",
    "def filter_packages_if_suspended(is_suspended,col):\n",
    "    if not isinstance(is_suspended, float):\n",
    "        if \"INSERVICE\" in is_suspended:\n",
    "            return col\n",
    "        if \"NO_INFO\" in is_suspended or \"NO INFO\" in is_suspended:\n",
    "            return col\n",
    "\n",
    "\"\"\"\n",
    "    Filter SLT STAFF packages\n",
    "    PeoTV\n",
    "\"\"\"\n",
    "def filter_slt_staff_packages(ori_pack,col):\n",
    "    if not isinstance(ori_pack, float) and not isinstance (col, float):\n",
    "        if \"STAFF\" not in ori_pack or \"Staff\" not in ori_pack or \"staff\" not in ori_pack:\n",
    "            if \"STAFF\" not in col or \"Staff\" not in col or \"staff\" not in col:\n",
    "                return col\n",
    "        else:\n",
    "            return col\n",
    "\n",
    "\n",
    "\"\"\"\n",
    "    Filter by most prefrable PeoTV package\n",
    "\"\"\"\n",
    "def filter_packages_by_list(ori_pack, col, ord_list):\n",
    "    if not isinstance(col, float) and not isinstance(ori_pack, float):\n",
    "        pack_pos = 0\n",
    "        for item in ord_list:\n",
    "            if item in ori_pack:\n",
    "                pack_pos = ord_list.index(item)\n",
    "        comp_list = ord_list[:pack_pos]\n",
    "        for item in comp_list:\n",
    "            if item in col:\n",
    "                return nan\n",
    "        return col "
   ]
  },
  {
   "cell_type": "code",
   "execution_count": 8,
   "metadata": {},
   "outputs": [],
   "source": [
    "scored_df = scored_df.merge(user_content[[\"ACCOUNT_NUM.hash\",package_name,\"is_Subscription\",\"Product_Type\"]].drop_duplicates([\"ACCOUNT_NUM.hash\",package_name]),left_on=\"User\", right_on=\"ACCOUNT_NUM.hash\", how=\"left\").drop(\"ACCOUNT_NUM.hash\",axis=1)"
   ]
  },
  {
   "cell_type": "code",
   "execution_count": 9,
   "metadata": {},
   "outputs": [],
   "source": [
    "recommender_cols = [\"Recommended Item 1\",\"Recommended Item 2\",\"Recommended Item 3\",\"Recommended Item 4\",\"Recommended Item 5\"]"
   ]
  },
  {
   "cell_type": "markdown",
   "metadata": {},
   "source": [
    "### Applying Rules"
   ]
  },
  {
   "cell_type": "code",
   "execution_count": 10,
   "metadata": {},
   "outputs": [],
   "source": [
    "for col in recommender_cols:\n",
    "    scored_df[col] = scored_df.apply(lambda x: filter_slt_staff_packages(x[package_name],x[col]), axis=1)"
   ]
  },
  {
   "cell_type": "code",
   "execution_count": 11,
   "metadata": {},
   "outputs": [],
   "source": [
    "for col in recommender_cols:\n",
    "    scored_df[col] = scored_df.apply(lambda x: filter_packages_by_list(x[package_name],x[col],peo_order), axis=1)"
   ]
  },
  {
   "cell_type": "code",
   "execution_count": 191,
   "metadata": {},
   "outputs": [],
   "source": [
    "# for col in recommender_cols:\n",
    "#     scored_df[col] = scored_df.apply(lambda x: filter_packages_by_subscription(x[\"is_Subscription\"],x[col]), axis=1)"
   ]
  },
  {
   "cell_type": "code",
   "execution_count": null,
   "metadata": {},
   "outputs": [],
   "source": [
    "# for col in recommender_cols:\n",
    "#     scored_df[col] = scored_df.apply(lambda x: filter_packages_if_suspended(x[\"Service_Status\"],x[col]), axis=1)"
   ]
  },
  {
   "cell_type": "code",
   "execution_count": 12,
   "metadata": {},
   "outputs": [],
   "source": [
    "for col in recommender_cols:\n",
    "    scored_df[col] = scored_df.apply(lambda x: filter_packages_by_name(x[\"Product_Type\"],x[col]), axis=1)"
   ]
  },
  {
   "cell_type": "code",
   "execution_count": 13,
   "metadata": {},
   "outputs": [],
   "source": [
    "scored_df.dropna(subset=recommender_cols,inplace=True)"
   ]
  },
  {
   "cell_type": "code",
   "execution_count": 14,
   "metadata": {},
   "outputs": [],
   "source": [
    "scored_df.drop([package_name,\"is_Subscription\",\"Product_Type\"],axis=1, inplace=True)"
   ]
  },
  {
   "cell_type": "code",
   "execution_count": 15,
   "metadata": {},
   "outputs": [
    {
     "data": {
      "text/plain": [
       "(4849, 11)"
      ]
     },
     "execution_count": 15,
     "metadata": {},
     "output_type": "execute_result"
    }
   ],
   "source": [
    "# test\n",
    "scored_df.shape"
   ]
  },
  {
   "cell_type": "markdown",
   "metadata": {},
   "source": [
    "## Filter by Confidence of Recommendations"
   ]
  },
  {
   "cell_type": "code",
   "execution_count": 18,
   "metadata": {},
   "outputs": [],
   "source": [
    "rated_df = scored_df.describe()"
   ]
  },
  {
   "cell_type": "code",
   "execution_count": 24,
   "metadata": {},
   "outputs": [],
   "source": [
    "def filter_by_confidence(data_df, col_list):\n",
    "    i = 0\n",
    "    for col in col_list:\n",
    "        if col > data_df.iloc[1,i]:\n",
    "            return \"YES\"\n",
    "        i = i +1\n",
    "    return \"NO\""
   ]
  },
  {
   "cell_type": "code",
   "execution_count": 25,
   "metadata": {},
   "outputs": [],
   "source": [
    "scored_df[\"Best_Recommendations\"] = scored_df.apply(lambda x: filter_by_confidence(rated_df,[x[\"Predicted Rating 1\"],x[\"Predicted Rating 2\"],x[\"Predicted Rating 3\"],x[\"Predicted Rating 4\"],x[\"Predicted Rating 5\"]]), axis=1)"
   ]
  },
  {
   "cell_type": "code",
   "execution_count": 27,
   "metadata": {},
   "outputs": [
    {
     "data": {
      "text/plain": [
       "YES    2847\n",
       "NO     2002\n",
       "Name: Best_Recommendations, dtype: int64"
      ]
     },
     "execution_count": 27,
     "metadata": {},
     "output_type": "execute_result"
    }
   ],
   "source": [
    "scored_df[\"Best_Recommendations\"].value_counts()"
   ]
  },
  {
   "cell_type": "code",
   "execution_count": 28,
   "metadata": {},
   "outputs": [],
   "source": [
    "scored_df.drop([\"Predicted Rating 1\",\"Predicted Rating 2\",\"Predicted Rating 3\",\"Predicted Rating 4\",\"Predicted Rating 5\"],axis=1, inplace=True)"
   ]
  },
  {
   "cell_type": "code",
   "execution_count": 33,
   "metadata": {},
   "outputs": [
    {
     "data": {
      "text/html": [
       "<div>\n",
       "<style scoped>\n",
       "    .dataframe tbody tr th:only-of-type {\n",
       "        vertical-align: middle;\n",
       "    }\n",
       "\n",
       "    .dataframe tbody tr th {\n",
       "        vertical-align: top;\n",
       "    }\n",
       "\n",
       "    .dataframe thead th {\n",
       "        text-align: right;\n",
       "    }\n",
       "</style>\n",
       "<table border=\"1\" class=\"dataframe\">\n",
       "  <thead>\n",
       "    <tr style=\"text-align: right;\">\n",
       "      <th></th>\n",
       "      <th>User</th>\n",
       "      <th>Recommended Item 1</th>\n",
       "      <th>Recommended Item 2</th>\n",
       "      <th>Recommended Item 3</th>\n",
       "      <th>Recommended Item 4</th>\n",
       "      <th>Recommended Item 5</th>\n",
       "      <th>Best_Recommendations</th>\n",
       "    </tr>\n",
       "  </thead>\n",
       "  <tbody>\n",
       "    <tr>\n",
       "      <th>0</th>\n",
       "      <td>0013519e648e9718c56e1e6ccfb3b17d</td>\n",
       "      <td>PEO_SILVER</td>\n",
       "      <td>PEO_VIRUSARA_VARAPPRASADA</td>\n",
       "      <td>PEO_UNNATHAM</td>\n",
       "      <td>SLT_SHARE_HOLDER_PACKAGE</td>\n",
       "      <td>PEO_UTHAYAM</td>\n",
       "      <td>YES</td>\n",
       "    </tr>\n",
       "    <tr>\n",
       "      <th>3</th>\n",
       "      <td>002b0ab25152c9566b7441848f117593</td>\n",
       "      <td>PEO_SILVER</td>\n",
       "      <td>PEO_VIRUSARA_VARAPPRASADA</td>\n",
       "      <td>PEO_UNNATHAM</td>\n",
       "      <td>PEO_UTHAYAM</td>\n",
       "      <td>SLT_SHARE_HOLDER_PACKAGE</td>\n",
       "      <td>NO</td>\n",
       "    </tr>\n",
       "    <tr>\n",
       "      <th>4</th>\n",
       "      <td>003b9fb01f296b23d6727c322011db66</td>\n",
       "      <td>PEO_SILVER</td>\n",
       "      <td>PEO_UNNATHAM</td>\n",
       "      <td>PEO_SILVER_PLUS</td>\n",
       "      <td>SLTStaff_PEO_SILVER</td>\n",
       "      <td>PEO_UTHAYAM</td>\n",
       "      <td>YES</td>\n",
       "    </tr>\n",
       "    <tr>\n",
       "      <th>5</th>\n",
       "      <td>003ffd7c83136dcd2ffe06d88170defe</td>\n",
       "      <td>PEO_SILVER</td>\n",
       "      <td>PEO_UNNATHAM</td>\n",
       "      <td>PEO_VIRUSARA_VARAPPRASADA</td>\n",
       "      <td>SLT_STAFF_TRIPLE_PLAY</td>\n",
       "      <td>PRANAMA</td>\n",
       "      <td>YES</td>\n",
       "    </tr>\n",
       "    <tr>\n",
       "      <th>7</th>\n",
       "      <td>004c94de02a14064088638b77c84a739</td>\n",
       "      <td>PEO_SILVER</td>\n",
       "      <td>PEO_UNNATHAM</td>\n",
       "      <td>PEO_VIRUSARA_VARAPPRASADA</td>\n",
       "      <td>PEO_SILVER_PLUS</td>\n",
       "      <td>PEO_UTHAYAM</td>\n",
       "      <td>YES</td>\n",
       "    </tr>\n",
       "  </tbody>\n",
       "</table>\n",
       "</div>"
      ],
      "text/plain": [
       "                               User Recommended Item 1  \\\n",
       "0  0013519e648e9718c56e1e6ccfb3b17d         PEO_SILVER   \n",
       "3  002b0ab25152c9566b7441848f117593         PEO_SILVER   \n",
       "4  003b9fb01f296b23d6727c322011db66         PEO_SILVER   \n",
       "5  003ffd7c83136dcd2ffe06d88170defe         PEO_SILVER   \n",
       "7  004c94de02a14064088638b77c84a739         PEO_SILVER   \n",
       "\n",
       "          Recommended Item 2         Recommended Item 3  \\\n",
       "0  PEO_VIRUSARA_VARAPPRASADA               PEO_UNNATHAM   \n",
       "3  PEO_VIRUSARA_VARAPPRASADA               PEO_UNNATHAM   \n",
       "4               PEO_UNNATHAM            PEO_SILVER_PLUS   \n",
       "5               PEO_UNNATHAM  PEO_VIRUSARA_VARAPPRASADA   \n",
       "7               PEO_UNNATHAM  PEO_VIRUSARA_VARAPPRASADA   \n",
       "\n",
       "         Recommended Item 4        Recommended Item 5 Best_Recommendations  \n",
       "0  SLT_SHARE_HOLDER_PACKAGE               PEO_UTHAYAM                  YES  \n",
       "3               PEO_UTHAYAM  SLT_SHARE_HOLDER_PACKAGE                   NO  \n",
       "4       SLTStaff_PEO_SILVER               PEO_UTHAYAM                  YES  \n",
       "5     SLT_STAFF_TRIPLE_PLAY                   PRANAMA                  YES  \n",
       "7           PEO_SILVER_PLUS               PEO_UTHAYAM                  YES  "
      ]
     },
     "execution_count": 33,
     "metadata": {},
     "output_type": "execute_result"
    }
   ],
   "source": [
    "scored_df.head()"
   ]
  },
  {
   "cell_type": "code",
   "execution_count": 32,
   "metadata": {},
   "outputs": [],
   "source": [
    "scored_df.to_csv(\"data/azure/scored/peotv_scored_filterd.csv\")"
   ]
  },
  {
   "cell_type": "code",
   "execution_count": null,
   "metadata": {},
   "outputs": [],
   "source": []
  }
 ],
 "metadata": {
  "kernelspec": {
   "display_name": "Python 3 (ipykernel)",
   "language": "python",
   "name": "python3"
  },
  "language_info": {
   "codemirror_mode": {
    "name": "ipython",
    "version": 3
   },
   "file_extension": ".py",
   "mimetype": "text/x-python",
   "name": "python",
   "nbconvert_exporter": "python",
   "pygments_lexer": "ipython3",
   "version": "3.8.12"
  }
 },
 "nbformat": 4,
 "nbformat_minor": 4
}
