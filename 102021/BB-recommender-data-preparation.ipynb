{
 "cells": [
  {
   "cell_type": "code",
   "execution_count": 77,
   "metadata": {},
   "outputs": [],
   "source": [
    "# import libraries\n",
    "import numpy as np\n",
    "import pandas as pd\n",
    "import seaborn as sns\n",
    "import matplotlib.pyplot as plt\n",
    "from sklearn.preprocessing import MinMaxScaler"
   ]
  },
  {
   "cell_type": "code",
   "execution_count": 78,
   "metadata": {},
   "outputs": [],
   "source": [
    "bb_usage = pd.read_csv(\"data/user_profile/BB_Usage_CF.csv\")"
   ]
  },
  {
   "cell_type": "code",
   "execution_count": 79,
   "metadata": {},
   "outputs": [],
   "source": [
    "user_all_df = pd.read_csv(\"data/user_profile/account_no_map_all.csv\")"
   ]
  },
  {
   "cell_type": "code",
   "execution_count": 80,
   "metadata": {},
   "outputs": [],
   "source": [
    "user_profile = pd.read_csv(\"data/user_profile/prepared/User_Profile_Null_Handled.csv\")"
   ]
  },
  {
   "cell_type": "code",
   "execution_count": 81,
   "metadata": {},
   "outputs": [],
   "source": [
    "user_bb_map = pd.read_csv(\"data/user_profile/User_BB_Package_Map.csv\")"
   ]
  },
  {
   "cell_type": "code",
   "execution_count": 82,
   "metadata": {},
   "outputs": [],
   "source": [
    "bb_usage.drop([\"Unnamed: 0\"],axis=1,inplace=True)\n",
    "user_all_df.drop([\"Unnamed: 0\"],axis=1,inplace=True)\n",
    "user_profile.drop([\"Unnamed: 0\"],axis=1,inplace=True)\n",
    "user_bb_map.drop([\"Unnamed: 0\"],axis=1,inplace=True)"
   ]
  },
  {
   "cell_type": "code",
   "execution_count": 83,
   "metadata": {},
   "outputs": [],
   "source": [
    "bb_usage = bb_usage.merge(user_all_df[[\"event_source.hash\",\"ACCOUNT_NUM.hash\"]], on=\"event_source.hash\", how=\"left\")\n",
    "bb_usage.drop([\"event_source.hash\"],axis=1, inplace=True)\n",
    "bb_usage.drop_duplicates([\"ACCOUNT_NUM.hash\",\"rating\",\"year-month\"],inplace=True)\n",
    "bb_usage.dropna(subset=[\"ACCOUNT_NUM.hash\"], inplace=True)"
   ]
  },
  {
   "cell_type": "code",
   "execution_count": 84,
   "metadata": {},
   "outputs": [],
   "source": [
    "bb_usage = bb_usage.merge(user_bb_map, on=\"ACCOUNT_NUM.hash\", how=\"left\")"
   ]
  },
  {
   "cell_type": "code",
   "execution_count": 85,
   "metadata": {},
   "outputs": [],
   "source": [
    "bb_usage.dropna(subset=[\"BB_Package\"], inplace=True)"
   ]
  },
  {
   "cell_type": "markdown",
   "metadata": {},
   "source": [
    "### Exporting Package Names"
   ]
  },
  {
   "cell_type": "code",
   "execution_count": 86,
   "metadata": {},
   "outputs": [],
   "source": [
    "bb_usage[[\"rating\",\"BB_Package\"]].drop_duplicates([\"BB_Package\"]).to_csv(\"data/product_catalog/BB_Names.csv\")"
   ]
  },
  {
   "cell_type": "code",
   "execution_count": 87,
   "metadata": {},
   "outputs": [
    {
     "name": "stderr",
     "output_type": "stream",
     "text": [
      "/Users/chiranhewawitharana/mambaforge/envs/mactf/lib/python3.8/site-packages/pandas/core/frame.py:5039: SettingWithCopyWarning: \n",
      "A value is trying to be set on a copy of a slice from a DataFrame\n",
      "\n",
      "See the caveats in the documentation: https://pandas.pydata.org/pandas-docs/stable/user_guide/indexing.html#returning-a-view-versus-a-copy\n",
      "  return super().rename(\n"
     ]
    }
   ],
   "source": [
    "rating_df=bb_usage[[\"ACCOUNT_NUM.hash\",\"BB_Package\",\"rating\"]]\n",
    "rating_df.rename(columns={'rating':'ratings','BB_Package':'package'},inplace=True)"
   ]
  },
  {
   "cell_type": "code",
   "execution_count": 88,
   "metadata": {},
   "outputs": [
    {
     "name": "stderr",
     "output_type": "stream",
     "text": [
      "/Users/chiranhewawitharana/mambaforge/envs/mactf/lib/python3.8/site-packages/pandas/core/frame.py:4906: SettingWithCopyWarning: \n",
      "A value is trying to be set on a copy of a slice from a DataFrame\n",
      "\n",
      "See the caveats in the documentation: https://pandas.pydata.org/pandas-docs/stable/user_guide/indexing.html#returning-a-view-versus-a-copy\n",
      "  return super().drop(\n"
     ]
    }
   ],
   "source": [
    "rating_df.reset_index(inplace=True)\n",
    "rating_df.drop(\"index\", axis=1, inplace=True)"
   ]
  },
  {
   "cell_type": "code",
   "execution_count": 91,
   "metadata": {},
   "outputs": [
    {
     "data": {
      "text/html": [
       "<div>\n",
       "<style scoped>\n",
       "    .dataframe tbody tr th:only-of-type {\n",
       "        vertical-align: middle;\n",
       "    }\n",
       "\n",
       "    .dataframe tbody tr th {\n",
       "        vertical-align: top;\n",
       "    }\n",
       "\n",
       "    .dataframe thead th {\n",
       "        text-align: right;\n",
       "    }\n",
       "</style>\n",
       "<table border=\"1\" class=\"dataframe\">\n",
       "  <thead>\n",
       "    <tr style=\"text-align: right;\">\n",
       "      <th></th>\n",
       "      <th>ACCOUNT_NUM.hash</th>\n",
       "      <th>package</th>\n",
       "      <th>ratings</th>\n",
       "    </tr>\n",
       "  </thead>\n",
       "  <tbody>\n",
       "    <tr>\n",
       "      <th>0</th>\n",
       "      <td>4c79064941253fbbcc922e263bb47077</td>\n",
       "      <td>FTTH_WEB FAMILY PLUS</td>\n",
       "      <td>0.7500</td>\n",
       "    </tr>\n",
       "    <tr>\n",
       "      <th>1</th>\n",
       "      <td>4c79064941253fbbcc922e263bb47077</td>\n",
       "      <td>FTTH_WEB FAMILY PLUS</td>\n",
       "      <td>0.5625</td>\n",
       "    </tr>\n",
       "    <tr>\n",
       "      <th>2</th>\n",
       "      <td>4c79064941253fbbcc922e263bb47077</td>\n",
       "      <td>FTTH_WEB FAMILY PLUS</td>\n",
       "      <td>0.7500</td>\n",
       "    </tr>\n",
       "    <tr>\n",
       "      <th>3</th>\n",
       "      <td>4c79064941253fbbcc922e263bb47077</td>\n",
       "      <td>FTTH_WEB FAMILY PLUS</td>\n",
       "      <td>0.7500</td>\n",
       "    </tr>\n",
       "    <tr>\n",
       "      <th>4</th>\n",
       "      <td>4c79064941253fbbcc922e263bb47077</td>\n",
       "      <td>FTTH_WEB FAMILY PLUS</td>\n",
       "      <td>0.7500</td>\n",
       "    </tr>\n",
       "  </tbody>\n",
       "</table>\n",
       "</div>"
      ],
      "text/plain": [
       "                   ACCOUNT_NUM.hash               package  ratings\n",
       "0  4c79064941253fbbcc922e263bb47077  FTTH_WEB FAMILY PLUS   0.7500\n",
       "1  4c79064941253fbbcc922e263bb47077  FTTH_WEB FAMILY PLUS   0.5625\n",
       "2  4c79064941253fbbcc922e263bb47077  FTTH_WEB FAMILY PLUS   0.7500\n",
       "3  4c79064941253fbbcc922e263bb47077  FTTH_WEB FAMILY PLUS   0.7500\n",
       "4  4c79064941253fbbcc922e263bb47077  FTTH_WEB FAMILY PLUS   0.7500"
      ]
     },
     "execution_count": 91,
     "metadata": {},
     "output_type": "execute_result"
    }
   ],
   "source": [
    "rating_df.head()"
   ]
  },
  {
   "cell_type": "code",
   "execution_count": 92,
   "metadata": {},
   "outputs": [
    {
     "name": "stdout",
     "output_type": "stream",
     "text": [
      "<class 'pandas.core.frame.DataFrame'>\n",
      "RangeIndex: 186986 entries, 0 to 186985\n",
      "Data columns (total 3 columns):\n",
      " #   Column            Non-Null Count   Dtype  \n",
      "---  ------            --------------   -----  \n",
      " 0   ACCOUNT_NUM.hash  186986 non-null  object \n",
      " 1   package           186986 non-null  object \n",
      " 2   ratings           186986 non-null  float64\n",
      "dtypes: float64(1), object(2)\n",
      "memory usage: 4.3+ MB\n"
     ]
    }
   ],
   "source": [
    "rating_df.info()"
   ]
  },
  {
   "cell_type": "code",
   "execution_count": 93,
   "metadata": {},
   "outputs": [],
   "source": [
    "rating_df.to_csv(\"data/azure/BB_user_ratings.csv\")"
   ]
  },
  {
   "cell_type": "markdown",
   "metadata": {},
   "source": [
    "## User content"
   ]
  },
  {
   "cell_type": "code",
   "execution_count": 94,
   "metadata": {},
   "outputs": [],
   "source": [
    "pd.set_option(\"display.max_rows\", None, \"display.max_columns\", None)"
   ]
  },
  {
   "cell_type": "code",
   "execution_count": 95,
   "metadata": {},
   "outputs": [
    {
     "data": {
      "text/plain": [
       "ACCOUNT_NUM.hash                            0\n",
       "Voice_INCOMING_Categorical                  0\n",
       "Voice_INCOMING_Scaled                       0\n",
       "Voice_INCOMING_Outlier                      0\n",
       "Location_Identifier                         0\n",
       "Location_Node                               0\n",
       "Package_Type_and_Medium                     0\n",
       "Model                                       0\n",
       "Service_Status                              0\n",
       "Voice_OUTGOING_Categorical                  0\n",
       "Voice_OUTGOING_Scaled                       0\n",
       "Voice_OUTGOING_Outlier                      0\n",
       "IDD_INCOMING_Categorical                    0\n",
       "IDD_INCOMING_Scaled                         0\n",
       "IDD_INCOMING_Outlier                        0\n",
       "IDD_incoming_country                        0\n",
       "IDD_OUTGOING_Categorical                    0\n",
       "IDD_OUTGOING_Scaled                         0\n",
       "IDD_OUTGOING_Outlier                        0\n",
       "IDD_outgoing_country                        0\n",
       "Peo_TV_Package                              0\n",
       "PEO_TV_Categorical                          0\n",
       "PEO_TV_Scaled                               0\n",
       "BB_Categorical                              0\n",
       "BB_Scaled                                   0\n",
       "BB_Package                                  0\n",
       "GENDER                                      0\n",
       "BIRTH_YEAR                                  0\n",
       "AGE                                         0\n",
       "Voice_Overall_Categorical                   0\n",
       "IDD_Overall_Categorical                     0\n",
       "VOICE_Categorical                           0\n",
       "Subscription                                0\n",
       "Sub_Type                                    0\n",
       "Sub_Usage                                   0\n",
       "Sub_Type_State                              0\n",
       "Megaline_Package                            0\n",
       "Megaline_Month_Subscribed                   0\n",
       "Megaline_Rental                             0\n",
       "Package_Type                                0\n",
       "Megaline_Medium                             0\n",
       "is_Promotion                                0\n",
       "FTTH_Package                                0\n",
       "FTTH_Month_Subscribed                       0\n",
       "FTTH_Rental                                 0\n",
       "FTTH_Medium                                 0\n",
       "LTE_Package                                 0\n",
       "LTE_Month_Subscribed                        0\n",
       "LTE_Rental                                  0\n",
       "LTE_Medium                                  0\n",
       "VAS_Package                                 0\n",
       "VAS_Month_Subscribed                        0\n",
       "VAS_Rental                                  0\n",
       "Product_Type                                0\n",
       "VAS_Medium                                  0\n",
       "Sub_Update_Date                             0\n",
       "Sub_Update_Status                           0\n",
       "Sub_Update                                  0\n",
       "BB_Extra_GB_Rental                          0\n",
       "GB_Amount                                   0\n",
       "Hour_Subscribed                             0\n",
       "BB_Extra_GB_Usage_Times                     0\n",
       "BB_Extra_GB_Month_vs_Rental                 0\n",
       "BB_Extra_GB_Purchased_Scaled                0\n",
       "BB_Extra_GB_Purchase_Categorical            0\n",
       "Peo_Extra_Channels_Cumulative_Rental        0\n",
       "Peo_Extra_Channels_Month_vs_Rental          0\n",
       "Peo_Extra_Channels_Purchased_Scaled         0\n",
       "Peo_Extra_Channels_Purchased_Categorical    0\n",
       "Bill_Balance_Froward                        0\n",
       "Bill_Net_Invoice                            0\n",
       "Bill_Tax_Invoice                            0\n",
       "Bill_Outstanding_Balance                    0\n",
       "Bill_Amount_Paid                            0\n",
       "Bill_Faild_to_Pay                           0\n",
       "Bill_Adjustment_Paid                        0\n",
       "Bill_Refunds_Paid                           0\n",
       "Bill_Payment_Due_Date                       0\n",
       "Bill_Bill_Settled_Date                      0\n",
       "Bill_Actual_Bill_Date                       0\n",
       "Bill_Billing_Status                         0\n",
       "Payment_Status                              0\n",
       "Payments_Month_vs_Amount_Paid               0\n",
       "Package_Formatted                           0\n",
       "FREE_or_PAID                                0\n",
       "is_Subscription                             0\n",
       "TARIFF_DESC                                 0\n",
       "TARIFF_NAME                                 0\n",
       "Having_Insurance                            0\n",
       "Having_Senior_Citizen_Scaled                0\n",
       "Having_Senior_Citizen                       0\n",
       "Having_Kids_at_Home_Scaled                  0\n",
       "Having_Kids_at_Home                         0\n",
       "SMEs_Scaled                                 0\n",
       "SMEs                                        0\n",
       "Having_Teenagers_Students_Scaled            0\n",
       "Having_Teenagers_Students                   0\n",
       "Having_Working_Professionals_Scaled         0\n",
       "Having_Working_Professionals                0\n",
       "Having_Family_Member_Abroad_Scaled          0\n",
       "Having_Family_Member_Abroad                 0\n",
       "Tamil_Customer                              0\n",
       "Peo_Packages_if_Senior_Citizen              0\n",
       "Peo_Packages_if_Kids                        0\n",
       "Peo_Packages_if_Teenager_Students           0\n",
       "Peo_Package_if_Working_Professionals        0\n",
       "BB_Package_if_Working_Professionals         0\n",
       "BB_Packages_if_Teenager_Students            0\n",
       "BB_Packages_if_SMEss                        0\n",
       "VAS_if_Kids                                 0\n",
       "VAS_if_Teenager_Students                    0\n",
       "VAS_if_Working_Professionals                0\n",
       "IDD_if_Family_Member_Abroad                 0\n",
       "dtype: int64"
      ]
     },
     "execution_count": 95,
     "metadata": {},
     "output_type": "execute_result"
    }
   ],
   "source": [
    "user_profile.isna().sum()"
   ]
  },
  {
   "cell_type": "code",
   "execution_count": 96,
   "metadata": {},
   "outputs": [],
   "source": [
    "user_profile = user_profile[(user_profile[\"BB_Package\"] != \"NO_INFO\")]\n",
    "user_profile.reset_index(drop=True, inplace=True)"
   ]
  },
  {
   "cell_type": "code",
   "execution_count": 97,
   "metadata": {},
   "outputs": [
    {
     "data": {
      "text/plain": [
       "(14836, 113)"
      ]
     },
     "execution_count": 97,
     "metadata": {},
     "output_type": "execute_result"
    }
   ],
   "source": [
    "user_profile.shape"
   ]
  },
  {
   "cell_type": "markdown",
   "metadata": {},
   "source": [
    "## TODO: Feature Selection"
   ]
  },
  {
   "cell_type": "code",
   "execution_count": null,
   "metadata": {},
   "outputs": [],
   "source": []
  },
  {
   "cell_type": "code",
   "execution_count": 98,
   "metadata": {},
   "outputs": [],
   "source": [
    "user_profile.drop([\"BB_Package\",\"BB_Categorical\",\"BB_Scaled\",\"BIRTH_YEAR\",\"Megaline_Month_Subscribed\",\"LTE_Month_Subscribed\",\"VAS_Month_Subscribed\"], axis=1, inplace= True)"
   ]
  },
  {
   "cell_type": "code",
   "execution_count": 99,
   "metadata": {},
   "outputs": [],
   "source": [
    "user_profile.to_csv(\"data/azure/BB_user_content.csv\")"
   ]
  },
  {
   "cell_type": "markdown",
   "metadata": {},
   "source": [
    "## Product (package) content"
   ]
  },
  {
   "cell_type": "code",
   "execution_count": 62,
   "metadata": {},
   "outputs": [],
   "source": [
    "product_profile = pd.read_csv(\"data/product_catalog/Product_Profile_Finalised_CSV.csv\")"
   ]
  },
  {
   "cell_type": "code",
   "execution_count": 63,
   "metadata": {},
   "outputs": [
    {
     "name": "stdout",
     "output_type": "stream",
     "text": [
      "<class 'pandas.core.frame.DataFrame'>\n",
      "RangeIndex: 263 entries, 0 to 262\n",
      "Data columns (total 20 columns):\n",
      " #   Column               Non-Null Count  Dtype  \n",
      "---  ------               --------------  -----  \n",
      " 0   Product_ID           263 non-null    object \n",
      " 1   Base_Type            241 non-null    object \n",
      " 2   Pricing_Type         134 non-null    object \n",
      " 3   Package_Type         134 non-null    object \n",
      " 4   Title                134 non-null    object \n",
      " 5   Description          47 non-null     object \n",
      " 6   BB_Data_Standard     43 non-null     float64\n",
      " 7   BB_Data_Free         43 non-null     float64\n",
      " 8   BB_Data_Anytime      32 non-null     float64\n",
      " 9   BB_Data_Unlimited    11 non-null     object \n",
      " 10  BB_Connection_Type   86 non-null     object \n",
      " 11  BB_Connection_Speed  89 non-null     object \n",
      " 12  Price                133 non-null    object \n",
      " 13  Monthly_Rental       141 non-null    float64\n",
      " 14  Subscription_Type    151 non-null    object \n",
      " 15  Recidence_Type       134 non-null    object \n",
      " 16  Tax_Status           131 non-null    object \n",
      " 17  Conditions           131 non-null    object \n",
      " 18  Transfer_Medium      19 non-null     object \n",
      " 19  TARIFF_NAME          22 non-null     object \n",
      "dtypes: float64(4), object(16)\n",
      "memory usage: 41.2+ KB\n"
     ]
    }
   ],
   "source": [
    "product_df=product_profile.iloc[:,[0,1,2,3,5,6,7,8,9,10,11,12,14,15,35,37,38,39,42,43]]\n",
    "product_df.info()"
   ]
  },
  {
   "cell_type": "code",
   "execution_count": 64,
   "metadata": {},
   "outputs": [],
   "source": [
    "temp_package_df=rating_df[\"package\"]"
   ]
  },
  {
   "cell_type": "code",
   "execution_count": 65,
   "metadata": {},
   "outputs": [],
   "source": [
    "# def drop_bb(col):\n",
    "#     if not isinstance(col,float):\n",
    "#         return  col.replace(\"BB\",\"\").replace(\"_\",\" \").replace(\"Fibre\",\"\").replace(\"Higher Education\",\"Student Package\").replace(\"4G\",\"\").replace(\"ADSL\",\"\").replace(\"1Gbps\",\"\").replace(\"25\",\"\").replace(\"5\",\"\").replace(f\" {col[1]}\",f\"{col[1]}\").replace(f\"{col[-2]} \",f\"{col[-2]}\")"
   ]
  },
  {
   "cell_type": "code",
   "execution_count": 66,
   "metadata": {},
   "outputs": [
    {
     "name": "stderr",
     "output_type": "stream",
     "text": [
      "/var/folders/00/gmvdw06n48lgtsz126ng5y2m0000gn/T/ipykernel_19753/3752627301.py:2: SettingWithCopyWarning: \n",
      "A value is trying to be set on a copy of a slice from a DataFrame.\n",
      "Try using .loc[row_indexer,col_indexer] = value instead\n",
      "\n",
      "See the caveats in the documentation: https://pandas.pydata.org/pandas-docs/stable/user_guide/indexing.html#returning-a-view-versus-a-copy\n",
      "  product_df[\"Product_ID\"] = product_df[\"Product_ID\"].apply(lambda x: drop_bb(x))\n"
     ]
    }
   ],
   "source": [
    "# for i in range(0,10):\n",
    "#     product_df[\"Product_ID\"] = product_df[\"Product_ID\"].apply(lambda x: drop_bb(x))"
   ]
  },
  {
   "cell_type": "code",
   "execution_count": 67,
   "metadata": {},
   "outputs": [],
   "source": [
    "bb_products_df = product_df.merge(temp_package_df.drop_duplicates(), left_on=['Product_ID'], right_on=['package'] ,\n",
    "                   how='left', indicator=True)"
   ]
  },
  {
   "cell_type": "code",
   "execution_count": 68,
   "metadata": {},
   "outputs": [],
   "source": [
    "bbp_df = bb_products_df[(bb_products_df[\"_merge\"]==\"both\")]"
   ]
  },
  {
   "cell_type": "code",
   "execution_count": 69,
   "metadata": {},
   "outputs": [
    {
     "name": "stderr",
     "output_type": "stream",
     "text": [
      "/Users/chiranhewawitharana/mambaforge/envs/mactf/lib/python3.8/site-packages/pandas/core/frame.py:4906: SettingWithCopyWarning: \n",
      "A value is trying to be set on a copy of a slice from a DataFrame\n",
      "\n",
      "See the caveats in the documentation: https://pandas.pydata.org/pandas-docs/stable/user_guide/indexing.html#returning-a-view-versus-a-copy\n",
      "  return super().drop(\n",
      "/Users/chiranhewawitharana/mambaforge/envs/mactf/lib/python3.8/site-packages/pandas/core/frame.py:5039: SettingWithCopyWarning: \n",
      "A value is trying to be set on a copy of a slice from a DataFrame\n",
      "\n",
      "See the caveats in the documentation: https://pandas.pydata.org/pandas-docs/stable/user_guide/indexing.html#returning-a-view-versus-a-copy\n",
      "  return super().rename(\n"
     ]
    }
   ],
   "source": [
    "bbp_df.drop([\"package\",\"_merge\"],axis=1,inplace=True)\n",
    "bbp_df.rename(columns={'Product_ID':'package'},inplace=True)\n",
    "bbp_df.reset_index(drop=True, inplace=True)"
   ]
  },
  {
   "cell_type": "code",
   "execution_count": 70,
   "metadata": {},
   "outputs": [],
   "source": [
    "cols =[\"BB_Data_Standard\",\"BB_Data_Free\",\"BB_Data_Anytime\",\"BB_Data_Unlimited\"]"
   ]
  },
  {
   "cell_type": "code",
   "execution_count": 71,
   "metadata": {},
   "outputs": [],
   "source": [
    "bbp_df[cols] = bbp_df[cols].fillna(0)"
   ]
  },
  {
   "cell_type": "code",
   "execution_count": 72,
   "metadata": {},
   "outputs": [
    {
     "ename": "ValueError",
     "evalue": "Found array with 0 sample(s) (shape=(0, 1)) while a minimum of 1 is required by MinMaxScaler.",
     "output_type": "error",
     "traceback": [
      "\u001b[0;31m---------------------------------------------------------------------------\u001b[0m",
      "\u001b[0;31mValueError\u001b[0m                                Traceback (most recent call last)",
      "\u001b[0;32m/var/folders/00/gmvdw06n48lgtsz126ng5y2m0000gn/T/ipykernel_19753/277134799.py\u001b[0m in \u001b[0;36m<module>\u001b[0;34m\u001b[0m\n\u001b[1;32m      1\u001b[0m \u001b[0mscaler\u001b[0m \u001b[0;34m=\u001b[0m \u001b[0mMinMaxScaler\u001b[0m\u001b[0;34m(\u001b[0m\u001b[0;34m)\u001b[0m\u001b[0;34m\u001b[0m\u001b[0;34m\u001b[0m\u001b[0m\n\u001b[1;32m      2\u001b[0m \u001b[0;32mfor\u001b[0m \u001b[0mcol\u001b[0m \u001b[0;32min\u001b[0m \u001b[0mcols\u001b[0m\u001b[0;34m:\u001b[0m\u001b[0;34m\u001b[0m\u001b[0;34m\u001b[0m\u001b[0m\n\u001b[0;32m----> 3\u001b[0;31m     \u001b[0mbbp_df\u001b[0m\u001b[0;34m[\u001b[0m\u001b[0mcol\u001b[0m\u001b[0;34m]\u001b[0m \u001b[0;34m=\u001b[0m \u001b[0mscaler\u001b[0m\u001b[0;34m.\u001b[0m\u001b[0mfit_transform\u001b[0m\u001b[0;34m(\u001b[0m\u001b[0mbbp_df\u001b[0m\u001b[0;34m[\u001b[0m\u001b[0mcol\u001b[0m\u001b[0;34m]\u001b[0m\u001b[0;34m.\u001b[0m\u001b[0mvalues\u001b[0m\u001b[0;34m.\u001b[0m\u001b[0mreshape\u001b[0m\u001b[0;34m(\u001b[0m\u001b[0;34m-\u001b[0m\u001b[0;36m1\u001b[0m\u001b[0;34m,\u001b[0m\u001b[0;36m1\u001b[0m\u001b[0;34m)\u001b[0m\u001b[0;34m)\u001b[0m\u001b[0;34m\u001b[0m\u001b[0;34m\u001b[0m\u001b[0m\n\u001b[0m",
      "\u001b[0;32m~/mambaforge/envs/mactf/lib/python3.8/site-packages/sklearn/base.py\u001b[0m in \u001b[0;36mfit_transform\u001b[0;34m(self, X, y, **fit_params)\u001b[0m\n\u001b[1;32m    697\u001b[0m         \u001b[0;32mif\u001b[0m \u001b[0my\u001b[0m \u001b[0;32mis\u001b[0m \u001b[0;32mNone\u001b[0m\u001b[0;34m:\u001b[0m\u001b[0;34m\u001b[0m\u001b[0;34m\u001b[0m\u001b[0m\n\u001b[1;32m    698\u001b[0m             \u001b[0;31m# fit method of arity 1 (unsupervised transformation)\u001b[0m\u001b[0;34m\u001b[0m\u001b[0;34m\u001b[0m\u001b[0;34m\u001b[0m\u001b[0m\n\u001b[0;32m--> 699\u001b[0;31m             \u001b[0;32mreturn\u001b[0m \u001b[0mself\u001b[0m\u001b[0;34m.\u001b[0m\u001b[0mfit\u001b[0m\u001b[0;34m(\u001b[0m\u001b[0mX\u001b[0m\u001b[0;34m,\u001b[0m \u001b[0;34m**\u001b[0m\u001b[0mfit_params\u001b[0m\u001b[0;34m)\u001b[0m\u001b[0;34m.\u001b[0m\u001b[0mtransform\u001b[0m\u001b[0;34m(\u001b[0m\u001b[0mX\u001b[0m\u001b[0;34m)\u001b[0m\u001b[0;34m\u001b[0m\u001b[0;34m\u001b[0m\u001b[0m\n\u001b[0m\u001b[1;32m    700\u001b[0m         \u001b[0;32melse\u001b[0m\u001b[0;34m:\u001b[0m\u001b[0;34m\u001b[0m\u001b[0;34m\u001b[0m\u001b[0m\n\u001b[1;32m    701\u001b[0m             \u001b[0;31m# fit method of arity 2 (supervised transformation)\u001b[0m\u001b[0;34m\u001b[0m\u001b[0;34m\u001b[0m\u001b[0;34m\u001b[0m\u001b[0m\n",
      "\u001b[0;32m~/mambaforge/envs/mactf/lib/python3.8/site-packages/sklearn/preprocessing/_data.py\u001b[0m in \u001b[0;36mfit\u001b[0;34m(self, X, y)\u001b[0m\n\u001b[1;32m    361\u001b[0m         \u001b[0;31m# Reset internal state before fitting\u001b[0m\u001b[0;34m\u001b[0m\u001b[0;34m\u001b[0m\u001b[0;34m\u001b[0m\u001b[0m\n\u001b[1;32m    362\u001b[0m         \u001b[0mself\u001b[0m\u001b[0;34m.\u001b[0m\u001b[0m_reset\u001b[0m\u001b[0;34m(\u001b[0m\u001b[0;34m)\u001b[0m\u001b[0;34m\u001b[0m\u001b[0;34m\u001b[0m\u001b[0m\n\u001b[0;32m--> 363\u001b[0;31m         \u001b[0;32mreturn\u001b[0m \u001b[0mself\u001b[0m\u001b[0;34m.\u001b[0m\u001b[0mpartial_fit\u001b[0m\u001b[0;34m(\u001b[0m\u001b[0mX\u001b[0m\u001b[0;34m,\u001b[0m \u001b[0my\u001b[0m\u001b[0;34m)\u001b[0m\u001b[0;34m\u001b[0m\u001b[0;34m\u001b[0m\u001b[0m\n\u001b[0m\u001b[1;32m    364\u001b[0m \u001b[0;34m\u001b[0m\u001b[0m\n\u001b[1;32m    365\u001b[0m     \u001b[0;32mdef\u001b[0m \u001b[0mpartial_fit\u001b[0m\u001b[0;34m(\u001b[0m\u001b[0mself\u001b[0m\u001b[0;34m,\u001b[0m \u001b[0mX\u001b[0m\u001b[0;34m,\u001b[0m \u001b[0my\u001b[0m\u001b[0;34m=\u001b[0m\u001b[0;32mNone\u001b[0m\u001b[0;34m)\u001b[0m\u001b[0;34m:\u001b[0m\u001b[0;34m\u001b[0m\u001b[0;34m\u001b[0m\u001b[0m\n",
      "\u001b[0;32m~/mambaforge/envs/mactf/lib/python3.8/site-packages/sklearn/preprocessing/_data.py\u001b[0m in \u001b[0;36mpartial_fit\u001b[0;34m(self, X, y)\u001b[0m\n\u001b[1;32m    394\u001b[0m \u001b[0;34m\u001b[0m\u001b[0m\n\u001b[1;32m    395\u001b[0m         \u001b[0mfirst_pass\u001b[0m \u001b[0;34m=\u001b[0m \u001b[0;32mnot\u001b[0m \u001b[0mhasattr\u001b[0m\u001b[0;34m(\u001b[0m\u001b[0mself\u001b[0m\u001b[0;34m,\u001b[0m \u001b[0;34m'n_samples_seen_'\u001b[0m\u001b[0;34m)\u001b[0m\u001b[0;34m\u001b[0m\u001b[0;34m\u001b[0m\u001b[0m\n\u001b[0;32m--> 396\u001b[0;31m         X = self._validate_data(X, reset=first_pass,\n\u001b[0m\u001b[1;32m    397\u001b[0m                                 \u001b[0mestimator\u001b[0m\u001b[0;34m=\u001b[0m\u001b[0mself\u001b[0m\u001b[0;34m,\u001b[0m \u001b[0mdtype\u001b[0m\u001b[0;34m=\u001b[0m\u001b[0mFLOAT_DTYPES\u001b[0m\u001b[0;34m,\u001b[0m\u001b[0;34m\u001b[0m\u001b[0;34m\u001b[0m\u001b[0m\n\u001b[1;32m    398\u001b[0m                                 force_all_finite=\"allow-nan\")\n",
      "\u001b[0;32m~/mambaforge/envs/mactf/lib/python3.8/site-packages/sklearn/base.py\u001b[0m in \u001b[0;36m_validate_data\u001b[0;34m(self, X, y, reset, validate_separately, **check_params)\u001b[0m\n\u001b[1;32m    419\u001b[0m             \u001b[0mout\u001b[0m \u001b[0;34m=\u001b[0m \u001b[0mX\u001b[0m\u001b[0;34m\u001b[0m\u001b[0;34m\u001b[0m\u001b[0m\n\u001b[1;32m    420\u001b[0m         \u001b[0;32melif\u001b[0m \u001b[0misinstance\u001b[0m\u001b[0;34m(\u001b[0m\u001b[0my\u001b[0m\u001b[0;34m,\u001b[0m \u001b[0mstr\u001b[0m\u001b[0;34m)\u001b[0m \u001b[0;32mand\u001b[0m \u001b[0my\u001b[0m \u001b[0;34m==\u001b[0m \u001b[0;34m'no_validation'\u001b[0m\u001b[0;34m:\u001b[0m\u001b[0;34m\u001b[0m\u001b[0;34m\u001b[0m\u001b[0m\n\u001b[0;32m--> 421\u001b[0;31m             \u001b[0mX\u001b[0m \u001b[0;34m=\u001b[0m \u001b[0mcheck_array\u001b[0m\u001b[0;34m(\u001b[0m\u001b[0mX\u001b[0m\u001b[0;34m,\u001b[0m \u001b[0;34m**\u001b[0m\u001b[0mcheck_params\u001b[0m\u001b[0;34m)\u001b[0m\u001b[0;34m\u001b[0m\u001b[0;34m\u001b[0m\u001b[0m\n\u001b[0m\u001b[1;32m    422\u001b[0m             \u001b[0mout\u001b[0m \u001b[0;34m=\u001b[0m \u001b[0mX\u001b[0m\u001b[0;34m\u001b[0m\u001b[0;34m\u001b[0m\u001b[0m\n\u001b[1;32m    423\u001b[0m         \u001b[0;32melse\u001b[0m\u001b[0;34m:\u001b[0m\u001b[0;34m\u001b[0m\u001b[0;34m\u001b[0m\u001b[0m\n",
      "\u001b[0;32m~/mambaforge/envs/mactf/lib/python3.8/site-packages/sklearn/utils/validation.py\u001b[0m in \u001b[0;36minner_f\u001b[0;34m(*args, **kwargs)\u001b[0m\n\u001b[1;32m     61\u001b[0m             \u001b[0mextra_args\u001b[0m \u001b[0;34m=\u001b[0m \u001b[0mlen\u001b[0m\u001b[0;34m(\u001b[0m\u001b[0margs\u001b[0m\u001b[0;34m)\u001b[0m \u001b[0;34m-\u001b[0m \u001b[0mlen\u001b[0m\u001b[0;34m(\u001b[0m\u001b[0mall_args\u001b[0m\u001b[0;34m)\u001b[0m\u001b[0;34m\u001b[0m\u001b[0;34m\u001b[0m\u001b[0m\n\u001b[1;32m     62\u001b[0m             \u001b[0;32mif\u001b[0m \u001b[0mextra_args\u001b[0m \u001b[0;34m<=\u001b[0m \u001b[0;36m0\u001b[0m\u001b[0;34m:\u001b[0m\u001b[0;34m\u001b[0m\u001b[0;34m\u001b[0m\u001b[0m\n\u001b[0;32m---> 63\u001b[0;31m                 \u001b[0;32mreturn\u001b[0m \u001b[0mf\u001b[0m\u001b[0;34m(\u001b[0m\u001b[0;34m*\u001b[0m\u001b[0margs\u001b[0m\u001b[0;34m,\u001b[0m \u001b[0;34m**\u001b[0m\u001b[0mkwargs\u001b[0m\u001b[0;34m)\u001b[0m\u001b[0;34m\u001b[0m\u001b[0;34m\u001b[0m\u001b[0m\n\u001b[0m\u001b[1;32m     64\u001b[0m \u001b[0;34m\u001b[0m\u001b[0m\n\u001b[1;32m     65\u001b[0m             \u001b[0;31m# extra_args > 0\u001b[0m\u001b[0;34m\u001b[0m\u001b[0;34m\u001b[0m\u001b[0;34m\u001b[0m\u001b[0m\n",
      "\u001b[0;32m~/mambaforge/envs/mactf/lib/python3.8/site-packages/sklearn/utils/validation.py\u001b[0m in \u001b[0;36mcheck_array\u001b[0;34m(array, accept_sparse, accept_large_sparse, dtype, order, copy, force_all_finite, ensure_2d, allow_nd, ensure_min_samples, ensure_min_features, estimator)\u001b[0m\n\u001b[1;32m    724\u001b[0m         \u001b[0mn_samples\u001b[0m \u001b[0;34m=\u001b[0m \u001b[0m_num_samples\u001b[0m\u001b[0;34m(\u001b[0m\u001b[0marray\u001b[0m\u001b[0;34m)\u001b[0m\u001b[0;34m\u001b[0m\u001b[0;34m\u001b[0m\u001b[0m\n\u001b[1;32m    725\u001b[0m         \u001b[0;32mif\u001b[0m \u001b[0mn_samples\u001b[0m \u001b[0;34m<\u001b[0m \u001b[0mensure_min_samples\u001b[0m\u001b[0;34m:\u001b[0m\u001b[0;34m\u001b[0m\u001b[0;34m\u001b[0m\u001b[0m\n\u001b[0;32m--> 726\u001b[0;31m             raise ValueError(\"Found array with %d sample(s) (shape=%s) while a\"\n\u001b[0m\u001b[1;32m    727\u001b[0m                              \u001b[0;34m\" minimum of %d is required%s.\"\u001b[0m\u001b[0;34m\u001b[0m\u001b[0;34m\u001b[0m\u001b[0m\n\u001b[1;32m    728\u001b[0m                              % (n_samples, array.shape, ensure_min_samples,\n",
      "\u001b[0;31mValueError\u001b[0m: Found array with 0 sample(s) (shape=(0, 1)) while a minimum of 1 is required by MinMaxScaler."
     ]
    }
   ],
   "source": [
    "scaler = MinMaxScaler()\n",
    "for col in cols:\n",
    "    bbp_df[col] = scaler.fit_transform(bbp_df[col].values.reshape(-1,1))"
   ]
  },
  {
   "cell_type": "code",
   "execution_count": 50,
   "metadata": {},
   "outputs": [
    {
     "name": "stderr",
     "output_type": "stream",
     "text": [
      "<ipython-input-50-38941e6fe141>:2: SettingWithCopyWarning: \n",
      "A value is trying to be set on a copy of a slice from a DataFrame\n",
      "\n",
      "See the caveats in the documentation: https://pandas.pydata.org/pandas-docs/stable/user_guide/indexing.html#returning-a-view-versus-a-copy\n",
      "  bbp_df.dropna(how=\"all\",axis=0,inplace=True)\n",
      "<ipython-input-50-38941e6fe141>:3: SettingWithCopyWarning: \n",
      "A value is trying to be set on a copy of a slice from a DataFrame\n",
      "\n",
      "See the caveats in the documentation: https://pandas.pydata.org/pandas-docs/stable/user_guide/indexing.html#returning-a-view-versus-a-copy\n",
      "  bbp_df.dropna(how=\"all\",axis=1,inplace=True)\n"
     ]
    }
   ],
   "source": [
    "# Droping due to all null\n",
    "bbp_df.dropna(how=\"all\",axis=0,inplace=True)\n",
    "bbp_df.dropna(how=\"all\",axis=1,inplace=True)"
   ]
  },
  {
   "cell_type": "code",
   "execution_count": 55,
   "metadata": {},
   "outputs": [
    {
     "name": "stdout",
     "output_type": "stream",
     "text": [
      "<class 'pandas.core.frame.DataFrame'>\n",
      "Int64Index: 31 entries, 0 to 30\n",
      "Data columns (total 17 columns):\n",
      " #   Column               Non-Null Count  Dtype  \n",
      "---  ------               --------------  -----  \n",
      " 0   package              31 non-null     object \n",
      " 1   Base_Type            31 non-null     object \n",
      " 2   Pricing_Type         31 non-null     object \n",
      " 3   Package_Type         31 non-null     object \n",
      " 4   Title                31 non-null     object \n",
      " 5   BB_Data_Standard     31 non-null     float64\n",
      " 6   BB_Data_Free         31 non-null     float64\n",
      " 7   BB_Data_Anytime      31 non-null     float64\n",
      " 8   BB_Data_Unlimited    31 non-null     float64\n",
      " 9   BB_Connection_Type   31 non-null     object \n",
      " 10  BB_Connection_Speed  31 non-null     object \n",
      " 11  Price                31 non-null     object \n",
      " 12  Monthly_Rental       31 non-null     float64\n",
      " 13  Subscription_Type    31 non-null     object \n",
      " 14  Recidence_Type       31 non-null     object \n",
      " 15  Tax_Status           31 non-null     object \n",
      " 16  Conditions           31 non-null     object \n",
      "dtypes: float64(5), object(12)\n",
      "memory usage: 4.4+ KB\n"
     ]
    }
   ],
   "source": [
    "bbp_df.info()"
   ]
  },
  {
   "cell_type": "code",
   "execution_count": 56,
   "metadata": {},
   "outputs": [],
   "source": [
    "bbp_df.to_csv(\"data/azure/BB_package_content.csv\")"
   ]
  },
  {
   "cell_type": "code",
   "execution_count": null,
   "metadata": {},
   "outputs": [],
   "source": []
  }
 ],
 "metadata": {
  "kernelspec": {
   "display_name": "Python 3 (ipykernel)",
   "language": "python",
   "name": "python3"
  },
  "language_info": {
   "codemirror_mode": {
    "name": "ipython",
    "version": 3
   },
   "file_extension": ".py",
   "mimetype": "text/x-python",
   "name": "python",
   "nbconvert_exporter": "python",
   "pygments_lexer": "ipython3",
   "version": "3.8.12"
  }
 },
 "nbformat": 4,
 "nbformat_minor": 4
}
