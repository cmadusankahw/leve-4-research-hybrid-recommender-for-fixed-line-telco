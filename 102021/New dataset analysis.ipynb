{
 "cells": [
  {
   "cell_type": "code",
   "execution_count": 1,
   "metadata": {
    "gather": {
     "logged": 1628307546272
    }
   },
   "outputs": [],
   "source": [
    "import pandas as pd\n",
    "import numpy as np\n",
    "from matplotlib import pyplot as plt\n",
    "from sklearn.preprocessing import MinMaxScaler\n",
    "import seaborn as sns\n",
    "import datetime"
   ]
  },
  {
   "cell_type": "code",
   "execution_count": 2,
   "metadata": {
    "gather": {
     "logged": 1628307549088
    }
   },
   "outputs": [],
   "source": [
    "plt.style.use('ggplot')\n",
    "plt.style.use('seaborn-bright')"
   ]
  },
  {
   "cell_type": "markdown",
   "metadata": {},
   "source": [
    "### New Datasets (Oct 2021)"
   ]
  },
  {
   "cell_type": "markdown",
   "metadata": {},
   "source": [
    "#### PEo TV Channels Mapped with Packages"
   ]
  },
  {
   "cell_type": "code",
   "execution_count": 3,
   "metadata": {},
   "outputs": [],
   "source": [
    "peo_channel_map_df = pd.read_excel(\"data/5.4 Peo TV Channels mapped to packages.xlsx\") "
   ]
  },
  {
   "cell_type": "code",
   "execution_count": 4,
   "metadata": {},
   "outputs": [],
   "source": [
    "peo_channel_map_df = peo_channel_map_df.iloc[3:,2:]"
   ]
  },
  {
   "cell_type": "code",
   "execution_count": 5,
   "metadata": {},
   "outputs": [],
   "source": [
    "peo_channel_map_df.columns = peo_channel_map_df.iloc[0,:]"
   ]
  },
  {
   "cell_type": "code",
   "execution_count": 6,
   "metadata": {},
   "outputs": [],
   "source": [
    "peo_channel_map_df.dropna(axis=0, how=\"all\",inplace=True)"
   ]
  },
  {
   "cell_type": "code",
   "execution_count": 7,
   "metadata": {},
   "outputs": [],
   "source": [
    "peo_channel_map_df = peo_channel_map_df.iloc[1:,:]"
   ]
  },
  {
   "cell_type": "code",
   "execution_count": 8,
   "metadata": {},
   "outputs": [],
   "source": [
    "arr = peo_channel_map_df.columns.to_list()\n",
    "arr[0] = \"Channel\"\n",
    "arr[1] = \"Language\"\n",
    "peo_channel_map_df.columns = arr"
   ]
  },
  {
   "cell_type": "code",
   "execution_count": 9,
   "metadata": {},
   "outputs": [],
   "source": [
    "peo_channel_map_df = peo_channel_map_df.T"
   ]
  },
  {
   "cell_type": "code",
   "execution_count": 10,
   "metadata": {},
   "outputs": [],
   "source": [
    "peo_channel_map_df.columns = peo_channel_map_df.iloc[0,:]"
   ]
  },
  {
   "cell_type": "code",
   "execution_count": 11,
   "metadata": {},
   "outputs": [],
   "source": [
    "peo_channel_map_df = peo_channel_map_df.iloc[1:,:]"
   ]
  },
  {
   "cell_type": "code",
   "execution_count": 12,
   "metadata": {},
   "outputs": [
    {
     "data": {
      "text/html": [
       "<div>\n",
       "<style scoped>\n",
       "    .dataframe tbody tr th:only-of-type {\n",
       "        vertical-align: middle;\n",
       "    }\n",
       "\n",
       "    .dataframe tbody tr th {\n",
       "        vertical-align: top;\n",
       "    }\n",
       "\n",
       "    .dataframe thead th {\n",
       "        text-align: right;\n",
       "    }\n",
       "</style>\n",
       "<table border=\"1\" class=\"dataframe\">\n",
       "  <thead>\n",
       "    <tr style=\"text-align: right;\">\n",
       "      <th>Channel</th>\n",
       "      <th>Event TV</th>\n",
       "      <th>Colombo Television</th>\n",
       "      <th>Life TV</th>\n",
       "      <th>UTV</th>\n",
       "      <th>ACE TV</th>\n",
       "      <th>Supreme TV</th>\n",
       "      <th>Jayamaga TV</th>\n",
       "      <th>Relax TV</th>\n",
       "      <th>Channel Eye</th>\n",
       "      <th>ETV</th>\n",
       "      <th>...</th>\n",
       "      <th>Damsathara</th>\n",
       "      <th>Da Vinci</th>\n",
       "      <th>English Club TV</th>\n",
       "      <th>Videsa 5</th>\n",
       "      <th>Videsa 6</th>\n",
       "      <th>Videsa 7</th>\n",
       "      <th>Videsa 8</th>\n",
       "      <th>Videsa 9</th>\n",
       "      <th>Videsa 10</th>\n",
       "      <th>Videsa 11</th>\n",
       "    </tr>\n",
       "  </thead>\n",
       "  <tbody>\n",
       "    <tr>\n",
       "      <th>Language</th>\n",
       "      <td>-</td>\n",
       "      <td>-</td>\n",
       "      <td>-</td>\n",
       "      <td>-</td>\n",
       "      <td>-</td>\n",
       "      <td>-</td>\n",
       "      <td>-</td>\n",
       "      <td>-</td>\n",
       "      <td>English</td>\n",
       "      <td>English</td>\n",
       "      <td>...</td>\n",
       "      <td>Sinhala</td>\n",
       "      <td>English</td>\n",
       "      <td>English</td>\n",
       "      <td>Sinhala</td>\n",
       "      <td>Sinhala</td>\n",
       "      <td>Sinhala</td>\n",
       "      <td>Sinhala</td>\n",
       "      <td>Sinhala</td>\n",
       "      <td>Sinhala</td>\n",
       "      <td>Sinhala</td>\n",
       "    </tr>\n",
       "    <tr>\n",
       "      <th>PEO TV Unnatham</th>\n",
       "      <td>√</td>\n",
       "      <td>√</td>\n",
       "      <td>√</td>\n",
       "      <td>√</td>\n",
       "      <td>NaN</td>\n",
       "      <td>NaN</td>\n",
       "      <td>NaN</td>\n",
       "      <td>NaN</td>\n",
       "      <td>√</td>\n",
       "      <td>NaN</td>\n",
       "      <td>...</td>\n",
       "      <td>NaN</td>\n",
       "      <td>NaN</td>\n",
       "      <td>NaN</td>\n",
       "      <td>NaN</td>\n",
       "      <td>NaN</td>\n",
       "      <td>NaN</td>\n",
       "      <td>NaN</td>\n",
       "      <td>NaN</td>\n",
       "      <td>NaN</td>\n",
       "      <td>NaN</td>\n",
       "    </tr>\n",
       "    <tr>\n",
       "      <th>PEO Silver</th>\n",
       "      <td>√</td>\n",
       "      <td>√</td>\n",
       "      <td>√</td>\n",
       "      <td>√</td>\n",
       "      <td>√</td>\n",
       "      <td>√</td>\n",
       "      <td>√</td>\n",
       "      <td>√</td>\n",
       "      <td>√</td>\n",
       "      <td>√</td>\n",
       "      <td>...</td>\n",
       "      <td>√</td>\n",
       "      <td>NaN</td>\n",
       "      <td>NaN</td>\n",
       "      <td>NaN</td>\n",
       "      <td>√</td>\n",
       "      <td>√</td>\n",
       "      <td>√</td>\n",
       "      <td>√</td>\n",
       "      <td>√</td>\n",
       "      <td>√</td>\n",
       "    </tr>\n",
       "    <tr>\n",
       "      <th>PEO Silver Plus</th>\n",
       "      <td>√</td>\n",
       "      <td>√</td>\n",
       "      <td>√</td>\n",
       "      <td>√</td>\n",
       "      <td>√</td>\n",
       "      <td>√</td>\n",
       "      <td>√</td>\n",
       "      <td>√</td>\n",
       "      <td>√</td>\n",
       "      <td>√</td>\n",
       "      <td>...</td>\n",
       "      <td>√</td>\n",
       "      <td>NaN</td>\n",
       "      <td>NaN</td>\n",
       "      <td>NaN</td>\n",
       "      <td>√</td>\n",
       "      <td>√</td>\n",
       "      <td>√</td>\n",
       "      <td>√</td>\n",
       "      <td>√</td>\n",
       "      <td>√</td>\n",
       "    </tr>\n",
       "    <tr>\n",
       "      <th>PEO Family</th>\n",
       "      <td>√</td>\n",
       "      <td>√</td>\n",
       "      <td>√</td>\n",
       "      <td>√</td>\n",
       "      <td>√</td>\n",
       "      <td>√</td>\n",
       "      <td>√</td>\n",
       "      <td>√</td>\n",
       "      <td>√</td>\n",
       "      <td>√</td>\n",
       "      <td>...</td>\n",
       "      <td>√</td>\n",
       "      <td>√</td>\n",
       "      <td>√</td>\n",
       "      <td>NaN</td>\n",
       "      <td>√</td>\n",
       "      <td>√</td>\n",
       "      <td>√</td>\n",
       "      <td>√</td>\n",
       "      <td>√</td>\n",
       "      <td>√</td>\n",
       "    </tr>\n",
       "    <tr>\n",
       "      <th>PEO Entertainment</th>\n",
       "      <td>√</td>\n",
       "      <td>√</td>\n",
       "      <td>√</td>\n",
       "      <td>√</td>\n",
       "      <td>√</td>\n",
       "      <td>√</td>\n",
       "      <td>√</td>\n",
       "      <td>√</td>\n",
       "      <td>√</td>\n",
       "      <td>√</td>\n",
       "      <td>...</td>\n",
       "      <td>√</td>\n",
       "      <td>NaN</td>\n",
       "      <td>NaN</td>\n",
       "      <td>NaN</td>\n",
       "      <td>√</td>\n",
       "      <td>√</td>\n",
       "      <td>√</td>\n",
       "      <td>√</td>\n",
       "      <td>√</td>\n",
       "      <td>√</td>\n",
       "    </tr>\n",
       "    <tr>\n",
       "      <th>PEO Gold</th>\n",
       "      <td>√</td>\n",
       "      <td>√</td>\n",
       "      <td>√</td>\n",
       "      <td>√</td>\n",
       "      <td>√</td>\n",
       "      <td>√</td>\n",
       "      <td>√</td>\n",
       "      <td>√</td>\n",
       "      <td>√</td>\n",
       "      <td>√</td>\n",
       "      <td>...</td>\n",
       "      <td>√</td>\n",
       "      <td>NaN</td>\n",
       "      <td>√</td>\n",
       "      <td>NaN</td>\n",
       "      <td>√</td>\n",
       "      <td>√</td>\n",
       "      <td>√</td>\n",
       "      <td>√</td>\n",
       "      <td>√</td>\n",
       "      <td>√</td>\n",
       "    </tr>\n",
       "    <tr>\n",
       "      <th>PEO Platinum</th>\n",
       "      <td>√</td>\n",
       "      <td>√</td>\n",
       "      <td>√</td>\n",
       "      <td>√</td>\n",
       "      <td>√</td>\n",
       "      <td>√</td>\n",
       "      <td>√</td>\n",
       "      <td>√</td>\n",
       "      <td>√</td>\n",
       "      <td>√</td>\n",
       "      <td>...</td>\n",
       "      <td>√</td>\n",
       "      <td>NaN</td>\n",
       "      <td>√</td>\n",
       "      <td>NaN</td>\n",
       "      <td>√</td>\n",
       "      <td>√</td>\n",
       "      <td>√</td>\n",
       "      <td>√</td>\n",
       "      <td>√</td>\n",
       "      <td>√</td>\n",
       "    </tr>\n",
       "    <tr>\n",
       "      <th>PEO Titanium</th>\n",
       "      <td>√</td>\n",
       "      <td>√</td>\n",
       "      <td>√</td>\n",
       "      <td>√</td>\n",
       "      <td>√</td>\n",
       "      <td>√</td>\n",
       "      <td>√</td>\n",
       "      <td>√</td>\n",
       "      <td>√</td>\n",
       "      <td>√</td>\n",
       "      <td>...</td>\n",
       "      <td>√</td>\n",
       "      <td>√</td>\n",
       "      <td>√</td>\n",
       "      <td>NaN</td>\n",
       "      <td>√</td>\n",
       "      <td>√</td>\n",
       "      <td>√</td>\n",
       "      <td>√</td>\n",
       "      <td>√</td>\n",
       "      <td>√</td>\n",
       "    </tr>\n",
       "  </tbody>\n",
       "</table>\n",
       "<p>9 rows × 135 columns</p>\n",
       "</div>"
      ],
      "text/plain": [
       "Channel           Event TV Colombo Television Life TV UTV ACE TV Supreme TV  \\\n",
       "Language                 -                  -       -   -      -          -   \n",
       "PEO TV Unnatham          √                  √       √   √    NaN        NaN   \n",
       "PEO Silver               √                  √       √   √      √          √   \n",
       "PEO Silver Plus          √                  √       √   √      √          √   \n",
       "PEO Family               √                  √       √   √      √          √   \n",
       "PEO Entertainment        √                  √       √   √      √          √   \n",
       "PEO Gold                 √                  √       √   √      √          √   \n",
       "PEO Platinum             √                  √       √   √      √          √   \n",
       "PEO Titanium             √                  √       √   √      √          √   \n",
       "\n",
       "Channel           Jayamaga TV Relax TV Channel Eye      ETV  ... Damsathara  \\\n",
       "Language                    -        -     English  English  ...    Sinhala   \n",
       "PEO TV Unnatham           NaN      NaN           √      NaN  ...        NaN   \n",
       "PEO Silver                  √        √           √        √  ...          √   \n",
       "PEO Silver Plus             √        √           √        √  ...          √   \n",
       "PEO Family                  √        √           √        √  ...          √   \n",
       "PEO Entertainment           √        √           √        √  ...          √   \n",
       "PEO Gold                    √        √           √        √  ...          √   \n",
       "PEO Platinum                √        √           √        √  ...          √   \n",
       "PEO Titanium                √        √           √        √  ...          √   \n",
       "\n",
       "Channel           Da Vinci English Club TV Videsa 5 Videsa 6 Videsa 7  \\\n",
       "Language           English         English  Sinhala  Sinhala  Sinhala   \n",
       "PEO TV Unnatham        NaN             NaN      NaN      NaN      NaN   \n",
       "PEO Silver             NaN             NaN      NaN        √        √   \n",
       "PEO Silver Plus        NaN             NaN      NaN        √        √   \n",
       "PEO Family               √               √      NaN        √        √   \n",
       "PEO Entertainment      NaN             NaN      NaN        √        √   \n",
       "PEO Gold               NaN               √      NaN        √        √   \n",
       "PEO Platinum           NaN               √      NaN        √        √   \n",
       "PEO Titanium             √               √      NaN        √        √   \n",
       "\n",
       "Channel           Videsa 8 Videsa 9 Videsa 10 Videsa 11  \n",
       "Language           Sinhala  Sinhala   Sinhala   Sinhala  \n",
       "PEO TV Unnatham        NaN      NaN       NaN       NaN  \n",
       "PEO Silver               √        √         √         √  \n",
       "PEO Silver Plus          √        √         √         √  \n",
       "PEO Family               √        √         √         √  \n",
       "PEO Entertainment        √        √         √         √  \n",
       "PEO Gold                 √        √         √         √  \n",
       "PEO Platinum             √        √         √         √  \n",
       "PEO Titanium             √        √         √         √  \n",
       "\n",
       "[9 rows x 135 columns]"
      ]
     },
     "execution_count": 12,
     "metadata": {},
     "output_type": "execute_result"
    }
   ],
   "source": [
    "peo_channel_map_df"
   ]
  },
  {
   "cell_type": "code",
   "execution_count": 13,
   "metadata": {},
   "outputs": [],
   "source": [
    "def str_map(col):\n",
    "    if isinstance(col, float):\n",
    "        return 0\n",
    "    elif  \"√\" in col:\n",
    "        return 1\n",
    "    else:\n",
    "        return col"
   ]
  },
  {
   "cell_type": "code",
   "execution_count": 14,
   "metadata": {},
   "outputs": [],
   "source": [
    "for col in peo_channel_map_df.columns.to_list():\n",
    "    peo_channel_map_df[col] = peo_channel_map_df[col].apply(lambda x: str_map(x))"
   ]
  },
  {
   "cell_type": "code",
   "execution_count": 15,
   "metadata": {},
   "outputs": [
    {
     "data": {
      "text/html": [
       "<div>\n",
       "<style scoped>\n",
       "    .dataframe tbody tr th:only-of-type {\n",
       "        vertical-align: middle;\n",
       "    }\n",
       "\n",
       "    .dataframe tbody tr th {\n",
       "        vertical-align: top;\n",
       "    }\n",
       "\n",
       "    .dataframe thead th {\n",
       "        text-align: right;\n",
       "    }\n",
       "</style>\n",
       "<table border=\"1\" class=\"dataframe\">\n",
       "  <thead>\n",
       "    <tr style=\"text-align: right;\">\n",
       "      <th>Channel</th>\n",
       "      <th>Event TV</th>\n",
       "      <th>Colombo Television</th>\n",
       "      <th>Life TV</th>\n",
       "      <th>UTV</th>\n",
       "      <th>ACE TV</th>\n",
       "      <th>Supreme TV</th>\n",
       "      <th>Jayamaga TV</th>\n",
       "      <th>Relax TV</th>\n",
       "      <th>Channel Eye</th>\n",
       "      <th>ETV</th>\n",
       "      <th>...</th>\n",
       "      <th>Damsathara</th>\n",
       "      <th>Da Vinci</th>\n",
       "      <th>English Club TV</th>\n",
       "      <th>Videsa 5</th>\n",
       "      <th>Videsa 6</th>\n",
       "      <th>Videsa 7</th>\n",
       "      <th>Videsa 8</th>\n",
       "      <th>Videsa 9</th>\n",
       "      <th>Videsa 10</th>\n",
       "      <th>Videsa 11</th>\n",
       "    </tr>\n",
       "  </thead>\n",
       "  <tbody>\n",
       "    <tr>\n",
       "      <th>Language</th>\n",
       "      <td>-</td>\n",
       "      <td>-</td>\n",
       "      <td>-</td>\n",
       "      <td>-</td>\n",
       "      <td>-</td>\n",
       "      <td>-</td>\n",
       "      <td>-</td>\n",
       "      <td>-</td>\n",
       "      <td>English</td>\n",
       "      <td>English</td>\n",
       "      <td>...</td>\n",
       "      <td>Sinhala</td>\n",
       "      <td>English</td>\n",
       "      <td>English</td>\n",
       "      <td>Sinhala</td>\n",
       "      <td>Sinhala</td>\n",
       "      <td>Sinhala</td>\n",
       "      <td>Sinhala</td>\n",
       "      <td>Sinhala</td>\n",
       "      <td>Sinhala</td>\n",
       "      <td>Sinhala</td>\n",
       "    </tr>\n",
       "    <tr>\n",
       "      <th>PEO TV Unnatham</th>\n",
       "      <td>1</td>\n",
       "      <td>1</td>\n",
       "      <td>1</td>\n",
       "      <td>1</td>\n",
       "      <td>0</td>\n",
       "      <td>0</td>\n",
       "      <td>0</td>\n",
       "      <td>0</td>\n",
       "      <td>1</td>\n",
       "      <td>0</td>\n",
       "      <td>...</td>\n",
       "      <td>0</td>\n",
       "      <td>0</td>\n",
       "      <td>0</td>\n",
       "      <td>0</td>\n",
       "      <td>0</td>\n",
       "      <td>0</td>\n",
       "      <td>0</td>\n",
       "      <td>0</td>\n",
       "      <td>0</td>\n",
       "      <td>0</td>\n",
       "    </tr>\n",
       "    <tr>\n",
       "      <th>PEO Silver</th>\n",
       "      <td>1</td>\n",
       "      <td>1</td>\n",
       "      <td>1</td>\n",
       "      <td>1</td>\n",
       "      <td>1</td>\n",
       "      <td>1</td>\n",
       "      <td>1</td>\n",
       "      <td>1</td>\n",
       "      <td>1</td>\n",
       "      <td>1</td>\n",
       "      <td>...</td>\n",
       "      <td>1</td>\n",
       "      <td>0</td>\n",
       "      <td>0</td>\n",
       "      <td>0</td>\n",
       "      <td>1</td>\n",
       "      <td>1</td>\n",
       "      <td>1</td>\n",
       "      <td>1</td>\n",
       "      <td>1</td>\n",
       "      <td>1</td>\n",
       "    </tr>\n",
       "    <tr>\n",
       "      <th>PEO Silver Plus</th>\n",
       "      <td>1</td>\n",
       "      <td>1</td>\n",
       "      <td>1</td>\n",
       "      <td>1</td>\n",
       "      <td>1</td>\n",
       "      <td>1</td>\n",
       "      <td>1</td>\n",
       "      <td>1</td>\n",
       "      <td>1</td>\n",
       "      <td>1</td>\n",
       "      <td>...</td>\n",
       "      <td>1</td>\n",
       "      <td>0</td>\n",
       "      <td>0</td>\n",
       "      <td>0</td>\n",
       "      <td>1</td>\n",
       "      <td>1</td>\n",
       "      <td>1</td>\n",
       "      <td>1</td>\n",
       "      <td>1</td>\n",
       "      <td>1</td>\n",
       "    </tr>\n",
       "    <tr>\n",
       "      <th>PEO Family</th>\n",
       "      <td>1</td>\n",
       "      <td>1</td>\n",
       "      <td>1</td>\n",
       "      <td>1</td>\n",
       "      <td>1</td>\n",
       "      <td>1</td>\n",
       "      <td>1</td>\n",
       "      <td>1</td>\n",
       "      <td>1</td>\n",
       "      <td>1</td>\n",
       "      <td>...</td>\n",
       "      <td>1</td>\n",
       "      <td>1</td>\n",
       "      <td>1</td>\n",
       "      <td>0</td>\n",
       "      <td>1</td>\n",
       "      <td>1</td>\n",
       "      <td>1</td>\n",
       "      <td>1</td>\n",
       "      <td>1</td>\n",
       "      <td>1</td>\n",
       "    </tr>\n",
       "    <tr>\n",
       "      <th>PEO Entertainment</th>\n",
       "      <td>1</td>\n",
       "      <td>1</td>\n",
       "      <td>1</td>\n",
       "      <td>1</td>\n",
       "      <td>1</td>\n",
       "      <td>1</td>\n",
       "      <td>1</td>\n",
       "      <td>1</td>\n",
       "      <td>1</td>\n",
       "      <td>1</td>\n",
       "      <td>...</td>\n",
       "      <td>1</td>\n",
       "      <td>0</td>\n",
       "      <td>0</td>\n",
       "      <td>0</td>\n",
       "      <td>1</td>\n",
       "      <td>1</td>\n",
       "      <td>1</td>\n",
       "      <td>1</td>\n",
       "      <td>1</td>\n",
       "      <td>1</td>\n",
       "    </tr>\n",
       "    <tr>\n",
       "      <th>PEO Gold</th>\n",
       "      <td>1</td>\n",
       "      <td>1</td>\n",
       "      <td>1</td>\n",
       "      <td>1</td>\n",
       "      <td>1</td>\n",
       "      <td>1</td>\n",
       "      <td>1</td>\n",
       "      <td>1</td>\n",
       "      <td>1</td>\n",
       "      <td>1</td>\n",
       "      <td>...</td>\n",
       "      <td>1</td>\n",
       "      <td>0</td>\n",
       "      <td>1</td>\n",
       "      <td>0</td>\n",
       "      <td>1</td>\n",
       "      <td>1</td>\n",
       "      <td>1</td>\n",
       "      <td>1</td>\n",
       "      <td>1</td>\n",
       "      <td>1</td>\n",
       "    </tr>\n",
       "    <tr>\n",
       "      <th>PEO Platinum</th>\n",
       "      <td>1</td>\n",
       "      <td>1</td>\n",
       "      <td>1</td>\n",
       "      <td>1</td>\n",
       "      <td>1</td>\n",
       "      <td>1</td>\n",
       "      <td>1</td>\n",
       "      <td>1</td>\n",
       "      <td>1</td>\n",
       "      <td>1</td>\n",
       "      <td>...</td>\n",
       "      <td>1</td>\n",
       "      <td>0</td>\n",
       "      <td>1</td>\n",
       "      <td>0</td>\n",
       "      <td>1</td>\n",
       "      <td>1</td>\n",
       "      <td>1</td>\n",
       "      <td>1</td>\n",
       "      <td>1</td>\n",
       "      <td>1</td>\n",
       "    </tr>\n",
       "    <tr>\n",
       "      <th>PEO Titanium</th>\n",
       "      <td>1</td>\n",
       "      <td>1</td>\n",
       "      <td>1</td>\n",
       "      <td>1</td>\n",
       "      <td>1</td>\n",
       "      <td>1</td>\n",
       "      <td>1</td>\n",
       "      <td>1</td>\n",
       "      <td>1</td>\n",
       "      <td>1</td>\n",
       "      <td>...</td>\n",
       "      <td>1</td>\n",
       "      <td>1</td>\n",
       "      <td>1</td>\n",
       "      <td>0</td>\n",
       "      <td>1</td>\n",
       "      <td>1</td>\n",
       "      <td>1</td>\n",
       "      <td>1</td>\n",
       "      <td>1</td>\n",
       "      <td>1</td>\n",
       "    </tr>\n",
       "  </tbody>\n",
       "</table>\n",
       "<p>9 rows × 135 columns</p>\n",
       "</div>"
      ],
      "text/plain": [
       "Channel           Event TV Colombo Television Life TV UTV ACE TV Supreme TV  \\\n",
       "Language                 -                  -       -   -      -          -   \n",
       "PEO TV Unnatham          1                  1       1   1      0          0   \n",
       "PEO Silver               1                  1       1   1      1          1   \n",
       "PEO Silver Plus          1                  1       1   1      1          1   \n",
       "PEO Family               1                  1       1   1      1          1   \n",
       "PEO Entertainment        1                  1       1   1      1          1   \n",
       "PEO Gold                 1                  1       1   1      1          1   \n",
       "PEO Platinum             1                  1       1   1      1          1   \n",
       "PEO Titanium             1                  1       1   1      1          1   \n",
       "\n",
       "Channel           Jayamaga TV Relax TV Channel Eye      ETV  ... Damsathara  \\\n",
       "Language                    -        -     English  English  ...    Sinhala   \n",
       "PEO TV Unnatham             0        0           1        0  ...          0   \n",
       "PEO Silver                  1        1           1        1  ...          1   \n",
       "PEO Silver Plus             1        1           1        1  ...          1   \n",
       "PEO Family                  1        1           1        1  ...          1   \n",
       "PEO Entertainment           1        1           1        1  ...          1   \n",
       "PEO Gold                    1        1           1        1  ...          1   \n",
       "PEO Platinum                1        1           1        1  ...          1   \n",
       "PEO Titanium                1        1           1        1  ...          1   \n",
       "\n",
       "Channel           Da Vinci English Club TV Videsa 5 Videsa 6 Videsa 7  \\\n",
       "Language           English         English  Sinhala  Sinhala  Sinhala   \n",
       "PEO TV Unnatham          0               0        0        0        0   \n",
       "PEO Silver               0               0        0        1        1   \n",
       "PEO Silver Plus          0               0        0        1        1   \n",
       "PEO Family               1               1        0        1        1   \n",
       "PEO Entertainment        0               0        0        1        1   \n",
       "PEO Gold                 0               1        0        1        1   \n",
       "PEO Platinum             0               1        0        1        1   \n",
       "PEO Titanium             1               1        0        1        1   \n",
       "\n",
       "Channel           Videsa 8 Videsa 9 Videsa 10 Videsa 11  \n",
       "Language           Sinhala  Sinhala   Sinhala   Sinhala  \n",
       "PEO TV Unnatham          0        0         0         0  \n",
       "PEO Silver               1        1         1         1  \n",
       "PEO Silver Plus          1        1         1         1  \n",
       "PEO Family               1        1         1         1  \n",
       "PEO Entertainment        1        1         1         1  \n",
       "PEO Gold                 1        1         1         1  \n",
       "PEO Platinum             1        1         1         1  \n",
       "PEO Titanium             1        1         1         1  \n",
       "\n",
       "[9 rows x 135 columns]"
      ]
     },
     "execution_count": 15,
     "metadata": {},
     "output_type": "execute_result"
    }
   ],
   "source": [
    "peo_channel_map_df"
   ]
  },
  {
   "cell_type": "code",
   "execution_count": 16,
   "metadata": {},
   "outputs": [],
   "source": [
    "peo_channel_map_df.to_csv(\"data/product_catalog/PeoTV_Package_Channel_Map_Transposed.csv\")"
   ]
  },
  {
   "cell_type": "code",
   "execution_count": null,
   "metadata": {},
   "outputs": [],
   "source": []
  },
  {
   "cell_type": "markdown",
   "metadata": {},
   "source": [
    "## Product Details - Categories, Play types"
   ]
  },
  {
   "cell_type": "code",
   "execution_count": 17,
   "metadata": {
    "gather": {
     "logged": 1628307552342
    }
   },
   "outputs": [],
   "source": [
    "product_cat_df = pd.read_excel(\"data/7.2 Customer product details from BSS.xlsx\") "
   ]
  },
  {
   "cell_type": "code",
   "execution_count": 18,
   "metadata": {},
   "outputs": [],
   "source": [
    "product_cat_df.drop([\"Unnamed: 21\",\"Unnamed: 22\",\"Unnamed: 23\",\"Unnamed: 24\",\"Unnamed: 25\",\"Unnamed: 26\",\"END_DAT\"],axis=1,inplace=True)"
   ]
  },
  {
   "cell_type": "code",
   "execution_count": 19,
   "metadata": {
    "gather": {
     "logged": 1628307555018
    }
   },
   "outputs": [
    {
     "name": "stdout",
     "output_type": "stream",
     "text": [
      "<class 'pandas.core.frame.DataFrame'>\n",
      "RangeIndex: 470545 entries, 0 to 470544\n",
      "Data columns (total 20 columns):\n",
      " #   Column                 Non-Null Count   Dtype         \n",
      "---  ------                 --------------   -----         \n",
      " 0   ACCESS_BEARER_ID.hash  470545 non-null  object        \n",
      " 1   PRODUCT_LABEL.hash     470545 non-null  object        \n",
      " 2   CUSTOMER_REF.hash      470545 non-null  object        \n",
      " 3   ACCOUNT_NUM.hash       470545 non-null  object        \n",
      " 4   PRODUCT_SEQ            470545 non-null  int64         \n",
      " 5   START_DAT              470545 non-null  datetime64[ns]\n",
      " 6   PRODUCT_ID             470545 non-null  int64         \n",
      " 7   PRODUCT_NAME           470545 non-null  object        \n",
      " 8   PRODUCT_STATUS         470545 non-null  object        \n",
      " 9   TARIFF_ID              470545 non-null  int64         \n",
      " 10  TARIFF_NAME            470545 non-null  object        \n",
      " 11  TARIFF_DESC            470545 non-null  object        \n",
      " 12  RECURRING_CHARGE       114957 non-null  object        \n",
      " 13  ACCOUNT_MANAGER        466164 non-null  object        \n",
      " 14  BILLING_CENTRE         470545 non-null  object        \n",
      " 15  MEDIUM                 447753 non-null  object        \n",
      " 16  CATOGORY               447745 non-null  object        \n",
      " 17  OUTSTANDING_AMOUNT1    447753 non-null  object        \n",
      " 18  CUSTOMER_TYPE          447750 non-null  object        \n",
      " 19  X_ACCOUNT_SUB_TYPE     447753 non-null  object        \n",
      "dtypes: datetime64[ns](1), int64(3), object(16)\n",
      "memory usage: 71.8+ MB\n"
     ]
    }
   ],
   "source": [
    "product_cat_df.info()"
   ]
  },
  {
   "cell_type": "code",
   "execution_count": 20,
   "metadata": {},
   "outputs": [],
   "source": [
    "pcat_df = product_cat_df[[\"PRODUCT_ID\",\"PRODUCT_NAME\",\"MEDIUM\",\"CATOGORY\",\"RECURRING_CHARGE\",\"BILLING_CENTRE\",\"ACCOUNT_MANAGER\",\"TARIFF_ID\",\"TARIFF_NAME\",\"TARIFF_DESC\"]]"
   ]
  },
  {
   "cell_type": "code",
   "execution_count": 21,
   "metadata": {},
   "outputs": [
    {
     "name": "stderr",
     "output_type": "stream",
     "text": [
      "/Users/chiranhewawitharana/mambaforge/envs/mactf/lib/python3.8/site-packages/pandas/core/frame.py:5039: SettingWithCopyWarning: \n",
      "A value is trying to be set on a copy of a slice from a DataFrame\n",
      "\n",
      "See the caveats in the documentation: https://pandas.pydata.org/pandas-docs/stable/user_guide/indexing.html#returning-a-view-versus-a-copy\n",
      "  return super().rename(\n",
      "/Users/chiranhewawitharana/mambaforge/envs/mactf/lib/python3.8/site-packages/pandas/util/_decorators.py:311: SettingWithCopyWarning: \n",
      "A value is trying to be set on a copy of a slice from a DataFrame\n",
      "\n",
      "See the caveats in the documentation: https://pandas.pydata.org/pandas-docs/stable/user_guide/indexing.html#returning-a-view-versus-a-copy\n",
      "  return func(*args, **kwargs)\n",
      "/Users/chiranhewawitharana/mambaforge/envs/mactf/lib/python3.8/site-packages/pandas/core/frame.py:4906: SettingWithCopyWarning: \n",
      "A value is trying to be set on a copy of a slice from a DataFrame\n",
      "\n",
      "See the caveats in the documentation: https://pandas.pydata.org/pandas-docs/stable/user_guide/indexing.html#returning-a-view-versus-a-copy\n",
      "  return super().drop(\n"
     ]
    }
   ],
   "source": [
    "pcat_df.rename(columns = {\"RECURRING_CHARGE\":\"Monthly_Rental\",\"CATOGORY\":\"CATEGORY\"},inplace=True)\n",
    "pcat_df.drop_duplicates(\"PRODUCT_NAME\", inplace=True)\n",
    "pcat_df.reset_index(inplace=True)\n",
    "pcat_df.drop([\"index\"],axis=1,inplace=True)"
   ]
  },
  {
   "cell_type": "code",
   "execution_count": 22,
   "metadata": {},
   "outputs": [
    {
     "name": "stdout",
     "output_type": "stream",
     "text": [
      "<class 'pandas.core.frame.DataFrame'>\n",
      "RangeIndex: 29 entries, 0 to 28\n",
      "Data columns (total 10 columns):\n",
      " #   Column           Non-Null Count  Dtype \n",
      "---  ------           --------------  ----- \n",
      " 0   PRODUCT_ID       29 non-null     int64 \n",
      " 1   PRODUCT_NAME     29 non-null     object\n",
      " 2   MEDIUM           23 non-null     object\n",
      " 3   CATEGORY         23 non-null     object\n",
      " 4   Monthly_Rental   13 non-null     object\n",
      " 5   BILLING_CENTRE   29 non-null     object\n",
      " 6   ACCOUNT_MANAGER  28 non-null     object\n",
      " 7   TARIFF_ID        29 non-null     int64 \n",
      " 8   TARIFF_NAME      29 non-null     object\n",
      " 9   TARIFF_DESC      29 non-null     object\n",
      "dtypes: int64(2), object(8)\n",
      "memory usage: 2.4+ KB\n"
     ]
    }
   ],
   "source": [
    "pcat_df.info()"
   ]
  },
  {
   "cell_type": "code",
   "execution_count": 23,
   "metadata": {},
   "outputs": [],
   "source": [
    "pcat_df.to_csv(\"data/product_catalog/Product_Info_BSS_All.csv\")"
   ]
  },
  {
   "cell_type": "code",
   "execution_count": null,
   "metadata": {},
   "outputs": [],
   "source": []
  },
  {
   "cell_type": "markdown",
   "metadata": {},
   "source": [
    "### Details for User Profile from BSS"
   ]
  },
  {
   "cell_type": "code",
   "execution_count": 24,
   "metadata": {},
   "outputs": [],
   "source": [
    "product_usage_df = product_cat_df[[\"PRODUCT_LABEL.hash\",\"ACCOUNT_NUM.hash\",\"PRODUCT_NAME\",\"START_DAT\",\"OUTSTANDING_AMOUNT1\",\"CUSTOMER_TYPE\",\"X_ACCOUNT_SUB_TYPE\"]]"
   ]
  },
  {
   "cell_type": "code",
   "execution_count": 25,
   "metadata": {},
   "outputs": [],
   "source": [
    "product_usage_df.rename(columns={\"PRODUCT_LABEL.hash\":\"event_source.hash\",\"START_DAT\":\"Date_Purchased\",\"OUTSTANDING_AMOUNT1\":\"Outstanding_Amount\",\"CUSTOMER_TYPE\":\"Subscriber_Type\",\"X_ACCOUNT_SUB_TYPE\":\"Subscriber_Living_Status\"},inplace=True)"
   ]
  },
  {
   "cell_type": "code",
   "execution_count": 217,
   "metadata": {},
   "outputs": [
    {
     "name": "stdout",
     "output_type": "stream",
     "text": [
      "<class 'pandas.core.frame.DataFrame'>\n",
      "Int64Index: 470545 entries, 0 to 470544\n",
      "Data columns (total 7 columns):\n",
      " #   Column                    Non-Null Count   Dtype         \n",
      "---  ------                    --------------   -----         \n",
      " 0   event_source.hash         470545 non-null  object        \n",
      " 1   ACCOUNT_NUM.hash          470545 non-null  object        \n",
      " 2   PRODUCT_NAME              470545 non-null  object        \n",
      " 3   Date_Purchased            470545 non-null  datetime64[ns]\n",
      " 4   Outstanding_Amount        447753 non-null  object        \n",
      " 5   Subscriber_Type           447750 non-null  object        \n",
      " 6   Subscriber_Living_Status  447753 non-null  object        \n",
      "dtypes: datetime64[ns](1), object(6)\n",
      "memory usage: 28.7+ MB\n"
     ]
    }
   ],
   "source": [
    "product_usage_df.info()"
   ]
  },
  {
   "cell_type": "code",
   "execution_count": 170,
   "metadata": {},
   "outputs": [
    {
     "data": {
      "text/plain": [
       "array(['AB_Copper Access Bearer', 'BB_SLT BroadBand Service',\n",
       "       'E_SLT PeoTV Service', 'BB_Personal Storage', 'V_Telehealth',\n",
       "       'V_SLT Voice Service', 'BB_Extra GB', 'BB_PeoTVGO',\n",
       "       'V_E-channeling Registration', 'BB_Detailed Reports ',\n",
       "       'V-Basic1_TeleLife', 'V-Plus1_TeleLife', 'V_Sisu Connect',\n",
       "       'BB_SLT Film Hall Service', 'BB_ Entertainment Unlimited',\n",
       "       'OTT_SLT PeoTV Go', 'AB_Fiber Access Bearer', 'AB_WireLess Access',\n",
       "       'V_E-channeling Subscription', 'DIG_ Kaspersky Internet Security',\n",
       "       'V-Plus2_TeleLife', 'V-Plus3_TeleLife', 'V-Plus4_TeleLife',\n",
       "       'V-Basic4_TeleLife', 'V-Basic2_TeleLife', 'BB_Guru.lk Service',\n",
       "       'BB_SLT Film Hall Portal VOD', 'V-Basic3_TeleLife',\n",
       "       'AB_Peo TV Go OTT Box'], dtype=object)"
      ]
     },
     "execution_count": 170,
     "metadata": {},
     "output_type": "execute_result"
    }
   ],
   "source": [
    "product_usage_df[\"PRODUCT_NAME\"].unique()"
   ]
  },
  {
   "cell_type": "code",
   "execution_count": 171,
   "metadata": {},
   "outputs": [],
   "source": [
    "product_usage_df = product_usage_df[(product_usage_df[\"PRODUCT_NAME\"] != \"BB_Extra_GB\")]"
   ]
  },
  {
   "cell_type": "code",
   "execution_count": 172,
   "metadata": {},
   "outputs": [],
   "source": [
    "product_usage_df.to_csv(\"data/user_profile/Products_Usage_All_Users.csv\")"
   ]
  },
  {
   "cell_type": "code",
   "execution_count": null,
   "metadata": {},
   "outputs": [],
   "source": []
  },
  {
   "cell_type": "markdown",
   "metadata": {},
   "source": [
    "## Phone No Account No Customer Reference Map"
   ]
  },
  {
   "cell_type": "code",
   "execution_count": 28,
   "metadata": {
    "gather": {
     "logged": 1628307608437
    }
   },
   "outputs": [
    {
     "name": "stderr",
     "output_type": "stream",
     "text": [
      "/Users/chiranhewawitharana/mambaforge/envs/mactf/lib/python3.8/site-packages/pandas/util/_decorators.py:311: SettingWithCopyWarning: \n",
      "A value is trying to be set on a copy of a slice from a DataFrame\n",
      "\n",
      "See the caveats in the documentation: https://pandas.pydata.org/pandas-docs/stable/user_guide/indexing.html#returning-a-view-versus-a-copy\n",
      "  return func(*args, **kwargs)\n",
      "/Users/chiranhewawitharana/mambaforge/envs/mactf/lib/python3.8/site-packages/pandas/core/frame.py:5039: SettingWithCopyWarning: \n",
      "A value is trying to be set on a copy of a slice from a DataFrame\n",
      "\n",
      "See the caveats in the documentation: https://pandas.pydata.org/pandas-docs/stable/user_guide/indexing.html#returning-a-view-versus-a-copy\n",
      "  return super().rename(\n",
      "/Users/chiranhewawitharana/mambaforge/envs/mactf/lib/python3.8/site-packages/pandas/core/frame.py:4906: SettingWithCopyWarning: \n",
      "A value is trying to be set on a copy of a slice from a DataFrame\n",
      "\n",
      "See the caveats in the documentation: https://pandas.pydata.org/pandas-docs/stable/user_guide/indexing.html#returning-a-view-versus-a-copy\n",
      "  return super().drop(\n"
     ]
    },
    {
     "data": {
      "text/html": [
       "<div>\n",
       "<style scoped>\n",
       "    .dataframe tbody tr th:only-of-type {\n",
       "        vertical-align: middle;\n",
       "    }\n",
       "\n",
       "    .dataframe tbody tr th {\n",
       "        vertical-align: top;\n",
       "    }\n",
       "\n",
       "    .dataframe thead th {\n",
       "        text-align: right;\n",
       "    }\n",
       "</style>\n",
       "<table border=\"1\" class=\"dataframe\">\n",
       "  <thead>\n",
       "    <tr style=\"text-align: right;\">\n",
       "      <th></th>\n",
       "      <th>event_source.hash</th>\n",
       "      <th>ACCOUNT_NUM.hash</th>\n",
       "      <th>CR.hash</th>\n",
       "    </tr>\n",
       "  </thead>\n",
       "  <tbody>\n",
       "    <tr>\n",
       "      <th>0</th>\n",
       "      <td>3c4db459202b18150fb2c63b0c5882a4</td>\n",
       "      <td>a947be4265f264f997522babf2695cb2</td>\n",
       "      <td>f52870ad3e31ae5d4501e8b777c9ce78</td>\n",
       "    </tr>\n",
       "    <tr>\n",
       "      <th>1</th>\n",
       "      <td>fd9a67d62cc93b4e7a152183ad693bb1</td>\n",
       "      <td>009b1dbbc92caa23adb0543072cf6055</td>\n",
       "      <td>20a2f39c08bb33fb67bda7afa8f3609d</td>\n",
       "    </tr>\n",
       "    <tr>\n",
       "      <th>2</th>\n",
       "      <td>c5df7fe1febafd3fdbe4e7e20e58340e</td>\n",
       "      <td>f9c0de7a5d673a0e92915e132602d438</td>\n",
       "      <td>c2dbda4dc5786a1aab2d6a0e46fc5873</td>\n",
       "    </tr>\n",
       "    <tr>\n",
       "      <th>3</th>\n",
       "      <td>47e91e40f209dd1cc54f2dc593f8b43f</td>\n",
       "      <td>ada8fc822ca8b9158785bda963816164</td>\n",
       "      <td>331ac921c84fcd8aa2f4c34c2c77c9f0</td>\n",
       "    </tr>\n",
       "    <tr>\n",
       "      <th>4</th>\n",
       "      <td>2f92703984d6ce41538fd2bbbc271d0d</td>\n",
       "      <td>c6418f69d0fc4007ea6e04c537c42c36</td>\n",
       "      <td>91bc24253b16d0969b59a904d1b9c2cb</td>\n",
       "    </tr>\n",
       "    <tr>\n",
       "      <th>...</th>\n",
       "      <td>...</td>\n",
       "      <td>...</td>\n",
       "      <td>...</td>\n",
       "    </tr>\n",
       "    <tr>\n",
       "      <th>161881</th>\n",
       "      <td>daa8cd194d31f3b487539eaf7a8aafff</td>\n",
       "      <td>0fc451f259348adeb06e83b5d47f4f37</td>\n",
       "      <td>f743374f4b5295b9998b7d3e52d11043</td>\n",
       "    </tr>\n",
       "    <tr>\n",
       "      <th>161882</th>\n",
       "      <td>32a9c13eb276a36ec82acdd5d2353cdd</td>\n",
       "      <td>fd29d9ad3d94d8e374bf295d11ae6bf0</td>\n",
       "      <td>63f7a5f01a9fce23d9cec92ed5f0311e</td>\n",
       "    </tr>\n",
       "    <tr>\n",
       "      <th>161883</th>\n",
       "      <td>dcbb81dccaa15744dbae39a125de3894</td>\n",
       "      <td>6039fb805660c8e91c3bd683c2ab037c</td>\n",
       "      <td>e4b1de0537b0acd52f554790677fed48</td>\n",
       "    </tr>\n",
       "    <tr>\n",
       "      <th>161884</th>\n",
       "      <td>b6c0bcd9576edf849c37c8ddb474d694</td>\n",
       "      <td>d060d769a7dd0344fd818c8b4b3cd94a</td>\n",
       "      <td>2c8d60dbeb0a0eb048bf32da3e333cd4</td>\n",
       "    </tr>\n",
       "    <tr>\n",
       "      <th>161885</th>\n",
       "      <td>fe5bb55c29b26f80c81312db81df072d</td>\n",
       "      <td>2c024a6dac1349eff65ac63fe69af287</td>\n",
       "      <td>d7ed7c7ae5f0655467342d1caf9477cf</td>\n",
       "    </tr>\n",
       "  </tbody>\n",
       "</table>\n",
       "<p>161886 rows × 3 columns</p>\n",
       "</div>"
      ],
      "text/plain": [
       "                       event_source.hash                  ACCOUNT_NUM.hash  \\\n",
       "0       3c4db459202b18150fb2c63b0c5882a4  a947be4265f264f997522babf2695cb2   \n",
       "1       fd9a67d62cc93b4e7a152183ad693bb1  009b1dbbc92caa23adb0543072cf6055   \n",
       "2       c5df7fe1febafd3fdbe4e7e20e58340e  f9c0de7a5d673a0e92915e132602d438   \n",
       "3       47e91e40f209dd1cc54f2dc593f8b43f  ada8fc822ca8b9158785bda963816164   \n",
       "4       2f92703984d6ce41538fd2bbbc271d0d  c6418f69d0fc4007ea6e04c537c42c36   \n",
       "...                                  ...                               ...   \n",
       "161881  daa8cd194d31f3b487539eaf7a8aafff  0fc451f259348adeb06e83b5d47f4f37   \n",
       "161882  32a9c13eb276a36ec82acdd5d2353cdd  fd29d9ad3d94d8e374bf295d11ae6bf0   \n",
       "161883  dcbb81dccaa15744dbae39a125de3894  6039fb805660c8e91c3bd683c2ab037c   \n",
       "161884  b6c0bcd9576edf849c37c8ddb474d694  d060d769a7dd0344fd818c8b4b3cd94a   \n",
       "161885  fe5bb55c29b26f80c81312db81df072d  2c024a6dac1349eff65ac63fe69af287   \n",
       "\n",
       "                                 CR.hash  \n",
       "0       f52870ad3e31ae5d4501e8b777c9ce78  \n",
       "1       20a2f39c08bb33fb67bda7afa8f3609d  \n",
       "2       c2dbda4dc5786a1aab2d6a0e46fc5873  \n",
       "3       331ac921c84fcd8aa2f4c34c2c77c9f0  \n",
       "4       91bc24253b16d0969b59a904d1b9c2cb  \n",
       "...                                  ...  \n",
       "161881  f743374f4b5295b9998b7d3e52d11043  \n",
       "161882  63f7a5f01a9fce23d9cec92ed5f0311e  \n",
       "161883  e4b1de0537b0acd52f554790677fed48  \n",
       "161884  2c8d60dbeb0a0eb048bf32da3e333cd4  \n",
       "161885  d7ed7c7ae5f0655467342d1caf9477cf  \n",
       "\n",
       "[161886 rows x 3 columns]"
      ]
     },
     "execution_count": 28,
     "metadata": {},
     "output_type": "execute_result"
    }
   ],
   "source": [
    "acc_no_map = product_cat_df[[\"PRODUCT_LABEL.hash\",\"ACCOUNT_NUM.hash\",\"CUSTOMER_REF.hash\"]]\n",
    "acc_no_map.drop_duplicates([\"PRODUCT_LABEL.hash\"],inplace=True)\n",
    "acc_no_map.rename(columns={'PRODUCT_LABEL.hash':'event_source.hash',\"CUSTOMER_REF.hash\":\"CR.hash\" }, inplace=True)\n",
    "acc_no_map.reset_index(inplace=True)\n",
    "acc_no_map.drop([\"index\"],axis=1,inplace=True)\n",
    "acc_no_map"
   ]
  },
  {
   "cell_type": "code",
   "execution_count": 29,
   "metadata": {},
   "outputs": [
    {
     "data": {
      "text/plain": [
       "161886"
      ]
     },
     "execution_count": 29,
     "metadata": {},
     "output_type": "execute_result"
    }
   ],
   "source": [
    "len(acc_no_map[\"event_source.hash\"].unique())"
   ]
  },
  {
   "cell_type": "code",
   "execution_count": 30,
   "metadata": {
    "gather": {
     "logged": 1628307794855
    },
    "jupyter": {
     "outputs_hidden": false,
     "source_hidden": false
    },
    "nteract": {
     "transient": {
      "deleting": false
     }
    }
   },
   "outputs": [
    {
     "name": "stdout",
     "output_type": "stream",
     "text": [
      "<class 'pandas.core.frame.DataFrame'>\n",
      "RangeIndex: 161886 entries, 0 to 161885\n",
      "Data columns (total 3 columns):\n",
      " #   Column             Non-Null Count   Dtype \n",
      "---  ------             --------------   ----- \n",
      " 0   event_source.hash  161886 non-null  object\n",
      " 1   ACCOUNT_NUM.hash   161886 non-null  object\n",
      " 2   CR.hash            161886 non-null  object\n",
      "dtypes: object(3)\n",
      "memory usage: 3.7+ MB\n"
     ]
    }
   ],
   "source": [
    "acc_no_map.info()"
   ]
  },
  {
   "cell_type": "code",
   "execution_count": 31,
   "metadata": {
    "gather": {
     "logged": 1628307822826
    },
    "jupyter": {
     "outputs_hidden": false,
     "source_hidden": false
    },
    "nteract": {
     "transient": {
      "deleting": false
     }
    }
   },
   "outputs": [
    {
     "data": {
      "text/html": [
       "<div>\n",
       "<style scoped>\n",
       "    .dataframe tbody tr th:only-of-type {\n",
       "        vertical-align: middle;\n",
       "    }\n",
       "\n",
       "    .dataframe tbody tr th {\n",
       "        vertical-align: top;\n",
       "    }\n",
       "\n",
       "    .dataframe thead th {\n",
       "        text-align: right;\n",
       "    }\n",
       "</style>\n",
       "<table border=\"1\" class=\"dataframe\">\n",
       "  <thead>\n",
       "    <tr style=\"text-align: right;\">\n",
       "      <th></th>\n",
       "      <th>ACCOUNT_NUM.hash</th>\n",
       "      <th>event_source.hash</th>\n",
       "      <th>CR.hash</th>\n",
       "    </tr>\n",
       "  </thead>\n",
       "  <tbody>\n",
       "    <tr>\n",
       "      <th>0</th>\n",
       "      <td>0002b6822fbf6c4ea60b145bf0ed2cc3</td>\n",
       "      <td>[4d27bd991a4633b20ac7e77b5864bb51]</td>\n",
       "      <td>[2f02000d2627c4de55c4f989564f14f8]</td>\n",
       "    </tr>\n",
       "    <tr>\n",
       "      <th>1</th>\n",
       "      <td>0003102d10a11c8f2f0f241f00a36b2d</td>\n",
       "      <td>[6ffcd36b1719deebc161fa24905e4d64, 0eab8e25fa3...</td>\n",
       "      <td>[b3961713ba060658085e35b52a38db2f, b3961713ba0...</td>\n",
       "    </tr>\n",
       "    <tr>\n",
       "      <th>2</th>\n",
       "      <td>0003df7598926f578f53ecd9e424f3c9</td>\n",
       "      <td>[8762eb0aac72287c1bf34210c924d8f5, 0e825d9d646...</td>\n",
       "      <td>[34d3f16e6567fbe816fdd103df0a0792, 34d3f16e656...</td>\n",
       "    </tr>\n",
       "    <tr>\n",
       "      <th>3</th>\n",
       "      <td>000417b4ce7957159bae4d3485bff47e</td>\n",
       "      <td>[23aa696b9c0c71fef54b3ec8e275291a, 17c49152888...</td>\n",
       "      <td>[920b4ae9fef3b8e97cd77ff330889ea5, 920b4ae9fef...</td>\n",
       "    </tr>\n",
       "    <tr>\n",
       "      <th>4</th>\n",
       "      <td>00067185c36c0a8ce58487a5be60dd97</td>\n",
       "      <td>[cd4e8bf55a15fb45541c37cac377a825]</td>\n",
       "      <td>[bdce52a4f80ddd1e46d61211d3de51d3]</td>\n",
       "    </tr>\n",
       "    <tr>\n",
       "      <th>...</th>\n",
       "      <td>...</td>\n",
       "      <td>...</td>\n",
       "      <td>...</td>\n",
       "    </tr>\n",
       "    <tr>\n",
       "      <th>82995</th>\n",
       "      <td>fffd0b8541e9f62496092d2ea8609135</td>\n",
       "      <td>[9db544dc8c533344cb261818f360338a, 389aed0dee3...</td>\n",
       "      <td>[3cc45ae7d5a36e90a8a9e0c35f48d79c, 3cc45ae7d5a...</td>\n",
       "    </tr>\n",
       "    <tr>\n",
       "      <th>82996</th>\n",
       "      <td>fffd3dc8b510af9a13d16ca30002b88e</td>\n",
       "      <td>[eeb2e56d2e4de90c5572510e9a02060a]</td>\n",
       "      <td>[abd4be4a0ceaf4d60e9be1ff535ffee0]</td>\n",
       "    </tr>\n",
       "    <tr>\n",
       "      <th>82997</th>\n",
       "      <td>ffff229b6656157ab0f7ad53709b8879</td>\n",
       "      <td>[d13b54f8ae960aadf3d596dc939e91fb]</td>\n",
       "      <td>[14928af630683e5142c0a38f62b5a794]</td>\n",
       "    </tr>\n",
       "    <tr>\n",
       "      <th>82998</th>\n",
       "      <td>ffff7fc0c266ac5b34f91de1ba4f3039</td>\n",
       "      <td>[dc5889fe8aefdd9027c8c8d173465926, cff7370ca0a...</td>\n",
       "      <td>[68681db9fda35272bc945ee5446eb1f0, 68681db9fda...</td>\n",
       "    </tr>\n",
       "    <tr>\n",
       "      <th>82999</th>\n",
       "      <td>ffffe6d0d44f76428f676bd36e83df76</td>\n",
       "      <td>[04c5ef9b6d44d3273a20ccb9b745ebdf, 02686bc6664...</td>\n",
       "      <td>[df4bc5da4eaaaab1d937c3fd2a699c3f, df4bc5da4ea...</td>\n",
       "    </tr>\n",
       "  </tbody>\n",
       "</table>\n",
       "<p>83000 rows × 3 columns</p>\n",
       "</div>"
      ],
      "text/plain": [
       "                       ACCOUNT_NUM.hash  \\\n",
       "0      0002b6822fbf6c4ea60b145bf0ed2cc3   \n",
       "1      0003102d10a11c8f2f0f241f00a36b2d   \n",
       "2      0003df7598926f578f53ecd9e424f3c9   \n",
       "3      000417b4ce7957159bae4d3485bff47e   \n",
       "4      00067185c36c0a8ce58487a5be60dd97   \n",
       "...                                 ...   \n",
       "82995  fffd0b8541e9f62496092d2ea8609135   \n",
       "82996  fffd3dc8b510af9a13d16ca30002b88e   \n",
       "82997  ffff229b6656157ab0f7ad53709b8879   \n",
       "82998  ffff7fc0c266ac5b34f91de1ba4f3039   \n",
       "82999  ffffe6d0d44f76428f676bd36e83df76   \n",
       "\n",
       "                                       event_source.hash  \\\n",
       "0                     [4d27bd991a4633b20ac7e77b5864bb51]   \n",
       "1      [6ffcd36b1719deebc161fa24905e4d64, 0eab8e25fa3...   \n",
       "2      [8762eb0aac72287c1bf34210c924d8f5, 0e825d9d646...   \n",
       "3      [23aa696b9c0c71fef54b3ec8e275291a, 17c49152888...   \n",
       "4                     [cd4e8bf55a15fb45541c37cac377a825]   \n",
       "...                                                  ...   \n",
       "82995  [9db544dc8c533344cb261818f360338a, 389aed0dee3...   \n",
       "82996                 [eeb2e56d2e4de90c5572510e9a02060a]   \n",
       "82997                 [d13b54f8ae960aadf3d596dc939e91fb]   \n",
       "82998  [dc5889fe8aefdd9027c8c8d173465926, cff7370ca0a...   \n",
       "82999  [04c5ef9b6d44d3273a20ccb9b745ebdf, 02686bc6664...   \n",
       "\n",
       "                                                 CR.hash  \n",
       "0                     [2f02000d2627c4de55c4f989564f14f8]  \n",
       "1      [b3961713ba060658085e35b52a38db2f, b3961713ba0...  \n",
       "2      [34d3f16e6567fbe816fdd103df0a0792, 34d3f16e656...  \n",
       "3      [920b4ae9fef3b8e97cd77ff330889ea5, 920b4ae9fef...  \n",
       "4                     [bdce52a4f80ddd1e46d61211d3de51d3]  \n",
       "...                                                  ...  \n",
       "82995  [3cc45ae7d5a36e90a8a9e0c35f48d79c, 3cc45ae7d5a...  \n",
       "82996                 [abd4be4a0ceaf4d60e9be1ff535ffee0]  \n",
       "82997                 [14928af630683e5142c0a38f62b5a794]  \n",
       "82998  [68681db9fda35272bc945ee5446eb1f0, 68681db9fda...  \n",
       "82999  [df4bc5da4eaaaab1d937c3fd2a699c3f, df4bc5da4ea...  \n",
       "\n",
       "[83000 rows x 3 columns]"
      ]
     },
     "execution_count": 31,
     "metadata": {},
     "output_type": "execute_result"
    }
   ],
   "source": [
    "acc_no_map_agg = acc_no_map.groupby(\"ACCOUNT_NUM.hash\").agg(list)\n",
    "acc_no_map_agg.reset_index(inplace=True)\n",
    "acc_no_map_agg"
   ]
  },
  {
   "cell_type": "code",
   "execution_count": 32,
   "metadata": {
    "gather": {
     "logged": 1628307657859
    }
   },
   "outputs": [
    {
     "data": {
      "text/plain": [
       "83000"
      ]
     },
     "execution_count": 32,
     "metadata": {},
     "output_type": "execute_result"
    }
   ],
   "source": [
    "len(acc_no_map[\"ACCOUNT_NUM.hash\"].unique())"
   ]
  },
  {
   "cell_type": "code",
   "execution_count": 33,
   "metadata": {
    "gather": {
     "logged": 1628307981097
    },
    "jupyter": {
     "outputs_hidden": false,
     "source_hidden": false
    },
    "nteract": {
     "transient": {
      "deleting": false
     }
    }
   },
   "outputs": [],
   "source": [
    "acc_no_map.to_csv(\"data/user_profile/account_no_map_all.csv\")"
   ]
  },
  {
   "cell_type": "code",
   "execution_count": 34,
   "metadata": {
    "gather": {
     "logged": 1628307944338
    }
   },
   "outputs": [],
   "source": [
    "acc_no_map_agg.to_csv(\"data/user_profile/account_no_map_agg.csv\")"
   ]
  },
  {
   "cell_type": "code",
   "execution_count": null,
   "metadata": {},
   "outputs": [],
   "source": []
  },
  {
   "cell_type": "markdown",
   "metadata": {},
   "source": [
    "## Customer Demographics "
   ]
  },
  {
   "cell_type": "markdown",
   "metadata": {},
   "source": [
    "### Demographics Inofmation"
   ]
  },
  {
   "cell_type": "code",
   "execution_count": 35,
   "metadata": {
    "gather": {
     "logged": 1628307999115
    }
   },
   "outputs": [],
   "source": [
    "demo_df = pd.read_csv(\"data/7.1 Demographic Data.csv\")"
   ]
  },
  {
   "cell_type": "code",
   "execution_count": 36,
   "metadata": {},
   "outputs": [],
   "source": [
    "demo_df.drop_duplicates(\"CUSTOMER_REF.hash\", inplace=True)\n",
    "demo_df.rename(columns={\"CUSTOMER_REF.hash\":\"CR.hash\"}, inplace=True)"
   ]
  },
  {
   "cell_type": "code",
   "execution_count": 37,
   "metadata": {
    "gather": {
     "logged": 1628308002861
    },
    "jupyter": {
     "outputs_hidden": false,
     "source_hidden": false
    },
    "nteract": {
     "transient": {
      "deleting": false
     }
    }
   },
   "outputs": [
    {
     "name": "stdout",
     "output_type": "stream",
     "text": [
      "<class 'pandas.core.frame.DataFrame'>\n",
      "Int64Index: 102890 entries, 0 to 102889\n",
      "Data columns (total 4 columns):\n",
      " #   Column      Non-Null Count   Dtype \n",
      "---  ------      --------------   ----- \n",
      " 0   CR.hash     102890 non-null  object\n",
      " 1   GENDER      102890 non-null  object\n",
      " 2   BIRTH_YEAR  102890 non-null  int64 \n",
      " 3   AGE         102890 non-null  int64 \n",
      "dtypes: int64(2), object(2)\n",
      "memory usage: 3.9+ MB\n"
     ]
    }
   ],
   "source": [
    "demo_df.info()"
   ]
  },
  {
   "cell_type": "code",
   "execution_count": 38,
   "metadata": {
    "gather": {
     "logged": 1628309161437
    }
   },
   "outputs": [
    {
     "data": {
      "text/html": [
       "<div>\n",
       "<style scoped>\n",
       "    .dataframe tbody tr th:only-of-type {\n",
       "        vertical-align: middle;\n",
       "    }\n",
       "\n",
       "    .dataframe tbody tr th {\n",
       "        vertical-align: top;\n",
       "    }\n",
       "\n",
       "    .dataframe thead th {\n",
       "        text-align: right;\n",
       "    }\n",
       "</style>\n",
       "<table border=\"1\" class=\"dataframe\">\n",
       "  <thead>\n",
       "    <tr style=\"text-align: right;\">\n",
       "      <th></th>\n",
       "      <th>CR.hash</th>\n",
       "      <th>GENDER</th>\n",
       "      <th>BIRTH_YEAR</th>\n",
       "      <th>AGE</th>\n",
       "      <th>event_source.hash</th>\n",
       "      <th>ACCOUNT_NUM.hash</th>\n",
       "    </tr>\n",
       "  </thead>\n",
       "  <tbody>\n",
       "    <tr>\n",
       "      <th>0</th>\n",
       "      <td>6adf4cdb5632fd7cd4c63c28f03deeb8</td>\n",
       "      <td>M</td>\n",
       "      <td>1975</td>\n",
       "      <td>46</td>\n",
       "      <td>e257326c82c2cd92238d8a3df7866d30</td>\n",
       "      <td>b94acb02778070c52f0058ad1dad5049</td>\n",
       "    </tr>\n",
       "    <tr>\n",
       "      <th>1</th>\n",
       "      <td>6adf4cdb5632fd7cd4c63c28f03deeb8</td>\n",
       "      <td>M</td>\n",
       "      <td>1975</td>\n",
       "      <td>46</td>\n",
       "      <td>793b33b518a1154214bae5e6d1a056c9</td>\n",
       "      <td>b94acb02778070c52f0058ad1dad5049</td>\n",
       "    </tr>\n",
       "    <tr>\n",
       "      <th>2</th>\n",
       "      <td>6adf4cdb5632fd7cd4c63c28f03deeb8</td>\n",
       "      <td>M</td>\n",
       "      <td>1975</td>\n",
       "      <td>46</td>\n",
       "      <td>8c32122fc95ac8e13f509c2ebb4ee377</td>\n",
       "      <td>b94acb02778070c52f0058ad1dad5049</td>\n",
       "    </tr>\n",
       "    <tr>\n",
       "      <th>3</th>\n",
       "      <td>c3d2b2f7dbef031193aeedb0d72b4fb9</td>\n",
       "      <td>M</td>\n",
       "      <td>1962</td>\n",
       "      <td>59</td>\n",
       "      <td>a1ea0ded27cf9820d1c3154b4ff1324a</td>\n",
       "      <td>9962761586f65dcd1157598e8086ac81</td>\n",
       "    </tr>\n",
       "    <tr>\n",
       "      <th>4</th>\n",
       "      <td>c3d2b2f7dbef031193aeedb0d72b4fb9</td>\n",
       "      <td>M</td>\n",
       "      <td>1962</td>\n",
       "      <td>59</td>\n",
       "      <td>7d942580c8cc18e844d3922e94767962</td>\n",
       "      <td>9962761586f65dcd1157598e8086ac81</td>\n",
       "    </tr>\n",
       "    <tr>\n",
       "      <th>...</th>\n",
       "      <td>...</td>\n",
       "      <td>...</td>\n",
       "      <td>...</td>\n",
       "      <td>...</td>\n",
       "      <td>...</td>\n",
       "      <td>...</td>\n",
       "    </tr>\n",
       "    <tr>\n",
       "      <th>170634</th>\n",
       "      <td>e36813ffd7cec3a27e1e40df637377ca</td>\n",
       "      <td>M</td>\n",
       "      <td>1977</td>\n",
       "      <td>44</td>\n",
       "      <td>3556be60799ef55916934066add4675e</td>\n",
       "      <td>d3a0b12ae63edf0c7aab1764382f020b</td>\n",
       "    </tr>\n",
       "    <tr>\n",
       "      <th>170635</th>\n",
       "      <td>c8b9620eaf713be46c623f5ebd0d6c54</td>\n",
       "      <td>F</td>\n",
       "      <td>1958</td>\n",
       "      <td>63</td>\n",
       "      <td>835c0eac8c28185e77a00ece9481e181</td>\n",
       "      <td>f7236d09578f306eb7e5a698b8630dde</td>\n",
       "    </tr>\n",
       "    <tr>\n",
       "      <th>170636</th>\n",
       "      <td>c8b9620eaf713be46c623f5ebd0d6c54</td>\n",
       "      <td>F</td>\n",
       "      <td>1958</td>\n",
       "      <td>63</td>\n",
       "      <td>05a7806569423b780554bb325b49aeca</td>\n",
       "      <td>f7236d09578f306eb7e5a698b8630dde</td>\n",
       "    </tr>\n",
       "    <tr>\n",
       "      <th>170637</th>\n",
       "      <td>314fc73edce93abadabaf916f4f62381</td>\n",
       "      <td>M</td>\n",
       "      <td>1971</td>\n",
       "      <td>50</td>\n",
       "      <td>f54dc2113407466294e281af2d77ab93</td>\n",
       "      <td>f91c5ec8e3ffefa823d28495f45634b9</td>\n",
       "    </tr>\n",
       "    <tr>\n",
       "      <th>170638</th>\n",
       "      <td>314fc73edce93abadabaf916f4f62381</td>\n",
       "      <td>M</td>\n",
       "      <td>1971</td>\n",
       "      <td>50</td>\n",
       "      <td>1eb12e72b7b739b5b2f0d6638294b05f</td>\n",
       "      <td>f91c5ec8e3ffefa823d28495f45634b9</td>\n",
       "    </tr>\n",
       "  </tbody>\n",
       "</table>\n",
       "<p>170639 rows × 6 columns</p>\n",
       "</div>"
      ],
      "text/plain": [
       "                                 CR.hash GENDER  BIRTH_YEAR  AGE  \\\n",
       "0       6adf4cdb5632fd7cd4c63c28f03deeb8      M        1975   46   \n",
       "1       6adf4cdb5632fd7cd4c63c28f03deeb8      M        1975   46   \n",
       "2       6adf4cdb5632fd7cd4c63c28f03deeb8      M        1975   46   \n",
       "3       c3d2b2f7dbef031193aeedb0d72b4fb9      M        1962   59   \n",
       "4       c3d2b2f7dbef031193aeedb0d72b4fb9      M        1962   59   \n",
       "...                                  ...    ...         ...  ...   \n",
       "170634  e36813ffd7cec3a27e1e40df637377ca      M        1977   44   \n",
       "170635  c8b9620eaf713be46c623f5ebd0d6c54      F        1958   63   \n",
       "170636  c8b9620eaf713be46c623f5ebd0d6c54      F        1958   63   \n",
       "170637  314fc73edce93abadabaf916f4f62381      M        1971   50   \n",
       "170638  314fc73edce93abadabaf916f4f62381      M        1971   50   \n",
       "\n",
       "                       event_source.hash                  ACCOUNT_NUM.hash  \n",
       "0       e257326c82c2cd92238d8a3df7866d30  b94acb02778070c52f0058ad1dad5049  \n",
       "1       793b33b518a1154214bae5e6d1a056c9  b94acb02778070c52f0058ad1dad5049  \n",
       "2       8c32122fc95ac8e13f509c2ebb4ee377  b94acb02778070c52f0058ad1dad5049  \n",
       "3       a1ea0ded27cf9820d1c3154b4ff1324a  9962761586f65dcd1157598e8086ac81  \n",
       "4       7d942580c8cc18e844d3922e94767962  9962761586f65dcd1157598e8086ac81  \n",
       "...                                  ...                               ...  \n",
       "170634  3556be60799ef55916934066add4675e  d3a0b12ae63edf0c7aab1764382f020b  \n",
       "170635  835c0eac8c28185e77a00ece9481e181  f7236d09578f306eb7e5a698b8630dde  \n",
       "170636  05a7806569423b780554bb325b49aeca  f7236d09578f306eb7e5a698b8630dde  \n",
       "170637  f54dc2113407466294e281af2d77ab93  f91c5ec8e3ffefa823d28495f45634b9  \n",
       "170638  1eb12e72b7b739b5b2f0d6638294b05f  f91c5ec8e3ffefa823d28495f45634b9  \n",
       "\n",
       "[170639 rows x 6 columns]"
      ]
     },
     "execution_count": 38,
     "metadata": {},
     "output_type": "execute_result"
    }
   ],
   "source": [
    "merged_demo = demo_df.merge(acc_no_map,how='left', on='CR.hash')\n",
    "merged_demo.reset_index(inplace=True)\n",
    "merged_demo.drop([\"index\"],axis=1, inplace=True)\n",
    "merged_demo"
   ]
  },
  {
   "cell_type": "code",
   "execution_count": 39,
   "metadata": {
    "gather": {
     "logged": 1628309172044
    }
   },
   "outputs": [
    {
     "name": "stderr",
     "output_type": "stream",
     "text": [
      "/Users/chiranhewawitharana/mambaforge/envs/mactf/lib/python3.8/site-packages/pandas/util/_decorators.py:311: SettingWithCopyWarning: \n",
      "A value is trying to be set on a copy of a slice from a DataFrame\n",
      "\n",
      "See the caveats in the documentation: https://pandas.pydata.org/pandas-docs/stable/user_guide/indexing.html#returning-a-view-versus-a-copy\n",
      "  return func(*args, **kwargs)\n"
     ]
    }
   ],
   "source": [
    "merged_demo = merged_demo[[\"ACCOUNT_NUM.hash\",\"event_source.hash\",\"CR.hash\",\"GENDER\",\"BIRTH_YEAR\",\"AGE\"]]\n",
    "merged_demo.drop_duplicates(\"ACCOUNT_NUM.hash\",inplace=True)"
   ]
  },
  {
   "cell_type": "code",
   "execution_count": 40,
   "metadata": {
    "gather": {
     "logged": 1628309184280
    }
   },
   "outputs": [
    {
     "name": "stdout",
     "output_type": "stream",
     "text": [
      "<class 'pandas.core.frame.DataFrame'>\n",
      "Int64Index: 76523 entries, 0 to 170637\n",
      "Data columns (total 6 columns):\n",
      " #   Column             Non-Null Count  Dtype \n",
      "---  ------             --------------  ----- \n",
      " 0   ACCOUNT_NUM.hash   76522 non-null  object\n",
      " 1   event_source.hash  76522 non-null  object\n",
      " 2   CR.hash            76523 non-null  object\n",
      " 3   GENDER             76523 non-null  object\n",
      " 4   BIRTH_YEAR         76523 non-null  int64 \n",
      " 5   AGE                76523 non-null  int64 \n",
      "dtypes: int64(2), object(4)\n",
      "memory usage: 4.1+ MB\n"
     ]
    }
   ],
   "source": [
    "merged_demo.info()"
   ]
  },
  {
   "cell_type": "code",
   "execution_count": 41,
   "metadata": {
    "gather": {
     "logged": 1628309212131
    }
   },
   "outputs": [],
   "source": [
    "merged_demo.to_csv(\"data/user_profile/user_demographics.csv\")"
   ]
  },
  {
   "cell_type": "markdown",
   "metadata": {},
   "source": [
    "## Imports"
   ]
  },
  {
   "cell_type": "code",
   "execution_count": 42,
   "metadata": {},
   "outputs": [],
   "source": [
    "costed_events_df = pd.read_excel(\"data/4.3 VAS Product Data From Costed Events Table.xls\")"
   ]
  },
  {
   "cell_type": "code",
   "execution_count": 43,
   "metadata": {},
   "outputs": [],
   "source": [
    "sltdwh_df = pd.read_excel(\"data/4.4 VAS product Data From SLTDWH.xls\")"
   ]
  },
  {
   "cell_type": "code",
   "execution_count": 44,
   "metadata": {},
   "outputs": [],
   "source": [
    "renatal_vas_df = pd.read_excel(\"data/4.1 Rental VAS Products Data.xls\")"
   ]
  },
  {
   "cell_type": "code",
   "execution_count": 45,
   "metadata": {},
   "outputs": [],
   "source": [
    "otc_vas_df = pd.read_excel(\"data/4.2 OTC VAS Product Data.xlsx\")"
   ]
  },
  {
   "cell_type": "code",
   "execution_count": 46,
   "metadata": {},
   "outputs": [],
   "source": [
    "acc_vas_df = pd.read_excel(\"data/4.5 VAS product Data From Account Details Table.xls\")"
   ]
  },
  {
   "cell_type": "code",
   "execution_count": 47,
   "metadata": {},
   "outputs": [],
   "source": [
    "product_mapping_to_bs_df = pd.read_excel(\"data/5.3 Products mapping to BS tariff.xlsx\")"
   ]
  },
  {
   "cell_type": "code",
   "execution_count": 182,
   "metadata": {},
   "outputs": [],
   "source": [
    "state_changes_df = pd.read_csv(\"data/Product State Changes from BSS.csv\")"
   ]
  },
  {
   "cell_type": "code",
   "execution_count": 48,
   "metadata": {},
   "outputs": [],
   "source": [
    "promotion_upgrade_df = pd.read_excel(\"data/6.1 Promotion Upgrade Data.xlsx\")"
   ]
  },
  {
   "cell_type": "code",
   "execution_count": 49,
   "metadata": {},
   "outputs": [],
   "source": [
    "payments_df = pd.read_excel(\"data/6.2 Payment Details.xlsx\")"
   ]
  },
  {
   "cell_type": "code",
   "execution_count": 50,
   "metadata": {},
   "outputs": [],
   "source": [
    "billing_df = pd.read_csv(\"data/6.3 Billing Details.csv\")"
   ]
  },
  {
   "cell_type": "code",
   "execution_count": 51,
   "metadata": {},
   "outputs": [],
   "source": [
    "defaulter_df = pd.read_excel(\"data/7.3 Defaulter Customer List.xlsx\")"
   ]
  },
  {
   "cell_type": "markdown",
   "metadata": {},
   "source": [
    "# Data anlysis"
   ]
  },
  {
   "cell_type": "markdown",
   "metadata": {},
   "source": [
    "### Product Names and TRIFF"
   ]
  },
  {
   "cell_type": "code",
   "execution_count": 52,
   "metadata": {},
   "outputs": [],
   "source": [
    "product_and_triff = renatal_vas_df[[\"PRODUCT_NAME\",\"TARIFF_NAME\"]].drop_duplicates(\"PRODUCT_NAME\")\n",
    "product_and_triff.reset_index(inplace=True)\n",
    "product_and_triff.drop(\"index\",axis=1, inplace = True)"
   ]
  },
  {
   "cell_type": "code",
   "execution_count": 53,
   "metadata": {},
   "outputs": [],
   "source": [
    "product_and_triff.to_csv(\"data/product_catalog/VAS_product_triff.csv\")"
   ]
  },
  {
   "cell_type": "code",
   "execution_count": 54,
   "metadata": {},
   "outputs": [],
   "source": [
    "product_mapping_to_bs_df.drop(\"BSS Name\", axis=1, inplace=True)\n",
    "product_mapping_to_bs_df.rename(columns={\"CRM Name\":\"PRODUCT_NAME\",\"Value\":\"Product_Type\"},inplace=True)"
   ]
  },
  {
   "cell_type": "code",
   "execution_count": 55,
   "metadata": {},
   "outputs": [],
   "source": [
    "product_and_triff.to_csv(\"data/product_catalog/VAS_product_all.csv\")"
   ]
  },
  {
   "cell_type": "markdown",
   "metadata": {},
   "source": [
    "### VAS Datasets preparation"
   ]
  },
  {
   "cell_type": "code",
   "execution_count": 277,
   "metadata": {},
   "outputs": [],
   "source": [
    "# Date correction\n",
    "month_map = {\"Jan\":\"01\", \"Feb\":\"02\", \"Mar\":\"03\", \"Apr\":\"04\", \"May\":\"05\", \"Jun\":\"06\",\"Jul\":\"07\",\"Aug\":\"08\",\"Sept\":\"09\",\"Oct\":\"10\",\"Nov\":\"11\",\"Dec\":\"12\"}\n",
    "\n",
    "promotions = [\"SLT LTE 4G Biz Pal Package\",\"SLT LTE 4G Net Pal Package\",\"SLT LTE 4G Voice Pal Basic Package\",\n",
    "             \"SLT LTE Double Play Package\",\"SLT Megaline Double Play (BV) Package\",\n",
    "             \"SLT Megaline Double Play (PV) Package\",\"SLT Megaline Triple Play Package\",\n",
    "             \"SLT Megaline Single Play -SisuConnect School Phone\",\"SLT Smartline Double Play (BV)\",\n",
    "              \"SLT Smartline Triple Play\",\"SLTemail Promotion\",\"Domain Name Registration Bundle\",\n",
    "              \"IDC- Biz Virtual Mail Server Bundle\",\"IDC_Shared Hosting Service Bundle\",\n",
    "              \"I_DNS Hosting Promotion\",\"M_Revenue Commitment Package Bundle\",\"I_myBILL Service Bundle\",\n",
    "              \"C_Smart Dial Commitment Bundle\",\"C_Smart Dial Group Bundle\"\n",
    "             ]\n",
    "\n",
    "free_packages = [ 'V_Call Forwarding Offline',\n",
    "       'V_Anonymous call barring', 'V_Call back on busy',\n",
    "       'V_CLI presentation in call waiting', 'V_Incoming Call Memory',\n",
    "       'V_Call park', 'BB_Personal Storage',\n",
    "       'V_Call Forwarding by time', \n",
    "       'V_Outgoing Call Memory', \n",
    "       'V_Incoming Call Transfer', \n",
    "       'V_Call holding', 'E_PeoTV Initiation',\n",
    "       'V_Call Transfer Three way','V_Selective call acceptance', 'V_Selective call rejection',\n",
    "       'V_Call Forwarding-Immediate', 'V_Call Forwarding-On Busy',\n",
    "       'V_Call Waiting', 'V_Call Forwarding-No Answer', 'V_Secretary service', \n",
    "       'V_Call Forwarding', 'V_Absentee service','E_TSTV',\n",
    "       'V_Call Forwarding - On Busy', 'V_Call Forwarding - No Answer',\n",
    "       'V_Abbreviated Dialing', 'P_Incoming Call Memory', 'P_Call Forwarding by time',\n",
    "       'P_CLI presentation in call waiting', 'V_Password call barring (secret code)',\n",
    "       'P_Anonymous call barring', 'P_Call back on busy', 'P_Removal of Int & Parallel Ext', 'P_One-Time Detailed Bill',\n",
    "       'P_Outgoing Call Memory', 'P_Call Forwarding Offline',\"AB_Initiation Charge - 4G Biz Pal\",\n",
    "       'P_Call holding', 'P_Call Transfer Three way','V_Short Message Service',\n",
    "       'P_Incoming Call Transfer',  'V_Call Forwarding - Immediate','BB Personal Storage',\n",
    "       'DQ_Contact Details', 'P_SLT CLI', 'V_Do not disturb service','V_Hotline Service', \n",
    "       'V_Basic Phone', 'V_Call forwarding selective',\"V_Hotline Immediate\",'V_Selective call waiting',  'V_IDD',\n",
    "       'V_Caller name identificationPresentation', 'V_Caller name sending', 'V_Triple VAS Bundle','V_DQ Contact Details',\n",
    "       'V_Call Forwarding Offline','V_Complete call on no response','V_Double VAS Bundle','V_Single VAS Bundle','BB_PeoTVGO',\n",
    "       'V_Call Barring - Outgoing','V_Double VAS Bundle', 'V_Single VAS Bundle',\n",
    "       'V_Triple VAS Bundle', 'V_Voice VAS Bundle']\n",
    "\n",
    "VAS_List = ['P-Basic1_Tele Life', 'V-Plus4_TeleLife', 'P-Plus1_Tele Life',\n",
    "       'V_Telehealth', 'V-Plus1_TeleLife', 'V-Basic1_TeleLife',\n",
    "       'C-Basic1_Tele Life','DIG_ Kaspersky Internet Security',\n",
    "       'V_Sisu Connect', 'eChanneling Subcription','eChanneling No show Refund',\n",
    "       'P_Sisu Connect', 'P-Plus4_Tele Life','eChanneling No show Refund',\n",
    "       'P-Basic2_Tele Life', 'V-Basic4_TeleLife', 'C_Sisu Connect',\n",
    "       'V-Basic2_TeleLife', 'BB_Detailed Reports ', \n",
    "       'BB_ Entertainment Unlimited','BB_SLT Film Hall Service', \n",
    "       'V_E-channeling Registration', 'P-Basic4_Tele Life',\n",
    "       'V_E-channeling Subscription', 'OTT_SLT PeoTV Go',\n",
    "       'Package Rental Through ADSL', \n",
    "        'E_Video on Demand','KASP',\n",
    "       'E_PeoTV_Package Transfer', \n",
    "       'AB_Citylink Loyalty Rewards', 'V_Cordeless Phone - Installment',\n",
    "       'M_Activation Charge', 'AB_Additional Distance',\n",
    "       'V_Hotline-Immediate', \n",
    "       'V_Hotline-Time Delayed', 'AB_Service Vacation',\n",
    "       'V_Railway Registration', 'V_Detailed Bill',\n",
    "        'AB_Rental Free','SLT FILM HALL ',\n",
    "       'PEO TV GO_OTT_A-la carte channels', \n",
    "       'P_Call park', 'P_IDD',\n",
    "       'P_Additional features -Double VAS Bundle',\n",
    "       'V_One-Time Detailed Bill', 'BB_PeoTVGO Revenue code',\n",
    "       'PeoTVGo_Channel Package',\n",
    "       'V_Installment', 'V_Basic Phone Installment',\n",
    "       'AB_Referral offer Discount', 'V_Referral offer Discount',\n",
    "       'E_Referral offer Discount', 'BB_Report Subscription Charge',\n",
    "       'V_Miscellaneous Service',\n",
    "       'P_One-Time Detailed Bill', 'P_Removal of Int & Parallel Ext',\n",
    "       'BB_YouTube Bundle', 'Meet Lite',\n",
    "       'Meet Max', 'Edu Lite', 'BB_Messenger Bundle',\n",
    "        \"E_SLTemail\", \"Domain Name Registration Bundle\",\n",
    "        \"I_Domain Name Registration\",\"IDC- Biz Virtual Mail Server Bundle\",\n",
    "        \"I_DNS Hosting\", \"IDC- Biz Virtual Mail Server\",\n",
    "        \"IDC_Shared Hosting Service Bundle\", \"IDC_Shared Hosting Service\",\n",
    "        \"I_DNS Hosting Promotion\", \"I_DNS Hosting\", \"M_Revenue Commitment Package Bundle\",\n",
    "        \"M_Revenue Commitment Package\", \"V_Revenue Commitment Package\",\n",
    "        \"I_myBILL Service Bundle\", \"I_myBILL Service\",\n",
    "        \"C_Smart Dial Commitment Bundle\", \"C_Smart Dial Commitment\",\n",
    "        \"C_Smart Dial Group Bundle\",\"C_Smart Dial Group\",\n",
    "        \"D_Peo TV Equipment Replacement/ Recovery\",\n",
    "        \"M Fibre Access Bearer Condominium\", \"DIG_SLT CCTV\", \"BB_Enterprise Bulk GB\"]\n",
    "\n",
    "non_VAS = ['AB_WireLess Access','FTTH_Gamer Lite Subscription', 'Megaline_Gamer Lite Subscription',\n",
    "           'AB_Parallel line Installation','AB_Copper Access Bearer','FTTH_Gamer Lite Subscription',\n",
    "           'FTTH_Gamer Premium Subscription','Megaline_Streamer Premium Subscription','FTTH_Streamer Premium Subscription',\n",
    "           'V_Voice Startup Fee','AB_Fiber Access Bearer','E_SLT PeoTV Service', 'P_Megaline',\n",
    "           'E_PeoTV Initiation', 'AB_Megaline','AB_Megaline Startup','P_Megaline New Connection', 'P_Megaline',\n",
    "           'BB_SLT BroadBand Service','AB_Relocation' , 'V_SLT Voice Service']\n",
    "\n",
    "# Date correction\n",
    "def date_correct_common(date):\n",
    "    if not isinstance(date, float):\n",
    "        for month, num in month_map.items():\n",
    "            if month in date:\n",
    "                return f\"{date[0:4]}-{num}\"\n",
    "    \n",
    "# Date correction\n",
    "def date_correct_dss(date):\n",
    "    if not isinstance(date, float):\n",
    "        if len(date)>7:\n",
    "            return date[:7]\n",
    "        else:\n",
    "            return date\n",
    "\n",
    "# Date correction\n",
    "def date_correct_dwh(date):\n",
    "    if not isinstance(date, float):\n",
    "        return f\"{date[:4]}-{date[4:]}\"\n",
    "\n",
    "# Time correction\n",
    "def explode_unix_time(date):\n",
    "    if not isinstance(date, float):\n",
    "        return datetime.datetime.fromtimestamp(int(date)).strftime('%Y-%m')\n",
    "\n",
    "# Data Correction : GBs\n",
    "def remove_gb(col):\n",
    "    if not isinstance(col, float):\n",
    "        if \"GB\" in col:\n",
    "            return col.replace(\"GB\",\"\").replace(\" \",\"\")\n",
    "        else:\n",
    "            return col\n",
    "    else:\n",
    "        return col\n",
    "    \n",
    "    \n",
    "    # Date correction\n",
    "def hour_correct_ex_gb(hr):\n",
    "    if not isinstance(hr, float):\n",
    "        return hr[12:14]\n",
    "    \n",
    "    \n",
    "def prod_type(vas,med):\n",
    "    if not isinstance(vas, float):\n",
    "        if \"FTTH\" in vas or \"Fiber\" in vas:\n",
    "            return \"FTTH\"\n",
    "        if \"Megaline\" in vas:\n",
    "            return \"Megaline\"\n",
    "        if \"LTE\" in vas:\n",
    "            return \"LTE\"\n",
    "    if not isinstance(med, float):\n",
    "        if \"C\" in med or \"MC\" in med:\n",
    "            return \"Megaline\"\n",
    "        if \"F\" in med:\n",
    "            return \"FTTH\"\n",
    "        if \"L\" in med:\n",
    "            return \"LTE\"\n",
    "        \n",
    "def vas_bucketizer(vas):\n",
    "    if not isinstance(vas, float):\n",
    "        if \"V_\" in vas or \"V-\" in vas:\n",
    "            category=\"Voice\"\n",
    "        elif \"Peo\" in vas or \"PEO\" in vas or \"E_\" in vas:\n",
    "            category=\"PeoTV\"\n",
    "        elif \"BB\" in vas:\n",
    "            category=\"BB\"\n",
    "        else:\n",
    "            category=\"Other\"\n",
    "        return category\n",
    "    \n",
    "    \n",
    "def is_vas(vas):\n",
    "    if not isinstance(vas, float):\n",
    "        for pack in VAS_List:\n",
    "            if vas in pack:\n",
    "                return \"YES\"\n",
    "        return \"NO\"\n",
    "    \n",
    "def paid_free(vas):\n",
    "    if not isinstance(vas, float):\n",
    "        for pack in free_packages:\n",
    "            if vas in pack:\n",
    "                return \"FREE\"\n",
    "        return \"PAID\"\n",
    "    \n",
    "\n",
    "def is_sub(vas):\n",
    "    if not isinstance(vas, float):\n",
    "        for pack in non_VAS:\n",
    "            if vas in pack:\n",
    "                return \"YES\"\n",
    "        return \"NO\"\n",
    "\n",
    "def is_promotion(vas):\n",
    "    if not isinstance(vas, float):\n",
    "        for pack in promotions:\n",
    "            if vas in pack:\n",
    "                return \"YES\"\n",
    "        return \"NO\"\n",
    "    \n",
    "def remove_prefix(vas):\n",
    "    if not isinstance(vas, float):\n",
    "        return vas.replace(\"V_\",\"\").replace(\"V-\",\"\").replace(\"P_\",\"\").replace(\"E_\",\"\").replace(\"E-\",\"\")\\\n",
    "        .replace(\"P-\",\"\").replace(\"C_\",\"\").replace(\"C-\",\"\").replace(\"_\",\" \").replace(\"-\",\" \").replace(\"  \",\" \")\\\n",
    "        .replace(\"   \",\" \").replace(\"Tele Life\",\"TeleLife\").replace(\"channeling\",\"E channeling\")\n",
    "        "
   ]
  },
  {
   "cell_type": "code",
   "execution_count": 57,
   "metadata": {
    "gather": {
     "logged": 1628309653337
    }
   },
   "outputs": [],
   "source": [
    "renatal_vas_df.drop(\"TARIFF_NAME\",axis=1, inplace=True)\n",
    "renatal_vas_df.rename(columns={'PRODUCT_NAME':'VAS','DSP':'Month_Subscribed','RENTAL':'Rental'}, inplace=True)\n",
    "renatal_vas_df[\"Month_Subscribed\"] = renatal_vas_df[\"Month_Subscribed\"].apply(lambda x: date_correct_common(x))"
   ]
  },
  {
   "cell_type": "code",
   "execution_count": 58,
   "metadata": {},
   "outputs": [],
   "source": [
    "costed_events_df.rename(columns={'PRODUCT':'VAS','EVENT_DTM':'Month_Subscribed','REVENUE':'Rental'}, inplace=True)\n",
    "costed_events_df[\"Month_Subscribed\"] = costed_events_df[\"Month_Subscribed\"].apply(lambda x: date_correct_common(x))"
   ]
  },
  {
   "cell_type": "code",
   "execution_count": 59,
   "metadata": {},
   "outputs": [],
   "source": [
    "sltdwh_df.rename(columns={\"ACCOUNT_NO.hash\":\"ACCOUNT_NUM.hash\",'CODE_DESC':'VAS','REPORTING_MONTH_CAL_MONTH_CODE':'Month_Subscribed','REVENUE_AMOUNT':'Rental'}, inplace=True)\n",
    "sltdwh_df[\"Month_Subscribed\"] = sltdwh_df[\"Month_Subscribed\"].apply(lambda x: date_correct_dwh(str(x)))"
   ]
  },
  {
   "cell_type": "code",
   "execution_count": 60,
   "metadata": {},
   "outputs": [],
   "source": [
    "otc_vas_df.rename(columns={'OTC_NAME':'VAS','CREATED_DTM':'Month_Subscribed','OTC_MNY':'Rental'}, inplace=True)\n",
    "otc_vas_df[\"Month_Subscribed\"] = otc_vas_df[\"Month_Subscribed\"].apply(lambda x: date_correct_common(x))"
   ]
  },
  {
   "cell_type": "code",
   "execution_count": 61,
   "metadata": {},
   "outputs": [],
   "source": [
    "acc_vas_df[\"VAS\"] = \"KASP\"\n",
    "acc_vas_df.rename(columns={'MONTH':'Month_Subscribed','KASP_REV':'Rental'}, inplace=True)\n",
    "\n",
    "## TODO : Correct Time Mapping\n",
    "acc_vas_df[\"Month_Subscribed\"] = acc_vas_df[\"Month_Subscribed\"].apply(lambda x: explode_unix_time(x))"
   ]
  },
  {
   "cell_type": "code",
   "execution_count": 62,
   "metadata": {},
   "outputs": [
    {
     "name": "stderr",
     "output_type": "stream",
     "text": [
      "/Users/chiranhewawitharana/mambaforge/envs/mactf/lib/python3.8/site-packages/pandas/core/frame.py:5039: SettingWithCopyWarning: \n",
      "A value is trying to be set on a copy of a slice from a DataFrame\n",
      "\n",
      "See the caveats in the documentation: https://pandas.pydata.org/pandas-docs/stable/user_guide/indexing.html#returning-a-view-versus-a-copy\n",
      "  return super().rename(\n",
      "/Users/chiranhewawitharana/mambaforge/envs/mactf/lib/python3.8/site-packages/pandas/core/frame.py:4906: SettingWithCopyWarning: \n",
      "A value is trying to be set on a copy of a slice from a DataFrame\n",
      "\n",
      "See the caveats in the documentation: https://pandas.pydata.org/pandas-docs/stable/user_guide/indexing.html#returning-a-view-versus-a-copy\n",
      "  return super().drop(\n",
      "/var/folders/00/gmvdw06n48lgtsz126ng5y2m0000gn/T/ipykernel_729/3938978583.py:6: SettingWithCopyWarning: \n",
      "A value is trying to be set on a copy of a slice from a DataFrame.\n",
      "Try using .loc[row_indexer,col_indexer] = value instead\n",
      "\n",
      "See the caveats in the documentation: https://pandas.pydata.org/pandas-docs/stable/user_guide/indexing.html#returning-a-view-versus-a-copy\n",
      "  dss_vas_df[\"Month_Subscribed\"] = dss_vas_df[\"Month_Subscribed\"] .apply(lambda x: date_correct_dss(str(x)))\n"
     ]
    }
   ],
   "source": [
    "dss_vas_df =  product_cat_df[[\"ACCOUNT_NUM.hash\",\"PRODUCT_NAME\",\"START_DAT\",\"RECURRING_CHARGE\"]]\n",
    "dss_vas_df.sort_values(['ACCOUNT_NUM.hash', 'START_DAT'], ascending=[True, True], inplace=True)\n",
    "dss_vas_df.rename(columns={'PRODUCT_NAME':'VAS','START_DAT':'Month_Subscribed',\"RECURRING_CHARGE\":\"Rental\"}, inplace=True)\n",
    "dss_vas_df.reset_index(inplace=True)\n",
    "dss_vas_df.drop(\"index\",axis=1,inplace=True)\n",
    "dss_vas_df[\"Month_Subscribed\"] = dss_vas_df[\"Month_Subscribed\"] .apply(lambda x: date_correct_dss(str(x)))"
   ]
  },
  {
   "cell_type": "code",
   "execution_count": 63,
   "metadata": {},
   "outputs": [],
   "source": [
    "extra_GB_dss_df = dss_vas_df[(dss_vas_df[\"VAS\"]==\"BB_Extra GB\")]\n",
    "dss_vas_df = dss_vas_df[(dss_vas_df[\"VAS\"]!=\"BB_Extra GB\")]"
   ]
  },
  {
   "cell_type": "code",
   "execution_count": 64,
   "metadata": {},
   "outputs": [],
   "source": [
    "renatal_vas_df = renatal_vas_df[[\"ACCOUNT_NUM.hash\",\"VAS\",\"Rental\",\"Month_Subscribed\"]]\n",
    "costed_events_df = costed_events_df[[\"ACCOUNT_NUM.hash\",\"VAS\",\"Rental\",\"Month_Subscribed\"]]\n",
    "sltdwh_df = sltdwh_df[[\"ACCOUNT_NUM.hash\",\"VAS\",\"Rental\",\"Month_Subscribed\"]]\n",
    "dss_vas_df = dss_vas_df[[\"ACCOUNT_NUM.hash\",\"VAS\",\"Rental\",\"Month_Subscribed\"]]\n",
    "otc_vas_df = otc_vas_df[[\"ACCOUNT_NUM.hash\",\"VAS\",\"Rental\",\"Month_Subscribed\"]]\n",
    "acc_vas_df = acc_vas_df[[\"ACCOUNT_NUM.hash\",\"VAS\",\"Rental\",\"Month_Subscribed\"]]"
   ]
  },
  {
   "cell_type": "code",
   "execution_count": 71,
   "metadata": {},
   "outputs": [
    {
     "data": {
      "text/plain": [
       "4022"
      ]
     },
     "execution_count": 71,
     "metadata": {},
     "output_type": "execute_result"
    }
   ],
   "source": [
    "len(costed_events_df[\"ACCOUNT_NUM.hash\"].unique())"
   ]
  },
  {
   "cell_type": "code",
   "execution_count": 72,
   "metadata": {
    "gather": {
     "logged": 1628309770692
    }
   },
   "outputs": [
    {
     "data": {
      "text/plain": [
       "BB_Report Subscription Charge    10206\n",
       "BB Personal Storage               3020\n",
       "eChanneling No show Refund         695\n",
       "eChanneling Subcription            695\n",
       "eChanneling Service Charge         695\n",
       "PEO TV Go Basic Package            413\n",
       "PEO TV Go VAS                       46\n",
       "PEO TV Go SVOD                       3\n",
       "Name: VAS, dtype: int64"
      ]
     },
     "execution_count": 72,
     "metadata": {},
     "output_type": "execute_result"
    }
   ],
   "source": [
    "costed_events_df[\"VAS\"].value_counts()"
   ]
  },
  {
   "cell_type": "code",
   "execution_count": 73,
   "metadata": {},
   "outputs": [
    {
     "data": {
      "text/plain": [
       "6347"
      ]
     },
     "execution_count": 73,
     "metadata": {},
     "output_type": "execute_result"
    }
   ],
   "source": [
    "len(renatal_vas_df[\"ACCOUNT_NUM.hash\"].unique())"
   ]
  },
  {
   "cell_type": "code",
   "execution_count": 74,
   "metadata": {},
   "outputs": [
    {
     "data": {
      "text/plain": [
       "BB_YouTube Bundle                         6550\n",
       "BB_Messenger Bundle                       2496\n",
       "V_Telehealth                              1173\n",
       "BB_ Entertainment Unlimited                592\n",
       "FTTH_Gamer Lite Subscription               405\n",
       "V-Basic1_TeleLife                          328\n",
       "V-Plus1_TeleLife                           180\n",
       "LTE_Gamer Lite Subscription                158\n",
       "Megaline_Gamer Lite Subscription           123\n",
       "V_Sisu Connect                               9\n",
       "FTTH_Streamer Premium Subscription           4\n",
       "LTE_Gamer Premium Subscription               4\n",
       "FTTH_Gamer Premium Subscription              4\n",
       "V-Plus2_TeleLife                             3\n",
       "LTE_Streamer Premium Subscription            2\n",
       "V-Plus3_TeleLife                             2\n",
       "Megaline_Streamer Premium Subscription       1\n",
       "V-Basic4_TeleLife                            1\n",
       "V-Plus4_TeleLife                             1\n",
       "V-Basic2_TeleLife                            1\n",
       "V-Basic3_TeleLife                            1\n",
       "Name: VAS, dtype: int64"
      ]
     },
     "execution_count": 74,
     "metadata": {},
     "output_type": "execute_result"
    }
   ],
   "source": [
    "renatal_vas_df[\"VAS\"].value_counts()"
   ]
  },
  {
   "cell_type": "code",
   "execution_count": 75,
   "metadata": {},
   "outputs": [
    {
     "data": {
      "text/plain": [
       "1853"
      ]
     },
     "execution_count": 75,
     "metadata": {},
     "output_type": "execute_result"
    }
   ],
   "source": [
    "len(sltdwh_df[\"ACCOUNT_NUM.hash\"].unique())"
   ]
  },
  {
   "cell_type": "code",
   "execution_count": 76,
   "metadata": {},
   "outputs": [
    {
     "data": {
      "text/plain": [
       "Package Rental Through ADSL    11204\n",
       "SLT FILM HALL                     10\n",
       "Name: VAS, dtype: int64"
      ]
     },
     "execution_count": 76,
     "metadata": {},
     "output_type": "execute_result"
    }
   ],
   "source": [
    "sltdwh_df[\"VAS\"].value_counts()"
   ]
  },
  {
   "cell_type": "code",
   "execution_count": 77,
   "metadata": {},
   "outputs": [
    {
     "data": {
      "text/plain": [
       "83000"
      ]
     },
     "execution_count": 77,
     "metadata": {},
     "output_type": "execute_result"
    }
   ],
   "source": [
    "len(dss_vas_df[\"ACCOUNT_NUM.hash\"].unique())"
   ]
  },
  {
   "cell_type": "code",
   "execution_count": 78,
   "metadata": {},
   "outputs": [
    {
     "data": {
      "text/plain": [
       "V_SLT Voice Service                 115493\n",
       "AB_Copper Access Bearer              97573\n",
       "E_SLT PeoTV Service                  48579\n",
       "BB_SLT BroadBand Service             46689\n",
       "BB_PeoTVGO                           39902\n",
       "BB_Personal Storage                  38178\n",
       "AB_WireLess Access                   11837\n",
       "AB_Fiber Access Bearer                8762\n",
       "V-Basic1_TeleLife                     4239\n",
       "V-Plus1_TeleLife                      3296\n",
       "V_E-channeling Registration           2934\n",
       "V_Telehealth                          2557\n",
       "BB_Detailed Reports                   1414\n",
       "V_E-channeling Subscription            911\n",
       "V_Sisu Connect                         883\n",
       "BB_SLT Film Hall Service               191\n",
       "OTT_SLT PeoTV Go                       155\n",
       "BB_ Entertainment Unlimited             64\n",
       "V-Plus4_TeleLife                        47\n",
       "DIG_ Kaspersky Internet Security        36\n",
       "V-Basic2_TeleLife                       34\n",
       "V-Plus2_TeleLife                        33\n",
       "V-Basic4_TeleLife                       21\n",
       "V-Plus3_TeleLife                        18\n",
       "BB_Guru.lk Service                       9\n",
       "AB_Peo TV Go OTT Box                     5\n",
       "V-Basic3_TeleLife                        3\n",
       "BB_SLT Film Hall Portal VOD              1\n",
       "Name: VAS, dtype: int64"
      ]
     },
     "execution_count": 78,
     "metadata": {},
     "output_type": "execute_result"
    }
   ],
   "source": [
    "dss_vas_df[\"VAS\"].value_counts()"
   ]
  },
  {
   "cell_type": "code",
   "execution_count": 79,
   "metadata": {},
   "outputs": [
    {
     "data": {
      "text/plain": [
       "22328"
      ]
     },
     "execution_count": 79,
     "metadata": {},
     "output_type": "execute_result"
    }
   ],
   "source": [
    "len(otc_vas_df[\"ACCOUNT_NUM.hash\"].unique())"
   ]
  },
  {
   "cell_type": "code",
   "execution_count": 80,
   "metadata": {},
   "outputs": [
    {
     "data": {
      "text/plain": [
       "Meet Lite    75634\n",
       "Meet Max      6856\n",
       "Edu Lite       686\n",
       "Edu Max        118\n",
       "Name: VAS, dtype: int64"
      ]
     },
     "execution_count": 80,
     "metadata": {},
     "output_type": "execute_result"
    }
   ],
   "source": [
    "otc_vas_df[\"VAS\"].value_counts()"
   ]
  },
  {
   "cell_type": "code",
   "execution_count": 81,
   "metadata": {},
   "outputs": [
    {
     "data": {
      "text/plain": [
       "100"
      ]
     },
     "execution_count": 81,
     "metadata": {},
     "output_type": "execute_result"
    }
   ],
   "source": [
    "len(acc_vas_df[\"ACCOUNT_NUM.hash\"].unique())"
   ]
  },
  {
   "cell_type": "code",
   "execution_count": 185,
   "metadata": {
    "gather": {
     "logged": 1628313697134
    },
    "jupyter": {
     "outputs_hidden": false,
     "source_hidden": false
    },
    "nteract": {
     "transient": {
      "deleting": false
     }
    }
   },
   "outputs": [
    {
     "name": "stdout",
     "output_type": "stream",
     "text": [
      "<class 'pandas.core.frame.DataFrame'>\n",
      "RangeIndex: 3028 entries, 0 to 3027\n",
      "Data columns (total 3 columns):\n",
      " #   Column        Non-Null Count  Dtype \n",
      "---  ------        --------------  ----- \n",
      " 0   event_source  3028 non-null   int64 \n",
      " 1   CUSTOMER_REF  3028 non-null   object\n",
      " 2   ACCOUNT_NUM   3028 non-null   object\n",
      "dtypes: int64(1), object(2)\n",
      "memory usage: 71.1+ KB\n"
     ]
    },
    {
     "name": "stderr",
     "output_type": "stream",
     "text": [
      "/Users/chiranhewawitharana/mambaforge/envs/mactf/lib/python3.8/site-packages/pandas/core/frame.py:5039: SettingWithCopyWarning: \n",
      "A value is trying to be set on a copy of a slice from a DataFrame\n",
      "\n",
      "See the caveats in the documentation: https://pandas.pydata.org/pandas-docs/stable/user_guide/indexing.html#returning-a-view-versus-a-copy\n",
      "  return super().rename(\n"
     ]
    }
   ],
   "source": [
    "# Actual information for verification\n",
    "actual_info_df = state_changes_df[['PRODUCT_LABEL','CUSTOMER_REF','ACCOUNT_NUM']]\n",
    "actual_info_df.rename(columns={\"PRODUCT_LABEL\":\"event_source\"},inplace=True)\n",
    "actual_info_df.info()"
   ]
  },
  {
   "cell_type": "code",
   "execution_count": 186,
   "metadata": {
    "gather": {
     "logged": 1628313023935
    },
    "jupyter": {
     "outputs_hidden": false,
     "source_hidden": false
    },
    "nteract": {
     "transient": {
      "deleting": false
     }
    }
   },
   "outputs": [],
   "source": [
    "actual_info_df.to_csv(\"data/user_profile/Actual_Customer_Info.csv\")"
   ]
  },
  {
   "cell_type": "code",
   "execution_count": 187,
   "metadata": {
    "gather": {
     "logged": 1628313708816
    }
   },
   "outputs": [],
   "source": [
    "state_changes_df = state_changes_df.drop(['PRODUCT_LABEL','CUSTOMER_REF','ACCOUNT_NUM' ,'PRODUCT_STATUS','PRODUCT_ID','START_DAT','END_DAT','PRODUCT_SEQ'], axis=1)\n",
    "state_changes_df.rename(columns={'PRODUCT_LABEL.hash': 'event_source.hash','PRODUCT_NAME':'VAS','EFFECTIVE_DTM':'Month_Subscribed'}, inplace=True)"
   ]
  },
  {
   "cell_type": "code",
   "execution_count": 188,
   "metadata": {
    "gather": {
     "logged": 1628313739500
    }
   },
   "outputs": [],
   "source": [
    "state_changes_df[\"Month_Subscribed\"]=state_changes_df[\"Month_Subscribed\"].apply(lambda x: date_correct_common(x))"
   ]
  },
  {
   "cell_type": "code",
   "execution_count": 194,
   "metadata": {
    "gather": {
     "logged": 1628313757232
    }
   },
   "outputs": [
    {
     "data": {
      "text/html": [
       "<div>\n",
       "<style scoped>\n",
       "    .dataframe tbody tr th:only-of-type {\n",
       "        vertical-align: middle;\n",
       "    }\n",
       "\n",
       "    .dataframe tbody tr th {\n",
       "        vertical-align: top;\n",
       "    }\n",
       "\n",
       "    .dataframe thead th {\n",
       "        text-align: right;\n",
       "    }\n",
       "</style>\n",
       "<table border=\"1\" class=\"dataframe\">\n",
       "  <thead>\n",
       "    <tr style=\"text-align: right;\">\n",
       "      <th></th>\n",
       "      <th>ACCOUNT_NUM.hash</th>\n",
       "      <th>VAS</th>\n",
       "      <th>Rental</th>\n",
       "      <th>Month_Subscribed</th>\n",
       "    </tr>\n",
       "  </thead>\n",
       "  <tbody>\n",
       "    <tr>\n",
       "      <th>0</th>\n",
       "      <td>a4e4afaedb57f205bfeff624c39fe49d</td>\n",
       "      <td>V_Single VAS Bundle</td>\n",
       "      <td>0</td>\n",
       "      <td>2019-06</td>\n",
       "    </tr>\n",
       "    <tr>\n",
       "      <th>1</th>\n",
       "      <td>9c802b6b329dc1e3ba6e6c655a21e65d</td>\n",
       "      <td>E_Referral offer Discount</td>\n",
       "      <td>0</td>\n",
       "      <td>2020-01</td>\n",
       "    </tr>\n",
       "    <tr>\n",
       "      <th>2</th>\n",
       "      <td>1cf3f313f1060c69dfe814a0e8124f18</td>\n",
       "      <td>V_Absentee service</td>\n",
       "      <td>0</td>\n",
       "      <td>2019-10</td>\n",
       "    </tr>\n",
       "    <tr>\n",
       "      <th>3</th>\n",
       "      <td>ce8d936fed762bfa12912fb18915b802</td>\n",
       "      <td>V_Hotline Service</td>\n",
       "      <td>0</td>\n",
       "      <td>2019-06</td>\n",
       "    </tr>\n",
       "    <tr>\n",
       "      <th>4</th>\n",
       "      <td>a4e4afaedb57f205bfeff624c39fe49d</td>\n",
       "      <td>V_Caller Line Identification</td>\n",
       "      <td>0</td>\n",
       "      <td>2019-06</td>\n",
       "    </tr>\n",
       "    <tr>\n",
       "      <th>...</th>\n",
       "      <td>...</td>\n",
       "      <td>...</td>\n",
       "      <td>...</td>\n",
       "      <td>...</td>\n",
       "    </tr>\n",
       "    <tr>\n",
       "      <th>3023</th>\n",
       "      <td>3030f90b7118e741f52dd8421a83145a</td>\n",
       "      <td>V_DQ Contact Details</td>\n",
       "      <td>0</td>\n",
       "      <td>2019-04</td>\n",
       "    </tr>\n",
       "    <tr>\n",
       "      <th>3024</th>\n",
       "      <td>3030f90b7118e741f52dd8421a83145a</td>\n",
       "      <td>AB_Megaline</td>\n",
       "      <td>0</td>\n",
       "      <td>2019-04</td>\n",
       "    </tr>\n",
       "    <tr>\n",
       "      <th>3025</th>\n",
       "      <td>3030f90b7118e741f52dd8421a83145a</td>\n",
       "      <td>AB_Megaline Startup</td>\n",
       "      <td>0</td>\n",
       "      <td>2019-04</td>\n",
       "    </tr>\n",
       "    <tr>\n",
       "      <th>3026</th>\n",
       "      <td>3030f90b7118e741f52dd8421a83145a</td>\n",
       "      <td>V_IDD</td>\n",
       "      <td>0</td>\n",
       "      <td>2019-04</td>\n",
       "    </tr>\n",
       "    <tr>\n",
       "      <th>3027</th>\n",
       "      <td>fbfdb60177fd5265eb5f0dc6a5f786a6</td>\n",
       "      <td>V_Call Forwarding</td>\n",
       "      <td>0</td>\n",
       "      <td>2020-08</td>\n",
       "    </tr>\n",
       "  </tbody>\n",
       "</table>\n",
       "<p>3028 rows × 4 columns</p>\n",
       "</div>"
      ],
      "text/plain": [
       "                      ACCOUNT_NUM.hash                           VAS  Rental  \\\n",
       "0     a4e4afaedb57f205bfeff624c39fe49d           V_Single VAS Bundle       0   \n",
       "1     9c802b6b329dc1e3ba6e6c655a21e65d     E_Referral offer Discount       0   \n",
       "2     1cf3f313f1060c69dfe814a0e8124f18            V_Absentee service       0   \n",
       "3     ce8d936fed762bfa12912fb18915b802             V_Hotline Service       0   \n",
       "4     a4e4afaedb57f205bfeff624c39fe49d  V_Caller Line Identification       0   \n",
       "...                                ...                           ...     ...   \n",
       "3023  3030f90b7118e741f52dd8421a83145a          V_DQ Contact Details       0   \n",
       "3024  3030f90b7118e741f52dd8421a83145a                   AB_Megaline       0   \n",
       "3025  3030f90b7118e741f52dd8421a83145a           AB_Megaline Startup       0   \n",
       "3026  3030f90b7118e741f52dd8421a83145a                         V_IDD       0   \n",
       "3027  fbfdb60177fd5265eb5f0dc6a5f786a6             V_Call Forwarding       0   \n",
       "\n",
       "     Month_Subscribed  \n",
       "0             2019-06  \n",
       "1             2020-01  \n",
       "2             2019-10  \n",
       "3             2019-06  \n",
       "4             2019-06  \n",
       "...               ...  \n",
       "3023          2019-04  \n",
       "3024          2019-04  \n",
       "3025          2019-04  \n",
       "3026          2019-04  \n",
       "3027          2020-08  \n",
       "\n",
       "[3028 rows x 4 columns]"
      ]
     },
     "execution_count": 194,
     "metadata": {},
     "output_type": "execute_result"
    }
   ],
   "source": [
    "state_changes_df[\"Rental\"] = 0\n",
    "state_changes_df = state_changes_df[[\"ACCOUNT_NUM.hash\",\"VAS\",\"Rental\",\"Month_Subscribed\"]]"
   ]
  },
  {
   "cell_type": "code",
   "execution_count": 195,
   "metadata": {
    "scrolled": true
   },
   "outputs": [
    {
     "name": "stdout",
     "output_type": "stream",
     "text": [
      "<class 'pandas.core.frame.DataFrame'>\n",
      "RangeIndex: 3028 entries, 0 to 3027\n",
      "Data columns (total 4 columns):\n",
      " #   Column            Non-Null Count  Dtype \n",
      "---  ------            --------------  ----- \n",
      " 0   ACCOUNT_NUM.hash  3028 non-null   object\n",
      " 1   VAS               3028 non-null   object\n",
      " 2   Rental            3028 non-null   int64 \n",
      " 3   Month_Subscribed  2841 non-null   object\n",
      "dtypes: int64(1), object(3)\n",
      "memory usage: 94.8+ KB\n"
     ]
    }
   ],
   "source": [
    "state_changes_df.info()"
   ]
  },
  {
   "cell_type": "code",
   "execution_count": 192,
   "metadata": {},
   "outputs": [],
   "source": [
    "uniq_cust = acc_no_map[\"ACCOUNT_NUM.hash\"].unique()"
   ]
  },
  {
   "cell_type": "code",
   "execution_count": 193,
   "metadata": {},
   "outputs": [
    {
     "data": {
      "text/plain": [
       "83000"
      ]
     },
     "execution_count": 193,
     "metadata": {},
     "output_type": "execute_result"
    }
   ],
   "source": [
    "len(uniq_cust)"
   ]
  },
  {
   "cell_type": "markdown",
   "metadata": {},
   "source": []
  },
  {
   "cell_type": "markdown",
   "metadata": {},
   "source": [
    "## VAS Dataframes Merging"
   ]
  },
  {
   "cell_type": "code",
   "execution_count": 259,
   "metadata": {
    "gather": {
     "logged": 1628315420593
    }
   },
   "outputs": [],
   "source": [
    "# Concat dataframes and merge by event_source.hash\n",
    "vas_final_df = pd.concat([renatal_vas_df, costed_events_df, sltdwh_df, dss_vas_df,otc_vas_df,acc_vas_df,state_changes_df], ignore_index=True)"
   ]
  },
  {
   "cell_type": "code",
   "execution_count": 260,
   "metadata": {
    "gather": {
     "logged": 1628315516484
    },
    "jupyter": {
     "outputs_hidden": false,
     "source_hidden": false
    },
    "nteract": {
     "transient": {
      "deleting": false
     }
    }
   },
   "outputs": [],
   "source": [
    "vas_final_df.drop_duplicates([\"ACCOUNT_NUM.hash\",\"VAS\",\"Rental\",\"Month_Subscribed\"],inplace=True)"
   ]
  },
  {
   "cell_type": "code",
   "execution_count": 261,
   "metadata": {
    "gather": {
     "logged": 1628315225672
    }
   },
   "outputs": [],
   "source": [
    "vas_final_df.sort_values('Month_Subscribed',inplace=True)"
   ]
  },
  {
   "cell_type": "code",
   "execution_count": 262,
   "metadata": {
    "gather": {
     "logged": 1628315232167
    }
   },
   "outputs": [],
   "source": [
    "vas_final_df.reset_index(inplace=True)\n",
    "vas_final_df.drop([\"index\"],axis=1,inplace=True)"
   ]
  },
  {
   "cell_type": "code",
   "execution_count": 263,
   "metadata": {
    "gather": {
     "logged": 1628315256606
    }
   },
   "outputs": [],
   "source": [
    "vas_final_df = vas_final_df[vas_final_df['ACCOUNT_NUM.hash'].notna()]"
   ]
  },
  {
   "cell_type": "code",
   "execution_count": 268,
   "metadata": {},
   "outputs": [],
   "source": [
    "vas_final_df = vas_final_df.merge(pcat_df[[\"PRODUCT_NAME\",\"MEDIUM\",'TARIFF_NAME','TARIFF_DESC']], how=\"left\", left_on=\"VAS\",right_on=\"PRODUCT_NAME\")"
   ]
  },
  {
   "cell_type": "code",
   "execution_count": 269,
   "metadata": {
    "gather": {
     "logged": 1628315434618
    }
   },
   "outputs": [
    {
     "name": "stdout",
     "output_type": "stream",
     "text": [
      "<class 'pandas.core.frame.DataFrame'>\n",
      "Int64Index: 437080 entries, 0 to 437079\n",
      "Data columns (total 8 columns):\n",
      " #   Column            Non-Null Count   Dtype \n",
      "---  ------            --------------   ----- \n",
      " 0   ACCOUNT_NUM.hash  437080 non-null  object\n",
      " 1   VAS               437080 non-null  object\n",
      " 2   Rental            200829 non-null  object\n",
      " 3   Month_Subscribed  436897 non-null  object\n",
      " 4   PRODUCT_NAME      324059 non-null  object\n",
      " 5   MEDIUM            303727 non-null  object\n",
      " 6   TARIFF_NAME       324059 non-null  object\n",
      " 7   TARIFF_DESC       324059 non-null  object\n",
      "dtypes: object(8)\n",
      "memory usage: 30.0+ MB\n"
     ]
    }
   ],
   "source": [
    "vas_final_df.info()"
   ]
  },
  {
   "cell_type": "code",
   "execution_count": 270,
   "metadata": {
    "gather": {
     "logged": 1628315274570
    }
   },
   "outputs": [
    {
     "data": {
      "text/plain": [
       "94764"
      ]
     },
     "execution_count": 270,
     "metadata": {},
     "output_type": "execute_result"
    }
   ],
   "source": [
    "len(vas_final_df[\"ACCOUNT_NUM.hash\"].unique())"
   ]
  },
  {
   "cell_type": "code",
   "execution_count": 271,
   "metadata": {},
   "outputs": [
    {
     "data": {
      "text/plain": [
       "141"
      ]
     },
     "execution_count": 271,
     "metadata": {},
     "output_type": "execute_result"
    }
   ],
   "source": [
    "len(vas_final_df[\"VAS\"].unique())"
   ]
  },
  {
   "cell_type": "markdown",
   "metadata": {},
   "source": [
    "## Notes\n",
    "- Plus1, Basic1, Plus4 etc. are different packages of TeleLife\n",
    "- V - Voice, P/E - Peo TV, B - BroadBand (Category based on Users Subscription)"
   ]
  },
  {
   "cell_type": "code",
   "execution_count": null,
   "metadata": {},
   "outputs": [],
   "source": []
  },
  {
   "cell_type": "code",
   "execution_count": 272,
   "metadata": {},
   "outputs": [],
   "source": [
    "vas_final_df[\"Package_Type\"]=vas_final_df[\"VAS\"].apply(lambda x: vas_bucketizer(x))"
   ]
  },
  {
   "cell_type": "code",
   "execution_count": 273,
   "metadata": {
    "jupyter": {
     "outputs_hidden": false,
     "source_hidden": false
    },
    "nteract": {
     "transient": {
      "deleting": false
     }
    }
   },
   "outputs": [],
   "source": [
    "vas_final_df[\"Product_Type\"] = vas_final_df.apply(lambda x: prod_type(x[\"VAS\"],x[\"MEDIUM\"]),axis=1)"
   ]
  },
  {
   "cell_type": "code",
   "execution_count": 274,
   "metadata": {
    "jupyter": {
     "outputs_hidden": false,
     "source_hidden": false
    },
    "nteract": {
     "transient": {
      "deleting": false
     }
    }
   },
   "outputs": [],
   "source": [
    "vas_final_df[\"is_VAS\"] = vas_final_df[\"VAS\"].apply(lambda x: is_vas(x))"
   ]
  },
  {
   "cell_type": "code",
   "execution_count": 275,
   "metadata": {
    "jupyter": {
     "outputs_hidden": false,
     "source_hidden": false
    },
    "nteract": {
     "transient": {
      "deleting": false
     }
    }
   },
   "outputs": [],
   "source": [
    "vas_final_df[\"is_Subscription\"] = vas_final_df[\"VAS\"].apply(lambda x: is_sub(x))"
   ]
  },
  {
   "cell_type": "code",
   "execution_count": 278,
   "metadata": {},
   "outputs": [],
   "source": [
    "vas_final_df[\"is_Promotion\"] = vas_final_df[\"VAS\"].apply(lambda x: is_promotion(x))"
   ]
  },
  {
   "cell_type": "code",
   "execution_count": 279,
   "metadata": {},
   "outputs": [],
   "source": [
    "vas_final_df[\"FREE_or_PAID\"] = vas_final_df[\"VAS\"].apply(lambda x: paid_free(x))"
   ]
  },
  {
   "cell_type": "code",
   "execution_count": 280,
   "metadata": {},
   "outputs": [],
   "source": [
    "vas_final_df[\"Package_Formatted\"] = vas_final_df[\"VAS\"].apply(lambda x: remove_prefix(x))"
   ]
  },
  {
   "cell_type": "code",
   "execution_count": 281,
   "metadata": {
    "jupyter": {
     "outputs_hidden": false,
     "source_hidden": false
    },
    "nteract": {
     "transient": {
      "deleting": false
     }
    }
   },
   "outputs": [],
   "source": [
    "vas_final_df.rename(columns={\"VAS\":\"Package\"},inplace=True)"
   ]
  },
  {
   "cell_type": "code",
   "execution_count": 282,
   "metadata": {},
   "outputs": [
    {
     "name": "stdout",
     "output_type": "stream",
     "text": [
      "<class 'pandas.core.frame.DataFrame'>\n",
      "Int64Index: 437080 entries, 0 to 437079\n",
      "Data columns (total 15 columns):\n",
      " #   Column             Non-Null Count   Dtype \n",
      "---  ------             --------------   ----- \n",
      " 0   ACCOUNT_NUM.hash   437080 non-null  object\n",
      " 1   Package            437080 non-null  object\n",
      " 2   Rental             200829 non-null  object\n",
      " 3   Month_Subscribed   436897 non-null  object\n",
      " 4   PRODUCT_NAME       324059 non-null  object\n",
      " 5   MEDIUM             303727 non-null  object\n",
      " 6   TARIFF_NAME        324059 non-null  object\n",
      " 7   TARIFF_DESC        324059 non-null  object\n",
      " 8   Package_Type       437080 non-null  object\n",
      " 9   Product_Type       312898 non-null  object\n",
      " 10  is_VAS             437080 non-null  object\n",
      " 11  is_Subscription    437080 non-null  object\n",
      " 12  is_Promotion       437080 non-null  object\n",
      " 13  FREE_or_PAID       437080 non-null  object\n",
      " 14  Package_Formatted  437080 non-null  object\n",
      "dtypes: object(15)\n",
      "memory usage: 53.4+ MB\n"
     ]
    }
   ],
   "source": [
    "vas_final_df.info()"
   ]
  },
  {
   "cell_type": "code",
   "execution_count": 283,
   "metadata": {},
   "outputs": [
    {
     "data": {
      "text/plain": [
       "Other    174319\n",
       "BB       102993\n",
       "Voice     96267\n",
       "PeoTV     63501\n",
       "Name: Package_Type, dtype: int64"
      ]
     },
     "execution_count": 283,
     "metadata": {},
     "output_type": "execute_result"
    }
   ],
   "source": [
    "vas_final_df[\"Package_Type\"].value_counts()"
   ]
  },
  {
   "cell_type": "code",
   "execution_count": 284,
   "metadata": {},
   "outputs": [
    {
     "data": {
      "text/plain": [
       "Megaline    221031\n",
       "LTE          80788\n",
       "FTTH         11079\n",
       "Name: Product_Type, dtype: int64"
      ]
     },
     "execution_count": 284,
     "metadata": {},
     "output_type": "execute_result"
    }
   ],
   "source": [
    "vas_final_df[\"Product_Type\"].value_counts()"
   ]
  },
  {
   "cell_type": "code",
   "execution_count": 285,
   "metadata": {},
   "outputs": [
    {
     "data": {
      "text/plain": [
       "COPPER    220815\n",
       "LTE        80657\n",
       "FTTH        2255\n",
       "Name: MEDIUM, dtype: int64"
      ]
     },
     "execution_count": 285,
     "metadata": {},
     "output_type": "execute_result"
    }
   ],
   "source": [
    "vas_final_df[\"MEDIUM\"].value_counts()"
   ]
  },
  {
   "cell_type": "code",
   "execution_count": 286,
   "metadata": {
    "scrolled": true
   },
   "outputs": [],
   "source": [
    "user_count_df = vas_final_df[[\"Package\",\"Package_Type\"]].value_counts()"
   ]
  },
  {
   "cell_type": "code",
   "execution_count": 287,
   "metadata": {},
   "outputs": [],
   "source": [
    "user_count_df.to_csv(\"data/product_catalog/user_counts_on_Package.csv\")"
   ]
  },
  {
   "cell_type": "code",
   "execution_count": 288,
   "metadata": {},
   "outputs": [],
   "source": [
    "vas_final_df.to_csv(\"data/user_profile/Package_Final_list.csv\")"
   ]
  },
  {
   "cell_type": "code",
   "execution_count": null,
   "metadata": {},
   "outputs": [],
   "source": []
  },
  {
   "cell_type": "markdown",
   "metadata": {},
   "source": [
    "### Exporting Extra GB usage"
   ]
  },
  {
   "cell_type": "code",
   "execution_count": 289,
   "metadata": {},
   "outputs": [],
   "source": [
    "extra_GB_details_df = pd.read_excel(\"data/2.2 Extra GB detailed Data.xlsx\")"
   ]
  },
  {
   "cell_type": "code",
   "execution_count": 290,
   "metadata": {},
   "outputs": [],
   "source": [
    "extra_GB_details_df.rename(columns={\"EVENT_DTM\":\"Month_Subscribed\",\"TARIFF_NAME\":\"BB_Package\",\"REVENUE\":\"Rental\"},inplace=True)"
   ]
  },
  {
   "cell_type": "code",
   "execution_count": 291,
   "metadata": {},
   "outputs": [],
   "source": [
    "extra_GB_details_df[\"Hour_Subscribed\"] = extra_GB_details_df[\"Month_Subscribed\"].apply(lambda x: hour_correct_ex_gb(x))"
   ]
  },
  {
   "cell_type": "code",
   "execution_count": 292,
   "metadata": {},
   "outputs": [],
   "source": [
    "extra_GB_details_df[\"Month_Subscribed\"] = extra_GB_details_df[\"Month_Subscribed\"] .apply(lambda x: date_correct_common(str(x)))"
   ]
  },
  {
   "cell_type": "code",
   "execution_count": 293,
   "metadata": {},
   "outputs": [],
   "source": [
    "extra_GB_details_df[\"GB_AMOUNT\"] = extra_GB_details_df[\"GB_AMOUNT\"] .apply(lambda x: remove_gb(str(x)))"
   ]
  },
  {
   "cell_type": "code",
   "execution_count": 294,
   "metadata": {},
   "outputs": [
    {
     "data": {
      "text/html": [
       "<div>\n",
       "<style scoped>\n",
       "    .dataframe tbody tr th:only-of-type {\n",
       "        vertical-align: middle;\n",
       "    }\n",
       "\n",
       "    .dataframe tbody tr th {\n",
       "        vertical-align: top;\n",
       "    }\n",
       "\n",
       "    .dataframe thead th {\n",
       "        text-align: right;\n",
       "    }\n",
       "</style>\n",
       "<table border=\"1\" class=\"dataframe\">\n",
       "  <thead>\n",
       "    <tr style=\"text-align: right;\">\n",
       "      <th></th>\n",
       "      <th>ACCOUNT_NUM.hash</th>\n",
       "      <th>Month_Subscribed</th>\n",
       "      <th>Rental</th>\n",
       "      <th>BB_Package</th>\n",
       "      <th>GB_AMOUNT</th>\n",
       "      <th>Hour_Subscribed</th>\n",
       "    </tr>\n",
       "  </thead>\n",
       "  <tbody>\n",
       "    <tr>\n",
       "      <th>0</th>\n",
       "      <td>060762f66bad1ea42b90cbd8317a0517</td>\n",
       "      <td>2021-05</td>\n",
       "      <td>100</td>\n",
       "      <td>FTTH_WEB FAMILY PLUS</td>\n",
       "      <td>1</td>\n",
       "      <td>11</td>\n",
       "    </tr>\n",
       "    <tr>\n",
       "      <th>1</th>\n",
       "      <td>ec436d8c0d0c61d4fd22bc0bee8d457c</td>\n",
       "      <td>2021-07</td>\n",
       "      <td>100</td>\n",
       "      <td>LTE_WEB STARTER</td>\n",
       "      <td>1</td>\n",
       "      <td>07</td>\n",
       "    </tr>\n",
       "    <tr>\n",
       "      <th>2</th>\n",
       "      <td>060762f66bad1ea42b90cbd8317a0517</td>\n",
       "      <td>2021-05</td>\n",
       "      <td>425</td>\n",
       "      <td>FTTH_WEB FAMILY PLUS</td>\n",
       "      <td>5</td>\n",
       "      <td>14</td>\n",
       "    </tr>\n",
       "    <tr>\n",
       "      <th>3</th>\n",
       "      <td>4794e9517260d9d48523c36ac515b501</td>\n",
       "      <td>2021-05</td>\n",
       "      <td>100</td>\n",
       "      <td>WEB LITE</td>\n",
       "      <td>1</td>\n",
       "      <td>10</td>\n",
       "    </tr>\n",
       "    <tr>\n",
       "      <th>4</th>\n",
       "      <td>ec436d8c0d0c61d4fd22bc0bee8d457c</td>\n",
       "      <td>2021-06</td>\n",
       "      <td>425</td>\n",
       "      <td>LTE_WEB STARTER</td>\n",
       "      <td>5</td>\n",
       "      <td>16</td>\n",
       "    </tr>\n",
       "    <tr>\n",
       "      <th>...</th>\n",
       "      <td>...</td>\n",
       "      <td>...</td>\n",
       "      <td>...</td>\n",
       "      <td>...</td>\n",
       "      <td>...</td>\n",
       "      <td>...</td>\n",
       "    </tr>\n",
       "    <tr>\n",
       "      <th>196202</th>\n",
       "      <td>64cf8be78270f903e4fb54dcf4a41d9f</td>\n",
       "      <td>2021-06</td>\n",
       "      <td>300</td>\n",
       "      <td>WEB LITE</td>\n",
       "      <td>3</td>\n",
       "      <td>07</td>\n",
       "    </tr>\n",
       "    <tr>\n",
       "      <th>196203</th>\n",
       "      <td>64cf8be78270f903e4fb54dcf4a41d9f</td>\n",
       "      <td>2021-06</td>\n",
       "      <td>425</td>\n",
       "      <td>WEB LITE</td>\n",
       "      <td>5</td>\n",
       "      <td>08</td>\n",
       "    </tr>\n",
       "    <tr>\n",
       "      <th>196204</th>\n",
       "      <td>64cf8be78270f903e4fb54dcf4a41d9f</td>\n",
       "      <td>2021-06</td>\n",
       "      <td>100</td>\n",
       "      <td>WEB LITE</td>\n",
       "      <td>1</td>\n",
       "      <td>14</td>\n",
       "    </tr>\n",
       "    <tr>\n",
       "      <th>196205</th>\n",
       "      <td>64cf8be78270f903e4fb54dcf4a41d9f</td>\n",
       "      <td>2021-06</td>\n",
       "      <td>100</td>\n",
       "      <td>WEB LITE</td>\n",
       "      <td>1</td>\n",
       "      <td>15</td>\n",
       "    </tr>\n",
       "    <tr>\n",
       "      <th>196206</th>\n",
       "      <td>81fc90adf55002e6e002cbbeb4ef55a0</td>\n",
       "      <td>2021-03</td>\n",
       "      <td>425</td>\n",
       "      <td>FTTH_WEB FAMILY PLUS</td>\n",
       "      <td>5</td>\n",
       "      <td>17</td>\n",
       "    </tr>\n",
       "  </tbody>\n",
       "</table>\n",
       "<p>196207 rows × 6 columns</p>\n",
       "</div>"
      ],
      "text/plain": [
       "                        ACCOUNT_NUM.hash Month_Subscribed  Rental  \\\n",
       "0       060762f66bad1ea42b90cbd8317a0517          2021-05     100   \n",
       "1       ec436d8c0d0c61d4fd22bc0bee8d457c          2021-07     100   \n",
       "2       060762f66bad1ea42b90cbd8317a0517          2021-05     425   \n",
       "3       4794e9517260d9d48523c36ac515b501          2021-05     100   \n",
       "4       ec436d8c0d0c61d4fd22bc0bee8d457c          2021-06     425   \n",
       "...                                  ...              ...     ...   \n",
       "196202  64cf8be78270f903e4fb54dcf4a41d9f          2021-06     300   \n",
       "196203  64cf8be78270f903e4fb54dcf4a41d9f          2021-06     425   \n",
       "196204  64cf8be78270f903e4fb54dcf4a41d9f          2021-06     100   \n",
       "196205  64cf8be78270f903e4fb54dcf4a41d9f          2021-06     100   \n",
       "196206  81fc90adf55002e6e002cbbeb4ef55a0          2021-03     425   \n",
       "\n",
       "                  BB_Package GB_AMOUNT Hour_Subscribed  \n",
       "0       FTTH_WEB FAMILY PLUS         1              11  \n",
       "1            LTE_WEB STARTER         1              07  \n",
       "2       FTTH_WEB FAMILY PLUS         5              14  \n",
       "3                   WEB LITE         1              10  \n",
       "4            LTE_WEB STARTER         5              16  \n",
       "...                      ...       ...             ...  \n",
       "196202              WEB LITE         3              07  \n",
       "196203              WEB LITE         5              08  \n",
       "196204              WEB LITE         1              14  \n",
       "196205              WEB LITE         1              15  \n",
       "196206  FTTH_WEB FAMILY PLUS         5              17  \n",
       "\n",
       "[196207 rows x 6 columns]"
      ]
     },
     "execution_count": 294,
     "metadata": {},
     "output_type": "execute_result"
    }
   ],
   "source": [
    "extra_GB_details_df"
   ]
  },
  {
   "cell_type": "code",
   "execution_count": 295,
   "metadata": {
    "gather": {
     "logged": 1628314175471
    }
   },
   "outputs": [
    {
     "data": {
      "text/plain": [
       "29374"
      ]
     },
     "execution_count": 295,
     "metadata": {},
     "output_type": "execute_result"
    }
   ],
   "source": [
    "len(extra_GB_details_df[\"ACCOUNT_NUM.hash\"].unique())"
   ]
  },
  {
   "cell_type": "code",
   "execution_count": 296,
   "metadata": {},
   "outputs": [],
   "source": [
    "extra_GB_details_df.to_csv(\"data/user_profile/BB_extra_GB_usage.csv\")"
   ]
  },
  {
   "cell_type": "markdown",
   "metadata": {},
   "source": [
    "### Extra GB Usage Trend Analysis"
   ]
  },
  {
   "cell_type": "code",
   "execution_count": 138,
   "metadata": {
    "gather": {
     "logged": 1628314186094
    }
   },
   "outputs": [
    {
     "name": "stderr",
     "output_type": "stream",
     "text": [
      "/var/folders/00/gmvdw06n48lgtsz126ng5y2m0000gn/T/ipykernel_729/4086962236.py:2: SettingWithCopyWarning: \n",
      "A value is trying to be set on a copy of a slice from a DataFrame.\n",
      "Try using .loc[row_indexer,col_indexer] = value instead\n",
      "\n",
      "See the caveats in the documentation: https://pandas.pydata.org/pandas-docs/stable/user_guide/indexing.html#returning-a-view-versus-a-copy\n",
      "  bb_usage_for_plot[\"Month_Subscribed\"] = bb_usage_for_plot[\"Month_Subscribed\"].astype(\"category\")\n"
     ]
    }
   ],
   "source": [
    "bb_usage_for_plot = extra_GB_details_df[[\"ACCOUNT_NUM.hash\",\"Month_Subscribed\",\"Rental\"]]\n",
    "bb_usage_for_plot[\"Month_Subscribed\"] = bb_usage_for_plot[\"Month_Subscribed\"].astype(\"category\")"
   ]
  },
  {
   "cell_type": "code",
   "execution_count": 139,
   "metadata": {
    "gather": {
     "logged": 1628314193405
    }
   },
   "outputs": [],
   "source": [
    "bb_summed_df = bb_usage_for_plot.groupby(\"Month_Subscribed\").sum()"
   ]
  },
  {
   "cell_type": "code",
   "execution_count": 140,
   "metadata": {},
   "outputs": [
    {
     "data": {
      "text/html": [
       "<div>\n",
       "<style scoped>\n",
       "    .dataframe tbody tr th:only-of-type {\n",
       "        vertical-align: middle;\n",
       "    }\n",
       "\n",
       "    .dataframe tbody tr th {\n",
       "        vertical-align: top;\n",
       "    }\n",
       "\n",
       "    .dataframe thead th {\n",
       "        text-align: right;\n",
       "    }\n",
       "</style>\n",
       "<table border=\"1\" class=\"dataframe\">\n",
       "  <thead>\n",
       "    <tr style=\"text-align: right;\">\n",
       "      <th></th>\n",
       "      <th>Rental</th>\n",
       "    </tr>\n",
       "    <tr>\n",
       "      <th>Month_Subscribed</th>\n",
       "      <th></th>\n",
       "    </tr>\n",
       "  </thead>\n",
       "  <tbody>\n",
       "    <tr>\n",
       "      <th>2020-11</th>\n",
       "      <td>10930</td>\n",
       "    </tr>\n",
       "    <tr>\n",
       "      <th>2020-12</th>\n",
       "      <td>10600</td>\n",
       "    </tr>\n",
       "    <tr>\n",
       "      <th>2021-01</th>\n",
       "      <td>10810</td>\n",
       "    </tr>\n",
       "    <tr>\n",
       "      <th>2021-02</th>\n",
       "      <td>26395</td>\n",
       "    </tr>\n",
       "    <tr>\n",
       "      <th>2021-03</th>\n",
       "      <td>9229135</td>\n",
       "    </tr>\n",
       "    <tr>\n",
       "      <th>2021-04</th>\n",
       "      <td>9492640</td>\n",
       "    </tr>\n",
       "    <tr>\n",
       "      <th>2021-05</th>\n",
       "      <td>19464485</td>\n",
       "    </tr>\n",
       "    <tr>\n",
       "      <th>2021-06</th>\n",
       "      <td>18299160</td>\n",
       "    </tr>\n",
       "    <tr>\n",
       "      <th>2021-07</th>\n",
       "      <td>14208195</td>\n",
       "    </tr>\n",
       "  </tbody>\n",
       "</table>\n",
       "</div>"
      ],
      "text/plain": [
       "                    Rental\n",
       "Month_Subscribed          \n",
       "2020-11              10930\n",
       "2020-12              10600\n",
       "2021-01              10810\n",
       "2021-02              26395\n",
       "2021-03            9229135\n",
       "2021-04            9492640\n",
       "2021-05           19464485\n",
       "2021-06           18299160\n",
       "2021-07           14208195"
      ]
     },
     "execution_count": 140,
     "metadata": {},
     "output_type": "execute_result"
    }
   ],
   "source": [
    "bb_summed_df"
   ]
  },
  {
   "cell_type": "code",
   "execution_count": 141,
   "metadata": {
    "gather": {
     "logged": 1628314232340
    }
   },
   "outputs": [],
   "source": [
    "df_2020 = bb_summed_df.iloc[:2,:]"
   ]
  },
  {
   "cell_type": "code",
   "execution_count": 142,
   "metadata": {
    "gather": {
     "logged": 1628314238371
    }
   },
   "outputs": [],
   "source": [
    "df_2021 = bb_summed_df.iloc[2:,:]"
   ]
  },
  {
   "cell_type": "code",
   "execution_count": 143,
   "metadata": {
    "gather": {
     "logged": 1628314248548
    }
   },
   "outputs": [
    {
     "data": {
      "text/plain": [
       "Text(0.5, 0.98, 'Extra Gb Usage(Rs.) with Time')"
      ]
     },
     "execution_count": 143,
     "metadata": {},
     "output_type": "execute_result"
    },
    {
     "data": {
      "image/png": "[encoded data removed]",
      "text/plain": [
       "<Figure size 2160x576 with 1 Axes>"
      ]
     },
     "metadata": {},
     "output_type": "display_data"
    }
   ],
   "source": [
    "plt.figure(figsize=(30,8))\n",
    "bb_summed_df[\"Rental\"].plot()\n",
    "plt.suptitle(\"Extra Gb Usage(Rs.) with Time\")"
   ]
  },
  {
   "cell_type": "code",
   "execution_count": 144,
   "metadata": {
    "gather": {
     "logged": 1628314266518
    }
   },
   "outputs": [
    {
     "data": {
      "text/plain": [
       "Text(0.5, 1.0, 'Extra Gb Usage(Rs.) with Time')"
      ]
     },
     "execution_count": 144,
     "metadata": {},
     "output_type": "execute_result"
    },
    {
     "data": {
      "image/png": "[encoded data removed]",
      "text/plain": [
       "<Figure size 1440x576 with 1 Axes>"
      ]
     },
     "metadata": {},
     "output_type": "display_data"
    },
    {
     "data": {
      "text/plain": [
       "<Figure size 432x288 with 0 Axes>"
      ]
     },
     "metadata": {},
     "output_type": "display_data"
    }
   ],
   "source": [
    "fig, ax = plt.subplots()\n",
    "plt.figure()\n",
    "df_2020[\"Rental\"].plot(ax=ax,figsize=(20,8))\n",
    "df_2021[\"Rental\"].plot(ax=ax,figsize=(20,8))\n",
    "ax.legend([\"2020\",\"2021\"], loc='upper center')\n",
    "month_ticks=[\"Jan\",\"Feb\",\"Mar\",\"Apr\",\"May\",\"Jun\",\"Jul\",\"Aug\",\"Sep\",\"Oct\",\"Nov\",\"Dec\"]\n",
    "ax.set_xticks(np.arange(len(month_ticks)))\n",
    "ax.set_xticklabels(month_ticks)\n",
    "ax.set_title(\"Extra Gb Usage(Rs.) with Time\")"
   ]
  },
  {
   "cell_type": "code",
   "execution_count": null,
   "metadata": {},
   "outputs": [],
   "source": []
  },
  {
   "cell_type": "markdown",
   "metadata": {},
   "source": [
    "#### Extra GB Usage pivot matrix"
   ]
  },
  {
   "cell_type": "code",
   "execution_count": 145,
   "metadata": {
    "gather": {
     "logged": 1628314281935
    }
   },
   "outputs": [],
   "source": [
    "extra_GB_pivot_df = pd.pivot_table(extra_GB_details_df[[\"ACCOUNT_NUM.hash\",\"Month_Subscribed\",\"Rental\"]],index=['ACCOUNT_NUM.hash'],columns=['Month_Subscribed'], aggfunc=np.sum, fill_value=0)"
   ]
  },
  {
   "cell_type": "code",
   "execution_count": 146,
   "metadata": {
    "gather": {
     "logged": 1628314289602
    }
   },
   "outputs": [
    {
     "data": {
      "text/html": [
       "<div>\n",
       "<style scoped>\n",
       "    .dataframe tbody tr th:only-of-type {\n",
       "        vertical-align: middle;\n",
       "    }\n",
       "\n",
       "    .dataframe tbody tr th {\n",
       "        vertical-align: top;\n",
       "    }\n",
       "\n",
       "    .dataframe thead tr th {\n",
       "        text-align: left;\n",
       "    }\n",
       "\n",
       "    .dataframe thead tr:last-of-type th {\n",
       "        text-align: right;\n",
       "    }\n",
       "</style>\n",
       "<table border=\"1\" class=\"dataframe\">\n",
       "  <thead>\n",
       "    <tr>\n",
       "      <th></th>\n",
       "      <th colspan=\"9\" halign=\"left\">Rental</th>\n",
       "    </tr>\n",
       "    <tr>\n",
       "      <th>Month_Subscribed</th>\n",
       "      <th>2020-11</th>\n",
       "      <th>2020-12</th>\n",
       "      <th>2021-01</th>\n",
       "      <th>2021-02</th>\n",
       "      <th>2021-03</th>\n",
       "      <th>2021-04</th>\n",
       "      <th>2021-05</th>\n",
       "      <th>2021-06</th>\n",
       "      <th>2021-07</th>\n",
       "    </tr>\n",
       "    <tr>\n",
       "      <th>ACCOUNT_NUM.hash</th>\n",
       "      <th></th>\n",
       "      <th></th>\n",
       "      <th></th>\n",
       "      <th></th>\n",
       "      <th></th>\n",
       "      <th></th>\n",
       "      <th></th>\n",
       "      <th></th>\n",
       "      <th></th>\n",
       "    </tr>\n",
       "  </thead>\n",
       "  <tbody>\n",
       "    <tr>\n",
       "      <th>0003c76b4c2c7db8e62faa5f53081178</th>\n",
       "      <td>0</td>\n",
       "      <td>0</td>\n",
       "      <td>0</td>\n",
       "      <td>0</td>\n",
       "      <td>0</td>\n",
       "      <td>0</td>\n",
       "      <td>200</td>\n",
       "      <td>100</td>\n",
       "      <td>0</td>\n",
       "    </tr>\n",
       "    <tr>\n",
       "      <th>000726eec7faa37f12be33be6507c4e5</th>\n",
       "      <td>0</td>\n",
       "      <td>0</td>\n",
       "      <td>0</td>\n",
       "      <td>0</td>\n",
       "      <td>850</td>\n",
       "      <td>0</td>\n",
       "      <td>0</td>\n",
       "      <td>850</td>\n",
       "      <td>0</td>\n",
       "    </tr>\n",
       "    <tr>\n",
       "      <th>0008dcbce843a8d3937815df0a951264</th>\n",
       "      <td>0</td>\n",
       "      <td>0</td>\n",
       "      <td>0</td>\n",
       "      <td>0</td>\n",
       "      <td>0</td>\n",
       "      <td>0</td>\n",
       "      <td>100</td>\n",
       "      <td>100</td>\n",
       "      <td>0</td>\n",
       "    </tr>\n",
       "    <tr>\n",
       "      <th>000eee57a6c7a02c8aca8b410ea2e287</th>\n",
       "      <td>0</td>\n",
       "      <td>0</td>\n",
       "      <td>0</td>\n",
       "      <td>0</td>\n",
       "      <td>0</td>\n",
       "      <td>0</td>\n",
       "      <td>200</td>\n",
       "      <td>100</td>\n",
       "      <td>100</td>\n",
       "    </tr>\n",
       "    <tr>\n",
       "      <th>000f325a72b9d24742237070939b57d1</th>\n",
       "      <td>0</td>\n",
       "      <td>0</td>\n",
       "      <td>0</td>\n",
       "      <td>0</td>\n",
       "      <td>800</td>\n",
       "      <td>0</td>\n",
       "      <td>0</td>\n",
       "      <td>0</td>\n",
       "      <td>300</td>\n",
       "    </tr>\n",
       "    <tr>\n",
       "      <th>...</th>\n",
       "      <td>...</td>\n",
       "      <td>...</td>\n",
       "      <td>...</td>\n",
       "      <td>...</td>\n",
       "      <td>...</td>\n",
       "      <td>...</td>\n",
       "      <td>...</td>\n",
       "      <td>...</td>\n",
       "      <td>...</td>\n",
       "    </tr>\n",
       "    <tr>\n",
       "      <th>fff45bfbbb99fe43c7ef3f2c0a7bb805</th>\n",
       "      <td>0</td>\n",
       "      <td>0</td>\n",
       "      <td>0</td>\n",
       "      <td>0</td>\n",
       "      <td>0</td>\n",
       "      <td>0</td>\n",
       "      <td>850</td>\n",
       "      <td>0</td>\n",
       "      <td>0</td>\n",
       "    </tr>\n",
       "    <tr>\n",
       "      <th>fff5e5fb07c5f809d1ffe87ca7f13980</th>\n",
       "      <td>0</td>\n",
       "      <td>0</td>\n",
       "      <td>0</td>\n",
       "      <td>0</td>\n",
       "      <td>0</td>\n",
       "      <td>0</td>\n",
       "      <td>425</td>\n",
       "      <td>425</td>\n",
       "      <td>0</td>\n",
       "    </tr>\n",
       "    <tr>\n",
       "      <th>fff99dd8ecb7a699a1591e1545a49eb7</th>\n",
       "      <td>0</td>\n",
       "      <td>0</td>\n",
       "      <td>0</td>\n",
       "      <td>0</td>\n",
       "      <td>0</td>\n",
       "      <td>0</td>\n",
       "      <td>300</td>\n",
       "      <td>200</td>\n",
       "      <td>0</td>\n",
       "    </tr>\n",
       "    <tr>\n",
       "      <th>fffaeeddaabbd2868c183d8884b2a98d</th>\n",
       "      <td>0</td>\n",
       "      <td>0</td>\n",
       "      <td>0</td>\n",
       "      <td>0</td>\n",
       "      <td>0</td>\n",
       "      <td>0</td>\n",
       "      <td>100</td>\n",
       "      <td>0</td>\n",
       "      <td>200</td>\n",
       "    </tr>\n",
       "    <tr>\n",
       "      <th>fffc0d3d866e438753451c3d428ab441</th>\n",
       "      <td>0</td>\n",
       "      <td>0</td>\n",
       "      <td>0</td>\n",
       "      <td>0</td>\n",
       "      <td>0</td>\n",
       "      <td>0</td>\n",
       "      <td>525</td>\n",
       "      <td>0</td>\n",
       "      <td>0</td>\n",
       "    </tr>\n",
       "  </tbody>\n",
       "</table>\n",
       "<p>29374 rows × 9 columns</p>\n",
       "</div>"
      ],
      "text/plain": [
       "                                  Rental                                  \\\n",
       "Month_Subscribed                 2020-11 2020-12 2021-01 2021-02 2021-03   \n",
       "ACCOUNT_NUM.hash                                                           \n",
       "0003c76b4c2c7db8e62faa5f53081178       0       0       0       0       0   \n",
       "000726eec7faa37f12be33be6507c4e5       0       0       0       0     850   \n",
       "0008dcbce843a8d3937815df0a951264       0       0       0       0       0   \n",
       "000eee57a6c7a02c8aca8b410ea2e287       0       0       0       0       0   \n",
       "000f325a72b9d24742237070939b57d1       0       0       0       0     800   \n",
       "...                                  ...     ...     ...     ...     ...   \n",
       "fff45bfbbb99fe43c7ef3f2c0a7bb805       0       0       0       0       0   \n",
       "fff5e5fb07c5f809d1ffe87ca7f13980       0       0       0       0       0   \n",
       "fff99dd8ecb7a699a1591e1545a49eb7       0       0       0       0       0   \n",
       "fffaeeddaabbd2868c183d8884b2a98d       0       0       0       0       0   \n",
       "fffc0d3d866e438753451c3d428ab441       0       0       0       0       0   \n",
       "\n",
       "                                                                  \n",
       "Month_Subscribed                 2021-04 2021-05 2021-06 2021-07  \n",
       "ACCOUNT_NUM.hash                                                  \n",
       "0003c76b4c2c7db8e62faa5f53081178       0     200     100       0  \n",
       "000726eec7faa37f12be33be6507c4e5       0       0     850       0  \n",
       "0008dcbce843a8d3937815df0a951264       0     100     100       0  \n",
       "000eee57a6c7a02c8aca8b410ea2e287       0     200     100     100  \n",
       "000f325a72b9d24742237070939b57d1       0       0       0     300  \n",
       "...                                  ...     ...     ...     ...  \n",
       "fff45bfbbb99fe43c7ef3f2c0a7bb805       0     850       0       0  \n",
       "fff5e5fb07c5f809d1ffe87ca7f13980       0     425     425       0  \n",
       "fff99dd8ecb7a699a1591e1545a49eb7       0     300     200       0  \n",
       "fffaeeddaabbd2868c183d8884b2a98d       0     100       0     200  \n",
       "fffc0d3d866e438753451c3d428ab441       0     525       0       0  \n",
       "\n",
       "[29374 rows x 9 columns]"
      ]
     },
     "execution_count": 146,
     "metadata": {},
     "output_type": "execute_result"
    }
   ],
   "source": [
    "extra_GB_pivot_df"
   ]
  },
  {
   "cell_type": "markdown",
   "metadata": {},
   "source": [
    "#### Insights\n",
    "- 29374 unique customers - extra GB purchases in moths vary from 2013-2021"
   ]
  },
  {
   "cell_type": "code",
   "execution_count": 152,
   "metadata": {},
   "outputs": [],
   "source": [
    "extra_GB_size_Pivot = pd.pivot_table(extra_GB_details_df[[\"ACCOUNT_NUM.hash\",\"Month_Subscribed\",\"GB_AMOUNT\"]],index=['ACCOUNT_NUM.hash'],columns=['Month_Subscribed'], aggfunc=np.sum, fill_value=0)"
   ]
  },
  {
   "cell_type": "code",
   "execution_count": 153,
   "metadata": {},
   "outputs": [
    {
     "data": {
      "text/html": [
       "<div>\n",
       "<style scoped>\n",
       "    .dataframe tbody tr th:only-of-type {\n",
       "        vertical-align: middle;\n",
       "    }\n",
       "\n",
       "    .dataframe tbody tr th {\n",
       "        vertical-align: top;\n",
       "    }\n",
       "\n",
       "    .dataframe thead tr th {\n",
       "        text-align: left;\n",
       "    }\n",
       "\n",
       "    .dataframe thead tr:last-of-type th {\n",
       "        text-align: right;\n",
       "    }\n",
       "</style>\n",
       "<table border=\"1\" class=\"dataframe\">\n",
       "  <thead>\n",
       "    <tr>\n",
       "      <th></th>\n",
       "      <th colspan=\"9\" halign=\"left\">GB_AMOUNT</th>\n",
       "    </tr>\n",
       "    <tr>\n",
       "      <th>Month_Subscribed</th>\n",
       "      <th>2020-11</th>\n",
       "      <th>2020-12</th>\n",
       "      <th>2021-01</th>\n",
       "      <th>2021-02</th>\n",
       "      <th>2021-03</th>\n",
       "      <th>2021-04</th>\n",
       "      <th>2021-05</th>\n",
       "      <th>2021-06</th>\n",
       "      <th>2021-07</th>\n",
       "    </tr>\n",
       "    <tr>\n",
       "      <th>ACCOUNT_NUM.hash</th>\n",
       "      <th></th>\n",
       "      <th></th>\n",
       "      <th></th>\n",
       "      <th></th>\n",
       "      <th></th>\n",
       "      <th></th>\n",
       "      <th></th>\n",
       "      <th></th>\n",
       "      <th></th>\n",
       "    </tr>\n",
       "  </thead>\n",
       "  <tbody>\n",
       "    <tr>\n",
       "      <th>0003c76b4c2c7db8e62faa5f53081178</th>\n",
       "      <td>0</td>\n",
       "      <td>0</td>\n",
       "      <td>0</td>\n",
       "      <td>0</td>\n",
       "      <td>0</td>\n",
       "      <td>0</td>\n",
       "      <td>2</td>\n",
       "      <td>1</td>\n",
       "      <td>0</td>\n",
       "    </tr>\n",
       "    <tr>\n",
       "      <th>000726eec7faa37f12be33be6507c4e5</th>\n",
       "      <td>0</td>\n",
       "      <td>0</td>\n",
       "      <td>0</td>\n",
       "      <td>0</td>\n",
       "      <td>10</td>\n",
       "      <td>0</td>\n",
       "      <td>0</td>\n",
       "      <td>10</td>\n",
       "      <td>0</td>\n",
       "    </tr>\n",
       "    <tr>\n",
       "      <th>0008dcbce843a8d3937815df0a951264</th>\n",
       "      <td>0</td>\n",
       "      <td>0</td>\n",
       "      <td>0</td>\n",
       "      <td>0</td>\n",
       "      <td>0</td>\n",
       "      <td>0</td>\n",
       "      <td>1</td>\n",
       "      <td>1</td>\n",
       "      <td>0</td>\n",
       "    </tr>\n",
       "    <tr>\n",
       "      <th>000eee57a6c7a02c8aca8b410ea2e287</th>\n",
       "      <td>0</td>\n",
       "      <td>0</td>\n",
       "      <td>0</td>\n",
       "      <td>0</td>\n",
       "      <td>0</td>\n",
       "      <td>0</td>\n",
       "      <td>11</td>\n",
       "      <td>1</td>\n",
       "      <td>1</td>\n",
       "    </tr>\n",
       "    <tr>\n",
       "      <th>000f325a72b9d24742237070939b57d1</th>\n",
       "      <td>0</td>\n",
       "      <td>0</td>\n",
       "      <td>0</td>\n",
       "      <td>0</td>\n",
       "      <td>2222</td>\n",
       "      <td>0</td>\n",
       "      <td>0</td>\n",
       "      <td>0</td>\n",
       "      <td>12</td>\n",
       "    </tr>\n",
       "    <tr>\n",
       "      <th>...</th>\n",
       "      <td>...</td>\n",
       "      <td>...</td>\n",
       "      <td>...</td>\n",
       "      <td>...</td>\n",
       "      <td>...</td>\n",
       "      <td>...</td>\n",
       "      <td>...</td>\n",
       "      <td>...</td>\n",
       "      <td>...</td>\n",
       "    </tr>\n",
       "    <tr>\n",
       "      <th>fff45bfbbb99fe43c7ef3f2c0a7bb805</th>\n",
       "      <td>0</td>\n",
       "      <td>0</td>\n",
       "      <td>0</td>\n",
       "      <td>0</td>\n",
       "      <td>0</td>\n",
       "      <td>0</td>\n",
       "      <td>10</td>\n",
       "      <td>0</td>\n",
       "      <td>0</td>\n",
       "    </tr>\n",
       "    <tr>\n",
       "      <th>fff5e5fb07c5f809d1ffe87ca7f13980</th>\n",
       "      <td>0</td>\n",
       "      <td>0</td>\n",
       "      <td>0</td>\n",
       "      <td>0</td>\n",
       "      <td>0</td>\n",
       "      <td>0</td>\n",
       "      <td>5</td>\n",
       "      <td>5</td>\n",
       "      <td>0</td>\n",
       "    </tr>\n",
       "    <tr>\n",
       "      <th>fff99dd8ecb7a699a1591e1545a49eb7</th>\n",
       "      <td>0</td>\n",
       "      <td>0</td>\n",
       "      <td>0</td>\n",
       "      <td>0</td>\n",
       "      <td>0</td>\n",
       "      <td>0</td>\n",
       "      <td>3</td>\n",
       "      <td>2</td>\n",
       "      <td>0</td>\n",
       "    </tr>\n",
       "    <tr>\n",
       "      <th>fffaeeddaabbd2868c183d8884b2a98d</th>\n",
       "      <td>0</td>\n",
       "      <td>0</td>\n",
       "      <td>0</td>\n",
       "      <td>0</td>\n",
       "      <td>0</td>\n",
       "      <td>0</td>\n",
       "      <td>1</td>\n",
       "      <td>0</td>\n",
       "      <td>2</td>\n",
       "    </tr>\n",
       "    <tr>\n",
       "      <th>fffc0d3d866e438753451c3d428ab441</th>\n",
       "      <td>0</td>\n",
       "      <td>0</td>\n",
       "      <td>0</td>\n",
       "      <td>0</td>\n",
       "      <td>0</td>\n",
       "      <td>0</td>\n",
       "      <td>51</td>\n",
       "      <td>0</td>\n",
       "      <td>0</td>\n",
       "    </tr>\n",
       "  </tbody>\n",
       "</table>\n",
       "<p>29374 rows × 9 columns</p>\n",
       "</div>"
      ],
      "text/plain": [
       "                                 GB_AMOUNT                                  \\\n",
       "Month_Subscribed                   2020-11 2020-12 2021-01 2021-02 2021-03   \n",
       "ACCOUNT_NUM.hash                                                             \n",
       "0003c76b4c2c7db8e62faa5f53081178         0       0       0       0       0   \n",
       "000726eec7faa37f12be33be6507c4e5         0       0       0       0      10   \n",
       "0008dcbce843a8d3937815df0a951264         0       0       0       0       0   \n",
       "000eee57a6c7a02c8aca8b410ea2e287         0       0       0       0       0   \n",
       "000f325a72b9d24742237070939b57d1         0       0       0       0    2222   \n",
       "...                                    ...     ...     ...     ...     ...   \n",
       "fff45bfbbb99fe43c7ef3f2c0a7bb805         0       0       0       0       0   \n",
       "fff5e5fb07c5f809d1ffe87ca7f13980         0       0       0       0       0   \n",
       "fff99dd8ecb7a699a1591e1545a49eb7         0       0       0       0       0   \n",
       "fffaeeddaabbd2868c183d8884b2a98d         0       0       0       0       0   \n",
       "fffc0d3d866e438753451c3d428ab441         0       0       0       0       0   \n",
       "\n",
       "                                                                  \n",
       "Month_Subscribed                 2021-04 2021-05 2021-06 2021-07  \n",
       "ACCOUNT_NUM.hash                                                  \n",
       "0003c76b4c2c7db8e62faa5f53081178       0       2       1       0  \n",
       "000726eec7faa37f12be33be6507c4e5       0       0      10       0  \n",
       "0008dcbce843a8d3937815df0a951264       0       1       1       0  \n",
       "000eee57a6c7a02c8aca8b410ea2e287       0      11       1       1  \n",
       "000f325a72b9d24742237070939b57d1       0       0       0      12  \n",
       "...                                  ...     ...     ...     ...  \n",
       "fff45bfbbb99fe43c7ef3f2c0a7bb805       0      10       0       0  \n",
       "fff5e5fb07c5f809d1ffe87ca7f13980       0       5       5       0  \n",
       "fff99dd8ecb7a699a1591e1545a49eb7       0       3       2       0  \n",
       "fffaeeddaabbd2868c183d8884b2a98d       0       1       0       2  \n",
       "fffc0d3d866e438753451c3d428ab441       0      51       0       0  \n",
       "\n",
       "[29374 rows x 9 columns]"
      ]
     },
     "execution_count": 153,
     "metadata": {},
     "output_type": "execute_result"
    }
   ],
   "source": [
    "extra_GB_size_Pivot"
   ]
  },
  {
   "cell_type": "code",
   "execution_count": 155,
   "metadata": {},
   "outputs": [],
   "source": [
    "extra_GB_hour_Pivot = pd.pivot_table(extra_GB_details_df[[\"ACCOUNT_NUM.hash\",\"Hour_Subscribed\",\"GB_AMOUNT\"]],index=['ACCOUNT_NUM.hash'],columns=['Hour_Subscribed'], aggfunc=np.sum, fill_value=0)"
   ]
  },
  {
   "cell_type": "code",
   "execution_count": 156,
   "metadata": {},
   "outputs": [
    {
     "data": {
      "text/html": [
       "<div>\n",
       "<style scoped>\n",
       "    .dataframe tbody tr th:only-of-type {\n",
       "        vertical-align: middle;\n",
       "    }\n",
       "\n",
       "    .dataframe tbody tr th {\n",
       "        vertical-align: top;\n",
       "    }\n",
       "\n",
       "    .dataframe thead tr th {\n",
       "        text-align: left;\n",
       "    }\n",
       "\n",
       "    .dataframe thead tr:last-of-type th {\n",
       "        text-align: right;\n",
       "    }\n",
       "</style>\n",
       "<table border=\"1\" class=\"dataframe\">\n",
       "  <thead>\n",
       "    <tr>\n",
       "      <th></th>\n",
       "      <th colspan=\"21\" halign=\"left\">GB_AMOUNT</th>\n",
       "    </tr>\n",
       "    <tr>\n",
       "      <th>Hour_Subscribed</th>\n",
       "      <th>00</th>\n",
       "      <th>01</th>\n",
       "      <th>02</th>\n",
       "      <th>03</th>\n",
       "      <th>04</th>\n",
       "      <th>05</th>\n",
       "      <th>06</th>\n",
       "      <th>07</th>\n",
       "      <th>08</th>\n",
       "      <th>09</th>\n",
       "      <th>...</th>\n",
       "      <th>14</th>\n",
       "      <th>15</th>\n",
       "      <th>16</th>\n",
       "      <th>17</th>\n",
       "      <th>18</th>\n",
       "      <th>19</th>\n",
       "      <th>20</th>\n",
       "      <th>21</th>\n",
       "      <th>22</th>\n",
       "      <th>23</th>\n",
       "    </tr>\n",
       "    <tr>\n",
       "      <th>ACCOUNT_NUM.hash</th>\n",
       "      <th></th>\n",
       "      <th></th>\n",
       "      <th></th>\n",
       "      <th></th>\n",
       "      <th></th>\n",
       "      <th></th>\n",
       "      <th></th>\n",
       "      <th></th>\n",
       "      <th></th>\n",
       "      <th></th>\n",
       "      <th></th>\n",
       "      <th></th>\n",
       "      <th></th>\n",
       "      <th></th>\n",
       "      <th></th>\n",
       "      <th></th>\n",
       "      <th></th>\n",
       "      <th></th>\n",
       "      <th></th>\n",
       "      <th></th>\n",
       "      <th></th>\n",
       "    </tr>\n",
       "  </thead>\n",
       "  <tbody>\n",
       "    <tr>\n",
       "      <th>9d997a2fbd9b396610ee54377b2f1d1a</th>\n",
       "      <td>0</td>\n",
       "      <td>0</td>\n",
       "      <td>0</td>\n",
       "      <td>0</td>\n",
       "      <td>0</td>\n",
       "      <td>0</td>\n",
       "      <td>0</td>\n",
       "      <td>0</td>\n",
       "      <td>0</td>\n",
       "      <td>0</td>\n",
       "      <td>...</td>\n",
       "      <td>0</td>\n",
       "      <td>2</td>\n",
       "      <td>0</td>\n",
       "      <td>0</td>\n",
       "      <td>0</td>\n",
       "      <td>0</td>\n",
       "      <td>0</td>\n",
       "      <td>0</td>\n",
       "      <td>0</td>\n",
       "      <td>0</td>\n",
       "    </tr>\n",
       "    <tr>\n",
       "      <th>3a103b0689db49e51ae7681a95f130de</th>\n",
       "      <td>0</td>\n",
       "      <td>0</td>\n",
       "      <td>0</td>\n",
       "      <td>0</td>\n",
       "      <td>0</td>\n",
       "      <td>1</td>\n",
       "      <td>0</td>\n",
       "      <td>0</td>\n",
       "      <td>0</td>\n",
       "      <td>0</td>\n",
       "      <td>...</td>\n",
       "      <td>0</td>\n",
       "      <td>0</td>\n",
       "      <td>2</td>\n",
       "      <td>0</td>\n",
       "      <td>1</td>\n",
       "      <td>0</td>\n",
       "      <td>0</td>\n",
       "      <td>0</td>\n",
       "      <td>0</td>\n",
       "      <td>0</td>\n",
       "    </tr>\n",
       "    <tr>\n",
       "      <th>3addedf014a4963fbed29b08315c66e2</th>\n",
       "      <td>0</td>\n",
       "      <td>0</td>\n",
       "      <td>0</td>\n",
       "      <td>0</td>\n",
       "      <td>0</td>\n",
       "      <td>0</td>\n",
       "      <td>0</td>\n",
       "      <td>0</td>\n",
       "      <td>0</td>\n",
       "      <td>0</td>\n",
       "      <td>...</td>\n",
       "      <td>5</td>\n",
       "      <td>0</td>\n",
       "      <td>0</td>\n",
       "      <td>0</td>\n",
       "      <td>0</td>\n",
       "      <td>0</td>\n",
       "      <td>0</td>\n",
       "      <td>0</td>\n",
       "      <td>0</td>\n",
       "      <td>5</td>\n",
       "    </tr>\n",
       "    <tr>\n",
       "      <th>a370d68d61cfe3429122703a0515c582</th>\n",
       "      <td>0</td>\n",
       "      <td>0</td>\n",
       "      <td>0</td>\n",
       "      <td>0</td>\n",
       "      <td>0</td>\n",
       "      <td>0</td>\n",
       "      <td>0</td>\n",
       "      <td>0</td>\n",
       "      <td>0</td>\n",
       "      <td>0</td>\n",
       "      <td>...</td>\n",
       "      <td>0</td>\n",
       "      <td>0</td>\n",
       "      <td>0</td>\n",
       "      <td>0</td>\n",
       "      <td>0</td>\n",
       "      <td>0</td>\n",
       "      <td>0</td>\n",
       "      <td>0</td>\n",
       "      <td>0</td>\n",
       "      <td>0</td>\n",
       "    </tr>\n",
       "    <tr>\n",
       "      <th>8d30bca54606f4e1aeba22659e3f71f1</th>\n",
       "      <td>0</td>\n",
       "      <td>0</td>\n",
       "      <td>0</td>\n",
       "      <td>0</td>\n",
       "      <td>0</td>\n",
       "      <td>0</td>\n",
       "      <td>0</td>\n",
       "      <td>0</td>\n",
       "      <td>0</td>\n",
       "      <td>1</td>\n",
       "      <td>...</td>\n",
       "      <td>0</td>\n",
       "      <td>0</td>\n",
       "      <td>0</td>\n",
       "      <td>0</td>\n",
       "      <td>0</td>\n",
       "      <td>0</td>\n",
       "      <td>0</td>\n",
       "      <td>0</td>\n",
       "      <td>0</td>\n",
       "      <td>0</td>\n",
       "    </tr>\n",
       "    <tr>\n",
       "      <th>7fb5e93095692a1e97ba3ce10711d9ff</th>\n",
       "      <td>0</td>\n",
       "      <td>0</td>\n",
       "      <td>0</td>\n",
       "      <td>0</td>\n",
       "      <td>0</td>\n",
       "      <td>0</td>\n",
       "      <td>0</td>\n",
       "      <td>0</td>\n",
       "      <td>1</td>\n",
       "      <td>2</td>\n",
       "      <td>...</td>\n",
       "      <td>0</td>\n",
       "      <td>1</td>\n",
       "      <td>0</td>\n",
       "      <td>0</td>\n",
       "      <td>0</td>\n",
       "      <td>0</td>\n",
       "      <td>0</td>\n",
       "      <td>0</td>\n",
       "      <td>0</td>\n",
       "      <td>0</td>\n",
       "    </tr>\n",
       "    <tr>\n",
       "      <th>2448330040822b198d53cb88caf46d6f</th>\n",
       "      <td>0</td>\n",
       "      <td>0</td>\n",
       "      <td>0</td>\n",
       "      <td>0</td>\n",
       "      <td>0</td>\n",
       "      <td>0</td>\n",
       "      <td>0</td>\n",
       "      <td>0</td>\n",
       "      <td>2</td>\n",
       "      <td>0</td>\n",
       "      <td>...</td>\n",
       "      <td>0</td>\n",
       "      <td>25</td>\n",
       "      <td>0</td>\n",
       "      <td>2</td>\n",
       "      <td>0</td>\n",
       "      <td>0</td>\n",
       "      <td>0</td>\n",
       "      <td>0</td>\n",
       "      <td>0</td>\n",
       "      <td>0</td>\n",
       "    </tr>\n",
       "    <tr>\n",
       "      <th>dcc75f252dc23a1908434092b8d18056</th>\n",
       "      <td>0</td>\n",
       "      <td>0</td>\n",
       "      <td>0</td>\n",
       "      <td>0</td>\n",
       "      <td>0</td>\n",
       "      <td>0</td>\n",
       "      <td>0</td>\n",
       "      <td>0</td>\n",
       "      <td>0</td>\n",
       "      <td>15</td>\n",
       "      <td>...</td>\n",
       "      <td>0</td>\n",
       "      <td>0</td>\n",
       "      <td>0</td>\n",
       "      <td>0</td>\n",
       "      <td>0</td>\n",
       "      <td>0</td>\n",
       "      <td>0</td>\n",
       "      <td>0</td>\n",
       "      <td>0</td>\n",
       "      <td>0</td>\n",
       "    </tr>\n",
       "    <tr>\n",
       "      <th>87503c7fb3a4cbe8077037f69fd061de</th>\n",
       "      <td>0</td>\n",
       "      <td>0</td>\n",
       "      <td>0</td>\n",
       "      <td>0</td>\n",
       "      <td>0</td>\n",
       "      <td>0</td>\n",
       "      <td>0</td>\n",
       "      <td>0</td>\n",
       "      <td>0</td>\n",
       "      <td>0</td>\n",
       "      <td>...</td>\n",
       "      <td>0</td>\n",
       "      <td>0</td>\n",
       "      <td>0</td>\n",
       "      <td>0</td>\n",
       "      <td>0</td>\n",
       "      <td>0</td>\n",
       "      <td>0</td>\n",
       "      <td>0</td>\n",
       "      <td>0</td>\n",
       "      <td>0</td>\n",
       "    </tr>\n",
       "    <tr>\n",
       "      <th>8b84f60782db3e4ac96f1f448b76e3bb</th>\n",
       "      <td>0</td>\n",
       "      <td>0</td>\n",
       "      <td>0</td>\n",
       "      <td>0</td>\n",
       "      <td>0</td>\n",
       "      <td>0</td>\n",
       "      <td>0</td>\n",
       "      <td>0</td>\n",
       "      <td>0</td>\n",
       "      <td>0</td>\n",
       "      <td>...</td>\n",
       "      <td>0</td>\n",
       "      <td>0</td>\n",
       "      <td>0</td>\n",
       "      <td>0</td>\n",
       "      <td>0</td>\n",
       "      <td>15</td>\n",
       "      <td>10</td>\n",
       "      <td>0</td>\n",
       "      <td>0</td>\n",
       "      <td>0</td>\n",
       "    </tr>\n",
       "  </tbody>\n",
       "</table>\n",
       "<p>10 rows × 24 columns</p>\n",
       "</div>"
      ],
      "text/plain": [
       "                                 GB_AMOUNT                              ...  \\\n",
       "Hour_Subscribed                         00 01 02 03 04 05 06 07 08  09  ...   \n",
       "ACCOUNT_NUM.hash                                                        ...   \n",
       "9d997a2fbd9b396610ee54377b2f1d1a         0  0  0  0  0  0  0  0  0   0  ...   \n",
       "3a103b0689db49e51ae7681a95f130de         0  0  0  0  0  1  0  0  0   0  ...   \n",
       "3addedf014a4963fbed29b08315c66e2         0  0  0  0  0  0  0  0  0   0  ...   \n",
       "a370d68d61cfe3429122703a0515c582         0  0  0  0  0  0  0  0  0   0  ...   \n",
       "8d30bca54606f4e1aeba22659e3f71f1         0  0  0  0  0  0  0  0  0   1  ...   \n",
       "7fb5e93095692a1e97ba3ce10711d9ff         0  0  0  0  0  0  0  0  1   2  ...   \n",
       "2448330040822b198d53cb88caf46d6f         0  0  0  0  0  0  0  0  2   0  ...   \n",
       "dcc75f252dc23a1908434092b8d18056         0  0  0  0  0  0  0  0  0  15  ...   \n",
       "87503c7fb3a4cbe8077037f69fd061de         0  0  0  0  0  0  0  0  0   0  ...   \n",
       "8b84f60782db3e4ac96f1f448b76e3bb         0  0  0  0  0  0  0  0  0   0  ...   \n",
       "\n",
       "                                                                   \n",
       "Hour_Subscribed                  14  15 16 17 18  19  20 21 22 23  \n",
       "ACCOUNT_NUM.hash                                                   \n",
       "9d997a2fbd9b396610ee54377b2f1d1a  0   2  0  0  0   0   0  0  0  0  \n",
       "3a103b0689db49e51ae7681a95f130de  0   0  2  0  1   0   0  0  0  0  \n",
       "3addedf014a4963fbed29b08315c66e2  5   0  0  0  0   0   0  0  0  5  \n",
       "a370d68d61cfe3429122703a0515c582  0   0  0  0  0   0   0  0  0  0  \n",
       "8d30bca54606f4e1aeba22659e3f71f1  0   0  0  0  0   0   0  0  0  0  \n",
       "7fb5e93095692a1e97ba3ce10711d9ff  0   1  0  0  0   0   0  0  0  0  \n",
       "2448330040822b198d53cb88caf46d6f  0  25  0  2  0   0   0  0  0  0  \n",
       "dcc75f252dc23a1908434092b8d18056  0   0  0  0  0   0   0  0  0  0  \n",
       "87503c7fb3a4cbe8077037f69fd061de  0   0  0  0  0   0   0  0  0  0  \n",
       "8b84f60782db3e4ac96f1f448b76e3bb  0   0  0  0  0  15  10  0  0  0  \n",
       "\n",
       "[10 rows x 24 columns]"
      ]
     },
     "execution_count": 156,
     "metadata": {},
     "output_type": "execute_result"
    }
   ],
   "source": [
    "extra_GB_hour_Pivot.sample(n=10)"
   ]
  },
  {
   "cell_type": "code",
   "execution_count": 157,
   "metadata": {},
   "outputs": [],
   "source": [
    "extra_GB_hour_Pivot.to_csv(\"data/user_profile/extra_usage/BB_extra_GB_usage_pivot_GB_hour.csv\")"
   ]
  },
  {
   "cell_type": "code",
   "execution_count": 158,
   "metadata": {},
   "outputs": [],
   "source": [
    "extra_GB_size_Pivot.to_csv(\"data/user_profile/extra_usage/BB_extra_GB_usage_pivot_GB_month.csv\")"
   ]
  },
  {
   "cell_type": "code",
   "execution_count": 159,
   "metadata": {},
   "outputs": [],
   "source": [
    "extra_GB_pivot_df.to_csv(\"data/user_profile/extra_usage/BB_extra_GB_usage_pivot_GBz_rental.csv\")"
   ]
  },
  {
   "cell_type": "code",
   "execution_count": null,
   "metadata": {},
   "outputs": [],
   "source": []
  },
  {
   "cell_type": "markdown",
   "metadata": {},
   "source": [
    "### Extracting USER_BB Package Map"
   ]
  },
  {
   "cell_type": "code",
   "execution_count": 166,
   "metadata": {},
   "outputs": [],
   "source": [
    "user_bb_package = extra_GB_details_df[[\"ACCOUNT_NUM.hash\",\"BB_Package\"]]"
   ]
  },
  {
   "cell_type": "code",
   "execution_count": 167,
   "metadata": {},
   "outputs": [
    {
     "name": "stderr",
     "output_type": "stream",
     "text": [
      "/Users/chiranhewawitharana/mambaforge/envs/mactf/lib/python3.8/site-packages/pandas/util/_decorators.py:311: SettingWithCopyWarning: \n",
      "A value is trying to be set on a copy of a slice from a DataFrame\n",
      "\n",
      "See the caveats in the documentation: https://pandas.pydata.org/pandas-docs/stable/user_guide/indexing.html#returning-a-view-versus-a-copy\n",
      "  return func(*args, **kwargs)\n"
     ]
    }
   ],
   "source": [
    "user_bb_package.drop_duplicates([\"ACCOUNT_NUM.hash\",\"BB_Package\"], inplace=True)"
   ]
  },
  {
   "cell_type": "code",
   "execution_count": 168,
   "metadata": {},
   "outputs": [
    {
     "name": "stdout",
     "output_type": "stream",
     "text": [
      "<class 'pandas.core.frame.DataFrame'>\n",
      "Int64Index: 32945 entries, 0 to 196188\n",
      "Data columns (total 2 columns):\n",
      " #   Column            Non-Null Count  Dtype \n",
      "---  ------            --------------  ----- \n",
      " 0   ACCOUNT_NUM.hash  32945 non-null  object\n",
      " 1   BB_Package        32945 non-null  object\n",
      "dtypes: object(2)\n",
      "memory usage: 772.1+ KB\n"
     ]
    }
   ],
   "source": [
    "user_bb_package.info()"
   ]
  },
  {
   "cell_type": "code",
   "execution_count": 169,
   "metadata": {},
   "outputs": [],
   "source": [
    "user_bb_package.to_csv(\"data/user_profile/User_BB_Package_Map.csv\")"
   ]
  },
  {
   "cell_type": "code",
   "execution_count": null,
   "metadata": {},
   "outputs": [],
   "source": []
  },
  {
   "cell_type": "markdown",
   "metadata": {},
   "source": [
    "## PeoTV Extra Channel Purchase Analysis #TODO - UPDATE"
   ]
  },
  {
   "cell_type": "code",
   "execution_count": 297,
   "metadata": {},
   "outputs": [
    {
     "data": {
      "text/plain": [
       "array(['E_SLT PeoTV Service', 'E_PeoTV Initiation', 'E_Video on Demand',\n",
       "       'E_TSTV', 'OTT_SLT PeoTV Go', 'BB_PeoTVGO',\n",
       "       'E_Referral offer Discount', 'AB_Peo TV Go OTT Box',\n",
       "       'LTE_Gamer Lite Subscription', 'LTE_Streamer Premium Subscription',\n",
       "       'LTE_Gamer Premium Subscription', 'PEO TV Go Basic Package',\n",
       "       'PEO TV Go VAS', 'PEO TV Go SVOD'], dtype=object)"
      ]
     },
     "execution_count": 297,
     "metadata": {},
     "output_type": "execute_result"
    }
   ],
   "source": [
    "vas_final_df[(vas_final_df[\"Package_Type\"] == \"PeoTV\")][\"Package\"].unique()"
   ]
  },
  {
   "cell_type": "code",
   "execution_count": 314,
   "metadata": {},
   "outputs": [
    {
     "name": "stderr",
     "output_type": "stream",
     "text": [
      "C:\\ProgramData\\Anaconda3\\lib\\site-packages\\pandas\\core\\frame.py:4308: SettingWithCopyWarning: \n",
      "A value is trying to be set on a copy of a slice from a DataFrame\n",
      "\n",
      "See the caveats in the documentation: https://pandas.pydata.org/pandas-docs/stable/user_guide/indexing.html#returning-a-view-versus-a-copy\n",
      "  return super().drop(\n"
     ]
    }
   ],
   "source": [
    "extra_Peo_df= vas_final_df[(vas_final_df[\"Package\"]==\"PEO TV GO OTT A la carte channels\") | (vas_final_df[\"Package\"]==\"PeoTVGo Channel Package\")]\n",
    "extra_Peo_df.reset_index(inplace=True)\n",
    "extra_Peo_df.drop([\"index\"],axis=1,inplace=True)"
   ]
  },
  {
   "cell_type": "code",
   "execution_count": 315,
   "metadata": {},
   "outputs": [],
   "source": [
    "extra_Peo_df= extra_Peo_df[[\"ACCOUNT_NUM.hash\",\"Package\",\"Month_Subscribed\",\"Rental\"]]"
   ]
  },
  {
   "cell_type": "code",
   "execution_count": 317,
   "metadata": {},
   "outputs": [],
   "source": [
    "extra_Peo_df.to_csv(\"data/user_profile/Peo_Extra_Peo_Usage.csv\")"
   ]
  },
  {
   "cell_type": "code",
   "execution_count": 318,
   "metadata": {},
   "outputs": [
    {
     "data": {
      "text/plain": [
       "array(['2019-07', '2019-08', '2019-09', '2019-10', '2019-11', '2019-12',\n",
       "       '2020-01', '2020-02', '2020-03', '2020-04', '2020-05', '2020-06',\n",
       "       '2020-07', '2020-08'], dtype=object)"
      ]
     },
     "execution_count": 318,
     "metadata": {},
     "output_type": "execute_result"
    }
   ],
   "source": [
    "extra_Peo_df[\"Month_Subscribed\"].unique()"
   ]
  },
  {
   "cell_type": "code",
   "execution_count": 319,
   "metadata": {},
   "outputs": [
    {
     "data": {
      "text/plain": [
       "51"
      ]
     },
     "execution_count": 319,
     "metadata": {},
     "output_type": "execute_result"
    }
   ],
   "source": [
    "len(extra_Peo_df[\"ACCOUNT_NUM.hash\"].unique())"
   ]
  },
  {
   "cell_type": "markdown",
   "metadata": {},
   "source": [
    "#### Extra PeoTV Channels Usage pivot matrix"
   ]
  },
  {
   "cell_type": "code",
   "execution_count": 320,
   "metadata": {},
   "outputs": [],
   "source": [
    "extra_Peo_pivot_df = pd.pivot_table(extra_Peo_df[[\"ACCOUNT_NUM.hash\",\"Month_Subscribed\",\"Rental\"]],index=['ACCOUNT_NUM.hash'],columns=['Month_Subscribed'], aggfunc=np.sum, fill_value=0)"
   ]
  },
  {
   "cell_type": "code",
   "execution_count": 321,
   "metadata": {},
   "outputs": [
    {
     "data": {
      "text/html": [
       "<div>\n",
       "<style scoped>\n",
       "    .dataframe tbody tr th:only-of-type {\n",
       "        vertical-align: middle;\n",
       "    }\n",
       "\n",
       "    .dataframe tbody tr th {\n",
       "        vertical-align: top;\n",
       "    }\n",
       "\n",
       "    .dataframe thead tr th {\n",
       "        text-align: left;\n",
       "    }\n",
       "\n",
       "    .dataframe thead tr:last-of-type th {\n",
       "        text-align: right;\n",
       "    }\n",
       "</style>\n",
       "<table border=\"1\" class=\"dataframe\">\n",
       "  <thead>\n",
       "    <tr>\n",
       "      <th></th>\n",
       "      <th colspan=\"14\" halign=\"left\">Rental</th>\n",
       "    </tr>\n",
       "    <tr>\n",
       "      <th>Month_Subscribed</th>\n",
       "      <th>2019-07</th>\n",
       "      <th>2019-08</th>\n",
       "      <th>2019-09</th>\n",
       "      <th>2019-10</th>\n",
       "      <th>2019-11</th>\n",
       "      <th>2019-12</th>\n",
       "      <th>2020-01</th>\n",
       "      <th>2020-02</th>\n",
       "      <th>2020-03</th>\n",
       "      <th>2020-04</th>\n",
       "      <th>2020-05</th>\n",
       "      <th>2020-06</th>\n",
       "      <th>2020-07</th>\n",
       "      <th>2020-08</th>\n",
       "    </tr>\n",
       "    <tr>\n",
       "      <th>ACCOUNT_NUM.hash</th>\n",
       "      <th></th>\n",
       "      <th></th>\n",
       "      <th></th>\n",
       "      <th></th>\n",
       "      <th></th>\n",
       "      <th></th>\n",
       "      <th></th>\n",
       "      <th></th>\n",
       "      <th></th>\n",
       "      <th></th>\n",
       "      <th></th>\n",
       "      <th></th>\n",
       "      <th></th>\n",
       "      <th></th>\n",
       "    </tr>\n",
       "  </thead>\n",
       "  <tbody>\n",
       "    <tr>\n",
       "      <th>0f46a3bf356fee36239f081e103da76b</th>\n",
       "      <td>100</td>\n",
       "      <td>100</td>\n",
       "      <td>100</td>\n",
       "      <td>100</td>\n",
       "      <td>100</td>\n",
       "      <td>100</td>\n",
       "      <td>100</td>\n",
       "      <td>100</td>\n",
       "      <td>100</td>\n",
       "      <td>100</td>\n",
       "      <td>100</td>\n",
       "      <td>100</td>\n",
       "      <td>100</td>\n",
       "      <td>100</td>\n",
       "    </tr>\n",
       "    <tr>\n",
       "      <th>1c4c0f12a0352e8aaf58602ecf64e877</th>\n",
       "      <td>100</td>\n",
       "      <td>100</td>\n",
       "      <td>100</td>\n",
       "      <td>100</td>\n",
       "      <td>100</td>\n",
       "      <td>100</td>\n",
       "      <td>100</td>\n",
       "      <td>100</td>\n",
       "      <td>100</td>\n",
       "      <td>450</td>\n",
       "      <td>450</td>\n",
       "      <td>450</td>\n",
       "      <td>450</td>\n",
       "      <td>450</td>\n",
       "    </tr>\n",
       "    <tr>\n",
       "      <th>204773567701102c4acf8fda9eaccfdd</th>\n",
       "      <td>100</td>\n",
       "      <td>100</td>\n",
       "      <td>100</td>\n",
       "      <td>100</td>\n",
       "      <td>100</td>\n",
       "      <td>100</td>\n",
       "      <td>100</td>\n",
       "      <td>100</td>\n",
       "      <td>100</td>\n",
       "      <td>100</td>\n",
       "      <td>100</td>\n",
       "      <td>100</td>\n",
       "      <td>100</td>\n",
       "      <td>100</td>\n",
       "    </tr>\n",
       "    <tr>\n",
       "      <th>21e2a94960106171ac59b4a319087d42</th>\n",
       "      <td>100</td>\n",
       "      <td>100</td>\n",
       "      <td>100</td>\n",
       "      <td>100</td>\n",
       "      <td>100</td>\n",
       "      <td>100</td>\n",
       "      <td>100</td>\n",
       "      <td>100</td>\n",
       "      <td>100</td>\n",
       "      <td>100</td>\n",
       "      <td>100</td>\n",
       "      <td>100</td>\n",
       "      <td>100</td>\n",
       "      <td>100</td>\n",
       "    </tr>\n",
       "    <tr>\n",
       "      <th>2259de9b81a352a02bcddf28bdedde6f</th>\n",
       "      <td>100</td>\n",
       "      <td>100</td>\n",
       "      <td>100</td>\n",
       "      <td>100</td>\n",
       "      <td>100</td>\n",
       "      <td>100</td>\n",
       "      <td>100</td>\n",
       "      <td>100</td>\n",
       "      <td>100</td>\n",
       "      <td>100</td>\n",
       "      <td>100</td>\n",
       "      <td>100</td>\n",
       "      <td>100</td>\n",
       "      <td>100</td>\n",
       "    </tr>\n",
       "    <tr>\n",
       "      <th>25b2c30f24bbd86d7cca43e006f521fa</th>\n",
       "      <td>100</td>\n",
       "      <td>100</td>\n",
       "      <td>100</td>\n",
       "      <td>100</td>\n",
       "      <td>100</td>\n",
       "      <td>100</td>\n",
       "      <td>100</td>\n",
       "      <td>100</td>\n",
       "      <td>100</td>\n",
       "      <td>100</td>\n",
       "      <td>100</td>\n",
       "      <td>100</td>\n",
       "      <td>100</td>\n",
       "      <td>100</td>\n",
       "    </tr>\n",
       "    <tr>\n",
       "      <th>2b1f1161870583f0b5280e0c5d629c78</th>\n",
       "      <td>150</td>\n",
       "      <td>150</td>\n",
       "      <td>150</td>\n",
       "      <td>100</td>\n",
       "      <td>150</td>\n",
       "      <td>100</td>\n",
       "      <td>100</td>\n",
       "      <td>100</td>\n",
       "      <td>100</td>\n",
       "      <td>100</td>\n",
       "      <td>100</td>\n",
       "      <td>100</td>\n",
       "      <td>100</td>\n",
       "      <td>100</td>\n",
       "    </tr>\n",
       "    <tr>\n",
       "      <th>2b60f8ffb99f7932ee00cdd291fb1dd5</th>\n",
       "      <td>150</td>\n",
       "      <td>150</td>\n",
       "      <td>150</td>\n",
       "      <td>100</td>\n",
       "      <td>150</td>\n",
       "      <td>100</td>\n",
       "      <td>100</td>\n",
       "      <td>100</td>\n",
       "      <td>100</td>\n",
       "      <td>100</td>\n",
       "      <td>100</td>\n",
       "      <td>100</td>\n",
       "      <td>100</td>\n",
       "      <td>100</td>\n",
       "    </tr>\n",
       "    <tr>\n",
       "      <th>2c98d4759ee2eca3f2d966be8739c1fa</th>\n",
       "      <td>0</td>\n",
       "      <td>0</td>\n",
       "      <td>0</td>\n",
       "      <td>0</td>\n",
       "      <td>0</td>\n",
       "      <td>0</td>\n",
       "      <td>0</td>\n",
       "      <td>0</td>\n",
       "      <td>0</td>\n",
       "      <td>0</td>\n",
       "      <td>0</td>\n",
       "      <td>0</td>\n",
       "      <td>0</td>\n",
       "      <td>100</td>\n",
       "    </tr>\n",
       "    <tr>\n",
       "      <th>2e0841c32915addc312ba3b08314593e</th>\n",
       "      <td>100</td>\n",
       "      <td>100</td>\n",
       "      <td>100</td>\n",
       "      <td>100</td>\n",
       "      <td>0</td>\n",
       "      <td>0</td>\n",
       "      <td>0</td>\n",
       "      <td>0</td>\n",
       "      <td>0</td>\n",
       "      <td>0</td>\n",
       "      <td>0</td>\n",
       "      <td>0</td>\n",
       "      <td>0</td>\n",
       "      <td>0</td>\n",
       "    </tr>\n",
       "    <tr>\n",
       "      <th>34cbda4698077235df4c2a08ee6f15ee</th>\n",
       "      <td>0</td>\n",
       "      <td>0</td>\n",
       "      <td>0</td>\n",
       "      <td>0</td>\n",
       "      <td>0</td>\n",
       "      <td>0</td>\n",
       "      <td>0</td>\n",
       "      <td>0</td>\n",
       "      <td>0</td>\n",
       "      <td>0</td>\n",
       "      <td>100</td>\n",
       "      <td>100</td>\n",
       "      <td>100</td>\n",
       "      <td>100</td>\n",
       "    </tr>\n",
       "    <tr>\n",
       "      <th>35653265b9dc1fc3aedba120476ef86d</th>\n",
       "      <td>0</td>\n",
       "      <td>0</td>\n",
       "      <td>0</td>\n",
       "      <td>0</td>\n",
       "      <td>0</td>\n",
       "      <td>0</td>\n",
       "      <td>0</td>\n",
       "      <td>0</td>\n",
       "      <td>100</td>\n",
       "      <td>100</td>\n",
       "      <td>100</td>\n",
       "      <td>100</td>\n",
       "      <td>100</td>\n",
       "      <td>100</td>\n",
       "    </tr>\n",
       "    <tr>\n",
       "      <th>41d2c3d7ffdefd4cdfb8227b52bdc37f</th>\n",
       "      <td>0</td>\n",
       "      <td>0</td>\n",
       "      <td>0</td>\n",
       "      <td>0</td>\n",
       "      <td>0</td>\n",
       "      <td>1050</td>\n",
       "      <td>450</td>\n",
       "      <td>450</td>\n",
       "      <td>450</td>\n",
       "      <td>450</td>\n",
       "      <td>450</td>\n",
       "      <td>450</td>\n",
       "      <td>450</td>\n",
       "      <td>450</td>\n",
       "    </tr>\n",
       "    <tr>\n",
       "      <th>44224bc1e2e7101c90bbad70dbcc5a6c</th>\n",
       "      <td>0</td>\n",
       "      <td>0</td>\n",
       "      <td>0</td>\n",
       "      <td>0</td>\n",
       "      <td>0</td>\n",
       "      <td>0</td>\n",
       "      <td>0</td>\n",
       "      <td>0</td>\n",
       "      <td>0</td>\n",
       "      <td>100</td>\n",
       "      <td>100</td>\n",
       "      <td>100</td>\n",
       "      <td>100</td>\n",
       "      <td>100</td>\n",
       "    </tr>\n",
       "    <tr>\n",
       "      <th>446b44a4a65b65b4cf09e783683b4df2</th>\n",
       "      <td>100</td>\n",
       "      <td>100</td>\n",
       "      <td>100</td>\n",
       "      <td>100</td>\n",
       "      <td>100</td>\n",
       "      <td>100</td>\n",
       "      <td>100</td>\n",
       "      <td>100</td>\n",
       "      <td>100</td>\n",
       "      <td>100</td>\n",
       "      <td>100</td>\n",
       "      <td>100</td>\n",
       "      <td>0</td>\n",
       "      <td>0</td>\n",
       "    </tr>\n",
       "    <tr>\n",
       "      <th>494de320778db98d7fa1751e8d60064c</th>\n",
       "      <td>150</td>\n",
       "      <td>150</td>\n",
       "      <td>150</td>\n",
       "      <td>100</td>\n",
       "      <td>150</td>\n",
       "      <td>100</td>\n",
       "      <td>100</td>\n",
       "      <td>100</td>\n",
       "      <td>100</td>\n",
       "      <td>100</td>\n",
       "      <td>100</td>\n",
       "      <td>100</td>\n",
       "      <td>100</td>\n",
       "      <td>100</td>\n",
       "    </tr>\n",
       "    <tr>\n",
       "      <th>4ddd3dc2b7a3fe4907f9806fc67ab627</th>\n",
       "      <td>150</td>\n",
       "      <td>150</td>\n",
       "      <td>150</td>\n",
       "      <td>100</td>\n",
       "      <td>150</td>\n",
       "      <td>100</td>\n",
       "      <td>0</td>\n",
       "      <td>0</td>\n",
       "      <td>0</td>\n",
       "      <td>0</td>\n",
       "      <td>0</td>\n",
       "      <td>0</td>\n",
       "      <td>0</td>\n",
       "      <td>0</td>\n",
       "    </tr>\n",
       "    <tr>\n",
       "      <th>52b1c4fc5583a0b8449029dc92eeae45</th>\n",
       "      <td>100</td>\n",
       "      <td>100</td>\n",
       "      <td>100</td>\n",
       "      <td>100</td>\n",
       "      <td>100</td>\n",
       "      <td>100</td>\n",
       "      <td>100</td>\n",
       "      <td>100</td>\n",
       "      <td>100</td>\n",
       "      <td>100</td>\n",
       "      <td>100</td>\n",
       "      <td>100</td>\n",
       "      <td>100</td>\n",
       "      <td>100</td>\n",
       "    </tr>\n",
       "    <tr>\n",
       "      <th>52e7c04d12cb33c77031760584a9586e</th>\n",
       "      <td>150</td>\n",
       "      <td>150</td>\n",
       "      <td>150</td>\n",
       "      <td>100</td>\n",
       "      <td>150</td>\n",
       "      <td>100</td>\n",
       "      <td>100</td>\n",
       "      <td>100</td>\n",
       "      <td>100</td>\n",
       "      <td>100</td>\n",
       "      <td>100</td>\n",
       "      <td>100</td>\n",
       "      <td>100</td>\n",
       "      <td>100</td>\n",
       "    </tr>\n",
       "    <tr>\n",
       "      <th>6184e258fc549e12c235a2bc10ae297e</th>\n",
       "      <td>150</td>\n",
       "      <td>150</td>\n",
       "      <td>150</td>\n",
       "      <td>0</td>\n",
       "      <td>0</td>\n",
       "      <td>0</td>\n",
       "      <td>0</td>\n",
       "      <td>0</td>\n",
       "      <td>0</td>\n",
       "      <td>0</td>\n",
       "      <td>0</td>\n",
       "      <td>0</td>\n",
       "      <td>0</td>\n",
       "      <td>0</td>\n",
       "    </tr>\n",
       "    <tr>\n",
       "      <th>62fb58e7bc8acec8cd1553a9aae5e8b0</th>\n",
       "      <td>0</td>\n",
       "      <td>0</td>\n",
       "      <td>0</td>\n",
       "      <td>0</td>\n",
       "      <td>0</td>\n",
       "      <td>0</td>\n",
       "      <td>0</td>\n",
       "      <td>0</td>\n",
       "      <td>0</td>\n",
       "      <td>0</td>\n",
       "      <td>0</td>\n",
       "      <td>100</td>\n",
       "      <td>100</td>\n",
       "      <td>100</td>\n",
       "    </tr>\n",
       "    <tr>\n",
       "      <th>639eee857314ce7dd39ca7a84eb56529</th>\n",
       "      <td>100</td>\n",
       "      <td>100</td>\n",
       "      <td>100</td>\n",
       "      <td>100</td>\n",
       "      <td>100</td>\n",
       "      <td>100</td>\n",
       "      <td>100</td>\n",
       "      <td>100</td>\n",
       "      <td>100</td>\n",
       "      <td>100</td>\n",
       "      <td>100</td>\n",
       "      <td>100</td>\n",
       "      <td>100</td>\n",
       "      <td>100</td>\n",
       "    </tr>\n",
       "    <tr>\n",
       "      <th>69325672947dfadf5b4eda47157da277</th>\n",
       "      <td>0</td>\n",
       "      <td>0</td>\n",
       "      <td>0</td>\n",
       "      <td>0</td>\n",
       "      <td>0</td>\n",
       "      <td>100</td>\n",
       "      <td>100</td>\n",
       "      <td>100</td>\n",
       "      <td>100</td>\n",
       "      <td>100</td>\n",
       "      <td>100</td>\n",
       "      <td>100</td>\n",
       "      <td>100</td>\n",
       "      <td>100</td>\n",
       "    </tr>\n",
       "    <tr>\n",
       "      <th>69d89537ea9b733dd8295f0a9fed52a4</th>\n",
       "      <td>0</td>\n",
       "      <td>0</td>\n",
       "      <td>0</td>\n",
       "      <td>0</td>\n",
       "      <td>0</td>\n",
       "      <td>0</td>\n",
       "      <td>0</td>\n",
       "      <td>0</td>\n",
       "      <td>0</td>\n",
       "      <td>0</td>\n",
       "      <td>0</td>\n",
       "      <td>1400</td>\n",
       "      <td>350</td>\n",
       "      <td>0</td>\n",
       "    </tr>\n",
       "    <tr>\n",
       "      <th>74e177b0c64177f4c813bd351337b796</th>\n",
       "      <td>0</td>\n",
       "      <td>0</td>\n",
       "      <td>0</td>\n",
       "      <td>0</td>\n",
       "      <td>0</td>\n",
       "      <td>0</td>\n",
       "      <td>0</td>\n",
       "      <td>0</td>\n",
       "      <td>0</td>\n",
       "      <td>0</td>\n",
       "      <td>0</td>\n",
       "      <td>0</td>\n",
       "      <td>0</td>\n",
       "      <td>100</td>\n",
       "    </tr>\n",
       "    <tr>\n",
       "      <th>808b95c7008ba4241493ae938e63012e</th>\n",
       "      <td>100</td>\n",
       "      <td>100</td>\n",
       "      <td>100</td>\n",
       "      <td>100</td>\n",
       "      <td>100</td>\n",
       "      <td>100</td>\n",
       "      <td>100</td>\n",
       "      <td>100</td>\n",
       "      <td>100</td>\n",
       "      <td>100</td>\n",
       "      <td>100</td>\n",
       "      <td>100</td>\n",
       "      <td>100</td>\n",
       "      <td>100</td>\n",
       "    </tr>\n",
       "    <tr>\n",
       "      <th>819cb6072b7f743d7a35d187956afab4</th>\n",
       "      <td>0</td>\n",
       "      <td>0</td>\n",
       "      <td>0</td>\n",
       "      <td>0</td>\n",
       "      <td>100</td>\n",
       "      <td>100</td>\n",
       "      <td>100</td>\n",
       "      <td>100</td>\n",
       "      <td>100</td>\n",
       "      <td>100</td>\n",
       "      <td>100</td>\n",
       "      <td>100</td>\n",
       "      <td>100</td>\n",
       "      <td>100</td>\n",
       "    </tr>\n",
       "    <tr>\n",
       "      <th>90a7ca76033cf7fc3c3cb906f45c401c</th>\n",
       "      <td>100</td>\n",
       "      <td>0</td>\n",
       "      <td>0</td>\n",
       "      <td>0</td>\n",
       "      <td>0</td>\n",
       "      <td>0</td>\n",
       "      <td>0</td>\n",
       "      <td>0</td>\n",
       "      <td>0</td>\n",
       "      <td>0</td>\n",
       "      <td>0</td>\n",
       "      <td>0</td>\n",
       "      <td>0</td>\n",
       "      <td>0</td>\n",
       "    </tr>\n",
       "    <tr>\n",
       "      <th>933cd3394373b1d2929edcaa1974f7a1</th>\n",
       "      <td>100</td>\n",
       "      <td>100</td>\n",
       "      <td>100</td>\n",
       "      <td>100</td>\n",
       "      <td>100</td>\n",
       "      <td>100</td>\n",
       "      <td>100</td>\n",
       "      <td>100</td>\n",
       "      <td>100</td>\n",
       "      <td>100</td>\n",
       "      <td>100</td>\n",
       "      <td>100</td>\n",
       "      <td>100</td>\n",
       "      <td>100</td>\n",
       "    </tr>\n",
       "    <tr>\n",
       "      <th>9d2f5d0f09198069413924db9a10d1c3</th>\n",
       "      <td>100</td>\n",
       "      <td>100</td>\n",
       "      <td>100</td>\n",
       "      <td>100</td>\n",
       "      <td>100</td>\n",
       "      <td>100</td>\n",
       "      <td>100</td>\n",
       "      <td>100</td>\n",
       "      <td>100</td>\n",
       "      <td>100</td>\n",
       "      <td>100</td>\n",
       "      <td>100</td>\n",
       "      <td>100</td>\n",
       "      <td>100</td>\n",
       "    </tr>\n",
       "    <tr>\n",
       "      <th>9fb15a37e248fce31c7d0ed98aaaaaf1</th>\n",
       "      <td>0</td>\n",
       "      <td>0</td>\n",
       "      <td>0</td>\n",
       "      <td>0</td>\n",
       "      <td>0</td>\n",
       "      <td>0</td>\n",
       "      <td>100</td>\n",
       "      <td>100</td>\n",
       "      <td>100</td>\n",
       "      <td>100</td>\n",
       "      <td>100</td>\n",
       "      <td>100</td>\n",
       "      <td>100</td>\n",
       "      <td>100</td>\n",
       "    </tr>\n",
       "    <tr>\n",
       "      <th>a0edde715d1903bd4c50ffad184ee2a4</th>\n",
       "      <td>0</td>\n",
       "      <td>0</td>\n",
       "      <td>0</td>\n",
       "      <td>100</td>\n",
       "      <td>100</td>\n",
       "      <td>100</td>\n",
       "      <td>100</td>\n",
       "      <td>100</td>\n",
       "      <td>100</td>\n",
       "      <td>100</td>\n",
       "      <td>100</td>\n",
       "      <td>100</td>\n",
       "      <td>100</td>\n",
       "      <td>100</td>\n",
       "    </tr>\n",
       "    <tr>\n",
       "      <th>a1a17097950da3f5a53f41a4089a143c</th>\n",
       "      <td>100</td>\n",
       "      <td>100</td>\n",
       "      <td>100</td>\n",
       "      <td>100</td>\n",
       "      <td>100</td>\n",
       "      <td>100</td>\n",
       "      <td>0</td>\n",
       "      <td>0</td>\n",
       "      <td>0</td>\n",
       "      <td>0</td>\n",
       "      <td>0</td>\n",
       "      <td>0</td>\n",
       "      <td>0</td>\n",
       "      <td>0</td>\n",
       "    </tr>\n",
       "    <tr>\n",
       "      <th>a4eebc122a8f3dc2b2cd9bf6420cf008</th>\n",
       "      <td>100</td>\n",
       "      <td>100</td>\n",
       "      <td>100</td>\n",
       "      <td>100</td>\n",
       "      <td>100</td>\n",
       "      <td>100</td>\n",
       "      <td>100</td>\n",
       "      <td>100</td>\n",
       "      <td>100</td>\n",
       "      <td>100</td>\n",
       "      <td>100</td>\n",
       "      <td>0</td>\n",
       "      <td>200</td>\n",
       "      <td>100</td>\n",
       "    </tr>\n",
       "    <tr>\n",
       "      <th>a51b26429dc990ff24dedbcd9316026e</th>\n",
       "      <td>0</td>\n",
       "      <td>0</td>\n",
       "      <td>0</td>\n",
       "      <td>0</td>\n",
       "      <td>0</td>\n",
       "      <td>0</td>\n",
       "      <td>0</td>\n",
       "      <td>0</td>\n",
       "      <td>0</td>\n",
       "      <td>100</td>\n",
       "      <td>100</td>\n",
       "      <td>100</td>\n",
       "      <td>100</td>\n",
       "      <td>100</td>\n",
       "    </tr>\n",
       "    <tr>\n",
       "      <th>bd537f0b4dbc25dea026f9705c43ba03</th>\n",
       "      <td>100</td>\n",
       "      <td>100</td>\n",
       "      <td>100</td>\n",
       "      <td>100</td>\n",
       "      <td>100</td>\n",
       "      <td>100</td>\n",
       "      <td>100</td>\n",
       "      <td>100</td>\n",
       "      <td>100</td>\n",
       "      <td>100</td>\n",
       "      <td>100</td>\n",
       "      <td>100</td>\n",
       "      <td>100</td>\n",
       "      <td>100</td>\n",
       "    </tr>\n",
       "    <tr>\n",
       "      <th>bda07bd430770d8b4936c144e1523473</th>\n",
       "      <td>0</td>\n",
       "      <td>0</td>\n",
       "      <td>0</td>\n",
       "      <td>0</td>\n",
       "      <td>100</td>\n",
       "      <td>0</td>\n",
       "      <td>0</td>\n",
       "      <td>0</td>\n",
       "      <td>0</td>\n",
       "      <td>0</td>\n",
       "      <td>0</td>\n",
       "      <td>0</td>\n",
       "      <td>0</td>\n",
       "      <td>0</td>\n",
       "    </tr>\n",
       "    <tr>\n",
       "      <th>be57dd52a72846ff4d4a505373698f0b</th>\n",
       "      <td>0</td>\n",
       "      <td>0</td>\n",
       "      <td>0</td>\n",
       "      <td>0</td>\n",
       "      <td>100</td>\n",
       "      <td>100</td>\n",
       "      <td>100</td>\n",
       "      <td>100</td>\n",
       "      <td>100</td>\n",
       "      <td>100</td>\n",
       "      <td>100</td>\n",
       "      <td>100</td>\n",
       "      <td>100</td>\n",
       "      <td>100</td>\n",
       "    </tr>\n",
       "    <tr>\n",
       "      <th>c11a5aa14d094a93729db54e84d621ed</th>\n",
       "      <td>0</td>\n",
       "      <td>0</td>\n",
       "      <td>0</td>\n",
       "      <td>0</td>\n",
       "      <td>0</td>\n",
       "      <td>0</td>\n",
       "      <td>0</td>\n",
       "      <td>0</td>\n",
       "      <td>0</td>\n",
       "      <td>100</td>\n",
       "      <td>100</td>\n",
       "      <td>100</td>\n",
       "      <td>100</td>\n",
       "      <td>100</td>\n",
       "    </tr>\n",
       "    <tr>\n",
       "      <th>d0bd2c4614c24ce48b7fc09ff42eb002</th>\n",
       "      <td>0</td>\n",
       "      <td>100</td>\n",
       "      <td>0</td>\n",
       "      <td>0</td>\n",
       "      <td>0</td>\n",
       "      <td>0</td>\n",
       "      <td>0</td>\n",
       "      <td>0</td>\n",
       "      <td>0</td>\n",
       "      <td>0</td>\n",
       "      <td>0</td>\n",
       "      <td>0</td>\n",
       "      <td>0</td>\n",
       "      <td>0</td>\n",
       "    </tr>\n",
       "    <tr>\n",
       "      <th>d54af3961d00eb3e721ce7cc7574e4b4</th>\n",
       "      <td>150</td>\n",
       "      <td>150</td>\n",
       "      <td>150</td>\n",
       "      <td>100</td>\n",
       "      <td>150</td>\n",
       "      <td>100</td>\n",
       "      <td>100</td>\n",
       "      <td>100</td>\n",
       "      <td>100</td>\n",
       "      <td>100</td>\n",
       "      <td>100</td>\n",
       "      <td>100</td>\n",
       "      <td>100</td>\n",
       "      <td>100</td>\n",
       "    </tr>\n",
       "    <tr>\n",
       "      <th>d97bf82713a4a491e6600a4a2368d4fe</th>\n",
       "      <td>0</td>\n",
       "      <td>0</td>\n",
       "      <td>0</td>\n",
       "      <td>0</td>\n",
       "      <td>0</td>\n",
       "      <td>100</td>\n",
       "      <td>100</td>\n",
       "      <td>100</td>\n",
       "      <td>100</td>\n",
       "      <td>100</td>\n",
       "      <td>100</td>\n",
       "      <td>100</td>\n",
       "      <td>100</td>\n",
       "      <td>100</td>\n",
       "    </tr>\n",
       "    <tr>\n",
       "      <th>daa74e4f9afbb374acc64969fe778808</th>\n",
       "      <td>0</td>\n",
       "      <td>0</td>\n",
       "      <td>0</td>\n",
       "      <td>0</td>\n",
       "      <td>0</td>\n",
       "      <td>100</td>\n",
       "      <td>100</td>\n",
       "      <td>100</td>\n",
       "      <td>100</td>\n",
       "      <td>100</td>\n",
       "      <td>100</td>\n",
       "      <td>100</td>\n",
       "      <td>100</td>\n",
       "      <td>100</td>\n",
       "    </tr>\n",
       "    <tr>\n",
       "      <th>dae4c762e2af5a6b09ae61dd64e8a597</th>\n",
       "      <td>100</td>\n",
       "      <td>100</td>\n",
       "      <td>100</td>\n",
       "      <td>100</td>\n",
       "      <td>100</td>\n",
       "      <td>100</td>\n",
       "      <td>100</td>\n",
       "      <td>100</td>\n",
       "      <td>100</td>\n",
       "      <td>100</td>\n",
       "      <td>100</td>\n",
       "      <td>100</td>\n",
       "      <td>100</td>\n",
       "      <td>100</td>\n",
       "    </tr>\n",
       "    <tr>\n",
       "      <th>dda37eaaec4b2895d9681f934ef36e20</th>\n",
       "      <td>0</td>\n",
       "      <td>0</td>\n",
       "      <td>0</td>\n",
       "      <td>0</td>\n",
       "      <td>0</td>\n",
       "      <td>0</td>\n",
       "      <td>0</td>\n",
       "      <td>0</td>\n",
       "      <td>100</td>\n",
       "      <td>100</td>\n",
       "      <td>100</td>\n",
       "      <td>100</td>\n",
       "      <td>100</td>\n",
       "      <td>100</td>\n",
       "    </tr>\n",
       "    <tr>\n",
       "      <th>e7bfef3276f6c0027bb79e98ae7fcdce</th>\n",
       "      <td>100</td>\n",
       "      <td>100</td>\n",
       "      <td>100</td>\n",
       "      <td>100</td>\n",
       "      <td>100</td>\n",
       "      <td>100</td>\n",
       "      <td>100</td>\n",
       "      <td>100</td>\n",
       "      <td>100</td>\n",
       "      <td>100</td>\n",
       "      <td>100</td>\n",
       "      <td>100</td>\n",
       "      <td>100</td>\n",
       "      <td>100</td>\n",
       "    </tr>\n",
       "    <tr>\n",
       "      <th>e98442fafe89489ced0b54cd7e28e3c1</th>\n",
       "      <td>0</td>\n",
       "      <td>0</td>\n",
       "      <td>0</td>\n",
       "      <td>0</td>\n",
       "      <td>0</td>\n",
       "      <td>0</td>\n",
       "      <td>100</td>\n",
       "      <td>100</td>\n",
       "      <td>100</td>\n",
       "      <td>100</td>\n",
       "      <td>100</td>\n",
       "      <td>100</td>\n",
       "      <td>100</td>\n",
       "      <td>100</td>\n",
       "    </tr>\n",
       "    <tr>\n",
       "      <th>e9c6e3f904c96634fd6d65955ad51c0a</th>\n",
       "      <td>0</td>\n",
       "      <td>0</td>\n",
       "      <td>0</td>\n",
       "      <td>0</td>\n",
       "      <td>0</td>\n",
       "      <td>0</td>\n",
       "      <td>0</td>\n",
       "      <td>0</td>\n",
       "      <td>0</td>\n",
       "      <td>100</td>\n",
       "      <td>100</td>\n",
       "      <td>100</td>\n",
       "      <td>100</td>\n",
       "      <td>100</td>\n",
       "    </tr>\n",
       "    <tr>\n",
       "      <th>e9da17d80fe1938c7dee8c900352d1e5</th>\n",
       "      <td>0</td>\n",
       "      <td>0</td>\n",
       "      <td>0</td>\n",
       "      <td>0</td>\n",
       "      <td>0</td>\n",
       "      <td>0</td>\n",
       "      <td>0</td>\n",
       "      <td>0</td>\n",
       "      <td>100</td>\n",
       "      <td>100</td>\n",
       "      <td>100</td>\n",
       "      <td>100</td>\n",
       "      <td>100</td>\n",
       "      <td>100</td>\n",
       "    </tr>\n",
       "    <tr>\n",
       "      <th>f530fa175c025159cdd33507a7f3d426</th>\n",
       "      <td>0</td>\n",
       "      <td>0</td>\n",
       "      <td>0</td>\n",
       "      <td>0</td>\n",
       "      <td>0</td>\n",
       "      <td>0</td>\n",
       "      <td>0</td>\n",
       "      <td>0</td>\n",
       "      <td>0</td>\n",
       "      <td>0</td>\n",
       "      <td>0</td>\n",
       "      <td>1050</td>\n",
       "      <td>350</td>\n",
       "      <td>350</td>\n",
       "    </tr>\n",
       "    <tr>\n",
       "      <th>fd54b3aa9768db49cee68803cb7a238c</th>\n",
       "      <td>100</td>\n",
       "      <td>100</td>\n",
       "      <td>100</td>\n",
       "      <td>100</td>\n",
       "      <td>100</td>\n",
       "      <td>0</td>\n",
       "      <td>0</td>\n",
       "      <td>0</td>\n",
       "      <td>0</td>\n",
       "      <td>0</td>\n",
       "      <td>0</td>\n",
       "      <td>0</td>\n",
       "      <td>0</td>\n",
       "      <td>0</td>\n",
       "    </tr>\n",
       "  </tbody>\n",
       "</table>\n",
       "</div>"
      ],
      "text/plain": [
       "                                  Rental                                  \\\n",
       "Month_Subscribed                 2019-07 2019-08 2019-09 2019-10 2019-11   \n",
       "ACCOUNT_NUM.hash                                                           \n",
       "0f46a3bf356fee36239f081e103da76b     100     100     100     100     100   \n",
       "1c4c0f12a0352e8aaf58602ecf64e877     100     100     100     100     100   \n",
       "204773567701102c4acf8fda9eaccfdd     100     100     100     100     100   \n",
       "21e2a94960106171ac59b4a319087d42     100     100     100     100     100   \n",
       "2259de9b81a352a02bcddf28bdedde6f     100     100     100     100     100   \n",
       "25b2c30f24bbd86d7cca43e006f521fa     100     100     100     100     100   \n",
       "2b1f1161870583f0b5280e0c5d629c78     150     150     150     100     150   \n",
       "2b60f8ffb99f7932ee00cdd291fb1dd5     150     150     150     100     150   \n",
       "2c98d4759ee2eca3f2d966be8739c1fa       0       0       0       0       0   \n",
       "2e0841c32915addc312ba3b08314593e     100     100     100     100       0   \n",
       "34cbda4698077235df4c2a08ee6f15ee       0       0       0       0       0   \n",
       "35653265b9dc1fc3aedba120476ef86d       0       0       0       0       0   \n",
       "41d2c3d7ffdefd4cdfb8227b52bdc37f       0       0       0       0       0   \n",
       "44224bc1e2e7101c90bbad70dbcc5a6c       0       0       0       0       0   \n",
       "446b44a4a65b65b4cf09e783683b4df2     100     100     100     100     100   \n",
       "494de320778db98d7fa1751e8d60064c     150     150     150     100     150   \n",
       "4ddd3dc2b7a3fe4907f9806fc67ab627     150     150     150     100     150   \n",
       "52b1c4fc5583a0b8449029dc92eeae45     100     100     100     100     100   \n",
       "52e7c04d12cb33c77031760584a9586e     150     150     150     100     150   \n",
       "6184e258fc549e12c235a2bc10ae297e     150     150     150       0       0   \n",
       "62fb58e7bc8acec8cd1553a9aae5e8b0       0       0       0       0       0   \n",
       "639eee857314ce7dd39ca7a84eb56529     100     100     100     100     100   \n",
       "69325672947dfadf5b4eda47157da277       0       0       0       0       0   \n",
       "69d89537ea9b733dd8295f0a9fed52a4       0       0       0       0       0   \n",
       "74e177b0c64177f4c813bd351337b796       0       0       0       0       0   \n",
       "808b95c7008ba4241493ae938e63012e     100     100     100     100     100   \n",
       "819cb6072b7f743d7a35d187956afab4       0       0       0       0     100   \n",
       "90a7ca76033cf7fc3c3cb906f45c401c     100       0       0       0       0   \n",
       "933cd3394373b1d2929edcaa1974f7a1     100     100     100     100     100   \n",
       "9d2f5d0f09198069413924db9a10d1c3     100     100     100     100     100   \n",
       "9fb15a37e248fce31c7d0ed98aaaaaf1       0       0       0       0       0   \n",
       "a0edde715d1903bd4c50ffad184ee2a4       0       0       0     100     100   \n",
       "a1a17097950da3f5a53f41a4089a143c     100     100     100     100     100   \n",
       "a4eebc122a8f3dc2b2cd9bf6420cf008     100     100     100     100     100   \n",
       "a51b26429dc990ff24dedbcd9316026e       0       0       0       0       0   \n",
       "bd537f0b4dbc25dea026f9705c43ba03     100     100     100     100     100   \n",
       "bda07bd430770d8b4936c144e1523473       0       0       0       0     100   \n",
       "be57dd52a72846ff4d4a505373698f0b       0       0       0       0     100   \n",
       "c11a5aa14d094a93729db54e84d621ed       0       0       0       0       0   \n",
       "d0bd2c4614c24ce48b7fc09ff42eb002       0     100       0       0       0   \n",
       "d54af3961d00eb3e721ce7cc7574e4b4     150     150     150     100     150   \n",
       "d97bf82713a4a491e6600a4a2368d4fe       0       0       0       0       0   \n",
       "daa74e4f9afbb374acc64969fe778808       0       0       0       0       0   \n",
       "dae4c762e2af5a6b09ae61dd64e8a597     100     100     100     100     100   \n",
       "dda37eaaec4b2895d9681f934ef36e20       0       0       0       0       0   \n",
       "e7bfef3276f6c0027bb79e98ae7fcdce     100     100     100     100     100   \n",
       "e98442fafe89489ced0b54cd7e28e3c1       0       0       0       0       0   \n",
       "e9c6e3f904c96634fd6d65955ad51c0a       0       0       0       0       0   \n",
       "e9da17d80fe1938c7dee8c900352d1e5       0       0       0       0       0   \n",
       "f530fa175c025159cdd33507a7f3d426       0       0       0       0       0   \n",
       "fd54b3aa9768db49cee68803cb7a238c     100     100     100     100     100   \n",
       "\n",
       "                                                                          \\\n",
       "Month_Subscribed                 2019-12 2020-01 2020-02 2020-03 2020-04   \n",
       "ACCOUNT_NUM.hash                                                           \n",
       "0f46a3bf356fee36239f081e103da76b     100     100     100     100     100   \n",
       "1c4c0f12a0352e8aaf58602ecf64e877     100     100     100     100     450   \n",
       "204773567701102c4acf8fda9eaccfdd     100     100     100     100     100   \n",
       "21e2a94960106171ac59b4a319087d42     100     100     100     100     100   \n",
       "2259de9b81a352a02bcddf28bdedde6f     100     100     100     100     100   \n",
       "25b2c30f24bbd86d7cca43e006f521fa     100     100     100     100     100   \n",
       "2b1f1161870583f0b5280e0c5d629c78     100     100     100     100     100   \n",
       "2b60f8ffb99f7932ee00cdd291fb1dd5     100     100     100     100     100   \n",
       "2c98d4759ee2eca3f2d966be8739c1fa       0       0       0       0       0   \n",
       "2e0841c32915addc312ba3b08314593e       0       0       0       0       0   \n",
       "34cbda4698077235df4c2a08ee6f15ee       0       0       0       0       0   \n",
       "35653265b9dc1fc3aedba120476ef86d       0       0       0     100     100   \n",
       "41d2c3d7ffdefd4cdfb8227b52bdc37f    1050     450     450     450     450   \n",
       "44224bc1e2e7101c90bbad70dbcc5a6c       0       0       0       0     100   \n",
       "446b44a4a65b65b4cf09e783683b4df2     100     100     100     100     100   \n",
       "494de320778db98d7fa1751e8d60064c     100     100     100     100     100   \n",
       "4ddd3dc2b7a3fe4907f9806fc67ab627     100       0       0       0       0   \n",
       "52b1c4fc5583a0b8449029dc92eeae45     100     100     100     100     100   \n",
       "52e7c04d12cb33c77031760584a9586e     100     100     100     100     100   \n",
       "6184e258fc549e12c235a2bc10ae297e       0       0       0       0       0   \n",
       "62fb58e7bc8acec8cd1553a9aae5e8b0       0       0       0       0       0   \n",
       "639eee857314ce7dd39ca7a84eb56529     100     100     100     100     100   \n",
       "69325672947dfadf5b4eda47157da277     100     100     100     100     100   \n",
       "69d89537ea9b733dd8295f0a9fed52a4       0       0       0       0       0   \n",
       "74e177b0c64177f4c813bd351337b796       0       0       0       0       0   \n",
       "808b95c7008ba4241493ae938e63012e     100     100     100     100     100   \n",
       "819cb6072b7f743d7a35d187956afab4     100     100     100     100     100   \n",
       "90a7ca76033cf7fc3c3cb906f45c401c       0       0       0       0       0   \n",
       "933cd3394373b1d2929edcaa1974f7a1     100     100     100     100     100   \n",
       "9d2f5d0f09198069413924db9a10d1c3     100     100     100     100     100   \n",
       "9fb15a37e248fce31c7d0ed98aaaaaf1       0     100     100     100     100   \n",
       "a0edde715d1903bd4c50ffad184ee2a4     100     100     100     100     100   \n",
       "a1a17097950da3f5a53f41a4089a143c     100       0       0       0       0   \n",
       "a4eebc122a8f3dc2b2cd9bf6420cf008     100     100     100     100     100   \n",
       "a51b26429dc990ff24dedbcd9316026e       0       0       0       0     100   \n",
       "bd537f0b4dbc25dea026f9705c43ba03     100     100     100     100     100   \n",
       "bda07bd430770d8b4936c144e1523473       0       0       0       0       0   \n",
       "be57dd52a72846ff4d4a505373698f0b     100     100     100     100     100   \n",
       "c11a5aa14d094a93729db54e84d621ed       0       0       0       0     100   \n",
       "d0bd2c4614c24ce48b7fc09ff42eb002       0       0       0       0       0   \n",
       "d54af3961d00eb3e721ce7cc7574e4b4     100     100     100     100     100   \n",
       "d97bf82713a4a491e6600a4a2368d4fe     100     100     100     100     100   \n",
       "daa74e4f9afbb374acc64969fe778808     100     100     100     100     100   \n",
       "dae4c762e2af5a6b09ae61dd64e8a597     100     100     100     100     100   \n",
       "dda37eaaec4b2895d9681f934ef36e20       0       0       0     100     100   \n",
       "e7bfef3276f6c0027bb79e98ae7fcdce     100     100     100     100     100   \n",
       "e98442fafe89489ced0b54cd7e28e3c1       0     100     100     100     100   \n",
       "e9c6e3f904c96634fd6d65955ad51c0a       0       0       0       0     100   \n",
       "e9da17d80fe1938c7dee8c900352d1e5       0       0       0     100     100   \n",
       "f530fa175c025159cdd33507a7f3d426       0       0       0       0       0   \n",
       "fd54b3aa9768db49cee68803cb7a238c       0       0       0       0       0   \n",
       "\n",
       "                                                                  \n",
       "Month_Subscribed                 2020-05 2020-06 2020-07 2020-08  \n",
       "ACCOUNT_NUM.hash                                                  \n",
       "0f46a3bf356fee36239f081e103da76b     100     100     100     100  \n",
       "1c4c0f12a0352e8aaf58602ecf64e877     450     450     450     450  \n",
       "204773567701102c4acf8fda9eaccfdd     100     100     100     100  \n",
       "21e2a94960106171ac59b4a319087d42     100     100     100     100  \n",
       "2259de9b81a352a02bcddf28bdedde6f     100     100     100     100  \n",
       "25b2c30f24bbd86d7cca43e006f521fa     100     100     100     100  \n",
       "2b1f1161870583f0b5280e0c5d629c78     100     100     100     100  \n",
       "2b60f8ffb99f7932ee00cdd291fb1dd5     100     100     100     100  \n",
       "2c98d4759ee2eca3f2d966be8739c1fa       0       0       0     100  \n",
       "2e0841c32915addc312ba3b08314593e       0       0       0       0  \n",
       "34cbda4698077235df4c2a08ee6f15ee     100     100     100     100  \n",
       "35653265b9dc1fc3aedba120476ef86d     100     100     100     100  \n",
       "41d2c3d7ffdefd4cdfb8227b52bdc37f     450     450     450     450  \n",
       "44224bc1e2e7101c90bbad70dbcc5a6c     100     100     100     100  \n",
       "446b44a4a65b65b4cf09e783683b4df2     100     100       0       0  \n",
       "494de320778db98d7fa1751e8d60064c     100     100     100     100  \n",
       "4ddd3dc2b7a3fe4907f9806fc67ab627       0       0       0       0  \n",
       "52b1c4fc5583a0b8449029dc92eeae45     100     100     100     100  \n",
       "52e7c04d12cb33c77031760584a9586e     100     100     100     100  \n",
       "6184e258fc549e12c235a2bc10ae297e       0       0       0       0  \n",
       "62fb58e7bc8acec8cd1553a9aae5e8b0       0     100     100     100  \n",
       "639eee857314ce7dd39ca7a84eb56529     100     100     100     100  \n",
       "69325672947dfadf5b4eda47157da277     100     100     100     100  \n",
       "69d89537ea9b733dd8295f0a9fed52a4       0    1400     350       0  \n",
       "74e177b0c64177f4c813bd351337b796       0       0       0     100  \n",
       "808b95c7008ba4241493ae938e63012e     100     100     100     100  \n",
       "819cb6072b7f743d7a35d187956afab4     100     100     100     100  \n",
       "90a7ca76033cf7fc3c3cb906f45c401c       0       0       0       0  \n",
       "933cd3394373b1d2929edcaa1974f7a1     100     100     100     100  \n",
       "9d2f5d0f09198069413924db9a10d1c3     100     100     100     100  \n",
       "9fb15a37e248fce31c7d0ed98aaaaaf1     100     100     100     100  \n",
       "a0edde715d1903bd4c50ffad184ee2a4     100     100     100     100  \n",
       "a1a17097950da3f5a53f41a4089a143c       0       0       0       0  \n",
       "a4eebc122a8f3dc2b2cd9bf6420cf008     100       0     200     100  \n",
       "a51b26429dc990ff24dedbcd9316026e     100     100     100     100  \n",
       "bd537f0b4dbc25dea026f9705c43ba03     100     100     100     100  \n",
       "bda07bd430770d8b4936c144e1523473       0       0       0       0  \n",
       "be57dd52a72846ff4d4a505373698f0b     100     100     100     100  \n",
       "c11a5aa14d094a93729db54e84d621ed     100     100     100     100  \n",
       "d0bd2c4614c24ce48b7fc09ff42eb002       0       0       0       0  \n",
       "d54af3961d00eb3e721ce7cc7574e4b4     100     100     100     100  \n",
       "d97bf82713a4a491e6600a4a2368d4fe     100     100     100     100  \n",
       "daa74e4f9afbb374acc64969fe778808     100     100     100     100  \n",
       "dae4c762e2af5a6b09ae61dd64e8a597     100     100     100     100  \n",
       "dda37eaaec4b2895d9681f934ef36e20     100     100     100     100  \n",
       "e7bfef3276f6c0027bb79e98ae7fcdce     100     100     100     100  \n",
       "e98442fafe89489ced0b54cd7e28e3c1     100     100     100     100  \n",
       "e9c6e3f904c96634fd6d65955ad51c0a     100     100     100     100  \n",
       "e9da17d80fe1938c7dee8c900352d1e5     100     100     100     100  \n",
       "f530fa175c025159cdd33507a7f3d426       0    1050     350     350  \n",
       "fd54b3aa9768db49cee68803cb7a238c       0       0       0       0  "
      ]
     },
     "execution_count": 321,
     "metadata": {},
     "output_type": "execute_result"
    }
   ],
   "source": [
    "extra_Peo_pivot_df"
   ]
  },
  {
   "cell_type": "code",
   "execution_count": 322,
   "metadata": {},
   "outputs": [],
   "source": [
    "extra_Peo_pivot_df.to_csv(\"data/user_profile/extra_usage/Peo_extra_Peo_usage_pivot_extended.csv\")"
   ]
  },
  {
   "cell_type": "markdown",
   "metadata": {},
   "source": [
    "#### Insights\n",
    "- 51 Unique customers - extra Channel purchases in moths vary from 2019-07 to 2020-08\n",
    "- No all monthly purchase information"
   ]
  },
  {
   "cell_type": "code",
   "execution_count": null,
   "metadata": {},
   "outputs": [],
   "source": []
  },
  {
   "cell_type": "markdown",
   "metadata": {},
   "source": [
    "## Exporting Package names list"
   ]
  },
  {
   "cell_type": "code",
   "execution_count": 298,
   "metadata": {},
   "outputs": [
    {
     "data": {
      "text/html": [
       "<div>\n",
       "<style scoped>\n",
       "    .dataframe tbody tr th:only-of-type {\n",
       "        vertical-align: middle;\n",
       "    }\n",
       "\n",
       "    .dataframe tbody tr th {\n",
       "        vertical-align: top;\n",
       "    }\n",
       "\n",
       "    .dataframe thead th {\n",
       "        text-align: right;\n",
       "    }\n",
       "</style>\n",
       "<table border=\"1\" class=\"dataframe\">\n",
       "  <thead>\n",
       "    <tr style=\"text-align: right;\">\n",
       "      <th></th>\n",
       "      <th>Package</th>\n",
       "    </tr>\n",
       "  </thead>\n",
       "  <tbody>\n",
       "    <tr>\n",
       "      <th>0</th>\n",
       "      <td>KASP</td>\n",
       "    </tr>\n",
       "    <tr>\n",
       "      <th>1</th>\n",
       "      <td>BB_SLT BroadBand Service</td>\n",
       "    </tr>\n",
       "    <tr>\n",
       "      <th>2</th>\n",
       "      <td>V_SLT Voice Service</td>\n",
       "    </tr>\n",
       "    <tr>\n",
       "      <th>3</th>\n",
       "      <td>AB_WireLess Access</td>\n",
       "    </tr>\n",
       "    <tr>\n",
       "      <th>4</th>\n",
       "      <td>E_SLT PeoTV Service</td>\n",
       "    </tr>\n",
       "    <tr>\n",
       "      <th>...</th>\n",
       "      <td>...</td>\n",
       "    </tr>\n",
       "    <tr>\n",
       "      <th>136</th>\n",
       "      <td>BB Personal Storage</td>\n",
       "    </tr>\n",
       "    <tr>\n",
       "      <th>137</th>\n",
       "      <td>PEO TV Go Basic Package</td>\n",
       "    </tr>\n",
       "    <tr>\n",
       "      <th>138</th>\n",
       "      <td>PEO TV Go VAS</td>\n",
       "    </tr>\n",
       "    <tr>\n",
       "      <th>139</th>\n",
       "      <td>PEO TV Go SVOD</td>\n",
       "    </tr>\n",
       "    <tr>\n",
       "      <th>140</th>\n",
       "      <td>FTTH_Streamer Premium Subscription</td>\n",
       "    </tr>\n",
       "  </tbody>\n",
       "</table>\n",
       "<p>141 rows × 1 columns</p>\n",
       "</div>"
      ],
      "text/plain": [
       "                                Package\n",
       "0                                  KASP\n",
       "1              BB_SLT BroadBand Service\n",
       "2                   V_SLT Voice Service\n",
       "3                    AB_WireLess Access\n",
       "4                   E_SLT PeoTV Service\n",
       "..                                  ...\n",
       "136                 BB Personal Storage\n",
       "137             PEO TV Go Basic Package\n",
       "138                       PEO TV Go VAS\n",
       "139                      PEO TV Go SVOD\n",
       "140  FTTH_Streamer Premium Subscription\n",
       "\n",
       "[141 rows x 1 columns]"
      ]
     },
     "execution_count": 298,
     "metadata": {},
     "output_type": "execute_result"
    }
   ],
   "source": [
    "vas_list = vas_final_df['Package'].unique()\n",
    "vas_list_df = pd.DataFrame({\"Package\":vas_list })\n",
    "vas_list_df"
   ]
  },
  {
   "cell_type": "code",
   "execution_count": 299,
   "metadata": {},
   "outputs": [],
   "source": [
    "vas_list_df.to_csv(\"data/product_catalog/Package_Names_Only_List.csv\")"
   ]
  },
  {
   "cell_type": "code",
   "execution_count": null,
   "metadata": {},
   "outputs": [],
   "source": []
  },
  {
   "cell_type": "markdown",
   "metadata": {},
   "source": [
    "## Exporting Package info Dataset"
   ]
  },
  {
   "cell_type": "code",
   "execution_count": 300,
   "metadata": {},
   "outputs": [
    {
     "name": "stdout",
     "output_type": "stream",
     "text": [
      "<class 'pandas.core.frame.DataFrame'>\n",
      "Int64Index: 437080 entries, 0 to 437079\n",
      "Data columns (total 15 columns):\n",
      " #   Column             Non-Null Count   Dtype \n",
      "---  ------             --------------   ----- \n",
      " 0   ACCOUNT_NUM.hash   437080 non-null  object\n",
      " 1   Package            437080 non-null  object\n",
      " 2   Rental             200829 non-null  object\n",
      " 3   Month_Subscribed   436897 non-null  object\n",
      " 4   PRODUCT_NAME       324059 non-null  object\n",
      " 5   MEDIUM             303727 non-null  object\n",
      " 6   TARIFF_NAME        324059 non-null  object\n",
      " 7   TARIFF_DESC        324059 non-null  object\n",
      " 8   Package_Type       437080 non-null  object\n",
      " 9   Product_Type       312898 non-null  object\n",
      " 10  is_VAS             437080 non-null  object\n",
      " 11  is_Subscription    437080 non-null  object\n",
      " 12  is_Promotion       437080 non-null  object\n",
      " 13  FREE_or_PAID       437080 non-null  object\n",
      " 14  Package_Formatted  437080 non-null  object\n",
      "dtypes: object(15)\n",
      "memory usage: 53.4+ MB\n"
     ]
    }
   ],
   "source": [
    "vas_final_df.info()"
   ]
  },
  {
   "cell_type": "code",
   "execution_count": 302,
   "metadata": {},
   "outputs": [],
   "source": [
    "packages_info_df = vas_final_df[[\"Package\",\"Rental\",\"Package_Type\",\"Product_Type\",\"MEDIUM\",\"TARIFF_NAME\",\"TARIFF_DESC\",\"is_VAS\",\"is_Promotion\",\"is_Subscription\",\"FREE_or_PAID\"]].drop_duplicates([\"Package\"],keep=\"last\")"
   ]
  },
  {
   "cell_type": "code",
   "execution_count": 303,
   "metadata": {},
   "outputs": [],
   "source": [
    "packages_info_df.reset_index(inplace=True)\n",
    "packages_info_df.drop([\"index\"],axis=1, inplace=True)"
   ]
  },
  {
   "cell_type": "code",
   "execution_count": 304,
   "metadata": {},
   "outputs": [
    {
     "name": "stdout",
     "output_type": "stream",
     "text": [
      "<class 'pandas.core.frame.DataFrame'>\n",
      "RangeIndex: 141 entries, 0 to 140\n",
      "Data columns (total 11 columns):\n",
      " #   Column           Non-Null Count  Dtype \n",
      "---  ------           --------------  ----- \n",
      " 0   Package          141 non-null    object\n",
      " 1   Rental           126 non-null    object\n",
      " 2   Package_Type     141 non-null    object\n",
      " 3   Product_Type     35 non-null     object\n",
      " 4   MEDIUM           22 non-null     object\n",
      " 5   TARIFF_NAME      28 non-null     object\n",
      " 6   TARIFF_DESC      28 non-null     object\n",
      " 7   is_VAS           141 non-null    object\n",
      " 8   is_Promotion     141 non-null    object\n",
      " 9   is_Subscription  141 non-null    object\n",
      " 10  FREE_or_PAID     141 non-null    object\n",
      "dtypes: object(11)\n",
      "memory usage: 12.2+ KB\n"
     ]
    }
   ],
   "source": [
    "packages_info_df.info()"
   ]
  },
  {
   "cell_type": "code",
   "execution_count": 305,
   "metadata": {},
   "outputs": [],
   "source": [
    "packages_info_df.to_csv(\"data/product_catalog/Packages_Info.csv\")"
   ]
  },
  {
   "cell_type": "code",
   "execution_count": null,
   "metadata": {},
   "outputs": [],
   "source": []
  },
  {
   "cell_type": "markdown",
   "metadata": {},
   "source": [
    "## Exporting VAS aggregated DataFrame"
   ]
  },
  {
   "cell_type": "code",
   "execution_count": 331,
   "metadata": {},
   "outputs": [],
   "source": [
    "vas_final_df.drop_duplicates([\"ACCOUNT_NUM.hash\",\"Package\"],inplace=True,keep=\"last\")"
   ]
  },
  {
   "cell_type": "code",
   "execution_count": 332,
   "metadata": {},
   "outputs": [
    {
     "data": {
      "text/plain": [
       "ACCOUNT_NUM.hash        0\n",
       "Package                 1\n",
       "Month_Subscribed        0\n",
       "Rental              11867\n",
       "One_Time_Charge     14707\n",
       "MEDIUM               3603\n",
       "TARIFF_NAME          3603\n",
       "TARIFF_DESC          3603\n",
       "Package_Type            1\n",
       "Product_Type         3497\n",
       "is_VAS                  1\n",
       "is_Subscription         1\n",
       "FREE_or_PAID            1\n",
       "dtype: int64"
      ]
     },
     "execution_count": 332,
     "metadata": {},
     "output_type": "execute_result"
    }
   ],
   "source": [
    "vas_final_df.isnull().sum(axis=0)"
   ]
  },
  {
   "cell_type": "markdown",
   "metadata": {},
   "source": [
    "#### PAID All Packages"
   ]
  },
  {
   "cell_type": "code",
   "execution_count": 306,
   "metadata": {},
   "outputs": [],
   "source": [
    "# paid_pack_df = vas_final_df[(vas_final_df[\"FREE_or_PAID\"]==\"PAID\")].groupby('ACCOUNT_NUM.hash') \\\n",
    "#             .agg({'Package': lambda x: list(x[x.notna()]),\n",
    "#                   'Month_Subscribed': lambda x: list(x[x.notna()]),\n",
    "#                   'Rental': lambda x: list(x[x.notna()]),\n",
    "#                   'One_Time_Charge': lambda x: list(x[x.notna()]),\n",
    "#                   'Package_Type': lambda x: list(x[x.notna()]),\n",
    "#                   'Product_Type': lambda x: list(x[x.notna()]),\n",
    "#                   'MEDIUM': lambda x: list(x[x.notna()]),\n",
    "#                   'is_VAS': lambda x: list(x[x.notna()]),\n",
    "#                   'is_Subscription': lambda x: list(x[x.notna()]),\n",
    "#                   'is_Promotion': lambda x: list(x[x.notna()])\n",
    "#                  }).reset_index()"
   ]
  },
  {
   "cell_type": "code",
   "execution_count": 307,
   "metadata": {},
   "outputs": [],
   "source": [
    "# paid_pack_df.info()"
   ]
  },
  {
   "cell_type": "markdown",
   "metadata": {},
   "source": [
    "### PAID VAS"
   ]
  },
  {
   "cell_type": "code",
   "execution_count": 309,
   "metadata": {},
   "outputs": [],
   "source": [
    "paid_vas_df = vas_final_df[((vas_final_df[\"FREE_or_PAID\"]==\"PAID\") & (vas_final_df[\"is_VAS\"]==\"YES\"))].groupby('ACCOUNT_NUM.hash') \\\n",
    "            .agg({'Package': lambda x: list(x[x.notna()]),\n",
    "                  'Month_Subscribed': lambda x: list(x[x.notna()]),\n",
    "                  'Rental': lambda x: list(x[x.notna()]),\n",
    "                  'Package_Type': lambda x: list(x[x.notna()]),\n",
    "                  'Product_Type': lambda x: list(x[x.notna()]),\n",
    "                  'MEDIUM': lambda x: list(x[x.notna()]),\n",
    "                 }).reset_index()"
   ]
  },
  {
   "cell_type": "code",
   "execution_count": 310,
   "metadata": {},
   "outputs": [
    {
     "name": "stdout",
     "output_type": "stream",
     "text": [
      "<class 'pandas.core.frame.DataFrame'>\n",
      "RangeIndex: 34667 entries, 0 to 34666\n",
      "Data columns (total 7 columns):\n",
      " #   Column            Non-Null Count  Dtype \n",
      "---  ------            --------------  ----- \n",
      " 0   ACCOUNT_NUM.hash  34667 non-null  object\n",
      " 1   Package           34667 non-null  object\n",
      " 2   Month_Subscribed  34667 non-null  object\n",
      " 3   Rental            34667 non-null  object\n",
      " 4   Package_Type      34667 non-null  object\n",
      " 5   Product_Type      34667 non-null  object\n",
      " 6   MEDIUM            34667 non-null  object\n",
      "dtypes: object(7)\n",
      "memory usage: 1.9+ MB\n"
     ]
    }
   ],
   "source": [
    "paid_vas_df.info()"
   ]
  },
  {
   "cell_type": "code",
   "execution_count": 311,
   "metadata": {},
   "outputs": [],
   "source": [
    "paid_vas_df.to_csv(\"data/user_profile/Paid_Vas_Packages.csv\")"
   ]
  },
  {
   "cell_type": "code",
   "execution_count": null,
   "metadata": {},
   "outputs": [],
   "source": []
  },
  {
   "cell_type": "markdown",
   "metadata": {},
   "source": [
    "### Categorized Package Dataset"
   ]
  },
  {
   "cell_type": "code",
   "execution_count": 312,
   "metadata": {},
   "outputs": [],
   "source": [
    "megaline_package_df = vas_final_df[((vas_final_df[\"is_Subscription\"]==\"YES\") &  (vas_final_df[\"Product_Type\"]==\"Megaline\"))].groupby('ACCOUNT_NUM.hash') \\\n",
    "            .agg({'Package': lambda x: list(x[x.notna()]),\n",
    "                  'Month_Subscribed': lambda x: list(x[x.notna()]),\n",
    "                  'Rental': lambda x: list(x[x.notna()]),\n",
    "                  'Package_Type': lambda x: list(x[x.notna()]),\n",
    "                  'MEDIUM': lambda x: list(x[x.notna()]),\n",
    "                  'is_Subscription': lambda x: list(x[x.notna()]),\n",
    "                  'is_Promotion': lambda x: list(x[x.notna()]),\n",
    "                 }).reset_index()"
   ]
  },
  {
   "cell_type": "code",
   "execution_count": 313,
   "metadata": {},
   "outputs": [],
   "source": [
    "megaline_package_df.rename(columns={\"Package\":\"Megaline_Package\",\"Month_Subscribed\":\"Megaline_Month_Subscribed\",\\\n",
    "                               \"Rental\":\"Megaline_Rental\"},inplace=True)"
   ]
  },
  {
   "cell_type": "code",
   "execution_count": 314,
   "metadata": {},
   "outputs": [
    {
     "name": "stdout",
     "output_type": "stream",
     "text": [
      "<class 'pandas.core.frame.DataFrame'>\n",
      "RangeIndex: 80760 entries, 0 to 80759\n",
      "Data columns (total 8 columns):\n",
      " #   Column                     Non-Null Count  Dtype \n",
      "---  ------                     --------------  ----- \n",
      " 0   ACCOUNT_NUM.hash           80760 non-null  object\n",
      " 1   Megaline_Package           80760 non-null  object\n",
      " 2   Megaline_Month_Subscribed  80760 non-null  object\n",
      " 3   Megaline_Rental            80760 non-null  object\n",
      " 4   Package_Type               80760 non-null  object\n",
      " 5   MEDIUM                     80760 non-null  object\n",
      " 6   is_Subscription            80760 non-null  object\n",
      " 7   is_Promotion               80760 non-null  object\n",
      "dtypes: object(8)\n",
      "memory usage: 4.9+ MB\n"
     ]
    }
   ],
   "source": [
    "megaline_package_df.info()"
   ]
  },
  {
   "cell_type": "code",
   "execution_count": 315,
   "metadata": {},
   "outputs": [],
   "source": [
    "megaline_package_df.to_csv(\"data/user_profile/Megaline_Packages.csv\")"
   ]
  },
  {
   "cell_type": "code",
   "execution_count": 316,
   "metadata": {},
   "outputs": [],
   "source": [
    "ftth_package_df = vas_final_df[((vas_final_df[\"is_Subscription\"]==\"YES\") &  (vas_final_df[\"Product_Type\"]==\"FTTH\"))].groupby('ACCOUNT_NUM.hash') \\\n",
    "            .agg({'Package': lambda x: list(x[x.notna()]),\n",
    "                  'Month_Subscribed': lambda x: list(x[x.notna()]),\n",
    "                  'Rental': lambda x: list(x[x.notna()]),\n",
    "                  'Package_Type': lambda x: list(x[x.notna()]),\n",
    "                  'MEDIUM': lambda x: list(x[x.notna()]),\n",
    "                  'is_Subscription': lambda x: list(x[x.notna()]),\n",
    "                  'is_Promotion': lambda x: list(x[x.notna()]),\n",
    "                 }).reset_index()"
   ]
  },
  {
   "cell_type": "code",
   "execution_count": 317,
   "metadata": {},
   "outputs": [],
   "source": [
    "ftth_package_df.rename(columns={\"Package\":\"FTTH_Package\",\"Month_Subscribed\":\"FTTH_Month_Subscribed\",\\\n",
    "                               \"Rental\":\"FTTH_Rental\"},inplace=True)"
   ]
  },
  {
   "cell_type": "code",
   "execution_count": 318,
   "metadata": {},
   "outputs": [
    {
     "name": "stdout",
     "output_type": "stream",
     "text": [
      "<class 'pandas.core.frame.DataFrame'>\n",
      "RangeIndex: 8421 entries, 0 to 8420\n",
      "Data columns (total 8 columns):\n",
      " #   Column                 Non-Null Count  Dtype \n",
      "---  ------                 --------------  ----- \n",
      " 0   ACCOUNT_NUM.hash       8421 non-null   object\n",
      " 1   FTTH_Package           8421 non-null   object\n",
      " 2   FTTH_Month_Subscribed  8421 non-null   object\n",
      " 3   FTTH_Rental            8421 non-null   object\n",
      " 4   Package_Type           8421 non-null   object\n",
      " 5   MEDIUM                 8421 non-null   object\n",
      " 6   is_Subscription        8421 non-null   object\n",
      " 7   is_Promotion           8421 non-null   object\n",
      "dtypes: object(8)\n",
      "memory usage: 526.4+ KB\n"
     ]
    }
   ],
   "source": [
    "ftth_package_df.info()"
   ]
  },
  {
   "cell_type": "code",
   "execution_count": 319,
   "metadata": {},
   "outputs": [],
   "source": [
    "ftth_package_df.to_csv(\"data/user_profile/FTTH_Packages.csv\")"
   ]
  },
  {
   "cell_type": "code",
   "execution_count": null,
   "metadata": {},
   "outputs": [],
   "source": []
  },
  {
   "cell_type": "markdown",
   "metadata": {},
   "source": [
    "## Subscription Promotion Upgrade Downgrade orders"
   ]
  },
  {
   "cell_type": "code",
   "execution_count": 346,
   "metadata": {},
   "outputs": [],
   "source": [
    "promotion_df = pd.read_excel(\"data/new/Promotion_Upgrade_Dates.xls\")  "
   ]
  },
  {
   "cell_type": "code",
   "execution_count": 347,
   "metadata": {},
   "outputs": [],
   "source": [
    "promotion_df =promotion_df[[\"ACCOUNT_NUM.hash\",\"MAX_DSP\",\"ORDER_CONDITION\",\"ADDING_PROMO\",\"Deleting_PROMO\",\"Updating_PROMO\"]]"
   ]
  },
  {
   "cell_type": "code",
   "execution_count": 348,
   "metadata": {},
   "outputs": [
    {
     "name": "stdout",
     "output_type": "stream",
     "text": [
      "<class 'pandas.core.frame.DataFrame'>\n",
      "RangeIndex: 1496 entries, 0 to 1495\n",
      "Data columns (total 6 columns):\n",
      " #   Column            Non-Null Count  Dtype \n",
      "---  ------            --------------  ----- \n",
      " 0   ACCOUNT_NUM.hash  1496 non-null   object\n",
      " 1   MAX_DSP           1495 non-null   object\n",
      " 2   ORDER_CONDITION   1496 non-null   object\n",
      " 3   ADDING_PROMO      1467 non-null   object\n",
      " 4   Deleting_PROMO    1467 non-null   object\n",
      " 5   Updating_PROMO    5 non-null      object\n",
      "dtypes: object(6)\n",
      "memory usage: 70.2+ KB\n"
     ]
    }
   ],
   "source": [
    "promotion_df.info()"
   ]
  },
  {
   "cell_type": "markdown",
   "metadata": {},
   "source": [
    "### Exporting customer - subscription dataset"
   ]
  },
  {
   "cell_type": "code",
   "execution_count": 349,
   "metadata": {},
   "outputs": [],
   "source": [
    "sub_df = promotion_df[[\"ACCOUNT_NUM.hash\",\"ADDING_PROMO\"]]"
   ]
  },
  {
   "cell_type": "code",
   "execution_count": 350,
   "metadata": {},
   "outputs": [
    {
     "name": "stderr",
     "output_type": "stream",
     "text": [
      "C:\\ProgramData\\Anaconda3\\lib\\site-packages\\pandas\\core\\frame.py:4441: SettingWithCopyWarning: \n",
      "A value is trying to be set on a copy of a slice from a DataFrame\n",
      "\n",
      "See the caveats in the documentation: https://pandas.pydata.org/pandas-docs/stable/user_guide/indexing.html#returning-a-view-versus-a-copy\n",
      "  return super().rename(\n"
     ]
    }
   ],
   "source": [
    "sub_df.rename(columns={\"ADDING_PROMO\":\"Subscription\"}, inplace=True)"
   ]
  },
  {
   "cell_type": "code",
   "execution_count": 351,
   "metadata": {},
   "outputs": [
    {
     "data": {
      "text/plain": [
       "array(['SLT Megaline Double Play (PV) Package',\n",
       "       'SLT Megaline Triple Play Package',\n",
       "       'SLT Megaline Single Play Package',\n",
       "       'SLT Megaline Double Play (BV) Package', nan,\n",
       "       'SLT Smartline Triple Play', 'SLT LTE Double Play Package',\n",
       "       'SLT LTE 4G Biz Pal Package', 'SLT Smartline Double Play (PV)',\n",
       "       'SLT LTE 4G Net Pal Package', 'SLT LTE 4G Voice Pal Basic Package',\n",
       "       'SLT Smartline Double Play (BV)'], dtype=object)"
      ]
     },
     "execution_count": 351,
     "metadata": {},
     "output_type": "execute_result"
    }
   ],
   "source": [
    "sub_df[\"Subscription\"].unique()"
   ]
  },
  {
   "cell_type": "code",
   "execution_count": 352,
   "metadata": {},
   "outputs": [
    {
     "data": {
      "text/plain": [
       "ACCOUNT_NUM.hash     0\n",
       "Subscription        29\n",
       "dtype: int64"
      ]
     },
     "execution_count": 352,
     "metadata": {},
     "output_type": "execute_result"
    }
   ],
   "source": [
    "sub_df.isnull().sum(axis=0)"
   ]
  },
  {
   "cell_type": "code",
   "execution_count": 353,
   "metadata": {},
   "outputs": [
    {
     "name": "stderr",
     "output_type": "stream",
     "text": [
      "<ipython-input-353-127880e692ed>:1: SettingWithCopyWarning: \n",
      "A value is trying to be set on a copy of a slice from a DataFrame\n",
      "\n",
      "See the caveats in the documentation: https://pandas.pydata.org/pandas-docs/stable/user_guide/indexing.html#returning-a-view-versus-a-copy\n",
      "  sub_df.dropna(inplace=True)\n"
     ]
    }
   ],
   "source": [
    "sub_df.dropna(inplace=True)"
   ]
  },
  {
   "cell_type": "code",
   "execution_count": 354,
   "metadata": {},
   "outputs": [],
   "source": [
    "def sub_type(sub):\n",
    "    if \"Single Play\" in sub:\n",
    "        return \"SINGLE_PLAY\"\n",
    "    if \"Triple Play\" in sub:\n",
    "        return \"TRIPLE_PLAY\"\n",
    "    if \"Double Play (PV)\" in sub:\n",
    "        return \"DOUBLE_PLAY_PV\"\n",
    "    if \"Double Play (BV)\" in sub or \"LTE Double Play\" in sub:\n",
    "        return \"DOUBLE_PLAY_BV\"\n",
    "    if \"LTE 4G\" in sub:\n",
    "        return \"4G\""
   ]
  },
  {
   "cell_type": "code",
   "execution_count": 355,
   "metadata": {},
   "outputs": [
    {
     "name": "stderr",
     "output_type": "stream",
     "text": [
      "<ipython-input-355-96b5985bec8f>:1: SettingWithCopyWarning: \n",
      "A value is trying to be set on a copy of a slice from a DataFrame.\n",
      "Try using .loc[row_indexer,col_indexer] = value instead\n",
      "\n",
      "See the caveats in the documentation: https://pandas.pydata.org/pandas-docs/stable/user_guide/indexing.html#returning-a-view-versus-a-copy\n",
      "  sub_df[\"Sub_Type\"] = sub_df[\"Subscription\"].apply(lambda x: sub_type(x))\n"
     ]
    }
   ],
   "source": [
    "sub_df[\"Sub_Type\"] = sub_df[\"Subscription\"].apply(lambda x: sub_type(x))"
   ]
  },
  {
   "cell_type": "code",
   "execution_count": 356,
   "metadata": {},
   "outputs": [
    {
     "data": {
      "text/plain": [
       "TRIPLE_PLAY       491\n",
       "DOUBLE_PLAY_PV    347\n",
       "SINGLE_PLAY       323\n",
       "DOUBLE_PLAY_BV    303\n",
       "4G                  3\n",
       "Name: Sub_Type, dtype: int64"
      ]
     },
     "execution_count": 356,
     "metadata": {},
     "output_type": "execute_result"
    }
   ],
   "source": [
    "sub_df[\"Sub_Type\"].value_counts()"
   ]
  },
  {
   "cell_type": "code",
   "execution_count": 357,
   "metadata": {},
   "outputs": [],
   "source": [
    "# Mapping phone number\n",
    "#sub_df = sub_df.merge(acc_no_map,how='left',on=[\"ACCOUNT_NUM.hash\",\"CUSTOMER_REF.hash\"])"
   ]
  },
  {
   "cell_type": "code",
   "execution_count": 358,
   "metadata": {},
   "outputs": [
    {
     "name": "stderr",
     "output_type": "stream",
     "text": [
      "<ipython-input-358-d04fce7a5ea2>:1: SettingWithCopyWarning: \n",
      "A value is trying to be set on a copy of a slice from a DataFrame\n",
      "\n",
      "See the caveats in the documentation: https://pandas.pydata.org/pandas-docs/stable/user_guide/indexing.html#returning-a-view-versus-a-copy\n",
      "  sub_df.drop_duplicates([\"ACCOUNT_NUM.hash\"],inplace=True,keep=\"last\")\n",
      "C:\\ProgramData\\Anaconda3\\lib\\site-packages\\pandas\\core\\frame.py:4308: SettingWithCopyWarning: \n",
      "A value is trying to be set on a copy of a slice from a DataFrame\n",
      "\n",
      "See the caveats in the documentation: https://pandas.pydata.org/pandas-docs/stable/user_guide/indexing.html#returning-a-view-versus-a-copy\n",
      "  return super().drop(\n"
     ]
    },
    {
     "data": {
      "text/html": [
       "<div>\n",
       "<style scoped>\n",
       "    .dataframe tbody tr th:only-of-type {\n",
       "        vertical-align: middle;\n",
       "    }\n",
       "\n",
       "    .dataframe tbody tr th {\n",
       "        vertical-align: top;\n",
       "    }\n",
       "\n",
       "    .dataframe thead th {\n",
       "        text-align: right;\n",
       "    }\n",
       "</style>\n",
       "<table border=\"1\" class=\"dataframe\">\n",
       "  <thead>\n",
       "    <tr style=\"text-align: right;\">\n",
       "      <th></th>\n",
       "      <th>ACCOUNT_NUM.hash</th>\n",
       "      <th>Subscription</th>\n",
       "      <th>Sub_Type</th>\n",
       "    </tr>\n",
       "  </thead>\n",
       "  <tbody>\n",
       "    <tr>\n",
       "      <th>0</th>\n",
       "      <td>719f2691cdcfa7bf910e12d8ed681430</td>\n",
       "      <td>SLT Megaline Triple Play Package</td>\n",
       "      <td>TRIPLE_PLAY</td>\n",
       "    </tr>\n",
       "    <tr>\n",
       "      <th>1</th>\n",
       "      <td>3c1fb4f1735abdecb81d29a5e14bad63</td>\n",
       "      <td>SLT Megaline Single Play Package</td>\n",
       "      <td>SINGLE_PLAY</td>\n",
       "    </tr>\n",
       "    <tr>\n",
       "      <th>2</th>\n",
       "      <td>9f95d9c107a917925ad9cee2d99725ac</td>\n",
       "      <td>SLT Megaline Triple Play Package</td>\n",
       "      <td>TRIPLE_PLAY</td>\n",
       "    </tr>\n",
       "    <tr>\n",
       "      <th>3</th>\n",
       "      <td>f64edbf9398b281de0b4a75c6022e724</td>\n",
       "      <td>SLT Megaline Single Play Package</td>\n",
       "      <td>SINGLE_PLAY</td>\n",
       "    </tr>\n",
       "    <tr>\n",
       "      <th>4</th>\n",
       "      <td>c4cdbf78ef3d51bc7877a0ad444bd245</td>\n",
       "      <td>SLT Megaline Triple Play Package</td>\n",
       "      <td>TRIPLE_PLAY</td>\n",
       "    </tr>\n",
       "    <tr>\n",
       "      <th>...</th>\n",
       "      <td>...</td>\n",
       "      <td>...</td>\n",
       "      <td>...</td>\n",
       "    </tr>\n",
       "    <tr>\n",
       "      <th>763</th>\n",
       "      <td>2c98d4759ee2eca3f2d966be8739c1fa</td>\n",
       "      <td>SLT Megaline Triple Play Package</td>\n",
       "      <td>TRIPLE_PLAY</td>\n",
       "    </tr>\n",
       "    <tr>\n",
       "      <th>764</th>\n",
       "      <td>1b90f00af43142138b9b33bb1cbf00dd</td>\n",
       "      <td>SLT Megaline Single Play Package</td>\n",
       "      <td>SINGLE_PLAY</td>\n",
       "    </tr>\n",
       "    <tr>\n",
       "      <th>765</th>\n",
       "      <td>5dca0a71aafae66d0aa373f80d97edeb</td>\n",
       "      <td>SLT Megaline Triple Play Package</td>\n",
       "      <td>TRIPLE_PLAY</td>\n",
       "    </tr>\n",
       "    <tr>\n",
       "      <th>766</th>\n",
       "      <td>3c51761a6fb0afadf335a01400591b19</td>\n",
       "      <td>SLT Megaline Double Play (PV) Package</td>\n",
       "      <td>DOUBLE_PLAY_PV</td>\n",
       "    </tr>\n",
       "    <tr>\n",
       "      <th>767</th>\n",
       "      <td>0e1fe0d01f3a2e9619999a1a634ec427</td>\n",
       "      <td>SLT Megaline Double Play (PV) Package</td>\n",
       "      <td>DOUBLE_PLAY_PV</td>\n",
       "    </tr>\n",
       "  </tbody>\n",
       "</table>\n",
       "<p>768 rows × 3 columns</p>\n",
       "</div>"
      ],
      "text/plain": [
       "                     ACCOUNT_NUM.hash                           Subscription  \\\n",
       "0    719f2691cdcfa7bf910e12d8ed681430       SLT Megaline Triple Play Package   \n",
       "1    3c1fb4f1735abdecb81d29a5e14bad63       SLT Megaline Single Play Package   \n",
       "2    9f95d9c107a917925ad9cee2d99725ac       SLT Megaline Triple Play Package   \n",
       "3    f64edbf9398b281de0b4a75c6022e724       SLT Megaline Single Play Package   \n",
       "4    c4cdbf78ef3d51bc7877a0ad444bd245       SLT Megaline Triple Play Package   \n",
       "..                                ...                                    ...   \n",
       "763  2c98d4759ee2eca3f2d966be8739c1fa       SLT Megaline Triple Play Package   \n",
       "764  1b90f00af43142138b9b33bb1cbf00dd       SLT Megaline Single Play Package   \n",
       "765  5dca0a71aafae66d0aa373f80d97edeb       SLT Megaline Triple Play Package   \n",
       "766  3c51761a6fb0afadf335a01400591b19  SLT Megaline Double Play (PV) Package   \n",
       "767  0e1fe0d01f3a2e9619999a1a634ec427  SLT Megaline Double Play (PV) Package   \n",
       "\n",
       "           Sub_Type  \n",
       "0       TRIPLE_PLAY  \n",
       "1       SINGLE_PLAY  \n",
       "2       TRIPLE_PLAY  \n",
       "3       SINGLE_PLAY  \n",
       "4       TRIPLE_PLAY  \n",
       "..              ...  \n",
       "763     TRIPLE_PLAY  \n",
       "764     SINGLE_PLAY  \n",
       "765     TRIPLE_PLAY  \n",
       "766  DOUBLE_PLAY_PV  \n",
       "767  DOUBLE_PLAY_PV  \n",
       "\n",
       "[768 rows x 3 columns]"
      ]
     },
     "execution_count": 358,
     "metadata": {},
     "output_type": "execute_result"
    }
   ],
   "source": [
    "sub_df.drop_duplicates([\"ACCOUNT_NUM.hash\"],inplace=True,keep=\"last\")\n",
    "sub_df.reset_index(inplace=True)\n",
    "sub_df.drop([\"index\"],axis=1,inplace=True)\n",
    "sub_df = sub_df[[\"ACCOUNT_NUM.hash\",\"Subscription\",\"Sub_Type\"]]\n",
    "sub_df"
   ]
  },
  {
   "cell_type": "code",
   "execution_count": 359,
   "metadata": {},
   "outputs": [
    {
     "data": {
      "text/plain": [
       "ACCOUNT_NUM.hash    0\n",
       "Subscription        0\n",
       "Sub_Type            0\n",
       "dtype: int64"
      ]
     },
     "execution_count": 359,
     "metadata": {},
     "output_type": "execute_result"
    }
   ],
   "source": [
    "sub_df.isnull().sum(axis=0)"
   ]
  },
  {
   "cell_type": "code",
   "execution_count": 360,
   "metadata": {},
   "outputs": [],
   "source": [
    "sub_df.to_csv(\"data/user_profile/User_Subscription_Map.csv\")"
   ]
  },
  {
   "cell_type": "markdown",
   "metadata": {},
   "source": [
    "### Note:\n",
    "- Only actual information present for **768** users"
   ]
  },
  {
   "cell_type": "code",
   "execution_count": null,
   "metadata": {},
   "outputs": [],
   "source": []
  },
  {
   "cell_type": "markdown",
   "metadata": {},
   "source": [
    "## Subscription Upgrades and Downgrades"
   ]
  },
  {
   "cell_type": "code",
   "execution_count": 361,
   "metadata": {},
   "outputs": [],
   "source": [
    "promo_change_df = promotion_df[[\"ACCOUNT_NUM.hash\",\"MAX_DSP\",\"ORDER_CONDITION\",\"Deleting_PROMO\",\"ADDING_PROMO\"]].merge(acc_no_map,how='left',on=[\"ACCOUNT_NUM.hash\"])"
   ]
  },
  {
   "cell_type": "code",
   "execution_count": 362,
   "metadata": {},
   "outputs": [],
   "source": [
    "promo_change_df.drop_duplicates([\"ACCOUNT_NUM.hash\"],inplace=True)\n",
    "promo_change_df.reset_index(inplace=True)\n",
    "promo_change_df.drop([\"index\"],axis=1,inplace=True)\n",
    "promo_change_df.rename(columns={\"MAX_DSP\":\"Sub_Update_Date\",\"ORDER_CONDITION\":\"Sub_Update_Status\",\"Deleting_PROMO\":\"Sub_Removed\",\"ADDING_PROMO\":\"Sub_Added\"},inplace=True)"
   ]
  },
  {
   "cell_type": "code",
   "execution_count": 363,
   "metadata": {},
   "outputs": [
    {
     "data": {
      "text/html": [
       "<div>\n",
       "<style scoped>\n",
       "    .dataframe tbody tr th:only-of-type {\n",
       "        vertical-align: middle;\n",
       "    }\n",
       "\n",
       "    .dataframe tbody tr th {\n",
       "        vertical-align: top;\n",
       "    }\n",
       "\n",
       "    .dataframe thead th {\n",
       "        text-align: right;\n",
       "    }\n",
       "</style>\n",
       "<table border=\"1\" class=\"dataframe\">\n",
       "  <thead>\n",
       "    <tr style=\"text-align: right;\">\n",
       "      <th></th>\n",
       "      <th>ACCOUNT_NUM.hash</th>\n",
       "      <th>Sub_Update_Date</th>\n",
       "      <th>Sub_Update_Status</th>\n",
       "      <th>Sub_Added</th>\n",
       "      <th>Sub_Removed</th>\n",
       "    </tr>\n",
       "  </thead>\n",
       "  <tbody>\n",
       "    <tr>\n",
       "      <th>0</th>\n",
       "      <td>59322724d5029e5667d19ae164cdc16d</td>\n",
       "      <td>26/06/2020 15:24:00</td>\n",
       "      <td>Promotion Upgrade</td>\n",
       "      <td>SLT Megaline Double Play (PV) Package</td>\n",
       "      <td>SLT Megaline Single Play Package</td>\n",
       "    </tr>\n",
       "    <tr>\n",
       "      <th>1</th>\n",
       "      <td>719f2691cdcfa7bf910e12d8ed681430</td>\n",
       "      <td>22/06/2020 10:59:00</td>\n",
       "      <td>Promotion Upgrade</td>\n",
       "      <td>SLT Megaline Triple Play Package</td>\n",
       "      <td>SLT Megaline Double Play (PV) Package</td>\n",
       "    </tr>\n",
       "    <tr>\n",
       "      <th>2</th>\n",
       "      <td>0e1fe0d01f3a2e9619999a1a634ec427</td>\n",
       "      <td>29/07/2020 20:03:17</td>\n",
       "      <td>Promotion Upgrade</td>\n",
       "      <td>SLT Megaline Double Play (PV) Package</td>\n",
       "      <td>SLT Megaline Single Play Package</td>\n",
       "    </tr>\n",
       "    <tr>\n",
       "      <th>3</th>\n",
       "      <td>3c1fb4f1735abdecb81d29a5e14bad63</td>\n",
       "      <td>22/06/2020 13:20:00</td>\n",
       "      <td>Promotion Downgrade</td>\n",
       "      <td>SLT Megaline Single Play Package</td>\n",
       "      <td>SLT Megaline Double Play (BV) Package</td>\n",
       "    </tr>\n",
       "    <tr>\n",
       "      <th>4</th>\n",
       "      <td>06623c7ba64331f615ff83c5664b71bb</td>\n",
       "      <td>24/06/2020 08:27:00</td>\n",
       "      <td>Promotion Upgrade</td>\n",
       "      <td>SLT Megaline Double Play (BV) Package</td>\n",
       "      <td>SLT Megaline Single Play Package</td>\n",
       "    </tr>\n",
       "    <tr>\n",
       "      <th>...</th>\n",
       "      <td>...</td>\n",
       "      <td>...</td>\n",
       "      <td>...</td>\n",
       "      <td>...</td>\n",
       "      <td>...</td>\n",
       "    </tr>\n",
       "    <tr>\n",
       "      <th>770</th>\n",
       "      <td>9f66b173f3d7d7b34f6f0d3de6d02a2e</td>\n",
       "      <td>08/09/2020 13:56:00</td>\n",
       "      <td>Promotion Upgrade</td>\n",
       "      <td>SLT Megaline Triple Play Package</td>\n",
       "      <td>SLT Megaline Double Play (PV) Package</td>\n",
       "    </tr>\n",
       "    <tr>\n",
       "      <th>771</th>\n",
       "      <td>5cedf96edfc7db66c38050881ba3edf0</td>\n",
       "      <td>28/01/2020 15:52:59</td>\n",
       "      <td>Promotion Upgrade</td>\n",
       "      <td>SLT Megaline Triple Play Package</td>\n",
       "      <td>SLT Megaline Double Play (PV) Package</td>\n",
       "    </tr>\n",
       "    <tr>\n",
       "      <th>772</th>\n",
       "      <td>7aa8c0a144b14c0d37d9b50e420c4773</td>\n",
       "      <td>05/02/2020 18:21:00</td>\n",
       "      <td>Promotion Upgrade</td>\n",
       "      <td>SLT Megaline Triple Play Package</td>\n",
       "      <td>SLT Megaline Single Play Package</td>\n",
       "    </tr>\n",
       "    <tr>\n",
       "      <th>773</th>\n",
       "      <td>1b90f00af43142138b9b33bb1cbf00dd</td>\n",
       "      <td>29/01/2020 12:34:00</td>\n",
       "      <td>Promotion Downgrade</td>\n",
       "      <td>SLT Megaline Single Play Package</td>\n",
       "      <td>SLT Megaline Double Play (BV) Package</td>\n",
       "    </tr>\n",
       "    <tr>\n",
       "      <th>774</th>\n",
       "      <td>3c51761a6fb0afadf335a01400591b19</td>\n",
       "      <td>29/01/2020 12:54:25</td>\n",
       "      <td>Promotion Downgrade</td>\n",
       "      <td>SLT Megaline Double Play (PV) Package</td>\n",
       "      <td>SLT Megaline Triple Play Package</td>\n",
       "    </tr>\n",
       "  </tbody>\n",
       "</table>\n",
       "<p>775 rows × 5 columns</p>\n",
       "</div>"
      ],
      "text/plain": [
       "                     ACCOUNT_NUM.hash      Sub_Update_Date  \\\n",
       "0    59322724d5029e5667d19ae164cdc16d  26/06/2020 15:24:00   \n",
       "1    719f2691cdcfa7bf910e12d8ed681430  22/06/2020 10:59:00   \n",
       "2    0e1fe0d01f3a2e9619999a1a634ec427  29/07/2020 20:03:17   \n",
       "3    3c1fb4f1735abdecb81d29a5e14bad63  22/06/2020 13:20:00   \n",
       "4    06623c7ba64331f615ff83c5664b71bb  24/06/2020 08:27:00   \n",
       "..                                ...                  ...   \n",
       "770  9f66b173f3d7d7b34f6f0d3de6d02a2e  08/09/2020 13:56:00   \n",
       "771  5cedf96edfc7db66c38050881ba3edf0  28/01/2020 15:52:59   \n",
       "772  7aa8c0a144b14c0d37d9b50e420c4773  05/02/2020 18:21:00   \n",
       "773  1b90f00af43142138b9b33bb1cbf00dd  29/01/2020 12:34:00   \n",
       "774  3c51761a6fb0afadf335a01400591b19  29/01/2020 12:54:25   \n",
       "\n",
       "       Sub_Update_Status                              Sub_Added  \\\n",
       "0      Promotion Upgrade  SLT Megaline Double Play (PV) Package   \n",
       "1      Promotion Upgrade       SLT Megaline Triple Play Package   \n",
       "2      Promotion Upgrade  SLT Megaline Double Play (PV) Package   \n",
       "3    Promotion Downgrade       SLT Megaline Single Play Package   \n",
       "4      Promotion Upgrade  SLT Megaline Double Play (BV) Package   \n",
       "..                   ...                                    ...   \n",
       "770    Promotion Upgrade       SLT Megaline Triple Play Package   \n",
       "771    Promotion Upgrade       SLT Megaline Triple Play Package   \n",
       "772    Promotion Upgrade       SLT Megaline Triple Play Package   \n",
       "773  Promotion Downgrade       SLT Megaline Single Play Package   \n",
       "774  Promotion Downgrade  SLT Megaline Double Play (PV) Package   \n",
       "\n",
       "                               Sub_Removed  \n",
       "0         SLT Megaline Single Play Package  \n",
       "1    SLT Megaline Double Play (PV) Package  \n",
       "2         SLT Megaline Single Play Package  \n",
       "3    SLT Megaline Double Play (BV) Package  \n",
       "4         SLT Megaline Single Play Package  \n",
       "..                                     ...  \n",
       "770  SLT Megaline Double Play (PV) Package  \n",
       "771  SLT Megaline Double Play (PV) Package  \n",
       "772       SLT Megaline Single Play Package  \n",
       "773  SLT Megaline Double Play (BV) Package  \n",
       "774       SLT Megaline Triple Play Package  \n",
       "\n",
       "[775 rows x 5 columns]"
      ]
     },
     "execution_count": 363,
     "metadata": {},
     "output_type": "execute_result"
    }
   ],
   "source": [
    "promo_change_df = promo_change_df[[\"ACCOUNT_NUM.hash\",\"Sub_Update_Date\",\"Sub_Update_Status\",\"Sub_Added\",\"Sub_Removed\"]]\n",
    "promo_change_df"
   ]
  },
  {
   "cell_type": "code",
   "execution_count": 364,
   "metadata": {},
   "outputs": [
    {
     "data": {
      "text/plain": [
       "ACCOUNT_NUM.hash      0\n",
       "Sub_Update_Date       0\n",
       "Sub_Update_Status     0\n",
       "Sub_Added            10\n",
       "Sub_Removed          10\n",
       "dtype: int64"
      ]
     },
     "execution_count": 364,
     "metadata": {},
     "output_type": "execute_result"
    }
   ],
   "source": [
    "promo_change_df.isnull().sum(axis=0)"
   ]
  },
  {
   "cell_type": "code",
   "execution_count": 365,
   "metadata": {},
   "outputs": [],
   "source": [
    "promo_change_df.dropna(inplace=True)"
   ]
  },
  {
   "cell_type": "code",
   "execution_count": 366,
   "metadata": {},
   "outputs": [],
   "source": [
    "promo_change_df[\"Sub_Removed\"] = promo_change_df[\"Sub_Removed\"].apply(lambda x: sub_type(x))\n",
    "promo_change_df[\"Sub_Added\"] = promo_change_df[\"Sub_Added\"].apply(lambda x: sub_type(x))"
   ]
  },
  {
   "cell_type": "code",
   "execution_count": 367,
   "metadata": {},
   "outputs": [],
   "source": [
    "def sub_change_state(sub1,sub2):\n",
    "    return f\"{sub1} -> {sub2}\""
   ]
  },
  {
   "cell_type": "code",
   "execution_count": 368,
   "metadata": {},
   "outputs": [],
   "source": [
    "promo_change_df[\"Sub_Update\"] = promo_change_df.apply(lambda x: sub_change_state(x[\"Sub_Removed\"],x[\"Sub_Added\"]),axis=1)"
   ]
  },
  {
   "cell_type": "code",
   "execution_count": 369,
   "metadata": {},
   "outputs": [
    {
     "data": {
      "text/plain": [
       "Sub_Update_Status    Sub_Update                      \n",
       "Promotion Downgrade  DOUBLE_PLAY_BV -> SINGLE_PLAY       153\n",
       "Promotion Upgrade    DOUBLE_PLAY_PV -> TRIPLE_PLAY       147\n",
       "                     SINGLE_PLAY -> DOUBLE_PLAY_BV       122\n",
       "Promotion Downgrade  TRIPLE_PLAY -> DOUBLE_PLAY_PV        80\n",
       "Promotion Upgrade    DOUBLE_PLAY_BV -> TRIPLE_PLAY        75\n",
       "                     SINGLE_PLAY -> DOUBLE_PLAY_PV        69\n",
       "Promotion Downgrade  TRIPLE_PLAY -> SINGLE_PLAY           43\n",
       "Promotion Upgrade    SINGLE_PLAY -> TRIPLE_PLAY           28\n",
       "Promotion Downgrade  DOUBLE_PLAY_PV -> SINGLE_PLAY        23\n",
       "                     TRIPLE_PLAY -> DOUBLE_PLAY_BV        16\n",
       "Promotion Upgrade    TRIPLE_PLAY -> DOUBLE_PLAY_PV         2\n",
       "                     DOUBLE_PLAY_PV -> DOUBLE_PLAY_BV      1\n",
       "Promotion Downgrade  DOUBLE_PLAY_BV -> TRIPLE_PLAY         1\n",
       "Promotion Upgrade    4G -> 4G                              1\n",
       "Promotion Downgrade  SINGLE_PLAY -> DOUBLE_PLAY_BV         1\n",
       "                     DOUBLE_PLAY_PV -> TRIPLE_PLAY         1\n",
       "Promotion Upgrade    TRIPLE_PLAY -> DOUBLE_PLAY_BV         1\n",
       "                     DOUBLE_PLAY_BV -> SINGLE_PLAY         1\n",
       "dtype: int64"
      ]
     },
     "execution_count": 369,
     "metadata": {},
     "output_type": "execute_result"
    }
   ],
   "source": [
    "promo_change_df[[\"Sub_Update_Status\",\"Sub_Update\"]].value_counts()"
   ]
  },
  {
   "cell_type": "code",
   "execution_count": 370,
   "metadata": {},
   "outputs": [],
   "source": [
    "promo_change_df.drop(promo_change_df.query(\"Sub_Update_Status == 'Promotion Upgrade' & Sub_Update == 'TRIPLE_PLAY -> DOUBLE_PLAY_BV'\").index, inplace=True)"
   ]
  },
  {
   "cell_type": "code",
   "execution_count": 371,
   "metadata": {},
   "outputs": [],
   "source": [
    "promo_change_df.drop(promo_change_df.query(\"Sub_Update_Status == 'Promotion Upgrade' & Sub_Update == 'TRIPLE_PLAY -> DOUBLE_PLAY_PV'\").index, inplace=True)"
   ]
  },
  {
   "cell_type": "code",
   "execution_count": 372,
   "metadata": {},
   "outputs": [],
   "source": [
    "promo_change_df.drop(promo_change_df.query(\"Sub_Update_Status == 'Promotion Downgrade' & Sub_Update == 'SINGLE_PLAY -> DOUBLE_PLAY_BV'\").index, inplace=True)"
   ]
  },
  {
   "cell_type": "code",
   "execution_count": 373,
   "metadata": {},
   "outputs": [],
   "source": [
    "promo_change_df.drop(promo_change_df.query(\"Sub_Update_Status == 'Promotion Downgrade' & Sub_Update == 'DOUBLE_PLAY_BV -> TRIPLE_PLAY'\").index, inplace=True)"
   ]
  },
  {
   "cell_type": "code",
   "execution_count": 374,
   "metadata": {},
   "outputs": [],
   "source": [
    "promo_change_df.drop(promo_change_df.query(\"Sub_Update_Status == 'Promotion Downgrade' & Sub_Update == 'DOUBLE_PLAY_PV -> TRIPLE_PLAY'\").index, inplace=True)"
   ]
  },
  {
   "cell_type": "code",
   "execution_count": 375,
   "metadata": {},
   "outputs": [
    {
     "data": {
      "text/plain": [
       "Sub_Update_Status    Sub_Update                      \n",
       "Promotion Downgrade  DOUBLE_PLAY_BV -> SINGLE_PLAY       153\n",
       "Promotion Upgrade    DOUBLE_PLAY_PV -> TRIPLE_PLAY       147\n",
       "                     SINGLE_PLAY -> DOUBLE_PLAY_BV       122\n",
       "Promotion Downgrade  TRIPLE_PLAY -> DOUBLE_PLAY_PV        80\n",
       "Promotion Upgrade    DOUBLE_PLAY_BV -> TRIPLE_PLAY        75\n",
       "                     SINGLE_PLAY -> DOUBLE_PLAY_PV        69\n",
       "Promotion Downgrade  TRIPLE_PLAY -> SINGLE_PLAY           43\n",
       "Promotion Upgrade    SINGLE_PLAY -> TRIPLE_PLAY           28\n",
       "Promotion Downgrade  DOUBLE_PLAY_PV -> SINGLE_PLAY        23\n",
       "                     TRIPLE_PLAY -> DOUBLE_PLAY_BV        16\n",
       "Promotion Upgrade    4G -> 4G                              1\n",
       "                     DOUBLE_PLAY_BV -> SINGLE_PLAY         1\n",
       "                     DOUBLE_PLAY_PV -> DOUBLE_PLAY_BV      1\n",
       "dtype: int64"
      ]
     },
     "execution_count": 375,
     "metadata": {},
     "output_type": "execute_result"
    }
   ],
   "source": [
    "promo_change_df[[\"Sub_Update_Status\",\"Sub_Update\"]].value_counts()"
   ]
  },
  {
   "cell_type": "code",
   "execution_count": 376,
   "metadata": {},
   "outputs": [],
   "source": [
    "promo_change_df.drop(promo_change_df.query(\"Sub_Update_Status == 'Promotion Upgrade' & Sub_Update == 'DOUBLE_PLAY_BV -> SINGLE_PLAY'\").index, inplace=True)"
   ]
  },
  {
   "cell_type": "code",
   "execution_count": 377,
   "metadata": {},
   "outputs": [],
   "source": [
    "promo_change_df.drop([\"Sub_Added\",\"Sub_Removed\"],axis=1,inplace=True)"
   ]
  },
  {
   "cell_type": "code",
   "execution_count": 378,
   "metadata": {},
   "outputs": [
    {
     "name": "stdout",
     "output_type": "stream",
     "text": [
      "<class 'pandas.core.frame.DataFrame'>\n",
      "Int64Index: 758 entries, 0 to 774\n",
      "Data columns (total 4 columns):\n",
      " #   Column             Non-Null Count  Dtype \n",
      "---  ------             --------------  ----- \n",
      " 0   ACCOUNT_NUM.hash   758 non-null    object\n",
      " 1   Sub_Update_Date    758 non-null    object\n",
      " 2   Sub_Update_Status  758 non-null    object\n",
      " 3   Sub_Update         758 non-null    object\n",
      "dtypes: object(4)\n",
      "memory usage: 29.6+ KB\n"
     ]
    }
   ],
   "source": [
    "promo_change_df.info()"
   ]
  },
  {
   "cell_type": "code",
   "execution_count": 379,
   "metadata": {},
   "outputs": [],
   "source": [
    "promo_change_df.to_csv(\"data/user_profile/User_Subscription_Changes.csv\")"
   ]
  },
  {
   "cell_type": "code",
   "execution_count": null,
   "metadata": {},
   "outputs": [],
   "source": []
  },
  {
   "cell_type": "markdown",
   "metadata": {},
   "source": [
    "## Billing Details"
   ]
  },
  {
   "cell_type": "code",
   "execution_count": null,
   "metadata": {},
   "outputs": [],
   "source": []
  },
  {
   "cell_type": "code",
   "execution_count": null,
   "metadata": {},
   "outputs": [],
   "source": []
  },
  {
   "cell_type": "markdown",
   "metadata": {},
   "source": [
    "## Payment Details"
   ]
  },
  {
   "cell_type": "code",
   "execution_count": null,
   "metadata": {},
   "outputs": [],
   "source": []
  }
 ],
 "metadata": {
  "kernel_info": {
   "name": "python3"
  },
  "kernelspec": {
   "display_name": "Python 3 (ipykernel)",
   "language": "python",
   "name": "python3"
  },
  "language_info": {
   "codemirror_mode": {
    "name": "ipython",
    "version": 3
   },
   "file_extension": ".py",
   "mimetype": "text/x-python",
   "name": "python",
   "nbconvert_exporter": "python",
   "pygments_lexer": "ipython3",
   "version": "3.8.12"
  },
  "nteract": {
   "version": "nteract-front-end@1.0.0"
  }
 },
 "nbformat": 4,
 "nbformat_minor": 4
}
