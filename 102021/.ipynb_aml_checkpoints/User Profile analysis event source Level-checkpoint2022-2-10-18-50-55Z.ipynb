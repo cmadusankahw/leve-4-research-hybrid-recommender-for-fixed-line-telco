{
 "cells": [
  {
   "cell_type": "code",
   "execution_count": 1,
   "metadata": {},
   "outputs": [],
   "source": [
    "import pandas as pd\n",
    "import numpy as np\n",
    "from matplotlib import pyplot as plt\n",
    "from sklearn.preprocessing import MinMaxScaler\n",
    "import seaborn as sns\n",
    "from collections import Counter\n",
    "from ast import literal_eval\n",
    "import itertools"
   ]
  },
  {
   "cell_type": "code",
   "execution_count": 2,
   "metadata": {},
   "outputs": [],
   "source": [
    "# reading datasets\n",
    "bb_usage = pd.read_csv(\"data/user_profile/BB_Usage_Categorical.csv\")\n",
    "voice_incoming_usage = pd.read_csv(\"data/user_profile/VOICE_INCOMING_Usage_Categorical.csv\")\n",
    "voice_outgoing_usage = pd.read_csv(\"data/user_profile/VOICE_OUTGOING_Usage_Categorical.csv\")\n",
    "voice_IDD_incoming_usage = pd.read_csv(\"data/user_profile/VOICE_IDD_Incoming_Usage_Categorical.csv\")\n",
    "voice_IDD_outgoing_usage = pd.read_csv(\"data/user_profile/VOICE_IDD_Outgoing_Usage_Categorical.csv\")\n",
    "peo_tv_usage = pd.read_csv(\"data/user_profile/PEO_TV_Usage_Categorical.csv\")"
   ]
  },
  {
   "cell_type": "code",
   "execution_count": 3,
   "metadata": {},
   "outputs": [],
   "source": [
    "# locations\n",
    "user_location = pd.read_csv(\"data/user_profile/User_Locations.csv\")\n",
    "lte_location = pd.read_csv(\"data/user_profile/User_LTE_Locations.csv\")"
   ]
  },
  {
   "cell_type": "code",
   "execution_count": 4,
   "metadata": {},
   "outputs": [],
   "source": [
    "# user demographics\n",
    "demo_df = pd.read_csv(\"data/user_profile/user_demographics.csv\")"
   ]
  },
  {
   "cell_type": "code",
   "execution_count": 5,
   "metadata": {},
   "outputs": [
    {
     "name": "stderr",
     "output_type": "stream",
     "text": [
      "/Users/chiranhewawitharana/mambaforge/envs/mactf/lib/python3.8/site-packages/IPython/core/interactiveshell.py:3441: DtypeWarning: Columns (3) have mixed types.Specify dtype option on import or set low_memory=False.\n",
      "  exec(code_obj, self.user_global_ns, self.user_ns)\n"
     ]
    }
   ],
   "source": [
    "# VAS\n",
    "megaline_agg_df = pd.read_csv(\"data/user_profile/Megaline_Packages.csv\")\n",
    "ftth_agg_df = pd.read_csv(\"data/user_profile/FTTH_Packages.csv\")\n",
    "lte_agg_df = pd.read_csv(\"data/user_profile/LTE_Packages.csv\")\n",
    "vas_agg_df = pd.read_csv(\"data/user_profile/Paid_Vas_Packages.csv\")\n"
   ]
  },
  {
   "cell_type": "code",
   "execution_count": 200,
   "metadata": {},
   "outputs": [
    {
     "name": "stderr",
     "output_type": "stream",
     "text": [
      "/Users/chiranhewawitharana/mambaforge/envs/mactf/lib/python3.8/site-packages/IPython/core/interactiveshell.py:3441: DtypeWarning: Columns (3) have mixed types.Specify dtype option on import or set low_memory=False.\n",
      "  exec(code_obj, self.user_global_ns, self.user_ns)\n"
     ]
    }
   ],
   "source": [
    "package_df = pd.read_csv(\"data/user_profile/Package_Final_list.csv\")"
   ]
  },
  {
   "cell_type": "code",
   "execution_count": 6,
   "metadata": {},
   "outputs": [],
   "source": [
    "# Subscription Types\n",
    "sub_df = pd.read_csv(\"data/user_profile/User_Subscription_Map.csv\")\n",
    "promo_change_df = pd.read_csv(\"data/user_profile/User_Subscription_Changes.csv\")"
   ]
  },
  {
   "cell_type": "code",
   "execution_count": 7,
   "metadata": {},
   "outputs": [],
   "source": [
    "#Extra GB Usage BB\n",
    "extra_GB_df = pd.read_csv(\"data/user_profile/BB_extra_GB_usage.csv\")"
   ]
  },
  {
   "cell_type": "code",
   "execution_count": 8,
   "metadata": {},
   "outputs": [],
   "source": [
    "# Peo TV Extra Channel Usage\n",
    "extra_Peo_df = pd.read_csv(\"data/user_profile/Peo_Extra_Peo_Usage.csv\")"
   ]
  },
  {
   "cell_type": "code",
   "execution_count": 9,
   "metadata": {},
   "outputs": [],
   "source": [
    "# All customers reference\n",
    "all_users_df = pd.read_csv(\"data/user_profile/account_no_map_all.csv\")\n",
    "agg_users_df = pd.read_csv(\"data/user_profile/account_no_map_agg.csv\")"
   ]
  },
  {
   "cell_type": "code",
   "execution_count": 10,
   "metadata": {},
   "outputs": [],
   "source": [
    "# User BB Package Map\n",
    "user_bb_package_df = pd.read_csv(\"data/user_profile/User_BB_Package_Map.csv\")\n",
    "user_peo_packages_df = pd.read_csv(\"data/user_profile/Peo_TV_Users_Packages.csv\")"
   ]
  },
  {
   "cell_type": "code",
   "execution_count": 11,
   "metadata": {},
   "outputs": [],
   "source": [
    "# Payment and billing details\n",
    "payments_df = pd.read_csv(\"data/user_profile/User_Payment_Details.csv\")\n",
    "billing_df = pd.read_csv(\"data/user_profile/User_Billing_Details.csv\")"
   ]
  },
  {
   "cell_type": "markdown",
   "metadata": {},
   "source": [
    "# Data perapration"
   ]
  },
  {
   "cell_type": "code",
   "execution_count": 12,
   "metadata": {},
   "outputs": [
    {
     "name": "stdout",
     "output_type": "stream",
     "text": [
      "<class 'pandas.core.frame.DataFrame'>\n",
      "RangeIndex: 32945 entries, 0 to 32944\n",
      "Data columns (total 2 columns):\n",
      " #   Column            Non-Null Count  Dtype \n",
      "---  ------            --------------  ----- \n",
      " 0   ACCOUNT_NUM.hash  32945 non-null  object\n",
      " 1   BB_Package        32945 non-null  object\n",
      "dtypes: object(2)\n",
      "memory usage: 514.9+ KB\n"
     ]
    }
   ],
   "source": [
    "user_bb_package_df.drop([\"Unnamed: 0\"],axis=1,inplace=True)\n",
    "user_bb_package_df.info()"
   ]
  },
  {
   "cell_type": "code",
   "execution_count": 13,
   "metadata": {},
   "outputs": [
    {
     "name": "stdout",
     "output_type": "stream",
     "text": [
      "<class 'pandas.core.frame.DataFrame'>\n",
      "RangeIndex: 24262 entries, 0 to 24261\n",
      "Data columns (total 2 columns):\n",
      " #   Column             Non-Null Count  Dtype \n",
      "---  ------             --------------  ----- \n",
      " 0   event_source.hash  24262 non-null  object\n",
      " 1   Peo_TV_Package     24262 non-null  object\n",
      "dtypes: object(2)\n",
      "memory usage: 379.2+ KB\n"
     ]
    }
   ],
   "source": [
    "user_peo_packages_df.drop([\"Unnamed: 0\"],axis=1,inplace=True)\n",
    "user_peo_packages_df.info()"
   ]
  },
  {
   "cell_type": "code",
   "execution_count": 14,
   "metadata": {},
   "outputs": [],
   "source": [
    "extra_GB_df.drop([\"Unnamed: 0\"],axis=1,inplace=True)\n",
    "extra_Peo_df.drop([\"Unnamed: 0\"],axis=1,inplace=True)"
   ]
  },
  {
   "cell_type": "code",
   "execution_count": 15,
   "metadata": {},
   "outputs": [
    {
     "name": "stdout",
     "output_type": "stream",
     "text": [
      "<class 'pandas.core.frame.DataFrame'>\n",
      "RangeIndex: 196207 entries, 0 to 196206\n",
      "Data columns (total 6 columns):\n",
      " #   Column            Non-Null Count   Dtype \n",
      "---  ------            --------------   ----- \n",
      " 0   ACCOUNT_NUM.hash  196207 non-null  object\n",
      " 1   Month_Subscribed  196207 non-null  object\n",
      " 2   Rental            196207 non-null  int64 \n",
      " 3   BB_Package        196207 non-null  object\n",
      " 4   GB_AMOUNT         196207 non-null  int64 \n",
      " 5   Hour_Subscribed   196207 non-null  int64 \n",
      "dtypes: int64(3), object(3)\n",
      "memory usage: 9.0+ MB\n"
     ]
    }
   ],
   "source": [
    "extra_GB_df.info()"
   ]
  },
  {
   "cell_type": "code",
   "execution_count": 16,
   "metadata": {},
   "outputs": [
    {
     "name": "stdout",
     "output_type": "stream",
     "text": [
      "<class 'pandas.core.frame.DataFrame'>\n",
      "RangeIndex: 151902 entries, 0 to 151901\n",
      "Data columns (total 3 columns):\n",
      " #   Column            Non-Null Count   Dtype \n",
      "---  ------            --------------   ----- \n",
      " 0   ACCOUNT_NUM.hash  151902 non-null  object\n",
      " 1   Month_Subscribed  151902 non-null  object\n",
      " 2   Rental            151902 non-null  int64 \n",
      "dtypes: int64(1), object(2)\n",
      "memory usage: 3.5+ MB\n"
     ]
    }
   ],
   "source": [
    "extra_Peo_df.info()"
   ]
  },
  {
   "cell_type": "code",
   "execution_count": 17,
   "metadata": {},
   "outputs": [
    {
     "name": "stdout",
     "output_type": "stream",
     "text": [
      "<class 'pandas.core.frame.DataFrame'>\n",
      "RangeIndex: 161886 entries, 0 to 161885\n",
      "Data columns (total 3 columns):\n",
      " #   Column             Non-Null Count   Dtype \n",
      "---  ------             --------------   ----- \n",
      " 0   event_source.hash  161886 non-null  object\n",
      " 1   ACCOUNT_NUM.hash   161886 non-null  object\n",
      " 2   CR.hash            161886 non-null  object\n",
      "dtypes: object(3)\n",
      "memory usage: 3.7+ MB\n"
     ]
    }
   ],
   "source": [
    "all_users_df.drop([\"Unnamed: 0\"],axis=1,inplace=True)\n",
    "all_users_df.info()"
   ]
  },
  {
   "cell_type": "code",
   "execution_count": 18,
   "metadata": {
    "scrolled": true
   },
   "outputs": [],
   "source": [
    "bb_usage.rename(columns={'Unnamed: 0':'event_source.hash'}, inplace=\"True\")\n",
    "bb_usage = bb_usage[['event_source.hash','Usage_Rating_Categorical','Usage_Rating_Scaled']]\n",
    "#bb_usage.drop_duplicates(\"event_source.hash\", inplace=True)\n",
    "bb_usage.drop([0,1], axis=0, inplace=True)"
   ]
  },
  {
   "cell_type": "code",
   "execution_count": 19,
   "metadata": {},
   "outputs": [],
   "source": [
    "voice_incoming_usage = voice_incoming_usage[['event_source.hash','Usage_Rating_Categorical','Usage_Rating_Scaled','Outlier']]"
   ]
  },
  {
   "cell_type": "code",
   "execution_count": 20,
   "metadata": {},
   "outputs": [],
   "source": [
    "voice_outgoing_usage = voice_outgoing_usage[['event_source.hash','Usage_Rating_Categorical','Usage_Rating_Scaled','Outlier']]"
   ]
  },
  {
   "cell_type": "code",
   "execution_count": 21,
   "metadata": {},
   "outputs": [],
   "source": [
    "voice_IDD_incoming_usage = voice_IDD_incoming_usage[['event_source.hash','Usage_Rating_Categorical','Usage_Rating_Scaled','Outlier','incoming_country']]\n",
    "voice_IDD_incoming_usage.rename(columns={\"incoming_country\":\"IDD_incoming_country\"}, inplace=True)"
   ]
  },
  {
   "cell_type": "code",
   "execution_count": 22,
   "metadata": {},
   "outputs": [],
   "source": [
    "voice_IDD_outgoing_usage = voice_IDD_outgoing_usage[['event_source.hash','Usage_Rating_Categorical','Usage_Rating_Scaled','Outlier',\"outgoing_country\"]]\n",
    "voice_IDD_outgoing_usage.rename(columns={\"outgoing_country\":\"IDD_outgoing_country\"}, inplace=True)"
   ]
  },
  {
   "cell_type": "code",
   "execution_count": 23,
   "metadata": {},
   "outputs": [],
   "source": [
    "peo_tv_usage = peo_tv_usage[['event_source.hash','Peo_TV_Package','Usage_Rating_Categorical','Usage_Rating_Scaled']]"
   ]
  },
  {
   "cell_type": "code",
   "execution_count": 24,
   "metadata": {},
   "outputs": [],
   "source": [
    "def clean_lists(col):\n",
    "    col = list(set(col))\n",
    "    new_col = []\n",
    "    for i in col:\n",
    "        if not isinstance(i, float):\n",
    "            new_col.append(i)\n",
    "    if len(new_col) == 0:\n",
    "        return \"NO INFO\"\n",
    "    if len(new_col) == 1:\n",
    "        return new_col[0]\n",
    "    else:\n",
    "        return new_col"
   ]
  },
  {
   "cell_type": "code",
   "execution_count": 25,
   "metadata": {},
   "outputs": [],
   "source": [
    "user_location.drop([\"DISPLAYNAME.hash\",\"Unnamed: 0\"],axis=1,inplace=True)\n",
    "all_users_locations_df = user_location.merge(all_users_df,how=\"left\",on=\"CR.hash\")\n",
    "all_users_locations_df.drop([\"CR.hash\"],axis=1,inplace=True)\n",
    "all_users_locations_df = all_users_locations_df.merge(lte_location[[\"event_source.hash\",\"Location_Node\"]],how=\"left\",on=\"event_source.hash\")\n",
    "all_users_locations_df.rename(columns={\"SERVICE_TYPE\":\"Package_Type_and_Medium\",\"MODEL\":\"Model\",\"CIRCUIT_STATUS\":\"Service_Status\"},inplace=True)\n",
    "all_users_locations_df.drop_duplicates(\"event_source.hash\", inplace=True)\n",
    "all_users_locations_df  = all_users_locations_df[[\"ACCOUNT_NUM.hash\",\"Location_Identifier\",\"Location_Node\",\"Package_Type_and_Medium\",\"Model\",\"Service_Status\"]]\n",
    "all_users_locations_df = all_users_locations_df.groupby(\"ACCOUNT_NUM.hash\").agg(list)"
   ]
  },
  {
   "cell_type": "code",
   "execution_count": 26,
   "metadata": {},
   "outputs": [],
   "source": [
    "for col in all_users_locations_df.columns:\n",
    "    all_users_locations_df[col] = all_users_locations_df[col].apply(lambda x: clean_lists(x))"
   ]
  },
  {
   "cell_type": "code",
   "execution_count": 27,
   "metadata": {},
   "outputs": [],
   "source": [
    "demo_df.drop([\"Unnamed: 0\"], axis=1,inplace=True)"
   ]
  },
  {
   "cell_type": "code",
   "execution_count": 28,
   "metadata": {},
   "outputs": [],
   "source": [
    "megaline_agg_df.drop([\"Unnamed: 0\"], axis=1,inplace=True)\n",
    "ftth_agg_df.drop([\"Unnamed: 0\"], axis=1,inplace=True)\n",
    "lte_agg_df.drop([\"Unnamed: 0\"], axis=1,inplace=True)\n",
    "vas_agg_df.drop([\"Unnamed: 0\"], axis=1,inplace=True)\n"
   ]
  },
  {
   "cell_type": "code",
   "execution_count": 201,
   "metadata": {},
   "outputs": [],
   "source": [
    "package_df.drop([\"Unnamed: 0\"], axis=1,inplace=True)"
   ]
  },
  {
   "cell_type": "code",
   "execution_count": 29,
   "metadata": {},
   "outputs": [],
   "source": [
    "megaline_agg_df.rename(columns={\"MEDIUM\":\"Megaline_Medium\"},inplace=True)\n",
    "ftth_agg_df.rename(columns={\"MEDIUM\":\"FTTH_Medium\"},inplace=True)\n",
    "lte_agg_df.rename(columns={\"MEDIUM\":\"LTE_Medium\"},inplace=True)\n",
    "vas_agg_df.rename(columns={\"MEDIUM\":\"VAS_Medium\"},inplace=True)"
   ]
  },
  {
   "cell_type": "code",
   "execution_count": 30,
   "metadata": {},
   "outputs": [],
   "source": [
    "for col in megaline_agg_df.columns[[1,2,4,5,6]]:\n",
    "    megaline_agg_df[col] = megaline_agg_df[col].apply(lambda x: clean_lists(literal_eval(x)))"
   ]
  },
  {
   "cell_type": "code",
   "execution_count": 31,
   "metadata": {},
   "outputs": [],
   "source": [
    "for col in ftth_agg_df.columns[[1,2,4,5,6]]:\n",
    "    ftth_agg_df[col] = ftth_agg_df[col].apply(lambda x: clean_lists(literal_eval(x)))"
   ]
  },
  {
   "cell_type": "code",
   "execution_count": 32,
   "metadata": {},
   "outputs": [],
   "source": [
    "for col in lte_agg_df.columns[[1,2,4,5,6]]:\n",
    "    lte_agg_df[col] = lte_agg_df[col].apply(lambda x: clean_lists(literal_eval(x)))"
   ]
  },
  {
   "cell_type": "code",
   "execution_count": 33,
   "metadata": {},
   "outputs": [],
   "source": [
    "for col in vas_agg_df.columns[[1,2,4,5,6]]:\n",
    "    vas_agg_df[col] = vas_agg_df[col].apply(lambda x: clean_lists(literal_eval(x)))"
   ]
  },
  {
   "cell_type": "code",
   "execution_count": 34,
   "metadata": {},
   "outputs": [],
   "source": [
    "def resshape_scales(col):\n",
    "    tot = 0\n",
    "    if not isinstance(col,float):\n",
    "        for i in literal_eval(col):\n",
    "            try:\n",
    "                tot = tot+int(i)\n",
    "            except:\n",
    "                pass\n",
    "    return tot"
   ]
  },
  {
   "cell_type": "code",
   "execution_count": 35,
   "metadata": {},
   "outputs": [],
   "source": [
    "megaline_agg_df[\"Megaline_Rental\"] = megaline_agg_df[\"Megaline_Rental\"].apply(lambda x: resshape_scales(x))\n",
    "ftth_agg_df[\"FTTH_Rental\"] = ftth_agg_df[\"FTTH_Rental\"].apply(lambda x: resshape_scales(x))\n",
    "lte_agg_df[\"LTE_Rental\"] = lte_agg_df[\"LTE_Rental\"].apply(lambda x: resshape_scales(x))\n",
    "vas_agg_df[\"Rental\"] = vas_agg_df[\"Rental\"].apply(lambda x: resshape_scales(x))"
   ]
  },
  {
   "cell_type": "code",
   "execution_count": 36,
   "metadata": {},
   "outputs": [],
   "source": [
    "scaler = MinMaxScaler()\n",
    "megaline_agg_df['Megaline_Rental_Scaled'] = scaler.fit_transform(megaline_agg_df['Megaline_Rental'].values.reshape(-1,1))\n",
    "ftth_agg_df['FTTH_Rental_Scaled'] = scaler.fit_transform(ftth_agg_df['FTTH_Rental'].values.reshape(-1,1))\n",
    "lte_agg_df['LTE_Rental_Scaled'] = scaler.fit_transform(lte_agg_df['LTE_Rental'].values.reshape(-1,1))"
   ]
  },
  {
   "cell_type": "code",
   "execution_count": 37,
   "metadata": {},
   "outputs": [],
   "source": [
    "agg_users_df.drop([\"Unnamed: 0\"], axis=1,inplace=True)\n",
    "sub_df.drop([\"Unnamed: 0\"], axis=1,inplace=True)\n",
    "promo_change_df.drop([\"Unnamed: 0\"], axis=1,inplace=True)"
   ]
  },
  {
   "cell_type": "code",
   "execution_count": 38,
   "metadata": {},
   "outputs": [],
   "source": [
    "payments_df.drop([\"Unnamed: 0\"], axis=1,inplace=True)\n",
    "billing_df.drop([\"Unnamed: 0\"], axis=1,inplace=True)"
   ]
  },
  {
   "cell_type": "markdown",
   "metadata": {},
   "source": [
    "#### Merging BB Packages"
   ]
  },
  {
   "cell_type": "code",
   "execution_count": 39,
   "metadata": {},
   "outputs": [],
   "source": [
    "user_bb_package_df = user_bb_package_df.groupby(\"ACCOUNT_NUM.hash\").agg(list)\n",
    "for col in user_bb_package_df.columns:\n",
    "    user_bb_package_df[col] = user_bb_package_df[col].apply(lambda x: clean_lists(x))"
   ]
  },
  {
   "cell_type": "markdown",
   "metadata": {},
   "source": [
    "## Mapping Acc No to Usage DFs"
   ]
  },
  {
   "cell_type": "code",
   "execution_count": 40,
   "metadata": {},
   "outputs": [],
   "source": [
    "peo_tv_usage = peo_tv_usage.merge(all_users_df, how=\"left\",on=\"event_source.hash\")\n",
    "peo_tv_usage = peo_tv_usage[peo_tv_usage['event_source.hash'].notna()]\n",
    "peo_tv_usage.drop([\"CR.hash\"],axis=1,inplace=True)"
   ]
  },
  {
   "cell_type": "code",
   "execution_count": 41,
   "metadata": {},
   "outputs": [],
   "source": [
    "voice_IDD_outgoing_usage = voice_IDD_outgoing_usage.merge(all_users_df, how=\"left\",on=\"event_source.hash\")\n",
    "voice_IDD_outgoing_usage = voice_IDD_outgoing_usage[voice_IDD_outgoing_usage['event_source.hash'].notna()]\n",
    "voice_IDD_outgoing_usage.drop([\"CR.hash\"],axis=1,inplace=True)"
   ]
  },
  {
   "cell_type": "code",
   "execution_count": 42,
   "metadata": {},
   "outputs": [],
   "source": [
    "voice_IDD_incoming_usage = voice_IDD_incoming_usage.merge(all_users_df, how=\"left\",on=\"event_source.hash\")\n",
    "voice_IDD_incoming_usage = voice_IDD_incoming_usage[voice_IDD_incoming_usage['event_source.hash'].notna()]\n",
    "voice_IDD_incoming_usage.drop([\"CR.hash\"],axis=1,inplace=True)"
   ]
  },
  {
   "cell_type": "code",
   "execution_count": 43,
   "metadata": {},
   "outputs": [],
   "source": [
    "voice_outgoing_usage = voice_outgoing_usage.merge(all_users_df, how=\"left\",on=\"event_source.hash\")\n",
    "voice_outgoing_usage = voice_outgoing_usage[voice_outgoing_usage['event_source.hash'].notna()]\n",
    "voice_outgoing_usage.drop([\"CR.hash\"],axis=1,inplace=True)"
   ]
  },
  {
   "cell_type": "code",
   "execution_count": 44,
   "metadata": {},
   "outputs": [],
   "source": [
    "voice_incoming_usage = voice_incoming_usage.merge(all_users_df, how=\"left\",on=\"event_source.hash\")\n",
    "voice_incoming_usage = voice_incoming_usage[voice_incoming_usage['event_source.hash'].notna()]\n",
    "voice_incoming_usage.drop([\"CR.hash\"],axis=1,inplace=True)\n",
    "voice_incoming_usage = voice_incoming_usage[[\"event_source.hash\",\"ACCOUNT_NUM.hash\",\"Usage_Rating_Categorical\",\"Usage_Rating_Scaled\",\"Outlier\"]]"
   ]
  },
  {
   "cell_type": "code",
   "execution_count": 45,
   "metadata": {},
   "outputs": [],
   "source": [
    "bb_usage = bb_usage.merge(all_users_df, how=\"left\",on=\"event_source.hash\")\n",
    "bb_usage = bb_usage[bb_usage['event_source.hash'].notna()]\n",
    "bb_usage.drop([\"CR.hash\"],axis=1,inplace=True)\n",
    "bb_usage = bb_usage.merge(user_bb_package_df, how = \"left\", on=\"ACCOUNT_NUM.hash\")\n",
    "bb_usage.drop_duplicates(\"event_source.hash\", keep=\"last\", inplace=True)"
   ]
  },
  {
   "cell_type": "code",
   "execution_count": 46,
   "metadata": {},
   "outputs": [
    {
     "name": "stdout",
     "output_type": "stream",
     "text": [
      "(67720, 5)\n",
      "(59546, 5)\n",
      "(59170, 5)\n",
      "(44441, 5)\n",
      "(6141, 6)\n",
      "(12577, 6)\n",
      "(23796, 5)\n"
     ]
    }
   ],
   "source": [
    "# user location \n",
    "print(bb_usage.shape)\n",
    "print(voice_incoming_usage.shape)\n",
    "print(voice_outgoing_usage.shape)\n",
    "print(all_users_locations_df.shape) # merging begins with this\n",
    "print(voice_IDD_outgoing_usage.shape)\n",
    "print(voice_IDD_incoming_usage.shape)\n",
    "print(peo_tv_usage.shape)"
   ]
  },
  {
   "cell_type": "code",
   "execution_count": 57,
   "metadata": {},
   "outputs": [],
   "source": [
    "bb_usage.drop([\"ACCOUNT_NUM.hash\"],axis=1, inplace=True)\n",
    "voice_incoming_usage.drop([\"ACCOUNT_NUM.hash\"],axis=1, inplace=True)\n",
    "voice_outgoing_usage.drop([\"ACCOUNT_NUM.hash\"],axis=1, inplace=True)\n",
    "voice_IDD_outgoing_usage.drop([\"ACCOUNT_NUM.hash\"],axis=1, inplace=True)\n",
    "voice_IDD_incoming_usage.drop([\"ACCOUNT_NUM.hash\"],axis=1, inplace=True)\n",
    "peo_tv_usage.drop([\"ACCOUNT_NUM.hash\"],axis=1, inplace=True)"
   ]
  },
  {
   "cell_type": "code",
   "execution_count": 47,
   "metadata": {},
   "outputs": [],
   "source": [
    "demo_df.drop([\"CR.hash\"],axis=1, inplace=True)"
   ]
  },
  {
   "cell_type": "markdown",
   "metadata": {},
   "source": [
    "# User Profile : Usage"
   ]
  },
  {
   "cell_type": "code",
   "execution_count": 84,
   "metadata": {},
   "outputs": [],
   "source": [
    "usage_df = all_users_df.merge(voice_incoming_usage,how='left', on='event_source.hash')\n",
    "usage_df = usage_df.merge(all_users_locations_df,how='left', on='ACCOUNT_NUM.hash')\n",
    "usage_df.rename(columns={'Usage_Rating_Categorical':'Voice_INCOMING_Categorical',\n",
    "                         'Usage_Rating_Scaled':'Voice_INCOMING_Scaled','Outlier':'Voice_INCOMING_Outlier'}, inplace=\"True\")\n",
    "usage_df.drop_duplicates(\"event_source.hash\",inplace=True)"
   ]
  },
  {
   "cell_type": "code",
   "execution_count": 85,
   "metadata": {},
   "outputs": [],
   "source": [
    "usage_df = usage_df.merge(voice_outgoing_usage,how='left', on='event_source.hash')\n",
    "usage_df.rename(columns={'Usage_Rating_Categorical':'Voice_OUTGOING_Categorical','Usage_Rating_Scaled':'Voice_OUTGOING_Scaled','Outlier':'Voice_OUTGOING_Outlier'}, inplace=\"True\")\n",
    "usage_df.drop_duplicates(\"event_source.hash\",inplace=True)"
   ]
  },
  {
   "cell_type": "code",
   "execution_count": 86,
   "metadata": {},
   "outputs": [],
   "source": [
    "usage_df = usage_df.merge(voice_IDD_incoming_usage,how='left', on='event_source.hash')\n",
    "usage_df.rename(columns={'Usage_Rating_Categorical':'IDD_INCOMING_Categorical','Usage_Rating_Scaled':'IDD_INCOMING_Scaled','Outlier':'IDD_INCOMING_Outlier'}, inplace=\"True\")\n",
    "usage_df.drop_duplicates(\"event_source.hash\",inplace=True)"
   ]
  },
  {
   "cell_type": "code",
   "execution_count": 87,
   "metadata": {},
   "outputs": [],
   "source": [
    "usage_df = usage_df.merge(voice_IDD_outgoing_usage,how='left', on='event_source.hash')\n",
    "usage_df.rename(columns={'Usage_Rating_Categorical':'IDD_OUTGOING_Categorical','Usage_Rating_Scaled':'IDD_OUTGOING_Scaled','Outlier':'IDD_OUTGOING_Outlier'}, inplace=\"True\")\n",
    "usage_df.drop_duplicates(\"event_source.hash\",inplace=True)"
   ]
  },
  {
   "cell_type": "code",
   "execution_count": 88,
   "metadata": {},
   "outputs": [],
   "source": [
    "usage_df = usage_df.merge(peo_tv_usage,how='left', on='event_source.hash')\n",
    "usage_df.rename(columns={'Usage_Rating_Categorical':'PEO_TV_Categorical','Usage_Rating_Scaled':'PEO_TV_Scaled'}, inplace=\"True\")\n",
    "usage_df.drop_duplicates(\"event_source.hash\",inplace=True)"
   ]
  },
  {
   "cell_type": "code",
   "execution_count": 89,
   "metadata": {},
   "outputs": [],
   "source": [
    "# merege BB usage\n",
    "usage_df = usage_df.merge(bb_usage,how='left', on='event_source.hash')\n",
    "usage_df.rename(columns={'Usage_Rating_Categorical':'BB_Categorical','Usage_Rating_Scaled':'BB_Scaled'}, inplace=\"True\")\n",
    "usage_df.drop_duplicates(\"event_source.hash\",inplace=True)"
   ]
  },
  {
   "cell_type": "markdown",
   "metadata": {},
   "source": [
    "# Adding New Data"
   ]
  },
  {
   "cell_type": "markdown",
   "metadata": {},
   "source": [
    "### Adding demographics"
   ]
  },
  {
   "cell_type": "code",
   "execution_count": 91,
   "metadata": {},
   "outputs": [],
   "source": [
    "usage_df = usage_df.merge(demo_df.drop(\"ACCOUNT_NUM.hash\",axis=1),how='left', on='event_source.hash')"
   ]
  },
  {
   "cell_type": "code",
   "execution_count": 92,
   "metadata": {},
   "outputs": [
    {
     "data": {
      "text/html": [
       "<div>\n",
       "<style scoped>\n",
       "    .dataframe tbody tr th:only-of-type {\n",
       "        vertical-align: middle;\n",
       "    }\n",
       "\n",
       "    .dataframe tbody tr th {\n",
       "        vertical-align: top;\n",
       "    }\n",
       "\n",
       "    .dataframe thead th {\n",
       "        text-align: right;\n",
       "    }\n",
       "</style>\n",
       "<table border=\"1\" class=\"dataframe\">\n",
       "  <thead>\n",
       "    <tr style=\"text-align: right;\">\n",
       "      <th></th>\n",
       "      <th>BIRTH_YEAR</th>\n",
       "      <th>AGE</th>\n",
       "    </tr>\n",
       "  </thead>\n",
       "  <tbody>\n",
       "    <tr>\n",
       "      <th>count</th>\n",
       "      <td>76515.000000</td>\n",
       "      <td>76515.000000</td>\n",
       "    </tr>\n",
       "    <tr>\n",
       "      <th>mean</th>\n",
       "      <td>1966.834777</td>\n",
       "      <td>54.165223</td>\n",
       "    </tr>\n",
       "    <tr>\n",
       "      <th>std</th>\n",
       "      <td>14.940487</td>\n",
       "      <td>14.940487</td>\n",
       "    </tr>\n",
       "    <tr>\n",
       "      <th>min</th>\n",
       "      <td>1922.000000</td>\n",
       "      <td>17.000000</td>\n",
       "    </tr>\n",
       "    <tr>\n",
       "      <th>25%</th>\n",
       "      <td>1956.000000</td>\n",
       "      <td>43.000000</td>\n",
       "    </tr>\n",
       "    <tr>\n",
       "      <th>50%</th>\n",
       "      <td>1967.000000</td>\n",
       "      <td>54.000000</td>\n",
       "    </tr>\n",
       "    <tr>\n",
       "      <th>75%</th>\n",
       "      <td>1978.000000</td>\n",
       "      <td>65.000000</td>\n",
       "    </tr>\n",
       "    <tr>\n",
       "      <th>max</th>\n",
       "      <td>2004.000000</td>\n",
       "      <td>99.000000</td>\n",
       "    </tr>\n",
       "  </tbody>\n",
       "</table>\n",
       "</div>"
      ],
      "text/plain": [
       "         BIRTH_YEAR           AGE\n",
       "count  76515.000000  76515.000000\n",
       "mean    1966.834777     54.165223\n",
       "std       14.940487     14.940487\n",
       "min     1922.000000     17.000000\n",
       "25%     1956.000000     43.000000\n",
       "50%     1967.000000     54.000000\n",
       "75%     1978.000000     65.000000\n",
       "max     2004.000000     99.000000"
      ]
     },
     "execution_count": 92,
     "metadata": {},
     "output_type": "execute_result"
    }
   ],
   "source": [
    "usage_df[[\"BIRTH_YEAR\",\"AGE\"]].describe()"
   ]
  },
  {
   "cell_type": "code",
   "execution_count": 93,
   "metadata": {},
   "outputs": [
    {
     "data": {
      "text/plain": [
       "<AxesSubplot:ylabel='Density'>"
      ]
     },
     "execution_count": 93,
     "metadata": {},
     "output_type": "execute_result"
    },
    {
     "data": {
      "image/png": "[encoded data removed]",
      "text/plain": [
       "<Figure size 432x288 with 1 Axes>"
      ]
     },
     "metadata": {
      "needs_background": "light"
     },
     "output_type": "display_data"
    }
   ],
   "source": [
    "usage_df[\"AGE\"].plot(kind = 'density')"
   ]
  },
  {
   "cell_type": "code",
   "execution_count": 94,
   "metadata": {},
   "outputs": [
    {
     "data": {
      "text/plain": [
       "<AxesSubplot:ylabel='Density'>"
      ]
     },
     "execution_count": 94,
     "metadata": {},
     "output_type": "execute_result"
    },
    {
     "data": {
      "image/png": "[encoded data removed]",
      "text/plain": [
       "<Figure size 432x288 with 1 Axes>"
      ]
     },
     "metadata": {
      "needs_background": "light"
     },
     "output_type": "display_data"
    }
   ],
   "source": [
    "usage_df[\"BIRTH_YEAR\"].plot(kind = 'density')"
   ]
  },
  {
   "cell_type": "code",
   "execution_count": null,
   "metadata": {},
   "outputs": [],
   "source": []
  },
  {
   "cell_type": "markdown",
   "metadata": {},
   "source": [
    "## Voice Usage Bins"
   ]
  },
  {
   "cell_type": "code",
   "execution_count": 95,
   "metadata": {},
   "outputs": [
    {
     "data": {
      "text/plain": [
       "LOW       35720\n",
       "MEDIUM     8703\n",
       "HIGH        322\n",
       "Name: Voice_INCOMING_Categorical, dtype: int64"
      ]
     },
     "execution_count": 95,
     "metadata": {},
     "output_type": "execute_result"
    }
   ],
   "source": [
    "usage_df[\"Voice_INCOMING_Categorical\"].value_counts()"
   ]
  },
  {
   "cell_type": "code",
   "execution_count": 96,
   "metadata": {},
   "outputs": [],
   "source": [
    "def voice_bin(incoming,outgoing):\n",
    "    if incoming==\"LOW\" and outgoing==\"LOW\":\n",
    "        return \"LOW\"\n",
    "    if incoming==\"HIGH\" and outgoing==\"HIGH\":\n",
    "        return \"HIGH\"\n",
    "    if (incoming==\"HIGH\" and outgoing==\"MEDIUM\") or (incoming==\"MEDIUM\" and outgoing==\"HIGH\"):\n",
    "        return \"HIGH\"\n",
    "    if incoming==\"MEDIUM\" and outgoing==\"MEDIUM\":\n",
    "        return \"MEDIUM\"\n",
    "    if (incoming==\"MEDIUM\" and outgoing==\"LOW\") or (incoming==\"LOW\" and outgoing==\"MEDIUM\"):\n",
    "        return \"LOW\"\n",
    "    if (incoming==\"LOW\" and outgoing==\"HIGH\") or (incoming==\"HIGH\" and outgoing==\"LOW\"):\n",
    "        return \"MEDIUM\"\n",
    "    if (isinstance(incoming,float) and not isinstance(outgoing,float)) or (not isinstance(incoming,float) and isinstance(outgoing,float)):\n",
    "        return \"LOW\"\n",
    "#     if (isinstance(incoming,float) and isinstance(outgoing,float)):\n",
    "#         return \"NO\""
   ]
  },
  {
   "cell_type": "code",
   "execution_count": 97,
   "metadata": {},
   "outputs": [
    {
     "data": {
      "text/plain": [
       "'MEDIUM'"
      ]
     },
     "execution_count": 97,
     "metadata": {},
     "output_type": "execute_result"
    }
   ],
   "source": [
    "# test\n",
    "voice_bin(\"LOW\",\"HIGH\")"
   ]
  },
  {
   "cell_type": "code",
   "execution_count": 98,
   "metadata": {},
   "outputs": [],
   "source": [
    "usage_df[\"Voice_Overall_Categorical\"] = usage_df.apply(lambda x: voice_bin(x[\"Voice_INCOMING_Categorical\"], x[\"Voice_OUTGOING_Categorical\"]), axis=1)"
   ]
  },
  {
   "cell_type": "code",
   "execution_count": 99,
   "metadata": {},
   "outputs": [],
   "source": [
    "usage_df[\"IDD_Overall_Categorical\"] = usage_df.apply(lambda x: voice_bin(x[\"IDD_INCOMING_Categorical\"], x[\"IDD_OUTGOING_Categorical\"]), axis=1)"
   ]
  },
  {
   "cell_type": "code",
   "execution_count": 100,
   "metadata": {},
   "outputs": [],
   "source": [
    "def voice_overall_bin(call_usage):\n",
    "    counts = Counter(call_usage)\n",
    "    if counts[\"LOW\"] > 1:\n",
    "        return \"LOW\"\n",
    "    elif counts[\"HIGH\"] > 1:\n",
    "        return \"HIGH\"\n",
    "    elif counts[\"MEDIUM\"] > 1:\n",
    "        return \"MEDIUM\"\n",
    "    elif counts[\"LOW\"] == 1 and counts[\"MEDIUM\"] == 1 and counts[\"HIGH\"] == 1:\n",
    "        return \"MEDIUM\"\n",
    "    elif counts[\"LOW\"] == 1 and counts[\"MEDIUM\"] == 1:\n",
    "        return \"LOW\"\n",
    "    elif counts[\"MEDIUM\"] == 1 and counts[\"HIGH\"] == 1:\n",
    "        return \"MEDIUM\""
   ]
  },
  {
   "cell_type": "code",
   "execution_count": 101,
   "metadata": {},
   "outputs": [
    {
     "data": {
      "text/plain": [
       "'HIGH'"
      ]
     },
     "execution_count": 101,
     "metadata": {},
     "output_type": "execute_result"
    }
   ],
   "source": [
    "# test\n",
    "voice_overall_bin([\"HIGH\",\"HIGH\",\"NO\"])"
   ]
  },
  {
   "cell_type": "code",
   "execution_count": 102,
   "metadata": {},
   "outputs": [],
   "source": [
    "usage_df[\"VOICE_Categorical\"] = usage_df.apply(lambda x: voice_overall_bin([ x[\"Voice_Overall_Categorical\"], x[\"IDD_Overall_Categorical\"]]), axis=1)"
   ]
  },
  {
   "cell_type": "code",
   "execution_count": 103,
   "metadata": {},
   "outputs": [
    {
     "data": {
      "text/html": [
       "<div>\n",
       "<style scoped>\n",
       "    .dataframe tbody tr th:only-of-type {\n",
       "        vertical-align: middle;\n",
       "    }\n",
       "\n",
       "    .dataframe tbody tr th {\n",
       "        vertical-align: top;\n",
       "    }\n",
       "\n",
       "    .dataframe thead th {\n",
       "        text-align: right;\n",
       "    }\n",
       "</style>\n",
       "<table border=\"1\" class=\"dataframe\">\n",
       "  <thead>\n",
       "    <tr style=\"text-align: right;\">\n",
       "      <th></th>\n",
       "      <th>event_source.hash</th>\n",
       "      <th>ACCOUNT_NUM.hash</th>\n",
       "      <th>CR.hash</th>\n",
       "      <th>Voice_INCOMING_Categorical</th>\n",
       "      <th>Voice_INCOMING_Scaled</th>\n",
       "      <th>Voice_INCOMING_Outlier</th>\n",
       "      <th>Location_Identifier</th>\n",
       "      <th>Location_Node</th>\n",
       "      <th>Package_Type_and_Medium</th>\n",
       "      <th>Model</th>\n",
       "      <th>...</th>\n",
       "      <th>PEO_TV_Scaled</th>\n",
       "      <th>BB_Categorical</th>\n",
       "      <th>BB_Scaled</th>\n",
       "      <th>BB_Package</th>\n",
       "      <th>GENDER</th>\n",
       "      <th>BIRTH_YEAR</th>\n",
       "      <th>AGE</th>\n",
       "      <th>Voice_Overall_Categorical</th>\n",
       "      <th>IDD_Overall_Categorical</th>\n",
       "      <th>VOICE_Categorical</th>\n",
       "    </tr>\n",
       "  </thead>\n",
       "  <tbody>\n",
       "  </tbody>\n",
       "</table>\n",
       "<p>0 rows × 34 columns</p>\n",
       "</div>"
      ],
      "text/plain": [
       "Empty DataFrame\n",
       "Columns: [event_source.hash, ACCOUNT_NUM.hash, CR.hash, Voice_INCOMING_Categorical, Voice_INCOMING_Scaled, Voice_INCOMING_Outlier, Location_Identifier, Location_Node, Package_Type_and_Medium, Model, Service_Status, Voice_OUTGOING_Categorical, Voice_OUTGOING_Scaled, Voice_OUTGOING_Outlier, IDD_INCOMING_Categorical, IDD_INCOMING_Scaled, IDD_INCOMING_Outlier, IDD_incoming_country, IDD_OUTGOING_Categorical, IDD_OUTGOING_Scaled, IDD_OUTGOING_Outlier, IDD_outgoing_country, Peo_TV_Package, PEO_TV_Categorical, PEO_TV_Scaled, BB_Categorical, BB_Scaled, BB_Package, GENDER, BIRTH_YEAR, AGE, Voice_Overall_Categorical, IDD_Overall_Categorical, VOICE_Categorical]\n",
       "Index: []\n",
       "\n",
       "[0 rows x 34 columns]"
      ]
     },
     "execution_count": 103,
     "metadata": {},
     "output_type": "execute_result"
    }
   ],
   "source": [
    "usage_df[(usage_df[\"VOICE_Categorical\"] == \"NO\")]"
   ]
  },
  {
   "cell_type": "markdown",
   "metadata": {},
   "source": [
    "## Subscrition Types"
   ]
  },
  {
   "cell_type": "code",
   "execution_count": 104,
   "metadata": {},
   "outputs": [],
   "source": [
    "usage_df = usage_df.merge(sub_df,how='left',on=[\"ACCOUNT_NUM.hash\"])"
   ]
  },
  {
   "cell_type": "code",
   "execution_count": 105,
   "metadata": {},
   "outputs": [],
   "source": [
    "def check_product_level(voice,bb,tv):\n",
    "    if not isinstance(voice,float): \n",
    "        if isinstance(bb,float) and isinstance(tv,float):\n",
    "            return \"SINGLE_PLAY\"\n",
    "        if not isinstance(bb,float) and isinstance(tv,float):\n",
    "            return \"DOUBLE_PLAY_BV\"\n",
    "        if isinstance(bb,float) and not isinstance(tv,float):\n",
    "            return \"DOUBLE_PLAY_PV\"\n",
    "        if not isinstance(bb,float) and not isinstance(tv,float):\n",
    "            return \"TRIPLE_PLAY\""
   ]
  },
  {
   "cell_type": "code",
   "execution_count": 106,
   "metadata": {},
   "outputs": [],
   "source": [
    "usage_df[\"Play_Type\"] = usage_df.apply(lambda x: check_product_level(x[\"VOICE_Categorical\"], x[\"BB_Categorical\"], x[\"PEO_TV_Categorical\"]), axis=1)"
   ]
  },
  {
   "cell_type": "code",
   "execution_count": 107,
   "metadata": {},
   "outputs": [
    {
     "data": {
      "text/plain": [
       "SINGLE_PLAY       118798\n",
       "DOUBLE_PLAY_BV     21986\n",
       "TRIPLE_PLAY        16183\n",
       "DOUBLE_PLAY_PV      4919\n",
       "Name: Play_Type, dtype: int64"
      ]
     },
     "execution_count": 107,
     "metadata": {},
     "output_type": "execute_result"
    }
   ],
   "source": [
    "usage_df[\"Play_Type\"].value_counts()"
   ]
  },
  {
   "cell_type": "code",
   "execution_count": 108,
   "metadata": {},
   "outputs": [],
   "source": [
    "# play usage\n",
    "def play_usage(usage):\n",
    "    if len(usage)>2:\n",
    "        new_usage=[]\n",
    "        for el in usage:\n",
    "            if isinstance(el,float) or el==\"nan\" or el==None:\n",
    "                new_usage.append(\"NO_INFO\")\n",
    "            else:\n",
    "                new_usage.append(el)\n",
    "        return [f\"VOICE_{new_usage[0]}\", f\"BB_{new_usage[1]}\", f\"TV_{new_usage[2]}\"]\n",
    "    else:\n",
    "        return \"ERR\""
   ]
  },
  {
   "cell_type": "code",
   "execution_count": 109,
   "metadata": {},
   "outputs": [
    {
     "data": {
      "text/plain": [
       "['VOICE_LOW', 'BB_HIGH', 'TV_LOW']"
      ]
     },
     "execution_count": 109,
     "metadata": {},
     "output_type": "execute_result"
    }
   ],
   "source": [
    "# test\n",
    "play_usage([\"LOW\",\"HIGH\",\"LOW\"])"
   ]
  },
  {
   "cell_type": "code",
   "execution_count": 110,
   "metadata": {},
   "outputs": [],
   "source": [
    "usage_df[\"Sub_Usage\"] = usage_df.apply(lambda x: play_usage([x[\"VOICE_Categorical\"], x[\"BB_Categorical\"], x[\"PEO_TV_Categorical\"]]), axis=1)"
   ]
  },
  {
   "cell_type": "code",
   "execution_count": 111,
   "metadata": {},
   "outputs": [
    {
     "data": {
      "text/plain": [
       "Sub_Type        Play_Type     \n",
       "TRIPLE_PLAY     SINGLE_PLAY       9415\n",
       "SINGLE_PLAY     SINGLE_PLAY       5726\n",
       "DOUBLE_PLAY_BV  SINGLE_PLAY       4917\n",
       "TRIPLE_PLAY     TRIPLE_PLAY       3933\n",
       "DOUBLE_PLAY_PV  SINGLE_PLAY       2935\n",
       "DOUBLE_PLAY_BV  DOUBLE_PLAY_BV    2878\n",
       "DOUBLE_PLAY_PV  DOUBLE_PLAY_PV    1061\n",
       "                TRIPLE_PLAY        948\n",
       "TRIPLE_PLAY     DOUBLE_PLAY_PV     893\n",
       "SINGLE_PLAY     DOUBLE_PLAY_BV     797\n",
       "4G              SINGLE_PLAY        440\n",
       "TRIPLE_PLAY     DOUBLE_PLAY_BV     409\n",
       "DOUBLE_PLAY_BV  TRIPLE_PLAY        125\n",
       "4G              DOUBLE_PLAY_BV     106\n",
       "SINGLE_PLAY     TRIPLE_PLAY         79\n",
       "DOUBLE_PLAY_PV  DOUBLE_PLAY_BV      73\n",
       "SINGLE_PLAY     DOUBLE_PLAY_PV      37\n",
       "DOUBLE_PLAY_BV  DOUBLE_PLAY_PV      27\n",
       "dtype: int64"
      ]
     },
     "execution_count": 111,
     "metadata": {},
     "output_type": "execute_result"
    }
   ],
   "source": [
    "usage_df[[\"Sub_Type\",\"Play_Type\"]].value_counts()"
   ]
  },
  {
   "cell_type": "code",
   "execution_count": 112,
   "metadata": {},
   "outputs": [],
   "source": [
    "def check_sub_type(sub):\n",
    "    if isinstance(sub, float):\n",
    "        return \"Assumed\"\n",
    "    else:\n",
    "        return \"Actual\""
   ]
  },
  {
   "cell_type": "code",
   "execution_count": 113,
   "metadata": {},
   "outputs": [],
   "source": [
    "usage_df[\"Sub_Type_State\"]=usage_df[\"Sub_Type\"].apply(lambda x: check_sub_type(x))"
   ]
  },
  {
   "cell_type": "code",
   "execution_count": 114,
   "metadata": {},
   "outputs": [],
   "source": [
    "def merge_sub_types(sub1,sub2):\n",
    "    if isinstance(sub1, float):\n",
    "        return sub2\n",
    "    else:\n",
    "        return sub1"
   ]
  },
  {
   "cell_type": "code",
   "execution_count": 115,
   "metadata": {},
   "outputs": [],
   "source": [
    "usage_df[\"Sub_Type\"] = usage_df.apply(lambda x: merge_sub_types(x[\"Sub_Type\"], x[\"Play_Type\"]), axis=1)"
   ]
  },
  {
   "cell_type": "code",
   "execution_count": 116,
   "metadata": {},
   "outputs": [],
   "source": [
    "usage_df.drop([\"Play_Type\"],axis=1,inplace=True)"
   ]
  },
  {
   "cell_type": "code",
   "execution_count": 117,
   "metadata": {},
   "outputs": [
    {
     "data": {
      "text/plain": [
       "Assumed    127087\n",
       "Actual      34799\n",
       "Name: Sub_Type_State, dtype: int64"
      ]
     },
     "execution_count": 117,
     "metadata": {},
     "output_type": "execute_result"
    }
   ],
   "source": [
    "usage_df[\"Sub_Type_State\"].value_counts()"
   ]
  },
  {
   "cell_type": "code",
   "execution_count": 118,
   "metadata": {},
   "outputs": [
    {
     "data": {
      "text/plain": [
       "SINGLE_PLAY       102004\n",
       "TRIPLE_PLAY        25748\n",
       "DOUBLE_PLAY_BV     25670\n",
       "DOUBLE_PLAY_PV      7918\n",
       "4G                   546\n",
       "Name: Sub_Type, dtype: int64"
      ]
     },
     "execution_count": 118,
     "metadata": {},
     "output_type": "execute_result"
    }
   ],
   "source": [
    "usage_df[\"Sub_Type\"].value_counts()"
   ]
  },
  {
   "cell_type": "markdown",
   "metadata": {},
   "source": [
    "### Note\n",
    "\n",
    "- Actual Subscription information - for **14412** Subscribers\n",
    "- Assumed on usage - **30187**"
   ]
  },
  {
   "cell_type": "markdown",
   "metadata": {},
   "source": [
    "### Wait! Contradiction??"
   ]
  },
  {
   "cell_type": "code",
   "execution_count": 119,
   "metadata": {},
   "outputs": [
    {
     "data": {
      "text/plain": [
       "LOW       709\n",
       "MEDIUM    249\n",
       "HIGH       63\n",
       "Name: BB_Categorical, dtype: int64"
      ]
     },
     "execution_count": 119,
     "metadata": {},
     "output_type": "execute_result"
    }
   ],
   "source": [
    "usage_df[(usage_df[\"Sub_Type\"] == \"DOUBLE_PLAY_PV\")][\"BB_Categorical\"].value_counts()"
   ]
  },
  {
   "cell_type": "code",
   "execution_count": 120,
   "metadata": {},
   "outputs": [
    {
     "data": {
      "text/plain": [
       "LOW       658\n",
       "MEDIUM    144\n",
       "HIGH       74\n",
       "Name: BB_Categorical, dtype: int64"
      ]
     },
     "execution_count": 120,
     "metadata": {},
     "output_type": "execute_result"
    }
   ],
   "source": [
    "usage_df[(usage_df[\"Sub_Type\"] == \"SINGLE_PLAY\")][\"BB_Categorical\"].value_counts()"
   ]
  },
  {
   "cell_type": "code",
   "execution_count": 121,
   "metadata": {},
   "outputs": [
    {
     "data": {
      "text/plain": [
       "LOW       57\n",
       "MEDIUM    41\n",
       "HIGH      18\n",
       "Name: PEO_TV_Categorical, dtype: int64"
      ]
     },
     "execution_count": 121,
     "metadata": {},
     "output_type": "execute_result"
    }
   ],
   "source": [
    "usage_df[(usage_df[\"Sub_Type\"] == \"SINGLE_PLAY\")][\"PEO_TV_Categorical\"].value_counts()"
   ]
  },
  {
   "cell_type": "code",
   "execution_count": 122,
   "metadata": {},
   "outputs": [
    {
     "data": {
      "text/plain": [
       "MEDIUM    64\n",
       "LOW       59\n",
       "HIGH      29\n",
       "Name: PEO_TV_Categorical, dtype: int64"
      ]
     },
     "execution_count": 122,
     "metadata": {},
     "output_type": "execute_result"
    }
   ],
   "source": [
    "usage_df[(usage_df[\"Sub_Type\"] == \"DOUBLE_PLAY_BV\")][\"PEO_TV_Categorical\"].value_counts()"
   ]
  },
  {
   "cell_type": "markdown",
   "metadata": {},
   "source": [
    "### Why??\n",
    "- These subscribers may have used the services within 2019-01 to 2021-01 and however downgraded thier services by the time of BSS dataset has generated"
   ]
  },
  {
   "cell_type": "markdown",
   "metadata": {},
   "source": [
    "### Dropping contradictory subscribers"
   ]
  },
  {
   "cell_type": "code",
   "execution_count": 123,
   "metadata": {},
   "outputs": [],
   "source": [
    "usage_df = usage_df.drop(usage_df[(usage_df[\"Sub_Type\"] == \"DOUBLE_PLAY_PV\") & (usage_df[\"BB_Categorical\"].notna())].index)"
   ]
  },
  {
   "cell_type": "code",
   "execution_count": 124,
   "metadata": {},
   "outputs": [
    {
     "data": {
      "text/plain": [
       "Series([], Name: BB_Categorical, dtype: int64)"
      ]
     },
     "execution_count": 124,
     "metadata": {},
     "output_type": "execute_result"
    }
   ],
   "source": [
    "usage_df[(usage_df[\"Sub_Type\"] == \"DOUBLE_PLAY_PV\")][\"BB_Categorical\"].value_counts()"
   ]
  },
  {
   "cell_type": "code",
   "execution_count": 125,
   "metadata": {},
   "outputs": [],
   "source": [
    "usage_df = usage_df.drop(usage_df[(usage_df[\"Sub_Type\"] == \"SINGLE_PLAY\") & (usage_df[\"BB_Categorical\"].notna())].index)"
   ]
  },
  {
   "cell_type": "code",
   "execution_count": 126,
   "metadata": {},
   "outputs": [
    {
     "data": {
      "text/plain": [
       "Series([], Name: BB_Categorical, dtype: int64)"
      ]
     },
     "execution_count": 126,
     "metadata": {},
     "output_type": "execute_result"
    }
   ],
   "source": [
    "usage_df[(usage_df[\"Sub_Type\"] == \"SINGLE_PLAY\")][\"BB_Categorical\"].value_counts()"
   ]
  },
  {
   "cell_type": "code",
   "execution_count": 127,
   "metadata": {},
   "outputs": [],
   "source": [
    "usage_df = usage_df.drop(usage_df[(usage_df[\"Sub_Type\"] == \"SINGLE_PLAY\") & (usage_df[\"PEO_TV_Categorical\"] != \"NO\") & (usage_df[\"PEO_TV_Categorical\"].notna())].index)"
   ]
  },
  {
   "cell_type": "code",
   "execution_count": 128,
   "metadata": {},
   "outputs": [
    {
     "data": {
      "text/plain": [
       "Series([], Name: PEO_TV_Categorical, dtype: int64)"
      ]
     },
     "execution_count": 128,
     "metadata": {},
     "output_type": "execute_result"
    }
   ],
   "source": [
    "usage_df[(usage_df[\"Sub_Type\"] == \"SINGLE_PLAY\")][\"PEO_TV_Categorical\"].value_counts()"
   ]
  },
  {
   "cell_type": "code",
   "execution_count": 129,
   "metadata": {},
   "outputs": [],
   "source": [
    "usage_df = usage_df.drop(usage_df[(usage_df[\"Sub_Type\"] == \"DOUBLE_PLAY_BV\") & (usage_df[\"PEO_TV_Categorical\"] != \"NO\") & (usage_df[\"PEO_TV_Categorical\"].notna())].index)"
   ]
  },
  {
   "cell_type": "code",
   "execution_count": 130,
   "metadata": {},
   "outputs": [
    {
     "data": {
      "text/plain": [
       "Series([], Name: PEO_TV_Categorical, dtype: int64)"
      ]
     },
     "execution_count": 130,
     "metadata": {},
     "output_type": "execute_result"
    }
   ],
   "source": [
    "usage_df[(usage_df[\"Sub_Type\"] == \"DOUBLE_PLAY_BV\")][\"PEO_TV_Categorical\"].value_counts()"
   ]
  },
  {
   "cell_type": "code",
   "execution_count": 131,
   "metadata": {},
   "outputs": [
    {
     "data": {
      "text/plain": [
       "SINGLE_PLAY       101091\n",
       "TRIPLE_PLAY        25748\n",
       "DOUBLE_PLAY_BV     25518\n",
       "DOUBLE_PLAY_PV      6897\n",
       "4G                   546\n",
       "Name: Sub_Type, dtype: int64"
      ]
     },
     "execution_count": 131,
     "metadata": {},
     "output_type": "execute_result"
    }
   ],
   "source": [
    "usage_df[\"Sub_Type\"].value_counts()"
   ]
  },
  {
   "cell_type": "code",
   "execution_count": 132,
   "metadata": {},
   "outputs": [
    {
     "data": {
      "text/plain": [
       "<AxesSubplot:ylabel='Sub_Type'>"
      ]
     },
     "execution_count": 132,
     "metadata": {},
     "output_type": "execute_result"
    },
    {
     "data": {
      "image/png": "[encoded data removed]",
      "text/plain": [
       "<Figure size 648x648 with 1 Axes>"
      ]
     },
     "metadata": {},
     "output_type": "display_data"
    }
   ],
   "source": [
    "usage_df[\"Sub_Type\"].value_counts().plot(kind='pie', figsize=(9,9), autopct='%1.1f%%', colors=['pink','yellow','orange','green','blue'])"
   ]
  },
  {
   "cell_type": "code",
   "execution_count": null,
   "metadata": {},
   "outputs": [],
   "source": []
  },
  {
   "cell_type": "markdown",
   "metadata": {},
   "source": [
    "## Service Packages and VAS\n",
    "- categories derived from \"Product State Changes\" and \"VAS\" datasets"
   ]
  },
  {
   "cell_type": "code",
   "execution_count": 135,
   "metadata": {},
   "outputs": [],
   "source": [
    "usage_df = usage_df.merge(megaline_agg_df,how='left', on='ACCOUNT_NUM.hash')"
   ]
  },
  {
   "cell_type": "code",
   "execution_count": 136,
   "metadata": {},
   "outputs": [],
   "source": [
    "usage_df = usage_df.merge(ftth_agg_df,how='left', on='ACCOUNT_NUM.hash')"
   ]
  },
  {
   "cell_type": "code",
   "execution_count": 137,
   "metadata": {},
   "outputs": [],
   "source": [
    "usage_df.Package_Type_x.fillna(usage_df.Package_Type_y,inplace=True)\n",
    "usage_df.is_Promotion_x.fillna(usage_df.is_Promotion_y,inplace=True)\n",
    "usage_df.drop([\"Package_Type_y\",\"is_Promotion_y\"],axis=1, inplace=True)\n",
    "usage_df.rename(columns={\"Package_Type_x\":\"Package_Type\",\"is_Promotion_x\":\"is_Promotion\"},inplace=True)"
   ]
  },
  {
   "cell_type": "code",
   "execution_count": 138,
   "metadata": {},
   "outputs": [],
   "source": [
    "usage_df = usage_df.merge(lte_agg_df,how='left', on='ACCOUNT_NUM.hash')"
   ]
  },
  {
   "cell_type": "code",
   "execution_count": 139,
   "metadata": {},
   "outputs": [],
   "source": [
    "usage_df.Package_Type_x.fillna(usage_df.Package_Type_y,inplace=True)\n",
    "usage_df.is_Promotion_x.fillna(usage_df.is_Promotion_y,inplace=True)\n",
    "usage_df.drop([\"Package_Type_y\",\"is_Promotion_y\"],axis=1, inplace=True)\n",
    "usage_df.rename(columns={\"Package_Type_x\":\"Package_Type\",\"is_Promotion_x\":\"is_Promotion\"},inplace=True)"
   ]
  },
  {
   "cell_type": "code",
   "execution_count": 140,
   "metadata": {},
   "outputs": [],
   "source": [
    "vas_agg_df.rename(columns={\"Package\":\"VAS_Package\",\"Month_Subscribed\":\"VAS_Month_Subscribed\",\"Rental\":\"VAS_Rental\"},inplace=True)"
   ]
  },
  {
   "cell_type": "code",
   "execution_count": 141,
   "metadata": {},
   "outputs": [],
   "source": [
    "# scaling usage rating\n",
    "scaler = MinMaxScaler()\n",
    "vas_agg_df['VAS_Rental_Scaled'] = scaler.fit_transform(vas_agg_df['VAS_Rental'].values.reshape(-1,1))"
   ]
  },
  {
   "cell_type": "code",
   "execution_count": 143,
   "metadata": {},
   "outputs": [],
   "source": [
    "usage_df = usage_df.merge(vas_agg_df,how='left', on='ACCOUNT_NUM.hash')"
   ]
  },
  {
   "cell_type": "code",
   "execution_count": 144,
   "metadata": {},
   "outputs": [],
   "source": [
    "usage_df.Package_Type_x.fillna(usage_df.Package_Type_y,inplace=True)"
   ]
  },
  {
   "cell_type": "code",
   "execution_count": 145,
   "metadata": {},
   "outputs": [],
   "source": [
    "usage_df.drop([\"Package_Type_y\"],axis=1, inplace=True)\n",
    "usage_df.rename(columns={\"Package_Type_x\":\"Package_Type\"},inplace=True)"
   ]
  },
  {
   "cell_type": "markdown",
   "metadata": {},
   "source": [
    "## Subscription upgrades and Downgrades"
   ]
  },
  {
   "cell_type": "code",
   "execution_count": 146,
   "metadata": {},
   "outputs": [
    {
     "name": "stdout",
     "output_type": "stream",
     "text": [
      "<class 'pandas.core.frame.DataFrame'>\n",
      "RangeIndex: 20804 entries, 0 to 20803\n",
      "Data columns (total 4 columns):\n",
      " #   Column             Non-Null Count  Dtype \n",
      "---  ------             --------------  ----- \n",
      " 0   ACCOUNT_NUM.hash   20804 non-null  object\n",
      " 1   Sub_Update_Date    20799 non-null  object\n",
      " 2   Sub_Update_Status  20804 non-null  object\n",
      " 3   Sub_Update         20804 non-null  object\n",
      "dtypes: object(4)\n",
      "memory usage: 650.2+ KB\n"
     ]
    }
   ],
   "source": [
    "promo_change_df.info()"
   ]
  },
  {
   "cell_type": "code",
   "execution_count": 147,
   "metadata": {},
   "outputs": [],
   "source": [
    "usage_df = usage_df.merge(promo_change_df,how='left', on='ACCOUNT_NUM.hash')"
   ]
  },
  {
   "cell_type": "code",
   "execution_count": 148,
   "metadata": {},
   "outputs": [
    {
     "data": {
      "text/plain": [
       "Sub_Update_Status    Sub_Update                      \n",
       "Promotion Upgrade    SINGLE_PLAY -> DOUBLE_PLAY_BV       5944\n",
       "                     SINGLE_PLAY -> DOUBLE_PLAY_PV       5713\n",
       "                     DOUBLE_PLAY_PV -> TRIPLE_PLAY       5170\n",
       "                     DOUBLE_PLAY_BV -> TRIPLE_PLAY       4582\n",
       "Promotion Downgrade  DOUBLE_PLAY_BV -> SINGLE_PLAY       4101\n",
       "                     TRIPLE_PLAY -> DOUBLE_PLAY_PV       2490\n",
       "Promotion Upgrade    SINGLE_PLAY -> TRIPLE_PLAY          1153\n",
       "Promotion Downgrade  TRIPLE_PLAY -> DOUBLE_PLAY_BV       1142\n",
       "                     DOUBLE_PLAY_PV -> SINGLE_PLAY        747\n",
       "                     TRIPLE_PLAY -> SINGLE_PLAY           707\n",
       "                     DOUBLE_PLAY_BV -> 4G                 343\n",
       "Promotion Upgrade    4G -> DOUBLE_PLAY_BV                 239\n",
       "                     4G -> 4G                             157\n",
       "Promotion Downgrade  4G -> 4G                              55\n",
       "Promotion Upgrade    DOUBLE_PLAY_BV -> DOUBLE_PLAY_PV      20\n",
       "                     DOUBLE_PLAY_PV -> DOUBLE_PLAY_BV      14\n",
       "                     SINGLE_PLAY -> 4G                      9\n",
       "Promotion Downgrade  4G -> SINGLE_PLAY                      6\n",
       "                     SINGLE_PLAY -> TRIPLE_PLAY             3\n",
       "                     SINGLE_PLAY -> 4G                      3\n",
       "Promotion Upgrade    4G -> SINGLE_PLAY                      2\n",
       "                     DOUBLE_PLAY_BV -> 4G                   2\n",
       "                     DOUBLE_PLAY_PV -> SINGLE_PLAY          2\n",
       "Promotion Downgrade  SINGLE_PLAY -> DOUBLE_PLAY_PV          2\n",
       "                     DOUBLE_PLAY_BV -> DOUBLE_PLAY_PV       2\n",
       "Promotion Upgrade    TRIPLE_PLAY -> SINGLE_PLAY             1\n",
       "dtype: int64"
      ]
     },
     "execution_count": 148,
     "metadata": {},
     "output_type": "execute_result"
    }
   ],
   "source": [
    "usage_df[[\"Sub_Update_Status\",\"Sub_Update\"]].value_counts()"
   ]
  },
  {
   "cell_type": "code",
   "execution_count": 149,
   "metadata": {},
   "outputs": [
    {
     "data": {
      "text/plain": [
       "<AxesSubplot:ylabel='None'>"
      ]
     },
     "execution_count": 149,
     "metadata": {},
     "output_type": "execute_result"
    },
    {
     "data": {
      "image/png": "[encoded data removed]",
      "text/plain": [
       "<Figure size 720x720 with 1 Axes>"
      ]
     },
     "metadata": {},
     "output_type": "display_data"
    }
   ],
   "source": [
    "fig = plt.figure(figsize=(10,10))\n",
    "ax = plt.subplot(111)\n",
    "usage_df[[\"Sub_Update_Status\"]].value_counts().plot(kind='pie', ax=ax, autopct='%1.1f%%', startangle=270, fontsize=12)"
   ]
  },
  {
   "cell_type": "code",
   "execution_count": null,
   "metadata": {},
   "outputs": [],
   "source": []
  },
  {
   "cell_type": "markdown",
   "metadata": {},
   "source": [
    "## BB Extra GB Purchased"
   ]
  },
  {
   "cell_type": "code",
   "execution_count": 150,
   "metadata": {},
   "outputs": [],
   "source": [
    "extra_GB_df.rename(columns={\"Month_Subscribed\":\"BB_Extra_GB_Purchased_Month\",\"Rental\":\"BB_Extra_GB_Rental\",\"BB_Package\":\"EGB_BB_Package\",\"GB_AMOUNT\":\"GB_Amount\"}, inplace=True)"
   ]
  },
  {
   "cell_type": "code",
   "execution_count": 151,
   "metadata": {},
   "outputs": [],
   "source": [
    "extra_GB_df[\"BB_Extra_GB_Usage_Times\"] = 1"
   ]
  },
  {
   "cell_type": "code",
   "execution_count": 152,
   "metadata": {},
   "outputs": [],
   "source": [
    "extra_GB_agg_df = extra_GB_df.groupby('ACCOUNT_NUM.hash', as_index=False).agg(list)"
   ]
  },
  {
   "cell_type": "code",
   "execution_count": 153,
   "metadata": {},
   "outputs": [],
   "source": [
    "extra_GB_agg_df['BB_Extra_GB_Usage_Times'] = extra_GB_agg_df.apply(lambda x: len(x['BB_Extra_GB_Usage_Times']), axis=1)"
   ]
  },
  {
   "cell_type": "code",
   "execution_count": 154,
   "metadata": {},
   "outputs": [],
   "source": [
    "def list_zipper(list1,list2):\n",
    "    return dict(zip(list1,list2))\n",
    "\n",
    "def total_rental(col):\n",
    "    #col = literal_eval(col)\n",
    "    new_val = 0\n",
    "    try:\n",
    "        for i in col:\n",
    "            new_val = new_val + int(i)\n",
    "    except:\n",
    "        pass\n",
    "    return new_val"
   ]
  },
  {
   "cell_type": "code",
   "execution_count": 155,
   "metadata": {},
   "outputs": [],
   "source": [
    "extra_GB_agg_df['BB_Extra_GB_Month_vs_Rental'] = extra_GB_agg_df.apply(lambda x: list_zipper(x['BB_Extra_GB_Purchased_Month'],x['BB_Extra_GB_Rental']), axis=1)"
   ]
  },
  {
   "cell_type": "code",
   "execution_count": 156,
   "metadata": {},
   "outputs": [],
   "source": [
    "extra_GB_agg_df.drop([\"BB_Extra_GB_Purchased_Month\"],axis=1, inplace=True)"
   ]
  },
  {
   "cell_type": "code",
   "execution_count": 157,
   "metadata": {},
   "outputs": [],
   "source": [
    "extra_GB_agg_df[\"BB_Extra_GB_Rental\"] = extra_GB_agg_df[\"BB_Extra_GB_Rental\"].apply(lambda x: total_rental(x))\n",
    "extra_GB_agg_df[\"GB_Amount\"] = extra_GB_agg_df[\"GB_Amount\"].apply(lambda x: total_rental(x))"
   ]
  },
  {
   "cell_type": "code",
   "execution_count": 158,
   "metadata": {},
   "outputs": [],
   "source": [
    "extra_GB_agg_df[\"Hour_Subscribed\"] = extra_GB_agg_df[\"Hour_Subscribed\"].apply(lambda x: clean_lists(x))\n",
    "extra_GB_agg_df[\"EGB_BB_Package\"] = extra_GB_agg_df[\"EGB_BB_Package\"].apply(lambda x: clean_lists(x))"
   ]
  },
  {
   "cell_type": "code",
   "execution_count": 159,
   "metadata": {},
   "outputs": [
    {
     "data": {
      "text/plain": [
       "FTTH_WEB FAMILY PLUS                                                      3978\n",
       "WEB LITE                                                                  3858\n",
       "WEB FAMILY PLUS                                                           2337\n",
       "LTE_WEB STARTER                                                           2215\n",
       "WEB STARTER                                                               1904\n",
       "                                                                          ... \n",
       "['WEB PAL', 'WEB FAMILY XTRA', 'WEB FAMILY ACTIVE', 'WEB FAMILY PLUS']       1\n",
       "['FTTH_WEB FAMILY PLUS', 'FTTH_WEB FAMILY XTRA', 'FTTH_ANY BLAZE']           1\n",
       "['FTTH_WEB FAMILY PLUS', 'WEB PAL', 'WEB FAMILY PLUS']                       1\n",
       "['FTTH_WEB FAMILY PLUS', 'FTTH_ANY TIDE', 'FTTH_ANY SPIKE']                  1\n",
       "['FTTH_WEB PRO', 'FTTH_WEB BOOSTER']                                         1\n",
       "Name: EGB_BB_Package, Length: 509, dtype: int64"
      ]
     },
     "execution_count": 159,
     "metadata": {},
     "output_type": "execute_result"
    }
   ],
   "source": [
    "extra_GB_agg_df[\"EGB_BB_Package\"].astype(\"str\").value_counts()"
   ]
  },
  {
   "cell_type": "code",
   "execution_count": 160,
   "metadata": {},
   "outputs": [],
   "source": [
    "scaler = MinMaxScaler()\n",
    "extra_GB_agg_df[\"BB_Extra_GB_Purchased_Scaled\"] = scaler.fit_transform(extra_GB_agg_df[\"BB_Extra_GB_Rental\"].values.reshape(-1,1))"
   ]
  },
  {
   "cell_type": "code",
   "execution_count": 161,
   "metadata": {},
   "outputs": [],
   "source": [
    "extra_GB_agg_df[\"BB_Extra_GB_Purchased_Scaled\"] = extra_GB_agg_df[\"BB_Extra_GB_Purchased_Scaled\"].apply(lambda x: 0.01 if x==0.0 else x)"
   ]
  },
  {
   "cell_type": "code",
   "execution_count": 162,
   "metadata": {},
   "outputs": [
    {
     "data": {
      "text/plain": [
       "count    29374.000000\n",
       "mean         0.007785\n",
       "std          0.015151\n",
       "min          0.000322\n",
       "25%          0.001369\n",
       "50%          0.003221\n",
       "75%          0.008293\n",
       "max          1.000000\n",
       "Name: BB_Extra_GB_Purchased_Scaled, dtype: float64"
      ]
     },
     "execution_count": 162,
     "metadata": {},
     "output_type": "execute_result"
    }
   ],
   "source": [
    "extra_GB_agg_df[\"BB_Extra_GB_Purchased_Scaled\"].describe()"
   ]
  },
  {
   "cell_type": "code",
   "execution_count": 163,
   "metadata": {},
   "outputs": [],
   "source": [
    "# binning\n",
    "bins = [0, 0.33, 0.66,1]\n",
    "labels = ['LOW','MEDIUM','HIGH']\n",
    "extra_GB_agg_df['BB_Extra_GB_Purchase_Categorical'] = pd.cut(extra_GB_agg_df['BB_Extra_GB_Purchased_Scaled'], bins=bins, labels=labels)"
   ]
  },
  {
   "cell_type": "code",
   "execution_count": 164,
   "metadata": {},
   "outputs": [],
   "source": [
    "def get_night_hour(col):\n",
    "    if not isinstance(col,float):\n",
    "        if not isinstance(col, list):\n",
    "            col = [col]\n",
    "        night_time = 0\n",
    "        for i in col:\n",
    "            if i in range(0,8) or i >= 22:\n",
    "                night_time += 0.2\n",
    "        return night_time\n",
    "    else:\n",
    "        return 0\n",
    "    \n",
    "    \n",
    "def get_day_hour(col):\n",
    "    if not isinstance(col,float):\n",
    "        if not isinstance(col, list):\n",
    "            col = [col]\n",
    "        day_time = 0\n",
    "        for i in col:\n",
    "            if i in range(9,22):\n",
    "                day_time += 0.5\n",
    "        return day_time\n",
    "    else:\n",
    "        return 0"
   ]
  },
  {
   "cell_type": "code",
   "execution_count": 165,
   "metadata": {},
   "outputs": [],
   "source": [
    "extra_GB_agg_df[\"BB_Extra_GB_Subscribed_Night\"] = extra_GB_agg_df[\"Hour_Subscribed\"].apply(lambda x: get_night_hour(x))"
   ]
  },
  {
   "cell_type": "code",
   "execution_count": 166,
   "metadata": {},
   "outputs": [],
   "source": [
    "extra_GB_agg_df[\"BB_Extra_GB_Subscribed_Day\"] = extra_GB_agg_df[\"Hour_Subscribed\"].apply(lambda x: get_day_hour(x))"
   ]
  },
  {
   "cell_type": "code",
   "execution_count": 167,
   "metadata": {},
   "outputs": [],
   "source": [
    "# scaling usage rating\n",
    "scaler = MinMaxScaler()\n",
    "extra_GB_agg_df['BB_Extra_GB_Rental_Scaled'] = scaler.fit_transform(extra_GB_agg_df['BB_Extra_GB_Rental'].values.reshape(-1,1))"
   ]
  },
  {
   "cell_type": "code",
   "execution_count": 168,
   "metadata": {},
   "outputs": [],
   "source": [
    "extra_GB_agg_df.rename(columns={\"GB_Amount\":\"BB_Extra_GB_Amount\",\"Hour_Subscribed\": \"BB_Extra_GB_Hour_Subscribed\"}, inplace=True)"
   ]
  },
  {
   "cell_type": "code",
   "execution_count": 169,
   "metadata": {},
   "outputs": [
    {
     "name": "stdout",
     "output_type": "stream",
     "text": [
      "<class 'pandas.core.frame.DataFrame'>\n",
      "RangeIndex: 29374 entries, 0 to 29373\n",
      "Data columns (total 12 columns):\n",
      " #   Column                            Non-Null Count  Dtype   \n",
      "---  ------                            --------------  -----   \n",
      " 0   ACCOUNT_NUM.hash                  29374 non-null  object  \n",
      " 1   BB_Extra_GB_Rental                29374 non-null  int64   \n",
      " 2   EGB_BB_Package                    29374 non-null  object  \n",
      " 3   BB_Extra_GB_Amount                29374 non-null  int64   \n",
      " 4   BB_Extra_GB_Hour_Subscribed       29374 non-null  object  \n",
      " 5   BB_Extra_GB_Usage_Times           29374 non-null  int64   \n",
      " 6   BB_Extra_GB_Month_vs_Rental       29374 non-null  object  \n",
      " 7   BB_Extra_GB_Purchased_Scaled      29374 non-null  float64 \n",
      " 8   BB_Extra_GB_Purchase_Categorical  29374 non-null  category\n",
      " 9   BB_Extra_GB_Subscribed_Night      29374 non-null  float64 \n",
      " 10  BB_Extra_GB_Subscribed_Day        29374 non-null  float64 \n",
      " 11  BB_Extra_GB_Rental_Scaled         29374 non-null  float64 \n",
      "dtypes: category(1), float64(4), int64(3), object(4)\n",
      "memory usage: 2.5+ MB\n"
     ]
    }
   ],
   "source": [
    "extra_GB_agg_df.info()"
   ]
  },
  {
   "cell_type": "code",
   "execution_count": 170,
   "metadata": {},
   "outputs": [],
   "source": [
    "usage_df = usage_df.merge(extra_GB_agg_df,how='left', on='ACCOUNT_NUM.hash')"
   ]
  },
  {
   "cell_type": "code",
   "execution_count": 171,
   "metadata": {},
   "outputs": [],
   "source": [
    "usage_df.BB_Package.fillna(usage_df.EGB_BB_Package,inplace=True)\n",
    "usage_df.drop([\"EGB_BB_Package\"], axis=1, inplace=True)"
   ]
  },
  {
   "cell_type": "markdown",
   "metadata": {},
   "source": [
    "## PeoTV Extra Channels Purchased"
   ]
  },
  {
   "cell_type": "code",
   "execution_count": 172,
   "metadata": {},
   "outputs": [],
   "source": [
    "extra_Peo_df.rename(columns={\"Month_Subscribed\":\"Peo_Extra_Channels_Purchased_Month\",\"Rental\":\"Peo_Extra_Channels_Rental\"}, inplace=True)"
   ]
  },
  {
   "cell_type": "code",
   "execution_count": 173,
   "metadata": {},
   "outputs": [
    {
     "name": "stdout",
     "output_type": "stream",
     "text": [
      "<class 'pandas.core.frame.DataFrame'>\n",
      "RangeIndex: 151902 entries, 0 to 151901\n",
      "Data columns (total 3 columns):\n",
      " #   Column                              Non-Null Count   Dtype \n",
      "---  ------                              --------------   ----- \n",
      " 0   ACCOUNT_NUM.hash                    151902 non-null  object\n",
      " 1   Peo_Extra_Channels_Purchased_Month  151902 non-null  object\n",
      " 2   Peo_Extra_Channels_Rental           151902 non-null  int64 \n",
      "dtypes: int64(1), object(2)\n",
      "memory usage: 3.5+ MB\n"
     ]
    }
   ],
   "source": [
    "extra_Peo_df.info()"
   ]
  },
  {
   "cell_type": "code",
   "execution_count": 174,
   "metadata": {},
   "outputs": [
    {
     "data": {
      "text/plain": [
       "21847"
      ]
     },
     "execution_count": 174,
     "metadata": {},
     "output_type": "execute_result"
    }
   ],
   "source": [
    "len(extra_Peo_df[\"ACCOUNT_NUM.hash\"].unique())"
   ]
  },
  {
   "cell_type": "code",
   "execution_count": 175,
   "metadata": {},
   "outputs": [],
   "source": [
    "extra_Peo_agg_df = extra_Peo_df.groupby('ACCOUNT_NUM.hash', as_index=False).agg(list)"
   ]
  },
  {
   "cell_type": "code",
   "execution_count": 176,
   "metadata": {},
   "outputs": [],
   "source": [
    "extra_Peo_agg_df['Peo_Extra_Channels_Cumulative_Rental'] = extra_Peo_agg_df.apply(lambda x: sum(x['Peo_Extra_Channels_Rental']), axis=1)"
   ]
  },
  {
   "cell_type": "code",
   "execution_count": 177,
   "metadata": {},
   "outputs": [],
   "source": [
    "extra_Peo_agg_df['Peo_Extra_Channels_Month_vs_Rental'] = extra_Peo_agg_df.apply(lambda x: list_zipper(x['Peo_Extra_Channels_Purchased_Month'],x['Peo_Extra_Channels_Rental']), axis=1)"
   ]
  },
  {
   "cell_type": "code",
   "execution_count": 178,
   "metadata": {},
   "outputs": [],
   "source": [
    "extra_Peo_agg_df.drop([\"Peo_Extra_Channels_Purchased_Month\",\"Peo_Extra_Channels_Rental\"],axis=1, inplace=True)"
   ]
  },
  {
   "cell_type": "code",
   "execution_count": 179,
   "metadata": {},
   "outputs": [],
   "source": [
    "scaler = MinMaxScaler()\n",
    "extra_Peo_agg_df[\"Peo_Extra_Channels_Purchased_Scaled\"] = scaler.fit_transform(extra_Peo_agg_df[\"Peo_Extra_Channels_Cumulative_Rental\"].values.reshape(-1,1))"
   ]
  },
  {
   "cell_type": "code",
   "execution_count": 180,
   "metadata": {},
   "outputs": [],
   "source": [
    "extra_Peo_agg_df[\"Peo_Extra_Channels_Purchased_Scaled\"] = extra_Peo_agg_df[\"Peo_Extra_Channels_Purchased_Scaled\"].apply(lambda x: 0.01 if x==0.0 else x)"
   ]
  },
  {
   "cell_type": "code",
   "execution_count": 181,
   "metadata": {},
   "outputs": [
    {
     "data": {
      "text/plain": [
       "count    21847.000000\n",
       "mean         0.299167\n",
       "std          0.163587\n",
       "min          0.010000\n",
       "25%          0.150000\n",
       "50%          0.350000\n",
       "75%          0.450000\n",
       "max          1.000000\n",
       "Name: Peo_Extra_Channels_Purchased_Scaled, dtype: float64"
      ]
     },
     "execution_count": 181,
     "metadata": {},
     "output_type": "execute_result"
    }
   ],
   "source": [
    "extra_Peo_agg_df[\"Peo_Extra_Channels_Purchased_Scaled\"].describe()"
   ]
  },
  {
   "cell_type": "code",
   "execution_count": 182,
   "metadata": {},
   "outputs": [],
   "source": [
    "# binning\n",
    "bins = [0, 0.33, 0.66,1]\n",
    "labels = ['LOW','MEDIUM','HIGH']\n",
    "extra_Peo_agg_df['Peo_Extra_Channels_Purchased_Categorical'] = pd.cut(extra_Peo_agg_df['Peo_Extra_Channels_Purchased_Scaled'], bins=bins, labels=labels)"
   ]
  },
  {
   "cell_type": "code",
   "execution_count": 183,
   "metadata": {},
   "outputs": [
    {
     "name": "stdout",
     "output_type": "stream",
     "text": [
      "<class 'pandas.core.frame.DataFrame'>\n",
      "RangeIndex: 21847 entries, 0 to 21846\n",
      "Data columns (total 5 columns):\n",
      " #   Column                                    Non-Null Count  Dtype   \n",
      "---  ------                                    --------------  -----   \n",
      " 0   ACCOUNT_NUM.hash                          21847 non-null  object  \n",
      " 1   Peo_Extra_Channels_Cumulative_Rental      21847 non-null  int64   \n",
      " 2   Peo_Extra_Channels_Month_vs_Rental        21847 non-null  object  \n",
      " 3   Peo_Extra_Channels_Purchased_Scaled       21847 non-null  float64 \n",
      " 4   Peo_Extra_Channels_Purchased_Categorical  21847 non-null  category\n",
      "dtypes: category(1), float64(1), int64(1), object(2)\n",
      "memory usage: 704.3+ KB\n"
     ]
    }
   ],
   "source": [
    "extra_Peo_agg_df.info()"
   ]
  },
  {
   "cell_type": "code",
   "execution_count": 184,
   "metadata": {},
   "outputs": [],
   "source": [
    "usage_df = usage_df.merge(extra_Peo_agg_df,how='left', on='ACCOUNT_NUM.hash')"
   ]
  },
  {
   "cell_type": "markdown",
   "metadata": {},
   "source": [
    "## Payment and Billing Info"
   ]
  },
  {
   "cell_type": "code",
   "execution_count": 185,
   "metadata": {},
   "outputs": [],
   "source": [
    "for col in billing_df.columns[1:]:\n",
    "    billing_df.rename(columns={col:\"Bill_{}\".format(col)},inplace=True)"
   ]
  },
  {
   "cell_type": "code",
   "execution_count": 186,
   "metadata": {},
   "outputs": [
    {
     "data": {
      "text/plain": [
       "110888"
      ]
     },
     "execution_count": 186,
     "metadata": {},
     "output_type": "execute_result"
    }
   ],
   "source": [
    "len(billing_df[\"ACCOUNT_NUM.hash\"].unique())"
   ]
  },
  {
   "cell_type": "code",
   "execution_count": 187,
   "metadata": {},
   "outputs": [
    {
     "name": "stderr",
     "output_type": "stream",
     "text": [
      "/var/folders/00/gmvdw06n48lgtsz126ng5y2m0000gn/T/ipykernel_11011/1610280062.py:2: SettingWithCopyWarning: \n",
      "A value is trying to be set on a copy of a slice from a DataFrame.\n",
      "Try using .loc[row_indexer,col_indexer] = value instead\n",
      "\n",
      "See the caveats in the documentation: https://pandas.pydata.org/pandas-docs/stable/user_guide/indexing.html#returning-a-view-versus-a-copy\n",
      "  only_accs_df[\"acc_num_new\"] = only_accs_df[\"ACCOUNT_NUM.hash\"]\n",
      "/Users/chiranhewawitharana/mambaforge/envs/mactf/lib/python3.8/site-packages/pandas/core/frame.py:4906: SettingWithCopyWarning: \n",
      "A value is trying to be set on a copy of a slice from a DataFrame\n",
      "\n",
      "See the caveats in the documentation: https://pandas.pydata.org/pandas-docs/stable/user_guide/indexing.html#returning-a-view-versus-a-copy\n",
      "  return super().drop(\n"
     ]
    }
   ],
   "source": [
    "only_accs_df = usage_df[[\"ACCOUNT_NUM.hash\",\"Model\"]]\n",
    "only_accs_df[\"acc_num_new\"] = only_accs_df[\"ACCOUNT_NUM.hash\"]\n",
    "only_accs_df.drop(\"Model\",axis=1, inplace=True)"
   ]
  },
  {
   "cell_type": "code",
   "execution_count": 188,
   "metadata": {},
   "outputs": [],
   "source": [
    "billing_reduced_df = billing_df.merge(only_accs_df,how='left', on='ACCOUNT_NUM.hash')\n",
    "billing_reduced_df.drop_duplicates([\"acc_num_new\"],inplace=True)\n",
    "billing_reduced_df.drop([\"ACCOUNT_NUM.hash\"],axis=1,inplace=True)\n",
    "billing_reduced_df.rename(columns={\"acc_num_new\":\"ACCOUNT_NUM.hash\"},inplace=True)"
   ]
  },
  {
   "cell_type": "code",
   "execution_count": 189,
   "metadata": {},
   "outputs": [],
   "source": [
    "billing_reduced_df.reset_index(inplace=True)\n",
    "billing_reduced_df.drop(\"index\", axis=1, inplace= True)"
   ]
  },
  {
   "cell_type": "code",
   "execution_count": 190,
   "metadata": {},
   "outputs": [
    {
     "name": "stdout",
     "output_type": "stream",
     "text": [
      "<class 'pandas.core.frame.DataFrame'>\n",
      "RangeIndex: 81560 entries, 0 to 81559\n",
      "Data columns (total 13 columns):\n",
      " #   Column                    Non-Null Count  Dtype \n",
      "---  ------                    --------------  ----- \n",
      " 0   Bill_Balance_Froward      81560 non-null  int64 \n",
      " 1   Bill_Net_Invoice          81560 non-null  int64 \n",
      " 2   Bill_Tax_Invoice          81560 non-null  int64 \n",
      " 3   Bill_Outstanding_Balance  81560 non-null  int64 \n",
      " 4   Bill_Amount_Paid          81560 non-null  int64 \n",
      " 5   Bill_Faild_to_Pay         81560 non-null  int64 \n",
      " 6   Bill_Adjustment_Paid      81560 non-null  int64 \n",
      " 7   Bill_Refunds_Paid         81560 non-null  int64 \n",
      " 8   Bill_Payment_Due_Date     81560 non-null  object\n",
      " 9   Bill_Bill_Settled_Date    69202 non-null  object\n",
      " 10  Bill_Actual_Bill_Date     81560 non-null  object\n",
      " 11  Bill_Billing_Status       81560 non-null  object\n",
      " 12  ACCOUNT_NUM.hash          81559 non-null  object\n",
      "dtypes: int64(8), object(5)\n",
      "memory usage: 8.1+ MB\n"
     ]
    }
   ],
   "source": [
    "billing_reduced_df.info()"
   ]
  },
  {
   "cell_type": "code",
   "execution_count": 191,
   "metadata": {},
   "outputs": [],
   "source": [
    "usage_df = usage_df.merge(billing_reduced_df,how='left', on='ACCOUNT_NUM.hash')"
   ]
  },
  {
   "cell_type": "code",
   "execution_count": 192,
   "metadata": {},
   "outputs": [],
   "source": [
    "payments_df = payments_df.groupby('ACCOUNT_NUM.hash', as_index=False).agg(list)"
   ]
  },
  {
   "cell_type": "code",
   "execution_count": 193,
   "metadata": {},
   "outputs": [],
   "source": [
    "payments_df['Payments_Month_vs_Amount_Paid'] = payments_df.apply(lambda x: list_zipper(x['Payment_Month'],x['Amount_Paid']), axis=1)\n",
    "payments_df[\"Payment_Status\"] = payments_df[\"Payment_Status\"].apply(lambda x: clean_lists(x))\n",
    "payments_df.drop([\"Payment_Month\",\"Amount_Paid\"],axis=1, inplace=True)"
   ]
  },
  {
   "cell_type": "code",
   "execution_count": 194,
   "metadata": {},
   "outputs": [],
   "source": [
    "payment_reduced_df = payments_df.merge(only_accs_df,how='left', on='ACCOUNT_NUM.hash')\n",
    "payment_reduced_df.drop_duplicates([\"acc_num_new\"],inplace=True)\n",
    "payment_reduced_df.drop([\"ACCOUNT_NUM.hash\"],axis=1,inplace=True)\n",
    "payment_reduced_df.rename(columns={\"acc_num_new\":\"ACCOUNT_NUM.hash\"},inplace=True)"
   ]
  },
  {
   "cell_type": "code",
   "execution_count": 195,
   "metadata": {},
   "outputs": [],
   "source": [
    "payment_reduced_df.reset_index(inplace=True)\n",
    "payment_reduced_df.drop(\"index\", axis=1, inplace= True)"
   ]
  },
  {
   "cell_type": "code",
   "execution_count": 196,
   "metadata": {},
   "outputs": [
    {
     "name": "stdout",
     "output_type": "stream",
     "text": [
      "<class 'pandas.core.frame.DataFrame'>\n",
      "RangeIndex: 79691 entries, 0 to 79690\n",
      "Data columns (total 3 columns):\n",
      " #   Column                         Non-Null Count  Dtype \n",
      "---  ------                         --------------  ----- \n",
      " 0   Payment_Status                 79691 non-null  object\n",
      " 1   Payments_Month_vs_Amount_Paid  79691 non-null  object\n",
      " 2   ACCOUNT_NUM.hash               79690 non-null  object\n",
      "dtypes: object(3)\n",
      "memory usage: 1.8+ MB\n"
     ]
    }
   ],
   "source": [
    "payment_reduced_df.info()"
   ]
  },
  {
   "cell_type": "code",
   "execution_count": 197,
   "metadata": {},
   "outputs": [],
   "source": [
    "usage_df = usage_df.merge(payment_reduced_df,how='left', on='ACCOUNT_NUM.hash')"
   ]
  },
  {
   "cell_type": "markdown",
   "metadata": {},
   "source": [
    "### All Packages"
   ]
  },
  {
   "cell_type": "code",
   "execution_count": 203,
   "metadata": {},
   "outputs": [],
   "source": [
    "package_df = package_df[[\"ACCOUNT_NUM.hash\",\"Package_Formatted\",\"FREE_or_PAID\",\"is_Subscription\",\"TARIFF_DESC\",\"TARIFF_NAME\"]]"
   ]
  },
  {
   "cell_type": "code",
   "execution_count": 204,
   "metadata": {},
   "outputs": [],
   "source": [
    "package_df = package_df.groupby('ACCOUNT_NUM.hash', as_index=False).agg(list)"
   ]
  },
  {
   "cell_type": "code",
   "execution_count": 205,
   "metadata": {},
   "outputs": [],
   "source": [
    "for col in package_df.columns[1:]:\n",
    "    package_df[col] = package_df[col].apply(lambda x: clean_lists(x))"
   ]
  },
  {
   "cell_type": "code",
   "execution_count": 206,
   "metadata": {},
   "outputs": [],
   "source": [
    "def package_set(col):\n",
    "    for i in col:\n",
    "        if i == \"PAID\" or i== \"YES\":\n",
    "            return i\n",
    "    return col"
   ]
  },
  {
   "cell_type": "code",
   "execution_count": 207,
   "metadata": {},
   "outputs": [],
   "source": [
    "package_df[\"FREE_or_PAID\"] = package_df[\"FREE_or_PAID\"].apply(lambda x: package_set(x))\n",
    "package_df[\"is_Subscription\"] = package_df[\"is_Subscription\"].apply(lambda x: package_set(x))"
   ]
  },
  {
   "cell_type": "code",
   "execution_count": 208,
   "metadata": {},
   "outputs": [
    {
     "data": {
      "text/plain": [
       "94764"
      ]
     },
     "execution_count": 208,
     "metadata": {},
     "output_type": "execute_result"
    }
   ],
   "source": [
    "len(package_df[\"ACCOUNT_NUM.hash\"].unique())"
   ]
  },
  {
   "cell_type": "code",
   "execution_count": 209,
   "metadata": {},
   "outputs": [],
   "source": [
    "packages_reduced_df = package_df.merge(only_accs_df,how='left', on='ACCOUNT_NUM.hash')\n",
    "packages_reduced_df.drop_duplicates([\"acc_num_new\"],inplace=True)\n",
    "packages_reduced_df.drop([\"ACCOUNT_NUM.hash\"],axis=1,inplace=True)\n",
    "packages_reduced_df.rename(columns={\"acc_num_new\":\"ACCOUNT_NUM.hash\"},inplace=True)"
   ]
  },
  {
   "cell_type": "code",
   "execution_count": 210,
   "metadata": {},
   "outputs": [],
   "source": [
    "packages_reduced_df.reset_index(inplace=True)\n",
    "packages_reduced_df.drop(\"index\", axis=1, inplace= True)"
   ]
  },
  {
   "cell_type": "code",
   "execution_count": 211,
   "metadata": {},
   "outputs": [
    {
     "name": "stdout",
     "output_type": "stream",
     "text": [
      "<class 'pandas.core.frame.DataFrame'>\n",
      "RangeIndex: 81592 entries, 0 to 81591\n",
      "Data columns (total 6 columns):\n",
      " #   Column             Non-Null Count  Dtype \n",
      "---  ------             --------------  ----- \n",
      " 0   Package_Formatted  81592 non-null  object\n",
      " 1   FREE_or_PAID       81592 non-null  object\n",
      " 2   is_Subscription    81592 non-null  object\n",
      " 3   TARIFF_DESC        81592 non-null  object\n",
      " 4   TARIFF_NAME        81592 non-null  object\n",
      " 5   ACCOUNT_NUM.hash   81591 non-null  object\n",
      "dtypes: object(6)\n",
      "memory usage: 3.7+ MB\n"
     ]
    }
   ],
   "source": [
    "packages_reduced_df.info()"
   ]
  },
  {
   "cell_type": "code",
   "execution_count": 212,
   "metadata": {},
   "outputs": [],
   "source": [
    "usage_df = usage_df.merge(packages_reduced_df,how='left', on='ACCOUNT_NUM.hash')"
   ]
  },
  {
   "cell_type": "code",
   "execution_count": 213,
   "metadata": {},
   "outputs": [
    {
     "name": "stdout",
     "output_type": "stream",
     "text": [
      "<class 'pandas.core.frame.DataFrame'>\n",
      "Int64Index: 159800 entries, 0 to 159799\n",
      "Data columns (total 97 columns):\n",
      " #   Column                                    Non-Null Count   Dtype   \n",
      "---  ------                                    --------------   -----   \n",
      " 0   event_source.hash                         159800 non-null  object  \n",
      " 1   ACCOUNT_NUM.hash                          159800 non-null  object  \n",
      " 2   CR.hash                                   159800 non-null  object  \n",
      " 3   Voice_INCOMING_Categorical                42724 non-null   object  \n",
      " 4   Voice_INCOMING_Scaled                     42724 non-null   float64 \n",
      " 5   Voice_INCOMING_Outlier                    42724 non-null   object  \n",
      " 6   Location_Identifier                       97771 non-null   object  \n",
      " 7   Location_Node                             97771 non-null   object  \n",
      " 8   Package_Type_and_Medium                   97771 non-null   object  \n",
      " 9   Model                                     97771 non-null   object  \n",
      " 10  Service_Status                            97771 non-null   object  \n",
      " 11  Voice_OUTGOING_Categorical                41893 non-null   object  \n",
      " 12  Voice_OUTGOING_Scaled                     41893 non-null   float64 \n",
      " 13  Voice_OUTGOING_Outlier                    41893 non-null   object  \n",
      " 14  IDD_INCOMING_Categorical                  10775 non-null   object  \n",
      " 15  IDD_INCOMING_Scaled                       10775 non-null   float64 \n",
      " 16  IDD_INCOMING_Outlier                      10775 non-null   object  \n",
      " 17  IDD_incoming_country                      10775 non-null   object  \n",
      " 18  IDD_OUTGOING_Categorical                  5101 non-null    object  \n",
      " 19  IDD_OUTGOING_Scaled                       5101 non-null    float64 \n",
      " 20  IDD_OUTGOING_Outlier                      5101 non-null    object  \n",
      " 21  IDD_outgoing_country                      5101 non-null    object  \n",
      " 22  Peo_TV_Package                            19886 non-null   object  \n",
      " 23  PEO_TV_Categorical                        19886 non-null   object  \n",
      " 24  PEO_TV_Scaled                             19886 non-null   float64 \n",
      " 25  BB_Categorical                            36147 non-null   object  \n",
      " 26  BB_Scaled                                 39842 non-null   float64 \n",
      " 27  BB_Package                                53091 non-null   object  \n",
      " 28  GENDER                                    74849 non-null   object  \n",
      " 29  BIRTH_YEAR                                74849 non-null   float64 \n",
      " 30  AGE                                       74849 non-null   float64 \n",
      " 31  Voice_Overall_Categorical                 43161 non-null   object  \n",
      " 32  IDD_Overall_Categorical                   12582 non-null   object  \n",
      " 33  VOICE_Categorical                         11818 non-null   object  \n",
      " 34  Subscription                              32713 non-null   object  \n",
      " 35  Sub_Type                                  159800 non-null  object  \n",
      " 36  Sub_Usage                                 159800 non-null  object  \n",
      " 37  Sub_Type_State                            159800 non-null  object  \n",
      " 38  Megaline_Package                          155246 non-null  object  \n",
      " 39  Megaline_Month_Subscribed                 155246 non-null  object  \n",
      " 40  Megaline_Rental                           155246 non-null  float64 \n",
      " 41  Package_Type                              159702 non-null  object  \n",
      " 42  Megaline_Medium                           155246 non-null  object  \n",
      " 43  is_Promotion                              159675 non-null  object  \n",
      " 44  Megaline_Rental_Scaled                    155246 non-null  float64 \n",
      " 45  FTTH_Package                              37869 non-null   object  \n",
      " 46  FTTH_Month_Subscribed                     37869 non-null   object  \n",
      " 47  FTTH_Rental                               37869 non-null   float64 \n",
      " 48  FTTH_Medium                               37869 non-null   object  \n",
      " 49  FTTH_Rental_Scaled                        37869 non-null   float64 \n",
      " 50  LTE_Package                               119173 non-null  object  \n",
      " 51  LTE_Month_Subscribed                      119173 non-null  object  \n",
      " 52  LTE_Rental                                119173 non-null  float64 \n",
      " 53  LTE_Medium                                119173 non-null  object  \n",
      " 54  LTE_Rental_Scaled                         119173 non-null  float64 \n",
      " 55  VAS_Package                               55305 non-null   object  \n",
      " 56  VAS_Month_Subscribed                      55305 non-null   object  \n",
      " 57  VAS_Rental                                55305 non-null   float64 \n",
      " 58  Product_Type                              55305 non-null   object  \n",
      " 59  VAS_Medium                                55305 non-null   object  \n",
      " 60  VAS_Rental_Scaled                         55305 non-null   float64 \n",
      " 61  Sub_Update_Date                           32584 non-null   object  \n",
      " 62  Sub_Update_Status                         32609 non-null   object  \n",
      " 63  Sub_Update                                32609 non-null   object  \n",
      " 64  BB_Extra_GB_Rental                        53091 non-null   float64 \n",
      " 65  BB_Extra_GB_Amount                        53091 non-null   float64 \n",
      " 66  BB_Extra_GB_Hour_Subscribed               53091 non-null   object  \n",
      " 67  BB_Extra_GB_Usage_Times                   53091 non-null   float64 \n",
      " 68  BB_Extra_GB_Month_vs_Rental               53091 non-null   object  \n",
      " 69  BB_Extra_GB_Purchased_Scaled              53091 non-null   float64 \n",
      " 70  BB_Extra_GB_Purchase_Categorical          53091 non-null   category\n",
      " 71  BB_Extra_GB_Subscribed_Night              53091 non-null   float64 \n",
      " 72  BB_Extra_GB_Subscribed_Day                53091 non-null   float64 \n",
      " 73  BB_Extra_GB_Rental_Scaled                 53091 non-null   float64 \n",
      " 74  Peo_Extra_Channels_Cumulative_Rental      2654 non-null    float64 \n",
      " 75  Peo_Extra_Channels_Month_vs_Rental        2654 non-null    object  \n",
      " 76  Peo_Extra_Channels_Purchased_Scaled       2654 non-null    float64 \n",
      " 77  Peo_Extra_Channels_Purchased_Categorical  2654 non-null    category\n",
      " 78  Bill_Balance_Froward                      159331 non-null  float64 \n",
      " 79  Bill_Net_Invoice                          159331 non-null  float64 \n",
      " 80  Bill_Tax_Invoice                          159331 non-null  float64 \n",
      " 81  Bill_Outstanding_Balance                  159331 non-null  float64 \n",
      " 82  Bill_Amount_Paid                          159331 non-null  float64 \n",
      " 83  Bill_Faild_to_Pay                         159331 non-null  float64 \n",
      " 84  Bill_Adjustment_Paid                      159331 non-null  float64 \n",
      " 85  Bill_Refunds_Paid                         159331 non-null  float64 \n",
      " 86  Bill_Payment_Due_Date                     159331 non-null  object  \n",
      " 87  Bill_Bill_Settled_Date                    137835 non-null  object  \n",
      " 88  Bill_Actual_Bill_Date                     159331 non-null  object  \n",
      " 89  Bill_Billing_Status                       159331 non-null  object  \n",
      " 90  Payment_Status                            156475 non-null  object  \n",
      " 91  Payments_Month_vs_Amount_Paid             156475 non-null  object  \n",
      " 92  Package_Formatted                         159800 non-null  object  \n",
      " 93  FREE_or_PAID                              159800 non-null  object  \n",
      " 94  is_Subscription                           159800 non-null  object  \n",
      " 95  TARIFF_DESC                               159800 non-null  object  \n",
      " 96  TARIFF_NAME                               159800 non-null  object  \n",
      "dtypes: category(2), float64(33), object(62)\n",
      "memory usage: 117.3+ MB\n"
     ]
    }
   ],
   "source": [
    "usage_df.info()"
   ]
  },
  {
   "cell_type": "markdown",
   "metadata": {},
   "source": [
    "# Deriving Contextual Features"
   ]
  },
  {
   "cell_type": "markdown",
   "metadata": {},
   "source": [
    "## Socio-Economic features"
   ]
  },
  {
   "cell_type": "markdown",
   "metadata": {},
   "source": [
    "### Having an Insurance?"
   ]
  },
  {
   "cell_type": "code",
   "execution_count": 214,
   "metadata": {},
   "outputs": [],
   "source": [
    "def having_insurance(vas):\n",
    "    insurrence_VAS = [\"Telehealth\",\"Basic4 TeleLife\",\"Plus4 TeleLife\",\"Plus1 TeleLife\",\"Basic1 TeleLife\",\"Basic2 TeleLife\"]\n",
    "    if not isinstance(vas,float):\n",
    "        for s in insurrence_VAS:\n",
    "            if s in vas:\n",
    "                return \"YES\""
   ]
  },
  {
   "cell_type": "code",
   "execution_count": 215,
   "metadata": {},
   "outputs": [],
   "source": [
    "usage_df[\"Having_Insurance\"] = usage_df.apply(lambda x: having_insurance(x[\"Package_Formatted\"]), axis=1)"
   ]
  },
  {
   "cell_type": "markdown",
   "metadata": {},
   "source": [
    "### Household types\n",
    "- Senior Citizen\n",
    "  - Age > 55 years (demographics)\n",
    "  - Peo_TV_Usage - High, Packages: PEO_RELIGIOUS_PACKAGE, PRANAMA\n",
    "  - Voice call usage - high (in country, europian country, australia,US, canada)\n",
    "  - Having Insurance: YES\n",
    "- Kids at Home\n",
    "  - Age > 30 years (assuming parents)\n",
    "  - Peo TV Usage - High, packages: PEO_FAMILY, DOUBLEPROMO, PEO_TITANIUM, PEO_GOLD\n",
    "  - Peo TV VAS: PeoTVGo_Channel Package (Extra Channels purchase)\n",
    "  - BB Usage: Medium/ High\n",
    "  - VAS - Sisu_Connect, Edu Lite\n",
    "- Student (High school/University), Teenagers\n",
    "  - Age < 27 (demographics)\n",
    "  - Peo TV Usage - Medium/High packages: PEO_SILVER_PLUS, PEO_SILVER_PLUS_FTTH, PEO_ENTERTAINMENT, PEO_TITANIUM, DOUBLEPROMO, LEISURE_SPORTS\n",
    "  - BB Usage - High **\n",
    "  - Extra GB Purchase (High)\n",
    "  - VAS - Meet Lite, Meet Max \n",
    "  - Peo TV VAS: E_Video_on_Demand\n",
    "  - BB_VAS:  BB_YouTube Bundle, BB_ Entertainment Unlimited,  BB_Messenger Bundle\n",
    "- Working Professional\n",
    "  - Age > 22, < 55 (demographics)\n",
    "  - Peo TV Usage - Medium/High packages: PEO_SILVER_PLUS, PEO_SILVER_PLUS_FTTH, PEO_FAMILY, SLT_STAFF_PEO_UNNATHAM_FTTH, SLT_STAFF_TRIPLE_PLAY, NEW_SLT_STAFF_PACKAGE, BOC\n",
    "  - BB Usage - High **\n",
    "  - Extra GB Purchase (all)\n",
    "  - VAS - Meet Lite, Meet Max, AB_Service Vacation, AB_Referral offer Discount, AB_Citylink Loyalty Rewards\n",
    "- Family Member Abroad\n",
    "  - IDD Usage : High\n",
    "  - IDD Calling Country : Europe/ UAE/ Australia/ Canada/ South and east Asia **\n",
    "- Race: Tamil\n",
    "   - Peo TV Usage - PEO_UNNATHAM, PEO_UTHAYAM, SLT_STAFF_PEO_UNNATHAM_FTTH\n",
    "- Abroad person: country/ countries"
   ]
  },
  {
   "cell_type": "markdown",
   "metadata": {},
   "source": [
    "## Adding Socio Feature Cols"
   ]
  },
  {
   "cell_type": "code",
   "execution_count": 216,
   "metadata": {},
   "outputs": [],
   "source": [
    "def make_categorical(val):\n",
    "    if val>=0.5:\n",
    "        return \"YES\""
   ]
  },
  {
   "cell_type": "markdown",
   "metadata": {},
   "source": [
    "#### Having a Senior Citizen"
   ]
  },
  {
   "cell_type": "code",
   "execution_count": 217,
   "metadata": {},
   "outputs": [],
   "source": [
    "def senior_citizen(age, peo_tv_cat, peo_tv_package, voice_call_cat, having_insurrance):\n",
    "    prob = 0.0\n",
    "    peo_packages = [ \"PEO_RELIGIOUS_PACKAGE\", \"PRANAMA\"]\n",
    "    if age>= 55:\n",
    "        prob += 0.3\n",
    "    if peo_tv_cat == \"HIGH\":\n",
    "        if not isinstance(peo_tv_package, float):\n",
    "            for vas in peo_packages:\n",
    "                if vas in peo_tv_package:\n",
    "                    prob += 0.2\n",
    "    if voice_call_cat == \"MEDIUM\":\n",
    "        prob += 0.1\n",
    "    if voice_call_cat == \"HIGH\":\n",
    "        prob += 0.2\n",
    "    if having_insurrance == \"YES\":\n",
    "        prob += 0.5\n",
    "    return prob"
   ]
  },
  {
   "cell_type": "code",
   "execution_count": 218,
   "metadata": {},
   "outputs": [
    {
     "data": {
      "text/plain": [
       "0.6"
      ]
     },
     "execution_count": 218,
     "metadata": {},
     "output_type": "execute_result"
    }
   ],
   "source": [
    "# test\n",
    "senior_citizen(56,\"HIGH\",[\"PEO_RELIGIOUS_PACKAGE\"],\"MEDIUM\",None)"
   ]
  },
  {
   "cell_type": "code",
   "execution_count": 219,
   "metadata": {},
   "outputs": [],
   "source": [
    "usage_df[\"Having_Senior_Citizen_Scaled\"] = usage_df.apply(lambda x: senior_citizen(x[\"AGE\"],x[\"PEO_TV_Categorical\"],x[\"Peo_TV_Package\"],x[\"VOICE_Categorical\"],x[\"Having_Insurance\"]), axis=1)"
   ]
  },
  {
   "cell_type": "code",
   "execution_count": 220,
   "metadata": {},
   "outputs": [],
   "source": [
    "usage_df[\"Having_Senior_Citizen\"] = usage_df.apply(lambda x: make_categorical(x[\"Having_Senior_Citizen_Scaled\"]), axis=1)"
   ]
  },
  {
   "cell_type": "code",
   "execution_count": null,
   "metadata": {},
   "outputs": [],
   "source": []
  },
  {
   "cell_type": "markdown",
   "metadata": {},
   "source": [
    "#### Having Kids at Home"
   ]
  },
  {
   "cell_type": "code",
   "execution_count": 221,
   "metadata": {},
   "outputs": [],
   "source": [
    "def kids_at_home(age, peo_tv_cat, peo_tv_package,bb_usage,vas):\n",
    "    prob = 0.0\n",
    "    peo_packages = [\"PEO_FAMILY\", \"DOUBLEPROMO\", \"PEO_TITANIUM\", \"PEO_GOLD\",\"PEO_FAMILY\"]\n",
    "    peo_vas = [\"PeoTVGo Channel Package\"]\n",
    "    all_vas = [\"Sisu Connect\", \"Edu Lite\"]\n",
    "    if age>= 30:\n",
    "        prob += 0.2\n",
    "    if peo_tv_cat == \"HIGH\":\n",
    "        prob += 0.25\n",
    "        if not isinstance(peo_tv_package, float):\n",
    "            for pack in peo_packages:\n",
    "                if pack in peo_tv_package:\n",
    "                    prob += 0.2\n",
    "        if not isinstance(vas, float):\n",
    "            for pack in peo_vas:\n",
    "                if pack in vas:\n",
    "                    prob += 0.2\n",
    "    if not isinstance(vas, float):\n",
    "        for pack in all_vas:\n",
    "            if pack in vas:\n",
    "                prob += 0.5\n",
    "    if bb_usage == \"MEDIUM\" or bb_usage == \"HIGH\":\n",
    "        prob += 0.1\n",
    "    return prob"
   ]
  },
  {
   "cell_type": "code",
   "execution_count": 222,
   "metadata": {},
   "outputs": [],
   "source": [
    "usage_df[\"Having_Kids_at_Home_Scaled\"] = usage_df.apply(lambda x: kids_at_home(x[\"AGE\"],x[\"PEO_TV_Categorical\"],x[\"Peo_TV_Package\"],x[\"BB_Categorical\"],x[\"Package_Formatted\"]), axis=1)"
   ]
  },
  {
   "cell_type": "code",
   "execution_count": 223,
   "metadata": {},
   "outputs": [],
   "source": [
    "usage_df[\"Having_Kids_at_Home\"] = usage_df.apply(lambda x: make_categorical(x[\"Having_Kids_at_Home_Scaled\"]), axis=1)"
   ]
  },
  {
   "cell_type": "code",
   "execution_count": null,
   "metadata": {},
   "outputs": [],
   "source": []
  },
  {
   "cell_type": "markdown",
   "metadata": {},
   "source": [
    "#### Home Business/ SMEs"
   ]
  },
  {
   "cell_type": "code",
   "execution_count": 224,
   "metadata": {},
   "outputs": [],
   "source": [
    "def smes(bb_cat,bb_package, extra_gb_cat, vas):\n",
    "    prob = 0.0\n",
    "    bb_packages=[\"4G Biz Pal\",\"Any Glam\",\"Any Storm\",\"Any Spike\",\"z Sales End_Office\",\"Web Life\",\n",
    "                 \"Web Inspire\",\"Any Xtreme\",\"Web Pro\",\"Web Champ\",\"Web Master\"]\n",
    "    all_vas = [\"BB YouTube Bundle\",'Meet Max',\"BB Personal Storage\"]\n",
    "    if bb_cat == \"MEDIUM\":\n",
    "        prob += 0.1\n",
    "    if bb_cat == \"HIGH\":\n",
    "        prob += 0.3\n",
    "    if bb_cat == \"HIGH\":\n",
    "        if not isinstance(bb_package, float):\n",
    "            for pack in bb_packages:\n",
    "                if pack in bb_package:\n",
    "                    prob += 0.2\n",
    "    if not isinstance(vas, float):\n",
    "        for pack in all_vas:\n",
    "            if pack in vas:\n",
    "                prob += 0.2\n",
    "    if extra_gb_cat == \"LOW\":\n",
    "        prob +=0.1\n",
    "    if extra_gb_cat == \"MEDIUM\" or extra_gb_cat == \"HIGH\":\n",
    "        prob += 0.3\n",
    "    return prob"
   ]
  },
  {
   "cell_type": "code",
   "execution_count": 225,
   "metadata": {},
   "outputs": [],
   "source": [
    "usage_df[\"SMEs_Scaled\"] = usage_df.apply(lambda x: smes(x[\"BB_Categorical\"],x[\"BB_Package\"],x[\"BB_Extra_GB_Purchase_Categorical\"],x[\"Package_Formatted\"]), axis=1)"
   ]
  },
  {
   "cell_type": "code",
   "execution_count": 226,
   "metadata": {},
   "outputs": [],
   "source": [
    "usage_df[\"SMEs\"] = usage_df.apply(lambda x: make_categorical(x[\"SMEs_Scaled\"]), axis=1)"
   ]
  },
  {
   "cell_type": "code",
   "execution_count": null,
   "metadata": {},
   "outputs": [],
   "source": []
  },
  {
   "cell_type": "markdown",
   "metadata": {},
   "source": [
    "#### Teenagers and Students (age 16-26)"
   ]
  },
  {
   "cell_type": "code",
   "execution_count": 227,
   "metadata": {},
   "outputs": [],
   "source": [
    "def teenage_students(age, peo_tv_cat, peo_tv_package,bb_cat, bb_package, extra_gb_cat, vas):\n",
    "    prob = 0.0\n",
    "    peo_packages = [ \"PEO_TITANIUM\", \"LEISURE_SPORTS\",\"PEO_ENTERTAINMENT\"]\n",
    "    bb_packages=[\"Student Package 1\",\"Student Package 2\",\"Any Flix\",\"BB_Netflix Unlimited\",\"Web Booster\",\"Any Tide\"]\n",
    "    peo_vas = [\"Video on Demand\"]\n",
    "    bb_vas = [\"BB YouTube Bundle\", \"BB Entertainment Unlimited\", \"BB Messenger Bundle\"]\n",
    "    all_vas = ['Meet Lite', 'Meet Max']\n",
    "    if age<= 26:\n",
    "        prob += 0.3\n",
    "    if peo_tv_cat == \"MEDIUM\":\n",
    "        prob += 0.1\n",
    "    if peo_tv_cat == \"HIGH\":\n",
    "        prob += 0.2\n",
    "    if peo_tv_cat == \"MEDIUM\" or peo_tv_cat == \"HIGH\":\n",
    "        if not isinstance(peo_tv_package, float):\n",
    "            for pack in peo_packages:\n",
    "                if pack in peo_tv_package:\n",
    "                    prob += 0.2\n",
    "        if not isinstance(vas, float):\n",
    "            for pack in peo_vas:\n",
    "                if pack in vas:\n",
    "                    prob += 0.2\n",
    "    if bb_cat == \"MEDIUM\":\n",
    "        prob += 0.1\n",
    "    if bb_cat == \"HIGH\":\n",
    "        prob += 0.3\n",
    "    if bb_cat == \"HIGH\" or bb_cat == \"MEDIUM\":\n",
    "        if not isinstance(vas, float):\n",
    "            for pack in bb_vas:\n",
    "                if pack in vas:\n",
    "                    prob += 0.2\n",
    "        if not isinstance(bb_package, float):\n",
    "            for pack in bb_packages:\n",
    "                if pack in bb_package:\n",
    "                    prob += 0.2\n",
    "    if not isinstance(vas, float):\n",
    "        for pack in all_vas:\n",
    "            if pack in vas:\n",
    "                prob += 0.2\n",
    "    if extra_gb_cat == \"LOW\":\n",
    "        prob +=0.1\n",
    "    if extra_gb_cat == \"MEDIUM\" or extra_gb_cat == \"HIGH\":\n",
    "        prob += 0.3\n",
    "    return prob"
   ]
  },
  {
   "cell_type": "code",
   "execution_count": 228,
   "metadata": {},
   "outputs": [],
   "source": [
    "usage_df[\"Having_Teenagers_Students_Scaled\"] = usage_df.apply(lambda x: teenage_students(x[\"AGE\"],x[\"PEO_TV_Categorical\"],x[\"Peo_TV_Package\"],x[\"BB_Categorical\"],x[\"BB_Package\"],x[\"BB_Extra_GB_Purchase_Categorical\"],x[\"Package_Formatted\"]), axis=1)"
   ]
  },
  {
   "cell_type": "code",
   "execution_count": 229,
   "metadata": {},
   "outputs": [],
   "source": [
    "usage_df[\"Having_Teenagers_Students\"] = usage_df.apply(lambda x: make_categorical(x[\"Having_Teenagers_Students_Scaled\"]), axis=1)"
   ]
  },
  {
   "cell_type": "code",
   "execution_count": null,
   "metadata": {},
   "outputs": [],
   "source": []
  },
  {
   "cell_type": "markdown",
   "metadata": {},
   "source": [
    "### Working Professionals"
   ]
  },
  {
   "cell_type": "code",
   "execution_count": 230,
   "metadata": {},
   "outputs": [],
   "source": [
    "def working_professionals(age, peo_tv_cat, peo_tv_package, bb_cat, bb_package, extra_gb_cat, vas):\n",
    "    prob = 0.0\n",
    "    peo_packages = [\"PEO_SILVER_PLUS\", \"PEO_FAMILY\",\"PEO_SILVER_PLUS_FTTH\", \"SLT_STAFF_PEO_UNNATHAM_FTTH\", \"SLT_STAFF_TRIPLE_PLAY\",\"NEW_SLT_STAFF_PACKAGE\",\"BOC\"]\n",
    "    bb_packages= [\"z Sales End_SLT Staff Home\",\"Abhimaana\",\"SLT Staff Web Family Plus\",\"z Sales End_SLT Staff Home\", 'Web Family Xtra']\n",
    "    bb_vas = [\"BB Personal Storage\"]\n",
    "    all_vas = ['Meet Lite', 'Meet Max','AB Referral offer Discount', 'AB Service Vacation','AB Citylink Loyalty Rewards']\n",
    "    if age> 21 and age<56:\n",
    "        prob += 0.2\n",
    "    if peo_tv_cat == \"MEDIUM\":\n",
    "        prob += 0.1\n",
    "    if peo_tv_cat == \"HIGH\":\n",
    "        prob += 0.1\n",
    "    if peo_tv_cat == \"MEDIUM\" or peo_tv_cat == \"HIGH\":\n",
    "        if not isinstance(peo_tv_package, float):\n",
    "            for pack in peo_packages:\n",
    "                if pack in peo_tv_package:\n",
    "                    prob += 0.2\n",
    "    if bb_cat == \"MEDIUM\":\n",
    "        prob += 0.1\n",
    "    if bb_cat == \"HIGH\":\n",
    "        prob += 0.3\n",
    "    if bb_cat == \"HIGH\" or bb_cat == \"MEDIUM\":\n",
    "        if not isinstance(vas, float):\n",
    "            for pack in bb_vas:\n",
    "                if pack in vas:\n",
    "                    prob += 0.2\n",
    "        if not isinstance(bb_package, float):\n",
    "            for pack in bb_packages:\n",
    "                if pack in bb_package:\n",
    "                    prob += 0.2\n",
    "    if not isinstance(vas, float):\n",
    "        for pack in all_vas:\n",
    "            if pack in vas:\n",
    "                prob += 0.25\n",
    "    if extra_gb_cat == \"LOW\":\n",
    "        prob +=0.1\n",
    "    if extra_gb_cat == \"MEDIUM\" or extra_gb_cat == \"HIGH\":\n",
    "        prob += 0.3\n",
    "    return prob"
   ]
  },
  {
   "cell_type": "code",
   "execution_count": 231,
   "metadata": {},
   "outputs": [],
   "source": [
    "usage_df[\"Having_Working_Professionals_Scaled\"] = usage_df.apply(lambda x: working_professionals(x[\"AGE\"],x[\"PEO_TV_Categorical\"],x[\"Peo_TV_Package\"],x[\"BB_Categorical\"],x[\"BB_Package\"],x[\"BB_Extra_GB_Purchase_Categorical\"],x[\"Package_Formatted\"]), axis=1)"
   ]
  },
  {
   "cell_type": "code",
   "execution_count": 232,
   "metadata": {},
   "outputs": [],
   "source": [
    "usage_df[\"Having_Working_Professionals\"] = usage_df.apply(lambda x: make_categorical(x[\"Having_Working_Professionals_Scaled\"]), axis=1)"
   ]
  },
  {
   "cell_type": "code",
   "execution_count": null,
   "metadata": {},
   "outputs": [],
   "source": []
  },
  {
   "cell_type": "markdown",
   "metadata": {},
   "source": [
    "### Family Member Abroad"
   ]
  },
  {
   "cell_type": "code",
   "execution_count": 233,
   "metadata": {},
   "outputs": [],
   "source": [
    "def family_member_abroad(idd_cat, incoming_country, outgoing_country):\n",
    "    prob = 0.0\n",
    "    countries = [\"United Arab Emirates\", \"Australia - Mobile\",\"UK - Mobile\", \"New Zealand\", \"Hong Kong\",\"Maldive Islands\",\"Singapore\",\n",
    "                 \"India\",\"Saudi Arabia - Mobile\",\"Australia\",\"China - Mobile\",\"Maldive Islands\",\n",
    "                 \"Israel - Mobile\",\"Jordan - Mobile\",\"U.K.\",\"U.S.A\",\"France\",\"Italy - Mobile\",\"Malaysia - Mobile\",\"Bangladesh - Mobile\"\n",
    "                ,\"Germany\",\"Philippines - Mobile\",\"Italy\",\"Israel\",\"Saudi Arabia\",\"Pakistan - Mobile\",\"Pakistan\",\"Japan\",\"Kuwait -Mobile\"\n",
    "                ,\"Oman-Mobile \",\"France - Mobile\",\"Canada\",\"Japan - Mobile\",\"United Arab Emirates  - Mobile\",\"Bahrain - Mobile\",\"Bahrain\"\n",
    "                ,\"Cyprus - Mobile\",\"Cyprus\",\"Barbados\",\"Korea Republic Of\",\"Switzerland - Mobile\",\"Indonesia - Mobile\",\"Qatar - Mobile\"\n",
    "                ,\"Qatar\",\"Romania\",\"Germany - Mobile\",\"Belgium\",\"Netherlands\"]\n",
    "    if idd_cat == \"LOW\":\n",
    "        prob += 0.1\n",
    "    if idd_cat == \"MEDIUM\":\n",
    "        prob += 0.3\n",
    "    if idd_cat == \"HIGH\":\n",
    "        prob += 0.5\n",
    "    if not isinstance(idd_cat, float):\n",
    "        for country in countries:\n",
    "            if not isinstance(incoming_country, float) and country in incoming_country:\n",
    "                prob += 0.25\n",
    "            elif not isinstance(outgoing_country, float) and country in outgoing_country:\n",
    "                prob += 0.25\n",
    "    return prob"
   ]
  },
  {
   "cell_type": "code",
   "execution_count": 234,
   "metadata": {},
   "outputs": [],
   "source": [
    "usage_df[\"Having_Family_Member_Abroad_Scaled\"] = usage_df.apply(lambda x: family_member_abroad(x[\"IDD_Overall_Categorical\"],x[\"IDD_incoming_country\"],x[\"IDD_outgoing_country\"]), axis=1)"
   ]
  },
  {
   "cell_type": "code",
   "execution_count": 235,
   "metadata": {},
   "outputs": [],
   "source": [
    "usage_df[\"Having_Family_Member_Abroad\"] = usage_df.apply(lambda x: make_categorical(x[\"Having_Family_Member_Abroad_Scaled\"]), axis=1)"
   ]
  },
  {
   "cell_type": "markdown",
   "metadata": {},
   "source": [
    "### Race: Tamil"
   ]
  },
  {
   "cell_type": "code",
   "execution_count": 236,
   "metadata": {},
   "outputs": [],
   "source": [
    "def tamil_check(peo_cat, peo_package):\n",
    "    packages = [\"PEO_UNNATHAM\", \"PEO_UTHAYAM\", \"SLT_STAFF_PEO_UNNATHAM_FTTH\"]\n",
    "    if not isinstance(peo_cat, float):\n",
    "        for pack in packages:\n",
    "            if not isinstance(peo_package, float) and pack in peo_package:\n",
    "                return \"YES\""
   ]
  },
  {
   "cell_type": "code",
   "execution_count": 237,
   "metadata": {},
   "outputs": [],
   "source": [
    "usage_df[\"Tamil_Customer\"] = usage_df.apply(lambda x: tamil_check(x[\"PEO_TV_Categorical\"],x[\"Peo_TV_Package\"]), axis=1)"
   ]
  },
  {
   "cell_type": "code",
   "execution_count": null,
   "metadata": {},
   "outputs": [],
   "source": []
  },
  {
   "cell_type": "markdown",
   "metadata": {},
   "source": [
    "## Adding Social feature derivable assumption cols"
   ]
  },
  {
   "cell_type": "code",
   "execution_count": 238,
   "metadata": {},
   "outputs": [],
   "source": [
    "def senior_citizen_peo_packages(peo_tv_cat,peo_tv_package):\n",
    "    prob = 0.0\n",
    "    peo_packages = [\"PEO_RELIGIOUS_PACKAGE\", \"PRANAMA\"]\n",
    "    if peo_tv_cat == \"HIGH\":\n",
    "        if not isinstance(peo_tv_package, float):\n",
    "            for vas in peo_packages:\n",
    "                if vas in peo_tv_package:\n",
    "                    prob += 0.2\n",
    "    return prob"
   ]
  },
  {
   "cell_type": "code",
   "execution_count": 239,
   "metadata": {},
   "outputs": [],
   "source": [
    "usage_df[\"Peo_Packages_if_Senior_Citizen\"] = usage_df.apply(lambda x: senior_citizen_peo_packages(x[\"PEO_TV_Categorical\"],x[\"Peo_TV_Package\"]), axis=1)"
   ]
  },
  {
   "cell_type": "code",
   "execution_count": 240,
   "metadata": {},
   "outputs": [],
   "source": [
    "def kids_peo_packages(peo_tv_cat,peo_tv_package):\n",
    "    prob = 0.0\n",
    "    peo_packages =  [\"PEO_FAMILY\", \"DOUBLEPROMO\", \"PEO_TITANIUM\", \"PEO_GOLD\",\"PEO_FAMILY\"]\n",
    "    if peo_tv_cat == \"HIGH\":\n",
    "        if not isinstance(peo_tv_package, float):\n",
    "            for vas in peo_packages:\n",
    "                if vas in peo_tv_package:\n",
    "                    prob += 0.2\n",
    "    return prob"
   ]
  },
  {
   "cell_type": "code",
   "execution_count": 241,
   "metadata": {},
   "outputs": [],
   "source": [
    "usage_df[\"Peo_Packages_if_Kids\"] = usage_df.apply(lambda x: kids_peo_packages(x[\"PEO_TV_Categorical\"],x[\"Peo_TV_Package\"]), axis=1)"
   ]
  },
  {
   "cell_type": "code",
   "execution_count": 242,
   "metadata": {},
   "outputs": [],
   "source": [
    "def teenager_student_peo_packages(peo_tv_cat,peo_tv_package):\n",
    "    prob = 0.0\n",
    "    peo_packages = [\"DOUBLEPROMO\", \"PEO_TITANIUM\", \"LEISURE_SPORTS\",\"PEO_ENTERTAINMENT\"]\n",
    "    if peo_tv_cat == \"MEDIUM\" or peo_tv_cat == \"HIGH\":\n",
    "        if not isinstance(peo_tv_package, float):\n",
    "            for vas in peo_packages:\n",
    "                if vas in peo_tv_package:\n",
    "                    prob += 0.2\n",
    "    return prob"
   ]
  },
  {
   "cell_type": "code",
   "execution_count": 243,
   "metadata": {},
   "outputs": [],
   "source": [
    "usage_df[\"Peo_Packages_if_Teenager_Students\"] = usage_df.apply(lambda x: teenager_student_peo_packages(x[\"PEO_TV_Categorical\"],x[\"Peo_TV_Package\"]), axis=1)"
   ]
  },
  {
   "cell_type": "code",
   "execution_count": 244,
   "metadata": {},
   "outputs": [],
   "source": [
    "def working_professional_peo_packages(peo_tv_cat,peo_tv_package):\n",
    "    prob = 0.0\n",
    "    peo_packages = [\"PEO_SILVER_PLUS\", \"PEO_FAMILY\",\"PEO_SILVER_PLUS_FTTH\", \"SLT_STAFF_PEO_UNNATHAM_FTTH\", \"SLT_STAFF_TRIPLE_PLAY\",\"NEW_SLT_STAFF_PACKAGE\",\"BOC\"]\n",
    "    if peo_tv_cat == \"MEDIUM\" or peo_tv_cat == \"HIGH\":\n",
    "        if not isinstance(peo_tv_package, float):\n",
    "            for vas in peo_packages:\n",
    "                if vas in peo_tv_package:\n",
    "                    prob += 0.2\n",
    "    return prob"
   ]
  },
  {
   "cell_type": "code",
   "execution_count": 245,
   "metadata": {},
   "outputs": [],
   "source": [
    "usage_df[\"Peo_Package_if_Working_Professionals\"] = usage_df.apply(lambda x: working_professional_peo_packages(x[\"PEO_TV_Categorical\"],x[\"Peo_TV_Package\"]), axis=1)"
   ]
  },
  {
   "cell_type": "code",
   "execution_count": null,
   "metadata": {},
   "outputs": [],
   "source": []
  },
  {
   "cell_type": "code",
   "execution_count": 246,
   "metadata": {},
   "outputs": [],
   "source": [
    "def working_professional_bb_packages(bb_cat,bb_package):\n",
    "    prob = 0.0\n",
    "    bb_packages= [\"z Sales End_SLT Staff Home\",\"Abhimaana\",\"SLT Staff Web Family Plus\",\"z Sales End_SLT Staff Home\", 'Web Family Xtra']\n",
    "    if bb_cat == \"MEDIUM\" or bb_cat == \"HIGH\":\n",
    "        if not isinstance(bb_package, float):\n",
    "            for vas in bb_packages:\n",
    "                if vas in bb_package:\n",
    "                    prob += 0.2\n",
    "    return prob"
   ]
  },
  {
   "cell_type": "code",
   "execution_count": 247,
   "metadata": {},
   "outputs": [],
   "source": [
    "usage_df[\"BB_Package_if_Working_Professionals\"] = usage_df.apply(lambda x: working_professional_bb_packages(x[\"BB_Categorical\"],x[\"BB_Package\"]), axis=1)"
   ]
  },
  {
   "cell_type": "code",
   "execution_count": 248,
   "metadata": {},
   "outputs": [],
   "source": [
    "def teenager_student_bb_packages(bb_cat,bb_package):\n",
    "    prob = 0.0\n",
    "    bb_packages=[\"Student Package 1\",\"Student Package 2\",\"Any Flix\",\"BB_Netflix Unlimited\",\"Web Booster\",\"Any Tide\"]\n",
    "    if bb_cat == \"MEDIUM\" or bb_cat == \"HIGH\":\n",
    "        if not isinstance(bb_package, float):\n",
    "            for vas in bb_packages:\n",
    "                if vas in bb_package:\n",
    "                    prob += 0.2\n",
    "    return prob"
   ]
  },
  {
   "cell_type": "code",
   "execution_count": 249,
   "metadata": {},
   "outputs": [],
   "source": [
    "usage_df[\"BB_Packages_if_Teenager_Students\"] = usage_df.apply(lambda x: teenager_student_bb_packages(x[\"BB_Categorical\"],x[\"BB_Package\"]), axis=1)"
   ]
  },
  {
   "cell_type": "code",
   "execution_count": 250,
   "metadata": {},
   "outputs": [],
   "source": [
    "def sme_bb_packages(bb_cat,bb_package):\n",
    "    prob = 0.0\n",
    "    bb_packages=[\"4G Biz Pal\",\"Any Glam\",\"Any Storm\",\"Any Spike\",\"z Sales End_Office\",\"Web Life\",\n",
    "                 \"Web Inspire\",\"Any Xtreme\",\"Web Pro\",\"Web Champ\",\"Web Master\"]\n",
    "    if bb_cat == \"HIGH\":\n",
    "        if not isinstance(bb_package, float):\n",
    "            for vas in bb_packages:\n",
    "                if vas in bb_package:\n",
    "                    prob += 0.2\n",
    "    return prob"
   ]
  },
  {
   "cell_type": "code",
   "execution_count": 251,
   "metadata": {},
   "outputs": [],
   "source": [
    "usage_df[\"BB_Packages_if_SMEss\"] = usage_df.apply(lambda x: sme_bb_packages(x[\"BB_Categorical\"],x[\"BB_Package\"]), axis=1)"
   ]
  },
  {
   "cell_type": "code",
   "execution_count": null,
   "metadata": {},
   "outputs": [],
   "source": []
  },
  {
   "cell_type": "code",
   "execution_count": 252,
   "metadata": {},
   "outputs": [],
   "source": [
    "def kids_vas_packages(peo_cat,vas):\n",
    "    prob = 0.0\n",
    "    peo_vas = [\"PeoTVGo Channel Package\"]\n",
    "    vas_packages = [\"Sisu Connect\", \"Edu Lite\"]\n",
    "    if peo_cat == \"HIGH\":\n",
    "        if not isinstance(vas, float):\n",
    "            for s in peo_vas:\n",
    "                if s in vas:\n",
    "                    prob += 0.2\n",
    "    if not isinstance(vas, float):\n",
    "        for s in vas_packages:\n",
    "            if s in vas:\n",
    "                prob += 0.5\n",
    "    return prob"
   ]
  },
  {
   "cell_type": "code",
   "execution_count": 253,
   "metadata": {},
   "outputs": [],
   "source": [
    "usage_df[\"VAS_if_Kids\"] = usage_df.apply(lambda x: kids_vas_packages(x[\"PEO_TV_Categorical\"],x[\"VAS_Package\"]), axis=1)"
   ]
  },
  {
   "cell_type": "code",
   "execution_count": 254,
   "metadata": {},
   "outputs": [],
   "source": [
    "def teenager_student_vas_packages(peo_cat,bb_cat,vas):\n",
    "    prob = 0.0\n",
    "    peo_vas = [\"Video on Demand\"]\n",
    "    bb_vas = [\"BB YouTube Bundle\", \"BB Entertainment Unlimited\", \"BB Messenger Bundle\"]\n",
    "    vas_packages = ['Meet Lite', 'Meet Max']\n",
    "    if peo_cat == \"MEDIUM\" or peo_cat == \"HIGH\":\n",
    "        if not isinstance(vas, float):\n",
    "            for v in peo_vas:\n",
    "                if v in vas:\n",
    "                    prob += 0.2\n",
    "    if bb_cat == \"MEDIUM\" or bb_cat == \"HIGH\":\n",
    "        if not isinstance(vas, float):\n",
    "            for v in bb_vas:\n",
    "                if v in vas:\n",
    "                    prob += 0.2\n",
    "    if not isinstance(vas, float):\n",
    "        for v in vas_packages:\n",
    "            if v in vas:\n",
    "                prob += 0.3\n",
    "    return prob"
   ]
  },
  {
   "cell_type": "code",
   "execution_count": 255,
   "metadata": {},
   "outputs": [],
   "source": [
    "usage_df[\"VAS_if_Teenager_Students\"] = usage_df.apply(lambda x: teenager_student_vas_packages(x[\"PEO_TV_Categorical\"],x[\"BB_Categorical\"],x[\"Package_Formatted\"]), axis=1)"
   ]
  },
  {
   "cell_type": "code",
   "execution_count": 256,
   "metadata": {},
   "outputs": [],
   "source": [
    "def working_professional_vas_packages(bb_cat,vas):\n",
    "    prob = 0.0\n",
    "    bb_vas = [\"BB Personal Storage\"]\n",
    "    vas_packages = ['AB Referral offer Discount', 'AB Service Vacation',\n",
    "                    'AB Citylink Loyalty Rewards','Meet Lite', 'Meet Max']\n",
    "    if bb_cat == \"MEDIUM\" or bb_cat == \"HIGH\":\n",
    "        if not isinstance(vas, float):\n",
    "            for v in bb_vas:\n",
    "                if v in vas:\n",
    "                    prob += 0.2\n",
    "    if not isinstance(vas, float):\n",
    "        for v in vas_packages:\n",
    "            if v in vas:\n",
    "                prob += 0.25\n",
    "    return prob"
   ]
  },
  {
   "cell_type": "code",
   "execution_count": 257,
   "metadata": {},
   "outputs": [],
   "source": [
    "usage_df[\"VAS_if_Working_Professionals\"] = usage_df.apply(lambda x: working_professional_vas_packages(x[\"BB_Categorical\"],x[\"Package_Formatted\"]), axis=1)"
   ]
  },
  {
   "cell_type": "code",
   "execution_count": 258,
   "metadata": {},
   "outputs": [],
   "source": [
    "def family_member_abroad_idd_countries(idd_cat,incoming_country,outgoing_country):\n",
    "    prob = 0.0\n",
    "    countries = [\"United Arab Emirates\", \"Australia - Mobile\",\"UK - Mobile\", \"New Zealand\", \"Hong Kong\",\"Maldive Islands\",\"Singapore\",\n",
    "                 \"India\",\"Saudi Arabia - Mobile\",\"Australia\",\"China - Mobile\",\"Maldive Islands\",\n",
    "                 \"Israel - Mobile\",\"Jordan - Mobile\",\"U.K.\",\"U.S.A\",\"France\",\"Italy - Mobile\",\"Malaysia - Mobile\",\"Bangladesh - Mobile\"\n",
    "                ,\"Germany\",\"Philippines - Mobile\",\"Italy\",\"Israel\",\"Saudi Arabia\",\"Pakistan - Mobile\",\"Pakistan\",\"Japan\",\"Kuwait -Mobile\"\n",
    "                ,\"Oman-Mobile \",\"France - Mobile\",\"Canada\",\"Japan - Mobile\",\"United Arab Emirates  - Mobile\",\"Bahrain - Mobile\",\"Bahrain\"\n",
    "                ,\"Cyprus - Mobile\",\"Cyprus\",\"Barbados\",\"Korea Republic Of\",\"Switzerland - Mobile\",\"Indonesia - Mobile\",\"Qatar - Mobile\"\n",
    "                ,\"Qatar\",\"Romania\",\"Germany - Mobile\",\"Belgium\",\"Netherlands\"]\n",
    "    if not isinstance(idd_cat, float):\n",
    "        if idd_cat == \"MEDIUM\" or idd_cat == \"HIGH\":\n",
    "            for country in countries:\n",
    "                if not isinstance(incoming_country, float) and country in incoming_country:\n",
    "                    prob += 0.25\n",
    "                elif not isinstance(outgoing_country, float) and country in outgoing_country:\n",
    "                    prob += 0.25\n",
    "    return prob"
   ]
  },
  {
   "cell_type": "code",
   "execution_count": 259,
   "metadata": {},
   "outputs": [],
   "source": [
    "usage_df[\"IDD_if_Family_Member_Abroad\"] = usage_df.apply(lambda x: family_member_abroad_idd_countries(x[\"IDD_Overall_Categorical\"],x[\"IDD_incoming_country\"],x[\"IDD_outgoing_country\"]), axis=1)"
   ]
  },
  {
   "cell_type": "code",
   "execution_count": 260,
   "metadata": {},
   "outputs": [
    {
     "name": "stdout",
     "output_type": "stream",
     "text": [
      "<class 'pandas.core.frame.DataFrame'>\n",
      "Int64Index: 159800 entries, 0 to 159799\n",
      "Columns: 122 entries, event_source.hash to IDD_if_Family_Member_Abroad\n",
      "dtypes: category(2), float64(50), object(70)\n",
      "memory usage: 147.8+ MB\n"
     ]
    }
   ],
   "source": [
    "usage_df.info()"
   ]
  },
  {
   "cell_type": "code",
   "execution_count": 261,
   "metadata": {},
   "outputs": [],
   "source": [
    "usage_df.to_csv(\"data/user_profile/prepared/User_Profile_Event_Source_Level.csv\")"
   ]
  },
  {
   "cell_type": "markdown",
   "metadata": {},
   "source": [
    "## Nul Handled User Profile"
   ]
  },
  {
   "cell_type": "code",
   "execution_count": 262,
   "metadata": {},
   "outputs": [],
   "source": [
    "nh_usage_df = usage_df"
   ]
  },
  {
   "cell_type": "code",
   "execution_count": 263,
   "metadata": {},
   "outputs": [],
   "source": [
    "usage_cols = [\"Voice_OUTGOING_Scaled\",\"Voice_INCOMING_Scaled\"]"
   ]
  },
  {
   "cell_type": "code",
   "execution_count": 264,
   "metadata": {},
   "outputs": [],
   "source": [
    "for col in usage_cols:\n",
    "    nh_usage_df[col] = np.where(nh_usage_df[\"Sub_Type\"].isnull() == False & nh_usage_df[col].isnull(), nh_usage_df[col].fillna(nh_usage_df[col].mean()), nh_usage_df[col])"
   ]
  },
  {
   "cell_type": "code",
   "execution_count": 265,
   "metadata": {},
   "outputs": [],
   "source": [
    "nh_usage_df[\"PEO_TV_Scaled\"] = np.where(nh_usage_df[\"PEO_TV_Scaled\"].isnull() & ((nh_usage_df[\"Sub_Type\"]==\"DOUBLE_PLAY_PV\") | (nh_usage_df[\"Sub_Type\"]==\"TRIPLE_PLAY\")), nh_usage_df[\"PEO_TV_Scaled\"].fillna(nh_usage_df[\"PEO_TV_Scaled\"].mean()), nh_usage_df[\"PEO_TV_Scaled\"])"
   ]
  },
  {
   "cell_type": "code",
   "execution_count": 266,
   "metadata": {},
   "outputs": [],
   "source": [
    "nh_usage_df[\"BB_Scaled\"] = np.where(nh_usage_df[\"BB_Scaled\"].isnull() & ((nh_usage_df[\"Sub_Type\"]==\"DOUBLE_PLAY_BV\") | (nh_usage_df[\"Sub_Type\"]==\"TRIPLE_PLAY\")), nh_usage_df[\"BB_Scaled\"].fillna(nh_usage_df[\"BB_Scaled\"].mean()), nh_usage_df[\"BB_Scaled\"])"
   ]
  },
  {
   "cell_type": "markdown",
   "metadata": {},
   "source": [
    "### Handeling Object col null values"
   ]
  },
  {
   "cell_type": "code",
   "execution_count": 267,
   "metadata": {},
   "outputs": [],
   "source": [
    "cat_cols = nh_usage_df.select_dtypes(include='object').columns\n",
    "nh_usage_df[cat_cols] = nh_usage_df[cat_cols].fillna(\"NO_INFO\")"
   ]
  },
  {
   "cell_type": "markdown",
   "metadata": {},
   "source": [
    "### Filling Usage values with mean"
   ]
  },
  {
   "cell_type": "code",
   "execution_count": 268,
   "metadata": {},
   "outputs": [],
   "source": [
    "mean_cols = ['BIRTH_YEAR','AGE']\n",
    "for col in mean_cols:\n",
    "    nh_usage_df[col] = nh_usage_df[col].fillna(nh_usage_df[col].mean())"
   ]
  },
  {
   "cell_type": "markdown",
   "metadata": {},
   "source": [
    "### Filling Numerical cols with Zero"
   ]
  },
  {
   "cell_type": "code",
   "execution_count": 269,
   "metadata": {},
   "outputs": [],
   "source": [
    "zero_cols = nh_usage_df.select_dtypes(include='float64').columns\n",
    "nh_usage_df[zero_cols] = nh_usage_df[zero_cols].fillna(0)"
   ]
  },
  {
   "cell_type": "markdown",
   "metadata": {},
   "source": [
    "### Fillling Cat Columns"
   ]
  },
  {
   "cell_type": "code",
   "execution_count": 270,
   "metadata": {},
   "outputs": [],
   "source": [
    "nh_usage_df[\"BB_Extra_GB_Purchase_Categorical\"] = nh_usage_df[\"BB_Extra_GB_Purchase_Categorical\"].cat.add_categories(\"NO_INFO\").fillna(\"NO_INFO\")\n",
    "nh_usage_df[\"Peo_Extra_Channels_Purchased_Categorical\"] = nh_usage_df[\"Peo_Extra_Channels_Purchased_Categorical\"].cat.add_categories(\"NO_INFO\").fillna(\"NO_INFO\")"
   ]
  },
  {
   "cell_type": "code",
   "execution_count": 271,
   "metadata": {},
   "outputs": [],
   "source": [
    "pd.set_option(\"display.max_rows\", None, \"display.max_columns\", None)"
   ]
  },
  {
   "cell_type": "code",
   "execution_count": 272,
   "metadata": {},
   "outputs": [
    {
     "data": {
      "text/plain": [
       "event_source.hash                           0\n",
       "ACCOUNT_NUM.hash                            0\n",
       "CR.hash                                     0\n",
       "Voice_INCOMING_Categorical                  0\n",
       "Voice_INCOMING_Scaled                       0\n",
       "Voice_INCOMING_Outlier                      0\n",
       "Location_Identifier                         0\n",
       "Location_Node                               0\n",
       "Package_Type_and_Medium                     0\n",
       "Model                                       0\n",
       "Service_Status                              0\n",
       "Voice_OUTGOING_Categorical                  0\n",
       "Voice_OUTGOING_Scaled                       0\n",
       "Voice_OUTGOING_Outlier                      0\n",
       "IDD_INCOMING_Categorical                    0\n",
       "IDD_INCOMING_Scaled                         0\n",
       "IDD_INCOMING_Outlier                        0\n",
       "IDD_incoming_country                        0\n",
       "IDD_OUTGOING_Categorical                    0\n",
       "IDD_OUTGOING_Scaled                         0\n",
       "IDD_OUTGOING_Outlier                        0\n",
       "IDD_outgoing_country                        0\n",
       "Peo_TV_Package                              0\n",
       "PEO_TV_Categorical                          0\n",
       "PEO_TV_Scaled                               0\n",
       "BB_Categorical                              0\n",
       "BB_Scaled                                   0\n",
       "BB_Package                                  0\n",
       "GENDER                                      0\n",
       "BIRTH_YEAR                                  0\n",
       "AGE                                         0\n",
       "Voice_Overall_Categorical                   0\n",
       "IDD_Overall_Categorical                     0\n",
       "VOICE_Categorical                           0\n",
       "Subscription                                0\n",
       "Sub_Type                                    0\n",
       "Sub_Usage                                   0\n",
       "Sub_Type_State                              0\n",
       "Megaline_Package                            0\n",
       "Megaline_Month_Subscribed                   0\n",
       "Megaline_Rental                             0\n",
       "Package_Type                                0\n",
       "Megaline_Medium                             0\n",
       "is_Promotion                                0\n",
       "Megaline_Rental_Scaled                      0\n",
       "FTTH_Package                                0\n",
       "FTTH_Month_Subscribed                       0\n",
       "FTTH_Rental                                 0\n",
       "FTTH_Medium                                 0\n",
       "FTTH_Rental_Scaled                          0\n",
       "LTE_Package                                 0\n",
       "LTE_Month_Subscribed                        0\n",
       "LTE_Rental                                  0\n",
       "LTE_Medium                                  0\n",
       "LTE_Rental_Scaled                           0\n",
       "VAS_Package                                 0\n",
       "VAS_Month_Subscribed                        0\n",
       "VAS_Rental                                  0\n",
       "Product_Type                                0\n",
       "VAS_Medium                                  0\n",
       "VAS_Rental_Scaled                           0\n",
       "Sub_Update_Date                             0\n",
       "Sub_Update_Status                           0\n",
       "Sub_Update                                  0\n",
       "BB_Extra_GB_Rental                          0\n",
       "BB_Extra_GB_Amount                          0\n",
       "BB_Extra_GB_Hour_Subscribed                 0\n",
       "BB_Extra_GB_Usage_Times                     0\n",
       "BB_Extra_GB_Month_vs_Rental                 0\n",
       "BB_Extra_GB_Purchased_Scaled                0\n",
       "BB_Extra_GB_Purchase_Categorical            0\n",
       "BB_Extra_GB_Subscribed_Night                0\n",
       "BB_Extra_GB_Subscribed_Day                  0\n",
       "BB_Extra_GB_Rental_Scaled                   0\n",
       "Peo_Extra_Channels_Cumulative_Rental        0\n",
       "Peo_Extra_Channels_Month_vs_Rental          0\n",
       "Peo_Extra_Channels_Purchased_Scaled         0\n",
       "Peo_Extra_Channels_Purchased_Categorical    0\n",
       "Bill_Balance_Froward                        0\n",
       "Bill_Net_Invoice                            0\n",
       "Bill_Tax_Invoice                            0\n",
       "Bill_Outstanding_Balance                    0\n",
       "Bill_Amount_Paid                            0\n",
       "Bill_Faild_to_Pay                           0\n",
       "Bill_Adjustment_Paid                        0\n",
       "Bill_Refunds_Paid                           0\n",
       "Bill_Payment_Due_Date                       0\n",
       "Bill_Bill_Settled_Date                      0\n",
       "Bill_Actual_Bill_Date                       0\n",
       "Bill_Billing_Status                         0\n",
       "Payment_Status                              0\n",
       "Payments_Month_vs_Amount_Paid               0\n",
       "Package_Formatted                           0\n",
       "FREE_or_PAID                                0\n",
       "is_Subscription                             0\n",
       "TARIFF_DESC                                 0\n",
       "TARIFF_NAME                                 0\n",
       "Having_Insurance                            0\n",
       "Having_Senior_Citizen_Scaled                0\n",
       "Having_Senior_Citizen                       0\n",
       "Having_Kids_at_Home_Scaled                  0\n",
       "Having_Kids_at_Home                         0\n",
       "SMEs_Scaled                                 0\n",
       "SMEs                                        0\n",
       "Having_Teenagers_Students_Scaled            0\n",
       "Having_Teenagers_Students                   0\n",
       "Having_Working_Professionals_Scaled         0\n",
       "Having_Working_Professionals                0\n",
       "Having_Family_Member_Abroad_Scaled          0\n",
       "Having_Family_Member_Abroad                 0\n",
       "Tamil_Customer                              0\n",
       "Peo_Packages_if_Senior_Citizen              0\n",
       "Peo_Packages_if_Kids                        0\n",
       "Peo_Packages_if_Teenager_Students           0\n",
       "Peo_Package_if_Working_Professionals        0\n",
       "BB_Package_if_Working_Professionals         0\n",
       "BB_Packages_if_Teenager_Students            0\n",
       "BB_Packages_if_SMEss                        0\n",
       "VAS_if_Kids                                 0\n",
       "VAS_if_Teenager_Students                    0\n",
       "VAS_if_Working_Professionals                0\n",
       "IDD_if_Family_Member_Abroad                 0\n",
       "dtype: int64"
      ]
     },
     "execution_count": 272,
     "metadata": {},
     "output_type": "execute_result"
    }
   ],
   "source": [
    "nh_usage_df.isna().sum()"
   ]
  },
  {
   "cell_type": "code",
   "execution_count": 274,
   "metadata": {},
   "outputs": [
    {
     "name": "stdout",
     "output_type": "stream",
     "text": [
      "<class 'pandas.core.frame.DataFrame'>\n",
      "Int64Index: 159800 entries, 0 to 159799\n",
      "Columns: 122 entries, event_source.hash to IDD_if_Family_Member_Abroad\n",
      "dtypes: category(2), float64(50), object(70)\n",
      "memory usage: 147.8+ MB\n"
     ]
    }
   ],
   "source": [
    "nh_usage_df.info()"
   ]
  },
  {
   "cell_type": "code",
   "execution_count": 275,
   "metadata": {},
   "outputs": [],
   "source": [
    "nh_usage_df.to_csv(\"data/user_profile/prepared/User_Profile_Event_Source_Level_Null_Handled.csv\")"
   ]
  },
  {
   "cell_type": "code",
   "execution_count": null,
   "metadata": {},
   "outputs": [],
   "source": []
  },
  {
   "cell_type": "markdown",
   "metadata": {},
   "source": [
    "## ToDo - Deriving context\n",
    "- Payment Patterns & information : Economical state/ payment type preferred/ payment state (good/bad/avarage)\n",
    "- Time context - BB Usage Time/ PeoTV Watch Time/ Call Time/ IDD Call Time analysis\n",
    "- Upgrade/ Downgrade purpose assumption"
   ]
  },
  {
   "cell_type": "code",
   "execution_count": null,
   "metadata": {},
   "outputs": [],
   "source": []
  },
  {
   "cell_type": "markdown",
   "metadata": {},
   "source": [
    "# User Profile -Analysis"
   ]
  },
  {
   "cell_type": "markdown",
   "metadata": {},
   "source": [
    "### Subscription Changes"
   ]
  },
  {
   "cell_type": "code",
   "execution_count": 514,
   "metadata": {},
   "outputs": [
    {
     "data": {
      "text/plain": [
       "<AxesSubplot:ylabel='None'>"
      ]
     },
     "execution_count": 514,
     "metadata": {},
     "output_type": "execute_result"
    },
    {
     "data": {
      "image/png": "[encoded data removed]",
      "text/plain": [
       "<Figure size 4000x4000 with 1 Axes>"
      ]
     },
     "metadata": {},
     "output_type": "display_data"
    }
   ],
   "source": [
    "fig = plt.figure(figsize=(20,20), dpi=200)\n",
    "ax = plt.subplot(111)\n",
    "\n",
    "usage_df[[\"Sub_Update\"]].value_counts().plot(kind='pie', ax=ax, autopct='%1.1f%%', startangle=270, fontsize=20)"
   ]
  },
  {
   "cell_type": "markdown",
   "metadata": {},
   "source": [
    "### Customers with VAS"
   ]
  },
  {
   "cell_type": "code",
   "execution_count": 509,
   "metadata": {},
   "outputs": [
    {
     "data": {
      "text/plain": [
       "YES    42594\n",
       "dtype: int64"
      ]
     },
     "execution_count": 509,
     "metadata": {},
     "output_type": "execute_result"
    }
   ],
   "source": [
    "usage_df.apply(lambda x: \"YES\" if  type(x[\"Package_Formatted\"]) != float else \"NO\", axis=1).value_counts()"
   ]
  },
  {
   "cell_type": "markdown",
   "metadata": {},
   "source": [
    "## Customers with Megaline Packages"
   ]
  },
  {
   "cell_type": "code",
   "execution_count": 510,
   "metadata": {},
   "outputs": [
    {
     "data": {
      "text/plain": [
       "YES    42594\n",
       "dtype: int64"
      ]
     },
     "execution_count": 510,
     "metadata": {},
     "output_type": "execute_result"
    }
   ],
   "source": [
    "usage_df.apply(lambda x: \"YES\" if  type(x[\"Megaline_Package\"]) != float else \"NO\", axis=1).value_counts()"
   ]
  },
  {
   "cell_type": "markdown",
   "metadata": {},
   "source": [
    "## Customers with FTTH Package"
   ]
  },
  {
   "cell_type": "code",
   "execution_count": 511,
   "metadata": {},
   "outputs": [
    {
     "data": {
      "text/plain": [
       "YES    42594\n",
       "dtype: int64"
      ]
     },
     "execution_count": 511,
     "metadata": {},
     "output_type": "execute_result"
    }
   ],
   "source": [
    "usage_df.apply(lambda x: \"YES\" if  type(x[\"FTTH_Package\"]) != float else \"NO\", axis=1).value_counts()"
   ]
  },
  {
   "cell_type": "markdown",
   "metadata": {},
   "source": [
    "### Customers with LTE packages"
   ]
  },
  {
   "cell_type": "code",
   "execution_count": 512,
   "metadata": {},
   "outputs": [
    {
     "data": {
      "text/plain": [
       "YES    42594\n",
       "dtype: int64"
      ]
     },
     "execution_count": 512,
     "metadata": {},
     "output_type": "execute_result"
    }
   ],
   "source": [
    "usage_df.apply(lambda x: \"YES\" if  type(x[\"LTE_Package\"]) != float else \"NO\", axis=1).value_counts()"
   ]
  },
  {
   "cell_type": "markdown",
   "metadata": {},
   "source": [
    "## Customers with PeoTV Packages"
   ]
  },
  {
   "cell_type": "code",
   "execution_count": 513,
   "metadata": {},
   "outputs": [
    {
     "data": {
      "text/plain": [
       "YES    42594\n",
       "dtype: int64"
      ]
     },
     "execution_count": 513,
     "metadata": {},
     "output_type": "execute_result"
    }
   ],
   "source": [
    "peo_tv_users = usage_df.apply(lambda x: \"YES\" if  type(x[\"Peo_TV_Package\"]) != float else \"NO\", axis=1)\n",
    "peo_tv_users.value_counts()"
   ]
  },
  {
   "cell_type": "code",
   "execution_count": null,
   "metadata": {},
   "outputs": [],
   "source": []
  }
 ],
 "metadata": {
  "kernel_info": {
   "name": "python3"
  },
  "kernelspec": {
   "display_name": "Python 3 (ipykernel)",
   "language": "python",
   "name": "python3"
  },
  "language_info": {
   "codemirror_mode": {
    "name": "ipython",
    "version": 3
   },
   "file_extension": ".py",
   "mimetype": "text/x-python",
   "name": "python",
   "nbconvert_exporter": "python",
   "pygments_lexer": "ipython3",
   "version": "3.8.12"
  },
  "nteract": {
   "version": "nteract-front-end@1.0.0"
  }
 },
 "nbformat": 4,
 "nbformat_minor": 4
}
