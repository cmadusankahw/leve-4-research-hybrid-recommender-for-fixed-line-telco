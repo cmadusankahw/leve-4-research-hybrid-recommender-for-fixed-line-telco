{
 "cells": [
  {
   "cell_type": "code",
   "execution_count": 68,
   "metadata": {},
   "outputs": [],
   "source": [
    "import pandas as pd\n",
    "import numpy as np\n",
    "from sklearn.cluster import AgglomerativeClustering\n",
    "import scipy.cluster.hierarchy as shc\n",
    "from scipy.cluster.hierarchy import linkage, fcluster, dendrogram\n",
    "from sklearn.cluster import KMeans\n",
    "from sklearn_extra.cluster import KMedoids\n",
    "from sklearn.preprocessing import MinMaxScaler\n",
    "import matplotlib.pyplot as plt\n",
    "import plotly.graph_objs as go\n",
    "from plotly import tools\n",
    "from plotly.subplots import make_subplots\n",
    "import plotly.offline as py\n",
    "import seaborn as sns\n",
    "from sklearn.decomposition import PCA\n",
    "from ast import literal_eval\n",
    "from collections import Counter\n",
    "import gower\n",
    "from sklearn.feature_selection import VarianceThreshold"
   ]
  },
  {
   "cell_type": "code",
   "execution_count": 69,
   "metadata": {},
   "outputs": [],
   "source": [
    "user_profile = pd.read_csv(\"data/user_profile/prepared/User_Profile_Null_Handled.csv\")"
   ]
  },
  {
   "cell_type": "code",
   "execution_count": 70,
   "metadata": {},
   "outputs": [],
   "source": [
    "user_profile.drop([\"Unnamed: 0\"],axis=1, inplace=True)"
   ]
  },
  {
   "cell_type": "code",
   "execution_count": 71,
   "metadata": {},
   "outputs": [
    {
     "name": "stdout",
     "output_type": "stream",
     "text": [
      "<class 'pandas.core.frame.DataFrame'>\n",
      "RangeIndex: 42594 entries, 0 to 42593\n",
      "Data columns (total 59 columns):\n",
      " #   Column                                Non-Null Count  Dtype  \n",
      "---  ------                                --------------  -----  \n",
      " 0   Voice_INCOMING_Scaled                 42594 non-null  float64\n",
      " 1   Location_Identifier                   42594 non-null  object \n",
      " 2   Location_Node                         42594 non-null  object \n",
      " 3   Package_Type_and_Medium               42594 non-null  object \n",
      " 4   Model                                 42594 non-null  object \n",
      " 5   Service_Status                        42594 non-null  object \n",
      " 6   Voice_OUTGOING_Scaled                 42594 non-null  float64\n",
      " 7   IDD_INCOMING_Scaled                   42594 non-null  float64\n",
      " 8   IDD_incoming_country                  42594 non-null  object \n",
      " 9   IDD_OUTGOING_Scaled                   42594 non-null  float64\n",
      " 10  IDD_outgoing_country                  42594 non-null  object \n",
      " 11  Peo_TV_Package                        42594 non-null  object \n",
      " 12  PEO_TV_Scaled                         42594 non-null  float64\n",
      " 13  BB_Scaled                             42594 non-null  float64\n",
      " 14  BB_Package                            42594 non-null  object \n",
      " 15  GENDER                                42594 non-null  object \n",
      " 16  AGE                                   42594 non-null  float64\n",
      " 17  Sub_Type                              42594 non-null  object \n",
      " 18  Sub_Type_State                        42594 non-null  object \n",
      " 19  Megaline_Package                      42594 non-null  object \n",
      " 20  Megaline_Rental                       42594 non-null  object \n",
      " 21  Package_Type                          42594 non-null  object \n",
      " 22  Megaline_Medium                       42594 non-null  object \n",
      " 23  FTTH_Package                          42594 non-null  object \n",
      " 24  FTTH_Rental                           42594 non-null  object \n",
      " 25  FTTH_Medium                           42594 non-null  object \n",
      " 26  LTE_Package                           42594 non-null  object \n",
      " 27  LTE_Rental                            42594 non-null  object \n",
      " 28  LTE_Medium                            42594 non-null  object \n",
      " 29  VAS_Package                           42594 non-null  object \n",
      " 30  VAS_Rental                            42594 non-null  object \n",
      " 31  Product_Type                          42594 non-null  object \n",
      " 32  VAS_Medium                            42594 non-null  object \n",
      " 33  Sub_Update_Status                     42594 non-null  object \n",
      " 34  Sub_Update                            42594 non-null  object \n",
      " 35  GB_Amount                             42594 non-null  float64\n",
      " 36  Hour_Subscribed                       42594 non-null  object \n",
      " 37  BB_Extra_GB_Purchased_Scaled          42594 non-null  float64\n",
      " 38  Peo_Extra_Channels_Purchased_Scaled   42594 non-null  float64\n",
      " 39  Bill_Balance_Froward                  42594 non-null  float64\n",
      " 40  Bill_Outstanding_Balance              42594 non-null  float64\n",
      " 41  Bill_Amount_Paid                      42594 non-null  float64\n",
      " 42  Bill_Billing_Status                   42594 non-null  object \n",
      " 43  Payment_Status                        42594 non-null  object \n",
      " 44  FREE_or_PAID                          42594 non-null  object \n",
      " 45  is_Subscription                       42594 non-null  object \n",
      " 46  TARIFF_DESC                           42594 non-null  object \n",
      " 47  TARIFF_NAME                           42594 non-null  object \n",
      " 48  Tamil_Customer                        42594 non-null  object \n",
      " 49  Peo_Packages_if_Senior_Citizen        42594 non-null  float64\n",
      " 50  Peo_Packages_if_Kids                  42594 non-null  float64\n",
      " 51  Peo_Packages_if_Teenager_Students     42594 non-null  float64\n",
      " 52  Peo_Package_if_Working_Professionals  42594 non-null  float64\n",
      " 53  BB_Package_if_Working_Professionals   42594 non-null  float64\n",
      " 54  BB_Packages_if_Teenager_Students      42594 non-null  float64\n",
      " 55  BB_Packages_if_SMEss                  42594 non-null  float64\n",
      " 56  VAS_if_Kids                           42594 non-null  float64\n",
      " 57  VAS_if_Teenager_Students              42594 non-null  float64\n",
      " 58  VAS_if_Working_Professionals          42594 non-null  float64\n",
      "dtypes: float64(23), object(36)\n",
      "memory usage: 19.2+ MB\n"
     ]
    }
   ],
   "source": [
    "data = user_profile.iloc[:,[2,4,5,6,7,8,10,13,15,17,19,20,22,24,25,26,28,33,35,36,38,39,40,42,44,45,46,48,49,50,52,53,54,56,57,59,60,63,67,69,72,73,80,81,84,85,86,87,101,102,103,104,105,106,107,108,109,110,111]]\n",
    "data.info()"
   ]
  },
  {
   "cell_type": "code",
   "execution_count": 72,
   "metadata": {},
   "outputs": [],
   "source": [
    "data = data.sample(frac=0.3, random_state=10, ignore_index=True)"
   ]
  },
  {
   "cell_type": "code",
   "execution_count": 73,
   "metadata": {},
   "outputs": [
    {
     "data": {
      "text/plain": [
       "DOUBLE_PLAY_BV    7982\n",
       "TRIPLE_PLAY       7941\n",
       "SINGLE_PLAY       3449\n",
       "DOUBLE_PLAY_PV    1889\n",
       "4G                  36\n",
       "Name: Sub_Type, dtype: int64"
      ]
     },
     "execution_count": 73,
     "metadata": {},
     "output_type": "execute_result"
    }
   ],
   "source": [
    "data_s[\"Sub_Type\"].value_counts()"
   ]
  },
  {
   "cell_type": "code",
   "execution_count": 74,
   "metadata": {},
   "outputs": [
    {
     "data": {
      "text/html": [
       "<div>\n",
       "<style scoped>\n",
       "    .dataframe tbody tr th:only-of-type {\n",
       "        vertical-align: middle;\n",
       "    }\n",
       "\n",
       "    .dataframe tbody tr th {\n",
       "        vertical-align: top;\n",
       "    }\n",
       "\n",
       "    .dataframe thead th {\n",
       "        text-align: right;\n",
       "    }\n",
       "</style>\n",
       "<table border=\"1\" class=\"dataframe\">\n",
       "  <thead>\n",
       "    <tr style=\"text-align: right;\">\n",
       "      <th></th>\n",
       "      <th>Voice_INCOMING_Scaled</th>\n",
       "      <th>Voice_OUTGOING_Scaled</th>\n",
       "      <th>IDD_INCOMING_Scaled</th>\n",
       "      <th>IDD_OUTGOING_Scaled</th>\n",
       "      <th>PEO_TV_Scaled</th>\n",
       "      <th>BB_Scaled</th>\n",
       "      <th>AGE</th>\n",
       "      <th>GB_Amount</th>\n",
       "      <th>BB_Extra_GB_Purchased_Scaled</th>\n",
       "      <th>Peo_Extra_Channels_Purchased_Scaled</th>\n",
       "      <th>...</th>\n",
       "      <th>Peo_Packages_if_Senior_Citizen</th>\n",
       "      <th>Peo_Packages_if_Kids</th>\n",
       "      <th>Peo_Packages_if_Teenager_Students</th>\n",
       "      <th>Peo_Package_if_Working_Professionals</th>\n",
       "      <th>BB_Package_if_Working_Professionals</th>\n",
       "      <th>BB_Packages_if_Teenager_Students</th>\n",
       "      <th>BB_Packages_if_SMEss</th>\n",
       "      <th>VAS_if_Kids</th>\n",
       "      <th>VAS_if_Teenager_Students</th>\n",
       "      <th>VAS_if_Working_Professionals</th>\n",
       "    </tr>\n",
       "  </thead>\n",
       "  <tbody>\n",
       "    <tr>\n",
       "      <th>count</th>\n",
       "      <td>12778.000000</td>\n",
       "      <td>12778.000000</td>\n",
       "      <td>12778.000000</td>\n",
       "      <td>12778.000000</td>\n",
       "      <td>12778.000000</td>\n",
       "      <td>12778.000000</td>\n",
       "      <td>12778.000000</td>\n",
       "      <td>12778.000000</td>\n",
       "      <td>12778.000000</td>\n",
       "      <td>12778.000000</td>\n",
       "      <td>...</td>\n",
       "      <td>12778.000000</td>\n",
       "      <td>12778.000000</td>\n",
       "      <td>12778.000000</td>\n",
       "      <td>12778.000000</td>\n",
       "      <td>12778.0</td>\n",
       "      <td>12778.0</td>\n",
       "      <td>12778.0</td>\n",
       "      <td>12778.000000</td>\n",
       "      <td>12778.000000</td>\n",
       "      <td>12778.000000</td>\n",
       "    </tr>\n",
       "    <tr>\n",
       "      <th>mean</th>\n",
       "      <td>0.116063</td>\n",
       "      <td>0.139967</td>\n",
       "      <td>0.020753</td>\n",
       "      <td>0.008652</td>\n",
       "      <td>0.229664</td>\n",
       "      <td>0.373412</td>\n",
       "      <td>54.307304</td>\n",
       "      <td>11.187666</td>\n",
       "      <td>0.003066</td>\n",
       "      <td>0.006016</td>\n",
       "      <td>...</td>\n",
       "      <td>0.001127</td>\n",
       "      <td>0.001362</td>\n",
       "      <td>0.005729</td>\n",
       "      <td>0.009970</td>\n",
       "      <td>0.0</td>\n",
       "      <td>0.0</td>\n",
       "      <td>0.0</td>\n",
       "      <td>0.006143</td>\n",
       "      <td>0.089725</td>\n",
       "      <td>0.127661</td>\n",
       "    </tr>\n",
       "    <tr>\n",
       "      <th>std</th>\n",
       "      <td>0.097810</td>\n",
       "      <td>0.120173</td>\n",
       "      <td>0.081895</td>\n",
       "      <td>0.050141</td>\n",
       "      <td>0.279353</td>\n",
       "      <td>0.341514</td>\n",
       "      <td>13.672774</td>\n",
       "      <td>39.349491</td>\n",
       "      <td>0.009943</td>\n",
       "      <td>0.048463</td>\n",
       "      <td>...</td>\n",
       "      <td>0.014971</td>\n",
       "      <td>0.017552</td>\n",
       "      <td>0.033549</td>\n",
       "      <td>0.052703</td>\n",
       "      <td>0.0</td>\n",
       "      <td>0.0</td>\n",
       "      <td>0.0</td>\n",
       "      <td>0.055083</td>\n",
       "      <td>0.166625</td>\n",
       "      <td>0.171401</td>\n",
       "    </tr>\n",
       "    <tr>\n",
       "      <th>min</th>\n",
       "      <td>0.001736</td>\n",
       "      <td>0.001736</td>\n",
       "      <td>0.000000</td>\n",
       "      <td>0.000000</td>\n",
       "      <td>0.000000</td>\n",
       "      <td>0.000000</td>\n",
       "      <td>18.000000</td>\n",
       "      <td>0.000000</td>\n",
       "      <td>0.000000</td>\n",
       "      <td>0.000000</td>\n",
       "      <td>...</td>\n",
       "      <td>0.000000</td>\n",
       "      <td>0.000000</td>\n",
       "      <td>0.000000</td>\n",
       "      <td>0.000000</td>\n",
       "      <td>0.0</td>\n",
       "      <td>0.0</td>\n",
       "      <td>0.0</td>\n",
       "      <td>0.000000</td>\n",
       "      <td>0.000000</td>\n",
       "      <td>0.000000</td>\n",
       "    </tr>\n",
       "    <tr>\n",
       "      <th>25%</th>\n",
       "      <td>0.032986</td>\n",
       "      <td>0.040196</td>\n",
       "      <td>0.000000</td>\n",
       "      <td>0.000000</td>\n",
       "      <td>0.000000</td>\n",
       "      <td>0.076389</td>\n",
       "      <td>45.000000</td>\n",
       "      <td>0.000000</td>\n",
       "      <td>0.000000</td>\n",
       "      <td>0.000000</td>\n",
       "      <td>...</td>\n",
       "      <td>0.000000</td>\n",
       "      <td>0.000000</td>\n",
       "      <td>0.000000</td>\n",
       "      <td>0.000000</td>\n",
       "      <td>0.0</td>\n",
       "      <td>0.0</td>\n",
       "      <td>0.0</td>\n",
       "      <td>0.000000</td>\n",
       "      <td>0.000000</td>\n",
       "      <td>0.000000</td>\n",
       "    </tr>\n",
       "    <tr>\n",
       "      <th>50%</th>\n",
       "      <td>0.094122</td>\n",
       "      <td>0.117010</td>\n",
       "      <td>0.000000</td>\n",
       "      <td>0.000000</td>\n",
       "      <td>0.000000</td>\n",
       "      <td>0.277778</td>\n",
       "      <td>54.297914</td>\n",
       "      <td>0.000000</td>\n",
       "      <td>0.000000</td>\n",
       "      <td>0.000000</td>\n",
       "      <td>...</td>\n",
       "      <td>0.000000</td>\n",
       "      <td>0.000000</td>\n",
       "      <td>0.000000</td>\n",
       "      <td>0.000000</td>\n",
       "      <td>0.0</td>\n",
       "      <td>0.0</td>\n",
       "      <td>0.0</td>\n",
       "      <td>0.000000</td>\n",
       "      <td>0.000000</td>\n",
       "      <td>0.000000</td>\n",
       "    </tr>\n",
       "    <tr>\n",
       "      <th>75%</th>\n",
       "      <td>0.178075</td>\n",
       "      <td>0.201965</td>\n",
       "      <td>0.000000</td>\n",
       "      <td>0.000000</td>\n",
       "      <td>0.488889</td>\n",
       "      <td>0.611111</td>\n",
       "      <td>63.000000</td>\n",
       "      <td>6.000000</td>\n",
       "      <td>0.001691</td>\n",
       "      <td>0.000000</td>\n",
       "      <td>...</td>\n",
       "      <td>0.000000</td>\n",
       "      <td>0.000000</td>\n",
       "      <td>0.000000</td>\n",
       "      <td>0.000000</td>\n",
       "      <td>0.0</td>\n",
       "      <td>0.0</td>\n",
       "      <td>0.0</td>\n",
       "      <td>0.000000</td>\n",
       "      <td>0.200000</td>\n",
       "      <td>0.200000</td>\n",
       "    </tr>\n",
       "    <tr>\n",
       "      <th>max</th>\n",
       "      <td>0.944444</td>\n",
       "      <td>0.894097</td>\n",
       "      <td>0.922222</td>\n",
       "      <td>0.750000</td>\n",
       "      <td>0.800000</td>\n",
       "      <td>1.166667</td>\n",
       "      <td>99.000000</td>\n",
       "      <td>1455.000000</td>\n",
       "      <td>0.287762</td>\n",
       "      <td>0.450000</td>\n",
       "      <td>...</td>\n",
       "      <td>0.200000</td>\n",
       "      <td>0.400000</td>\n",
       "      <td>0.400000</td>\n",
       "      <td>0.600000</td>\n",
       "      <td>0.0</td>\n",
       "      <td>0.0</td>\n",
       "      <td>0.0</td>\n",
       "      <td>0.500000</td>\n",
       "      <td>1.000000</td>\n",
       "      <td>0.700000</td>\n",
       "    </tr>\n",
       "  </tbody>\n",
       "</table>\n",
       "<p>8 rows × 23 columns</p>\n",
       "</div>"
      ],
      "text/plain": [
       "       Voice_INCOMING_Scaled  Voice_OUTGOING_Scaled  IDD_INCOMING_Scaled  \\\n",
       "count           12778.000000           12778.000000         12778.000000   \n",
       "mean                0.116063               0.139967             0.020753   \n",
       "std                 0.097810               0.120173             0.081895   \n",
       "min                 0.001736               0.001736             0.000000   \n",
       "25%                 0.032986               0.040196             0.000000   \n",
       "50%                 0.094122               0.117010             0.000000   \n",
       "75%                 0.178075               0.201965             0.000000   \n",
       "max                 0.944444               0.894097             0.922222   \n",
       "\n",
       "       IDD_OUTGOING_Scaled  PEO_TV_Scaled     BB_Scaled           AGE  \\\n",
       "count         12778.000000   12778.000000  12778.000000  12778.000000   \n",
       "mean              0.008652       0.229664      0.373412     54.307304   \n",
       "std               0.050141       0.279353      0.341514     13.672774   \n",
       "min               0.000000       0.000000      0.000000     18.000000   \n",
       "25%               0.000000       0.000000      0.076389     45.000000   \n",
       "50%               0.000000       0.000000      0.277778     54.297914   \n",
       "75%               0.000000       0.488889      0.611111     63.000000   \n",
       "max               0.750000       0.800000      1.166667     99.000000   \n",
       "\n",
       "          GB_Amount  BB_Extra_GB_Purchased_Scaled  \\\n",
       "count  12778.000000                  12778.000000   \n",
       "mean      11.187666                      0.003066   \n",
       "std       39.349491                      0.009943   \n",
       "min        0.000000                      0.000000   \n",
       "25%        0.000000                      0.000000   \n",
       "50%        0.000000                      0.000000   \n",
       "75%        6.000000                      0.001691   \n",
       "max     1455.000000                      0.287762   \n",
       "\n",
       "       Peo_Extra_Channels_Purchased_Scaled  ...  \\\n",
       "count                         12778.000000  ...   \n",
       "mean                              0.006016  ...   \n",
       "std                               0.048463  ...   \n",
       "min                               0.000000  ...   \n",
       "25%                               0.000000  ...   \n",
       "50%                               0.000000  ...   \n",
       "75%                               0.000000  ...   \n",
       "max                               0.450000  ...   \n",
       "\n",
       "       Peo_Packages_if_Senior_Citizen  Peo_Packages_if_Kids  \\\n",
       "count                    12778.000000          12778.000000   \n",
       "mean                         0.001127              0.001362   \n",
       "std                          0.014971              0.017552   \n",
       "min                          0.000000              0.000000   \n",
       "25%                          0.000000              0.000000   \n",
       "50%                          0.000000              0.000000   \n",
       "75%                          0.000000              0.000000   \n",
       "max                          0.200000              0.400000   \n",
       "\n",
       "       Peo_Packages_if_Teenager_Students  \\\n",
       "count                       12778.000000   \n",
       "mean                            0.005729   \n",
       "std                             0.033549   \n",
       "min                             0.000000   \n",
       "25%                             0.000000   \n",
       "50%                             0.000000   \n",
       "75%                             0.000000   \n",
       "max                             0.400000   \n",
       "\n",
       "       Peo_Package_if_Working_Professionals  \\\n",
       "count                          12778.000000   \n",
       "mean                               0.009970   \n",
       "std                                0.052703   \n",
       "min                                0.000000   \n",
       "25%                                0.000000   \n",
       "50%                                0.000000   \n",
       "75%                                0.000000   \n",
       "max                                0.600000   \n",
       "\n",
       "       BB_Package_if_Working_Professionals  BB_Packages_if_Teenager_Students  \\\n",
       "count                              12778.0                           12778.0   \n",
       "mean                                   0.0                               0.0   \n",
       "std                                    0.0                               0.0   \n",
       "min                                    0.0                               0.0   \n",
       "25%                                    0.0                               0.0   \n",
       "50%                                    0.0                               0.0   \n",
       "75%                                    0.0                               0.0   \n",
       "max                                    0.0                               0.0   \n",
       "\n",
       "       BB_Packages_if_SMEss   VAS_if_Kids  VAS_if_Teenager_Students  \\\n",
       "count               12778.0  12778.000000              12778.000000   \n",
       "mean                    0.0      0.006143                  0.089725   \n",
       "std                     0.0      0.055083                  0.166625   \n",
       "min                     0.0      0.000000                  0.000000   \n",
       "25%                     0.0      0.000000                  0.000000   \n",
       "50%                     0.0      0.000000                  0.000000   \n",
       "75%                     0.0      0.000000                  0.200000   \n",
       "max                     0.0      0.500000                  1.000000   \n",
       "\n",
       "       VAS_if_Working_Professionals  \n",
       "count                  12778.000000  \n",
       "mean                       0.127661  \n",
       "std                        0.171401  \n",
       "min                        0.000000  \n",
       "25%                        0.000000  \n",
       "50%                        0.000000  \n",
       "75%                        0.200000  \n",
       "max                        0.700000  \n",
       "\n",
       "[8 rows x 23 columns]"
      ]
     },
     "execution_count": 74,
     "metadata": {},
     "output_type": "execute_result"
    }
   ],
   "source": [
    "data.describe()"
   ]
  },
  {
   "cell_type": "markdown",
   "metadata": {},
   "source": [
    "### Correlations"
   ]
  },
  {
   "cell_type": "code",
   "execution_count": 75,
   "metadata": {},
   "outputs": [
    {
     "data": {
      "image/png": "[encoded data removed]",
      "text/plain": [
       "<Figure size 1080x1080 with 2 Axes>"
      ]
     },
     "metadata": {
      "needs_background": "light"
     },
     "output_type": "display_data"
    }
   ],
   "source": [
    "plt.figure(figsize=(15,15))\n",
    "sns.heatmap(data.corr(),annot=True,vmin=-1,vmax=1)\n",
    "plt.show()"
   ]
  },
  {
   "cell_type": "code",
   "execution_count": null,
   "metadata": {},
   "outputs": [],
   "source": []
  },
  {
   "cell_type": "markdown",
   "metadata": {},
   "source": [
    "## Measuring Distances of Categorical Variables with Gower "
   ]
  },
  {
   "cell_type": "code",
   "execution_count": 76,
   "metadata": {},
   "outputs": [],
   "source": [
    "mp = []\n",
    "\n",
    "for col in data.dtypes:\n",
    "    if col == \"float64\":\n",
    "        mp.append(False)\n",
    "    else:\n",
    "        mp.append(True)"
   ]
  },
  {
   "cell_type": "code",
   "execution_count": 77,
   "metadata": {},
   "outputs": [
    {
     "data": {
      "text/plain": [
       "59"
      ]
     },
     "execution_count": 77,
     "metadata": {},
     "output_type": "execute_result"
    }
   ],
   "source": [
    "len(mp)"
   ]
  },
  {
   "cell_type": "code",
   "execution_count": 78,
   "metadata": {},
   "outputs": [],
   "source": [
    "dm = gower.gower_matrix(data, cat_features = mp )"
   ]
  },
  {
   "cell_type": "code",
   "execution_count": 79,
   "metadata": {},
   "outputs": [
    {
     "data": {
      "text/plain": [
       "(12778, 12778)"
      ]
     },
     "execution_count": 79,
     "metadata": {},
     "output_type": "execute_result"
    }
   ],
   "source": [
    "dm.shape"
   ]
  },
  {
   "cell_type": "markdown",
   "metadata": {},
   "source": [
    "## Feature Selection"
   ]
  },
  {
   "cell_type": "markdown",
   "metadata": {},
   "source": [
    "- Feature selector that removes all low-variance features.\n",
    "- This feature selection algorithm looks only at the features (X), not the desired outputs (y), and can thus be used for unsupervised learning.\n",
    "- docs: https://scikit-learn.org/stable/modules/generated/sklearn.feature_selection.VarianceThreshold.html"
   ]
  },
  {
   "cell_type": "markdown",
   "metadata": {},
   "source": [
    "# Applying PCA"
   ]
  },
  {
   "cell_type": "markdown",
   "metadata": {},
   "source": [
    "### Find most approporiate no of components"
   ]
  },
  {
   "cell_type": "code",
   "execution_count": 80,
   "metadata": {},
   "outputs": [
    {
     "data": {
      "text/plain": [
       "PCA(n_components=59)"
      ]
     },
     "execution_count": 80,
     "metadata": {},
     "output_type": "execute_result"
    }
   ],
   "source": [
    "pc=PCA(n_components=59) \n",
    "pc.fit(dm)"
   ]
  },
  {
   "cell_type": "code",
   "execution_count": 81,
   "metadata": {},
   "outputs": [
    {
     "data": {
      "text/plain": [
       "array([3.08122654e+01, 1.56079483e+01, 1.30196981e+01, 7.20403957e+00,\n",
       "       3.25377703e+00, 1.29703963e+00, 1.07048810e+00, 8.00288975e-01,\n",
       "       6.27417684e-01, 5.03095150e-01, 3.19259018e-01, 2.63315052e-01,\n",
       "       2.40360245e-01, 2.25937515e-01, 1.88265428e-01, 1.49337664e-01,\n",
       "       1.25959352e-01, 1.13747641e-01, 1.00866020e-01, 8.83293673e-02,\n",
       "       6.15894087e-02, 5.94842359e-02, 5.29735945e-02, 4.79149781e-02,\n",
       "       4.38956991e-02, 3.99368107e-02, 3.64517532e-02, 3.50903384e-02,\n",
       "       3.21127512e-02, 3.08006406e-02, 2.96366233e-02, 2.82679405e-02,\n",
       "       2.70368569e-02, 2.50818040e-02, 2.13365834e-02, 2.01029629e-02,\n",
       "       1.72382239e-02, 1.56162912e-02, 1.52717289e-02, 1.41729927e-02,\n",
       "       1.30596403e-02, 1.12125585e-02, 1.06062684e-02, 1.02791823e-02,\n",
       "       8.39722622e-03, 7.12973811e-03, 6.86755264e-03, 6.49725785e-03,\n",
       "       6.24345709e-03, 5.94639126e-03, 5.16702980e-03, 4.79190936e-03,\n",
       "       4.64635342e-03, 4.46519209e-03, 4.34369780e-03, 4.11941996e-03,\n",
       "       3.81028792e-03, 3.62032535e-03, 3.49008245e-03], dtype=float32)"
      ]
     },
     "execution_count": 81,
     "metadata": {},
     "output_type": "execute_result"
    }
   ],
   "source": [
    "#How much variance,caputured individually\n",
    "pc.explained_variance_"
   ]
  },
  {
   "cell_type": "code",
   "execution_count": 82,
   "metadata": {},
   "outputs": [],
   "source": [
    "#How mucb variance, captured together\n",
    "cumsum_arr = pc.explained_variance_ratio_.cumsum() "
   ]
  },
  {
   "cell_type": "code",
   "execution_count": 83,
   "metadata": {},
   "outputs": [
    {
     "data": {
      "text/plain": [
       "array([0.40071955, 0.603704  , 0.7730277 , 0.8667177 , 0.9090337 ,\n",
       "       0.92590195, 0.93982387, 0.9502318 , 0.9583915 , 0.96493435,\n",
       "       0.96908635, 0.9725108 , 0.9756367 , 0.9785751 , 0.98102355,\n",
       "       0.9829657 , 0.9846038 , 0.98608315, 0.9873949 , 0.9885437 ,\n",
       "       0.98934466, 0.99011827, 0.9908072 , 0.99143034, 0.99200124,\n",
       "       0.99252063, 0.99299467, 0.993451  , 0.99386865, 0.9942692 ,\n",
       "       0.9946546 , 0.99502224, 0.99537385, 0.99570006, 0.9959775 ,\n",
       "       0.99623895, 0.9964631 , 0.9966662 , 0.9968648 , 0.9970491 ,\n",
       "       0.9972189 , 0.9973647 , 0.9975026 , 0.9976363 , 0.9977455 ,\n",
       "       0.99783826, 0.99792755, 0.99801207, 0.99809325, 0.99817055,\n",
       "       0.9982377 , 0.9983001 , 0.9983605 , 0.99841857, 0.9984751 ,\n",
       "       0.99852866, 0.9985782 , 0.9986253 , 0.9986707 ], dtype=float32)"
      ]
     },
     "execution_count": 83,
     "metadata": {},
     "output_type": "execute_result"
    }
   ],
   "source": [
    "cumsum_arr"
   ]
  },
  {
   "cell_type": "code",
   "execution_count": 84,
   "metadata": {},
   "outputs": [],
   "source": [
    "pca_df = pd.DataFrame(data.columns.tolist(),columns=[\"Feature\"])"
   ]
  },
  {
   "cell_type": "code",
   "execution_count": 85,
   "metadata": {},
   "outputs": [],
   "source": [
    "pca_df[\"Importance\"] = cumsum_arr"
   ]
  },
  {
   "cell_type": "code",
   "execution_count": 86,
   "metadata": {},
   "outputs": [
    {
     "data": {
      "text/html": [
       "<div>\n",
       "<style scoped>\n",
       "    .dataframe tbody tr th:only-of-type {\n",
       "        vertical-align: middle;\n",
       "    }\n",
       "\n",
       "    .dataframe tbody tr th {\n",
       "        vertical-align: top;\n",
       "    }\n",
       "\n",
       "    .dataframe thead th {\n",
       "        text-align: right;\n",
       "    }\n",
       "</style>\n",
       "<table border=\"1\" class=\"dataframe\">\n",
       "  <thead>\n",
       "    <tr style=\"text-align: right;\">\n",
       "      <th></th>\n",
       "      <th>Feature</th>\n",
       "      <th>Importance</th>\n",
       "    </tr>\n",
       "  </thead>\n",
       "  <tbody>\n",
       "    <tr>\n",
       "      <th>0</th>\n",
       "      <td>Voice_INCOMING_Scaled</td>\n",
       "      <td>0.400720</td>\n",
       "    </tr>\n",
       "    <tr>\n",
       "      <th>1</th>\n",
       "      <td>Location_Identifier</td>\n",
       "      <td>0.603704</td>\n",
       "    </tr>\n",
       "    <tr>\n",
       "      <th>2</th>\n",
       "      <td>Location_Node</td>\n",
       "      <td>0.773028</td>\n",
       "    </tr>\n",
       "    <tr>\n",
       "      <th>3</th>\n",
       "      <td>Package_Type_and_Medium</td>\n",
       "      <td>0.866718</td>\n",
       "    </tr>\n",
       "    <tr>\n",
       "      <th>4</th>\n",
       "      <td>Model</td>\n",
       "      <td>0.909034</td>\n",
       "    </tr>\n",
       "    <tr>\n",
       "      <th>5</th>\n",
       "      <td>Service_Status</td>\n",
       "      <td>0.925902</td>\n",
       "    </tr>\n",
       "    <tr>\n",
       "      <th>6</th>\n",
       "      <td>Voice_OUTGOING_Scaled</td>\n",
       "      <td>0.939824</td>\n",
       "    </tr>\n",
       "    <tr>\n",
       "      <th>7</th>\n",
       "      <td>IDD_INCOMING_Scaled</td>\n",
       "      <td>0.950232</td>\n",
       "    </tr>\n",
       "    <tr>\n",
       "      <th>8</th>\n",
       "      <td>IDD_incoming_country</td>\n",
       "      <td>0.958391</td>\n",
       "    </tr>\n",
       "    <tr>\n",
       "      <th>9</th>\n",
       "      <td>IDD_OUTGOING_Scaled</td>\n",
       "      <td>0.964934</td>\n",
       "    </tr>\n",
       "    <tr>\n",
       "      <th>10</th>\n",
       "      <td>IDD_outgoing_country</td>\n",
       "      <td>0.969086</td>\n",
       "    </tr>\n",
       "    <tr>\n",
       "      <th>11</th>\n",
       "      <td>Peo_TV_Package</td>\n",
       "      <td>0.972511</td>\n",
       "    </tr>\n",
       "    <tr>\n",
       "      <th>12</th>\n",
       "      <td>PEO_TV_Scaled</td>\n",
       "      <td>0.975637</td>\n",
       "    </tr>\n",
       "    <tr>\n",
       "      <th>13</th>\n",
       "      <td>BB_Scaled</td>\n",
       "      <td>0.978575</td>\n",
       "    </tr>\n",
       "    <tr>\n",
       "      <th>14</th>\n",
       "      <td>BB_Package</td>\n",
       "      <td>0.981024</td>\n",
       "    </tr>\n",
       "    <tr>\n",
       "      <th>15</th>\n",
       "      <td>GENDER</td>\n",
       "      <td>0.982966</td>\n",
       "    </tr>\n",
       "    <tr>\n",
       "      <th>16</th>\n",
       "      <td>AGE</td>\n",
       "      <td>0.984604</td>\n",
       "    </tr>\n",
       "    <tr>\n",
       "      <th>17</th>\n",
       "      <td>Sub_Type</td>\n",
       "      <td>0.986083</td>\n",
       "    </tr>\n",
       "    <tr>\n",
       "      <th>18</th>\n",
       "      <td>Sub_Type_State</td>\n",
       "      <td>0.987395</td>\n",
       "    </tr>\n",
       "    <tr>\n",
       "      <th>19</th>\n",
       "      <td>Megaline_Package</td>\n",
       "      <td>0.988544</td>\n",
       "    </tr>\n",
       "    <tr>\n",
       "      <th>20</th>\n",
       "      <td>Megaline_Rental</td>\n",
       "      <td>0.989345</td>\n",
       "    </tr>\n",
       "    <tr>\n",
       "      <th>21</th>\n",
       "      <td>Package_Type</td>\n",
       "      <td>0.990118</td>\n",
       "    </tr>\n",
       "    <tr>\n",
       "      <th>22</th>\n",
       "      <td>Megaline_Medium</td>\n",
       "      <td>0.990807</td>\n",
       "    </tr>\n",
       "    <tr>\n",
       "      <th>23</th>\n",
       "      <td>FTTH_Package</td>\n",
       "      <td>0.991430</td>\n",
       "    </tr>\n",
       "    <tr>\n",
       "      <th>24</th>\n",
       "      <td>FTTH_Rental</td>\n",
       "      <td>0.992001</td>\n",
       "    </tr>\n",
       "    <tr>\n",
       "      <th>25</th>\n",
       "      <td>FTTH_Medium</td>\n",
       "      <td>0.992521</td>\n",
       "    </tr>\n",
       "    <tr>\n",
       "      <th>26</th>\n",
       "      <td>LTE_Package</td>\n",
       "      <td>0.992995</td>\n",
       "    </tr>\n",
       "    <tr>\n",
       "      <th>27</th>\n",
       "      <td>LTE_Rental</td>\n",
       "      <td>0.993451</td>\n",
       "    </tr>\n",
       "    <tr>\n",
       "      <th>28</th>\n",
       "      <td>LTE_Medium</td>\n",
       "      <td>0.993869</td>\n",
       "    </tr>\n",
       "    <tr>\n",
       "      <th>29</th>\n",
       "      <td>VAS_Package</td>\n",
       "      <td>0.994269</td>\n",
       "    </tr>\n",
       "    <tr>\n",
       "      <th>30</th>\n",
       "      <td>VAS_Rental</td>\n",
       "      <td>0.994655</td>\n",
       "    </tr>\n",
       "    <tr>\n",
       "      <th>31</th>\n",
       "      <td>Product_Type</td>\n",
       "      <td>0.995022</td>\n",
       "    </tr>\n",
       "    <tr>\n",
       "      <th>32</th>\n",
       "      <td>VAS_Medium</td>\n",
       "      <td>0.995374</td>\n",
       "    </tr>\n",
       "    <tr>\n",
       "      <th>33</th>\n",
       "      <td>Sub_Update_Status</td>\n",
       "      <td>0.995700</td>\n",
       "    </tr>\n",
       "    <tr>\n",
       "      <th>34</th>\n",
       "      <td>Sub_Update</td>\n",
       "      <td>0.995978</td>\n",
       "    </tr>\n",
       "    <tr>\n",
       "      <th>35</th>\n",
       "      <td>GB_Amount</td>\n",
       "      <td>0.996239</td>\n",
       "    </tr>\n",
       "    <tr>\n",
       "      <th>36</th>\n",
       "      <td>Hour_Subscribed</td>\n",
       "      <td>0.996463</td>\n",
       "    </tr>\n",
       "    <tr>\n",
       "      <th>37</th>\n",
       "      <td>BB_Extra_GB_Purchased_Scaled</td>\n",
       "      <td>0.996666</td>\n",
       "    </tr>\n",
       "    <tr>\n",
       "      <th>38</th>\n",
       "      <td>Peo_Extra_Channels_Purchased_Scaled</td>\n",
       "      <td>0.996865</td>\n",
       "    </tr>\n",
       "    <tr>\n",
       "      <th>39</th>\n",
       "      <td>Bill_Balance_Froward</td>\n",
       "      <td>0.997049</td>\n",
       "    </tr>\n",
       "    <tr>\n",
       "      <th>40</th>\n",
       "      <td>Bill_Outstanding_Balance</td>\n",
       "      <td>0.997219</td>\n",
       "    </tr>\n",
       "    <tr>\n",
       "      <th>41</th>\n",
       "      <td>Bill_Amount_Paid</td>\n",
       "      <td>0.997365</td>\n",
       "    </tr>\n",
       "    <tr>\n",
       "      <th>42</th>\n",
       "      <td>Bill_Billing_Status</td>\n",
       "      <td>0.997503</td>\n",
       "    </tr>\n",
       "    <tr>\n",
       "      <th>43</th>\n",
       "      <td>Payment_Status</td>\n",
       "      <td>0.997636</td>\n",
       "    </tr>\n",
       "    <tr>\n",
       "      <th>44</th>\n",
       "      <td>FREE_or_PAID</td>\n",
       "      <td>0.997746</td>\n",
       "    </tr>\n",
       "    <tr>\n",
       "      <th>45</th>\n",
       "      <td>is_Subscription</td>\n",
       "      <td>0.997838</td>\n",
       "    </tr>\n",
       "    <tr>\n",
       "      <th>46</th>\n",
       "      <td>TARIFF_DESC</td>\n",
       "      <td>0.997928</td>\n",
       "    </tr>\n",
       "    <tr>\n",
       "      <th>47</th>\n",
       "      <td>TARIFF_NAME</td>\n",
       "      <td>0.998012</td>\n",
       "    </tr>\n",
       "    <tr>\n",
       "      <th>48</th>\n",
       "      <td>Tamil_Customer</td>\n",
       "      <td>0.998093</td>\n",
       "    </tr>\n",
       "    <tr>\n",
       "      <th>49</th>\n",
       "      <td>Peo_Packages_if_Senior_Citizen</td>\n",
       "      <td>0.998171</td>\n",
       "    </tr>\n",
       "    <tr>\n",
       "      <th>50</th>\n",
       "      <td>Peo_Packages_if_Kids</td>\n",
       "      <td>0.998238</td>\n",
       "    </tr>\n",
       "    <tr>\n",
       "      <th>51</th>\n",
       "      <td>Peo_Packages_if_Teenager_Students</td>\n",
       "      <td>0.998300</td>\n",
       "    </tr>\n",
       "    <tr>\n",
       "      <th>52</th>\n",
       "      <td>Peo_Package_if_Working_Professionals</td>\n",
       "      <td>0.998361</td>\n",
       "    </tr>\n",
       "    <tr>\n",
       "      <th>53</th>\n",
       "      <td>BB_Package_if_Working_Professionals</td>\n",
       "      <td>0.998419</td>\n",
       "    </tr>\n",
       "    <tr>\n",
       "      <th>54</th>\n",
       "      <td>BB_Packages_if_Teenager_Students</td>\n",
       "      <td>0.998475</td>\n",
       "    </tr>\n",
       "    <tr>\n",
       "      <th>55</th>\n",
       "      <td>BB_Packages_if_SMEss</td>\n",
       "      <td>0.998529</td>\n",
       "    </tr>\n",
       "    <tr>\n",
       "      <th>56</th>\n",
       "      <td>VAS_if_Kids</td>\n",
       "      <td>0.998578</td>\n",
       "    </tr>\n",
       "    <tr>\n",
       "      <th>57</th>\n",
       "      <td>VAS_if_Teenager_Students</td>\n",
       "      <td>0.998625</td>\n",
       "    </tr>\n",
       "    <tr>\n",
       "      <th>58</th>\n",
       "      <td>VAS_if_Working_Professionals</td>\n",
       "      <td>0.998671</td>\n",
       "    </tr>\n",
       "  </tbody>\n",
       "</table>\n",
       "</div>"
      ],
      "text/plain": [
       "                                 Feature  Importance\n",
       "0                  Voice_INCOMING_Scaled    0.400720\n",
       "1                    Location_Identifier    0.603704\n",
       "2                          Location_Node    0.773028\n",
       "3                Package_Type_and_Medium    0.866718\n",
       "4                                  Model    0.909034\n",
       "5                         Service_Status    0.925902\n",
       "6                  Voice_OUTGOING_Scaled    0.939824\n",
       "7                    IDD_INCOMING_Scaled    0.950232\n",
       "8                   IDD_incoming_country    0.958391\n",
       "9                    IDD_OUTGOING_Scaled    0.964934\n",
       "10                  IDD_outgoing_country    0.969086\n",
       "11                        Peo_TV_Package    0.972511\n",
       "12                         PEO_TV_Scaled    0.975637\n",
       "13                             BB_Scaled    0.978575\n",
       "14                            BB_Package    0.981024\n",
       "15                                GENDER    0.982966\n",
       "16                                   AGE    0.984604\n",
       "17                              Sub_Type    0.986083\n",
       "18                        Sub_Type_State    0.987395\n",
       "19                      Megaline_Package    0.988544\n",
       "20                       Megaline_Rental    0.989345\n",
       "21                          Package_Type    0.990118\n",
       "22                       Megaline_Medium    0.990807\n",
       "23                          FTTH_Package    0.991430\n",
       "24                           FTTH_Rental    0.992001\n",
       "25                           FTTH_Medium    0.992521\n",
       "26                           LTE_Package    0.992995\n",
       "27                            LTE_Rental    0.993451\n",
       "28                            LTE_Medium    0.993869\n",
       "29                           VAS_Package    0.994269\n",
       "30                            VAS_Rental    0.994655\n",
       "31                          Product_Type    0.995022\n",
       "32                            VAS_Medium    0.995374\n",
       "33                     Sub_Update_Status    0.995700\n",
       "34                            Sub_Update    0.995978\n",
       "35                             GB_Amount    0.996239\n",
       "36                       Hour_Subscribed    0.996463\n",
       "37          BB_Extra_GB_Purchased_Scaled    0.996666\n",
       "38   Peo_Extra_Channels_Purchased_Scaled    0.996865\n",
       "39                  Bill_Balance_Froward    0.997049\n",
       "40              Bill_Outstanding_Balance    0.997219\n",
       "41                      Bill_Amount_Paid    0.997365\n",
       "42                   Bill_Billing_Status    0.997503\n",
       "43                        Payment_Status    0.997636\n",
       "44                          FREE_or_PAID    0.997746\n",
       "45                       is_Subscription    0.997838\n",
       "46                           TARIFF_DESC    0.997928\n",
       "47                           TARIFF_NAME    0.998012\n",
       "48                        Tamil_Customer    0.998093\n",
       "49        Peo_Packages_if_Senior_Citizen    0.998171\n",
       "50                  Peo_Packages_if_Kids    0.998238\n",
       "51     Peo_Packages_if_Teenager_Students    0.998300\n",
       "52  Peo_Package_if_Working_Professionals    0.998361\n",
       "53   BB_Package_if_Working_Professionals    0.998419\n",
       "54      BB_Packages_if_Teenager_Students    0.998475\n",
       "55                  BB_Packages_if_SMEss    0.998529\n",
       "56                           VAS_if_Kids    0.998578\n",
       "57              VAS_if_Teenager_Students    0.998625\n",
       "58          VAS_if_Working_Professionals    0.998671"
      ]
     },
     "execution_count": 86,
     "metadata": {},
     "output_type": "execute_result"
    }
   ],
   "source": [
    "pca_df"
   ]
  },
  {
   "cell_type": "code",
   "execution_count": 87,
   "metadata": {},
   "outputs": [
    {
     "name": "stderr",
     "output_type": "stream",
     "text": [
      "/Users/chiranhewawitharana/mambaforge/envs/mactf/lib/python3.8/site-packages/seaborn/_decorators.py:36: FutureWarning:\n",
      "\n",
      "Pass the following variables as keyword args: x, y. From version 0.12, the only valid positional argument will be `data`, and passing other arguments without an explicit keyword will result in an error or misinterpretation.\n",
      "\n"
     ]
    },
    {
     "data": {
      "image/png": "[encoded data removed]",
      "text/plain": [
       "<Figure size 432x288 with 1 Axes>"
      ]
     },
     "metadata": {
      "needs_background": "light"
     },
     "output_type": "display_data"
    }
   ],
   "source": [
    "sns.lineplot(range(1,1+pc.explained_variance_.shape[0]),pc.explained_variance_)\n",
    "plt.show()"
   ]
  },
  {
   "cell_type": "code",
   "execution_count": 88,
   "metadata": {},
   "outputs": [],
   "source": [
    "### Run PCA on the data and reduce the dimensions in pca_num_components dimensions\n",
    "pca_2d = PCA(n_components=2)\n",
    "pca_2d.fit(dm)\n",
    "reduced_data = pca_2d.fit_transform(dm)\n",
    "results_2d_df = pd.DataFrame(reduced_data,columns=['pca1','pca2'])\n",
    "\n",
    "# applying min-max-scaler to reduced features\n",
    "scaler = MinMaxScaler()\n",
    "results_2d_df[['pca1','pca2']] = scaler.fit_transform(results_2d_df[['pca1','pca2']])\n",
    "\n",
    "results = results_2d_df.values"
   ]
  },
  {
   "cell_type": "code",
   "execution_count": 89,
   "metadata": {},
   "outputs": [],
   "source": [
    "### Run PCA on the data and reduce the dimensions in pca_num_components dimensions\n",
    "pca_3d = PCA(n_components=3)\n",
    "pca_3d.fit(dm)\n",
    "reduced_data = pca_3d.fit_transform(dm)\n",
    "results_3d_df = pd.DataFrame(reduced_data,columns=['pca1','pca2','pca3'])\n",
    "\n",
    "# applying min-max-scaler to reduced features\n",
    "scaler = MinMaxScaler()\n",
    "results_3d_df[['pca1','pca2','pca3']] = scaler.fit_transform(results_3d_df[['pca1','pca2','pca3']])\n",
    "\n",
    "results_3d = results_3d_df.values"
   ]
  },
  {
   "cell_type": "code",
   "execution_count": null,
   "metadata": {},
   "outputs": [],
   "source": []
  },
  {
   "cell_type": "markdown",
   "metadata": {},
   "source": [
    "# Clustering"
   ]
  },
  {
   "cell_type": "markdown",
   "metadata": {},
   "source": [
    "## Hierarchical f Clusters and Dendrogram\n",
    "- Hierarchical Clustering"
   ]
  },
  {
   "cell_type": "markdown",
   "metadata": {},
   "source": [
    "## Ward Linkage"
   ]
  },
  {
   "cell_type": "code",
   "execution_count": null,
   "metadata": {},
   "outputs": [
    {
     "name": "stderr",
     "output_type": "stream",
     "text": [
      "/var/folders/00/gmvdw06n48lgtsz126ng5y2m0000gn/T/ipykernel_20489/3267214036.py:1: ClusterWarning:\n",
      "\n",
      "scipy.cluster: The symmetric non-negative hollow observation matrix looks suspiciously like an uncondensed distance matrix\n",
      "\n"
     ]
    }
   ],
   "source": [
    "result = linkage(dm, method=\"ward\") "
   ]
  },
  {
   "cell_type": "code",
   "execution_count": null,
   "metadata": {},
   "outputs": [],
   "source": [
    "plt.figure(figsize=(20,20))\n",
    "shc.dendrogram(result)\n",
    "plt.show()"
   ]
  },
  {
   "cell_type": "markdown",
   "metadata": {},
   "source": [
    "## Avarage Linkage"
   ]
  },
  {
   "cell_type": "code",
   "execution_count": null,
   "metadata": {},
   "outputs": [],
   "source": [
    "hc_average = linkage(dm, \"average\")\n",
    "\n",
    "plt.figure(figsize=(20, 10))\n",
    "plt.title(\"Hierarchical Clustering\")\n",
    "plt.xlabel(\"Observations\")\n",
    "plt.ylabel(\"Distance\")\n",
    "dendrogram(hc_average,\n",
    "           leaf_font_size=10, \n",
    "           p=10,\n",
    "           show_contracted=True,\n",
    "          truncate_mode='level')\n",
    "plt.show()"
   ]
  },
  {
   "cell_type": "markdown",
   "metadata": {},
   "source": [
    "## Complete Linkage"
   ]
  },
  {
   "cell_type": "code",
   "execution_count": null,
   "metadata": {
    "scrolled": false
   },
   "outputs": [],
   "source": [
    "# Complete Linkage Method\n",
    "hc_complete = linkage(dm, \"complete\")\n",
    "\n",
    "plt.figure(figsize=(15, 10))\n",
    "plt.title(\"Hierarchical Clustering\")\n",
    "plt.xlabel(\"Observations\")\n",
    "plt.ylabel(\"Distance\")\n",
    "dendrogram(hc_complete,\n",
    "           truncate_mode=\"lastp\",\n",
    "           p=10,\n",
    "           show_contracted=True,\n",
    "           leaf_font_size=10)\n",
    "plt.show()"
   ]
  },
  {
   "cell_type": "markdown",
   "metadata": {},
   "source": [
    "## F clusters"
   ]
  },
  {
   "cell_type": "code",
   "execution_count": null,
   "metadata": {},
   "outputs": [],
   "source": [
    "ag_y_clusters = fcluster(result, 4, criterion='maxclust')\n",
    "ag_y_clusters"
   ]
  },
  {
   "cell_type": "code",
   "execution_count": null,
   "metadata": {},
   "outputs": [],
   "source": [
    "cluster_labels=[\"x\",0,1,2,3]\n",
    "val_dict = dict(zip(cluster_labels,np.bincount(ag_y_clusters)))\n",
    "val_dict.pop(\"x\")\n",
    "val_dict"
   ]
  },
  {
   "cell_type": "code",
   "execution_count": null,
   "metadata": {},
   "outputs": [],
   "source": [
    "# 3d scatterplot using plotly\n",
    "Scene = dict(xaxis = dict(title  = 'Pca 1'),yaxis = dict(title  = 'Pca 2'),zaxis = dict(title  = 'Pca 3'))\n",
    "\n",
    "# model.labels_ is nothing but the predicted clusters i.e y_clusters\n",
    "labels = ag_y_clusters\n",
    "trace = go.Scatter3d(x=results_3d[:, 0], y=results_3d[:, 1], z=results_3d[:, 2], mode='markers',marker=dict(color = labels, size= 5, line=dict(color= 'black',width =1)))\n",
    "layout = go.Layout(margin=dict(l=0,r=0),scene = Scene,height = 800,width = 800)\n",
    "data = [trace]\n",
    "fig = go.Figure(data = data, layout = layout)\n",
    "fig.show()"
   ]
  },
  {
   "cell_type": "markdown",
   "metadata": {},
   "source": [
    "# Agglomerative Clustering - 4 Clusters (ward)"
   ]
  },
  {
   "cell_type": "code",
   "execution_count": null,
   "metadata": {},
   "outputs": [],
   "source": [
    "acl=AgglomerativeClustering(n_clusters=4,affinity=\"euclidean\",linkage=\"ward\")"
   ]
  },
  {
   "cell_type": "code",
   "execution_count": null,
   "metadata": {},
   "outputs": [],
   "source": [
    "acl.fit(dm)"
   ]
  },
  {
   "cell_type": "code",
   "execution_count": null,
   "metadata": {},
   "outputs": [],
   "source": [
    "# cluster labels\n",
    "acl_y_clusters = acl.labels_"
   ]
  },
  {
   "cell_type": "code",
   "execution_count": null,
   "metadata": {},
   "outputs": [],
   "source": [
    "acl_y_clusters"
   ]
  },
  {
   "cell_type": "code",
   "execution_count": null,
   "metadata": {},
   "outputs": [],
   "source": [
    "cluster_labels=[0,1,2,3]\n",
    "dict(zip(cluster_labels,np.bincount(acl_y_clusters)))"
   ]
  },
  {
   "cell_type": "code",
   "execution_count": null,
   "metadata": {},
   "outputs": [],
   "source": [
    "# 3d scatterplot using plotly\n",
    "Scene = dict(xaxis = dict(title  = 'Pca 1'),yaxis = dict(title  = 'Pca 2'),zaxis = dict(title  = 'Pca 3'))\n",
    "\n",
    "# model.labels_ is nothing but the predicted clusters i.e y_clusters\n",
    "labels = acl_y_clusters\n",
    "trace = go.Scatter3d(x=results_3d[:, 0], y=results_3d[:, 1], z=results_3d[:, 2], mode='markers',marker=dict(color = labels, size= 5, line=dict(color= 'black',width =1)))\n",
    "layout = go.Layout(margin=dict(l=0,r=0),scene = Scene,height = 800,width = 800)\n",
    "data = [trace]\n",
    "fig = go.Figure(data = data, layout = layout)\n",
    "fig.show()"
   ]
  },
  {
   "cell_type": "markdown",
   "metadata": {},
   "source": [
    "# K-Means Clustering"
   ]
  },
  {
   "cell_type": "code",
   "execution_count": null,
   "metadata": {},
   "outputs": [],
   "source": [
    "# find the optimal number of clusters using elbow method\n",
    "WCSS = []\n",
    "for i in range(1,15):\n",
    "    model = KMeans(n_clusters = i,init = 'k-means++')\n",
    "    model.fit(dm)\n",
    "    WCSS.append(model.inertia_)\n",
    "fig = plt.figure(figsize = (8,8))\n",
    "plt.plot(range(1,15),WCSS, linewidth=4, markersize=12,marker='o',color = 'green')\n",
    "plt.xticks(np.arange(15))\n",
    "plt.xlabel(\"Number of clusters\")\n",
    "plt.ylabel(\"WCSS\")\n",
    "plt.show()"
   ]
  },
  {
   "cell_type": "code",
   "execution_count": null,
   "metadata": {},
   "outputs": [],
   "source": [
    "# since elbow occured at 3, let's consider 3 clusters\n",
    "km_model = KMeans(n_clusters = 3, init = \"k-means++\", max_iter = 300, n_init = 10, random_state = 0)\n",
    "kmeans_y_clusters = km_model.fit_predict(dm)"
   ]
  },
  {
   "cell_type": "code",
   "execution_count": null,
   "metadata": {},
   "outputs": [],
   "source": [
    "kmeans_y_clusters"
   ]
  },
  {
   "cell_type": "code",
   "execution_count": null,
   "metadata": {},
   "outputs": [],
   "source": [
    "km_model.labels_"
   ]
  },
  {
   "cell_type": "code",
   "execution_count": null,
   "metadata": {},
   "outputs": [],
   "source": [
    "cluster_labels=[0,1,2]\n",
    "dict(zip(cluster_labels,np.bincount(km_model.labels_)))"
   ]
  },
  {
   "cell_type": "code",
   "execution_count": null,
   "metadata": {},
   "outputs": [],
   "source": [
    "km_model.cluster_centers_"
   ]
  },
  {
   "cell_type": "code",
   "execution_count": null,
   "metadata": {},
   "outputs": [],
   "source": []
  },
  {
   "cell_type": "markdown",
   "metadata": {},
   "source": [
    "# K-Medoids Clustering"
   ]
  },
  {
   "cell_type": "code",
   "execution_count": null,
   "metadata": {},
   "outputs": [],
   "source": [
    "#Reference : https://stackoverflow.com/questions/66441887/how-can-i-implement-pam-clustering-algorithm-using-gower-distance-in-sklearn\n",
    "#https://scikit-learn-extra.readthedocs.io/en/stable/generated/sklearn_extra.cluster.KMedoids.html\n",
    "kmedoids = KMedoids(n_clusters=3, random_state=0,metric = 'precomputed', method = 'pam', init =  'k-medoids++')"
   ]
  },
  {
   "cell_type": "code",
   "execution_count": null,
   "metadata": {},
   "outputs": [],
   "source": [
    "kmod_y_clusters = kmedoids.fit_predict(dm)"
   ]
  },
  {
   "cell_type": "code",
   "execution_count": null,
   "metadata": {},
   "outputs": [],
   "source": [
    "kmod_y_clusters"
   ]
  },
  {
   "cell_type": "code",
   "execution_count": null,
   "metadata": {},
   "outputs": [],
   "source": [
    "kmedoids.labels_"
   ]
  },
  {
   "cell_type": "code",
   "execution_count": null,
   "metadata": {},
   "outputs": [],
   "source": [
    "print(kmedoids.cluster_centers_)"
   ]
  },
  {
   "cell_type": "code",
   "execution_count": null,
   "metadata": {},
   "outputs": [],
   "source": [
    "cluster_labels=[0,1,2]\n",
    "dict(zip(cluster_labels,np.bincount(kmedoids.labels_)))"
   ]
  },
  {
   "cell_type": "code",
   "execution_count": null,
   "metadata": {},
   "outputs": [],
   "source": [
    "plt.figure(figsize = (20,10))\n",
    "plt.scatter(results[kmod_y_clusters == 0,0],results[kmod_y_clusters == 0,1],s = 50, c = 'green', label = \"cluster 0\")\n",
    "plt.scatter(results[kmod_y_clusters == 1,0],results[kmod_y_clusters == 1,1],s = 50, c = 'blue', label = \"cluster 1\")\n",
    "plt.scatter(results[kmod_y_clusters == 2,0],results[kmod_y_clusters == 2,1],s = 50, c = 'black', label = \"cluster 2\")\n",
    "#plt.scatter(results[y_clusters == 3,0],results[y_clusters == 3,1],s = 50, c = 'red', label = \"cluster 3\")\n",
    "#plt.scatter(kmedoids.cluster_centers_[:,0],kmedoids.cluster_centers_[:,1], s = 100, c = \"yellow\", label = \"centroids\")\n",
    "plt.xlabel(\"Pca 1 Usage (Scaled)\")\n",
    "plt.ylabel(\"Pca 2 Usage (Scaled)\")\n",
    "plt.legend()\n",
    "plt.show()"
   ]
  },
  {
   "cell_type": "code",
   "execution_count": null,
   "metadata": {},
   "outputs": [],
   "source": [
    "# 3d scatterplot using matplotlib\n",
    "\n",
    "fig = plt.figure(figsize = (15,15))\n",
    "ax = fig.add_subplot(111, projection='3d')\n",
    "ax.scatter(results_3d[kmod_y_clusters == 0,0],results_3d[kmod_y_clusters == 0,1],results_3d[kmod_y_clusters == 0,2], s = 40 , color = 'blue', label = \"cluster 0\")\n",
    "ax.scatter(results_3d[kmod_y_clusters == 1,0],results_3d[kmod_y_clusters == 1,1],results_3d[kmod_y_clusters == 1,2], s = 40 , color = 'orange', label = \"cluster 1\")\n",
    "ax.scatter(results_3d[kmod_y_clusters == 2,0],results_3d[kmod_y_clusters == 2,1],results_3d[kmod_y_clusters == 2,2], s = 40 , color = 'green', label = \"cluster 2\")\n",
    "#ax.scatter(results_3d[y_clusters == 3,0],results_3d[y_clusters == 3,1],results_3d[y_clusters == 3,2], s = 40 , color = 'red', label = \"cluster 2\")\n",
    "ax.set_xlabel('Pca 1')\n",
    "ax.set_ylabel('Pca 2')\n",
    "ax.set_zlabel('Pca 3')\n",
    "ax.legend()\n",
    "plt.show()"
   ]
  },
  {
   "cell_type": "code",
   "execution_count": null,
   "metadata": {},
   "outputs": [],
   "source": [
    "# 3d scatterplot using plotly\n",
    "Scene = dict(xaxis = dict(title  = 'Pca 1'),yaxis = dict(title  = 'Pca 2'),zaxis = dict(title  = 'Pca 3'))\n",
    "\n",
    "# model.labels_ is nothing but the predicted clusters i.e y_clusters\n",
    "labels = kmedoids.labels_\n",
    "trace = go.Scatter3d(x=results_3d[:, 0], y=results_3d[:, 1], z=results_3d[:, 2], mode='markers',marker=dict(color = labels, size= 5, line=dict(color= 'black',width =1)))\n",
    "layout = go.Layout(margin=dict(l=0,r=0),scene = Scene,height = 800,width = 800)\n",
    "data = [trace]\n",
    "fig = go.Figure(data = data, layout = layout)\n",
    "fig.show()"
   ]
  },
  {
   "cell_type": "code",
   "execution_count": null,
   "metadata": {},
   "outputs": [],
   "source": []
  },
  {
   "cell_type": "markdown",
   "metadata": {},
   "source": [
    "## Adding clusters column to existing user profile"
   ]
  },
  {
   "cell_type": "code",
   "execution_count": null,
   "metadata": {},
   "outputs": [],
   "source": [
    "user_profile[\"KMOD_3_Cluster\"] = kmod_y_clusters"
   ]
  },
  {
   "cell_type": "code",
   "execution_count": null,
   "metadata": {},
   "outputs": [],
   "source": [
    "user_profile[\"H_max_4_Cluster\"] = ag_y_clusters"
   ]
  },
  {
   "cell_type": "code",
   "execution_count": null,
   "metadata": {},
   "outputs": [],
   "source": [
    "user_profile[\"H_Agg_4_Cluster\"] = acl_y_clusters"
   ]
  },
  {
   "cell_type": "code",
   "execution_count": null,
   "metadata": {},
   "outputs": [],
   "source": [
    "user_profile.to_csv(\"data/user_profile/prepared/User_Profile_Socio_features_with_clusters.csv\")"
   ]
  },
  {
   "cell_type": "code",
   "execution_count": null,
   "metadata": {},
   "outputs": [],
   "source": []
  }
 ],
 "metadata": {
  "kernelspec": {
   "display_name": "Python 3 (ipykernel)",
   "language": "python",
   "name": "python3"
  },
  "language_info": {
   "codemirror_mode": {
    "name": "ipython",
    "version": 3
   },
   "file_extension": ".py",
   "mimetype": "text/x-python",
   "name": "python",
   "nbconvert_exporter": "python",
   "pygments_lexer": "ipython3",
   "version": "3.8.12"
  }
 },
 "nbformat": 4,
 "nbformat_minor": 4
}
