{
 "cells": [
  {
   "cell_type": "code",
   "execution_count": 72,
   "metadata": {},
   "outputs": [],
   "source": [
    "# import libraries\n",
    "import numpy as np\n",
    "import pandas as pd\n",
    "import seaborn as sns\n",
    "import matplotlib.pyplot as plt\n",
    "from sklearn.preprocessing import MinMaxScaler"
   ]
  },
  {
   "cell_type": "code",
   "execution_count": 73,
   "metadata": {},
   "outputs": [],
   "source": [
    "peo_usage = pd.read_csv(\"data/user_profile/PEO_TV_Usage_CF.csv\")"
   ]
  },
  {
   "cell_type": "code",
   "execution_count": 74,
   "metadata": {},
   "outputs": [],
   "source": [
    "user_all_df = pd.read_csv(\"data/user_profile/account_no_map_all.csv\")"
   ]
  },
  {
   "cell_type": "code",
   "execution_count": 75,
   "metadata": {},
   "outputs": [],
   "source": [
    "user_profile = pd.read_csv(\"data/user_profile/prepared/User_Profile_Null_Handled.csv\")"
   ]
  },
  {
   "cell_type": "code",
   "execution_count": 76,
   "metadata": {},
   "outputs": [],
   "source": [
    "peo_usage.drop([\"Unnamed: 0\"],axis=1,inplace=True)\n",
    "user_all_df.drop([\"Unnamed: 0\"],axis=1,inplace=True)\n",
    "user_profile.drop([\"Unnamed: 0\"],axis=1,inplace=True)"
   ]
  },
  {
   "cell_type": "code",
   "execution_count": 77,
   "metadata": {},
   "outputs": [],
   "source": [
    "peo_usage = peo_usage.merge(user_all_df[[\"event_source.hash\",\"ACCOUNT_NUM.hash\"]], on=\"event_source.hash\", how=\"left\")\n",
    "peo_usage.drop([\"event_source.hash\"],axis=1, inplace=True)\n",
    "peo_usage.drop_duplicates([\"ACCOUNT_NUM.hash\",\"usage\",\"rating\",\"year-month\"],inplace=True)\n",
    "peo_usage.dropna(subset=[\"ACCOUNT_NUM.hash\"], inplace=True)"
   ]
  },
  {
   "cell_type": "markdown",
   "metadata": {},
   "source": [
    "### Exporting Package Names"
   ]
  },
  {
   "cell_type": "code",
   "execution_count": 78,
   "metadata": {},
   "outputs": [],
   "source": [
    "peo_usage[[\"rating\",\"Peo_TV_Package\"]].drop_duplicates([\"Peo_TV_Package\"]).to_csv(\"data/product_catalog/Peo_Names.csv\")"
   ]
  },
  {
   "cell_type": "code",
   "execution_count": 79,
   "metadata": {},
   "outputs": [
    {
     "name": "stderr",
     "output_type": "stream",
     "text": [
      "/Users/chiranhewawitharana/mambaforge/envs/mactf/lib/python3.8/site-packages/pandas/core/frame.py:5039: SettingWithCopyWarning: \n",
      "A value is trying to be set on a copy of a slice from a DataFrame\n",
      "\n",
      "See the caveats in the documentation: https://pandas.pydata.org/pandas-docs/stable/user_guide/indexing.html#returning-a-view-versus-a-copy\n",
      "  return super().rename(\n"
     ]
    }
   ],
   "source": [
    "rating_df=peo_usage[[\"ACCOUNT_NUM.hash\",\"Peo_TV_Package\",\"rating\"]]\n",
    "rating_df.rename(columns={'rating':'ratings','Peo_TV_Package':'package'},inplace=True)"
   ]
  },
  {
   "cell_type": "code",
   "execution_count": 80,
   "metadata": {},
   "outputs": [
    {
     "name": "stderr",
     "output_type": "stream",
     "text": [
      "/Users/chiranhewawitharana/mambaforge/envs/mactf/lib/python3.8/site-packages/pandas/core/frame.py:4906: SettingWithCopyWarning: \n",
      "A value is trying to be set on a copy of a slice from a DataFrame\n",
      "\n",
      "See the caveats in the documentation: https://pandas.pydata.org/pandas-docs/stable/user_guide/indexing.html#returning-a-view-versus-a-copy\n",
      "  return super().drop(\n"
     ]
    }
   ],
   "source": [
    "rating_df.reset_index(inplace=True)\n",
    "rating_df.drop(\"index\", axis=1, inplace=True)"
   ]
  },
  {
   "cell_type": "code",
   "execution_count": 82,
   "metadata": {},
   "outputs": [],
   "source": [
    "rating_df = rating_df.groupby([\"ACCOUNT_NUM.hash\",\"package\"]).agg({'ratings':sum})\n",
    "rating_df.reset_index(inplace=True)"
   ]
  },
  {
   "cell_type": "code",
   "execution_count": 86,
   "metadata": {},
   "outputs": [
    {
     "data": {
      "text/html": [
       "<div>\n",
       "<style scoped>\n",
       "    .dataframe tbody tr th:only-of-type {\n",
       "        vertical-align: middle;\n",
       "    }\n",
       "\n",
       "    .dataframe tbody tr th {\n",
       "        vertical-align: top;\n",
       "    }\n",
       "\n",
       "    .dataframe thead th {\n",
       "        text-align: right;\n",
       "    }\n",
       "</style>\n",
       "<table border=\"1\" class=\"dataframe\">\n",
       "  <thead>\n",
       "    <tr style=\"text-align: right;\">\n",
       "      <th></th>\n",
       "      <th>ACCOUNT_NUM.hash</th>\n",
       "      <th>package</th>\n",
       "      <th>ratings</th>\n",
       "    </tr>\n",
       "  </thead>\n",
       "  <tbody>\n",
       "    <tr>\n",
       "      <th>0</th>\n",
       "      <td>0003102d10a11c8f2f0f241f00a36b2d</td>\n",
       "      <td>PEO_SILVER_FTTH</td>\n",
       "      <td>0.0</td>\n",
       "    </tr>\n",
       "    <tr>\n",
       "      <th>1</th>\n",
       "      <td>0003102d10a11c8f2f0f241f00a36b2d</td>\n",
       "      <td>PEO_UTHAYAM</td>\n",
       "      <td>1.8</td>\n",
       "    </tr>\n",
       "    <tr>\n",
       "      <th>2</th>\n",
       "      <td>00092b1fd47eb05d000a3553ae072056</td>\n",
       "      <td>PEO_SILVER</td>\n",
       "      <td>6.8</td>\n",
       "    </tr>\n",
       "    <tr>\n",
       "      <th>3</th>\n",
       "      <td>00094326efae1d73371d118204e12e46</td>\n",
       "      <td>PEO_SILVER</td>\n",
       "      <td>4.0</td>\n",
       "    </tr>\n",
       "    <tr>\n",
       "      <th>4</th>\n",
       "      <td>000f325a72b9d24742237070939b57d1</td>\n",
       "      <td>PEO_SILVER</td>\n",
       "      <td>6.4</td>\n",
       "    </tr>\n",
       "  </tbody>\n",
       "</table>\n",
       "</div>"
      ],
      "text/plain": [
       "                   ACCOUNT_NUM.hash          package  ratings\n",
       "0  0003102d10a11c8f2f0f241f00a36b2d  PEO_SILVER_FTTH      0.0\n",
       "1  0003102d10a11c8f2f0f241f00a36b2d      PEO_UTHAYAM      1.8\n",
       "2  00092b1fd47eb05d000a3553ae072056       PEO_SILVER      6.8\n",
       "3  00094326efae1d73371d118204e12e46       PEO_SILVER      4.0\n",
       "4  000f325a72b9d24742237070939b57d1       PEO_SILVER      6.4"
      ]
     },
     "execution_count": 86,
     "metadata": {},
     "output_type": "execute_result"
    }
   ],
   "source": [
    "rating_df.head()"
   ]
  },
  {
   "cell_type": "code",
   "execution_count": 87,
   "metadata": {},
   "outputs": [
    {
     "name": "stdout",
     "output_type": "stream",
     "text": [
      "<class 'pandas.core.frame.DataFrame'>\n",
      "RangeIndex: 35975 entries, 0 to 35974\n",
      "Data columns (total 3 columns):\n",
      " #   Column            Non-Null Count  Dtype  \n",
      "---  ------            --------------  -----  \n",
      " 0   ACCOUNT_NUM.hash  35975 non-null  object \n",
      " 1   package           35975 non-null  object \n",
      " 2   ratings           35975 non-null  float64\n",
      "dtypes: float64(1), object(2)\n",
      "memory usage: 843.3+ KB\n"
     ]
    }
   ],
   "source": [
    "rating_df.info()"
   ]
  },
  {
   "cell_type": "code",
   "execution_count": 88,
   "metadata": {},
   "outputs": [],
   "source": [
    "rating_df.to_csv(\"data/azure/peoTV_user_ratings.csv\")"
   ]
  },
  {
   "cell_type": "markdown",
   "metadata": {},
   "source": [
    "## User content"
   ]
  },
  {
   "cell_type": "code",
   "execution_count": 14,
   "metadata": {},
   "outputs": [],
   "source": [
    "pd.set_option(\"display.max_rows\", None, \"display.max_columns\", None)"
   ]
  },
  {
   "cell_type": "code",
   "execution_count": 15,
   "metadata": {},
   "outputs": [],
   "source": [
    "user_profile = user_profile[(user_profile[\"Peo_TV_Package\"] != \"NO_INFO\")]\n",
    "user_profile.reset_index(drop=True, inplace=True)"
   ]
  },
  {
   "cell_type": "code",
   "execution_count": 16,
   "metadata": {},
   "outputs": [
    {
     "data": {
      "text/plain": [
       "(19095, 113)"
      ]
     },
     "execution_count": 16,
     "metadata": {},
     "output_type": "execute_result"
    }
   ],
   "source": [
    "user_profile.shape"
   ]
  },
  {
   "cell_type": "markdown",
   "metadata": {},
   "source": [
    "## TODO : Feature selection #####"
   ]
  },
  {
   "cell_type": "code",
   "execution_count": null,
   "metadata": {},
   "outputs": [],
   "source": []
  },
  {
   "cell_type": "code",
   "execution_count": 17,
   "metadata": {},
   "outputs": [],
   "source": [
    "user_profile.drop([\"Peo_TV_Package\",\"PEO_TV_Categorical\",\"PEO_TV_Scaled\",\"BIRTH_YEAR\",\"Megaline_Month_Subscribed\",\"LTE_Month_Subscribed\",\"VAS_Month_Subscribed\"], axis=1, inplace= True)"
   ]
  },
  {
   "cell_type": "code",
   "execution_count": 18,
   "metadata": {},
   "outputs": [],
   "source": [
    "user_profile.to_csv(\"data/azure/peoTV_user_content.csv\")"
   ]
  },
  {
   "cell_type": "markdown",
   "metadata": {},
   "source": [
    "## Product (package) content"
   ]
  },
  {
   "cell_type": "code",
   "execution_count": 19,
   "metadata": {},
   "outputs": [],
   "source": [
    "product_profile = pd.read_csv(\"data/product_catalog/Product_Profile_Finalised_CSV.csv\")"
   ]
  },
  {
   "cell_type": "code",
   "execution_count": 20,
   "metadata": {},
   "outputs": [
    {
     "name": "stdout",
     "output_type": "stream",
     "text": [
      "<class 'pandas.core.frame.DataFrame'>\n",
      "RangeIndex: 275 entries, 0 to 274\n",
      "Data columns (total 24 columns):\n",
      " #   Column                       Non-Null Count  Dtype  \n",
      "---  ------                       --------------  -----  \n",
      " 0   Product_DB_ID                248 non-null    object \n",
      " 1   Base_Type                    253 non-null    object \n",
      " 2   Pricing_Type                 146 non-null    object \n",
      " 3   Package_Type                 146 non-null    object \n",
      " 4   Title                        145 non-null    object \n",
      " 5   Description                  59 non-null     object \n",
      " 6   Price                        145 non-null    object \n",
      " 7   Monthly_Rental               149 non-null    float64\n",
      " 8   PEOTV_No_of_Channels         16 non-null     float64\n",
      " 9   PEOTV_Foreign_Channels       16 non-null     float64\n",
      " 10  PEOTV_Local_Channels         16 non-null     float64\n",
      " 11  PEOTV_Movie_Channels         16 non-null     float64\n",
      " 12  PEOTV_Kids_Channels          16 non-null     float64\n",
      " 13  PEOTV_Religious_Channels     16 non-null     float64\n",
      " 14  PEOTV_Tamil_Channels         16 non-null     float64\n",
      " 15  PEOTV_Educational_Channels   16 non-null     float64\n",
      " 16  PEOTV_Music_Channels         16 non-null     float64\n",
      " 17  PEOTV_Sports_Channels        16 non-null     float64\n",
      " 18  PEOTV_News_Channels          16 non-null     float64\n",
      " 19  PEOTV_HD_Pack                33 non-null     object \n",
      " 20  Minimum_Subscription_Period  6 non-null      float64\n",
      " 21  Recidence_Type               145 non-null    object \n",
      " 22  Tax_Status                   142 non-null    object \n",
      " 23  Conditions                   142 non-null    object \n",
      "dtypes: float64(13), object(11)\n",
      "memory usage: 51.7+ KB\n"
     ]
    }
   ],
   "source": [
    "product_df=product_profile.iloc[:,[0,2,3,4,6,7,15,16,24,25,26,27,28,29,30,31,32,33,34,35,37,38,39,40]]\n",
    "product_df.info()"
   ]
  },
  {
   "cell_type": "code",
   "execution_count": 21,
   "metadata": {},
   "outputs": [],
   "source": [
    "temp_package_df=rating_df[\"package\"]"
   ]
  },
  {
   "cell_type": "code",
   "execution_count": 22,
   "metadata": {},
   "outputs": [],
   "source": [
    "peo_tv_products_df = product_df.merge(temp_package_df.drop_duplicates(), left_on=['Product_DB_ID'], right_on=['package'] ,\n",
    "                   how='left', indicator=True)"
   ]
  },
  {
   "cell_type": "code",
   "execution_count": 23,
   "metadata": {},
   "outputs": [],
   "source": [
    "product_df = peo_tv_products_df[(peo_tv_products_df[\"_merge\"]==\"both\")]"
   ]
  },
  {
   "cell_type": "code",
   "execution_count": 24,
   "metadata": {},
   "outputs": [
    {
     "name": "stderr",
     "output_type": "stream",
     "text": [
      "/Users/chiranhewawitharana/mambaforge/envs/mactf/lib/python3.8/site-packages/pandas/core/frame.py:4906: SettingWithCopyWarning: \n",
      "A value is trying to be set on a copy of a slice from a DataFrame\n",
      "\n",
      "See the caveats in the documentation: https://pandas.pydata.org/pandas-docs/stable/user_guide/indexing.html#returning-a-view-versus-a-copy\n",
      "  return super().drop(\n",
      "/Users/chiranhewawitharana/mambaforge/envs/mactf/lib/python3.8/site-packages/pandas/core/frame.py:5039: SettingWithCopyWarning: \n",
      "A value is trying to be set on a copy of a slice from a DataFrame\n",
      "\n",
      "See the caveats in the documentation: https://pandas.pydata.org/pandas-docs/stable/user_guide/indexing.html#returning-a-view-versus-a-copy\n",
      "  return super().rename(\n"
     ]
    }
   ],
   "source": [
    "product_df.drop([\"package\",\"_merge\"],axis=1,inplace=True)\n",
    "product_df.rename(columns={'Product_ID':'package'},inplace=True)\n",
    "product_df.reset_index(drop=True, inplace=True)"
   ]
  },
  {
   "cell_type": "code",
   "execution_count": 25,
   "metadata": {},
   "outputs": [],
   "source": [
    "cols =[\"PEOTV_Foreign_Channels\",\"PEOTV_Local_Channels\",\"PEOTV_Movie_Channels\",\"PEOTV_Kids_Channels\",\"PEOTV_Religious_Channels\",\"PEOTV_Tamil_Channels\",\"PEOTV_Educational_Channels\",\"PEOTV_Music_Channels\",\"PEOTV_Sports_Channels\",\"PEOTV_News_Channels\"]"
   ]
  },
  {
   "cell_type": "code",
   "execution_count": 26,
   "metadata": {},
   "outputs": [
    {
     "name": "stderr",
     "output_type": "stream",
     "text": [
      "/Users/chiranhewawitharana/mambaforge/envs/mactf/lib/python3.8/site-packages/pandas/core/frame.py:3641: SettingWithCopyWarning: \n",
      "A value is trying to be set on a copy of a slice from a DataFrame.\n",
      "Try using .loc[row_indexer,col_indexer] = value instead\n",
      "\n",
      "See the caveats in the documentation: https://pandas.pydata.org/pandas-docs/stable/user_guide/indexing.html#returning-a-view-versus-a-copy\n",
      "  self[k1] = value[k2]\n"
     ]
    }
   ],
   "source": [
    "product_df[cols] = product_df[cols].fillna(0)"
   ]
  },
  {
   "cell_type": "code",
   "execution_count": 27,
   "metadata": {},
   "outputs": [],
   "source": [
    "product_df[[\"PEOTV_No_of_Channels\",\"Monthly_Rental\"]] = product_df[[\"PEOTV_No_of_Channels\",\"Monthly_Rental\"]].fillna(0)"
   ]
  },
  {
   "cell_type": "code",
   "execution_count": 28,
   "metadata": {},
   "outputs": [
    {
     "name": "stderr",
     "output_type": "stream",
     "text": [
      "/var/folders/00/gmvdw06n48lgtsz126ng5y2m0000gn/T/ipykernel_23978/2295505821.py:3: SettingWithCopyWarning: \n",
      "A value is trying to be set on a copy of a slice from a DataFrame.\n",
      "Try using .loc[row_indexer,col_indexer] = value instead\n",
      "\n",
      "See the caveats in the documentation: https://pandas.pydata.org/pandas-docs/stable/user_guide/indexing.html#returning-a-view-versus-a-copy\n",
      "  product_df[col] = scaler.fit_transform(product_df[col].values.reshape(-1,1))\n",
      "/var/folders/00/gmvdw06n48lgtsz126ng5y2m0000gn/T/ipykernel_23978/2295505821.py:3: SettingWithCopyWarning: \n",
      "A value is trying to be set on a copy of a slice from a DataFrame.\n",
      "Try using .loc[row_indexer,col_indexer] = value instead\n",
      "\n",
      "See the caveats in the documentation: https://pandas.pydata.org/pandas-docs/stable/user_guide/indexing.html#returning-a-view-versus-a-copy\n",
      "  product_df[col] = scaler.fit_transform(product_df[col].values.reshape(-1,1))\n",
      "/var/folders/00/gmvdw06n48lgtsz126ng5y2m0000gn/T/ipykernel_23978/2295505821.py:3: SettingWithCopyWarning: \n",
      "A value is trying to be set on a copy of a slice from a DataFrame.\n",
      "Try using .loc[row_indexer,col_indexer] = value instead\n",
      "\n",
      "See the caveats in the documentation: https://pandas.pydata.org/pandas-docs/stable/user_guide/indexing.html#returning-a-view-versus-a-copy\n",
      "  product_df[col] = scaler.fit_transform(product_df[col].values.reshape(-1,1))\n",
      "/var/folders/00/gmvdw06n48lgtsz126ng5y2m0000gn/T/ipykernel_23978/2295505821.py:3: SettingWithCopyWarning: \n",
      "A value is trying to be set on a copy of a slice from a DataFrame.\n",
      "Try using .loc[row_indexer,col_indexer] = value instead\n",
      "\n",
      "See the caveats in the documentation: https://pandas.pydata.org/pandas-docs/stable/user_guide/indexing.html#returning-a-view-versus-a-copy\n",
      "  product_df[col] = scaler.fit_transform(product_df[col].values.reshape(-1,1))\n",
      "/var/folders/00/gmvdw06n48lgtsz126ng5y2m0000gn/T/ipykernel_23978/2295505821.py:3: SettingWithCopyWarning: \n",
      "A value is trying to be set on a copy of a slice from a DataFrame.\n",
      "Try using .loc[row_indexer,col_indexer] = value instead\n",
      "\n",
      "See the caveats in the documentation: https://pandas.pydata.org/pandas-docs/stable/user_guide/indexing.html#returning-a-view-versus-a-copy\n",
      "  product_df[col] = scaler.fit_transform(product_df[col].values.reshape(-1,1))\n",
      "/var/folders/00/gmvdw06n48lgtsz126ng5y2m0000gn/T/ipykernel_23978/2295505821.py:3: SettingWithCopyWarning: \n",
      "A value is trying to be set on a copy of a slice from a DataFrame.\n",
      "Try using .loc[row_indexer,col_indexer] = value instead\n",
      "\n",
      "See the caveats in the documentation: https://pandas.pydata.org/pandas-docs/stable/user_guide/indexing.html#returning-a-view-versus-a-copy\n",
      "  product_df[col] = scaler.fit_transform(product_df[col].values.reshape(-1,1))\n",
      "/var/folders/00/gmvdw06n48lgtsz126ng5y2m0000gn/T/ipykernel_23978/2295505821.py:3: SettingWithCopyWarning: \n",
      "A value is trying to be set on a copy of a slice from a DataFrame.\n",
      "Try using .loc[row_indexer,col_indexer] = value instead\n",
      "\n",
      "See the caveats in the documentation: https://pandas.pydata.org/pandas-docs/stable/user_guide/indexing.html#returning-a-view-versus-a-copy\n",
      "  product_df[col] = scaler.fit_transform(product_df[col].values.reshape(-1,1))\n",
      "/var/folders/00/gmvdw06n48lgtsz126ng5y2m0000gn/T/ipykernel_23978/2295505821.py:3: SettingWithCopyWarning: \n",
      "A value is trying to be set on a copy of a slice from a DataFrame.\n",
      "Try using .loc[row_indexer,col_indexer] = value instead\n",
      "\n",
      "See the caveats in the documentation: https://pandas.pydata.org/pandas-docs/stable/user_guide/indexing.html#returning-a-view-versus-a-copy\n",
      "  product_df[col] = scaler.fit_transform(product_df[col].values.reshape(-1,1))\n",
      "/var/folders/00/gmvdw06n48lgtsz126ng5y2m0000gn/T/ipykernel_23978/2295505821.py:3: SettingWithCopyWarning: \n",
      "A value is trying to be set on a copy of a slice from a DataFrame.\n",
      "Try using .loc[row_indexer,col_indexer] = value instead\n",
      "\n",
      "See the caveats in the documentation: https://pandas.pydata.org/pandas-docs/stable/user_guide/indexing.html#returning-a-view-versus-a-copy\n",
      "  product_df[col] = scaler.fit_transform(product_df[col].values.reshape(-1,1))\n",
      "/var/folders/00/gmvdw06n48lgtsz126ng5y2m0000gn/T/ipykernel_23978/2295505821.py:3: SettingWithCopyWarning: \n",
      "A value is trying to be set on a copy of a slice from a DataFrame.\n",
      "Try using .loc[row_indexer,col_indexer] = value instead\n",
      "\n",
      "See the caveats in the documentation: https://pandas.pydata.org/pandas-docs/stable/user_guide/indexing.html#returning-a-view-versus-a-copy\n",
      "  product_df[col] = scaler.fit_transform(product_df[col].values.reshape(-1,1))\n"
     ]
    }
   ],
   "source": [
    "scaler = MinMaxScaler()\n",
    "for col in cols:\n",
    "    product_df[col] = scaler.fit_transform(product_df[col].values.reshape(-1,1))"
   ]
  },
  {
   "cell_type": "code",
   "execution_count": 29,
   "metadata": {},
   "outputs": [
    {
     "name": "stderr",
     "output_type": "stream",
     "text": [
      "/Users/chiranhewawitharana/mambaforge/envs/mactf/lib/python3.8/site-packages/pandas/core/frame.py:5039: SettingWithCopyWarning: \n",
      "A value is trying to be set on a copy of a slice from a DataFrame\n",
      "\n",
      "See the caveats in the documentation: https://pandas.pydata.org/pandas-docs/stable/user_guide/indexing.html#returning-a-view-versus-a-copy\n",
      "  return super().rename(\n"
     ]
    }
   ],
   "source": [
    "product_df.rename(columns={\"Product_DB_ID\":\"package\"},inplace=True)"
   ]
  },
  {
   "cell_type": "code",
   "execution_count": 30,
   "metadata": {},
   "outputs": [
    {
     "name": "stdout",
     "output_type": "stream",
     "text": [
      "<class 'pandas.core.frame.DataFrame'>\n",
      "RangeIndex: 34 entries, 0 to 33\n",
      "Data columns (total 24 columns):\n",
      " #   Column                       Non-Null Count  Dtype  \n",
      "---  ------                       --------------  -----  \n",
      " 0   package                      34 non-null     object \n",
      " 1   Base_Type                    34 non-null     object \n",
      " 2   Pricing_Type                 34 non-null     object \n",
      " 3   Package_Type                 34 non-null     object \n",
      " 4   Title                        33 non-null     object \n",
      " 5   Description                  34 non-null     object \n",
      " 6   Price                        34 non-null     object \n",
      " 7   Monthly_Rental               34 non-null     float64\n",
      " 8   PEOTV_No_of_Channels         34 non-null     float64\n",
      " 9   PEOTV_Foreign_Channels       34 non-null     float64\n",
      " 10  PEOTV_Local_Channels         34 non-null     float64\n",
      " 11  PEOTV_Movie_Channels         34 non-null     float64\n",
      " 12  PEOTV_Kids_Channels          34 non-null     float64\n",
      " 13  PEOTV_Religious_Channels     34 non-null     float64\n",
      " 14  PEOTV_Tamil_Channels         34 non-null     float64\n",
      " 15  PEOTV_Educational_Channels   34 non-null     float64\n",
      " 16  PEOTV_Music_Channels         34 non-null     float64\n",
      " 17  PEOTV_Sports_Channels        34 non-null     float64\n",
      " 18  PEOTV_News_Channels          34 non-null     float64\n",
      " 19  PEOTV_HD_Pack                33 non-null     object \n",
      " 20  Minimum_Subscription_Period  0 non-null      float64\n",
      " 21  Recidence_Type               33 non-null     object \n",
      " 22  Tax_Status                   33 non-null     object \n",
      " 23  Conditions                   33 non-null     object \n",
      "dtypes: float64(13), object(11)\n",
      "memory usage: 6.5+ KB\n"
     ]
    }
   ],
   "source": [
    "product_df.info()"
   ]
  },
  {
   "cell_type": "code",
   "execution_count": 32,
   "metadata": {},
   "outputs": [],
   "source": [
    "product_df.to_csv(\"data/azure/peoTV_package_content.csv\")"
   ]
  },
  {
   "cell_type": "code",
   "execution_count": null,
   "metadata": {},
   "outputs": [],
   "source": []
  }
 ],
 "metadata": {
  "kernelspec": {
   "display_name": "Python 3 (ipykernel)",
   "language": "python",
   "name": "python3"
  },
  "language_info": {
   "codemirror_mode": {
    "name": "ipython",
    "version": 3
   },
   "file_extension": ".py",
   "mimetype": "text/x-python",
   "name": "python",
   "nbconvert_exporter": "python",
   "pygments_lexer": "ipython3",
   "version": "3.8.12"
  }
 },
 "nbformat": 4,
 "nbformat_minor": 4
}
