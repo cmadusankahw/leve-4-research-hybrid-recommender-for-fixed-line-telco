{
  "cells": [
    {
      "cell_type": "code",
      "source": [
        "import pandas as pd\n",
        "import numpy as np\n",
        "from matplotlib import pyplot as plt\n",
        "from sklearn.preprocessing import MinMaxScaler\n",
        "import seaborn as sns"
      ],
      "outputs": [],
      "execution_count": 1,
      "metadata": {
        "gather": {
          "logged": 1628307546272
        }
      }
    },
    {
      "cell_type": "code",
      "source": [
        "plt.style.use('ggplot')\n",
        "plt.style.use('seaborn-bright')"
      ],
      "outputs": [],
      "execution_count": 2,
      "metadata": {
        "gather": {
          "logged": 1628307549088
        }
      }
    },
    {
      "cell_type": "markdown",
      "source": [
        "### Demographics Inofmation"
      ],
      "metadata": {}
    },
    {
      "cell_type": "markdown",
      "source": [
        "## Product Details - Categories, Play types"
      ],
      "metadata": {}
    },
    {
      "cell_type": "code",
      "source": [
        "product_cat_df = pd.read_excel(\"data/new/Product_details_from_BSS.xls\")  "
      ],
      "outputs": [],
      "execution_count": 3,
      "metadata": {
        "gather": {
          "logged": 1628307552342
        }
      }
    },
    {
      "cell_type": "code",
      "source": [
        "product_cat_df.info()"
      ],
      "outputs": [
        {
          "output_type": "stream",
          "name": "stdout",
          "text": [
            "<class 'pandas.core.frame.DataFrame'>\n",
            "RangeIndex: 60708 entries, 0 to 60707\n",
            "Data columns (total 17 columns):\n",
            "PRODUCT_LABEL.hash    60708 non-null object\n",
            "CUSTOMER_REF.hash     60708 non-null object\n",
            "ACCOUNT_NUM.hash      60708 non-null object\n",
            "PRODUCT_SEQ           60708 non-null int64\n",
            "START_DAT             60707 non-null datetime64[ns]\n",
            "END_DAT               3292 non-null datetime64[ns]\n",
            "PRODUCT_ID.hash       60708 non-null object\n",
            "PRODUCT_NAME          60707 non-null object\n",
            "PRODUCT_STATUS        60707 non-null object\n",
            "MEDIUM                60684 non-null object\n",
            "CATEGORY              60273 non-null object\n",
            "CATEGORY_DETAILS      60273 non-null object\n",
            "TARIFF_ID.hash        60708 non-null object\n",
            "TARIFF_NAME           60707 non-null object\n",
            "TARIFF_DESC           60707 non-null object\n",
            "RECURRING_CHARGE      8386 non-null float64\n",
            "                      60708 non-null object\n",
            "dtypes: datetime64[ns](2), float64(1), int64(1), object(13)\n",
            "memory usage: 7.9+ MB\n"
          ]
        }
      ],
      "execution_count": 4,
      "metadata": {
        "gather": {
          "logged": 1628307555018
        }
      }
    },
    {
      "cell_type": "code",
      "source": [
        "product_cat_df[\"PRODUCT_NAME\"].value_counts()"
      ],
      "outputs": [
        {
          "output_type": "execute_result",
          "execution_count": 5,
          "data": {
            "text/plain": "V_SLT Voice Service            18847\nAB_Copper Access Bearer        17637\nBB_SLT BroadBand Service        5400\nBB_Extra GB                     5372\nBB_PeoTVGO                      4800\nBB_Personal Storage             4368\nE_SLT PeoTV Service             2385\nAB_WireLess Access              1076\nAB_Fiber Access Bearer           327\nV-Basic1_TeleLife                 99\nV-Plus1_TeleLife                  87\nBB_Detailed Reports               84\nV_E-channeling Registration       80\nV_Telehealth                      58\nV_Sisu Connect                    36\nV_E-channeling Subscription       30\nBB_SLT Film Hall Service           9\nOTT_SLT PeoTV Go                   4\nV-Plus4_TeleLife                   3\nBB_ Entertainment Unlimited        2\nV-Basic2_TeleLife                  2\nV-Basic4_TeleLife                  1\nName: PRODUCT_NAME, dtype: int64"
          },
          "metadata": {}
        }
      ],
      "execution_count": 5,
      "metadata": {
        "gather": {
          "logged": 1628307560123
        }
      }
    },
    {
      "cell_type": "code",
      "source": [
        "products_df = product_cat_df[[\"PRODUCT_ID.hash\",\"PRODUCT_NAME\",\"MEDIUM\",\"CATEGORY\",\"CATEGORY_DETAILS\",\"TARIFF_ID.hash\",\"TARIFF_NAME\",\"TARIFF_DESC\",\"RECURRING_CHARGE\"]]"
      ],
      "outputs": [],
      "execution_count": 6,
      "metadata": {
        "gather": {
          "logged": 1628307562372
        }
      }
    },
    {
      "cell_type": "code",
      "source": [
        "products_df.drop_duplicates([\"PRODUCT_ID.hash\"],inplace=True, keep=\"last\")"
      ],
      "outputs": [
        {
          "output_type": "stream",
          "name": "stderr",
          "text": [
            "/anaconda/envs/azureml_py36/lib/python3.6/site-packages/ipykernel_launcher.py:1: SettingWithCopyWarning: \n",
            "A value is trying to be set on a copy of a slice from a DataFrame\n",
            "\n",
            "See the caveats in the documentation: http://pandas.pydata.org/pandas-docs/stable/user_guide/indexing.html#returning-a-view-versus-a-copy\n",
            "  \"\"\"Entry point for launching an IPython kernel.\n"
          ]
        }
      ],
      "execution_count": 7,
      "metadata": {
        "gather": {
          "logged": 1628307564735
        }
      }
    },
    {
      "cell_type": "code",
      "source": [
        "products_df.rename(columns = {\"RECURRING_CHARGE\":\"Monthly_Rental\"},inplace=True)"
      ],
      "outputs": [
        {
          "output_type": "stream",
          "name": "stderr",
          "text": [
            "/anaconda/envs/azureml_py36/lib/python3.6/site-packages/pandas/core/frame.py:4238: SettingWithCopyWarning: \n",
            "A value is trying to be set on a copy of a slice from a DataFrame\n",
            "\n",
            "See the caveats in the documentation: http://pandas.pydata.org/pandas-docs/stable/user_guide/indexing.html#returning-a-view-versus-a-copy\n",
            "  return super().rename(**kwargs)\n"
          ]
        }
      ],
      "execution_count": 8,
      "metadata": {
        "gather": {
          "logged": 1628307571531
        }
      }
    },
    {
      "cell_type": "code",
      "source": [
        "products_df.reset_index(inplace=True)\n",
        "products_df.drop([\"index\"],axis=1,inplace=True)"
      ],
      "outputs": [
        {
          "output_type": "stream",
          "name": "stderr",
          "text": [
            "/anaconda/envs/azureml_py36/lib/python3.6/site-packages/pandas/core/frame.py:4117: SettingWithCopyWarning: \n",
            "A value is trying to be set on a copy of a slice from a DataFrame\n",
            "\n",
            "See the caveats in the documentation: http://pandas.pydata.org/pandas-docs/stable/user_guide/indexing.html#returning-a-view-versus-a-copy\n",
            "  errors=errors,\n"
          ]
        }
      ],
      "execution_count": 9,
      "metadata": {
        "gather": {
          "logged": 1628307573670
        }
      }
    },
    {
      "cell_type": "code",
      "source": [
        "products_df.info()"
      ],
      "outputs": [
        {
          "output_type": "stream",
          "name": "stdout",
          "text": [
            "<class 'pandas.core.frame.DataFrame'>\n",
            "RangeIndex: 23 entries, 0 to 22\n",
            "Data columns (total 9 columns):\n",
            "PRODUCT_ID.hash     23 non-null object\n",
            "PRODUCT_NAME        22 non-null object\n",
            "MEDIUM              19 non-null object\n",
            "CATEGORY            17 non-null object\n",
            "CATEGORY_DETAILS    17 non-null object\n",
            "TARIFF_ID.hash      23 non-null object\n",
            "TARIFF_NAME         22 non-null object\n",
            "TARIFF_DESC         22 non-null object\n",
            "Monthly_Rental      10 non-null float64\n",
            "dtypes: float64(1), object(8)\n",
            "memory usage: 1.7+ KB\n"
          ]
        }
      ],
      "execution_count": 10,
      "metadata": {
        "gather": {
          "logged": 1628307582516
        }
      }
    },
    {
      "cell_type": "code",
      "source": [
        "products_df[\"PRODUCT_NAME\"].unique()"
      ],
      "outputs": [
        {
          "output_type": "execute_result",
          "execution_count": 11,
          "data": {
            "text/plain": "array([nan, 'V-Plus4_TeleLife', 'V_E-channeling Subscription',\n       'V-Basic2_TeleLife', 'V-Basic4_TeleLife', 'V-Basic1_TeleLife',\n       'V_Sisu Connect', 'V_Telehealth', 'V-Plus1_TeleLife',\n       'V_E-channeling Registration', 'BB_ Entertainment Unlimited',\n       'OTT_SLT PeoTV Go', 'AB_WireLess Access',\n       'BB_SLT Film Hall Service', 'BB_Detailed Reports ',\n       'AB_Fiber Access Bearer', 'BB_PeoTVGO', 'BB_Extra GB',\n       'BB_SLT BroadBand Service', 'BB_Personal Storage',\n       'E_SLT PeoTV Service', 'V_SLT Voice Service',\n       'AB_Copper Access Bearer'], dtype=object)"
          },
          "metadata": {}
        }
      ],
      "execution_count": 11,
      "metadata": {
        "gather": {
          "logged": 1628307590660
        }
      }
    },
    {
      "cell_type": "code",
      "source": [
        "products_df.to_csv(\"data/product_catalog/Product_info_from_BSS.csv\")"
      ],
      "outputs": [],
      "execution_count": 12,
      "metadata": {
        "gather": {
          "logged": 1628307598254
        }
      }
    },
    {
      "cell_type": "code",
      "source": [],
      "outputs": [],
      "execution_count": null,
      "metadata": {}
    },
    {
      "cell_type": "markdown",
      "source": [
        "## Phone No Account No Customer Reference Map"
      ],
      "metadata": {}
    },
    {
      "cell_type": "code",
      "source": [
        "acc_no_map = product_cat_df[[\"PRODUCT_LABEL.hash\",\"ACCOUNT_NUM.hash\",\"CUSTOMER_REF.hash\"]]\n",
        "acc_no_map.drop_duplicates([\"PRODUCT_LABEL.hash\"],inplace=True)\n",
        "acc_no_map.rename(columns={'PRODUCT_LABEL.hash':'event_source.hash'}, inplace=True)\n",
        "acc_no_map.reset_index(inplace=True)\n",
        "acc_no_map.drop([\"index\"],axis=1,inplace=True)\n",
        "acc_no_map"
      ],
      "outputs": [
        {
          "output_type": "stream",
          "name": "stderr",
          "text": [
            "/anaconda/envs/azureml_py36/lib/python3.6/site-packages/ipykernel_launcher.py:2: SettingWithCopyWarning: \n",
            "A value is trying to be set on a copy of a slice from a DataFrame\n",
            "\n",
            "See the caveats in the documentation: http://pandas.pydata.org/pandas-docs/stable/user_guide/indexing.html#returning-a-view-versus-a-copy\n",
            "  \n"
          ]
        },
        {
          "output_type": "execute_result",
          "execution_count": 13,
          "data": {
            "text/plain": "                      event_source.hash                  ACCOUNT_NUM.hash  \\\n0      7b40c1d1c84c9a340004769491af7931  bd0cc5e96b24df6625fc68cbaf71b555   \n1      15799aa2e9dcf19b945e3dbe3146f7dc  4c7a4769273c7a2eb4860a09f6376a70   \n2      a74c72a07e26ac631688df66f691255c  4c7a4769273c7a2eb4860a09f6376a70   \n3      d67702262368f632f7014f1bd12d5444  4c7a4769273c7a2eb4860a09f6376a70   \n4      53098ea32fbe12338600872be6e06fb0  4c7a4769273c7a2eb4860a09f6376a70   \n...                                 ...                               ...   \n27550  28938db617a935e0f092ae16667c9f37  06623c7ba64331f615ff83c5664b71bb   \n27551  d7515b0ed8141e075023da5947b714bf  06623c7ba64331f615ff83c5664b71bb   \n27552  919ba5f18ce708afcd4f545150021b0e  bd0cc5e96b24df6625fc68cbaf71b555   \n27553  7ae240b62cca05b9ab0af678122e7e5c  8d8472d39b270801553f2d5e7c06fe22   \n27554  d41d8cd98f00b204e9800998ecf8427e  949e14e85d36002ffb954d42d3366936   \n\n                      CUSTOMER_REF.hash  \n0      df4bc5da4eaaaab1d937c3fd2a699c3f  \n1      b30293458c6565bc283bac15b92aa38d  \n2      b30293458c6565bc283bac15b92aa38d  \n3      b30293458c6565bc283bac15b92aa38d  \n4      b30293458c6565bc283bac15b92aa38d  \n...                                 ...  \n27550  ac995f79a7164b89de084396352b343b  \n27551  ac995f79a7164b89de084396352b343b  \n27552  df4bc5da4eaaaab1d937c3fd2a699c3f  \n27553  f8743da5d0bff84f9440fb44fce1bdc1  \n27554  51ee71e46ba64034adaf383345028fb8  \n\n[27555 rows x 3 columns]",
            "text/html": "<div>\n<style scoped>\n    .dataframe tbody tr th:only-of-type {\n        vertical-align: middle;\n    }\n\n    .dataframe tbody tr th {\n        vertical-align: top;\n    }\n\n    .dataframe thead th {\n        text-align: right;\n    }\n</style>\n<table border=\"1\" class=\"dataframe\">\n  <thead>\n    <tr style=\"text-align: right;\">\n      <th></th>\n      <th>event_source.hash</th>\n      <th>ACCOUNT_NUM.hash</th>\n      <th>CUSTOMER_REF.hash</th>\n    </tr>\n  </thead>\n  <tbody>\n    <tr>\n      <th>0</th>\n      <td>7b40c1d1c84c9a340004769491af7931</td>\n      <td>bd0cc5e96b24df6625fc68cbaf71b555</td>\n      <td>df4bc5da4eaaaab1d937c3fd2a699c3f</td>\n    </tr>\n    <tr>\n      <th>1</th>\n      <td>15799aa2e9dcf19b945e3dbe3146f7dc</td>\n      <td>4c7a4769273c7a2eb4860a09f6376a70</td>\n      <td>b30293458c6565bc283bac15b92aa38d</td>\n    </tr>\n    <tr>\n      <th>2</th>\n      <td>a74c72a07e26ac631688df66f691255c</td>\n      <td>4c7a4769273c7a2eb4860a09f6376a70</td>\n      <td>b30293458c6565bc283bac15b92aa38d</td>\n    </tr>\n    <tr>\n      <th>3</th>\n      <td>d67702262368f632f7014f1bd12d5444</td>\n      <td>4c7a4769273c7a2eb4860a09f6376a70</td>\n      <td>b30293458c6565bc283bac15b92aa38d</td>\n    </tr>\n    <tr>\n      <th>4</th>\n      <td>53098ea32fbe12338600872be6e06fb0</td>\n      <td>4c7a4769273c7a2eb4860a09f6376a70</td>\n      <td>b30293458c6565bc283bac15b92aa38d</td>\n    </tr>\n    <tr>\n      <th>...</th>\n      <td>...</td>\n      <td>...</td>\n      <td>...</td>\n    </tr>\n    <tr>\n      <th>27550</th>\n      <td>28938db617a935e0f092ae16667c9f37</td>\n      <td>06623c7ba64331f615ff83c5664b71bb</td>\n      <td>ac995f79a7164b89de084396352b343b</td>\n    </tr>\n    <tr>\n      <th>27551</th>\n      <td>d7515b0ed8141e075023da5947b714bf</td>\n      <td>06623c7ba64331f615ff83c5664b71bb</td>\n      <td>ac995f79a7164b89de084396352b343b</td>\n    </tr>\n    <tr>\n      <th>27552</th>\n      <td>919ba5f18ce708afcd4f545150021b0e</td>\n      <td>bd0cc5e96b24df6625fc68cbaf71b555</td>\n      <td>df4bc5da4eaaaab1d937c3fd2a699c3f</td>\n    </tr>\n    <tr>\n      <th>27553</th>\n      <td>7ae240b62cca05b9ab0af678122e7e5c</td>\n      <td>8d8472d39b270801553f2d5e7c06fe22</td>\n      <td>f8743da5d0bff84f9440fb44fce1bdc1</td>\n    </tr>\n    <tr>\n      <th>27554</th>\n      <td>d41d8cd98f00b204e9800998ecf8427e</td>\n      <td>949e14e85d36002ffb954d42d3366936</td>\n      <td>51ee71e46ba64034adaf383345028fb8</td>\n    </tr>\n  </tbody>\n</table>\n<p>27555 rows × 3 columns</p>\n</div>"
          },
          "metadata": {}
        }
      ],
      "execution_count": 13,
      "metadata": {
        "gather": {
          "logged": 1628307608437
        }
      }
    },
    {
      "cell_type": "code",
      "source": [
        "acc_no_map_agg = acc_no_map.groupby(\"ACCOUNT_NUM.hash\").agg(list)"
      ],
      "outputs": [],
      "execution_count": 22,
      "metadata": {
        "collapsed": true,
        "jupyter": {
          "source_hidden": false,
          "outputs_hidden": false
        },
        "nteract": {
          "transient": {
            "deleting": false
          }
        },
        "gather": {
          "logged": 1628307822826
        }
      }
    },
    {
      "cell_type": "code",
      "source": [
        "acc_no_map.info()"
      ],
      "outputs": [
        {
          "output_type": "stream",
          "name": "stdout",
          "text": [
            "<class 'pandas.core.frame.DataFrame'>\n",
            "RangeIndex: 27555 entries, 0 to 27554\n",
            "Data columns (total 3 columns):\n",
            "event_source.hash    27555 non-null object\n",
            "ACCOUNT_NUM.hash     27555 non-null object\n",
            "CUSTOMER_REF.hash    27555 non-null object\n",
            "dtypes: object(3)\n",
            "memory usage: 645.9+ KB\n"
          ]
        }
      ],
      "execution_count": 21,
      "metadata": {
        "collapsed": true,
        "jupyter": {
          "source_hidden": false,
          "outputs_hidden": false
        },
        "nteract": {
          "transient": {
            "deleting": false
          }
        },
        "gather": {
          "logged": 1628307794855
        }
      }
    },
    {
      "cell_type": "code",
      "source": [
        "acc_no_map_agg.reset_index(inplace=True)"
      ],
      "outputs": [],
      "execution_count": 26,
      "metadata": {
        "collapsed": true,
        "jupyter": {
          "source_hidden": false,
          "outputs_hidden": false
        },
        "nteract": {
          "transient": {
            "deleting": false
          }
        },
        "gather": {
          "logged": 1628307920725
        }
      }
    },
    {
      "cell_type": "code",
      "source": [
        "len(acc_no_map[\"ACCOUNT_NUM.hash\"].unique())"
      ],
      "outputs": [
        {
          "output_type": "execute_result",
          "execution_count": 17,
          "data": {
            "text/plain": "3218"
          },
          "metadata": {}
        }
      ],
      "execution_count": 17,
      "metadata": {
        "gather": {
          "logged": 1628307657859
        }
      }
    },
    {
      "cell_type": "code",
      "source": [
        "acc_no_map.to_csv(\"data/user_profile/account_no_map_all.csv\")"
      ],
      "outputs": [],
      "execution_count": 28,
      "metadata": {
        "collapsed": true,
        "jupyter": {
          "source_hidden": false,
          "outputs_hidden": false
        },
        "nteract": {
          "transient": {
            "deleting": false
          }
        },
        "gather": {
          "logged": 1628307981097
        }
      }
    },
    {
      "cell_type": "code",
      "source": [
        "acc_no_map_agg.to_csv(\"data/user_profile/account_no_map_agg.csv\")"
      ],
      "outputs": [],
      "execution_count": 27,
      "metadata": {
        "gather": {
          "logged": 1628307944338
        }
      }
    },
    {
      "cell_type": "markdown",
      "source": [
        "## Adding Phone Number col to Customer Demographics "
      ],
      "metadata": {}
    },
    {
      "cell_type": "code",
      "source": [
        "demo_df = pd.read_excel(\"data/new/Demographic_Data.xls\")  "
      ],
      "outputs": [],
      "execution_count": 29,
      "metadata": {
        "gather": {
          "logged": 1628307999115
        }
      }
    },
    {
      "cell_type": "code",
      "source": [
        "demo_df.info()"
      ],
      "outputs": [
        {
          "output_type": "stream",
          "name": "stdout",
          "text": [
            "<class 'pandas.core.frame.DataFrame'>\n",
            "RangeIndex: 2400 entries, 0 to 2399\n",
            "Data columns (total 5 columns):\n",
            "CUSTOMER_REF.hash    2400 non-null object\n",
            "GENDER               2400 non-null object\n",
            "BIRTH_YEAR           2400 non-null int64\n",
            "AGE                  2400 non-null int64\n",
            "                     2400 non-null object\n",
            "dtypes: int64(2), object(3)\n",
            "memory usage: 93.9+ KB\n"
          ]
        }
      ],
      "execution_count": 30,
      "metadata": {
        "collapsed": true,
        "jupyter": {
          "source_hidden": false,
          "outputs_hidden": false
        },
        "nteract": {
          "transient": {
            "deleting": false
          }
        },
        "gather": {
          "logged": 1628308002861
        }
      }
    },
    {
      "cell_type": "code",
      "source": [
        "merged_demo = demo_df.merge(acc_no_map,how='left', on='CUSTOMER_REF.hash')\n",
        "merged_demo.reset_index(inplace=True)\n",
        "merged_demo.drop([\"index\"],axis=1, inplace=True)\n",
        "merged_demo"
      ],
      "outputs": [
        {
          "output_type": "execute_result",
          "execution_count": 31,
          "data": {
            "text/plain": "                     CUSTOMER_REF.hash GENDER  BIRTH_YEAR  AGE     \\\n0     a043dbaaa0025b1f8cc08824dc994a0d      M        1967   54      \n1     a043dbaaa0025b1f8cc08824dc994a0d      M        1967   54      \n2     2e5e5c967af4b7b4c0cf0b9185d5ad7e      M        1964   57      \n3     2e5e5c967af4b7b4c0cf0b9185d5ad7e      M        1964   57      \n4     3269bc892961919e511bdbe178fa0ac6      M        1966   55      \n...                                ...    ...         ...  ... ..   \n4114  205b0fead79db9bf08a98002d2727ef5      M        1967   54      \n4115  cd035ec55e44eea43d998addc7bcc434      M        1948   73      \n4116  f5fbbc6264cd75823c8f8cb0830cba45      F        1949   72      \n4117  f5fbbc6264cd75823c8f8cb0830cba45      F        1949   72      \n4118  aae7281b2e92e745e717bbc77a176769      M        1953   68      \n\n                     event_source.hash                  ACCOUNT_NUM.hash  \n0     a84f463df0fb45ec8d42ca92ab237156  a9c24ac1c87f8677a4dbe304c88054aa  \n1     174913a52c17beb0dad243cec5940c30  a9c24ac1c87f8677a4dbe304c88054aa  \n2     0bd313cd37f37a651cc0bda8feadc630  ee3713acf4da68cda726f61d3f1026f7  \n3     5b6deac8be1e07aabeb41a4158a08e71  ee3713acf4da68cda726f61d3f1026f7  \n4     de4a1fdf1880db54d5176095a99ed2ab  6876df747de66cfb33ecd010dfcd68c7  \n...                                ...                               ...  \n4114  8187113efb884778725f953c751ae4f1  87cd775edc9cfc4f401e6ff39f239833  \n4115  90feabe2f2846cbf4eb77db650c48a1b  9c926ad1c6705e1f46462dc5b59d8feb  \n4116  7e2f7cef44ccac863691ec25019df475  ffaaa3f5d45ce8c8553efbcfa7e6ce00  \n4117  2324aebced3f63304a107e6e13c39f78  ffaaa3f5d45ce8c8553efbcfa7e6ce00  \n4118                               NaN                               NaN  \n\n[4119 rows x 7 columns]",
            "text/html": "<div>\n<style scoped>\n    .dataframe tbody tr th:only-of-type {\n        vertical-align: middle;\n    }\n\n    .dataframe tbody tr th {\n        vertical-align: top;\n    }\n\n    .dataframe thead th {\n        text-align: right;\n    }\n</style>\n<table border=\"1\" class=\"dataframe\">\n  <thead>\n    <tr style=\"text-align: right;\">\n      <th></th>\n      <th>CUSTOMER_REF.hash</th>\n      <th>GENDER</th>\n      <th>BIRTH_YEAR</th>\n      <th>AGE</th>\n      <th></th>\n      <th>event_source.hash</th>\n      <th>ACCOUNT_NUM.hash</th>\n    </tr>\n  </thead>\n  <tbody>\n    <tr>\n      <th>0</th>\n      <td>a043dbaaa0025b1f8cc08824dc994a0d</td>\n      <td>M</td>\n      <td>1967</td>\n      <td>54</td>\n      <td></td>\n      <td>a84f463df0fb45ec8d42ca92ab237156</td>\n      <td>a9c24ac1c87f8677a4dbe304c88054aa</td>\n    </tr>\n    <tr>\n      <th>1</th>\n      <td>a043dbaaa0025b1f8cc08824dc994a0d</td>\n      <td>M</td>\n      <td>1967</td>\n      <td>54</td>\n      <td></td>\n      <td>174913a52c17beb0dad243cec5940c30</td>\n      <td>a9c24ac1c87f8677a4dbe304c88054aa</td>\n    </tr>\n    <tr>\n      <th>2</th>\n      <td>2e5e5c967af4b7b4c0cf0b9185d5ad7e</td>\n      <td>M</td>\n      <td>1964</td>\n      <td>57</td>\n      <td></td>\n      <td>0bd313cd37f37a651cc0bda8feadc630</td>\n      <td>ee3713acf4da68cda726f61d3f1026f7</td>\n    </tr>\n    <tr>\n      <th>3</th>\n      <td>2e5e5c967af4b7b4c0cf0b9185d5ad7e</td>\n      <td>M</td>\n      <td>1964</td>\n      <td>57</td>\n      <td></td>\n      <td>5b6deac8be1e07aabeb41a4158a08e71</td>\n      <td>ee3713acf4da68cda726f61d3f1026f7</td>\n    </tr>\n    <tr>\n      <th>4</th>\n      <td>3269bc892961919e511bdbe178fa0ac6</td>\n      <td>M</td>\n      <td>1966</td>\n      <td>55</td>\n      <td></td>\n      <td>de4a1fdf1880db54d5176095a99ed2ab</td>\n      <td>6876df747de66cfb33ecd010dfcd68c7</td>\n    </tr>\n    <tr>\n      <th>...</th>\n      <td>...</td>\n      <td>...</td>\n      <td>...</td>\n      <td>...</td>\n      <td>...</td>\n      <td>...</td>\n      <td>...</td>\n    </tr>\n    <tr>\n      <th>4114</th>\n      <td>205b0fead79db9bf08a98002d2727ef5</td>\n      <td>M</td>\n      <td>1967</td>\n      <td>54</td>\n      <td></td>\n      <td>8187113efb884778725f953c751ae4f1</td>\n      <td>87cd775edc9cfc4f401e6ff39f239833</td>\n    </tr>\n    <tr>\n      <th>4115</th>\n      <td>cd035ec55e44eea43d998addc7bcc434</td>\n      <td>M</td>\n      <td>1948</td>\n      <td>73</td>\n      <td></td>\n      <td>90feabe2f2846cbf4eb77db650c48a1b</td>\n      <td>9c926ad1c6705e1f46462dc5b59d8feb</td>\n    </tr>\n    <tr>\n      <th>4116</th>\n      <td>f5fbbc6264cd75823c8f8cb0830cba45</td>\n      <td>F</td>\n      <td>1949</td>\n      <td>72</td>\n      <td></td>\n      <td>7e2f7cef44ccac863691ec25019df475</td>\n      <td>ffaaa3f5d45ce8c8553efbcfa7e6ce00</td>\n    </tr>\n    <tr>\n      <th>4117</th>\n      <td>f5fbbc6264cd75823c8f8cb0830cba45</td>\n      <td>F</td>\n      <td>1949</td>\n      <td>72</td>\n      <td></td>\n      <td>2324aebced3f63304a107e6e13c39f78</td>\n      <td>ffaaa3f5d45ce8c8553efbcfa7e6ce00</td>\n    </tr>\n    <tr>\n      <th>4118</th>\n      <td>aae7281b2e92e745e717bbc77a176769</td>\n      <td>M</td>\n      <td>1953</td>\n      <td>68</td>\n      <td></td>\n      <td>NaN</td>\n      <td>NaN</td>\n    </tr>\n  </tbody>\n</table>\n<p>4119 rows × 7 columns</p>\n</div>"
          },
          "metadata": {}
        }
      ],
      "execution_count": 31,
      "metadata": {
        "gather": {
          "logged": 1628309161437
        }
      }
    },
    {
      "cell_type": "code",
      "source": [
        "merged_demo = merged_demo[[\"event_source.hash\",\"CUSTOMER_REF.hash\",\"ACCOUNT_NUM.hash\",\"GENDER\",\"BIRTH_YEAR\",\"AGE\"]]"
      ],
      "outputs": [],
      "execution_count": 32,
      "metadata": {
        "gather": {
          "logged": 1628309172044
        }
      }
    },
    {
      "cell_type": "code",
      "source": [
        "merged_demo.drop_duplicates(\"ACCOUNT_NUM.hash\",  inplace=True, keep=\"last\")"
      ],
      "outputs": [
        {
          "output_type": "stream",
          "name": "stderr",
          "text": [
            "/anaconda/envs/azureml_py36/lib/python3.6/site-packages/ipykernel_launcher.py:1: SettingWithCopyWarning: \n",
            "A value is trying to be set on a copy of a slice from a DataFrame\n",
            "\n",
            "See the caveats in the documentation: http://pandas.pydata.org/pandas-docs/stable/user_guide/indexing.html#returning-a-view-versus-a-copy\n",
            "  \"\"\"Entry point for launching an IPython kernel.\n"
          ]
        }
      ],
      "execution_count": 33,
      "metadata": {
        "collapsed": true,
        "jupyter": {
          "source_hidden": false,
          "outputs_hidden": false
        },
        "nteract": {
          "transient": {
            "deleting": false
          }
        },
        "gather": {
          "logged": 1628309176879
        }
      }
    },
    {
      "cell_type": "code",
      "source": [
        "merged_demo.info()"
      ],
      "outputs": [
        {
          "output_type": "stream",
          "name": "stdout",
          "text": [
            "<class 'pandas.core.frame.DataFrame'>\n",
            "Int64Index: 2439 entries, 1 to 4118\n",
            "Data columns (total 6 columns):\n",
            "event_source.hash    2438 non-null object\n",
            "CUSTOMER_REF.hash    2439 non-null object\n",
            "ACCOUNT_NUM.hash     2438 non-null object\n",
            "GENDER               2439 non-null object\n",
            "BIRTH_YEAR           2439 non-null int64\n",
            "AGE                  2439 non-null int64\n",
            "dtypes: int64(2), object(4)\n",
            "memory usage: 133.4+ KB\n"
          ]
        }
      ],
      "execution_count": 34,
      "metadata": {
        "gather": {
          "logged": 1628309184280
        }
      }
    },
    {
      "cell_type": "code",
      "source": [
        "merged_demo.to_csv(\"data/user_profile/user_demographics_final.csv\")"
      ],
      "outputs": [],
      "execution_count": 35,
      "metadata": {
        "gather": {
          "logged": 1628309212131
        }
      }
    },
    {
      "cell_type": "code",
      "source": [],
      "outputs": [],
      "execution_count": null,
      "metadata": {}
    },
    {
      "cell_type": "markdown",
      "source": [
        "## VAS Common Dataset Analysis"
      ],
      "metadata": {}
    },
    {
      "cell_type": "code",
      "source": [
        "vas_common_df = pd.read_excel(\"data/new/VAS_Products_Purchased Dates_Rental.xls\")\n",
        "vas_common_df.rename(columns={'PRODUCT_NAME':'VAS','BSS_DSP':'Month_Subscribed','RENTAL':'Rental'}, inplace=True)"
      ],
      "outputs": [],
      "execution_count": 46,
      "metadata": {
        "gather": {
          "logged": 1628309653337
        }
      }
    },
    {
      "cell_type": "code",
      "source": [
        "# Date correction\n",
        "def date_correct_common(date):\n",
        "    date=str(date)\n",
        "    year=date[:4]\n",
        "    month=date[5:7]\n",
        "    return f\"{year}-{month}\""
      ],
      "outputs": [],
      "execution_count": 47,
      "metadata": {
        "gather": {
          "logged": 1628309658331
        }
      }
    },
    {
      "cell_type": "code",
      "source": [
        "vas_common_df[\"Month_Subscribed\"]=vas_common_df[\"Month_Subscribed\"].apply(lambda x: date_correct_common(x))"
      ],
      "outputs": [],
      "execution_count": 48,
      "metadata": {
        "gather": {
          "logged": 1628309665744
        }
      }
    },
    {
      "cell_type": "code",
      "source": [
        "vas_common_df.info()"
      ],
      "outputs": [
        {
          "output_type": "stream",
          "name": "stdout",
          "text": [
            "<class 'pandas.core.frame.DataFrame'>\n",
            "RangeIndex: 31548 entries, 0 to 31547\n",
            "Data columns (total 5 columns):\n",
            "ACCOUNT_NUM.hash    31548 non-null object\n",
            "VAS                 31548 non-null object\n",
            "Rental              31548 non-null object\n",
            "Month_Subscribed    31548 non-null object\n",
            "                    31548 non-null object\n",
            "dtypes: object(5)\n",
            "memory usage: 1.2+ MB\n"
          ]
        }
      ],
      "execution_count": 50,
      "metadata": {
        "collapsed": true,
        "jupyter": {
          "source_hidden": false,
          "outputs_hidden": false
        },
        "nteract": {
          "transient": {
            "deleting": false
          }
        },
        "gather": {
          "logged": 1628309720641
        }
      }
    },
    {
      "cell_type": "code",
      "source": [
        "#vas_common_df = vas_common_df.merge(acc_no_map_agg,how='left',on=\"ACCOUNT_NUM.hash\")"
      ],
      "outputs": [],
      "execution_count": 40,
      "metadata": {
        "gather": {
          "logged": 1628309340719
        }
      }
    },
    {
      "cell_type": "code",
      "source": [
        "vas_common_df = vas_common_df[[\"ACCOUNT_NUM.hash\",\"VAS\",\"Month_Subscribed\",\"Rental\"]]\n",
        "vas_common_df"
      ],
      "outputs": [
        {
          "output_type": "execute_result",
          "execution_count": 51,
          "data": {
            "text/plain": "                       ACCOUNT_NUM.hash                               VAS  \\\n0      e112d7496d586689517a4e45b5f2fedf                      V_Telehealth   \n1      8211688ed551c3ae41cd251ec79a7590                      V_Telehealth   \n2      0febcc112d2da8fb15ae29af3e6b07e8                      V_Telehealth   \n3      646a136484b965c0b4a1b18dfbb2c663                      V_Telehealth   \n4      49e3fe21450d5993d23121d53942ab3b                      V_Telehealth   \n...                                 ...                               ...   \n31543  cf8dc52e654c98c2461291893eb27c06                      V_Telehealth   \n31544  720d67e1d56b076413efbd52553c5388                      V_Telehealth   \n31545  8e7a582787f663d030bd2dc31e46ee49      FTTH_Gamer Lite Subscription   \n31546  8e7a582787f663d030bd2dc31e46ee49      FTTH_Gamer Lite Subscription   \n31547  627d19cbc4517c839dcdb4bcedf9a42b  Megaline_Gamer Lite Subscription   \n\n      Month_Subscribed Rental  \n0              2019-10    100  \n1              2019-10    100  \n2              2020-02    100  \n3              2020-02    100  \n4              2020-02    100  \n...                ...    ...  \n31543          2020-08    100  \n31544          2020-08    165  \n31545          2021-04    500  \n31546          2021-04    500  \n31547          2021-05    500  \n\n[31548 rows x 4 columns]",
            "text/html": "<div>\n<style scoped>\n    .dataframe tbody tr th:only-of-type {\n        vertical-align: middle;\n    }\n\n    .dataframe tbody tr th {\n        vertical-align: top;\n    }\n\n    .dataframe thead th {\n        text-align: right;\n    }\n</style>\n<table border=\"1\" class=\"dataframe\">\n  <thead>\n    <tr style=\"text-align: right;\">\n      <th></th>\n      <th>ACCOUNT_NUM.hash</th>\n      <th>VAS</th>\n      <th>Month_Subscribed</th>\n      <th>Rental</th>\n    </tr>\n  </thead>\n  <tbody>\n    <tr>\n      <th>0</th>\n      <td>e112d7496d586689517a4e45b5f2fedf</td>\n      <td>V_Telehealth</td>\n      <td>2019-10</td>\n      <td>100</td>\n    </tr>\n    <tr>\n      <th>1</th>\n      <td>8211688ed551c3ae41cd251ec79a7590</td>\n      <td>V_Telehealth</td>\n      <td>2019-10</td>\n      <td>100</td>\n    </tr>\n    <tr>\n      <th>2</th>\n      <td>0febcc112d2da8fb15ae29af3e6b07e8</td>\n      <td>V_Telehealth</td>\n      <td>2020-02</td>\n      <td>100</td>\n    </tr>\n    <tr>\n      <th>3</th>\n      <td>646a136484b965c0b4a1b18dfbb2c663</td>\n      <td>V_Telehealth</td>\n      <td>2020-02</td>\n      <td>100</td>\n    </tr>\n    <tr>\n      <th>4</th>\n      <td>49e3fe21450d5993d23121d53942ab3b</td>\n      <td>V_Telehealth</td>\n      <td>2020-02</td>\n      <td>100</td>\n    </tr>\n    <tr>\n      <th>...</th>\n      <td>...</td>\n      <td>...</td>\n      <td>...</td>\n      <td>...</td>\n    </tr>\n    <tr>\n      <th>31543</th>\n      <td>cf8dc52e654c98c2461291893eb27c06</td>\n      <td>V_Telehealth</td>\n      <td>2020-08</td>\n      <td>100</td>\n    </tr>\n    <tr>\n      <th>31544</th>\n      <td>720d67e1d56b076413efbd52553c5388</td>\n      <td>V_Telehealth</td>\n      <td>2020-08</td>\n      <td>165</td>\n    </tr>\n    <tr>\n      <th>31545</th>\n      <td>8e7a582787f663d030bd2dc31e46ee49</td>\n      <td>FTTH_Gamer Lite Subscription</td>\n      <td>2021-04</td>\n      <td>500</td>\n    </tr>\n    <tr>\n      <th>31546</th>\n      <td>8e7a582787f663d030bd2dc31e46ee49</td>\n      <td>FTTH_Gamer Lite Subscription</td>\n      <td>2021-04</td>\n      <td>500</td>\n    </tr>\n    <tr>\n      <th>31547</th>\n      <td>627d19cbc4517c839dcdb4bcedf9a42b</td>\n      <td>Megaline_Gamer Lite Subscription</td>\n      <td>2021-05</td>\n      <td>500</td>\n    </tr>\n  </tbody>\n</table>\n<p>31548 rows × 4 columns</p>\n</div>"
          },
          "metadata": {}
        }
      ],
      "execution_count": 51,
      "metadata": {
        "gather": {
          "logged": 1628309741268
        }
      }
    },
    {
      "cell_type": "code",
      "source": [
        "vas_common_df[\"VAS\"].value_counts()"
      ],
      "outputs": [
        {
          "output_type": "execute_result",
          "execution_count": 52,
          "data": {
            "text/plain": "V_Telehealth                        30569\nP-Basic1_Tele Life                    266\nP-Plus1_Tele Life                     149\nV-Basic1_TeleLife                     135\nV-Plus1_TeleLife                      113\nP_Sisu Connect                        107\nV_Sisu Connect                         74\nBB_YouTube Bundle                      59\nBB_Messenger Bundle                    28\nBB_ Entertainment Unlimited            22\nP-Plus4_Tele Life                       5\nV-Plus4_TeleLife                        4\nC_Sisu Connect                          4\nP-Basic2_Tele Life                      3\nV-Basic2_TeleLife                       2\nC-Basic1_Tele Life                      2\nFTTH_Gamer Lite Subscription            2\nMegaline_Gamer Lite Subscription        1\nV-Basic4_TeleLife                       1\nP-Basic4_Tele Life                      1\n2462                                    1\nName: VAS, dtype: int64"
          },
          "metadata": {}
        }
      ],
      "execution_count": 52,
      "metadata": {
        "gather": {
          "logged": 1628309770692
        }
      }
    },
    {
      "cell_type": "markdown",
      "source": [
        "## VAS Analysis from Product BSS dataset"
      ],
      "metadata": {}
    },
    {
      "cell_type": "code",
      "source": [
        "product_cat_df[\"PRODUCT_NAME\"].unique()"
      ],
      "outputs": [
        {
          "output_type": "execute_result",
          "execution_count": 53,
          "data": {
            "text/plain": "array(['AB_Copper Access Bearer', 'V_SLT Voice Service',\n       'E_SLT PeoTV Service', 'V_E-channeling Registration',\n       'V_Sisu Connect', 'V-Basic1_TeleLife', 'V_Telehealth',\n       'V-Plus1_TeleLife', 'V_E-channeling Subscription', nan,\n       'V-Plus4_TeleLife', 'OTT_SLT PeoTV Go', 'V-Basic2_TeleLife',\n       'V-Basic4_TeleLife', 'BB_PeoTVGO', 'BB_Personal Storage',\n       'BB_SLT BroadBand Service', 'BB_Extra GB', 'BB_Detailed Reports ',\n       'BB_ Entertainment Unlimited', 'BB_SLT Film Hall Service',\n       'AB_Fiber Access Bearer', 'AB_WireLess Access'], dtype=object)"
          },
          "metadata": {}
        }
      ],
      "execution_count": 53,
      "metadata": {
        "gather": {
          "logged": 1628309780423
        }
      }
    },
    {
      "cell_type": "code",
      "source": [
        "dss_vas_df =  product_cat_df[[\"ACCOUNT_NUM.hash\",\"PRODUCT_NAME\",\"START_DAT\",\"RECURRING_CHARGE\"]]"
      ],
      "outputs": [],
      "execution_count": 157,
      "metadata": {
        "gather": {
          "logged": 1628313953298
        }
      }
    },
    {
      "cell_type": "code",
      "source": [
        "dss_vas_df.info()"
      ],
      "outputs": [
        {
          "output_type": "stream",
          "name": "stdout",
          "text": [
            "<class 'pandas.core.frame.DataFrame'>\n",
            "RangeIndex: 60708 entries, 0 to 60707\n",
            "Data columns (total 4 columns):\n",
            "ACCOUNT_NUM.hash    60708 non-null object\n",
            "PRODUCT_NAME        60707 non-null object\n",
            "START_DAT           60707 non-null datetime64[ns]\n",
            "RECURRING_CHARGE    8386 non-null float64\n",
            "dtypes: datetime64[ns](1), float64(1), object(2)\n",
            "memory usage: 1.9+ MB\n"
          ]
        }
      ],
      "execution_count": 158,
      "metadata": {
        "collapsed": true,
        "jupyter": {
          "source_hidden": false,
          "outputs_hidden": false
        },
        "nteract": {
          "transient": {
            "deleting": false
          }
        },
        "gather": {
          "logged": 1628313960265
        }
      }
    },
    {
      "cell_type": "code",
      "source": [
        "dss_vas_df.sort_values(['ACCOUNT_NUM.hash', 'START_DAT'], ascending=[True, True], inplace=True)"
      ],
      "outputs": [
        {
          "output_type": "stream",
          "name": "stderr",
          "text": [
            "/anaconda/envs/azureml_py36/lib/python3.6/site-packages/ipykernel_launcher.py:1: SettingWithCopyWarning: \n",
            "A value is trying to be set on a copy of a slice from a DataFrame\n",
            "\n",
            "See the caveats in the documentation: http://pandas.pydata.org/pandas-docs/stable/user_guide/indexing.html#returning-a-view-versus-a-copy\n",
            "  \"\"\"Entry point for launching an IPython kernel.\n"
          ]
        }
      ],
      "execution_count": 159,
      "metadata": {
        "gather": {
          "logged": 1628313976098
        }
      }
    },
    {
      "cell_type": "code",
      "source": [
        "dss_vas_df.rename(columns={'PRODUCT_NAME':'VAS','START_DAT':'Month_Subscribed',\"RECURRING_CHARGE\":\"Rental\"}, inplace=True)"
      ],
      "outputs": [],
      "execution_count": 160,
      "metadata": {
        "gather": {
          "logged": 1628313988616
        }
      }
    },
    {
      "cell_type": "markdown",
      "source": [
        "### Exporting Extra GB usage"
      ],
      "metadata": {}
    },
    {
      "cell_type": "code",
      "source": [
        "extra_GB_dss_df = dss_vas_df[(dss_vas_df[\"VAS\"]==\"BB_Extra GB\")]"
      ],
      "outputs": [],
      "execution_count": 161,
      "metadata": {
        "gather": {
          "logged": 1628313997109
        }
      }
    },
    {
      "cell_type": "code",
      "source": [
        "extra_GB_dss_df.info()"
      ],
      "outputs": [
        {
          "output_type": "stream",
          "name": "stdout",
          "text": [
            "<class 'pandas.core.frame.DataFrame'>\n",
            "Int64Index: 5372 entries, 57403 to 49321\n",
            "Data columns (total 4 columns):\n",
            "ACCOUNT_NUM.hash    5372 non-null object\n",
            "VAS                 5372 non-null object\n",
            "Month_Subscribed    5372 non-null datetime64[ns]\n",
            "Rental              0 non-null float64\n",
            "dtypes: datetime64[ns](1), float64(1), object(2)\n",
            "memory usage: 209.8+ KB\n"
          ]
        }
      ],
      "execution_count": 162,
      "metadata": {
        "gather": {
          "logged": 1628314001395
        }
      }
    },
    {
      "cell_type": "code",
      "source": [
        "extra_GB_dss_df[\"VAS\"].value_counts()"
      ],
      "outputs": [
        {
          "output_type": "execute_result",
          "execution_count": 163,
          "data": {
            "text/plain": "BB_Extra GB    5372\nName: VAS, dtype: int64"
          },
          "metadata": {}
        }
      ],
      "execution_count": 163,
      "metadata": {
        "gather": {
          "logged": 1628314012553
        }
      }
    },
    {
      "cell_type": "code",
      "source": [
        "extra_GB_dss_df.info()"
      ],
      "outputs": [
        {
          "output_type": "stream",
          "name": "stdout",
          "text": [
            "<class 'pandas.core.frame.DataFrame'>\n",
            "Int64Index: 5372 entries, 57403 to 49321\n",
            "Data columns (total 4 columns):\n",
            "ACCOUNT_NUM.hash    5372 non-null object\n",
            "VAS                 5372 non-null object\n",
            "Month_Subscribed    5372 non-null datetime64[ns]\n",
            "Rental              0 non-null float64\n",
            "dtypes: datetime64[ns](1), float64(1), object(2)\n",
            "memory usage: 209.8+ KB\n"
          ]
        }
      ],
      "execution_count": 164,
      "metadata": {
        "collapsed": true,
        "jupyter": {
          "source_hidden": false,
          "outputs_hidden": false
        },
        "nteract": {
          "transient": {
            "deleting": false
          }
        },
        "gather": {
          "logged": 1628314017394
        }
      }
    },
    {
      "cell_type": "code",
      "source": [
        "len(extra_GB_dss_df[\"ACCOUNT_NUM.hash\"].unique())"
      ],
      "outputs": [
        {
          "output_type": "execute_result",
          "execution_count": 165,
          "data": {
            "text/plain": "1469"
          },
          "metadata": {}
        }
      ],
      "execution_count": 165,
      "metadata": {
        "gather": {
          "logged": 1628314028517
        }
      }
    },
    {
      "cell_type": "code",
      "source": [
        "dss_vas_df = dss_vas_df[(dss_vas_df[\"VAS\"]!=\"BB_Extra GB\")]"
      ],
      "outputs": [],
      "execution_count": 166,
      "metadata": {
        "gather": {
          "logged": 1628314035014
        }
      }
    },
    {
      "cell_type": "code",
      "source": [
        "#dss_vas_df.drop_duplicates([\"event_source.hash\"],inplace=True,keep=\"last\")"
      ],
      "outputs": [],
      "execution_count": 42,
      "metadata": {}
    },
    {
      "cell_type": "code",
      "source": [
        "# Date correction\n",
        "def date_correct_dss(date):\n",
        "    if len(date)>7:\n",
        "        return date[:7]\n",
        "    else:\n",
        "        return date"
      ],
      "outputs": [],
      "execution_count": 167,
      "metadata": {
        "gather": {
          "logged": 1628314045748
        }
      }
    },
    {
      "cell_type": "code",
      "source": [
        "dss_vas_df[\"Month_Subscribed\"]=dss_vas_df[\"Month_Subscribed\"].apply(lambda x: date_correct_dss(str(x)))"
      ],
      "outputs": [],
      "execution_count": 168,
      "metadata": {
        "gather": {
          "logged": 1628314053426
        }
      }
    },
    {
      "cell_type": "code",
      "source": [
        "dss_vas_df[\"Month_Subscribed\"].unique()"
      ],
      "outputs": [
        {
          "output_type": "execute_result",
          "execution_count": 169,
          "data": {
            "text/plain": "array(['2020-07', '2018-08', '2018-12', '2020-03', '2019-10', '2018-11',\n       '2018-10', '2017-01', '2019-04', '2018-09', '2019-01', '2019-02',\n       '2019-03', '2019-05', '2019-06', '2019-11', '2019-12', '2020-01',\n       '2020-02', '2020-04', '2020-06', '2020-08', '2014-01', '2014-03',\n       '2015-02', '2015-07', '2015-11', '2016-02', '2016-08', '2016-10',\n       '2017-02', '2017-03', '2017-11', '2018-01', '2018-02', '2018-04',\n       '2019-07', '2019-08', '2019-09', '2020-05', '2021-03', '2018-05',\n       '2018-07', '2015-09', '2016-11', '2017-06', '2018-03', '2016-05',\n       '2016-09', '2017-04', '2017-09', '2017-12', '2018-06', '2020-09',\n       '2016-06', '2015-08', '2016-04', '2017-07', '2017-08', '2017-10',\n       '2021-02', '2014-02', '2015-10', '2016-12', '2016-01', '2017-05',\n       '2020-10', 'NaT', '2015-05', '2016-07', '2016-03'], dtype=object)"
          },
          "metadata": {}
        }
      ],
      "execution_count": 169,
      "metadata": {
        "gather": {
          "logged": 1628314060427
        }
      }
    },
    {
      "cell_type": "code",
      "source": [
        "dss_vas_df.info()"
      ],
      "outputs": [
        {
          "output_type": "stream",
          "name": "stdout",
          "text": [
            "<class 'pandas.core.frame.DataFrame'>\n",
            "Int64Index: 55336 entries, 26825 to 33575\n",
            "Data columns (total 4 columns):\n",
            "ACCOUNT_NUM.hash    55336 non-null object\n",
            "VAS                 55335 non-null object\n",
            "Month_Subscribed    55336 non-null object\n",
            "Rental              8386 non-null float64\n",
            "dtypes: float64(1), object(3)\n",
            "memory usage: 2.1+ MB\n"
          ]
        }
      ],
      "execution_count": 170,
      "metadata": {
        "gather": {
          "logged": 1628314065110
        }
      }
    },
    {
      "cell_type": "code",
      "source": [
        "dss_vas_df[\"VAS\"].value_counts()"
      ],
      "outputs": [
        {
          "output_type": "execute_result",
          "execution_count": 171,
          "data": {
            "text/plain": "V_SLT Voice Service            18847\nAB_Copper Access Bearer        17637\nBB_SLT BroadBand Service        5400\nBB_PeoTVGO                      4800\nBB_Personal Storage             4368\nE_SLT PeoTV Service             2385\nAB_WireLess Access              1076\nAB_Fiber Access Bearer           327\nV-Basic1_TeleLife                 99\nV-Plus1_TeleLife                  87\nBB_Detailed Reports               84\nV_E-channeling Registration       80\nV_Telehealth                      58\nV_Sisu Connect                    36\nV_E-channeling Subscription       30\nBB_SLT Film Hall Service           9\nOTT_SLT PeoTV Go                   4\nV-Plus4_TeleLife                   3\nV-Basic2_TeleLife                  2\nBB_ Entertainment Unlimited        2\nV-Basic4_TeleLife                  1\nName: VAS, dtype: int64"
          },
          "metadata": {}
        }
      ],
      "execution_count": 171,
      "metadata": {
        "gather": {
          "logged": 1628314070703
        }
      }
    },
    {
      "cell_type": "markdown",
      "source": [
        "## VAS OTC Dataset Analysis"
      ],
      "metadata": {}
    },
    {
      "cell_type": "code",
      "source": [
        "vas_otc_df = pd.read_excel(\"data/new/VAS_Products_Purchased Dates_OTC.xls\")  \n",
        "vas_otc_df.rename(columns={'CREATED_DTM':'Month_Subscribed','OTC_MNY':'One_Time_Charge','OTC_NAME':'VAS'}, inplace=True)"
      ],
      "outputs": [],
      "execution_count": 69,
      "metadata": {
        "gather": {
          "logged": 1628309983701
        }
      }
    },
    {
      "cell_type": "code",
      "source": [
        "vas_otc_df[\"Month_Subscribed\"]=vas_otc_df[\"Month_Subscribed\"].apply(lambda x: date_correct_common(x))"
      ],
      "outputs": [],
      "execution_count": 70,
      "metadata": {
        "gather": {
          "logged": 1628309989599
        }
      }
    },
    {
      "cell_type": "code",
      "source": [
        "vas_otc_df.info()"
      ],
      "outputs": [
        {
          "output_type": "stream",
          "name": "stdout",
          "text": [
            "<class 'pandas.core.frame.DataFrame'>\n",
            "RangeIndex: 1547 entries, 0 to 1546\n",
            "Data columns (total 5 columns):\n",
            "ACCOUNT_NUM.hash    1547 non-null object\n",
            "Month_Subscribed    1547 non-null object\n",
            "One_Time_Charge     1547 non-null int64\n",
            "VAS                 1547 non-null object\n",
            "                    1547 non-null object\n",
            "dtypes: int64(1), object(4)\n",
            "memory usage: 60.6+ KB\n"
          ]
        }
      ],
      "execution_count": 71,
      "metadata": {
        "collapsed": true,
        "jupyter": {
          "source_hidden": false,
          "outputs_hidden": false
        },
        "nteract": {
          "transient": {
            "deleting": false
          }
        },
        "gather": {
          "logged": 1628309997602
        }
      }
    },
    {
      "cell_type": "code",
      "source": [
        "#vas_otc_df = vas_otc_df.merge(acc_no_map,how='left',on=\"ACCOUNT_NUM.hash\")"
      ],
      "outputs": [],
      "execution_count": 61,
      "metadata": {
        "gather": {
          "logged": 1628276029168
        }
      }
    },
    {
      "cell_type": "code",
      "source": [
        "vas_otc_df = vas_otc_df[[\"ACCOUNT_NUM.hash\",\"VAS\",\"Month_Subscribed\",\"One_Time_Charge\"]]\n",
        "vas_otc_df"
      ],
      "outputs": [
        {
          "output_type": "execute_result",
          "execution_count": 72,
          "data": {
            "text/plain": "                      ACCOUNT_NUM.hash        VAS Month_Subscribed  \\\n0     7a4e5798abc9c9e314e4c6367da7e558  Meet Lite          2021-05   \n1     02059e815d999bda708149ae263946d3  Meet Lite          2021-06   \n2     83b2f83faba76ed481f026be3197caaa  Meet Lite          2021-06   \n3     a3434e3a611ba69b233514072ad2eb79  Meet Lite          2021-04   \n4     a3434e3a611ba69b233514072ad2eb79  Meet Lite          2021-05   \n...                                ...        ...              ...   \n1542  5ac9d5e02406067f6cc31d5436a5a8fb  Meet Lite          2021-04   \n1543  4f1ed566c9476815cfe56eab1c22ed05  Meet Lite          2021-06   \n1544  4cf83d8277f8c1cd95199a342092e808   Meet Max          2020-10   \n1545  4cf83d8277f8c1cd95199a342092e808   Meet Max          2020-12   \n1546  4cf83d8277f8c1cd95199a342092e808   Meet Max          2021-02   \n\n      One_Time_Charge  \n0                 195  \n1                 195  \n2                 195  \n3                 195  \n4                 195  \n...               ...  \n1542              195  \n1543              195  \n1544              490  \n1545              490  \n1546              490  \n\n[1547 rows x 4 columns]",
            "text/html": "<div>\n<style scoped>\n    .dataframe tbody tr th:only-of-type {\n        vertical-align: middle;\n    }\n\n    .dataframe tbody tr th {\n        vertical-align: top;\n    }\n\n    .dataframe thead th {\n        text-align: right;\n    }\n</style>\n<table border=\"1\" class=\"dataframe\">\n  <thead>\n    <tr style=\"text-align: right;\">\n      <th></th>\n      <th>ACCOUNT_NUM.hash</th>\n      <th>VAS</th>\n      <th>Month_Subscribed</th>\n      <th>One_Time_Charge</th>\n    </tr>\n  </thead>\n  <tbody>\n    <tr>\n      <th>0</th>\n      <td>7a4e5798abc9c9e314e4c6367da7e558</td>\n      <td>Meet Lite</td>\n      <td>2021-05</td>\n      <td>195</td>\n    </tr>\n    <tr>\n      <th>1</th>\n      <td>02059e815d999bda708149ae263946d3</td>\n      <td>Meet Lite</td>\n      <td>2021-06</td>\n      <td>195</td>\n    </tr>\n    <tr>\n      <th>2</th>\n      <td>83b2f83faba76ed481f026be3197caaa</td>\n      <td>Meet Lite</td>\n      <td>2021-06</td>\n      <td>195</td>\n    </tr>\n    <tr>\n      <th>3</th>\n      <td>a3434e3a611ba69b233514072ad2eb79</td>\n      <td>Meet Lite</td>\n      <td>2021-04</td>\n      <td>195</td>\n    </tr>\n    <tr>\n      <th>4</th>\n      <td>a3434e3a611ba69b233514072ad2eb79</td>\n      <td>Meet Lite</td>\n      <td>2021-05</td>\n      <td>195</td>\n    </tr>\n    <tr>\n      <th>...</th>\n      <td>...</td>\n      <td>...</td>\n      <td>...</td>\n      <td>...</td>\n    </tr>\n    <tr>\n      <th>1542</th>\n      <td>5ac9d5e02406067f6cc31d5436a5a8fb</td>\n      <td>Meet Lite</td>\n      <td>2021-04</td>\n      <td>195</td>\n    </tr>\n    <tr>\n      <th>1543</th>\n      <td>4f1ed566c9476815cfe56eab1c22ed05</td>\n      <td>Meet Lite</td>\n      <td>2021-06</td>\n      <td>195</td>\n    </tr>\n    <tr>\n      <th>1544</th>\n      <td>4cf83d8277f8c1cd95199a342092e808</td>\n      <td>Meet Max</td>\n      <td>2020-10</td>\n      <td>490</td>\n    </tr>\n    <tr>\n      <th>1545</th>\n      <td>4cf83d8277f8c1cd95199a342092e808</td>\n      <td>Meet Max</td>\n      <td>2020-12</td>\n      <td>490</td>\n    </tr>\n    <tr>\n      <th>1546</th>\n      <td>4cf83d8277f8c1cd95199a342092e808</td>\n      <td>Meet Max</td>\n      <td>2021-02</td>\n      <td>490</td>\n    </tr>\n  </tbody>\n</table>\n<p>1547 rows × 4 columns</p>\n</div>"
          },
          "metadata": {}
        }
      ],
      "execution_count": 72,
      "metadata": {
        "gather": {
          "logged": 1628310047364
        }
      }
    },
    {
      "cell_type": "code",
      "source": [
        "vas_otc_df[\"VAS\"].value_counts()"
      ],
      "outputs": [
        {
          "output_type": "execute_result",
          "execution_count": 73,
          "data": {
            "text/plain": "Meet Lite    1374\nMeet Max      164\nEdu Lite        9\nName: VAS, dtype: int64"
          },
          "metadata": {}
        }
      ],
      "execution_count": 73,
      "metadata": {
        "gather": {
          "logged": 1628310070440
        }
      }
    },
    {
      "cell_type": "markdown",
      "source": [
        "## BB VAS Dataset Analysis"
      ],
      "metadata": {}
    },
    {
      "cell_type": "code",
      "source": [
        "vas_purchase_df = pd.read_excel(\"data/new/VAS_Products_Purchased Dates_Costed_Events.xls\")  \n",
        "vas_purchase_df.rename(columns={'MM/YYYY':'Month_Subscribed','REV':'Rental','PRODUCT':'VAS'}, inplace=True)"
      ],
      "outputs": [],
      "execution_count": 74,
      "metadata": {
        "gather": {
          "logged": 1628310087166
        }
      }
    },
    {
      "cell_type": "code",
      "source": [
        "vas_purchase_df.info()"
      ],
      "outputs": [
        {
          "output_type": "stream",
          "name": "stdout",
          "text": [
            "<class 'pandas.core.frame.DataFrame'>\n",
            "RangeIndex: 2977 entries, 0 to 2976\n",
            "Data columns (total 5 columns):\n",
            "ACCOUNT_NUM.hash    2977 non-null object\n",
            "Month_Subscribed    2977 non-null object\n",
            "Rental              2977 non-null float64\n",
            "VAS                 2977 non-null object\n",
            "                    2977 non-null object\n",
            "dtypes: float64(1), object(4)\n",
            "memory usage: 116.4+ KB\n"
          ]
        }
      ],
      "execution_count": 75,
      "metadata": {
        "gather": {
          "logged": 1628310098341
        }
      }
    },
    {
      "cell_type": "code",
      "source": [
        "# Date correction\n",
        "def date_correct_bb(date):\n",
        "    if len(date)==5:\n",
        "        month = \"0\" + date[0]\n",
        "        year = date[1:]\n",
        "    if len(date)==6:\n",
        "        month=date[:2]\n",
        "        year=date[2:]\n",
        "    if len(date)>6:\n",
        "        year=date[:4]\n",
        "        month=date[9:11]\n",
        "    return f\"{year}-{month}\""
      ],
      "outputs": [],
      "execution_count": 76,
      "metadata": {
        "gather": {
          "logged": 1628310109536
        }
      }
    },
    {
      "cell_type": "code",
      "source": [
        "# test\n",
        "print(date_correct_bb(\"32020\"))\n",
        "print(date_correct_bb(\"102017\"))\n",
        "print(date_correct_bb(\"2021-May-02 08:02:23\"))"
      ],
      "outputs": [
        {
          "output_type": "stream",
          "name": "stdout",
          "text": [
            "2020-03\n",
            "2017-10\n",
            "2021-02\n"
          ]
        }
      ],
      "execution_count": 77,
      "metadata": {
        "gather": {
          "logged": 1628310114418
        }
      }
    },
    {
      "cell_type": "code",
      "source": [
        "vas_purchase_df[\"Month_Subscribed\"]=vas_purchase_df[\"Month_Subscribed\"].apply(lambda x: date_correct_bb(x))"
      ],
      "outputs": [],
      "execution_count": 78,
      "metadata": {
        "gather": {
          "logged": 1628310123965
        }
      }
    },
    {
      "cell_type": "code",
      "source": [
        "#vas_purchase_df = vas_purchase_df.merge(acc_no_map,how='left',on=\"ACCOUNT_NUM.hash\")\n",
        "#vas_purchase_df.drop_duplicates([\"ACCOUNT_NUM.hash\",\"VAS\",\"Month_Subscribed\"], inplace=True,keep=\"last\")"
      ],
      "outputs": [],
      "execution_count": 59,
      "metadata": {}
    },
    {
      "cell_type": "code",
      "source": [
        "vas_purchase_df = vas_purchase_df[[\"ACCOUNT_NUM.hash\",\"VAS\",\"Month_Subscribed\",\"Rental\"]]"
      ],
      "outputs": [],
      "execution_count": 79,
      "metadata": {
        "gather": {
          "logged": 1628310158580
        }
      }
    },
    {
      "cell_type": "code",
      "source": [
        "vas_purchase_df[\"VAS\"].value_counts()"
      ],
      "outputs": [
        {
          "output_type": "execute_result",
          "execution_count": 80,
          "data": {
            "text/plain": "BB EXTRA GB                      2307\nBB_Report Subscription Charge     494\nBB Personal Storage               176\nName: VAS, dtype: int64"
          },
          "metadata": {}
        }
      ],
      "execution_count": 80,
      "metadata": {
        "gather": {
          "logged": 1628310168088
        }
      }
    },
    {
      "cell_type": "markdown",
      "source": [
        "### Extra GB Usage"
      ],
      "metadata": {}
    },
    {
      "cell_type": "code",
      "source": [
        "extra_GB_df= vas_purchase_df[(vas_purchase_df[\"VAS\"]==\"BB EXTRA GB\")]\n",
        "extra_GB_df.reset_index(inplace=True)\n",
        "extra_GB_df.drop([\"index\"],axis=1,inplace=True)\n",
        "extra_GB_df"
      ],
      "outputs": [
        {
          "output_type": "stream",
          "name": "stderr",
          "text": [
            "/anaconda/envs/azureml_py36/lib/python3.6/site-packages/pandas/core/frame.py:4117: SettingWithCopyWarning: \n",
            "A value is trying to be set on a copy of a slice from a DataFrame\n",
            "\n",
            "See the caveats in the documentation: http://pandas.pydata.org/pandas-docs/stable/user_guide/indexing.html#returning-a-view-versus-a-copy\n",
            "  errors=errors,\n"
          ]
        },
        {
          "output_type": "execute_result",
          "execution_count": 81,
          "data": {
            "text/plain": "                      ACCOUNT_NUM.hash          VAS Month_Subscribed  Rental\n0     668291ed17c638aaed94f99f7fdf33a5  BB EXTRA GB          2017-04   250.0\n1     59322724d5029e5667d19ae164cdc16d  BB EXTRA GB          2018-01   750.0\n2     0e1fe0d01f3a2e9619999a1a634ec427  BB EXTRA GB          2018-01  1500.0\n3     0e3e3cabb8b653645ad4268f318a80b8  BB EXTRA GB          2017-08   750.0\n4     130a75d8233d72dc5dce070522818bea  BB EXTRA GB          2020-06   850.0\n...                                ...          ...              ...     ...\n2302  9b711e39affb4e5a7a364787253d4c09  BB EXTRA GB          2020-05  3000.0\n2303  83b2f83faba76ed481f026be3197caaa  BB EXTRA GB          2020-03   850.0\n2304  6c4e0622eabb0cd72da7dee9ac9e1996  BB EXTRA GB          2020-05  3585.0\n2305  6f5a50d14f88a8bbed200d30e65ddf20  BB EXTRA GB          2020-03  3400.0\n2306  2ea6c5e59c02744c036fe8ff6cccfb7c  BB EXTRA GB          2019-05  1050.0\n\n[2307 rows x 4 columns]",
            "text/html": "<div>\n<style scoped>\n    .dataframe tbody tr th:only-of-type {\n        vertical-align: middle;\n    }\n\n    .dataframe tbody tr th {\n        vertical-align: top;\n    }\n\n    .dataframe thead th {\n        text-align: right;\n    }\n</style>\n<table border=\"1\" class=\"dataframe\">\n  <thead>\n    <tr style=\"text-align: right;\">\n      <th></th>\n      <th>ACCOUNT_NUM.hash</th>\n      <th>VAS</th>\n      <th>Month_Subscribed</th>\n      <th>Rental</th>\n    </tr>\n  </thead>\n  <tbody>\n    <tr>\n      <th>0</th>\n      <td>668291ed17c638aaed94f99f7fdf33a5</td>\n      <td>BB EXTRA GB</td>\n      <td>2017-04</td>\n      <td>250.0</td>\n    </tr>\n    <tr>\n      <th>1</th>\n      <td>59322724d5029e5667d19ae164cdc16d</td>\n      <td>BB EXTRA GB</td>\n      <td>2018-01</td>\n      <td>750.0</td>\n    </tr>\n    <tr>\n      <th>2</th>\n      <td>0e1fe0d01f3a2e9619999a1a634ec427</td>\n      <td>BB EXTRA GB</td>\n      <td>2018-01</td>\n      <td>1500.0</td>\n    </tr>\n    <tr>\n      <th>3</th>\n      <td>0e3e3cabb8b653645ad4268f318a80b8</td>\n      <td>BB EXTRA GB</td>\n      <td>2017-08</td>\n      <td>750.0</td>\n    </tr>\n    <tr>\n      <th>4</th>\n      <td>130a75d8233d72dc5dce070522818bea</td>\n      <td>BB EXTRA GB</td>\n      <td>2020-06</td>\n      <td>850.0</td>\n    </tr>\n    <tr>\n      <th>...</th>\n      <td>...</td>\n      <td>...</td>\n      <td>...</td>\n      <td>...</td>\n    </tr>\n    <tr>\n      <th>2302</th>\n      <td>9b711e39affb4e5a7a364787253d4c09</td>\n      <td>BB EXTRA GB</td>\n      <td>2020-05</td>\n      <td>3000.0</td>\n    </tr>\n    <tr>\n      <th>2303</th>\n      <td>83b2f83faba76ed481f026be3197caaa</td>\n      <td>BB EXTRA GB</td>\n      <td>2020-03</td>\n      <td>850.0</td>\n    </tr>\n    <tr>\n      <th>2304</th>\n      <td>6c4e0622eabb0cd72da7dee9ac9e1996</td>\n      <td>BB EXTRA GB</td>\n      <td>2020-05</td>\n      <td>3585.0</td>\n    </tr>\n    <tr>\n      <th>2305</th>\n      <td>6f5a50d14f88a8bbed200d30e65ddf20</td>\n      <td>BB EXTRA GB</td>\n      <td>2020-03</td>\n      <td>3400.0</td>\n    </tr>\n    <tr>\n      <th>2306</th>\n      <td>2ea6c5e59c02744c036fe8ff6cccfb7c</td>\n      <td>BB EXTRA GB</td>\n      <td>2019-05</td>\n      <td>1050.0</td>\n    </tr>\n  </tbody>\n</table>\n<p>2307 rows × 4 columns</p>\n</div>"
          },
          "metadata": {}
        }
      ],
      "execution_count": 81,
      "metadata": {
        "gather": {
          "logged": 1628310199959
        }
      }
    },
    {
      "cell_type": "code",
      "source": [
        "extra_GB_dss_df= extra_GB_dss_df[[\"ACCOUNT_NUM.hash\",\"VAS\",\"Month_Subscribed\",\"Rental\"]]"
      ],
      "outputs": [],
      "execution_count": 172,
      "metadata": {
        "gather": {
          "logged": 1628314114207
        }
      }
    },
    {
      "cell_type": "code",
      "source": [
        "# Date correction\n",
        "def date_correct_dss(date):\n",
        "    if len(date)>7:\n",
        "        return date[:7]\n",
        "    else:\n",
        "        return date"
      ],
      "outputs": [],
      "execution_count": 173,
      "metadata": {
        "gather": {
          "logged": 1628314119980
        }
      }
    },
    {
      "cell_type": "code",
      "source": [
        "extra_GB_dss_df[\"Month_Subscribed\"]=extra_GB_dss_df[\"Month_Subscribed\"].apply(lambda x: date_correct_dss(str(x)))"
      ],
      "outputs": [],
      "execution_count": 174,
      "metadata": {
        "gather": {
          "logged": 1628314125859
        }
      }
    },
    {
      "cell_type": "code",
      "source": [
        "extra_GB_dss_df.info()"
      ],
      "outputs": [
        {
          "output_type": "stream",
          "name": "stdout",
          "text": [
            "<class 'pandas.core.frame.DataFrame'>\n",
            "Int64Index: 5372 entries, 57403 to 49321\n",
            "Data columns (total 4 columns):\n",
            "ACCOUNT_NUM.hash    5372 non-null object\n",
            "VAS                 5372 non-null object\n",
            "Month_Subscribed    5372 non-null object\n",
            "Rental              0 non-null float64\n",
            "dtypes: float64(1), object(3)\n",
            "memory usage: 209.8+ KB\n"
          ]
        }
      ],
      "execution_count": 175,
      "metadata": {
        "gather": {
          "logged": 1628314132824
        }
      }
    },
    {
      "cell_type": "code",
      "source": [
        "extra_GB_df.info()"
      ],
      "outputs": [
        {
          "output_type": "stream",
          "name": "stdout",
          "text": [
            "<class 'pandas.core.frame.DataFrame'>\n",
            "RangeIndex: 7679 entries, 0 to 7678\n",
            "Data columns (total 4 columns):\n",
            "ACCOUNT_NUM.hash    7679 non-null object\n",
            "VAS                 7679 non-null object\n",
            "Month_Subscribed    7679 non-null object\n",
            "Rental              2307 non-null float64\n",
            "dtypes: float64(1), object(3)\n",
            "memory usage: 240.1+ KB\n"
          ]
        }
      ],
      "execution_count": 176,
      "metadata": {
        "collapsed": true,
        "jupyter": {
          "source_hidden": false,
          "outputs_hidden": false
        },
        "nteract": {
          "transient": {
            "deleting": false
          }
        },
        "gather": {
          "logged": 1628314141717
        }
      }
    },
    {
      "cell_type": "code",
      "source": [
        "extra_GB_df = pd.concat([extra_GB_dss_df, extra_GB_df], ignore_index=True)"
      ],
      "outputs": [],
      "execution_count": 177,
      "metadata": {
        "gather": {
          "logged": 1628314152344
        }
      }
    },
    {
      "cell_type": "code",
      "source": [
        "extra_GB_df[\"Month_Subscribed\"].unique()"
      ],
      "outputs": [
        {
          "output_type": "execute_result",
          "execution_count": 178,
          "data": {
            "text/plain": "array(['2019-10', '2020-03', '2018-08', '2017-01', '2018-12', '2019-04',\n       '2018-09', '2018-10', '2019-05', '2019-06', '2019-12', '2020-02',\n       '2014-01', '2014-03', '2016-08', '2017-03', '2018-01', '2019-03',\n       '2019-08', '2019-09', '2019-11', '2020-04', '2020-05', '2020-07',\n       '2020-08', '2021-03', '2019-01', '2020-06', '2018-05', '2018-07',\n       '2019-07', '2020-01', '2015-09', '2017-06', '2016-09', '2017-12',\n       '2018-04', '2018-06', '2018-11', '2019-02', '2020-09', '2018-03',\n       '2017-11', '2015-08', '2017-02', '2016-04', '2016-06', '2017-07',\n       '2017-08', '2014-02', '2016-11', '2017-04', '2018-02', '2015-10',\n       '2016-10', '2017-09', '2017-10', '2017-05', '2015-05', '2016-01',\n       '2016-05', '2016-07', '2016-03', '2016-12', '2013-05', '2013-06',\n       '2013-01', '2013-03', '2013-07', '2013-02', '2015-12', '2013-04',\n       '2016-02', '2015-11'], dtype=object)"
          },
          "metadata": {}
        }
      ],
      "execution_count": 178,
      "metadata": {
        "gather": {
          "logged": 1628314158342
        }
      }
    },
    {
      "cell_type": "code",
      "source": [
        "extra_GB_df.info()"
      ],
      "outputs": [
        {
          "output_type": "stream",
          "name": "stdout",
          "text": [
            "<class 'pandas.core.frame.DataFrame'>\n",
            "RangeIndex: 13051 entries, 0 to 13050\n",
            "Data columns (total 4 columns):\n",
            "ACCOUNT_NUM.hash    13051 non-null object\n",
            "VAS                 13051 non-null object\n",
            "Month_Subscribed    13051 non-null object\n",
            "Rental              2307 non-null float64\n",
            "dtypes: float64(1), object(3)\n",
            "memory usage: 408.0+ KB\n"
          ]
        }
      ],
      "execution_count": 179,
      "metadata": {
        "collapsed": true,
        "jupyter": {
          "source_hidden": false,
          "outputs_hidden": false
        },
        "nteract": {
          "transient": {
            "deleting": false
          }
        },
        "gather": {
          "logged": 1628314169384
        }
      }
    },
    {
      "cell_type": "code",
      "source": [
        "len(extra_GB_df[\"ACCOUNT_NUM.hash\"].unique())"
      ],
      "outputs": [
        {
          "output_type": "execute_result",
          "execution_count": 180,
          "data": {
            "text/plain": "1527"
          },
          "metadata": {}
        }
      ],
      "execution_count": 180,
      "metadata": {
        "gather": {
          "logged": 1628314175471
        }
      }
    },
    {
      "cell_type": "markdown",
      "source": [
        "### Extra GB Usage Trend Analysis"
      ],
      "metadata": {}
    },
    {
      "cell_type": "code",
      "source": [
        "bb_usage_for_plot = extra_GB_df[[\"ACCOUNT_NUM.hash\",\"Month_Subscribed\",\"Rental\"]]\n",
        "bb_usage_for_plot[\"Month_Subscribed\"] = bb_usage_for_plot[\"Month_Subscribed\"].astype(\"category\")"
      ],
      "outputs": [
        {
          "output_type": "stream",
          "name": "stderr",
          "text": [
            "/anaconda/envs/azureml_py36/lib/python3.6/site-packages/ipykernel_launcher.py:2: SettingWithCopyWarning: \n",
            "A value is trying to be set on a copy of a slice from a DataFrame.\n",
            "Try using .loc[row_indexer,col_indexer] = value instead\n",
            "\n",
            "See the caveats in the documentation: http://pandas.pydata.org/pandas-docs/stable/user_guide/indexing.html#returning-a-view-versus-a-copy\n",
            "  \n"
          ]
        }
      ],
      "execution_count": 181,
      "metadata": {
        "gather": {
          "logged": 1628314186094
        }
      }
    },
    {
      "cell_type": "code",
      "source": [
        "bb_summed_df = bb_usage_for_plot.groupby(\"Month_Subscribed\").sum()"
      ],
      "outputs": [],
      "execution_count": 182,
      "metadata": {
        "gather": {
          "logged": 1628314193405
        }
      }
    },
    {
      "cell_type": "code",
      "source": [
        "df_2016 = bb_summed_df.iloc[16:28,:]"
      ],
      "outputs": [],
      "execution_count": 183,
      "metadata": {
        "gather": {
          "logged": 1628314212913
        }
      }
    },
    {
      "cell_type": "code",
      "source": [
        "df_2017 = bb_summed_df.iloc[28:40,:]"
      ],
      "outputs": [],
      "execution_count": 184,
      "metadata": {
        "gather": {
          "logged": 1628314220051
        }
      }
    },
    {
      "cell_type": "code",
      "source": [
        "df_2018 = bb_summed_df.iloc[40:52,:]"
      ],
      "outputs": [],
      "execution_count": 185,
      "metadata": {
        "gather": {
          "logged": 1628314226520
        }
      }
    },
    {
      "cell_type": "code",
      "source": [
        "df_2019 = bb_summed_df.iloc[52:64,:]"
      ],
      "outputs": [],
      "execution_count": 186,
      "metadata": {
        "gather": {
          "logged": 1628314232340
        }
      }
    },
    {
      "cell_type": "code",
      "source": [
        "df_2020 = bb_summed_df.iloc[64:73,:]"
      ],
      "outputs": [],
      "execution_count": 187,
      "metadata": {
        "gather": {
          "logged": 1628314238371
        }
      }
    },
    {
      "cell_type": "code",
      "source": [
        "plt.figure(figsize=(30,8))\n",
        "bb_summed_df[\"Rental\"].plot()\n",
        "plt.suptitle(\"Extra Gb Usage(Rs.) with Time\")"
      ],
      "outputs": [
        {
          "output_type": "execute_result",
          "execution_count": 188,
          "data": {
            "text/plain": "Text(0.5, 0.98, 'Extra Gb Usage(Rs.) with Time')"
          },
          "metadata": {}
        },
        {
          "output_type": "display_data",
          "data": {
            "text/plain": "<Figure size 2160x576 with 1 Axes>",
            "image/png": "[encoded data removed]"
          },
          "metadata": {}
        }
      ],
      "execution_count": 188,
      "metadata": {
        "gather": {
          "logged": 1628314248548
        }
      }
    },
    {
      "cell_type": "code",
      "source": [
        "fig, ax = plt.subplots()\n",
        "plt.figure()\n",
        "df_2016[\"Rental\"].plot(ax=ax,figsize=(20,8))\n",
        "df_2017[\"Rental\"].plot(ax=ax,figsize=(20,8))\n",
        "df_2018[\"Rental\"].plot(ax=ax,figsize=(20,8))\n",
        "df_2019[\"Rental\"].plot(ax=ax,figsize=(20,8))\n",
        "df_2020[\"Rental\"].plot(ax=ax,figsize=(20,8))\n",
        "ax.legend([\"2016\",\"2017\",\"2018\",\"2019\",\"2020\"], loc='upper center')\n",
        "month_ticks=[\"Jan\",\"Feb\",\"Mar\",\"Apr\",\"May\",\"Jun\",\"Jul\",\"Aug\",\"Sep\",\"Oct\",\"Nov\",\"Dec\"]\n",
        "ax.set_xticks(np.arange(len(month_ticks)))\n",
        "ax.set_xticklabels(month_ticks)\n",
        "ax.set_title(\"Extra Gb Usage(Rs.) with Time\")"
      ],
      "outputs": [
        {
          "output_type": "execute_result",
          "execution_count": 189,
          "data": {
            "text/plain": "Text(0.5, 1.0, 'Extra Gb Usage(Rs.) with Time')"
          },
          "metadata": {}
        },
        {
          "output_type": "display_data",
          "data": {
            "text/plain": "<Figure size 1440x576 with 1 Axes>",
            "image/png": "[encoded data removed]"
          },
          "metadata": {}
        },
        {
          "output_type": "display_data",
          "data": {
            "text/plain": "<Figure size 432x288 with 0 Axes>"
          },
          "metadata": {}
        }
      ],
      "execution_count": 189,
      "metadata": {
        "gather": {
          "logged": 1628314266518
        }
      }
    },
    {
      "cell_type": "code",
      "source": [
        "extra_GB_df.to_csv(\"data/user_profile/BB_extra_GB_usage.csv\")"
      ],
      "outputs": [],
      "execution_count": 190,
      "metadata": {
        "gather": {
          "logged": 1628314274472
        }
      }
    },
    {
      "cell_type": "markdown",
      "source": [
        "#### Extra GB Usage pivot matrix"
      ],
      "metadata": {}
    },
    {
      "cell_type": "code",
      "source": [
        "extra_GB_pivot_df = pd.pivot_table(extra_GB_df[[\"ACCOUNT_NUM.hash\",\"Month_Subscribed\",\"Rental\"]],index=['ACCOUNT_NUM.hash'],columns=['Month_Subscribed'], aggfunc=np.sum, fill_value=0)"
      ],
      "outputs": [],
      "execution_count": 191,
      "metadata": {
        "gather": {
          "logged": 1628314281935
        }
      }
    },
    {
      "cell_type": "code",
      "source": [
        "extra_GB_pivot_df"
      ],
      "outputs": [
        {
          "output_type": "execute_result",
          "execution_count": 192,
          "data": {
            "text/plain": "                                  Rental                                  \\\nMonth_Subscribed                 2013-01 2013-02 2013-03 2013-04 2013-05   \nACCOUNT_NUM.hash                                                           \n0009e7e4d940c2a539b89342af07e7f1       0       0       0       0       0   \n00126426420cdb4b1fe951ce5bb3c05a     500       0     250       0       0   \n008bca99f0cccb5d07d4f03744709cf8       0       0       0       0       0   \n009ef2d25878cecee8d2c8115d26f4ab       0       0       0       0       0   \n0105eba65de307bc8ca366dac37aff7b       0       0       0       0       0   \n...                                  ...     ...     ...     ...     ...   \nff419294738cd6d4259861c10653cf17       0       0       0       0       0   \nff464b58ad70d2a6064acb0c2c727337       0       0       0       0       0   \nff6a9ebde4f19c42c852aa679c877b41       0       0       0       0       0   \nffaa8955dcd8a0af7d148c10fd447fcc       0       0       0       0       0   \nffc751bb5812fb7f262917605876f78a       0       0       0       0       0   \n\n                                                                          ...  \\\nMonth_Subscribed                 2013-06 2013-07 2014-01 2014-02 2014-03  ...   \nACCOUNT_NUM.hash                                                          ...   \n0009e7e4d940c2a539b89342af07e7f1       0       0       0       0       0  ...   \n00126426420cdb4b1fe951ce5bb3c05a       0       0       0       0       0  ...   \n008bca99f0cccb5d07d4f03744709cf8       0       0       0       0       0  ...   \n009ef2d25878cecee8d2c8115d26f4ab       0       0       0       0       0  ...   \n0105eba65de307bc8ca366dac37aff7b       0       0       0       0       0  ...   \n...                                  ...     ...     ...     ...     ...  ...   \nff419294738cd6d4259861c10653cf17       0       0       0       0       0  ...   \nff464b58ad70d2a6064acb0c2c727337       0       0       0       0       0  ...   \nff6a9ebde4f19c42c852aa679c877b41       0       0       0       0       0  ...   \nffaa8955dcd8a0af7d148c10fd447fcc       0       0       0       0       0  ...   \nffc751bb5812fb7f262917605876f78a       0       0       0       0       0  ...   \n\n                                                                          \\\nMonth_Subscribed                 2020-01 2020-02 2020-03 2020-04 2020-05   \nACCOUNT_NUM.hash                                                           \n0009e7e4d940c2a539b89342af07e7f1       0       0    1200       0       0   \n00126426420cdb4b1fe951ce5bb3c05a       0       0       0       0       0   \n008bca99f0cccb5d07d4f03744709cf8       0       0       0       0       0   \n009ef2d25878cecee8d2c8115d26f4ab       0       0       0       0       0   \n0105eba65de307bc8ca366dac37aff7b       0       0       0       0       0   \n...                                  ...     ...     ...     ...     ...   \nff419294738cd6d4259861c10653cf17       0       0       0       0       0   \nff464b58ad70d2a6064acb0c2c727337       0       0       0       0       0   \nff6a9ebde4f19c42c852aa679c877b41       0       0       0    1050    1050   \nffaa8955dcd8a0af7d148c10fd447fcc       0       0       0       0       0   \nffc751bb5812fb7f262917605876f78a       0       0       0       0       0   \n\n                                                                          \nMonth_Subscribed                 2020-06 2020-07 2020-08 2020-09 2021-03  \nACCOUNT_NUM.hash                                                          \n0009e7e4d940c2a539b89342af07e7f1       0       0       0       0       0  \n00126426420cdb4b1fe951ce5bb3c05a       0       0       0       0       0  \n008bca99f0cccb5d07d4f03744709cf8       0       0       0       0       0  \n009ef2d25878cecee8d2c8115d26f4ab       0       0       0       0       0  \n0105eba65de307bc8ca366dac37aff7b       0       0       0       0       0  \n...                                  ...     ...     ...     ...     ...  \nff419294738cd6d4259861c10653cf17       0       0       0       0       0  \nff464b58ad70d2a6064acb0c2c727337       0       0       0       0       0  \nff6a9ebde4f19c42c852aa679c877b41     425       0       0       0       0  \nffaa8955dcd8a0af7d148c10fd447fcc       0       0       0       0       0  \nffc751bb5812fb7f262917605876f78a       0       0       0       0       0  \n\n[1527 rows x 74 columns]",
            "text/html": "<div>\n<style scoped>\n    .dataframe tbody tr th:only-of-type {\n        vertical-align: middle;\n    }\n\n    .dataframe tbody tr th {\n        vertical-align: top;\n    }\n\n    .dataframe thead tr th {\n        text-align: left;\n    }\n\n    .dataframe thead tr:last-of-type th {\n        text-align: right;\n    }\n</style>\n<table border=\"1\" class=\"dataframe\">\n  <thead>\n    <tr>\n      <th></th>\n      <th colspan=\"21\" halign=\"left\">Rental</th>\n    </tr>\n    <tr>\n      <th>Month_Subscribed</th>\n      <th>2013-01</th>\n      <th>2013-02</th>\n      <th>2013-03</th>\n      <th>2013-04</th>\n      <th>2013-05</th>\n      <th>2013-06</th>\n      <th>2013-07</th>\n      <th>2014-01</th>\n      <th>2014-02</th>\n      <th>2014-03</th>\n      <th>...</th>\n      <th>2020-01</th>\n      <th>2020-02</th>\n      <th>2020-03</th>\n      <th>2020-04</th>\n      <th>2020-05</th>\n      <th>2020-06</th>\n      <th>2020-07</th>\n      <th>2020-08</th>\n      <th>2020-09</th>\n      <th>2021-03</th>\n    </tr>\n    <tr>\n      <th>ACCOUNT_NUM.hash</th>\n      <th></th>\n      <th></th>\n      <th></th>\n      <th></th>\n      <th></th>\n      <th></th>\n      <th></th>\n      <th></th>\n      <th></th>\n      <th></th>\n      <th></th>\n      <th></th>\n      <th></th>\n      <th></th>\n      <th></th>\n      <th></th>\n      <th></th>\n      <th></th>\n      <th></th>\n      <th></th>\n      <th></th>\n    </tr>\n  </thead>\n  <tbody>\n    <tr>\n      <th>0009e7e4d940c2a539b89342af07e7f1</th>\n      <td>0</td>\n      <td>0</td>\n      <td>0</td>\n      <td>0</td>\n      <td>0</td>\n      <td>0</td>\n      <td>0</td>\n      <td>0</td>\n      <td>0</td>\n      <td>0</td>\n      <td>...</td>\n      <td>0</td>\n      <td>0</td>\n      <td>1200</td>\n      <td>0</td>\n      <td>0</td>\n      <td>0</td>\n      <td>0</td>\n      <td>0</td>\n      <td>0</td>\n      <td>0</td>\n    </tr>\n    <tr>\n      <th>00126426420cdb4b1fe951ce5bb3c05a</th>\n      <td>500</td>\n      <td>0</td>\n      <td>250</td>\n      <td>0</td>\n      <td>0</td>\n      <td>0</td>\n      <td>0</td>\n      <td>0</td>\n      <td>0</td>\n      <td>0</td>\n      <td>...</td>\n      <td>0</td>\n      <td>0</td>\n      <td>0</td>\n      <td>0</td>\n      <td>0</td>\n      <td>0</td>\n      <td>0</td>\n      <td>0</td>\n      <td>0</td>\n      <td>0</td>\n    </tr>\n    <tr>\n      <th>008bca99f0cccb5d07d4f03744709cf8</th>\n      <td>0</td>\n      <td>0</td>\n      <td>0</td>\n      <td>0</td>\n      <td>0</td>\n      <td>0</td>\n      <td>0</td>\n      <td>0</td>\n      <td>0</td>\n      <td>0</td>\n      <td>...</td>\n      <td>0</td>\n      <td>0</td>\n      <td>0</td>\n      <td>0</td>\n      <td>0</td>\n      <td>0</td>\n      <td>0</td>\n      <td>0</td>\n      <td>0</td>\n      <td>0</td>\n    </tr>\n    <tr>\n      <th>009ef2d25878cecee8d2c8115d26f4ab</th>\n      <td>0</td>\n      <td>0</td>\n      <td>0</td>\n      <td>0</td>\n      <td>0</td>\n      <td>0</td>\n      <td>0</td>\n      <td>0</td>\n      <td>0</td>\n      <td>0</td>\n      <td>...</td>\n      <td>0</td>\n      <td>0</td>\n      <td>0</td>\n      <td>0</td>\n      <td>0</td>\n      <td>0</td>\n      <td>0</td>\n      <td>0</td>\n      <td>0</td>\n      <td>0</td>\n    </tr>\n    <tr>\n      <th>0105eba65de307bc8ca366dac37aff7b</th>\n      <td>0</td>\n      <td>0</td>\n      <td>0</td>\n      <td>0</td>\n      <td>0</td>\n      <td>0</td>\n      <td>0</td>\n      <td>0</td>\n      <td>0</td>\n      <td>0</td>\n      <td>...</td>\n      <td>0</td>\n      <td>0</td>\n      <td>0</td>\n      <td>0</td>\n      <td>0</td>\n      <td>0</td>\n      <td>0</td>\n      <td>0</td>\n      <td>0</td>\n      <td>0</td>\n    </tr>\n    <tr>\n      <th>...</th>\n      <td>...</td>\n      <td>...</td>\n      <td>...</td>\n      <td>...</td>\n      <td>...</td>\n      <td>...</td>\n      <td>...</td>\n      <td>...</td>\n      <td>...</td>\n      <td>...</td>\n      <td>...</td>\n      <td>...</td>\n      <td>...</td>\n      <td>...</td>\n      <td>...</td>\n      <td>...</td>\n      <td>...</td>\n      <td>...</td>\n      <td>...</td>\n      <td>...</td>\n      <td>...</td>\n    </tr>\n    <tr>\n      <th>ff419294738cd6d4259861c10653cf17</th>\n      <td>0</td>\n      <td>0</td>\n      <td>0</td>\n      <td>0</td>\n      <td>0</td>\n      <td>0</td>\n      <td>0</td>\n      <td>0</td>\n      <td>0</td>\n      <td>0</td>\n      <td>...</td>\n      <td>0</td>\n      <td>0</td>\n      <td>0</td>\n      <td>0</td>\n      <td>0</td>\n      <td>0</td>\n      <td>0</td>\n      <td>0</td>\n      <td>0</td>\n      <td>0</td>\n    </tr>\n    <tr>\n      <th>ff464b58ad70d2a6064acb0c2c727337</th>\n      <td>0</td>\n      <td>0</td>\n      <td>0</td>\n      <td>0</td>\n      <td>0</td>\n      <td>0</td>\n      <td>0</td>\n      <td>0</td>\n      <td>0</td>\n      <td>0</td>\n      <td>...</td>\n      <td>0</td>\n      <td>0</td>\n      <td>0</td>\n      <td>0</td>\n      <td>0</td>\n      <td>0</td>\n      <td>0</td>\n      <td>0</td>\n      <td>0</td>\n      <td>0</td>\n    </tr>\n    <tr>\n      <th>ff6a9ebde4f19c42c852aa679c877b41</th>\n      <td>0</td>\n      <td>0</td>\n      <td>0</td>\n      <td>0</td>\n      <td>0</td>\n      <td>0</td>\n      <td>0</td>\n      <td>0</td>\n      <td>0</td>\n      <td>0</td>\n      <td>...</td>\n      <td>0</td>\n      <td>0</td>\n      <td>0</td>\n      <td>1050</td>\n      <td>1050</td>\n      <td>425</td>\n      <td>0</td>\n      <td>0</td>\n      <td>0</td>\n      <td>0</td>\n    </tr>\n    <tr>\n      <th>ffaa8955dcd8a0af7d148c10fd447fcc</th>\n      <td>0</td>\n      <td>0</td>\n      <td>0</td>\n      <td>0</td>\n      <td>0</td>\n      <td>0</td>\n      <td>0</td>\n      <td>0</td>\n      <td>0</td>\n      <td>0</td>\n      <td>...</td>\n      <td>0</td>\n      <td>0</td>\n      <td>0</td>\n      <td>0</td>\n      <td>0</td>\n      <td>0</td>\n      <td>0</td>\n      <td>0</td>\n      <td>0</td>\n      <td>0</td>\n    </tr>\n    <tr>\n      <th>ffc751bb5812fb7f262917605876f78a</th>\n      <td>0</td>\n      <td>0</td>\n      <td>0</td>\n      <td>0</td>\n      <td>0</td>\n      <td>0</td>\n      <td>0</td>\n      <td>0</td>\n      <td>0</td>\n      <td>0</td>\n      <td>...</td>\n      <td>0</td>\n      <td>0</td>\n      <td>0</td>\n      <td>0</td>\n      <td>0</td>\n      <td>0</td>\n      <td>0</td>\n      <td>0</td>\n      <td>0</td>\n      <td>0</td>\n    </tr>\n  </tbody>\n</table>\n<p>1527 rows × 74 columns</p>\n</div>"
          },
          "metadata": {}
        }
      ],
      "execution_count": 192,
      "metadata": {
        "gather": {
          "logged": 1628314289602
        }
      }
    },
    {
      "cell_type": "code",
      "source": [
        "extra_GB_pivot_df.to_csv(\"data/user_profile/BB_extra_GB_usage_pivot_extended.csv\")"
      ],
      "outputs": [],
      "execution_count": 193,
      "metadata": {
        "gather": {
          "logged": 1628314371375
        }
      }
    },
    {
      "cell_type": "markdown",
      "source": [
        "#### Insights\n",
        "- 21634Unique customers - extra GB purchases in moths vary from 2013-2021"
      ],
      "metadata": {}
    },
    {
      "cell_type": "markdown",
      "source": [
        "### Other BB VAS"
      ],
      "metadata": {}
    },
    {
      "cell_type": "code",
      "source": [
        "bb_vas_df= vas_purchase_df[(vas_purchase_df[\"VAS\"]!=\"BB EXTRA GB\")]\n",
        "bb_vas_df.reset_index(inplace=True)\n",
        "bb_vas_df.drop([\"index\"],axis=1,inplace=True)\n",
        "bb_vas_df"
      ],
      "outputs": [
        {
          "output_type": "stream",
          "name": "stderr",
          "text": [
            "/anaconda/envs/azureml_py36/lib/python3.6/site-packages/pandas/core/frame.py:4117: SettingWithCopyWarning: \n",
            "A value is trying to be set on a copy of a slice from a DataFrame\n",
            "\n",
            "See the caveats in the documentation: http://pandas.pydata.org/pandas-docs/stable/user_guide/indexing.html#returning-a-view-versus-a-copy\n",
            "  errors=errors,\n"
          ]
        },
        {
          "output_type": "execute_result",
          "execution_count": 194,
          "data": {
            "text/plain": "                     ACCOUNT_NUM.hash                            VAS  \\\n0    949e14e85d36002ffb954d42d3366936  BB_Report Subscription Charge   \n1    949e14e85d36002ffb954d42d3366936  BB_Report Subscription Charge   \n2    b027d65390a0c725b9ce41e409f9797e  BB_Report Subscription Charge   \n3    b027d65390a0c725b9ce41e409f9797e  BB_Report Subscription Charge   \n4    b027d65390a0c725b9ce41e409f9797e  BB_Report Subscription Charge   \n..                                ...                            ...   \n665  8d8472d39b270801553f2d5e7c06fe22  BB_Report Subscription Charge   \n666  8d8472d39b270801553f2d5e7c06fe22  BB_Report Subscription Charge   \n667  8d8472d39b270801553f2d5e7c06fe22  BB_Report Subscription Charge   \n668  8d8472d39b270801553f2d5e7c06fe22  BB_Report Subscription Charge   \n669  8d8472d39b270801553f2d5e7c06fe22  BB_Report Subscription Charge   \n\n    Month_Subscribed  Rental  \n0            2021-02    40.0  \n1            2021-03    40.0  \n2            2021-03    40.0  \n3            2021-02    40.0  \n4            2021-03    40.0  \n..               ...     ...  \n665          2021-02    40.0  \n666          2021-02    40.0  \n667          2021-03    40.0  \n668          2021-03    40.0  \n669          2021-01    40.0  \n\n[670 rows x 4 columns]",
            "text/html": "<div>\n<style scoped>\n    .dataframe tbody tr th:only-of-type {\n        vertical-align: middle;\n    }\n\n    .dataframe tbody tr th {\n        vertical-align: top;\n    }\n\n    .dataframe thead th {\n        text-align: right;\n    }\n</style>\n<table border=\"1\" class=\"dataframe\">\n  <thead>\n    <tr style=\"text-align: right;\">\n      <th></th>\n      <th>ACCOUNT_NUM.hash</th>\n      <th>VAS</th>\n      <th>Month_Subscribed</th>\n      <th>Rental</th>\n    </tr>\n  </thead>\n  <tbody>\n    <tr>\n      <th>0</th>\n      <td>949e14e85d36002ffb954d42d3366936</td>\n      <td>BB_Report Subscription Charge</td>\n      <td>2021-02</td>\n      <td>40.0</td>\n    </tr>\n    <tr>\n      <th>1</th>\n      <td>949e14e85d36002ffb954d42d3366936</td>\n      <td>BB_Report Subscription Charge</td>\n      <td>2021-03</td>\n      <td>40.0</td>\n    </tr>\n    <tr>\n      <th>2</th>\n      <td>b027d65390a0c725b9ce41e409f9797e</td>\n      <td>BB_Report Subscription Charge</td>\n      <td>2021-03</td>\n      <td>40.0</td>\n    </tr>\n    <tr>\n      <th>3</th>\n      <td>b027d65390a0c725b9ce41e409f9797e</td>\n      <td>BB_Report Subscription Charge</td>\n      <td>2021-02</td>\n      <td>40.0</td>\n    </tr>\n    <tr>\n      <th>4</th>\n      <td>b027d65390a0c725b9ce41e409f9797e</td>\n      <td>BB_Report Subscription Charge</td>\n      <td>2021-03</td>\n      <td>40.0</td>\n    </tr>\n    <tr>\n      <th>...</th>\n      <td>...</td>\n      <td>...</td>\n      <td>...</td>\n      <td>...</td>\n    </tr>\n    <tr>\n      <th>665</th>\n      <td>8d8472d39b270801553f2d5e7c06fe22</td>\n      <td>BB_Report Subscription Charge</td>\n      <td>2021-02</td>\n      <td>40.0</td>\n    </tr>\n    <tr>\n      <th>666</th>\n      <td>8d8472d39b270801553f2d5e7c06fe22</td>\n      <td>BB_Report Subscription Charge</td>\n      <td>2021-02</td>\n      <td>40.0</td>\n    </tr>\n    <tr>\n      <th>667</th>\n      <td>8d8472d39b270801553f2d5e7c06fe22</td>\n      <td>BB_Report Subscription Charge</td>\n      <td>2021-03</td>\n      <td>40.0</td>\n    </tr>\n    <tr>\n      <th>668</th>\n      <td>8d8472d39b270801553f2d5e7c06fe22</td>\n      <td>BB_Report Subscription Charge</td>\n      <td>2021-03</td>\n      <td>40.0</td>\n    </tr>\n    <tr>\n      <th>669</th>\n      <td>8d8472d39b270801553f2d5e7c06fe22</td>\n      <td>BB_Report Subscription Charge</td>\n      <td>2021-01</td>\n      <td>40.0</td>\n    </tr>\n  </tbody>\n</table>\n<p>670 rows × 4 columns</p>\n</div>"
          },
          "metadata": {}
        }
      ],
      "execution_count": 194,
      "metadata": {
        "gather": {
          "logged": 1628314380873
        }
      }
    },
    {
      "cell_type": "markdown",
      "source": [
        "## VAS DWH Dataset Analysis"
      ],
      "metadata": {}
    },
    {
      "cell_type": "code",
      "source": [
        "vas_DWH_df = pd.read_excel(\"data/new/VAS_Products_Purchased Dates_SLT_DWH.xls\")  \n",
        "vas_DWH_df.rename(columns={'ACCOUNT_NO.hash':'ACCOUNT_NUM.hash','REPORTING_MONTH_CAL_MONTH_CODE':'Month_Subscribed','CODE_DESC':'VAS','REVENUE_AMOUNT':'Rental'}, inplace=True)"
      ],
      "outputs": [],
      "execution_count": 110,
      "metadata": {
        "gather": {
          "logged": 1628312507335
        }
      }
    },
    {
      "cell_type": "code",
      "source": [
        "# Date correction\n",
        "def date_correct_dwh(date):\n",
        "    date=str(date)\n",
        "    year=date[:4]\n",
        "    month=date[4:7]\n",
        "    return f\"{year}-{month}\""
      ],
      "outputs": [],
      "execution_count": 111,
      "metadata": {
        "gather": {
          "logged": 1628312514846
        }
      }
    },
    {
      "cell_type": "code",
      "source": [
        "vas_DWH_df[\"Month_Subscribed\"]=vas_DWH_df[\"Month_Subscribed\"].apply(lambda x: date_correct_dwh(x))"
      ],
      "outputs": [],
      "execution_count": 112,
      "metadata": {
        "gather": {
          "logged": 1628312520244
        }
      }
    },
    {
      "cell_type": "code",
      "source": [
        "vas_DWH_df.info()"
      ],
      "outputs": [
        {
          "output_type": "stream",
          "name": "stdout",
          "text": [
            "<class 'pandas.core.frame.DataFrame'>\n",
            "RangeIndex: 578 entries, 0 to 577\n",
            "Data columns (total 5 columns):\n",
            "ACCOUNT_NUM.hash    578 non-null object\n",
            "Month_Subscribed    578 non-null object\n",
            "VAS                 578 non-null object\n",
            "Rental              578 non-null int64\n",
            "                    578 non-null object\n",
            "dtypes: int64(1), object(4)\n",
            "memory usage: 22.7+ KB\n"
          ]
        }
      ],
      "execution_count": 113,
      "metadata": {
        "gather": {
          "logged": 1628312529227
        }
      }
    },
    {
      "cell_type": "code",
      "source": [
        "#vas_DWH_df = vas_DWH_df.merge(acc_no_map,how='left',on=\"ACCOUNT_NUM.hash\")\n",
        "#vas_DWH_df.drop_duplicates([\"ACCOUNT_NUM.hash\",\"VAS\"],inplace=True)\n",
        "#vas_DWH_df.reset_index(inplace=True)\n",
        "#vas_DWH_df.drop([\"index\"],axis=1,inplace=True)"
      ],
      "outputs": [],
      "execution_count": 88,
      "metadata": {}
    },
    {
      "cell_type": "code",
      "source": [
        "vas_DWH_df = vas_DWH_df[[\"ACCOUNT_NUM.hash\",\"VAS\",\"Month_Subscribed\",\"Rental\"]]\n",
        "vas_DWH_df"
      ],
      "outputs": [
        {
          "output_type": "execute_result",
          "execution_count": 115,
          "data": {
            "text/plain": "                     ACCOUNT_NUM.hash                                VAS  \\\n0    204773567701102c4acf8fda9eaccfdd  PEO TV GO_OTT_A-la carte channels   \n1    52e7c04d12cb33c77031760584a9586e  PEO TV GO_OTT_A-la carte channels   \n2    9d2f5d0f09198069413924db9a10d1c3  PEO TV GO_OTT_A-la carte channels   \n3    52b1c4fc5583a0b8449029dc92eeae45  PEO TV GO_OTT_A-la carte channels   \n4    2b60f8ffb99f7932ee00cdd291fb1dd5  PEO TV GO_OTT_A-la carte channels   \n..                                ...                                ...   \n573  9324793d25ea7ec770a033120d4d2254        Package Rental Through ADSL   \n574  9324793d25ea7ec770a033120d4d2254        Package Rental Through ADSL   \n575  9324793d25ea7ec770a033120d4d2254        Package Rental Through ADSL   \n576  9324793d25ea7ec770a033120d4d2254        Package Rental Through ADSL   \n577  96d972b2edfb5cf8c733f0fe2fa775a8        Package Rental Through ADSL   \n\n    Month_Subscribed  Rental  \n0            2020-05     100  \n1            2020-06     100  \n2            2019-09     100  \n3            2020-02     100  \n4            2020-07     100  \n..               ...     ...  \n573          2019-11     149  \n574          2020-08     149  \n575          2019-01     149  \n576          2019-10     149  \n577          2019-10     299  \n\n[578 rows x 4 columns]",
            "text/html": "<div>\n<style scoped>\n    .dataframe tbody tr th:only-of-type {\n        vertical-align: middle;\n    }\n\n    .dataframe tbody tr th {\n        vertical-align: top;\n    }\n\n    .dataframe thead th {\n        text-align: right;\n    }\n</style>\n<table border=\"1\" class=\"dataframe\">\n  <thead>\n    <tr style=\"text-align: right;\">\n      <th></th>\n      <th>ACCOUNT_NUM.hash</th>\n      <th>VAS</th>\n      <th>Month_Subscribed</th>\n      <th>Rental</th>\n    </tr>\n  </thead>\n  <tbody>\n    <tr>\n      <th>0</th>\n      <td>204773567701102c4acf8fda9eaccfdd</td>\n      <td>PEO TV GO_OTT_A-la carte channels</td>\n      <td>2020-05</td>\n      <td>100</td>\n    </tr>\n    <tr>\n      <th>1</th>\n      <td>52e7c04d12cb33c77031760584a9586e</td>\n      <td>PEO TV GO_OTT_A-la carte channels</td>\n      <td>2020-06</td>\n      <td>100</td>\n    </tr>\n    <tr>\n      <th>2</th>\n      <td>9d2f5d0f09198069413924db9a10d1c3</td>\n      <td>PEO TV GO_OTT_A-la carte channels</td>\n      <td>2019-09</td>\n      <td>100</td>\n    </tr>\n    <tr>\n      <th>3</th>\n      <td>52b1c4fc5583a0b8449029dc92eeae45</td>\n      <td>PEO TV GO_OTT_A-la carte channels</td>\n      <td>2020-02</td>\n      <td>100</td>\n    </tr>\n    <tr>\n      <th>4</th>\n      <td>2b60f8ffb99f7932ee00cdd291fb1dd5</td>\n      <td>PEO TV GO_OTT_A-la carte channels</td>\n      <td>2020-07</td>\n      <td>100</td>\n    </tr>\n    <tr>\n      <th>...</th>\n      <td>...</td>\n      <td>...</td>\n      <td>...</td>\n      <td>...</td>\n    </tr>\n    <tr>\n      <th>573</th>\n      <td>9324793d25ea7ec770a033120d4d2254</td>\n      <td>Package Rental Through ADSL</td>\n      <td>2019-11</td>\n      <td>149</td>\n    </tr>\n    <tr>\n      <th>574</th>\n      <td>9324793d25ea7ec770a033120d4d2254</td>\n      <td>Package Rental Through ADSL</td>\n      <td>2020-08</td>\n      <td>149</td>\n    </tr>\n    <tr>\n      <th>575</th>\n      <td>9324793d25ea7ec770a033120d4d2254</td>\n      <td>Package Rental Through ADSL</td>\n      <td>2019-01</td>\n      <td>149</td>\n    </tr>\n    <tr>\n      <th>576</th>\n      <td>9324793d25ea7ec770a033120d4d2254</td>\n      <td>Package Rental Through ADSL</td>\n      <td>2019-10</td>\n      <td>149</td>\n    </tr>\n    <tr>\n      <th>577</th>\n      <td>96d972b2edfb5cf8c733f0fe2fa775a8</td>\n      <td>Package Rental Through ADSL</td>\n      <td>2019-10</td>\n      <td>299</td>\n    </tr>\n  </tbody>\n</table>\n<p>578 rows × 4 columns</p>\n</div>"
          },
          "metadata": {}
        }
      ],
      "execution_count": 115,
      "metadata": {
        "gather": {
          "logged": 1628312582341
        }
      }
    },
    {
      "cell_type": "code",
      "source": [
        "vas_DWH_df[\"VAS\"].value_counts()"
      ],
      "outputs": [
        {
          "output_type": "execute_result",
          "execution_count": 116,
          "data": {
            "text/plain": "PEO TV GO_OTT_A-la carte channels    475\nPackage Rental Through ADSL           73\nPeoTVGo_Channel Package               23\nBB_PeoTVGO Revenue code                7\nName: VAS, dtype: int64"
          },
          "metadata": {}
        }
      ],
      "execution_count": 116,
      "metadata": {
        "gather": {
          "logged": 1628312627095
        }
      }
    },
    {
      "cell_type": "markdown",
      "source": [
        "## Product Sate Changes DF"
      ],
      "metadata": {}
    },
    {
      "cell_type": "code",
      "source": [
        "state_changes_df = pd.read_csv(\"data/Product State Changes from BSS.csv\")"
      ],
      "outputs": [],
      "execution_count": 143,
      "metadata": {
        "gather": {
          "logged": 1628313683597
        }
      }
    },
    {
      "cell_type": "code",
      "source": [
        "state_changes_df.info()"
      ],
      "outputs": [
        {
          "output_type": "stream",
          "name": "stdout",
          "text": [
            "<class 'pandas.core.frame.DataFrame'>\n",
            "RangeIndex: 3028 entries, 0 to 3027\n",
            "Data columns (total 13 columns):\n",
            "PRODUCT_LABEL         3028 non-null int64\n",
            "PRODUCT_LABEL.hash    3028 non-null object\n",
            "CUSTOMER_REF          3028 non-null object\n",
            "CUSTOMER_REF.hash     3028 non-null object\n",
            "ACCOUNT_NUM           3028 non-null object\n",
            "ACCOUNT_NUM.hash      3028 non-null object\n",
            "PRODUCT_SEQ           3028 non-null int64\n",
            "START_DAT             3028 non-null object\n",
            "END_DAT               2653 non-null object\n",
            "PRODUCT_ID            3028 non-null int64\n",
            "PRODUCT_NAME          3028 non-null object\n",
            "EFFECTIVE_DTM         3028 non-null object\n",
            "PRODUCT_STATUS        3028 non-null object\n",
            "dtypes: int64(3), object(10)\n",
            "memory usage: 307.7+ KB\n"
          ]
        }
      ],
      "execution_count": 144,
      "metadata": {
        "collapsed": true,
        "jupyter": {
          "source_hidden": false,
          "outputs_hidden": false
        },
        "nteract": {
          "transient": {
            "deleting": false
          }
        },
        "gather": {
          "logged": 1628313689023
        }
      }
    },
    {
      "cell_type": "code",
      "source": [
        "# Actual information for verification\n",
        "actual_info_df = state_changes_df[['PRODUCT_LABEL','CUSTOMER_REF','ACCOUNT_NUM']]\n",
        "actual_info_df.rename(columns={\"PRODUCT_LABEL\":\"event_source\"},inplace=True)\n",
        "actual_info_df.info()"
      ],
      "outputs": [
        {
          "output_type": "stream",
          "name": "stdout",
          "text": [
            "<class 'pandas.core.frame.DataFrame'>\n",
            "RangeIndex: 3028 entries, 0 to 3027\n",
            "Data columns (total 3 columns):\n",
            "event_source    3028 non-null int64\n",
            "CUSTOMER_REF    3028 non-null object\n",
            "ACCOUNT_NUM     3028 non-null object\n",
            "dtypes: int64(1), object(2)\n",
            "memory usage: 71.1+ KB\n"
          ]
        },
        {
          "output_type": "stream",
          "name": "stderr",
          "text": [
            "/anaconda/envs/azureml_py36/lib/python3.6/site-packages/pandas/core/frame.py:4238: SettingWithCopyWarning: \n",
            "A value is trying to be set on a copy of a slice from a DataFrame\n",
            "\n",
            "See the caveats in the documentation: http://pandas.pydata.org/pandas-docs/stable/user_guide/indexing.html#returning-a-view-versus-a-copy\n",
            "  return super().rename(**kwargs)\n"
          ]
        }
      ],
      "execution_count": 145,
      "metadata": {
        "collapsed": true,
        "jupyter": {
          "source_hidden": false,
          "outputs_hidden": false
        },
        "nteract": {
          "transient": {
            "deleting": false
          }
        },
        "gather": {
          "logged": 1628313697134
        }
      }
    },
    {
      "cell_type": "code",
      "source": [
        "actual_info_df.to_csv(\"data/user_profile/Actual_Customer_Info.csv\")"
      ],
      "outputs": [],
      "execution_count": 122,
      "metadata": {
        "collapsed": true,
        "jupyter": {
          "source_hidden": false,
          "outputs_hidden": false
        },
        "nteract": {
          "transient": {
            "deleting": false
          }
        },
        "gather": {
          "logged": 1628313023935
        }
      }
    },
    {
      "cell_type": "code",
      "source": [
        "state_changes_df = state_changes_df.drop(['PRODUCT_LABEL','CUSTOMER_REF','ACCOUNT_NUM' ,'PRODUCT_STATUS','PRODUCT_ID','START_DAT','END_DAT','PRODUCT_SEQ'], axis=1)\n",
        "state_changes_df.rename(columns={'PRODUCT_LABEL.hash': 'event_source.hash','PRODUCT_NAME':'VAS','EFFECTIVE_DTM':'Month_Subscribed'}, inplace=True)"
      ],
      "outputs": [],
      "execution_count": 146,
      "metadata": {
        "gather": {
          "logged": 1628313708816
        }
      }
    },
    {
      "cell_type": "code",
      "source": [
        "month_map = {\"Jan\":\"01\",\"Feb\":\"02\",\"Mar\":\"03\",\"Apr\":\"04\",\"May\":\"05\",\"Jun\":\"06\",\"Jul\":\"07\",\"Aug\":\"08\",\"Sep\":\"09\",\"Oct\":\"10\",\"Nov\":\"11\",\"Dec\":\"12\"}"
      ],
      "outputs": [],
      "execution_count": 147,
      "metadata": {
        "gather": {
          "logged": 1628313716664
        }
      }
    },
    {
      "cell_type": "code",
      "source": [
        "# Date correction\n",
        "def date_correct_psc(date):\n",
        "    date=str(date)\n",
        "    year=date[:4]\n",
        "    mnt_temp= date[5:8]\n",
        "    month=[v for k, v in month_map.items() if mnt_temp in k][0]\n",
        "    return f\"{year}-{month}\""
      ],
      "outputs": [],
      "execution_count": 148,
      "metadata": {
        "gather": {
          "logged": 1628313724000
        }
      }
    },
    {
      "cell_type": "code",
      "source": [
        "# check\n",
        "print(date_correct_psc('2019-Jul-01 00:00:00'))\n",
        "print(date_correct_psc('2019-May-10 11:55:26'))"
      ],
      "outputs": [
        {
          "output_type": "stream",
          "name": "stdout",
          "text": [
            "2019-07\n",
            "2019-05\n"
          ]
        }
      ],
      "execution_count": 149,
      "metadata": {
        "gather": {
          "logged": 1628313732064
        }
      }
    },
    {
      "cell_type": "code",
      "source": [
        "state_changes_df[\"Month_Subscribed\"]=state_changes_df[\"Month_Subscribed\"].apply(lambda x: date_correct_psc(x))"
      ],
      "outputs": [],
      "execution_count": 150,
      "metadata": {
        "gather": {
          "logged": 1628313739500
        }
      }
    },
    {
      "cell_type": "code",
      "source": [
        "state_changes_df = state_changes_df[[\"ACCOUNT_NUM.hash\",\"VAS\",\"Month_Subscribed\"]]\n",
        "state_changes_df"
      ],
      "outputs": [
        {
          "output_type": "execute_result",
          "execution_count": 151,
          "data": {
            "text/plain": "                      ACCOUNT_NUM.hash                           VAS  \\\n0     a4e4afaedb57f205bfeff624c39fe49d           V_Single VAS Bundle   \n1     9c802b6b329dc1e3ba6e6c655a21e65d     E_Referral offer Discount   \n2     1cf3f313f1060c69dfe814a0e8124f18            V_Absentee service   \n3     ce8d936fed762bfa12912fb18915b802             V_Hotline Service   \n4     a4e4afaedb57f205bfeff624c39fe49d  V_Caller Line Identification   \n...                                ...                           ...   \n3023  3030f90b7118e741f52dd8421a83145a          V_DQ Contact Details   \n3024  3030f90b7118e741f52dd8421a83145a                   AB_Megaline   \n3025  3030f90b7118e741f52dd8421a83145a           AB_Megaline Startup   \n3026  3030f90b7118e741f52dd8421a83145a                         V_IDD   \n3027  fbfdb60177fd5265eb5f0dc6a5f786a6             V_Call Forwarding   \n\n     Month_Subscribed  \n0             2019-06  \n1             2020-01  \n2             2019-10  \n3             2019-06  \n4             2019-06  \n...               ...  \n3023          2019-04  \n3024          2019-04  \n3025          2019-04  \n3026          2019-04  \n3027          2020-08  \n\n[3028 rows x 3 columns]",
            "text/html": "<div>\n<style scoped>\n    .dataframe tbody tr th:only-of-type {\n        vertical-align: middle;\n    }\n\n    .dataframe tbody tr th {\n        vertical-align: top;\n    }\n\n    .dataframe thead th {\n        text-align: right;\n    }\n</style>\n<table border=\"1\" class=\"dataframe\">\n  <thead>\n    <tr style=\"text-align: right;\">\n      <th></th>\n      <th>ACCOUNT_NUM.hash</th>\n      <th>VAS</th>\n      <th>Month_Subscribed</th>\n    </tr>\n  </thead>\n  <tbody>\n    <tr>\n      <th>0</th>\n      <td>a4e4afaedb57f205bfeff624c39fe49d</td>\n      <td>V_Single VAS Bundle</td>\n      <td>2019-06</td>\n    </tr>\n    <tr>\n      <th>1</th>\n      <td>9c802b6b329dc1e3ba6e6c655a21e65d</td>\n      <td>E_Referral offer Discount</td>\n      <td>2020-01</td>\n    </tr>\n    <tr>\n      <th>2</th>\n      <td>1cf3f313f1060c69dfe814a0e8124f18</td>\n      <td>V_Absentee service</td>\n      <td>2019-10</td>\n    </tr>\n    <tr>\n      <th>3</th>\n      <td>ce8d936fed762bfa12912fb18915b802</td>\n      <td>V_Hotline Service</td>\n      <td>2019-06</td>\n    </tr>\n    <tr>\n      <th>4</th>\n      <td>a4e4afaedb57f205bfeff624c39fe49d</td>\n      <td>V_Caller Line Identification</td>\n      <td>2019-06</td>\n    </tr>\n    <tr>\n      <th>...</th>\n      <td>...</td>\n      <td>...</td>\n      <td>...</td>\n    </tr>\n    <tr>\n      <th>3023</th>\n      <td>3030f90b7118e741f52dd8421a83145a</td>\n      <td>V_DQ Contact Details</td>\n      <td>2019-04</td>\n    </tr>\n    <tr>\n      <th>3024</th>\n      <td>3030f90b7118e741f52dd8421a83145a</td>\n      <td>AB_Megaline</td>\n      <td>2019-04</td>\n    </tr>\n    <tr>\n      <th>3025</th>\n      <td>3030f90b7118e741f52dd8421a83145a</td>\n      <td>AB_Megaline Startup</td>\n      <td>2019-04</td>\n    </tr>\n    <tr>\n      <th>3026</th>\n      <td>3030f90b7118e741f52dd8421a83145a</td>\n      <td>V_IDD</td>\n      <td>2019-04</td>\n    </tr>\n    <tr>\n      <th>3027</th>\n      <td>fbfdb60177fd5265eb5f0dc6a5f786a6</td>\n      <td>V_Call Forwarding</td>\n      <td>2020-08</td>\n    </tr>\n  </tbody>\n</table>\n<p>3028 rows × 3 columns</p>\n</div>"
          },
          "metadata": {}
        }
      ],
      "execution_count": 151,
      "metadata": {
        "gather": {
          "logged": 1628313757232
        }
      }
    },
    {
      "cell_type": "code",
      "source": [
        "len(state_changes_df[\"ACCOUNT_NUM.hash\"].unique())"
      ],
      "outputs": [
        {
          "output_type": "execute_result",
          "execution_count": 152,
          "data": {
            "text/plain": "414"
          },
          "metadata": {}
        }
      ],
      "execution_count": 152,
      "metadata": {
        "gather": {
          "logged": 1628313767236
        }
      }
    },
    {
      "cell_type": "markdown",
      "source": [
        "## VAS Dataframes Merging"
      ],
      "metadata": {}
    },
    {
      "cell_type": "code",
      "source": [
        "vas_common_df.info()"
      ],
      "outputs": [
        {
          "output_type": "stream",
          "name": "stdout",
          "text": [
            "<class 'pandas.core.frame.DataFrame'>\n",
            "RangeIndex: 31548 entries, 0 to 31547\n",
            "Data columns (total 5 columns):\n",
            "ACCOUNT_NUM.hash    31548 non-null object\n",
            "VAS                 31548 non-null object\n",
            "Month_Subscribed    31548 non-null object\n",
            "Rental              31548 non-null object\n",
            "One_Time_Charge     31548 non-null int64\n",
            "dtypes: int64(1), object(4)\n",
            "memory usage: 1.2+ MB\n"
          ]
        }
      ],
      "execution_count": 206,
      "metadata": {
        "collapsed": true,
        "jupyter": {
          "source_hidden": false,
          "outputs_hidden": false
        },
        "nteract": {
          "transient": {
            "deleting": false
          }
        },
        "gather": {
          "logged": 1628314804198
        }
      }
    },
    {
      "cell_type": "code",
      "source": [
        "len(vas_common_df[\"ACCOUNT_NUM.hash\"].unique())"
      ],
      "outputs": [
        {
          "output_type": "execute_result",
          "execution_count": 207,
          "data": {
            "text/plain": "30016"
          },
          "metadata": {}
        }
      ],
      "execution_count": 207,
      "metadata": {
        "collapsed": true,
        "jupyter": {
          "source_hidden": false,
          "outputs_hidden": false
        },
        "nteract": {
          "transient": {
            "deleting": false
          }
        },
        "gather": {
          "logged": 1628314871024
        }
      }
    },
    {
      "cell_type": "code",
      "source": [
        "vas_otc_df.info()"
      ],
      "outputs": [
        {
          "output_type": "stream",
          "name": "stdout",
          "text": [
            "<class 'pandas.core.frame.DataFrame'>\n",
            "RangeIndex: 1547 entries, 0 to 1546\n",
            "Data columns (total 5 columns):\n",
            "ACCOUNT_NUM.hash    1547 non-null object\n",
            "VAS                 1547 non-null object\n",
            "Month_Subscribed    1547 non-null object\n",
            "Rental              1547 non-null int64\n",
            "One_Time_Charge     1547 non-null int64\n",
            "dtypes: int64(2), object(3)\n",
            "memory usage: 60.6+ KB\n"
          ]
        }
      ],
      "execution_count": 204,
      "metadata": {
        "collapsed": true,
        "jupyter": {
          "source_hidden": false,
          "outputs_hidden": false
        },
        "nteract": {
          "transient": {
            "deleting": false
          }
        },
        "gather": {
          "logged": 1628314759712
        }
      }
    },
    {
      "cell_type": "code",
      "source": [
        "bb_vas_df.info()"
      ],
      "outputs": [
        {
          "output_type": "stream",
          "name": "stdout",
          "text": [
            "<class 'pandas.core.frame.DataFrame'>\n",
            "RangeIndex: 670 entries, 0 to 669\n",
            "Data columns (total 5 columns):\n",
            "ACCOUNT_NUM.hash    670 non-null object\n",
            "VAS                 670 non-null object\n",
            "Month_Subscribed    670 non-null object\n",
            "Rental              670 non-null float64\n",
            "One_Time_Charge     670 non-null int64\n",
            "dtypes: float64(1), int64(1), object(3)\n",
            "memory usage: 26.3+ KB\n"
          ]
        }
      ],
      "execution_count": 202,
      "metadata": {
        "collapsed": true,
        "jupyter": {
          "source_hidden": false,
          "outputs_hidden": false
        },
        "nteract": {
          "transient": {
            "deleting": false
          }
        },
        "gather": {
          "logged": 1628314638865
        }
      }
    },
    {
      "cell_type": "code",
      "source": [
        "vas_DWH_df.info()"
      ],
      "outputs": [
        {
          "output_type": "stream",
          "name": "stdout",
          "text": [
            "<class 'pandas.core.frame.DataFrame'>\n",
            "RangeIndex: 578 entries, 0 to 577\n",
            "Data columns (total 5 columns):\n",
            "ACCOUNT_NUM.hash    578 non-null object\n",
            "VAS                 578 non-null object\n",
            "Month_Subscribed    578 non-null object\n",
            "Rental              578 non-null int64\n",
            "One_Time_Charge     578 non-null int64\n",
            "dtypes: int64(2), object(3)\n",
            "memory usage: 22.7+ KB\n"
          ]
        }
      ],
      "execution_count": 209,
      "metadata": {
        "collapsed": true,
        "jupyter": {
          "source_hidden": false,
          "outputs_hidden": false
        },
        "nteract": {
          "transient": {
            "deleting": false
          }
        },
        "gather": {
          "logged": 1628314957223
        }
      }
    },
    {
      "cell_type": "code",
      "source": [
        "state_changes_df.info()"
      ],
      "outputs": [
        {
          "output_type": "stream",
          "name": "stdout",
          "text": [
            "<class 'pandas.core.frame.DataFrame'>\n",
            "RangeIndex: 3028 entries, 0 to 3027\n",
            "Data columns (total 5 columns):\n",
            "ACCOUNT_NUM.hash    3028 non-null object\n",
            "VAS                 3028 non-null object\n",
            "Month_Subscribed    3028 non-null object\n",
            "Rental              3028 non-null int64\n",
            "One_Time_Charge     3028 non-null int64\n",
            "dtypes: int64(2), object(3)\n",
            "memory usage: 118.4+ KB\n"
          ]
        }
      ],
      "execution_count": 220,
      "metadata": {
        "collapsed": true,
        "jupyter": {
          "source_hidden": false,
          "outputs_hidden": false
        },
        "nteract": {
          "transient": {
            "deleting": false
          }
        },
        "gather": {
          "logged": 1628315407619
        }
      }
    },
    {
      "cell_type": "code",
      "source": [
        "dss_vas_df.info()"
      ],
      "outputs": [
        {
          "output_type": "stream",
          "name": "stdout",
          "text": [
            "<class 'pandas.core.frame.DataFrame'>\n",
            "Int64Index: 55336 entries, 26825 to 33575\n",
            "Data columns (total 5 columns):\n",
            "ACCOUNT_NUM.hash    55336 non-null object\n",
            "VAS                 55335 non-null object\n",
            "Month_Subscribed    55336 non-null object\n",
            "Rental              8386 non-null float64\n",
            "One_Time_Charge     55336 non-null int64\n",
            "dtypes: float64(1), int64(1), object(3)\n",
            "memory usage: 2.5+ MB\n"
          ]
        }
      ],
      "execution_count": 212,
      "metadata": {
        "collapsed": true,
        "jupyter": {
          "source_hidden": false,
          "outputs_hidden": false
        },
        "nteract": {
          "transient": {
            "deleting": false
          }
        },
        "gather": {
          "logged": 1628315055769
        }
      }
    },
    {
      "cell_type": "code",
      "source": [
        "# Concat dataframes and merge by event_source.hash\n",
        "vas_final_df = pd.concat([vas_common_df, vas_otc_df, bb_vas_df, vas_DWH_df,state_changes_df,dss_vas_df], ignore_index=True)"
      ],
      "outputs": [],
      "execution_count": 221,
      "metadata": {
        "gather": {
          "logged": 1628315420593
        }
      }
    },
    {
      "cell_type": "code",
      "source": [
        "vas_final_df.drop_duplicates([\"ACCOUNT_NUM.hash\",\"VAS\",\"Month_Subscribed\"],inplace=True)"
      ],
      "outputs": [
        {
          "output_type": "execute_result",
          "execution_count": 223,
          "data": {
            "text/plain": "                       ACCOUNT_NUM.hash                      VAS  \\\n0      e112d7496d586689517a4e45b5f2fedf             V_Telehealth   \n1      8211688ed551c3ae41cd251ec79a7590             V_Telehealth   \n2      0febcc112d2da8fb15ae29af3e6b07e8             V_Telehealth   \n3      646a136484b965c0b4a1b18dfbb2c663             V_Telehealth   \n4      49e3fe21450d5993d23121d53942ab3b             V_Telehealth   \n...                                 ...                      ...   \n92702  ffd820977e139cbabf31dbeb5dcc1b23               BB_PeoTVGO   \n92703  ffdc36d4cc1fdd9f9d3da1e7bc4cd49e      V_SLT Voice Service   \n92704  ffdc36d4cc1fdd9f9d3da1e7bc4cd49e  AB_Copper Access Bearer   \n92705  ffe23c9ca4f023e7db09e002c8cf24d4  AB_Copper Access Bearer   \n92706  ffe23c9ca4f023e7db09e002c8cf24d4      V_SLT Voice Service   \n\n      Month_Subscribed Rental  One_Time_Charge  \n0              2019-10    100                0  \n1              2019-10    100                0  \n2              2020-02    100                0  \n3              2020-02    100                0  \n4              2020-02    100                0  \n...                ...    ...              ...  \n92702          2019-10    NaN                0  \n92703          2020-01    NaN                0  \n92704          2020-01    NaN                0  \n92705          2018-08    NaN                0  \n92706          2018-08    NaN                0  \n\n[50903 rows x 5 columns]",
            "text/html": "<div>\n<style scoped>\n    .dataframe tbody tr th:only-of-type {\n        vertical-align: middle;\n    }\n\n    .dataframe tbody tr th {\n        vertical-align: top;\n    }\n\n    .dataframe thead th {\n        text-align: right;\n    }\n</style>\n<table border=\"1\" class=\"dataframe\">\n  <thead>\n    <tr style=\"text-align: right;\">\n      <th></th>\n      <th>ACCOUNT_NUM.hash</th>\n      <th>VAS</th>\n      <th>Month_Subscribed</th>\n      <th>Rental</th>\n      <th>One_Time_Charge</th>\n    </tr>\n  </thead>\n  <tbody>\n    <tr>\n      <th>0</th>\n      <td>e112d7496d586689517a4e45b5f2fedf</td>\n      <td>V_Telehealth</td>\n      <td>2019-10</td>\n      <td>100</td>\n      <td>0</td>\n    </tr>\n    <tr>\n      <th>1</th>\n      <td>8211688ed551c3ae41cd251ec79a7590</td>\n      <td>V_Telehealth</td>\n      <td>2019-10</td>\n      <td>100</td>\n      <td>0</td>\n    </tr>\n    <tr>\n      <th>2</th>\n      <td>0febcc112d2da8fb15ae29af3e6b07e8</td>\n      <td>V_Telehealth</td>\n      <td>2020-02</td>\n      <td>100</td>\n      <td>0</td>\n    </tr>\n    <tr>\n      <th>3</th>\n      <td>646a136484b965c0b4a1b18dfbb2c663</td>\n      <td>V_Telehealth</td>\n      <td>2020-02</td>\n      <td>100</td>\n      <td>0</td>\n    </tr>\n    <tr>\n      <th>4</th>\n      <td>49e3fe21450d5993d23121d53942ab3b</td>\n      <td>V_Telehealth</td>\n      <td>2020-02</td>\n      <td>100</td>\n      <td>0</td>\n    </tr>\n    <tr>\n      <th>...</th>\n      <td>...</td>\n      <td>...</td>\n      <td>...</td>\n      <td>...</td>\n      <td>...</td>\n    </tr>\n    <tr>\n      <th>92702</th>\n      <td>ffd820977e139cbabf31dbeb5dcc1b23</td>\n      <td>BB_PeoTVGO</td>\n      <td>2019-10</td>\n      <td>NaN</td>\n      <td>0</td>\n    </tr>\n    <tr>\n      <th>92703</th>\n      <td>ffdc36d4cc1fdd9f9d3da1e7bc4cd49e</td>\n      <td>V_SLT Voice Service</td>\n      <td>2020-01</td>\n      <td>NaN</td>\n      <td>0</td>\n    </tr>\n    <tr>\n      <th>92704</th>\n      <td>ffdc36d4cc1fdd9f9d3da1e7bc4cd49e</td>\n      <td>AB_Copper Access Bearer</td>\n      <td>2020-01</td>\n      <td>NaN</td>\n      <td>0</td>\n    </tr>\n    <tr>\n      <th>92705</th>\n      <td>ffe23c9ca4f023e7db09e002c8cf24d4</td>\n      <td>AB_Copper Access Bearer</td>\n      <td>2018-08</td>\n      <td>NaN</td>\n      <td>0</td>\n    </tr>\n    <tr>\n      <th>92706</th>\n      <td>ffe23c9ca4f023e7db09e002c8cf24d4</td>\n      <td>V_SLT Voice Service</td>\n      <td>2018-08</td>\n      <td>NaN</td>\n      <td>0</td>\n    </tr>\n  </tbody>\n</table>\n<p>50903 rows × 5 columns</p>\n</div>"
          },
          "metadata": {}
        }
      ],
      "execution_count": 223,
      "metadata": {
        "collapsed": true,
        "jupyter": {
          "source_hidden": false,
          "outputs_hidden": false
        },
        "nteract": {
          "transient": {
            "deleting": false
          }
        },
        "gather": {
          "logged": 1628315516484
        }
      }
    },
    {
      "cell_type": "code",
      "source": [
        "vas_final_df.sort_values('Month_Subscribed',inplace=True)"
      ],
      "outputs": [],
      "execution_count": 214,
      "metadata": {
        "gather": {
          "logged": 1628315225672
        }
      }
    },
    {
      "cell_type": "code",
      "source": [
        "vas_final_df.reset_index(inplace=True)\n",
        "vas_final_df.drop([\"index\"],axis=1,inplace=True)"
      ],
      "outputs": [],
      "execution_count": 215,
      "metadata": {
        "gather": {
          "logged": 1628315232167
        }
      }
    },
    {
      "cell_type": "code",
      "source": [
        "vas_final_df = vas_final_df[vas_final_df['ACCOUNT_NUM.hash'].notna()]"
      ],
      "outputs": [],
      "execution_count": 216,
      "metadata": {
        "gather": {
          "logged": 1628315256606
        }
      }
    },
    {
      "cell_type": "code",
      "source": [
        "vas_final_df.info()"
      ],
      "outputs": [
        {
          "output_type": "stream",
          "name": "stdout",
          "text": [
            "<class 'pandas.core.frame.DataFrame'>\n",
            "RangeIndex: 92707 entries, 0 to 92706\n",
            "Data columns (total 5 columns):\n",
            "ACCOUNT_NUM.hash    92707 non-null object\n",
            "VAS                 92706 non-null object\n",
            "Month_Subscribed    92707 non-null object\n",
            "Rental              45757 non-null object\n",
            "One_Time_Charge     92707 non-null int64\n",
            "dtypes: int64(1), object(4)\n",
            "memory usage: 3.5+ MB\n"
          ]
        }
      ],
      "execution_count": 222,
      "metadata": {
        "gather": {
          "logged": 1628315434618
        }
      }
    },
    {
      "cell_type": "code",
      "source": [
        "len(vas_final_df[\"ACCOUNT_NUM.hash\"].unique())"
      ],
      "outputs": [
        {
          "output_type": "execute_result",
          "execution_count": 218,
          "data": {
            "text/plain": "32790"
          },
          "metadata": {}
        }
      ],
      "execution_count": 218,
      "metadata": {
        "gather": {
          "logged": 1628315274570
        }
      }
    },
    {
      "cell_type": "code",
      "source": [
        "vas_final_df[\"VAS\"].unique()"
      ],
      "outputs": [
        {
          "output_type": "execute_result",
          "execution_count": 104,
          "data": {
            "text/plain": "array(['P-Basic1_Tele Life', 'V-Plus4_TeleLife', 'V-Plus1_TeleLife',\n       'V-Basic1_TeleLife', 'V_Telehealth', 'P-Plus1_Tele Life',\n       'C-Basic1_Tele Life', 'V_SLT Voice Service', 'BB_PeoTVGO',\n       'AB_WireLess Access', 'V_Sisu Connect', 'BB_SLT BroadBand Service',\n       'BB_Personal Storage', 'P_Sisu Connect', 'P-Plus4_Tele Life',\n       'P-Basic2_Tele Life', 'C_Sisu Connect', 'V-Basic4_TeleLife',\n       'V-Basic2_TeleLife', 'BB_Detailed Reports ',\n       'AB_Fiber Access Bearer', 'E_SLT PeoTV Service',\n       'BB_ Entertainment Unlimited', 'BB_SLT Film Hall Service',\n       'AB_Copper Access Bearer', 'V_E-channeling Registration',\n       'OTT_SLT PeoTV Go', 'V_E-channeling Subscription',\n       'P-Basic4_Tele Life', 'Package Rental Through ADSL', 'AB_Megaline',\n       'AB_Citylink Loyalty Rewards', 'V_Double VAS Bundle', 'V_SLT CLI',\n       'AB_Relocation', 'V_Call Forwarding Offline',\n       'V_Anonymous call barring', 'V_Call back on busy',\n       'V_CLI presentation in call waiting', 'V_Incoming Call Memory',\n       'V_DQ Contact Details', 'V_IDD', 'E_Video on Demand', 'E_TSTV',\n       'V_Call Forwarding by time', 'V_Call park',\n       'V_Outgoing Call Memory', 'AB_Megaline Startup',\n       'V_Incoming Call Transfer', 'E_PeoTV_Package Transfer',\n       'V_Call holding', 'E_PeoTV Initiation',\n       'V_Call Transfer Three way', 'V_Single VAS Bundle',\n       'V_Call Forwarding-Immediate', 'V_Call Forwarding-On Busy',\n       'V_Call Waiting', 'V_Call Forwarding-No Answer',\n       'V_Call Forwarding', 'V_Absentee service',\n       'V_Call Forwarding - On Busy', 'V_Call Forwarding - No Answer',\n       'V_Abbreviated Dialing', 'V_Cordeless Phone - Installment',\n       'AB_Additional Distance', 'M_Activation Charge',\n       'V_Hotline Service', 'V_Hotline-Immediate',\n       'V_Short Message Service', 'V_Caller Line Identification',\n       'V_Hotline-Time Delayed', 'AB_Service Vacation', 'V_Detailed Bill',\n       'V_Railway Registration', 'V_Call Forwarding - Immediate',\n       'AB_Rental Free', 'PEO TV GO_OTT_A-la carte channels',\n       'P_Incoming Call Memory', 'P_Call Forwarding by time',\n       'P_CLI presentation in call waiting', 'P_Call park',\n       'P_Anonymous call barring', 'P_Call back on busy',\n       'P_Outgoing Call Memory', 'P_Call Forwarding Offline',\n       'P_Call holding', 'P_Call Transfer Three way',\n       'P_Incoming Call Transfer', 'P_Megaline New Connection',\n       'DQ_Contact Details', 'P_Megaline', 'P_SLT CLI', 'P_IDD',\n       'P_Additional features -Double VAS Bundle',\n       'V_One-Time Detailed Bill', 'V_Basic Phone Installment',\n       'V_Installment', 'AB_Referral offer Discount',\n       'V_Call Barring - Outgoing', 'BB_PeoTVGO Revenue code',\n       'PeoTVGo_Channel Package', 'BB_Report Subscription Charge',\n       'V_Referral offer Discount', 'E_Referral offer Discount',\n       'V_Call forwarding selective',\n       'V_Caller name identificationPresentation',\n       'V_Do not disturb service', 'V_Selective call waiting',\n       'V_Selective call acceptance', 'V_Secretary service',\n       'V_Password call barring (secret code)',\n       'V_Selective call rejection', 'V_Caller name sending',\n       'V_Complete call on no response', 'V_Triple VAS Bundle',\n       'V_Basic Phone', 'V_Miscellaneous Service', 'V_Voice Startup Fee',\n       'BB Personal Storage', 'V_Call Barring',\n       'P_One-Time Detailed Bill', 'P_Removal of Int & Parallel Ext',\n       'BB_YouTube Bundle', 'AB_Parallel line Installation', 'Meet Lite',\n       'Meet Max', 'Edu Lite', 'BB_Messenger Bundle', nan], dtype=object)"
          },
          "metadata": {}
        }
      ],
      "execution_count": 104,
      "metadata": {}
    },
    {
      "cell_type": "markdown",
      "source": [
        "### Free Packages"
      ],
      "metadata": {
        "nteract": {
          "transient": {
            "deleting": false
          }
        }
      }
    },
    {
      "cell_type": "code",
      "source": [
        "free_packages = [ 'V_Call Forwarding Offline','V_SLT Voice Service',\n",
        "       'V_Anonymous call barring', 'V_Call back on busy',\n",
        "       'V_CLI presentation in call waiting', 'V_Incoming Call Memory',\n",
        "       'V_DQ Contact Details', \n",
        "       'V_Call Forwarding by time', \n",
        "       'V_Outgoing Call Memory', \n",
        "       'V_Incoming Call Transfer', \n",
        "       'V_Call holding', 'E_PeoTV Initiation',\n",
        "       'V_Call Transfer Three way',\n",
        "       'V_Call Forwarding-Immediate', 'V_Call Forwarding-On Busy',\n",
        "       'V_Call Waiting', 'V_Call Forwarding-No Answer',\n",
        "       'V_Call Forwarding', 'V_Absentee service',\n",
        "       'V_Call Forwarding - On Busy', 'V_Call Forwarding - No Answer',\n",
        "       'V_Abbreviated Dialing', 'P_Incoming Call Memory', 'P_Call Forwarding by time',\n",
        "       'P_CLI presentation in call waiting', \n",
        "       'P_Anonymous call barring', 'P_Call back on busy',\n",
        "       'P_Outgoing Call Memory', 'P_Call Forwarding Offline',\n",
        "       'P_Call holding', 'P_Call Transfer Three way',\n",
        "       'P_Incoming Call Transfer', \n",
        "       'DQ_Contact Details', 'P_SLT CLI',\n",
        "       'V_Call Barring - Outgoing']"
      ],
      "outputs": [],
      "execution_count": 105,
      "metadata": {}
    },
    {
      "cell_type": "code",
      "source": [
        "def keyword_vas(vas, kw):\n",
        "    if kw in vas:\n",
        "        return \"YES\""
      ],
      "outputs": [],
      "execution_count": 106,
      "metadata": {}
    },
    {
      "cell_type": "code",
      "source": [
        "def vas_bucketizer(vas):\n",
        "    if not isinstance(vas, float):\n",
        "        for pack in free_packages:\n",
        "            if vas in pack:\n",
        "                return \"FREE\"\n",
        "        if \"V_\" in vas or \"V-\" in vas:\n",
        "            category=\"Voice\"\n",
        "        elif \"Peo\" in vas or \"PEO\" in vas or \"E_Video on Demand\" in vas:\n",
        "            category=\"PeoTV\"\n",
        "        elif \"BB\" in vas:\n",
        "            category=\"BB\"\n",
        "        else:\n",
        "            category=\"Other\"\n",
        "        return category"
      ],
      "outputs": [],
      "execution_count": 108,
      "metadata": {}
    },
    {
      "cell_type": "code",
      "source": [
        "vas_final_df[\"Package_Type\"]=vas_final_df[\"VAS\"].apply(lambda x: vas_bucketizer(x))"
      ],
      "outputs": [],
      "execution_count": 109,
      "metadata": {}
    },
    {
      "cell_type": "code",
      "source": [
        "vas_final_df[\"is_Megaline_Package\"] = vas_final_df[\"VAS\"].apply(lambda x: keyword_vas(x,\"Megaline\"))"
      ],
      "outputs": [],
      "execution_count": null,
      "metadata": {
        "collapsed": true,
        "jupyter": {
          "source_hidden": false,
          "outputs_hidden": false
        },
        "nteract": {
          "transient": {
            "deleting": false
          }
        }
      }
    },
    {
      "cell_type": "code",
      "source": [
        "vas_final_df[\"is_FTTH_Package\"] = vas_final_df[\"VAS\"].apply(lambda x: keyword_vas(x,\"FTTH\"))"
      ],
      "outputs": [],
      "execution_count": null,
      "metadata": {
        "collapsed": true,
        "jupyter": {
          "source_hidden": false,
          "outputs_hidden": false
        },
        "nteract": {
          "transient": {
            "deleting": false
          }
        }
      }
    },
    {
      "cell_type": "code",
      "source": [
        "## is VAS?"
      ],
      "outputs": [],
      "execution_count": null,
      "metadata": {
        "collapsed": true,
        "jupyter": {
          "source_hidden": false,
          "outputs_hidden": false
        },
        "nteract": {
          "transient": {
            "deleting": false
          }
        }
      }
    },
    {
      "cell_type": "code",
      "source": [
        "## is LTE?"
      ],
      "outputs": [],
      "execution_count": null,
      "metadata": {
        "collapsed": true,
        "jupyter": {
          "source_hidden": false,
          "outputs_hidden": false
        },
        "nteract": {
          "transient": {
            "deleting": false
          }
        }
      }
    },
    {
      "cell_type": "code",
      "source": [
        "vas_final_df.rename(columns={\"VAS\":\"Package\"},inplace=True)"
      ],
      "outputs": [],
      "execution_count": null,
      "metadata": {
        "collapsed": true,
        "jupyter": {
          "source_hidden": false,
          "outputs_hidden": false
        },
        "nteract": {
          "transient": {
            "deleting": false
          }
        }
      }
    },
    {
      "cell_type": "code",
      "source": [
        "vas_final_df.info()"
      ],
      "outputs": [
        {
          "output_type": "stream",
          "name": "stdout",
          "text": [
            "<class 'pandas.core.frame.DataFrame'>\n",
            "Int64Index: 569336 entries, 0 to 599917\n",
            "Data columns (total 8 columns):\n",
            " #   Column             Non-Null Count   Dtype  \n",
            "---  ------             --------------   -----  \n",
            " 0   event_source.hash  569336 non-null  object \n",
            " 1   ACCOUNT_NUM.hash   569336 non-null  object \n",
            " 2   CUSTOMER_REF.hash  569336 non-null  object \n",
            " 3   VAS                569336 non-null  object \n",
            " 4   Month_Subscribed   569336 non-null  object \n",
            " 5   Rental             468621 non-null  object \n",
            " 6   One_Time_Charge    50738 non-null   float64\n",
            " 7   VAS_Type           569336 non-null  object \n",
            "dtypes: float64(1), object(7)\n",
            "memory usage: 39.1+ MB\n"
          ]
        }
      ],
      "execution_count": 111,
      "metadata": {}
    },
    {
      "cell_type": "code",
      "source": [
        "vas_final_df[\"Package_Type\"].value_counts()"
      ],
      "outputs": [
        {
          "output_type": "execute_result",
          "execution_count": 112,
          "data": {
            "text/plain": "BB       443277\nOther     85199\nFREE      20963\nPeoTV     14478\nVoice      5419\nName: VAS_Type, dtype: int64"
          },
          "metadata": {}
        }
      ],
      "execution_count": 112,
      "metadata": {}
    },
    {
      "cell_type": "code",
      "source": [
        "new_df = vas_final_df[[\"Package\",\"Package_Type\"]].value_counts()"
      ],
      "outputs": [],
      "execution_count": 113,
      "metadata": {
        "scrolled": true
      }
    },
    {
      "cell_type": "code",
      "source": [
        "new_df.to_csv(\"data/product_catalog/user_counts_on_Package.csv\")"
      ],
      "outputs": [],
      "execution_count": 114,
      "metadata": {}
    },
    {
      "cell_type": "code",
      "source": [
        "vas_final_df.to_csv(\"data/user_profile/Package_Final_list.csv\")"
      ],
      "outputs": [],
      "execution_count": 115,
      "metadata": {}
    },
    {
      "cell_type": "markdown",
      "source": [
        "## PeoTV Extra Channel Purchase Analysis"
      ],
      "metadata": {}
    },
    {
      "cell_type": "code",
      "source": [
        "vas_final_df.info()"
      ],
      "outputs": [
        {
          "output_type": "stream",
          "name": "stdout",
          "text": [
            "<class 'pandas.core.frame.DataFrame'>\n",
            "Int64Index: 119046 entries, 4 to 599917\n",
            "Data columns (total 8 columns):\n",
            " #   Column             Non-Null Count   Dtype  \n",
            "---  ------             --------------   -----  \n",
            " 0   event_source.hash  119046 non-null  object \n",
            " 1   ACCOUNT_NUM.hash   119046 non-null  object \n",
            " 2   CUSTOMER_REF.hash  119046 non-null  object \n",
            " 3   VAS                119046 non-null  object \n",
            " 4   Month_Subscribed   119046 non-null  object \n",
            " 5   Rental             119046 non-null  object \n",
            " 6   One_Time_Charge    119046 non-null  float64\n",
            " 7   VAS_Type           119046 non-null  object \n",
            "dtypes: float64(1), object(7)\n",
            "memory usage: 8.2+ MB\n"
          ]
        }
      ],
      "execution_count": 172,
      "metadata": {}
    },
    {
      "cell_type": "code",
      "source": [
        "vas_final_df[(vas_final_df[\"VAS_Type\"] == \"PeoTV\")][\"VAS\"].unique()"
      ],
      "outputs": [
        {
          "output_type": "execute_result",
          "execution_count": 171,
          "data": {
            "text/plain": "array(['BB_PeoTVGO', 'E_SLT PeoTV Service', 'OTT_SLT PeoTV Go',\n       'E_Video on Demand', 'PEO TV GO_OTT_A-la carte channels',\n       'BB_PeoTVGO Revenue code', 'PeoTVGo_Channel Package'], dtype=object)"
          },
          "metadata": {}
        }
      ],
      "execution_count": 171,
      "metadata": {}
    },
    {
      "cell_type": "code",
      "source": [
        "extra_Peo_df= vas_final_df[(vas_final_df[\"VAS\"]==\"PEO TV GO_OTT_A-la carte channels\")]\n",
        "extra_Peo_df.reset_index(inplace=True)\n",
        "extra_Peo_df.drop([\"index\"],axis=1,inplace=True)"
      ],
      "outputs": [
        {
          "output_type": "stream",
          "name": "stderr",
          "text": [
            "/home/chiran/anaconda3/lib/python3.8/site-packages/pandas/core/frame.py:4163: SettingWithCopyWarning: \n",
            "A value is trying to be set on a copy of a slice from a DataFrame\n",
            "\n",
            "See the caveats in the documentation: https://pandas.pydata.org/pandas-docs/stable/user_guide/indexing.html#returning-a-view-versus-a-copy\n",
            "  return super().drop(\n"
          ]
        }
      ],
      "execution_count": 179,
      "metadata": {}
    },
    {
      "cell_type": "code",
      "source": [
        "extra_Peo_df= extra_Peo_df[[\"event_source.hash\",\"ACCOUNT_NUM.hash\",\"CUSTOMER_REF.hash\",\"VAS\",\"Month_Subscribed\",\"Rental\"]]"
      ],
      "outputs": [],
      "execution_count": 180,
      "metadata": {}
    },
    {
      "cell_type": "code",
      "source": [
        "extra_Peo_df"
      ],
      "outputs": [
        {
          "output_type": "execute_result",
          "execution_count": 181,
          "data": {
            "text/html": "<div>\n<style scoped>\n    .dataframe tbody tr th:only-of-type {\n        vertical-align: middle;\n    }\n\n    .dataframe tbody tr th {\n        vertical-align: top;\n    }\n\n    .dataframe thead th {\n        text-align: right;\n    }\n</style>\n<table border=\"1\" class=\"dataframe\">\n  <thead>\n    <tr style=\"text-align: right;\">\n      <th></th>\n      <th>event_source.hash</th>\n      <th>ACCOUNT_NUM.hash</th>\n      <th>CUSTOMER_REF.hash</th>\n      <th>VAS</th>\n      <th>Month_Subscribed</th>\n      <th>Rental</th>\n    </tr>\n  </thead>\n  <tbody>\n    <tr>\n      <th>0</th>\n      <td>4a475b16493e3774d09eaf35ff514b97</td>\n      <td>90a7ca76033cf7fc3c3cb906f45c401c</td>\n      <td>df87723b07904aa3d7d31f5db24a4ec5</td>\n      <td>PEO TV GO_OTT_A-la carte channels</td>\n      <td>2019-07</td>\n      <td>100</td>\n    </tr>\n    <tr>\n      <th>1</th>\n      <td>6855c205e233785169e583bb50f9df0d</td>\n      <td>d0bd2c4614c24ce48b7fc09ff42eb002</td>\n      <td>b860f131ec0487bb52762524e4e8d38f</td>\n      <td>PEO TV GO_OTT_A-la carte channels</td>\n      <td>2019-08</td>\n      <td>100</td>\n    </tr>\n    <tr>\n      <th>2</th>\n      <td>9ade52133c7343e3f9a366c4c3e22bd8</td>\n      <td>6184e258fc549e12c235a2bc10ae297e</td>\n      <td>e87131d1793ae521c155b1a8ef40772d</td>\n      <td>PEO TV GO_OTT_A-la carte channels</td>\n      <td>2019-09</td>\n      <td>100</td>\n    </tr>\n    <tr>\n      <th>3</th>\n      <td>104dced91aa603c85945df73e2178d36</td>\n      <td>6184e258fc549e12c235a2bc10ae297e</td>\n      <td>e87131d1793ae521c155b1a8ef40772d</td>\n      <td>PEO TV GO_OTT_A-la carte channels</td>\n      <td>2019-09</td>\n      <td>100</td>\n    </tr>\n    <tr>\n      <th>4</th>\n      <td>ae3f41b44a487097f2ca7e711897e866</td>\n      <td>2e0841c32915addc312ba3b08314593e</td>\n      <td>7feaa76fc16a36615f6c731844564230</td>\n      <td>PEO TV GO_OTT_A-la carte channels</td>\n      <td>2019-10</td>\n      <td>100</td>\n    </tr>\n    <tr>\n      <th>...</th>\n      <td>...</td>\n      <td>...</td>\n      <td>...</td>\n      <td>...</td>\n      <td>...</td>\n      <td>...</td>\n    </tr>\n    <tr>\n      <th>1939</th>\n      <td>a046e63c7b39272c6d7af975a1e6772d</td>\n      <td>daa74e4f9afbb374acc64969fe778808</td>\n      <td>dffc1c556d835833616d2e57b50ed4b2</td>\n      <td>PEO TV GO_OTT_A-la carte channels</td>\n      <td>2020-08</td>\n      <td>100</td>\n    </tr>\n    <tr>\n      <th>1940</th>\n      <td>a2d5562b3cf68b7b58c4e41f76d8c913</td>\n      <td>daa74e4f9afbb374acc64969fe778808</td>\n      <td>dffc1c556d835833616d2e57b50ed4b2</td>\n      <td>PEO TV GO_OTT_A-la carte channels</td>\n      <td>2020-08</td>\n      <td>100</td>\n    </tr>\n    <tr>\n      <th>1941</th>\n      <td>140ba2d97ebac8759b150e6c8b6b1ea1</td>\n      <td>daa74e4f9afbb374acc64969fe778808</td>\n      <td>dffc1c556d835833616d2e57b50ed4b2</td>\n      <td>PEO TV GO_OTT_A-la carte channels</td>\n      <td>2020-08</td>\n      <td>100</td>\n    </tr>\n    <tr>\n      <th>1942</th>\n      <td>6feddfddbf00d72a5d55d64c668fedc1</td>\n      <td>daa74e4f9afbb374acc64969fe778808</td>\n      <td>dffc1c556d835833616d2e57b50ed4b2</td>\n      <td>PEO TV GO_OTT_A-la carte channels</td>\n      <td>2020-08</td>\n      <td>100</td>\n    </tr>\n    <tr>\n      <th>1943</th>\n      <td>461c0ad3fc56e42578d27ad89bfba5c5</td>\n      <td>daa74e4f9afbb374acc64969fe778808</td>\n      <td>dffc1c556d835833616d2e57b50ed4b2</td>\n      <td>PEO TV GO_OTT_A-la carte channels</td>\n      <td>2020-08</td>\n      <td>100</td>\n    </tr>\n  </tbody>\n</table>\n<p>1944 rows × 6 columns</p>\n</div>",
            "text/plain": "                     event_source.hash                  ACCOUNT_NUM.hash  \\\n0     4a475b16493e3774d09eaf35ff514b97  90a7ca76033cf7fc3c3cb906f45c401c   \n1     6855c205e233785169e583bb50f9df0d  d0bd2c4614c24ce48b7fc09ff42eb002   \n2     9ade52133c7343e3f9a366c4c3e22bd8  6184e258fc549e12c235a2bc10ae297e   \n3     104dced91aa603c85945df73e2178d36  6184e258fc549e12c235a2bc10ae297e   \n4     ae3f41b44a487097f2ca7e711897e866  2e0841c32915addc312ba3b08314593e   \n...                                ...                               ...   \n1939  a046e63c7b39272c6d7af975a1e6772d  daa74e4f9afbb374acc64969fe778808   \n1940  a2d5562b3cf68b7b58c4e41f76d8c913  daa74e4f9afbb374acc64969fe778808   \n1941  140ba2d97ebac8759b150e6c8b6b1ea1  daa74e4f9afbb374acc64969fe778808   \n1942  6feddfddbf00d72a5d55d64c668fedc1  daa74e4f9afbb374acc64969fe778808   \n1943  461c0ad3fc56e42578d27ad89bfba5c5  daa74e4f9afbb374acc64969fe778808   \n\n                     CUSTOMER_REF.hash                                VAS  \\\n0     df87723b07904aa3d7d31f5db24a4ec5  PEO TV GO_OTT_A-la carte channels   \n1     b860f131ec0487bb52762524e4e8d38f  PEO TV GO_OTT_A-la carte channels   \n2     e87131d1793ae521c155b1a8ef40772d  PEO TV GO_OTT_A-la carte channels   \n3     e87131d1793ae521c155b1a8ef40772d  PEO TV GO_OTT_A-la carte channels   \n4     7feaa76fc16a36615f6c731844564230  PEO TV GO_OTT_A-la carte channels   \n...                                ...                                ...   \n1939  dffc1c556d835833616d2e57b50ed4b2  PEO TV GO_OTT_A-la carte channels   \n1940  dffc1c556d835833616d2e57b50ed4b2  PEO TV GO_OTT_A-la carte channels   \n1941  dffc1c556d835833616d2e57b50ed4b2  PEO TV GO_OTT_A-la carte channels   \n1942  dffc1c556d835833616d2e57b50ed4b2  PEO TV GO_OTT_A-la carte channels   \n1943  dffc1c556d835833616d2e57b50ed4b2  PEO TV GO_OTT_A-la carte channels   \n\n     Month_Subscribed Rental  \n0             2019-07    100  \n1             2019-08    100  \n2             2019-09    100  \n3             2019-09    100  \n4             2019-10    100  \n...               ...    ...  \n1939          2020-08    100  \n1940          2020-08    100  \n1941          2020-08    100  \n1942          2020-08    100  \n1943          2020-08    100  \n\n[1944 rows x 6 columns]"
          },
          "metadata": {}
        }
      ],
      "execution_count": 181,
      "metadata": {}
    },
    {
      "cell_type": "code",
      "source": [
        "extra_Peo_df[\"Month_Subscribed\"].unique()"
      ],
      "outputs": [
        {
          "output_type": "execute_result",
          "execution_count": 182,
          "data": {
            "text/plain": "array(['2019-07', '2019-08', '2019-09', '2019-10', '2019-11', '2019-12',\n       '2020-06', '2020-08'], dtype=object)"
          },
          "metadata": {}
        }
      ],
      "execution_count": 182,
      "metadata": {}
    },
    {
      "cell_type": "code",
      "source": [
        "len(extra_Peo_df[\"event_source.hash\"].unique())"
      ],
      "outputs": [
        {
          "output_type": "execute_result",
          "execution_count": 183,
          "data": {
            "text/plain": "1944"
          },
          "metadata": {}
        }
      ],
      "execution_count": 183,
      "metadata": {}
    },
    {
      "cell_type": "markdown",
      "source": [
        "#### Extra GB Usage pivot matrix"
      ],
      "metadata": {}
    },
    {
      "cell_type": "code",
      "source": [
        "extra_Peo_pivot_df = pd.pivot_table(extra_Peo_df[[\"event_source.hash\",\"Month_Subscribed\",\"Rental\"]],index=['event_source.hash'],columns=['Month_Subscribed'], aggfunc=np.sum, fill_value=0)"
      ],
      "outputs": [],
      "execution_count": 184,
      "metadata": {}
    },
    {
      "cell_type": "code",
      "source": [
        "extra_Peo_pivot_df"
      ],
      "outputs": [
        {
          "output_type": "execute_result",
          "execution_count": 185,
          "data": {
            "text/html": "<div>\n<style scoped>\n    .dataframe tbody tr th:only-of-type {\n        vertical-align: middle;\n    }\n\n    .dataframe tbody tr th {\n        vertical-align: top;\n    }\n\n    .dataframe thead tr th {\n        text-align: left;\n    }\n\n    .dataframe thead tr:last-of-type th {\n        text-align: right;\n    }\n</style>\n<table border=\"1\" class=\"dataframe\">\n  <thead>\n    <tr>\n      <th></th>\n      <th colspan=\"8\" halign=\"left\">Rental</th>\n    </tr>\n    <tr>\n      <th>Month_Subscribed</th>\n      <th>2019-07</th>\n      <th>2019-08</th>\n      <th>2019-09</th>\n      <th>2019-10</th>\n      <th>2019-11</th>\n      <th>2019-12</th>\n      <th>2020-06</th>\n      <th>2020-08</th>\n    </tr>\n    <tr>\n      <th>event_source.hash</th>\n      <th></th>\n      <th></th>\n      <th></th>\n      <th></th>\n      <th></th>\n      <th></th>\n      <th></th>\n      <th></th>\n    </tr>\n  </thead>\n  <tbody>\n    <tr>\n      <th>0014bcaff40182200be0e062cf9051cd</th>\n      <td>0</td>\n      <td>0</td>\n      <td>0</td>\n      <td>0</td>\n      <td>0</td>\n      <td>0</td>\n      <td>0</td>\n      <td>100</td>\n    </tr>\n    <tr>\n      <th>0020f63be24f2eae231f5530ef3cf0d2</th>\n      <td>0</td>\n      <td>0</td>\n      <td>0</td>\n      <td>0</td>\n      <td>0</td>\n      <td>0</td>\n      <td>0</td>\n      <td>100</td>\n    </tr>\n    <tr>\n      <th>003de40503f12be04b110634ef7cdb61</th>\n      <td>0</td>\n      <td>0</td>\n      <td>0</td>\n      <td>0</td>\n      <td>0</td>\n      <td>0</td>\n      <td>0</td>\n      <td>100</td>\n    </tr>\n    <tr>\n      <th>005de991f47be96f65b894564c00ed14</th>\n      <td>0</td>\n      <td>0</td>\n      <td>0</td>\n      <td>0</td>\n      <td>0</td>\n      <td>0</td>\n      <td>0</td>\n      <td>100</td>\n    </tr>\n    <tr>\n      <th>00802d4fd104229876956f33cc994aa4</th>\n      <td>0</td>\n      <td>0</td>\n      <td>0</td>\n      <td>0</td>\n      <td>0</td>\n      <td>0</td>\n      <td>0</td>\n      <td>100</td>\n    </tr>\n    <tr>\n      <th>...</th>\n      <td>...</td>\n      <td>...</td>\n      <td>...</td>\n      <td>...</td>\n      <td>...</td>\n      <td>...</td>\n      <td>...</td>\n      <td>...</td>\n    </tr>\n    <tr>\n      <th>ff8a4db1e6b4e55b5248badbcd71a772</th>\n      <td>0</td>\n      <td>0</td>\n      <td>0</td>\n      <td>0</td>\n      <td>0</td>\n      <td>0</td>\n      <td>0</td>\n      <td>100</td>\n    </tr>\n    <tr>\n      <th>ff8f6ab5f339819b046514630a89b4d9</th>\n      <td>0</td>\n      <td>0</td>\n      <td>0</td>\n      <td>0</td>\n      <td>0</td>\n      <td>0</td>\n      <td>0</td>\n      <td>100</td>\n    </tr>\n    <tr>\n      <th>ff96fe17e185cd4c05bec76f14fa8672</th>\n      <td>0</td>\n      <td>0</td>\n      <td>0</td>\n      <td>0</td>\n      <td>0</td>\n      <td>0</td>\n      <td>0</td>\n      <td>100</td>\n    </tr>\n    <tr>\n      <th>ffc01f977549ca288434079c9ca424ad</th>\n      <td>0</td>\n      <td>0</td>\n      <td>0</td>\n      <td>0</td>\n      <td>0</td>\n      <td>0</td>\n      <td>0</td>\n      <td>100</td>\n    </tr>\n    <tr>\n      <th>ffff41a457d4ad9618d788bdd917e4ce</th>\n      <td>0</td>\n      <td>0</td>\n      <td>0</td>\n      <td>0</td>\n      <td>0</td>\n      <td>0</td>\n      <td>0</td>\n      <td>100</td>\n    </tr>\n  </tbody>\n</table>\n<p>1944 rows × 8 columns</p>\n</div>",
            "text/plain": "                                  Rental                                  \\\nMonth_Subscribed                 2019-07 2019-08 2019-09 2019-10 2019-11   \nevent_source.hash                                                          \n0014bcaff40182200be0e062cf9051cd       0       0       0       0       0   \n0020f63be24f2eae231f5530ef3cf0d2       0       0       0       0       0   \n003de40503f12be04b110634ef7cdb61       0       0       0       0       0   \n005de991f47be96f65b894564c00ed14       0       0       0       0       0   \n00802d4fd104229876956f33cc994aa4       0       0       0       0       0   \n...                                  ...     ...     ...     ...     ...   \nff8a4db1e6b4e55b5248badbcd71a772       0       0       0       0       0   \nff8f6ab5f339819b046514630a89b4d9       0       0       0       0       0   \nff96fe17e185cd4c05bec76f14fa8672       0       0       0       0       0   \nffc01f977549ca288434079c9ca424ad       0       0       0       0       0   \nffff41a457d4ad9618d788bdd917e4ce       0       0       0       0       0   \n\n                                                          \nMonth_Subscribed                 2019-12 2020-06 2020-08  \nevent_source.hash                                         \n0014bcaff40182200be0e062cf9051cd       0       0     100  \n0020f63be24f2eae231f5530ef3cf0d2       0       0     100  \n003de40503f12be04b110634ef7cdb61       0       0     100  \n005de991f47be96f65b894564c00ed14       0       0     100  \n00802d4fd104229876956f33cc994aa4       0       0     100  \n...                                  ...     ...     ...  \nff8a4db1e6b4e55b5248badbcd71a772       0       0     100  \nff8f6ab5f339819b046514630a89b4d9       0       0     100  \nff96fe17e185cd4c05bec76f14fa8672       0       0     100  \nffc01f977549ca288434079c9ca424ad       0       0     100  \nffff41a457d4ad9618d788bdd917e4ce       0       0     100  \n\n[1944 rows x 8 columns]"
          },
          "metadata": {}
        }
      ],
      "execution_count": 185,
      "metadata": {}
    },
    {
      "cell_type": "code",
      "source": [
        "extra_Peo_pivot_df.to_csv(\"data/user_profile/BB_extra_Peo_usage_pivot_extended.csv\")"
      ],
      "outputs": [],
      "execution_count": 186,
      "metadata": {}
    },
    {
      "cell_type": "markdown",
      "source": [
        "#### Insights\n",
        "- 1955 Unique customers - extra Channel purchases in moths vary from 2019-07 to 2020-08\n",
        "- No all monthly purchase information\n",
        "- Users have interacted only once. Therfore not possible to extract a rating"
      ],
      "metadata": {}
    },
    {
      "cell_type": "code",
      "source": [],
      "outputs": [],
      "execution_count": null,
      "metadata": {}
    },
    {
      "cell_type": "markdown",
      "source": [
        "## Exporting VAS names list"
      ],
      "metadata": {}
    },
    {
      "cell_type": "code",
      "source": [
        "vas_list = vas_final_df['VAS'].unique()\n",
        "vas_list_df = pd.DataFrame({\"VAS\":vas_list })\n",
        "vas_list_df"
      ],
      "outputs": [
        {
          "output_type": "execute_result",
          "execution_count": 120,
          "data": {
            "text/html": "<div>\n<style scoped>\n    .dataframe tbody tr th:only-of-type {\n        vertical-align: middle;\n    }\n\n    .dataframe tbody tr th {\n        vertical-align: top;\n    }\n\n    .dataframe thead th {\n        text-align: right;\n    }\n</style>\n<table border=\"1\" class=\"dataframe\">\n  <thead>\n    <tr style=\"text-align: right;\">\n      <th></th>\n      <th>VAS</th>\n    </tr>\n  </thead>\n  <tbody>\n    <tr>\n      <th>0</th>\n      <td>P-Basic1_Tele Life</td>\n    </tr>\n    <tr>\n      <th>1</th>\n      <td>V-Plus4_TeleLife</td>\n    </tr>\n    <tr>\n      <th>2</th>\n      <td>V-Plus1_TeleLife</td>\n    </tr>\n    <tr>\n      <th>3</th>\n      <td>V-Basic1_TeleLife</td>\n    </tr>\n    <tr>\n      <th>4</th>\n      <td>V_Telehealth</td>\n    </tr>\n    <tr>\n      <th>...</th>\n      <td>...</td>\n    </tr>\n    <tr>\n      <th>123</th>\n      <td>AB_Parallel line Installation</td>\n    </tr>\n    <tr>\n      <th>124</th>\n      <td>Meet Lite</td>\n    </tr>\n    <tr>\n      <th>125</th>\n      <td>Meet Max</td>\n    </tr>\n    <tr>\n      <th>126</th>\n      <td>Edu Lite</td>\n    </tr>\n    <tr>\n      <th>127</th>\n      <td>BB_Messenger Bundle</td>\n    </tr>\n  </tbody>\n</table>\n<p>128 rows × 1 columns</p>\n</div>",
            "text/plain": "                               VAS\n0               P-Basic1_Tele Life\n1                 V-Plus4_TeleLife\n2                 V-Plus1_TeleLife\n3                V-Basic1_TeleLife\n4                     V_Telehealth\n..                             ...\n123  AB_Parallel line Installation\n124                      Meet Lite\n125                       Meet Max\n126                       Edu Lite\n127            BB_Messenger Bundle\n\n[128 rows x 1 columns]"
          },
          "metadata": {}
        }
      ],
      "execution_count": 120,
      "metadata": {}
    },
    {
      "cell_type": "code",
      "source": [
        "vas_list_df.to_csv(\"data/product_catalog/VAS_Names_Only_List.csv\")"
      ],
      "outputs": [],
      "execution_count": 121,
      "metadata": {}
    },
    {
      "cell_type": "code",
      "source": [],
      "outputs": [],
      "execution_count": null,
      "metadata": {}
    },
    {
      "cell_type": "markdown",
      "source": [
        "## Exporting Vas info Dataset"
      ],
      "metadata": {}
    },
    {
      "cell_type": "code",
      "source": [
        "vas_info_df = vas_final_df[[\"VAS\",\"Rental\",\"One_Time_Charge\",\"VAS_Type\"]].drop_duplicates([\"VAS\"],keep=\"last\")"
      ],
      "outputs": [],
      "execution_count": 122,
      "metadata": {}
    },
    {
      "cell_type": "code",
      "source": [
        "vas_info_df.reset_index(inplace=True)"
      ],
      "outputs": [],
      "execution_count": 123,
      "metadata": {}
    },
    {
      "cell_type": "code",
      "source": [
        "vas_info_df.drop([\"index\"],axis=1, inplace=True)"
      ],
      "outputs": [],
      "execution_count": 124,
      "metadata": {}
    },
    {
      "cell_type": "code",
      "source": [
        "vas_info_df.info()"
      ],
      "outputs": [
        {
          "output_type": "stream",
          "name": "stdout",
          "text": [
            "<class 'pandas.core.frame.DataFrame'>\n",
            "RangeIndex: 128 entries, 0 to 127\n",
            "Data columns (total 4 columns):\n",
            " #   Column           Non-Null Count  Dtype  \n",
            "---  ------           --------------  -----  \n",
            " 0   VAS              128 non-null    object \n",
            " 1   Rental           25 non-null     object \n",
            " 2   One_Time_Charge  3 non-null      float64\n",
            " 3   VAS_Type         128 non-null    object \n",
            "dtypes: float64(1), object(3)\n",
            "memory usage: 4.1+ KB\n"
          ]
        }
      ],
      "execution_count": 125,
      "metadata": {}
    },
    {
      "cell_type": "code",
      "source": [
        "vas_info_df.to_csv(\"data/product_catalog/VAS_Products_Info.csv\")"
      ],
      "outputs": [],
      "execution_count": 126,
      "metadata": {}
    },
    {
      "cell_type": "code",
      "source": [],
      "outputs": [],
      "execution_count": null,
      "metadata": {}
    },
    {
      "cell_type": "markdown",
      "source": [
        "## Exporting VAS aggregated DataFrame"
      ],
      "metadata": {}
    },
    {
      "cell_type": "code",
      "source": [
        "vas_final_df.drop_duplicates([\"event_source.hash\",\"VAS\"],inplace=True,keep=\"last\")"
      ],
      "outputs": [],
      "execution_count": 127,
      "metadata": {}
    },
    {
      "cell_type": "code",
      "source": [
        "vas_final_df.isnull().sum(axis=0)"
      ],
      "outputs": [
        {
          "output_type": "execute_result",
          "execution_count": 128,
          "data": {
            "text/plain": "event_source.hash         0\nACCOUNT_NUM.hash          0\nCUSTOMER_REF.hash         0\nVAS                       0\nMonth_Subscribed          0\nRental                68250\nOne_Time_Charge      100675\nVAS_Type                  0\ndtype: int64"
          },
          "metadata": {}
        }
      ],
      "execution_count": 128,
      "metadata": {}
    },
    {
      "cell_type": "code",
      "source": [
        "vas_final_df.fillna(0,inplace=True)"
      ],
      "outputs": [],
      "execution_count": 129,
      "metadata": {}
    },
    {
      "cell_type": "markdown",
      "source": [
        "### Voice VAS Aggregation"
      ],
      "metadata": {}
    },
    {
      "cell_type": "code",
      "source": [
        "voice_agg_df = vas_final_df[(vas_final_df[\"VAS_Type\"]==\"Voice\")]\n",
        "voice_agg_df[\"VAS_Count\"] = 1"
      ],
      "outputs": [
        {
          "output_type": "stream",
          "name": "stderr",
          "text": [
            "<ipython-input-130-5bd44c520773>:2: SettingWithCopyWarning: \n",
            "A value is trying to be set on a copy of a slice from a DataFrame.\n",
            "Try using .loc[row_indexer,col_indexer] = value instead\n",
            "\n",
            "See the caveats in the documentation: https://pandas.pydata.org/pandas-docs/stable/user_guide/indexing.html#returning-a-view-versus-a-copy\n",
            "  voice_agg_df[\"VAS_Count\"] = 1\n"
          ]
        }
      ],
      "execution_count": 130,
      "metadata": {}
    },
    {
      "cell_type": "code",
      "source": [
        "voice_agg_df = voice_agg_df.groupby('event_source.hash', as_index=False).agg(list)"
      ],
      "outputs": [],
      "execution_count": 131,
      "metadata": {}
    },
    {
      "cell_type": "code",
      "source": [
        "len(voice_agg_df[\"event_source.hash\"].unique())"
      ],
      "outputs": [
        {
          "output_type": "execute_result",
          "execution_count": 133,
          "data": {
            "text/plain": "4020"
          },
          "metadata": {}
        }
      ],
      "execution_count": 133,
      "metadata": {}
    },
    {
      "cell_type": "code",
      "source": [
        "voice_agg_df[\"ACCOUNT_NUM.hash\"]= voice_agg_df[\"ACCOUNT_NUM.hash\"].apply(lambda x: x[0])\n",
        "voice_agg_df[\"CUSTOMER_REF.hash\"]= voice_agg_df[\"CUSTOMER_REF.hash\"].apply(lambda x: x[0])\n",
        "voice_agg_df.drop([\"VAS_Type\"],axis=1,inplace=True)\n",
        "voice_agg_df.rename(columns={\"VAS\":\"Voice_VAS_Package\",\"Month_Subscribed\":\"Voice_VAS_Month_Subscribed\",\"Rental\":\"Voice_VAS_Rental\",\"One_Time_Charge\":\"Voice_VAS_One_Time_Charge\"},inplace=True)\n",
        "voice_agg_df['VAS_Count'] = voice_agg_df.apply(lambda x: len(x['VAS_Count']), axis=1)"
      ],
      "outputs": [],
      "execution_count": 134,
      "metadata": {}
    },
    {
      "cell_type": "code",
      "source": [
        "voice_agg_df"
      ],
      "outputs": [
        {
          "output_type": "execute_result",
          "execution_count": 135,
          "data": {
            "text/html": "<div>\n<style scoped>\n    .dataframe tbody tr th:only-of-type {\n        vertical-align: middle;\n    }\n\n    .dataframe tbody tr th {\n        vertical-align: top;\n    }\n\n    .dataframe thead th {\n        text-align: right;\n    }\n</style>\n<table border=\"1\" class=\"dataframe\">\n  <thead>\n    <tr style=\"text-align: right;\">\n      <th></th>\n      <th>event_source.hash</th>\n      <th>ACCOUNT_NUM.hash</th>\n      <th>CUSTOMER_REF.hash</th>\n      <th>Voice_VAS_Package</th>\n      <th>Voice_VAS_Month_Subscribed</th>\n      <th>Voice_VAS_Rental</th>\n      <th>Voice_VAS_One_Time_Charge</th>\n      <th>VAS_Count</th>\n    </tr>\n  </thead>\n  <tbody>\n    <tr>\n      <th>0</th>\n      <td>00099ff6e175f2b49e7067b20d69e4c3</td>\n      <td>6b4bfa1e32f513071c6b138a86c3bac9</td>\n      <td>0552174bba6950523aa45450f6690d02</td>\n      <td>[V_Sisu Connect]</td>\n      <td>[2018-08]</td>\n      <td>[30]</td>\n      <td>[0.0]</td>\n      <td>1</td>\n    </tr>\n    <tr>\n      <th>1</th>\n      <td>00171279c5c3c6731802925d8409245e</td>\n      <td>76d9ebdabc9289f652367e82f2371dc8</td>\n      <td>7ea6989a212eb0a84f9d551b98d73dbb</td>\n      <td>[V-Basic1_TeleLife, V_E-channeling Subscription]</td>\n      <td>[2018-08, 2019-01]</td>\n      <td>[60, 0]</td>\n      <td>[0.0, 0.0]</td>\n      <td>2</td>\n    </tr>\n    <tr>\n      <th>2</th>\n      <td>002263311c9590ff1f95cac37b673672</td>\n      <td>d5b3f685fee264650b3de22f2bef0023</td>\n      <td>5dba81403ff06d5af8d260930300462e</td>\n      <td>[V_Sisu Connect]</td>\n      <td>[2018-08]</td>\n      <td>[30]</td>\n      <td>[0.0]</td>\n      <td>1</td>\n    </tr>\n    <tr>\n      <th>3</th>\n      <td>00233a32d63e50b6925ef83a9c8aa390</td>\n      <td>01f29baefa8fabbd7351cc8260f56323</td>\n      <td>bb9f9455c1930ff40863113204a38010</td>\n      <td>[V_Sisu Connect]</td>\n      <td>[2018-08]</td>\n      <td>[30]</td>\n      <td>[0.0]</td>\n      <td>1</td>\n    </tr>\n    <tr>\n      <th>4</th>\n      <td>002fb47f60400713c854b0f69ff78c0a</td>\n      <td>86562710d6118c9ff1c0426d6d6d4fe4</td>\n      <td>afbd804ec207ff59a84a59c03152550b</td>\n      <td>[V_E-channeling Registration]</td>\n      <td>[2018-08]</td>\n      <td>[0]</td>\n      <td>[0.0]</td>\n      <td>1</td>\n    </tr>\n    <tr>\n      <th>...</th>\n      <td>...</td>\n      <td>...</td>\n      <td>...</td>\n      <td>...</td>\n      <td>...</td>\n      <td>...</td>\n      <td>...</td>\n      <td>...</td>\n    </tr>\n    <tr>\n      <th>4015</th>\n      <td>ffb9cb2e838925de5a75764fd59c6ea1</td>\n      <td>141bb772e7009065289946c12f7f3e3a</td>\n      <td>820e5edf9a704ae11fb65e019c89c0ef</td>\n      <td>[V_IDD, V_SLT CLI]</td>\n      <td>[2020-01, 2020-01]</td>\n      <td>[0, 0]</td>\n      <td>[0.0, 0.0]</td>\n      <td>2</td>\n    </tr>\n    <tr>\n      <th>4016</th>\n      <td>ffc22c155acb20eb0d920e418c0bf3ac</td>\n      <td>cc88c49f580c13600e99dfd9920d05e9</td>\n      <td>ac995f79a7164b89de084396352b343b</td>\n      <td>[V_Sisu Connect]</td>\n      <td>[2014-06]</td>\n      <td>[30]</td>\n      <td>[0.0]</td>\n      <td>1</td>\n    </tr>\n    <tr>\n      <th>4017</th>\n      <td>ffdc02dcce33f1448252d36624036703</td>\n      <td>01f29baefa8fabbd7351cc8260f56323</td>\n      <td>bb9f9455c1930ff40863113204a38010</td>\n      <td>[V_Sisu Connect]</td>\n      <td>[2018-08]</td>\n      <td>[30]</td>\n      <td>[0.0]</td>\n      <td>1</td>\n    </tr>\n    <tr>\n      <th>4018</th>\n      <td>ffea7843d6d18363551948c6553ca77a</td>\n      <td>16ba7704ef69803d3d41ebde44ad1c06</td>\n      <td>f7f58f60160d44ff1205c52c8676999f</td>\n      <td>[V_Sisu Connect]</td>\n      <td>[2018-08]</td>\n      <td>[30]</td>\n      <td>[0.0]</td>\n      <td>1</td>\n    </tr>\n    <tr>\n      <th>4019</th>\n      <td>fffbdf8e718726a5dac393d2014a83cc</td>\n      <td>949e14e85d36002ffb954d42d3366936</td>\n      <td>51ee71e46ba64034adaf383345028fb8</td>\n      <td>[V_Sisu Connect]</td>\n      <td>[2016-10]</td>\n      <td>[30]</td>\n      <td>[0.0]</td>\n      <td>1</td>\n    </tr>\n  </tbody>\n</table>\n<p>4020 rows × 8 columns</p>\n</div>",
            "text/plain": "                     event_source.hash                  ACCOUNT_NUM.hash  \\\n0     00099ff6e175f2b49e7067b20d69e4c3  6b4bfa1e32f513071c6b138a86c3bac9   \n1     00171279c5c3c6731802925d8409245e  76d9ebdabc9289f652367e82f2371dc8   \n2     002263311c9590ff1f95cac37b673672  d5b3f685fee264650b3de22f2bef0023   \n3     00233a32d63e50b6925ef83a9c8aa390  01f29baefa8fabbd7351cc8260f56323   \n4     002fb47f60400713c854b0f69ff78c0a  86562710d6118c9ff1c0426d6d6d4fe4   \n...                                ...                               ...   \n4015  ffb9cb2e838925de5a75764fd59c6ea1  141bb772e7009065289946c12f7f3e3a   \n4016  ffc22c155acb20eb0d920e418c0bf3ac  cc88c49f580c13600e99dfd9920d05e9   \n4017  ffdc02dcce33f1448252d36624036703  01f29baefa8fabbd7351cc8260f56323   \n4018  ffea7843d6d18363551948c6553ca77a  16ba7704ef69803d3d41ebde44ad1c06   \n4019  fffbdf8e718726a5dac393d2014a83cc  949e14e85d36002ffb954d42d3366936   \n\n                     CUSTOMER_REF.hash  \\\n0     0552174bba6950523aa45450f6690d02   \n1     7ea6989a212eb0a84f9d551b98d73dbb   \n2     5dba81403ff06d5af8d260930300462e   \n3     bb9f9455c1930ff40863113204a38010   \n4     afbd804ec207ff59a84a59c03152550b   \n...                                ...   \n4015  820e5edf9a704ae11fb65e019c89c0ef   \n4016  ac995f79a7164b89de084396352b343b   \n4017  bb9f9455c1930ff40863113204a38010   \n4018  f7f58f60160d44ff1205c52c8676999f   \n4019  51ee71e46ba64034adaf383345028fb8   \n\n                                     Voice_VAS_Package  \\\n0                                     [V_Sisu Connect]   \n1     [V-Basic1_TeleLife, V_E-channeling Subscription]   \n2                                     [V_Sisu Connect]   \n3                                     [V_Sisu Connect]   \n4                        [V_E-channeling Registration]   \n...                                                ...   \n4015                                [V_IDD, V_SLT CLI]   \n4016                                  [V_Sisu Connect]   \n4017                                  [V_Sisu Connect]   \n4018                                  [V_Sisu Connect]   \n4019                                  [V_Sisu Connect]   \n\n     Voice_VAS_Month_Subscribed Voice_VAS_Rental Voice_VAS_One_Time_Charge  \\\n0                     [2018-08]             [30]                     [0.0]   \n1            [2018-08, 2019-01]          [60, 0]                [0.0, 0.0]   \n2                     [2018-08]             [30]                     [0.0]   \n3                     [2018-08]             [30]                     [0.0]   \n4                     [2018-08]              [0]                     [0.0]   \n...                         ...              ...                       ...   \n4015         [2020-01, 2020-01]           [0, 0]                [0.0, 0.0]   \n4016                  [2014-06]             [30]                     [0.0]   \n4017                  [2018-08]             [30]                     [0.0]   \n4018                  [2018-08]             [30]                     [0.0]   \n4019                  [2016-10]             [30]                     [0.0]   \n\n      VAS_Count  \n0             1  \n1             2  \n2             1  \n3             1  \n4             1  \n...         ...  \n4015          2  \n4016          1  \n4017          1  \n4018          1  \n4019          1  \n\n[4020 rows x 8 columns]"
          },
          "metadata": {}
        }
      ],
      "execution_count": 135,
      "metadata": {}
    },
    {
      "cell_type": "code",
      "source": [
        "voice_agg_df.to_csv(\"data/user_profile/VAS_Voice_Aggregated.csv\")"
      ],
      "outputs": [],
      "execution_count": 136,
      "metadata": {}
    },
    {
      "cell_type": "code",
      "source": [],
      "outputs": [],
      "execution_count": null,
      "metadata": {}
    },
    {
      "cell_type": "markdown",
      "source": [
        "### BB VAS Aggregation"
      ],
      "metadata": {}
    },
    {
      "cell_type": "code",
      "source": [
        "bb_agg_df = vas_final_df[(vas_final_df[\"VAS_Type\"]==\"BB\")]\n",
        "bb_agg_df[\"VAS_Count\"] = 1"
      ],
      "outputs": [
        {
          "output_type": "stream",
          "name": "stderr",
          "text": [
            "<ipython-input-137-9f0bd0903247>:2: SettingWithCopyWarning: \n",
            "A value is trying to be set on a copy of a slice from a DataFrame.\n",
            "Try using .loc[row_indexer,col_indexer] = value instead\n",
            "\n",
            "See the caveats in the documentation: https://pandas.pydata.org/pandas-docs/stable/user_guide/indexing.html#returning-a-view-versus-a-copy\n",
            "  bb_agg_df[\"VAS_Count\"] = 1\n"
          ]
        }
      ],
      "execution_count": 137,
      "metadata": {}
    },
    {
      "cell_type": "code",
      "source": [
        "bb_agg_df = bb_agg_df.groupby('event_source.hash', as_index=False).agg(list)"
      ],
      "outputs": [],
      "execution_count": 138,
      "metadata": {}
    },
    {
      "cell_type": "code",
      "source": [
        "bb_agg_df[\"ACCOUNT_NUM.hash\"]= bb_agg_df[\"ACCOUNT_NUM.hash\"].apply(lambda x: x[0])\n",
        "bb_agg_df[\"CUSTOMER_REF.hash\"]= bb_agg_df[\"CUSTOMER_REF.hash\"].apply(lambda x: x[0])\n",
        "bb_agg_df.drop([\"VAS_Type\"],axis=1,inplace=True)\n",
        "bb_agg_df.rename(columns={\"VAS\":\"BB_VAS_Package\",\"Month_Subscribed\":\"BB_VAS_Month_Subscribed\",\"Rental\":\"BB_VAS_Rental\",\"One_Time_Charge\":\"BB_VAS_One_Time_Charge\"},inplace=True)\n",
        "bb_agg_df['VAS_Count'] = bb_agg_df.apply(lambda x: len(x['VAS_Count']), axis=1)"
      ],
      "outputs": [],
      "execution_count": 139,
      "metadata": {}
    },
    {
      "cell_type": "code",
      "source": [
        "bb_agg_df"
      ],
      "outputs": [
        {
          "output_type": "execute_result",
          "execution_count": 140,
          "data": {
            "text/html": "<div>\n<style scoped>\n    .dataframe tbody tr th:only-of-type {\n        vertical-align: middle;\n    }\n\n    .dataframe tbody tr th {\n        vertical-align: top;\n    }\n\n    .dataframe thead th {\n        text-align: right;\n    }\n</style>\n<table border=\"1\" class=\"dataframe\">\n  <thead>\n    <tr style=\"text-align: right;\">\n      <th></th>\n      <th>event_source.hash</th>\n      <th>ACCOUNT_NUM.hash</th>\n      <th>CUSTOMER_REF.hash</th>\n      <th>BB_VAS_Package</th>\n      <th>BB_VAS_Month_Subscribed</th>\n      <th>BB_VAS_Rental</th>\n      <th>BB_VAS_One_Time_Charge</th>\n      <th>VAS_Count</th>\n    </tr>\n  </thead>\n  <tbody>\n    <tr>\n      <th>0</th>\n      <td>000f86cd741d4e51303065b5f868e5ab</td>\n      <td>bd0cc5e96b24df6625fc68cbaf71b555</td>\n      <td>df4bc5da4eaaaab1d937c3fd2a699c3f</td>\n      <td>[BB_Report Subscription Charge, BB_YouTube Bun...</td>\n      <td>[2021-03, 2021-05, 2021-21]</td>\n      <td>[40.0, 155, 16.07]</td>\n      <td>[0.0, 0.0, 0.0]</td>\n      <td>3</td>\n    </tr>\n    <tr>\n      <th>1</th>\n      <td>00114ae408aa3b489b3f5d9baf7eb7ac</td>\n      <td>dd5253ea4772b427cc0e87ff6535b058</td>\n      <td>bdfc0b71edc02a021536f91cff85f00a</td>\n      <td>[BB_Report Subscription Charge, BB Personal St...</td>\n      <td>[2021-03, 2021-06]</td>\n      <td>[40.0, 50.0]</td>\n      <td>[0.0, 0.0]</td>\n      <td>2</td>\n    </tr>\n    <tr>\n      <th>2</th>\n      <td>0017f09b5ff65c692de63b95d1edee27</td>\n      <td>0e1fe0d01f3a2e9619999a1a634ec427</td>\n      <td>cd3b840fb0da1abcc5bfdebaca6cd761</td>\n      <td>[BB_Report Subscription Charge, BB_YouTube Bun...</td>\n      <td>[2021-03, 2021-04, 2021-21]</td>\n      <td>[40.0, 155, 14.29]</td>\n      <td>[0.0, 0.0, 0.0]</td>\n      <td>3</td>\n    </tr>\n    <tr>\n      <th>3</th>\n      <td>00225f30e3f5a4ac69240126f024755f</td>\n      <td>bd0cc5e96b24df6625fc68cbaf71b555</td>\n      <td>df4bc5da4eaaaab1d937c3fd2a699c3f</td>\n      <td>[BB_Personal Storage, BB_SLT BroadBand Service...</td>\n      <td>[2018-09, 2018-09, 2021-03, 2021-05, 2021-21]</td>\n      <td>[0, 8890.0, 40.0, 155, 16.07]</td>\n      <td>[0.0, 0.0, 0.0, 0.0, 0.0]</td>\n      <td>5</td>\n    </tr>\n    <tr>\n      <th>4</th>\n      <td>00233a32d63e50b6925ef83a9c8aa390</td>\n      <td>01f29baefa8fabbd7351cc8260f56323</td>\n      <td>bb9f9455c1930ff40863113204a38010</td>\n      <td>[BB Personal Storage]</td>\n      <td>[2021-21]</td>\n      <td>[14.29]</td>\n      <td>[0.0]</td>\n      <td>1</td>\n    </tr>\n    <tr>\n      <th>...</th>\n      <td>...</td>\n      <td>...</td>\n      <td>...</td>\n      <td>...</td>\n      <td>...</td>\n      <td>...</td>\n      <td>...</td>\n      <td>...</td>\n    </tr>\n    <tr>\n      <th>15455</th>\n      <td>fffb5e3c6693a35fbab056cb7bb374e8</td>\n      <td>af66a61a98c385584e3fccfd8dcc5412</td>\n      <td>1eca97f3ce8ee40e866677fdccc1d60e</td>\n      <td>[BB_SLT BroadBand Service, BB_Report Subscript...</td>\n      <td>[2019-04, 2021-03, 2021-06]</td>\n      <td>[1490.0, 40.0, 50.0]</td>\n      <td>[0.0, 0.0, 0.0]</td>\n      <td>3</td>\n    </tr>\n    <tr>\n      <th>15456</th>\n      <td>fffbdf8e718726a5dac393d2014a83cc</td>\n      <td>949e14e85d36002ffb954d42d3366936</td>\n      <td>51ee71e46ba64034adaf383345028fb8</td>\n      <td>[BB_Report Subscription Charge, BB_Messenger B...</td>\n      <td>[2021-03, 2021-05, 2021-05]</td>\n      <td>[40.0, 45, 155]</td>\n      <td>[0.0, 0.0, 0.0]</td>\n      <td>3</td>\n    </tr>\n    <tr>\n      <th>15457</th>\n      <td>fffc787f7b89f0a9401de0dbe3ab2206</td>\n      <td>bd0cc5e96b24df6625fc68cbaf71b555</td>\n      <td>df4bc5da4eaaaab1d937c3fd2a699c3f</td>\n      <td>[BB_Report Subscription Charge, BB_YouTube Bun...</td>\n      <td>[2021-03, 2021-05, 2021-21]</td>\n      <td>[40.0, 155, 14.29]</td>\n      <td>[0.0, 0.0, 0.0]</td>\n      <td>3</td>\n    </tr>\n    <tr>\n      <th>15458</th>\n      <td>ffff0039c1e0c380c4b890e6997d33c5</td>\n      <td>0e1fe0d01f3a2e9619999a1a634ec427</td>\n      <td>cd3b840fb0da1abcc5bfdebaca6cd761</td>\n      <td>[BB_Report Subscription Charge, BB_YouTube Bun...</td>\n      <td>[2021-03, 2021-04, 2021-21]</td>\n      <td>[40.0, 155, 14.29]</td>\n      <td>[0.0, 0.0, 0.0]</td>\n      <td>3</td>\n    </tr>\n    <tr>\n      <th>15459</th>\n      <td>ffff43d0cc07aff0964f0ae29aa10363</td>\n      <td>bd0cc5e96b24df6625fc68cbaf71b555</td>\n      <td>df4bc5da4eaaaab1d937c3fd2a699c3f</td>\n      <td>[BB_Report Subscription Charge, BB_YouTube Bun...</td>\n      <td>[2021-03, 2021-05, 2021-21]</td>\n      <td>[40.0, 155, 14.29]</td>\n      <td>[0.0, 0.0, 0.0]</td>\n      <td>3</td>\n    </tr>\n  </tbody>\n</table>\n<p>15460 rows × 8 columns</p>\n</div>",
            "text/plain": "                      event_source.hash                  ACCOUNT_NUM.hash  \\\n0      000f86cd741d4e51303065b5f868e5ab  bd0cc5e96b24df6625fc68cbaf71b555   \n1      00114ae408aa3b489b3f5d9baf7eb7ac  dd5253ea4772b427cc0e87ff6535b058   \n2      0017f09b5ff65c692de63b95d1edee27  0e1fe0d01f3a2e9619999a1a634ec427   \n3      00225f30e3f5a4ac69240126f024755f  bd0cc5e96b24df6625fc68cbaf71b555   \n4      00233a32d63e50b6925ef83a9c8aa390  01f29baefa8fabbd7351cc8260f56323   \n...                                 ...                               ...   \n15455  fffb5e3c6693a35fbab056cb7bb374e8  af66a61a98c385584e3fccfd8dcc5412   \n15456  fffbdf8e718726a5dac393d2014a83cc  949e14e85d36002ffb954d42d3366936   \n15457  fffc787f7b89f0a9401de0dbe3ab2206  bd0cc5e96b24df6625fc68cbaf71b555   \n15458  ffff0039c1e0c380c4b890e6997d33c5  0e1fe0d01f3a2e9619999a1a634ec427   \n15459  ffff43d0cc07aff0964f0ae29aa10363  bd0cc5e96b24df6625fc68cbaf71b555   \n\n                      CUSTOMER_REF.hash  \\\n0      df4bc5da4eaaaab1d937c3fd2a699c3f   \n1      bdfc0b71edc02a021536f91cff85f00a   \n2      cd3b840fb0da1abcc5bfdebaca6cd761   \n3      df4bc5da4eaaaab1d937c3fd2a699c3f   \n4      bb9f9455c1930ff40863113204a38010   \n...                                 ...   \n15455  1eca97f3ce8ee40e866677fdccc1d60e   \n15456  51ee71e46ba64034adaf383345028fb8   \n15457  df4bc5da4eaaaab1d937c3fd2a699c3f   \n15458  cd3b840fb0da1abcc5bfdebaca6cd761   \n15459  df4bc5da4eaaaab1d937c3fd2a699c3f   \n\n                                          BB_VAS_Package  \\\n0      [BB_Report Subscription Charge, BB_YouTube Bun...   \n1      [BB_Report Subscription Charge, BB Personal St...   \n2      [BB_Report Subscription Charge, BB_YouTube Bun...   \n3      [BB_Personal Storage, BB_SLT BroadBand Service...   \n4                                  [BB Personal Storage]   \n...                                                  ...   \n15455  [BB_SLT BroadBand Service, BB_Report Subscript...   \n15456  [BB_Report Subscription Charge, BB_Messenger B...   \n15457  [BB_Report Subscription Charge, BB_YouTube Bun...   \n15458  [BB_Report Subscription Charge, BB_YouTube Bun...   \n15459  [BB_Report Subscription Charge, BB_YouTube Bun...   \n\n                             BB_VAS_Month_Subscribed  \\\n0                        [2021-03, 2021-05, 2021-21]   \n1                                 [2021-03, 2021-06]   \n2                        [2021-03, 2021-04, 2021-21]   \n3      [2018-09, 2018-09, 2021-03, 2021-05, 2021-21]   \n4                                          [2021-21]   \n...                                              ...   \n15455                    [2019-04, 2021-03, 2021-06]   \n15456                    [2021-03, 2021-05, 2021-05]   \n15457                    [2021-03, 2021-05, 2021-21]   \n15458                    [2021-03, 2021-04, 2021-21]   \n15459                    [2021-03, 2021-05, 2021-21]   \n\n                       BB_VAS_Rental     BB_VAS_One_Time_Charge  VAS_Count  \n0                 [40.0, 155, 16.07]            [0.0, 0.0, 0.0]          3  \n1                       [40.0, 50.0]                 [0.0, 0.0]          2  \n2                 [40.0, 155, 14.29]            [0.0, 0.0, 0.0]          3  \n3      [0, 8890.0, 40.0, 155, 16.07]  [0.0, 0.0, 0.0, 0.0, 0.0]          5  \n4                            [14.29]                      [0.0]          1  \n...                              ...                        ...        ...  \n15455           [1490.0, 40.0, 50.0]            [0.0, 0.0, 0.0]          3  \n15456                [40.0, 45, 155]            [0.0, 0.0, 0.0]          3  \n15457             [40.0, 155, 14.29]            [0.0, 0.0, 0.0]          3  \n15458             [40.0, 155, 14.29]            [0.0, 0.0, 0.0]          3  \n15459             [40.0, 155, 14.29]            [0.0, 0.0, 0.0]          3  \n\n[15460 rows x 8 columns]"
          },
          "metadata": {}
        }
      ],
      "execution_count": 140,
      "metadata": {}
    },
    {
      "cell_type": "code",
      "source": [
        "len(bb_agg_df[\"event_source.hash\"].unique())"
      ],
      "outputs": [
        {
          "output_type": "execute_result",
          "execution_count": 141,
          "data": {
            "text/plain": "15460"
          },
          "metadata": {}
        }
      ],
      "execution_count": 141,
      "metadata": {}
    },
    {
      "cell_type": "code",
      "source": [
        "bb_agg_df.to_csv(\"data/user_profile/VAS_BB_Aggregated.csv\")"
      ],
      "outputs": [],
      "execution_count": 142,
      "metadata": {}
    },
    {
      "cell_type": "code",
      "source": [],
      "outputs": [],
      "execution_count": null,
      "metadata": {}
    },
    {
      "cell_type": "markdown",
      "source": [
        "### Peo VAS Aggregation"
      ],
      "metadata": {}
    },
    {
      "cell_type": "code",
      "source": [
        "peo_agg_df = vas_final_df[(vas_final_df[\"VAS_Type\"]==\"PeoTV\")]\n",
        "peo_agg_df[\"VAS_Count\"] = 1"
      ],
      "outputs": [
        {
          "output_type": "stream",
          "name": "stderr",
          "text": [
            "<ipython-input-143-dded03e3155d>:2: SettingWithCopyWarning: \n",
            "A value is trying to be set on a copy of a slice from a DataFrame.\n",
            "Try using .loc[row_indexer,col_indexer] = value instead\n",
            "\n",
            "See the caveats in the documentation: https://pandas.pydata.org/pandas-docs/stable/user_guide/indexing.html#returning-a-view-versus-a-copy\n",
            "  peo_agg_df[\"VAS_Count\"] = 1\n"
          ]
        }
      ],
      "execution_count": 143,
      "metadata": {}
    },
    {
      "cell_type": "code",
      "source": [
        "peo_agg_df = peo_agg_df.groupby('event_source.hash', as_index=False).agg(list)"
      ],
      "outputs": [],
      "execution_count": 144,
      "metadata": {}
    },
    {
      "cell_type": "code",
      "source": [
        "peo_agg_df[\"ACCOUNT_NUM.hash\"]= peo_agg_df[\"ACCOUNT_NUM.hash\"].apply(lambda x: x[0])\n",
        "peo_agg_df[\"CUSTOMER_REF.hash\"]= peo_agg_df[\"CUSTOMER_REF.hash\"].apply(lambda x: x[0])\n",
        "peo_agg_df.drop([\"VAS_Type\"],axis=1,inplace=True)\n",
        "peo_agg_df.rename(columns={\"VAS\":\"Peo_VAS_Package\",\"Month_Subscribed\":\"Peo_VAS_Month_Subscribed\",\"Rental\":\"Peo_VAS_Rental\",\"One_Time_Charge\":\"Peo_VAS_One_Time_Charge\"},inplace=True)\n",
        "peo_agg_df['VAS_Count'] = peo_agg_df.apply(lambda x: len(x['VAS_Count']), axis=1)"
      ],
      "outputs": [],
      "execution_count": 145,
      "metadata": {}
    },
    {
      "cell_type": "code",
      "source": [
        "peo_agg_df"
      ],
      "outputs": [
        {
          "output_type": "execute_result",
          "execution_count": 146,
          "data": {
            "text/html": "<div>\n<style scoped>\n    .dataframe tbody tr th:only-of-type {\n        vertical-align: middle;\n    }\n\n    .dataframe tbody tr th {\n        vertical-align: top;\n    }\n\n    .dataframe thead th {\n        text-align: right;\n    }\n</style>\n<table border=\"1\" class=\"dataframe\">\n  <thead>\n    <tr style=\"text-align: right;\">\n      <th></th>\n      <th>event_source.hash</th>\n      <th>ACCOUNT_NUM.hash</th>\n      <th>CUSTOMER_REF.hash</th>\n      <th>Peo_VAS_Package</th>\n      <th>Peo_VAS_Month_Subscribed</th>\n      <th>Peo_VAS_Rental</th>\n      <th>Peo_VAS_One_Time_Charge</th>\n      <th>VAS_Count</th>\n    </tr>\n  </thead>\n  <tbody>\n    <tr>\n      <th>0</th>\n      <td>00099ff6e175f2b49e7067b20d69e4c3</td>\n      <td>6b4bfa1e32f513071c6b138a86c3bac9</td>\n      <td>0552174bba6950523aa45450f6690d02</td>\n      <td>[E_SLT PeoTV Service]</td>\n      <td>[2018-08]</td>\n      <td>[899.0]</td>\n      <td>[0.0]</td>\n      <td>1</td>\n    </tr>\n    <tr>\n      <th>1</th>\n      <td>0014bcaff40182200be0e062cf9051cd</td>\n      <td>2c98d4759ee2eca3f2d966be8739c1fa</td>\n      <td>9ef419bc0053418c6d847a3777cc0233</td>\n      <td>[PEO TV GO_OTT_A-la carte channels]</td>\n      <td>[2020-08]</td>\n      <td>[100]</td>\n      <td>[0.0]</td>\n      <td>1</td>\n    </tr>\n    <tr>\n      <th>2</th>\n      <td>0020f63be24f2eae231f5530ef3cf0d2</td>\n      <td>2c98d4759ee2eca3f2d966be8739c1fa</td>\n      <td>9ef419bc0053418c6d847a3777cc0233</td>\n      <td>[E_SLT PeoTV Service, PEO TV GO_OTT_A-la carte...</td>\n      <td>[2018-08, 2020-08]</td>\n      <td>[1499.0, 100]</td>\n      <td>[0.0, 0.0]</td>\n      <td>2</td>\n    </tr>\n    <tr>\n      <th>3</th>\n      <td>00225f30e3f5a4ac69240126f024755f</td>\n      <td>bd0cc5e96b24df6625fc68cbaf71b555</td>\n      <td>df4bc5da4eaaaab1d937c3fd2a699c3f</td>\n      <td>[BB_PeoTVGO]</td>\n      <td>[2018-12]</td>\n      <td>[0]</td>\n      <td>[0.0]</td>\n      <td>1</td>\n    </tr>\n    <tr>\n      <th>4</th>\n      <td>003796c503ba503e92b152acca7aa9e1</td>\n      <td>cc88c49f580c13600e99dfd9920d05e9</td>\n      <td>ac995f79a7164b89de084396352b343b</td>\n      <td>[BB_PeoTVGO]</td>\n      <td>[2018-07]</td>\n      <td>[0]</td>\n      <td>[0.0]</td>\n      <td>1</td>\n    </tr>\n    <tr>\n      <th>...</th>\n      <td>...</td>\n      <td>...</td>\n      <td>...</td>\n      <td>...</td>\n      <td>...</td>\n      <td>...</td>\n      <td>...</td>\n      <td>...</td>\n    </tr>\n    <tr>\n      <th>9426</th>\n      <td>ffce529136ebc87bd205993d2509c0ce</td>\n      <td>a1e2b9c2faf456eece4bb507dd044fcd</td>\n      <td>ae041952f243955016cb60d82413a8bf</td>\n      <td>[BB_PeoTVGO Revenue code]</td>\n      <td>[2020-04]</td>\n      <td>[249]</td>\n      <td>[0.0]</td>\n      <td>1</td>\n    </tr>\n    <tr>\n      <th>9427</th>\n      <td>ffea7843d6d18363551948c6553ca77a</td>\n      <td>16ba7704ef69803d3d41ebde44ad1c06</td>\n      <td>f7f58f60160d44ff1205c52c8676999f</td>\n      <td>[BB_PeoTVGO]</td>\n      <td>[2019-10]</td>\n      <td>[0]</td>\n      <td>[0.0]</td>\n      <td>1</td>\n    </tr>\n    <tr>\n      <th>9428</th>\n      <td>fffb5e3c6693a35fbab056cb7bb374e8</td>\n      <td>af66a61a98c385584e3fccfd8dcc5412</td>\n      <td>1eca97f3ce8ee40e866677fdccc1d60e</td>\n      <td>[BB_PeoTVGO]</td>\n      <td>[2019-10]</td>\n      <td>[0]</td>\n      <td>[0.0]</td>\n      <td>1</td>\n    </tr>\n    <tr>\n      <th>9429</th>\n      <td>ffff0039c1e0c380c4b890e6997d33c5</td>\n      <td>0e1fe0d01f3a2e9619999a1a634ec427</td>\n      <td>cd3b840fb0da1abcc5bfdebaca6cd761</td>\n      <td>[E_SLT PeoTV Service]</td>\n      <td>[2020-02]</td>\n      <td>[899.0]</td>\n      <td>[0.0]</td>\n      <td>1</td>\n    </tr>\n    <tr>\n      <th>9430</th>\n      <td>ffff41a457d4ad9618d788bdd917e4ce</td>\n      <td>44224bc1e2e7101c90bbad70dbcc5a6c</td>\n      <td>f5d47ec8993b2e30d200ec5f1c3bae1b</td>\n      <td>[PEO TV GO_OTT_A-la carte channels]</td>\n      <td>[2020-08]</td>\n      <td>[100]</td>\n      <td>[0.0]</td>\n      <td>1</td>\n    </tr>\n  </tbody>\n</table>\n<p>9431 rows × 8 columns</p>\n</div>",
            "text/plain": "                     event_source.hash                  ACCOUNT_NUM.hash  \\\n0     00099ff6e175f2b49e7067b20d69e4c3  6b4bfa1e32f513071c6b138a86c3bac9   \n1     0014bcaff40182200be0e062cf9051cd  2c98d4759ee2eca3f2d966be8739c1fa   \n2     0020f63be24f2eae231f5530ef3cf0d2  2c98d4759ee2eca3f2d966be8739c1fa   \n3     00225f30e3f5a4ac69240126f024755f  bd0cc5e96b24df6625fc68cbaf71b555   \n4     003796c503ba503e92b152acca7aa9e1  cc88c49f580c13600e99dfd9920d05e9   \n...                                ...                               ...   \n9426  ffce529136ebc87bd205993d2509c0ce  a1e2b9c2faf456eece4bb507dd044fcd   \n9427  ffea7843d6d18363551948c6553ca77a  16ba7704ef69803d3d41ebde44ad1c06   \n9428  fffb5e3c6693a35fbab056cb7bb374e8  af66a61a98c385584e3fccfd8dcc5412   \n9429  ffff0039c1e0c380c4b890e6997d33c5  0e1fe0d01f3a2e9619999a1a634ec427   \n9430  ffff41a457d4ad9618d788bdd917e4ce  44224bc1e2e7101c90bbad70dbcc5a6c   \n\n                     CUSTOMER_REF.hash  \\\n0     0552174bba6950523aa45450f6690d02   \n1     9ef419bc0053418c6d847a3777cc0233   \n2     9ef419bc0053418c6d847a3777cc0233   \n3     df4bc5da4eaaaab1d937c3fd2a699c3f   \n4     ac995f79a7164b89de084396352b343b   \n...                                ...   \n9426  ae041952f243955016cb60d82413a8bf   \n9427  f7f58f60160d44ff1205c52c8676999f   \n9428  1eca97f3ce8ee40e866677fdccc1d60e   \n9429  cd3b840fb0da1abcc5bfdebaca6cd761   \n9430  f5d47ec8993b2e30d200ec5f1c3bae1b   \n\n                                        Peo_VAS_Package  \\\n0                                 [E_SLT PeoTV Service]   \n1                   [PEO TV GO_OTT_A-la carte channels]   \n2     [E_SLT PeoTV Service, PEO TV GO_OTT_A-la carte...   \n3                                          [BB_PeoTVGO]   \n4                                          [BB_PeoTVGO]   \n...                                                 ...   \n9426                          [BB_PeoTVGO Revenue code]   \n9427                                       [BB_PeoTVGO]   \n9428                                       [BB_PeoTVGO]   \n9429                              [E_SLT PeoTV Service]   \n9430                [PEO TV GO_OTT_A-la carte channels]   \n\n     Peo_VAS_Month_Subscribed Peo_VAS_Rental Peo_VAS_One_Time_Charge  \\\n0                   [2018-08]        [899.0]                   [0.0]   \n1                   [2020-08]          [100]                   [0.0]   \n2          [2018-08, 2020-08]  [1499.0, 100]              [0.0, 0.0]   \n3                   [2018-12]            [0]                   [0.0]   \n4                   [2018-07]            [0]                   [0.0]   \n...                       ...            ...                     ...   \n9426                [2020-04]          [249]                   [0.0]   \n9427                [2019-10]            [0]                   [0.0]   \n9428                [2019-10]            [0]                   [0.0]   \n9429                [2020-02]        [899.0]                   [0.0]   \n9430                [2020-08]          [100]                   [0.0]   \n\n      VAS_Count  \n0             1  \n1             1  \n2             2  \n3             1  \n4             1  \n...         ...  \n9426          1  \n9427          1  \n9428          1  \n9429          1  \n9430          1  \n\n[9431 rows x 8 columns]"
          },
          "metadata": {}
        }
      ],
      "execution_count": 146,
      "metadata": {}
    },
    {
      "cell_type": "code",
      "source": [
        "len(peo_agg_df[\"event_source.hash\"].unique())"
      ],
      "outputs": [
        {
          "output_type": "execute_result",
          "execution_count": 147,
          "data": {
            "text/plain": "9431"
          },
          "metadata": {}
        }
      ],
      "execution_count": 147,
      "metadata": {}
    },
    {
      "cell_type": "code",
      "source": [
        "peo_agg_df.to_csv(\"data/user_profile/VAS_Peo_Aggregated.csv\")"
      ],
      "outputs": [],
      "execution_count": 148,
      "metadata": {}
    },
    {
      "cell_type": "code",
      "source": [],
      "outputs": [],
      "execution_count": null,
      "metadata": {}
    },
    {
      "cell_type": "markdown",
      "source": [
        "### Uncategorized VAS Aggregation"
      ],
      "metadata": {}
    },
    {
      "cell_type": "code",
      "source": [
        "other_agg_df = vas_final_df[(vas_final_df[\"VAS_Type\"]==\"Other\")]\n",
        "other_agg_df[\"VAS_Count\"] = 1"
      ],
      "outputs": [
        {
          "output_type": "stream",
          "name": "stderr",
          "text": [
            "<ipython-input-149-cfa885fd22f7>:2: SettingWithCopyWarning: \n",
            "A value is trying to be set on a copy of a slice from a DataFrame.\n",
            "Try using .loc[row_indexer,col_indexer] = value instead\n",
            "\n",
            "See the caveats in the documentation: https://pandas.pydata.org/pandas-docs/stable/user_guide/indexing.html#returning-a-view-versus-a-copy\n",
            "  other_agg_df[\"VAS_Count\"] = 1\n"
          ]
        }
      ],
      "execution_count": 149,
      "metadata": {}
    },
    {
      "cell_type": "code",
      "source": [
        "other_agg_df = other_agg_df.groupby('event_source.hash', as_index=False).agg(list)"
      ],
      "outputs": [],
      "execution_count": 150,
      "metadata": {}
    },
    {
      "cell_type": "code",
      "source": [
        "other_agg_df[\"ACCOUNT_NUM.hash\"]= other_agg_df[\"ACCOUNT_NUM.hash\"].apply(lambda x: x[0])\n",
        "other_agg_df[\"CUSTOMER_REF.hash\"]= other_agg_df[\"CUSTOMER_REF.hash\"].apply(lambda x: x[0])\n",
        "other_agg_df.drop([\"VAS_Type\"],axis=1,inplace=True)\n",
        "other_agg_df.rename(columns={\"VAS\":\"Other_VAS_Package\",\"Month_Subscribed\":\"Other_VAS_Month_Subscribed\",\"Rental\":\"Other_VAS_Rental\",\"One_Time_Charge\":\"Other_VAS_One_Time_Charge\"},inplace=True)\n",
        "other_agg_df['VAS_Count'] = other_agg_df.apply(lambda x: len(x['VAS_Count']), axis=1)"
      ],
      "outputs": [],
      "execution_count": 151,
      "metadata": {}
    },
    {
      "cell_type": "code",
      "source": [
        "other_agg_df"
      ],
      "outputs": [
        {
          "output_type": "execute_result",
          "execution_count": 152,
          "data": {
            "text/html": "<div>\n<style scoped>\n    .dataframe tbody tr th:only-of-type {\n        vertical-align: middle;\n    }\n\n    .dataframe tbody tr th {\n        vertical-align: top;\n    }\n\n    .dataframe thead th {\n        text-align: right;\n    }\n</style>\n<table border=\"1\" class=\"dataframe\">\n  <thead>\n    <tr style=\"text-align: right;\">\n      <th></th>\n      <th>event_source.hash</th>\n      <th>ACCOUNT_NUM.hash</th>\n      <th>CUSTOMER_REF.hash</th>\n      <th>Other_VAS_Package</th>\n      <th>Other_VAS_Month_Subscribed</th>\n      <th>Other_VAS_Rental</th>\n      <th>Other_VAS_One_Time_Charge</th>\n      <th>VAS_Count</th>\n    </tr>\n  </thead>\n  <tbody>\n    <tr>\n      <th>0</th>\n      <td>00099ff6e175f2b49e7067b20d69e4c3</td>\n      <td>6b4bfa1e32f513071c6b138a86c3bac9</td>\n      <td>0552174bba6950523aa45450f6690d02</td>\n      <td>[P_Sisu Connect, AB_Copper Access Bearer]</td>\n      <td>[2017-02, 2018-08]</td>\n      <td>[30, 0]</td>\n      <td>[0.0, 0.0]</td>\n      <td>2</td>\n    </tr>\n    <tr>\n      <th>1</th>\n      <td>000f86cd741d4e51303065b5f868e5ab</td>\n      <td>bd0cc5e96b24df6625fc68cbaf71b555</td>\n      <td>df4bc5da4eaaaab1d937c3fd2a699c3f</td>\n      <td>[P-Basic1_Tele Life, C_Sisu Connect, AB_WireLe...</td>\n      <td>[2012-06, 2016-11, 2020-05, 2021-02, 2021-03, ...</td>\n      <td>[60, 30, 0, 0, 0, 0]</td>\n      <td>[0.0, 0.0, 0.0, 195.0, 195.0, 490.0]</td>\n      <td>6</td>\n    </tr>\n    <tr>\n      <th>2</th>\n      <td>00114ae408aa3b489b3f5d9baf7eb7ac</td>\n      <td>dd5253ea4772b427cc0e87ff6535b058</td>\n      <td>bdfc0b71edc02a021536f91cff85f00a</td>\n      <td>[AB_Copper Access Bearer]</td>\n      <td>[2018-08]</td>\n      <td>[0]</td>\n      <td>[0.0]</td>\n      <td>1</td>\n    </tr>\n    <tr>\n      <th>3</th>\n      <td>0014bcaff40182200be0e062cf9051cd</td>\n      <td>2c98d4759ee2eca3f2d966be8739c1fa</td>\n      <td>9ef419bc0053418c6d847a3777cc0233</td>\n      <td>[AB_Copper Access Bearer]</td>\n      <td>[2018-08]</td>\n      <td>[0]</td>\n      <td>[0.0]</td>\n      <td>1</td>\n    </tr>\n    <tr>\n      <th>4</th>\n      <td>00169293c66899b05ad10054c5f9a9c4</td>\n      <td>f22295dcdeb9502825e7d6140bbf8542</td>\n      <td>d4529a42fb85d23b1589bf04a1b637d6</td>\n      <td>[AB_Copper Access Bearer]</td>\n      <td>[2018-11]</td>\n      <td>[0]</td>\n      <td>[0.0]</td>\n      <td>1</td>\n    </tr>\n    <tr>\n      <th>...</th>\n      <td>...</td>\n      <td>...</td>\n      <td>...</td>\n      <td>...</td>\n      <td>...</td>\n      <td>...</td>\n      <td>...</td>\n      <td>...</td>\n    </tr>\n    <tr>\n      <th>23464</th>\n      <td>fffbdf8e718726a5dac393d2014a83cc</td>\n      <td>949e14e85d36002ffb954d42d3366936</td>\n      <td>51ee71e46ba64034adaf383345028fb8</td>\n      <td>[AB_Copper Access Bearer, P_Sisu Connect, Edu ...</td>\n      <td>[2018-08, 2018-08, 2021-05, 2021-06]</td>\n      <td>[0, 30, 0, 0]</td>\n      <td>[0.0, 0.0, 195.0, 195.0]</td>\n      <td>4</td>\n    </tr>\n    <tr>\n      <th>23465</th>\n      <td>fffc787f7b89f0a9401de0dbe3ab2206</td>\n      <td>bd0cc5e96b24df6625fc68cbaf71b555</td>\n      <td>df4bc5da4eaaaab1d937c3fd2a699c3f</td>\n      <td>[P-Basic1_Tele Life, C_Sisu Connect, AB_Copper...</td>\n      <td>[2012-06, 2016-11, 2018-09, 2021-02, 2021-03, ...</td>\n      <td>[60, 30, 0, 0, 0, 0]</td>\n      <td>[0.0, 0.0, 0.0, 195.0, 195.0, 490.0]</td>\n      <td>6</td>\n    </tr>\n    <tr>\n      <th>23466</th>\n      <td>ffff0039c1e0c380c4b890e6997d33c5</td>\n      <td>0e1fe0d01f3a2e9619999a1a634ec427</td>\n      <td>cd3b840fb0da1abcc5bfdebaca6cd761</td>\n      <td>[AB_Copper Access Bearer, Meet Lite]</td>\n      <td>[2019-11, 2021-06]</td>\n      <td>[0, 0]</td>\n      <td>[0.0, 195.0]</td>\n      <td>2</td>\n    </tr>\n    <tr>\n      <th>23467</th>\n      <td>ffff41a457d4ad9618d788bdd917e4ce</td>\n      <td>44224bc1e2e7101c90bbad70dbcc5a6c</td>\n      <td>f5d47ec8993b2e30d200ec5f1c3bae1b</td>\n      <td>[AB_Copper Access Bearer, Meet Lite]</td>\n      <td>[2018-08, 2021-04]</td>\n      <td>[0, 0]</td>\n      <td>[0.0, 195.0]</td>\n      <td>2</td>\n    </tr>\n    <tr>\n      <th>23468</th>\n      <td>ffff43d0cc07aff0964f0ae29aa10363</td>\n      <td>bd0cc5e96b24df6625fc68cbaf71b555</td>\n      <td>df4bc5da4eaaaab1d937c3fd2a699c3f</td>\n      <td>[P-Basic1_Tele Life, C_Sisu Connect, Edu Lite,...</td>\n      <td>[2012-06, 2016-11, 2021-02, 2021-03, 2021-06]</td>\n      <td>[60, 30, 0, 0, 0]</td>\n      <td>[0.0, 0.0, 195.0, 195.0, 490.0]</td>\n      <td>5</td>\n    </tr>\n  </tbody>\n</table>\n<p>23469 rows × 8 columns</p>\n</div>",
            "text/plain": "                      event_source.hash                  ACCOUNT_NUM.hash  \\\n0      00099ff6e175f2b49e7067b20d69e4c3  6b4bfa1e32f513071c6b138a86c3bac9   \n1      000f86cd741d4e51303065b5f868e5ab  bd0cc5e96b24df6625fc68cbaf71b555   \n2      00114ae408aa3b489b3f5d9baf7eb7ac  dd5253ea4772b427cc0e87ff6535b058   \n3      0014bcaff40182200be0e062cf9051cd  2c98d4759ee2eca3f2d966be8739c1fa   \n4      00169293c66899b05ad10054c5f9a9c4  f22295dcdeb9502825e7d6140bbf8542   \n...                                 ...                               ...   \n23464  fffbdf8e718726a5dac393d2014a83cc  949e14e85d36002ffb954d42d3366936   \n23465  fffc787f7b89f0a9401de0dbe3ab2206  bd0cc5e96b24df6625fc68cbaf71b555   \n23466  ffff0039c1e0c380c4b890e6997d33c5  0e1fe0d01f3a2e9619999a1a634ec427   \n23467  ffff41a457d4ad9618d788bdd917e4ce  44224bc1e2e7101c90bbad70dbcc5a6c   \n23468  ffff43d0cc07aff0964f0ae29aa10363  bd0cc5e96b24df6625fc68cbaf71b555   \n\n                      CUSTOMER_REF.hash  \\\n0      0552174bba6950523aa45450f6690d02   \n1      df4bc5da4eaaaab1d937c3fd2a699c3f   \n2      bdfc0b71edc02a021536f91cff85f00a   \n3      9ef419bc0053418c6d847a3777cc0233   \n4      d4529a42fb85d23b1589bf04a1b637d6   \n...                                 ...   \n23464  51ee71e46ba64034adaf383345028fb8   \n23465  df4bc5da4eaaaab1d937c3fd2a699c3f   \n23466  cd3b840fb0da1abcc5bfdebaca6cd761   \n23467  f5d47ec8993b2e30d200ec5f1c3bae1b   \n23468  df4bc5da4eaaaab1d937c3fd2a699c3f   \n\n                                       Other_VAS_Package  \\\n0              [P_Sisu Connect, AB_Copper Access Bearer]   \n1      [P-Basic1_Tele Life, C_Sisu Connect, AB_WireLe...   \n2                              [AB_Copper Access Bearer]   \n3                              [AB_Copper Access Bearer]   \n4                              [AB_Copper Access Bearer]   \n...                                                  ...   \n23464  [AB_Copper Access Bearer, P_Sisu Connect, Edu ...   \n23465  [P-Basic1_Tele Life, C_Sisu Connect, AB_Copper...   \n23466               [AB_Copper Access Bearer, Meet Lite]   \n23467               [AB_Copper Access Bearer, Meet Lite]   \n23468  [P-Basic1_Tele Life, C_Sisu Connect, Edu Lite,...   \n\n                              Other_VAS_Month_Subscribed  \\\n0                                     [2017-02, 2018-08]   \n1      [2012-06, 2016-11, 2020-05, 2021-02, 2021-03, ...   \n2                                              [2018-08]   \n3                                              [2018-08]   \n4                                              [2018-11]   \n...                                                  ...   \n23464               [2018-08, 2018-08, 2021-05, 2021-06]   \n23465  [2012-06, 2016-11, 2018-09, 2021-02, 2021-03, ...   \n23466                                 [2019-11, 2021-06]   \n23467                                 [2018-08, 2021-04]   \n23468      [2012-06, 2016-11, 2021-02, 2021-03, 2021-06]   \n\n           Other_VAS_Rental             Other_VAS_One_Time_Charge  VAS_Count  \n0                   [30, 0]                            [0.0, 0.0]          2  \n1      [60, 30, 0, 0, 0, 0]  [0.0, 0.0, 0.0, 195.0, 195.0, 490.0]          6  \n2                       [0]                                 [0.0]          1  \n3                       [0]                                 [0.0]          1  \n4                       [0]                                 [0.0]          1  \n...                     ...                                   ...        ...  \n23464         [0, 30, 0, 0]              [0.0, 0.0, 195.0, 195.0]          4  \n23465  [60, 30, 0, 0, 0, 0]  [0.0, 0.0, 0.0, 195.0, 195.0, 490.0]          6  \n23466                [0, 0]                          [0.0, 195.0]          2  \n23467                [0, 0]                          [0.0, 195.0]          2  \n23468     [60, 30, 0, 0, 0]       [0.0, 0.0, 195.0, 195.0, 490.0]          5  \n\n[23469 rows x 8 columns]"
          },
          "metadata": {}
        }
      ],
      "execution_count": 152,
      "metadata": {}
    },
    {
      "cell_type": "code",
      "source": [
        "len(other_agg_df[\"event_source.hash\"].unique())"
      ],
      "outputs": [
        {
          "output_type": "execute_result",
          "execution_count": 153,
          "data": {
            "text/plain": "23469"
          },
          "metadata": {}
        }
      ],
      "execution_count": 153,
      "metadata": {}
    },
    {
      "cell_type": "code",
      "source": [
        "other_agg_df.to_csv(\"data/user_profile/VAS_Other_Aggregated.csv\")"
      ],
      "outputs": [],
      "execution_count": 154,
      "metadata": {}
    },
    {
      "cell_type": "code",
      "source": [],
      "outputs": [],
      "execution_count": null,
      "metadata": {}
    },
    {
      "cell_type": "markdown",
      "source": [
        "### FREE VAS Aggregation"
      ],
      "metadata": {}
    },
    {
      "cell_type": "code",
      "source": [
        "free_agg_df = vas_final_df[(vas_final_df[\"VAS_Type\"]==\"FREE\")]\n",
        "free_agg_df[\"VAS_Count\"] = 1"
      ],
      "outputs": [
        {
          "output_type": "stream",
          "name": "stderr",
          "text": [
            "<ipython-input-161-ea7246292e47>:2: SettingWithCopyWarning: \n",
            "A value is trying to be set on a copy of a slice from a DataFrame.\n",
            "Try using .loc[row_indexer,col_indexer] = value instead\n",
            "\n",
            "See the caveats in the documentation: https://pandas.pydata.org/pandas-docs/stable/user_guide/indexing.html#returning-a-view-versus-a-copy\n",
            "  free_agg_df[\"VAS_Count\"] = 1\n"
          ]
        }
      ],
      "execution_count": 161,
      "metadata": {}
    },
    {
      "cell_type": "code",
      "source": [
        "free_agg_df = free_agg_df.groupby('event_source.hash', as_index=False).agg(list)"
      ],
      "outputs": [],
      "execution_count": 162,
      "metadata": {}
    },
    {
      "cell_type": "code",
      "source": [
        "free_agg_df[\"ACCOUNT_NUM.hash\"]= free_agg_df[\"ACCOUNT_NUM.hash\"].apply(lambda x: x[0])\n",
        "free_agg_df[\"CUSTOMER_REF.hash\"]= free_agg_df[\"CUSTOMER_REF.hash\"].apply(lambda x: x[0])\n",
        "free_agg_df.drop([\"VAS_Type\"],axis=1,inplace=True)\n",
        "free_agg_df.rename(columns={\"VAS\":\"FREE_VAS_Package\",\"Month_Subscribed\":\"FREE_VAS_Month_Subscribed\",\"Rental\":\"FREE_VAS_Rental\",\"One_Time_Charge\":\"FREE_VAS_One_Time_Charge\"},inplace=True)\n",
        "free_agg_df['VAS_Count'] = free_agg_df.apply(lambda x: len(x['VAS_Count']), axis=1)"
      ],
      "outputs": [],
      "execution_count": 163,
      "metadata": {}
    },
    {
      "cell_type": "code",
      "source": [
        "free_agg_df"
      ],
      "outputs": [
        {
          "output_type": "execute_result",
          "execution_count": 164,
          "data": {
            "text/html": "<div>\n<style scoped>\n    .dataframe tbody tr th:only-of-type {\n        vertical-align: middle;\n    }\n\n    .dataframe tbody tr th {\n        vertical-align: top;\n    }\n\n    .dataframe thead th {\n        text-align: right;\n    }\n</style>\n<table border=\"1\" class=\"dataframe\">\n  <thead>\n    <tr style=\"text-align: right;\">\n      <th></th>\n      <th>event_source.hash</th>\n      <th>ACCOUNT_NUM.hash</th>\n      <th>CUSTOMER_REF.hash</th>\n      <th>FREE_VAS_Package</th>\n      <th>FREE_VAS_Month_Subscribed</th>\n      <th>FREE_VAS_Rental</th>\n      <th>FREE_VAS_One_Time_Charge</th>\n      <th>VAS_Count</th>\n    </tr>\n  </thead>\n  <tbody>\n    <tr>\n      <th>0</th>\n      <td>00099ff6e175f2b49e7067b20d69e4c3</td>\n      <td>6b4bfa1e32f513071c6b138a86c3bac9</td>\n      <td>0552174bba6950523aa45450f6690d02</td>\n      <td>[V_SLT Voice Service]</td>\n      <td>[2018-08]</td>\n      <td>[0]</td>\n      <td>[0.0]</td>\n      <td>1</td>\n    </tr>\n    <tr>\n      <th>1</th>\n      <td>00114ae408aa3b489b3f5d9baf7eb7ac</td>\n      <td>dd5253ea4772b427cc0e87ff6535b058</td>\n      <td>bdfc0b71edc02a021536f91cff85f00a</td>\n      <td>[V_SLT Voice Service]</td>\n      <td>[2018-08]</td>\n      <td>[0]</td>\n      <td>[0.0]</td>\n      <td>1</td>\n    </tr>\n    <tr>\n      <th>2</th>\n      <td>0014bcaff40182200be0e062cf9051cd</td>\n      <td>2c98d4759ee2eca3f2d966be8739c1fa</td>\n      <td>9ef419bc0053418c6d847a3777cc0233</td>\n      <td>[V_SLT Voice Service]</td>\n      <td>[2018-08]</td>\n      <td>[0]</td>\n      <td>[0.0]</td>\n      <td>1</td>\n    </tr>\n    <tr>\n      <th>3</th>\n      <td>00169293c66899b05ad10054c5f9a9c4</td>\n      <td>f22295dcdeb9502825e7d6140bbf8542</td>\n      <td>d4529a42fb85d23b1589bf04a1b637d6</td>\n      <td>[V_SLT Voice Service]</td>\n      <td>[2018-11]</td>\n      <td>[0]</td>\n      <td>[0.0]</td>\n      <td>1</td>\n    </tr>\n    <tr>\n      <th>4</th>\n      <td>0017f09b5ff65c692de63b95d1edee27</td>\n      <td>0e1fe0d01f3a2e9619999a1a634ec427</td>\n      <td>cd3b840fb0da1abcc5bfdebaca6cd761</td>\n      <td>[V_SLT Voice Service]</td>\n      <td>[2018-08]</td>\n      <td>[0]</td>\n      <td>[0.0]</td>\n      <td>1</td>\n    </tr>\n    <tr>\n      <th>...</th>\n      <td>...</td>\n      <td>...</td>\n      <td>...</td>\n      <td>...</td>\n      <td>...</td>\n      <td>...</td>\n      <td>...</td>\n      <td>...</td>\n    </tr>\n    <tr>\n      <th>18909</th>\n      <td>fffbdf8e718726a5dac393d2014a83cc</td>\n      <td>949e14e85d36002ffb954d42d3366936</td>\n      <td>51ee71e46ba64034adaf383345028fb8</td>\n      <td>[V_SLT Voice Service]</td>\n      <td>[2018-08]</td>\n      <td>[0]</td>\n      <td>[0.0]</td>\n      <td>1</td>\n    </tr>\n    <tr>\n      <th>18910</th>\n      <td>fffc787f7b89f0a9401de0dbe3ab2206</td>\n      <td>bd0cc5e96b24df6625fc68cbaf71b555</td>\n      <td>df4bc5da4eaaaab1d937c3fd2a699c3f</td>\n      <td>[V_SLT Voice Service]</td>\n      <td>[2018-09]</td>\n      <td>[0]</td>\n      <td>[0.0]</td>\n      <td>1</td>\n    </tr>\n    <tr>\n      <th>18911</th>\n      <td>ffff0039c1e0c380c4b890e6997d33c5</td>\n      <td>0e1fe0d01f3a2e9619999a1a634ec427</td>\n      <td>cd3b840fb0da1abcc5bfdebaca6cd761</td>\n      <td>[V_SLT Voice Service]</td>\n      <td>[2019-11]</td>\n      <td>[0]</td>\n      <td>[0.0]</td>\n      <td>1</td>\n    </tr>\n    <tr>\n      <th>18912</th>\n      <td>ffff41a457d4ad9618d788bdd917e4ce</td>\n      <td>44224bc1e2e7101c90bbad70dbcc5a6c</td>\n      <td>f5d47ec8993b2e30d200ec5f1c3bae1b</td>\n      <td>[V_SLT Voice Service]</td>\n      <td>[2018-08]</td>\n      <td>[0]</td>\n      <td>[0.0]</td>\n      <td>1</td>\n    </tr>\n    <tr>\n      <th>18913</th>\n      <td>ffff43d0cc07aff0964f0ae29aa10363</td>\n      <td>bd0cc5e96b24df6625fc68cbaf71b555</td>\n      <td>df4bc5da4eaaaab1d937c3fd2a699c3f</td>\n      <td>[V_SLT Voice Service]</td>\n      <td>[2018-02]</td>\n      <td>[399.0]</td>\n      <td>[0.0]</td>\n      <td>1</td>\n    </tr>\n  </tbody>\n</table>\n<p>18914 rows × 8 columns</p>\n</div>",
            "text/plain": "                      event_source.hash                  ACCOUNT_NUM.hash  \\\n0      00099ff6e175f2b49e7067b20d69e4c3  6b4bfa1e32f513071c6b138a86c3bac9   \n1      00114ae408aa3b489b3f5d9baf7eb7ac  dd5253ea4772b427cc0e87ff6535b058   \n2      0014bcaff40182200be0e062cf9051cd  2c98d4759ee2eca3f2d966be8739c1fa   \n3      00169293c66899b05ad10054c5f9a9c4  f22295dcdeb9502825e7d6140bbf8542   \n4      0017f09b5ff65c692de63b95d1edee27  0e1fe0d01f3a2e9619999a1a634ec427   \n...                                 ...                               ...   \n18909  fffbdf8e718726a5dac393d2014a83cc  949e14e85d36002ffb954d42d3366936   \n18910  fffc787f7b89f0a9401de0dbe3ab2206  bd0cc5e96b24df6625fc68cbaf71b555   \n18911  ffff0039c1e0c380c4b890e6997d33c5  0e1fe0d01f3a2e9619999a1a634ec427   \n18912  ffff41a457d4ad9618d788bdd917e4ce  44224bc1e2e7101c90bbad70dbcc5a6c   \n18913  ffff43d0cc07aff0964f0ae29aa10363  bd0cc5e96b24df6625fc68cbaf71b555   \n\n                      CUSTOMER_REF.hash       FREE_VAS_Package  \\\n0      0552174bba6950523aa45450f6690d02  [V_SLT Voice Service]   \n1      bdfc0b71edc02a021536f91cff85f00a  [V_SLT Voice Service]   \n2      9ef419bc0053418c6d847a3777cc0233  [V_SLT Voice Service]   \n3      d4529a42fb85d23b1589bf04a1b637d6  [V_SLT Voice Service]   \n4      cd3b840fb0da1abcc5bfdebaca6cd761  [V_SLT Voice Service]   \n...                                 ...                    ...   \n18909  51ee71e46ba64034adaf383345028fb8  [V_SLT Voice Service]   \n18910  df4bc5da4eaaaab1d937c3fd2a699c3f  [V_SLT Voice Service]   \n18911  cd3b840fb0da1abcc5bfdebaca6cd761  [V_SLT Voice Service]   \n18912  f5d47ec8993b2e30d200ec5f1c3bae1b  [V_SLT Voice Service]   \n18913  df4bc5da4eaaaab1d937c3fd2a699c3f  [V_SLT Voice Service]   \n\n      FREE_VAS_Month_Subscribed FREE_VAS_Rental FREE_VAS_One_Time_Charge  \\\n0                     [2018-08]             [0]                    [0.0]   \n1                     [2018-08]             [0]                    [0.0]   \n2                     [2018-08]             [0]                    [0.0]   \n3                     [2018-11]             [0]                    [0.0]   \n4                     [2018-08]             [0]                    [0.0]   \n...                         ...             ...                      ...   \n18909                 [2018-08]             [0]                    [0.0]   \n18910                 [2018-09]             [0]                    [0.0]   \n18911                 [2019-11]             [0]                    [0.0]   \n18912                 [2018-08]             [0]                    [0.0]   \n18913                 [2018-02]         [399.0]                    [0.0]   \n\n       VAS_Count  \n0              1  \n1              1  \n2              1  \n3              1  \n4              1  \n...          ...  \n18909          1  \n18910          1  \n18911          1  \n18912          1  \n18913          1  \n\n[18914 rows x 8 columns]"
          },
          "metadata": {}
        }
      ],
      "execution_count": 164,
      "metadata": {}
    },
    {
      "cell_type": "code",
      "source": [
        "len(free_agg_df[\"event_source.hash\"].unique())"
      ],
      "outputs": [
        {
          "output_type": "execute_result",
          "execution_count": 165,
          "data": {
            "text/plain": "18914"
          },
          "metadata": {}
        }
      ],
      "execution_count": 165,
      "metadata": {}
    },
    {
      "cell_type": "code",
      "source": [
        "free_agg_df.to_csv(\"data/user_profile/VAS_FREE_Aggregated.csv\")"
      ],
      "outputs": [],
      "execution_count": 166,
      "metadata": {}
    },
    {
      "cell_type": "code",
      "source": [],
      "outputs": [],
      "execution_count": null,
      "metadata": {}
    },
    {
      "cell_type": "markdown",
      "source": [
        "## Subscription Promotion Upgrade Downgrade orders"
      ],
      "metadata": {}
    },
    {
      "cell_type": "code",
      "source": [
        "promotion_df = pd.read_excel(\"data/new/Promotion_Upgrade_Dates.xls\")  "
      ],
      "outputs": [],
      "execution_count": 722,
      "metadata": {}
    },
    {
      "cell_type": "code",
      "source": [
        "promotion_df =promotion_df[[\"CUSTOMER_REF.hash\",\"ACCOUNT_NUM.hash\",\"MAX_DSP\",\"ORDER_CONDITION\",\"ADDING_PROMO\",\"Deleting_PROMO\",\"Updating_PROMO\"]]"
      ],
      "outputs": [],
      "execution_count": 723,
      "metadata": {}
    },
    {
      "cell_type": "code",
      "source": [
        "promotion_df.info()"
      ],
      "outputs": [
        {
          "output_type": "stream",
          "name": "stdout",
          "text": [
            "<class 'pandas.core.frame.DataFrame'>\n",
            "RangeIndex: 1496 entries, 0 to 1495\n",
            "Data columns (total 7 columns):\n",
            " #   Column             Non-Null Count  Dtype \n",
            "---  ------             --------------  ----- \n",
            " 0   CUSTOMER_REF.hash  1496 non-null   object\n",
            " 1   ACCOUNT_NUM.hash   1496 non-null   object\n",
            " 2   MAX_DSP            1495 non-null   object\n",
            " 3   ORDER_CONDITION    1496 non-null   object\n",
            " 4   ADDING_PROMO       1467 non-null   object\n",
            " 5   Deleting_PROMO     1467 non-null   object\n",
            " 6   Updating_PROMO     5 non-null      object\n",
            "dtypes: object(7)\n",
            "memory usage: 81.9+ KB\n"
          ]
        }
      ],
      "execution_count": 724,
      "metadata": {}
    },
    {
      "cell_type": "markdown",
      "source": [
        "### Exporting customer - subscription dataset"
      ],
      "metadata": {}
    },
    {
      "cell_type": "code",
      "source": [
        "sub_df = promotion_df[[\"CUSTOMER_REF.hash\",\"ACCOUNT_NUM.hash\",\"ADDING_PROMO\"]]"
      ],
      "outputs": [],
      "execution_count": 725,
      "metadata": {}
    },
    {
      "cell_type": "code",
      "source": [
        "sub_df.rename(columns={\"ADDING_PROMO\":\"Subscription\"}, inplace=True)"
      ],
      "outputs": [
        {
          "output_type": "stream",
          "name": "stderr",
          "text": [
            "/home/chiran/anaconda3/lib/python3.8/site-packages/pandas/core/frame.py:4296: SettingWithCopyWarning: \n",
            "A value is trying to be set on a copy of a slice from a DataFrame\n",
            "\n",
            "See the caveats in the documentation: https://pandas.pydata.org/pandas-docs/stable/user_guide/indexing.html#returning-a-view-versus-a-copy\n",
            "  return super().rename(\n"
          ]
        }
      ],
      "execution_count": 726,
      "metadata": {}
    },
    {
      "cell_type": "code",
      "source": [
        "sub_df[\"Subscription\"].unique()"
      ],
      "outputs": [
        {
          "output_type": "execute_result",
          "execution_count": 727,
          "data": {
            "text/plain": "array(['SLT Megaline Double Play (PV) Package',\n       'SLT Megaline Triple Play Package',\n       'SLT Megaline Single Play Package',\n       'SLT Megaline Double Play (BV) Package', nan,\n       'SLT Smartline Triple Play', 'SLT LTE Double Play Package',\n       'SLT LTE 4G Biz Pal Package', 'SLT Smartline Double Play (PV)',\n       'SLT LTE 4G Net Pal Package', 'SLT LTE 4G Voice Pal Basic Package',\n       'SLT Smartline Double Play (BV)'], dtype=object)"
          },
          "metadata": {}
        }
      ],
      "execution_count": 727,
      "metadata": {}
    },
    {
      "cell_type": "code",
      "source": [
        "sub_df.isnull().sum(axis=0)"
      ],
      "outputs": [
        {
          "output_type": "execute_result",
          "execution_count": 728,
          "data": {
            "text/plain": "CUSTOMER_REF.hash     0\nACCOUNT_NUM.hash      0\nSubscription         29\ndtype: int64"
          },
          "metadata": {}
        }
      ],
      "execution_count": 728,
      "metadata": {}
    },
    {
      "cell_type": "code",
      "source": [
        "sub_df.dropna(inplace=True)"
      ],
      "outputs": [
        {
          "output_type": "stream",
          "name": "stderr",
          "text": [
            "<ipython-input-729-127880e692ed>:1: SettingWithCopyWarning: \n",
            "A value is trying to be set on a copy of a slice from a DataFrame\n",
            "\n",
            "See the caveats in the documentation: https://pandas.pydata.org/pandas-docs/stable/user_guide/indexing.html#returning-a-view-versus-a-copy\n",
            "  sub_df.dropna(inplace=True)\n"
          ]
        }
      ],
      "execution_count": 729,
      "metadata": {}
    },
    {
      "cell_type": "code",
      "source": [
        "def sub_type(sub):\n",
        "    if \"Single Play\" in sub:\n",
        "        return \"SINGLE_PLAY\"\n",
        "    if \"Triple Play\" in sub:\n",
        "        return \"TRIPLE_PLAY\"\n",
        "    if \"Double Play (PV)\" in sub:\n",
        "        return \"DOUBLE_PLAY_PV\"\n",
        "    if \"Double Play (BV)\" in sub or \"LTE Double Play\" in sub:\n",
        "        return \"DOUBLE_PLAY_BV\"\n",
        "    if \"LTE 4G\" in sub:\n",
        "        return \"4G\""
      ],
      "outputs": [],
      "execution_count": 730,
      "metadata": {}
    },
    {
      "cell_type": "code",
      "source": [
        "sub_df[\"Sub_Type\"] = sub_df[\"Subscription\"].apply(lambda x: sub_type(x))"
      ],
      "outputs": [
        {
          "output_type": "stream",
          "name": "stderr",
          "text": [
            "<ipython-input-731-96b5985bec8f>:1: SettingWithCopyWarning: \n",
            "A value is trying to be set on a copy of a slice from a DataFrame.\n",
            "Try using .loc[row_indexer,col_indexer] = value instead\n",
            "\n",
            "See the caveats in the documentation: https://pandas.pydata.org/pandas-docs/stable/user_guide/indexing.html#returning-a-view-versus-a-copy\n",
            "  sub_df[\"Sub_Type\"] = sub_df[\"Subscription\"].apply(lambda x: sub_type(x))\n"
          ]
        }
      ],
      "execution_count": 731,
      "metadata": {}
    },
    {
      "cell_type": "code",
      "source": [
        "sub_df[\"Sub_Type\"].value_counts()"
      ],
      "outputs": [
        {
          "output_type": "execute_result",
          "execution_count": 732,
          "data": {
            "text/plain": "TRIPLE_PLAY       491\nDOUBLE_PLAY_PV    347\nSINGLE_PLAY       323\nDOUBLE_PLAY_BV    303\n4G                  3\nName: Sub_Type, dtype: int64"
          },
          "metadata": {}
        }
      ],
      "execution_count": 732,
      "metadata": {}
    },
    {
      "cell_type": "code",
      "source": [
        "# Mapping phone number\n",
        "sub_df = sub_df.merge(acc_no_map,how='left',on=[\"ACCOUNT_NUM.hash\",\"CUSTOMER_REF.hash\"])"
      ],
      "outputs": [],
      "execution_count": 733,
      "metadata": {}
    },
    {
      "cell_type": "code",
      "source": [
        "sub_df.drop_duplicates([\"event_source.hash\"],inplace=True)\n",
        "sub_df.reset_index(inplace=True)\n",
        "sub_df.drop([\"index\"],axis=1,inplace=True)\n",
        "sub_df = sub_df[[\"event_source.hash\",\"ACCOUNT_NUM.hash\",\"CUSTOMER_REF.hash\",\"Subscription\",\"Sub_Type\"]]\n",
        "sub_df"
      ],
      "outputs": [
        {
          "output_type": "execute_result",
          "execution_count": 734,
          "data": {
            "text/html": "<div>\n<style scoped>\n    .dataframe tbody tr th:only-of-type {\n        vertical-align: middle;\n    }\n\n    .dataframe tbody tr th {\n        vertical-align: top;\n    }\n\n    .dataframe thead th {\n        text-align: right;\n    }\n</style>\n<table border=\"1\" class=\"dataframe\">\n  <thead>\n    <tr style=\"text-align: right;\">\n      <th></th>\n      <th>event_source.hash</th>\n      <th>ACCOUNT_NUM.hash</th>\n      <th>CUSTOMER_REF.hash</th>\n      <th>Subscription</th>\n      <th>Sub_Type</th>\n    </tr>\n  </thead>\n  <tbody>\n    <tr>\n      <th>0</th>\n      <td>0d3e013c9b350387311e17773bfc6e17</td>\n      <td>59322724d5029e5667d19ae164cdc16d</td>\n      <td>efeab37d377b0f32b7f70b159f824652</td>\n      <td>SLT Megaline Double Play (PV) Package</td>\n      <td>DOUBLE_PLAY_PV</td>\n    </tr>\n    <tr>\n      <th>1</th>\n      <td>56ad7e0c53f6cb5a35f056f58317d627</td>\n      <td>59322724d5029e5667d19ae164cdc16d</td>\n      <td>efeab37d377b0f32b7f70b159f824652</td>\n      <td>SLT Megaline Double Play (PV) Package</td>\n      <td>DOUBLE_PLAY_PV</td>\n    </tr>\n    <tr>\n      <th>2</th>\n      <td>0d13e2f0bd4ce0b3d28c1cea1319a109</td>\n      <td>59322724d5029e5667d19ae164cdc16d</td>\n      <td>efeab37d377b0f32b7f70b159f824652</td>\n      <td>SLT Megaline Double Play (PV) Package</td>\n      <td>DOUBLE_PLAY_PV</td>\n    </tr>\n    <tr>\n      <th>3</th>\n      <td>c04d14b1ae606541c9c6ae0e6b368086</td>\n      <td>59322724d5029e5667d19ae164cdc16d</td>\n      <td>efeab37d377b0f32b7f70b159f824652</td>\n      <td>SLT Megaline Double Play (PV) Package</td>\n      <td>DOUBLE_PLAY_PV</td>\n    </tr>\n    <tr>\n      <th>4</th>\n      <td>6290167ca39638c98f743122d90c75bb</td>\n      <td>59322724d5029e5667d19ae164cdc16d</td>\n      <td>efeab37d377b0f32b7f70b159f824652</td>\n      <td>SLT Megaline Double Play (PV) Package</td>\n      <td>DOUBLE_PLAY_PV</td>\n    </tr>\n    <tr>\n      <th>...</th>\n      <td>...</td>\n      <td>...</td>\n      <td>...</td>\n      <td>...</td>\n      <td>...</td>\n    </tr>\n    <tr>\n      <th>20281</th>\n      <td>7273147fecbe61d8d2a46d4c81ac28a6</td>\n      <td>7aa8c0a144b14c0d37d9b50e420c4773</td>\n      <td>ebd74330fc980cc9a5f9b06cd275eaca</td>\n      <td>SLT Megaline Triple Play Package</td>\n      <td>TRIPLE_PLAY</td>\n    </tr>\n    <tr>\n      <th>20282</th>\n      <td>e50847ef96deae5e77baf1c842536376</td>\n      <td>1b90f00af43142138b9b33bb1cbf00dd</td>\n      <td>5ef66392d4c836402c076f423060f390</td>\n      <td>SLT Megaline Single Play Package</td>\n      <td>SINGLE_PLAY</td>\n    </tr>\n    <tr>\n      <th>20283</th>\n      <td>4d745e7d1d13f7ae04bdf2fb6a20aecb</td>\n      <td>1b90f00af43142138b9b33bb1cbf00dd</td>\n      <td>5ef66392d4c836402c076f423060f390</td>\n      <td>SLT Megaline Single Play Package</td>\n      <td>SINGLE_PLAY</td>\n    </tr>\n    <tr>\n      <th>20284</th>\n      <td>0f26a3a983b6440f508d5561ba8ace95</td>\n      <td>1b90f00af43142138b9b33bb1cbf00dd</td>\n      <td>5ef66392d4c836402c076f423060f390</td>\n      <td>SLT Megaline Single Play Package</td>\n      <td>SINGLE_PLAY</td>\n    </tr>\n    <tr>\n      <th>20285</th>\n      <td>43e8ce750aa9bfb5e545408ce862ce6d</td>\n      <td>3c51761a6fb0afadf335a01400591b19</td>\n      <td>d30d02cd40b541aca52dff98adc24449</td>\n      <td>SLT Megaline Double Play (PV) Package</td>\n      <td>DOUBLE_PLAY_PV</td>\n    </tr>\n  </tbody>\n</table>\n<p>20286 rows × 5 columns</p>\n</div>",
            "text/plain": "                      event_source.hash                  ACCOUNT_NUM.hash  \\\n0      0d3e013c9b350387311e17773bfc6e17  59322724d5029e5667d19ae164cdc16d   \n1      56ad7e0c53f6cb5a35f056f58317d627  59322724d5029e5667d19ae164cdc16d   \n2      0d13e2f0bd4ce0b3d28c1cea1319a109  59322724d5029e5667d19ae164cdc16d   \n3      c04d14b1ae606541c9c6ae0e6b368086  59322724d5029e5667d19ae164cdc16d   \n4      6290167ca39638c98f743122d90c75bb  59322724d5029e5667d19ae164cdc16d   \n...                                 ...                               ...   \n20281  7273147fecbe61d8d2a46d4c81ac28a6  7aa8c0a144b14c0d37d9b50e420c4773   \n20282  e50847ef96deae5e77baf1c842536376  1b90f00af43142138b9b33bb1cbf00dd   \n20283  4d745e7d1d13f7ae04bdf2fb6a20aecb  1b90f00af43142138b9b33bb1cbf00dd   \n20284  0f26a3a983b6440f508d5561ba8ace95  1b90f00af43142138b9b33bb1cbf00dd   \n20285  43e8ce750aa9bfb5e545408ce862ce6d  3c51761a6fb0afadf335a01400591b19   \n\n                      CUSTOMER_REF.hash  \\\n0      efeab37d377b0f32b7f70b159f824652   \n1      efeab37d377b0f32b7f70b159f824652   \n2      efeab37d377b0f32b7f70b159f824652   \n3      efeab37d377b0f32b7f70b159f824652   \n4      efeab37d377b0f32b7f70b159f824652   \n...                                 ...   \n20281  ebd74330fc980cc9a5f9b06cd275eaca   \n20282  5ef66392d4c836402c076f423060f390   \n20283  5ef66392d4c836402c076f423060f390   \n20284  5ef66392d4c836402c076f423060f390   \n20285  d30d02cd40b541aca52dff98adc24449   \n\n                                Subscription        Sub_Type  \n0      SLT Megaline Double Play (PV) Package  DOUBLE_PLAY_PV  \n1      SLT Megaline Double Play (PV) Package  DOUBLE_PLAY_PV  \n2      SLT Megaline Double Play (PV) Package  DOUBLE_PLAY_PV  \n3      SLT Megaline Double Play (PV) Package  DOUBLE_PLAY_PV  \n4      SLT Megaline Double Play (PV) Package  DOUBLE_PLAY_PV  \n...                                      ...             ...  \n20281       SLT Megaline Triple Play Package     TRIPLE_PLAY  \n20282       SLT Megaline Single Play Package     SINGLE_PLAY  \n20283       SLT Megaline Single Play Package     SINGLE_PLAY  \n20284       SLT Megaline Single Play Package     SINGLE_PLAY  \n20285  SLT Megaline Double Play (PV) Package  DOUBLE_PLAY_PV  \n\n[20286 rows x 5 columns]"
          },
          "metadata": {}
        }
      ],
      "execution_count": 734,
      "metadata": {}
    },
    {
      "cell_type": "code",
      "source": [
        "sub_df.isnull().sum(axis=0)"
      ],
      "outputs": [
        {
          "output_type": "execute_result",
          "execution_count": 735,
          "data": {
            "text/plain": "event_source.hash    0\nACCOUNT_NUM.hash     0\nCUSTOMER_REF.hash    0\nSubscription         0\nSub_Type             0\ndtype: int64"
          },
          "metadata": {}
        }
      ],
      "execution_count": 735,
      "metadata": {}
    },
    {
      "cell_type": "code",
      "source": [
        "sub_df.to_csv(\"data/user_profile/User_Subscription_Map.csv\")"
      ],
      "outputs": [],
      "execution_count": 736,
      "metadata": {}
    },
    {
      "cell_type": "code",
      "source": [],
      "outputs": [],
      "execution_count": null,
      "metadata": {}
    },
    {
      "cell_type": "markdown",
      "source": [
        "## Subscription Upgrades and Downgrades"
      ],
      "metadata": {}
    },
    {
      "cell_type": "code",
      "source": [
        "promo_change_df = promotion_df[[\"ACCOUNT_NUM.hash\",\"MAX_DSP\",\"ORDER_CONDITION\",\"Deleting_PROMO\",\"ADDING_PROMO\"]].merge(acc_no_map,how='left',on=[\"ACCOUNT_NUM.hash\"])"
      ],
      "outputs": [],
      "execution_count": 737,
      "metadata": {}
    },
    {
      "cell_type": "code",
      "source": [
        "promo_change_df.drop_duplicates([\"event_source.hash\"],inplace=True)\n",
        "promo_change_df.reset_index(inplace=True)\n",
        "promo_change_df.drop([\"index\"],axis=1,inplace=True)\n",
        "promo_change_df.rename(columns={\"MAX_DSP\":\"Sub_Update_Date\",\"ORDER_CONDITION\":\"Sub_Update_Status\",\"Deleting_PROMO\":\"Sub_Removed\",\"ADDING_PROMO\":\"Sub_Added\"},inplace=True)"
      ],
      "outputs": [],
      "execution_count": 738,
      "metadata": {}
    },
    {
      "cell_type": "code",
      "source": [
        "promo_change_df = promo_change_df[[\"event_source.hash\",\"ACCOUNT_NUM.hash\",\"CUSTOMER_REF.hash\",\"Sub_Update_Date\",\"Sub_Update_Status\",\"Sub_Added\",\"Sub_Removed\"]]\n",
        "promo_change_df"
      ],
      "outputs": [
        {
          "output_type": "execute_result",
          "execution_count": 739,
          "data": {
            "text/html": "<div>\n<style scoped>\n    .dataframe tbody tr th:only-of-type {\n        vertical-align: middle;\n    }\n\n    .dataframe tbody tr th {\n        vertical-align: top;\n    }\n\n    .dataframe thead th {\n        text-align: right;\n    }\n</style>\n<table border=\"1\" class=\"dataframe\">\n  <thead>\n    <tr style=\"text-align: right;\">\n      <th></th>\n      <th>event_source.hash</th>\n      <th>ACCOUNT_NUM.hash</th>\n      <th>CUSTOMER_REF.hash</th>\n      <th>Sub_Update_Date</th>\n      <th>Sub_Update_Status</th>\n      <th>Sub_Added</th>\n      <th>Sub_Removed</th>\n    </tr>\n  </thead>\n  <tbody>\n    <tr>\n      <th>0</th>\n      <td>0d3e013c9b350387311e17773bfc6e17</td>\n      <td>59322724d5029e5667d19ae164cdc16d</td>\n      <td>efeab37d377b0f32b7f70b159f824652</td>\n      <td>26/06/2020 15:24:00</td>\n      <td>Promotion Upgrade</td>\n      <td>SLT Megaline Double Play (PV) Package</td>\n      <td>SLT Megaline Single Play Package</td>\n    </tr>\n    <tr>\n      <th>1</th>\n      <td>56ad7e0c53f6cb5a35f056f58317d627</td>\n      <td>59322724d5029e5667d19ae164cdc16d</td>\n      <td>efeab37d377b0f32b7f70b159f824652</td>\n      <td>26/06/2020 15:24:00</td>\n      <td>Promotion Upgrade</td>\n      <td>SLT Megaline Double Play (PV) Package</td>\n      <td>SLT Megaline Single Play Package</td>\n    </tr>\n    <tr>\n      <th>2</th>\n      <td>0d13e2f0bd4ce0b3d28c1cea1319a109</td>\n      <td>59322724d5029e5667d19ae164cdc16d</td>\n      <td>efeab37d377b0f32b7f70b159f824652</td>\n      <td>26/06/2020 15:24:00</td>\n      <td>Promotion Upgrade</td>\n      <td>SLT Megaline Double Play (PV) Package</td>\n      <td>SLT Megaline Single Play Package</td>\n    </tr>\n    <tr>\n      <th>3</th>\n      <td>c04d14b1ae606541c9c6ae0e6b368086</td>\n      <td>59322724d5029e5667d19ae164cdc16d</td>\n      <td>efeab37d377b0f32b7f70b159f824652</td>\n      <td>26/06/2020 15:24:00</td>\n      <td>Promotion Upgrade</td>\n      <td>SLT Megaline Double Play (PV) Package</td>\n      <td>SLT Megaline Single Play Package</td>\n    </tr>\n    <tr>\n      <th>4</th>\n      <td>6290167ca39638c98f743122d90c75bb</td>\n      <td>59322724d5029e5667d19ae164cdc16d</td>\n      <td>efeab37d377b0f32b7f70b159f824652</td>\n      <td>26/06/2020 15:24:00</td>\n      <td>Promotion Upgrade</td>\n      <td>SLT Megaline Double Play (PV) Package</td>\n      <td>SLT Megaline Single Play Package</td>\n    </tr>\n    <tr>\n      <th>...</th>\n      <td>...</td>\n      <td>...</td>\n      <td>...</td>\n      <td>...</td>\n      <td>...</td>\n      <td>...</td>\n      <td>...</td>\n    </tr>\n    <tr>\n      <th>20304</th>\n      <td>7273147fecbe61d8d2a46d4c81ac28a6</td>\n      <td>7aa8c0a144b14c0d37d9b50e420c4773</td>\n      <td>ebd74330fc980cc9a5f9b06cd275eaca</td>\n      <td>05/02/2020 18:21:00</td>\n      <td>Promotion Upgrade</td>\n      <td>SLT Megaline Triple Play Package</td>\n      <td>SLT Megaline Single Play Package</td>\n    </tr>\n    <tr>\n      <th>20305</th>\n      <td>e50847ef96deae5e77baf1c842536376</td>\n      <td>1b90f00af43142138b9b33bb1cbf00dd</td>\n      <td>5ef66392d4c836402c076f423060f390</td>\n      <td>29/01/2020 12:34:00</td>\n      <td>Promotion Downgrade</td>\n      <td>SLT Megaline Single Play Package</td>\n      <td>SLT Megaline Double Play (BV) Package</td>\n    </tr>\n    <tr>\n      <th>20306</th>\n      <td>4d745e7d1d13f7ae04bdf2fb6a20aecb</td>\n      <td>1b90f00af43142138b9b33bb1cbf00dd</td>\n      <td>5ef66392d4c836402c076f423060f390</td>\n      <td>29/01/2020 12:34:00</td>\n      <td>Promotion Downgrade</td>\n      <td>SLT Megaline Single Play Package</td>\n      <td>SLT Megaline Double Play (BV) Package</td>\n    </tr>\n    <tr>\n      <th>20307</th>\n      <td>0f26a3a983b6440f508d5561ba8ace95</td>\n      <td>1b90f00af43142138b9b33bb1cbf00dd</td>\n      <td>5ef66392d4c836402c076f423060f390</td>\n      <td>29/01/2020 12:34:00</td>\n      <td>Promotion Downgrade</td>\n      <td>SLT Megaline Single Play Package</td>\n      <td>SLT Megaline Double Play (BV) Package</td>\n    </tr>\n    <tr>\n      <th>20308</th>\n      <td>43e8ce750aa9bfb5e545408ce862ce6d</td>\n      <td>3c51761a6fb0afadf335a01400591b19</td>\n      <td>d30d02cd40b541aca52dff98adc24449</td>\n      <td>29/01/2020 12:54:25</td>\n      <td>Promotion Downgrade</td>\n      <td>SLT Megaline Double Play (PV) Package</td>\n      <td>SLT Megaline Triple Play Package</td>\n    </tr>\n  </tbody>\n</table>\n<p>20309 rows × 7 columns</p>\n</div>",
            "text/plain": "                      event_source.hash                  ACCOUNT_NUM.hash  \\\n0      0d3e013c9b350387311e17773bfc6e17  59322724d5029e5667d19ae164cdc16d   \n1      56ad7e0c53f6cb5a35f056f58317d627  59322724d5029e5667d19ae164cdc16d   \n2      0d13e2f0bd4ce0b3d28c1cea1319a109  59322724d5029e5667d19ae164cdc16d   \n3      c04d14b1ae606541c9c6ae0e6b368086  59322724d5029e5667d19ae164cdc16d   \n4      6290167ca39638c98f743122d90c75bb  59322724d5029e5667d19ae164cdc16d   \n...                                 ...                               ...   \n20304  7273147fecbe61d8d2a46d4c81ac28a6  7aa8c0a144b14c0d37d9b50e420c4773   \n20305  e50847ef96deae5e77baf1c842536376  1b90f00af43142138b9b33bb1cbf00dd   \n20306  4d745e7d1d13f7ae04bdf2fb6a20aecb  1b90f00af43142138b9b33bb1cbf00dd   \n20307  0f26a3a983b6440f508d5561ba8ace95  1b90f00af43142138b9b33bb1cbf00dd   \n20308  43e8ce750aa9bfb5e545408ce862ce6d  3c51761a6fb0afadf335a01400591b19   \n\n                      CUSTOMER_REF.hash      Sub_Update_Date  \\\n0      efeab37d377b0f32b7f70b159f824652  26/06/2020 15:24:00   \n1      efeab37d377b0f32b7f70b159f824652  26/06/2020 15:24:00   \n2      efeab37d377b0f32b7f70b159f824652  26/06/2020 15:24:00   \n3      efeab37d377b0f32b7f70b159f824652  26/06/2020 15:24:00   \n4      efeab37d377b0f32b7f70b159f824652  26/06/2020 15:24:00   \n...                                 ...                  ...   \n20304  ebd74330fc980cc9a5f9b06cd275eaca  05/02/2020 18:21:00   \n20305  5ef66392d4c836402c076f423060f390  29/01/2020 12:34:00   \n20306  5ef66392d4c836402c076f423060f390  29/01/2020 12:34:00   \n20307  5ef66392d4c836402c076f423060f390  29/01/2020 12:34:00   \n20308  d30d02cd40b541aca52dff98adc24449  29/01/2020 12:54:25   \n\n         Sub_Update_Status                              Sub_Added  \\\n0        Promotion Upgrade  SLT Megaline Double Play (PV) Package   \n1        Promotion Upgrade  SLT Megaline Double Play (PV) Package   \n2        Promotion Upgrade  SLT Megaline Double Play (PV) Package   \n3        Promotion Upgrade  SLT Megaline Double Play (PV) Package   \n4        Promotion Upgrade  SLT Megaline Double Play (PV) Package   \n...                    ...                                    ...   \n20304    Promotion Upgrade       SLT Megaline Triple Play Package   \n20305  Promotion Downgrade       SLT Megaline Single Play Package   \n20306  Promotion Downgrade       SLT Megaline Single Play Package   \n20307  Promotion Downgrade       SLT Megaline Single Play Package   \n20308  Promotion Downgrade  SLT Megaline Double Play (PV) Package   \n\n                                 Sub_Removed  \n0           SLT Megaline Single Play Package  \n1           SLT Megaline Single Play Package  \n2           SLT Megaline Single Play Package  \n3           SLT Megaline Single Play Package  \n4           SLT Megaline Single Play Package  \n...                                      ...  \n20304       SLT Megaline Single Play Package  \n20305  SLT Megaline Double Play (BV) Package  \n20306  SLT Megaline Double Play (BV) Package  \n20307  SLT Megaline Double Play (BV) Package  \n20308       SLT Megaline Triple Play Package  \n\n[20309 rows x 7 columns]"
          },
          "metadata": {}
        }
      ],
      "execution_count": 739,
      "metadata": {}
    },
    {
      "cell_type": "code",
      "source": [
        "promo_change_df.isnull().sum(axis=0)"
      ],
      "outputs": [
        {
          "output_type": "execute_result",
          "execution_count": 740,
          "data": {
            "text/plain": "event_source.hash      0\nACCOUNT_NUM.hash       0\nCUSTOMER_REF.hash      0\nSub_Update_Date        0\nSub_Update_Status      0\nSub_Added            403\nSub_Removed          403\ndtype: int64"
          },
          "metadata": {}
        }
      ],
      "execution_count": 740,
      "metadata": {}
    },
    {
      "cell_type": "code",
      "source": [
        "promo_change_df.dropna(inplace=True)"
      ],
      "outputs": [],
      "execution_count": 741,
      "metadata": {}
    },
    {
      "cell_type": "code",
      "source": [
        "promo_change_df[\"Sub_Removed\"] = promo_change_df[\"Sub_Removed\"].apply(lambda x: sub_type(x))\n",
        "promo_change_df[\"Sub_Added\"] = promo_change_df[\"Sub_Added\"].apply(lambda x: sub_type(x))"
      ],
      "outputs": [],
      "execution_count": 742,
      "metadata": {}
    },
    {
      "cell_type": "code",
      "source": [
        "def sub_change_state(sub1,sub2):\n",
        "    return f\"{sub1} -> {sub2}\""
      ],
      "outputs": [],
      "execution_count": 743,
      "metadata": {}
    },
    {
      "cell_type": "code",
      "source": [
        "promo_change_df[\"Sub_Update\"] = promo_change_df.apply(lambda x: sub_change_state(x[\"Sub_Removed\"],x[\"Sub_Added\"]),axis=1)"
      ],
      "outputs": [],
      "execution_count": 744,
      "metadata": {}
    },
    {
      "cell_type": "code",
      "source": [
        "promo_change_df[[\"Sub_Update_Status\",\"Sub_Update\"]].value_counts()"
      ],
      "outputs": [
        {
          "output_type": "execute_result",
          "execution_count": 745,
          "data": {
            "text/plain": "Sub_Update_Status    Sub_Update                      \nPromotion Upgrade    SINGLE_PLAY -> DOUBLE_PLAY_BV       8571\n                     SINGLE_PLAY -> DOUBLE_PLAY_PV       6521\nPromotion Downgrade  DOUBLE_PLAY_BV -> SINGLE_PLAY       2052\nPromotion Upgrade    DOUBLE_PLAY_PV -> TRIPLE_PLAY       1541\n                     DOUBLE_PLAY_BV -> TRIPLE_PLAY        376\n                     TRIPLE_PLAY -> DOUBLE_PLAY_BV        249\nPromotion Downgrade  DOUBLE_PLAY_PV -> SINGLE_PLAY        197\n                     TRIPLE_PLAY -> DOUBLE_PLAY_PV        111\nPromotion Upgrade    4G -> 4G                             102\n                     SINGLE_PLAY -> TRIPLE_PLAY            80\nPromotion Downgrade  TRIPLE_PLAY -> SINGLE_PLAY            66\n                     TRIPLE_PLAY -> DOUBLE_PLAY_BV         29\nPromotion Upgrade    TRIPLE_PLAY -> DOUBLE_PLAY_PV          3\n                     DOUBLE_PLAY_BV -> SINGLE_PLAY          2\n                     DOUBLE_PLAY_PV -> DOUBLE_PLAY_BV       2\nPromotion Downgrade  DOUBLE_PLAY_BV -> TRIPLE_PLAY          2\n                     SINGLE_PLAY -> DOUBLE_PLAY_BV          1\n                     DOUBLE_PLAY_PV -> TRIPLE_PLAY          1\ndtype: int64"
          },
          "metadata": {}
        }
      ],
      "execution_count": 745,
      "metadata": {}
    },
    {
      "cell_type": "code",
      "source": [
        "promo_change_df.drop(promo_change_df.query(\"Sub_Update_Status == 'Promotion Upgrade' & Sub_Update == 'TRIPLE_PLAY -> DOUBLE_PLAY_BV'\").index, inplace=True)"
      ],
      "outputs": [],
      "execution_count": 746,
      "metadata": {}
    },
    {
      "cell_type": "code",
      "source": [
        "promo_change_df.drop(promo_change_df.query(\"Sub_Update_Status == 'Promotion Upgrade' & Sub_Update == 'TRIPLE_PLAY -> DOUBLE_PLAY_PV'\").index, inplace=True)"
      ],
      "outputs": [],
      "execution_count": 747,
      "metadata": {}
    },
    {
      "cell_type": "code",
      "source": [
        "promo_change_df.drop(promo_change_df.query(\"Sub_Update_Status == 'Promotion Downgrade' & Sub_Update == 'SINGLE_PLAY -> DOUBLE_PLAY_BV'\").index, inplace=True)"
      ],
      "outputs": [],
      "execution_count": 748,
      "metadata": {}
    },
    {
      "cell_type": "code",
      "source": [
        "promo_change_df.drop(promo_change_df.query(\"Sub_Update_Status == 'Promotion Downgrade' & Sub_Update == 'DOUBLE_PLAY_BV -> TRIPLE_PLAY'\").index, inplace=True)"
      ],
      "outputs": [],
      "execution_count": 749,
      "metadata": {}
    },
    {
      "cell_type": "code",
      "source": [
        "promo_change_df.drop(promo_change_df.query(\"Sub_Update_Status == 'Promotion Downgrade' & Sub_Update == 'DOUBLE_PLAY_PV -> TRIPLE_PLAY'\").index, inplace=True)"
      ],
      "outputs": [],
      "execution_count": 750,
      "metadata": {}
    },
    {
      "cell_type": "code",
      "source": [
        "promo_change_df.drop(promo_change_df.query(\"Sub_Update_Status == 'Promotion Upgrade' & Sub_Update == 'DOUBLE_PLAY_BV -> SINGLE_PLAY'\").index, inplace=True)"
      ],
      "outputs": [],
      "execution_count": 751,
      "metadata": {}
    },
    {
      "cell_type": "code",
      "source": [
        "promo_change_df[[\"Sub_Update_Status\",\"Sub_Update\"]].value_counts()"
      ],
      "outputs": [
        {
          "output_type": "execute_result",
          "execution_count": 752,
          "data": {
            "text/plain": "Sub_Update_Status    Sub_Update                      \nPromotion Upgrade    SINGLE_PLAY -> DOUBLE_PLAY_BV       8571\n                     SINGLE_PLAY -> DOUBLE_PLAY_PV       6521\nPromotion Downgrade  DOUBLE_PLAY_BV -> SINGLE_PLAY       2052\nPromotion Upgrade    DOUBLE_PLAY_PV -> TRIPLE_PLAY       1541\n                     DOUBLE_PLAY_BV -> TRIPLE_PLAY        376\nPromotion Downgrade  DOUBLE_PLAY_PV -> SINGLE_PLAY        197\n                     TRIPLE_PLAY -> DOUBLE_PLAY_PV        111\nPromotion Upgrade    4G -> 4G                             102\n                     SINGLE_PLAY -> TRIPLE_PLAY            80\nPromotion Downgrade  TRIPLE_PLAY -> SINGLE_PLAY            66\n                     TRIPLE_PLAY -> DOUBLE_PLAY_BV         29\nPromotion Upgrade    DOUBLE_PLAY_PV -> DOUBLE_PLAY_BV       2\ndtype: int64"
          },
          "metadata": {}
        }
      ],
      "execution_count": 752,
      "metadata": {}
    },
    {
      "cell_type": "code",
      "source": [
        "promo_change_df.drop([\"Sub_Added\",\"Sub_Removed\"],axis=1,inplace=True)"
      ],
      "outputs": [],
      "execution_count": 753,
      "metadata": {}
    },
    {
      "cell_type": "code",
      "source": [
        "promo_change_df.info()"
      ],
      "outputs": [
        {
          "output_type": "stream",
          "name": "stdout",
          "text": [
            "<class 'pandas.core.frame.DataFrame'>\n",
            "Int64Index: 19648 entries, 0 to 20308\n",
            "Data columns (total 6 columns):\n",
            " #   Column             Non-Null Count  Dtype \n",
            "---  ------             --------------  ----- \n",
            " 0   event_source.hash  19648 non-null  object\n",
            " 1   ACCOUNT_NUM.hash   19648 non-null  object\n",
            " 2   CUSTOMER_REF.hash  19648 non-null  object\n",
            " 3   Sub_Update_Date    19648 non-null  object\n",
            " 4   Sub_Update_Status  19648 non-null  object\n",
            " 5   Sub_Update         19648 non-null  object\n",
            "dtypes: object(6)\n",
            "memory usage: 1.0+ MB\n"
          ]
        }
      ],
      "execution_count": 754,
      "metadata": {}
    },
    {
      "cell_type": "code",
      "source": [
        "promo_change_df.to_csv(\"data/user_profile/User_Subscription_Changes.csv\")"
      ],
      "outputs": [],
      "execution_count": 755,
      "metadata": {}
    },
    {
      "cell_type": "code",
      "source": [],
      "outputs": [],
      "execution_count": null,
      "metadata": {}
    },
    {
      "cell_type": "code",
      "source": [],
      "outputs": [],
      "execution_count": null,
      "metadata": {}
    }
  ],
  "metadata": {
    "kernelspec": {
      "name": "python3",
      "language": "python",
      "display_name": "Python 3"
    },
    "language_info": {
      "name": "python",
      "version": "3.6.9",
      "mimetype": "text/x-python",
      "codemirror_mode": {
        "name": "ipython",
        "version": 3
      },
      "pygments_lexer": "ipython3",
      "nbconvert_exporter": "python",
      "file_extension": ".py"
    },
    "nteract": {
      "version": "nteract-front-end@1.0.0"
    },
    "kernel_info": {
      "name": "python3"
    }
  },
  "nbformat": 4,
  "nbformat_minor": 4
}