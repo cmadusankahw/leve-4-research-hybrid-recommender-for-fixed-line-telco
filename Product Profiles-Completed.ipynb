{
 "cells": [
  {
   "cell_type": "code",
   "execution_count": 158,
   "metadata": {},
   "outputs": [],
   "source": [
    "import pandas as pd\n",
    "import numpy as np\n",
    "from matplotlib import pyplot as plt\n",
    "from sklearn.preprocessing import MinMaxScaler\n",
    "import seaborn as sns"
   ]
  },
  {
   "cell_type": "markdown",
   "metadata": {},
   "source": [
    "### Columns - common\n",
    "- Product_ID - product code\n",
    "- Base_Type (BB/VOICE/PEOTV)\n",
    "- Pricing_Type (PAID/FREE)\n",
    "- Package_Type (ADSL/Fibre/4G/Telephone/PeoTV)\n",
    "- VAS (YES/NO) - value added service\n",
    "- Title\n",
    "- Description\n",
    "- Included_Packages - packages shipped with a product\n",
    "- Price (Rs.) - totl cost, downpayment or first installment\n",
    "- Monthly_Rental (Rs.)\n",
    "- Subscription_Type (SINGLE_PLAY/DOUBLE_PLAY/TRIPLE_PLAY)\n",
    "- Minimum_Subscription_Period (years)\n",
    "- Recidence_Type (Home/Office)\n",
    "- Tax_Status (INCLUDED/EXCLUDED)\n",
    "- Conditions - list of conditions for package\n",
    "- **Available_Regions** - list of available regions: MSAN or related level\n",
    "- **Dependent_Packages** (other products it depends on)"
   ]
  },
  {
   "cell_type": "markdown",
   "metadata": {},
   "source": [
    "### Columns- BB\n",
    "- BB_Data_standard (GB) - Standard data for a Time-based package\n",
    "- BB_Data_Free (GB) - Free data for a Time-based package\n",
    "- BB_Data_Anytime (GB) - data for anytime package\n",
    "- BB_Data_Unlimited (GB) - data for unlimited package\n",
    "- BB_Connection_Type (Time-based/Anytime/Unlimited)\n",
    "- BB_Connection_Speed (Download Speed/ Upload Speed) "
   ]
  },
  {
   "cell_type": "markdown",
   "metadata": {},
   "source": [
    "### Columns- VOICE\n",
    "- VOICE_Home_SLT_Instrument_Rental (Rs.) - Home Telephone rental (with SLT provided telephone)\n",
    "- VOICE_Home_Customer_Instrument_Rental (Rs.) - Home Telephone rental (with Customer provided telephone)\n",
    "- VOICE_Charge_Active_Hours (SLT-STL, SLT-Other) (Rs.) - Voice calls charges for Active hours\n",
    "- VOICE_Charge_Leisure_Hours (SLT-STL, SLT-Other) (Rs.) - Voice calls charges for Leisure hours\n",
    "- VOICE_Free_Minutes - Free voice call minutes given per package\n",
    "- VOICE_Telehelth_Insurance_Benefits (Rs.) - Awarded Benefit at fullfilment for SLT Telehealth Insurance packages\n",
    "- VOICE_Tele_Life_Insurance_Benefits (Rs.) - Awarded Benefit at fullfilment for SLT Tele Life Insurance packages"
   ]
  },
  {
   "cell_type": "markdown",
   "metadata": {},
   "source": [
    "### Columns- PEOTV\n",
    "- PEOTV_No_of_Channels - No of channels in a PEO TV package"
   ]
  },
  {
   "cell_type": "code",
   "execution_count": 159,
   "metadata": {},
   "outputs": [],
   "source": [
    "# product catalog\n",
    "product_catalog = pd.read_csv(\"data/product_catalog/Product_Profile_CSv.csv\")"
   ]
  },
  {
   "cell_type": "markdown",
   "metadata": {},
   "source": [
    "## Merging Actual Product Information Datasets"
   ]
  },
  {
   "cell_type": "markdown",
   "metadata": {},
   "source": [
    "### VAS Info dataset for merging"
   ]
  },
  {
   "cell_type": "code",
   "execution_count": 160,
   "metadata": {},
   "outputs": [],
   "source": [
    "vas_all_df = pd.read_csv(\"data/product_catalog/VAS_Products_Info.csv\")"
   ]
  },
  {
   "cell_type": "code",
   "execution_count": 161,
   "metadata": {},
   "outputs": [],
   "source": [
    "vas_all_df.drop([\"Unnamed: 0\"],axis=1,inplace=True)"
   ]
  },
  {
   "cell_type": "code",
   "execution_count": 162,
   "metadata": {},
   "outputs": [
    {
     "data": {
      "text/plain": [
       "array(['Voice', 'Other', 'BB', 'PeoTV'], dtype=object)"
      ]
     },
     "execution_count": 162,
     "metadata": {},
     "output_type": "execute_result"
    }
   ],
   "source": [
    "vas_all_df[\"VAS_Type\"].unique()"
   ]
  },
  {
   "cell_type": "code",
   "execution_count": 163,
   "metadata": {},
   "outputs": [],
   "source": [
    "def update_vas_ype(vas):\n",
    "    if not isinstance(vas, float):\n",
    "        if \"Voice\" in vas:\n",
    "            return \"VOICE\"\n",
    "        if \"Other\" in vas:\n",
    "            return \"OTHER\"\n",
    "        if \"PeoTV\" in vas:\n",
    "            return \"PEOTV\"\n",
    "        else:\n",
    "            return vas"
   ]
  },
  {
   "cell_type": "code",
   "execution_count": 164,
   "metadata": {},
   "outputs": [],
   "source": [
    "vas_all_df[\"VAS_Type\"] = vas_all_df[\"VAS_Type\"].apply(lambda x: update_vas_ype(x))"
   ]
  },
  {
   "cell_type": "code",
   "execution_count": 165,
   "metadata": {},
   "outputs": [
    {
     "data": {
      "text/plain": [
       "array(['VOICE', 'OTHER', 'BB', 'PEOTV'], dtype=object)"
      ]
     },
     "execution_count": 165,
     "metadata": {},
     "output_type": "execute_result"
    }
   ],
   "source": [
    "vas_all_df[\"VAS_Type\"].unique()"
   ]
  },
  {
   "cell_type": "code",
   "execution_count": 166,
   "metadata": {},
   "outputs": [],
   "source": [
    "vas_all_df.rename(columns={\"VAS\":\"Product_ID\",\"VAS_Type\":\"Base_Type\",\"Rental\":\"Monthly_Rental\",\"One_Time_Charge\":\"Price\"},inplace=True)"
   ]
  },
  {
   "cell_type": "code",
   "execution_count": 167,
   "metadata": {},
   "outputs": [
    {
     "data": {
      "text/plain": [
       "array(['V-Basic4_TeleLife', 'V-Basic2_TeleLife', 'C_Sisu Connect',\n",
       "       'P-Basic4_Tele Life', 'C-Basic1_Tele Life', 'P-Plus4_Tele Life',\n",
       "       'V-Plus4_TeleLife', 'P-Basic2_Tele Life', 'P_Sisu Connect',\n",
       "       'V_E-channeling Subscription', 'V_Detailed Bill',\n",
       "       'P_Call Transfer Three way', 'P_Call holding',\n",
       "       'P_Outgoing Call Memory', 'P_Call back on busy',\n",
       "       'P_Call Forwarding Offline', 'P_Incoming Call Transfer',\n",
       "       'P_Megaline New Connection',\n",
       "       'P_Additional features -Double VAS Bundle',\n",
       "       'P_Call Forwarding by time', 'P_Incoming Call Memory',\n",
       "       'P_Anonymous call barring', 'P_Call park',\n",
       "       'P_CLI presentation in call waiting', 'V_One-Time Detailed Bill',\n",
       "       'P-Plus1_Tele Life', 'BB_SLT Film Hall Service',\n",
       "       'V_Cordeless Phone - Installment', 'V_Basic Phone',\n",
       "       'V_Referral offer Discount', 'V_Short Message Service',\n",
       "       'V_Call Forwarding - No Answer', 'V_Call Forwarding - On Busy',\n",
       "       'AB_Additional Distance', 'V_Sisu Connect',\n",
       "       'V_Miscellaneous Service', 'V_Voice Startup Fee',\n",
       "       'AB_Referral offer Discount', 'V-Plus1_TeleLife',\n",
       "       'AB_Citylink Loyalty Rewards', 'E_Referral offer Discount',\n",
       "       'V_Double VAS Bundle', 'AB_Relocation', 'OTT_SLT PeoTV Go',\n",
       "       'BB_PeoTVGO Revenue code', 'V_E-channeling Registration',\n",
       "       'M_Activation Charge', 'AB_Megaline Startup', 'AB_Rental Free',\n",
       "       'V_Call Barring - Outgoing', 'V_Call Forwarding - Immediate',\n",
       "       'V_Call Barring', 'V_Telehealth',\n",
       "       'P_Removal of Int & Parallel Ext', 'P_Megaline',\n",
       "       'DQ_Contact Details', 'P_One-Time Detailed Bill', 'P_SLT CLI',\n",
       "       'P_IDD', 'V_Railway Registration', 'V_Triple VAS Bundle',\n",
       "       'BB_Detailed Reports ', 'Package Rental Through ADSL',\n",
       "       'V_Hotline-Immediate', 'V_Caller Line Identification',\n",
       "       'V_Selective call acceptance', 'E_PeoTV_Package Transfer',\n",
       "       'V_Do not disturb service', 'V_Complete call on no response',\n",
       "       'P-Basic1_Tele Life', 'V_Secretary service',\n",
       "       'V_Call forwarding selective', 'V_Selective call rejection',\n",
       "       'V_Caller name identificationPresentation',\n",
       "       'V_Caller name sending', 'V_Password call barring (secret code)',\n",
       "       'PEO TV GO_OTT_A-la carte channels', 'V_Basic Phone Installment',\n",
       "       'E_PeoTV Initiation', 'E_TSTV', 'V_Installment',\n",
       "       'V_Call Transfer Three way', 'E_Video on Demand',\n",
       "       'V_Abbreviated Dialing', 'V_Hotline-Time Delayed',\n",
       "       'V_Call Forwarding by time', 'V_Single VAS Bundle',\n",
       "       'V_Call holding', 'V_Absentee service', 'PeoTVGo_Channel Package',\n",
       "       'V_Hotline Service', 'V_Selective call waiting',\n",
       "       'V_Call Forwarding', 'V_Call Forwarding Offline', 'V_Call Waiting',\n",
       "       'V_CLI presentation in call waiting', 'V_DQ Contact Details',\n",
       "       'V_SLT CLI', 'AB_Service Vacation', 'E_SLT PeoTV Service',\n",
       "       'V_Anonymous call barring', 'V_Call park',\n",
       "       'AB_Fiber Access Bearer', 'V_Outgoing Call Memory',\n",
       "       'V_Incoming Call Memory', 'V_Call Forwarding-On Busy',\n",
       "       'V_Call back on busy', 'AB_Megaline',\n",
       "       'V_Call Forwarding-Immediate', 'V_Call Forwarding-No Answer',\n",
       "       'AB_Parallel line Installation', 'V_Incoming Call Transfer',\n",
       "       'V_IDD', 'BB_SLT BroadBand Service', 'AB_Copper Access Bearer',\n",
       "       'BB_PeoTVGO', 'V_SLT Voice Service', 'BB_Personal Storage',\n",
       "       'AB_WireLess Access', 'V-Basic1_TeleLife', 'BB_Messenger Bundle',\n",
       "       'BB_ Entertainment Unlimited', 'BB_YouTube Bundle', 'Edu Lite',\n",
       "       'Meet Max', 'Meet Lite', 'BB Personal Storage',\n",
       "       'BB_Report Subscription Charge'], dtype=object)"
      ]
     },
     "execution_count": 167,
     "metadata": {},
     "output_type": "execute_result"
    }
   ],
   "source": [
    "vas_all_df[\"Product_ID\"].unique()"
   ]
  },
  {
   "cell_type": "code",
   "execution_count": 168,
   "metadata": {},
   "outputs": [
    {
     "name": "stdout",
     "output_type": "stream",
     "text": [
      "<class 'pandas.core.frame.DataFrame'>\n",
      "RangeIndex: 128 entries, 0 to 127\n",
      "Data columns (total 4 columns):\n",
      " #   Column          Non-Null Count  Dtype  \n",
      "---  ------          --------------  -----  \n",
      " 0   Product_ID      128 non-null    object \n",
      " 1   Monthly_Rental  26 non-null     float64\n",
      " 2   Price           3 non-null      float64\n",
      " 3   Base_Type       128 non-null    object \n",
      "dtypes: float64(2), object(2)\n",
      "memory usage: 4.1+ KB\n"
     ]
    }
   ],
   "source": [
    "vas_all_df.info()"
   ]
  },
  {
   "cell_type": "markdown",
   "metadata": {},
   "source": [
    "### Products from BSS merging"
   ]
  },
  {
   "cell_type": "code",
   "execution_count": 169,
   "metadata": {},
   "outputs": [],
   "source": [
    "products_bss_df = pd.read_csv(\"data/product_catalog/Product_info_from_BSS.csv\")"
   ]
  },
  {
   "cell_type": "code",
   "execution_count": 170,
   "metadata": {},
   "outputs": [],
   "source": [
    "products_bss_df.drop([\"Unnamed: 0\"],axis=1,inplace=True)"
   ]
  },
  {
   "cell_type": "code",
   "execution_count": 171,
   "metadata": {},
   "outputs": [],
   "source": [
    "def update_cat(cat):\n",
    "    if not isinstance(cat, float):\n",
    "        if \"Single Play-Voice\" in cat:\n",
    "            return \"SINGLE_PLAY\"\n",
    "        if \"Triple Play\" in cat:\n",
    "            return \"TRIPLE_PLAY\"\n",
    "        if \"Double Play\" in cat:\n",
    "            return \"DOUBLE_PLAY\""
   ]
  },
  {
   "cell_type": "code",
   "execution_count": 172,
   "metadata": {},
   "outputs": [],
   "source": [
    "products_bss_df[\"CATEGORY\"] = products_bss_df[\"CATEGORY\"].apply(lambda x: update_cat(x))"
   ]
  },
  {
   "cell_type": "code",
   "execution_count": 173,
   "metadata": {},
   "outputs": [],
   "source": [
    "products_bss_df.drop([\"PRODUCT_ID.hash\",\"TARIFF_ID.hash\",\"CATEGORY_DETAILS\"],axis=1,inplace=True)"
   ]
  },
  {
   "cell_type": "code",
   "execution_count": 174,
   "metadata": {},
   "outputs": [],
   "source": [
    "products_bss_df.rename(columns={\"PRODUCT_NAME\":\"Product_ID\",\"CATEGORY\":\"Subscription_Type\",\"MEDIUM\":\"Transfer_Medium\"}, inplace=True)"
   ]
  },
  {
   "cell_type": "code",
   "execution_count": 175,
   "metadata": {},
   "outputs": [
    {
     "data": {
      "text/plain": [
       "array([nan, 'V-Plus4_TeleLife', 'V_E-channeling Subscription',\n",
       "       'V-Basic2_TeleLife', 'V-Basic4_TeleLife', 'V-Basic1_TeleLife',\n",
       "       'V_Sisu Connect', 'V_Telehealth', 'V-Plus1_TeleLife',\n",
       "       'V_E-channeling Registration', 'BB_ Entertainment Unlimited',\n",
       "       'OTT_SLT PeoTV Go', 'AB_WireLess Access',\n",
       "       'BB_SLT Film Hall Service', 'BB_Detailed Reports ',\n",
       "       'AB_Fiber Access Bearer', 'BB_PeoTVGO', 'BB_Extra GB',\n",
       "       'BB_SLT BroadBand Service', 'BB_Personal Storage',\n",
       "       'E_SLT PeoTV Service', 'V_SLT Voice Service',\n",
       "       'AB_Copper Access Bearer'], dtype=object)"
      ]
     },
     "execution_count": 175,
     "metadata": {},
     "output_type": "execute_result"
    }
   ],
   "source": [
    "products_bss_df[\"Product_ID\"].unique()"
   ]
  },
  {
   "cell_type": "code",
   "execution_count": 176,
   "metadata": {},
   "outputs": [
    {
     "name": "stdout",
     "output_type": "stream",
     "text": [
      "<class 'pandas.core.frame.DataFrame'>\n",
      "RangeIndex: 23 entries, 0 to 22\n",
      "Data columns (total 6 columns):\n",
      " #   Column             Non-Null Count  Dtype  \n",
      "---  ------             --------------  -----  \n",
      " 0   Product_ID         22 non-null     object \n",
      " 1   Transfer_Medium    19 non-null     object \n",
      " 2   Subscription_Type  17 non-null     object \n",
      " 3   TARIFF_NAME        22 non-null     object \n",
      " 4   TARIFF_DESC        22 non-null     object \n",
      " 5   Monthly_Rental     10 non-null     float64\n",
      "dtypes: float64(1), object(5)\n",
      "memory usage: 1.2+ KB\n"
     ]
    }
   ],
   "source": [
    "products_bss_df.info()"
   ]
  },
  {
   "cell_type": "code",
   "execution_count": null,
   "metadata": {},
   "outputs": [],
   "source": []
  },
  {
   "cell_type": "markdown",
   "metadata": {},
   "source": [
    "### Meging DF to product catalog"
   ]
  },
  {
   "cell_type": "code",
   "execution_count": 177,
   "metadata": {},
   "outputs": [],
   "source": [
    "final_product_catalog = pd.concat([product_catalog,vas_all_df,products_bss_df], axis=0, ignore_index=True)"
   ]
  },
  {
   "cell_type": "code",
   "execution_count": 178,
   "metadata": {},
   "outputs": [],
   "source": [
    "final_product_catalog.drop_duplicates([\"Product_ID\"],inplace=True,keep=\"last\")"
   ]
  },
  {
   "cell_type": "code",
   "execution_count": 179,
   "metadata": {},
   "outputs": [
    {
     "name": "stdout",
     "output_type": "stream",
     "text": [
      "<class 'pandas.core.frame.DataFrame'>\n",
      "Int64Index: 264 entries, 0 to 392\n",
      "Data columns (total 45 columns):\n",
      " #   Column                                 Non-Null Count  Dtype  \n",
      "---  ------                                 --------------  -----  \n",
      " 0   Product_ID                             263 non-null    object \n",
      " 1   Base_Type                              241 non-null    object \n",
      " 2   Pricing_Type                           134 non-null    object \n",
      " 3   Package_Type                           134 non-null    object \n",
      " 4   VAS                                    134 non-null    object \n",
      " 5   Title                                  134 non-null    object \n",
      " 6   Description                            47 non-null     object \n",
      " 7   BB_Data_Standard                       43 non-null     float64\n",
      " 8   BB_Data_Free                           43 non-null     object \n",
      " 9   BB_Data_Anytime                        32 non-null     float64\n",
      " 10  BB_Data_Unlimited                      11 non-null     object \n",
      " 11  BB_Connection_Type                     86 non-null     object \n",
      " 12  BB_Connection_Speed                    89 non-null     object \n",
      " 13  Included_Packages                      3 non-null      object \n",
      " 14  Price                                  133 non-null    object \n",
      " 15  Monthly_Rental                         141 non-null    object \n",
      " 16  VOICE_Home_SLT_Instrument_Rental       3 non-null      float64\n",
      " 17  VOICE_Home_Customer_Instrument_Rental  3 non-null      float64\n",
      " 18  VOICE_Charge_Active_Hours              6 non-null      object \n",
      " 19  VOICE_Charge_Leisure_Hours             6 non-null      object \n",
      " 20  VOICE_Free_Minutes                     3 non-null      object \n",
      " 21  VOICE_Telehelth_Insurance_Benefits     0 non-null      float64\n",
      " 22  VOICE_Tele_Life_Insurance_Benefits     3 non-null      float64\n",
      " 23  PEOTV_No_of_Channels                   8 non-null      float64\n",
      " 24  PEOTV_Foreign_Channels                 8 non-null      float64\n",
      " 25  PEOTV_Local_Channels                   8 non-null      float64\n",
      " 26  PEOTV_Movie_Channels                   8 non-null      float64\n",
      " 27  PEOTV_Kids_Channels                    8 non-null      float64\n",
      " 28  PEOTV_Religious_Channels               8 non-null      float64\n",
      " 29  PEOTV_Tamil_Channels                   8 non-null      float64\n",
      " 30  PEOTV_Educational_Channels             8 non-null      float64\n",
      " 31  PEOTV_Music_Channels                   8 non-null      float64\n",
      " 32  PEOTV_Sports_Channels                  8 non-null      float64\n",
      " 33  PEOTV_News_Channels                    8 non-null      float64\n",
      " 34  PEOTV_HD_Pack                          22 non-null     object \n",
      " 35  Subscription_Type                      151 non-null    object \n",
      " 36  Minimum_Subscription_Period            6 non-null      float64\n",
      " 37  Recidence_Type                         134 non-null    object \n",
      " 38  Tax_Status                             131 non-null    object \n",
      " 39  Conditions                             131 non-null    object \n",
      " 40  Available_Regions                      0 non-null      float64\n",
      " 41  Dependent_Packages                     0 non-null      object \n",
      " 42  Transfer_Medium                        19 non-null     object \n",
      " 43  TARIFF_NAME                            22 non-null     object \n",
      " 44  TARIFF_DESC                            22 non-null     object \n",
      "dtypes: float64(19), object(26)\n",
      "memory usage: 94.9+ KB\n"
     ]
    }
   ],
   "source": [
    "final_product_catalog.info()"
   ]
  },
  {
   "cell_type": "code",
   "execution_count": 155,
   "metadata": {},
   "outputs": [
    {
     "data": {
      "text/html": [
       "<div>\n",
       "<style scoped>\n",
       "    .dataframe tbody tr th:only-of-type {\n",
       "        vertical-align: middle;\n",
       "    }\n",
       "\n",
       "    .dataframe tbody tr th {\n",
       "        vertical-align: top;\n",
       "    }\n",
       "\n",
       "    .dataframe thead th {\n",
       "        text-align: right;\n",
       "    }\n",
       "</style>\n",
       "<table border=\"1\" class=\"dataframe\">\n",
       "  <thead>\n",
       "    <tr style=\"text-align: right;\">\n",
       "      <th></th>\n",
       "      <th>Product_ID</th>\n",
       "      <th>Base_Type</th>\n",
       "      <th>Pricing_Type</th>\n",
       "      <th>Package_Type</th>\n",
       "      <th>VAS</th>\n",
       "      <th>Title</th>\n",
       "      <th>Description</th>\n",
       "      <th>BB_Data_Standard</th>\n",
       "      <th>BB_Data_Free</th>\n",
       "      <th>BB_Data_Anytime</th>\n",
       "      <th>...</th>\n",
       "      <th>Subscription_Type</th>\n",
       "      <th>Minimum_Subscription_Period</th>\n",
       "      <th>Recidence_Type</th>\n",
       "      <th>Tax_Status</th>\n",
       "      <th>Conditions</th>\n",
       "      <th>Available_Regions</th>\n",
       "      <th>Dependent_Packages</th>\n",
       "      <th>Transfer_Medium</th>\n",
       "      <th>TARIFF_NAME</th>\n",
       "      <th>TARIFF_DESC</th>\n",
       "    </tr>\n",
       "  </thead>\n",
       "  <tbody>\n",
       "    <tr>\n",
       "      <th>0</th>\n",
       "      <td>BB_Higher_Education</td>\n",
       "      <td>BB</td>\n",
       "      <td>PAID</td>\n",
       "      <td>ADSL</td>\n",
       "      <td>None</td>\n",
       "      <td>HIGHER EDUCATION</td>\n",
       "      <td>NaN</td>\n",
       "      <td>4.0</td>\n",
       "      <td>6</td>\n",
       "      <td>NaN</td>\n",
       "      <td>...</td>\n",
       "      <td>DOUBLE_PLAY, TRIPLE_PLAY</td>\n",
       "      <td>NaN</td>\n",
       "      <td>Home</td>\n",
       "      <td>EXCLUDED</td>\n",
       "      <td>Speeds may vary depending on the line distance...</td>\n",
       "      <td>NaN</td>\n",
       "      <td>NaN</td>\n",
       "      <td>NaN</td>\n",
       "      <td>NaN</td>\n",
       "      <td>NaN</td>\n",
       "    </tr>\n",
       "    <tr>\n",
       "      <th>1</th>\n",
       "      <td>BB_Web_Lite</td>\n",
       "      <td>BB</td>\n",
       "      <td>PAID</td>\n",
       "      <td>ADSL</td>\n",
       "      <td>None</td>\n",
       "      <td>WEB LITE</td>\n",
       "      <td>NaN</td>\n",
       "      <td>6.0</td>\n",
       "      <td>9</td>\n",
       "      <td>NaN</td>\n",
       "      <td>...</td>\n",
       "      <td>DOUBLE_PLAY, TRIPLE_PLAY</td>\n",
       "      <td>NaN</td>\n",
       "      <td>Home</td>\n",
       "      <td>EXCLUDED</td>\n",
       "      <td>Speeds may vary depending on the line distance...</td>\n",
       "      <td>NaN</td>\n",
       "      <td>NaN</td>\n",
       "      <td>NaN</td>\n",
       "      <td>NaN</td>\n",
       "      <td>NaN</td>\n",
       "    </tr>\n",
       "    <tr>\n",
       "      <th>2</th>\n",
       "      <td>BB_Entree</td>\n",
       "      <td>BB</td>\n",
       "      <td>PAID</td>\n",
       "      <td>ADSL</td>\n",
       "      <td>None</td>\n",
       "      <td>ENTREE</td>\n",
       "      <td>NaN</td>\n",
       "      <td>NaN</td>\n",
       "      <td>NaN</td>\n",
       "      <td>7.0</td>\n",
       "      <td>...</td>\n",
       "      <td>DOUBLE_PLAY, TRIPLE_PLAY</td>\n",
       "      <td>NaN</td>\n",
       "      <td>Home</td>\n",
       "      <td>EXCLUDED</td>\n",
       "      <td>Speeds may vary depending on the line distance...</td>\n",
       "      <td>NaN</td>\n",
       "      <td>NaN</td>\n",
       "      <td>NaN</td>\n",
       "      <td>NaN</td>\n",
       "      <td>NaN</td>\n",
       "    </tr>\n",
       "    <tr>\n",
       "      <th>3</th>\n",
       "      <td>BB_Web_Starter_4G</td>\n",
       "      <td>BB</td>\n",
       "      <td>PAID</td>\n",
       "      <td>4G</td>\n",
       "      <td>None</td>\n",
       "      <td>WEB STARTER 4G</td>\n",
       "      <td>NaN</td>\n",
       "      <td>11.0</td>\n",
       "      <td>17</td>\n",
       "      <td>NaN</td>\n",
       "      <td>...</td>\n",
       "      <td>DOUBLE_PLAY, TRIPLE_PLAY</td>\n",
       "      <td>NaN</td>\n",
       "      <td>Home</td>\n",
       "      <td>EXCLUDED</td>\n",
       "      <td>Download and upload speed will be reduced to 6...</td>\n",
       "      <td>NaN</td>\n",
       "      <td>NaN</td>\n",
       "      <td>NaN</td>\n",
       "      <td>NaN</td>\n",
       "      <td>NaN</td>\n",
       "    </tr>\n",
       "    <tr>\n",
       "      <th>4</th>\n",
       "      <td>BB_Web_Starter_ADSL</td>\n",
       "      <td>BB</td>\n",
       "      <td>PAID</td>\n",
       "      <td>ADSL</td>\n",
       "      <td>None</td>\n",
       "      <td>WEB STARTER ADSL</td>\n",
       "      <td>NaN</td>\n",
       "      <td>11.0</td>\n",
       "      <td>17</td>\n",
       "      <td>NaN</td>\n",
       "      <td>...</td>\n",
       "      <td>DOUBLE_PLAY, TRIPLE_PLAY</td>\n",
       "      <td>NaN</td>\n",
       "      <td>Home</td>\n",
       "      <td>EXCLUDED</td>\n",
       "      <td>Speeds may vary depending on the line distance...</td>\n",
       "      <td>NaN</td>\n",
       "      <td>NaN</td>\n",
       "      <td>NaN</td>\n",
       "      <td>NaN</td>\n",
       "      <td>NaN</td>\n",
       "    </tr>\n",
       "    <tr>\n",
       "      <th>...</th>\n",
       "      <td>...</td>\n",
       "      <td>...</td>\n",
       "      <td>...</td>\n",
       "      <td>...</td>\n",
       "      <td>...</td>\n",
       "      <td>...</td>\n",
       "      <td>...</td>\n",
       "      <td>...</td>\n",
       "      <td>...</td>\n",
       "      <td>...</td>\n",
       "      <td>...</td>\n",
       "      <td>...</td>\n",
       "      <td>...</td>\n",
       "      <td>...</td>\n",
       "      <td>...</td>\n",
       "      <td>...</td>\n",
       "      <td>...</td>\n",
       "      <td>...</td>\n",
       "      <td>...</td>\n",
       "      <td>...</td>\n",
       "      <td>...</td>\n",
       "    </tr>\n",
       "    <tr>\n",
       "      <th>388</th>\n",
       "      <td>BB_SLT BroadBand Service</td>\n",
       "      <td>NaN</td>\n",
       "      <td>NaN</td>\n",
       "      <td>NaN</td>\n",
       "      <td>NaN</td>\n",
       "      <td>NaN</td>\n",
       "      <td>NaN</td>\n",
       "      <td>NaN</td>\n",
       "      <td>NaN</td>\n",
       "      <td>NaN</td>\n",
       "      <td>...</td>\n",
       "      <td>DOUBLE_PLAY</td>\n",
       "      <td>NaN</td>\n",
       "      <td>NaN</td>\n",
       "      <td>NaN</td>\n",
       "      <td>NaN</td>\n",
       "      <td>NaN</td>\n",
       "      <td>NaN</td>\n",
       "      <td>MC</td>\n",
       "      <td>Entree</td>\n",
       "      <td>Entrée</td>\n",
       "    </tr>\n",
       "    <tr>\n",
       "      <th>389</th>\n",
       "      <td>BB_Personal Storage</td>\n",
       "      <td>NaN</td>\n",
       "      <td>NaN</td>\n",
       "      <td>NaN</td>\n",
       "      <td>NaN</td>\n",
       "      <td>NaN</td>\n",
       "      <td>NaN</td>\n",
       "      <td>NaN</td>\n",
       "      <td>NaN</td>\n",
       "      <td>NaN</td>\n",
       "      <td>...</td>\n",
       "      <td>DOUBLE_PLAY</td>\n",
       "      <td>NaN</td>\n",
       "      <td>NaN</td>\n",
       "      <td>NaN</td>\n",
       "      <td>NaN</td>\n",
       "      <td>NaN</td>\n",
       "      <td>NaN</td>\n",
       "      <td>MC</td>\n",
       "      <td>BB Storage_Charge</td>\n",
       "      <td>BB Storage_Charge</td>\n",
       "    </tr>\n",
       "    <tr>\n",
       "      <th>390</th>\n",
       "      <td>E_SLT PeoTV Service</td>\n",
       "      <td>NaN</td>\n",
       "      <td>NaN</td>\n",
       "      <td>NaN</td>\n",
       "      <td>NaN</td>\n",
       "      <td>NaN</td>\n",
       "      <td>NaN</td>\n",
       "      <td>NaN</td>\n",
       "      <td>NaN</td>\n",
       "      <td>NaN</td>\n",
       "      <td>...</td>\n",
       "      <td>None</td>\n",
       "      <td>NaN</td>\n",
       "      <td>NaN</td>\n",
       "      <td>NaN</td>\n",
       "      <td>NaN</td>\n",
       "      <td>NaN</td>\n",
       "      <td>NaN</td>\n",
       "      <td>NaN</td>\n",
       "      <td>Cu_Peo Silver</td>\n",
       "      <td>Cu_Peo Silver</td>\n",
       "    </tr>\n",
       "    <tr>\n",
       "      <th>391</th>\n",
       "      <td>V_SLT Voice Service</td>\n",
       "      <td>NaN</td>\n",
       "      <td>NaN</td>\n",
       "      <td>NaN</td>\n",
       "      <td>NaN</td>\n",
       "      <td>NaN</td>\n",
       "      <td>NaN</td>\n",
       "      <td>NaN</td>\n",
       "      <td>NaN</td>\n",
       "      <td>NaN</td>\n",
       "      <td>...</td>\n",
       "      <td>None</td>\n",
       "      <td>NaN</td>\n",
       "      <td>NaN</td>\n",
       "      <td>NaN</td>\n",
       "      <td>NaN</td>\n",
       "      <td>NaN</td>\n",
       "      <td>NaN</td>\n",
       "      <td>NaN</td>\n",
       "      <td>z Sales End_Add. Line with SLT Phone</td>\n",
       "      <td>Additional Line with SLT Phone</td>\n",
       "    </tr>\n",
       "    <tr>\n",
       "      <th>392</th>\n",
       "      <td>AB_Copper Access Bearer</td>\n",
       "      <td>NaN</td>\n",
       "      <td>NaN</td>\n",
       "      <td>NaN</td>\n",
       "      <td>NaN</td>\n",
       "      <td>NaN</td>\n",
       "      <td>NaN</td>\n",
       "      <td>NaN</td>\n",
       "      <td>NaN</td>\n",
       "      <td>NaN</td>\n",
       "      <td>...</td>\n",
       "      <td>None</td>\n",
       "      <td>NaN</td>\n",
       "      <td>NaN</td>\n",
       "      <td>NaN</td>\n",
       "      <td>NaN</td>\n",
       "      <td>NaN</td>\n",
       "      <td>NaN</td>\n",
       "      <td>NaN</td>\n",
       "      <td>AB_Copper Access Bearer</td>\n",
       "      <td>AB_Copper Access Bearer</td>\n",
       "    </tr>\n",
       "  </tbody>\n",
       "</table>\n",
       "<p>264 rows × 45 columns</p>\n",
       "</div>"
      ],
      "text/plain": [
       "                   Product_ID Base_Type Pricing_Type Package_Type   VAS  \\\n",
       "0         BB_Higher_Education        BB         PAID         ADSL  None   \n",
       "1                 BB_Web_Lite        BB         PAID         ADSL  None   \n",
       "2                   BB_Entree        BB         PAID         ADSL  None   \n",
       "3           BB_Web_Starter_4G        BB         PAID           4G  None   \n",
       "4         BB_Web_Starter_ADSL        BB         PAID         ADSL  None   \n",
       "..                        ...       ...          ...          ...   ...   \n",
       "388  BB_SLT BroadBand Service       NaN          NaN          NaN   NaN   \n",
       "389       BB_Personal Storage       NaN          NaN          NaN   NaN   \n",
       "390       E_SLT PeoTV Service       NaN          NaN          NaN   NaN   \n",
       "391       V_SLT Voice Service       NaN          NaN          NaN   NaN   \n",
       "392   AB_Copper Access Bearer       NaN          NaN          NaN   NaN   \n",
       "\n",
       "                Title Description  BB_Data_Standard BB_Data_Free  \\\n",
       "0    HIGHER EDUCATION         NaN               4.0            6   \n",
       "1            WEB LITE         NaN               6.0            9   \n",
       "2              ENTREE         NaN               NaN          NaN   \n",
       "3      WEB STARTER 4G         NaN              11.0           17   \n",
       "4    WEB STARTER ADSL         NaN              11.0           17   \n",
       "..                ...         ...               ...          ...   \n",
       "388               NaN         NaN               NaN          NaN   \n",
       "389               NaN         NaN               NaN          NaN   \n",
       "390               NaN         NaN               NaN          NaN   \n",
       "391               NaN         NaN               NaN          NaN   \n",
       "392               NaN         NaN               NaN          NaN   \n",
       "\n",
       "     BB_Data_Anytime  ...         Subscription_Type  \\\n",
       "0                NaN  ...  DOUBLE_PLAY, TRIPLE_PLAY   \n",
       "1                NaN  ...  DOUBLE_PLAY, TRIPLE_PLAY   \n",
       "2                7.0  ...  DOUBLE_PLAY, TRIPLE_PLAY   \n",
       "3                NaN  ...  DOUBLE_PLAY, TRIPLE_PLAY   \n",
       "4                NaN  ...  DOUBLE_PLAY, TRIPLE_PLAY   \n",
       "..               ...  ...                       ...   \n",
       "388              NaN  ...               DOUBLE_PLAY   \n",
       "389              NaN  ...               DOUBLE_PLAY   \n",
       "390              NaN  ...                      None   \n",
       "391              NaN  ...                      None   \n",
       "392              NaN  ...                      None   \n",
       "\n",
       "    Minimum_Subscription_Period Recidence_Type Tax_Status  \\\n",
       "0                           NaN           Home   EXCLUDED   \n",
       "1                           NaN           Home   EXCLUDED   \n",
       "2                           NaN           Home   EXCLUDED   \n",
       "3                           NaN           Home   EXCLUDED   \n",
       "4                           NaN           Home   EXCLUDED   \n",
       "..                          ...            ...        ...   \n",
       "388                         NaN            NaN        NaN   \n",
       "389                         NaN            NaN        NaN   \n",
       "390                         NaN            NaN        NaN   \n",
       "391                         NaN            NaN        NaN   \n",
       "392                         NaN            NaN        NaN   \n",
       "\n",
       "                                            Conditions Available_Regions  \\\n",
       "0    Speeds may vary depending on the line distance...               NaN   \n",
       "1    Speeds may vary depending on the line distance...               NaN   \n",
       "2    Speeds may vary depending on the line distance...               NaN   \n",
       "3    Download and upload speed will be reduced to 6...               NaN   \n",
       "4    Speeds may vary depending on the line distance...               NaN   \n",
       "..                                                 ...               ...   \n",
       "388                                                NaN               NaN   \n",
       "389                                                NaN               NaN   \n",
       "390                                                NaN               NaN   \n",
       "391                                                NaN               NaN   \n",
       "392                                                NaN               NaN   \n",
       "\n",
       "     Dependent_Packages  Transfer_Medium  \\\n",
       "0                   NaN              NaN   \n",
       "1                   NaN              NaN   \n",
       "2                   NaN              NaN   \n",
       "3                   NaN              NaN   \n",
       "4                   NaN              NaN   \n",
       "..                  ...              ...   \n",
       "388                 NaN               MC   \n",
       "389                 NaN               MC   \n",
       "390                 NaN              NaN   \n",
       "391                 NaN              NaN   \n",
       "392                 NaN              NaN   \n",
       "\n",
       "                              TARIFF_NAME                     TARIFF_DESC  \n",
       "0                                     NaN                             NaN  \n",
       "1                                     NaN                             NaN  \n",
       "2                                     NaN                             NaN  \n",
       "3                                     NaN                             NaN  \n",
       "4                                     NaN                             NaN  \n",
       "..                                    ...                             ...  \n",
       "388                                Entree                          Entrée  \n",
       "389                     BB Storage_Charge               BB Storage_Charge  \n",
       "390                         Cu_Peo Silver                   Cu_Peo Silver  \n",
       "391  z Sales End_Add. Line with SLT Phone  Additional Line with SLT Phone  \n",
       "392               AB_Copper Access Bearer         AB_Copper Access Bearer  \n",
       "\n",
       "[264 rows x 45 columns]"
      ]
     },
     "execution_count": 155,
     "metadata": {},
     "output_type": "execute_result"
    }
   ],
   "source": [
    "final_product_catalog"
   ]
  },
  {
   "cell_type": "markdown",
   "metadata": {},
   "source": [
    "### Mark VAS Services"
   ]
  },
  {
   "cell_type": "code",
   "execution_count": 180,
   "metadata": {},
   "outputs": [],
   "source": [
    "original_list = final_product_catalog[\"Product_ID\"].unique()"
   ]
  },
  {
   "cell_type": "code",
   "execution_count": 181,
   "metadata": {},
   "outputs": [],
   "source": [
    "# other products list\n",
    "vas_list_df = pd.read_csv(\"data/product_catalog/VAS_Names_Only_List.csv\")\n",
    "vas_list = vas_list_df[\"VAS\"].unique()"
   ]
  },
  {
   "cell_type": "code",
   "execution_count": 182,
   "metadata": {},
   "outputs": [
    {
     "data": {
      "text/plain": [
       "['AB_Copper Access Bearer',\n",
       " 'BB_YouTube Bundle',\n",
       " 'E_PeoTV Initiation',\n",
       " 'P_Sisu Connect',\n",
       " 'P_Anonymous call barring',\n",
       " 'BB_ Entertainment Unlimited',\n",
       " 'AB_Fiber Access Bearer',\n",
       " 'OTT_SLT PeoTV Go',\n",
       " 'V_Caller Line Identification',\n",
       " 'P_IDD',\n",
       " 'P_Call Transfer Three way',\n",
       " 'V_Call Forwarding-On Busy',\n",
       " 'BB_PeoTVGO Revenue code',\n",
       " 'P-Basic4_Tele Life',\n",
       " 'Meet Max',\n",
       " 'V-Basic1_TeleLife',\n",
       " 'V_Anonymous call barring',\n",
       " 'V_Installment',\n",
       " 'PeoTVGo_Channel Package',\n",
       " 'Meet Lite',\n",
       " 'M_Activation Charge',\n",
       " 'BB_Report Subscription Charge',\n",
       " 'BB_Personal Storage',\n",
       " 'V-Basic4_TeleLife',\n",
       " 'V-Basic2_TeleLife',\n",
       " 'AB_Citylink Loyalty Rewards',\n",
       " 'V_Call holding',\n",
       " 'V_Single VAS Bundle',\n",
       " 'V_Absentee service',\n",
       " 'V_Call Forwarding - No Answer',\n",
       " 'PEO TV GO_OTT_A-la carte channels',\n",
       " 'V_Incoming Call Memory',\n",
       " 'V_Do not disturb service',\n",
       " 'V_One-Time Detailed Bill',\n",
       " 'P-Plus4_Tele Life',\n",
       " 'V_Password call barring (secret code)',\n",
       " 'BB Personal Storage',\n",
       " 'BB_Detailed Reports ',\n",
       " 'P_Outgoing Call Memory',\n",
       " 'V_Basic Phone Installment',\n",
       " 'V_Call Transfer Three way',\n",
       " 'V_Abbreviated Dialing',\n",
       " 'V_Railway Registration',\n",
       " 'V_Sisu Connect',\n",
       " 'V_Basic Phone',\n",
       " 'V_Hotline-Time Delayed',\n",
       " 'P_Call Forwarding Offline',\n",
       " 'V_Call Forwarding-No Answer',\n",
       " 'AB_Parallel line Installation',\n",
       " 'V_Call back on busy',\n",
       " 'V_Call Waiting',\n",
       " 'P_Call holding',\n",
       " 'V_Call Forwarding-Immediate',\n",
       " 'C_Sisu Connect',\n",
       " 'V_SLT Voice Service',\n",
       " 'AB_Megaline Startup',\n",
       " 'V_Call park',\n",
       " 'P_Call Forwarding by time',\n",
       " 'C-Basic1_Tele Life',\n",
       " 'P_One-Time Detailed Bill',\n",
       " 'BB_SLT Film Hall Service',\n",
       " 'E_TSTV',\n",
       " 'P_Incoming Call Memory',\n",
       " 'P_Megaline',\n",
       " 'V_Call Forwarding - On Busy',\n",
       " 'V_Incoming Call Transfer',\n",
       " 'V_Hotline-Immediate',\n",
       " 'V_SLT CLI',\n",
       " 'P_Additional features -Double VAS Bundle',\n",
       " 'E_Video on Demand',\n",
       " 'AB_Additional Distance',\n",
       " 'AB_Rental Free',\n",
       " 'V_Selective call acceptance',\n",
       " 'Edu Lite',\n",
       " 'P-Basic2_Tele Life',\n",
       " 'P_Call back on busy',\n",
       " 'V_Cordeless Phone - Installment',\n",
       " 'V_IDD',\n",
       " 'AB_Megaline',\n",
       " 'E_Referral offer Discount',\n",
       " 'V_Short Message Service',\n",
       " 'V_Selective call rejection',\n",
       " 'V_Hotline Service',\n",
       " 'V_Voice Startup Fee',\n",
       " 'BB_Messenger Bundle',\n",
       " 'V_Double VAS Bundle',\n",
       " 'V_Call Forwarding - Immediate',\n",
       " 'BB_SLT BroadBand Service',\n",
       " 'AB_Service Vacation',\n",
       " 'V_Triple VAS Bundle',\n",
       " 'P_CLI presentation in call waiting',\n",
       " 'V-Plus1_TeleLife',\n",
       " 'AB_Relocation',\n",
       " 'BB_PeoTVGO',\n",
       " 'Package Rental Through ADSL',\n",
       " 'P-Plus1_Tele Life',\n",
       " 'V_Caller name sending',\n",
       " 'V_Selective call waiting',\n",
       " 'V_Outgoing Call Memory',\n",
       " 'AB_Referral offer Discount',\n",
       " 'V_Secretary service',\n",
       " 'V_Telehealth',\n",
       " 'V_Call Forwarding Offline',\n",
       " 'V_Complete call on no response',\n",
       " 'P_Call park',\n",
       " 'P_Removal of Int & Parallel Ext',\n",
       " 'P_Incoming Call Transfer',\n",
       " 'V_Call Barring - Outgoing',\n",
       " 'V_CLI presentation in call waiting',\n",
       " 'V_E-channeling Registration',\n",
       " 'AB_WireLess Access',\n",
       " 'V_Referral offer Discount',\n",
       " 'V_E-channeling Subscription',\n",
       " 'V_Miscellaneous Service',\n",
       " 'E_PeoTV_Package Transfer',\n",
       " 'E_SLT PeoTV Service',\n",
       " 'V_Call Forwarding by time',\n",
       " 'V_Detailed Bill',\n",
       " 'P-Basic1_Tele Life',\n",
       " 'P_SLT CLI',\n",
       " 'V_Call forwarding selective',\n",
       " 'DQ_Contact Details',\n",
       " 'V_Caller name identificationPresentation',\n",
       " 'V_Call Forwarding',\n",
       " 'V-Plus4_TeleLife',\n",
       " 'P_Megaline New Connection',\n",
       " 'V_Call Barring',\n",
       " 'V_DQ Contact Details']"
      ]
     },
     "execution_count": 182,
     "metadata": {},
     "output_type": "execute_result"
    }
   ],
   "source": [
    "matches = list(set(original_list).intersection(set(vas_list)))\n",
    "matches"
   ]
  },
  {
   "cell_type": "code",
   "execution_count": 184,
   "metadata": {},
   "outputs": [],
   "source": [
    "def mark_vas(vas):\n",
    "    if not isinstance(vas, float):\n",
    "        for v in matches:\n",
    "            if v in vas:\n",
    "                return \"YES\""
   ]
  },
  {
   "cell_type": "code",
   "execution_count": 185,
   "metadata": {},
   "outputs": [],
   "source": [
    "final_product_catalog[\"VAS\"] = final_product_catalog[\"Product_ID\"].apply(lambda x: mark_vas(x))"
   ]
  },
  {
   "cell_type": "code",
   "execution_count": 186,
   "metadata": {},
   "outputs": [
    {
     "data": {
      "text/plain": [
       "YES    128\n",
       "Name: VAS, dtype: int64"
      ]
     },
     "execution_count": 186,
     "metadata": {},
     "output_type": "execute_result"
    }
   ],
   "source": [
    "final_product_catalog[\"VAS\"].value_counts()"
   ]
  },
  {
   "cell_type": "code",
   "execution_count": 187,
   "metadata": {},
   "outputs": [],
   "source": [
    "final_product_catalog.to_csv(\"data/product_catalog/Product_Profile_Finalised_CSV.csv\")"
   ]
  },
  {
   "cell_type": "code",
   "execution_count": null,
   "metadata": {},
   "outputs": [],
   "source": []
  }
 ],
 "metadata": {
  "kernelspec": {
   "display_name": "Python 3",
   "language": "python",
   "name": "python3"
  },
  "language_info": {
   "codemirror_mode": {
    "name": "ipython",
    "version": 3
   },
   "file_extension": ".py",
   "mimetype": "text/x-python",
   "name": "python",
   "nbconvert_exporter": "python",
   "pygments_lexer": "ipython3",
   "version": "3.8.5"
  }
 },
 "nbformat": 4,
 "nbformat_minor": 4
}
